{
 "cells": [
  {
   "cell_type": "markdown",
   "id": "80590ae6",
   "metadata": {
    "heading_collapsed": true
   },
   "source": [
    "# Información previa\n",
    "\n"
   ]
  },
  {
   "cell_type": "markdown",
   "id": "cb5cc9ef",
   "metadata": {
    "hidden": true
   },
   "source": [
    "## datos\n",
    "faltan en pollo 1010130 y 1010387\n",
    "\n",
    "\n",
    "## Diseño y esquema codigo"
   ]
  },
  {
   "cell_type": "markdown",
   "id": "17ae62ca",
   "metadata": {
    "heading_collapsed": true,
    "hidden": true
   },
   "source": [
    "## Apuntes Cod "
   ]
  },
  {
   "cell_type": "markdown",
   "id": "a2ec96bf",
   "metadata": {
    "hidden": true
   },
   "source": [
    "```{python}\n",
    "Data['Peso neto KG']=Data['Peso neto'].str.split('KG', expand=True)[[0]]\n",
    "Data.pop('Peso neto')\n",
    "Data['Cantidad Unidades CJ']=Data['Cantidad Unidades'].str.split('CJ', expand=True)[[0]]\n",
    "Data.pop('Cantidad Unidades')\n",
    "Data['Precio Unitario CLP / KG']=Data['Precio Unitario'].str.split('CLP / KG', expand=True)[[0]]\n",
    "\n",
    "\n",
    "\n",
    "    if(x[len(x)-3:]=='USD'):\n",
    "        x=x.split(' USD')[1]\n",
    "    elif(x[len(x)-3:]=='CLP'):\n",
    "        x=x.split(' CLP')[1]\n",
    "\n",
    "\n",
    "```"
   ]
  },
  {
   "cell_type": "markdown",
   "id": "1ed6a797",
   "metadata": {
    "heading_collapsed": true,
    "hidden": true
   },
   "source": [
    "## Este es un extracto del paper:\n"
   ]
  },
  {
   "cell_type": "markdown",
   "id": "cd62d767",
   "metadata": {
    "hidden": true
   },
   "source": [
    " \n",
    "\n",
    "\t\n",
    "Ventas pasadas con retraso  k, es decir, ventas diarias para el SKU considerado de los últimos k días (tw k : ventana de tiempo de tamaño k ).\n",
    "\n",
    "\t\n",
    "* Variables binarias para caracterizar días especiales, como:\n",
    "    * Pago , que caracteriza los días al final de cada mes cuando las personas reciben el pago mensual.\n",
    "    * Pago intermedio , que caracteriza los días al final de cada quincena en que las personas reciben dos pagos semanales.\n",
    "    * Antes de las vacaciones , caracterizando los días antes de las vacaciones.\n",
    "    * Vacaciones , que caracterizan las vacaciones.\n",
    "    * Independencia , que caracteriza los días de la independencia de Chile (18 y 19 de septiembre).\n",
    "    * Santa , caracterizando los días de la semana antes del este.\n",
    "    * Vacaciones , caracterizando los días que pertenecen al período de vacaciones de verano (enero y febrero).\n",
    "    * Verano , que caracteriza los días de verano (1 de octubre-31 de marzo).\t\n",
    "    * Año nuevo (1 de enero), que caracteriza el único día de cierre de supermercados en Chile.\n",
    "\t\n",
    "\t\n",
    "* Variables de precio:\n",
    "    * Precio A  =  precio original del SKU considerado en Economax.\n",
    "    * Precio B  =  (Precio A) / (Precio máximo en micro-mercado).\n",
    "    * Precio C  =  (Precio A) / (Precio mínimo en micro-mercado).\n",
    "\n",
    "\t\t\n",
    "Observación : Las variables “Precio máximo en micro-mercado” y “Precio mínimo en micro-mercado” son el precio máximo (mínimo) para un determinado SKU en el micro-mercado relevante y son proporcionados por una empresa de investigación de mercado.\n",
    "\t\t\n",
    "\t\n",
    "\n",
    "\t\n",
    " "
   ]
  },
  {
   "cell_type": "markdown",
   "id": "33f26efe",
   "metadata": {},
   "source": [
    "# Package Install & Open Data\n"
   ]
  },
  {
   "cell_type": "markdown",
   "id": "6dc45620",
   "metadata": {},
   "source": [
    "## Import"
   ]
  },
  {
   "cell_type": "markdown",
   "id": "3daa5668",
   "metadata": {},
   "source": [
    "### import general "
   ]
  },
  {
   "cell_type": "code",
   "execution_count": 1,
   "id": "82536652",
   "metadata": {},
   "outputs": [],
   "source": [
    "# =============================================================================\n",
    "# Importar paquetes y abrir Data\n",
    "# =============================================================================\n",
    "\n",
    "#gestion DF\n",
    "import pandas as pd\n",
    "\n",
    "#Funciones mat y matricicales\n",
    "import numpy as np\n",
    "\n",
    "#ploteo simple\n",
    "import matplotlib.pyplot as plt\n",
    "\n",
    "# Graficas bonitas\n",
    "from plotnine import *\n",
    "\n",
    "#para ajustar las fechas\n",
    "import datetime\n",
    "\n",
    "#para calcular el skew de un array() o list()\n",
    "from scipy.stats import skew \n",
    "\n",
    "#mode function\n",
    "import statistics \n",
    "\n",
    "from mizani.breaks import date_breaks\n",
    "from mizani.formatters import date_format"
   ]
  },
  {
   "cell_type": "code",
   "execution_count": 2,
   "id": "774b67f3",
   "metadata": {},
   "outputs": [],
   "source": [
    "from time import time"
   ]
  },
  {
   "cell_type": "markdown",
   "id": "16235866",
   "metadata": {},
   "source": [
    "### import and function "
   ]
  },
  {
   "cell_type": "code",
   "execution_count": 3,
   "id": "0bea17cb",
   "metadata": {},
   "outputs": [
    {
     "name": "stderr",
     "output_type": "stream",
     "text": [
      "Importing plotly failed. Interactive plots will not work.\n"
     ]
    }
   ],
   "source": [
    "\n",
    "import warnings\n",
    "import pandas as pd\n",
    "import matplotlib.pyplot as plt\n",
    "# prophet model \n",
    "from fbprophet import Prophet\n",
    "# prophet preformance\n",
    "from fbprophet.diagnostics import cross_validation\n",
    "from fbprophet.diagnostics import performance_metrics\n",
    "from fbprophet.plot import plot_cross_validation_metric\n",
    "\n",
    "# don't do this \n",
    "warnings.filterwarnings('ignore')\n",
    "# \"high resolution\"\n",
    "%config InlineBackend.figure_format = 'retina'"
   ]
  },
  {
   "cell_type": "markdown",
   "id": "9d9b6e0a",
   "metadata": {},
   "source": [
    "##  Data Facturación"
   ]
  },
  {
   "cell_type": "markdown",
   "id": "99b31bd0",
   "metadata": {},
   "source": [
    "Link de descarga de BW\n",
    "\n",
    "[08_06_21_Fact_CL_Mater_Canales_10_06_21](https://gestion.agrosuper.cl/irj/servlet/prt/portal/prtroot/pcd!3aportal_content!2fcom.sap.pct!2fplatform_add_ons!2fcom.sap.ip.bi!2fiViews!2fcom.sap.ip.bi.bex?BOOKMARK=4V7XT6V546W73QKC7BVTLKF4Y)"
   ]
  },
  {
   "cell_type": "markdown",
   "id": "8a6b61e3",
   "metadata": {},
   "source": [
    "### Selección de la zona de estudio "
   ]
  },
  {
   "cell_type": "code",
   "execution_count": 4,
   "id": "1ad8fa31",
   "metadata": {
    "scrolled": true
   },
   "outputs": [
    {
     "data": {
      "text/html": [
       "<div>\n",
       "<style scoped>\n",
       "    .dataframe tbody tr th:only-of-type {\n",
       "        vertical-align: middle;\n",
       "    }\n",
       "\n",
       "    .dataframe tbody tr th {\n",
       "        vertical-align: top;\n",
       "    }\n",
       "\n",
       "    .dataframe thead th {\n",
       "        text-align: right;\n",
       "    }\n",
       "</style>\n",
       "<table border=\"1\" class=\"dataframe\">\n",
       "  <thead>\n",
       "    <tr style=\"text-align: right;\">\n",
       "      <th></th>\n",
       "      <th>Sector</th>\n",
       "      <th>Material</th>\n",
       "      <th>Tipo de cliente</th>\n",
       "      <th>Zona de ventas</th>\n",
       "      <th>Zona de ventas.1</th>\n",
       "      <th>Oficina de Ventas Unifica</th>\n",
       "      <th>Oficina de Ventas Unifica.1</th>\n",
       "      <th>Mes</th>\n",
       "      <th>Año natural/Semana</th>\n",
       "      <th>Día natural</th>\n",
       "      <th>Día de la semana</th>\n",
       "      <th>Kilos Venta KG</th>\n",
       "      <th>Venta Neta</th>\n",
       "      <th>Precio Promedio</th>\n",
       "    </tr>\n",
       "  </thead>\n",
       "  <tbody>\n",
       "    <tr>\n",
       "      <th>0</th>\n",
       "      <td>Cerdo</td>\n",
       "      <td>1020253</td>\n",
       "      <td>Tradicional</td>\n",
       "      <td>Z001</td>\n",
       "      <td>Santiago</td>\n",
       "      <td>Huechuraba</td>\n",
       "      <td>T101</td>\n",
       "      <td>1</td>\n",
       "      <td>01.2019</td>\n",
       "      <td>02.01.2019</td>\n",
       "      <td>MI</td>\n",
       "      <td>36</td>\n",
       "      <td>81.788 CLP</td>\n",
       "      <td>2.250 CLP</td>\n",
       "    </tr>\n",
       "  </tbody>\n",
       "</table>\n",
       "</div>"
      ],
      "text/plain": [
       "  Sector Material Tipo de cliente Zona de ventas Zona de ventas.1  \\\n",
       "0  Cerdo  1020253     Tradicional           Z001         Santiago   \n",
       "\n",
       "  Oficina de Ventas Unifica Oficina de Ventas Unifica.1 Mes  \\\n",
       "0                Huechuraba                        T101   1   \n",
       "\n",
       "  Año natural/Semana Día natural Día de la semana Kilos Venta KG  Venta Neta  \\\n",
       "0            01.2019  02.01.2019               MI             36  81.788 CLP   \n",
       "\n",
       "  Precio Promedio  \n",
       "0       2.250 CLP  "
      ]
     },
     "execution_count": 4,
     "metadata": {},
     "output_type": "execute_result"
    }
   ],
   "source": [
    "#Nombre del producto\n",
    "Fecha='08_06_21'\n",
    "\n",
    "# =============================================================================\n",
    "# Ajuste de los datos\n",
    "# =============================================================================\n",
    "File_name='Fact_CL_Mater_Canales_'+Fecha\n",
    "col_names=pd.read_csv(\"Data/\"+File_name+\".csv\",\n",
    "                    encoding=\"utf-8\",sep=\";\",nrows=0).columns\n",
    "types_dict = {col: str for col in col_names}\n",
    "\n",
    "Data = pd.read_csv(\"Data/\"+File_name+\".csv\",\n",
    "                   encoding=\"utf-8\",sep=\";\",dtype=types_dict)\n",
    "Data.head(1)"
   ]
  },
  {
   "cell_type": "markdown",
   "id": "28a39a98",
   "metadata": {},
   "source": [
    "### Ajuste facturaciones"
   ]
  },
  {
   "cell_type": "code",
   "execution_count": 5,
   "id": "bb6fe285",
   "metadata": {},
   "outputs": [],
   "source": [
    "# =============================================================================\n",
    "# Ajustar la data\n",
    "# =============================================================================\n",
    "def Ajuste_data(data):\n",
    "    df=data.copy()\n",
    "    # Funciones para eliminar los putos y cambiar las , por .\n",
    "    def categ_uniq(x):\n",
    "        return x[len(x)-3:]\n",
    "\n",
    "    df['Unidad Venta']=df['Venta Neta'].apply(categ_uniq)\n",
    "    df['Unidad Precio']=df['Precio Promedio'].apply(categ_uniq)\n",
    "    \n",
    "    def CLP_Dolar(x):\n",
    "        x=str(x)\n",
    "        x=x.replace('.', '')\n",
    "        x=x.replace(',', '.')\n",
    "        if(x[len(x)-3:]=='USD'):\n",
    "            x=x.split(' USD')[0]\n",
    "            x=float(x)\n",
    "            #x=x*720\n",
    "        elif(x[len(x)-3:]=='CLP'):\n",
    "            x=x.split(' CLP')[0]\n",
    "            x=float(x)\n",
    "        return x\n",
    "    \n",
    "    def change_num_point(x):\n",
    "        x=str(x)\n",
    "        return x.replace('.', '')\n",
    "    def change_num_coma(x):\n",
    "        x=str(x)\n",
    "        return x.replace(',', '.')\n",
    "    def delete_asterisco(x):\n",
    "        x=str(x)\n",
    "        return x.replace('*','0' )\n",
    "    \n",
    "    #proceso iterativo, \n",
    "    for i in ['Kilos Venta KG','Venta Neta','Precio Promedio']:\n",
    "    # se elimina el punto definido para los miles\n",
    "        if(i!='Kilos Venta KG'):\n",
    "            df[i]=df[i].apply(CLP_Dolar)\n",
    "        else:\n",
    "            df[i]=df[i].apply(change_num_point)\n",
    "            # se reemplaza la coma por un punto, para definir los decimales correctamente\n",
    "            df[i]=df[i].apply(change_num_coma)\n",
    "        # se elimina el valor * \n",
    "        df[i]=df[i].apply(delete_asterisco)\n",
    "        df[i]=df[i].astype('float64')\n",
    "        # Se pasa de ser un str a un int\n",
    "        print(i)\n",
    "        #df[i]=df[i].astype('int64')\n",
    "\n",
    "    #Separacion fecha\n",
    "    df['Semana']=df['Año natural/Semana'].str.split('.', expand=True)[[0]]\n",
    "    df['Año']=df['Año natural/Semana'].str.split('.', expand=True)[[1]]\n",
    "\n",
    "    df['Semana']=df['Semana'].astype('int64')\n",
    "    df['Año']=df['Año'].astype('int64')\n",
    "    \n",
    "    #\n",
    "    df[\"Día natural\"] = df[\"Día natural\"].apply(lambda x: \n",
    "                                                datetime.datetime.strptime(x,\n",
    "                                                                           '%d.%m.%Y').date())\n",
    "    df['Año']=df['Año'].astype('int64')\n",
    "    return df"
   ]
  },
  {
   "cell_type": "code",
   "execution_count": 22,
   "id": "e74380c6",
   "metadata": {
    "scrolled": true
   },
   "outputs": [
    {
     "name": "stdout",
     "output_type": "stream",
     "text": [
      "Kilos Venta KG\n",
      "Venta Neta\n",
      "Precio Promedio\n"
     ]
    },
    {
     "data": {
      "text/html": [
       "<div>\n",
       "<style scoped>\n",
       "    .dataframe tbody tr th:only-of-type {\n",
       "        vertical-align: middle;\n",
       "    }\n",
       "\n",
       "    .dataframe tbody tr th {\n",
       "        vertical-align: top;\n",
       "    }\n",
       "\n",
       "    .dataframe thead th {\n",
       "        text-align: right;\n",
       "    }\n",
       "</style>\n",
       "<table border=\"1\" class=\"dataframe\">\n",
       "  <thead>\n",
       "    <tr style=\"text-align: right;\">\n",
       "      <th></th>\n",
       "      <th>Sector</th>\n",
       "      <th>Material</th>\n",
       "      <th>Tipo de cliente</th>\n",
       "      <th>Zona de ventas</th>\n",
       "      <th>Zona de ventas.1</th>\n",
       "      <th>Oficina de Ventas Unifica</th>\n",
       "      <th>Oficina de Ventas Unifica.1</th>\n",
       "      <th>Mes</th>\n",
       "      <th>Año natural/Semana</th>\n",
       "      <th>Día natural</th>\n",
       "      <th>Día de la semana</th>\n",
       "      <th>Kilos Venta KG</th>\n",
       "      <th>Venta Neta</th>\n",
       "      <th>Precio Promedio</th>\n",
       "      <th>Unidad Venta</th>\n",
       "      <th>Unidad Precio</th>\n",
       "      <th>Semana</th>\n",
       "      <th>Año</th>\n",
       "    </tr>\n",
       "  </thead>\n",
       "  <tbody>\n",
       "    <tr>\n",
       "      <th>0</th>\n",
       "      <td>Cerdo</td>\n",
       "      <td>1020253</td>\n",
       "      <td>Tradicional</td>\n",
       "      <td>Z001</td>\n",
       "      <td>Santiago</td>\n",
       "      <td>Huechuraba</td>\n",
       "      <td>T101</td>\n",
       "      <td>1</td>\n",
       "      <td>01.2019</td>\n",
       "      <td>2019-01-02</td>\n",
       "      <td>MI</td>\n",
       "      <td>36.0</td>\n",
       "      <td>81788.0</td>\n",
       "      <td>2250.0</td>\n",
       "      <td>CLP</td>\n",
       "      <td>CLP</td>\n",
       "      <td>1</td>\n",
       "      <td>2019</td>\n",
       "    </tr>\n",
       "    <tr>\n",
       "      <th>1</th>\n",
       "      <td>Cerdo</td>\n",
       "      <td>1020253</td>\n",
       "      <td>Tradicional</td>\n",
       "      <td>Z001</td>\n",
       "      <td>Santiago</td>\n",
       "      <td>Huechuraba</td>\n",
       "      <td>T101</td>\n",
       "      <td>1</td>\n",
       "      <td>01.2019</td>\n",
       "      <td>2019-01-03</td>\n",
       "      <td>JU</td>\n",
       "      <td>333.0</td>\n",
       "      <td>583204.0</td>\n",
       "      <td>1750.0</td>\n",
       "      <td>CLP</td>\n",
       "      <td>CLP</td>\n",
       "      <td>1</td>\n",
       "      <td>2019</td>\n",
       "    </tr>\n",
       "    <tr>\n",
       "      <th>2</th>\n",
       "      <td>Cerdo</td>\n",
       "      <td>1020253</td>\n",
       "      <td>Tradicional</td>\n",
       "      <td>Z001</td>\n",
       "      <td>Santiago</td>\n",
       "      <td>Huechuraba</td>\n",
       "      <td>T101</td>\n",
       "      <td>1</td>\n",
       "      <td>01.2019</td>\n",
       "      <td>2019-01-05</td>\n",
       "      <td>SA</td>\n",
       "      <td>219.0</td>\n",
       "      <td>397031.0</td>\n",
       "      <td>1815.0</td>\n",
       "      <td>CLP</td>\n",
       "      <td>CLP</td>\n",
       "      <td>1</td>\n",
       "      <td>2019</td>\n",
       "    </tr>\n",
       "  </tbody>\n",
       "</table>\n",
       "</div>"
      ],
      "text/plain": [
       "  Sector Material Tipo de cliente Zona de ventas Zona de ventas.1  \\\n",
       "0  Cerdo  1020253     Tradicional           Z001         Santiago   \n",
       "1  Cerdo  1020253     Tradicional           Z001         Santiago   \n",
       "2  Cerdo  1020253     Tradicional           Z001         Santiago   \n",
       "\n",
       "  Oficina de Ventas Unifica Oficina de Ventas Unifica.1 Mes  \\\n",
       "0                Huechuraba                        T101   1   \n",
       "1                Huechuraba                        T101   1   \n",
       "2                Huechuraba                        T101   1   \n",
       "\n",
       "  Año natural/Semana Día natural Día de la semana  Kilos Venta KG  Venta Neta  \\\n",
       "0            01.2019  2019-01-02               MI            36.0     81788.0   \n",
       "1            01.2019  2019-01-03               JU           333.0    583204.0   \n",
       "2            01.2019  2019-01-05               SA           219.0    397031.0   \n",
       "\n",
       "   Precio Promedio Unidad Venta Unidad Precio  Semana   Año  \n",
       "0           2250.0          CLP           CLP       1  2019  \n",
       "1           1750.0          CLP           CLP       1  2019  \n",
       "2           1815.0          CLP           CLP       1  2019  "
      ]
     },
     "execution_count": 22,
     "metadata": {},
     "output_type": "execute_result"
    }
   ],
   "source": [
    "data1=Ajuste_data(Data)\n",
    "data1.head(3)\n",
    "#data=<data[data['Año']>2018]"
   ]
  },
  {
   "cell_type": "markdown",
   "id": "b8170fcb",
   "metadata": {},
   "source": [
    "##  Data Facturación Concatena a la anterior\n",
    "Link de descarga de BW\n",
    "[08_06_21_Fact_CL_Mater_Canales_10_06_21](https://gestion.agrosuper.cl/irj/servlet/prt/portal/prtroot/pcd!3aportal_content!2fcom.sap.pct!2fplatform_add_ons!2fcom.sap.ip.bi!2fiViews!2fcom.sap.ip.bi.bex?BOOKMARK=4V7XT6V546W73QKC7BVTLKF4Y)\n",
    "\n",
    "Contiene las facturaciones siguientes de todo chile para el listado de productos y para los canales de venta:\n",
    "Foodservices; Canal Tradicional; Industriales; GRandes Clientes"
   ]
  },
  {
   "cell_type": "markdown",
   "id": "5087ab34",
   "metadata": {},
   "source": [
    "### Selección de la zona de estudio "
   ]
  },
  {
   "cell_type": "code",
   "execution_count": 7,
   "id": "60785669",
   "metadata": {
    "scrolled": false
   },
   "outputs": [
    {
     "data": {
      "text/html": [
       "<div>\n",
       "<style scoped>\n",
       "    .dataframe tbody tr th:only-of-type {\n",
       "        vertical-align: middle;\n",
       "    }\n",
       "\n",
       "    .dataframe tbody tr th {\n",
       "        vertical-align: top;\n",
       "    }\n",
       "\n",
       "    .dataframe thead th {\n",
       "        text-align: right;\n",
       "    }\n",
       "</style>\n",
       "<table border=\"1\" class=\"dataframe\">\n",
       "  <thead>\n",
       "    <tr style=\"text-align: right;\">\n",
       "      <th></th>\n",
       "      <th>Sector</th>\n",
       "      <th>Material</th>\n",
       "      <th>Tipo de cliente</th>\n",
       "      <th>Zona de ventas</th>\n",
       "      <th>Zona de ventas.1</th>\n",
       "      <th>Oficina de Ventas Unifica</th>\n",
       "      <th>Oficina de Ventas Unifica.1</th>\n",
       "      <th>Mes</th>\n",
       "      <th>Año natural/Semana</th>\n",
       "      <th>Día natural</th>\n",
       "      <th>Día de la semana</th>\n",
       "      <th>Kilos Venta KG</th>\n",
       "      <th>Venta Neta</th>\n",
       "      <th>Precio Promedio</th>\n",
       "    </tr>\n",
       "  </thead>\n",
       "  <tbody>\n",
       "    <tr>\n",
       "      <th>0</th>\n",
       "      <td>Cerdo</td>\n",
       "      <td>1020253</td>\n",
       "      <td>Tradicional</td>\n",
       "      <td>Z001</td>\n",
       "      <td>Santiago</td>\n",
       "      <td>Huechuraba</td>\n",
       "      <td>T101</td>\n",
       "      <td>6</td>\n",
       "      <td>23.2021</td>\n",
       "      <td>08.06.2021</td>\n",
       "      <td>MA</td>\n",
       "      <td>273</td>\n",
       "      <td>697.541 CLP</td>\n",
       "      <td>2.555 CLP</td>\n",
       "    </tr>\n",
       "  </tbody>\n",
       "</table>\n",
       "</div>"
      ],
      "text/plain": [
       "  Sector Material Tipo de cliente Zona de ventas Zona de ventas.1  \\\n",
       "0  Cerdo  1020253     Tradicional           Z001         Santiago   \n",
       "\n",
       "  Oficina de Ventas Unifica Oficina de Ventas Unifica.1 Mes  \\\n",
       "0                Huechuraba                        T101   6   \n",
       "\n",
       "  Año natural/Semana Día natural Día de la semana Kilos Venta KG   Venta Neta  \\\n",
       "0            23.2021  08.06.2021               MA            273  697.541 CLP   \n",
       "\n",
       "  Precio Promedio  \n",
       "0       2.555 CLP  "
      ]
     },
     "execution_count": 7,
     "metadata": {},
     "output_type": "execute_result"
    }
   ],
   "source": [
    "#Nombre del producto\n",
    "Fecha='08_06_21'\n",
    "Fecha_fin='12_06_21'\n",
    "# =============================================================================\n",
    "# Ajuste de los datos\n",
    "# =============================================================================\n",
    "File_name=Fecha+'_Fact_CL_Mater_Canales_'+Fecha_fin\n",
    "col_names=pd.read_csv(\"Data/\"+File_name+\".csv\",\n",
    "                    encoding=\"utf-8\",sep=\";\",nrows=0).columns\n",
    "types_dict = {col: str for col in col_names}\n",
    "\n",
    "Data2 = pd.read_csv(\"Data/\"+File_name+\".csv\",\n",
    "                   encoding=\"utf-8\",sep=\";\",dtype=types_dict)\n",
    "Data2.head(1)"
   ]
  },
  {
   "cell_type": "code",
   "execution_count": 8,
   "id": "4d8a50f7",
   "metadata": {
    "scrolled": true
   },
   "outputs": [
    {
     "name": "stdout",
     "output_type": "stream",
     "text": [
      "Kilos Venta KG\n",
      "Venta Neta\n",
      "Precio Promedio\n"
     ]
    }
   ],
   "source": [
    "data2=Ajuste_data(Data2)"
   ]
  },
  {
   "cell_type": "markdown",
   "id": "5e267913",
   "metadata": {},
   "source": [
    "## Unificar "
   ]
  },
  {
   "cell_type": "markdown",
   "id": "55d890d1",
   "metadata": {},
   "source": [
    "### Primera y ultima fecha "
   ]
  },
  {
   "cell_type": "code",
   "execution_count": 9,
   "id": "1e2fa2cc",
   "metadata": {
    "scrolled": true
   },
   "outputs": [
    {
     "data": {
      "text/plain": [
       "datetime.date(2021, 6, 11)"
      ]
     },
     "execution_count": 9,
     "metadata": {},
     "output_type": "execute_result"
    }
   ],
   "source": [
    "data2['Día natural'].max()"
   ]
  },
  {
   "cell_type": "code",
   "execution_count": 10,
   "id": "19e8cf3f",
   "metadata": {},
   "outputs": [
    {
     "data": {
      "text/plain": [
       "datetime.date(2021, 6, 8)"
      ]
     },
     "execution_count": 10,
     "metadata": {},
     "output_type": "execute_result"
    }
   ],
   "source": [
    "data2['Día natural'].min()"
   ]
  },
  {
   "cell_type": "code",
   "execution_count": 11,
   "id": "c4a91bfb",
   "metadata": {},
   "outputs": [
    {
     "data": {
      "text/plain": [
       "datetime.date(2021, 6, 7)"
      ]
     },
     "execution_count": 11,
     "metadata": {},
     "output_type": "execute_result"
    }
   ],
   "source": [
    "data1['Día natural'].max()"
   ]
  },
  {
   "cell_type": "code",
   "execution_count": 12,
   "id": "a357e839",
   "metadata": {},
   "outputs": [
    {
     "data": {
      "text/plain": [
       "datetime.date(2019, 1, 2)"
      ]
     },
     "execution_count": 12,
     "metadata": {},
     "output_type": "execute_result"
    }
   ],
   "source": [
    "data1['Día natural'].min()"
   ]
  },
  {
   "cell_type": "markdown",
   "id": "f7f9cb59",
   "metadata": {},
   "source": [
    "### Concatenar "
   ]
  },
  {
   "cell_type": "code",
   "execution_count": 13,
   "id": "0c35035e",
   "metadata": {},
   "outputs": [
    {
     "data": {
      "text/html": [
       "<div>\n",
       "<style scoped>\n",
       "    .dataframe tbody tr th:only-of-type {\n",
       "        vertical-align: middle;\n",
       "    }\n",
       "\n",
       "    .dataframe tbody tr th {\n",
       "        vertical-align: top;\n",
       "    }\n",
       "\n",
       "    .dataframe thead th {\n",
       "        text-align: right;\n",
       "    }\n",
       "</style>\n",
       "<table border=\"1\" class=\"dataframe\">\n",
       "  <thead>\n",
       "    <tr style=\"text-align: right;\">\n",
       "      <th></th>\n",
       "      <th>Sector</th>\n",
       "      <th>Material</th>\n",
       "      <th>Tipo de cliente</th>\n",
       "      <th>Zona de ventas</th>\n",
       "      <th>Zona de ventas.1</th>\n",
       "      <th>Oficina de Ventas Unifica</th>\n",
       "      <th>Oficina de Ventas Unifica.1</th>\n",
       "      <th>Mes</th>\n",
       "      <th>Año natural/Semana</th>\n",
       "      <th>Día natural</th>\n",
       "      <th>Día de la semana</th>\n",
       "      <th>Kilos Venta KG</th>\n",
       "      <th>Venta Neta</th>\n",
       "      <th>Precio Promedio</th>\n",
       "      <th>Unidad Venta</th>\n",
       "      <th>Unidad Precio</th>\n",
       "      <th>Semana</th>\n",
       "      <th>Año</th>\n",
       "    </tr>\n",
       "  </thead>\n",
       "  <tbody>\n",
       "    <tr>\n",
       "      <th>count</th>\n",
       "      <td>449430</td>\n",
       "      <td>449430</td>\n",
       "      <td>449430</td>\n",
       "      <td>449430</td>\n",
       "      <td>449430</td>\n",
       "      <td>449430</td>\n",
       "      <td>449430</td>\n",
       "      <td>449430</td>\n",
       "      <td>449430</td>\n",
       "      <td>449430</td>\n",
       "      <td>449430</td>\n",
       "      <td>449430.000000</td>\n",
       "      <td>4.494300e+05</td>\n",
       "      <td>449430.000000</td>\n",
       "      <td>449430</td>\n",
       "      <td>449430</td>\n",
       "      <td>449430.000000</td>\n",
       "      <td>449430.000000</td>\n",
       "    </tr>\n",
       "    <tr>\n",
       "      <th>unique</th>\n",
       "      <td>2</td>\n",
       "      <td>13</td>\n",
       "      <td>4</td>\n",
       "      <td>6</td>\n",
       "      <td>6</td>\n",
       "      <td>34</td>\n",
       "      <td>34</td>\n",
       "      <td>12</td>\n",
       "      <td>128</td>\n",
       "      <td>788</td>\n",
       "      <td>7</td>\n",
       "      <td>NaN</td>\n",
       "      <td>NaN</td>\n",
       "      <td>NaN</td>\n",
       "      <td>3</td>\n",
       "      <td>3</td>\n",
       "      <td>NaN</td>\n",
       "      <td>NaN</td>\n",
       "    </tr>\n",
       "    <tr>\n",
       "      <th>top</th>\n",
       "      <td>Pollo</td>\n",
       "      <td>1010078</td>\n",
       "      <td>Tradicional</td>\n",
       "      <td>Z003</td>\n",
       "      <td>Centro Sur</td>\n",
       "      <td>Concepcion</td>\n",
       "      <td>T104</td>\n",
       "      <td>3</td>\n",
       "      <td>49.2019</td>\n",
       "      <td>2019-04-18</td>\n",
       "      <td>MI</td>\n",
       "      <td>NaN</td>\n",
       "      <td>NaN</td>\n",
       "      <td>NaN</td>\n",
       "      <td>CLP</td>\n",
       "      <td>CLP</td>\n",
       "      <td>NaN</td>\n",
       "      <td>NaN</td>\n",
       "    </tr>\n",
       "    <tr>\n",
       "      <th>freq</th>\n",
       "      <td>238796</td>\n",
       "      <td>52145</td>\n",
       "      <td>210463</td>\n",
       "      <td>124471</td>\n",
       "      <td>124471</td>\n",
       "      <td>22980</td>\n",
       "      <td>22980</td>\n",
       "      <td>49744</td>\n",
       "      <td>4061</td>\n",
       "      <td>731</td>\n",
       "      <td>77977</td>\n",
       "      <td>NaN</td>\n",
       "      <td>NaN</td>\n",
       "      <td>NaN</td>\n",
       "      <td>449015</td>\n",
       "      <td>449015</td>\n",
       "      <td>NaN</td>\n",
       "      <td>NaN</td>\n",
       "    </tr>\n",
       "    <tr>\n",
       "      <th>mean</th>\n",
       "      <td>NaN</td>\n",
       "      <td>NaN</td>\n",
       "      <td>NaN</td>\n",
       "      <td>NaN</td>\n",
       "      <td>NaN</td>\n",
       "      <td>NaN</td>\n",
       "      <td>NaN</td>\n",
       "      <td>NaN</td>\n",
       "      <td>NaN</td>\n",
       "      <td>NaN</td>\n",
       "      <td>NaN</td>\n",
       "      <td>607.307383</td>\n",
       "      <td>9.601389e+05</td>\n",
       "      <td>1849.338858</td>\n",
       "      <td>NaN</td>\n",
       "      <td>NaN</td>\n",
       "      <td>23.717983</td>\n",
       "      <td>2019.762070</td>\n",
       "    </tr>\n",
       "    <tr>\n",
       "      <th>std</th>\n",
       "      <td>NaN</td>\n",
       "      <td>NaN</td>\n",
       "      <td>NaN</td>\n",
       "      <td>NaN</td>\n",
       "      <td>NaN</td>\n",
       "      <td>NaN</td>\n",
       "      <td>NaN</td>\n",
       "      <td>NaN</td>\n",
       "      <td>NaN</td>\n",
       "      <td>NaN</td>\n",
       "      <td>NaN</td>\n",
       "      <td>1245.086148</td>\n",
       "      <td>1.802542e+06</td>\n",
       "      <td>724.569747</td>\n",
       "      <td>NaN</td>\n",
       "      <td>NaN</td>\n",
       "      <td>15.067890</td>\n",
       "      <td>0.732747</td>\n",
       "    </tr>\n",
       "    <tr>\n",
       "      <th>min</th>\n",
       "      <td>NaN</td>\n",
       "      <td>NaN</td>\n",
       "      <td>NaN</td>\n",
       "      <td>NaN</td>\n",
       "      <td>NaN</td>\n",
       "      <td>NaN</td>\n",
       "      <td>NaN</td>\n",
       "      <td>NaN</td>\n",
       "      <td>NaN</td>\n",
       "      <td>NaN</td>\n",
       "      <td>NaN</td>\n",
       "      <td>0.000000</td>\n",
       "      <td>0.000000e+00</td>\n",
       "      <td>0.000000</td>\n",
       "      <td>NaN</td>\n",
       "      <td>NaN</td>\n",
       "      <td>1.000000</td>\n",
       "      <td>2019.000000</td>\n",
       "    </tr>\n",
       "    <tr>\n",
       "      <th>25%</th>\n",
       "      <td>NaN</td>\n",
       "      <td>NaN</td>\n",
       "      <td>NaN</td>\n",
       "      <td>NaN</td>\n",
       "      <td>NaN</td>\n",
       "      <td>NaN</td>\n",
       "      <td>NaN</td>\n",
       "      <td>NaN</td>\n",
       "      <td>NaN</td>\n",
       "      <td>NaN</td>\n",
       "      <td>NaN</td>\n",
       "      <td>67.000000</td>\n",
       "      <td>1.205830e+05</td>\n",
       "      <td>1307.000000</td>\n",
       "      <td>NaN</td>\n",
       "      <td>NaN</td>\n",
       "      <td>11.000000</td>\n",
       "      <td>2019.000000</td>\n",
       "    </tr>\n",
       "    <tr>\n",
       "      <th>50%</th>\n",
       "      <td>NaN</td>\n",
       "      <td>NaN</td>\n",
       "      <td>NaN</td>\n",
       "      <td>NaN</td>\n",
       "      <td>NaN</td>\n",
       "      <td>NaN</td>\n",
       "      <td>NaN</td>\n",
       "      <td>NaN</td>\n",
       "      <td>NaN</td>\n",
       "      <td>NaN</td>\n",
       "      <td>NaN</td>\n",
       "      <td>200.000000</td>\n",
       "      <td>3.469035e+05</td>\n",
       "      <td>1686.000000</td>\n",
       "      <td>NaN</td>\n",
       "      <td>NaN</td>\n",
       "      <td>22.000000</td>\n",
       "      <td>2020.000000</td>\n",
       "    </tr>\n",
       "    <tr>\n",
       "      <th>75%</th>\n",
       "      <td>NaN</td>\n",
       "      <td>NaN</td>\n",
       "      <td>NaN</td>\n",
       "      <td>NaN</td>\n",
       "      <td>NaN</td>\n",
       "      <td>NaN</td>\n",
       "      <td>NaN</td>\n",
       "      <td>NaN</td>\n",
       "      <td>NaN</td>\n",
       "      <td>NaN</td>\n",
       "      <td>NaN</td>\n",
       "      <td>555.000000</td>\n",
       "      <td>9.725628e+05</td>\n",
       "      <td>2278.000000</td>\n",
       "      <td>NaN</td>\n",
       "      <td>NaN</td>\n",
       "      <td>36.000000</td>\n",
       "      <td>2020.000000</td>\n",
       "    </tr>\n",
       "    <tr>\n",
       "      <th>max</th>\n",
       "      <td>NaN</td>\n",
       "      <td>NaN</td>\n",
       "      <td>NaN</td>\n",
       "      <td>NaN</td>\n",
       "      <td>NaN</td>\n",
       "      <td>NaN</td>\n",
       "      <td>NaN</td>\n",
       "      <td>NaN</td>\n",
       "      <td>NaN</td>\n",
       "      <td>NaN</td>\n",
       "      <td>NaN</td>\n",
       "      <td>38890.000000</td>\n",
       "      <td>6.880883e+07</td>\n",
       "      <td>13567.000000</td>\n",
       "      <td>NaN</td>\n",
       "      <td>NaN</td>\n",
       "      <td>53.000000</td>\n",
       "      <td>2021.000000</td>\n",
       "    </tr>\n",
       "  </tbody>\n",
       "</table>\n",
       "</div>"
      ],
      "text/plain": [
       "        Sector Material Tipo de cliente Zona de ventas Zona de ventas.1  \\\n",
       "count   449430   449430          449430         449430           449430   \n",
       "unique       2       13               4              6                6   \n",
       "top      Pollo  1010078     Tradicional           Z003       Centro Sur   \n",
       "freq    238796    52145          210463         124471           124471   \n",
       "mean       NaN      NaN             NaN            NaN              NaN   \n",
       "std        NaN      NaN             NaN            NaN              NaN   \n",
       "min        NaN      NaN             NaN            NaN              NaN   \n",
       "25%        NaN      NaN             NaN            NaN              NaN   \n",
       "50%        NaN      NaN             NaN            NaN              NaN   \n",
       "75%        NaN      NaN             NaN            NaN              NaN   \n",
       "max        NaN      NaN             NaN            NaN              NaN   \n",
       "\n",
       "       Oficina de Ventas Unifica Oficina de Ventas Unifica.1     Mes  \\\n",
       "count                     449430                      449430  449430   \n",
       "unique                        34                          34      12   \n",
       "top                   Concepcion                        T104       3   \n",
       "freq                       22980                       22980   49744   \n",
       "mean                         NaN                         NaN     NaN   \n",
       "std                          NaN                         NaN     NaN   \n",
       "min                          NaN                         NaN     NaN   \n",
       "25%                          NaN                         NaN     NaN   \n",
       "50%                          NaN                         NaN     NaN   \n",
       "75%                          NaN                         NaN     NaN   \n",
       "max                          NaN                         NaN     NaN   \n",
       "\n",
       "       Año natural/Semana Día natural Día de la semana  Kilos Venta KG  \\\n",
       "count              449430      449430           449430   449430.000000   \n",
       "unique                128         788                7             NaN   \n",
       "top               49.2019  2019-04-18               MI             NaN   \n",
       "freq                 4061         731            77977             NaN   \n",
       "mean                  NaN         NaN              NaN      607.307383   \n",
       "std                   NaN         NaN              NaN     1245.086148   \n",
       "min                   NaN         NaN              NaN        0.000000   \n",
       "25%                   NaN         NaN              NaN       67.000000   \n",
       "50%                   NaN         NaN              NaN      200.000000   \n",
       "75%                   NaN         NaN              NaN      555.000000   \n",
       "max                   NaN         NaN              NaN    38890.000000   \n",
       "\n",
       "          Venta Neta  Precio Promedio Unidad Venta Unidad Precio  \\\n",
       "count   4.494300e+05    449430.000000       449430        449430   \n",
       "unique           NaN              NaN            3             3   \n",
       "top              NaN              NaN          CLP           CLP   \n",
       "freq             NaN              NaN       449015        449015   \n",
       "mean    9.601389e+05      1849.338858          NaN           NaN   \n",
       "std     1.802542e+06       724.569747          NaN           NaN   \n",
       "min     0.000000e+00         0.000000          NaN           NaN   \n",
       "25%     1.205830e+05      1307.000000          NaN           NaN   \n",
       "50%     3.469035e+05      1686.000000          NaN           NaN   \n",
       "75%     9.725628e+05      2278.000000          NaN           NaN   \n",
       "max     6.880883e+07     13567.000000          NaN           NaN   \n",
       "\n",
       "               Semana            Año  \n",
       "count   449430.000000  449430.000000  \n",
       "unique            NaN            NaN  \n",
       "top               NaN            NaN  \n",
       "freq              NaN            NaN  \n",
       "mean        23.717983    2019.762070  \n",
       "std         15.067890       0.732747  \n",
       "min          1.000000    2019.000000  \n",
       "25%         11.000000    2019.000000  \n",
       "50%         22.000000    2020.000000  \n",
       "75%         36.000000    2020.000000  \n",
       "max         53.000000    2021.000000  "
      ]
     },
     "execution_count": 13,
     "metadata": {},
     "output_type": "execute_result"
    }
   ],
   "source": [
    "data=pd.concat([data1, data2])\n",
    "data.describe(include='all')"
   ]
  },
  {
   "cell_type": "code",
   "execution_count": 14,
   "id": "22e7cbd9",
   "metadata": {},
   "outputs": [
    {
     "data": {
      "text/plain": [
       "datetime.date(2019, 1, 2)"
      ]
     },
     "execution_count": 14,
     "metadata": {},
     "output_type": "execute_result"
    }
   ],
   "source": [
    "data['Día natural'].min()"
   ]
  },
  {
   "cell_type": "code",
   "execution_count": 15,
   "id": "53495744",
   "metadata": {},
   "outputs": [
    {
     "data": {
      "text/plain": [
       "datetime.date(2021, 6, 11)"
      ]
     },
     "execution_count": 15,
     "metadata": {},
     "output_type": "execute_result"
    }
   ],
   "source": [
    "data['Día natural'].max()"
   ]
  },
  {
   "cell_type": "markdown",
   "id": "0372244d",
   "metadata": {},
   "source": [
    "# Predicción  Prophet\n"
   ]
  },
  {
   "cell_type": "code",
   "execution_count": 16,
   "id": "bc444ce2",
   "metadata": {
    "scrolled": false
   },
   "outputs": [],
   "source": [
    "y_col='Kilos Venta KG'\n",
    "y_value='Volumen de ventas en KG'\n",
    "y_title= 'Demanda'+'del canal tradicion'"
   ]
  },
  {
   "cell_type": "markdown",
   "id": "6684566a",
   "metadata": {},
   "source": [
    "## Descripción "
   ]
  },
  {
   "cell_type": "code",
   "execution_count": 17,
   "id": "4aefecf7",
   "metadata": {
    "scrolled": false
   },
   "outputs": [
    {
     "data": {
      "text/html": [
       "<div>\n",
       "<style scoped>\n",
       "    .dataframe tbody tr th:only-of-type {\n",
       "        vertical-align: middle;\n",
       "    }\n",
       "\n",
       "    .dataframe tbody tr th {\n",
       "        vertical-align: top;\n",
       "    }\n",
       "\n",
       "    .dataframe thead th {\n",
       "        text-align: right;\n",
       "    }\n",
       "</style>\n",
       "<table border=\"1\" class=\"dataframe\">\n",
       "  <thead>\n",
       "    <tr style=\"text-align: right;\">\n",
       "      <th></th>\n",
       "      <th>Sector</th>\n",
       "      <th>Material</th>\n",
       "      <th>Tipo de cliente</th>\n",
       "      <th>Zona de ventas</th>\n",
       "      <th>Zona de ventas.1</th>\n",
       "      <th>Oficina de Ventas Unifica</th>\n",
       "      <th>Oficina de Ventas Unifica.1</th>\n",
       "      <th>Mes</th>\n",
       "      <th>Año natural/Semana</th>\n",
       "      <th>Día natural</th>\n",
       "      <th>Día de la semana</th>\n",
       "      <th>Kilos Venta KG</th>\n",
       "      <th>Venta Neta</th>\n",
       "      <th>Precio Promedio</th>\n",
       "      <th>Unidad Venta</th>\n",
       "      <th>Unidad Precio</th>\n",
       "      <th>Semana</th>\n",
       "      <th>Año</th>\n",
       "    </tr>\n",
       "  </thead>\n",
       "  <tbody>\n",
       "    <tr>\n",
       "      <th>0</th>\n",
       "      <td>Cerdo</td>\n",
       "      <td>1020253</td>\n",
       "      <td>Tradicional</td>\n",
       "      <td>Z001</td>\n",
       "      <td>Santiago</td>\n",
       "      <td>Huechuraba</td>\n",
       "      <td>T101</td>\n",
       "      <td>1</td>\n",
       "      <td>01.2019</td>\n",
       "      <td>2019-01-02</td>\n",
       "      <td>MI</td>\n",
       "      <td>36.0</td>\n",
       "      <td>81788.0</td>\n",
       "      <td>2250.0</td>\n",
       "      <td>CLP</td>\n",
       "      <td>CLP</td>\n",
       "      <td>1</td>\n",
       "      <td>2019</td>\n",
       "    </tr>\n",
       "    <tr>\n",
       "      <th>1</th>\n",
       "      <td>Cerdo</td>\n",
       "      <td>1020253</td>\n",
       "      <td>Tradicional</td>\n",
       "      <td>Z001</td>\n",
       "      <td>Santiago</td>\n",
       "      <td>Huechuraba</td>\n",
       "      <td>T101</td>\n",
       "      <td>1</td>\n",
       "      <td>01.2019</td>\n",
       "      <td>2019-01-03</td>\n",
       "      <td>JU</td>\n",
       "      <td>333.0</td>\n",
       "      <td>583204.0</td>\n",
       "      <td>1750.0</td>\n",
       "      <td>CLP</td>\n",
       "      <td>CLP</td>\n",
       "      <td>1</td>\n",
       "      <td>2019</td>\n",
       "    </tr>\n",
       "    <tr>\n",
       "      <th>2</th>\n",
       "      <td>Cerdo</td>\n",
       "      <td>1020253</td>\n",
       "      <td>Tradicional</td>\n",
       "      <td>Z001</td>\n",
       "      <td>Santiago</td>\n",
       "      <td>Huechuraba</td>\n",
       "      <td>T101</td>\n",
       "      <td>1</td>\n",
       "      <td>01.2019</td>\n",
       "      <td>2019-01-05</td>\n",
       "      <td>SA</td>\n",
       "      <td>219.0</td>\n",
       "      <td>397031.0</td>\n",
       "      <td>1815.0</td>\n",
       "      <td>CLP</td>\n",
       "      <td>CLP</td>\n",
       "      <td>1</td>\n",
       "      <td>2019</td>\n",
       "    </tr>\n",
       "    <tr>\n",
       "      <th>3</th>\n",
       "      <td>Cerdo</td>\n",
       "      <td>1020253</td>\n",
       "      <td>Tradicional</td>\n",
       "      <td>Z001</td>\n",
       "      <td>Santiago</td>\n",
       "      <td>Huechuraba</td>\n",
       "      <td>T101</td>\n",
       "      <td>1</td>\n",
       "      <td>02.2019</td>\n",
       "      <td>2019-01-07</td>\n",
       "      <td>LU</td>\n",
       "      <td>128.0</td>\n",
       "      <td>258591.0</td>\n",
       "      <td>2017.0</td>\n",
       "      <td>CLP</td>\n",
       "      <td>CLP</td>\n",
       "      <td>2</td>\n",
       "      <td>2019</td>\n",
       "    </tr>\n",
       "    <tr>\n",
       "      <th>4</th>\n",
       "      <td>Cerdo</td>\n",
       "      <td>1020253</td>\n",
       "      <td>Tradicional</td>\n",
       "      <td>Z001</td>\n",
       "      <td>Santiago</td>\n",
       "      <td>Huechuraba</td>\n",
       "      <td>T101</td>\n",
       "      <td>1</td>\n",
       "      <td>02.2019</td>\n",
       "      <td>2019-01-08</td>\n",
       "      <td>MA</td>\n",
       "      <td>95.0</td>\n",
       "      <td>210790.0</td>\n",
       "      <td>2223.0</td>\n",
       "      <td>CLP</td>\n",
       "      <td>CLP</td>\n",
       "      <td>2</td>\n",
       "      <td>2019</td>\n",
       "    </tr>\n",
       "  </tbody>\n",
       "</table>\n",
       "</div>"
      ],
      "text/plain": [
       "  Sector Material Tipo de cliente Zona de ventas Zona de ventas.1  \\\n",
       "0  Cerdo  1020253     Tradicional           Z001         Santiago   \n",
       "1  Cerdo  1020253     Tradicional           Z001         Santiago   \n",
       "2  Cerdo  1020253     Tradicional           Z001         Santiago   \n",
       "3  Cerdo  1020253     Tradicional           Z001         Santiago   \n",
       "4  Cerdo  1020253     Tradicional           Z001         Santiago   \n",
       "\n",
       "  Oficina de Ventas Unifica Oficina de Ventas Unifica.1 Mes  \\\n",
       "0                Huechuraba                        T101   1   \n",
       "1                Huechuraba                        T101   1   \n",
       "2                Huechuraba                        T101   1   \n",
       "3                Huechuraba                        T101   1   \n",
       "4                Huechuraba                        T101   1   \n",
       "\n",
       "  Año natural/Semana Día natural Día de la semana  Kilos Venta KG  Venta Neta  \\\n",
       "0            01.2019  2019-01-02               MI            36.0     81788.0   \n",
       "1            01.2019  2019-01-03               JU           333.0    583204.0   \n",
       "2            01.2019  2019-01-05               SA           219.0    397031.0   \n",
       "3            02.2019  2019-01-07               LU           128.0    258591.0   \n",
       "4            02.2019  2019-01-08               MA            95.0    210790.0   \n",
       "\n",
       "   Precio Promedio Unidad Venta Unidad Precio  Semana   Año  \n",
       "0           2250.0          CLP           CLP       1  2019  \n",
       "1           1750.0          CLP           CLP       1  2019  \n",
       "2           1815.0          CLP           CLP       1  2019  \n",
       "3           2017.0          CLP           CLP       2  2019  \n",
       "4           2223.0          CLP           CLP       2  2019  "
      ]
     },
     "execution_count": 17,
     "metadata": {},
     "output_type": "execute_result"
    }
   ],
   "source": [
    "data.head()"
   ]
  },
  {
   "cell_type": "code",
   "execution_count": 18,
   "id": "4659c906",
   "metadata": {},
   "outputs": [
    {
     "data": {
      "text/plain": [
       "Index(['Sector', 'Material', 'Tipo de cliente', 'Zona de ventas',\n",
       "       'Zona de ventas.1', 'Oficina de Ventas Unifica',\n",
       "       'Oficina de Ventas Unifica.1', 'Mes', 'Año natural/Semana',\n",
       "       'Día natural', 'Día de la semana', 'Kilos Venta KG', 'Venta Neta',\n",
       "       'Precio Promedio', 'Unidad Venta', 'Unidad Precio', 'Semana', 'Año'],\n",
       "      dtype='object')"
      ]
     },
     "execution_count": 18,
     "metadata": {},
     "output_type": "execute_result"
    }
   ],
   "source": [
    "data.columns"
   ]
  },
  {
   "cell_type": "code",
   "execution_count": 19,
   "id": "3a4c5fee",
   "metadata": {},
   "outputs": [
    {
     "name": "stdout",
     "output_type": "stream",
     "text": [
      "['Tradicional' 'Industriales' 'Grandes Clientes' 'Foodservice']\n",
      "['Santiago' 'Centro Norte' 'Centro Sur' 'Sur' 'Norte' 'Venta Directa']\n",
      "['Huechuraba' 'Lo Espejo' 'Quilin' 'Sucursal Miraflores' 'Coquimbo'\n",
      " 'Hijuelas' 'Ovalle' 'San Antonio' 'San Felipe' 'Viña del Mar' 'Chillan'\n",
      " 'Concepcion' 'Curico' 'Los Angeles' 'Rancagua' 'Talca' 'Castro'\n",
      " 'Coyhaique' 'Osorno' 'Puerto Montt' 'Punta Arenas' 'Temuco' 'Valdivia'\n",
      " 'Antofagasta' 'Arica' 'Calama' 'Copiapo' 'Iquique' 'Vallenar'\n",
      " 'VD FoodService' 'VD Industrial' 'VD Grandes Clientes'\n",
      " 'Sucursal Dieciocho' 'Vendedores San Pablo']\n",
      "['1020253' '1020042' '1020027' '1020013' '1020010' '1020003' '1020001'\n",
      " '1010695' '1010267' '1010078' '1010077' '1010048' '1010002']\n"
     ]
    }
   ],
   "source": [
    "print(data['Tipo de cliente'].unique())\n",
    "print(data['Zona de ventas.1'].unique())\n",
    "print(data['Oficina de Ventas Unifica'].unique())\n",
    "print(data['Material'].unique())"
   ]
  },
  {
   "cell_type": "markdown",
   "id": "db0581c6",
   "metadata": {},
   "source": [
    "## función "
   ]
  },
  {
   "cell_type": "code",
   "execution_count": 20,
   "id": "dee5e647",
   "metadata": {},
   "outputs": [],
   "source": [
    "def Df_ubic(data_X,col,Str):\n",
    "    df=data_X.copy()\n",
    "    df=df[df[col]==Str]\n",
    "    return df"
   ]
  },
  {
   "cell_type": "code",
   "execution_count": 21,
   "id": "e93ac778",
   "metadata": {},
   "outputs": [],
   "source": [
    "def Predict_sem(D_Train,periodos=5):\n",
    "    D_Train.columns = ['ds','y']\n",
    "    \n",
    "    # convert dates from string to datetime\n",
    "    D_Train.ds = pd.to_datetime(D_Train.ds)\n",
    "    #print(D_Train.dtypes)\n",
    "    \n",
    "    # set prophet model \n",
    "    prophet = Prophet(changepoint_prior_scale=0.15, yearly_seasonality=True)\n",
    "    \n",
    "    # fit $wmt data to model\n",
    "    prophet.fit(D_Train)\n",
    "    \n",
    "    \n",
    "    \n",
    "    # build future dataframe for 5 years\n",
    "    build_forecast = prophet.make_future_dataframe(periods= periodos , freq='D')\n",
    "    #prophet.make_future_dataframe(periods= periodos, freq='D')\n",
    "    \n",
    "    # forecast future df w/ model\n",
    "    forecast = prophet.predict(build_forecast)\n",
    "    \n",
    "    return(forecast)"
   ]
  },
  {
   "cell_type": "markdown",
   "id": "a3d7b419",
   "metadata": {},
   "source": [
    "## Predicción de todo chile"
   ]
  },
  {
   "cell_type": "code",
   "execution_count": 24,
   "id": "efa3d7dc",
   "metadata": {
    "scrolled": true
   },
   "outputs": [
    {
     "name": "stderr",
     "output_type": "stream",
     "text": [
      "INFO:fbprophet:Disabling daily seasonality. Run prophet with daily_seasonality=True to override this.\n",
      "INFO:fbprophet:Disabling daily seasonality. Run prophet with daily_seasonality=True to override this.\n",
      "INFO:fbprophet:Disabling daily seasonality. Run prophet with daily_seasonality=True to override this.\n",
      "INFO:fbprophet:Disabling daily seasonality. Run prophet with daily_seasonality=True to override this.\n",
      "INFO:fbprophet:Disabling daily seasonality. Run prophet with daily_seasonality=True to override this.\n",
      "INFO:fbprophet:Disabling daily seasonality. Run prophet with daily_seasonality=True to override this.\n",
      "INFO:fbprophet:Disabling daily seasonality. Run prophet with daily_seasonality=True to override this.\n",
      "INFO:fbprophet:Disabling daily seasonality. Run prophet with daily_seasonality=True to override this.\n",
      "INFO:fbprophet:Disabling daily seasonality. Run prophet with daily_seasonality=True to override this.\n",
      "INFO:fbprophet:Disabling daily seasonality. Run prophet with daily_seasonality=True to override this.\n",
      "INFO:fbprophet:Disabling daily seasonality. Run prophet with daily_seasonality=True to override this.\n",
      "INFO:fbprophet:Disabling daily seasonality. Run prophet with daily_seasonality=True to override this.\n",
      "INFO:fbprophet:Disabling daily seasonality. Run prophet with daily_seasonality=True to override this.\n"
     ]
    },
    {
     "data": {
      "text/html": [
       "<div>\n",
       "<style scoped>\n",
       "    .dataframe tbody tr th:only-of-type {\n",
       "        vertical-align: middle;\n",
       "    }\n",
       "\n",
       "    .dataframe tbody tr th {\n",
       "        vertical-align: top;\n",
       "    }\n",
       "\n",
       "    .dataframe thead th {\n",
       "        text-align: right;\n",
       "    }\n",
       "</style>\n",
       "<table border=\"1\" class=\"dataframe\">\n",
       "  <thead>\n",
       "    <tr style=\"text-align: right;\">\n",
       "      <th></th>\n",
       "      <th>Día natural</th>\n",
       "      <th>Predicción Inferior</th>\n",
       "      <th>Predicción Superior</th>\n",
       "      <th>Predicción central</th>\n",
       "      <th>Material</th>\n",
       "      <th>Sector</th>\n",
       "    </tr>\n",
       "  </thead>\n",
       "  <tbody>\n",
       "    <tr>\n",
       "      <th>0</th>\n",
       "      <td>2021-06-12</td>\n",
       "      <td>9280.061862</td>\n",
       "      <td>18009.151910</td>\n",
       "      <td>13680.623828</td>\n",
       "      <td>1020253</td>\n",
       "      <td>Cerdo</td>\n",
       "    </tr>\n",
       "    <tr>\n",
       "      <th>1</th>\n",
       "      <td>2021-06-13</td>\n",
       "      <td>2178.539040</td>\n",
       "      <td>11054.096855</td>\n",
       "      <td>6663.595223</td>\n",
       "      <td>1020253</td>\n",
       "      <td>Cerdo</td>\n",
       "    </tr>\n",
       "    <tr>\n",
       "      <th>2</th>\n",
       "      <td>2021-06-14</td>\n",
       "      <td>6237.783072</td>\n",
       "      <td>15022.564370</td>\n",
       "      <td>10707.495410</td>\n",
       "      <td>1020253</td>\n",
       "      <td>Cerdo</td>\n",
       "    </tr>\n",
       "    <tr>\n",
       "      <th>3</th>\n",
       "      <td>2021-06-15</td>\n",
       "      <td>8055.888034</td>\n",
       "      <td>17049.803913</td>\n",
       "      <td>12744.569866</td>\n",
       "      <td>1020253</td>\n",
       "      <td>Cerdo</td>\n",
       "    </tr>\n",
       "    <tr>\n",
       "      <th>4</th>\n",
       "      <td>2021-06-16</td>\n",
       "      <td>9488.779429</td>\n",
       "      <td>18681.788006</td>\n",
       "      <td>14287.205309</td>\n",
       "      <td>1020253</td>\n",
       "      <td>Cerdo</td>\n",
       "    </tr>\n",
       "  </tbody>\n",
       "</table>\n",
       "</div>"
      ],
      "text/plain": [
       "  Día natural  Predicción Inferior  Predicción Superior  Predicción central  \\\n",
       "0  2021-06-12          9280.061862         18009.151910        13680.623828   \n",
       "1  2021-06-13          2178.539040         11054.096855         6663.595223   \n",
       "2  2021-06-14          6237.783072         15022.564370        10707.495410   \n",
       "3  2021-06-15          8055.888034         17049.803913        12744.569866   \n",
       "4  2021-06-16          9488.779429         18681.788006        14287.205309   \n",
       "\n",
       "  Material Sector  \n",
       "0  1020253  Cerdo  \n",
       "1  1020253  Cerdo  \n",
       "2  1020253  Cerdo  \n",
       "3  1020253  Cerdo  \n",
       "4  1020253  Cerdo  "
      ]
     },
     "execution_count": 24,
     "metadata": {},
     "output_type": "execute_result"
    }
   ],
   "source": [
    "#inicializa con un Data Frame vacio\n",
    "df2 = pd.DataFrame(columns=['ds', 'yhat_lower', 'yhat_upper', 'yhat',\n",
    "                            'Material'])\n",
    "\n",
    "df2.rename(columns = {'ds': 'Día natural', 'yhat': 'Predicción central',\n",
    "                                'yhat_upper': 'Predicción Superior',\n",
    "                                'yhat_lower': 'Predicción Inferior'}, inplace = True)\n",
    "\n",
    "#Crear un listado de los materiales disponibles en la data\n",
    "Listado_de_Materiales=data['Material'].unique()\n",
    "\n",
    "for m in Listado_de_Materiales:\n",
    "    #m=Listado_de_Materiales[0]\n",
    "    dfm=Df_ubic(data,'Material',m).groupby('Día natural').sum().reset_index()[['Día natural',y_col]]\n",
    "    \n",
    "    #Realizar predicción\n",
    "    dfmPred=Predict_sem(dfm,8)[['ds', 'yhat_lower', 'yhat_upper', 'yhat']].tail(8)\n",
    "    dfmPred.rename(columns = {'ds': 'Día natural', 'yhat': 'Predicción central',\n",
    "                                'yhat_upper': 'Predicción Superior',\n",
    "                                'yhat_lower': 'Predicción Inferior'}, inplace = True)\n",
    "    dfmPred['Material']=[m for i in range(dfmPred.shape[0])]\n",
    "    \n",
    "    #Sector del producto(Tipo de carne)\n",
    "    Sec=Df_ubic(data,'Material',m).Sector.unique()[0]\n",
    "    dfmPred['Sector']=[Sec for i in range(dfmPred.shape[0])]\n",
    "    \n",
    "    dfmPred=dfmPred.reset_index()\n",
    "    dfmPred.pop('index')\n",
    "    df2=pd.concat([df2, dfmPred])\n",
    "\n",
    "    \n",
    "df2.head()"
   ]
  },
  {
   "cell_type": "markdown",
   "id": "3a42dae4",
   "metadata": {},
   "source": [
    "### CSV SAVE"
   ]
  },
  {
   "cell_type": "code",
   "execution_count": 25,
   "id": "f5aaa79b",
   "metadata": {},
   "outputs": [
    {
     "name": "stdout",
     "output_type": "stream",
     "text": [
      "nan\n",
      "nan\n"
     ]
    }
   ],
   "source": [
    "\n",
    "min_time=df2['Día natural'].min()\n",
    "min_time=str(min_time).split(' ')[0]\n",
    "print(min_time)\n",
    "max_time=df2['Día natural'].max()\n",
    "max_time=str(max_time).split(' ')[0]\n",
    "print(max_time)"
   ]
  },
  {
   "cell_type": "code",
   "execution_count": 24,
   "id": "b962b2db",
   "metadata": {},
   "outputs": [],
   "source": [
    "#Error_DF_Sum.to_csv('E_interv_Dem.csv', index=False)\n",
    "df2.to_csv('Predicción Todo Chile del'+min_time+' al '+max_time+'.csv', index=False)"
   ]
  },
  {
   "cell_type": "markdown",
   "id": "462caeae",
   "metadata": {},
   "source": [
    "### Analisis Exploratorio"
   ]
  },
  {
   "cell_type": "code",
   "execution_count": 25,
   "id": "56720ef4",
   "metadata": {},
   "outputs": [
    {
     "data": {
      "text/html": [
       "<div>\n",
       "<style scoped>\n",
       "    .dataframe tbody tr th:only-of-type {\n",
       "        vertical-align: middle;\n",
       "    }\n",
       "\n",
       "    .dataframe tbody tr th {\n",
       "        vertical-align: top;\n",
       "    }\n",
       "\n",
       "    .dataframe thead th {\n",
       "        text-align: right;\n",
       "    }\n",
       "</style>\n",
       "<table border=\"1\" class=\"dataframe\">\n",
       "  <thead>\n",
       "    <tr style=\"text-align: right;\">\n",
       "      <th></th>\n",
       "      <th></th>\n",
       "      <th>Predicción Inferior</th>\n",
       "      <th>Predicción Superior</th>\n",
       "      <th>Predicción central</th>\n",
       "    </tr>\n",
       "    <tr>\n",
       "      <th>Material</th>\n",
       "      <th>Sector</th>\n",
       "      <th></th>\n",
       "      <th></th>\n",
       "      <th></th>\n",
       "    </tr>\n",
       "  </thead>\n",
       "  <tbody>\n",
       "    <tr>\n",
       "      <th>1010002</th>\n",
       "      <th>Pollo</th>\n",
       "      <td>84818.162271</td>\n",
       "      <td>2.607600e+05</td>\n",
       "      <td>173854.359913</td>\n",
       "    </tr>\n",
       "    <tr>\n",
       "      <th>1010048</th>\n",
       "      <th>Pollo</th>\n",
       "      <td>33290.964800</td>\n",
       "      <td>3.602771e+05</td>\n",
       "      <td>196939.927339</td>\n",
       "    </tr>\n",
       "    <tr>\n",
       "      <th>1010077</th>\n",
       "      <th>Pollo</th>\n",
       "      <td>11650.815669</td>\n",
       "      <td>5.984597e+04</td>\n",
       "      <td>36042.905637</td>\n",
       "    </tr>\n",
       "    <tr>\n",
       "      <th>1010078</th>\n",
       "      <th>Pollo</th>\n",
       "      <td>668575.656901</td>\n",
       "      <td>1.212335e+06</td>\n",
       "      <td>939917.733762</td>\n",
       "    </tr>\n",
       "    <tr>\n",
       "      <th>1010267</th>\n",
       "      <th>Pollo</th>\n",
       "      <td>149571.619144</td>\n",
       "      <td>3.881611e+05</td>\n",
       "      <td>267047.687966</td>\n",
       "    </tr>\n",
       "    <tr>\n",
       "      <th>1010695</th>\n",
       "      <th>Pollo</th>\n",
       "      <td>7389.255280</td>\n",
       "      <td>1.560197e+05</td>\n",
       "      <td>82107.662351</td>\n",
       "    </tr>\n",
       "    <tr>\n",
       "      <th>1020001</th>\n",
       "      <th>Cerdo</th>\n",
       "      <td>57496.199370</td>\n",
       "      <td>1.360212e+05</td>\n",
       "      <td>96515.554877</td>\n",
       "    </tr>\n",
       "    <tr>\n",
       "      <th>1020003</th>\n",
       "      <th>Cerdo</th>\n",
       "      <td>3896.554147</td>\n",
       "      <td>8.699460e+04</td>\n",
       "      <td>44989.481031</td>\n",
       "    </tr>\n",
       "    <tr>\n",
       "      <th>1020010</th>\n",
       "      <th>Cerdo</th>\n",
       "      <td>160097.767415</td>\n",
       "      <td>2.906070e+05</td>\n",
       "      <td>226217.445300</td>\n",
       "    </tr>\n",
       "    <tr>\n",
       "      <th>1020013</th>\n",
       "      <th>Cerdo</th>\n",
       "      <td>202025.647473</td>\n",
       "      <td>4.489770e+05</td>\n",
       "      <td>326306.479471</td>\n",
       "    </tr>\n",
       "    <tr>\n",
       "      <th>1020027</th>\n",
       "      <th>Cerdo</th>\n",
       "      <td>83041.146615</td>\n",
       "      <td>1.801540e+05</td>\n",
       "      <td>131339.651254</td>\n",
       "    </tr>\n",
       "    <tr>\n",
       "      <th>1020042</th>\n",
       "      <th>Cerdo</th>\n",
       "      <td>9986.358323</td>\n",
       "      <td>4.942560e+04</td>\n",
       "      <td>29308.284228</td>\n",
       "    </tr>\n",
       "    <tr>\n",
       "      <th>1020253</th>\n",
       "      <th>Cerdo</th>\n",
       "      <td>67568.428644</td>\n",
       "      <td>1.392741e+05</td>\n",
       "      <td>103941.051548</td>\n",
       "    </tr>\n",
       "  </tbody>\n",
       "</table>\n",
       "</div>"
      ],
      "text/plain": [
       "                 Predicción Inferior  Predicción Superior  Predicción central\n",
       "Material Sector                                                              \n",
       "1010002  Pollo          84818.162271         2.607600e+05       173854.359913\n",
       "1010048  Pollo          33290.964800         3.602771e+05       196939.927339\n",
       "1010077  Pollo          11650.815669         5.984597e+04        36042.905637\n",
       "1010078  Pollo         668575.656901         1.212335e+06       939917.733762\n",
       "1010267  Pollo         149571.619144         3.881611e+05       267047.687966\n",
       "1010695  Pollo           7389.255280         1.560197e+05        82107.662351\n",
       "1020001  Cerdo          57496.199370         1.360212e+05        96515.554877\n",
       "1020003  Cerdo           3896.554147         8.699460e+04        44989.481031\n",
       "1020010  Cerdo         160097.767415         2.906070e+05       226217.445300\n",
       "1020013  Cerdo         202025.647473         4.489770e+05       326306.479471\n",
       "1020027  Cerdo          83041.146615         1.801540e+05       131339.651254\n",
       "1020042  Cerdo           9986.358323         4.942560e+04        29308.284228\n",
       "1020253  Cerdo          67568.428644         1.392741e+05       103941.051548"
      ]
     },
     "execution_count": 25,
     "metadata": {},
     "output_type": "execute_result"
    }
   ],
   "source": [
    "df2.groupby(['Material','Sector']).sum()"
   ]
  },
  {
   "cell_type": "markdown",
   "id": "ed3cc676",
   "metadata": {
    "heading_collapsed": true
   },
   "source": [
    "## Predicción POR CANAL EN todo chile"
   ]
  },
  {
   "cell_type": "code",
   "execution_count": 26,
   "id": "1110c190",
   "metadata": {
    "hidden": true
   },
   "outputs": [
    {
     "data": {
      "text/plain": [
       "Index(['Sector', 'Material', 'Tipo de cliente', 'Zona de ventas',\n",
       "       'Zona de ventas.1', 'Oficina de Ventas Unifica',\n",
       "       'Oficina de Ventas Unifica.1', 'Mes', 'Año natural/Semana',\n",
       "       'Día natural', 'Día de la semana', 'Kilos Venta KG', 'Venta Neta',\n",
       "       'Precio Promedio', 'Unidad Venta', 'Unidad Precio', 'Semana', 'Año'],\n",
       "      dtype='object')"
      ]
     },
     "execution_count": 26,
     "metadata": {},
     "output_type": "execute_result"
    }
   ],
   "source": [
    "data.columns"
   ]
  },
  {
   "cell_type": "code",
   "execution_count": 27,
   "id": "c07ab861",
   "metadata": {
    "hidden": true,
    "scrolled": true
   },
   "outputs": [
    {
     "name": "stderr",
     "output_type": "stream",
     "text": [
      "INFO:fbprophet:Disabling daily seasonality. Run prophet with daily_seasonality=True to override this.\n",
      "INFO:fbprophet:Disabling daily seasonality. Run prophet with daily_seasonality=True to override this.\n",
      "INFO:fbprophet:Disabling daily seasonality. Run prophet with daily_seasonality=True to override this.\n",
      "INFO:fbprophet:Disabling daily seasonality. Run prophet with daily_seasonality=True to override this.\n",
      "INFO:fbprophet:Disabling daily seasonality. Run prophet with daily_seasonality=True to override this.\n",
      "INFO:fbprophet:Disabling daily seasonality. Run prophet with daily_seasonality=True to override this.\n",
      "INFO:fbprophet:Disabling daily seasonality. Run prophet with daily_seasonality=True to override this.\n",
      "INFO:fbprophet:Disabling daily seasonality. Run prophet with daily_seasonality=True to override this.\n",
      "INFO:fbprophet:Disabling daily seasonality. Run prophet with daily_seasonality=True to override this.\n",
      "INFO:fbprophet:Disabling daily seasonality. Run prophet with daily_seasonality=True to override this.\n",
      "INFO:fbprophet:Disabling daily seasonality. Run prophet with daily_seasonality=True to override this.\n",
      "INFO:fbprophet:Disabling daily seasonality. Run prophet with daily_seasonality=True to override this.\n",
      "INFO:fbprophet:Disabling daily seasonality. Run prophet with daily_seasonality=True to override this.\n",
      "INFO:fbprophet:Disabling daily seasonality. Run prophet with daily_seasonality=True to override this.\n",
      "INFO:fbprophet:Disabling daily seasonality. Run prophet with daily_seasonality=True to override this.\n",
      "INFO:fbprophet:Disabling daily seasonality. Run prophet with daily_seasonality=True to override this.\n",
      "INFO:fbprophet:Disabling daily seasonality. Run prophet with daily_seasonality=True to override this.\n",
      "INFO:fbprophet:Disabling daily seasonality. Run prophet with daily_seasonality=True to override this.\n",
      "INFO:fbprophet:Disabling daily seasonality. Run prophet with daily_seasonality=True to override this.\n",
      "INFO:fbprophet:Disabling daily seasonality. Run prophet with daily_seasonality=True to override this.\n",
      "INFO:fbprophet:Disabling daily seasonality. Run prophet with daily_seasonality=True to override this.\n",
      "INFO:fbprophet:Disabling daily seasonality. Run prophet with daily_seasonality=True to override this.\n",
      "INFO:fbprophet:Disabling daily seasonality. Run prophet with daily_seasonality=True to override this.\n",
      "INFO:fbprophet:Disabling daily seasonality. Run prophet with daily_seasonality=True to override this.\n",
      "INFO:fbprophet:Disabling daily seasonality. Run prophet with daily_seasonality=True to override this.\n",
      "INFO:fbprophet:Disabling daily seasonality. Run prophet with daily_seasonality=True to override this.\n",
      "INFO:fbprophet:Disabling daily seasonality. Run prophet with daily_seasonality=True to override this.\n",
      "INFO:fbprophet:Disabling daily seasonality. Run prophet with daily_seasonality=True to override this.\n",
      "INFO:fbprophet:Disabling daily seasonality. Run prophet with daily_seasonality=True to override this.\n",
      "INFO:fbprophet:Disabling daily seasonality. Run prophet with daily_seasonality=True to override this.\n",
      "INFO:fbprophet:Disabling daily seasonality. Run prophet with daily_seasonality=True to override this.\n",
      "INFO:fbprophet:Disabling daily seasonality. Run prophet with daily_seasonality=True to override this.\n",
      "INFO:fbprophet:Disabling daily seasonality. Run prophet with daily_seasonality=True to override this.\n",
      "INFO:fbprophet:Disabling daily seasonality. Run prophet with daily_seasonality=True to override this.\n",
      "INFO:fbprophet:Disabling daily seasonality. Run prophet with daily_seasonality=True to override this.\n",
      "INFO:fbprophet:Disabling daily seasonality. Run prophet with daily_seasonality=True to override this.\n",
      "INFO:fbprophet:Disabling daily seasonality. Run prophet with daily_seasonality=True to override this.\n",
      "INFO:fbprophet:Disabling daily seasonality. Run prophet with daily_seasonality=True to override this.\n",
      "INFO:fbprophet:Disabling daily seasonality. Run prophet with daily_seasonality=True to override this.\n",
      "INFO:fbprophet:Disabling daily seasonality. Run prophet with daily_seasonality=True to override this.\n",
      "INFO:fbprophet:Disabling daily seasonality. Run prophet with daily_seasonality=True to override this.\n",
      "INFO:fbprophet:Disabling daily seasonality. Run prophet with daily_seasonality=True to override this.\n",
      "INFO:fbprophet:Disabling daily seasonality. Run prophet with daily_seasonality=True to override this.\n",
      "INFO:fbprophet:Disabling daily seasonality. Run prophet with daily_seasonality=True to override this.\n",
      "INFO:fbprophet:Disabling daily seasonality. Run prophet with daily_seasonality=True to override this.\n",
      "INFO:fbprophet:Disabling daily seasonality. Run prophet with daily_seasonality=True to override this.\n",
      "INFO:fbprophet:Disabling daily seasonality. Run prophet with daily_seasonality=True to override this.\n",
      "INFO:fbprophet:Disabling daily seasonality. Run prophet with daily_seasonality=True to override this.\n",
      "INFO:fbprophet:Disabling daily seasonality. Run prophet with daily_seasonality=True to override this.\n",
      "INFO:fbprophet:Disabling daily seasonality. Run prophet with daily_seasonality=True to override this.\n",
      "INFO:fbprophet:Disabling daily seasonality. Run prophet with daily_seasonality=True to override this.\n",
      "INFO:fbprophet:Disabling daily seasonality. Run prophet with daily_seasonality=True to override this.\n"
     ]
    },
    {
     "data": {
      "text/html": [
       "<div>\n",
       "<style scoped>\n",
       "    .dataframe tbody tr th:only-of-type {\n",
       "        vertical-align: middle;\n",
       "    }\n",
       "\n",
       "    .dataframe tbody tr th {\n",
       "        vertical-align: top;\n",
       "    }\n",
       "\n",
       "    .dataframe thead th {\n",
       "        text-align: right;\n",
       "    }\n",
       "</style>\n",
       "<table border=\"1\" class=\"dataframe\">\n",
       "  <thead>\n",
       "    <tr style=\"text-align: right;\">\n",
       "      <th></th>\n",
       "      <th>ds</th>\n",
       "      <th>yhat_lower</th>\n",
       "      <th>yhat_upper</th>\n",
       "      <th>yhat</th>\n",
       "      <th>Material</th>\n",
       "      <th>Sector</th>\n",
       "      <th>Tipo de cliente</th>\n",
       "    </tr>\n",
       "  </thead>\n",
       "  <tbody>\n",
       "    <tr>\n",
       "      <th>0</th>\n",
       "      <td>2021-06-12</td>\n",
       "      <td>6406.265109</td>\n",
       "      <td>13533.990484</td>\n",
       "      <td>9947.250821</td>\n",
       "      <td>1020253</td>\n",
       "      <td>Cerdo</td>\n",
       "      <td>Tradicional</td>\n",
       "    </tr>\n",
       "    <tr>\n",
       "      <th>1</th>\n",
       "      <td>2021-06-13</td>\n",
       "      <td>24.276411</td>\n",
       "      <td>7373.453503</td>\n",
       "      <td>3799.199531</td>\n",
       "      <td>1020253</td>\n",
       "      <td>Cerdo</td>\n",
       "      <td>Tradicional</td>\n",
       "    </tr>\n",
       "    <tr>\n",
       "      <th>2</th>\n",
       "      <td>2021-06-14</td>\n",
       "      <td>3677.006285</td>\n",
       "      <td>10776.902322</td>\n",
       "      <td>7040.434877</td>\n",
       "      <td>1020253</td>\n",
       "      <td>Cerdo</td>\n",
       "      <td>Tradicional</td>\n",
       "    </tr>\n",
       "    <tr>\n",
       "      <th>3</th>\n",
       "      <td>2021-06-15</td>\n",
       "      <td>4470.370458</td>\n",
       "      <td>11689.055196</td>\n",
       "      <td>8256.586063</td>\n",
       "      <td>1020253</td>\n",
       "      <td>Cerdo</td>\n",
       "      <td>Tradicional</td>\n",
       "    </tr>\n",
       "    <tr>\n",
       "      <th>4</th>\n",
       "      <td>2021-06-16</td>\n",
       "      <td>5976.493961</td>\n",
       "      <td>13600.180251</td>\n",
       "      <td>9845.337275</td>\n",
       "      <td>1020253</td>\n",
       "      <td>Cerdo</td>\n",
       "      <td>Tradicional</td>\n",
       "    </tr>\n",
       "  </tbody>\n",
       "</table>\n",
       "</div>"
      ],
      "text/plain": [
       "          ds   yhat_lower    yhat_upper         yhat Material Sector  \\\n",
       "0 2021-06-12  6406.265109  13533.990484  9947.250821  1020253  Cerdo   \n",
       "1 2021-06-13    24.276411   7373.453503  3799.199531  1020253  Cerdo   \n",
       "2 2021-06-14  3677.006285  10776.902322  7040.434877  1020253  Cerdo   \n",
       "3 2021-06-15  4470.370458  11689.055196  8256.586063  1020253  Cerdo   \n",
       "4 2021-06-16  5976.493961  13600.180251  9845.337275  1020253  Cerdo   \n",
       "\n",
       "  Tipo de cliente  \n",
       "0     Tradicional  \n",
       "1     Tradicional  \n",
       "2     Tradicional  \n",
       "3     Tradicional  \n",
       "4     Tradicional  "
      ]
     },
     "execution_count": 27,
     "metadata": {},
     "output_type": "execute_result"
    }
   ],
   "source": [
    "#inicializa con un Data Frame vacio\n",
    "df3 = pd.DataFrame(columns=['ds', 'yhat_lower', 'yhat_upper', 'yhat',\n",
    "                            'Material'])\n",
    "\n",
    "Listado_de_Canales=data['Tipo de cliente'].unique()\n",
    "\n",
    "for c in Listado_de_Canales:\n",
    "    #m=Listado_de_Materiales[0]\n",
    "    dfc=Df_ubic(data,'Tipo de cliente',c)\n",
    "\n",
    "    #Crear un listado de los materiales disponibles en la data\n",
    "    Listado_de_Materiales=dfc[dfc.Año==2021].Material.unique()     \n",
    "\n",
    "\n",
    "    for m in Listado_de_Materiales:\n",
    "        #m=Listado_de_Materiales[0]\n",
    "        dfm=Df_ubic(dfc,'Material',m).groupby('Día natural').sum().reset_index()[['Día natural',y_col]]\n",
    "\n",
    "        #Realizar predicción\n",
    "        dfmPred=Predict_sem(dfm,8)[['ds', 'yhat_lower', 'yhat_upper', 'yhat']].tail(8)\n",
    "\n",
    "        dfmPred['Material']=[m for i in range(dfmPred.shape[0])]\n",
    "\n",
    "        #Sector del producto(Tipo de carne)\n",
    "        Sec=Df_ubic(data,'Material',m).Sector.unique()[0]\n",
    "        dfmPred['Sector']=[Sec for i in range(dfmPred.shape[0])]\n",
    "        \n",
    "        #Canal de ventas\n",
    "        dfmPred['Tipo de cliente']=[c for i in range(dfmPred.shape[0])]\n",
    "        \n",
    "        dfmPred=dfmPred.reset_index()\n",
    "        dfmPred.pop('index')\n",
    "        df3=pd.concat([df3, dfmPred])\n",
    "\n",
    "    \n",
    "df3.head()"
   ]
  },
  {
   "cell_type": "code",
   "execution_count": 28,
   "id": "60272c86",
   "metadata": {
    "hidden": true
   },
   "outputs": [],
   "source": [
    "df3.rename(columns = {'ds': 'Día natural', 'yhat': 'Predicción central',\n",
    "                                'yhat_upper': 'Predicción Superior',\n",
    "                                'yhat_lower': 'Predicción Inferior'}, inplace = True)"
   ]
  },
  {
   "cell_type": "code",
   "execution_count": 29,
   "id": "355e171d",
   "metadata": {
    "hidden": true
   },
   "outputs": [
    {
     "data": {
      "text/html": [
       "<div>\n",
       "<style scoped>\n",
       "    .dataframe tbody tr th:only-of-type {\n",
       "        vertical-align: middle;\n",
       "    }\n",
       "\n",
       "    .dataframe tbody tr th {\n",
       "        vertical-align: top;\n",
       "    }\n",
       "\n",
       "    .dataframe thead th {\n",
       "        text-align: right;\n",
       "    }\n",
       "</style>\n",
       "<table border=\"1\" class=\"dataframe\">\n",
       "  <thead>\n",
       "    <tr style=\"text-align: right;\">\n",
       "      <th></th>\n",
       "      <th>Día natural</th>\n",
       "      <th>Predicción Inferior</th>\n",
       "      <th>Predicción Superior</th>\n",
       "      <th>Predicción central</th>\n",
       "      <th>Material</th>\n",
       "      <th>Sector</th>\n",
       "      <th>Tipo de cliente</th>\n",
       "    </tr>\n",
       "  </thead>\n",
       "  <tbody>\n",
       "    <tr>\n",
       "      <th>3</th>\n",
       "      <td>2021-06-15</td>\n",
       "      <td>-114.763627</td>\n",
       "      <td>2723.506083</td>\n",
       "      <td>1273.466913</td>\n",
       "      <td>1010002</td>\n",
       "      <td>Pollo</td>\n",
       "      <td>Foodservice</td>\n",
       "    </tr>\n",
       "    <tr>\n",
       "      <th>4</th>\n",
       "      <td>2021-06-16</td>\n",
       "      <td>105.975954</td>\n",
       "      <td>3010.555070</td>\n",
       "      <td>1570.806590</td>\n",
       "      <td>1010002</td>\n",
       "      <td>Pollo</td>\n",
       "      <td>Foodservice</td>\n",
       "    </tr>\n",
       "    <tr>\n",
       "      <th>5</th>\n",
       "      <td>2021-06-17</td>\n",
       "      <td>261.730742</td>\n",
       "      <td>3166.752202</td>\n",
       "      <td>1664.442530</td>\n",
       "      <td>1010002</td>\n",
       "      <td>Pollo</td>\n",
       "      <td>Foodservice</td>\n",
       "    </tr>\n",
       "    <tr>\n",
       "      <th>6</th>\n",
       "      <td>2021-06-18</td>\n",
       "      <td>109.894375</td>\n",
       "      <td>3020.018052</td>\n",
       "      <td>1609.255150</td>\n",
       "      <td>1010002</td>\n",
       "      <td>Pollo</td>\n",
       "      <td>Foodservice</td>\n",
       "    </tr>\n",
       "    <tr>\n",
       "      <th>7</th>\n",
       "      <td>2021-06-19</td>\n",
       "      <td>-525.985296</td>\n",
       "      <td>2493.111918</td>\n",
       "      <td>1043.100181</td>\n",
       "      <td>1010002</td>\n",
       "      <td>Pollo</td>\n",
       "      <td>Foodservice</td>\n",
       "    </tr>\n",
       "  </tbody>\n",
       "</table>\n",
       "</div>"
      ],
      "text/plain": [
       "  Día natural  Predicción Inferior  Predicción Superior  Predicción central  \\\n",
       "3  2021-06-15          -114.763627          2723.506083         1273.466913   \n",
       "4  2021-06-16           105.975954          3010.555070         1570.806590   \n",
       "5  2021-06-17           261.730742          3166.752202         1664.442530   \n",
       "6  2021-06-18           109.894375          3020.018052         1609.255150   \n",
       "7  2021-06-19          -525.985296          2493.111918         1043.100181   \n",
       "\n",
       "  Material Sector Tipo de cliente  \n",
       "3  1010002  Pollo     Foodservice  \n",
       "4  1010002  Pollo     Foodservice  \n",
       "5  1010002  Pollo     Foodservice  \n",
       "6  1010002  Pollo     Foodservice  \n",
       "7  1010002  Pollo     Foodservice  "
      ]
     },
     "execution_count": 29,
     "metadata": {},
     "output_type": "execute_result"
    }
   ],
   "source": [
    "df3.tail()"
   ]
  },
  {
   "cell_type": "markdown",
   "id": "bf4ccb0f",
   "metadata": {
    "hidden": true
   },
   "source": [
    "### CSV SAVE"
   ]
  },
  {
   "cell_type": "code",
   "execution_count": 30,
   "id": "57a92bfb",
   "metadata": {
    "hidden": true
   },
   "outputs": [
    {
     "name": "stdout",
     "output_type": "stream",
     "text": [
      "2021-06-10\n",
      "2021-06-19\n"
     ]
    }
   ],
   "source": [
    "min_time=df3['Día natural'].min()\n",
    "min_time=str(min_time).split(' ')[0]\n",
    "print(min_time)\n",
    "max_time=df3['Día natural'].max()\n",
    "max_time=str(max_time).split(' ')[0]\n",
    "print(max_time)"
   ]
  },
  {
   "cell_type": "code",
   "execution_count": 31,
   "id": "0b0a823e",
   "metadata": {
    "hidden": true
   },
   "outputs": [],
   "source": [
    "#Error_DF_Sum.to_csv('E_interv_Dem.csv', index=False)\n",
    "df3.to_csv('Predicción Todo Chile del '+min_time+' al '+max_time+' Diferenciando por canal.csv', index=False)"
   ]
  },
  {
   "cell_type": "markdown",
   "id": "341314a5",
   "metadata": {
    "hidden": true
   },
   "source": [
    "### Exploracion "
   ]
  },
  {
   "cell_type": "code",
   "execution_count": 32,
   "id": "71d8f16f",
   "metadata": {
    "hidden": true,
    "scrolled": true
   },
   "outputs": [
    {
     "data": {
      "text/html": [
       "<div>\n",
       "<style scoped>\n",
       "    .dataframe tbody tr th:only-of-type {\n",
       "        vertical-align: middle;\n",
       "    }\n",
       "\n",
       "    .dataframe tbody tr th {\n",
       "        vertical-align: top;\n",
       "    }\n",
       "\n",
       "    .dataframe thead th {\n",
       "        text-align: right;\n",
       "    }\n",
       "</style>\n",
       "<table border=\"1\" class=\"dataframe\">\n",
       "  <thead>\n",
       "    <tr style=\"text-align: right;\">\n",
       "      <th></th>\n",
       "      <th>Sector</th>\n",
       "      <th>Material</th>\n",
       "      <th>Tipo de cliente</th>\n",
       "      <th>Predicción Inferior</th>\n",
       "      <th>Predicción Superior</th>\n",
       "      <th>Predicción central</th>\n",
       "    </tr>\n",
       "  </thead>\n",
       "  <tbody>\n",
       "    <tr>\n",
       "      <th>0</th>\n",
       "      <td>Cerdo</td>\n",
       "      <td>1020001</td>\n",
       "      <td>Foodservice</td>\n",
       "      <td>-888.759173</td>\n",
       "      <td>2.160379e+03</td>\n",
       "      <td>641.482445</td>\n",
       "    </tr>\n",
       "    <tr>\n",
       "      <th>1</th>\n",
       "      <td>Cerdo</td>\n",
       "      <td>1020001</td>\n",
       "      <td>Grandes Clientes</td>\n",
       "      <td>3740.907517</td>\n",
       "      <td>2.122964e+04</td>\n",
       "      <td>12313.957349</td>\n",
       "    </tr>\n",
       "    <tr>\n",
       "      <th>2</th>\n",
       "      <td>Cerdo</td>\n",
       "      <td>1020001</td>\n",
       "      <td>Industriales</td>\n",
       "      <td>-3228.427499</td>\n",
       "      <td>4.298642e+03</td>\n",
       "      <td>598.826237</td>\n",
       "    </tr>\n",
       "    <tr>\n",
       "      <th>3</th>\n",
       "      <td>Cerdo</td>\n",
       "      <td>1020001</td>\n",
       "      <td>Tradicional</td>\n",
       "      <td>51148.957092</td>\n",
       "      <td>1.154099e+05</td>\n",
       "      <td>82984.604153</td>\n",
       "    </tr>\n",
       "    <tr>\n",
       "      <th>4</th>\n",
       "      <td>Cerdo</td>\n",
       "      <td>1020003</td>\n",
       "      <td>Foodservice</td>\n",
       "      <td>925.403909</td>\n",
       "      <td>6.722116e+03</td>\n",
       "      <td>3848.203218</td>\n",
       "    </tr>\n",
       "    <tr>\n",
       "      <th>5</th>\n",
       "      <td>Cerdo</td>\n",
       "      <td>1020003</td>\n",
       "      <td>Grandes Clientes</td>\n",
       "      <td>-8538.051060</td>\n",
       "      <td>1.244389e+04</td>\n",
       "      <td>2024.732035</td>\n",
       "    </tr>\n",
       "    <tr>\n",
       "      <th>6</th>\n",
       "      <td>Cerdo</td>\n",
       "      <td>1020003</td>\n",
       "      <td>Industriales</td>\n",
       "      <td>-2562.101873</td>\n",
       "      <td>4.556648e+03</td>\n",
       "      <td>1030.964945</td>\n",
       "    </tr>\n",
       "    <tr>\n",
       "      <th>7</th>\n",
       "      <td>Cerdo</td>\n",
       "      <td>1020003</td>\n",
       "      <td>Tradicional</td>\n",
       "      <td>5522.046019</td>\n",
       "      <td>6.916304e+04</td>\n",
       "      <td>37314.907407</td>\n",
       "    </tr>\n",
       "    <tr>\n",
       "      <th>8</th>\n",
       "      <td>Cerdo</td>\n",
       "      <td>1020010</td>\n",
       "      <td>Foodservice</td>\n",
       "      <td>4863.283743</td>\n",
       "      <td>3.226113e+04</td>\n",
       "      <td>18736.320399</td>\n",
       "    </tr>\n",
       "    <tr>\n",
       "      <th>9</th>\n",
       "      <td>Cerdo</td>\n",
       "      <td>1020010</td>\n",
       "      <td>Grandes Clientes</td>\n",
       "      <td>13411.384928</td>\n",
       "      <td>5.101877e+04</td>\n",
       "      <td>32359.292393</td>\n",
       "    </tr>\n",
       "    <tr>\n",
       "      <th>10</th>\n",
       "      <td>Cerdo</td>\n",
       "      <td>1020010</td>\n",
       "      <td>Industriales</td>\n",
       "      <td>-7267.684571</td>\n",
       "      <td>1.158543e+04</td>\n",
       "      <td>2116.821127</td>\n",
       "    </tr>\n",
       "    <tr>\n",
       "      <th>11</th>\n",
       "      <td>Cerdo</td>\n",
       "      <td>1020010</td>\n",
       "      <td>Tradicional</td>\n",
       "      <td>120438.283129</td>\n",
       "      <td>2.139796e+05</td>\n",
       "      <td>166778.335740</td>\n",
       "    </tr>\n",
       "    <tr>\n",
       "      <th>12</th>\n",
       "      <td>Cerdo</td>\n",
       "      <td>1020013</td>\n",
       "      <td>Foodservice</td>\n",
       "      <td>-357.676773</td>\n",
       "      <td>8.277412e+03</td>\n",
       "      <td>3976.828274</td>\n",
       "    </tr>\n",
       "    <tr>\n",
       "      <th>13</th>\n",
       "      <td>Cerdo</td>\n",
       "      <td>1020013</td>\n",
       "      <td>Grandes Clientes</td>\n",
       "      <td>17209.462125</td>\n",
       "      <td>1.051074e+05</td>\n",
       "      <td>60839.815206</td>\n",
       "    </tr>\n",
       "    <tr>\n",
       "      <th>14</th>\n",
       "      <td>Cerdo</td>\n",
       "      <td>1020013</td>\n",
       "      <td>Industriales</td>\n",
       "      <td>-11009.599319</td>\n",
       "      <td>1.897682e+04</td>\n",
       "      <td>4285.884221</td>\n",
       "    </tr>\n",
       "    <tr>\n",
       "      <th>15</th>\n",
       "      <td>Cerdo</td>\n",
       "      <td>1020013</td>\n",
       "      <td>Tradicional</td>\n",
       "      <td>163721.624116</td>\n",
       "      <td>3.482101e+05</td>\n",
       "      <td>256081.163297</td>\n",
       "    </tr>\n",
       "    <tr>\n",
       "      <th>16</th>\n",
       "      <td>Cerdo</td>\n",
       "      <td>1020027</td>\n",
       "      <td>Foodservice</td>\n",
       "      <td>-603.535857</td>\n",
       "      <td>4.778869e+03</td>\n",
       "      <td>2085.529715</td>\n",
       "    </tr>\n",
       "    <tr>\n",
       "      <th>17</th>\n",
       "      <td>Cerdo</td>\n",
       "      <td>1020027</td>\n",
       "      <td>Grandes Clientes</td>\n",
       "      <td>11313.058928</td>\n",
       "      <td>3.583842e+04</td>\n",
       "      <td>23596.642958</td>\n",
       "    </tr>\n",
       "    <tr>\n",
       "      <th>18</th>\n",
       "      <td>Cerdo</td>\n",
       "      <td>1020027</td>\n",
       "      <td>Industriales</td>\n",
       "      <td>-3192.367745</td>\n",
       "      <td>9.212470e+03</td>\n",
       "      <td>2962.166726</td>\n",
       "    </tr>\n",
       "    <tr>\n",
       "      <th>19</th>\n",
       "      <td>Cerdo</td>\n",
       "      <td>1020027</td>\n",
       "      <td>Tradicional</td>\n",
       "      <td>64515.702713</td>\n",
       "      <td>1.438172e+05</td>\n",
       "      <td>104369.440578</td>\n",
       "    </tr>\n",
       "    <tr>\n",
       "      <th>20</th>\n",
       "      <td>Cerdo</td>\n",
       "      <td>1020042</td>\n",
       "      <td>Foodservice</td>\n",
       "      <td>-544.733486</td>\n",
       "      <td>1.391377e+03</td>\n",
       "      <td>412.525485</td>\n",
       "    </tr>\n",
       "    <tr>\n",
       "      <th>21</th>\n",
       "      <td>Cerdo</td>\n",
       "      <td>1020042</td>\n",
       "      <td>Grandes Clientes</td>\n",
       "      <td>-1791.379895</td>\n",
       "      <td>1.199725e+04</td>\n",
       "      <td>4924.333484</td>\n",
       "    </tr>\n",
       "    <tr>\n",
       "      <th>22</th>\n",
       "      <td>Cerdo</td>\n",
       "      <td>1020042</td>\n",
       "      <td>Industriales</td>\n",
       "      <td>3578.179861</td>\n",
       "      <td>1.456369e+04</td>\n",
       "      <td>9094.673066</td>\n",
       "    </tr>\n",
       "    <tr>\n",
       "      <th>23</th>\n",
       "      <td>Cerdo</td>\n",
       "      <td>1020042</td>\n",
       "      <td>Tradicional</td>\n",
       "      <td>2582.030050</td>\n",
       "      <td>2.955854e+04</td>\n",
       "      <td>15933.118551</td>\n",
       "    </tr>\n",
       "    <tr>\n",
       "      <th>24</th>\n",
       "      <td>Cerdo</td>\n",
       "      <td>1020253</td>\n",
       "      <td>Foodservice</td>\n",
       "      <td>13792.283931</td>\n",
       "      <td>2.648695e+04</td>\n",
       "      <td>20049.335698</td>\n",
       "    </tr>\n",
       "    <tr>\n",
       "      <th>25</th>\n",
       "      <td>Cerdo</td>\n",
       "      <td>1020253</td>\n",
       "      <td>Grandes Clientes</td>\n",
       "      <td>41.411013</td>\n",
       "      <td>1.618232e+04</td>\n",
       "      <td>8100.236785</td>\n",
       "    </tr>\n",
       "    <tr>\n",
       "      <th>26</th>\n",
       "      <td>Cerdo</td>\n",
       "      <td>1020253</td>\n",
       "      <td>Industriales</td>\n",
       "      <td>-679.920693</td>\n",
       "      <td>7.462508e+03</td>\n",
       "      <td>3428.749131</td>\n",
       "    </tr>\n",
       "    <tr>\n",
       "      <th>27</th>\n",
       "      <td>Cerdo</td>\n",
       "      <td>1020253</td>\n",
       "      <td>Tradicional</td>\n",
       "      <td>42438.710800</td>\n",
       "      <td>1.000663e+05</td>\n",
       "      <td>71359.504945</td>\n",
       "    </tr>\n",
       "    <tr>\n",
       "      <th>28</th>\n",
       "      <td>Pollo</td>\n",
       "      <td>1010002</td>\n",
       "      <td>Foodservice</td>\n",
       "      <td>-2918.938484</td>\n",
       "      <td>2.041663e+04</td>\n",
       "      <td>8821.897235</td>\n",
       "    </tr>\n",
       "    <tr>\n",
       "      <th>29</th>\n",
       "      <td>Pollo</td>\n",
       "      <td>1010002</td>\n",
       "      <td>Grandes Clientes</td>\n",
       "      <td>1337.983578</td>\n",
       "      <td>5.064655e+04</td>\n",
       "      <td>26190.913482</td>\n",
       "    </tr>\n",
       "    <tr>\n",
       "      <th>30</th>\n",
       "      <td>Pollo</td>\n",
       "      <td>1010002</td>\n",
       "      <td>Industriales</td>\n",
       "      <td>-1123.967023</td>\n",
       "      <td>3.142174e+03</td>\n",
       "      <td>968.646997</td>\n",
       "    </tr>\n",
       "    <tr>\n",
       "      <th>31</th>\n",
       "      <td>Pollo</td>\n",
       "      <td>1010002</td>\n",
       "      <td>Tradicional</td>\n",
       "      <td>78527.429862</td>\n",
       "      <td>2.129739e+05</td>\n",
       "      <td>146111.438873</td>\n",
       "    </tr>\n",
       "    <tr>\n",
       "      <th>32</th>\n",
       "      <td>Pollo</td>\n",
       "      <td>1010048</td>\n",
       "      <td>Foodservice</td>\n",
       "      <td>15673.237399</td>\n",
       "      <td>5.033347e+04</td>\n",
       "      <td>33358.406432</td>\n",
       "    </tr>\n",
       "    <tr>\n",
       "      <th>33</th>\n",
       "      <td>Pollo</td>\n",
       "      <td>1010048</td>\n",
       "      <td>Grandes Clientes</td>\n",
       "      <td>-50681.381856</td>\n",
       "      <td>6.060784e+04</td>\n",
       "      <td>5155.001633</td>\n",
       "    </tr>\n",
       "    <tr>\n",
       "      <th>34</th>\n",
       "      <td>Pollo</td>\n",
       "      <td>1010048</td>\n",
       "      <td>Industriales</td>\n",
       "      <td>-513.055484</td>\n",
       "      <td>4.975085e+03</td>\n",
       "      <td>2198.138661</td>\n",
       "    </tr>\n",
       "    <tr>\n",
       "      <th>35</th>\n",
       "      <td>Pollo</td>\n",
       "      <td>1010048</td>\n",
       "      <td>Tradicional</td>\n",
       "      <td>39031.171154</td>\n",
       "      <td>2.711742e+05</td>\n",
       "      <td>154130.500102</td>\n",
       "    </tr>\n",
       "    <tr>\n",
       "      <th>36</th>\n",
       "      <td>Pollo</td>\n",
       "      <td>1010077</td>\n",
       "      <td>Foodservice</td>\n",
       "      <td>-336.157972</td>\n",
       "      <td>4.323153e+03</td>\n",
       "      <td>2002.430944</td>\n",
       "    </tr>\n",
       "    <tr>\n",
       "      <th>37</th>\n",
       "      <td>Pollo</td>\n",
       "      <td>1010077</td>\n",
       "      <td>Grandes Clientes</td>\n",
       "      <td>-5129.385901</td>\n",
       "      <td>3.414426e+03</td>\n",
       "      <td>-834.358185</td>\n",
       "    </tr>\n",
       "    <tr>\n",
       "      <th>38</th>\n",
       "      <td>Pollo</td>\n",
       "      <td>1010077</td>\n",
       "      <td>Industriales</td>\n",
       "      <td>-1081.723833</td>\n",
       "      <td>8.426371e+02</td>\n",
       "      <td>-123.823792</td>\n",
       "    </tr>\n",
       "    <tr>\n",
       "      <th>39</th>\n",
       "      <td>Pollo</td>\n",
       "      <td>1010077</td>\n",
       "      <td>Tradicional</td>\n",
       "      <td>12199.619928</td>\n",
       "      <td>5.540435e+04</td>\n",
       "      <td>33720.002735</td>\n",
       "    </tr>\n",
       "    <tr>\n",
       "      <th>40</th>\n",
       "      <td>Pollo</td>\n",
       "      <td>1010078</td>\n",
       "      <td>Foodservice</td>\n",
       "      <td>45711.291759</td>\n",
       "      <td>8.111534e+04</td>\n",
       "      <td>63490.454443</td>\n",
       "    </tr>\n",
       "    <tr>\n",
       "      <th>41</th>\n",
       "      <td>Pollo</td>\n",
       "      <td>1010078</td>\n",
       "      <td>Grandes Clientes</td>\n",
       "      <td>6899.814547</td>\n",
       "      <td>1.545496e+05</td>\n",
       "      <td>82112.934385</td>\n",
       "    </tr>\n",
       "    <tr>\n",
       "      <th>42</th>\n",
       "      <td>Pollo</td>\n",
       "      <td>1010078</td>\n",
       "      <td>Industriales</td>\n",
       "      <td>1180.599203</td>\n",
       "      <td>1.973219e+04</td>\n",
       "      <td>10512.345155</td>\n",
       "    </tr>\n",
       "    <tr>\n",
       "      <th>43</th>\n",
       "      <td>Pollo</td>\n",
       "      <td>1010078</td>\n",
       "      <td>Tradicional</td>\n",
       "      <td>575522.204381</td>\n",
       "      <td>1.005348e+06</td>\n",
       "      <td>786640.896517</td>\n",
       "    </tr>\n",
       "    <tr>\n",
       "      <th>44</th>\n",
       "      <td>Pollo</td>\n",
       "      <td>1010267</td>\n",
       "      <td>Foodservice</td>\n",
       "      <td>104539.529501</td>\n",
       "      <td>2.103694e+05</td>\n",
       "      <td>156460.621013</td>\n",
       "    </tr>\n",
       "    <tr>\n",
       "      <th>45</th>\n",
       "      <td>Pollo</td>\n",
       "      <td>1010267</td>\n",
       "      <td>Grandes Clientes</td>\n",
       "      <td>-29423.576120</td>\n",
       "      <td>3.044050e+04</td>\n",
       "      <td>410.696543</td>\n",
       "    </tr>\n",
       "    <tr>\n",
       "      <th>46</th>\n",
       "      <td>Pollo</td>\n",
       "      <td>1010267</td>\n",
       "      <td>Industriales</td>\n",
       "      <td>-29445.338312</td>\n",
       "      <td>2.448152e+04</td>\n",
       "      <td>-2179.934712</td>\n",
       "    </tr>\n",
       "    <tr>\n",
       "      <th>47</th>\n",
       "      <td>Pollo</td>\n",
       "      <td>1010267</td>\n",
       "      <td>Tradicional</td>\n",
       "      <td>37787.928040</td>\n",
       "      <td>1.740935e+05</td>\n",
       "      <td>106136.861382</td>\n",
       "    </tr>\n",
       "    <tr>\n",
       "      <th>48</th>\n",
       "      <td>Pollo</td>\n",
       "      <td>1010695</td>\n",
       "      <td>Foodservice</td>\n",
       "      <td>4714.139560</td>\n",
       "      <td>1.783329e+04</td>\n",
       "      <td>11297.650246</td>\n",
       "    </tr>\n",
       "    <tr>\n",
       "      <th>49</th>\n",
       "      <td>Pollo</td>\n",
       "      <td>1010695</td>\n",
       "      <td>Grandes Clientes</td>\n",
       "      <td>-21493.644801</td>\n",
       "      <td>5.405130e+04</td>\n",
       "      <td>16439.258648</td>\n",
       "    </tr>\n",
       "    <tr>\n",
       "      <th>50</th>\n",
       "      <td>Pollo</td>\n",
       "      <td>1010695</td>\n",
       "      <td>Industriales</td>\n",
       "      <td>-1196.078660</td>\n",
       "      <td>2.572859e+03</td>\n",
       "      <td>690.665209</td>\n",
       "    </tr>\n",
       "    <tr>\n",
       "      <th>51</th>\n",
       "      <td>Pollo</td>\n",
       "      <td>1010695</td>\n",
       "      <td>Tradicional</td>\n",
       "      <td>4380.473234</td>\n",
       "      <td>9.433671e+04</td>\n",
       "      <td>49323.137712</td>\n",
       "    </tr>\n",
       "  </tbody>\n",
       "</table>\n",
       "</div>"
      ],
      "text/plain": [
       "   Sector Material   Tipo de cliente  Predicción Inferior  \\\n",
       "0   Cerdo  1020001       Foodservice          -888.759173   \n",
       "1   Cerdo  1020001  Grandes Clientes          3740.907517   \n",
       "2   Cerdo  1020001      Industriales         -3228.427499   \n",
       "3   Cerdo  1020001       Tradicional         51148.957092   \n",
       "4   Cerdo  1020003       Foodservice           925.403909   \n",
       "5   Cerdo  1020003  Grandes Clientes         -8538.051060   \n",
       "6   Cerdo  1020003      Industriales         -2562.101873   \n",
       "7   Cerdo  1020003       Tradicional          5522.046019   \n",
       "8   Cerdo  1020010       Foodservice          4863.283743   \n",
       "9   Cerdo  1020010  Grandes Clientes         13411.384928   \n",
       "10  Cerdo  1020010      Industriales         -7267.684571   \n",
       "11  Cerdo  1020010       Tradicional        120438.283129   \n",
       "12  Cerdo  1020013       Foodservice          -357.676773   \n",
       "13  Cerdo  1020013  Grandes Clientes         17209.462125   \n",
       "14  Cerdo  1020013      Industriales        -11009.599319   \n",
       "15  Cerdo  1020013       Tradicional        163721.624116   \n",
       "16  Cerdo  1020027       Foodservice          -603.535857   \n",
       "17  Cerdo  1020027  Grandes Clientes         11313.058928   \n",
       "18  Cerdo  1020027      Industriales         -3192.367745   \n",
       "19  Cerdo  1020027       Tradicional         64515.702713   \n",
       "20  Cerdo  1020042       Foodservice          -544.733486   \n",
       "21  Cerdo  1020042  Grandes Clientes         -1791.379895   \n",
       "22  Cerdo  1020042      Industriales          3578.179861   \n",
       "23  Cerdo  1020042       Tradicional          2582.030050   \n",
       "24  Cerdo  1020253       Foodservice         13792.283931   \n",
       "25  Cerdo  1020253  Grandes Clientes            41.411013   \n",
       "26  Cerdo  1020253      Industriales          -679.920693   \n",
       "27  Cerdo  1020253       Tradicional         42438.710800   \n",
       "28  Pollo  1010002       Foodservice         -2918.938484   \n",
       "29  Pollo  1010002  Grandes Clientes          1337.983578   \n",
       "30  Pollo  1010002      Industriales         -1123.967023   \n",
       "31  Pollo  1010002       Tradicional         78527.429862   \n",
       "32  Pollo  1010048       Foodservice         15673.237399   \n",
       "33  Pollo  1010048  Grandes Clientes        -50681.381856   \n",
       "34  Pollo  1010048      Industriales          -513.055484   \n",
       "35  Pollo  1010048       Tradicional         39031.171154   \n",
       "36  Pollo  1010077       Foodservice          -336.157972   \n",
       "37  Pollo  1010077  Grandes Clientes         -5129.385901   \n",
       "38  Pollo  1010077      Industriales         -1081.723833   \n",
       "39  Pollo  1010077       Tradicional         12199.619928   \n",
       "40  Pollo  1010078       Foodservice         45711.291759   \n",
       "41  Pollo  1010078  Grandes Clientes          6899.814547   \n",
       "42  Pollo  1010078      Industriales          1180.599203   \n",
       "43  Pollo  1010078       Tradicional        575522.204381   \n",
       "44  Pollo  1010267       Foodservice        104539.529501   \n",
       "45  Pollo  1010267  Grandes Clientes        -29423.576120   \n",
       "46  Pollo  1010267      Industriales        -29445.338312   \n",
       "47  Pollo  1010267       Tradicional         37787.928040   \n",
       "48  Pollo  1010695       Foodservice          4714.139560   \n",
       "49  Pollo  1010695  Grandes Clientes        -21493.644801   \n",
       "50  Pollo  1010695      Industriales         -1196.078660   \n",
       "51  Pollo  1010695       Tradicional          4380.473234   \n",
       "\n",
       "    Predicción Superior  Predicción central  \n",
       "0          2.160379e+03          641.482445  \n",
       "1          2.122964e+04        12313.957349  \n",
       "2          4.298642e+03          598.826237  \n",
       "3          1.154099e+05        82984.604153  \n",
       "4          6.722116e+03         3848.203218  \n",
       "5          1.244389e+04         2024.732035  \n",
       "6          4.556648e+03         1030.964945  \n",
       "7          6.916304e+04        37314.907407  \n",
       "8          3.226113e+04        18736.320399  \n",
       "9          5.101877e+04        32359.292393  \n",
       "10         1.158543e+04         2116.821127  \n",
       "11         2.139796e+05       166778.335740  \n",
       "12         8.277412e+03         3976.828274  \n",
       "13         1.051074e+05        60839.815206  \n",
       "14         1.897682e+04         4285.884221  \n",
       "15         3.482101e+05       256081.163297  \n",
       "16         4.778869e+03         2085.529715  \n",
       "17         3.583842e+04        23596.642958  \n",
       "18         9.212470e+03         2962.166726  \n",
       "19         1.438172e+05       104369.440578  \n",
       "20         1.391377e+03          412.525485  \n",
       "21         1.199725e+04         4924.333484  \n",
       "22         1.456369e+04         9094.673066  \n",
       "23         2.955854e+04        15933.118551  \n",
       "24         2.648695e+04        20049.335698  \n",
       "25         1.618232e+04         8100.236785  \n",
       "26         7.462508e+03         3428.749131  \n",
       "27         1.000663e+05        71359.504945  \n",
       "28         2.041663e+04         8821.897235  \n",
       "29         5.064655e+04        26190.913482  \n",
       "30         3.142174e+03          968.646997  \n",
       "31         2.129739e+05       146111.438873  \n",
       "32         5.033347e+04        33358.406432  \n",
       "33         6.060784e+04         5155.001633  \n",
       "34         4.975085e+03         2198.138661  \n",
       "35         2.711742e+05       154130.500102  \n",
       "36         4.323153e+03         2002.430944  \n",
       "37         3.414426e+03         -834.358185  \n",
       "38         8.426371e+02         -123.823792  \n",
       "39         5.540435e+04        33720.002735  \n",
       "40         8.111534e+04        63490.454443  \n",
       "41         1.545496e+05        82112.934385  \n",
       "42         1.973219e+04        10512.345155  \n",
       "43         1.005348e+06       786640.896517  \n",
       "44         2.103694e+05       156460.621013  \n",
       "45         3.044050e+04          410.696543  \n",
       "46         2.448152e+04        -2179.934712  \n",
       "47         1.740935e+05       106136.861382  \n",
       "48         1.783329e+04        11297.650246  \n",
       "49         5.405130e+04        16439.258648  \n",
       "50         2.572859e+03          690.665209  \n",
       "51         9.433671e+04        49323.137712  "
      ]
     },
     "execution_count": 32,
     "metadata": {},
     "output_type": "execute_result"
    }
   ],
   "source": [
    "D_sem=df3.groupby(['Sector','Material','Tipo de cliente']).sum().reset_index()\n",
    "D_sem"
   ]
  },
  {
   "cell_type": "code",
   "execution_count": 33,
   "id": "a614ed40",
   "metadata": {
    "hidden": true
   },
   "outputs": [
    {
     "data": {
      "text/html": [
       "<div>\n",
       "<style scoped>\n",
       "    .dataframe tbody tr th:only-of-type {\n",
       "        vertical-align: middle;\n",
       "    }\n",
       "\n",
       "    .dataframe tbody tr th {\n",
       "        vertical-align: top;\n",
       "    }\n",
       "\n",
       "    .dataframe thead th {\n",
       "        text-align: right;\n",
       "    }\n",
       "</style>\n",
       "<table border=\"1\" class=\"dataframe\">\n",
       "  <thead>\n",
       "    <tr style=\"text-align: right;\">\n",
       "      <th></th>\n",
       "      <th>Sector</th>\n",
       "      <th>Material</th>\n",
       "      <th>Tipo de cliente</th>\n",
       "      <th>Predicción Inferior</th>\n",
       "      <th>Predicción Superior</th>\n",
       "      <th>Predicción central</th>\n",
       "    </tr>\n",
       "  </thead>\n",
       "  <tbody>\n",
       "  </tbody>\n",
       "</table>\n",
       "</div>"
      ],
      "text/plain": [
       "Empty DataFrame\n",
       "Columns: [Sector, Material, Tipo de cliente, Predicción Inferior, Predicción Superior, Predicción central]\n",
       "Index: []"
      ]
     },
     "execution_count": 33,
     "metadata": {},
     "output_type": "execute_result"
    }
   ],
   "source": [
    "D_sem[D_sem.Material=='1010130']"
   ]
  },
  {
   "cell_type": "code",
   "execution_count": 34,
   "id": "a59162a5",
   "metadata": {
    "hidden": true
   },
   "outputs": [
    {
     "data": {
      "text/html": [
       "<div>\n",
       "<style scoped>\n",
       "    .dataframe tbody tr th:only-of-type {\n",
       "        vertical-align: middle;\n",
       "    }\n",
       "\n",
       "    .dataframe tbody tr th {\n",
       "        vertical-align: top;\n",
       "    }\n",
       "\n",
       "    .dataframe thead th {\n",
       "        text-align: right;\n",
       "    }\n",
       "</style>\n",
       "<table border=\"1\" class=\"dataframe\">\n",
       "  <thead>\n",
       "    <tr style=\"text-align: right;\">\n",
       "      <th></th>\n",
       "      <th></th>\n",
       "      <th></th>\n",
       "      <th>Predicción Inferior</th>\n",
       "      <th>Predicción Superior</th>\n",
       "      <th>Predicción central</th>\n",
       "    </tr>\n",
       "    <tr>\n",
       "      <th>Sector</th>\n",
       "      <th>Material</th>\n",
       "      <th>Tipo de cliente</th>\n",
       "      <th></th>\n",
       "      <th></th>\n",
       "      <th></th>\n",
       "    </tr>\n",
       "  </thead>\n",
       "  <tbody>\n",
       "    <tr>\n",
       "      <th rowspan=\"28\" valign=\"top\">Cerdo</th>\n",
       "      <th rowspan=\"4\" valign=\"top\">1020001</th>\n",
       "      <th>Foodservice</th>\n",
       "      <td>-888.759173</td>\n",
       "      <td>2.160379e+03</td>\n",
       "      <td>641.482445</td>\n",
       "    </tr>\n",
       "    <tr>\n",
       "      <th>Grandes Clientes</th>\n",
       "      <td>3740.907517</td>\n",
       "      <td>2.122964e+04</td>\n",
       "      <td>12313.957349</td>\n",
       "    </tr>\n",
       "    <tr>\n",
       "      <th>Industriales</th>\n",
       "      <td>-3228.427499</td>\n",
       "      <td>4.298642e+03</td>\n",
       "      <td>598.826237</td>\n",
       "    </tr>\n",
       "    <tr>\n",
       "      <th>Tradicional</th>\n",
       "      <td>51148.957092</td>\n",
       "      <td>1.154099e+05</td>\n",
       "      <td>82984.604153</td>\n",
       "    </tr>\n",
       "    <tr>\n",
       "      <th rowspan=\"4\" valign=\"top\">1020003</th>\n",
       "      <th>Foodservice</th>\n",
       "      <td>925.403909</td>\n",
       "      <td>6.722116e+03</td>\n",
       "      <td>3848.203218</td>\n",
       "    </tr>\n",
       "    <tr>\n",
       "      <th>Grandes Clientes</th>\n",
       "      <td>-8538.051060</td>\n",
       "      <td>1.244389e+04</td>\n",
       "      <td>2024.732035</td>\n",
       "    </tr>\n",
       "    <tr>\n",
       "      <th>Industriales</th>\n",
       "      <td>-2562.101873</td>\n",
       "      <td>4.556648e+03</td>\n",
       "      <td>1030.964945</td>\n",
       "    </tr>\n",
       "    <tr>\n",
       "      <th>Tradicional</th>\n",
       "      <td>5522.046019</td>\n",
       "      <td>6.916304e+04</td>\n",
       "      <td>37314.907407</td>\n",
       "    </tr>\n",
       "    <tr>\n",
       "      <th rowspan=\"4\" valign=\"top\">1020010</th>\n",
       "      <th>Foodservice</th>\n",
       "      <td>4863.283743</td>\n",
       "      <td>3.226113e+04</td>\n",
       "      <td>18736.320399</td>\n",
       "    </tr>\n",
       "    <tr>\n",
       "      <th>Grandes Clientes</th>\n",
       "      <td>13411.384928</td>\n",
       "      <td>5.101877e+04</td>\n",
       "      <td>32359.292393</td>\n",
       "    </tr>\n",
       "    <tr>\n",
       "      <th>Industriales</th>\n",
       "      <td>-7267.684571</td>\n",
       "      <td>1.158543e+04</td>\n",
       "      <td>2116.821127</td>\n",
       "    </tr>\n",
       "    <tr>\n",
       "      <th>Tradicional</th>\n",
       "      <td>120438.283129</td>\n",
       "      <td>2.139796e+05</td>\n",
       "      <td>166778.335740</td>\n",
       "    </tr>\n",
       "    <tr>\n",
       "      <th rowspan=\"4\" valign=\"top\">1020013</th>\n",
       "      <th>Foodservice</th>\n",
       "      <td>-357.676773</td>\n",
       "      <td>8.277412e+03</td>\n",
       "      <td>3976.828274</td>\n",
       "    </tr>\n",
       "    <tr>\n",
       "      <th>Grandes Clientes</th>\n",
       "      <td>17209.462125</td>\n",
       "      <td>1.051074e+05</td>\n",
       "      <td>60839.815206</td>\n",
       "    </tr>\n",
       "    <tr>\n",
       "      <th>Industriales</th>\n",
       "      <td>-11009.599319</td>\n",
       "      <td>1.897682e+04</td>\n",
       "      <td>4285.884221</td>\n",
       "    </tr>\n",
       "    <tr>\n",
       "      <th>Tradicional</th>\n",
       "      <td>163721.624116</td>\n",
       "      <td>3.482101e+05</td>\n",
       "      <td>256081.163297</td>\n",
       "    </tr>\n",
       "    <tr>\n",
       "      <th rowspan=\"4\" valign=\"top\">1020027</th>\n",
       "      <th>Foodservice</th>\n",
       "      <td>-603.535857</td>\n",
       "      <td>4.778869e+03</td>\n",
       "      <td>2085.529715</td>\n",
       "    </tr>\n",
       "    <tr>\n",
       "      <th>Grandes Clientes</th>\n",
       "      <td>11313.058928</td>\n",
       "      <td>3.583842e+04</td>\n",
       "      <td>23596.642958</td>\n",
       "    </tr>\n",
       "    <tr>\n",
       "      <th>Industriales</th>\n",
       "      <td>-3192.367745</td>\n",
       "      <td>9.212470e+03</td>\n",
       "      <td>2962.166726</td>\n",
       "    </tr>\n",
       "    <tr>\n",
       "      <th>Tradicional</th>\n",
       "      <td>64515.702713</td>\n",
       "      <td>1.438172e+05</td>\n",
       "      <td>104369.440578</td>\n",
       "    </tr>\n",
       "    <tr>\n",
       "      <th rowspan=\"4\" valign=\"top\">1020042</th>\n",
       "      <th>Foodservice</th>\n",
       "      <td>-544.733486</td>\n",
       "      <td>1.391377e+03</td>\n",
       "      <td>412.525485</td>\n",
       "    </tr>\n",
       "    <tr>\n",
       "      <th>Grandes Clientes</th>\n",
       "      <td>-1791.379895</td>\n",
       "      <td>1.199725e+04</td>\n",
       "      <td>4924.333484</td>\n",
       "    </tr>\n",
       "    <tr>\n",
       "      <th>Industriales</th>\n",
       "      <td>3578.179861</td>\n",
       "      <td>1.456369e+04</td>\n",
       "      <td>9094.673066</td>\n",
       "    </tr>\n",
       "    <tr>\n",
       "      <th>Tradicional</th>\n",
       "      <td>2582.030050</td>\n",
       "      <td>2.955854e+04</td>\n",
       "      <td>15933.118551</td>\n",
       "    </tr>\n",
       "    <tr>\n",
       "      <th rowspan=\"4\" valign=\"top\">1020253</th>\n",
       "      <th>Foodservice</th>\n",
       "      <td>13792.283931</td>\n",
       "      <td>2.648695e+04</td>\n",
       "      <td>20049.335698</td>\n",
       "    </tr>\n",
       "    <tr>\n",
       "      <th>Grandes Clientes</th>\n",
       "      <td>41.411013</td>\n",
       "      <td>1.618232e+04</td>\n",
       "      <td>8100.236785</td>\n",
       "    </tr>\n",
       "    <tr>\n",
       "      <th>Industriales</th>\n",
       "      <td>-679.920693</td>\n",
       "      <td>7.462508e+03</td>\n",
       "      <td>3428.749131</td>\n",
       "    </tr>\n",
       "    <tr>\n",
       "      <th>Tradicional</th>\n",
       "      <td>42438.710800</td>\n",
       "      <td>1.000663e+05</td>\n",
       "      <td>71359.504945</td>\n",
       "    </tr>\n",
       "    <tr>\n",
       "      <th rowspan=\"24\" valign=\"top\">Pollo</th>\n",
       "      <th rowspan=\"4\" valign=\"top\">1010002</th>\n",
       "      <th>Foodservice</th>\n",
       "      <td>-2918.938484</td>\n",
       "      <td>2.041663e+04</td>\n",
       "      <td>8821.897235</td>\n",
       "    </tr>\n",
       "    <tr>\n",
       "      <th>Grandes Clientes</th>\n",
       "      <td>1337.983578</td>\n",
       "      <td>5.064655e+04</td>\n",
       "      <td>26190.913482</td>\n",
       "    </tr>\n",
       "    <tr>\n",
       "      <th>Industriales</th>\n",
       "      <td>-1123.967023</td>\n",
       "      <td>3.142174e+03</td>\n",
       "      <td>968.646997</td>\n",
       "    </tr>\n",
       "    <tr>\n",
       "      <th>Tradicional</th>\n",
       "      <td>78527.429862</td>\n",
       "      <td>2.129739e+05</td>\n",
       "      <td>146111.438873</td>\n",
       "    </tr>\n",
       "    <tr>\n",
       "      <th rowspan=\"4\" valign=\"top\">1010048</th>\n",
       "      <th>Foodservice</th>\n",
       "      <td>15673.237399</td>\n",
       "      <td>5.033347e+04</td>\n",
       "      <td>33358.406432</td>\n",
       "    </tr>\n",
       "    <tr>\n",
       "      <th>Grandes Clientes</th>\n",
       "      <td>-50681.381856</td>\n",
       "      <td>6.060784e+04</td>\n",
       "      <td>5155.001633</td>\n",
       "    </tr>\n",
       "    <tr>\n",
       "      <th>Industriales</th>\n",
       "      <td>-513.055484</td>\n",
       "      <td>4.975085e+03</td>\n",
       "      <td>2198.138661</td>\n",
       "    </tr>\n",
       "    <tr>\n",
       "      <th>Tradicional</th>\n",
       "      <td>39031.171154</td>\n",
       "      <td>2.711742e+05</td>\n",
       "      <td>154130.500102</td>\n",
       "    </tr>\n",
       "    <tr>\n",
       "      <th rowspan=\"4\" valign=\"top\">1010077</th>\n",
       "      <th>Foodservice</th>\n",
       "      <td>-336.157972</td>\n",
       "      <td>4.323153e+03</td>\n",
       "      <td>2002.430944</td>\n",
       "    </tr>\n",
       "    <tr>\n",
       "      <th>Grandes Clientes</th>\n",
       "      <td>-5129.385901</td>\n",
       "      <td>3.414426e+03</td>\n",
       "      <td>-834.358185</td>\n",
       "    </tr>\n",
       "    <tr>\n",
       "      <th>Industriales</th>\n",
       "      <td>-1081.723833</td>\n",
       "      <td>8.426371e+02</td>\n",
       "      <td>-123.823792</td>\n",
       "    </tr>\n",
       "    <tr>\n",
       "      <th>Tradicional</th>\n",
       "      <td>12199.619928</td>\n",
       "      <td>5.540435e+04</td>\n",
       "      <td>33720.002735</td>\n",
       "    </tr>\n",
       "    <tr>\n",
       "      <th rowspan=\"4\" valign=\"top\">1010078</th>\n",
       "      <th>Foodservice</th>\n",
       "      <td>45711.291759</td>\n",
       "      <td>8.111534e+04</td>\n",
       "      <td>63490.454443</td>\n",
       "    </tr>\n",
       "    <tr>\n",
       "      <th>Grandes Clientes</th>\n",
       "      <td>6899.814547</td>\n",
       "      <td>1.545496e+05</td>\n",
       "      <td>82112.934385</td>\n",
       "    </tr>\n",
       "    <tr>\n",
       "      <th>Industriales</th>\n",
       "      <td>1180.599203</td>\n",
       "      <td>1.973219e+04</td>\n",
       "      <td>10512.345155</td>\n",
       "    </tr>\n",
       "    <tr>\n",
       "      <th>Tradicional</th>\n",
       "      <td>575522.204381</td>\n",
       "      <td>1.005348e+06</td>\n",
       "      <td>786640.896517</td>\n",
       "    </tr>\n",
       "    <tr>\n",
       "      <th rowspan=\"4\" valign=\"top\">1010267</th>\n",
       "      <th>Foodservice</th>\n",
       "      <td>104539.529501</td>\n",
       "      <td>2.103694e+05</td>\n",
       "      <td>156460.621013</td>\n",
       "    </tr>\n",
       "    <tr>\n",
       "      <th>Grandes Clientes</th>\n",
       "      <td>-29423.576120</td>\n",
       "      <td>3.044050e+04</td>\n",
       "      <td>410.696543</td>\n",
       "    </tr>\n",
       "    <tr>\n",
       "      <th>Industriales</th>\n",
       "      <td>-29445.338312</td>\n",
       "      <td>2.448152e+04</td>\n",
       "      <td>-2179.934712</td>\n",
       "    </tr>\n",
       "    <tr>\n",
       "      <th>Tradicional</th>\n",
       "      <td>37787.928040</td>\n",
       "      <td>1.740935e+05</td>\n",
       "      <td>106136.861382</td>\n",
       "    </tr>\n",
       "    <tr>\n",
       "      <th rowspan=\"4\" valign=\"top\">1010695</th>\n",
       "      <th>Foodservice</th>\n",
       "      <td>4714.139560</td>\n",
       "      <td>1.783329e+04</td>\n",
       "      <td>11297.650246</td>\n",
       "    </tr>\n",
       "    <tr>\n",
       "      <th>Grandes Clientes</th>\n",
       "      <td>-21493.644801</td>\n",
       "      <td>5.405130e+04</td>\n",
       "      <td>16439.258648</td>\n",
       "    </tr>\n",
       "    <tr>\n",
       "      <th>Industriales</th>\n",
       "      <td>-1196.078660</td>\n",
       "      <td>2.572859e+03</td>\n",
       "      <td>690.665209</td>\n",
       "    </tr>\n",
       "    <tr>\n",
       "      <th>Tradicional</th>\n",
       "      <td>4380.473234</td>\n",
       "      <td>9.433671e+04</td>\n",
       "      <td>49323.137712</td>\n",
       "    </tr>\n",
       "  </tbody>\n",
       "</table>\n",
       "</div>"
      ],
      "text/plain": [
       "                                  Predicción Inferior  Predicción Superior  \\\n",
       "Sector Material Tipo de cliente                                              \n",
       "Cerdo  1020001  Foodservice               -888.759173         2.160379e+03   \n",
       "                Grandes Clientes          3740.907517         2.122964e+04   \n",
       "                Industriales             -3228.427499         4.298642e+03   \n",
       "                Tradicional              51148.957092         1.154099e+05   \n",
       "       1020003  Foodservice                925.403909         6.722116e+03   \n",
       "                Grandes Clientes         -8538.051060         1.244389e+04   \n",
       "                Industriales             -2562.101873         4.556648e+03   \n",
       "                Tradicional               5522.046019         6.916304e+04   \n",
       "       1020010  Foodservice               4863.283743         3.226113e+04   \n",
       "                Grandes Clientes         13411.384928         5.101877e+04   \n",
       "                Industriales             -7267.684571         1.158543e+04   \n",
       "                Tradicional             120438.283129         2.139796e+05   \n",
       "       1020013  Foodservice               -357.676773         8.277412e+03   \n",
       "                Grandes Clientes         17209.462125         1.051074e+05   \n",
       "                Industriales            -11009.599319         1.897682e+04   \n",
       "                Tradicional             163721.624116         3.482101e+05   \n",
       "       1020027  Foodservice               -603.535857         4.778869e+03   \n",
       "                Grandes Clientes         11313.058928         3.583842e+04   \n",
       "                Industriales             -3192.367745         9.212470e+03   \n",
       "                Tradicional              64515.702713         1.438172e+05   \n",
       "       1020042  Foodservice               -544.733486         1.391377e+03   \n",
       "                Grandes Clientes         -1791.379895         1.199725e+04   \n",
       "                Industriales              3578.179861         1.456369e+04   \n",
       "                Tradicional               2582.030050         2.955854e+04   \n",
       "       1020253  Foodservice              13792.283931         2.648695e+04   \n",
       "                Grandes Clientes            41.411013         1.618232e+04   \n",
       "                Industriales              -679.920693         7.462508e+03   \n",
       "                Tradicional              42438.710800         1.000663e+05   \n",
       "Pollo  1010002  Foodservice              -2918.938484         2.041663e+04   \n",
       "                Grandes Clientes          1337.983578         5.064655e+04   \n",
       "                Industriales             -1123.967023         3.142174e+03   \n",
       "                Tradicional              78527.429862         2.129739e+05   \n",
       "       1010048  Foodservice              15673.237399         5.033347e+04   \n",
       "                Grandes Clientes        -50681.381856         6.060784e+04   \n",
       "                Industriales              -513.055484         4.975085e+03   \n",
       "                Tradicional              39031.171154         2.711742e+05   \n",
       "       1010077  Foodservice               -336.157972         4.323153e+03   \n",
       "                Grandes Clientes         -5129.385901         3.414426e+03   \n",
       "                Industriales             -1081.723833         8.426371e+02   \n",
       "                Tradicional              12199.619928         5.540435e+04   \n",
       "       1010078  Foodservice              45711.291759         8.111534e+04   \n",
       "                Grandes Clientes          6899.814547         1.545496e+05   \n",
       "                Industriales              1180.599203         1.973219e+04   \n",
       "                Tradicional             575522.204381         1.005348e+06   \n",
       "       1010267  Foodservice             104539.529501         2.103694e+05   \n",
       "                Grandes Clientes        -29423.576120         3.044050e+04   \n",
       "                Industriales            -29445.338312         2.448152e+04   \n",
       "                Tradicional              37787.928040         1.740935e+05   \n",
       "       1010695  Foodservice               4714.139560         1.783329e+04   \n",
       "                Grandes Clientes        -21493.644801         5.405130e+04   \n",
       "                Industriales             -1196.078660         2.572859e+03   \n",
       "                Tradicional               4380.473234         9.433671e+04   \n",
       "\n",
       "                                  Predicción central  \n",
       "Sector Material Tipo de cliente                       \n",
       "Cerdo  1020001  Foodservice               641.482445  \n",
       "                Grandes Clientes        12313.957349  \n",
       "                Industriales              598.826237  \n",
       "                Tradicional             82984.604153  \n",
       "       1020003  Foodservice              3848.203218  \n",
       "                Grandes Clientes         2024.732035  \n",
       "                Industriales             1030.964945  \n",
       "                Tradicional             37314.907407  \n",
       "       1020010  Foodservice             18736.320399  \n",
       "                Grandes Clientes        32359.292393  \n",
       "                Industriales             2116.821127  \n",
       "                Tradicional            166778.335740  \n",
       "       1020013  Foodservice              3976.828274  \n",
       "                Grandes Clientes        60839.815206  \n",
       "                Industriales             4285.884221  \n",
       "                Tradicional            256081.163297  \n",
       "       1020027  Foodservice              2085.529715  \n",
       "                Grandes Clientes        23596.642958  \n",
       "                Industriales             2962.166726  \n",
       "                Tradicional            104369.440578  \n",
       "       1020042  Foodservice               412.525485  \n",
       "                Grandes Clientes         4924.333484  \n",
       "                Industriales             9094.673066  \n",
       "                Tradicional             15933.118551  \n",
       "       1020253  Foodservice             20049.335698  \n",
       "                Grandes Clientes         8100.236785  \n",
       "                Industriales             3428.749131  \n",
       "                Tradicional             71359.504945  \n",
       "Pollo  1010002  Foodservice              8821.897235  \n",
       "                Grandes Clientes        26190.913482  \n",
       "                Industriales              968.646997  \n",
       "                Tradicional            146111.438873  \n",
       "       1010048  Foodservice             33358.406432  \n",
       "                Grandes Clientes         5155.001633  \n",
       "                Industriales             2198.138661  \n",
       "                Tradicional            154130.500102  \n",
       "       1010077  Foodservice              2002.430944  \n",
       "                Grandes Clientes         -834.358185  \n",
       "                Industriales             -123.823792  \n",
       "                Tradicional             33720.002735  \n",
       "       1010078  Foodservice             63490.454443  \n",
       "                Grandes Clientes        82112.934385  \n",
       "                Industriales            10512.345155  \n",
       "                Tradicional            786640.896517  \n",
       "       1010267  Foodservice            156460.621013  \n",
       "                Grandes Clientes          410.696543  \n",
       "                Industriales            -2179.934712  \n",
       "                Tradicional            106136.861382  \n",
       "       1010695  Foodservice             11297.650246  \n",
       "                Grandes Clientes        16439.258648  \n",
       "                Industriales              690.665209  \n",
       "                Tradicional             49323.137712  "
      ]
     },
     "execution_count": 34,
     "metadata": {},
     "output_type": "execute_result"
    }
   ],
   "source": [
    "df3.groupby(['Sector','Material','Tipo de cliente']).sum()"
   ]
  },
  {
   "cell_type": "code",
   "execution_count": 35,
   "id": "1a01474f",
   "metadata": {
    "hidden": true
   },
   "outputs": [
    {
     "data": {
      "text/html": [
       "<div>\n",
       "<style scoped>\n",
       "    .dataframe tbody tr th:only-of-type {\n",
       "        vertical-align: middle;\n",
       "    }\n",
       "\n",
       "    .dataframe tbody tr th {\n",
       "        vertical-align: top;\n",
       "    }\n",
       "\n",
       "    .dataframe thead th {\n",
       "        text-align: right;\n",
       "    }\n",
       "</style>\n",
       "<table border=\"1\" class=\"dataframe\">\n",
       "  <thead>\n",
       "    <tr style=\"text-align: right;\">\n",
       "      <th></th>\n",
       "      <th></th>\n",
       "      <th></th>\n",
       "      <th>Predicción Inferior</th>\n",
       "      <th>Predicción Superior</th>\n",
       "      <th>Predicción central</th>\n",
       "    </tr>\n",
       "    <tr>\n",
       "      <th>Sector</th>\n",
       "      <th>Material</th>\n",
       "      <th>Tipo de cliente</th>\n",
       "      <th></th>\n",
       "      <th></th>\n",
       "      <th></th>\n",
       "    </tr>\n",
       "  </thead>\n",
       "  <tbody>\n",
       "    <tr>\n",
       "      <th rowspan=\"28\" valign=\"top\">Cerdo</th>\n",
       "      <th rowspan=\"4\" valign=\"top\">1020001</th>\n",
       "      <th>Foodservice</th>\n",
       "      <td>-888.759173</td>\n",
       "      <td>2.160379e+03</td>\n",
       "      <td>641.482445</td>\n",
       "    </tr>\n",
       "    <tr>\n",
       "      <th>Grandes Clientes</th>\n",
       "      <td>3740.907517</td>\n",
       "      <td>2.122964e+04</td>\n",
       "      <td>12313.957349</td>\n",
       "    </tr>\n",
       "    <tr>\n",
       "      <th>Industriales</th>\n",
       "      <td>-3228.427499</td>\n",
       "      <td>4.298642e+03</td>\n",
       "      <td>598.826237</td>\n",
       "    </tr>\n",
       "    <tr>\n",
       "      <th>Tradicional</th>\n",
       "      <td>51148.957092</td>\n",
       "      <td>1.154099e+05</td>\n",
       "      <td>82984.604153</td>\n",
       "    </tr>\n",
       "    <tr>\n",
       "      <th rowspan=\"4\" valign=\"top\">1020003</th>\n",
       "      <th>Foodservice</th>\n",
       "      <td>925.403909</td>\n",
       "      <td>6.722116e+03</td>\n",
       "      <td>3848.203218</td>\n",
       "    </tr>\n",
       "    <tr>\n",
       "      <th>Grandes Clientes</th>\n",
       "      <td>-8538.051060</td>\n",
       "      <td>1.244389e+04</td>\n",
       "      <td>2024.732035</td>\n",
       "    </tr>\n",
       "    <tr>\n",
       "      <th>Industriales</th>\n",
       "      <td>-2562.101873</td>\n",
       "      <td>4.556648e+03</td>\n",
       "      <td>1030.964945</td>\n",
       "    </tr>\n",
       "    <tr>\n",
       "      <th>Tradicional</th>\n",
       "      <td>5522.046019</td>\n",
       "      <td>6.916304e+04</td>\n",
       "      <td>37314.907407</td>\n",
       "    </tr>\n",
       "    <tr>\n",
       "      <th rowspan=\"4\" valign=\"top\">1020010</th>\n",
       "      <th>Foodservice</th>\n",
       "      <td>4863.283743</td>\n",
       "      <td>3.226113e+04</td>\n",
       "      <td>18736.320399</td>\n",
       "    </tr>\n",
       "    <tr>\n",
       "      <th>Grandes Clientes</th>\n",
       "      <td>13411.384928</td>\n",
       "      <td>5.101877e+04</td>\n",
       "      <td>32359.292393</td>\n",
       "    </tr>\n",
       "    <tr>\n",
       "      <th>Industriales</th>\n",
       "      <td>-7267.684571</td>\n",
       "      <td>1.158543e+04</td>\n",
       "      <td>2116.821127</td>\n",
       "    </tr>\n",
       "    <tr>\n",
       "      <th>Tradicional</th>\n",
       "      <td>120438.283129</td>\n",
       "      <td>2.139796e+05</td>\n",
       "      <td>166778.335740</td>\n",
       "    </tr>\n",
       "    <tr>\n",
       "      <th rowspan=\"4\" valign=\"top\">1020013</th>\n",
       "      <th>Foodservice</th>\n",
       "      <td>-357.676773</td>\n",
       "      <td>8.277412e+03</td>\n",
       "      <td>3976.828274</td>\n",
       "    </tr>\n",
       "    <tr>\n",
       "      <th>Grandes Clientes</th>\n",
       "      <td>17209.462125</td>\n",
       "      <td>1.051074e+05</td>\n",
       "      <td>60839.815206</td>\n",
       "    </tr>\n",
       "    <tr>\n",
       "      <th>Industriales</th>\n",
       "      <td>-11009.599319</td>\n",
       "      <td>1.897682e+04</td>\n",
       "      <td>4285.884221</td>\n",
       "    </tr>\n",
       "    <tr>\n",
       "      <th>Tradicional</th>\n",
       "      <td>163721.624116</td>\n",
       "      <td>3.482101e+05</td>\n",
       "      <td>256081.163297</td>\n",
       "    </tr>\n",
       "    <tr>\n",
       "      <th rowspan=\"4\" valign=\"top\">1020027</th>\n",
       "      <th>Foodservice</th>\n",
       "      <td>-603.535857</td>\n",
       "      <td>4.778869e+03</td>\n",
       "      <td>2085.529715</td>\n",
       "    </tr>\n",
       "    <tr>\n",
       "      <th>Grandes Clientes</th>\n",
       "      <td>11313.058928</td>\n",
       "      <td>3.583842e+04</td>\n",
       "      <td>23596.642958</td>\n",
       "    </tr>\n",
       "    <tr>\n",
       "      <th>Industriales</th>\n",
       "      <td>-3192.367745</td>\n",
       "      <td>9.212470e+03</td>\n",
       "      <td>2962.166726</td>\n",
       "    </tr>\n",
       "    <tr>\n",
       "      <th>Tradicional</th>\n",
       "      <td>64515.702713</td>\n",
       "      <td>1.438172e+05</td>\n",
       "      <td>104369.440578</td>\n",
       "    </tr>\n",
       "    <tr>\n",
       "      <th rowspan=\"4\" valign=\"top\">1020042</th>\n",
       "      <th>Foodservice</th>\n",
       "      <td>-544.733486</td>\n",
       "      <td>1.391377e+03</td>\n",
       "      <td>412.525485</td>\n",
       "    </tr>\n",
       "    <tr>\n",
       "      <th>Grandes Clientes</th>\n",
       "      <td>-1791.379895</td>\n",
       "      <td>1.199725e+04</td>\n",
       "      <td>4924.333484</td>\n",
       "    </tr>\n",
       "    <tr>\n",
       "      <th>Industriales</th>\n",
       "      <td>3578.179861</td>\n",
       "      <td>1.456369e+04</td>\n",
       "      <td>9094.673066</td>\n",
       "    </tr>\n",
       "    <tr>\n",
       "      <th>Tradicional</th>\n",
       "      <td>2582.030050</td>\n",
       "      <td>2.955854e+04</td>\n",
       "      <td>15933.118551</td>\n",
       "    </tr>\n",
       "    <tr>\n",
       "      <th rowspan=\"4\" valign=\"top\">1020253</th>\n",
       "      <th>Foodservice</th>\n",
       "      <td>13792.283931</td>\n",
       "      <td>2.648695e+04</td>\n",
       "      <td>20049.335698</td>\n",
       "    </tr>\n",
       "    <tr>\n",
       "      <th>Grandes Clientes</th>\n",
       "      <td>41.411013</td>\n",
       "      <td>1.618232e+04</td>\n",
       "      <td>8100.236785</td>\n",
       "    </tr>\n",
       "    <tr>\n",
       "      <th>Industriales</th>\n",
       "      <td>-679.920693</td>\n",
       "      <td>7.462508e+03</td>\n",
       "      <td>3428.749131</td>\n",
       "    </tr>\n",
       "    <tr>\n",
       "      <th>Tradicional</th>\n",
       "      <td>42438.710800</td>\n",
       "      <td>1.000663e+05</td>\n",
       "      <td>71359.504945</td>\n",
       "    </tr>\n",
       "    <tr>\n",
       "      <th rowspan=\"24\" valign=\"top\">Pollo</th>\n",
       "      <th rowspan=\"4\" valign=\"top\">1010002</th>\n",
       "      <th>Foodservice</th>\n",
       "      <td>-2918.938484</td>\n",
       "      <td>2.041663e+04</td>\n",
       "      <td>8821.897235</td>\n",
       "    </tr>\n",
       "    <tr>\n",
       "      <th>Grandes Clientes</th>\n",
       "      <td>1337.983578</td>\n",
       "      <td>5.064655e+04</td>\n",
       "      <td>26190.913482</td>\n",
       "    </tr>\n",
       "    <tr>\n",
       "      <th>Industriales</th>\n",
       "      <td>-1123.967023</td>\n",
       "      <td>3.142174e+03</td>\n",
       "      <td>968.646997</td>\n",
       "    </tr>\n",
       "    <tr>\n",
       "      <th>Tradicional</th>\n",
       "      <td>78527.429862</td>\n",
       "      <td>2.129739e+05</td>\n",
       "      <td>146111.438873</td>\n",
       "    </tr>\n",
       "    <tr>\n",
       "      <th rowspan=\"4\" valign=\"top\">1010048</th>\n",
       "      <th>Foodservice</th>\n",
       "      <td>15673.237399</td>\n",
       "      <td>5.033347e+04</td>\n",
       "      <td>33358.406432</td>\n",
       "    </tr>\n",
       "    <tr>\n",
       "      <th>Grandes Clientes</th>\n",
       "      <td>-50681.381856</td>\n",
       "      <td>6.060784e+04</td>\n",
       "      <td>5155.001633</td>\n",
       "    </tr>\n",
       "    <tr>\n",
       "      <th>Industriales</th>\n",
       "      <td>-513.055484</td>\n",
       "      <td>4.975085e+03</td>\n",
       "      <td>2198.138661</td>\n",
       "    </tr>\n",
       "    <tr>\n",
       "      <th>Tradicional</th>\n",
       "      <td>39031.171154</td>\n",
       "      <td>2.711742e+05</td>\n",
       "      <td>154130.500102</td>\n",
       "    </tr>\n",
       "    <tr>\n",
       "      <th rowspan=\"4\" valign=\"top\">1010077</th>\n",
       "      <th>Foodservice</th>\n",
       "      <td>-336.157972</td>\n",
       "      <td>4.323153e+03</td>\n",
       "      <td>2002.430944</td>\n",
       "    </tr>\n",
       "    <tr>\n",
       "      <th>Grandes Clientes</th>\n",
       "      <td>-5129.385901</td>\n",
       "      <td>3.414426e+03</td>\n",
       "      <td>-834.358185</td>\n",
       "    </tr>\n",
       "    <tr>\n",
       "      <th>Industriales</th>\n",
       "      <td>-1081.723833</td>\n",
       "      <td>8.426371e+02</td>\n",
       "      <td>-123.823792</td>\n",
       "    </tr>\n",
       "    <tr>\n",
       "      <th>Tradicional</th>\n",
       "      <td>12199.619928</td>\n",
       "      <td>5.540435e+04</td>\n",
       "      <td>33720.002735</td>\n",
       "    </tr>\n",
       "    <tr>\n",
       "      <th rowspan=\"4\" valign=\"top\">1010078</th>\n",
       "      <th>Foodservice</th>\n",
       "      <td>45711.291759</td>\n",
       "      <td>8.111534e+04</td>\n",
       "      <td>63490.454443</td>\n",
       "    </tr>\n",
       "    <tr>\n",
       "      <th>Grandes Clientes</th>\n",
       "      <td>6899.814547</td>\n",
       "      <td>1.545496e+05</td>\n",
       "      <td>82112.934385</td>\n",
       "    </tr>\n",
       "    <tr>\n",
       "      <th>Industriales</th>\n",
       "      <td>1180.599203</td>\n",
       "      <td>1.973219e+04</td>\n",
       "      <td>10512.345155</td>\n",
       "    </tr>\n",
       "    <tr>\n",
       "      <th>Tradicional</th>\n",
       "      <td>575522.204381</td>\n",
       "      <td>1.005348e+06</td>\n",
       "      <td>786640.896517</td>\n",
       "    </tr>\n",
       "    <tr>\n",
       "      <th rowspan=\"4\" valign=\"top\">1010267</th>\n",
       "      <th>Foodservice</th>\n",
       "      <td>104539.529501</td>\n",
       "      <td>2.103694e+05</td>\n",
       "      <td>156460.621013</td>\n",
       "    </tr>\n",
       "    <tr>\n",
       "      <th>Grandes Clientes</th>\n",
       "      <td>-29423.576120</td>\n",
       "      <td>3.044050e+04</td>\n",
       "      <td>410.696543</td>\n",
       "    </tr>\n",
       "    <tr>\n",
       "      <th>Industriales</th>\n",
       "      <td>-29445.338312</td>\n",
       "      <td>2.448152e+04</td>\n",
       "      <td>-2179.934712</td>\n",
       "    </tr>\n",
       "    <tr>\n",
       "      <th>Tradicional</th>\n",
       "      <td>37787.928040</td>\n",
       "      <td>1.740935e+05</td>\n",
       "      <td>106136.861382</td>\n",
       "    </tr>\n",
       "    <tr>\n",
       "      <th rowspan=\"4\" valign=\"top\">1010695</th>\n",
       "      <th>Foodservice</th>\n",
       "      <td>4714.139560</td>\n",
       "      <td>1.783329e+04</td>\n",
       "      <td>11297.650246</td>\n",
       "    </tr>\n",
       "    <tr>\n",
       "      <th>Grandes Clientes</th>\n",
       "      <td>-21493.644801</td>\n",
       "      <td>5.405130e+04</td>\n",
       "      <td>16439.258648</td>\n",
       "    </tr>\n",
       "    <tr>\n",
       "      <th>Industriales</th>\n",
       "      <td>-1196.078660</td>\n",
       "      <td>2.572859e+03</td>\n",
       "      <td>690.665209</td>\n",
       "    </tr>\n",
       "    <tr>\n",
       "      <th>Tradicional</th>\n",
       "      <td>4380.473234</td>\n",
       "      <td>9.433671e+04</td>\n",
       "      <td>49323.137712</td>\n",
       "    </tr>\n",
       "  </tbody>\n",
       "</table>\n",
       "</div>"
      ],
      "text/plain": [
       "                                  Predicción Inferior  Predicción Superior  \\\n",
       "Sector Material Tipo de cliente                                              \n",
       "Cerdo  1020001  Foodservice               -888.759173         2.160379e+03   \n",
       "                Grandes Clientes          3740.907517         2.122964e+04   \n",
       "                Industriales             -3228.427499         4.298642e+03   \n",
       "                Tradicional              51148.957092         1.154099e+05   \n",
       "       1020003  Foodservice                925.403909         6.722116e+03   \n",
       "                Grandes Clientes         -8538.051060         1.244389e+04   \n",
       "                Industriales             -2562.101873         4.556648e+03   \n",
       "                Tradicional               5522.046019         6.916304e+04   \n",
       "       1020010  Foodservice               4863.283743         3.226113e+04   \n",
       "                Grandes Clientes         13411.384928         5.101877e+04   \n",
       "                Industriales             -7267.684571         1.158543e+04   \n",
       "                Tradicional             120438.283129         2.139796e+05   \n",
       "       1020013  Foodservice               -357.676773         8.277412e+03   \n",
       "                Grandes Clientes         17209.462125         1.051074e+05   \n",
       "                Industriales            -11009.599319         1.897682e+04   \n",
       "                Tradicional             163721.624116         3.482101e+05   \n",
       "       1020027  Foodservice               -603.535857         4.778869e+03   \n",
       "                Grandes Clientes         11313.058928         3.583842e+04   \n",
       "                Industriales             -3192.367745         9.212470e+03   \n",
       "                Tradicional              64515.702713         1.438172e+05   \n",
       "       1020042  Foodservice               -544.733486         1.391377e+03   \n",
       "                Grandes Clientes         -1791.379895         1.199725e+04   \n",
       "                Industriales              3578.179861         1.456369e+04   \n",
       "                Tradicional               2582.030050         2.955854e+04   \n",
       "       1020253  Foodservice              13792.283931         2.648695e+04   \n",
       "                Grandes Clientes            41.411013         1.618232e+04   \n",
       "                Industriales              -679.920693         7.462508e+03   \n",
       "                Tradicional              42438.710800         1.000663e+05   \n",
       "Pollo  1010002  Foodservice              -2918.938484         2.041663e+04   \n",
       "                Grandes Clientes          1337.983578         5.064655e+04   \n",
       "                Industriales             -1123.967023         3.142174e+03   \n",
       "                Tradicional              78527.429862         2.129739e+05   \n",
       "       1010048  Foodservice              15673.237399         5.033347e+04   \n",
       "                Grandes Clientes        -50681.381856         6.060784e+04   \n",
       "                Industriales              -513.055484         4.975085e+03   \n",
       "                Tradicional              39031.171154         2.711742e+05   \n",
       "       1010077  Foodservice               -336.157972         4.323153e+03   \n",
       "                Grandes Clientes         -5129.385901         3.414426e+03   \n",
       "                Industriales             -1081.723833         8.426371e+02   \n",
       "                Tradicional              12199.619928         5.540435e+04   \n",
       "       1010078  Foodservice              45711.291759         8.111534e+04   \n",
       "                Grandes Clientes          6899.814547         1.545496e+05   \n",
       "                Industriales              1180.599203         1.973219e+04   \n",
       "                Tradicional             575522.204381         1.005348e+06   \n",
       "       1010267  Foodservice             104539.529501         2.103694e+05   \n",
       "                Grandes Clientes        -29423.576120         3.044050e+04   \n",
       "                Industriales            -29445.338312         2.448152e+04   \n",
       "                Tradicional              37787.928040         1.740935e+05   \n",
       "       1010695  Foodservice               4714.139560         1.783329e+04   \n",
       "                Grandes Clientes        -21493.644801         5.405130e+04   \n",
       "                Industriales             -1196.078660         2.572859e+03   \n",
       "                Tradicional               4380.473234         9.433671e+04   \n",
       "\n",
       "                                  Predicción central  \n",
       "Sector Material Tipo de cliente                       \n",
       "Cerdo  1020001  Foodservice               641.482445  \n",
       "                Grandes Clientes        12313.957349  \n",
       "                Industriales              598.826237  \n",
       "                Tradicional             82984.604153  \n",
       "       1020003  Foodservice              3848.203218  \n",
       "                Grandes Clientes         2024.732035  \n",
       "                Industriales             1030.964945  \n",
       "                Tradicional             37314.907407  \n",
       "       1020010  Foodservice             18736.320399  \n",
       "                Grandes Clientes        32359.292393  \n",
       "                Industriales             2116.821127  \n",
       "                Tradicional            166778.335740  \n",
       "       1020013  Foodservice              3976.828274  \n",
       "                Grandes Clientes        60839.815206  \n",
       "                Industriales             4285.884221  \n",
       "                Tradicional            256081.163297  \n",
       "       1020027  Foodservice              2085.529715  \n",
       "                Grandes Clientes        23596.642958  \n",
       "                Industriales             2962.166726  \n",
       "                Tradicional            104369.440578  \n",
       "       1020042  Foodservice               412.525485  \n",
       "                Grandes Clientes         4924.333484  \n",
       "                Industriales             9094.673066  \n",
       "                Tradicional             15933.118551  \n",
       "       1020253  Foodservice             20049.335698  \n",
       "                Grandes Clientes         8100.236785  \n",
       "                Industriales             3428.749131  \n",
       "                Tradicional             71359.504945  \n",
       "Pollo  1010002  Foodservice              8821.897235  \n",
       "                Grandes Clientes        26190.913482  \n",
       "                Industriales              968.646997  \n",
       "                Tradicional            146111.438873  \n",
       "       1010048  Foodservice             33358.406432  \n",
       "                Grandes Clientes         5155.001633  \n",
       "                Industriales             2198.138661  \n",
       "                Tradicional            154130.500102  \n",
       "       1010077  Foodservice              2002.430944  \n",
       "                Grandes Clientes         -834.358185  \n",
       "                Industriales             -123.823792  \n",
       "                Tradicional             33720.002735  \n",
       "       1010078  Foodservice             63490.454443  \n",
       "                Grandes Clientes        82112.934385  \n",
       "                Industriales            10512.345155  \n",
       "                Tradicional            786640.896517  \n",
       "       1010267  Foodservice            156460.621013  \n",
       "                Grandes Clientes          410.696543  \n",
       "                Industriales            -2179.934712  \n",
       "                Tradicional            106136.861382  \n",
       "       1010695  Foodservice             11297.650246  \n",
       "                Grandes Clientes        16439.258648  \n",
       "                Industriales              690.665209  \n",
       "                Tradicional             49323.137712  "
      ]
     },
     "execution_count": 35,
     "metadata": {},
     "output_type": "execute_result"
    }
   ],
   "source": [
    "df3.groupby(['Sector','Material','Tipo de cliente']).sum()"
   ]
  },
  {
   "cell_type": "markdown",
   "id": "681e786d",
   "metadata": {
    "heading_collapsed": true
   },
   "source": [
    "## Predicción selecionada "
   ]
  },
  {
   "cell_type": "markdown",
   "id": "8f501737",
   "metadata": {
    "hidden": true
   },
   "source": [
    "### Sucursal "
   ]
  },
  {
   "cell_type": "code",
   "execution_count": 36,
   "id": "e55973b8",
   "metadata": {
    "hidden": true,
    "scrolled": false
   },
   "outputs": [
    {
     "name": "stderr",
     "output_type": "stream",
     "text": [
      "INFO:fbprophet:Disabling daily seasonality. Run prophet with daily_seasonality=True to override this.\n"
     ]
    },
    {
     "data": {
      "text/html": [
       "<div>\n",
       "<style scoped>\n",
       "    .dataframe tbody tr th:only-of-type {\n",
       "        vertical-align: middle;\n",
       "    }\n",
       "\n",
       "    .dataframe tbody tr th {\n",
       "        vertical-align: top;\n",
       "    }\n",
       "\n",
       "    .dataframe thead th {\n",
       "        text-align: right;\n",
       "    }\n",
       "</style>\n",
       "<table border=\"1\" class=\"dataframe\">\n",
       "  <thead>\n",
       "    <tr style=\"text-align: right;\">\n",
       "      <th></th>\n",
       "      <th>ds</th>\n",
       "      <th>yhat_lower</th>\n",
       "      <th>yhat_upper</th>\n",
       "      <th>yhat</th>\n",
       "      <th>Material</th>\n",
       "      <th>Oficina de Ventas Unifica</th>\n",
       "      <th>Zona de ventas.1</th>\n",
       "    </tr>\n",
       "  </thead>\n",
       "  <tbody>\n",
       "    <tr>\n",
       "      <th>0</th>\n",
       "      <td>2021-06-13</td>\n",
       "      <td>-57.465248</td>\n",
       "      <td>135.318944</td>\n",
       "      <td>34.900493</td>\n",
       "      <td>1020253</td>\n",
       "      <td>Arica</td>\n",
       "      <td>Norte</td>\n",
       "    </tr>\n",
       "    <tr>\n",
       "      <th>1</th>\n",
       "      <td>2021-06-14</td>\n",
       "      <td>-48.317796</td>\n",
       "      <td>150.183209</td>\n",
       "      <td>49.715464</td>\n",
       "      <td>1020253</td>\n",
       "      <td>Arica</td>\n",
       "      <td>Norte</td>\n",
       "    </tr>\n",
       "    <tr>\n",
       "      <th>2</th>\n",
       "      <td>2021-06-15</td>\n",
       "      <td>-64.998028</td>\n",
       "      <td>141.065270</td>\n",
       "      <td>38.686661</td>\n",
       "      <td>1020253</td>\n",
       "      <td>Arica</td>\n",
       "      <td>Norte</td>\n",
       "    </tr>\n",
       "    <tr>\n",
       "      <th>3</th>\n",
       "      <td>2021-06-16</td>\n",
       "      <td>-24.261868</td>\n",
       "      <td>179.338739</td>\n",
       "      <td>78.271628</td>\n",
       "      <td>1020253</td>\n",
       "      <td>Arica</td>\n",
       "      <td>Norte</td>\n",
       "    </tr>\n",
       "    <tr>\n",
       "      <th>4</th>\n",
       "      <td>2021-06-17</td>\n",
       "      <td>-45.382790</td>\n",
       "      <td>160.775120</td>\n",
       "      <td>57.973342</td>\n",
       "      <td>1020253</td>\n",
       "      <td>Arica</td>\n",
       "      <td>Norte</td>\n",
       "    </tr>\n",
       "  </tbody>\n",
       "</table>\n",
       "</div>"
      ],
      "text/plain": [
       "          ds  yhat_lower  yhat_upper       yhat Material  \\\n",
       "0 2021-06-13  -57.465248  135.318944  34.900493  1020253   \n",
       "1 2021-06-14  -48.317796  150.183209  49.715464  1020253   \n",
       "2 2021-06-15  -64.998028  141.065270  38.686661  1020253   \n",
       "3 2021-06-16  -24.261868  179.338739  78.271628  1020253   \n",
       "4 2021-06-17  -45.382790  160.775120  57.973342  1020253   \n",
       "\n",
       "  Oficina de Ventas Unifica Zona de ventas.1  \n",
       "0                     Arica            Norte  \n",
       "1                     Arica            Norte  \n",
       "2                     Arica            Norte  \n",
       "3                     Arica            Norte  \n",
       "4                     Arica            Norte  "
      ]
     },
     "execution_count": 36,
     "metadata": {},
     "output_type": "execute_result"
    }
   ],
   "source": [
    "df2 = pd.DataFrame(columns=['ds', 'yhat_lower', 'yhat_upper', 'yhat', 'Material','Oficina de Ventas Unifica', 'Zona de ventas.1'])\n",
    "\n",
    "\n",
    "Listado_de_zonas=data['Zona de ventas.1'].unique()\n",
    "\n",
    "#for z in Listado_de_zonas:\n",
    "Z='Norte'\n",
    "\n",
    "dfz=data#Df_ubic(data,'Zona de ventas.1',Z)\n",
    "\n",
    "Listado_de_Sucursales=dfz['Oficina de Ventas Unifica'].unique()\n",
    "\n",
    "#for y in Listado_de_Sucursales:\n",
    "\n",
    "y='Arica'\n",
    "dfy=Df_ubic(dfz,'Oficina de Ventas Unifica',y)\n",
    "\n",
    "\n",
    "Listado_de_Materiales=dfy['Material'].unique()\n",
    "\n",
    "#for m in Listado_de_Materiales:\n",
    "m=Listado_de_Materiales[0]\n",
    "dfm=Df_ubic(dfy,'Material',m).groupby('Día natural').sum().reset_index()[['Día natural',y_col]]\n",
    "\n",
    "dfmPred=Predict_sem(dfm,7)[['ds', 'yhat_lower', 'yhat_upper', 'yhat']].tail(6)\n",
    "dfmPred['Material']=[m for i in range(dfmPred.shape[0])]\n",
    "dfmPred['Oficina de Ventas Unifica']=[y for i in range(dfmPred.shape[0])]\n",
    "dfmPred['Zona de ventas.1']=[Z for i in range(dfmPred.shape[0])]\n",
    "dfmPred=dfmPred.reset_index()\n",
    "dfmPred.pop('index')\n",
    "df2=pd.concat([df2, dfmPred])\n",
    "df2.head()"
   ]
  },
  {
   "cell_type": "markdown",
   "id": "7a69b935",
   "metadata": {
    "hidden": true
   },
   "source": [
    "### Zona "
   ]
  },
  {
   "cell_type": "code",
   "execution_count": 37,
   "id": "40df35ae",
   "metadata": {
    "hidden": true,
    "scrolled": false
   },
   "outputs": [
    {
     "name": "stderr",
     "output_type": "stream",
     "text": [
      "INFO:fbprophet:Disabling daily seasonality. Run prophet with daily_seasonality=True to override this.\n"
     ]
    },
    {
     "data": {
      "text/html": [
       "<div>\n",
       "<style scoped>\n",
       "    .dataframe tbody tr th:only-of-type {\n",
       "        vertical-align: middle;\n",
       "    }\n",
       "\n",
       "    .dataframe tbody tr th {\n",
       "        vertical-align: top;\n",
       "    }\n",
       "\n",
       "    .dataframe thead th {\n",
       "        text-align: right;\n",
       "    }\n",
       "</style>\n",
       "<table border=\"1\" class=\"dataframe\">\n",
       "  <thead>\n",
       "    <tr style=\"text-align: right;\">\n",
       "      <th></th>\n",
       "      <th>ds</th>\n",
       "      <th>yhat_lower</th>\n",
       "      <th>yhat_upper</th>\n",
       "      <th>yhat</th>\n",
       "      <th>Material</th>\n",
       "      <th>Oficina de Ventas Unifica</th>\n",
       "      <th>Zona de ventas.1</th>\n",
       "    </tr>\n",
       "  </thead>\n",
       "  <tbody>\n",
       "    <tr>\n",
       "      <th>0</th>\n",
       "      <td>2021-06-13</td>\n",
       "      <td>2255.909436</td>\n",
       "      <td>11048.439429</td>\n",
       "      <td>6663.595223</td>\n",
       "      <td>1020253</td>\n",
       "      <td>NaN</td>\n",
       "      <td>Santiago</td>\n",
       "    </tr>\n",
       "    <tr>\n",
       "      <th>1</th>\n",
       "      <td>2021-06-14</td>\n",
       "      <td>6155.265265</td>\n",
       "      <td>14977.040561</td>\n",
       "      <td>10707.495410</td>\n",
       "      <td>1020253</td>\n",
       "      <td>NaN</td>\n",
       "      <td>Santiago</td>\n",
       "    </tr>\n",
       "    <tr>\n",
       "      <th>2</th>\n",
       "      <td>2021-06-15</td>\n",
       "      <td>8321.529271</td>\n",
       "      <td>17012.659354</td>\n",
       "      <td>12744.569866</td>\n",
       "      <td>1020253</td>\n",
       "      <td>NaN</td>\n",
       "      <td>Santiago</td>\n",
       "    </tr>\n",
       "    <tr>\n",
       "      <th>3</th>\n",
       "      <td>2021-06-16</td>\n",
       "      <td>9872.628696</td>\n",
       "      <td>18703.024312</td>\n",
       "      <td>14287.205309</td>\n",
       "      <td>1020253</td>\n",
       "      <td>NaN</td>\n",
       "      <td>Santiago</td>\n",
       "    </tr>\n",
       "    <tr>\n",
       "      <th>4</th>\n",
       "      <td>2021-06-17</td>\n",
       "      <td>10764.097397</td>\n",
       "      <td>19676.243419</td>\n",
       "      <td>15291.635632</td>\n",
       "      <td>1020253</td>\n",
       "      <td>NaN</td>\n",
       "      <td>Santiago</td>\n",
       "    </tr>\n",
       "  </tbody>\n",
       "</table>\n",
       "</div>"
      ],
      "text/plain": [
       "          ds    yhat_lower    yhat_upper          yhat Material  \\\n",
       "0 2021-06-13   2255.909436  11048.439429   6663.595223  1020253   \n",
       "1 2021-06-14   6155.265265  14977.040561  10707.495410  1020253   \n",
       "2 2021-06-15   8321.529271  17012.659354  12744.569866  1020253   \n",
       "3 2021-06-16   9872.628696  18703.024312  14287.205309  1020253   \n",
       "4 2021-06-17  10764.097397  19676.243419  15291.635632  1020253   \n",
       "\n",
       "  Oficina de Ventas Unifica Zona de ventas.1  \n",
       "0                       NaN         Santiago  \n",
       "1                       NaN         Santiago  \n",
       "2                       NaN         Santiago  \n",
       "3                       NaN         Santiago  \n",
       "4                       NaN         Santiago  "
      ]
     },
     "execution_count": 37,
     "metadata": {},
     "output_type": "execute_result"
    }
   ],
   "source": [
    "df2 = pd.DataFrame(columns=['ds', 'yhat_lower', 'yhat_upper', 'yhat', 'Material','Oficina de Ventas Unifica', 'Zona de ventas.1'])\n",
    "\n",
    "\n",
    "Listado_de_zonas=data['Zona de ventas.1'].unique()\n",
    "\n",
    "#for z in Listado_de_zonas:\n",
    "Z='Santiago'\n",
    "\n",
    "dfz=data#Df_ubic(data,'Zona de ventas.1',Z)\n",
    "\n",
    "\n",
    "Listado_de_Materiales=dfz['Material'].unique()\n",
    "\n",
    "#for m in Listado_de_Materiales:\n",
    "m=Listado_de_Materiales[0]\n",
    "dfm=Df_ubic(dfz,'Material',m).groupby('Día natural').sum().reset_index()[['Día natural',y_col]]\n",
    "\n",
    "dfmPred=Predict_sem(dfm,7)[['ds', 'yhat_lower', 'yhat_upper', 'yhat']].tail(6)\n",
    "dfmPred['Material']=[m for i in range(dfmPred.shape[0])]\n",
    "#dfmPred['Oficina de Ventas Unifica']=[y for i in range(dfmPred.shape[0])]\n",
    "dfmPred['Zona de ventas.1']=[Z for i in range(dfmPred.shape[0])]\n",
    "dfmPred=dfmPred.reset_index()\n",
    "dfmPred.pop('index')\n",
    "df2=pd.concat([df2, dfmPred])\n",
    "df2.head()"
   ]
  },
  {
   "cell_type": "markdown",
   "id": "06e1cbd9",
   "metadata": {},
   "source": [
    "# Predicción Iterativa  "
   ]
  },
  {
   "cell_type": "markdown",
   "id": "b4f9ee0b",
   "metadata": {},
   "source": [
    "## Iteración 1 zona"
   ]
  },
  {
   "cell_type": "code",
   "execution_count": 25,
   "id": "4e40c4b8",
   "metadata": {
    "scrolled": true
   },
   "outputs": [
    {
     "name": "stderr",
     "output_type": "stream",
     "text": [
      "INFO:fbprophet:Disabling daily seasonality. Run prophet with daily_seasonality=True to override this.\n"
     ]
    },
    {
     "name": "stdout",
     "output_type": "stream",
     "text": [
      "Antofagasta 1020253\n"
     ]
    },
    {
     "name": "stderr",
     "output_type": "stream",
     "text": [
      "INFO:fbprophet:Disabling weekly seasonality. Run prophet with weekly_seasonality=True to override this.\n",
      "INFO:fbprophet:Disabling daily seasonality. Run prophet with daily_seasonality=True to override this.\n",
      "INFO:fbprophet:n_changepoints greater than number of observations. Using 0.\n"
     ]
    },
    {
     "name": "stdout",
     "output_type": "stream",
     "text": [
      "El producto demoró 1.5032901763916016 Norte Antofagasta\n",
      "tiempo que lleva corriendo 0.028024065494537353 Min\n",
      "Antofagasta 1020042\n"
     ]
    },
    {
     "name": "stderr",
     "output_type": "stream",
     "text": [
      "INFO:fbprophet:Disabling daily seasonality. Run prophet with daily_seasonality=True to override this.\n"
     ]
    },
    {
     "name": "stdout",
     "output_type": "stream",
     "text": [
      "El producto demoró 1.163999080657959 Norte Antofagasta\n",
      "tiempo que lleva corriendo 0.0474490483601888 Min\n",
      "Antofagasta 1020027\n"
     ]
    },
    {
     "name": "stderr",
     "output_type": "stream",
     "text": [
      "INFO:fbprophet:Disabling daily seasonality. Run prophet with daily_seasonality=True to override this.\n"
     ]
    },
    {
     "name": "stdout",
     "output_type": "stream",
     "text": [
      "El producto demoró 1.5568361282348633 Norte Antofagasta\n",
      "tiempo que lleva corriendo 0.07341299454371135 Min\n",
      "Antofagasta 1020013\n"
     ]
    },
    {
     "name": "stderr",
     "output_type": "stream",
     "text": [
      "INFO:fbprophet:Disabling daily seasonality. Run prophet with daily_seasonality=True to override this.\n"
     ]
    },
    {
     "name": "stdout",
     "output_type": "stream",
     "text": [
      "El producto demoró 1.6288981437683105 Norte Antofagasta\n",
      "tiempo que lleva corriendo 0.100577974319458 Min\n",
      "Antofagasta 1020010\n"
     ]
    },
    {
     "name": "stderr",
     "output_type": "stream",
     "text": [
      "INFO:fbprophet:Disabling daily seasonality. Run prophet with daily_seasonality=True to override this.\n"
     ]
    },
    {
     "name": "stdout",
     "output_type": "stream",
     "text": [
      "El producto demoró 1.841580867767334 Norte Antofagasta\n",
      "tiempo que lleva corriendo 0.13129600683848064 Min\n",
      "Antofagasta 1020003\n"
     ]
    },
    {
     "name": "stderr",
     "output_type": "stream",
     "text": [
      "INFO:fbprophet:Disabling daily seasonality. Run prophet with daily_seasonality=True to override this.\n"
     ]
    },
    {
     "name": "stdout",
     "output_type": "stream",
     "text": [
      "El producto demoró 1.7700185775756836 Norte Antofagasta\n",
      "tiempo que lleva corriendo 0.16081300576527913 Min\n",
      "Antofagasta 1020001\n"
     ]
    },
    {
     "name": "stderr",
     "output_type": "stream",
     "text": [
      "INFO:fbprophet:Disabling daily seasonality. Run prophet with daily_seasonality=True to override this.\n"
     ]
    },
    {
     "name": "stdout",
     "output_type": "stream",
     "text": [
      "El producto demoró 1.562340497970581 Norte Antofagasta\n",
      "tiempo que lleva corriendo 0.18687704006830852 Min\n",
      "Antofagasta 1010695\n"
     ]
    },
    {
     "name": "stderr",
     "output_type": "stream",
     "text": [
      "INFO:fbprophet:Disabling daily seasonality. Run prophet with daily_seasonality=True to override this.\n"
     ]
    },
    {
     "name": "stdout",
     "output_type": "stream",
     "text": [
      "El producto demoró 1.467759370803833 Norte Antofagasta\n",
      "tiempo que lleva corriendo 0.2113647182782491 Min\n",
      "Antofagasta 1010267\n"
     ]
    },
    {
     "name": "stderr",
     "output_type": "stream",
     "text": [
      "INFO:fbprophet:Disabling daily seasonality. Run prophet with daily_seasonality=True to override this.\n"
     ]
    },
    {
     "name": "stdout",
     "output_type": "stream",
     "text": [
      "El producto demoró 1.715972661972046 Norte Antofagasta\n",
      "tiempo que lleva corriendo 0.2399892767270406 Min\n",
      "Antofagasta 1010078\n"
     ]
    },
    {
     "name": "stderr",
     "output_type": "stream",
     "text": [
      "INFO:fbprophet:Disabling daily seasonality. Run prophet with daily_seasonality=True to override this.\n"
     ]
    },
    {
     "name": "stdout",
     "output_type": "stream",
     "text": [
      "El producto demoró 1.7570078372955322 Norte Antofagasta\n",
      "tiempo que lleva corriendo 0.2692810813585917 Min\n",
      "Antofagasta 1010077\n"
     ]
    },
    {
     "name": "stderr",
     "output_type": "stream",
     "text": [
      "INFO:fbprophet:Disabling daily seasonality. Run prophet with daily_seasonality=True to override this.\n"
     ]
    },
    {
     "name": "stdout",
     "output_type": "stream",
     "text": [
      "El producto demoró 1.672936201095581 Norte Antofagasta\n",
      "tiempo que lleva corriendo 0.2971800247828166 Min\n",
      "Antofagasta 1010048\n"
     ]
    },
    {
     "name": "stderr",
     "output_type": "stream",
     "text": [
      "INFO:fbprophet:Disabling daily seasonality. Run prophet with daily_seasonality=True to override this.\n"
     ]
    },
    {
     "name": "stdout",
     "output_type": "stream",
     "text": [
      "El producto demoró 1.6479136943817139 Norte Antofagasta\n",
      "tiempo que lleva corriendo 0.3246619423230489 Min\n",
      "Antofagasta 1010002\n"
     ]
    },
    {
     "name": "stderr",
     "output_type": "stream",
     "text": [
      "INFO:fbprophet:Disabling daily seasonality. Run prophet with daily_seasonality=True to override this.\n"
     ]
    },
    {
     "name": "stdout",
     "output_type": "stream",
     "text": [
      "El producto demoró 1.7449977397918701 Norte Antofagasta\n",
      "tiempo que lleva corriendo 0.3537619113922119 Min\n",
      "Arica 1020253\n"
     ]
    },
    {
     "name": "stderr",
     "output_type": "stream",
     "text": [
      "INFO:fbprophet:Disabling daily seasonality. Run prophet with daily_seasonality=True to override this.\n"
     ]
    },
    {
     "name": "stdout",
     "output_type": "stream",
     "text": [
      "El producto demoró 1.3526606559753418 Norte Arica\n",
      "tiempo que lleva corriendo 0.37651477257410687 Min\n",
      "Arica 1020027\n"
     ]
    },
    {
     "name": "stderr",
     "output_type": "stream",
     "text": [
      "INFO:fbprophet:Disabling daily seasonality. Run prophet with daily_seasonality=True to override this.\n"
     ]
    },
    {
     "name": "stdout",
     "output_type": "stream",
     "text": [
      "El producto demoró 1.784531593322754 Norte Arica\n",
      "tiempo que lleva corriendo 0.40626529852549237 Min\n",
      "Arica 1020013\n"
     ]
    },
    {
     "name": "stderr",
     "output_type": "stream",
     "text": [
      "INFO:fbprophet:Disabling daily seasonality. Run prophet with daily_seasonality=True to override this.\n"
     ]
    },
    {
     "name": "stdout",
     "output_type": "stream",
     "text": [
      "El producto demoró 1.67390775680542 Norte Arica\n",
      "tiempo que lleva corriendo 0.4341892639795939 Min\n",
      "Arica 1020010\n"
     ]
    },
    {
     "name": "stderr",
     "output_type": "stream",
     "text": [
      "INFO:fbprophet:Disabling daily seasonality. Run prophet with daily_seasonality=True to override this.\n"
     ]
    },
    {
     "name": "stdout",
     "output_type": "stream",
     "text": [
      "El producto demoró 1.564842939376831 Norte Arica\n",
      "tiempo que lleva corriendo 0.46029499769210813 Min\n",
      "Arica 1020003\n"
     ]
    },
    {
     "name": "stderr",
     "output_type": "stream",
     "text": [
      "INFO:fbprophet:Disabling daily seasonality. Run prophet with daily_seasonality=True to override this.\n"
     ]
    },
    {
     "name": "stdout",
     "output_type": "stream",
     "text": [
      "El producto demoró 1.5067920684814453 Norte Arica\n",
      "tiempo que lleva corriendo 0.4854332367579142 Min\n",
      "Arica 1020001\n"
     ]
    },
    {
     "name": "stderr",
     "output_type": "stream",
     "text": [
      "INFO:fbprophet:Disabling daily seasonality. Run prophet with daily_seasonality=True to override this.\n"
     ]
    },
    {
     "name": "stdout",
     "output_type": "stream",
     "text": [
      "El producto demoró 1.5948681831359863 Norte Arica\n",
      "tiempo que lleva corriendo 0.5120477477709452 Min\n",
      "Arica 1010695\n"
     ]
    },
    {
     "name": "stderr",
     "output_type": "stream",
     "text": [
      "INFO:fbprophet:Disabling daily seasonality. Run prophet with daily_seasonality=True to override this.\n"
     ]
    },
    {
     "name": "stdout",
     "output_type": "stream",
     "text": [
      "El producto demoró 1.4422376155853271 Norte Arica\n",
      "tiempo que lleva corriendo 0.5361100673675537 Min\n",
      "Arica 1010267\n"
     ]
    },
    {
     "name": "stderr",
     "output_type": "stream",
     "text": [
      "INFO:fbprophet:Disabling daily seasonality. Run prophet with daily_seasonality=True to override this.\n"
     ]
    },
    {
     "name": "stdout",
     "output_type": "stream",
     "text": [
      "El producto demoró 1.699458122253418 Norte Arica\n",
      "tiempo que lleva corriendo 0.5644510467847188 Min\n",
      "Arica 1010078\n"
     ]
    },
    {
     "name": "stderr",
     "output_type": "stream",
     "text": [
      "INFO:fbprophet:Disabling daily seasonality. Run prophet with daily_seasonality=True to override this.\n"
     ]
    },
    {
     "name": "stdout",
     "output_type": "stream",
     "text": [
      "El producto demoró 1.8345749378204346 Norte Arica\n",
      "tiempo que lleva corriendo 0.5950523098309835 Min\n",
      "Arica 1010077\n"
     ]
    },
    {
     "name": "stderr",
     "output_type": "stream",
     "text": [
      "INFO:fbprophet:Disabling daily seasonality. Run prophet with daily_seasonality=True to override this.\n"
     ]
    },
    {
     "name": "stdout",
     "output_type": "stream",
     "text": [
      "El producto demoró 1.6549203395843506 Norte Arica\n",
      "tiempo que lleva corriendo 0.6226509928703308 Min\n",
      "Arica 1010048\n"
     ]
    },
    {
     "name": "stderr",
     "output_type": "stream",
     "text": [
      "INFO:fbprophet:Disabling daily seasonality. Run prophet with daily_seasonality=True to override this.\n"
     ]
    },
    {
     "name": "stdout",
     "output_type": "stream",
     "text": [
      "El producto demoró 1.6799416542053223 Norte Arica\n",
      "tiempo que lleva corriendo 0.6506667057673137 Min\n",
      "Arica 1010002\n"
     ]
    },
    {
     "name": "stderr",
     "output_type": "stream",
     "text": [
      "INFO:fbprophet:Disabling daily seasonality. Run prophet with daily_seasonality=True to override this.\n"
     ]
    },
    {
     "name": "stdout",
     "output_type": "stream",
     "text": [
      "El producto demoró 1.830571174621582 Norte Arica\n",
      "tiempo que lleva corriendo 0.6812012314796447 Min\n",
      "Calama 1020253\n"
     ]
    },
    {
     "name": "stderr",
     "output_type": "stream",
     "text": [
      "INFO:fbprophet:Disabling daily seasonality. Run prophet with daily_seasonality=True to override this.\n",
      "INFO:fbprophet:n_changepoints greater than number of observations. Using 23.\n"
     ]
    },
    {
     "name": "stdout",
     "output_type": "stream",
     "text": [
      "El producto demoró 1.4017033576965332 Norte Calama\n",
      "tiempo que lleva corriendo 0.7047964890797933 Min\n",
      "Calama 1020042\n"
     ]
    },
    {
     "name": "stderr",
     "output_type": "stream",
     "text": [
      "INFO:fbprophet:Disabling daily seasonality. Run prophet with daily_seasonality=True to override this.\n"
     ]
    },
    {
     "name": "stdout",
     "output_type": "stream",
     "text": [
      "El producto demoró 1.492781400680542 Norte Calama\n",
      "tiempo que lleva corriendo 0.7296845118204752 Min\n",
      "Calama 1020027\n"
     ]
    },
    {
     "name": "stderr",
     "output_type": "stream",
     "text": [
      "INFO:fbprophet:Disabling daily seasonality. Run prophet with daily_seasonality=True to override this.\n"
     ]
    },
    {
     "name": "stdout",
     "output_type": "stream",
     "text": [
      "El producto demoró 1.623894214630127 Norte Calama\n",
      "tiempo que lleva corriendo 0.7567660808563232 Min\n",
      "Calama 1020013\n"
     ]
    },
    {
     "name": "stderr",
     "output_type": "stream",
     "text": [
      "INFO:fbprophet:Disabling daily seasonality. Run prophet with daily_seasonality=True to override this.\n"
     ]
    },
    {
     "name": "stdout",
     "output_type": "stream",
     "text": [
      "El producto demoró 1.5323147773742676 Norte Calama\n",
      "tiempo que lleva corriendo 0.7823296904563903 Min\n",
      "Calama 1020010\n"
     ]
    },
    {
     "name": "stderr",
     "output_type": "stream",
     "text": [
      "INFO:fbprophet:Disabling daily seasonality. Run prophet with daily_seasonality=True to override this.\n"
     ]
    },
    {
     "name": "stdout",
     "output_type": "stream",
     "text": [
      "El producto demoró 1.6113824844360352 Norte Calama\n",
      "tiempo que lleva corriendo 0.8092027505238851 Min\n",
      "Calama 1020003\n"
     ]
    },
    {
     "name": "stderr",
     "output_type": "stream",
     "text": [
      "INFO:fbprophet:Disabling daily seasonality. Run prophet with daily_seasonality=True to override this.\n"
     ]
    },
    {
     "name": "stdout",
     "output_type": "stream",
     "text": [
      "El producto demoró 1.5808565616607666 Norte Calama\n",
      "tiempo que lleva corriendo 0.8355753819147745 Min\n",
      "Calama 1020001\n"
     ]
    },
    {
     "name": "stderr",
     "output_type": "stream",
     "text": [
      "INFO:fbprophet:Disabling daily seasonality. Run prophet with daily_seasonality=True to override this.\n"
     ]
    },
    {
     "name": "stdout",
     "output_type": "stream",
     "text": [
      "El producto demoró 1.624894618988037 Norte Calama\n",
      "tiempo que lleva corriendo 0.8626736283302308 Min\n",
      "Calama 1010695\n"
     ]
    },
    {
     "name": "stderr",
     "output_type": "stream",
     "text": [
      "INFO:fbprophet:Disabling daily seasonality. Run prophet with daily_seasonality=True to override this.\n"
     ]
    },
    {
     "name": "stdout",
     "output_type": "stream",
     "text": [
      "El producto demoró 1.447242259979248 Norte Calama\n",
      "tiempo que lleva corriendo 0.8868110100428264 Min\n",
      "Calama 1010267\n"
     ]
    },
    {
     "name": "stderr",
     "output_type": "stream",
     "text": [
      "INFO:fbprophet:Disabling daily seasonality. Run prophet with daily_seasonality=True to override this.\n"
     ]
    },
    {
     "name": "stdout",
     "output_type": "stream",
     "text": [
      "El producto demoró 1.8255665302276611 Norte Calama\n",
      "tiempo que lleva corriendo 0.9172537962595622 Min\n",
      "Calama 1010078\n"
     ]
    },
    {
     "name": "stderr",
     "output_type": "stream",
     "text": [
      "INFO:fbprophet:Disabling daily seasonality. Run prophet with daily_seasonality=True to override this.\n"
     ]
    },
    {
     "name": "stdout",
     "output_type": "stream",
     "text": [
      "El producto demoró 1.6123836040496826 Norte Calama\n",
      "tiempo que lleva corriendo 0.944143545627594 Min\n",
      "Calama 1010077\n"
     ]
    },
    {
     "name": "stderr",
     "output_type": "stream",
     "text": [
      "INFO:fbprophet:Disabling daily seasonality. Run prophet with daily_seasonality=True to override this.\n"
     ]
    },
    {
     "name": "stdout",
     "output_type": "stream",
     "text": [
      "El producto demoró 1.5908656120300293 Norte Calama\n",
      "tiempo que lleva corriendo 0.9706829865773519 Min\n",
      "Calama 1010048\n"
     ]
    },
    {
     "name": "stderr",
     "output_type": "stream",
     "text": [
      "INFO:fbprophet:Disabling daily seasonality. Run prophet with daily_seasonality=True to override this.\n"
     ]
    },
    {
     "name": "stdout",
     "output_type": "stream",
     "text": [
      "El producto demoró 1.5928666591644287 Norte Calama\n",
      "tiempo que lleva corriendo 0.997255786259969 Min\n",
      "Calama 1010002\n"
     ]
    },
    {
     "name": "stderr",
     "output_type": "stream",
     "text": [
      "INFO:fbprophet:Disabling daily seasonality. Run prophet with daily_seasonality=True to override this.\n"
     ]
    },
    {
     "name": "stdout",
     "output_type": "stream",
     "text": [
      "El producto demoró 1.5913660526275635 Norte Calama\n",
      "tiempo que lleva corriendo 1.0238035678863526 Min\n",
      "Iquique 1020253\n"
     ]
    },
    {
     "name": "stderr",
     "output_type": "stream",
     "text": [
      "INFO:fbprophet:Disabling daily seasonality. Run prophet with daily_seasonality=True to override this.\n"
     ]
    },
    {
     "name": "stdout",
     "output_type": "stream",
     "text": [
      "El producto demoró 2.370534658432007 Norte Iquique\n",
      "tiempo que lleva corriendo 1.0635460138320922 Min\n",
      "Iquique 1020042\n"
     ]
    },
    {
     "name": "stderr",
     "output_type": "stream",
     "text": [
      "INFO:fbprophet:Disabling daily seasonality. Run prophet with daily_seasonality=True to override this.\n"
     ]
    },
    {
     "name": "stdout",
     "output_type": "stream",
     "text": [
      "El producto demoró 2.0587668418884277 Norte Iquique\n",
      "tiempo que lleva corriendo 1.0978838046391806 Min\n",
      "Iquique 1020027\n"
     ]
    },
    {
     "name": "stderr",
     "output_type": "stream",
     "text": [
      "INFO:fbprophet:Disabling daily seasonality. Run prophet with daily_seasonality=True to override this.\n"
     ]
    },
    {
     "name": "stdout",
     "output_type": "stream",
     "text": [
      "El producto demoró 1.6424100399017334 Norte Iquique\n",
      "tiempo que lleva corriendo 1.1252823193868002 Min\n",
      "Iquique 1020013\n"
     ]
    },
    {
     "name": "stderr",
     "output_type": "stream",
     "text": [
      "INFO:fbprophet:Disabling daily seasonality. Run prophet with daily_seasonality=True to override this.\n"
     ]
    },
    {
     "name": "stdout",
     "output_type": "stream",
     "text": [
      "El producto demoró 1.5753517150878906 Norte Iquique\n",
      "tiempo que lleva corriendo 1.1515631993611655 Min\n",
      "Iquique 1020010\n"
     ]
    },
    {
     "name": "stderr",
     "output_type": "stream",
     "text": [
      "INFO:fbprophet:Disabling daily seasonality. Run prophet with daily_seasonality=True to override this.\n"
     ]
    },
    {
     "name": "stdout",
     "output_type": "stream",
     "text": [
      "El producto demoró 1.6369051933288574 Norte Iquique\n",
      "tiempo que lleva corriendo 1.178861629962921 Min\n",
      "Iquique 1020003\n"
     ]
    },
    {
     "name": "stderr",
     "output_type": "stream",
     "text": [
      "INFO:fbprophet:Disabling daily seasonality. Run prophet with daily_seasonality=True to override this.\n"
     ]
    },
    {
     "name": "stdout",
     "output_type": "stream",
     "text": [
      "El producto demoró 1.4872770309448242 Norte Iquique\n",
      "tiempo que lleva corriendo 1.2036662499109905 Min\n",
      "Iquique 1020001\n"
     ]
    },
    {
     "name": "stderr",
     "output_type": "stream",
     "text": [
      "INFO:fbprophet:Disabling daily seasonality. Run prophet with daily_seasonality=True to override this.\n"
     ]
    },
    {
     "name": "stdout",
     "output_type": "stream",
     "text": [
      "El producto demoró 1.540823221206665 Norte Iquique\n",
      "tiempo que lleva corriendo 1.2293716430664063 Min\n",
      "Iquique 1010695\n"
     ]
    },
    {
     "name": "stderr",
     "output_type": "stream",
     "text": [
      "INFO:fbprophet:Disabling daily seasonality. Run prophet with daily_seasonality=True to override this.\n"
     ]
    },
    {
     "name": "stdout",
     "output_type": "stream",
     "text": [
      "El producto demoró 1.3656723499298096 Norte Iquique\n",
      "tiempo que lleva corriendo 1.2521578629811605 Min\n",
      "Iquique 1010267\n"
     ]
    },
    {
     "name": "stderr",
     "output_type": "stream",
     "text": [
      "INFO:fbprophet:Disabling daily seasonality. Run prophet with daily_seasonality=True to override this.\n"
     ]
    },
    {
     "name": "stdout",
     "output_type": "stream",
     "text": [
      "El producto demoró 1.7520036697387695 Norte Iquique\n",
      "tiempo que lleva corriendo 1.2813746054967246 Min\n",
      "Iquique 1010078\n"
     ]
    },
    {
     "name": "stderr",
     "output_type": "stream",
     "text": [
      "INFO:fbprophet:Disabling daily seasonality. Run prophet with daily_seasonality=True to override this.\n"
     ]
    },
    {
     "name": "stdout",
     "output_type": "stream",
     "text": [
      "El producto demoró 1.859595775604248 Norte Iquique\n",
      "tiempo que lleva corriendo 1.3124012271563212 Min\n",
      "Iquique 1010077\n"
     ]
    },
    {
     "name": "stderr",
     "output_type": "stream",
     "text": [
      "INFO:fbprophet:Disabling daily seasonality. Run prophet with daily_seasonality=True to override this.\n"
     ]
    },
    {
     "name": "stdout",
     "output_type": "stream",
     "text": [
      "El producto demoró 1.570347785949707 Norte Iquique\n",
      "tiempo que lleva corriendo 1.3385903755823771 Min\n",
      "Iquique 1010048\n"
     ]
    },
    {
     "name": "stderr",
     "output_type": "stream",
     "text": [
      "INFO:fbprophet:Disabling daily seasonality. Run prophet with daily_seasonality=True to override this.\n"
     ]
    },
    {
     "name": "stdout",
     "output_type": "stream",
     "text": [
      "El producto demoró 1.7890350818634033 Norte Iquique\n",
      "tiempo que lleva corriendo 1.3684326489766439 Min\n",
      "Iquique 1010002\n"
     ]
    },
    {
     "name": "stderr",
     "output_type": "stream",
     "text": [
      "INFO:fbprophet:Disabling daily seasonality. Run prophet with daily_seasonality=True to override this.\n"
     ]
    },
    {
     "name": "stdout",
     "output_type": "stream",
     "text": [
      "El producto demoró 1.7184748649597168 Norte Iquique\n",
      "tiempo que lleva corriendo 1.3970989147822062 Min\n",
      "Copiapo 1020253\n"
     ]
    },
    {
     "name": "stderr",
     "output_type": "stream",
     "text": [
      "INFO:fbprophet:Disabling weekly seasonality. Run prophet with weekly_seasonality=True to override this.\n",
      "INFO:fbprophet:Disabling daily seasonality. Run prophet with daily_seasonality=True to override this.\n",
      "INFO:fbprophet:n_changepoints greater than number of observations. Using 1.\n"
     ]
    },
    {
     "name": "stdout",
     "output_type": "stream",
     "text": [
      "El producto demoró 1.6369047164916992 Norte Copiapo\n",
      "tiempo que lleva corriendo 1.4246058622996012 Min\n",
      "Copiapo 1020042\n"
     ]
    },
    {
     "name": "stderr",
     "output_type": "stream",
     "text": [
      "INFO:fbprophet:Disabling daily seasonality. Run prophet with daily_seasonality=True to override this.\n"
     ]
    },
    {
     "name": "stdout",
     "output_type": "stream",
     "text": [
      "El producto demoró 4.241640090942383 Norte Copiapo\n",
      "tiempo que lleva corriendo 1.4953165292739867 Min\n",
      "Copiapo 1020027\n"
     ]
    },
    {
     "name": "stderr",
     "output_type": "stream",
     "text": [
      "INFO:fbprophet:Disabling daily seasonality. Run prophet with daily_seasonality=True to override this.\n"
     ]
    },
    {
     "name": "stdout",
     "output_type": "stream",
     "text": [
      "El producto demoró 1.9671883583068848 Norte Copiapo\n",
      "tiempo que lleva corriendo 1.5281280120213827 Min\n",
      "Copiapo 1020013\n"
     ]
    },
    {
     "name": "stderr",
     "output_type": "stream",
     "text": [
      "INFO:fbprophet:Disabling daily seasonality. Run prophet with daily_seasonality=True to override this.\n"
     ]
    },
    {
     "name": "stdout",
     "output_type": "stream",
     "text": [
      "El producto demoró 1.6864473819732666 Norte Copiapo\n",
      "tiempo que lleva corriendo 1.5562604983647665 Min\n",
      "Copiapo 1020010\n"
     ]
    },
    {
     "name": "stderr",
     "output_type": "stream",
     "text": [
      "INFO:fbprophet:Disabling daily seasonality. Run prophet with daily_seasonality=True to override this.\n"
     ]
    },
    {
     "name": "stdout",
     "output_type": "stream",
     "text": [
      "El producto demoró 1.9001305103302002 Norte Copiapo\n",
      "tiempo que lleva corriendo 1.5879543622334797 Min\n",
      "Copiapo 1020003\n"
     ]
    },
    {
     "name": "stderr",
     "output_type": "stream",
     "text": [
      "INFO:fbprophet:Disabling daily seasonality. Run prophet with daily_seasonality=True to override this.\n"
     ]
    },
    {
     "name": "stdout",
     "output_type": "stream",
     "text": [
      "El producto demoró 1.6253948211669922 Norte Copiapo\n",
      "tiempo que lleva corriendo 1.6150609572728476 Min\n",
      "Copiapo 1020001\n"
     ]
    },
    {
     "name": "stderr",
     "output_type": "stream",
     "text": [
      "INFO:fbprophet:Disabling daily seasonality. Run prophet with daily_seasonality=True to override this.\n"
     ]
    },
    {
     "name": "stdout",
     "output_type": "stream",
     "text": [
      "El producto demoró 1.6354036331176758 Norte Copiapo\n",
      "tiempo que lleva corriendo 1.6423426985740661 Min\n",
      "Copiapo 1010695\n"
     ]
    },
    {
     "name": "stderr",
     "output_type": "stream",
     "text": [
      "INFO:fbprophet:Disabling daily seasonality. Run prophet with daily_seasonality=True to override this.\n"
     ]
    },
    {
     "name": "stdout",
     "output_type": "stream",
     "text": [
      "El producto demoró 1.459252119064331 Norte Copiapo\n",
      "tiempo que lleva corriendo 1.6666885972023011 Min\n",
      "Copiapo 1010267\n"
     ]
    },
    {
     "name": "stderr",
     "output_type": "stream",
     "text": [
      "INFO:fbprophet:Disabling daily seasonality. Run prophet with daily_seasonality=True to override this.\n"
     ]
    },
    {
     "name": "stdout",
     "output_type": "stream",
     "text": [
      "El producto demoró 1.761512041091919 Norte Copiapo\n",
      "tiempo que lleva corriendo 1.6960721413294475 Min\n",
      "Copiapo 1010078\n"
     ]
    },
    {
     "name": "stderr",
     "output_type": "stream",
     "text": [
      "INFO:fbprophet:Disabling daily seasonality. Run prophet with daily_seasonality=True to override this.\n"
     ]
    },
    {
     "name": "stdout",
     "output_type": "stream",
     "text": [
      "El producto demoró 1.6494157314300537 Norte Copiapo\n",
      "tiempo que lleva corriendo 1.7235790808995566 Min\n",
      "Copiapo 1010077\n"
     ]
    },
    {
     "name": "stderr",
     "output_type": "stream",
     "text": [
      "INFO:fbprophet:Disabling daily seasonality. Run prophet with daily_seasonality=True to override this.\n"
     ]
    },
    {
     "name": "stdout",
     "output_type": "stream",
     "text": [
      "El producto demoró 1.6749370098114014 Norte Copiapo\n",
      "tiempo que lleva corriendo 1.7515113870302836 Min\n",
      "Copiapo 1010048\n"
     ]
    },
    {
     "name": "stderr",
     "output_type": "stream",
     "text": [
      "INFO:fbprophet:Disabling daily seasonality. Run prophet with daily_seasonality=True to override this.\n"
     ]
    },
    {
     "name": "stdout",
     "output_type": "stream",
     "text": [
      "El producto demoró 1.8811137676239014 Norte Copiapo\n",
      "tiempo que lleva corriendo 1.7828716238339741 Min\n",
      "Copiapo 1010002\n",
      "El producto demoró 1.7154719829559326 Norte Copiapo\n",
      "tiempo que lleva corriendo 1.8114878416061402 Min\n",
      "tiempo bloque completo 1.8114961862564087 Min\n"
     ]
    },
    {
     "data": {
      "text/html": [
       "<div>\n",
       "<style scoped>\n",
       "    .dataframe tbody tr th:only-of-type {\n",
       "        vertical-align: middle;\n",
       "    }\n",
       "\n",
       "    .dataframe tbody tr th {\n",
       "        vertical-align: top;\n",
       "    }\n",
       "\n",
       "    .dataframe thead th {\n",
       "        text-align: right;\n",
       "    }\n",
       "</style>\n",
       "<table border=\"1\" class=\"dataframe\">\n",
       "  <thead>\n",
       "    <tr style=\"text-align: right;\">\n",
       "      <th></th>\n",
       "      <th>ds</th>\n",
       "      <th>yhat_lower</th>\n",
       "      <th>yhat_upper</th>\n",
       "      <th>yhat</th>\n",
       "      <th>Material</th>\n",
       "      <th>Oficina de Ventas Unifica</th>\n",
       "      <th>Zona de ventas.1</th>\n",
       "    </tr>\n",
       "  </thead>\n",
       "  <tbody>\n",
       "    <tr>\n",
       "      <th>0</th>\n",
       "      <td>2021-06-12</td>\n",
       "      <td>25.312015</td>\n",
       "      <td>541.001204</td>\n",
       "      <td>276.389096</td>\n",
       "      <td>1020253</td>\n",
       "      <td>Antofagasta</td>\n",
       "      <td>Norte</td>\n",
       "    </tr>\n",
       "    <tr>\n",
       "      <th>1</th>\n",
       "      <td>2021-06-13</td>\n",
       "      <td>-179.033391</td>\n",
       "      <td>333.804823</td>\n",
       "      <td>74.823879</td>\n",
       "      <td>1020253</td>\n",
       "      <td>Antofagasta</td>\n",
       "      <td>Norte</td>\n",
       "    </tr>\n",
       "    <tr>\n",
       "      <th>2</th>\n",
       "      <td>2021-06-14</td>\n",
       "      <td>-154.935995</td>\n",
       "      <td>374.118050</td>\n",
       "      <td>101.708623</td>\n",
       "      <td>1020253</td>\n",
       "      <td>Antofagasta</td>\n",
       "      <td>Norte</td>\n",
       "    </tr>\n",
       "    <tr>\n",
       "      <th>3</th>\n",
       "      <td>2021-06-15</td>\n",
       "      <td>-173.416171</td>\n",
       "      <td>354.824576</td>\n",
       "      <td>98.074634</td>\n",
       "      <td>1020253</td>\n",
       "      <td>Antofagasta</td>\n",
       "      <td>Norte</td>\n",
       "    </tr>\n",
       "    <tr>\n",
       "      <th>4</th>\n",
       "      <td>2021-06-16</td>\n",
       "      <td>-151.460983</td>\n",
       "      <td>399.836341</td>\n",
       "      <td>123.959807</td>\n",
       "      <td>1020253</td>\n",
       "      <td>Antofagasta</td>\n",
       "      <td>Norte</td>\n",
       "    </tr>\n",
       "  </tbody>\n",
       "</table>\n",
       "</div>"
      ],
      "text/plain": [
       "          ds  yhat_lower  yhat_upper        yhat Material  \\\n",
       "0 2021-06-12   25.312015  541.001204  276.389096  1020253   \n",
       "1 2021-06-13 -179.033391  333.804823   74.823879  1020253   \n",
       "2 2021-06-14 -154.935995  374.118050  101.708623  1020253   \n",
       "3 2021-06-15 -173.416171  354.824576   98.074634  1020253   \n",
       "4 2021-06-16 -151.460983  399.836341  123.959807  1020253   \n",
       "\n",
       "  Oficina de Ventas Unifica Zona de ventas.1  \n",
       "0               Antofagasta            Norte  \n",
       "1               Antofagasta            Norte  \n",
       "2               Antofagasta            Norte  \n",
       "3               Antofagasta            Norte  \n",
       "4               Antofagasta            Norte  "
      ]
     },
     "execution_count": 25,
     "metadata": {},
     "output_type": "execute_result"
    }
   ],
   "source": [
    "df2 = pd.DataFrame(columns=['ds', 'yhat_lower', 'yhat_upper', 'yhat', 'Material','Oficina de Ventas Unifica', 'Zona de ventas.1'])\n",
    "\n",
    "\n",
    "\n",
    "Listado_de_zonas=data['Zona de ventas.1'].unique\n",
    "\n",
    "start_time = time()\n",
    "\n",
    "\n",
    "\n",
    "#for Z in Listado_de_zonas:\n",
    "Z='Norte'\n",
    "\n",
    "dfz=Df_ubic(data,'Zona de ventas.1',Z)\n",
    "\n",
    "Listado_de_Sucursales=dfz[dfz['Día natural'] >datetime.date(2021, 6, 2)]['Oficina de Ventas Unifica'].unique()\n",
    "\n",
    "for y in Listado_de_Sucursales:\n",
    "    #y='Huechuraba'\n",
    "    dfy=Df_ubic(dfz,'Oficina de Ventas Unifica',y)\n",
    "\n",
    "\n",
    "    Listado_de_Materiales=dfy['Material'].unique()\n",
    "\n",
    "    for m in Listado_de_Materiales:\n",
    "        #m=Listado_de_Materiales[0]\n",
    "        material_time=time()\n",
    "        print(y,m)\n",
    "\n",
    "\n",
    "        dfm=Df_ubic(dfy,'Material',m).groupby('Día natural').sum().reset_index()[['Día natural',y_col]]\n",
    "\n",
    "        dfmPred=Predict_sem(dfm,8)[['ds', 'yhat_lower', 'yhat_upper', 'yhat']].tail(8)\n",
    "        dfmPred['Material']=[m for i in range(dfmPred.shape[0])]\n",
    "        dfmPred['Oficina de Ventas Unifica']=[y for i in range(dfmPred.shape[0])]\n",
    "        dfmPred['Zona de ventas.1']=[Z for i in range(dfmPred.shape[0])]\n",
    "        dfmPred=dfmPred.reset_index()\n",
    "        dfmPred.pop('index')\n",
    "        df2=pd.concat([df2, dfmPred])\n",
    "        \n",
    "        print('El producto demoró',(time() - material_time),Z,y)\n",
    "        print('tiempo que lleva corriendo',(time() - start_time)/60,'Min')\n",
    "    \n",
    "print('tiempo bloque completo',(time() - start_time)/60,'Min')\n",
    "df2.head()"
   ]
  },
  {
   "cell_type": "code",
   "execution_count": 26,
   "id": "f39c7bf6",
   "metadata": {},
   "outputs": [],
   "source": [
    "df2.rename(columns = {'ds': 'Día natural', 'yhat': 'Predicción central',\n",
    "                                'yhat_upper': 'Predicción Superior',\n",
    "                                'yhat_lower': 'Predicción Inferior'}, inplace = True)"
   ]
  },
  {
   "cell_type": "code",
   "execution_count": 38,
   "id": "4d80859e",
   "metadata": {},
   "outputs": [
    {
     "data": {
      "text/plain": [
       "2.7579976757367453"
      ]
     },
     "execution_count": 38,
     "metadata": {},
     "output_type": "execute_result"
    }
   ],
   "source": [
    "165.4798605442047/60"
   ]
  },
  {
   "cell_type": "markdown",
   "id": "41b062d6",
   "metadata": {},
   "source": [
    "### CSV SAVE "
   ]
  },
  {
   "cell_type": "code",
   "execution_count": 39,
   "id": "ba1ea0c9",
   "metadata": {},
   "outputs": [
    {
     "name": "stdout",
     "output_type": "stream",
     "text": [
      "2019-06-19\n",
      "2021-06-19\n"
     ]
    }
   ],
   "source": [
    "\n",
    "min_time=df2['Día natural'].min()\n",
    "min_time=str(min_time).split(' ')[0]\n",
    "print(min_time)\n",
    "max_time=df2['Día natural'].max()\n",
    "max_time=str(max_time).split(' ')[0]\n",
    "print(max_time)"
   ]
  },
  {
   "cell_type": "code",
   "execution_count": 40,
   "id": "bf2e148e",
   "metadata": {},
   "outputs": [],
   "source": [
    "#Error_DF_Sum.to_csv('E_interv_Dem.csv', index=False)\n",
    "df2.to_csv('Predicción Zona '+Z+max_time+'.csv', index=False)"
   ]
  },
  {
   "cell_type": "markdown",
   "id": "5e7a0d1b",
   "metadata": {},
   "source": [
    "## Iteración completa Zona, Sucursal"
   ]
  },
  {
   "cell_type": "code",
   "execution_count": 27,
   "id": "6a36ffb5",
   "metadata": {
    "scrolled": true
   },
   "outputs": [
    {
     "name": "stdout",
     "output_type": "stream",
     "text": [
      "Santiago\n",
      "Huechuraba\n"
     ]
    },
    {
     "name": "stderr",
     "output_type": "stream",
     "text": [
      "INFO:fbprophet:Disabling daily seasonality. Run prophet with daily_seasonality=True to override this.\n",
      "INFO:fbprophet:Disabling daily seasonality. Run prophet with daily_seasonality=True to override this.\n"
     ]
    },
    {
     "name": "stdout",
     "output_type": "stream",
     "text": [
      "El producto demoró 1.6324005126953125 Santiago Huechuraba\n",
      "tiempo que lleva corriendo 0.0300841490427653 Min\n"
     ]
    },
    {
     "name": "stderr",
     "output_type": "stream",
     "text": [
      "INFO:fbprophet:Disabling daily seasonality. Run prophet with daily_seasonality=True to override this.\n"
     ]
    },
    {
     "name": "stdout",
     "output_type": "stream",
     "text": [
      "El producto demoró 1.6709339618682861 Santiago Huechuraba\n",
      "tiempo que lleva corriendo 0.0579413890838623 Min\n"
     ]
    },
    {
     "name": "stderr",
     "output_type": "stream",
     "text": [
      "INFO:fbprophet:Disabling daily seasonality. Run prophet with daily_seasonality=True to override this.\n"
     ]
    },
    {
     "name": "stdout",
     "output_type": "stream",
     "text": [
      "El producto demoró 1.8275680541992188 Santiago Huechuraba\n",
      "tiempo que lleva corriendo 0.08840920527776082 Min\n"
     ]
    },
    {
     "name": "stderr",
     "output_type": "stream",
     "text": [
      "INFO:fbprophet:Disabling daily seasonality. Run prophet with daily_seasonality=True to override this.\n"
     ]
    },
    {
     "name": "stdout",
     "output_type": "stream",
     "text": [
      "El producto demoró 1.7660157680511475 Santiago Huechuraba\n",
      "tiempo que lleva corriendo 0.11786780754725139 Min\n"
     ]
    },
    {
     "name": "stderr",
     "output_type": "stream",
     "text": [
      "INFO:fbprophet:Disabling daily seasonality. Run prophet with daily_seasonality=True to override this.\n"
     ]
    },
    {
     "name": "stdout",
     "output_type": "stream",
     "text": [
      "El producto demoró 1.7495017051696777 Santiago Huechuraba\n",
      "tiempo que lleva corriendo 0.14705118735631306 Min\n"
     ]
    },
    {
     "name": "stderr",
     "output_type": "stream",
     "text": [
      "INFO:fbprophet:Disabling daily seasonality. Run prophet with daily_seasonality=True to override this.\n"
     ]
    },
    {
     "name": "stdout",
     "output_type": "stream",
     "text": [
      "El producto demoró 1.6068789958953857 Santiago Huechuraba\n",
      "tiempo que lleva corriendo 0.17384918928146362 Min\n"
     ]
    },
    {
     "name": "stderr",
     "output_type": "stream",
     "text": [
      "INFO:fbprophet:Disabling daily seasonality. Run prophet with daily_seasonality=True to override this.\n"
     ]
    },
    {
     "name": "stdout",
     "output_type": "stream",
     "text": [
      "El producto demoró 1.7505018711090088 Santiago Huechuraba\n",
      "tiempo que lleva corriendo 0.20304089784622192 Min\n"
     ]
    },
    {
     "name": "stderr",
     "output_type": "stream",
     "text": [
      "INFO:fbprophet:Disabling daily seasonality. Run prophet with daily_seasonality=True to override this.\n"
     ]
    },
    {
     "name": "stdout",
     "output_type": "stream",
     "text": [
      "El producto demoró 1.985203742980957 Santiago Huechuraba\n",
      "tiempo que lleva corriendo 0.23615264495213825 Min\n"
     ]
    },
    {
     "name": "stderr",
     "output_type": "stream",
     "text": [
      "INFO:fbprophet:Disabling daily seasonality. Run prophet with daily_seasonality=True to override this.\n"
     ]
    },
    {
     "name": "stdout",
     "output_type": "stream",
     "text": [
      "El producto demoró 2.07928466796875 Santiago Huechuraba\n",
      "tiempo que lleva corriendo 0.2708324114481608 Min\n"
     ]
    },
    {
     "name": "stderr",
     "output_type": "stream",
     "text": [
      "INFO:fbprophet:Disabling daily seasonality. Run prophet with daily_seasonality=True to override this.\n"
     ]
    },
    {
     "name": "stdout",
     "output_type": "stream",
     "text": [
      "El producto demoró 1.7790262699127197 Santiago Huechuraba\n",
      "tiempo que lleva corriendo 0.3004995385805766 Min\n"
     ]
    },
    {
     "name": "stderr",
     "output_type": "stream",
     "text": [
      "INFO:fbprophet:Disabling daily seasonality. Run prophet with daily_seasonality=True to override this.\n"
     ]
    },
    {
     "name": "stdout",
     "output_type": "stream",
     "text": [
      "El producto demoró 1.6238932609558105 Santiago Huechuraba\n",
      "tiempo que lleva corriendo 0.32758944829305015 Min\n"
     ]
    },
    {
     "name": "stderr",
     "output_type": "stream",
     "text": [
      "INFO:fbprophet:Disabling daily seasonality. Run prophet with daily_seasonality=True to override this.\n"
     ]
    },
    {
     "name": "stdout",
     "output_type": "stream",
     "text": [
      "El producto demoró 1.621891736984253 Santiago Huechuraba\n",
      "tiempo que lleva corriendo 0.3546459992726644 Min\n"
     ]
    },
    {
     "name": "stderr",
     "output_type": "stream",
     "text": [
      "INFO:fbprophet:Disabling daily seasonality. Run prophet with daily_seasonality=True to override this.\n"
     ]
    },
    {
     "name": "stdout",
     "output_type": "stream",
     "text": [
      "El producto demoró 1.7284836769104004 Santiago Huechuraba\n",
      "tiempo que lleva corriendo 0.3834790786107381 Min\n",
      "Lo Espejo\n"
     ]
    },
    {
     "name": "stderr",
     "output_type": "stream",
     "text": [
      "INFO:fbprophet:Disabling daily seasonality. Run prophet with daily_seasonality=True to override this.\n"
     ]
    },
    {
     "name": "stdout",
     "output_type": "stream",
     "text": [
      "El producto demoró 1.5628411769866943 Santiago Lo Espejo\n",
      "tiempo que lleva corriendo 0.4097516218821208 Min\n"
     ]
    },
    {
     "name": "stderr",
     "output_type": "stream",
     "text": [
      "INFO:fbprophet:Disabling daily seasonality. Run prophet with daily_seasonality=True to override this.\n"
     ]
    },
    {
     "name": "stdout",
     "output_type": "stream",
     "text": [
      "El producto demoró 1.5938680171966553 Santiago Lo Espejo\n",
      "tiempo que lleva corriendo 0.43632442951202394 Min\n"
     ]
    },
    {
     "name": "stderr",
     "output_type": "stream",
     "text": [
      "INFO:fbprophet:Disabling daily seasonality. Run prophet with daily_seasonality=True to override this.\n"
     ]
    },
    {
     "name": "stdout",
     "output_type": "stream",
     "text": [
      "El producto demoró 1.7675175666809082 Santiago Lo Espejo\n",
      "tiempo que lleva corriendo 0.46579971313476565 Min\n"
     ]
    },
    {
     "name": "stderr",
     "output_type": "stream",
     "text": [
      "INFO:fbprophet:Disabling daily seasonality. Run prophet with daily_seasonality=True to override this.\n"
     ]
    },
    {
     "name": "stdout",
     "output_type": "stream",
     "text": [
      "El producto demoró 1.6108825206756592 Santiago Lo Espejo\n",
      "tiempo que lleva corriendo 0.4926727771759033 Min\n"
     ]
    },
    {
     "name": "stderr",
     "output_type": "stream",
     "text": [
      "INFO:fbprophet:Disabling daily seasonality. Run prophet with daily_seasonality=True to override this.\n"
     ]
    },
    {
     "name": "stdout",
     "output_type": "stream",
     "text": [
      "El producto demoró 1.8686039447784424 Santiago Lo Espejo\n",
      "tiempo que lleva corriendo 0.5238411863644917 Min\n"
     ]
    },
    {
     "name": "stderr",
     "output_type": "stream",
     "text": [
      "INFO:fbprophet:Disabling daily seasonality. Run prophet with daily_seasonality=True to override this.\n"
     ]
    },
    {
     "name": "stdout",
     "output_type": "stream",
     "text": [
      "El producto demoró 1.933159589767456 Santiago Lo Espejo\n",
      "tiempo que lleva corriendo 0.5560771942138671 Min\n"
     ]
    },
    {
     "name": "stderr",
     "output_type": "stream",
     "text": [
      "INFO:fbprophet:Disabling daily seasonality. Run prophet with daily_seasonality=True to override this.\n"
     ]
    },
    {
     "name": "stdout",
     "output_type": "stream",
     "text": [
      "El producto demoró 1.6609251499176025 Santiago Lo Espejo\n",
      "tiempo que lleva corriendo 0.5837759653727214 Min\n"
     ]
    },
    {
     "name": "stderr",
     "output_type": "stream",
     "text": [
      "INFO:fbprophet:Disabling daily seasonality. Run prophet with daily_seasonality=True to override this.\n"
     ]
    },
    {
     "name": "stdout",
     "output_type": "stream",
     "text": [
      "El producto demoró 1.6864469051361084 Santiago Lo Espejo\n",
      "tiempo que lleva corriendo 0.6119000991185506 Min\n"
     ]
    },
    {
     "name": "stderr",
     "output_type": "stream",
     "text": [
      "INFO:fbprophet:Disabling daily seasonality. Run prophet with daily_seasonality=True to override this.\n"
     ]
    },
    {
     "name": "stdout",
     "output_type": "stream",
     "text": [
      "El producto demoró 3.4384512901306152 Santiago Lo Espejo\n",
      "tiempo que lleva corriendo 0.6692242940266927 Min\n"
     ]
    },
    {
     "name": "stderr",
     "output_type": "stream",
     "text": [
      "INFO:fbprophet:Disabling daily seasonality. Run prophet with daily_seasonality=True to override this.\n"
     ]
    },
    {
     "name": "stdout",
     "output_type": "stream",
     "text": [
      "El producto demoró 1.7510032653808594 Santiago Lo Espejo\n",
      "tiempo que lleva corriendo 0.6984326799710592 Min\n"
     ]
    },
    {
     "name": "stderr",
     "output_type": "stream",
     "text": [
      "INFO:fbprophet:Disabling daily seasonality. Run prophet with daily_seasonality=True to override this.\n"
     ]
    },
    {
     "name": "stdout",
     "output_type": "stream",
     "text": [
      "El producto demoró 1.7169733047485352 Santiago Lo Espejo\n",
      "tiempo que lleva corriendo 0.7270739277203878 Min\n"
     ]
    },
    {
     "name": "stderr",
     "output_type": "stream",
     "text": [
      "INFO:fbprophet:Disabling daily seasonality. Run prophet with daily_seasonality=True to override this.\n"
     ]
    },
    {
     "name": "stdout",
     "output_type": "stream",
     "text": [
      "El producto demoró 1.687948226928711 Santiago Lo Espejo\n",
      "tiempo que lleva corriendo 0.7552230834960938 Min\n"
     ]
    },
    {
     "name": "stderr",
     "output_type": "stream",
     "text": [
      "INFO:fbprophet:Disabling daily seasonality. Run prophet with daily_seasonality=True to override this.\n"
     ]
    },
    {
     "name": "stdout",
     "output_type": "stream",
     "text": [
      "El producto demoró 1.8075511455535889 Santiago Lo Espejo\n",
      "tiempo que lleva corriendo 0.785365621248881 Min\n",
      "Sucursal Miraflores\n"
     ]
    },
    {
     "name": "stderr",
     "output_type": "stream",
     "text": [
      "INFO:fbprophet:Disabling daily seasonality. Run prophet with daily_seasonality=True to override this.\n"
     ]
    },
    {
     "name": "stdout",
     "output_type": "stream",
     "text": [
      "El producto demoró 1.808051586151123 Santiago Sucursal Miraflores\n",
      "tiempo que lleva corriendo 0.8157500227292379 Min\n"
     ]
    },
    {
     "name": "stderr",
     "output_type": "stream",
     "text": [
      "INFO:fbprophet:Disabling daily seasonality. Run prophet with daily_seasonality=True to override this.\n"
     ]
    },
    {
     "name": "stdout",
     "output_type": "stream",
     "text": [
      "El producto demoró 1.5037903785705566 Santiago Sucursal Miraflores\n",
      "tiempo que lleva corriendo 0.8408382256825765 Min\n"
     ]
    },
    {
     "name": "stderr",
     "output_type": "stream",
     "text": [
      "INFO:fbprophet:Disabling daily seasonality. Run prophet with daily_seasonality=True to override this.\n"
     ]
    },
    {
     "name": "stdout",
     "output_type": "stream",
     "text": [
      "El producto demoró 1.6193897724151611 Santiago Sucursal Miraflores\n",
      "tiempo que lleva corriendo 0.8678447365760803 Min\n"
     ]
    },
    {
     "name": "stderr",
     "output_type": "stream",
     "text": [
      "INFO:fbprophet:Disabling daily seasonality. Run prophet with daily_seasonality=True to override this.\n"
     ]
    },
    {
     "name": "stdout",
     "output_type": "stream",
     "text": [
      "El producto demoró 1.619389533996582 Santiago Sucursal Miraflores\n",
      "tiempo que lleva corriendo 0.8948428948720296 Min\n"
     ]
    },
    {
     "name": "stderr",
     "output_type": "stream",
     "text": [
      "INFO:fbprophet:Disabling daily seasonality. Run prophet with daily_seasonality=True to override this.\n"
     ]
    },
    {
     "name": "stdout",
     "output_type": "stream",
     "text": [
      "El producto demoró 1.9116406440734863 Santiago Sucursal Miraflores\n",
      "tiempo que lleva corriendo 0.9267369389533997 Min\n"
     ]
    },
    {
     "name": "stderr",
     "output_type": "stream",
     "text": [
      "INFO:fbprophet:Disabling daily seasonality. Run prophet with daily_seasonality=True to override this.\n"
     ]
    },
    {
     "name": "stdout",
     "output_type": "stream",
     "text": [
      "El producto demoró 1.8210625648498535 Santiago Sucursal Miraflores\n",
      "tiempo que lleva corriendo 0.9571046710014344 Min\n"
     ]
    },
    {
     "name": "stderr",
     "output_type": "stream",
     "text": [
      "INFO:fbprophet:Disabling daily seasonality. Run prophet with daily_seasonality=True to override this.\n"
     ]
    },
    {
     "name": "stdout",
     "output_type": "stream",
     "text": [
      "El producto demoró 1.86309814453125 Santiago Sucursal Miraflores\n",
      "tiempo que lleva corriendo 0.9881729920705159 Min\n"
     ]
    },
    {
     "name": "stderr",
     "output_type": "stream",
     "text": [
      "INFO:fbprophet:Disabling daily seasonality. Run prophet with daily_seasonality=True to override this.\n"
     ]
    },
    {
     "name": "stdout",
     "output_type": "stream",
     "text": [
      "El producto demoró 1.8360755443572998 Santiago Sucursal Miraflores\n",
      "tiempo que lleva corriendo 1.0187992771466574 Min\n"
     ]
    },
    {
     "name": "stderr",
     "output_type": "stream",
     "text": [
      "INFO:fbprophet:Disabling daily seasonality. Run prophet with daily_seasonality=True to override this.\n"
     ]
    },
    {
     "name": "stdout",
     "output_type": "stream",
     "text": [
      "El producto demoró 1.684945821762085 Santiago Sucursal Miraflores\n",
      "tiempo que lleva corriendo 1.0468983888626098 Min\n"
     ]
    },
    {
     "name": "stderr",
     "output_type": "stream",
     "text": [
      "INFO:fbprophet:Disabling daily seasonality. Run prophet with daily_seasonality=True to override this.\n"
     ]
    },
    {
     "name": "stdout",
     "output_type": "stream",
     "text": [
      "El producto demoró 1.6734364032745361 Santiago Sucursal Miraflores\n",
      "tiempo que lleva corriendo 1.074813997745514 Min\n"
     ]
    },
    {
     "name": "stderr",
     "output_type": "stream",
     "text": [
      "INFO:fbprophet:Disabling daily seasonality. Run prophet with daily_seasonality=True to override this.\n"
     ]
    },
    {
     "name": "stdout",
     "output_type": "stream",
     "text": [
      "El producto demoró 1.7139713764190674 Santiago Sucursal Miraflores\n",
      "tiempo que lleva corriendo 1.1033968687057496 Min\n"
     ]
    },
    {
     "name": "stderr",
     "output_type": "stream",
     "text": [
      "INFO:fbprophet:Disabling daily seasonality. Run prophet with daily_seasonality=True to override this.\n"
     ]
    },
    {
     "name": "stdout",
     "output_type": "stream",
     "text": [
      "El producto demoró 1.7830300331115723 Santiago Sucursal Miraflores\n",
      "tiempo que lleva corriendo 1.1331390539805095 Min\n",
      "El producto demoró 1.6689321994781494 Santiago Sucursal Miraflores\n",
      "tiempo que lleva corriendo 1.1609796086947124 Min\n",
      "Centro Norte\n",
      "Coquimbo\n"
     ]
    },
    {
     "name": "stderr",
     "output_type": "stream",
     "text": [
      "INFO:fbprophet:Disabling daily seasonality. Run prophet with daily_seasonality=True to override this.\n",
      "INFO:fbprophet:Disabling daily seasonality. Run prophet with daily_seasonality=True to override this.\n"
     ]
    },
    {
     "name": "stdout",
     "output_type": "stream",
     "text": [
      "El producto demoró 1.578855276107788 Centro Norte Coquimbo\n",
      "tiempo que lleva corriendo 1.19039652744929 Min\n"
     ]
    },
    {
     "name": "stderr",
     "output_type": "stream",
     "text": [
      "INFO:fbprophet:Disabling daily seasonality. Run prophet with daily_seasonality=True to override this.\n"
     ]
    },
    {
     "name": "stdout",
     "output_type": "stream",
     "text": [
      "El producto demoró 1.5458266735076904 Centro Norte Coquimbo\n",
      "tiempo que lleva corriendo 1.2161686460177104 Min\n"
     ]
    },
    {
     "name": "stderr",
     "output_type": "stream",
     "text": [
      "INFO:fbprophet:Disabling daily seasonality. Run prophet with daily_seasonality=True to override this.\n"
     ]
    },
    {
     "name": "stdout",
     "output_type": "stream",
     "text": [
      "El producto demoró 1.6809422969818115 Centro Norte Coquimbo\n",
      "tiempo que lleva corriendo 1.2442093729972838 Min\n"
     ]
    },
    {
     "name": "stderr",
     "output_type": "stream",
     "text": [
      "INFO:fbprophet:Disabling daily seasonality. Run prophet with daily_seasonality=True to override this.\n"
     ]
    },
    {
     "name": "stdout",
     "output_type": "stream",
     "text": [
      "El producto demoró 1.8310718536376953 Centro Norte Coquimbo\n",
      "tiempo que lleva corriendo 1.2747522433598837 Min\n"
     ]
    },
    {
     "name": "stderr",
     "output_type": "stream",
     "text": [
      "INFO:fbprophet:Disabling daily seasonality. Run prophet with daily_seasonality=True to override this.\n"
     ]
    },
    {
     "name": "stdout",
     "output_type": "stream",
     "text": [
      "El producto demoró 1.6158866882324219 Centro Norte Coquimbo\n",
      "tiempo que lleva corriendo 1.3017087260882059 Min\n"
     ]
    },
    {
     "name": "stderr",
     "output_type": "stream",
     "text": [
      "INFO:fbprophet:Disabling daily seasonality. Run prophet with daily_seasonality=True to override this.\n"
     ]
    },
    {
     "name": "stdout",
     "output_type": "stream",
     "text": [
      "El producto demoró 1.5943682193756104 Centro Norte Coquimbo\n",
      "tiempo que lleva corriendo 1.3283148845036825 Min\n"
     ]
    },
    {
     "name": "stderr",
     "output_type": "stream",
     "text": [
      "INFO:fbprophet:Disabling daily seasonality. Run prophet with daily_seasonality=True to override this.\n"
     ]
    },
    {
     "name": "stdout",
     "output_type": "stream",
     "text": [
      "El producto demoró 1.6569218635559082 Centro Norte Coquimbo\n",
      "tiempo que lleva corriendo 1.355946922302246 Min\n"
     ]
    },
    {
     "name": "stderr",
     "output_type": "stream",
     "text": [
      "INFO:fbprophet:Disabling daily seasonality. Run prophet with daily_seasonality=True to override this.\n"
     ]
    },
    {
     "name": "stdout",
     "output_type": "stream",
     "text": [
      "El producto demoró 2.1068084239959717 Centro Norte Coquimbo\n",
      "tiempo que lleva corriendo 1.3910770694414774 Min\n"
     ]
    },
    {
     "name": "stderr",
     "output_type": "stream",
     "text": [
      "INFO:fbprophet:Disabling daily seasonality. Run prophet with daily_seasonality=True to override this.\n"
     ]
    },
    {
     "name": "stdout",
     "output_type": "stream",
     "text": [
      "El producto demoró 1.8746092319488525 Centro Norte Coquimbo\n",
      "tiempo que lleva corriendo 1.4223455707232158 Min\n"
     ]
    },
    {
     "name": "stderr",
     "output_type": "stream",
     "text": [
      "INFO:fbprophet:Disabling daily seasonality. Run prophet with daily_seasonality=True to override this.\n"
     ]
    },
    {
     "name": "stdout",
     "output_type": "stream",
     "text": [
      "El producto demoró 1.7274818420410156 Centro Norte Coquimbo\n",
      "tiempo que lleva corriendo 1.4511619687080384 Min\n"
     ]
    },
    {
     "name": "stderr",
     "output_type": "stream",
     "text": [
      "INFO:fbprophet:Disabling daily seasonality. Run prophet with daily_seasonality=True to override this.\n"
     ]
    },
    {
     "name": "stdout",
     "output_type": "stream",
     "text": [
      "El producto demoró 1.6804420948028564 Centro Norte Coquimbo\n",
      "tiempo que lleva corriendo 1.4792026956876119 Min\n"
     ]
    },
    {
     "name": "stderr",
     "output_type": "stream",
     "text": [
      "INFO:fbprophet:Disabling daily seasonality. Run prophet with daily_seasonality=True to override this.\n"
     ]
    },
    {
     "name": "stdout",
     "output_type": "stream",
     "text": [
      "El producto demoró 1.7279834747314453 Centro Norte Coquimbo\n",
      "tiempo que lleva corriendo 1.5080190896987915 Min\n"
     ]
    },
    {
     "name": "stderr",
     "output_type": "stream",
     "text": [
      "INFO:fbprophet:Disabling daily seasonality. Run prophet with daily_seasonality=True to override this.\n"
     ]
    },
    {
     "name": "stdout",
     "output_type": "stream",
     "text": [
      "El producto demoró 1.6814429759979248 Centro Norte Coquimbo\n",
      "tiempo que lleva corriendo 1.536059824625651 Min\n",
      "Hijuelas\n"
     ]
    },
    {
     "name": "stderr",
     "output_type": "stream",
     "text": [
      "INFO:fbprophet:Disabling daily seasonality. Run prophet with daily_seasonality=True to override this.\n"
     ]
    },
    {
     "name": "stdout",
     "output_type": "stream",
     "text": [
      "El producto demoró 1.7204766273498535 Centro Norte Hijuelas\n",
      "tiempo que lleva corriendo 1.5650847236315408 Min\n"
     ]
    },
    {
     "name": "stderr",
     "output_type": "stream",
     "text": [
      "INFO:fbprophet:Disabling daily seasonality. Run prophet with daily_seasonality=True to override this.\n"
     ]
    },
    {
     "name": "stdout",
     "output_type": "stream",
     "text": [
      "El producto demoró 1.8721065521240234 Centro Norte Hijuelas\n",
      "tiempo que lleva corriendo 1.5963031848271687 Min\n"
     ]
    },
    {
     "name": "stderr",
     "output_type": "stream",
     "text": [
      "INFO:fbprophet:Disabling daily seasonality. Run prophet with daily_seasonality=True to override this.\n"
     ]
    },
    {
     "name": "stdout",
     "output_type": "stream",
     "text": [
      "El producto demoró 2.405064344406128 Centro Norte Hijuelas\n",
      "tiempo que lleva corriendo 1.6363959352175395 Min\n"
     ]
    },
    {
     "name": "stderr",
     "output_type": "stream",
     "text": [
      "INFO:fbprophet:Disabling daily seasonality. Run prophet with daily_seasonality=True to override this.\n"
     ]
    },
    {
     "name": "stdout",
     "output_type": "stream",
     "text": [
      "El producto demoró 1.664928913116455 Centro Norte Hijuelas\n",
      "tiempo que lleva corriendo 1.6641614198684693 Min\n"
     ]
    },
    {
     "name": "stderr",
     "output_type": "stream",
     "text": [
      "INFO:fbprophet:Disabling daily seasonality. Run prophet with daily_seasonality=True to override this.\n"
     ]
    },
    {
     "name": "stdout",
     "output_type": "stream",
     "text": [
      "El producto demoró 1.7815289497375488 Centro Norte Hijuelas\n",
      "tiempo que lleva corriendo 1.6938702464103699 Min\n"
     ]
    },
    {
     "name": "stderr",
     "output_type": "stream",
     "text": [
      "INFO:fbprophet:Disabling daily seasonality. Run prophet with daily_seasonality=True to override this.\n"
     ]
    },
    {
     "name": "stdout",
     "output_type": "stream",
     "text": [
      "El producto demoró 1.7885351181030273 Centro Norte Hijuelas\n",
      "tiempo que lleva corriendo 1.723704183101654 Min\n"
     ]
    },
    {
     "name": "stderr",
     "output_type": "stream",
     "text": [
      "INFO:fbprophet:Disabling daily seasonality. Run prophet with daily_seasonality=True to override this.\n"
     ]
    },
    {
     "name": "stdout",
     "output_type": "stream",
     "text": [
      "El producto demoró 1.550330400466919 Centro Norte Hijuelas\n",
      "tiempo que lleva corriendo 1.7495597044626872 Min\n"
     ]
    },
    {
     "name": "stderr",
     "output_type": "stream",
     "text": [
      "INFO:fbprophet:Disabling daily seasonality. Run prophet with daily_seasonality=True to override this.\n"
     ]
    },
    {
     "name": "stdout",
     "output_type": "stream",
     "text": [
      "El producto demoró 1.7450001239776611 Centro Norte Hijuelas\n",
      "tiempo que lleva corriendo 1.7786596775054933 Min\n"
     ]
    },
    {
     "name": "stderr",
     "output_type": "stream",
     "text": [
      "INFO:fbprophet:Disabling daily seasonality. Run prophet with daily_seasonality=True to override this.\n"
     ]
    },
    {
     "name": "stdout",
     "output_type": "stream",
     "text": [
      "El producto demoró 1.9571785926818848 Centro Norte Hijuelas\n",
      "tiempo que lleva corriendo 1.811296010017395 Min\n"
     ]
    },
    {
     "name": "stderr",
     "output_type": "stream",
     "text": [
      "INFO:fbprophet:Disabling daily seasonality. Run prophet with daily_seasonality=True to override this.\n"
     ]
    },
    {
     "name": "stdout",
     "output_type": "stream",
     "text": [
      "El producto demoró 1.667931318283081 Centro Norte Hijuelas\n",
      "tiempo que lleva corriendo 1.8391198913256328 Min\n"
     ]
    },
    {
     "name": "stderr",
     "output_type": "stream",
     "text": [
      "INFO:fbprophet:Disabling daily seasonality. Run prophet with daily_seasonality=True to override this.\n"
     ]
    },
    {
     "name": "stdout",
     "output_type": "stream",
     "text": [
      "El producto demoró 1.5643422603607178 Centro Norte Hijuelas\n",
      "tiempo que lleva corriendo 1.8652089397112528 Min\n"
     ]
    },
    {
     "name": "stderr",
     "output_type": "stream",
     "text": [
      "INFO:fbprophet:Disabling daily seasonality. Run prophet with daily_seasonality=True to override this.\n"
     ]
    },
    {
     "name": "stdout",
     "output_type": "stream",
     "text": [
      "El producto demoró 1.893625020980835 Centro Norte Hijuelas\n",
      "tiempo que lleva corriendo 1.8967943827311198 Min\n"
     ]
    },
    {
     "name": "stderr",
     "output_type": "stream",
     "text": [
      "INFO:fbprophet:Disabling daily seasonality. Run prophet with daily_seasonality=True to override this.\n"
     ]
    },
    {
     "name": "stdout",
     "output_type": "stream",
     "text": [
      "El producto demoró 1.7810282707214355 Centro Norte Hijuelas\n",
      "tiempo que lleva corriendo 1.9264948646227518 Min\n",
      "San Antonio\n"
     ]
    },
    {
     "name": "stderr",
     "output_type": "stream",
     "text": [
      "INFO:fbprophet:Disabling daily seasonality. Run prophet with daily_seasonality=True to override this.\n"
     ]
    },
    {
     "name": "stdout",
     "output_type": "stream",
     "text": [
      "El producto demoró 1.8435823917388916 Centro Norte San Antonio\n",
      "tiempo que lleva corriendo 1.9575632015864055 Min\n"
     ]
    },
    {
     "name": "stderr",
     "output_type": "stream",
     "text": [
      "INFO:fbprophet:Disabling daily seasonality. Run prophet with daily_seasonality=True to override this.\n"
     ]
    },
    {
     "name": "stdout",
     "output_type": "stream",
     "text": [
      "El producto demoró 1.699458122253418 Centro Norte San Antonio\n",
      "tiempo que lleva corriendo 1.985895844300588 Min\n"
     ]
    },
    {
     "name": "stderr",
     "output_type": "stream",
     "text": [
      "INFO:fbprophet:Disabling daily seasonality. Run prophet with daily_seasonality=True to override this.\n"
     ]
    },
    {
     "name": "stdout",
     "output_type": "stream",
     "text": [
      "El producto demoró 1.8030476570129395 Centro Norte San Antonio\n",
      "tiempo que lleva corriendo 2.0159716486930845 Min\n"
     ]
    },
    {
     "name": "stderr",
     "output_type": "stream",
     "text": [
      "INFO:fbprophet:Disabling daily seasonality. Run prophet with daily_seasonality=True to override this.\n"
     ]
    },
    {
     "name": "stdout",
     "output_type": "stream",
     "text": [
      "El producto demoró 1.652918815612793 Centro Norte San Antonio\n",
      "tiempo que lleva corriendo 2.0435369769732157 Min\n"
     ]
    },
    {
     "name": "stderr",
     "output_type": "stream",
     "text": [
      "INFO:fbprophet:Disabling daily seasonality. Run prophet with daily_seasonality=True to override this.\n"
     ]
    },
    {
     "name": "stdout",
     "output_type": "stream",
     "text": [
      "El producto demoró 2.065772771835327 Centro Norte San Antonio\n",
      "tiempo que lleva corriendo 2.077991549173991 Min\n"
     ]
    },
    {
     "name": "stderr",
     "output_type": "stream",
     "text": [
      "INFO:fbprophet:Disabling daily seasonality. Run prophet with daily_seasonality=True to override this.\n"
     ]
    },
    {
     "name": "stdout",
     "output_type": "stream",
     "text": [
      "El producto demoró 1.8676023483276367 Centro Norte San Antonio\n",
      "tiempo que lleva corriendo 2.10913493235906 Min\n"
     ]
    },
    {
     "name": "stderr",
     "output_type": "stream",
     "text": [
      "INFO:fbprophet:Disabling daily seasonality. Run prophet with daily_seasonality=True to override this.\n"
     ]
    },
    {
     "name": "stdout",
     "output_type": "stream",
     "text": [
      "El producto demoró 1.8035480976104736 Centro Norte San Antonio\n",
      "tiempo que lleva corriendo 2.1392107407251992 Min\n"
     ]
    },
    {
     "name": "stderr",
     "output_type": "stream",
     "text": [
      "INFO:fbprophet:Disabling daily seasonality. Run prophet with daily_seasonality=True to override this.\n"
     ]
    },
    {
     "name": "stdout",
     "output_type": "stream",
     "text": [
      "El producto demoró 1.790536642074585 Centro Norte San Antonio\n",
      "tiempo que lleva corriendo 2.1690780321756997 Min\n"
     ]
    },
    {
     "name": "stderr",
     "output_type": "stream",
     "text": [
      "INFO:fbprophet:Disabling daily seasonality. Run prophet with daily_seasonality=True to override this.\n"
     ]
    },
    {
     "name": "stdout",
     "output_type": "stream",
     "text": [
      "El producto demoró 1.6774401664733887 Centro Norte San Antonio\n",
      "tiempo que lleva corriendo 2.1970437089602153 Min\n"
     ]
    },
    {
     "name": "stderr",
     "output_type": "stream",
     "text": [
      "INFO:fbprophet:Disabling daily seasonality. Run prophet with daily_seasonality=True to override this.\n"
     ]
    },
    {
     "name": "stdout",
     "output_type": "stream",
     "text": [
      "El producto demoró 1.8801133632659912 Centro Norte San Antonio\n",
      "tiempo que lleva corriendo 2.228395613034566 Min\n"
     ]
    },
    {
     "name": "stderr",
     "output_type": "stream",
     "text": [
      "INFO:fbprophet:Disabling daily seasonality. Run prophet with daily_seasonality=True to override this.\n"
     ]
    },
    {
     "name": "stdout",
     "output_type": "stream",
     "text": [
      "El producto demoró 1.624894618988037 Centro Norte San Antonio\n",
      "tiempo que lleva corriendo 2.255493867397308 Min\n"
     ]
    },
    {
     "name": "stderr",
     "output_type": "stream",
     "text": [
      "INFO:fbprophet:Disabling daily seasonality. Run prophet with daily_seasonality=True to override this.\n"
     ]
    },
    {
     "name": "stdout",
     "output_type": "stream",
     "text": [
      "El producto demoró 1.675938367843628 Centro Norte San Antonio\n",
      "tiempo que lleva corriendo 2.283459528287252 Min\n"
     ]
    },
    {
     "name": "stderr",
     "output_type": "stream",
     "text": [
      "INFO:fbprophet:Disabling daily seasonality. Run prophet with daily_seasonality=True to override this.\n"
     ]
    },
    {
     "name": "stdout",
     "output_type": "stream",
     "text": [
      "El producto demoró 1.644911527633667 Centro Norte San Antonio\n",
      "tiempo que lleva corriendo 2.310899750391642 Min\n",
      "San Felipe\n"
     ]
    },
    {
     "name": "stderr",
     "output_type": "stream",
     "text": [
      "INFO:fbprophet:Disabling daily seasonality. Run prophet with daily_seasonality=True to override this.\n"
     ]
    },
    {
     "name": "stdout",
     "output_type": "stream",
     "text": [
      "El producto demoró 1.7259812355041504 Centro Norte San Felipe\n",
      "tiempo que lleva corriendo 2.340008056163788 Min\n"
     ]
    },
    {
     "name": "stderr",
     "output_type": "stream",
     "text": [
      "INFO:fbprophet:Disabling daily seasonality. Run prophet with daily_seasonality=True to override this.\n"
     ]
    },
    {
     "name": "stdout",
     "output_type": "stream",
     "text": [
      "El producto demoró 1.4827723503112793 Centro Norte San Felipe\n",
      "tiempo que lleva corriendo 2.3647459506988526 Min\n"
     ]
    },
    {
     "name": "stderr",
     "output_type": "stream",
     "text": [
      "INFO:fbprophet:Disabling daily seasonality. Run prophet with daily_seasonality=True to override this.\n"
     ]
    },
    {
     "name": "stdout",
     "output_type": "stream",
     "text": [
      "El producto demoró 1.7129700183868408 Centro Norte San Felipe\n",
      "tiempo que lleva corriendo 2.393312128384908 Min\n"
     ]
    },
    {
     "name": "stderr",
     "output_type": "stream",
     "text": [
      "INFO:fbprophet:Disabling daily seasonality. Run prophet with daily_seasonality=True to override this.\n"
     ]
    },
    {
     "name": "stdout",
     "output_type": "stream",
     "text": [
      "El producto demoró 1.6003737449645996 Centro Norte San Felipe\n",
      "tiempo que lleva corriendo 2.4200100382169087 Min\n"
     ]
    },
    {
     "name": "stderr",
     "output_type": "stream",
     "text": [
      "INFO:fbprophet:Disabling daily seasonality. Run prophet with daily_seasonality=True to override this.\n"
     ]
    },
    {
     "name": "stdout",
     "output_type": "stream",
     "text": [
      "El producto demoró 1.747499704360962 Centro Norte San Felipe\n",
      "tiempo que lleva corriendo 2.4491767326990765 Min\n"
     ]
    },
    {
     "name": "stderr",
     "output_type": "stream",
     "text": [
      "INFO:fbprophet:Disabling daily seasonality. Run prophet with daily_seasonality=True to override this.\n"
     ]
    },
    {
     "name": "stdout",
     "output_type": "stream",
     "text": [
      "El producto demoró 1.5378193855285645 Centro Norte San Felipe\n",
      "tiempo que lleva corriendo 2.4748320817947387 Min\n"
     ]
    },
    {
     "name": "stderr",
     "output_type": "stream",
     "text": [
      "INFO:fbprophet:Disabling daily seasonality. Run prophet with daily_seasonality=True to override this.\n"
     ]
    },
    {
     "name": "stdout",
     "output_type": "stream",
     "text": [
      "El producto demoró 1.7660157680511475 Centro Norte San Felipe\n",
      "tiempo que lleva corriendo 2.50427401860555 Min\n"
     ]
    },
    {
     "name": "stderr",
     "output_type": "stream",
     "text": [
      "INFO:fbprophet:Disabling daily seasonality. Run prophet with daily_seasonality=True to override this.\n"
     ]
    },
    {
     "name": "stdout",
     "output_type": "stream",
     "text": [
      "El producto demoró 1.5643422603607178 Centro Norte San Felipe\n",
      "tiempo que lleva corriendo 2.5303630749384562 Min\n"
     ]
    },
    {
     "name": "stderr",
     "output_type": "stream",
     "text": [
      "INFO:fbprophet:Disabling daily seasonality. Run prophet with daily_seasonality=True to override this.\n"
     ]
    },
    {
     "name": "stdout",
     "output_type": "stream",
     "text": [
      "El producto demoró 1.7239794731140137 Centro Norte San Felipe\n",
      "tiempo que lleva corriendo 2.5591210881868998 Min\n"
     ]
    },
    {
     "name": "stderr",
     "output_type": "stream",
     "text": [
      "INFO:fbprophet:Disabling daily seasonality. Run prophet with daily_seasonality=True to override this.\n"
     ]
    },
    {
     "name": "stdout",
     "output_type": "stream",
     "text": [
      "El producto demoró 1.7224783897399902 Centro Norte San Felipe\n",
      "tiempo que lleva corriendo 2.5878540754318236 Min\n"
     ]
    },
    {
     "name": "stderr",
     "output_type": "stream",
     "text": [
      "INFO:fbprophet:Disabling daily seasonality. Run prophet with daily_seasonality=True to override this.\n"
     ]
    },
    {
     "name": "stdout",
     "output_type": "stream",
     "text": [
      "El producto demoró 2.5011465549468994 Centro Norte San Felipe\n",
      "tiempo que lleva corriendo 2.629548195997874 Min\n"
     ]
    },
    {
     "name": "stderr",
     "output_type": "stream",
     "text": [
      "INFO:fbprophet:Disabling daily seasonality. Run prophet with daily_seasonality=True to override this.\n"
     ]
    },
    {
     "name": "stdout",
     "output_type": "stream",
     "text": [
      "El producto demoró 1.6178879737854004 Centro Norte San Felipe\n",
      "tiempo que lleva corriendo 2.6565213362375895 Min\n"
     ]
    },
    {
     "name": "stderr",
     "output_type": "stream",
     "text": [
      "INFO:fbprophet:Disabling daily seasonality. Run prophet with daily_seasonality=True to override this.\n"
     ]
    },
    {
     "name": "stdout",
     "output_type": "stream",
     "text": [
      "El producto demoró 1.561840295791626 Centro Norte San Felipe\n",
      "tiempo que lleva corriendo 2.682585366566976 Min\n",
      "Viña del Mar\n"
     ]
    },
    {
     "name": "stderr",
     "output_type": "stream",
     "text": [
      "INFO:fbprophet:Disabling daily seasonality. Run prophet with daily_seasonality=True to override this.\n"
     ]
    },
    {
     "name": "stdout",
     "output_type": "stream",
     "text": [
      "El producto demoró 1.7510027885437012 Centro Norte Viña del Mar\n",
      "tiempo que lleva corriendo 2.712094020843506 Min\n"
     ]
    },
    {
     "name": "stderr",
     "output_type": "stream",
     "text": [
      "INFO:fbprophet:Disabling daily seasonality. Run prophet with daily_seasonality=True to override this.\n"
     ]
    },
    {
     "name": "stdout",
     "output_type": "stream",
     "text": [
      "El producto demoró 1.6834444999694824 Centro Norte Viña del Mar\n",
      "tiempo que lleva corriendo 2.740176463127136 Min\n"
     ]
    },
    {
     "name": "stderr",
     "output_type": "stream",
     "text": [
      "INFO:fbprophet:Disabling daily seasonality. Run prophet with daily_seasonality=True to override this.\n"
     ]
    },
    {
     "name": "stdout",
     "output_type": "stream",
     "text": [
      "El producto demoró 1.7149717807769775 Centro Norte Viña del Mar\n",
      "tiempo que lleva corriendo 2.7687843402226764 Min\n"
     ]
    },
    {
     "name": "stderr",
     "output_type": "stream",
     "text": [
      "INFO:fbprophet:Disabling daily seasonality. Run prophet with daily_seasonality=True to override this.\n"
     ]
    },
    {
     "name": "stdout",
     "output_type": "stream",
     "text": [
      "El producto demoró 1.730985403060913 Centro Norte Viña del Mar\n",
      "tiempo que lleva corriendo 2.797659114996592 Min\n"
     ]
    },
    {
     "name": "stderr",
     "output_type": "stream",
     "text": [
      "INFO:fbprophet:Disabling daily seasonality. Run prophet with daily_seasonality=True to override this.\n"
     ]
    },
    {
     "name": "stdout",
     "output_type": "stream",
     "text": [
      "El producto demoró 1.6549205780029297 Centro Norte Viña del Mar\n",
      "tiempo que lleva corriendo 2.8252578059832256 Min\n"
     ]
    },
    {
     "name": "stderr",
     "output_type": "stream",
     "text": [
      "INFO:fbprophet:Disabling daily seasonality. Run prophet with daily_seasonality=True to override this.\n"
     ]
    },
    {
     "name": "stdout",
     "output_type": "stream",
     "text": [
      "El producto demoró 1.701960802078247 Centro Norte Viña del Mar\n",
      "tiempo que lleva corriendo 2.853648829460144 Min\n"
     ]
    },
    {
     "name": "stderr",
     "output_type": "stream",
     "text": [
      "INFO:fbprophet:Disabling daily seasonality. Run prophet with daily_seasonality=True to override this.\n"
     ]
    },
    {
     "name": "stdout",
     "output_type": "stream",
     "text": [
      "El producto demoró 1.6023752689361572 Centro Norte Viña del Mar\n",
      "tiempo que lleva corriendo 2.8803717652956644 Min\n"
     ]
    },
    {
     "name": "stderr",
     "output_type": "stream",
     "text": [
      "INFO:fbprophet:Disabling daily seasonality. Run prophet with daily_seasonality=True to override this.\n"
     ]
    },
    {
     "name": "stdout",
     "output_type": "stream",
     "text": [
      "El producto demoró 1.707965612411499 Centro Norte Viña del Mar\n",
      "tiempo que lleva corriendo 2.9088545362154643 Min\n"
     ]
    },
    {
     "name": "stderr",
     "output_type": "stream",
     "text": [
      "INFO:fbprophet:Disabling daily seasonality. Run prophet with daily_seasonality=True to override this.\n"
     ]
    },
    {
     "name": "stdout",
     "output_type": "stream",
     "text": [
      "El producto demoró 1.9256527423858643 Centro Norte Viña del Mar\n",
      "tiempo que lleva corriendo 2.9409654259681703 Min\n"
     ]
    },
    {
     "name": "stderr",
     "output_type": "stream",
     "text": [
      "INFO:fbprophet:Disabling daily seasonality. Run prophet with daily_seasonality=True to override this.\n"
     ]
    },
    {
     "name": "stdout",
     "output_type": "stream",
     "text": [
      "El producto demoró 1.6974570751190186 Centro Norte Viña del Mar\n",
      "tiempo que lleva corriendo 2.969273058573405 Min\n"
     ]
    },
    {
     "name": "stderr",
     "output_type": "stream",
     "text": [
      "INFO:fbprophet:Disabling daily seasonality. Run prophet with daily_seasonality=True to override this.\n"
     ]
    },
    {
     "name": "stdout",
     "output_type": "stream",
     "text": [
      "El producto demoró 1.5578372478485107 Centro Norte Viña del Mar\n",
      "tiempo que lleva corriendo 2.9952536940574648 Min\n"
     ]
    },
    {
     "name": "stderr",
     "output_type": "stream",
     "text": [
      "INFO:fbprophet:Disabling daily seasonality. Run prophet with daily_seasonality=True to override this.\n"
     ]
    },
    {
     "name": "stdout",
     "output_type": "stream",
     "text": [
      "El producto demoró 1.596869707107544 Centro Norte Viña del Mar\n",
      "tiempo que lleva corriendo 3.0218765258789064 Min\n",
      "El producto demoró 1.6484146118164062 Centro Norte Viña del Mar\n",
      "tiempo que lleva corriendo 3.049366788069407 Min\n",
      "Centro Sur\n",
      "Chillan\n"
     ]
    },
    {
     "name": "stderr",
     "output_type": "stream",
     "text": [
      "INFO:fbprophet:Disabling daily seasonality. Run prophet with daily_seasonality=True to override this.\n",
      "INFO:fbprophet:Disabling daily seasonality. Run prophet with daily_seasonality=True to override this.\n"
     ]
    },
    {
     "name": "stdout",
     "output_type": "stream",
     "text": [
      "El producto demoró 1.893625259399414 Centro Sur Chillan\n",
      "tiempo que lleva corriendo 3.084046546618144 Min\n"
     ]
    },
    {
     "name": "stderr",
     "output_type": "stream",
     "text": [
      "INFO:fbprophet:Disabling daily seasonality. Run prophet with daily_seasonality=True to override this.\n"
     ]
    },
    {
     "name": "stdout",
     "output_type": "stream",
     "text": [
      "El producto demoró 1.7129700183868408 Centro Sur Chillan\n",
      "tiempo que lleva corriendo 3.1126210689544678 Min\n"
     ]
    },
    {
     "name": "stderr",
     "output_type": "stream",
     "text": [
      "INFO:fbprophet:Disabling daily seasonality. Run prophet with daily_seasonality=True to override this.\n"
     ]
    },
    {
     "name": "stdout",
     "output_type": "stream",
     "text": [
      "El producto demoró 1.6093811988830566 Centro Sur Chillan\n",
      "tiempo que lleva corriendo 3.1394524256388348 Min\n"
     ]
    },
    {
     "name": "stderr",
     "output_type": "stream",
     "text": [
      "INFO:fbprophet:Disabling daily seasonality. Run prophet with daily_seasonality=True to override this.\n"
     ]
    },
    {
     "name": "stdout",
     "output_type": "stream",
     "text": [
      "El producto demoró 1.5983717441558838 Centro Sur Chillan\n",
      "tiempo que lleva corriendo 3.166116980711619 Min\n"
     ]
    },
    {
     "name": "stderr",
     "output_type": "stream",
     "text": [
      "INFO:fbprophet:Disabling daily seasonality. Run prophet with daily_seasonality=True to override this.\n"
     ]
    },
    {
     "name": "stdout",
     "output_type": "stream",
     "text": [
      "El producto demoró 1.856092929840088 Centro Sur Chillan\n",
      "tiempo que lleva corriendo 3.1970768769582114 Min\n"
     ]
    },
    {
     "name": "stderr",
     "output_type": "stream",
     "text": [
      "INFO:fbprophet:Disabling daily seasonality. Run prophet with daily_seasonality=True to override this.\n"
     ]
    },
    {
     "name": "stdout",
     "output_type": "stream",
     "text": [
      "El producto demoró 1.7725212574005127 Centro Sur Chillan\n",
      "tiempo que lleva corriendo 3.2266439119974772 Min\n"
     ]
    },
    {
     "name": "stderr",
     "output_type": "stream",
     "text": [
      "INFO:fbprophet:Disabling daily seasonality. Run prophet with daily_seasonality=True to override this.\n"
     ]
    },
    {
     "name": "stdout",
     "output_type": "stream",
     "text": [
      "El producto demoró 1.8435826301574707 Centro Sur Chillan\n",
      "tiempo que lleva corriendo 3.2573869665463766 Min\n"
     ]
    },
    {
     "name": "stderr",
     "output_type": "stream",
     "text": [
      "INFO:fbprophet:Disabling daily seasonality. Run prophet with daily_seasonality=True to override this.\n"
     ]
    },
    {
     "name": "stdout",
     "output_type": "stream",
     "text": [
      "El producto demoró 1.90915846824646 Centro Sur Chillan\n",
      "tiempo que lleva corriendo 3.289222951730092 Min\n"
     ]
    },
    {
     "name": "stderr",
     "output_type": "stream",
     "text": [
      "INFO:fbprophet:Disabling daily seasonality. Run prophet with daily_seasonality=True to override this.\n"
     ]
    },
    {
     "name": "stdout",
     "output_type": "stream",
     "text": [
      "El producto demoró 1.8445827960968018 Centro Sur Chillan\n",
      "tiempo que lleva corriendo 3.3199826836586 Min\n"
     ]
    },
    {
     "name": "stderr",
     "output_type": "stream",
     "text": [
      "INFO:fbprophet:Disabling daily seasonality. Run prophet with daily_seasonality=True to override this.\n"
     ]
    },
    {
     "name": "stdout",
     "output_type": "stream",
     "text": [
      "El producto demoró 1.745497703552246 Centro Sur Chillan\n",
      "tiempo que lleva corriendo 3.3490993420283 Min\n"
     ]
    },
    {
     "name": "stderr",
     "output_type": "stream",
     "text": [
      "INFO:fbprophet:Disabling daily seasonality. Run prophet with daily_seasonality=True to override this.\n"
     ]
    },
    {
     "name": "stdout",
     "output_type": "stream",
     "text": [
      "El producto demoró 1.6834442615509033 Centro Sur Chillan\n",
      "tiempo que lleva corriendo 3.37717342376709 Min\n"
     ]
    },
    {
     "name": "stderr",
     "output_type": "stream",
     "text": [
      "INFO:fbprophet:Disabling daily seasonality. Run prophet with daily_seasonality=True to override this.\n"
     ]
    },
    {
     "name": "stdout",
     "output_type": "stream",
     "text": [
      "El producto demoró 1.604377269744873 Centro Sur Chillan\n",
      "tiempo que lleva corriendo 3.4039297223091127 Min\n"
     ]
    },
    {
     "name": "stderr",
     "output_type": "stream",
     "text": [
      "INFO:fbprophet:Disabling daily seasonality. Run prophet with daily_seasonality=True to override this.\n"
     ]
    },
    {
     "name": "stdout",
     "output_type": "stream",
     "text": [
      "El producto demoró 1.7284834384918213 Centro Sur Chillan\n",
      "tiempo que lleva corriendo 3.4327461163202924 Min\n",
      "Concepcion\n"
     ]
    },
    {
     "name": "stderr",
     "output_type": "stream",
     "text": [
      "INFO:fbprophet:Disabling daily seasonality. Run prophet with daily_seasonality=True to override this.\n"
     ]
    },
    {
     "name": "stdout",
     "output_type": "stream",
     "text": [
      "El producto demoró 1.770019292831421 Centro Sur Concepcion\n",
      "tiempo que lleva corriendo 3.4626717964808145 Min\n"
     ]
    },
    {
     "name": "stderr",
     "output_type": "stream",
     "text": [
      "INFO:fbprophet:Disabling daily seasonality. Run prophet with daily_seasonality=True to override this.\n"
     ]
    },
    {
     "name": "stdout",
     "output_type": "stream",
     "text": [
      "El producto demoró 1.6889498233795166 Centro Sur Concepcion\n",
      "tiempo que lleva corriendo 3.4908376336097717 Min\n"
     ]
    },
    {
     "name": "stderr",
     "output_type": "stream",
     "text": [
      "INFO:fbprophet:Disabling daily seasonality. Run prophet with daily_seasonality=True to override this.\n"
     ]
    },
    {
     "name": "stdout",
     "output_type": "stream",
     "text": [
      "El producto demoró 1.9321579933166504 Centro Sur Concepcion\n",
      "tiempo que lleva corriendo 3.5230652928352355 Min\n"
     ]
    },
    {
     "name": "stderr",
     "output_type": "stream",
     "text": [
      "INFO:fbprophet:Disabling daily seasonality. Run prophet with daily_seasonality=True to override this.\n"
     ]
    },
    {
     "name": "stdout",
     "output_type": "stream",
     "text": [
      "El producto demoró 1.6784405708312988 Centro Sur Concepcion\n",
      "tiempo que lleva corriendo 3.551055971781413 Min\n"
     ]
    },
    {
     "name": "stderr",
     "output_type": "stream",
     "text": [
      "INFO:fbprophet:Disabling daily seasonality. Run prophet with daily_seasonality=True to override this.\n"
     ]
    },
    {
     "name": "stdout",
     "output_type": "stream",
     "text": [
      "El producto demoró 1.772521734237671 Centro Sur Concepcion\n",
      "tiempo que lleva corriendo 3.580614682038625 Min\n"
     ]
    },
    {
     "name": "stderr",
     "output_type": "stream",
     "text": [
      "INFO:fbprophet:Disabling daily seasonality. Run prophet with daily_seasonality=True to override this.\n"
     ]
    },
    {
     "name": "stdout",
     "output_type": "stream",
     "text": [
      "El producto demoró 1.5968708992004395 Centro Sur Concepcion\n",
      "tiempo que lleva corriendo 3.6072542031606036 Min\n"
     ]
    },
    {
     "name": "stderr",
     "output_type": "stream",
     "text": [
      "INFO:fbprophet:Disabling daily seasonality. Run prophet with daily_seasonality=True to override this.\n"
     ]
    },
    {
     "name": "stdout",
     "output_type": "stream",
     "text": [
      "El producto demoró 1.6969561576843262 Centro Sur Concepcion\n",
      "tiempo que lleva corriendo 3.6355618317921956 Min\n"
     ]
    },
    {
     "name": "stderr",
     "output_type": "stream",
     "text": [
      "INFO:fbprophet:Disabling daily seasonality. Run prophet with daily_seasonality=True to override this.\n"
     ]
    },
    {
     "name": "stdout",
     "output_type": "stream",
     "text": [
      "El producto demoró 1.7585089206695557 Centro Sur Concepcion\n",
      "tiempo que lleva corriendo 3.6648953318595887 Min\n"
     ]
    },
    {
     "name": "stderr",
     "output_type": "stream",
     "text": [
      "INFO:fbprophet:Disabling daily seasonality. Run prophet with daily_seasonality=True to override this.\n"
     ]
    },
    {
     "name": "stdout",
     "output_type": "stream",
     "text": [
      "El producto demoró 1.9476726055145264 Centro Sur Concepcion\n",
      "tiempo que lleva corriendo 3.697364858786265 Min\n"
     ]
    },
    {
     "name": "stderr",
     "output_type": "stream",
     "text": [
      "INFO:fbprophet:Disabling daily seasonality. Run prophet with daily_seasonality=True to override this.\n"
     ]
    },
    {
     "name": "stdout",
     "output_type": "stream",
     "text": [
      "El producto demoró 1.8966281414031982 Centro Sur Concepcion\n",
      "tiempo que lleva corriendo 3.728992001215617 Min\n"
     ]
    },
    {
     "name": "stderr",
     "output_type": "stream",
     "text": [
      "INFO:fbprophet:Disabling daily seasonality. Run prophet with daily_seasonality=True to override this.\n"
     ]
    },
    {
     "name": "stdout",
     "output_type": "stream",
     "text": [
      "El producto demoró 1.6424100399017334 Centro Sur Concepcion\n",
      "tiempo que lleva corriendo 3.756382175286611 Min\n"
     ]
    },
    {
     "name": "stderr",
     "output_type": "stream",
     "text": [
      "INFO:fbprophet:Disabling daily seasonality. Run prophet with daily_seasonality=True to override this.\n"
     ]
    },
    {
     "name": "stdout",
     "output_type": "stream",
     "text": [
      "El producto demoró 1.7765252590179443 Centro Sur Concepcion\n",
      "tiempo que lleva corriendo 3.786007603009542 Min\n"
     ]
    },
    {
     "name": "stderr",
     "output_type": "stream",
     "text": [
      "INFO:fbprophet:Disabling daily seasonality. Run prophet with daily_seasonality=True to override this.\n"
     ]
    },
    {
     "name": "stdout",
     "output_type": "stream",
     "text": [
      "El producto demoró 1.788034200668335 Centro Sur Concepcion\n",
      "tiempo que lleva corriendo 3.815824850400289 Min\n",
      "Curico\n"
     ]
    },
    {
     "name": "stderr",
     "output_type": "stream",
     "text": [
      "INFO:fbprophet:Disabling daily seasonality. Run prophet with daily_seasonality=True to override this.\n"
     ]
    },
    {
     "name": "stdout",
     "output_type": "stream",
     "text": [
      "El producto demoró 1.6874477863311768 Centro Sur Curico\n",
      "tiempo que lleva corriendo 3.844374358654022 Min\n"
     ]
    },
    {
     "name": "stderr",
     "output_type": "stream",
     "text": [
      "INFO:fbprophet:Disabling daily seasonality. Run prophet with daily_seasonality=True to override this.\n"
     ]
    },
    {
     "name": "stdout",
     "output_type": "stream",
     "text": [
      "El producto demoró 1.6208913326263428 Centro Sur Curico\n",
      "tiempo que lleva corriendo 3.871405883630117 Min\n"
     ]
    },
    {
     "name": "stderr",
     "output_type": "stream",
     "text": [
      "INFO:fbprophet:Disabling daily seasonality. Run prophet with daily_seasonality=True to override this.\n"
     ]
    },
    {
     "name": "stdout",
     "output_type": "stream",
     "text": [
      "El producto demoró 1.9216489791870117 Centro Sur Curico\n",
      "tiempo que lleva corriendo 3.903450043996175 Min\n"
     ]
    },
    {
     "name": "stderr",
     "output_type": "stream",
     "text": [
      "INFO:fbprophet:Disabling daily seasonality. Run prophet with daily_seasonality=True to override this.\n"
     ]
    },
    {
     "name": "stdout",
     "output_type": "stream",
     "text": [
      "El producto demoró 1.761512279510498 Centro Sur Curico\n",
      "tiempo que lleva corriendo 3.9328335920969644 Min\n"
     ]
    },
    {
     "name": "stderr",
     "output_type": "stream",
     "text": [
      "INFO:fbprophet:Disabling daily seasonality. Run prophet with daily_seasonality=True to override this.\n"
     ]
    },
    {
     "name": "stdout",
     "output_type": "stream",
     "text": [
      "El producto demoró 1.71046781539917 Centro Sur Curico\n",
      "tiempo que lleva corriendo 3.961358070373535 Min\n"
     ]
    },
    {
     "name": "stderr",
     "output_type": "stream",
     "text": [
      "INFO:fbprophet:Disabling daily seasonality. Run prophet with daily_seasonality=True to override this.\n"
     ]
    },
    {
     "name": "stdout",
     "output_type": "stream",
     "text": [
      "El producto demoró 1.9611833095550537 Centro Sur Curico\n",
      "tiempo que lleva corriendo 3.9940611362457275 Min\n"
     ]
    },
    {
     "name": "stderr",
     "output_type": "stream",
     "text": [
      "INFO:fbprophet:Disabling daily seasonality. Run prophet with daily_seasonality=True to override this.\n"
     ]
    },
    {
     "name": "stdout",
     "output_type": "stream",
     "text": [
      "El producto demoró 2.148343801498413 Centro Sur Curico\n",
      "tiempo que lleva corriendo 4.0298918843269345 Min\n"
     ]
    },
    {
     "name": "stderr",
     "output_type": "stream",
     "text": [
      "INFO:fbprophet:Disabling daily seasonality. Run prophet with daily_seasonality=True to override this.\n"
     ]
    },
    {
     "name": "stdout",
     "output_type": "stream",
     "text": [
      "El producto demoró 1.6153862476348877 Centro Sur Curico\n",
      "tiempo que lleva corriendo 4.05684001048406 Min\n"
     ]
    },
    {
     "name": "stderr",
     "output_type": "stream",
     "text": [
      "INFO:fbprophet:Disabling daily seasonality. Run prophet with daily_seasonality=True to override this.\n"
     ]
    },
    {
     "name": "stdout",
     "output_type": "stream",
     "text": [
      "El producto demoró 2.7048208713531494 Centro Sur Curico\n",
      "tiempo que lleva corriendo 4.101953725020091 Min\n"
     ]
    },
    {
     "name": "stderr",
     "output_type": "stream",
     "text": [
      "INFO:fbprophet:Disabling daily seasonality. Run prophet with daily_seasonality=True to override this.\n"
     ]
    },
    {
     "name": "stdout",
     "output_type": "stream",
     "text": [
      "El producto demoró 1.748500108718872 Centro Sur Curico\n",
      "tiempo que lleva corriendo 4.131112094720205 Min\n"
     ]
    },
    {
     "name": "stderr",
     "output_type": "stream",
     "text": [
      "INFO:fbprophet:Disabling daily seasonality. Run prophet with daily_seasonality=True to override this.\n"
     ]
    },
    {
     "name": "stdout",
     "output_type": "stream",
     "text": [
      "El producto demoró 1.607879638671875 Centro Sur Curico\n",
      "tiempo que lleva corriendo 4.157935098807017 Min\n"
     ]
    },
    {
     "name": "stderr",
     "output_type": "stream",
     "text": [
      "INFO:fbprophet:Disabling daily seasonality. Run prophet with daily_seasonality=True to override this.\n"
     ]
    },
    {
     "name": "stdout",
     "output_type": "stream",
     "text": [
      "El producto demoró 3.3348612785339355 Centro Sur Curico\n",
      "tiempo que lleva corriendo 4.213532809416453 Min\n"
     ]
    },
    {
     "name": "stderr",
     "output_type": "stream",
     "text": [
      "INFO:fbprophet:Disabling daily seasonality. Run prophet with daily_seasonality=True to override this.\n"
     ]
    },
    {
     "name": "stdout",
     "output_type": "stream",
     "text": [
      "El producto demoró 1.7715201377868652 Centro Sur Curico\n",
      "tiempo que lleva corriendo 4.243083163102468 Min\n",
      "Los Angeles\n"
     ]
    },
    {
     "name": "stderr",
     "output_type": "stream",
     "text": [
      "INFO:fbprophet:Disabling daily seasonality. Run prophet with daily_seasonality=True to override this.\n"
     ]
    },
    {
     "name": "stdout",
     "output_type": "stream",
     "text": [
      "El producto demoró 1.5713481903076172 Centro Sur Los Angeles\n",
      "tiempo que lleva corriendo 4.269672652085622 Min\n"
     ]
    },
    {
     "name": "stderr",
     "output_type": "stream",
     "text": [
      "INFO:fbprophet:Disabling daily seasonality. Run prophet with daily_seasonality=True to override this.\n"
     ]
    },
    {
     "name": "stdout",
     "output_type": "stream",
     "text": [
      "El producto demoró 1.7715201377868652 Centro Sur Los Angeles\n",
      "tiempo que lleva corriendo 4.299223017692566 Min\n"
     ]
    },
    {
     "name": "stderr",
     "output_type": "stream",
     "text": [
      "INFO:fbprophet:Disabling daily seasonality. Run prophet with daily_seasonality=True to override this.\n"
     ]
    },
    {
     "name": "stdout",
     "output_type": "stream",
     "text": [
      "El producto demoró 1.7314856052398682 Centro Sur Los Angeles\n",
      "tiempo que lleva corriendo 4.328089451789856 Min\n"
     ]
    },
    {
     "name": "stderr",
     "output_type": "stream",
     "text": [
      "INFO:fbprophet:Disabling daily seasonality. Run prophet with daily_seasonality=True to override this.\n"
     ]
    },
    {
     "name": "stdout",
     "output_type": "stream",
     "text": [
      "El producto demoró 1.670433759689331 Centro Sur Los Angeles\n",
      "tiempo que lleva corriendo 4.355946683883667 Min\n"
     ]
    },
    {
     "name": "stderr",
     "output_type": "stream",
     "text": [
      "INFO:fbprophet:Disabling daily seasonality. Run prophet with daily_seasonality=True to override this.\n"
     ]
    },
    {
     "name": "stdout",
     "output_type": "stream",
     "text": [
      "El producto demoró 1.6614258289337158 Centro Sur Los Angeles\n",
      "tiempo que lleva corriendo 4.383662132422129 Min\n"
     ]
    },
    {
     "name": "stderr",
     "output_type": "stream",
     "text": [
      "INFO:fbprophet:Disabling daily seasonality. Run prophet with daily_seasonality=True to override this.\n"
     ]
    },
    {
     "name": "stdout",
     "output_type": "stream",
     "text": [
      "El producto demoró 1.655921459197998 Centro Sur Los Angeles\n",
      "tiempo que lleva corriendo 4.411285845438639 Min\n"
     ]
    },
    {
     "name": "stderr",
     "output_type": "stream",
     "text": [
      "INFO:fbprophet:Disabling daily seasonality. Run prophet with daily_seasonality=True to override this.\n"
     ]
    },
    {
     "name": "stdout",
     "output_type": "stream",
     "text": [
      "El producto demoró 1.670433521270752 Centro Sur Los Angeles\n",
      "tiempo que lleva corriendo 4.43914307753245 Min\n"
     ]
    },
    {
     "name": "stderr",
     "output_type": "stream",
     "text": [
      "INFO:fbprophet:Disabling daily seasonality. Run prophet with daily_seasonality=True to override this.\n"
     ]
    },
    {
     "name": "stdout",
     "output_type": "stream",
     "text": [
      "El producto demoró 1.9837021827697754 Centro Sur Los Angeles\n",
      "tiempo que lleva corriendo 4.472229806582133 Min\n"
     ]
    },
    {
     "name": "stderr",
     "output_type": "stream",
     "text": [
      "INFO:fbprophet:Disabling daily seasonality. Run prophet with daily_seasonality=True to override this.\n"
     ]
    },
    {
     "name": "stdout",
     "output_type": "stream",
     "text": [
      "El producto demoró 1.6919519901275635 Centro Sur Los Angeles\n",
      "tiempo que lleva corriendo 4.500454028447469 Min\n"
     ]
    },
    {
     "name": "stderr",
     "output_type": "stream",
     "text": [
      "INFO:fbprophet:Disabling daily seasonality. Run prophet with daily_seasonality=True to override this.\n"
     ]
    },
    {
     "name": "stdout",
     "output_type": "stream",
     "text": [
      "El producto demoró 1.7635133266448975 Centro Sur Los Angeles\n",
      "tiempo que lleva corriendo 4.5298626065254215 Min\n"
     ]
    },
    {
     "name": "stderr",
     "output_type": "stream",
     "text": [
      "INFO:fbprophet:Disabling daily seasonality. Run prophet with daily_seasonality=True to override this.\n"
     ]
    },
    {
     "name": "stdout",
     "output_type": "stream",
     "text": [
      "El producto demoró 1.6344022750854492 Centro Sur Los Angeles\n",
      "tiempo que lleva corriendo 4.55711932182312 Min\n"
     ]
    },
    {
     "name": "stderr",
     "output_type": "stream",
     "text": [
      "INFO:fbprophet:Disabling daily seasonality. Run prophet with daily_seasonality=True to override this.\n"
     ]
    },
    {
     "name": "stdout",
     "output_type": "stream",
     "text": [
      "El producto demoró 2.193882942199707 Centro Sur Los Angeles\n",
      "tiempo que lleva corriendo 4.5937007188797 Min\n"
     ]
    },
    {
     "name": "stderr",
     "output_type": "stream",
     "text": [
      "INFO:fbprophet:Disabling daily seasonality. Run prophet with daily_seasonality=True to override this.\n"
     ]
    },
    {
     "name": "stdout",
     "output_type": "stream",
     "text": [
      "El producto demoró 1.7179744243621826 Centro Sur Los Angeles\n",
      "tiempo que lleva corriendo 4.622350303332011 Min\n",
      "Rancagua\n"
     ]
    },
    {
     "name": "stderr",
     "output_type": "stream",
     "text": [
      "INFO:fbprophet:Disabling daily seasonality. Run prophet with daily_seasonality=True to override this.\n"
     ]
    },
    {
     "name": "stdout",
     "output_type": "stream",
     "text": [
      "El producto demoró 1.930656909942627 Centro Sur Rancagua\n",
      "tiempo que lleva corriendo 4.654969954490662 Min\n"
     ]
    },
    {
     "name": "stderr",
     "output_type": "stream",
     "text": [
      "INFO:fbprophet:Disabling daily seasonality. Run prophet with daily_seasonality=True to override this.\n"
     ]
    },
    {
     "name": "stdout",
     "output_type": "stream",
     "text": [
      "El producto demoró 1.6314003467559814 Centro Sur Rancagua\n",
      "tiempo que lleva corriendo 4.682168300946554 Min\n"
     ]
    },
    {
     "name": "stderr",
     "output_type": "stream",
     "text": [
      "INFO:fbprophet:Disabling daily seasonality. Run prophet with daily_seasonality=True to override this.\n"
     ]
    },
    {
     "name": "stdout",
     "output_type": "stream",
     "text": [
      "El producto demoró 1.8390777111053467 Centro Sur Rancagua\n",
      "tiempo que lleva corriendo 4.7128279447555546 Min\n"
     ]
    },
    {
     "name": "stderr",
     "output_type": "stream",
     "text": [
      "INFO:fbprophet:Disabling daily seasonality. Run prophet with daily_seasonality=True to override this.\n"
     ]
    },
    {
     "name": "stdout",
     "output_type": "stream",
     "text": [
      "El producto demoró 1.6764390468597412 Centro Sur Rancagua\n",
      "tiempo que lleva corriendo 4.74076859553655 Min\n"
     ]
    },
    {
     "name": "stderr",
     "output_type": "stream",
     "text": [
      "INFO:fbprophet:Disabling daily seasonality. Run prophet with daily_seasonality=True to override this.\n"
     ]
    },
    {
     "name": "stdout",
     "output_type": "stream",
     "text": [
      "El producto demoró 2.1453404426574707 Centro Sur Rancagua\n",
      "tiempo que lleva corriendo 4.77653261423111 Min\n"
     ]
    },
    {
     "name": "stderr",
     "output_type": "stream",
     "text": [
      "INFO:fbprophet:Disabling daily seasonality. Run prophet with daily_seasonality=True to override this.\n"
     ]
    },
    {
     "name": "stdout",
     "output_type": "stream",
     "text": [
      "El producto demoró 1.6639277935028076 Centro Sur Rancagua\n",
      "tiempo que lleva corriendo 4.804281425476074 Min\n"
     ]
    },
    {
     "name": "stderr",
     "output_type": "stream",
     "text": [
      "INFO:fbprophet:Disabling daily seasonality. Run prophet with daily_seasonality=True to override this.\n"
     ]
    },
    {
     "name": "stdout",
     "output_type": "stream",
     "text": [
      "El producto demoró 1.735990285873413 Centro Sur Rancagua\n",
      "tiempo que lleva corriendo 4.833231274286906 Min\n"
     ]
    },
    {
     "name": "stderr",
     "output_type": "stream",
     "text": [
      "INFO:fbprophet:Disabling daily seasonality. Run prophet with daily_seasonality=True to override this.\n"
     ]
    },
    {
     "name": "stdout",
     "output_type": "stream",
     "text": [
      "El producto demoró 1.911639928817749 Centro Sur Rancagua\n",
      "tiempo que lleva corriendo 4.86510028441747 Min\n"
     ]
    },
    {
     "name": "stderr",
     "output_type": "stream",
     "text": [
      "INFO:fbprophet:Disabling daily seasonality. Run prophet with daily_seasonality=True to override this.\n"
     ]
    },
    {
     "name": "stdout",
     "output_type": "stream",
     "text": [
      "El producto demoró 1.753504991531372 Centro Sur Rancagua\n",
      "tiempo que lleva corriendo 4.894350377718608 Min\n"
     ]
    },
    {
     "name": "stderr",
     "output_type": "stream",
     "text": [
      "INFO:fbprophet:Disabling daily seasonality. Run prophet with daily_seasonality=True to override this.\n"
     ]
    },
    {
     "name": "stdout",
     "output_type": "stream",
     "text": [
      "El producto demoró 1.8671021461486816 Centro Sur Rancagua\n",
      "tiempo que lleva corriendo 4.925485448042552 Min\n"
     ]
    },
    {
     "name": "stderr",
     "output_type": "stream",
     "text": [
      "INFO:fbprophet:Disabling daily seasonality. Run prophet with daily_seasonality=True to override this.\n"
     ]
    },
    {
     "name": "stdout",
     "output_type": "stream",
     "text": [
      "El producto demoró 1.7184746265411377 Centro Sur Rancagua\n",
      "tiempo que lleva corriendo 4.9541516979535425 Min\n"
     ]
    },
    {
     "name": "stderr",
     "output_type": "stream",
     "text": [
      "INFO:fbprophet:Disabling daily seasonality. Run prophet with daily_seasonality=True to override this.\n"
     ]
    },
    {
     "name": "stdout",
     "output_type": "stream",
     "text": [
      "El producto demoró 1.8385777473449707 Centro Sur Rancagua\n",
      "tiempo que lleva corriendo 4.984811345736186 Min\n"
     ]
    },
    {
     "name": "stderr",
     "output_type": "stream",
     "text": [
      "INFO:fbprophet:Disabling daily seasonality. Run prophet with daily_seasonality=True to override this.\n"
     ]
    },
    {
     "name": "stdout",
     "output_type": "stream",
     "text": [
      "El producto demoró 1.6118829250335693 Centro Sur Rancagua\n",
      "tiempo que lleva corriendo 5.011701087156932 Min\n",
      "Talca\n"
     ]
    },
    {
     "name": "stderr",
     "output_type": "stream",
     "text": [
      "INFO:fbprophet:Disabling daily seasonality. Run prophet with daily_seasonality=True to override this.\n"
     ]
    },
    {
     "name": "stdout",
     "output_type": "stream",
     "text": [
      "El producto demoró 1.7229785919189453 Centro Sur Talca\n",
      "tiempo que lleva corriendo 5.040834418932596 Min\n"
     ]
    },
    {
     "name": "stderr",
     "output_type": "stream",
     "text": [
      "INFO:fbprophet:Disabling daily seasonality. Run prophet with daily_seasonality=True to override this.\n"
     ]
    },
    {
     "name": "stdout",
     "output_type": "stream",
     "text": [
      "El producto demoró 1.6334021091461182 Centro Sur Talca\n",
      "tiempo que lleva corriendo 5.068074456850687 Min\n"
     ]
    },
    {
     "name": "stderr",
     "output_type": "stream",
     "text": [
      "INFO:fbprophet:Disabling daily seasonality. Run prophet with daily_seasonality=True to override this.\n"
     ]
    },
    {
     "name": "stdout",
     "output_type": "stream",
     "text": [
      "El producto demoró 1.6449120044708252 Centro Sur Talca\n",
      "tiempo que lleva corriendo 5.095514674981435 Min\n"
     ]
    },
    {
     "name": "stderr",
     "output_type": "stream",
     "text": [
      "INFO:fbprophet:Disabling daily seasonality. Run prophet with daily_seasonality=True to override this.\n"
     ]
    },
    {
     "name": "stdout",
     "output_type": "stream",
     "text": [
      "El producto demoró 1.8410797119140625 Centro Sur Talca\n",
      "tiempo que lleva corriendo 5.126216022173564 Min\n"
     ]
    },
    {
     "name": "stderr",
     "output_type": "stream",
     "text": [
      "INFO:fbprophet:Disabling daily seasonality. Run prophet with daily_seasonality=True to override this.\n"
     ]
    },
    {
     "name": "stdout",
     "output_type": "stream",
     "text": [
      "El producto demoró 1.8640997409820557 Centro Sur Talca\n",
      "tiempo que lleva corriendo 5.157292703787486 Min\n"
     ]
    },
    {
     "name": "stderr",
     "output_type": "stream",
     "text": [
      "INFO:fbprophet:Disabling daily seasonality. Run prophet with daily_seasonality=True to override this.\n"
     ]
    },
    {
     "name": "stdout",
     "output_type": "stream",
     "text": [
      "El producto demoró 1.6919519901275635 Centro Sur Talca\n",
      "tiempo que lleva corriendo 5.185516905784607 Min\n"
     ]
    },
    {
     "name": "stderr",
     "output_type": "stream",
     "text": [
      "INFO:fbprophet:Disabling daily seasonality. Run prophet with daily_seasonality=True to override this.\n"
     ]
    },
    {
     "name": "stdout",
     "output_type": "stream",
     "text": [
      "El producto demoró 1.838578224182129 Centro Sur Talca\n",
      "tiempo que lleva corriendo 5.216184890270233 Min\n"
     ]
    },
    {
     "name": "stderr",
     "output_type": "stream",
     "text": [
      "INFO:fbprophet:Disabling daily seasonality. Run prophet with daily_seasonality=True to override this.\n"
     ]
    },
    {
     "name": "stdout",
     "output_type": "stream",
     "text": [
      "El producto demoró 1.715973138809204 Centro Sur Talca\n",
      "tiempo que lleva corriendo 5.244809456666311 Min\n"
     ]
    },
    {
     "name": "stderr",
     "output_type": "stream",
     "text": [
      "INFO:fbprophet:Disabling daily seasonality. Run prophet with daily_seasonality=True to override this.\n"
     ]
    },
    {
     "name": "stdout",
     "output_type": "stream",
     "text": [
      "El producto demoró 1.7139708995819092 Centro Sur Talca\n",
      "tiempo que lleva corriendo 5.2734006524086 Min\n"
     ]
    },
    {
     "name": "stderr",
     "output_type": "stream",
     "text": [
      "INFO:fbprophet:Disabling daily seasonality. Run prophet with daily_seasonality=True to override this.\n"
     ]
    },
    {
     "name": "stdout",
     "output_type": "stream",
     "text": [
      "El producto demoró 1.697957992553711 Centro Sur Talca\n",
      "tiempo que lleva corriendo 5.301708288987478 Min\n"
     ]
    },
    {
     "name": "stderr",
     "output_type": "stream",
     "text": [
      "INFO:fbprophet:Disabling daily seasonality. Run prophet with daily_seasonality=True to override this.\n"
     ]
    },
    {
     "name": "stdout",
     "output_type": "stream",
     "text": [
      "El producto demoró 1.6819441318511963 Centro Sur Talca\n",
      "tiempo que lleva corriendo 5.329765697320302 Min\n"
     ]
    },
    {
     "name": "stderr",
     "output_type": "stream",
     "text": [
      "INFO:fbprophet:Disabling daily seasonality. Run prophet with daily_seasonality=True to override this.\n"
     ]
    },
    {
     "name": "stdout",
     "output_type": "stream",
     "text": [
      "El producto demoró 1.6539196968078613 Centro Sur Talca\n",
      "tiempo que lleva corriendo 5.3573560357093815 Min\n",
      "El producto demoró 1.8070504665374756 Centro Sur Talca\n",
      "tiempo que lleva corriendo 5.387498569488526 Min\n",
      "Sur\n",
      "Castro\n"
     ]
    },
    {
     "name": "stderr",
     "output_type": "stream",
     "text": [
      "INFO:fbprophet:Disabling daily seasonality. Run prophet with daily_seasonality=True to override this.\n",
      "INFO:fbprophet:Disabling daily seasonality. Run prophet with daily_seasonality=True to override this.\n"
     ]
    },
    {
     "name": "stdout",
     "output_type": "stream",
     "text": [
      "El producto demoró 1.564842939376831 Sur Castro\n",
      "tiempo que lleva corriendo 5.416648590564728 Min\n"
     ]
    },
    {
     "name": "stderr",
     "output_type": "stream",
     "text": [
      "INFO:fbprophet:Disabling daily seasonality. Run prophet with daily_seasonality=True to override this.\n"
     ]
    },
    {
     "name": "stdout",
     "output_type": "stream",
     "text": [
      "El producto demoró 1.6293983459472656 Sur Castro\n",
      "tiempo que lleva corriendo 5.443813570340475 Min\n"
     ]
    },
    {
     "name": "stderr",
     "output_type": "stream",
     "text": [
      "INFO:fbprophet:Disabling daily seasonality. Run prophet with daily_seasonality=True to override this.\n"
     ]
    },
    {
     "name": "stdout",
     "output_type": "stream",
     "text": [
      "El producto demoró 1.6414084434509277 Sur Castro\n",
      "tiempo que lleva corriendo 5.471195391813914 Min\n"
     ]
    },
    {
     "name": "stderr",
     "output_type": "stream",
     "text": [
      "INFO:fbprophet:Disabling daily seasonality. Run prophet with daily_seasonality=True to override this.\n"
     ]
    },
    {
     "name": "stdout",
     "output_type": "stream",
     "text": [
      "El producto demoró 1.5998733043670654 Sur Castro\n",
      "tiempo que lleva corriendo 5.497876620292663 Min\n"
     ]
    },
    {
     "name": "stderr",
     "output_type": "stream",
     "text": [
      "INFO:fbprophet:Disabling daily seasonality. Run prophet with daily_seasonality=True to override this.\n"
     ]
    },
    {
     "name": "stdout",
     "output_type": "stream",
     "text": [
      "El producto demoró 1.8831157684326172 Sur Castro\n",
      "tiempo que lleva corriendo 5.529286909103393 Min\n"
     ]
    },
    {
     "name": "stderr",
     "output_type": "stream",
     "text": [
      "INFO:fbprophet:Disabling daily seasonality. Run prophet with daily_seasonality=True to override this.\n"
     ]
    },
    {
     "name": "stdout",
     "output_type": "stream",
     "text": [
      "El producto demoró 1.529313087463379 Sur Castro\n",
      "tiempo que lleva corriendo 5.554792133967082 Min\n"
     ]
    },
    {
     "name": "stderr",
     "output_type": "stream",
     "text": [
      "INFO:fbprophet:Disabling daily seasonality. Run prophet with daily_seasonality=True to override this.\n"
     ]
    },
    {
     "name": "stdout",
     "output_type": "stream",
     "text": [
      "El producto demoró 1.6564216613769531 Sur Castro\n",
      "tiempo que lleva corriendo 5.5824241757392885 Min\n"
     ]
    },
    {
     "name": "stderr",
     "output_type": "stream",
     "text": [
      "INFO:fbprophet:Disabling daily seasonality. Run prophet with daily_seasonality=True to override this.\n"
     ]
    },
    {
     "name": "stdout",
     "output_type": "stream",
     "text": [
      "El producto demoró 1.7730209827423096 Sur Castro\n",
      "tiempo que lleva corriendo 5.611999563376108 Min\n"
     ]
    },
    {
     "name": "stderr",
     "output_type": "stream",
     "text": [
      "INFO:fbprophet:Disabling daily seasonality. Run prophet with daily_seasonality=True to override this.\n"
     ]
    },
    {
     "name": "stdout",
     "output_type": "stream",
     "text": [
      "El producto demoró 1.7389917373657227 Sur Castro\n",
      "tiempo que lleva corriendo 5.641007781028748 Min\n"
     ]
    },
    {
     "name": "stderr",
     "output_type": "stream",
     "text": [
      "INFO:fbprophet:Disabling daily seasonality. Run prophet with daily_seasonality=True to override this.\n"
     ]
    },
    {
     "name": "stdout",
     "output_type": "stream",
     "text": [
      "El producto demoró 1.7284839153289795 Sur Castro\n",
      "tiempo que lleva corriendo 5.669832519690195 Min\n"
     ]
    },
    {
     "name": "stderr",
     "output_type": "stream",
     "text": [
      "INFO:fbprophet:Disabling daily seasonality. Run prophet with daily_seasonality=True to override this.\n"
     ]
    },
    {
     "name": "stdout",
     "output_type": "stream",
     "text": [
      "El producto demoró 1.6939539909362793 Sur Castro\n",
      "tiempo que lleva corriendo 5.698081767559051 Min\n"
     ]
    },
    {
     "name": "stderr",
     "output_type": "stream",
     "text": [
      "INFO:fbprophet:Disabling daily seasonality. Run prophet with daily_seasonality=True to override this.\n"
     ]
    },
    {
     "name": "stdout",
     "output_type": "stream",
     "text": [
      "El producto demoró 1.6589241027832031 Sur Castro\n",
      "tiempo que lleva corriendo 5.725755508740743 Min\n"
     ]
    },
    {
     "name": "stderr",
     "output_type": "stream",
     "text": [
      "INFO:fbprophet:Disabling daily seasonality. Run prophet with daily_seasonality=True to override this.\n"
     ]
    },
    {
     "name": "stdout",
     "output_type": "stream",
     "text": [
      "El producto demoró 1.6819427013397217 Sur Castro\n",
      "tiempo que lleva corriendo 5.753804584344228 Min\n",
      "Coyhaique\n"
     ]
    },
    {
     "name": "stderr",
     "output_type": "stream",
     "text": [
      "INFO:fbprophet:Disabling daily seasonality. Run prophet with daily_seasonality=True to override this.\n"
     ]
    },
    {
     "name": "stdout",
     "output_type": "stream",
     "text": [
      "El producto demoró 1.4812707901000977 Sur Coyhaique\n",
      "tiempo que lleva corriendo 5.778792691230774 Min\n"
     ]
    },
    {
     "name": "stderr",
     "output_type": "stream",
     "text": [
      "INFO:fbprophet:Disabling daily seasonality. Run prophet with daily_seasonality=True to override this.\n"
     ]
    },
    {
     "name": "stdout",
     "output_type": "stream",
     "text": [
      "El producto demoró 1.4047062397003174 Sur Coyhaique\n",
      "tiempo que lleva corriendo 5.802212794621785 Min\n"
     ]
    },
    {
     "name": "stderr",
     "output_type": "stream",
     "text": [
      "INFO:fbprophet:Disabling daily seasonality. Run prophet with daily_seasonality=True to override this.\n"
     ]
    },
    {
     "name": "stdout",
     "output_type": "stream",
     "text": [
      "El producto demoró 1.504791021347046 Sur Coyhaique\n",
      "tiempo que lleva corriendo 5.827317670981089 Min\n"
     ]
    },
    {
     "name": "stderr",
     "output_type": "stream",
     "text": [
      "INFO:fbprophet:Disabling daily seasonality. Run prophet with daily_seasonality=True to override this.\n"
     ]
    },
    {
     "name": "stdout",
     "output_type": "stream",
     "text": [
      "El producto demoró 1.541822910308838 Sur Coyhaique\n",
      "tiempo que lleva corriendo 5.8530314008394875 Min\n"
     ]
    },
    {
     "name": "stderr",
     "output_type": "stream",
     "text": [
      "INFO:fbprophet:Disabling daily seasonality. Run prophet with daily_seasonality=True to override this.\n"
     ]
    },
    {
     "name": "stdout",
     "output_type": "stream",
     "text": [
      "El producto demoró 2.6432688236236572 Sur Coyhaique\n",
      "tiempo que lleva corriendo 5.897110891342163 Min\n"
     ]
    },
    {
     "name": "stderr",
     "output_type": "stream",
     "text": [
      "INFO:fbprophet:Disabling daily seasonality. Run prophet with daily_seasonality=True to override this.\n"
     ]
    },
    {
     "name": "stdout",
     "output_type": "stream",
     "text": [
      "El producto demoró 1.50679349899292 Sur Coyhaique\n",
      "tiempo que lleva corriendo 5.922249130407969 Min\n"
     ]
    },
    {
     "name": "stderr",
     "output_type": "stream",
     "text": [
      "INFO:fbprophet:Disabling daily seasonality. Run prophet with daily_seasonality=True to override this.\n"
     ]
    },
    {
     "name": "stdout",
     "output_type": "stream",
     "text": [
      "El producto demoró 1.4022035598754883 Sur Coyhaique\n",
      "tiempo que lleva corriendo 5.945635867118836 Min\n"
     ]
    },
    {
     "name": "stderr",
     "output_type": "stream",
     "text": [
      "INFO:fbprophet:Disabling daily seasonality. Run prophet with daily_seasonality=True to override this.\n"
     ]
    },
    {
     "name": "stdout",
     "output_type": "stream",
     "text": [
      "El producto demoró 1.3856892585754395 Sur Coyhaique\n",
      "tiempo que lleva corriendo 5.968739024798075 Min\n"
     ]
    },
    {
     "name": "stderr",
     "output_type": "stream",
     "text": [
      "INFO:fbprophet:Disabling daily seasonality. Run prophet with daily_seasonality=True to override this.\n"
     ]
    },
    {
     "name": "stdout",
     "output_type": "stream",
     "text": [
      "El producto demoró 1.8295707702636719 Sur Coyhaique\n",
      "tiempo que lleva corriendo 5.999265225728353 Min\n"
     ]
    },
    {
     "name": "stderr",
     "output_type": "stream",
     "text": [
      "INFO:fbprophet:Disabling daily seasonality. Run prophet with daily_seasonality=True to override this.\n"
     ]
    },
    {
     "name": "stdout",
     "output_type": "stream",
     "text": [
      "El producto demoró 1.5668444633483887 Sur Coyhaique\n",
      "tiempo que lleva corriendo 6.025404314200084 Min\n"
     ]
    },
    {
     "name": "stderr",
     "output_type": "stream",
     "text": [
      "INFO:fbprophet:Disabling daily seasonality. Run prophet with daily_seasonality=True to override this.\n"
     ]
    },
    {
     "name": "stdout",
     "output_type": "stream",
     "text": [
      "El producto demoró 1.3241369724273682 Sur Coyhaique\n",
      "tiempo que lleva corriendo 6.047481596469879 Min\n",
      "Osorno\n"
     ]
    },
    {
     "name": "stderr",
     "output_type": "stream",
     "text": [
      "INFO:fbprophet:Disabling daily seasonality. Run prophet with daily_seasonality=True to override this.\n"
     ]
    },
    {
     "name": "stdout",
     "output_type": "stream",
     "text": [
      "El producto demoró 1.719475507736206 Sur Osorno\n",
      "tiempo que lleva corriendo 6.076464807987213 Min\n"
     ]
    },
    {
     "name": "stderr",
     "output_type": "stream",
     "text": [
      "INFO:fbprophet:Disabling daily seasonality. Run prophet with daily_seasonality=True to override this.\n"
     ]
    },
    {
     "name": "stdout",
     "output_type": "stream",
     "text": [
      "El producto demoró 1.6749370098114014 Sur Osorno\n",
      "tiempo que lleva corriendo 6.104405450820923 Min\n"
     ]
    },
    {
     "name": "stderr",
     "output_type": "stream",
     "text": [
      "INFO:fbprophet:Disabling daily seasonality. Run prophet with daily_seasonality=True to override this.\n"
     ]
    },
    {
     "name": "stdout",
     "output_type": "stream",
     "text": [
      "El producto demoró 1.564842939376831 Sur Osorno\n",
      "tiempo que lleva corriendo 6.1305028359095255 Min\n"
     ]
    },
    {
     "name": "stderr",
     "output_type": "stream",
     "text": [
      "INFO:fbprophet:Disabling daily seasonality. Run prophet with daily_seasonality=True to override this.\n"
     ]
    },
    {
     "name": "stdout",
     "output_type": "stream",
     "text": [
      "El producto demoró 1.5658435821533203 Sur Osorno\n",
      "tiempo que lleva corriendo 6.1566252628962195 Min\n"
     ]
    },
    {
     "name": "stderr",
     "output_type": "stream",
     "text": [
      "INFO:fbprophet:Disabling daily seasonality. Run prophet with daily_seasonality=True to override this.\n"
     ]
    },
    {
     "name": "stdout",
     "output_type": "stream",
     "text": [
      "El producto demoró 2.1668598651885986 Sur Osorno\n",
      "tiempo que lleva corriendo 6.192764604091645 Min\n"
     ]
    },
    {
     "name": "stderr",
     "output_type": "stream",
     "text": [
      "INFO:fbprophet:Disabling daily seasonality. Run prophet with daily_seasonality=True to override this.\n"
     ]
    },
    {
     "name": "stdout",
     "output_type": "stream",
     "text": [
      "El producto demoró 1.8110542297363281 Sur Osorno\n",
      "tiempo que lleva corriendo 6.222965522607168 Min\n"
     ]
    },
    {
     "name": "stderr",
     "output_type": "stream",
     "text": [
      "INFO:fbprophet:Disabling daily seasonality. Run prophet with daily_seasonality=True to override this.\n"
     ]
    },
    {
     "name": "stdout",
     "output_type": "stream",
     "text": [
      "El producto demoró 1.919647455215454 Sur Osorno\n",
      "tiempo que lleva corriendo 6.254984668890635 Min\n"
     ]
    },
    {
     "name": "stderr",
     "output_type": "stream",
     "text": [
      "INFO:fbprophet:Disabling daily seasonality. Run prophet with daily_seasonality=True to override this.\n"
     ]
    },
    {
     "name": "stdout",
     "output_type": "stream",
     "text": [
      "El producto demoró 2.0217349529266357 Sur Osorno\n",
      "tiempo que lleva corriendo 6.288696928819021 Min\n"
     ]
    },
    {
     "name": "stderr",
     "output_type": "stream",
     "text": [
      "INFO:fbprophet:Disabling daily seasonality. Run prophet with daily_seasonality=True to override this.\n"
     ]
    },
    {
     "name": "stdout",
     "output_type": "stream",
     "text": [
      "El producto demoró 1.8986289501190186 Sur Osorno\n",
      "tiempo que lleva corriendo 6.320357437928518 Min\n"
     ]
    },
    {
     "name": "stderr",
     "output_type": "stream",
     "text": [
      "INFO:fbprophet:Disabling daily seasonality. Run prophet with daily_seasonality=True to override this.\n"
     ]
    },
    {
     "name": "stdout",
     "output_type": "stream",
     "text": [
      "El producto demoró 1.6359035968780518 Sur Osorno\n",
      "tiempo que lleva corriendo 6.347664205233256 Min\n"
     ]
    },
    {
     "name": "stderr",
     "output_type": "stream",
     "text": [
      "INFO:fbprophet:Disabling daily seasonality. Run prophet with daily_seasonality=True to override this.\n"
     ]
    },
    {
     "name": "stdout",
     "output_type": "stream",
     "text": [
      "El producto demoró 1.753004789352417 Sur Osorno\n",
      "tiempo que lleva corriendo 6.376889280478159 Min\n"
     ]
    },
    {
     "name": "stderr",
     "output_type": "stream",
     "text": [
      "INFO:fbprophet:Disabling daily seasonality. Run prophet with daily_seasonality=True to override this.\n"
     ]
    },
    {
     "name": "stdout",
     "output_type": "stream",
     "text": [
      "El producto demoró 1.885117530822754 Sur Osorno\n",
      "tiempo que lleva corriendo 6.40832458337148 Min\n"
     ]
    },
    {
     "name": "stderr",
     "output_type": "stream",
     "text": [
      "INFO:fbprophet:Disabling daily seasonality. Run prophet with daily_seasonality=True to override this.\n"
     ]
    },
    {
     "name": "stdout",
     "output_type": "stream",
     "text": [
      "El producto demoró 1.744497299194336 Sur Osorno\n",
      "tiempo que lleva corriendo 6.437416223684947 Min\n",
      "Puerto Montt\n"
     ]
    },
    {
     "name": "stderr",
     "output_type": "stream",
     "text": [
      "INFO:fbprophet:Disabling daily seasonality. Run prophet with daily_seasonality=True to override this.\n"
     ]
    },
    {
     "name": "stdout",
     "output_type": "stream",
     "text": [
      "El producto demoró 1.7224783897399902 Sur Puerto Montt\n",
      "tiempo que lleva corriendo 6.466499507427216 Min\n"
     ]
    },
    {
     "name": "stderr",
     "output_type": "stream",
     "text": [
      "INFO:fbprophet:Disabling daily seasonality. Run prophet with daily_seasonality=True to override this.\n"
     ]
    },
    {
     "name": "stdout",
     "output_type": "stream",
     "text": [
      "El producto demoró 1.730484962463379 Sur Puerto Montt\n",
      "tiempo que lleva corriendo 6.49535760084788 Min\n"
     ]
    },
    {
     "name": "stderr",
     "output_type": "stream",
     "text": [
      "INFO:fbprophet:Disabling daily seasonality. Run prophet with daily_seasonality=True to override this.\n"
     ]
    },
    {
     "name": "stdout",
     "output_type": "stream",
     "text": [
      "El producto demoró 1.721977949142456 Sur Puerto Montt\n",
      "tiempo que lleva corriendo 6.524082259337107 Min\n"
     ]
    },
    {
     "name": "stderr",
     "output_type": "stream",
     "text": [
      "INFO:fbprophet:Disabling daily seasonality. Run prophet with daily_seasonality=True to override this.\n"
     ]
    },
    {
     "name": "stdout",
     "output_type": "stream",
     "text": [
      "El producto demoró 1.7384917736053467 Sur Puerto Montt\n",
      "tiempo que lleva corriendo 6.55308214823405 Min\n"
     ]
    },
    {
     "name": "stderr",
     "output_type": "stream",
     "text": [
      "INFO:fbprophet:Disabling daily seasonality. Run prophet with daily_seasonality=True to override this.\n"
     ]
    },
    {
     "name": "stdout",
     "output_type": "stream",
     "text": [
      "El producto demoró 1.951174020767212 Sur Puerto Montt\n",
      "tiempo que lleva corriendo 6.585635077953339 Min\n"
     ]
    },
    {
     "name": "stderr",
     "output_type": "stream",
     "text": [
      "INFO:fbprophet:Disabling daily seasonality. Run prophet with daily_seasonality=True to override this.\n"
     ]
    },
    {
     "name": "stdout",
     "output_type": "stream",
     "text": [
      "El producto demoró 1.689950704574585 Sur Puerto Montt\n",
      "tiempo que lleva corriendo 6.613817592461904 Min\n"
     ]
    },
    {
     "name": "stderr",
     "output_type": "stream",
     "text": [
      "INFO:fbprophet:Disabling daily seasonality. Run prophet with daily_seasonality=True to override this.\n"
     ]
    },
    {
     "name": "stdout",
     "output_type": "stream",
     "text": [
      "El producto demoró 1.8515894412994385 Sur Puerto Montt\n",
      "tiempo que lleva corriendo 6.644694089889526 Min\n"
     ]
    },
    {
     "name": "stderr",
     "output_type": "stream",
     "text": [
      "INFO:fbprophet:Disabling daily seasonality. Run prophet with daily_seasonality=True to override this.\n"
     ]
    },
    {
     "name": "stdout",
     "output_type": "stream",
     "text": [
      "El producto demoró 1.8916234970092773 Sur Puerto Montt\n",
      "tiempo que lleva corriendo 6.676246174176534 Min\n"
     ]
    },
    {
     "name": "stderr",
     "output_type": "stream",
     "text": [
      "INFO:fbprophet:Disabling daily seasonality. Run prophet with daily_seasonality=True to override this.\n"
     ]
    },
    {
     "name": "stdout",
     "output_type": "stream",
     "text": [
      "El producto demoró 1.782029628753662 Sur Puerto Montt\n",
      "tiempo que lleva corriendo 6.7059716780980425 Min\n"
     ]
    },
    {
     "name": "stderr",
     "output_type": "stream",
     "text": [
      "INFO:fbprophet:Disabling daily seasonality. Run prophet with daily_seasonality=True to override this.\n"
     ]
    },
    {
     "name": "stdout",
     "output_type": "stream",
     "text": [
      "El producto demoró 1.6984572410583496 Sur Puerto Montt\n",
      "tiempo que lleva corriendo 6.7343043208122255 Min\n"
     ]
    },
    {
     "name": "stderr",
     "output_type": "stream",
     "text": [
      "INFO:fbprophet:Disabling daily seasonality. Run prophet with daily_seasonality=True to override this.\n"
     ]
    },
    {
     "name": "stdout",
     "output_type": "stream",
     "text": [
      "El producto demoró 1.610381841659546 Sur Puerto Montt\n",
      "tiempo que lleva corriendo 6.761169036229451 Min\n"
     ]
    },
    {
     "name": "stderr",
     "output_type": "stream",
     "text": [
      "INFO:fbprophet:Disabling daily seasonality. Run prophet with daily_seasonality=True to override this.\n"
     ]
    },
    {
     "name": "stdout",
     "output_type": "stream",
     "text": [
      "El producto demoró 1.9837021827697754 Sur Puerto Montt\n",
      "tiempo que lleva corriendo 6.794239087899526 Min\n"
     ]
    },
    {
     "name": "stderr",
     "output_type": "stream",
     "text": [
      "INFO:fbprophet:Disabling daily seasonality. Run prophet with daily_seasonality=True to override this.\n"
     ]
    },
    {
     "name": "stdout",
     "output_type": "stream",
     "text": [
      "El producto demoró 1.7259817123413086 Sur Puerto Montt\n",
      "tiempo que lleva corriendo 6.8230221231778465 Min\n",
      "Punta Arenas\n"
     ]
    },
    {
     "name": "stderr",
     "output_type": "stream",
     "text": [
      "INFO:fbprophet:Disabling daily seasonality. Run prophet with daily_seasonality=True to override this.\n"
     ]
    },
    {
     "name": "stdout",
     "output_type": "stream",
     "text": [
      "El producto demoró 1.5923664569854736 Sur Punta Arenas\n",
      "tiempo que lleva corriendo 6.849861820538838 Min\n"
     ]
    },
    {
     "name": "stderr",
     "output_type": "stream",
     "text": [
      "INFO:fbprophet:Disabling daily seasonality. Run prophet with daily_seasonality=True to override this.\n"
     ]
    },
    {
     "name": "stdout",
     "output_type": "stream",
     "text": [
      "El producto demoró 1.4457409381866455 Sur Punta Arenas\n",
      "tiempo que lleva corriendo 6.873974180221557 Min\n"
     ]
    },
    {
     "name": "stderr",
     "output_type": "stream",
     "text": [
      "INFO:fbprophet:Disabling daily seasonality. Run prophet with daily_seasonality=True to override this.\n"
     ]
    },
    {
     "name": "stdout",
     "output_type": "stream",
     "text": [
      "El producto demoró 1.750502347946167 Sur Punta Arenas\n",
      "tiempo que lleva corriendo 6.903165892759959 Min\n"
     ]
    },
    {
     "name": "stderr",
     "output_type": "stream",
     "text": [
      "INFO:fbprophet:Disabling daily seasonality. Run prophet with daily_seasonality=True to override this.\n"
     ]
    },
    {
     "name": "stdout",
     "output_type": "stream",
     "text": [
      "El producto demoró 1.5358178615570068 Sur Punta Arenas\n",
      "tiempo que lleva corriendo 6.928787887096405 Min\n"
     ]
    },
    {
     "name": "stderr",
     "output_type": "stream",
     "text": [
      "INFO:fbprophet:Disabling daily seasonality. Run prophet with daily_seasonality=True to override this.\n"
     ]
    },
    {
     "name": "stdout",
     "output_type": "stream",
     "text": [
      "El producto demoró 1.3211338520050049 Sur Punta Arenas\n",
      "tiempo que lleva corriendo 6.950831806659698 Min\n"
     ]
    },
    {
     "name": "stderr",
     "output_type": "stream",
     "text": [
      "INFO:fbprophet:Disabling daily seasonality. Run prophet with daily_seasonality=True to override this.\n"
     ]
    },
    {
     "name": "stdout",
     "output_type": "stream",
     "text": [
      "El producto demoró 1.3301420211791992 Sur Punta Arenas\n",
      "tiempo que lleva corriendo 6.9730175018310545 Min\n"
     ]
    },
    {
     "name": "stderr",
     "output_type": "stream",
     "text": [
      "INFO:fbprophet:Disabling daily seasonality. Run prophet with daily_seasonality=True to override this.\n"
     ]
    },
    {
     "name": "stdout",
     "output_type": "stream",
     "text": [
      "El producto demoró 1.5443251132965088 Sur Punta Arenas\n",
      "tiempo que lleva corriendo 6.998772943019867 Min\n"
     ]
    },
    {
     "name": "stderr",
     "output_type": "stream",
     "text": [
      "INFO:fbprophet:Disabling daily seasonality. Run prophet with daily_seasonality=True to override this.\n"
     ]
    },
    {
     "name": "stdout",
     "output_type": "stream",
     "text": [
      "El producto demoró 1.618889331817627 Sur Punta Arenas\n",
      "tiempo que lleva corriendo 7.025771113236745 Min\n"
     ]
    },
    {
     "name": "stderr",
     "output_type": "stream",
     "text": [
      "INFO:fbprophet:Disabling daily seasonality. Run prophet with daily_seasonality=True to override this.\n"
     ]
    },
    {
     "name": "stdout",
     "output_type": "stream",
     "text": [
      "El producto demoró 1.5173020362854004 Sur Punta Arenas\n",
      "tiempo que lleva corriendo 7.051067825158437 Min\n"
     ]
    },
    {
     "name": "stderr",
     "output_type": "stream",
     "text": [
      "INFO:fbprophet:Disabling daily seasonality. Run prophet with daily_seasonality=True to override this.\n",
      "INFO:fbprophet:n_changepoints greater than number of observations. Using 8.\n"
     ]
    },
    {
     "name": "stdout",
     "output_type": "stream",
     "text": [
      "El producto demoró 1.8010454177856445 Sur Punta Arenas\n",
      "tiempo que lleva corriendo 7.081118615468343 Min\n"
     ]
    },
    {
     "name": "stderr",
     "output_type": "stream",
     "text": [
      "INFO:fbprophet:Disabling daily seasonality. Run prophet with daily_seasonality=True to override this.\n"
     ]
    },
    {
     "name": "stdout",
     "output_type": "stream",
     "text": [
      "El producto demoró 9.942032098770142 Sur Punta Arenas\n",
      "tiempo que lleva corriendo 7.246835811932882 Min\n"
     ]
    },
    {
     "name": "stderr",
     "output_type": "stream",
     "text": [
      "INFO:fbprophet:Disabling daily seasonality. Run prophet with daily_seasonality=True to override this.\n"
     ]
    },
    {
     "name": "stdout",
     "output_type": "stream",
     "text": [
      "El producto demoró 1.5323150157928467 Sur Punta Arenas\n",
      "tiempo que lleva corriendo 7.272391072909037 Min\n"
     ]
    },
    {
     "name": "stderr",
     "output_type": "stream",
     "text": [
      "INFO:fbprophet:Disabling daily seasonality. Run prophet with daily_seasonality=True to override this.\n"
     ]
    },
    {
     "name": "stdout",
     "output_type": "stream",
     "text": [
      "El producto demoró 1.4812707901000977 Sur Punta Arenas\n",
      "tiempo que lleva corriendo 7.297095612684886 Min\n",
      "Temuco\n"
     ]
    },
    {
     "name": "stderr",
     "output_type": "stream",
     "text": [
      "INFO:fbprophet:Disabling daily seasonality. Run prophet with daily_seasonality=True to override this.\n"
     ]
    },
    {
     "name": "stdout",
     "output_type": "stream",
     "text": [
      "El producto demoró 1.4727635383605957 Sur Temuco\n",
      "tiempo que lleva corriendo 7.321983627478281 Min\n"
     ]
    },
    {
     "name": "stderr",
     "output_type": "stream",
     "text": [
      "INFO:fbprophet:Disabling daily seasonality. Run prophet with daily_seasonality=True to override this.\n"
     ]
    },
    {
     "name": "stdout",
     "output_type": "stream",
     "text": [
      "El producto demoró 1.627396821975708 Sur Temuco\n",
      "tiempo que lleva corriendo 7.349123589197794 Min\n"
     ]
    },
    {
     "name": "stderr",
     "output_type": "stream",
     "text": [
      "INFO:fbprophet:Disabling daily seasonality. Run prophet with daily_seasonality=True to override this.\n"
     ]
    },
    {
     "name": "stdout",
     "output_type": "stream",
     "text": [
      "El producto demoró 1.919147253036499 Sur Temuco\n",
      "tiempo que lleva corriendo 7.381126062075297 Min\n"
     ]
    },
    {
     "name": "stderr",
     "output_type": "stream",
     "text": [
      "INFO:fbprophet:Disabling daily seasonality. Run prophet with daily_seasonality=True to override this.\n"
     ]
    },
    {
     "name": "stdout",
     "output_type": "stream",
     "text": [
      "El producto demoró 1.6944539546966553 Sur Temuco\n",
      "tiempo que lleva corriendo 7.409383642673492 Min\n"
     ]
    },
    {
     "name": "stderr",
     "output_type": "stream",
     "text": [
      "INFO:fbprophet:Disabling daily seasonality. Run prophet with daily_seasonality=True to override this.\n"
     ]
    },
    {
     "name": "stdout",
     "output_type": "stream",
     "text": [
      "El producto demoró 1.6759381294250488 Sur Temuco\n",
      "tiempo que lleva corriendo 7.437332626183828 Min\n"
     ]
    },
    {
     "name": "stderr",
     "output_type": "stream",
     "text": [
      "INFO:fbprophet:Disabling daily seasonality. Run prophet with daily_seasonality=True to override this.\n"
     ]
    },
    {
     "name": "stdout",
     "output_type": "stream",
     "text": [
      "El producto demoró 1.82206392288208 Sur Temuco\n",
      "tiempo que lleva corriendo 7.46772536834081 Min\n"
     ]
    },
    {
     "name": "stderr",
     "output_type": "stream",
     "text": [
      "INFO:fbprophet:Disabling daily seasonality. Run prophet with daily_seasonality=True to override this.\n"
     ]
    },
    {
     "name": "stdout",
     "output_type": "stream",
     "text": [
      "El producto demoró 1.5828580856323242 Sur Temuco\n",
      "tiempo que lleva corriendo 7.494123021761577 Min\n"
     ]
    },
    {
     "name": "stderr",
     "output_type": "stream",
     "text": [
      "INFO:fbprophet:Disabling daily seasonality. Run prophet with daily_seasonality=True to override this.\n"
     ]
    },
    {
     "name": "stdout",
     "output_type": "stream",
     "text": [
      "El producto demoró 1.6819431781768799 Sur Temuco\n",
      "tiempo que lleva corriendo 7.522180430094401 Min\n"
     ]
    },
    {
     "name": "stderr",
     "output_type": "stream",
     "text": [
      "INFO:fbprophet:Disabling daily seasonality. Run prophet with daily_seasonality=True to override this.\n"
     ]
    },
    {
     "name": "stdout",
     "output_type": "stream",
     "text": [
      "El producto demoró 2.116816520690918 Sur Temuco\n",
      "tiempo que lleva corriendo 7.5574857274691265 Min\n"
     ]
    },
    {
     "name": "stderr",
     "output_type": "stream",
     "text": [
      "INFO:fbprophet:Disabling daily seasonality. Run prophet with daily_seasonality=True to override this.\n"
     ]
    },
    {
     "name": "stdout",
     "output_type": "stream",
     "text": [
      "El producto demoró 1.5353176593780518 Sur Temuco\n",
      "tiempo que lleva corriendo 7.583091036478678 Min\n"
     ]
    },
    {
     "name": "stderr",
     "output_type": "stream",
     "text": [
      "INFO:fbprophet:Disabling daily seasonality. Run prophet with daily_seasonality=True to override this.\n"
     ]
    },
    {
     "name": "stdout",
     "output_type": "stream",
     "text": [
      "El producto demoró 1.569847822189331 Sur Temuco\n",
      "tiempo que lleva corriendo 7.6092801809310915 Min\n"
     ]
    },
    {
     "name": "stderr",
     "output_type": "stream",
     "text": [
      "INFO:fbprophet:Disabling daily seasonality. Run prophet with daily_seasonality=True to override this.\n"
     ]
    },
    {
     "name": "stdout",
     "output_type": "stream",
     "text": [
      "El producto demoró 1.7610116004943848 Sur Temuco\n",
      "tiempo que lleva corriendo 7.638655392328898 Min\n"
     ]
    },
    {
     "name": "stderr",
     "output_type": "stream",
     "text": [
      "INFO:fbprophet:Disabling daily seasonality. Run prophet with daily_seasonality=True to override this.\n"
     ]
    },
    {
     "name": "stdout",
     "output_type": "stream",
     "text": [
      "El producto demoró 1.6268961429595947 Sur Temuco\n",
      "tiempo que lleva corriendo 7.665778664747874 Min\n",
      "Valdivia\n"
     ]
    },
    {
     "name": "stderr",
     "output_type": "stream",
     "text": [
      "INFO:fbprophet:Disabling daily seasonality. Run prophet with daily_seasonality=True to override this.\n"
     ]
    },
    {
     "name": "stdout",
     "output_type": "stream",
     "text": [
      "El producto demoró 1.5358178615570068 Sur Valdivia\n",
      "tiempo que lleva corriendo 7.691692562898 Min\n"
     ]
    },
    {
     "name": "stderr",
     "output_type": "stream",
     "text": [
      "INFO:fbprophet:Disabling daily seasonality. Run prophet with daily_seasonality=True to override this.\n"
     ]
    },
    {
     "name": "stdout",
     "output_type": "stream",
     "text": [
      "El producto demoró 1.8225643634796143 Sur Valdivia\n",
      "tiempo que lleva corriendo 7.722085313002268 Min\n"
     ]
    },
    {
     "name": "stderr",
     "output_type": "stream",
     "text": [
      "INFO:fbprophet:Disabling daily seasonality. Run prophet with daily_seasonality=True to override this.\n"
     ]
    },
    {
     "name": "stdout",
     "output_type": "stream",
     "text": [
      "El producto demoró 1.6959552764892578 Sur Valdivia\n",
      "tiempo que lleva corriendo 7.750384600957235 Min\n"
     ]
    },
    {
     "name": "stderr",
     "output_type": "stream",
     "text": [
      "INFO:fbprophet:Disabling daily seasonality. Run prophet with daily_seasonality=True to override this.\n"
     ]
    },
    {
     "name": "stdout",
     "output_type": "stream",
     "text": [
      "El producto demoró 1.7004592418670654 Sur Valdivia\n",
      "tiempo que lleva corriendo 7.778750610351563 Min\n"
     ]
    },
    {
     "name": "stderr",
     "output_type": "stream",
     "text": [
      "INFO:fbprophet:Disabling daily seasonality. Run prophet with daily_seasonality=True to override this.\n"
     ]
    },
    {
     "name": "stdout",
     "output_type": "stream",
     "text": [
      "El producto demoró 1.692953109741211 Sur Valdivia\n",
      "tiempo que lleva corriendo 7.806991509596506 Min\n"
     ]
    },
    {
     "name": "stderr",
     "output_type": "stream",
     "text": [
      "INFO:fbprophet:Disabling daily seasonality. Run prophet with daily_seasonality=True to override this.\n"
     ]
    },
    {
     "name": "stdout",
     "output_type": "stream",
     "text": [
      "El producto demoró 1.390193223953247 Sur Valdivia\n",
      "tiempo que lleva corriendo 7.830186414718628 Min\n"
     ]
    },
    {
     "name": "stderr",
     "output_type": "stream",
     "text": [
      "INFO:fbprophet:Disabling daily seasonality. Run prophet with daily_seasonality=True to override this.\n"
     ]
    },
    {
     "name": "stdout",
     "output_type": "stream",
     "text": [
      "El producto demoró 1.5968701839447021 Sur Valdivia\n",
      "tiempo que lleva corriendo 7.856809254487356 Min\n"
     ]
    },
    {
     "name": "stderr",
     "output_type": "stream",
     "text": [
      "INFO:fbprophet:Disabling daily seasonality. Run prophet with daily_seasonality=True to override this.\n"
     ]
    },
    {
     "name": "stdout",
     "output_type": "stream",
     "text": [
      "El producto demoró 1.6048774719238281 Sur Valdivia\n",
      "tiempo que lleva corriendo 7.883573889732361 Min\n"
     ]
    },
    {
     "name": "stderr",
     "output_type": "stream",
     "text": [
      "INFO:fbprophet:Disabling daily seasonality. Run prophet with daily_seasonality=True to override this.\n"
     ]
    },
    {
     "name": "stdout",
     "output_type": "stream",
     "text": [
      "El producto demoró 1.8010458946228027 Sur Valdivia\n",
      "tiempo que lleva corriendo 7.913616347312927 Min\n"
     ]
    },
    {
     "name": "stderr",
     "output_type": "stream",
     "text": [
      "INFO:fbprophet:Disabling daily seasonality. Run prophet with daily_seasonality=True to override this.\n"
     ]
    },
    {
     "name": "stdout",
     "output_type": "stream",
     "text": [
      "El producto demoró 1.7429955005645752 Sur Valdivia\n",
      "tiempo que lleva corriendo 7.942691302299499 Min\n"
     ]
    },
    {
     "name": "stderr",
     "output_type": "stream",
     "text": [
      "INFO:fbprophet:Disabling daily seasonality. Run prophet with daily_seasonality=True to override this.\n"
     ]
    },
    {
     "name": "stdout",
     "output_type": "stream",
     "text": [
      "El producto demoró 1.5663435459136963 Sur Valdivia\n",
      "tiempo que lleva corriendo 7.968805368741354 Min\n"
     ]
    },
    {
     "name": "stderr",
     "output_type": "stream",
     "text": [
      "INFO:fbprophet:Disabling daily seasonality. Run prophet with daily_seasonality=True to override this.\n"
     ]
    },
    {
     "name": "stdout",
     "output_type": "stream",
     "text": [
      "El producto demoró 1.771019697189331 Sur Valdivia\n",
      "tiempo que lleva corriendo 7.998339041074117 Min\n",
      "El producto demoró 1.7585091590881348 Sur Valdivia\n",
      "tiempo que lleva corriendo 8.027672549088797 Min\n",
      "Norte\n",
      "Antofagasta\n"
     ]
    },
    {
     "name": "stderr",
     "output_type": "stream",
     "text": [
      "INFO:fbprophet:Disabling daily seasonality. Run prophet with daily_seasonality=True to override this.\n",
      "INFO:fbprophet:Disabling daily seasonality. Run prophet with daily_seasonality=True to override this.\n"
     ]
    },
    {
     "name": "stdout",
     "output_type": "stream",
     "text": [
      "El producto demoró 1.5508308410644531 Norte Antofagasta\n",
      "tiempo que lleva corriendo 8.05617200533549 Min\n"
     ]
    },
    {
     "name": "stderr",
     "output_type": "stream",
     "text": [
      "INFO:fbprophet:Disabling daily seasonality. Run prophet with daily_seasonality=True to override this.\n"
     ]
    },
    {
     "name": "stdout",
     "output_type": "stream",
     "text": [
      "El producto demoró 1.533315896987915 Norte Antofagasta\n",
      "tiempo que lleva corriendo 8.081743947664897 Min\n"
     ]
    },
    {
     "name": "stderr",
     "output_type": "stream",
     "text": [
      "INFO:fbprophet:Disabling daily seasonality. Run prophet with daily_seasonality=True to override this.\n"
     ]
    },
    {
     "name": "stdout",
     "output_type": "stream",
     "text": [
      "El producto demoró 1.5888638496398926 Norte Antofagasta\n",
      "tiempo que lleva corriendo 8.108250029881795 Min\n"
     ]
    },
    {
     "name": "stderr",
     "output_type": "stream",
     "text": [
      "INFO:fbprophet:Disabling daily seasonality. Run prophet with daily_seasonality=True to override this.\n"
     ]
    },
    {
     "name": "stdout",
     "output_type": "stream",
     "text": [
      "El producto demoró 1.8200621604919434 Norte Antofagasta\n",
      "tiempo que lleva corriendo 8.138601092497508 Min\n"
     ]
    },
    {
     "name": "stderr",
     "output_type": "stream",
     "text": [
      "INFO:fbprophet:Disabling daily seasonality. Run prophet with daily_seasonality=True to override this.\n"
     ]
    },
    {
     "name": "stdout",
     "output_type": "stream",
     "text": [
      "El producto demoró 1.7149708271026611 Norte Antofagasta\n",
      "tiempo que lleva corriendo 8.167200620969137 Min\n"
     ]
    },
    {
     "name": "stderr",
     "output_type": "stream",
     "text": [
      "INFO:fbprophet:Disabling daily seasonality. Run prophet with daily_seasonality=True to override this.\n"
     ]
    },
    {
     "name": "stdout",
     "output_type": "stream",
     "text": [
      "El producto demoró 1.5032899379730225 Norte Antofagasta\n",
      "tiempo que lleva corriendo 8.192263789971669 Min\n"
     ]
    },
    {
     "name": "stderr",
     "output_type": "stream",
     "text": [
      "INFO:fbprophet:Disabling daily seasonality. Run prophet with daily_seasonality=True to override this.\n"
     ]
    },
    {
     "name": "stdout",
     "output_type": "stream",
     "text": [
      "El producto demoró 1.5208051204681396 Norte Antofagasta\n",
      "tiempo que lleva corriendo 8.217635564009349 Min\n"
     ]
    },
    {
     "name": "stderr",
     "output_type": "stream",
     "text": [
      "INFO:fbprophet:Disabling daily seasonality. Run prophet with daily_seasonality=True to override this.\n"
     ]
    },
    {
     "name": "stdout",
     "output_type": "stream",
     "text": [
      "El producto demoró 1.7269823551177979 Norte Antofagasta\n",
      "tiempo que lleva corriendo 8.246443621317546 Min\n"
     ]
    },
    {
     "name": "stderr",
     "output_type": "stream",
     "text": [
      "INFO:fbprophet:Disabling daily seasonality. Run prophet with daily_seasonality=True to override this.\n"
     ]
    },
    {
     "name": "stdout",
     "output_type": "stream",
     "text": [
      "El producto demoró 1.6283974647521973 Norte Antofagasta\n",
      "tiempo que lleva corriendo 8.27359191974004 Min\n"
     ]
    },
    {
     "name": "stderr",
     "output_type": "stream",
     "text": [
      "INFO:fbprophet:Disabling daily seasonality. Run prophet with daily_seasonality=True to override this.\n"
     ]
    },
    {
     "name": "stdout",
     "output_type": "stream",
     "text": [
      "El producto demoró 1.6604247093200684 Norte Antofagasta\n",
      "tiempo que lleva corriendo 8.301299023628236 Min\n"
     ]
    },
    {
     "name": "stderr",
     "output_type": "stream",
     "text": [
      "INFO:fbprophet:Disabling daily seasonality. Run prophet with daily_seasonality=True to override this.\n"
     ]
    },
    {
     "name": "stdout",
     "output_type": "stream",
     "text": [
      "El producto demoró 1.595369577407837 Norte Antofagasta\n",
      "tiempo que lleva corriendo 8.327905197938284 Min\n"
     ]
    },
    {
     "name": "stderr",
     "output_type": "stream",
     "text": [
      "INFO:fbprophet:Disabling daily seasonality. Run prophet with daily_seasonality=True to override this.\n"
     ]
    },
    {
     "name": "stdout",
     "output_type": "stream",
     "text": [
      "El producto demoró 1.6519174575805664 Norte Antofagasta\n",
      "tiempo que lleva corriendo 8.355453836917878 Min\n",
      "Arica\n"
     ]
    },
    {
     "name": "stderr",
     "output_type": "stream",
     "text": [
      "INFO:fbprophet:Disabling daily seasonality. Run prophet with daily_seasonality=True to override this.\n"
     ]
    },
    {
     "name": "stdout",
     "output_type": "stream",
     "text": [
      "El producto demoró 1.4002015590667725 Norte Arica\n",
      "tiempo que lleva corriendo 8.379024064540863 Min\n"
     ]
    },
    {
     "name": "stderr",
     "output_type": "stream",
     "text": [
      "INFO:fbprophet:Disabling daily seasonality. Run prophet with daily_seasonality=True to override this.\n"
     ]
    },
    {
     "name": "stdout",
     "output_type": "stream",
     "text": [
      "El producto demoró 1.639906883239746 Norte Arica\n",
      "tiempo que lleva corriendo 8.406380871931711 Min\n"
     ]
    },
    {
     "name": "stderr",
     "output_type": "stream",
     "text": [
      "INFO:fbprophet:Disabling daily seasonality. Run prophet with daily_seasonality=True to override this.\n"
     ]
    },
    {
     "name": "stdout",
     "output_type": "stream",
     "text": [
      "El producto demoró 1.5518317222595215 Norte Arica\n",
      "tiempo que lleva corriendo 8.432261419296264 Min\n"
     ]
    },
    {
     "name": "stderr",
     "output_type": "stream",
     "text": [
      "INFO:fbprophet:Disabling daily seasonality. Run prophet with daily_seasonality=True to override this.\n"
     ]
    },
    {
     "name": "stdout",
     "output_type": "stream",
     "text": [
      "El producto demoró 1.5643422603607178 Norte Arica\n",
      "tiempo que lleva corriendo 8.458350463708241 Min\n"
     ]
    },
    {
     "name": "stderr",
     "output_type": "stream",
     "text": [
      "INFO:fbprophet:Disabling daily seasonality. Run prophet with daily_seasonality=True to override this.\n"
     ]
    },
    {
     "name": "stdout",
     "output_type": "stream",
     "text": [
      "El producto demoró 1.4577512741088867 Norte Arica\n",
      "tiempo que lleva corriendo 8.482662999629975 Min\n"
     ]
    },
    {
     "name": "stderr",
     "output_type": "stream",
     "text": [
      "INFO:fbprophet:Disabling daily seasonality. Run prophet with daily_seasonality=True to override this.\n"
     ]
    },
    {
     "name": "stdout",
     "output_type": "stream",
     "text": [
      "El producto demoró 1.5097954273223877 Norte Arica\n",
      "tiempo que lleva corriendo 8.507842934131622 Min\n"
     ]
    },
    {
     "name": "stderr",
     "output_type": "stream",
     "text": [
      "INFO:fbprophet:Disabling daily seasonality. Run prophet with daily_seasonality=True to override this.\n"
     ]
    },
    {
     "name": "stdout",
     "output_type": "stream",
     "text": [
      "El producto demoró 1.3856892585754395 Norte Arica\n",
      "tiempo que lleva corriendo 8.530954436461132 Min\n"
     ]
    },
    {
     "name": "stderr",
     "output_type": "stream",
     "text": [
      "INFO:fbprophet:Disabling daily seasonality. Run prophet with daily_seasonality=True to override this.\n"
     ]
    },
    {
     "name": "stdout",
     "output_type": "stream",
     "text": [
      "El producto demoró 1.6319007873535156 Norte Arica\n",
      "tiempo que lleva corriendo 8.55817779302597 Min\n"
     ]
    },
    {
     "name": "stderr",
     "output_type": "stream",
     "text": [
      "INFO:fbprophet:Disabling daily seasonality. Run prophet with daily_seasonality=True to override this.\n"
     ]
    },
    {
     "name": "stdout",
     "output_type": "stream",
     "text": [
      "El producto demoró 1.7615113258361816 Norte Arica\n",
      "tiempo que lleva corriendo 8.587561349074045 Min\n"
     ]
    },
    {
     "name": "stderr",
     "output_type": "stream",
     "text": [
      "INFO:fbprophet:Disabling daily seasonality. Run prophet with daily_seasonality=True to override this.\n"
     ]
    },
    {
     "name": "stdout",
     "output_type": "stream",
     "text": [
      "El producto demoró 1.6148858070373535 Norte Arica\n",
      "tiempo que lleva corriendo 8.614492805798848 Min\n"
     ]
    },
    {
     "name": "stderr",
     "output_type": "stream",
     "text": [
      "INFO:fbprophet:Disabling daily seasonality. Run prophet with daily_seasonality=True to override this.\n"
     ]
    },
    {
     "name": "stdout",
     "output_type": "stream",
     "text": [
      "El producto demoró 1.6609251499176025 Norte Arica\n",
      "tiempo que lleva corriendo 8.642199901739756 Min\n"
     ]
    },
    {
     "name": "stderr",
     "output_type": "stream",
     "text": [
      "INFO:fbprophet:Disabling daily seasonality. Run prophet with daily_seasonality=True to override this.\n"
     ]
    },
    {
     "name": "stdout",
     "output_type": "stream",
     "text": [
      "El producto demoró 1.73899245262146 Norte Arica\n",
      "tiempo que lleva corriendo 8.671208123366037 Min\n",
      "Calama\n"
     ]
    },
    {
     "name": "stderr",
     "output_type": "stream",
     "text": [
      "INFO:fbprophet:Disabling daily seasonality. Run prophet with daily_seasonality=True to override this.\n"
     ]
    },
    {
     "name": "stdout",
     "output_type": "stream",
     "text": [
      "El producto demoró 1.3926949501037598 Norte Calama\n",
      "tiempo que lleva corriendo 8.694653248786926 Min\n"
     ]
    },
    {
     "name": "stderr",
     "output_type": "stream",
     "text": [
      "INFO:fbprophet:Disabling daily seasonality. Run prophet with daily_seasonality=True to override this.\n"
     ]
    },
    {
     "name": "stdout",
     "output_type": "stream",
     "text": [
      "El producto demoró 1.6464126110076904 Norte Calama\n",
      "tiempo que lleva corriendo 8.722118484973908 Min\n"
     ]
    },
    {
     "name": "stderr",
     "output_type": "stream",
     "text": [
      "INFO:fbprophet:Disabling daily seasonality. Run prophet with daily_seasonality=True to override this.\n"
     ]
    },
    {
     "name": "stdout",
     "output_type": "stream",
     "text": [
      "El producto demoró 1.8550915718078613 Norte Calama\n",
      "tiempo que lleva corriendo 8.753070044517518 Min\n"
     ]
    },
    {
     "name": "stderr",
     "output_type": "stream",
     "text": [
      "INFO:fbprophet:Disabling daily seasonality. Run prophet with daily_seasonality=True to override this.\n"
     ]
    },
    {
     "name": "stdout",
     "output_type": "stream",
     "text": [
      "El producto demoró 1.6063790321350098 Norte Calama\n",
      "tiempo que lleva corriendo 8.779859705766041 Min\n"
     ]
    },
    {
     "name": "stderr",
     "output_type": "stream",
     "text": [
      "INFO:fbprophet:Disabling daily seasonality. Run prophet with daily_seasonality=True to override this.\n"
     ]
    },
    {
     "name": "stdout",
     "output_type": "stream",
     "text": [
      "El producto demoró 1.576352596282959 Norte Calama\n",
      "tiempo que lleva corriendo 8.80614893436432 Min\n"
     ]
    },
    {
     "name": "stderr",
     "output_type": "stream",
     "text": [
      "INFO:fbprophet:Disabling daily seasonality. Run prophet with daily_seasonality=True to override this.\n"
     ]
    },
    {
     "name": "stdout",
     "output_type": "stream",
     "text": [
      "El producto demoró 2.2904655933380127 Norte Calama\n",
      "tiempo que lleva corriendo 8.844348378976186 Min\n"
     ]
    },
    {
     "name": "stderr",
     "output_type": "stream",
     "text": [
      "INFO:fbprophet:Disabling daily seasonality. Run prophet with daily_seasonality=True to override this.\n"
     ]
    },
    {
     "name": "stdout",
     "output_type": "stream",
     "text": [
      "El producto demoró 1.4142136573791504 Norte Calama\n",
      "tiempo que lleva corriendo 8.867943624655405 Min\n"
     ]
    },
    {
     "name": "stderr",
     "output_type": "stream",
     "text": [
      "INFO:fbprophet:Disabling daily seasonality. Run prophet with daily_seasonality=True to override this.\n"
     ]
    },
    {
     "name": "stdout",
     "output_type": "stream",
     "text": [
      "El producto demoró 1.8210628032684326 Norte Calama\n",
      "tiempo que lleva corriendo 8.898319697380066 Min\n"
     ]
    },
    {
     "name": "stderr",
     "output_type": "stream",
     "text": [
      "INFO:fbprophet:Disabling daily seasonality. Run prophet with daily_seasonality=True to override this.\n"
     ]
    },
    {
     "name": "stdout",
     "output_type": "stream",
     "text": [
      "El producto demoró 1.5898644924163818 Norte Calama\n",
      "tiempo que lleva corriendo 8.92484245300293 Min\n"
     ]
    },
    {
     "name": "stderr",
     "output_type": "stream",
     "text": [
      "INFO:fbprophet:Disabling daily seasonality. Run prophet with daily_seasonality=True to override this.\n"
     ]
    },
    {
     "name": "stdout",
     "output_type": "stream",
     "text": [
      "El producto demoró 1.5653436183929443 Norte Calama\n",
      "tiempo que lleva corriendo 8.950956519444784 Min\n"
     ]
    },
    {
     "name": "stderr",
     "output_type": "stream",
     "text": [
      "INFO:fbprophet:Disabling daily seasonality. Run prophet with daily_seasonality=True to override this.\n"
     ]
    },
    {
     "name": "stdout",
     "output_type": "stream",
     "text": [
      "El producto demoró 1.5938677787780762 Norte Calama\n",
      "tiempo que lleva corriendo 8.977537675698597 Min\n"
     ]
    },
    {
     "name": "stderr",
     "output_type": "stream",
     "text": [
      "INFO:fbprophet:Disabling daily seasonality. Run prophet with daily_seasonality=True to override this.\n"
     ]
    },
    {
     "name": "stdout",
     "output_type": "stream",
     "text": [
      "El producto demoró 1.584360122680664 Norte Calama\n",
      "tiempo que lleva corriendo 9.003960347175598 Min\n",
      "Iquique\n"
     ]
    },
    {
     "name": "stderr",
     "output_type": "stream",
     "text": [
      "INFO:fbprophet:Disabling daily seasonality. Run prophet with daily_seasonality=True to override this.\n"
     ]
    },
    {
     "name": "stdout",
     "output_type": "stream",
     "text": [
      "El producto demoró 2.369032621383667 Norte Iquique\n",
      "tiempo que lleva corriendo 9.043661077817282 Min\n"
     ]
    },
    {
     "name": "stderr",
     "output_type": "stream",
     "text": [
      "INFO:fbprophet:Disabling daily seasonality. Run prophet with daily_seasonality=True to override this.\n"
     ]
    },
    {
     "name": "stdout",
     "output_type": "stream",
     "text": [
      "El producto demoró 1.6569221019744873 Norte Iquique\n",
      "tiempo que lleva corriendo 9.071293131510417 Min\n"
     ]
    },
    {
     "name": "stderr",
     "output_type": "stream",
     "text": [
      "INFO:fbprophet:Disabling daily seasonality. Run prophet with daily_seasonality=True to override this.\n"
     ]
    },
    {
     "name": "stdout",
     "output_type": "stream",
     "text": [
      "El producto demoró 1.5718495845794678 Norte Iquique\n",
      "tiempo que lleva corriendo 9.097515630722047 Min\n"
     ]
    },
    {
     "name": "stderr",
     "output_type": "stream",
     "text": [
      "INFO:fbprophet:Disabling daily seasonality. Run prophet with daily_seasonality=True to override this.\n"
     ]
    },
    {
     "name": "stdout",
     "output_type": "stream",
     "text": [
      "El producto demoró 1.5683460235595703 Norte Iquique\n",
      "tiempo que lleva corriendo 9.12367974917094 Min\n"
     ]
    },
    {
     "name": "stderr",
     "output_type": "stream",
     "text": [
      "INFO:fbprophet:Disabling daily seasonality. Run prophet with daily_seasonality=True to override this.\n"
     ]
    },
    {
     "name": "stdout",
     "output_type": "stream",
     "text": [
      "El producto demoró 1.5288121700286865 Norte Iquique\n",
      "tiempo que lleva corriendo 9.14918497800827 Min\n"
     ]
    },
    {
     "name": "stderr",
     "output_type": "stream",
     "text": [
      "INFO:fbprophet:Disabling daily seasonality. Run prophet with daily_seasonality=True to override this.\n"
     ]
    },
    {
     "name": "stdout",
     "output_type": "stream",
     "text": [
      "El producto demoró 1.5453264713287354 Norte Iquique\n",
      "tiempo que lleva corriendo 9.174965429306031 Min\n"
     ]
    },
    {
     "name": "stderr",
     "output_type": "stream",
     "text": [
      "INFO:fbprophet:Disabling daily seasonality. Run prophet with daily_seasonality=True to override this.\n"
     ]
    },
    {
     "name": "stdout",
     "output_type": "stream",
     "text": [
      "El producto demoró 1.3626694679260254 Norte Iquique\n",
      "tiempo que lleva corriendo 9.197693260510762 Min\n"
     ]
    },
    {
     "name": "stderr",
     "output_type": "stream",
     "text": [
      "INFO:fbprophet:Disabling daily seasonality. Run prophet with daily_seasonality=True to override this.\n"
     ]
    },
    {
     "name": "stdout",
     "output_type": "stream",
     "text": [
      "El producto demoró 1.7550063133239746 Norte Iquique\n",
      "tiempo que lleva corriendo 9.226968383789062 Min\n"
     ]
    },
    {
     "name": "stderr",
     "output_type": "stream",
     "text": [
      "INFO:fbprophet:Disabling daily seasonality. Run prophet with daily_seasonality=True to override this.\n"
     ]
    },
    {
     "name": "stdout",
     "output_type": "stream",
     "text": [
      "El producto demoró 1.8445830345153809 Norte Iquique\n",
      "tiempo que lleva corriendo 9.257736456394195 Min\n"
     ]
    },
    {
     "name": "stderr",
     "output_type": "stream",
     "text": [
      "INFO:fbprophet:Disabling daily seasonality. Run prophet with daily_seasonality=True to override this.\n"
     ]
    },
    {
     "name": "stdout",
     "output_type": "stream",
     "text": [
      "El producto demoró 1.5638420581817627 Norte Iquique\n",
      "tiempo que lleva corriendo 9.283825512727102 Min\n"
     ]
    },
    {
     "name": "stderr",
     "output_type": "stream",
     "text": [
      "INFO:fbprophet:Disabling daily seasonality. Run prophet with daily_seasonality=True to override this.\n"
     ]
    },
    {
     "name": "stdout",
     "output_type": "stream",
     "text": [
      "El producto demoró 1.773021936416626 Norte Iquique\n",
      "tiempo que lleva corriendo 9.313400888442994 Min\n"
     ]
    },
    {
     "name": "stderr",
     "output_type": "stream",
     "text": [
      "INFO:fbprophet:Disabling daily seasonality. Run prophet with daily_seasonality=True to override this.\n"
     ]
    },
    {
     "name": "stdout",
     "output_type": "stream",
     "text": [
      "El producto demoró 1.7199785709381104 Norte Iquique\n",
      "tiempo que lleva corriendo 9.34208383957545 Min\n",
      "Copiapo\n"
     ]
    },
    {
     "name": "stderr",
     "output_type": "stream",
     "text": [
      "INFO:fbprophet:Disabling daily seasonality. Run prophet with daily_seasonality=True to override this.\n"
     ]
    },
    {
     "name": "stdout",
     "output_type": "stream",
     "text": [
      "El producto demoró 1.5728497505187988 Norte Copiapo\n",
      "tiempo que lleva corriendo 9.368531529108683 Min\n"
     ]
    },
    {
     "name": "stderr",
     "output_type": "stream",
     "text": [
      "INFO:fbprophet:Disabling daily seasonality. Run prophet with daily_seasonality=True to override this.\n"
     ]
    },
    {
     "name": "stdout",
     "output_type": "stream",
     "text": [
      "El producto demoró 2.0187325477600098 Norte Copiapo\n",
      "tiempo que lleva corriendo 9.402202089627584 Min\n"
     ]
    },
    {
     "name": "stderr",
     "output_type": "stream",
     "text": [
      "INFO:fbprophet:Disabling daily seasonality. Run prophet with daily_seasonality=True to override this.\n"
     ]
    },
    {
     "name": "stdout",
     "output_type": "stream",
     "text": [
      "El producto demoró 1.6664302349090576 Norte Copiapo\n",
      "tiempo que lleva corriendo 9.429984259605408 Min\n"
     ]
    },
    {
     "name": "stderr",
     "output_type": "stream",
     "text": [
      "INFO:fbprophet:Disabling daily seasonality. Run prophet with daily_seasonality=True to override this.\n"
     ]
    },
    {
     "name": "stdout",
     "output_type": "stream",
     "text": [
      "El producto demoró 1.798543930053711 Norte Copiapo\n",
      "tiempo que lleva corriendo 9.45997667312622 Min\n"
     ]
    },
    {
     "name": "stderr",
     "output_type": "stream",
     "text": [
      "INFO:fbprophet:Disabling daily seasonality. Run prophet with daily_seasonality=True to override this.\n"
     ]
    },
    {
     "name": "stdout",
     "output_type": "stream",
     "text": [
      "El producto demoró 1.6704339981079102 Norte Copiapo\n",
      "tiempo que lleva corriendo 9.487833909193675 Min\n"
     ]
    },
    {
     "name": "stderr",
     "output_type": "stream",
     "text": [
      "INFO:fbprophet:Disabling daily seasonality. Run prophet with daily_seasonality=True to override this.\n"
     ]
    },
    {
     "name": "stdout",
     "output_type": "stream",
     "text": [
      "El producto demoró 1.633401870727539 Norte Copiapo\n",
      "tiempo que lleva corriendo 9.515073951085409 Min\n"
     ]
    },
    {
     "name": "stderr",
     "output_type": "stream",
     "text": [
      "INFO:fbprophet:Disabling daily seasonality. Run prophet with daily_seasonality=True to override this.\n"
     ]
    },
    {
     "name": "stdout",
     "output_type": "stream",
     "text": [
      "El producto demoró 1.4097089767456055 Norte Copiapo\n",
      "tiempo que lleva corriendo 9.538585801919302 Min\n"
     ]
    },
    {
     "name": "stderr",
     "output_type": "stream",
     "text": [
      "INFO:fbprophet:Disabling daily seasonality. Run prophet with daily_seasonality=True to override this.\n"
     ]
    },
    {
     "name": "stdout",
     "output_type": "stream",
     "text": [
      "El producto demoró 1.7670166492462158 Norte Copiapo\n",
      "tiempo que lleva corriendo 9.568052744865417 Min\n"
     ]
    },
    {
     "name": "stderr",
     "output_type": "stream",
     "text": [
      "INFO:fbprophet:Disabling daily seasonality. Run prophet with daily_seasonality=True to override this.\n"
     ]
    },
    {
     "name": "stdout",
     "output_type": "stream",
     "text": [
      "El producto demoró 1.6399073600769043 Norte Copiapo\n",
      "tiempo que lleva corriendo 9.595409556229908 Min\n"
     ]
    },
    {
     "name": "stderr",
     "output_type": "stream",
     "text": [
      "INFO:fbprophet:Disabling daily seasonality. Run prophet with daily_seasonality=True to override this.\n"
     ]
    },
    {
     "name": "stdout",
     "output_type": "stream",
     "text": [
      "El producto demoró 1.6293985843658447 Norte Copiapo\n",
      "tiempo que lleva corriendo 9.622582884629567 Min\n"
     ]
    },
    {
     "name": "stderr",
     "output_type": "stream",
     "text": [
      "INFO:fbprophet:Disabling daily seasonality. Run prophet with daily_seasonality=True to override this.\n"
     ]
    },
    {
     "name": "stdout",
     "output_type": "stream",
     "text": [
      "El producto demoró 1.9116406440734863 Norte Copiapo\n",
      "tiempo que lleva corriendo 9.654468576113382 Min\n"
     ]
    },
    {
     "name": "stderr",
     "output_type": "stream",
     "text": [
      "INFO:fbprophet:Disabling daily seasonality. Run prophet with daily_seasonality=True to override this.\n"
     ]
    },
    {
     "name": "stdout",
     "output_type": "stream",
     "text": [
      "El producto demoró 1.724980115890503 Norte Copiapo\n",
      "tiempo que lleva corriendo 9.683243262767792 Min\n",
      "Venta Directa\n",
      "VD FoodService\n"
     ]
    },
    {
     "name": "stderr",
     "output_type": "stream",
     "text": [
      "INFO:fbprophet:Disabling daily seasonality. Run prophet with daily_seasonality=True to override this.\n"
     ]
    },
    {
     "name": "stdout",
     "output_type": "stream",
     "text": [
      "El producto demoró 1.7389919757843018 Venta Directa VD FoodService\n",
      "tiempo que lleva corriendo 9.714520112673442 Min\n"
     ]
    },
    {
     "name": "stderr",
     "output_type": "stream",
     "text": [
      "INFO:fbprophet:Disabling daily seasonality. Run prophet with daily_seasonality=True to override this.\n"
     ]
    },
    {
     "name": "stdout",
     "output_type": "stream",
     "text": [
      "El producto demoró 1.5568361282348633 Venta Directa VD FoodService\n",
      "tiempo que lleva corriendo 9.740492403507233 Min\n"
     ]
    },
    {
     "name": "stderr",
     "output_type": "stream",
     "text": [
      "INFO:fbprophet:Disabling daily seasonality. Run prophet with daily_seasonality=True to override this.\n"
     ]
    },
    {
     "name": "stdout",
     "output_type": "stream",
     "text": [
      "El producto demoró 2.317488193511963 Venta Directa VD FoodService\n",
      "tiempo que lleva corriendo 9.779125547409057 Min\n",
      "El producto demoró 1.5713486671447754 Venta Directa VD FoodService\n",
      "tiempo que lleva corriendo 9.805339713891348 Min\n",
      "tiempo bloque completo 9.80534805059433 Min\n"
     ]
    }
   ],
   "source": [
    "df2 = pd.DataFrame(columns=['ds', 'yhat_lower', 'yhat_upper', 'yhat', 'Material','Oficina de Ventas Unifica', 'Zona de ventas.1'])\n",
    "\n",
    "Listado_de_zonas=data['Zona de ventas.1'].unique()\n",
    "\n",
    "start_time = time()\n",
    "\n",
    "\n",
    "\n",
    "for Z in Listado_de_zonas:\n",
    "#Z='Santiago'\n",
    "    print(Z)\n",
    "    dfz=Df_ubic(data,'Zona de ventas.1',Z)\n",
    "\n",
    "    Listado_de_Sucursales=dfz[dfz['Día natural'] \n",
    "                              >datetime.date(2021, 6, 2)][\n",
    "        'Oficina de Ventas Unifica'].unique()\n",
    "\n",
    "    for y in Listado_de_Sucursales:\n",
    "        #y='Huechuraba'\n",
    "        print(y)\n",
    "        dfy=Df_ubic(dfz,'Oficina de Ventas Unifica',y)\n",
    "\n",
    "\n",
    "        Listado_de_Materiales=dfy[dfy.Año==2021].Material.unique()\n",
    "\n",
    "        for m in Listado_de_Materiales:\n",
    "            #m=Listado_de_Materiales[0]\n",
    "            material_time=time()\n",
    "            #print(y,m)\n",
    "\n",
    "\n",
    "            dfm=Df_ubic(dfy,\n",
    "                        'Material',m).groupby('Día natural'\n",
    "                                                 ).sum().reset_index()[['Día natural',y_col]]\n",
    "\n",
    "            dfmPred=Predict_sem(dfm,8)[['ds', 'yhat_lower',\n",
    "                                        'yhat_upper', 'yhat']].tail(8)\n",
    "            \n",
    "            dfmPred['Material']=[m for i in range(dfmPred.shape[0])]\n",
    "            dfmPred['Oficina de Ventas Unifica']=[y for i in range(dfmPred.shape[0])]\n",
    "            dfmPred['Zona de ventas.1']=[Z for i in range(dfmPred.shape[0])]\n",
    "            dfmPred=dfmPred.reset_index()\n",
    "            dfmPred.pop('index')\n",
    "            df2=pd.concat([df2, dfmPred])\n",
    "            print('El producto demoró',(time() - material_time),Z,y)\n",
    "            print('tiempo que lleva corriendo',(time() - start_time)/60, 'Min')\n",
    "    \n",
    "print('tiempo bloque completo',(time() - start_time)/60, 'Min')\n"
   ]
  },
  {
   "cell_type": "code",
   "execution_count": 28,
   "id": "a33f0b26",
   "metadata": {},
   "outputs": [],
   "source": [
    "df2.rename(columns = {'ds': 'Día natural', 'yhat': 'Predicción central',\n",
    "                                'yhat_upper': 'Predicción Superior',\n",
    "                                'yhat_lower': 'Predicción Inferior'}, inplace = True)"
   ]
  },
  {
   "cell_type": "code",
   "execution_count": 43,
   "id": "36af732c",
   "metadata": {},
   "outputs": [
    {
     "data": {
      "text/html": [
       "<div>\n",
       "<style scoped>\n",
       "    .dataframe tbody tr th:only-of-type {\n",
       "        vertical-align: middle;\n",
       "    }\n",
       "\n",
       "    .dataframe tbody tr th {\n",
       "        vertical-align: top;\n",
       "    }\n",
       "\n",
       "    .dataframe thead th {\n",
       "        text-align: right;\n",
       "    }\n",
       "</style>\n",
       "<table border=\"1\" class=\"dataframe\">\n",
       "  <thead>\n",
       "    <tr style=\"text-align: right;\">\n",
       "      <th></th>\n",
       "      <th>Día natural</th>\n",
       "      <th>Predicción Inferior</th>\n",
       "      <th>Predicción Superior</th>\n",
       "      <th>Predicción central</th>\n",
       "      <th>Material</th>\n",
       "      <th>Oficina de Ventas Unifica</th>\n",
       "      <th>Zona de ventas.1</th>\n",
       "    </tr>\n",
       "  </thead>\n",
       "  <tbody>\n",
       "    <tr>\n",
       "      <th>0</th>\n",
       "      <td>2021-06-12</td>\n",
       "      <td>47.622361</td>\n",
       "      <td>1604.500692</td>\n",
       "      <td>856.754470</td>\n",
       "      <td>1020253</td>\n",
       "      <td>Huechuraba</td>\n",
       "      <td>Santiago</td>\n",
       "    </tr>\n",
       "    <tr>\n",
       "      <th>1</th>\n",
       "      <td>2021-06-13</td>\n",
       "      <td>-226.895459</td>\n",
       "      <td>1329.525243</td>\n",
       "      <td>582.661490</td>\n",
       "      <td>1020253</td>\n",
       "      <td>Huechuraba</td>\n",
       "      <td>Santiago</td>\n",
       "    </tr>\n",
       "    <tr>\n",
       "      <th>2</th>\n",
       "      <td>2021-06-14</td>\n",
       "      <td>-264.371925</td>\n",
       "      <td>1304.898453</td>\n",
       "      <td>502.017351</td>\n",
       "      <td>1020253</td>\n",
       "      <td>Huechuraba</td>\n",
       "      <td>Santiago</td>\n",
       "    </tr>\n",
       "    <tr>\n",
       "      <th>3</th>\n",
       "      <td>2021-06-15</td>\n",
       "      <td>-172.240421</td>\n",
       "      <td>1444.923201</td>\n",
       "      <td>658.550101</td>\n",
       "      <td>1020253</td>\n",
       "      <td>Huechuraba</td>\n",
       "      <td>Santiago</td>\n",
       "    </tr>\n",
       "    <tr>\n",
       "      <th>4</th>\n",
       "      <td>2021-06-16</td>\n",
       "      <td>20.990112</td>\n",
       "      <td>1564.555633</td>\n",
       "      <td>788.136734</td>\n",
       "      <td>1020253</td>\n",
       "      <td>Huechuraba</td>\n",
       "      <td>Santiago</td>\n",
       "    </tr>\n",
       "  </tbody>\n",
       "</table>\n",
       "</div>"
      ],
      "text/plain": [
       "  Día natural  Predicción Inferior  Predicción Superior  Predicción central  \\\n",
       "0  2021-06-12            47.622361          1604.500692          856.754470   \n",
       "1  2021-06-13          -226.895459          1329.525243          582.661490   \n",
       "2  2021-06-14          -264.371925          1304.898453          502.017351   \n",
       "3  2021-06-15          -172.240421          1444.923201          658.550101   \n",
       "4  2021-06-16            20.990112          1564.555633          788.136734   \n",
       "\n",
       "  Material Oficina de Ventas Unifica Zona de ventas.1  \n",
       "0  1020253                Huechuraba         Santiago  \n",
       "1  1020253                Huechuraba         Santiago  \n",
       "2  1020253                Huechuraba         Santiago  \n",
       "3  1020253                Huechuraba         Santiago  \n",
       "4  1020253                Huechuraba         Santiago  "
      ]
     },
     "execution_count": 43,
     "metadata": {},
     "output_type": "execute_result"
    }
   ],
   "source": [
    "df2.head()"
   ]
  },
  {
   "cell_type": "markdown",
   "id": "0def2a03",
   "metadata": {},
   "source": [
    "### CSV SAVE "
   ]
  },
  {
   "cell_type": "code",
   "execution_count": 44,
   "id": "1600c92f",
   "metadata": {},
   "outputs": [
    {
     "name": "stdout",
     "output_type": "stream",
     "text": [
      "2021-02-05\n",
      "2021-06-19\n"
     ]
    }
   ],
   "source": [
    "min_time=df2['Día natural'].min()\n",
    "min_time=str(min_time).split(' ')[0]\n",
    "print(min_time)\n",
    "max_time=df2['Día natural'].max()\n",
    "max_time=str(max_time).split(' ')[0]\n",
    "print(max_time)"
   ]
  },
  {
   "cell_type": "code",
   "execution_count": 45,
   "id": "9123f1dd",
   "metadata": {},
   "outputs": [],
   "source": [
    "df2.to_csv('Data '+min_time+' Predicción CL ' +max_time+ 'Zona, Sucursal.csv', index=False)\n"
   ]
  },
  {
   "cell_type": "markdown",
   "id": "12766862",
   "metadata": {
    "heading_collapsed": true
   },
   "source": [
    "### Exploracion del error "
   ]
  },
  {
   "cell_type": "code",
   "execution_count": 48,
   "id": "29207a15",
   "metadata": {
    "hidden": true
   },
   "outputs": [
    {
     "data": {
      "text/plain": [
       "'Venta Directa'"
      ]
     },
     "execution_count": 48,
     "metadata": {},
     "output_type": "execute_result"
    }
   ],
   "source": [
    "Z"
   ]
  },
  {
   "cell_type": "code",
   "execution_count": 49,
   "id": "a62c6035",
   "metadata": {
    "hidden": true
   },
   "outputs": [
    {
     "data": {
      "text/plain": [
       "'VD FoodService'"
      ]
     },
     "execution_count": 49,
     "metadata": {},
     "output_type": "execute_result"
    }
   ],
   "source": [
    "y"
   ]
  },
  {
   "cell_type": "code",
   "execution_count": 50,
   "id": "80a62fe8",
   "metadata": {
    "hidden": true
   },
   "outputs": [
    {
     "data": {
      "text/plain": [
       "'1010048'"
      ]
     },
     "execution_count": 50,
     "metadata": {},
     "output_type": "execute_result"
    }
   ],
   "source": [
    "m"
   ]
  },
  {
   "cell_type": "code",
   "execution_count": 51,
   "id": "5b9780bf",
   "metadata": {
    "hidden": true
   },
   "outputs": [
    {
     "data": {
      "text/plain": [
       "array(['1020253', '1010267', '1010078', '1010048'], dtype=object)"
      ]
     },
     "execution_count": 51,
     "metadata": {},
     "output_type": "execute_result"
    }
   ],
   "source": [
    "dfy['Material'].unique()"
   ]
  },
  {
   "cell_type": "code",
   "execution_count": 52,
   "id": "1b040eea",
   "metadata": {
    "hidden": true
   },
   "outputs": [
    {
     "data": {
      "text/plain": [
       "array(['1020253', '1010267', '1010078', '1010048'], dtype=object)"
      ]
     },
     "execution_count": 52,
     "metadata": {},
     "output_type": "execute_result"
    }
   ],
   "source": [
    "dfy[dfy.Año==2021]['Material'].unique()"
   ]
  },
  {
   "cell_type": "code",
   "execution_count": 53,
   "id": "e74807c8",
   "metadata": {
    "hidden": true
   },
   "outputs": [
    {
     "data": {
      "text/html": [
       "<div>\n",
       "<style scoped>\n",
       "    .dataframe tbody tr th:only-of-type {\n",
       "        vertical-align: middle;\n",
       "    }\n",
       "\n",
       "    .dataframe tbody tr th {\n",
       "        vertical-align: top;\n",
       "    }\n",
       "\n",
       "    .dataframe thead th {\n",
       "        text-align: right;\n",
       "    }\n",
       "</style>\n",
       "<table border=\"1\" class=\"dataframe\">\n",
       "  <thead>\n",
       "    <tr style=\"text-align: right;\">\n",
       "      <th></th>\n",
       "      <th>Sector</th>\n",
       "      <th>Tipo de cliente</th>\n",
       "      <th>Zona de ventas</th>\n",
       "      <th>Zona de ventas.1</th>\n",
       "      <th>Oficina de Ventas Unifica</th>\n",
       "      <th>Oficina de Ventas Unifica.1</th>\n",
       "      <th>Mes</th>\n",
       "      <th>Año natural/Semana</th>\n",
       "      <th>Día natural</th>\n",
       "      <th>Día de la semana</th>\n",
       "      <th>Kilos Venta KG</th>\n",
       "      <th>Venta Neta</th>\n",
       "      <th>Precio Promedio</th>\n",
       "      <th>Unidad Venta</th>\n",
       "      <th>Unidad Precio</th>\n",
       "      <th>Semana</th>\n",
       "      <th>Año</th>\n",
       "    </tr>\n",
       "    <tr>\n",
       "      <th>Material</th>\n",
       "      <th></th>\n",
       "      <th></th>\n",
       "      <th></th>\n",
       "      <th></th>\n",
       "      <th></th>\n",
       "      <th></th>\n",
       "      <th></th>\n",
       "      <th></th>\n",
       "      <th></th>\n",
       "      <th></th>\n",
       "      <th></th>\n",
       "      <th></th>\n",
       "      <th></th>\n",
       "      <th></th>\n",
       "      <th></th>\n",
       "      <th></th>\n",
       "      <th></th>\n",
       "    </tr>\n",
       "  </thead>\n",
       "  <tbody>\n",
       "    <tr>\n",
       "      <th>1010048</th>\n",
       "      <td>28</td>\n",
       "      <td>28</td>\n",
       "      <td>28</td>\n",
       "      <td>28</td>\n",
       "      <td>28</td>\n",
       "      <td>28</td>\n",
       "      <td>28</td>\n",
       "      <td>28</td>\n",
       "      <td>28</td>\n",
       "      <td>28</td>\n",
       "      <td>28</td>\n",
       "      <td>28</td>\n",
       "      <td>28</td>\n",
       "      <td>28</td>\n",
       "      <td>28</td>\n",
       "      <td>28</td>\n",
       "      <td>28</td>\n",
       "    </tr>\n",
       "    <tr>\n",
       "      <th>1010078</th>\n",
       "      <td>3</td>\n",
       "      <td>3</td>\n",
       "      <td>3</td>\n",
       "      <td>3</td>\n",
       "      <td>3</td>\n",
       "      <td>3</td>\n",
       "      <td>3</td>\n",
       "      <td>3</td>\n",
       "      <td>3</td>\n",
       "      <td>3</td>\n",
       "      <td>3</td>\n",
       "      <td>3</td>\n",
       "      <td>3</td>\n",
       "      <td>3</td>\n",
       "      <td>3</td>\n",
       "      <td>3</td>\n",
       "      <td>3</td>\n",
       "    </tr>\n",
       "    <tr>\n",
       "      <th>1010267</th>\n",
       "      <td>62</td>\n",
       "      <td>62</td>\n",
       "      <td>62</td>\n",
       "      <td>62</td>\n",
       "      <td>62</td>\n",
       "      <td>62</td>\n",
       "      <td>62</td>\n",
       "      <td>62</td>\n",
       "      <td>62</td>\n",
       "      <td>62</td>\n",
       "      <td>62</td>\n",
       "      <td>62</td>\n",
       "      <td>62</td>\n",
       "      <td>62</td>\n",
       "      <td>62</td>\n",
       "      <td>62</td>\n",
       "      <td>62</td>\n",
       "    </tr>\n",
       "    <tr>\n",
       "      <th>1020253</th>\n",
       "      <td>20</td>\n",
       "      <td>20</td>\n",
       "      <td>20</td>\n",
       "      <td>20</td>\n",
       "      <td>20</td>\n",
       "      <td>20</td>\n",
       "      <td>20</td>\n",
       "      <td>20</td>\n",
       "      <td>20</td>\n",
       "      <td>20</td>\n",
       "      <td>20</td>\n",
       "      <td>20</td>\n",
       "      <td>20</td>\n",
       "      <td>20</td>\n",
       "      <td>20</td>\n",
       "      <td>20</td>\n",
       "      <td>20</td>\n",
       "    </tr>\n",
       "  </tbody>\n",
       "</table>\n",
       "</div>"
      ],
      "text/plain": [
       "          Sector  Tipo de cliente  Zona de ventas  Zona de ventas.1  \\\n",
       "Material                                                              \n",
       "1010048       28               28              28                28   \n",
       "1010078        3                3               3                 3   \n",
       "1010267       62               62              62                62   \n",
       "1020253       20               20              20                20   \n",
       "\n",
       "          Oficina de Ventas Unifica  Oficina de Ventas Unifica.1  Mes  \\\n",
       "Material                                                                \n",
       "1010048                          28                           28   28   \n",
       "1010078                           3                            3    3   \n",
       "1010267                          62                           62   62   \n",
       "1020253                          20                           20   20   \n",
       "\n",
       "          Año natural/Semana  Día natural  Día de la semana  Kilos Venta KG  \\\n",
       "Material                                                                      \n",
       "1010048                   28           28                28              28   \n",
       "1010078                    3            3                 3               3   \n",
       "1010267                   62           62                62              62   \n",
       "1020253                   20           20                20              20   \n",
       "\n",
       "          Venta Neta  Precio Promedio  Unidad Venta  Unidad Precio  Semana  \\\n",
       "Material                                                                     \n",
       "1010048           28               28            28             28      28   \n",
       "1010078            3                3             3              3       3   \n",
       "1010267           62               62            62             62      62   \n",
       "1020253           20               20            20             20      20   \n",
       "\n",
       "          Año  \n",
       "Material       \n",
       "1010048    28  \n",
       "1010078     3  \n",
       "1010267    62  \n",
       "1020253    20  "
      ]
     },
     "execution_count": 53,
     "metadata": {},
     "output_type": "execute_result"
    }
   ],
   "source": [
    "dfy[dfy.Año==2021].groupby('Material').count()"
   ]
  },
  {
   "cell_type": "code",
   "execution_count": 54,
   "id": "e34931ea",
   "metadata": {
    "hidden": true
   },
   "outputs": [
    {
     "data": {
      "text/html": [
       "<div>\n",
       "<style scoped>\n",
       "    .dataframe tbody tr th:only-of-type {\n",
       "        vertical-align: middle;\n",
       "    }\n",
       "\n",
       "    .dataframe tbody tr th {\n",
       "        vertical-align: top;\n",
       "    }\n",
       "\n",
       "    .dataframe thead th {\n",
       "        text-align: right;\n",
       "    }\n",
       "</style>\n",
       "<table border=\"1\" class=\"dataframe\">\n",
       "  <thead>\n",
       "    <tr style=\"text-align: right;\">\n",
       "      <th></th>\n",
       "      <th>Sector</th>\n",
       "      <th>Tipo de cliente</th>\n",
       "      <th>Zona de ventas</th>\n",
       "      <th>Zona de ventas.1</th>\n",
       "      <th>Oficina de Ventas Unifica</th>\n",
       "      <th>Oficina de Ventas Unifica.1</th>\n",
       "      <th>Mes</th>\n",
       "      <th>Año natural/Semana</th>\n",
       "      <th>Día natural</th>\n",
       "      <th>Día de la semana</th>\n",
       "      <th>Kilos Venta KG</th>\n",
       "      <th>Venta Neta</th>\n",
       "      <th>Precio Promedio</th>\n",
       "      <th>Unidad Venta</th>\n",
       "      <th>Unidad Precio</th>\n",
       "      <th>Semana</th>\n",
       "      <th>Año</th>\n",
       "    </tr>\n",
       "    <tr>\n",
       "      <th>Material</th>\n",
       "      <th></th>\n",
       "      <th></th>\n",
       "      <th></th>\n",
       "      <th></th>\n",
       "      <th></th>\n",
       "      <th></th>\n",
       "      <th></th>\n",
       "      <th></th>\n",
       "      <th></th>\n",
       "      <th></th>\n",
       "      <th></th>\n",
       "      <th></th>\n",
       "      <th></th>\n",
       "      <th></th>\n",
       "      <th></th>\n",
       "      <th></th>\n",
       "      <th></th>\n",
       "    </tr>\n",
       "  </thead>\n",
       "  <tbody>\n",
       "    <tr>\n",
       "      <th>1010048</th>\n",
       "      <td>270</td>\n",
       "      <td>270</td>\n",
       "      <td>270</td>\n",
       "      <td>270</td>\n",
       "      <td>270</td>\n",
       "      <td>270</td>\n",
       "      <td>270</td>\n",
       "      <td>270</td>\n",
       "      <td>270</td>\n",
       "      <td>270</td>\n",
       "      <td>270</td>\n",
       "      <td>270</td>\n",
       "      <td>270</td>\n",
       "      <td>270</td>\n",
       "      <td>270</td>\n",
       "      <td>270</td>\n",
       "      <td>270</td>\n",
       "    </tr>\n",
       "    <tr>\n",
       "      <th>1010078</th>\n",
       "      <td>54</td>\n",
       "      <td>54</td>\n",
       "      <td>54</td>\n",
       "      <td>54</td>\n",
       "      <td>54</td>\n",
       "      <td>54</td>\n",
       "      <td>54</td>\n",
       "      <td>54</td>\n",
       "      <td>54</td>\n",
       "      <td>54</td>\n",
       "      <td>54</td>\n",
       "      <td>54</td>\n",
       "      <td>54</td>\n",
       "      <td>54</td>\n",
       "      <td>54</td>\n",
       "      <td>54</td>\n",
       "      <td>54</td>\n",
       "    </tr>\n",
       "    <tr>\n",
       "      <th>1010267</th>\n",
       "      <td>410</td>\n",
       "      <td>410</td>\n",
       "      <td>410</td>\n",
       "      <td>410</td>\n",
       "      <td>410</td>\n",
       "      <td>410</td>\n",
       "      <td>410</td>\n",
       "      <td>410</td>\n",
       "      <td>410</td>\n",
       "      <td>410</td>\n",
       "      <td>410</td>\n",
       "      <td>410</td>\n",
       "      <td>410</td>\n",
       "      <td>410</td>\n",
       "      <td>410</td>\n",
       "      <td>410</td>\n",
       "      <td>410</td>\n",
       "    </tr>\n",
       "    <tr>\n",
       "      <th>1020253</th>\n",
       "      <td>36</td>\n",
       "      <td>36</td>\n",
       "      <td>36</td>\n",
       "      <td>36</td>\n",
       "      <td>36</td>\n",
       "      <td>36</td>\n",
       "      <td>36</td>\n",
       "      <td>36</td>\n",
       "      <td>36</td>\n",
       "      <td>36</td>\n",
       "      <td>36</td>\n",
       "      <td>36</td>\n",
       "      <td>36</td>\n",
       "      <td>36</td>\n",
       "      <td>36</td>\n",
       "      <td>36</td>\n",
       "      <td>36</td>\n",
       "    </tr>\n",
       "  </tbody>\n",
       "</table>\n",
       "</div>"
      ],
      "text/plain": [
       "          Sector  Tipo de cliente  Zona de ventas  Zona de ventas.1  \\\n",
       "Material                                                              \n",
       "1010048      270              270             270               270   \n",
       "1010078       54               54              54                54   \n",
       "1010267      410              410             410               410   \n",
       "1020253       36               36              36                36   \n",
       "\n",
       "          Oficina de Ventas Unifica  Oficina de Ventas Unifica.1  Mes  \\\n",
       "Material                                                                \n",
       "1010048                         270                          270  270   \n",
       "1010078                          54                           54   54   \n",
       "1010267                         410                          410  410   \n",
       "1020253                          36                           36   36   \n",
       "\n",
       "          Año natural/Semana  Día natural  Día de la semana  Kilos Venta KG  \\\n",
       "Material                                                                      \n",
       "1010048                  270          270               270             270   \n",
       "1010078                   54           54                54              54   \n",
       "1010267                  410          410               410             410   \n",
       "1020253                   36           36                36              36   \n",
       "\n",
       "          Venta Neta  Precio Promedio  Unidad Venta  Unidad Precio  Semana  \\\n",
       "Material                                                                     \n",
       "1010048          270              270           270            270     270   \n",
       "1010078           54               54            54             54      54   \n",
       "1010267          410              410           410            410     410   \n",
       "1020253           36               36            36             36      36   \n",
       "\n",
       "          Año  \n",
       "Material       \n",
       "1010048   270  \n",
       "1010078    54  \n",
       "1010267   410  \n",
       "1020253    36  "
      ]
     },
     "execution_count": 54,
     "metadata": {},
     "output_type": "execute_result"
    }
   ],
   "source": [
    "dfy.groupby('Material').count()"
   ]
  },
  {
   "cell_type": "code",
   "execution_count": 55,
   "id": "6ec36613",
   "metadata": {
    "hidden": true
   },
   "outputs": [],
   "source": [
    "dfy_21=dfy[dfy.Año==2021]"
   ]
  },
  {
   "cell_type": "code",
   "execution_count": 56,
   "id": "fc032579",
   "metadata": {
    "hidden": true,
    "scrolled": false
   },
   "outputs": [
    {
     "data": {
      "text/html": [
       "<div>\n",
       "<style scoped>\n",
       "    .dataframe tbody tr th:only-of-type {\n",
       "        vertical-align: middle;\n",
       "    }\n",
       "\n",
       "    .dataframe tbody tr th {\n",
       "        vertical-align: top;\n",
       "    }\n",
       "\n",
       "    .dataframe thead th {\n",
       "        text-align: right;\n",
       "    }\n",
       "</style>\n",
       "<table border=\"1\" class=\"dataframe\">\n",
       "  <thead>\n",
       "    <tr style=\"text-align: right;\">\n",
       "      <th></th>\n",
       "      <th>Sector</th>\n",
       "      <th>Material</th>\n",
       "      <th>Tipo de cliente</th>\n",
       "      <th>Zona de ventas</th>\n",
       "      <th>Zona de ventas.1</th>\n",
       "      <th>Oficina de Ventas Unifica</th>\n",
       "      <th>Oficina de Ventas Unifica.1</th>\n",
       "      <th>Mes</th>\n",
       "      <th>Año natural/Semana</th>\n",
       "      <th>Día natural</th>\n",
       "      <th>Día de la semana</th>\n",
       "      <th>Kilos Venta KG</th>\n",
       "      <th>Venta Neta</th>\n",
       "      <th>Precio Promedio</th>\n",
       "      <th>Unidad Venta</th>\n",
       "      <th>Unidad Precio</th>\n",
       "      <th>Semana</th>\n",
       "      <th>Año</th>\n",
       "    </tr>\n",
       "  </thead>\n",
       "  <tbody>\n",
       "  </tbody>\n",
       "</table>\n",
       "</div>"
      ],
      "text/plain": [
       "Empty DataFrame\n",
       "Columns: [Sector, Material, Tipo de cliente, Zona de ventas, Zona de ventas.1, Oficina de Ventas Unifica, Oficina de Ventas Unifica.1, Mes, Año natural/Semana, Día natural, Día de la semana, Kilos Venta KG, Venta Neta, Precio Promedio, Unidad Venta, Unidad Precio, Semana, Año]\n",
       "Index: []"
      ]
     },
     "execution_count": 56,
     "metadata": {},
     "output_type": "execute_result"
    }
   ],
   "source": [
    "dfy_21[dfy_21.Material=='1010695']"
   ]
  },
  {
   "cell_type": "code",
   "execution_count": 57,
   "id": "35632b89",
   "metadata": {
    "hidden": true,
    "scrolled": true
   },
   "outputs": [
    {
     "data": {
      "text/plain": [
       "297755.666"
      ]
     },
     "execution_count": 57,
     "metadata": {},
     "output_type": "execute_result"
    }
   ],
   "source": [
    "429.91*692.60"
   ]
  },
  {
   "cell_type": "markdown",
   "id": "a22097d8",
   "metadata": {},
   "source": [
    "## Iteración Zona"
   ]
  },
  {
   "cell_type": "code",
   "execution_count": 46,
   "id": "70567c70",
   "metadata": {
    "scrolled": true
   },
   "outputs": [
    {
     "name": "stdout",
     "output_type": "stream",
     "text": [
      "Santiago\n"
     ]
    },
    {
     "name": "stderr",
     "output_type": "stream",
     "text": [
      "INFO:fbprophet:Disabling daily seasonality. Run prophet with daily_seasonality=True to override this.\n",
      "INFO:fbprophet:Disabling daily seasonality. Run prophet with daily_seasonality=True to override this.\n"
     ]
    },
    {
     "name": "stdout",
     "output_type": "stream",
     "text": [
      "El producto demoró 4.342912197113037 Santiago\n",
      "tiempo que lleva corriendo 0.07656582991282145 Min\n"
     ]
    },
    {
     "name": "stderr",
     "output_type": "stream",
     "text": [
      "INFO:fbprophet:Disabling daily seasonality. Run prophet with daily_seasonality=True to override this.\n"
     ]
    },
    {
     "name": "stdout",
     "output_type": "stream",
     "text": [
      "El producto demoró 3.6187655925750732 Santiago\n",
      "tiempo que lleva corriendo 0.13688693046569825 Min\n"
     ]
    },
    {
     "name": "stderr",
     "output_type": "stream",
     "text": [
      "INFO:fbprophet:Disabling daily seasonality. Run prophet with daily_seasonality=True to override this.\n"
     ]
    },
    {
     "name": "stdout",
     "output_type": "stream",
     "text": [
      "El producto demoró 4.453211069107056 Santiago\n",
      "tiempo que lleva corriendo 0.21110711495081583 Min\n"
     ]
    },
    {
     "name": "stderr",
     "output_type": "stream",
     "text": [
      "INFO:fbprophet:Disabling daily seasonality. Run prophet with daily_seasonality=True to override this.\n"
     ]
    },
    {
     "name": "stdout",
     "output_type": "stream",
     "text": [
      "El producto demoró 3.3183279037475586 Santiago\n",
      "tiempo que lleva corriendo 0.2664292136828105 Min\n"
     ]
    },
    {
     "name": "stderr",
     "output_type": "stream",
     "text": [
      "INFO:fbprophet:Disabling daily seasonality. Run prophet with daily_seasonality=True to override this.\n"
     ]
    },
    {
     "name": "stdout",
     "output_type": "stream",
     "text": [
      "El producto demoró 4.429755687713623 Santiago\n",
      "tiempo que lleva corriendo 0.3402584751447042 Min\n"
     ]
    },
    {
     "name": "stderr",
     "output_type": "stream",
     "text": [
      "INFO:fbprophet:Disabling daily seasonality. Run prophet with daily_seasonality=True to override this.\n"
     ]
    },
    {
     "name": "stdout",
     "output_type": "stream",
     "text": [
      "El producto demoró 3.4715371131896973 Santiago\n",
      "tiempo que lleva corriendo 0.3981174270311991 Min\n"
     ]
    },
    {
     "name": "stderr",
     "output_type": "stream",
     "text": [
      "INFO:fbprophet:Disabling daily seasonality. Run prophet with daily_seasonality=True to override this.\n"
     ]
    },
    {
     "name": "stdout",
     "output_type": "stream",
     "text": [
      "El producto demoró 3.818894386291504 Santiago\n",
      "tiempo que lleva corriendo 0.4617823084195455 Min\n"
     ]
    },
    {
     "name": "stderr",
     "output_type": "stream",
     "text": [
      "INFO:fbprophet:Disabling daily seasonality. Run prophet with daily_seasonality=True to override this.\n"
     ]
    },
    {
     "name": "stdout",
     "output_type": "stream",
     "text": [
      "El producto demoró 3.865804433822632 Santiago\n",
      "tiempo que lleva corriendo 0.5262206951777141 Min\n"
     ]
    },
    {
     "name": "stderr",
     "output_type": "stream",
     "text": [
      "INFO:fbprophet:Disabling daily seasonality. Run prophet with daily_seasonality=True to override this.\n"
     ]
    },
    {
     "name": "stdout",
     "output_type": "stream",
     "text": [
      "El producto demoró 4.126821279525757 Santiago\n",
      "tiempo que lleva corriendo 0.5950010498364766 Min\n"
     ]
    },
    {
     "name": "stderr",
     "output_type": "stream",
     "text": [
      "INFO:fbprophet:Disabling daily seasonality. Run prophet with daily_seasonality=True to override this.\n"
     ]
    },
    {
     "name": "stdout",
     "output_type": "stream",
     "text": [
      "El producto demoró 4.516094446182251 Santiago\n",
      "tiempo que lleva corriendo 0.6702776153882345 Min\n"
     ]
    },
    {
     "name": "stderr",
     "output_type": "stream",
     "text": [
      "INFO:fbprophet:Disabling daily seasonality. Run prophet with daily_seasonality=True to override this.\n"
     ]
    },
    {
     "name": "stdout",
     "output_type": "stream",
     "text": [
      "El producto demoró 3.696124315261841 Santiago\n",
      "tiempo que lleva corriendo 0.7318880041440328 Min\n"
     ]
    },
    {
     "name": "stderr",
     "output_type": "stream",
     "text": [
      "INFO:fbprophet:Disabling daily seasonality. Run prophet with daily_seasonality=True to override this.\n"
     ]
    },
    {
     "name": "stdout",
     "output_type": "stream",
     "text": [
      "El producto demoró 3.6372365951538086 Santiago\n",
      "tiempo que lleva corriendo 0.7925252636273702 Min\n",
      "El producto demoró 4.175232410430908 Santiago\n",
      "tiempo que lleva corriendo 0.8621124704678853 Min\n",
      "Centro Norte\n"
     ]
    },
    {
     "name": "stderr",
     "output_type": "stream",
     "text": [
      "INFO:fbprophet:Disabling daily seasonality. Run prophet with daily_seasonality=True to override this.\n",
      "INFO:fbprophet:Disabling daily seasonality. Run prophet with daily_seasonality=True to override this.\n"
     ]
    },
    {
     "name": "stdout",
     "output_type": "stream",
     "text": [
      "El producto demoró 3.7764711380004883 Centro Norte\n",
      "tiempo que lleva corriendo 0.9293373743693034 Min\n"
     ]
    },
    {
     "name": "stderr",
     "output_type": "stream",
     "text": [
      "INFO:fbprophet:Disabling daily seasonality. Run prophet with daily_seasonality=True to override this.\n"
     ]
    },
    {
     "name": "stdout",
     "output_type": "stream",
     "text": [
      "El producto demoró 3.6435067653656006 Centro Norte\n",
      "tiempo que lleva corriendo 0.9900624871253967 Min\n"
     ]
    },
    {
     "name": "stderr",
     "output_type": "stream",
     "text": [
      "INFO:fbprophet:Disabling daily seasonality. Run prophet with daily_seasonality=True to override this.\n"
     ]
    },
    {
     "name": "stdout",
     "output_type": "stream",
     "text": [
      "El producto demoró 3.6786985397338867 Centro Norte\n",
      "tiempo que lleva corriendo 1.0513907631238302 Min\n"
     ]
    },
    {
     "name": "stderr",
     "output_type": "stream",
     "text": [
      "INFO:fbprophet:Disabling daily seasonality. Run prophet with daily_seasonality=True to override this.\n"
     ]
    },
    {
     "name": "stdout",
     "output_type": "stream",
     "text": [
      "El producto demoró 3.999558210372925 Centro Norte\n",
      "tiempo que lleva corriendo 1.1180750171343485 Min\n"
     ]
    },
    {
     "name": "stderr",
     "output_type": "stream",
     "text": [
      "INFO:fbprophet:Disabling daily seasonality. Run prophet with daily_seasonality=True to override this.\n"
     ]
    },
    {
     "name": "stdout",
     "output_type": "stream",
     "text": [
      "El producto demoró 4.300997972488403 Centro Norte\n",
      "tiempo que lleva corriendo 1.1897666335105896 Min\n"
     ]
    },
    {
     "name": "stderr",
     "output_type": "stream",
     "text": [
      "INFO:fbprophet:Disabling daily seasonality. Run prophet with daily_seasonality=True to override this.\n"
     ]
    },
    {
     "name": "stdout",
     "output_type": "stream",
     "text": [
      "El producto demoró 6.174330472946167 Centro Norte\n",
      "tiempo que lleva corriendo 1.2926721413930258 Min\n"
     ]
    },
    {
     "name": "stderr",
     "output_type": "stream",
     "text": [
      "INFO:fbprophet:Disabling daily seasonality. Run prophet with daily_seasonality=True to override this.\n"
     ]
    },
    {
     "name": "stdout",
     "output_type": "stream",
     "text": [
      "El producto demoró 3.551891326904297 Centro Norte\n",
      "tiempo que lleva corriendo 1.351870330174764 Min\n"
     ]
    },
    {
     "name": "stderr",
     "output_type": "stream",
     "text": [
      "INFO:fbprophet:Disabling daily seasonality. Run prophet with daily_seasonality=True to override this.\n"
     ]
    },
    {
     "name": "stdout",
     "output_type": "stream",
     "text": [
      "El producto demoró 4.313972234725952 Centro Norte\n",
      "tiempo que lleva corriendo 1.423778196175893 Min\n"
     ]
    },
    {
     "name": "stderr",
     "output_type": "stream",
     "text": [
      "INFO:fbprophet:Disabling daily seasonality. Run prophet with daily_seasonality=True to override this.\n"
     ]
    },
    {
     "name": "stdout",
     "output_type": "stream",
     "text": [
      "El producto demoró 3.873790740966797 Centro Norte\n",
      "tiempo que lleva corriendo 1.4883413751920065 Min\n"
     ]
    },
    {
     "name": "stderr",
     "output_type": "stream",
     "text": [
      "INFO:fbprophet:Disabling daily seasonality. Run prophet with daily_seasonality=True to override this.\n"
     ]
    },
    {
     "name": "stdout",
     "output_type": "stream",
     "text": [
      "El producto demoró 3.947654962539673 Centro Norte\n",
      "tiempo que lleva corriendo 1.5541356245676676 Min\n"
     ]
    },
    {
     "name": "stderr",
     "output_type": "stream",
     "text": [
      "INFO:fbprophet:Disabling daily seasonality. Run prophet with daily_seasonality=True to override this.\n"
     ]
    },
    {
     "name": "stdout",
     "output_type": "stream",
     "text": [
      "El producto demoró 3.345479965209961 Centro Norte\n",
      "tiempo que lleva corriendo 1.6099019487698873 Min\n"
     ]
    },
    {
     "name": "stderr",
     "output_type": "stream",
     "text": [
      "INFO:fbprophet:Disabling daily seasonality. Run prophet with daily_seasonality=True to override this.\n"
     ]
    },
    {
     "name": "stdout",
     "output_type": "stream",
     "text": [
      "El producto demoró 4.296002388000488 Centro Norte\n",
      "tiempo que lleva corriendo 1.6815019885698954 Min\n",
      "El producto demoró 3.6417253017425537 Centro Norte\n",
      "tiempo que lleva corriendo 1.7422057390213013 Min\n",
      "Centro Sur\n"
     ]
    },
    {
     "name": "stderr",
     "output_type": "stream",
     "text": [
      "INFO:fbprophet:Disabling daily seasonality. Run prophet with daily_seasonality=True to override this.\n",
      "INFO:fbprophet:Disabling daily seasonality. Run prophet with daily_seasonality=True to override this.\n"
     ]
    },
    {
     "name": "stdout",
     "output_type": "stream",
     "text": [
      "El producto demoró 3.815380811691284 Centro Sur\n",
      "tiempo que lleva corriendo 1.8102931062380472 Min\n"
     ]
    },
    {
     "name": "stderr",
     "output_type": "stream",
     "text": [
      "INFO:fbprophet:Disabling daily seasonality. Run prophet with daily_seasonality=True to override this.\n"
     ]
    },
    {
     "name": "stdout",
     "output_type": "stream",
     "text": [
      "El producto demoró 3.4296178817749023 Centro Sur\n",
      "tiempo que lleva corriendo 1.8674617171287538 Min\n"
     ]
    },
    {
     "name": "stderr",
     "output_type": "stream",
     "text": [
      "INFO:fbprophet:Disabling daily seasonality. Run prophet with daily_seasonality=True to override this.\n"
     ]
    },
    {
     "name": "stdout",
     "output_type": "stream",
     "text": [
      "El producto demoró 3.589176893234253 Centro Sur\n",
      "tiempo que lleva corriendo 1.9272979696591694 Min\n"
     ]
    },
    {
     "name": "stderr",
     "output_type": "stream",
     "text": [
      "INFO:fbprophet:Disabling daily seasonality. Run prophet with daily_seasonality=True to override this.\n"
     ]
    },
    {
     "name": "stdout",
     "output_type": "stream",
     "text": [
      "El producto demoró 3.6586875915527344 Centro Sur\n",
      "tiempo que lleva corriendo 1.988284416993459 Min\n"
     ]
    },
    {
     "name": "stderr",
     "output_type": "stream",
     "text": [
      "INFO:fbprophet:Disabling daily seasonality. Run prophet with daily_seasonality=True to override this.\n"
     ]
    },
    {
     "name": "stdout",
     "output_type": "stream",
     "text": [
      "El producto demoró 4.08040714263916 Centro Sur\n",
      "tiempo que lleva corriendo 2.0562995155652364 Min\n"
     ]
    },
    {
     "name": "stderr",
     "output_type": "stream",
     "text": [
      "INFO:fbprophet:Disabling daily seasonality. Run prophet with daily_seasonality=True to override this.\n"
     ]
    },
    {
     "name": "stdout",
     "output_type": "stream",
     "text": [
      "El producto demoró 6.848755836486816 Centro Sur\n",
      "tiempo que lleva corriendo 2.1704454461733502 Min\n"
     ]
    },
    {
     "name": "stderr",
     "output_type": "stream",
     "text": [
      "INFO:fbprophet:Disabling daily seasonality. Run prophet with daily_seasonality=True to override this.\n"
     ]
    },
    {
     "name": "stdout",
     "output_type": "stream",
     "text": [
      "El producto demoró 3.631241798400879 Centro Sur\n",
      "tiempo que lleva corriendo 2.230982768535614 Min\n"
     ]
    },
    {
     "name": "stderr",
     "output_type": "stream",
     "text": [
      "INFO:fbprophet:Disabling daily seasonality. Run prophet with daily_seasonality=True to override this.\n"
     ]
    },
    {
     "name": "stdout",
     "output_type": "stream",
     "text": [
      "El producto demoró 3.7610037326812744 Centro Sur\n",
      "tiempo que lleva corriendo 2.2936661640803018 Min\n"
     ]
    },
    {
     "name": "stderr",
     "output_type": "stream",
     "text": [
      "INFO:fbprophet:Disabling daily seasonality. Run prophet with daily_seasonality=True to override this.\n"
     ]
    },
    {
     "name": "stdout",
     "output_type": "stream",
     "text": [
      "El producto demoró 3.796431541442871 Centro Sur\n",
      "tiempo que lleva corriendo 2.356956672668457 Min\n"
     ]
    },
    {
     "name": "stderr",
     "output_type": "stream",
     "text": [
      "INFO:fbprophet:Disabling daily seasonality. Run prophet with daily_seasonality=True to override this.\n"
     ]
    },
    {
     "name": "stdout",
     "output_type": "stream",
     "text": [
      "El producto demoró 3.4400978088378906 Centro Sur\n",
      "tiempo que lleva corriendo 2.4142916361490885 Min\n"
     ]
    },
    {
     "name": "stderr",
     "output_type": "stream",
     "text": [
      "INFO:fbprophet:Disabling daily seasonality. Run prophet with daily_seasonality=True to override this.\n"
     ]
    },
    {
     "name": "stdout",
     "output_type": "stream",
     "text": [
      "El producto demoró 3.4799067974090576 Centro Sur\n",
      "tiempo que lleva corriendo 2.4722984075546264 Min\n"
     ]
    },
    {
     "name": "stderr",
     "output_type": "stream",
     "text": [
      "INFO:fbprophet:Disabling daily seasonality. Run prophet with daily_seasonality=True to override this.\n"
     ]
    },
    {
     "name": "stdout",
     "output_type": "stream",
     "text": [
      "El producto demoró 3.3921873569488525 Centro Sur\n",
      "tiempo que lleva corriendo 2.528843176364899 Min\n",
      "El producto demoró 3.6397297382354736 Centro Sur\n",
      "tiempo que lleva corriendo 2.58951362768809 Min\n",
      "Sur\n"
     ]
    },
    {
     "name": "stderr",
     "output_type": "stream",
     "text": [
      "INFO:fbprophet:Disabling daily seasonality. Run prophet with daily_seasonality=True to override this.\n",
      "INFO:fbprophet:Disabling daily seasonality. Run prophet with daily_seasonality=True to override this.\n"
     ]
    },
    {
     "name": "stdout",
     "output_type": "stream",
     "text": [
      "El producto demoró 3.2723922729492188 Sur\n",
      "tiempo que lleva corriendo 2.6483541250228884 Min\n"
     ]
    },
    {
     "name": "stderr",
     "output_type": "stream",
     "text": [
      "INFO:fbprophet:Disabling daily seasonality. Run prophet with daily_seasonality=True to override this.\n"
     ]
    },
    {
     "name": "stdout",
     "output_type": "stream",
     "text": [
      "El producto demoró 4.175230264663696 Sur\n",
      "tiempo que lleva corriendo 2.717949612935384 Min\n"
     ]
    },
    {
     "name": "stderr",
     "output_type": "stream",
     "text": [
      "INFO:fbprophet:Disabling daily seasonality. Run prophet with daily_seasonality=True to override this.\n"
     ]
    },
    {
     "name": "stdout",
     "output_type": "stream",
     "text": [
      "El producto demoró 3.6137773990631104 Sur\n",
      "tiempo que lleva corriendo 2.7781875570615133 Min\n"
     ]
    },
    {
     "name": "stderr",
     "output_type": "stream",
     "text": [
      "INFO:fbprophet:Disabling daily seasonality. Run prophet with daily_seasonality=True to override this.\n"
     ]
    },
    {
     "name": "stdout",
     "output_type": "stream",
     "text": [
      "El producto demoró 3.337787628173828 Sur\n",
      "tiempo que lleva corriendo 2.8338173508644102 Min\n"
     ]
    },
    {
     "name": "stderr",
     "output_type": "stream",
     "text": [
      "INFO:fbprophet:Disabling daily seasonality. Run prophet with daily_seasonality=True to override this.\n"
     ]
    },
    {
     "name": "stdout",
     "output_type": "stream",
     "text": [
      "El producto demoró 4.369863986968994 Sur\n",
      "tiempo que lleva corriendo 2.90666507879893 Min\n"
     ]
    },
    {
     "name": "stderr",
     "output_type": "stream",
     "text": [
      "INFO:fbprophet:Disabling daily seasonality. Run prophet with daily_seasonality=True to override this.\n"
     ]
    },
    {
     "name": "stdout",
     "output_type": "stream",
     "text": [
      "El producto demoró 3.762497901916504 Sur\n",
      "tiempo que lleva corriendo 2.969373377164205 Min\n"
     ]
    },
    {
     "name": "stderr",
     "output_type": "stream",
     "text": [
      "INFO:fbprophet:Disabling daily seasonality. Run prophet with daily_seasonality=True to override this.\n"
     ]
    },
    {
     "name": "stdout",
     "output_type": "stream",
     "text": [
      "El producto demoró 3.364238977432251 Sur\n",
      "tiempo que lleva corriendo 3.025460660457611 Min\n"
     ]
    },
    {
     "name": "stderr",
     "output_type": "stream",
     "text": [
      "INFO:fbprophet:Disabling daily seasonality. Run prophet with daily_seasonality=True to override this.\n"
     ]
    },
    {
     "name": "stdout",
     "output_type": "stream",
     "text": [
      "El producto demoró 4.4322545528411865 Sur\n",
      "tiempo que lleva corriendo 3.099331569671631 Min\n"
     ]
    },
    {
     "name": "stderr",
     "output_type": "stream",
     "text": [
      "INFO:fbprophet:Disabling daily seasonality. Run prophet with daily_seasonality=True to override this.\n"
     ]
    },
    {
     "name": "stdout",
     "output_type": "stream",
     "text": [
      "El producto demoró 3.6561954021453857 Sur\n",
      "tiempo que lleva corriendo 3.1602848052978514 Min\n"
     ]
    },
    {
     "name": "stderr",
     "output_type": "stream",
     "text": [
      "INFO:fbprophet:Disabling daily seasonality. Run prophet with daily_seasonality=True to override this.\n"
     ]
    },
    {
     "name": "stdout",
     "output_type": "stream",
     "text": [
      "El producto demoró 3.5067298412323 Sur\n",
      "tiempo que lleva corriendo 3.218738607565562 Min\n"
     ]
    },
    {
     "name": "stderr",
     "output_type": "stream",
     "text": [
      "INFO:fbprophet:Disabling daily seasonality. Run prophet with daily_seasonality=True to override this.\n"
     ]
    },
    {
     "name": "stdout",
     "output_type": "stream",
     "text": [
      "El producto demoró 3.458563804626465 Sur\n",
      "tiempo que lleva corriendo 3.2763896663983663 Min\n"
     ]
    },
    {
     "name": "stderr",
     "output_type": "stream",
     "text": [
      "INFO:fbprophet:Disabling daily seasonality. Run prophet with daily_seasonality=True to override this.\n"
     ]
    },
    {
     "name": "stdout",
     "output_type": "stream",
     "text": [
      "El producto demoró 3.6177639961242676 Sur\n",
      "tiempo que lleva corriendo 3.336694057782491 Min\n",
      "El producto demoró 3.3357930183410645 Sur\n",
      "tiempo que lleva corriendo 3.3922906080881754 Min\n",
      "Norte\n"
     ]
    },
    {
     "name": "stderr",
     "output_type": "stream",
     "text": [
      "INFO:fbprophet:Disabling daily seasonality. Run prophet with daily_seasonality=True to override this.\n",
      "INFO:fbprophet:Disabling daily seasonality. Run prophet with daily_seasonality=True to override this.\n"
     ]
    },
    {
     "name": "stdout",
     "output_type": "stream",
     "text": [
      "El producto demoró 3.506456136703491 Norte\n",
      "tiempo que lleva corriendo 3.454824237028758 Min\n"
     ]
    },
    {
     "name": "stderr",
     "output_type": "stream",
     "text": [
      "INFO:fbprophet:Disabling daily seasonality. Run prophet with daily_seasonality=True to override this.\n"
     ]
    },
    {
     "name": "stdout",
     "output_type": "stream",
     "text": [
      "El producto demoró 3.5768446922302246 Norte\n",
      "tiempo que lleva corriendo 3.514454956849416 Min\n"
     ]
    },
    {
     "name": "stderr",
     "output_type": "stream",
     "text": [
      "INFO:fbprophet:Disabling daily seasonality. Run prophet with daily_seasonality=True to override this.\n"
     ]
    },
    {
     "name": "stdout",
     "output_type": "stream",
     "text": [
      "El producto demoró 3.4550676345825195 Norte\n",
      "tiempo que lleva corriendo 3.5720477302869162 Min\n"
     ]
    },
    {
     "name": "stderr",
     "output_type": "stream",
     "text": [
      "INFO:fbprophet:Disabling daily seasonality. Run prophet with daily_seasonality=True to override this.\n"
     ]
    },
    {
     "name": "stdout",
     "output_type": "stream",
     "text": [
      "El producto demoró 3.4301185607910156 Norte\n",
      "tiempo que lleva corriendo 3.6292163729667664 Min\n"
     ]
    },
    {
     "name": "stderr",
     "output_type": "stream",
     "text": [
      "INFO:fbprophet:Disabling daily seasonality. Run prophet with daily_seasonality=True to override this.\n"
     ]
    },
    {
     "name": "stdout",
     "output_type": "stream",
     "text": [
      "El producto demoró 4.213656187057495 Norte\n",
      "tiempo que lleva corriendo 3.699452300866445 Min\n"
     ]
    },
    {
     "name": "stderr",
     "output_type": "stream",
     "text": [
      "INFO:fbprophet:Disabling daily seasonality. Run prophet with daily_seasonality=True to override this.\n"
     ]
    },
    {
     "name": "stdout",
     "output_type": "stream",
     "text": [
      "El producto demoró 3.370730400085449 Norte\n",
      "tiempo que lleva corriendo 3.75563946167628 Min\n"
     ]
    },
    {
     "name": "stderr",
     "output_type": "stream",
     "text": [
      "INFO:fbprophet:Disabling daily seasonality. Run prophet with daily_seasonality=True to override this.\n"
     ]
    },
    {
     "name": "stdout",
     "output_type": "stream",
     "text": [
      "El producto demoró 3.98460054397583 Norte\n",
      "tiempo que lleva corriendo 3.8220661083857217 Min\n"
     ]
    },
    {
     "name": "stderr",
     "output_type": "stream",
     "text": [
      "INFO:fbprophet:Disabling daily seasonality. Run prophet with daily_seasonality=True to override this.\n"
     ]
    },
    {
     "name": "stdout",
     "output_type": "stream",
     "text": [
      "El producto demoró 3.326294422149658 Norte\n",
      "tiempo que lleva corriendo 3.877504348754883 Min\n"
     ]
    },
    {
     "name": "stderr",
     "output_type": "stream",
     "text": [
      "INFO:fbprophet:Disabling daily seasonality. Run prophet with daily_seasonality=True to override this.\n"
     ]
    },
    {
     "name": "stdout",
     "output_type": "stream",
     "text": [
      "El producto demoró 4.384338855743408 Norte\n",
      "tiempo que lleva corriendo 3.950576663017273 Min\n"
     ]
    },
    {
     "name": "stderr",
     "output_type": "stream",
     "text": [
      "INFO:fbprophet:Disabling daily seasonality. Run prophet with daily_seasonality=True to override this.\n"
     ]
    },
    {
     "name": "stdout",
     "output_type": "stream",
     "text": [
      "El producto demoró 3.7270474433898926 Norte\n",
      "tiempo que lleva corriendo 4.012710746129354 Min\n"
     ]
    },
    {
     "name": "stderr",
     "output_type": "stream",
     "text": [
      "INFO:fbprophet:Disabling daily seasonality. Run prophet with daily_seasonality=True to override this.\n"
     ]
    },
    {
     "name": "stdout",
     "output_type": "stream",
     "text": [
      "El producto demoró 3.8413522243499756 Norte\n",
      "tiempo que lleva corriendo 4.076741604010264 Min\n",
      "El producto demoró 3.556589126586914 Norte\n",
      "tiempo que lleva corriendo 4.136018089453379 Min\n",
      "Venta Directa\n"
     ]
    },
    {
     "name": "stderr",
     "output_type": "stream",
     "text": [
      "INFO:fbprophet:Disabling daily seasonality. Run prophet with daily_seasonality=True to override this.\n",
      "INFO:fbprophet:Disabling daily seasonality. Run prophet with daily_seasonality=True to override this.\n"
     ]
    },
    {
     "name": "stdout",
     "output_type": "stream",
     "text": [
      "El producto demoró 3.3914613723754883 Venta Directa\n",
      "tiempo que lleva corriendo 4.196368618806203 Min\n"
     ]
    },
    {
     "name": "stderr",
     "output_type": "stream",
     "text": [
      "INFO:fbprophet:Disabling daily seasonality. Run prophet with daily_seasonality=True to override this.\n"
     ]
    },
    {
     "name": "stdout",
     "output_type": "stream",
     "text": [
      "El producto demoró 2.8641700744628906 Venta Directa\n",
      "tiempo que lleva corriendo 4.244113111495972 Min\n"
     ]
    },
    {
     "name": "stderr",
     "output_type": "stream",
     "text": [
      "INFO:fbprophet:Disabling daily seasonality. Run prophet with daily_seasonality=True to override this.\n"
     ]
    },
    {
     "name": "stdout",
     "output_type": "stream",
     "text": [
      "El producto demoró 3.263408660888672 Venta Directa\n",
      "tiempo que lleva corriendo 4.298519889513652 Min\n",
      "El producto demoró 2.775852680206299 Venta Directa\n",
      "tiempo que lleva corriendo 4.344784100850423 Min\n",
      "tiempo bloque completo 4.344792425632477 Min\n"
     ]
    }
   ],
   "source": [
    "df2 = pd.DataFrame(columns=['ds', 'yhat_lower', 'yhat_upper', 'yhat', 'Material','Oficina de Ventas Unifica', 'Zona de ventas.1'])\n",
    "\n",
    "Listado_de_zonas=data['Zona de ventas.1'].unique()\n",
    "\n",
    "start_time = time()\n",
    "\n",
    "\n",
    "\n",
    "for Z in Listado_de_zonas:\n",
    "#Z='Santiago'\n",
    "    print(Z)\n",
    "    dfz=Df_ubic(data,'Zona de ventas.1',Z)\n",
    "\n",
    "\n",
    "    #Crear un listado de los materiales disponibles en la dat\n",
    "\n",
    "    Listado_de_Materiales=dfz[dfz.Año==2021].Material.unique()     \n",
    "\n",
    "\n",
    "    for m in Listado_de_Materiales:\n",
    "        #m=Listado_de_Materiales[0]\n",
    "        material_time=time()\n",
    "        #print(y,m)\n",
    "\n",
    "\n",
    "        dfm=Df_ubic(dfz,\n",
    "                    'Material',m).groupby('Día natural'\n",
    "                                             ).sum().reset_index()[['Día natural',y_col]]\n",
    "\n",
    "        dfmPred=Predict_sem(dfm,8)[['ds', 'yhat_lower',\n",
    "                                    'yhat_upper', 'yhat']].tail(8)\n",
    "        #Material\n",
    "        dfmPred['Material']=[m for i in range(dfmPred.shape[0])]\n",
    "        \n",
    "        #Sucursal\n",
    "        #dfmPred['Oficina de Ventas Unifica']=[y for i in range(dfmPred.shape[0])]\n",
    "\n",
    "        #Zona\n",
    "        dfmPred['Zona de ventas.1']=[Z for i in range(dfmPred.shape[0])]\n",
    "\n",
    "        dfmPred=dfmPred.reset_index()\n",
    "        dfmPred.pop('index')\n",
    "        df2=pd.concat([df2, dfmPred])\n",
    "        print('El producto demoró',(time() - material_time),Z)\n",
    "        print('tiempo que lleva corriendo',(time() - start_time)/60, 'Min')\n",
    "\n",
    "print('tiempo bloque completo',(time() - start_time)/60, 'Min')\n"
   ]
  },
  {
   "cell_type": "code",
   "execution_count": 47,
   "id": "fb06c0fd",
   "metadata": {},
   "outputs": [],
   "source": [
    "df2.rename(columns = {'ds': 'Día natural', 'yhat': 'Predicción central',\n",
    "                                'yhat_upper': 'Predicción Superior',\n",
    "                                'yhat_lower': 'Predicción Inferior'}, inplace = True)"
   ]
  },
  {
   "cell_type": "markdown",
   "id": "14a59a14",
   "metadata": {},
   "source": [
    "### CSV SAVE "
   ]
  },
  {
   "cell_type": "code",
   "execution_count": 48,
   "id": "2a4e3269",
   "metadata": {},
   "outputs": [
    {
     "name": "stdout",
     "output_type": "stream",
     "text": [
      "2021-06-02\n",
      "2021-06-19\n"
     ]
    }
   ],
   "source": [
    "min_time=df2['Día natural'].min()\n",
    "min_time=str(min_time).split(' ')[0]\n",
    "print(min_time)\n",
    "max_time=df2['Día natural'].max()\n",
    "max_time=str(max_time).split(' ')[0]\n",
    "print(max_time)"
   ]
  },
  {
   "cell_type": "code",
   "execution_count": 49,
   "id": "e966269a",
   "metadata": {},
   "outputs": [],
   "source": [
    "df2.to_csv('Data'+min_time+' Predicción ' +max_time+ 'Zona.csv', index=False)\n"
   ]
  },
  {
   "cell_type": "markdown",
   "id": "58592ea3",
   "metadata": {},
   "source": [
    "# Canal"
   ]
  },
  {
   "cell_type": "markdown",
   "id": "1e1f9328",
   "metadata": {},
   "source": [
    "## Iteración completa Zona, Sucursal"
   ]
  },
  {
   "cell_type": "code",
   "execution_count": 60,
   "id": "e18cd89c",
   "metadata": {},
   "outputs": [
    {
     "name": "stdout",
     "output_type": "stream",
     "text": [
      "Santiago\n"
     ]
    },
    {
     "name": "stderr",
     "output_type": "stream",
     "text": [
      "INFO:fbprophet:Disabling daily seasonality. Run prophet with daily_seasonality=True to override this.\n"
     ]
    },
    {
     "name": "stdout",
     "output_type": "stream",
     "text": [
      "Huechuraba\n"
     ]
    },
    {
     "name": "stderr",
     "output_type": "stream",
     "text": [
      "INFO:fbprophet:Disabling daily seasonality. Run prophet with daily_seasonality=True to override this.\n"
     ]
    },
    {
     "name": "stdout",
     "output_type": "stream",
     "text": [
      "El producto demoró 5.02265477180481 Santiago Huechuraba\n",
      "tiempo que lleva corriendo 0.08861813545227051 Min\n"
     ]
    },
    {
     "name": "stderr",
     "output_type": "stream",
     "text": [
      "INFO:fbprophet:Disabling daily seasonality. Run prophet with daily_seasonality=True to override this.\n"
     ]
    },
    {
     "name": "stdout",
     "output_type": "stream",
     "text": [
      "El producto demoró 3.954639196395874 Santiago Huechuraba\n",
      "tiempo que lleva corriendo 0.15454542239507038 Min\n"
     ]
    },
    {
     "name": "stderr",
     "output_type": "stream",
     "text": [
      "INFO:fbprophet:Disabling daily seasonality. Run prophet with daily_seasonality=True to override this.\n"
     ]
    },
    {
     "name": "stdout",
     "output_type": "stream",
     "text": [
      "El producto demoró 7.967673063278198 Santiago Huechuraba\n",
      "tiempo que lleva corriendo 0.28734827041625977 Min\n"
     ]
    },
    {
     "name": "stderr",
     "output_type": "stream",
     "text": [
      "INFO:fbprophet:Disabling daily seasonality. Run prophet with daily_seasonality=True to override this.\n"
     ]
    },
    {
     "name": "stdout",
     "output_type": "stream",
     "text": [
      "El producto demoró 4.7152252197265625 Santiago Huechuraba\n",
      "tiempo que lleva corriendo 0.36594367822011314 Min\n"
     ]
    },
    {
     "name": "stderr",
     "output_type": "stream",
     "text": [
      "INFO:fbprophet:Disabling daily seasonality. Run prophet with daily_seasonality=True to override this.\n"
     ]
    },
    {
     "name": "stdout",
     "output_type": "stream",
     "text": [
      "El producto demoró 6.823302507400513 Santiago Huechuraba\n",
      "tiempo que lleva corriendo 0.47967369556427003 Min\n"
     ]
    },
    {
     "name": "stderr",
     "output_type": "stream",
     "text": [
      "INFO:fbprophet:Disabling daily seasonality. Run prophet with daily_seasonality=True to override this.\n"
     ]
    },
    {
     "name": "stdout",
     "output_type": "stream",
     "text": [
      "El producto demoró 5.506253004074097 Santiago Huechuraba\n",
      "tiempo que lleva corriendo 0.5714528958002726 Min\n"
     ]
    },
    {
     "name": "stderr",
     "output_type": "stream",
     "text": [
      "INFO:fbprophet:Disabling daily seasonality. Run prophet with daily_seasonality=True to override this.\n"
     ]
    },
    {
     "name": "stdout",
     "output_type": "stream",
     "text": [
      "El producto demoró 5.628525018692017 Santiago Huechuraba\n",
      "tiempo que lleva corriendo 0.6652616461118063 Min\n"
     ]
    },
    {
     "name": "stderr",
     "output_type": "stream",
     "text": [
      "INFO:fbprophet:Disabling daily seasonality. Run prophet with daily_seasonality=True to override this.\n"
     ]
    },
    {
     "name": "stdout",
     "output_type": "stream",
     "text": [
      "El producto demoró 3.5678603649139404 Santiago Huechuraba\n",
      "tiempo que lleva corriendo 0.7247427066167196 Min\n"
     ]
    },
    {
     "name": "stderr",
     "output_type": "stream",
     "text": [
      "INFO:fbprophet:Disabling daily seasonality. Run prophet with daily_seasonality=True to override this.\n"
     ]
    },
    {
     "name": "stdout",
     "output_type": "stream",
     "text": [
      "El producto demoró 5.322092056274414 Santiago Huechuraba\n",
      "tiempo que lleva corriendo 0.8134525418281555 Min\n"
     ]
    },
    {
     "name": "stderr",
     "output_type": "stream",
     "text": [
      "INFO:fbprophet:Disabling daily seasonality. Run prophet with daily_seasonality=True to override this.\n"
     ]
    },
    {
     "name": "stdout",
     "output_type": "stream",
     "text": [
      "El producto demoró 4.441735029220581 Santiago Huechuraba\n",
      "tiempo que lleva corriendo 0.8874814589818318 Min\n"
     ]
    },
    {
     "name": "stderr",
     "output_type": "stream",
     "text": [
      "INFO:fbprophet:Disabling daily seasonality. Run prophet with daily_seasonality=True to override this.\n"
     ]
    },
    {
     "name": "stdout",
     "output_type": "stream",
     "text": [
      "El producto demoró 3.584540367126465 Santiago Huechuraba\n",
      "tiempo que lleva corriendo 0.947240392367045 Min\n"
     ]
    },
    {
     "name": "stderr",
     "output_type": "stream",
     "text": [
      "INFO:fbprophet:Disabling daily seasonality. Run prophet with daily_seasonality=True to override this.\n"
     ]
    },
    {
     "name": "stdout",
     "output_type": "stream",
     "text": [
      "El producto demoró 4.120333671569824 Santiago Huechuraba\n",
      "tiempo que lleva corriendo 1.015912620226542 Min\n"
     ]
    },
    {
     "name": "stderr",
     "output_type": "stream",
     "text": [
      "INFO:fbprophet:Disabling daily seasonality. Run prophet with daily_seasonality=True to override this.\n"
     ]
    },
    {
     "name": "stdout",
     "output_type": "stream",
     "text": [
      "El producto demoró 4.2031776905059814 Santiago Huechuraba\n",
      "tiempo que lleva corriendo 1.0859655817349751 Min\n"
     ]
    },
    {
     "name": "stderr",
     "output_type": "stream",
     "text": [
      "INFO:fbprophet:Disabling daily seasonality. Run prophet with daily_seasonality=True to override this.\n"
     ]
    },
    {
     "name": "stdout",
     "output_type": "stream",
     "text": [
      "El producto demoró 2.6435837745666504 Santiago Huechuraba\n",
      "tiempo que lleva corriendo 1.1302581588427225 Min\n"
     ]
    },
    {
     "name": "stderr",
     "output_type": "stream",
     "text": [
      "INFO:fbprophet:Disabling daily seasonality. Run prophet with daily_seasonality=True to override this.\n"
     ]
    },
    {
     "name": "stdout",
     "output_type": "stream",
     "text": [
      "El producto demoró 4.163424491882324 Santiago Huechuraba\n",
      "tiempo que lleva corriendo 1.1996651887893677 Min\n"
     ]
    },
    {
     "name": "stderr",
     "output_type": "stream",
     "text": [
      "INFO:fbprophet:Disabling daily seasonality. Run prophet with daily_seasonality=True to override this.\n"
     ]
    },
    {
     "name": "stdout",
     "output_type": "stream",
     "text": [
      "El producto demoró 3.7495226860046387 Santiago Huechuraba\n",
      "tiempo que lleva corriendo 1.2621572335561118 Min\n"
     ]
    },
    {
     "name": "stderr",
     "output_type": "stream",
     "text": [
      "INFO:fbprophet:Disabling daily seasonality. Run prophet with daily_seasonality=True to override this.\n"
     ]
    },
    {
     "name": "stdout",
     "output_type": "stream",
     "text": [
      "El producto demoró 3.0406439304351807 Santiago Huechuraba\n",
      "tiempo que lleva corriendo 1.3128512461980184 Min\n"
     ]
    },
    {
     "name": "stderr",
     "output_type": "stream",
     "text": [
      "INFO:fbprophet:Disabling daily seasonality. Run prophet with daily_seasonality=True to override this.\n"
     ]
    },
    {
     "name": "stdout",
     "output_type": "stream",
     "text": [
      "El producto demoró 3.7864372730255127 Santiago Huechuraba\n",
      "tiempo que lleva corriendo 1.375958534081777 Min\n"
     ]
    },
    {
     "name": "stderr",
     "output_type": "stream",
     "text": [
      "INFO:fbprophet:Disabling daily seasonality. Run prophet with daily_seasonality=True to override this.\n"
     ]
    },
    {
     "name": "stdout",
     "output_type": "stream",
     "text": [
      "El producto demoró 2.800304651260376 Santiago Huechuraba\n",
      "tiempo que lleva corriendo 1.4226469159126283 Min\n"
     ]
    },
    {
     "name": "stderr",
     "output_type": "stream",
     "text": [
      "INFO:fbprophet:Disabling daily seasonality. Run prophet with daily_seasonality=True to override this.\n"
     ]
    },
    {
     "name": "stdout",
     "output_type": "stream",
     "text": [
      "El producto demoró 4.2470786571502686 Santiago Huechuraba\n",
      "tiempo que lleva corriendo 1.493431560198466 Min\n"
     ]
    },
    {
     "name": "stderr",
     "output_type": "stream",
     "text": [
      "INFO:fbprophet:Disabling daily seasonality. Run prophet with daily_seasonality=True to override this.\n"
     ]
    },
    {
     "name": "stdout",
     "output_type": "stream",
     "text": [
      "El producto demoró 3.5024819374084473 Santiago Huechuraba\n",
      "tiempo que lleva corriendo 1.5518062591552735 Min\n"
     ]
    },
    {
     "name": "stderr",
     "output_type": "stream",
     "text": [
      "INFO:fbprophet:Disabling daily seasonality. Run prophet with daily_seasonality=True to override this.\n"
     ]
    },
    {
     "name": "stdout",
     "output_type": "stream",
     "text": [
      "El producto demoró 3.9884605407714844 Santiago Huechuraba\n",
      "tiempo que lleva corriendo 1.6182806015014648 Min\n"
     ]
    },
    {
     "name": "stderr",
     "output_type": "stream",
     "text": [
      "INFO:fbprophet:Disabling daily seasonality. Run prophet with daily_seasonality=True to override this.\n"
     ]
    },
    {
     "name": "stdout",
     "output_type": "stream",
     "text": [
      "El producto demoró 4.276559114456177 Santiago Huechuraba\n",
      "tiempo que lleva corriendo 1.689564597606659 Min\n",
      "El producto demoró 0.008484840393066406 Santiago Huechuraba\n",
      "tiempo que lleva corriendo 1.689730985959371 Min\n"
     ]
    },
    {
     "name": "stderr",
     "output_type": "stream",
     "text": [
      "INFO:fbprophet:Disabling daily seasonality. Run prophet with daily_seasonality=True to override this.\n"
     ]
    },
    {
     "name": "stdout",
     "output_type": "stream",
     "text": [
      "El producto demoró 2.8966259956359863 Santiago Huechuraba\n",
      "tiempo que lleva corriendo 1.738016458352407 Min\n",
      "El producto demoró 0.008979558944702148 Santiago Huechuraba\n",
      "tiempo que lleva corriendo 1.7381661176681518 Min\n"
     ]
    },
    {
     "name": "stderr",
     "output_type": "stream",
     "text": [
      "INFO:fbprophet:Disabling daily seasonality. Run prophet with daily_seasonality=True to override this.\n"
     ]
    },
    {
     "name": "stdout",
     "output_type": "stream",
     "text": [
      "El producto demoró 2.7344300746917725 Santiago Huechuraba\n",
      "tiempo que lleva corriendo 1.7839060266812643 Min\n"
     ]
    },
    {
     "name": "stderr",
     "output_type": "stream",
     "text": [
      "INFO:fbprophet:Disabling daily seasonality. Run prophet with daily_seasonality=True to override this.\n"
     ]
    },
    {
     "name": "stdout",
     "output_type": "stream",
     "text": [
      "El producto demoró 5.948421239852905 Santiago Huechuraba\n",
      "tiempo que lleva corriendo 1.8830463806788127 Min\n"
     ]
    },
    {
     "name": "stderr",
     "output_type": "stream",
     "text": [
      "INFO:fbprophet:Disabling daily seasonality. Run prophet with daily_seasonality=True to override this.\n"
     ]
    },
    {
     "name": "stdout",
     "output_type": "stream",
     "text": [
      "El producto demoró 2.667525053024292 Santiago Huechuraba\n",
      "tiempo que lleva corriendo 1.9275134603182476 Min\n"
     ]
    },
    {
     "name": "stderr",
     "output_type": "stream",
     "text": [
      "INFO:fbprophet:Disabling daily seasonality. Run prophet with daily_seasonality=True to override this.\n"
     ]
    },
    {
     "name": "stdout",
     "output_type": "stream",
     "text": [
      "El producto demoró 2.6389224529266357 Santiago Huechuraba\n",
      "tiempo que lleva corriendo 1.9715120236078898 Min\n"
     ]
    },
    {
     "name": "stderr",
     "output_type": "stream",
     "text": [
      "INFO:fbprophet:Disabling daily seasonality. Run prophet with daily_seasonality=True to override this.\n"
     ]
    },
    {
     "name": "stdout",
     "output_type": "stream",
     "text": [
      "El producto demoró 2.6001782417297363 Santiago Huechuraba\n",
      "tiempo que lleva corriendo 2.0148563345273334 Min\n"
     ]
    },
    {
     "name": "stderr",
     "output_type": "stream",
     "text": [
      "INFO:fbprophet:Disabling daily seasonality. Run prophet with daily_seasonality=True to override this.\n"
     ]
    },
    {
     "name": "stdout",
     "output_type": "stream",
     "text": [
      "El producto demoró 3.339287519454956 Santiago Huechuraba\n",
      "tiempo que lleva corriendo 2.070519455273946 Min\n"
     ]
    },
    {
     "name": "stderr",
     "output_type": "stream",
     "text": [
      "INFO:fbprophet:Disabling daily seasonality. Run prophet with daily_seasonality=True to override this.\n"
     ]
    },
    {
     "name": "stdout",
     "output_type": "stream",
     "text": [
      "El producto demoró 4.60742449760437 Santiago Huechuraba\n",
      "tiempo que lleva corriendo 2.1473181446393332 Min\n"
     ]
    },
    {
     "name": "stderr",
     "output_type": "stream",
     "text": [
      "INFO:fbprophet:Disabling daily seasonality. Run prophet with daily_seasonality=True to override this.\n"
     ]
    },
    {
     "name": "stdout",
     "output_type": "stream",
     "text": [
      "El producto demoró 4.144288063049316 Santiago Huechuraba\n",
      "tiempo que lleva corriendo 2.2163896123568216 Min\n"
     ]
    },
    {
     "name": "stderr",
     "output_type": "stream",
     "text": [
      "INFO:fbprophet:Disabling daily seasonality. Run prophet with daily_seasonality=True to override this.\n"
     ]
    },
    {
     "name": "stdout",
     "output_type": "stream",
     "text": [
      "El producto demoró 2.70064640045166 Santiago Huechuraba\n",
      "tiempo que lleva corriendo 2.2614003856976828 Min\n",
      "El producto demoró 0.009479045867919922 Santiago Huechuraba\n",
      "tiempo que lleva corriendo 2.2615750789642335 Min\n",
      "El producto demoró 0.009996652603149414 Santiago Huechuraba\n",
      "tiempo que lleva corriendo 2.2617416898409526 Min\n",
      "El producto demoró 0.00649714469909668 Santiago Huechuraba\n",
      "tiempo que lleva corriendo 2.2620243708292644 Min\n",
      "Lo Espejo\n"
     ]
    },
    {
     "name": "stderr",
     "output_type": "stream",
     "text": [
      "INFO:fbprophet:Disabling daily seasonality. Run prophet with daily_seasonality=True to override this.\n"
     ]
    },
    {
     "name": "stdout",
     "output_type": "stream",
     "text": [
      "El producto demoró 3.74403715133667 Santiago Lo Espejo\n",
      "tiempo que lleva corriendo 2.3249823371569316 Min\n"
     ]
    },
    {
     "name": "stderr",
     "output_type": "stream",
     "text": [
      "INFO:fbprophet:Disabling daily seasonality. Run prophet with daily_seasonality=True to override this.\n"
     ]
    },
    {
     "name": "stdout",
     "output_type": "stream",
     "text": [
      "El producto demoró 3.89473295211792 Santiago Lo Espejo\n",
      "tiempo que lleva corriendo 2.389902913570404 Min\n"
     ]
    },
    {
     "name": "stderr",
     "output_type": "stream",
     "text": [
      "INFO:fbprophet:Disabling daily seasonality. Run prophet with daily_seasonality=True to override this.\n"
     ]
    },
    {
     "name": "stdout",
     "output_type": "stream",
     "text": [
      "El producto demoró 4.011032581329346 Santiago Lo Espejo\n",
      "tiempo que lleva corriendo 2.4567617774009705 Min\n"
     ]
    },
    {
     "name": "stderr",
     "output_type": "stream",
     "text": [
      "INFO:fbprophet:Disabling daily seasonality. Run prophet with daily_seasonality=True to override this.\n"
     ]
    },
    {
     "name": "stdout",
     "output_type": "stream",
     "text": [
      "El producto demoró 3.7535147666931152 Santiago Lo Espejo\n",
      "tiempo que lleva corriendo 2.5193286736806235 Min\n"
     ]
    },
    {
     "name": "stderr",
     "output_type": "stream",
     "text": [
      "INFO:fbprophet:Disabling daily seasonality. Run prophet with daily_seasonality=True to override this.\n"
     ]
    },
    {
     "name": "stdout",
     "output_type": "stream",
     "text": [
      "El producto demoró 3.8663063049316406 Santiago Lo Espejo\n",
      "tiempo que lleva corriendo 2.5837671120961505 Min\n"
     ]
    },
    {
     "name": "stderr",
     "output_type": "stream",
     "text": [
      "INFO:fbprophet:Disabling daily seasonality. Run prophet with daily_seasonality=True to override this.\n"
     ]
    },
    {
     "name": "stdout",
     "output_type": "stream",
     "text": [
      "El producto demoró 3.596806764602661 Santiago Lo Espejo\n",
      "tiempo que lleva corriendo 2.6437222083409626 Min\n"
     ]
    },
    {
     "name": "stderr",
     "output_type": "stream",
     "text": [
      "INFO:fbprophet:Disabling daily seasonality. Run prophet with daily_seasonality=True to override this.\n"
     ]
    },
    {
     "name": "stdout",
     "output_type": "stream",
     "text": [
      "El producto demoró 4.649864673614502 Santiago Lo Espejo\n",
      "tiempo que lleva corriendo 2.721228273709615 Min\n"
     ]
    },
    {
     "name": "stderr",
     "output_type": "stream",
     "text": [
      "INFO:fbprophet:Disabling daily seasonality. Run prophet with daily_seasonality=True to override this.\n"
     ]
    },
    {
     "name": "stdout",
     "output_type": "stream",
     "text": [
      "El producto demoró 3.8228659629821777 Santiago Lo Espejo\n",
      "tiempo que lleva corriendo 2.784942706425985 Min\n"
     ]
    },
    {
     "name": "stderr",
     "output_type": "stream",
     "text": [
      "INFO:fbprophet:Disabling daily seasonality. Run prophet with daily_seasonality=True to override this.\n"
     ]
    },
    {
     "name": "stdout",
     "output_type": "stream",
     "text": [
      "El producto demoró 4.310478210449219 Santiago Lo Espejo\n",
      "tiempo que lleva corriendo 2.85680064757665 Min\n"
     ]
    },
    {
     "name": "stderr",
     "output_type": "stream",
     "text": [
      "INFO:fbprophet:Disabling daily seasonality. Run prophet with daily_seasonality=True to override this.\n"
     ]
    },
    {
     "name": "stdout",
     "output_type": "stream",
     "text": [
      "El producto demoró 3.948155641555786 Santiago Lo Espejo\n",
      "tiempo que lleva corriendo 2.9226115385691327 Min\n"
     ]
    },
    {
     "name": "stderr",
     "output_type": "stream",
     "text": [
      "INFO:fbprophet:Disabling daily seasonality. Run prophet with daily_seasonality=True to override this.\n"
     ]
    },
    {
     "name": "stdout",
     "output_type": "stream",
     "text": [
      "El producto demoró 3.653700351715088 Santiago Lo Espejo\n",
      "tiempo que lleva corriendo 2.9835065444310507 Min\n"
     ]
    },
    {
     "name": "stderr",
     "output_type": "stream",
     "text": [
      "INFO:fbprophet:Disabling daily seasonality. Run prophet with daily_seasonality=True to override this.\n"
     ]
    },
    {
     "name": "stdout",
     "output_type": "stream",
     "text": [
      "El producto demoró 3.599302053451538 Santiago Lo Espejo\n",
      "tiempo que lleva corriendo 3.043494911988576 Min\n"
     ]
    },
    {
     "name": "stderr",
     "output_type": "stream",
     "text": [
      "INFO:fbprophet:Disabling daily seasonality. Run prophet with daily_seasonality=True to override this.\n"
     ]
    },
    {
     "name": "stdout",
     "output_type": "stream",
     "text": [
      "El producto demoró 5.107495307922363 Santiago Lo Espejo\n",
      "tiempo que lleva corriendo 3.1286198337872824 Min\n"
     ]
    },
    {
     "name": "stderr",
     "output_type": "stream",
     "text": [
      "INFO:fbprophet:Disabling daily seasonality. Run prophet with daily_seasonality=True to override this.\n"
     ]
    },
    {
     "name": "stdout",
     "output_type": "stream",
     "text": [
      "El producto demoró 5.124964952468872 Santiago Lo Espejo\n",
      "tiempo que lleva corriendo 3.2142271836598715 Min\n",
      "El producto demoró 0.008986234664916992 Santiago Lo Espejo\n",
      "tiempo que lleva corriendo 3.21437695423762 Min\n"
     ]
    },
    {
     "name": "stderr",
     "output_type": "stream",
     "text": [
      "INFO:fbprophet:Disabling daily seasonality. Run prophet with daily_seasonality=True to override this.\n"
     ]
    },
    {
     "name": "stdout",
     "output_type": "stream",
     "text": [
      "El producto demoró 3.5234391689300537 Santiago Lo Espejo\n",
      "tiempo que lleva corriendo 3.2731009403864544 Min\n"
     ]
    },
    {
     "name": "stderr",
     "output_type": "stream",
     "text": [
      "INFO:fbprophet:Disabling daily seasonality. Run prophet with daily_seasonality=True to override this.\n"
     ]
    },
    {
     "name": "stdout",
     "output_type": "stream",
     "text": [
      "El producto demoró 3.486015558242798 Santiago Lo Espejo\n",
      "tiempo que lleva corriendo 3.331217849254608 Min\n"
     ]
    },
    {
     "name": "stderr",
     "output_type": "stream",
     "text": [
      "INFO:fbprophet:Disabling daily seasonality. Run prophet with daily_seasonality=True to override this.\n"
     ]
    },
    {
     "name": "stdout",
     "output_type": "stream",
     "text": [
      "El producto demoró 4.351908922195435 Santiago Lo Espejo\n",
      "tiempo que lleva corriendo 3.403757973512014 Min\n"
     ]
    },
    {
     "name": "stderr",
     "output_type": "stream",
     "text": [
      "INFO:fbprophet:Disabling daily seasonality. Run prophet with daily_seasonality=True to override this.\n"
     ]
    },
    {
     "name": "stdout",
     "output_type": "stream",
     "text": [
      "El producto demoró 3.10770320892334 Santiago Lo Espejo\n",
      "tiempo que lleva corriendo 3.4555697441101074 Min\n"
     ]
    },
    {
     "name": "stderr",
     "output_type": "stream",
     "text": [
      "INFO:fbprophet:Disabling daily seasonality. Run prophet with daily_seasonality=True to override this.\n"
     ]
    },
    {
     "name": "stdout",
     "output_type": "stream",
     "text": [
      "El producto demoró 3.895249843597412 Santiago Lo Espejo\n",
      "tiempo que lleva corriendo 3.520490574836731 Min\n"
     ]
    },
    {
     "name": "stderr",
     "output_type": "stream",
     "text": [
      "INFO:fbprophet:Disabling daily seasonality. Run prophet with daily_seasonality=True to override this.\n"
     ]
    },
    {
     "name": "stdout",
     "output_type": "stream",
     "text": [
      "El producto demoró 3.532426118850708 Santiago Lo Espejo\n",
      "tiempo que lleva corriendo 3.579364343484243 Min\n",
      "El producto demoró 0.007564067840576172 Santiago Lo Espejo\n",
      "tiempo que lleva corriendo 3.5795057654380797 Min\n"
     ]
    },
    {
     "name": "stderr",
     "output_type": "stream",
     "text": [
      "INFO:fbprophet:Disabling daily seasonality. Run prophet with daily_seasonality=True to override this.\n"
     ]
    },
    {
     "name": "stdout",
     "output_type": "stream",
     "text": [
      "El producto demoró 2.9035959243774414 Santiago Lo Espejo\n",
      "tiempo que lleva corriendo 3.6280487298965456 Min\n"
     ]
    },
    {
     "name": "stderr",
     "output_type": "stream",
     "text": [
      "INFO:fbprophet:Disabling daily seasonality. Run prophet with daily_seasonality=True to override this.\n"
     ]
    },
    {
     "name": "stdout",
     "output_type": "stream",
     "text": [
      "El producto demoró 3.1860733032226562 Santiago Lo Espejo\n",
      "tiempo que lleva corriendo 3.681149951616923 Min\n"
     ]
    },
    {
     "name": "stderr",
     "output_type": "stream",
     "text": [
      "INFO:fbprophet:Disabling daily seasonality. Run prophet with daily_seasonality=True to override this.\n"
     ]
    },
    {
     "name": "stdout",
     "output_type": "stream",
     "text": [
      "El producto demoró 3.1755940914154053 Santiago Lo Espejo\n",
      "tiempo que lleva corriendo 3.734093109766642 Min\n"
     ]
    },
    {
     "name": "stderr",
     "output_type": "stream",
     "text": [
      "INFO:fbprophet:Disabling daily seasonality. Run prophet with daily_seasonality=True to override this.\n"
     ]
    },
    {
     "name": "stdout",
     "output_type": "stream",
     "text": [
      "El producto demoró 3.0558316707611084 Santiago Lo Espejo\n",
      "tiempo que lleva corriendo 3.7850319107373553 Min\n"
     ]
    },
    {
     "name": "stderr",
     "output_type": "stream",
     "text": [
      "INFO:fbprophet:Disabling daily seasonality. Run prophet with daily_seasonality=True to override this.\n"
     ]
    },
    {
     "name": "stdout",
     "output_type": "stream",
     "text": [
      "El producto demoró 2.8571937084198 Santiago Lo Espejo\n",
      "tiempo que lleva corriendo 3.8326681296030682 Min\n",
      "El producto demoró 0.007992744445800781 Santiago Lo Espejo\n",
      "tiempo que lleva corriendo 3.8328178604443868 Min\n"
     ]
    },
    {
     "name": "stderr",
     "output_type": "stream",
     "text": [
      "INFO:fbprophet:Disabling daily seasonality. Run prophet with daily_seasonality=True to override this.\n"
     ]
    },
    {
     "name": "stdout",
     "output_type": "stream",
     "text": [
      "El producto demoró 3.2913639545440674 Santiago Lo Espejo\n",
      "tiempo que lleva corriendo 3.887690548102061 Min\n"
     ]
    },
    {
     "name": "stderr",
     "output_type": "stream",
     "text": [
      "INFO:fbprophet:Disabling daily seasonality. Run prophet with daily_seasonality=True to override this.\n"
     ]
    },
    {
     "name": "stdout",
     "output_type": "stream",
     "text": [
      "El producto demoró 3.28688383102417 Santiago Lo Espejo\n",
      "tiempo que lleva corriendo 3.9424885869026185 Min\n"
     ]
    },
    {
     "name": "stderr",
     "output_type": "stream",
     "text": [
      "INFO:fbprophet:Disabling daily seasonality. Run prophet with daily_seasonality=True to override this.\n"
     ]
    },
    {
     "name": "stdout",
     "output_type": "stream",
     "text": [
      "El producto demoró 4.297005653381348 Santiago Lo Espejo\n",
      "tiempo que lleva corriendo 4.014105347792308 Min\n"
     ]
    },
    {
     "name": "stderr",
     "output_type": "stream",
     "text": [
      "INFO:fbprophet:Disabling daily seasonality. Run prophet with daily_seasonality=True to override this.\n"
     ]
    },
    {
     "name": "stdout",
     "output_type": "stream",
     "text": [
      "El producto demoró 4.4382407665252686 Santiago Lo Espejo\n",
      "tiempo que lleva corriendo 4.088092617193857 Min\n"
     ]
    },
    {
     "name": "stderr",
     "output_type": "stream",
     "text": [
      "INFO:fbprophet:Disabling daily seasonality. Run prophet with daily_seasonality=True to override this.\n"
     ]
    },
    {
     "name": "stdout",
     "output_type": "stream",
     "text": [
      "El producto demoró 4.421771764755249 Santiago Lo Espejo\n",
      "tiempo que lleva corriendo 4.161788813273112 Min\n",
      "Sucursal Miraflores\n"
     ]
    },
    {
     "name": "stderr",
     "output_type": "stream",
     "text": [
      "INFO:fbprophet:Disabling daily seasonality. Run prophet with daily_seasonality=True to override this.\n"
     ]
    },
    {
     "name": "stdout",
     "output_type": "stream",
     "text": [
      "El producto demoró 3.1596038341522217 Santiago Sucursal Miraflores\n",
      "tiempo que lleva corriendo 4.214998126029968 Min\n"
     ]
    },
    {
     "name": "stderr",
     "output_type": "stream",
     "text": [
      "INFO:fbprophet:Disabling daily seasonality. Run prophet with daily_seasonality=True to override this.\n"
     ]
    },
    {
     "name": "stdout",
     "output_type": "stream",
     "text": [
      "El producto demoró 3.1771059036254883 Santiago Sucursal Miraflores\n",
      "tiempo que lleva corriendo 4.267983150482178 Min\n"
     ]
    },
    {
     "name": "stderr",
     "output_type": "stream",
     "text": [
      "INFO:fbprophet:Disabling daily seasonality. Run prophet with daily_seasonality=True to override this.\n"
     ]
    },
    {
     "name": "stdout",
     "output_type": "stream",
     "text": [
      "El producto demoró 3.419137477874756 Santiago Sucursal Miraflores\n",
      "tiempo que lleva corriendo 4.324977091948191 Min\n"
     ]
    },
    {
     "name": "stderr",
     "output_type": "stream",
     "text": [
      "INFO:fbprophet:Disabling daily seasonality. Run prophet with daily_seasonality=True to override this.\n"
     ]
    },
    {
     "name": "stdout",
     "output_type": "stream",
     "text": [
      "El producto demoró 2.9393937587738037 Santiago Sucursal Miraflores\n",
      "tiempo que lleva corriendo 4.37398335536321 Min\n"
     ]
    },
    {
     "name": "stderr",
     "output_type": "stream",
     "text": [
      "INFO:fbprophet:Disabling daily seasonality. Run prophet with daily_seasonality=True to override this.\n"
     ]
    },
    {
     "name": "stdout",
     "output_type": "stream",
     "text": [
      "El producto demoró 3.2808949947357178 Santiago Sucursal Miraflores\n",
      "tiempo que lleva corriendo 4.428673275311788 Min\n"
     ]
    },
    {
     "name": "stderr",
     "output_type": "stream",
     "text": [
      "INFO:fbprophet:Disabling daily seasonality. Run prophet with daily_seasonality=True to override this.\n"
     ]
    },
    {
     "name": "stdout",
     "output_type": "stream",
     "text": [
      "El producto demoró 4.11384391784668 Santiago Sucursal Miraflores\n",
      "tiempo que lleva corriendo 4.497245601812998 Min\n"
     ]
    },
    {
     "name": "stderr",
     "output_type": "stream",
     "text": [
      "INFO:fbprophet:Disabling daily seasonality. Run prophet with daily_seasonality=True to override this.\n"
     ]
    },
    {
     "name": "stdout",
     "output_type": "stream",
     "text": [
      "El producto demoró 2.98545503616333 Santiago Sucursal Miraflores\n",
      "tiempo que lleva corriendo 4.547003185749054 Min\n"
     ]
    },
    {
     "name": "stderr",
     "output_type": "stream",
     "text": [
      "INFO:fbprophet:Disabling daily seasonality. Run prophet with daily_seasonality=True to override this.\n"
     ]
    },
    {
     "name": "stdout",
     "output_type": "stream",
     "text": [
      "El producto demoró 2.8147506713867188 Santiago Sucursal Miraflores\n",
      "tiempo que lleva corriendo 4.593915696938833 Min\n"
     ]
    },
    {
     "name": "stderr",
     "output_type": "stream",
     "text": [
      "INFO:fbprophet:Disabling daily seasonality. Run prophet with daily_seasonality=True to override this.\n"
     ]
    },
    {
     "name": "stdout",
     "output_type": "stream",
     "text": [
      "El producto demoró 4.336947202682495 Santiago Sucursal Miraflores\n",
      "tiempo que lleva corriendo 4.666206479072571 Min\n"
     ]
    },
    {
     "name": "stderr",
     "output_type": "stream",
     "text": [
      "INFO:fbprophet:Disabling daily seasonality. Run prophet with daily_seasonality=True to override this.\n"
     ]
    },
    {
     "name": "stdout",
     "output_type": "stream",
     "text": [
      "El producto demoró 3.9062118530273438 Santiago Sucursal Miraflores\n",
      "tiempo que lleva corriendo 4.73131000995636 Min\n"
     ]
    },
    {
     "name": "stderr",
     "output_type": "stream",
     "text": [
      "INFO:fbprophet:Disabling daily seasonality. Run prophet with daily_seasonality=True to override this.\n"
     ]
    },
    {
     "name": "stdout",
     "output_type": "stream",
     "text": [
      "El producto demoró 3.201545476913452 Santiago Sucursal Miraflores\n",
      "tiempo que lleva corriendo 4.784669101238251 Min\n"
     ]
    },
    {
     "name": "stderr",
     "output_type": "stream",
     "text": [
      "INFO:fbprophet:Disabling daily seasonality. Run prophet with daily_seasonality=True to override this.\n"
     ]
    },
    {
     "name": "stdout",
     "output_type": "stream",
     "text": [
      "El producto demoró 4.798754930496216 Santiago Sucursal Miraflores\n",
      "tiempo que lleva corriendo 4.864656666914622 Min\n"
     ]
    },
    {
     "name": "stderr",
     "output_type": "stream",
     "text": [
      "INFO:fbprophet:Disabling daily seasonality. Run prophet with daily_seasonality=True to override this.\n"
     ]
    },
    {
     "name": "stdout",
     "output_type": "stream",
     "text": [
      "El producto demoró 4.424269437789917 Santiago Sucursal Miraflores\n",
      "tiempo que lleva corriendo 4.938394490877787 Min\n"
     ]
    },
    {
     "name": "stderr",
     "output_type": "stream",
     "text": [
      "INFO:fbprophet:Disabling daily seasonality. Run prophet with daily_seasonality=True to override this.\n"
     ]
    },
    {
     "name": "stdout",
     "output_type": "stream",
     "text": [
      "El producto demoró 8.339508771896362 Santiago Sucursal Miraflores\n",
      "tiempo que lleva corriendo 5.0776108781496685 Min\n"
     ]
    },
    {
     "name": "stderr",
     "output_type": "stream",
     "text": [
      "INFO:fbprophet:Disabling daily seasonality. Run prophet with daily_seasonality=True to override this.\n"
     ]
    },
    {
     "name": "stdout",
     "output_type": "stream",
     "text": [
      "El producto demoró 2.532285451889038 Santiago Sucursal Miraflores\n",
      "tiempo que lleva corriendo 5.119823924700419 Min\n"
     ]
    },
    {
     "name": "stderr",
     "output_type": "stream",
     "text": [
      "INFO:fbprophet:Disabling daily seasonality. Run prophet with daily_seasonality=True to override this.\n"
     ]
    },
    {
     "name": "stdout",
     "output_type": "stream",
     "text": [
      "El producto demoró 2.652066469192505 Santiago Sucursal Miraflores\n",
      "tiempo que lleva corriendo 5.1640333453814184 Min\n"
     ]
    },
    {
     "name": "stderr",
     "output_type": "stream",
     "text": [
      "INFO:fbprophet:Disabling daily seasonality. Run prophet with daily_seasonality=True to override this.\n"
     ]
    },
    {
     "name": "stdout",
     "output_type": "stream",
     "text": [
      "El producto demoró 2.7978053092956543 Santiago Sucursal Miraflores\n",
      "tiempo que lleva corriendo 5.21069651444753 Min\n"
     ]
    },
    {
     "name": "stderr",
     "output_type": "stream",
     "text": [
      "INFO:fbprophet:Disabling daily seasonality. Run prophet with daily_seasonality=True to override this.\n"
     ]
    },
    {
     "name": "stdout",
     "output_type": "stream",
     "text": [
      "El producto demoró 4.601435661315918 Santiago Sucursal Miraflores\n",
      "tiempo que lleva corriendo 5.287395429611206 Min\n"
     ]
    },
    {
     "name": "stderr",
     "output_type": "stream",
     "text": [
      "INFO:fbprophet:Disabling daily seasonality. Run prophet with daily_seasonality=True to override this.\n"
     ]
    },
    {
     "name": "stdout",
     "output_type": "stream",
     "text": [
      "El producto demoró 2.311314344406128 Santiago Sucursal Miraflores\n",
      "tiempo que lleva corriendo 5.325933972994487 Min\n"
     ]
    },
    {
     "name": "stderr",
     "output_type": "stream",
     "text": [
      "INFO:fbprophet:Disabling daily seasonality. Run prophet with daily_seasonality=True to override this.\n"
     ]
    },
    {
     "name": "stdout",
     "output_type": "stream",
     "text": [
      "El producto demoró 2.5782017707824707 Santiago Sucursal Miraflores\n",
      "tiempo que lleva corriendo 5.368912049134573 Min\n"
     ]
    },
    {
     "name": "stderr",
     "output_type": "stream",
     "text": [
      "INFO:fbprophet:Disabling daily seasonality. Run prophet with daily_seasonality=True to override this.\n"
     ]
    },
    {
     "name": "stdout",
     "output_type": "stream",
     "text": [
      "El producto demoró 2.7274248600006104 Santiago Sucursal Miraflores\n",
      "tiempo que lleva corriendo 5.414377439022064 Min\n"
     ]
    },
    {
     "name": "stderr",
     "output_type": "stream",
     "text": [
      "INFO:fbprophet:Disabling daily seasonality. Run prophet with daily_seasonality=True to override this.\n"
     ]
    },
    {
     "name": "stdout",
     "output_type": "stream",
     "text": [
      "El producto demoró 2.8751509189605713 Santiago Sucursal Miraflores\n",
      "tiempo que lleva corriendo 5.46229662100474 Min\n"
     ]
    },
    {
     "name": "stderr",
     "output_type": "stream",
     "text": [
      "INFO:fbprophet:Disabling daily seasonality. Run prophet with daily_seasonality=True to override this.\n"
     ]
    },
    {
     "name": "stdout",
     "output_type": "stream",
     "text": [
      "El producto demoró 3.0478198528289795 Santiago Sucursal Miraflores\n",
      "tiempo que lleva corriendo 5.513127144177755 Min\n"
     ]
    },
    {
     "name": "stderr",
     "output_type": "stream",
     "text": [
      "INFO:fbprophet:Disabling daily seasonality. Run prophet with daily_seasonality=True to override this.\n"
     ]
    },
    {
     "name": "stdout",
     "output_type": "stream",
     "text": [
      "El producto demoró 2.9410247802734375 Santiago Sucursal Miraflores\n",
      "tiempo que lleva corriendo 5.562152552604675 Min\n"
     ]
    },
    {
     "name": "stderr",
     "output_type": "stream",
     "text": [
      "INFO:fbprophet:Disabling daily seasonality. Run prophet with daily_seasonality=True to override this.\n"
     ]
    },
    {
     "name": "stdout",
     "output_type": "stream",
     "text": [
      "El producto demoró 2.9729957580566406 Santiago Sucursal Miraflores\n",
      "tiempo que lleva corriendo 5.611719091733296 Min\n"
     ]
    },
    {
     "name": "stderr",
     "output_type": "stream",
     "text": [
      "INFO:fbprophet:Disabling daily seasonality. Run prophet with daily_seasonality=True to override this.\n"
     ]
    },
    {
     "name": "stdout",
     "output_type": "stream",
     "text": [
      "El producto demoró 2.8936142921447754 Santiago Sucursal Miraflores\n",
      "tiempo que lleva corriendo 5.660095731417338 Min\n"
     ]
    },
    {
     "name": "stderr",
     "output_type": "stream",
     "text": [
      "INFO:fbprophet:Disabling daily seasonality. Run prophet with daily_seasonality=True to override this.\n"
     ]
    },
    {
     "name": "stdout",
     "output_type": "stream",
     "text": [
      "El producto demoró 2.5617330074310303 Santiago Sucursal Miraflores\n",
      "tiempo que lleva corriendo 5.702791281541189 Min\n"
     ]
    },
    {
     "name": "stderr",
     "output_type": "stream",
     "text": [
      "INFO:fbprophet:Disabling daily seasonality. Run prophet with daily_seasonality=True to override this.\n"
     ]
    },
    {
     "name": "stdout",
     "output_type": "stream",
     "text": [
      "El producto demoró 2.786832332611084 Santiago Sucursal Miraflores\n",
      "tiempo que lleva corriendo 5.749263433615367 Min\n"
     ]
    },
    {
     "name": "stderr",
     "output_type": "stream",
     "text": [
      "INFO:fbprophet:Disabling daily seasonality. Run prophet with daily_seasonality=True to override this.\n"
     ]
    },
    {
     "name": "stdout",
     "output_type": "stream",
     "text": [
      "El producto demoró 3.4206161499023438 Santiago Sucursal Miraflores\n",
      "tiempo que lleva corriendo 5.8062820394833885 Min\n"
     ]
    },
    {
     "name": "stderr",
     "output_type": "stream",
     "text": [
      "INFO:fbprophet:Disabling daily seasonality. Run prophet with daily_seasonality=True to override this.\n"
     ]
    },
    {
     "name": "stdout",
     "output_type": "stream",
     "text": [
      "El producto demoró 3.5184686183929443 Santiago Sucursal Miraflores\n",
      "tiempo que lleva corriendo 5.86492318312327 Min\n"
     ]
    },
    {
     "name": "stderr",
     "output_type": "stream",
     "text": [
      "INFO:fbprophet:Disabling daily seasonality. Run prophet with daily_seasonality=True to override this.\n"
     ]
    },
    {
     "name": "stdout",
     "output_type": "stream",
     "text": [
      "El producto demoró 3.2314870357513428 Santiago Sucursal Miraflores\n",
      "tiempo que lleva corriendo 5.91881430943807 Min\n"
     ]
    },
    {
     "name": "stderr",
     "output_type": "stream",
     "text": [
      "INFO:fbprophet:Disabling daily seasonality. Run prophet with daily_seasonality=True to override this.\n"
     ]
    },
    {
     "name": "stdout",
     "output_type": "stream",
     "text": [
      "El producto demoró 3.739536762237549 Santiago Sucursal Miraflores\n",
      "tiempo que lleva corriendo 5.981148246924082 Min\n"
     ]
    },
    {
     "name": "stderr",
     "output_type": "stream",
     "text": [
      "INFO:fbprophet:Disabling daily seasonality. Run prophet with daily_seasonality=True to override this.\n"
     ]
    },
    {
     "name": "stdout",
     "output_type": "stream",
     "text": [
      "El producto demoró 4.4007487297058105 Santiago Sucursal Miraflores\n",
      "tiempo que lleva corriendo 6.054502375920614 Min\n"
     ]
    },
    {
     "name": "stderr",
     "output_type": "stream",
     "text": [
      "INFO:fbprophet:Disabling daily seasonality. Run prophet with daily_seasonality=True to override this.\n"
     ]
    },
    {
     "name": "stdout",
     "output_type": "stream",
     "text": [
      "El producto demoró 4.40879225730896 Santiago Sucursal Miraflores\n",
      "tiempo que lleva corriendo 6.127990567684174 Min\n",
      "El producto demoró 2.8906209468841553 Santiago Sucursal Miraflores\n",
      "tiempo que lleva corriendo 6.176167583465576 Min\n",
      "El producto demoró 0.008483648300170898 Santiago Sucursal Miraflores\n",
      "tiempo que lleva corriendo 6.176325619220734 Min\n",
      "El producto demoró 0.0059893131256103516 Santiago Sucursal Miraflores\n",
      "tiempo que lleva corriendo 6.176566847165426 Min\n",
      "El producto demoró 0.006990909576416016 Santiago Sucursal Miraflores\n",
      "tiempo que lleva corriendo 6.176691683133443 Min\n",
      "Centro Norte\n"
     ]
    },
    {
     "name": "stderr",
     "output_type": "stream",
     "text": [
      "INFO:fbprophet:Disabling daily seasonality. Run prophet with daily_seasonality=True to override this.\n"
     ]
    },
    {
     "name": "stdout",
     "output_type": "stream",
     "text": [
      "Coquimbo\n"
     ]
    },
    {
     "name": "stderr",
     "output_type": "stream",
     "text": [
      "INFO:fbprophet:Disabling daily seasonality. Run prophet with daily_seasonality=True to override this.\n"
     ]
    },
    {
     "name": "stdout",
     "output_type": "stream",
     "text": [
      "El producto demoró 2.868410587310791 Centro Norte Coquimbo\n",
      "tiempo que lleva corriendo 6.22978047132492 Min\n"
     ]
    },
    {
     "name": "stderr",
     "output_type": "stream",
     "text": [
      "INFO:fbprophet:Disabling daily seasonality. Run prophet with daily_seasonality=True to override this.\n"
     ]
    },
    {
     "name": "stdout",
     "output_type": "stream",
     "text": [
      "El producto demoró 2.5856893062591553 Centro Norte Coquimbo\n",
      "tiempo que lleva corriendo 6.272875293095907 Min\n"
     ]
    },
    {
     "name": "stderr",
     "output_type": "stream",
     "text": [
      "INFO:fbprophet:Disabling daily seasonality. Run prophet with daily_seasonality=True to override this.\n"
     ]
    },
    {
     "name": "stdout",
     "output_type": "stream",
     "text": [
      "El producto demoró 3.546074151992798 Centro Norte Coquimbo\n",
      "tiempo que lleva corriendo 6.331984849770864 Min\n"
     ]
    },
    {
     "name": "stderr",
     "output_type": "stream",
     "text": [
      "INFO:fbprophet:Disabling daily seasonality. Run prophet with daily_seasonality=True to override this.\n"
     ]
    },
    {
     "name": "stdout",
     "output_type": "stream",
     "text": [
      "El producto demoró 4.032496452331543 Centro Norte Coquimbo\n",
      "tiempo que lleva corriendo 6.3992014328638716 Min\n"
     ]
    },
    {
     "name": "stderr",
     "output_type": "stream",
     "text": [
      "INFO:fbprophet:Disabling daily seasonality. Run prophet with daily_seasonality=True to override this.\n"
     ]
    },
    {
     "name": "stdout",
     "output_type": "stream",
     "text": [
      "El producto demoró 4.7880895137786865 Centro Norte Coquimbo\n",
      "tiempo que lleva corriendo 6.479002924760183 Min\n"
     ]
    },
    {
     "name": "stderr",
     "output_type": "stream",
     "text": [
      "INFO:fbprophet:Disabling daily seasonality. Run prophet with daily_seasonality=True to override this.\n"
     ]
    },
    {
     "name": "stdout",
     "output_type": "stream",
     "text": [
      "El producto demoró 3.116231679916382 Centro Norte Coquimbo\n",
      "tiempo que lleva corriendo 6.530948440233867 Min\n"
     ]
    },
    {
     "name": "stderr",
     "output_type": "stream",
     "text": [
      "INFO:fbprophet:Disabling daily seasonality. Run prophet with daily_seasonality=True to override this.\n"
     ]
    },
    {
     "name": "stdout",
     "output_type": "stream",
     "text": [
      "El producto demoró 4.0659339427948 Centro Norte Coquimbo\n",
      "tiempo que lleva corriendo 6.5987386504809065 Min\n"
     ]
    },
    {
     "name": "stderr",
     "output_type": "stream",
     "text": [
      "INFO:fbprophet:Disabling daily seasonality. Run prophet with daily_seasonality=True to override this.\n"
     ]
    },
    {
     "name": "stdout",
     "output_type": "stream",
     "text": [
      "El producto demoró 2.8894028663635254 Centro Norte Coquimbo\n",
      "tiempo que lleva corriendo 6.646895364920298 Min\n"
     ]
    },
    {
     "name": "stderr",
     "output_type": "stream",
     "text": [
      "INFO:fbprophet:Disabling daily seasonality. Run prophet with daily_seasonality=True to override this.\n"
     ]
    },
    {
     "name": "stdout",
     "output_type": "stream",
     "text": [
      "El producto demoró 4.61170506477356 Centro Norte Coquimbo\n",
      "tiempo que lleva corriendo 6.723765432834625 Min\n"
     ]
    },
    {
     "name": "stderr",
     "output_type": "stream",
     "text": [
      "INFO:fbprophet:Disabling daily seasonality. Run prophet with daily_seasonality=True to override this.\n"
     ]
    },
    {
     "name": "stdout",
     "output_type": "stream",
     "text": [
      "El producto demoró 3.9601316452026367 Centro Norte Coquimbo\n",
      "tiempo que lleva corriendo 6.789775943756103 Min\n"
     ]
    },
    {
     "name": "stderr",
     "output_type": "stream",
     "text": [
      "INFO:fbprophet:Disabling daily seasonality. Run prophet with daily_seasonality=True to override this.\n"
     ]
    },
    {
     "name": "stdout",
     "output_type": "stream",
     "text": [
      "El producto demoró 4.085898399353027 Centro Norte Coquimbo\n",
      "tiempo que lleva corriendo 6.857882571220398 Min\n"
     ]
    },
    {
     "name": "stderr",
     "output_type": "stream",
     "text": [
      "INFO:fbprophet:Disabling daily seasonality. Run prophet with daily_seasonality=True to override this.\n"
     ]
    },
    {
     "name": "stdout",
     "output_type": "stream",
     "text": [
      "El producto demoró 3.7390387058258057 Centro Norte Coquimbo\n",
      "tiempo que lleva corriendo 6.9201998829841616 Min\n"
     ]
    },
    {
     "name": "stderr",
     "output_type": "stream",
     "text": [
      "INFO:fbprophet:Disabling daily seasonality. Run prophet with daily_seasonality=True to override this.\n"
     ]
    },
    {
     "name": "stdout",
     "output_type": "stream",
     "text": [
      "El producto demoró 3.926692485809326 Centro Norte Coquimbo\n",
      "tiempo que lleva corriendo 6.98565307855606 Min\n"
     ]
    },
    {
     "name": "stderr",
     "output_type": "stream",
     "text": [
      "INFO:fbprophet:Disabling daily seasonality. Run prophet with daily_seasonality=True to override this.\n"
     ]
    },
    {
     "name": "stdout",
     "output_type": "stream",
     "text": [
      "El producto demoró 3.3293068408966064 Centro Norte Coquimbo\n",
      "tiempo que lleva corriendo 7.041299557685852 Min\n"
     ]
    },
    {
     "name": "stderr",
     "output_type": "stream",
     "text": [
      "INFO:fbprophet:Disabling daily seasonality. Run prophet with daily_seasonality=True to override this.\n"
     ]
    },
    {
     "name": "stdout",
     "output_type": "stream",
     "text": [
      "El producto demoró 2.5542664527893066 Centro Norte Coquimbo\n",
      "tiempo que lleva corriendo 7.08387066523234 Min\n"
     ]
    },
    {
     "name": "stderr",
     "output_type": "stream",
     "text": [
      "INFO:fbprophet:Disabling daily seasonality. Run prophet with daily_seasonality=True to override this.\n"
     ]
    },
    {
     "name": "stdout",
     "output_type": "stream",
     "text": [
      "El producto demoró 3.8114078044891357 Centro Norte Coquimbo\n",
      "tiempo que lleva corriendo 7.147410412629445 Min\n"
     ]
    },
    {
     "name": "stderr",
     "output_type": "stream",
     "text": [
      "INFO:fbprophet:Disabling daily seasonality. Run prophet with daily_seasonality=True to override this.\n"
     ]
    },
    {
     "name": "stdout",
     "output_type": "stream",
     "text": [
      "El producto demoró 3.3532588481903076 Centro Norte Coquimbo\n",
      "tiempo que lleva corriendo 7.203314685821534 Min\n"
     ]
    },
    {
     "name": "stderr",
     "output_type": "stream",
     "text": [
      "INFO:fbprophet:Disabling daily seasonality. Run prophet with daily_seasonality=True to override this.\n"
     ]
    },
    {
     "name": "stdout",
     "output_type": "stream",
     "text": [
      "El producto demoró 3.9037349224090576 Centro Norte Coquimbo\n",
      "tiempo que lleva corriendo 7.268393572171529 Min\n"
     ]
    },
    {
     "name": "stderr",
     "output_type": "stream",
     "text": [
      "INFO:fbprophet:Disabling daily seasonality. Run prophet with daily_seasonality=True to override this.\n"
     ]
    },
    {
     "name": "stdout",
     "output_type": "stream",
     "text": [
      "El producto demoró 4.16989541053772 Centro Norte Coquimbo\n",
      "tiempo que lleva corriendo 7.337900149822235 Min\n"
     ]
    },
    {
     "name": "stderr",
     "output_type": "stream",
     "text": [
      "INFO:fbprophet:Disabling daily seasonality. Run prophet with daily_seasonality=True to override this.\n"
     ]
    },
    {
     "name": "stdout",
     "output_type": "stream",
     "text": [
      "El producto demoró 3.2714149951934814 Centro Norte Coquimbo\n",
      "tiempo que lleva corriendo 7.392432026068369 Min\n"
     ]
    },
    {
     "name": "stderr",
     "output_type": "stream",
     "text": [
      "INFO:fbprophet:Disabling daily seasonality. Run prophet with daily_seasonality=True to override this.\n"
     ]
    },
    {
     "name": "stdout",
     "output_type": "stream",
     "text": [
      "El producto demoró 4.0533106327056885 Centro Norte Coquimbo\n",
      "tiempo que lleva corriendo 7.459987203280131 Min\n"
     ]
    },
    {
     "name": "stderr",
     "output_type": "stream",
     "text": [
      "INFO:fbprophet:Disabling daily seasonality. Run prophet with daily_seasonality=True to override this.\n"
     ]
    },
    {
     "name": "stdout",
     "output_type": "stream",
     "text": [
      "El producto demoró 3.31497859954834 Centro Norte Coquimbo\n",
      "tiempo que lleva corriendo 7.515245159467061 Min\n"
     ]
    },
    {
     "name": "stderr",
     "output_type": "stream",
     "text": [
      "INFO:fbprophet:Disabling daily seasonality. Run prophet with daily_seasonality=True to override this.\n"
     ]
    },
    {
     "name": "stdout",
     "output_type": "stream",
     "text": [
      "El producto demoró 2.5183138847351074 Centro Norte Coquimbo\n",
      "tiempo que lleva corriendo 7.557225374380748 Min\n"
     ]
    },
    {
     "name": "stderr",
     "output_type": "stream",
     "text": [
      "INFO:fbprophet:Disabling daily seasonality. Run prophet with daily_seasonality=True to override this.\n"
     ]
    },
    {
     "name": "stdout",
     "output_type": "stream",
     "text": [
      "El producto demoró 2.7948389053344727 Centro Norte Coquimbo\n",
      "tiempo que lleva corriendo 7.603814375400543 Min\n"
     ]
    },
    {
     "name": "stderr",
     "output_type": "stream",
     "text": [
      "INFO:fbprophet:Disabling daily seasonality. Run prophet with daily_seasonality=True to override this.\n"
     ]
    },
    {
     "name": "stdout",
     "output_type": "stream",
     "text": [
      "El producto demoró 2.5048184394836426 Centro Norte Coquimbo\n",
      "tiempo que lleva corriendo 7.645561349391937 Min\n"
     ]
    },
    {
     "name": "stderr",
     "output_type": "stream",
     "text": [
      "INFO:fbprophet:Disabling daily seasonality. Run prophet with daily_seasonality=True to override this.\n"
     ]
    },
    {
     "name": "stdout",
     "output_type": "stream",
     "text": [
      "El producto demoró 2.673527240753174 Centro Norte Coquimbo\n",
      "tiempo que lleva corriendo 7.690261542797089 Min\n",
      "El producto demoró 0.007483482360839844 Centro Norte Coquimbo\n",
      "tiempo que lleva corriendo 7.690411273638407 Min\n"
     ]
    },
    {
     "name": "stderr",
     "output_type": "stream",
     "text": [
      "INFO:fbprophet:Disabling daily seasonality. Run prophet with daily_seasonality=True to override this.\n"
     ]
    },
    {
     "name": "stdout",
     "output_type": "stream",
     "text": [
      "El producto demoró 2.6810104846954346 Centro Norte Coquimbo\n",
      "tiempo que lleva corriendo 7.735094781716665 Min\n"
     ]
    },
    {
     "name": "stderr",
     "output_type": "stream",
     "text": [
      "INFO:fbprophet:Disabling daily seasonality. Run prophet with daily_seasonality=True to override this.\n"
     ]
    },
    {
     "name": "stdout",
     "output_type": "stream",
     "text": [
      "El producto demoró 2.7833027839660645 Centro Norte Coquimbo\n",
      "tiempo que lleva corriendo 7.781499799092611 Min\n"
     ]
    },
    {
     "name": "stderr",
     "output_type": "stream",
     "text": [
      "INFO:fbprophet:Disabling daily seasonality. Run prophet with daily_seasonality=True to override this.\n"
     ]
    },
    {
     "name": "stdout",
     "output_type": "stream",
     "text": [
      "El producto demoró 2.686887264251709 Centro Norte Coquimbo\n",
      "tiempo que lleva corriendo 7.826281253496806 Min\n",
      "Hijuelas\n"
     ]
    },
    {
     "name": "stderr",
     "output_type": "stream",
     "text": [
      "INFO:fbprophet:Disabling daily seasonality. Run prophet with daily_seasonality=True to override this.\n"
     ]
    },
    {
     "name": "stdout",
     "output_type": "stream",
     "text": [
      "El producto demoró 4.685779571533203 Centro Norte Hijuelas\n",
      "tiempo que lleva corriendo 7.905101235707601 Min\n"
     ]
    },
    {
     "name": "stderr",
     "output_type": "stream",
     "text": [
      "INFO:fbprophet:Disabling daily seasonality. Run prophet with daily_seasonality=True to override this.\n"
     ]
    },
    {
     "name": "stdout",
     "output_type": "stream",
     "text": [
      "El producto demoró 3.1905643939971924 Centro Norte Hijuelas\n",
      "tiempo que lleva corriendo 7.958277308940888 Min\n"
     ]
    },
    {
     "name": "stderr",
     "output_type": "stream",
     "text": [
      "INFO:fbprophet:Disabling daily seasonality. Run prophet with daily_seasonality=True to override this.\n"
     ]
    },
    {
     "name": "stdout",
     "output_type": "stream",
     "text": [
      "El producto demoró 3.9810895919799805 Centro Norte Hijuelas\n",
      "tiempo que lleva corriendo 8.024637115001678 Min\n"
     ]
    },
    {
     "name": "stderr",
     "output_type": "stream",
     "text": [
      "INFO:fbprophet:Disabling daily seasonality. Run prophet with daily_seasonality=True to override this.\n"
     ]
    },
    {
     "name": "stdout",
     "output_type": "stream",
     "text": [
      "El producto demoró 4.1502768993377686 Centro Norte Hijuelas\n",
      "tiempo que lleva corriendo 8.093816721439362 Min\n"
     ]
    },
    {
     "name": "stderr",
     "output_type": "stream",
     "text": [
      "INFO:fbprophet:Disabling daily seasonality. Run prophet with daily_seasonality=True to override this.\n"
     ]
    },
    {
     "name": "stdout",
     "output_type": "stream",
     "text": [
      "El producto demoró 3.941164255142212 Centro Norte Hijuelas\n",
      "tiempo que lleva corriendo 8.159511109193167 Min\n"
     ]
    },
    {
     "name": "stderr",
     "output_type": "stream",
     "text": [
      "INFO:fbprophet:Disabling daily seasonality. Run prophet with daily_seasonality=True to override this.\n"
     ]
    },
    {
     "name": "stdout",
     "output_type": "stream",
     "text": [
      "El producto demoró 3.782961130142212 Centro Norte Hijuelas\n",
      "tiempo que lleva corriendo 8.222568786144256 Min\n"
     ]
    },
    {
     "name": "stderr",
     "output_type": "stream",
     "text": [
      "INFO:fbprophet:Disabling daily seasonality. Run prophet with daily_seasonality=True to override this.\n"
     ]
    },
    {
     "name": "stdout",
     "output_type": "stream",
     "text": [
      "El producto demoró 3.8358616828918457 Centro Norte Hijuelas\n",
      "tiempo que lleva corriendo 8.286508127053578 Min\n"
     ]
    },
    {
     "name": "stderr",
     "output_type": "stream",
     "text": [
      "INFO:fbprophet:Disabling daily seasonality. Run prophet with daily_seasonality=True to override this.\n"
     ]
    },
    {
     "name": "stdout",
     "output_type": "stream",
     "text": [
      "El producto demoró 3.2140185832977295 Centro Norte Hijuelas\n",
      "tiempo que lleva corriendo 8.340075103441874 Min\n"
     ]
    },
    {
     "name": "stderr",
     "output_type": "stream",
     "text": [
      "INFO:fbprophet:Disabling daily seasonality. Run prophet with daily_seasonality=True to override this.\n"
     ]
    },
    {
     "name": "stdout",
     "output_type": "stream",
     "text": [
      "El producto demoró 4.732190370559692 Centro Norte Hijuelas\n",
      "tiempo que lleva corriendo 8.418961608409882 Min\n"
     ]
    },
    {
     "name": "stderr",
     "output_type": "stream",
     "text": [
      "INFO:fbprophet:Disabling daily seasonality. Run prophet with daily_seasonality=True to override this.\n"
     ]
    },
    {
     "name": "stdout",
     "output_type": "stream",
     "text": [
      "El producto demoró 4.17922568321228 Centro Norte Hijuelas\n",
      "tiempo que lleva corriendo 8.488615369796753 Min\n"
     ]
    },
    {
     "name": "stderr",
     "output_type": "stream",
     "text": [
      "INFO:fbprophet:Disabling daily seasonality. Run prophet with daily_seasonality=True to override this.\n"
     ]
    },
    {
     "name": "stdout",
     "output_type": "stream",
     "text": [
      "El producto demoró 4.235614776611328 Centro Norte Hijuelas\n",
      "tiempo que lleva corriendo 8.559225579102835 Min\n"
     ]
    },
    {
     "name": "stderr",
     "output_type": "stream",
     "text": [
      "INFO:fbprophet:Disabling daily seasonality. Run prophet with daily_seasonality=True to override this.\n"
     ]
    },
    {
     "name": "stdout",
     "output_type": "stream",
     "text": [
      "El producto demoró 4.544543981552124 Centro Norte Hijuelas\n",
      "tiempo que lleva corriendo 8.634976303577423 Min\n"
     ]
    },
    {
     "name": "stderr",
     "output_type": "stream",
     "text": [
      "INFO:fbprophet:Disabling daily seasonality. Run prophet with daily_seasonality=True to override this.\n"
     ]
    },
    {
     "name": "stdout",
     "output_type": "stream",
     "text": [
      "El producto demoró 4.083899259567261 Centro Norte Hijuelas\n",
      "tiempo que lleva corriendo 8.703041291236877 Min\n"
     ]
    },
    {
     "name": "stderr",
     "output_type": "stream",
     "text": [
      "INFO:fbprophet:Disabling daily seasonality. Run prophet with daily_seasonality=True to override this.\n"
     ]
    },
    {
     "name": "stdout",
     "output_type": "stream",
     "text": [
      "El producto demoró 2.4908840656280518 Centro Norte Hijuelas\n",
      "tiempo que lleva corriendo 8.744813879330954 Min\n"
     ]
    },
    {
     "name": "stderr",
     "output_type": "stream",
     "text": [
      "INFO:fbprophet:Disabling daily seasonality. Run prophet with daily_seasonality=True to override this.\n"
     ]
    },
    {
     "name": "stdout",
     "output_type": "stream",
     "text": [
      "El producto demoró 3.4096364974975586 Centro Norte Hijuelas\n",
      "tiempo que lleva corriendo 8.801641154289246 Min\n"
     ]
    },
    {
     "name": "stderr",
     "output_type": "stream",
     "text": [
      "INFO:fbprophet:Disabling daily seasonality. Run prophet with daily_seasonality=True to override this.\n"
     ]
    },
    {
     "name": "stdout",
     "output_type": "stream",
     "text": [
      "El producto demoró 3.3687307834625244 Centro Norte Hijuelas\n",
      "tiempo que lleva corriendo 8.857794964313507 Min\n"
     ]
    },
    {
     "name": "stderr",
     "output_type": "stream",
     "text": [
      "INFO:fbprophet:Disabling daily seasonality. Run prophet with daily_seasonality=True to override this.\n"
     ]
    },
    {
     "name": "stdout",
     "output_type": "stream",
     "text": [
      "El producto demoró 3.546402931213379 Centro Norte Hijuelas\n",
      "tiempo que lleva corriendo 8.91691000064214 Min\n"
     ]
    },
    {
     "name": "stderr",
     "output_type": "stream",
     "text": [
      "INFO:fbprophet:Disabling daily seasonality. Run prophet with daily_seasonality=True to override this.\n"
     ]
    },
    {
     "name": "stdout",
     "output_type": "stream",
     "text": [
      "El producto demoró 2.934537172317505 Centro Norte Hijuelas\n",
      "tiempo que lleva corriendo 8.96582727432251 Min\n"
     ]
    },
    {
     "name": "stderr",
     "output_type": "stream",
     "text": [
      "INFO:fbprophet:Disabling daily seasonality. Run prophet with daily_seasonality=True to override this.\n"
     ]
    },
    {
     "name": "stdout",
     "output_type": "stream",
     "text": [
      "El producto demoró 2.6660385131835938 Centro Norte Hijuelas\n",
      "tiempo que lleva corriendo 9.01026957432429 Min\n"
     ]
    },
    {
     "name": "stderr",
     "output_type": "stream",
     "text": [
      "INFO:fbprophet:Disabling daily seasonality. Run prophet with daily_seasonality=True to override this.\n"
     ]
    },
    {
     "name": "stdout",
     "output_type": "stream",
     "text": [
      "El producto demoró 2.445448637008667 Centro Norte Hijuelas\n",
      "tiempo que lleva corriendo 9.05103536049525 Min\n"
     ]
    },
    {
     "name": "stderr",
     "output_type": "stream",
     "text": [
      "INFO:fbprophet:Disabling daily seasonality. Run prophet with daily_seasonality=True to override this.\n"
     ]
    },
    {
     "name": "stdout",
     "output_type": "stream",
     "text": [
      "El producto demoró 2.8013055324554443 Centro Norte Hijuelas\n",
      "tiempo que lleva corriendo 9.097723786036173 Min\n"
     ]
    },
    {
     "name": "stderr",
     "output_type": "stream",
     "text": [
      "INFO:fbprophet:Disabling daily seasonality. Run prophet with daily_seasonality=True to override this.\n"
     ]
    },
    {
     "name": "stdout",
     "output_type": "stream",
     "text": [
      "El producto demoró 3.8049020767211914 Centro Norte Hijuelas\n",
      "tiempo que lleva corriendo 9.161155478159587 Min\n"
     ]
    },
    {
     "name": "stderr",
     "output_type": "stream",
     "text": [
      "INFO:fbprophet:Disabling daily seasonality. Run prophet with daily_seasonality=True to override this.\n"
     ]
    },
    {
     "name": "stdout",
     "output_type": "stream",
     "text": [
      "El producto demoró 3.018954038619995 Centro Norte Hijuelas\n",
      "tiempo que lleva corriendo 9.211471378803253 Min\n"
     ]
    },
    {
     "name": "stderr",
     "output_type": "stream",
     "text": [
      "INFO:fbprophet:Disabling daily seasonality. Run prophet with daily_seasonality=True to override this.\n"
     ]
    },
    {
     "name": "stdout",
     "output_type": "stream",
     "text": [
      "El producto demoró 3.727724313735962 Centro Norte Hijuelas\n",
      "tiempo que lleva corriendo 9.27360011736552 Min\n"
     ]
    },
    {
     "name": "stderr",
     "output_type": "stream",
     "text": [
      "INFO:fbprophet:Disabling daily seasonality. Run prophet with daily_seasonality=True to override this.\n"
     ]
    },
    {
     "name": "stdout",
     "output_type": "stream",
     "text": [
      "El producto demoró 2.6331117153167725 Centro Norte Hijuelas\n",
      "tiempo que lleva corriendo 9.317501950263978 Min\n"
     ]
    },
    {
     "name": "stderr",
     "output_type": "stream",
     "text": [
      "INFO:fbprophet:Disabling daily seasonality. Run prophet with daily_seasonality=True to override this.\n"
     ]
    },
    {
     "name": "stdout",
     "output_type": "stream",
     "text": [
      "El producto demoró 3.3667349815368652 Centro Norte Hijuelas\n",
      "tiempo que lleva corriendo 9.373855217297871 Min\n"
     ]
    },
    {
     "name": "stderr",
     "output_type": "stream",
     "text": [
      "INFO:fbprophet:Disabling daily seasonality. Run prophet with daily_seasonality=True to override this.\n"
     ]
    },
    {
     "name": "stdout",
     "output_type": "stream",
     "text": [
      "El producto demoró 5.288159608840942 Centro Norte Hijuelas\n",
      "tiempo que lleva corriendo 9.461991210778555 Min\n"
     ]
    },
    {
     "name": "stderr",
     "output_type": "stream",
     "text": [
      "INFO:fbprophet:Disabling daily seasonality. Run prophet with daily_seasonality=True to override this.\n"
     ]
    },
    {
     "name": "stdout",
     "output_type": "stream",
     "text": [
      "El producto demoró 4.0250091552734375 Centro Norte Hijuelas\n",
      "tiempo que lleva corriendo 9.529083096981049 Min\n"
     ]
    },
    {
     "name": "stderr",
     "output_type": "stream",
     "text": [
      "INFO:fbprophet:Disabling daily seasonality. Run prophet with daily_seasonality=True to override this.\n"
     ]
    },
    {
     "name": "stdout",
     "output_type": "stream",
     "text": [
      "El producto demoró 8.448774814605713 Centro Norte Hijuelas\n",
      "tiempo que lleva corriendo 9.669912612438202 Min\n"
     ]
    },
    {
     "name": "stderr",
     "output_type": "stream",
     "text": [
      "INFO:fbprophet:Disabling daily seasonality. Run prophet with daily_seasonality=True to override this.\n"
     ]
    },
    {
     "name": "stdout",
     "output_type": "stream",
     "text": [
      "El producto demoró 5.231264352798462 Centro Norte Hijuelas\n",
      "tiempo que lleva corriendo 9.75710035165151 Min\n"
     ]
    },
    {
     "name": "stderr",
     "output_type": "stream",
     "text": [
      "INFO:fbprophet:Disabling daily seasonality. Run prophet with daily_seasonality=True to override this.\n"
     ]
    },
    {
     "name": "stdout",
     "output_type": "stream",
     "text": [
      "El producto demoró 8.700310230255127 Centro Norte Hijuelas\n",
      "tiempo que lleva corriendo 9.902113831043243 Min\n"
     ]
    },
    {
     "name": "stderr",
     "output_type": "stream",
     "text": [
      "INFO:fbprophet:Disabling daily seasonality. Run prophet with daily_seasonality=True to override this.\n"
     ]
    },
    {
     "name": "stdout",
     "output_type": "stream",
     "text": [
      "El producto demoró 6.083178520202637 Centro Norte Hijuelas\n",
      "tiempo que lleva corriendo 10.003500139713287 Min\n"
     ]
    },
    {
     "name": "stderr",
     "output_type": "stream",
     "text": [
      "INFO:fbprophet:Disabling daily seasonality. Run prophet with daily_seasonality=True to override this.\n"
     ]
    },
    {
     "name": "stdout",
     "output_type": "stream",
     "text": [
      "El producto demoró 6.375634670257568 Centro Norte Hijuelas\n",
      "tiempo que lleva corriendo 10.109777383009593 Min\n"
     ]
    },
    {
     "name": "stderr",
     "output_type": "stream",
     "text": [
      "INFO:fbprophet:Disabling daily seasonality. Run prophet with daily_seasonality=True to override this.\n"
     ]
    },
    {
     "name": "stdout",
     "output_type": "stream",
     "text": [
      "El producto demoró 4.733690500259399 Centro Norte Hijuelas\n",
      "tiempo que lleva corriendo 10.188672224680582 Min\n"
     ]
    },
    {
     "name": "stderr",
     "output_type": "stream",
     "text": [
      "INFO:fbprophet:Disabling daily seasonality. Run prophet with daily_seasonality=True to override this.\n"
     ]
    },
    {
     "name": "stdout",
     "output_type": "stream",
     "text": [
      "El producto demoró 6.685060739517212 Centro Norte Hijuelas\n",
      "tiempo que lleva corriendo 10.300106541315715 Min\n"
     ]
    },
    {
     "name": "stderr",
     "output_type": "stream",
     "text": [
      "INFO:fbprophet:Disabling daily seasonality. Run prophet with daily_seasonality=True to override this.\n"
     ]
    },
    {
     "name": "stdout",
     "output_type": "stream",
     "text": [
      "El producto demoró 3.593811273574829 Centro Norte Hijuelas\n",
      "tiempo que lleva corriendo 10.360011688868205 Min\n",
      "El producto demoró 0.005988359451293945 Centro Norte Hijuelas\n",
      "tiempo que lleva corriendo 10.360286219914753 Min\n",
      "El producto demoró 0.0064849853515625 Centro Norte Hijuelas\n",
      "tiempo que lleva corriendo 10.360402623812357 Min\n",
      "San Antonio\n"
     ]
    },
    {
     "name": "stderr",
     "output_type": "stream",
     "text": [
      "INFO:fbprophet:Disabling daily seasonality. Run prophet with daily_seasonality=True to override this.\n"
     ]
    },
    {
     "name": "stdout",
     "output_type": "stream",
     "text": [
      "El producto demoró 3.562371015548706 Centro Norte San Antonio\n",
      "tiempo que lleva corriendo 10.420582330226898 Min\n"
     ]
    },
    {
     "name": "stderr",
     "output_type": "stream",
     "text": [
      "INFO:fbprophet:Disabling daily seasonality. Run prophet with daily_seasonality=True to override this.\n"
     ]
    },
    {
     "name": "stdout",
     "output_type": "stream",
     "text": [
      "El producto demoró 3.3243229389190674 Centro Norte San Antonio\n",
      "tiempo que lleva corriendo 10.475996041297913 Min\n"
     ]
    },
    {
     "name": "stderr",
     "output_type": "stream",
     "text": [
      "INFO:fbprophet:Disabling daily seasonality. Run prophet with daily_seasonality=True to override this.\n"
     ]
    },
    {
     "name": "stdout",
     "output_type": "stream",
     "text": [
      "El producto demoró 4.587465047836304 Centro Norte San Antonio\n",
      "tiempo que lleva corriendo 10.552478563785552 Min\n"
     ]
    },
    {
     "name": "stderr",
     "output_type": "stream",
     "text": [
      "INFO:fbprophet:Disabling daily seasonality. Run prophet with daily_seasonality=True to override this.\n"
     ]
    },
    {
     "name": "stdout",
     "output_type": "stream",
     "text": [
      "El producto demoró 4.247093915939331 Centro Norte San Antonio\n",
      "tiempo que lleva corriendo 10.623271783192953 Min\n"
     ]
    },
    {
     "name": "stderr",
     "output_type": "stream",
     "text": [
      "INFO:fbprophet:Disabling daily seasonality. Run prophet with daily_seasonality=True to override this.\n"
     ]
    },
    {
     "name": "stdout",
     "output_type": "stream",
     "text": [
      "El producto demoró 3.8578202724456787 Centro Norte San Antonio\n",
      "tiempo que lleva corriendo 10.687585417429606 Min\n"
     ]
    },
    {
     "name": "stderr",
     "output_type": "stream",
     "text": [
      "INFO:fbprophet:Disabling daily seasonality. Run prophet with daily_seasonality=True to override this.\n"
     ]
    },
    {
     "name": "stdout",
     "output_type": "stream",
     "text": [
      "El producto demoró 4.07990837097168 Centro Norte San Antonio\n",
      "tiempo que lleva corriendo 10.755583890279134 Min\n"
     ]
    },
    {
     "name": "stderr",
     "output_type": "stream",
     "text": [
      "INFO:fbprophet:Disabling daily seasonality. Run prophet with daily_seasonality=True to override this.\n"
     ]
    },
    {
     "name": "stdout",
     "output_type": "stream",
     "text": [
      "El producto demoró 4.693425416946411 Centro Norte San Antonio\n",
      "tiempo que lleva corriendo 10.833815932273865 Min\n"
     ]
    },
    {
     "name": "stderr",
     "output_type": "stream",
     "text": [
      "INFO:fbprophet:Disabling daily seasonality. Run prophet with daily_seasonality=True to override this.\n"
     ]
    },
    {
     "name": "stdout",
     "output_type": "stream",
     "text": [
      "El producto demoró 3.163114547729492 Centro Norte San Antonio\n",
      "tiempo que lleva corriendo 10.886551161607107 Min\n"
     ]
    },
    {
     "name": "stderr",
     "output_type": "stream",
     "text": [
      "INFO:fbprophet:Disabling daily seasonality. Run prophet with daily_seasonality=True to override this.\n"
     ]
    },
    {
     "name": "stdout",
     "output_type": "stream",
     "text": [
      "El producto demoró 5.146922588348389 Centro Norte San Antonio\n",
      "tiempo que lleva corriendo 10.972341509660085 Min\n"
     ]
    },
    {
     "name": "stderr",
     "output_type": "stream",
     "text": [
      "INFO:fbprophet:Disabling daily seasonality. Run prophet with daily_seasonality=True to override this.\n"
     ]
    },
    {
     "name": "stdout",
     "output_type": "stream",
     "text": [
      "El producto demoró 7.536474704742432 Centro Norte San Antonio\n",
      "tiempo que lleva corriendo 11.097957706451416 Min\n"
     ]
    },
    {
     "name": "stderr",
     "output_type": "stream",
     "text": [
      "INFO:fbprophet:Disabling daily seasonality. Run prophet with daily_seasonality=True to override this.\n"
     ]
    },
    {
     "name": "stdout",
     "output_type": "stream",
     "text": [
      "El producto demoró 5.186349153518677 Centro Norte San Antonio\n",
      "tiempo que lleva corriendo 11.184405199686687 Min\n"
     ]
    },
    {
     "name": "stderr",
     "output_type": "stream",
     "text": [
      "INFO:fbprophet:Disabling daily seasonality. Run prophet with daily_seasonality=True to override this.\n"
     ]
    },
    {
     "name": "stdout",
     "output_type": "stream",
     "text": [
      "El producto demoró 4.314467906951904 Centro Norte San Antonio\n",
      "tiempo que lleva corriendo 11.256312998135884 Min\n"
     ]
    },
    {
     "name": "stderr",
     "output_type": "stream",
     "text": [
      "INFO:fbprophet:Disabling daily seasonality. Run prophet with daily_seasonality=True to override this.\n"
     ]
    },
    {
     "name": "stdout",
     "output_type": "stream",
     "text": [
      "El producto demoró 3.978597640991211 Centro Norte San Antonio\n",
      "tiempo que lleva corriendo 11.322639592488606 Min\n",
      "El producto demoró 0.007486104965209961 Centro Norte San Antonio\n",
      "tiempo que lleva corriendo 11.322930717468262 Min\n"
     ]
    },
    {
     "name": "stderr",
     "output_type": "stream",
     "text": [
      "INFO:fbprophet:Disabling daily seasonality. Run prophet with daily_seasonality=True to override this.\n"
     ]
    },
    {
     "name": "stdout",
     "output_type": "stream",
     "text": [
      "El producto demoró 3.584332227706909 Centro Norte San Antonio\n",
      "tiempo que lleva corriendo 11.382677896817524 Min\n",
      "El producto demoró 0.01946115493774414 Centro Norte San Antonio\n",
      "tiempo que lleva corriendo 11.383010574181874 Min\n"
     ]
    },
    {
     "name": "stderr",
     "output_type": "stream",
     "text": [
      "INFO:fbprophet:Disabling daily seasonality. Run prophet with daily_seasonality=True to override this.\n"
     ]
    },
    {
     "name": "stdout",
     "output_type": "stream",
     "text": [
      "El producto demoró 3.0129036903381348 Centro Norte San Antonio\n",
      "tiempo que lleva corriendo 11.43323395649592 Min\n"
     ]
    },
    {
     "name": "stderr",
     "output_type": "stream",
     "text": [
      "INFO:fbprophet:Disabling daily seasonality. Run prophet with daily_seasonality=True to override this.\n"
     ]
    },
    {
     "name": "stdout",
     "output_type": "stream",
     "text": [
      "El producto demoró 3.403174638748169 Centro Norte San Antonio\n",
      "tiempo que lleva corriendo 11.489953533808391 Min\n"
     ]
    },
    {
     "name": "stderr",
     "output_type": "stream",
     "text": [
      "INFO:fbprophet:Disabling daily seasonality. Run prophet with daily_seasonality=True to override this.\n"
     ]
    },
    {
     "name": "stdout",
     "output_type": "stream",
     "text": [
      "El producto demoró 4.155055999755859 Centro Norte San Antonio\n",
      "tiempo que lleva corriendo 11.559212776025136 Min\n"
     ]
    },
    {
     "name": "stderr",
     "output_type": "stream",
     "text": [
      "INFO:fbprophet:Disabling daily seasonality. Run prophet with daily_seasonality=True to override this.\n"
     ]
    },
    {
     "name": "stdout",
     "output_type": "stream",
     "text": [
      "El producto demoró 2.913097381591797 Centro Norte San Antonio\n",
      "tiempo que lleva corriendo 11.607772739728292 Min\n"
     ]
    },
    {
     "name": "stderr",
     "output_type": "stream",
     "text": [
      "INFO:fbprophet:Disabling daily seasonality. Run prophet with daily_seasonality=True to override this.\n"
     ]
    },
    {
     "name": "stdout",
     "output_type": "stream",
     "text": [
      "El producto demoró 2.8187453746795654 Centro Norte San Antonio\n",
      "tiempo que lleva corriendo 11.654751829306285 Min\n"
     ]
    },
    {
     "name": "stderr",
     "output_type": "stream",
     "text": [
      "INFO:fbprophet:Disabling daily seasonality. Run prophet with daily_seasonality=True to override this.\n"
     ]
    },
    {
     "name": "stdout",
     "output_type": "stream",
     "text": [
      "El producto demoró 3.2664217948913574 Centro Norte San Antonio\n",
      "tiempo que lleva corriendo 11.70935035943985 Min\n"
     ]
    },
    {
     "name": "stderr",
     "output_type": "stream",
     "text": [
      "INFO:fbprophet:Disabling daily seasonality. Run prophet with daily_seasonality=True to override this.\n"
     ]
    },
    {
     "name": "stdout",
     "output_type": "stream",
     "text": [
      "El producto demoró 3.4420413970947266 Centro Norte San Antonio\n",
      "tiempo que lleva corriendo 11.766734325885773 Min\n"
     ]
    },
    {
     "name": "stderr",
     "output_type": "stream",
     "text": [
      "INFO:fbprophet:Disabling daily seasonality. Run prophet with daily_seasonality=True to override this.\n"
     ]
    },
    {
     "name": "stdout",
     "output_type": "stream",
     "text": [
      "El producto demoró 3.7789831161499023 Centro Norte San Antonio\n",
      "tiempo que lleva corriendo 11.829734106858572 Min\n"
     ]
    },
    {
     "name": "stderr",
     "output_type": "stream",
     "text": [
      "INFO:fbprophet:Disabling daily seasonality. Run prophet with daily_seasonality=True to override this.\n"
     ]
    },
    {
     "name": "stdout",
     "output_type": "stream",
     "text": [
      "El producto demoró 3.1456284523010254 Centro Norte San Antonio\n",
      "tiempo que lleva corriendo 11.882161247730256 Min\n"
     ]
    },
    {
     "name": "stderr",
     "output_type": "stream",
     "text": [
      "INFO:fbprophet:Disabling daily seasonality. Run prophet with daily_seasonality=True to override this.\n"
     ]
    },
    {
     "name": "stdout",
     "output_type": "stream",
     "text": [
      "El producto demoró 4.392322778701782 Centro Norte San Antonio\n",
      "tiempo que lleva corriendo 11.955366627375286 Min\n"
     ]
    },
    {
     "name": "stderr",
     "output_type": "stream",
     "text": [
      "INFO:fbprophet:Disabling daily seasonality. Run prophet with daily_seasonality=True to override this.\n"
     ]
    },
    {
     "name": "stdout",
     "output_type": "stream",
     "text": [
      "El producto demoró 5.429397344589233 Centro Norte San Antonio\n",
      "tiempo que lleva corriendo 12.045873181025188 Min\n"
     ]
    },
    {
     "name": "stderr",
     "output_type": "stream",
     "text": [
      "INFO:fbprophet:Disabling daily seasonality. Run prophet with daily_seasonality=True to override this.\n"
     ]
    },
    {
     "name": "stdout",
     "output_type": "stream",
     "text": [
      "El producto demoró 5.567139625549316 Centro Norte San Antonio\n",
      "tiempo que lleva corriendo 12.138667170206705 Min\n",
      "El producto demoró 0.017966032028198242 Centro Norte San Antonio\n",
      "tiempo que lleva corriendo 12.138983241717021 Min\n"
     ]
    },
    {
     "name": "stderr",
     "output_type": "stream",
     "text": [
      "INFO:fbprophet:Disabling daily seasonality. Run prophet with daily_seasonality=True to override this.\n"
     ]
    },
    {
     "name": "stdout",
     "output_type": "stream",
     "text": [
      "El producto demoró 2.891649007797241 Centro Norte San Antonio\n",
      "tiempo que lleva corriendo 12.187185676892598 Min\n"
     ]
    },
    {
     "name": "stderr",
     "output_type": "stream",
     "text": [
      "INFO:fbprophet:Disabling daily seasonality. Run prophet with daily_seasonality=True to override this.\n"
     ]
    },
    {
     "name": "stdout",
     "output_type": "stream",
     "text": [
      "El producto demoró 3.259932518005371 Centro Norte San Antonio\n",
      "tiempo que lleva corriendo 12.24151788552602 Min\n",
      "San Felipe\n"
     ]
    },
    {
     "name": "stderr",
     "output_type": "stream",
     "text": [
      "INFO:fbprophet:Disabling daily seasonality. Run prophet with daily_seasonality=True to override this.\n"
     ]
    },
    {
     "name": "stdout",
     "output_type": "stream",
     "text": [
      "El producto demoró 4.505636692047119 Centro Norte San Felipe\n",
      "tiempo que lleva corriendo 12.31737710237503 Min\n"
     ]
    },
    {
     "name": "stderr",
     "output_type": "stream",
     "text": [
      "INFO:fbprophet:Disabling daily seasonality. Run prophet with daily_seasonality=True to override this.\n"
     ]
    },
    {
     "name": "stdout",
     "output_type": "stream",
     "text": [
      "El producto demoró 4.577481985092163 Centro Norte San Felipe\n",
      "tiempo que lleva corriendo 12.393684701124828 Min\n"
     ]
    },
    {
     "name": "stderr",
     "output_type": "stream",
     "text": [
      "INFO:fbprophet:Disabling daily seasonality. Run prophet with daily_seasonality=True to override this.\n"
     ]
    },
    {
     "name": "stdout",
     "output_type": "stream",
     "text": [
      "El producto demoró 4.793082237243652 Centro Norte San Felipe\n",
      "tiempo que lleva corriendo 12.473577737808228 Min\n"
     ]
    },
    {
     "name": "stderr",
     "output_type": "stream",
     "text": [
      "INFO:fbprophet:Disabling daily seasonality. Run prophet with daily_seasonality=True to override this.\n"
     ]
    },
    {
     "name": "stdout",
     "output_type": "stream",
     "text": [
      "El producto demoró 4.684279441833496 Centro Norte San Felipe\n",
      "tiempo que lleva corriendo 12.551657370726268 Min\n"
     ]
    },
    {
     "name": "stderr",
     "output_type": "stream",
     "text": [
      "INFO:fbprophet:Disabling daily seasonality. Run prophet with daily_seasonality=True to override this.\n"
     ]
    },
    {
     "name": "stdout",
     "output_type": "stream",
     "text": [
      "El producto demoró 2.927072286605835 Centro Norte San Felipe\n",
      "tiempo que lleva corriendo 12.600462838013966 Min\n"
     ]
    },
    {
     "name": "stderr",
     "output_type": "stream",
     "text": [
      "INFO:fbprophet:Disabling daily seasonality. Run prophet with daily_seasonality=True to override this.\n"
     ]
    },
    {
     "name": "stdout",
     "output_type": "stream",
     "text": [
      "El producto demoró 4.153774738311768 Centro Norte San Felipe\n",
      "tiempo que lleva corriendo 12.66969241698583 Min\n"
     ]
    },
    {
     "name": "stderr",
     "output_type": "stream",
     "text": [
      "INFO:fbprophet:Disabling daily seasonality. Run prophet with daily_seasonality=True to override this.\n"
     ]
    },
    {
     "name": "stdout",
     "output_type": "stream",
     "text": [
      "El producto demoró 3.114701747894287 Centro Norte San Felipe\n",
      "tiempo que lleva corriendo 12.721620762348175 Min\n"
     ]
    },
    {
     "name": "stderr",
     "output_type": "stream",
     "text": [
      "INFO:fbprophet:Disabling daily seasonality. Run prophet with daily_seasonality=True to override this.\n"
     ]
    },
    {
     "name": "stdout",
     "output_type": "stream",
     "text": [
      "El producto demoró 4.172155857086182 Centro Norte San Felipe\n",
      "tiempo que lleva corriendo 12.791165014108023 Min\n"
     ]
    },
    {
     "name": "stderr",
     "output_type": "stream",
     "text": [
      "INFO:fbprophet:Disabling daily seasonality. Run prophet with daily_seasonality=True to override this.\n"
     ]
    },
    {
     "name": "stdout",
     "output_type": "stream",
     "text": [
      "El producto demoró 4.229128360748291 Centro Norte San Felipe\n",
      "tiempo que lleva corriendo 12.86165048678716 Min\n"
     ]
    },
    {
     "name": "stderr",
     "output_type": "stream",
     "text": [
      "INFO:fbprophet:Disabling daily seasonality. Run prophet with daily_seasonality=True to override this.\n"
     ]
    },
    {
     "name": "stdout",
     "output_type": "stream",
     "text": [
      "El producto demoró 4.425814151763916 Centro Norte San Felipe\n",
      "tiempo que lleva corriendo 12.935430685679117 Min\n"
     ]
    },
    {
     "name": "stderr",
     "output_type": "stream",
     "text": [
      "INFO:fbprophet:Disabling daily seasonality. Run prophet with daily_seasonality=True to override this.\n"
     ]
    },
    {
     "name": "stdout",
     "output_type": "stream",
     "text": [
      "El producto demoró 5.158402681350708 Centro Norte San Felipe\n",
      "tiempo que lleva corriendo 13.02140406370163 Min\n"
     ]
    },
    {
     "name": "stderr",
     "output_type": "stream",
     "text": [
      "INFO:fbprophet:Disabling daily seasonality. Run prophet with daily_seasonality=True to override this.\n"
     ]
    },
    {
     "name": "stdout",
     "output_type": "stream",
     "text": [
      "El producto demoró 5.944437265396118 Centro Norte San Felipe\n",
      "tiempo que lleva corriendo 13.120486319065094 Min\n"
     ]
    },
    {
     "name": "stderr",
     "output_type": "stream",
     "text": [
      "INFO:fbprophet:Disabling daily seasonality. Run prophet with daily_seasonality=True to override this.\n"
     ]
    },
    {
     "name": "stdout",
     "output_type": "stream",
     "text": [
      "El producto demoró 4.390329837799072 Centro Norte San Felipe\n",
      "tiempo que lleva corriendo 13.193666795889536 Min\n"
     ]
    },
    {
     "name": "stderr",
     "output_type": "stream",
     "text": [
      "INFO:fbprophet:Disabling daily seasonality. Run prophet with daily_seasonality=True to override this.\n"
     ]
    },
    {
     "name": "stdout",
     "output_type": "stream",
     "text": [
      "El producto demoró 4.74866247177124 Centro Norte San Felipe\n",
      "tiempo que lleva corriendo 13.273069047927857 Min\n"
     ]
    },
    {
     "name": "stderr",
     "output_type": "stream",
     "text": [
      "INFO:fbprophet:Disabling daily seasonality. Run prophet with daily_seasonality=True to override this.\n"
     ]
    },
    {
     "name": "stdout",
     "output_type": "stream",
     "text": [
      "El producto demoró 3.8932721614837646 Centro Norte San Felipe\n",
      "tiempo que lleva corriendo 13.33796523809433 Min\n"
     ]
    },
    {
     "name": "stderr",
     "output_type": "stream",
     "text": [
      "INFO:fbprophet:Disabling daily seasonality. Run prophet with daily_seasonality=True to override this.\n"
     ]
    },
    {
     "name": "stdout",
     "output_type": "stream",
     "text": [
      "El producto demoró 5.182355642318726 Centro Norte San Felipe\n",
      "tiempo que lleva corriendo 13.424346176783244 Min\n"
     ]
    },
    {
     "name": "stderr",
     "output_type": "stream",
     "text": [
      "INFO:fbprophet:Disabling daily seasonality. Run prophet with daily_seasonality=True to override this.\n"
     ]
    },
    {
     "name": "stdout",
     "output_type": "stream",
     "text": [
      "El producto demoró 3.956117868423462 Centro Norte San Felipe\n",
      "tiempo que lleva corriendo 13.4902814745903 Min\n"
     ]
    },
    {
     "name": "stderr",
     "output_type": "stream",
     "text": [
      "INFO:fbprophet:Disabling daily seasonality. Run prophet with daily_seasonality=True to override this.\n"
     ]
    },
    {
     "name": "stdout",
     "output_type": "stream",
     "text": [
      "El producto demoró 5.21579384803772 Centro Norte San Felipe\n",
      "tiempo que lleva corriendo 13.577211372057597 Min\n"
     ]
    },
    {
     "name": "stderr",
     "output_type": "stream",
     "text": [
      "INFO:fbprophet:Disabling daily seasonality. Run prophet with daily_seasonality=True to override this.\n"
     ]
    },
    {
     "name": "stdout",
     "output_type": "stream",
     "text": [
      "El producto demoró 5.0036890506744385 Centro Norte San Felipe\n",
      "tiempo que lleva corriendo 13.660622839132945 Min\n"
     ]
    },
    {
     "name": "stderr",
     "output_type": "stream",
     "text": [
      "INFO:fbprophet:Disabling daily seasonality. Run prophet with daily_seasonality=True to override this.\n"
     ]
    },
    {
     "name": "stdout",
     "output_type": "stream",
     "text": [
      "El producto demoró 3.5898284912109375 Centro Norte San Felipe\n",
      "tiempo que lleva corriendo 13.72045331398646 Min\n",
      "El producto demoró 0.009981155395507812 Centro Norte San Felipe\n",
      "tiempo que lleva corriendo 13.720619666576386 Min\n",
      "El producto demoró 0.00798487663269043 Centro Norte San Felipe\n",
      "tiempo que lleva corriendo 13.720752747853597 Min\n",
      "El producto demoró 0.007985830307006836 Centro Norte San Felipe\n",
      "tiempo que lleva corriendo 13.72088584502538 Min\n",
      "El producto demoró 0.006999492645263672 Centro Norte San Felipe\n",
      "tiempo que lleva corriendo 13.721018942197164 Min\n"
     ]
    },
    {
     "name": "stderr",
     "output_type": "stream",
     "text": [
      "INFO:fbprophet:Disabling daily seasonality. Run prophet with daily_seasonality=True to override this.\n"
     ]
    },
    {
     "name": "stdout",
     "output_type": "stream",
     "text": [
      "El producto demoró 3.342437744140625 Centro Norte San Felipe\n",
      "tiempo que lleva corriendo 13.776726237932841 Min\n"
     ]
    },
    {
     "name": "stderr",
     "output_type": "stream",
     "text": [
      "INFO:fbprophet:Disabling daily seasonality. Run prophet with daily_seasonality=True to override this.\n"
     ]
    },
    {
     "name": "stdout",
     "output_type": "stream",
     "text": [
      "El producto demoró 2.853191614151001 Centro Norte San Felipe\n",
      "tiempo que lleva corriendo 13.824453806877136 Min\n"
     ]
    },
    {
     "name": "stderr",
     "output_type": "stream",
     "text": [
      "INFO:fbprophet:Disabling daily seasonality. Run prophet with daily_seasonality=True to override this.\n"
     ]
    },
    {
     "name": "stdout",
     "output_type": "stream",
     "text": [
      "El producto demoró 3.3667502403259277 Centro Norte San Felipe\n",
      "tiempo que lleva corriendo 13.880566310882568 Min\n"
     ]
    },
    {
     "name": "stderr",
     "output_type": "stream",
     "text": [
      "INFO:fbprophet:Disabling daily seasonality. Run prophet with daily_seasonality=True to override this.\n"
     ]
    },
    {
     "name": "stdout",
     "output_type": "stream",
     "text": [
      "El producto demoró 3.2634084224700928 Centro Norte San Felipe\n",
      "tiempo que lleva corriendo 13.93495645125707 Min\n"
     ]
    },
    {
     "name": "stderr",
     "output_type": "stream",
     "text": [
      "INFO:fbprophet:Disabling daily seasonality. Run prophet with daily_seasonality=True to override this.\n"
     ]
    },
    {
     "name": "stdout",
     "output_type": "stream",
     "text": [
      "El producto demoró 2.8127758502960205 Centro Norte San Felipe\n",
      "tiempo que lleva corriendo 13.981836048762004 Min\n"
     ]
    },
    {
     "name": "stderr",
     "output_type": "stream",
     "text": [
      "INFO:fbprophet:Disabling daily seasonality. Run prophet with daily_seasonality=True to override this.\n"
     ]
    },
    {
     "name": "stdout",
     "output_type": "stream",
     "text": [
      "El producto demoró 3.2582569122314453 Centro Norte San Felipe\n",
      "tiempo que lleva corriendo 14.036156964302062 Min\n"
     ]
    },
    {
     "name": "stderr",
     "output_type": "stream",
     "text": [
      "INFO:fbprophet:Disabling daily seasonality. Run prophet with daily_seasonality=True to override this.\n"
     ]
    },
    {
     "name": "stdout",
     "output_type": "stream",
     "text": [
      "El producto demoró 3.612276554107666 Centro Norte San Felipe\n",
      "tiempo que lleva corriendo 14.096369886398316 Min\n"
     ]
    },
    {
     "name": "stderr",
     "output_type": "stream",
     "text": [
      "INFO:fbprophet:Disabling daily seasonality. Run prophet with daily_seasonality=True to override this.\n"
     ]
    },
    {
     "name": "stdout",
     "output_type": "stream",
     "text": [
      "El producto demoró 3.575356960296631 Centro Norte San Felipe\n",
      "tiempo que lleva corriendo 14.155959169069925 Min\n"
     ]
    },
    {
     "name": "stderr",
     "output_type": "stream",
     "text": [
      "INFO:fbprophet:Disabling daily seasonality. Run prophet with daily_seasonality=True to override this.\n"
     ]
    },
    {
     "name": "stdout",
     "output_type": "stream",
     "text": [
      "El producto demoró 2.5602548122406006 Centro Norte San Felipe\n",
      "tiempo que lleva corriendo 14.19863821665446 Min\n",
      "El producto demoró 0.008483648300170898 Centro Norte San Felipe\n",
      "tiempo que lleva corriendo 14.198787927627563 Min\n"
     ]
    },
    {
     "name": "stderr",
     "output_type": "stream",
     "text": [
      "INFO:fbprophet:Disabling daily seasonality. Run prophet with daily_seasonality=True to override this.\n"
     ]
    },
    {
     "name": "stdout",
     "output_type": "stream",
     "text": [
      "El producto demoró 3.0912461280822754 Centro Norte San Felipe\n",
      "tiempo que lleva corriendo 14.250316719214121 Min\n",
      "El producto demoró 0.006987094879150391 Centro Norte San Felipe\n",
      "tiempo que lleva corriendo 14.2505912343661 Min\n"
     ]
    },
    {
     "name": "stderr",
     "output_type": "stream",
     "text": [
      "INFO:fbprophet:Disabling daily seasonality. Run prophet with daily_seasonality=True to override this.\n"
     ]
    },
    {
     "name": "stdout",
     "output_type": "stream",
     "text": [
      "El producto demoró 3.1002304553985596 Centro Norte San Felipe\n",
      "tiempo que lleva corriendo 14.302261741956075 Min\n"
     ]
    },
    {
     "name": "stderr",
     "output_type": "stream",
     "text": [
      "INFO:fbprophet:Disabling daily seasonality. Run prophet with daily_seasonality=True to override this.\n"
     ]
    },
    {
     "name": "stdout",
     "output_type": "stream",
     "text": [
      "El producto demoró 2.8093347549438477 Centro Norte San Felipe\n",
      "tiempo que lleva corriendo 14.349092304706573 Min\n"
     ]
    },
    {
     "name": "stderr",
     "output_type": "stream",
     "text": [
      "INFO:fbprophet:Disabling daily seasonality. Run prophet with daily_seasonality=True to override this.\n"
     ]
    },
    {
     "name": "stdout",
     "output_type": "stream",
     "text": [
      "El producto demoró 2.767350435256958 Centro Norte San Felipe\n",
      "tiempo que lleva corriendo 14.395231143633525 Min\n",
      "El producto demoró 0.010481834411621094 Centro Norte San Felipe\n",
      "tiempo que lleva corriendo 14.395414157708485 Min\n",
      "El producto demoró 0.008481740951538086 Centro Norte San Felipe\n",
      "tiempo que lleva corriendo 14.395555520057679 Min\n",
      "El producto demoró 0.008517742156982422 Centro Norte San Felipe\n",
      "tiempo que lleva corriendo 14.395713571707407 Min\n"
     ]
    },
    {
     "name": "stderr",
     "output_type": "stream",
     "text": [
      "INFO:fbprophet:Disabling daily seasonality. Run prophet with daily_seasonality=True to override this.\n"
     ]
    },
    {
     "name": "stdout",
     "output_type": "stream",
     "text": [
      "El producto demoró 2.706965684890747 Centro Norte San Felipe\n",
      "tiempo que lleva corriendo 14.440837979316711 Min\n",
      "Viña del Mar\n"
     ]
    },
    {
     "name": "stderr",
     "output_type": "stream",
     "text": [
      "INFO:fbprophet:Disabling daily seasonality. Run prophet with daily_seasonality=True to override this.\n"
     ]
    },
    {
     "name": "stdout",
     "output_type": "stream",
     "text": [
      "El producto demoró 3.2220206260681152 Centro Norte Viña del Mar\n",
      "tiempo que lleva corriendo 14.495270268122356 Min\n"
     ]
    },
    {
     "name": "stderr",
     "output_type": "stream",
     "text": [
      "INFO:fbprophet:Disabling daily seasonality. Run prophet with daily_seasonality=True to override this.\n"
     ]
    },
    {
     "name": "stdout",
     "output_type": "stream",
     "text": [
      "El producto demoró 2.954256534576416 Centro Norte Viña del Mar\n",
      "tiempo que lleva corriendo 14.544507877031963 Min\n"
     ]
    },
    {
     "name": "stderr",
     "output_type": "stream",
     "text": [
      "INFO:fbprophet:Disabling daily seasonality. Run prophet with daily_seasonality=True to override this.\n"
     ]
    },
    {
     "name": "stdout",
     "output_type": "stream",
     "text": [
      "El producto demoró 3.8183109760284424 Centro Norte Viña del Mar\n",
      "tiempo que lleva corriendo 14.6081547498703 Min\n"
     ]
    },
    {
     "name": "stderr",
     "output_type": "stream",
     "text": [
      "INFO:fbprophet:Disabling daily seasonality. Run prophet with daily_seasonality=True to override this.\n"
     ]
    },
    {
     "name": "stdout",
     "output_type": "stream",
     "text": [
      "El producto demoró 4.078027725219727 Centro Norte Viña del Mar\n",
      "tiempo que lleva corriendo 14.676121878623963 Min\n"
     ]
    },
    {
     "name": "stderr",
     "output_type": "stream",
     "text": [
      "INFO:fbprophet:Disabling daily seasonality. Run prophet with daily_seasonality=True to override this.\n"
     ]
    },
    {
     "name": "stdout",
     "output_type": "stream",
     "text": [
      "El producto demoró 4.8474791049957275 Centro Norte Viña del Mar\n",
      "tiempo que lleva corriendo 14.756929783026377 Min\n"
     ]
    },
    {
     "name": "stderr",
     "output_type": "stream",
     "text": [
      "INFO:fbprophet:Disabling daily seasonality. Run prophet with daily_seasonality=True to override this.\n"
     ]
    },
    {
     "name": "stdout",
     "output_type": "stream",
     "text": [
      "El producto demoró 4.103863477706909 Centro Norte Viña del Mar\n",
      "tiempo que lleva corriendo 14.825335824489594 Min\n"
     ]
    },
    {
     "name": "stderr",
     "output_type": "stream",
     "text": [
      "INFO:fbprophet:Disabling daily seasonality. Run prophet with daily_seasonality=True to override this.\n"
     ]
    },
    {
     "name": "stdout",
     "output_type": "stream",
     "text": [
      "El producto demoró 4.117339372634888 Centro Norte Viña del Mar\n",
      "tiempo que lleva corriendo 14.893966444333394 Min\n"
     ]
    },
    {
     "name": "stderr",
     "output_type": "stream",
     "text": [
      "INFO:fbprophet:Disabling daily seasonality. Run prophet with daily_seasonality=True to override this.\n"
     ]
    },
    {
     "name": "stdout",
     "output_type": "stream",
     "text": [
      "El producto demoró 2.963503360748291 Centro Norte Viña del Mar\n",
      "tiempo que lleva corriendo 14.943366531531016 Min\n"
     ]
    },
    {
     "name": "stderr",
     "output_type": "stream",
     "text": [
      "INFO:fbprophet:Disabling daily seasonality. Run prophet with daily_seasonality=True to override this.\n"
     ]
    },
    {
     "name": "stdout",
     "output_type": "stream",
     "text": [
      "El producto demoró 6.566758155822754 Centro Norte Viña del Mar\n",
      "tiempo que lleva corriendo 15.05282082160314 Min\n"
     ]
    },
    {
     "name": "stderr",
     "output_type": "stream",
     "text": [
      "INFO:fbprophet:Disabling daily seasonality. Run prophet with daily_seasonality=True to override this.\n"
     ]
    },
    {
     "name": "stdout",
     "output_type": "stream",
     "text": [
      "El producto demoró 3.899745464324951 Centro Norte Viña del Mar\n",
      "tiempo que lleva corriendo 15.117824892203013 Min\n"
     ]
    },
    {
     "name": "stderr",
     "output_type": "stream",
     "text": [
      "INFO:fbprophet:Disabling daily seasonality. Run prophet with daily_seasonality=True to override this.\n"
     ]
    },
    {
     "name": "stdout",
     "output_type": "stream",
     "text": [
      "El producto demoró 3.885138988494873 Centro Norte Viña del Mar\n",
      "tiempo que lleva corriendo 15.182577208677928 Min\n"
     ]
    },
    {
     "name": "stderr",
     "output_type": "stream",
     "text": [
      "INFO:fbprophet:Disabling daily seasonality. Run prophet with daily_seasonality=True to override this.\n"
     ]
    },
    {
     "name": "stdout",
     "output_type": "stream",
     "text": [
      "El producto demoró 4.659830093383789 Centro Norte Viña del Mar\n",
      "tiempo que lleva corriendo 15.260257649421693 Min\n"
     ]
    },
    {
     "name": "stderr",
     "output_type": "stream",
     "text": [
      "INFO:fbprophet:Disabling daily seasonality. Run prophet with daily_seasonality=True to override this.\n"
     ]
    },
    {
     "name": "stdout",
     "output_type": "stream",
     "text": [
      "El producto demoró 4.126040458679199 Centro Norte Viña del Mar\n",
      "tiempo que lleva corriendo 15.32902499039968 Min\n"
     ]
    },
    {
     "name": "stderr",
     "output_type": "stream",
     "text": [
      "INFO:fbprophet:Disabling daily seasonality. Run prophet with daily_seasonality=True to override this.\n"
     ]
    },
    {
     "name": "stdout",
     "output_type": "stream",
     "text": [
      "El producto demoró 2.9774560928344727 Centro Norte Viña del Mar\n",
      "tiempo que lleva corriendo 15.378823932011922 Min\n"
     ]
    },
    {
     "name": "stderr",
     "output_type": "stream",
     "text": [
      "INFO:fbprophet:Disabling daily seasonality. Run prophet with daily_seasonality=True to override this.\n"
     ]
    },
    {
     "name": "stdout",
     "output_type": "stream",
     "text": [
      "El producto demoró 2.841215133666992 Centro Norte Viña del Mar\n",
      "tiempo que lleva corriendo 15.426185830434163 Min\n"
     ]
    },
    {
     "name": "stderr",
     "output_type": "stream",
     "text": [
      "INFO:fbprophet:Disabling daily seasonality. Run prophet with daily_seasonality=True to override this.\n"
     ]
    },
    {
     "name": "stdout",
     "output_type": "stream",
     "text": [
      "El producto demoró 2.664558172225952 Centro Norte Viña del Mar\n",
      "tiempo que lleva corriendo 15.470603152116139 Min\n"
     ]
    },
    {
     "name": "stderr",
     "output_type": "stream",
     "text": [
      "INFO:fbprophet:Disabling daily seasonality. Run prophet with daily_seasonality=True to override this.\n"
     ]
    },
    {
     "name": "stdout",
     "output_type": "stream",
     "text": [
      "El producto demoró 3.4620752334594727 Centro Norte Viña del Mar\n",
      "tiempo que lleva corriendo 15.528312412897746 Min\n"
     ]
    },
    {
     "name": "stderr",
     "output_type": "stream",
     "text": [
      "INFO:fbprophet:Disabling daily seasonality. Run prophet with daily_seasonality=True to override this.\n"
     ]
    },
    {
     "name": "stdout",
     "output_type": "stream",
     "text": [
      "El producto demoró 2.9694924354553223 Centro Norte Viña del Mar\n",
      "tiempo que lleva corriendo 15.577820591131847 Min\n"
     ]
    },
    {
     "name": "stderr",
     "output_type": "stream",
     "text": [
      "INFO:fbprophet:Disabling daily seasonality. Run prophet with daily_seasonality=True to override this.\n"
     ]
    },
    {
     "name": "stdout",
     "output_type": "stream",
     "text": [
      "El producto demoró 2.936018228530884 Centro Norte Viña del Mar\n",
      "tiempo que lleva corriendo 15.626754228274027 Min\n"
     ]
    },
    {
     "name": "stderr",
     "output_type": "stream",
     "text": [
      "INFO:fbprophet:Disabling daily seasonality. Run prophet with daily_seasonality=True to override this.\n"
     ]
    },
    {
     "name": "stdout",
     "output_type": "stream",
     "text": [
      "El producto demoró 4.112844944000244 Centro Norte Viña del Mar\n",
      "tiempo que lleva corriendo 15.695309972763061 Min\n"
     ]
    },
    {
     "name": "stderr",
     "output_type": "stream",
     "text": [
      "INFO:fbprophet:Disabling daily seasonality. Run prophet with daily_seasonality=True to override this.\n"
     ]
    },
    {
     "name": "stdout",
     "output_type": "stream",
     "text": [
      "El producto demoró 3.955141067504883 Centro Norte Viña del Mar\n",
      "tiempo que lleva corriendo 15.761237295468648 Min\n"
     ]
    },
    {
     "name": "stderr",
     "output_type": "stream",
     "text": [
      "INFO:fbprophet:Disabling daily seasonality. Run prophet with daily_seasonality=True to override this.\n"
     ]
    },
    {
     "name": "stdout",
     "output_type": "stream",
     "text": [
      "El producto demoró 2.9190855026245117 Centro Norte Viña del Mar\n",
      "tiempo que lleva corriendo 15.80988872051239 Min\n"
     ]
    },
    {
     "name": "stderr",
     "output_type": "stream",
     "text": [
      "INFO:fbprophet:Disabling daily seasonality. Run prophet with daily_seasonality=True to override this.\n"
     ]
    },
    {
     "name": "stdout",
     "output_type": "stream",
     "text": [
      "El producto demoró 4.598940849304199 Centro Norte Viña del Mar\n",
      "tiempo que lleva corriendo 15.886554062366486 Min\n"
     ]
    },
    {
     "name": "stderr",
     "output_type": "stream",
     "text": [
      "INFO:fbprophet:Disabling daily seasonality. Run prophet with daily_seasonality=True to override this.\n"
     ]
    },
    {
     "name": "stdout",
     "output_type": "stream",
     "text": [
      "El producto demoró 2.703470230102539 Centro Norte Viña del Mar\n",
      "tiempo que lleva corriendo 15.93162859280904 Min\n"
     ]
    },
    {
     "name": "stderr",
     "output_type": "stream",
     "text": [
      "INFO:fbprophet:Disabling daily seasonality. Run prophet with daily_seasonality=True to override this.\n"
     ]
    },
    {
     "name": "stdout",
     "output_type": "stream",
     "text": [
      "El producto demoró 2.9293808937072754 Centro Norte Viña del Mar\n",
      "tiempo que lleva corriendo 15.98045992453893 Min\n"
     ]
    },
    {
     "name": "stderr",
     "output_type": "stream",
     "text": [
      "INFO:fbprophet:Disabling daily seasonality. Run prophet with daily_seasonality=True to override this.\n"
     ]
    },
    {
     "name": "stdout",
     "output_type": "stream",
     "text": [
      "El producto demoró 2.6989917755126953 Centro Norte Viña del Mar\n",
      "tiempo que lleva corriendo 16.025592919190725 Min\n",
      "El producto demoró 0.0074863433837890625 Centro Norte Viña del Mar\n",
      "tiempo que lleva corriendo 16.025717691580454 Min\n"
     ]
    },
    {
     "name": "stderr",
     "output_type": "stream",
     "text": [
      "INFO:fbprophet:Disabling daily seasonality. Run prophet with daily_seasonality=True to override this.\n"
     ]
    },
    {
     "name": "stdout",
     "output_type": "stream",
     "text": [
      "El producto demoró 2.5881636142730713 Centro Norte Viña del Mar\n",
      "tiempo que lleva corriendo 16.068870413303376 Min\n"
     ]
    },
    {
     "name": "stderr",
     "output_type": "stream",
     "text": [
      "INFO:fbprophet:Disabling daily seasonality. Run prophet with daily_seasonality=True to override this.\n"
     ]
    },
    {
     "name": "stdout",
     "output_type": "stream",
     "text": [
      "El producto demoró 6.0597405433654785 Centro Norte Viña del Mar\n",
      "tiempo que lleva corriendo 16.169882734616596 Min\n",
      "El producto demoró 0.007968664169311523 Centro Norte Viña del Mar\n",
      "tiempo que lleva corriendo 16.170015545686088 Min\n"
     ]
    },
    {
     "name": "stderr",
     "output_type": "stream",
     "text": [
      "INFO:fbprophet:Disabling daily seasonality. Run prophet with daily_seasonality=True to override this.\n"
     ]
    },
    {
     "name": "stdout",
     "output_type": "stream",
     "text": [
      "El producto demoró 3.1062023639678955 Centro Norte Viña del Mar\n",
      "tiempo que lleva corriendo 16.221952291329703 Min\n"
     ]
    },
    {
     "name": "stderr",
     "output_type": "stream",
     "text": [
      "INFO:fbprophet:Disabling daily seasonality. Run prophet with daily_seasonality=True to override this.\n"
     ]
    },
    {
     "name": "stdout",
     "output_type": "stream",
     "text": [
      "El producto demoró 2.7977871894836426 Centro Norte Viña del Mar\n",
      "tiempo que lleva corriendo 16.26859873930613 Min\n"
     ]
    },
    {
     "name": "stderr",
     "output_type": "stream",
     "text": [
      "INFO:fbprophet:Disabling daily seasonality. Run prophet with daily_seasonality=True to override this.\n"
     ]
    },
    {
     "name": "stdout",
     "output_type": "stream",
     "text": [
      "El producto demoró 2.9445197582244873 Centro Norte Viña del Mar\n",
      "tiempo que lleva corriendo 16.31768238544464 Min\n"
     ]
    },
    {
     "name": "stderr",
     "output_type": "stream",
     "text": [
      "INFO:fbprophet:Disabling daily seasonality. Run prophet with daily_seasonality=True to override this.\n"
     ]
    },
    {
     "name": "stdout",
     "output_type": "stream",
     "text": [
      "El producto demoró 2.5612523555755615 Centro Norte Viña del Mar\n",
      "tiempo que lleva corriendo 16.36037823756536 Min\n"
     ]
    },
    {
     "name": "stderr",
     "output_type": "stream",
     "text": [
      "INFO:fbprophet:Disabling daily seasonality. Run prophet with daily_seasonality=True to override this.\n"
     ]
    },
    {
     "name": "stdout",
     "output_type": "stream",
     "text": [
      "El producto demoró 3.504077672958374 Centro Norte Viña del Mar\n",
      "tiempo que lleva corriendo 16.418787825107575 Min\n"
     ]
    },
    {
     "name": "stderr",
     "output_type": "stream",
     "text": [
      "INFO:fbprophet:Disabling daily seasonality. Run prophet with daily_seasonality=True to override this.\n"
     ]
    },
    {
     "name": "stdout",
     "output_type": "stream",
     "text": [
      "El producto demoró 3.626751184463501 Centro Norte Viña del Mar\n",
      "tiempo que lleva corriendo 16.47924199104309 Min\n"
     ]
    },
    {
     "name": "stderr",
     "output_type": "stream",
     "text": [
      "INFO:fbprophet:Disabling daily seasonality. Run prophet with daily_seasonality=True to override this.\n"
     ]
    },
    {
     "name": "stdout",
     "output_type": "stream",
     "text": [
      "El producto demoró 3.2963664531707764 Centro Norte Viña del Mar\n",
      "tiempo que lleva corriendo 16.53418972492218 Min\n",
      "El producto demoró 0.008983373641967773 Centro Norte Viña del Mar\n",
      "tiempo que lleva corriendo 16.534356089433036 Min\n",
      "El producto demoró 0.009980440139770508 Centro Norte Viña del Mar\n",
      "tiempo que lleva corriendo 16.534530758857727 Min\n",
      "El producto demoró 3.1291768550872803 Centro Norte Viña del Mar\n",
      "tiempo que lleva corriendo 16.586700344085692 Min\n",
      "El producto demoró 0.012975692749023438 Centro Norte Viña del Mar\n",
      "tiempo que lleva corriendo 16.58692492643992 Min\n",
      "El producto demoró 0.010481119155883789 Centro Norte Viña del Mar\n",
      "tiempo que lleva corriendo 16.587099611759186 Min\n",
      "El producto demoró 0.009981393814086914 Centro Norte Viña del Mar\n",
      "tiempo que lleva corriendo 16.587265968322754 Min\n",
      "Centro Sur\n"
     ]
    },
    {
     "name": "stderr",
     "output_type": "stream",
     "text": [
      "INFO:fbprophet:Disabling daily seasonality. Run prophet with daily_seasonality=True to override this.\n"
     ]
    },
    {
     "name": "stdout",
     "output_type": "stream",
     "text": [
      "Chillan\n"
     ]
    },
    {
     "name": "stderr",
     "output_type": "stream",
     "text": [
      "INFO:fbprophet:Disabling daily seasonality. Run prophet with daily_seasonality=True to override this.\n"
     ]
    },
    {
     "name": "stdout",
     "output_type": "stream",
     "text": [
      "El producto demoró 3.7012643814086914 Centro Sur Chillan\n",
      "tiempo que lleva corriendo 16.65506731271744 Min\n"
     ]
    },
    {
     "name": "stderr",
     "output_type": "stream",
     "text": [
      "INFO:fbprophet:Disabling daily seasonality. Run prophet with daily_seasonality=True to override this.\n"
     ]
    },
    {
     "name": "stdout",
     "output_type": "stream",
     "text": [
      "El producto demoró 5.022640228271484 Centro Sur Chillan\n",
      "tiempo que lleva corriendo 16.73877798318863 Min\n"
     ]
    },
    {
     "name": "stderr",
     "output_type": "stream",
     "text": [
      "INFO:fbprophet:Disabling daily seasonality. Run prophet with daily_seasonality=True to override this.\n"
     ]
    },
    {
     "name": "stdout",
     "output_type": "stream",
     "text": [
      "El producto demoró 4.4806835651397705 Centro Sur Chillan\n",
      "tiempo que lleva corriendo 16.813472640514373 Min\n"
     ]
    },
    {
     "name": "stderr",
     "output_type": "stream",
     "text": [
      "INFO:fbprophet:Disabling daily seasonality. Run prophet with daily_seasonality=True to override this.\n"
     ]
    },
    {
     "name": "stdout",
     "output_type": "stream",
     "text": [
      "El producto demoró 5.094550848007202 Centro Sur Chillan\n",
      "tiempo que lleva corriendo 16.89839814901352 Min\n"
     ]
    },
    {
     "name": "stderr",
     "output_type": "stream",
     "text": [
      "INFO:fbprophet:Disabling daily seasonality. Run prophet with daily_seasonality=True to override this.\n"
     ]
    },
    {
     "name": "stdout",
     "output_type": "stream",
     "text": [
      "El producto demoró 4.856463432312012 Centro Sur Chillan\n",
      "tiempo que lleva corriendo 16.979347515106202 Min\n"
     ]
    },
    {
     "name": "stderr",
     "output_type": "stream",
     "text": [
      "INFO:fbprophet:Disabling daily seasonality. Run prophet with daily_seasonality=True to override this.\n"
     ]
    },
    {
     "name": "stdout",
     "output_type": "stream",
     "text": [
      "El producto demoró 4.960269927978516 Centro Sur Chillan\n",
      "tiempo que lleva corriendo 17.06201868057251 Min\n"
     ]
    },
    {
     "name": "stderr",
     "output_type": "stream",
     "text": [
      "INFO:fbprophet:Disabling daily seasonality. Run prophet with daily_seasonality=True to override this.\n"
     ]
    },
    {
     "name": "stdout",
     "output_type": "stream",
     "text": [
      "El producto demoró 5.786728620529175 Centro Sur Chillan\n",
      "tiempo que lleva corriendo 17.158464157581328 Min\n"
     ]
    },
    {
     "name": "stderr",
     "output_type": "stream",
     "text": [
      "INFO:fbprophet:Disabling daily seasonality. Run prophet with daily_seasonality=True to override this.\n"
     ]
    },
    {
     "name": "stdout",
     "output_type": "stream",
     "text": [
      "El producto demoró 4.8884031772613525 Centro Sur Chillan\n",
      "tiempo que lleva corriendo 17.239945848782856 Min\n"
     ]
    },
    {
     "name": "stderr",
     "output_type": "stream",
     "text": [
      "INFO:fbprophet:Disabling daily seasonality. Run prophet with daily_seasonality=True to override this.\n"
     ]
    },
    {
     "name": "stdout",
     "output_type": "stream",
     "text": [
      "El producto demoró 5.221784353256226 Centro Sur Chillan\n",
      "tiempo que lleva corriendo 17.326975588003794 Min\n"
     ]
    },
    {
     "name": "stderr",
     "output_type": "stream",
     "text": [
      "INFO:fbprophet:Disabling daily seasonality. Run prophet with daily_seasonality=True to override this.\n"
     ]
    },
    {
     "name": "stdout",
     "output_type": "stream",
     "text": [
      "El producto demoró 5.418415784835815 Centro Sur Chillan\n",
      "tiempo que lleva corriendo 17.417299151420593 Min\n"
     ]
    },
    {
     "name": "stderr",
     "output_type": "stream",
     "text": [
      "INFO:fbprophet:Disabling daily seasonality. Run prophet with daily_seasonality=True to override this.\n"
     ]
    },
    {
     "name": "stdout",
     "output_type": "stream",
     "text": [
      "El producto demoró 5.696398973464966 Centro Sur Chillan\n",
      "tiempo que lleva corriendo 17.512247439225515 Min\n"
     ]
    },
    {
     "name": "stderr",
     "output_type": "stream",
     "text": [
      "INFO:fbprophet:Disabling daily seasonality. Run prophet with daily_seasonality=True to override this.\n"
     ]
    },
    {
     "name": "stdout",
     "output_type": "stream",
     "text": [
      "El producto demoró 6.7753965854644775 Centro Sur Chillan\n",
      "tiempo que lleva corriendo 17.625178980827332 Min\n"
     ]
    },
    {
     "name": "stderr",
     "output_type": "stream",
     "text": [
      "INFO:fbprophet:Disabling daily seasonality. Run prophet with daily_seasonality=True to override this.\n"
     ]
    },
    {
     "name": "stdout",
     "output_type": "stream",
     "text": [
      "El producto demoró 6.615187883377075 Centro Sur Chillan\n",
      "tiempo que lleva corriendo 17.735440425078075 Min\n"
     ]
    },
    {
     "name": "stderr",
     "output_type": "stream",
     "text": [
      "INFO:fbprophet:Disabling daily seasonality. Run prophet with daily_seasonality=True to override this.\n"
     ]
    },
    {
     "name": "stdout",
     "output_type": "stream",
     "text": [
      "El producto demoró 3.9526455402374268 Centro Sur Chillan\n",
      "tiempo que lleva corriendo 17.80151753028234 Min\n"
     ]
    },
    {
     "name": "stderr",
     "output_type": "stream",
     "text": [
      "INFO:fbprophet:Disabling daily seasonality. Run prophet with daily_seasonality=True to override this.\n"
     ]
    },
    {
     "name": "stdout",
     "output_type": "stream",
     "text": [
      "El producto demoró 3.327303171157837 Centro Sur Chillan\n",
      "tiempo que lleva corriendo 17.85698090394338 Min\n"
     ]
    },
    {
     "name": "stderr",
     "output_type": "stream",
     "text": [
      "INFO:fbprophet:Disabling daily seasonality. Run prophet with daily_seasonality=True to override this.\n"
     ]
    },
    {
     "name": "stdout",
     "output_type": "stream",
     "text": [
      "El producto demoró 2.9065945148468018 Centro Sur Chillan\n",
      "tiempo que lleva corriendo 17.9054324110349 Min\n"
     ]
    },
    {
     "name": "stderr",
     "output_type": "stream",
     "text": [
      "INFO:fbprophet:Disabling daily seasonality. Run prophet with daily_seasonality=True to override this.\n"
     ]
    },
    {
     "name": "stdout",
     "output_type": "stream",
     "text": [
      "El producto demoró 3.380711555480957 Centro Sur Chillan\n",
      "tiempo que lleva corriendo 17.961794181664786 Min\n",
      "El producto demoró 0.008984088897705078 Centro Sur Chillan\n",
      "tiempo que lleva corriendo 17.961960550149282 Min\n"
     ]
    },
    {
     "name": "stderr",
     "output_type": "stream",
     "text": [
      "INFO:fbprophet:Disabling daily seasonality. Run prophet with daily_seasonality=True to override this.\n"
     ]
    },
    {
     "name": "stdout",
     "output_type": "stream",
     "text": [
      "El producto demoró 3.275404930114746 Centro Sur Chillan\n",
      "tiempo que lleva corriendo 18.016550632317863 Min\n"
     ]
    },
    {
     "name": "stderr",
     "output_type": "stream",
     "text": [
      "INFO:fbprophet:Disabling daily seasonality. Run prophet with daily_seasonality=True to override this.\n"
     ]
    },
    {
     "name": "stdout",
     "output_type": "stream",
     "text": [
      "El producto demoró 3.865306854248047 Centro Sur Chillan\n",
      "tiempo que lleva corriendo 18.080989066759745 Min\n"
     ]
    },
    {
     "name": "stderr",
     "output_type": "stream",
     "text": [
      "INFO:fbprophet:Disabling daily seasonality. Run prophet with daily_seasonality=True to override this.\n"
     ]
    },
    {
     "name": "stdout",
     "output_type": "stream",
     "text": [
      "El producto demoró 4.969251871109009 Centro Sur Chillan\n",
      "tiempo que lleva corriendo 18.163818228244782 Min\n"
     ]
    },
    {
     "name": "stderr",
     "output_type": "stream",
     "text": [
      "INFO:fbprophet:Disabling daily seasonality. Run prophet with daily_seasonality=True to override this.\n"
     ]
    },
    {
     "name": "stdout",
     "output_type": "stream",
     "text": [
      "El producto demoró 5.211800575256348 Centro Sur Chillan\n",
      "tiempo que lleva corriendo 18.25068157116572 Min\n"
     ]
    },
    {
     "name": "stderr",
     "output_type": "stream",
     "text": [
      "INFO:fbprophet:Disabling daily seasonality. Run prophet with daily_seasonality=True to override this.\n"
     ]
    },
    {
     "name": "stdout",
     "output_type": "stream",
     "text": [
      "El producto demoró 3.342298984527588 Centro Sur Chillan\n",
      "tiempo que lleva corriendo 18.30639487107595 Min\n"
     ]
    },
    {
     "name": "stderr",
     "output_type": "stream",
     "text": [
      "INFO:fbprophet:Disabling daily seasonality. Run prophet with daily_seasonality=True to override this.\n"
     ]
    },
    {
     "name": "stdout",
     "output_type": "stream",
     "text": [
      "El producto demoró 4.845962285995483 Centro Sur Chillan\n",
      "tiempo que lleva corriendo 18.38717757066091 Min\n"
     ]
    },
    {
     "name": "stderr",
     "output_type": "stream",
     "text": [
      "INFO:fbprophet:Disabling daily seasonality. Run prophet with daily_seasonality=True to override this.\n"
     ]
    },
    {
     "name": "stdout",
     "output_type": "stream",
     "text": [
      "El producto demoró 3.259434223175049 Centro Sur Chillan\n",
      "tiempo que lleva corriendo 18.441501474380495 Min\n"
     ]
    },
    {
     "name": "stderr",
     "output_type": "stream",
     "text": [
      "INFO:fbprophet:Disabling daily seasonality. Run prophet with daily_seasonality=True to override this.\n"
     ]
    },
    {
     "name": "stdout",
     "output_type": "stream",
     "text": [
      "El producto demoró 3.1801016330718994 Centro Sur Chillan\n",
      "tiempo que lleva corriendo 18.49469420115153 Min\n"
     ]
    },
    {
     "name": "stderr",
     "output_type": "stream",
     "text": [
      "INFO:fbprophet:Disabling daily seasonality. Run prophet with daily_seasonality=True to override this.\n"
     ]
    },
    {
     "name": "stdout",
     "output_type": "stream",
     "text": [
      "El producto demoró 3.0808541774749756 Centro Sur Chillan\n",
      "tiempo que lleva corriendo 18.546056993802388 Min\n"
     ]
    },
    {
     "name": "stderr",
     "output_type": "stream",
     "text": [
      "INFO:fbprophet:Disabling daily seasonality. Run prophet with daily_seasonality=True to override this.\n"
     ]
    },
    {
     "name": "stdout",
     "output_type": "stream",
     "text": [
      "El producto demoró 2.78181791305542 Centro Sur Chillan\n",
      "tiempo que lleva corriendo 18.59242893854777 Min\n"
     ]
    },
    {
     "name": "stderr",
     "output_type": "stream",
     "text": [
      "INFO:fbprophet:Disabling daily seasonality. Run prophet with daily_seasonality=True to override this.\n"
     ]
    },
    {
     "name": "stdout",
     "output_type": "stream",
     "text": [
      "El producto demoró 2.8127646446228027 Centro Sur Chillan\n",
      "tiempo que lleva corriendo 18.63932501077652 Min\n",
      "El producto demoró 0.008485555648803711 Centro Sur Chillan\n",
      "tiempo que lleva corriendo 18.639474725723268 Min\n"
     ]
    },
    {
     "name": "stderr",
     "output_type": "stream",
     "text": [
      "INFO:fbprophet:Disabling daily seasonality. Run prophet with daily_seasonality=True to override this.\n"
     ]
    },
    {
     "name": "stdout",
     "output_type": "stream",
     "text": [
      "El producto demoró 3.0094168186187744 Centro Sur Chillan\n",
      "tiempo que lleva corriendo 18.68966473340988 Min\n"
     ]
    },
    {
     "name": "stderr",
     "output_type": "stream",
     "text": [
      "INFO:fbprophet:Disabling daily seasonality. Run prophet with daily_seasonality=True to override this.\n"
     ]
    },
    {
     "name": "stdout",
     "output_type": "stream",
     "text": [
      "El producto demoró 4.937306880950928 Centro Sur Chillan\n",
      "tiempo que lleva corriendo 18.771961534023283 Min\n"
     ]
    },
    {
     "name": "stderr",
     "output_type": "stream",
     "text": [
      "INFO:fbprophet:Disabling daily seasonality. Run prophet with daily_seasonality=True to override this.\n"
     ]
    },
    {
     "name": "stdout",
     "output_type": "stream",
     "text": [
      "El producto demoró 3.373731851577759 Centro Sur Chillan\n",
      "tiempo que lleva corriendo 18.828190398216247 Min\n"
     ]
    },
    {
     "name": "stderr",
     "output_type": "stream",
     "text": [
      "INFO:fbprophet:Disabling daily seasonality. Run prophet with daily_seasonality=True to override this.\n"
     ]
    },
    {
     "name": "stdout",
     "output_type": "stream",
     "text": [
      "El producto demoró 3.050313949584961 Centro Sur Chillan\n",
      "tiempo que lleva corriendo 18.879028964042664 Min\n"
     ]
    },
    {
     "name": "stderr",
     "output_type": "stream",
     "text": [
      "INFO:fbprophet:Disabling daily seasonality. Run prophet with daily_seasonality=True to override this.\n"
     ]
    },
    {
     "name": "stdout",
     "output_type": "stream",
     "text": [
      "El producto demoró 3.1022226810455322 Centro Sur Chillan\n",
      "tiempo que lleva corriendo 18.930749328931174 Min\n"
     ]
    },
    {
     "name": "stderr",
     "output_type": "stream",
     "text": [
      "INFO:fbprophet:Disabling daily seasonality. Run prophet with daily_seasonality=True to override this.\n"
     ]
    },
    {
     "name": "stdout",
     "output_type": "stream",
     "text": [
      "El producto demoró 2.9929308891296387 Centro Sur Chillan\n",
      "tiempo que lleva corriendo 18.980806175867716 Min\n"
     ]
    },
    {
     "name": "stderr",
     "output_type": "stream",
     "text": [
      "INFO:fbprophet:Disabling daily seasonality. Run prophet with daily_seasonality=True to override this.\n"
     ]
    },
    {
     "name": "stdout",
     "output_type": "stream",
     "text": [
      "El producto demoró 4.121830463409424 Centro Sur Chillan\n",
      "tiempo que lleva corriendo 19.049519987901053 Min\n"
     ]
    },
    {
     "name": "stderr",
     "output_type": "stream",
     "text": [
      "INFO:fbprophet:Disabling daily seasonality. Run prophet with daily_seasonality=True to override this.\n"
     ]
    },
    {
     "name": "stdout",
     "output_type": "stream",
     "text": [
      "El producto demoró 3.2719106674194336 Centro Sur Chillan\n",
      "tiempo que lleva corriendo 19.10408511161804 Min\n"
     ]
    },
    {
     "name": "stderr",
     "output_type": "stream",
     "text": [
      "INFO:fbprophet:Disabling daily seasonality. Run prophet with daily_seasonality=True to override this.\n"
     ]
    },
    {
     "name": "stdout",
     "output_type": "stream",
     "text": [
      "El producto demoró 4.6114208698272705 Centro Sur Chillan\n",
      "tiempo que lleva corriendo 19.180967076619467 Min\n"
     ]
    },
    {
     "name": "stderr",
     "output_type": "stream",
     "text": [
      "INFO:fbprophet:Disabling daily seasonality. Run prophet with daily_seasonality=True to override this.\n"
     ]
    },
    {
     "name": "stdout",
     "output_type": "stream",
     "text": [
      "El producto demoró 3.5229415893554688 Centro Sur Chillan\n",
      "tiempo que lleva corriendo 19.239682769775392 Min\n"
     ]
    },
    {
     "name": "stderr",
     "output_type": "stream",
     "text": [
      "INFO:fbprophet:Disabling daily seasonality. Run prophet with daily_seasonality=True to override this.\n"
     ]
    },
    {
     "name": "stdout",
     "output_type": "stream",
     "text": [
      "El producto demoró 3.6666767597198486 Centro Sur Chillan\n",
      "tiempo que lleva corriendo 19.30081066687902 Min\n"
     ]
    },
    {
     "name": "stderr",
     "output_type": "stream",
     "text": [
      "INFO:fbprophet:Disabling daily seasonality. Run prophet with daily_seasonality=True to override this.\n"
     ]
    },
    {
     "name": "stdout",
     "output_type": "stream",
     "text": [
      "El producto demoró 3.2220046520233154 Centro Sur Chillan\n",
      "tiempo que lleva corriendo 19.3545356909434 Min\n",
      "El producto demoró 0.008984565734863281 Centro Sur Chillan\n",
      "tiempo que lleva corriendo 19.35469371875127 Min\n",
      "Concepcion\n"
     ]
    },
    {
     "name": "stderr",
     "output_type": "stream",
     "text": [
      "INFO:fbprophet:Disabling daily seasonality. Run prophet with daily_seasonality=True to override this.\n"
     ]
    },
    {
     "name": "stdout",
     "output_type": "stream",
     "text": [
      "El producto demoró 3.8293707370758057 Centro Sur Concepcion\n",
      "tiempo que lleva corriendo 19.419664478302003 Min\n"
     ]
    },
    {
     "name": "stderr",
     "output_type": "stream",
     "text": [
      "INFO:fbprophet:Disabling daily seasonality. Run prophet with daily_seasonality=True to override this.\n"
     ]
    },
    {
     "name": "stdout",
     "output_type": "stream",
     "text": [
      "El producto demoró 5.592094659805298 Centro Sur Concepcion\n",
      "tiempo que lleva corriendo 19.512874654928844 Min\n"
     ]
    },
    {
     "name": "stderr",
     "output_type": "stream",
     "text": [
      "INFO:fbprophet:Disabling daily seasonality. Run prophet with daily_seasonality=True to override this.\n"
     ]
    },
    {
     "name": "stdout",
     "output_type": "stream",
     "text": [
      "El producto demoró 6.038743734359741 Centro Sur Concepcion\n",
      "tiempo que lleva corriendo 19.61352038383484 Min\n"
     ]
    },
    {
     "name": "stderr",
     "output_type": "stream",
     "text": [
      "INFO:fbprophet:Disabling daily seasonality. Run prophet with daily_seasonality=True to override this.\n"
     ]
    },
    {
     "name": "stdout",
     "output_type": "stream",
     "text": [
      "El producto demoró 6.179499387741089 Centro Sur Concepcion\n",
      "tiempo que lleva corriendo 19.716520400842033 Min\n"
     ]
    },
    {
     "name": "stderr",
     "output_type": "stream",
     "text": [
      "INFO:fbprophet:Disabling daily seasonality. Run prophet with daily_seasonality=True to override this.\n"
     ]
    },
    {
     "name": "stdout",
     "output_type": "stream",
     "text": [
      "El producto demoró 6.403581619262695 Centro Sur Concepcion\n",
      "tiempo que lleva corriendo 19.8232550740242 Min\n"
     ]
    },
    {
     "name": "stderr",
     "output_type": "stream",
     "text": [
      "INFO:fbprophet:Disabling daily seasonality. Run prophet with daily_seasonality=True to override this.\n"
     ]
    },
    {
     "name": "stdout",
     "output_type": "stream",
     "text": [
      "El producto demoró 6.30177116394043 Centro Sur Concepcion\n",
      "tiempo que lleva corriendo 19.928301294644672 Min\n"
     ]
    },
    {
     "name": "stderr",
     "output_type": "stream",
     "text": [
      "INFO:fbprophet:Disabling daily seasonality. Run prophet with daily_seasonality=True to override this.\n"
     ]
    },
    {
     "name": "stdout",
     "output_type": "stream",
     "text": [
      "El producto demoró 7.265977382659912 Centro Sur Concepcion\n",
      "tiempo que lleva corriendo 20.049409246444704 Min\n"
     ]
    },
    {
     "name": "stderr",
     "output_type": "stream",
     "text": [
      "INFO:fbprophet:Disabling daily seasonality. Run prophet with daily_seasonality=True to override this.\n"
     ]
    },
    {
     "name": "stdout",
     "output_type": "stream",
     "text": [
      "El producto demoró 3.4206509590148926 Centro Sur Concepcion\n",
      "tiempo que lleva corriendo 20.106420095761617 Min\n"
     ]
    },
    {
     "name": "stderr",
     "output_type": "stream",
     "text": [
      "INFO:fbprophet:Disabling daily seasonality. Run prophet with daily_seasonality=True to override this.\n"
     ]
    },
    {
     "name": "stdout",
     "output_type": "stream",
     "text": [
      "El producto demoró 7.091299772262573 Centro Sur Concepcion\n",
      "tiempo que lleva corriendo 20.224624840418496 Min\n"
     ]
    },
    {
     "name": "stderr",
     "output_type": "stream",
     "text": [
      "INFO:fbprophet:Disabling daily seasonality. Run prophet with daily_seasonality=True to override this.\n"
     ]
    },
    {
     "name": "stdout",
     "output_type": "stream",
     "text": [
      "El producto demoró 6.852746248245239 Centro Sur Concepcion\n",
      "tiempo que lleva corriendo 20.33883727788925 Min\n"
     ]
    },
    {
     "name": "stderr",
     "output_type": "stream",
     "text": [
      "INFO:fbprophet:Disabling daily seasonality. Run prophet with daily_seasonality=True to override this.\n"
     ]
    },
    {
     "name": "stdout",
     "output_type": "stream",
     "text": [
      "El producto demoró 6.521865129470825 Centro Sur Concepcion\n",
      "tiempo que lleva corriendo 20.447543342908222 Min\n"
     ]
    },
    {
     "name": "stderr",
     "output_type": "stream",
     "text": [
      "INFO:fbprophet:Disabling daily seasonality. Run prophet with daily_seasonality=True to override this.\n"
     ]
    },
    {
     "name": "stdout",
     "output_type": "stream",
     "text": [
      "El producto demoró 6.004324674606323 Centro Sur Concepcion\n",
      "tiempo que lleva corriendo 20.547615420818328 Min\n"
     ]
    },
    {
     "name": "stderr",
     "output_type": "stream",
     "text": [
      "INFO:fbprophet:Disabling daily seasonality. Run prophet with daily_seasonality=True to override this.\n"
     ]
    },
    {
     "name": "stdout",
     "output_type": "stream",
     "text": [
      "El producto demoró 6.2084455490112305 Centro Sur Concepcion\n",
      "tiempo que lleva corriendo 20.6511061946551 Min\n"
     ]
    },
    {
     "name": "stderr",
     "output_type": "stream",
     "text": [
      "INFO:fbprophet:Disabling daily seasonality. Run prophet with daily_seasonality=True to override this.\n"
     ]
    },
    {
     "name": "stdout",
     "output_type": "stream",
     "text": [
      "El producto demoró 3.2873823642730713 Centro Sur Concepcion\n",
      "tiempo que lleva corriendo 20.706228566169738 Min\n"
     ]
    },
    {
     "name": "stderr",
     "output_type": "stream",
     "text": [
      "INFO:fbprophet:Disabling daily seasonality. Run prophet with daily_seasonality=True to override this.\n"
     ]
    },
    {
     "name": "stdout",
     "output_type": "stream",
     "text": [
      "El producto demoró 6.93709135055542 Centro Sur Concepcion\n",
      "tiempo que lleva corriendo 20.82186338106791 Min\n"
     ]
    },
    {
     "name": "stderr",
     "output_type": "stream",
     "text": [
      "INFO:fbprophet:Disabling daily seasonality. Run prophet with daily_seasonality=True to override this.\n"
     ]
    },
    {
     "name": "stdout",
     "output_type": "stream",
     "text": [
      "El producto demoró 7.571409463882446 Centro Sur Concepcion\n",
      "tiempo que lleva corriendo 20.94806186358134 Min\n"
     ]
    },
    {
     "name": "stderr",
     "output_type": "stream",
     "text": [
      "INFO:fbprophet:Disabling daily seasonality. Run prophet with daily_seasonality=True to override this.\n"
     ]
    },
    {
     "name": "stdout",
     "output_type": "stream",
     "text": [
      "El producto demoró 7.1611738204956055 Centro Sur Concepcion\n",
      "tiempo que lleva corriendo 21.067423073450723 Min\n"
     ]
    },
    {
     "name": "stderr",
     "output_type": "stream",
     "text": [
      "INFO:fbprophet:Disabling daily seasonality. Run prophet with daily_seasonality=True to override this.\n"
     ]
    },
    {
     "name": "stdout",
     "output_type": "stream",
     "text": [
      "El producto demoró 8.068983554840088 Centro Sur Concepcion\n",
      "tiempo que lleva corriendo 21.20191445350647 Min\n"
     ]
    },
    {
     "name": "stderr",
     "output_type": "stream",
     "text": [
      "INFO:fbprophet:Disabling daily seasonality. Run prophet with daily_seasonality=True to override this.\n"
     ]
    },
    {
     "name": "stdout",
     "output_type": "stream",
     "text": [
      "El producto demoró 5.460837125778198 Centro Sur Concepcion\n",
      "tiempo que lleva corriendo 21.2929367184639 Min\n"
     ]
    },
    {
     "name": "stderr",
     "output_type": "stream",
     "text": [
      "INFO:fbprophet:Disabling daily seasonality. Run prophet with daily_seasonality=True to override this.\n"
     ]
    },
    {
     "name": "stdout",
     "output_type": "stream",
     "text": [
      "El producto demoró 5.668951511383057 Centro Sur Concepcion\n",
      "tiempo que lleva corriendo 21.387435893217724 Min\n"
     ]
    },
    {
     "name": "stderr",
     "output_type": "stream",
     "text": [
      "INFO:fbprophet:Disabling daily seasonality. Run prophet with daily_seasonality=True to override this.\n"
     ]
    },
    {
     "name": "stdout",
     "output_type": "stream",
     "text": [
      "El producto demoró 3.2449607849121094 Centro Sur Concepcion\n",
      "tiempo que lleva corriendo 21.441518572966256 Min\n"
     ]
    },
    {
     "name": "stderr",
     "output_type": "stream",
     "text": [
      "INFO:fbprophet:Disabling daily seasonality. Run prophet with daily_seasonality=True to override this.\n"
     ]
    },
    {
     "name": "stdout",
     "output_type": "stream",
     "text": [
      "El producto demoró 5.836138725280762 Centro Sur Concepcion\n",
      "tiempo que lleva corriendo 21.538795908292133 Min\n"
     ]
    },
    {
     "name": "stderr",
     "output_type": "stream",
     "text": [
      "INFO:fbprophet:Disabling daily seasonality. Run prophet with daily_seasonality=True to override this.\n"
     ]
    },
    {
     "name": "stdout",
     "output_type": "stream",
     "text": [
      "El producto demoró 5.417916536331177 Centro Sur Concepcion\n",
      "tiempo que lleva corriendo 21.62909451723099 Min\n",
      "El producto demoró 6.463969945907593 Centro Sur Concepcion\n",
      "tiempo que lleva corriendo 21.736835674444833 Min\n"
     ]
    },
    {
     "name": "stderr",
     "output_type": "stream",
     "text": [
      "INFO:fbprophet:Disabling daily seasonality. Run prophet with daily_seasonality=True to override this.\n",
      "INFO:fbprophet:Disabling daily seasonality. Run prophet with daily_seasonality=True to override this.\n"
     ]
    },
    {
     "name": "stdout",
     "output_type": "stream",
     "text": [
      "El producto demoró 7.419192790985107 Centro Sur Concepcion\n",
      "tiempo que lleva corriendo 21.860505533218383 Min\n"
     ]
    },
    {
     "name": "stderr",
     "output_type": "stream",
     "text": [
      "INFO:fbprophet:Disabling daily seasonality. Run prophet with daily_seasonality=True to override this.\n"
     ]
    },
    {
     "name": "stdout",
     "output_type": "stream",
     "text": [
      "El producto demoró 7.021433115005493 Centro Sur Concepcion\n",
      "tiempo que lleva corriendo 21.97777061065038 Min\n",
      "El producto demoró 0.013475179672241211 Centro Sur Concepcion\n",
      "tiempo que lleva corriendo 21.978003513813018 Min\n"
     ]
    },
    {
     "name": "stderr",
     "output_type": "stream",
     "text": [
      "INFO:fbprophet:Disabling daily seasonality. Run prophet with daily_seasonality=True to override this.\n"
     ]
    },
    {
     "name": "stdout",
     "output_type": "stream",
     "text": [
      "El producto demoró 6.998476505279541 Centro Sur Concepcion\n",
      "tiempo que lleva corriendo 22.094653109709423 Min\n"
     ]
    },
    {
     "name": "stderr",
     "output_type": "stream",
     "text": [
      "INFO:fbprophet:Disabling daily seasonality. Run prophet with daily_seasonality=True to override this.\n"
     ]
    },
    {
     "name": "stdout",
     "output_type": "stream",
     "text": [
      "El producto demoró 3.875788688659668 Centro Sur Concepcion\n",
      "tiempo que lleva corriendo 22.15925790866216 Min\n"
     ]
    },
    {
     "name": "stderr",
     "output_type": "stream",
     "text": [
      "INFO:fbprophet:Disabling daily seasonality. Run prophet with daily_seasonality=True to override this.\n"
     ]
    },
    {
     "name": "stdout",
     "output_type": "stream",
     "text": [
      "El producto demoró 3.7919411659240723 Centro Sur Concepcion\n",
      "tiempo que lleva corriendo 22.22246523698171 Min\n"
     ]
    },
    {
     "name": "stderr",
     "output_type": "stream",
     "text": [
      "INFO:fbprophet:Disabling daily seasonality. Run prophet with daily_seasonality=True to override this.\n"
     ]
    },
    {
     "name": "stdout",
     "output_type": "stream",
     "text": [
      "El producto demoró 6.216931343078613 Centro Sur Concepcion\n",
      "tiempo que lleva corriendo 22.326089068253836 Min\n"
     ]
    },
    {
     "name": "stderr",
     "output_type": "stream",
     "text": [
      "INFO:fbprophet:Disabling daily seasonality. Run prophet with daily_seasonality=True to override this.\n"
     ]
    },
    {
     "name": "stdout",
     "output_type": "stream",
     "text": [
      "El producto demoró 6.877701759338379 Centro Sur Concepcion\n",
      "tiempo que lleva corriendo 22.440734068552654 Min\n"
     ]
    },
    {
     "name": "stderr",
     "output_type": "stream",
     "text": [
      "INFO:fbprophet:Disabling daily seasonality. Run prophet with daily_seasonality=True to override this.\n"
     ]
    },
    {
     "name": "stdout",
     "output_type": "stream",
     "text": [
      "El producto demoró 7.636788606643677 Centro Sur Concepcion\n",
      "tiempo que lleva corriendo 22.568030520280203 Min\n"
     ]
    },
    {
     "name": "stderr",
     "output_type": "stream",
     "text": [
      "INFO:fbprophet:Disabling daily seasonality. Run prophet with daily_seasonality=True to override this.\n"
     ]
    },
    {
     "name": "stdout",
     "output_type": "stream",
     "text": [
      "El producto demoró 3.7570078372955322 Centro Sur Concepcion\n",
      "tiempo que lleva corriendo 22.630663990974426 Min\n"
     ]
    },
    {
     "name": "stderr",
     "output_type": "stream",
     "text": [
      "INFO:fbprophet:Disabling daily seasonality. Run prophet with daily_seasonality=True to override this.\n"
     ]
    },
    {
     "name": "stdout",
     "output_type": "stream",
     "text": [
      "El producto demoró 7.038398504257202 Centro Sur Concepcion\n",
      "tiempo que lleva corriendo 22.7479789574941 Min\n"
     ]
    },
    {
     "name": "stderr",
     "output_type": "stream",
     "text": [
      "INFO:fbprophet:Disabling daily seasonality. Run prophet with daily_seasonality=True to override this.\n"
     ]
    },
    {
     "name": "stdout",
     "output_type": "stream",
     "text": [
      "El producto demoró 3.999058246612549 Centro Sur Concepcion\n",
      "tiempo que lleva corriendo 22.814912736415863 Min\n"
     ]
    },
    {
     "name": "stderr",
     "output_type": "stream",
     "text": [
      "INFO:fbprophet:Disabling daily seasonality. Run prophet with daily_seasonality=True to override this.\n"
     ]
    },
    {
     "name": "stdout",
     "output_type": "stream",
     "text": [
      "El producto demoró 4.171738624572754 Centro Sur Concepcion\n",
      "tiempo que lleva corriendo 22.884449978669483 Min\n"
     ]
    },
    {
     "name": "stderr",
     "output_type": "stream",
     "text": [
      "INFO:fbprophet:Disabling daily seasonality. Run prophet with daily_seasonality=True to override this.\n"
     ]
    },
    {
     "name": "stdout",
     "output_type": "stream",
     "text": [
      "El producto demoró 3.6447203159332275 Centro Sur Concepcion\n",
      "tiempo que lleva corriendo 22.94519531726837 Min\n",
      "El producto demoró 0.00798654556274414 Centro Sur Concepcion\n",
      "tiempo que lleva corriendo 22.945336707433064 Min\n"
     ]
    },
    {
     "name": "stderr",
     "output_type": "stream",
     "text": [
      "INFO:fbprophet:Disabling daily seasonality. Run prophet with daily_seasonality=True to override this.\n"
     ]
    },
    {
     "name": "stdout",
     "output_type": "stream",
     "text": [
      "El producto demoró 3.860314130783081 Centro Sur Concepcion\n",
      "tiempo que lleva corriendo 23.00970023473104 Min\n"
     ]
    },
    {
     "name": "stderr",
     "output_type": "stream",
     "text": [
      "INFO:fbprophet:Disabling daily seasonality. Run prophet with daily_seasonality=True to override this.\n"
     ]
    },
    {
     "name": "stdout",
     "output_type": "stream",
     "text": [
      "El producto demoró 3.314831495285034 Centro Sur Concepcion\n",
      "tiempo que lleva corriendo 23.064955735206603 Min\n"
     ]
    },
    {
     "name": "stderr",
     "output_type": "stream",
     "text": [
      "INFO:fbprophet:Disabling daily seasonality. Run prophet with daily_seasonality=True to override this.\n"
     ]
    },
    {
     "name": "stdout",
     "output_type": "stream",
     "text": [
      "El producto demoró 3.3128321170806885 Centro Sur Concepcion\n",
      "tiempo que lleva corriendo 23.12018632888794 Min\n",
      "El producto demoró 0.012474536895751953 Centro Sur Concepcion\n",
      "tiempo que lleva corriendo 23.120402550697328 Min\n",
      "Curico\n"
     ]
    },
    {
     "name": "stderr",
     "output_type": "stream",
     "text": [
      "INFO:fbprophet:Disabling daily seasonality. Run prophet with daily_seasonality=True to override this.\n"
     ]
    },
    {
     "name": "stdout",
     "output_type": "stream",
     "text": [
      "El producto demoró 4.255083322525024 Centro Sur Curico\n",
      "tiempo que lleva corriendo 23.192218927542367 Min\n"
     ]
    },
    {
     "name": "stderr",
     "output_type": "stream",
     "text": [
      "INFO:fbprophet:Disabling daily seasonality. Run prophet with daily_seasonality=True to override this.\n"
     ]
    },
    {
     "name": "stdout",
     "output_type": "stream",
     "text": [
      "El producto demoró 4.188206672668457 Centro Sur Curico\n",
      "tiempo que lleva corriendo 23.26203070084254 Min\n"
     ]
    },
    {
     "name": "stderr",
     "output_type": "stream",
     "text": [
      "INFO:fbprophet:Disabling daily seasonality. Run prophet with daily_seasonality=True to override this.\n"
     ]
    },
    {
     "name": "stdout",
     "output_type": "stream",
     "text": [
      "El producto demoró 5.863585948944092 Centro Sur Curico\n",
      "tiempo que lleva corriendo 23.35978207588196 Min\n"
     ]
    },
    {
     "name": "stderr",
     "output_type": "stream",
     "text": [
      "INFO:fbprophet:Disabling daily seasonality. Run prophet with daily_seasonality=True to override this.\n"
     ]
    },
    {
     "name": "stdout",
     "output_type": "stream",
     "text": [
      "El producto demoró 6.177505016326904 Centro Sur Curico\n",
      "tiempo que lleva corriendo 23.462765463193257 Min\n"
     ]
    },
    {
     "name": "stderr",
     "output_type": "stream",
     "text": [
      "INFO:fbprophet:Disabling daily seasonality. Run prophet with daily_seasonality=True to override this.\n"
     ]
    },
    {
     "name": "stdout",
     "output_type": "stream",
     "text": [
      "El producto demoró 5.870574712753296 Centro Sur Curico\n",
      "tiempo que lleva corriendo 23.560616691907246 Min\n"
     ]
    },
    {
     "name": "stderr",
     "output_type": "stream",
     "text": [
      "INFO:fbprophet:Disabling daily seasonality. Run prophet with daily_seasonality=True to override this.\n"
     ]
    },
    {
     "name": "stdout",
     "output_type": "stream",
     "text": [
      "El producto demoró 5.980368137359619 Centro Sur Curico\n",
      "tiempo que lleva corriendo 23.66029782295227 Min\n"
     ]
    },
    {
     "name": "stderr",
     "output_type": "stream",
     "text": [
      "INFO:fbprophet:Disabling daily seasonality. Run prophet with daily_seasonality=True to override this.\n"
     ]
    },
    {
     "name": "stdout",
     "output_type": "stream",
     "text": [
      "El producto demoró 5.902519226074219 Centro Sur Curico\n",
      "tiempo que lleva corriendo 23.758681404590607 Min\n"
     ]
    },
    {
     "name": "stderr",
     "output_type": "stream",
     "text": [
      "INFO:fbprophet:Disabling daily seasonality. Run prophet with daily_seasonality=True to override this.\n"
     ]
    },
    {
     "name": "stdout",
     "output_type": "stream",
     "text": [
      "El producto demoró 3.775475263595581 Centro Sur Curico\n",
      "tiempo que lleva corriendo 23.8216059923172 Min\n"
     ]
    },
    {
     "name": "stderr",
     "output_type": "stream",
     "text": [
      "INFO:fbprophet:Disabling daily seasonality. Run prophet with daily_seasonality=True to override this.\n"
     ]
    },
    {
     "name": "stdout",
     "output_type": "stream",
     "text": [
      "El producto demoró 3.97562313079834 Centro Sur Curico\n",
      "tiempo que lleva corriendo 23.88787469069163 Min\n"
     ]
    },
    {
     "name": "stderr",
     "output_type": "stream",
     "text": [
      "INFO:fbprophet:Disabling daily seasonality. Run prophet with daily_seasonality=True to override this.\n"
     ]
    },
    {
     "name": "stdout",
     "output_type": "stream",
     "text": [
      "El producto demoró 5.334550142288208 Centro Sur Curico\n",
      "tiempo que lleva corriendo 23.976783859729768 Min\n"
     ]
    },
    {
     "name": "stderr",
     "output_type": "stream",
     "text": [
      "INFO:fbprophet:Disabling daily seasonality. Run prophet with daily_seasonality=True to override this.\n"
     ]
    },
    {
     "name": "stdout",
     "output_type": "stream",
     "text": [
      "El producto demoró 5.305127143859863 Centro Sur Curico\n",
      "tiempo que lleva corriendo 24.06521929105123 Min\n"
     ]
    },
    {
     "name": "stderr",
     "output_type": "stream",
     "text": [
      "INFO:fbprophet:Disabling daily seasonality. Run prophet with daily_seasonality=True to override this.\n"
     ]
    },
    {
     "name": "stdout",
     "output_type": "stream",
     "text": [
      "El producto demoró 6.4669647216796875 Centro Sur Curico\n",
      "tiempo que lleva corriendo 24.173010357220967 Min\n"
     ]
    },
    {
     "name": "stderr",
     "output_type": "stream",
     "text": [
      "INFO:fbprophet:Disabling daily seasonality. Run prophet with daily_seasonality=True to override this.\n"
     ]
    },
    {
     "name": "stdout",
     "output_type": "stream",
     "text": [
      "El producto demoró 5.427400350570679 Centro Sur Curico\n",
      "tiempo que lleva corriendo 24.263467029730478 Min\n"
     ]
    },
    {
     "name": "stderr",
     "output_type": "stream",
     "text": [
      "INFO:fbprophet:Disabling daily seasonality. Run prophet with daily_seasonality=True to override this.\n"
     ]
    },
    {
     "name": "stdout",
     "output_type": "stream",
     "text": [
      "El producto demoró 3.5284337997436523 Centro Sur Curico\n",
      "tiempo que lleva corriendo 24.322507162888844 Min\n"
     ]
    },
    {
     "name": "stderr",
     "output_type": "stream",
     "text": [
      "INFO:fbprophet:Disabling daily seasonality. Run prophet with daily_seasonality=True to override this.\n"
     ]
    },
    {
     "name": "stdout",
     "output_type": "stream",
     "text": [
      "El producto demoró 3.4795238971710205 Centro Sur Curico\n",
      "tiempo que lleva corriendo 24.380499227841696 Min\n"
     ]
    },
    {
     "name": "stderr",
     "output_type": "stream",
     "text": [
      "INFO:fbprophet:Disabling daily seasonality. Run prophet with daily_seasonality=True to override this.\n"
     ]
    },
    {
     "name": "stdout",
     "output_type": "stream",
     "text": [
      "El producto demoró 3.268935441970825 Centro Sur Curico\n",
      "tiempo que lleva corriendo 24.43499788045883 Min\n"
     ]
    },
    {
     "name": "stderr",
     "output_type": "stream",
     "text": [
      "INFO:fbprophet:Disabling daily seasonality. Run prophet with daily_seasonality=True to override this.\n"
     ]
    },
    {
     "name": "stdout",
     "output_type": "stream",
     "text": [
      "El producto demoró 4.8170318603515625 Centro Sur Curico\n",
      "tiempo que lleva corriendo 24.515281744798024 Min\n"
     ]
    },
    {
     "name": "stderr",
     "output_type": "stream",
     "text": [
      "INFO:fbprophet:Disabling daily seasonality. Run prophet with daily_seasonality=True to override this.\n"
     ]
    },
    {
     "name": "stdout",
     "output_type": "stream",
     "text": [
      "El producto demoró 3.6157710552215576 Centro Sur Curico\n",
      "tiempo que lleva corriendo 24.575552908579507 Min\n"
     ]
    },
    {
     "name": "stderr",
     "output_type": "stream",
     "text": [
      "INFO:fbprophet:Disabling daily seasonality. Run prophet with daily_seasonality=True to override this.\n"
     ]
    },
    {
     "name": "stdout",
     "output_type": "stream",
     "text": [
      "El producto demoró 3.6736655235290527 Centro Sur Curico\n",
      "tiempo que lleva corriendo 24.63680558204651 Min\n"
     ]
    },
    {
     "name": "stderr",
     "output_type": "stream",
     "text": [
      "INFO:fbprophet:Disabling daily seasonality. Run prophet with daily_seasonality=True to override this.\n"
     ]
    },
    {
     "name": "stdout",
     "output_type": "stream",
     "text": [
      "El producto demoró 3.894751787185669 Centro Sur Curico\n",
      "tiempo que lleva corriendo 24.701726432641347 Min\n"
     ]
    },
    {
     "name": "stderr",
     "output_type": "stream",
     "text": [
      "INFO:fbprophet:Disabling daily seasonality. Run prophet with daily_seasonality=True to override this.\n"
     ]
    },
    {
     "name": "stdout",
     "output_type": "stream",
     "text": [
      "El producto demoró 3.7135956287384033 Centro Sur Curico\n",
      "tiempo que lleva corriendo 24.763619693120322 Min\n"
     ]
    },
    {
     "name": "stderr",
     "output_type": "stream",
     "text": [
      "INFO:fbprophet:Disabling daily seasonality. Run prophet with daily_seasonality=True to override this.\n"
     ]
    },
    {
     "name": "stdout",
     "output_type": "stream",
     "text": [
      "El producto demoró 6.294283866882324 Centro Sur Curico\n",
      "tiempo que lleva corriendo 24.868532681465148 Min\n"
     ]
    },
    {
     "name": "stderr",
     "output_type": "stream",
     "text": [
      "INFO:fbprophet:Disabling daily seasonality. Run prophet with daily_seasonality=True to override this.\n"
     ]
    },
    {
     "name": "stdout",
     "output_type": "stream",
     "text": [
      "El producto demoró 7.0289225578308105 Centro Sur Curico\n",
      "tiempo que lleva corriendo 24.985689695676168 Min\n"
     ]
    },
    {
     "name": "stderr",
     "output_type": "stream",
     "text": [
      "INFO:fbprophet:Disabling daily seasonality. Run prophet with daily_seasonality=True to override this.\n"
     ]
    },
    {
     "name": "stdout",
     "output_type": "stream",
     "text": [
      "El producto demoró 6.791359901428223 Centro Sur Curico\n",
      "tiempo que lleva corriendo 25.098887332280476 Min\n"
     ]
    },
    {
     "name": "stderr",
     "output_type": "stream",
     "text": [
      "INFO:fbprophet:Disabling daily seasonality. Run prophet with daily_seasonality=True to override this.\n"
     ]
    },
    {
     "name": "stdout",
     "output_type": "stream",
     "text": [
      "El producto demoró 4.509611368179321 Centro Sur Curico\n",
      "tiempo que lleva corriendo 25.1740558385849 Min\n",
      "El producto demoró 0.008979558944702148 Centro Sur Curico\n",
      "tiempo que lleva corriendo 25.174205497900644 Min\n"
     ]
    },
    {
     "name": "stderr",
     "output_type": "stream",
     "text": [
      "INFO:fbprophet:Disabling daily seasonality. Run prophet with daily_seasonality=True to override this.\n"
     ]
    },
    {
     "name": "stdout",
     "output_type": "stream",
     "text": [
      "El producto demoró 3.4301180839538574 Centro Sur Curico\n",
      "tiempo que lleva corriendo 25.23154882192612 Min\n"
     ]
    },
    {
     "name": "stderr",
     "output_type": "stream",
     "text": [
      "INFO:fbprophet:Disabling daily seasonality. Run prophet with daily_seasonality=True to override this.\n"
     ]
    },
    {
     "name": "stdout",
     "output_type": "stream",
     "text": [
      "El producto demoró 4.275548934936523 Centro Sur Curico\n",
      "tiempo que lleva corriendo 25.302816251913708 Min\n"
     ]
    },
    {
     "name": "stderr",
     "output_type": "stream",
     "text": [
      "INFO:fbprophet:Disabling daily seasonality. Run prophet with daily_seasonality=True to override this.\n"
     ]
    },
    {
     "name": "stdout",
     "output_type": "stream",
     "text": [
      "El producto demoró 3.3996710777282715 Centro Sur Curico\n",
      "tiempo que lleva corriendo 25.35948575735092 Min\n"
     ]
    },
    {
     "name": "stderr",
     "output_type": "stream",
     "text": [
      "INFO:fbprophet:Disabling daily seasonality. Run prophet with daily_seasonality=True to override this.\n"
     ]
    },
    {
     "name": "stdout",
     "output_type": "stream",
     "text": [
      "El producto demoró 3.900737762451172 Centro Sur Curico\n",
      "tiempo que lleva corriendo 25.424506374200185 Min\n"
     ]
    },
    {
     "name": "stderr",
     "output_type": "stream",
     "text": [
      "INFO:fbprophet:Disabling daily seasonality. Run prophet with daily_seasonality=True to override this.\n"
     ]
    },
    {
     "name": "stdout",
     "output_type": "stream",
     "text": [
      "El producto demoró 3.0328588485717773 Centro Sur Curico\n",
      "tiempo que lleva corriendo 25.47505402167638 Min\n"
     ]
    },
    {
     "name": "stderr",
     "output_type": "stream",
     "text": [
      "INFO:fbprophet:Disabling daily seasonality. Run prophet with daily_seasonality=True to override this.\n"
     ]
    },
    {
     "name": "stdout",
     "output_type": "stream",
     "text": [
      "El producto demoró 4.147778511047363 Centro Sur Curico\n",
      "tiempo que lleva corriendo 25.54419196844101 Min\n"
     ]
    },
    {
     "name": "stderr",
     "output_type": "stream",
     "text": [
      "INFO:fbprophet:Disabling daily seasonality. Run prophet with daily_seasonality=True to override this.\n"
     ]
    },
    {
     "name": "stdout",
     "output_type": "stream",
     "text": [
      "El producto demoró 3.2898776531219482 Centro Sur Curico\n",
      "tiempo que lleva corriendo 25.599031631151835 Min\n"
     ]
    },
    {
     "name": "stderr",
     "output_type": "stream",
     "text": [
      "INFO:fbprophet:Disabling daily seasonality. Run prophet with daily_seasonality=True to override this.\n"
     ]
    },
    {
     "name": "stdout",
     "output_type": "stream",
     "text": [
      "El producto demoró 5.653975248336792 Centro Sur Curico\n",
      "tiempo que lleva corriendo 25.693264551957448 Min\n",
      "El producto demoró 0.00998234748840332 Centro Sur Curico\n",
      "tiempo que lleva corriendo 25.69343926111857 Min\n"
     ]
    },
    {
     "name": "stderr",
     "output_type": "stream",
     "text": [
      "INFO:fbprophet:Disabling daily seasonality. Run prophet with daily_seasonality=True to override this.\n"
     ]
    },
    {
     "name": "stdout",
     "output_type": "stream",
     "text": [
      "El producto demoró 5.2487311363220215 Centro Sur Curico\n",
      "tiempo que lleva corriendo 25.780926426251728 Min\n"
     ]
    },
    {
     "name": "stderr",
     "output_type": "stream",
     "text": [
      "INFO:fbprophet:Disabling daily seasonality. Run prophet with daily_seasonality=True to override this.\n"
     ]
    },
    {
     "name": "stdout",
     "output_type": "stream",
     "text": [
      "El producto demoró 5.375996351242065 Centro Sur Curico\n",
      "tiempo que lleva corriendo 25.870534658432007 Min\n",
      "El producto demoró 0.011480569839477539 Centro Sur Curico\n",
      "tiempo que lleva corriendo 25.87091732819875 Min\n"
     ]
    },
    {
     "name": "stderr",
     "output_type": "stream",
     "text": [
      "INFO:fbprophet:Disabling daily seasonality. Run prophet with daily_seasonality=True to override this.\n"
     ]
    },
    {
     "name": "stdout",
     "output_type": "stream",
     "text": [
      "El producto demoró 6.536832571029663 Centro Sur Curico\n",
      "tiempo que lleva corriendo 25.979872850577035 Min\n",
      "El producto demoró 0.006987810134887695 Centro Sur Curico\n",
      "tiempo que lleva corriendo 25.980014264583588 Min\n",
      "Los Angeles\n"
     ]
    },
    {
     "name": "stderr",
     "output_type": "stream",
     "text": [
      "INFO:fbprophet:Disabling daily seasonality. Run prophet with daily_seasonality=True to override this.\n"
     ]
    },
    {
     "name": "stdout",
     "output_type": "stream",
     "text": [
      "El producto demoró 3.280395030975342 Centro Sur Los Angeles\n",
      "tiempo que lleva corriendo 26.03556089003881 Min\n"
     ]
    },
    {
     "name": "stderr",
     "output_type": "stream",
     "text": [
      "INFO:fbprophet:Disabling daily seasonality. Run prophet with daily_seasonality=True to override this.\n"
     ]
    },
    {
     "name": "stdout",
     "output_type": "stream",
     "text": [
      "El producto demoró 6.649127244949341 Centro Sur Los Angeles\n",
      "tiempo que lleva corriendo 26.14638801018397 Min\n"
     ]
    },
    {
     "name": "stderr",
     "output_type": "stream",
     "text": [
      "INFO:fbprophet:Disabling daily seasonality. Run prophet with daily_seasonality=True to override this.\n"
     ]
    },
    {
     "name": "stdout",
     "output_type": "stream",
     "text": [
      "El producto demoró 6.060221195220947 Centro Sur Los Angeles\n",
      "tiempo que lleva corriendo 26.247391696770986 Min\n"
     ]
    },
    {
     "name": "stderr",
     "output_type": "stream",
     "text": [
      "INFO:fbprophet:Disabling daily seasonality. Run prophet with daily_seasonality=True to override this.\n"
     ]
    },
    {
     "name": "stdout",
     "output_type": "stream",
     "text": [
      "El producto demoró 5.71436619758606 Centro Sur Los Angeles\n",
      "tiempo que lleva corriendo 26.342656060059866 Min\n"
     ]
    },
    {
     "name": "stderr",
     "output_type": "stream",
     "text": [
      "INFO:fbprophet:Disabling daily seasonality. Run prophet with daily_seasonality=True to override this.\n"
     ]
    },
    {
     "name": "stdout",
     "output_type": "stream",
     "text": [
      "El producto demoró 5.781243324279785 Centro Sur Los Angeles\n",
      "tiempo que lleva corriendo 26.439026745160422 Min\n"
     ]
    },
    {
     "name": "stderr",
     "output_type": "stream",
     "text": [
      "INFO:fbprophet:Disabling daily seasonality. Run prophet with daily_seasonality=True to override this.\n"
     ]
    },
    {
     "name": "stdout",
     "output_type": "stream",
     "text": [
      "El producto demoró 6.1325883865356445 Centro Sur Los Angeles\n",
      "tiempo que lleva corriendo 26.54125314950943 Min\n"
     ]
    },
    {
     "name": "stderr",
     "output_type": "stream",
     "text": [
      "INFO:fbprophet:Disabling daily seasonality. Run prophet with daily_seasonality=True to override this.\n"
     ]
    },
    {
     "name": "stdout",
     "output_type": "stream",
     "text": [
      "El producto demoró 6.117615222930908 Centro Sur Los Angeles\n",
      "tiempo que lleva corriendo 26.643221747875213 Min\n"
     ]
    },
    {
     "name": "stderr",
     "output_type": "stream",
     "text": [
      "INFO:fbprophet:Disabling daily seasonality. Run prophet with daily_seasonality=True to override this.\n"
     ]
    },
    {
     "name": "stdout",
     "output_type": "stream",
     "text": [
      "El producto demoró 4.772118806838989 Centro Sur Los Angeles\n",
      "tiempo que lleva corriendo 26.72275706132253 Min\n"
     ]
    },
    {
     "name": "stderr",
     "output_type": "stream",
     "text": [
      "INFO:fbprophet:Disabling daily seasonality. Run prophet with daily_seasonality=True to override this.\n"
     ]
    },
    {
     "name": "stdout",
     "output_type": "stream",
     "text": [
      "El producto demoró 5.696401357650757 Centro Sur Los Angeles\n",
      "tiempo que lleva corriendo 26.81770534912745 Min\n"
     ]
    },
    {
     "name": "stderr",
     "output_type": "stream",
     "text": [
      "INFO:fbprophet:Disabling daily seasonality. Run prophet with daily_seasonality=True to override this.\n"
     ]
    },
    {
     "name": "stdout",
     "output_type": "stream",
     "text": [
      "El producto demoró 5.615051031112671 Centro Sur Los Angeles\n",
      "tiempo que lleva corriendo 26.91129786968231 Min\n"
     ]
    },
    {
     "name": "stderr",
     "output_type": "stream",
     "text": [
      "INFO:fbprophet:Disabling daily seasonality. Run prophet with daily_seasonality=True to override this.\n"
     ]
    },
    {
     "name": "stdout",
     "output_type": "stream",
     "text": [
      "El producto demoró 6.155045032501221 Centro Sur Los Angeles\n",
      "tiempo que lleva corriendo 27.013890266418457 Min\n"
     ]
    },
    {
     "name": "stderr",
     "output_type": "stream",
     "text": [
      "INFO:fbprophet:Disabling daily seasonality. Run prophet with daily_seasonality=True to override this.\n"
     ]
    },
    {
     "name": "stdout",
     "output_type": "stream",
     "text": [
      "El producto demoró 6.341199159622192 Centro Sur Los Angeles\n",
      "tiempo que lleva corriendo 27.119576919078828 Min\n"
     ]
    },
    {
     "name": "stderr",
     "output_type": "stream",
     "text": [
      "INFO:fbprophet:Disabling daily seasonality. Run prophet with daily_seasonality=True to override this.\n"
     ]
    },
    {
     "name": "stdout",
     "output_type": "stream",
     "text": [
      "El producto demoró 5.828154563903809 Centro Sur Los Angeles\n",
      "tiempo que lleva corriendo 27.21672113339106 Min\n"
     ]
    },
    {
     "name": "stderr",
     "output_type": "stream",
     "text": [
      "INFO:fbprophet:Disabling daily seasonality. Run prophet with daily_seasonality=True to override this.\n"
     ]
    },
    {
     "name": "stdout",
     "output_type": "stream",
     "text": [
      "El producto demoró 7.791001558303833 Centro Sur Los Angeles\n",
      "tiempo que lleva corriendo 27.34677911599477 Min\n"
     ]
    },
    {
     "name": "stderr",
     "output_type": "stream",
     "text": [
      "INFO:fbprophet:Disabling daily seasonality. Run prophet with daily_seasonality=True to override this.\n"
     ]
    },
    {
     "name": "stdout",
     "output_type": "stream",
     "text": [
      "El producto demoró 3.2374768257141113 Centro Sur Los Angeles\n",
      "tiempo que lleva corriendo 27.400737063090006 Min\n"
     ]
    },
    {
     "name": "stderr",
     "output_type": "stream",
     "text": [
      "INFO:fbprophet:Disabling daily seasonality. Run prophet with daily_seasonality=True to override this.\n"
     ]
    },
    {
     "name": "stdout",
     "output_type": "stream",
     "text": [
      "El producto demoró 3.361741065979004 Centro Sur Los Angeles\n",
      "tiempo que lleva corriendo 27.45677440961202 Min\n"
     ]
    },
    {
     "name": "stderr",
     "output_type": "stream",
     "text": [
      "INFO:fbprophet:Disabling daily seasonality. Run prophet with daily_seasonality=True to override this.\n"
     ]
    },
    {
     "name": "stdout",
     "output_type": "stream",
     "text": [
      "El producto demoró 3.612278699874878 Centro Sur Los Angeles\n",
      "tiempo que lleva corriendo 27.516979054609934 Min\n"
     ]
    },
    {
     "name": "stderr",
     "output_type": "stream",
     "text": [
      "INFO:fbprophet:Disabling daily seasonality. Run prophet with daily_seasonality=True to override this.\n"
     ]
    },
    {
     "name": "stdout",
     "output_type": "stream",
     "text": [
      "El producto demoró 3.22001051902771 Centro Sur Los Angeles\n",
      "tiempo que lleva corriendo 27.57066249450048 Min\n"
     ]
    },
    {
     "name": "stderr",
     "output_type": "stream",
     "text": [
      "INFO:fbprophet:Disabling daily seasonality. Run prophet with daily_seasonality=True to override this.\n"
     ]
    },
    {
     "name": "stdout",
     "output_type": "stream",
     "text": [
      "El producto demoró 3.4820144176483154 Centro Sur Los Angeles\n",
      "tiempo que lleva corriendo 27.62872107028961 Min\n"
     ]
    },
    {
     "name": "stderr",
     "output_type": "stream",
     "text": [
      "INFO:fbprophet:Disabling daily seasonality. Run prophet with daily_seasonality=True to override this.\n"
     ]
    },
    {
     "name": "stdout",
     "output_type": "stream",
     "text": [
      "El producto demoró 3.6292507648468018 Centro Sur Los Angeles\n",
      "tiempo que lleva corriendo 27.68921689192454 Min\n"
     ]
    },
    {
     "name": "stderr",
     "output_type": "stream",
     "text": [
      "INFO:fbprophet:Disabling daily seasonality. Run prophet with daily_seasonality=True to override this.\n"
     ]
    },
    {
     "name": "stdout",
     "output_type": "stream",
     "text": [
      "El producto demoró 3.8742897510528564 Centro Sur Los Angeles\n",
      "tiempo que lleva corriendo 27.753788387775423 Min\n"
     ]
    },
    {
     "name": "stderr",
     "output_type": "stream",
     "text": [
      "INFO:fbprophet:Disabling daily seasonality. Run prophet with daily_seasonality=True to override this.\n"
     ]
    },
    {
     "name": "stdout",
     "output_type": "stream",
     "text": [
      "El producto demoró 4.668811798095703 Centro Sur Los Angeles\n",
      "tiempo que lleva corriendo 27.831635133425394 Min\n"
     ]
    },
    {
     "name": "stderr",
     "output_type": "stream",
     "text": [
      "INFO:fbprophet:Disabling daily seasonality. Run prophet with daily_seasonality=True to override this.\n"
     ]
    },
    {
     "name": "stdout",
     "output_type": "stream",
     "text": [
      "El producto demoró 4.0339930057525635 Centro Sur Los Angeles\n",
      "tiempo que lleva corriendo 27.899051356315614 Min\n"
     ]
    },
    {
     "name": "stderr",
     "output_type": "stream",
     "text": [
      "INFO:fbprophet:Disabling daily seasonality. Run prophet with daily_seasonality=True to override this.\n"
     ]
    },
    {
     "name": "stdout",
     "output_type": "stream",
     "text": [
      "El producto demoró 6.899659633636475 Centro Sur Los Angeles\n",
      "tiempo que lleva corriendo 28.014062317212424 Min\n"
     ]
    },
    {
     "name": "stderr",
     "output_type": "stream",
     "text": [
      "INFO:fbprophet:Disabling daily seasonality. Run prophet with daily_seasonality=True to override this.\n"
     ]
    },
    {
     "name": "stdout",
     "output_type": "stream",
     "text": [
      "El producto demoró 7.042394161224365 Centro Sur Los Angeles\n",
      "tiempo que lleva corriendo 28.131452198823293 Min\n"
     ]
    },
    {
     "name": "stderr",
     "output_type": "stream",
     "text": [
      "INFO:fbprophet:Disabling daily seasonality. Run prophet with daily_seasonality=True to override this.\n"
     ]
    },
    {
     "name": "stdout",
     "output_type": "stream",
     "text": [
      "El producto demoró 4.9193480014801025 Centro Sur Los Angeles\n",
      "tiempo que lleva corriendo 28.213449649016063 Min\n"
     ]
    },
    {
     "name": "stderr",
     "output_type": "stream",
     "text": [
      "INFO:fbprophet:Disabling daily seasonality. Run prophet with daily_seasonality=True to override this.\n"
     ]
    },
    {
     "name": "stdout",
     "output_type": "stream",
     "text": [
      "El producto demoró 5.9284656047821045 Centro Sur Los Angeles\n",
      "tiempo que lleva corriendo 28.312265721956887 Min\n"
     ]
    },
    {
     "name": "stderr",
     "output_type": "stream",
     "text": [
      "INFO:fbprophet:Disabling daily seasonality. Run prophet with daily_seasonality=True to override this.\n"
     ]
    },
    {
     "name": "stdout",
     "output_type": "stream",
     "text": [
      "El producto demoró 9.017717123031616 Centro Sur Los Angeles\n",
      "tiempo que lleva corriendo 28.462569336096447 Min\n"
     ]
    },
    {
     "name": "stderr",
     "output_type": "stream",
     "text": [
      "INFO:fbprophet:Disabling daily seasonality. Run prophet with daily_seasonality=True to override this.\n"
     ]
    },
    {
     "name": "stdout",
     "output_type": "stream",
     "text": [
      "El producto demoró 7.86336612701416 Centro Sur Los Angeles\n",
      "tiempo que lleva corriendo 28.59363375902176 Min\n"
     ]
    },
    {
     "name": "stderr",
     "output_type": "stream",
     "text": [
      "INFO:fbprophet:Disabling daily seasonality. Run prophet with daily_seasonality=True to override this.\n"
     ]
    },
    {
     "name": "stdout",
     "output_type": "stream",
     "text": [
      "El producto demoró 3.5878233909606934 Centro Sur Los Angeles\n",
      "tiempo que lleva corriendo 28.65343081553777 Min\n",
      "El producto demoró 0.009980440139770508 Centro Sur Los Angeles\n",
      "tiempo que lleva corriendo 28.653613789876303 Min\n"
     ]
    },
    {
     "name": "stderr",
     "output_type": "stream",
     "text": [
      "INFO:fbprophet:Disabling daily seasonality. Run prophet with daily_seasonality=True to override this.\n"
     ]
    },
    {
     "name": "stdout",
     "output_type": "stream",
     "text": [
      "El producto demoró 4.506613254547119 Centro Sur Los Angeles\n",
      "tiempo que lleva corriendo 28.72872401078542 Min\n"
     ]
    },
    {
     "name": "stderr",
     "output_type": "stream",
     "text": [
      "INFO:fbprophet:Disabling daily seasonality. Run prophet with daily_seasonality=True to override this.\n"
     ]
    },
    {
     "name": "stdout",
     "output_type": "stream",
     "text": [
      "El producto demoró 5.594590187072754 Centro Sur Los Angeles\n",
      "tiempo que lleva corriendo 28.822116903464 Min\n"
     ]
    },
    {
     "name": "stderr",
     "output_type": "stream",
     "text": [
      "INFO:fbprophet:Disabling daily seasonality. Run prophet with daily_seasonality=True to override this.\n"
     ]
    },
    {
     "name": "stdout",
     "output_type": "stream",
     "text": [
      "El producto demoró 5.14242959022522 Centro Sur Los Angeles\n",
      "tiempo que lleva corriendo 28.907824063301085 Min\n",
      "El producto demoró 0.015471220016479492 Centro Sur Los Angeles\n",
      "tiempo que lleva corriendo 28.9081068833669 Min\n"
     ]
    },
    {
     "name": "stderr",
     "output_type": "stream",
     "text": [
      "INFO:fbprophet:Disabling daily seasonality. Run prophet with daily_seasonality=True to override this.\n"
     ]
    },
    {
     "name": "stdout",
     "output_type": "stream",
     "text": [
      "El producto demoró 4.60343337059021 Centro Sur Los Angeles\n",
      "tiempo que lleva corriendo 28.98484738667806 Min\n"
     ]
    },
    {
     "name": "stderr",
     "output_type": "stream",
     "text": [
      "INFO:fbprophet:Disabling daily seasonality. Run prophet with daily_seasonality=True to override this.\n"
     ]
    },
    {
     "name": "stdout",
     "output_type": "stream",
     "text": [
      "El producto demoró 3.414644718170166 Centro Sur Los Angeles\n",
      "tiempo que lleva corriendo 29.041766460736593 Min\n"
     ]
    },
    {
     "name": "stderr",
     "output_type": "stream",
     "text": [
      "INFO:fbprophet:Disabling daily seasonality. Run prophet with daily_seasonality=True to override this.\n"
     ]
    },
    {
     "name": "stdout",
     "output_type": "stream",
     "text": [
      "El producto demoró 4.350404262542725 Centro Sur Los Angeles\n",
      "tiempo que lleva corriendo 29.114281531174978 Min\n",
      "El producto demoró 0.013474464416503906 Centro Sur Los Angeles\n",
      "tiempo que lleva corriendo 29.114514406522115 Min\n",
      "Rancagua\n"
     ]
    },
    {
     "name": "stderr",
     "output_type": "stream",
     "text": [
      "INFO:fbprophet:Disabling daily seasonality. Run prophet with daily_seasonality=True to override this.\n"
     ]
    },
    {
     "name": "stdout",
     "output_type": "stream",
     "text": [
      "El producto demoró 6.246372222900391 Centro Sur Rancagua\n",
      "tiempo que lleva corriendo 29.219718623161317 Min\n"
     ]
    },
    {
     "name": "stderr",
     "output_type": "stream",
     "text": [
      "INFO:fbprophet:Disabling daily seasonality. Run prophet with daily_seasonality=True to override this.\n"
     ]
    },
    {
     "name": "stdout",
     "output_type": "stream",
     "text": [
      "El producto demoró 5.49826979637146 Centro Sur Rancagua\n",
      "tiempo que lleva corriendo 29.311373078823088 Min\n"
     ]
    },
    {
     "name": "stderr",
     "output_type": "stream",
     "text": [
      "INFO:fbprophet:Disabling daily seasonality. Run prophet with daily_seasonality=True to override this.\n"
     ]
    },
    {
     "name": "stdout",
     "output_type": "stream",
     "text": [
      "El producto demoró 6.3626604080200195 Centro Sur Rancagua\n",
      "tiempo que lleva corriendo 29.417417418956756 Min\n"
     ]
    },
    {
     "name": "stderr",
     "output_type": "stream",
     "text": [
      "INFO:fbprophet:Disabling daily seasonality. Run prophet with daily_seasonality=True to override this.\n"
     ]
    },
    {
     "name": "stdout",
     "output_type": "stream",
     "text": [
      "El producto demoró 7.186625957489014 Centro Sur Rancagua\n",
      "tiempo que lleva corriendo 29.53721114794413 Min\n"
     ]
    },
    {
     "name": "stderr",
     "output_type": "stream",
     "text": [
      "INFO:fbprophet:Disabling daily seasonality. Run prophet with daily_seasonality=True to override this.\n"
     ]
    },
    {
     "name": "stdout",
     "output_type": "stream",
     "text": [
      "El producto demoró 5.607065200805664 Centro Sur Rancagua\n",
      "tiempo que lleva corriendo 29.630678844451904 Min\n"
     ]
    },
    {
     "name": "stderr",
     "output_type": "stream",
     "text": [
      "INFO:fbprophet:Disabling daily seasonality. Run prophet with daily_seasonality=True to override this.\n"
     ]
    },
    {
     "name": "stdout",
     "output_type": "stream",
     "text": [
      "El producto demoró 5.741818189620972 Centro Sur Rancagua\n",
      "tiempo que lleva corriendo 29.72638410727183 Min\n"
     ]
    },
    {
     "name": "stderr",
     "output_type": "stream",
     "text": [
      "INFO:fbprophet:Disabling daily seasonality. Run prophet with daily_seasonality=True to override this.\n"
     ]
    },
    {
     "name": "stdout",
     "output_type": "stream",
     "text": [
      "El producto demoró 6.499905586242676 Centro Sur Rancagua\n",
      "tiempo que lleva corriendo 29.834724124272665 Min\n"
     ]
    },
    {
     "name": "stderr",
     "output_type": "stream",
     "text": [
      "INFO:fbprophet:Disabling daily seasonality. Run prophet with daily_seasonality=True to override this.\n"
     ]
    },
    {
     "name": "stdout",
     "output_type": "stream",
     "text": [
      "El producto demoró 3.9561407566070557 Centro Sur Rancagua\n",
      "tiempo que lleva corriendo 29.90065980354945 Min\n"
     ]
    },
    {
     "name": "stderr",
     "output_type": "stream",
     "text": [
      "INFO:fbprophet:Disabling daily seasonality. Run prophet with daily_seasonality=True to override this.\n"
     ]
    },
    {
     "name": "stdout",
     "output_type": "stream",
     "text": [
      "El producto demoró 6.131587028503418 Centro Sur Rancagua\n",
      "tiempo que lleva corriendo 30.002861257394155 Min\n"
     ]
    },
    {
     "name": "stderr",
     "output_type": "stream",
     "text": [
      "INFO:fbprophet:Disabling daily seasonality. Run prophet with daily_seasonality=True to override this.\n"
     ]
    },
    {
     "name": "stdout",
     "output_type": "stream",
     "text": [
      "El producto demoró 5.9868574142456055 Centro Sur Rancagua\n",
      "tiempo que lleva corriendo 30.10264221429825 Min\n"
     ]
    },
    {
     "name": "stderr",
     "output_type": "stream",
     "text": [
      "INFO:fbprophet:Disabling daily seasonality. Run prophet with daily_seasonality=True to override this.\n"
     ]
    },
    {
     "name": "stdout",
     "output_type": "stream",
     "text": [
      "El producto demoró 6.869715213775635 Centro Sur Rancagua\n",
      "tiempo que lleva corriendo 30.217154109477995 Min\n"
     ]
    },
    {
     "name": "stderr",
     "output_type": "stream",
     "text": [
      "INFO:fbprophet:Disabling daily seasonality. Run prophet with daily_seasonality=True to override this.\n"
     ]
    },
    {
     "name": "stdout",
     "output_type": "stream",
     "text": [
      "El producto demoró 5.815677881240845 Centro Sur Rancagua\n",
      "tiempo que lleva corriendo 30.31409039100011 Min\n"
     ]
    },
    {
     "name": "stderr",
     "output_type": "stream",
     "text": [
      "INFO:fbprophet:Disabling daily seasonality. Run prophet with daily_seasonality=True to override this.\n"
     ]
    },
    {
     "name": "stdout",
     "output_type": "stream",
     "text": [
      "El producto demoró 5.664459228515625 Centro Sur Rancagua\n",
      "tiempo que lleva corriendo 30.408506353696186 Min\n"
     ]
    },
    {
     "name": "stderr",
     "output_type": "stream",
     "text": [
      "INFO:fbprophet:Disabling daily seasonality. Run prophet with daily_seasonality=True to override this.\n"
     ]
    },
    {
     "name": "stdout",
     "output_type": "stream",
     "text": [
      "El producto demoró 4.456706285476685 Centro Sur Rancagua\n",
      "tiempo que lleva corriendo 30.482984415690105 Min\n"
     ]
    },
    {
     "name": "stderr",
     "output_type": "stream",
     "text": [
      "INFO:fbprophet:Disabling daily seasonality. Run prophet with daily_seasonality=True to override this.\n"
     ]
    },
    {
     "name": "stdout",
     "output_type": "stream",
     "text": [
      "El producto demoró 6.5093865394592285 Centro Sur Rancagua\n",
      "tiempo que lleva corriendo 30.591490813096364 Min\n"
     ]
    },
    {
     "name": "stderr",
     "output_type": "stream",
     "text": [
      "INFO:fbprophet:Disabling daily seasonality. Run prophet with daily_seasonality=True to override this.\n"
     ]
    },
    {
     "name": "stdout",
     "output_type": "stream",
     "text": [
      "El producto demoró 6.534339666366577 Centro Sur Rancagua\n",
      "tiempo que lleva corriendo 30.700396474202474 Min\n"
     ]
    },
    {
     "name": "stderr",
     "output_type": "stream",
     "text": [
      "INFO:fbprophet:Disabling daily seasonality. Run prophet with daily_seasonality=True to override this.\n"
     ]
    },
    {
     "name": "stdout",
     "output_type": "stream",
     "text": [
      "El producto demoró 4.483153820037842 Centro Sur Rancagua\n",
      "tiempo que lleva corriendo 30.775124092896778 Min\n"
     ]
    },
    {
     "name": "stderr",
     "output_type": "stream",
     "text": [
      "INFO:fbprophet:Disabling daily seasonality. Run prophet with daily_seasonality=True to override this.\n"
     ]
    },
    {
     "name": "stdout",
     "output_type": "stream",
     "text": [
      "El producto demoró 6.698533773422241 Centro Sur Rancagua\n",
      "tiempo que lleva corriendo 30.8867746313413 Min\n"
     ]
    },
    {
     "name": "stderr",
     "output_type": "stream",
     "text": [
      "INFO:fbprophet:Disabling daily seasonality. Run prophet with daily_seasonality=True to override this.\n"
     ]
    },
    {
     "name": "stdout",
     "output_type": "stream",
     "text": [
      "El producto demoró 3.8388588428497314 Centro Sur Rancagua\n",
      "tiempo que lleva corriendo 30.950772205988567 Min\n"
     ]
    },
    {
     "name": "stderr",
     "output_type": "stream",
     "text": [
      "INFO:fbprophet:Disabling daily seasonality. Run prophet with daily_seasonality=True to override this.\n"
     ]
    },
    {
     "name": "stdout",
     "output_type": "stream",
     "text": [
      "El producto demoró 3.9041638374328613 Centro Sur Rancagua\n",
      "tiempo que lleva corriendo 31.015851147969563 Min\n"
     ]
    },
    {
     "name": "stderr",
     "output_type": "stream",
     "text": [
      "INFO:fbprophet:Disabling daily seasonality. Run prophet with daily_seasonality=True to override this.\n"
     ]
    },
    {
     "name": "stdout",
     "output_type": "stream",
     "text": [
      "El producto demoró 6.863227128982544 Centro Sur Rancagua\n",
      "tiempo que lleva corriendo 31.130246567726136 Min\n"
     ]
    },
    {
     "name": "stderr",
     "output_type": "stream",
     "text": [
      "INFO:fbprophet:Disabling daily seasonality. Run prophet with daily_seasonality=True to override this.\n"
     ]
    },
    {
     "name": "stdout",
     "output_type": "stream",
     "text": [
      "El producto demoró 6.454988718032837 Centro Sur Rancagua\n",
      "tiempo que lleva corriendo 31.237837998072305 Min\n"
     ]
    },
    {
     "name": "stderr",
     "output_type": "stream",
     "text": [
      "INFO:fbprophet:Disabling daily seasonality. Run prophet with daily_seasonality=True to override this.\n"
     ]
    },
    {
     "name": "stdout",
     "output_type": "stream",
     "text": [
      "El producto demoró 4.4457292556762695 Centro Sur Rancagua\n",
      "tiempo que lleva corriendo 31.311950266361237 Min\n"
     ]
    },
    {
     "name": "stderr",
     "output_type": "stream",
     "text": [
      "INFO:fbprophet:Disabling daily seasonality. Run prophet with daily_seasonality=True to override this.\n"
     ]
    },
    {
     "name": "stdout",
     "output_type": "stream",
     "text": [
      "El producto demoró 6.477944850921631 Centro Sur Rancagua\n",
      "tiempo que lleva corriendo 31.420115451018017 Min\n",
      "El producto demoró 0.01147770881652832 Centro Sur Rancagua\n",
      "tiempo que lleva corriendo 31.420315062999727 Min\n",
      "El producto demoró 0.010482072830200195 Centro Sur Rancagua\n",
      "tiempo que lleva corriendo 31.420489764213563 Min\n"
     ]
    },
    {
     "name": "stderr",
     "output_type": "stream",
     "text": [
      "INFO:fbprophet:Disabling daily seasonality. Run prophet with daily_seasonality=True to override this.\n"
     ]
    },
    {
     "name": "stdout",
     "output_type": "stream",
     "text": [
      "El producto demoró 6.13508152961731 Centro Sur Rancagua\n",
      "tiempo que lleva corriendo 31.522749451796212 Min\n"
     ]
    },
    {
     "name": "stderr",
     "output_type": "stream",
     "text": [
      "INFO:fbprophet:Disabling daily seasonality. Run prophet with daily_seasonality=True to override this.\n"
     ]
    },
    {
     "name": "stdout",
     "output_type": "stream",
     "text": [
      "El producto demoró 2.890620708465576 Centro Sur Rancagua\n",
      "tiempo que lleva corriendo 31.570934800306954 Min\n"
     ]
    },
    {
     "name": "stderr",
     "output_type": "stream",
     "text": [
      "INFO:fbprophet:Disabling daily seasonality. Run prophet with daily_seasonality=True to override this.\n"
     ]
    },
    {
     "name": "stdout",
     "output_type": "stream",
     "text": [
      "El producto demoró 4.926831483840942 Centro Sur Rancagua\n",
      "tiempo que lleva corriendo 31.653065280119577 Min\n"
     ]
    },
    {
     "name": "stderr",
     "output_type": "stream",
     "text": [
      "INFO:fbprophet:Disabling daily seasonality. Run prophet with daily_seasonality=True to override this.\n"
     ]
    },
    {
     "name": "stdout",
     "output_type": "stream",
     "text": [
      "El producto demoró 9.363076210021973 Centro Sur Rancagua\n",
      "tiempo que lleva corriendo 31.80911655028661 Min\n"
     ]
    },
    {
     "name": "stderr",
     "output_type": "stream",
     "text": [
      "INFO:fbprophet:Disabling daily seasonality. Run prophet with daily_seasonality=True to override this.\n"
     ]
    },
    {
     "name": "stdout",
     "output_type": "stream",
     "text": [
      "El producto demoró 6.2423834800720215 Centro Sur Rancagua\n",
      "tiempo que lleva corriendo 31.91317290465037 Min\n"
     ]
    },
    {
     "name": "stderr",
     "output_type": "stream",
     "text": [
      "INFO:fbprophet:Disabling daily seasonality. Run prophet with daily_seasonality=True to override this.\n"
     ]
    },
    {
     "name": "stdout",
     "output_type": "stream",
     "text": [
      "El producto demoró 9.464885234832764 Centro Sur Rancagua\n",
      "tiempo que lleva corriendo 32.07092929283778 Min\n"
     ]
    },
    {
     "name": "stderr",
     "output_type": "stream",
     "text": [
      "INFO:fbprophet:Disabling daily seasonality. Run prophet with daily_seasonality=True to override this.\n"
     ]
    },
    {
     "name": "stdout",
     "output_type": "stream",
     "text": [
      "El producto demoró 7.588379621505737 Centro Sur Rancagua\n",
      "tiempo que lleva corriendo 32.19741892019908 Min\n"
     ]
    },
    {
     "name": "stderr",
     "output_type": "stream",
     "text": [
      "INFO:fbprophet:Disabling daily seasonality. Run prophet with daily_seasonality=True to override this.\n"
     ]
    },
    {
     "name": "stdout",
     "output_type": "stream",
     "text": [
      "El producto demoró 3.4495911598205566 Centro Sur Rancagua\n",
      "tiempo que lleva corriendo 32.25491210619609 Min\n",
      "El producto demoró 0.009970664978027344 Centro Sur Rancagua\n",
      "tiempo que lleva corriendo 32.25508660078049 Min\n",
      "El producto demoró 0.00998234748840332 Centro Sur Rancagua\n",
      "tiempo que lleva corriendo 32.255252973238626 Min\n",
      "El producto demoró 0.006986856460571289 Centro Sur Rancagua\n",
      "tiempo que lleva corriendo 32.255535797278085 Min\n",
      "El producto demoró 0.008482933044433594 Centro Sur Rancagua\n",
      "tiempo que lleva corriendo 32.25569388071696 Min\n",
      "Talca\n"
     ]
    },
    {
     "name": "stderr",
     "output_type": "stream",
     "text": [
      "INFO:fbprophet:Disabling daily seasonality. Run prophet with daily_seasonality=True to override this.\n"
     ]
    },
    {
     "name": "stdout",
     "output_type": "stream",
     "text": [
      "El producto demoró 5.350542306900024 Centro Sur Talca\n",
      "tiempo que lleva corriendo 32.34580943981806 Min\n"
     ]
    },
    {
     "name": "stderr",
     "output_type": "stream",
     "text": [
      "INFO:fbprophet:Disabling daily seasonality. Run prophet with daily_seasonality=True to override this.\n"
     ]
    },
    {
     "name": "stdout",
     "output_type": "stream",
     "text": [
      "El producto demoró 5.9119977951049805 Centro Sur Talca\n",
      "tiempo que lleva corriendo 32.444351041316985 Min\n"
     ]
    },
    {
     "name": "stderr",
     "output_type": "stream",
     "text": [
      "INFO:fbprophet:Disabling daily seasonality. Run prophet with daily_seasonality=True to override this.\n"
     ]
    },
    {
     "name": "stdout",
     "output_type": "stream",
     "text": [
      "El producto demoró 5.529710054397583 Centro Sur Talca\n",
      "tiempo que lleva corriendo 32.53652954896291 Min\n"
     ]
    },
    {
     "name": "stderr",
     "output_type": "stream",
     "text": [
      "INFO:fbprophet:Disabling daily seasonality. Run prophet with daily_seasonality=True to override this.\n"
     ]
    },
    {
     "name": "stdout",
     "output_type": "stream",
     "text": [
      "El producto demoró 5.669449329376221 Centro Sur Talca\n",
      "tiempo que lleva corriendo 32.63102867603302 Min\n"
     ]
    },
    {
     "name": "stderr",
     "output_type": "stream",
     "text": [
      "INFO:fbprophet:Disabling daily seasonality. Run prophet with daily_seasonality=True to override this.\n"
     ]
    },
    {
     "name": "stdout",
     "output_type": "stream",
     "text": [
      "El producto demoró 5.99284553527832 Centro Sur Talca\n",
      "tiempo que lleva corriendo 32.730917767683664 Min\n"
     ]
    },
    {
     "name": "stderr",
     "output_type": "stream",
     "text": [
      "INFO:fbprophet:Disabling daily seasonality. Run prophet with daily_seasonality=True to override this.\n"
     ]
    },
    {
     "name": "stdout",
     "output_type": "stream",
     "text": [
      "El producto demoró 5.298144578933716 Centro Sur Talca\n",
      "tiempo que lleva corriendo 32.81922017733256 Min\n"
     ]
    },
    {
     "name": "stderr",
     "output_type": "stream",
     "text": [
      "INFO:fbprophet:Disabling daily seasonality. Run prophet with daily_seasonality=True to override this.\n"
     ]
    },
    {
     "name": "stdout",
     "output_type": "stream",
     "text": [
      "El producto demoró 5.794218063354492 Centro Sur Talca\n",
      "tiempo que lleva corriendo 32.91579871177673 Min\n"
     ]
    },
    {
     "name": "stderr",
     "output_type": "stream",
     "text": [
      "INFO:fbprophet:Disabling daily seasonality. Run prophet with daily_seasonality=True to override this.\n"
     ]
    },
    {
     "name": "stdout",
     "output_type": "stream",
     "text": [
      "El producto demoró 4.288019418716431 Centro Sur Talca\n",
      "tiempo que lleva corriendo 32.98728238741557 Min\n"
     ]
    },
    {
     "name": "stderr",
     "output_type": "stream",
     "text": [
      "INFO:fbprophet:Disabling daily seasonality. Run prophet with daily_seasonality=True to override this.\n"
     ]
    },
    {
     "name": "stdout",
     "output_type": "stream",
     "text": [
      "El producto demoró 6.424541711807251 Centro Sur Talca\n",
      "tiempo que lleva corriendo 33.09435808261235 Min\n"
     ]
    },
    {
     "name": "stderr",
     "output_type": "stream",
     "text": [
      "INFO:fbprophet:Disabling daily seasonality. Run prophet with daily_seasonality=True to override this.\n"
     ]
    },
    {
     "name": "stdout",
     "output_type": "stream",
     "text": [
      "El producto demoró 5.964900255203247 Centro Sur Talca\n",
      "tiempo que lleva corriendo 33.193781399726866 Min\n"
     ]
    },
    {
     "name": "stderr",
     "output_type": "stream",
     "text": [
      "INFO:fbprophet:Disabling daily seasonality. Run prophet with daily_seasonality=True to override this.\n"
     ]
    },
    {
     "name": "stdout",
     "output_type": "stream",
     "text": [
      "El producto demoró 5.680928707122803 Centro Sur Talca\n",
      "tiempo que lleva corriendo 33.288463544845584 Min\n"
     ]
    },
    {
     "name": "stderr",
     "output_type": "stream",
     "text": [
      "INFO:fbprophet:Disabling daily seasonality. Run prophet with daily_seasonality=True to override this.\n"
     ]
    },
    {
     "name": "stdout",
     "output_type": "stream",
     "text": [
      "El producto demoró 6.918624401092529 Centro Sur Talca\n",
      "tiempo que lleva corriendo 33.40379058519999 Min\n"
     ]
    },
    {
     "name": "stderr",
     "output_type": "stream",
     "text": [
      "INFO:fbprophet:Disabling daily seasonality. Run prophet with daily_seasonality=True to override this.\n"
     ]
    },
    {
     "name": "stdout",
     "output_type": "stream",
     "text": [
      "El producto demoró 5.401946783065796 Centro Sur Talca\n",
      "tiempo que lleva corriendo 33.493831332524614 Min\n"
     ]
    },
    {
     "name": "stderr",
     "output_type": "stream",
     "text": [
      "INFO:fbprophet:Disabling daily seasonality. Run prophet with daily_seasonality=True to override this.\n"
     ]
    },
    {
     "name": "stdout",
     "output_type": "stream",
     "text": [
      "El producto demoró 2.6231179237365723 Centro Sur Talca\n",
      "tiempo que lleva corriendo 33.537757976849875 Min\n"
     ]
    },
    {
     "name": "stderr",
     "output_type": "stream",
     "text": [
      "INFO:fbprophet:Disabling daily seasonality. Run prophet with daily_seasonality=True to override this.\n"
     ]
    },
    {
     "name": "stdout",
     "output_type": "stream",
     "text": [
      "El producto demoró 5.241742849349976 Centro Sur Talca\n",
      "tiempo que lleva corriendo 33.62512866655985 Min\n"
     ]
    },
    {
     "name": "stderr",
     "output_type": "stream",
     "text": [
      "INFO:fbprophet:Disabling daily seasonality. Run prophet with daily_seasonality=True to override this.\n"
     ]
    },
    {
     "name": "stdout",
     "output_type": "stream",
     "text": [
      "El producto demoró 3.86181378364563 Centro Sur Talca\n",
      "tiempo que lleva corriendo 33.68950885136922 Min\n"
     ]
    },
    {
     "name": "stderr",
     "output_type": "stream",
     "text": [
      "INFO:fbprophet:Disabling daily seasonality. Run prophet with daily_seasonality=True to override this.\n"
     ]
    },
    {
     "name": "stdout",
     "output_type": "stream",
     "text": [
      "El producto demoró 4.6992552280426025 Centro Sur Talca\n",
      "tiempo que lleva corriendo 33.767829771836595 Min\n"
     ]
    },
    {
     "name": "stderr",
     "output_type": "stream",
     "text": [
      "INFO:fbprophet:Disabling daily seasonality. Run prophet with daily_seasonality=True to override this.\n"
     ]
    },
    {
     "name": "stdout",
     "output_type": "stream",
     "text": [
      "El producto demoró 4.869440078735352 Centro Sur Talca\n",
      "tiempo que lleva corriendo 33.84899541934331 Min\n"
     ]
    },
    {
     "name": "stderr",
     "output_type": "stream",
     "text": [
      "INFO:fbprophet:Disabling daily seasonality. Run prophet with daily_seasonality=True to override this.\n"
     ]
    },
    {
     "name": "stdout",
     "output_type": "stream",
     "text": [
      "El producto demoró 3.2788984775543213 Centro Sur Talca\n",
      "tiempo que lleva corriendo 33.90366033315659 Min\n"
     ]
    },
    {
     "name": "stderr",
     "output_type": "stream",
     "text": [
      "INFO:fbprophet:Disabling daily seasonality. Run prophet with daily_seasonality=True to override this.\n"
     ]
    },
    {
     "name": "stdout",
     "output_type": "stream",
     "text": [
      "El producto demoró 3.4815399646759033 Centro Sur Talca\n",
      "tiempo que lleva corriendo 33.96170231103897 Min\n"
     ]
    },
    {
     "name": "stderr",
     "output_type": "stream",
     "text": [
      "INFO:fbprophet:Disabling daily seasonality. Run prophet with daily_seasonality=True to override this.\n"
     ]
    },
    {
     "name": "stdout",
     "output_type": "stream",
     "text": [
      "El producto demoró 3.3562545776367188 Centro Sur Talca\n",
      "tiempo que lleva corriendo 34.01763988733292 Min\n"
     ]
    },
    {
     "name": "stderr",
     "output_type": "stream",
     "text": [
      "INFO:fbprophet:Disabling daily seasonality. Run prophet with daily_seasonality=True to override this.\n"
     ]
    },
    {
     "name": "stdout",
     "output_type": "stream",
     "text": [
      "El producto demoró 4.4826576709747314 Centro Sur Talca\n",
      "tiempo que lleva corriendo 34.09235918521881 Min\n"
     ]
    },
    {
     "name": "stderr",
     "output_type": "stream",
     "text": [
      "INFO:fbprophet:Disabling daily seasonality. Run prophet with daily_seasonality=True to override this.\n"
     ]
    },
    {
     "name": "stdout",
     "output_type": "stream",
     "text": [
      "El producto demoró 4.165247201919556 Centro Sur Talca\n",
      "tiempo que lleva corriendo 34.161788284778595 Min\n"
     ]
    },
    {
     "name": "stderr",
     "output_type": "stream",
     "text": [
      "INFO:fbprophet:Disabling daily seasonality. Run prophet with daily_seasonality=True to override this.\n"
     ]
    },
    {
     "name": "stdout",
     "output_type": "stream",
     "text": [
      "El producto demoró 5.123965263366699 Centro Sur Talca\n",
      "tiempo que lleva corriendo 34.24719601869583 Min\n"
     ]
    },
    {
     "name": "stderr",
     "output_type": "stream",
     "text": [
      "INFO:fbprophet:Disabling daily seasonality. Run prophet with daily_seasonality=True to override this.\n"
     ]
    },
    {
     "name": "stdout",
     "output_type": "stream",
     "text": [
      "El producto demoró 3.4261341094970703 Centro Sur Talca\n",
      "tiempo que lleva corriendo 34.30449789762497 Min\n",
      "El producto demoró 0.00948190689086914 Centro Sur Talca\n",
      "tiempo que lleva corriendo 34.304672582944235 Min\n"
     ]
    },
    {
     "name": "stderr",
     "output_type": "stream",
     "text": [
      "INFO:fbprophet:Disabling daily seasonality. Run prophet with daily_seasonality=True to override this.\n"
     ]
    },
    {
     "name": "stdout",
     "output_type": "stream",
     "text": [
      "El producto demoró 2.983954429626465 Centro Sur Talca\n",
      "tiempo que lleva corriendo 34.35440515677134 Min\n"
     ]
    },
    {
     "name": "stderr",
     "output_type": "stream",
     "text": [
      "INFO:fbprophet:Disabling daily seasonality. Run prophet with daily_seasonality=True to override this.\n"
     ]
    },
    {
     "name": "stdout",
     "output_type": "stream",
     "text": [
      "El producto demoró 3.321319103240967 Centro Sur Talca\n",
      "tiempo que lleva corriendo 34.40976047515869 Min\n"
     ]
    },
    {
     "name": "stderr",
     "output_type": "stream",
     "text": [
      "INFO:fbprophet:Disabling daily seasonality. Run prophet with daily_seasonality=True to override this.\n"
     ]
    },
    {
     "name": "stdout",
     "output_type": "stream",
     "text": [
      "El producto demoró 4.711213827133179 Centro Sur Talca\n",
      "tiempo que lleva corriendo 34.48828070561091 Min\n"
     ]
    },
    {
     "name": "stderr",
     "output_type": "stream",
     "text": [
      "INFO:fbprophet:Disabling daily seasonality. Run prophet with daily_seasonality=True to override this.\n"
     ]
    },
    {
     "name": "stdout",
     "output_type": "stream",
     "text": [
      "El producto demoró 3.192061185836792 Centro Sur Talca\n",
      "tiempo que lleva corriendo 34.54149002631505 Min\n",
      "El producto demoró 0.012476444244384766 Centro Sur Talca\n",
      "tiempo que lleva corriendo 34.541714600721996 Min\n"
     ]
    },
    {
     "name": "stderr",
     "output_type": "stream",
     "text": [
      "INFO:fbprophet:Disabling daily seasonality. Run prophet with daily_seasonality=True to override this.\n"
     ]
    },
    {
     "name": "stdout",
     "output_type": "stream",
     "text": [
      "El producto demoró 3.4984898567199707 Centro Sur Talca\n",
      "tiempo que lleva corriendo 34.60002276500066 Min\n"
     ]
    },
    {
     "name": "stderr",
     "output_type": "stream",
     "text": [
      "INFO:fbprophet:Disabling daily seasonality. Run prophet with daily_seasonality=True to override this.\n"
     ]
    },
    {
     "name": "stdout",
     "output_type": "stream",
     "text": [
      "El producto demoró 6.108133316040039 Centro Sur Talca\n",
      "tiempo que lleva corriendo 34.70182498693466 Min\n"
     ]
    },
    {
     "name": "stderr",
     "output_type": "stream",
     "text": [
      "INFO:fbprophet:Disabling daily seasonality. Run prophet with daily_seasonality=True to override this.\n"
     ]
    },
    {
     "name": "stdout",
     "output_type": "stream",
     "text": [
      "El producto demoró 4.93880820274353 Centro Sur Talca\n",
      "tiempo que lleva corriendo 34.784155090649925 Min\n"
     ]
    },
    {
     "name": "stderr",
     "output_type": "stream",
     "text": [
      "INFO:fbprophet:Disabling daily seasonality. Run prophet with daily_seasonality=True to override this.\n"
     ]
    },
    {
     "name": "stdout",
     "output_type": "stream",
     "text": [
      "El producto demoró 3.404665946960449 Centro Sur Talca\n",
      "tiempo que lleva corriendo 34.840907871723175 Min\n"
     ]
    },
    {
     "name": "stderr",
     "output_type": "stream",
     "text": [
      "INFO:fbprophet:Disabling daily seasonality. Run prophet with daily_seasonality=True to override this.\n"
     ]
    },
    {
     "name": "stdout",
     "output_type": "stream",
     "text": [
      "El producto demoró 4.853963613510132 Centro Sur Talca\n",
      "tiempo que lleva corriendo 34.92180726528168 Min\n",
      "El producto demoró 3.1990506649017334 Centro Sur Talca\n",
      "tiempo que lleva corriendo 34.97513305346171 Min\n",
      "Sur\n"
     ]
    },
    {
     "name": "stderr",
     "output_type": "stream",
     "text": [
      "INFO:fbprophet:Disabling daily seasonality. Run prophet with daily_seasonality=True to override this.\n"
     ]
    },
    {
     "name": "stdout",
     "output_type": "stream",
     "text": [
      "Castro\n"
     ]
    },
    {
     "name": "stderr",
     "output_type": "stream",
     "text": [
      "INFO:fbprophet:Disabling daily seasonality. Run prophet with daily_seasonality=True to override this.\n"
     ]
    },
    {
     "name": "stdout",
     "output_type": "stream",
     "text": [
      "El producto demoró 3.202540636062622 Sur Castro\n",
      "tiempo que lleva corriendo 35.03542083104451 Min\n"
     ]
    },
    {
     "name": "stderr",
     "output_type": "stream",
     "text": [
      "INFO:fbprophet:Disabling daily seasonality. Run prophet with daily_seasonality=True to override this.\n"
     ]
    },
    {
     "name": "stdout",
     "output_type": "stream",
     "text": [
      "El producto demoró 4.716224431991577 Sur Castro\n",
      "tiempo que lleva corriendo 35.11403289238612 Min\n"
     ]
    },
    {
     "name": "stderr",
     "output_type": "stream",
     "text": [
      "INFO:fbprophet:Disabling daily seasonality. Run prophet with daily_seasonality=True to override this.\n"
     ]
    },
    {
     "name": "stdout",
     "output_type": "stream",
     "text": [
      "El producto demoró 5.090558290481567 Sur Castro\n",
      "tiempo que lleva corriendo 35.19887553056081 Min\n"
     ]
    },
    {
     "name": "stderr",
     "output_type": "stream",
     "text": [
      "INFO:fbprophet:Disabling daily seasonality. Run prophet with daily_seasonality=True to override this.\n"
     ]
    },
    {
     "name": "stdout",
     "output_type": "stream",
     "text": [
      "El producto demoró 6.440512657165527 Sur Castro\n",
      "tiempo que lleva corriendo 35.30622520049413 Min\n"
     ]
    },
    {
     "name": "stderr",
     "output_type": "stream",
     "text": [
      "INFO:fbprophet:Disabling daily seasonality. Run prophet with daily_seasonality=True to override this.\n"
     ]
    },
    {
     "name": "stdout",
     "output_type": "stream",
     "text": [
      "El producto demoró 4.955279588699341 Sur Castro\n",
      "tiempo que lleva corriendo 35.38882981936137 Min\n"
     ]
    },
    {
     "name": "stderr",
     "output_type": "stream",
     "text": [
      "INFO:fbprophet:Disabling daily seasonality. Run prophet with daily_seasonality=True to override this.\n"
     ]
    },
    {
     "name": "stdout",
     "output_type": "stream",
     "text": [
      "El producto demoró 3.550891876220703 Sur Castro\n",
      "tiempo que lleva corriendo 35.448019699255624 Min\n"
     ]
    },
    {
     "name": "stderr",
     "output_type": "stream",
     "text": [
      "INFO:fbprophet:Disabling daily seasonality. Run prophet with daily_seasonality=True to override this.\n"
     ]
    },
    {
     "name": "stdout",
     "output_type": "stream",
     "text": [
      "El producto demoró 5.872071266174316 Sur Castro\n",
      "tiempo que lleva corriendo 35.54588755369186 Min\n"
     ]
    },
    {
     "name": "stderr",
     "output_type": "stream",
     "text": [
      "INFO:fbprophet:Disabling daily seasonality. Run prophet with daily_seasonality=True to override this.\n"
     ]
    },
    {
     "name": "stdout",
     "output_type": "stream",
     "text": [
      "El producto demoró 3.4655539989471436 Sur Castro\n",
      "tiempo que lleva corriendo 35.603663424650826 Min\n"
     ]
    },
    {
     "name": "stderr",
     "output_type": "stream",
     "text": [
      "INFO:fbprophet:Disabling daily seasonality. Run prophet with daily_seasonality=True to override this.\n"
     ]
    },
    {
     "name": "stdout",
     "output_type": "stream",
     "text": [
      "El producto demoró 3.551386594772339 Sur Castro\n",
      "tiempo que lleva corriendo 35.66285320123037 Min\n"
     ]
    },
    {
     "name": "stderr",
     "output_type": "stream",
     "text": [
      "INFO:fbprophet:Disabling daily seasonality. Run prophet with daily_seasonality=True to override this.\n"
     ]
    },
    {
     "name": "stdout",
     "output_type": "stream",
     "text": [
      "El producto demoró 5.144426345825195 Sur Castro\n",
      "tiempo que lleva corriendo 35.74861033360163 Min\n"
     ]
    },
    {
     "name": "stderr",
     "output_type": "stream",
     "text": [
      "INFO:fbprophet:Disabling daily seasonality. Run prophet with daily_seasonality=True to override this.\n"
     ]
    },
    {
     "name": "stdout",
     "output_type": "stream",
     "text": [
      "El producto demoró 5.769261598587036 Sur Castro\n",
      "tiempo que lleva corriendo 35.844773002465566 Min\n"
     ]
    },
    {
     "name": "stderr",
     "output_type": "stream",
     "text": [
      "INFO:fbprophet:Disabling daily seasonality. Run prophet with daily_seasonality=True to override this.\n"
     ]
    },
    {
     "name": "stdout",
     "output_type": "stream",
     "text": [
      "El producto demoró 5.065074920654297 Sur Castro\n",
      "tiempo que lleva corriendo 35.929190917809805 Min\n"
     ]
    },
    {
     "name": "stderr",
     "output_type": "stream",
     "text": [
      "INFO:fbprophet:Disabling daily seasonality. Run prophet with daily_seasonality=True to override this.\n"
     ]
    },
    {
     "name": "stdout",
     "output_type": "stream",
     "text": [
      "El producto demoró 6.178502321243286 Sur Castro\n",
      "tiempo que lleva corriendo 36.03217428127925 Min\n"
     ]
    },
    {
     "name": "stderr",
     "output_type": "stream",
     "text": [
      "INFO:fbprophet:Disabling daily seasonality. Run prophet with daily_seasonality=True to override this.\n"
     ]
    },
    {
     "name": "stdout",
     "output_type": "stream",
     "text": [
      "El producto demoró 4.466190338134766 Sur Castro\n",
      "tiempo que lleva corriendo 36.10684364636739 Min\n"
     ]
    },
    {
     "name": "stderr",
     "output_type": "stream",
     "text": [
      "INFO:fbprophet:Disabling daily seasonality. Run prophet with daily_seasonality=True to override this.\n"
     ]
    },
    {
     "name": "stdout",
     "output_type": "stream",
     "text": [
      "El producto demoró 3.6392264366149902 Sur Castro\n",
      "tiempo que lleva corriendo 36.16750572919845 Min\n"
     ]
    },
    {
     "name": "stderr",
     "output_type": "stream",
     "text": [
      "INFO:fbprophet:Disabling daily seasonality. Run prophet with daily_seasonality=True to override this.\n"
     ]
    },
    {
     "name": "stdout",
     "output_type": "stream",
     "text": [
      "El producto demoró 2.9520065784454346 Sur Castro\n",
      "tiempo que lleva corriendo 36.21671415170034 Min\n"
     ]
    },
    {
     "name": "stderr",
     "output_type": "stream",
     "text": [
      "INFO:fbprophet:Disabling daily seasonality. Run prophet with daily_seasonality=True to override this.\n"
     ]
    },
    {
     "name": "stdout",
     "output_type": "stream",
     "text": [
      "El producto demoró 3.508471965789795 Sur Castro\n",
      "tiempo que lleva corriendo 36.2751886844635 Min\n"
     ]
    },
    {
     "name": "stderr",
     "output_type": "stream",
     "text": [
      "INFO:fbprophet:Disabling daily seasonality. Run prophet with daily_seasonality=True to override this.\n"
     ]
    },
    {
     "name": "stdout",
     "output_type": "stream",
     "text": [
      "El producto demoró 3.7125940322875977 Sur Castro\n",
      "tiempo que lleva corriendo 36.33706525166829 Min\n",
      "El producto demoró 0.009981155395507812 Sur Castro\n",
      "tiempo que lleva corriendo 36.33723160425822 Min\n"
     ]
    },
    {
     "name": "stderr",
     "output_type": "stream",
     "text": [
      "INFO:fbprophet:Disabling daily seasonality. Run prophet with daily_seasonality=True to override this.\n"
     ]
    },
    {
     "name": "stdout",
     "output_type": "stream",
     "text": [
      "El producto demoró 2.7728371620178223 Sur Castro\n",
      "tiempo que lleva corriendo 36.383453873793286 Min\n",
      "El producto demoró 0.007984638214111328 Sur Castro\n",
      "tiempo que lleva corriendo 36.38378659486771 Min\n"
     ]
    },
    {
     "name": "stderr",
     "output_type": "stream",
     "text": [
      "INFO:fbprophet:Disabling daily seasonality. Run prophet with daily_seasonality=True to override this.\n"
     ]
    },
    {
     "name": "stdout",
     "output_type": "stream",
     "text": [
      "El producto demoró 3.2714145183563232 Sur Castro\n",
      "tiempo que lleva corriendo 36.438310170173644 Min\n"
     ]
    },
    {
     "name": "stderr",
     "output_type": "stream",
     "text": [
      "INFO:fbprophet:Disabling daily seasonality. Run prophet with daily_seasonality=True to override this.\n"
     ]
    },
    {
     "name": "stdout",
     "output_type": "stream",
     "text": [
      "El producto demoró 3.210026741027832 Sur Castro\n",
      "tiempo que lleva corriendo 36.491818928718565 Min\n"
     ]
    },
    {
     "name": "stderr",
     "output_type": "stream",
     "text": [
      "INFO:fbprophet:Disabling daily seasonality. Run prophet with daily_seasonality=True to override this.\n"
     ]
    },
    {
     "name": "stdout",
     "output_type": "stream",
     "text": [
      "El producto demoró 2.9709677696228027 Sur Castro\n",
      "tiempo que lleva corriendo 36.54133505821228 Min\n"
     ]
    },
    {
     "name": "stderr",
     "output_type": "stream",
     "text": [
      "INFO:fbprophet:Disabling daily seasonality. Run prophet with daily_seasonality=True to override this.\n"
     ]
    },
    {
     "name": "stdout",
     "output_type": "stream",
     "text": [
      "El producto demoró 2.6825051307678223 Sur Castro\n",
      "tiempo que lleva corriendo 36.586068495114645 Min\n",
      "El producto demoró 0.011477231979370117 Sur Castro\n",
      "tiempo que lleva corriendo 36.58626809120178 Min\n"
     ]
    },
    {
     "name": "stderr",
     "output_type": "stream",
     "text": [
      "INFO:fbprophet:Disabling daily seasonality. Run prophet with daily_seasonality=True to override this.\n"
     ]
    },
    {
     "name": "stdout",
     "output_type": "stream",
     "text": [
      "El producto demoró 3.946655750274658 Sur Castro\n",
      "tiempo que lleva corriendo 36.65205400387446 Min\n",
      "El producto demoró 0.007487058639526367 Sur Castro\n",
      "tiempo que lleva corriendo 36.652187101046245 Min\n"
     ]
    },
    {
     "name": "stderr",
     "output_type": "stream",
     "text": [
      "INFO:fbprophet:Disabling daily seasonality. Run prophet with daily_seasonality=True to override this.\n"
     ]
    },
    {
     "name": "stdout",
     "output_type": "stream",
     "text": [
      "El producto demoró 4.560513019561768 Sur Castro\n",
      "tiempo que lleva corriendo 36.728195651372275 Min\n"
     ]
    },
    {
     "name": "stderr",
     "output_type": "stream",
     "text": [
      "INFO:fbprophet:Disabling daily seasonality. Run prophet with daily_seasonality=True to override this.\n"
     ]
    },
    {
     "name": "stdout",
     "output_type": "stream",
     "text": [
      "El producto demoró 3.324824094772339 Sur Castro\n",
      "tiempo que lleva corriendo 36.78363433281581 Min\n",
      "El producto demoró 0.009970664978027344 Sur Castro\n",
      "tiempo que lleva corriendo 36.78380051056544 Min\n"
     ]
    },
    {
     "name": "stderr",
     "output_type": "stream",
     "text": [
      "INFO:fbprophet:Disabling daily seasonality. Run prophet with daily_seasonality=True to override this.\n"
     ]
    },
    {
     "name": "stdout",
     "output_type": "stream",
     "text": [
      "El producto demoró 2.8267385959625244 Sur Castro\n",
      "tiempo que lleva corriendo 36.83093779484431 Min\n"
     ]
    },
    {
     "name": "stderr",
     "output_type": "stream",
     "text": [
      "INFO:fbprophet:Disabling daily seasonality. Run prophet with daily_seasonality=True to override this.\n"
     ]
    },
    {
     "name": "stdout",
     "output_type": "stream",
     "text": [
      "El producto demoró 3.3238136768341064 Sur Castro\n",
      "tiempo que lleva corriendo 36.88635133107503 Min\n"
     ]
    },
    {
     "name": "stderr",
     "output_type": "stream",
     "text": [
      "INFO:fbprophet:Disabling daily seasonality. Run prophet with daily_seasonality=True to override this.\n"
     ]
    },
    {
     "name": "stdout",
     "output_type": "stream",
     "text": [
      "El producto demoró 2.682008743286133 Sur Castro\n",
      "tiempo que lleva corriendo 36.931226146221164 Min\n"
     ]
    },
    {
     "name": "stderr",
     "output_type": "stream",
     "text": [
      "INFO:fbprophet:Disabling daily seasonality. Run prophet with daily_seasonality=True to override this.\n"
     ]
    },
    {
     "name": "stdout",
     "output_type": "stream",
     "text": [
      "El producto demoró 3.24845814704895 Sur Castro\n",
      "tiempo que lleva corriendo 36.985375448067984 Min\n"
     ]
    },
    {
     "name": "stderr",
     "output_type": "stream",
     "text": [
      "INFO:fbprophet:Disabling daily seasonality. Run prophet with daily_seasonality=True to override this.\n"
     ]
    },
    {
     "name": "stdout",
     "output_type": "stream",
     "text": [
      "El producto demoró 3.2554380893707275 Sur Castro\n",
      "tiempo que lleva corriendo 37.03964105447133 Min\n"
     ]
    },
    {
     "name": "stderr",
     "output_type": "stream",
     "text": [
      "INFO:fbprophet:Disabling daily seasonality. Run prophet with daily_seasonality=True to override this.\n"
     ]
    },
    {
     "name": "stdout",
     "output_type": "stream",
     "text": [
      "El producto demoró 4.063439607620239 Sur Castro\n",
      "tiempo que lleva corriendo 37.10737334092458 Min\n"
     ]
    },
    {
     "name": "stderr",
     "output_type": "stream",
     "text": [
      "INFO:fbprophet:Disabling daily seasonality. Run prophet with daily_seasonality=True to override this.\n"
     ]
    },
    {
     "name": "stdout",
     "output_type": "stream",
     "text": [
      "El producto demoró 3.4925003051757812 Sur Castro\n",
      "tiempo que lleva corriendo 37.16559008757273 Min\n"
     ]
    },
    {
     "name": "stderr",
     "output_type": "stream",
     "text": [
      "INFO:fbprophet:Disabling daily seasonality. Run prophet with daily_seasonality=True to override this.\n"
     ]
    },
    {
     "name": "stdout",
     "output_type": "stream",
     "text": [
      "El producto demoró 3.5518853664398193 Sur Castro\n",
      "tiempo que lleva corriendo 37.224788177013394 Min\n"
     ]
    },
    {
     "name": "stderr",
     "output_type": "stream",
     "text": [
      "INFO:fbprophet:Disabling daily seasonality. Run prophet with daily_seasonality=True to override this.\n"
     ]
    },
    {
     "name": "stdout",
     "output_type": "stream",
     "text": [
      "El producto demoró 3.422132968902588 Sur Castro\n",
      "tiempo que lleva corriendo 37.281832015514375 Min\n"
     ]
    },
    {
     "name": "stderr",
     "output_type": "stream",
     "text": [
      "INFO:fbprophet:Disabling daily seasonality. Run prophet with daily_seasonality=True to override this.\n"
     ]
    },
    {
     "name": "stdout",
     "output_type": "stream",
     "text": [
      "El producto demoró 5.392474889755249 Sur Castro\n",
      "tiempo que lleva corriendo 37.371706597010295 Min\n"
     ]
    },
    {
     "name": "stderr",
     "output_type": "stream",
     "text": [
      "INFO:fbprophet:Disabling daily seasonality. Run prophet with daily_seasonality=True to override this.\n"
     ]
    },
    {
     "name": "stdout",
     "output_type": "stream",
     "text": [
      "El producto demoró 3.8852734565734863 Sur Castro\n",
      "tiempo que lleva corriendo 37.43647761742274 Min\n"
     ]
    },
    {
     "name": "stderr",
     "output_type": "stream",
     "text": [
      "INFO:fbprophet:Disabling daily seasonality. Run prophet with daily_seasonality=True to override this.\n"
     ]
    },
    {
     "name": "stdout",
     "output_type": "stream",
     "text": [
      "El producto demoró 5.391462564468384 Sur Castro\n",
      "tiempo que lleva corriendo 37.52633532683055 Min\n"
     ]
    },
    {
     "name": "stderr",
     "output_type": "stream",
     "text": [
      "INFO:fbprophet:Disabling daily seasonality. Run prophet with daily_seasonality=True to override this.\n"
     ]
    },
    {
     "name": "stdout",
     "output_type": "stream",
     "text": [
      "El producto demoró 3.147643566131592 Sur Castro\n",
      "tiempo que lleva corriendo 37.578804369767504 Min\n",
      "Coyhaique\n"
     ]
    },
    {
     "name": "stderr",
     "output_type": "stream",
     "text": [
      "INFO:fbprophet:Disabling daily seasonality. Run prophet with daily_seasonality=True to override this.\n"
     ]
    },
    {
     "name": "stdout",
     "output_type": "stream",
     "text": [
      "El producto demoró 3.301853895187378 Sur Coyhaique\n",
      "tiempo que lleva corriendo 37.634675391515096 Min\n",
      "El producto demoró 0.011478424072265625 Sur Coyhaique\n",
      "tiempo que lleva corriendo 37.63487335840861 Min\n"
     ]
    },
    {
     "name": "stderr",
     "output_type": "stream",
     "text": [
      "INFO:fbprophet:Disabling daily seasonality. Run prophet with daily_seasonality=True to override this.\n"
     ]
    },
    {
     "name": "stdout",
     "output_type": "stream",
     "text": [
      "El producto demoró 3.3088390827178955 Sur Coyhaique\n",
      "tiempo que lleva corriendo 37.69002239704132 Min\n"
     ]
    },
    {
     "name": "stderr",
     "output_type": "stream",
     "text": [
      "INFO:fbprophet:Disabling daily seasonality. Run prophet with daily_seasonality=True to override this.\n"
     ]
    },
    {
     "name": "stdout",
     "output_type": "stream",
     "text": [
      "El producto demoró 3.252448558807373 Sur Coyhaique\n",
      "tiempo que lleva corriendo 37.74424648284912 Min\n"
     ]
    },
    {
     "name": "stderr",
     "output_type": "stream",
     "text": [
      "INFO:fbprophet:Disabling daily seasonality. Run prophet with daily_seasonality=True to override this.\n"
     ]
    },
    {
     "name": "stdout",
     "output_type": "stream",
     "text": [
      "El producto demoró 3.168104410171509 Sur Coyhaique\n",
      "tiempo que lleva corriendo 37.797056539853415 Min\n"
     ]
    },
    {
     "name": "stderr",
     "output_type": "stream",
     "text": [
      "INFO:fbprophet:Disabling daily seasonality. Run prophet with daily_seasonality=True to override this.\n"
     ]
    },
    {
     "name": "stdout",
     "output_type": "stream",
     "text": [
      "El producto demoró 3.271411895751953 Sur Coyhaique\n",
      "tiempo que lleva corriendo 37.85158007144928 Min\n"
     ]
    },
    {
     "name": "stderr",
     "output_type": "stream",
     "text": [
      "INFO:fbprophet:Disabling daily seasonality. Run prophet with daily_seasonality=True to override this.\n"
     ]
    },
    {
     "name": "stdout",
     "output_type": "stream",
     "text": [
      "El producto demoró 3.3073461055755615 Sur Coyhaique\n",
      "tiempo que lleva corriendo 37.9067025065422 Min\n"
     ]
    },
    {
     "name": "stderr",
     "output_type": "stream",
     "text": [
      "INFO:fbprophet:Disabling daily seasonality. Run prophet with daily_seasonality=True to override this.\n"
     ]
    },
    {
     "name": "stdout",
     "output_type": "stream",
     "text": [
      "El producto demoró 3.5099966526031494 Sur Coyhaique\n",
      "tiempo que lleva corriendo 37.96521029869715 Min\n"
     ]
    },
    {
     "name": "stderr",
     "output_type": "stream",
     "text": [
      "INFO:fbprophet:Disabling daily seasonality. Run prophet with daily_seasonality=True to override this.\n"
     ]
    },
    {
     "name": "stdout",
     "output_type": "stream",
     "text": [
      "El producto demoró 3.131666421890259 Sur Coyhaique\n",
      "tiempo que lleva corriendo 38.017413119475044 Min\n"
     ]
    },
    {
     "name": "stderr",
     "output_type": "stream",
     "text": [
      "INFO:fbprophet:Disabling daily seasonality. Run prophet with daily_seasonality=True to override this.\n"
     ]
    },
    {
     "name": "stdout",
     "output_type": "stream",
     "text": [
      "El producto demoró 2.776331901550293 Sur Coyhaique\n",
      "tiempo que lleva corriendo 38.063710304101306 Min\n"
     ]
    },
    {
     "name": "stderr",
     "output_type": "stream",
     "text": [
      "INFO:fbprophet:Disabling daily seasonality. Run prophet with daily_seasonality=True to override this.\n"
     ]
    },
    {
     "name": "stdout",
     "output_type": "stream",
     "text": [
      "El producto demoró 3.0113956928253174 Sur Coyhaique\n",
      "tiempo que lleva corriendo 38.113975103696184 Min\n"
     ]
    },
    {
     "name": "stderr",
     "output_type": "stream",
     "text": [
      "INFO:fbprophet:Disabling daily seasonality. Run prophet with daily_seasonality=True to override this.\n"
     ]
    },
    {
     "name": "stdout",
     "output_type": "stream",
     "text": [
      "El producto demoró 2.6191275119781494 Sur Coyhaique\n",
      "tiempo que lleva corriendo 38.15763556957245 Min\n",
      "El producto demoró 0.007487058639526367 Sur Coyhaique\n",
      "tiempo que lleva corriendo 38.157760353883106 Min\n",
      "El producto demoró 0.008483648300170898 Sur Coyhaique\n",
      "tiempo que lleva corriendo 38.15791006882986 Min\n",
      "El producto demoró 0.005988597869873047 Sur Coyhaique\n",
      "tiempo que lleva corriendo 38.15809306701024 Min\n"
     ]
    },
    {
     "name": "stderr",
     "output_type": "stream",
     "text": [
      "INFO:fbprophet:Disabling daily seasonality. Run prophet with daily_seasonality=True to override this.\n"
     ]
    },
    {
     "name": "stdout",
     "output_type": "stream",
     "text": [
      "El producto demoró 2.8162670135498047 Sur Coyhaique\n",
      "tiempo que lleva corriendo 38.20503085056941 Min\n"
     ]
    },
    {
     "name": "stderr",
     "output_type": "stream",
     "text": [
      "INFO:fbprophet:Disabling daily seasonality. Run prophet with daily_seasonality=True to override this.\n"
     ]
    },
    {
     "name": "stdout",
     "output_type": "stream",
     "text": [
      "El producto demoró 2.5956568717956543 Sur Coyhaique\n",
      "tiempo que lleva corriendo 38.24830847581227 Min\n",
      "El producto demoró 0.007483720779418945 Sur Coyhaique\n",
      "tiempo que lleva corriendo 38.24843320449193 Min\n"
     ]
    },
    {
     "name": "stderr",
     "output_type": "stream",
     "text": [
      "INFO:fbprophet:Disabling daily seasonality. Run prophet with daily_seasonality=True to override this.\n"
     ]
    },
    {
     "name": "stdout",
     "output_type": "stream",
     "text": [
      "El producto demoró 2.8557047843933105 Sur Coyhaique\n",
      "tiempo que lleva corriendo 38.29603662093481 Min\n",
      "Osorno\n"
     ]
    },
    {
     "name": "stderr",
     "output_type": "stream",
     "text": [
      "INFO:fbprophet:Disabling daily seasonality. Run prophet with daily_seasonality=True to override this.\n"
     ]
    },
    {
     "name": "stdout",
     "output_type": "stream",
     "text": [
      "El producto demoró 2.694486379623413 Sur Osorno\n",
      "tiempo que lleva corriendo 38.3416680932045 Min\n"
     ]
    },
    {
     "name": "stderr",
     "output_type": "stream",
     "text": [
      "INFO:fbprophet:Disabling daily seasonality. Run prophet with daily_seasonality=True to override this.\n"
     ]
    },
    {
     "name": "stdout",
     "output_type": "stream",
     "text": [
      "El producto demoró 5.1114842891693115 Sur Osorno\n",
      "tiempo que lleva corriendo 38.42685949802399 Min\n"
     ]
    },
    {
     "name": "stderr",
     "output_type": "stream",
     "text": [
      "INFO:fbprophet:Disabling daily seasonality. Run prophet with daily_seasonality=True to override this.\n"
     ]
    },
    {
     "name": "stdout",
     "output_type": "stream",
     "text": [
      "El producto demoró 5.158899784088135 Sur Osorno\n",
      "tiempo que lleva corriendo 38.51284116109212 Min\n"
     ]
    },
    {
     "name": "stderr",
     "output_type": "stream",
     "text": [
      "INFO:fbprophet:Disabling daily seasonality. Run prophet with daily_seasonality=True to override this.\n"
     ]
    },
    {
     "name": "stdout",
     "output_type": "stream",
     "text": [
      "El producto demoró 5.256718158721924 Sur Osorno\n",
      "tiempo que lleva corriendo 38.600461439291635 Min\n"
     ]
    },
    {
     "name": "stderr",
     "output_type": "stream",
     "text": [
      "INFO:fbprophet:Disabling daily seasonality. Run prophet with daily_seasonality=True to override this.\n"
     ]
    },
    {
     "name": "stdout",
     "output_type": "stream",
     "text": [
      "El producto demoró 6.764912128448486 Sur Osorno\n",
      "tiempo que lleva corriendo 38.71321830352147 Min\n"
     ]
    },
    {
     "name": "stderr",
     "output_type": "stream",
     "text": [
      "INFO:fbprophet:Disabling daily seasonality. Run prophet with daily_seasonality=True to override this.\n"
     ]
    },
    {
     "name": "stdout",
     "output_type": "stream",
     "text": [
      "El producto demoró 4.774611473083496 Sur Osorno\n",
      "tiempo que lleva corriendo 38.79280349810918 Min\n"
     ]
    },
    {
     "name": "stderr",
     "output_type": "stream",
     "text": [
      "INFO:fbprophet:Disabling daily seasonality. Run prophet with daily_seasonality=True to override this.\n"
     ]
    },
    {
     "name": "stdout",
     "output_type": "stream",
     "text": [
      "El producto demoró 6.041755437850952 Sur Osorno\n",
      "tiempo que lleva corriendo 38.89350776672363 Min\n"
     ]
    },
    {
     "name": "stderr",
     "output_type": "stream",
     "text": [
      "INFO:fbprophet:Disabling daily seasonality. Run prophet with daily_seasonality=True to override this.\n"
     ]
    },
    {
     "name": "stdout",
     "output_type": "stream",
     "text": [
      "El producto demoró 3.174103021621704 Sur Osorno\n",
      "tiempo que lleva corriendo 38.946417808532715 Min\n"
     ]
    },
    {
     "name": "stderr",
     "output_type": "stream",
     "text": [
      "INFO:fbprophet:Disabling daily seasonality. Run prophet with daily_seasonality=True to override this.\n"
     ]
    },
    {
     "name": "stdout",
     "output_type": "stream",
     "text": [
      "El producto demoró 6.354671239852905 Sur Osorno\n",
      "tiempo que lleva corriendo 39.05236212809881 Min\n"
     ]
    },
    {
     "name": "stderr",
     "output_type": "stream",
     "text": [
      "INFO:fbprophet:Disabling daily seasonality. Run prophet with daily_seasonality=True to override this.\n"
     ]
    },
    {
     "name": "stdout",
     "output_type": "stream",
     "text": [
      "El producto demoró 5.618046283721924 Sur Osorno\n",
      "tiempo que lleva corriendo 39.146004565556844 Min\n"
     ]
    },
    {
     "name": "stderr",
     "output_type": "stream",
     "text": [
      "INFO:fbprophet:Disabling daily seasonality. Run prophet with daily_seasonality=True to override this.\n"
     ]
    },
    {
     "name": "stdout",
     "output_type": "stream",
     "text": [
      "El producto demoró 5.374995708465576 Sur Osorno\n",
      "tiempo que lleva corriendo 39.235604461034136 Min\n"
     ]
    },
    {
     "name": "stderr",
     "output_type": "stream",
     "text": [
      "INFO:fbprophet:Disabling daily seasonality. Run prophet with daily_seasonality=True to override this.\n"
     ]
    },
    {
     "name": "stdout",
     "output_type": "stream",
     "text": [
      "El producto demoró 6.543821096420288 Sur Osorno\n",
      "tiempo que lleva corriendo 39.34469312826793 Min\n"
     ]
    },
    {
     "name": "stderr",
     "output_type": "stream",
     "text": [
      "INFO:fbprophet:Disabling daily seasonality. Run prophet with daily_seasonality=True to override this.\n"
     ]
    },
    {
     "name": "stdout",
     "output_type": "stream",
     "text": [
      "El producto demoró 5.49477219581604 Sur Osorno\n",
      "tiempo que lleva corriendo 39.436289322376254 Min\n",
      "El producto demoró 0.007483482360839844 Sur Osorno\n",
      "tiempo que lleva corriendo 39.4365970770518 Min\n"
     ]
    },
    {
     "name": "stderr",
     "output_type": "stream",
     "text": [
      "INFO:fbprophet:Disabling daily seasonality. Run prophet with daily_seasonality=True to override this.\n"
     ]
    },
    {
     "name": "stdout",
     "output_type": "stream",
     "text": [
      "El producto demoró 4.873431444168091 Sur Osorno\n",
      "tiempo que lleva corriendo 39.51782923936844 Min\n"
     ]
    },
    {
     "name": "stderr",
     "output_type": "stream",
     "text": [
      "INFO:fbprophet:Disabling daily seasonality. Run prophet with daily_seasonality=True to override this.\n"
     ]
    },
    {
     "name": "stdout",
     "output_type": "stream",
     "text": [
      "El producto demoró 3.817397117614746 Sur Osorno\n",
      "tiempo que lleva corriendo 39.58146094083786 Min\n"
     ]
    },
    {
     "name": "stderr",
     "output_type": "stream",
     "text": [
      "INFO:fbprophet:Disabling daily seasonality. Run prophet with daily_seasonality=True to override this.\n"
     ]
    },
    {
     "name": "stdout",
     "output_type": "stream",
     "text": [
      "El producto demoró 4.378349542617798 Sur Osorno\n",
      "tiempo que lleva corriendo 39.65443343321483 Min\n"
     ]
    },
    {
     "name": "stderr",
     "output_type": "stream",
     "text": [
      "INFO:fbprophet:Disabling daily seasonality. Run prophet with daily_seasonality=True to override this.\n"
     ]
    },
    {
     "name": "stdout",
     "output_type": "stream",
     "text": [
      "El producto demoró 3.4031622409820557 Sur Osorno\n",
      "tiempo que lleva corriendo 39.711161124706265 Min\n"
     ]
    },
    {
     "name": "stderr",
     "output_type": "stream",
     "text": [
      "INFO:fbprophet:Disabling daily seasonality. Run prophet with daily_seasonality=True to override this.\n"
     ]
    },
    {
     "name": "stdout",
     "output_type": "stream",
     "text": [
      "El producto demoró 3.3218185901641846 Sur Osorno\n",
      "tiempo que lleva corriendo 39.766533108552295 Min\n"
     ]
    },
    {
     "name": "stderr",
     "output_type": "stream",
     "text": [
      "INFO:fbprophet:Disabling daily seasonality. Run prophet with daily_seasonality=True to override this.\n"
     ]
    },
    {
     "name": "stdout",
     "output_type": "stream",
     "text": [
      "El producto demoró 3.3572516441345215 Sur Osorno\n",
      "tiempo que lleva corriendo 39.822487302621205 Min\n"
     ]
    },
    {
     "name": "stderr",
     "output_type": "stream",
     "text": [
      "INFO:fbprophet:Disabling daily seasonality. Run prophet with daily_seasonality=True to override this.\n"
     ]
    },
    {
     "name": "stdout",
     "output_type": "stream",
     "text": [
      "El producto demoró 4.216670751571655 Sur Osorno\n",
      "tiempo que lleva corriendo 39.892773473262785 Min\n"
     ]
    },
    {
     "name": "stderr",
     "output_type": "stream",
     "text": [
      "INFO:fbprophet:Disabling daily seasonality. Run prophet with daily_seasonality=True to override this.\n"
     ]
    },
    {
     "name": "stdout",
     "output_type": "stream",
     "text": [
      "El producto demoró 2.9215638637542725 Sur Osorno\n",
      "tiempo que lleva corriendo 39.941474501291914 Min\n"
     ]
    },
    {
     "name": "stderr",
     "output_type": "stream",
     "text": [
      "INFO:fbprophet:Disabling daily seasonality. Run prophet with daily_seasonality=True to override this.\n"
     ]
    },
    {
     "name": "stdout",
     "output_type": "stream",
     "text": [
      "El producto demoró 3.1895484924316406 Sur Osorno\n",
      "tiempo que lleva corriendo 39.9946419318517 Min\n"
     ]
    },
    {
     "name": "stderr",
     "output_type": "stream",
     "text": [
      "INFO:fbprophet:Disabling daily seasonality. Run prophet with daily_seasonality=True to override this.\n"
     ]
    },
    {
     "name": "stdout",
     "output_type": "stream",
     "text": [
      "El producto demoró 3.0393428802490234 Sur Osorno\n",
      "tiempo que lleva corriendo 40.04530597527822 Min\n"
     ]
    },
    {
     "name": "stderr",
     "output_type": "stream",
     "text": [
      "INFO:fbprophet:Disabling daily seasonality. Run prophet with daily_seasonality=True to override this.\n"
     ]
    },
    {
     "name": "stdout",
     "output_type": "stream",
     "text": [
      "El producto demoró 3.3278069496154785 Sur Osorno\n",
      "tiempo que lleva corriendo 40.1007777372996 Min\n"
     ]
    },
    {
     "name": "stderr",
     "output_type": "stream",
     "text": [
      "INFO:fbprophet:Disabling daily seasonality. Run prophet with daily_seasonality=True to override this.\n"
     ]
    },
    {
     "name": "stdout",
     "output_type": "stream",
     "text": [
      "El producto demoró 3.40865421295166 Sur Osorno\n",
      "tiempo que lleva corriendo 40.15776335398356 Min\n"
     ]
    },
    {
     "name": "stderr",
     "output_type": "stream",
     "text": [
      "INFO:fbprophet:Disabling daily seasonality. Run prophet with daily_seasonality=True to override this.\n"
     ]
    },
    {
     "name": "stdout",
     "output_type": "stream",
     "text": [
      "El producto demoró 2.7977964878082275 Sur Osorno\n",
      "tiempo que lleva corriendo 40.2044016122818 Min\n"
     ]
    },
    {
     "name": "stderr",
     "output_type": "stream",
     "text": [
      "INFO:fbprophet:Disabling daily seasonality. Run prophet with daily_seasonality=True to override this.\n"
     ]
    },
    {
     "name": "stdout",
     "output_type": "stream",
     "text": [
      "El producto demoró 2.9544994831085205 Sur Osorno\n",
      "tiempo que lleva corriendo 40.25365989208221 Min\n"
     ]
    },
    {
     "name": "stderr",
     "output_type": "stream",
     "text": [
      "INFO:fbprophet:Disabling daily seasonality. Run prophet with daily_seasonality=True to override this.\n"
     ]
    },
    {
     "name": "stdout",
     "output_type": "stream",
     "text": [
      "El producto demoró 5.196331262588501 Sur Osorno\n",
      "tiempo que lleva corriendo 40.34027371009191 Min\n"
     ]
    },
    {
     "name": "stderr",
     "output_type": "stream",
     "text": [
      "INFO:fbprophet:Disabling daily seasonality. Run prophet with daily_seasonality=True to override this.\n"
     ]
    },
    {
     "name": "stdout",
     "output_type": "stream",
     "text": [
      "El producto demoró 4.054956436157227 Sur Osorno\n",
      "tiempo que lleva corriendo 40.407856317361194 Min\n"
     ]
    },
    {
     "name": "stderr",
     "output_type": "stream",
     "text": [
      "INFO:fbprophet:Disabling daily seasonality. Run prophet with daily_seasonality=True to override this.\n"
     ]
    },
    {
     "name": "stdout",
     "output_type": "stream",
     "text": [
      "El producto demoró 6.497411012649536 Sur Osorno\n",
      "tiempo que lleva corriendo 40.51615478595098 Min\n"
     ]
    },
    {
     "name": "stderr",
     "output_type": "stream",
     "text": [
      "INFO:fbprophet:Disabling daily seasonality. Run prophet with daily_seasonality=True to override this.\n"
     ]
    },
    {
     "name": "stdout",
     "output_type": "stream",
     "text": [
      "El producto demoró 6.191976070404053 Sur Osorno\n",
      "tiempo que lleva corriendo 40.619362672170006 Min\n"
     ]
    },
    {
     "name": "stderr",
     "output_type": "stream",
     "text": [
      "INFO:fbprophet:Disabling daily seasonality. Run prophet with daily_seasonality=True to override this.\n"
     ]
    },
    {
     "name": "stdout",
     "output_type": "stream",
     "text": [
      "El producto demoró 3.3552515506744385 Sur Osorno\n",
      "tiempo que lleva corriendo 40.67529191970825 Min\n"
     ]
    },
    {
     "name": "stderr",
     "output_type": "stream",
     "text": [
      "INFO:fbprophet:Disabling daily seasonality. Run prophet with daily_seasonality=True to override this.\n"
     ]
    },
    {
     "name": "stdout",
     "output_type": "stream",
     "text": [
      "El producto demoró 5.724346876144409 Sur Osorno\n",
      "tiempo que lleva corriendo 40.770706021785735 Min\n",
      "El producto demoró 0.01147913932800293 Sur Osorno\n",
      "tiempo que lleva corriendo 40.770905641714734 Min\n"
     ]
    },
    {
     "name": "stderr",
     "output_type": "stream",
     "text": [
      "INFO:fbprophet:Disabling daily seasonality. Run prophet with daily_seasonality=True to override this.\n"
     ]
    },
    {
     "name": "stdout",
     "output_type": "stream",
     "text": [
      "El producto demoró 3.224500894546509 Sur Osorno\n",
      "tiempo que lleva corriendo 40.824647323290506 Min\n",
      "El producto demoró 0.009486198425292969 Sur Osorno\n",
      "tiempo que lleva corriendo 40.82481372356415 Min\n",
      "El producto demoró 0.00598907470703125 Sur Osorno\n",
      "tiempo que lleva corriendo 40.82506321271261 Min\n",
      "El producto demoró 0.006986856460571289 Sur Osorno\n",
      "tiempo que lleva corriendo 40.82518796920776 Min\n",
      "El producto demoró 0.007985591888427734 Sur Osorno\n",
      "tiempo que lleva corriendo 40.825337727864586 Min\n",
      "El producto demoró 0.00798344612121582 Sur Osorno\n",
      "tiempo que lleva corriendo 40.825470785299935 Min\n",
      "El producto demoró 0.007485866546630859 Sur Osorno\n",
      "tiempo que lleva corriendo 40.82561218738556 Min\n",
      "El producto demoró 0.007485151290893555 Sur Osorno\n",
      "tiempo que lleva corriendo 40.825736939907074 Min\n",
      "El producto demoró 0.00698542594909668 Sur Osorno\n",
      "tiempo que lleva corriendo 40.82587003310521 Min\n",
      "Puerto Montt\n"
     ]
    },
    {
     "name": "stderr",
     "output_type": "stream",
     "text": [
      "INFO:fbprophet:Disabling daily seasonality. Run prophet with daily_seasonality=True to override this.\n"
     ]
    },
    {
     "name": "stdout",
     "output_type": "stream",
     "text": [
      "El producto demoró 3.1855721473693848 Sur Puerto Montt\n",
      "tiempo que lleva corriendo 40.87970324754715 Min\n"
     ]
    },
    {
     "name": "stderr",
     "output_type": "stream",
     "text": [
      "INFO:fbprophet:Disabling daily seasonality. Run prophet with daily_seasonality=True to override this.\n"
     ]
    },
    {
     "name": "stdout",
     "output_type": "stream",
     "text": [
      "El producto demoró 6.2219178676605225 Sur Puerto Montt\n",
      "tiempo que lleva corriendo 40.98341018358867 Min\n"
     ]
    },
    {
     "name": "stderr",
     "output_type": "stream",
     "text": [
      "INFO:fbprophet:Disabling daily seasonality. Run prophet with daily_seasonality=True to override this.\n"
     ]
    },
    {
     "name": "stdout",
     "output_type": "stream",
     "text": [
      "El producto demoró 6.227914333343506 Sur Puerto Montt\n",
      "tiempo que lleva corriendo 41.087233646710715 Min\n"
     ]
    },
    {
     "name": "stderr",
     "output_type": "stream",
     "text": [
      "INFO:fbprophet:Disabling daily seasonality. Run prophet with daily_seasonality=True to override this.\n"
     ]
    },
    {
     "name": "stdout",
     "output_type": "stream",
     "text": [
      "El producto demoró 5.84412407875061 Sur Puerto Montt\n",
      "tiempo que lleva corriendo 41.18465235233307 Min\n"
     ]
    },
    {
     "name": "stderr",
     "output_type": "stream",
     "text": [
      "INFO:fbprophet:Disabling daily seasonality. Run prophet with daily_seasonality=True to override this.\n"
     ]
    },
    {
     "name": "stdout",
     "output_type": "stream",
     "text": [
      "El producto demoró 6.10364294052124 Sur Puerto Montt\n",
      "tiempo que lleva corriendo 41.286388059457146 Min\n"
     ]
    },
    {
     "name": "stderr",
     "output_type": "stream",
     "text": [
      "INFO:fbprophet:Disabling daily seasonality. Run prophet with daily_seasonality=True to override this.\n"
     ]
    },
    {
     "name": "stdout",
     "output_type": "stream",
     "text": [
      "El producto demoró 3.4031646251678467 Sur Puerto Montt\n",
      "tiempo que lleva corriendo 41.34311579068502 Min\n"
     ]
    },
    {
     "name": "stderr",
     "output_type": "stream",
     "text": [
      "INFO:fbprophet:Disabling daily seasonality. Run prophet with daily_seasonality=True to override this.\n"
     ]
    },
    {
     "name": "stdout",
     "output_type": "stream",
     "text": [
      "El producto demoró 7.002969264984131 Sur Puerto Montt\n",
      "tiempo que lleva corriendo 41.45984856287638 Min\n"
     ]
    },
    {
     "name": "stderr",
     "output_type": "stream",
     "text": [
      "INFO:fbprophet:Disabling daily seasonality. Run prophet with daily_seasonality=True to override this.\n"
     ]
    },
    {
     "name": "stdout",
     "output_type": "stream",
     "text": [
      "El producto demoró 3.6716666221618652 Sur Puerto Montt\n",
      "tiempo que lleva corriendo 41.52105132738749 Min\n"
     ]
    },
    {
     "name": "stderr",
     "output_type": "stream",
     "text": [
      "INFO:fbprophet:Disabling daily seasonality. Run prophet with daily_seasonality=True to override this.\n"
     ]
    },
    {
     "name": "stdout",
     "output_type": "stream",
     "text": [
      "El producto demoró 5.718358039855957 Sur Puerto Montt\n",
      "tiempo que lleva corriendo 41.616357294718426 Min\n"
     ]
    },
    {
     "name": "stderr",
     "output_type": "stream",
     "text": [
      "INFO:fbprophet:Disabling daily seasonality. Run prophet with daily_seasonality=True to override this.\n"
     ]
    },
    {
     "name": "stdout",
     "output_type": "stream",
     "text": [
      "El producto demoró 6.426042318344116 Sur Puerto Montt\n",
      "tiempo que lleva corriendo 41.72347464561462 Min\n"
     ]
    },
    {
     "name": "stderr",
     "output_type": "stream",
     "text": [
      "INFO:fbprophet:Disabling daily seasonality. Run prophet with daily_seasonality=True to override this.\n"
     ]
    },
    {
     "name": "stdout",
     "output_type": "stream",
     "text": [
      "El producto demoró 6.652120113372803 Sur Puerto Montt\n",
      "tiempo que lleva corriendo 41.8343516310056 Min\n"
     ]
    },
    {
     "name": "stderr",
     "output_type": "stream",
     "text": [
      "INFO:fbprophet:Disabling daily seasonality. Run prophet with daily_seasonality=True to override this.\n"
     ]
    },
    {
     "name": "stdout",
     "output_type": "stream",
     "text": [
      "El producto demoró 4.500123977661133 Sur Puerto Montt\n",
      "tiempo que lleva corriendo 41.90936202605565 Min\n"
     ]
    },
    {
     "name": "stderr",
     "output_type": "stream",
     "text": [
      "INFO:fbprophet:Disabling daily seasonality. Run prophet with daily_seasonality=True to override this.\n"
     ]
    },
    {
     "name": "stdout",
     "output_type": "stream",
     "text": [
      "El producto demoró 4.569996118545532 Sur Puerto Montt\n",
      "tiempo que lleva corriendo 41.9855369369189 Min\n",
      "El producto demoró 0.008483648300170898 Sur Puerto Montt\n",
      "tiempo que lleva corriendo 41.98585300842921 Min\n"
     ]
    },
    {
     "name": "stderr",
     "output_type": "stream",
     "text": [
      "INFO:fbprophet:Disabling daily seasonality. Run prophet with daily_seasonality=True to override this.\n"
     ]
    },
    {
     "name": "stdout",
     "output_type": "stream",
     "text": [
      "El producto demoró 3.4321131706237793 Sur Puerto Montt\n",
      "tiempo que lleva corriendo 42.043063231309254 Min\n"
     ]
    },
    {
     "name": "stderr",
     "output_type": "stream",
     "text": [
      "INFO:fbprophet:Disabling daily seasonality. Run prophet with daily_seasonality=True to override this.\n"
     ]
    },
    {
     "name": "stdout",
     "output_type": "stream",
     "text": [
      "El producto demoró 3.1057214736938477 Sur Puerto Montt\n",
      "tiempo que lleva corriendo 42.0948335369428 Min\n"
     ]
    },
    {
     "name": "stderr",
     "output_type": "stream",
     "text": [
      "INFO:fbprophet:Disabling daily seasonality. Run prophet with daily_seasonality=True to override this.\n"
     ]
    },
    {
     "name": "stdout",
     "output_type": "stream",
     "text": [
      "El producto demoró 3.299360752105713 Sur Puerto Montt\n",
      "tiempo que lleva corriendo 42.14983120361964 Min\n",
      "El producto demoró 0.008983373641967773 Sur Puerto Montt\n",
      "tiempo que lleva corriendo 42.149989259243014 Min\n",
      "El producto demoró 0.009979486465454102 Sur Puerto Montt\n",
      "tiempo que lleva corriendo 42.15016401211421 Min\n"
     ]
    },
    {
     "name": "stderr",
     "output_type": "stream",
     "text": [
      "INFO:fbprophet:Disabling daily seasonality. Run prophet with daily_seasonality=True to override this.\n"
     ]
    },
    {
     "name": "stdout",
     "output_type": "stream",
     "text": [
      "El producto demoró 3.959627151489258 Sur Puerto Montt\n",
      "tiempo que lleva corriendo 42.216157797972365 Min\n"
     ]
    },
    {
     "name": "stderr",
     "output_type": "stream",
     "text": [
      "INFO:fbprophet:Disabling daily seasonality. Run prophet with daily_seasonality=True to override this.\n"
     ]
    },
    {
     "name": "stdout",
     "output_type": "stream",
     "text": [
      "El producto demoró 2.818256139755249 Sur Puerto Montt\n",
      "tiempo que lleva corriendo 42.26313704649608 Min\n",
      "El producto demoró 0.00848245620727539 Sur Puerto Montt\n",
      "tiempo que lleva corriendo 42.26327842076619 Min\n",
      "El producto demoró 0.006487846374511719 Sur Puerto Montt\n",
      "tiempo que lleva corriendo 42.263527985413866 Min\n",
      "El producto demoró 0.007483720779418945 Sur Puerto Montt\n",
      "tiempo que lleva corriendo 42.263652714093524 Min\n",
      "El producto demoró 0.007486820220947266 Sur Puerto Montt\n",
      "tiempo que lleva corriendo 42.26378580331802 Min\n",
      "El producto demoró 0.007985115051269531 Sur Puerto Montt\n",
      "tiempo que lleva corriendo 42.26392722129822 Min\n",
      "El producto demoró 0.008483409881591797 Sur Puerto Montt\n",
      "tiempo que lleva corriendo 42.26407694419225 Min\n",
      "El producto demoró 0.0074863433837890625 Sur Puerto Montt\n",
      "tiempo que lleva corriendo 42.26420171658198 Min\n",
      "El producto demoró 0.00748443603515625 Sur Puerto Montt\n",
      "tiempo que lleva corriendo 42.26433479785919 Min\n",
      "El producto demoró 0.00848388671875 Sur Puerto Montt\n",
      "tiempo que lleva corriendo 42.26450132131576 Min\n",
      "El producto demoró 0.008972644805908203 Sur Puerto Montt\n",
      "tiempo que lleva corriendo 42.26465917825699 Min\n",
      "El producto demoró 0.00698542594909668 Sur Puerto Montt\n",
      "tiempo que lleva corriendo 42.26480890512467 Min\n"
     ]
    },
    {
     "name": "stderr",
     "output_type": "stream",
     "text": [
      "INFO:fbprophet:Disabling daily seasonality. Run prophet with daily_seasonality=True to override this.\n"
     ]
    },
    {
     "name": "stdout",
     "output_type": "stream",
     "text": [
      "El producto demoró 4.535074710845947 Sur Puerto Montt\n",
      "tiempo que lleva corriendo 42.340551288922626 Min\n"
     ]
    },
    {
     "name": "stderr",
     "output_type": "stream",
     "text": [
      "INFO:fbprophet:Disabling daily seasonality. Run prophet with daily_seasonality=True to override this.\n"
     ]
    },
    {
     "name": "stdout",
     "output_type": "stream",
     "text": [
      "El producto demoró 3.3163270950317383 Sur Puerto Montt\n",
      "tiempo que lleva corriendo 42.39583172003428 Min\n"
     ]
    },
    {
     "name": "stderr",
     "output_type": "stream",
     "text": [
      "INFO:fbprophet:Disabling daily seasonality. Run prophet with daily_seasonality=True to override this.\n"
     ]
    },
    {
     "name": "stdout",
     "output_type": "stream",
     "text": [
      "El producto demoró 3.317826509475708 Sur Puerto Montt\n",
      "tiempo que lleva corriendo 42.45113714536031 Min\n"
     ]
    },
    {
     "name": "stderr",
     "output_type": "stream",
     "text": [
      "INFO:fbprophet:Disabling daily seasonality. Run prophet with daily_seasonality=True to override this.\n"
     ]
    },
    {
     "name": "stdout",
     "output_type": "stream",
     "text": [
      "El producto demoró 4.58147406578064 Sur Puerto Montt\n",
      "tiempo que lleva corriendo 42.52749504645666 Min\n"
     ]
    },
    {
     "name": "stderr",
     "output_type": "stream",
     "text": [
      "INFO:fbprophet:Disabling daily seasonality. Run prophet with daily_seasonality=True to override this.\n"
     ]
    },
    {
     "name": "stdout",
     "output_type": "stream",
     "text": [
      "El producto demoró 3.269418478012085 Sur Puerto Montt\n",
      "tiempo que lleva corriendo 42.58198535442352 Min\n"
     ]
    },
    {
     "name": "stderr",
     "output_type": "stream",
     "text": [
      "INFO:fbprophet:Disabling daily seasonality. Run prophet with daily_seasonality=True to override this.\n"
     ]
    },
    {
     "name": "stdout",
     "output_type": "stream",
     "text": [
      "El producto demoró 4.676294803619385 Sur Puerto Montt\n",
      "tiempo que lleva corriendo 42.65994023482005 Min\n"
     ]
    },
    {
     "name": "stderr",
     "output_type": "stream",
     "text": [
      "INFO:fbprophet:Disabling daily seasonality. Run prophet with daily_seasonality=True to override this.\n"
     ]
    },
    {
     "name": "stdout",
     "output_type": "stream",
     "text": [
      "El producto demoró 5.263704776763916 Sur Puerto Montt\n",
      "tiempo que lleva corriendo 42.74767695267995 Min\n"
     ]
    },
    {
     "name": "stderr",
     "output_type": "stream",
     "text": [
      "INFO:fbprophet:Disabling daily seasonality. Run prophet with daily_seasonality=True to override this.\n"
     ]
    },
    {
     "name": "stdout",
     "output_type": "stream",
     "text": [
      "El producto demoró 3.353762149810791 Sur Puerto Montt\n",
      "tiempo que lleva corriendo 42.80357298851013 Min\n"
     ]
    },
    {
     "name": "stderr",
     "output_type": "stream",
     "text": [
      "INFO:fbprophet:Disabling daily seasonality. Run prophet with daily_seasonality=True to override this.\n"
     ]
    },
    {
     "name": "stdout",
     "output_type": "stream",
     "text": [
      "El producto demoró 4.634872674942017 Sur Puerto Montt\n",
      "tiempo que lleva corriendo 42.88082086642583 Min\n"
     ]
    },
    {
     "name": "stderr",
     "output_type": "stream",
     "text": [
      "INFO:fbprophet:Disabling daily seasonality. Run prophet with daily_seasonality=True to override this.\n"
     ]
    },
    {
     "name": "stdout",
     "output_type": "stream",
     "text": [
      "El producto demoró 2.921563148498535 Sur Puerto Montt\n",
      "tiempo que lleva corriendo 42.9295302549998 Min\n",
      "Punta Arenas\n"
     ]
    },
    {
     "name": "stderr",
     "output_type": "stream",
     "text": [
      "INFO:fbprophet:Disabling daily seasonality. Run prophet with daily_seasonality=True to override this.\n"
     ]
    },
    {
     "name": "stdout",
     "output_type": "stream",
     "text": [
      "El producto demoró 2.9779610633850098 Sur Punta Arenas\n",
      "tiempo que lleva corriendo 42.97980337142944 Min\n"
     ]
    },
    {
     "name": "stderr",
     "output_type": "stream",
     "text": [
      "INFO:fbprophet:Disabling daily seasonality. Run prophet with daily_seasonality=True to override this.\n"
     ]
    },
    {
     "name": "stdout",
     "output_type": "stream",
     "text": [
      "El producto demoró 2.8756632804870605 Sur Punta Arenas\n",
      "tiempo que lleva corriendo 43.027739409605665 Min\n"
     ]
    },
    {
     "name": "stderr",
     "output_type": "stream",
     "text": [
      "INFO:fbprophet:Disabling daily seasonality. Run prophet with daily_seasonality=True to override this.\n"
     ]
    },
    {
     "name": "stdout",
     "output_type": "stream",
     "text": [
      "El producto demoró 3.5079543590545654 Sur Punta Arenas\n",
      "tiempo que lleva corriendo 43.086221953233085 Min\n"
     ]
    },
    {
     "name": "stderr",
     "output_type": "stream",
     "text": [
      "INFO:fbprophet:Disabling daily seasonality. Run prophet with daily_seasonality=True to override this.\n"
     ]
    },
    {
     "name": "stdout",
     "output_type": "stream",
     "text": [
      "El producto demoró 3.3367905616760254 Sur Punta Arenas\n",
      "tiempo que lleva corriendo 43.141843446095784 Min\n"
     ]
    },
    {
     "name": "stderr",
     "output_type": "stream",
     "text": [
      "INFO:fbprophet:Disabling daily seasonality. Run prophet with daily_seasonality=True to override this.\n"
     ]
    },
    {
     "name": "stdout",
     "output_type": "stream",
     "text": [
      "El producto demoró 2.7823243141174316 Sur Punta Arenas\n",
      "tiempo que lleva corriendo 43.18821551799774 Min\n"
     ]
    },
    {
     "name": "stderr",
     "output_type": "stream",
     "text": [
      "INFO:fbprophet:Disabling daily seasonality. Run prophet with daily_seasonality=True to override this.\n"
     ]
    },
    {
     "name": "stdout",
     "output_type": "stream",
     "text": [
      "El producto demoró 2.866180419921875 Sur Punta Arenas\n",
      "tiempo que lleva corriendo 43.23599352836609 Min\n"
     ]
    },
    {
     "name": "stderr",
     "output_type": "stream",
     "text": [
      "INFO:fbprophet:Disabling daily seasonality. Run prophet with daily_seasonality=True to override this.\n"
     ]
    },
    {
     "name": "stdout",
     "output_type": "stream",
     "text": [
      "El producto demoró 2.8816373348236084 Sur Punta Arenas\n",
      "tiempo que lleva corriendo 43.28402913808823 Min\n"
     ]
    },
    {
     "name": "stderr",
     "output_type": "stream",
     "text": [
      "INFO:fbprophet:Disabling daily seasonality. Run prophet with daily_seasonality=True to override this.\n"
     ]
    },
    {
     "name": "stdout",
     "output_type": "stream",
     "text": [
      "El producto demoró 3.289360284805298 Sur Punta Arenas\n",
      "tiempo que lleva corriendo 43.33885180950165 Min\n"
     ]
    },
    {
     "name": "stderr",
     "output_type": "stream",
     "text": [
      "INFO:fbprophet:Disabling daily seasonality. Run prophet with daily_seasonality=True to override this.\n"
     ]
    },
    {
     "name": "stdout",
     "output_type": "stream",
     "text": [
      "El producto demoró 4.663323402404785 Sur Punta Arenas\n",
      "tiempo que lleva corriendo 43.416582175095876 Min\n"
     ]
    },
    {
     "name": "stderr",
     "output_type": "stream",
     "text": [
      "INFO:fbprophet:Disabling daily seasonality. Run prophet with daily_seasonality=True to override this.\n"
     ]
    },
    {
     "name": "stdout",
     "output_type": "stream",
     "text": [
      "El producto demoró 3.513463258743286 Sur Punta Arenas\n",
      "tiempo que lleva corriendo 43.47513989607493 Min\n"
     ]
    },
    {
     "name": "stderr",
     "output_type": "stream",
     "text": [
      "INFO:fbprophet:Disabling daily seasonality. Run prophet with daily_seasonality=True to override this.\n"
     ]
    },
    {
     "name": "stdout",
     "output_type": "stream",
     "text": [
      "El producto demoró 3.1561248302459717 Sur Punta Arenas\n",
      "tiempo que lleva corriendo 43.52774197657903 Min\n"
     ]
    },
    {
     "name": "stderr",
     "output_type": "stream",
     "text": [
      "INFO:fbprophet:Disabling daily seasonality. Run prophet with daily_seasonality=True to override this.\n"
     ]
    },
    {
     "name": "stdout",
     "output_type": "stream",
     "text": [
      "El producto demoró 2.881638765335083 Sur Punta Arenas\n",
      "tiempo que lleva corriendo 43.57586911519368 Min\n"
     ]
    },
    {
     "name": "stderr",
     "output_type": "stream",
     "text": [
      "INFO:fbprophet:Disabling daily seasonality. Run prophet with daily_seasonality=True to override this.\n"
     ]
    },
    {
     "name": "stdout",
     "output_type": "stream",
     "text": [
      "El producto demoró 2.68599796295166 Sur Punta Arenas\n",
      "tiempo que lleva corriendo 43.620635747909546 Min\n"
     ]
    },
    {
     "name": "stderr",
     "output_type": "stream",
     "text": [
      "INFO:fbprophet:Disabling daily seasonality. Run prophet with daily_seasonality=True to override this.\n"
     ]
    },
    {
     "name": "stdout",
     "output_type": "stream",
     "text": [
      "El producto demoró 2.666039228439331 Sur Punta Arenas\n",
      "tiempo que lleva corriendo 43.66507805188497 Min\n",
      "El producto demoró 0.007985353469848633 Sur Punta Arenas\n",
      "tiempo que lleva corriendo 43.66522777080536 Min\n",
      "El producto demoró 0.006486415863037109 Sur Punta Arenas\n",
      "tiempo que lleva corriendo 43.66543571154276 Min\n",
      "El producto demoró 0.007987737655639648 Sur Punta Arenas\n",
      "tiempo que lleva corriendo 43.665577149391176 Min\n"
     ]
    },
    {
     "name": "stderr",
     "output_type": "stream",
     "text": [
      "INFO:fbprophet:Disabling daily seasonality. Run prophet with daily_seasonality=True to override this.\n"
     ]
    },
    {
     "name": "stdout",
     "output_type": "stream",
     "text": [
      "El producto demoró 2.6186251640319824 Sur Punta Arenas\n",
      "tiempo que lleva corriendo 43.70922090212504 Min\n",
      "El producto demoró 0.007485628128051758 Sur Punta Arenas\n",
      "tiempo que lleva corriendo 43.7093539873759 Min\n"
     ]
    },
    {
     "name": "stderr",
     "output_type": "stream",
     "text": [
      "INFO:fbprophet:Disabling daily seasonality. Run prophet with daily_seasonality=True to override this.\n"
     ]
    },
    {
     "name": "stdout",
     "output_type": "stream",
     "text": [
      "El producto demoró 2.7433953285217285 Sur Punta Arenas\n",
      "tiempo que lleva corriendo 43.75507724285126 Min\n"
     ]
    },
    {
     "name": "stderr",
     "output_type": "stream",
     "text": [
      "INFO:fbprophet:Disabling daily seasonality. Run prophet with daily_seasonality=True to override this.\n"
     ]
    },
    {
     "name": "stdout",
     "output_type": "stream",
     "text": [
      "El producto demoró 3.1431500911712646 Sur Punta Arenas\n",
      "tiempo que lleva corriendo 43.80757952531179 Min\n",
      "El producto demoró 0.007985353469848633 Sur Punta Arenas\n",
      "tiempo que lleva corriendo 43.807720923423766 Min\n"
     ]
    },
    {
     "name": "stderr",
     "output_type": "stream",
     "text": [
      "INFO:fbprophet:Disabling daily seasonality. Run prophet with daily_seasonality=True to override this.\n"
     ]
    },
    {
     "name": "stdout",
     "output_type": "stream",
     "text": [
      "El producto demoró 2.841731071472168 Sur Punta Arenas\n",
      "tiempo que lleva corriendo 43.8550914088885 Min\n"
     ]
    },
    {
     "name": "stderr",
     "output_type": "stream",
     "text": [
      "INFO:fbprophet:Disabling daily seasonality. Run prophet with daily_seasonality=True to override this.\n"
     ]
    },
    {
     "name": "stdout",
     "output_type": "stream",
     "text": [
      "El producto demoró 2.7154312133789062 Sur Punta Arenas\n",
      "tiempo que lleva corriendo 43.90035691658656 Min\n"
     ]
    },
    {
     "name": "stderr",
     "output_type": "stream",
     "text": [
      "INFO:fbprophet:Disabling daily seasonality. Run prophet with daily_seasonality=True to override this.\n"
     ]
    },
    {
     "name": "stdout",
     "output_type": "stream",
     "text": [
      "El producto demoró 2.7683634757995605 Sur Punta Arenas\n",
      "tiempo que lleva corriendo 43.94650434652964 Min\n",
      "El producto demoró 0.007984161376953125 Sur Punta Arenas\n",
      "tiempo que lleva corriendo 43.94666235844294 Min\n"
     ]
    },
    {
     "name": "stderr",
     "output_type": "stream",
     "text": [
      "INFO:fbprophet:Disabling daily seasonality. Run prophet with daily_seasonality=True to override this.\n"
     ]
    },
    {
     "name": "stdout",
     "output_type": "stream",
     "text": [
      "El producto demoró 3.168602228164673 Sur Punta Arenas\n",
      "tiempo que lleva corriendo 43.9994974176089 Min\n",
      "Temuco\n"
     ]
    },
    {
     "name": "stderr",
     "output_type": "stream",
     "text": [
      "INFO:fbprophet:Disabling daily seasonality. Run prophet with daily_seasonality=True to override this.\n"
     ]
    },
    {
     "name": "stdout",
     "output_type": "stream",
     "text": [
      "El producto demoró 2.8976101875305176 Sur Temuco\n",
      "tiempo que lleva corriendo 44.04853117068608 Min\n"
     ]
    },
    {
     "name": "stderr",
     "output_type": "stream",
     "text": [
      "INFO:fbprophet:Disabling daily seasonality. Run prophet with daily_seasonality=True to override this.\n"
     ]
    },
    {
     "name": "stdout",
     "output_type": "stream",
     "text": [
      "El producto demoró 4.438736915588379 Sur Temuco\n",
      "tiempo que lleva corriendo 44.12251011927923 Min\n"
     ]
    },
    {
     "name": "stderr",
     "output_type": "stream",
     "text": [
      "INFO:fbprophet:Disabling daily seasonality. Run prophet with daily_seasonality=True to override this.\n"
     ]
    },
    {
     "name": "stdout",
     "output_type": "stream",
     "text": [
      "El producto demoró 4.4382407665252686 Sur Temuco\n",
      "tiempo que lleva corriendo 44.19649747212728 Min\n"
     ]
    },
    {
     "name": "stderr",
     "output_type": "stream",
     "text": [
      "INFO:fbprophet:Disabling daily seasonality. Run prophet with daily_seasonality=True to override this.\n"
     ]
    },
    {
     "name": "stdout",
     "output_type": "stream",
     "text": [
      "El producto demoró 4.803559064865112 Sur Temuco\n",
      "tiempo que lleva corriendo 44.27656509876251 Min\n"
     ]
    },
    {
     "name": "stderr",
     "output_type": "stream",
     "text": [
      "INFO:fbprophet:Disabling daily seasonality. Run prophet with daily_seasonality=True to override this.\n"
     ]
    },
    {
     "name": "stdout",
     "output_type": "stream",
     "text": [
      "El producto demoró 5.088031530380249 Sur Temuco\n",
      "tiempo que lleva corriendo 44.36136562426885 Min\n"
     ]
    },
    {
     "name": "stderr",
     "output_type": "stream",
     "text": [
      "INFO:fbprophet:Disabling daily seasonality. Run prophet with daily_seasonality=True to override this.\n"
     ]
    },
    {
     "name": "stdout",
     "output_type": "stream",
     "text": [
      "El producto demoró 5.040619134902954 Sur Temuco\n",
      "tiempo que lleva corriendo 44.44538426399231 Min\n"
     ]
    },
    {
     "name": "stderr",
     "output_type": "stream",
     "text": [
      "INFO:fbprophet:Disabling daily seasonality. Run prophet with daily_seasonality=True to override this.\n"
     ]
    },
    {
     "name": "stdout",
     "output_type": "stream",
     "text": [
      "El producto demoró 4.809549808502197 Sur Temuco\n",
      "tiempo que lleva corriendo 44.52554342746735 Min\n"
     ]
    },
    {
     "name": "stderr",
     "output_type": "stream",
     "text": [
      "INFO:fbprophet:Disabling daily seasonality. Run prophet with daily_seasonality=True to override this.\n"
     ]
    },
    {
     "name": "stdout",
     "output_type": "stream",
     "text": [
      "El producto demoró 3.6342360973358154 Sur Temuco\n",
      "tiempo que lleva corriendo 44.586122341950734 Min\n"
     ]
    },
    {
     "name": "stderr",
     "output_type": "stream",
     "text": [
      "INFO:fbprophet:Disabling daily seasonality. Run prophet with daily_seasonality=True to override this.\n"
     ]
    },
    {
     "name": "stdout",
     "output_type": "stream",
     "text": [
      "El producto demoró 4.973744630813599 Sur Temuco\n",
      "tiempo que lleva corriendo 44.66902640660604 Min\n"
     ]
    },
    {
     "name": "stderr",
     "output_type": "stream",
     "text": [
      "INFO:fbprophet:Disabling daily seasonality. Run prophet with daily_seasonality=True to override this.\n"
     ]
    },
    {
     "name": "stdout",
     "output_type": "stream",
     "text": [
      "El producto demoró 4.347907543182373 Sur Temuco\n",
      "tiempo que lleva corriendo 44.74149985313416 Min\n"
     ]
    },
    {
     "name": "stderr",
     "output_type": "stream",
     "text": [
      "INFO:fbprophet:Disabling daily seasonality. Run prophet with daily_seasonality=True to override this.\n"
     ]
    },
    {
     "name": "stdout",
     "output_type": "stream",
     "text": [
      "El producto demoró 4.689773082733154 Sur Temuco\n",
      "tiempo que lleva corriendo 44.8196710507075 Min\n"
     ]
    },
    {
     "name": "stderr",
     "output_type": "stream",
     "text": [
      "INFO:fbprophet:Disabling daily seasonality. Run prophet with daily_seasonality=True to override this.\n"
     ]
    },
    {
     "name": "stdout",
     "output_type": "stream",
     "text": [
      "El producto demoró 5.184352874755859 Sur Temuco\n",
      "tiempo que lleva corriendo 44.90608528455098 Min\n"
     ]
    },
    {
     "name": "stderr",
     "output_type": "stream",
     "text": [
      "INFO:fbprophet:Disabling daily seasonality. Run prophet with daily_seasonality=True to override this.\n"
     ]
    },
    {
     "name": "stdout",
     "output_type": "stream",
     "text": [
      "El producto demoró 4.802062749862671 Sur Temuco\n",
      "tiempo que lleva corriendo 44.986127984523776 Min\n"
     ]
    },
    {
     "name": "stderr",
     "output_type": "stream",
     "text": [
      "INFO:fbprophet:Disabling daily seasonality. Run prophet with daily_seasonality=True to override this.\n"
     ]
    },
    {
     "name": "stdout",
     "output_type": "stream",
     "text": [
      "El producto demoró 2.785815477371216 Sur Temuco\n",
      "tiempo que lleva corriendo 45.032791113853456 Min\n"
     ]
    },
    {
     "name": "stderr",
     "output_type": "stream",
     "text": [
      "INFO:fbprophet:Disabling daily seasonality. Run prophet with daily_seasonality=True to override this.\n"
     ]
    },
    {
     "name": "stdout",
     "output_type": "stream",
     "text": [
      "El producto demoró 3.4266273975372314 Sur Temuco\n",
      "tiempo que lleva corriendo 45.089909819761914 Min\n"
     ]
    },
    {
     "name": "stderr",
     "output_type": "stream",
     "text": [
      "INFO:fbprophet:Disabling daily seasonality. Run prophet with daily_seasonality=True to override this.\n"
     ]
    },
    {
     "name": "stdout",
     "output_type": "stream",
     "text": [
      "El producto demoró 2.8137638568878174 Sur Temuco\n",
      "tiempo que lleva corriendo 45.136805884043376 Min\n"
     ]
    },
    {
     "name": "stderr",
     "output_type": "stream",
     "text": [
      "INFO:fbprophet:Disabling daily seasonality. Run prophet with daily_seasonality=True to override this.\n"
     ]
    },
    {
     "name": "stdout",
     "output_type": "stream",
     "text": [
      "El producto demoró 2.630605936050415 Sur Temuco\n",
      "tiempo que lleva corriendo 45.18066594203313 Min\n"
     ]
    },
    {
     "name": "stderr",
     "output_type": "stream",
     "text": [
      "INFO:fbprophet:Disabling daily seasonality. Run prophet with daily_seasonality=True to override this.\n"
     ]
    },
    {
     "name": "stdout",
     "output_type": "stream",
     "text": [
      "El producto demoró 3.1815788745880127 Sur Temuco\n",
      "tiempo que lleva corriendo 45.2336922566096 Min\n"
     ]
    },
    {
     "name": "stderr",
     "output_type": "stream",
     "text": [
      "INFO:fbprophet:Disabling daily seasonality. Run prophet with daily_seasonality=True to override this.\n"
     ]
    },
    {
     "name": "stdout",
     "output_type": "stream",
     "text": [
      "El producto demoró 2.730419874191284 Sur Temuco\n",
      "tiempo que lleva corriendo 45.27923254172007 Min\n"
     ]
    },
    {
     "name": "stderr",
     "output_type": "stream",
     "text": [
      "INFO:fbprophet:Disabling daily seasonality. Run prophet with daily_seasonality=True to override this.\n"
     ]
    },
    {
     "name": "stdout",
     "output_type": "stream",
     "text": [
      "El producto demoró 2.7683639526367188 Sur Temuco\n",
      "tiempo que lleva corriendo 45.3253800034523 Min\n"
     ]
    },
    {
     "name": "stderr",
     "output_type": "stream",
     "text": [
      "INFO:fbprophet:Disabling daily seasonality. Run prophet with daily_seasonality=True to override this.\n"
     ]
    },
    {
     "name": "stdout",
     "output_type": "stream",
     "text": [
      "El producto demoró 2.825239896774292 Sur Temuco\n",
      "tiempo que lleva corriendo 45.37247567574183 Min\n"
     ]
    },
    {
     "name": "stderr",
     "output_type": "stream",
     "text": [
      "INFO:fbprophet:Disabling daily seasonality. Run prophet with daily_seasonality=True to override this.\n"
     ]
    },
    {
     "name": "stdout",
     "output_type": "stream",
     "text": [
      "El producto demoró 3.012894630432129 Sur Temuco\n",
      "tiempo que lleva corriendo 45.422698907057445 Min\n"
     ]
    },
    {
     "name": "stderr",
     "output_type": "stream",
     "text": [
      "INFO:fbprophet:Disabling daily seasonality. Run prophet with daily_seasonality=True to override this.\n"
     ]
    },
    {
     "name": "stdout",
     "output_type": "stream",
     "text": [
      "El producto demoró 2.9984354972839355 Sur Temuco\n",
      "tiempo que lleva corriendo 45.47270583709081 Min\n"
     ]
    },
    {
     "name": "stderr",
     "output_type": "stream",
     "text": [
      "INFO:fbprophet:Disabling daily seasonality. Run prophet with daily_seasonality=True to override this.\n"
     ]
    },
    {
     "name": "stdout",
     "output_type": "stream",
     "text": [
      "El producto demoró 2.901097536087036 Sur Temuco\n",
      "tiempo que lleva corriendo 45.52105746269226 Min\n"
     ]
    },
    {
     "name": "stderr",
     "output_type": "stream",
     "text": [
      "INFO:fbprophet:Disabling daily seasonality. Run prophet with daily_seasonality=True to override this.\n"
     ]
    },
    {
     "name": "stdout",
     "output_type": "stream",
     "text": [
      "El producto demoró 3.8658063411712646 Sur Temuco\n",
      "tiempo que lleva corriendo 45.58567888736725 Min\n",
      "El producto demoró 0.019463062286376953 Sur Temuco\n",
      "tiempo que lleva corriendo 45.58601159652074 Min\n"
     ]
    },
    {
     "name": "stderr",
     "output_type": "stream",
     "text": [
      "INFO:fbprophet:Disabling daily seasonality. Run prophet with daily_seasonality=True to override this.\n"
     ]
    },
    {
     "name": "stdout",
     "output_type": "stream",
     "text": [
      "El producto demoró 3.6921303272247314 Sur Temuco\n",
      "tiempo que lleva corriendo 45.647555414835615 Min\n"
     ]
    },
    {
     "name": "stderr",
     "output_type": "stream",
     "text": [
      "INFO:fbprophet:Disabling daily seasonality. Run prophet with daily_seasonality=True to override this.\n"
     ]
    },
    {
     "name": "stdout",
     "output_type": "stream",
     "text": [
      "El producto demoró 3.075279712677002 Sur Temuco\n",
      "tiempo que lleva corriendo 45.69882670243581 Min\n"
     ]
    },
    {
     "name": "stderr",
     "output_type": "stream",
     "text": [
      "INFO:fbprophet:Disabling daily seasonality. Run prophet with daily_seasonality=True to override this.\n"
     ]
    },
    {
     "name": "stdout",
     "output_type": "stream",
     "text": [
      "El producto demoró 5.316104173660278 Sur Temuco\n",
      "tiempo que lleva corriendo 45.78743675549825 Min\n"
     ]
    },
    {
     "name": "stderr",
     "output_type": "stream",
     "text": [
      "INFO:fbprophet:Disabling daily seasonality. Run prophet with daily_seasonality=True to override this.\n"
     ]
    },
    {
     "name": "stdout",
     "output_type": "stream",
     "text": [
      "El producto demoró 2.748385429382324 Sur Temuco\n",
      "tiempo que lleva corriendo 45.833251488208774 Min\n"
     ]
    },
    {
     "name": "stderr",
     "output_type": "stream",
     "text": [
      "INFO:fbprophet:Disabling daily seasonality. Run prophet with daily_seasonality=True to override this.\n"
     ]
    },
    {
     "name": "stdout",
     "output_type": "stream",
     "text": [
      "El producto demoró 3.0842599868774414 Sur Temuco\n",
      "tiempo que lleva corriendo 45.88465582132339 Min\n"
     ]
    },
    {
     "name": "stderr",
     "output_type": "stream",
     "text": [
      "INFO:fbprophet:Disabling daily seasonality. Run prophet with daily_seasonality=True to override this.\n"
     ]
    },
    {
     "name": "stdout",
     "output_type": "stream",
     "text": [
      "El producto demoró 5.829651832580566 Sur Temuco\n",
      "tiempo que lleva corriendo 45.98183331489563 Min\n"
     ]
    },
    {
     "name": "stderr",
     "output_type": "stream",
     "text": [
      "INFO:fbprophet:Disabling daily seasonality. Run prophet with daily_seasonality=True to override this.\n"
     ]
    },
    {
     "name": "stdout",
     "output_type": "stream",
     "text": [
      "El producto demoró 5.6090638637542725 Sur Temuco\n",
      "tiempo que lleva corriendo 46.075317712624866 Min\n"
     ]
    },
    {
     "name": "stderr",
     "output_type": "stream",
     "text": [
      "INFO:fbprophet:Disabling daily seasonality. Run prophet with daily_seasonality=True to override this.\n"
     ]
    },
    {
     "name": "stdout",
     "output_type": "stream",
     "text": [
      "El producto demoró 8.89594292640686 Sur Temuco\n",
      "tiempo que lleva corriendo 46.223616695404054 Min\n"
     ]
    },
    {
     "name": "stderr",
     "output_type": "stream",
     "text": [
      "INFO:fbprophet:Disabling daily seasonality. Run prophet with daily_seasonality=True to override this.\n"
     ]
    },
    {
     "name": "stdout",
     "output_type": "stream",
     "text": [
      "El producto demoró 4.657336711883545 Sur Temuco\n",
      "tiempo que lleva corriendo 46.301247239112854 Min\n"
     ]
    },
    {
     "name": "stderr",
     "output_type": "stream",
     "text": [
      "INFO:fbprophet:Disabling daily seasonality. Run prophet with daily_seasonality=True to override this.\n"
     ]
    },
    {
     "name": "stdout",
     "output_type": "stream",
     "text": [
      "El producto demoró 6.74943995475769 Sur Temuco\n",
      "tiempo que lleva corriendo 46.413746213912965 Min\n"
     ]
    },
    {
     "name": "stderr",
     "output_type": "stream",
     "text": [
      "INFO:fbprophet:Disabling daily seasonality. Run prophet with daily_seasonality=True to override this.\n"
     ]
    },
    {
     "name": "stdout",
     "output_type": "stream",
     "text": [
      "El producto demoró 4.427761793136597 Sur Temuco\n",
      "tiempo que lleva corriendo 46.48755055268605 Min\n"
     ]
    },
    {
     "name": "stderr",
     "output_type": "stream",
     "text": [
      "INFO:fbprophet:Disabling daily seasonality. Run prophet with daily_seasonality=True to override this.\n"
     ]
    },
    {
     "name": "stdout",
     "output_type": "stream",
     "text": [
      "El producto demoró 3.040342330932617 Sur Temuco\n",
      "tiempo que lleva corriendo 46.53843088150025 Min\n"
     ]
    },
    {
     "name": "stderr",
     "output_type": "stream",
     "text": [
      "INFO:fbprophet:Disabling daily seasonality. Run prophet with daily_seasonality=True to override this.\n"
     ]
    },
    {
     "name": "stdout",
     "output_type": "stream",
     "text": [
      "El producto demoró 2.760363817214966 Sur Temuco\n",
      "tiempo que lleva corriendo 46.5844452102979 Min\n"
     ]
    },
    {
     "name": "stderr",
     "output_type": "stream",
     "text": [
      "INFO:fbprophet:Disabling daily seasonality. Run prophet with daily_seasonality=True to override this.\n"
     ]
    },
    {
     "name": "stdout",
     "output_type": "stream",
     "text": [
      "El producto demoró 2.890622615814209 Sur Temuco\n",
      "tiempo que lleva corriendo 46.632630610466 Min\n"
     ]
    },
    {
     "name": "stderr",
     "output_type": "stream",
     "text": [
      "INFO:fbprophet:Disabling daily seasonality. Run prophet with daily_seasonality=True to override this.\n"
     ]
    },
    {
     "name": "stdout",
     "output_type": "stream",
     "text": [
      "El producto demoró 10.798903703689575 Sur Temuco\n",
      "tiempo que lleva corriendo 46.81262894074122 Min\n",
      "El producto demoró 0.007483959197998047 Sur Temuco\n",
      "tiempo que lleva corriendo 46.812761998176576 Min\n"
     ]
    },
    {
     "name": "stderr",
     "output_type": "stream",
     "text": [
      "INFO:fbprophet:Disabling daily seasonality. Run prophet with daily_seasonality=True to override this.\n"
     ]
    },
    {
     "name": "stdout",
     "output_type": "stream",
     "text": [
      "El producto demoró 7.055870532989502 Sur Temuco\n",
      "tiempo que lleva corriendo 46.93036818106969 Min\n"
     ]
    },
    {
     "name": "stderr",
     "output_type": "stream",
     "text": [
      "INFO:fbprophet:Disabling daily seasonality. Run prophet with daily_seasonality=True to override this.\n"
     ]
    },
    {
     "name": "stdout",
     "output_type": "stream",
     "text": [
      "El producto demoró 3.025367498397827 Sur Temuco\n",
      "tiempo que lleva corriendo 46.980799281597136 Min\n",
      "Valdivia\n"
     ]
    },
    {
     "name": "stderr",
     "output_type": "stream",
     "text": [
      "INFO:fbprophet:Disabling daily seasonality. Run prophet with daily_seasonality=True to override this.\n"
     ]
    },
    {
     "name": "stdout",
     "output_type": "stream",
     "text": [
      "El producto demoró 3.668671131134033 Sur Valdivia\n",
      "tiempo que lleva corriendo 47.04284216562907 Min\n"
     ]
    },
    {
     "name": "stderr",
     "output_type": "stream",
     "text": [
      "INFO:fbprophet:Disabling daily seasonality. Run prophet with daily_seasonality=True to override this.\n"
     ]
    },
    {
     "name": "stdout",
     "output_type": "stream",
     "text": [
      "El producto demoró 5.22278094291687 Sur Valdivia\n",
      "tiempo que lleva corriendo 47.129896815617876 Min\n"
     ]
    },
    {
     "name": "stderr",
     "output_type": "stream",
     "text": [
      "INFO:fbprophet:Disabling daily seasonality. Run prophet with daily_seasonality=True to override this.\n"
     ]
    },
    {
     "name": "stdout",
     "output_type": "stream",
     "text": [
      "El producto demoró 3.821898937225342 Sur Valdivia\n",
      "tiempo que lleva corriendo 47.19360344409942 Min\n"
     ]
    },
    {
     "name": "stderr",
     "output_type": "stream",
     "text": [
      "INFO:fbprophet:Disabling daily seasonality. Run prophet with daily_seasonality=True to override this.\n"
     ]
    },
    {
     "name": "stdout",
     "output_type": "stream",
     "text": [
      "El producto demoró 2.99292254447937 Sur Valdivia\n",
      "tiempo que lleva corriendo 47.24349380731583 Min\n"
     ]
    },
    {
     "name": "stderr",
     "output_type": "stream",
     "text": [
      "INFO:fbprophet:Disabling daily seasonality. Run prophet with daily_seasonality=True to override this.\n"
     ]
    },
    {
     "name": "stdout",
     "output_type": "stream",
     "text": [
      "El producto demoró 5.0535948276519775 Sur Valdivia\n",
      "tiempo que lleva corriendo 47.3277286807696 Min\n"
     ]
    },
    {
     "name": "stderr",
     "output_type": "stream",
     "text": [
      "INFO:fbprophet:Disabling daily seasonality. Run prophet with daily_seasonality=True to override this.\n"
     ]
    },
    {
     "name": "stdout",
     "output_type": "stream",
     "text": [
      "El producto demoró 5.449857473373413 Sur Valdivia\n",
      "tiempo que lleva corriendo 47.418567939599356 Min\n"
     ]
    },
    {
     "name": "stderr",
     "output_type": "stream",
     "text": [
      "INFO:fbprophet:Disabling daily seasonality. Run prophet with daily_seasonality=True to override this.\n"
     ]
    },
    {
     "name": "stdout",
     "output_type": "stream",
     "text": [
      "El producto demoró 3.0168890953063965 Sur Valdivia\n",
      "tiempo que lleva corriendo 47.46884942452113 Min\n"
     ]
    },
    {
     "name": "stderr",
     "output_type": "stream",
     "text": [
      "INFO:fbprophet:Disabling daily seasonality. Run prophet with daily_seasonality=True to override this.\n"
     ]
    },
    {
     "name": "stdout",
     "output_type": "stream",
     "text": [
      "El producto demoró 4.6902689933776855 Sur Valdivia\n",
      "tiempo que lleva corriendo 47.54702057441076 Min\n",
      "El producto demoró 0.010982275009155273 Sur Valdivia\n",
      "tiempo que lleva corriendo 47.54720361232758 Min\n"
     ]
    },
    {
     "name": "stderr",
     "output_type": "stream",
     "text": [
      "INFO:fbprophet:Disabling daily seasonality. Run prophet with daily_seasonality=True to override this.\n"
     ]
    },
    {
     "name": "stdout",
     "output_type": "stream",
     "text": [
      "El producto demoró 3.5838301181793213 Sur Valdivia\n",
      "tiempo que lleva corriendo 47.60710045099258 Min\n"
     ]
    },
    {
     "name": "stderr",
     "output_type": "stream",
     "text": [
      "INFO:fbprophet:Disabling daily seasonality. Run prophet with daily_seasonality=True to override this.\n"
     ]
    },
    {
     "name": "stdout",
     "output_type": "stream",
     "text": [
      "El producto demoró 5.570631504058838 Sur Valdivia\n",
      "tiempo que lleva corriendo 47.699944309393565 Min\n"
     ]
    },
    {
     "name": "stderr",
     "output_type": "stream",
     "text": [
      "INFO:fbprophet:Disabling daily seasonality. Run prophet with daily_seasonality=True to override this.\n"
     ]
    },
    {
     "name": "stdout",
     "output_type": "stream",
     "text": [
      "El producto demoró 3.7140872478485107 Sur Valdivia\n",
      "tiempo que lleva corriendo 47.76186246474584 Min\n"
     ]
    },
    {
     "name": "stderr",
     "output_type": "stream",
     "text": [
      "INFO:fbprophet:Disabling daily seasonality. Run prophet with daily_seasonality=True to override this.\n"
     ]
    },
    {
     "name": "stdout",
     "output_type": "stream",
     "text": [
      "El producto demoró 3.919201612472534 Sur Valdivia\n",
      "tiempo que lleva corriendo 47.82719930013021 Min\n"
     ]
    },
    {
     "name": "stderr",
     "output_type": "stream",
     "text": [
      "INFO:fbprophet:Disabling daily seasonality. Run prophet with daily_seasonality=True to override this.\n"
     ]
    },
    {
     "name": "stdout",
     "output_type": "stream",
     "text": [
      "El producto demoró 3.4041755199432373 Sur Valdivia\n",
      "tiempo que lleva corriendo 47.8839438756307 Min\n"
     ]
    },
    {
     "name": "stderr",
     "output_type": "stream",
     "text": [
      "INFO:fbprophet:Disabling daily seasonality. Run prophet with daily_seasonality=True to override this.\n"
     ]
    },
    {
     "name": "stdout",
     "output_type": "stream",
     "text": [
      "El producto demoró 3.8024258613586426 Sur Valdivia\n",
      "tiempo que lleva corriendo 47.94731763998667 Min\n"
     ]
    },
    {
     "name": "stderr",
     "output_type": "stream",
     "text": [
      "INFO:fbprophet:Disabling daily seasonality. Run prophet with daily_seasonality=True to override this.\n"
     ]
    },
    {
     "name": "stdout",
     "output_type": "stream",
     "text": [
      "El producto demoró 3.4395787715911865 Sur Valdivia\n",
      "tiempo que lleva corriendo 48.00465225378672 Min\n"
     ]
    },
    {
     "name": "stderr",
     "output_type": "stream",
     "text": [
      "INFO:fbprophet:Disabling daily seasonality. Run prophet with daily_seasonality=True to override this.\n"
     ]
    },
    {
     "name": "stdout",
     "output_type": "stream",
     "text": [
      "El producto demoró 3.6821486949920654 Sur Valdivia\n",
      "tiempo que lleva corriendo 48.06602969964345 Min\n"
     ]
    },
    {
     "name": "stderr",
     "output_type": "stream",
     "text": [
      "INFO:fbprophet:Disabling daily seasonality. Run prophet with daily_seasonality=True to override this.\n"
     ]
    },
    {
     "name": "stdout",
     "output_type": "stream",
     "text": [
      "El producto demoró 6.468463897705078 Sur Valdivia\n",
      "tiempo que lleva corriendo 48.17384576400121 Min\n"
     ]
    },
    {
     "name": "stderr",
     "output_type": "stream",
     "text": [
      "INFO:fbprophet:Disabling daily seasonality. Run prophet with daily_seasonality=True to override this.\n"
     ]
    },
    {
     "name": "stdout",
     "output_type": "stream",
     "text": [
      "El producto demoró 4.803560018539429 Sur Valdivia\n",
      "tiempo que lleva corriendo 48.253922033309934 Min\n"
     ]
    },
    {
     "name": "stderr",
     "output_type": "stream",
     "text": [
      "INFO:fbprophet:Disabling daily seasonality. Run prophet with daily_seasonality=True to override this.\n"
     ]
    },
    {
     "name": "stdout",
     "output_type": "stream",
     "text": [
      "El producto demoró 4.644338607788086 Sur Valdivia\n",
      "tiempo que lleva corriendo 48.33133600552877 Min\n"
     ]
    },
    {
     "name": "stderr",
     "output_type": "stream",
     "text": [
      "INFO:fbprophet:Disabling daily seasonality. Run prophet with daily_seasonality=True to override this.\n"
     ]
    },
    {
     "name": "stdout",
     "output_type": "stream",
     "text": [
      "El producto demoró 4.86394739151001 Sur Valdivia\n",
      "tiempo que lleva corriendo 48.41240179538727 Min\n"
     ]
    },
    {
     "name": "stderr",
     "output_type": "stream",
     "text": [
      "INFO:fbprophet:Disabling daily seasonality. Run prophet with daily_seasonality=True to override this.\n"
     ]
    },
    {
     "name": "stdout",
     "output_type": "stream",
     "text": [
      "El producto demoró 2.949514389038086 Sur Valdivia\n",
      "tiempo que lleva corriendo 48.4615603685379 Min\n"
     ]
    },
    {
     "name": "stderr",
     "output_type": "stream",
     "text": [
      "INFO:fbprophet:Disabling daily seasonality. Run prophet with daily_seasonality=True to override this.\n"
     ]
    },
    {
     "name": "stdout",
     "output_type": "stream",
     "text": [
      "El producto demoró 3.0423409938812256 Sur Valdivia\n",
      "tiempo que lleva corriendo 48.512415726979576 Min\n"
     ]
    },
    {
     "name": "stderr",
     "output_type": "stream",
     "text": [
      "INFO:fbprophet:Disabling daily seasonality. Run prophet with daily_seasonality=True to override this.\n"
     ]
    },
    {
     "name": "stdout",
     "output_type": "stream",
     "text": [
      "El producto demoró 3.0787689685821533 Sur Valdivia\n",
      "tiempo que lleva corriendo 48.563736887772876 Min\n"
     ]
    },
    {
     "name": "stderr",
     "output_type": "stream",
     "text": [
      "INFO:fbprophet:Disabling daily seasonality. Run prophet with daily_seasonality=True to override this.\n"
     ]
    },
    {
     "name": "stdout",
     "output_type": "stream",
     "text": [
      "El producto demoró 3.0059056282043457 Sur Valdivia\n",
      "tiempo que lleva corriendo 48.613835314909615 Min\n",
      "El producto demoró 0.008483648300170898 Sur Valdivia\n",
      "tiempo que lleva corriendo 48.61399335861206 Min\n"
     ]
    },
    {
     "name": "stderr",
     "output_type": "stream",
     "text": [
      "INFO:fbprophet:Disabling daily seasonality. Run prophet with daily_seasonality=True to override this.\n"
     ]
    },
    {
     "name": "stdout",
     "output_type": "stream",
     "text": [
      "El producto demoró 2.847198963165283 Sur Valdivia\n",
      "tiempo que lleva corriendo 48.66145497957866 Min\n"
     ]
    },
    {
     "name": "stderr",
     "output_type": "stream",
     "text": [
      "INFO:fbprophet:Disabling daily seasonality. Run prophet with daily_seasonality=True to override this.\n"
     ]
    },
    {
     "name": "stdout",
     "output_type": "stream",
     "text": [
      "El producto demoró 2.8052828311920166 Sur Valdivia\n",
      "tiempo que lleva corriendo 48.70821801026662 Min\n"
     ]
    },
    {
     "name": "stderr",
     "output_type": "stream",
     "text": [
      "INFO:fbprophet:Disabling daily seasonality. Run prophet with daily_seasonality=True to override this.\n"
     ]
    },
    {
     "name": "stdout",
     "output_type": "stream",
     "text": [
      "El producto demoró 2.900601863861084 Sur Valdivia\n",
      "tiempo que lleva corriendo 48.75657802820206 Min\n",
      "El producto demoró 0.0074841976165771484 Sur Valdivia\n",
      "tiempo que lleva corriendo 48.756711065769196 Min\n",
      "El producto demoró 0.0074880123138427734 Sur Valdivia\n",
      "tiempo que lleva corriendo 48.75686911344528 Min\n"
     ]
    },
    {
     "name": "stderr",
     "output_type": "stream",
     "text": [
      "INFO:fbprophet:Disabling daily seasonality. Run prophet with daily_seasonality=True to override this.\n"
     ]
    },
    {
     "name": "stdout",
     "output_type": "stream",
     "text": [
      "El producto demoró 2.887643575668335 Sur Valdivia\n",
      "tiempo que lleva corriendo 48.80512958367665 Min\n"
     ]
    },
    {
     "name": "stderr",
     "output_type": "stream",
     "text": [
      "INFO:fbprophet:Disabling daily seasonality. Run prophet with daily_seasonality=True to override this.\n"
     ]
    },
    {
     "name": "stdout",
     "output_type": "stream",
     "text": [
      "El producto demoró 2.9944252967834473 Sur Valdivia\n",
      "tiempo que lleva corriendo 48.85505303144455 Min\n"
     ]
    },
    {
     "name": "stderr",
     "output_type": "stream",
     "text": [
      "INFO:fbprophet:Disabling daily seasonality. Run prophet with daily_seasonality=True to override this.\n"
     ]
    },
    {
     "name": "stdout",
     "output_type": "stream",
     "text": [
      "El producto demoró 2.9270572662353516 Sur Valdivia\n",
      "tiempo que lleva corriendo 48.90384563207626 Min\n",
      "El producto demoró 0.013474702835083008 Sur Valdivia\n",
      "tiempo que lleva corriendo 48.90408678452174 Min\n",
      "El producto demoró 0.010480403900146484 Sur Valdivia\n",
      "tiempo que lleva corriendo 48.90426145792007 Min\n"
     ]
    },
    {
     "name": "stderr",
     "output_type": "stream",
     "text": [
      "INFO:fbprophet:Disabling daily seasonality. Run prophet with daily_seasonality=True to override this.\n"
     ]
    },
    {
     "name": "stdout",
     "output_type": "stream",
     "text": [
      "El producto demoró 3.0143909454345703 Sur Valdivia\n",
      "tiempo que lleva corriendo 48.954509627819064 Min\n",
      "El producto demoró 3.0124051570892334 Sur Valdivia\n",
      "tiempo que lleva corriendo 49.004724522431694 Min\n",
      "Norte\n"
     ]
    },
    {
     "name": "stderr",
     "output_type": "stream",
     "text": [
      "INFO:fbprophet:Disabling daily seasonality. Run prophet with daily_seasonality=True to override this.\n"
     ]
    },
    {
     "name": "stdout",
     "output_type": "stream",
     "text": [
      "Antofagasta\n"
     ]
    },
    {
     "name": "stderr",
     "output_type": "stream",
     "text": [
      "INFO:fbprophet:Disabling daily seasonality. Run prophet with daily_seasonality=True to override this.\n"
     ]
    },
    {
     "name": "stdout",
     "output_type": "stream",
     "text": [
      "El producto demoró 2.8337268829345703 Norte Antofagasta\n",
      "tiempo que lleva corriendo 49.05726012786229 Min\n"
     ]
    },
    {
     "name": "stderr",
     "output_type": "stream",
     "text": [
      "INFO:fbprophet:Disabling daily seasonality. Run prophet with daily_seasonality=True to override this.\n"
     ]
    },
    {
     "name": "stdout",
     "output_type": "stream",
     "text": [
      "El producto demoró 3.1087119579315186 Norte Antofagasta\n",
      "tiempo que lleva corriendo 49.10907199382782 Min\n"
     ]
    },
    {
     "name": "stderr",
     "output_type": "stream",
     "text": [
      "INFO:fbprophet:Disabling daily seasonality. Run prophet with daily_seasonality=True to override this.\n"
     ]
    },
    {
     "name": "stdout",
     "output_type": "stream",
     "text": [
      "El producto demoró 5.5940892696380615 Norte Antofagasta\n",
      "tiempo que lleva corriendo 49.202306814988454 Min\n"
     ]
    },
    {
     "name": "stderr",
     "output_type": "stream",
     "text": [
      "INFO:fbprophet:Disabling daily seasonality. Run prophet with daily_seasonality=True to override this.\n"
     ]
    },
    {
     "name": "stdout",
     "output_type": "stream",
     "text": [
      "El producto demoró 3.686643600463867 Norte Antofagasta\n",
      "tiempo que lleva corriendo 49.263767484823866 Min\n"
     ]
    },
    {
     "name": "stderr",
     "output_type": "stream",
     "text": [
      "INFO:fbprophet:Disabling daily seasonality. Run prophet with daily_seasonality=True to override this.\n"
     ]
    },
    {
     "name": "stdout",
     "output_type": "stream",
     "text": [
      "El producto demoró 3.1057169437408447 Norte Antofagasta\n",
      "tiempo que lleva corriendo 49.31552943388621 Min\n"
     ]
    },
    {
     "name": "stderr",
     "output_type": "stream",
     "text": [
      "INFO:fbprophet:Disabling daily seasonality. Run prophet with daily_seasonality=True to override this.\n"
     ]
    },
    {
     "name": "stdout",
     "output_type": "stream",
     "text": [
      "El producto demoró 3.5603749752044678 Norte Antofagasta\n",
      "tiempo que lleva corriendo 49.37487733364105 Min\n"
     ]
    },
    {
     "name": "stderr",
     "output_type": "stream",
     "text": [
      "INFO:fbprophet:Disabling daily seasonality. Run prophet with daily_seasonality=True to override this.\n"
     ]
    },
    {
     "name": "stdout",
     "output_type": "stream",
     "text": [
      "El producto demoró 6.786371231079102 Norte Antofagasta\n",
      "tiempo que lleva corriendo 49.48800015052159 Min\n"
     ]
    },
    {
     "name": "stderr",
     "output_type": "stream",
     "text": [
      "INFO:fbprophet:Disabling daily seasonality. Run prophet with daily_seasonality=True to override this.\n"
     ]
    },
    {
     "name": "stdout",
     "output_type": "stream",
     "text": [
      "El producto demoró 6.611198902130127 Norte Antofagasta\n",
      "tiempo que lleva corriendo 49.598203424612684 Min\n"
     ]
    },
    {
     "name": "stderr",
     "output_type": "stream",
     "text": [
      "INFO:fbprophet:Disabling daily seasonality. Run prophet with daily_seasonality=True to override this.\n"
     ]
    },
    {
     "name": "stdout",
     "output_type": "stream",
     "text": [
      "El producto demoró 6.456982374191284 Norte Antofagasta\n",
      "tiempo que lleva corriendo 49.70583643515905 Min\n"
     ]
    },
    {
     "name": "stderr",
     "output_type": "stream",
     "text": [
      "INFO:fbprophet:Disabling daily seasonality. Run prophet with daily_seasonality=True to override this.\n"
     ]
    },
    {
     "name": "stdout",
     "output_type": "stream",
     "text": [
      "El producto demoró 5.138437509536743 Norte Antofagasta\n",
      "tiempo que lleva corriendo 49.791485369205475 Min\n"
     ]
    },
    {
     "name": "stderr",
     "output_type": "stream",
     "text": [
      "INFO:fbprophet:Disabling daily seasonality. Run prophet with daily_seasonality=True to override this.\n"
     ]
    },
    {
     "name": "stdout",
     "output_type": "stream",
     "text": [
      "El producto demoró 5.793219089508057 Norte Antofagasta\n",
      "tiempo que lleva corriendo 49.88803902069728 Min\n"
     ]
    },
    {
     "name": "stderr",
     "output_type": "stream",
     "text": [
      "INFO:fbprophet:Disabling daily seasonality. Run prophet with daily_seasonality=True to override this.\n"
     ]
    },
    {
     "name": "stdout",
     "output_type": "stream",
     "text": [
      "El producto demoró 4.01802396774292 Norte Antofagasta\n",
      "tiempo que lleva corriendo 49.955022752285004 Min\n"
     ]
    },
    {
     "name": "stderr",
     "output_type": "stream",
     "text": [
      "INFO:fbprophet:Disabling daily seasonality. Run prophet with daily_seasonality=True to override this.\n"
     ]
    },
    {
     "name": "stdout",
     "output_type": "stream",
     "text": [
      "El producto demoró 3.18009877204895 Norte Antofagasta\n",
      "tiempo que lleva corriendo 50.00824064016342 Min\n"
     ]
    },
    {
     "name": "stderr",
     "output_type": "stream",
     "text": [
      "INFO:fbprophet:Disabling daily seasonality. Run prophet with daily_seasonality=True to override this.\n"
     ]
    },
    {
     "name": "stdout",
     "output_type": "stream",
     "text": [
      "El producto demoró 3.5099854469299316 Norte Antofagasta\n",
      "tiempo que lleva corriendo 50.066773160298666 Min\n"
     ]
    },
    {
     "name": "stderr",
     "output_type": "stream",
     "text": [
      "INFO:fbprophet:Disabling daily seasonality. Run prophet with daily_seasonality=True to override this.\n"
     ]
    },
    {
     "name": "stdout",
     "output_type": "stream",
     "text": [
      "El producto demoró 3.9167068004608154 Norte Antofagasta\n",
      "tiempo que lleva corriendo 50.13205993572871 Min\n",
      "El producto demoró 0.00848245620727539 Norte Antofagasta\n",
      "tiempo que lleva corriendo 50.13222628434499 Min\n"
     ]
    },
    {
     "name": "stderr",
     "output_type": "stream",
     "text": [
      "INFO:fbprophet:Disabling daily seasonality. Run prophet with daily_seasonality=True to override this.\n"
     ]
    },
    {
     "name": "stdout",
     "output_type": "stream",
     "text": [
      "El producto demoró 2.933558464050293 Norte Antofagasta\n",
      "tiempo que lleva corriendo 50.181127242247264 Min\n"
     ]
    },
    {
     "name": "stderr",
     "output_type": "stream",
     "text": [
      "INFO:fbprophet:Disabling daily seasonality. Run prophet with daily_seasonality=True to override this.\n"
     ]
    },
    {
     "name": "stdout",
     "output_type": "stream",
     "text": [
      "El producto demoró 5.176849126815796 Norte Antofagasta\n",
      "tiempo que lleva corriendo 50.267408061027524 Min\n"
     ]
    },
    {
     "name": "stderr",
     "output_type": "stream",
     "text": [
      "INFO:fbprophet:Disabling daily seasonality. Run prophet with daily_seasonality=True to override this.\n"
     ]
    },
    {
     "name": "stdout",
     "output_type": "stream",
     "text": [
      "El producto demoró 5.493776321411133 Norte Antofagasta\n",
      "tiempo que lleva corriendo 50.358987613519034 Min\n"
     ]
    },
    {
     "name": "stderr",
     "output_type": "stream",
     "text": [
      "INFO:fbprophet:Disabling daily seasonality. Run prophet with daily_seasonality=True to override this.\n"
     ]
    },
    {
     "name": "stdout",
     "output_type": "stream",
     "text": [
      "El producto demoró 4.611916780471802 Norte Antofagasta\n",
      "tiempo que lleva corriendo 50.43585289319356 Min\n"
     ]
    },
    {
     "name": "stderr",
     "output_type": "stream",
     "text": [
      "INFO:fbprophet:Disabling daily seasonality. Run prophet with daily_seasonality=True to override this.\n"
     ]
    },
    {
     "name": "stdout",
     "output_type": "stream",
     "text": [
      "El producto demoró 6.837778806686401 Norte Antofagasta\n",
      "tiempo que lleva corriendo 50.54982416629791 Min\n"
     ]
    },
    {
     "name": "stderr",
     "output_type": "stream",
     "text": [
      "INFO:fbprophet:Disabling daily seasonality. Run prophet with daily_seasonality=True to override this.\n"
     ]
    },
    {
     "name": "stdout",
     "output_type": "stream",
     "text": [
      "El producto demoró 3.058309555053711 Norte Antofagasta\n",
      "tiempo que lleva corriendo 50.600795992215474 Min\n",
      "El producto demoró 0.008980989456176758 Norte Antofagasta\n",
      "tiempo que lleva corriendo 50.60095400810242 Min\n",
      "El producto demoró 0.006487846374511719 Norte Antofagasta\n",
      "tiempo que lleva corriendo 50.60117857058843 Min\n"
     ]
    },
    {
     "name": "stderr",
     "output_type": "stream",
     "text": [
      "INFO:fbprophet:Disabling daily seasonality. Run prophet with daily_seasonality=True to override this.\n"
     ]
    },
    {
     "name": "stdout",
     "output_type": "stream",
     "text": [
      "El producto demoró 2.8961105346679688 Norte Antofagasta\n",
      "tiempo que lleva corriendo 50.64945538838705 Min\n"
     ]
    },
    {
     "name": "stderr",
     "output_type": "stream",
     "text": [
      "INFO:fbprophet:Disabling daily seasonality. Run prophet with daily_seasonality=True to override this.\n"
     ]
    },
    {
     "name": "stdout",
     "output_type": "stream",
     "text": [
      "El producto demoró 9.715928077697754 Norte Antofagasta\n",
      "tiempo que lleva corriendo 50.811404033501944 Min\n"
     ]
    },
    {
     "name": "stderr",
     "output_type": "stream",
     "text": [
      "INFO:fbprophet:Disabling daily seasonality. Run prophet with daily_seasonality=True to override this.\n"
     ]
    },
    {
     "name": "stdout",
     "output_type": "stream",
     "text": [
      "El producto demoró 3.1436667442321777 Norte Antofagasta\n",
      "tiempo que lleva corriendo 50.863806545734406 Min\n"
     ]
    },
    {
     "name": "stderr",
     "output_type": "stream",
     "text": [
      "INFO:fbprophet:Disabling daily seasonality. Run prophet with daily_seasonality=True to override this.\n"
     ]
    },
    {
     "name": "stdout",
     "output_type": "stream",
     "text": [
      "El producto demoró 5.747801065444946 Norte Antofagasta\n",
      "tiempo que lleva corriendo 50.95961159865062 Min\n",
      "El producto demoró 0.0069887638092041016 Norte Antofagasta\n",
      "tiempo que lleva corriendo 50.959744640191396 Min\n",
      "El producto demoró 0.009482622146606445 Norte Antofagasta\n",
      "tiempo que lleva corriendo 50.95990268389384 Min\n",
      "Arica\n"
     ]
    },
    {
     "name": "stderr",
     "output_type": "stream",
     "text": [
      "INFO:fbprophet:Disabling daily seasonality. Run prophet with daily_seasonality=True to override this.\n"
     ]
    },
    {
     "name": "stdout",
     "output_type": "stream",
     "text": [
      "El producto demoró 2.7344119548797607 Norte Arica\n",
      "tiempo que lleva corriendo 51.005983583132426 Min\n"
     ]
    },
    {
     "name": "stderr",
     "output_type": "stream",
     "text": [
      "INFO:fbprophet:Disabling daily seasonality. Run prophet with daily_seasonality=True to override this.\n"
     ]
    },
    {
     "name": "stdout",
     "output_type": "stream",
     "text": [
      "El producto demoró 3.3108484745025635 Norte Arica\n",
      "tiempo que lleva corriendo 51.06118103265762 Min\n"
     ]
    },
    {
     "name": "stderr",
     "output_type": "stream",
     "text": [
      "INFO:fbprophet:Disabling daily seasonality. Run prophet with daily_seasonality=True to override this.\n"
     ]
    },
    {
     "name": "stdout",
     "output_type": "stream",
     "text": [
      "El producto demoró 3.1296918392181396 Norte Arica\n",
      "tiempo que lleva corriendo 51.11335905392965 Min\n"
     ]
    },
    {
     "name": "stderr",
     "output_type": "stream",
     "text": [
      "INFO:fbprophet:Disabling daily seasonality. Run prophet with daily_seasonality=True to override this.\n"
     ]
    },
    {
     "name": "stdout",
     "output_type": "stream",
     "text": [
      "El producto demoró 3.1591031551361084 Norte Arica\n",
      "tiempo que lleva corriendo 51.16601909001668 Min\n"
     ]
    },
    {
     "name": "stderr",
     "output_type": "stream",
     "text": [
      "INFO:fbprophet:Disabling daily seasonality. Run prophet with daily_seasonality=True to override this.\n"
     ]
    },
    {
     "name": "stdout",
     "output_type": "stream",
     "text": [
      "El producto demoró 2.8641703128814697 Norte Arica\n",
      "tiempo que lleva corriendo 51.21376364628474 Min\n",
      "El producto demoró 0.00898432731628418 Norte Arica\n",
      "tiempo que lleva corriendo 51.21392993132273 Min\n"
     ]
    },
    {
     "name": "stderr",
     "output_type": "stream",
     "text": [
      "INFO:fbprophet:Disabling daily seasonality. Run prophet with daily_seasonality=True to override this.\n"
     ]
    },
    {
     "name": "stdout",
     "output_type": "stream",
     "text": [
      "El producto demoró 4.756150960922241 Norte Arica\n",
      "tiempo que lleva corriendo 51.29319911400477 Min\n"
     ]
    },
    {
     "name": "stderr",
     "output_type": "stream",
     "text": [
      "INFO:fbprophet:Disabling daily seasonality. Run prophet with daily_seasonality=True to override this.\n"
     ]
    },
    {
     "name": "stdout",
     "output_type": "stream",
     "text": [
      "El producto demoró 4.395817041397095 Norte Arica\n",
      "tiempo que lleva corriendo 51.36647937297821 Min\n"
     ]
    },
    {
     "name": "stderr",
     "output_type": "stream",
     "text": [
      "INFO:fbprophet:Disabling daily seasonality. Run prophet with daily_seasonality=True to override this.\n"
     ]
    },
    {
     "name": "stdout",
     "output_type": "stream",
     "text": [
      "El producto demoró 3.1910617351531982 Norte Arica\n",
      "tiempo que lleva corriendo 51.419672040144604 Min\n"
     ]
    },
    {
     "name": "stderr",
     "output_type": "stream",
     "text": [
      "INFO:fbprophet:Disabling daily seasonality. Run prophet with daily_seasonality=True to override this.\n"
     ]
    },
    {
     "name": "stdout",
     "output_type": "stream",
     "text": [
      "El producto demoró 5.074058294296265 Norte Arica\n",
      "tiempo que lleva corriendo 51.504247983296715 Min\n"
     ]
    },
    {
     "name": "stderr",
     "output_type": "stream",
     "text": [
      "INFO:fbprophet:Disabling daily seasonality. Run prophet with daily_seasonality=True to override this.\n"
     ]
    },
    {
     "name": "stdout",
     "output_type": "stream",
     "text": [
      "El producto demoró 4.892894983291626 Norte Arica\n",
      "tiempo que lleva corriendo 51.585796233018236 Min\n"
     ]
    },
    {
     "name": "stderr",
     "output_type": "stream",
     "text": [
      "INFO:fbprophet:Disabling daily seasonality. Run prophet with daily_seasonality=True to override this.\n"
     ]
    },
    {
     "name": "stdout",
     "output_type": "stream",
     "text": [
      "El producto demoró 3.0732803344726562 Norte Arica\n",
      "tiempo que lleva corriendo 51.637034221490225 Min\n"
     ]
    },
    {
     "name": "stderr",
     "output_type": "stream",
     "text": [
      "INFO:fbprophet:Disabling daily seasonality. Run prophet with daily_seasonality=True to override this.\n"
     ]
    },
    {
     "name": "stdout",
     "output_type": "stream",
     "text": [
      "El producto demoró 2.9779582023620605 Norte Arica\n",
      "tiempo que lleva corriendo 51.68678330183029 Min\n"
     ]
    },
    {
     "name": "stderr",
     "output_type": "stream",
     "text": [
      "INFO:fbprophet:Disabling daily seasonality. Run prophet with daily_seasonality=True to override this.\n"
     ]
    },
    {
     "name": "stdout",
     "output_type": "stream",
     "text": [
      "El producto demoró 2.754875659942627 Norte Arica\n",
      "tiempo que lleva corriendo 51.73270621697108 Min\n"
     ]
    },
    {
     "name": "stderr",
     "output_type": "stream",
     "text": [
      "INFO:fbprophet:Disabling daily seasonality. Run prophet with daily_seasonality=True to override this.\n"
     ]
    },
    {
     "name": "stdout",
     "output_type": "stream",
     "text": [
      "El producto demoró 2.858180046081543 Norte Arica\n",
      "tiempo que lleva corriendo 51.78034255107244 Min\n"
     ]
    },
    {
     "name": "stderr",
     "output_type": "stream",
     "text": [
      "INFO:fbprophet:Disabling daily seasonality. Run prophet with daily_seasonality=True to override this.\n"
     ]
    },
    {
     "name": "stdout",
     "output_type": "stream",
     "text": [
      "El producto demoró 3.203037738800049 Norte Arica\n",
      "tiempo que lleva corriendo 51.83372651338577 Min\n"
     ]
    },
    {
     "name": "stderr",
     "output_type": "stream",
     "text": [
      "INFO:fbprophet:Disabling daily seasonality. Run prophet with daily_seasonality=True to override this.\n"
     ]
    },
    {
     "name": "stdout",
     "output_type": "stream",
     "text": [
      "El producto demoró 2.8272392749786377 Norte Arica\n",
      "tiempo que lleva corriendo 51.880863793691 Min\n"
     ]
    },
    {
     "name": "stderr",
     "output_type": "stream",
     "text": [
      "INFO:fbprophet:Disabling daily seasonality. Run prophet with daily_seasonality=True to override this.\n"
     ]
    },
    {
     "name": "stdout",
     "output_type": "stream",
     "text": [
      "El producto demoró 2.643083095550537 Norte Arica\n",
      "tiempo que lleva corriendo 51.924923503398894 Min\n"
     ]
    },
    {
     "name": "stderr",
     "output_type": "stream",
     "text": [
      "INFO:fbprophet:Disabling daily seasonality. Run prophet with daily_seasonality=True to override this.\n"
     ]
    },
    {
     "name": "stdout",
     "output_type": "stream",
     "text": [
      "El producto demoró 2.7813217639923096 Norte Arica\n",
      "tiempo que lleva corriendo 51.9712788661321 Min\n"
     ]
    },
    {
     "name": "stderr",
     "output_type": "stream",
     "text": [
      "INFO:fbprophet:Disabling daily seasonality. Run prophet with daily_seasonality=True to override this.\n"
     ]
    },
    {
     "name": "stdout",
     "output_type": "stream",
     "text": [
      "El producto demoró 2.6091482639312744 Norte Arica\n",
      "tiempo que lleva corriendo 52.01477297941844 Min\n"
     ]
    },
    {
     "name": "stderr",
     "output_type": "stream",
     "text": [
      "INFO:fbprophet:Disabling daily seasonality. Run prophet with daily_seasonality=True to override this.\n"
     ]
    },
    {
     "name": "stdout",
     "output_type": "stream",
     "text": [
      "El producto demoró 2.9470160007476807 Norte Arica\n",
      "tiempo que lleva corriendo 52.0640312631925 Min\n"
     ]
    },
    {
     "name": "stderr",
     "output_type": "stream",
     "text": [
      "INFO:fbprophet:Disabling daily seasonality. Run prophet with daily_seasonality=True to override this.\n"
     ]
    },
    {
     "name": "stdout",
     "output_type": "stream",
     "text": [
      "El producto demoró 2.914074420928955 Norte Arica\n",
      "tiempo que lleva corriendo 52.11260753075282 Min\n"
     ]
    },
    {
     "name": "stderr",
     "output_type": "stream",
     "text": [
      "INFO:fbprophet:Disabling daily seasonality. Run prophet with daily_seasonality=True to override this.\n"
     ]
    },
    {
     "name": "stdout",
     "output_type": "stream",
     "text": [
      "El producto demoró 4.532566547393799 Norte Arica\n",
      "tiempo que lleva corriendo 52.188166944185895 Min\n"
     ]
    },
    {
     "name": "stderr",
     "output_type": "stream",
     "text": [
      "INFO:fbprophet:Disabling daily seasonality. Run prophet with daily_seasonality=True to override this.\n"
     ]
    },
    {
     "name": "stdout",
     "output_type": "stream",
     "text": [
      "El producto demoró 4.381842851638794 Norte Arica\n",
      "tiempo que lleva corriendo 52.261205971241 Min\n"
     ]
    },
    {
     "name": "stderr",
     "output_type": "stream",
     "text": [
      "INFO:fbprophet:Disabling daily seasonality. Run prophet with daily_seasonality=True to override this.\n"
     ]
    },
    {
     "name": "stdout",
     "output_type": "stream",
     "text": [
      "El producto demoró 2.6700332164764404 Norte Arica\n",
      "tiempo que lleva corriendo 52.305714849630995 Min\n"
     ]
    },
    {
     "name": "stderr",
     "output_type": "stream",
     "text": [
      "INFO:fbprophet:Disabling daily seasonality. Run prophet with daily_seasonality=True to override this.\n"
     ]
    },
    {
     "name": "stdout",
     "output_type": "stream",
     "text": [
      "El producto demoró 5.504754543304443 Norte Arica\n",
      "tiempo que lleva corriendo 52.3974690914154 Min\n",
      "El producto demoró 0.008982419967651367 Norte Arica\n",
      "tiempo que lleva corriendo 52.39761879841487 Min\n",
      "El producto demoró 0.008983850479125977 Norte Arica\n",
      "tiempo que lleva corriendo 52.39777683814366 Min\n",
      "El producto demoró 0.007986307144165039 Norte Arica\n",
      "tiempo que lleva corriendo 52.397926557064054 Min\n",
      "Calama\n"
     ]
    },
    {
     "name": "stderr",
     "output_type": "stream",
     "text": [
      "INFO:fbprophet:Disabling daily seasonality. Run prophet with daily_seasonality=True to override this.\n"
     ]
    },
    {
     "name": "stdout",
     "output_type": "stream",
     "text": [
      "El producto demoró 2.8312315940856934 Norte Calama\n",
      "tiempo que lleva corriendo 52.44567104578018 Min\n"
     ]
    },
    {
     "name": "stderr",
     "output_type": "stream",
     "text": [
      "INFO:fbprophet:Disabling daily seasonality. Run prophet with daily_seasonality=True to override this.\n"
     ]
    },
    {
     "name": "stdout",
     "output_type": "stream",
     "text": [
      "El producto demoró 3.3363101482391357 Norte Calama\n",
      "tiempo que lleva corriendo 52.50129284063975 Min\n"
     ]
    },
    {
     "name": "stderr",
     "output_type": "stream",
     "text": [
      "INFO:fbprophet:Disabling daily seasonality. Run prophet with daily_seasonality=True to override this.\n"
     ]
    },
    {
     "name": "stdout",
     "output_type": "stream",
     "text": [
      "El producto demoró 3.228492498397827 Norte Calama\n",
      "tiempo que lleva corriendo 52.55511736869812 Min\n"
     ]
    },
    {
     "name": "stderr",
     "output_type": "stream",
     "text": [
      "INFO:fbprophet:Disabling daily seasonality. Run prophet with daily_seasonality=True to override this.\n"
     ]
    },
    {
     "name": "stdout",
     "output_type": "stream",
     "text": [
      "El producto demoró 2.8831353187561035 Norte Calama\n",
      "tiempo que lleva corriendo 52.60318623781204 Min\n"
     ]
    },
    {
     "name": "stderr",
     "output_type": "stream",
     "text": [
      "INFO:fbprophet:Disabling daily seasonality. Run prophet with daily_seasonality=True to override this.\n"
     ]
    },
    {
     "name": "stdout",
     "output_type": "stream",
     "text": [
      "El producto demoró 3.4256246089935303 Norte Calama\n",
      "tiempo que lleva corriendo 52.66028830210368 Min\n",
      "El producto demoró 0.009983539581298828 Norte Calama\n",
      "tiempo que lleva corriendo 52.66045469443004 Min\n"
     ]
    },
    {
     "name": "stderr",
     "output_type": "stream",
     "text": [
      "INFO:fbprophet:Disabling daily seasonality. Run prophet with daily_seasonality=True to override this.\n"
     ]
    },
    {
     "name": "stdout",
     "output_type": "stream",
     "text": [
      "El producto demoró 4.5295679569244385 Norte Calama\n",
      "tiempo que lleva corriendo 52.735964139302574 Min\n"
     ]
    },
    {
     "name": "stderr",
     "output_type": "stream",
     "text": [
      "INFO:fbprophet:Disabling daily seasonality. Run prophet with daily_seasonality=True to override this.\n"
     ]
    },
    {
     "name": "stdout",
     "output_type": "stream",
     "text": [
      "El producto demoró 4.74666690826416 Norte Calama\n",
      "tiempo que lleva corriendo 52.81507525444031 Min\n"
     ]
    },
    {
     "name": "stderr",
     "output_type": "stream",
     "text": [
      "INFO:fbprophet:Disabling daily seasonality. Run prophet with daily_seasonality=True to override this.\n"
     ]
    },
    {
     "name": "stdout",
     "output_type": "stream",
     "text": [
      "El producto demoró 5.18135929107666 Norte Calama\n",
      "tiempo que lleva corriendo 52.90144784847895 Min\n"
     ]
    },
    {
     "name": "stderr",
     "output_type": "stream",
     "text": [
      "INFO:fbprophet:Disabling daily seasonality. Run prophet with daily_seasonality=True to override this.\n"
     ]
    },
    {
     "name": "stdout",
     "output_type": "stream",
     "text": [
      "El producto demoró 4.229628801345825 Norte Calama\n",
      "tiempo que lleva corriendo 52.97194166183472 Min\n"
     ]
    },
    {
     "name": "stderr",
     "output_type": "stream",
     "text": [
      "INFO:fbprophet:Disabling daily seasonality. Run prophet with daily_seasonality=True to override this.\n"
     ]
    },
    {
     "name": "stdout",
     "output_type": "stream",
     "text": [
      "El producto demoró 5.176867246627808 Norte Calama\n",
      "tiempo que lleva corriendo 53.058239408334096 Min\n"
     ]
    },
    {
     "name": "stderr",
     "output_type": "stream",
     "text": [
      "INFO:fbprophet:Disabling daily seasonality. Run prophet with daily_seasonality=True to override this.\n"
     ]
    },
    {
     "name": "stdout",
     "output_type": "stream",
     "text": [
      "El producto demoró 2.7638580799102783 Norte Calama\n",
      "tiempo que lleva corriendo 53.10431244770686 Min\n",
      "El producto demoró 0.00648808479309082 Norte Calama\n",
      "tiempo que lleva corriendo 53.10453658501307 Min\n"
     ]
    },
    {
     "name": "stderr",
     "output_type": "stream",
     "text": [
      "INFO:fbprophet:Disabling daily seasonality. Run prophet with daily_seasonality=True to override this.\n"
     ]
    },
    {
     "name": "stdout",
     "output_type": "stream",
     "text": [
      "El producto demoró 2.9779598712921143 Norte Calama\n",
      "tiempo que lleva corriendo 53.15417755842209 Min\n",
      "El producto demoró 0.006985902786254883 Norte Calama\n",
      "tiempo que lleva corriendo 53.15430232683818 Min\n",
      "El producto demoró 0.006985902786254883 Norte Calama\n",
      "tiempo que lleva corriendo 53.15446033875148 Min\n"
     ]
    },
    {
     "name": "stderr",
     "output_type": "stream",
     "text": [
      "INFO:fbprophet:Disabling daily seasonality. Run prophet with daily_seasonality=True to override this.\n"
     ]
    },
    {
     "name": "stdout",
     "output_type": "stream",
     "text": [
      "El producto demoró 2.640089511871338 Norte Calama\n",
      "tiempo que lleva corriendo 53.198461830616 Min\n"
     ]
    },
    {
     "name": "stderr",
     "output_type": "stream",
     "text": [
      "INFO:fbprophet:Disabling daily seasonality. Run prophet with daily_seasonality=True to override this.\n"
     ]
    },
    {
     "name": "stdout",
     "output_type": "stream",
     "text": [
      "El producto demoró 2.7433927059173584 Norte Calama\n",
      "tiempo que lleva corriendo 53.244193359216055 Min\n",
      "El producto demoró 0.006987094879150391 Norte Calama\n",
      "tiempo que lleva corriendo 53.244451208909354 Min\n"
     ]
    },
    {
     "name": "stderr",
     "output_type": "stream",
     "text": [
      "INFO:fbprophet:Disabling daily seasonality. Run prophet with daily_seasonality=True to override this.\n"
     ]
    },
    {
     "name": "stdout",
     "output_type": "stream",
     "text": [
      "El producto demoró 2.642083168029785 Norte Calama\n",
      "tiempo que lleva corriendo 53.28850255409876 Min\n"
     ]
    },
    {
     "name": "stderr",
     "output_type": "stream",
     "text": [
      "INFO:fbprophet:Disabling daily seasonality. Run prophet with daily_seasonality=True to override this.\n"
     ]
    },
    {
     "name": "stdout",
     "output_type": "stream",
     "text": [
      "El producto demoró 3.097257137298584 Norte Calama\n",
      "tiempo que lleva corriendo 53.34013979434967 Min\n"
     ]
    },
    {
     "name": "stderr",
     "output_type": "stream",
     "text": [
      "INFO:fbprophet:Disabling daily seasonality. Run prophet with daily_seasonality=True to override this.\n"
     ]
    },
    {
     "name": "stdout",
     "output_type": "stream",
     "text": [
      "El producto demoró 3.265397787094116 Norte Calama\n",
      "tiempo que lleva corriendo 53.39457140763601 Min\n",
      "El producto demoró 0.01546788215637207 Norte Calama\n",
      "tiempo que lleva corriendo 53.394837534427644 Min\n"
     ]
    },
    {
     "name": "stderr",
     "output_type": "stream",
     "text": [
      "INFO:fbprophet:Disabling daily seasonality. Run prophet with daily_seasonality=True to override this.\n"
     ]
    },
    {
     "name": "stdout",
     "output_type": "stream",
     "text": [
      "El producto demoró 3.4670515060424805 Norte Calama\n",
      "tiempo que lleva corriendo 53.45263833999634 Min\n"
     ]
    },
    {
     "name": "stderr",
     "output_type": "stream",
     "text": [
      "INFO:fbprophet:Disabling daily seasonality. Run prophet with daily_seasonality=True to override this.\n"
     ]
    },
    {
     "name": "stdout",
     "output_type": "stream",
     "text": [
      "El producto demoró 4.489642381668091 Norte Calama\n",
      "tiempo que lleva corriendo 53.5274906595548 Min\n"
     ]
    },
    {
     "name": "stderr",
     "output_type": "stream",
     "text": [
      "INFO:fbprophet:Disabling daily seasonality. Run prophet with daily_seasonality=True to override this.\n"
     ]
    },
    {
     "name": "stdout",
     "output_type": "stream",
     "text": [
      "El producto demoró 2.743394613265991 Norte Calama\n",
      "tiempo que lleva corriendo 53.573222211996715 Min\n"
     ]
    },
    {
     "name": "stderr",
     "output_type": "stream",
     "text": [
      "INFO:fbprophet:Disabling daily seasonality. Run prophet with daily_seasonality=True to override this.\n"
     ]
    },
    {
     "name": "stdout",
     "output_type": "stream",
     "text": [
      "El producto demoró 4.745169639587402 Norte Calama\n",
      "tiempo que lleva corriendo 53.65232501427332 Min\n",
      "El producto demoró 0.00998234748840332 Norte Calama\n",
      "tiempo que lleva corriendo 53.65250802834829 Min\n",
      "El producto demoró 0.008981704711914062 Norte Calama\n",
      "tiempo que lleva corriendo 53.65266607999801 Min\n",
      "El producto demoró 0.009481668472290039 Norte Calama\n",
      "tiempo que lleva corriendo 53.65283241669337 Min\n",
      "Iquique\n"
     ]
    },
    {
     "name": "stderr",
     "output_type": "stream",
     "text": [
      "INFO:fbprophet:Disabling daily seasonality. Run prophet with daily_seasonality=True to override this.\n"
     ]
    },
    {
     "name": "stdout",
     "output_type": "stream",
     "text": [
      "El producto demoró 2.9245572090148926 Norte Iquique\n",
      "tiempo que lleva corriendo 53.70210736989975 Min\n"
     ]
    },
    {
     "name": "stderr",
     "output_type": "stream",
     "text": [
      "INFO:fbprophet:Disabling daily seasonality. Run prophet with daily_seasonality=True to override this.\n"
     ]
    },
    {
     "name": "stdout",
     "output_type": "stream",
     "text": [
      "El producto demoró 2.8232638835906982 Norte Iquique\n",
      "tiempo que lleva corriendo 53.74917842547099 Min\n"
     ]
    },
    {
     "name": "stderr",
     "output_type": "stream",
     "text": [
      "INFO:fbprophet:Disabling daily seasonality. Run prophet with daily_seasonality=True to override this.\n"
     ]
    },
    {
     "name": "stdout",
     "output_type": "stream",
     "text": [
      "El producto demoró 4.8125269412994385 Norte Iquique\n",
      "tiempo que lleva corriendo 53.829395492871605 Min\n"
     ]
    },
    {
     "name": "stderr",
     "output_type": "stream",
     "text": [
      "INFO:fbprophet:Disabling daily seasonality. Run prophet with daily_seasonality=True to override this.\n"
     ]
    },
    {
     "name": "stdout",
     "output_type": "stream",
     "text": [
      "El producto demoró 5.753794431686401 Norte Iquique\n",
      "tiempo que lleva corriendo 53.92529206673304 Min\n"
     ]
    },
    {
     "name": "stderr",
     "output_type": "stream",
     "text": [
      "INFO:fbprophet:Disabling daily seasonality. Run prophet with daily_seasonality=True to override this.\n"
     ]
    },
    {
     "name": "stdout",
     "output_type": "stream",
     "text": [
      "El producto demoró 3.054332971572876 Norte Iquique\n",
      "tiempo que lleva corriendo 53.9762059211731 Min\n"
     ]
    },
    {
     "name": "stderr",
     "output_type": "stream",
     "text": [
      "INFO:fbprophet:Disabling daily seasonality. Run prophet with daily_seasonality=True to override this.\n"
     ]
    },
    {
     "name": "stdout",
     "output_type": "stream",
     "text": [
      "El producto demoró 3.4056613445281982 Norte Iquique\n",
      "tiempo que lleva corriendo 54.032975002129874 Min\n"
     ]
    },
    {
     "name": "stderr",
     "output_type": "stream",
     "text": [
      "INFO:fbprophet:Disabling daily seasonality. Run prophet with daily_seasonality=True to override this.\n"
     ]
    },
    {
     "name": "stdout",
     "output_type": "stream",
     "text": [
      "El producto demoró 4.906867027282715 Norte Iquique\n",
      "tiempo que lleva corriendo 54.11477275689443 Min\n"
     ]
    },
    {
     "name": "stderr",
     "output_type": "stream",
     "text": [
      "INFO:fbprophet:Disabling daily seasonality. Run prophet with daily_seasonality=True to override this.\n"
     ]
    },
    {
     "name": "stdout",
     "output_type": "stream",
     "text": [
      "El producto demoró 5.91199803352356 Norte Iquique\n",
      "tiempo que lleva corriendo 54.213314378261565 Min\n"
     ]
    },
    {
     "name": "stderr",
     "output_type": "stream",
     "text": [
      "INFO:fbprophet:Disabling daily seasonality. Run prophet with daily_seasonality=True to override this.\n"
     ]
    },
    {
     "name": "stdout",
     "output_type": "stream",
     "text": [
      "El producto demoró 4.204175710678101 Norte Iquique\n",
      "tiempo que lleva corriendo 54.2833922902743 Min\n"
     ]
    },
    {
     "name": "stderr",
     "output_type": "stream",
     "text": [
      "INFO:fbprophet:Disabling daily seasonality. Run prophet with daily_seasonality=True to override this.\n"
     ]
    },
    {
     "name": "stdout",
     "output_type": "stream",
     "text": [
      "El producto demoró 4.741676092147827 Norte Iquique\n",
      "tiempo que lleva corriendo 54.36242022514343 Min\n"
     ]
    },
    {
     "name": "stderr",
     "output_type": "stream",
     "text": [
      "INFO:fbprophet:Disabling daily seasonality. Run prophet with daily_seasonality=True to override this.\n"
     ]
    },
    {
     "name": "stdout",
     "output_type": "stream",
     "text": [
      "El producto demoró 5.04461145401001 Norte Iquique\n",
      "tiempo que lleva corriendo 54.44651376406352 Min\n"
     ]
    },
    {
     "name": "stderr",
     "output_type": "stream",
     "text": [
      "INFO:fbprophet:Disabling daily seasonality. Run prophet with daily_seasonality=True to override this.\n"
     ]
    },
    {
     "name": "stdout",
     "output_type": "stream",
     "text": [
      "El producto demoró 2.914095878601074 Norte Iquique\n",
      "tiempo que lleva corriendo 54.4953232049942 Min\n",
      "El producto demoró 0.007969141006469727 Norte Iquique\n",
      "tiempo que lleva corriendo 54.4954643090566 Min\n"
     ]
    },
    {
     "name": "stderr",
     "output_type": "stream",
     "text": [
      "INFO:fbprophet:Disabling daily seasonality. Run prophet with daily_seasonality=True to override this.\n"
     ]
    },
    {
     "name": "stdout",
     "output_type": "stream",
     "text": [
      "El producto demoró 2.7923033237457275 Norte Iquique\n",
      "tiempo que lleva corriendo 54.54201101064682 Min\n"
     ]
    },
    {
     "name": "stderr",
     "output_type": "stream",
     "text": [
      "INFO:fbprophet:Disabling daily seasonality. Run prophet with daily_seasonality=True to override this.\n"
     ]
    },
    {
     "name": "stdout",
     "output_type": "stream",
     "text": [
      "El producto demoró 4.958272218704224 Norte Iquique\n",
      "tiempo que lleva corriendo 54.624657201766965 Min\n"
     ]
    },
    {
     "name": "stderr",
     "output_type": "stream",
     "text": [
      "INFO:fbprophet:Disabling daily seasonality. Run prophet with daily_seasonality=True to override this.\n"
     ]
    },
    {
     "name": "stdout",
     "output_type": "stream",
     "text": [
      "El producto demoró 6.132606744766235 Norte Iquique\n",
      "tiempo que lleva corriendo 54.72687531709671 Min\n",
      "El producto demoró 0.009002685546875 Norte Iquique\n",
      "tiempo que lleva corriendo 54.7270336707433 Min\n"
     ]
    },
    {
     "name": "stderr",
     "output_type": "stream",
     "text": [
      "INFO:fbprophet:Disabling daily seasonality. Run prophet with daily_seasonality=True to override this.\n"
     ]
    },
    {
     "name": "stdout",
     "output_type": "stream",
     "text": [
      "El producto demoró 4.919827461242676 Norte Iquique\n",
      "tiempo que lleva corriendo 54.80903910398483 Min\n"
     ]
    },
    {
     "name": "stderr",
     "output_type": "stream",
     "text": [
      "INFO:fbprophet:Disabling daily seasonality. Run prophet with daily_seasonality=True to override this.\n"
     ]
    },
    {
     "name": "stdout",
     "output_type": "stream",
     "text": [
      "El producto demoró 4.69675874710083 Norte Iquique\n",
      "tiempo que lleva corriendo 54.88732673327128 Min\n"
     ]
    },
    {
     "name": "stderr",
     "output_type": "stream",
     "text": [
      "INFO:fbprophet:Disabling daily seasonality. Run prophet with daily_seasonality=True to override this.\n"
     ]
    },
    {
     "name": "stdout",
     "output_type": "stream",
     "text": [
      "El producto demoró 2.62911057472229 Norte Iquique\n",
      "tiempo que lleva corriendo 54.931145242849986 Min\n"
     ]
    },
    {
     "name": "stderr",
     "output_type": "stream",
     "text": [
      "INFO:fbprophet:Disabling daily seasonality. Run prophet with daily_seasonality=True to override this.\n"
     ]
    },
    {
     "name": "stdout",
     "output_type": "stream",
     "text": [
      "El producto demoró 4.9557764530181885 Norte Iquique\n",
      "tiempo que lleva corriendo 55.01374981800715 Min\n",
      "El producto demoró 0.010978937149047852 Norte Iquique\n",
      "tiempo que lleva corriendo 55.014090820153555 Min\n"
     ]
    },
    {
     "name": "stderr",
     "output_type": "stream",
     "text": [
      "INFO:fbprophet:Disabling daily seasonality. Run prophet with daily_seasonality=True to override this.\n"
     ]
    },
    {
     "name": "stdout",
     "output_type": "stream",
     "text": [
      "El producto demoró 3.696620464324951 Norte Iquique\n",
      "tiempo que lleva corriendo 55.07570948600769 Min\n"
     ]
    },
    {
     "name": "stderr",
     "output_type": "stream",
     "text": [
      "INFO:fbprophet:Disabling daily seasonality. Run prophet with daily_seasonality=True to override this.\n"
     ]
    },
    {
     "name": "stdout",
     "output_type": "stream",
     "text": [
      "El producto demoró 2.837219476699829 Norte Iquique\n",
      "tiempo que lleva corriendo 55.12299647728602 Min\n"
     ]
    },
    {
     "name": "stderr",
     "output_type": "stream",
     "text": [
      "INFO:fbprophet:Disabling daily seasonality. Run prophet with daily_seasonality=True to override this.\n"
     ]
    },
    {
     "name": "stdout",
     "output_type": "stream",
     "text": [
      "El producto demoró 2.9040958881378174 Norte Iquique\n",
      "tiempo que lleva corriendo 55.17140639225642 Min\n",
      "Copiapo\n"
     ]
    },
    {
     "name": "stderr",
     "output_type": "stream",
     "text": [
      "INFO:fbprophet:Disabling daily seasonality. Run prophet with daily_seasonality=True to override this.\n"
     ]
    },
    {
     "name": "stdout",
     "output_type": "stream",
     "text": [
      "El producto demoró 2.8576817512512207 Norte Copiapo\n",
      "tiempo que lleva corriendo 55.219566786289214 Min\n"
     ]
    },
    {
     "name": "stderr",
     "output_type": "stream",
     "text": [
      "INFO:fbprophet:Disabling daily seasonality. Run prophet with daily_seasonality=True to override this.\n"
     ]
    },
    {
     "name": "stdout",
     "output_type": "stream",
     "text": [
      "El producto demoró 5.567139387130737 Norte Copiapo\n",
      "tiempo que lleva corriendo 55.31235244274139 Min\n"
     ]
    },
    {
     "name": "stderr",
     "output_type": "stream",
     "text": [
      "INFO:fbprophet:Disabling daily seasonality. Run prophet with daily_seasonality=True to override this.\n"
     ]
    },
    {
     "name": "stdout",
     "output_type": "stream",
     "text": [
      "El producto demoró 2.701472759246826 Norte Copiapo\n",
      "tiempo que lleva corriendo 55.357385297616325 Min\n"
     ]
    },
    {
     "name": "stderr",
     "output_type": "stream",
     "text": [
      "INFO:fbprophet:Disabling daily seasonality. Run prophet with daily_seasonality=True to override this.\n"
     ]
    },
    {
     "name": "stdout",
     "output_type": "stream",
     "text": [
      "El producto demoró 4.5200886726379395 Norte Copiapo\n",
      "tiempo que lleva corriendo 55.43272842566172 Min\n"
     ]
    },
    {
     "name": "stderr",
     "output_type": "stream",
     "text": [
      "INFO:fbprophet:Disabling daily seasonality. Run prophet with daily_seasonality=True to override this.\n"
     ]
    },
    {
     "name": "stdout",
     "output_type": "stream",
     "text": [
      "El producto demoró 4.965259313583374 Norte Copiapo\n",
      "tiempo que lleva corriendo 55.51549106438954 Min\n"
     ]
    },
    {
     "name": "stderr",
     "output_type": "stream",
     "text": [
      "INFO:fbprophet:Disabling daily seasonality. Run prophet with daily_seasonality=True to override this.\n"
     ]
    },
    {
     "name": "stdout",
     "output_type": "stream",
     "text": [
      "El producto demoró 4.818533897399902 Norte Copiapo\n",
      "tiempo que lleva corriendo 55.59583323001861 Min\n"
     ]
    },
    {
     "name": "stderr",
     "output_type": "stream",
     "text": [
      "INFO:fbprophet:Disabling daily seasonality. Run prophet with daily_seasonality=True to override this.\n"
     ]
    },
    {
     "name": "stdout",
     "output_type": "stream",
     "text": [
      "El producto demoró 6.847756385803223 Norte Copiapo\n",
      "tiempo que lleva corriendo 55.709970827897386 Min\n"
     ]
    },
    {
     "name": "stderr",
     "output_type": "stream",
     "text": [
      "INFO:fbprophet:Disabling daily seasonality. Run prophet with daily_seasonality=True to override this.\n"
     ]
    },
    {
     "name": "stdout",
     "output_type": "stream",
     "text": [
      "El producto demoró 3.8952507972717285 Norte Copiapo\n",
      "tiempo que lleva corriendo 55.774891674518585 Min\n"
     ]
    },
    {
     "name": "stderr",
     "output_type": "stream",
     "text": [
      "INFO:fbprophet:Disabling daily seasonality. Run prophet with daily_seasonality=True to override this.\n"
     ]
    },
    {
     "name": "stdout",
     "output_type": "stream",
     "text": [
      "El producto demoró 5.237252712249756 Norte Copiapo\n",
      "tiempo que lleva corriendo 55.862462027867636 Min\n"
     ]
    },
    {
     "name": "stderr",
     "output_type": "stream",
     "text": [
      "INFO:fbprophet:Disabling daily seasonality. Run prophet with daily_seasonality=True to override this.\n"
     ]
    },
    {
     "name": "stdout",
     "output_type": "stream",
     "text": [
      "El producto demoró 3.6132760047912598 Norte Copiapo\n",
      "tiempo que lleva corriendo 55.92268329461415 Min\n"
     ]
    },
    {
     "name": "stderr",
     "output_type": "stream",
     "text": [
      "INFO:fbprophet:Disabling daily seasonality. Run prophet with daily_seasonality=True to override this.\n"
     ]
    },
    {
     "name": "stdout",
     "output_type": "stream",
     "text": [
      "El producto demoró 5.836638689041138 Norte Copiapo\n",
      "tiempo que lleva corriendo 56.019968926906586 Min\n"
     ]
    },
    {
     "name": "stderr",
     "output_type": "stream",
     "text": [
      "INFO:fbprophet:Disabling daily seasonality. Run prophet with daily_seasonality=True to override this.\n"
     ]
    },
    {
     "name": "stdout",
     "output_type": "stream",
     "text": [
      "El producto demoró 3.539431571960449 Norte Copiapo\n",
      "tiempo que lleva corriendo 56.078959453105924 Min\n"
     ]
    },
    {
     "name": "stderr",
     "output_type": "stream",
     "text": [
      "INFO:fbprophet:Disabling daily seasonality. Run prophet with daily_seasonality=True to override this.\n"
     ]
    },
    {
     "name": "stdout",
     "output_type": "stream",
     "text": [
      "El producto demoró 2.976461887359619 Norte Copiapo\n",
      "tiempo que lleva corriendo 56.12858350674311 Min\n"
     ]
    },
    {
     "name": "stderr",
     "output_type": "stream",
     "text": [
      "INFO:fbprophet:Disabling daily seasonality. Run prophet with daily_seasonality=True to override this.\n"
     ]
    },
    {
     "name": "stdout",
     "output_type": "stream",
     "text": [
      "El producto demoró 5.9025139808654785 Norte Copiapo\n",
      "tiempo que lleva corriendo 56.226958739757535 Min\n"
     ]
    },
    {
     "name": "stderr",
     "output_type": "stream",
     "text": [
      "INFO:fbprophet:Disabling daily seasonality. Run prophet with daily_seasonality=True to override this.\n"
     ]
    },
    {
     "name": "stdout",
     "output_type": "stream",
     "text": [
      "El producto demoró 5.878559589385986 Norte Copiapo\n",
      "tiempo que lleva corriendo 56.324951362609866 Min\n"
     ]
    },
    {
     "name": "stderr",
     "output_type": "stream",
     "text": [
      "INFO:fbprophet:Disabling daily seasonality. Run prophet with daily_seasonality=True to override this.\n"
     ]
    },
    {
     "name": "stdout",
     "output_type": "stream",
     "text": [
      "El producto demoró 6.2728271484375 Norte Copiapo\n",
      "tiempo que lleva corriendo 56.42950679858526 Min\n"
     ]
    },
    {
     "name": "stderr",
     "output_type": "stream",
     "text": [
      "INFO:fbprophet:Disabling daily seasonality. Run prophet with daily_seasonality=True to override this.\n"
     ]
    },
    {
     "name": "stdout",
     "output_type": "stream",
     "text": [
      "El producto demoró 7.119251251220703 Norte Copiapo\n",
      "tiempo que lleva corriendo 56.54817760785421 Min\n"
     ]
    },
    {
     "name": "stderr",
     "output_type": "stream",
     "text": [
      "INFO:fbprophet:Disabling daily seasonality. Run prophet with daily_seasonality=True to override this.\n"
     ]
    },
    {
     "name": "stdout",
     "output_type": "stream",
     "text": [
      "El producto demoró 6.6047093868255615 Norte Copiapo\n",
      "tiempo que lleva corriendo 56.658264406522115 Min\n"
     ]
    },
    {
     "name": "stderr",
     "output_type": "stream",
     "text": [
      "INFO:fbprophet:Disabling daily seasonality. Run prophet with daily_seasonality=True to override this.\n"
     ]
    },
    {
     "name": "stdout",
     "output_type": "stream",
     "text": [
      "El producto demoró 3.6581954956054688 Norte Copiapo\n",
      "tiempo que lleva corriendo 56.71924264431 Min\n"
     ]
    },
    {
     "name": "stderr",
     "output_type": "stream",
     "text": [
      "INFO:fbprophet:Disabling daily seasonality. Run prophet with daily_seasonality=True to override this.\n"
     ]
    },
    {
     "name": "stdout",
     "output_type": "stream",
     "text": [
      "El producto demoró 3.2948672771453857 Norte Copiapo\n",
      "tiempo que lleva corriendo 56.774182025591536 Min\n"
     ]
    },
    {
     "name": "stderr",
     "output_type": "stream",
     "text": [
      "INFO:fbprophet:Disabling daily seasonality. Run prophet with daily_seasonality=True to override this.\n"
     ]
    },
    {
     "name": "stdout",
     "output_type": "stream",
     "text": [
      "El producto demoró 2.7034878730773926 Norte Copiapo\n",
      "tiempo que lleva corriendo 56.81936492522558 Min\n"
     ]
    },
    {
     "name": "stderr",
     "output_type": "stream",
     "text": [
      "INFO:fbprophet:Disabling daily seasonality. Run prophet with daily_seasonality=True to override this.\n"
     ]
    },
    {
     "name": "stdout",
     "output_type": "stream",
     "text": [
      "El producto demoró 2.866649627685547 Norte Copiapo\n",
      "tiempo que lleva corriendo 56.86715074777603 Min\n"
     ]
    },
    {
     "name": "stderr",
     "output_type": "stream",
     "text": [
      "INFO:fbprophet:Disabling daily seasonality. Run prophet with daily_seasonality=True to override this.\n"
     ]
    },
    {
     "name": "stdout",
     "output_type": "stream",
     "text": [
      "El producto demoró 2.681509256362915 Norte Copiapo\n",
      "tiempo que lleva corriendo 56.911842568715414 Min\n",
      "El producto demoró 0.00848245620727539 Norte Copiapo\n",
      "tiempo que lleva corriendo 56.91200087865194 Min\n"
     ]
    },
    {
     "name": "stderr",
     "output_type": "stream",
     "text": [
      "INFO:fbprophet:Disabling daily seasonality. Run prophet with daily_seasonality=True to override this.\n"
     ]
    },
    {
     "name": "stdout",
     "output_type": "stream",
     "text": [
      "El producto demoró 2.6685516834259033 Norte Copiapo\n",
      "tiempo que lleva corriendo 56.95649291276932 Min\n"
     ]
    },
    {
     "name": "stderr",
     "output_type": "stream",
     "text": [
      "INFO:fbprophet:Disabling daily seasonality. Run prophet with daily_seasonality=True to override this.\n"
     ]
    },
    {
     "name": "stdout",
     "output_type": "stream",
     "text": [
      "El producto demoró 2.643071413040161 Norte Copiapo\n",
      "tiempo que lleva corriendo 57.00055242776871 Min\n",
      "El producto demoró 2.6430816650390625 Norte Copiapo\n",
      "tiempo que lleva corriendo 57.04461209376653 Min\n",
      "El producto demoró 0.008987188339233398 Norte Copiapo\n",
      "tiempo que lleva corriendo 57.04476188023885 Min\n",
      "El producto demoró 0.01347208023071289 Norte Copiapo\n",
      "tiempo que lleva corriendo 57.04499473174413 Min\n",
      "Venta Directa\n"
     ]
    },
    {
     "name": "stderr",
     "output_type": "stream",
     "text": [
      "INFO:fbprophet:Disabling daily seasonality. Run prophet with daily_seasonality=True to override this.\n"
     ]
    },
    {
     "name": "stdout",
     "output_type": "stream",
     "text": [
      "VD FoodService\n"
     ]
    },
    {
     "name": "stderr",
     "output_type": "stream",
     "text": [
      "INFO:fbprophet:Disabling daily seasonality. Run prophet with daily_seasonality=True to override this.\n"
     ]
    },
    {
     "name": "stdout",
     "output_type": "stream",
     "text": [
      "El producto demoró 4.612915754318237 Venta Directa VD FoodService\n",
      "tiempo que lleva corriendo 57.12681746880214 Min\n",
      "El producto demoró 4.429256916046143 Venta Directa VD FoodService\n",
      "tiempo que lleva corriendo 57.20063841740291 Min\n",
      "El producto demoró 0.009481191635131836 Venta Directa VD FoodService\n",
      "tiempo que lleva corriendo 57.20081309080124 Min\n",
      "tiempo bloque completo 57.20082142750422 Min\n"
     ]
    }
   ],
   "source": [
    "df2 = pd.DataFrame(columns=['ds', 'yhat_lower', 'yhat_upper', 'yhat', 'Material','Oficina de Ventas Unifica', 'Zona de ventas.1'])\n",
    "\n",
    "Listado_de_zonas=data['Zona de ventas.1'].unique()\n",
    "\n",
    "start_time = time()\n",
    "\n",
    "\n",
    "\n",
    "for Z in Listado_de_zonas:\n",
    "#Z='Santiago'\n",
    "    print(Z)\n",
    "    dfz=Df_ubic(data,'Zona de ventas.1',Z)\n",
    "\n",
    "    Listado_de_Sucursales=dfz[dfz['Día natural'] \n",
    "                              >datetime.date(2021, 6, 2)][\n",
    "        'Oficina de Ventas Unifica'].unique()\n",
    "\n",
    "    for y in Listado_de_Sucursales:\n",
    "        #y='Huechuraba'\n",
    "        print(y)\n",
    "        dfy=Df_ubic(dfz,'Oficina de Ventas Unifica',y)\n",
    "        \n",
    "        \n",
    "        Listado_de_Canales=dfy[dfy['Día natural'] \n",
    "                                  >datetime.date(2021, 6, 2)][\n",
    "            'Tipo de cliente'].unique()\n",
    "        \n",
    "        for c in Listado_de_Canales:\n",
    "            dfc=Df_ubic(dfy,'Tipo de cliente',c)\n",
    "\n",
    "            #Crear un listado de los materiales disponibles en la data\n",
    "\n",
    "\n",
    "            Listado_de_Materiales=dfc[dfc['Día natural'] \n",
    "                                  >datetime.date(2021, 6, 2)].Material.unique()     \n",
    "\n",
    "\n",
    "            for m in Listado_de_Materiales:\n",
    "                #m=Listado_de_Materiales[0]\n",
    "                material_time=time()\n",
    "                #print(y,m)\n",
    "\n",
    "\n",
    "                dfm=Df_ubic(dfc,\n",
    "                            'Material',m).groupby('Día natural'\n",
    "                                                     ).sum().reset_index()[['Día natural',y_col]]\n",
    "                if(dfm[\n",
    "                    dfm['Día natural']>datetime.date(2021, 1, 2)\n",
    "                        ].shape[0] >20):\n",
    "\n",
    "                    dfmPred=Predict_sem(dfm,8)[['ds', 'yhat_lower',\n",
    "                                                'yhat_upper', 'yhat']].tail(8)\n",
    "                    #Material\n",
    "                    dfmPred['Material']=[m for i in range(dfmPred.shape[0])]\n",
    "                    #Canal de ventas\n",
    "                    dfmPred['Tipo de cliente']=[c for i in range(dfmPred.shape[0])]\n",
    "\n",
    "                    #Sucursal\n",
    "                    dfmPred['Oficina de Ventas Unifica']=[y for i in range(dfmPred.shape[0])]\n",
    "\n",
    "                    #Zona\n",
    "                    dfmPred['Zona de ventas.1']=[Z for i in range(dfmPred.shape[0])]\n",
    "                    dfmPred=dfmPred.reset_index()\n",
    "                    dfmPred.pop('index')\n",
    "                    df2=pd.concat([df2, dfmPred])\n",
    "                print('El producto demoró',(time() - material_time),Z,y)\n",
    "                print('tiempo que lleva corriendo',(time() - start_time)/60, 'Min')\n",
    "\n",
    "print('tiempo bloque completo',(time() - start_time)/60, 'Min')\n"
   ]
  },
  {
   "cell_type": "code",
   "execution_count": 63,
   "id": "0d4aafd2",
   "metadata": {},
   "outputs": [
    {
     "data": {
      "text/plain": [
       "'Centro Norte'"
      ]
     },
     "execution_count": 63,
     "metadata": {},
     "output_type": "execute_result"
    }
   ],
   "source": [
    "Z"
   ]
  },
  {
   "cell_type": "code",
   "execution_count": 64,
   "id": "36bf4d9a",
   "metadata": {},
   "outputs": [
    {
     "data": {
      "text/plain": [
       "'Hijuelas'"
      ]
     },
     "execution_count": 64,
     "metadata": {},
     "output_type": "execute_result"
    }
   ],
   "source": [
    "y"
   ]
  },
  {
   "cell_type": "code",
   "execution_count": 65,
   "id": "2aa53ce3",
   "metadata": {
    "scrolled": true
   },
   "outputs": [
    {
     "data": {
      "text/plain": [
       "'Industriales'"
      ]
     },
     "execution_count": 65,
     "metadata": {},
     "output_type": "execute_result"
    }
   ],
   "source": [
    "c"
   ]
  },
  {
   "cell_type": "code",
   "execution_count": 66,
   "id": "8a385ec1",
   "metadata": {
    "scrolled": true
   },
   "outputs": [
    {
     "data": {
      "text/plain": [
       "'1020253'"
      ]
     },
     "execution_count": 66,
     "metadata": {},
     "output_type": "execute_result"
    }
   ],
   "source": [
    "m"
   ]
  },
  {
   "cell_type": "code",
   "execution_count": 64,
   "id": "c123d168",
   "metadata": {
    "collapsed": true
   },
   "outputs": [
    {
     "data": {
      "text/html": [
       "<div>\n",
       "<style scoped>\n",
       "    .dataframe tbody tr th:only-of-type {\n",
       "        vertical-align: middle;\n",
       "    }\n",
       "\n",
       "    .dataframe tbody tr th {\n",
       "        vertical-align: top;\n",
       "    }\n",
       "\n",
       "    .dataframe thead th {\n",
       "        text-align: right;\n",
       "    }\n",
       "</style>\n",
       "<table border=\"1\" class=\"dataframe\">\n",
       "  <thead>\n",
       "    <tr style=\"text-align: right;\">\n",
       "      <th></th>\n",
       "      <th>Día natural</th>\n",
       "      <th>Kilos Venta KG</th>\n",
       "    </tr>\n",
       "  </thead>\n",
       "  <tbody>\n",
       "    <tr>\n",
       "      <th>0</th>\n",
       "      <td>2019-03-04</td>\n",
       "      <td>220.0</td>\n",
       "    </tr>\n",
       "    <tr>\n",
       "      <th>1</th>\n",
       "      <td>2019-03-11</td>\n",
       "      <td>220.0</td>\n",
       "    </tr>\n",
       "    <tr>\n",
       "      <th>2</th>\n",
       "      <td>2019-03-12</td>\n",
       "      <td>221.0</td>\n",
       "    </tr>\n",
       "    <tr>\n",
       "      <th>3</th>\n",
       "      <td>2019-03-18</td>\n",
       "      <td>220.0</td>\n",
       "    </tr>\n",
       "    <tr>\n",
       "      <th>4</th>\n",
       "      <td>2019-03-21</td>\n",
       "      <td>220.0</td>\n",
       "    </tr>\n",
       "    <tr>\n",
       "      <th>5</th>\n",
       "      <td>2019-03-27</td>\n",
       "      <td>221.0</td>\n",
       "    </tr>\n",
       "    <tr>\n",
       "      <th>6</th>\n",
       "      <td>2019-04-01</td>\n",
       "      <td>220.0</td>\n",
       "    </tr>\n",
       "    <tr>\n",
       "      <th>7</th>\n",
       "      <td>2019-04-15</td>\n",
       "      <td>220.0</td>\n",
       "    </tr>\n",
       "    <tr>\n",
       "      <th>8</th>\n",
       "      <td>2019-04-22</td>\n",
       "      <td>220.0</td>\n",
       "    </tr>\n",
       "    <tr>\n",
       "      <th>9</th>\n",
       "      <td>2019-04-29</td>\n",
       "      <td>220.0</td>\n",
       "    </tr>\n",
       "    <tr>\n",
       "      <th>10</th>\n",
       "      <td>2019-05-07</td>\n",
       "      <td>2208.0</td>\n",
       "    </tr>\n",
       "    <tr>\n",
       "      <th>11</th>\n",
       "      <td>2019-05-17</td>\n",
       "      <td>2212.0</td>\n",
       "    </tr>\n",
       "    <tr>\n",
       "      <th>12</th>\n",
       "      <td>2019-06-19</td>\n",
       "      <td>880.0</td>\n",
       "    </tr>\n",
       "    <tr>\n",
       "      <th>13</th>\n",
       "      <td>2019-12-20</td>\n",
       "      <td>1101.0</td>\n",
       "    </tr>\n",
       "    <tr>\n",
       "      <th>14</th>\n",
       "      <td>2020-04-27</td>\n",
       "      <td>550.0</td>\n",
       "    </tr>\n",
       "    <tr>\n",
       "      <th>15</th>\n",
       "      <td>2020-05-04</td>\n",
       "      <td>551.0</td>\n",
       "    </tr>\n",
       "    <tr>\n",
       "      <th>16</th>\n",
       "      <td>2020-05-11</td>\n",
       "      <td>662.0</td>\n",
       "    </tr>\n",
       "    <tr>\n",
       "      <th>17</th>\n",
       "      <td>2020-05-18</td>\n",
       "      <td>661.0</td>\n",
       "    </tr>\n",
       "    <tr>\n",
       "      <th>18</th>\n",
       "      <td>2020-05-25</td>\n",
       "      <td>2201.0</td>\n",
       "    </tr>\n",
       "    <tr>\n",
       "      <th>19</th>\n",
       "      <td>2020-06-01</td>\n",
       "      <td>1101.0</td>\n",
       "    </tr>\n",
       "    <tr>\n",
       "      <th>20</th>\n",
       "      <td>2020-06-08</td>\n",
       "      <td>1102.0</td>\n",
       "    </tr>\n",
       "    <tr>\n",
       "      <th>21</th>\n",
       "      <td>2020-06-10</td>\n",
       "      <td>1101.0</td>\n",
       "    </tr>\n",
       "    <tr>\n",
       "      <th>22</th>\n",
       "      <td>2020-06-22</td>\n",
       "      <td>1103.0</td>\n",
       "    </tr>\n",
       "    <tr>\n",
       "      <th>23</th>\n",
       "      <td>2020-06-30</td>\n",
       "      <td>1107.0</td>\n",
       "    </tr>\n",
       "    <tr>\n",
       "      <th>24</th>\n",
       "      <td>2020-07-07</td>\n",
       "      <td>1102.0</td>\n",
       "    </tr>\n",
       "    <tr>\n",
       "      <th>25</th>\n",
       "      <td>2020-07-13</td>\n",
       "      <td>552.0</td>\n",
       "    </tr>\n",
       "    <tr>\n",
       "      <th>26</th>\n",
       "      <td>2020-07-20</td>\n",
       "      <td>442.0</td>\n",
       "    </tr>\n",
       "    <tr>\n",
       "      <th>27</th>\n",
       "      <td>2020-07-22</td>\n",
       "      <td>553.0</td>\n",
       "    </tr>\n",
       "    <tr>\n",
       "      <th>28</th>\n",
       "      <td>2020-07-27</td>\n",
       "      <td>662.0</td>\n",
       "    </tr>\n",
       "    <tr>\n",
       "      <th>29</th>\n",
       "      <td>2020-08-05</td>\n",
       "      <td>661.0</td>\n",
       "    </tr>\n",
       "    <tr>\n",
       "      <th>30</th>\n",
       "      <td>2020-08-10</td>\n",
       "      <td>1102.0</td>\n",
       "    </tr>\n",
       "    <tr>\n",
       "      <th>31</th>\n",
       "      <td>2020-08-13</td>\n",
       "      <td>443.0</td>\n",
       "    </tr>\n",
       "    <tr>\n",
       "      <th>32</th>\n",
       "      <td>2020-08-17</td>\n",
       "      <td>1106.0</td>\n",
       "    </tr>\n",
       "    <tr>\n",
       "      <th>33</th>\n",
       "      <td>2020-08-18</td>\n",
       "      <td>662.0</td>\n",
       "    </tr>\n",
       "    <tr>\n",
       "      <th>34</th>\n",
       "      <td>2020-08-19</td>\n",
       "      <td>666.0</td>\n",
       "    </tr>\n",
       "    <tr>\n",
       "      <th>35</th>\n",
       "      <td>2020-08-20</td>\n",
       "      <td>1102.0</td>\n",
       "    </tr>\n",
       "    <tr>\n",
       "      <th>36</th>\n",
       "      <td>2020-08-26</td>\n",
       "      <td>663.0</td>\n",
       "    </tr>\n",
       "    <tr>\n",
       "      <th>37</th>\n",
       "      <td>2020-08-31</td>\n",
       "      <td>1107.0</td>\n",
       "    </tr>\n",
       "    <tr>\n",
       "      <th>38</th>\n",
       "      <td>2020-09-10</td>\n",
       "      <td>1105.0</td>\n",
       "    </tr>\n",
       "    <tr>\n",
       "      <th>39</th>\n",
       "      <td>2020-09-14</td>\n",
       "      <td>1101.0</td>\n",
       "    </tr>\n",
       "    <tr>\n",
       "      <th>40</th>\n",
       "      <td>2020-09-16</td>\n",
       "      <td>1106.0</td>\n",
       "    </tr>\n",
       "    <tr>\n",
       "      <th>41</th>\n",
       "      <td>2020-09-17</td>\n",
       "      <td>1107.0</td>\n",
       "    </tr>\n",
       "    <tr>\n",
       "      <th>42</th>\n",
       "      <td>2020-09-23</td>\n",
       "      <td>1104.0</td>\n",
       "    </tr>\n",
       "    <tr>\n",
       "      <th>43</th>\n",
       "      <td>2020-09-29</td>\n",
       "      <td>111.0</td>\n",
       "    </tr>\n",
       "    <tr>\n",
       "      <th>44</th>\n",
       "      <td>2020-10-08</td>\n",
       "      <td>1106.0</td>\n",
       "    </tr>\n",
       "    <tr>\n",
       "      <th>45</th>\n",
       "      <td>2020-10-13</td>\n",
       "      <td>1107.0</td>\n",
       "    </tr>\n",
       "    <tr>\n",
       "      <th>46</th>\n",
       "      <td>2020-10-21</td>\n",
       "      <td>1106.0</td>\n",
       "    </tr>\n",
       "    <tr>\n",
       "      <th>47</th>\n",
       "      <td>2020-11-12</td>\n",
       "      <td>665.0</td>\n",
       "    </tr>\n",
       "    <tr>\n",
       "      <th>48</th>\n",
       "      <td>2020-11-18</td>\n",
       "      <td>1107.0</td>\n",
       "    </tr>\n",
       "    <tr>\n",
       "      <th>49</th>\n",
       "      <td>2020-11-26</td>\n",
       "      <td>1106.0</td>\n",
       "    </tr>\n",
       "    <tr>\n",
       "      <th>50</th>\n",
       "      <td>2020-12-03</td>\n",
       "      <td>1107.0</td>\n",
       "    </tr>\n",
       "    <tr>\n",
       "      <th>51</th>\n",
       "      <td>2021-01-14</td>\n",
       "      <td>1107.0</td>\n",
       "    </tr>\n",
       "    <tr>\n",
       "      <th>52</th>\n",
       "      <td>2021-03-02</td>\n",
       "      <td>664.0</td>\n",
       "    </tr>\n",
       "    <tr>\n",
       "      <th>53</th>\n",
       "      <td>2021-06-08</td>\n",
       "      <td>442.0</td>\n",
       "    </tr>\n",
       "  </tbody>\n",
       "</table>\n",
       "</div>"
      ],
      "text/plain": [
       "   Día natural  Kilos Venta KG\n",
       "0   2019-03-04           220.0\n",
       "1   2019-03-11           220.0\n",
       "2   2019-03-12           221.0\n",
       "3   2019-03-18           220.0\n",
       "4   2019-03-21           220.0\n",
       "5   2019-03-27           221.0\n",
       "6   2019-04-01           220.0\n",
       "7   2019-04-15           220.0\n",
       "8   2019-04-22           220.0\n",
       "9   2019-04-29           220.0\n",
       "10  2019-05-07          2208.0\n",
       "11  2019-05-17          2212.0\n",
       "12  2019-06-19           880.0\n",
       "13  2019-12-20          1101.0\n",
       "14  2020-04-27           550.0\n",
       "15  2020-05-04           551.0\n",
       "16  2020-05-11           662.0\n",
       "17  2020-05-18           661.0\n",
       "18  2020-05-25          2201.0\n",
       "19  2020-06-01          1101.0\n",
       "20  2020-06-08          1102.0\n",
       "21  2020-06-10          1101.0\n",
       "22  2020-06-22          1103.0\n",
       "23  2020-06-30          1107.0\n",
       "24  2020-07-07          1102.0\n",
       "25  2020-07-13           552.0\n",
       "26  2020-07-20           442.0\n",
       "27  2020-07-22           553.0\n",
       "28  2020-07-27           662.0\n",
       "29  2020-08-05           661.0\n",
       "30  2020-08-10          1102.0\n",
       "31  2020-08-13           443.0\n",
       "32  2020-08-17          1106.0\n",
       "33  2020-08-18           662.0\n",
       "34  2020-08-19           666.0\n",
       "35  2020-08-20          1102.0\n",
       "36  2020-08-26           663.0\n",
       "37  2020-08-31          1107.0\n",
       "38  2020-09-10          1105.0\n",
       "39  2020-09-14          1101.0\n",
       "40  2020-09-16          1106.0\n",
       "41  2020-09-17          1107.0\n",
       "42  2020-09-23          1104.0\n",
       "43  2020-09-29           111.0\n",
       "44  2020-10-08          1106.0\n",
       "45  2020-10-13          1107.0\n",
       "46  2020-10-21          1106.0\n",
       "47  2020-11-12           665.0\n",
       "48  2020-11-18          1107.0\n",
       "49  2020-11-26          1106.0\n",
       "50  2020-12-03          1107.0\n",
       "51  2021-01-14          1107.0\n",
       "52  2021-03-02           664.0\n",
       "53  2021-06-08           442.0"
      ]
     },
     "execution_count": 64,
     "metadata": {},
     "output_type": "execute_result"
    }
   ],
   "source": [
    "dfm"
   ]
  },
  {
   "cell_type": "code",
   "execution_count": 61,
   "id": "65821ccd",
   "metadata": {},
   "outputs": [],
   "source": [
    "df2.rename(columns = {'ds': 'Día natural', 'yhat': 'Predicción central',\n",
    "                                'yhat_upper': 'Predicción Superior',\n",
    "                                'yhat_lower': 'Predicción Inferior'}, inplace = True)"
   ]
  },
  {
   "cell_type": "markdown",
   "id": "3408ffe2",
   "metadata": {},
   "source": [
    "### CSV SAVE "
   ]
  },
  {
   "cell_type": "code",
   "execution_count": 62,
   "id": "bc103ef0",
   "metadata": {
    "scrolled": true
   },
   "outputs": [
    {
     "name": "stdout",
     "output_type": "stream",
     "text": [
      "2021-06-04\n",
      "2021-06-19\n"
     ]
    }
   ],
   "source": [
    "min_time=df2['Día natural'].min()\n",
    "min_time=str(min_time).split(' ')[0]\n",
    "print(min_time)\n",
    "max_time=df2['Día natural'].max()\n",
    "max_time=str(max_time).split(' ')[0]\n",
    "print(max_time)"
   ]
  },
  {
   "cell_type": "code",
   "execution_count": 63,
   "id": "497ad696",
   "metadata": {},
   "outputs": [],
   "source": [
    "df2.to_csv('Data'+min_time+' Predicción Por CANAL ' +max_time+ 'Zona, Sucursal.csv', index=False)\n"
   ]
  },
  {
   "cell_type": "markdown",
   "id": "66e6ca42",
   "metadata": {},
   "source": [
    "## Iteración Zona"
   ]
  },
  {
   "cell_type": "code",
   "execution_count": null,
   "id": "c4f9913e",
   "metadata": {},
   "outputs": [
    {
     "name": "stdout",
     "output_type": "stream",
     "text": [
      "Santiago\n"
     ]
    },
    {
     "name": "stderr",
     "output_type": "stream",
     "text": [
      "INFO:fbprophet:Disabling daily seasonality. Run prophet with daily_seasonality=True to override this.\n",
      "INFO:fbprophet:Disabling daily seasonality. Run prophet with daily_seasonality=True to override this.\n"
     ]
    },
    {
     "name": "stdout",
     "output_type": "stream",
     "text": [
      "El producto demoró 1.827568769454956 Santiago VD FoodService\n",
      "tiempo que lleva corriendo 0.0332285205523173 Min\n"
     ]
    },
    {
     "name": "stderr",
     "output_type": "stream",
     "text": [
      "INFO:fbprophet:Disabling daily seasonality. Run prophet with daily_seasonality=True to override this.\n"
     ]
    },
    {
     "name": "stdout",
     "output_type": "stream",
     "text": [
      "El producto demoró 1.7835307121276855 Santiago VD FoodService\n",
      "tiempo que lleva corriendo 0.06297905445098877 Min\n"
     ]
    },
    {
     "name": "stderr",
     "output_type": "stream",
     "text": [
      "INFO:fbprophet:Disabling daily seasonality. Run prophet with daily_seasonality=True to override this.\n"
     ]
    },
    {
     "name": "stdout",
     "output_type": "stream",
     "text": [
      "El producto demoró 1.7885348796844482 Santiago VD FoodService\n",
      "tiempo que lleva corriendo 0.09279630978902181 Min\n"
     ]
    },
    {
     "name": "stderr",
     "output_type": "stream",
     "text": [
      "INFO:fbprophet:Disabling daily seasonality. Run prophet with daily_seasonality=True to override this.\n"
     ]
    },
    {
     "name": "stdout",
     "output_type": "stream",
     "text": [
      "El producto demoró 1.8841166496276855 Santiago VD FoodService\n",
      "tiempo que lleva corriendo 0.12423161665598552 Min\n"
     ]
    },
    {
     "name": "stderr",
     "output_type": "stream",
     "text": [
      "INFO:fbprophet:Disabling daily seasonality. Run prophet with daily_seasonality=True to override this.\n"
     ]
    },
    {
     "name": "stdout",
     "output_type": "stream",
     "text": [
      "El producto demoró 2.0182318687438965 Santiago VD FoodService\n",
      "tiempo que lleva corriendo 0.1578938325246175 Min\n"
     ]
    },
    {
     "name": "stderr",
     "output_type": "stream",
     "text": [
      "INFO:fbprophet:Disabling daily seasonality. Run prophet with daily_seasonality=True to override this.\n"
     ]
    },
    {
     "name": "stdout",
     "output_type": "stream",
     "text": [
      "El producto demoró 1.7139708995819092 Santiago VD FoodService\n",
      "tiempo que lleva corriendo 0.18649338086446127 Min\n"
     ]
    },
    {
     "name": "stderr",
     "output_type": "stream",
     "text": [
      "INFO:fbprophet:Disabling daily seasonality. Run prophet with daily_seasonality=True to override this.\n"
     ]
    },
    {
     "name": "stdout",
     "output_type": "stream",
     "text": [
      "El producto demoró 1.8575942516326904 Santiago VD FoodService\n",
      "tiempo que lleva corriendo 0.21746995449066162 Min\n"
     ]
    },
    {
     "name": "stderr",
     "output_type": "stream",
     "text": [
      "INFO:fbprophet:Disabling daily seasonality. Run prophet with daily_seasonality=True to override this.\n"
     ]
    },
    {
     "name": "stdout",
     "output_type": "stream",
     "text": [
      "El producto demoró 1.8120546340942383 Santiago VD FoodService\n",
      "tiempo que lleva corriendo 0.2476958950360616 Min\n"
     ]
    },
    {
     "name": "stderr",
     "output_type": "stream",
     "text": [
      "INFO:fbprophet:Disabling daily seasonality. Run prophet with daily_seasonality=True to override this.\n"
     ]
    },
    {
     "name": "stdout",
     "output_type": "stream",
     "text": [
      "El producto demoró 1.9166452884674072 Santiago VD FoodService\n",
      "tiempo que lleva corriendo 0.2796650052070618 Min\n"
     ]
    },
    {
     "name": "stderr",
     "output_type": "stream",
     "text": [
      "INFO:fbprophet:Disabling daily seasonality. Run prophet with daily_seasonality=True to override this.\n"
     ]
    },
    {
     "name": "stdout",
     "output_type": "stream",
     "text": [
      "El producto demoró 1.768017053604126 Santiago VD FoodService\n",
      "tiempo que lleva corriendo 0.3091569701830546 Min\n"
     ]
    },
    {
     "name": "stderr",
     "output_type": "stream",
     "text": [
      "INFO:fbprophet:Disabling daily seasonality. Run prophet with daily_seasonality=True to override this.\n"
     ]
    },
    {
     "name": "stdout",
     "output_type": "stream",
     "text": [
      "El producto demoró 1.667431354522705 Santiago VD FoodService\n",
      "tiempo que lleva corriendo 0.33695582548777264 Min\n"
     ]
    },
    {
     "name": "stderr",
     "output_type": "stream",
     "text": [
      "INFO:fbprophet:Disabling daily seasonality. Run prophet with daily_seasonality=True to override this.\n"
     ]
    },
    {
     "name": "stdout",
     "output_type": "stream",
     "text": [
      "El producto demoró 1.9086384773254395 Santiago VD FoodService\n",
      "tiempo que lleva corriendo 0.3687748034795125 Min\n"
     ]
    },
    {
     "name": "stderr",
     "output_type": "stream",
     "text": [
      "INFO:fbprophet:Disabling daily seasonality. Run prophet with daily_seasonality=True to override this.\n"
     ]
    },
    {
     "name": "stdout",
     "output_type": "stream",
     "text": [
      "El producto demoró 1.9501736164093018 Santiago VD FoodService\n",
      "tiempo que lleva corriendo 0.40130271514256793 Min\n"
     ]
    },
    {
     "name": "stderr",
     "output_type": "stream",
     "text": [
      "INFO:fbprophet:Disabling daily seasonality. Run prophet with daily_seasonality=True to override this.\n"
     ]
    },
    {
     "name": "stdout",
     "output_type": "stream",
     "text": [
      "El producto demoró 1.665428876876831 Santiago VD FoodService\n",
      "tiempo que lleva corriendo 0.42930173873901367 Min\n"
     ]
    },
    {
     "name": "stderr",
     "output_type": "stream",
     "text": [
      "INFO:fbprophet:Disabling daily seasonality. Run prophet with daily_seasonality=True to override this.\n"
     ]
    },
    {
     "name": "stdout",
     "output_type": "stream",
     "text": [
      "El producto demoró 1.4482431411743164 Santiago VD FoodService\n",
      "tiempo que lleva corriendo 0.45344746907552086 Min\n"
     ]
    },
    {
     "name": "stderr",
     "output_type": "stream",
     "text": [
      "INFO:fbprophet:Disabling daily seasonality. Run prophet with daily_seasonality=True to override this.\n"
     ]
    },
    {
     "name": "stdout",
     "output_type": "stream",
     "text": [
      "El producto demoró 1.6213910579681396 Santiago VD FoodService\n",
      "tiempo que lleva corriendo 0.48047899405161537 Min\n"
     ]
    },
    {
     "name": "stderr",
     "output_type": "stream",
     "text": [
      "INFO:fbprophet:Disabling daily seasonality. Run prophet with daily_seasonality=True to override this.\n"
     ]
    },
    {
     "name": "stdout",
     "output_type": "stream",
     "text": [
      "El producto demoró 1.676438570022583 Santiago VD FoodService\n",
      "tiempo que lleva corriendo 0.5084446509679158 Min\n"
     ]
    },
    {
     "name": "stderr",
     "output_type": "stream",
     "text": [
      "INFO:fbprophet:Disabling daily seasonality. Run prophet with daily_seasonality=True to override this.\n"
     ]
    },
    {
     "name": "stdout",
     "output_type": "stream",
     "text": [
      "El producto demoró 1.8015458583831787 Santiago VD FoodService\n",
      "tiempo que lleva corriendo 0.5384954412778219 Min\n"
     ]
    },
    {
     "name": "stderr",
     "output_type": "stream",
     "text": [
      "INFO:fbprophet:Disabling daily seasonality. Run prophet with daily_seasonality=True to override this.\n"
     ]
    },
    {
     "name": "stdout",
     "output_type": "stream",
     "text": [
      "El producto demoró 1.7259809970855713 Santiago VD FoodService\n",
      "tiempo que lleva corriendo 0.5672784725824992 Min\n"
     ]
    },
    {
     "name": "stderr",
     "output_type": "stream",
     "text": [
      "INFO:fbprophet:Disabling daily seasonality. Run prophet with daily_seasonality=True to override this.\n"
     ]
    },
    {
     "name": "stdout",
     "output_type": "stream",
     "text": [
      "El producto demoró 2.0177314281463623 Santiago VD FoodService\n",
      "tiempo que lleva corriendo 0.6009323596954346 Min\n"
     ]
    },
    {
     "name": "stderr",
     "output_type": "stream",
     "text": [
      "INFO:fbprophet:Disabling daily seasonality. Run prophet with daily_seasonality=True to override this.\n"
     ]
    },
    {
     "name": "stdout",
     "output_type": "stream",
     "text": [
      "El producto demoró 1.6694331169128418 Santiago VD FoodService\n",
      "tiempo que lleva corriendo 0.6287895997365316 Min\n"
     ]
    },
    {
     "name": "stderr",
     "output_type": "stream",
     "text": [
      "INFO:fbprophet:Disabling daily seasonality. Run prophet with daily_seasonality=True to override this.\n"
     ]
    },
    {
     "name": "stdout",
     "output_type": "stream",
     "text": [
      "El producto demoró 1.9211485385894775 Santiago VD FoodService\n",
      "tiempo que lleva corriendo 0.660833764076233 Min\n"
     ]
    },
    {
     "name": "stderr",
     "output_type": "stream",
     "text": [
      "INFO:fbprophet:Disabling daily seasonality. Run prophet with daily_seasonality=True to override this.\n"
     ]
    },
    {
     "name": "stdout",
     "output_type": "stream",
     "text": [
      "El producto demoró 1.6899499893188477 Santiago VD FoodService\n",
      "tiempo que lleva corriendo 0.6890246152877808 Min\n"
     ]
    },
    {
     "name": "stderr",
     "output_type": "stream",
     "text": [
      "INFO:fbprophet:Disabling daily seasonality. Run prophet with daily_seasonality=True to override this.\n"
     ]
    },
    {
     "name": "stdout",
     "output_type": "stream",
     "text": [
      "El producto demoró 1.2976133823394775 Santiago VD FoodService\n",
      "tiempo que lleva corriendo 0.7106765468915304 Min\n"
     ]
    },
    {
     "name": "stderr",
     "output_type": "stream",
     "text": [
      "INFO:fbprophet:Disabling daily seasonality. Run prophet with daily_seasonality=True to override this.\n"
     ]
    },
    {
     "name": "stdout",
     "output_type": "stream",
     "text": [
      "El producto demoró 1.6844453811645508 Santiago VD FoodService\n",
      "tiempo que lleva corriendo 0.7387756546338399 Min\n"
     ]
    },
    {
     "name": "stderr",
     "output_type": "stream",
     "text": [
      "INFO:fbprophet:Disabling daily seasonality. Run prophet with daily_seasonality=True to override this.\n"
     ]
    },
    {
     "name": "stdout",
     "output_type": "stream",
     "text": [
      "El producto demoró 1.8610973358154297 Santiago VD FoodService\n",
      "tiempo que lleva corriendo 0.7698189496994019 Min\n"
     ]
    },
    {
     "name": "stderr",
     "output_type": "stream",
     "text": [
      "INFO:fbprophet:Disabling daily seasonality. Run prophet with daily_seasonality=True to override this.\n"
     ]
    },
    {
     "name": "stdout",
     "output_type": "stream",
     "text": [
      "El producto demoró 1.7209773063659668 Santiago VD FoodService\n",
      "tiempo que lleva corriendo 0.7987270911534627 Min\n"
     ]
    },
    {
     "name": "stderr",
     "output_type": "stream",
     "text": [
      "INFO:fbprophet:Disabling daily seasonality. Run prophet with daily_seasonality=True to override this.\n"
     ]
    },
    {
     "name": "stdout",
     "output_type": "stream",
     "text": [
      "El producto demoró 2.9310154914855957 Santiago VD FoodService\n",
      "tiempo que lleva corriendo 0.847602375348409 Min\n"
     ]
    },
    {
     "name": "stderr",
     "output_type": "stream",
     "text": [
      "INFO:fbprophet:Disabling daily seasonality. Run prophet with daily_seasonality=True to override this.\n"
     ]
    },
    {
     "name": "stdout",
     "output_type": "stream",
     "text": [
      "El producto demoró 1.3992009162902832 Santiago VD FoodService\n",
      "tiempo que lleva corriendo 0.8709474166234334 Min\n"
     ]
    },
    {
     "name": "stderr",
     "output_type": "stream",
     "text": [
      "INFO:fbprophet:Disabling daily seasonality. Run prophet with daily_seasonality=True to override this.\n"
     ]
    },
    {
     "name": "stdout",
     "output_type": "stream",
     "text": [
      "El producto demoró 1.430227279663086 Santiago VD FoodService\n",
      "tiempo que lleva corriendo 0.8948012034098307 Min\n"
     ]
    },
    {
     "name": "stderr",
     "output_type": "stream",
     "text": [
      "INFO:fbprophet:Disabling daily seasonality. Run prophet with daily_seasonality=True to override this.\n"
     ]
    },
    {
     "name": "stdout",
     "output_type": "stream",
     "text": [
      "El producto demoró 1.6008734703063965 Santiago VD FoodService\n",
      "tiempo que lleva corriendo 0.921507453918457 Min\n"
     ]
    },
    {
     "name": "stderr",
     "output_type": "stream",
     "text": [
      "INFO:fbprophet:Disabling daily seasonality. Run prophet with daily_seasonality=True to override this.\n"
     ]
    },
    {
     "name": "stdout",
     "output_type": "stream",
     "text": [
      "El producto demoró 1.6564218997955322 Santiago VD FoodService\n",
      "tiempo que lleva corriendo 0.9491394996643067 Min\n"
     ]
    },
    {
     "name": "stderr",
     "output_type": "stream",
     "text": [
      "INFO:fbprophet:Disabling daily seasonality. Run prophet with daily_seasonality=True to override this.\n"
     ]
    },
    {
     "name": "stdout",
     "output_type": "stream",
     "text": [
      "El producto demoró 1.345154047012329 Santiago VD FoodService\n",
      "tiempo que lleva corriendo 0.9715754270553589 Min\n"
     ]
    },
    {
     "name": "stderr",
     "output_type": "stream",
     "text": [
      "INFO:fbprophet:Disabling daily seasonality. Run prophet with daily_seasonality=True to override this.\n"
     ]
    },
    {
     "name": "stdout",
     "output_type": "stream",
     "text": [
      "El producto demoró 1.8455841541290283 Santiago VD FoodService\n",
      "tiempo que lleva corriendo 1.002360173066457 Min\n"
     ]
    },
    {
     "name": "stderr",
     "output_type": "stream",
     "text": [
      "INFO:fbprophet:Disabling daily seasonality. Run prophet with daily_seasonality=True to override this.\n"
     ]
    },
    {
     "name": "stdout",
     "output_type": "stream",
     "text": [
      "El producto demoró 1.779526948928833 Santiago VD FoodService\n",
      "tiempo que lleva corriendo 1.032043977578481 Min\n"
     ]
    },
    {
     "name": "stderr",
     "output_type": "stream",
     "text": [
      "INFO:fbprophet:Disabling daily seasonality. Run prophet with daily_seasonality=True to override this.\n"
     ]
    },
    {
     "name": "stdout",
     "output_type": "stream",
     "text": [
      "El producto demoró 1.873107671737671 Santiago VD FoodService\n",
      "tiempo que lleva corriendo 1.0632874528566996 Min\n"
     ]
    },
    {
     "name": "stderr",
     "output_type": "stream",
     "text": [
      "INFO:fbprophet:Disabling daily seasonality. Run prophet with daily_seasonality=True to override this.\n"
     ]
    },
    {
     "name": "stdout",
     "output_type": "stream",
     "text": [
      "El producto demoró 1.4672589302062988 Santiago VD FoodService\n",
      "tiempo que lleva corriendo 1.0877667943636575 Min\n"
     ]
    },
    {
     "name": "stderr",
     "output_type": "stream",
     "text": [
      "INFO:fbprophet:Disabling daily seasonality. Run prophet with daily_seasonality=True to override this.\n"
     ]
    },
    {
     "name": "stdout",
     "output_type": "stream",
     "text": [
      "El producto demoró 1.6669306755065918 Santiago VD FoodService\n",
      "tiempo que lleva corriendo 1.1155739982922872 Min\n"
     ]
    },
    {
     "name": "stderr",
     "output_type": "stream",
     "text": [
      "INFO:fbprophet:Disabling daily seasonality. Run prophet with daily_seasonality=True to override this.\n"
     ]
    },
    {
     "name": "stdout",
     "output_type": "stream",
     "text": [
      "El producto demoró 1.5658433437347412 Santiago VD FoodService\n",
      "tiempo que lleva corriendo 1.1416797280311584 Min\n"
     ]
    },
    {
     "name": "stderr",
     "output_type": "stream",
     "text": [
      "INFO:fbprophet:Disabling daily seasonality. Run prophet with daily_seasonality=True to override this.\n",
      "INFO:fbprophet:n_changepoints greater than number of observations. Using 7.\n"
     ]
    },
    {
     "name": "stdout",
     "output_type": "stream",
     "text": [
      "El producto demoró 1.9671878814697266 Santiago VD FoodService\n",
      "tiempo que lleva corriendo 1.1746663808822633 Min\n"
     ]
    },
    {
     "name": "stderr",
     "output_type": "stream",
     "text": [
      "INFO:fbprophet:Disabling daily seasonality. Run prophet with daily_seasonality=True to override this.\n",
      "INFO:fbprophet:n_changepoints greater than number of observations. Using 11.\n"
     ]
    },
    {
     "name": "stdout",
     "output_type": "stream",
     "text": [
      "El producto demoró 12.154429912567139 Santiago VD FoodService\n",
      "tiempo que lleva corriendo 1.3772568861643473 Min\n"
     ]
    },
    {
     "name": "stderr",
     "output_type": "stream",
     "text": [
      "INFO:fbprophet:Disabling daily seasonality. Run prophet with daily_seasonality=True to override this.\n"
     ]
    },
    {
     "name": "stdout",
     "output_type": "stream",
     "text": [
      "El producto demoró 29.266114711761475 Santiago VD FoodService\n",
      "tiempo que lleva corriendo 1.8650421539942423 Min\n"
     ]
    },
    {
     "name": "stderr",
     "output_type": "stream",
     "text": [
      "INFO:fbprophet:Disabling daily seasonality. Run prophet with daily_seasonality=True to override this.\n",
      "INFO:fbprophet:n_changepoints greater than number of observations. Using 23.\n"
     ]
    },
    {
     "name": "stdout",
     "output_type": "stream",
     "text": [
      "El producto demoró 2.015730142593384 Santiago VD FoodService\n",
      "tiempo que lleva corriendo 1.898654321829478 Min\n"
     ]
    },
    {
     "name": "stderr",
     "output_type": "stream",
     "text": [
      "INFO:fbprophet:Disabling daily seasonality. Run prophet with daily_seasonality=True to override this.\n",
      "INFO:fbprophet:n_changepoints greater than number of observations. Using 21.\n"
     ]
    },
    {
     "name": "stdout",
     "output_type": "stream",
     "text": [
      "El producto demoró 1.7344884872436523 Santiago VD FoodService\n",
      "tiempo que lleva corriendo 1.927579140663147 Min\n"
     ]
    },
    {
     "name": "stderr",
     "output_type": "stream",
     "text": [
      "INFO:fbprophet:Disabling daily seasonality. Run prophet with daily_seasonality=True to override this.\n"
     ]
    },
    {
     "name": "stdout",
     "output_type": "stream",
     "text": [
      "El producto demoró 1.519303798675537 Santiago VD FoodService\n",
      "tiempo que lleva corriendo 1.9529258926709494 Min\n",
      "El producto demoró 1.3366477489471436 Santiago VD FoodService\n",
      "tiempo que lleva corriendo 1.975220020612081 Min\n",
      "Centro Norte\n"
     ]
    },
    {
     "name": "stderr",
     "output_type": "stream",
     "text": [
      "INFO:fbprophet:Disabling daily seasonality. Run prophet with daily_seasonality=True to override this.\n",
      "INFO:fbprophet:Disabling daily seasonality. Run prophet with daily_seasonality=True to override this.\n"
     ]
    },
    {
     "name": "stdout",
     "output_type": "stream",
     "text": [
      "El producto demoró 1.856593370437622 Centro Norte VD FoodService\n",
      "tiempo que lleva corriendo 2.009307607014974 Min\n"
     ]
    },
    {
     "name": "stderr",
     "output_type": "stream",
     "text": [
      "INFO:fbprophet:Disabling daily seasonality. Run prophet with daily_seasonality=True to override this.\n"
     ]
    },
    {
     "name": "stdout",
     "output_type": "stream",
     "text": [
      "El producto demoró 1.5107965469360352 Centro Norte VD FoodService\n",
      "tiempo que lleva corriendo 2.034504234790802 Min\n"
     ]
    },
    {
     "name": "stderr",
     "output_type": "stream",
     "text": [
      "INFO:fbprophet:Disabling daily seasonality. Run prophet with daily_seasonality=True to override this.\n"
     ]
    },
    {
     "name": "stdout",
     "output_type": "stream",
     "text": [
      "El producto demoró 1.916144609451294 Centro Norte VD FoodService\n",
      "tiempo que lleva corriendo 2.066456655661265 Min\n"
     ]
    },
    {
     "name": "stderr",
     "output_type": "stream",
     "text": [
      "INFO:fbprophet:Disabling daily seasonality. Run prophet with daily_seasonality=True to override this.\n"
     ]
    },
    {
     "name": "stdout",
     "output_type": "stream",
     "text": [
      "El producto demoró 1.6899499893188477 Centro Norte VD FoodService\n",
      "tiempo que lleva corriendo 2.094647510846456 Min\n"
     ]
    },
    {
     "name": "stderr",
     "output_type": "stream",
     "text": [
      "INFO:fbprophet:Disabling daily seasonality. Run prophet with daily_seasonality=True to override this.\n"
     ]
    },
    {
     "name": "stdout",
     "output_type": "stream",
     "text": [
      "El producto demoró 1.6744375228881836 Centro Norte VD FoodService\n",
      "tiempo que lleva corriendo 2.122579820950826 Min\n"
     ]
    },
    {
     "name": "stderr",
     "output_type": "stream",
     "text": [
      "INFO:fbprophet:Disabling daily seasonality. Run prophet with daily_seasonality=True to override this.\n"
     ]
    },
    {
     "name": "stdout",
     "output_type": "stream",
     "text": [
      "El producto demoró 1.6669306755065918 Centro Norte VD FoodService\n",
      "tiempo que lleva corriendo 2.150378668308258 Min\n"
     ]
    },
    {
     "name": "stderr",
     "output_type": "stream",
     "text": [
      "INFO:fbprophet:Disabling daily seasonality. Run prophet with daily_seasonality=True to override this.\n"
     ]
    },
    {
     "name": "stdout",
     "output_type": "stream",
     "text": [
      "El producto demoró 1.7565076351165771 Centro Norte VD FoodService\n",
      "tiempo que lleva corriendo 2.1796621322631835 Min\n"
     ]
    },
    {
     "name": "stderr",
     "output_type": "stream",
     "text": [
      "INFO:fbprophet:Disabling daily seasonality. Run prophet with daily_seasonality=True to override this.\n"
     ]
    },
    {
     "name": "stdout",
     "output_type": "stream",
     "text": [
      "El producto demoró 1.7294833660125732 Centro Norte VD FoodService\n",
      "tiempo que lleva corriendo 2.2085118969281514 Min\n"
     ]
    },
    {
     "name": "stderr",
     "output_type": "stream",
     "text": [
      "INFO:fbprophet:Disabling daily seasonality. Run prophet with daily_seasonality=True to override this.\n"
     ]
    },
    {
     "name": "stdout",
     "output_type": "stream",
     "text": [
      "El producto demoró 1.784031629562378 Centro Norte VD FoodService\n",
      "tiempo que lleva corriendo 2.2382707635561627 Min\n"
     ]
    },
    {
     "name": "stderr",
     "output_type": "stream",
     "text": [
      "INFO:fbprophet:Disabling daily seasonality. Run prophet with daily_seasonality=True to override this.\n"
     ]
    },
    {
     "name": "stdout",
     "output_type": "stream",
     "text": [
      "El producto demoró 1.8005456924438477 Centro Norte VD FoodService\n",
      "tiempo que lleva corriendo 2.2683048645655313 Min\n"
     ]
    },
    {
     "name": "stderr",
     "output_type": "stream",
     "text": [
      "INFO:fbprophet:Disabling daily seasonality. Run prophet with daily_seasonality=True to override this.\n"
     ]
    },
    {
     "name": "stdout",
     "output_type": "stream",
     "text": [
      "El producto demoró 1.5918662548065186 Centro Norte VD FoodService\n",
      "tiempo que lleva corriendo 2.29485266606013 Min\n"
     ]
    },
    {
     "name": "stderr",
     "output_type": "stream",
     "text": [
      "INFO:fbprophet:Disabling daily seasonality. Run prophet with daily_seasonality=True to override this.\n"
     ]
    },
    {
     "name": "stdout",
     "output_type": "stream",
     "text": [
      "El producto demoró 1.8891215324401855 Centro Norte VD FoodService\n",
      "tiempo que lleva corriendo 2.3263630191485087 Min\n"
     ]
    },
    {
     "name": "stderr",
     "output_type": "stream",
     "text": [
      "INFO:fbprophet:Disabling daily seasonality. Run prophet with daily_seasonality=True to override this.\n"
     ]
    },
    {
     "name": "stdout",
     "output_type": "stream",
     "text": [
      "El producto demoró 1.939664363861084 Centro Norte VD FoodService\n",
      "tiempo que lleva corriendo 2.3587074518203734 Min\n"
     ]
    },
    {
     "name": "stderr",
     "output_type": "stream",
     "text": [
      "INFO:fbprophet:Disabling daily seasonality. Run prophet with daily_seasonality=True to override this.\n"
     ]
    },
    {
     "name": "stdout",
     "output_type": "stream",
     "text": [
      "El producto demoró 1.4032044410705566 Centro Norte VD FoodService\n",
      "tiempo que lleva corriendo 2.3824695110321046 Min\n"
     ]
    },
    {
     "name": "stderr",
     "output_type": "stream",
     "text": [
      "INFO:fbprophet:Disabling daily seasonality. Run prophet with daily_seasonality=True to override this.\n"
     ]
    },
    {
     "name": "stdout",
     "output_type": "stream",
     "text": [
      "El producto demoró 1.8615972995758057 Centro Norte VD FoodService\n",
      "tiempo que lleva corriendo 2.4135128100713095 Min\n"
     ]
    },
    {
     "name": "stderr",
     "output_type": "stream",
     "text": [
      "INFO:fbprophet:Disabling daily seasonality. Run prophet with daily_seasonality=True to override this.\n"
     ]
    },
    {
     "name": "stdout",
     "output_type": "stream",
     "text": [
      "El producto demoró 1.8440821170806885 Centro Norte VD FoodService\n",
      "tiempo que lleva corriendo 2.444272538026174 Min\n"
     ]
    },
    {
     "name": "stderr",
     "output_type": "stream",
     "text": [
      "INFO:fbprophet:Disabling daily seasonality. Run prophet with daily_seasonality=True to override this.\n"
     ]
    },
    {
     "name": "stdout",
     "output_type": "stream",
     "text": [
      "El producto demoró 1.7750234603881836 Centro Norte VD FoodService\n",
      "tiempo que lleva corriendo 2.4738812843958535 Min\n"
     ]
    },
    {
     "name": "stderr",
     "output_type": "stream",
     "text": [
      "INFO:fbprophet:Disabling daily seasonality. Run prophet with daily_seasonality=True to override this.\n"
     ]
    },
    {
     "name": "stdout",
     "output_type": "stream",
     "text": [
      "El producto demoró 1.8926234245300293 Centro Norte VD FoodService\n",
      "tiempo que lleva corriendo 2.5054500420888264 Min\n"
     ]
    },
    {
     "name": "stderr",
     "output_type": "stream",
     "text": [
      "INFO:fbprophet:Disabling daily seasonality. Run prophet with daily_seasonality=True to override this.\n"
     ]
    },
    {
     "name": "stdout",
     "output_type": "stream",
     "text": [
      "El producto demoró 1.534316062927246 Centro Norte VD FoodService\n",
      "tiempo que lleva corriendo 2.531047002474467 Min\n"
     ]
    },
    {
     "name": "stderr",
     "output_type": "stream",
     "text": [
      "INFO:fbprophet:Disabling daily seasonality. Run prophet with daily_seasonality=True to override this.\n"
     ]
    },
    {
     "name": "stdout",
     "output_type": "stream",
     "text": [
      "El producto demoró 1.6469132900238037 Centro Norte VD FoodService\n",
      "tiempo que lleva corriendo 2.5585205793380736 Min\n"
     ]
    },
    {
     "name": "stderr",
     "output_type": "stream",
     "text": [
      "INFO:fbprophet:Disabling daily seasonality. Run prophet with daily_seasonality=True to override this.\n"
     ]
    },
    {
     "name": "stdout",
     "output_type": "stream",
     "text": [
      "El producto demoró 1.6058778762817383 Centro Norte VD FoodService\n",
      "tiempo que lleva corriendo 2.5852935473124186 Min\n"
     ]
    },
    {
     "name": "stderr",
     "output_type": "stream",
     "text": [
      "INFO:fbprophet:Disabling daily seasonality. Run prophet with daily_seasonality=True to override this.\n"
     ]
    },
    {
     "name": "stdout",
     "output_type": "stream",
     "text": [
      "El producto demoró 3.534533739089966 Centro Norte VD FoodService\n",
      "tiempo que lleva corriendo 2.6442191203435264 Min\n"
     ]
    },
    {
     "name": "stderr",
     "output_type": "stream",
     "text": [
      "INFO:fbprophet:Disabling daily seasonality. Run prophet with daily_seasonality=True to override this.\n"
     ]
    },
    {
     "name": "stdout",
     "output_type": "stream",
     "text": [
      "El producto demoró 2.070777416229248 Centro Norte VD FoodService\n",
      "tiempo que lleva corriendo 2.6787570913632712 Min\n"
     ]
    },
    {
     "name": "stderr",
     "output_type": "stream",
     "text": [
      "INFO:fbprophet:Disabling daily seasonality. Run prophet with daily_seasonality=True to override this.\n"
     ]
    },
    {
     "name": "stdout",
     "output_type": "stream",
     "text": [
      "El producto demoró 4.841154098510742 Centro Norte VD FoodService\n",
      "tiempo que lleva corriendo 2.759459674358368 Min\n"
     ]
    },
    {
     "name": "stderr",
     "output_type": "stream",
     "text": [
      "INFO:fbprophet:Disabling daily seasonality. Run prophet with daily_seasonality=True to override this.\n"
     ]
    },
    {
     "name": "stdout",
     "output_type": "stream",
     "text": [
      "El producto demoró 2.08528995513916 Centro Norte VD FoodService\n",
      "tiempo que lleva corriendo 2.7942311922709147 Min\n"
     ]
    },
    {
     "name": "stderr",
     "output_type": "stream",
     "text": [
      "INFO:fbprophet:Disabling daily seasonality. Run prophet with daily_seasonality=True to override this.\n"
     ]
    },
    {
     "name": "stdout",
     "output_type": "stream",
     "text": [
      "El producto demoró 1.9061353206634521 Centro Norte VD FoodService\n",
      "tiempo que lleva corriendo 2.826025140285492 Min\n"
     ]
    },
    {
     "name": "stderr",
     "output_type": "stream",
     "text": [
      "INFO:fbprophet:Disabling daily seasonality. Run prophet with daily_seasonality=True to override this.\n"
     ]
    },
    {
     "name": "stdout",
     "output_type": "stream",
     "text": [
      "El producto demoró 1.684946060180664 Centro Norte VD FoodService\n",
      "tiempo que lleva corriendo 2.8544912417729695 Min\n"
     ]
    },
    {
     "name": "stderr",
     "output_type": "stream",
     "text": [
      "INFO:fbprophet:Disabling daily seasonality. Run prophet with daily_seasonality=True to override this.\n"
     ]
    },
    {
     "name": "stdout",
     "output_type": "stream",
     "text": [
      "El producto demoró 3.2017478942871094 Centro Norte VD FoodService\n",
      "tiempo que lleva corriendo 2.907870372136434 Min\n"
     ]
    },
    {
     "name": "stderr",
     "output_type": "stream",
     "text": [
      "INFO:fbprophet:Disabling daily seasonality. Run prophet with daily_seasonality=True to override this.\n"
     ]
    },
    {
     "name": "stdout",
     "output_type": "stream",
     "text": [
      "El producto demoró 1.6814429759979248 Centro Norte VD FoodService\n",
      "tiempo que lleva corriendo 2.9359110991160073 Min\n"
     ]
    },
    {
     "name": "stderr",
     "output_type": "stream",
     "text": [
      "INFO:fbprophet:Disabling daily seasonality. Run prophet with daily_seasonality=True to override this.\n"
     ]
    },
    {
     "name": "stdout",
     "output_type": "stream",
     "text": [
      "El producto demoró 1.5933678150177002 Centro Norte VD FoodService\n",
      "tiempo que lleva corriendo 2.962492243448893 Min\n"
     ]
    },
    {
     "name": "stderr",
     "output_type": "stream",
     "text": [
      "INFO:fbprophet:Disabling daily seasonality. Run prophet with daily_seasonality=True to override this.\n"
     ]
    },
    {
     "name": "stdout",
     "output_type": "stream",
     "text": [
      "El producto demoró 2.006221294403076 Centro Norte VD FoodService\n",
      "tiempo que lleva corriendo 2.9959542949994407 Min\n"
     ]
    },
    {
     "name": "stderr",
     "output_type": "stream",
     "text": [
      "INFO:fbprophet:Disabling daily seasonality. Run prophet with daily_seasonality=True to override this.\n"
     ]
    },
    {
     "name": "stdout",
     "output_type": "stream",
     "text": [
      "El producto demoró 1.5778541564941406 Centro Norte VD FoodService\n",
      "tiempo que lleva corriendo 3.0222768863042195 Min\n"
     ]
    },
    {
     "name": "stderr",
     "output_type": "stream",
     "text": [
      "INFO:fbprophet:Disabling daily seasonality. Run prophet with daily_seasonality=True to override this.\n"
     ]
    },
    {
     "name": "stdout",
     "output_type": "stream",
     "text": [
      "El producto demoró 1.4182169437408447 Centro Norte VD FoodService\n",
      "tiempo que lleva corriendo 3.0459221760431925 Min\n"
     ]
    },
    {
     "name": "stderr",
     "output_type": "stream",
     "text": [
      "INFO:fbprophet:Disabling daily seasonality. Run prophet with daily_seasonality=True to override this.\n"
     ]
    },
    {
     "name": "stdout",
     "output_type": "stream",
     "text": [
      "El producto demoró 1.544325828552246 Centro Norte VD FoodService\n",
      "tiempo que lleva corriendo 3.07168595790863 Min\n"
     ]
    },
    {
     "name": "stderr",
     "output_type": "stream",
     "text": [
      "INFO:fbprophet:Disabling daily seasonality. Run prophet with daily_seasonality=True to override this.\n"
     ]
    },
    {
     "name": "stdout",
     "output_type": "stream",
     "text": [
      "El producto demoró 1.776524305343628 Centro Norte VD FoodService\n",
      "tiempo que lleva corriendo 3.1013113697369894 Min\n"
     ]
    },
    {
     "name": "stderr",
     "output_type": "stream",
     "text": [
      "INFO:fbprophet:Disabling daily seasonality. Run prophet with daily_seasonality=True to override this.\n"
     ]
    },
    {
     "name": "stdout",
     "output_type": "stream",
     "text": [
      "El producto demoró 1.873608112335205 Centro Norte VD FoodService\n",
      "tiempo que lleva corriendo 3.1325465122858684 Min\n"
     ]
    },
    {
     "name": "stderr",
     "output_type": "stream",
     "text": [
      "INFO:fbprophet:Disabling daily seasonality. Run prophet with daily_seasonality=True to override this.\n"
     ]
    },
    {
     "name": "stdout",
     "output_type": "stream",
     "text": [
      "El producto demoró 1.853590726852417 Centro Norte VD FoodService\n",
      "tiempo que lleva corriendo 3.1634647130966185 Min\n"
     ]
    },
    {
     "name": "stderr",
     "output_type": "stream",
     "text": [
      "INFO:fbprophet:Disabling daily seasonality. Run prophet with daily_seasonality=True to override this.\n"
     ]
    },
    {
     "name": "stdout",
     "output_type": "stream",
     "text": [
      "El producto demoró 1.730485200881958 Centro Norte VD FoodService\n",
      "tiempo que lleva corriendo 3.1923311432202657 Min\n"
     ]
    },
    {
     "name": "stderr",
     "output_type": "stream",
     "text": [
      "INFO:fbprophet:Disabling daily seasonality. Run prophet with daily_seasonality=True to override this.\n"
     ]
    },
    {
     "name": "stdout",
     "output_type": "stream",
     "text": [
      "El producto demoró 1.7580089569091797 Centro Norte VD FoodService\n",
      "tiempo que lleva corriendo 3.2216479659080504 Min\n"
     ]
    },
    {
     "name": "stderr",
     "output_type": "stream",
     "text": [
      "INFO:fbprophet:Disabling daily seasonality. Run prophet with daily_seasonality=True to override this.\n"
     ]
    },
    {
     "name": "stdout",
     "output_type": "stream",
     "text": [
      "El producto demoró 3.28682017326355 Centro Norte VD FoodService\n",
      "tiempo que lleva corriendo 3.2767202337582906 Min\n"
     ]
    },
    {
     "name": "stderr",
     "output_type": "stream",
     "text": [
      "INFO:fbprophet:Disabling daily seasonality. Run prophet with daily_seasonality=True to override this.\n",
      "INFO:fbprophet:n_changepoints greater than number of observations. Using 15.\n"
     ]
    },
    {
     "name": "stdout",
     "output_type": "stream",
     "text": [
      "El producto demoró 2.0472567081451416 Centro Norte VD FoodService\n",
      "tiempo que lleva corriendo 3.3108578602472942 Min\n"
     ]
    },
    {
     "name": "stderr",
     "output_type": "stream",
     "text": [
      "INFO:fbprophet:Disabling daily seasonality. Run prophet with daily_seasonality=True to override this.\n"
     ]
    },
    {
     "name": "stdout",
     "output_type": "stream",
     "text": [
      "El producto demoró 40.65338706970215 Centro Norte VD FoodService\n",
      "tiempo que lleva corriendo 3.9884393135706584 Min\n"
     ]
    },
    {
     "name": "stderr",
     "output_type": "stream",
     "text": [
      "INFO:fbprophet:Disabling daily seasonality. Run prophet with daily_seasonality=True to override this.\n"
     ]
    },
    {
     "name": "stdout",
     "output_type": "stream",
     "text": [
      "El producto demoró 1.464256763458252 Centro Norte VD FoodService\n",
      "tiempo que lleva corriendo 4.012868622938792 Min\n"
     ]
    },
    {
     "name": "stderr",
     "output_type": "stream",
     "text": [
      "INFO:fbprophet:Disabling daily seasonality. Run prophet with daily_seasonality=True to override this.\n",
      "INFO:fbprophet:n_changepoints greater than number of observations. Using 23.\n"
     ]
    },
    {
     "name": "stdout",
     "output_type": "stream",
     "text": [
      "El producto demoró 1.3166298866271973 Centro Norte VD FoodService\n",
      "tiempo que lleva corriendo 4.034837472438812 Min\n"
     ]
    },
    {
     "name": "stderr",
     "output_type": "stream",
     "text": [
      "INFO:fbprophet:Disabling daily seasonality. Run prophet with daily_seasonality=True to override this.\n"
     ]
    },
    {
     "name": "stdout",
     "output_type": "stream",
     "text": [
      "El producto demoró 2.0847887992858887 Centro Norte VD FoodService\n",
      "tiempo que lleva corriendo 4.069608970483144 Min\n"
     ]
    },
    {
     "name": "stderr",
     "output_type": "stream",
     "text": [
      "INFO:fbprophet:Disabling daily seasonality. Run prophet with daily_seasonality=True to override this.\n"
     ]
    },
    {
     "name": "stdout",
     "output_type": "stream",
     "text": [
      "El producto demoró 2.485633373260498 Centro Norte VD FoodService\n",
      "tiempo que lleva corriendo 4.111052870750427 Min\n"
     ]
    },
    {
     "name": "stderr",
     "output_type": "stream",
     "text": [
      "INFO:fbprophet:Disabling daily seasonality. Run prophet with daily_seasonality=True to override this.\n"
     ]
    },
    {
     "name": "stdout",
     "output_type": "stream",
     "text": [
      "El producto demoró 1.3846886157989502 Centro Norte VD FoodService\n",
      "tiempo que lleva corriendo 4.134147687753042 Min\n"
     ]
    },
    {
     "name": "stderr",
     "output_type": "stream",
     "text": [
      "INFO:fbprophet:Disabling daily seasonality. Run prophet with daily_seasonality=True to override this.\n"
     ]
    },
    {
     "name": "stdout",
     "output_type": "stream",
     "text": [
      "El producto demoró 1.525808572769165 Centro Norte VD FoodService\n",
      "tiempo que lleva corriendo 4.159586191177368 Min\n"
     ]
    },
    {
     "name": "stderr",
     "output_type": "stream",
     "text": [
      "INFO:fbprophet:Disabling daily seasonality. Run prophet with daily_seasonality=True to override this.\n"
     ]
    },
    {
     "name": "stdout",
     "output_type": "stream",
     "text": [
      "El producto demoró 1.3096239566802979 Centro Norte VD FoodService\n",
      "tiempo que lleva corriendo 4.18142158985138 Min\n"
     ]
    },
    {
     "name": "stderr",
     "output_type": "stream",
     "text": [
      "INFO:fbprophet:Disabling daily seasonality. Run prophet with daily_seasonality=True to override this.\n"
     ]
    },
    {
     "name": "stdout",
     "output_type": "stream",
     "text": [
      "El producto demoró 1.432729959487915 Centro Norte VD FoodService\n",
      "tiempo que lleva corriendo 4.205317103862763 Min\n",
      "El producto demoró 1.2800984382629395 Centro Norte VD FoodService\n",
      "tiempo que lleva corriendo 4.22666875521342 Min\n",
      "Centro Sur\n"
     ]
    },
    {
     "name": "stderr",
     "output_type": "stream",
     "text": [
      "INFO:fbprophet:Disabling daily seasonality. Run prophet with daily_seasonality=True to override this.\n",
      "INFO:fbprophet:Disabling daily seasonality. Run prophet with daily_seasonality=True to override this.\n"
     ]
    },
    {
     "name": "stdout",
     "output_type": "stream",
     "text": [
      "El producto demoró 1.7434964179992676 Centro Sur VD FoodService\n",
      "tiempo que lleva corriendo 4.258854707082112 Min\n"
     ]
    },
    {
     "name": "stderr",
     "output_type": "stream",
     "text": [
      "INFO:fbprophet:Disabling daily seasonality. Run prophet with daily_seasonality=True to override this.\n"
     ]
    },
    {
     "name": "stdout",
     "output_type": "stream",
     "text": [
      "El producto demoró 1.659423828125 Centro Sur VD FoodService\n",
      "tiempo que lleva corriendo 4.2865368008613585 Min\n"
     ]
    },
    {
     "name": "stderr",
     "output_type": "stream",
     "text": [
      "INFO:fbprophet:Disabling daily seasonality. Run prophet with daily_seasonality=True to override this.\n"
     ]
    },
    {
     "name": "stdout",
     "output_type": "stream",
     "text": [
      "El producto demoró 1.7865331172943115 Centro Sur VD FoodService\n",
      "tiempo que lleva corriendo 4.316320689519246 Min\n"
     ]
    },
    {
     "name": "stderr",
     "output_type": "stream",
     "text": [
      "INFO:fbprophet:Disabling daily seasonality. Run prophet with daily_seasonality=True to override this.\n"
     ]
    },
    {
     "name": "stdout",
     "output_type": "stream",
     "text": [
      "El producto demoró 1.7239792346954346 Centro Sur VD FoodService\n",
      "tiempo que lleva corriendo 4.345078694820404 Min\n"
     ]
    },
    {
     "name": "stderr",
     "output_type": "stream",
     "text": [
      "INFO:fbprophet:Disabling daily seasonality. Run prophet with daily_seasonality=True to override this.\n"
     ]
    },
    {
     "name": "stdout",
     "output_type": "stream",
     "text": [
      "El producto demoró 1.9176456928253174 Centro Sur VD FoodService\n",
      "tiempo que lleva corriendo 4.37706447839737 Min\n"
     ]
    },
    {
     "name": "stderr",
     "output_type": "stream",
     "text": [
      "INFO:fbprophet:Disabling daily seasonality. Run prophet with daily_seasonality=True to override this.\n"
     ]
    },
    {
     "name": "stdout",
     "output_type": "stream",
     "text": [
      "El producto demoró 1.8485867977142334 Centro Sur VD FoodService\n",
      "tiempo que lleva corriendo 4.407890931765238 Min\n"
     ]
    },
    {
     "name": "stderr",
     "output_type": "stream",
     "text": [
      "INFO:fbprophet:Disabling daily seasonality. Run prophet with daily_seasonality=True to override this.\n"
     ]
    },
    {
     "name": "stdout",
     "output_type": "stream",
     "text": [
      "El producto demoró 1.7820289134979248 Centro Sur VD FoodService\n",
      "tiempo que lleva corriendo 4.437616443634033 Min\n"
     ]
    },
    {
     "name": "stderr",
     "output_type": "stream",
     "text": [
      "INFO:fbprophet:Disabling daily seasonality. Run prophet with daily_seasonality=True to override this.\n"
     ]
    },
    {
     "name": "stdout",
     "output_type": "stream",
     "text": [
      "El producto demoró 1.8040482997894287 Centro Sur VD FoodService\n",
      "tiempo que lleva corriendo 4.467708933353424 Min\n"
     ]
    },
    {
     "name": "stderr",
     "output_type": "stream",
     "text": [
      "INFO:fbprophet:Disabling daily seasonality. Run prophet with daily_seasonality=True to override this.\n"
     ]
    },
    {
     "name": "stdout",
     "output_type": "stream",
     "text": [
      "El producto demoró 1.7720208168029785 Centro Sur VD FoodService\n",
      "tiempo que lleva corriendo 4.497259291013082 Min\n"
     ]
    },
    {
     "name": "stderr",
     "output_type": "stream",
     "text": [
      "INFO:fbprophet:Disabling daily seasonality. Run prophet with daily_seasonality=True to override this.\n"
     ]
    },
    {
     "name": "stdout",
     "output_type": "stream",
     "text": [
      "El producto demoró 2.0157296657562256 Centro Sur VD FoodService\n",
      "tiempo que lleva corriendo 4.530879819393158 Min\n"
     ]
    },
    {
     "name": "stderr",
     "output_type": "stream",
     "text": [
      "INFO:fbprophet:Disabling daily seasonality. Run prophet with daily_seasonality=True to override this.\n"
     ]
    },
    {
     "name": "stdout",
     "output_type": "stream",
     "text": [
      "El producto demoró 1.6989576816558838 Centro Sur VD FoodService\n",
      "tiempo que lleva corriendo 4.559204117457072 Min\n"
     ]
    },
    {
     "name": "stderr",
     "output_type": "stream",
     "text": [
      "INFO:fbprophet:Disabling daily seasonality. Run prophet with daily_seasonality=True to override this.\n"
     ]
    },
    {
     "name": "stdout",
     "output_type": "stream",
     "text": [
      "El producto demoró 1.653918981552124 Centro Sur VD FoodService\n",
      "tiempo que lleva corriendo 4.586794459819794 Min\n"
     ]
    },
    {
     "name": "stderr",
     "output_type": "stream",
     "text": [
      "INFO:fbprophet:Disabling daily seasonality. Run prophet with daily_seasonality=True to override this.\n"
     ]
    },
    {
     "name": "stdout",
     "output_type": "stream",
     "text": [
      "El producto demoró 1.9016315937042236 Centro Sur VD FoodService\n",
      "tiempo que lleva corriendo 4.618513341744741 Min\n"
     ]
    },
    {
     "name": "stderr",
     "output_type": "stream",
     "text": [
      "INFO:fbprophet:Disabling daily seasonality. Run prophet with daily_seasonality=True to override this.\n"
     ]
    },
    {
     "name": "stdout",
     "output_type": "stream",
     "text": [
      "El producto demoró 1.4667584896087646 Centro Sur VD FoodService\n",
      "tiempo que lleva corriendo 4.643401372432709 Min\n"
     ]
    },
    {
     "name": "stderr",
     "output_type": "stream",
     "text": [
      "INFO:fbprophet:Disabling daily seasonality. Run prophet with daily_seasonality=True to override this.\n"
     ]
    },
    {
     "name": "stdout",
     "output_type": "stream",
     "text": [
      "El producto demoró 1.6469132900238037 Centro Sur VD FoodService\n",
      "tiempo que lleva corriendo 4.670866612593333 Min\n"
     ]
    },
    {
     "name": "stderr",
     "output_type": "stream",
     "text": [
      "INFO:fbprophet:Disabling daily seasonality. Run prophet with daily_seasonality=True to override this.\n"
     ]
    },
    {
     "name": "stdout",
     "output_type": "stream",
     "text": [
      "El producto demoró 1.613884687423706 Centro Sur VD FoodService\n",
      "tiempo que lleva corriendo 4.697789716720581 Min\n"
     ]
    },
    {
     "name": "stderr",
     "output_type": "stream",
     "text": [
      "INFO:fbprophet:Disabling daily seasonality. Run prophet with daily_seasonality=True to override this.\n"
     ]
    },
    {
     "name": "stdout",
     "output_type": "stream",
     "text": [
      "El producto demoró 1.805548906326294 Centro Sur VD FoodService\n",
      "tiempo que lleva corriendo 4.727898891766866 Min\n"
     ]
    }
   ],
   "source": [
    "df2 = pd.DataFrame(columns=['ds', 'yhat_lower', 'yhat_upper', 'yhat', 'Material','Oficina de Ventas Unifica', 'Zona de ventas.1'])\n",
    "\n",
    "Listado_de_zonas=data['Zona de ventas.1'].unique()\n",
    "\n",
    "start_time = time()\n",
    "\n",
    "\n",
    "\n",
    "for Z in Listado_de_zonas:\n",
    "#Z='Santiago'\n",
    "    print(Z)\n",
    "    dfz=Df_ubic(data,'Zona de ventas.1',Z)\n",
    "\n",
    "    Listado_de_Canales=dfz[dfz['Día natural'] \n",
    "                              >datetime.date(2021, 6, 2)][\n",
    "        'Tipo de cliente'].unique()\n",
    "    \n",
    "    \n",
    "    for c in Listado_de_Canales:\n",
    "        dfc=Df_ubic(dfz,'Tipo de cliente',c)\n",
    "\n",
    "        #Crear un listado de los materiales disponibles en la data\n",
    "        Listado_de_Materiales=dfc[dfc.Año==2021].Material.unique()     \n",
    "\n",
    "\n",
    "        for m in Listado_de_Materiales:\n",
    "            #m=Listado_de_Materiales[0]\n",
    "            material_time=time()\n",
    "            #print(y,m)\n",
    "\n",
    "\n",
    "            dfm=Df_ubic(dfc,\n",
    "                        'Material',m).groupby('Día natural'\n",
    "                                                 ).sum().reset_index()[['Día natural',y_col]]\n",
    "\n",
    "            dfmPred=Predict_sem(dfm,8)[['ds', 'yhat_lower',\n",
    "                                        'yhat_upper', 'yhat']].tail(8)\n",
    "            #Material\n",
    "            dfmPred['Material']=[m for i in range(dfmPred.shape[0])]\n",
    "            #Canal de ventas\n",
    "            dfmPred['Tipo de cliente']=[c for i in range(dfmPred.shape[0])]\n",
    "\n",
    "            #Sucursal\n",
    "            #dfmPred['Oficina de Ventas Unifica']=[y for i in range(dfmPred.shape[0])]\n",
    "            \n",
    "            #Zona\n",
    "            dfmPred['Zona de ventas.1']=[Z for i in range(dfmPred.shape[0])]\n",
    "            \n",
    "            dfmPred=dfmPred.reset_index()\n",
    "            dfmPred.pop('index')\n",
    "            df2=pd.concat([df2, dfmPred])\n",
    "            print('El producto demoró',(time() - material_time),Z,y)\n",
    "            print('tiempo que lleva corriendo',(time() - start_time)/60, 'Min')\n",
    "\n",
    "print('tiempo bloque completo',(time() - start_time)/60, 'Min')\n"
   ]
  },
  {
   "cell_type": "markdown",
   "id": "7428bb51",
   "metadata": {},
   "source": [
    "### CSV SAVE "
   ]
  },
  {
   "cell_type": "code",
   "execution_count": 57,
   "id": "3e0ca6c8",
   "metadata": {},
   "outputs": [],
   "source": [
    "df2.rename(columns = {'ds': 'Día natural', 'yhat': 'Predicción central',\n",
    "                                'yhat_upper': 'Predicción Superior',\n",
    "                                'yhat_lower': 'Predicción Inferior'}, inplace = True)"
   ]
  },
  {
   "cell_type": "code",
   "execution_count": 58,
   "id": "a909d0d8",
   "metadata": {
    "scrolled": true
   },
   "outputs": [
    {
     "name": "stdout",
     "output_type": "stream",
     "text": [
      "2021-02-14\n",
      "2021-06-19\n"
     ]
    }
   ],
   "source": [
    "min_time=df2['Día natural'].min()\n",
    "min_time=str(min_time).split(' ')[0]\n",
    "print(min_time)\n",
    "max_time=df2['Día natural'].max()\n",
    "max_time=str(max_time).split(' ')[0]\n",
    "print(max_time)"
   ]
  },
  {
   "cell_type": "code",
   "execution_count": 59,
   "id": "ac64d2be",
   "metadata": {},
   "outputs": [],
   "source": [
    "df2.to_csv('Data'+min_time+' Predicción Por CANAL ' +max_time+ 'Zona.csv', index=False)\n"
   ]
  },
  {
   "cell_type": "markdown",
   "id": "64bfc3a5",
   "metadata": {
    "heading_collapsed": true
   },
   "source": [
    "# DEmanda"
   ]
  },
  {
   "cell_type": "code",
   "execution_count": null,
   "id": "64562f87",
   "metadata": {
    "hidden": true
   },
   "outputs": [],
   "source": []
  },
  {
   "cell_type": "code",
   "execution_count": null,
   "id": "db4bffdf",
   "metadata": {
    "hidden": true,
    "scrolled": true
   },
   "outputs": [],
   "source": [
    "#Nombre del producto\n",
    "Fecha='08_06_21'\n",
    "\n",
    "# =============================================================================\n",
    "# Ajuste de los datos\n",
    "# =============================================================================\n",
    "File_name='Data 08_06_21 Predicción CL 2021-06-14'\n",
    "col_names=pd.read_csv(\"Data/\"+File_name+\".csv\",\n",
    "                    encoding=\"utf-8\",sep=\";\",nrows=0).columns\n",
    "types_dict = {col: str for col in col_names}\n",
    "\n",
    "Data = pd.read_csv(\"Data/\"+File_name+\".csv\",\n",
    "                   encoding=\"utf-8\",sep=\",\",dtype=types_dict)\n",
    "Data.head(1)"
   ]
  },
  {
   "cell_type": "code",
   "execution_count": null,
   "id": "2e2ce135",
   "metadata": {
    "hidden": true,
    "scrolled": false
   },
   "outputs": [],
   "source": [
    "Data.groupby('Material').sum()"
   ]
  }
 ],
 "metadata": {
  "kernelspec": {
   "display_name": "Python 3",
   "language": "python",
   "name": "python3"
  },
  "language_info": {
   "codemirror_mode": {
    "name": "ipython",
    "version": 3
   },
   "file_extension": ".py",
   "mimetype": "text/x-python",
   "name": "python",
   "nbconvert_exporter": "python",
   "pygments_lexer": "ipython3",
   "version": "3.8.8"
  },
  "toc": {
   "base_numbering": 1,
   "nav_menu": {
    "height": "246px",
    "width": "191px"
   },
   "number_sections": true,
   "sideBar": true,
   "skip_h1_title": false,
   "title_cell": "Table of Contents",
   "title_sidebar": "Contents",
   "toc_cell": false,
   "toc_position": {
    "height": "720.822px",
    "left": "23.9792px",
    "top": "110.278px",
    "width": "330.98px"
   },
   "toc_section_display": true,
   "toc_window_display": true
  }
 },
 "nbformat": 4,
 "nbformat_minor": 5
}
