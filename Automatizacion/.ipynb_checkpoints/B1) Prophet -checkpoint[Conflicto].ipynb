{
 "cells": [
  {
   "cell_type": "markdown",
   "id": "80590ae6",
   "metadata": {},
   "source": [
    "# Información previa\n",
    "\n",
    "## Diseño y esquema codigo\n",
    "\n",
    "Predicción de prophet de la demanda y el precio\n",
    "\n",
    "El group by debe estar en el codigo, para segmentarlo\n",
    "\n",
    "1. Predecir **Demanda** al corto plazo\n",
    "\n",
    "2. Predecir el **Precio** promedio ponderado `Ventas CLP.sum()/Demanda KG.sum()`\n",
    "\n",
    "* Predecir al corto plazo, generando un resultado del error al predecir el año 2021, semana a semana.\n",
    "\n",
    "\n"
   ]
  },
  {
   "cell_type": "markdown",
   "id": "17ae62ca",
   "metadata": {
    "heading_collapsed": true
   },
   "source": [
    "## Apuntes Cod "
   ]
  },
  {
   "cell_type": "markdown",
   "id": "a2ec96bf",
   "metadata": {
    "hidden": true
   },
   "source": [
    "```{python}\n",
    "Data['Peso neto KG']=Data['Peso neto'].str.split('KG', expand=True)[[0]]\n",
    "Data.pop('Peso neto')\n",
    "Data['Cantidad Unidades CJ']=Data['Cantidad Unidades'].str.split('CJ', expand=True)[[0]]\n",
    "Data.pop('Cantidad Unidades')\n",
    "Data['Precio Unitario CLP / KG']=Data['Precio Unitario'].str.split('CLP / KG', expand=True)[[0]]\n",
    "\n",
    "\n",
    "\n",
    "    if(x[len(x)-3:]=='USD'):\n",
    "        x=x.split(' USD')[1]\n",
    "    elif(x[len(x)-3:]=='CLP'):\n",
    "        x=x.split(' CLP')[1]\n",
    "\n",
    "\n",
    "```"
   ]
  },
  {
   "cell_type": "markdown",
   "id": "1ed6a797",
   "metadata": {
    "heading_collapsed": true
   },
   "source": [
    "## Este es un extracto del paper:\n",
    " \n",
    "\n",
    "\t\n",
    "Ventas pasadas con retraso  k, es decir, ventas diarias para el SKU considerado de los últimos k días (tw k : ventana de tiempo de tamaño k ).\n",
    "\n",
    "\t\n",
    "* Variables binarias para caracterizar días especiales, como:\n",
    "    * Pago , que caracteriza los días al final de cada mes cuando las personas reciben el pago mensual.\n",
    "    * Pago intermedio , que caracteriza los días al final de cada quincena en que las personas reciben dos pagos semanales.\n",
    "    * Antes de las vacaciones , caracterizando los días antes de las vacaciones.\n",
    "    * Vacaciones , que caracterizan las vacaciones.\n",
    "    * Independencia , que caracteriza los días de la independencia de Chile (18 y 19 de septiembre).\n",
    "    * Santa , caracterizando los días de la semana antes del este.\n",
    "    * Vacaciones , caracterizando los días que pertenecen al período de vacaciones de verano (enero y febrero).\n",
    "    * Verano , que caracteriza los días de verano (1 de octubre-31 de marzo).\t\n",
    "    * Año nuevo (1 de enero), que caracteriza el único día de cierre de supermercados en Chile.\n",
    "\t\n",
    "\t\n",
    "* Variables de precio:\n",
    "    * Precio A  =  precio original del SKU considerado en Economax.\n",
    "    * Precio B  =  (Precio A) / (Precio máximo en micro-mercado).\n",
    "    * Precio C  =  (Precio A) / (Precio mínimo en micro-mercado).\n",
    "\n",
    "\t\t\n",
    "Observación : Las variables “Precio máximo en micro-mercado” y “Precio mínimo en micro-mercado” son el precio máximo (mínimo) para un determinado SKU en el micro-mercado relevante y son proporcionados por una empresa de investigación de mercado.\n",
    "\t\t\n",
    "\t\n",
    "\n",
    "\t\n",
    " "
   ]
  },
  {
   "cell_type": "markdown",
   "id": "33f26efe",
   "metadata": {},
   "source": [
    "# Package Install & Open Data\n"
   ]
  },
  {
   "cell_type": "markdown",
   "id": "6dc45620",
   "metadata": {},
   "source": [
    "## Import"
   ]
  },
  {
   "cell_type": "markdown",
   "id": "3daa5668",
   "metadata": {},
   "source": [
    "### import general "
   ]
  },
  {
   "cell_type": "code",
   "execution_count": 1,
   "id": "82536652",
   "metadata": {},
   "outputs": [],
   "source": [
    "# =============================================================================\n",
    "# Importar paquetes y abrir Data\n",
    "# =============================================================================\n",
    "\n",
    "#gestion DF\n",
    "import pandas as pd\n",
    "\n",
    "#Funciones mat y matricicales\n",
    "import numpy as np\n",
    "\n",
    "#ploteo simple\n",
    "import matplotlib.pyplot as plt\n",
    "\n",
    "# Graficas bonitas\n",
    "from plotnine import *\n",
    "\n",
    "#para ajustar las fechas\n",
    "import datetime\n",
    "\n",
    "#para calcular el skew de un array() o list()\n",
    "from scipy.stats import skew \n",
    "\n",
    "#mode function\n",
    "import statistics \n",
    "\n",
    "from mizani.breaks import date_breaks\n",
    "from mizani.formatters import date_format"
   ]
  },
  {
   "cell_type": "markdown",
   "id": "16235866",
   "metadata": {},
   "source": [
    "### import and function "
   ]
  },
  {
   "cell_type": "code",
   "execution_count": 2,
   "id": "0bea17cb",
   "metadata": {},
   "outputs": [
    {
     "name": "stderr",
     "output_type": "stream",
     "text": [
      "Importing plotly failed. Interactive plots will not work.\n"
     ]
    }
   ],
   "source": [
    "\n",
    "import warnings\n",
    "import pandas as pd\n",
    "import matplotlib.pyplot as plt\n",
    "# prophet model \n",
    "from fbprophet import Prophet\n",
    "# prophet preformance\n",
    "from fbprophet.diagnostics import cross_validation\n",
    "from fbprophet.diagnostics import performance_metrics\n",
    "from fbprophet.plot import plot_cross_validation_metric\n",
    "\n",
    "# don't do this \n",
    "warnings.filterwarnings('ignore')\n",
    "# \"high resolution\"\n",
    "%config InlineBackend.figure_format = 'retina'"
   ]
  },
  {
   "cell_type": "markdown",
   "id": "9d9b6e0a",
   "metadata": {
    "heading_collapsed": true
   },
   "source": [
    "##  Data Facturación CT(New)\n",
    "Esta data contiene las facturaciones(Ventas a los clientes del canal tradicional)"
   ]
  },
  {
   "cell_type": "markdown",
   "id": "8a6b61e3",
   "metadata": {
    "hidden": true
   },
   "source": [
    "### Selección de la zona de estudio "
   ]
  },
  {
   "cell_type": "code",
   "execution_count": 3,
   "id": "1ad8fa31",
   "metadata": {
    "hidden": true,
    "scrolled": true
   },
   "outputs": [
    {
     "data": {
      "text/html": [
       "<div>\n",
       "<style scoped>\n",
       "    .dataframe tbody tr th:only-of-type {\n",
       "        vertical-align: middle;\n",
       "    }\n",
       "\n",
       "    .dataframe tbody tr th {\n",
       "        vertical-align: top;\n",
       "    }\n",
       "\n",
       "    .dataframe thead th {\n",
       "        text-align: right;\n",
       "    }\n",
       "</style>\n",
       "<table border=\"1\" class=\"dataframe\">\n",
       "  <thead>\n",
       "    <tr style=\"text-align: right;\">\n",
       "      <th></th>\n",
       "      <th>Material</th>\n",
       "      <th>Tipo de cliente</th>\n",
       "      <th>Zona de ventas</th>\n",
       "      <th>Zona de ventas.1</th>\n",
       "      <th>Oficina de Ventas Unifica</th>\n",
       "      <th>Oficina de Ventas Unifica.1</th>\n",
       "      <th>Mes</th>\n",
       "      <th>Año natural/Semana</th>\n",
       "      <th>Día natural</th>\n",
       "      <th>Día de la semana</th>\n",
       "      <th>Kilos Venta KG</th>\n",
       "      <th>Venta Neta</th>\n",
       "      <th>Precio Promedio</th>\n",
       "    </tr>\n",
       "  </thead>\n",
       "  <tbody>\n",
       "    <tr>\n",
       "      <th>0</th>\n",
       "      <td>1020253</td>\n",
       "      <td>Tradicional</td>\n",
       "      <td>Z001</td>\n",
       "      <td>Santiago</td>\n",
       "      <td>Huechuraba</td>\n",
       "      <td>T101</td>\n",
       "      <td>1</td>\n",
       "      <td>01.2019</td>\n",
       "      <td>02.01.2019</td>\n",
       "      <td>MI</td>\n",
       "      <td>36</td>\n",
       "      <td>81.788 CLP</td>\n",
       "      <td>2.250 CLP</td>\n",
       "    </tr>\n",
       "  </tbody>\n",
       "</table>\n",
       "</div>"
      ],
      "text/plain": [
       "  Material Tipo de cliente Zona de ventas Zona de ventas.1  \\\n",
       "0  1020253     Tradicional           Z001         Santiago   \n",
       "\n",
       "  Oficina de Ventas Unifica Oficina de Ventas Unifica.1 Mes  \\\n",
       "0                Huechuraba                        T101   1   \n",
       "\n",
       "  Año natural/Semana Día natural Día de la semana Kilos Venta KG  Venta Neta  \\\n",
       "0            01.2019  02.01.2019               MI             36  81.788 CLP   \n",
       "\n",
       "  Precio Promedio  \n",
       "0       2.250 CLP  "
      ]
     },
     "execution_count": 3,
     "metadata": {},
     "output_type": "execute_result"
    }
   ],
   "source": [
    "#Nombre del producto\n",
    "Fecha='07_06_21'\n",
    "\n",
    "# =============================================================================\n",
    "# Ajuste de los datos\n",
    "# =============================================================================\n",
    "File_name='Fact_CL_Mater_Canales_'+Fecha\n",
    "col_names=pd.read_csv(\"Data/\"+File_name+\".csv\",\n",
    "                    encoding=\"utf-8\",sep=\";\",nrows=0).columns\n",
    "types_dict = {col: str for col in col_names}\n",
    "\n",
    "Data = pd.read_csv(\"Data/\"+File_name+\".csv\",\n",
    "                   encoding=\"utf-8\",sep=\";\",dtype=types_dict)\n",
    "Data.head(1)"
   ]
  },
  {
   "cell_type": "markdown",
   "id": "28a39a98",
   "metadata": {
    "hidden": true
   },
   "source": [
    "### Ajuste facturaciones"
   ]
  },
  {
   "cell_type": "code",
   "execution_count": 21,
   "id": "bb6fe285",
   "metadata": {
    "hidden": true
   },
   "outputs": [],
   "source": [
    "# =============================================================================\n",
    "# Ajustar la data\n",
    "# =============================================================================\n",
    "def Ajuste_data(data):\n",
    "    df=data.copy()\n",
    "    # Funciones para eliminar los putos y cambiar las , por .\n",
    "    def categ_uniq(x):\n",
    "        return x[len(x)-3:]\n",
    "\n",
    "    df['Unidad Venta']=df['Venta Neta'].apply(categ_uniq)\n",
    "    df['Unidad Precio']=df['Precio Promedio'].apply(categ_uniq)\n",
    "    \n",
    "    def CLP_Dolar(x):\n",
    "        x=str(x)\n",
    "        x=x.replace('.', '')\n",
    "        x=x.replace(',', '.')\n",
    "        if(x[len(x)-3:]=='USD'):\n",
    "            x=x.split(' USD')[0]\n",
    "            x=float(x)\n",
    "            #x=x*720\n",
    "        elif(x[len(x)-3:]=='CLP'):\n",
    "            x=x.split(' CLP')[0]\n",
    "            x=float(x)\n",
    "        return x\n",
    "    \n",
    "    def change_num_point(x):\n",
    "        x=str(x)\n",
    "        return x.replace('.', '')\n",
    "    def change_num_coma(x):\n",
    "        x=str(x)\n",
    "        return x.replace(',', '.')\n",
    "    def delete_asterisco(x):\n",
    "        x=str(x)\n",
    "        return x.replace('*','0' )\n",
    "    \n",
    "    #proceso iterativo, \n",
    "    for i in ['Kilos Venta KG','Venta Neta','Precio Promedio']:\n",
    "    # se elimina el punto definido para los miles\n",
    "        if(i!='Kilos Venta KG'):\n",
    "            df[i]=df[i].apply(CLP_Dolar)\n",
    "        else:\n",
    "            df[i]=df[i].apply(change_num_point)\n",
    "            # se reemplaza la coma por un punto, para definir los decimales correctamente\n",
    "            df[i]=df[i].apply(change_num_coma)\n",
    "        # se elimina el valor * \n",
    "        df[i]=df[i].apply(delete_asterisco)\n",
    "        df[i]=df[i].astype('float64')\n",
    "        # Se pasa de ser un str a un int\n",
    "        print(i)\n",
    "        #df[i]=df[i].astype('int64')\n",
    "\n",
    "    #Separacion fecha\n",
    "    df['Semana']=df['Año natural/Semana'].str.split('.', expand=True)[[0]]\n",
    "    df['Año']=df['Año natural/Semana'].str.split('.', expand=True)[[1]]\n",
    "\n",
    "    df['Semana']=df['Semana'].astype('int64')\n",
    "    df['Año']=df['Año'].astype('int64')\n",
    "    \n",
    "    #\n",
    "    df[\"Día natural\"] = df[\"Día natural\"].apply(lambda x: \n",
    "                                                datetime.datetime.strptime(x,\n",
    "                                                                           '%d.%m.%Y').date())\n",
    "    df['Año']=df['Año'].astype('int64')\n",
    "    return df"
   ]
  },
  {
   "cell_type": "code",
   "execution_count": 22,
   "id": "e74380c6",
   "metadata": {
    "hidden": true
   },
   "outputs": [
    {
     "name": "stdout",
     "output_type": "stream",
     "text": [
      "Kilos Venta KG\n",
      "Venta Neta\n",
      "Precio Promedio\n"
     ]
    },
    {
     "data": {
      "text/html": [
       "<div>\n",
       "<style scoped>\n",
       "    .dataframe tbody tr th:only-of-type {\n",
       "        vertical-align: middle;\n",
       "    }\n",
       "\n",
       "    .dataframe tbody tr th {\n",
       "        vertical-align: top;\n",
       "    }\n",
       "\n",
       "    .dataframe thead th {\n",
       "        text-align: right;\n",
       "    }\n",
       "</style>\n",
       "<table border=\"1\" class=\"dataframe\">\n",
       "  <thead>\n",
       "    <tr style=\"text-align: right;\">\n",
       "      <th></th>\n",
       "      <th>Material</th>\n",
       "      <th>Tipo de cliente</th>\n",
       "      <th>Zona de ventas</th>\n",
       "      <th>Zona de ventas.1</th>\n",
       "      <th>Oficina de Ventas Unifica</th>\n",
       "      <th>Oficina de Ventas Unifica.1</th>\n",
       "      <th>Mes</th>\n",
       "      <th>Año natural/Semana</th>\n",
       "      <th>Día natural</th>\n",
       "      <th>Día de la semana</th>\n",
       "      <th>Kilos Venta KG</th>\n",
       "      <th>Venta Neta</th>\n",
       "      <th>Precio Promedio</th>\n",
       "      <th>Unidad Venta</th>\n",
       "      <th>Unidad Precio</th>\n",
       "      <th>Semana</th>\n",
       "      <th>Año</th>\n",
       "    </tr>\n",
       "  </thead>\n",
       "  <tbody>\n",
       "    <tr>\n",
       "      <th>0</th>\n",
       "      <td>1020253</td>\n",
       "      <td>Tradicional</td>\n",
       "      <td>Z001</td>\n",
       "      <td>Santiago</td>\n",
       "      <td>Huechuraba</td>\n",
       "      <td>T101</td>\n",
       "      <td>1</td>\n",
       "      <td>01.2019</td>\n",
       "      <td>2019-01-02</td>\n",
       "      <td>MI</td>\n",
       "      <td>36.0</td>\n",
       "      <td>81788.0</td>\n",
       "      <td>2250.0</td>\n",
       "      <td>CLP</td>\n",
       "      <td>CLP</td>\n",
       "      <td>1</td>\n",
       "      <td>2019</td>\n",
       "    </tr>\n",
       "    <tr>\n",
       "      <th>1</th>\n",
       "      <td>1020253</td>\n",
       "      <td>Tradicional</td>\n",
       "      <td>Z001</td>\n",
       "      <td>Santiago</td>\n",
       "      <td>Huechuraba</td>\n",
       "      <td>T101</td>\n",
       "      <td>1</td>\n",
       "      <td>01.2019</td>\n",
       "      <td>2019-01-03</td>\n",
       "      <td>JU</td>\n",
       "      <td>333.0</td>\n",
       "      <td>583204.0</td>\n",
       "      <td>1750.0</td>\n",
       "      <td>CLP</td>\n",
       "      <td>CLP</td>\n",
       "      <td>1</td>\n",
       "      <td>2019</td>\n",
       "    </tr>\n",
       "    <tr>\n",
       "      <th>2</th>\n",
       "      <td>1020253</td>\n",
       "      <td>Tradicional</td>\n",
       "      <td>Z001</td>\n",
       "      <td>Santiago</td>\n",
       "      <td>Huechuraba</td>\n",
       "      <td>T101</td>\n",
       "      <td>1</td>\n",
       "      <td>01.2019</td>\n",
       "      <td>2019-01-05</td>\n",
       "      <td>SA</td>\n",
       "      <td>219.0</td>\n",
       "      <td>397031.0</td>\n",
       "      <td>1815.0</td>\n",
       "      <td>CLP</td>\n",
       "      <td>CLP</td>\n",
       "      <td>1</td>\n",
       "      <td>2019</td>\n",
       "    </tr>\n",
       "  </tbody>\n",
       "</table>\n",
       "</div>"
      ],
      "text/plain": [
       "  Material Tipo de cliente Zona de ventas Zona de ventas.1  \\\n",
       "0  1020253     Tradicional           Z001         Santiago   \n",
       "1  1020253     Tradicional           Z001         Santiago   \n",
       "2  1020253     Tradicional           Z001         Santiago   \n",
       "\n",
       "  Oficina de Ventas Unifica Oficina de Ventas Unifica.1 Mes  \\\n",
       "0                Huechuraba                        T101   1   \n",
       "1                Huechuraba                        T101   1   \n",
       "2                Huechuraba                        T101   1   \n",
       "\n",
       "  Año natural/Semana Día natural Día de la semana  Kilos Venta KG  Venta Neta  \\\n",
       "0            01.2019  2019-01-02               MI            36.0     81788.0   \n",
       "1            01.2019  2019-01-03               JU           333.0    583204.0   \n",
       "2            01.2019  2019-01-05               SA           219.0    397031.0   \n",
       "\n",
       "   Precio Promedio Unidad Venta Unidad Precio  Semana   Año  \n",
       "0           2250.0          CLP           CLP       1  2019  \n",
       "1           1750.0          CLP           CLP       1  2019  \n",
       "2           1815.0          CLP           CLP       1  2019  "
      ]
     },
     "execution_count": 22,
     "metadata": {},
     "output_type": "execute_result"
    }
   ],
   "source": [
    "data=Ajuste_data(Data)\n",
    "data.head(3)\n",
    "#data=<data[data['Año']>2018]"
   ]
  },
  {
   "cell_type": "markdown",
   "id": "0372244d",
   "metadata": {},
   "source": [
    "# Predicción  Prophet\n"
   ]
  },
  {
   "cell_type": "code",
   "execution_count": 23,
   "id": "bc444ce2",
   "metadata": {
    "scrolled": false
   },
   "outputs": [],
   "source": [
    "y_col='Kilos Venta KG'\n",
    "y_value='Volumen de ventas en KG'\n",
    "y_title= 'Demanda'+'del canal tradicion'"
   ]
  },
  {
   "cell_type": "markdown",
   "id": "6684566a",
   "metadata": {
    "heading_collapsed": true
   },
   "source": [
    "## Descripción "
   ]
  },
  {
   "cell_type": "markdown",
   "id": "da988cff",
   "metadata": {
    "hidden": true
   },
   "source": [
    "\n",
    "1. Predicción de Demanda dia\n",
    "    \n",
    "   * Evaluación a largo plazo\n",
    "        1. Predicción año 2021 completo\n",
    "    \n",
    "   * Evaluación a corto plazo\n",
    "        2. iteración mes a mes\n",
    "        3. iteración semana a semana\n",
    "\n",
    "2. Predicción del Precio Replica del de Demanda\n",
    "\n",
    "\n",
    "Dataframe a considerar\n",
    "```python\n",
    "\n",
    "# posee las ventas de la zona de temuco del canal tradicional, debido al ajuste de zona\n",
    "data\n",
    "\n",
    "\n",
    "#DF_ventas Posee las ventas de los clientes del CT\n",
    "DF_ventas \n",
    "\n",
    "#DF_VS Posee los niveles de Stok Abastecimiento y Demanda de la Z001\n",
    "DF_VS\n",
    "\n",
    "# Dias_Festivos Posee los dias festivos del 2019 al 2020\n",
    "Dias_Festivos\n",
    "```\n",
    "\n",
    "Se juntaran los 3 df para formar 1, para ello se generará en primer lugar un df con\n",
    "\n",
    "```python\n",
    "DF_ventas[DF_ventas['identified_clusters']==4].groupby('Día natural').sum().reset_index()[['Día natural','Kilos Venta KG']]\n",
    "``` \n",
    "\n",
    "\n",
    "De tal forma que se tiene la demanda dia del segmento, Despues se realiza un Merge con cada uno de los otros DF, de tal forma que la demanda dia posee más partes X que le agregan robustes al modelo.\n"
   ]
  },
  {
   "cell_type": "markdown",
   "id": "c6a5fc70",
   "metadata": {},
   "source": [
    "## Construcción de la Data"
   ]
  },
  {
   "cell_type": "code",
   "execution_count": 28,
   "id": "1bfbaeec",
   "metadata": {
    "collapsed": true
   },
   "outputs": [
    {
     "data": {
      "text/html": [
       "<div>\n",
       "<style scoped>\n",
       "    .dataframe tbody tr th:only-of-type {\n",
       "        vertical-align: middle;\n",
       "    }\n",
       "\n",
       "    .dataframe tbody tr th {\n",
       "        vertical-align: top;\n",
       "    }\n",
       "\n",
       "    .dataframe thead th {\n",
       "        text-align: right;\n",
       "    }\n",
       "</style>\n",
       "<table border=\"1\" class=\"dataframe\">\n",
       "  <thead>\n",
       "    <tr style=\"text-align: right;\">\n",
       "      <th></th>\n",
       "      <th>Material</th>\n",
       "      <th>Tipo de cliente</th>\n",
       "      <th>Zona de ventas</th>\n",
       "      <th>Zona de ventas.1</th>\n",
       "      <th>Oficina de Ventas Unifica</th>\n",
       "      <th>Oficina de Ventas Unifica.1</th>\n",
       "      <th>Mes</th>\n",
       "      <th>Año natural/Semana</th>\n",
       "      <th>Día natural</th>\n",
       "      <th>Día de la semana</th>\n",
       "      <th>Kilos Venta KG</th>\n",
       "      <th>Venta Neta</th>\n",
       "      <th>Precio Promedio</th>\n",
       "      <th>Unidad Venta</th>\n",
       "      <th>Unidad Precio</th>\n",
       "      <th>Semana</th>\n",
       "      <th>Año</th>\n",
       "    </tr>\n",
       "  </thead>\n",
       "  <tbody>\n",
       "    <tr>\n",
       "      <th>0</th>\n",
       "      <td>1020253</td>\n",
       "      <td>Tradicional</td>\n",
       "      <td>Z001</td>\n",
       "      <td>Santiago</td>\n",
       "      <td>Huechuraba</td>\n",
       "      <td>T101</td>\n",
       "      <td>1</td>\n",
       "      <td>01.2019</td>\n",
       "      <td>2019-01-02</td>\n",
       "      <td>MI</td>\n",
       "      <td>36.0</td>\n",
       "      <td>81788.0</td>\n",
       "      <td>2250.0</td>\n",
       "      <td>CLP</td>\n",
       "      <td>CLP</td>\n",
       "      <td>1</td>\n",
       "      <td>2019</td>\n",
       "    </tr>\n",
       "    <tr>\n",
       "      <th>1</th>\n",
       "      <td>1020253</td>\n",
       "      <td>Tradicional</td>\n",
       "      <td>Z001</td>\n",
       "      <td>Santiago</td>\n",
       "      <td>Huechuraba</td>\n",
       "      <td>T101</td>\n",
       "      <td>1</td>\n",
       "      <td>01.2019</td>\n",
       "      <td>2019-01-03</td>\n",
       "      <td>JU</td>\n",
       "      <td>333.0</td>\n",
       "      <td>583204.0</td>\n",
       "      <td>1750.0</td>\n",
       "      <td>CLP</td>\n",
       "      <td>CLP</td>\n",
       "      <td>1</td>\n",
       "      <td>2019</td>\n",
       "    </tr>\n",
       "    <tr>\n",
       "      <th>2</th>\n",
       "      <td>1020253</td>\n",
       "      <td>Tradicional</td>\n",
       "      <td>Z001</td>\n",
       "      <td>Santiago</td>\n",
       "      <td>Huechuraba</td>\n",
       "      <td>T101</td>\n",
       "      <td>1</td>\n",
       "      <td>01.2019</td>\n",
       "      <td>2019-01-05</td>\n",
       "      <td>SA</td>\n",
       "      <td>219.0</td>\n",
       "      <td>397031.0</td>\n",
       "      <td>1815.0</td>\n",
       "      <td>CLP</td>\n",
       "      <td>CLP</td>\n",
       "      <td>1</td>\n",
       "      <td>2019</td>\n",
       "    </tr>\n",
       "    <tr>\n",
       "      <th>3</th>\n",
       "      <td>1020253</td>\n",
       "      <td>Tradicional</td>\n",
       "      <td>Z001</td>\n",
       "      <td>Santiago</td>\n",
       "      <td>Huechuraba</td>\n",
       "      <td>T101</td>\n",
       "      <td>1</td>\n",
       "      <td>02.2019</td>\n",
       "      <td>2019-01-07</td>\n",
       "      <td>LU</td>\n",
       "      <td>128.0</td>\n",
       "      <td>258591.0</td>\n",
       "      <td>2017.0</td>\n",
       "      <td>CLP</td>\n",
       "      <td>CLP</td>\n",
       "      <td>2</td>\n",
       "      <td>2019</td>\n",
       "    </tr>\n",
       "    <tr>\n",
       "      <th>4</th>\n",
       "      <td>1020253</td>\n",
       "      <td>Tradicional</td>\n",
       "      <td>Z001</td>\n",
       "      <td>Santiago</td>\n",
       "      <td>Huechuraba</td>\n",
       "      <td>T101</td>\n",
       "      <td>1</td>\n",
       "      <td>02.2019</td>\n",
       "      <td>2019-01-08</td>\n",
       "      <td>MA</td>\n",
       "      <td>95.0</td>\n",
       "      <td>210790.0</td>\n",
       "      <td>2223.0</td>\n",
       "      <td>CLP</td>\n",
       "      <td>CLP</td>\n",
       "      <td>2</td>\n",
       "      <td>2019</td>\n",
       "    </tr>\n",
       "  </tbody>\n",
       "</table>\n",
       "</div>"
      ],
      "text/plain": [
       "  Material Tipo de cliente Zona de ventas Zona de ventas.1  \\\n",
       "0  1020253     Tradicional           Z001         Santiago   \n",
       "1  1020253     Tradicional           Z001         Santiago   \n",
       "2  1020253     Tradicional           Z001         Santiago   \n",
       "3  1020253     Tradicional           Z001         Santiago   \n",
       "4  1020253     Tradicional           Z001         Santiago   \n",
       "\n",
       "  Oficina de Ventas Unifica Oficina de Ventas Unifica.1 Mes  \\\n",
       "0                Huechuraba                        T101   1   \n",
       "1                Huechuraba                        T101   1   \n",
       "2                Huechuraba                        T101   1   \n",
       "3                Huechuraba                        T101   1   \n",
       "4                Huechuraba                        T101   1   \n",
       "\n",
       "  Año natural/Semana Día natural Día de la semana  Kilos Venta KG  Venta Neta  \\\n",
       "0            01.2019  2019-01-02               MI            36.0     81788.0   \n",
       "1            01.2019  2019-01-03               JU           333.0    583204.0   \n",
       "2            01.2019  2019-01-05               SA           219.0    397031.0   \n",
       "3            02.2019  2019-01-07               LU           128.0    258591.0   \n",
       "4            02.2019  2019-01-08               MA            95.0    210790.0   \n",
       "\n",
       "   Precio Promedio Unidad Venta Unidad Precio  Semana   Año  \n",
       "0           2250.0          CLP           CLP       1  2019  \n",
       "1           1750.0          CLP           CLP       1  2019  \n",
       "2           1815.0          CLP           CLP       1  2019  \n",
       "3           2017.0          CLP           CLP       2  2019  \n",
       "4           2223.0          CLP           CLP       2  2019  "
      ]
     },
     "execution_count": 28,
     "metadata": {},
     "output_type": "execute_result"
    }
   ],
   "source": [
    "data.head()"
   ]
  },
  {
   "cell_type": "code",
   "execution_count": 26,
   "id": "f132bc03",
   "metadata": {
    "collapsed": true
   },
   "outputs": [
    {
     "data": {
      "text/plain": [
       "Index(['Material', 'Tipo de cliente', 'Zona de ventas', 'Zona de ventas.1',\n",
       "       'Oficina de Ventas Unifica', 'Oficina de Ventas Unifica.1', 'Mes',\n",
       "       'Año natural/Semana', 'Día natural', 'Día de la semana',\n",
       "       'Kilos Venta KG', 'Venta Neta', 'Precio Promedio', 'Unidad Venta',\n",
       "       'Unidad Precio', 'Semana', 'Año'],\n",
       "      dtype='object')"
      ]
     },
     "execution_count": 26,
     "metadata": {},
     "output_type": "execute_result"
    }
   ],
   "source": [
    "data.columns"
   ]
  },
  {
   "cell_type": "code",
   "execution_count": 29,
   "id": "f52d3817",
   "metadata": {},
   "outputs": [
    {
     "name": "stdout",
     "output_type": "stream",
     "text": [
      "['Tradicional' 'Industriales' 'Grandes Clientes' 'Foodservice']\n",
      "['Santiago' 'Centro Norte' 'Centro Sur' 'Sur' 'Norte' 'Venta Directa']\n",
      "['Huechuraba' 'Lo Espejo' 'Quilin' 'Sucursal Miraflores' 'Coquimbo'\n",
      " 'Hijuelas' 'Ovalle' 'San Antonio' 'San Felipe' 'Viña del Mar' 'Chillan'\n",
      " 'Concepcion' 'Curico' 'Los Angeles' 'Rancagua' 'Talca' 'Castro'\n",
      " 'Coyhaique' 'Osorno' 'Puerto Montt' 'Punta Arenas' 'Temuco' 'Valdivia'\n",
      " 'Antofagasta' 'Arica' 'Calama' 'Copiapo' 'Iquique' 'Vallenar'\n",
      " 'VD FoodService' 'VD Industrial' 'VD Grandes Clientes'\n",
      " 'Sucursal Dieciocho' 'Vendedores San Pablo']\n",
      "['1020253' '1020042' '1020027' '1020013' '1020010' '1020003' '1020001'\n",
      " '1010695' '1010267' '1010078' '1010077' '1010048' '1010002']\n"
     ]
    }
   ],
   "source": [
    "print(data['Tipo de cliente'].unique())\n",
    "print(data['Zona de ventas.1'].unique())\n",
    "print(data['Oficina de Ventas Unifica'].unique())\n",
    "print(data['Material'].unique())"
   ]
  },
  {
   "cell_type": "markdown",
   "id": "6f327caa",
   "metadata": {},
   "source": [
    "## Iter Por Zona "
   ]
  },
  {
   "cell_type": "markdown",
   "id": "db0581c6",
   "metadata": {},
   "source": [
    "### función "
   ]
  },
  {
   "cell_type": "code",
   "execution_count": 41,
   "id": "dee5e647",
   "metadata": {},
   "outputs": [],
   "source": [
    "def Df_ubic(data_X,col,Str):\n",
    "    df=data_X.copy()\n",
    "    df=df[df[col]==Str]\n",
    "    return df"
   ]
  },
  {
   "cell_type": "code",
   "execution_count": 51,
   "id": "e93ac778",
   "metadata": {},
   "outputs": [],
   "source": [
    "def Predict_sem(D_Train,periodos=5):\n",
    "    D_Train.columns = ['ds','y']\n",
    "    \n",
    "    # convert dates from string to datetime\n",
    "    D_Train.ds = pd.to_datetime(D_Train.ds)\n",
    "    print(D_Train.dtypes)\n",
    "    \n",
    "    # set prophet model \n",
    "    prophet = Prophet(changepoint_prior_scale=0.15, yearly_seasonality=True)\n",
    "    \n",
    "    # fit $wmt data to model\n",
    "    prophet.fit(D_Train)\n",
    "    \n",
    "    \n",
    "    \n",
    "    # build future dataframe for 5 years\n",
    "    build_forecast = prophet.make_future_dataframe(periods= periodos , freq='D')\n",
    "    #prophet.make_future_dataframe(periods= periodos, freq='D')\n",
    "    \n",
    "    # forecast future df w/ model\n",
    "    forecast = prophet.predict(build_forecast)\n",
    "    \n",
    "    return(forecast)"
   ]
  },
  {
   "cell_type": "markdown",
   "id": "3c2079bc",
   "metadata": {},
   "source": [
    "### iteración "
   ]
  },
  {
   "cell_type": "code",
   "execution_count": 62,
   "id": "e55973b8",
   "metadata": {
    "scrolled": false
   },
   "outputs": [
    {
     "name": "stderr",
     "output_type": "stream",
     "text": [
      "INFO:fbprophet:Disabling daily seasonality. Run prophet with daily_seasonality=True to override this.\n"
     ]
    },
    {
     "name": "stdout",
     "output_type": "stream",
     "text": [
      "ds    datetime64[ns]\n",
      "y            float64\n",
      "dtype: object\n"
     ]
    },
    {
     "data": {
      "text/html": [
       "<div>\n",
       "<style scoped>\n",
       "    .dataframe tbody tr th:only-of-type {\n",
       "        vertical-align: middle;\n",
       "    }\n",
       "\n",
       "    .dataframe tbody tr th {\n",
       "        vertical-align: top;\n",
       "    }\n",
       "\n",
       "    .dataframe thead th {\n",
       "        text-align: right;\n",
       "    }\n",
       "</style>\n",
       "<table border=\"1\" class=\"dataframe\">\n",
       "  <thead>\n",
       "    <tr style=\"text-align: right;\">\n",
       "      <th></th>\n",
       "      <th>ds</th>\n",
       "      <th>yhat_lower</th>\n",
       "      <th>yhat_upper</th>\n",
       "      <th>yhat</th>\n",
       "      <th>Material</th>\n",
       "    </tr>\n",
       "  </thead>\n",
       "  <tbody>\n",
       "    <tr>\n",
       "      <th>643</th>\n",
       "      <td>2021-06-07</td>\n",
       "      <td>-237.233866</td>\n",
       "      <td>1290.963176</td>\n",
       "      <td>545.820125</td>\n",
       "      <td>1020253</td>\n",
       "    </tr>\n",
       "    <tr>\n",
       "      <th>644</th>\n",
       "      <td>2021-06-08</td>\n",
       "      <td>-116.706842</td>\n",
       "      <td>1460.974015</td>\n",
       "      <td>705.888159</td>\n",
       "      <td>1020253</td>\n",
       "    </tr>\n",
       "    <tr>\n",
       "      <th>645</th>\n",
       "      <td>2021-06-09</td>\n",
       "      <td>-28.536010</td>\n",
       "      <td>1607.181972</td>\n",
       "      <td>832.462643</td>\n",
       "      <td>1020253</td>\n",
       "    </tr>\n",
       "    <tr>\n",
       "      <th>646</th>\n",
       "      <td>2021-06-10</td>\n",
       "      <td>169.532346</td>\n",
       "      <td>1806.337037</td>\n",
       "      <td>984.431776</td>\n",
       "      <td>1020253</td>\n",
       "    </tr>\n",
       "    <tr>\n",
       "      <th>647</th>\n",
       "      <td>2021-06-11</td>\n",
       "      <td>231.679170</td>\n",
       "      <td>1795.908843</td>\n",
       "      <td>1028.985547</td>\n",
       "      <td>1020253</td>\n",
       "    </tr>\n",
       "    <tr>\n",
       "      <th>648</th>\n",
       "      <td>2021-06-12</td>\n",
       "      <td>78.162941</td>\n",
       "      <td>1671.213863</td>\n",
       "      <td>875.327869</td>\n",
       "      <td>1020253</td>\n",
       "    </tr>\n",
       "  </tbody>\n",
       "</table>\n",
       "</div>"
      ],
      "text/plain": [
       "            ds  yhat_lower   yhat_upper         yhat Material\n",
       "643 2021-06-07 -237.233866  1290.963176   545.820125  1020253\n",
       "644 2021-06-08 -116.706842  1460.974015   705.888159  1020253\n",
       "645 2021-06-09  -28.536010  1607.181972   832.462643  1020253\n",
       "646 2021-06-10  169.532346  1806.337037   984.431776  1020253\n",
       "647 2021-06-11  231.679170  1795.908843  1028.985547  1020253\n",
       "648 2021-06-12   78.162941  1671.213863   875.327869  1020253"
      ]
     },
     "execution_count": 62,
     "metadata": {},
     "output_type": "execute_result"
    }
   ],
   "source": [
    "Listado_de_zonas=data['Zona de ventas.1'].unique\n",
    "#for z in Listado_de_zonas:\n",
    "Z='Santiago'\n",
    "\n",
    "dfz=Df_ubic(data,'Zona de ventas.1',Z)\n",
    "\n",
    "Listado_de_Sucursales=dfz['Oficina de Ventas Unifica'].unique()\n",
    "\n",
    "#for y in Listado_de_Sucursales:\n",
    "\n",
    "y='Huechuraba'\n",
    "dfy=Df_ubic(dfz,'Oficina de Ventas Unifica',y)\n",
    "\n",
    "\n",
    "Listado_de_Materiales=dfz['Material'].unique()\n",
    "\n",
    "#for m in Listado_de_Materiales:\n",
    "m=Listado_de_Materiales[0]\n",
    "dfm=Df_ubic(dfy,'Material',m).groupby('Día natural').sum().reset_index()[['Día natural',y_col]]\n",
    "\n",
    "dfmPred=Predict_sem(dfm,7)[['ds', 'yhat_lower', 'yhat_upper', 'yhat']].tail(6)\n",
    "dfmPred['Material']=[m for i in range(dfmPred.shape[0])]\n",
    "dfmPred['Oficina de Ventas Unifica']=[y for i in range(dfmPred.shape[0])]"
   ]
  },
  {
   "cell_type": "code",
   "execution_count": 58,
   "id": "cceb8e83",
   "metadata": {},
   "outputs": [
    {
     "data": {
      "text/plain": [
       "Index(['ds', 'trend', 'yhat_lower', 'yhat_upper', 'trend_lower', 'trend_upper',\n",
       "       'additive_terms', 'additive_terms_lower', 'additive_terms_upper',\n",
       "       'weekly', 'weekly_lower', 'weekly_upper', 'yearly', 'yearly_lower',\n",
       "       'yearly_upper', 'multiplicative_terms', 'multiplicative_terms_lower',\n",
       "       'multiplicative_terms_upper', 'yhat'],\n",
       "      dtype='object')"
      ]
     },
     "execution_count": 58,
     "metadata": {},
     "output_type": "execute_result"
    }
   ],
   "source": [
    "dfmPred.columns"
   ]
  },
  {
   "cell_type": "code",
   "execution_count": null,
   "id": "df083199",
   "metadata": {},
   "outputs": [],
   "source": []
  },
  {
   "cell_type": "markdown",
   "id": "323b9353",
   "metadata": {
    "heading_collapsed": true
   },
   "source": [
    "# Iteración Prophet Calculo del Error\n",
    "\n",
    "se busca realizar una prediccion recuerrente de los dias del 2021\n",
    "para ello se tiene que predecir con el dia 2019 ... 2021-1-1 el dia 2021-1-2 e ir aumentando la data hasta llegar al  2021-2-11"
   ]
  },
  {
   "cell_type": "markdown",
   "id": "764c5949",
   "metadata": {
    "hidden": true
   },
   "source": [
    "### Sin iteración predicción con conocimiento perfeccto"
   ]
  },
  {
   "cell_type": "code",
   "execution_count": 77,
   "id": "763d8ff0",
   "metadata": {
    "hidden": true
   },
   "outputs": [
    {
     "data": {
      "text/html": [
       "<div>\n",
       "<style scoped>\n",
       "    .dataframe tbody tr th:only-of-type {\n",
       "        vertical-align: middle;\n",
       "    }\n",
       "\n",
       "    .dataframe tbody tr th {\n",
       "        vertical-align: top;\n",
       "    }\n",
       "\n",
       "    .dataframe thead th {\n",
       "        text-align: right;\n",
       "    }\n",
       "</style>\n",
       "<table border=\"1\" class=\"dataframe\">\n",
       "  <thead>\n",
       "    <tr style=\"text-align: right;\">\n",
       "      <th></th>\n",
       "      <th>ds</th>\n",
       "      <th>y</th>\n",
       "    </tr>\n",
       "  </thead>\n",
       "  <tbody>\n",
       "    <tr>\n",
       "      <th>485</th>\n",
       "      <td>2019-01-03</td>\n",
       "      <td>41</td>\n",
       "    </tr>\n",
       "  </tbody>\n",
       "</table>\n",
       "</div>"
      ],
      "text/plain": [
       "             ds   y\n",
       "485  2019-01-03  41"
      ]
     },
     "execution_count": 77,
     "metadata": {},
     "output_type": "execute_result"
    }
   ],
   "source": [
    "df_P=DF_prophet[['Día natural', y_col]].copy()\n",
    "df_P.columns = ['ds','y']\n",
    "\n",
    "#FECHA DE INICIO\n",
    "df_P=df_P[df_P.ds>=datetime.date(2019, 1, 1)]\n",
    "df_P.head(1)\n",
    "#print_simpl_graph(df_P)"
   ]
  },
  {
   "cell_type": "markdown",
   "id": "1f2f318b",
   "metadata": {
    "hidden": true
   },
   "source": [
    "###  Particion"
   ]
  },
  {
   "cell_type": "code",
   "execution_count": 78,
   "id": "817a6442",
   "metadata": {
    "hidden": true
   },
   "outputs": [
    {
     "name": "stdout",
     "output_type": "stream",
     "text": [
      "tail train: 2020-12-31 00:00:00\n",
      "tail test: 2021-01-30 00:00:00\n"
     ]
    }
   ],
   "source": [
    "i=1\n",
    "#FECHA DE TERMINO\n",
    "df_P_train=df_P[df_P.ds<datetime.date(2021, i, 1)].copy()\n",
    "\n",
    "#FECHA DE PRUEBA\n",
    "df_P_test=df_P[df_P.ds>datetime.date(2021, i, 1)].copy()\n",
    "df_P_test=df_P_test[df_P_test.ds<datetime.date(2021, i+1, 1)]\n",
    "# convert dates from string to datetime\n",
    "df_P_train.ds = pd.to_datetime(df_P_train.ds)\n",
    "# convert dates from string to datetime\n",
    "df_P_test.ds = pd.to_datetime(df_P_test.ds)\n",
    "#print(df_P_test.dtypes,df_P_train.dtypes)\n",
    "\n",
    "print('tail train:',df_P_train.tail(1).ds.iloc[0])\n",
    "print('tail test:',df_P_test.tail(1).ds.iloc[0])"
   ]
  },
  {
   "cell_type": "markdown",
   "id": "b372d9f9",
   "metadata": {
    "hidden": true
   },
   "source": [
    "### funciónes"
   ]
  },
  {
   "cell_type": "markdown",
   "id": "fb29d139",
   "metadata": {
    "hidden": true
   },
   "source": [
    "#### Predicción"
   ]
  },
  {
   "cell_type": "code",
   "execution_count": 48,
   "id": "79fd033b",
   "metadata": {
    "hidden": true
   },
   "outputs": [],
   "source": [
    "def Predict_Prophet(D_Train,D_Test,periodos):\n",
    "    \n",
    "    #D_propht:= Df utilizado para predecir\n",
    "    # ds es date\n",
    "    # y es la variable a predecir\n",
    "    \n",
    "    \n",
    "    \n",
    "    \n",
    "    # column names for prophet compliance\n",
    "    D_Train.columns = ['ds','y']\n",
    "    #D_propht.head(3)\n",
    "    \n",
    "    # convert dates from string to datetime\n",
    "    D_Train.ds = pd.to_datetime(D_Train.ds)\n",
    "    print(D_Train.dtypes)\n",
    "    \n",
    "    \"\"\"\n",
    "    #imprime la grafica de dispersión de los datos\n",
    "    print_simpl_graph(D_Train)\n",
    "    print_simpl_graph(D_Test)\n",
    "    \"\"\"\n",
    "    # set prophet model \n",
    "    prophet = Prophet(changepoint_prior_scale=0.15, yearly_seasonality=True)\n",
    "    \n",
    "    # fit $wmt data to model\n",
    "    prophet.fit(D_Train)\n",
    "    \n",
    "    \n",
    "    \n",
    "    \n",
    "    largo=D_Test.tail(1).ds.iloc[0]-D_Train.tail(1).ds.iloc[0]\n",
    "    #prophet.make_future_dataframe(periods= abs(largo.days)+5 , freq='D').tail()\n",
    "    print(D_Train.tail(1).ds.iloc[0])\n",
    "    print(D_Test.tail(1).ds.iloc[0])\n",
    "    print(largo)\n",
    "    \n",
    "    \n",
    "    # build future dataframe for 5 years\n",
    "    build_forecast = prophet.make_future_dataframe(periods= abs(largo.days) , freq='D')\n",
    "    #prophet.make_future_dataframe(periods= periodos, freq='D')\n",
    "    \n",
    "    # forecast future df w/ model\n",
    "    forecast = prophet.predict(build_forecast)\n",
    "    \n",
    "    \n",
    "    \n",
    "    \"\"\"\n",
    "    #plot forecasts\n",
    "    prophet.plot(forecast, xlabel='Date', ylabel= y_value)\n",
    "    plt.plot(D_Test.ds, D_Test.y, color='red', marker='o', linestyle=':',markersize=4,)\n",
    "    plt.title('Comportamiento '+ y_title)\n",
    "    # display graph\n",
    "    plt.show()\n",
    "\n",
    "    \n",
    "    # tell us more about the forecast\n",
    "    prophet.plot_components(forecast)\n",
    "    \"\"\"\n",
    "    return(prophet,build_forecast,forecast)"
   ]
  },
  {
   "cell_type": "code",
   "execution_count": null,
   "id": "6736f808",
   "metadata": {
    "hidden": true
   },
   "outputs": [],
   "source": []
  },
  {
   "cell_type": "markdown",
   "id": "4ddc95c4",
   "metadata": {
    "hidden": true
   },
   "source": [
    "#### Error"
   ]
  },
  {
   "cell_type": "code",
   "execution_count": 80,
   "id": "c85b11ca",
   "metadata": {
    "hidden": true,
    "scrolled": false
   },
   "outputs": [],
   "source": [
    "def Error_Pred(DF_Predict,df_P_test):\n",
    "    DF_E=pd.merge(df_P_test,DF_Predict\n",
    "                     , how='left')\n",
    "    DF_E['Error']=DF_E['yhat']-DF_E.y\n",
    "    \n",
    "    DF_E['Error %']=DF_E['yhat']/DF_E.y-1\n",
    "    \"\"\"\n",
    "    DF_E.Error.hist()\n",
    "    plt.show()\n",
    "    \"\"\"\n",
    "    \n",
    "    tempo=DF_E.copy()\n",
    "    tempo['Semana']=tempo.ds.apply(lambda x: x.week).astype('category')\n",
    "    tempo['Mes']=tempo.ds.apply(lambda x: x.month).astype('category')\n",
    "    tempo.Error=tempo.Error.astype('float64')#.abs()\n",
    "    print('Error esperado',tempo.Error.sum()/tempo.shape[0])\n",
    "    \n",
    "    tmp=tempo.groupby(['Mes','Semana']).sum().reset_index()\n",
    "    # como es categorico, generá valores 0 para las columnas \n",
    "    #que no tienen registros en el mes.\n",
    "    #para evitar esto, se filtran los valores menos a 0.\n",
    "    \n",
    "    \n",
    "    tmp=tmp[tmp.y > 0]\n",
    "    print(tmp.shape)\n",
    "    \n",
    "    \"\"\"\n",
    "    tmp.Error.hist()\n",
    "    plt.show()\n",
    "    \"\"\"\n",
    "    \n",
    "    return(tmp)"
   ]
  },
  {
   "cell_type": "markdown",
   "id": "ac5bb5aa",
   "metadata": {
    "hidden": true
   },
   "source": [
    "### Predicciones siguientes "
   ]
  },
  {
   "cell_type": "code",
   "execution_count": 81,
   "id": "e8f916af",
   "metadata": {
    "hidden": true,
    "scrolled": true
   },
   "outputs": [
    {
     "name": "stderr",
     "output_type": "stream",
     "text": [
      "INFO:fbprophet:Disabling daily seasonality. Run prophet with daily_seasonality=True to override this.\n"
     ]
    },
    {
     "name": "stdout",
     "output_type": "stream",
     "text": [
      "ds    datetime64[ns]\n",
      "y              int64\n",
      "dtype: object\n",
      "2020-12-31 00:00:00\n",
      "2021-01-30 00:00:00\n",
      "30 days 00:00:00\n"
     ]
    }
   ],
   "source": [
    "Resultados=Predict_Prophet(df_P_train,df_P_test,0)"
   ]
  },
  {
   "cell_type": "code",
   "execution_count": 82,
   "id": "9aa173cf",
   "metadata": {
    "hidden": true,
    "scrolled": false
   },
   "outputs": [
    {
     "data": {
      "text/html": [
       "<div>\n",
       "<style scoped>\n",
       "    .dataframe tbody tr th:only-of-type {\n",
       "        vertical-align: middle;\n",
       "    }\n",
       "\n",
       "    .dataframe tbody tr th {\n",
       "        vertical-align: top;\n",
       "    }\n",
       "\n",
       "    .dataframe thead th {\n",
       "        text-align: right;\n",
       "    }\n",
       "</style>\n",
       "<table border=\"1\" class=\"dataframe\">\n",
       "  <thead>\n",
       "    <tr style=\"text-align: right;\">\n",
       "      <th></th>\n",
       "      <th>ds</th>\n",
       "      <th>yhat</th>\n",
       "    </tr>\n",
       "  </thead>\n",
       "  <tbody>\n",
       "    <tr>\n",
       "      <th>0</th>\n",
       "      <td>2019-01-03</td>\n",
       "      <td>94.956825</td>\n",
       "    </tr>\n",
       "    <tr>\n",
       "      <th>1</th>\n",
       "      <td>2019-01-04</td>\n",
       "      <td>165.742586</td>\n",
       "    </tr>\n",
       "    <tr>\n",
       "      <th>2</th>\n",
       "      <td>2019-01-05</td>\n",
       "      <td>131.473541</td>\n",
       "    </tr>\n",
       "    <tr>\n",
       "      <th>3</th>\n",
       "      <td>2019-01-07</td>\n",
       "      <td>-7.245650</td>\n",
       "    </tr>\n",
       "    <tr>\n",
       "      <th>4</th>\n",
       "      <td>2019-01-09</td>\n",
       "      <td>163.638795</td>\n",
       "    </tr>\n",
       "  </tbody>\n",
       "</table>\n",
       "</div>"
      ],
      "text/plain": [
       "          ds        yhat\n",
       "0 2019-01-03   94.956825\n",
       "1 2019-01-04  165.742586\n",
       "2 2019-01-05  131.473541\n",
       "3 2019-01-07   -7.245650\n",
       "4 2019-01-09  163.638795"
      ]
     },
     "execution_count": 82,
     "metadata": {},
     "output_type": "execute_result"
    }
   ],
   "source": [
    "DF_Predict=Resultados[2][['ds','yhat']]#.reset_index()\n",
    "DF_Predict.head()"
   ]
  },
  {
   "cell_type": "code",
   "execution_count": 83,
   "id": "dba9a3fc",
   "metadata": {
    "hidden": true
   },
   "outputs": [
    {
     "name": "stdout",
     "output_type": "stream",
     "text": [
      "Error esperado -58.26306074059162\n",
      "(4, 6)\n"
     ]
    },
    {
     "data": {
      "text/html": [
       "<div>\n",
       "<style scoped>\n",
       "    .dataframe tbody tr th:only-of-type {\n",
       "        vertical-align: middle;\n",
       "    }\n",
       "\n",
       "    .dataframe tbody tr th {\n",
       "        vertical-align: top;\n",
       "    }\n",
       "\n",
       "    .dataframe thead th {\n",
       "        text-align: right;\n",
       "    }\n",
       "</style>\n",
       "<table border=\"1\" class=\"dataframe\">\n",
       "  <thead>\n",
       "    <tr style=\"text-align: right;\">\n",
       "      <th></th>\n",
       "      <th>Mes</th>\n",
       "      <th>Semana</th>\n",
       "      <th>y</th>\n",
       "      <th>yhat</th>\n",
       "      <th>Error</th>\n",
       "      <th>Error %</th>\n",
       "    </tr>\n",
       "  </thead>\n",
       "  <tbody>\n",
       "    <tr>\n",
       "      <th>0</th>\n",
       "      <td>1</td>\n",
       "      <td>1</td>\n",
       "      <td>637</td>\n",
       "      <td>923.894011</td>\n",
       "      <td>286.894011</td>\n",
       "      <td>3.097488</td>\n",
       "    </tr>\n",
       "    <tr>\n",
       "      <th>1</th>\n",
       "      <td>1</td>\n",
       "      <td>2</td>\n",
       "      <td>756</td>\n",
       "      <td>844.818369</td>\n",
       "      <td>88.818369</td>\n",
       "      <td>6.386167</td>\n",
       "    </tr>\n",
       "    <tr>\n",
       "      <th>2</th>\n",
       "      <td>1</td>\n",
       "      <td>3</td>\n",
       "      <td>783</td>\n",
       "      <td>591.827363</td>\n",
       "      <td>-191.172637</td>\n",
       "      <td>0.774745</td>\n",
       "    </tr>\n",
       "    <tr>\n",
       "      <th>3</th>\n",
       "      <td>1</td>\n",
       "      <td>4</td>\n",
       "      <td>1814</td>\n",
       "      <td>464.199043</td>\n",
       "      <td>-1349.800957</td>\n",
       "      <td>-0.253887</td>\n",
       "    </tr>\n",
       "  </tbody>\n",
       "</table>\n",
       "</div>"
      ],
      "text/plain": [
       "  Mes Semana     y        yhat        Error   Error %\n",
       "0   1      1   637  923.894011   286.894011  3.097488\n",
       "1   1      2   756  844.818369    88.818369  6.386167\n",
       "2   1      3   783  591.827363  -191.172637  0.774745\n",
       "3   1      4  1814  464.199043 -1349.800957 -0.253887"
      ]
     },
     "execution_count": 83,
     "metadata": {},
     "output_type": "execute_result"
    }
   ],
   "source": [
    "Error_DF_Sum=Error_Pred(DF_Predict,df_P_test)\n",
    "Error_DF_Sum"
   ]
  },
  {
   "cell_type": "markdown",
   "id": "cdccce7b",
   "metadata": {
    "hidden": true
   },
   "source": [
    "#### iteracion demas meses "
   ]
  },
  {
   "cell_type": "code",
   "execution_count": 84,
   "id": "202f668f",
   "metadata": {
    "hidden": true,
    "scrolled": true
   },
   "outputs": [
    {
     "name": "stderr",
     "output_type": "stream",
     "text": [
      "INFO:fbprophet:Disabling daily seasonality. Run prophet with daily_seasonality=True to override this.\n"
     ]
    },
    {
     "name": "stdout",
     "output_type": "stream",
     "text": [
      "\n",
      " 2\n",
      "tail train: 2021-01-30 00:00:00\n",
      "tail test: 2021-02-27 00:00:00\n",
      "ds    datetime64[ns]\n",
      "y              int64\n",
      "dtype: object\n",
      "2021-01-30 00:00:00\n",
      "2021-02-27 00:00:00\n",
      "28 days 00:00:00\n"
     ]
    },
    {
     "name": "stderr",
     "output_type": "stream",
     "text": [
      "INFO:fbprophet:Disabling daily seasonality. Run prophet with daily_seasonality=True to override this.\n"
     ]
    },
    {
     "name": "stdout",
     "output_type": "stream",
     "text": [
      "Error esperado -2.1733657901484364\n",
      "(4, 6)\n",
      "\n",
      " 3\n",
      "tail train: 2021-02-27 00:00:00\n",
      "tail test: 2021-03-31 00:00:00\n",
      "ds    datetime64[ns]\n",
      "y              int64\n",
      "dtype: object\n",
      "2021-02-27 00:00:00\n",
      "2021-03-31 00:00:00\n",
      "32 days 00:00:00\n"
     ]
    },
    {
     "name": "stderr",
     "output_type": "stream",
     "text": [
      "INFO:fbprophet:Disabling daily seasonality. Run prophet with daily_seasonality=True to override this.\n"
     ]
    },
    {
     "name": "stdout",
     "output_type": "stream",
     "text": [
      "Error esperado -143.3705510730103\n",
      "(5, 6)\n",
      "\n",
      " 4\n",
      "tail train: 2021-03-31 00:00:00\n",
      "tail test: 2021-04-30 00:00:00\n",
      "ds    datetime64[ns]\n",
      "y              int64\n",
      "dtype: object\n",
      "2021-03-31 00:00:00\n",
      "2021-04-30 00:00:00\n",
      "30 days 00:00:00\n"
     ]
    },
    {
     "name": "stderr",
     "output_type": "stream",
     "text": [
      "INFO:fbprophet:Disabling daily seasonality. Run prophet with daily_seasonality=True to override this.\n"
     ]
    },
    {
     "name": "stdout",
     "output_type": "stream",
     "text": [
      "Error esperado -68.7069063515258\n",
      "(4, 6)\n",
      "\n",
      " 5\n",
      "tail train: 2021-04-30 00:00:00\n",
      "tail test: 2021-05-20 00:00:00\n",
      "ds    datetime64[ns]\n",
      "y              int64\n",
      "dtype: object\n",
      "2021-04-30 00:00:00\n",
      "2021-05-20 00:00:00\n",
      "20 days 00:00:00\n",
      "Error esperado 17.148701751237265\n",
      "(3, 6)\n"
     ]
    }
   ],
   "source": [
    "for i in range(2,6):\n",
    "    print('\\n',i)\n",
    "    #FECHA DE TERMINO\n",
    "    df_P_train=df_P[df_P.ds<datetime.date(2021, i, 1)].copy()\n",
    "\n",
    "    #FECHA DE PRUEBA\n",
    "    df_P_test=df_P[df_P.ds>datetime.date(2021, i, 1)].copy()\n",
    "    df_P_test=df_P_test[df_P_test.ds<datetime.date(2021, i+1, 1)]\n",
    "    # convert dates from string to datetime\n",
    "    df_P_train.ds = pd.to_datetime(df_P_train.ds)\n",
    "    # convert dates from string to datetime\n",
    "    df_P_test.ds = pd.to_datetime(df_P_test.ds)\n",
    "    #print(df_P_test.dtypes,df_P_train.dtypes)\n",
    "\n",
    "    print('tail train:',df_P_train.tail(1).ds.iloc[0])\n",
    "    print('tail test:',df_P_test.tail(1).ds.iloc[0])\n",
    "    \n",
    "    Resultados=Predict_Prophet(df_P_train,df_P_test,0)\n",
    "    DF_Predict=Resultados[2][['ds','yhat']]#.reset_index()\n",
    "    di=Error_Pred(DF_Predict,df_P_test)\n",
    "    Error_DF_Sum=pd.concat([Error_DF_Sum, di])"
   ]
  },
  {
   "cell_type": "code",
   "execution_count": 85,
   "id": "c9e2ec34",
   "metadata": {
    "hidden": true
   },
   "outputs": [],
   "source": [
    "Error_DF_Sum.Mes=Error_DF_Sum.Mes.astype('category')"
   ]
  },
  {
   "cell_type": "code",
   "execution_count": 86,
   "id": "b18a68a2",
   "metadata": {
    "hidden": true
   },
   "outputs": [
    {
     "data": {
      "image/png": "[encoded data removed]",
      "text/plain": [
       "<Figure size 640x480 with 1 Axes>"
      ]
     },
     "metadata": {
      "image/png": {
       "height": 429,
       "width": 662
      }
     },
     "output_type": "display_data"
    },
    {
     "data": {
      "text/plain": [
       "<ggplot: (124111589843)>"
      ]
     },
     "execution_count": 86,
     "metadata": {},
     "output_type": "execute_result"
    }
   ],
   "source": [
    "ggplot(Error_DF_Sum, aes(x=Error_DF_Sum.Semana,y='Error'))+\\\n",
    "geom_col(aes(fill='Mes'))"
   ]
  },
  {
   "cell_type": "code",
   "execution_count": 87,
   "id": "9d263882",
   "metadata": {
    "hidden": true,
    "scrolled": false
   },
   "outputs": [
    {
     "data": {
      "text/html": [
       "<div>\n",
       "<style scoped>\n",
       "    .dataframe tbody tr th:only-of-type {\n",
       "        vertical-align: middle;\n",
       "    }\n",
       "\n",
       "    .dataframe tbody tr th {\n",
       "        vertical-align: top;\n",
       "    }\n",
       "\n",
       "    .dataframe thead th {\n",
       "        text-align: right;\n",
       "    }\n",
       "</style>\n",
       "<table border=\"1\" class=\"dataframe\">\n",
       "  <thead>\n",
       "    <tr style=\"text-align: right;\">\n",
       "      <th></th>\n",
       "      <th>Mes</th>\n",
       "      <th>Semana</th>\n",
       "      <th>y</th>\n",
       "      <th>yhat</th>\n",
       "      <th>Error</th>\n",
       "      <th>Error %</th>\n",
       "    </tr>\n",
       "  </thead>\n",
       "  <tbody>\n",
       "    <tr>\n",
       "      <th>0</th>\n",
       "      <td>1</td>\n",
       "      <td>1</td>\n",
       "      <td>637</td>\n",
       "      <td>923.894011</td>\n",
       "      <td>286.894011</td>\n",
       "      <td>0.450383</td>\n",
       "    </tr>\n",
       "    <tr>\n",
       "      <th>1</th>\n",
       "      <td>1</td>\n",
       "      <td>2</td>\n",
       "      <td>756</td>\n",
       "      <td>844.818369</td>\n",
       "      <td>88.818369</td>\n",
       "      <td>0.117485</td>\n",
       "    </tr>\n",
       "    <tr>\n",
       "      <th>2</th>\n",
       "      <td>1</td>\n",
       "      <td>3</td>\n",
       "      <td>783</td>\n",
       "      <td>591.827363</td>\n",
       "      <td>-191.172637</td>\n",
       "      <td>-0.244154</td>\n",
       "    </tr>\n",
       "    <tr>\n",
       "      <th>3</th>\n",
       "      <td>1</td>\n",
       "      <td>4</td>\n",
       "      <td>1814</td>\n",
       "      <td>464.199043</td>\n",
       "      <td>-1349.800957</td>\n",
       "      <td>-0.744102</td>\n",
       "    </tr>\n",
       "    <tr>\n",
       "      <th>0</th>\n",
       "      <td>2</td>\n",
       "      <td>5</td>\n",
       "      <td>587</td>\n",
       "      <td>858.886554</td>\n",
       "      <td>271.886554</td>\n",
       "      <td>0.463180</td>\n",
       "    </tr>\n",
       "  </tbody>\n",
       "</table>\n",
       "</div>"
      ],
      "text/plain": [
       "  Mes  Semana     y        yhat        Error   Error %\n",
       "0   1       1   637  923.894011   286.894011  0.450383\n",
       "1   1       2   756  844.818369    88.818369  0.117485\n",
       "2   1       3   783  591.827363  -191.172637 -0.244154\n",
       "3   1       4  1814  464.199043 -1349.800957 -0.744102\n",
       "0   2       5   587  858.886554   271.886554  0.463180"
      ]
     },
     "execution_count": 87,
     "metadata": {},
     "output_type": "execute_result"
    }
   ],
   "source": [
    "Error_DF_Sum['Error %']=Error_DF_Sum.yhat/Error_DF_Sum.y-1\n",
    "Error_DF_Sum.head()"
   ]
  },
  {
   "cell_type": "code",
   "execution_count": 88,
   "id": "e8198278",
   "metadata": {
    "hidden": true,
    "scrolled": false
   },
   "outputs": [
    {
     "data": {
      "image/png": "[encoded data removed]",
      "text/plain": [
       "<Figure size 640x480 with 1 Axes>"
      ]
     },
     "metadata": {
      "image/png": {
       "height": 429,
       "width": 650
      }
     },
     "output_type": "display_data"
    },
    {
     "data": {
      "text/plain": [
       "<ggplot: (124111665330)>"
      ]
     },
     "execution_count": 88,
     "metadata": {},
     "output_type": "execute_result"
    }
   ],
   "source": [
    "ggplot(Error_DF_Sum[Error_DF_Sum['Error %']<=2], aes(x='Semana',y='Error %'))+\\\n",
    "geom_col(aes(fill='Mes'))"
   ]
  },
  {
   "cell_type": "code",
   "execution_count": 89,
   "id": "d7d3e128",
   "metadata": {
    "hidden": true,
    "scrolled": false
   },
   "outputs": [
    {
     "data": {
      "text/plain": [
       "count      20.000000\n",
       "mean     -304.189225\n",
       "std       768.969815\n",
       "min     -1839.376352\n",
       "25%      -717.930634\n",
       "50%       -52.013102\n",
       "75%       209.469906\n",
       "max       798.757966\n",
       "Name: Error, dtype: float64"
      ]
     },
     "execution_count": 89,
     "metadata": {},
     "output_type": "execute_result"
    }
   ],
   "source": [
    "Error_DF_Sum.Error.describe()"
   ]
  },
  {
   "cell_type": "markdown",
   "id": "0e89b415",
   "metadata": {
    "hidden": true
   },
   "source": [
    "#### group mensual "
   ]
  },
  {
   "cell_type": "code",
   "execution_count": 90,
   "id": "d2a0932d",
   "metadata": {
    "hidden": true,
    "scrolled": false
   },
   "outputs": [
    {
     "name": "stdout",
     "output_type": "stream",
     "text": [
      "-304.1892245098846\n"
     ]
    },
    {
     "data": {
      "text/html": [
       "<div>\n",
       "<style scoped>\n",
       "    .dataframe tbody tr th:only-of-type {\n",
       "        vertical-align: middle;\n",
       "    }\n",
       "\n",
       "    .dataframe tbody tr th {\n",
       "        vertical-align: top;\n",
       "    }\n",
       "\n",
       "    .dataframe thead th {\n",
       "        text-align: right;\n",
       "    }\n",
       "</style>\n",
       "<table border=\"1\" class=\"dataframe\">\n",
       "  <thead>\n",
       "    <tr style=\"text-align: right;\">\n",
       "      <th></th>\n",
       "      <th>Mes</th>\n",
       "      <th>Semana</th>\n",
       "      <th>y</th>\n",
       "      <th>yhat</th>\n",
       "      <th>Error</th>\n",
       "      <th>Error %</th>\n",
       "    </tr>\n",
       "  </thead>\n",
       "  <tbody>\n",
       "    <tr>\n",
       "      <th>0</th>\n",
       "      <td>1</td>\n",
       "      <td>10</td>\n",
       "      <td>3990</td>\n",
       "      <td>2824.738785</td>\n",
       "      <td>-1165.261215</td>\n",
       "      <td>-0.420388</td>\n",
       "    </tr>\n",
       "    <tr>\n",
       "      <th>1</th>\n",
       "      <td>2</td>\n",
       "      <td>26</td>\n",
       "      <td>4308</td>\n",
       "      <td>4262.359318</td>\n",
       "      <td>-45.640682</td>\n",
       "      <td>0.510955</td>\n",
       "    </tr>\n",
       "    <tr>\n",
       "      <th>2</th>\n",
       "      <td>3</td>\n",
       "      <td>55</td>\n",
       "      <td>7121</td>\n",
       "      <td>3536.736223</td>\n",
       "      <td>-3584.263777</td>\n",
       "      <td>-1.270207</td>\n",
       "    </tr>\n",
       "    <tr>\n",
       "      <th>3</th>\n",
       "      <td>4</td>\n",
       "      <td>62</td>\n",
       "      <td>6945</td>\n",
       "      <td>5433.448060</td>\n",
       "      <td>-1511.551940</td>\n",
       "      <td>0.008330</td>\n",
       "    </tr>\n",
       "    <tr>\n",
       "      <th>4</th>\n",
       "      <td>5</td>\n",
       "      <td>57</td>\n",
       "      <td>1315</td>\n",
       "      <td>1537.933123</td>\n",
       "      <td>222.933123</td>\n",
       "      <td>1.976632</td>\n",
       "    </tr>\n",
       "  </tbody>\n",
       "</table>\n",
       "</div>"
      ],
      "text/plain": [
       "  Mes  Semana     y         yhat        Error   Error %\n",
       "0   1      10  3990  2824.738785 -1165.261215 -0.420388\n",
       "1   2      26  4308  4262.359318   -45.640682  0.510955\n",
       "2   3      55  7121  3536.736223 -3584.263777 -1.270207\n",
       "3   4      62  6945  5433.448060 -1511.551940  0.008330\n",
       "4   5      57  1315  1537.933123   222.933123  1.976632"
      ]
     },
     "execution_count": 90,
     "metadata": {},
     "output_type": "execute_result"
    }
   ],
   "source": [
    "tmp2=Error_DF_Sum.copy()\n",
    "tmp2.Error=tmp2.Error.astype('float64')#.abs()\n",
    "tmp2.Mes=tmp2.Mes.astype('category')\n",
    "\n",
    "print(tmp2.Error.mean())\n",
    "\n",
    "dx=tmp2.groupby('Mes').sum().reset_index()#['Mes','Error']\n",
    "dx"
   ]
  },
  {
   "cell_type": "code",
   "execution_count": 91,
   "id": "8a906747",
   "metadata": {
    "hidden": true
   },
   "outputs": [
    {
     "data": {
      "image/png": "[encoded data removed]",
      "text/plain": [
       "<Figure size 640x480 with 1 Axes>"
      ]
     },
     "metadata": {
      "image/png": {
       "height": 429,
       "width": 662
      }
     },
     "output_type": "display_data"
    },
    {
     "data": {
      "text/plain": [
       "<ggplot: (124115520868)>"
      ]
     },
     "execution_count": 91,
     "metadata": {},
     "output_type": "execute_result"
    }
   ],
   "source": [
    "ggplot(dx, aes(x=dx.Mes,y='Error'))+\\\n",
    "geom_col(aes(fill='Mes'))"
   ]
  },
  {
   "cell_type": "code",
   "execution_count": 92,
   "id": "933d637b",
   "metadata": {
    "hidden": true,
    "scrolled": false
   },
   "outputs": [
    {
     "data": {
      "image/png": "[encoded data removed]",
      "text/plain": [
       "<Figure size 640x480 with 1 Axes>"
      ]
     },
     "metadata": {
      "image/png": {
       "height": 429,
       "width": 639
      }
     },
     "output_type": "display_data"
    },
    {
     "data": {
      "text/plain": [
       "<ggplot: (124111811850)>"
      ]
     },
     "execution_count": 92,
     "metadata": {},
     "output_type": "execute_result"
    }
   ],
   "source": [
    "ggplot(dx, aes(x=dx.Mes,y='Error %'))+\\\n",
    "geom_col(aes(fill='Mes'))"
   ]
  },
  {
   "cell_type": "code",
   "execution_count": 93,
   "id": "f925a349",
   "metadata": {
    "hidden": true,
    "scrolled": true
   },
   "outputs": [
    {
     "data": {
      "text/plain": [
       "<AxesSubplot:>"
      ]
     },
     "execution_count": 93,
     "metadata": {},
     "output_type": "execute_result"
    },
    {
     "data": {
      "image/png": "[encoded data removed]",
      "text/plain": [
       "<Figure size 432x288 with 1 Axes>"
      ]
     },
     "metadata": {
      "image/png": {
       "height": 248,
       "width": 378
      },
      "needs_background": "light"
     },
     "output_type": "display_data"
    }
   ],
   "source": [
    "dx.Error.hist()"
   ]
  },
  {
   "cell_type": "markdown",
   "id": "f621a419",
   "metadata": {
    "heading_collapsed": true,
    "hidden": true
   },
   "source": [
    "## csv create"
   ]
  },
  {
   "cell_type": "markdown",
   "id": "e40fca4d",
   "metadata": {
    "hidden": true
   },
   "source": [
    "###  Particion"
   ]
  },
  {
   "cell_type": "code",
   "execution_count": 94,
   "id": "8b872a2a",
   "metadata": {
    "hidden": true
   },
   "outputs": [
    {
     "name": "stdout",
     "output_type": "stream",
     "text": [
      "tail train: 2020-12-31 00:00:00\n",
      "tail test: 2021-01-30 00:00:00\n"
     ]
    }
   ],
   "source": [
    "i=1\n",
    "#FECHA DE TERMINO\n",
    "df_P_train=df_P[df_P.ds<datetime.date(2021, i, 1)].copy()\n",
    "\n",
    "#FECHA DE PRUEBA\n",
    "df_P_test=df_P[df_P.ds>datetime.date(2021, i, 1)].copy()\n",
    "df_P_test=df_P_test[df_P_test.ds<datetime.date(2021, i+1, 1)]\n",
    "# convert dates from string to datetime\n",
    "df_P_train.ds = pd.to_datetime(df_P_train.ds)\n",
    "# convert dates from string to datetime\n",
    "df_P_test.ds = pd.to_datetime(df_P_test.ds)\n",
    "#print(df_P_test.dtypes,df_P_train.dtypes)\n",
    "\n",
    "print('tail train:',df_P_train.tail(1).ds.iloc[0])\n",
    "print('tail test:',df_P_test.tail(1).ds.iloc[0])"
   ]
  },
  {
   "cell_type": "markdown",
   "id": "b9684c7e",
   "metadata": {
    "hidden": true
   },
   "source": [
    "### funciónes"
   ]
  },
  {
   "cell_type": "markdown",
   "id": "10b87ab7",
   "metadata": {
    "hidden": true
   },
   "source": [
    "#### Predicción"
   ]
  },
  {
   "cell_type": "code",
   "execution_count": 95,
   "id": "9c2e4c2b",
   "metadata": {
    "hidden": true
   },
   "outputs": [],
   "source": [
    "def Predict_Prophet(D_Train,D_Test,periodos):\n",
    "    \n",
    "    #D_propht:= Df utilizado para predecir\n",
    "    # ds es date\n",
    "    # y es la variable a predecir\n",
    "    \n",
    "    \n",
    "    \n",
    "    \n",
    "    # column names for prophet compliance\n",
    "    D_Train.columns = ['ds','y']\n",
    "    #D_propht.head(3)\n",
    "    \n",
    "    # convert dates from string to datetime\n",
    "    D_Train.ds = pd.to_datetime(D_Train.ds)\n",
    "    print(D_Train.dtypes)\n",
    "    \n",
    "    \"\"\"\n",
    "    #imprime la grafica de dispersión de los datos\n",
    "    print_simpl_graph(D_Train)\n",
    "    print_simpl_graph(D_Test)\n",
    "    \"\"\"\n",
    "    # set prophet model \n",
    "    prophet = Prophet(changepoint_prior_scale=0.15, yearly_seasonality=True)\n",
    "    \n",
    "    # fit $wmt data to model\n",
    "    prophet.fit(D_Train)\n",
    "    \n",
    "    \n",
    "    \n",
    "    \n",
    "    largo=D_Test.tail(1).ds.iloc[0]-D_Train.tail(1).ds.iloc[0]\n",
    "    #prophet.make_future_dataframe(periods= abs(largo.days)+5 , freq='D').tail()\n",
    "    print(D_Train.tail(1).ds.iloc[0])\n",
    "    print(D_Test.tail(1).ds.iloc[0])\n",
    "    print(largo)\n",
    "    \n",
    "    \n",
    "    # build future dataframe for 5 years\n",
    "    build_forecast = prophet.make_future_dataframe(periods= abs(largo.days) , freq='D')\n",
    "    #prophet.make_future_dataframe(periods= periodos, freq='D')\n",
    "    \n",
    "    # forecast future df w/ model\n",
    "    forecast = prophet.predict(build_forecast)\n",
    "    \n",
    "    \n",
    "    \n",
    "    \"\"\"\n",
    "    #plot forecasts\n",
    "    prophet.plot(forecast, xlabel='Date', ylabel= y_value)\n",
    "    plt.plot(D_Test.ds, D_Test.y, color='red', marker='o', linestyle=':',markersize=4,)\n",
    "    plt.title('Comportamiento '+ y_title)\n",
    "    # display graph\n",
    "    plt.show()\n",
    "\n",
    "    \n",
    "    # tell us more about the forecast\n",
    "    prophet.plot_components(forecast)\n",
    "    \"\"\"\n",
    "    return(prophet,build_forecast,forecast)"
   ]
  },
  {
   "cell_type": "markdown",
   "id": "0d5d2bdc",
   "metadata": {
    "hidden": true
   },
   "source": [
    "#### Error"
   ]
  },
  {
   "cell_type": "code",
   "execution_count": 96,
   "id": "275914f3",
   "metadata": {
    "hidden": true,
    "scrolled": false
   },
   "outputs": [],
   "source": [
    "def Error_Pred(DF_Predict,df_P_test):\n",
    "    DF_E=pd.merge(df_P_test,DF_Predict\n",
    "                     , how='left')\n",
    "    DF_E['Error']=DF_E['yhat']-DF_E.y\n",
    "    \n",
    "    DF_E['Error %']=DF_E['yhat']/DF_E.y-1\n",
    "    \"\"\"\n",
    "    DF_E.Error.hist()\n",
    "    plt.show()\n",
    "    \"\"\"\n",
    "    \n",
    "    tempo=DF_E.copy()\n",
    "    tempo['Semana']=tempo.ds.apply(lambda x: x.week).astype('category')\n",
    "    tempo['Mes']=tempo.ds.apply(lambda x: x.month).astype('category')\n",
    "    tempo.Error=tempo.Error.astype('float64')#.abs()\n",
    "\n",
    "    \"\"\"\n",
    "    tmp.Error.hist()\n",
    "    plt.show()\n",
    "    \"\"\"\n",
    "    \n",
    "    return(tempo)"
   ]
  },
  {
   "cell_type": "markdown",
   "id": "a0986f6f",
   "metadata": {
    "hidden": true
   },
   "source": [
    "### Predicciones siguientes "
   ]
  },
  {
   "cell_type": "code",
   "execution_count": 97,
   "id": "84091816",
   "metadata": {
    "hidden": true,
    "scrolled": true
   },
   "outputs": [
    {
     "name": "stdout",
     "output_type": "stream",
     "text": [
      "ds    datetime64[ns]\n",
      "y              int64\n",
      "dtype: object\n"
     ]
    },
    {
     "name": "stderr",
     "output_type": "stream",
     "text": [
      "INFO:fbprophet:Disabling daily seasonality. Run prophet with daily_seasonality=True to override this.\n"
     ]
    },
    {
     "name": "stdout",
     "output_type": "stream",
     "text": [
      "2020-12-31 00:00:00\n",
      "2021-01-30 00:00:00\n",
      "30 days 00:00:00\n"
     ]
    }
   ],
   "source": [
    "Resultados=Predict_Prophet(df_P_train,df_P_test,0)"
   ]
  },
  {
   "cell_type": "code",
   "execution_count": 98,
   "id": "b8a65e22",
   "metadata": {
    "hidden": true,
    "scrolled": false
   },
   "outputs": [
    {
     "data": {
      "text/html": [
       "<div>\n",
       "<style scoped>\n",
       "    .dataframe tbody tr th:only-of-type {\n",
       "        vertical-align: middle;\n",
       "    }\n",
       "\n",
       "    .dataframe tbody tr th {\n",
       "        vertical-align: top;\n",
       "    }\n",
       "\n",
       "    .dataframe thead th {\n",
       "        text-align: right;\n",
       "    }\n",
       "</style>\n",
       "<table border=\"1\" class=\"dataframe\">\n",
       "  <thead>\n",
       "    <tr style=\"text-align: right;\">\n",
       "      <th></th>\n",
       "      <th>ds</th>\n",
       "      <th>yhat</th>\n",
       "    </tr>\n",
       "  </thead>\n",
       "  <tbody>\n",
       "    <tr>\n",
       "      <th>0</th>\n",
       "      <td>2019-01-03</td>\n",
       "      <td>94.956825</td>\n",
       "    </tr>\n",
       "    <tr>\n",
       "      <th>1</th>\n",
       "      <td>2019-01-04</td>\n",
       "      <td>165.742586</td>\n",
       "    </tr>\n",
       "    <tr>\n",
       "      <th>2</th>\n",
       "      <td>2019-01-05</td>\n",
       "      <td>131.473541</td>\n",
       "    </tr>\n",
       "    <tr>\n",
       "      <th>3</th>\n",
       "      <td>2019-01-07</td>\n",
       "      <td>-7.245650</td>\n",
       "    </tr>\n",
       "    <tr>\n",
       "      <th>4</th>\n",
       "      <td>2019-01-09</td>\n",
       "      <td>163.638795</td>\n",
       "    </tr>\n",
       "  </tbody>\n",
       "</table>\n",
       "</div>"
      ],
      "text/plain": [
       "          ds        yhat\n",
       "0 2019-01-03   94.956825\n",
       "1 2019-01-04  165.742586\n",
       "2 2019-01-05  131.473541\n",
       "3 2019-01-07   -7.245650\n",
       "4 2019-01-09  163.638795"
      ]
     },
     "execution_count": 98,
     "metadata": {},
     "output_type": "execute_result"
    }
   ],
   "source": [
    "DF_Predict=Resultados[2][['ds','yhat']]#.reset_index()\n",
    "DF_Predict.head()"
   ]
  },
  {
   "cell_type": "code",
   "execution_count": 99,
   "id": "b0fda596",
   "metadata": {
    "hidden": true,
    "scrolled": true
   },
   "outputs": [
    {
     "data": {
      "text/html": [
       "<div>\n",
       "<style scoped>\n",
       "    .dataframe tbody tr th:only-of-type {\n",
       "        vertical-align: middle;\n",
       "    }\n",
       "\n",
       "    .dataframe tbody tr th {\n",
       "        vertical-align: top;\n",
       "    }\n",
       "\n",
       "    .dataframe thead th {\n",
       "        text-align: right;\n",
       "    }\n",
       "</style>\n",
       "<table border=\"1\" class=\"dataframe\">\n",
       "  <thead>\n",
       "    <tr style=\"text-align: right;\">\n",
       "      <th></th>\n",
       "      <th>ds</th>\n",
       "      <th>y</th>\n",
       "      <th>yhat</th>\n",
       "      <th>Error</th>\n",
       "      <th>Error %</th>\n",
       "      <th>Semana</th>\n",
       "      <th>Mes</th>\n",
       "    </tr>\n",
       "  </thead>\n",
       "  <tbody>\n",
       "    <tr>\n",
       "      <th>0</th>\n",
       "      <td>2021-01-05</td>\n",
       "      <td>84</td>\n",
       "      <td>65.417166</td>\n",
       "      <td>-18.582834</td>\n",
       "      <td>-0.221224</td>\n",
       "      <td>1</td>\n",
       "      <td>1</td>\n",
       "    </tr>\n",
       "    <tr>\n",
       "      <th>1</th>\n",
       "      <td>2021-01-06</td>\n",
       "      <td>65</td>\n",
       "      <td>196.318291</td>\n",
       "      <td>131.318291</td>\n",
       "      <td>2.020281</td>\n",
       "      <td>1</td>\n",
       "      <td>1</td>\n",
       "    </tr>\n",
       "    <tr>\n",
       "      <th>2</th>\n",
       "      <td>2021-01-07</td>\n",
       "      <td>112</td>\n",
       "      <td>190.286956</td>\n",
       "      <td>78.286956</td>\n",
       "      <td>0.698991</td>\n",
       "      <td>1</td>\n",
       "      <td>1</td>\n",
       "    </tr>\n",
       "    <tr>\n",
       "      <th>3</th>\n",
       "      <td>2021-01-08</td>\n",
       "      <td>160</td>\n",
       "      <td>256.021095</td>\n",
       "      <td>96.021095</td>\n",
       "      <td>0.600132</td>\n",
       "      <td>1</td>\n",
       "      <td>1</td>\n",
       "    </tr>\n",
       "    <tr>\n",
       "      <th>4</th>\n",
       "      <td>2021-01-09</td>\n",
       "      <td>216</td>\n",
       "      <td>215.850503</td>\n",
       "      <td>-0.149497</td>\n",
       "      <td>-0.000692</td>\n",
       "      <td>1</td>\n",
       "      <td>1</td>\n",
       "    </tr>\n",
       "    <tr>\n",
       "      <th>5</th>\n",
       "      <td>2021-01-11</td>\n",
       "      <td>157</td>\n",
       "      <td>63.295570</td>\n",
       "      <td>-93.704430</td>\n",
       "      <td>-0.596844</td>\n",
       "      <td>2</td>\n",
       "      <td>1</td>\n",
       "    </tr>\n",
       "    <tr>\n",
       "      <th>6</th>\n",
       "      <td>2021-01-12</td>\n",
       "      <td>121</td>\n",
       "      <td>97.387351</td>\n",
       "      <td>-23.612649</td>\n",
       "      <td>-0.195146</td>\n",
       "      <td>2</td>\n",
       "      <td>1</td>\n",
       "    </tr>\n",
       "    <tr>\n",
       "      <th>7</th>\n",
       "      <td>2021-01-13</td>\n",
       "      <td>156</td>\n",
       "      <td>218.647234</td>\n",
       "      <td>62.647234</td>\n",
       "      <td>0.401585</td>\n",
       "      <td>2</td>\n",
       "      <td>1</td>\n",
       "    </tr>\n",
       "    <tr>\n",
       "      <th>8</th>\n",
       "      <td>2021-01-15</td>\n",
       "      <td>32</td>\n",
       "      <td>257.949468</td>\n",
       "      <td>225.949468</td>\n",
       "      <td>7.060921</td>\n",
       "      <td>2</td>\n",
       "      <td>1</td>\n",
       "    </tr>\n",
       "    <tr>\n",
       "      <th>9</th>\n",
       "      <td>2021-01-16</td>\n",
       "      <td>290</td>\n",
       "      <td>207.538746</td>\n",
       "      <td>-82.461254</td>\n",
       "      <td>-0.284349</td>\n",
       "      <td>2</td>\n",
       "      <td>1</td>\n",
       "    </tr>\n",
       "    <tr>\n",
       "      <th>10</th>\n",
       "      <td>2021-01-19</td>\n",
       "      <td>323</td>\n",
       "      <td>61.259846</td>\n",
       "      <td>-261.740154</td>\n",
       "      <td>-0.810341</td>\n",
       "      <td>3</td>\n",
       "      <td>1</td>\n",
       "    </tr>\n",
       "    <tr>\n",
       "      <th>11</th>\n",
       "      <td>2021-01-20</td>\n",
       "      <td>154</td>\n",
       "      <td>174.994350</td>\n",
       "      <td>20.994350</td>\n",
       "      <td>0.136327</td>\n",
       "      <td>3</td>\n",
       "      <td>1</td>\n",
       "    </tr>\n",
       "    <tr>\n",
       "      <th>12</th>\n",
       "      <td>2021-01-21</td>\n",
       "      <td>58</td>\n",
       "      <td>152.545813</td>\n",
       "      <td>94.545813</td>\n",
       "      <td>1.630100</td>\n",
       "      <td>3</td>\n",
       "      <td>1</td>\n",
       "    </tr>\n",
       "    <tr>\n",
       "      <th>13</th>\n",
       "      <td>2021-01-22</td>\n",
       "      <td>248</td>\n",
       "      <td>203.027354</td>\n",
       "      <td>-44.972646</td>\n",
       "      <td>-0.181341</td>\n",
       "      <td>3</td>\n",
       "      <td>1</td>\n",
       "    </tr>\n",
       "    <tr>\n",
       "      <th>14</th>\n",
       "      <td>2021-01-25</td>\n",
       "      <td>222</td>\n",
       "      <td>-24.830917</td>\n",
       "      <td>-246.830917</td>\n",
       "      <td>-1.111851</td>\n",
       "      <td>4</td>\n",
       "      <td>1</td>\n",
       "    </tr>\n",
       "    <tr>\n",
       "      <th>15</th>\n",
       "      <td>2021-01-26</td>\n",
       "      <td>197</td>\n",
       "      <td>2.071405</td>\n",
       "      <td>-194.928595</td>\n",
       "      <td>-0.989485</td>\n",
       "      <td>4</td>\n",
       "      <td>1</td>\n",
       "    </tr>\n",
       "    <tr>\n",
       "      <th>16</th>\n",
       "      <td>2021-01-27</td>\n",
       "      <td>390</td>\n",
       "      <td>118.750955</td>\n",
       "      <td>-271.249045</td>\n",
       "      <td>-0.695510</td>\n",
       "      <td>4</td>\n",
       "      <td>1</td>\n",
       "    </tr>\n",
       "    <tr>\n",
       "      <th>17</th>\n",
       "      <td>2021-01-28</td>\n",
       "      <td>374</td>\n",
       "      <td>100.761605</td>\n",
       "      <td>-273.238395</td>\n",
       "      <td>-0.730584</td>\n",
       "      <td>4</td>\n",
       "      <td>1</td>\n",
       "    </tr>\n",
       "    <tr>\n",
       "      <th>18</th>\n",
       "      <td>2021-01-29</td>\n",
       "      <td>609</td>\n",
       "      <td>157.103368</td>\n",
       "      <td>-451.896632</td>\n",
       "      <td>-0.742031</td>\n",
       "      <td>4</td>\n",
       "      <td>1</td>\n",
       "    </tr>\n",
       "    <tr>\n",
       "      <th>19</th>\n",
       "      <td>2021-01-30</td>\n",
       "      <td>22</td>\n",
       "      <td>110.342627</td>\n",
       "      <td>88.342627</td>\n",
       "      <td>4.015574</td>\n",
       "      <td>4</td>\n",
       "      <td>1</td>\n",
       "    </tr>\n",
       "  </tbody>\n",
       "</table>\n",
       "</div>"
      ],
      "text/plain": [
       "           ds    y        yhat       Error   Error % Semana Mes\n",
       "0  2021-01-05   84   65.417166  -18.582834 -0.221224      1   1\n",
       "1  2021-01-06   65  196.318291  131.318291  2.020281      1   1\n",
       "2  2021-01-07  112  190.286956   78.286956  0.698991      1   1\n",
       "3  2021-01-08  160  256.021095   96.021095  0.600132      1   1\n",
       "4  2021-01-09  216  215.850503   -0.149497 -0.000692      1   1\n",
       "5  2021-01-11  157   63.295570  -93.704430 -0.596844      2   1\n",
       "6  2021-01-12  121   97.387351  -23.612649 -0.195146      2   1\n",
       "7  2021-01-13  156  218.647234   62.647234  0.401585      2   1\n",
       "8  2021-01-15   32  257.949468  225.949468  7.060921      2   1\n",
       "9  2021-01-16  290  207.538746  -82.461254 -0.284349      2   1\n",
       "10 2021-01-19  323   61.259846 -261.740154 -0.810341      3   1\n",
       "11 2021-01-20  154  174.994350   20.994350  0.136327      3   1\n",
       "12 2021-01-21   58  152.545813   94.545813  1.630100      3   1\n",
       "13 2021-01-22  248  203.027354  -44.972646 -0.181341      3   1\n",
       "14 2021-01-25  222  -24.830917 -246.830917 -1.111851      4   1\n",
       "15 2021-01-26  197    2.071405 -194.928595 -0.989485      4   1\n",
       "16 2021-01-27  390  118.750955 -271.249045 -0.695510      4   1\n",
       "17 2021-01-28  374  100.761605 -273.238395 -0.730584      4   1\n",
       "18 2021-01-29  609  157.103368 -451.896632 -0.742031      4   1\n",
       "19 2021-01-30   22  110.342627   88.342627  4.015574      4   1"
      ]
     },
     "execution_count": 99,
     "metadata": {},
     "output_type": "execute_result"
    }
   ],
   "source": [
    "Error_DF_Sum=Error_Pred(DF_Predict,df_P_test)\n",
    "Error_DF_Sum"
   ]
  },
  {
   "cell_type": "markdown",
   "id": "0d02c271",
   "metadata": {
    "hidden": true
   },
   "source": [
    "#### iteracion demas meses "
   ]
  },
  {
   "cell_type": "code",
   "execution_count": 100,
   "id": "07b4e950",
   "metadata": {
    "hidden": true,
    "scrolled": true
   },
   "outputs": [
    {
     "name": "stderr",
     "output_type": "stream",
     "text": [
      "INFO:fbprophet:Disabling daily seasonality. Run prophet with daily_seasonality=True to override this.\n"
     ]
    },
    {
     "name": "stdout",
     "output_type": "stream",
     "text": [
      "\n",
      " 2\n",
      "tail train: 2021-01-30 00:00:00\n",
      "tail test: 2021-02-27 00:00:00\n",
      "ds    datetime64[ns]\n",
      "y              int64\n",
      "dtype: object\n",
      "2021-01-30 00:00:00\n",
      "2021-02-27 00:00:00\n",
      "28 days 00:00:00\n"
     ]
    },
    {
     "name": "stderr",
     "output_type": "stream",
     "text": [
      "INFO:fbprophet:Disabling daily seasonality. Run prophet with daily_seasonality=True to override this.\n"
     ]
    },
    {
     "name": "stdout",
     "output_type": "stream",
     "text": [
      "\n",
      " 3\n",
      "tail train: 2021-02-27 00:00:00\n",
      "tail test: 2021-03-31 00:00:00\n",
      "ds    datetime64[ns]\n",
      "y              int64\n",
      "dtype: object\n",
      "2021-02-27 00:00:00\n",
      "2021-03-31 00:00:00\n",
      "32 days 00:00:00\n"
     ]
    },
    {
     "name": "stderr",
     "output_type": "stream",
     "text": [
      "INFO:fbprophet:Disabling daily seasonality. Run prophet with daily_seasonality=True to override this.\n"
     ]
    },
    {
     "name": "stdout",
     "output_type": "stream",
     "text": [
      "\n",
      " 4\n",
      "tail train: 2021-03-31 00:00:00\n",
      "tail test: 2021-04-30 00:00:00\n",
      "ds    datetime64[ns]\n",
      "y              int64\n",
      "dtype: object\n",
      "2021-03-31 00:00:00\n",
      "2021-04-30 00:00:00\n",
      "30 days 00:00:00\n"
     ]
    },
    {
     "name": "stderr",
     "output_type": "stream",
     "text": [
      "INFO:fbprophet:Disabling daily seasonality. Run prophet with daily_seasonality=True to override this.\n"
     ]
    },
    {
     "name": "stdout",
     "output_type": "stream",
     "text": [
      "\n",
      " 5\n",
      "tail train: 2021-04-30 00:00:00\n",
      "tail test: 2021-05-20 00:00:00\n",
      "ds    datetime64[ns]\n",
      "y              int64\n",
      "dtype: object\n",
      "2021-04-30 00:00:00\n",
      "2021-05-20 00:00:00\n",
      "20 days 00:00:00\n"
     ]
    }
   ],
   "source": [
    "for i in range(2,6):\n",
    "    print('\\n',i)\n",
    "    #FECHA DE TERMINO\n",
    "    df_P_train=df_P[df_P.ds<datetime.date(2021, i, 1)].copy()\n",
    "\n",
    "    #FECHA DE PRUEBA\n",
    "    df_P_test=df_P[df_P.ds>datetime.date(2021, i, 1)].copy()\n",
    "    df_P_test=df_P_test[df_P_test.ds<datetime.date(2021, i+1, 1)]\n",
    "    # convert dates from string to datetime\n",
    "    df_P_train.ds = pd.to_datetime(df_P_train.ds)\n",
    "    # convert dates from string to datetime\n",
    "    df_P_test.ds = pd.to_datetime(df_P_test.ds)\n",
    "    #print(df_P_test.dtypes,df_P_train.dtypes)\n",
    "\n",
    "    print('tail train:',df_P_train.tail(1).ds.iloc[0])\n",
    "    print('tail test:',df_P_test.tail(1).ds.iloc[0])\n",
    "    \n",
    "    Resultados=Predict_Prophet(df_P_train,df_P_test,0)\n",
    "    DF_Predict=Resultados[2][['ds','yhat']]#.reset_index()\n",
    "    di=Error_Pred(DF_Predict,df_P_test)\n",
    "    Error_DF_Sum=pd.concat([Error_DF_Sum, di])"
   ]
  },
  {
   "cell_type": "code",
   "execution_count": 101,
   "id": "cb4c4213",
   "metadata": {
    "hidden": true
   },
   "outputs": [],
   "source": [
    "Error_DF_Sum.Mes=Error_DF_Sum.Mes.astype('category')"
   ]
  },
  {
   "cell_type": "code",
   "execution_count": 128,
   "id": "da9ed2af",
   "metadata": {
    "hidden": true,
    "scrolled": false
   },
   "outputs": [
    {
     "data": {
      "image/png": "[encoded data removed]",
      "text/plain": [
       "<Figure size 640x480 with 1 Axes>"
      ]
     },
     "metadata": {
      "image/png": {
       "height": 487,
       "width": 654
      }
     },
     "output_type": "display_data"
    },
    {
     "data": {
      "text/plain": [
       "<ggplot: (124119345740)>"
      ]
     },
     "execution_count": 128,
     "metadata": {},
     "output_type": "execute_result"
    }
   ],
   "source": [
    "ggplot(Error_DF_Sum, aes(x=Error_DF_Sum.ds,y='Error'))+\\\n",
    "geom_col(aes(fill='Mes'))+\\\n",
    "theme(axis_text_x = element_text(angle=90, hjust=1))#,figure_size=(26,10)\n"
   ]
  },
  {
   "cell_type": "code",
   "execution_count": 129,
   "id": "642a4071",
   "metadata": {
    "hidden": true,
    "scrolled": false
   },
   "outputs": [
    {
     "data": {
      "text/plain": [
       "count     101.000000\n",
       "mean      -60.235490\n",
       "std       228.632039\n",
       "min     -1072.515678\n",
       "25%      -151.060080\n",
       "50%       -17.057400\n",
       "75%        94.442048\n",
       "max       299.367569\n",
       "Name: Error, dtype: float64"
      ]
     },
     "execution_count": 129,
     "metadata": {},
     "output_type": "execute_result"
    }
   ],
   "source": [
    "Error_DF_Sum.Error.describe()"
   ]
  },
  {
   "cell_type": "code",
   "execution_count": 130,
   "id": "86a55138",
   "metadata": {
    "hidden": true
   },
   "outputs": [
    {
     "data": {
      "text/plain": [
       "<AxesSubplot:>"
      ]
     },
     "execution_count": 130,
     "metadata": {},
     "output_type": "execute_result"
    },
    {
     "data": {
      "image/png": "[encoded data removed]",
      "text/plain": [
       "<Figure size 432x288 with 1 Axes>"
      ]
     },
     "metadata": {
      "image/png": {
       "height": 248,
       "width": 368
      },
      "needs_background": "light"
     },
     "output_type": "display_data"
    }
   ],
   "source": [
    "Error_DF_Sum.Error.hist()"
   ]
  },
  {
   "cell_type": "code",
   "execution_count": 104,
   "id": "a99c6298",
   "metadata": {
    "hidden": true
   },
   "outputs": [],
   "source": [
    "#Error_DF_Sum.to_csv('E_interv_Dem.csv', index=False)"
   ]
  },
  {
   "cell_type": "code",
   "execution_count": 105,
   "id": "ca70c439",
   "metadata": {
    "hidden": true,
    "scrolled": false
   },
   "outputs": [
    {
     "data": {
      "image/png": "[encoded data removed]",
      "text/plain": [
       "<Figure size 640x480 with 1 Axes>"
      ]
     },
     "metadata": {
      "image/png": {
       "height": 410,
       "width": 536
      }
     },
     "output_type": "display_data"
    },
    {
     "data": {
      "text/plain": [
       "[<ggplot: (124111765128)>]"
      ]
     },
     "execution_count": 105,
     "metadata": {},
     "output_type": "execute_result"
    }
   ],
   "source": [
    "Error_DF_Sum['Semana']=Error_DF_Sum['Semana'].astype('category')\n",
    "x=2\n",
    "[(ggplot(Error_DF_Sum[Error_DF_Sum.Mes==str(x)], aes(x='ds',y='Error'))+\\\n",
    "geom_col(aes(fill='Semana'))\n",
    " ) ]"
   ]
  },
  {
   "cell_type": "code",
   "execution_count": 106,
   "id": "7e162900",
   "metadata": {
    "hidden": true,
    "scrolled": false
   },
   "outputs": [
    {
     "data": {
      "text/html": [
       "<div>\n",
       "<style scoped>\n",
       "    .dataframe tbody tr th:only-of-type {\n",
       "        vertical-align: middle;\n",
       "    }\n",
       "\n",
       "    .dataframe tbody tr th {\n",
       "        vertical-align: top;\n",
       "    }\n",
       "\n",
       "    .dataframe thead th {\n",
       "        text-align: right;\n",
       "    }\n",
       "</style>\n",
       "<table border=\"1\" class=\"dataframe\">\n",
       "  <thead>\n",
       "    <tr style=\"text-align: right;\">\n",
       "      <th></th>\n",
       "      <th>ds</th>\n",
       "      <th>y</th>\n",
       "      <th>yhat</th>\n",
       "      <th>Error</th>\n",
       "      <th>Error %</th>\n",
       "      <th>Semana</th>\n",
       "      <th>Mes</th>\n",
       "    </tr>\n",
       "  </thead>\n",
       "  <tbody>\n",
       "    <tr>\n",
       "      <th>0</th>\n",
       "      <td>2021-01-05</td>\n",
       "      <td>84</td>\n",
       "      <td>65.417166</td>\n",
       "      <td>-18.582834</td>\n",
       "      <td>-0.221224</td>\n",
       "      <td>1</td>\n",
       "      <td>1</td>\n",
       "    </tr>\n",
       "    <tr>\n",
       "      <th>1</th>\n",
       "      <td>2021-01-06</td>\n",
       "      <td>65</td>\n",
       "      <td>196.318291</td>\n",
       "      <td>131.318291</td>\n",
       "      <td>2.020281</td>\n",
       "      <td>1</td>\n",
       "      <td>1</td>\n",
       "    </tr>\n",
       "    <tr>\n",
       "      <th>2</th>\n",
       "      <td>2021-01-07</td>\n",
       "      <td>112</td>\n",
       "      <td>190.286956</td>\n",
       "      <td>78.286956</td>\n",
       "      <td>0.698991</td>\n",
       "      <td>1</td>\n",
       "      <td>1</td>\n",
       "    </tr>\n",
       "    <tr>\n",
       "      <th>3</th>\n",
       "      <td>2021-01-08</td>\n",
       "      <td>160</td>\n",
       "      <td>256.021095</td>\n",
       "      <td>96.021095</td>\n",
       "      <td>0.600132</td>\n",
       "      <td>1</td>\n",
       "      <td>1</td>\n",
       "    </tr>\n",
       "    <tr>\n",
       "      <th>4</th>\n",
       "      <td>2021-01-09</td>\n",
       "      <td>216</td>\n",
       "      <td>215.850503</td>\n",
       "      <td>-0.149497</td>\n",
       "      <td>-0.000692</td>\n",
       "      <td>1</td>\n",
       "      <td>1</td>\n",
       "    </tr>\n",
       "  </tbody>\n",
       "</table>\n",
       "</div>"
      ],
      "text/plain": [
       "          ds    y        yhat       Error   Error % Semana Mes\n",
       "0 2021-01-05   84   65.417166  -18.582834 -0.221224      1   1\n",
       "1 2021-01-06   65  196.318291  131.318291  2.020281      1   1\n",
       "2 2021-01-07  112  190.286956   78.286956  0.698991      1   1\n",
       "3 2021-01-08  160  256.021095   96.021095  0.600132      1   1\n",
       "4 2021-01-09  216  215.850503   -0.149497 -0.000692      1   1"
      ]
     },
     "execution_count": 106,
     "metadata": {},
     "output_type": "execute_result"
    }
   ],
   "source": [
    "Error_DF_Sum['Error %']=Error_DF_Sum.yhat/Error_DF_Sum.y-1\n",
    "Error_DF_Sum.head()"
   ]
  },
  {
   "cell_type": "code",
   "execution_count": 107,
   "id": "2f622fa2",
   "metadata": {
    "hidden": true,
    "scrolled": false
   },
   "outputs": [
    {
     "data": {
      "image/png": "[encoded data removed]",
      "text/plain": [
       "<Figure size 640x480 with 1 Axes>"
      ]
     },
     "metadata": {
      "image/png": {
       "height": 429,
       "width": 639
      }
     },
     "output_type": "display_data"
    },
    {
     "data": {
      "text/plain": [
       "<ggplot: (124111694249)>"
      ]
     },
     "execution_count": 107,
     "metadata": {},
     "output_type": "execute_result"
    }
   ],
   "source": [
    "ggplot(Error_DF_Sum[Error_DF_Sum['Error %']<=2], aes(x='Semana',y='Error %'))+\\\n",
    "geom_col(aes(fill='Mes'))"
   ]
  },
  {
   "cell_type": "code",
   "execution_count": 108,
   "id": "ba3506ee",
   "metadata": {
    "hidden": true,
    "scrolled": false
   },
   "outputs": [
    {
     "data": {
      "text/plain": [
       "count     101.000000\n",
       "mean      -60.235490\n",
       "std       228.632039\n",
       "min     -1072.515678\n",
       "25%      -151.060080\n",
       "50%       -17.057400\n",
       "75%        94.442048\n",
       "max       299.367569\n",
       "Name: Error, dtype: float64"
      ]
     },
     "execution_count": 108,
     "metadata": {},
     "output_type": "execute_result"
    }
   ],
   "source": [
    "Error_DF_Sum.Error.describe()"
   ]
  },
  {
   "cell_type": "markdown",
   "id": "027e0a3d",
   "metadata": {
    "hidden": true
   },
   "source": [
    "#### group mensual "
   ]
  },
  {
   "cell_type": "code",
   "execution_count": 109,
   "id": "5e3e262f",
   "metadata": {
    "hidden": true,
    "scrolled": false
   },
   "outputs": [
    {
     "name": "stdout",
     "output_type": "stream",
     "text": [
      "-60.23549000195733\n"
     ]
    },
    {
     "data": {
      "text/html": [
       "<div>\n",
       "<style scoped>\n",
       "    .dataframe tbody tr th:only-of-type {\n",
       "        vertical-align: middle;\n",
       "    }\n",
       "\n",
       "    .dataframe tbody tr th {\n",
       "        vertical-align: top;\n",
       "    }\n",
       "\n",
       "    .dataframe thead th {\n",
       "        text-align: right;\n",
       "    }\n",
       "</style>\n",
       "<table border=\"1\" class=\"dataframe\">\n",
       "  <thead>\n",
       "    <tr style=\"text-align: right;\">\n",
       "      <th></th>\n",
       "      <th>Mes</th>\n",
       "      <th>y</th>\n",
       "      <th>yhat</th>\n",
       "      <th>Error</th>\n",
       "      <th>Error %</th>\n",
       "    </tr>\n",
       "  </thead>\n",
       "  <tbody>\n",
       "    <tr>\n",
       "      <th>0</th>\n",
       "      <td>1</td>\n",
       "      <td>3990</td>\n",
       "      <td>2824.738785</td>\n",
       "      <td>-1165.261215</td>\n",
       "      <td>10.004512</td>\n",
       "    </tr>\n",
       "    <tr>\n",
       "      <th>1</th>\n",
       "      <td>2</td>\n",
       "      <td>4308</td>\n",
       "      <td>4262.359318</td>\n",
       "      <td>-45.640682</td>\n",
       "      <td>8.474721</td>\n",
       "    </tr>\n",
       "    <tr>\n",
       "      <th>2</th>\n",
       "      <td>3</td>\n",
       "      <td>7121</td>\n",
       "      <td>3536.736223</td>\n",
       "      <td>-3584.263777</td>\n",
       "      <td>2.596451</td>\n",
       "    </tr>\n",
       "    <tr>\n",
       "      <th>3</th>\n",
       "      <td>4</td>\n",
       "      <td>6945</td>\n",
       "      <td>5433.448060</td>\n",
       "      <td>-1511.551940</td>\n",
       "      <td>30.061129</td>\n",
       "    </tr>\n",
       "    <tr>\n",
       "      <th>4</th>\n",
       "      <td>5</td>\n",
       "      <td>1315</td>\n",
       "      <td>1537.933123</td>\n",
       "      <td>222.933123</td>\n",
       "      <td>15.437816</td>\n",
       "    </tr>\n",
       "  </tbody>\n",
       "</table>\n",
       "</div>"
      ],
      "text/plain": [
       "  Mes     y         yhat        Error    Error %\n",
       "0   1  3990  2824.738785 -1165.261215  10.004512\n",
       "1   2  4308  4262.359318   -45.640682   8.474721\n",
       "2   3  7121  3536.736223 -3584.263777   2.596451\n",
       "3   4  6945  5433.448060 -1511.551940  30.061129\n",
       "4   5  1315  1537.933123   222.933123  15.437816"
      ]
     },
     "execution_count": 109,
     "metadata": {},
     "output_type": "execute_result"
    }
   ],
   "source": [
    "tmp2=Error_DF_Sum.copy()\n",
    "tmp2.Error=tmp2.Error.astype('float64')#.abs()\n",
    "tmp2.Mes=tmp2.Mes.astype('category')\n",
    "\n",
    "print(tmp2.Error.mean())\n",
    "\n",
    "dx=tmp2.groupby('Mes').sum().reset_index()#['Mes','Error']\n",
    "dx"
   ]
  },
  {
   "cell_type": "code",
   "execution_count": 110,
   "id": "b5eba218",
   "metadata": {
    "hidden": true
   },
   "outputs": [
    {
     "data": {
      "image/png": "[encoded data removed]",
      "text/plain": [
       "<Figure size 640x480 with 1 Axes>"
      ]
     },
     "metadata": {
      "image/png": {
       "height": 429,
       "width": 662
      }
     },
     "output_type": "display_data"
    },
    {
     "data": {
      "text/plain": [
       "<ggplot: (124113675168)>"
      ]
     },
     "execution_count": 110,
     "metadata": {},
     "output_type": "execute_result"
    }
   ],
   "source": [
    "ggplot(dx, aes(x=dx.Mes,y='Error'))+\\\n",
    "geom_col(aes(fill='Mes'))"
   ]
  },
  {
   "cell_type": "code",
   "execution_count": 111,
   "id": "99a1d34c",
   "metadata": {
    "hidden": true,
    "scrolled": false
   },
   "outputs": [
    {
     "data": {
      "image/png": "[encoded data removed]",
      "text/plain": [
       "<Figure size 640x480 with 1 Axes>"
      ]
     },
     "metadata": {
      "image/png": {
       "height": 429,
       "width": 636
      }
     },
     "output_type": "display_data"
    },
    {
     "data": {
      "text/plain": [
       "<ggplot: (124111522130)>"
      ]
     },
     "execution_count": 111,
     "metadata": {},
     "output_type": "execute_result"
    }
   ],
   "source": [
    "ggplot(dx, aes(x=dx.Mes,y='Error %'))+\\\n",
    "geom_col(aes(fill='Mes'))"
   ]
  },
  {
   "cell_type": "code",
   "execution_count": 112,
   "id": "f16576c8",
   "metadata": {
    "hidden": true,
    "scrolled": false
   },
   "outputs": [
    {
     "data": {
      "text/plain": [
       "<AxesSubplot:>"
      ]
     },
     "execution_count": 112,
     "metadata": {},
     "output_type": "execute_result"
    },
    {
     "data": {
      "image/png": "[encoded data removed]",
      "text/plain": [
       "<Figure size 432x288 with 1 Axes>"
      ]
     },
     "metadata": {
      "image/png": {
       "height": 248,
       "width": 378
      },
      "needs_background": "light"
     },
     "output_type": "display_data"
    }
   ],
   "source": [
    "dx.Error.hist()"
   ]
  }
 ],
 "metadata": {
  "kernelspec": {
   "display_name": "Python 3",
   "language": "python",
   "name": "python3"
  },
  "language_info": {
   "codemirror_mode": {
    "name": "ipython",
    "version": 3
   },
   "file_extension": ".py",
   "mimetype": "text/x-python",
   "name": "python",
   "nbconvert_exporter": "python",
   "pygments_lexer": "ipython3",
   "version": "3.8.8"
  },
  "toc": {
   "base_numbering": 1,
   "nav_menu": {
    "height": "246px",
    "width": "191px"
   },
   "number_sections": true,
   "sideBar": true,
   "skip_h1_title": false,
   "title_cell": "Table of Contents",
   "title_sidebar": "Contents",
   "toc_cell": false,
   "toc_position": {
    "height": "720.822px",
    "left": "23.9792px",
    "top": "110.278px",
    "width": "330.984px"
   },
   "toc_section_display": true,
   "toc_window_display": true
  }
 },
 "nbformat": 4,
 "nbformat_minor": 5
}
