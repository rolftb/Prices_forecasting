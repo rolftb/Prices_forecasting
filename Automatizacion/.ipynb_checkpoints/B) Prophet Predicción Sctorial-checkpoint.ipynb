{
 "cells": [
  {
   "cell_type": "markdown",
   "id": "80590ae6",
   "metadata": {
    "heading_collapsed": true
   },
   "source": [
    "# Información previa\n",
    "\n"
   ]
  },
  {
   "cell_type": "markdown",
   "id": "cb5cc9ef",
   "metadata": {
    "hidden": true
   },
   "source": [
    "## datos\n",
    "faltan en pollo 1010130 y 1010387\n",
    "\n",
    "Link de descarga de BW\n",
    "\n",
    "[08_06_21_Fact_CL_Mater_Canales_10_06_21](https://gestion.agrosuper.cl/irj/servlet/prt/portal/prtroot/pcd!3aportal_content!2fcom.sap.pct!2fplatform_add_ons!2fcom.sap.ip.bi!2fiViews!2fcom.sap.ip.bi.bex?BOOKMARK=4V7XT6V546W73QKC7BVTLKF4Y)\n",
    "\n"
   ]
  },
  {
   "cell_type": "markdown",
   "id": "17ae62ca",
   "metadata": {
    "heading_collapsed": true,
    "hidden": true
   },
   "source": [
    "## Apuntes Cod "
   ]
  },
  {
   "cell_type": "markdown",
   "id": "a2ec96bf",
   "metadata": {
    "hidden": true
   },
   "source": [
    "```{python}\n",
    "Data['Peso neto KG']=Data['Peso neto'].str.split('KG', expand=True)[[0]]\n",
    "Data.pop('Peso neto')\n",
    "Data['Cantidad Unidades CJ']=Data['Cantidad Unidades'].str.split('CJ', expand=True)[[0]]\n",
    "Data.pop('Cantidad Unidades')\n",
    "Data['Precio Unitario CLP / KG']=Data['Precio Unitario'].str.split('CLP / KG', expand=True)[[0]]\n",
    "\n",
    "\n",
    "\n",
    "    if(x[len(x)-3:]=='USD'):\n",
    "        x=x.split(' USD')[1]\n",
    "    elif(x[len(x)-3:]=='CLP'):\n",
    "        x=x.split(' CLP')[1]\n",
    "\n",
    "\n",
    "```"
   ]
  },
  {
   "cell_type": "markdown",
   "id": "1ed6a797",
   "metadata": {
    "heading_collapsed": true,
    "hidden": true
   },
   "source": [
    "## Este es un extracto del paper:\n"
   ]
  },
  {
   "cell_type": "markdown",
   "id": "cd62d767",
   "metadata": {
    "hidden": true
   },
   "source": [
    " \n",
    "\n",
    "\t\n",
    "Ventas pasadas con retraso  k, es decir, ventas diarias para el SKU considerado de los últimos k días (tw k : ventana de tiempo de tamaño k ).\n",
    "\n",
    "\t\n",
    "* Variables binarias para caracterizar días especiales, como:\n",
    "    * Pago , que caracteriza los días al final de cada mes cuando las personas reciben el pago mensual.\n",
    "    * Pago intermedio , que caracteriza los días al final de cada quincena en que las personas reciben dos pagos semanales.\n",
    "    * Antes de las vacaciones , caracterizando los días antes de las vacaciones.\n",
    "    * Vacaciones , que caracterizan las vacaciones.\n",
    "    * Independencia , que caracteriza los días de la independencia de Chile (18 y 19 de septiembre).\n",
    "    * Santa , caracterizando los días de la semana antes del este.\n",
    "    * Vacaciones , caracterizando los días que pertenecen al período de vacaciones de verano (enero y febrero).\n",
    "    * Verano , que caracteriza los días de verano (1 de octubre-31 de marzo).\t\n",
    "    * Año nuevo (1 de enero), que caracteriza el único día de cierre de supermercados en Chile.\n",
    "\t\n",
    "\t\n",
    "* Variables de precio:\n",
    "    * Precio A  =  precio original del SKU considerado en Economax.\n",
    "    * Precio B  =  (Precio A) / (Precio máximo en micro-mercado).\n",
    "    * Precio C  =  (Precio A) / (Precio mínimo en micro-mercado).\n",
    "\n",
    "\t\t\n",
    "Observación : Las variables “Precio máximo en micro-mercado” y “Precio mínimo en micro-mercado” son el precio máximo (mínimo) para un determinado SKU en el micro-mercado relevante y son proporcionados por una empresa de investigación de mercado.\n",
    "\t\t\n",
    "\t\n",
    "\n",
    "\t\n",
    " "
   ]
  },
  {
   "cell_type": "markdown",
   "id": "33f26efe",
   "metadata": {},
   "source": [
    "# Package Install & Open Data\n"
   ]
  },
  {
   "cell_type": "markdown",
   "id": "6dc45620",
   "metadata": {},
   "source": [
    "## Import"
   ]
  },
  {
   "cell_type": "markdown",
   "id": "3daa5668",
   "metadata": {},
   "source": [
    "### import general "
   ]
  },
  {
   "cell_type": "code",
   "execution_count": 1,
   "id": "82536652",
   "metadata": {},
   "outputs": [],
   "source": [
    "# =============================================================================\n",
    "# Importar paquetes y abrir Data\n",
    "# =============================================================================\n",
    "\n",
    "#gestion DF\n",
    "import pandas as pd\n",
    "\n",
    "#Funciones mat y matricicales\n",
    "import numpy as np\n",
    "\n",
    "#ploteo simple\n",
    "import matplotlib.pyplot as plt\n",
    "\n",
    "# Graficas bonitas\n",
    "from plotnine import *\n",
    "\n",
    "#para ajustar las fechas\n",
    "import datetime\n",
    "\n",
    "#para calcular el skew de un array() o list()\n",
    "from scipy.stats import skew \n",
    "\n",
    "#mode function\n",
    "import statistics \n",
    "\n",
    "from mizani.breaks import date_breaks\n",
    "from mizani.formatters import date_format"
   ]
  },
  {
   "cell_type": "code",
   "execution_count": 2,
   "id": "774b67f3",
   "metadata": {},
   "outputs": [],
   "source": [
    "from time import time"
   ]
  },
  {
   "cell_type": "markdown",
   "id": "16235866",
   "metadata": {},
   "source": [
    "### import and function "
   ]
  },
  {
   "cell_type": "code",
   "execution_count": 3,
   "id": "0bea17cb",
   "metadata": {},
   "outputs": [
    {
     "name": "stderr",
     "output_type": "stream",
     "text": [
      "Importing plotly failed. Interactive plots will not work.\n"
     ]
    }
   ],
   "source": [
    "\n",
    "import warnings\n",
    "import pandas as pd\n",
    "import matplotlib.pyplot as plt\n",
    "# prophet model \n",
    "from fbprophet import Prophet\n",
    "# prophet preformance\n",
    "from fbprophet.diagnostics import cross_validation\n",
    "from fbprophet.diagnostics import performance_metrics\n",
    "from fbprophet.plot import plot_cross_validation_metric\n",
    "\n",
    "# don't do this \n",
    "warnings.filterwarnings('ignore')\n",
    "# \"high resolution\"\n",
    "%config InlineBackend.figure_format = 'retina'"
   ]
  },
  {
   "cell_type": "markdown",
   "id": "9d9b6e0a",
   "metadata": {},
   "source": [
    "##  Data Facturación"
   ]
  },
  {
   "cell_type": "markdown",
   "id": "99b31bd0",
   "metadata": {},
   "source": [
    "Link de descarga de BW\n",
    "\n",
    "[08_06_21_Fact_CL_Mater_Canales_10_06_21](https://gestion.agrosuper.cl/irj/servlet/prt/portal/prtroot/pcd!3aportal_content!2fcom.sap.pct!2fplatform_add_ons!2fcom.sap.ip.bi!2fiViews!2fcom.sap.ip.bi.bex?BOOKMARK=4V7XT6V546W73QKC7BVTLKF4Y)"
   ]
  },
  {
   "cell_type": "markdown",
   "id": "8a6b61e3",
   "metadata": {},
   "source": [
    "### Selección de la zona de estudio "
   ]
  },
  {
   "cell_type": "code",
   "execution_count": 4,
   "id": "1ad8fa31",
   "metadata": {
    "scrolled": true
   },
   "outputs": [
    {
     "data": {
      "text/html": [
       "<div>\n",
       "<style scoped>\n",
       "    .dataframe tbody tr th:only-of-type {\n",
       "        vertical-align: middle;\n",
       "    }\n",
       "\n",
       "    .dataframe tbody tr th {\n",
       "        vertical-align: top;\n",
       "    }\n",
       "\n",
       "    .dataframe thead th {\n",
       "        text-align: right;\n",
       "    }\n",
       "</style>\n",
       "<table border=\"1\" class=\"dataframe\">\n",
       "  <thead>\n",
       "    <tr style=\"text-align: right;\">\n",
       "      <th></th>\n",
       "      <th>Sector</th>\n",
       "      <th>Material</th>\n",
       "      <th>Tipo de cliente</th>\n",
       "      <th>Zona de ventas</th>\n",
       "      <th>Zona de ventas.1</th>\n",
       "      <th>Oficina de Ventas Unifica</th>\n",
       "      <th>Oficina de Ventas Unifica.1</th>\n",
       "      <th>Mes</th>\n",
       "      <th>Año natural/Semana</th>\n",
       "      <th>Día natural</th>\n",
       "      <th>Día de la semana</th>\n",
       "      <th>Kilos Venta KG</th>\n",
       "      <th>Venta Neta</th>\n",
       "      <th>Precio Promedio</th>\n",
       "    </tr>\n",
       "  </thead>\n",
       "  <tbody>\n",
       "    <tr>\n",
       "      <th>0</th>\n",
       "      <td>Cerdo</td>\n",
       "      <td>1020253</td>\n",
       "      <td>Tradicional</td>\n",
       "      <td>Z001</td>\n",
       "      <td>Santiago</td>\n",
       "      <td>Huechuraba</td>\n",
       "      <td>T101</td>\n",
       "      <td>1</td>\n",
       "      <td>01.2019</td>\n",
       "      <td>02.01.2019</td>\n",
       "      <td>MI</td>\n",
       "      <td>36</td>\n",
       "      <td>81.788 CLP</td>\n",
       "      <td>2.250 CLP</td>\n",
       "    </tr>\n",
       "  </tbody>\n",
       "</table>\n",
       "</div>"
      ],
      "text/plain": [
       "  Sector Material Tipo de cliente Zona de ventas Zona de ventas.1  \\\n",
       "0  Cerdo  1020253     Tradicional           Z001         Santiago   \n",
       "\n",
       "  Oficina de Ventas Unifica Oficina de Ventas Unifica.1 Mes  \\\n",
       "0                Huechuraba                        T101   1   \n",
       "\n",
       "  Año natural/Semana Día natural Día de la semana Kilos Venta KG  Venta Neta  \\\n",
       "0            01.2019  02.01.2019               MI             36  81.788 CLP   \n",
       "\n",
       "  Precio Promedio  \n",
       "0       2.250 CLP  "
      ]
     },
     "execution_count": 4,
     "metadata": {},
     "output_type": "execute_result"
    }
   ],
   "source": [
    "#Nombre del producto\n",
    "Fecha='08_06_21'\n",
    "\n",
    "# =============================================================================\n",
    "# Ajuste de los datos\n",
    "# =============================================================================\n",
    "File_name='Fact_CL_Mater_Canales_'+Fecha\n",
    "col_names=pd.read_csv(\"Data/\"+File_name+\".csv\",\n",
    "                    encoding=\"utf-8\",sep=\";\",nrows=0).columns\n",
    "types_dict = {col: str for col in col_names}\n",
    "\n",
    "Data = pd.read_csv(\"Data/\"+File_name+\".csv\",\n",
    "                   encoding=\"utf-8\",sep=\";\",dtype=types_dict)\n",
    "Data.head(1)"
   ]
  },
  {
   "cell_type": "markdown",
   "id": "28a39a98",
   "metadata": {},
   "source": [
    "### Ajuste facturaciones"
   ]
  },
  {
   "cell_type": "code",
   "execution_count": 5,
   "id": "bb6fe285",
   "metadata": {},
   "outputs": [],
   "source": [
    "# =============================================================================\n",
    "# Ajustar la data\n",
    "# =============================================================================\n",
    "def Ajuste_data(data):\n",
    "    df=data.copy()\n",
    "    # Funciones para eliminar los putos y cambiar las , por .\n",
    "    def categ_uniq(x):\n",
    "        return x[len(x)-3:]\n",
    "\n",
    "    df['Unidad Venta']=df['Venta Neta'].apply(categ_uniq)\n",
    "    df['Unidad Precio']=df['Precio Promedio'].apply(categ_uniq)\n",
    "    \n",
    "    def CLP_Dolar(x):\n",
    "        x=str(x)\n",
    "        x=x.replace('.', '')\n",
    "        x=x.replace(',', '.')\n",
    "        if(x[len(x)-3:]=='USD'):\n",
    "            x=x.split(' USD')[0]\n",
    "            x=float(x)\n",
    "            #x=x*720\n",
    "        elif(x[len(x)-3:]=='CLP'):\n",
    "            x=x.split(' CLP')[0]\n",
    "            x=float(x)\n",
    "        return x\n",
    "    \n",
    "    def change_num_point(x):\n",
    "        x=str(x)\n",
    "        return x.replace('.', '')\n",
    "    def change_num_coma(x):\n",
    "        x=str(x)\n",
    "        return x.replace(',', '.')\n",
    "    def delete_asterisco(x):\n",
    "        x=str(x)\n",
    "        return x.replace('*','0' )\n",
    "    \n",
    "    #proceso iterativo, \n",
    "    for i in ['Kilos Venta KG','Venta Neta','Precio Promedio']:\n",
    "    # se elimina el punto definido para los miles\n",
    "        if(i!='Kilos Venta KG'):\n",
    "            df[i]=df[i].apply(CLP_Dolar)\n",
    "        else:\n",
    "            df[i]=df[i].apply(change_num_point)\n",
    "            # se reemplaza la coma por un punto, para definir los decimales correctamente\n",
    "            df[i]=df[i].apply(change_num_coma)\n",
    "        # se elimina el valor * \n",
    "        df[i]=df[i].apply(delete_asterisco)\n",
    "        df[i]=df[i].astype('float64')\n",
    "        # Se pasa de ser un str a un int\n",
    "        print(i)\n",
    "        #df[i]=df[i].astype('int64')\n",
    "\n",
    "    #Separacion fecha\n",
    "    df['Semana']=df['Año natural/Semana'].str.split('.', expand=True)[[0]]\n",
    "    df['Año']=df['Año natural/Semana'].str.split('.', expand=True)[[1]]\n",
    "\n",
    "    df['Semana']=df['Semana'].astype('int64')\n",
    "    df['Año']=df['Año'].astype('int64')\n",
    "    \n",
    "    #\n",
    "    df[\"Día natural\"] = df[\"Día natural\"].apply(lambda x: \n",
    "                                                datetime.datetime.strptime(x,\n",
    "                                                                           '%d.%m.%Y').date())\n",
    "    df['Año']=df['Año'].astype('int64')\n",
    "    return df"
   ]
  },
  {
   "cell_type": "code",
   "execution_count": 6,
   "id": "e74380c6",
   "metadata": {
    "scrolled": true
   },
   "outputs": [
    {
     "name": "stdout",
     "output_type": "stream",
     "text": [
      "Kilos Venta KG\n",
      "Venta Neta\n",
      "Precio Promedio\n"
     ]
    },
    {
     "data": {
      "text/html": [
       "<div>\n",
       "<style scoped>\n",
       "    .dataframe tbody tr th:only-of-type {\n",
       "        vertical-align: middle;\n",
       "    }\n",
       "\n",
       "    .dataframe tbody tr th {\n",
       "        vertical-align: top;\n",
       "    }\n",
       "\n",
       "    .dataframe thead th {\n",
       "        text-align: right;\n",
       "    }\n",
       "</style>\n",
       "<table border=\"1\" class=\"dataframe\">\n",
       "  <thead>\n",
       "    <tr style=\"text-align: right;\">\n",
       "      <th></th>\n",
       "      <th>Sector</th>\n",
       "      <th>Material</th>\n",
       "      <th>Tipo de cliente</th>\n",
       "      <th>Zona de ventas</th>\n",
       "      <th>Zona de ventas.1</th>\n",
       "      <th>Oficina de Ventas Unifica</th>\n",
       "      <th>Oficina de Ventas Unifica.1</th>\n",
       "      <th>Mes</th>\n",
       "      <th>Año natural/Semana</th>\n",
       "      <th>Día natural</th>\n",
       "      <th>Día de la semana</th>\n",
       "      <th>Kilos Venta KG</th>\n",
       "      <th>Venta Neta</th>\n",
       "      <th>Precio Promedio</th>\n",
       "      <th>Unidad Venta</th>\n",
       "      <th>Unidad Precio</th>\n",
       "      <th>Semana</th>\n",
       "      <th>Año</th>\n",
       "    </tr>\n",
       "  </thead>\n",
       "  <tbody>\n",
       "    <tr>\n",
       "      <th>0</th>\n",
       "      <td>Cerdo</td>\n",
       "      <td>1020253</td>\n",
       "      <td>Tradicional</td>\n",
       "      <td>Z001</td>\n",
       "      <td>Santiago</td>\n",
       "      <td>Huechuraba</td>\n",
       "      <td>T101</td>\n",
       "      <td>1</td>\n",
       "      <td>01.2019</td>\n",
       "      <td>2019-01-02</td>\n",
       "      <td>MI</td>\n",
       "      <td>36.0</td>\n",
       "      <td>81788.0</td>\n",
       "      <td>2250.0</td>\n",
       "      <td>CLP</td>\n",
       "      <td>CLP</td>\n",
       "      <td>1</td>\n",
       "      <td>2019</td>\n",
       "    </tr>\n",
       "    <tr>\n",
       "      <th>1</th>\n",
       "      <td>Cerdo</td>\n",
       "      <td>1020253</td>\n",
       "      <td>Tradicional</td>\n",
       "      <td>Z001</td>\n",
       "      <td>Santiago</td>\n",
       "      <td>Huechuraba</td>\n",
       "      <td>T101</td>\n",
       "      <td>1</td>\n",
       "      <td>01.2019</td>\n",
       "      <td>2019-01-03</td>\n",
       "      <td>JU</td>\n",
       "      <td>333.0</td>\n",
       "      <td>583204.0</td>\n",
       "      <td>1750.0</td>\n",
       "      <td>CLP</td>\n",
       "      <td>CLP</td>\n",
       "      <td>1</td>\n",
       "      <td>2019</td>\n",
       "    </tr>\n",
       "    <tr>\n",
       "      <th>2</th>\n",
       "      <td>Cerdo</td>\n",
       "      <td>1020253</td>\n",
       "      <td>Tradicional</td>\n",
       "      <td>Z001</td>\n",
       "      <td>Santiago</td>\n",
       "      <td>Huechuraba</td>\n",
       "      <td>T101</td>\n",
       "      <td>1</td>\n",
       "      <td>01.2019</td>\n",
       "      <td>2019-01-05</td>\n",
       "      <td>SA</td>\n",
       "      <td>219.0</td>\n",
       "      <td>397031.0</td>\n",
       "      <td>1815.0</td>\n",
       "      <td>CLP</td>\n",
       "      <td>CLP</td>\n",
       "      <td>1</td>\n",
       "      <td>2019</td>\n",
       "    </tr>\n",
       "  </tbody>\n",
       "</table>\n",
       "</div>"
      ],
      "text/plain": [
       "  Sector Material Tipo de cliente Zona de ventas Zona de ventas.1  \\\n",
       "0  Cerdo  1020253     Tradicional           Z001         Santiago   \n",
       "1  Cerdo  1020253     Tradicional           Z001         Santiago   \n",
       "2  Cerdo  1020253     Tradicional           Z001         Santiago   \n",
       "\n",
       "  Oficina de Ventas Unifica Oficina de Ventas Unifica.1 Mes  \\\n",
       "0                Huechuraba                        T101   1   \n",
       "1                Huechuraba                        T101   1   \n",
       "2                Huechuraba                        T101   1   \n",
       "\n",
       "  Año natural/Semana Día natural Día de la semana  Kilos Venta KG  Venta Neta  \\\n",
       "0            01.2019  2019-01-02               MI            36.0     81788.0   \n",
       "1            01.2019  2019-01-03               JU           333.0    583204.0   \n",
       "2            01.2019  2019-01-05               SA           219.0    397031.0   \n",
       "\n",
       "   Precio Promedio Unidad Venta Unidad Precio  Semana   Año  \n",
       "0           2250.0          CLP           CLP       1  2019  \n",
       "1           1750.0          CLP           CLP       1  2019  \n",
       "2           1815.0          CLP           CLP       1  2019  "
      ]
     },
     "execution_count": 6,
     "metadata": {},
     "output_type": "execute_result"
    }
   ],
   "source": [
    "data1=Ajuste_data(Data)\n",
    "data1.head(3)\n",
    "#data=<data[data['Año']>2018]"
   ]
  },
  {
   "cell_type": "markdown",
   "id": "b8170fcb",
   "metadata": {},
   "source": [
    "##  Data Facturación Concatena a la anterior\n",
    "Link de descarga de BW\n",
    "[08_06_21_Fact_CL_Mater_Canales_10_06_21](https://gestion.agrosuper.cl/irj/servlet/prt/portal/prtroot/pcd!3aportal_content!2fcom.sap.pct!2fplatform_add_ons!2fcom.sap.ip.bi!2fiViews!2fcom.sap.ip.bi.bex?BOOKMARK=4V7XT6V546W73QKC7BVTLKF4Y)\n",
    "\n",
    "Contiene las facturaciones siguientes de todo chile para el listado de productos y para los canales de venta:\n",
    "Foodservices; Canal Tradicional; Industriales; GRandes Clientes"
   ]
  },
  {
   "cell_type": "markdown",
   "id": "5087ab34",
   "metadata": {},
   "source": [
    "### Selección de la zona de estudio "
   ]
  },
  {
   "cell_type": "code",
   "execution_count": 7,
   "id": "60785669",
   "metadata": {
    "scrolled": false
   },
   "outputs": [
    {
     "data": {
      "text/html": [
       "<div>\n",
       "<style scoped>\n",
       "    .dataframe tbody tr th:only-of-type {\n",
       "        vertical-align: middle;\n",
       "    }\n",
       "\n",
       "    .dataframe tbody tr th {\n",
       "        vertical-align: top;\n",
       "    }\n",
       "\n",
       "    .dataframe thead th {\n",
       "        text-align: right;\n",
       "    }\n",
       "</style>\n",
       "<table border=\"1\" class=\"dataframe\">\n",
       "  <thead>\n",
       "    <tr style=\"text-align: right;\">\n",
       "      <th></th>\n",
       "      <th>Sector</th>\n",
       "      <th>Material</th>\n",
       "      <th>Tipo de cliente</th>\n",
       "      <th>Zona de ventas</th>\n",
       "      <th>Zona de ventas.1</th>\n",
       "      <th>Oficina de Ventas Unifica</th>\n",
       "      <th>Oficina de Ventas Unifica.1</th>\n",
       "      <th>Mes</th>\n",
       "      <th>Año natural/Semana</th>\n",
       "      <th>Día natural</th>\n",
       "      <th>Día de la semana</th>\n",
       "      <th>Kilos Venta KG</th>\n",
       "      <th>Venta Neta</th>\n",
       "      <th>Precio Promedio</th>\n",
       "    </tr>\n",
       "  </thead>\n",
       "  <tbody>\n",
       "    <tr>\n",
       "      <th>0</th>\n",
       "      <td>Cerdo</td>\n",
       "      <td>1020253</td>\n",
       "      <td>Tradicional</td>\n",
       "      <td>Z001</td>\n",
       "      <td>Santiago</td>\n",
       "      <td>Huechuraba</td>\n",
       "      <td>T101</td>\n",
       "      <td>6</td>\n",
       "      <td>23.2021</td>\n",
       "      <td>08.06.2021</td>\n",
       "      <td>MA</td>\n",
       "      <td>273</td>\n",
       "      <td>697.541 CLP</td>\n",
       "      <td>2.555 CLP</td>\n",
       "    </tr>\n",
       "  </tbody>\n",
       "</table>\n",
       "</div>"
      ],
      "text/plain": [
       "  Sector Material Tipo de cliente Zona de ventas Zona de ventas.1  \\\n",
       "0  Cerdo  1020253     Tradicional           Z001         Santiago   \n",
       "\n",
       "  Oficina de Ventas Unifica Oficina de Ventas Unifica.1 Mes  \\\n",
       "0                Huechuraba                        T101   6   \n",
       "\n",
       "  Año natural/Semana Día natural Día de la semana Kilos Venta KG   Venta Neta  \\\n",
       "0            23.2021  08.06.2021               MA            273  697.541 CLP   \n",
       "\n",
       "  Precio Promedio  \n",
       "0       2.555 CLP  "
      ]
     },
     "execution_count": 7,
     "metadata": {},
     "output_type": "execute_result"
    }
   ],
   "source": [
    "#Nombre del producto\n",
    "Fecha='08_06_21'\n",
    "Fecha_fin='21_06_21'\n",
    "# =============================================================================\n",
    "# Ajuste de los datos\n",
    "# =============================================================================\n",
    "File_name=Fecha+'_Fact_CL_Mater_Canales_'+Fecha_fin\n",
    "col_names=pd.read_csv(\"Data/\"+File_name+\".csv\",\n",
    "                    encoding=\"utf-8\",sep=\";\",nrows=0).columns\n",
    "types_dict = {col: str for col in col_names}\n",
    "\n",
    "Data2 = pd.read_csv(\"Data/\"+File_name+\".csv\",\n",
    "                   encoding=\"utf-8\",sep=\";\",dtype=types_dict)\n",
    "Data2.head(1)"
   ]
  },
  {
   "cell_type": "code",
   "execution_count": 8,
   "id": "4d8a50f7",
   "metadata": {
    "scrolled": true
   },
   "outputs": [
    {
     "name": "stdout",
     "output_type": "stream",
     "text": [
      "Kilos Venta KG\n",
      "Venta Neta\n",
      "Precio Promedio\n"
     ]
    }
   ],
   "source": [
    "data2=Ajuste_data(Data2)"
   ]
  },
  {
   "cell_type": "markdown",
   "id": "5e267913",
   "metadata": {},
   "source": [
    "## Unificar "
   ]
  },
  {
   "cell_type": "markdown",
   "id": "55d890d1",
   "metadata": {},
   "source": [
    "### Primera y ultima fecha "
   ]
  },
  {
   "cell_type": "code",
   "execution_count": 13,
   "id": "1e2fa2cc",
   "metadata": {
    "scrolled": true
   },
   "outputs": [
    {
     "data": {
      "text/plain": [
       "datetime.date(2021, 6, 19)"
      ]
     },
     "execution_count": 13,
     "metadata": {},
     "output_type": "execute_result"
    }
   ],
   "source": [
    "data2['Día natural'].max()"
   ]
  },
  {
   "cell_type": "code",
   "execution_count": 14,
   "id": "19e8cf3f",
   "metadata": {},
   "outputs": [
    {
     "data": {
      "text/plain": [
       "datetime.date(2021, 6, 8)"
      ]
     },
     "execution_count": 14,
     "metadata": {},
     "output_type": "execute_result"
    }
   ],
   "source": [
    "data2['Día natural'].min()"
   ]
  },
  {
   "cell_type": "code",
   "execution_count": 15,
   "id": "c4a91bfb",
   "metadata": {},
   "outputs": [
    {
     "data": {
      "text/plain": [
       "datetime.date(2021, 6, 7)"
      ]
     },
     "execution_count": 15,
     "metadata": {},
     "output_type": "execute_result"
    }
   ],
   "source": [
    "data1['Día natural'].max()"
   ]
  },
  {
   "cell_type": "code",
   "execution_count": 16,
   "id": "a357e839",
   "metadata": {},
   "outputs": [
    {
     "data": {
      "text/plain": [
       "datetime.date(2019, 1, 2)"
      ]
     },
     "execution_count": 16,
     "metadata": {},
     "output_type": "execute_result"
    }
   ],
   "source": [
    "data1['Día natural'].min()"
   ]
  },
  {
   "cell_type": "markdown",
   "id": "f7f9cb59",
   "metadata": {},
   "source": [
    "### Concatenar "
   ]
  },
  {
   "cell_type": "code",
   "execution_count": 17,
   "id": "0c35035e",
   "metadata": {},
   "outputs": [
    {
     "data": {
      "text/html": [
       "<div>\n",
       "<style scoped>\n",
       "    .dataframe tbody tr th:only-of-type {\n",
       "        vertical-align: middle;\n",
       "    }\n",
       "\n",
       "    .dataframe tbody tr th {\n",
       "        vertical-align: top;\n",
       "    }\n",
       "\n",
       "    .dataframe thead th {\n",
       "        text-align: right;\n",
       "    }\n",
       "</style>\n",
       "<table border=\"1\" class=\"dataframe\">\n",
       "  <thead>\n",
       "    <tr style=\"text-align: right;\">\n",
       "      <th></th>\n",
       "      <th>Sector</th>\n",
       "      <th>Material</th>\n",
       "      <th>Tipo de cliente</th>\n",
       "      <th>Zona de ventas</th>\n",
       "      <th>Zona de ventas.1</th>\n",
       "      <th>Oficina de Ventas Unifica</th>\n",
       "      <th>Oficina de Ventas Unifica.1</th>\n",
       "      <th>Mes</th>\n",
       "      <th>Año natural/Semana</th>\n",
       "      <th>Día natural</th>\n",
       "      <th>Día de la semana</th>\n",
       "      <th>Kilos Venta KG</th>\n",
       "      <th>Venta Neta</th>\n",
       "      <th>Precio Promedio</th>\n",
       "      <th>Unidad Venta</th>\n",
       "      <th>Unidad Precio</th>\n",
       "      <th>Semana</th>\n",
       "      <th>Año</th>\n",
       "    </tr>\n",
       "  </thead>\n",
       "  <tbody>\n",
       "    <tr>\n",
       "      <th>count</th>\n",
       "      <td>453813</td>\n",
       "      <td>453813</td>\n",
       "      <td>453813</td>\n",
       "      <td>453813</td>\n",
       "      <td>453813</td>\n",
       "      <td>453813</td>\n",
       "      <td>453813</td>\n",
       "      <td>453813</td>\n",
       "      <td>453813</td>\n",
       "      <td>453813</td>\n",
       "      <td>453813</td>\n",
       "      <td>453813.000000</td>\n",
       "      <td>4.538130e+05</td>\n",
       "      <td>453813.000000</td>\n",
       "      <td>453813</td>\n",
       "      <td>453813</td>\n",
       "      <td>453813.000000</td>\n",
       "      <td>453813.000000</td>\n",
       "    </tr>\n",
       "    <tr>\n",
       "      <th>unique</th>\n",
       "      <td>2</td>\n",
       "      <td>13</td>\n",
       "      <td>4</td>\n",
       "      <td>6</td>\n",
       "      <td>6</td>\n",
       "      <td>34</td>\n",
       "      <td>34</td>\n",
       "      <td>12</td>\n",
       "      <td>129</td>\n",
       "      <td>796</td>\n",
       "      <td>7</td>\n",
       "      <td>NaN</td>\n",
       "      <td>NaN</td>\n",
       "      <td>NaN</td>\n",
       "      <td>3</td>\n",
       "      <td>3</td>\n",
       "      <td>NaN</td>\n",
       "      <td>NaN</td>\n",
       "    </tr>\n",
       "    <tr>\n",
       "      <th>top</th>\n",
       "      <td>Pollo</td>\n",
       "      <td>1010078</td>\n",
       "      <td>Tradicional</td>\n",
       "      <td>Z003</td>\n",
       "      <td>Centro Sur</td>\n",
       "      <td>Concepcion</td>\n",
       "      <td>T104</td>\n",
       "      <td>3</td>\n",
       "      <td>49.2019</td>\n",
       "      <td>2019-04-18</td>\n",
       "      <td>MI</td>\n",
       "      <td>NaN</td>\n",
       "      <td>NaN</td>\n",
       "      <td>NaN</td>\n",
       "      <td>CLP</td>\n",
       "      <td>CLP</td>\n",
       "      <td>NaN</td>\n",
       "      <td>NaN</td>\n",
       "    </tr>\n",
       "    <tr>\n",
       "      <th>freq</th>\n",
       "      <td>241020</td>\n",
       "      <td>52663</td>\n",
       "      <td>212544</td>\n",
       "      <td>125699</td>\n",
       "      <td>125699</td>\n",
       "      <td>23212</td>\n",
       "      <td>23212</td>\n",
       "      <td>49744</td>\n",
       "      <td>4061</td>\n",
       "      <td>731</td>\n",
       "      <td>78619</td>\n",
       "      <td>NaN</td>\n",
       "      <td>NaN</td>\n",
       "      <td>NaN</td>\n",
       "      <td>453379</td>\n",
       "      <td>453379</td>\n",
       "      <td>NaN</td>\n",
       "      <td>NaN</td>\n",
       "    </tr>\n",
       "    <tr>\n",
       "      <th>mean</th>\n",
       "      <td>NaN</td>\n",
       "      <td>NaN</td>\n",
       "      <td>NaN</td>\n",
       "      <td>NaN</td>\n",
       "      <td>NaN</td>\n",
       "      <td>NaN</td>\n",
       "      <td>NaN</td>\n",
       "      <td>NaN</td>\n",
       "      <td>NaN</td>\n",
       "      <td>NaN</td>\n",
       "      <td>NaN</td>\n",
       "      <td>607.706298</td>\n",
       "      <td>9.621685e+05</td>\n",
       "      <td>1852.141276</td>\n",
       "      <td>NaN</td>\n",
       "      <td>NaN</td>\n",
       "      <td>23.719506</td>\n",
       "      <td>2019.774026</td>\n",
       "    </tr>\n",
       "    <tr>\n",
       "      <th>std</th>\n",
       "      <td>NaN</td>\n",
       "      <td>NaN</td>\n",
       "      <td>NaN</td>\n",
       "      <td>NaN</td>\n",
       "      <td>NaN</td>\n",
       "      <td>NaN</td>\n",
       "      <td>NaN</td>\n",
       "      <td>NaN</td>\n",
       "      <td>NaN</td>\n",
       "      <td>NaN</td>\n",
       "      <td>NaN</td>\n",
       "      <td>1245.407968</td>\n",
       "      <td>1.803804e+06</td>\n",
       "      <td>726.489231</td>\n",
       "      <td>NaN</td>\n",
       "      <td>NaN</td>\n",
       "      <td>14.994992</td>\n",
       "      <td>0.739182</td>\n",
       "    </tr>\n",
       "    <tr>\n",
       "      <th>min</th>\n",
       "      <td>NaN</td>\n",
       "      <td>NaN</td>\n",
       "      <td>NaN</td>\n",
       "      <td>NaN</td>\n",
       "      <td>NaN</td>\n",
       "      <td>NaN</td>\n",
       "      <td>NaN</td>\n",
       "      <td>NaN</td>\n",
       "      <td>NaN</td>\n",
       "      <td>NaN</td>\n",
       "      <td>NaN</td>\n",
       "      <td>0.000000</td>\n",
       "      <td>0.000000e+00</td>\n",
       "      <td>0.000000</td>\n",
       "      <td>NaN</td>\n",
       "      <td>NaN</td>\n",
       "      <td>1.000000</td>\n",
       "      <td>2019.000000</td>\n",
       "    </tr>\n",
       "    <tr>\n",
       "      <th>25%</th>\n",
       "      <td>NaN</td>\n",
       "      <td>NaN</td>\n",
       "      <td>NaN</td>\n",
       "      <td>NaN</td>\n",
       "      <td>NaN</td>\n",
       "      <td>NaN</td>\n",
       "      <td>NaN</td>\n",
       "      <td>NaN</td>\n",
       "      <td>NaN</td>\n",
       "      <td>NaN</td>\n",
       "      <td>NaN</td>\n",
       "      <td>67.000000</td>\n",
       "      <td>1.208360e+05</td>\n",
       "      <td>1309.000000</td>\n",
       "      <td>NaN</td>\n",
       "      <td>NaN</td>\n",
       "      <td>11.000000</td>\n",
       "      <td>2019.000000</td>\n",
       "    </tr>\n",
       "    <tr>\n",
       "      <th>50%</th>\n",
       "      <td>NaN</td>\n",
       "      <td>NaN</td>\n",
       "      <td>NaN</td>\n",
       "      <td>NaN</td>\n",
       "      <td>NaN</td>\n",
       "      <td>NaN</td>\n",
       "      <td>NaN</td>\n",
       "      <td>NaN</td>\n",
       "      <td>NaN</td>\n",
       "      <td>NaN</td>\n",
       "      <td>NaN</td>\n",
       "      <td>200.000000</td>\n",
       "      <td>3.476820e+05</td>\n",
       "      <td>1690.000000</td>\n",
       "      <td>NaN</td>\n",
       "      <td>NaN</td>\n",
       "      <td>22.000000</td>\n",
       "      <td>2020.000000</td>\n",
       "    </tr>\n",
       "    <tr>\n",
       "      <th>75%</th>\n",
       "      <td>NaN</td>\n",
       "      <td>NaN</td>\n",
       "      <td>NaN</td>\n",
       "      <td>NaN</td>\n",
       "      <td>NaN</td>\n",
       "      <td>NaN</td>\n",
       "      <td>NaN</td>\n",
       "      <td>NaN</td>\n",
       "      <td>NaN</td>\n",
       "      <td>NaN</td>\n",
       "      <td>NaN</td>\n",
       "      <td>555.000000</td>\n",
       "      <td>9.756900e+05</td>\n",
       "      <td>2283.000000</td>\n",
       "      <td>NaN</td>\n",
       "      <td>NaN</td>\n",
       "      <td>36.000000</td>\n",
       "      <td>2020.000000</td>\n",
       "    </tr>\n",
       "    <tr>\n",
       "      <th>max</th>\n",
       "      <td>NaN</td>\n",
       "      <td>NaN</td>\n",
       "      <td>NaN</td>\n",
       "      <td>NaN</td>\n",
       "      <td>NaN</td>\n",
       "      <td>NaN</td>\n",
       "      <td>NaN</td>\n",
       "      <td>NaN</td>\n",
       "      <td>NaN</td>\n",
       "      <td>NaN</td>\n",
       "      <td>NaN</td>\n",
       "      <td>38890.000000</td>\n",
       "      <td>6.880883e+07</td>\n",
       "      <td>13567.000000</td>\n",
       "      <td>NaN</td>\n",
       "      <td>NaN</td>\n",
       "      <td>53.000000</td>\n",
       "      <td>2021.000000</td>\n",
       "    </tr>\n",
       "  </tbody>\n",
       "</table>\n",
       "</div>"
      ],
      "text/plain": [
       "        Sector Material Tipo de cliente Zona de ventas Zona de ventas.1  \\\n",
       "count   453813   453813          453813         453813           453813   \n",
       "unique       2       13               4              6                6   \n",
       "top      Pollo  1010078     Tradicional           Z003       Centro Sur   \n",
       "freq    241020    52663          212544         125699           125699   \n",
       "mean       NaN      NaN             NaN            NaN              NaN   \n",
       "std        NaN      NaN             NaN            NaN              NaN   \n",
       "min        NaN      NaN             NaN            NaN              NaN   \n",
       "25%        NaN      NaN             NaN            NaN              NaN   \n",
       "50%        NaN      NaN             NaN            NaN              NaN   \n",
       "75%        NaN      NaN             NaN            NaN              NaN   \n",
       "max        NaN      NaN             NaN            NaN              NaN   \n",
       "\n",
       "       Oficina de Ventas Unifica Oficina de Ventas Unifica.1     Mes  \\\n",
       "count                     453813                      453813  453813   \n",
       "unique                        34                          34      12   \n",
       "top                   Concepcion                        T104       3   \n",
       "freq                       23212                       23212   49744   \n",
       "mean                         NaN                         NaN     NaN   \n",
       "std                          NaN                         NaN     NaN   \n",
       "min                          NaN                         NaN     NaN   \n",
       "25%                          NaN                         NaN     NaN   \n",
       "50%                          NaN                         NaN     NaN   \n",
       "75%                          NaN                         NaN     NaN   \n",
       "max                          NaN                         NaN     NaN   \n",
       "\n",
       "       Año natural/Semana Día natural Día de la semana  Kilos Venta KG  \\\n",
       "count              453813      453813           453813   453813.000000   \n",
       "unique                129         796                7             NaN   \n",
       "top               49.2019  2019-04-18               MI             NaN   \n",
       "freq                 4061         731            78619             NaN   \n",
       "mean                  NaN         NaN              NaN      607.706298   \n",
       "std                   NaN         NaN              NaN     1245.407968   \n",
       "min                   NaN         NaN              NaN        0.000000   \n",
       "25%                   NaN         NaN              NaN       67.000000   \n",
       "50%                   NaN         NaN              NaN      200.000000   \n",
       "75%                   NaN         NaN              NaN      555.000000   \n",
       "max                   NaN         NaN              NaN    38890.000000   \n",
       "\n",
       "          Venta Neta  Precio Promedio Unidad Venta Unidad Precio  \\\n",
       "count   4.538130e+05    453813.000000       453813        453813   \n",
       "unique           NaN              NaN            3             3   \n",
       "top              NaN              NaN          CLP           CLP   \n",
       "freq             NaN              NaN       453379        453379   \n",
       "mean    9.621685e+05      1852.141276          NaN           NaN   \n",
       "std     1.803804e+06       726.489231          NaN           NaN   \n",
       "min     0.000000e+00         0.000000          NaN           NaN   \n",
       "25%     1.208360e+05      1309.000000          NaN           NaN   \n",
       "50%     3.476820e+05      1690.000000          NaN           NaN   \n",
       "75%     9.756900e+05      2283.000000          NaN           NaN   \n",
       "max     6.880883e+07     13567.000000          NaN           NaN   \n",
       "\n",
       "               Semana            Año  \n",
       "count   453813.000000  453813.000000  \n",
       "unique            NaN            NaN  \n",
       "top               NaN            NaN  \n",
       "freq              NaN            NaN  \n",
       "mean        23.719506    2019.774026  \n",
       "std         14.994992       0.739182  \n",
       "min          1.000000    2019.000000  \n",
       "25%         11.000000    2019.000000  \n",
       "50%         22.000000    2020.000000  \n",
       "75%         36.000000    2020.000000  \n",
       "max         53.000000    2021.000000  "
      ]
     },
     "execution_count": 17,
     "metadata": {},
     "output_type": "execute_result"
    }
   ],
   "source": [
    "data=pd.concat([data1, data2])\n",
    "data.describe(include='all')"
   ]
  },
  {
   "cell_type": "code",
   "execution_count": 18,
   "id": "22e7cbd9",
   "metadata": {},
   "outputs": [
    {
     "data": {
      "text/plain": [
       "datetime.date(2019, 1, 2)"
      ]
     },
     "execution_count": 18,
     "metadata": {},
     "output_type": "execute_result"
    }
   ],
   "source": [
    "data['Día natural'].min()"
   ]
  },
  {
   "cell_type": "code",
   "execution_count": 19,
   "id": "53495744",
   "metadata": {},
   "outputs": [
    {
     "data": {
      "text/plain": [
       "datetime.date(2021, 6, 19)"
      ]
     },
     "execution_count": 19,
     "metadata": {},
     "output_type": "execute_result"
    }
   ],
   "source": [
    "data['Día natural'].max()"
   ]
  },
  {
   "cell_type": "markdown",
   "id": "0372244d",
   "metadata": {},
   "source": [
    "# Predicción  Prophet\n"
   ]
  },
  {
   "cell_type": "code",
   "execution_count": 20,
   "id": "bc444ce2",
   "metadata": {
    "scrolled": false
   },
   "outputs": [],
   "source": [
    "y_col='Kilos Venta KG'\n",
    "y_value='Volumen de ventas en KG'\n",
    "y_title= 'Demanda'+'del canal tradicion'"
   ]
  },
  {
   "cell_type": "markdown",
   "id": "6684566a",
   "metadata": {},
   "source": [
    "## Descripción "
   ]
  },
  {
   "cell_type": "code",
   "execution_count": 21,
   "id": "4aefecf7",
   "metadata": {
    "scrolled": false
   },
   "outputs": [
    {
     "data": {
      "text/html": [
       "<div>\n",
       "<style scoped>\n",
       "    .dataframe tbody tr th:only-of-type {\n",
       "        vertical-align: middle;\n",
       "    }\n",
       "\n",
       "    .dataframe tbody tr th {\n",
       "        vertical-align: top;\n",
       "    }\n",
       "\n",
       "    .dataframe thead th {\n",
       "        text-align: right;\n",
       "    }\n",
       "</style>\n",
       "<table border=\"1\" class=\"dataframe\">\n",
       "  <thead>\n",
       "    <tr style=\"text-align: right;\">\n",
       "      <th></th>\n",
       "      <th>Sector</th>\n",
       "      <th>Material</th>\n",
       "      <th>Tipo de cliente</th>\n",
       "      <th>Zona de ventas</th>\n",
       "      <th>Zona de ventas.1</th>\n",
       "      <th>Oficina de Ventas Unifica</th>\n",
       "      <th>Oficina de Ventas Unifica.1</th>\n",
       "      <th>Mes</th>\n",
       "      <th>Año natural/Semana</th>\n",
       "      <th>Día natural</th>\n",
       "      <th>Día de la semana</th>\n",
       "      <th>Kilos Venta KG</th>\n",
       "      <th>Venta Neta</th>\n",
       "      <th>Precio Promedio</th>\n",
       "      <th>Unidad Venta</th>\n",
       "      <th>Unidad Precio</th>\n",
       "      <th>Semana</th>\n",
       "      <th>Año</th>\n",
       "    </tr>\n",
       "  </thead>\n",
       "  <tbody>\n",
       "    <tr>\n",
       "      <th>0</th>\n",
       "      <td>Cerdo</td>\n",
       "      <td>1020253</td>\n",
       "      <td>Tradicional</td>\n",
       "      <td>Z001</td>\n",
       "      <td>Santiago</td>\n",
       "      <td>Huechuraba</td>\n",
       "      <td>T101</td>\n",
       "      <td>1</td>\n",
       "      <td>01.2019</td>\n",
       "      <td>2019-01-02</td>\n",
       "      <td>MI</td>\n",
       "      <td>36.0</td>\n",
       "      <td>81788.0</td>\n",
       "      <td>2250.0</td>\n",
       "      <td>CLP</td>\n",
       "      <td>CLP</td>\n",
       "      <td>1</td>\n",
       "      <td>2019</td>\n",
       "    </tr>\n",
       "    <tr>\n",
       "      <th>1</th>\n",
       "      <td>Cerdo</td>\n",
       "      <td>1020253</td>\n",
       "      <td>Tradicional</td>\n",
       "      <td>Z001</td>\n",
       "      <td>Santiago</td>\n",
       "      <td>Huechuraba</td>\n",
       "      <td>T101</td>\n",
       "      <td>1</td>\n",
       "      <td>01.2019</td>\n",
       "      <td>2019-01-03</td>\n",
       "      <td>JU</td>\n",
       "      <td>333.0</td>\n",
       "      <td>583204.0</td>\n",
       "      <td>1750.0</td>\n",
       "      <td>CLP</td>\n",
       "      <td>CLP</td>\n",
       "      <td>1</td>\n",
       "      <td>2019</td>\n",
       "    </tr>\n",
       "    <tr>\n",
       "      <th>2</th>\n",
       "      <td>Cerdo</td>\n",
       "      <td>1020253</td>\n",
       "      <td>Tradicional</td>\n",
       "      <td>Z001</td>\n",
       "      <td>Santiago</td>\n",
       "      <td>Huechuraba</td>\n",
       "      <td>T101</td>\n",
       "      <td>1</td>\n",
       "      <td>01.2019</td>\n",
       "      <td>2019-01-05</td>\n",
       "      <td>SA</td>\n",
       "      <td>219.0</td>\n",
       "      <td>397031.0</td>\n",
       "      <td>1815.0</td>\n",
       "      <td>CLP</td>\n",
       "      <td>CLP</td>\n",
       "      <td>1</td>\n",
       "      <td>2019</td>\n",
       "    </tr>\n",
       "    <tr>\n",
       "      <th>3</th>\n",
       "      <td>Cerdo</td>\n",
       "      <td>1020253</td>\n",
       "      <td>Tradicional</td>\n",
       "      <td>Z001</td>\n",
       "      <td>Santiago</td>\n",
       "      <td>Huechuraba</td>\n",
       "      <td>T101</td>\n",
       "      <td>1</td>\n",
       "      <td>02.2019</td>\n",
       "      <td>2019-01-07</td>\n",
       "      <td>LU</td>\n",
       "      <td>128.0</td>\n",
       "      <td>258591.0</td>\n",
       "      <td>2017.0</td>\n",
       "      <td>CLP</td>\n",
       "      <td>CLP</td>\n",
       "      <td>2</td>\n",
       "      <td>2019</td>\n",
       "    </tr>\n",
       "    <tr>\n",
       "      <th>4</th>\n",
       "      <td>Cerdo</td>\n",
       "      <td>1020253</td>\n",
       "      <td>Tradicional</td>\n",
       "      <td>Z001</td>\n",
       "      <td>Santiago</td>\n",
       "      <td>Huechuraba</td>\n",
       "      <td>T101</td>\n",
       "      <td>1</td>\n",
       "      <td>02.2019</td>\n",
       "      <td>2019-01-08</td>\n",
       "      <td>MA</td>\n",
       "      <td>95.0</td>\n",
       "      <td>210790.0</td>\n",
       "      <td>2223.0</td>\n",
       "      <td>CLP</td>\n",
       "      <td>CLP</td>\n",
       "      <td>2</td>\n",
       "      <td>2019</td>\n",
       "    </tr>\n",
       "  </tbody>\n",
       "</table>\n",
       "</div>"
      ],
      "text/plain": [
       "  Sector Material Tipo de cliente Zona de ventas Zona de ventas.1  \\\n",
       "0  Cerdo  1020253     Tradicional           Z001         Santiago   \n",
       "1  Cerdo  1020253     Tradicional           Z001         Santiago   \n",
       "2  Cerdo  1020253     Tradicional           Z001         Santiago   \n",
       "3  Cerdo  1020253     Tradicional           Z001         Santiago   \n",
       "4  Cerdo  1020253     Tradicional           Z001         Santiago   \n",
       "\n",
       "  Oficina de Ventas Unifica Oficina de Ventas Unifica.1 Mes  \\\n",
       "0                Huechuraba                        T101   1   \n",
       "1                Huechuraba                        T101   1   \n",
       "2                Huechuraba                        T101   1   \n",
       "3                Huechuraba                        T101   1   \n",
       "4                Huechuraba                        T101   1   \n",
       "\n",
       "  Año natural/Semana Día natural Día de la semana  Kilos Venta KG  Venta Neta  \\\n",
       "0            01.2019  2019-01-02               MI            36.0     81788.0   \n",
       "1            01.2019  2019-01-03               JU           333.0    583204.0   \n",
       "2            01.2019  2019-01-05               SA           219.0    397031.0   \n",
       "3            02.2019  2019-01-07               LU           128.0    258591.0   \n",
       "4            02.2019  2019-01-08               MA            95.0    210790.0   \n",
       "\n",
       "   Precio Promedio Unidad Venta Unidad Precio  Semana   Año  \n",
       "0           2250.0          CLP           CLP       1  2019  \n",
       "1           1750.0          CLP           CLP       1  2019  \n",
       "2           1815.0          CLP           CLP       1  2019  \n",
       "3           2017.0          CLP           CLP       2  2019  \n",
       "4           2223.0          CLP           CLP       2  2019  "
      ]
     },
     "execution_count": 21,
     "metadata": {},
     "output_type": "execute_result"
    }
   ],
   "source": [
    "data.head()"
   ]
  },
  {
   "cell_type": "code",
   "execution_count": 22,
   "id": "4659c906",
   "metadata": {},
   "outputs": [
    {
     "data": {
      "text/plain": [
       "Index(['Sector', 'Material', 'Tipo de cliente', 'Zona de ventas',\n",
       "       'Zona de ventas.1', 'Oficina de Ventas Unifica',\n",
       "       'Oficina de Ventas Unifica.1', 'Mes', 'Año natural/Semana',\n",
       "       'Día natural', 'Día de la semana', 'Kilos Venta KG', 'Venta Neta',\n",
       "       'Precio Promedio', 'Unidad Venta', 'Unidad Precio', 'Semana', 'Año'],\n",
       "      dtype='object')"
      ]
     },
     "execution_count": 22,
     "metadata": {},
     "output_type": "execute_result"
    }
   ],
   "source": [
    "data.columns"
   ]
  },
  {
   "cell_type": "code",
   "execution_count": 23,
   "id": "3a4c5fee",
   "metadata": {},
   "outputs": [
    {
     "name": "stdout",
     "output_type": "stream",
     "text": [
      "['Tradicional' 'Industriales' 'Grandes Clientes' 'Foodservice']\n",
      "['Santiago' 'Centro Norte' 'Centro Sur' 'Sur' 'Norte' 'Venta Directa']\n",
      "['Huechuraba' 'Lo Espejo' 'Quilin' 'Sucursal Miraflores' 'Coquimbo'\n",
      " 'Hijuelas' 'Ovalle' 'San Antonio' 'San Felipe' 'Viña del Mar' 'Chillan'\n",
      " 'Concepcion' 'Curico' 'Los Angeles' 'Rancagua' 'Talca' 'Castro'\n",
      " 'Coyhaique' 'Osorno' 'Puerto Montt' 'Punta Arenas' 'Temuco' 'Valdivia'\n",
      " 'Antofagasta' 'Arica' 'Calama' 'Copiapo' 'Iquique' 'Vallenar'\n",
      " 'VD FoodService' 'VD Industrial' 'VD Grandes Clientes'\n",
      " 'Sucursal Dieciocho' 'Vendedores San Pablo']\n",
      "['1020253' '1020042' '1020027' '1020013' '1020010' '1020003' '1020001'\n",
      " '1010695' '1010267' '1010078' '1010077' '1010048' '1010002']\n"
     ]
    }
   ],
   "source": [
    "print(data['Tipo de cliente'].unique())\n",
    "print(data['Zona de ventas.1'].unique())\n",
    "print(data['Oficina de Ventas Unifica'].unique())\n",
    "print(data['Material'].unique())"
   ]
  },
  {
   "cell_type": "markdown",
   "id": "db0581c6",
   "metadata": {},
   "source": [
    "## función "
   ]
  },
  {
   "cell_type": "code",
   "execution_count": 24,
   "id": "dee5e647",
   "metadata": {},
   "outputs": [],
   "source": [
    "def Df_ubic(data_X,col,Str):\n",
    "    df=data_X.copy()\n",
    "    df=df[df[col]==Str]\n",
    "    return df"
   ]
  },
  {
   "cell_type": "code",
   "execution_count": 25,
   "id": "e93ac778",
   "metadata": {},
   "outputs": [],
   "source": [
    "def Predict_sem(D_Train,periodos=5):\n",
    "    D_Train.columns = ['ds','y']\n",
    "    \n",
    "    # convert dates from string to datetime\n",
    "    D_Train.ds = pd.to_datetime(D_Train.ds)\n",
    "    #print(D_Train.dtypes)\n",
    "    \n",
    "    # set prophet model \n",
    "    prophet = Prophet(changepoint_prior_scale=0.15, yearly_seasonality=True)\n",
    "    \n",
    "    # fit $wmt data to model\n",
    "    prophet.fit(D_Train)\n",
    "    \n",
    "    \n",
    "    \n",
    "    # build future dataframe for 5 years\n",
    "    build_forecast = prophet.make_future_dataframe(periods= periodos , freq='D')\n",
    "    #prophet.make_future_dataframe(periods= periodos, freq='D')\n",
    "    \n",
    "    # forecast future df w/ model\n",
    "    forecast = prophet.predict(build_forecast)\n",
    "    \n",
    "    return(forecast)"
   ]
  },
  {
   "cell_type": "code",
   "execution_count": 55,
   "id": "859ea8a4",
   "metadata": {
    "scrolled": true
   },
   "outputs": [],
   "source": [
    "def Limit_fecha(Y,AÑO=2021,MES=6,DIA_INIC=22,DIA_FIN=26):\n",
    "    X=Y.copy()\n",
    "    X[\"Día natural\"] = X[\"Día natural\"].apply(lambda x: \n",
    "                                                    datetime.datetime.strptime(str(x).split(' ')[0],\n",
    "                                                                               '%Y-%m-%d').date())\n",
    "    X=X[X['Día natural'] >= datetime.date(AÑO, MES, DIA_INIC)]\n",
    "    X=X[X['Día natural'] <= datetime.date(AÑO, MES, DIA_FIN)]\n",
    "    return X"
   ]
  },
  {
   "cell_type": "code",
   "execution_count": 56,
   "id": "ed2d267d",
   "metadata": {},
   "outputs": [],
   "source": [
    "AÑO=2021\n",
    "MES=6\n",
    "DIA_INIC=22\n",
    "DIA_FIN=26"
   ]
  },
  {
   "cell_type": "markdown",
   "id": "a3d7b419",
   "metadata": {
    "heading_collapsed": true
   },
   "source": [
    "## Predicción de todo chile"
   ]
  },
  {
   "cell_type": "code",
   "execution_count": 29,
   "id": "efa3d7dc",
   "metadata": {
    "hidden": true,
    "scrolled": true
   },
   "outputs": [
    {
     "name": "stderr",
     "output_type": "stream",
     "text": [
      "INFO:fbprophet:Disabling daily seasonality. Run prophet with daily_seasonality=True to override this.\n",
      "INFO:fbprophet:Disabling daily seasonality. Run prophet with daily_seasonality=True to override this.\n"
     ]
    },
    {
     "name": "stdout",
     "output_type": "stream",
     "text": [
      "El producto  1020253  demoró 2.2704501152038574\n",
      "tiempo que lleva corriendo 0.03820780515670776 Min\n"
     ]
    },
    {
     "name": "stderr",
     "output_type": "stream",
     "text": [
      "INFO:fbprophet:Disabling daily seasonality. Run prophet with daily_seasonality=True to override this.\n"
     ]
    },
    {
     "name": "stdout",
     "output_type": "stream",
     "text": [
      "El producto  1020042  demoró 1.952176809310913\n",
      "tiempo que lleva corriendo 0.07077744404474894 Min\n"
     ]
    },
    {
     "name": "stderr",
     "output_type": "stream",
     "text": [
      "INFO:fbprophet:Disabling daily seasonality. Run prophet with daily_seasonality=True to override this.\n"
     ]
    },
    {
     "name": "stdout",
     "output_type": "stream",
     "text": [
      "El producto  1020027  demoró 2.2469305992126465\n",
      "tiempo que lleva corriendo 0.10824296474456788 Min\n"
     ]
    },
    {
     "name": "stderr",
     "output_type": "stream",
     "text": [
      "INFO:fbprophet:Disabling daily seasonality. Run prophet with daily_seasonality=True to override this.\n"
     ]
    },
    {
     "name": "stdout",
     "output_type": "stream",
     "text": [
      "El producto  1020013  demoró 2.128828525543213\n",
      "tiempo que lleva corriendo 0.14373178084691365 Min\n"
     ]
    },
    {
     "name": "stderr",
     "output_type": "stream",
     "text": [
      "INFO:fbprophet:Disabling daily seasonality. Run prophet with daily_seasonality=True to override this.\n"
     ]
    },
    {
     "name": "stdout",
     "output_type": "stream",
     "text": [
      "El producto  1020010  demoró 2.3480169773101807\n",
      "tiempo que lleva corriendo 0.18287373781204225 Min\n"
     ]
    },
    {
     "name": "stderr",
     "output_type": "stream",
     "text": [
      "INFO:fbprophet:Disabling daily seasonality. Run prophet with daily_seasonality=True to override this.\n"
     ]
    },
    {
     "name": "stdout",
     "output_type": "stream",
     "text": [
      "El producto  1020003  demoró 3.506512403488159\n",
      "tiempo que lleva corriendo 0.24132394393285114 Min\n"
     ]
    },
    {
     "name": "stderr",
     "output_type": "stream",
     "text": [
      "INFO:fbprophet:Disabling daily seasonality. Run prophet with daily_seasonality=True to override this.\n"
     ]
    },
    {
     "name": "stdout",
     "output_type": "stream",
     "text": [
      "El producto  1020001  demoró 2.134833574295044\n",
      "tiempo que lleva corriendo 0.27690450350443524 Min\n"
     ]
    },
    {
     "name": "stderr",
     "output_type": "stream",
     "text": [
      "INFO:fbprophet:Disabling daily seasonality. Run prophet with daily_seasonality=True to override this.\n"
     ]
    },
    {
     "name": "stdout",
     "output_type": "stream",
     "text": [
      "El producto  1010695  demoró 2.119320869445801\n",
      "tiempo que lleva corriendo 0.3122431993484497 Min\n"
     ]
    },
    {
     "name": "stderr",
     "output_type": "stream",
     "text": [
      "INFO:fbprophet:Disabling daily seasonality. Run prophet with daily_seasonality=True to override this.\n"
     ]
    },
    {
     "name": "stdout",
     "output_type": "stream",
     "text": [
      "El producto  1010267  demoró 2.1583540439605713\n",
      "tiempo que lleva corriendo 0.34824078480402626 Min\n",
      "El producto  1010078  demoró 2.0937986373901367\n",
      "tiempo que lleva corriendo 0.38315410614013673 Min\n"
     ]
    },
    {
     "name": "stderr",
     "output_type": "stream",
     "text": [
      "INFO:fbprophet:Disabling daily seasonality. Run prophet with daily_seasonality=True to override this.\n",
      "INFO:fbprophet:Disabling daily seasonality. Run prophet with daily_seasonality=True to override this.\n"
     ]
    },
    {
     "name": "stdout",
     "output_type": "stream",
     "text": [
      "El producto  1010077  demoró 2.0787861347198486\n",
      "tiempo que lleva corriendo 0.4178339203198751 Min\n"
     ]
    },
    {
     "name": "stderr",
     "output_type": "stream",
     "text": [
      "INFO:fbprophet:Disabling daily seasonality. Run prophet with daily_seasonality=True to override this.\n"
     ]
    },
    {
     "name": "stdout",
     "output_type": "stream",
     "text": [
      "El producto  1010048  demoró 2.989067554473877\n",
      "tiempo que lleva corriendo 0.46767671902974445 Min\n",
      "El producto  1010002  demoró 2.2759552001953125\n",
      "tiempo que lleva corriendo 0.5056259910265605 Min\n"
     ]
    },
    {
     "data": {
      "text/html": [
       "<div>\n",
       "<style scoped>\n",
       "    .dataframe tbody tr th:only-of-type {\n",
       "        vertical-align: middle;\n",
       "    }\n",
       "\n",
       "    .dataframe tbody tr th {\n",
       "        vertical-align: top;\n",
       "    }\n",
       "\n",
       "    .dataframe thead th {\n",
       "        text-align: right;\n",
       "    }\n",
       "</style>\n",
       "<table border=\"1\" class=\"dataframe\">\n",
       "  <thead>\n",
       "    <tr style=\"text-align: right;\">\n",
       "      <th></th>\n",
       "      <th>Día natural</th>\n",
       "      <th>Predicción Inferior</th>\n",
       "      <th>Predicción Superior</th>\n",
       "      <th>Predicción central</th>\n",
       "      <th>Material</th>\n",
       "      <th>Sector</th>\n",
       "    </tr>\n",
       "  </thead>\n",
       "  <tbody>\n",
       "    <tr>\n",
       "      <th>0</th>\n",
       "      <td>2021-06-20</td>\n",
       "      <td>3314.992677</td>\n",
       "      <td>12980.866924</td>\n",
       "      <td>8160.149693</td>\n",
       "      <td>1020253</td>\n",
       "      <td>Cerdo</td>\n",
       "    </tr>\n",
       "    <tr>\n",
       "      <th>1</th>\n",
       "      <td>2021-06-21</td>\n",
       "      <td>7633.138356</td>\n",
       "      <td>16309.580899</td>\n",
       "      <td>12224.873388</td>\n",
       "      <td>1020253</td>\n",
       "      <td>Cerdo</td>\n",
       "    </tr>\n",
       "    <tr>\n",
       "      <th>2</th>\n",
       "      <td>2021-06-22</td>\n",
       "      <td>9516.790383</td>\n",
       "      <td>19117.826392</td>\n",
       "      <td>14364.864922</td>\n",
       "      <td>1020253</td>\n",
       "      <td>Cerdo</td>\n",
       "    </tr>\n",
       "    <tr>\n",
       "      <th>3</th>\n",
       "      <td>2021-06-23</td>\n",
       "      <td>11424.328556</td>\n",
       "      <td>20509.775182</td>\n",
       "      <td>16022.700603</td>\n",
       "      <td>1020253</td>\n",
       "      <td>Cerdo</td>\n",
       "    </tr>\n",
       "    <tr>\n",
       "      <th>4</th>\n",
       "      <td>2021-06-24</td>\n",
       "      <td>12508.209958</td>\n",
       "      <td>21224.503598</td>\n",
       "      <td>17075.995755</td>\n",
       "      <td>1020253</td>\n",
       "      <td>Cerdo</td>\n",
       "    </tr>\n",
       "  </tbody>\n",
       "</table>\n",
       "</div>"
      ],
      "text/plain": [
       "  Día natural  Predicción Inferior  Predicción Superior  Predicción central  \\\n",
       "0  2021-06-20          3314.992677         12980.866924         8160.149693   \n",
       "1  2021-06-21          7633.138356         16309.580899        12224.873388   \n",
       "2  2021-06-22          9516.790383         19117.826392        14364.864922   \n",
       "3  2021-06-23         11424.328556         20509.775182        16022.700603   \n",
       "4  2021-06-24         12508.209958         21224.503598        17075.995755   \n",
       "\n",
       "  Material Sector  \n",
       "0  1020253  Cerdo  \n",
       "1  1020253  Cerdo  \n",
       "2  1020253  Cerdo  \n",
       "3  1020253  Cerdo  \n",
       "4  1020253  Cerdo  "
      ]
     },
     "execution_count": 29,
     "metadata": {},
     "output_type": "execute_result"
    }
   ],
   "source": [
    "start_time = time()\n",
    "\n",
    "#inicializa con un Data Frame vacio\n",
    "df2 = pd.DataFrame(columns=['ds', 'yhat_lower', 'yhat_upper', 'yhat',\n",
    "                            'Material'])\n",
    "\n",
    "df2.rename(columns = {'ds': 'Día natural', 'yhat': 'Predicción central',\n",
    "                                'yhat_upper': 'Predicción Superior',\n",
    "                                'yhat_lower': 'Predicción Inferior'}, inplace = True)\n",
    "\n",
    "\n",
    "\n",
    "#Crear un listado de los materiales disponibles en la data\n",
    "Listado_de_Materiales=data['Material'].unique()\n",
    "\n",
    "for m in Listado_de_Materiales:\n",
    "    material_time=time()\n",
    "    #m=Listado_de_Materiales[0]\n",
    "    dfm=Df_ubic(data,'Material',m).groupby('Día natural').sum().reset_index()[['Día natural',y_col]]\n",
    "    \n",
    "    #Realizar predicción\n",
    "    dfmPred=Predict_sem(dfm,14)[['ds', 'yhat_lower', 'yhat_upper', 'yhat']].tail(14)\n",
    "    dfmPred.rename(columns = {'ds': 'Día natural', 'yhat': 'Predicción central',\n",
    "                                'yhat_upper': 'Predicción Superior',\n",
    "                                'yhat_lower': 'Predicción Inferior'}, inplace = True)\n",
    "    dfmPred['Material']=[m for i in range(dfmPred.shape[0])]\n",
    "    \n",
    "    #Sector del producto(Tipo de carne)\n",
    "    Sec=Df_ubic(data,'Material',m).Sector.unique()[0]\n",
    "    dfmPred['Sector']=[Sec for i in range(dfmPred.shape[0])]\n",
    "    \n",
    "    dfmPred=dfmPred.reset_index()\n",
    "    dfmPred.pop('index')\n",
    "    df2=pd.concat([df2, dfmPred])\n",
    "\n",
    "    print('El producto ',m,' demoró',(time() - material_time))\n",
    "    print('tiempo que lleva corriendo',(time() - start_time)/60, 'Min')\n",
    "\n",
    "df2.head()"
   ]
  },
  {
   "cell_type": "markdown",
   "id": "3a42dae4",
   "metadata": {
    "hidden": true
   },
   "source": [
    "### CSV SAVE"
   ]
  },
  {
   "cell_type": "code",
   "execution_count": 45,
   "id": "f5aaa79b",
   "metadata": {
    "hidden": true
   },
   "outputs": [
    {
     "name": "stdout",
     "output_type": "stream",
     "text": [
      "2021-06-20\n",
      "2021-07-03\n"
     ]
    }
   ],
   "source": [
    "\n",
    "min_time=df2['Día natural'].min()\n",
    "min_time=str(min_time).split(' ')[0]\n",
    "print(min_time)\n",
    "max_time=df2['Día natural'].max()\n",
    "max_time=str(max_time).split(' ')[0]\n",
    "print(max_time)"
   ]
  },
  {
   "cell_type": "code",
   "execution_count": 46,
   "id": "7721bc0c",
   "metadata": {
    "hidden": true,
    "scrolled": true
   },
   "outputs": [],
   "source": [
    "#%d.%m.%Y\n",
    "df2[\"Día natural\"] = df2[\"Día natural\"].apply(lambda x: \n",
    "                                                datetime.datetime.strptime(str(x).split(' ')[0],\n",
    "                                                                           '%Y-%m-%d').date())\n",
    "df2=df2[df2['Día natural'] >= datetime.date(2021, 6, 22)]\n",
    "df2=df2[df2['Día natural'] <= datetime.date(2021, 6, 26)]"
   ]
  },
  {
   "cell_type": "code",
   "execution_count": 47,
   "id": "0d174bd6",
   "metadata": {
    "hidden": true
   },
   "outputs": [
    {
     "name": "stdout",
     "output_type": "stream",
     "text": [
      "2021-06-22\n",
      "2021-06-26\n"
     ]
    }
   ],
   "source": [
    "\n",
    "min_time=df2['Día natural'].min()\n",
    "min_time=str(min_time).split(' ')[0]\n",
    "print(min_time)\n",
    "max_time=df2['Día natural'].max()\n",
    "max_time=str(max_time).split(' ')[0]\n",
    "print(max_time)"
   ]
  },
  {
   "cell_type": "code",
   "execution_count": 48,
   "id": "b962b2db",
   "metadata": {
    "hidden": true
   },
   "outputs": [],
   "source": [
    "#Error_DF_Sum.to_csv('E_interv_Dem.csv', index=False)\n",
    "df2.to_csv('Predicción Todo Chile del'+min_time+' al '+max_time+'.csv', index=False)"
   ]
  },
  {
   "cell_type": "markdown",
   "id": "462caeae",
   "metadata": {
    "hidden": true
   },
   "source": [
    "### Analisis Exploratorio"
   ]
  },
  {
   "cell_type": "markdown",
   "id": "5b4bcac1",
   "metadata": {
    "hidden": true
   },
   "source": [
    "#### Ajuste fecha "
   ]
  },
  {
   "cell_type": "code",
   "execution_count": 38,
   "id": "aaaa34f4",
   "metadata": {
    "hidden": true
   },
   "outputs": [],
   "source": [
    "df3=df2.copy()"
   ]
  },
  {
   "cell_type": "code",
   "execution_count": 34,
   "id": "eb1bba1d",
   "metadata": {
    "hidden": true,
    "scrolled": true
   },
   "outputs": [
    {
     "data": {
      "text/plain": [
       "datetime.date(2019, 1, 2)"
      ]
     },
     "execution_count": 34,
     "metadata": {},
     "output_type": "execute_result"
    }
   ],
   "source": [
    "data['Día natural'].min()"
   ]
  },
  {
   "cell_type": "code",
   "execution_count": 40,
   "id": "c682ba80",
   "metadata": {
    "hidden": true,
    "scrolled": true
   },
   "outputs": [],
   "source": [
    "#%d.%m.%Y\n",
    "df3[\"Día natural\"] = df3[\"Día natural\"].apply(lambda x: \n",
    "                                                datetime.datetime.strptime(str(x).split(' ')[0],\n",
    "                                                                           '%Y-%m-%d').date())\n",
    "df3[df3['Día natural'] >= datetime.date(2021, 6, 22)]\n",
    "df3[df3['Día natural'] <= datetime.date(2021, 6, 26)]"
   ]
  },
  {
   "cell_type": "code",
   "execution_count": 44,
   "id": "17224f6d",
   "metadata": {
    "hidden": true
   },
   "outputs": [
    {
     "data": {
      "text/html": [
       "<div>\n",
       "<style scoped>\n",
       "    .dataframe tbody tr th:only-of-type {\n",
       "        vertical-align: middle;\n",
       "    }\n",
       "\n",
       "    .dataframe tbody tr th {\n",
       "        vertical-align: top;\n",
       "    }\n",
       "\n",
       "    .dataframe thead th {\n",
       "        text-align: right;\n",
       "    }\n",
       "</style>\n",
       "<table border=\"1\" class=\"dataframe\">\n",
       "  <thead>\n",
       "    <tr style=\"text-align: right;\">\n",
       "      <th></th>\n",
       "      <th>Día natural</th>\n",
       "      <th>Predicción Inferior</th>\n",
       "      <th>Predicción Superior</th>\n",
       "      <th>Predicción central</th>\n",
       "      <th>Material</th>\n",
       "      <th>Sector</th>\n",
       "    </tr>\n",
       "  </thead>\n",
       "  <tbody>\n",
       "    <tr>\n",
       "      <th>0</th>\n",
       "      <td>2021-06-20</td>\n",
       "      <td>3314.992677</td>\n",
       "      <td>12980.866924</td>\n",
       "      <td>8160.149693</td>\n",
       "      <td>1020253</td>\n",
       "      <td>Cerdo</td>\n",
       "    </tr>\n",
       "    <tr>\n",
       "      <th>1</th>\n",
       "      <td>2021-06-21</td>\n",
       "      <td>7633.138356</td>\n",
       "      <td>16309.580899</td>\n",
       "      <td>12224.873388</td>\n",
       "      <td>1020253</td>\n",
       "      <td>Cerdo</td>\n",
       "    </tr>\n",
       "    <tr>\n",
       "      <th>2</th>\n",
       "      <td>2021-06-22</td>\n",
       "      <td>9516.790383</td>\n",
       "      <td>19117.826392</td>\n",
       "      <td>14364.864922</td>\n",
       "      <td>1020253</td>\n",
       "      <td>Cerdo</td>\n",
       "    </tr>\n",
       "    <tr>\n",
       "      <th>3</th>\n",
       "      <td>2021-06-23</td>\n",
       "      <td>11424.328556</td>\n",
       "      <td>20509.775182</td>\n",
       "      <td>16022.700603</td>\n",
       "      <td>1020253</td>\n",
       "      <td>Cerdo</td>\n",
       "    </tr>\n",
       "    <tr>\n",
       "      <th>4</th>\n",
       "      <td>2021-06-24</td>\n",
       "      <td>12508.209958</td>\n",
       "      <td>21224.503598</td>\n",
       "      <td>17075.995755</td>\n",
       "      <td>1020253</td>\n",
       "      <td>Cerdo</td>\n",
       "    </tr>\n",
       "    <tr>\n",
       "      <th>...</th>\n",
       "      <td>...</td>\n",
       "      <td>...</td>\n",
       "      <td>...</td>\n",
       "      <td>...</td>\n",
       "      <td>...</td>\n",
       "      <td>...</td>\n",
       "    </tr>\n",
       "    <tr>\n",
       "      <th>2</th>\n",
       "      <td>2021-06-22</td>\n",
       "      <td>19916.534656</td>\n",
       "      <td>41183.613741</td>\n",
       "      <td>30900.427997</td>\n",
       "      <td>1010002</td>\n",
       "      <td>Pollo</td>\n",
       "    </tr>\n",
       "    <tr>\n",
       "      <th>3</th>\n",
       "      <td>2021-06-23</td>\n",
       "      <td>23207.144444</td>\n",
       "      <td>46551.943743</td>\n",
       "      <td>34832.350635</td>\n",
       "      <td>1010002</td>\n",
       "      <td>Pollo</td>\n",
       "    </tr>\n",
       "    <tr>\n",
       "      <th>4</th>\n",
       "      <td>2021-06-24</td>\n",
       "      <td>29960.800025</td>\n",
       "      <td>52660.280144</td>\n",
       "      <td>41054.511996</td>\n",
       "      <td>1010002</td>\n",
       "      <td>Pollo</td>\n",
       "    </tr>\n",
       "    <tr>\n",
       "      <th>5</th>\n",
       "      <td>2021-06-25</td>\n",
       "      <td>38109.743033</td>\n",
       "      <td>60318.639678</td>\n",
       "      <td>49711.708432</td>\n",
       "      <td>1010002</td>\n",
       "      <td>Pollo</td>\n",
       "    </tr>\n",
       "    <tr>\n",
       "      <th>6</th>\n",
       "      <td>2021-06-26</td>\n",
       "      <td>27371.547184</td>\n",
       "      <td>48197.564635</td>\n",
       "      <td>37763.361164</td>\n",
       "      <td>1010002</td>\n",
       "      <td>Pollo</td>\n",
       "    </tr>\n",
       "  </tbody>\n",
       "</table>\n",
       "<p>91 rows × 6 columns</p>\n",
       "</div>"
      ],
      "text/plain": [
       "   Día natural  Predicción Inferior  Predicción Superior  Predicción central  \\\n",
       "0   2021-06-20          3314.992677         12980.866924         8160.149693   \n",
       "1   2021-06-21          7633.138356         16309.580899        12224.873388   \n",
       "2   2021-06-22          9516.790383         19117.826392        14364.864922   \n",
       "3   2021-06-23         11424.328556         20509.775182        16022.700603   \n",
       "4   2021-06-24         12508.209958         21224.503598        17075.995755   \n",
       "..         ...                  ...                  ...                 ...   \n",
       "2   2021-06-22         19916.534656         41183.613741        30900.427997   \n",
       "3   2021-06-23         23207.144444         46551.943743        34832.350635   \n",
       "4   2021-06-24         29960.800025         52660.280144        41054.511996   \n",
       "5   2021-06-25         38109.743033         60318.639678        49711.708432   \n",
       "6   2021-06-26         27371.547184         48197.564635        37763.361164   \n",
       "\n",
       "   Material Sector  \n",
       "0   1020253  Cerdo  \n",
       "1   1020253  Cerdo  \n",
       "2   1020253  Cerdo  \n",
       "3   1020253  Cerdo  \n",
       "4   1020253  Cerdo  \n",
       "..      ...    ...  \n",
       "2   1010002  Pollo  \n",
       "3   1010002  Pollo  \n",
       "4   1010002  Pollo  \n",
       "5   1010002  Pollo  \n",
       "6   1010002  Pollo  \n",
       "\n",
       "[91 rows x 6 columns]"
      ]
     },
     "execution_count": 44,
     "metadata": {},
     "output_type": "execute_result"
    }
   ],
   "source": [
    "df3[df3['Día natural'] >= datetime.date(2021, 6, 22)]\n",
    "df3[df3['Día natural'] <= datetime.date(2021, 6, 26)]"
   ]
  },
  {
   "cell_type": "markdown",
   "id": "882e999c",
   "metadata": {
    "heading_collapsed": true,
    "hidden": true
   },
   "source": [
    "#### Group by"
   ]
  },
  {
   "cell_type": "code",
   "execution_count": 25,
   "id": "56720ef4",
   "metadata": {
    "hidden": true
   },
   "outputs": [
    {
     "data": {
      "text/html": [
       "<div>\n",
       "<style scoped>\n",
       "    .dataframe tbody tr th:only-of-type {\n",
       "        vertical-align: middle;\n",
       "    }\n",
       "\n",
       "    .dataframe tbody tr th {\n",
       "        vertical-align: top;\n",
       "    }\n",
       "\n",
       "    .dataframe thead th {\n",
       "        text-align: right;\n",
       "    }\n",
       "</style>\n",
       "<table border=\"1\" class=\"dataframe\">\n",
       "  <thead>\n",
       "    <tr style=\"text-align: right;\">\n",
       "      <th></th>\n",
       "      <th></th>\n",
       "      <th>Predicción Inferior</th>\n",
       "      <th>Predicción Superior</th>\n",
       "      <th>Predicción central</th>\n",
       "    </tr>\n",
       "    <tr>\n",
       "      <th>Material</th>\n",
       "      <th>Sector</th>\n",
       "      <th></th>\n",
       "      <th></th>\n",
       "      <th></th>\n",
       "    </tr>\n",
       "  </thead>\n",
       "  <tbody>\n",
       "    <tr>\n",
       "      <th>1010002</th>\n",
       "      <th>Pollo</th>\n",
       "      <td>84818.162271</td>\n",
       "      <td>2.607600e+05</td>\n",
       "      <td>173854.359913</td>\n",
       "    </tr>\n",
       "    <tr>\n",
       "      <th>1010048</th>\n",
       "      <th>Pollo</th>\n",
       "      <td>33290.964800</td>\n",
       "      <td>3.602771e+05</td>\n",
       "      <td>196939.927339</td>\n",
       "    </tr>\n",
       "    <tr>\n",
       "      <th>1010077</th>\n",
       "      <th>Pollo</th>\n",
       "      <td>11650.815669</td>\n",
       "      <td>5.984597e+04</td>\n",
       "      <td>36042.905637</td>\n",
       "    </tr>\n",
       "    <tr>\n",
       "      <th>1010078</th>\n",
       "      <th>Pollo</th>\n",
       "      <td>668575.656901</td>\n",
       "      <td>1.212335e+06</td>\n",
       "      <td>939917.733762</td>\n",
       "    </tr>\n",
       "    <tr>\n",
       "      <th>1010267</th>\n",
       "      <th>Pollo</th>\n",
       "      <td>149571.619144</td>\n",
       "      <td>3.881611e+05</td>\n",
       "      <td>267047.687966</td>\n",
       "    </tr>\n",
       "    <tr>\n",
       "      <th>1010695</th>\n",
       "      <th>Pollo</th>\n",
       "      <td>7389.255280</td>\n",
       "      <td>1.560197e+05</td>\n",
       "      <td>82107.662351</td>\n",
       "    </tr>\n",
       "    <tr>\n",
       "      <th>1020001</th>\n",
       "      <th>Cerdo</th>\n",
       "      <td>57496.199370</td>\n",
       "      <td>1.360212e+05</td>\n",
       "      <td>96515.554877</td>\n",
       "    </tr>\n",
       "    <tr>\n",
       "      <th>1020003</th>\n",
       "      <th>Cerdo</th>\n",
       "      <td>3896.554147</td>\n",
       "      <td>8.699460e+04</td>\n",
       "      <td>44989.481031</td>\n",
       "    </tr>\n",
       "    <tr>\n",
       "      <th>1020010</th>\n",
       "      <th>Cerdo</th>\n",
       "      <td>160097.767415</td>\n",
       "      <td>2.906070e+05</td>\n",
       "      <td>226217.445300</td>\n",
       "    </tr>\n",
       "    <tr>\n",
       "      <th>1020013</th>\n",
       "      <th>Cerdo</th>\n",
       "      <td>202025.647473</td>\n",
       "      <td>4.489770e+05</td>\n",
       "      <td>326306.479471</td>\n",
       "    </tr>\n",
       "    <tr>\n",
       "      <th>1020027</th>\n",
       "      <th>Cerdo</th>\n",
       "      <td>83041.146615</td>\n",
       "      <td>1.801540e+05</td>\n",
       "      <td>131339.651254</td>\n",
       "    </tr>\n",
       "    <tr>\n",
       "      <th>1020042</th>\n",
       "      <th>Cerdo</th>\n",
       "      <td>9986.358323</td>\n",
       "      <td>4.942560e+04</td>\n",
       "      <td>29308.284228</td>\n",
       "    </tr>\n",
       "    <tr>\n",
       "      <th>1020253</th>\n",
       "      <th>Cerdo</th>\n",
       "      <td>67568.428644</td>\n",
       "      <td>1.392741e+05</td>\n",
       "      <td>103941.051548</td>\n",
       "    </tr>\n",
       "  </tbody>\n",
       "</table>\n",
       "</div>"
      ],
      "text/plain": [
       "                 Predicción Inferior  Predicción Superior  Predicción central\n",
       "Material Sector                                                              \n",
       "1010002  Pollo          84818.162271         2.607600e+05       173854.359913\n",
       "1010048  Pollo          33290.964800         3.602771e+05       196939.927339\n",
       "1010077  Pollo          11650.815669         5.984597e+04        36042.905637\n",
       "1010078  Pollo         668575.656901         1.212335e+06       939917.733762\n",
       "1010267  Pollo         149571.619144         3.881611e+05       267047.687966\n",
       "1010695  Pollo           7389.255280         1.560197e+05        82107.662351\n",
       "1020001  Cerdo          57496.199370         1.360212e+05        96515.554877\n",
       "1020003  Cerdo           3896.554147         8.699460e+04        44989.481031\n",
       "1020010  Cerdo         160097.767415         2.906070e+05       226217.445300\n",
       "1020013  Cerdo         202025.647473         4.489770e+05       326306.479471\n",
       "1020027  Cerdo          83041.146615         1.801540e+05       131339.651254\n",
       "1020042  Cerdo           9986.358323         4.942560e+04        29308.284228\n",
       "1020253  Cerdo          67568.428644         1.392741e+05       103941.051548"
      ]
     },
     "execution_count": 25,
     "metadata": {},
     "output_type": "execute_result"
    }
   ],
   "source": [
    "df2.groupby(['Material','Sector']).sum()"
   ]
  },
  {
   "cell_type": "markdown",
   "id": "ed3cc676",
   "metadata": {},
   "source": [
    "## Predicción POR CANAL EN todo chile"
   ]
  },
  {
   "cell_type": "code",
   "execution_count": 50,
   "id": "1110c190",
   "metadata": {
    "scrolled": true
   },
   "outputs": [
    {
     "data": {
      "text/plain": [
       "Index(['Sector', 'Material', 'Tipo de cliente', 'Zona de ventas',\n",
       "       'Zona de ventas.1', 'Oficina de Ventas Unifica',\n",
       "       'Oficina de Ventas Unifica.1', 'Mes', 'Año natural/Semana',\n",
       "       'Día natural', 'Día de la semana', 'Kilos Venta KG', 'Venta Neta',\n",
       "       'Precio Promedio', 'Unidad Venta', 'Unidad Precio', 'Semana', 'Año'],\n",
       "      dtype='object')"
      ]
     },
     "execution_count": 50,
     "metadata": {},
     "output_type": "execute_result"
    }
   ],
   "source": [
    "data.columns"
   ]
  },
  {
   "cell_type": "code",
   "execution_count": 78,
   "id": "c07ab861",
   "metadata": {
    "scrolled": true
   },
   "outputs": [
    {
     "name": "stderr",
     "output_type": "stream",
     "text": [
      "INFO:fbprophet:Disabling daily seasonality. Run prophet with daily_seasonality=True to override this.\n",
      "INFO:fbprophet:Disabling daily seasonality. Run prophet with daily_seasonality=True to override this.\n"
     ]
    },
    {
     "name": "stdout",
     "output_type": "stream",
     "text": [
      "El producto  1020253  demoró 4.204612493515015  en el canal  Tradicional\n",
      "tiempo que lleva corriendo 0.03749889135360718 Min\n"
     ]
    },
    {
     "name": "stderr",
     "output_type": "stream",
     "text": [
      "INFO:fbprophet:Disabling daily seasonality. Run prophet with daily_seasonality=True to override this.\n"
     ]
    },
    {
     "name": "stdout",
     "output_type": "stream",
     "text": [
      "El producto  1020042  demoró 6.1988255977630615  en el canal  Tradicional\n",
      "tiempo que lleva corriendo 0.07074410915374756 Min\n"
     ]
    },
    {
     "name": "stderr",
     "output_type": "stream",
     "text": [
      "INFO:fbprophet:Disabling daily seasonality. Run prophet with daily_seasonality=True to override this.\n"
     ]
    },
    {
     "name": "stdout",
     "output_type": "stream",
     "text": [
      "El producto  1020027  demoró 8.203047037124634  en el canal  Tradicional\n",
      "tiempo que lleva corriendo 0.10415614446004232 Min\n"
     ]
    },
    {
     "name": "stderr",
     "output_type": "stream",
     "text": [
      "INFO:fbprophet:Disabling daily seasonality. Run prophet with daily_seasonality=True to override this.\n"
     ]
    },
    {
     "name": "stdout",
     "output_type": "stream",
     "text": [
      "El producto  1020013  demoró 10.15672516822815  en el canal  Tradicional\n",
      "tiempo que lleva corriendo 0.13670910199483235 Min\n"
     ]
    },
    {
     "name": "stderr",
     "output_type": "stream",
     "text": [
      "INFO:fbprophet:Disabling daily seasonality. Run prophet with daily_seasonality=True to override this.\n"
     ]
    },
    {
     "name": "stdout",
     "output_type": "stream",
     "text": [
      "El producto  1020010  demoró 12.64136004447937  en el canal  Tradicional\n",
      "tiempo que lleva corriendo 0.17810299396514892 Min\n"
     ]
    },
    {
     "name": "stderr",
     "output_type": "stream",
     "text": [
      "INFO:fbprophet:Disabling daily seasonality. Run prophet with daily_seasonality=True to override this.\n"
     ]
    },
    {
     "name": "stdout",
     "output_type": "stream",
     "text": [
      "El producto  1020003  demoró 14.51496934890747  en el canal  Tradicional\n",
      "tiempo que lleva corriendo 0.20934650500615437 Min\n"
     ]
    },
    {
     "name": "stderr",
     "output_type": "stream",
     "text": [
      "INFO:fbprophet:Disabling daily seasonality. Run prophet with daily_seasonality=True to override this.\n"
     ]
    },
    {
     "name": "stdout",
     "output_type": "stream",
     "text": [
      "El producto  1020001  demoró 16.633789539337158  en el canal  Tradicional\n",
      "tiempo que lleva corriendo 0.24466017484664918 Min\n"
     ]
    },
    {
     "name": "stderr",
     "output_type": "stream",
     "text": [
      "INFO:fbprophet:Disabling daily seasonality. Run prophet with daily_seasonality=True to override this.\n"
     ]
    },
    {
     "name": "stdout",
     "output_type": "stream",
     "text": [
      "El producto  1010695  demoró 18.944774627685547  en el canal  Tradicional\n",
      "tiempo que lleva corriendo 0.2831682483355204 Min\n"
     ]
    },
    {
     "name": "stderr",
     "output_type": "stream",
     "text": [
      "INFO:fbprophet:Disabling daily seasonality. Run prophet with daily_seasonality=True to override this.\n"
     ]
    },
    {
     "name": "stdout",
     "output_type": "stream",
     "text": [
      "El producto  1010267  demoró 21.15317177772522  en el canal  Tradicional\n",
      "tiempo que lleva corriendo 0.3199665307998657 Min\n"
     ]
    },
    {
     "name": "stderr",
     "output_type": "stream",
     "text": [
      "INFO:fbprophet:Disabling daily seasonality. Run prophet with daily_seasonality=True to override this.\n"
     ]
    },
    {
     "name": "stdout",
     "output_type": "stream",
     "text": [
      "El producto  1010078  demoró 22.986746788024902  en el canal  Tradicional\n",
      "tiempo que lleva corriendo 0.35053445895512897 Min\n"
     ]
    },
    {
     "name": "stderr",
     "output_type": "stream",
     "text": [
      "INFO:fbprophet:Disabling daily seasonality. Run prophet with daily_seasonality=True to override this.\n"
     ]
    },
    {
     "name": "stdout",
     "output_type": "stream",
     "text": [
      "El producto  1010077  demoró 24.790796279907227  en el canal  Tradicional\n",
      "tiempo que lleva corriendo 0.38061028718948364 Min\n"
     ]
    },
    {
     "name": "stderr",
     "output_type": "stream",
     "text": [
      "INFO:fbprophet:Disabling daily seasonality. Run prophet with daily_seasonality=True to override this.\n"
     ]
    },
    {
     "name": "stdout",
     "output_type": "stream",
     "text": [
      "El producto  1010048  demoró 26.599350929260254  en el canal  Tradicional\n",
      "tiempo que lleva corriendo 0.4107528487841288 Min\n"
     ]
    },
    {
     "name": "stderr",
     "output_type": "stream",
     "text": [
      "INFO:fbprophet:Disabling daily seasonality. Run prophet with daily_seasonality=True to override this.\n"
     ]
    },
    {
     "name": "stdout",
     "output_type": "stream",
     "text": [
      "El producto  1010002  demoró 28.40790343284607  en el canal  Tradicional\n",
      "tiempo que lleva corriendo 0.44088706572850545 Min\n"
     ]
    },
    {
     "name": "stderr",
     "output_type": "stream",
     "text": [
      "INFO:fbprophet:Disabling daily seasonality. Run prophet with daily_seasonality=True to override this.\n"
     ]
    },
    {
     "name": "stdout",
     "output_type": "stream",
     "text": [
      "El producto  1020253  demoró 30.299529314041138  en el canal  Industriales\n",
      "tiempo que lleva corriendo 0.4724224925041199 Min\n"
     ]
    },
    {
     "name": "stderr",
     "output_type": "stream",
     "text": [
      "INFO:fbprophet:Disabling daily seasonality. Run prophet with daily_seasonality=True to override this.\n"
     ]
    },
    {
     "name": "stdout",
     "output_type": "stream",
     "text": [
      "El producto  1020042  demoró 32.01800465583801  en el canal  Industriales\n",
      "tiempo que lleva corriendo 0.5010554114977519 Min\n"
     ]
    },
    {
     "name": "stderr",
     "output_type": "stream",
     "text": [
      "INFO:fbprophet:Disabling daily seasonality. Run prophet with daily_seasonality=True to override this.\n"
     ]
    },
    {
     "name": "stdout",
     "output_type": "stream",
     "text": [
      "El producto  1020027  demoró 33.783020973205566  en el canal  Industriales\n",
      "tiempo que lleva corriendo 0.5304723501205444 Min\n"
     ]
    },
    {
     "name": "stderr",
     "output_type": "stream",
     "text": [
      "INFO:fbprophet:Disabling daily seasonality. Run prophet with daily_seasonality=True to override this.\n"
     ]
    },
    {
     "name": "stdout",
     "output_type": "stream",
     "text": [
      "El producto  1020013  demoró 36.41127920150757  en el canal  Industriales\n",
      "tiempo que lleva corriendo 0.5742683092753093 Min\n"
     ]
    },
    {
     "name": "stderr",
     "output_type": "stream",
     "text": [
      "INFO:fbprophet:Disabling daily seasonality. Run prophet with daily_seasonality=True to override this.\n"
     ]
    },
    {
     "name": "stdout",
     "output_type": "stream",
     "text": [
      "El producto  1020010  demoró 38.242851972579956  en el canal  Industriales\n",
      "tiempo que lleva corriendo 0.6048112233479818 Min\n"
     ]
    },
    {
     "name": "stderr",
     "output_type": "stream",
     "text": [
      "INFO:fbprophet:Disabling daily seasonality. Run prophet with daily_seasonality=True to override this.\n"
     ]
    },
    {
     "name": "stdout",
     "output_type": "stream",
     "text": [
      "El producto  1020003  demoró 40.658427715301514  en el canal  Industriales\n",
      "tiempo que lleva corriendo 0.6450624545415242 Min\n"
     ]
    },
    {
     "name": "stderr",
     "output_type": "stream",
     "text": [
      "INFO:fbprophet:Disabling daily seasonality. Run prophet with daily_seasonality=True to override this.\n"
     ]
    },
    {
     "name": "stdout",
     "output_type": "stream",
     "text": [
      "El producto  1020001  demoró 42.335368156433105  en el canal  Industriales\n",
      "tiempo que lleva corriendo 0.673019802570343 Min\n"
     ]
    },
    {
     "name": "stderr",
     "output_type": "stream",
     "text": [
      "INFO:fbprophet:Disabling daily seasonality. Run prophet with daily_seasonality=True to override this.\n"
     ]
    },
    {
     "name": "stdout",
     "output_type": "stream",
     "text": [
      "El producto  1010695  demoró 43.92022943496704  en el canal  Industriales\n",
      "tiempo que lleva corriendo 0.6994258205095927 Min\n"
     ]
    },
    {
     "name": "stderr",
     "output_type": "stream",
     "text": [
      "INFO:fbprophet:Disabling daily seasonality. Run prophet with daily_seasonality=True to override this.\n"
     ]
    },
    {
     "name": "stdout",
     "output_type": "stream",
     "text": [
      "El producto  1010267  demoró 45.78082728385925  en el canal  Industriales\n",
      "tiempo que lleva corriendo 0.7304358005523681 Min\n"
     ]
    },
    {
     "name": "stderr",
     "output_type": "stream",
     "text": [
      "INFO:fbprophet:Disabling daily seasonality. Run prophet with daily_seasonality=True to override this.\n"
     ]
    },
    {
     "name": "stdout",
     "output_type": "stream",
     "text": [
      "El producto  1010078  demoró 47.64092516899109  en el canal  Industriales\n",
      "tiempo que lleva corriendo 0.7614290873209636 Min\n"
     ]
    },
    {
     "name": "stderr",
     "output_type": "stream",
     "text": [
      "INFO:fbprophet:Disabling daily seasonality. Run prophet with daily_seasonality=True to override this.\n"
     ]
    },
    {
     "name": "stdout",
     "output_type": "stream",
     "text": [
      "El producto  1010077  demoró 49.26782298088074  en el canal  Industriales\n",
      "tiempo que lleva corriendo 0.7885607242584228 Min\n"
     ]
    },
    {
     "name": "stderr",
     "output_type": "stream",
     "text": [
      "INFO:fbprophet:Disabling daily seasonality. Run prophet with daily_seasonality=True to override this.\n"
     ]
    },
    {
     "name": "stdout",
     "output_type": "stream",
     "text": [
      "El producto  1010048  demoró 50.995306730270386  en el canal  Industriales\n",
      "tiempo que lleva corriendo 0.8173437794049581 Min\n",
      "El producto  1010002  demoró 52.72979664802551  en el canal  Industriales\n",
      "tiempo que lleva corriendo 0.8462436199188232 Min\n"
     ]
    },
    {
     "name": "stderr",
     "output_type": "stream",
     "text": [
      "INFO:fbprophet:Disabling daily seasonality. Run prophet with daily_seasonality=True to override this.\n",
      "INFO:fbprophet:Disabling daily seasonality. Run prophet with daily_seasonality=True to override this.\n"
     ]
    },
    {
     "name": "stdout",
     "output_type": "stream",
     "text": [
      "El producto  1020253  demoró 54.54235363006592  en el canal  Grandes Clientes\n",
      "tiempo que lleva corriendo 0.8764612317085266 Min\n"
     ]
    },
    {
     "name": "stderr",
     "output_type": "stream",
     "text": [
      "INFO:fbprophet:Disabling daily seasonality. Run prophet with daily_seasonality=True to override this.\n"
     ]
    },
    {
     "name": "stdout",
     "output_type": "stream",
     "text": [
      "El producto  1020042  demoró 56.422969341278076  en el canal  Grandes Clientes\n",
      "tiempo que lleva corriendo 0.9078048229217529 Min\n"
     ]
    },
    {
     "name": "stderr",
     "output_type": "stream",
     "text": [
      "INFO:fbprophet:Disabling daily seasonality. Run prophet with daily_seasonality=True to override this.\n"
     ]
    },
    {
     "name": "stdout",
     "output_type": "stream",
     "text": [
      "El producto  1020027  demoró 58.469226598739624  en el canal  Grandes Clientes\n",
      "tiempo que lleva corriendo 0.9419007897377014 Min\n"
     ]
    },
    {
     "name": "stderr",
     "output_type": "stream",
     "text": [
      "INFO:fbprophet:Disabling daily seasonality. Run prophet with daily_seasonality=True to override this.\n"
     ]
    },
    {
     "name": "stdout",
     "output_type": "stream",
     "text": [
      "El producto  1020013  demoró 60.34483814239502  en el canal  Grandes Clientes\n",
      "tiempo que lleva corriendo 0.9731693029403686 Min\n"
     ]
    },
    {
     "name": "stderr",
     "output_type": "stream",
     "text": [
      "INFO:fbprophet:Disabling daily seasonality. Run prophet with daily_seasonality=True to override this.\n"
     ]
    },
    {
     "name": "stdout",
     "output_type": "stream",
     "text": [
      "El producto  1020010  demoró 62.41761875152588  en el canal  Grandes Clientes\n",
      "tiempo que lleva corriendo 1.0077239910761515 Min\n"
     ]
    },
    {
     "name": "stderr",
     "output_type": "stream",
     "text": [
      "INFO:fbprophet:Disabling daily seasonality. Run prophet with daily_seasonality=True to override this.\n"
     ]
    },
    {
     "name": "stdout",
     "output_type": "stream",
     "text": [
      "El producto  1020003  demoró 64.38480877876282  en el canal  Grandes Clientes\n",
      "tiempo que lleva corriendo 1.0405104915301004 Min\n"
     ]
    },
    {
     "name": "stderr",
     "output_type": "stream",
     "text": [
      "INFO:fbprophet:Disabling daily seasonality. Run prophet with daily_seasonality=True to override this.\n"
     ]
    },
    {
     "name": "stdout",
     "output_type": "stream",
     "text": [
      "El producto  1020001  demoró 66.32747745513916  en el canal  Grandes Clientes\n",
      "tiempo que lleva corriendo 1.072879962126414 Min\n"
     ]
    },
    {
     "name": "stderr",
     "output_type": "stream",
     "text": [
      "INFO:fbprophet:Disabling daily seasonality. Run prophet with daily_seasonality=True to override this.\n"
     ]
    },
    {
     "name": "stdout",
     "output_type": "stream",
     "text": [
      "El producto  1010695  demoró 71.85522627830505  en el canal  Grandes Clientes\n",
      "tiempo que lleva corriendo 1.1650090972582499 Min\n"
     ]
    },
    {
     "name": "stderr",
     "output_type": "stream",
     "text": [
      "INFO:fbprophet:Disabling daily seasonality. Run prophet with daily_seasonality=True to override this.\n"
     ]
    },
    {
     "name": "stdout",
     "output_type": "stream",
     "text": [
      "El producto  1010267  demoró 73.88496994972229  en el canal  Grandes Clientes\n",
      "tiempo que lleva corriendo 1.1988465070724488 Min\n"
     ]
    },
    {
     "name": "stderr",
     "output_type": "stream",
     "text": [
      "INFO:fbprophet:Disabling daily seasonality. Run prophet with daily_seasonality=True to override this.\n"
     ]
    },
    {
     "name": "stdout",
     "output_type": "stream",
     "text": [
      "El producto  1010078  demoró 75.97576546669006  en el canal  Grandes Clientes\n",
      "tiempo que lleva corriendo 1.2336931029955547 Min\n"
     ]
    },
    {
     "name": "stderr",
     "output_type": "stream",
     "text": [
      "INFO:fbprophet:Disabling daily seasonality. Run prophet with daily_seasonality=True to override this.\n"
     ]
    },
    {
     "name": "stdout",
     "output_type": "stream",
     "text": [
      "El producto  1010077  demoró 77.51558804512024  en el canal  Grandes Clientes\n",
      "tiempo que lleva corriendo 1.259348471959432 Min\n"
     ]
    },
    {
     "name": "stderr",
     "output_type": "stream",
     "text": [
      "INFO:fbprophet:Disabling daily seasonality. Run prophet with daily_seasonality=True to override this.\n"
     ]
    },
    {
     "name": "stdout",
     "output_type": "stream",
     "text": [
      "El producto  1010048  demoró 79.54182887077332  en el canal  Grandes Clientes\n",
      "tiempo que lleva corriendo 1.2931108077367146 Min\n",
      "El producto  1010002  demoró 81.3668966293335  en el canal  Grandes Clientes\n",
      "tiempo que lleva corriendo 1.3235369443893432 Min\n"
     ]
    },
    {
     "name": "stderr",
     "output_type": "stream",
     "text": [
      "INFO:fbprophet:Disabling daily seasonality. Run prophet with daily_seasonality=True to override this.\n",
      "INFO:fbprophet:Disabling daily seasonality. Run prophet with daily_seasonality=True to override this.\n"
     ]
    },
    {
     "name": "stdout",
     "output_type": "stream",
     "text": [
      "El producto  1020253  demoró 83.41265368461609  en el canal  Foodservice\n",
      "tiempo que lleva corriendo 1.3576245784759522 Min\n"
     ]
    },
    {
     "name": "stderr",
     "output_type": "stream",
     "text": [
      "INFO:fbprophet:Disabling daily seasonality. Run prophet with daily_seasonality=True to override this.\n"
     ]
    },
    {
     "name": "stdout",
     "output_type": "stream",
     "text": [
      "El producto  1020042  demoró 85.07608318328857  en el canal  Foodservice\n",
      "tiempo que lleva corriendo 1.3853400468826294 Min\n"
     ]
    },
    {
     "name": "stderr",
     "output_type": "stream",
     "text": [
      "INFO:fbprophet:Disabling daily seasonality. Run prophet with daily_seasonality=True to override this.\n"
     ]
    },
    {
     "name": "stdout",
     "output_type": "stream",
     "text": [
      "El producto  1020027  demoró 86.8971471786499  en el canal  Foodservice\n",
      "tiempo que lleva corriendo 1.4157161355018615 Min\n"
     ]
    },
    {
     "name": "stderr",
     "output_type": "stream",
     "text": [
      "INFO:fbprophet:Disabling daily seasonality. Run prophet with daily_seasonality=True to override this.\n"
     ]
    },
    {
     "name": "stdout",
     "output_type": "stream",
     "text": [
      "El producto  1020013  demoró 88.71871304512024  en el canal  Foodservice\n",
      "tiempo que lleva corriendo 1.446067210038503 Min\n"
     ]
    },
    {
     "name": "stderr",
     "output_type": "stream",
     "text": [
      "INFO:fbprophet:Disabling daily seasonality. Run prophet with daily_seasonality=True to override this.\n"
     ]
    },
    {
     "name": "stdout",
     "output_type": "stream",
     "text": [
      "El producto  1020010  demoró 90.74645400047302  en el canal  Foodservice\n",
      "tiempo que lleva corriendo 1.479862896601359 Min\n"
     ]
    },
    {
     "name": "stderr",
     "output_type": "stream",
     "text": [
      "INFO:fbprophet:Disabling daily seasonality. Run prophet with daily_seasonality=True to override this.\n"
     ]
    },
    {
     "name": "stdout",
     "output_type": "stream",
     "text": [
      "El producto  1020003  demoró 93.53334784507751  en el canal  Foodservice\n",
      "tiempo que lleva corriendo 1.5263027946154277 Min\n"
     ]
    },
    {
     "name": "stderr",
     "output_type": "stream",
     "text": [
      "INFO:fbprophet:Disabling daily seasonality. Run prophet with daily_seasonality=True to override this.\n"
     ]
    },
    {
     "name": "stdout",
     "output_type": "stream",
     "text": [
      "El producto  1020001  demoró 95.3789336681366  en el canal  Foodservice\n",
      "tiempo que lleva corriendo 1.557062550385793 Min\n"
     ]
    },
    {
     "name": "stderr",
     "output_type": "stream",
     "text": [
      "INFO:fbprophet:Disabling daily seasonality. Run prophet with daily_seasonality=True to override this.\n"
     ]
    },
    {
     "name": "stdout",
     "output_type": "stream",
     "text": [
      "El producto  1010695  demoró 97.48324060440063  en el canal  Foodservice\n",
      "tiempo que lleva corriendo 1.5921343406041464 Min\n"
     ]
    },
    {
     "name": "stderr",
     "output_type": "stream",
     "text": [
      "INFO:fbprophet:Disabling daily seasonality. Run prophet with daily_seasonality=True to override this.\n"
     ]
    },
    {
     "name": "stdout",
     "output_type": "stream",
     "text": [
      "El producto  1010267  demoró 99.47144937515259  en el canal  Foodservice\n",
      "tiempo que lleva corriendo 1.6252794822057088 Min\n"
     ]
    },
    {
     "name": "stderr",
     "output_type": "stream",
     "text": [
      "INFO:fbprophet:Disabling daily seasonality. Run prophet with daily_seasonality=True to override this.\n"
     ]
    },
    {
     "name": "stdout",
     "output_type": "stream",
     "text": [
      "El producto  1010078  demoró 101.74289989471436  en el canal  Foodservice\n",
      "tiempo que lleva corriendo 1.6631369988123577 Min\n"
     ]
    },
    {
     "name": "stderr",
     "output_type": "stream",
     "text": [
      "INFO:fbprophet:Disabling daily seasonality. Run prophet with daily_seasonality=True to override this.\n"
     ]
    },
    {
     "name": "stdout",
     "output_type": "stream",
     "text": [
      "El producto  1010077  demoró 103.83920073509216  en el canal  Foodservice\n",
      "tiempo que lleva corriendo 1.6980836868286133 Min\n"
     ]
    },
    {
     "name": "stderr",
     "output_type": "stream",
     "text": [
      "INFO:fbprophet:Disabling daily seasonality. Run prophet with daily_seasonality=True to override this.\n"
     ]
    },
    {
     "name": "stdout",
     "output_type": "stream",
     "text": [
      "El producto  1010048  demoró 105.88545870780945  en el canal  Foodservice\n",
      "tiempo que lleva corriendo 1.7321796536445617 Min\n",
      "El producto  1010002  demoró 108.00077557563782  en el canal  Foodservice\n",
      "tiempo que lleva corriendo 1.7674432794253032 Min\n"
     ]
    },
    {
     "data": {
      "text/html": [
       "<div>\n",
       "<style scoped>\n",
       "    .dataframe tbody tr th:only-of-type {\n",
       "        vertical-align: middle;\n",
       "    }\n",
       "\n",
       "    .dataframe tbody tr th {\n",
       "        vertical-align: top;\n",
       "    }\n",
       "\n",
       "    .dataframe thead th {\n",
       "        text-align: right;\n",
       "    }\n",
       "</style>\n",
       "<table border=\"1\" class=\"dataframe\">\n",
       "  <thead>\n",
       "    <tr style=\"text-align: right;\">\n",
       "      <th></th>\n",
       "      <th>ds</th>\n",
       "      <th>yhat_lower</th>\n",
       "      <th>yhat_upper</th>\n",
       "      <th>yhat</th>\n",
       "      <th>Material</th>\n",
       "      <th>Sector</th>\n",
       "      <th>Tipo de cliente</th>\n",
       "    </tr>\n",
       "  </thead>\n",
       "  <tbody>\n",
       "    <tr>\n",
       "      <th>0</th>\n",
       "      <td>2021-06-20</td>\n",
       "      <td>1572.429253</td>\n",
       "      <td>8681.097716</td>\n",
       "      <td>5060.062213</td>\n",
       "      <td>1020253</td>\n",
       "      <td>Cerdo</td>\n",
       "      <td>Tradicional</td>\n",
       "    </tr>\n",
       "    <tr>\n",
       "      <th>1</th>\n",
       "      <td>2021-06-21</td>\n",
       "      <td>4625.068133</td>\n",
       "      <td>11938.880085</td>\n",
       "      <td>8248.344089</td>\n",
       "      <td>1020253</td>\n",
       "      <td>Cerdo</td>\n",
       "      <td>Tradicional</td>\n",
       "    </tr>\n",
       "    <tr>\n",
       "      <th>2</th>\n",
       "      <td>2021-06-22</td>\n",
       "      <td>5746.537879</td>\n",
       "      <td>13174.138756</td>\n",
       "      <td>9526.953587</td>\n",
       "      <td>1020253</td>\n",
       "      <td>Cerdo</td>\n",
       "      <td>Tradicional</td>\n",
       "    </tr>\n",
       "    <tr>\n",
       "      <th>3</th>\n",
       "      <td>2021-06-23</td>\n",
       "      <td>7224.919738</td>\n",
       "      <td>15009.318313</td>\n",
       "      <td>11208.609111</td>\n",
       "      <td>1020253</td>\n",
       "      <td>Cerdo</td>\n",
       "      <td>Tradicional</td>\n",
       "    </tr>\n",
       "    <tr>\n",
       "      <th>4</th>\n",
       "      <td>2021-06-24</td>\n",
       "      <td>8230.795029</td>\n",
       "      <td>15545.343589</td>\n",
       "      <td>11861.653716</td>\n",
       "      <td>1020253</td>\n",
       "      <td>Cerdo</td>\n",
       "      <td>Tradicional</td>\n",
       "    </tr>\n",
       "  </tbody>\n",
       "</table>\n",
       "</div>"
      ],
      "text/plain": [
       "          ds   yhat_lower    yhat_upper          yhat Material Sector  \\\n",
       "0 2021-06-20  1572.429253   8681.097716   5060.062213  1020253  Cerdo   \n",
       "1 2021-06-21  4625.068133  11938.880085   8248.344089  1020253  Cerdo   \n",
       "2 2021-06-22  5746.537879  13174.138756   9526.953587  1020253  Cerdo   \n",
       "3 2021-06-23  7224.919738  15009.318313  11208.609111  1020253  Cerdo   \n",
       "4 2021-06-24  8230.795029  15545.343589  11861.653716  1020253  Cerdo   \n",
       "\n",
       "  Tipo de cliente  \n",
       "0     Tradicional  \n",
       "1     Tradicional  \n",
       "2     Tradicional  \n",
       "3     Tradicional  \n",
       "4     Tradicional  "
      ]
     },
     "execution_count": 78,
     "metadata": {},
     "output_type": "execute_result"
    }
   ],
   "source": [
    "start_time = time()\n",
    "#inicializa con un Data Frame vacio\n",
    "df3 = pd.DataFrame(columns=['ds', 'yhat_lower', 'yhat_upper', 'yhat',\n",
    "                            'Material'])\n",
    "\n",
    "Listado_de_Canales=data['Tipo de cliente'].unique()\n",
    "\n",
    "for c in Listado_de_Canales:\n",
    "    #m=Listado_de_Materiales[0]\n",
    "    dfc=Df_ubic(data,'Tipo de cliente',c)\n",
    "\n",
    "    #Crear un listado de los materiales disponibles en la data\n",
    "    Listado_de_Materiales=dfc[dfc.Año==2021].Material.unique()     \n",
    "\n",
    "\n",
    "    for m in Listado_de_Materiales:\n",
    "        #m=Listado_de_Materiales[0]\n",
    "        dfm=Df_ubic(dfc,'Material',m).groupby('Día natural').sum().reset_index()[['Día natural',y_col]]\n",
    "\n",
    "        #Realizar predicción\n",
    "        dfmPred=Predict_sem(dfm,14)[['ds', 'yhat_lower', 'yhat_upper', 'yhat']].tail(14)\n",
    "\n",
    "        dfmPred['Material']=[m for i in range(dfmPred.shape[0])]\n",
    "\n",
    "        #Sector del producto(Tipo de carne)\n",
    "        Sec=Df_ubic(data,'Material',m).Sector.unique()[0]\n",
    "        dfmPred['Sector']=[Sec for i in range(dfmPred.shape[0])]\n",
    "        \n",
    "        #Canal de ventas\n",
    "        dfmPred['Tipo de cliente']=[c for i in range(dfmPred.shape[0])]\n",
    "        \n",
    "        dfmPred=dfmPred.reset_index()\n",
    "        dfmPred.pop('index')\n",
    "        df3=pd.concat([df3, dfmPred])\n",
    "        print('El producto ',m,' demoró',(time() - material_time), ' en el canal ',c)\n",
    "        print('tiempo que lleva corriendo',(time() - start_time)/60, 'Min')\n",
    "    \n",
    "df3.head()"
   ]
  },
  {
   "cell_type": "code",
   "execution_count": 79,
   "id": "60272c86",
   "metadata": {},
   "outputs": [],
   "source": [
    "df3.rename(columns = {'ds': 'Día natural', 'yhat': 'Predicción central',\n",
    "                                'yhat_upper': 'Predicción Superior',\n",
    "                                'yhat_lower': 'Predicción Inferior'}, inplace = True)"
   ]
  },
  {
   "cell_type": "code",
   "execution_count": 80,
   "id": "355e171d",
   "metadata": {},
   "outputs": [
    {
     "data": {
      "text/html": [
       "<div>\n",
       "<style scoped>\n",
       "    .dataframe tbody tr th:only-of-type {\n",
       "        vertical-align: middle;\n",
       "    }\n",
       "\n",
       "    .dataframe tbody tr th {\n",
       "        vertical-align: top;\n",
       "    }\n",
       "\n",
       "    .dataframe thead th {\n",
       "        text-align: right;\n",
       "    }\n",
       "</style>\n",
       "<table border=\"1\" class=\"dataframe\">\n",
       "  <thead>\n",
       "    <tr style=\"text-align: right;\">\n",
       "      <th></th>\n",
       "      <th>Día natural</th>\n",
       "      <th>Predicción Inferior</th>\n",
       "      <th>Predicción Superior</th>\n",
       "      <th>Predicción central</th>\n",
       "      <th>Material</th>\n",
       "      <th>Sector</th>\n",
       "      <th>Tipo de cliente</th>\n",
       "    </tr>\n",
       "  </thead>\n",
       "  <tbody>\n",
       "    <tr>\n",
       "      <th>9</th>\n",
       "      <td>2021-06-29</td>\n",
       "      <td>43.452705</td>\n",
       "      <td>2734.170574</td>\n",
       "      <td>1417.913502</td>\n",
       "      <td>1010002</td>\n",
       "      <td>Pollo</td>\n",
       "      <td>Foodservice</td>\n",
       "    </tr>\n",
       "    <tr>\n",
       "      <th>10</th>\n",
       "      <td>2021-06-30</td>\n",
       "      <td>263.757765</td>\n",
       "      <td>3202.486308</td>\n",
       "      <td>1750.689256</td>\n",
       "      <td>1010002</td>\n",
       "      <td>Pollo</td>\n",
       "      <td>Foodservice</td>\n",
       "    </tr>\n",
       "    <tr>\n",
       "      <th>11</th>\n",
       "      <td>2021-07-01</td>\n",
       "      <td>419.734705</td>\n",
       "      <td>3325.666346</td>\n",
       "      <td>1885.689089</td>\n",
       "      <td>1010002</td>\n",
       "      <td>Pollo</td>\n",
       "      <td>Foodservice</td>\n",
       "    </tr>\n",
       "    <tr>\n",
       "      <th>12</th>\n",
       "      <td>2021-07-02</td>\n",
       "      <td>455.832170</td>\n",
       "      <td>3222.746845</td>\n",
       "      <td>1870.276432</td>\n",
       "      <td>1010002</td>\n",
       "      <td>Pollo</td>\n",
       "      <td>Foodservice</td>\n",
       "    </tr>\n",
       "    <tr>\n",
       "      <th>13</th>\n",
       "      <td>2021-07-03</td>\n",
       "      <td>-65.132764</td>\n",
       "      <td>2729.512363</td>\n",
       "      <td>1350.044518</td>\n",
       "      <td>1010002</td>\n",
       "      <td>Pollo</td>\n",
       "      <td>Foodservice</td>\n",
       "    </tr>\n",
       "  </tbody>\n",
       "</table>\n",
       "</div>"
      ],
      "text/plain": [
       "   Día natural  Predicción Inferior  Predicción Superior  Predicción central  \\\n",
       "9   2021-06-29            43.452705          2734.170574         1417.913502   \n",
       "10  2021-06-30           263.757765          3202.486308         1750.689256   \n",
       "11  2021-07-01           419.734705          3325.666346         1885.689089   \n",
       "12  2021-07-02           455.832170          3222.746845         1870.276432   \n",
       "13  2021-07-03           -65.132764          2729.512363         1350.044518   \n",
       "\n",
       "   Material Sector Tipo de cliente  \n",
       "9   1010002  Pollo     Foodservice  \n",
       "10  1010002  Pollo     Foodservice  \n",
       "11  1010002  Pollo     Foodservice  \n",
       "12  1010002  Pollo     Foodservice  \n",
       "13  1010002  Pollo     Foodservice  "
      ]
     },
     "execution_count": 80,
     "metadata": {},
     "output_type": "execute_result"
    }
   ],
   "source": [
    "df3.tail()"
   ]
  },
  {
   "cell_type": "markdown",
   "id": "bf4ccb0f",
   "metadata": {},
   "source": [
    "### CSV SAVE"
   ]
  },
  {
   "cell_type": "code",
   "execution_count": 81,
   "id": "57a92bfb",
   "metadata": {},
   "outputs": [
    {
     "name": "stdout",
     "output_type": "stream",
     "text": [
      "2021-06-19\n",
      "2021-07-03\n"
     ]
    }
   ],
   "source": [
    "min_time=df3['Día natural'].min()\n",
    "min_time=str(min_time).split(' ')[0]\n",
    "print(min_time)\n",
    "max_time=df3['Día natural'].max()\n",
    "max_time=str(max_time).split(' ')[0]\n",
    "print(max_time)"
   ]
  },
  {
   "cell_type": "code",
   "execution_count": 82,
   "id": "cb6cdf2f",
   "metadata": {
    "scrolled": true
   },
   "outputs": [],
   "source": [
    "df3=Limit_fecha(df3,AÑO,MES,DIA_INIC,DIA_FIN)"
   ]
  },
  {
   "cell_type": "code",
   "execution_count": 83,
   "id": "3bb79338",
   "metadata": {},
   "outputs": [
    {
     "name": "stdout",
     "output_type": "stream",
     "text": [
      "2021-06-22\n",
      "2021-06-26\n"
     ]
    }
   ],
   "source": [
    "\n",
    "min_time=df3['Día natural'].min()\n",
    "min_time=str(min_time).split(' ')[0]\n",
    "print(min_time)\n",
    "max_time=df3['Día natural'].max()\n",
    "max_time=str(max_time).split(' ')[0]\n",
    "print(max_time)"
   ]
  },
  {
   "cell_type": "code",
   "execution_count": 84,
   "id": "0b0a823e",
   "metadata": {},
   "outputs": [],
   "source": [
    "#Error_DF_Sum.to_csv('E_interv_Dem.csv', index=False)\n",
    "df3.to_csv('Predicción Todo Chile del '+min_time+' al '+max_time+' Diferenciando por canal.csv', index=False)"
   ]
  },
  {
   "cell_type": "markdown",
   "id": "341314a5",
   "metadata": {
    "heading_collapsed": true
   },
   "source": [
    "### Exploracion "
   ]
  },
  {
   "cell_type": "code",
   "execution_count": 66,
   "id": "71d8f16f",
   "metadata": {
    "hidden": true,
    "scrolled": true
   },
   "outputs": [
    {
     "data": {
      "text/html": [
       "<div>\n",
       "<style scoped>\n",
       "    .dataframe tbody tr th:only-of-type {\n",
       "        vertical-align: middle;\n",
       "    }\n",
       "\n",
       "    .dataframe tbody tr th {\n",
       "        vertical-align: top;\n",
       "    }\n",
       "\n",
       "    .dataframe thead th {\n",
       "        text-align: right;\n",
       "    }\n",
       "</style>\n",
       "<table border=\"1\" class=\"dataframe\">\n",
       "  <thead>\n",
       "    <tr style=\"text-align: right;\">\n",
       "      <th></th>\n",
       "      <th>Sector</th>\n",
       "      <th>Material</th>\n",
       "      <th>Tipo de cliente</th>\n",
       "      <th>Predicción Inferior</th>\n",
       "      <th>Predicción Superior</th>\n",
       "      <th>Predicción central</th>\n",
       "    </tr>\n",
       "  </thead>\n",
       "  <tbody>\n",
       "    <tr>\n",
       "      <th>0</th>\n",
       "      <td>Cerdo</td>\n",
       "      <td>1020001</td>\n",
       "      <td>Foodservice</td>\n",
       "      <td>-384.389437</td>\n",
       "      <td>1505.780203</td>\n",
       "      <td>563.198208</td>\n",
       "    </tr>\n",
       "    <tr>\n",
       "      <th>1</th>\n",
       "      <td>Cerdo</td>\n",
       "      <td>1020001</td>\n",
       "      <td>Grandes Clientes</td>\n",
       "      <td>2890.381397</td>\n",
       "      <td>13984.227577</td>\n",
       "      <td>8399.880932</td>\n",
       "    </tr>\n",
       "    <tr>\n",
       "      <th>2</th>\n",
       "      <td>Cerdo</td>\n",
       "      <td>1020001</td>\n",
       "      <td>Industriales</td>\n",
       "      <td>-1190.824817</td>\n",
       "      <td>3460.296218</td>\n",
       "      <td>1114.044255</td>\n",
       "    </tr>\n",
       "    <tr>\n",
       "      <th>3</th>\n",
       "      <td>Cerdo</td>\n",
       "      <td>1020001</td>\n",
       "      <td>Tradicional</td>\n",
       "      <td>45777.955557</td>\n",
       "      <td>86957.032673</td>\n",
       "      <td>66329.691785</td>\n",
       "    </tr>\n",
       "    <tr>\n",
       "      <th>4</th>\n",
       "      <td>Cerdo</td>\n",
       "      <td>1020003</td>\n",
       "      <td>Foodservice</td>\n",
       "      <td>1546.140432</td>\n",
       "      <td>5217.556588</td>\n",
       "      <td>3394.786550</td>\n",
       "    </tr>\n",
       "    <tr>\n",
       "      <th>5</th>\n",
       "      <td>Cerdo</td>\n",
       "      <td>1020003</td>\n",
       "      <td>Grandes Clientes</td>\n",
       "      <td>-2776.435592</td>\n",
       "      <td>10107.065002</td>\n",
       "      <td>3605.515969</td>\n",
       "    </tr>\n",
       "    <tr>\n",
       "      <th>6</th>\n",
       "      <td>Cerdo</td>\n",
       "      <td>1020003</td>\n",
       "      <td>Industriales</td>\n",
       "      <td>-1287.804945</td>\n",
       "      <td>3059.865966</td>\n",
       "      <td>944.136530</td>\n",
       "    </tr>\n",
       "    <tr>\n",
       "      <th>7</th>\n",
       "      <td>Cerdo</td>\n",
       "      <td>1020003</td>\n",
       "      <td>Tradicional</td>\n",
       "      <td>12039.328550</td>\n",
       "      <td>51275.381431</td>\n",
       "      <td>31805.804263</td>\n",
       "    </tr>\n",
       "    <tr>\n",
       "      <th>8</th>\n",
       "      <td>Cerdo</td>\n",
       "      <td>1020010</td>\n",
       "      <td>Foodservice</td>\n",
       "      <td>7843.578681</td>\n",
       "      <td>24836.285842</td>\n",
       "      <td>16032.804416</td>\n",
       "    </tr>\n",
       "    <tr>\n",
       "      <th>9</th>\n",
       "      <td>Cerdo</td>\n",
       "      <td>1020010</td>\n",
       "      <td>Grandes Clientes</td>\n",
       "      <td>16017.595284</td>\n",
       "      <td>39505.235562</td>\n",
       "      <td>27886.265524</td>\n",
       "    </tr>\n",
       "    <tr>\n",
       "      <th>10</th>\n",
       "      <td>Cerdo</td>\n",
       "      <td>1020010</td>\n",
       "      <td>Industriales</td>\n",
       "      <td>-4088.523991</td>\n",
       "      <td>7684.529065</td>\n",
       "      <td>1659.549152</td>\n",
       "    </tr>\n",
       "    <tr>\n",
       "      <th>11</th>\n",
       "      <td>Cerdo</td>\n",
       "      <td>1020010</td>\n",
       "      <td>Tradicional</td>\n",
       "      <td>104176.675840</td>\n",
       "      <td>162003.591892</td>\n",
       "      <td>133604.057295</td>\n",
       "    </tr>\n",
       "    <tr>\n",
       "      <th>12</th>\n",
       "      <td>Cerdo</td>\n",
       "      <td>1020013</td>\n",
       "      <td>Foodservice</td>\n",
       "      <td>407.669285</td>\n",
       "      <td>5855.125567</td>\n",
       "      <td>3160.944177</td>\n",
       "    </tr>\n",
       "    <tr>\n",
       "      <th>13</th>\n",
       "      <td>Cerdo</td>\n",
       "      <td>1020013</td>\n",
       "      <td>Grandes Clientes</td>\n",
       "      <td>21773.158244</td>\n",
       "      <td>76778.603068</td>\n",
       "      <td>48951.134832</td>\n",
       "    </tr>\n",
       "    <tr>\n",
       "      <th>14</th>\n",
       "      <td>Cerdo</td>\n",
       "      <td>1020013</td>\n",
       "      <td>Industriales</td>\n",
       "      <td>-6304.969727</td>\n",
       "      <td>12946.423604</td>\n",
       "      <td>3325.942568</td>\n",
       "    </tr>\n",
       "    <tr>\n",
       "      <th>15</th>\n",
       "      <td>Cerdo</td>\n",
       "      <td>1020013</td>\n",
       "      <td>Tradicional</td>\n",
       "      <td>142905.833624</td>\n",
       "      <td>255737.766040</td>\n",
       "      <td>199302.457091</td>\n",
       "    </tr>\n",
       "    <tr>\n",
       "      <th>16</th>\n",
       "      <td>Cerdo</td>\n",
       "      <td>1020027</td>\n",
       "      <td>Foodservice</td>\n",
       "      <td>140.015084</td>\n",
       "      <td>3520.527836</td>\n",
       "      <td>1851.147766</td>\n",
       "    </tr>\n",
       "    <tr>\n",
       "      <th>17</th>\n",
       "      <td>Cerdo</td>\n",
       "      <td>1020027</td>\n",
       "      <td>Grandes Clientes</td>\n",
       "      <td>6299.857975</td>\n",
       "      <td>21439.255198</td>\n",
       "      <td>13834.465894</td>\n",
       "    </tr>\n",
       "    <tr>\n",
       "      <th>18</th>\n",
       "      <td>Cerdo</td>\n",
       "      <td>1020027</td>\n",
       "      <td>Industriales</td>\n",
       "      <td>-2019.938590</td>\n",
       "      <td>5511.769150</td>\n",
       "      <td>1685.313195</td>\n",
       "    </tr>\n",
       "    <tr>\n",
       "      <th>19</th>\n",
       "      <td>Cerdo</td>\n",
       "      <td>1020027</td>\n",
       "      <td>Tradicional</td>\n",
       "      <td>49860.877763</td>\n",
       "      <td>98436.605422</td>\n",
       "      <td>73754.388745</td>\n",
       "    </tr>\n",
       "    <tr>\n",
       "      <th>20</th>\n",
       "      <td>Cerdo</td>\n",
       "      <td>1020042</td>\n",
       "      <td>Foodservice</td>\n",
       "      <td>-215.758197</td>\n",
       "      <td>981.418819</td>\n",
       "      <td>385.222900</td>\n",
       "    </tr>\n",
       "    <tr>\n",
       "      <th>21</th>\n",
       "      <td>Cerdo</td>\n",
       "      <td>1020042</td>\n",
       "      <td>Grandes Clientes</td>\n",
       "      <td>532.588822</td>\n",
       "      <td>8919.499207</td>\n",
       "      <td>4630.895932</td>\n",
       "    </tr>\n",
       "    <tr>\n",
       "      <th>22</th>\n",
       "      <td>Cerdo</td>\n",
       "      <td>1020042</td>\n",
       "      <td>Industriales</td>\n",
       "      <td>4106.656364</td>\n",
       "      <td>10986.175896</td>\n",
       "      <td>7486.727243</td>\n",
       "    </tr>\n",
       "    <tr>\n",
       "      <th>23</th>\n",
       "      <td>Cerdo</td>\n",
       "      <td>1020042</td>\n",
       "      <td>Tradicional</td>\n",
       "      <td>8136.478966</td>\n",
       "      <td>25362.778821</td>\n",
       "      <td>16851.594549</td>\n",
       "    </tr>\n",
       "    <tr>\n",
       "      <th>24</th>\n",
       "      <td>Cerdo</td>\n",
       "      <td>1020253</td>\n",
       "      <td>Foodservice</td>\n",
       "      <td>11130.108158</td>\n",
       "      <td>19136.440252</td>\n",
       "      <td>15173.894676</td>\n",
       "    </tr>\n",
       "    <tr>\n",
       "      <th>25</th>\n",
       "      <td>Cerdo</td>\n",
       "      <td>1020253</td>\n",
       "      <td>Grandes Clientes</td>\n",
       "      <td>1471.299143</td>\n",
       "      <td>11508.816841</td>\n",
       "      <td>6541.444997</td>\n",
       "    </tr>\n",
       "    <tr>\n",
       "      <th>26</th>\n",
       "      <td>Cerdo</td>\n",
       "      <td>1020253</td>\n",
       "      <td>Industriales</td>\n",
       "      <td>-365.514777</td>\n",
       "      <td>4531.822967</td>\n",
       "      <td>2096.039804</td>\n",
       "    </tr>\n",
       "    <tr>\n",
       "      <th>27</th>\n",
       "      <td>Cerdo</td>\n",
       "      <td>1020253</td>\n",
       "      <td>Tradicional</td>\n",
       "      <td>39343.762551</td>\n",
       "      <td>75869.412558</td>\n",
       "      <td>57261.387511</td>\n",
       "    </tr>\n",
       "    <tr>\n",
       "      <th>28</th>\n",
       "      <td>Pollo</td>\n",
       "      <td>1010002</td>\n",
       "      <td>Foodservice</td>\n",
       "      <td>-125.800382</td>\n",
       "      <td>14244.111407</td>\n",
       "      <td>7037.029337</td>\n",
       "    </tr>\n",
       "    <tr>\n",
       "      <th>29</th>\n",
       "      <td>Pollo</td>\n",
       "      <td>1010002</td>\n",
       "      <td>Grandes Clientes</td>\n",
       "      <td>17374.417068</td>\n",
       "      <td>47431.384499</td>\n",
       "      <td>32434.675354</td>\n",
       "    </tr>\n",
       "    <tr>\n",
       "      <th>30</th>\n",
       "      <td>Pollo</td>\n",
       "      <td>1010002</td>\n",
       "      <td>Industriales</td>\n",
       "      <td>-200.869934</td>\n",
       "      <td>2418.199381</td>\n",
       "      <td>1093.719850</td>\n",
       "    </tr>\n",
       "    <tr>\n",
       "      <th>31</th>\n",
       "      <td>Pollo</td>\n",
       "      <td>1010002</td>\n",
       "      <td>Tradicional</td>\n",
       "      <td>114153.846452</td>\n",
       "      <td>198092.469532</td>\n",
       "      <td>157093.401163</td>\n",
       "    </tr>\n",
       "    <tr>\n",
       "      <th>32</th>\n",
       "      <td>Pollo</td>\n",
       "      <td>1010048</td>\n",
       "      <td>Foodservice</td>\n",
       "      <td>21389.067184</td>\n",
       "      <td>42688.072704</td>\n",
       "      <td>31940.904928</td>\n",
       "    </tr>\n",
       "    <tr>\n",
       "      <th>33</th>\n",
       "      <td>Pollo</td>\n",
       "      <td>1010048</td>\n",
       "      <td>Grandes Clientes</td>\n",
       "      <td>-14600.886544</td>\n",
       "      <td>55503.406541</td>\n",
       "      <td>19980.326278</td>\n",
       "    </tr>\n",
       "    <tr>\n",
       "      <th>34</th>\n",
       "      <td>Pollo</td>\n",
       "      <td>1010048</td>\n",
       "      <td>Industriales</td>\n",
       "      <td>44.569988</td>\n",
       "      <td>3449.849206</td>\n",
       "      <td>1755.507970</td>\n",
       "    </tr>\n",
       "    <tr>\n",
       "      <th>35</th>\n",
       "      <td>Pollo</td>\n",
       "      <td>1010048</td>\n",
       "      <td>Tradicional</td>\n",
       "      <td>78505.307807</td>\n",
       "      <td>224972.669962</td>\n",
       "      <td>152998.091329</td>\n",
       "    </tr>\n",
       "    <tr>\n",
       "      <th>36</th>\n",
       "      <td>Pollo</td>\n",
       "      <td>1010077</td>\n",
       "      <td>Foodservice</td>\n",
       "      <td>883.807814</td>\n",
       "      <td>3820.322647</td>\n",
       "      <td>2331.304465</td>\n",
       "    </tr>\n",
       "    <tr>\n",
       "      <th>37</th>\n",
       "      <td>Pollo</td>\n",
       "      <td>1010077</td>\n",
       "      <td>Grandes Clientes</td>\n",
       "      <td>-2512.639551</td>\n",
       "      <td>2692.275703</td>\n",
       "      <td>63.913727</td>\n",
       "    </tr>\n",
       "    <tr>\n",
       "      <th>38</th>\n",
       "      <td>Pollo</td>\n",
       "      <td>1010077</td>\n",
       "      <td>Industriales</td>\n",
       "      <td>-657.385296</td>\n",
       "      <td>539.924208</td>\n",
       "      <td>-52.356231</td>\n",
       "    </tr>\n",
       "    <tr>\n",
       "      <th>39</th>\n",
       "      <td>Pollo</td>\n",
       "      <td>1010077</td>\n",
       "      <td>Tradicional</td>\n",
       "      <td>14323.015750</td>\n",
       "      <td>41430.885507</td>\n",
       "      <td>28149.371825</td>\n",
       "    </tr>\n",
       "    <tr>\n",
       "      <th>40</th>\n",
       "      <td>Pollo</td>\n",
       "      <td>1010078</td>\n",
       "      <td>Foodservice</td>\n",
       "      <td>42604.902383</td>\n",
       "      <td>64910.179387</td>\n",
       "      <td>53955.173096</td>\n",
       "    </tr>\n",
       "    <tr>\n",
       "      <th>41</th>\n",
       "      <td>Pollo</td>\n",
       "      <td>1010078</td>\n",
       "      <td>Grandes Clientes</td>\n",
       "      <td>28256.587854</td>\n",
       "      <td>121387.969042</td>\n",
       "      <td>76362.235662</td>\n",
       "    </tr>\n",
       "    <tr>\n",
       "      <th>42</th>\n",
       "      <td>Pollo</td>\n",
       "      <td>1010078</td>\n",
       "      <td>Industriales</td>\n",
       "      <td>2013.644894</td>\n",
       "      <td>13693.936900</td>\n",
       "      <td>7834.771601</td>\n",
       "    </tr>\n",
       "    <tr>\n",
       "      <th>43</th>\n",
       "      <td>Pollo</td>\n",
       "      <td>1010078</td>\n",
       "      <td>Tradicional</td>\n",
       "      <td>466769.179355</td>\n",
       "      <td>734893.396518</td>\n",
       "      <td>600998.005866</td>\n",
       "    </tr>\n",
       "    <tr>\n",
       "      <th>44</th>\n",
       "      <td>Pollo</td>\n",
       "      <td>1010267</td>\n",
       "      <td>Foodservice</td>\n",
       "      <td>85472.932623</td>\n",
       "      <td>152750.405901</td>\n",
       "      <td>118930.596824</td>\n",
       "    </tr>\n",
       "    <tr>\n",
       "      <th>45</th>\n",
       "      <td>Pollo</td>\n",
       "      <td>1010267</td>\n",
       "      <td>Grandes Clientes</td>\n",
       "      <td>-13836.856148</td>\n",
       "      <td>23675.181331</td>\n",
       "      <td>5280.615702</td>\n",
       "    </tr>\n",
       "    <tr>\n",
       "      <th>46</th>\n",
       "      <td>Pollo</td>\n",
       "      <td>1010267</td>\n",
       "      <td>Industriales</td>\n",
       "      <td>-17494.021297</td>\n",
       "      <td>15618.255789</td>\n",
       "      <td>-594.713882</td>\n",
       "    </tr>\n",
       "    <tr>\n",
       "      <th>47</th>\n",
       "      <td>Pollo</td>\n",
       "      <td>1010267</td>\n",
       "      <td>Tradicional</td>\n",
       "      <td>40578.889658</td>\n",
       "      <td>125176.658303</td>\n",
       "      <td>83055.052710</td>\n",
       "    </tr>\n",
       "    <tr>\n",
       "      <th>48</th>\n",
       "      <td>Pollo</td>\n",
       "      <td>1010695</td>\n",
       "      <td>Foodservice</td>\n",
       "      <td>5597.004197</td>\n",
       "      <td>13864.898675</td>\n",
       "      <td>9694.346385</td>\n",
       "    </tr>\n",
       "    <tr>\n",
       "      <th>49</th>\n",
       "      <td>Pollo</td>\n",
       "      <td>1010695</td>\n",
       "      <td>Grandes Clientes</td>\n",
       "      <td>-9355.078172</td>\n",
       "      <td>36904.673045</td>\n",
       "      <td>13931.186046</td>\n",
       "    </tr>\n",
       "    <tr>\n",
       "      <th>50</th>\n",
       "      <td>Pollo</td>\n",
       "      <td>1010695</td>\n",
       "      <td>Industriales</td>\n",
       "      <td>-799.985575</td>\n",
       "      <td>1552.922572</td>\n",
       "      <td>371.941773</td>\n",
       "    </tr>\n",
       "    <tr>\n",
       "      <th>51</th>\n",
       "      <td>Pollo</td>\n",
       "      <td>1010695</td>\n",
       "      <td>Tradicional</td>\n",
       "      <td>6687.109093</td>\n",
       "      <td>64564.806372</td>\n",
       "      <td>35722.211626</td>\n",
       "    </tr>\n",
       "  </tbody>\n",
       "</table>\n",
       "</div>"
      ],
      "text/plain": [
       "   Sector Material   Tipo de cliente  Predicción Inferior  \\\n",
       "0   Cerdo  1020001       Foodservice          -384.389437   \n",
       "1   Cerdo  1020001  Grandes Clientes          2890.381397   \n",
       "2   Cerdo  1020001      Industriales         -1190.824817   \n",
       "3   Cerdo  1020001       Tradicional         45777.955557   \n",
       "4   Cerdo  1020003       Foodservice          1546.140432   \n",
       "5   Cerdo  1020003  Grandes Clientes         -2776.435592   \n",
       "6   Cerdo  1020003      Industriales         -1287.804945   \n",
       "7   Cerdo  1020003       Tradicional         12039.328550   \n",
       "8   Cerdo  1020010       Foodservice          7843.578681   \n",
       "9   Cerdo  1020010  Grandes Clientes         16017.595284   \n",
       "10  Cerdo  1020010      Industriales         -4088.523991   \n",
       "11  Cerdo  1020010       Tradicional        104176.675840   \n",
       "12  Cerdo  1020013       Foodservice           407.669285   \n",
       "13  Cerdo  1020013  Grandes Clientes         21773.158244   \n",
       "14  Cerdo  1020013      Industriales         -6304.969727   \n",
       "15  Cerdo  1020013       Tradicional        142905.833624   \n",
       "16  Cerdo  1020027       Foodservice           140.015084   \n",
       "17  Cerdo  1020027  Grandes Clientes          6299.857975   \n",
       "18  Cerdo  1020027      Industriales         -2019.938590   \n",
       "19  Cerdo  1020027       Tradicional         49860.877763   \n",
       "20  Cerdo  1020042       Foodservice          -215.758197   \n",
       "21  Cerdo  1020042  Grandes Clientes           532.588822   \n",
       "22  Cerdo  1020042      Industriales          4106.656364   \n",
       "23  Cerdo  1020042       Tradicional          8136.478966   \n",
       "24  Cerdo  1020253       Foodservice         11130.108158   \n",
       "25  Cerdo  1020253  Grandes Clientes          1471.299143   \n",
       "26  Cerdo  1020253      Industriales          -365.514777   \n",
       "27  Cerdo  1020253       Tradicional         39343.762551   \n",
       "28  Pollo  1010002       Foodservice          -125.800382   \n",
       "29  Pollo  1010002  Grandes Clientes         17374.417068   \n",
       "30  Pollo  1010002      Industriales          -200.869934   \n",
       "31  Pollo  1010002       Tradicional        114153.846452   \n",
       "32  Pollo  1010048       Foodservice         21389.067184   \n",
       "33  Pollo  1010048  Grandes Clientes        -14600.886544   \n",
       "34  Pollo  1010048      Industriales            44.569988   \n",
       "35  Pollo  1010048       Tradicional         78505.307807   \n",
       "36  Pollo  1010077       Foodservice           883.807814   \n",
       "37  Pollo  1010077  Grandes Clientes         -2512.639551   \n",
       "38  Pollo  1010077      Industriales          -657.385296   \n",
       "39  Pollo  1010077       Tradicional         14323.015750   \n",
       "40  Pollo  1010078       Foodservice         42604.902383   \n",
       "41  Pollo  1010078  Grandes Clientes         28256.587854   \n",
       "42  Pollo  1010078      Industriales          2013.644894   \n",
       "43  Pollo  1010078       Tradicional        466769.179355   \n",
       "44  Pollo  1010267       Foodservice         85472.932623   \n",
       "45  Pollo  1010267  Grandes Clientes        -13836.856148   \n",
       "46  Pollo  1010267      Industriales        -17494.021297   \n",
       "47  Pollo  1010267       Tradicional         40578.889658   \n",
       "48  Pollo  1010695       Foodservice          5597.004197   \n",
       "49  Pollo  1010695  Grandes Clientes         -9355.078172   \n",
       "50  Pollo  1010695      Industriales          -799.985575   \n",
       "51  Pollo  1010695       Tradicional          6687.109093   \n",
       "\n",
       "    Predicción Superior  Predicción central  \n",
       "0           1505.780203          563.198208  \n",
       "1          13984.227577         8399.880932  \n",
       "2           3460.296218         1114.044255  \n",
       "3          86957.032673        66329.691785  \n",
       "4           5217.556588         3394.786550  \n",
       "5          10107.065002         3605.515969  \n",
       "6           3059.865966          944.136530  \n",
       "7          51275.381431        31805.804263  \n",
       "8          24836.285842        16032.804416  \n",
       "9          39505.235562        27886.265524  \n",
       "10          7684.529065         1659.549152  \n",
       "11        162003.591892       133604.057295  \n",
       "12          5855.125567         3160.944177  \n",
       "13         76778.603068        48951.134832  \n",
       "14         12946.423604         3325.942568  \n",
       "15        255737.766040       199302.457091  \n",
       "16          3520.527836         1851.147766  \n",
       "17         21439.255198        13834.465894  \n",
       "18          5511.769150         1685.313195  \n",
       "19         98436.605422        73754.388745  \n",
       "20           981.418819          385.222900  \n",
       "21          8919.499207         4630.895932  \n",
       "22         10986.175896         7486.727243  \n",
       "23         25362.778821        16851.594549  \n",
       "24         19136.440252        15173.894676  \n",
       "25         11508.816841         6541.444997  \n",
       "26          4531.822967         2096.039804  \n",
       "27         75869.412558        57261.387511  \n",
       "28         14244.111407         7037.029337  \n",
       "29         47431.384499        32434.675354  \n",
       "30          2418.199381         1093.719850  \n",
       "31        198092.469532       157093.401163  \n",
       "32         42688.072704        31940.904928  \n",
       "33         55503.406541        19980.326278  \n",
       "34          3449.849206         1755.507970  \n",
       "35        224972.669962       152998.091329  \n",
       "36          3820.322647         2331.304465  \n",
       "37          2692.275703           63.913727  \n",
       "38           539.924208          -52.356231  \n",
       "39         41430.885507        28149.371825  \n",
       "40         64910.179387        53955.173096  \n",
       "41        121387.969042        76362.235662  \n",
       "42         13693.936900         7834.771601  \n",
       "43        734893.396518       600998.005866  \n",
       "44        152750.405901       118930.596824  \n",
       "45         23675.181331         5280.615702  \n",
       "46         15618.255789         -594.713882  \n",
       "47        125176.658303        83055.052710  \n",
       "48         13864.898675         9694.346385  \n",
       "49         36904.673045        13931.186046  \n",
       "50          1552.922572          371.941773  \n",
       "51         64564.806372        35722.211626  "
      ]
     },
     "execution_count": 66,
     "metadata": {},
     "output_type": "execute_result"
    }
   ],
   "source": [
    "D_sem=df3.groupby(['Sector','Material','Tipo de cliente']).sum().reset_index()\n",
    "D_sem"
   ]
  },
  {
   "cell_type": "code",
   "execution_count": 67,
   "id": "a614ed40",
   "metadata": {
    "hidden": true
   },
   "outputs": [
    {
     "data": {
      "text/html": [
       "<div>\n",
       "<style scoped>\n",
       "    .dataframe tbody tr th:only-of-type {\n",
       "        vertical-align: middle;\n",
       "    }\n",
       "\n",
       "    .dataframe tbody tr th {\n",
       "        vertical-align: top;\n",
       "    }\n",
       "\n",
       "    .dataframe thead th {\n",
       "        text-align: right;\n",
       "    }\n",
       "</style>\n",
       "<table border=\"1\" class=\"dataframe\">\n",
       "  <thead>\n",
       "    <tr style=\"text-align: right;\">\n",
       "      <th></th>\n",
       "      <th>Sector</th>\n",
       "      <th>Material</th>\n",
       "      <th>Tipo de cliente</th>\n",
       "      <th>Predicción Inferior</th>\n",
       "      <th>Predicción Superior</th>\n",
       "      <th>Predicción central</th>\n",
       "    </tr>\n",
       "  </thead>\n",
       "  <tbody>\n",
       "  </tbody>\n",
       "</table>\n",
       "</div>"
      ],
      "text/plain": [
       "Empty DataFrame\n",
       "Columns: [Sector, Material, Tipo de cliente, Predicción Inferior, Predicción Superior, Predicción central]\n",
       "Index: []"
      ]
     },
     "execution_count": 67,
     "metadata": {},
     "output_type": "execute_result"
    }
   ],
   "source": [
    "D_sem[D_sem.Material=='1010130']"
   ]
  },
  {
   "cell_type": "code",
   "execution_count": 68,
   "id": "a59162a5",
   "metadata": {
    "hidden": true
   },
   "outputs": [
    {
     "data": {
      "text/html": [
       "<div>\n",
       "<style scoped>\n",
       "    .dataframe tbody tr th:only-of-type {\n",
       "        vertical-align: middle;\n",
       "    }\n",
       "\n",
       "    .dataframe tbody tr th {\n",
       "        vertical-align: top;\n",
       "    }\n",
       "\n",
       "    .dataframe thead th {\n",
       "        text-align: right;\n",
       "    }\n",
       "</style>\n",
       "<table border=\"1\" class=\"dataframe\">\n",
       "  <thead>\n",
       "    <tr style=\"text-align: right;\">\n",
       "      <th></th>\n",
       "      <th></th>\n",
       "      <th></th>\n",
       "      <th>Predicción Inferior</th>\n",
       "      <th>Predicción Superior</th>\n",
       "      <th>Predicción central</th>\n",
       "    </tr>\n",
       "    <tr>\n",
       "      <th>Sector</th>\n",
       "      <th>Material</th>\n",
       "      <th>Tipo de cliente</th>\n",
       "      <th></th>\n",
       "      <th></th>\n",
       "      <th></th>\n",
       "    </tr>\n",
       "  </thead>\n",
       "  <tbody>\n",
       "    <tr>\n",
       "      <th rowspan=\"28\" valign=\"top\">Cerdo</th>\n",
       "      <th rowspan=\"4\" valign=\"top\">1020001</th>\n",
       "      <th>Foodservice</th>\n",
       "      <td>-384.389437</td>\n",
       "      <td>1505.780203</td>\n",
       "      <td>563.198208</td>\n",
       "    </tr>\n",
       "    <tr>\n",
       "      <th>Grandes Clientes</th>\n",
       "      <td>2890.381397</td>\n",
       "      <td>13984.227577</td>\n",
       "      <td>8399.880932</td>\n",
       "    </tr>\n",
       "    <tr>\n",
       "      <th>Industriales</th>\n",
       "      <td>-1190.824817</td>\n",
       "      <td>3460.296218</td>\n",
       "      <td>1114.044255</td>\n",
       "    </tr>\n",
       "    <tr>\n",
       "      <th>Tradicional</th>\n",
       "      <td>45777.955557</td>\n",
       "      <td>86957.032673</td>\n",
       "      <td>66329.691785</td>\n",
       "    </tr>\n",
       "    <tr>\n",
       "      <th rowspan=\"4\" valign=\"top\">1020003</th>\n",
       "      <th>Foodservice</th>\n",
       "      <td>1546.140432</td>\n",
       "      <td>5217.556588</td>\n",
       "      <td>3394.786550</td>\n",
       "    </tr>\n",
       "    <tr>\n",
       "      <th>Grandes Clientes</th>\n",
       "      <td>-2776.435592</td>\n",
       "      <td>10107.065002</td>\n",
       "      <td>3605.515969</td>\n",
       "    </tr>\n",
       "    <tr>\n",
       "      <th>Industriales</th>\n",
       "      <td>-1287.804945</td>\n",
       "      <td>3059.865966</td>\n",
       "      <td>944.136530</td>\n",
       "    </tr>\n",
       "    <tr>\n",
       "      <th>Tradicional</th>\n",
       "      <td>12039.328550</td>\n",
       "      <td>51275.381431</td>\n",
       "      <td>31805.804263</td>\n",
       "    </tr>\n",
       "    <tr>\n",
       "      <th rowspan=\"4\" valign=\"top\">1020010</th>\n",
       "      <th>Foodservice</th>\n",
       "      <td>7843.578681</td>\n",
       "      <td>24836.285842</td>\n",
       "      <td>16032.804416</td>\n",
       "    </tr>\n",
       "    <tr>\n",
       "      <th>Grandes Clientes</th>\n",
       "      <td>16017.595284</td>\n",
       "      <td>39505.235562</td>\n",
       "      <td>27886.265524</td>\n",
       "    </tr>\n",
       "    <tr>\n",
       "      <th>Industriales</th>\n",
       "      <td>-4088.523991</td>\n",
       "      <td>7684.529065</td>\n",
       "      <td>1659.549152</td>\n",
       "    </tr>\n",
       "    <tr>\n",
       "      <th>Tradicional</th>\n",
       "      <td>104176.675840</td>\n",
       "      <td>162003.591892</td>\n",
       "      <td>133604.057295</td>\n",
       "    </tr>\n",
       "    <tr>\n",
       "      <th rowspan=\"4\" valign=\"top\">1020013</th>\n",
       "      <th>Foodservice</th>\n",
       "      <td>407.669285</td>\n",
       "      <td>5855.125567</td>\n",
       "      <td>3160.944177</td>\n",
       "    </tr>\n",
       "    <tr>\n",
       "      <th>Grandes Clientes</th>\n",
       "      <td>21773.158244</td>\n",
       "      <td>76778.603068</td>\n",
       "      <td>48951.134832</td>\n",
       "    </tr>\n",
       "    <tr>\n",
       "      <th>Industriales</th>\n",
       "      <td>-6304.969727</td>\n",
       "      <td>12946.423604</td>\n",
       "      <td>3325.942568</td>\n",
       "    </tr>\n",
       "    <tr>\n",
       "      <th>Tradicional</th>\n",
       "      <td>142905.833624</td>\n",
       "      <td>255737.766040</td>\n",
       "      <td>199302.457091</td>\n",
       "    </tr>\n",
       "    <tr>\n",
       "      <th rowspan=\"4\" valign=\"top\">1020027</th>\n",
       "      <th>Foodservice</th>\n",
       "      <td>140.015084</td>\n",
       "      <td>3520.527836</td>\n",
       "      <td>1851.147766</td>\n",
       "    </tr>\n",
       "    <tr>\n",
       "      <th>Grandes Clientes</th>\n",
       "      <td>6299.857975</td>\n",
       "      <td>21439.255198</td>\n",
       "      <td>13834.465894</td>\n",
       "    </tr>\n",
       "    <tr>\n",
       "      <th>Industriales</th>\n",
       "      <td>-2019.938590</td>\n",
       "      <td>5511.769150</td>\n",
       "      <td>1685.313195</td>\n",
       "    </tr>\n",
       "    <tr>\n",
       "      <th>Tradicional</th>\n",
       "      <td>49860.877763</td>\n",
       "      <td>98436.605422</td>\n",
       "      <td>73754.388745</td>\n",
       "    </tr>\n",
       "    <tr>\n",
       "      <th rowspan=\"4\" valign=\"top\">1020042</th>\n",
       "      <th>Foodservice</th>\n",
       "      <td>-215.758197</td>\n",
       "      <td>981.418819</td>\n",
       "      <td>385.222900</td>\n",
       "    </tr>\n",
       "    <tr>\n",
       "      <th>Grandes Clientes</th>\n",
       "      <td>532.588822</td>\n",
       "      <td>8919.499207</td>\n",
       "      <td>4630.895932</td>\n",
       "    </tr>\n",
       "    <tr>\n",
       "      <th>Industriales</th>\n",
       "      <td>4106.656364</td>\n",
       "      <td>10986.175896</td>\n",
       "      <td>7486.727243</td>\n",
       "    </tr>\n",
       "    <tr>\n",
       "      <th>Tradicional</th>\n",
       "      <td>8136.478966</td>\n",
       "      <td>25362.778821</td>\n",
       "      <td>16851.594549</td>\n",
       "    </tr>\n",
       "    <tr>\n",
       "      <th rowspan=\"4\" valign=\"top\">1020253</th>\n",
       "      <th>Foodservice</th>\n",
       "      <td>11130.108158</td>\n",
       "      <td>19136.440252</td>\n",
       "      <td>15173.894676</td>\n",
       "    </tr>\n",
       "    <tr>\n",
       "      <th>Grandes Clientes</th>\n",
       "      <td>1471.299143</td>\n",
       "      <td>11508.816841</td>\n",
       "      <td>6541.444997</td>\n",
       "    </tr>\n",
       "    <tr>\n",
       "      <th>Industriales</th>\n",
       "      <td>-365.514777</td>\n",
       "      <td>4531.822967</td>\n",
       "      <td>2096.039804</td>\n",
       "    </tr>\n",
       "    <tr>\n",
       "      <th>Tradicional</th>\n",
       "      <td>39343.762551</td>\n",
       "      <td>75869.412558</td>\n",
       "      <td>57261.387511</td>\n",
       "    </tr>\n",
       "    <tr>\n",
       "      <th rowspan=\"24\" valign=\"top\">Pollo</th>\n",
       "      <th rowspan=\"4\" valign=\"top\">1010002</th>\n",
       "      <th>Foodservice</th>\n",
       "      <td>-125.800382</td>\n",
       "      <td>14244.111407</td>\n",
       "      <td>7037.029337</td>\n",
       "    </tr>\n",
       "    <tr>\n",
       "      <th>Grandes Clientes</th>\n",
       "      <td>17374.417068</td>\n",
       "      <td>47431.384499</td>\n",
       "      <td>32434.675354</td>\n",
       "    </tr>\n",
       "    <tr>\n",
       "      <th>Industriales</th>\n",
       "      <td>-200.869934</td>\n",
       "      <td>2418.199381</td>\n",
       "      <td>1093.719850</td>\n",
       "    </tr>\n",
       "    <tr>\n",
       "      <th>Tradicional</th>\n",
       "      <td>114153.846452</td>\n",
       "      <td>198092.469532</td>\n",
       "      <td>157093.401163</td>\n",
       "    </tr>\n",
       "    <tr>\n",
       "      <th rowspan=\"4\" valign=\"top\">1010048</th>\n",
       "      <th>Foodservice</th>\n",
       "      <td>21389.067184</td>\n",
       "      <td>42688.072704</td>\n",
       "      <td>31940.904928</td>\n",
       "    </tr>\n",
       "    <tr>\n",
       "      <th>Grandes Clientes</th>\n",
       "      <td>-14600.886544</td>\n",
       "      <td>55503.406541</td>\n",
       "      <td>19980.326278</td>\n",
       "    </tr>\n",
       "    <tr>\n",
       "      <th>Industriales</th>\n",
       "      <td>44.569988</td>\n",
       "      <td>3449.849206</td>\n",
       "      <td>1755.507970</td>\n",
       "    </tr>\n",
       "    <tr>\n",
       "      <th>Tradicional</th>\n",
       "      <td>78505.307807</td>\n",
       "      <td>224972.669962</td>\n",
       "      <td>152998.091329</td>\n",
       "    </tr>\n",
       "    <tr>\n",
       "      <th rowspan=\"4\" valign=\"top\">1010077</th>\n",
       "      <th>Foodservice</th>\n",
       "      <td>883.807814</td>\n",
       "      <td>3820.322647</td>\n",
       "      <td>2331.304465</td>\n",
       "    </tr>\n",
       "    <tr>\n",
       "      <th>Grandes Clientes</th>\n",
       "      <td>-2512.639551</td>\n",
       "      <td>2692.275703</td>\n",
       "      <td>63.913727</td>\n",
       "    </tr>\n",
       "    <tr>\n",
       "      <th>Industriales</th>\n",
       "      <td>-657.385296</td>\n",
       "      <td>539.924208</td>\n",
       "      <td>-52.356231</td>\n",
       "    </tr>\n",
       "    <tr>\n",
       "      <th>Tradicional</th>\n",
       "      <td>14323.015750</td>\n",
       "      <td>41430.885507</td>\n",
       "      <td>28149.371825</td>\n",
       "    </tr>\n",
       "    <tr>\n",
       "      <th rowspan=\"4\" valign=\"top\">1010078</th>\n",
       "      <th>Foodservice</th>\n",
       "      <td>42604.902383</td>\n",
       "      <td>64910.179387</td>\n",
       "      <td>53955.173096</td>\n",
       "    </tr>\n",
       "    <tr>\n",
       "      <th>Grandes Clientes</th>\n",
       "      <td>28256.587854</td>\n",
       "      <td>121387.969042</td>\n",
       "      <td>76362.235662</td>\n",
       "    </tr>\n",
       "    <tr>\n",
       "      <th>Industriales</th>\n",
       "      <td>2013.644894</td>\n",
       "      <td>13693.936900</td>\n",
       "      <td>7834.771601</td>\n",
       "    </tr>\n",
       "    <tr>\n",
       "      <th>Tradicional</th>\n",
       "      <td>466769.179355</td>\n",
       "      <td>734893.396518</td>\n",
       "      <td>600998.005866</td>\n",
       "    </tr>\n",
       "    <tr>\n",
       "      <th rowspan=\"4\" valign=\"top\">1010267</th>\n",
       "      <th>Foodservice</th>\n",
       "      <td>85472.932623</td>\n",
       "      <td>152750.405901</td>\n",
       "      <td>118930.596824</td>\n",
       "    </tr>\n",
       "    <tr>\n",
       "      <th>Grandes Clientes</th>\n",
       "      <td>-13836.856148</td>\n",
       "      <td>23675.181331</td>\n",
       "      <td>5280.615702</td>\n",
       "    </tr>\n",
       "    <tr>\n",
       "      <th>Industriales</th>\n",
       "      <td>-17494.021297</td>\n",
       "      <td>15618.255789</td>\n",
       "      <td>-594.713882</td>\n",
       "    </tr>\n",
       "    <tr>\n",
       "      <th>Tradicional</th>\n",
       "      <td>40578.889658</td>\n",
       "      <td>125176.658303</td>\n",
       "      <td>83055.052710</td>\n",
       "    </tr>\n",
       "    <tr>\n",
       "      <th rowspan=\"4\" valign=\"top\">1010695</th>\n",
       "      <th>Foodservice</th>\n",
       "      <td>5597.004197</td>\n",
       "      <td>13864.898675</td>\n",
       "      <td>9694.346385</td>\n",
       "    </tr>\n",
       "    <tr>\n",
       "      <th>Grandes Clientes</th>\n",
       "      <td>-9355.078172</td>\n",
       "      <td>36904.673045</td>\n",
       "      <td>13931.186046</td>\n",
       "    </tr>\n",
       "    <tr>\n",
       "      <th>Industriales</th>\n",
       "      <td>-799.985575</td>\n",
       "      <td>1552.922572</td>\n",
       "      <td>371.941773</td>\n",
       "    </tr>\n",
       "    <tr>\n",
       "      <th>Tradicional</th>\n",
       "      <td>6687.109093</td>\n",
       "      <td>64564.806372</td>\n",
       "      <td>35722.211626</td>\n",
       "    </tr>\n",
       "  </tbody>\n",
       "</table>\n",
       "</div>"
      ],
      "text/plain": [
       "                                  Predicción Inferior  Predicción Superior  \\\n",
       "Sector Material Tipo de cliente                                              \n",
       "Cerdo  1020001  Foodservice               -384.389437          1505.780203   \n",
       "                Grandes Clientes          2890.381397         13984.227577   \n",
       "                Industriales             -1190.824817          3460.296218   \n",
       "                Tradicional              45777.955557         86957.032673   \n",
       "       1020003  Foodservice               1546.140432          5217.556588   \n",
       "                Grandes Clientes         -2776.435592         10107.065002   \n",
       "                Industriales             -1287.804945          3059.865966   \n",
       "                Tradicional              12039.328550         51275.381431   \n",
       "       1020010  Foodservice               7843.578681         24836.285842   \n",
       "                Grandes Clientes         16017.595284         39505.235562   \n",
       "                Industriales             -4088.523991          7684.529065   \n",
       "                Tradicional             104176.675840        162003.591892   \n",
       "       1020013  Foodservice                407.669285          5855.125567   \n",
       "                Grandes Clientes         21773.158244         76778.603068   \n",
       "                Industriales             -6304.969727         12946.423604   \n",
       "                Tradicional             142905.833624        255737.766040   \n",
       "       1020027  Foodservice                140.015084          3520.527836   \n",
       "                Grandes Clientes          6299.857975         21439.255198   \n",
       "                Industriales             -2019.938590          5511.769150   \n",
       "                Tradicional              49860.877763         98436.605422   \n",
       "       1020042  Foodservice               -215.758197           981.418819   \n",
       "                Grandes Clientes           532.588822          8919.499207   \n",
       "                Industriales              4106.656364         10986.175896   \n",
       "                Tradicional               8136.478966         25362.778821   \n",
       "       1020253  Foodservice              11130.108158         19136.440252   \n",
       "                Grandes Clientes          1471.299143         11508.816841   \n",
       "                Industriales              -365.514777          4531.822967   \n",
       "                Tradicional              39343.762551         75869.412558   \n",
       "Pollo  1010002  Foodservice               -125.800382         14244.111407   \n",
       "                Grandes Clientes         17374.417068         47431.384499   \n",
       "                Industriales              -200.869934          2418.199381   \n",
       "                Tradicional             114153.846452        198092.469532   \n",
       "       1010048  Foodservice              21389.067184         42688.072704   \n",
       "                Grandes Clientes        -14600.886544         55503.406541   \n",
       "                Industriales                44.569988          3449.849206   \n",
       "                Tradicional              78505.307807        224972.669962   \n",
       "       1010077  Foodservice                883.807814          3820.322647   \n",
       "                Grandes Clientes         -2512.639551          2692.275703   \n",
       "                Industriales              -657.385296           539.924208   \n",
       "                Tradicional              14323.015750         41430.885507   \n",
       "       1010078  Foodservice              42604.902383         64910.179387   \n",
       "                Grandes Clientes         28256.587854        121387.969042   \n",
       "                Industriales              2013.644894         13693.936900   \n",
       "                Tradicional             466769.179355        734893.396518   \n",
       "       1010267  Foodservice              85472.932623        152750.405901   \n",
       "                Grandes Clientes        -13836.856148         23675.181331   \n",
       "                Industriales            -17494.021297         15618.255789   \n",
       "                Tradicional              40578.889658        125176.658303   \n",
       "       1010695  Foodservice               5597.004197         13864.898675   \n",
       "                Grandes Clientes         -9355.078172         36904.673045   \n",
       "                Industriales              -799.985575          1552.922572   \n",
       "                Tradicional               6687.109093         64564.806372   \n",
       "\n",
       "                                  Predicción central  \n",
       "Sector Material Tipo de cliente                       \n",
       "Cerdo  1020001  Foodservice               563.198208  \n",
       "                Grandes Clientes         8399.880932  \n",
       "                Industriales             1114.044255  \n",
       "                Tradicional             66329.691785  \n",
       "       1020003  Foodservice              3394.786550  \n",
       "                Grandes Clientes         3605.515969  \n",
       "                Industriales              944.136530  \n",
       "                Tradicional             31805.804263  \n",
       "       1020010  Foodservice             16032.804416  \n",
       "                Grandes Clientes        27886.265524  \n",
       "                Industriales             1659.549152  \n",
       "                Tradicional            133604.057295  \n",
       "       1020013  Foodservice              3160.944177  \n",
       "                Grandes Clientes        48951.134832  \n",
       "                Industriales             3325.942568  \n",
       "                Tradicional            199302.457091  \n",
       "       1020027  Foodservice              1851.147766  \n",
       "                Grandes Clientes        13834.465894  \n",
       "                Industriales             1685.313195  \n",
       "                Tradicional             73754.388745  \n",
       "       1020042  Foodservice               385.222900  \n",
       "                Grandes Clientes         4630.895932  \n",
       "                Industriales             7486.727243  \n",
       "                Tradicional             16851.594549  \n",
       "       1020253  Foodservice             15173.894676  \n",
       "                Grandes Clientes         6541.444997  \n",
       "                Industriales             2096.039804  \n",
       "                Tradicional             57261.387511  \n",
       "Pollo  1010002  Foodservice              7037.029337  \n",
       "                Grandes Clientes        32434.675354  \n",
       "                Industriales             1093.719850  \n",
       "                Tradicional            157093.401163  \n",
       "       1010048  Foodservice             31940.904928  \n",
       "                Grandes Clientes        19980.326278  \n",
       "                Industriales             1755.507970  \n",
       "                Tradicional            152998.091329  \n",
       "       1010077  Foodservice              2331.304465  \n",
       "                Grandes Clientes           63.913727  \n",
       "                Industriales              -52.356231  \n",
       "                Tradicional             28149.371825  \n",
       "       1010078  Foodservice             53955.173096  \n",
       "                Grandes Clientes        76362.235662  \n",
       "                Industriales             7834.771601  \n",
       "                Tradicional            600998.005866  \n",
       "       1010267  Foodservice            118930.596824  \n",
       "                Grandes Clientes         5280.615702  \n",
       "                Industriales             -594.713882  \n",
       "                Tradicional             83055.052710  \n",
       "       1010695  Foodservice              9694.346385  \n",
       "                Grandes Clientes        13931.186046  \n",
       "                Industriales              371.941773  \n",
       "                Tradicional             35722.211626  "
      ]
     },
     "execution_count": 68,
     "metadata": {},
     "output_type": "execute_result"
    }
   ],
   "source": [
    "df3.groupby(['Sector','Material','Tipo de cliente']).sum()"
   ]
  },
  {
   "cell_type": "code",
   "execution_count": 69,
   "id": "1a01474f",
   "metadata": {
    "hidden": true,
    "scrolled": true
   },
   "outputs": [
    {
     "data": {
      "text/html": [
       "<div>\n",
       "<style scoped>\n",
       "    .dataframe tbody tr th:only-of-type {\n",
       "        vertical-align: middle;\n",
       "    }\n",
       "\n",
       "    .dataframe tbody tr th {\n",
       "        vertical-align: top;\n",
       "    }\n",
       "\n",
       "    .dataframe thead th {\n",
       "        text-align: right;\n",
       "    }\n",
       "</style>\n",
       "<table border=\"1\" class=\"dataframe\">\n",
       "  <thead>\n",
       "    <tr style=\"text-align: right;\">\n",
       "      <th></th>\n",
       "      <th></th>\n",
       "      <th></th>\n",
       "      <th>Predicción Inferior</th>\n",
       "      <th>Predicción Superior</th>\n",
       "      <th>Predicción central</th>\n",
       "    </tr>\n",
       "    <tr>\n",
       "      <th>Sector</th>\n",
       "      <th>Material</th>\n",
       "      <th>Tipo de cliente</th>\n",
       "      <th></th>\n",
       "      <th></th>\n",
       "      <th></th>\n",
       "    </tr>\n",
       "  </thead>\n",
       "  <tbody>\n",
       "    <tr>\n",
       "      <th rowspan=\"28\" valign=\"top\">Cerdo</th>\n",
       "      <th rowspan=\"4\" valign=\"top\">1020001</th>\n",
       "      <th>Foodservice</th>\n",
       "      <td>-384.389437</td>\n",
       "      <td>1505.780203</td>\n",
       "      <td>563.198208</td>\n",
       "    </tr>\n",
       "    <tr>\n",
       "      <th>Grandes Clientes</th>\n",
       "      <td>2890.381397</td>\n",
       "      <td>13984.227577</td>\n",
       "      <td>8399.880932</td>\n",
       "    </tr>\n",
       "    <tr>\n",
       "      <th>Industriales</th>\n",
       "      <td>-1190.824817</td>\n",
       "      <td>3460.296218</td>\n",
       "      <td>1114.044255</td>\n",
       "    </tr>\n",
       "    <tr>\n",
       "      <th>Tradicional</th>\n",
       "      <td>45777.955557</td>\n",
       "      <td>86957.032673</td>\n",
       "      <td>66329.691785</td>\n",
       "    </tr>\n",
       "    <tr>\n",
       "      <th rowspan=\"4\" valign=\"top\">1020003</th>\n",
       "      <th>Foodservice</th>\n",
       "      <td>1546.140432</td>\n",
       "      <td>5217.556588</td>\n",
       "      <td>3394.786550</td>\n",
       "    </tr>\n",
       "    <tr>\n",
       "      <th>Grandes Clientes</th>\n",
       "      <td>-2776.435592</td>\n",
       "      <td>10107.065002</td>\n",
       "      <td>3605.515969</td>\n",
       "    </tr>\n",
       "    <tr>\n",
       "      <th>Industriales</th>\n",
       "      <td>-1287.804945</td>\n",
       "      <td>3059.865966</td>\n",
       "      <td>944.136530</td>\n",
       "    </tr>\n",
       "    <tr>\n",
       "      <th>Tradicional</th>\n",
       "      <td>12039.328550</td>\n",
       "      <td>51275.381431</td>\n",
       "      <td>31805.804263</td>\n",
       "    </tr>\n",
       "    <tr>\n",
       "      <th rowspan=\"4\" valign=\"top\">1020010</th>\n",
       "      <th>Foodservice</th>\n",
       "      <td>7843.578681</td>\n",
       "      <td>24836.285842</td>\n",
       "      <td>16032.804416</td>\n",
       "    </tr>\n",
       "    <tr>\n",
       "      <th>Grandes Clientes</th>\n",
       "      <td>16017.595284</td>\n",
       "      <td>39505.235562</td>\n",
       "      <td>27886.265524</td>\n",
       "    </tr>\n",
       "    <tr>\n",
       "      <th>Industriales</th>\n",
       "      <td>-4088.523991</td>\n",
       "      <td>7684.529065</td>\n",
       "      <td>1659.549152</td>\n",
       "    </tr>\n",
       "    <tr>\n",
       "      <th>Tradicional</th>\n",
       "      <td>104176.675840</td>\n",
       "      <td>162003.591892</td>\n",
       "      <td>133604.057295</td>\n",
       "    </tr>\n",
       "    <tr>\n",
       "      <th rowspan=\"4\" valign=\"top\">1020013</th>\n",
       "      <th>Foodservice</th>\n",
       "      <td>407.669285</td>\n",
       "      <td>5855.125567</td>\n",
       "      <td>3160.944177</td>\n",
       "    </tr>\n",
       "    <tr>\n",
       "      <th>Grandes Clientes</th>\n",
       "      <td>21773.158244</td>\n",
       "      <td>76778.603068</td>\n",
       "      <td>48951.134832</td>\n",
       "    </tr>\n",
       "    <tr>\n",
       "      <th>Industriales</th>\n",
       "      <td>-6304.969727</td>\n",
       "      <td>12946.423604</td>\n",
       "      <td>3325.942568</td>\n",
       "    </tr>\n",
       "    <tr>\n",
       "      <th>Tradicional</th>\n",
       "      <td>142905.833624</td>\n",
       "      <td>255737.766040</td>\n",
       "      <td>199302.457091</td>\n",
       "    </tr>\n",
       "    <tr>\n",
       "      <th rowspan=\"4\" valign=\"top\">1020027</th>\n",
       "      <th>Foodservice</th>\n",
       "      <td>140.015084</td>\n",
       "      <td>3520.527836</td>\n",
       "      <td>1851.147766</td>\n",
       "    </tr>\n",
       "    <tr>\n",
       "      <th>Grandes Clientes</th>\n",
       "      <td>6299.857975</td>\n",
       "      <td>21439.255198</td>\n",
       "      <td>13834.465894</td>\n",
       "    </tr>\n",
       "    <tr>\n",
       "      <th>Industriales</th>\n",
       "      <td>-2019.938590</td>\n",
       "      <td>5511.769150</td>\n",
       "      <td>1685.313195</td>\n",
       "    </tr>\n",
       "    <tr>\n",
       "      <th>Tradicional</th>\n",
       "      <td>49860.877763</td>\n",
       "      <td>98436.605422</td>\n",
       "      <td>73754.388745</td>\n",
       "    </tr>\n",
       "    <tr>\n",
       "      <th rowspan=\"4\" valign=\"top\">1020042</th>\n",
       "      <th>Foodservice</th>\n",
       "      <td>-215.758197</td>\n",
       "      <td>981.418819</td>\n",
       "      <td>385.222900</td>\n",
       "    </tr>\n",
       "    <tr>\n",
       "      <th>Grandes Clientes</th>\n",
       "      <td>532.588822</td>\n",
       "      <td>8919.499207</td>\n",
       "      <td>4630.895932</td>\n",
       "    </tr>\n",
       "    <tr>\n",
       "      <th>Industriales</th>\n",
       "      <td>4106.656364</td>\n",
       "      <td>10986.175896</td>\n",
       "      <td>7486.727243</td>\n",
       "    </tr>\n",
       "    <tr>\n",
       "      <th>Tradicional</th>\n",
       "      <td>8136.478966</td>\n",
       "      <td>25362.778821</td>\n",
       "      <td>16851.594549</td>\n",
       "    </tr>\n",
       "    <tr>\n",
       "      <th rowspan=\"4\" valign=\"top\">1020253</th>\n",
       "      <th>Foodservice</th>\n",
       "      <td>11130.108158</td>\n",
       "      <td>19136.440252</td>\n",
       "      <td>15173.894676</td>\n",
       "    </tr>\n",
       "    <tr>\n",
       "      <th>Grandes Clientes</th>\n",
       "      <td>1471.299143</td>\n",
       "      <td>11508.816841</td>\n",
       "      <td>6541.444997</td>\n",
       "    </tr>\n",
       "    <tr>\n",
       "      <th>Industriales</th>\n",
       "      <td>-365.514777</td>\n",
       "      <td>4531.822967</td>\n",
       "      <td>2096.039804</td>\n",
       "    </tr>\n",
       "    <tr>\n",
       "      <th>Tradicional</th>\n",
       "      <td>39343.762551</td>\n",
       "      <td>75869.412558</td>\n",
       "      <td>57261.387511</td>\n",
       "    </tr>\n",
       "    <tr>\n",
       "      <th rowspan=\"24\" valign=\"top\">Pollo</th>\n",
       "      <th rowspan=\"4\" valign=\"top\">1010002</th>\n",
       "      <th>Foodservice</th>\n",
       "      <td>-125.800382</td>\n",
       "      <td>14244.111407</td>\n",
       "      <td>7037.029337</td>\n",
       "    </tr>\n",
       "    <tr>\n",
       "      <th>Grandes Clientes</th>\n",
       "      <td>17374.417068</td>\n",
       "      <td>47431.384499</td>\n",
       "      <td>32434.675354</td>\n",
       "    </tr>\n",
       "    <tr>\n",
       "      <th>Industriales</th>\n",
       "      <td>-200.869934</td>\n",
       "      <td>2418.199381</td>\n",
       "      <td>1093.719850</td>\n",
       "    </tr>\n",
       "    <tr>\n",
       "      <th>Tradicional</th>\n",
       "      <td>114153.846452</td>\n",
       "      <td>198092.469532</td>\n",
       "      <td>157093.401163</td>\n",
       "    </tr>\n",
       "    <tr>\n",
       "      <th rowspan=\"4\" valign=\"top\">1010048</th>\n",
       "      <th>Foodservice</th>\n",
       "      <td>21389.067184</td>\n",
       "      <td>42688.072704</td>\n",
       "      <td>31940.904928</td>\n",
       "    </tr>\n",
       "    <tr>\n",
       "      <th>Grandes Clientes</th>\n",
       "      <td>-14600.886544</td>\n",
       "      <td>55503.406541</td>\n",
       "      <td>19980.326278</td>\n",
       "    </tr>\n",
       "    <tr>\n",
       "      <th>Industriales</th>\n",
       "      <td>44.569988</td>\n",
       "      <td>3449.849206</td>\n",
       "      <td>1755.507970</td>\n",
       "    </tr>\n",
       "    <tr>\n",
       "      <th>Tradicional</th>\n",
       "      <td>78505.307807</td>\n",
       "      <td>224972.669962</td>\n",
       "      <td>152998.091329</td>\n",
       "    </tr>\n",
       "    <tr>\n",
       "      <th rowspan=\"4\" valign=\"top\">1010077</th>\n",
       "      <th>Foodservice</th>\n",
       "      <td>883.807814</td>\n",
       "      <td>3820.322647</td>\n",
       "      <td>2331.304465</td>\n",
       "    </tr>\n",
       "    <tr>\n",
       "      <th>Grandes Clientes</th>\n",
       "      <td>-2512.639551</td>\n",
       "      <td>2692.275703</td>\n",
       "      <td>63.913727</td>\n",
       "    </tr>\n",
       "    <tr>\n",
       "      <th>Industriales</th>\n",
       "      <td>-657.385296</td>\n",
       "      <td>539.924208</td>\n",
       "      <td>-52.356231</td>\n",
       "    </tr>\n",
       "    <tr>\n",
       "      <th>Tradicional</th>\n",
       "      <td>14323.015750</td>\n",
       "      <td>41430.885507</td>\n",
       "      <td>28149.371825</td>\n",
       "    </tr>\n",
       "    <tr>\n",
       "      <th rowspan=\"4\" valign=\"top\">1010078</th>\n",
       "      <th>Foodservice</th>\n",
       "      <td>42604.902383</td>\n",
       "      <td>64910.179387</td>\n",
       "      <td>53955.173096</td>\n",
       "    </tr>\n",
       "    <tr>\n",
       "      <th>Grandes Clientes</th>\n",
       "      <td>28256.587854</td>\n",
       "      <td>121387.969042</td>\n",
       "      <td>76362.235662</td>\n",
       "    </tr>\n",
       "    <tr>\n",
       "      <th>Industriales</th>\n",
       "      <td>2013.644894</td>\n",
       "      <td>13693.936900</td>\n",
       "      <td>7834.771601</td>\n",
       "    </tr>\n",
       "    <tr>\n",
       "      <th>Tradicional</th>\n",
       "      <td>466769.179355</td>\n",
       "      <td>734893.396518</td>\n",
       "      <td>600998.005866</td>\n",
       "    </tr>\n",
       "    <tr>\n",
       "      <th rowspan=\"4\" valign=\"top\">1010267</th>\n",
       "      <th>Foodservice</th>\n",
       "      <td>85472.932623</td>\n",
       "      <td>152750.405901</td>\n",
       "      <td>118930.596824</td>\n",
       "    </tr>\n",
       "    <tr>\n",
       "      <th>Grandes Clientes</th>\n",
       "      <td>-13836.856148</td>\n",
       "      <td>23675.181331</td>\n",
       "      <td>5280.615702</td>\n",
       "    </tr>\n",
       "    <tr>\n",
       "      <th>Industriales</th>\n",
       "      <td>-17494.021297</td>\n",
       "      <td>15618.255789</td>\n",
       "      <td>-594.713882</td>\n",
       "    </tr>\n",
       "    <tr>\n",
       "      <th>Tradicional</th>\n",
       "      <td>40578.889658</td>\n",
       "      <td>125176.658303</td>\n",
       "      <td>83055.052710</td>\n",
       "    </tr>\n",
       "    <tr>\n",
       "      <th rowspan=\"4\" valign=\"top\">1010695</th>\n",
       "      <th>Foodservice</th>\n",
       "      <td>5597.004197</td>\n",
       "      <td>13864.898675</td>\n",
       "      <td>9694.346385</td>\n",
       "    </tr>\n",
       "    <tr>\n",
       "      <th>Grandes Clientes</th>\n",
       "      <td>-9355.078172</td>\n",
       "      <td>36904.673045</td>\n",
       "      <td>13931.186046</td>\n",
       "    </tr>\n",
       "    <tr>\n",
       "      <th>Industriales</th>\n",
       "      <td>-799.985575</td>\n",
       "      <td>1552.922572</td>\n",
       "      <td>371.941773</td>\n",
       "    </tr>\n",
       "    <tr>\n",
       "      <th>Tradicional</th>\n",
       "      <td>6687.109093</td>\n",
       "      <td>64564.806372</td>\n",
       "      <td>35722.211626</td>\n",
       "    </tr>\n",
       "  </tbody>\n",
       "</table>\n",
       "</div>"
      ],
      "text/plain": [
       "                                  Predicción Inferior  Predicción Superior  \\\n",
       "Sector Material Tipo de cliente                                              \n",
       "Cerdo  1020001  Foodservice               -384.389437          1505.780203   \n",
       "                Grandes Clientes          2890.381397         13984.227577   \n",
       "                Industriales             -1190.824817          3460.296218   \n",
       "                Tradicional              45777.955557         86957.032673   \n",
       "       1020003  Foodservice               1546.140432          5217.556588   \n",
       "                Grandes Clientes         -2776.435592         10107.065002   \n",
       "                Industriales             -1287.804945          3059.865966   \n",
       "                Tradicional              12039.328550         51275.381431   \n",
       "       1020010  Foodservice               7843.578681         24836.285842   \n",
       "                Grandes Clientes         16017.595284         39505.235562   \n",
       "                Industriales             -4088.523991          7684.529065   \n",
       "                Tradicional             104176.675840        162003.591892   \n",
       "       1020013  Foodservice                407.669285          5855.125567   \n",
       "                Grandes Clientes         21773.158244         76778.603068   \n",
       "                Industriales             -6304.969727         12946.423604   \n",
       "                Tradicional             142905.833624        255737.766040   \n",
       "       1020027  Foodservice                140.015084          3520.527836   \n",
       "                Grandes Clientes          6299.857975         21439.255198   \n",
       "                Industriales             -2019.938590          5511.769150   \n",
       "                Tradicional              49860.877763         98436.605422   \n",
       "       1020042  Foodservice               -215.758197           981.418819   \n",
       "                Grandes Clientes           532.588822          8919.499207   \n",
       "                Industriales              4106.656364         10986.175896   \n",
       "                Tradicional               8136.478966         25362.778821   \n",
       "       1020253  Foodservice              11130.108158         19136.440252   \n",
       "                Grandes Clientes          1471.299143         11508.816841   \n",
       "                Industriales              -365.514777          4531.822967   \n",
       "                Tradicional              39343.762551         75869.412558   \n",
       "Pollo  1010002  Foodservice               -125.800382         14244.111407   \n",
       "                Grandes Clientes         17374.417068         47431.384499   \n",
       "                Industriales              -200.869934          2418.199381   \n",
       "                Tradicional             114153.846452        198092.469532   \n",
       "       1010048  Foodservice              21389.067184         42688.072704   \n",
       "                Grandes Clientes        -14600.886544         55503.406541   \n",
       "                Industriales                44.569988          3449.849206   \n",
       "                Tradicional              78505.307807        224972.669962   \n",
       "       1010077  Foodservice                883.807814          3820.322647   \n",
       "                Grandes Clientes         -2512.639551          2692.275703   \n",
       "                Industriales              -657.385296           539.924208   \n",
       "                Tradicional              14323.015750         41430.885507   \n",
       "       1010078  Foodservice              42604.902383         64910.179387   \n",
       "                Grandes Clientes         28256.587854        121387.969042   \n",
       "                Industriales              2013.644894         13693.936900   \n",
       "                Tradicional             466769.179355        734893.396518   \n",
       "       1010267  Foodservice              85472.932623        152750.405901   \n",
       "                Grandes Clientes        -13836.856148         23675.181331   \n",
       "                Industriales            -17494.021297         15618.255789   \n",
       "                Tradicional              40578.889658        125176.658303   \n",
       "       1010695  Foodservice               5597.004197         13864.898675   \n",
       "                Grandes Clientes         -9355.078172         36904.673045   \n",
       "                Industriales              -799.985575          1552.922572   \n",
       "                Tradicional               6687.109093         64564.806372   \n",
       "\n",
       "                                  Predicción central  \n",
       "Sector Material Tipo de cliente                       \n",
       "Cerdo  1020001  Foodservice               563.198208  \n",
       "                Grandes Clientes         8399.880932  \n",
       "                Industriales             1114.044255  \n",
       "                Tradicional             66329.691785  \n",
       "       1020003  Foodservice              3394.786550  \n",
       "                Grandes Clientes         3605.515969  \n",
       "                Industriales              944.136530  \n",
       "                Tradicional             31805.804263  \n",
       "       1020010  Foodservice             16032.804416  \n",
       "                Grandes Clientes        27886.265524  \n",
       "                Industriales             1659.549152  \n",
       "                Tradicional            133604.057295  \n",
       "       1020013  Foodservice              3160.944177  \n",
       "                Grandes Clientes        48951.134832  \n",
       "                Industriales             3325.942568  \n",
       "                Tradicional            199302.457091  \n",
       "       1020027  Foodservice              1851.147766  \n",
       "                Grandes Clientes        13834.465894  \n",
       "                Industriales             1685.313195  \n",
       "                Tradicional             73754.388745  \n",
       "       1020042  Foodservice               385.222900  \n",
       "                Grandes Clientes         4630.895932  \n",
       "                Industriales             7486.727243  \n",
       "                Tradicional             16851.594549  \n",
       "       1020253  Foodservice             15173.894676  \n",
       "                Grandes Clientes         6541.444997  \n",
       "                Industriales             2096.039804  \n",
       "                Tradicional             57261.387511  \n",
       "Pollo  1010002  Foodservice              7037.029337  \n",
       "                Grandes Clientes        32434.675354  \n",
       "                Industriales             1093.719850  \n",
       "                Tradicional            157093.401163  \n",
       "       1010048  Foodservice             31940.904928  \n",
       "                Grandes Clientes        19980.326278  \n",
       "                Industriales             1755.507970  \n",
       "                Tradicional            152998.091329  \n",
       "       1010077  Foodservice              2331.304465  \n",
       "                Grandes Clientes           63.913727  \n",
       "                Industriales              -52.356231  \n",
       "                Tradicional             28149.371825  \n",
       "       1010078  Foodservice             53955.173096  \n",
       "                Grandes Clientes        76362.235662  \n",
       "                Industriales             7834.771601  \n",
       "                Tradicional            600998.005866  \n",
       "       1010267  Foodservice            118930.596824  \n",
       "                Grandes Clientes         5280.615702  \n",
       "                Industriales             -594.713882  \n",
       "                Tradicional             83055.052710  \n",
       "       1010695  Foodservice              9694.346385  \n",
       "                Grandes Clientes        13931.186046  \n",
       "                Industriales              371.941773  \n",
       "                Tradicional             35722.211626  "
      ]
     },
     "execution_count": 69,
     "metadata": {},
     "output_type": "execute_result"
    }
   ],
   "source": [
    "df3.groupby(['Sector','Material','Tipo de cliente']).sum()"
   ]
  },
  {
   "cell_type": "markdown",
   "id": "681e786d",
   "metadata": {
    "heading_collapsed": true
   },
   "source": [
    "## Predicción selecionada "
   ]
  },
  {
   "cell_type": "markdown",
   "id": "8f501737",
   "metadata": {
    "hidden": true
   },
   "source": [
    "### Sucursal "
   ]
  },
  {
   "cell_type": "code",
   "execution_count": 36,
   "id": "e55973b8",
   "metadata": {
    "hidden": true,
    "scrolled": false
   },
   "outputs": [
    {
     "name": "stderr",
     "output_type": "stream",
     "text": [
      "INFO:fbprophet:Disabling daily seasonality. Run prophet with daily_seasonality=True to override this.\n"
     ]
    },
    {
     "data": {
      "text/html": [
       "<div>\n",
       "<style scoped>\n",
       "    .dataframe tbody tr th:only-of-type {\n",
       "        vertical-align: middle;\n",
       "    }\n",
       "\n",
       "    .dataframe tbody tr th {\n",
       "        vertical-align: top;\n",
       "    }\n",
       "\n",
       "    .dataframe thead th {\n",
       "        text-align: right;\n",
       "    }\n",
       "</style>\n",
       "<table border=\"1\" class=\"dataframe\">\n",
       "  <thead>\n",
       "    <tr style=\"text-align: right;\">\n",
       "      <th></th>\n",
       "      <th>ds</th>\n",
       "      <th>yhat_lower</th>\n",
       "      <th>yhat_upper</th>\n",
       "      <th>yhat</th>\n",
       "      <th>Material</th>\n",
       "      <th>Oficina de Ventas Unifica</th>\n",
       "      <th>Zona de ventas.1</th>\n",
       "    </tr>\n",
       "  </thead>\n",
       "  <tbody>\n",
       "    <tr>\n",
       "      <th>0</th>\n",
       "      <td>2021-06-13</td>\n",
       "      <td>-57.465248</td>\n",
       "      <td>135.318944</td>\n",
       "      <td>34.900493</td>\n",
       "      <td>1020253</td>\n",
       "      <td>Arica</td>\n",
       "      <td>Norte</td>\n",
       "    </tr>\n",
       "    <tr>\n",
       "      <th>1</th>\n",
       "      <td>2021-06-14</td>\n",
       "      <td>-48.317796</td>\n",
       "      <td>150.183209</td>\n",
       "      <td>49.715464</td>\n",
       "      <td>1020253</td>\n",
       "      <td>Arica</td>\n",
       "      <td>Norte</td>\n",
       "    </tr>\n",
       "    <tr>\n",
       "      <th>2</th>\n",
       "      <td>2021-06-15</td>\n",
       "      <td>-64.998028</td>\n",
       "      <td>141.065270</td>\n",
       "      <td>38.686661</td>\n",
       "      <td>1020253</td>\n",
       "      <td>Arica</td>\n",
       "      <td>Norte</td>\n",
       "    </tr>\n",
       "    <tr>\n",
       "      <th>3</th>\n",
       "      <td>2021-06-16</td>\n",
       "      <td>-24.261868</td>\n",
       "      <td>179.338739</td>\n",
       "      <td>78.271628</td>\n",
       "      <td>1020253</td>\n",
       "      <td>Arica</td>\n",
       "      <td>Norte</td>\n",
       "    </tr>\n",
       "    <tr>\n",
       "      <th>4</th>\n",
       "      <td>2021-06-17</td>\n",
       "      <td>-45.382790</td>\n",
       "      <td>160.775120</td>\n",
       "      <td>57.973342</td>\n",
       "      <td>1020253</td>\n",
       "      <td>Arica</td>\n",
       "      <td>Norte</td>\n",
       "    </tr>\n",
       "  </tbody>\n",
       "</table>\n",
       "</div>"
      ],
      "text/plain": [
       "          ds  yhat_lower  yhat_upper       yhat Material  \\\n",
       "0 2021-06-13  -57.465248  135.318944  34.900493  1020253   \n",
       "1 2021-06-14  -48.317796  150.183209  49.715464  1020253   \n",
       "2 2021-06-15  -64.998028  141.065270  38.686661  1020253   \n",
       "3 2021-06-16  -24.261868  179.338739  78.271628  1020253   \n",
       "4 2021-06-17  -45.382790  160.775120  57.973342  1020253   \n",
       "\n",
       "  Oficina de Ventas Unifica Zona de ventas.1  \n",
       "0                     Arica            Norte  \n",
       "1                     Arica            Norte  \n",
       "2                     Arica            Norte  \n",
       "3                     Arica            Norte  \n",
       "4                     Arica            Norte  "
      ]
     },
     "execution_count": 36,
     "metadata": {},
     "output_type": "execute_result"
    }
   ],
   "source": [
    "df2 = pd.DataFrame(columns=['ds', 'yhat_lower', 'yhat_upper', 'yhat', 'Material','Oficina de Ventas Unifica', 'Zona de ventas.1'])\n",
    "\n",
    "\n",
    "Listado_de_zonas=data['Zona de ventas.1'].unique()\n",
    "\n",
    "#for z in Listado_de_zonas:\n",
    "Z='Norte'\n",
    "\n",
    "dfz=data#Df_ubic(data,'Zona de ventas.1',Z)\n",
    "\n",
    "Listado_de_Sucursales=dfz['Oficina de Ventas Unifica'].unique()\n",
    "\n",
    "#for y in Listado_de_Sucursales:\n",
    "\n",
    "y='Arica'\n",
    "dfy=Df_ubic(dfz,'Oficina de Ventas Unifica',y)\n",
    "\n",
    "\n",
    "Listado_de_Materiales=dfy['Material'].unique()\n",
    "\n",
    "#for m in Listado_de_Materiales:\n",
    "m=Listado_de_Materiales[0]\n",
    "dfm=Df_ubic(dfy,'Material',m).groupby('Día natural').sum().reset_index()[['Día natural',y_col]]\n",
    "\n",
    "dfmPred=Predict_sem(dfm,7)[['ds', 'yhat_lower', 'yhat_upper', 'yhat']].tail(6)\n",
    "dfmPred['Material']=[m for i in range(dfmPred.shape[0])]\n",
    "dfmPred['Oficina de Ventas Unifica']=[y for i in range(dfmPred.shape[0])]\n",
    "dfmPred['Zona de ventas.1']=[Z for i in range(dfmPred.shape[0])]\n",
    "dfmPred=dfmPred.reset_index()\n",
    "dfmPred.pop('index')\n",
    "df2=pd.concat([df2, dfmPred])\n",
    "df2.head()"
   ]
  },
  {
   "cell_type": "markdown",
   "id": "7a69b935",
   "metadata": {
    "hidden": true
   },
   "source": [
    "### Zona "
   ]
  },
  {
   "cell_type": "code",
   "execution_count": 37,
   "id": "40df35ae",
   "metadata": {
    "hidden": true,
    "scrolled": false
   },
   "outputs": [
    {
     "name": "stderr",
     "output_type": "stream",
     "text": [
      "INFO:fbprophet:Disabling daily seasonality. Run prophet with daily_seasonality=True to override this.\n"
     ]
    },
    {
     "data": {
      "text/html": [
       "<div>\n",
       "<style scoped>\n",
       "    .dataframe tbody tr th:only-of-type {\n",
       "        vertical-align: middle;\n",
       "    }\n",
       "\n",
       "    .dataframe tbody tr th {\n",
       "        vertical-align: top;\n",
       "    }\n",
       "\n",
       "    .dataframe thead th {\n",
       "        text-align: right;\n",
       "    }\n",
       "</style>\n",
       "<table border=\"1\" class=\"dataframe\">\n",
       "  <thead>\n",
       "    <tr style=\"text-align: right;\">\n",
       "      <th></th>\n",
       "      <th>ds</th>\n",
       "      <th>yhat_lower</th>\n",
       "      <th>yhat_upper</th>\n",
       "      <th>yhat</th>\n",
       "      <th>Material</th>\n",
       "      <th>Oficina de Ventas Unifica</th>\n",
       "      <th>Zona de ventas.1</th>\n",
       "    </tr>\n",
       "  </thead>\n",
       "  <tbody>\n",
       "    <tr>\n",
       "      <th>0</th>\n",
       "      <td>2021-06-13</td>\n",
       "      <td>2255.909436</td>\n",
       "      <td>11048.439429</td>\n",
       "      <td>6663.595223</td>\n",
       "      <td>1020253</td>\n",
       "      <td>NaN</td>\n",
       "      <td>Santiago</td>\n",
       "    </tr>\n",
       "    <tr>\n",
       "      <th>1</th>\n",
       "      <td>2021-06-14</td>\n",
       "      <td>6155.265265</td>\n",
       "      <td>14977.040561</td>\n",
       "      <td>10707.495410</td>\n",
       "      <td>1020253</td>\n",
       "      <td>NaN</td>\n",
       "      <td>Santiago</td>\n",
       "    </tr>\n",
       "    <tr>\n",
       "      <th>2</th>\n",
       "      <td>2021-06-15</td>\n",
       "      <td>8321.529271</td>\n",
       "      <td>17012.659354</td>\n",
       "      <td>12744.569866</td>\n",
       "      <td>1020253</td>\n",
       "      <td>NaN</td>\n",
       "      <td>Santiago</td>\n",
       "    </tr>\n",
       "    <tr>\n",
       "      <th>3</th>\n",
       "      <td>2021-06-16</td>\n",
       "      <td>9872.628696</td>\n",
       "      <td>18703.024312</td>\n",
       "      <td>14287.205309</td>\n",
       "      <td>1020253</td>\n",
       "      <td>NaN</td>\n",
       "      <td>Santiago</td>\n",
       "    </tr>\n",
       "    <tr>\n",
       "      <th>4</th>\n",
       "      <td>2021-06-17</td>\n",
       "      <td>10764.097397</td>\n",
       "      <td>19676.243419</td>\n",
       "      <td>15291.635632</td>\n",
       "      <td>1020253</td>\n",
       "      <td>NaN</td>\n",
       "      <td>Santiago</td>\n",
       "    </tr>\n",
       "  </tbody>\n",
       "</table>\n",
       "</div>"
      ],
      "text/plain": [
       "          ds    yhat_lower    yhat_upper          yhat Material  \\\n",
       "0 2021-06-13   2255.909436  11048.439429   6663.595223  1020253   \n",
       "1 2021-06-14   6155.265265  14977.040561  10707.495410  1020253   \n",
       "2 2021-06-15   8321.529271  17012.659354  12744.569866  1020253   \n",
       "3 2021-06-16   9872.628696  18703.024312  14287.205309  1020253   \n",
       "4 2021-06-17  10764.097397  19676.243419  15291.635632  1020253   \n",
       "\n",
       "  Oficina de Ventas Unifica Zona de ventas.1  \n",
       "0                       NaN         Santiago  \n",
       "1                       NaN         Santiago  \n",
       "2                       NaN         Santiago  \n",
       "3                       NaN         Santiago  \n",
       "4                       NaN         Santiago  "
      ]
     },
     "execution_count": 37,
     "metadata": {},
     "output_type": "execute_result"
    }
   ],
   "source": [
    "df2 = pd.DataFrame(columns=['ds', 'yhat_lower', 'yhat_upper', 'yhat', 'Material','Oficina de Ventas Unifica', 'Zona de ventas.1'])\n",
    "\n",
    "\n",
    "Listado_de_zonas=data['Zona de ventas.1'].unique()\n",
    "\n",
    "#for z in Listado_de_zonas:\n",
    "Z='Santiago'\n",
    "\n",
    "dfz=data#Df_ubic(data,'Zona de ventas.1',Z)\n",
    "\n",
    "\n",
    "Listado_de_Materiales=dfz['Material'].unique()\n",
    "\n",
    "#for m in Listado_de_Materiales:\n",
    "m=Listado_de_Materiales[0]\n",
    "dfm=Df_ubic(dfz,'Material',m).groupby('Día natural').sum().reset_index()[['Día natural',y_col]]\n",
    "\n",
    "dfmPred=Predict_sem(dfm,7)[['ds', 'yhat_lower', 'yhat_upper', 'yhat']].tail(6)\n",
    "dfmPred['Material']=[m for i in range(dfmPred.shape[0])]\n",
    "#dfmPred['Oficina de Ventas Unifica']=[y for i in range(dfmPred.shape[0])]\n",
    "dfmPred['Zona de ventas.1']=[Z for i in range(dfmPred.shape[0])]\n",
    "dfmPred=dfmPred.reset_index()\n",
    "dfmPred.pop('index')\n",
    "df2=pd.concat([df2, dfmPred])\n",
    "df2.head()"
   ]
  },
  {
   "cell_type": "markdown",
   "id": "06e1cbd9",
   "metadata": {},
   "source": [
    "# Predicción Iterativa  "
   ]
  },
  {
   "cell_type": "markdown",
   "id": "b4f9ee0b",
   "metadata": {},
   "source": [
    "## Iteración 1 zona"
   ]
  },
  {
   "cell_type": "code",
   "execution_count": 85,
   "id": "4e40c4b8",
   "metadata": {
    "scrolled": true
   },
   "outputs": [
    {
     "name": "stdout",
     "output_type": "stream",
     "text": [
      "Antofagasta"
     ]
    },
    {
     "name": "stderr",
     "output_type": "stream",
     "text": [
      "INFO:fbprophet:Disabling daily seasonality. Run prophet with daily_seasonality=True to override this.\n"
     ]
    },
    {
     "name": "stdout",
     "output_type": "stream",
     "text": [
      " 1020253\n"
     ]
    },
    {
     "name": "stderr",
     "output_type": "stream",
     "text": [
      "INFO:fbprophet:Disabling daily seasonality. Run prophet with daily_seasonality=True to override this.\n"
     ]
    },
    {
     "name": "stdout",
     "output_type": "stream",
     "text": [
      "El producto demoró 1.5248103141784668 Norte Antofagasta\n",
      "tiempo que lleva corriendo 0.02821591297785441 Min\n",
      "Antofagasta 1020027\n"
     ]
    },
    {
     "name": "stderr",
     "output_type": "stream",
     "text": [
      "INFO:fbprophet:Disabling daily seasonality. Run prophet with daily_seasonality=True to override this.\n"
     ]
    },
    {
     "name": "stdout",
     "output_type": "stream",
     "text": [
      "El producto demoró 1.617389440536499 Norte Antofagasta\n",
      "tiempo que lleva corriendo 0.055180736382802326 Min\n",
      "Antofagasta 1020013\n"
     ]
    },
    {
     "name": "stderr",
     "output_type": "stream",
     "text": [
      "INFO:fbprophet:Disabling daily seasonality. Run prophet with daily_seasonality=True to override this.\n"
     ]
    },
    {
     "name": "stdout",
     "output_type": "stream",
     "text": [
      "El producto demoró 1.556837797164917 Norte Antofagasta\n",
      "tiempo que lleva corriendo 0.08113637367884317 Min\n",
      "Antofagasta 1020010\n"
     ]
    },
    {
     "name": "stderr",
     "output_type": "stream",
     "text": [
      "INFO:fbprophet:Disabling daily seasonality. Run prophet with daily_seasonality=True to override this.\n"
     ]
    },
    {
     "name": "stdout",
     "output_type": "stream",
     "text": [
      "El producto demoró 1.8741097450256348 Norte Antofagasta\n",
      "tiempo que lleva corriendo 0.11238822539647421 Min\n",
      "Antofagasta 1020003\n"
     ]
    },
    {
     "name": "stderr",
     "output_type": "stream",
     "text": [
      "INFO:fbprophet:Disabling daily seasonality. Run prophet with daily_seasonality=True to override this.\n"
     ]
    },
    {
     "name": "stdout",
     "output_type": "stream",
     "text": [
      "El producto demoró 1.6644291877746582 Norte Antofagasta\n",
      "tiempo que lleva corriendo 0.14013704856236775 Min\n",
      "Antofagasta 1020001\n"
     ]
    },
    {
     "name": "stderr",
     "output_type": "stream",
     "text": [
      "INFO:fbprophet:Disabling daily seasonality. Run prophet with daily_seasonality=True to override this.\n"
     ]
    },
    {
     "name": "stdout",
     "output_type": "stream",
     "text": [
      "El producto demoró 1.5213077068328857 Norte Antofagasta\n",
      "tiempo que lleva corriendo 0.16549217700958252 Min\n",
      "Antofagasta 1010695\n"
     ]
    },
    {
     "name": "stderr",
     "output_type": "stream",
     "text": [
      "INFO:fbprophet:Disabling daily seasonality. Run prophet with daily_seasonality=True to override this.\n"
     ]
    },
    {
     "name": "stdout",
     "output_type": "stream",
     "text": [
      "El producto demoró 1.4752671718597412 Norte Antofagasta\n",
      "tiempo que lleva corriendo 0.19009663263956705 Min\n",
      "Antofagasta 1010267\n"
     ]
    },
    {
     "name": "stderr",
     "output_type": "stream",
     "text": [
      "INFO:fbprophet:Disabling daily seasonality. Run prophet with daily_seasonality=True to override this.\n"
     ]
    },
    {
     "name": "stdout",
     "output_type": "stream",
     "text": [
      "El producto demoró 1.6324021816253662 Norte Antofagasta\n",
      "tiempo que lleva corriendo 0.21732001701990764 Min\n",
      "Antofagasta 1010078\n"
     ]
    },
    {
     "name": "stderr",
     "output_type": "stream",
     "text": [
      "INFO:fbprophet:Disabling daily seasonality. Run prophet with daily_seasonality=True to override this.\n"
     ]
    },
    {
     "name": "stdout",
     "output_type": "stream",
     "text": [
      "El producto demoró 1.4817719459533691 Norte Antofagasta\n",
      "tiempo que lleva corriendo 0.2420329173405965 Min\n",
      "Antofagasta 1010077\n"
     ]
    },
    {
     "name": "stderr",
     "output_type": "stream",
     "text": [
      "INFO:fbprophet:Disabling daily seasonality. Run prophet with daily_seasonality=True to override this.\n"
     ]
    },
    {
     "name": "stdout",
     "output_type": "stream",
     "text": [
      "El producto demoró 1.601876974105835 Norte Antofagasta\n",
      "tiempo que lleva corriendo 0.26875588099161785 Min\n",
      "Antofagasta 1010048\n"
     ]
    },
    {
     "name": "stderr",
     "output_type": "stream",
     "text": [
      "INFO:fbprophet:Disabling daily seasonality. Run prophet with daily_seasonality=True to override this.\n"
     ]
    },
    {
     "name": "stdout",
     "output_type": "stream",
     "text": [
      "El producto demoró 2.052263021469116 Norte Antofagasta\n",
      "tiempo que lleva corriendo 0.30297693411509197 Min\n",
      "Antofagasta 1010002\n"
     ]
    },
    {
     "name": "stderr",
     "output_type": "stream",
     "text": [
      "INFO:fbprophet:Disabling daily seasonality. Run prophet with daily_seasonality=True to override this.\n"
     ]
    },
    {
     "name": "stdout",
     "output_type": "stream",
     "text": [
      "El producto demoró 2.128328323364258 Norte Antofagasta\n",
      "tiempo que lleva corriendo 0.33845741748809816 Min\n",
      "Arica 1020253\n"
     ]
    },
    {
     "name": "stderr",
     "output_type": "stream",
     "text": [
      "INFO:fbprophet:Disabling daily seasonality. Run prophet with daily_seasonality=True to override this.\n"
     ]
    },
    {
     "name": "stdout",
     "output_type": "stream",
     "text": [
      "El producto demoró 1.483273983001709 Norte Arica\n",
      "tiempo que lleva corriendo 0.3634121855099996 Min\n",
      "Arica 1020027\n"
     ]
    },
    {
     "name": "stderr",
     "output_type": "stream",
     "text": [
      "INFO:fbprophet:Disabling daily seasonality. Run prophet with daily_seasonality=True to override this.\n"
     ]
    },
    {
     "name": "stdout",
     "output_type": "stream",
     "text": [
      "El producto demoró 1.8065521717071533 Norte Arica\n",
      "tiempo que lleva corriendo 0.3935547391573588 Min\n",
      "Arica 1020013\n"
     ]
    },
    {
     "name": "stderr",
     "output_type": "stream",
     "text": [
      "INFO:fbprophet:Disabling daily seasonality. Run prophet with daily_seasonality=True to override this.\n"
     ]
    },
    {
     "name": "stdout",
     "output_type": "stream",
     "text": [
      "El producto demoró 1.547330379486084 Norte Arica\n",
      "tiempo que lleva corriendo 0.419368580977122 Min\n",
      "Arica 1020010\n"
     ]
    },
    {
     "name": "stderr",
     "output_type": "stream",
     "text": [
      "INFO:fbprophet:Disabling daily seasonality. Run prophet with daily_seasonality=True to override this.\n"
     ]
    },
    {
     "name": "stdout",
     "output_type": "stream",
     "text": [
      "El producto demoró 1.6619281768798828 Norte Arica\n",
      "tiempo que lleva corriendo 0.4470840573310852 Min\n",
      "Arica 1020001\n"
     ]
    },
    {
     "name": "stderr",
     "output_type": "stream",
     "text": [
      "INFO:fbprophet:Disabling daily seasonality. Run prophet with daily_seasonality=True to override this.\n"
     ]
    },
    {
     "name": "stdout",
     "output_type": "stream",
     "text": [
      "El producto demoró 1.5092966556549072 Norte Arica\n",
      "tiempo que lleva corriendo 0.472264023621877 Min\n",
      "Arica 1010695\n",
      "El producto demoró 0.006005048751831055 Norte Arica\n",
      "tiempo que lleva corriendo 0.47237244844436643 Min\n",
      "Arica 1010267\n"
     ]
    },
    {
     "name": "stderr",
     "output_type": "stream",
     "text": [
      "INFO:fbprophet:Disabling daily seasonality. Run prophet with daily_seasonality=True to override this.\n"
     ]
    },
    {
     "name": "stdout",
     "output_type": "stream",
     "text": [
      "El producto demoró 1.4932832717895508 Norte Arica\n",
      "tiempo que lleva corriendo 0.49727718432744344 Min\n",
      "Arica 1010078\n"
     ]
    },
    {
     "name": "stderr",
     "output_type": "stream",
     "text": [
      "INFO:fbprophet:Disabling daily seasonality. Run prophet with daily_seasonality=True to override this.\n"
     ]
    },
    {
     "name": "stdout",
     "output_type": "stream",
     "text": [
      "El producto demoró 1.95768141746521 Norte Arica\n",
      "tiempo que lleva corriendo 0.5299135446548462 Min\n",
      "Arica 1010077\n"
     ]
    },
    {
     "name": "stderr",
     "output_type": "stream",
     "text": [
      "INFO:fbprophet:Disabling daily seasonality. Run prophet with daily_seasonality=True to override this.\n"
     ]
    },
    {
     "name": "stdout",
     "output_type": "stream",
     "text": [
      "El producto demoró 1.5318162441253662 Norte Arica\n",
      "tiempo que lleva corriendo 0.5554521560668946 Min\n",
      "Arica 1010048\n"
     ]
    },
    {
     "name": "stderr",
     "output_type": "stream",
     "text": [
      "INFO:fbprophet:Disabling daily seasonality. Run prophet with daily_seasonality=True to override this.\n"
     ]
    },
    {
     "name": "stdout",
     "output_type": "stream",
     "text": [
      "El producto demoró 2.7698795795440674 Norte Arica\n",
      "tiempo que lleva corriendo 0.6016334851582845 Min\n",
      "Arica 1010002\n"
     ]
    },
    {
     "name": "stderr",
     "output_type": "stream",
     "text": [
      "INFO:fbprophet:Disabling daily seasonality. Run prophet with daily_seasonality=True to override this.\n"
     ]
    },
    {
     "name": "stdout",
     "output_type": "stream",
     "text": [
      "El producto demoró 1.933661699295044 Norte Arica\n",
      "tiempo que lleva corriendo 0.6338778495788574 Min\n",
      "Arica 1020042\n",
      "El producto demoró 0.00550532341003418 Norte Arica\n",
      "tiempo que lleva corriendo 0.6339862783749898 Min\n",
      "Arica 1020003\n"
     ]
    },
    {
     "name": "stderr",
     "output_type": "stream",
     "text": [
      "INFO:fbprophet:Disabling daily seasonality. Run prophet with daily_seasonality=True to override this.\n"
     ]
    },
    {
     "name": "stdout",
     "output_type": "stream",
     "text": [
      "El producto demoró 1.5483300685882568 Norte Arica\n",
      "tiempo que lleva corriendo 0.6598084568977356 Min\n",
      "Calama 1020253\n"
     ]
    },
    {
     "name": "stderr",
     "output_type": "stream",
     "text": [
      "INFO:fbprophet:Disabling daily seasonality. Run prophet with daily_seasonality=True to override this.\n"
     ]
    },
    {
     "name": "stdout",
     "output_type": "stream",
     "text": [
      "El producto demoró 1.5438263416290283 Norte Calama\n",
      "tiempo que lleva corriendo 0.685772438844045 Min\n",
      "Calama 1020027\n"
     ]
    },
    {
     "name": "stderr",
     "output_type": "stream",
     "text": [
      "INFO:fbprophet:Disabling daily seasonality. Run prophet with daily_seasonality=True to override this.\n"
     ]
    },
    {
     "name": "stdout",
     "output_type": "stream",
     "text": [
      "El producto demoró 3.512516975402832 Norte Calama\n",
      "tiempo que lleva corriendo 0.7443310697873433 Min\n",
      "Calama 1020013\n"
     ]
    },
    {
     "name": "stderr",
     "output_type": "stream",
     "text": [
      "INFO:fbprophet:Disabling daily seasonality. Run prophet with daily_seasonality=True to override this.\n"
     ]
    },
    {
     "name": "stdout",
     "output_type": "stream",
     "text": [
      "El producto demoró 1.529313564300537 Norte Calama\n",
      "tiempo que lleva corriendo 0.7698279698689778 Min\n",
      "Calama 1020010\n"
     ]
    },
    {
     "name": "stderr",
     "output_type": "stream",
     "text": [
      "INFO:fbprophet:Disabling daily seasonality. Run prophet with daily_seasonality=True to override this.\n"
     ]
    },
    {
     "name": "stdout",
     "output_type": "stream",
     "text": [
      "El producto demoró 1.7379932403564453 Norte Calama\n",
      "tiempo que lleva corriendo 0.7988112012545268 Min\n",
      "Calama 1020003\n"
     ]
    },
    {
     "name": "stderr",
     "output_type": "stream",
     "text": [
      "INFO:fbprophet:Disabling daily seasonality. Run prophet with daily_seasonality=True to override this.\n"
     ]
    },
    {
     "name": "stdout",
     "output_type": "stream",
     "text": [
      "El producto demoró 1.5208070278167725 Norte Calama\n",
      "tiempo que lleva corriendo 0.8241830031077068 Min\n",
      "Calama 1020001\n"
     ]
    },
    {
     "name": "stderr",
     "output_type": "stream",
     "text": [
      "INFO:fbprophet:Disabling daily seasonality. Run prophet with daily_seasonality=True to override this.\n"
     ]
    },
    {
     "name": "stdout",
     "output_type": "stream",
     "text": [
      "El producto demoró 1.5653445720672607 Norte Calama\n",
      "tiempo que lleva corriendo 0.8502970933914185 Min\n",
      "Calama 1010695\n",
      "El producto demoró 0.007005929946899414 Norte Calama\n",
      "tiempo que lleva corriendo 0.850422199567159 Min\n",
      "Calama 1010267\n"
     ]
    },
    {
     "name": "stderr",
     "output_type": "stream",
     "text": [
      "INFO:fbprophet:Disabling daily seasonality. Run prophet with daily_seasonality=True to override this.\n"
     ]
    },
    {
     "name": "stdout",
     "output_type": "stream",
     "text": [
      "El producto demoró 1.6098830699920654 Norte Calama\n",
      "tiempo que lleva corriendo 0.8772619247436524 Min\n",
      "Calama 1010078\n"
     ]
    },
    {
     "name": "stderr",
     "output_type": "stream",
     "text": [
      "INFO:fbprophet:Disabling daily seasonality. Run prophet with daily_seasonality=True to override this.\n"
     ]
    },
    {
     "name": "stdout",
     "output_type": "stream",
     "text": [
      "El producto demoró 1.7239813804626465 Norte Calama\n",
      "tiempo que lleva corriendo 0.9060199618339538 Min\n",
      "Calama 1010077\n"
     ]
    },
    {
     "name": "stderr",
     "output_type": "stream",
     "text": [
      "INFO:fbprophet:Disabling daily seasonality. Run prophet with daily_seasonality=True to override this.\n"
     ]
    },
    {
     "name": "stdout",
     "output_type": "stream",
     "text": [
      "El producto demoró 1.5183029174804688 Norte Calama\n",
      "tiempo que lleva corriendo 0.9313417077064514 Min\n",
      "Calama 1010048\n"
     ]
    },
    {
     "name": "stderr",
     "output_type": "stream",
     "text": [
      "INFO:fbprophet:Disabling daily seasonality. Run prophet with daily_seasonality=True to override this.\n"
     ]
    },
    {
     "name": "stdout",
     "output_type": "stream",
     "text": [
      "El producto demoró 1.4752678871154785 Norte Calama\n",
      "tiempo que lleva corriendo 0.9559461951255799 Min\n",
      "Calama 1010002\n"
     ]
    },
    {
     "name": "stderr",
     "output_type": "stream",
     "text": [
      "INFO:fbprophet:Disabling daily seasonality. Run prophet with daily_seasonality=True to override this.\n"
     ]
    },
    {
     "name": "stdout",
     "output_type": "stream",
     "text": [
      "El producto demoró 1.7980437278747559 Norte Calama\n",
      "tiempo que lleva corriendo 0.9859219272931417 Min\n",
      "Iquique 1020253\n"
     ]
    },
    {
     "name": "stderr",
     "output_type": "stream",
     "text": [
      "INFO:fbprophet:Disabling daily seasonality. Run prophet with daily_seasonality=True to override this.\n"
     ]
    },
    {
     "name": "stdout",
     "output_type": "stream",
     "text": [
      "El producto demoró 1.4117121696472168 Norte Iquique\n",
      "tiempo que lleva corriendo 1.0096840063730876 Min\n",
      "Iquique 1020027\n"
     ]
    },
    {
     "name": "stderr",
     "output_type": "stream",
     "text": [
      "INFO:fbprophet:Disabling daily seasonality. Run prophet with daily_seasonality=True to override this.\n"
     ]
    },
    {
     "name": "stdout",
     "output_type": "stream",
     "text": [
      "El producto demoró 1.7560088634490967 Norte Iquique\n",
      "tiempo que lleva corriendo 1.0389591614405314 Min\n",
      "Iquique 1020013\n"
     ]
    },
    {
     "name": "stderr",
     "output_type": "stream",
     "text": [
      "INFO:fbprophet:Disabling daily seasonality. Run prophet with daily_seasonality=True to override this.\n"
     ]
    },
    {
     "name": "stdout",
     "output_type": "stream",
     "text": [
      "El producto demoró 1.6794428825378418 Norte Iquique\n",
      "tiempo que lleva corriendo 1.066958208878835 Min\n",
      "Iquique 1020010\n"
     ]
    },
    {
     "name": "stderr",
     "output_type": "stream",
     "text": [
      "INFO:fbprophet:Disabling daily seasonality. Run prophet with daily_seasonality=True to override this.\n"
     ]
    },
    {
     "name": "stdout",
     "output_type": "stream",
     "text": [
      "El producto demoró 1.6484160423278809 Norte Iquique\n",
      "tiempo que lleva corriendo 1.0944401582082113 Min\n",
      "Iquique 1020003\n"
     ]
    },
    {
     "name": "stderr",
     "output_type": "stream",
     "text": [
      "INFO:fbprophet:Disabling daily seasonality. Run prophet with daily_seasonality=True to override this.\n"
     ]
    },
    {
     "name": "stdout",
     "output_type": "stream",
     "text": [
      "El producto demoró 1.5168027877807617 Norte Iquique\n",
      "tiempo que lleva corriendo 1.119736878077189 Min\n",
      "Iquique 1020001\n"
     ]
    },
    {
     "name": "stderr",
     "output_type": "stream",
     "text": [
      "INFO:fbprophet:Disabling daily seasonality. Run prophet with daily_seasonality=True to override this.\n"
     ]
    },
    {
     "name": "stdout",
     "output_type": "stream",
     "text": [
      "El producto demoró 1.5338184833526611 Norte Iquique\n",
      "tiempo que lleva corriendo 1.1453088482220968 Min\n",
      "Iquique 1010695\n"
     ]
    },
    {
     "name": "stderr",
     "output_type": "stream",
     "text": [
      "INFO:fbprophet:Disabling daily seasonality. Run prophet with daily_seasonality=True to override this.\n"
     ]
    },
    {
     "name": "stdout",
     "output_type": "stream",
     "text": [
      "El producto demoró 1.5358195304870605 Norte Iquique\n",
      "tiempo que lleva corriendo 1.1709141770998637 Min\n",
      "Iquique 1010267\n"
     ]
    },
    {
     "name": "stderr",
     "output_type": "stream",
     "text": [
      "INFO:fbprophet:Disabling daily seasonality. Run prophet with daily_seasonality=True to override this.\n"
     ]
    },
    {
     "name": "stdout",
     "output_type": "stream",
     "text": [
      "El producto demoró 1.5703492164611816 Norte Iquique\n",
      "tiempo que lleva corriendo 1.197095012664795 Min\n",
      "Iquique 1010078\n"
     ]
    },
    {
     "name": "stderr",
     "output_type": "stream",
     "text": [
      "INFO:fbprophet:Disabling daily seasonality. Run prophet with daily_seasonality=True to override this.\n"
     ]
    },
    {
     "name": "stdout",
     "output_type": "stream",
     "text": [
      "El producto demoró 1.5143017768859863 Norte Iquique\n",
      "tiempo que lleva corriendo 1.2223583658536274 Min\n",
      "Iquique 1010077\n"
     ]
    },
    {
     "name": "stderr",
     "output_type": "stream",
     "text": [
      "INFO:fbprophet:Disabling daily seasonality. Run prophet with daily_seasonality=True to override this.\n"
     ]
    },
    {
     "name": "stdout",
     "output_type": "stream",
     "text": [
      "El producto demoró 1.5778558254241943 Norte Iquique\n",
      "tiempo que lleva corriendo 1.248672644297282 Min\n",
      "Iquique 1010048\n"
     ]
    },
    {
     "name": "stderr",
     "output_type": "stream",
     "text": [
      "INFO:fbprophet:Disabling daily seasonality. Run prophet with daily_seasonality=True to override this.\n"
     ]
    },
    {
     "name": "stdout",
     "output_type": "stream",
     "text": [
      "El producto demoró 3.1502065658569336 Norte Iquique\n",
      "tiempo que lleva corriendo 1.3011927644411723 Min\n",
      "Iquique 1010002\n"
     ]
    },
    {
     "name": "stderr",
     "output_type": "stream",
     "text": [
      "INFO:fbprophet:Disabling daily seasonality. Run prophet with daily_seasonality=True to override this.\n"
     ]
    },
    {
     "name": "stdout",
     "output_type": "stream",
     "text": [
      "El producto demoró 1.5898659229278564 Norte Iquique\n",
      "tiempo que lleva corriendo 1.3277155439058939 Min\n",
      "Copiapo 1020253\n"
     ]
    },
    {
     "name": "stderr",
     "output_type": "stream",
     "text": [
      "INFO:fbprophet:Disabling daily seasonality. Run prophet with daily_seasonality=True to override this.\n"
     ]
    },
    {
     "name": "stdout",
     "output_type": "stream",
     "text": [
      "El producto demoró 1.5358192920684814 Norte Copiapo\n",
      "tiempo que lleva corriendo 1.3535460631052654 Min\n",
      "Copiapo 1020027\n"
     ]
    },
    {
     "name": "stderr",
     "output_type": "stream",
     "text": [
      "INFO:fbprophet:Disabling daily seasonality. Run prophet with daily_seasonality=True to override this.\n"
     ]
    },
    {
     "name": "stdout",
     "output_type": "stream",
     "text": [
      "El producto demoró 1.6679329872131348 Norte Copiapo\n",
      "tiempo que lleva corriendo 1.3813699722290038 Min\n",
      "Copiapo 1020013\n"
     ]
    },
    {
     "name": "stderr",
     "output_type": "stream",
     "text": [
      "INFO:fbprophet:Disabling daily seasonality. Run prophet with daily_seasonality=True to override this.\n"
     ]
    },
    {
     "name": "stdout",
     "output_type": "stream",
     "text": [
      "El producto demoró 1.6178908348083496 Norte Copiapo\n",
      "tiempo que lleva corriendo 1.40835147301356 Min\n",
      "Copiapo 1020010\n"
     ]
    },
    {
     "name": "stderr",
     "output_type": "stream",
     "text": [
      "INFO:fbprophet:Disabling daily seasonality. Run prophet with daily_seasonality=True to override this.\n"
     ]
    },
    {
     "name": "stdout",
     "output_type": "stream",
     "text": [
      "El producto demoró 1.9631872177124023 Norte Copiapo\n",
      "tiempo que lleva corriendo 1.44107958873113 Min\n",
      "Copiapo 1020003\n"
     ]
    },
    {
     "name": "stderr",
     "output_type": "stream",
     "text": [
      "INFO:fbprophet:Disabling daily seasonality. Run prophet with daily_seasonality=True to override this.\n"
     ]
    },
    {
     "name": "stdout",
     "output_type": "stream",
     "text": [
      "El producto demoró 1.507795810699463 Norte Copiapo\n",
      "tiempo que lleva corriendo 1.466217847665151 Min\n",
      "Copiapo 1020001\n"
     ]
    },
    {
     "name": "stderr",
     "output_type": "stream",
     "text": [
      "INFO:fbprophet:Disabling daily seasonality. Run prophet with daily_seasonality=True to override this.\n"
     ]
    },
    {
     "name": "stdout",
     "output_type": "stream",
     "text": [
      "El producto demoró 1.590867519378662 Norte Copiapo\n",
      "tiempo que lleva corriendo 1.4927573204040527 Min\n",
      "Copiapo 1010695\n"
     ]
    },
    {
     "name": "stderr",
     "output_type": "stream",
     "text": [
      "INFO:fbprophet:Disabling daily seasonality. Run prophet with daily_seasonality=True to override this.\n"
     ]
    },
    {
     "name": "stdout",
     "output_type": "stream",
     "text": [
      "El producto demoró 1.5908668041229248 Norte Copiapo\n",
      "tiempo que lleva corriendo 1.5192801038424173 Min\n",
      "Copiapo 1010267\n"
     ]
    },
    {
     "name": "stderr",
     "output_type": "stream",
     "text": [
      "INFO:fbprophet:Disabling daily seasonality. Run prophet with daily_seasonality=True to override this.\n"
     ]
    },
    {
     "name": "stdout",
     "output_type": "stream",
     "text": [
      "El producto demoró 1.622394323348999 Norte Copiapo\n",
      "tiempo que lleva corriendo 1.5463366746902465 Min\n",
      "Copiapo 1010078\n"
     ]
    },
    {
     "name": "stderr",
     "output_type": "stream",
     "text": [
      "INFO:fbprophet:Disabling daily seasonality. Run prophet with daily_seasonality=True to override this.\n"
     ]
    },
    {
     "name": "stdout",
     "output_type": "stream",
     "text": [
      "El producto demoró 1.6749389171600342 Norte Copiapo\n",
      "tiempo que lleva corriendo 1.5742773493131001 Min\n",
      "Copiapo 1010077\n"
     ]
    },
    {
     "name": "stderr",
     "output_type": "stream",
     "text": [
      "INFO:fbprophet:Disabling daily seasonality. Run prophet with daily_seasonality=True to override this.\n"
     ]
    },
    {
     "name": "stdout",
     "output_type": "stream",
     "text": [
      "El producto demoró 1.7159740924835205 Norte Copiapo\n",
      "tiempo que lleva corriendo 1.6029019395510355 Min\n",
      "Copiapo 1010048\n"
     ]
    },
    {
     "name": "stderr",
     "output_type": "stream",
     "text": [
      "INFO:fbprophet:Disabling daily seasonality. Run prophet with daily_seasonality=True to override this.\n"
     ]
    },
    {
     "name": "stdout",
     "output_type": "stream",
     "text": [
      "El producto demoró 2.0197346210479736 Norte Copiapo\n",
      "tiempo que lleva corriendo 1.636572527885437 Min\n",
      "Copiapo 1010002\n",
      "El producto demoró 1.7980444431304932 Norte Copiapo\n",
      "tiempo que lleva corriendo 1.6665566205978393 Min\n",
      "tiempo bloque completo 1.6665649573008219 Min\n"
     ]
    },
    {
     "data": {
      "text/html": [
       "<div>\n",
       "<style scoped>\n",
       "    .dataframe tbody tr th:only-of-type {\n",
       "        vertical-align: middle;\n",
       "    }\n",
       "\n",
       "    .dataframe tbody tr th {\n",
       "        vertical-align: top;\n",
       "    }\n",
       "\n",
       "    .dataframe thead th {\n",
       "        text-align: right;\n",
       "    }\n",
       "</style>\n",
       "<table border=\"1\" class=\"dataframe\">\n",
       "  <thead>\n",
       "    <tr style=\"text-align: right;\">\n",
       "      <th></th>\n",
       "      <th>ds</th>\n",
       "      <th>yhat_lower</th>\n",
       "      <th>yhat_upper</th>\n",
       "      <th>yhat</th>\n",
       "      <th>Material</th>\n",
       "      <th>Oficina de Ventas Unifica</th>\n",
       "      <th>Zona de ventas.1</th>\n",
       "    </tr>\n",
       "  </thead>\n",
       "  <tbody>\n",
       "    <tr>\n",
       "      <th>0</th>\n",
       "      <td>2021-06-20</td>\n",
       "      <td>-223.547105</td>\n",
       "      <td>325.706314</td>\n",
       "      <td>61.315413</td>\n",
       "      <td>1020253</td>\n",
       "      <td>Antofagasta</td>\n",
       "      <td>Norte</td>\n",
       "    </tr>\n",
       "    <tr>\n",
       "      <th>1</th>\n",
       "      <td>2021-06-21</td>\n",
       "      <td>-180.219750</td>\n",
       "      <td>361.457337</td>\n",
       "      <td>84.017201</td>\n",
       "      <td>1020253</td>\n",
       "      <td>Antofagasta</td>\n",
       "      <td>Norte</td>\n",
       "    </tr>\n",
       "    <tr>\n",
       "      <th>2</th>\n",
       "      <td>2021-06-22</td>\n",
       "      <td>-195.564021</td>\n",
       "      <td>341.301836</td>\n",
       "      <td>76.981779</td>\n",
       "      <td>1020253</td>\n",
       "      <td>Antofagasta</td>\n",
       "      <td>Norte</td>\n",
       "    </tr>\n",
       "    <tr>\n",
       "      <th>3</th>\n",
       "      <td>2021-06-23</td>\n",
       "      <td>-155.341500</td>\n",
       "      <td>361.770156</td>\n",
       "      <td>97.557658</td>\n",
       "      <td>1020253</td>\n",
       "      <td>Antofagasta</td>\n",
       "      <td>Norte</td>\n",
       "    </tr>\n",
       "    <tr>\n",
       "      <th>4</th>\n",
       "      <td>2021-06-24</td>\n",
       "      <td>-126.709877</td>\n",
       "      <td>417.640461</td>\n",
       "      <td>139.475801</td>\n",
       "      <td>1020253</td>\n",
       "      <td>Antofagasta</td>\n",
       "      <td>Norte</td>\n",
       "    </tr>\n",
       "  </tbody>\n",
       "</table>\n",
       "</div>"
      ],
      "text/plain": [
       "          ds  yhat_lower  yhat_upper        yhat Material  \\\n",
       "0 2021-06-20 -223.547105  325.706314   61.315413  1020253   \n",
       "1 2021-06-21 -180.219750  361.457337   84.017201  1020253   \n",
       "2 2021-06-22 -195.564021  341.301836   76.981779  1020253   \n",
       "3 2021-06-23 -155.341500  361.770156   97.557658  1020253   \n",
       "4 2021-06-24 -126.709877  417.640461  139.475801  1020253   \n",
       "\n",
       "  Oficina de Ventas Unifica Zona de ventas.1  \n",
       "0               Antofagasta            Norte  \n",
       "1               Antofagasta            Norte  \n",
       "2               Antofagasta            Norte  \n",
       "3               Antofagasta            Norte  \n",
       "4               Antofagasta            Norte  "
      ]
     },
     "execution_count": 85,
     "metadata": {},
     "output_type": "execute_result"
    }
   ],
   "source": [
    "df2 = pd.DataFrame(columns=['ds', 'yhat_lower', 'yhat_upper', 'yhat', 'Material','Oficina de Ventas Unifica', 'Zona de ventas.1'])\n",
    "\n",
    "\n",
    "\n",
    "Listado_de_zonas=data['Zona de ventas.1'].unique\n",
    "\n",
    "start_time = time()\n",
    "\n",
    "\n",
    "\n",
    "#for Z in Listado_de_zonas:\n",
    "Z='Norte'\n",
    "\n",
    "dfz=Df_ubic(data,'Zona de ventas.1',Z)\n",
    "\n",
    "Listado_de_Sucursales=dfz[dfz['Día natural'] >datetime.date(2021, 6, 2)]['Oficina de Ventas Unifica'].unique()\n",
    "\n",
    "for y in Listado_de_Sucursales:\n",
    "    #y='Huechuraba'\n",
    "    dfy=Df_ubic(dfz,'Oficina de Ventas Unifica',y)\n",
    "\n",
    "\n",
    "    Listado_de_Materiales=dfy[dfy['Día natural'] >datetime.date(2021, 6, 2)]['Material'].unique()\n",
    "\n",
    "    for m in Listado_de_Materiales:\n",
    "        #m=Listado_de_Materiales[0]\n",
    "        material_time=time()\n",
    "        print(y,m)\n",
    "        \n",
    "\n",
    "        dfm=Df_ubic(dfy,'Material',m).groupby('Día natural').sum().reset_index()[['Día natural',y_col]]\n",
    "        if(dfm[\n",
    "                    dfm['Día natural']>datetime.date(2021, 1, 2)\n",
    "                        ].shape[0] >20):\n",
    "            \n",
    "            dfmPred=Predict_sem(dfm,14)[['ds', 'yhat_lower', 'yhat_upper', 'yhat']].tail(14)\n",
    "            dfmPred['Material']=[m for i in range(dfmPred.shape[0])]\n",
    "            dfmPred['Oficina de Ventas Unifica']=[y for i in range(dfmPred.shape[0])]\n",
    "            dfmPred['Zona de ventas.1']=[Z for i in range(dfmPred.shape[0])]\n",
    "            dfmPred=dfmPred.reset_index()\n",
    "            dfmPred.pop('index')\n",
    "            df2=pd.concat([df2, dfmPred])\n",
    "\n",
    "        print('El producto demoró',(time() - material_time),Z,y)\n",
    "        print('tiempo que lleva corriendo',(time() - start_time)/60,'Min')\n",
    "    \n",
    "print('tiempo bloque completo',(time() - start_time)/60,'Min')\n",
    "df2.head()"
   ]
  },
  {
   "cell_type": "code",
   "execution_count": 86,
   "id": "f39c7bf6",
   "metadata": {},
   "outputs": [],
   "source": [
    "df2.rename(columns = {'ds': 'Día natural', 'yhat': 'Predicción central',\n",
    "                                'yhat_upper': 'Predicción Superior',\n",
    "                                'yhat_lower': 'Predicción Inferior'}, inplace = True)"
   ]
  },
  {
   "cell_type": "markdown",
   "id": "41b062d6",
   "metadata": {},
   "source": [
    "### CSV SAVE "
   ]
  },
  {
   "cell_type": "code",
   "execution_count": 87,
   "id": "ba1ea0c9",
   "metadata": {},
   "outputs": [
    {
     "name": "stdout",
     "output_type": "stream",
     "text": [
      "2021-06-18\n",
      "2021-07-03\n"
     ]
    }
   ],
   "source": [
    "\n",
    "min_time=df2['Día natural'].min()\n",
    "min_time=str(min_time).split(' ')[0]\n",
    "print(min_time)\n",
    "max_time=df2['Día natural'].max()\n",
    "max_time=str(max_time).split(' ')[0]\n",
    "print(max_time)"
   ]
  },
  {
   "cell_type": "code",
   "execution_count": 88,
   "id": "49d3f1d6",
   "metadata": {
    "scrolled": true
   },
   "outputs": [],
   "source": [
    "df3=Limit_fecha(df2,AÑO,MES,DIA_INIC,DIA_FIN)"
   ]
  },
  {
   "cell_type": "code",
   "execution_count": 89,
   "id": "871d29b5",
   "metadata": {},
   "outputs": [
    {
     "name": "stdout",
     "output_type": "stream",
     "text": [
      "2021-06-22\n",
      "2021-06-26\n"
     ]
    }
   ],
   "source": [
    "\n",
    "min_time=df3['Día natural'].min()\n",
    "min_time=str(min_time).split(' ')[0]\n",
    "print(min_time)\n",
    "max_time=df3['Día natural'].max()\n",
    "max_time=str(max_time).split(' ')[0]\n",
    "print(max_time)"
   ]
  },
  {
   "cell_type": "code",
   "execution_count": 90,
   "id": "bf2e148e",
   "metadata": {},
   "outputs": [],
   "source": [
    "#Error_DF_Sum.to_csv('E_interv_Dem.csv', index=False)\n",
    "df3.to_csv('Predicción Zona '+Z+max_time+'.csv', index=False)"
   ]
  },
  {
   "cell_type": "markdown",
   "id": "5e7a0d1b",
   "metadata": {},
   "source": [
    "## Iteración completa Zona, Sucursal"
   ]
  },
  {
   "cell_type": "code",
   "execution_count": null,
   "id": "6a36ffb5",
   "metadata": {
    "scrolled": true
   },
   "outputs": [
    {
     "name": "stdout",
     "output_type": "stream",
     "text": [
      "Santiago\n",
      "Huechuraba\n"
     ]
    },
    {
     "name": "stderr",
     "output_type": "stream",
     "text": [
      "INFO:fbprophet:Disabling daily seasonality. Run prophet with daily_seasonality=True to override this.\n",
      "INFO:fbprophet:Disabling daily seasonality. Run prophet with daily_seasonality=True to override this.\n"
     ]
    },
    {
     "name": "stdout",
     "output_type": "stream",
     "text": [
      "El producto demoró 1.7234809398651123 Santiago Huechuraba\n",
      "tiempo que lleva corriendo 0.031718909740448 Min\n"
     ]
    },
    {
     "name": "stderr",
     "output_type": "stream",
     "text": [
      "INFO:fbprophet:Disabling daily seasonality. Run prophet with daily_seasonality=True to override this.\n"
     ]
    },
    {
     "name": "stdout",
     "output_type": "stream",
     "text": [
      "El producto demoró 1.5353190898895264 Santiago Huechuraba\n",
      "tiempo que lleva corriendo 0.05733258724212646 Min\n"
     ]
    },
    {
     "name": "stderr",
     "output_type": "stream",
     "text": [
      "INFO:fbprophet:Disabling daily seasonality. Run prophet with daily_seasonality=True to override this.\n"
     ]
    },
    {
     "name": "stdout",
     "output_type": "stream",
     "text": [
      "El producto demoró 1.7434978485107422 Santiago Huechuraba\n",
      "tiempo que lleva corriendo 0.08641589482625325 Min\n"
     ]
    },
    {
     "name": "stderr",
     "output_type": "stream",
     "text": [
      "INFO:fbprophet:Disabling daily seasonality. Run prophet with daily_seasonality=True to override this.\n"
     ]
    },
    {
     "name": "stdout",
     "output_type": "stream",
     "text": [
      "El producto demoró 1.7299864292144775 Santiago Huechuraba\n",
      "tiempo que lleva corriendo 0.1152740200360616 Min\n"
     ]
    },
    {
     "name": "stderr",
     "output_type": "stream",
     "text": [
      "INFO:fbprophet:Disabling daily seasonality. Run prophet with daily_seasonality=True to override this.\n"
     ]
    },
    {
     "name": "stdout",
     "output_type": "stream",
     "text": [
      "El producto demoró 1.823066234588623 Santiago Huechuraba\n",
      "tiempo que lleva corriendo 0.14568347533543904 Min\n"
     ]
    },
    {
     "name": "stderr",
     "output_type": "stream",
     "text": [
      "INFO:fbprophet:Disabling daily seasonality. Run prophet with daily_seasonality=True to override this.\n"
     ]
    },
    {
     "name": "stdout",
     "output_type": "stream",
     "text": [
      "El producto demoró 1.651418924331665 Santiago Huechuraba\n",
      "tiempo que lleva corriendo 0.1732237974802653 Min\n"
     ]
    },
    {
     "name": "stderr",
     "output_type": "stream",
     "text": [
      "INFO:fbprophet:Disabling daily seasonality. Run prophet with daily_seasonality=True to override this.\n"
     ]
    },
    {
     "name": "stdout",
     "output_type": "stream",
     "text": [
      "El producto demoró 1.8600983619689941 Santiago Huechuraba\n",
      "tiempo que lleva corriendo 0.20423376957575481 Min\n"
     ]
    },
    {
     "name": "stderr",
     "output_type": "stream",
     "text": [
      "INFO:fbprophet:Disabling daily seasonality. Run prophet with daily_seasonality=True to override this.\n"
     ]
    },
    {
     "name": "stdout",
     "output_type": "stream",
     "text": [
      "El producto demoró 1.747502088546753 Santiago Huechuraba\n",
      "tiempo que lleva corriendo 0.23335880438486736 Min\n"
     ]
    },
    {
     "name": "stderr",
     "output_type": "stream",
     "text": [
      "INFO:fbprophet:Disabling daily seasonality. Run prophet with daily_seasonality=True to override this.\n"
     ]
    },
    {
     "name": "stdout",
     "output_type": "stream",
     "text": [
      "El producto demoró 1.9927113056182861 Santiago Huechuraba\n",
      "tiempo que lleva corriendo 0.2665873368581136 Min\n"
     ]
    },
    {
     "name": "stderr",
     "output_type": "stream",
     "text": [
      "INFO:fbprophet:Disabling daily seasonality. Run prophet with daily_seasonality=True to override this.\n"
     ]
    },
    {
     "name": "stdout",
     "output_type": "stream",
     "text": [
      "El producto demoró 1.7900376319885254 Santiago Huechuraba\n",
      "tiempo que lleva corriendo 0.2964296499888102 Min\n"
     ]
    },
    {
     "name": "stderr",
     "output_type": "stream",
     "text": [
      "INFO:fbprophet:Disabling daily seasonality. Run prophet with daily_seasonality=True to override this.\n"
     ]
    },
    {
     "name": "stdout",
     "output_type": "stream",
     "text": [
      "El producto demoró 1.6424105167388916 Santiago Huechuraba\n",
      "tiempo que lleva corriendo 0.32381983200709025 Min\n"
     ]
    },
    {
     "name": "stderr",
     "output_type": "stream",
     "text": [
      "INFO:fbprophet:Disabling daily seasonality. Run prophet with daily_seasonality=True to override this.\n"
     ]
    },
    {
     "name": "stdout",
     "output_type": "stream",
     "text": [
      "El producto demoró 1.7500033378601074 Santiago Huechuraba\n",
      "tiempo que lleva corriendo 0.35300323565800984 Min\n"
     ]
    },
    {
     "name": "stderr",
     "output_type": "stream",
     "text": [
      "INFO:fbprophet:Disabling daily seasonality. Run prophet with daily_seasonality=True to override this.\n"
     ]
    },
    {
     "name": "stdout",
     "output_type": "stream",
     "text": [
      "El producto demoró 1.6434118747711182 Santiago Huechuraba\n",
      "tiempo que lleva corriendo 0.380410106976827 Min\n",
      "Lo Espejo\n"
     ]
    },
    {
     "name": "stderr",
     "output_type": "stream",
     "text": [
      "INFO:fbprophet:Disabling daily seasonality. Run prophet with daily_seasonality=True to override this.\n"
     ]
    },
    {
     "name": "stdout",
     "output_type": "stream",
     "text": [
      "El producto demoró 1.5523333549499512 Santiago Lo Espejo\n",
      "tiempo que lleva corriendo 0.4065158685048421 Min\n"
     ]
    },
    {
     "name": "stderr",
     "output_type": "stream",
     "text": [
      "INFO:fbprophet:Disabling daily seasonality. Run prophet with daily_seasonality=True to override this.\n"
     ]
    },
    {
     "name": "stdout",
     "output_type": "stream",
     "text": [
      "El producto demoró 1.6123850345611572 Santiago Lo Espejo\n",
      "tiempo que lleva corriendo 0.43340563774108887 Min\n"
     ]
    },
    {
     "name": "stderr",
     "output_type": "stream",
     "text": [
      "INFO:fbprophet:Disabling daily seasonality. Run prophet with daily_seasonality=True to override this.\n"
     ]
    },
    {
     "name": "stdout",
     "output_type": "stream",
     "text": [
      "El producto demoró 1.846086025238037 Santiago Lo Espejo\n",
      "tiempo que lleva corriendo 0.46419876416524253 Min\n"
     ]
    },
    {
     "name": "stderr",
     "output_type": "stream",
     "text": [
      "INFO:fbprophet:Disabling daily seasonality. Run prophet with daily_seasonality=True to override this.\n"
     ]
    },
    {
     "name": "stdout",
     "output_type": "stream",
     "text": [
      "El producto demoró 1.5763537883758545 Santiago Lo Espejo\n",
      "tiempo que lleva corriendo 0.49047966400782267 Min\n"
     ]
    },
    {
     "name": "stderr",
     "output_type": "stream",
     "text": [
      "INFO:fbprophet:Disabling daily seasonality. Run prophet with daily_seasonality=True to override this.\n"
     ]
    },
    {
     "name": "stdout",
     "output_type": "stream",
     "text": [
      "El producto demoró 1.9626860618591309 Santiago Lo Espejo\n",
      "tiempo que lleva corriendo 0.5231994390487671 Min\n"
     ]
    },
    {
     "name": "stderr",
     "output_type": "stream",
     "text": [
      "INFO:fbprophet:Disabling daily seasonality. Run prophet with daily_seasonality=True to override this.\n"
     ]
    },
    {
     "name": "stdout",
     "output_type": "stream",
     "text": [
      "El producto demoró 1.7329885959625244 Santiago Lo Espejo\n",
      "tiempo que lleva corriendo 0.5521076043446859 Min\n"
     ]
    },
    {
     "name": "stderr",
     "output_type": "stream",
     "text": [
      "INFO:fbprophet:Disabling daily seasonality. Run prophet with daily_seasonality=True to override this.\n"
     ]
    },
    {
     "name": "stdout",
     "output_type": "stream",
     "text": [
      "El producto demoró 1.6354055404663086 Santiago Lo Espejo\n",
      "tiempo que lleva corriendo 0.5793810327847798 Min\n"
     ]
    },
    {
     "name": "stderr",
     "output_type": "stream",
     "text": [
      "INFO:fbprophet:Disabling daily seasonality. Run prophet with daily_seasonality=True to override this.\n"
     ]
    },
    {
     "name": "stdout",
     "output_type": "stream",
     "text": [
      "El producto demoró 1.5468294620513916 Santiago Lo Espejo\n",
      "tiempo que lleva corriendo 0.6051781892776489 Min\n"
     ]
    },
    {
     "name": "stderr",
     "output_type": "stream",
     "text": [
      "INFO:fbprophet:Disabling daily seasonality. Run prophet with daily_seasonality=True to override this.\n"
     ]
    },
    {
     "name": "stdout",
     "output_type": "stream",
     "text": [
      "El producto demoró 1.7495038509368896 Santiago Lo Espejo\n",
      "tiempo que lleva corriendo 0.634353252251943 Min\n"
     ]
    },
    {
     "name": "stderr",
     "output_type": "stream",
     "text": [
      "INFO:fbprophet:Disabling daily seasonality. Run prophet with daily_seasonality=True to override this.\n"
     ]
    },
    {
     "name": "stdout",
     "output_type": "stream",
     "text": [
      "El producto demoró 1.942669153213501 Santiago Lo Espejo\n",
      "tiempo que lleva corriendo 0.6667477448781332 Min\n"
     ]
    },
    {
     "name": "stderr",
     "output_type": "stream",
     "text": [
      "INFO:fbprophet:Disabling daily seasonality. Run prophet with daily_seasonality=True to override this.\n"
     ]
    },
    {
     "name": "stdout",
     "output_type": "stream",
     "text": [
      "El producto demoró 1.6038782596588135 Santiago Lo Espejo\n",
      "tiempo que lleva corriendo 0.6935040672620137 Min\n"
     ]
    },
    {
     "name": "stderr",
     "output_type": "stream",
     "text": [
      "INFO:fbprophet:Disabling daily seasonality. Run prophet with daily_seasonality=True to override this.\n"
     ]
    },
    {
     "name": "stdout",
     "output_type": "stream",
     "text": [
      "El producto demoró 1.929657220840454 Santiago Lo Espejo\n",
      "tiempo que lleva corriendo 0.7256984035174052 Min\n"
     ]
    },
    {
     "name": "stderr",
     "output_type": "stream",
     "text": [
      "INFO:fbprophet:Disabling daily seasonality. Run prophet with daily_seasonality=True to override this.\n"
     ]
    },
    {
     "name": "stdout",
     "output_type": "stream",
     "text": [
      "El producto demoró 1.6809439659118652 Santiago Lo Espejo\n",
      "tiempo que lleva corriendo 0.7537391384442648 Min\n",
      "Sucursal Miraflores\n"
     ]
    },
    {
     "name": "stderr",
     "output_type": "stream",
     "text": [
      "INFO:fbprophet:Disabling daily seasonality. Run prophet with daily_seasonality=True to override this.\n"
     ]
    },
    {
     "name": "stdout",
     "output_type": "stream",
     "text": [
      "El producto demoró 1.8280706405639648 Santiago Sucursal Miraflores\n",
      "tiempo que lleva corriendo 0.7844321727752686 Min\n"
     ]
    },
    {
     "name": "stderr",
     "output_type": "stream",
     "text": [
      "INFO:fbprophet:Disabling daily seasonality. Run prophet with daily_seasonality=True to override this.\n"
     ]
    },
    {
     "name": "stdout",
     "output_type": "stream",
     "text": [
      "El producto demoró 1.5498316287994385 Santiago Sucursal Miraflores\n",
      "tiempo que lleva corriendo 0.8102710405985515 Min\n"
     ]
    },
    {
     "name": "stderr",
     "output_type": "stream",
     "text": [
      "INFO:fbprophet:Disabling daily seasonality. Run prophet with daily_seasonality=True to override this.\n"
     ]
    },
    {
     "name": "stdout",
     "output_type": "stream",
     "text": [
      "El producto demoró 1.7189767360687256 Santiago Sucursal Miraflores\n",
      "tiempo que lleva corriendo 0.8389289895693461 Min\n"
     ]
    },
    {
     "name": "stderr",
     "output_type": "stream",
     "text": [
      "INFO:fbprophet:Disabling daily seasonality. Run prophet with daily_seasonality=True to override this.\n"
     ]
    },
    {
     "name": "stdout",
     "output_type": "stream",
     "text": [
      "El producto demoró 1.6554222106933594 Santiago Sucursal Miraflores\n",
      "tiempo que lleva corriendo 0.8665193597475688 Min\n"
     ]
    },
    {
     "name": "stderr",
     "output_type": "stream",
     "text": [
      "INFO:fbprophet:Disabling daily seasonality. Run prophet with daily_seasonality=True to override this.\n"
     ]
    },
    {
     "name": "stdout",
     "output_type": "stream",
     "text": [
      "El producto demoró 1.9226515293121338 Santiago Sucursal Miraflores\n",
      "tiempo que lleva corriendo 0.8985802372296651 Min\n"
     ]
    },
    {
     "name": "stderr",
     "output_type": "stream",
     "text": [
      "INFO:fbprophet:Disabling daily seasonality. Run prophet with daily_seasonality=True to override this.\n"
     ]
    },
    {
     "name": "stdout",
     "output_type": "stream",
     "text": [
      "El producto demoró 1.6509175300598145 Santiago Sucursal Miraflores\n",
      "tiempo que lleva corriendo 0.9261122147242228 Min\n"
     ]
    },
    {
     "name": "stderr",
     "output_type": "stream",
     "text": [
      "INFO:fbprophet:Disabling daily seasonality. Run prophet with daily_seasonality=True to override this.\n"
     ]
    },
    {
     "name": "stdout",
     "output_type": "stream",
     "text": [
      "El producto demoró 1.5273122787475586 Santiago Sucursal Miraflores\n",
      "tiempo que lleva corriendo 0.9515674193700154 Min\n"
     ]
    },
    {
     "name": "stderr",
     "output_type": "stream",
     "text": [
      "INFO:fbprophet:Disabling daily seasonality. Run prophet with daily_seasonality=True to override this.\n"
     ]
    },
    {
     "name": "stdout",
     "output_type": "stream",
     "text": [
      "El producto demoró 1.6654305458068848 Santiago Sucursal Miraflores\n",
      "tiempo que lleva corriendo 0.9793412804603576 Min\n"
     ]
    },
    {
     "name": "stderr",
     "output_type": "stream",
     "text": [
      "INFO:fbprophet:Disabling daily seasonality. Run prophet with daily_seasonality=True to override this.\n"
     ]
    },
    {
     "name": "stdout",
     "output_type": "stream",
     "text": [
      "El producto demoró 1.9451708793640137 Santiago Sucursal Miraflores\n",
      "tiempo que lleva corriendo 1.0117774685223897 Min\n"
     ]
    },
    {
     "name": "stderr",
     "output_type": "stream",
     "text": [
      "INFO:fbprophet:Disabling daily seasonality. Run prophet with daily_seasonality=True to override this.\n"
     ]
    },
    {
     "name": "stdout",
     "output_type": "stream",
     "text": [
      "El producto demoró 1.6233949661254883 Santiago Sucursal Miraflores\n",
      "tiempo que lleva corriendo 1.0388590653737386 Min\n"
     ]
    },
    {
     "name": "stderr",
     "output_type": "stream",
     "text": [
      "INFO:fbprophet:Disabling daily seasonality. Run prophet with daily_seasonality=True to override this.\n"
     ]
    },
    {
     "name": "stdout",
     "output_type": "stream",
     "text": [
      "El producto demoró 1.60237717628479 Santiago Sucursal Miraflores\n",
      "tiempo que lleva corriendo 1.065582021077474 Min\n"
     ]
    },
    {
     "name": "stderr",
     "output_type": "stream",
     "text": [
      "INFO:fbprophet:Disabling daily seasonality. Run prophet with daily_seasonality=True to override this.\n"
     ]
    },
    {
     "name": "stdout",
     "output_type": "stream",
     "text": [
      "El producto demoró 2.0852913856506348 Santiago Sucursal Miraflores\n",
      "tiempo que lleva corriendo 1.1003535628318786 Min\n",
      "El producto demoró 1.7515051364898682 Santiago Sucursal Miraflores\n",
      "tiempo que lleva corriendo 1.1295536398887633 Min\n",
      "Centro Norte\n",
      "Coquimbo\n"
     ]
    },
    {
     "name": "stderr",
     "output_type": "stream",
     "text": [
      "INFO:fbprophet:Disabling daily seasonality. Run prophet with daily_seasonality=True to override this.\n",
      "INFO:fbprophet:Disabling daily seasonality. Run prophet with daily_seasonality=True to override this.\n"
     ]
    },
    {
     "name": "stdout",
     "output_type": "stream",
     "text": [
      "El producto demoró 1.6374073028564453 Centro Norte Coquimbo\n",
      "tiempo que lleva corriendo 1.1596962014834087 Min\n"
     ]
    },
    {
     "name": "stderr",
     "output_type": "stream",
     "text": [
      "INFO:fbprophet:Disabling daily seasonality. Run prophet with daily_seasonality=True to override this.\n"
     ]
    },
    {
     "name": "stdout",
     "output_type": "stream",
     "text": [
      "El producto demoró 1.4517476558685303 Centro Norte Coquimbo\n",
      "tiempo que lleva corriendo 1.1839086691538492 Min\n"
     ]
    },
    {
     "name": "stderr",
     "output_type": "stream",
     "text": [
      "INFO:fbprophet:Disabling daily seasonality. Run prophet with daily_seasonality=True to override this.\n"
     ]
    },
    {
     "name": "stdout",
     "output_type": "stream",
     "text": [
      "El producto demoró 1.6779413223266602 Centro Norte Coquimbo\n",
      "tiempo que lleva corriendo 1.2118993878364563 Min\n"
     ]
    },
    {
     "name": "stderr",
     "output_type": "stream",
     "text": [
      "INFO:fbprophet:Disabling daily seasonality. Run prophet with daily_seasonality=True to override this.\n"
     ]
    },
    {
     "name": "stdout",
     "output_type": "stream",
     "text": [
      "El producto demoró 1.605879306793213 Centro Norte Coquimbo\n",
      "tiempo que lleva corriendo 1.2386807123819987 Min\n"
     ]
    },
    {
     "name": "stderr",
     "output_type": "stream",
     "text": [
      "INFO:fbprophet:Disabling daily seasonality. Run prophet with daily_seasonality=True to override this.\n"
     ]
    },
    {
     "name": "stdout",
     "output_type": "stream",
     "text": [
      "El producto demoró 1.6639299392700195 Centro Norte Coquimbo\n",
      "tiempo que lleva corriendo 1.2664379000663757 Min\n"
     ]
    },
    {
     "name": "stderr",
     "output_type": "stream",
     "text": [
      "INFO:fbprophet:Disabling daily seasonality. Run prophet with daily_seasonality=True to override this.\n"
     ]
    },
    {
     "name": "stdout",
     "output_type": "stream",
     "text": [
      "El producto demoró 1.5563371181488037 Centro Norte Coquimbo\n",
      "tiempo que lleva corriendo 1.2923935214678446 Min\n"
     ]
    },
    {
     "name": "stderr",
     "output_type": "stream",
     "text": [
      "INFO:fbprophet:Disabling daily seasonality. Run prophet with daily_seasonality=True to override this.\n"
     ]
    },
    {
     "name": "stdout",
     "output_type": "stream",
     "text": [
      "El producto demoró 1.7434983253479004 Centro Norte Coquimbo\n",
      "tiempo que lleva corriendo 1.3214768369992573 Min\n"
     ]
    },
    {
     "name": "stderr",
     "output_type": "stream",
     "text": [
      "INFO:fbprophet:Disabling daily seasonality. Run prophet with daily_seasonality=True to override this.\n"
     ]
    },
    {
     "name": "stdout",
     "output_type": "stream",
     "text": [
      "El producto demoró 1.5843617916107178 Centro Norte Coquimbo\n",
      "tiempo que lleva corriendo 1.3479078888893128 Min\n"
     ]
    },
    {
     "name": "stderr",
     "output_type": "stream",
     "text": [
      "INFO:fbprophet:Disabling daily seasonality. Run prophet with daily_seasonality=True to override this.\n"
     ]
    },
    {
     "name": "stdout",
     "output_type": "stream",
     "text": [
      "El producto demoró 1.6364057064056396 Centro Norte Coquimbo\n",
      "tiempo que lleva corriendo 1.3752063274383546 Min\n"
     ]
    },
    {
     "name": "stderr",
     "output_type": "stream",
     "text": [
      "INFO:fbprophet:Disabling daily seasonality. Run prophet with daily_seasonality=True to override this.\n"
     ]
    },
    {
     "name": "stdout",
     "output_type": "stream",
     "text": [
      "El producto demoró 1.7169759273529053 Centro Norte Coquimbo\n",
      "tiempo que lleva corriendo 1.403847603003184 Min\n"
     ]
    }
   ],
   "source": [
    "df2 = pd.DataFrame(columns=['ds', 'yhat_lower', 'yhat_upper', 'yhat', 'Material','Oficina de Ventas Unifica', 'Zona de ventas.1'])\n",
    "\n",
    "Listado_de_zonas=data['Zona de ventas.1'].unique()\n",
    "\n",
    "start_time = time()\n",
    "\n",
    "\n",
    "\n",
    "for Z in Listado_de_zonas:\n",
    "#Z='Santiago'\n",
    "    print(Z)\n",
    "    dfz=Df_ubic(data,'Zona de ventas.1',Z)\n",
    "\n",
    "    Listado_de_Sucursales=dfz[dfz['Día natural'] \n",
    "                              >datetime.date(2021, 6, 2)][\n",
    "        'Oficina de Ventas Unifica'].unique()\n",
    "\n",
    "    for y in Listado_de_Sucursales:\n",
    "        #y='Huechuraba'\n",
    "        print(y)\n",
    "        dfy=Df_ubic(dfz,'Oficina de Ventas Unifica',y)\n",
    "\n",
    "\n",
    "        Listado_de_Materiales=dfy[dfy.Año==2021].Material.unique()\n",
    "\n",
    "        for m in Listado_de_Materiales:\n",
    "            #m=Listado_de_Materiales[0]\n",
    "            material_time=time()\n",
    "            #print(y,m)\n",
    "\n",
    "\n",
    "            dfm=Df_ubic(dfy,\n",
    "                        'Material',m).groupby('Día natural'\n",
    "                                                 ).sum().reset_index()[['Día natural',y_col]]\n",
    "            \n",
    "            if(dfm[\n",
    "                    dfm['Día natural']>datetime.date(2021, 1, 2)\n",
    "                        ].shape[0] >20):\n",
    "                dfmPred=Predict_sem(dfm,14)[['ds', 'yhat_lower',\n",
    "                                            'yhat_upper', 'yhat']].tail(14)\n",
    "\n",
    "                dfmPred['Material']=[m for i in range(dfmPred.shape[0])]\n",
    "                dfmPred['Oficina de Ventas Unifica']=[y for i in range(dfmPred.shape[0])]\n",
    "                dfmPred['Zona de ventas.1']=[Z for i in range(dfmPred.shape[0])]\n",
    "                dfmPred=dfmPred.reset_index()\n",
    "                dfmPred.pop('index')\n",
    "                df2=pd.concat([df2, dfmPred])\n",
    "            print('El producto demoró',(time() - material_time),Z,y)\n",
    "            print('tiempo que lleva corriendo',(time() - start_time)/60, 'Min')\n",
    "    \n",
    "print('tiempo bloque completo',(time() - start_time)/60, 'Min')\n"
   ]
  },
  {
   "cell_type": "code",
   "execution_count": null,
   "id": "a33f0b26",
   "metadata": {},
   "outputs": [],
   "source": [
    "df2.rename(columns = {'ds': 'Día natural', 'yhat': 'Predicción central',\n",
    "                                'yhat_upper': 'Predicción Superior',\n",
    "                                'yhat_lower': 'Predicción Inferior'}, inplace = True)"
   ]
  },
  {
   "cell_type": "code",
   "execution_count": null,
   "id": "36af732c",
   "metadata": {},
   "outputs": [],
   "source": [
    "df2.head()"
   ]
  },
  {
   "cell_type": "markdown",
   "id": "0def2a03",
   "metadata": {},
   "source": [
    "### CSV SAVE "
   ]
  },
  {
   "cell_type": "code",
   "execution_count": null,
   "id": "1600c92f",
   "metadata": {},
   "outputs": [],
   "source": [
    "min_time=df2['Día natural'].min()\n",
    "min_time=str(min_time).split(' ')[0]\n",
    "print(min_time)\n",
    "max_time=df2['Día natural'].max()\n",
    "max_time=str(max_time).split(' ')[0]\n",
    "print(max_time)"
   ]
  },
  {
   "cell_type": "code",
   "execution_count": null,
   "id": "b68ecb66",
   "metadata": {
    "scrolled": true
   },
   "outputs": [],
   "source": [
    "df3=Limit_fecha(df2,AÑO,MES,DIA_INIC,DIA_FIN)"
   ]
  },
  {
   "cell_type": "code",
   "execution_count": null,
   "id": "fb56993d",
   "metadata": {},
   "outputs": [],
   "source": [
    "\n",
    "min_time=df3['Día natural'].min()\n",
    "min_time=str(min_time).split(' ')[0]\n",
    "print(min_time)\n",
    "max_time=df3['Día natural'].max()\n",
    "max_time=str(max_time).split(' ')[0]\n",
    "print(max_time)"
   ]
  },
  {
   "cell_type": "code",
   "execution_count": 45,
   "id": "9123f1dd",
   "metadata": {},
   "outputs": [],
   "source": [
    "df3.to_csv('Data '+min_time+' Predicción CL ' +max_time+ 'Zona, Sucursal.csv', index=False)\n"
   ]
  },
  {
   "cell_type": "markdown",
   "id": "12766862",
   "metadata": {
    "heading_collapsed": true
   },
   "source": [
    "### Exploracion del error "
   ]
  },
  {
   "cell_type": "code",
   "execution_count": 48,
   "id": "29207a15",
   "metadata": {
    "hidden": true
   },
   "outputs": [
    {
     "data": {
      "text/plain": [
       "'Venta Directa'"
      ]
     },
     "execution_count": 48,
     "metadata": {},
     "output_type": "execute_result"
    }
   ],
   "source": [
    "Z"
   ]
  },
  {
   "cell_type": "code",
   "execution_count": 49,
   "id": "a62c6035",
   "metadata": {
    "hidden": true
   },
   "outputs": [
    {
     "data": {
      "text/plain": [
       "'VD FoodService'"
      ]
     },
     "execution_count": 49,
     "metadata": {},
     "output_type": "execute_result"
    }
   ],
   "source": [
    "y"
   ]
  },
  {
   "cell_type": "code",
   "execution_count": 50,
   "id": "80a62fe8",
   "metadata": {
    "hidden": true
   },
   "outputs": [
    {
     "data": {
      "text/plain": [
       "'1010048'"
      ]
     },
     "execution_count": 50,
     "metadata": {},
     "output_type": "execute_result"
    }
   ],
   "source": [
    "m"
   ]
  },
  {
   "cell_type": "code",
   "execution_count": 51,
   "id": "5b9780bf",
   "metadata": {
    "hidden": true
   },
   "outputs": [
    {
     "data": {
      "text/plain": [
       "array(['1020253', '1010267', '1010078', '1010048'], dtype=object)"
      ]
     },
     "execution_count": 51,
     "metadata": {},
     "output_type": "execute_result"
    }
   ],
   "source": [
    "dfy['Material'].unique()"
   ]
  },
  {
   "cell_type": "code",
   "execution_count": 52,
   "id": "1b040eea",
   "metadata": {
    "hidden": true
   },
   "outputs": [
    {
     "data": {
      "text/plain": [
       "array(['1020253', '1010267', '1010078', '1010048'], dtype=object)"
      ]
     },
     "execution_count": 52,
     "metadata": {},
     "output_type": "execute_result"
    }
   ],
   "source": [
    "dfy[dfy.Año==2021]['Material'].unique()"
   ]
  },
  {
   "cell_type": "code",
   "execution_count": 53,
   "id": "e74807c8",
   "metadata": {
    "hidden": true
   },
   "outputs": [
    {
     "data": {
      "text/html": [
       "<div>\n",
       "<style scoped>\n",
       "    .dataframe tbody tr th:only-of-type {\n",
       "        vertical-align: middle;\n",
       "    }\n",
       "\n",
       "    .dataframe tbody tr th {\n",
       "        vertical-align: top;\n",
       "    }\n",
       "\n",
       "    .dataframe thead th {\n",
       "        text-align: right;\n",
       "    }\n",
       "</style>\n",
       "<table border=\"1\" class=\"dataframe\">\n",
       "  <thead>\n",
       "    <tr style=\"text-align: right;\">\n",
       "      <th></th>\n",
       "      <th>Sector</th>\n",
       "      <th>Tipo de cliente</th>\n",
       "      <th>Zona de ventas</th>\n",
       "      <th>Zona de ventas.1</th>\n",
       "      <th>Oficina de Ventas Unifica</th>\n",
       "      <th>Oficina de Ventas Unifica.1</th>\n",
       "      <th>Mes</th>\n",
       "      <th>Año natural/Semana</th>\n",
       "      <th>Día natural</th>\n",
       "      <th>Día de la semana</th>\n",
       "      <th>Kilos Venta KG</th>\n",
       "      <th>Venta Neta</th>\n",
       "      <th>Precio Promedio</th>\n",
       "      <th>Unidad Venta</th>\n",
       "      <th>Unidad Precio</th>\n",
       "      <th>Semana</th>\n",
       "      <th>Año</th>\n",
       "    </tr>\n",
       "    <tr>\n",
       "      <th>Material</th>\n",
       "      <th></th>\n",
       "      <th></th>\n",
       "      <th></th>\n",
       "      <th></th>\n",
       "      <th></th>\n",
       "      <th></th>\n",
       "      <th></th>\n",
       "      <th></th>\n",
       "      <th></th>\n",
       "      <th></th>\n",
       "      <th></th>\n",
       "      <th></th>\n",
       "      <th></th>\n",
       "      <th></th>\n",
       "      <th></th>\n",
       "      <th></th>\n",
       "      <th></th>\n",
       "    </tr>\n",
       "  </thead>\n",
       "  <tbody>\n",
       "    <tr>\n",
       "      <th>1010048</th>\n",
       "      <td>28</td>\n",
       "      <td>28</td>\n",
       "      <td>28</td>\n",
       "      <td>28</td>\n",
       "      <td>28</td>\n",
       "      <td>28</td>\n",
       "      <td>28</td>\n",
       "      <td>28</td>\n",
       "      <td>28</td>\n",
       "      <td>28</td>\n",
       "      <td>28</td>\n",
       "      <td>28</td>\n",
       "      <td>28</td>\n",
       "      <td>28</td>\n",
       "      <td>28</td>\n",
       "      <td>28</td>\n",
       "      <td>28</td>\n",
       "    </tr>\n",
       "    <tr>\n",
       "      <th>1010078</th>\n",
       "      <td>3</td>\n",
       "      <td>3</td>\n",
       "      <td>3</td>\n",
       "      <td>3</td>\n",
       "      <td>3</td>\n",
       "      <td>3</td>\n",
       "      <td>3</td>\n",
       "      <td>3</td>\n",
       "      <td>3</td>\n",
       "      <td>3</td>\n",
       "      <td>3</td>\n",
       "      <td>3</td>\n",
       "      <td>3</td>\n",
       "      <td>3</td>\n",
       "      <td>3</td>\n",
       "      <td>3</td>\n",
       "      <td>3</td>\n",
       "    </tr>\n",
       "    <tr>\n",
       "      <th>1010267</th>\n",
       "      <td>62</td>\n",
       "      <td>62</td>\n",
       "      <td>62</td>\n",
       "      <td>62</td>\n",
       "      <td>62</td>\n",
       "      <td>62</td>\n",
       "      <td>62</td>\n",
       "      <td>62</td>\n",
       "      <td>62</td>\n",
       "      <td>62</td>\n",
       "      <td>62</td>\n",
       "      <td>62</td>\n",
       "      <td>62</td>\n",
       "      <td>62</td>\n",
       "      <td>62</td>\n",
       "      <td>62</td>\n",
       "      <td>62</td>\n",
       "    </tr>\n",
       "    <tr>\n",
       "      <th>1020253</th>\n",
       "      <td>20</td>\n",
       "      <td>20</td>\n",
       "      <td>20</td>\n",
       "      <td>20</td>\n",
       "      <td>20</td>\n",
       "      <td>20</td>\n",
       "      <td>20</td>\n",
       "      <td>20</td>\n",
       "      <td>20</td>\n",
       "      <td>20</td>\n",
       "      <td>20</td>\n",
       "      <td>20</td>\n",
       "      <td>20</td>\n",
       "      <td>20</td>\n",
       "      <td>20</td>\n",
       "      <td>20</td>\n",
       "      <td>20</td>\n",
       "    </tr>\n",
       "  </tbody>\n",
       "</table>\n",
       "</div>"
      ],
      "text/plain": [
       "          Sector  Tipo de cliente  Zona de ventas  Zona de ventas.1  \\\n",
       "Material                                                              \n",
       "1010048       28               28              28                28   \n",
       "1010078        3                3               3                 3   \n",
       "1010267       62               62              62                62   \n",
       "1020253       20               20              20                20   \n",
       "\n",
       "          Oficina de Ventas Unifica  Oficina de Ventas Unifica.1  Mes  \\\n",
       "Material                                                                \n",
       "1010048                          28                           28   28   \n",
       "1010078                           3                            3    3   \n",
       "1010267                          62                           62   62   \n",
       "1020253                          20                           20   20   \n",
       "\n",
       "          Año natural/Semana  Día natural  Día de la semana  Kilos Venta KG  \\\n",
       "Material                                                                      \n",
       "1010048                   28           28                28              28   \n",
       "1010078                    3            3                 3               3   \n",
       "1010267                   62           62                62              62   \n",
       "1020253                   20           20                20              20   \n",
       "\n",
       "          Venta Neta  Precio Promedio  Unidad Venta  Unidad Precio  Semana  \\\n",
       "Material                                                                     \n",
       "1010048           28               28            28             28      28   \n",
       "1010078            3                3             3              3       3   \n",
       "1010267           62               62            62             62      62   \n",
       "1020253           20               20            20             20      20   \n",
       "\n",
       "          Año  \n",
       "Material       \n",
       "1010048    28  \n",
       "1010078     3  \n",
       "1010267    62  \n",
       "1020253    20  "
      ]
     },
     "execution_count": 53,
     "metadata": {},
     "output_type": "execute_result"
    }
   ],
   "source": [
    "dfy[dfy.Año==2021].groupby('Material').count()"
   ]
  },
  {
   "cell_type": "code",
   "execution_count": 54,
   "id": "e34931ea",
   "metadata": {
    "hidden": true
   },
   "outputs": [
    {
     "data": {
      "text/html": [
       "<div>\n",
       "<style scoped>\n",
       "    .dataframe tbody tr th:only-of-type {\n",
       "        vertical-align: middle;\n",
       "    }\n",
       "\n",
       "    .dataframe tbody tr th {\n",
       "        vertical-align: top;\n",
       "    }\n",
       "\n",
       "    .dataframe thead th {\n",
       "        text-align: right;\n",
       "    }\n",
       "</style>\n",
       "<table border=\"1\" class=\"dataframe\">\n",
       "  <thead>\n",
       "    <tr style=\"text-align: right;\">\n",
       "      <th></th>\n",
       "      <th>Sector</th>\n",
       "      <th>Tipo de cliente</th>\n",
       "      <th>Zona de ventas</th>\n",
       "      <th>Zona de ventas.1</th>\n",
       "      <th>Oficina de Ventas Unifica</th>\n",
       "      <th>Oficina de Ventas Unifica.1</th>\n",
       "      <th>Mes</th>\n",
       "      <th>Año natural/Semana</th>\n",
       "      <th>Día natural</th>\n",
       "      <th>Día de la semana</th>\n",
       "      <th>Kilos Venta KG</th>\n",
       "      <th>Venta Neta</th>\n",
       "      <th>Precio Promedio</th>\n",
       "      <th>Unidad Venta</th>\n",
       "      <th>Unidad Precio</th>\n",
       "      <th>Semana</th>\n",
       "      <th>Año</th>\n",
       "    </tr>\n",
       "    <tr>\n",
       "      <th>Material</th>\n",
       "      <th></th>\n",
       "      <th></th>\n",
       "      <th></th>\n",
       "      <th></th>\n",
       "      <th></th>\n",
       "      <th></th>\n",
       "      <th></th>\n",
       "      <th></th>\n",
       "      <th></th>\n",
       "      <th></th>\n",
       "      <th></th>\n",
       "      <th></th>\n",
       "      <th></th>\n",
       "      <th></th>\n",
       "      <th></th>\n",
       "      <th></th>\n",
       "      <th></th>\n",
       "    </tr>\n",
       "  </thead>\n",
       "  <tbody>\n",
       "    <tr>\n",
       "      <th>1010048</th>\n",
       "      <td>270</td>\n",
       "      <td>270</td>\n",
       "      <td>270</td>\n",
       "      <td>270</td>\n",
       "      <td>270</td>\n",
       "      <td>270</td>\n",
       "      <td>270</td>\n",
       "      <td>270</td>\n",
       "      <td>270</td>\n",
       "      <td>270</td>\n",
       "      <td>270</td>\n",
       "      <td>270</td>\n",
       "      <td>270</td>\n",
       "      <td>270</td>\n",
       "      <td>270</td>\n",
       "      <td>270</td>\n",
       "      <td>270</td>\n",
       "    </tr>\n",
       "    <tr>\n",
       "      <th>1010078</th>\n",
       "      <td>54</td>\n",
       "      <td>54</td>\n",
       "      <td>54</td>\n",
       "      <td>54</td>\n",
       "      <td>54</td>\n",
       "      <td>54</td>\n",
       "      <td>54</td>\n",
       "      <td>54</td>\n",
       "      <td>54</td>\n",
       "      <td>54</td>\n",
       "      <td>54</td>\n",
       "      <td>54</td>\n",
       "      <td>54</td>\n",
       "      <td>54</td>\n",
       "      <td>54</td>\n",
       "      <td>54</td>\n",
       "      <td>54</td>\n",
       "    </tr>\n",
       "    <tr>\n",
       "      <th>1010267</th>\n",
       "      <td>410</td>\n",
       "      <td>410</td>\n",
       "      <td>410</td>\n",
       "      <td>410</td>\n",
       "      <td>410</td>\n",
       "      <td>410</td>\n",
       "      <td>410</td>\n",
       "      <td>410</td>\n",
       "      <td>410</td>\n",
       "      <td>410</td>\n",
       "      <td>410</td>\n",
       "      <td>410</td>\n",
       "      <td>410</td>\n",
       "      <td>410</td>\n",
       "      <td>410</td>\n",
       "      <td>410</td>\n",
       "      <td>410</td>\n",
       "    </tr>\n",
       "    <tr>\n",
       "      <th>1020253</th>\n",
       "      <td>36</td>\n",
       "      <td>36</td>\n",
       "      <td>36</td>\n",
       "      <td>36</td>\n",
       "      <td>36</td>\n",
       "      <td>36</td>\n",
       "      <td>36</td>\n",
       "      <td>36</td>\n",
       "      <td>36</td>\n",
       "      <td>36</td>\n",
       "      <td>36</td>\n",
       "      <td>36</td>\n",
       "      <td>36</td>\n",
       "      <td>36</td>\n",
       "      <td>36</td>\n",
       "      <td>36</td>\n",
       "      <td>36</td>\n",
       "    </tr>\n",
       "  </tbody>\n",
       "</table>\n",
       "</div>"
      ],
      "text/plain": [
       "          Sector  Tipo de cliente  Zona de ventas  Zona de ventas.1  \\\n",
       "Material                                                              \n",
       "1010048      270              270             270               270   \n",
       "1010078       54               54              54                54   \n",
       "1010267      410              410             410               410   \n",
       "1020253       36               36              36                36   \n",
       "\n",
       "          Oficina de Ventas Unifica  Oficina de Ventas Unifica.1  Mes  \\\n",
       "Material                                                                \n",
       "1010048                         270                          270  270   \n",
       "1010078                          54                           54   54   \n",
       "1010267                         410                          410  410   \n",
       "1020253                          36                           36   36   \n",
       "\n",
       "          Año natural/Semana  Día natural  Día de la semana  Kilos Venta KG  \\\n",
       "Material                                                                      \n",
       "1010048                  270          270               270             270   \n",
       "1010078                   54           54                54              54   \n",
       "1010267                  410          410               410             410   \n",
       "1020253                   36           36                36              36   \n",
       "\n",
       "          Venta Neta  Precio Promedio  Unidad Venta  Unidad Precio  Semana  \\\n",
       "Material                                                                     \n",
       "1010048          270              270           270            270     270   \n",
       "1010078           54               54            54             54      54   \n",
       "1010267          410              410           410            410     410   \n",
       "1020253           36               36            36             36      36   \n",
       "\n",
       "          Año  \n",
       "Material       \n",
       "1010048   270  \n",
       "1010078    54  \n",
       "1010267   410  \n",
       "1020253    36  "
      ]
     },
     "execution_count": 54,
     "metadata": {},
     "output_type": "execute_result"
    }
   ],
   "source": [
    "dfy.groupby('Material').count()"
   ]
  },
  {
   "cell_type": "code",
   "execution_count": 55,
   "id": "6ec36613",
   "metadata": {
    "hidden": true
   },
   "outputs": [],
   "source": [
    "dfy_21=dfy[dfy.Año==2021]"
   ]
  },
  {
   "cell_type": "code",
   "execution_count": 56,
   "id": "fc032579",
   "metadata": {
    "hidden": true,
    "scrolled": false
   },
   "outputs": [
    {
     "data": {
      "text/html": [
       "<div>\n",
       "<style scoped>\n",
       "    .dataframe tbody tr th:only-of-type {\n",
       "        vertical-align: middle;\n",
       "    }\n",
       "\n",
       "    .dataframe tbody tr th {\n",
       "        vertical-align: top;\n",
       "    }\n",
       "\n",
       "    .dataframe thead th {\n",
       "        text-align: right;\n",
       "    }\n",
       "</style>\n",
       "<table border=\"1\" class=\"dataframe\">\n",
       "  <thead>\n",
       "    <tr style=\"text-align: right;\">\n",
       "      <th></th>\n",
       "      <th>Sector</th>\n",
       "      <th>Material</th>\n",
       "      <th>Tipo de cliente</th>\n",
       "      <th>Zona de ventas</th>\n",
       "      <th>Zona de ventas.1</th>\n",
       "      <th>Oficina de Ventas Unifica</th>\n",
       "      <th>Oficina de Ventas Unifica.1</th>\n",
       "      <th>Mes</th>\n",
       "      <th>Año natural/Semana</th>\n",
       "      <th>Día natural</th>\n",
       "      <th>Día de la semana</th>\n",
       "      <th>Kilos Venta KG</th>\n",
       "      <th>Venta Neta</th>\n",
       "      <th>Precio Promedio</th>\n",
       "      <th>Unidad Venta</th>\n",
       "      <th>Unidad Precio</th>\n",
       "      <th>Semana</th>\n",
       "      <th>Año</th>\n",
       "    </tr>\n",
       "  </thead>\n",
       "  <tbody>\n",
       "  </tbody>\n",
       "</table>\n",
       "</div>"
      ],
      "text/plain": [
       "Empty DataFrame\n",
       "Columns: [Sector, Material, Tipo de cliente, Zona de ventas, Zona de ventas.1, Oficina de Ventas Unifica, Oficina de Ventas Unifica.1, Mes, Año natural/Semana, Día natural, Día de la semana, Kilos Venta KG, Venta Neta, Precio Promedio, Unidad Venta, Unidad Precio, Semana, Año]\n",
       "Index: []"
      ]
     },
     "execution_count": 56,
     "metadata": {},
     "output_type": "execute_result"
    }
   ],
   "source": [
    "dfy_21[dfy_21.Material=='1010695']"
   ]
  },
  {
   "cell_type": "code",
   "execution_count": 57,
   "id": "35632b89",
   "metadata": {
    "hidden": true,
    "scrolled": true
   },
   "outputs": [
    {
     "data": {
      "text/plain": [
       "297755.666"
      ]
     },
     "execution_count": 57,
     "metadata": {},
     "output_type": "execute_result"
    }
   ],
   "source": [
    "429.91*692.60"
   ]
  },
  {
   "cell_type": "markdown",
   "id": "a22097d8",
   "metadata": {
    "heading_collapsed": true
   },
   "source": [
    "## Iteración Zona"
   ]
  },
  {
   "cell_type": "code",
   "execution_count": 46,
   "id": "70567c70",
   "metadata": {
    "hidden": true,
    "scrolled": true
   },
   "outputs": [
    {
     "name": "stdout",
     "output_type": "stream",
     "text": [
      "Santiago\n"
     ]
    },
    {
     "name": "stderr",
     "output_type": "stream",
     "text": [
      "INFO:fbprophet:Disabling daily seasonality. Run prophet with daily_seasonality=True to override this.\n",
      "INFO:fbprophet:Disabling daily seasonality. Run prophet with daily_seasonality=True to override this.\n"
     ]
    },
    {
     "name": "stdout",
     "output_type": "stream",
     "text": [
      "El producto demoró 4.342912197113037 Santiago\n",
      "tiempo que lleva corriendo 0.07656582991282145 Min\n"
     ]
    },
    {
     "name": "stderr",
     "output_type": "stream",
     "text": [
      "INFO:fbprophet:Disabling daily seasonality. Run prophet with daily_seasonality=True to override this.\n"
     ]
    },
    {
     "name": "stdout",
     "output_type": "stream",
     "text": [
      "El producto demoró 3.6187655925750732 Santiago\n",
      "tiempo que lleva corriendo 0.13688693046569825 Min\n"
     ]
    },
    {
     "name": "stderr",
     "output_type": "stream",
     "text": [
      "INFO:fbprophet:Disabling daily seasonality. Run prophet with daily_seasonality=True to override this.\n"
     ]
    },
    {
     "name": "stdout",
     "output_type": "stream",
     "text": [
      "El producto demoró 4.453211069107056 Santiago\n",
      "tiempo que lleva corriendo 0.21110711495081583 Min\n"
     ]
    },
    {
     "name": "stderr",
     "output_type": "stream",
     "text": [
      "INFO:fbprophet:Disabling daily seasonality. Run prophet with daily_seasonality=True to override this.\n"
     ]
    },
    {
     "name": "stdout",
     "output_type": "stream",
     "text": [
      "El producto demoró 3.3183279037475586 Santiago\n",
      "tiempo que lleva corriendo 0.2664292136828105 Min\n"
     ]
    },
    {
     "name": "stderr",
     "output_type": "stream",
     "text": [
      "INFO:fbprophet:Disabling daily seasonality. Run prophet with daily_seasonality=True to override this.\n"
     ]
    },
    {
     "name": "stdout",
     "output_type": "stream",
     "text": [
      "El producto demoró 4.429755687713623 Santiago\n",
      "tiempo que lleva corriendo 0.3402584751447042 Min\n"
     ]
    },
    {
     "name": "stderr",
     "output_type": "stream",
     "text": [
      "INFO:fbprophet:Disabling daily seasonality. Run prophet with daily_seasonality=True to override this.\n"
     ]
    },
    {
     "name": "stdout",
     "output_type": "stream",
     "text": [
      "El producto demoró 3.4715371131896973 Santiago\n",
      "tiempo que lleva corriendo 0.3981174270311991 Min\n"
     ]
    },
    {
     "name": "stderr",
     "output_type": "stream",
     "text": [
      "INFO:fbprophet:Disabling daily seasonality. Run prophet with daily_seasonality=True to override this.\n"
     ]
    },
    {
     "name": "stdout",
     "output_type": "stream",
     "text": [
      "El producto demoró 3.818894386291504 Santiago\n",
      "tiempo que lleva corriendo 0.4617823084195455 Min\n"
     ]
    },
    {
     "name": "stderr",
     "output_type": "stream",
     "text": [
      "INFO:fbprophet:Disabling daily seasonality. Run prophet with daily_seasonality=True to override this.\n"
     ]
    },
    {
     "name": "stdout",
     "output_type": "stream",
     "text": [
      "El producto demoró 3.865804433822632 Santiago\n",
      "tiempo que lleva corriendo 0.5262206951777141 Min\n"
     ]
    },
    {
     "name": "stderr",
     "output_type": "stream",
     "text": [
      "INFO:fbprophet:Disabling daily seasonality. Run prophet with daily_seasonality=True to override this.\n"
     ]
    },
    {
     "name": "stdout",
     "output_type": "stream",
     "text": [
      "El producto demoró 4.126821279525757 Santiago\n",
      "tiempo que lleva corriendo 0.5950010498364766 Min\n"
     ]
    },
    {
     "name": "stderr",
     "output_type": "stream",
     "text": [
      "INFO:fbprophet:Disabling daily seasonality. Run prophet with daily_seasonality=True to override this.\n"
     ]
    },
    {
     "name": "stdout",
     "output_type": "stream",
     "text": [
      "El producto demoró 4.516094446182251 Santiago\n",
      "tiempo que lleva corriendo 0.6702776153882345 Min\n"
     ]
    },
    {
     "name": "stderr",
     "output_type": "stream",
     "text": [
      "INFO:fbprophet:Disabling daily seasonality. Run prophet with daily_seasonality=True to override this.\n"
     ]
    },
    {
     "name": "stdout",
     "output_type": "stream",
     "text": [
      "El producto demoró 3.696124315261841 Santiago\n",
      "tiempo que lleva corriendo 0.7318880041440328 Min\n"
     ]
    },
    {
     "name": "stderr",
     "output_type": "stream",
     "text": [
      "INFO:fbprophet:Disabling daily seasonality. Run prophet with daily_seasonality=True to override this.\n"
     ]
    },
    {
     "name": "stdout",
     "output_type": "stream",
     "text": [
      "El producto demoró 3.6372365951538086 Santiago\n",
      "tiempo que lleva corriendo 0.7925252636273702 Min\n",
      "El producto demoró 4.175232410430908 Santiago\n",
      "tiempo que lleva corriendo 0.8621124704678853 Min\n",
      "Centro Norte\n"
     ]
    },
    {
     "name": "stderr",
     "output_type": "stream",
     "text": [
      "INFO:fbprophet:Disabling daily seasonality. Run prophet with daily_seasonality=True to override this.\n",
      "INFO:fbprophet:Disabling daily seasonality. Run prophet with daily_seasonality=True to override this.\n"
     ]
    },
    {
     "name": "stdout",
     "output_type": "stream",
     "text": [
      "El producto demoró 3.7764711380004883 Centro Norte\n",
      "tiempo que lleva corriendo 0.9293373743693034 Min\n"
     ]
    },
    {
     "name": "stderr",
     "output_type": "stream",
     "text": [
      "INFO:fbprophet:Disabling daily seasonality. Run prophet with daily_seasonality=True to override this.\n"
     ]
    },
    {
     "name": "stdout",
     "output_type": "stream",
     "text": [
      "El producto demoró 3.6435067653656006 Centro Norte\n",
      "tiempo que lleva corriendo 0.9900624871253967 Min\n"
     ]
    },
    {
     "name": "stderr",
     "output_type": "stream",
     "text": [
      "INFO:fbprophet:Disabling daily seasonality. Run prophet with daily_seasonality=True to override this.\n"
     ]
    },
    {
     "name": "stdout",
     "output_type": "stream",
     "text": [
      "El producto demoró 3.6786985397338867 Centro Norte\n",
      "tiempo que lleva corriendo 1.0513907631238302 Min\n"
     ]
    },
    {
     "name": "stderr",
     "output_type": "stream",
     "text": [
      "INFO:fbprophet:Disabling daily seasonality. Run prophet with daily_seasonality=True to override this.\n"
     ]
    },
    {
     "name": "stdout",
     "output_type": "stream",
     "text": [
      "El producto demoró 3.999558210372925 Centro Norte\n",
      "tiempo que lleva corriendo 1.1180750171343485 Min\n"
     ]
    },
    {
     "name": "stderr",
     "output_type": "stream",
     "text": [
      "INFO:fbprophet:Disabling daily seasonality. Run prophet with daily_seasonality=True to override this.\n"
     ]
    },
    {
     "name": "stdout",
     "output_type": "stream",
     "text": [
      "El producto demoró 4.300997972488403 Centro Norte\n",
      "tiempo que lleva corriendo 1.1897666335105896 Min\n"
     ]
    },
    {
     "name": "stderr",
     "output_type": "stream",
     "text": [
      "INFO:fbprophet:Disabling daily seasonality. Run prophet with daily_seasonality=True to override this.\n"
     ]
    },
    {
     "name": "stdout",
     "output_type": "stream",
     "text": [
      "El producto demoró 6.174330472946167 Centro Norte\n",
      "tiempo que lleva corriendo 1.2926721413930258 Min\n"
     ]
    },
    {
     "name": "stderr",
     "output_type": "stream",
     "text": [
      "INFO:fbprophet:Disabling daily seasonality. Run prophet with daily_seasonality=True to override this.\n"
     ]
    },
    {
     "name": "stdout",
     "output_type": "stream",
     "text": [
      "El producto demoró 3.551891326904297 Centro Norte\n",
      "tiempo que lleva corriendo 1.351870330174764 Min\n"
     ]
    },
    {
     "name": "stderr",
     "output_type": "stream",
     "text": [
      "INFO:fbprophet:Disabling daily seasonality. Run prophet with daily_seasonality=True to override this.\n"
     ]
    },
    {
     "name": "stdout",
     "output_type": "stream",
     "text": [
      "El producto demoró 4.313972234725952 Centro Norte\n",
      "tiempo que lleva corriendo 1.423778196175893 Min\n"
     ]
    },
    {
     "name": "stderr",
     "output_type": "stream",
     "text": [
      "INFO:fbprophet:Disabling daily seasonality. Run prophet with daily_seasonality=True to override this.\n"
     ]
    },
    {
     "name": "stdout",
     "output_type": "stream",
     "text": [
      "El producto demoró 3.873790740966797 Centro Norte\n",
      "tiempo que lleva corriendo 1.4883413751920065 Min\n"
     ]
    },
    {
     "name": "stderr",
     "output_type": "stream",
     "text": [
      "INFO:fbprophet:Disabling daily seasonality. Run prophet with daily_seasonality=True to override this.\n"
     ]
    },
    {
     "name": "stdout",
     "output_type": "stream",
     "text": [
      "El producto demoró 3.947654962539673 Centro Norte\n",
      "tiempo que lleva corriendo 1.5541356245676676 Min\n"
     ]
    },
    {
     "name": "stderr",
     "output_type": "stream",
     "text": [
      "INFO:fbprophet:Disabling daily seasonality. Run prophet with daily_seasonality=True to override this.\n"
     ]
    },
    {
     "name": "stdout",
     "output_type": "stream",
     "text": [
      "El producto demoró 3.345479965209961 Centro Norte\n",
      "tiempo que lleva corriendo 1.6099019487698873 Min\n"
     ]
    },
    {
     "name": "stderr",
     "output_type": "stream",
     "text": [
      "INFO:fbprophet:Disabling daily seasonality. Run prophet with daily_seasonality=True to override this.\n"
     ]
    },
    {
     "name": "stdout",
     "output_type": "stream",
     "text": [
      "El producto demoró 4.296002388000488 Centro Norte\n",
      "tiempo que lleva corriendo 1.6815019885698954 Min\n",
      "El producto demoró 3.6417253017425537 Centro Norte\n",
      "tiempo que lleva corriendo 1.7422057390213013 Min\n",
      "Centro Sur\n"
     ]
    },
    {
     "name": "stderr",
     "output_type": "stream",
     "text": [
      "INFO:fbprophet:Disabling daily seasonality. Run prophet with daily_seasonality=True to override this.\n",
      "INFO:fbprophet:Disabling daily seasonality. Run prophet with daily_seasonality=True to override this.\n"
     ]
    },
    {
     "name": "stdout",
     "output_type": "stream",
     "text": [
      "El producto demoró 3.815380811691284 Centro Sur\n",
      "tiempo que lleva corriendo 1.8102931062380472 Min\n"
     ]
    },
    {
     "name": "stderr",
     "output_type": "stream",
     "text": [
      "INFO:fbprophet:Disabling daily seasonality. Run prophet with daily_seasonality=True to override this.\n"
     ]
    },
    {
     "name": "stdout",
     "output_type": "stream",
     "text": [
      "El producto demoró 3.4296178817749023 Centro Sur\n",
      "tiempo que lleva corriendo 1.8674617171287538 Min\n"
     ]
    },
    {
     "name": "stderr",
     "output_type": "stream",
     "text": [
      "INFO:fbprophet:Disabling daily seasonality. Run prophet with daily_seasonality=True to override this.\n"
     ]
    },
    {
     "name": "stdout",
     "output_type": "stream",
     "text": [
      "El producto demoró 3.589176893234253 Centro Sur\n",
      "tiempo que lleva corriendo 1.9272979696591694 Min\n"
     ]
    },
    {
     "name": "stderr",
     "output_type": "stream",
     "text": [
      "INFO:fbprophet:Disabling daily seasonality. Run prophet with daily_seasonality=True to override this.\n"
     ]
    },
    {
     "name": "stdout",
     "output_type": "stream",
     "text": [
      "El producto demoró 3.6586875915527344 Centro Sur\n",
      "tiempo que lleva corriendo 1.988284416993459 Min\n"
     ]
    },
    {
     "name": "stderr",
     "output_type": "stream",
     "text": [
      "INFO:fbprophet:Disabling daily seasonality. Run prophet with daily_seasonality=True to override this.\n"
     ]
    },
    {
     "name": "stdout",
     "output_type": "stream",
     "text": [
      "El producto demoró 4.08040714263916 Centro Sur\n",
      "tiempo que lleva corriendo 2.0562995155652364 Min\n"
     ]
    },
    {
     "name": "stderr",
     "output_type": "stream",
     "text": [
      "INFO:fbprophet:Disabling daily seasonality. Run prophet with daily_seasonality=True to override this.\n"
     ]
    },
    {
     "name": "stdout",
     "output_type": "stream",
     "text": [
      "El producto demoró 6.848755836486816 Centro Sur\n",
      "tiempo que lleva corriendo 2.1704454461733502 Min\n"
     ]
    },
    {
     "name": "stderr",
     "output_type": "stream",
     "text": [
      "INFO:fbprophet:Disabling daily seasonality. Run prophet with daily_seasonality=True to override this.\n"
     ]
    },
    {
     "name": "stdout",
     "output_type": "stream",
     "text": [
      "El producto demoró 3.631241798400879 Centro Sur\n",
      "tiempo que lleva corriendo 2.230982768535614 Min\n"
     ]
    },
    {
     "name": "stderr",
     "output_type": "stream",
     "text": [
      "INFO:fbprophet:Disabling daily seasonality. Run prophet with daily_seasonality=True to override this.\n"
     ]
    },
    {
     "name": "stdout",
     "output_type": "stream",
     "text": [
      "El producto demoró 3.7610037326812744 Centro Sur\n",
      "tiempo que lleva corriendo 2.2936661640803018 Min\n"
     ]
    },
    {
     "name": "stderr",
     "output_type": "stream",
     "text": [
      "INFO:fbprophet:Disabling daily seasonality. Run prophet with daily_seasonality=True to override this.\n"
     ]
    },
    {
     "name": "stdout",
     "output_type": "stream",
     "text": [
      "El producto demoró 3.796431541442871 Centro Sur\n",
      "tiempo que lleva corriendo 2.356956672668457 Min\n"
     ]
    },
    {
     "name": "stderr",
     "output_type": "stream",
     "text": [
      "INFO:fbprophet:Disabling daily seasonality. Run prophet with daily_seasonality=True to override this.\n"
     ]
    },
    {
     "name": "stdout",
     "output_type": "stream",
     "text": [
      "El producto demoró 3.4400978088378906 Centro Sur\n",
      "tiempo que lleva corriendo 2.4142916361490885 Min\n"
     ]
    },
    {
     "name": "stderr",
     "output_type": "stream",
     "text": [
      "INFO:fbprophet:Disabling daily seasonality. Run prophet with daily_seasonality=True to override this.\n"
     ]
    },
    {
     "name": "stdout",
     "output_type": "stream",
     "text": [
      "El producto demoró 3.4799067974090576 Centro Sur\n",
      "tiempo que lleva corriendo 2.4722984075546264 Min\n"
     ]
    },
    {
     "name": "stderr",
     "output_type": "stream",
     "text": [
      "INFO:fbprophet:Disabling daily seasonality. Run prophet with daily_seasonality=True to override this.\n"
     ]
    },
    {
     "name": "stdout",
     "output_type": "stream",
     "text": [
      "El producto demoró 3.3921873569488525 Centro Sur\n",
      "tiempo que lleva corriendo 2.528843176364899 Min\n",
      "El producto demoró 3.6397297382354736 Centro Sur\n",
      "tiempo que lleva corriendo 2.58951362768809 Min\n",
      "Sur\n"
     ]
    },
    {
     "name": "stderr",
     "output_type": "stream",
     "text": [
      "INFO:fbprophet:Disabling daily seasonality. Run prophet with daily_seasonality=True to override this.\n",
      "INFO:fbprophet:Disabling daily seasonality. Run prophet with daily_seasonality=True to override this.\n"
     ]
    },
    {
     "name": "stdout",
     "output_type": "stream",
     "text": [
      "El producto demoró 3.2723922729492188 Sur\n",
      "tiempo que lleva corriendo 2.6483541250228884 Min\n"
     ]
    },
    {
     "name": "stderr",
     "output_type": "stream",
     "text": [
      "INFO:fbprophet:Disabling daily seasonality. Run prophet with daily_seasonality=True to override this.\n"
     ]
    },
    {
     "name": "stdout",
     "output_type": "stream",
     "text": [
      "El producto demoró 4.175230264663696 Sur\n",
      "tiempo que lleva corriendo 2.717949612935384 Min\n"
     ]
    },
    {
     "name": "stderr",
     "output_type": "stream",
     "text": [
      "INFO:fbprophet:Disabling daily seasonality. Run prophet with daily_seasonality=True to override this.\n"
     ]
    },
    {
     "name": "stdout",
     "output_type": "stream",
     "text": [
      "El producto demoró 3.6137773990631104 Sur\n",
      "tiempo que lleva corriendo 2.7781875570615133 Min\n"
     ]
    },
    {
     "name": "stderr",
     "output_type": "stream",
     "text": [
      "INFO:fbprophet:Disabling daily seasonality. Run prophet with daily_seasonality=True to override this.\n"
     ]
    },
    {
     "name": "stdout",
     "output_type": "stream",
     "text": [
      "El producto demoró 3.337787628173828 Sur\n",
      "tiempo que lleva corriendo 2.8338173508644102 Min\n"
     ]
    },
    {
     "name": "stderr",
     "output_type": "stream",
     "text": [
      "INFO:fbprophet:Disabling daily seasonality. Run prophet with daily_seasonality=True to override this.\n"
     ]
    },
    {
     "name": "stdout",
     "output_type": "stream",
     "text": [
      "El producto demoró 4.369863986968994 Sur\n",
      "tiempo que lleva corriendo 2.90666507879893 Min\n"
     ]
    },
    {
     "name": "stderr",
     "output_type": "stream",
     "text": [
      "INFO:fbprophet:Disabling daily seasonality. Run prophet with daily_seasonality=True to override this.\n"
     ]
    },
    {
     "name": "stdout",
     "output_type": "stream",
     "text": [
      "El producto demoró 3.762497901916504 Sur\n",
      "tiempo que lleva corriendo 2.969373377164205 Min\n"
     ]
    },
    {
     "name": "stderr",
     "output_type": "stream",
     "text": [
      "INFO:fbprophet:Disabling daily seasonality. Run prophet with daily_seasonality=True to override this.\n"
     ]
    },
    {
     "name": "stdout",
     "output_type": "stream",
     "text": [
      "El producto demoró 3.364238977432251 Sur\n",
      "tiempo que lleva corriendo 3.025460660457611 Min\n"
     ]
    },
    {
     "name": "stderr",
     "output_type": "stream",
     "text": [
      "INFO:fbprophet:Disabling daily seasonality. Run prophet with daily_seasonality=True to override this.\n"
     ]
    },
    {
     "name": "stdout",
     "output_type": "stream",
     "text": [
      "El producto demoró 4.4322545528411865 Sur\n",
      "tiempo que lleva corriendo 3.099331569671631 Min\n"
     ]
    },
    {
     "name": "stderr",
     "output_type": "stream",
     "text": [
      "INFO:fbprophet:Disabling daily seasonality. Run prophet with daily_seasonality=True to override this.\n"
     ]
    },
    {
     "name": "stdout",
     "output_type": "stream",
     "text": [
      "El producto demoró 3.6561954021453857 Sur\n",
      "tiempo que lleva corriendo 3.1602848052978514 Min\n"
     ]
    },
    {
     "name": "stderr",
     "output_type": "stream",
     "text": [
      "INFO:fbprophet:Disabling daily seasonality. Run prophet with daily_seasonality=True to override this.\n"
     ]
    },
    {
     "name": "stdout",
     "output_type": "stream",
     "text": [
      "El producto demoró 3.5067298412323 Sur\n",
      "tiempo que lleva corriendo 3.218738607565562 Min\n"
     ]
    },
    {
     "name": "stderr",
     "output_type": "stream",
     "text": [
      "INFO:fbprophet:Disabling daily seasonality. Run prophet with daily_seasonality=True to override this.\n"
     ]
    },
    {
     "name": "stdout",
     "output_type": "stream",
     "text": [
      "El producto demoró 3.458563804626465 Sur\n",
      "tiempo que lleva corriendo 3.2763896663983663 Min\n"
     ]
    },
    {
     "name": "stderr",
     "output_type": "stream",
     "text": [
      "INFO:fbprophet:Disabling daily seasonality. Run prophet with daily_seasonality=True to override this.\n"
     ]
    },
    {
     "name": "stdout",
     "output_type": "stream",
     "text": [
      "El producto demoró 3.6177639961242676 Sur\n",
      "tiempo que lleva corriendo 3.336694057782491 Min\n",
      "El producto demoró 3.3357930183410645 Sur\n",
      "tiempo que lleva corriendo 3.3922906080881754 Min\n",
      "Norte\n"
     ]
    },
    {
     "name": "stderr",
     "output_type": "stream",
     "text": [
      "INFO:fbprophet:Disabling daily seasonality. Run prophet with daily_seasonality=True to override this.\n",
      "INFO:fbprophet:Disabling daily seasonality. Run prophet with daily_seasonality=True to override this.\n"
     ]
    },
    {
     "name": "stdout",
     "output_type": "stream",
     "text": [
      "El producto demoró 3.506456136703491 Norte\n",
      "tiempo que lleva corriendo 3.454824237028758 Min\n"
     ]
    },
    {
     "name": "stderr",
     "output_type": "stream",
     "text": [
      "INFO:fbprophet:Disabling daily seasonality. Run prophet with daily_seasonality=True to override this.\n"
     ]
    },
    {
     "name": "stdout",
     "output_type": "stream",
     "text": [
      "El producto demoró 3.5768446922302246 Norte\n",
      "tiempo que lleva corriendo 3.514454956849416 Min\n"
     ]
    },
    {
     "name": "stderr",
     "output_type": "stream",
     "text": [
      "INFO:fbprophet:Disabling daily seasonality. Run prophet with daily_seasonality=True to override this.\n"
     ]
    },
    {
     "name": "stdout",
     "output_type": "stream",
     "text": [
      "El producto demoró 3.4550676345825195 Norte\n",
      "tiempo que lleva corriendo 3.5720477302869162 Min\n"
     ]
    },
    {
     "name": "stderr",
     "output_type": "stream",
     "text": [
      "INFO:fbprophet:Disabling daily seasonality. Run prophet with daily_seasonality=True to override this.\n"
     ]
    },
    {
     "name": "stdout",
     "output_type": "stream",
     "text": [
      "El producto demoró 3.4301185607910156 Norte\n",
      "tiempo que lleva corriendo 3.6292163729667664 Min\n"
     ]
    },
    {
     "name": "stderr",
     "output_type": "stream",
     "text": [
      "INFO:fbprophet:Disabling daily seasonality. Run prophet with daily_seasonality=True to override this.\n"
     ]
    },
    {
     "name": "stdout",
     "output_type": "stream",
     "text": [
      "El producto demoró 4.213656187057495 Norte\n",
      "tiempo que lleva corriendo 3.699452300866445 Min\n"
     ]
    },
    {
     "name": "stderr",
     "output_type": "stream",
     "text": [
      "INFO:fbprophet:Disabling daily seasonality. Run prophet with daily_seasonality=True to override this.\n"
     ]
    },
    {
     "name": "stdout",
     "output_type": "stream",
     "text": [
      "El producto demoró 3.370730400085449 Norte\n",
      "tiempo que lleva corriendo 3.75563946167628 Min\n"
     ]
    },
    {
     "name": "stderr",
     "output_type": "stream",
     "text": [
      "INFO:fbprophet:Disabling daily seasonality. Run prophet with daily_seasonality=True to override this.\n"
     ]
    },
    {
     "name": "stdout",
     "output_type": "stream",
     "text": [
      "El producto demoró 3.98460054397583 Norte\n",
      "tiempo que lleva corriendo 3.8220661083857217 Min\n"
     ]
    },
    {
     "name": "stderr",
     "output_type": "stream",
     "text": [
      "INFO:fbprophet:Disabling daily seasonality. Run prophet with daily_seasonality=True to override this.\n"
     ]
    },
    {
     "name": "stdout",
     "output_type": "stream",
     "text": [
      "El producto demoró 3.326294422149658 Norte\n",
      "tiempo que lleva corriendo 3.877504348754883 Min\n"
     ]
    },
    {
     "name": "stderr",
     "output_type": "stream",
     "text": [
      "INFO:fbprophet:Disabling daily seasonality. Run prophet with daily_seasonality=True to override this.\n"
     ]
    },
    {
     "name": "stdout",
     "output_type": "stream",
     "text": [
      "El producto demoró 4.384338855743408 Norte\n",
      "tiempo que lleva corriendo 3.950576663017273 Min\n"
     ]
    },
    {
     "name": "stderr",
     "output_type": "stream",
     "text": [
      "INFO:fbprophet:Disabling daily seasonality. Run prophet with daily_seasonality=True to override this.\n"
     ]
    },
    {
     "name": "stdout",
     "output_type": "stream",
     "text": [
      "El producto demoró 3.7270474433898926 Norte\n",
      "tiempo que lleva corriendo 4.012710746129354 Min\n"
     ]
    },
    {
     "name": "stderr",
     "output_type": "stream",
     "text": [
      "INFO:fbprophet:Disabling daily seasonality. Run prophet with daily_seasonality=True to override this.\n"
     ]
    },
    {
     "name": "stdout",
     "output_type": "stream",
     "text": [
      "El producto demoró 3.8413522243499756 Norte\n",
      "tiempo que lleva corriendo 4.076741604010264 Min\n",
      "El producto demoró 3.556589126586914 Norte\n",
      "tiempo que lleva corriendo 4.136018089453379 Min\n",
      "Venta Directa\n"
     ]
    },
    {
     "name": "stderr",
     "output_type": "stream",
     "text": [
      "INFO:fbprophet:Disabling daily seasonality. Run prophet with daily_seasonality=True to override this.\n",
      "INFO:fbprophet:Disabling daily seasonality. Run prophet with daily_seasonality=True to override this.\n"
     ]
    },
    {
     "name": "stdout",
     "output_type": "stream",
     "text": [
      "El producto demoró 3.3914613723754883 Venta Directa\n",
      "tiempo que lleva corriendo 4.196368618806203 Min\n"
     ]
    },
    {
     "name": "stderr",
     "output_type": "stream",
     "text": [
      "INFO:fbprophet:Disabling daily seasonality. Run prophet with daily_seasonality=True to override this.\n"
     ]
    },
    {
     "name": "stdout",
     "output_type": "stream",
     "text": [
      "El producto demoró 2.8641700744628906 Venta Directa\n",
      "tiempo que lleva corriendo 4.244113111495972 Min\n"
     ]
    },
    {
     "name": "stderr",
     "output_type": "stream",
     "text": [
      "INFO:fbprophet:Disabling daily seasonality. Run prophet with daily_seasonality=True to override this.\n"
     ]
    },
    {
     "name": "stdout",
     "output_type": "stream",
     "text": [
      "El producto demoró 3.263408660888672 Venta Directa\n",
      "tiempo que lleva corriendo 4.298519889513652 Min\n",
      "El producto demoró 2.775852680206299 Venta Directa\n",
      "tiempo que lleva corriendo 4.344784100850423 Min\n",
      "tiempo bloque completo 4.344792425632477 Min\n"
     ]
    }
   ],
   "source": [
    "df2 = pd.DataFrame(columns=['ds', 'yhat_lower', 'yhat_upper', 'yhat', 'Material','Oficina de Ventas Unifica', 'Zona de ventas.1'])\n",
    "\n",
    "Listado_de_zonas=data['Zona de ventas.1'].unique()\n",
    "\n",
    "start_time = time()\n",
    "\n",
    "\n",
    "\n",
    "for Z in Listado_de_zonas:\n",
    "#Z='Santiago'\n",
    "    print(Z)\n",
    "    dfz=Df_ubic(data,'Zona de ventas.1',Z)\n",
    "\n",
    "\n",
    "    #Crear un listado de los materiales disponibles en la dat\n",
    "\n",
    "    Listado_de_Materiales=dfz[dfz.Año==2021].Material.unique()     \n",
    "\n",
    "\n",
    "    for m in Listado_de_Materiales:\n",
    "        #m=Listado_de_Materiales[0]\n",
    "        material_time=time()\n",
    "        #print(y,m)\n",
    "\n",
    "\n",
    "        dfm=Df_ubic(dfz,\n",
    "                    'Material',m).groupby('Día natural'\n",
    "                                             ).sum().reset_index()[['Día natural',y_col]]\n",
    "\n",
    "        dfmPred=Predict_sem(dfm,8)[['ds', 'yhat_lower',\n",
    "                                    'yhat_upper', 'yhat']].tail(8)\n",
    "        #Material\n",
    "        dfmPred['Material']=[m for i in range(dfmPred.shape[0])]\n",
    "        \n",
    "        #Sucursal\n",
    "        #dfmPred['Oficina de Ventas Unifica']=[y for i in range(dfmPred.shape[0])]\n",
    "\n",
    "        #Zona\n",
    "        dfmPred['Zona de ventas.1']=[Z for i in range(dfmPred.shape[0])]\n",
    "\n",
    "        dfmPred=dfmPred.reset_index()\n",
    "        dfmPred.pop('index')\n",
    "        df2=pd.concat([df2, dfmPred])\n",
    "        print('El producto demoró',(time() - material_time),Z)\n",
    "        print('tiempo que lleva corriendo',(time() - start_time)/60, 'Min')\n",
    "\n",
    "print('tiempo bloque completo',(time() - start_time)/60, 'Min')\n"
   ]
  },
  {
   "cell_type": "code",
   "execution_count": 47,
   "id": "fb06c0fd",
   "metadata": {
    "hidden": true
   },
   "outputs": [],
   "source": [
    "df2.rename(columns = {'ds': 'Día natural', 'yhat': 'Predicción central',\n",
    "                                'yhat_upper': 'Predicción Superior',\n",
    "                                'yhat_lower': 'Predicción Inferior'}, inplace = True)"
   ]
  },
  {
   "cell_type": "markdown",
   "id": "14a59a14",
   "metadata": {
    "hidden": true
   },
   "source": [
    "### CSV SAVE "
   ]
  },
  {
   "cell_type": "code",
   "execution_count": 48,
   "id": "2a4e3269",
   "metadata": {
    "hidden": true
   },
   "outputs": [
    {
     "name": "stdout",
     "output_type": "stream",
     "text": [
      "2021-06-02\n",
      "2021-06-19\n"
     ]
    }
   ],
   "source": [
    "min_time=df2['Día natural'].min()\n",
    "min_time=str(min_time).split(' ')[0]\n",
    "print(min_time)\n",
    "max_time=df2['Día natural'].max()\n",
    "max_time=str(max_time).split(' ')[0]\n",
    "print(max_time)"
   ]
  },
  {
   "cell_type": "code",
   "execution_count": 49,
   "id": "e966269a",
   "metadata": {
    "hidden": true
   },
   "outputs": [],
   "source": [
    "df2.to_csv('Data'+min_time+' Predicción ' +max_time+ 'Zona.csv', index=False)\n"
   ]
  },
  {
   "cell_type": "markdown",
   "id": "58592ea3",
   "metadata": {},
   "source": [
    "# Canal"
   ]
  },
  {
   "cell_type": "markdown",
   "id": "1e1f9328",
   "metadata": {},
   "source": [
    "## Iteración completa Zona, Sucursal"
   ]
  },
  {
   "cell_type": "code",
   "execution_count": null,
   "id": "e18cd89c",
   "metadata": {},
   "outputs": [],
   "source": [
    "df2 = pd.DataFrame(columns=['ds', 'yhat_lower', 'yhat_upper', 'yhat', 'Material','Oficina de Ventas Unifica', 'Zona de ventas.1'])\n",
    "\n",
    "Listado_de_zonas=data['Zona de ventas.1'].unique()\n",
    "\n",
    "start_time = time()\n",
    "\n",
    "\n",
    "\n",
    "for Z in Listado_de_zonas:\n",
    "#Z='Santiago'\n",
    "    print(Z)\n",
    "    dfz=Df_ubic(data,'Zona de ventas.1',Z)\n",
    "\n",
    "    Listado_de_Sucursales=dfz[dfz['Día natural'] \n",
    "                              >datetime.date(2021, 6, 2)][\n",
    "        'Oficina de Ventas Unifica'].unique()\n",
    "\n",
    "    for y in Listado_de_Sucursales:\n",
    "        #y='Huechuraba'\n",
    "        print(y)\n",
    "        dfy=Df_ubic(dfz,'Oficina de Ventas Unifica',y)\n",
    "        \n",
    "        \n",
    "        Listado_de_Canales=dfy[dfy['Día natural'] \n",
    "                                  >datetime.date(2021, 6, 2)][\n",
    "            'Tipo de cliente'].unique()\n",
    "        \n",
    "        for c in Listado_de_Canales:\n",
    "            dfc=Df_ubic(dfy,'Tipo de cliente',c)\n",
    "\n",
    "            #Crear un listado de los materiales disponibles en la data\n",
    "\n",
    "\n",
    "            Listado_de_Materiales=dfc[dfc['Día natural'] \n",
    "                                  >datetime.date(2021, 6, 2)].Material.unique()     \n",
    "\n",
    "\n",
    "            for m in Listado_de_Materiales:\n",
    "                #m=Listado_de_Materiales[0]\n",
    "                material_time=time()\n",
    "                #print(y,m)\n",
    "\n",
    "\n",
    "                dfm=Df_ubic(dfc,\n",
    "                            'Material',m).groupby('Día natural'\n",
    "                                                     ).sum().reset_index()[['Día natural',y_col]]\n",
    "                if(dfm[\n",
    "                    dfm['Día natural']>datetime.date(2021, 1, 2)\n",
    "                        ].shape[0] >20):\n",
    "\n",
    "                    dfmPred=Predict_sem(dfm,14)[['ds', 'yhat_lower',\n",
    "                                                'yhat_upper', 'yhat']].tail(14)\n",
    "                    #Material\n",
    "                    dfmPred['Material']=[m for i in range(dfmPred.shape[0])]\n",
    "                    #Canal de ventas\n",
    "                    dfmPred['Tipo de cliente']=[c for i in range(dfmPred.shape[0])]\n",
    "\n",
    "                    #Sucursal\n",
    "                    dfmPred['Oficina de Ventas Unifica']=[y for i in range(dfmPred.shape[0])]\n",
    "\n",
    "                    #Zona\n",
    "                    dfmPred['Zona de ventas.1']=[Z for i in range(dfmPred.shape[0])]\n",
    "                    dfmPred=dfmPred.reset_index()\n",
    "                    dfmPred.pop('index')\n",
    "                    df2=pd.concat([df2, dfmPred])\n",
    "                print('El producto demoró',(time() - material_time),Z,y)\n",
    "                print('tiempo que lleva corriendo',(time() - start_time)/60, 'Min')\n",
    "\n",
    "print('tiempo bloque completo',(time() - start_time)/60, 'Min')\n"
   ]
  },
  {
   "cell_type": "code",
   "execution_count": null,
   "id": "0d4aafd2",
   "metadata": {},
   "outputs": [],
   "source": [
    "Z"
   ]
  },
  {
   "cell_type": "code",
   "execution_count": null,
   "id": "36bf4d9a",
   "metadata": {},
   "outputs": [],
   "source": [
    "y"
   ]
  },
  {
   "cell_type": "code",
   "execution_count": null,
   "id": "2aa53ce3",
   "metadata": {
    "scrolled": true
   },
   "outputs": [],
   "source": [
    "c"
   ]
  },
  {
   "cell_type": "code",
   "execution_count": null,
   "id": "8a385ec1",
   "metadata": {
    "scrolled": true
   },
   "outputs": [],
   "source": [
    "m"
   ]
  },
  {
   "cell_type": "code",
   "execution_count": null,
   "id": "c123d168",
   "metadata": {},
   "outputs": [],
   "source": [
    "dfm"
   ]
  },
  {
   "cell_type": "code",
   "execution_count": null,
   "id": "65821ccd",
   "metadata": {},
   "outputs": [],
   "source": [
    "df2.rename(columns = {'ds': 'Día natural', 'yhat': 'Predicción central',\n",
    "                                'yhat_upper': 'Predicción Superior',\n",
    "                                'yhat_lower': 'Predicción Inferior'}, inplace = True)"
   ]
  },
  {
   "cell_type": "markdown",
   "id": "3408ffe2",
   "metadata": {},
   "source": [
    "### CSV SAVE "
   ]
  },
  {
   "cell_type": "code",
   "execution_count": null,
   "id": "bc103ef0",
   "metadata": {
    "scrolled": true
   },
   "outputs": [],
   "source": [
    "min_time=df2['Día natural'].min()\n",
    "min_time=str(min_time).split(' ')[0]\n",
    "print(min_time)\n",
    "max_time=df2['Día natural'].max()\n",
    "max_time=str(max_time).split(' ')[0]\n",
    "print(max_time)"
   ]
  },
  {
   "cell_type": "code",
   "execution_count": null,
   "id": "b5f5c1e8",
   "metadata": {
    "scrolled": true
   },
   "outputs": [],
   "source": [
    "df3=Limit_fecha(df2,AÑO,MES,DIA_INIC,DIA_FIN)"
   ]
  },
  {
   "cell_type": "code",
   "execution_count": null,
   "id": "c40af765",
   "metadata": {},
   "outputs": [],
   "source": [
    "\n",
    "min_time=df3['Día natural'].min()\n",
    "min_time=str(min_time).split(' ')[0]\n",
    "print(min_time)\n",
    "max_time=df3['Día natural'].max()\n",
    "max_time=str(max_time).split(' ')[0]\n",
    "print(max_time)"
   ]
  },
  {
   "cell_type": "code",
   "execution_count": null,
   "id": "497ad696",
   "metadata": {},
   "outputs": [],
   "source": [
    "df3.to_csv('Data'+min_time+' Predicción Por CANAL ' +max_time+ 'Zona, Sucursal.csv', index=False)\n"
   ]
  },
  {
   "cell_type": "markdown",
   "id": "66e6ca42",
   "metadata": {},
   "source": [
    "## Iteración Zona"
   ]
  },
  {
   "cell_type": "code",
   "execution_count": null,
   "id": "c4f9913e",
   "metadata": {},
   "outputs": [],
   "source": [
    "df2 = pd.DataFrame(columns=['ds', 'yhat_lower', 'yhat_upper', 'yhat', 'Material','Oficina de Ventas Unifica', 'Zona de ventas.1'])\n",
    "\n",
    "Listado_de_zonas=data['Zona de ventas.1'].unique()\n",
    "\n",
    "start_time = time()\n",
    "\n",
    "\n",
    "\n",
    "for Z in Listado_de_zonas:\n",
    "#Z='Santiago'\n",
    "    print(Z)\n",
    "    dfz=Df_ubic(data,'Zona de ventas.1',Z)\n",
    "\n",
    "    Listado_de_Canales=dfz[dfz['Día natural'] \n",
    "                              >datetime.date(2021, 6, 2)][\n",
    "        'Tipo de cliente'].unique()\n",
    "    \n",
    "    \n",
    "    for c in Listado_de_Canales:\n",
    "        dfc=Df_ubic(dfz,'Tipo de cliente',c)\n",
    "\n",
    "        #Crear un listado de los materiales disponibles en la data\n",
    "        Listado_de_Materiales=dfc[dfc.Año==2021].Material.unique()     \n",
    "\n",
    "\n",
    "        for m in Listado_de_Materiales:\n",
    "            #m=Listado_de_Materiales[0]\n",
    "            material_time=time()\n",
    "            #print(y,m)\n",
    "\n",
    "\n",
    "            dfm=Df_ubic(dfc,\n",
    "                        'Material',m).groupby('Día natural'\n",
    "                                                 ).sum().reset_index()[['Día natural',y_col]]\n",
    "            if(dfm[\n",
    "                    dfm['Día natural']>datetime.date(2021, 1, 2)\n",
    "                        ].shape[0] >20):\n",
    "                dfmPred=Predict_sem(dfm,8)[['ds', 'yhat_lower',\n",
    "                                            'yhat_upper', 'yhat']].tail(8)\n",
    "                #Material\n",
    "                dfmPred['Material']=[m for i in range(dfmPred.shape[0])]\n",
    "                #Canal de ventas\n",
    "                dfmPred['Tipo de cliente']=[c for i in range(dfmPred.shape[0])]\n",
    "\n",
    "                #Sucursal\n",
    "                #dfmPred['Oficina de Ventas Unifica']=[y for i in range(dfmPred.shape[0])]\n",
    "\n",
    "                #Zona\n",
    "                dfmPred['Zona de ventas.1']=[Z for i in range(dfmPred.shape[0])]\n",
    "\n",
    "                dfmPred=dfmPred.reset_index()\n",
    "                dfmPred.pop('index')\n",
    "                df2=pd.concat([df2, dfmPred])\n",
    "            print('El producto demoró',(time() - material_time),Z,y)\n",
    "            print('tiempo que lleva corriendo',(time() - start_time)/60, 'Min')\n",
    "\n",
    "print('tiempo bloque completo',(time() - start_time)/60, 'Min')\n"
   ]
  },
  {
   "cell_type": "markdown",
   "id": "7428bb51",
   "metadata": {},
   "source": [
    "### CSV SAVE "
   ]
  },
  {
   "cell_type": "code",
   "execution_count": null,
   "id": "3e0ca6c8",
   "metadata": {},
   "outputs": [],
   "source": [
    "df2.rename(columns = {'ds': 'Día natural', 'yhat': 'Predicción central',\n",
    "                                'yhat_upper': 'Predicción Superior',\n",
    "                                'yhat_lower': 'Predicción Inferior'}, inplace = True)"
   ]
  },
  {
   "cell_type": "code",
   "execution_count": null,
   "id": "a909d0d8",
   "metadata": {
    "scrolled": true
   },
   "outputs": [],
   "source": [
    "min_time=df2['Día natural'].min()\n",
    "min_time=str(min_time).split(' ')[0]\n",
    "print(min_time)\n",
    "max_time=df2['Día natural'].max()\n",
    "max_time=str(max_time).split(' ')[0]\n",
    "print(max_time)"
   ]
  },
  {
   "cell_type": "code",
   "execution_count": null,
   "id": "881501c3",
   "metadata": {
    "scrolled": true
   },
   "outputs": [],
   "source": [
    "df3=Limit_fecha(df2,AÑO,MES,DIA_INIC,DIA_FIN)"
   ]
  },
  {
   "cell_type": "code",
   "execution_count": null,
   "id": "8affe7ff",
   "metadata": {},
   "outputs": [],
   "source": [
    "\n",
    "min_time=df3['Día natural'].min()\n",
    "min_time=str(min_time).split(' ')[0]\n",
    "print(min_time)\n",
    "max_time=df3['Día natural'].max()\n",
    "max_time=str(max_time).split(' ')[0]\n",
    "print(max_time)"
   ]
  },
  {
   "cell_type": "code",
   "execution_count": null,
   "id": "ac64d2be",
   "metadata": {},
   "outputs": [],
   "source": [
    "df3.to_csv('Data'+min_time+' Predicción Por CANAL ' +max_time+ 'Zona.csv', index=False)\n"
   ]
  },
  {
   "cell_type": "markdown",
   "id": "64bfc3a5",
   "metadata": {
    "heading_collapsed": true
   },
   "source": [
    "# DEmanda"
   ]
  },
  {
   "cell_type": "code",
   "execution_count": null,
   "id": "64562f87",
   "metadata": {
    "hidden": true
   },
   "outputs": [],
   "source": []
  },
  {
   "cell_type": "code",
   "execution_count": null,
   "id": "db4bffdf",
   "metadata": {
    "hidden": true,
    "scrolled": true
   },
   "outputs": [],
   "source": [
    "#Nombre del producto\n",
    "Fecha='08_06_21'\n",
    "\n",
    "# =============================================================================\n",
    "# Ajuste de los datos\n",
    "# =============================================================================\n",
    "File_name='Data 08_06_21 Predicción CL 2021-06-14'\n",
    "col_names=pd.read_csv(\"Data/\"+File_name+\".csv\",\n",
    "                    encoding=\"utf-8\",sep=\";\",nrows=0).columns\n",
    "types_dict = {col: str for col in col_names}\n",
    "\n",
    "Data = pd.read_csv(\"Data/\"+File_name+\".csv\",\n",
    "                   encoding=\"utf-8\",sep=\",\",dtype=types_dict)\n",
    "Data.head(1)"
   ]
  },
  {
   "cell_type": "code",
   "execution_count": null,
   "id": "2e2ce135",
   "metadata": {
    "hidden": true,
    "scrolled": false
   },
   "outputs": [],
   "source": [
    "Data.groupby('Material').sum()"
   ]
  }
 ],
 "metadata": {
  "kernelspec": {
   "display_name": "Python 3",
   "language": "python",
   "name": "python3"
  },
  "language_info": {
   "codemirror_mode": {
    "name": "ipython",
    "version": 3
   },
   "file_extension": ".py",
   "mimetype": "text/x-python",
   "name": "python",
   "nbconvert_exporter": "python",
   "pygments_lexer": "ipython3",
   "version": "3.8.8"
  },
  "toc": {
   "base_numbering": 1,
   "nav_menu": {
    "height": "246px",
    "width": "191px"
   },
   "number_sections": true,
   "sideBar": true,
   "skip_h1_title": false,
   "title_cell": "Table of Contents",
   "title_sidebar": "Contents",
   "toc_cell": false,
   "toc_position": {
    "height": "720.822px",
    "left": "23.9792px",
    "top": "110.278px",
    "width": "330.966px"
   },
   "toc_section_display": true,
   "toc_window_display": true
  }
 },
 "nbformat": 4,
 "nbformat_minor": 5
}
