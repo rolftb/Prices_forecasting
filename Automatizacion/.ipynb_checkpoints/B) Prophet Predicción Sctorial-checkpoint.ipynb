{
 "cells": [
  {
   "cell_type": "markdown",
   "id": "80590ae6",
   "metadata": {},
   "source": [
    "# Información previa\n",
    "\n"
   ]
  },
  {
   "cell_type": "markdown",
   "id": "cb5cc9ef",
   "metadata": {},
   "source": [
    "## datos\n",
    "faltan en pollo 1010130 y 1010387\n",
    "\n",
    "\n",
    "## Diseño y esquema codigo"
   ]
  },
  {
   "cell_type": "markdown",
   "id": "17ae62ca",
   "metadata": {
    "heading_collapsed": true
   },
   "source": [
    "## Apuntes Cod "
   ]
  },
  {
   "cell_type": "markdown",
   "id": "a2ec96bf",
   "metadata": {
    "hidden": true
   },
   "source": [
    "```{python}\n",
    "Data['Peso neto KG']=Data['Peso neto'].str.split('KG', expand=True)[[0]]\n",
    "Data.pop('Peso neto')\n",
    "Data['Cantidad Unidades CJ']=Data['Cantidad Unidades'].str.split('CJ', expand=True)[[0]]\n",
    "Data.pop('Cantidad Unidades')\n",
    "Data['Precio Unitario CLP / KG']=Data['Precio Unitario'].str.split('CLP / KG', expand=True)[[0]]\n",
    "\n",
    "\n",
    "\n",
    "    if(x[len(x)-3:]=='USD'):\n",
    "        x=x.split(' USD')[1]\n",
    "    elif(x[len(x)-3:]=='CLP'):\n",
    "        x=x.split(' CLP')[1]\n",
    "\n",
    "\n",
    "```"
   ]
  },
  {
   "cell_type": "markdown",
   "id": "1ed6a797",
   "metadata": {
    "heading_collapsed": true
   },
   "source": [
    "## Este es un extracto del paper:\n",
    " \n",
    "\n",
    "\t\n",
    "Ventas pasadas con retraso  k, es decir, ventas diarias para el SKU considerado de los últimos k días (tw k : ventana de tiempo de tamaño k ).\n",
    "\n",
    "\t\n",
    "* Variables binarias para caracterizar días especiales, como:\n",
    "    * Pago , que caracteriza los días al final de cada mes cuando las personas reciben el pago mensual.\n",
    "    * Pago intermedio , que caracteriza los días al final de cada quincena en que las personas reciben dos pagos semanales.\n",
    "    * Antes de las vacaciones , caracterizando los días antes de las vacaciones.\n",
    "    * Vacaciones , que caracterizan las vacaciones.\n",
    "    * Independencia , que caracteriza los días de la independencia de Chile (18 y 19 de septiembre).\n",
    "    * Santa , caracterizando los días de la semana antes del este.\n",
    "    * Vacaciones , caracterizando los días que pertenecen al período de vacaciones de verano (enero y febrero).\n",
    "    * Verano , que caracteriza los días de verano (1 de octubre-31 de marzo).\t\n",
    "    * Año nuevo (1 de enero), que caracteriza el único día de cierre de supermercados en Chile.\n",
    "\t\n",
    "\t\n",
    "* Variables de precio:\n",
    "    * Precio A  =  precio original del SKU considerado en Economax.\n",
    "    * Precio B  =  (Precio A) / (Precio máximo en micro-mercado).\n",
    "    * Precio C  =  (Precio A) / (Precio mínimo en micro-mercado).\n",
    "\n",
    "\t\t\n",
    "Observación : Las variables “Precio máximo en micro-mercado” y “Precio mínimo en micro-mercado” son el precio máximo (mínimo) para un determinado SKU en el micro-mercado relevante y son proporcionados por una empresa de investigación de mercado.\n",
    "\t\t\n",
    "\t\n",
    "\n",
    "\t\n",
    " "
   ]
  },
  {
   "cell_type": "markdown",
   "id": "33f26efe",
   "metadata": {},
   "source": [
    "# Package Install & Open Data\n"
   ]
  },
  {
   "cell_type": "markdown",
   "id": "6dc45620",
   "metadata": {},
   "source": [
    "## Import"
   ]
  },
  {
   "cell_type": "markdown",
   "id": "3daa5668",
   "metadata": {},
   "source": [
    "### import general "
   ]
  },
  {
   "cell_type": "code",
   "execution_count": 1,
   "id": "82536652",
   "metadata": {},
   "outputs": [],
   "source": [
    "# =============================================================================\n",
    "# Importar paquetes y abrir Data\n",
    "# =============================================================================\n",
    "\n",
    "#gestion DF\n",
    "import pandas as pd\n",
    "\n",
    "#Funciones mat y matricicales\n",
    "import numpy as np\n",
    "\n",
    "#ploteo simple\n",
    "import matplotlib.pyplot as plt\n",
    "\n",
    "# Graficas bonitas\n",
    "from plotnine import *\n",
    "\n",
    "#para ajustar las fechas\n",
    "import datetime\n",
    "\n",
    "#para calcular el skew de un array() o list()\n",
    "from scipy.stats import skew \n",
    "\n",
    "#mode function\n",
    "import statistics \n",
    "\n",
    "from mizani.breaks import date_breaks\n",
    "from mizani.formatters import date_format"
   ]
  },
  {
   "cell_type": "code",
   "execution_count": 2,
   "id": "774b67f3",
   "metadata": {},
   "outputs": [],
   "source": [
    "from time import time"
   ]
  },
  {
   "cell_type": "markdown",
   "id": "16235866",
   "metadata": {},
   "source": [
    "### import and function "
   ]
  },
  {
   "cell_type": "code",
   "execution_count": 3,
   "id": "0bea17cb",
   "metadata": {},
   "outputs": [
    {
     "name": "stderr",
     "output_type": "stream",
     "text": [
      "Importing plotly failed. Interactive plots will not work.\n"
     ]
    }
   ],
   "source": [
    "\n",
    "import warnings\n",
    "import pandas as pd\n",
    "import matplotlib.pyplot as plt\n",
    "# prophet model \n",
    "from fbprophet import Prophet\n",
    "# prophet preformance\n",
    "from fbprophet.diagnostics import cross_validation\n",
    "from fbprophet.diagnostics import performance_metrics\n",
    "from fbprophet.plot import plot_cross_validation_metric\n",
    "\n",
    "# don't do this \n",
    "warnings.filterwarnings('ignore')\n",
    "# \"high resolution\"\n",
    "%config InlineBackend.figure_format = 'retina'"
   ]
  },
  {
   "cell_type": "markdown",
   "id": "9d9b6e0a",
   "metadata": {},
   "source": [
    "##  Data Facturación"
   ]
  },
  {
   "cell_type": "markdown",
   "id": "99b31bd0",
   "metadata": {},
   "source": [
    "Link de descarga de BW\n",
    "\n",
    "[08_06_21_Fact_CL_Mater_Canales_10_06_21](https://gestion.agrosuper.cl/irj/servlet/prt/portal/prtroot/pcd!3aportal_content!2fcom.sap.pct!2fplatform_add_ons!2fcom.sap.ip.bi!2fiViews!2fcom.sap.ip.bi.bex?BOOKMARK=4V7XT6V546W73QKC7BVTLKF4Y)"
   ]
  },
  {
   "cell_type": "markdown",
   "id": "8a6b61e3",
   "metadata": {},
   "source": [
    "### Selección de la zona de estudio "
   ]
  },
  {
   "cell_type": "code",
   "execution_count": 4,
   "id": "1ad8fa31",
   "metadata": {
    "scrolled": true
   },
   "outputs": [
    {
     "data": {
      "text/html": [
       "<div>\n",
       "<style scoped>\n",
       "    .dataframe tbody tr th:only-of-type {\n",
       "        vertical-align: middle;\n",
       "    }\n",
       "\n",
       "    .dataframe tbody tr th {\n",
       "        vertical-align: top;\n",
       "    }\n",
       "\n",
       "    .dataframe thead th {\n",
       "        text-align: right;\n",
       "    }\n",
       "</style>\n",
       "<table border=\"1\" class=\"dataframe\">\n",
       "  <thead>\n",
       "    <tr style=\"text-align: right;\">\n",
       "      <th></th>\n",
       "      <th>Sector</th>\n",
       "      <th>Material</th>\n",
       "      <th>Tipo de cliente</th>\n",
       "      <th>Zona de ventas</th>\n",
       "      <th>Zona de ventas.1</th>\n",
       "      <th>Oficina de Ventas Unifica</th>\n",
       "      <th>Oficina de Ventas Unifica.1</th>\n",
       "      <th>Mes</th>\n",
       "      <th>Año natural/Semana</th>\n",
       "      <th>Día natural</th>\n",
       "      <th>Día de la semana</th>\n",
       "      <th>Kilos Venta KG</th>\n",
       "      <th>Venta Neta</th>\n",
       "      <th>Precio Promedio</th>\n",
       "    </tr>\n",
       "  </thead>\n",
       "  <tbody>\n",
       "    <tr>\n",
       "      <th>0</th>\n",
       "      <td>Cerdo</td>\n",
       "      <td>1020253</td>\n",
       "      <td>Tradicional</td>\n",
       "      <td>Z001</td>\n",
       "      <td>Santiago</td>\n",
       "      <td>Huechuraba</td>\n",
       "      <td>T101</td>\n",
       "      <td>1</td>\n",
       "      <td>01.2019</td>\n",
       "      <td>02.01.2019</td>\n",
       "      <td>MI</td>\n",
       "      <td>36</td>\n",
       "      <td>81.788 CLP</td>\n",
       "      <td>2.250 CLP</td>\n",
       "    </tr>\n",
       "  </tbody>\n",
       "</table>\n",
       "</div>"
      ],
      "text/plain": [
       "  Sector Material Tipo de cliente Zona de ventas Zona de ventas.1  \\\n",
       "0  Cerdo  1020253     Tradicional           Z001         Santiago   \n",
       "\n",
       "  Oficina de Ventas Unifica Oficina de Ventas Unifica.1 Mes  \\\n",
       "0                Huechuraba                        T101   1   \n",
       "\n",
       "  Año natural/Semana Día natural Día de la semana Kilos Venta KG  Venta Neta  \\\n",
       "0            01.2019  02.01.2019               MI             36  81.788 CLP   \n",
       "\n",
       "  Precio Promedio  \n",
       "0       2.250 CLP  "
      ]
     },
     "execution_count": 4,
     "metadata": {},
     "output_type": "execute_result"
    }
   ],
   "source": [
    "#Nombre del producto\n",
    "Fecha='08_06_21'\n",
    "\n",
    "# =============================================================================\n",
    "# Ajuste de los datos\n",
    "# =============================================================================\n",
    "File_name='Fact_CL_Mater_Canales_'+Fecha\n",
    "col_names=pd.read_csv(\"Data/\"+File_name+\".csv\",\n",
    "                    encoding=\"utf-8\",sep=\";\",nrows=0).columns\n",
    "types_dict = {col: str for col in col_names}\n",
    "\n",
    "Data = pd.read_csv(\"Data/\"+File_name+\".csv\",\n",
    "                   encoding=\"utf-8\",sep=\";\",dtype=types_dict)\n",
    "Data.head(1)"
   ]
  },
  {
   "cell_type": "markdown",
   "id": "28a39a98",
   "metadata": {},
   "source": [
    "### Ajuste facturaciones"
   ]
  },
  {
   "cell_type": "code",
   "execution_count": 5,
   "id": "bb6fe285",
   "metadata": {},
   "outputs": [],
   "source": [
    "# =============================================================================\n",
    "# Ajustar la data\n",
    "# =============================================================================\n",
    "def Ajuste_data(data):\n",
    "    df=data.copy()\n",
    "    # Funciones para eliminar los putos y cambiar las , por .\n",
    "    def categ_uniq(x):\n",
    "        return x[len(x)-3:]\n",
    "\n",
    "    df['Unidad Venta']=df['Venta Neta'].apply(categ_uniq)\n",
    "    df['Unidad Precio']=df['Precio Promedio'].apply(categ_uniq)\n",
    "    \n",
    "    def CLP_Dolar(x):\n",
    "        x=str(x)\n",
    "        x=x.replace('.', '')\n",
    "        x=x.replace(',', '.')\n",
    "        if(x[len(x)-3:]=='USD'):\n",
    "            x=x.split(' USD')[0]\n",
    "            x=float(x)\n",
    "            #x=x*720\n",
    "        elif(x[len(x)-3:]=='CLP'):\n",
    "            x=x.split(' CLP')[0]\n",
    "            x=float(x)\n",
    "        return x\n",
    "    \n",
    "    def change_num_point(x):\n",
    "        x=str(x)\n",
    "        return x.replace('.', '')\n",
    "    def change_num_coma(x):\n",
    "        x=str(x)\n",
    "        return x.replace(',', '.')\n",
    "    def delete_asterisco(x):\n",
    "        x=str(x)\n",
    "        return x.replace('*','0' )\n",
    "    \n",
    "    #proceso iterativo, \n",
    "    for i in ['Kilos Venta KG','Venta Neta','Precio Promedio']:\n",
    "    # se elimina el punto definido para los miles\n",
    "        if(i!='Kilos Venta KG'):\n",
    "            df[i]=df[i].apply(CLP_Dolar)\n",
    "        else:\n",
    "            df[i]=df[i].apply(change_num_point)\n",
    "            # se reemplaza la coma por un punto, para definir los decimales correctamente\n",
    "            df[i]=df[i].apply(change_num_coma)\n",
    "        # se elimina el valor * \n",
    "        df[i]=df[i].apply(delete_asterisco)\n",
    "        df[i]=df[i].astype('float64')\n",
    "        # Se pasa de ser un str a un int\n",
    "        print(i)\n",
    "        #df[i]=df[i].astype('int64')\n",
    "\n",
    "    #Separacion fecha\n",
    "    df['Semana']=df['Año natural/Semana'].str.split('.', expand=True)[[0]]\n",
    "    df['Año']=df['Año natural/Semana'].str.split('.', expand=True)[[1]]\n",
    "\n",
    "    df['Semana']=df['Semana'].astype('int64')\n",
    "    df['Año']=df['Año'].astype('int64')\n",
    "    \n",
    "    #\n",
    "    df[\"Día natural\"] = df[\"Día natural\"].apply(lambda x: \n",
    "                                                datetime.datetime.strptime(x,\n",
    "                                                                           '%d.%m.%Y').date())\n",
    "    df['Año']=df['Año'].astype('int64')\n",
    "    return df"
   ]
  },
  {
   "cell_type": "code",
   "execution_count": 6,
   "id": "e74380c6",
   "metadata": {
    "scrolled": false
   },
   "outputs": [
    {
     "name": "stdout",
     "output_type": "stream",
     "text": [
      "Kilos Venta KG\n",
      "Venta Neta\n",
      "Precio Promedio\n"
     ]
    },
    {
     "data": {
      "text/html": [
       "<div>\n",
       "<style scoped>\n",
       "    .dataframe tbody tr th:only-of-type {\n",
       "        vertical-align: middle;\n",
       "    }\n",
       "\n",
       "    .dataframe tbody tr th {\n",
       "        vertical-align: top;\n",
       "    }\n",
       "\n",
       "    .dataframe thead th {\n",
       "        text-align: right;\n",
       "    }\n",
       "</style>\n",
       "<table border=\"1\" class=\"dataframe\">\n",
       "  <thead>\n",
       "    <tr style=\"text-align: right;\">\n",
       "      <th></th>\n",
       "      <th>Sector</th>\n",
       "      <th>Material</th>\n",
       "      <th>Tipo de cliente</th>\n",
       "      <th>Zona de ventas</th>\n",
       "      <th>Zona de ventas.1</th>\n",
       "      <th>Oficina de Ventas Unifica</th>\n",
       "      <th>Oficina de Ventas Unifica.1</th>\n",
       "      <th>Mes</th>\n",
       "      <th>Año natural/Semana</th>\n",
       "      <th>Día natural</th>\n",
       "      <th>Día de la semana</th>\n",
       "      <th>Kilos Venta KG</th>\n",
       "      <th>Venta Neta</th>\n",
       "      <th>Precio Promedio</th>\n",
       "      <th>Unidad Venta</th>\n",
       "      <th>Unidad Precio</th>\n",
       "      <th>Semana</th>\n",
       "      <th>Año</th>\n",
       "    </tr>\n",
       "  </thead>\n",
       "  <tbody>\n",
       "    <tr>\n",
       "      <th>0</th>\n",
       "      <td>Cerdo</td>\n",
       "      <td>1020253</td>\n",
       "      <td>Tradicional</td>\n",
       "      <td>Z001</td>\n",
       "      <td>Santiago</td>\n",
       "      <td>Huechuraba</td>\n",
       "      <td>T101</td>\n",
       "      <td>1</td>\n",
       "      <td>01.2019</td>\n",
       "      <td>2019-01-02</td>\n",
       "      <td>MI</td>\n",
       "      <td>36.0</td>\n",
       "      <td>81788.0</td>\n",
       "      <td>2250.0</td>\n",
       "      <td>CLP</td>\n",
       "      <td>CLP</td>\n",
       "      <td>1</td>\n",
       "      <td>2019</td>\n",
       "    </tr>\n",
       "    <tr>\n",
       "      <th>1</th>\n",
       "      <td>Cerdo</td>\n",
       "      <td>1020253</td>\n",
       "      <td>Tradicional</td>\n",
       "      <td>Z001</td>\n",
       "      <td>Santiago</td>\n",
       "      <td>Huechuraba</td>\n",
       "      <td>T101</td>\n",
       "      <td>1</td>\n",
       "      <td>01.2019</td>\n",
       "      <td>2019-01-03</td>\n",
       "      <td>JU</td>\n",
       "      <td>333.0</td>\n",
       "      <td>583204.0</td>\n",
       "      <td>1750.0</td>\n",
       "      <td>CLP</td>\n",
       "      <td>CLP</td>\n",
       "      <td>1</td>\n",
       "      <td>2019</td>\n",
       "    </tr>\n",
       "    <tr>\n",
       "      <th>2</th>\n",
       "      <td>Cerdo</td>\n",
       "      <td>1020253</td>\n",
       "      <td>Tradicional</td>\n",
       "      <td>Z001</td>\n",
       "      <td>Santiago</td>\n",
       "      <td>Huechuraba</td>\n",
       "      <td>T101</td>\n",
       "      <td>1</td>\n",
       "      <td>01.2019</td>\n",
       "      <td>2019-01-05</td>\n",
       "      <td>SA</td>\n",
       "      <td>219.0</td>\n",
       "      <td>397031.0</td>\n",
       "      <td>1815.0</td>\n",
       "      <td>CLP</td>\n",
       "      <td>CLP</td>\n",
       "      <td>1</td>\n",
       "      <td>2019</td>\n",
       "    </tr>\n",
       "  </tbody>\n",
       "</table>\n",
       "</div>"
      ],
      "text/plain": [
       "  Sector Material Tipo de cliente Zona de ventas Zona de ventas.1  \\\n",
       "0  Cerdo  1020253     Tradicional           Z001         Santiago   \n",
       "1  Cerdo  1020253     Tradicional           Z001         Santiago   \n",
       "2  Cerdo  1020253     Tradicional           Z001         Santiago   \n",
       "\n",
       "  Oficina de Ventas Unifica Oficina de Ventas Unifica.1 Mes  \\\n",
       "0                Huechuraba                        T101   1   \n",
       "1                Huechuraba                        T101   1   \n",
       "2                Huechuraba                        T101   1   \n",
       "\n",
       "  Año natural/Semana Día natural Día de la semana  Kilos Venta KG  Venta Neta  \\\n",
       "0            01.2019  2019-01-02               MI            36.0     81788.0   \n",
       "1            01.2019  2019-01-03               JU           333.0    583204.0   \n",
       "2            01.2019  2019-01-05               SA           219.0    397031.0   \n",
       "\n",
       "   Precio Promedio Unidad Venta Unidad Precio  Semana   Año  \n",
       "0           2250.0          CLP           CLP       1  2019  \n",
       "1           1750.0          CLP           CLP       1  2019  \n",
       "2           1815.0          CLP           CLP       1  2019  "
      ]
     },
     "execution_count": 6,
     "metadata": {},
     "output_type": "execute_result"
    }
   ],
   "source": [
    "data1=Ajuste_data(Data)\n",
    "data1.head(3)\n",
    "#data=<data[data['Año']>2018]"
   ]
  },
  {
   "cell_type": "markdown",
   "id": "b8170fcb",
   "metadata": {},
   "source": [
    "##  Data Facturación Concatena a la anterior\n",
    "Link de descarga de BW\n",
    "[08_06_21_Fact_CL_Mater_Canales_10_06_21](https://gestion.agrosuper.cl/irj/servlet/prt/portal/prtroot/pcd!3aportal_content!2fcom.sap.pct!2fplatform_add_ons!2fcom.sap.ip.bi!2fiViews!2fcom.sap.ip.bi.bex?BOOKMARK=4V7XT6V546W73QKC7BVTLKF4Y)\n",
    "\n",
    "Contiene las facturaciones siguientes de todo chile para el listado de productos y para los canales de venta:\n",
    "Foodservices; Canal Tradicional; Industriales; GRandes Clientes"
   ]
  },
  {
   "cell_type": "markdown",
   "id": "5087ab34",
   "metadata": {},
   "source": [
    "### Selección de la zona de estudio "
   ]
  },
  {
   "cell_type": "code",
   "execution_count": 7,
   "id": "60785669",
   "metadata": {
    "scrolled": false
   },
   "outputs": [
    {
     "data": {
      "text/html": [
       "<div>\n",
       "<style scoped>\n",
       "    .dataframe tbody tr th:only-of-type {\n",
       "        vertical-align: middle;\n",
       "    }\n",
       "\n",
       "    .dataframe tbody tr th {\n",
       "        vertical-align: top;\n",
       "    }\n",
       "\n",
       "    .dataframe thead th {\n",
       "        text-align: right;\n",
       "    }\n",
       "</style>\n",
       "<table border=\"1\" class=\"dataframe\">\n",
       "  <thead>\n",
       "    <tr style=\"text-align: right;\">\n",
       "      <th></th>\n",
       "      <th>Sector</th>\n",
       "      <th>Material</th>\n",
       "      <th>Tipo de cliente</th>\n",
       "      <th>Zona de ventas</th>\n",
       "      <th>Zona de ventas.1</th>\n",
       "      <th>Oficina de Ventas Unifica</th>\n",
       "      <th>Oficina de Ventas Unifica.1</th>\n",
       "      <th>Mes</th>\n",
       "      <th>Año natural/Semana</th>\n",
       "      <th>Día natural</th>\n",
       "      <th>Día de la semana</th>\n",
       "      <th>Kilos Venta KG</th>\n",
       "      <th>Venta Neta</th>\n",
       "      <th>Precio Promedio</th>\n",
       "    </tr>\n",
       "  </thead>\n",
       "  <tbody>\n",
       "    <tr>\n",
       "      <th>0</th>\n",
       "      <td>Cerdo</td>\n",
       "      <td>1020253</td>\n",
       "      <td>Tradicional</td>\n",
       "      <td>Z001</td>\n",
       "      <td>Santiago</td>\n",
       "      <td>Huechuraba</td>\n",
       "      <td>T101</td>\n",
       "      <td>6</td>\n",
       "      <td>23.2021</td>\n",
       "      <td>08.06.2021</td>\n",
       "      <td>MA</td>\n",
       "      <td>273</td>\n",
       "      <td>697.541 CLP</td>\n",
       "      <td>2.555 CLP</td>\n",
       "    </tr>\n",
       "  </tbody>\n",
       "</table>\n",
       "</div>"
      ],
      "text/plain": [
       "  Sector Material Tipo de cliente Zona de ventas Zona de ventas.1  \\\n",
       "0  Cerdo  1020253     Tradicional           Z001         Santiago   \n",
       "\n",
       "  Oficina de Ventas Unifica Oficina de Ventas Unifica.1 Mes  \\\n",
       "0                Huechuraba                        T101   6   \n",
       "\n",
       "  Año natural/Semana Día natural Día de la semana Kilos Venta KG   Venta Neta  \\\n",
       "0            23.2021  08.06.2021               MA            273  697.541 CLP   \n",
       "\n",
       "  Precio Promedio  \n",
       "0       2.555 CLP  "
      ]
     },
     "execution_count": 7,
     "metadata": {},
     "output_type": "execute_result"
    }
   ],
   "source": [
    "#Nombre del producto\n",
    "Fecha='08_06_21'\n",
    "Fecha_fin='10_06_21'\n",
    "# =============================================================================\n",
    "# Ajuste de los datos\n",
    "# =============================================================================\n",
    "File_name=Fecha+'_Fact_CL_Mater_Canales_'+Fecha_fin\n",
    "col_names=pd.read_csv(\"Data/\"+File_name+\".csv\",\n",
    "                    encoding=\"utf-8\",sep=\";\",nrows=0).columns\n",
    "types_dict = {col: str for col in col_names}\n",
    "\n",
    "Data2 = pd.read_csv(\"Data/\"+File_name+\".csv\",\n",
    "                   encoding=\"utf-8\",sep=\";\",dtype=types_dict)\n",
    "Data2.head(1)"
   ]
  },
  {
   "cell_type": "code",
   "execution_count": 8,
   "id": "4d8a50f7",
   "metadata": {
    "scrolled": true
   },
   "outputs": [
    {
     "name": "stdout",
     "output_type": "stream",
     "text": [
      "Kilos Venta KG\n",
      "Venta Neta\n",
      "Precio Promedio\n"
     ]
    }
   ],
   "source": [
    "data2=Ajuste_data(Data2)"
   ]
  },
  {
   "cell_type": "markdown",
   "id": "5e267913",
   "metadata": {},
   "source": [
    "## Unificar "
   ]
  },
  {
   "cell_type": "markdown",
   "id": "55d890d1",
   "metadata": {},
   "source": [
    "### Primera y ultima fecha "
   ]
  },
  {
   "cell_type": "code",
   "execution_count": 9,
   "id": "1e2fa2cc",
   "metadata": {
    "scrolled": true
   },
   "outputs": [
    {
     "data": {
      "text/plain": [
       "datetime.date(2021, 6, 10)"
      ]
     },
     "execution_count": 9,
     "metadata": {},
     "output_type": "execute_result"
    }
   ],
   "source": [
    "data2['Día natural'].max()"
   ]
  },
  {
   "cell_type": "code",
   "execution_count": 10,
   "id": "19e8cf3f",
   "metadata": {},
   "outputs": [
    {
     "data": {
      "text/plain": [
       "datetime.date(2021, 6, 8)"
      ]
     },
     "execution_count": 10,
     "metadata": {},
     "output_type": "execute_result"
    }
   ],
   "source": [
    "data2['Día natural'].min()"
   ]
  },
  {
   "cell_type": "code",
   "execution_count": 11,
   "id": "c4a91bfb",
   "metadata": {},
   "outputs": [
    {
     "data": {
      "text/plain": [
       "datetime.date(2021, 6, 7)"
      ]
     },
     "execution_count": 11,
     "metadata": {},
     "output_type": "execute_result"
    }
   ],
   "source": [
    "data1['Día natural'].max()"
   ]
  },
  {
   "cell_type": "code",
   "execution_count": 12,
   "id": "a357e839",
   "metadata": {},
   "outputs": [
    {
     "data": {
      "text/plain": [
       "datetime.date(2019, 1, 2)"
      ]
     },
     "execution_count": 12,
     "metadata": {},
     "output_type": "execute_result"
    }
   ],
   "source": [
    "data1['Día natural'].min()"
   ]
  },
  {
   "cell_type": "markdown",
   "id": "f7f9cb59",
   "metadata": {},
   "source": [
    "### Concatenar "
   ]
  },
  {
   "cell_type": "code",
   "execution_count": 13,
   "id": "0c35035e",
   "metadata": {},
   "outputs": [
    {
     "data": {
      "text/html": [
       "<div>\n",
       "<style scoped>\n",
       "    .dataframe tbody tr th:only-of-type {\n",
       "        vertical-align: middle;\n",
       "    }\n",
       "\n",
       "    .dataframe tbody tr th {\n",
       "        vertical-align: top;\n",
       "    }\n",
       "\n",
       "    .dataframe thead th {\n",
       "        text-align: right;\n",
       "    }\n",
       "</style>\n",
       "<table border=\"1\" class=\"dataframe\">\n",
       "  <thead>\n",
       "    <tr style=\"text-align: right;\">\n",
       "      <th></th>\n",
       "      <th>Sector</th>\n",
       "      <th>Material</th>\n",
       "      <th>Tipo de cliente</th>\n",
       "      <th>Zona de ventas</th>\n",
       "      <th>Zona de ventas.1</th>\n",
       "      <th>Oficina de Ventas Unifica</th>\n",
       "      <th>Oficina de Ventas Unifica.1</th>\n",
       "      <th>Mes</th>\n",
       "      <th>Año natural/Semana</th>\n",
       "      <th>Día natural</th>\n",
       "      <th>Día de la semana</th>\n",
       "      <th>Kilos Venta KG</th>\n",
       "      <th>Venta Neta</th>\n",
       "      <th>Precio Promedio</th>\n",
       "      <th>Unidad Venta</th>\n",
       "      <th>Unidad Precio</th>\n",
       "      <th>Semana</th>\n",
       "      <th>Año</th>\n",
       "    </tr>\n",
       "  </thead>\n",
       "  <tbody>\n",
       "    <tr>\n",
       "      <th>count</th>\n",
       "      <td>448607</td>\n",
       "      <td>448607</td>\n",
       "      <td>448607</td>\n",
       "      <td>448607</td>\n",
       "      <td>448607</td>\n",
       "      <td>448607</td>\n",
       "      <td>448607</td>\n",
       "      <td>448607</td>\n",
       "      <td>448607</td>\n",
       "      <td>448607</td>\n",
       "      <td>448607</td>\n",
       "      <td>448607.000000</td>\n",
       "      <td>4.486070e+05</td>\n",
       "      <td>448607.000000</td>\n",
       "      <td>448607</td>\n",
       "      <td>448607</td>\n",
       "      <td>448607.000000</td>\n",
       "      <td>448607.000000</td>\n",
       "    </tr>\n",
       "    <tr>\n",
       "      <th>unique</th>\n",
       "      <td>2</td>\n",
       "      <td>13</td>\n",
       "      <td>4</td>\n",
       "      <td>6</td>\n",
       "      <td>6</td>\n",
       "      <td>34</td>\n",
       "      <td>34</td>\n",
       "      <td>12</td>\n",
       "      <td>128</td>\n",
       "      <td>787</td>\n",
       "      <td>7</td>\n",
       "      <td>NaN</td>\n",
       "      <td>NaN</td>\n",
       "      <td>NaN</td>\n",
       "      <td>3</td>\n",
       "      <td>3</td>\n",
       "      <td>NaN</td>\n",
       "      <td>NaN</td>\n",
       "    </tr>\n",
       "    <tr>\n",
       "      <th>top</th>\n",
       "      <td>Pollo</td>\n",
       "      <td>1010078</td>\n",
       "      <td>Tradicional</td>\n",
       "      <td>Z003</td>\n",
       "      <td>Centro Sur</td>\n",
       "      <td>Concepcion</td>\n",
       "      <td>T104</td>\n",
       "      <td>3</td>\n",
       "      <td>49.2019</td>\n",
       "      <td>2019-04-18</td>\n",
       "      <td>MI</td>\n",
       "      <td>NaN</td>\n",
       "      <td>NaN</td>\n",
       "      <td>NaN</td>\n",
       "      <td>CLP</td>\n",
       "      <td>CLP</td>\n",
       "      <td>NaN</td>\n",
       "      <td>NaN</td>\n",
       "    </tr>\n",
       "    <tr>\n",
       "      <th>freq</th>\n",
       "      <td>238394</td>\n",
       "      <td>52060</td>\n",
       "      <td>210121</td>\n",
       "      <td>124249</td>\n",
       "      <td>124249</td>\n",
       "      <td>22929</td>\n",
       "      <td>22929</td>\n",
       "      <td>49744</td>\n",
       "      <td>4061</td>\n",
       "      <td>731</td>\n",
       "      <td>77973</td>\n",
       "      <td>NaN</td>\n",
       "      <td>NaN</td>\n",
       "      <td>NaN</td>\n",
       "      <td>448203</td>\n",
       "      <td>448203</td>\n",
       "      <td>NaN</td>\n",
       "      <td>NaN</td>\n",
       "    </tr>\n",
       "    <tr>\n",
       "      <th>mean</th>\n",
       "      <td>NaN</td>\n",
       "      <td>NaN</td>\n",
       "      <td>NaN</td>\n",
       "      <td>NaN</td>\n",
       "      <td>NaN</td>\n",
       "      <td>NaN</td>\n",
       "      <td>NaN</td>\n",
       "      <td>NaN</td>\n",
       "      <td>NaN</td>\n",
       "      <td>NaN</td>\n",
       "      <td>NaN</td>\n",
       "      <td>606.918650</td>\n",
       "      <td>9.591914e+05</td>\n",
       "      <td>1848.723141</td>\n",
       "      <td>NaN</td>\n",
       "      <td>NaN</td>\n",
       "      <td>23.719300</td>\n",
       "      <td>2019.759799</td>\n",
       "    </tr>\n",
       "    <tr>\n",
       "      <th>std</th>\n",
       "      <td>NaN</td>\n",
       "      <td>NaN</td>\n",
       "      <td>NaN</td>\n",
       "      <td>NaN</td>\n",
       "      <td>NaN</td>\n",
       "      <td>NaN</td>\n",
       "      <td>NaN</td>\n",
       "      <td>NaN</td>\n",
       "      <td>NaN</td>\n",
       "      <td>NaN</td>\n",
       "      <td>NaN</td>\n",
       "      <td>1244.343844</td>\n",
       "      <td>1.801083e+06</td>\n",
       "      <td>724.057727</td>\n",
       "      <td>NaN</td>\n",
       "      <td>NaN</td>\n",
       "      <td>15.081673</td>\n",
       "      <td>0.731496</td>\n",
       "    </tr>\n",
       "    <tr>\n",
       "      <th>min</th>\n",
       "      <td>NaN</td>\n",
       "      <td>NaN</td>\n",
       "      <td>NaN</td>\n",
       "      <td>NaN</td>\n",
       "      <td>NaN</td>\n",
       "      <td>NaN</td>\n",
       "      <td>NaN</td>\n",
       "      <td>NaN</td>\n",
       "      <td>NaN</td>\n",
       "      <td>NaN</td>\n",
       "      <td>NaN</td>\n",
       "      <td>0.000000</td>\n",
       "      <td>0.000000e+00</td>\n",
       "      <td>0.000000</td>\n",
       "      <td>NaN</td>\n",
       "      <td>NaN</td>\n",
       "      <td>1.000000</td>\n",
       "      <td>2019.000000</td>\n",
       "    </tr>\n",
       "    <tr>\n",
       "      <th>25%</th>\n",
       "      <td>NaN</td>\n",
       "      <td>NaN</td>\n",
       "      <td>NaN</td>\n",
       "      <td>NaN</td>\n",
       "      <td>NaN</td>\n",
       "      <td>NaN</td>\n",
       "      <td>NaN</td>\n",
       "      <td>NaN</td>\n",
       "      <td>NaN</td>\n",
       "      <td>NaN</td>\n",
       "      <td>NaN</td>\n",
       "      <td>67.000000</td>\n",
       "      <td>1.205190e+05</td>\n",
       "      <td>1307.000000</td>\n",
       "      <td>NaN</td>\n",
       "      <td>NaN</td>\n",
       "      <td>11.000000</td>\n",
       "      <td>2019.000000</td>\n",
       "    </tr>\n",
       "    <tr>\n",
       "      <th>50%</th>\n",
       "      <td>NaN</td>\n",
       "      <td>NaN</td>\n",
       "      <td>NaN</td>\n",
       "      <td>NaN</td>\n",
       "      <td>NaN</td>\n",
       "      <td>NaN</td>\n",
       "      <td>NaN</td>\n",
       "      <td>NaN</td>\n",
       "      <td>NaN</td>\n",
       "      <td>NaN</td>\n",
       "      <td>NaN</td>\n",
       "      <td>200.000000</td>\n",
       "      <td>3.466360e+05</td>\n",
       "      <td>1685.000000</td>\n",
       "      <td>NaN</td>\n",
       "      <td>NaN</td>\n",
       "      <td>21.000000</td>\n",
       "      <td>2020.000000</td>\n",
       "    </tr>\n",
       "    <tr>\n",
       "      <th>75%</th>\n",
       "      <td>NaN</td>\n",
       "      <td>NaN</td>\n",
       "      <td>NaN</td>\n",
       "      <td>NaN</td>\n",
       "      <td>NaN</td>\n",
       "      <td>NaN</td>\n",
       "      <td>NaN</td>\n",
       "      <td>NaN</td>\n",
       "      <td>NaN</td>\n",
       "      <td>NaN</td>\n",
       "      <td>NaN</td>\n",
       "      <td>555.000000</td>\n",
       "      <td>9.715850e+05</td>\n",
       "      <td>2277.000000</td>\n",
       "      <td>NaN</td>\n",
       "      <td>NaN</td>\n",
       "      <td>36.000000</td>\n",
       "      <td>2020.000000</td>\n",
       "    </tr>\n",
       "    <tr>\n",
       "      <th>max</th>\n",
       "      <td>NaN</td>\n",
       "      <td>NaN</td>\n",
       "      <td>NaN</td>\n",
       "      <td>NaN</td>\n",
       "      <td>NaN</td>\n",
       "      <td>NaN</td>\n",
       "      <td>NaN</td>\n",
       "      <td>NaN</td>\n",
       "      <td>NaN</td>\n",
       "      <td>NaN</td>\n",
       "      <td>NaN</td>\n",
       "      <td>38890.000000</td>\n",
       "      <td>6.880883e+07</td>\n",
       "      <td>13567.000000</td>\n",
       "      <td>NaN</td>\n",
       "      <td>NaN</td>\n",
       "      <td>53.000000</td>\n",
       "      <td>2021.000000</td>\n",
       "    </tr>\n",
       "  </tbody>\n",
       "</table>\n",
       "</div>"
      ],
      "text/plain": [
       "        Sector Material Tipo de cliente Zona de ventas Zona de ventas.1  \\\n",
       "count   448607   448607          448607         448607           448607   \n",
       "unique       2       13               4              6                6   \n",
       "top      Pollo  1010078     Tradicional           Z003       Centro Sur   \n",
       "freq    238394    52060          210121         124249           124249   \n",
       "mean       NaN      NaN             NaN            NaN              NaN   \n",
       "std        NaN      NaN             NaN            NaN              NaN   \n",
       "min        NaN      NaN             NaN            NaN              NaN   \n",
       "25%        NaN      NaN             NaN            NaN              NaN   \n",
       "50%        NaN      NaN             NaN            NaN              NaN   \n",
       "75%        NaN      NaN             NaN            NaN              NaN   \n",
       "max        NaN      NaN             NaN            NaN              NaN   \n",
       "\n",
       "       Oficina de Ventas Unifica Oficina de Ventas Unifica.1     Mes  \\\n",
       "count                     448607                      448607  448607   \n",
       "unique                        34                          34      12   \n",
       "top                   Concepcion                        T104       3   \n",
       "freq                       22929                       22929   49744   \n",
       "mean                         NaN                         NaN     NaN   \n",
       "std                          NaN                         NaN     NaN   \n",
       "min                          NaN                         NaN     NaN   \n",
       "25%                          NaN                         NaN     NaN   \n",
       "50%                          NaN                         NaN     NaN   \n",
       "75%                          NaN                         NaN     NaN   \n",
       "max                          NaN                         NaN     NaN   \n",
       "\n",
       "       Año natural/Semana Día natural Día de la semana  Kilos Venta KG  \\\n",
       "count              448607      448607           448607   448607.000000   \n",
       "unique                128         787                7             NaN   \n",
       "top               49.2019  2019-04-18               MI             NaN   \n",
       "freq                 4061         731            77973             NaN   \n",
       "mean                  NaN         NaN              NaN      606.918650   \n",
       "std                   NaN         NaN              NaN     1244.343844   \n",
       "min                   NaN         NaN              NaN        0.000000   \n",
       "25%                   NaN         NaN              NaN       67.000000   \n",
       "50%                   NaN         NaN              NaN      200.000000   \n",
       "75%                   NaN         NaN              NaN      555.000000   \n",
       "max                   NaN         NaN              NaN    38890.000000   \n",
       "\n",
       "          Venta Neta  Precio Promedio Unidad Venta Unidad Precio  \\\n",
       "count   4.486070e+05    448607.000000       448607        448607   \n",
       "unique           NaN              NaN            3             3   \n",
       "top              NaN              NaN          CLP           CLP   \n",
       "freq             NaN              NaN       448203        448203   \n",
       "mean    9.591914e+05      1848.723141          NaN           NaN   \n",
       "std     1.801083e+06       724.057727          NaN           NaN   \n",
       "min     0.000000e+00         0.000000          NaN           NaN   \n",
       "25%     1.205190e+05      1307.000000          NaN           NaN   \n",
       "50%     3.466360e+05      1685.000000          NaN           NaN   \n",
       "75%     9.715850e+05      2277.000000          NaN           NaN   \n",
       "max     6.880883e+07     13567.000000          NaN           NaN   \n",
       "\n",
       "               Semana            Año  \n",
       "count   448607.000000  448607.000000  \n",
       "unique            NaN            NaN  \n",
       "top               NaN            NaN  \n",
       "freq              NaN            NaN  \n",
       "mean        23.719300    2019.759799  \n",
       "std         15.081673       0.731496  \n",
       "min          1.000000    2019.000000  \n",
       "25%         11.000000    2019.000000  \n",
       "50%         21.000000    2020.000000  \n",
       "75%         36.000000    2020.000000  \n",
       "max         53.000000    2021.000000  "
      ]
     },
     "execution_count": 13,
     "metadata": {},
     "output_type": "execute_result"
    }
   ],
   "source": [
    "data=pd.concat([data1, data2])\n",
    "data.describe(include='all')"
   ]
  },
  {
   "cell_type": "code",
   "execution_count": 14,
   "id": "22e7cbd9",
   "metadata": {},
   "outputs": [
    {
     "data": {
      "text/plain": [
       "datetime.date(2019, 1, 2)"
      ]
     },
     "execution_count": 14,
     "metadata": {},
     "output_type": "execute_result"
    }
   ],
   "source": [
    "data['Día natural'].min()"
   ]
  },
  {
   "cell_type": "code",
   "execution_count": 15,
   "id": "53495744",
   "metadata": {},
   "outputs": [
    {
     "data": {
      "text/plain": [
       "datetime.date(2021, 6, 10)"
      ]
     },
     "execution_count": 15,
     "metadata": {},
     "output_type": "execute_result"
    }
   ],
   "source": [
    "data['Día natural'].max()"
   ]
  },
  {
   "cell_type": "markdown",
   "id": "0372244d",
   "metadata": {},
   "source": [
    "# Predicción  Prophet\n"
   ]
  },
  {
   "cell_type": "code",
   "execution_count": 16,
   "id": "bc444ce2",
   "metadata": {
    "scrolled": false
   },
   "outputs": [],
   "source": [
    "y_col='Kilos Venta KG'\n",
    "y_value='Volumen de ventas en KG'\n",
    "y_title= 'Demanda'+'del canal tradicion'"
   ]
  },
  {
   "cell_type": "markdown",
   "id": "6684566a",
   "metadata": {},
   "source": [
    "## Descripción "
   ]
  },
  {
   "cell_type": "code",
   "execution_count": 17,
   "id": "4aefecf7",
   "metadata": {
    "scrolled": false
   },
   "outputs": [
    {
     "data": {
      "text/html": [
       "<div>\n",
       "<style scoped>\n",
       "    .dataframe tbody tr th:only-of-type {\n",
       "        vertical-align: middle;\n",
       "    }\n",
       "\n",
       "    .dataframe tbody tr th {\n",
       "        vertical-align: top;\n",
       "    }\n",
       "\n",
       "    .dataframe thead th {\n",
       "        text-align: right;\n",
       "    }\n",
       "</style>\n",
       "<table border=\"1\" class=\"dataframe\">\n",
       "  <thead>\n",
       "    <tr style=\"text-align: right;\">\n",
       "      <th></th>\n",
       "      <th>Sector</th>\n",
       "      <th>Material</th>\n",
       "      <th>Tipo de cliente</th>\n",
       "      <th>Zona de ventas</th>\n",
       "      <th>Zona de ventas.1</th>\n",
       "      <th>Oficina de Ventas Unifica</th>\n",
       "      <th>Oficina de Ventas Unifica.1</th>\n",
       "      <th>Mes</th>\n",
       "      <th>Año natural/Semana</th>\n",
       "      <th>Día natural</th>\n",
       "      <th>Día de la semana</th>\n",
       "      <th>Kilos Venta KG</th>\n",
       "      <th>Venta Neta</th>\n",
       "      <th>Precio Promedio</th>\n",
       "      <th>Unidad Venta</th>\n",
       "      <th>Unidad Precio</th>\n",
       "      <th>Semana</th>\n",
       "      <th>Año</th>\n",
       "    </tr>\n",
       "  </thead>\n",
       "  <tbody>\n",
       "    <tr>\n",
       "      <th>0</th>\n",
       "      <td>Cerdo</td>\n",
       "      <td>1020253</td>\n",
       "      <td>Tradicional</td>\n",
       "      <td>Z001</td>\n",
       "      <td>Santiago</td>\n",
       "      <td>Huechuraba</td>\n",
       "      <td>T101</td>\n",
       "      <td>1</td>\n",
       "      <td>01.2019</td>\n",
       "      <td>2019-01-02</td>\n",
       "      <td>MI</td>\n",
       "      <td>36.0</td>\n",
       "      <td>81788.0</td>\n",
       "      <td>2250.0</td>\n",
       "      <td>CLP</td>\n",
       "      <td>CLP</td>\n",
       "      <td>1</td>\n",
       "      <td>2019</td>\n",
       "    </tr>\n",
       "    <tr>\n",
       "      <th>1</th>\n",
       "      <td>Cerdo</td>\n",
       "      <td>1020253</td>\n",
       "      <td>Tradicional</td>\n",
       "      <td>Z001</td>\n",
       "      <td>Santiago</td>\n",
       "      <td>Huechuraba</td>\n",
       "      <td>T101</td>\n",
       "      <td>1</td>\n",
       "      <td>01.2019</td>\n",
       "      <td>2019-01-03</td>\n",
       "      <td>JU</td>\n",
       "      <td>333.0</td>\n",
       "      <td>583204.0</td>\n",
       "      <td>1750.0</td>\n",
       "      <td>CLP</td>\n",
       "      <td>CLP</td>\n",
       "      <td>1</td>\n",
       "      <td>2019</td>\n",
       "    </tr>\n",
       "    <tr>\n",
       "      <th>2</th>\n",
       "      <td>Cerdo</td>\n",
       "      <td>1020253</td>\n",
       "      <td>Tradicional</td>\n",
       "      <td>Z001</td>\n",
       "      <td>Santiago</td>\n",
       "      <td>Huechuraba</td>\n",
       "      <td>T101</td>\n",
       "      <td>1</td>\n",
       "      <td>01.2019</td>\n",
       "      <td>2019-01-05</td>\n",
       "      <td>SA</td>\n",
       "      <td>219.0</td>\n",
       "      <td>397031.0</td>\n",
       "      <td>1815.0</td>\n",
       "      <td>CLP</td>\n",
       "      <td>CLP</td>\n",
       "      <td>1</td>\n",
       "      <td>2019</td>\n",
       "    </tr>\n",
       "    <tr>\n",
       "      <th>3</th>\n",
       "      <td>Cerdo</td>\n",
       "      <td>1020253</td>\n",
       "      <td>Tradicional</td>\n",
       "      <td>Z001</td>\n",
       "      <td>Santiago</td>\n",
       "      <td>Huechuraba</td>\n",
       "      <td>T101</td>\n",
       "      <td>1</td>\n",
       "      <td>02.2019</td>\n",
       "      <td>2019-01-07</td>\n",
       "      <td>LU</td>\n",
       "      <td>128.0</td>\n",
       "      <td>258591.0</td>\n",
       "      <td>2017.0</td>\n",
       "      <td>CLP</td>\n",
       "      <td>CLP</td>\n",
       "      <td>2</td>\n",
       "      <td>2019</td>\n",
       "    </tr>\n",
       "    <tr>\n",
       "      <th>4</th>\n",
       "      <td>Cerdo</td>\n",
       "      <td>1020253</td>\n",
       "      <td>Tradicional</td>\n",
       "      <td>Z001</td>\n",
       "      <td>Santiago</td>\n",
       "      <td>Huechuraba</td>\n",
       "      <td>T101</td>\n",
       "      <td>1</td>\n",
       "      <td>02.2019</td>\n",
       "      <td>2019-01-08</td>\n",
       "      <td>MA</td>\n",
       "      <td>95.0</td>\n",
       "      <td>210790.0</td>\n",
       "      <td>2223.0</td>\n",
       "      <td>CLP</td>\n",
       "      <td>CLP</td>\n",
       "      <td>2</td>\n",
       "      <td>2019</td>\n",
       "    </tr>\n",
       "  </tbody>\n",
       "</table>\n",
       "</div>"
      ],
      "text/plain": [
       "  Sector Material Tipo de cliente Zona de ventas Zona de ventas.1  \\\n",
       "0  Cerdo  1020253     Tradicional           Z001         Santiago   \n",
       "1  Cerdo  1020253     Tradicional           Z001         Santiago   \n",
       "2  Cerdo  1020253     Tradicional           Z001         Santiago   \n",
       "3  Cerdo  1020253     Tradicional           Z001         Santiago   \n",
       "4  Cerdo  1020253     Tradicional           Z001         Santiago   \n",
       "\n",
       "  Oficina de Ventas Unifica Oficina de Ventas Unifica.1 Mes  \\\n",
       "0                Huechuraba                        T101   1   \n",
       "1                Huechuraba                        T101   1   \n",
       "2                Huechuraba                        T101   1   \n",
       "3                Huechuraba                        T101   1   \n",
       "4                Huechuraba                        T101   1   \n",
       "\n",
       "  Año natural/Semana Día natural Día de la semana  Kilos Venta KG  Venta Neta  \\\n",
       "0            01.2019  2019-01-02               MI            36.0     81788.0   \n",
       "1            01.2019  2019-01-03               JU           333.0    583204.0   \n",
       "2            01.2019  2019-01-05               SA           219.0    397031.0   \n",
       "3            02.2019  2019-01-07               LU           128.0    258591.0   \n",
       "4            02.2019  2019-01-08               MA            95.0    210790.0   \n",
       "\n",
       "   Precio Promedio Unidad Venta Unidad Precio  Semana   Año  \n",
       "0           2250.0          CLP           CLP       1  2019  \n",
       "1           1750.0          CLP           CLP       1  2019  \n",
       "2           1815.0          CLP           CLP       1  2019  \n",
       "3           2017.0          CLP           CLP       2  2019  \n",
       "4           2223.0          CLP           CLP       2  2019  "
      ]
     },
     "execution_count": 17,
     "metadata": {},
     "output_type": "execute_result"
    }
   ],
   "source": [
    "data.head()"
   ]
  },
  {
   "cell_type": "code",
   "execution_count": 18,
   "id": "4659c906",
   "metadata": {},
   "outputs": [
    {
     "data": {
      "text/plain": [
       "Index(['Sector', 'Material', 'Tipo de cliente', 'Zona de ventas',\n",
       "       'Zona de ventas.1', 'Oficina de Ventas Unifica',\n",
       "       'Oficina de Ventas Unifica.1', 'Mes', 'Año natural/Semana',\n",
       "       'Día natural', 'Día de la semana', 'Kilos Venta KG', 'Venta Neta',\n",
       "       'Precio Promedio', 'Unidad Venta', 'Unidad Precio', 'Semana', 'Año'],\n",
       "      dtype='object')"
      ]
     },
     "execution_count": 18,
     "metadata": {},
     "output_type": "execute_result"
    }
   ],
   "source": [
    "data.columns"
   ]
  },
  {
   "cell_type": "code",
   "execution_count": 19,
   "id": "3a4c5fee",
   "metadata": {},
   "outputs": [
    {
     "name": "stdout",
     "output_type": "stream",
     "text": [
      "['Tradicional' 'Industriales' 'Grandes Clientes' 'Foodservice']\n",
      "['Santiago' 'Centro Norte' 'Centro Sur' 'Sur' 'Norte' 'Venta Directa']\n",
      "['Huechuraba' 'Lo Espejo' 'Quilin' 'Sucursal Miraflores' 'Coquimbo'\n",
      " 'Hijuelas' 'Ovalle' 'San Antonio' 'San Felipe' 'Viña del Mar' 'Chillan'\n",
      " 'Concepcion' 'Curico' 'Los Angeles' 'Rancagua' 'Talca' 'Castro'\n",
      " 'Coyhaique' 'Osorno' 'Puerto Montt' 'Punta Arenas' 'Temuco' 'Valdivia'\n",
      " 'Antofagasta' 'Arica' 'Calama' 'Copiapo' 'Iquique' 'Vallenar'\n",
      " 'VD FoodService' 'VD Industrial' 'VD Grandes Clientes'\n",
      " 'Sucursal Dieciocho' 'Vendedores San Pablo']\n",
      "['1020253' '1020042' '1020027' '1020013' '1020010' '1020003' '1020001'\n",
      " '1010695' '1010267' '1010078' '1010077' '1010048' '1010002']\n"
     ]
    }
   ],
   "source": [
    "print(data['Tipo de cliente'].unique())\n",
    "print(data['Zona de ventas.1'].unique())\n",
    "print(data['Oficina de Ventas Unifica'].unique())\n",
    "print(data['Material'].unique())"
   ]
  },
  {
   "cell_type": "markdown",
   "id": "db0581c6",
   "metadata": {},
   "source": [
    "## función "
   ]
  },
  {
   "cell_type": "code",
   "execution_count": 20,
   "id": "dee5e647",
   "metadata": {},
   "outputs": [],
   "source": [
    "def Df_ubic(data_X,col,Str):\n",
    "    df=data_X.copy()\n",
    "    df=df[df[col]==Str]\n",
    "    return df"
   ]
  },
  {
   "cell_type": "code",
   "execution_count": 21,
   "id": "e93ac778",
   "metadata": {},
   "outputs": [],
   "source": [
    "def Predict_sem(D_Train,periodos=5):\n",
    "    D_Train.columns = ['ds','y']\n",
    "    \n",
    "    # convert dates from string to datetime\n",
    "    D_Train.ds = pd.to_datetime(D_Train.ds)\n",
    "    #print(D_Train.dtypes)\n",
    "    \n",
    "    # set prophet model \n",
    "    prophet = Prophet(changepoint_prior_scale=0.15, yearly_seasonality=True)\n",
    "    \n",
    "    # fit $wmt data to model\n",
    "    prophet.fit(D_Train)\n",
    "    \n",
    "    \n",
    "    \n",
    "    # build future dataframe for 5 years\n",
    "    build_forecast = prophet.make_future_dataframe(periods= periodos , freq='D')\n",
    "    #prophet.make_future_dataframe(periods= periodos, freq='D')\n",
    "    \n",
    "    # forecast future df w/ model\n",
    "    forecast = prophet.predict(build_forecast)\n",
    "    \n",
    "    return(forecast)"
   ]
  },
  {
   "cell_type": "markdown",
   "id": "a3d7b419",
   "metadata": {},
   "source": [
    "## Predicción de todo chile"
   ]
  },
  {
   "cell_type": "code",
   "execution_count": 22,
   "id": "efa3d7dc",
   "metadata": {
    "scrolled": false
   },
   "outputs": [
    {
     "name": "stderr",
     "output_type": "stream",
     "text": [
      "INFO:fbprophet:Disabling daily seasonality. Run prophet with daily_seasonality=True to override this.\n",
      "INFO:fbprophet:Disabling daily seasonality. Run prophet with daily_seasonality=True to override this.\n",
      "INFO:fbprophet:Disabling daily seasonality. Run prophet with daily_seasonality=True to override this.\n",
      "INFO:fbprophet:Disabling daily seasonality. Run prophet with daily_seasonality=True to override this.\n",
      "INFO:fbprophet:Disabling daily seasonality. Run prophet with daily_seasonality=True to override this.\n",
      "INFO:fbprophet:Disabling daily seasonality. Run prophet with daily_seasonality=True to override this.\n",
      "INFO:fbprophet:Disabling daily seasonality. Run prophet with daily_seasonality=True to override this.\n",
      "INFO:fbprophet:Disabling daily seasonality. Run prophet with daily_seasonality=True to override this.\n",
      "INFO:fbprophet:Disabling daily seasonality. Run prophet with daily_seasonality=True to override this.\n",
      "INFO:fbprophet:Disabling daily seasonality. Run prophet with daily_seasonality=True to override this.\n",
      "INFO:fbprophet:Disabling daily seasonality. Run prophet with daily_seasonality=True to override this.\n",
      "INFO:fbprophet:Disabling daily seasonality. Run prophet with daily_seasonality=True to override this.\n",
      "INFO:fbprophet:Disabling daily seasonality. Run prophet with daily_seasonality=True to override this.\n"
     ]
    },
    {
     "data": {
      "text/html": [
       "<div>\n",
       "<style scoped>\n",
       "    .dataframe tbody tr th:only-of-type {\n",
       "        vertical-align: middle;\n",
       "    }\n",
       "\n",
       "    .dataframe tbody tr th {\n",
       "        vertical-align: top;\n",
       "    }\n",
       "\n",
       "    .dataframe thead th {\n",
       "        text-align: right;\n",
       "    }\n",
       "</style>\n",
       "<table border=\"1\" class=\"dataframe\">\n",
       "  <thead>\n",
       "    <tr style=\"text-align: right;\">\n",
       "      <th></th>\n",
       "      <th>Día natural</th>\n",
       "      <th>Predicción Inferior</th>\n",
       "      <th>Predicción Superior</th>\n",
       "      <th>Predicción central</th>\n",
       "      <th>Material</th>\n",
       "      <th>Sector</th>\n",
       "    </tr>\n",
       "  </thead>\n",
       "  <tbody>\n",
       "    <tr>\n",
       "      <th>0</th>\n",
       "      <td>2021-06-11</td>\n",
       "      <td>11733.930000</td>\n",
       "      <td>20838.159100</td>\n",
       "      <td>16362.465771</td>\n",
       "      <td>1020253</td>\n",
       "      <td>Cerdo</td>\n",
       "    </tr>\n",
       "    <tr>\n",
       "      <th>1</th>\n",
       "      <td>2021-06-12</td>\n",
       "      <td>8851.467104</td>\n",
       "      <td>17761.312187</td>\n",
       "      <td>13360.443015</td>\n",
       "      <td>1020253</td>\n",
       "      <td>Cerdo</td>\n",
       "    </tr>\n",
       "    <tr>\n",
       "      <th>2</th>\n",
       "      <td>2021-06-13</td>\n",
       "      <td>1376.600619</td>\n",
       "      <td>10757.494146</td>\n",
       "      <td>6303.194323</td>\n",
       "      <td>1020253</td>\n",
       "      <td>Cerdo</td>\n",
       "    </tr>\n",
       "    <tr>\n",
       "      <th>3</th>\n",
       "      <td>2021-06-14</td>\n",
       "      <td>5930.226617</td>\n",
       "      <td>15001.082073</td>\n",
       "      <td>10386.701705</td>\n",
       "      <td>1020253</td>\n",
       "      <td>Cerdo</td>\n",
       "    </tr>\n",
       "    <tr>\n",
       "      <th>4</th>\n",
       "      <td>2021-06-15</td>\n",
       "      <td>7987.259513</td>\n",
       "      <td>17153.353251</td>\n",
       "      <td>12425.170828</td>\n",
       "      <td>1020253</td>\n",
       "      <td>Cerdo</td>\n",
       "    </tr>\n",
       "  </tbody>\n",
       "</table>\n",
       "</div>"
      ],
      "text/plain": [
       "  Día natural  Predicción Inferior  Predicción Superior  Predicción central  \\\n",
       "0  2021-06-11         11733.930000         20838.159100        16362.465771   \n",
       "1  2021-06-12          8851.467104         17761.312187        13360.443015   \n",
       "2  2021-06-13          1376.600619         10757.494146         6303.194323   \n",
       "3  2021-06-14          5930.226617         15001.082073        10386.701705   \n",
       "4  2021-06-15          7987.259513         17153.353251        12425.170828   \n",
       "\n",
       "  Material Sector  \n",
       "0  1020253  Cerdo  \n",
       "1  1020253  Cerdo  \n",
       "2  1020253  Cerdo  \n",
       "3  1020253  Cerdo  \n",
       "4  1020253  Cerdo  "
      ]
     },
     "execution_count": 22,
     "metadata": {},
     "output_type": "execute_result"
    }
   ],
   "source": [
    "#inicializa con un Data Frame vacio\n",
    "df2 = pd.DataFrame(columns=['ds', 'yhat_lower', 'yhat_upper', 'yhat',\n",
    "                            'Material'])\n",
    "\n",
    "df2.rename(columns = {'ds': 'Día natural', 'yhat': 'Predicción central',\n",
    "                                'yhat_upper': 'Predicción Superior',\n",
    "                                'yhat_lower': 'Predicción Inferior'}, inplace = True)\n",
    "\n",
    "#Crear un listado de los materiales disponibles en la data\n",
    "Listado_de_Materiales=data['Material'].unique()\n",
    "\n",
    "for m in Listado_de_Materiales:\n",
    "    #m=Listado_de_Materiales[0]\n",
    "    dfm=Df_ubic(data,'Material',m).groupby('Día natural').sum().reset_index()[['Día natural',y_col]]\n",
    "    \n",
    "    #Realizar predicción\n",
    "    dfmPred=Predict_sem(dfm,7)[['ds', 'yhat_lower', 'yhat_upper', 'yhat']].tail(7)\n",
    "    dfmPred.rename(columns = {'ds': 'Día natural', 'yhat': 'Predicción central',\n",
    "                                'yhat_upper': 'Predicción Superior',\n",
    "                                'yhat_lower': 'Predicción Inferior'}, inplace = True)\n",
    "    dfmPred['Material']=[m for i in range(dfmPred.shape[0])]\n",
    "    \n",
    "    #Sector del producto(Tipo de carne)\n",
    "    Sec=Df_ubic(data,'Material',m).Sector.unique()[0]\n",
    "    dfmPred['Sector']=[Sec for i in range(dfmPred.shape[0])]\n",
    "    \n",
    "    dfmPred=dfmPred.reset_index()\n",
    "    dfmPred.pop('index')\n",
    "    df2=pd.concat([df2, dfmPred])\n",
    "\n",
    "    \n",
    "df2.head()"
   ]
  },
  {
   "cell_type": "markdown",
   "id": "3a42dae4",
   "metadata": {},
   "source": [
    "### CSV SAVE"
   ]
  },
  {
   "cell_type": "code",
   "execution_count": 42,
   "id": "f5aaa79b",
   "metadata": {},
   "outputs": [
    {
     "name": "stdout",
     "output_type": "stream",
     "text": [
      "2021-06-11\n",
      "2021-06-17\n"
     ]
    }
   ],
   "source": [
    "\n",
    "min_time=df2['Día natural'].min()\n",
    "min_time=str(min_time).split(' ')[0]\n",
    "print(min_time)\n",
    "max_time=df2['Día natural'].max()\n",
    "max_time=str(max_time).split(' ')[0]\n",
    "print(max_time)"
   ]
  },
  {
   "cell_type": "code",
   "execution_count": 43,
   "id": "b962b2db",
   "metadata": {},
   "outputs": [],
   "source": [
    "#Error_DF_Sum.to_csv('E_interv_Dem.csv', index=False)\n",
    "df2.to_csv('Predicción Todo Chile del'+min_time+' al '+max_time+'.csv', index=False)"
   ]
  },
  {
   "cell_type": "markdown",
   "id": "462caeae",
   "metadata": {},
   "source": [
    "### Analisis Exploratorio"
   ]
  },
  {
   "cell_type": "code",
   "execution_count": 25,
   "id": "56720ef4",
   "metadata": {},
   "outputs": [
    {
     "data": {
      "text/html": [
       "<div>\n",
       "<style scoped>\n",
       "    .dataframe tbody tr th:only-of-type {\n",
       "        vertical-align: middle;\n",
       "    }\n",
       "\n",
       "    .dataframe tbody tr th {\n",
       "        vertical-align: top;\n",
       "    }\n",
       "\n",
       "    .dataframe thead th {\n",
       "        text-align: right;\n",
       "    }\n",
       "</style>\n",
       "<table border=\"1\" class=\"dataframe\">\n",
       "  <thead>\n",
       "    <tr style=\"text-align: right;\">\n",
       "      <th></th>\n",
       "      <th></th>\n",
       "      <th>Predicción Inferior</th>\n",
       "      <th>Predicción Superior</th>\n",
       "      <th>Predicción central</th>\n",
       "    </tr>\n",
       "    <tr>\n",
       "      <th>Material</th>\n",
       "      <th>Sector</th>\n",
       "      <th></th>\n",
       "      <th></th>\n",
       "      <th></th>\n",
       "    </tr>\n",
       "  </thead>\n",
       "  <tbody>\n",
       "    <tr>\n",
       "      <th>1010002</th>\n",
       "      <th>Pollo</th>\n",
       "      <td>57932.555045</td>\n",
       "      <td>2.146562e+05</td>\n",
       "      <td>137011.107598</td>\n",
       "    </tr>\n",
       "    <tr>\n",
       "      <th>1010048</th>\n",
       "      <th>Pollo</th>\n",
       "      <td>21337.014362</td>\n",
       "      <td>3.051651e+05</td>\n",
       "      <td>160818.119127</td>\n",
       "    </tr>\n",
       "    <tr>\n",
       "      <th>1010077</th>\n",
       "      <th>Pollo</th>\n",
       "      <td>8894.525126</td>\n",
       "      <td>5.101218e+04</td>\n",
       "      <td>30046.677691</td>\n",
       "    </tr>\n",
       "    <tr>\n",
       "      <th>1010078</th>\n",
       "      <th>Pollo</th>\n",
       "      <td>541364.438103</td>\n",
       "      <td>1.028839e+06</td>\n",
       "      <td>785193.707920</td>\n",
       "    </tr>\n",
       "    <tr>\n",
       "      <th>1010267</th>\n",
       "      <th>Pollo</th>\n",
       "      <td>127050.765389</td>\n",
       "      <td>3.354991e+05</td>\n",
       "      <td>230858.508351</td>\n",
       "    </tr>\n",
       "    <tr>\n",
       "      <th>1010695</th>\n",
       "      <th>Pollo</th>\n",
       "      <td>12309.524230</td>\n",
       "      <td>1.401293e+05</td>\n",
       "      <td>73712.807731</td>\n",
       "    </tr>\n",
       "    <tr>\n",
       "      <th>1020001</th>\n",
       "      <th>Cerdo</th>\n",
       "      <td>44271.485589</td>\n",
       "      <td>1.126997e+05</td>\n",
       "      <td>77946.587638</td>\n",
       "    </tr>\n",
       "    <tr>\n",
       "      <th>1020003</th>\n",
       "      <th>Cerdo</th>\n",
       "      <td>-19.739951</td>\n",
       "      <td>7.252059e+04</td>\n",
       "      <td>36525.124256</td>\n",
       "    </tr>\n",
       "    <tr>\n",
       "      <th>1020010</th>\n",
       "      <th>Cerdo</th>\n",
       "      <td>125917.791848</td>\n",
       "      <td>2.396958e+05</td>\n",
       "      <td>182508.164233</td>\n",
       "    </tr>\n",
       "    <tr>\n",
       "      <th>1020013</th>\n",
       "      <th>Cerdo</th>\n",
       "      <td>159583.146580</td>\n",
       "      <td>3.762617e+05</td>\n",
       "      <td>270624.564173</td>\n",
       "    </tr>\n",
       "    <tr>\n",
       "      <th>1020027</th>\n",
       "      <th>Cerdo</th>\n",
       "      <td>70240.549985</td>\n",
       "      <td>1.556437e+05</td>\n",
       "      <td>113551.809143</td>\n",
       "    </tr>\n",
       "    <tr>\n",
       "      <th>1020042</th>\n",
       "      <th>Cerdo</th>\n",
       "      <td>5963.748526</td>\n",
       "      <td>4.051376e+04</td>\n",
       "      <td>23295.139793</td>\n",
       "    </tr>\n",
       "    <tr>\n",
       "      <th>1020253</th>\n",
       "      <th>Cerdo</th>\n",
       "      <td>55619.845413</td>\n",
       "      <td>1.192620e+05</td>\n",
       "      <td>87735.442697</td>\n",
       "    </tr>\n",
       "  </tbody>\n",
       "</table>\n",
       "</div>"
      ],
      "text/plain": [
       "                 Predicción Inferior  Predicción Superior  Predicción central\n",
       "Material Sector                                                              \n",
       "1010002  Pollo          57932.555045         2.146562e+05       137011.107598\n",
       "1010048  Pollo          21337.014362         3.051651e+05       160818.119127\n",
       "1010077  Pollo           8894.525126         5.101218e+04        30046.677691\n",
       "1010078  Pollo         541364.438103         1.028839e+06       785193.707920\n",
       "1010267  Pollo         127050.765389         3.354991e+05       230858.508351\n",
       "1010695  Pollo          12309.524230         1.401293e+05        73712.807731\n",
       "1020001  Cerdo          44271.485589         1.126997e+05        77946.587638\n",
       "1020003  Cerdo            -19.739951         7.252059e+04        36525.124256\n",
       "1020010  Cerdo         125917.791848         2.396958e+05       182508.164233\n",
       "1020013  Cerdo         159583.146580         3.762617e+05       270624.564173\n",
       "1020027  Cerdo          70240.549985         1.556437e+05       113551.809143\n",
       "1020042  Cerdo           5963.748526         4.051376e+04        23295.139793\n",
       "1020253  Cerdo          55619.845413         1.192620e+05        87735.442697"
      ]
     },
     "execution_count": 25,
     "metadata": {},
     "output_type": "execute_result"
    }
   ],
   "source": [
    "df2.groupby(['Material','Sector']).sum()"
   ]
  },
  {
   "cell_type": "markdown",
   "id": "ed3cc676",
   "metadata": {},
   "source": [
    "## Predicción POR CANAL EN todo chile"
   ]
  },
  {
   "cell_type": "code",
   "execution_count": 45,
   "id": "1110c190",
   "metadata": {},
   "outputs": [
    {
     "data": {
      "text/plain": [
       "Index(['Sector', 'Material', 'Tipo de cliente', 'Zona de ventas',\n",
       "       'Zona de ventas.1', 'Oficina de Ventas Unifica',\n",
       "       'Oficina de Ventas Unifica.1', 'Mes', 'Año natural/Semana',\n",
       "       'Día natural', 'Día de la semana', 'Kilos Venta KG', 'Venta Neta',\n",
       "       'Precio Promedio', 'Unidad Venta', 'Unidad Precio', 'Semana', 'Año'],\n",
       "      dtype='object')"
      ]
     },
     "execution_count": 45,
     "metadata": {},
     "output_type": "execute_result"
    }
   ],
   "source": [
    "data.columns"
   ]
  },
  {
   "cell_type": "code",
   "execution_count": 45,
   "id": "c07ab861",
   "metadata": {
    "scrolled": true
   },
   "outputs": [
    {
     "name": "stderr",
     "output_type": "stream",
     "text": [
      "INFO:fbprophet:Disabling daily seasonality. Run prophet with daily_seasonality=True to override this.\n",
      "INFO:fbprophet:Disabling daily seasonality. Run prophet with daily_seasonality=True to override this.\n",
      "INFO:fbprophet:Disabling daily seasonality. Run prophet with daily_seasonality=True to override this.\n",
      "INFO:fbprophet:Disabling daily seasonality. Run prophet with daily_seasonality=True to override this.\n",
      "INFO:fbprophet:Disabling daily seasonality. Run prophet with daily_seasonality=True to override this.\n",
      "INFO:fbprophet:Disabling daily seasonality. Run prophet with daily_seasonality=True to override this.\n",
      "INFO:fbprophet:Disabling daily seasonality. Run prophet with daily_seasonality=True to override this.\n",
      "INFO:fbprophet:Disabling daily seasonality. Run prophet with daily_seasonality=True to override this.\n",
      "INFO:fbprophet:Disabling daily seasonality. Run prophet with daily_seasonality=True to override this.\n",
      "INFO:fbprophet:Disabling daily seasonality. Run prophet with daily_seasonality=True to override this.\n",
      "INFO:fbprophet:Disabling daily seasonality. Run prophet with daily_seasonality=True to override this.\n",
      "INFO:fbprophet:Disabling daily seasonality. Run prophet with daily_seasonality=True to override this.\n",
      "INFO:fbprophet:Disabling daily seasonality. Run prophet with daily_seasonality=True to override this.\n",
      "INFO:fbprophet:Disabling daily seasonality. Run prophet with daily_seasonality=True to override this.\n",
      "INFO:fbprophet:Disabling daily seasonality. Run prophet with daily_seasonality=True to override this.\n",
      "INFO:fbprophet:Disabling daily seasonality. Run prophet with daily_seasonality=True to override this.\n",
      "INFO:fbprophet:Disabling daily seasonality. Run prophet with daily_seasonality=True to override this.\n",
      "INFO:fbprophet:Disabling daily seasonality. Run prophet with daily_seasonality=True to override this.\n",
      "INFO:fbprophet:Disabling daily seasonality. Run prophet with daily_seasonality=True to override this.\n",
      "INFO:fbprophet:Disabling daily seasonality. Run prophet with daily_seasonality=True to override this.\n",
      "INFO:fbprophet:Disabling daily seasonality. Run prophet with daily_seasonality=True to override this.\n",
      "INFO:fbprophet:Disabling daily seasonality. Run prophet with daily_seasonality=True to override this.\n",
      "INFO:fbprophet:Disabling daily seasonality. Run prophet with daily_seasonality=True to override this.\n",
      "INFO:fbprophet:Disabling daily seasonality. Run prophet with daily_seasonality=True to override this.\n",
      "INFO:fbprophet:Disabling daily seasonality. Run prophet with daily_seasonality=True to override this.\n",
      "INFO:fbprophet:Disabling daily seasonality. Run prophet with daily_seasonality=True to override this.\n",
      "INFO:fbprophet:Disabling daily seasonality. Run prophet with daily_seasonality=True to override this.\n",
      "INFO:fbprophet:Disabling daily seasonality. Run prophet with daily_seasonality=True to override this.\n",
      "INFO:fbprophet:Disabling daily seasonality. Run prophet with daily_seasonality=True to override this.\n",
      "INFO:fbprophet:Disabling daily seasonality. Run prophet with daily_seasonality=True to override this.\n",
      "INFO:fbprophet:Disabling daily seasonality. Run prophet with daily_seasonality=True to override this.\n",
      "INFO:fbprophet:Disabling daily seasonality. Run prophet with daily_seasonality=True to override this.\n",
      "INFO:fbprophet:Disabling daily seasonality. Run prophet with daily_seasonality=True to override this.\n",
      "INFO:fbprophet:Disabling daily seasonality. Run prophet with daily_seasonality=True to override this.\n",
      "INFO:fbprophet:Disabling daily seasonality. Run prophet with daily_seasonality=True to override this.\n",
      "INFO:fbprophet:Disabling daily seasonality. Run prophet with daily_seasonality=True to override this.\n",
      "INFO:fbprophet:Disabling daily seasonality. Run prophet with daily_seasonality=True to override this.\n",
      "INFO:fbprophet:Disabling daily seasonality. Run prophet with daily_seasonality=True to override this.\n",
      "INFO:fbprophet:Disabling daily seasonality. Run prophet with daily_seasonality=True to override this.\n",
      "INFO:fbprophet:Disabling daily seasonality. Run prophet with daily_seasonality=True to override this.\n",
      "INFO:fbprophet:Disabling daily seasonality. Run prophet with daily_seasonality=True to override this.\n",
      "INFO:fbprophet:Disabling daily seasonality. Run prophet with daily_seasonality=True to override this.\n",
      "INFO:fbprophet:Disabling daily seasonality. Run prophet with daily_seasonality=True to override this.\n",
      "INFO:fbprophet:Disabling daily seasonality. Run prophet with daily_seasonality=True to override this.\n",
      "INFO:fbprophet:Disabling daily seasonality. Run prophet with daily_seasonality=True to override this.\n",
      "INFO:fbprophet:Disabling daily seasonality. Run prophet with daily_seasonality=True to override this.\n",
      "INFO:fbprophet:Disabling daily seasonality. Run prophet with daily_seasonality=True to override this.\n",
      "INFO:fbprophet:Disabling daily seasonality. Run prophet with daily_seasonality=True to override this.\n",
      "INFO:fbprophet:Disabling daily seasonality. Run prophet with daily_seasonality=True to override this.\n",
      "INFO:fbprophet:Disabling daily seasonality. Run prophet with daily_seasonality=True to override this.\n",
      "INFO:fbprophet:Disabling daily seasonality. Run prophet with daily_seasonality=True to override this.\n",
      "INFO:fbprophet:Disabling daily seasonality. Run prophet with daily_seasonality=True to override this.\n"
     ]
    },
    {
     "data": {
      "text/html": [
       "<div>\n",
       "<style scoped>\n",
       "    .dataframe tbody tr th:only-of-type {\n",
       "        vertical-align: middle;\n",
       "    }\n",
       "\n",
       "    .dataframe tbody tr th {\n",
       "        vertical-align: top;\n",
       "    }\n",
       "\n",
       "    .dataframe thead th {\n",
       "        text-align: right;\n",
       "    }\n",
       "</style>\n",
       "<table border=\"1\" class=\"dataframe\">\n",
       "  <thead>\n",
       "    <tr style=\"text-align: right;\">\n",
       "      <th></th>\n",
       "      <th>ds</th>\n",
       "      <th>yhat_lower</th>\n",
       "      <th>yhat_upper</th>\n",
       "      <th>yhat</th>\n",
       "      <th>Material</th>\n",
       "      <th>Sector</th>\n",
       "      <th>Tipo de cliente</th>\n",
       "    </tr>\n",
       "  </thead>\n",
       "  <tbody>\n",
       "    <tr>\n",
       "      <th>0</th>\n",
       "      <td>2021-06-11</td>\n",
       "      <td>8204.857638</td>\n",
       "      <td>15333.098324</td>\n",
       "      <td>11722.298957</td>\n",
       "      <td>1020253</td>\n",
       "      <td>Cerdo</td>\n",
       "      <td>Tradicional</td>\n",
       "    </tr>\n",
       "    <tr>\n",
       "      <th>1</th>\n",
       "      <td>2021-06-12</td>\n",
       "      <td>6224.759472</td>\n",
       "      <td>13170.932769</td>\n",
       "      <td>9774.491259</td>\n",
       "      <td>1020253</td>\n",
       "      <td>Cerdo</td>\n",
       "      <td>Tradicional</td>\n",
       "    </tr>\n",
       "    <tr>\n",
       "      <th>2</th>\n",
       "      <td>2021-06-13</td>\n",
       "      <td>-234.002240</td>\n",
       "      <td>7039.196331</td>\n",
       "      <td>3581.339183</td>\n",
       "      <td>1020253</td>\n",
       "      <td>Cerdo</td>\n",
       "      <td>Tradicional</td>\n",
       "    </tr>\n",
       "    <tr>\n",
       "      <th>3</th>\n",
       "      <td>2021-06-14</td>\n",
       "      <td>3170.029332</td>\n",
       "      <td>10538.586062</td>\n",
       "      <td>6871.509504</td>\n",
       "      <td>1020253</td>\n",
       "      <td>Cerdo</td>\n",
       "      <td>Tradicional</td>\n",
       "    </tr>\n",
       "    <tr>\n",
       "      <th>4</th>\n",
       "      <td>2021-06-15</td>\n",
       "      <td>4341.312902</td>\n",
       "      <td>11511.168634</td>\n",
       "      <td>8089.191285</td>\n",
       "      <td>1020253</td>\n",
       "      <td>Cerdo</td>\n",
       "      <td>Tradicional</td>\n",
       "    </tr>\n",
       "  </tbody>\n",
       "</table>\n",
       "</div>"
      ],
      "text/plain": [
       "          ds   yhat_lower    yhat_upper          yhat Material Sector  \\\n",
       "0 2021-06-11  8204.857638  15333.098324  11722.298957  1020253  Cerdo   \n",
       "1 2021-06-12  6224.759472  13170.932769   9774.491259  1020253  Cerdo   \n",
       "2 2021-06-13  -234.002240   7039.196331   3581.339183  1020253  Cerdo   \n",
       "3 2021-06-14  3170.029332  10538.586062   6871.509504  1020253  Cerdo   \n",
       "4 2021-06-15  4341.312902  11511.168634   8089.191285  1020253  Cerdo   \n",
       "\n",
       "  Tipo de cliente  \n",
       "0     Tradicional  \n",
       "1     Tradicional  \n",
       "2     Tradicional  \n",
       "3     Tradicional  \n",
       "4     Tradicional  "
      ]
     },
     "execution_count": 45,
     "metadata": {},
     "output_type": "execute_result"
    }
   ],
   "source": [
    "#inicializa con un Data Frame vacio\n",
    "df3 = pd.DataFrame(columns=['ds', 'yhat_lower', 'yhat_upper', 'yhat',\n",
    "                            'Material'])\n",
    "\n",
    "Listado_de_Canales=data['Tipo de cliente'].unique()\n",
    "\n",
    "for c in Listado_de_Canales:\n",
    "    #m=Listado_de_Materiales[0]\n",
    "    dfc=Df_ubic(data,'Tipo de cliente',c)\n",
    "\n",
    "    #Crear un listado de los materiales disponibles en la data\n",
    "    Listado_de_Materiales=dfc[dfc.Año==2021].Material.unique()     \n",
    "\n",
    "\n",
    "    for m in Listado_de_Materiales:\n",
    "        #m=Listado_de_Materiales[0]\n",
    "        dfm=Df_ubic(dfc,'Material',m).groupby('Día natural').sum().reset_index()[['Día natural',y_col]]\n",
    "\n",
    "        #Realizar predicción\n",
    "        dfmPred=Predict_sem(dfm,7)[['ds', 'yhat_lower', 'yhat_upper', 'yhat']].tail(7)\n",
    "\n",
    "        dfmPred['Material']=[m for i in range(dfmPred.shape[0])]\n",
    "\n",
    "        #Sector del producto(Tipo de carne)\n",
    "        Sec=Df_ubic(data,'Material',m).Sector.unique()[0]\n",
    "        dfmPred['Sector']=[Sec for i in range(dfmPred.shape[0])]\n",
    "        \n",
    "        #Canal de ventas\n",
    "        dfmPred['Tipo de cliente']=[c for i in range(dfmPred.shape[0])]\n",
    "        \n",
    "        dfmPred=dfmPred.reset_index()\n",
    "        dfmPred.pop('index')\n",
    "        df3=pd.concat([df3, dfmPred])\n",
    "\n",
    "    \n",
    "df3.head()"
   ]
  },
  {
   "cell_type": "code",
   "execution_count": 46,
   "id": "60272c86",
   "metadata": {},
   "outputs": [],
   "source": [
    "df3.rename(columns = {'ds': 'Día natural', 'yhat': 'Predicción central',\n",
    "                                'yhat_upper': 'Predicción Superior',\n",
    "                                'yhat_lower': 'Predicción Inferior'}, inplace = True)"
   ]
  },
  {
   "cell_type": "code",
   "execution_count": 58,
   "id": "355e171d",
   "metadata": {},
   "outputs": [
    {
     "data": {
      "text/html": [
       "<div>\n",
       "<style scoped>\n",
       "    .dataframe tbody tr th:only-of-type {\n",
       "        vertical-align: middle;\n",
       "    }\n",
       "\n",
       "    .dataframe tbody tr th {\n",
       "        vertical-align: top;\n",
       "    }\n",
       "\n",
       "    .dataframe thead th {\n",
       "        text-align: right;\n",
       "    }\n",
       "</style>\n",
       "<table border=\"1\" class=\"dataframe\">\n",
       "  <thead>\n",
       "    <tr style=\"text-align: right;\">\n",
       "      <th></th>\n",
       "      <th>Día natural</th>\n",
       "      <th>Predicción Inferior</th>\n",
       "      <th>Predicción Superior</th>\n",
       "      <th>Predicción central</th>\n",
       "      <th>Material</th>\n",
       "      <th>Sector</th>\n",
       "      <th>Tipo de cliente</th>\n",
       "    </tr>\n",
       "  </thead>\n",
       "  <tbody>\n",
       "    <tr>\n",
       "      <th>2</th>\n",
       "      <td>2021-06-13</td>\n",
       "      <td>-1506.577100</td>\n",
       "      <td>1271.787095</td>\n",
       "      <td>-102.795413</td>\n",
       "      <td>1010002</td>\n",
       "      <td>Pollo</td>\n",
       "      <td>Foodservice</td>\n",
       "    </tr>\n",
       "    <tr>\n",
       "      <th>3</th>\n",
       "      <td>2021-06-14</td>\n",
       "      <td>-781.121604</td>\n",
       "      <td>2124.659671</td>\n",
       "      <td>637.373754</td>\n",
       "      <td>1010002</td>\n",
       "      <td>Pollo</td>\n",
       "      <td>Foodservice</td>\n",
       "    </tr>\n",
       "    <tr>\n",
       "      <th>4</th>\n",
       "      <td>2021-06-15</td>\n",
       "      <td>-228.638249</td>\n",
       "      <td>2741.011555</td>\n",
       "      <td>1241.716719</td>\n",
       "      <td>1010002</td>\n",
       "      <td>Pollo</td>\n",
       "      <td>Foodservice</td>\n",
       "    </tr>\n",
       "    <tr>\n",
       "      <th>5</th>\n",
       "      <td>2021-06-16</td>\n",
       "      <td>113.272191</td>\n",
       "      <td>2961.218754</td>\n",
       "      <td>1535.828921</td>\n",
       "      <td>1010002</td>\n",
       "      <td>Pollo</td>\n",
       "      <td>Foodservice</td>\n",
       "    </tr>\n",
       "    <tr>\n",
       "      <th>6</th>\n",
       "      <td>2021-06-17</td>\n",
       "      <td>249.047291</td>\n",
       "      <td>3166.921674</td>\n",
       "      <td>1627.390444</td>\n",
       "      <td>1010002</td>\n",
       "      <td>Pollo</td>\n",
       "      <td>Foodservice</td>\n",
       "    </tr>\n",
       "  </tbody>\n",
       "</table>\n",
       "</div>"
      ],
      "text/plain": [
       "  Día natural  Predicción Inferior  Predicción Superior  Predicción central  \\\n",
       "2  2021-06-13         -1506.577100          1271.787095         -102.795413   \n",
       "3  2021-06-14          -781.121604          2124.659671          637.373754   \n",
       "4  2021-06-15          -228.638249          2741.011555         1241.716719   \n",
       "5  2021-06-16           113.272191          2961.218754         1535.828921   \n",
       "6  2021-06-17           249.047291          3166.921674         1627.390444   \n",
       "\n",
       "  Material Sector Tipo de cliente  \n",
       "2  1010002  Pollo     Foodservice  \n",
       "3  1010002  Pollo     Foodservice  \n",
       "4  1010002  Pollo     Foodservice  \n",
       "5  1010002  Pollo     Foodservice  \n",
       "6  1010002  Pollo     Foodservice  "
      ]
     },
     "execution_count": 58,
     "metadata": {},
     "output_type": "execute_result"
    }
   ],
   "source": [
    "df3.tail()"
   ]
  },
  {
   "cell_type": "markdown",
   "id": "bf4ccb0f",
   "metadata": {},
   "source": [
    "### CSV SAVE"
   ]
  },
  {
   "cell_type": "code",
   "execution_count": 57,
   "id": "57a92bfb",
   "metadata": {},
   "outputs": [
    {
     "name": "stdout",
     "output_type": "stream",
     "text": [
      "2021-06-08\n",
      "2021-06-17\n"
     ]
    }
   ],
   "source": [
    "min_time=df3['Día natural'].min()\n",
    "min_time=str(min_time).split(' ')[0]\n",
    "print(min_time)\n",
    "max_time=df3['Día natural'].max()\n",
    "max_time=str(max_time).split(' ')[0]\n",
    "print(max_time)"
   ]
  },
  {
   "cell_type": "code",
   "execution_count": 60,
   "id": "0b0a823e",
   "metadata": {},
   "outputs": [],
   "source": [
    "#Error_DF_Sum.to_csv('E_interv_Dem.csv', index=False)\n",
    "df3.to_csv('Predicción Todo Chile del '+min_time+' al '+max_time+' Diferenciando por canal.csv', index=False)"
   ]
  },
  {
   "cell_type": "markdown",
   "id": "341314a5",
   "metadata": {},
   "source": [
    "### Exploracion "
   ]
  },
  {
   "cell_type": "code",
   "execution_count": 59,
   "id": "71d8f16f",
   "metadata": {
    "scrolled": true
   },
   "outputs": [
    {
     "data": {
      "text/html": [
       "<div>\n",
       "<style scoped>\n",
       "    .dataframe tbody tr th:only-of-type {\n",
       "        vertical-align: middle;\n",
       "    }\n",
       "\n",
       "    .dataframe tbody tr th {\n",
       "        vertical-align: top;\n",
       "    }\n",
       "\n",
       "    .dataframe thead th {\n",
       "        text-align: right;\n",
       "    }\n",
       "</style>\n",
       "<table border=\"1\" class=\"dataframe\">\n",
       "  <thead>\n",
       "    <tr style=\"text-align: right;\">\n",
       "      <th></th>\n",
       "      <th>Sector</th>\n",
       "      <th>Material</th>\n",
       "      <th>Tipo de cliente</th>\n",
       "      <th>Predicción Inferior</th>\n",
       "      <th>Predicción Superior</th>\n",
       "      <th>Predicción central</th>\n",
       "    </tr>\n",
       "  </thead>\n",
       "  <tbody>\n",
       "    <tr>\n",
       "      <th>0</th>\n",
       "      <td>Cerdo</td>\n",
       "      <td>1020001</td>\n",
       "      <td>Foodservice</td>\n",
       "      <td>-761.743083</td>\n",
       "      <td>1952.748633</td>\n",
       "      <td>584.937306</td>\n",
       "    </tr>\n",
       "    <tr>\n",
       "      <th>1</th>\n",
       "      <td>Cerdo</td>\n",
       "      <td>1020001</td>\n",
       "      <td>Grandes Clientes</td>\n",
       "      <td>2844.725347</td>\n",
       "      <td>18108.044175</td>\n",
       "      <td>10543.557916</td>\n",
       "    </tr>\n",
       "    <tr>\n",
       "      <th>2</th>\n",
       "      <td>Cerdo</td>\n",
       "      <td>1020001</td>\n",
       "      <td>Industriales</td>\n",
       "      <td>-2862.523191</td>\n",
       "      <td>3714.934955</td>\n",
       "      <td>379.755226</td>\n",
       "    </tr>\n",
       "    <tr>\n",
       "      <th>3</th>\n",
       "      <td>Cerdo</td>\n",
       "      <td>1020001</td>\n",
       "      <td>Tradicional</td>\n",
       "      <td>37260.488235</td>\n",
       "      <td>93496.343306</td>\n",
       "      <td>65545.850011</td>\n",
       "    </tr>\n",
       "    <tr>\n",
       "      <th>4</th>\n",
       "      <td>Cerdo</td>\n",
       "      <td>1020003</td>\n",
       "      <td>Foodservice</td>\n",
       "      <td>945.908099</td>\n",
       "      <td>6056.702375</td>\n",
       "      <td>3448.257631</td>\n",
       "    </tr>\n",
       "    <tr>\n",
       "      <th>5</th>\n",
       "      <td>Cerdo</td>\n",
       "      <td>1020003</td>\n",
       "      <td>Grandes Clientes</td>\n",
       "      <td>-7854.398023</td>\n",
       "      <td>10225.621355</td>\n",
       "      <td>1116.149578</td>\n",
       "    </tr>\n",
       "    <tr>\n",
       "      <th>6</th>\n",
       "      <td>Cerdo</td>\n",
       "      <td>1020003</td>\n",
       "      <td>Industriales</td>\n",
       "      <td>-2064.889536</td>\n",
       "      <td>3973.363917</td>\n",
       "      <td>988.121780</td>\n",
       "    </tr>\n",
       "    <tr>\n",
       "      <th>7</th>\n",
       "      <td>Cerdo</td>\n",
       "      <td>1020003</td>\n",
       "      <td>Tradicional</td>\n",
       "      <td>1724.547672</td>\n",
       "      <td>57487.961055</td>\n",
       "      <td>29712.030379</td>\n",
       "    </tr>\n",
       "    <tr>\n",
       "      <th>8</th>\n",
       "      <td>Cerdo</td>\n",
       "      <td>1020010</td>\n",
       "      <td>Foodservice</td>\n",
       "      <td>4919.566004</td>\n",
       "      <td>29198.714012</td>\n",
       "      <td>17183.039541</td>\n",
       "    </tr>\n",
       "    <tr>\n",
       "      <th>9</th>\n",
       "      <td>Cerdo</td>\n",
       "      <td>1020010</td>\n",
       "      <td>Grandes Clientes</td>\n",
       "      <td>9250.994448</td>\n",
       "      <td>41774.643061</td>\n",
       "      <td>25571.889660</td>\n",
       "    </tr>\n",
       "    <tr>\n",
       "      <th>10</th>\n",
       "      <td>Cerdo</td>\n",
       "      <td>1020010</td>\n",
       "      <td>Industriales</td>\n",
       "      <td>-6225.001360</td>\n",
       "      <td>10398.266893</td>\n",
       "      <td>2141.179051</td>\n",
       "    </tr>\n",
       "    <tr>\n",
       "      <th>11</th>\n",
       "      <td>Cerdo</td>\n",
       "      <td>1020010</td>\n",
       "      <td>Tradicional</td>\n",
       "      <td>87628.930389</td>\n",
       "      <td>169141.166896</td>\n",
       "      <td>128188.691803</td>\n",
       "    </tr>\n",
       "    <tr>\n",
       "      <th>12</th>\n",
       "      <td>Cerdo</td>\n",
       "      <td>1020013</td>\n",
       "      <td>Foodservice</td>\n",
       "      <td>-136.850439</td>\n",
       "      <td>7602.476644</td>\n",
       "      <td>3693.227873</td>\n",
       "    </tr>\n",
       "    <tr>\n",
       "      <th>13</th>\n",
       "      <td>Cerdo</td>\n",
       "      <td>1020013</td>\n",
       "      <td>Grandes Clientes</td>\n",
       "      <td>9151.409850</td>\n",
       "      <td>86286.134422</td>\n",
       "      <td>47956.468705</td>\n",
       "    </tr>\n",
       "    <tr>\n",
       "      <th>14</th>\n",
       "      <td>Cerdo</td>\n",
       "      <td>1020013</td>\n",
       "      <td>Industriales</td>\n",
       "      <td>-8666.831334</td>\n",
       "      <td>17808.629582</td>\n",
       "      <td>4611.351057</td>\n",
       "    </tr>\n",
       "    <tr>\n",
       "      <th>15</th>\n",
       "      <td>Cerdo</td>\n",
       "      <td>1020013</td>\n",
       "      <td>Tradicional</td>\n",
       "      <td>130369.296447</td>\n",
       "      <td>289851.100918</td>\n",
       "      <td>211773.485458</td>\n",
       "    </tr>\n",
       "    <tr>\n",
       "      <th>16</th>\n",
       "      <td>Cerdo</td>\n",
       "      <td>1020027</td>\n",
       "      <td>Foodservice</td>\n",
       "      <td>-438.078993</td>\n",
       "      <td>4258.902884</td>\n",
       "      <td>1949.694629</td>\n",
       "    </tr>\n",
       "    <tr>\n",
       "      <th>17</th>\n",
       "      <td>Cerdo</td>\n",
       "      <td>1020027</td>\n",
       "      <td>Grandes Clientes</td>\n",
       "      <td>9197.004397</td>\n",
       "      <td>30798.797823</td>\n",
       "      <td>20102.219766</td>\n",
       "    </tr>\n",
       "    <tr>\n",
       "      <th>18</th>\n",
       "      <td>Cerdo</td>\n",
       "      <td>1020027</td>\n",
       "      <td>Industriales</td>\n",
       "      <td>-2766.594566</td>\n",
       "      <td>7967.426523</td>\n",
       "      <td>2553.627856</td>\n",
       "    </tr>\n",
       "    <tr>\n",
       "      <th>19</th>\n",
       "      <td>Cerdo</td>\n",
       "      <td>1020027</td>\n",
       "      <td>Tradicional</td>\n",
       "      <td>55998.019433</td>\n",
       "      <td>125050.446074</td>\n",
       "      <td>90600.509559</td>\n",
       "    </tr>\n",
       "    <tr>\n",
       "      <th>20</th>\n",
       "      <td>Cerdo</td>\n",
       "      <td>1020042</td>\n",
       "      <td>Foodservice</td>\n",
       "      <td>-491.828620</td>\n",
       "      <td>1225.474577</td>\n",
       "      <td>358.227849</td>\n",
       "    </tr>\n",
       "    <tr>\n",
       "      <th>21</th>\n",
       "      <td>Cerdo</td>\n",
       "      <td>1020042</td>\n",
       "      <td>Grandes Clientes</td>\n",
       "      <td>-2410.681159</td>\n",
       "      <td>9659.843657</td>\n",
       "      <td>3694.215428</td>\n",
       "    </tr>\n",
       "    <tr>\n",
       "      <th>22</th>\n",
       "      <td>Cerdo</td>\n",
       "      <td>1020042</td>\n",
       "      <td>Industriales</td>\n",
       "      <td>3447.562158</td>\n",
       "      <td>12845.366960</td>\n",
       "      <td>8177.075063</td>\n",
       "    </tr>\n",
       "    <tr>\n",
       "      <th>23</th>\n",
       "      <td>Cerdo</td>\n",
       "      <td>1020042</td>\n",
       "      <td>Tradicional</td>\n",
       "      <td>450.840841</td>\n",
       "      <td>24220.064138</td>\n",
       "      <td>12185.012121</td>\n",
       "    </tr>\n",
       "    <tr>\n",
       "      <th>24</th>\n",
       "      <td>Cerdo</td>\n",
       "      <td>1020253</td>\n",
       "      <td>Foodservice</td>\n",
       "      <td>11673.123852</td>\n",
       "      <td>22523.031182</td>\n",
       "      <td>17086.288664</td>\n",
       "    </tr>\n",
       "    <tr>\n",
       "      <th>25</th>\n",
       "      <td>Cerdo</td>\n",
       "      <td>1020253</td>\n",
       "      <td>Grandes Clientes</td>\n",
       "      <td>-211.033869</td>\n",
       "      <td>13919.470862</td>\n",
       "      <td>6814.570706</td>\n",
       "    </tr>\n",
       "    <tr>\n",
       "      <th>26</th>\n",
       "      <td>Cerdo</td>\n",
       "      <td>1020253</td>\n",
       "      <td>Industriales</td>\n",
       "      <td>-432.038167</td>\n",
       "      <td>6698.301527</td>\n",
       "      <td>3164.839843</td>\n",
       "    </tr>\n",
       "    <tr>\n",
       "      <th>27</th>\n",
       "      <td>Cerdo</td>\n",
       "      <td>1020253</td>\n",
       "      <td>Tradicional</td>\n",
       "      <td>34774.212613</td>\n",
       "      <td>84907.602321</td>\n",
       "      <td>59993.084723</td>\n",
       "    </tr>\n",
       "    <tr>\n",
       "      <th>28</th>\n",
       "      <td>Pollo</td>\n",
       "      <td>1010002</td>\n",
       "      <td>Foodservice</td>\n",
       "      <td>-2333.719246</td>\n",
       "      <td>17647.759045</td>\n",
       "      <td>7553.080351</td>\n",
       "    </tr>\n",
       "    <tr>\n",
       "      <th>29</th>\n",
       "      <td>Pollo</td>\n",
       "      <td>1010002</td>\n",
       "      <td>Grandes Clientes</td>\n",
       "      <td>-1476.030394</td>\n",
       "      <td>41306.245759</td>\n",
       "      <td>20065.817659</td>\n",
       "    </tr>\n",
       "    <tr>\n",
       "      <th>30</th>\n",
       "      <td>Pollo</td>\n",
       "      <td>1010002</td>\n",
       "      <td>Industriales</td>\n",
       "      <td>-1141.035522</td>\n",
       "      <td>2559.009275</td>\n",
       "      <td>706.766358</td>\n",
       "    </tr>\n",
       "    <tr>\n",
       "      <th>31</th>\n",
       "      <td>Pollo</td>\n",
       "      <td>1010002</td>\n",
       "      <td>Tradicional</td>\n",
       "      <td>55648.899291</td>\n",
       "      <td>174170.618089</td>\n",
       "      <td>115261.671586</td>\n",
       "    </tr>\n",
       "    <tr>\n",
       "      <th>32</th>\n",
       "      <td>Pollo</td>\n",
       "      <td>1010048</td>\n",
       "      <td>Foodservice</td>\n",
       "      <td>14561.799968</td>\n",
       "      <td>44301.191450</td>\n",
       "      <td>29479.728719</td>\n",
       "    </tr>\n",
       "    <tr>\n",
       "      <th>33</th>\n",
       "      <td>Pollo</td>\n",
       "      <td>1010048</td>\n",
       "      <td>Grandes Clientes</td>\n",
       "      <td>-46993.835821</td>\n",
       "      <td>52192.693205</td>\n",
       "      <td>2980.574461</td>\n",
       "    </tr>\n",
       "    <tr>\n",
       "      <th>34</th>\n",
       "      <td>Pollo</td>\n",
       "      <td>1010048</td>\n",
       "      <td>Industriales</td>\n",
       "      <td>-653.875501</td>\n",
       "      <td>4171.001387</td>\n",
       "      <td>1801.725238</td>\n",
       "    </tr>\n",
       "    <tr>\n",
       "      <th>35</th>\n",
       "      <td>Pollo</td>\n",
       "      <td>1010048</td>\n",
       "      <td>Tradicional</td>\n",
       "      <td>20720.225089</td>\n",
       "      <td>226207.499747</td>\n",
       "      <td>123869.412895</td>\n",
       "    </tr>\n",
       "    <tr>\n",
       "      <th>36</th>\n",
       "      <td>Pollo</td>\n",
       "      <td>1010077</td>\n",
       "      <td>Foodservice</td>\n",
       "      <td>-88.553518</td>\n",
       "      <td>4019.254353</td>\n",
       "      <td>1980.302851</td>\n",
       "    </tr>\n",
       "    <tr>\n",
       "      <th>37</th>\n",
       "      <td>Pollo</td>\n",
       "      <td>1010077</td>\n",
       "      <td>Grandes Clientes</td>\n",
       "      <td>-4414.250148</td>\n",
       "      <td>2771.909247</td>\n",
       "      <td>-726.148319</td>\n",
       "    </tr>\n",
       "    <tr>\n",
       "      <th>38</th>\n",
       "      <td>Pollo</td>\n",
       "      <td>1010077</td>\n",
       "      <td>Industriales</td>\n",
       "      <td>-849.977157</td>\n",
       "      <td>843.636126</td>\n",
       "      <td>8.796584</td>\n",
       "    </tr>\n",
       "    <tr>\n",
       "      <th>39</th>\n",
       "      <td>Pollo</td>\n",
       "      <td>1010077</td>\n",
       "      <td>Tradicional</td>\n",
       "      <td>9849.743037</td>\n",
       "      <td>46997.704380</td>\n",
       "      <td>28620.260764</td>\n",
       "    </tr>\n",
       "    <tr>\n",
       "      <th>40</th>\n",
       "      <td>Pollo</td>\n",
       "      <td>1010078</td>\n",
       "      <td>Foodservice</td>\n",
       "      <td>39545.343150</td>\n",
       "      <td>70627.371081</td>\n",
       "      <td>55137.396848</td>\n",
       "    </tr>\n",
       "    <tr>\n",
       "      <th>41</th>\n",
       "      <td>Pollo</td>\n",
       "      <td>1010078</td>\n",
       "      <td>Grandes Clientes</td>\n",
       "      <td>1138.401950</td>\n",
       "      <td>132149.158036</td>\n",
       "      <td>65777.423958</td>\n",
       "    </tr>\n",
       "    <tr>\n",
       "      <th>42</th>\n",
       "      <td>Pollo</td>\n",
       "      <td>1010078</td>\n",
       "      <td>Industriales</td>\n",
       "      <td>999.956701</td>\n",
       "      <td>16960.995168</td>\n",
       "      <td>8909.586590</td>\n",
       "    </tr>\n",
       "    <tr>\n",
       "      <th>43</th>\n",
       "      <td>Pollo</td>\n",
       "      <td>1010078</td>\n",
       "      <td>Tradicional</td>\n",
       "      <td>465771.683315</td>\n",
       "      <td>842633.020037</td>\n",
       "      <td>655817.049450</td>\n",
       "    </tr>\n",
       "    <tr>\n",
       "      <th>44</th>\n",
       "      <td>Pollo</td>\n",
       "      <td>1010267</td>\n",
       "      <td>Foodservice</td>\n",
       "      <td>93296.845882</td>\n",
       "      <td>188379.220313</td>\n",
       "      <td>140924.865837</td>\n",
       "    </tr>\n",
       "    <tr>\n",
       "      <th>45</th>\n",
       "      <td>Pollo</td>\n",
       "      <td>1010267</td>\n",
       "      <td>Grandes Clientes</td>\n",
       "      <td>-27240.712597</td>\n",
       "      <td>25676.088781</td>\n",
       "      <td>-231.224224</td>\n",
       "    </tr>\n",
       "    <tr>\n",
       "      <th>46</th>\n",
       "      <td>Pollo</td>\n",
       "      <td>1010267</td>\n",
       "      <td>Industriales</td>\n",
       "      <td>-25623.416769</td>\n",
       "      <td>22181.264769</td>\n",
       "      <td>-2252.295278</td>\n",
       "    </tr>\n",
       "    <tr>\n",
       "      <th>47</th>\n",
       "      <td>Pollo</td>\n",
       "      <td>1010267</td>\n",
       "      <td>Tradicional</td>\n",
       "      <td>25289.930321</td>\n",
       "      <td>145981.595081</td>\n",
       "      <td>85613.024494</td>\n",
       "    </tr>\n",
       "    <tr>\n",
       "      <th>48</th>\n",
       "      <td>Pollo</td>\n",
       "      <td>1010695</td>\n",
       "      <td>Foodservice</td>\n",
       "      <td>3905.697957</td>\n",
       "      <td>15391.948375</td>\n",
       "      <td>9661.466335</td>\n",
       "    </tr>\n",
       "    <tr>\n",
       "      <th>49</th>\n",
       "      <td>Pollo</td>\n",
       "      <td>1010695</td>\n",
       "      <td>Grandes Clientes</td>\n",
       "      <td>-17742.277031</td>\n",
       "      <td>48204.232076</td>\n",
       "      <td>15042.018241</td>\n",
       "    </tr>\n",
       "    <tr>\n",
       "      <th>50</th>\n",
       "      <td>Pollo</td>\n",
       "      <td>1010695</td>\n",
       "      <td>Industriales</td>\n",
       "      <td>-1034.403215</td>\n",
       "      <td>2308.048094</td>\n",
       "      <td>625.881391</td>\n",
       "    </tr>\n",
       "    <tr>\n",
       "      <th>51</th>\n",
       "      <td>Pollo</td>\n",
       "      <td>1010695</td>\n",
       "      <td>Tradicional</td>\n",
       "      <td>1802.798593</td>\n",
       "      <td>82196.738866</td>\n",
       "      <td>41978.302299</td>\n",
       "    </tr>\n",
       "  </tbody>\n",
       "</table>\n",
       "</div>"
      ],
      "text/plain": [
       "   Sector Material   Tipo de cliente  Predicción Inferior  \\\n",
       "0   Cerdo  1020001       Foodservice          -761.743083   \n",
       "1   Cerdo  1020001  Grandes Clientes          2844.725347   \n",
       "2   Cerdo  1020001      Industriales         -2862.523191   \n",
       "3   Cerdo  1020001       Tradicional         37260.488235   \n",
       "4   Cerdo  1020003       Foodservice           945.908099   \n",
       "5   Cerdo  1020003  Grandes Clientes         -7854.398023   \n",
       "6   Cerdo  1020003      Industriales         -2064.889536   \n",
       "7   Cerdo  1020003       Tradicional          1724.547672   \n",
       "8   Cerdo  1020010       Foodservice          4919.566004   \n",
       "9   Cerdo  1020010  Grandes Clientes          9250.994448   \n",
       "10  Cerdo  1020010      Industriales         -6225.001360   \n",
       "11  Cerdo  1020010       Tradicional         87628.930389   \n",
       "12  Cerdo  1020013       Foodservice          -136.850439   \n",
       "13  Cerdo  1020013  Grandes Clientes          9151.409850   \n",
       "14  Cerdo  1020013      Industriales         -8666.831334   \n",
       "15  Cerdo  1020013       Tradicional        130369.296447   \n",
       "16  Cerdo  1020027       Foodservice          -438.078993   \n",
       "17  Cerdo  1020027  Grandes Clientes          9197.004397   \n",
       "18  Cerdo  1020027      Industriales         -2766.594566   \n",
       "19  Cerdo  1020027       Tradicional         55998.019433   \n",
       "20  Cerdo  1020042       Foodservice          -491.828620   \n",
       "21  Cerdo  1020042  Grandes Clientes         -2410.681159   \n",
       "22  Cerdo  1020042      Industriales          3447.562158   \n",
       "23  Cerdo  1020042       Tradicional           450.840841   \n",
       "24  Cerdo  1020253       Foodservice         11673.123852   \n",
       "25  Cerdo  1020253  Grandes Clientes          -211.033869   \n",
       "26  Cerdo  1020253      Industriales          -432.038167   \n",
       "27  Cerdo  1020253       Tradicional         34774.212613   \n",
       "28  Pollo  1010002       Foodservice         -2333.719246   \n",
       "29  Pollo  1010002  Grandes Clientes         -1476.030394   \n",
       "30  Pollo  1010002      Industriales         -1141.035522   \n",
       "31  Pollo  1010002       Tradicional         55648.899291   \n",
       "32  Pollo  1010048       Foodservice         14561.799968   \n",
       "33  Pollo  1010048  Grandes Clientes        -46993.835821   \n",
       "34  Pollo  1010048      Industriales          -653.875501   \n",
       "35  Pollo  1010048       Tradicional         20720.225089   \n",
       "36  Pollo  1010077       Foodservice           -88.553518   \n",
       "37  Pollo  1010077  Grandes Clientes         -4414.250148   \n",
       "38  Pollo  1010077      Industriales          -849.977157   \n",
       "39  Pollo  1010077       Tradicional          9849.743037   \n",
       "40  Pollo  1010078       Foodservice         39545.343150   \n",
       "41  Pollo  1010078  Grandes Clientes          1138.401950   \n",
       "42  Pollo  1010078      Industriales           999.956701   \n",
       "43  Pollo  1010078       Tradicional        465771.683315   \n",
       "44  Pollo  1010267       Foodservice         93296.845882   \n",
       "45  Pollo  1010267  Grandes Clientes        -27240.712597   \n",
       "46  Pollo  1010267      Industriales        -25623.416769   \n",
       "47  Pollo  1010267       Tradicional         25289.930321   \n",
       "48  Pollo  1010695       Foodservice          3905.697957   \n",
       "49  Pollo  1010695  Grandes Clientes        -17742.277031   \n",
       "50  Pollo  1010695      Industriales         -1034.403215   \n",
       "51  Pollo  1010695       Tradicional          1802.798593   \n",
       "\n",
       "    Predicción Superior  Predicción central  \n",
       "0           1952.748633          584.937306  \n",
       "1          18108.044175        10543.557916  \n",
       "2           3714.934955          379.755226  \n",
       "3          93496.343306        65545.850011  \n",
       "4           6056.702375         3448.257631  \n",
       "5          10225.621355         1116.149578  \n",
       "6           3973.363917          988.121780  \n",
       "7          57487.961055        29712.030379  \n",
       "8          29198.714012        17183.039541  \n",
       "9          41774.643061        25571.889660  \n",
       "10         10398.266893         2141.179051  \n",
       "11        169141.166896       128188.691803  \n",
       "12          7602.476644         3693.227873  \n",
       "13         86286.134422        47956.468705  \n",
       "14         17808.629582         4611.351057  \n",
       "15        289851.100918       211773.485458  \n",
       "16          4258.902884         1949.694629  \n",
       "17         30798.797823        20102.219766  \n",
       "18          7967.426523         2553.627856  \n",
       "19        125050.446074        90600.509559  \n",
       "20          1225.474577          358.227849  \n",
       "21          9659.843657         3694.215428  \n",
       "22         12845.366960         8177.075063  \n",
       "23         24220.064138        12185.012121  \n",
       "24         22523.031182        17086.288664  \n",
       "25         13919.470862         6814.570706  \n",
       "26          6698.301527         3164.839843  \n",
       "27         84907.602321        59993.084723  \n",
       "28         17647.759045         7553.080351  \n",
       "29         41306.245759        20065.817659  \n",
       "30          2559.009275          706.766358  \n",
       "31        174170.618089       115261.671586  \n",
       "32         44301.191450        29479.728719  \n",
       "33         52192.693205         2980.574461  \n",
       "34          4171.001387         1801.725238  \n",
       "35        226207.499747       123869.412895  \n",
       "36          4019.254353         1980.302851  \n",
       "37          2771.909247         -726.148319  \n",
       "38           843.636126            8.796584  \n",
       "39         46997.704380        28620.260764  \n",
       "40         70627.371081        55137.396848  \n",
       "41        132149.158036        65777.423958  \n",
       "42         16960.995168         8909.586590  \n",
       "43        842633.020037       655817.049450  \n",
       "44        188379.220313       140924.865837  \n",
       "45         25676.088781         -231.224224  \n",
       "46         22181.264769        -2252.295278  \n",
       "47        145981.595081        85613.024494  \n",
       "48         15391.948375         9661.466335  \n",
       "49         48204.232076        15042.018241  \n",
       "50          2308.048094          625.881391  \n",
       "51         82196.738866        41978.302299  "
      ]
     },
     "execution_count": 59,
     "metadata": {},
     "output_type": "execute_result"
    }
   ],
   "source": [
    "D_sem=df3.groupby(['Sector','Material','Tipo de cliente']).sum().reset_index()\n",
    "D_sem"
   ]
  },
  {
   "cell_type": "code",
   "execution_count": 62,
   "id": "a614ed40",
   "metadata": {},
   "outputs": [
    {
     "data": {
      "text/html": [
       "<div>\n",
       "<style scoped>\n",
       "    .dataframe tbody tr th:only-of-type {\n",
       "        vertical-align: middle;\n",
       "    }\n",
       "\n",
       "    .dataframe tbody tr th {\n",
       "        vertical-align: top;\n",
       "    }\n",
       "\n",
       "    .dataframe thead th {\n",
       "        text-align: right;\n",
       "    }\n",
       "</style>\n",
       "<table border=\"1\" class=\"dataframe\">\n",
       "  <thead>\n",
       "    <tr style=\"text-align: right;\">\n",
       "      <th></th>\n",
       "      <th>Sector</th>\n",
       "      <th>Material</th>\n",
       "      <th>Tipo de cliente</th>\n",
       "      <th>Predicción Inferior</th>\n",
       "      <th>Predicción Superior</th>\n",
       "      <th>Predicción central</th>\n",
       "    </tr>\n",
       "  </thead>\n",
       "  <tbody>\n",
       "  </tbody>\n",
       "</table>\n",
       "</div>"
      ],
      "text/plain": [
       "Empty DataFrame\n",
       "Columns: [Sector, Material, Tipo de cliente, Predicción Inferior, Predicción Superior, Predicción central]\n",
       "Index: []"
      ]
     },
     "execution_count": 62,
     "metadata": {},
     "output_type": "execute_result"
    }
   ],
   "source": [
    "D_sem[D_sem.Material=='1010130']"
   ]
  },
  {
   "cell_type": "code",
   "execution_count": 63,
   "id": "a59162a5",
   "metadata": {},
   "outputs": [
    {
     "data": {
      "text/html": [
       "<div>\n",
       "<style scoped>\n",
       "    .dataframe tbody tr th:only-of-type {\n",
       "        vertical-align: middle;\n",
       "    }\n",
       "\n",
       "    .dataframe tbody tr th {\n",
       "        vertical-align: top;\n",
       "    }\n",
       "\n",
       "    .dataframe thead th {\n",
       "        text-align: right;\n",
       "    }\n",
       "</style>\n",
       "<table border=\"1\" class=\"dataframe\">\n",
       "  <thead>\n",
       "    <tr style=\"text-align: right;\">\n",
       "      <th></th>\n",
       "      <th></th>\n",
       "      <th></th>\n",
       "      <th>Predicción Inferior</th>\n",
       "      <th>Predicción Superior</th>\n",
       "      <th>Predicción central</th>\n",
       "    </tr>\n",
       "    <tr>\n",
       "      <th>Sector</th>\n",
       "      <th>Material</th>\n",
       "      <th>Tipo de cliente</th>\n",
       "      <th></th>\n",
       "      <th></th>\n",
       "      <th></th>\n",
       "    </tr>\n",
       "  </thead>\n",
       "  <tbody>\n",
       "    <tr>\n",
       "      <th rowspan=\"28\" valign=\"top\">Cerdo</th>\n",
       "      <th rowspan=\"4\" valign=\"top\">1020001</th>\n",
       "      <th>Foodservice</th>\n",
       "      <td>-761.743083</td>\n",
       "      <td>1952.748633</td>\n",
       "      <td>584.937306</td>\n",
       "    </tr>\n",
       "    <tr>\n",
       "      <th>Grandes Clientes</th>\n",
       "      <td>2844.725347</td>\n",
       "      <td>18108.044175</td>\n",
       "      <td>10543.557916</td>\n",
       "    </tr>\n",
       "    <tr>\n",
       "      <th>Industriales</th>\n",
       "      <td>-2862.523191</td>\n",
       "      <td>3714.934955</td>\n",
       "      <td>379.755226</td>\n",
       "    </tr>\n",
       "    <tr>\n",
       "      <th>Tradicional</th>\n",
       "      <td>37260.488235</td>\n",
       "      <td>93496.343306</td>\n",
       "      <td>65545.850011</td>\n",
       "    </tr>\n",
       "    <tr>\n",
       "      <th rowspan=\"4\" valign=\"top\">1020003</th>\n",
       "      <th>Foodservice</th>\n",
       "      <td>945.908099</td>\n",
       "      <td>6056.702375</td>\n",
       "      <td>3448.257631</td>\n",
       "    </tr>\n",
       "    <tr>\n",
       "      <th>Grandes Clientes</th>\n",
       "      <td>-7854.398023</td>\n",
       "      <td>10225.621355</td>\n",
       "      <td>1116.149578</td>\n",
       "    </tr>\n",
       "    <tr>\n",
       "      <th>Industriales</th>\n",
       "      <td>-2064.889536</td>\n",
       "      <td>3973.363917</td>\n",
       "      <td>988.121780</td>\n",
       "    </tr>\n",
       "    <tr>\n",
       "      <th>Tradicional</th>\n",
       "      <td>1724.547672</td>\n",
       "      <td>57487.961055</td>\n",
       "      <td>29712.030379</td>\n",
       "    </tr>\n",
       "    <tr>\n",
       "      <th rowspan=\"4\" valign=\"top\">1020010</th>\n",
       "      <th>Foodservice</th>\n",
       "      <td>4919.566004</td>\n",
       "      <td>29198.714012</td>\n",
       "      <td>17183.039541</td>\n",
       "    </tr>\n",
       "    <tr>\n",
       "      <th>Grandes Clientes</th>\n",
       "      <td>9250.994448</td>\n",
       "      <td>41774.643061</td>\n",
       "      <td>25571.889660</td>\n",
       "    </tr>\n",
       "    <tr>\n",
       "      <th>Industriales</th>\n",
       "      <td>-6225.001360</td>\n",
       "      <td>10398.266893</td>\n",
       "      <td>2141.179051</td>\n",
       "    </tr>\n",
       "    <tr>\n",
       "      <th>Tradicional</th>\n",
       "      <td>87628.930389</td>\n",
       "      <td>169141.166896</td>\n",
       "      <td>128188.691803</td>\n",
       "    </tr>\n",
       "    <tr>\n",
       "      <th rowspan=\"4\" valign=\"top\">1020013</th>\n",
       "      <th>Foodservice</th>\n",
       "      <td>-136.850439</td>\n",
       "      <td>7602.476644</td>\n",
       "      <td>3693.227873</td>\n",
       "    </tr>\n",
       "    <tr>\n",
       "      <th>Grandes Clientes</th>\n",
       "      <td>9151.409850</td>\n",
       "      <td>86286.134422</td>\n",
       "      <td>47956.468705</td>\n",
       "    </tr>\n",
       "    <tr>\n",
       "      <th>Industriales</th>\n",
       "      <td>-8666.831334</td>\n",
       "      <td>17808.629582</td>\n",
       "      <td>4611.351057</td>\n",
       "    </tr>\n",
       "    <tr>\n",
       "      <th>Tradicional</th>\n",
       "      <td>130369.296447</td>\n",
       "      <td>289851.100918</td>\n",
       "      <td>211773.485458</td>\n",
       "    </tr>\n",
       "    <tr>\n",
       "      <th rowspan=\"4\" valign=\"top\">1020027</th>\n",
       "      <th>Foodservice</th>\n",
       "      <td>-438.078993</td>\n",
       "      <td>4258.902884</td>\n",
       "      <td>1949.694629</td>\n",
       "    </tr>\n",
       "    <tr>\n",
       "      <th>Grandes Clientes</th>\n",
       "      <td>9197.004397</td>\n",
       "      <td>30798.797823</td>\n",
       "      <td>20102.219766</td>\n",
       "    </tr>\n",
       "    <tr>\n",
       "      <th>Industriales</th>\n",
       "      <td>-2766.594566</td>\n",
       "      <td>7967.426523</td>\n",
       "      <td>2553.627856</td>\n",
       "    </tr>\n",
       "    <tr>\n",
       "      <th>Tradicional</th>\n",
       "      <td>55998.019433</td>\n",
       "      <td>125050.446074</td>\n",
       "      <td>90600.509559</td>\n",
       "    </tr>\n",
       "    <tr>\n",
       "      <th rowspan=\"4\" valign=\"top\">1020042</th>\n",
       "      <th>Foodservice</th>\n",
       "      <td>-491.828620</td>\n",
       "      <td>1225.474577</td>\n",
       "      <td>358.227849</td>\n",
       "    </tr>\n",
       "    <tr>\n",
       "      <th>Grandes Clientes</th>\n",
       "      <td>-2410.681159</td>\n",
       "      <td>9659.843657</td>\n",
       "      <td>3694.215428</td>\n",
       "    </tr>\n",
       "    <tr>\n",
       "      <th>Industriales</th>\n",
       "      <td>3447.562158</td>\n",
       "      <td>12845.366960</td>\n",
       "      <td>8177.075063</td>\n",
       "    </tr>\n",
       "    <tr>\n",
       "      <th>Tradicional</th>\n",
       "      <td>450.840841</td>\n",
       "      <td>24220.064138</td>\n",
       "      <td>12185.012121</td>\n",
       "    </tr>\n",
       "    <tr>\n",
       "      <th rowspan=\"4\" valign=\"top\">1020253</th>\n",
       "      <th>Foodservice</th>\n",
       "      <td>11673.123852</td>\n",
       "      <td>22523.031182</td>\n",
       "      <td>17086.288664</td>\n",
       "    </tr>\n",
       "    <tr>\n",
       "      <th>Grandes Clientes</th>\n",
       "      <td>-211.033869</td>\n",
       "      <td>13919.470862</td>\n",
       "      <td>6814.570706</td>\n",
       "    </tr>\n",
       "    <tr>\n",
       "      <th>Industriales</th>\n",
       "      <td>-432.038167</td>\n",
       "      <td>6698.301527</td>\n",
       "      <td>3164.839843</td>\n",
       "    </tr>\n",
       "    <tr>\n",
       "      <th>Tradicional</th>\n",
       "      <td>34774.212613</td>\n",
       "      <td>84907.602321</td>\n",
       "      <td>59993.084723</td>\n",
       "    </tr>\n",
       "    <tr>\n",
       "      <th rowspan=\"24\" valign=\"top\">Pollo</th>\n",
       "      <th rowspan=\"4\" valign=\"top\">1010002</th>\n",
       "      <th>Foodservice</th>\n",
       "      <td>-2333.719246</td>\n",
       "      <td>17647.759045</td>\n",
       "      <td>7553.080351</td>\n",
       "    </tr>\n",
       "    <tr>\n",
       "      <th>Grandes Clientes</th>\n",
       "      <td>-1476.030394</td>\n",
       "      <td>41306.245759</td>\n",
       "      <td>20065.817659</td>\n",
       "    </tr>\n",
       "    <tr>\n",
       "      <th>Industriales</th>\n",
       "      <td>-1141.035522</td>\n",
       "      <td>2559.009275</td>\n",
       "      <td>706.766358</td>\n",
       "    </tr>\n",
       "    <tr>\n",
       "      <th>Tradicional</th>\n",
       "      <td>55648.899291</td>\n",
       "      <td>174170.618089</td>\n",
       "      <td>115261.671586</td>\n",
       "    </tr>\n",
       "    <tr>\n",
       "      <th rowspan=\"4\" valign=\"top\">1010048</th>\n",
       "      <th>Foodservice</th>\n",
       "      <td>14561.799968</td>\n",
       "      <td>44301.191450</td>\n",
       "      <td>29479.728719</td>\n",
       "    </tr>\n",
       "    <tr>\n",
       "      <th>Grandes Clientes</th>\n",
       "      <td>-46993.835821</td>\n",
       "      <td>52192.693205</td>\n",
       "      <td>2980.574461</td>\n",
       "    </tr>\n",
       "    <tr>\n",
       "      <th>Industriales</th>\n",
       "      <td>-653.875501</td>\n",
       "      <td>4171.001387</td>\n",
       "      <td>1801.725238</td>\n",
       "    </tr>\n",
       "    <tr>\n",
       "      <th>Tradicional</th>\n",
       "      <td>20720.225089</td>\n",
       "      <td>226207.499747</td>\n",
       "      <td>123869.412895</td>\n",
       "    </tr>\n",
       "    <tr>\n",
       "      <th rowspan=\"4\" valign=\"top\">1010077</th>\n",
       "      <th>Foodservice</th>\n",
       "      <td>-88.553518</td>\n",
       "      <td>4019.254353</td>\n",
       "      <td>1980.302851</td>\n",
       "    </tr>\n",
       "    <tr>\n",
       "      <th>Grandes Clientes</th>\n",
       "      <td>-4414.250148</td>\n",
       "      <td>2771.909247</td>\n",
       "      <td>-726.148319</td>\n",
       "    </tr>\n",
       "    <tr>\n",
       "      <th>Industriales</th>\n",
       "      <td>-849.977157</td>\n",
       "      <td>843.636126</td>\n",
       "      <td>8.796584</td>\n",
       "    </tr>\n",
       "    <tr>\n",
       "      <th>Tradicional</th>\n",
       "      <td>9849.743037</td>\n",
       "      <td>46997.704380</td>\n",
       "      <td>28620.260764</td>\n",
       "    </tr>\n",
       "    <tr>\n",
       "      <th rowspan=\"4\" valign=\"top\">1010078</th>\n",
       "      <th>Foodservice</th>\n",
       "      <td>39545.343150</td>\n",
       "      <td>70627.371081</td>\n",
       "      <td>55137.396848</td>\n",
       "    </tr>\n",
       "    <tr>\n",
       "      <th>Grandes Clientes</th>\n",
       "      <td>1138.401950</td>\n",
       "      <td>132149.158036</td>\n",
       "      <td>65777.423958</td>\n",
       "    </tr>\n",
       "    <tr>\n",
       "      <th>Industriales</th>\n",
       "      <td>999.956701</td>\n",
       "      <td>16960.995168</td>\n",
       "      <td>8909.586590</td>\n",
       "    </tr>\n",
       "    <tr>\n",
       "      <th>Tradicional</th>\n",
       "      <td>465771.683315</td>\n",
       "      <td>842633.020037</td>\n",
       "      <td>655817.049450</td>\n",
       "    </tr>\n",
       "    <tr>\n",
       "      <th rowspan=\"4\" valign=\"top\">1010267</th>\n",
       "      <th>Foodservice</th>\n",
       "      <td>93296.845882</td>\n",
       "      <td>188379.220313</td>\n",
       "      <td>140924.865837</td>\n",
       "    </tr>\n",
       "    <tr>\n",
       "      <th>Grandes Clientes</th>\n",
       "      <td>-27240.712597</td>\n",
       "      <td>25676.088781</td>\n",
       "      <td>-231.224224</td>\n",
       "    </tr>\n",
       "    <tr>\n",
       "      <th>Industriales</th>\n",
       "      <td>-25623.416769</td>\n",
       "      <td>22181.264769</td>\n",
       "      <td>-2252.295278</td>\n",
       "    </tr>\n",
       "    <tr>\n",
       "      <th>Tradicional</th>\n",
       "      <td>25289.930321</td>\n",
       "      <td>145981.595081</td>\n",
       "      <td>85613.024494</td>\n",
       "    </tr>\n",
       "    <tr>\n",
       "      <th rowspan=\"4\" valign=\"top\">1010695</th>\n",
       "      <th>Foodservice</th>\n",
       "      <td>3905.697957</td>\n",
       "      <td>15391.948375</td>\n",
       "      <td>9661.466335</td>\n",
       "    </tr>\n",
       "    <tr>\n",
       "      <th>Grandes Clientes</th>\n",
       "      <td>-17742.277031</td>\n",
       "      <td>48204.232076</td>\n",
       "      <td>15042.018241</td>\n",
       "    </tr>\n",
       "    <tr>\n",
       "      <th>Industriales</th>\n",
       "      <td>-1034.403215</td>\n",
       "      <td>2308.048094</td>\n",
       "      <td>625.881391</td>\n",
       "    </tr>\n",
       "    <tr>\n",
       "      <th>Tradicional</th>\n",
       "      <td>1802.798593</td>\n",
       "      <td>82196.738866</td>\n",
       "      <td>41978.302299</td>\n",
       "    </tr>\n",
       "  </tbody>\n",
       "</table>\n",
       "</div>"
      ],
      "text/plain": [
       "                                  Predicción Inferior  Predicción Superior  \\\n",
       "Sector Material Tipo de cliente                                              \n",
       "Cerdo  1020001  Foodservice               -761.743083          1952.748633   \n",
       "                Grandes Clientes          2844.725347         18108.044175   \n",
       "                Industriales             -2862.523191          3714.934955   \n",
       "                Tradicional              37260.488235         93496.343306   \n",
       "       1020003  Foodservice                945.908099          6056.702375   \n",
       "                Grandes Clientes         -7854.398023         10225.621355   \n",
       "                Industriales             -2064.889536          3973.363917   \n",
       "                Tradicional               1724.547672         57487.961055   \n",
       "       1020010  Foodservice               4919.566004         29198.714012   \n",
       "                Grandes Clientes          9250.994448         41774.643061   \n",
       "                Industriales             -6225.001360         10398.266893   \n",
       "                Tradicional              87628.930389        169141.166896   \n",
       "       1020013  Foodservice               -136.850439          7602.476644   \n",
       "                Grandes Clientes          9151.409850         86286.134422   \n",
       "                Industriales             -8666.831334         17808.629582   \n",
       "                Tradicional             130369.296447        289851.100918   \n",
       "       1020027  Foodservice               -438.078993          4258.902884   \n",
       "                Grandes Clientes          9197.004397         30798.797823   \n",
       "                Industriales             -2766.594566          7967.426523   \n",
       "                Tradicional              55998.019433        125050.446074   \n",
       "       1020042  Foodservice               -491.828620          1225.474577   \n",
       "                Grandes Clientes         -2410.681159          9659.843657   \n",
       "                Industriales              3447.562158         12845.366960   \n",
       "                Tradicional                450.840841         24220.064138   \n",
       "       1020253  Foodservice              11673.123852         22523.031182   \n",
       "                Grandes Clientes          -211.033869         13919.470862   \n",
       "                Industriales              -432.038167          6698.301527   \n",
       "                Tradicional              34774.212613         84907.602321   \n",
       "Pollo  1010002  Foodservice              -2333.719246         17647.759045   \n",
       "                Grandes Clientes         -1476.030394         41306.245759   \n",
       "                Industriales             -1141.035522          2559.009275   \n",
       "                Tradicional              55648.899291        174170.618089   \n",
       "       1010048  Foodservice              14561.799968         44301.191450   \n",
       "                Grandes Clientes        -46993.835821         52192.693205   \n",
       "                Industriales              -653.875501          4171.001387   \n",
       "                Tradicional              20720.225089        226207.499747   \n",
       "       1010077  Foodservice                -88.553518          4019.254353   \n",
       "                Grandes Clientes         -4414.250148          2771.909247   \n",
       "                Industriales              -849.977157           843.636126   \n",
       "                Tradicional               9849.743037         46997.704380   \n",
       "       1010078  Foodservice              39545.343150         70627.371081   \n",
       "                Grandes Clientes          1138.401950        132149.158036   \n",
       "                Industriales               999.956701         16960.995168   \n",
       "                Tradicional             465771.683315        842633.020037   \n",
       "       1010267  Foodservice              93296.845882        188379.220313   \n",
       "                Grandes Clientes        -27240.712597         25676.088781   \n",
       "                Industriales            -25623.416769         22181.264769   \n",
       "                Tradicional              25289.930321        145981.595081   \n",
       "       1010695  Foodservice               3905.697957         15391.948375   \n",
       "                Grandes Clientes        -17742.277031         48204.232076   \n",
       "                Industriales             -1034.403215          2308.048094   \n",
       "                Tradicional               1802.798593         82196.738866   \n",
       "\n",
       "                                  Predicción central  \n",
       "Sector Material Tipo de cliente                       \n",
       "Cerdo  1020001  Foodservice               584.937306  \n",
       "                Grandes Clientes        10543.557916  \n",
       "                Industriales              379.755226  \n",
       "                Tradicional             65545.850011  \n",
       "       1020003  Foodservice              3448.257631  \n",
       "                Grandes Clientes         1116.149578  \n",
       "                Industriales              988.121780  \n",
       "                Tradicional             29712.030379  \n",
       "       1020010  Foodservice             17183.039541  \n",
       "                Grandes Clientes        25571.889660  \n",
       "                Industriales             2141.179051  \n",
       "                Tradicional            128188.691803  \n",
       "       1020013  Foodservice              3693.227873  \n",
       "                Grandes Clientes        47956.468705  \n",
       "                Industriales             4611.351057  \n",
       "                Tradicional            211773.485458  \n",
       "       1020027  Foodservice              1949.694629  \n",
       "                Grandes Clientes        20102.219766  \n",
       "                Industriales             2553.627856  \n",
       "                Tradicional             90600.509559  \n",
       "       1020042  Foodservice               358.227849  \n",
       "                Grandes Clientes         3694.215428  \n",
       "                Industriales             8177.075063  \n",
       "                Tradicional             12185.012121  \n",
       "       1020253  Foodservice             17086.288664  \n",
       "                Grandes Clientes         6814.570706  \n",
       "                Industriales             3164.839843  \n",
       "                Tradicional             59993.084723  \n",
       "Pollo  1010002  Foodservice              7553.080351  \n",
       "                Grandes Clientes        20065.817659  \n",
       "                Industriales              706.766358  \n",
       "                Tradicional            115261.671586  \n",
       "       1010048  Foodservice             29479.728719  \n",
       "                Grandes Clientes         2980.574461  \n",
       "                Industriales             1801.725238  \n",
       "                Tradicional            123869.412895  \n",
       "       1010077  Foodservice              1980.302851  \n",
       "                Grandes Clientes         -726.148319  \n",
       "                Industriales                8.796584  \n",
       "                Tradicional             28620.260764  \n",
       "       1010078  Foodservice             55137.396848  \n",
       "                Grandes Clientes        65777.423958  \n",
       "                Industriales             8909.586590  \n",
       "                Tradicional            655817.049450  \n",
       "       1010267  Foodservice            140924.865837  \n",
       "                Grandes Clientes         -231.224224  \n",
       "                Industriales            -2252.295278  \n",
       "                Tradicional             85613.024494  \n",
       "       1010695  Foodservice              9661.466335  \n",
       "                Grandes Clientes        15042.018241  \n",
       "                Industriales              625.881391  \n",
       "                Tradicional             41978.302299  "
      ]
     },
     "execution_count": 63,
     "metadata": {},
     "output_type": "execute_result"
    }
   ],
   "source": [
    "df3.groupby(['Sector','Material','Tipo de cliente']).sum()"
   ]
  },
  {
   "cell_type": "code",
   "execution_count": 43,
   "id": "1a01474f",
   "metadata": {},
   "outputs": [
    {
     "data": {
      "text/html": [
       "<div>\n",
       "<style scoped>\n",
       "    .dataframe tbody tr th:only-of-type {\n",
       "        vertical-align: middle;\n",
       "    }\n",
       "\n",
       "    .dataframe tbody tr th {\n",
       "        vertical-align: top;\n",
       "    }\n",
       "\n",
       "    .dataframe thead th {\n",
       "        text-align: right;\n",
       "    }\n",
       "</style>\n",
       "<table border=\"1\" class=\"dataframe\">\n",
       "  <thead>\n",
       "    <tr style=\"text-align: right;\">\n",
       "      <th></th>\n",
       "      <th></th>\n",
       "      <th></th>\n",
       "      <th>Predicción Inferior</th>\n",
       "      <th>Predicción Superior</th>\n",
       "      <th>Predicción central</th>\n",
       "    </tr>\n",
       "    <tr>\n",
       "      <th>Sector</th>\n",
       "      <th>Material</th>\n",
       "      <th>Tipo de cliente</th>\n",
       "      <th></th>\n",
       "      <th></th>\n",
       "      <th></th>\n",
       "    </tr>\n",
       "  </thead>\n",
       "  <tbody>\n",
       "    <tr>\n",
       "      <th rowspan=\"28\" valign=\"top\">Cerdo</th>\n",
       "      <th rowspan=\"4\" valign=\"top\">1020001</th>\n",
       "      <th>Foodservice</th>\n",
       "      <td>42723.810922</td>\n",
       "      <td>1.122651e+05</td>\n",
       "      <td>77946.587638</td>\n",
       "    </tr>\n",
       "    <tr>\n",
       "      <th>Grandes Clientes</th>\n",
       "      <td>43325.600309</td>\n",
       "      <td>1.119570e+05</td>\n",
       "      <td>77946.587638</td>\n",
       "    </tr>\n",
       "    <tr>\n",
       "      <th>Industriales</th>\n",
       "      <td>42740.399034</td>\n",
       "      <td>1.121945e+05</td>\n",
       "      <td>77946.587638</td>\n",
       "    </tr>\n",
       "    <tr>\n",
       "      <th>Tradicional</th>\n",
       "      <td>43659.905497</td>\n",
       "      <td>1.137438e+05</td>\n",
       "      <td>77946.587638</td>\n",
       "    </tr>\n",
       "    <tr>\n",
       "      <th rowspan=\"4\" valign=\"top\">1020003</th>\n",
       "      <th>Foodservice</th>\n",
       "      <td>545.272846</td>\n",
       "      <td>7.198731e+04</td>\n",
       "      <td>36525.124256</td>\n",
       "    </tr>\n",
       "    <tr>\n",
       "      <th>Grandes Clientes</th>\n",
       "      <td>-324.399674</td>\n",
       "      <td>7.127609e+04</td>\n",
       "      <td>36525.124256</td>\n",
       "    </tr>\n",
       "    <tr>\n",
       "      <th>Industriales</th>\n",
       "      <td>738.403621</td>\n",
       "      <td>7.277711e+04</td>\n",
       "      <td>36525.124256</td>\n",
       "    </tr>\n",
       "    <tr>\n",
       "      <th>Tradicional</th>\n",
       "      <td>1291.475259</td>\n",
       "      <td>7.272770e+04</td>\n",
       "      <td>36525.124256</td>\n",
       "    </tr>\n",
       "    <tr>\n",
       "      <th rowspan=\"4\" valign=\"top\">1020010</th>\n",
       "      <th>Foodservice</th>\n",
       "      <td>126391.724342</td>\n",
       "      <td>2.400826e+05</td>\n",
       "      <td>182508.164233</td>\n",
       "    </tr>\n",
       "    <tr>\n",
       "      <th>Grandes Clientes</th>\n",
       "      <td>126194.017774</td>\n",
       "      <td>2.388160e+05</td>\n",
       "      <td>182508.164233</td>\n",
       "    </tr>\n",
       "    <tr>\n",
       "      <th>Industriales</th>\n",
       "      <td>125768.007240</td>\n",
       "      <td>2.400791e+05</td>\n",
       "      <td>182508.164233</td>\n",
       "    </tr>\n",
       "    <tr>\n",
       "      <th>Tradicional</th>\n",
       "      <td>124500.123997</td>\n",
       "      <td>2.388270e+05</td>\n",
       "      <td>182508.164233</td>\n",
       "    </tr>\n",
       "    <tr>\n",
       "      <th rowspan=\"4\" valign=\"top\">1020013</th>\n",
       "      <th>Foodservice</th>\n",
       "      <td>166385.402999</td>\n",
       "      <td>3.780771e+05</td>\n",
       "      <td>270624.564173</td>\n",
       "    </tr>\n",
       "    <tr>\n",
       "      <th>Grandes Clientes</th>\n",
       "      <td>164181.074538</td>\n",
       "      <td>3.811018e+05</td>\n",
       "      <td>270624.564173</td>\n",
       "    </tr>\n",
       "    <tr>\n",
       "      <th>Industriales</th>\n",
       "      <td>165007.715217</td>\n",
       "      <td>3.768699e+05</td>\n",
       "      <td>270624.564173</td>\n",
       "    </tr>\n",
       "    <tr>\n",
       "      <th>Tradicional</th>\n",
       "      <td>163227.305040</td>\n",
       "      <td>3.782573e+05</td>\n",
       "      <td>270624.564173</td>\n",
       "    </tr>\n",
       "    <tr>\n",
       "      <th rowspan=\"4\" valign=\"top\">1020027</th>\n",
       "      <th>Foodservice</th>\n",
       "      <td>71909.079060</td>\n",
       "      <td>1.560346e+05</td>\n",
       "      <td>113551.809143</td>\n",
       "    </tr>\n",
       "    <tr>\n",
       "      <th>Grandes Clientes</th>\n",
       "      <td>71341.457961</td>\n",
       "      <td>1.559023e+05</td>\n",
       "      <td>113551.809143</td>\n",
       "    </tr>\n",
       "    <tr>\n",
       "      <th>Industriales</th>\n",
       "      <td>70317.461433</td>\n",
       "      <td>1.558998e+05</td>\n",
       "      <td>113551.809143</td>\n",
       "    </tr>\n",
       "    <tr>\n",
       "      <th>Tradicional</th>\n",
       "      <td>72114.447951</td>\n",
       "      <td>1.557573e+05</td>\n",
       "      <td>113551.809143</td>\n",
       "    </tr>\n",
       "    <tr>\n",
       "      <th rowspan=\"4\" valign=\"top\">1020042</th>\n",
       "      <th>Foodservice</th>\n",
       "      <td>5665.619051</td>\n",
       "      <td>4.058586e+04</td>\n",
       "      <td>23295.139793</td>\n",
       "    </tr>\n",
       "    <tr>\n",
       "      <th>Grandes Clientes</th>\n",
       "      <td>5891.841134</td>\n",
       "      <td>4.039492e+04</td>\n",
       "      <td>23295.139793</td>\n",
       "    </tr>\n",
       "    <tr>\n",
       "      <th>Industriales</th>\n",
       "      <td>5998.525838</td>\n",
       "      <td>4.081646e+04</td>\n",
       "      <td>23295.139793</td>\n",
       "    </tr>\n",
       "    <tr>\n",
       "      <th>Tradicional</th>\n",
       "      <td>6454.899452</td>\n",
       "      <td>4.035185e+04</td>\n",
       "      <td>23295.139793</td>\n",
       "    </tr>\n",
       "    <tr>\n",
       "      <th rowspan=\"4\" valign=\"top\">1020253</th>\n",
       "      <th>Foodservice</th>\n",
       "      <td>55618.086845</td>\n",
       "      <td>1.196499e+05</td>\n",
       "      <td>87735.442697</td>\n",
       "    </tr>\n",
       "    <tr>\n",
       "      <th>Grandes Clientes</th>\n",
       "      <td>56450.956318</td>\n",
       "      <td>1.189389e+05</td>\n",
       "      <td>87735.442697</td>\n",
       "    </tr>\n",
       "    <tr>\n",
       "      <th>Industriales</th>\n",
       "      <td>55054.099054</td>\n",
       "      <td>1.197243e+05</td>\n",
       "      <td>87735.442697</td>\n",
       "    </tr>\n",
       "    <tr>\n",
       "      <th>Tradicional</th>\n",
       "      <td>55439.903089</td>\n",
       "      <td>1.197072e+05</td>\n",
       "      <td>87735.442697</td>\n",
       "    </tr>\n",
       "    <tr>\n",
       "      <th rowspan=\"24\" valign=\"top\">Pollo</th>\n",
       "      <th rowspan=\"4\" valign=\"top\">1010002</th>\n",
       "      <th>Foodservice</th>\n",
       "      <td>56611.517090</td>\n",
       "      <td>2.149790e+05</td>\n",
       "      <td>137011.107598</td>\n",
       "    </tr>\n",
       "    <tr>\n",
       "      <th>Grandes Clientes</th>\n",
       "      <td>59692.532829</td>\n",
       "      <td>2.153160e+05</td>\n",
       "      <td>137011.107598</td>\n",
       "    </tr>\n",
       "    <tr>\n",
       "      <th>Industriales</th>\n",
       "      <td>59849.622185</td>\n",
       "      <td>2.157639e+05</td>\n",
       "      <td>137011.107598</td>\n",
       "    </tr>\n",
       "    <tr>\n",
       "      <th>Tradicional</th>\n",
       "      <td>57005.100633</td>\n",
       "      <td>2.138594e+05</td>\n",
       "      <td>137011.107598</td>\n",
       "    </tr>\n",
       "    <tr>\n",
       "      <th rowspan=\"4\" valign=\"top\">1010048</th>\n",
       "      <th>Foodservice</th>\n",
       "      <td>19276.164916</td>\n",
       "      <td>2.973500e+05</td>\n",
       "      <td>160818.119127</td>\n",
       "    </tr>\n",
       "    <tr>\n",
       "      <th>Grandes Clientes</th>\n",
       "      <td>17547.014402</td>\n",
       "      <td>3.024039e+05</td>\n",
       "      <td>160818.119127</td>\n",
       "    </tr>\n",
       "    <tr>\n",
       "      <th>Industriales</th>\n",
       "      <td>20050.210798</td>\n",
       "      <td>3.037607e+05</td>\n",
       "      <td>160818.119127</td>\n",
       "    </tr>\n",
       "    <tr>\n",
       "      <th>Tradicional</th>\n",
       "      <td>18646.028299</td>\n",
       "      <td>3.069182e+05</td>\n",
       "      <td>160818.119127</td>\n",
       "    </tr>\n",
       "    <tr>\n",
       "      <th rowspan=\"4\" valign=\"top\">1010077</th>\n",
       "      <th>Foodservice</th>\n",
       "      <td>9217.638860</td>\n",
       "      <td>5.119969e+04</td>\n",
       "      <td>30046.677691</td>\n",
       "    </tr>\n",
       "    <tr>\n",
       "      <th>Grandes Clientes</th>\n",
       "      <td>9475.817603</td>\n",
       "      <td>5.107426e+04</td>\n",
       "      <td>30046.677691</td>\n",
       "    </tr>\n",
       "    <tr>\n",
       "      <th>Industriales</th>\n",
       "      <td>9440.851109</td>\n",
       "      <td>5.171167e+04</td>\n",
       "      <td>30046.677691</td>\n",
       "    </tr>\n",
       "    <tr>\n",
       "      <th>Tradicional</th>\n",
       "      <td>9168.018945</td>\n",
       "      <td>5.079803e+04</td>\n",
       "      <td>30046.677691</td>\n",
       "    </tr>\n",
       "    <tr>\n",
       "      <th rowspan=\"4\" valign=\"top\">1010078</th>\n",
       "      <th>Foodservice</th>\n",
       "      <td>542902.988113</td>\n",
       "      <td>1.022441e+06</td>\n",
       "      <td>785193.707920</td>\n",
       "    </tr>\n",
       "    <tr>\n",
       "      <th>Grandes Clientes</th>\n",
       "      <td>542697.806462</td>\n",
       "      <td>1.025694e+06</td>\n",
       "      <td>785193.707920</td>\n",
       "    </tr>\n",
       "    <tr>\n",
       "      <th>Industriales</th>\n",
       "      <td>543277.000422</td>\n",
       "      <td>1.030738e+06</td>\n",
       "      <td>785193.707920</td>\n",
       "    </tr>\n",
       "    <tr>\n",
       "      <th>Tradicional</th>\n",
       "      <td>544241.990782</td>\n",
       "      <td>1.030657e+06</td>\n",
       "      <td>785193.707920</td>\n",
       "    </tr>\n",
       "    <tr>\n",
       "      <th rowspan=\"4\" valign=\"top\">1010267</th>\n",
       "      <th>Foodservice</th>\n",
       "      <td>125764.261325</td>\n",
       "      <td>3.336418e+05</td>\n",
       "      <td>230858.508351</td>\n",
       "    </tr>\n",
       "    <tr>\n",
       "      <th>Grandes Clientes</th>\n",
       "      <td>127418.152286</td>\n",
       "      <td>3.344572e+05</td>\n",
       "      <td>230858.508351</td>\n",
       "    </tr>\n",
       "    <tr>\n",
       "      <th>Industriales</th>\n",
       "      <td>125468.324272</td>\n",
       "      <td>3.328663e+05</td>\n",
       "      <td>230858.508351</td>\n",
       "    </tr>\n",
       "    <tr>\n",
       "      <th>Tradicional</th>\n",
       "      <td>126363.139153</td>\n",
       "      <td>3.331333e+05</td>\n",
       "      <td>230858.508351</td>\n",
       "    </tr>\n",
       "    <tr>\n",
       "      <th rowspan=\"4\" valign=\"top\">1010695</th>\n",
       "      <th>Foodservice</th>\n",
       "      <td>11811.153889</td>\n",
       "      <td>1.379416e+05</td>\n",
       "      <td>73712.807731</td>\n",
       "    </tr>\n",
       "    <tr>\n",
       "      <th>Grandes Clientes</th>\n",
       "      <td>10135.253643</td>\n",
       "      <td>1.378460e+05</td>\n",
       "      <td>73712.807731</td>\n",
       "    </tr>\n",
       "    <tr>\n",
       "      <th>Industriales</th>\n",
       "      <td>9651.848496</td>\n",
       "      <td>1.370992e+05</td>\n",
       "      <td>73712.807731</td>\n",
       "    </tr>\n",
       "    <tr>\n",
       "      <th>Tradicional</th>\n",
       "      <td>10098.173729</td>\n",
       "      <td>1.386897e+05</td>\n",
       "      <td>73712.807731</td>\n",
       "    </tr>\n",
       "  </tbody>\n",
       "</table>\n",
       "</div>"
      ],
      "text/plain": [
       "                                  Predicción Inferior  Predicción Superior  \\\n",
       "Sector Material Tipo de cliente                                              \n",
       "Cerdo  1020001  Foodservice              42723.810922         1.122651e+05   \n",
       "                Grandes Clientes         43325.600309         1.119570e+05   \n",
       "                Industriales             42740.399034         1.121945e+05   \n",
       "                Tradicional              43659.905497         1.137438e+05   \n",
       "       1020003  Foodservice                545.272846         7.198731e+04   \n",
       "                Grandes Clientes          -324.399674         7.127609e+04   \n",
       "                Industriales               738.403621         7.277711e+04   \n",
       "                Tradicional               1291.475259         7.272770e+04   \n",
       "       1020010  Foodservice             126391.724342         2.400826e+05   \n",
       "                Grandes Clientes        126194.017774         2.388160e+05   \n",
       "                Industriales            125768.007240         2.400791e+05   \n",
       "                Tradicional             124500.123997         2.388270e+05   \n",
       "       1020013  Foodservice             166385.402999         3.780771e+05   \n",
       "                Grandes Clientes        164181.074538         3.811018e+05   \n",
       "                Industriales            165007.715217         3.768699e+05   \n",
       "                Tradicional             163227.305040         3.782573e+05   \n",
       "       1020027  Foodservice              71909.079060         1.560346e+05   \n",
       "                Grandes Clientes         71341.457961         1.559023e+05   \n",
       "                Industriales             70317.461433         1.558998e+05   \n",
       "                Tradicional              72114.447951         1.557573e+05   \n",
       "       1020042  Foodservice               5665.619051         4.058586e+04   \n",
       "                Grandes Clientes          5891.841134         4.039492e+04   \n",
       "                Industriales              5998.525838         4.081646e+04   \n",
       "                Tradicional               6454.899452         4.035185e+04   \n",
       "       1020253  Foodservice              55618.086845         1.196499e+05   \n",
       "                Grandes Clientes         56450.956318         1.189389e+05   \n",
       "                Industriales             55054.099054         1.197243e+05   \n",
       "                Tradicional              55439.903089         1.197072e+05   \n",
       "Pollo  1010002  Foodservice              56611.517090         2.149790e+05   \n",
       "                Grandes Clientes         59692.532829         2.153160e+05   \n",
       "                Industriales             59849.622185         2.157639e+05   \n",
       "                Tradicional              57005.100633         2.138594e+05   \n",
       "       1010048  Foodservice              19276.164916         2.973500e+05   \n",
       "                Grandes Clientes         17547.014402         3.024039e+05   \n",
       "                Industriales             20050.210798         3.037607e+05   \n",
       "                Tradicional              18646.028299         3.069182e+05   \n",
       "       1010077  Foodservice               9217.638860         5.119969e+04   \n",
       "                Grandes Clientes          9475.817603         5.107426e+04   \n",
       "                Industriales              9440.851109         5.171167e+04   \n",
       "                Tradicional               9168.018945         5.079803e+04   \n",
       "       1010078  Foodservice             542902.988113         1.022441e+06   \n",
       "                Grandes Clientes        542697.806462         1.025694e+06   \n",
       "                Industriales            543277.000422         1.030738e+06   \n",
       "                Tradicional             544241.990782         1.030657e+06   \n",
       "       1010267  Foodservice             125764.261325         3.336418e+05   \n",
       "                Grandes Clientes        127418.152286         3.344572e+05   \n",
       "                Industriales            125468.324272         3.328663e+05   \n",
       "                Tradicional             126363.139153         3.331333e+05   \n",
       "       1010695  Foodservice              11811.153889         1.379416e+05   \n",
       "                Grandes Clientes         10135.253643         1.378460e+05   \n",
       "                Industriales              9651.848496         1.370992e+05   \n",
       "                Tradicional              10098.173729         1.386897e+05   \n",
       "\n",
       "                                  Predicción central  \n",
       "Sector Material Tipo de cliente                       \n",
       "Cerdo  1020001  Foodservice             77946.587638  \n",
       "                Grandes Clientes        77946.587638  \n",
       "                Industriales            77946.587638  \n",
       "                Tradicional             77946.587638  \n",
       "       1020003  Foodservice             36525.124256  \n",
       "                Grandes Clientes        36525.124256  \n",
       "                Industriales            36525.124256  \n",
       "                Tradicional             36525.124256  \n",
       "       1020010  Foodservice            182508.164233  \n",
       "                Grandes Clientes       182508.164233  \n",
       "                Industriales           182508.164233  \n",
       "                Tradicional            182508.164233  \n",
       "       1020013  Foodservice            270624.564173  \n",
       "                Grandes Clientes       270624.564173  \n",
       "                Industriales           270624.564173  \n",
       "                Tradicional            270624.564173  \n",
       "       1020027  Foodservice            113551.809143  \n",
       "                Grandes Clientes       113551.809143  \n",
       "                Industriales           113551.809143  \n",
       "                Tradicional            113551.809143  \n",
       "       1020042  Foodservice             23295.139793  \n",
       "                Grandes Clientes        23295.139793  \n",
       "                Industriales            23295.139793  \n",
       "                Tradicional             23295.139793  \n",
       "       1020253  Foodservice             87735.442697  \n",
       "                Grandes Clientes        87735.442697  \n",
       "                Industriales            87735.442697  \n",
       "                Tradicional             87735.442697  \n",
       "Pollo  1010002  Foodservice            137011.107598  \n",
       "                Grandes Clientes       137011.107598  \n",
       "                Industriales           137011.107598  \n",
       "                Tradicional            137011.107598  \n",
       "       1010048  Foodservice            160818.119127  \n",
       "                Grandes Clientes       160818.119127  \n",
       "                Industriales           160818.119127  \n",
       "                Tradicional            160818.119127  \n",
       "       1010077  Foodservice             30046.677691  \n",
       "                Grandes Clientes        30046.677691  \n",
       "                Industriales            30046.677691  \n",
       "                Tradicional             30046.677691  \n",
       "       1010078  Foodservice            785193.707920  \n",
       "                Grandes Clientes       785193.707920  \n",
       "                Industriales           785193.707920  \n",
       "                Tradicional            785193.707920  \n",
       "       1010267  Foodservice            230858.508351  \n",
       "                Grandes Clientes       230858.508351  \n",
       "                Industriales           230858.508351  \n",
       "                Tradicional            230858.508351  \n",
       "       1010695  Foodservice             73712.807731  \n",
       "                Grandes Clientes        73712.807731  \n",
       "                Industriales            73712.807731  \n",
       "                Tradicional             73712.807731  "
      ]
     },
     "execution_count": 43,
     "metadata": {},
     "output_type": "execute_result"
    }
   ],
   "source": [
    "df3.groupby(['Sector','Material','Tipo de cliente']).sum()"
   ]
  },
  {
   "cell_type": "markdown",
   "id": "681e786d",
   "metadata": {
    "heading_collapsed": true
   },
   "source": [
    "## Predicción selecionada "
   ]
  },
  {
   "cell_type": "markdown",
   "id": "8f501737",
   "metadata": {
    "hidden": true
   },
   "source": [
    "### Sucursal "
   ]
  },
  {
   "cell_type": "code",
   "execution_count": 16,
   "id": "e55973b8",
   "metadata": {
    "hidden": true,
    "scrolled": false
   },
   "outputs": [
    {
     "name": "stderr",
     "output_type": "stream",
     "text": [
      "INFO:fbprophet:Disabling daily seasonality. Run prophet with daily_seasonality=True to override this.\n"
     ]
    },
    {
     "data": {
      "text/html": [
       "<div>\n",
       "<style scoped>\n",
       "    .dataframe tbody tr th:only-of-type {\n",
       "        vertical-align: middle;\n",
       "    }\n",
       "\n",
       "    .dataframe tbody tr th {\n",
       "        vertical-align: top;\n",
       "    }\n",
       "\n",
       "    .dataframe thead th {\n",
       "        text-align: right;\n",
       "    }\n",
       "</style>\n",
       "<table border=\"1\" class=\"dataframe\">\n",
       "  <thead>\n",
       "    <tr style=\"text-align: right;\">\n",
       "      <th></th>\n",
       "      <th>ds</th>\n",
       "      <th>yhat_lower</th>\n",
       "      <th>yhat_upper</th>\n",
       "      <th>yhat</th>\n",
       "      <th>Material</th>\n",
       "      <th>Oficina de Ventas Unifica</th>\n",
       "      <th>Zona de ventas.1</th>\n",
       "    </tr>\n",
       "  </thead>\n",
       "  <tbody>\n",
       "    <tr>\n",
       "      <th>0</th>\n",
       "      <td>2021-06-07</td>\n",
       "      <td>-58.543473</td>\n",
       "      <td>132.241976</td>\n",
       "      <td>39.029265</td>\n",
       "      <td>1020253</td>\n",
       "      <td>Arica</td>\n",
       "      <td>Norte</td>\n",
       "    </tr>\n",
       "    <tr>\n",
       "      <th>1</th>\n",
       "      <td>2021-06-08</td>\n",
       "      <td>-72.964191</td>\n",
       "      <td>123.108609</td>\n",
       "      <td>26.334752</td>\n",
       "      <td>1020253</td>\n",
       "      <td>Arica</td>\n",
       "      <td>Norte</td>\n",
       "    </tr>\n",
       "    <tr>\n",
       "      <th>2</th>\n",
       "      <td>2021-06-09</td>\n",
       "      <td>-39.051709</td>\n",
       "      <td>163.965287</td>\n",
       "      <td>60.806764</td>\n",
       "      <td>1020253</td>\n",
       "      <td>Arica</td>\n",
       "      <td>Norte</td>\n",
       "    </tr>\n",
       "    <tr>\n",
       "      <th>3</th>\n",
       "      <td>2021-06-10</td>\n",
       "      <td>-58.662076</td>\n",
       "      <td>140.281097</td>\n",
       "      <td>40.848031</td>\n",
       "      <td>1020253</td>\n",
       "      <td>Arica</td>\n",
       "      <td>Norte</td>\n",
       "    </tr>\n",
       "    <tr>\n",
       "      <th>4</th>\n",
       "      <td>2021-06-11</td>\n",
       "      <td>-55.824150</td>\n",
       "      <td>145.435277</td>\n",
       "      <td>44.408593</td>\n",
       "      <td>1020253</td>\n",
       "      <td>Arica</td>\n",
       "      <td>Norte</td>\n",
       "    </tr>\n",
       "  </tbody>\n",
       "</table>\n",
       "</div>"
      ],
      "text/plain": [
       "          ds  yhat_lower  yhat_upper       yhat Material  \\\n",
       "0 2021-06-07  -58.543473  132.241976  39.029265  1020253   \n",
       "1 2021-06-08  -72.964191  123.108609  26.334752  1020253   \n",
       "2 2021-06-09  -39.051709  163.965287  60.806764  1020253   \n",
       "3 2021-06-10  -58.662076  140.281097  40.848031  1020253   \n",
       "4 2021-06-11  -55.824150  145.435277  44.408593  1020253   \n",
       "\n",
       "  Oficina de Ventas Unifica Zona de ventas.1  \n",
       "0                     Arica            Norte  \n",
       "1                     Arica            Norte  \n",
       "2                     Arica            Norte  \n",
       "3                     Arica            Norte  \n",
       "4                     Arica            Norte  "
      ]
     },
     "execution_count": 16,
     "metadata": {},
     "output_type": "execute_result"
    }
   ],
   "source": [
    "df2 = pd.DataFrame(columns=['ds', 'yhat_lower', 'yhat_upper', 'yhat', 'Material','Oficina de Ventas Unifica', 'Zona de ventas.1'])\n",
    "\n",
    "\n",
    "Listado_de_zonas=data['Zona de ventas.1'].unique()\n",
    "\n",
    "#for z in Listado_de_zonas:\n",
    "Z='Norte'\n",
    "\n",
    "dfz=data#Df_ubic(data,'Zona de ventas.1',Z)\n",
    "\n",
    "Listado_de_Sucursales=dfz['Oficina de Ventas Unifica'].unique()\n",
    "\n",
    "#for y in Listado_de_Sucursales:\n",
    "\n",
    "y='Arica'\n",
    "dfy=Df_ubic(dfz,'Oficina de Ventas Unifica',y)\n",
    "\n",
    "\n",
    "Listado_de_Materiales=dfy['Material'].unique()\n",
    "\n",
    "#for m in Listado_de_Materiales:\n",
    "m=Listado_de_Materiales[0]\n",
    "dfm=Df_ubic(dfy,'Material',m).groupby('Día natural').sum().reset_index()[['Día natural',y_col]]\n",
    "\n",
    "dfmPred=Predict_sem(dfm,7)[['ds', 'yhat_lower', 'yhat_upper', 'yhat']].tail(6)\n",
    "dfmPred['Material']=[m for i in range(dfmPred.shape[0])]\n",
    "dfmPred['Oficina de Ventas Unifica']=[y for i in range(dfmPred.shape[0])]\n",
    "dfmPred['Zona de ventas.1']=[Z for i in range(dfmPred.shape[0])]\n",
    "dfmPred=dfmPred.reset_index()\n",
    "dfmPred.pop('index')\n",
    "df2=pd.concat([df2, dfmPred])\n",
    "df2.head()"
   ]
  },
  {
   "cell_type": "markdown",
   "id": "7a69b935",
   "metadata": {
    "hidden": true
   },
   "source": [
    "### Zona "
   ]
  },
  {
   "cell_type": "code",
   "execution_count": 15,
   "id": "40df35ae",
   "metadata": {
    "hidden": true,
    "scrolled": false
   },
   "outputs": [
    {
     "name": "stderr",
     "output_type": "stream",
     "text": [
      "INFO:fbprophet:Disabling daily seasonality. Run prophet with daily_seasonality=True to override this.\n"
     ]
    },
    {
     "data": {
      "text/html": [
       "<div>\n",
       "<style scoped>\n",
       "    .dataframe tbody tr th:only-of-type {\n",
       "        vertical-align: middle;\n",
       "    }\n",
       "\n",
       "    .dataframe tbody tr th {\n",
       "        vertical-align: top;\n",
       "    }\n",
       "\n",
       "    .dataframe thead th {\n",
       "        text-align: right;\n",
       "    }\n",
       "</style>\n",
       "<table border=\"1\" class=\"dataframe\">\n",
       "  <thead>\n",
       "    <tr style=\"text-align: right;\">\n",
       "      <th></th>\n",
       "      <th>ds</th>\n",
       "      <th>yhat_lower</th>\n",
       "      <th>yhat_upper</th>\n",
       "      <th>yhat</th>\n",
       "      <th>Material</th>\n",
       "      <th>Oficina de Ventas Unifica</th>\n",
       "      <th>Zona de ventas.1</th>\n",
       "    </tr>\n",
       "  </thead>\n",
       "  <tbody>\n",
       "    <tr>\n",
       "      <th>0</th>\n",
       "      <td>2021-06-09</td>\n",
       "      <td>10328.520855</td>\n",
       "      <td>19326.677315</td>\n",
       "      <td>14921.542352</td>\n",
       "      <td>1020253</td>\n",
       "      <td>NaN</td>\n",
       "      <td>Santiago</td>\n",
       "    </tr>\n",
       "    <tr>\n",
       "      <th>1</th>\n",
       "      <td>2021-06-10</td>\n",
       "      <td>11333.553333</td>\n",
       "      <td>20577.291727</td>\n",
       "      <td>15906.840248</td>\n",
       "      <td>1020253</td>\n",
       "      <td>NaN</td>\n",
       "      <td>Santiago</td>\n",
       "    </tr>\n",
       "    <tr>\n",
       "      <th>2</th>\n",
       "      <td>2021-06-11</td>\n",
       "      <td>12589.938054</td>\n",
       "      <td>21799.420759</td>\n",
       "      <td>17307.558866</td>\n",
       "      <td>1020253</td>\n",
       "      <td>NaN</td>\n",
       "      <td>Santiago</td>\n",
       "    </tr>\n",
       "    <tr>\n",
       "      <th>3</th>\n",
       "      <td>2021-06-12</td>\n",
       "      <td>9844.006469</td>\n",
       "      <td>18999.174629</td>\n",
       "      <td>14316.186666</td>\n",
       "      <td>1020253</td>\n",
       "      <td>NaN</td>\n",
       "      <td>Santiago</td>\n",
       "    </tr>\n",
       "    <tr>\n",
       "      <th>4</th>\n",
       "      <td>2021-06-13</td>\n",
       "      <td>3012.867351</td>\n",
       "      <td>11956.002515</td>\n",
       "      <td>7294.383870</td>\n",
       "      <td>1020253</td>\n",
       "      <td>NaN</td>\n",
       "      <td>Santiago</td>\n",
       "    </tr>\n",
       "  </tbody>\n",
       "</table>\n",
       "</div>"
      ],
      "text/plain": [
       "          ds    yhat_lower    yhat_upper          yhat Material  \\\n",
       "0 2021-06-09  10328.520855  19326.677315  14921.542352  1020253   \n",
       "1 2021-06-10  11333.553333  20577.291727  15906.840248  1020253   \n",
       "2 2021-06-11  12589.938054  21799.420759  17307.558866  1020253   \n",
       "3 2021-06-12   9844.006469  18999.174629  14316.186666  1020253   \n",
       "4 2021-06-13   3012.867351  11956.002515   7294.383870  1020253   \n",
       "\n",
       "  Oficina de Ventas Unifica Zona de ventas.1  \n",
       "0                       NaN         Santiago  \n",
       "1                       NaN         Santiago  \n",
       "2                       NaN         Santiago  \n",
       "3                       NaN         Santiago  \n",
       "4                       NaN         Santiago  "
      ]
     },
     "execution_count": 15,
     "metadata": {},
     "output_type": "execute_result"
    }
   ],
   "source": [
    "df2 = pd.DataFrame(columns=['ds', 'yhat_lower', 'yhat_upper', 'yhat', 'Material','Oficina de Ventas Unifica', 'Zona de ventas.1'])\n",
    "\n",
    "\n",
    "Listado_de_zonas=data['Zona de ventas.1'].unique()\n",
    "\n",
    "#for z in Listado_de_zonas:\n",
    "Z='Santiago'\n",
    "\n",
    "dfz=data#Df_ubic(data,'Zona de ventas.1',Z)\n",
    "\n",
    "\n",
    "Listado_de_Materiales=dfz['Material'].unique()\n",
    "\n",
    "#for m in Listado_de_Materiales:\n",
    "m=Listado_de_Materiales[0]\n",
    "dfm=Df_ubic(dfz,'Material',m).groupby('Día natural').sum().reset_index()[['Día natural',y_col]]\n",
    "\n",
    "dfmPred=Predict_sem(dfm,7)[['ds', 'yhat_lower', 'yhat_upper', 'yhat']].tail(6)\n",
    "dfmPred['Material']=[m for i in range(dfmPred.shape[0])]\n",
    "#dfmPred['Oficina de Ventas Unifica']=[y for i in range(dfmPred.shape[0])]\n",
    "dfmPred['Zona de ventas.1']=[Z for i in range(dfmPred.shape[0])]\n",
    "dfmPred=dfmPred.reset_index()\n",
    "dfmPred.pop('index')\n",
    "df2=pd.concat([df2, dfmPred])\n",
    "df2.head()"
   ]
  },
  {
   "cell_type": "markdown",
   "id": "06e1cbd9",
   "metadata": {
    "heading_collapsed": true
   },
   "source": [
    "# Predicción Iterativa  "
   ]
  },
  {
   "cell_type": "markdown",
   "id": "b4f9ee0b",
   "metadata": {
    "heading_collapsed": true,
    "hidden": true
   },
   "source": [
    "## Iteración 1 zona"
   ]
  },
  {
   "cell_type": "code",
   "execution_count": 23,
   "id": "4e40c4b8",
   "metadata": {
    "hidden": true,
    "scrolled": true
   },
   "outputs": [
    {
     "name": "stderr",
     "output_type": "stream",
     "text": [
      "INFO:fbprophet:Disabling daily seasonality. Run prophet with daily_seasonality=True to override this.\n"
     ]
    },
    {
     "name": "stdout",
     "output_type": "stream",
     "text": [
      "Antofagasta 1020253\n"
     ]
    },
    {
     "name": "stderr",
     "output_type": "stream",
     "text": [
      "INFO:fbprophet:Disabling weekly seasonality. Run prophet with weekly_seasonality=True to override this.\n",
      "INFO:fbprophet:Disabling daily seasonality. Run prophet with daily_seasonality=True to override this.\n",
      "INFO:fbprophet:n_changepoints greater than number of observations. Using 0.\n"
     ]
    },
    {
     "name": "stdout",
     "output_type": "stream",
     "text": [
      "El producto demoró 3.0505330562591553 Norte Antofagasta\n",
      "tiempo que lleva corriendo 0.055392336845397946 Min\n",
      "Antofagasta 1020042\n"
     ]
    },
    {
     "name": "stderr",
     "output_type": "stream",
     "text": [
      "INFO:fbprophet:Disabling daily seasonality. Run prophet with daily_seasonality=True to override this.\n"
     ]
    },
    {
     "name": "stdout",
     "output_type": "stream",
     "text": [
      "El producto demoró 2.1564173698425293 Norte Antofagasta\n",
      "tiempo que lleva corriendo 0.09134923617045085 Min\n",
      "Antofagasta 1020027\n"
     ]
    },
    {
     "name": "stderr",
     "output_type": "stream",
     "text": [
      "INFO:fbprophet:Disabling daily seasonality. Run prophet with daily_seasonality=True to override this.\n"
     ]
    },
    {
     "name": "stdout",
     "output_type": "stream",
     "text": [
      "El producto demoró 3.395157814025879 Norte Antofagasta\n",
      "tiempo que lleva corriendo 0.14794352054595947 Min\n",
      "Antofagasta 1020013\n"
     ]
    },
    {
     "name": "stderr",
     "output_type": "stream",
     "text": [
      "INFO:fbprophet:Disabling daily seasonality. Run prophet with daily_seasonality=True to override this.\n"
     ]
    },
    {
     "name": "stdout",
     "output_type": "stream",
     "text": [
      "El producto demoró 3.575052261352539 Norte Antofagasta\n",
      "tiempo que lleva corriendo 0.20753607749938965 Min\n",
      "Antofagasta 1020010\n"
     ]
    },
    {
     "name": "stderr",
     "output_type": "stream",
     "text": [
      "INFO:fbprophet:Disabling daily seasonality. Run prophet with daily_seasonality=True to override this.\n"
     ]
    },
    {
     "name": "stdout",
     "output_type": "stream",
     "text": [
      "El producto demoró 3.1436171531677246 Norte Antofagasta\n",
      "tiempo que lleva corriendo 0.25992969671885174 Min\n",
      "Antofagasta 1020003\n"
     ]
    },
    {
     "name": "stderr",
     "output_type": "stream",
     "text": [
      "INFO:fbprophet:Disabling daily seasonality. Run prophet with daily_seasonality=True to override this.\n"
     ]
    },
    {
     "name": "stdout",
     "output_type": "stream",
     "text": [
      "El producto demoró 3.5893185138702393 Norte Antofagasta\n",
      "tiempo que lleva corriendo 0.3197599768638611 Min\n",
      "Antofagasta 1020001\n"
     ]
    },
    {
     "name": "stderr",
     "output_type": "stream",
     "text": [
      "INFO:fbprophet:Disabling daily seasonality. Run prophet with daily_seasonality=True to override this.\n"
     ]
    },
    {
     "name": "stdout",
     "output_type": "stream",
     "text": [
      "El producto demoró 3.0094099044799805 Norte Antofagasta\n",
      "tiempo que lleva corriendo 0.3699168086051941 Min\n",
      "Antofagasta 1010695\n"
     ]
    },
    {
     "name": "stderr",
     "output_type": "stream",
     "text": [
      "INFO:fbprophet:Disabling daily seasonality. Run prophet with daily_seasonality=True to override this.\n"
     ]
    },
    {
     "name": "stdout",
     "output_type": "stream",
     "text": [
      "El producto demoró 2.565720319747925 Norte Antofagasta\n",
      "tiempo que lleva corriendo 0.41270347038904825 Min\n",
      "Antofagasta 1010267\n"
     ]
    },
    {
     "name": "stderr",
     "output_type": "stream",
     "text": [
      "INFO:fbprophet:Disabling daily seasonality. Run prophet with daily_seasonality=True to override this.\n"
     ]
    },
    {
     "name": "stdout",
     "output_type": "stream",
     "text": [
      "El producto demoró 3.941659927368164 Norte Antofagasta\n",
      "tiempo que lleva corriendo 0.47840611934661864 Min\n",
      "Antofagasta 1010078\n"
     ]
    },
    {
     "name": "stderr",
     "output_type": "stream",
     "text": [
      "INFO:fbprophet:Disabling daily seasonality. Run prophet with daily_seasonality=True to override this.\n"
     ]
    },
    {
     "name": "stdout",
     "output_type": "stream",
     "text": [
      "El producto demoró 3.0398364067077637 Norte Antofagasta\n",
      "tiempo que lleva corriendo 0.5290700594584147 Min\n",
      "Antofagasta 1010077\n"
     ]
    },
    {
     "name": "stderr",
     "output_type": "stream",
     "text": [
      "INFO:fbprophet:Disabling daily seasonality. Run prophet with daily_seasonality=True to override this.\n"
     ]
    },
    {
     "name": "stdout",
     "output_type": "stream",
     "text": [
      "El producto demoró 4.175722360610962 Norte Antofagasta\n",
      "tiempo que lleva corriendo 0.5986737410227457 Min\n",
      "Antofagasta 1010048\n"
     ]
    },
    {
     "name": "stderr",
     "output_type": "stream",
     "text": [
      "INFO:fbprophet:Disabling daily seasonality. Run prophet with daily_seasonality=True to override this.\n"
     ]
    },
    {
     "name": "stdout",
     "output_type": "stream",
     "text": [
      "El producto demoró 4.688764810562134 Norte Antofagasta\n",
      "tiempo que lleva corriendo 0.676828138033549 Min\n",
      "Antofagasta 1010002\n"
     ]
    },
    {
     "name": "stderr",
     "output_type": "stream",
     "text": [
      "INFO:fbprophet:Disabling daily seasonality. Run prophet with daily_seasonality=True to override this.\n"
     ]
    },
    {
     "name": "stdout",
     "output_type": "stream",
     "text": [
      "El producto demoró 4.876920223236084 Norte Antofagasta\n",
      "tiempo que lleva corriendo 0.7581184466679891 Min\n",
      "Arica 1020253\n"
     ]
    },
    {
     "name": "stderr",
     "output_type": "stream",
     "text": [
      "INFO:fbprophet:Disabling daily seasonality. Run prophet with daily_seasonality=True to override this.\n"
     ]
    },
    {
     "name": "stdout",
     "output_type": "stream",
     "text": [
      "El producto demoró 2.5203216075897217 Norte Arica\n",
      "tiempo que lleva corriendo 0.8005147337913513 Min\n",
      "Arica 1020027\n"
     ]
    },
    {
     "name": "stderr",
     "output_type": "stream",
     "text": [
      "INFO:fbprophet:Disabling daily seasonality. Run prophet with daily_seasonality=True to override this.\n"
     ]
    },
    {
     "name": "stdout",
     "output_type": "stream",
     "text": [
      "El producto demoró 3.712066888809204 Norte Arica\n",
      "tiempo que lleva corriendo 0.8623825152715047 Min\n",
      "Arica 1020013\n"
     ]
    },
    {
     "name": "stderr",
     "output_type": "stream",
     "text": [
      "INFO:fbprophet:Disabling daily seasonality. Run prophet with daily_seasonality=True to override this.\n"
     ]
    },
    {
     "name": "stdout",
     "output_type": "stream",
     "text": [
      "El producto demoró 4.882405042648315 Norte Arica\n",
      "tiempo que lleva corriendo 0.943772574265798 Min\n",
      "Arica 1020010\n"
     ]
    },
    {
     "name": "stderr",
     "output_type": "stream",
     "text": [
      "INFO:fbprophet:Disabling daily seasonality. Run prophet with daily_seasonality=True to override this.\n"
     ]
    },
    {
     "name": "stdout",
     "output_type": "stream",
     "text": [
      "El producto demoró 2.810284376144409 Norte Arica\n",
      "tiempo que lleva corriendo 0.9906189680099488 Min\n",
      "Arica 1020003\n"
     ]
    },
    {
     "name": "stderr",
     "output_type": "stream",
     "text": [
      "INFO:fbprophet:Disabling daily seasonality. Run prophet with daily_seasonality=True to override this.\n"
     ]
    },
    {
     "name": "stdout",
     "output_type": "stream",
     "text": [
      "El producto demoró 2.9180643558502197 Norte Arica\n",
      "tiempo que lleva corriendo 1.039266284306844 Min\n",
      "Arica 1020001\n"
     ]
    },
    {
     "name": "stderr",
     "output_type": "stream",
     "text": [
      "INFO:fbprophet:Disabling daily seasonality. Run prophet with daily_seasonality=True to override this.\n"
     ]
    },
    {
     "name": "stdout",
     "output_type": "stream",
     "text": [
      "El producto demoró 3.0862743854522705 Norte Arica\n",
      "tiempo que lleva corriendo 1.0907122333844503 Min\n",
      "Arica 1010695\n"
     ]
    },
    {
     "name": "stderr",
     "output_type": "stream",
     "text": [
      "INFO:fbprophet:Disabling daily seasonality. Run prophet with daily_seasonality=True to override this.\n"
     ]
    },
    {
     "name": "stdout",
     "output_type": "stream",
     "text": [
      "El producto demoró 2.504852294921875 Norte Arica\n",
      "tiempo que lleva corriendo 1.1324597716331481 Min\n",
      "Arica 1010267\n"
     ]
    },
    {
     "name": "stderr",
     "output_type": "stream",
     "text": [
      "INFO:fbprophet:Disabling daily seasonality. Run prophet with daily_seasonality=True to override this.\n"
     ]
    },
    {
     "name": "stdout",
     "output_type": "stream",
     "text": [
      "El producto demoró 3.712327241897583 Norte Arica\n",
      "tiempo que lleva corriendo 1.1943482240041097 Min\n",
      "Arica 1010078\n"
     ]
    },
    {
     "name": "stderr",
     "output_type": "stream",
     "text": [
      "INFO:fbprophet:Disabling daily seasonality. Run prophet with daily_seasonality=True to override this.\n"
     ]
    },
    {
     "name": "stdout",
     "output_type": "stream",
     "text": [
      "El producto demoró 4.5145885944366455 Norte Arica\n",
      "tiempo que lleva corriendo 1.269599688053131 Min\n",
      "Arica 1010077\n"
     ]
    },
    {
     "name": "stderr",
     "output_type": "stream",
     "text": [
      "INFO:fbprophet:Disabling daily seasonality. Run prophet with daily_seasonality=True to override this.\n"
     ]
    },
    {
     "name": "stdout",
     "output_type": "stream",
     "text": [
      "El producto demoró 3.626763105392456 Norte Arica\n",
      "tiempo que lleva corriendo 1.3300761024157206 Min\n",
      "Arica 1010048\n"
     ]
    },
    {
     "name": "stderr",
     "output_type": "stream",
     "text": [
      "INFO:fbprophet:Disabling daily seasonality. Run prophet with daily_seasonality=True to override this.\n"
     ]
    },
    {
     "name": "stdout",
     "output_type": "stream",
     "text": [
      "El producto demoró 4.524077653884888 Norte Arica\n",
      "tiempo que lleva corriendo 1.405485705534617 Min\n",
      "Arica 1010002\n"
     ]
    },
    {
     "name": "stderr",
     "output_type": "stream",
     "text": [
      "INFO:fbprophet:Disabling daily seasonality. Run prophet with daily_seasonality=True to override this.\n"
     ]
    },
    {
     "name": "stdout",
     "output_type": "stream",
     "text": [
      "El producto demoró 4.917545795440674 Norte Arica\n",
      "tiempo que lleva corriendo 1.4874531269073485 Min\n",
      "Calama 1020253\n"
     ]
    },
    {
     "name": "stderr",
     "output_type": "stream",
     "text": [
      "INFO:fbprophet:Disabling daily seasonality. Run prophet with daily_seasonality=True to override this.\n",
      "INFO:fbprophet:n_changepoints greater than number of observations. Using 23.\n"
     ]
    },
    {
     "name": "stdout",
     "output_type": "stream",
     "text": [
      "El producto demoró 2.9080796241760254 Norte Calama\n",
      "tiempo que lleva corriendo 1.5363370776176453 Min\n",
      "Calama 1020042\n"
     ]
    },
    {
     "name": "stderr",
     "output_type": "stream",
     "text": [
      "INFO:fbprophet:Disabling daily seasonality. Run prophet with daily_seasonality=True to override this.\n"
     ]
    },
    {
     "name": "stdout",
     "output_type": "stream",
     "text": [
      "El producto demoró 2.9709665775299072 Norte Calama\n",
      "tiempo que lleva corriendo 1.5858614961306254 Min\n",
      "Calama 1020027\n"
     ]
    },
    {
     "name": "stderr",
     "output_type": "stream",
     "text": [
      "INFO:fbprophet:Disabling daily seasonality. Run prophet with daily_seasonality=True to override this.\n"
     ]
    },
    {
     "name": "stdout",
     "output_type": "stream",
     "text": [
      "El producto demoró 3.3567492961883545 Norte Calama\n",
      "tiempo que lleva corriendo 1.6418155948321025 Min\n",
      "Calama 1020013\n"
     ]
    },
    {
     "name": "stderr",
     "output_type": "stream",
     "text": [
      "INFO:fbprophet:Disabling daily seasonality. Run prophet with daily_seasonality=True to override this.\n"
     ]
    },
    {
     "name": "stdout",
     "output_type": "stream",
     "text": [
      "El producto demoró 3.160113573074341 Norte Calama\n",
      "tiempo que lleva corriendo 1.6944841543833415 Min\n",
      "Calama 1020010\n"
     ]
    },
    {
     "name": "stderr",
     "output_type": "stream",
     "text": [
      "INFO:fbprophet:Disabling daily seasonality. Run prophet with daily_seasonality=True to override this.\n"
     ]
    },
    {
     "name": "stdout",
     "output_type": "stream",
     "text": [
      "El producto demoró 4.616400957107544 Norte Calama\n",
      "tiempo que lleva corriendo 1.7714241703351339 Min\n",
      "Calama 1020003\n"
     ]
    },
    {
     "name": "stderr",
     "output_type": "stream",
     "text": [
      "INFO:fbprophet:Disabling daily seasonality. Run prophet with daily_seasonality=True to override this.\n"
     ]
    },
    {
     "name": "stdout",
     "output_type": "stream",
     "text": [
      "El producto demoró 3.4775400161743164 Norte Calama\n",
      "tiempo que lleva corriendo 1.829399542013804 Min\n",
      "Calama 1020001\n"
     ]
    },
    {
     "name": "stderr",
     "output_type": "stream",
     "text": [
      "INFO:fbprophet:Disabling daily seasonality. Run prophet with daily_seasonality=True to override this.\n"
     ]
    },
    {
     "name": "stdout",
     "output_type": "stream",
     "text": [
      "El producto demoró 3.528944253921509 Norte Calama\n",
      "tiempo que lleva corriendo 1.8882152795791627 Min\n",
      "Calama 1010695\n"
     ]
    },
    {
     "name": "stderr",
     "output_type": "stream",
     "text": [
      "INFO:fbprophet:Disabling daily seasonality. Run prophet with daily_seasonality=True to override this.\n"
     ]
    },
    {
     "name": "stdout",
     "output_type": "stream",
     "text": [
      "El producto demoró 2.9494869709014893 Norte Calama\n",
      "tiempo que lleva corriendo 1.9374066710472106 Min\n",
      "Calama 1010267\n"
     ]
    },
    {
     "name": "stderr",
     "output_type": "stream",
     "text": [
      "INFO:fbprophet:Disabling daily seasonality. Run prophet with daily_seasonality=True to override this.\n"
     ]
    },
    {
     "name": "stdout",
     "output_type": "stream",
     "text": [
      "El producto demoró 4.439232110977173 Norte Calama\n",
      "tiempo que lleva corriendo 2.011402173837026 Min\n",
      "Calama 1010078\n"
     ]
    },
    {
     "name": "stderr",
     "output_type": "stream",
     "text": [
      "INFO:fbprophet:Disabling daily seasonality. Run prophet with daily_seasonality=True to override this.\n"
     ]
    },
    {
     "name": "stdout",
     "output_type": "stream",
     "text": [
      "El producto demoró 4.285017490386963 Norte Calama\n",
      "tiempo que lleva corriendo 2.0828274647394815 Min\n",
      "Calama 1010077\n"
     ]
    },
    {
     "name": "stderr",
     "output_type": "stream",
     "text": [
      "INFO:fbprophet:Disabling daily seasonality. Run prophet with daily_seasonality=True to override this.\n"
     ]
    },
    {
     "name": "stdout",
     "output_type": "stream",
     "text": [
      "El producto demoró 4.888894081115723 Norte Calama\n",
      "tiempo que lleva corriendo 2.164334011077881 Min\n",
      "Calama 1010048\n"
     ]
    },
    {
     "name": "stderr",
     "output_type": "stream",
     "text": [
      "INFO:fbprophet:Disabling daily seasonality. Run prophet with daily_seasonality=True to override this.\n"
     ]
    },
    {
     "name": "stdout",
     "output_type": "stream",
     "text": [
      "El producto demoró 3.6846327781677246 Norte Calama\n",
      "tiempo que lleva corriendo 2.22575288216273 Min\n",
      "Calama 1010002\n"
     ]
    },
    {
     "name": "stderr",
     "output_type": "stream",
     "text": [
      "INFO:fbprophet:Disabling daily seasonality. Run prophet with daily_seasonality=True to override this.\n"
     ]
    },
    {
     "name": "stdout",
     "output_type": "stream",
     "text": [
      "El producto demoró 4.196682691574097 Norte Calama\n",
      "tiempo que lleva corriendo 2.2957059105237323 Min\n",
      "Iquique 1020253\n"
     ]
    },
    {
     "name": "stderr",
     "output_type": "stream",
     "text": [
      "INFO:fbprophet:Disabling daily seasonality. Run prophet with daily_seasonality=True to override this.\n"
     ]
    },
    {
     "name": "stdout",
     "output_type": "stream",
     "text": [
      "El producto demoró 3.399685859680176 Norte Iquique\n",
      "tiempo que lleva corriendo 2.3527782758076987 Min\n",
      "Iquique 1020042\n"
     ]
    },
    {
     "name": "stderr",
     "output_type": "stream",
     "text": [
      "INFO:fbprophet:Disabling daily seasonality. Run prophet with daily_seasonality=True to override this.\n"
     ]
    },
    {
     "name": "stdout",
     "output_type": "stream",
     "text": [
      "El producto demoró 4.284542798995972 Norte Iquique\n",
      "tiempo que lleva corriendo 2.4241873224576316 Min\n",
      "Iquique 1020027\n"
     ]
    },
    {
     "name": "stderr",
     "output_type": "stream",
     "text": [
      "INFO:fbprophet:Disabling daily seasonality. Run prophet with daily_seasonality=True to override this.\n"
     ]
    },
    {
     "name": "stdout",
     "output_type": "stream",
     "text": [
      "El producto demoró 2.9855871200561523 Norte Iquique\n",
      "tiempo que lleva corriendo 2.4739551623662313 Min\n",
      "Iquique 1020013\n"
     ]
    },
    {
     "name": "stderr",
     "output_type": "stream",
     "text": [
      "INFO:fbprophet:Disabling daily seasonality. Run prophet with daily_seasonality=True to override this.\n"
     ]
    },
    {
     "name": "stdout",
     "output_type": "stream",
     "text": [
      "El producto demoró 3.19055438041687 Norte Iquique\n",
      "tiempo que lleva corriendo 2.527139397462209 Min\n",
      "Iquique 1020010\n"
     ]
    },
    {
     "name": "stderr",
     "output_type": "stream",
     "text": [
      "INFO:fbprophet:Disabling daily seasonality. Run prophet with daily_seasonality=True to override this.\n"
     ]
    },
    {
     "name": "stdout",
     "output_type": "stream",
     "text": [
      "El producto demoró 4.681185245513916 Norte Iquique\n",
      "tiempo que lleva corriendo 2.6051674683888755 Min\n",
      "Iquique 1020003\n"
     ]
    },
    {
     "name": "stderr",
     "output_type": "stream",
     "text": [
      "INFO:fbprophet:Disabling daily seasonality. Run prophet with daily_seasonality=True to override this.\n"
     ]
    },
    {
     "name": "stdout",
     "output_type": "stream",
     "text": [
      "El producto demoró 3.229001998901367 Norte Iquique\n",
      "tiempo que lleva corriendo 2.658984168370565 Min\n",
      "Iquique 1020001\n"
     ]
    },
    {
     "name": "stderr",
     "output_type": "stream",
     "text": [
      "INFO:fbprophet:Disabling daily seasonality. Run prophet with daily_seasonality=True to override this.\n"
     ]
    },
    {
     "name": "stdout",
     "output_type": "stream",
     "text": [
      "El producto demoró 3.0093941688537598 Norte Iquique\n",
      "tiempo que lleva corriendo 2.7091490666071576 Min\n",
      "Iquique 1010695\n"
     ]
    },
    {
     "name": "stderr",
     "output_type": "stream",
     "text": [
      "INFO:fbprophet:Disabling daily seasonality. Run prophet with daily_seasonality=True to override this.\n"
     ]
    },
    {
     "name": "stdout",
     "output_type": "stream",
     "text": [
      "El producto demoró 2.648578405380249 Norte Iquique\n",
      "tiempo que lleva corriendo 2.7532920400301615 Min\n",
      "Iquique 1010267\n"
     ]
    },
    {
     "name": "stderr",
     "output_type": "stream",
     "text": [
      "INFO:fbprophet:Disabling daily seasonality. Run prophet with daily_seasonality=True to override this.\n"
     ]
    },
    {
     "name": "stdout",
     "output_type": "stream",
     "text": [
      "El producto demoró 3.594806671142578 Norte Iquique\n",
      "tiempo que lleva corriendo 2.8132137934366863 Min\n",
      "Iquique 1010078\n"
     ]
    },
    {
     "name": "stderr",
     "output_type": "stream",
     "text": [
      "INFO:fbprophet:Disabling daily seasonality. Run prophet with daily_seasonality=True to override this.\n"
     ]
    },
    {
     "name": "stdout",
     "output_type": "stream",
     "text": [
      "El producto demoró 3.3787059783935547 Norte Iquique\n",
      "tiempo que lleva corriendo 2.869533888498942 Min\n",
      "Iquique 1010077\n"
     ]
    },
    {
     "name": "stderr",
     "output_type": "stream",
     "text": [
      "INFO:fbprophet:Disabling daily seasonality. Run prophet with daily_seasonality=True to override this.\n"
     ]
    },
    {
     "name": "stdout",
     "output_type": "stream",
     "text": [
      "El producto demoró 3.5423994064331055 Norte Iquique\n",
      "tiempo que lleva corriendo 2.928582199414571 Min\n",
      "Iquique 1010048\n"
     ]
    },
    {
     "name": "stderr",
     "output_type": "stream",
     "text": [
      "INFO:fbprophet:Disabling daily seasonality. Run prophet with daily_seasonality=True to override this.\n"
     ]
    },
    {
     "name": "stdout",
     "output_type": "stream",
     "text": [
      "El producto demoró 3.6851370334625244 Norte Iquique\n",
      "tiempo que lleva corriendo 2.990009431044261 Min\n",
      "Iquique 1010002\n"
     ]
    },
    {
     "name": "stderr",
     "output_type": "stream",
     "text": [
      "INFO:fbprophet:Disabling daily seasonality. Run prophet with daily_seasonality=True to override this.\n"
     ]
    },
    {
     "name": "stdout",
     "output_type": "stream",
     "text": [
      "El producto demoró 4.815030574798584 Norte Iquique\n",
      "tiempo que lleva corriendo 3.0702682614326475 Min\n",
      "Copiapo 1020253\n"
     ]
    },
    {
     "name": "stderr",
     "output_type": "stream",
     "text": [
      "INFO:fbprophet:Disabling weekly seasonality. Run prophet with weekly_seasonality=True to override this.\n",
      "INFO:fbprophet:Disabling daily seasonality. Run prophet with daily_seasonality=True to override this.\n",
      "INFO:fbprophet:n_changepoints greater than number of observations. Using 1.\n"
     ]
    },
    {
     "name": "stdout",
     "output_type": "stream",
     "text": [
      "El producto demoró 3.433603525161743 Norte Copiapo\n",
      "tiempo que lleva corriendo 3.1278942584991456 Min\n",
      "Copiapo 1020042\n"
     ]
    },
    {
     "name": "stderr",
     "output_type": "stream",
     "text": [
      "INFO:fbprophet:Disabling daily seasonality. Run prophet with daily_seasonality=True to override this.\n"
     ]
    },
    {
     "name": "stdout",
     "output_type": "stream",
     "text": [
      "El producto demoró 8.99027395248413 Norte Copiapo\n",
      "tiempo que lleva corriendo 3.2777321577072143 Min\n",
      "Copiapo 1020027\n"
     ]
    },
    {
     "name": "stderr",
     "output_type": "stream",
     "text": [
      "INFO:fbprophet:Disabling daily seasonality. Run prophet with daily_seasonality=True to override this.\n"
     ]
    },
    {
     "name": "stdout",
     "output_type": "stream",
     "text": [
      "El producto demoró 4.435739040374756 Norte Copiapo\n",
      "tiempo que lleva corriendo 3.351669462521871 Min\n",
      "Copiapo 1020013\n"
     ]
    },
    {
     "name": "stderr",
     "output_type": "stream",
     "text": [
      "INFO:fbprophet:Disabling daily seasonality. Run prophet with daily_seasonality=True to override this.\n"
     ]
    },
    {
     "name": "stdout",
     "output_type": "stream",
     "text": [
      "El producto demoró 4.5023791790008545 Norte Copiapo\n",
      "tiempo que lleva corriendo 3.4267091155052185 Min\n",
      "Copiapo 1020010\n"
     ]
    },
    {
     "name": "stderr",
     "output_type": "stream",
     "text": [
      "INFO:fbprophet:Disabling daily seasonality. Run prophet with daily_seasonality=True to override this.\n"
     ]
    },
    {
     "name": "stdout",
     "output_type": "stream",
     "text": [
      "El producto demoró 4.521578788757324 Norte Copiapo\n",
      "tiempo que lleva corriendo 3.5020854036013285 Min\n",
      "Copiapo 1020003\n"
     ]
    },
    {
     "name": "stderr",
     "output_type": "stream",
     "text": [
      "INFO:fbprophet:Disabling daily seasonality. Run prophet with daily_seasonality=True to override this.\n"
     ]
    },
    {
     "name": "stdout",
     "output_type": "stream",
     "text": [
      "El producto demoró 3.182596445083618 Norte Copiapo\n",
      "tiempo que lleva corriendo 3.555139370759328 Min\n",
      "Copiapo 1020001\n"
     ]
    },
    {
     "name": "stderr",
     "output_type": "stream",
     "text": [
      "INFO:fbprophet:Disabling daily seasonality. Run prophet with daily_seasonality=True to override this.\n"
     ]
    },
    {
     "name": "stdout",
     "output_type": "stream",
     "text": [
      "El producto demoró 3.5942699909210205 Norte Copiapo\n",
      "tiempo que lleva corriendo 3.6150521953900654 Min\n",
      "Copiapo 1010695\n"
     ]
    },
    {
     "name": "stderr",
     "output_type": "stream",
     "text": [
      "INFO:fbprophet:Disabling daily seasonality. Run prophet with daily_seasonality=True to override this.\n"
     ]
    },
    {
     "name": "stdout",
     "output_type": "stream",
     "text": [
      "El producto demoró 3.831364154815674 Norte Copiapo\n",
      "tiempo que lleva corriendo 3.6789082646369935 Min\n",
      "Copiapo 1010267\n"
     ]
    },
    {
     "name": "stderr",
     "output_type": "stream",
     "text": [
      "INFO:fbprophet:Disabling daily seasonality. Run prophet with daily_seasonality=True to override this.\n"
     ]
    },
    {
     "name": "stdout",
     "output_type": "stream",
     "text": [
      "El producto demoró 4.492131948471069 Norte Copiapo\n",
      "tiempo que lleva corriendo 3.7537771304448446 Min\n",
      "Copiapo 1010078\n"
     ]
    },
    {
     "name": "stderr",
     "output_type": "stream",
     "text": [
      "INFO:fbprophet:Disabling daily seasonality. Run prophet with daily_seasonality=True to override this.\n"
     ]
    },
    {
     "name": "stdout",
     "output_type": "stream",
     "text": [
      "El producto demoró 4.752649307250977 Norte Copiapo\n",
      "tiempo que lleva corriendo 3.833004593849182 Min\n",
      "Copiapo 1010077\n"
     ]
    },
    {
     "name": "stderr",
     "output_type": "stream",
     "text": [
      "INFO:fbprophet:Disabling daily seasonality. Run prophet with daily_seasonality=True to override this.\n"
     ]
    },
    {
     "name": "stdout",
     "output_type": "stream",
     "text": [
      "El producto demoró 4.728689432144165 Norte Copiapo\n",
      "tiempo que lleva corriendo 3.911816084384918 Min\n",
      "Copiapo 1010048\n"
     ]
    },
    {
     "name": "stderr",
     "output_type": "stream",
     "text": [
      "INFO:fbprophet:Disabling daily seasonality. Run prophet with daily_seasonality=True to override this.\n"
     ]
    },
    {
     "name": "stdout",
     "output_type": "stream",
     "text": [
      "El producto demoró 4.433742046356201 Norte Copiapo\n",
      "tiempo que lleva corriendo 3.9857201099395754 Min\n",
      "Copiapo 1010002\n",
      "El producto demoró 5.248722314834595 Norte Copiapo\n",
      "tiempo que lleva corriendo 4.073223765691122 Min\n",
      "tiempo bloque completo 4.073223765691122 Min\n"
     ]
    },
    {
     "data": {
      "text/html": [
       "<div>\n",
       "<style scoped>\n",
       "    .dataframe tbody tr th:only-of-type {\n",
       "        vertical-align: middle;\n",
       "    }\n",
       "\n",
       "    .dataframe tbody tr th {\n",
       "        vertical-align: top;\n",
       "    }\n",
       "\n",
       "    .dataframe thead th {\n",
       "        text-align: right;\n",
       "    }\n",
       "</style>\n",
       "<table border=\"1\" class=\"dataframe\">\n",
       "  <thead>\n",
       "    <tr style=\"text-align: right;\">\n",
       "      <th></th>\n",
       "      <th>ds</th>\n",
       "      <th>yhat_lower</th>\n",
       "      <th>yhat_upper</th>\n",
       "      <th>yhat</th>\n",
       "      <th>Material</th>\n",
       "      <th>Oficina de Ventas Unifica</th>\n",
       "      <th>Zona de ventas.1</th>\n",
       "    </tr>\n",
       "  </thead>\n",
       "  <tbody>\n",
       "    <tr>\n",
       "      <th>0</th>\n",
       "      <td>2021-06-06</td>\n",
       "      <td>-213.009809</td>\n",
       "      <td>324.855873</td>\n",
       "      <td>47.275884</td>\n",
       "      <td>1020253</td>\n",
       "      <td>Antofagasta</td>\n",
       "      <td>Norte</td>\n",
       "    </tr>\n",
       "    <tr>\n",
       "      <th>1</th>\n",
       "      <td>2021-06-07</td>\n",
       "      <td>-199.780639</td>\n",
       "      <td>331.531749</td>\n",
       "      <td>76.464918</td>\n",
       "      <td>1020253</td>\n",
       "      <td>Antofagasta</td>\n",
       "      <td>Norte</td>\n",
       "    </tr>\n",
       "    <tr>\n",
       "      <th>2</th>\n",
       "      <td>2021-06-08</td>\n",
       "      <td>-175.008560</td>\n",
       "      <td>353.134381</td>\n",
       "      <td>74.623993</td>\n",
       "      <td>1020253</td>\n",
       "      <td>Antofagasta</td>\n",
       "      <td>Norte</td>\n",
       "    </tr>\n",
       "    <tr>\n",
       "      <th>3</th>\n",
       "      <td>2021-06-09</td>\n",
       "      <td>-148.680240</td>\n",
       "      <td>375.212586</td>\n",
       "      <td>103.725185</td>\n",
       "      <td>1020253</td>\n",
       "      <td>Antofagasta</td>\n",
       "      <td>Norte</td>\n",
       "    </tr>\n",
       "    <tr>\n",
       "      <th>4</th>\n",
       "      <td>2021-06-10</td>\n",
       "      <td>-114.364882</td>\n",
       "      <td>435.328510</td>\n",
       "      <td>153.321113</td>\n",
       "      <td>1020253</td>\n",
       "      <td>Antofagasta</td>\n",
       "      <td>Norte</td>\n",
       "    </tr>\n",
       "  </tbody>\n",
       "</table>\n",
       "</div>"
      ],
      "text/plain": [
       "          ds  yhat_lower  yhat_upper        yhat Material  \\\n",
       "0 2021-06-06 -213.009809  324.855873   47.275884  1020253   \n",
       "1 2021-06-07 -199.780639  331.531749   76.464918  1020253   \n",
       "2 2021-06-08 -175.008560  353.134381   74.623993  1020253   \n",
       "3 2021-06-09 -148.680240  375.212586  103.725185  1020253   \n",
       "4 2021-06-10 -114.364882  435.328510  153.321113  1020253   \n",
       "\n",
       "  Oficina de Ventas Unifica Zona de ventas.1  \n",
       "0               Antofagasta            Norte  \n",
       "1               Antofagasta            Norte  \n",
       "2               Antofagasta            Norte  \n",
       "3               Antofagasta            Norte  \n",
       "4               Antofagasta            Norte  "
      ]
     },
     "execution_count": 23,
     "metadata": {},
     "output_type": "execute_result"
    }
   ],
   "source": [
    "df2 = pd.DataFrame(columns=['ds', 'yhat_lower', 'yhat_upper', 'yhat', 'Material','Oficina de Ventas Unifica', 'Zona de ventas.1'])\n",
    "\n",
    "\n",
    "\n",
    "Listado_de_zonas=data['Zona de ventas.1'].unique\n",
    "\n",
    "start_time = time()\n",
    "\n",
    "\n",
    "\n",
    "#for Z in Listado_de_zonas:\n",
    "Z='Norte'\n",
    "\n",
    "dfz=Df_ubic(data,'Zona de ventas.1',Z)\n",
    "\n",
    "Listado_de_Sucursales=dfz[dfz['Día natural'] >datetime.date(2021, 6, 2)]['Oficina de Ventas Unifica'].unique()\n",
    "\n",
    "for y in Listado_de_Sucursales:\n",
    "    #y='Huechuraba'\n",
    "    dfy=Df_ubic(dfz,'Oficina de Ventas Unifica',y)\n",
    "\n",
    "\n",
    "    Listado_de_Materiales=dfy['Material'].unique()\n",
    "\n",
    "    for m in Listado_de_Materiales:\n",
    "        #m=Listado_de_Materiales[0]\n",
    "        material_time=time()\n",
    "        print(y,m)\n",
    "\n",
    "\n",
    "        dfm=Df_ubic(dfy,'Material',m).groupby('Día natural').sum().reset_index()[['Día natural',y_col]]\n",
    "\n",
    "        dfmPred=Predict_sem(dfm,7)[['ds', 'yhat_lower', 'yhat_upper', 'yhat']].tail(6)\n",
    "        dfmPred['Material']=[m for i in range(dfmPred.shape[0])]\n",
    "        dfmPred['Oficina de Ventas Unifica']=[y for i in range(dfmPred.shape[0])]\n",
    "        dfmPred['Zona de ventas.1']=[Z for i in range(dfmPred.shape[0])]\n",
    "        dfmPred=dfmPred.reset_index()\n",
    "        dfmPred.pop('index')\n",
    "        df2=pd.concat([df2, dfmPred])\n",
    "        \n",
    "        print('El producto demoró',(time() - material_time),Z,y)\n",
    "        print('tiempo que lleva corriendo',(time() - start_time)/60,'Min')\n",
    "    \n",
    "print('tiempo bloque completo',(time() - start_time)/60,'Min')\n",
    "df2.head()"
   ]
  },
  {
   "cell_type": "code",
   "execution_count": null,
   "id": "f39c7bf6",
   "metadata": {
    "hidden": true
   },
   "outputs": [],
   "source": [
    "df2.rename(columns = {'ds': 'Día natural', 'yhat': 'Predicción central',\n",
    "                                'yhat_upper': 'Predicción Superior',\n",
    "                                'yhat_lower': 'Predicción Inferior'}, inplace = True)"
   ]
  },
  {
   "cell_type": "code",
   "execution_count": 43,
   "id": "4d80859e",
   "metadata": {
    "hidden": true
   },
   "outputs": [
    {
     "data": {
      "text/plain": [
       "2.7579976757367453"
      ]
     },
     "execution_count": 43,
     "metadata": {},
     "output_type": "execute_result"
    }
   ],
   "source": [
    "165.4798605442047/60"
   ]
  },
  {
   "cell_type": "markdown",
   "id": "41b062d6",
   "metadata": {
    "hidden": true
   },
   "source": [
    "### CSV SAVE "
   ]
  },
  {
   "cell_type": "code",
   "execution_count": 42,
   "id": "ba1ea0c9",
   "metadata": {
    "hidden": true
   },
   "outputs": [
    {
     "name": "stdout",
     "output_type": "stream",
     "text": [
      "2021-06-11\n",
      "2021-06-17\n"
     ]
    }
   ],
   "source": [
    "\n",
    "min_time=df2['Día natural'].min()\n",
    "min_time=str(min_time).split(' ')[0]\n",
    "print(min_time)\n",
    "max_time=df2['Día natural'].max()\n",
    "max_time=str(max_time).split(' ')[0]\n",
    "print(max_time)"
   ]
  },
  {
   "cell_type": "code",
   "execution_count": 59,
   "id": "bf2e148e",
   "metadata": {
    "hidden": true
   },
   "outputs": [],
   "source": [
    "#Error_DF_Sum.to_csv('E_interv_Dem.csv', index=False)\n",
    "df2.to_csv('Predicción Zona '+Z+max_time+'.csv', index=False)"
   ]
  },
  {
   "cell_type": "markdown",
   "id": "5e7a0d1b",
   "metadata": {
    "heading_collapsed": true,
    "hidden": true
   },
   "source": [
    "## Iteración completa Zona, Sucursal"
   ]
  },
  {
   "cell_type": "code",
   "execution_count": 51,
   "id": "6a36ffb5",
   "metadata": {
    "hidden": true
   },
   "outputs": [
    {
     "name": "stdout",
     "output_type": "stream",
     "text": [
      "Santiago\n"
     ]
    },
    {
     "name": "stderr",
     "output_type": "stream",
     "text": [
      "INFO:fbprophet:Disabling daily seasonality. Run prophet with daily_seasonality=True to override this.\n"
     ]
    },
    {
     "name": "stdout",
     "output_type": "stream",
     "text": [
      "Huechuraba\n"
     ]
    },
    {
     "name": "stderr",
     "output_type": "stream",
     "text": [
      "INFO:fbprophet:Disabling daily seasonality. Run prophet with daily_seasonality=True to override this.\n"
     ]
    },
    {
     "name": "stdout",
     "output_type": "stream",
     "text": [
      "El producto demoró 3.9820947647094727 Santiago Huechuraba\n",
      "tiempo que lleva corriendo 0.07101769049962361 Min\n"
     ]
    },
    {
     "name": "stderr",
     "output_type": "stream",
     "text": [
      "INFO:fbprophet:Disabling daily seasonality. Run prophet with daily_seasonality=True to override this.\n"
     ]
    },
    {
     "name": "stdout",
     "output_type": "stream",
     "text": [
      "El producto demoró 4.485663890838623 Santiago Huechuraba\n",
      "tiempo que lleva corriendo 0.1457870841026306 Min\n"
     ]
    },
    {
     "name": "stderr",
     "output_type": "stream",
     "text": [
      "INFO:fbprophet:Disabling daily seasonality. Run prophet with daily_seasonality=True to override this.\n"
     ]
    },
    {
     "name": "stdout",
     "output_type": "stream",
     "text": [
      "El producto demoró 10.239967584609985 Santiago Huechuraba\n",
      "tiempo que lleva corriendo 0.3164615313212077 Min\n"
     ]
    },
    {
     "name": "stderr",
     "output_type": "stream",
     "text": [
      "INFO:fbprophet:Disabling daily seasonality. Run prophet with daily_seasonality=True to override this.\n"
     ]
    },
    {
     "name": "stdout",
     "output_type": "stream",
     "text": [
      "El producto demoró 3.8613240718841553 Santiago Huechuraba\n",
      "tiempo que lleva corriendo 0.3808335781097412 Min\n"
     ]
    },
    {
     "name": "stderr",
     "output_type": "stream",
     "text": [
      "INFO:fbprophet:Disabling daily seasonality. Run prophet with daily_seasonality=True to override this.\n"
     ]
    },
    {
     "name": "stdout",
     "output_type": "stream",
     "text": [
      "El producto demoró 4.612666368484497 Santiago Huechuraba\n",
      "tiempo que lleva corriendo 0.4577113509178162 Min\n"
     ]
    },
    {
     "name": "stderr",
     "output_type": "stream",
     "text": [
      "INFO:fbprophet:Disabling daily seasonality. Run prophet with daily_seasonality=True to override this.\n"
     ]
    },
    {
     "name": "stdout",
     "output_type": "stream",
     "text": [
      "El producto demoró 4.367082118988037 Santiago Huechuraba\n",
      "tiempo que lleva corriendo 0.5304960529009501 Min\n"
     ]
    },
    {
     "name": "stderr",
     "output_type": "stream",
     "text": [
      "INFO:fbprophet:Disabling daily seasonality. Run prophet with daily_seasonality=True to override this.\n"
     ]
    },
    {
     "name": "stdout",
     "output_type": "stream",
     "text": [
      "El producto demoró 4.361393928527832 Santiago Huechuraba\n",
      "tiempo que lleva corriendo 0.6031942764918009 Min\n"
     ]
    },
    {
     "name": "stderr",
     "output_type": "stream",
     "text": [
      "INFO:fbprophet:Disabling daily seasonality. Run prophet with daily_seasonality=True to override this.\n"
     ]
    },
    {
     "name": "stdout",
     "output_type": "stream",
     "text": [
      "El producto demoró 6.211955308914185 Santiago Huechuraba\n",
      "tiempo que lleva corriendo 0.7067434986432394 Min\n"
     ]
    },
    {
     "name": "stderr",
     "output_type": "stream",
     "text": [
      "INFO:fbprophet:Disabling daily seasonality. Run prophet with daily_seasonality=True to override this.\n"
     ]
    },
    {
     "name": "stdout",
     "output_type": "stream",
     "text": [
      "El producto demoró 4.987232446670532 Santiago Huechuraba\n",
      "tiempo que lleva corriendo 0.7898640394210815 Min\n"
     ]
    },
    {
     "name": "stderr",
     "output_type": "stream",
     "text": [
      "INFO:fbprophet:Disabling daily seasonality. Run prophet with daily_seasonality=True to override this.\n"
     ]
    },
    {
     "name": "stdout",
     "output_type": "stream",
     "text": [
      "El producto demoró 4.35440731048584 Santiago Huechuraba\n",
      "tiempo que lleva corriendo 0.8624541362126669 Min\n"
     ]
    },
    {
     "name": "stderr",
     "output_type": "stream",
     "text": [
      "INFO:fbprophet:Disabling daily seasonality. Run prophet with daily_seasonality=True to override this.\n"
     ]
    },
    {
     "name": "stdout",
     "output_type": "stream",
     "text": [
      "El producto demoró 4.607436895370483 Santiago Huechuraba\n",
      "tiempo que lleva corriendo 0.9392447511355082 Min\n"
     ]
    },
    {
     "name": "stderr",
     "output_type": "stream",
     "text": [
      "INFO:fbprophet:Disabling daily seasonality. Run prophet with daily_seasonality=True to override this.\n"
     ]
    },
    {
     "name": "stdout",
     "output_type": "stream",
     "text": [
      "El producto demoró 4.744182348251343 Santiago Huechuraba\n",
      "tiempo que lleva corriendo 1.0183310747146606 Min\n"
     ]
    },
    {
     "name": "stderr",
     "output_type": "stream",
     "text": [
      "INFO:fbprophet:Disabling daily seasonality. Run prophet with daily_seasonality=True to override this.\n"
     ]
    },
    {
     "name": "stdout",
     "output_type": "stream",
     "text": [
      "El producto demoró 4.639377117156982 Santiago Huechuraba\n",
      "tiempo que lleva corriendo 1.0956623395284018 Min\n",
      "Lo Espejo\n"
     ]
    },
    {
     "name": "stderr",
     "output_type": "stream",
     "text": [
      "INFO:fbprophet:Disabling daily seasonality. Run prophet with daily_seasonality=True to override this.\n"
     ]
    },
    {
     "name": "stdout",
     "output_type": "stream",
     "text": [
      "El producto demoró 4.362733364105225 Santiago Lo Espejo\n",
      "tiempo que lleva corriendo 1.1688653389612833 Min\n"
     ]
    },
    {
     "name": "stderr",
     "output_type": "stream",
     "text": [
      "INFO:fbprophet:Disabling daily seasonality. Run prophet with daily_seasonality=True to override this.\n"
     ]
    },
    {
     "name": "stdout",
     "output_type": "stream",
     "text": [
      "El producto demoró 4.293521404266357 Santiago Lo Espejo\n",
      "tiempo que lleva corriendo 1.2404406428337098 Min\n"
     ]
    },
    {
     "name": "stderr",
     "output_type": "stream",
     "text": [
      "INFO:fbprophet:Disabling daily seasonality. Run prophet with daily_seasonality=True to override this.\n"
     ]
    },
    {
     "name": "stdout",
     "output_type": "stream",
     "text": [
      "El producto demoró 4.264574289321899 Santiago Lo Espejo\n",
      "tiempo que lleva corriendo 1.3115168809890747 Min\n"
     ]
    },
    {
     "name": "stderr",
     "output_type": "stream",
     "text": [
      "INFO:fbprophet:Disabling daily seasonality. Run prophet with daily_seasonality=True to override this.\n"
     ]
    },
    {
     "name": "stdout",
     "output_type": "stream",
     "text": [
      "El producto demoró 3.462066888809204 Santiago Lo Espejo\n",
      "tiempo que lleva corriendo 1.3692263086636862 Min\n"
     ]
    },
    {
     "name": "stderr",
     "output_type": "stream",
     "text": [
      "INFO:fbprophet:Disabling daily seasonality. Run prophet with daily_seasonality=True to override this.\n"
     ]
    },
    {
     "name": "stdout",
     "output_type": "stream",
     "text": [
      "El producto demoró 7.981665849685669 Santiago Lo Espejo\n",
      "tiempo que lleva corriendo 1.502254072825114 Min\n"
     ]
    },
    {
     "name": "stderr",
     "output_type": "stream",
     "text": [
      "INFO:fbprophet:Disabling daily seasonality. Run prophet with daily_seasonality=True to override this.\n"
     ]
    },
    {
     "name": "stdout",
     "output_type": "stream",
     "text": [
      "El producto demoró 4.384350538253784 Santiago Lo Espejo\n",
      "tiempo que lleva corriendo 1.5753432194391885 Min\n"
     ]
    },
    {
     "name": "stderr",
     "output_type": "stream",
     "text": [
      "INFO:fbprophet:Disabling daily seasonality. Run prophet with daily_seasonality=True to override this.\n"
     ]
    },
    {
     "name": "stdout",
     "output_type": "stream",
     "text": [
      "El producto demoró 3.9461686611175537 Santiago Lo Espejo\n",
      "tiempo que lleva corriendo 1.6411293387413024 Min\n"
     ]
    },
    {
     "name": "stderr",
     "output_type": "stream",
     "text": [
      "INFO:fbprophet:Disabling daily seasonality. Run prophet with daily_seasonality=True to override this.\n"
     ]
    },
    {
     "name": "stdout",
     "output_type": "stream",
     "text": [
      "El producto demoró 3.6252591609954834 Santiago Lo Espejo\n",
      "tiempo que lleva corriendo 1.7015586455663045 Min\n"
     ]
    },
    {
     "name": "stderr",
     "output_type": "stream",
     "text": [
      "INFO:fbprophet:Disabling daily seasonality. Run prophet with daily_seasonality=True to override this.\n"
     ]
    },
    {
     "name": "stdout",
     "output_type": "stream",
     "text": [
      "El producto demoró 4.896898984909058 Santiago Lo Espejo\n",
      "tiempo que lleva corriendo 1.7831819454828899 Min\n"
     ]
    },
    {
     "name": "stderr",
     "output_type": "stream",
     "text": [
      "INFO:fbprophet:Disabling daily seasonality. Run prophet with daily_seasonality=True to override this.\n"
     ]
    },
    {
     "name": "stdout",
     "output_type": "stream",
     "text": [
      "El producto demoró 4.661836624145508 Santiago Lo Espejo\n",
      "tiempo que lleva corriendo 1.8608792225519817 Min\n"
     ]
    },
    {
     "name": "stderr",
     "output_type": "stream",
     "text": [
      "INFO:fbprophet:Disabling daily seasonality. Run prophet with daily_seasonality=True to override this.\n"
     ]
    },
    {
     "name": "stdout",
     "output_type": "stream",
     "text": [
      "El producto demoró 3.754025459289551 Santiago Lo Espejo\n",
      "tiempo que lleva corriendo 1.9234463135401407 Min\n"
     ]
    },
    {
     "name": "stderr",
     "output_type": "stream",
     "text": [
      "INFO:fbprophet:Disabling daily seasonality. Run prophet with daily_seasonality=True to override this.\n"
     ]
    },
    {
     "name": "stdout",
     "output_type": "stream",
     "text": [
      "El producto demoró 4.055459499359131 Santiago Lo Espejo\n",
      "tiempo que lleva corriendo 1.9910539507865905 Min\n"
     ]
    },
    {
     "name": "stderr",
     "output_type": "stream",
     "text": [
      "INFO:fbprophet:Disabling daily seasonality. Run prophet with daily_seasonality=True to override this.\n"
     ]
    },
    {
     "name": "stdout",
     "output_type": "stream",
     "text": [
      "El producto demoró 4.0355000495910645 Santiago Lo Espejo\n",
      "tiempo que lleva corriendo 2.0583122849464415 Min\n",
      "Sucursal Miraflores\n"
     ]
    },
    {
     "name": "stderr",
     "output_type": "stream",
     "text": [
      "INFO:fbprophet:Disabling daily seasonality. Run prophet with daily_seasonality=True to override this.\n"
     ]
    },
    {
     "name": "stdout",
     "output_type": "stream",
     "text": [
      "El producto demoró 3.1631243228912354 Santiago Sucursal Miraflores\n",
      "tiempo que lleva corriendo 2.111571701367696 Min\n"
     ]
    },
    {
     "name": "stderr",
     "output_type": "stream",
     "text": [
      "INFO:fbprophet:Disabling daily seasonality. Run prophet with daily_seasonality=True to override this.\n"
     ]
    },
    {
     "name": "stdout",
     "output_type": "stream",
     "text": [
      "El producto demoró 2.960493803024292 Santiago Sucursal Miraflores\n",
      "tiempo que lleva corriendo 2.1609132647514344 Min\n"
     ]
    },
    {
     "name": "stderr",
     "output_type": "stream",
     "text": [
      "INFO:fbprophet:Disabling daily seasonality. Run prophet with daily_seasonality=True to override this.\n"
     ]
    },
    {
     "name": "stdout",
     "output_type": "stream",
     "text": [
      "El producto demoró 3.93170428276062 Santiago Sucursal Miraflores\n",
      "tiempo que lleva corriendo 2.226441669464111 Min\n"
     ]
    },
    {
     "name": "stderr",
     "output_type": "stream",
     "text": [
      "INFO:fbprophet:Disabling daily seasonality. Run prophet with daily_seasonality=True to override this.\n"
     ]
    },
    {
     "name": "stdout",
     "output_type": "stream",
     "text": [
      "El producto demoró 4.379349708557129 Santiago Sucursal Miraflores\n",
      "tiempo que lleva corriendo 2.2994391520818076 Min\n"
     ]
    },
    {
     "name": "stderr",
     "output_type": "stream",
     "text": [
      "INFO:fbprophet:Disabling daily seasonality. Run prophet with daily_seasonality=True to override this.\n"
     ]
    },
    {
     "name": "stdout",
     "output_type": "stream",
     "text": [
      "El producto demoró 5.486805200576782 Santiago Sucursal Miraflores\n",
      "tiempo que lleva corriendo 2.3908859054247538 Min\n"
     ]
    },
    {
     "name": "stderr",
     "output_type": "stream",
     "text": [
      "INFO:fbprophet:Disabling daily seasonality. Run prophet with daily_seasonality=True to override this.\n"
     ]
    },
    {
     "name": "stdout",
     "output_type": "stream",
     "text": [
      "El producto demoró 4.833014965057373 Santiago Sucursal Miraflores\n",
      "tiempo que lleva corriendo 2.471452784538269 Min\n"
     ]
    },
    {
     "name": "stderr",
     "output_type": "stream",
     "text": [
      "INFO:fbprophet:Disabling daily seasonality. Run prophet with daily_seasonality=True to override this.\n"
     ]
    },
    {
     "name": "stdout",
     "output_type": "stream",
     "text": [
      "El producto demoró 3.5484073162078857 Santiago Sucursal Miraflores\n",
      "tiempo que lleva corriendo 2.530592906475067 Min\n"
     ]
    },
    {
     "name": "stderr",
     "output_type": "stream",
     "text": [
      "INFO:fbprophet:Disabling daily seasonality. Run prophet with daily_seasonality=True to override this.\n"
     ]
    },
    {
     "name": "stdout",
     "output_type": "stream",
     "text": [
      "El producto demoró 4.042487621307373 Santiago Sucursal Miraflores\n",
      "tiempo que lleva corriendo 2.597975997130076 Min\n"
     ]
    },
    {
     "name": "stderr",
     "output_type": "stream",
     "text": [
      "INFO:fbprophet:Disabling daily seasonality. Run prophet with daily_seasonality=True to override this.\n"
     ]
    },
    {
     "name": "stdout",
     "output_type": "stream",
     "text": [
      "El producto demoró 5.00467586517334 Santiago Sucursal Miraflores\n",
      "tiempo que lleva corriendo 2.681403867403666 Min\n"
     ]
    },
    {
     "name": "stderr",
     "output_type": "stream",
     "text": [
      "INFO:fbprophet:Disabling daily seasonality. Run prophet with daily_seasonality=True to override this.\n"
     ]
    },
    {
     "name": "stdout",
     "output_type": "stream",
     "text": [
      "El producto demoró 3.4665603637695312 Santiago Sucursal Miraflores\n",
      "tiempo que lleva corriendo 2.739196467399597 Min\n"
     ]
    },
    {
     "name": "stderr",
     "output_type": "stream",
     "text": [
      "INFO:fbprophet:Disabling daily seasonality. Run prophet with daily_seasonality=True to override this.\n"
     ]
    },
    {
     "name": "stdout",
     "output_type": "stream",
     "text": [
      "El producto demoró 4.281016111373901 Santiago Sucursal Miraflores\n",
      "tiempo que lleva corriendo 2.810555036862691 Min\n"
     ]
    },
    {
     "name": "stderr",
     "output_type": "stream",
     "text": [
      "INFO:fbprophet:Disabling daily seasonality. Run prophet with daily_seasonality=True to override this.\n"
     ]
    },
    {
     "name": "stdout",
     "output_type": "stream",
     "text": [
      "El producto demoró 4.989729166030884 Santiago Sucursal Miraflores\n",
      "tiempo que lleva corriendo 2.8937254468599956 Min\n",
      "El producto demoró 4.596957206726074 Santiago Sucursal Miraflores\n",
      "tiempo que lleva corriendo 2.97034140030543 Min\n",
      "Centro Norte\n"
     ]
    },
    {
     "name": "stderr",
     "output_type": "stream",
     "text": [
      "INFO:fbprophet:Disabling daily seasonality. Run prophet with daily_seasonality=True to override this.\n"
     ]
    },
    {
     "name": "stdout",
     "output_type": "stream",
     "text": [
      "Coquimbo\n"
     ]
    },
    {
     "name": "stderr",
     "output_type": "stream",
     "text": [
      "INFO:fbprophet:Disabling daily seasonality. Run prophet with daily_seasonality=True to override this.\n"
     ]
    },
    {
     "name": "stdout",
     "output_type": "stream",
     "text": [
      "El producto demoró 3.020404815673828 Centro Norte Coquimbo\n",
      "tiempo que lleva corriendo 3.02566389242808 Min\n"
     ]
    },
    {
     "name": "stderr",
     "output_type": "stream",
     "text": [
      "INFO:fbprophet:Disabling daily seasonality. Run prophet with daily_seasonality=True to override this.\n"
     ]
    },
    {
     "name": "stdout",
     "output_type": "stream",
     "text": [
      "El producto demoró 3.0353426933288574 Centro Norte Coquimbo\n",
      "tiempo que lleva corriendo 3.0762529373168945 Min\n"
     ]
    },
    {
     "name": "stderr",
     "output_type": "stream",
     "text": [
      "INFO:fbprophet:Disabling daily seasonality. Run prophet with daily_seasonality=True to override this.\n"
     ]
    },
    {
     "name": "stdout",
     "output_type": "stream",
     "text": [
      "El producto demoró 4.5535337924957275 Centro Norte Coquimbo\n",
      "tiempo que lleva corriendo 3.1521618127822877 Min\n"
     ]
    },
    {
     "name": "stderr",
     "output_type": "stream",
     "text": [
      "INFO:fbprophet:Disabling daily seasonality. Run prophet with daily_seasonality=True to override this.\n"
     ]
    },
    {
     "name": "stdout",
     "output_type": "stream",
     "text": [
      "El producto demoró 4.475183963775635 Centro Norte Coquimbo\n",
      "tiempo que lleva corriendo 3.2267565449078877 Min\n"
     ]
    },
    {
     "name": "stderr",
     "output_type": "stream",
     "text": [
      "INFO:fbprophet:Disabling daily seasonality. Run prophet with daily_seasonality=True to override this.\n"
     ]
    },
    {
     "name": "stdout",
     "output_type": "stream",
     "text": [
      "El producto demoró 4.701758861541748 Centro Norte Coquimbo\n",
      "tiempo que lleva corriendo 3.3051191926002503 Min\n"
     ]
    },
    {
     "name": "stderr",
     "output_type": "stream",
     "text": [
      "INFO:fbprophet:Disabling daily seasonality. Run prophet with daily_seasonality=True to override this.\n"
     ]
    },
    {
     "name": "stdout",
     "output_type": "stream",
     "text": [
      "El producto demoró 3.675668239593506 Centro Norte Coquimbo\n",
      "tiempo que lleva corriendo 3.366396975517273 Min\n"
     ]
    },
    {
     "name": "stderr",
     "output_type": "stream",
     "text": [
      "INFO:fbprophet:Disabling daily seasonality. Run prophet with daily_seasonality=True to override this.\n"
     ]
    },
    {
     "name": "stdout",
     "output_type": "stream",
     "text": [
      "El producto demoró 3.6382384300231934 Centro Norte Coquimbo\n",
      "tiempo que lleva corriendo 3.42704260746638 Min\n"
     ]
    },
    {
     "name": "stderr",
     "output_type": "stream",
     "text": [
      "INFO:fbprophet:Disabling daily seasonality. Run prophet with daily_seasonality=True to override this.\n"
     ]
    },
    {
     "name": "stdout",
     "output_type": "stream",
     "text": [
      "El producto demoró 3.32532000541687 Centro Norte Coquimbo\n",
      "tiempo que lleva corriendo 3.4824729124704996 Min\n"
     ]
    },
    {
     "name": "stderr",
     "output_type": "stream",
     "text": [
      "INFO:fbprophet:Disabling daily seasonality. Run prophet with daily_seasonality=True to override this.\n"
     ]
    },
    {
     "name": "stdout",
     "output_type": "stream",
     "text": [
      "El producto demoró 3.9756150245666504 Centro Norte Coquimbo\n",
      "tiempo que lleva corriendo 3.5487331628799437 Min\n"
     ]
    },
    {
     "name": "stderr",
     "output_type": "stream",
     "text": [
      "INFO:fbprophet:Disabling daily seasonality. Run prophet with daily_seasonality=True to override this.\n"
     ]
    },
    {
     "name": "stdout",
     "output_type": "stream",
     "text": [
      "El producto demoró 5.349555969238281 Centro Norte Coquimbo\n",
      "tiempo que lleva corriendo 3.6379090388615927 Min\n"
     ]
    },
    {
     "name": "stderr",
     "output_type": "stream",
     "text": [
      "INFO:fbprophet:Disabling daily seasonality. Run prophet with daily_seasonality=True to override this.\n"
     ]
    },
    {
     "name": "stdout",
     "output_type": "stream",
     "text": [
      "El producto demoró 4.67581033706665 Centro Norte Coquimbo\n",
      "tiempo que lleva corriendo 3.715839211146037 Min\n"
     ]
    },
    {
     "name": "stderr",
     "output_type": "stream",
     "text": [
      "INFO:fbprophet:Disabling daily seasonality. Run prophet with daily_seasonality=True to override this.\n"
     ]
    },
    {
     "name": "stdout",
     "output_type": "stream",
     "text": [
      "El producto demoró 5.1594109535217285 Centro Norte Coquimbo\n",
      "tiempo que lleva corriendo 3.801837706565857 Min\n"
     ]
    },
    {
     "name": "stderr",
     "output_type": "stream",
     "text": [
      "INFO:fbprophet:Disabling daily seasonality. Run prophet with daily_seasonality=True to override this.\n"
     ]
    },
    {
     "name": "stdout",
     "output_type": "stream",
     "text": [
      "El producto demoró 5.037137508392334 Centro Norte Coquimbo\n",
      "tiempo que lleva corriendo 3.8857983509699503 Min\n",
      "Hijuelas\n"
     ]
    },
    {
     "name": "stderr",
     "output_type": "stream",
     "text": [
      "INFO:fbprophet:Disabling daily seasonality. Run prophet with daily_seasonality=True to override this.\n"
     ]
    },
    {
     "name": "stdout",
     "output_type": "stream",
     "text": [
      "El producto demoró 4.813551664352417 Centro Norte Hijuelas\n",
      "tiempo que lleva corriendo 3.966639753182729 Min\n"
     ]
    },
    {
     "name": "stderr",
     "output_type": "stream",
     "text": [
      "INFO:fbprophet:Disabling daily seasonality. Run prophet with daily_seasonality=True to override this.\n"
     ]
    },
    {
     "name": "stdout",
     "output_type": "stream",
     "text": [
      "El producto demoró 5.071078300476074 Centro Norte Hijuelas\n",
      "tiempo que lleva corriendo 4.051166009902954 Min\n"
     ]
    },
    {
     "name": "stderr",
     "output_type": "stream",
     "text": [
      "INFO:fbprophet:Disabling daily seasonality. Run prophet with daily_seasonality=True to override this.\n"
     ]
    },
    {
     "name": "stdout",
     "output_type": "stream",
     "text": [
      "El producto demoró 4.08390998840332 Centro Norte Hijuelas\n",
      "tiempo que lleva corriendo 4.1192394932111105 Min\n"
     ]
    },
    {
     "name": "stderr",
     "output_type": "stream",
     "text": [
      "INFO:fbprophet:Disabling daily seasonality. Run prophet with daily_seasonality=True to override this.\n"
     ]
    },
    {
     "name": "stdout",
     "output_type": "stream",
     "text": [
      "El producto demoró 3.7515270709991455 Centro Norte Hijuelas\n",
      "tiempo que lleva corriendo 4.18176494439443 Min\n"
     ]
    },
    {
     "name": "stderr",
     "output_type": "stream",
     "text": [
      "INFO:fbprophet:Disabling daily seasonality. Run prophet with daily_seasonality=True to override this.\n"
     ]
    },
    {
     "name": "stdout",
     "output_type": "stream",
     "text": [
      "El producto demoró 3.818899154663086 Centro Norte Hijuelas\n",
      "tiempo que lleva corriendo 4.2454299608866375 Min\n"
     ]
    },
    {
     "name": "stderr",
     "output_type": "stream",
     "text": [
      "INFO:fbprophet:Disabling daily seasonality. Run prophet with daily_seasonality=True to override this.\n"
     ]
    },
    {
     "name": "stdout",
     "output_type": "stream",
     "text": [
      "El producto demoró 4.289028882980347 Centro Norte Hijuelas\n",
      "tiempo que lleva corriendo 4.316922096411387 Min\n"
     ]
    },
    {
     "name": "stderr",
     "output_type": "stream",
     "text": [
      "INFO:fbprophet:Disabling daily seasonality. Run prophet with daily_seasonality=True to override this.\n"
     ]
    },
    {
     "name": "stdout",
     "output_type": "stream",
     "text": [
      "El producto demoró 4.230138301849365 Centro Norte Hijuelas\n",
      "tiempo que lleva corriendo 4.387432706356049 Min\n"
     ]
    },
    {
     "name": "stderr",
     "output_type": "stream",
     "text": [
      "INFO:fbprophet:Disabling daily seasonality. Run prophet with daily_seasonality=True to override this.\n"
     ]
    },
    {
     "name": "stdout",
     "output_type": "stream",
     "text": [
      "El producto demoró 4.2830421924591064 Centro Norte Hijuelas\n",
      "tiempo que lleva corriendo 4.458816742897033 Min\n"
     ]
    },
    {
     "name": "stderr",
     "output_type": "stream",
     "text": [
      "INFO:fbprophet:Disabling daily seasonality. Run prophet with daily_seasonality=True to override this.\n"
     ]
    },
    {
     "name": "stdout",
     "output_type": "stream",
     "text": [
      "El producto demoró 3.827383279800415 Centro Norte Hijuelas\n",
      "tiempo que lleva corriendo 4.5226231137911475 Min\n"
     ]
    },
    {
     "name": "stderr",
     "output_type": "stream",
     "text": [
      "INFO:fbprophet:Disabling daily seasonality. Run prophet with daily_seasonality=True to override this.\n"
     ]
    },
    {
     "name": "stdout",
     "output_type": "stream",
     "text": [
      "El producto demoró 4.201192140579224 Centro Norte Hijuelas\n",
      "tiempo que lleva corriendo 4.592642982800801 Min\n"
     ]
    },
    {
     "name": "stderr",
     "output_type": "stream",
     "text": [
      "INFO:fbprophet:Disabling daily seasonality. Run prophet with daily_seasonality=True to override this.\n"
     ]
    },
    {
     "name": "stdout",
     "output_type": "stream",
     "text": [
      "El producto demoró 3.506484270095825 Centro Norte Hijuelas\n",
      "tiempo que lleva corriendo 4.651092704137167 Min\n"
     ]
    },
    {
     "name": "stderr",
     "output_type": "stream",
     "text": [
      "INFO:fbprophet:Disabling daily seasonality. Run prophet with daily_seasonality=True to override this.\n"
     ]
    },
    {
     "name": "stdout",
     "output_type": "stream",
     "text": [
      "El producto demoró 3.9541783332824707 Centro Norte Hijuelas\n",
      "tiempo que lleva corriendo 4.71700398127238 Min\n"
     ]
    },
    {
     "name": "stderr",
     "output_type": "stream",
     "text": [
      "INFO:fbprophet:Disabling daily seasonality. Run prophet with daily_seasonality=True to override this.\n"
     ]
    },
    {
     "name": "stdout",
     "output_type": "stream",
     "text": [
      "El producto demoró 3.7056164741516113 Centro Norte Hijuelas\n",
      "tiempo que lleva corriendo 4.7787725806236265 Min\n",
      "San Antonio\n"
     ]
    },
    {
     "name": "stderr",
     "output_type": "stream",
     "text": [
      "INFO:fbprophet:Disabling daily seasonality. Run prophet with daily_seasonality=True to override this.\n"
     ]
    },
    {
     "name": "stdout",
     "output_type": "stream",
     "text": [
      "El producto demoró 3.8817827701568604 Centro Norte San Antonio\n",
      "tiempo que lleva corriendo 4.84420094092687 Min\n"
     ]
    },
    {
     "name": "stderr",
     "output_type": "stream",
     "text": [
      "INFO:fbprophet:Disabling daily seasonality. Run prophet with daily_seasonality=True to override this.\n"
     ]
    },
    {
     "name": "stdout",
     "output_type": "stream",
     "text": [
      "El producto demoró 3.649216890335083 Centro Norte San Antonio\n",
      "tiempo que lleva corriendo 4.905021222432454 Min\n"
     ]
    },
    {
     "name": "stderr",
     "output_type": "stream",
     "text": [
      "INFO:fbprophet:Disabling daily seasonality. Run prophet with daily_seasonality=True to override this.\n"
     ]
    },
    {
     "name": "stdout",
     "output_type": "stream",
     "text": [
      "El producto demoró 4.0874106884002686 Centro Norte San Antonio\n",
      "tiempo que lleva corriendo 4.97315305074056 Min\n"
     ]
    },
    {
     "name": "stderr",
     "output_type": "stream",
     "text": [
      "INFO:fbprophet:Disabling daily seasonality. Run prophet with daily_seasonality=True to override this.\n"
     ]
    },
    {
     "name": "stdout",
     "output_type": "stream",
     "text": [
      "El producto demoró 3.872515916824341 Centro Norte San Antonio\n",
      "tiempo que lleva corriendo 5.037694982687632 Min\n"
     ]
    },
    {
     "name": "stderr",
     "output_type": "stream",
     "text": [
      "INFO:fbprophet:Disabling daily seasonality. Run prophet with daily_seasonality=True to override this.\n"
     ]
    },
    {
     "name": "stdout",
     "output_type": "stream",
     "text": [
      "El producto demoró 5.983882427215576 Centro Norte San Antonio\n",
      "tiempo que lleva corriendo 5.137443002065023 Min\n"
     ]
    },
    {
     "name": "stderr",
     "output_type": "stream",
     "text": [
      "INFO:fbprophet:Disabling daily seasonality. Run prophet with daily_seasonality=True to override this.\n"
     ]
    },
    {
     "name": "stdout",
     "output_type": "stream",
     "text": [
      "El producto demoró 3.5309391021728516 Centro Norte San Antonio\n",
      "tiempo que lleva corriendo 5.196291987101237 Min\n"
     ]
    },
    {
     "name": "stderr",
     "output_type": "stream",
     "text": [
      "INFO:fbprophet:Disabling daily seasonality. Run prophet with daily_seasonality=True to override this.\n"
     ]
    },
    {
     "name": "stdout",
     "output_type": "stream",
     "text": [
      "El producto demoró 4.190210580825806 Centro Norte San Antonio\n",
      "tiempo que lleva corriendo 5.266145483652751 Min\n"
     ]
    },
    {
     "name": "stderr",
     "output_type": "stream",
     "text": [
      "INFO:fbprophet:Disabling daily seasonality. Run prophet with daily_seasonality=True to override this.\n"
     ]
    },
    {
     "name": "stdout",
     "output_type": "stream",
     "text": [
      "El producto demoró 4.632889032363892 Centro Norte San Antonio\n",
      "tiempo que lleva corriendo 5.343368625640869 Min\n"
     ]
    },
    {
     "name": "stderr",
     "output_type": "stream",
     "text": [
      "INFO:fbprophet:Disabling daily seasonality. Run prophet with daily_seasonality=True to override this.\n"
     ]
    },
    {
     "name": "stdout",
     "output_type": "stream",
     "text": [
      "El producto demoró 3.5104753971099854 Centro Norte San Antonio\n",
      "tiempo que lleva corriendo 5.401884857813517 Min\n"
     ]
    },
    {
     "name": "stderr",
     "output_type": "stream",
     "text": [
      "INFO:fbprophet:Disabling daily seasonality. Run prophet with daily_seasonality=True to override this.\n"
     ]
    },
    {
     "name": "stdout",
     "output_type": "stream",
     "text": [
      "El producto demoró 4.710685968399048 Centro Norte San Antonio\n",
      "tiempo que lleva corriendo 5.480396290620168 Min\n"
     ]
    },
    {
     "name": "stderr",
     "output_type": "stream",
     "text": [
      "INFO:fbprophet:Disabling daily seasonality. Run prophet with daily_seasonality=True to override this.\n"
     ]
    },
    {
     "name": "stdout",
     "output_type": "stream",
     "text": [
      "El producto demoró 4.581981897354126 Centro Norte San Antonio\n",
      "tiempo que lleva corriendo 5.556770968437195 Min\n"
     ]
    },
    {
     "name": "stderr",
     "output_type": "stream",
     "text": [
      "INFO:fbprophet:Disabling daily seasonality. Run prophet with daily_seasonality=True to override this.\n"
     ]
    },
    {
     "name": "stdout",
     "output_type": "stream",
     "text": [
      "El producto demoró 5.3056395053863525 Centro Norte San Antonio\n",
      "tiempo que lleva corriendo 5.645198293526968 Min\n"
     ]
    },
    {
     "name": "stderr",
     "output_type": "stream",
     "text": [
      "INFO:fbprophet:Disabling daily seasonality. Run prophet with daily_seasonality=True to override this.\n"
     ]
    },
    {
     "name": "stdout",
     "output_type": "stream",
     "text": [
      "El producto demoró 4.703758478164673 Centro Norte San Antonio\n",
      "tiempo que lleva corriendo 5.723602600892385 Min\n",
      "San Felipe\n"
     ]
    },
    {
     "name": "stderr",
     "output_type": "stream",
     "text": [
      "INFO:fbprophet:Disabling daily seasonality. Run prophet with daily_seasonality=True to override this.\n"
     ]
    },
    {
     "name": "stdout",
     "output_type": "stream",
     "text": [
      "El producto demoró 4.225645303726196 Centro Norte San Felipe\n",
      "tiempo que lleva corriendo 5.794678803284963 Min\n"
     ]
    },
    {
     "name": "stderr",
     "output_type": "stream",
     "text": [
      "INFO:fbprophet:Disabling daily seasonality. Run prophet with daily_seasonality=True to override this.\n"
     ]
    },
    {
     "name": "stdout",
     "output_type": "stream",
     "text": [
      "El producto demoró 2.8891313076019287 Centro Norte San Felipe\n",
      "tiempo que lleva corriendo 5.842839300632477 Min\n"
     ]
    },
    {
     "name": "stderr",
     "output_type": "stream",
     "text": [
      "INFO:fbprophet:Disabling daily seasonality. Run prophet with daily_seasonality=True to override this.\n"
     ]
    },
    {
     "name": "stdout",
     "output_type": "stream",
     "text": [
      "El producto demoró 3.7520248889923096 Centro Norte San Felipe\n",
      "tiempo que lleva corriendo 5.905373048782349 Min\n"
     ]
    },
    {
     "name": "stderr",
     "output_type": "stream",
     "text": [
      "INFO:fbprophet:Disabling daily seasonality. Run prophet with daily_seasonality=True to override this.\n"
     ]
    },
    {
     "name": "stdout",
     "output_type": "stream",
     "text": [
      "El producto demoró 3.5753564834594727 Centro Norte San Felipe\n",
      "tiempo que lleva corriendo 5.964978965123494 Min\n"
     ]
    },
    {
     "name": "stderr",
     "output_type": "stream",
     "text": [
      "INFO:fbprophet:Disabling daily seasonality. Run prophet with daily_seasonality=True to override this.\n"
     ]
    },
    {
     "name": "stdout",
     "output_type": "stream",
     "text": [
      "El producto demoró 4.810558319091797 Centro Norte San Felipe\n",
      "tiempo que lleva corriendo 6.045163281758627 Min\n"
     ]
    },
    {
     "name": "stderr",
     "output_type": "stream",
     "text": [
      "INFO:fbprophet:Disabling daily seasonality. Run prophet with daily_seasonality=True to override this.\n"
     ]
    },
    {
     "name": "stdout",
     "output_type": "stream",
     "text": [
      "El producto demoró 5.701421022415161 Centro Norte San Felipe\n",
      "tiempo que lleva corriendo 6.140186965465546 Min\n"
     ]
    },
    {
     "name": "stderr",
     "output_type": "stream",
     "text": [
      "INFO:fbprophet:Disabling daily seasonality. Run prophet with daily_seasonality=True to override this.\n"
     ]
    },
    {
     "name": "stdout",
     "output_type": "stream",
     "text": [
      "El producto demoró 4.1842076778411865 Centro Norte San Felipe\n",
      "tiempo que lleva corriendo 6.209932084878286 Min\n"
     ]
    },
    {
     "name": "stderr",
     "output_type": "stream",
     "text": [
      "INFO:fbprophet:Disabling daily seasonality. Run prophet with daily_seasonality=True to override this.\n"
     ]
    },
    {
     "name": "stdout",
     "output_type": "stream",
     "text": [
      "El producto demoró 4.541557312011719 Centro Norte San Felipe\n",
      "tiempo que lleva corriendo 6.285633015632629 Min\n"
     ]
    },
    {
     "name": "stderr",
     "output_type": "stream",
     "text": [
      "INFO:fbprophet:Disabling daily seasonality. Run prophet with daily_seasonality=True to override this.\n"
     ]
    },
    {
     "name": "stdout",
     "output_type": "stream",
     "text": [
      "El producto demoró 4.825035572052002 Centro Norte San Felipe\n",
      "tiempo que lleva corriendo 6.366050275166829 Min\n"
     ]
    },
    {
     "name": "stderr",
     "output_type": "stream",
     "text": [
      "INFO:fbprophet:Disabling daily seasonality. Run prophet with daily_seasonality=True to override this.\n"
     ]
    },
    {
     "name": "stdout",
     "output_type": "stream",
     "text": [
      "El producto demoró 8.483230113983154 Centro Norte San Felipe\n",
      "tiempo que lleva corriendo 6.507445764541626 Min\n"
     ]
    },
    {
     "name": "stderr",
     "output_type": "stream",
     "text": [
      "INFO:fbprophet:Disabling daily seasonality. Run prophet with daily_seasonality=True to override this.\n"
     ]
    },
    {
     "name": "stdout",
     "output_type": "stream",
     "text": [
      "El producto demoró 5.117490530014038 Centro Norte San Felipe\n",
      "tiempo que lleva corriendo 6.592745590209961 Min\n"
     ]
    },
    {
     "name": "stderr",
     "output_type": "stream",
     "text": [
      "INFO:fbprophet:Disabling daily seasonality. Run prophet with daily_seasonality=True to override this.\n"
     ]
    },
    {
     "name": "stdout",
     "output_type": "stream",
     "text": [
      "El producto demoró 4.189712285995483 Centro Norte San Felipe\n",
      "tiempo que lleva corriendo 6.662582449118296 Min\n"
     ]
    },
    {
     "name": "stderr",
     "output_type": "stream",
     "text": [
      "INFO:fbprophet:Disabling daily seasonality. Run prophet with daily_seasonality=True to override this.\n"
     ]
    },
    {
     "name": "stdout",
     "output_type": "stream",
     "text": [
      "El producto demoró 4.526588201522827 Centro Norte San Felipe\n",
      "tiempo que lleva corriendo 6.7380338986714685 Min\n",
      "Viña del Mar\n"
     ]
    },
    {
     "name": "stderr",
     "output_type": "stream",
     "text": [
      "INFO:fbprophet:Disabling daily seasonality. Run prophet with daily_seasonality=True to override this.\n"
     ]
    },
    {
     "name": "stdout",
     "output_type": "stream",
     "text": [
      "El producto demoró 3.601808547973633 Centro Norte Viña del Mar\n",
      "tiempo que lleva corriendo 6.79871282974879 Min\n"
     ]
    },
    {
     "name": "stderr",
     "output_type": "stream",
     "text": [
      "INFO:fbprophet:Disabling daily seasonality. Run prophet with daily_seasonality=True to override this.\n"
     ]
    },
    {
     "name": "stdout",
     "output_type": "stream",
     "text": [
      "El producto demoró 3.4550764560699463 Centro Norte Viña del Mar\n",
      "tiempo que lleva corriendo 6.856322399775187 Min\n"
     ]
    },
    {
     "name": "stderr",
     "output_type": "stream",
     "text": [
      "INFO:fbprophet:Disabling daily seasonality. Run prophet with daily_seasonality=True to override this.\n"
     ]
    },
    {
     "name": "stdout",
     "output_type": "stream",
     "text": [
      "El producto demoró 3.95764422416687 Centro Norte Viña del Mar\n",
      "tiempo que lleva corriendo 6.9222914457321165 Min\n"
     ]
    },
    {
     "name": "stderr",
     "output_type": "stream",
     "text": [
      "INFO:fbprophet:Disabling daily seasonality. Run prophet with daily_seasonality=True to override this.\n"
     ]
    },
    {
     "name": "stdout",
     "output_type": "stream",
     "text": [
      "El producto demoró 5.87308406829834 Centro Norte Viña del Mar\n",
      "tiempo que lleva corriendo 7.020184497038524 Min\n"
     ]
    },
    {
     "name": "stderr",
     "output_type": "stream",
     "text": [
      "INFO:fbprophet:Disabling daily seasonality. Run prophet with daily_seasonality=True to override this.\n"
     ]
    },
    {
     "name": "stdout",
     "output_type": "stream",
     "text": [
      "El producto demoró 3.79087495803833 Centro Norte Viña del Mar\n",
      "tiempo que lleva corriendo 7.0833740592002865 Min\n"
     ]
    },
    {
     "name": "stderr",
     "output_type": "stream",
     "text": [
      "INFO:fbprophet:Disabling daily seasonality. Run prophet with daily_seasonality=True to override this.\n"
     ]
    },
    {
     "name": "stdout",
     "output_type": "stream",
     "text": [
      "El producto demoró 4.250102281570435 Centro Norte Viña del Mar\n",
      "tiempo que lleva corriendo 7.154217398166656 Min\n"
     ]
    },
    {
     "name": "stderr",
     "output_type": "stream",
     "text": [
      "INFO:fbprophet:Disabling daily seasonality. Run prophet with daily_seasonality=True to override this.\n"
     ]
    },
    {
     "name": "stdout",
     "output_type": "stream",
     "text": [
      "El producto demoró 4.628399133682251 Centro Norte Viña del Mar\n",
      "tiempo que lleva corriendo 7.231365684668223 Min\n"
     ]
    },
    {
     "name": "stderr",
     "output_type": "stream",
     "text": [
      "INFO:fbprophet:Disabling daily seasonality. Run prophet with daily_seasonality=True to override this.\n"
     ]
    },
    {
     "name": "stdout",
     "output_type": "stream",
     "text": [
      "El producto demoró 4.2810447216033936 Centro Norte Viña del Mar\n",
      "tiempo que lleva corriendo 7.302724734942118 Min\n"
     ]
    },
    {
     "name": "stderr",
     "output_type": "stream",
     "text": [
      "INFO:fbprophet:Disabling daily seasonality. Run prophet with daily_seasonality=True to override this.\n"
     ]
    },
    {
     "name": "stdout",
     "output_type": "stream",
     "text": [
      "El producto demoró 4.914864778518677 Centro Norte Viña del Mar\n",
      "tiempo que lleva corriendo 7.384647472699483 Min\n"
     ]
    },
    {
     "name": "stderr",
     "output_type": "stream",
     "text": [
      "INFO:fbprophet:Disabling daily seasonality. Run prophet with daily_seasonality=True to override this.\n"
     ]
    },
    {
     "name": "stdout",
     "output_type": "stream",
     "text": [
      "El producto demoró 4.130681753158569 Centro Norte Viña del Mar\n",
      "tiempo que lleva corriendo 7.453500525156657 Min\n"
     ]
    },
    {
     "name": "stderr",
     "output_type": "stream",
     "text": [
      "INFO:fbprophet:Disabling daily seasonality. Run prophet with daily_seasonality=True to override this.\n"
     ]
    },
    {
     "name": "stdout",
     "output_type": "stream",
     "text": [
      "El producto demoró 4.389341115951538 Centro Norte Viña del Mar\n",
      "tiempo que lleva corriendo 7.526664515336354 Min\n"
     ]
    },
    {
     "name": "stderr",
     "output_type": "stream",
     "text": [
      "INFO:fbprophet:Disabling daily seasonality. Run prophet with daily_seasonality=True to override this.\n"
     ]
    },
    {
     "name": "stdout",
     "output_type": "stream",
     "text": [
      "El producto demoró 4.426272869110107 Centro Norte Viña del Mar\n",
      "tiempo que lleva corriendo 7.600444082419077 Min\n",
      "El producto demoró 5.059094667434692 Centro Norte Viña del Mar\n",
      "tiempo que lleva corriendo 7.684770647684733 Min\n",
      "Centro Sur\n"
     ]
    },
    {
     "name": "stderr",
     "output_type": "stream",
     "text": [
      "INFO:fbprophet:Disabling daily seasonality. Run prophet with daily_seasonality=True to override this.\n"
     ]
    },
    {
     "name": "stdout",
     "output_type": "stream",
     "text": [
      "Chillan\n"
     ]
    },
    {
     "name": "stderr",
     "output_type": "stream",
     "text": [
      "INFO:fbprophet:Disabling daily seasonality. Run prophet with daily_seasonality=True to override this.\n"
     ]
    },
    {
     "name": "stdout",
     "output_type": "stream",
     "text": [
      "El producto demoró 6.027298450469971 Centro Sur Chillan\n",
      "tiempo que lleva corriendo 7.791023190816244 Min\n"
     ]
    },
    {
     "name": "stderr",
     "output_type": "stream",
     "text": [
      "INFO:fbprophet:Disabling daily seasonality. Run prophet with daily_seasonality=True to override this.\n"
     ]
    },
    {
     "name": "stdout",
     "output_type": "stream",
     "text": [
      "El producto demoró 4.3888444900512695 Centro Sur Chillan\n",
      "tiempo que lleva corriendo 7.8641705989837645 Min\n"
     ]
    },
    {
     "name": "stderr",
     "output_type": "stream",
     "text": [
      "INFO:fbprophet:Disabling daily seasonality. Run prophet with daily_seasonality=True to override this.\n"
     ]
    },
    {
     "name": "stdout",
     "output_type": "stream",
     "text": [
      "El producto demoró 5.097026109695435 Centro Sur Chillan\n",
      "tiempo que lleva corriendo 7.9491293629010515 Min\n"
     ]
    },
    {
     "name": "stderr",
     "output_type": "stream",
     "text": [
      "INFO:fbprophet:Disabling daily seasonality. Run prophet with daily_seasonality=True to override this.\n"
     ]
    },
    {
     "name": "stdout",
     "output_type": "stream",
     "text": [
      "El producto demoró 5.5007758140563965 Centro Sur Chillan\n",
      "tiempo que lleva corriendo 8.040817268689473 Min\n"
     ]
    },
    {
     "name": "stderr",
     "output_type": "stream",
     "text": [
      "INFO:fbprophet:Disabling daily seasonality. Run prophet with daily_seasonality=True to override this.\n"
     ]
    },
    {
     "name": "stdout",
     "output_type": "stream",
     "text": [
      "El producto demoró 4.972759008407593 Centro Sur Chillan\n",
      "tiempo que lleva corriendo 8.123696585496267 Min\n"
     ]
    },
    {
     "name": "stderr",
     "output_type": "stream",
     "text": [
      "INFO:fbprophet:Disabling daily seasonality. Run prophet with daily_seasonality=True to override this.\n"
     ]
    },
    {
     "name": "stdout",
     "output_type": "stream",
     "text": [
      "El producto demoró 4.606437683105469 Centro Sur Chillan\n",
      "tiempo que lleva corriendo 8.200478863716125 Min\n"
     ]
    },
    {
     "name": "stderr",
     "output_type": "stream",
     "text": [
      "INFO:fbprophet:Disabling daily seasonality. Run prophet with daily_seasonality=True to override this.\n"
     ]
    },
    {
     "name": "stdout",
     "output_type": "stream",
     "text": [
      "El producto demoró 3.7500314712524414 Centro Sur Chillan\n",
      "tiempo que lleva corriendo 8.262987705071767 Min\n"
     ]
    },
    {
     "name": "stderr",
     "output_type": "stream",
     "text": [
      "INFO:fbprophet:Disabling daily seasonality. Run prophet with daily_seasonality=True to override this.\n"
     ]
    },
    {
     "name": "stdout",
     "output_type": "stream",
     "text": [
      "El producto demoró 3.9183995723724365 Centro Sur Chillan\n",
      "tiempo que lleva corriendo 8.328294364611308 Min\n"
     ]
    },
    {
     "name": "stderr",
     "output_type": "stream",
     "text": [
      "INFO:fbprophet:Disabling daily seasonality. Run prophet with daily_seasonality=True to override this.\n"
     ]
    },
    {
     "name": "stdout",
     "output_type": "stream",
     "text": [
      "El producto demoró 4.533576488494873 Centro Sur Chillan\n",
      "tiempo que lleva corriendo 8.403870606422425 Min\n"
     ]
    },
    {
     "name": "stderr",
     "output_type": "stream",
     "text": [
      "INFO:fbprophet:Disabling daily seasonality. Run prophet with daily_seasonality=True to override this.\n"
     ]
    },
    {
     "name": "stdout",
     "output_type": "stream",
     "text": [
      "El producto demoró 3.730567216873169 Centro Sur Chillan\n",
      "tiempo que lleva corriendo 8.466055051485698 Min\n"
     ]
    },
    {
     "name": "stderr",
     "output_type": "stream",
     "text": [
      "INFO:fbprophet:Disabling daily seasonality. Run prophet with daily_seasonality=True to override this.\n"
     ]
    },
    {
     "name": "stdout",
     "output_type": "stream",
     "text": [
      "El producto demoró 3.800933361053467 Centro Sur Chillan\n",
      "tiempo que lleva corriendo 8.529412253697712 Min\n"
     ]
    },
    {
     "name": "stderr",
     "output_type": "stream",
     "text": [
      "INFO:fbprophet:Disabling daily seasonality. Run prophet with daily_seasonality=True to override this.\n"
     ]
    },
    {
     "name": "stdout",
     "output_type": "stream",
     "text": [
      "El producto demoró 3.8161356449127197 Centro Sur Chillan\n",
      "tiempo que lleva corriendo 8.593022827307383 Min\n"
     ]
    },
    {
     "name": "stderr",
     "output_type": "stream",
     "text": [
      "INFO:fbprophet:Disabling daily seasonality. Run prophet with daily_seasonality=True to override this.\n"
     ]
    },
    {
     "name": "stdout",
     "output_type": "stream",
     "text": [
      "El producto demoró 3.908735752105713 Centro Sur Chillan\n",
      "tiempo que lleva corriendo 8.658168423175812 Min\n",
      "Concepcion\n"
     ]
    },
    {
     "name": "stderr",
     "output_type": "stream",
     "text": [
      "INFO:fbprophet:Disabling daily seasonality. Run prophet with daily_seasonality=True to override this.\n"
     ]
    },
    {
     "name": "stdout",
     "output_type": "stream",
     "text": [
      "El producto demoró 4.201691627502441 Centro Sur Concepcion\n",
      "tiempo que lleva corriendo 8.728887005647023 Min\n"
     ]
    },
    {
     "name": "stderr",
     "output_type": "stream",
     "text": [
      "INFO:fbprophet:Disabling daily seasonality. Run prophet with daily_seasonality=True to override this.\n"
     ]
    },
    {
     "name": "stdout",
     "output_type": "stream",
     "text": [
      "El producto demoró 3.623265027999878 Centro Sur Concepcion\n",
      "tiempo que lleva corriendo 8.789274756113688 Min\n"
     ]
    },
    {
     "name": "stderr",
     "output_type": "stream",
     "text": [
      "INFO:fbprophet:Disabling daily seasonality. Run prophet with daily_seasonality=True to override this.\n"
     ]
    },
    {
     "name": "stdout",
     "output_type": "stream",
     "text": [
      "El producto demoró 4.796586751937866 Centro Sur Concepcion\n",
      "tiempo que lleva corriendo 8.869234498341878 Min\n"
     ]
    },
    {
     "name": "stderr",
     "output_type": "stream",
     "text": [
      "INFO:fbprophet:Disabling daily seasonality. Run prophet with daily_seasonality=True to override this.\n"
     ]
    },
    {
     "name": "stdout",
     "output_type": "stream",
     "text": [
      "El producto demoró 4.967767238616943 Centro Sur Concepcion\n",
      "tiempo que lleva corriendo 8.952038943767548 Min\n"
     ]
    },
    {
     "name": "stderr",
     "output_type": "stream",
     "text": [
      "INFO:fbprophet:Disabling daily seasonality. Run prophet with daily_seasonality=True to override this.\n"
     ]
    },
    {
     "name": "stdout",
     "output_type": "stream",
     "text": [
      "El producto demoró 5.062093019485474 Centro Sur Concepcion\n",
      "tiempo que lleva corriendo 9.036415489514669 Min\n"
     ]
    },
    {
     "name": "stderr",
     "output_type": "stream",
     "text": [
      "INFO:fbprophet:Disabling daily seasonality. Run prophet with daily_seasonality=True to override this.\n"
     ]
    },
    {
     "name": "stdout",
     "output_type": "stream",
     "text": [
      "El producto demoró 4.324959754943848 Centro Sur Concepcion\n",
      "tiempo que lleva corriendo 9.108498152097066 Min\n"
     ]
    },
    {
     "name": "stderr",
     "output_type": "stream",
     "text": [
      "INFO:fbprophet:Disabling daily seasonality. Run prophet with daily_seasonality=True to override this.\n"
     ]
    },
    {
     "name": "stdout",
     "output_type": "stream",
     "text": [
      "El producto demoró 4.761422634124756 Centro Sur Concepcion\n",
      "tiempo que lleva corriendo 9.187871825695037 Min\n"
     ]
    },
    {
     "name": "stderr",
     "output_type": "stream",
     "text": [
      "INFO:fbprophet:Disabling daily seasonality. Run prophet with daily_seasonality=True to override this.\n"
     ]
    },
    {
     "name": "stdout",
     "output_type": "stream",
     "text": [
      "El producto demoró 5.746320486068726 Centro Sur Concepcion\n",
      "tiempo que lleva corriendo 9.283652142683666 Min\n"
     ]
    },
    {
     "name": "stderr",
     "output_type": "stream",
     "text": [
      "INFO:fbprophet:Disabling daily seasonality. Run prophet with daily_seasonality=True to override this.\n"
     ]
    },
    {
     "name": "stdout",
     "output_type": "stream",
     "text": [
      "El producto demoró 4.407311916351318 Centro Sur Concepcion\n",
      "tiempo que lleva corriendo 9.357115658124288 Min\n"
     ]
    },
    {
     "name": "stderr",
     "output_type": "stream",
     "text": [
      "INFO:fbprophet:Disabling daily seasonality. Run prophet with daily_seasonality=True to override this.\n"
     ]
    },
    {
     "name": "stdout",
     "output_type": "stream",
     "text": [
      "El producto demoró 4.651352167129517 Centro Sur Concepcion\n",
      "tiempo que lleva corriendo 9.434638194243114 Min\n"
     ]
    },
    {
     "name": "stderr",
     "output_type": "stream",
     "text": [
      "INFO:fbprophet:Disabling daily seasonality. Run prophet with daily_seasonality=True to override this.\n"
     ]
    },
    {
     "name": "stdout",
     "output_type": "stream",
     "text": [
      "El producto demoró 4.011045932769775 Centro Sur Concepcion\n",
      "tiempo que lleva corriendo 9.501497276624043 Min\n"
     ]
    },
    {
     "name": "stderr",
     "output_type": "stream",
     "text": [
      "INFO:fbprophet:Disabling daily seasonality. Run prophet with daily_seasonality=True to override this.\n"
     ]
    },
    {
     "name": "stdout",
     "output_type": "stream",
     "text": [
      "El producto demoró 7.096313714981079 Centro Sur Concepcion\n",
      "tiempo que lleva corriendo 9.619777484734852 Min\n"
     ]
    },
    {
     "name": "stderr",
     "output_type": "stream",
     "text": [
      "INFO:fbprophet:Disabling daily seasonality. Run prophet with daily_seasonality=True to override this.\n"
     ]
    },
    {
     "name": "stdout",
     "output_type": "stream",
     "text": [
      "El producto demoró 3.97461199760437 Centro Sur Concepcion\n",
      "tiempo que lleva corriendo 9.6860542734464 Min\n",
      "Curico\n"
     ]
    },
    {
     "name": "stderr",
     "output_type": "stream",
     "text": [
      "INFO:fbprophet:Disabling daily seasonality. Run prophet with daily_seasonality=True to override this.\n"
     ]
    },
    {
     "name": "stdout",
     "output_type": "stream",
     "text": [
      "El producto demoró 3.559887170791626 Centro Sur Curico\n",
      "tiempo que lleva corriendo 9.746209192276002 Min\n"
     ]
    },
    {
     "name": "stderr",
     "output_type": "stream",
     "text": [
      "INFO:fbprophet:Disabling daily seasonality. Run prophet with daily_seasonality=True to override this.\n"
     ]
    },
    {
     "name": "stdout",
     "output_type": "stream",
     "text": [
      "El producto demoró 4.469191312789917 Centro Sur Curico\n",
      "tiempo que lleva corriendo 9.820695714155834 Min\n"
     ]
    },
    {
     "name": "stderr",
     "output_type": "stream",
     "text": [
      "INFO:fbprophet:Disabling daily seasonality. Run prophet with daily_seasonality=True to override this.\n"
     ]
    },
    {
     "name": "stdout",
     "output_type": "stream",
     "text": [
      "El producto demoró 4.2705628871917725 Centro Sur Curico\n",
      "tiempo que lleva corriendo 9.891880083084107 Min\n"
     ]
    },
    {
     "name": "stderr",
     "output_type": "stream",
     "text": [
      "INFO:fbprophet:Disabling daily seasonality. Run prophet with daily_seasonality=True to override this.\n"
     ]
    },
    {
     "name": "stdout",
     "output_type": "stream",
     "text": [
      "El producto demoró 7.0748515129089355 Centro Sur Curico\n",
      "tiempo que lleva corriendo 10.009802595774334 Min\n"
     ]
    },
    {
     "name": "stderr",
     "output_type": "stream",
     "text": [
      "INFO:fbprophet:Disabling daily seasonality. Run prophet with daily_seasonality=True to override this.\n"
     ]
    },
    {
     "name": "stdout",
     "output_type": "stream",
     "text": [
      "El producto demoró 4.2970147132873535 Centro Sur Curico\n",
      "tiempo que lleva corriendo 10.081427840391795 Min\n"
     ]
    },
    {
     "name": "stderr",
     "output_type": "stream",
     "text": [
      "INFO:fbprophet:Disabling daily seasonality. Run prophet with daily_seasonality=True to override this.\n"
     ]
    },
    {
     "name": "stdout",
     "output_type": "stream",
     "text": [
      "El producto demoró 3.482029914855957 Centro Sur Curico\n",
      "tiempo que lleva corriendo 10.139486567179363 Min\n"
     ]
    },
    {
     "name": "stderr",
     "output_type": "stream",
     "text": [
      "INFO:fbprophet:Disabling daily seasonality. Run prophet with daily_seasonality=True to override this.\n"
     ]
    },
    {
     "name": "stdout",
     "output_type": "stream",
     "text": [
      "El producto demoró 4.059454917907715 Centro Sur Curico\n",
      "tiempo que lleva corriendo 10.20714414914449 Min\n"
     ]
    },
    {
     "name": "stderr",
     "output_type": "stream",
     "text": [
      "INFO:fbprophet:Disabling daily seasonality. Run prophet with daily_seasonality=True to override this.\n"
     ]
    },
    {
     "name": "stdout",
     "output_type": "stream",
     "text": [
      "El producto demoró 3.8518428802490234 Centro Sur Curico\n",
      "tiempo que lleva corriendo 10.271349847316742 Min\n"
     ]
    },
    {
     "name": "stderr",
     "output_type": "stream",
     "text": [
      "INFO:fbprophet:Disabling daily seasonality. Run prophet with daily_seasonality=True to override this.\n"
     ]
    },
    {
     "name": "stdout",
     "output_type": "stream",
     "text": [
      "El producto demoró 4.335959196090698 Centro Sur Curico\n",
      "tiempo que lleva corriendo 10.343624162673951 Min\n"
     ]
    },
    {
     "name": "stderr",
     "output_type": "stream",
     "text": [
      "INFO:fbprophet:Disabling daily seasonality. Run prophet with daily_seasonality=True to override this.\n"
     ]
    },
    {
     "name": "stdout",
     "output_type": "stream",
     "text": [
      "El producto demoró 3.810399055480957 Centro Sur Curico\n",
      "tiempo que lleva corriendo 10.407130813598632 Min\n"
     ]
    },
    {
     "name": "stderr",
     "output_type": "stream",
     "text": [
      "INFO:fbprophet:Disabling daily seasonality. Run prophet with daily_seasonality=True to override this.\n"
     ]
    },
    {
     "name": "stdout",
     "output_type": "stream",
     "text": [
      "El producto demoró 3.2744150161743164 Centro Sur Curico\n",
      "tiempo que lleva corriendo 10.461704397201538 Min\n"
     ]
    },
    {
     "name": "stderr",
     "output_type": "stream",
     "text": [
      "INFO:fbprophet:Disabling daily seasonality. Run prophet with daily_seasonality=True to override this.\n"
     ]
    },
    {
     "name": "stdout",
     "output_type": "stream",
     "text": [
      "El producto demoró 4.076424598693848 Centro Sur Curico\n",
      "tiempo que lleva corriendo 10.529653124014537 Min\n"
     ]
    },
    {
     "name": "stderr",
     "output_type": "stream",
     "text": [
      "INFO:fbprophet:Disabling daily seasonality. Run prophet with daily_seasonality=True to override this.\n"
     ]
    },
    {
     "name": "stdout",
     "output_type": "stream",
     "text": [
      "El producto demoró 4.277551651000977 Centro Sur Curico\n",
      "tiempo que lleva corriendo 10.600962269306184 Min\n",
      "Los Angeles\n"
     ]
    },
    {
     "name": "stderr",
     "output_type": "stream",
     "text": [
      "INFO:fbprophet:Disabling daily seasonality. Run prophet with daily_seasonality=True to override this.\n"
     ]
    },
    {
     "name": "stdout",
     "output_type": "stream",
     "text": [
      "El producto demoró 4.447233200073242 Centro Sur Los Angeles\n",
      "tiempo que lleva corriendo 10.675964510440826 Min\n"
     ]
    },
    {
     "name": "stderr",
     "output_type": "stream",
     "text": [
      "INFO:fbprophet:Disabling daily seasonality. Run prophet with daily_seasonality=True to override this.\n"
     ]
    },
    {
     "name": "stdout",
     "output_type": "stream",
     "text": [
      "El producto demoró 5.13445782661438 Centro Sur Los Angeles\n",
      "tiempo que lleva corriendo 10.761538807551066 Min\n"
     ]
    },
    {
     "name": "stderr",
     "output_type": "stream",
     "text": [
      "INFO:fbprophet:Disabling daily seasonality. Run prophet with daily_seasonality=True to override this.\n"
     ]
    },
    {
     "name": "stdout",
     "output_type": "stream",
     "text": [
      "El producto demoró 4.493150472640991 Centro Sur Los Angeles\n",
      "tiempo que lleva corriendo 10.836432965596517 Min\n"
     ]
    },
    {
     "name": "stderr",
     "output_type": "stream",
     "text": [
      "INFO:fbprophet:Disabling daily seasonality. Run prophet with daily_seasonality=True to override this.\n"
     ]
    },
    {
     "name": "stdout",
     "output_type": "stream",
     "text": [
      "El producto demoró 6.054746389389038 Centro Sur Los Angeles\n",
      "tiempo que lleva corriendo 10.937345405419668 Min\n"
     ]
    },
    {
     "name": "stderr",
     "output_type": "stream",
     "text": [
      "INFO:fbprophet:Disabling daily seasonality. Run prophet with daily_seasonality=True to override this.\n"
     ]
    },
    {
     "name": "stdout",
     "output_type": "stream",
     "text": [
      "El producto demoró 3.5349299907684326 Centro Sur Los Angeles\n",
      "tiempo que lleva corriendo 10.996260905265808 Min\n"
     ]
    },
    {
     "name": "stderr",
     "output_type": "stream",
     "text": [
      "INFO:fbprophet:Disabling daily seasonality. Run prophet with daily_seasonality=True to override this.\n"
     ]
    },
    {
     "name": "stdout",
     "output_type": "stream",
     "text": [
      "El producto demoró 3.986591100692749 Centro Sur Los Angeles\n",
      "tiempo que lleva corriendo 11.062712403138478 Min\n"
     ]
    },
    {
     "name": "stderr",
     "output_type": "stream",
     "text": [
      "INFO:fbprophet:Disabling daily seasonality. Run prophet with daily_seasonality=True to override this.\n"
     ]
    },
    {
     "name": "stdout",
     "output_type": "stream",
     "text": [
      "El producto demoró 4.396332025527954 Centro Sur Los Angeles\n",
      "tiempo que lleva corriendo 11.13600123723348 Min\n"
     ]
    },
    {
     "name": "stderr",
     "output_type": "stream",
     "text": [
      "INFO:fbprophet:Disabling daily seasonality. Run prophet with daily_seasonality=True to override this.\n"
     ]
    },
    {
     "name": "stdout",
     "output_type": "stream",
     "text": [
      "El producto demoró 5.5546770095825195 Centro Sur Los Angeles\n",
      "tiempo que lleva corriendo 11.2285875082016 Min\n"
     ]
    },
    {
     "name": "stderr",
     "output_type": "stream",
     "text": [
      "INFO:fbprophet:Disabling daily seasonality. Run prophet with daily_seasonality=True to override this.\n"
     ]
    },
    {
     "name": "stdout",
     "output_type": "stream",
     "text": [
      "El producto demoró 4.854974985122681 Centro Sur Los Angeles\n",
      "tiempo que lleva corriendo 11.309503757953644 Min\n"
     ]
    },
    {
     "name": "stderr",
     "output_type": "stream",
     "text": [
      "INFO:fbprophet:Disabling daily seasonality. Run prophet with daily_seasonality=True to override this.\n"
     ]
    },
    {
     "name": "stdout",
     "output_type": "stream",
     "text": [
      "El producto demoró 4.75566029548645 Centro Sur Los Angeles\n",
      "tiempo que lleva corriendo 11.388781400521596 Min\n"
     ]
    },
    {
     "name": "stderr",
     "output_type": "stream",
     "text": [
      "INFO:fbprophet:Disabling daily seasonality. Run prophet with daily_seasonality=True to override this.\n"
     ]
    },
    {
     "name": "stdout",
     "output_type": "stream",
     "text": [
      "El producto demoró 3.5239510536193848 Centro Sur Los Angeles\n",
      "tiempo que lleva corriendo 11.447513918081919 Min\n"
     ]
    },
    {
     "name": "stderr",
     "output_type": "stream",
     "text": [
      "INFO:fbprophet:Disabling daily seasonality. Run prophet with daily_seasonality=True to override this.\n"
     ]
    },
    {
     "name": "stdout",
     "output_type": "stream",
     "text": [
      "El producto demoró 6.6676084995269775 Centro Sur Los Angeles\n",
      "tiempo que lleva corriendo 11.558649055163066 Min\n"
     ]
    },
    {
     "name": "stderr",
     "output_type": "stream",
     "text": [
      "INFO:fbprophet:Disabling daily seasonality. Run prophet with daily_seasonality=True to override this.\n"
     ]
    },
    {
     "name": "stdout",
     "output_type": "stream",
     "text": [
      "El producto demoró 4.0973851680755615 Centro Sur Los Angeles\n",
      "tiempo que lleva corriendo 11.62695544163386 Min\n",
      "Rancagua\n"
     ]
    },
    {
     "name": "stderr",
     "output_type": "stream",
     "text": [
      "INFO:fbprophet:Disabling daily seasonality. Run prophet with daily_seasonality=True to override this.\n"
     ]
    },
    {
     "name": "stdout",
     "output_type": "stream",
     "text": [
      "El producto demoró 4.442742347717285 Centro Sur Rancagua\n",
      "tiempo que lleva corriendo 11.701749749978383 Min\n"
     ]
    },
    {
     "name": "stderr",
     "output_type": "stream",
     "text": [
      "INFO:fbprophet:Disabling daily seasonality. Run prophet with daily_seasonality=True to override this.\n"
     ]
    },
    {
     "name": "stdout",
     "output_type": "stream",
     "text": [
      "El producto demoró 4.694778919219971 Centro Sur Rancagua\n",
      "tiempo que lleva corriendo 11.780004386107127 Min\n"
     ]
    },
    {
     "name": "stderr",
     "output_type": "stream",
     "text": [
      "INFO:fbprophet:Disabling daily seasonality. Run prophet with daily_seasonality=True to override this.\n"
     ]
    },
    {
     "name": "stdout",
     "output_type": "stream",
     "text": [
      "El producto demoró 4.392334938049316 Centro Sur Rancagua\n",
      "tiempo que lleva corriendo 11.853226558367412 Min\n"
     ]
    },
    {
     "name": "stderr",
     "output_type": "stream",
     "text": [
      "INFO:fbprophet:Disabling daily seasonality. Run prophet with daily_seasonality=True to override this.\n"
     ]
    },
    {
     "name": "stdout",
     "output_type": "stream",
     "text": [
      "El producto demoró 4.065946340560913 Centro Sur Rancagua\n",
      "tiempo que lleva corriendo 11.92100065946579 Min\n"
     ]
    },
    {
     "name": "stderr",
     "output_type": "stream",
     "text": [
      "INFO:fbprophet:Disabling daily seasonality. Run prophet with daily_seasonality=True to override this.\n"
     ]
    },
    {
     "name": "stdout",
     "output_type": "stream",
     "text": [
      "El producto demoró 6.959064245223999 Centro Sur Rancagua\n",
      "tiempo que lleva corriendo 12.036985063552857 Min\n"
     ]
    },
    {
     "name": "stderr",
     "output_type": "stream",
     "text": [
      "INFO:fbprophet:Disabling daily seasonality. Run prophet with daily_seasonality=True to override this.\n"
     ]
    },
    {
     "name": "stdout",
     "output_type": "stream",
     "text": [
      "El producto demoró 3.6821558475494385 Centro Sur Rancagua\n",
      "tiempo que lleva corriendo 12.098362648487091 Min\n"
     ]
    },
    {
     "name": "stderr",
     "output_type": "stream",
     "text": [
      "INFO:fbprophet:Disabling daily seasonality. Run prophet with daily_seasonality=True to override this.\n"
     ]
    },
    {
     "name": "stdout",
     "output_type": "stream",
     "text": [
      "El producto demoró 4.464202404022217 Centro Sur Rancagua\n",
      "tiempo que lleva corriendo 12.172774398326874 Min\n"
     ]
    },
    {
     "name": "stderr",
     "output_type": "stream",
     "text": [
      "INFO:fbprophet:Disabling daily seasonality. Run prophet with daily_seasonality=True to override this.\n"
     ]
    },
    {
     "name": "stdout",
     "output_type": "stream",
     "text": [
      "El producto demoró 4.394829988479614 Centro Sur Rancagua\n",
      "tiempo que lleva corriendo 12.246021564801534 Min\n"
     ]
    },
    {
     "name": "stderr",
     "output_type": "stream",
     "text": [
      "INFO:fbprophet:Disabling daily seasonality. Run prophet with daily_seasonality=True to override this.\n"
     ]
    },
    {
     "name": "stdout",
     "output_type": "stream",
     "text": [
      "El producto demoró 4.848489761352539 Centro Sur Rancagua\n",
      "tiempo que lleva corriendo 12.326846341292063 Min\n"
     ]
    },
    {
     "name": "stderr",
     "output_type": "stream",
     "text": [
      "INFO:fbprophet:Disabling daily seasonality. Run prophet with daily_seasonality=True to override this.\n"
     ]
    },
    {
     "name": "stdout",
     "output_type": "stream",
     "text": [
      "El producto demoró 4.052486896514893 Centro Sur Rancagua\n",
      "tiempo que lleva corriendo 12.394396110375721 Min\n"
     ]
    },
    {
     "name": "stderr",
     "output_type": "stream",
     "text": [
      "INFO:fbprophet:Disabling daily seasonality. Run prophet with daily_seasonality=True to override this.\n"
     ]
    },
    {
     "name": "stdout",
     "output_type": "stream",
     "text": [
      "El producto demoró 3.829367160797119 Centro Sur Rancagua\n",
      "tiempo que lleva corriendo 12.458227217197418 Min\n"
     ]
    },
    {
     "name": "stderr",
     "output_type": "stream",
     "text": [
      "INFO:fbprophet:Disabling daily seasonality. Run prophet with daily_seasonality=True to override this.\n"
     ]
    },
    {
     "name": "stdout",
     "output_type": "stream",
     "text": [
      "El producto demoró 3.766995906829834 Centro Sur Rancagua\n",
      "tiempo que lleva corriendo 12.521018846829731 Min\n"
     ]
    },
    {
     "name": "stderr",
     "output_type": "stream",
     "text": [
      "INFO:fbprophet:Disabling daily seasonality. Run prophet with daily_seasonality=True to override this.\n"
     ]
    },
    {
     "name": "stdout",
     "output_type": "stream",
     "text": [
      "El producto demoró 3.663689613342285 Centro Sur Rancagua\n",
      "tiempo que lleva corriendo 12.582080340385437 Min\n",
      "Talca\n"
     ]
    },
    {
     "name": "stderr",
     "output_type": "stream",
     "text": [
      "INFO:fbprophet:Disabling daily seasonality. Run prophet with daily_seasonality=True to override this.\n"
     ]
    },
    {
     "name": "stdout",
     "output_type": "stream",
     "text": [
      "El producto demoró 3.454082489013672 Centro Sur Talca\n",
      "tiempo que lleva corriendo 12.640338762601216 Min\n"
     ]
    },
    {
     "name": "stderr",
     "output_type": "stream",
     "text": [
      "INFO:fbprophet:Disabling daily seasonality. Run prophet with daily_seasonality=True to override this.\n"
     ]
    },
    {
     "name": "stdout",
     "output_type": "stream",
     "text": [
      "El producto demoró 3.6092898845672607 Centro Sur Talca\n",
      "tiempo que lleva corriendo 12.700501914819082 Min\n"
     ]
    },
    {
     "name": "stderr",
     "output_type": "stream",
     "text": [
      "INFO:fbprophet:Disabling daily seasonality. Run prophet with daily_seasonality=True to override this.\n"
     ]
    },
    {
     "name": "stdout",
     "output_type": "stream",
     "text": [
      "El producto demoró 3.0947484970092773 Centro Sur Talca\n",
      "tiempo que lleva corriendo 12.752081056435904 Min\n"
     ]
    },
    {
     "name": "stderr",
     "output_type": "stream",
     "text": [
      "INFO:fbprophet:Disabling daily seasonality. Run prophet with daily_seasonality=True to override this.\n"
     ]
    },
    {
     "name": "stdout",
     "output_type": "stream",
     "text": [
      "El producto demoró 4.188214063644409 Centro Sur Talca\n",
      "tiempo que lleva corriendo 12.82190126578013 Min\n"
     ]
    },
    {
     "name": "stderr",
     "output_type": "stream",
     "text": [
      "INFO:fbprophet:Disabling daily seasonality. Run prophet with daily_seasonality=True to override this.\n"
     ]
    },
    {
     "name": "stdout",
     "output_type": "stream",
     "text": [
      "El producto demoró 6.774409532546997 Centro Sur Talca\n",
      "tiempo que lleva corriendo 12.934808091322582 Min\n"
     ]
    },
    {
     "name": "stderr",
     "output_type": "stream",
     "text": [
      "INFO:fbprophet:Disabling daily seasonality. Run prophet with daily_seasonality=True to override this.\n"
     ]
    },
    {
     "name": "stdout",
     "output_type": "stream",
     "text": [
      "El producto demoró 4.145293235778809 Centro Sur Talca\n",
      "tiempo que lleva corriendo 13.003912997245788 Min\n"
     ]
    },
    {
     "name": "stderr",
     "output_type": "stream",
     "text": [
      "INFO:fbprophet:Disabling daily seasonality. Run prophet with daily_seasonality=True to override this.\n"
     ]
    },
    {
     "name": "stdout",
     "output_type": "stream",
     "text": [
      "El producto demoró 3.4980318546295166 Centro Sur Talca\n",
      "tiempo que lleva corriendo 13.062213528156281 Min\n"
     ]
    },
    {
     "name": "stderr",
     "output_type": "stream",
     "text": [
      "INFO:fbprophet:Disabling daily seasonality. Run prophet with daily_seasonality=True to override this.\n"
     ]
    },
    {
     "name": "stdout",
     "output_type": "stream",
     "text": [
      "El producto demoró 3.7340614795684814 Centro Sur Talca\n",
      "tiempo que lleva corriendo 13.124456206957499 Min\n"
     ]
    },
    {
     "name": "stderr",
     "output_type": "stream",
     "text": [
      "INFO:fbprophet:Disabling daily seasonality. Run prophet with daily_seasonality=True to override this.\n"
     ]
    },
    {
     "name": "stdout",
     "output_type": "stream",
     "text": [
      "El producto demoró 3.407668113708496 Centro Sur Talca\n",
      "tiempo que lleva corriendo 13.181267317136129 Min\n"
     ]
    },
    {
     "name": "stderr",
     "output_type": "stream",
     "text": [
      "INFO:fbprophet:Disabling daily seasonality. Run prophet with daily_seasonality=True to override this.\n"
     ]
    },
    {
     "name": "stdout",
     "output_type": "stream",
     "text": [
      "El producto demoró 3.783965587615967 Centro Sur Talca\n",
      "tiempo que lleva corriendo 13.244333410263062 Min\n"
     ]
    },
    {
     "name": "stderr",
     "output_type": "stream",
     "text": [
      "INFO:fbprophet:Disabling daily seasonality. Run prophet with daily_seasonality=True to override this.\n"
     ]
    },
    {
     "name": "stdout",
     "output_type": "stream",
     "text": [
      "El producto demoró 3.4865195751190186 Centro Sur Talca\n",
      "tiempo que lleva corriendo 13.302458699544271 Min\n"
     ]
    },
    {
     "name": "stderr",
     "output_type": "stream",
     "text": [
      "INFO:fbprophet:Disabling daily seasonality. Run prophet with daily_seasonality=True to override this.\n"
     ]
    },
    {
     "name": "stdout",
     "output_type": "stream",
     "text": [
      "El producto demoró 3.5593855381011963 Centro Sur Talca\n",
      "tiempo que lleva corriendo 13.361790108680726 Min\n",
      "El producto demoró 3.3717358112335205 Centro Sur Talca\n",
      "tiempo que lleva corriendo 13.4179940422376 Min\n",
      "Sur\n"
     ]
    },
    {
     "name": "stderr",
     "output_type": "stream",
     "text": [
      "INFO:fbprophet:Disabling daily seasonality. Run prophet with daily_seasonality=True to override this.\n"
     ]
    },
    {
     "name": "stdout",
     "output_type": "stream",
     "text": [
      "Castro\n"
     ]
    },
    {
     "name": "stderr",
     "output_type": "stream",
     "text": [
      "INFO:fbprophet:Disabling daily seasonality. Run prophet with daily_seasonality=True to override this.\n"
     ]
    },
    {
     "name": "stdout",
     "output_type": "stream",
     "text": [
      "El producto demoró 3.7145793437957764 Sur Castro\n",
      "tiempo que lleva corriendo 13.485102621714274 Min\n"
     ]
    },
    {
     "name": "stderr",
     "output_type": "stream",
     "text": [
      "INFO:fbprophet:Disabling daily seasonality. Run prophet with daily_seasonality=True to override this.\n"
     ]
    },
    {
     "name": "stdout",
     "output_type": "stream",
     "text": [
      "El producto demoró 3.291884183883667 Sur Castro\n",
      "tiempo que lleva corriendo 13.539975666999817 Min\n"
     ]
    },
    {
     "name": "stderr",
     "output_type": "stream",
     "text": [
      "INFO:fbprophet:Disabling daily seasonality. Run prophet with daily_seasonality=True to override this.\n"
     ]
    },
    {
     "name": "stdout",
     "output_type": "stream",
     "text": [
      "El producto demoró 3.2439680099487305 Sur Castro\n",
      "tiempo que lleva corriendo 13.594050121307372 Min\n"
     ]
    },
    {
     "name": "stderr",
     "output_type": "stream",
     "text": [
      "INFO:fbprophet:Disabling daily seasonality. Run prophet with daily_seasonality=True to override this.\n"
     ]
    },
    {
     "name": "stdout",
     "output_type": "stream",
     "text": [
      "El producto demoró 3.553894519805908 Sur Castro\n",
      "tiempo que lleva corriendo 13.653281696637471 Min\n"
     ]
    },
    {
     "name": "stderr",
     "output_type": "stream",
     "text": [
      "INFO:fbprophet:Disabling daily seasonality. Run prophet with daily_seasonality=True to override this.\n"
     ]
    },
    {
     "name": "stdout",
     "output_type": "stream",
     "text": [
      "El producto demoró 3.385209798812866 Sur Castro\n",
      "tiempo que lleva corriendo 13.709718477725982 Min\n"
     ]
    },
    {
     "name": "stderr",
     "output_type": "stream",
     "text": [
      "INFO:fbprophet:Disabling daily seasonality. Run prophet with daily_seasonality=True to override this.\n"
     ]
    },
    {
     "name": "stdout",
     "output_type": "stream",
     "text": [
      "El producto demoró 3.4101812839508057 Sur Castro\n",
      "tiempo que lleva corriendo 13.766554832458496 Min\n"
     ]
    },
    {
     "name": "stderr",
     "output_type": "stream",
     "text": [
      "INFO:fbprophet:Disabling daily seasonality. Run prophet with daily_seasonality=True to override this.\n"
     ]
    },
    {
     "name": "stdout",
     "output_type": "stream",
     "text": [
      "El producto demoró 3.442582845687866 Sur Castro\n",
      "tiempo que lleva corriendo 13.823939538002014 Min\n"
     ]
    },
    {
     "name": "stderr",
     "output_type": "stream",
     "text": [
      "INFO:fbprophet:Disabling daily seasonality. Run prophet with daily_seasonality=True to override this.\n"
     ]
    },
    {
     "name": "stdout",
     "output_type": "stream",
     "text": [
      "El producto demoró 3.8418781757354736 Sur Castro\n",
      "tiempo que lleva corriendo 13.887970840930938 Min\n"
     ]
    },
    {
     "name": "stderr",
     "output_type": "stream",
     "text": [
      "INFO:fbprophet:Disabling daily seasonality. Run prophet with daily_seasonality=True to override this.\n"
     ]
    },
    {
     "name": "stdout",
     "output_type": "stream",
     "text": [
      "El producto demoró 3.392195463180542 Sur Castro\n",
      "tiempo que lleva corriendo 13.944515828291575 Min\n"
     ]
    },
    {
     "name": "stderr",
     "output_type": "stream",
     "text": [
      "INFO:fbprophet:Disabling daily seasonality. Run prophet with daily_seasonality=True to override this.\n"
     ]
    },
    {
     "name": "stdout",
     "output_type": "stream",
     "text": [
      "El producto demoró 3.591305732727051 Sur Castro\n",
      "tiempo que lleva corriendo 14.004379256566365 Min\n"
     ]
    },
    {
     "name": "stderr",
     "output_type": "stream",
     "text": [
      "INFO:fbprophet:Disabling daily seasonality. Run prophet with daily_seasonality=True to override this.\n"
     ]
    },
    {
     "name": "stdout",
     "output_type": "stream",
     "text": [
      "El producto demoró 3.8144092559814453 Sur Castro\n",
      "tiempo que lleva corriendo 14.067961061000824 Min\n"
     ]
    },
    {
     "name": "stderr",
     "output_type": "stream",
     "text": [
      "INFO:fbprophet:Disabling daily seasonality. Run prophet with daily_seasonality=True to override this.\n"
     ]
    },
    {
     "name": "stdout",
     "output_type": "stream",
     "text": [
      "El producto demoró 3.252950668334961 Sur Castro\n",
      "tiempo que lleva corriendo 14.122185230255127 Min\n"
     ]
    },
    {
     "name": "stderr",
     "output_type": "stream",
     "text": [
      "INFO:fbprophet:Disabling daily seasonality. Run prophet with daily_seasonality=True to override this.\n"
     ]
    },
    {
     "name": "stdout",
     "output_type": "stream",
     "text": [
      "El producto demoró 3.897756338119507 Sur Castro\n",
      "tiempo que lleva corriendo 14.187147835890451 Min\n",
      "Coyhaique\n"
     ]
    },
    {
     "name": "stderr",
     "output_type": "stream",
     "text": [
      "INFO:fbprophet:Disabling daily seasonality. Run prophet with daily_seasonality=True to override this.\n"
     ]
    },
    {
     "name": "stdout",
     "output_type": "stream",
     "text": [
      "El producto demoró 2.784344434738159 Sur Coyhaique\n",
      "tiempo que lleva corriendo 14.234069287776947 Min\n"
     ]
    },
    {
     "name": "stderr",
     "output_type": "stream",
     "text": [
      "INFO:fbprophet:Disabling daily seasonality. Run prophet with daily_seasonality=True to override this.\n"
     ]
    },
    {
     "name": "stdout",
     "output_type": "stream",
     "text": [
      "El producto demoró 2.514326810836792 Sur Coyhaique\n",
      "tiempo que lleva corriendo 14.275974734624226 Min\n"
     ]
    },
    {
     "name": "stderr",
     "output_type": "stream",
     "text": [
      "INFO:fbprophet:Disabling daily seasonality. Run prophet with daily_seasonality=True to override this.\n"
     ]
    },
    {
     "name": "stdout",
     "output_type": "stream",
     "text": [
      "El producto demoró 2.7987983226776123 Sur Coyhaique\n",
      "tiempo que lleva corriendo 14.32262137333552 Min\n"
     ]
    },
    {
     "name": "stderr",
     "output_type": "stream",
     "text": [
      "INFO:fbprophet:Disabling daily seasonality. Run prophet with daily_seasonality=True to override this.\n"
     ]
    },
    {
     "name": "stdout",
     "output_type": "stream",
     "text": [
      "El producto demoró 2.7184224128723145 Sur Coyhaique\n",
      "tiempo que lleva corriendo 14.367936738332112 Min\n"
     ]
    },
    {
     "name": "stderr",
     "output_type": "stream",
     "text": [
      "INFO:fbprophet:Disabling daily seasonality. Run prophet with daily_seasonality=True to override this.\n"
     ]
    },
    {
     "name": "stdout",
     "output_type": "stream",
     "text": [
      "El producto demoró 5.56429386138916 Sur Coyhaique\n",
      "tiempo que lleva corriendo 14.460674969355265 Min\n"
     ]
    },
    {
     "name": "stderr",
     "output_type": "stream",
     "text": [
      "INFO:fbprophet:Disabling daily seasonality. Run prophet with daily_seasonality=True to override this.\n"
     ]
    },
    {
     "name": "stdout",
     "output_type": "stream",
     "text": [
      "El producto demoró 2.811774730682373 Sur Coyhaique\n",
      "tiempo que lleva corriendo 14.507537881533304 Min\n"
     ]
    },
    {
     "name": "stderr",
     "output_type": "stream",
     "text": [
      "INFO:fbprophet:Disabling daily seasonality. Run prophet with daily_seasonality=True to override this.\n"
     ]
    },
    {
     "name": "stdout",
     "output_type": "stream",
     "text": [
      "El producto demoró 2.4574177265167236 Sur Coyhaique\n",
      "tiempo que lleva corriendo 14.548494843641917 Min\n"
     ]
    },
    {
     "name": "stderr",
     "output_type": "stream",
     "text": [
      "INFO:fbprophet:Disabling daily seasonality. Run prophet with daily_seasonality=True to override this.\n"
     ]
    },
    {
     "name": "stdout",
     "output_type": "stream",
     "text": [
      "El producto demoró 2.7548954486846924 Sur Coyhaique\n",
      "tiempo que lleva corriendo 14.594409767786662 Min\n"
     ]
    },
    {
     "name": "stderr",
     "output_type": "stream",
     "text": [
      "INFO:fbprophet:Disabling daily seasonality. Run prophet with daily_seasonality=True to override this.\n"
     ]
    },
    {
     "name": "stdout",
     "output_type": "stream",
     "text": [
      "El producto demoró 2.8092784881591797 Sur Coyhaique\n",
      "tiempo que lleva corriendo 14.641231075922649 Min\n"
     ]
    },
    {
     "name": "stderr",
     "output_type": "stream",
     "text": [
      "INFO:fbprophet:Disabling daily seasonality. Run prophet with daily_seasonality=True to override this.\n"
     ]
    },
    {
     "name": "stdout",
     "output_type": "stream",
     "text": [
      "El producto demoró 2.8546946048736572 Sur Coyhaique\n",
      "tiempo que lleva corriendo 14.688817636171978 Min\n"
     ]
    },
    {
     "name": "stderr",
     "output_type": "stream",
     "text": [
      "INFO:fbprophet:Disabling daily seasonality. Run prophet with daily_seasonality=True to override this.\n"
     ]
    },
    {
     "name": "stdout",
     "output_type": "stream",
     "text": [
      "El producto demoró 2.420501232147217 Sur Coyhaique\n",
      "tiempo que lleva corriendo 14.729167648156483 Min\n",
      "Osorno\n"
     ]
    },
    {
     "name": "stderr",
     "output_type": "stream",
     "text": [
      "INFO:fbprophet:Disabling daily seasonality. Run prophet with daily_seasonality=True to override this.\n"
     ]
    },
    {
     "name": "stdout",
     "output_type": "stream",
     "text": [
      "El producto demoró 3.4940621852874756 Sur Osorno\n",
      "tiempo que lleva corriendo 14.787984263896941 Min\n"
     ]
    },
    {
     "name": "stderr",
     "output_type": "stream",
     "text": [
      "INFO:fbprophet:Disabling daily seasonality. Run prophet with daily_seasonality=True to override this.\n"
     ]
    },
    {
     "name": "stdout",
     "output_type": "stream",
     "text": [
      "El producto demoró 3.7430427074432373 Sur Osorno\n",
      "tiempo que lleva corriendo 14.850376617908477 Min\n"
     ]
    },
    {
     "name": "stderr",
     "output_type": "stream",
     "text": [
      "INFO:fbprophet:Disabling daily seasonality. Run prophet with daily_seasonality=True to override this.\n"
     ]
    },
    {
     "name": "stdout",
     "output_type": "stream",
     "text": [
      "El producto demoró 3.2814016342163086 Sur Osorno\n",
      "tiempo que lleva corriendo 14.905066645145416 Min\n"
     ]
    },
    {
     "name": "stderr",
     "output_type": "stream",
     "text": [
      "INFO:fbprophet:Disabling daily seasonality. Run prophet with daily_seasonality=True to override this.\n"
     ]
    },
    {
     "name": "stdout",
     "output_type": "stream",
     "text": [
      "El producto demoró 3.5775146484375 Sur Osorno\n",
      "tiempo que lleva corriendo 14.964700206120808 Min\n"
     ]
    },
    {
     "name": "stderr",
     "output_type": "stream",
     "text": [
      "INFO:fbprophet:Disabling daily seasonality. Run prophet with daily_seasonality=True to override this.\n"
     ]
    },
    {
     "name": "stdout",
     "output_type": "stream",
     "text": [
      "El producto demoró 4.160150527954102 Sur Osorno\n",
      "tiempo que lleva corriendo 15.034044361114502 Min\n"
     ]
    },
    {
     "name": "stderr",
     "output_type": "stream",
     "text": [
      "INFO:fbprophet:Disabling daily seasonality. Run prophet with daily_seasonality=True to override this.\n"
     ]
    },
    {
     "name": "stdout",
     "output_type": "stream",
     "text": [
      "El producto demoró 3.1980574131011963 Sur Osorno\n",
      "tiempo que lleva corriendo 15.087361947695415 Min\n"
     ]
    },
    {
     "name": "stderr",
     "output_type": "stream",
     "text": [
      "INFO:fbprophet:Disabling daily seasonality. Run prophet with daily_seasonality=True to override this.\n"
     ]
    },
    {
     "name": "stdout",
     "output_type": "stream",
     "text": [
      "El producto demoró 3.432121992111206 Sur Osorno\n",
      "tiempo que lleva corriendo 15.144563980897267 Min\n"
     ]
    },
    {
     "name": "stderr",
     "output_type": "stream",
     "text": [
      "INFO:fbprophet:Disabling daily seasonality. Run prophet with daily_seasonality=True to override this.\n"
     ]
    },
    {
     "name": "stdout",
     "output_type": "stream",
     "text": [
      "El producto demoró 4.312969923019409 Sur Osorno\n",
      "tiempo que lleva corriendo 15.216463446617126 Min\n"
     ]
    },
    {
     "name": "stderr",
     "output_type": "stream",
     "text": [
      "INFO:fbprophet:Disabling daily seasonality. Run prophet with daily_seasonality=True to override this.\n"
     ]
    },
    {
     "name": "stdout",
     "output_type": "stream",
     "text": [
      "El producto demoró 3.6621956825256348 Sur Osorno\n",
      "tiempo que lleva corriendo 15.277500041325887 Min\n"
     ]
    },
    {
     "name": "stderr",
     "output_type": "stream",
     "text": [
      "INFO:fbprophet:Disabling daily seasonality. Run prophet with daily_seasonality=True to override this.\n"
     ]
    },
    {
     "name": "stdout",
     "output_type": "stream",
     "text": [
      "El producto demoró 4.124834299087524 Sur Osorno\n",
      "tiempo que lleva corriendo 15.346263897418975 Min\n"
     ]
    },
    {
     "name": "stderr",
     "output_type": "stream",
     "text": [
      "INFO:fbprophet:Disabling daily seasonality. Run prophet with daily_seasonality=True to override this.\n"
     ]
    },
    {
     "name": "stdout",
     "output_type": "stream",
     "text": [
      "El producto demoró 3.512968063354492 Sur Osorno\n",
      "tiempo que lleva corriendo 15.404821685949962 Min\n"
     ]
    },
    {
     "name": "stderr",
     "output_type": "stream",
     "text": [
      "INFO:fbprophet:Disabling daily seasonality. Run prophet with daily_seasonality=True to override this.\n"
     ]
    },
    {
     "name": "stdout",
     "output_type": "stream",
     "text": [
      "El producto demoró 3.4925119876861572 Sur Osorno\n",
      "tiempo que lleva corriendo 15.463038539886474 Min\n"
     ]
    },
    {
     "name": "stderr",
     "output_type": "stream",
     "text": [
      "INFO:fbprophet:Disabling daily seasonality. Run prophet with daily_seasonality=True to override this.\n"
     ]
    },
    {
     "name": "stdout",
     "output_type": "stream",
     "text": [
      "El producto demoró 3.5813417434692383 Sur Osorno\n",
      "tiempo que lleva corriendo 15.522735893726349 Min\n",
      "Puerto Montt\n"
     ]
    },
    {
     "name": "stderr",
     "output_type": "stream",
     "text": [
      "INFO:fbprophet:Disabling daily seasonality. Run prophet with daily_seasonality=True to override this.\n"
     ]
    },
    {
     "name": "stdout",
     "output_type": "stream",
     "text": [
      "El producto demoró 5.695413827896118 Sur Puerto Montt\n",
      "tiempo que lleva corriendo 15.6184912443161 Min\n"
     ]
    },
    {
     "name": "stderr",
     "output_type": "stream",
     "text": [
      "INFO:fbprophet:Disabling daily seasonality. Run prophet with daily_seasonality=True to override this.\n"
     ]
    },
    {
     "name": "stdout",
     "output_type": "stream",
     "text": [
      "El producto demoró 3.573362350463867 Sur Puerto Montt\n",
      "tiempo que lleva corriendo 15.67806396484375 Min\n"
     ]
    },
    {
     "name": "stderr",
     "output_type": "stream",
     "text": [
      "INFO:fbprophet:Disabling daily seasonality. Run prophet with daily_seasonality=True to override this.\n"
     ]
    },
    {
     "name": "stdout",
     "output_type": "stream",
     "text": [
      "El producto demoró 4.189536094665527 Sur Puerto Montt\n",
      "tiempo que lleva corriendo 15.74789788722992 Min\n"
     ]
    },
    {
     "name": "stderr",
     "output_type": "stream",
     "text": [
      "INFO:fbprophet:Disabling daily seasonality. Run prophet with daily_seasonality=True to override this.\n"
     ]
    },
    {
     "name": "stdout",
     "output_type": "stream",
     "text": [
      "El producto demoró 4.0419886112213135 Sur Puerto Montt\n",
      "tiempo que lleva corriendo 15.815264364083609 Min\n"
     ]
    },
    {
     "name": "stderr",
     "output_type": "stream",
     "text": [
      "INFO:fbprophet:Disabling daily seasonality. Run prophet with daily_seasonality=True to override this.\n"
     ]
    },
    {
     "name": "stdout",
     "output_type": "stream",
     "text": [
      "El producto demoró 5.219797134399414 Sur Puerto Montt\n",
      "tiempo que lleva corriendo 15.902277612686158 Min\n"
     ]
    },
    {
     "name": "stderr",
     "output_type": "stream",
     "text": [
      "INFO:fbprophet:Disabling daily seasonality. Run prophet with daily_seasonality=True to override this.\n"
     ]
    },
    {
     "name": "stdout",
     "output_type": "stream",
     "text": [
      "El producto demoró 3.6547091007232666 Sur Puerto Montt\n",
      "tiempo que lleva corriendo 15.963197767734528 Min\n"
     ]
    },
    {
     "name": "stderr",
     "output_type": "stream",
     "text": [
      "INFO:fbprophet:Disabling daily seasonality. Run prophet with daily_seasonality=True to override this.\n"
     ]
    },
    {
     "name": "stdout",
     "output_type": "stream",
     "text": [
      "El producto demoró 3.7160909175872803 Sur Puerto Montt\n",
      "tiempo que lleva corriendo 16.02514093319575 Min\n"
     ]
    },
    {
     "name": "stderr",
     "output_type": "stream",
     "text": [
      "INFO:fbprophet:Disabling daily seasonality. Run prophet with daily_seasonality=True to override this.\n"
     ]
    },
    {
     "name": "stdout",
     "output_type": "stream",
     "text": [
      "El producto demoró 4.282043695449829 Sur Puerto Montt\n",
      "tiempo que lleva corriendo 16.096524973710377 Min\n"
     ]
    },
    {
     "name": "stderr",
     "output_type": "stream",
     "text": [
      "INFO:fbprophet:Disabling daily seasonality. Run prophet with daily_seasonality=True to override this.\n"
     ]
    },
    {
     "name": "stdout",
     "output_type": "stream",
     "text": [
      "El producto demoró 4.307493209838867 Sur Puerto Montt\n",
      "tiempo que lleva corriendo 16.168324859937034 Min\n"
     ]
    },
    {
     "name": "stderr",
     "output_type": "stream",
     "text": [
      "INFO:fbprophet:Disabling daily seasonality. Run prophet with daily_seasonality=True to override this.\n"
     ]
    },
    {
     "name": "stdout",
     "output_type": "stream",
     "text": [
      "El producto demoró 4.8554770946502686 Sur Puerto Montt\n",
      "tiempo que lleva corriendo 16.249257798989614 Min\n"
     ]
    },
    {
     "name": "stderr",
     "output_type": "stream",
     "text": [
      "INFO:fbprophet:Disabling daily seasonality. Run prophet with daily_seasonality=True to override this.\n"
     ]
    },
    {
     "name": "stdout",
     "output_type": "stream",
     "text": [
      "El producto demoró 4.558027029037476 Sur Puerto Montt\n",
      "tiempo que lleva corriendo 16.32522491614024 Min\n"
     ]
    },
    {
     "name": "stderr",
     "output_type": "stream",
     "text": [
      "INFO:fbprophet:Disabling daily seasonality. Run prophet with daily_seasonality=True to override this.\n"
     ]
    },
    {
     "name": "stdout",
     "output_type": "stream",
     "text": [
      "El producto demoró 4.9263458251953125 Sur Puerto Montt\n",
      "tiempo que lleva corriendo 16.40734734137853 Min\n"
     ]
    },
    {
     "name": "stderr",
     "output_type": "stream",
     "text": [
      "INFO:fbprophet:Disabling daily seasonality. Run prophet with daily_seasonality=True to override this.\n"
     ]
    },
    {
     "name": "stdout",
     "output_type": "stream",
     "text": [
      "El producto demoró 4.955287933349609 Sur Puerto Montt\n",
      "tiempo que lleva corriendo 16.489935473601022 Min\n",
      "Punta Arenas\n"
     ]
    },
    {
     "name": "stderr",
     "output_type": "stream",
     "text": [
      "INFO:fbprophet:Disabling daily seasonality. Run prophet with daily_seasonality=True to override this.\n"
     ]
    },
    {
     "name": "stdout",
     "output_type": "stream",
     "text": [
      "El producto demoró 3.20405650138855 Sur Punta Arenas\n",
      "tiempo que lleva corriendo 16.543910332520802 Min\n"
     ]
    },
    {
     "name": "stderr",
     "output_type": "stream",
     "text": [
      "INFO:fbprophet:Disabling daily seasonality. Run prophet with daily_seasonality=True to override this.\n"
     ]
    },
    {
     "name": "stdout",
     "output_type": "stream",
     "text": [
      "El producto demoró 2.6605844497680664 Sur Punta Arenas\n",
      "tiempo que lleva corriendo 16.58826153675715 Min\n"
     ]
    },
    {
     "name": "stderr",
     "output_type": "stream",
     "text": [
      "INFO:fbprophet:Disabling daily seasonality. Run prophet with daily_seasonality=True to override this.\n"
     ]
    },
    {
     "name": "stdout",
     "output_type": "stream",
     "text": [
      "El producto demoró 3.7350401878356934 Sur Punta Arenas\n",
      "tiempo que lleva corriendo 16.650520527362822 Min\n"
     ]
    },
    {
     "name": "stderr",
     "output_type": "stream",
     "text": [
      "INFO:fbprophet:Disabling daily seasonality. Run prophet with daily_seasonality=True to override this.\n"
     ]
    },
    {
     "name": "stdout",
     "output_type": "stream",
     "text": [
      "El producto demoró 3.043842315673828 Sur Punta Arenas\n",
      "tiempo que lleva corriendo 16.70125957727432 Min\n"
     ]
    },
    {
     "name": "stderr",
     "output_type": "stream",
     "text": [
      "INFO:fbprophet:Disabling daily seasonality. Run prophet with daily_seasonality=True to override this.\n"
     ]
    },
    {
     "name": "stdout",
     "output_type": "stream",
     "text": [
      "El producto demoró 2.5852293968200684 Sur Punta Arenas\n",
      "tiempo que lleva corriendo 16.74434673388799 Min\n"
     ]
    },
    {
     "name": "stderr",
     "output_type": "stream",
     "text": [
      "INFO:fbprophet:Disabling daily seasonality. Run prophet with daily_seasonality=True to override this.\n"
     ]
    },
    {
     "name": "stdout",
     "output_type": "stream",
     "text": [
      "El producto demoró 2.735914468765259 Sur Punta Arenas\n",
      "tiempo que lleva corriendo 16.789953621228538 Min\n"
     ]
    },
    {
     "name": "stderr",
     "output_type": "stream",
     "text": [
      "INFO:fbprophet:Disabling daily seasonality. Run prophet with daily_seasonality=True to override this.\n"
     ]
    },
    {
     "name": "stdout",
     "output_type": "stream",
     "text": [
      "El producto demoró 3.3313090801239014 Sur Punta Arenas\n",
      "tiempo que lleva corriendo 16.845492072900136 Min\n"
     ]
    },
    {
     "name": "stderr",
     "output_type": "stream",
     "text": [
      "INFO:fbprophet:Disabling daily seasonality. Run prophet with daily_seasonality=True to override this.\n"
     ]
    },
    {
     "name": "stdout",
     "output_type": "stream",
     "text": [
      "El producto demoró 3.398195266723633 Sur Punta Arenas\n",
      "tiempo que lleva corriendo 16.902136985460917 Min\n"
     ]
    },
    {
     "name": "stderr",
     "output_type": "stream",
     "text": [
      "INFO:fbprophet:Disabling daily seasonality. Run prophet with daily_seasonality=True to override this.\n"
     ]
    },
    {
     "name": "stdout",
     "output_type": "stream",
     "text": [
      "El producto demoró 3.176553726196289 Sur Punta Arenas\n",
      "tiempo que lleva corriendo 16.9550878405571 Min\n"
     ]
    },
    {
     "name": "stderr",
     "output_type": "stream",
     "text": [
      "INFO:fbprophet:Disabling daily seasonality. Run prophet with daily_seasonality=True to override this.\n",
      "INFO:fbprophet:n_changepoints greater than number of observations. Using 8.\n"
     ]
    },
    {
     "name": "stdout",
     "output_type": "stream",
     "text": [
      "El producto demoró 4.824532508850098 Sur Punta Arenas\n",
      "tiempo que lleva corriendo 17.035513361295063 Min\n"
     ]
    },
    {
     "name": "stderr",
     "output_type": "stream",
     "text": [
      "INFO:fbprophet:Disabling daily seasonality. Run prophet with daily_seasonality=True to override this.\n"
     ]
    },
    {
     "name": "stdout",
     "output_type": "stream",
     "text": [
      "El producto demoró 22.60313320159912 Sur Punta Arenas\n",
      "tiempo que lleva corriendo 17.41223224798838 Min\n"
     ]
    },
    {
     "name": "stderr",
     "output_type": "stream",
     "text": [
      "INFO:fbprophet:Disabling daily seasonality. Run prophet with daily_seasonality=True to override this.\n"
     ]
    },
    {
     "name": "stdout",
     "output_type": "stream",
     "text": [
      "El producto demoró 3.948662042617798 Sur Punta Arenas\n",
      "tiempo que lleva corriendo 17.47804328203201 Min\n"
     ]
    },
    {
     "name": "stderr",
     "output_type": "stream",
     "text": [
      "INFO:fbprophet:Disabling daily seasonality. Run prophet with daily_seasonality=True to override this.\n"
     ]
    },
    {
     "name": "stdout",
     "output_type": "stream",
     "text": [
      "El producto demoró 3.155135154724121 Sur Punta Arenas\n",
      "tiempo que lleva corriendo 17.530637180805208 Min\n",
      "Temuco\n"
     ]
    },
    {
     "name": "stderr",
     "output_type": "stream",
     "text": [
      "INFO:fbprophet:Disabling daily seasonality. Run prophet with daily_seasonality=True to override this.\n"
     ]
    },
    {
     "name": "stdout",
     "output_type": "stream",
     "text": [
      "El producto demoró 3.2505404949188232 Sur Temuco\n",
      "tiempo que lleva corriendo 17.58539512952169 Min\n"
     ]
    },
    {
     "name": "stderr",
     "output_type": "stream",
     "text": [
      "INFO:fbprophet:Disabling daily seasonality. Run prophet with daily_seasonality=True to override this.\n"
     ]
    },
    {
     "name": "stdout",
     "output_type": "stream",
     "text": [
      "El producto demoró 3.5129709243774414 Sur Temuco\n",
      "tiempo que lleva corriendo 17.643952969710032 Min\n"
     ]
    },
    {
     "name": "stderr",
     "output_type": "stream",
     "text": [
      "INFO:fbprophet:Disabling daily seasonality. Run prophet with daily_seasonality=True to override this.\n"
     ]
    },
    {
     "name": "stdout",
     "output_type": "stream",
     "text": [
      "El producto demoró 4.0150368213653564 Sur Temuco\n",
      "tiempo que lleva corriendo 17.710870250066122 Min\n"
     ]
    },
    {
     "name": "stderr",
     "output_type": "stream",
     "text": [
      "INFO:fbprophet:Disabling daily seasonality. Run prophet with daily_seasonality=True to override this.\n"
     ]
    },
    {
     "name": "stdout",
     "output_type": "stream",
     "text": [
      "El producto demoró 5.198840856552124 Sur Temuco\n",
      "tiempo que lleva corriendo 17.797525910536447 Min\n"
     ]
    },
    {
     "name": "stderr",
     "output_type": "stream",
     "text": [
      "INFO:fbprophet:Disabling daily seasonality. Run prophet with daily_seasonality=True to override this.\n"
     ]
    },
    {
     "name": "stdout",
     "output_type": "stream",
     "text": [
      "El producto demoró 4.028012275695801 Sur Temuco\n",
      "tiempo que lleva corriendo 17.864667761325837 Min\n"
     ]
    },
    {
     "name": "stderr",
     "output_type": "stream",
     "text": [
      "INFO:fbprophet:Disabling daily seasonality. Run prophet with daily_seasonality=True to override this.\n"
     ]
    },
    {
     "name": "stdout",
     "output_type": "stream",
     "text": [
      "El producto demoró 4.883424758911133 Sur Temuco\n",
      "tiempo que lleva corriendo 17.94606647094091 Min\n"
     ]
    },
    {
     "name": "stderr",
     "output_type": "stream",
     "text": [
      "INFO:fbprophet:Disabling daily seasonality. Run prophet with daily_seasonality=True to override this.\n"
     ]
    },
    {
     "name": "stdout",
     "output_type": "stream",
     "text": [
      "El producto demoró 4.298013210296631 Sur Temuco\n",
      "tiempo que lleva corriendo 18.017708388964333 Min\n"
     ]
    },
    {
     "name": "stderr",
     "output_type": "stream",
     "text": [
      "INFO:fbprophet:Disabling daily seasonality. Run prophet with daily_seasonality=True to override this.\n"
     ]
    },
    {
     "name": "stdout",
     "output_type": "stream",
     "text": [
      "El producto demoró 4.640870094299316 Sur Temuco\n",
      "tiempo que lleva corriendo 18.095064552625022 Min\n"
     ]
    },
    {
     "name": "stderr",
     "output_type": "stream",
     "text": [
      "INFO:fbprophet:Disabling daily seasonality. Run prophet with daily_seasonality=True to override this.\n"
     ]
    },
    {
     "name": "stdout",
     "output_type": "stream",
     "text": [
      "El producto demoró 4.192209959030151 Sur Temuco\n",
      "tiempo que lleva corriendo 18.164934718608855 Min\n"
     ]
    },
    {
     "name": "stderr",
     "output_type": "stream",
     "text": [
      "INFO:fbprophet:Disabling daily seasonality. Run prophet with daily_seasonality=True to override this.\n"
     ]
    },
    {
     "name": "stdout",
     "output_type": "stream",
     "text": [
      "El producto demoró 3.8049120903015137 Sur Temuco\n",
      "tiempo que lleva corriendo 18.22834992011388 Min\n"
     ]
    },
    {
     "name": "stderr",
     "output_type": "stream",
     "text": [
      "INFO:fbprophet:Disabling daily seasonality. Run prophet with daily_seasonality=True to override this.\n"
     ]
    },
    {
     "name": "stdout",
     "output_type": "stream",
     "text": [
      "El producto demoró 3.7510290145874023 Sur Temuco\n",
      "tiempo que lleva corriendo 18.290875403086343 Min\n"
     ]
    },
    {
     "name": "stderr",
     "output_type": "stream",
     "text": [
      "INFO:fbprophet:Disabling daily seasonality. Run prophet with daily_seasonality=True to override this.\n"
     ]
    },
    {
     "name": "stdout",
     "output_type": "stream",
     "text": [
      "El producto demoró 3.5284416675567627 Sur Temuco\n",
      "tiempo que lleva corriendo 18.34971604347229 Min\n"
     ]
    },
    {
     "name": "stderr",
     "output_type": "stream",
     "text": [
      "INFO:fbprophet:Disabling daily seasonality. Run prophet with daily_seasonality=True to override this.\n"
     ]
    },
    {
     "name": "stdout",
     "output_type": "stream",
     "text": [
      "El producto demoró 5.1853625774383545 Sur Temuco\n",
      "tiempo que lleva corriendo 18.436147061983743 Min\n",
      "Valdivia\n"
     ]
    },
    {
     "name": "stderr",
     "output_type": "stream",
     "text": [
      "INFO:fbprophet:Disabling daily seasonality. Run prophet with daily_seasonality=True to override this.\n"
     ]
    },
    {
     "name": "stdout",
     "output_type": "stream",
     "text": [
      "El producto demoró 3.301374673843384 Sur Valdivia\n",
      "tiempo que lleva corriendo 18.491727113723755 Min\n"
     ]
    },
    {
     "name": "stderr",
     "output_type": "stream",
     "text": [
      "INFO:fbprophet:Disabling daily seasonality. Run prophet with daily_seasonality=True to override this.\n"
     ]
    },
    {
     "name": "stdout",
     "output_type": "stream",
     "text": [
      "El producto demoró 4.488656044006348 Sur Valdivia\n",
      "tiempo que lleva corriendo 18.566546364625296 Min\n"
     ]
    },
    {
     "name": "stderr",
     "output_type": "stream",
     "text": [
      "INFO:fbprophet:Disabling daily seasonality. Run prophet with daily_seasonality=True to override this.\n"
     ]
    },
    {
     "name": "stdout",
     "output_type": "stream",
     "text": [
      "El producto demoró 4.483670473098755 Sur Valdivia\n",
      "tiempo que lleva corriendo 18.64128251870473 Min\n"
     ]
    },
    {
     "name": "stderr",
     "output_type": "stream",
     "text": [
      "INFO:fbprophet:Disabling daily seasonality. Run prophet with daily_seasonality=True to override this.\n"
     ]
    },
    {
     "name": "stdout",
     "output_type": "stream",
     "text": [
      "El producto demoró 3.936680555343628 Sur Valdivia\n",
      "tiempo que lleva corriendo 18.706902170181273 Min\n"
     ]
    },
    {
     "name": "stderr",
     "output_type": "stream",
     "text": [
      "INFO:fbprophet:Disabling daily seasonality. Run prophet with daily_seasonality=True to override this.\n"
     ]
    },
    {
     "name": "stdout",
     "output_type": "stream",
     "text": [
      "El producto demoró 3.826892137527466 Sur Valdivia\n",
      "tiempo que lleva corriendo 18.770691963036857 Min\n"
     ]
    },
    {
     "name": "stderr",
     "output_type": "stream",
     "text": [
      "INFO:fbprophet:Disabling daily seasonality. Run prophet with daily_seasonality=True to override this.\n"
     ]
    },
    {
     "name": "stdout",
     "output_type": "stream",
     "text": [
      "El producto demoró 2.931551456451416 Sur Valdivia\n",
      "tiempo que lleva corriendo 18.81955954233805 Min\n"
     ]
    },
    {
     "name": "stderr",
     "output_type": "stream",
     "text": [
      "INFO:fbprophet:Disabling daily seasonality. Run prophet with daily_seasonality=True to override this.\n"
     ]
    },
    {
     "name": "stdout",
     "output_type": "stream",
     "text": [
      "El producto demoró 3.127683639526367 Sur Valdivia\n",
      "tiempo que lleva corriendo 18.87169594367345 Min\n"
     ]
    },
    {
     "name": "stderr",
     "output_type": "stream",
     "text": [
      "INFO:fbprophet:Disabling daily seasonality. Run prophet with daily_seasonality=True to override this.\n"
     ]
    },
    {
     "name": "stdout",
     "output_type": "stream",
     "text": [
      "El producto demoró 3.6133010387420654 Sur Valdivia\n",
      "tiempo que lleva corriendo 18.931925650437673 Min\n"
     ]
    },
    {
     "name": "stderr",
     "output_type": "stream",
     "text": [
      "INFO:fbprophet:Disabling daily seasonality. Run prophet with daily_seasonality=True to override this.\n"
     ]
    },
    {
     "name": "stdout",
     "output_type": "stream",
     "text": [
      "El producto demoró 4.115141868591309 Sur Valdivia\n",
      "tiempo que lleva corriendo 19.00051966905594 Min\n"
     ]
    },
    {
     "name": "stderr",
     "output_type": "stream",
     "text": [
      "INFO:fbprophet:Disabling daily seasonality. Run prophet with daily_seasonality=True to override this.\n"
     ]
    },
    {
     "name": "stdout",
     "output_type": "stream",
     "text": [
      "El producto demoró 4.600948810577393 Sur Valdivia\n",
      "tiempo que lleva corriendo 19.077202149232228 Min\n"
     ]
    },
    {
     "name": "stderr",
     "output_type": "stream",
     "text": [
      "INFO:fbprophet:Disabling daily seasonality. Run prophet with daily_seasonality=True to override this.\n"
     ]
    },
    {
     "name": "stdout",
     "output_type": "stream",
     "text": [
      "El producto demoró 4.383854150772095 Sur Valdivia\n",
      "tiempo que lleva corriendo 19.150274709860483 Min\n"
     ]
    },
    {
     "name": "stderr",
     "output_type": "stream",
     "text": [
      "INFO:fbprophet:Disabling daily seasonality. Run prophet with daily_seasonality=True to override this.\n"
     ]
    },
    {
     "name": "stdout",
     "output_type": "stream",
     "text": [
      "El producto demoró 4.462705135345459 Sur Valdivia\n",
      "tiempo que lleva corriendo 19.2246697584788 Min\n",
      "El producto demoró 4.125834226608276 Sur Valdivia\n",
      "tiempo que lleva corriendo 19.29344198703766 Min\n",
      "Norte\n"
     ]
    },
    {
     "name": "stderr",
     "output_type": "stream",
     "text": [
      "INFO:fbprophet:Disabling daily seasonality. Run prophet with daily_seasonality=True to override this.\n"
     ]
    },
    {
     "name": "stdout",
     "output_type": "stream",
     "text": [
      "Antofagasta\n"
     ]
    },
    {
     "name": "stderr",
     "output_type": "stream",
     "text": [
      "INFO:fbprophet:Disabling daily seasonality. Run prophet with daily_seasonality=True to override this.\n"
     ]
    },
    {
     "name": "stdout",
     "output_type": "stream",
     "text": [
      "El producto demoró 2.9971351623535156 Norte Antofagasta\n",
      "tiempo que lleva corriendo 19.348152061303455 Min\n"
     ]
    },
    {
     "name": "stderr",
     "output_type": "stream",
     "text": [
      "INFO:fbprophet:Disabling daily seasonality. Run prophet with daily_seasonality=True to override this.\n"
     ]
    },
    {
     "name": "stdout",
     "output_type": "stream",
     "text": [
      "El producto demoró 4.432260751724243 Norte Antofagasta\n",
      "tiempo que lleva corriendo 19.422031390666962 Min\n"
     ]
    },
    {
     "name": "stderr",
     "output_type": "stream",
     "text": [
      "INFO:fbprophet:Disabling daily seasonality. Run prophet with daily_seasonality=True to override this.\n"
     ]
    },
    {
     "name": "stdout",
     "output_type": "stream",
     "text": [
      "El producto demoró 3.9671273231506348 Norte Antofagasta\n",
      "tiempo que lleva corriendo 19.488158464431763 Min\n"
     ]
    },
    {
     "name": "stderr",
     "output_type": "stream",
     "text": [
      "INFO:fbprophet:Disabling daily seasonality. Run prophet with daily_seasonality=True to override this.\n"
     ]
    },
    {
     "name": "stdout",
     "output_type": "stream",
     "text": [
      "El producto demoró 4.498173475265503 Norte Antofagasta\n",
      "tiempo que lleva corriendo 19.563144652048745 Min\n"
     ]
    },
    {
     "name": "stderr",
     "output_type": "stream",
     "text": [
      "INFO:fbprophet:Disabling daily seasonality. Run prophet with daily_seasonality=True to override this.\n"
     ]
    },
    {
     "name": "stdout",
     "output_type": "stream",
     "text": [
      "El producto demoró 3.559384346008301 Norte Antofagasta\n",
      "tiempo que lleva corriendo 19.62247604926427 Min\n"
     ]
    },
    {
     "name": "stderr",
     "output_type": "stream",
     "text": [
      "INFO:fbprophet:Disabling daily seasonality. Run prophet with daily_seasonality=True to override this.\n"
     ]
    },
    {
     "name": "stdout",
     "output_type": "stream",
     "text": [
      "El producto demoró 2.955026865005493 Norte Antofagasta\n",
      "tiempo que lleva corriendo 19.67174312273661 Min\n"
     ]
    },
    {
     "name": "stderr",
     "output_type": "stream",
     "text": [
      "INFO:fbprophet:Disabling daily seasonality. Run prophet with daily_seasonality=True to override this.\n"
     ]
    },
    {
     "name": "stdout",
     "output_type": "stream",
     "text": [
      "El producto demoró 2.818251848220825 Norte Antofagasta\n",
      "tiempo que lleva corriendo 19.71872231165568 Min\n"
     ]
    },
    {
     "name": "stderr",
     "output_type": "stream",
     "text": [
      "INFO:fbprophet:Disabling daily seasonality. Run prophet with daily_seasonality=True to override this.\n"
     ]
    },
    {
     "name": "stdout",
     "output_type": "stream",
     "text": [
      "El producto demoró 5.008190155029297 Norte Antofagasta\n",
      "tiempo que lleva corriendo 19.802200317382812 Min\n"
     ]
    },
    {
     "name": "stderr",
     "output_type": "stream",
     "text": [
      "INFO:fbprophet:Disabling daily seasonality. Run prophet with daily_seasonality=True to override this.\n"
     ]
    },
    {
     "name": "stdout",
     "output_type": "stream",
     "text": [
      "El producto demoró 7.317899703979492 Norte Antofagasta\n",
      "tiempo que lleva corriendo 19.92417363325755 Min\n"
     ]
    },
    {
     "name": "stderr",
     "output_type": "stream",
     "text": [
      "INFO:fbprophet:Disabling daily seasonality. Run prophet with daily_seasonality=True to override this.\n"
     ]
    },
    {
     "name": "stdout",
     "output_type": "stream",
     "text": [
      "El producto demoró 5.5671539306640625 Norte Antofagasta\n",
      "tiempo que lleva corriendo 20.016967833042145 Min\n"
     ]
    },
    {
     "name": "stderr",
     "output_type": "stream",
     "text": [
      "INFO:fbprophet:Disabling daily seasonality. Run prophet with daily_seasonality=True to override this.\n"
     ]
    },
    {
     "name": "stdout",
     "output_type": "stream",
     "text": [
      "El producto demoró 5.373889446258545 Norte Antofagasta\n",
      "tiempo que lleva corriendo 20.10654095808665 Min\n"
     ]
    },
    {
     "name": "stderr",
     "output_type": "stream",
     "text": [
      "INFO:fbprophet:Disabling daily seasonality. Run prophet with daily_seasonality=True to override this.\n"
     ]
    },
    {
     "name": "stdout",
     "output_type": "stream",
     "text": [
      "El producto demoró 5.421424627304077 Norte Antofagasta\n",
      "tiempo que lleva corriendo 20.196906348069508 Min\n",
      "Arica\n"
     ]
    },
    {
     "name": "stderr",
     "output_type": "stream",
     "text": [
      "INFO:fbprophet:Disabling daily seasonality. Run prophet with daily_seasonality=True to override this.\n"
     ]
    },
    {
     "name": "stdout",
     "output_type": "stream",
     "text": [
      "El producto demoró 2.88114595413208 Norte Arica\n",
      "tiempo que lleva corriendo 20.24531637430191 Min\n"
     ]
    },
    {
     "name": "stderr",
     "output_type": "stream",
     "text": [
      "INFO:fbprophet:Disabling daily seasonality. Run prophet with daily_seasonality=True to override this.\n"
     ]
    },
    {
     "name": "stdout",
     "output_type": "stream",
     "text": [
      "El producto demoró 4.072433710098267 Norte Arica\n",
      "tiempo que lleva corriendo 20.313190269470216 Min\n"
     ]
    },
    {
     "name": "stderr",
     "output_type": "stream",
     "text": [
      "INFO:fbprophet:Disabling daily seasonality. Run prophet with daily_seasonality=True to override this.\n"
     ]
    },
    {
     "name": "stdout",
     "output_type": "stream",
     "text": [
      "El producto demoró 4.442242860794067 Norte Arica\n",
      "tiempo que lleva corriendo 20.387235955397287 Min\n"
     ]
    },
    {
     "name": "stderr",
     "output_type": "stream",
     "text": [
      "INFO:fbprophet:Disabling daily seasonality. Run prophet with daily_seasonality=True to override this.\n"
     ]
    },
    {
     "name": "stdout",
     "output_type": "stream",
     "text": [
      "El producto demoró 3.3418073654174805 Norte Arica\n",
      "tiempo que lleva corriendo 20.442949386437736 Min\n"
     ]
    },
    {
     "name": "stderr",
     "output_type": "stream",
     "text": [
      "INFO:fbprophet:Disabling daily seasonality. Run prophet with daily_seasonality=True to override this.\n"
     ]
    },
    {
     "name": "stdout",
     "output_type": "stream",
     "text": [
      "El producto demoró 2.7116518020629883 Norte Arica\n",
      "tiempo que lleva corriendo 20.488143583138783 Min\n"
     ]
    },
    {
     "name": "stderr",
     "output_type": "stream",
     "text": [
      "INFO:fbprophet:Disabling daily seasonality. Run prophet with daily_seasonality=True to override this.\n"
     ]
    },
    {
     "name": "stdout",
     "output_type": "stream",
     "text": [
      "El producto demoró 3.2930734157562256 Norte Arica\n",
      "tiempo que lleva corriendo 20.54304480155309 Min\n"
     ]
    },
    {
     "name": "stderr",
     "output_type": "stream",
     "text": [
      "INFO:fbprophet:Disabling daily seasonality. Run prophet with daily_seasonality=True to override this.\n"
     ]
    },
    {
     "name": "stdout",
     "output_type": "stream",
     "text": [
      "El producto demoró 2.9225847721099854 Norte Arica\n",
      "tiempo que lleva corriendo 20.591762868563332 Min\n"
     ]
    },
    {
     "name": "stderr",
     "output_type": "stream",
     "text": [
      "INFO:fbprophet:Disabling daily seasonality. Run prophet with daily_seasonality=True to override this.\n"
     ]
    },
    {
     "name": "stdout",
     "output_type": "stream",
     "text": [
      "El producto demoró 3.9606215953826904 Norte Arica\n",
      "tiempo que lleva corriendo 20.657781545321146 Min\n"
     ]
    },
    {
     "name": "stderr",
     "output_type": "stream",
     "text": [
      "INFO:fbprophet:Disabling daily seasonality. Run prophet with daily_seasonality=True to override this.\n"
     ]
    },
    {
     "name": "stdout",
     "output_type": "stream",
     "text": [
      "El producto demoró 4.751169204711914 Norte Arica\n",
      "tiempo que lleva corriendo 20.73696769873301 Min\n"
     ]
    },
    {
     "name": "stderr",
     "output_type": "stream",
     "text": [
      "INFO:fbprophet:Disabling daily seasonality. Run prophet with daily_seasonality=True to override this.\n"
     ]
    },
    {
     "name": "stdout",
     "output_type": "stream",
     "text": [
      "El producto demoró 3.2824172973632812 Norte Arica\n",
      "tiempo que lleva corriendo 20.791674653689068 Min\n"
     ]
    },
    {
     "name": "stderr",
     "output_type": "stream",
     "text": [
      "INFO:fbprophet:Disabling daily seasonality. Run prophet with daily_seasonality=True to override this.\n"
     ]
    },
    {
     "name": "stdout",
     "output_type": "stream",
     "text": [
      "El producto demoró 4.5654966831207275 Norte Arica\n",
      "tiempo que lleva corriendo 20.867791227499644 Min\n"
     ]
    },
    {
     "name": "stderr",
     "output_type": "stream",
     "text": [
      "INFO:fbprophet:Disabling daily seasonality. Run prophet with daily_seasonality=True to override this.\n"
     ]
    },
    {
     "name": "stdout",
     "output_type": "stream",
     "text": [
      "El producto demoró 4.8060691356658936 Norte Arica\n",
      "tiempo que lleva corriendo 20.94789237976074 Min\n",
      "Calama\n"
     ]
    },
    {
     "name": "stderr",
     "output_type": "stream",
     "text": [
      "INFO:fbprophet:Disabling daily seasonality. Run prophet with daily_seasonality=True to override this.\n"
     ]
    },
    {
     "name": "stdout",
     "output_type": "stream",
     "text": [
      "El producto demoró 3.2759103775024414 Norte Calama\n",
      "tiempo que lleva corriendo 21.002890129884083 Min\n"
     ]
    },
    {
     "name": "stderr",
     "output_type": "stream",
     "text": [
      "INFO:fbprophet:Disabling daily seasonality. Run prophet with daily_seasonality=True to override this.\n"
     ]
    },
    {
     "name": "stdout",
     "output_type": "stream",
     "text": [
      "El producto demoró 3.4515891075134277 Norte Calama\n",
      "tiempo que lleva corriendo 21.06041661500931 Min\n"
     ]
    },
    {
     "name": "stderr",
     "output_type": "stream",
     "text": [
      "INFO:fbprophet:Disabling daily seasonality. Run prophet with daily_seasonality=True to override this.\n"
     ]
    },
    {
     "name": "stdout",
     "output_type": "stream",
     "text": [
      "El producto demoró 3.1972813606262207 Norte Calama\n",
      "tiempo que lleva corriendo 21.113712950547537 Min\n"
     ]
    },
    {
     "name": "stderr",
     "output_type": "stream",
     "text": [
      "INFO:fbprophet:Disabling daily seasonality. Run prophet with daily_seasonality=True to override this.\n"
     ]
    },
    {
     "name": "stdout",
     "output_type": "stream",
     "text": [
      "El producto demoró 4.007552862167358 Norte Calama\n",
      "tiempo que lleva corriendo 21.18051383495331 Min\n"
     ]
    },
    {
     "name": "stderr",
     "output_type": "stream",
     "text": [
      "INFO:fbprophet:Disabling daily seasonality. Run prophet with daily_seasonality=True to override this.\n"
     ]
    },
    {
     "name": "stdout",
     "output_type": "stream",
     "text": [
      "El producto demoró 3.4076783657073975 Norte Calama\n",
      "tiempo que lleva corriendo 21.237324921290078 Min\n"
     ]
    },
    {
     "name": "stderr",
     "output_type": "stream",
     "text": [
      "INFO:fbprophet:Disabling daily seasonality. Run prophet with daily_seasonality=True to override this.\n"
     ]
    },
    {
     "name": "stdout",
     "output_type": "stream",
     "text": [
      "El producto demoró 3.7869784832000732 Norte Calama\n",
      "tiempo que lleva corriendo 21.300441229343413 Min\n"
     ]
    },
    {
     "name": "stderr",
     "output_type": "stream",
     "text": [
      "INFO:fbprophet:Disabling daily seasonality. Run prophet with daily_seasonality=True to override this.\n"
     ]
    },
    {
     "name": "stdout",
     "output_type": "stream",
     "text": [
      "El producto demoró 2.81606388092041 Norte Calama\n",
      "tiempo que lleva corriendo 21.347383940219878 Min\n"
     ]
    },
    {
     "name": "stderr",
     "output_type": "stream",
     "text": [
      "INFO:fbprophet:Disabling daily seasonality. Run prophet with daily_seasonality=True to override this.\n"
     ]
    },
    {
     "name": "stdout",
     "output_type": "stream",
     "text": [
      "El producto demoró 5.487801790237427 Norte Calama\n",
      "tiempo que lleva corriendo 21.438855620225272 Min\n"
     ]
    },
    {
     "name": "stderr",
     "output_type": "stream",
     "text": [
      "INFO:fbprophet:Disabling daily seasonality. Run prophet with daily_seasonality=True to override this.\n"
     ]
    },
    {
     "name": "stdout",
     "output_type": "stream",
     "text": [
      "El producto demoró 5.191851377487183 Norte Calama\n",
      "tiempo que lleva corriendo 21.52539479335149 Min\n"
     ]
    },
    {
     "name": "stderr",
     "output_type": "stream",
     "text": [
      "INFO:fbprophet:Disabling daily seasonality. Run prophet with daily_seasonality=True to override this.\n"
     ]
    },
    {
     "name": "stdout",
     "output_type": "stream",
     "text": [
      "El producto demoró 4.616919279098511 Norte Calama\n",
      "tiempo que lleva corriendo 21.60235175291697 Min\n"
     ]
    },
    {
     "name": "stderr",
     "output_type": "stream",
     "text": [
      "INFO:fbprophet:Disabling daily seasonality. Run prophet with daily_seasonality=True to override this.\n"
     ]
    },
    {
     "name": "stdout",
     "output_type": "stream",
     "text": [
      "El producto demoró 4.603942632675171 Norte Calama\n",
      "tiempo que lleva corriendo 21.679092446962994 Min\n"
     ]
    },
    {
     "name": "stderr",
     "output_type": "stream",
     "text": [
      "INFO:fbprophet:Disabling daily seasonality. Run prophet with daily_seasonality=True to override this.\n"
     ]
    },
    {
     "name": "stdout",
     "output_type": "stream",
     "text": [
      "El producto demoró 6.138594150543213 Norte Calama\n",
      "tiempo que lleva corriendo 21.781410654385883 Min\n",
      "Iquique\n"
     ]
    },
    {
     "name": "stderr",
     "output_type": "stream",
     "text": [
      "INFO:fbprophet:Disabling daily seasonality. Run prophet with daily_seasonality=True to override this.\n"
     ]
    },
    {
     "name": "stdout",
     "output_type": "stream",
     "text": [
      "El producto demoró 3.587329149246216 Norte Iquique\n",
      "tiempo que lleva corriendo 21.841690266132353 Min\n"
     ]
    },
    {
     "name": "stderr",
     "output_type": "stream",
     "text": [
      "INFO:fbprophet:Disabling daily seasonality. Run prophet with daily_seasonality=True to override this.\n"
     ]
    },
    {
     "name": "stdout",
     "output_type": "stream",
     "text": [
      "El producto demoró 3.3857078552246094 Norte Iquique\n",
      "tiempo que lleva corriendo 21.8981187303861 Min\n"
     ]
    },
    {
     "name": "stderr",
     "output_type": "stream",
     "text": [
      "INFO:fbprophet:Disabling daily seasonality. Run prophet with daily_seasonality=True to override this.\n"
     ]
    },
    {
     "name": "stdout",
     "output_type": "stream",
     "text": [
      "El producto demoró 4.268409013748169 Norte Iquique\n",
      "tiempo que lleva corriendo 21.969267201423644 Min\n"
     ]
    },
    {
     "name": "stderr",
     "output_type": "stream",
     "text": [
      "INFO:fbprophet:Disabling daily seasonality. Run prophet with daily_seasonality=True to override this.\n"
     ]
    },
    {
     "name": "stdout",
     "output_type": "stream",
     "text": [
      "El producto demoró 4.1722447872161865 Norte Iquique\n",
      "tiempo que lleva corriendo 22.03881292740504 Min\n"
     ]
    },
    {
     "name": "stderr",
     "output_type": "stream",
     "text": [
      "INFO:fbprophet:Disabling daily seasonality. Run prophet with daily_seasonality=True to override this.\n"
     ]
    },
    {
     "name": "stdout",
     "output_type": "stream",
     "text": [
      "El producto demoró 2.820277452468872 Norte Iquique\n",
      "tiempo que lleva corriendo 22.08583387931188 Min\n"
     ]
    },
    {
     "name": "stderr",
     "output_type": "stream",
     "text": [
      "INFO:fbprophet:Disabling daily seasonality. Run prophet with daily_seasonality=True to override this.\n"
     ]
    },
    {
     "name": "stdout",
     "output_type": "stream",
     "text": [
      "El producto demoró 2.9734556674957275 Norte Iquique\n",
      "tiempo que lleva corriendo 22.13540842135747 Min\n"
     ]
    },
    {
     "name": "stderr",
     "output_type": "stream",
     "text": [
      "INFO:fbprophet:Disabling daily seasonality. Run prophet with daily_seasonality=True to override this.\n"
     ]
    },
    {
     "name": "stdout",
     "output_type": "stream",
     "text": [
      "El producto demoró 3.1770949363708496 Norte Iquique\n",
      "tiempo que lleva corriendo 22.18836830854416 Min\n"
     ]
    },
    {
     "name": "stderr",
     "output_type": "stream",
     "text": [
      "INFO:fbprophet:Disabling daily seasonality. Run prophet with daily_seasonality=True to override this.\n"
     ]
    },
    {
     "name": "stdout",
     "output_type": "stream",
     "text": [
      "El producto demoró 4.134816646575928 Norte Iquique\n",
      "tiempo que lleva corriendo 22.257290240128835 Min\n"
     ]
    },
    {
     "name": "stderr",
     "output_type": "stream",
     "text": [
      "INFO:fbprophet:Disabling daily seasonality. Run prophet with daily_seasonality=True to override this.\n"
     ]
    },
    {
     "name": "stdout",
     "output_type": "stream",
     "text": [
      "El producto demoró 5.107506036758423 Norte Iquique\n",
      "tiempo que lleva corriendo 22.342415340741475 Min\n"
     ]
    },
    {
     "name": "stderr",
     "output_type": "stream",
     "text": [
      "INFO:fbprophet:Disabling daily seasonality. Run prophet with daily_seasonality=True to override this.\n"
     ]
    },
    {
     "name": "stdout",
     "output_type": "stream",
     "text": [
      "El producto demoró 3.813913106918335 Norte Iquique\n",
      "tiempo que lleva corriendo 22.40598887602488 Min\n"
     ]
    },
    {
     "name": "stderr",
     "output_type": "stream",
     "text": [
      "INFO:fbprophet:Disabling daily seasonality. Run prophet with daily_seasonality=True to override this.\n"
     ]
    },
    {
     "name": "stdout",
     "output_type": "stream",
     "text": [
      "El producto demoró 4.9932215213775635 Norte Iquique\n",
      "tiempo que lleva corriendo 22.489225888252257 Min\n"
     ]
    },
    {
     "name": "stderr",
     "output_type": "stream",
     "text": [
      "INFO:fbprophet:Disabling daily seasonality. Run prophet with daily_seasonality=True to override this.\n"
     ]
    },
    {
     "name": "stdout",
     "output_type": "stream",
     "text": [
      "El producto demoró 4.665825605392456 Norte Iquique\n",
      "tiempo que lleva corriendo 22.5669979651769 Min\n",
      "Copiapo\n"
     ]
    },
    {
     "name": "stderr",
     "output_type": "stream",
     "text": [
      "INFO:fbprophet:Disabling daily seasonality. Run prophet with daily_seasonality=True to override this.\n"
     ]
    },
    {
     "name": "stdout",
     "output_type": "stream",
     "text": [
      "El producto demoró 3.322326183319092 Norte Copiapo\n",
      "tiempo que lleva corriendo 22.622960646947224 Min\n"
     ]
    },
    {
     "name": "stderr",
     "output_type": "stream",
     "text": [
      "INFO:fbprophet:Disabling daily seasonality. Run prophet with daily_seasonality=True to override this.\n"
     ]
    },
    {
     "name": "stdout",
     "output_type": "stream",
     "text": [
      "El producto demoró 4.1452953815460205 Norte Copiapo\n",
      "tiempo que lleva corriendo 22.692057196299235 Min\n"
     ]
    },
    {
     "name": "stderr",
     "output_type": "stream",
     "text": [
      "INFO:fbprophet:Disabling daily seasonality. Run prophet with daily_seasonality=True to override this.\n"
     ]
    },
    {
     "name": "stdout",
     "output_type": "stream",
     "text": [
      "El producto demoró 3.4775397777557373 Norte Copiapo\n",
      "tiempo que lleva corriendo 22.75002450942993 Min\n"
     ]
    },
    {
     "name": "stderr",
     "output_type": "stream",
     "text": [
      "INFO:fbprophet:Disabling daily seasonality. Run prophet with daily_seasonality=True to override this.\n"
     ]
    },
    {
     "name": "stdout",
     "output_type": "stream",
     "text": [
      "El producto demoró 3.2933762073516846 Norte Copiapo\n",
      "tiempo que lleva corriendo 22.804914112885793 Min\n"
     ]
    },
    {
     "name": "stderr",
     "output_type": "stream",
     "text": [
      "INFO:fbprophet:Disabling daily seasonality. Run prophet with daily_seasonality=True to override this.\n"
     ]
    },
    {
     "name": "stdout",
     "output_type": "stream",
     "text": [
      "El producto demoró 3.1012370586395264 Norte Copiapo\n",
      "tiempo que lleva corriendo 22.856601397196453 Min\n"
     ]
    },
    {
     "name": "stderr",
     "output_type": "stream",
     "text": [
      "INFO:fbprophet:Disabling daily seasonality. Run prophet with daily_seasonality=True to override this.\n"
     ]
    },
    {
     "name": "stdout",
     "output_type": "stream",
     "text": [
      "El producto demoró 3.9686427116394043 Norte Copiapo\n",
      "tiempo que lleva corriendo 22.922753767172495 Min\n"
     ]
    },
    {
     "name": "stderr",
     "output_type": "stream",
     "text": [
      "INFO:fbprophet:Disabling daily seasonality. Run prophet with daily_seasonality=True to override this.\n"
     ]
    },
    {
     "name": "stdout",
     "output_type": "stream",
     "text": [
      "El producto demoró 3.3108279705047607 Norte Copiapo\n",
      "tiempo que lleva corriendo 22.977942554155984 Min\n"
     ]
    },
    {
     "name": "stderr",
     "output_type": "stream",
     "text": [
      "INFO:fbprophet:Disabling daily seasonality. Run prophet with daily_seasonality=True to override this.\n"
     ]
    },
    {
     "name": "stdout",
     "output_type": "stream",
     "text": [
      "El producto demoró 5.0351409912109375 Norte Copiapo\n",
      "tiempo que lleva corriendo 23.061886537075043 Min\n"
     ]
    },
    {
     "name": "stderr",
     "output_type": "stream",
     "text": [
      "INFO:fbprophet:Disabling daily seasonality. Run prophet with daily_seasonality=True to override this.\n"
     ]
    },
    {
     "name": "stdout",
     "output_type": "stream",
     "text": [
      "El producto demoró 5.216306447982788 Norte Copiapo\n",
      "tiempo que lleva corriendo 23.148824977874757 Min\n"
     ]
    },
    {
     "name": "stderr",
     "output_type": "stream",
     "text": [
      "INFO:fbprophet:Disabling daily seasonality. Run prophet with daily_seasonality=True to override this.\n"
     ]
    },
    {
     "name": "stdout",
     "output_type": "stream",
     "text": [
      "El producto demoró 3.896756172180176 Norte Copiapo\n",
      "tiempo que lleva corriendo 23.213779230912525 Min\n"
     ]
    },
    {
     "name": "stderr",
     "output_type": "stream",
     "text": [
      "INFO:fbprophet:Disabling daily seasonality. Run prophet with daily_seasonality=True to override this.\n"
     ]
    },
    {
     "name": "stdout",
     "output_type": "stream",
     "text": [
      "El producto demoró 4.684295654296875 Norte Copiapo\n",
      "tiempo que lleva corriendo 23.291867450873056 Min\n",
      "El producto demoró 4.865457534790039 Norte Copiapo\n",
      "tiempo que lleva corriendo 23.372958409786225 Min\n",
      "Venta Directa\n"
     ]
    },
    {
     "name": "stderr",
     "output_type": "stream",
     "text": [
      "INFO:fbprophet:Disabling daily seasonality. Run prophet with daily_seasonality=True to override this.\n"
     ]
    },
    {
     "name": "stdout",
     "output_type": "stream",
     "text": [
      "VD FoodService\n"
     ]
    },
    {
     "name": "stderr",
     "output_type": "stream",
     "text": [
      "INFO:fbprophet:Disabling daily seasonality. Run prophet with daily_seasonality=True to override this.\n"
     ]
    },
    {
     "name": "stdout",
     "output_type": "stream",
     "text": [
      "El producto demoró 3.617016553878784 Venta Directa VD FoodService\n",
      "tiempo que lleva corriendo 23.437384339173637 Min\n"
     ]
    },
    {
     "name": "stderr",
     "output_type": "stream",
     "text": [
      "INFO:fbprophet:Disabling daily seasonality. Run prophet with daily_seasonality=True to override this.\n"
     ]
    },
    {
     "name": "stdout",
     "output_type": "stream",
     "text": [
      "El producto demoró 3.104712724685669 Venta Directa VD FoodService\n",
      "tiempo que lleva corriendo 23.48912955125173 Min\n"
     ]
    },
    {
     "name": "stderr",
     "output_type": "stream",
     "text": [
      "INFO:fbprophet:Disabling daily seasonality. Run prophet with daily_seasonality=True to override this.\n"
     ]
    },
    {
     "name": "stdout",
     "output_type": "stream",
     "text": [
      "El producto demoró 4.9458088874816895 Venta Directa VD FoodService\n",
      "tiempo que lleva corriendo 23.571568020184834 Min\n",
      "El producto demoró 3.0198888778686523 Venta Directa VD FoodService\n",
      "tiempo que lleva corriendo 23.621899501482645 Min\n",
      "tiempo bloque completo 23.621907822291057 Min\n"
     ]
    }
   ],
   "source": [
    "df2 = pd.DataFrame(columns=['ds', 'yhat_lower', 'yhat_upper', 'yhat', 'Material','Oficina de Ventas Unifica', 'Zona de ventas.1'])\n",
    "\n",
    "Listado_de_zonas=data['Zona de ventas.1'].unique()\n",
    "\n",
    "start_time = time()\n",
    "\n",
    "\n",
    "\n",
    "for Z in Listado_de_zonas:\n",
    "#Z='Santiago'\n",
    "    print(Z)\n",
    "    dfz=Df_ubic(data,'Zona de ventas.1',Z)\n",
    "\n",
    "    Listado_de_Sucursales=dfz[dfz['Día natural'] \n",
    "                              >datetime.date(2021, 6, 2)][\n",
    "        'Oficina de Ventas Unifica'].unique()\n",
    "\n",
    "    for y in Listado_de_Sucursales:\n",
    "        #y='Huechuraba'\n",
    "        print(y)\n",
    "        dfy=Df_ubic(dfz,'Oficina de Ventas Unifica',y)\n",
    "\n",
    "\n",
    "        Listado_de_Materiales=dfy[dfy.Año==2021].Material.unique()\n",
    "\n",
    "        for m in Listado_de_Materiales:\n",
    "            #m=Listado_de_Materiales[0]\n",
    "            material_time=time()\n",
    "            #print(y,m)\n",
    "\n",
    "\n",
    "            dfm=Df_ubic(dfy,\n",
    "                        'Material',m).groupby('Día natural'\n",
    "                                                 ).sum().reset_index()[['Día natural',y_col]]\n",
    "\n",
    "            dfmPred=Predict_sem(dfm,7)[['ds', 'yhat_lower',\n",
    "                                        'yhat_upper', 'yhat']].tail(7)\n",
    "            \n",
    "            dfmPred['Material']=[m for i in range(dfmPred.shape[0])]\n",
    "            dfmPred['Oficina de Ventas Unifica']=[y for i in range(dfmPred.shape[0])]\n",
    "            dfmPred['Zona de ventas.1']=[Z for i in range(dfmPred.shape[0])]\n",
    "            dfmPred=dfmPred.reset_index()\n",
    "            dfmPred.pop('index')\n",
    "            df2=pd.concat([df2, dfmPred])\n",
    "            print('El producto demoró',(time() - material_time),Z,y)\n",
    "            print('tiempo que lleva corriendo',(time() - start_time)/60, 'Min')\n",
    "    \n",
    "print('tiempo bloque completo',(time() - start_time)/60, 'Min')\n"
   ]
  },
  {
   "cell_type": "code",
   "execution_count": 56,
   "id": "a33f0b26",
   "metadata": {
    "hidden": true
   },
   "outputs": [],
   "source": [
    "df2.rename(columns = {'ds': 'Día natural', 'yhat': 'Predicción central',\n",
    "                                'yhat_upper': 'Predicción Superior',\n",
    "                                'yhat_lower': 'Predicción Inferior'}, inplace = True)"
   ]
  },
  {
   "cell_type": "code",
   "execution_count": 57,
   "id": "36af732c",
   "metadata": {
    "hidden": true
   },
   "outputs": [
    {
     "data": {
      "text/html": [
       "<div>\n",
       "<style scoped>\n",
       "    .dataframe tbody tr th:only-of-type {\n",
       "        vertical-align: middle;\n",
       "    }\n",
       "\n",
       "    .dataframe tbody tr th {\n",
       "        vertical-align: top;\n",
       "    }\n",
       "\n",
       "    .dataframe thead th {\n",
       "        text-align: right;\n",
       "    }\n",
       "</style>\n",
       "<table border=\"1\" class=\"dataframe\">\n",
       "  <thead>\n",
       "    <tr style=\"text-align: right;\">\n",
       "      <th></th>\n",
       "      <th>Día natural</th>\n",
       "      <th>Predicción Inferior</th>\n",
       "      <th>Predicción Superior</th>\n",
       "      <th>Predicción central</th>\n",
       "      <th>Material</th>\n",
       "      <th>Oficina de Ventas Unifica</th>\n",
       "      <th>Zona de ventas.1</th>\n",
       "    </tr>\n",
       "  </thead>\n",
       "  <tbody>\n",
       "    <tr>\n",
       "      <th>0</th>\n",
       "      <td>2021-06-11</td>\n",
       "      <td>183.377089</td>\n",
       "      <td>1769.215431</td>\n",
       "      <td>976.697897</td>\n",
       "      <td>1020253</td>\n",
       "      <td>Huechuraba</td>\n",
       "      <td>Santiago</td>\n",
       "    </tr>\n",
       "    <tr>\n",
       "      <th>1</th>\n",
       "      <td>2021-06-12</td>\n",
       "      <td>-12.570751</td>\n",
       "      <td>1630.964275</td>\n",
       "      <td>822.759660</td>\n",
       "      <td>1020253</td>\n",
       "      <td>Huechuraba</td>\n",
       "      <td>Santiago</td>\n",
       "    </tr>\n",
       "    <tr>\n",
       "      <th>2</th>\n",
       "      <td>2021-06-13</td>\n",
       "      <td>-290.711673</td>\n",
       "      <td>1322.001024</td>\n",
       "      <td>554.914181</td>\n",
       "      <td>1020253</td>\n",
       "      <td>Huechuraba</td>\n",
       "      <td>Santiago</td>\n",
       "    </tr>\n",
       "    <tr>\n",
       "      <th>3</th>\n",
       "      <td>2021-06-14</td>\n",
       "      <td>-312.152042</td>\n",
       "      <td>1352.126470</td>\n",
       "      <td>468.135135</td>\n",
       "      <td>1020253</td>\n",
       "      <td>Huechuraba</td>\n",
       "      <td>Santiago</td>\n",
       "    </tr>\n",
       "    <tr>\n",
       "      <th>4</th>\n",
       "      <td>2021-06-15</td>\n",
       "      <td>-217.803911</td>\n",
       "      <td>1384.904159</td>\n",
       "      <td>624.849349</td>\n",
       "      <td>1020253</td>\n",
       "      <td>Huechuraba</td>\n",
       "      <td>Santiago</td>\n",
       "    </tr>\n",
       "  </tbody>\n",
       "</table>\n",
       "</div>"
      ],
      "text/plain": [
       "  Día natural  Predicción Inferior  Predicción Superior  Predicción central  \\\n",
       "0  2021-06-11           183.377089          1769.215431          976.697897   \n",
       "1  2021-06-12           -12.570751          1630.964275          822.759660   \n",
       "2  2021-06-13          -290.711673          1322.001024          554.914181   \n",
       "3  2021-06-14          -312.152042          1352.126470          468.135135   \n",
       "4  2021-06-15          -217.803911          1384.904159          624.849349   \n",
       "\n",
       "  Material Oficina de Ventas Unifica Zona de ventas.1  \n",
       "0  1020253                Huechuraba         Santiago  \n",
       "1  1020253                Huechuraba         Santiago  \n",
       "2  1020253                Huechuraba         Santiago  \n",
       "3  1020253                Huechuraba         Santiago  \n",
       "4  1020253                Huechuraba         Santiago  "
      ]
     },
     "execution_count": 57,
     "metadata": {},
     "output_type": "execute_result"
    }
   ],
   "source": [
    "df2.head()"
   ]
  },
  {
   "cell_type": "markdown",
   "id": "0def2a03",
   "metadata": {
    "hidden": true
   },
   "source": [
    "### CSV SAVE "
   ]
  },
  {
   "cell_type": "code",
   "execution_count": 58,
   "id": "1600c92f",
   "metadata": {
    "hidden": true
   },
   "outputs": [
    {
     "name": "stdout",
     "output_type": "stream",
     "text": [
      "2021-02-05\n",
      "2021-06-17\n"
     ]
    }
   ],
   "source": [
    "min_time=df2['Día natural'].min()\n",
    "min_time=str(min_time).split(' ')[0]\n",
    "print(min_time)\n",
    "max_time=df2['Día natural'].max()\n",
    "max_time=str(max_time).split(' ')[0]\n",
    "print(max_time)"
   ]
  },
  {
   "cell_type": "code",
   "execution_count": 59,
   "id": "9123f1dd",
   "metadata": {
    "hidden": true
   },
   "outputs": [],
   "source": [
    "df2.to_csv('Data '+min_time+' Predicción CL ' +max_time+ 'Zona, Sucursal.csv', index=False)\n"
   ]
  },
  {
   "cell_type": "markdown",
   "id": "12766862",
   "metadata": {
    "heading_collapsed": true,
    "hidden": true
   },
   "source": [
    "### Exploracion del error "
   ]
  },
  {
   "cell_type": "code",
   "execution_count": 28,
   "id": "29207a15",
   "metadata": {
    "hidden": true
   },
   "outputs": [
    {
     "data": {
      "text/plain": [
       "'Venta Directa'"
      ]
     },
     "execution_count": 28,
     "metadata": {},
     "output_type": "execute_result"
    }
   ],
   "source": [
    "Z"
   ]
  },
  {
   "cell_type": "code",
   "execution_count": 27,
   "id": "a62c6035",
   "metadata": {
    "hidden": true
   },
   "outputs": [
    {
     "data": {
      "text/plain": [
       "'VD FoodService'"
      ]
     },
     "execution_count": 27,
     "metadata": {},
     "output_type": "execute_result"
    }
   ],
   "source": [
    "y"
   ]
  },
  {
   "cell_type": "code",
   "execution_count": 26,
   "id": "80a62fe8",
   "metadata": {
    "hidden": true
   },
   "outputs": [
    {
     "data": {
      "text/plain": [
       "'1010048'"
      ]
     },
     "execution_count": 26,
     "metadata": {},
     "output_type": "execute_result"
    }
   ],
   "source": [
    "m"
   ]
  },
  {
   "cell_type": "code",
   "execution_count": 79,
   "id": "5b9780bf",
   "metadata": {
    "hidden": true
   },
   "outputs": [
    {
     "data": {
      "text/plain": [
       "array(['1020253', '1020027', '1020013', '1020010', '1020003', '1020001',\n",
       "       '1010695', '1010267', '1010078', '1010077', '1010048', '1010002'],\n",
       "      dtype=object)"
      ]
     },
     "execution_count": 79,
     "metadata": {},
     "output_type": "execute_result"
    }
   ],
   "source": [
    "dfy['Material'].unique()"
   ]
  },
  {
   "cell_type": "code",
   "execution_count": 78,
   "id": "1b040eea",
   "metadata": {
    "hidden": true
   },
   "outputs": [
    {
     "data": {
      "text/plain": [
       "array(['1020253', '1020027', '1020013', '1020010', '1020003', '1020001',\n",
       "       '1010695', '1010267', '1010078', '1010077', '1010048', '1010002'],\n",
       "      dtype=object)"
      ]
     },
     "execution_count": 78,
     "metadata": {},
     "output_type": "execute_result"
    }
   ],
   "source": [
    "dfy[dfy.Año==2021]['Material'].unique()"
   ]
  },
  {
   "cell_type": "code",
   "execution_count": 81,
   "id": "e74807c8",
   "metadata": {
    "hidden": true
   },
   "outputs": [
    {
     "data": {
      "text/html": [
       "<div>\n",
       "<style scoped>\n",
       "    .dataframe tbody tr th:only-of-type {\n",
       "        vertical-align: middle;\n",
       "    }\n",
       "\n",
       "    .dataframe tbody tr th {\n",
       "        vertical-align: top;\n",
       "    }\n",
       "\n",
       "    .dataframe thead th {\n",
       "        text-align: right;\n",
       "    }\n",
       "</style>\n",
       "<table border=\"1\" class=\"dataframe\">\n",
       "  <thead>\n",
       "    <tr style=\"text-align: right;\">\n",
       "      <th></th>\n",
       "      <th>Tipo de cliente</th>\n",
       "      <th>Zona de ventas</th>\n",
       "      <th>Zona de ventas.1</th>\n",
       "      <th>Oficina de Ventas Unifica</th>\n",
       "      <th>Oficina de Ventas Unifica.1</th>\n",
       "      <th>Mes</th>\n",
       "      <th>Año natural/Semana</th>\n",
       "      <th>Día natural</th>\n",
       "      <th>Día de la semana</th>\n",
       "      <th>Kilos Venta KG</th>\n",
       "      <th>Venta Neta</th>\n",
       "      <th>Precio Promedio</th>\n",
       "      <th>Unidad Venta</th>\n",
       "      <th>Unidad Precio</th>\n",
       "      <th>Semana</th>\n",
       "      <th>Año</th>\n",
       "    </tr>\n",
       "    <tr>\n",
       "      <th>Material</th>\n",
       "      <th></th>\n",
       "      <th></th>\n",
       "      <th></th>\n",
       "      <th></th>\n",
       "      <th></th>\n",
       "      <th></th>\n",
       "      <th></th>\n",
       "      <th></th>\n",
       "      <th></th>\n",
       "      <th></th>\n",
       "      <th></th>\n",
       "      <th></th>\n",
       "      <th></th>\n",
       "      <th></th>\n",
       "      <th></th>\n",
       "      <th></th>\n",
       "    </tr>\n",
       "  </thead>\n",
       "  <tbody>\n",
       "    <tr>\n",
       "      <th>1010002</th>\n",
       "      <td>211</td>\n",
       "      <td>211</td>\n",
       "      <td>211</td>\n",
       "      <td>211</td>\n",
       "      <td>211</td>\n",
       "      <td>211</td>\n",
       "      <td>211</td>\n",
       "      <td>211</td>\n",
       "      <td>211</td>\n",
       "      <td>211</td>\n",
       "      <td>211</td>\n",
       "      <td>211</td>\n",
       "      <td>211</td>\n",
       "      <td>211</td>\n",
       "      <td>211</td>\n",
       "      <td>211</td>\n",
       "    </tr>\n",
       "    <tr>\n",
       "      <th>1010048</th>\n",
       "      <td>273</td>\n",
       "      <td>273</td>\n",
       "      <td>273</td>\n",
       "      <td>273</td>\n",
       "      <td>273</td>\n",
       "      <td>273</td>\n",
       "      <td>273</td>\n",
       "      <td>273</td>\n",
       "      <td>273</td>\n",
       "      <td>273</td>\n",
       "      <td>273</td>\n",
       "      <td>273</td>\n",
       "      <td>273</td>\n",
       "      <td>273</td>\n",
       "      <td>273</td>\n",
       "      <td>273</td>\n",
       "    </tr>\n",
       "    <tr>\n",
       "      <th>1010077</th>\n",
       "      <td>104</td>\n",
       "      <td>104</td>\n",
       "      <td>104</td>\n",
       "      <td>104</td>\n",
       "      <td>104</td>\n",
       "      <td>104</td>\n",
       "      <td>104</td>\n",
       "      <td>104</td>\n",
       "      <td>104</td>\n",
       "      <td>104</td>\n",
       "      <td>104</td>\n",
       "      <td>104</td>\n",
       "      <td>104</td>\n",
       "      <td>104</td>\n",
       "      <td>104</td>\n",
       "      <td>104</td>\n",
       "    </tr>\n",
       "    <tr>\n",
       "      <th>1010078</th>\n",
       "      <td>314</td>\n",
       "      <td>314</td>\n",
       "      <td>314</td>\n",
       "      <td>314</td>\n",
       "      <td>314</td>\n",
       "      <td>314</td>\n",
       "      <td>314</td>\n",
       "      <td>314</td>\n",
       "      <td>314</td>\n",
       "      <td>314</td>\n",
       "      <td>314</td>\n",
       "      <td>314</td>\n",
       "      <td>314</td>\n",
       "      <td>314</td>\n",
       "      <td>314</td>\n",
       "      <td>314</td>\n",
       "    </tr>\n",
       "    <tr>\n",
       "      <th>1010267</th>\n",
       "      <td>310</td>\n",
       "      <td>310</td>\n",
       "      <td>310</td>\n",
       "      <td>310</td>\n",
       "      <td>310</td>\n",
       "      <td>310</td>\n",
       "      <td>310</td>\n",
       "      <td>310</td>\n",
       "      <td>310</td>\n",
       "      <td>310</td>\n",
       "      <td>310</td>\n",
       "      <td>310</td>\n",
       "      <td>310</td>\n",
       "      <td>310</td>\n",
       "      <td>310</td>\n",
       "      <td>310</td>\n",
       "    </tr>\n",
       "    <tr>\n",
       "      <th>1010695</th>\n",
       "      <td>14</td>\n",
       "      <td>14</td>\n",
       "      <td>14</td>\n",
       "      <td>14</td>\n",
       "      <td>14</td>\n",
       "      <td>14</td>\n",
       "      <td>14</td>\n",
       "      <td>14</td>\n",
       "      <td>14</td>\n",
       "      <td>14</td>\n",
       "      <td>14</td>\n",
       "      <td>14</td>\n",
       "      <td>14</td>\n",
       "      <td>14</td>\n",
       "      <td>14</td>\n",
       "      <td>14</td>\n",
       "    </tr>\n",
       "    <tr>\n",
       "      <th>1020001</th>\n",
       "      <td>117</td>\n",
       "      <td>117</td>\n",
       "      <td>117</td>\n",
       "      <td>117</td>\n",
       "      <td>117</td>\n",
       "      <td>117</td>\n",
       "      <td>117</td>\n",
       "      <td>117</td>\n",
       "      <td>117</td>\n",
       "      <td>117</td>\n",
       "      <td>117</td>\n",
       "      <td>117</td>\n",
       "      <td>117</td>\n",
       "      <td>117</td>\n",
       "      <td>117</td>\n",
       "      <td>117</td>\n",
       "    </tr>\n",
       "    <tr>\n",
       "      <th>1020003</th>\n",
       "      <td>68</td>\n",
       "      <td>68</td>\n",
       "      <td>68</td>\n",
       "      <td>68</td>\n",
       "      <td>68</td>\n",
       "      <td>68</td>\n",
       "      <td>68</td>\n",
       "      <td>68</td>\n",
       "      <td>68</td>\n",
       "      <td>68</td>\n",
       "      <td>68</td>\n",
       "      <td>68</td>\n",
       "      <td>68</td>\n",
       "      <td>68</td>\n",
       "      <td>68</td>\n",
       "      <td>68</td>\n",
       "    </tr>\n",
       "    <tr>\n",
       "      <th>1020010</th>\n",
       "      <td>197</td>\n",
       "      <td>197</td>\n",
       "      <td>197</td>\n",
       "      <td>197</td>\n",
       "      <td>197</td>\n",
       "      <td>197</td>\n",
       "      <td>197</td>\n",
       "      <td>197</td>\n",
       "      <td>197</td>\n",
       "      <td>197</td>\n",
       "      <td>197</td>\n",
       "      <td>197</td>\n",
       "      <td>197</td>\n",
       "      <td>197</td>\n",
       "      <td>197</td>\n",
       "      <td>197</td>\n",
       "    </tr>\n",
       "    <tr>\n",
       "      <th>1020013</th>\n",
       "      <td>194</td>\n",
       "      <td>194</td>\n",
       "      <td>194</td>\n",
       "      <td>194</td>\n",
       "      <td>194</td>\n",
       "      <td>194</td>\n",
       "      <td>194</td>\n",
       "      <td>194</td>\n",
       "      <td>194</td>\n",
       "      <td>194</td>\n",
       "      <td>194</td>\n",
       "      <td>194</td>\n",
       "      <td>194</td>\n",
       "      <td>194</td>\n",
       "      <td>194</td>\n",
       "      <td>194</td>\n",
       "    </tr>\n",
       "    <tr>\n",
       "      <th>1020027</th>\n",
       "      <td>172</td>\n",
       "      <td>172</td>\n",
       "      <td>172</td>\n",
       "      <td>172</td>\n",
       "      <td>172</td>\n",
       "      <td>172</td>\n",
       "      <td>172</td>\n",
       "      <td>172</td>\n",
       "      <td>172</td>\n",
       "      <td>172</td>\n",
       "      <td>172</td>\n",
       "      <td>172</td>\n",
       "      <td>172</td>\n",
       "      <td>172</td>\n",
       "      <td>172</td>\n",
       "      <td>172</td>\n",
       "    </tr>\n",
       "    <tr>\n",
       "      <th>1020253</th>\n",
       "      <td>87</td>\n",
       "      <td>87</td>\n",
       "      <td>87</td>\n",
       "      <td>87</td>\n",
       "      <td>87</td>\n",
       "      <td>87</td>\n",
       "      <td>87</td>\n",
       "      <td>87</td>\n",
       "      <td>87</td>\n",
       "      <td>87</td>\n",
       "      <td>87</td>\n",
       "      <td>87</td>\n",
       "      <td>87</td>\n",
       "      <td>87</td>\n",
       "      <td>87</td>\n",
       "      <td>87</td>\n",
       "    </tr>\n",
       "  </tbody>\n",
       "</table>\n",
       "</div>"
      ],
      "text/plain": [
       "          Tipo de cliente  Zona de ventas  Zona de ventas.1  \\\n",
       "Material                                                      \n",
       "1010002               211             211               211   \n",
       "1010048               273             273               273   \n",
       "1010077               104             104               104   \n",
       "1010078               314             314               314   \n",
       "1010267               310             310               310   \n",
       "1010695                14              14                14   \n",
       "1020001               117             117               117   \n",
       "1020003                68              68                68   \n",
       "1020010               197             197               197   \n",
       "1020013               194             194               194   \n",
       "1020027               172             172               172   \n",
       "1020253                87              87                87   \n",
       "\n",
       "          Oficina de Ventas Unifica  Oficina de Ventas Unifica.1  Mes  \\\n",
       "Material                                                                \n",
       "1010002                         211                          211  211   \n",
       "1010048                         273                          273  273   \n",
       "1010077                         104                          104  104   \n",
       "1010078                         314                          314  314   \n",
       "1010267                         310                          310  310   \n",
       "1010695                          14                           14   14   \n",
       "1020001                         117                          117  117   \n",
       "1020003                          68                           68   68   \n",
       "1020010                         197                          197  197   \n",
       "1020013                         194                          194  194   \n",
       "1020027                         172                          172  172   \n",
       "1020253                          87                           87   87   \n",
       "\n",
       "          Año natural/Semana  Día natural  Día de la semana  Kilos Venta KG  \\\n",
       "Material                                                                      \n",
       "1010002                  211          211               211             211   \n",
       "1010048                  273          273               273             273   \n",
       "1010077                  104          104               104             104   \n",
       "1010078                  314          314               314             314   \n",
       "1010267                  310          310               310             310   \n",
       "1010695                   14           14                14              14   \n",
       "1020001                  117          117               117             117   \n",
       "1020003                   68           68                68              68   \n",
       "1020010                  197          197               197             197   \n",
       "1020013                  194          194               194             194   \n",
       "1020027                  172          172               172             172   \n",
       "1020253                   87           87                87              87   \n",
       "\n",
       "          Venta Neta  Precio Promedio  Unidad Venta  Unidad Precio  Semana  \\\n",
       "Material                                                                     \n",
       "1010002          211              211           211            211     211   \n",
       "1010048          273              273           273            273     273   \n",
       "1010077          104              104           104            104     104   \n",
       "1010078          314              314           314            314     314   \n",
       "1010267          310              310           310            310     310   \n",
       "1010695           14               14            14             14      14   \n",
       "1020001          117              117           117            117     117   \n",
       "1020003           68               68            68             68      68   \n",
       "1020010          197              197           197            197     197   \n",
       "1020013          194              194           194            194     194   \n",
       "1020027          172              172           172            172     172   \n",
       "1020253           87               87            87             87      87   \n",
       "\n",
       "          Año  \n",
       "Material       \n",
       "1010002   211  \n",
       "1010048   273  \n",
       "1010077   104  \n",
       "1010078   314  \n",
       "1010267   310  \n",
       "1010695    14  \n",
       "1020001   117  \n",
       "1020003    68  \n",
       "1020010   197  \n",
       "1020013   194  \n",
       "1020027   172  \n",
       "1020253    87  "
      ]
     },
     "execution_count": 81,
     "metadata": {},
     "output_type": "execute_result"
    }
   ],
   "source": [
    "dfy[dfy.Año==2021].groupby('Material').count()"
   ]
  },
  {
   "cell_type": "code",
   "execution_count": 72,
   "id": "e34931ea",
   "metadata": {
    "collapsed": true,
    "hidden": true
   },
   "outputs": [
    {
     "data": {
      "text/html": [
       "<div>\n",
       "<style scoped>\n",
       "    .dataframe tbody tr th:only-of-type {\n",
       "        vertical-align: middle;\n",
       "    }\n",
       "\n",
       "    .dataframe tbody tr th {\n",
       "        vertical-align: top;\n",
       "    }\n",
       "\n",
       "    .dataframe thead th {\n",
       "        text-align: right;\n",
       "    }\n",
       "</style>\n",
       "<table border=\"1\" class=\"dataframe\">\n",
       "  <thead>\n",
       "    <tr style=\"text-align: right;\">\n",
       "      <th></th>\n",
       "      <th>Tipo de cliente</th>\n",
       "      <th>Zona de ventas</th>\n",
       "      <th>Zona de ventas.1</th>\n",
       "      <th>Oficina de Ventas Unifica</th>\n",
       "      <th>Oficina de Ventas Unifica.1</th>\n",
       "      <th>Mes</th>\n",
       "      <th>Año natural/Semana</th>\n",
       "      <th>Día natural</th>\n",
       "      <th>Día de la semana</th>\n",
       "      <th>Kilos Venta KG</th>\n",
       "      <th>Venta Neta</th>\n",
       "      <th>Precio Promedio</th>\n",
       "      <th>Unidad Venta</th>\n",
       "      <th>Unidad Precio</th>\n",
       "      <th>Semana</th>\n",
       "      <th>Año</th>\n",
       "    </tr>\n",
       "    <tr>\n",
       "      <th>Material</th>\n",
       "      <th></th>\n",
       "      <th></th>\n",
       "      <th></th>\n",
       "      <th></th>\n",
       "      <th></th>\n",
       "      <th></th>\n",
       "      <th></th>\n",
       "      <th></th>\n",
       "      <th></th>\n",
       "      <th></th>\n",
       "      <th></th>\n",
       "      <th></th>\n",
       "      <th></th>\n",
       "      <th></th>\n",
       "      <th></th>\n",
       "      <th></th>\n",
       "    </tr>\n",
       "  </thead>\n",
       "  <tbody>\n",
       "    <tr>\n",
       "      <th>1010002</th>\n",
       "      <td>1031</td>\n",
       "      <td>1031</td>\n",
       "      <td>1031</td>\n",
       "      <td>1031</td>\n",
       "      <td>1031</td>\n",
       "      <td>1031</td>\n",
       "      <td>1031</td>\n",
       "      <td>1031</td>\n",
       "      <td>1031</td>\n",
       "      <td>1031</td>\n",
       "      <td>1031</td>\n",
       "      <td>1031</td>\n",
       "      <td>1031</td>\n",
       "      <td>1031</td>\n",
       "      <td>1031</td>\n",
       "      <td>1031</td>\n",
       "    </tr>\n",
       "    <tr>\n",
       "      <th>1010048</th>\n",
       "      <td>1617</td>\n",
       "      <td>1617</td>\n",
       "      <td>1617</td>\n",
       "      <td>1617</td>\n",
       "      <td>1617</td>\n",
       "      <td>1617</td>\n",
       "      <td>1617</td>\n",
       "      <td>1617</td>\n",
       "      <td>1617</td>\n",
       "      <td>1617</td>\n",
       "      <td>1617</td>\n",
       "      <td>1617</td>\n",
       "      <td>1617</td>\n",
       "      <td>1617</td>\n",
       "      <td>1617</td>\n",
       "      <td>1617</td>\n",
       "    </tr>\n",
       "    <tr>\n",
       "      <th>1010077</th>\n",
       "      <td>648</td>\n",
       "      <td>648</td>\n",
       "      <td>648</td>\n",
       "      <td>648</td>\n",
       "      <td>648</td>\n",
       "      <td>648</td>\n",
       "      <td>648</td>\n",
       "      <td>648</td>\n",
       "      <td>648</td>\n",
       "      <td>648</td>\n",
       "      <td>648</td>\n",
       "      <td>648</td>\n",
       "      <td>648</td>\n",
       "      <td>648</td>\n",
       "      <td>648</td>\n",
       "      <td>648</td>\n",
       "    </tr>\n",
       "    <tr>\n",
       "      <th>1010078</th>\n",
       "      <td>1695</td>\n",
       "      <td>1695</td>\n",
       "      <td>1695</td>\n",
       "      <td>1695</td>\n",
       "      <td>1695</td>\n",
       "      <td>1695</td>\n",
       "      <td>1695</td>\n",
       "      <td>1695</td>\n",
       "      <td>1695</td>\n",
       "      <td>1695</td>\n",
       "      <td>1695</td>\n",
       "      <td>1695</td>\n",
       "      <td>1695</td>\n",
       "      <td>1695</td>\n",
       "      <td>1695</td>\n",
       "      <td>1695</td>\n",
       "    </tr>\n",
       "    <tr>\n",
       "      <th>1010267</th>\n",
       "      <td>1475</td>\n",
       "      <td>1475</td>\n",
       "      <td>1475</td>\n",
       "      <td>1475</td>\n",
       "      <td>1475</td>\n",
       "      <td>1475</td>\n",
       "      <td>1475</td>\n",
       "      <td>1475</td>\n",
       "      <td>1475</td>\n",
       "      <td>1475</td>\n",
       "      <td>1475</td>\n",
       "      <td>1475</td>\n",
       "      <td>1475</td>\n",
       "      <td>1475</td>\n",
       "      <td>1475</td>\n",
       "      <td>1475</td>\n",
       "    </tr>\n",
       "    <tr>\n",
       "      <th>1010695</th>\n",
       "      <td>359</td>\n",
       "      <td>359</td>\n",
       "      <td>359</td>\n",
       "      <td>359</td>\n",
       "      <td>359</td>\n",
       "      <td>359</td>\n",
       "      <td>359</td>\n",
       "      <td>359</td>\n",
       "      <td>359</td>\n",
       "      <td>359</td>\n",
       "      <td>359</td>\n",
       "      <td>359</td>\n",
       "      <td>359</td>\n",
       "      <td>359</td>\n",
       "      <td>359</td>\n",
       "      <td>359</td>\n",
       "    </tr>\n",
       "    <tr>\n",
       "      <th>1020001</th>\n",
       "      <td>707</td>\n",
       "      <td>707</td>\n",
       "      <td>707</td>\n",
       "      <td>707</td>\n",
       "      <td>707</td>\n",
       "      <td>707</td>\n",
       "      <td>707</td>\n",
       "      <td>707</td>\n",
       "      <td>707</td>\n",
       "      <td>707</td>\n",
       "      <td>707</td>\n",
       "      <td>707</td>\n",
       "      <td>707</td>\n",
       "      <td>707</td>\n",
       "      <td>707</td>\n",
       "      <td>707</td>\n",
       "    </tr>\n",
       "    <tr>\n",
       "      <th>1020003</th>\n",
       "      <td>450</td>\n",
       "      <td>450</td>\n",
       "      <td>450</td>\n",
       "      <td>450</td>\n",
       "      <td>450</td>\n",
       "      <td>450</td>\n",
       "      <td>450</td>\n",
       "      <td>450</td>\n",
       "      <td>450</td>\n",
       "      <td>450</td>\n",
       "      <td>450</td>\n",
       "      <td>450</td>\n",
       "      <td>450</td>\n",
       "      <td>450</td>\n",
       "      <td>450</td>\n",
       "      <td>450</td>\n",
       "    </tr>\n",
       "    <tr>\n",
       "      <th>1020010</th>\n",
       "      <td>984</td>\n",
       "      <td>984</td>\n",
       "      <td>984</td>\n",
       "      <td>984</td>\n",
       "      <td>984</td>\n",
       "      <td>984</td>\n",
       "      <td>984</td>\n",
       "      <td>984</td>\n",
       "      <td>984</td>\n",
       "      <td>984</td>\n",
       "      <td>984</td>\n",
       "      <td>984</td>\n",
       "      <td>984</td>\n",
       "      <td>984</td>\n",
       "      <td>984</td>\n",
       "      <td>984</td>\n",
       "    </tr>\n",
       "    <tr>\n",
       "      <th>1020013</th>\n",
       "      <td>1127</td>\n",
       "      <td>1127</td>\n",
       "      <td>1127</td>\n",
       "      <td>1127</td>\n",
       "      <td>1127</td>\n",
       "      <td>1127</td>\n",
       "      <td>1127</td>\n",
       "      <td>1127</td>\n",
       "      <td>1127</td>\n",
       "      <td>1127</td>\n",
       "      <td>1127</td>\n",
       "      <td>1127</td>\n",
       "      <td>1127</td>\n",
       "      <td>1127</td>\n",
       "      <td>1127</td>\n",
       "      <td>1127</td>\n",
       "    </tr>\n",
       "    <tr>\n",
       "      <th>1020027</th>\n",
       "      <td>931</td>\n",
       "      <td>931</td>\n",
       "      <td>931</td>\n",
       "      <td>931</td>\n",
       "      <td>931</td>\n",
       "      <td>931</td>\n",
       "      <td>931</td>\n",
       "      <td>931</td>\n",
       "      <td>931</td>\n",
       "      <td>931</td>\n",
       "      <td>931</td>\n",
       "      <td>931</td>\n",
       "      <td>931</td>\n",
       "      <td>931</td>\n",
       "      <td>931</td>\n",
       "      <td>931</td>\n",
       "    </tr>\n",
       "    <tr>\n",
       "      <th>1020253</th>\n",
       "      <td>351</td>\n",
       "      <td>351</td>\n",
       "      <td>351</td>\n",
       "      <td>351</td>\n",
       "      <td>351</td>\n",
       "      <td>351</td>\n",
       "      <td>351</td>\n",
       "      <td>351</td>\n",
       "      <td>351</td>\n",
       "      <td>351</td>\n",
       "      <td>351</td>\n",
       "      <td>351</td>\n",
       "      <td>351</td>\n",
       "      <td>351</td>\n",
       "      <td>351</td>\n",
       "      <td>351</td>\n",
       "    </tr>\n",
       "  </tbody>\n",
       "</table>\n",
       "</div>"
      ],
      "text/plain": [
       "          Tipo de cliente  Zona de ventas  Zona de ventas.1  \\\n",
       "Material                                                      \n",
       "1010002              1031            1031              1031   \n",
       "1010048              1617            1617              1617   \n",
       "1010077               648             648               648   \n",
       "1010078              1695            1695              1695   \n",
       "1010267              1475            1475              1475   \n",
       "1010695               359             359               359   \n",
       "1020001               707             707               707   \n",
       "1020003               450             450               450   \n",
       "1020010               984             984               984   \n",
       "1020013              1127            1127              1127   \n",
       "1020027               931             931               931   \n",
       "1020253               351             351               351   \n",
       "\n",
       "          Oficina de Ventas Unifica  Oficina de Ventas Unifica.1   Mes  \\\n",
       "Material                                                                 \n",
       "1010002                        1031                         1031  1031   \n",
       "1010048                        1617                         1617  1617   \n",
       "1010077                         648                          648   648   \n",
       "1010078                        1695                         1695  1695   \n",
       "1010267                        1475                         1475  1475   \n",
       "1010695                         359                          359   359   \n",
       "1020001                         707                          707   707   \n",
       "1020003                         450                          450   450   \n",
       "1020010                         984                          984   984   \n",
       "1020013                        1127                         1127  1127   \n",
       "1020027                         931                          931   931   \n",
       "1020253                         351                          351   351   \n",
       "\n",
       "          Año natural/Semana  Día natural  Día de la semana  Kilos Venta KG  \\\n",
       "Material                                                                      \n",
       "1010002                 1031         1031              1031            1031   \n",
       "1010048                 1617         1617              1617            1617   \n",
       "1010077                  648          648               648             648   \n",
       "1010078                 1695         1695              1695            1695   \n",
       "1010267                 1475         1475              1475            1475   \n",
       "1010695                  359          359               359             359   \n",
       "1020001                  707          707               707             707   \n",
       "1020003                  450          450               450             450   \n",
       "1020010                  984          984               984             984   \n",
       "1020013                 1127         1127              1127            1127   \n",
       "1020027                  931          931               931             931   \n",
       "1020253                  351          351               351             351   \n",
       "\n",
       "          Venta Neta  Precio Promedio  Unidad Venta  Unidad Precio  Semana  \\\n",
       "Material                                                                     \n",
       "1010002         1031             1031          1031           1031    1031   \n",
       "1010048         1617             1617          1617           1617    1617   \n",
       "1010077          648              648           648            648     648   \n",
       "1010078         1695             1695          1695           1695    1695   \n",
       "1010267         1475             1475          1475           1475    1475   \n",
       "1010695          359              359           359            359     359   \n",
       "1020001          707              707           707            707     707   \n",
       "1020003          450              450           450            450     450   \n",
       "1020010          984              984           984            984     984   \n",
       "1020013         1127             1127          1127           1127    1127   \n",
       "1020027          931              931           931            931     931   \n",
       "1020253          351              351           351            351     351   \n",
       "\n",
       "           Año  \n",
       "Material        \n",
       "1010002   1031  \n",
       "1010048   1617  \n",
       "1010077    648  \n",
       "1010078   1695  \n",
       "1010267   1475  \n",
       "1010695    359  \n",
       "1020001    707  \n",
       "1020003    450  \n",
       "1020010    984  \n",
       "1020013   1127  \n",
       "1020027    931  \n",
       "1020253    351  "
      ]
     },
     "execution_count": 72,
     "metadata": {},
     "output_type": "execute_result"
    }
   ],
   "source": [
    "dfy.groupby('Material').count()"
   ]
  },
  {
   "cell_type": "code",
   "execution_count": 83,
   "id": "6ec36613",
   "metadata": {
    "hidden": true
   },
   "outputs": [],
   "source": [
    "dfy_21=dfy[dfy.Año==2021]"
   ]
  },
  {
   "cell_type": "code",
   "execution_count": 85,
   "id": "fc032579",
   "metadata": {
    "hidden": true,
    "scrolled": false
   },
   "outputs": [
    {
     "data": {
      "text/html": [
       "<div>\n",
       "<style scoped>\n",
       "    .dataframe tbody tr th:only-of-type {\n",
       "        vertical-align: middle;\n",
       "    }\n",
       "\n",
       "    .dataframe tbody tr th {\n",
       "        vertical-align: top;\n",
       "    }\n",
       "\n",
       "    .dataframe thead th {\n",
       "        text-align: right;\n",
       "    }\n",
       "</style>\n",
       "<table border=\"1\" class=\"dataframe\">\n",
       "  <thead>\n",
       "    <tr style=\"text-align: right;\">\n",
       "      <th></th>\n",
       "      <th>Material</th>\n",
       "      <th>Tipo de cliente</th>\n",
       "      <th>Zona de ventas</th>\n",
       "      <th>Zona de ventas.1</th>\n",
       "      <th>Oficina de Ventas Unifica</th>\n",
       "      <th>Oficina de Ventas Unifica.1</th>\n",
       "      <th>Mes</th>\n",
       "      <th>Año natural/Semana</th>\n",
       "      <th>Día natural</th>\n",
       "      <th>Día de la semana</th>\n",
       "      <th>Kilos Venta KG</th>\n",
       "      <th>Venta Neta</th>\n",
       "      <th>Precio Promedio</th>\n",
       "      <th>Unidad Venta</th>\n",
       "      <th>Unidad Precio</th>\n",
       "      <th>Semana</th>\n",
       "      <th>Año</th>\n",
       "    </tr>\n",
       "  </thead>\n",
       "  <tbody>\n",
       "    <tr>\n",
       "      <th>220172</th>\n",
       "      <td>1010695</td>\n",
       "      <td>Tradicional</td>\n",
       "      <td>Z005</td>\n",
       "      <td>Norte</td>\n",
       "      <td>Arica</td>\n",
       "      <td>T161</td>\n",
       "      <td>1</td>\n",
       "      <td>02.2021</td>\n",
       "      <td>2021-01-14</td>\n",
       "      <td>JU</td>\n",
       "      <td>21.0</td>\n",
       "      <td>21260.0</td>\n",
       "      <td>1000.0</td>\n",
       "      <td>CLP</td>\n",
       "      <td>CLP</td>\n",
       "      <td>2</td>\n",
       "      <td>2021</td>\n",
       "    </tr>\n",
       "    <tr>\n",
       "      <th>220212</th>\n",
       "      <td>1010695</td>\n",
       "      <td>Tradicional</td>\n",
       "      <td>Z005</td>\n",
       "      <td>Norte</td>\n",
       "      <td>Arica</td>\n",
       "      <td>T161</td>\n",
       "      <td>3</td>\n",
       "      <td>11.2021</td>\n",
       "      <td>2021-03-20</td>\n",
       "      <td>SA</td>\n",
       "      <td>22.0</td>\n",
       "      <td>23865.0</td>\n",
       "      <td>1110.0</td>\n",
       "      <td>CLP</td>\n",
       "      <td>CLP</td>\n",
       "      <td>11</td>\n",
       "      <td>2021</td>\n",
       "    </tr>\n",
       "    <tr>\n",
       "      <th>220235</th>\n",
       "      <td>1010695</td>\n",
       "      <td>Tradicional</td>\n",
       "      <td>Z005</td>\n",
       "      <td>Norte</td>\n",
       "      <td>Arica</td>\n",
       "      <td>T161</td>\n",
       "      <td>4</td>\n",
       "      <td>15.2021</td>\n",
       "      <td>2021-04-13</td>\n",
       "      <td>MA</td>\n",
       "      <td>107.0</td>\n",
       "      <td>97474.0</td>\n",
       "      <td>912.0</td>\n",
       "      <td>CLP</td>\n",
       "      <td>CLP</td>\n",
       "      <td>15</td>\n",
       "      <td>2021</td>\n",
       "    </tr>\n",
       "    <tr>\n",
       "      <th>220251</th>\n",
       "      <td>1010695</td>\n",
       "      <td>Tradicional</td>\n",
       "      <td>Z005</td>\n",
       "      <td>Norte</td>\n",
       "      <td>Arica</td>\n",
       "      <td>T161</td>\n",
       "      <td>5</td>\n",
       "      <td>18.2021</td>\n",
       "      <td>2021-05-07</td>\n",
       "      <td>VI</td>\n",
       "      <td>108.0</td>\n",
       "      <td>102772.0</td>\n",
       "      <td>950.0</td>\n",
       "      <td>CLP</td>\n",
       "      <td>CLP</td>\n",
       "      <td>18</td>\n",
       "      <td>2021</td>\n",
       "    </tr>\n",
       "    <tr>\n",
       "      <th>220252</th>\n",
       "      <td>1010695</td>\n",
       "      <td>Tradicional</td>\n",
       "      <td>Z005</td>\n",
       "      <td>Norte</td>\n",
       "      <td>Arica</td>\n",
       "      <td>T161</td>\n",
       "      <td>5</td>\n",
       "      <td>18.2021</td>\n",
       "      <td>2021-05-08</td>\n",
       "      <td>SA</td>\n",
       "      <td>65.0</td>\n",
       "      <td>61674.0</td>\n",
       "      <td>950.0</td>\n",
       "      <td>CLP</td>\n",
       "      <td>CLP</td>\n",
       "      <td>18</td>\n",
       "      <td>2021</td>\n",
       "    </tr>\n",
       "    <tr>\n",
       "      <th>220253</th>\n",
       "      <td>1010695</td>\n",
       "      <td>Tradicional</td>\n",
       "      <td>Z005</td>\n",
       "      <td>Norte</td>\n",
       "      <td>Arica</td>\n",
       "      <td>T161</td>\n",
       "      <td>5</td>\n",
       "      <td>19.2021</td>\n",
       "      <td>2021-05-10</td>\n",
       "      <td>LU</td>\n",
       "      <td>42.0</td>\n",
       "      <td>40280.0</td>\n",
       "      <td>950.0</td>\n",
       "      <td>CLP</td>\n",
       "      <td>CLP</td>\n",
       "      <td>19</td>\n",
       "      <td>2021</td>\n",
       "    </tr>\n",
       "    <tr>\n",
       "      <th>220254</th>\n",
       "      <td>1010695</td>\n",
       "      <td>Tradicional</td>\n",
       "      <td>Z005</td>\n",
       "      <td>Norte</td>\n",
       "      <td>Arica</td>\n",
       "      <td>T161</td>\n",
       "      <td>5</td>\n",
       "      <td>19.2021</td>\n",
       "      <td>2021-05-11</td>\n",
       "      <td>MA</td>\n",
       "      <td>195.0</td>\n",
       "      <td>158591.0</td>\n",
       "      <td>815.0</td>\n",
       "      <td>CLP</td>\n",
       "      <td>CLP</td>\n",
       "      <td>19</td>\n",
       "      <td>2021</td>\n",
       "    </tr>\n",
       "    <tr>\n",
       "      <th>220255</th>\n",
       "      <td>1010695</td>\n",
       "      <td>Tradicional</td>\n",
       "      <td>Z005</td>\n",
       "      <td>Norte</td>\n",
       "      <td>Arica</td>\n",
       "      <td>T161</td>\n",
       "      <td>5</td>\n",
       "      <td>19.2021</td>\n",
       "      <td>2021-05-12</td>\n",
       "      <td>MI</td>\n",
       "      <td>22.0</td>\n",
       "      <td>23294.0</td>\n",
       "      <td>1055.0</td>\n",
       "      <td>CLP</td>\n",
       "      <td>CLP</td>\n",
       "      <td>19</td>\n",
       "      <td>2021</td>\n",
       "    </tr>\n",
       "    <tr>\n",
       "      <th>220256</th>\n",
       "      <td>1010695</td>\n",
       "      <td>Tradicional</td>\n",
       "      <td>Z005</td>\n",
       "      <td>Norte</td>\n",
       "      <td>Arica</td>\n",
       "      <td>T161</td>\n",
       "      <td>5</td>\n",
       "      <td>20.2021</td>\n",
       "      <td>2021-05-20</td>\n",
       "      <td>JU</td>\n",
       "      <td>106.0</td>\n",
       "      <td>102184.0</td>\n",
       "      <td>960.0</td>\n",
       "      <td>CLP</td>\n",
       "      <td>CLP</td>\n",
       "      <td>20</td>\n",
       "      <td>2021</td>\n",
       "    </tr>\n",
       "    <tr>\n",
       "      <th>220257</th>\n",
       "      <td>1010695</td>\n",
       "      <td>Tradicional</td>\n",
       "      <td>Z005</td>\n",
       "      <td>Norte</td>\n",
       "      <td>Arica</td>\n",
       "      <td>T161</td>\n",
       "      <td>5</td>\n",
       "      <td>21.2021</td>\n",
       "      <td>2021-05-26</td>\n",
       "      <td>MI</td>\n",
       "      <td>109.0</td>\n",
       "      <td>124844.0</td>\n",
       "      <td>1150.0</td>\n",
       "      <td>CLP</td>\n",
       "      <td>CLP</td>\n",
       "      <td>21</td>\n",
       "      <td>2021</td>\n",
       "    </tr>\n",
       "    <tr>\n",
       "      <th>220276</th>\n",
       "      <td>1010695</td>\n",
       "      <td>Tradicional</td>\n",
       "      <td>Z005</td>\n",
       "      <td>Norte</td>\n",
       "      <td>Arica</td>\n",
       "      <td>T161</td>\n",
       "      <td>6</td>\n",
       "      <td>22.2021</td>\n",
       "      <td>2021-06-03</td>\n",
       "      <td>JU</td>\n",
       "      <td>171.0</td>\n",
       "      <td>163182.0</td>\n",
       "      <td>957.0</td>\n",
       "      <td>CLP</td>\n",
       "      <td>CLP</td>\n",
       "      <td>22</td>\n",
       "      <td>2021</td>\n",
       "    </tr>\n",
       "    <tr>\n",
       "      <th>225723</th>\n",
       "      <td>1010695</td>\n",
       "      <td>Grandes Clientes</td>\n",
       "      <td>Z005</td>\n",
       "      <td>Norte</td>\n",
       "      <td>Arica</td>\n",
       "      <td>T161</td>\n",
       "      <td>1</td>\n",
       "      <td>02.2021</td>\n",
       "      <td>2021-01-12</td>\n",
       "      <td>MA</td>\n",
       "      <td>85.0</td>\n",
       "      <td>81102.0</td>\n",
       "      <td>950.0</td>\n",
       "      <td>CLP</td>\n",
       "      <td>CLP</td>\n",
       "      <td>2</td>\n",
       "      <td>2021</td>\n",
       "    </tr>\n",
       "    <tr>\n",
       "      <th>225754</th>\n",
       "      <td>1010695</td>\n",
       "      <td>Grandes Clientes</td>\n",
       "      <td>Z005</td>\n",
       "      <td>Norte</td>\n",
       "      <td>Arica</td>\n",
       "      <td>T161</td>\n",
       "      <td>4</td>\n",
       "      <td>15.2021</td>\n",
       "      <td>2021-04-12</td>\n",
       "      <td>LU</td>\n",
       "      <td>107.0</td>\n",
       "      <td>106920.0</td>\n",
       "      <td>1000.0</td>\n",
       "      <td>CLP</td>\n",
       "      <td>CLP</td>\n",
       "      <td>15</td>\n",
       "      <td>2021</td>\n",
       "    </tr>\n",
       "    <tr>\n",
       "      <th>236406</th>\n",
       "      <td>1010695</td>\n",
       "      <td>Foodservice</td>\n",
       "      <td>Z005</td>\n",
       "      <td>Norte</td>\n",
       "      <td>Arica</td>\n",
       "      <td>T161</td>\n",
       "      <td>6</td>\n",
       "      <td>22.2021</td>\n",
       "      <td>2021-06-01</td>\n",
       "      <td>MA</td>\n",
       "      <td>42.0</td>\n",
       "      <td>46543.0</td>\n",
       "      <td>1099.0</td>\n",
       "      <td>CLP</td>\n",
       "      <td>CLP</td>\n",
       "      <td>22</td>\n",
       "      <td>2021</td>\n",
       "    </tr>\n",
       "  </tbody>\n",
       "</table>\n",
       "</div>"
      ],
      "text/plain": [
       "       Material   Tipo de cliente Zona de ventas Zona de ventas.1  \\\n",
       "220172  1010695       Tradicional           Z005            Norte   \n",
       "220212  1010695       Tradicional           Z005            Norte   \n",
       "220235  1010695       Tradicional           Z005            Norte   \n",
       "220251  1010695       Tradicional           Z005            Norte   \n",
       "220252  1010695       Tradicional           Z005            Norte   \n",
       "220253  1010695       Tradicional           Z005            Norte   \n",
       "220254  1010695       Tradicional           Z005            Norte   \n",
       "220255  1010695       Tradicional           Z005            Norte   \n",
       "220256  1010695       Tradicional           Z005            Norte   \n",
       "220257  1010695       Tradicional           Z005            Norte   \n",
       "220276  1010695       Tradicional           Z005            Norte   \n",
       "225723  1010695  Grandes Clientes           Z005            Norte   \n",
       "225754  1010695  Grandes Clientes           Z005            Norte   \n",
       "236406  1010695       Foodservice           Z005            Norte   \n",
       "\n",
       "       Oficina de Ventas Unifica Oficina de Ventas Unifica.1 Mes  \\\n",
       "220172                     Arica                        T161   1   \n",
       "220212                     Arica                        T161   3   \n",
       "220235                     Arica                        T161   4   \n",
       "220251                     Arica                        T161   5   \n",
       "220252                     Arica                        T161   5   \n",
       "220253                     Arica                        T161   5   \n",
       "220254                     Arica                        T161   5   \n",
       "220255                     Arica                        T161   5   \n",
       "220256                     Arica                        T161   5   \n",
       "220257                     Arica                        T161   5   \n",
       "220276                     Arica                        T161   6   \n",
       "225723                     Arica                        T161   1   \n",
       "225754                     Arica                        T161   4   \n",
       "236406                     Arica                        T161   6   \n",
       "\n",
       "       Año natural/Semana Día natural Día de la semana  Kilos Venta KG  \\\n",
       "220172            02.2021  2021-01-14               JU            21.0   \n",
       "220212            11.2021  2021-03-20               SA            22.0   \n",
       "220235            15.2021  2021-04-13               MA           107.0   \n",
       "220251            18.2021  2021-05-07               VI           108.0   \n",
       "220252            18.2021  2021-05-08               SA            65.0   \n",
       "220253            19.2021  2021-05-10               LU            42.0   \n",
       "220254            19.2021  2021-05-11               MA           195.0   \n",
       "220255            19.2021  2021-05-12               MI            22.0   \n",
       "220256            20.2021  2021-05-20               JU           106.0   \n",
       "220257            21.2021  2021-05-26               MI           109.0   \n",
       "220276            22.2021  2021-06-03               JU           171.0   \n",
       "225723            02.2021  2021-01-12               MA            85.0   \n",
       "225754            15.2021  2021-04-12               LU           107.0   \n",
       "236406            22.2021  2021-06-01               MA            42.0   \n",
       "\n",
       "        Venta Neta  Precio Promedio Unidad Venta Unidad Precio  Semana   Año  \n",
       "220172     21260.0           1000.0          CLP           CLP       2  2021  \n",
       "220212     23865.0           1110.0          CLP           CLP      11  2021  \n",
       "220235     97474.0            912.0          CLP           CLP      15  2021  \n",
       "220251    102772.0            950.0          CLP           CLP      18  2021  \n",
       "220252     61674.0            950.0          CLP           CLP      18  2021  \n",
       "220253     40280.0            950.0          CLP           CLP      19  2021  \n",
       "220254    158591.0            815.0          CLP           CLP      19  2021  \n",
       "220255     23294.0           1055.0          CLP           CLP      19  2021  \n",
       "220256    102184.0            960.0          CLP           CLP      20  2021  \n",
       "220257    124844.0           1150.0          CLP           CLP      21  2021  \n",
       "220276    163182.0            957.0          CLP           CLP      22  2021  \n",
       "225723     81102.0            950.0          CLP           CLP       2  2021  \n",
       "225754    106920.0           1000.0          CLP           CLP      15  2021  \n",
       "236406     46543.0           1099.0          CLP           CLP      22  2021  "
      ]
     },
     "execution_count": 85,
     "metadata": {},
     "output_type": "execute_result"
    }
   ],
   "source": [
    "dfy_21[dfy_21.Material=='1010695']"
   ]
  },
  {
   "cell_type": "code",
   "execution_count": 29,
   "id": "35632b89",
   "metadata": {
    "hidden": true,
    "scrolled": true
   },
   "outputs": [
    {
     "data": {
      "text/plain": [
       "297755.666"
      ]
     },
     "execution_count": 29,
     "metadata": {},
     "output_type": "execute_result"
    }
   ],
   "source": [
    "429.91*692.60"
   ]
  },
  {
   "cell_type": "markdown",
   "id": "a22097d8",
   "metadata": {
    "hidden": true
   },
   "source": [
    "## Iteración Zona"
   ]
  },
  {
   "cell_type": "code",
   "execution_count": 63,
   "id": "70567c70",
   "metadata": {
    "hidden": true,
    "scrolled": true
   },
   "outputs": [
    {
     "name": "stdout",
     "output_type": "stream",
     "text": [
      "Santiago\n"
     ]
    },
    {
     "name": "stderr",
     "output_type": "stream",
     "text": [
      "INFO:fbprophet:Disabling daily seasonality. Run prophet with daily_seasonality=True to override this.\n",
      "INFO:fbprophet:Disabling daily seasonality. Run prophet with daily_seasonality=True to override this.\n"
     ]
    },
    {
     "name": "stdout",
     "output_type": "stream",
     "text": [
      "El producto demoró 4.028493404388428 Santiago\n",
      "tiempo que lleva corriendo 0.07142553329467774 Min\n"
     ]
    },
    {
     "name": "stderr",
     "output_type": "stream",
     "text": [
      "INFO:fbprophet:Disabling daily seasonality. Run prophet with daily_seasonality=True to override this.\n"
     ]
    },
    {
     "name": "stdout",
     "output_type": "stream",
     "text": [
      "El producto demoró 4.034005165100098 Santiago\n",
      "tiempo que lleva corriendo 0.1386589527130127 Min\n"
     ]
    },
    {
     "name": "stderr",
     "output_type": "stream",
     "text": [
      "INFO:fbprophet:Disabling daily seasonality. Run prophet with daily_seasonality=True to override this.\n"
     ]
    },
    {
     "name": "stdout",
     "output_type": "stream",
     "text": [
      "El producto demoró 4.549545526504517 Santiago\n",
      "tiempo que lleva corriendo 0.2144930362701416 Min\n"
     ]
    },
    {
     "name": "stderr",
     "output_type": "stream",
     "text": [
      "INFO:fbprophet:Disabling daily seasonality. Run prophet with daily_seasonality=True to override this.\n"
     ]
    },
    {
     "name": "stdout",
     "output_type": "stream",
     "text": [
      "El producto demoró 3.9965713024139404 Santiago\n",
      "tiempo que lleva corriendo 0.2811025579770406 Min\n"
     ]
    },
    {
     "name": "stderr",
     "output_type": "stream",
     "text": [
      "INFO:fbprophet:Disabling daily seasonality. Run prophet with daily_seasonality=True to override this.\n"
     ]
    },
    {
     "name": "stdout",
     "output_type": "stream",
     "text": [
      "El producto demoró 4.53456974029541 Santiago\n",
      "tiempo que lleva corriendo 0.35669536193211876 Min\n"
     ]
    },
    {
     "name": "stderr",
     "output_type": "stream",
     "text": [
      "INFO:fbprophet:Disabling daily seasonality. Run prophet with daily_seasonality=True to override this.\n"
     ]
    },
    {
     "name": "stdout",
     "output_type": "stream",
     "text": [
      "El producto demoró 7.5514655113220215 Santiago\n",
      "tiempo que lleva corriendo 0.4825614293416341 Min\n"
     ]
    },
    {
     "name": "stderr",
     "output_type": "stream",
     "text": [
      "INFO:fbprophet:Disabling daily seasonality. Run prophet with daily_seasonality=True to override this.\n"
     ]
    },
    {
     "name": "stdout",
     "output_type": "stream",
     "text": [
      "El producto demoró 3.862823486328125 Santiago\n",
      "tiempo que lleva corriendo 0.5469418207804362 Min\n"
     ]
    },
    {
     "name": "stderr",
     "output_type": "stream",
     "text": [
      "INFO:fbprophet:Disabling daily seasonality. Run prophet with daily_seasonality=True to override this.\n"
     ]
    },
    {
     "name": "stdout",
     "output_type": "stream",
     "text": [
      "El producto demoró 5.871087074279785 Santiago\n",
      "tiempo que lleva corriendo 0.6448099176088969 Min\n"
     ]
    },
    {
     "name": "stderr",
     "output_type": "stream",
     "text": [
      "INFO:fbprophet:Disabling daily seasonality. Run prophet with daily_seasonality=True to override this.\n"
     ]
    },
    {
     "name": "stdout",
     "output_type": "stream",
     "text": [
      "El producto demoró 5.181868314743042 Santiago\n",
      "tiempo que lleva corriendo 0.7311827182769776 Min\n"
     ]
    },
    {
     "name": "stderr",
     "output_type": "stream",
     "text": [
      "INFO:fbprophet:Disabling daily seasonality. Run prophet with daily_seasonality=True to override this.\n"
     ]
    },
    {
     "name": "stdout",
     "output_type": "stream",
     "text": [
      "El producto demoró 5.287673234939575 Santiago\n",
      "tiempo que lleva corriendo 0.8193189263343811 Min\n"
     ]
    },
    {
     "name": "stderr",
     "output_type": "stream",
     "text": [
      "INFO:fbprophet:Disabling daily seasonality. Run prophet with daily_seasonality=True to override this.\n"
     ]
    },
    {
     "name": "stdout",
     "output_type": "stream",
     "text": [
      "El producto demoró 5.059096574783325 Santiago\n",
      "tiempo que lleva corriendo 0.9036455233891805 Min\n"
     ]
    },
    {
     "name": "stderr",
     "output_type": "stream",
     "text": [
      "INFO:fbprophet:Disabling daily seasonality. Run prophet with daily_seasonality=True to override this.\n"
     ]
    },
    {
     "name": "stdout",
     "output_type": "stream",
     "text": [
      "El producto demoró 5.3580451011657715 Santiago\n",
      "tiempo que lleva corriendo 0.9929462750752767 Min\n",
      "El producto demoró 4.846492290496826 Santiago\n",
      "tiempo que lleva corriendo 1.073729415734609 Min\n",
      "Centro Norte\n"
     ]
    },
    {
     "name": "stderr",
     "output_type": "stream",
     "text": [
      "INFO:fbprophet:Disabling daily seasonality. Run prophet with daily_seasonality=True to override this.\n",
      "INFO:fbprophet:Disabling daily seasonality. Run prophet with daily_seasonality=True to override this.\n"
     ]
    },
    {
     "name": "stdout",
     "output_type": "stream",
     "text": [
      "El producto demoró 4.71671724319458 Centro Norte\n",
      "tiempo que lleva corriendo 1.1569165110588073 Min\n"
     ]
    },
    {
     "name": "stderr",
     "output_type": "stream",
     "text": [
      "INFO:fbprophet:Disabling daily seasonality. Run prophet with daily_seasonality=True to override this.\n"
     ]
    },
    {
     "name": "stdout",
     "output_type": "stream",
     "text": [
      "El producto demoró 7.501381874084473 Centro Norte\n",
      "tiempo que lleva corriendo 1.2819561998049418 Min\n"
     ]
    },
    {
     "name": "stderr",
     "output_type": "stream",
     "text": [
      "INFO:fbprophet:Disabling daily seasonality. Run prophet with daily_seasonality=True to override this.\n"
     ]
    },
    {
     "name": "stdout",
     "output_type": "stream",
     "text": [
      "El producto demoró 3.9082326889038086 Centro Norte\n",
      "tiempo que lleva corriendo 1.347093411286672 Min\n"
     ]
    },
    {
     "name": "stderr",
     "output_type": "stream",
     "text": [
      "INFO:fbprophet:Disabling daily seasonality. Run prophet with daily_seasonality=True to override this.\n"
     ]
    },
    {
     "name": "stdout",
     "output_type": "stream",
     "text": [
      "El producto demoró 3.3397934436798096 Centro Norte\n",
      "tiempo que lleva corriendo 1.402756635348002 Min\n"
     ]
    },
    {
     "name": "stderr",
     "output_type": "stream",
     "text": [
      "INFO:fbprophet:Disabling daily seasonality. Run prophet with daily_seasonality=True to override this.\n"
     ]
    },
    {
     "name": "stdout",
     "output_type": "stream",
     "text": [
      "El producto demoró 5.430907964706421 Centro Norte\n",
      "tiempo que lleva corriendo 1.493280084927877 Min\n"
     ]
    },
    {
     "name": "stderr",
     "output_type": "stream",
     "text": [
      "INFO:fbprophet:Disabling daily seasonality. Run prophet with daily_seasonality=True to override this.\n"
     ]
    },
    {
     "name": "stdout",
     "output_type": "stream",
     "text": [
      "El producto demoró 3.333303451538086 Centro Norte\n",
      "tiempo que lleva corriendo 1.5488434632619221 Min\n"
     ]
    },
    {
     "name": "stderr",
     "output_type": "stream",
     "text": [
      "INFO:fbprophet:Disabling daily seasonality. Run prophet with daily_seasonality=True to override this.\n"
     ]
    },
    {
     "name": "stdout",
     "output_type": "stream",
     "text": [
      "El producto demoró 3.817406415939331 Centro Norte\n",
      "tiempo que lleva corriendo 1.6124669035275778 Min\n"
     ]
    },
    {
     "name": "stderr",
     "output_type": "stream",
     "text": [
      "INFO:fbprophet:Disabling daily seasonality. Run prophet with daily_seasonality=True to override this.\n"
     ]
    },
    {
     "name": "stdout",
     "output_type": "stream",
     "text": [
      "El producto demoró 4.245607852935791 Centro Norte\n",
      "tiempo que lleva corriendo 1.6832436800003052 Min\n"
     ]
    },
    {
     "name": "stderr",
     "output_type": "stream",
     "text": [
      "INFO:fbprophet:Disabling daily seasonality. Run prophet with daily_seasonality=True to override this.\n"
     ]
    },
    {
     "name": "stdout",
     "output_type": "stream",
     "text": [
      "El producto demoró 3.827885627746582 Centro Norte\n",
      "tiempo que lleva corriendo 1.7470417737960815 Min\n"
     ]
    },
    {
     "name": "stderr",
     "output_type": "stream",
     "text": [
      "INFO:fbprophet:Disabling daily seasonality. Run prophet with daily_seasonality=True to override this.\n"
     ]
    },
    {
     "name": "stdout",
     "output_type": "stream",
     "text": [
      "El producto demoró 3.9606423377990723 Centro Norte\n",
      "tiempo que lleva corriendo 1.8130691130956014 Min\n"
     ]
    },
    {
     "name": "stderr",
     "output_type": "stream",
     "text": [
      "INFO:fbprophet:Disabling daily seasonality. Run prophet with daily_seasonality=True to override this.\n"
     ]
    },
    {
     "name": "stdout",
     "output_type": "stream",
     "text": [
      "El producto demoró 4.599948167800903 Centro Norte\n",
      "tiempo que lleva corriendo 1.8897349158922832 Min\n"
     ]
    },
    {
     "name": "stderr",
     "output_type": "stream",
     "text": [
      "INFO:fbprophet:Disabling daily seasonality. Run prophet with daily_seasonality=True to override this.\n"
     ]
    },
    {
     "name": "stdout",
     "output_type": "stream",
     "text": [
      "El producto demoró 4.74767804145813 Centro Norte\n",
      "tiempo que lleva corriendo 1.9688795288403829 Min\n",
      "El producto demoró 5.598094463348389 Centro Norte\n",
      "tiempo que lleva corriendo 2.062189431985219 Min\n",
      "Centro Sur\n"
     ]
    },
    {
     "name": "stderr",
     "output_type": "stream",
     "text": [
      "INFO:fbprophet:Disabling daily seasonality. Run prophet with daily_seasonality=True to override this.\n",
      "INFO:fbprophet:Disabling daily seasonality. Run prophet with daily_seasonality=True to override this.\n"
     ]
    },
    {
     "name": "stdout",
     "output_type": "stream",
     "text": [
      "El producto demoró 4.770630836486816 Centro Sur\n",
      "tiempo que lleva corriendo 2.1471065918604535 Min\n"
     ]
    },
    {
     "name": "stderr",
     "output_type": "stream",
     "text": [
      "INFO:fbprophet:Disabling daily seasonality. Run prophet with daily_seasonality=True to override this.\n"
     ]
    },
    {
     "name": "stdout",
     "output_type": "stream",
     "text": [
      "El producto demoró 5.411442756652832 Centro Sur\n",
      "tiempo que lleva corriendo 2.2373056332270305 Min\n"
     ]
    },
    {
     "name": "stderr",
     "output_type": "stream",
     "text": [
      "INFO:fbprophet:Disabling daily seasonality. Run prophet with daily_seasonality=True to override this.\n"
     ]
    },
    {
     "name": "stdout",
     "output_type": "stream",
     "text": [
      "El producto demoró 4.398825407028198 Centro Sur\n",
      "tiempo que lleva corriendo 2.310636055469513 Min\n"
     ]
    },
    {
     "name": "stderr",
     "output_type": "stream",
     "text": [
      "INFO:fbprophet:Disabling daily seasonality. Run prophet with daily_seasonality=True to override this.\n"
     ]
    },
    {
     "name": "stdout",
     "output_type": "stream",
     "text": [
      "El producto demoró 4.692776203155518 Centro Sur\n",
      "tiempo que lleva corriendo 2.388857312997182 Min\n"
     ]
    },
    {
     "name": "stderr",
     "output_type": "stream",
     "text": [
      "INFO:fbprophet:Disabling daily seasonality. Run prophet with daily_seasonality=True to override this.\n"
     ]
    },
    {
     "name": "stdout",
     "output_type": "stream",
     "text": [
      "El producto demoró 4.767138957977295 Centro Sur\n",
      "tiempo que lleva corriendo 2.4683096289634703 Min\n"
     ]
    },
    {
     "name": "stderr",
     "output_type": "stream",
     "text": [
      "INFO:fbprophet:Disabling daily seasonality. Run prophet with daily_seasonality=True to override this.\n"
     ]
    },
    {
     "name": "stdout",
     "output_type": "stream",
     "text": [
      "El producto demoró 5.1828696727752686 Centro Sur\n",
      "tiempo que lleva corriendo 2.5547074397404987 Min\n"
     ]
    },
    {
     "name": "stderr",
     "output_type": "stream",
     "text": [
      "INFO:fbprophet:Disabling daily seasonality. Run prophet with daily_seasonality=True to override this.\n"
     ]
    },
    {
     "name": "stdout",
     "output_type": "stream",
     "text": [
      "El producto demoró 4.361391305923462 Centro Sur\n",
      "tiempo que lleva corriendo 2.6274056156476338 Min\n"
     ]
    },
    {
     "name": "stderr",
     "output_type": "stream",
     "text": [
      "INFO:fbprophet:Disabling daily seasonality. Run prophet with daily_seasonality=True to override this.\n"
     ]
    },
    {
     "name": "stdout",
     "output_type": "stream",
     "text": [
      "El producto demoró 4.333946466445923 Centro Sur\n",
      "tiempo que lleva corriendo 2.6996380567550657 Min\n"
     ]
    },
    {
     "name": "stderr",
     "output_type": "stream",
     "text": [
      "INFO:fbprophet:Disabling daily seasonality. Run prophet with daily_seasonality=True to override this.\n"
     ]
    },
    {
     "name": "stdout",
     "output_type": "stream",
     "text": [
      "El producto demoró 5.187859773635864 Centro Sur\n",
      "tiempo que lleva corriendo 2.786110695203145 Min\n"
     ]
    },
    {
     "name": "stderr",
     "output_type": "stream",
     "text": [
      "INFO:fbprophet:Disabling daily seasonality. Run prophet with daily_seasonality=True to override this.\n"
     ]
    },
    {
     "name": "stdout",
     "output_type": "stream",
     "text": [
      "El producto demoró 5.019668817520142 Centro Sur\n",
      "tiempo que lleva corriendo 2.869780162970225 Min\n"
     ]
    },
    {
     "name": "stderr",
     "output_type": "stream",
     "text": [
      "INFO:fbprophet:Disabling daily seasonality. Run prophet with daily_seasonality=True to override this.\n"
     ]
    },
    {
     "name": "stdout",
     "output_type": "stream",
     "text": [
      "El producto demoró 4.1408069133758545 Centro Sur\n",
      "tiempo que lleva corriendo 2.938801928361257 Min\n"
     ]
    },
    {
     "name": "stderr",
     "output_type": "stream",
     "text": [
      "INFO:fbprophet:Disabling daily seasonality. Run prophet with daily_seasonality=True to override this.\n"
     ]
    },
    {
     "name": "stdout",
     "output_type": "stream",
     "text": [
      "El producto demoró 4.149786472320557 Centro Sur\n",
      "tiempo que lleva corriendo 3.007973325252533 Min\n",
      "El producto demoró 3.6207709312438965 Centro Sur\n",
      "tiempo que lleva corriendo 3.06832781235377 Min\n",
      "Sur\n"
     ]
    },
    {
     "name": "stderr",
     "output_type": "stream",
     "text": [
      "INFO:fbprophet:Disabling daily seasonality. Run prophet with daily_seasonality=True to override this.\n",
      "INFO:fbprophet:Disabling daily seasonality. Run prophet with daily_seasonality=True to override this.\n"
     ]
    },
    {
     "name": "stdout",
     "output_type": "stream",
     "text": [
      "El producto demoró 4.125316381454468 Sur\n",
      "tiempo que lleva corriendo 3.1418245712916057 Min\n"
     ]
    },
    {
     "name": "stderr",
     "output_type": "stream",
     "text": [
      "INFO:fbprophet:Disabling daily seasonality. Run prophet with daily_seasonality=True to override this.\n"
     ]
    },
    {
     "name": "stdout",
     "output_type": "stream",
     "text": [
      "El producto demoró 4.169751882553101 Sur\n",
      "tiempo que lleva corriendo 3.211320436000824 Min\n"
     ]
    },
    {
     "name": "stderr",
     "output_type": "stream",
     "text": [
      "INFO:fbprophet:Disabling daily seasonality. Run prophet with daily_seasonality=True to override this.\n"
     ]
    },
    {
     "name": "stdout",
     "output_type": "stream",
     "text": [
      "El producto demoró 5.543197393417358 Sur\n",
      "tiempo que lleva corriendo 3.3037153561909993 Min\n"
     ]
    },
    {
     "name": "stderr",
     "output_type": "stream",
     "text": [
      "INFO:fbprophet:Disabling daily seasonality. Run prophet with daily_seasonality=True to override this.\n"
     ]
    },
    {
     "name": "stdout",
     "output_type": "stream",
     "text": [
      "El producto demoró 4.3648905754089355 Sur\n",
      "tiempo que lleva corriendo 3.376463532447815 Min\n"
     ]
    },
    {
     "name": "stderr",
     "output_type": "stream",
     "text": [
      "INFO:fbprophet:Disabling daily seasonality. Run prophet with daily_seasonality=True to override this.\n"
     ]
    },
    {
     "name": "stdout",
     "output_type": "stream",
     "text": [
      "El producto demoró 4.261077880859375 Sur\n",
      "tiempo que lleva corriendo 3.447498126824697 Min\n"
     ]
    },
    {
     "name": "stderr",
     "output_type": "stream",
     "text": [
      "INFO:fbprophet:Disabling daily seasonality. Run prophet with daily_seasonality=True to override this.\n"
     ]
    },
    {
     "name": "stdout",
     "output_type": "stream",
     "text": [
      "El producto demoró 4.501134872436523 Sur\n",
      "tiempo que lleva corriendo 3.522525465488434 Min\n"
     ]
    },
    {
     "name": "stderr",
     "output_type": "stream",
     "text": [
      "INFO:fbprophet:Disabling daily seasonality. Run prophet with daily_seasonality=True to override this.\n"
     ]
    },
    {
     "name": "stdout",
     "output_type": "stream",
     "text": [
      "El producto demoró 4.397822380065918 Sur\n",
      "tiempo que lleva corriendo 3.595822505156199 Min\n"
     ]
    },
    {
     "name": "stderr",
     "output_type": "stream",
     "text": [
      "INFO:fbprophet:Disabling daily seasonality. Run prophet with daily_seasonality=True to override this.\n"
     ]
    },
    {
     "name": "stdout",
     "output_type": "stream",
     "text": [
      "El producto demoró 5.595597982406616 Sur\n",
      "tiempo que lleva corriendo 3.6890907883644104 Min\n"
     ]
    },
    {
     "name": "stderr",
     "output_type": "stream",
     "text": [
      "INFO:fbprophet:Disabling daily seasonality. Run prophet with daily_seasonality=True to override this.\n"
     ]
    },
    {
     "name": "stdout",
     "output_type": "stream",
     "text": [
      "El producto demoró 4.307742357254028 Sur\n",
      "tiempo que lleva corriendo 3.7608864943186444 Min\n"
     ]
    },
    {
     "name": "stderr",
     "output_type": "stream",
     "text": [
      "INFO:fbprophet:Disabling daily seasonality. Run prophet with daily_seasonality=True to override this.\n"
     ]
    },
    {
     "name": "stdout",
     "output_type": "stream",
     "text": [
      "El producto demoró 4.3673834800720215 Sur\n",
      "tiempo que lleva corriendo 3.8336928685506186 Min\n"
     ]
    },
    {
     "name": "stderr",
     "output_type": "stream",
     "text": [
      "INFO:fbprophet:Disabling daily seasonality. Run prophet with daily_seasonality=True to override this.\n"
     ]
    },
    {
     "name": "stdout",
     "output_type": "stream",
     "text": [
      "El producto demoró 5.000705003738403 Sur\n",
      "tiempo que lleva corriendo 3.9170379519462584 Min\n"
     ]
    },
    {
     "name": "stderr",
     "output_type": "stream",
     "text": [
      "INFO:fbprophet:Disabling daily seasonality. Run prophet with daily_seasonality=True to override this.\n"
     ]
    },
    {
     "name": "stdout",
     "output_type": "stream",
     "text": [
      "El producto demoró 4.630554676055908 Sur\n",
      "tiempo que lleva corriendo 3.994230496883392 Min\n",
      "El producto demoró 4.611928939819336 Sur\n",
      "tiempo que lleva corriendo 4.071095979213714 Min\n",
      "Norte\n"
     ]
    },
    {
     "name": "stderr",
     "output_type": "stream",
     "text": [
      "INFO:fbprophet:Disabling daily seasonality. Run prophet with daily_seasonality=True to override this.\n",
      "INFO:fbprophet:Disabling daily seasonality. Run prophet with daily_seasonality=True to override this.\n"
     ]
    },
    {
     "name": "stdout",
     "output_type": "stream",
     "text": [
      "El producto demoró 4.008539438247681 Norte\n",
      "tiempo que lleva corriendo 4.142172221342722 Min\n"
     ]
    },
    {
     "name": "stderr",
     "output_type": "stream",
     "text": [
      "INFO:fbprophet:Disabling daily seasonality. Run prophet with daily_seasonality=True to override this.\n"
     ]
    },
    {
     "name": "stdout",
     "output_type": "stream",
     "text": [
      "El producto demoró 4.553036451339722 Norte\n",
      "tiempo que lleva corriendo 4.218064490954081 Min\n"
     ]
    },
    {
     "name": "stderr",
     "output_type": "stream",
     "text": [
      "INFO:fbprophet:Disabling daily seasonality. Run prophet with daily_seasonality=True to override this.\n"
     ]
    },
    {
     "name": "stdout",
     "output_type": "stream",
     "text": [
      "El producto demoró 4.543182373046875 Norte\n",
      "tiempo que lleva corriendo 4.293792525927226 Min\n"
     ]
    },
    {
     "name": "stderr",
     "output_type": "stream",
     "text": [
      "INFO:fbprophet:Disabling daily seasonality. Run prophet with daily_seasonality=True to override this.\n"
     ]
    },
    {
     "name": "stdout",
     "output_type": "stream",
     "text": [
      "El producto demoró 3.795444965362549 Norte\n",
      "tiempo que lleva corriendo 4.357049942016602 Min\n"
     ]
    },
    {
     "name": "stderr",
     "output_type": "stream",
     "text": [
      "INFO:fbprophet:Disabling daily seasonality. Run prophet with daily_seasonality=True to override this.\n"
     ]
    },
    {
     "name": "stdout",
     "output_type": "stream",
     "text": [
      "El producto demoró 4.436752796173096 Norte\n",
      "tiempo que lleva corriendo 4.43100414276123 Min\n"
     ]
    },
    {
     "name": "stderr",
     "output_type": "stream",
     "text": [
      "INFO:fbprophet:Disabling daily seasonality. Run prophet with daily_seasonality=True to override this.\n"
     ]
    },
    {
     "name": "stdout",
     "output_type": "stream",
     "text": [
      "El producto demoró 4.849985122680664 Norte\n",
      "tiempo que lleva corriendo 4.511837228139242 Min\n"
     ]
    },
    {
     "name": "stderr",
     "output_type": "stream",
     "text": [
      "INFO:fbprophet:Disabling daily seasonality. Run prophet with daily_seasonality=True to override this.\n"
     ]
    },
    {
     "name": "stdout",
     "output_type": "stream",
     "text": [
      "El producto demoró 3.764047622680664 Norte\n",
      "tiempo que lleva corriendo 4.574579687913259 Min\n"
     ]
    },
    {
     "name": "stderr",
     "output_type": "stream",
     "text": [
      "INFO:fbprophet:Disabling daily seasonality. Run prophet with daily_seasonality=True to override this.\n"
     ]
    },
    {
     "name": "stdout",
     "output_type": "stream",
     "text": [
      "El producto demoró 3.9706199169158936 Norte\n",
      "tiempo que lleva corriendo 4.6407566865285235 Min\n"
     ]
    },
    {
     "name": "stderr",
     "output_type": "stream",
     "text": [
      "INFO:fbprophet:Disabling daily seasonality. Run prophet with daily_seasonality=True to override this.\n"
     ]
    },
    {
     "name": "stdout",
     "output_type": "stream",
     "text": [
      "El producto demoró 4.912868022918701 Norte\n",
      "tiempo que lleva corriendo 4.72264613310496 Min\n"
     ]
    },
    {
     "name": "stderr",
     "output_type": "stream",
     "text": [
      "INFO:fbprophet:Disabling daily seasonality. Run prophet with daily_seasonality=True to override this.\n"
     ]
    },
    {
     "name": "stdout",
     "output_type": "stream",
     "text": [
      "El producto demoró 4.973755836486816 Norte\n",
      "tiempo que lleva corriendo 4.805542063713074 Min\n"
     ]
    },
    {
     "name": "stderr",
     "output_type": "stream",
     "text": [
      "INFO:fbprophet:Disabling daily seasonality. Run prophet with daily_seasonality=True to override this.\n"
     ]
    },
    {
     "name": "stdout",
     "output_type": "stream",
     "text": [
      "El producto demoró 5.071077346801758 Norte\n",
      "tiempo que lleva corriendo 4.890076665083567 Min\n",
      "El producto demoró 5.277190923690796 Norte\n",
      "tiempo que lleva corriendo 4.978029847145081 Min\n",
      "Venta Directa\n"
     ]
    },
    {
     "name": "stderr",
     "output_type": "stream",
     "text": [
      "INFO:fbprophet:Disabling daily seasonality. Run prophet with daily_seasonality=True to override this.\n",
      "INFO:fbprophet:Disabling daily seasonality. Run prophet with daily_seasonality=True to override this.\n"
     ]
    },
    {
     "name": "stdout",
     "output_type": "stream",
     "text": [
      "El producto demoró 3.5973165035247803 Venta Directa\n",
      "tiempo que lleva corriendo 5.0420525670051575 Min\n"
     ]
    },
    {
     "name": "stderr",
     "output_type": "stream",
     "text": [
      "INFO:fbprophet:Disabling daily seasonality. Run prophet with daily_seasonality=True to override this.\n"
     ]
    },
    {
     "name": "stdout",
     "output_type": "stream",
     "text": [
      "El producto demoró 3.145024061203003 Venta Directa\n",
      "tiempo que lleva corriendo 5.09447793563207 Min\n"
     ]
    },
    {
     "name": "stderr",
     "output_type": "stream",
     "text": [
      "INFO:fbprophet:Disabling daily seasonality. Run prophet with daily_seasonality=True to override this.\n"
     ]
    },
    {
     "name": "stdout",
     "output_type": "stream",
     "text": [
      "El producto demoró 3.529459238052368 Venta Directa\n",
      "tiempo que lleva corriendo 5.153302256266276 Min\n",
      "El producto demoró 2.9874446392059326 Venta Directa\n",
      "tiempo que lleva corriendo 5.203109387556712 Min\n",
      "tiempo bloque completo 5.203109387556712 Min\n"
     ]
    }
   ],
   "source": [
    "df2 = pd.DataFrame(columns=['ds', 'yhat_lower', 'yhat_upper', 'yhat', 'Material','Oficina de Ventas Unifica', 'Zona de ventas.1'])\n",
    "\n",
    "Listado_de_zonas=data['Zona de ventas.1'].unique()\n",
    "\n",
    "start_time = time()\n",
    "\n",
    "\n",
    "\n",
    "for Z in Listado_de_zonas:\n",
    "#Z='Santiago'\n",
    "    print(Z)\n",
    "    dfz=Df_ubic(data,'Zona de ventas.1',Z)\n",
    "\n",
    "\n",
    "    #Crear un listado de los materiales disponibles en la dat\n",
    "\n",
    "    Listado_de_Materiales=dfz[dfz.Año==2021].Material.unique()     \n",
    "\n",
    "\n",
    "    for m in Listado_de_Materiales:\n",
    "        #m=Listado_de_Materiales[0]\n",
    "        material_time=time()\n",
    "        #print(y,m)\n",
    "\n",
    "\n",
    "        dfm=Df_ubic(dfz,\n",
    "                    'Material',m).groupby('Día natural'\n",
    "                                             ).sum().reset_index()[['Día natural',y_col]]\n",
    "\n",
    "        dfmPred=Predict_sem(dfm,7)[['ds', 'yhat_lower',\n",
    "                                    'yhat_upper', 'yhat']].tail(7)\n",
    "        #Material\n",
    "        dfmPred['Material']=[m for i in range(dfmPred.shape[0])]\n",
    "        \n",
    "        #Sucursal\n",
    "        #dfmPred['Oficina de Ventas Unifica']=[y for i in range(dfmPred.shape[0])]\n",
    "\n",
    "        #Zona\n",
    "        dfmPred['Zona de ventas.1']=[Z for i in range(dfmPred.shape[0])]\n",
    "\n",
    "        dfmPred=dfmPred.reset_index()\n",
    "        dfmPred.pop('index')\n",
    "        df2=pd.concat([df2, dfmPred])\n",
    "        print('El producto demoró',(time() - material_time),Z)\n",
    "        print('tiempo que lleva corriendo',(time() - start_time)/60, 'Min')\n",
    "\n",
    "print('tiempo bloque completo',(time() - start_time)/60, 'Min')\n"
   ]
  },
  {
   "cell_type": "code",
   "execution_count": 64,
   "id": "fb06c0fd",
   "metadata": {
    "hidden": true
   },
   "outputs": [],
   "source": [
    "df2.rename(columns = {'ds': 'Día natural', 'yhat': 'Predicción central',\n",
    "                                'yhat_upper': 'Predicción Superior',\n",
    "                                'yhat_lower': 'Predicción Inferior'}, inplace = True)"
   ]
  },
  {
   "cell_type": "markdown",
   "id": "14a59a14",
   "metadata": {
    "hidden": true
   },
   "source": [
    "### CSV SAVE "
   ]
  },
  {
   "cell_type": "code",
   "execution_count": 65,
   "id": "2a4e3269",
   "metadata": {
    "hidden": true
   },
   "outputs": [
    {
     "name": "stdout",
     "output_type": "stream",
     "text": [
      "2021-06-02\n",
      "2021-06-17\n"
     ]
    }
   ],
   "source": [
    "min_time=df2['Día natural'].min()\n",
    "min_time=str(min_time).split(' ')[0]\n",
    "print(min_time)\n",
    "max_time=df2['Día natural'].max()\n",
    "max_time=str(max_time).split(' ')[0]\n",
    "print(max_time)"
   ]
  },
  {
   "cell_type": "code",
   "execution_count": 66,
   "id": "e966269a",
   "metadata": {
    "hidden": true
   },
   "outputs": [],
   "source": [
    "df2.to_csv('Data'+min_time+' Predicción ' +max_time+ 'Zona.csv', index=False)\n"
   ]
  },
  {
   "cell_type": "markdown",
   "id": "58592ea3",
   "metadata": {},
   "source": [
    "# Canal"
   ]
  },
  {
   "cell_type": "markdown",
   "id": "1e1f9328",
   "metadata": {},
   "source": [
    "## Iteración completa Zona, Sucursal"
   ]
  },
  {
   "cell_type": "code",
   "execution_count": 75,
   "id": "e18cd89c",
   "metadata": {},
   "outputs": [
    {
     "name": "stdout",
     "output_type": "stream",
     "text": [
      "Santiago\n"
     ]
    },
    {
     "name": "stderr",
     "output_type": "stream",
     "text": [
      "INFO:fbprophet:Disabling daily seasonality. Run prophet with daily_seasonality=True to override this.\n"
     ]
    },
    {
     "name": "stdout",
     "output_type": "stream",
     "text": [
      "Huechuraba\n"
     ]
    },
    {
     "name": "stderr",
     "output_type": "stream",
     "text": [
      "INFO:fbprophet:Disabling daily seasonality. Run prophet with daily_seasonality=True to override this.\n"
     ]
    },
    {
     "name": "stdout",
     "output_type": "stream",
     "text": [
      "El producto demoró 4.111856460571289 Santiago Huechuraba\n",
      "tiempo que lleva corriendo 0.07325549125671386 Min\n"
     ]
    },
    {
     "name": "stderr",
     "output_type": "stream",
     "text": [
      "INFO:fbprophet:Disabling daily seasonality. Run prophet with daily_seasonality=True to override this.\n"
     ]
    },
    {
     "name": "stdout",
     "output_type": "stream",
     "text": [
      "El producto demoró 3.968625068664551 Santiago Huechuraba\n",
      "tiempo que lleva corriendo 0.13941587607065836 Min\n"
     ]
    },
    {
     "name": "stderr",
     "output_type": "stream",
     "text": [
      "INFO:fbprophet:Disabling daily seasonality. Run prophet with daily_seasonality=True to override this.\n"
     ]
    },
    {
     "name": "stdout",
     "output_type": "stream",
     "text": [
      "El producto demoró 4.029513597488403 Santiago Huechuraba\n",
      "tiempo que lleva corriendo 0.2065827528635661 Min\n"
     ]
    },
    {
     "name": "stderr",
     "output_type": "stream",
     "text": [
      "INFO:fbprophet:Disabling daily seasonality. Run prophet with daily_seasonality=True to override this.\n"
     ]
    },
    {
     "name": "stdout",
     "output_type": "stream",
     "text": [
      "El producto demoró 3.7344248294830322 Santiago Huechuraba\n",
      "tiempo que lleva corriendo 0.2688314835230509 Min\n"
     ]
    },
    {
     "name": "stderr",
     "output_type": "stream",
     "text": [
      "INFO:fbprophet:Disabling daily seasonality. Run prophet with daily_seasonality=True to override this.\n"
     ]
    },
    {
     "name": "stdout",
     "output_type": "stream",
     "text": [
      "El producto demoró 4.018032550811768 Santiago Huechuraba\n",
      "tiempo que lleva corriendo 0.33580699761708577 Min\n"
     ]
    },
    {
     "name": "stderr",
     "output_type": "stream",
     "text": [
      "INFO:fbprophet:Disabling daily seasonality. Run prophet with daily_seasonality=True to override this.\n"
     ]
    },
    {
     "name": "stdout",
     "output_type": "stream",
     "text": [
      "El producto demoró 4.290026664733887 Santiago Huechuraba\n",
      "tiempo que lleva corriendo 0.4073157588640849 Min\n"
     ]
    },
    {
     "name": "stderr",
     "output_type": "stream",
     "text": [
      "INFO:fbprophet:Disabling daily seasonality. Run prophet with daily_seasonality=True to override this.\n"
     ]
    },
    {
     "name": "stdout",
     "output_type": "stream",
     "text": [
      "El producto demoró 4.150286674499512 Santiago Huechuraba\n",
      "tiempo que lleva corriendo 0.4764955401420593 Min\n"
     ]
    },
    {
     "name": "stderr",
     "output_type": "stream",
     "text": [
      "INFO:fbprophet:Disabling daily seasonality. Run prophet with daily_seasonality=True to override this.\n"
     ]
    },
    {
     "name": "stdout",
     "output_type": "stream",
     "text": [
      "El producto demoró 3.9731173515319824 Santiago Huechuraba\n",
      "tiempo que lleva corriendo 0.5427141626675923 Min\n"
     ]
    },
    {
     "name": "stderr",
     "output_type": "stream",
     "text": [
      "INFO:fbprophet:Disabling daily seasonality. Run prophet with daily_seasonality=True to override this.\n"
     ]
    },
    {
     "name": "stdout",
     "output_type": "stream",
     "text": [
      "El producto demoró 4.211171388626099 Santiago Huechuraba\n",
      "tiempo que lleva corriendo 0.612908677260081 Min\n"
     ]
    },
    {
     "name": "stderr",
     "output_type": "stream",
     "text": [
      "INFO:fbprophet:Disabling daily seasonality. Run prophet with daily_seasonality=True to override this.\n"
     ]
    },
    {
     "name": "stdout",
     "output_type": "stream",
     "text": [
      "El producto demoró 3.9897818565368652 Santiago Huechuraba\n",
      "tiempo que lleva corriendo 0.6794216672579447 Min\n"
     ]
    },
    {
     "name": "stderr",
     "output_type": "stream",
     "text": [
      "INFO:fbprophet:Disabling daily seasonality. Run prophet with daily_seasonality=True to override this.\n"
     ]
    },
    {
     "name": "stdout",
     "output_type": "stream",
     "text": [
      "El producto demoró 3.678663969039917 Santiago Huechuraba\n",
      "tiempo que lleva corriendo 0.7407410462697347 Min\n"
     ]
    },
    {
     "name": "stderr",
     "output_type": "stream",
     "text": [
      "INFO:fbprophet:Disabling daily seasonality. Run prophet with daily_seasonality=True to override this.\n"
     ]
    },
    {
     "name": "stdout",
     "output_type": "stream",
     "text": [
      "El producto demoró 4.230636358261108 Santiago Huechuraba\n",
      "tiempo que lleva corriendo 0.8112516522407531 Min\n"
     ]
    },
    {
     "name": "stderr",
     "output_type": "stream",
     "text": [
      "INFO:fbprophet:Disabling daily seasonality. Run prophet with daily_seasonality=True to override this.\n"
     ]
    },
    {
     "name": "stdout",
     "output_type": "stream",
     "text": [
      "El producto demoró 4.484169244766235 Santiago Huechuraba\n",
      "tiempo que lleva corriendo 0.8860044360160828 Min\n"
     ]
    },
    {
     "name": "stderr",
     "output_type": "stream",
     "text": [
      "INFO:fbprophet:Disabling daily seasonality. Run prophet with daily_seasonality=True to override this.\n"
     ]
    },
    {
     "name": "stdout",
     "output_type": "stream",
     "text": [
      "El producto demoró 2.652089834213257 Santiago Huechuraba\n",
      "tiempo que lleva corriendo 0.9303972045580546 Min\n"
     ]
    },
    {
     "name": "stderr",
     "output_type": "stream",
     "text": [
      "INFO:fbprophet:Disabling daily seasonality. Run prophet with daily_seasonality=True to override this.\n"
     ]
    },
    {
     "name": "stdout",
     "output_type": "stream",
     "text": [
      "El producto demoró 2.5317792892456055 Santiago Huechuraba\n",
      "tiempo que lleva corriendo 0.9726017912228903 Min\n"
     ]
    },
    {
     "name": "stderr",
     "output_type": "stream",
     "text": [
      "INFO:fbprophet:Disabling daily seasonality. Run prophet with daily_seasonality=True to override this.\n"
     ]
    },
    {
     "name": "stdout",
     "output_type": "stream",
     "text": [
      "El producto demoró 3.2784063816070557 Santiago Huechuraba\n",
      "tiempo que lleva corriendo 1.0272418975830078 Min\n"
     ]
    },
    {
     "name": "stderr",
     "output_type": "stream",
     "text": [
      "INFO:fbprophet:Disabling daily seasonality. Run prophet with daily_seasonality=True to override this.\n"
     ]
    },
    {
     "name": "stdout",
     "output_type": "stream",
     "text": [
      "El producto demoró 3.4880177974700928 Santiago Huechuraba\n",
      "tiempo que lleva corriendo 1.0853838483492533 Min\n"
     ]
    },
    {
     "name": "stderr",
     "output_type": "stream",
     "text": [
      "INFO:fbprophet:Disabling daily seasonality. Run prophet with daily_seasonality=True to override this.\n"
     ]
    },
    {
     "name": "stdout",
     "output_type": "stream",
     "text": [
      "El producto demoró 2.8028101921081543 Santiago Huechuraba\n",
      "tiempo que lleva corriendo 1.1321056683858235 Min\n"
     ]
    },
    {
     "name": "stderr",
     "output_type": "stream",
     "text": [
      "INFO:fbprophet:Disabling daily seasonality. Run prophet with daily_seasonality=True to override this.\n"
     ]
    },
    {
     "name": "stdout",
     "output_type": "stream",
     "text": [
      "El producto demoró 2.883622646331787 Santiago Huechuraba\n",
      "tiempo que lleva corriendo 1.1801743507385254 Min\n"
     ]
    },
    {
     "name": "stderr",
     "output_type": "stream",
     "text": [
      "INFO:fbprophet:Disabling daily seasonality. Run prophet with daily_seasonality=True to override this.\n"
     ]
    },
    {
     "name": "stdout",
     "output_type": "stream",
     "text": [
      "El producto demoró 3.5853371620178223 Santiago Huechuraba\n",
      "tiempo que lleva corriendo 1.239929970105489 Min\n"
     ]
    },
    {
     "name": "stderr",
     "output_type": "stream",
     "text": [
      "INFO:fbprophet:Disabling daily seasonality. Run prophet with daily_seasonality=True to override this.\n"
     ]
    },
    {
     "name": "stdout",
     "output_type": "stream",
     "text": [
      "El producto demoró 3.0772809982299805 Santiago Huechuraba\n",
      "tiempo que lleva corriendo 1.2912179867426554 Min\n"
     ]
    },
    {
     "name": "stderr",
     "output_type": "stream",
     "text": [
      "INFO:fbprophet:Disabling daily seasonality. Run prophet with daily_seasonality=True to override this.\n"
     ]
    },
    {
     "name": "stdout",
     "output_type": "stream",
     "text": [
      "El producto demoró 5.000703811645508 Santiago Huechuraba\n",
      "tiempo que lleva corriendo 1.374571390946706 Min\n"
     ]
    },
    {
     "name": "stderr",
     "output_type": "stream",
     "text": [
      "INFO:fbprophet:Disabling daily seasonality. Run prophet with daily_seasonality=True to override this.\n"
     ]
    },
    {
     "name": "stdout",
     "output_type": "stream",
     "text": [
      "El producto demoró 5.380519151687622 Santiago Huechuraba\n",
      "tiempo que lleva corriendo 1.4642467101414998 Min\n"
     ]
    },
    {
     "name": "stderr",
     "output_type": "stream",
     "text": [
      "INFO:fbprophet:Disabling daily seasonality. Run prophet with daily_seasonality=True to override this.\n"
     ]
    },
    {
     "name": "stdout",
     "output_type": "stream",
     "text": [
      "El producto demoró 8.08000135421753 Santiago Huechuraba\n",
      "tiempo que lleva corriendo 1.5989297350247702 Min\n"
     ]
    },
    {
     "name": "stderr",
     "output_type": "stream",
     "text": [
      "INFO:fbprophet:Disabling daily seasonality. Run prophet with daily_seasonality=True to override this.\n"
     ]
    },
    {
     "name": "stdout",
     "output_type": "stream",
     "text": [
      "El producto demoró 5.355528354644775 Santiago Huechuraba\n",
      "tiempo que lleva corriendo 1.6882051746050517 Min\n"
     ]
    },
    {
     "name": "stderr",
     "output_type": "stream",
     "text": [
      "INFO:fbprophet:Disabling daily seasonality. Run prophet with daily_seasonality=True to override this.\n"
     ]
    },
    {
     "name": "stdout",
     "output_type": "stream",
     "text": [
      "El producto demoró 4.688784837722778 Santiago Huechuraba\n",
      "tiempo que lleva corriendo 1.766351588567098 Min\n"
     ]
    },
    {
     "name": "stderr",
     "output_type": "stream",
     "text": [
      "INFO:fbprophet:Disabling daily seasonality. Run prophet with daily_seasonality=True to override this.\n",
      "INFO:fbprophet:n_changepoints greater than number of observations. Using 11.\n"
     ]
    },
    {
     "name": "stdout",
     "output_type": "stream",
     "text": [
      "El producto demoró 2.760887861251831 Santiago Huechuraba\n",
      "tiempo que lleva corriendo 1.8125660181045533 Min\n"
     ]
    },
    {
     "name": "stderr",
     "output_type": "stream",
     "text": [
      "INFO:fbprophet:Disabling daily seasonality. Run prophet with daily_seasonality=True to override this.\n"
     ]
    },
    {
     "name": "stdout",
     "output_type": "stream",
     "text": [
      "El producto demoró 12.238325119018555 Santiago Huechuraba\n",
      "tiempo que lleva corriendo 2.0165464719136557 Min\n"
     ]
    },
    {
     "name": "stderr",
     "output_type": "stream",
     "text": [
      "INFO:fbprophet:Disabling daily seasonality. Run prophet with daily_seasonality=True to override this.\n"
     ]
    },
    {
     "name": "stdout",
     "output_type": "stream",
     "text": [
      "El producto demoró 5.132957458496094 Santiago Huechuraba\n",
      "tiempo que lleva corriendo 2.1020957628885903 Min\n"
     ]
    },
    {
     "name": "stderr",
     "output_type": "stream",
     "text": [
      "INFO:fbprophet:Disabling daily seasonality. Run prophet with daily_seasonality=True to override this.\n"
     ]
    },
    {
     "name": "stdout",
     "output_type": "stream",
     "text": [
      "El producto demoró 5.268219947814941 Santiago Huechuraba\n",
      "tiempo que lleva corriendo 2.1899160782496137 Min\n"
     ]
    },
    {
     "name": "stderr",
     "output_type": "stream",
     "text": [
      "INFO:fbprophet:Disabling daily seasonality. Run prophet with daily_seasonality=True to override this.\n"
     ]
    },
    {
     "name": "stdout",
     "output_type": "stream",
     "text": [
      "El producto demoró 2.890634536743164 Santiago Huechuraba\n",
      "tiempo que lleva corriendo 2.238101522127787 Min\n"
     ]
    },
    {
     "name": "stderr",
     "output_type": "stream",
     "text": [
      "INFO:fbprophet:Disabling daily seasonality. Run prophet with daily_seasonality=True to override this.\n",
      "INFO:fbprophet:n_changepoints greater than number of observations. Using 15.\n"
     ]
    },
    {
     "name": "stdout",
     "output_type": "stream",
     "text": [
      "El producto demoró 3.044830322265625 Santiago Huechuraba\n",
      "tiempo que lleva corriendo 2.288865311940511 Min\n"
     ]
    },
    {
     "name": "stderr",
     "output_type": "stream",
     "text": [
      "INFO:fbprophet:Disabling daily seasonality. Run prophet with daily_seasonality=True to override this.\n"
     ]
    },
    {
     "name": "stdout",
     "output_type": "stream",
     "text": [
      "El producto demoró 102.41873717308044 Santiago Huechuraba\n",
      "tiempo que lleva corriendo 3.9958609104156495 Min\n"
     ]
    },
    {
     "name": "stderr",
     "output_type": "stream",
     "text": [
      "INFO:fbprophet:Disabling daily seasonality. Run prophet with daily_seasonality=True to override this.\n"
     ]
    },
    {
     "name": "stdout",
     "output_type": "stream",
     "text": [
      "El producto demoró 3.0563220977783203 Santiago Huechuraba\n",
      "tiempo que lleva corriendo 4.046816241741181 Min\n"
     ]
    },
    {
     "name": "stderr",
     "output_type": "stream",
     "text": [
      "INFO:fbprophet:Disabling daily seasonality. Run prophet with daily_seasonality=True to override this.\n"
     ]
    },
    {
     "name": "stdout",
     "output_type": "stream",
     "text": [
      "El producto demoró 4.495643138885498 Santiago Huechuraba\n",
      "tiempo que lleva corriendo 4.12175194422404 Min\n"
     ]
    },
    {
     "name": "stderr",
     "output_type": "stream",
     "text": [
      "INFO:fbprophet:Disabling daily seasonality. Run prophet with daily_seasonality=True to override this.\n"
     ]
    },
    {
     "name": "stdout",
     "output_type": "stream",
     "text": [
      "El producto demoró 6.291308641433716 Santiago Huechuraba\n",
      "tiempo que lleva corriendo 4.226615393161774 Min\n"
     ]
    },
    {
     "name": "stderr",
     "output_type": "stream",
     "text": [
      "INFO:fbprophet:Disabling daily seasonality. Run prophet with daily_seasonality=True to override this.\n"
     ]
    },
    {
     "name": "stdout",
     "output_type": "stream",
     "text": [
      "El producto demoró 2.488393545150757 Santiago Huechuraba\n",
      "tiempo que lleva corriendo 4.268096931775411 Min\n"
     ]
    },
    {
     "name": "stderr",
     "output_type": "stream",
     "text": [
      "INFO:fbprophet:Disabling daily seasonality. Run prophet with daily_seasonality=True to override this.\n"
     ]
    },
    {
     "name": "stdout",
     "output_type": "stream",
     "text": [
      "El producto demoró 3.806907892227173 Santiago Huechuraba\n",
      "tiempo que lleva corriendo 4.331553681691488 Min\n"
     ]
    },
    {
     "name": "stderr",
     "output_type": "stream",
     "text": [
      "INFO:fbprophet:Disabling daily seasonality. Run prophet with daily_seasonality=True to override this.\n"
     ]
    },
    {
     "name": "stdout",
     "output_type": "stream",
     "text": [
      "El producto demoró 2.6288392543792725 Santiago Huechuraba\n",
      "tiempo que lleva corriendo 4.375375990072886 Min\n"
     ]
    },
    {
     "name": "stderr",
     "output_type": "stream",
     "text": [
      "INFO:fbprophet:Disabling daily seasonality. Run prophet with daily_seasonality=True to override this.\n",
      "INFO:fbprophet:n_changepoints greater than number of observations. Using 2.\n"
     ]
    },
    {
     "name": "stdout",
     "output_type": "stream",
     "text": [
      "El producto demoró 4.714737415313721 Santiago Huechuraba\n",
      "tiempo que lleva corriendo 4.454104650020599 Min\n"
     ]
    },
    {
     "name": "stderr",
     "output_type": "stream",
     "text": [
      "INFO:fbprophet:Disabling daily seasonality. Run prophet with daily_seasonality=True to override this.\n",
      "INFO:fbprophet:n_changepoints greater than number of observations. Using 4.\n"
     ]
    },
    {
     "name": "stdout",
     "output_type": "stream",
     "text": [
      "El producto demoró 21.60716962814331 Santiago Huechuraba\n",
      "tiempo que lleva corriendo 4.814232480525971 Min\n"
     ]
    },
    {
     "name": "stderr",
     "output_type": "stream",
     "text": [
      "INFO:fbprophet:Disabling weekly seasonality. Run prophet with weekly_seasonality=True to override this.\n",
      "INFO:fbprophet:Disabling daily seasonality. Run prophet with daily_seasonality=True to override this.\n",
      "INFO:fbprophet:n_changepoints greater than number of observations. Using 6.\n"
     ]
    },
    {
     "name": "stdout",
     "output_type": "stream",
     "text": [
      "El producto demoró 30.364701986312866 Santiago Huechuraba\n",
      "tiempo que lleva corriendo 5.320319171746572 Min\n"
     ]
    },
    {
     "name": "stderr",
     "output_type": "stream",
     "text": [
      "INFO:fbprophet:Disabling daily seasonality. Run prophet with daily_seasonality=True to override this.\n"
     ]
    },
    {
     "name": "stdout",
     "output_type": "stream",
     "text": [
      "El producto demoró 2.7533857822418213 Santiago Huechuraba\n",
      "tiempo que lleva corriendo 5.366217243671417 Min\n",
      "Lo Espejo\n"
     ]
    },
    {
     "name": "stderr",
     "output_type": "stream",
     "text": [
      "INFO:fbprophet:Disabling daily seasonality. Run prophet with daily_seasonality=True to override this.\n"
     ]
    },
    {
     "name": "stdout",
     "output_type": "stream",
     "text": [
      "El producto demoró 4.358880519866943 Santiago Lo Espejo\n",
      "tiempo que lleva corriendo 5.439431142807007 Min\n"
     ]
    },
    {
     "name": "stderr",
     "output_type": "stream",
     "text": [
      "INFO:fbprophet:Disabling daily seasonality. Run prophet with daily_seasonality=True to override this.\n"
     ]
    },
    {
     "name": "stdout",
     "output_type": "stream",
     "text": [
      "El producto demoró 4.093390703201294 Santiago Lo Espejo\n",
      "tiempo que lleva corriendo 5.507654321193695 Min\n"
     ]
    },
    {
     "name": "stderr",
     "output_type": "stream",
     "text": [
      "INFO:fbprophet:Disabling daily seasonality. Run prophet with daily_seasonality=True to override this.\n"
     ]
    },
    {
     "name": "stdout",
     "output_type": "stream",
     "text": [
      "El producto demoró 4.877935409545898 Santiago Lo Espejo\n",
      "tiempo que lleva corriendo 5.588961573441823 Min\n"
     ]
    },
    {
     "name": "stderr",
     "output_type": "stream",
     "text": [
      "INFO:fbprophet:Disabling daily seasonality. Run prophet with daily_seasonality=True to override this.\n"
     ]
    },
    {
     "name": "stdout",
     "output_type": "stream",
     "text": [
      "El producto demoró 5.260761976242065 Santiago Lo Espejo\n",
      "tiempo que lleva corriendo 5.676640939712525 Min\n"
     ]
    },
    {
     "name": "stderr",
     "output_type": "stream",
     "text": [
      "INFO:fbprophet:Disabling daily seasonality. Run prophet with daily_seasonality=True to override this.\n"
     ]
    },
    {
     "name": "stdout",
     "output_type": "stream",
     "text": [
      "El producto demoró 5.836152791976929 Santiago Lo Espejo\n",
      "tiempo que lleva corriendo 5.773926858107249 Min\n"
     ]
    },
    {
     "name": "stderr",
     "output_type": "stream",
     "text": [
      "INFO:fbprophet:Disabling daily seasonality. Run prophet with daily_seasonality=True to override this.\n"
     ]
    },
    {
     "name": "stdout",
     "output_type": "stream",
     "text": [
      "El producto demoró 4.635380983352661 Santiago Lo Espejo\n",
      "tiempo que lleva corriendo 5.851191552480062 Min\n"
     ]
    },
    {
     "name": "stderr",
     "output_type": "stream",
     "text": [
      "INFO:fbprophet:Disabling daily seasonality. Run prophet with daily_seasonality=True to override this.\n"
     ]
    },
    {
     "name": "stdout",
     "output_type": "stream",
     "text": [
      "El producto demoró 3.76350474357605 Santiago Lo Espejo\n",
      "tiempo que lleva corriendo 5.913916631539663 Min\n"
     ]
    },
    {
     "name": "stderr",
     "output_type": "stream",
     "text": [
      "INFO:fbprophet:Disabling daily seasonality. Run prophet with daily_seasonality=True to override this.\n"
     ]
    },
    {
     "name": "stdout",
     "output_type": "stream",
     "text": [
      "El producto demoró 3.4965014457702637 Santiago Lo Espejo\n",
      "tiempo que lleva corriendo 5.97220827738444 Min\n"
     ]
    },
    {
     "name": "stderr",
     "output_type": "stream",
     "text": [
      "INFO:fbprophet:Disabling daily seasonality. Run prophet with daily_seasonality=True to override this.\n"
     ]
    },
    {
     "name": "stdout",
     "output_type": "stream",
     "text": [
      "El producto demoró 4.757657289505005 Santiago Lo Espejo\n",
      "tiempo que lleva corriendo 6.05151089032491 Min\n"
     ]
    },
    {
     "name": "stderr",
     "output_type": "stream",
     "text": [
      "INFO:fbprophet:Disabling daily seasonality. Run prophet with daily_seasonality=True to override this.\n"
     ]
    },
    {
     "name": "stdout",
     "output_type": "stream",
     "text": [
      "El producto demoró 5.218801498413086 Santiago Lo Espejo\n",
      "tiempo que lleva corriendo 6.138499224185944 Min\n"
     ]
    },
    {
     "name": "stderr",
     "output_type": "stream",
     "text": [
      "INFO:fbprophet:Disabling daily seasonality. Run prophet with daily_seasonality=True to override this.\n"
     ]
    },
    {
     "name": "stdout",
     "output_type": "stream",
     "text": [
      "El producto demoró 4.388363599777222 Santiago Lo Espejo\n",
      "tiempo que lleva corriendo 6.21165493329366 Min\n"
     ]
    },
    {
     "name": "stderr",
     "output_type": "stream",
     "text": [
      "INFO:fbprophet:Disabling daily seasonality. Run prophet with daily_seasonality=True to override this.\n"
     ]
    },
    {
     "name": "stdout",
     "output_type": "stream",
     "text": [
      "El producto demoró 4.557529926300049 Santiago Lo Espejo\n",
      "tiempo que lleva corriendo 6.287613765398661 Min\n"
     ]
    },
    {
     "name": "stderr",
     "output_type": "stream",
     "text": [
      "INFO:fbprophet:Disabling daily seasonality. Run prophet with daily_seasonality=True to override this.\n"
     ]
    },
    {
     "name": "stdout",
     "output_type": "stream",
     "text": [
      "El producto demoró 3.988585948944092 Santiago Lo Espejo\n",
      "tiempo que lleva corriendo 6.354106839497884 Min\n"
     ]
    },
    {
     "name": "stderr",
     "output_type": "stream",
     "text": [
      "INFO:fbprophet:Disabling daily seasonality. Run prophet with daily_seasonality=True to override this.\n",
      "INFO:fbprophet:n_changepoints greater than number of observations. Using 21.\n"
     ]
    },
    {
     "name": "stdout",
     "output_type": "stream",
     "text": [
      "El producto demoró 18.028759956359863 Santiago Lo Espejo\n",
      "tiempo que lleva corriendo 6.654785792032878 Min\n"
     ]
    },
    {
     "name": "stderr",
     "output_type": "stream",
     "text": [
      "INFO:fbprophet:Disabling daily seasonality. Run prophet with daily_seasonality=True to override this.\n",
      "INFO:fbprophet:n_changepoints greater than number of observations. Using 19.\n"
     ]
    },
    {
     "name": "stdout",
     "output_type": "stream",
     "text": [
      "El producto demoró 2.922584295272827 Santiago Lo Espejo\n",
      "tiempo que lleva corriendo 6.703495530287425 Min\n"
     ]
    },
    {
     "name": "stderr",
     "output_type": "stream",
     "text": [
      "INFO:fbprophet:Disabling daily seasonality. Run prophet with daily_seasonality=True to override this.\n"
     ]
    },
    {
     "name": "stdout",
     "output_type": "stream",
     "text": [
      "El producto demoró 3.2873713970184326 Santiago Lo Espejo\n",
      "tiempo que lleva corriendo 6.758293386300405 Min\n"
     ]
    },
    {
     "name": "stderr",
     "output_type": "stream",
     "text": [
      "INFO:fbprophet:Disabling daily seasonality. Run prophet with daily_seasonality=True to override this.\n"
     ]
    },
    {
     "name": "stdout",
     "output_type": "stream",
     "text": [
      "El producto demoró 2.9415323734283447 Santiago Lo Espejo\n",
      "tiempo que lleva corriendo 6.80732726653417 Min\n"
     ]
    },
    {
     "name": "stderr",
     "output_type": "stream",
     "text": [
      "INFO:fbprophet:Disabling daily seasonality. Run prophet with daily_seasonality=True to override this.\n",
      "INFO:fbprophet:n_changepoints greater than number of observations. Using 19.\n"
     ]
    },
    {
     "name": "stdout",
     "output_type": "stream",
     "text": [
      "El producto demoró 2.6286139488220215 Santiago Lo Espejo\n",
      "tiempo que lleva corriendo 6.851145803928375 Min\n"
     ]
    },
    {
     "name": "stderr",
     "output_type": "stream",
     "text": [
      "INFO:fbprophet:Disabling daily seasonality. Run prophet with daily_seasonality=True to override this.\n"
     ]
    },
    {
     "name": "stdout",
     "output_type": "stream",
     "text": [
      "El producto demoró 3.763505697250366 Santiago Lo Espejo\n",
      "tiempo que lleva corriendo 6.913870898882548 Min\n"
     ]
    },
    {
     "name": "stderr",
     "output_type": "stream",
     "text": [
      "INFO:fbprophet:Disabling daily seasonality. Run prophet with daily_seasonality=True to override this.\n"
     ]
    },
    {
     "name": "stdout",
     "output_type": "stream",
     "text": [
      "El producto demoró 4.0869059562683105 Santiago Lo Espejo\n",
      "tiempo que lleva corriendo 6.981994354724884 Min\n"
     ]
    },
    {
     "name": "stderr",
     "output_type": "stream",
     "text": [
      "INFO:fbprophet:Disabling daily seasonality. Run prophet with daily_seasonality=True to override this.\n"
     ]
    },
    {
     "name": "stdout",
     "output_type": "stream",
     "text": [
      "El producto demoró 3.642745018005371 Santiago Lo Espejo\n",
      "tiempo que lleva corriendo 7.042715092500051 Min\n"
     ]
    },
    {
     "name": "stderr",
     "output_type": "stream",
     "text": [
      "INFO:fbprophet:Disabling daily seasonality. Run prophet with daily_seasonality=True to override this.\n",
      "INFO:fbprophet:n_changepoints greater than number of observations. Using 12.\n"
     ]
    },
    {
     "name": "stdout",
     "output_type": "stream",
     "text": [
      "El producto demoró 3.0403339862823486 Santiago Lo Espejo\n",
      "tiempo que lleva corriendo 7.093395642439524 Min\n"
     ]
    },
    {
     "name": "stderr",
     "output_type": "stream",
     "text": [
      "INFO:fbprophet:Disabling daily seasonality. Run prophet with daily_seasonality=True to override this.\n"
     ]
    },
    {
     "name": "stdout",
     "output_type": "stream",
     "text": [
      "El producto demoró 76.11308455467224 Santiago Lo Espejo\n",
      "tiempo que lleva corriendo 8.361971763769786 Min\n"
     ]
    },
    {
     "name": "stderr",
     "output_type": "stream",
     "text": [
      "INFO:fbprophet:Disabling daily seasonality. Run prophet with daily_seasonality=True to override this.\n"
     ]
    },
    {
     "name": "stdout",
     "output_type": "stream",
     "text": [
      "El producto demoró 2.9839096069335938 Santiago Lo Espejo\n",
      "tiempo que lleva corriendo 8.411703590552012 Min\n"
     ]
    },
    {
     "name": "stderr",
     "output_type": "stream",
     "text": [
      "INFO:fbprophet:Disabling daily seasonality. Run prophet with daily_seasonality=True to override this.\n"
     ]
    },
    {
     "name": "stdout",
     "output_type": "stream",
     "text": [
      "El producto demoró 2.459426164627075 Santiago Lo Espejo\n",
      "tiempo que lleva corriendo 8.45269402662913 Min\n"
     ]
    },
    {
     "name": "stderr",
     "output_type": "stream",
     "text": [
      "INFO:fbprophet:Disabling daily seasonality. Run prophet with daily_seasonality=True to override this.\n"
     ]
    },
    {
     "name": "stdout",
     "output_type": "stream",
     "text": [
      "El producto demoró 4.963314056396484 Santiago Lo Espejo\n",
      "tiempo que lleva corriendo 8.535573788483937 Min\n"
     ]
    },
    {
     "name": "stderr",
     "output_type": "stream",
     "text": [
      "INFO:fbprophet:Disabling daily seasonality. Run prophet with daily_seasonality=True to override this.\n"
     ]
    },
    {
     "name": "stdout",
     "output_type": "stream",
     "text": [
      "El producto demoró 2.60319185256958 Santiago Lo Espejo\n",
      "tiempo que lleva corriendo 8.578968636194865 Min\n"
     ]
    },
    {
     "name": "stderr",
     "output_type": "stream",
     "text": [
      "INFO:fbprophet:Disabling daily seasonality. Run prophet with daily_seasonality=True to override this.\n"
     ]
    },
    {
     "name": "stdout",
     "output_type": "stream",
     "text": [
      "El producto demoró 2.8362104892730713 Santiago Lo Espejo\n",
      "tiempo que lleva corriendo 8.626238811016083 Min\n"
     ]
    },
    {
     "name": "stderr",
     "output_type": "stream",
     "text": [
      "INFO:fbprophet:Disabling daily seasonality. Run prophet with daily_seasonality=True to override this.\n"
     ]
    },
    {
     "name": "stdout",
     "output_type": "stream",
     "text": [
      "El producto demoró 2.686025857925415 Santiago Lo Espejo\n",
      "tiempo que lleva corriendo 8.671014233430226 Min\n"
     ]
    },
    {
     "name": "stderr",
     "output_type": "stream",
     "text": [
      "INFO:fbprophet:Disabling daily seasonality. Run prophet with daily_seasonality=True to override this.\n"
     ]
    },
    {
     "name": "stdout",
     "output_type": "stream",
     "text": [
      "El producto demoró 2.735914945602417 Santiago Lo Espejo\n",
      "tiempo que lleva corriendo 8.716620862483978 Min\n"
     ]
    },
    {
     "name": "stderr",
     "output_type": "stream",
     "text": [
      "INFO:fbprophet:Disabling daily seasonality. Run prophet with daily_seasonality=True to override this.\n"
     ]
    },
    {
     "name": "stdout",
     "output_type": "stream",
     "text": [
      "El producto demoró 2.6520705223083496 Santiago Lo Espejo\n",
      "tiempo que lleva corriendo 8.760830362637838 Min\n"
     ]
    },
    {
     "name": "stderr",
     "output_type": "stream",
     "text": [
      "INFO:fbprophet:Disabling daily seasonality. Run prophet with daily_seasonality=True to override this.\n"
     ]
    },
    {
     "name": "stdout",
     "output_type": "stream",
     "text": [
      "El producto demoró 2.5587613582611084 Santiago Lo Espejo\n",
      "tiempo que lleva corriendo 8.803476385275523 Min\n"
     ]
    },
    {
     "name": "stderr",
     "output_type": "stream",
     "text": [
      "INFO:fbprophet:Disabling daily seasonality. Run prophet with daily_seasonality=True to override this.\n"
     ]
    },
    {
     "name": "stdout",
     "output_type": "stream",
     "text": [
      "El producto demoró 3.1566929817199707 Santiago Lo Espejo\n",
      "tiempo que lleva corriendo 8.856095945835113 Min\n"
     ]
    },
    {
     "name": "stderr",
     "output_type": "stream",
     "text": [
      "INFO:fbprophet:Disabling daily seasonality. Run prophet with daily_seasonality=True to override this.\n"
     ]
    },
    {
     "name": "stdout",
     "output_type": "stream",
     "text": [
      "El producto demoró 3.378431797027588 Santiago Lo Espejo\n",
      "tiempo que lleva corriendo 8.912419458230337 Min\n"
     ]
    },
    {
     "name": "stderr",
     "output_type": "stream",
     "text": [
      "INFO:fbprophet:Disabling weekly seasonality. Run prophet with weekly_seasonality=True to override this.\n",
      "INFO:fbprophet:Disabling daily seasonality. Run prophet with daily_seasonality=True to override this.\n",
      "INFO:fbprophet:n_changepoints greater than number of observations. Using 7.\n"
     ]
    },
    {
     "name": "stdout",
     "output_type": "stream",
     "text": [
      "El producto demoró 3.9272005558013916 Santiago Lo Espejo\n",
      "tiempo que lleva corriendo 8.977881129582723 Min\n"
     ]
    },
    {
     "name": "stderr",
     "output_type": "stream",
     "text": [
      "INFO:fbprophet:Disabling daily seasonality. Run prophet with daily_seasonality=True to override this.\n"
     ]
    },
    {
     "name": "stdout",
     "output_type": "stream",
     "text": [
      "El producto demoró 31.100831747055054 Santiago Lo Espejo\n",
      "tiempo que lleva corriendo 9.496228325366975 Min\n"
     ]
    },
    {
     "name": "stderr",
     "output_type": "stream",
     "text": [
      "INFO:fbprophet:Disabling daily seasonality. Run prophet with daily_seasonality=True to override this.\n"
     ]
    },
    {
     "name": "stdout",
     "output_type": "stream",
     "text": [
      "El producto demoró 3.299867630004883 Santiago Lo Espejo\n",
      "tiempo que lleva corriendo 9.551234126091003 Min\n"
     ]
    },
    {
     "name": "stderr",
     "output_type": "stream",
     "text": [
      "INFO:fbprophet:Disabling daily seasonality. Run prophet with daily_seasonality=True to override this.\n"
     ]
    },
    {
     "name": "stdout",
     "output_type": "stream",
     "text": [
      "El producto demoró 3.6552064418792725 Santiago Lo Espejo\n",
      "tiempo que lleva corriendo 9.612154233455659 Min\n",
      "Sucursal Miraflores\n"
     ]
    },
    {
     "name": "stderr",
     "output_type": "stream",
     "text": [
      "INFO:fbprophet:Disabling daily seasonality. Run prophet with daily_seasonality=True to override this.\n"
     ]
    },
    {
     "name": "stdout",
     "output_type": "stream",
     "text": [
      "El producto demoró 2.6595754623413086 Santiago Sucursal Miraflores\n",
      "tiempo que lleva corriendo 9.657037798563639 Min\n"
     ]
    },
    {
     "name": "stderr",
     "output_type": "stream",
     "text": [
      "INFO:fbprophet:Disabling daily seasonality. Run prophet with daily_seasonality=True to override this.\n"
     ]
    },
    {
     "name": "stdout",
     "output_type": "stream",
     "text": [
      "El producto demoró 2.7948057651519775 Santiago Sucursal Miraflores\n",
      "tiempo que lleva corriendo 9.703625969092052 Min\n"
     ]
    },
    {
     "name": "stderr",
     "output_type": "stream",
     "text": [
      "INFO:fbprophet:Disabling daily seasonality. Run prophet with daily_seasonality=True to override this.\n"
     ]
    },
    {
     "name": "stdout",
     "output_type": "stream",
     "text": [
      "El producto demoró 3.3208353519439697 Santiago Sucursal Miraflores\n",
      "tiempo que lleva corriendo 9.758973224957783 Min\n"
     ]
    },
    {
     "name": "stderr",
     "output_type": "stream",
     "text": [
      "INFO:fbprophet:Disabling daily seasonality. Run prophet with daily_seasonality=True to override this.\n"
     ]
    },
    {
     "name": "stdout",
     "output_type": "stream",
     "text": [
      "El producto demoró 3.014390230178833 Santiago Sucursal Miraflores\n",
      "tiempo que lleva corriendo 9.809213062127432 Min\n"
     ]
    },
    {
     "name": "stderr",
     "output_type": "stream",
     "text": [
      "INFO:fbprophet:Disabling daily seasonality. Run prophet with daily_seasonality=True to override this.\n"
     ]
    },
    {
     "name": "stdout",
     "output_type": "stream",
     "text": [
      "El producto demoró 2.944542169570923 Santiago Sucursal Miraflores\n",
      "tiempo que lleva corriendo 9.858296819527943 Min\n"
     ]
    },
    {
     "name": "stderr",
     "output_type": "stream",
     "text": [
      "INFO:fbprophet:Disabling daily seasonality. Run prophet with daily_seasonality=True to override this.\n"
     ]
    },
    {
     "name": "stdout",
     "output_type": "stream",
     "text": [
      "El producto demoró 2.925288438796997 Santiago Sucursal Miraflores\n",
      "tiempo que lleva corriendo 9.90706821680069 Min\n"
     ]
    },
    {
     "name": "stderr",
     "output_type": "stream",
     "text": [
      "INFO:fbprophet:Disabling daily seasonality. Run prophet with daily_seasonality=True to override this.\n"
     ]
    },
    {
     "name": "stdout",
     "output_type": "stream",
     "text": [
      "El producto demoró 3.1669371128082275 Santiago Sucursal Miraflores\n",
      "tiempo que lleva corriendo 9.959858508904775 Min\n"
     ]
    },
    {
     "name": "stderr",
     "output_type": "stream",
     "text": [
      "INFO:fbprophet:Disabling daily seasonality. Run prophet with daily_seasonality=True to override this.\n"
     ]
    },
    {
     "name": "stdout",
     "output_type": "stream",
     "text": [
      "El producto demoró 2.5342905521392822 Santiago Sucursal Miraflores\n",
      "tiempo que lleva corriendo 10.00211192369461 Min\n"
     ]
    },
    {
     "name": "stderr",
     "output_type": "stream",
     "text": [
      "INFO:fbprophet:Disabling daily seasonality. Run prophet with daily_seasonality=True to override this.\n"
     ]
    },
    {
     "name": "stdout",
     "output_type": "stream",
     "text": [
      "El producto demoró 3.978628158569336 Santiago Sucursal Miraflores\n",
      "tiempo que lleva corriendo 10.0684223930041 Min\n"
     ]
    },
    {
     "name": "stderr",
     "output_type": "stream",
     "text": [
      "INFO:fbprophet:Disabling daily seasonality. Run prophet with daily_seasonality=True to override this.\n"
     ]
    },
    {
     "name": "stdout",
     "output_type": "stream",
     "text": [
      "El producto demoró 3.7145776748657227 Santiago Sucursal Miraflores\n",
      "tiempo que lleva corriendo 10.130340341726939 Min\n"
     ]
    },
    {
     "name": "stderr",
     "output_type": "stream",
     "text": [
      "INFO:fbprophet:Disabling daily seasonality. Run prophet with daily_seasonality=True to override this.\n"
     ]
    },
    {
     "name": "stdout",
     "output_type": "stream",
     "text": [
      "El producto demoró 3.235006332397461 Santiago Sucursal Miraflores\n",
      "tiempo que lleva corriendo 10.184257113933564 Min\n"
     ]
    },
    {
     "name": "stderr",
     "output_type": "stream",
     "text": [
      "INFO:fbprophet:Disabling daily seasonality. Run prophet with daily_seasonality=True to override this.\n"
     ]
    },
    {
     "name": "stdout",
     "output_type": "stream",
     "text": [
      "El producto demoró 3.7227048873901367 Santiago Sucursal Miraflores\n",
      "tiempo que lleva corriendo 10.246310492356619 Min\n"
     ]
    },
    {
     "name": "stderr",
     "output_type": "stream",
     "text": [
      "INFO:fbprophet:Disabling daily seasonality. Run prophet with daily_seasonality=True to override this.\n"
     ]
    },
    {
     "name": "stdout",
     "output_type": "stream",
     "text": [
      "El producto demoró 4.254592180252075 Santiago Sucursal Miraflores\n",
      "tiempo que lleva corriendo 10.31722867488861 Min\n"
     ]
    },
    {
     "name": "stderr",
     "output_type": "stream",
     "text": [
      "INFO:fbprophet:Disabling daily seasonality. Run prophet with daily_seasonality=True to override this.\n"
     ]
    },
    {
     "name": "stdout",
     "output_type": "stream",
     "text": [
      "El producto demoró 3.738555908203125 Santiago Sucursal Miraflores\n",
      "tiempo que lleva corriendo 10.379720938205718 Min\n"
     ]
    },
    {
     "name": "stderr",
     "output_type": "stream",
     "text": [
      "INFO:fbprophet:Disabling daily seasonality. Run prophet with daily_seasonality=True to override this.\n"
     ]
    },
    {
     "name": "stdout",
     "output_type": "stream",
     "text": [
      "El producto demoró 4.175221920013428 Santiago Sucursal Miraflores\n",
      "tiempo que lleva corriendo 10.449307970205943 Min\n"
     ]
    },
    {
     "name": "stderr",
     "output_type": "stream",
     "text": [
      "INFO:fbprophet:Disabling daily seasonality. Run prophet with daily_seasonality=True to override this.\n"
     ]
    },
    {
     "name": "stdout",
     "output_type": "stream",
     "text": [
      "El producto demoró 2.509756088256836 Santiago Sucursal Miraflores\n",
      "tiempo que lleva corriendo 10.491156729062398 Min\n"
     ]
    },
    {
     "name": "stderr",
     "output_type": "stream",
     "text": [
      "INFO:fbprophet:Disabling daily seasonality. Run prophet with daily_seasonality=True to override this.\n"
     ]
    },
    {
     "name": "stdout",
     "output_type": "stream",
     "text": [
      "El producto demoró 3.292386054992676 Santiago Sucursal Miraflores\n",
      "tiempo que lleva corriendo 10.54603813489278 Min\n"
     ]
    },
    {
     "name": "stderr",
     "output_type": "stream",
     "text": [
      "INFO:fbprophet:Disabling daily seasonality. Run prophet with daily_seasonality=True to override this.\n"
     ]
    },
    {
     "name": "stdout",
     "output_type": "stream",
     "text": [
      "El producto demoró 5.4049012660980225 Santiago Sucursal Miraflores\n",
      "tiempo que lleva corriendo 10.636128143469493 Min\n"
     ]
    },
    {
     "name": "stderr",
     "output_type": "stream",
     "text": [
      "INFO:fbprophet:Disabling daily seasonality. Run prophet with daily_seasonality=True to override this.\n"
     ]
    },
    {
     "name": "stdout",
     "output_type": "stream",
     "text": [
      "El producto demoró 2.41003155708313 Santiago Sucursal Miraflores\n",
      "tiempo que lleva corriendo 10.67630358139674 Min\n"
     ]
    },
    {
     "name": "stderr",
     "output_type": "stream",
     "text": [
      "INFO:fbprophet:Disabling daily seasonality. Run prophet with daily_seasonality=True to override this.\n"
     ]
    },
    {
     "name": "stdout",
     "output_type": "stream",
     "text": [
      "El producto demoró 2.503843307495117 Santiago Sucursal Miraflores\n",
      "tiempo que lleva corriendo 10.718034303188324 Min\n"
     ]
    },
    {
     "name": "stderr",
     "output_type": "stream",
     "text": [
      "INFO:fbprophet:Disabling daily seasonality. Run prophet with daily_seasonality=True to override this.\n"
     ]
    },
    {
     "name": "stdout",
     "output_type": "stream",
     "text": [
      "El producto demoró 2.5752108097076416 Santiago Sucursal Miraflores\n",
      "tiempo que lleva corriendo 10.760954483350117 Min\n"
     ]
    },
    {
     "name": "stderr",
     "output_type": "stream",
     "text": [
      "INFO:fbprophet:Disabling daily seasonality. Run prophet with daily_seasonality=True to override this.\n"
     ]
    },
    {
     "name": "stdout",
     "output_type": "stream",
     "text": [
      "El producto demoró 2.707469940185547 Santiago Sucursal Miraflores\n",
      "tiempo que lleva corriendo 10.806095631917318 Min\n"
     ]
    },
    {
     "name": "stderr",
     "output_type": "stream",
     "text": [
      "INFO:fbprophet:Disabling daily seasonality. Run prophet with daily_seasonality=True to override this.\n",
      "INFO:fbprophet:n_changepoints greater than number of observations. Using 7.\n"
     ]
    },
    {
     "name": "stdout",
     "output_type": "stream",
     "text": [
      "El producto demoró 3.1037275791168213 Santiago Sucursal Miraflores\n",
      "tiempo que lleva corriendo 10.857849391301473 Min\n"
     ]
    },
    {
     "name": "stderr",
     "output_type": "stream",
     "text": [
      "INFO:fbprophet:Disabling daily seasonality. Run prophet with daily_seasonality=True to override this.\n"
     ]
    },
    {
     "name": "stdout",
     "output_type": "stream",
     "text": [
      "El producto demoró 39.990593671798706 Santiago Sucursal Miraflores\n",
      "tiempo que lleva corriendo 11.524359285831451 Min\n"
     ]
    },
    {
     "name": "stderr",
     "output_type": "stream",
     "text": [
      "INFO:fbprophet:Disabling daily seasonality. Run prophet with daily_seasonality=True to override this.\n"
     ]
    },
    {
     "name": "stdout",
     "output_type": "stream",
     "text": [
      "El producto demoró 2.710883617401123 Santiago Sucursal Miraflores\n",
      "tiempo que lleva corriendo 11.569549000263214 Min\n"
     ]
    },
    {
     "name": "stderr",
     "output_type": "stream",
     "text": [
      "INFO:fbprophet:Disabling daily seasonality. Run prophet with daily_seasonality=True to override this.\n"
     ]
    },
    {
     "name": "stdout",
     "output_type": "stream",
     "text": [
      "El producto demoró 2.635084390640259 Santiago Sucursal Miraflores\n",
      "tiempo que lleva corriendo 11.613475390275319 Min\n"
     ]
    },
    {
     "name": "stderr",
     "output_type": "stream",
     "text": [
      "INFO:fbprophet:Disabling daily seasonality. Run prophet with daily_seasonality=True to override this.\n",
      "INFO:fbprophet:n_changepoints greater than number of observations. Using 23.\n"
     ]
    },
    {
     "name": "stdout",
     "output_type": "stream",
     "text": [
      "El producto demoró 2.9495184421539307 Santiago Sucursal Miraflores\n",
      "tiempo que lleva corriendo 11.662808712323507 Min\n"
     ]
    },
    {
     "name": "stderr",
     "output_type": "stream",
     "text": [
      "INFO:fbprophet:Disabling daily seasonality. Run prophet with daily_seasonality=True to override this.\n"
     ]
    },
    {
     "name": "stdout",
     "output_type": "stream",
     "text": [
      "El producto demoró 3.6876654624938965 Santiago Sucursal Miraflores\n",
      "tiempo que lleva corriendo 11.724286425113679 Min\n"
     ]
    },
    {
     "name": "stderr",
     "output_type": "stream",
     "text": [
      "INFO:fbprophet:Disabling daily seasonality. Run prophet with daily_seasonality=True to override this.\n"
     ]
    },
    {
     "name": "stdout",
     "output_type": "stream",
     "text": [
      "El producto demoró 2.5492446422576904 Santiago Sucursal Miraflores\n",
      "tiempo que lleva corriendo 11.766798810164135 Min\n"
     ]
    },
    {
     "name": "stderr",
     "output_type": "stream",
     "text": [
      "INFO:fbprophet:Disabling daily seasonality. Run prophet with daily_seasonality=True to override this.\n"
     ]
    },
    {
     "name": "stdout",
     "output_type": "stream",
     "text": [
      "El producto demoró 2.7234363555908203 Santiago Sucursal Miraflores\n",
      "tiempo que lleva corriendo 11.812197756767272 Min\n"
     ]
    },
    {
     "name": "stderr",
     "output_type": "stream",
     "text": [
      "INFO:fbprophet:Disabling daily seasonality. Run prophet with daily_seasonality=True to override this.\n"
     ]
    },
    {
     "name": "stdout",
     "output_type": "stream",
     "text": [
      "El producto demoró 3.3717310428619385 Santiago Sucursal Miraflores\n",
      "tiempo que lleva corriendo 11.868393274148305 Min\n"
     ]
    },
    {
     "name": "stderr",
     "output_type": "stream",
     "text": [
      "INFO:fbprophet:Disabling daily seasonality. Run prophet with daily_seasonality=True to override this.\n"
     ]
    },
    {
     "name": "stdout",
     "output_type": "stream",
     "text": [
      "El producto demoró 3.039370536804199 Santiago Sucursal Miraflores\n",
      "tiempo que lleva corriendo 11.919057770570118 Min\n"
     ]
    },
    {
     "name": "stderr",
     "output_type": "stream",
     "text": [
      "INFO:fbprophet:Disabling daily seasonality. Run prophet with daily_seasonality=True to override this.\n"
     ]
    },
    {
     "name": "stdout",
     "output_type": "stream",
     "text": [
      "El producto demoró 2.542492628097534 Santiago Sucursal Miraflores\n",
      "tiempo que lleva corriendo 11.96144098440806 Min\n"
     ]
    },
    {
     "name": "stderr",
     "output_type": "stream",
     "text": [
      "INFO:fbprophet:Disabling daily seasonality. Run prophet with daily_seasonality=True to override this.\n"
     ]
    },
    {
     "name": "stdout",
     "output_type": "stream",
     "text": [
      "El producto demoró 3.259441375732422 Santiago Sucursal Miraflores\n",
      "tiempo que lleva corriendo 12.015765007336935 Min\n"
     ]
    },
    {
     "name": "stderr",
     "output_type": "stream",
     "text": [
      "INFO:fbprophet:Disabling daily seasonality. Run prophet with daily_seasonality=True to override this.\n"
     ]
    },
    {
     "name": "stdout",
     "output_type": "stream",
     "text": [
      "El producto demoró 3.564859628677368 Santiago Sucursal Miraflores\n",
      "tiempo que lleva corriendo 12.075187651316325 Min\n"
     ]
    },
    {
     "name": "stderr",
     "output_type": "stream",
     "text": [
      "INFO:fbprophet:Disabling daily seasonality. Run prophet with daily_seasonality=True to override this.\n"
     ]
    },
    {
     "name": "stdout",
     "output_type": "stream",
     "text": [
      "El producto demoró 3.9791016578674316 Santiago Sucursal Miraflores\n",
      "tiempo que lleva corriendo 12.141514325141907 Min\n"
     ]
    },
    {
     "name": "stderr",
     "output_type": "stream",
     "text": [
      "INFO:fbprophet:Disabling daily seasonality. Run prophet with daily_seasonality=True to override this.\n"
     ]
    },
    {
     "name": "stdout",
     "output_type": "stream",
     "text": [
      "El producto demoró 2.7374308109283447 Santiago Sucursal Miraflores\n",
      "tiempo que lleva corriendo 12.187138171990712 Min\n"
     ]
    },
    {
     "name": "stderr",
     "output_type": "stream",
     "text": [
      "INFO:fbprophet:Disabling daily seasonality. Run prophet with daily_seasonality=True to override this.\n"
     ]
    },
    {
     "name": "stdout",
     "output_type": "stream",
     "text": [
      "El producto demoró 3.874284029006958 Santiago Sucursal Miraflores\n",
      "tiempo que lleva corriendo 12.25171788930893 Min\n"
     ]
    },
    {
     "name": "stderr",
     "output_type": "stream",
     "text": [
      "INFO:fbprophet:Disabling daily seasonality. Run prophet with daily_seasonality=True to override this.\n",
      "INFO:fbprophet:n_changepoints greater than number of observations. Using 9.\n"
     ]
    },
    {
     "name": "stdout",
     "output_type": "stream",
     "text": [
      "El producto demoró 2.8956165313720703 Santiago Sucursal Miraflores\n",
      "tiempo que lleva corriendo 12.299986485640208 Min\n"
     ]
    },
    {
     "name": "stderr",
     "output_type": "stream",
     "text": [
      "INFO:fbprophet:Disabling daily seasonality. Run prophet with daily_seasonality=True to override this.\n",
      "INFO:fbprophet:n_changepoints greater than number of observations. Using 19.\n"
     ]
    },
    {
     "name": "stdout",
     "output_type": "stream",
     "text": [
      "El producto demoró 50.573673486709595 Santiago Sucursal Miraflores\n",
      "tiempo que lleva corriendo 13.143014113108316 Min\n"
     ]
    },
    {
     "name": "stderr",
     "output_type": "stream",
     "text": [
      "INFO:fbprophet:Disabling weekly seasonality. Run prophet with weekly_seasonality=True to override this.\n",
      "INFO:fbprophet:Disabling daily seasonality. Run prophet with daily_seasonality=True to override this.\n",
      "INFO:fbprophet:n_changepoints greater than number of observations. Using 1.\n"
     ]
    },
    {
     "name": "stdout",
     "output_type": "stream",
     "text": [
      "El producto demoró 122.85908913612366 Santiago Sucursal Miraflores\n",
      "tiempo que lleva corriendo 15.190665598710378 Min\n"
     ]
    },
    {
     "name": "stderr",
     "output_type": "stream",
     "text": [
      "INFO:fbprophet:Disabling weekly seasonality. Run prophet with weekly_seasonality=True to override this.\n",
      "INFO:fbprophet:Disabling daily seasonality. Run prophet with daily_seasonality=True to override this.\n",
      "INFO:fbprophet:n_changepoints greater than number of observations. Using 2.\n"
     ]
    },
    {
     "name": "stdout",
     "output_type": "stream",
     "text": [
      "El producto demoró 2.896601676940918 Santiago Sucursal Miraflores\n",
      "tiempo que lleva corriendo 15.23894229332606 Min\n"
     ]
    },
    {
     "name": "stderr",
     "output_type": "stream",
     "text": [
      "INFO:fbprophet:Disabling daily seasonality. Run prophet with daily_seasonality=True to override this.\n"
     ]
    },
    {
     "name": "stdout",
     "output_type": "stream",
     "text": [
      "El producto demoró 2.0217578411102295 Santiago Sucursal Miraflores\n",
      "tiempo que lleva corriendo 15.272638257344564 Min\n",
      "El producto demoró 6.147587776184082 Santiago Sucursal Miraflores\n",
      "tiempo que lleva corriendo 15.375122511386872 Min\n",
      "Centro Norte\n"
     ]
    },
    {
     "name": "stderr",
     "output_type": "stream",
     "text": [
      "INFO:fbprophet:Disabling daily seasonality. Run prophet with daily_seasonality=True to override this.\n"
     ]
    },
    {
     "name": "stdout",
     "output_type": "stream",
     "text": [
      "Coquimbo\n"
     ]
    },
    {
     "name": "stderr",
     "output_type": "stream",
     "text": [
      "INFO:fbprophet:Disabling daily seasonality. Run prophet with daily_seasonality=True to override this.\n"
     ]
    },
    {
     "name": "stdout",
     "output_type": "stream",
     "text": [
      "El producto demoró 3.1910510063171387 Centro Norte Coquimbo\n",
      "tiempo que lleva corriendo 15.433538913726807 Min\n"
     ]
    },
    {
     "name": "stderr",
     "output_type": "stream",
     "text": [
      "INFO:fbprophet:Disabling daily seasonality. Run prophet with daily_seasonality=True to override this.\n"
     ]
    },
    {
     "name": "stdout",
     "output_type": "stream",
     "text": [
      "El producto demoró 2.7848219871520996 Centro Norte Coquimbo\n",
      "tiempo que lleva corriendo 15.479960993925731 Min\n"
     ]
    },
    {
     "name": "stderr",
     "output_type": "stream",
     "text": [
      "INFO:fbprophet:Disabling daily seasonality. Run prophet with daily_seasonality=True to override this.\n"
     ]
    },
    {
     "name": "stdout",
     "output_type": "stream",
     "text": [
      "El producto demoró 3.965121269226074 Centro Norte Coquimbo\n",
      "tiempo que lleva corriendo 15.546054852008819 Min\n"
     ]
    },
    {
     "name": "stderr",
     "output_type": "stream",
     "text": [
      "INFO:fbprophet:Disabling daily seasonality. Run prophet with daily_seasonality=True to override this.\n"
     ]
    },
    {
     "name": "stdout",
     "output_type": "stream",
     "text": [
      "El producto demoró 4.100990056991577 Centro Norte Coquimbo\n",
      "tiempo que lleva corriendo 15.614412999153137 Min\n"
     ]
    },
    {
     "name": "stderr",
     "output_type": "stream",
     "text": [
      "INFO:fbprophet:Disabling daily seasonality. Run prophet with daily_seasonality=True to override this.\n"
     ]
    },
    {
     "name": "stdout",
     "output_type": "stream",
     "text": [
      "El producto demoró 3.7320644855499268 Centro Norte Coquimbo\n",
      "tiempo que lleva corriendo 15.676630743344624 Min\n"
     ]
    },
    {
     "name": "stderr",
     "output_type": "stream",
     "text": [
      "INFO:fbprophet:Disabling daily seasonality. Run prophet with daily_seasonality=True to override this.\n"
     ]
    },
    {
     "name": "stdout",
     "output_type": "stream",
     "text": [
      "El producto demoró 4.055480003356934 Centro Norte Coquimbo\n",
      "tiempo que lleva corriendo 15.744238372643789 Min\n"
     ]
    },
    {
     "name": "stderr",
     "output_type": "stream",
     "text": [
      "INFO:fbprophet:Disabling daily seasonality. Run prophet with daily_seasonality=True to override this.\n"
     ]
    },
    {
     "name": "stdout",
     "output_type": "stream",
     "text": [
      "El producto demoró 3.8089208602905273 Centro Norte Coquimbo\n",
      "tiempo que lleva corriendo 15.807728703816732 Min\n"
     ]
    },
    {
     "name": "stderr",
     "output_type": "stream",
     "text": [
      "INFO:fbprophet:Disabling daily seasonality. Run prophet with daily_seasonality=True to override this.\n"
     ]
    },
    {
     "name": "stdout",
     "output_type": "stream",
     "text": [
      "El producto demoró 2.819279432296753 Centro Norte Coquimbo\n",
      "tiempo que lleva corriendo 15.854724713166554 Min\n"
     ]
    },
    {
     "name": "stderr",
     "output_type": "stream",
     "text": [
      "INFO:fbprophet:Disabling daily seasonality. Run prophet with daily_seasonality=True to override this.\n"
     ]
    },
    {
     "name": "stdout",
     "output_type": "stream",
     "text": [
      "El producto demoró 5.237265586853027 Centro Norte Coquimbo\n",
      "tiempo que lleva corriendo 15.942020833492279 Min\n"
     ]
    },
    {
     "name": "stderr",
     "output_type": "stream",
     "text": [
      "INFO:fbprophet:Disabling daily seasonality. Run prophet with daily_seasonality=True to override this.\n"
     ]
    },
    {
     "name": "stdout",
     "output_type": "stream",
     "text": [
      "El producto demoró 5.495283842086792 Centro Norte Coquimbo\n",
      "tiempo que lleva corriendo 16.03361721833547 Min\n"
     ]
    },
    {
     "name": "stderr",
     "output_type": "stream",
     "text": [
      "INFO:fbprophet:Disabling daily seasonality. Run prophet with daily_seasonality=True to override this.\n"
     ]
    },
    {
     "name": "stdout",
     "output_type": "stream",
     "text": [
      "El producto demoró 3.898754119873047 Centro Norte Coquimbo\n",
      "tiempo que lleva corriendo 16.098604770501456 Min\n"
     ]
    },
    {
     "name": "stderr",
     "output_type": "stream",
     "text": [
      "INFO:fbprophet:Disabling daily seasonality. Run prophet with daily_seasonality=True to override this.\n"
     ]
    },
    {
     "name": "stdout",
     "output_type": "stream",
     "text": [
      "El producto demoró 6.354191064834595 Centro Norte Coquimbo\n",
      "tiempo que lleva corriendo 16.204507954915364 Min\n"
     ]
    },
    {
     "name": "stderr",
     "output_type": "stream",
     "text": [
      "INFO:fbprophet:Disabling daily seasonality. Run prophet with daily_seasonality=True to override this.\n"
     ]
    },
    {
     "name": "stdout",
     "output_type": "stream",
     "text": [
      "El producto demoró 3.541917562484741 Centro Norte Coquimbo\n",
      "tiempo que lleva corriendo 16.263556547959645 Min\n"
     ]
    },
    {
     "name": "stderr",
     "output_type": "stream",
     "text": [
      "INFO:fbprophet:Disabling daily seasonality. Run prophet with daily_seasonality=True to override this.\n"
     ]
    },
    {
     "name": "stdout",
     "output_type": "stream",
     "text": [
      "El producto demoró 3.0748040676116943 Centro Norte Coquimbo\n",
      "tiempo que lleva corriendo 16.31498628060023 Min\n"
     ]
    },
    {
     "name": "stderr",
     "output_type": "stream",
     "text": [
      "INFO:fbprophet:Disabling daily seasonality. Run prophet with daily_seasonality=True to override this.\n"
     ]
    },
    {
     "name": "stdout",
     "output_type": "stream",
     "text": [
      "El producto demoró 4.529064178466797 Centro Norte Coquimbo\n",
      "tiempo que lleva corriendo 16.39047900438309 Min\n"
     ]
    },
    {
     "name": "stderr",
     "output_type": "stream",
     "text": [
      "INFO:fbprophet:Disabling daily seasonality. Run prophet with daily_seasonality=True to override this.\n"
     ]
    },
    {
     "name": "stdout",
     "output_type": "stream",
     "text": [
      "El producto demoró 2.840446949005127 Centro Norte Coquimbo\n",
      "tiempo que lleva corriendo 16.437819786866505 Min\n"
     ]
    },
    {
     "name": "stderr",
     "output_type": "stream",
     "text": [
      "INFO:fbprophet:Disabling daily seasonality. Run prophet with daily_seasonality=True to override this.\n"
     ]
    },
    {
     "name": "stdout",
     "output_type": "stream",
     "text": [
      "El producto demoró 2.5961928367614746 Centro Norte Coquimbo\n",
      "tiempo que lleva corriendo 16.4810976823171 Min\n"
     ]
    },
    {
     "name": "stderr",
     "output_type": "stream",
     "text": [
      "INFO:fbprophet:Disabling daily seasonality. Run prophet with daily_seasonality=True to override this.\n"
     ]
    },
    {
     "name": "stdout",
     "output_type": "stream",
     "text": [
      "El producto demoró 3.573341131210327 Centro Norte Coquimbo\n",
      "tiempo que lleva corriendo 16.540661720434823 Min\n"
     ]
    },
    {
     "name": "stderr",
     "output_type": "stream",
     "text": [
      "INFO:fbprophet:Disabling daily seasonality. Run prophet with daily_seasonality=True to override this.\n"
     ]
    },
    {
     "name": "stdout",
     "output_type": "stream",
     "text": [
      "El producto demoró 3.933206081390381 Centro Norte Coquimbo\n",
      "tiempo que lleva corriendo 16.606215155124666 Min\n"
     ]
    },
    {
     "name": "stderr",
     "output_type": "stream",
     "text": [
      "INFO:fbprophet:Disabling daily seasonality. Run prophet with daily_seasonality=True to override this.\n"
     ]
    },
    {
     "name": "stdout",
     "output_type": "stream",
     "text": [
      "El producto demoró 2.4010560512542725 Centro Norte Coquimbo\n",
      "tiempo que lleva corriendo 16.646257400512695 Min\n"
     ]
    },
    {
     "name": "stderr",
     "output_type": "stream",
     "text": [
      "INFO:fbprophet:Disabling daily seasonality. Run prophet with daily_seasonality=True to override this.\n"
     ]
    },
    {
     "name": "stdout",
     "output_type": "stream",
     "text": [
      "El producto demoró 3.083252191543579 Centro Norte Coquimbo\n",
      "tiempo que lleva corriendo 16.697653237978617 Min\n"
     ]
    },
    {
     "name": "stderr",
     "output_type": "stream",
     "text": [
      "INFO:fbprophet:Disabling daily seasonality. Run prophet with daily_seasonality=True to override this.\n"
     ]
    },
    {
     "name": "stdout",
     "output_type": "stream",
     "text": [
      "El producto demoró 4.285037040710449 Centro Norte Coquimbo\n",
      "tiempo que lleva corriendo 16.769070521990457 Min\n"
     ]
    },
    {
     "name": "stderr",
     "output_type": "stream",
     "text": [
      "INFO:fbprophet:Disabling daily seasonality. Run prophet with daily_seasonality=True to override this.\n"
     ]
    },
    {
     "name": "stdout",
     "output_type": "stream",
     "text": [
      "El producto demoró 3.789458751678467 Centro Norte Coquimbo\n",
      "tiempo que lleva corriendo 16.832236492633818 Min\n"
     ]
    },
    {
     "name": "stderr",
     "output_type": "stream",
     "text": [
      "INFO:fbprophet:Disabling daily seasonality. Run prophet with daily_seasonality=True to override this.\n"
     ]
    },
    {
     "name": "stdout",
     "output_type": "stream",
     "text": [
      "El producto demoró 3.406167507171631 Centro Norte Coquimbo\n",
      "tiempo que lleva corriendo 16.889014248053233 Min\n"
     ]
    },
    {
     "name": "stderr",
     "output_type": "stream",
     "text": [
      "INFO:fbprophet:Disabling daily seasonality. Run prophet with daily_seasonality=True to override this.\n"
     ]
    },
    {
     "name": "stdout",
     "output_type": "stream",
     "text": [
      "El producto demoró 4.1472907066345215 Centro Norte Coquimbo\n",
      "tiempo que lleva corriendo 16.958152449131013 Min\n"
     ]
    },
    {
     "name": "stderr",
     "output_type": "stream",
     "text": [
      "INFO:fbprophet:Disabling daily seasonality. Run prophet with daily_seasonality=True to override this.\n"
     ]
    },
    {
     "name": "stdout",
     "output_type": "stream",
     "text": [
      "El producto demoró 3.4231386184692383 Centro Norte Coquimbo\n",
      "tiempo que lleva corriendo 17.015204759438834 Min\n"
     ]
    },
    {
     "name": "stderr",
     "output_type": "stream",
     "text": [
      "INFO:fbprophet:Disabling daily seasonality. Run prophet with daily_seasonality=True to override this.\n"
     ]
    },
    {
     "name": "stdout",
     "output_type": "stream",
     "text": [
      "El producto demoró 5.785766124725342 Centro Norte Coquimbo\n",
      "tiempo que lleva corriendo 17.111783917744955 Min\n"
     ]
    },
    {
     "name": "stderr",
     "output_type": "stream",
     "text": [
      "INFO:fbprophet:Disabling daily seasonality. Run prophet with daily_seasonality=True to override this.\n"
     ]
    },
    {
     "name": "stdout",
     "output_type": "stream",
     "text": [
      "El producto demoró 2.5123307704925537 Centro Norte Coquimbo\n",
      "tiempo que lleva corriendo 17.15367239713669 Min\n"
     ]
    },
    {
     "name": "stderr",
     "output_type": "stream",
     "text": [
      "INFO:fbprophet:Disabling daily seasonality. Run prophet with daily_seasonality=True to override this.\n"
     ]
    },
    {
     "name": "stdout",
     "output_type": "stream",
     "text": [
      "El producto demoró 2.683013439178467 Centro Norte Coquimbo\n",
      "tiempo que lleva corriendo 17.19839763243993 Min\n"
     ]
    },
    {
     "name": "stderr",
     "output_type": "stream",
     "text": [
      "INFO:fbprophet:Disabling daily seasonality. Run prophet with daily_seasonality=True to override this.\n"
     ]
    },
    {
     "name": "stdout",
     "output_type": "stream",
     "text": [
      "El producto demoró 2.8462274074554443 Centro Norte Coquimbo\n",
      "tiempo que lleva corriendo 17.24584306081136 Min\n"
     ]
    },
    {
     "name": "stderr",
     "output_type": "stream",
     "text": [
      "INFO:fbprophet:Disabling daily seasonality. Run prophet with daily_seasonality=True to override this.\n"
     ]
    },
    {
     "name": "stdout",
     "output_type": "stream",
     "text": [
      "El producto demoró 2.8782272338867188 Centro Norte Coquimbo\n",
      "tiempo que lleva corriendo 17.293813514709473 Min\n"
     ]
    },
    {
     "name": "stderr",
     "output_type": "stream",
     "text": [
      "INFO:fbprophet:Disabling daily seasonality. Run prophet with daily_seasonality=True to override this.\n"
     ]
    },
    {
     "name": "stdout",
     "output_type": "stream",
     "text": [
      "El producto demoró 2.485898733139038 Centro Norte Coquimbo\n",
      "tiempo que lleva corriendo 17.335261805852255 Min\n"
     ]
    },
    {
     "name": "stderr",
     "output_type": "stream",
     "text": [
      "INFO:fbprophet:Disabling daily seasonality. Run prophet with daily_seasonality=True to override this.\n"
     ]
    },
    {
     "name": "stdout",
     "output_type": "stream",
     "text": [
      "El producto demoró 2.8781509399414062 Centro Norte Coquimbo\n",
      "tiempo que lleva corriendo 17.383249564965567 Min\n"
     ]
    },
    {
     "name": "stderr",
     "output_type": "stream",
     "text": [
      "INFO:fbprophet:Disabling daily seasonality. Run prophet with daily_seasonality=True to override this.\n"
     ]
    },
    {
     "name": "stdout",
     "output_type": "stream",
     "text": [
      "El producto demoró 7.774687767028809 Centro Norte Coquimbo\n",
      "tiempo que lleva corriendo 17.512827694416046 Min\n"
     ]
    },
    {
     "name": "stderr",
     "output_type": "stream",
     "text": [
      "INFO:fbprophet:Disabling daily seasonality. Run prophet with daily_seasonality=True to override this.\n"
     ]
    },
    {
     "name": "stdout",
     "output_type": "stream",
     "text": [
      "El producto demoró 2.5806868076324463 Centro Norte Coquimbo\n",
      "tiempo que lleva corriendo 17.55584743420283 Min\n"
     ]
    },
    {
     "name": "stderr",
     "output_type": "stream",
     "text": [
      "INFO:fbprophet:Disabling daily seasonality. Run prophet with daily_seasonality=True to override this.\n",
      "INFO:fbprophet:n_changepoints greater than number of observations. Using 7.\n"
     ]
    },
    {
     "name": "stdout",
     "output_type": "stream",
     "text": [
      "El producto demoró 2.790813684463501 Centro Norte Coquimbo\n",
      "tiempo que lleva corriendo 17.602360995610557 Min\n"
     ]
    },
    {
     "name": "stderr",
     "output_type": "stream",
     "text": [
      "INFO:fbprophet:Disabling daily seasonality. Run prophet with daily_seasonality=True to override this.\n"
     ]
    },
    {
     "name": "stdout",
     "output_type": "stream",
     "text": [
      "El producto demoró 43.44471526145935 Centro Norte Coquimbo\n",
      "tiempo que lleva corriendo 18.326447900136312 Min\n"
     ]
    },
    {
     "name": "stderr",
     "output_type": "stream",
     "text": [
      "INFO:fbprophet:Disabling daily seasonality. Run prophet with daily_seasonality=True to override this.\n"
     ]
    },
    {
     "name": "stdout",
     "output_type": "stream",
     "text": [
      "El producto demoró 2.6565780639648438 Centro Norte Coquimbo\n",
      "tiempo que lleva corriendo 18.370732518037162 Min\n"
     ]
    },
    {
     "name": "stderr",
     "output_type": "stream",
     "text": [
      "INFO:fbprophet:Disabling daily seasonality. Run prophet with daily_seasonality=True to override this.\n"
     ]
    },
    {
     "name": "stdout",
     "output_type": "stream",
     "text": [
      "El producto demoró 2.490356206893921 Centro Norte Coquimbo\n",
      "tiempo que lleva corriendo 18.412238454818727 Min\n",
      "Hijuelas\n"
     ]
    },
    {
     "name": "stderr",
     "output_type": "stream",
     "text": [
      "INFO:fbprophet:Disabling daily seasonality. Run prophet with daily_seasonality=True to override this.\n"
     ]
    },
    {
     "name": "stdout",
     "output_type": "stream",
     "text": [
      "El producto demoró 4.130320072174072 Centro Norte Hijuelas\n",
      "tiempo que lleva corriendo 18.481825745105745 Min\n"
     ]
    },
    {
     "name": "stderr",
     "output_type": "stream",
     "text": [
      "INFO:fbprophet:Disabling daily seasonality. Run prophet with daily_seasonality=True to override this.\n"
     ]
    },
    {
     "name": "stdout",
     "output_type": "stream",
     "text": [
      "El producto demoró 3.2379813194274902 Centro Norte Hijuelas\n",
      "tiempo que lleva corriendo 18.535800488789878 Min\n"
     ]
    },
    {
     "name": "stderr",
     "output_type": "stream",
     "text": [
      "INFO:fbprophet:Disabling daily seasonality. Run prophet with daily_seasonality=True to override this.\n"
     ]
    },
    {
     "name": "stdout",
     "output_type": "stream",
     "text": [
      "El producto demoró 3.9691214561462402 Centro Norte Hijuelas\n",
      "tiempo que lleva corriendo 18.60195251305898 Min\n"
     ]
    },
    {
     "name": "stderr",
     "output_type": "stream",
     "text": [
      "INFO:fbprophet:Disabling daily seasonality. Run prophet with daily_seasonality=True to override this.\n"
     ]
    },
    {
     "name": "stdout",
     "output_type": "stream",
     "text": [
      "El producto demoró 3.9871702194213867 Centro Norte Hijuelas\n",
      "tiempo que lleva corriendo 18.668421987692515 Min\n"
     ]
    },
    {
     "name": "stderr",
     "output_type": "stream",
     "text": [
      "INFO:fbprophet:Disabling daily seasonality. Run prophet with daily_seasonality=True to override this.\n"
     ]
    },
    {
     "name": "stdout",
     "output_type": "stream",
     "text": [
      "El producto demoró 6.7085325717926025 Centro Norte Hijuelas\n",
      "tiempo que lleva corriendo 18.780239180723825 Min\n"
     ]
    },
    {
     "name": "stderr",
     "output_type": "stream",
     "text": [
      "INFO:fbprophet:Disabling daily seasonality. Run prophet with daily_seasonality=True to override this.\n"
     ]
    },
    {
     "name": "stdout",
     "output_type": "stream",
     "text": [
      "El producto demoró 5.302644729614258 Centro Norte Hijuelas\n",
      "tiempo que lleva corriendo 18.868624901771547 Min\n"
     ]
    },
    {
     "name": "stderr",
     "output_type": "stream",
     "text": [
      "INFO:fbprophet:Disabling daily seasonality. Run prophet with daily_seasonality=True to override this.\n"
     ]
    },
    {
     "name": "stdout",
     "output_type": "stream",
     "text": [
      "El producto demoró 5.244254112243652 Centro Norte Hijuelas\n",
      "tiempo que lleva corriendo 18.956029136975605 Min\n"
     ]
    },
    {
     "name": "stderr",
     "output_type": "stream",
     "text": [
      "INFO:fbprophet:Disabling daily seasonality. Run prophet with daily_seasonality=True to override this.\n"
     ]
    },
    {
     "name": "stdout",
     "output_type": "stream",
     "text": [
      "El producto demoró 3.0488345623016357 Centro Norte Hijuelas\n",
      "tiempo que lleva corriendo 19.006851355234783 Min\n"
     ]
    },
    {
     "name": "stderr",
     "output_type": "stream",
     "text": [
      "INFO:fbprophet:Disabling daily seasonality. Run prophet with daily_seasonality=True to override this.\n"
     ]
    },
    {
     "name": "stdout",
     "output_type": "stream",
     "text": [
      "El producto demoró 4.4926512241363525 Centro Norte Hijuelas\n",
      "tiempo que lleva corriendo 19.08173717657725 Min\n"
     ]
    },
    {
     "name": "stderr",
     "output_type": "stream",
     "text": [
      "INFO:fbprophet:Disabling daily seasonality. Run prophet with daily_seasonality=True to override this.\n"
     ]
    },
    {
     "name": "stdout",
     "output_type": "stream",
     "text": [
      "El producto demoró 5.753307104110718 Centro Norte Hijuelas\n",
      "tiempo que lleva corriendo 19.17762562831243 Min\n"
     ]
    },
    {
     "name": "stderr",
     "output_type": "stream",
     "text": [
      "INFO:fbprophet:Disabling daily seasonality. Run prophet with daily_seasonality=True to override this.\n"
     ]
    },
    {
     "name": "stdout",
     "output_type": "stream",
     "text": [
      "El producto demoró 4.2630774974823 Centro Norte Hijuelas\n",
      "tiempo que lleva corriendo 19.248693549633025 Min\n"
     ]
    },
    {
     "name": "stderr",
     "output_type": "stream",
     "text": [
      "INFO:fbprophet:Disabling daily seasonality. Run prophet with daily_seasonality=True to override this.\n"
     ]
    },
    {
     "name": "stdout",
     "output_type": "stream",
     "text": [
      "El producto demoró 6.949585437774658 Centro Norte Hijuelas\n",
      "tiempo que lleva corriendo 19.364528290430705 Min\n"
     ]
    },
    {
     "name": "stderr",
     "output_type": "stream",
     "text": [
      "INFO:fbprophet:Disabling daily seasonality. Run prophet with daily_seasonality=True to override this.\n"
     ]
    },
    {
     "name": "stdout",
     "output_type": "stream",
     "text": [
      "El producto demoró 4.697787046432495 Centro Norte Hijuelas\n",
      "tiempo que lleva corriendo 19.442832744121553 Min\n"
     ]
    },
    {
     "name": "stderr",
     "output_type": "stream",
     "text": [
      "INFO:fbprophet:Disabling daily seasonality. Run prophet with daily_seasonality=True to override this.\n"
     ]
    },
    {
     "name": "stdout",
     "output_type": "stream",
     "text": [
      "El producto demoró 2.430776834487915 Centro Norte Hijuelas\n",
      "tiempo que lleva corriendo 19.483528991540272 Min\n"
     ]
    },
    {
     "name": "stderr",
     "output_type": "stream",
     "text": [
      "INFO:fbprophet:Disabling daily seasonality. Run prophet with daily_seasonality=True to override this.\n"
     ]
    },
    {
     "name": "stdout",
     "output_type": "stream",
     "text": [
      "El producto demoró 2.930676221847534 Centro Norte Hijuelas\n",
      "tiempo que lleva corriendo 19.532381920019784 Min\n"
     ]
    },
    {
     "name": "stderr",
     "output_type": "stream",
     "text": [
      "INFO:fbprophet:Disabling daily seasonality. Run prophet with daily_seasonality=True to override this.\n"
     ]
    },
    {
     "name": "stdout",
     "output_type": "stream",
     "text": [
      "El producto demoró 3.049525737762451 Centro Norte Hijuelas\n",
      "tiempo que lleva corriendo 19.583215502897897 Min\n"
     ]
    },
    {
     "name": "stderr",
     "output_type": "stream",
     "text": [
      "INFO:fbprophet:Disabling daily seasonality. Run prophet with daily_seasonality=True to override this.\n"
     ]
    },
    {
     "name": "stdout",
     "output_type": "stream",
     "text": [
      "El producto demoró 4.37636661529541 Centro Norte Hijuelas\n",
      "tiempo que lleva corriendo 19.65616327126821 Min\n"
     ]
    },
    {
     "name": "stderr",
     "output_type": "stream",
     "text": [
      "INFO:fbprophet:Disabling daily seasonality. Run prophet with daily_seasonality=True to override this.\n"
     ]
    },
    {
     "name": "stdout",
     "output_type": "stream",
     "text": [
      "El producto demoró 3.0235753059387207 Centro Norte Hijuelas\n",
      "tiempo que lleva corriendo 19.706556193033855 Min\n"
     ]
    },
    {
     "name": "stderr",
     "output_type": "stream",
     "text": [
      "INFO:fbprophet:Disabling daily seasonality. Run prophet with daily_seasonality=True to override this.\n"
     ]
    },
    {
     "name": "stdout",
     "output_type": "stream",
     "text": [
      "El producto demoró 2.7342472076416016 Centro Norte Hijuelas\n",
      "tiempo que lleva corriendo 19.75213530063629 Min\n"
     ]
    },
    {
     "name": "stderr",
     "output_type": "stream",
     "text": [
      "INFO:fbprophet:Disabling daily seasonality. Run prophet with daily_seasonality=True to override this.\n"
     ]
    },
    {
     "name": "stdout",
     "output_type": "stream",
     "text": [
      "El producto demoró 2.704972743988037 Centro Norte Hijuelas\n",
      "tiempo que lleva corriendo 19.79722650051117 Min\n"
     ]
    },
    {
     "name": "stderr",
     "output_type": "stream",
     "text": [
      "INFO:fbprophet:Disabling daily seasonality. Run prophet with daily_seasonality=True to override this.\n"
     ]
    },
    {
     "name": "stdout",
     "output_type": "stream",
     "text": [
      "El producto demoró 2.6211304664611816 Centro Norte Hijuelas\n",
      "tiempo que lleva corriendo 19.840920317173005 Min\n"
     ]
    },
    {
     "name": "stderr",
     "output_type": "stream",
     "text": [
      "INFO:fbprophet:Disabling daily seasonality. Run prophet with daily_seasonality=True to override this.\n"
     ]
    },
    {
     "name": "stdout",
     "output_type": "stream",
     "text": [
      "El producto demoró 2.9595165252685547 Centro Norte Hijuelas\n",
      "tiempo que lleva corriendo 19.890253591537476 Min\n"
     ]
    },
    {
     "name": "stderr",
     "output_type": "stream",
     "text": [
      "INFO:fbprophet:Disabling daily seasonality. Run prophet with daily_seasonality=True to override this.\n"
     ]
    },
    {
     "name": "stdout",
     "output_type": "stream",
     "text": [
      "El producto demoró 3.534933567047119 Centro Norte Hijuelas\n",
      "tiempo que lleva corriendo 19.94916915098826 Min\n"
     ]
    },
    {
     "name": "stderr",
     "output_type": "stream",
     "text": [
      "INFO:fbprophet:Disabling daily seasonality. Run prophet with daily_seasonality=True to override this.\n"
     ]
    },
    {
     "name": "stdout",
     "output_type": "stream",
     "text": [
      "El producto demoró 2.90785813331604 Centro Norte Hijuelas\n",
      "tiempo que lleva corriendo 19.997633453210195 Min\n"
     ]
    },
    {
     "name": "stderr",
     "output_type": "stream",
     "text": [
      "INFO:fbprophet:Disabling daily seasonality. Run prophet with daily_seasonality=True to override this.\n"
     ]
    },
    {
     "name": "stdout",
     "output_type": "stream",
     "text": [
      "El producto demoró 4.170231819152832 Centro Norte Hijuelas\n",
      "tiempo que lleva corriendo 20.06713731686274 Min\n"
     ]
    },
    {
     "name": "stderr",
     "output_type": "stream",
     "text": [
      "INFO:fbprophet:Disabling daily seasonality. Run prophet with daily_seasonality=True to override this.\n"
     ]
    },
    {
     "name": "stdout",
     "output_type": "stream",
     "text": [
      "El producto demoró 3.158626079559326 Centro Norte Hijuelas\n",
      "tiempo que lleva corriendo 20.120022348562877 Min\n"
     ]
    },
    {
     "name": "stderr",
     "output_type": "stream",
     "text": [
      "INFO:fbprophet:Disabling daily seasonality. Run prophet with daily_seasonality=True to override this.\n"
     ]
    },
    {
     "name": "stdout",
     "output_type": "stream",
     "text": [
      "El producto demoró 2.735417127609253 Centro Norte Hijuelas\n",
      "tiempo que lleva corriendo 20.16562931140264 Min\n"
     ]
    },
    {
     "name": "stderr",
     "output_type": "stream",
     "text": [
      "INFO:fbprophet:Disabling daily seasonality. Run prophet with daily_seasonality=True to override this.\n"
     ]
    },
    {
     "name": "stdout",
     "output_type": "stream",
     "text": [
      "El producto demoró 2.769850254058838 Centro Norte Hijuelas\n",
      "tiempo que lleva corriendo 20.21179348230362 Min\n"
     ]
    },
    {
     "name": "stderr",
     "output_type": "stream",
     "text": [
      "INFO:fbprophet:Disabling daily seasonality. Run prophet with daily_seasonality=True to override this.\n"
     ]
    },
    {
     "name": "stdout",
     "output_type": "stream",
     "text": [
      "El producto demoró 4.646365404129028 Centro Norte Hijuelas\n",
      "tiempo que lleva corriendo 20.28923290570577 Min\n"
     ]
    },
    {
     "name": "stderr",
     "output_type": "stream",
     "text": [
      "INFO:fbprophet:Disabling daily seasonality. Run prophet with daily_seasonality=True to override this.\n"
     ]
    },
    {
     "name": "stdout",
     "output_type": "stream",
     "text": [
      "El producto demoró 3.036837339401245 Centro Norte Hijuelas\n",
      "tiempo que lleva corriendo 20.339863499005634 Min\n"
     ]
    },
    {
     "name": "stderr",
     "output_type": "stream",
     "text": [
      "INFO:fbprophet:Disabling daily seasonality. Run prophet with daily_seasonality=True to override this.\n"
     ]
    },
    {
     "name": "stdout",
     "output_type": "stream",
     "text": [
      "El producto demoró 2.46244215965271 Centro Norte Hijuelas\n",
      "tiempo que lleva corriendo 20.380926517645516 Min\n"
     ]
    },
    {
     "name": "stderr",
     "output_type": "stream",
     "text": [
      "INFO:fbprophet:Disabling daily seasonality. Run prophet with daily_seasonality=True to override this.\n"
     ]
    },
    {
     "name": "stdout",
     "output_type": "stream",
     "text": [
      "El producto demoró 3.429131507873535 Centro Norte Hijuelas\n",
      "tiempo que lleva corriendo 20.43807870944341 Min\n"
     ]
    },
    {
     "name": "stderr",
     "output_type": "stream",
     "text": [
      "INFO:fbprophet:Disabling daily seasonality. Run prophet with daily_seasonality=True to override this.\n"
     ]
    },
    {
     "name": "stdout",
     "output_type": "stream",
     "text": [
      "El producto demoró 3.540426015853882 Centro Norte Hijuelas\n",
      "tiempo que lleva corriendo 20.497102439403534 Min\n"
     ]
    },
    {
     "name": "stderr",
     "output_type": "stream",
     "text": [
      "INFO:fbprophet:Disabling daily seasonality. Run prophet with daily_seasonality=True to override this.\n"
     ]
    },
    {
     "name": "stdout",
     "output_type": "stream",
     "text": [
      "El producto demoró 4.839007616043091 Centro Norte Hijuelas\n",
      "tiempo que lleva corriendo 20.577760914961498 Min\n"
     ]
    },
    {
     "name": "stderr",
     "output_type": "stream",
     "text": [
      "INFO:fbprophet:Disabling daily seasonality. Run prophet with daily_seasonality=True to override this.\n"
     ]
    },
    {
     "name": "stdout",
     "output_type": "stream",
     "text": [
      "El producto demoró 3.1985690593719482 Centro Norte Hijuelas\n",
      "tiempo que lleva corriendo 20.63107871611913 Min\n"
     ]
    },
    {
     "name": "stderr",
     "output_type": "stream",
     "text": [
      "INFO:fbprophet:Disabling daily seasonality. Run prophet with daily_seasonality=True to override this.\n"
     ]
    },
    {
     "name": "stdout",
     "output_type": "stream",
     "text": [
      "El producto demoró 4.002542972564697 Centro Norte Hijuelas\n",
      "tiempo que lleva corriendo 20.697787765661875 Min\n",
      "El producto demoró 2.879167079925537 Centro Norte Hijuelas\n",
      "tiempo que lleva corriendo 20.745790525277457 Min\n"
     ]
    },
    {
     "ename": "ValueError",
     "evalue": "Dataframe has less than 2 non-NaN rows.",
     "output_type": "error",
     "traceback": [
      "\u001b[1;31m---------------------------------------------------------------------------\u001b[0m",
      "\u001b[1;31mValueError\u001b[0m                                Traceback (most recent call last)",
      "\u001b[1;32m<ipython-input-75-b8208a94f591>\u001b[0m in \u001b[0;36m<module>\u001b[1;34m\u001b[0m\n\u001b[0;32m     45\u001b[0m                                                      ).sum().reset_index()[['Día natural',y_col]]\n\u001b[0;32m     46\u001b[0m \u001b[1;33m\u001b[0m\u001b[0m\n\u001b[1;32m---> 47\u001b[1;33m                 dfmPred=Predict_sem(dfm,7)[['ds', 'yhat_lower',\n\u001b[0m\u001b[0;32m     48\u001b[0m                                             'yhat_upper', 'yhat']].tail(7)\n\u001b[0;32m     49\u001b[0m                 \u001b[1;31m#Material\u001b[0m\u001b[1;33m\u001b[0m\u001b[1;33m\u001b[0m\u001b[1;33m\u001b[0m\u001b[0m\n",
      "\u001b[1;32m<ipython-input-19-68eb8b301ee8>\u001b[0m in \u001b[0;36mPredict_sem\u001b[1;34m(D_Train, periodos)\u001b[0m\n\u001b[0;32m     10\u001b[0m \u001b[1;33m\u001b[0m\u001b[0m\n\u001b[0;32m     11\u001b[0m     \u001b[1;31m# fit $wmt data to model\u001b[0m\u001b[1;33m\u001b[0m\u001b[1;33m\u001b[0m\u001b[1;33m\u001b[0m\u001b[0m\n\u001b[1;32m---> 12\u001b[1;33m     \u001b[0mprophet\u001b[0m\u001b[1;33m.\u001b[0m\u001b[0mfit\u001b[0m\u001b[1;33m(\u001b[0m\u001b[0mD_Train\u001b[0m\u001b[1;33m)\u001b[0m\u001b[1;33m\u001b[0m\u001b[1;33m\u001b[0m\u001b[0m\n\u001b[0m\u001b[0;32m     13\u001b[0m \u001b[1;33m\u001b[0m\u001b[0m\n\u001b[0;32m     14\u001b[0m \u001b[1;33m\u001b[0m\u001b[0m\n",
      "\u001b[1;32m~\\Anaconda3\\envs\\Predict\\lib\\site-packages\\fbprophet\\forecaster.py\u001b[0m in \u001b[0;36mfit\u001b[1;34m(self, df, **kwargs)\u001b[0m\n\u001b[0;32m   1106\u001b[0m         \u001b[0mhistory\u001b[0m \u001b[1;33m=\u001b[0m \u001b[0mdf\u001b[0m\u001b[1;33m[\u001b[0m\u001b[0mdf\u001b[0m\u001b[1;33m[\u001b[0m\u001b[1;34m'y'\u001b[0m\u001b[1;33m]\u001b[0m\u001b[1;33m.\u001b[0m\u001b[0mnotnull\u001b[0m\u001b[1;33m(\u001b[0m\u001b[1;33m)\u001b[0m\u001b[1;33m]\u001b[0m\u001b[1;33m.\u001b[0m\u001b[0mcopy\u001b[0m\u001b[1;33m(\u001b[0m\u001b[1;33m)\u001b[0m\u001b[1;33m\u001b[0m\u001b[1;33m\u001b[0m\u001b[0m\n\u001b[0;32m   1107\u001b[0m         \u001b[1;32mif\u001b[0m \u001b[0mhistory\u001b[0m\u001b[1;33m.\u001b[0m\u001b[0mshape\u001b[0m\u001b[1;33m[\u001b[0m\u001b[1;36m0\u001b[0m\u001b[1;33m]\u001b[0m \u001b[1;33m<\u001b[0m \u001b[1;36m2\u001b[0m\u001b[1;33m:\u001b[0m\u001b[1;33m\u001b[0m\u001b[1;33m\u001b[0m\u001b[0m\n\u001b[1;32m-> 1108\u001b[1;33m             \u001b[1;32mraise\u001b[0m \u001b[0mValueError\u001b[0m\u001b[1;33m(\u001b[0m\u001b[1;34m'Dataframe has less than 2 non-NaN rows.'\u001b[0m\u001b[1;33m)\u001b[0m\u001b[1;33m\u001b[0m\u001b[1;33m\u001b[0m\u001b[0m\n\u001b[0m\u001b[0;32m   1109\u001b[0m         \u001b[0mself\u001b[0m\u001b[1;33m.\u001b[0m\u001b[0mhistory_dates\u001b[0m \u001b[1;33m=\u001b[0m \u001b[0mpd\u001b[0m\u001b[1;33m.\u001b[0m\u001b[0mto_datetime\u001b[0m\u001b[1;33m(\u001b[0m\u001b[0mpd\u001b[0m\u001b[1;33m.\u001b[0m\u001b[0mSeries\u001b[0m\u001b[1;33m(\u001b[0m\u001b[0mdf\u001b[0m\u001b[1;33m[\u001b[0m\u001b[1;34m'ds'\u001b[0m\u001b[1;33m]\u001b[0m\u001b[1;33m.\u001b[0m\u001b[0munique\u001b[0m\u001b[1;33m(\u001b[0m\u001b[1;33m)\u001b[0m\u001b[1;33m,\u001b[0m \u001b[0mname\u001b[0m\u001b[1;33m=\u001b[0m\u001b[1;34m'ds'\u001b[0m\u001b[1;33m)\u001b[0m\u001b[1;33m)\u001b[0m\u001b[1;33m.\u001b[0m\u001b[0msort_values\u001b[0m\u001b[1;33m(\u001b[0m\u001b[1;33m)\u001b[0m\u001b[1;33m\u001b[0m\u001b[1;33m\u001b[0m\u001b[0m\n\u001b[0;32m   1110\u001b[0m \u001b[1;33m\u001b[0m\u001b[0m\n",
      "\u001b[1;31mValueError\u001b[0m: Dataframe has less than 2 non-NaN rows."
     ]
    }
   ],
   "source": [
    "df2 = pd.DataFrame(columns=['ds', 'yhat_lower', 'yhat_upper', 'yhat', 'Material','Oficina de Ventas Unifica', 'Zona de ventas.1'])\n",
    "\n",
    "Listado_de_zonas=data['Zona de ventas.1'].unique()\n",
    "\n",
    "start_time = time()\n",
    "\n",
    "\n",
    "\n",
    "for Z in Listado_de_zonas:\n",
    "#Z='Santiago'\n",
    "    print(Z)\n",
    "    dfz=Df_ubic(data,'Zona de ventas.1',Z)\n",
    "\n",
    "    Listado_de_Sucursales=dfz[dfz['Día natural'] \n",
    "                              >datetime.date(2021, 6, 2)][\n",
    "        'Oficina de Ventas Unifica'].unique()\n",
    "\n",
    "    for y in Listado_de_Sucursales:\n",
    "        #y='Huechuraba'\n",
    "        print(y)\n",
    "        dfy=Df_ubic(dfz,'Oficina de Ventas Unifica',y)\n",
    "        \n",
    "        \n",
    "        Listado_de_Canales=dfy[dfy['Día natural'] \n",
    "                                  >datetime.date(2021, 6, 2)][\n",
    "            'Tipo de cliente'].unique()\n",
    "        \n",
    "        for c in Listado_de_Canales:\n",
    "            dfc=Df_ubic(dfy,'Tipo de cliente',c)\n",
    "\n",
    "            #Crear un listado de los materiales disponibles en la data\n",
    "\n",
    "\n",
    "            Listado_de_Materiales=dfc[dfc.Año==2021].Material.unique()     \n",
    "\n",
    "\n",
    "            for m in Listado_de_Materiales:\n",
    "                #m=Listado_de_Materiales[0]\n",
    "                material_time=time()\n",
    "                #print(y,m)\n",
    "\n",
    "\n",
    "                dfm=Df_ubic(dfc,\n",
    "                            'Material',m).groupby('Día natural'\n",
    "                                                     ).sum().reset_index()[['Día natural',y_col]]\n",
    "\n",
    "                dfmPred=Predict_sem(dfm,7)[['ds', 'yhat_lower',\n",
    "                                            'yhat_upper', 'yhat']].tail(7)\n",
    "                #Material\n",
    "                dfmPred['Material']=[m for i in range(dfmPred.shape[0])]\n",
    "                #Canal de ventas\n",
    "                dfmPred['Tipo de cliente']=[c for i in range(dfmPred.shape[0])]\n",
    "                \n",
    "                #Sucursal\n",
    "                dfmPred['Oficina de Ventas Unifica']=[y for i in range(dfmPred.shape[0])]\n",
    "                \n",
    "                #Zona\n",
    "                dfmPred['Zona de ventas.1']=[Z for i in range(dfmPred.shape[0])]\n",
    "                dfmPred=dfmPred.reset_index()\n",
    "                dfmPred.pop('index')\n",
    "                df2=pd.concat([df2, dfmPred])\n",
    "                print('El producto demoró',(time() - material_time),Z,y)\n",
    "                print('tiempo que lleva corriendo',(time() - start_time)/60, 'Min')\n",
    "\n",
    "print('tiempo bloque completo',(time() - start_time)/60, 'Min')\n"
   ]
  },
  {
   "cell_type": "code",
   "execution_count": 79,
   "id": "0d4aafd2",
   "metadata": {},
   "outputs": [
    {
     "data": {
      "text/plain": [
       "'Centro Norte'"
      ]
     },
     "execution_count": 79,
     "metadata": {},
     "output_type": "execute_result"
    }
   ],
   "source": [
    "Z"
   ]
  },
  {
   "cell_type": "code",
   "execution_count": 78,
   "id": "36bf4d9a",
   "metadata": {},
   "outputs": [
    {
     "data": {
      "text/plain": [
       "'Hijuelas'"
      ]
     },
     "execution_count": 78,
     "metadata": {},
     "output_type": "execute_result"
    }
   ],
   "source": [
    "y"
   ]
  },
  {
   "cell_type": "code",
   "execution_count": 77,
   "id": "2aa53ce3",
   "metadata": {
    "scrolled": true
   },
   "outputs": [
    {
     "data": {
      "text/plain": [
       "'Industriales'"
      ]
     },
     "execution_count": 77,
     "metadata": {},
     "output_type": "execute_result"
    }
   ],
   "source": [
    "c"
   ]
  },
  {
   "cell_type": "code",
   "execution_count": 76,
   "id": "8a385ec1",
   "metadata": {
    "scrolled": true
   },
   "outputs": [
    {
     "data": {
      "text/plain": [
       "'1020253'"
      ]
     },
     "execution_count": 76,
     "metadata": {},
     "output_type": "execute_result"
    }
   ],
   "source": [
    "m"
   ]
  },
  {
   "cell_type": "code",
   "execution_count": null,
   "id": "65821ccd",
   "metadata": {},
   "outputs": [],
   "source": [
    "df2.rename(columns = {'ds': 'Día natural', 'yhat': 'Predicción central',\n",
    "                                'yhat_upper': 'Predicción Superior',\n",
    "                                'yhat_lower': 'Predicción Inferior'}, inplace = True)"
   ]
  },
  {
   "cell_type": "markdown",
   "id": "3408ffe2",
   "metadata": {},
   "source": [
    "### CSV SAVE "
   ]
  },
  {
   "cell_type": "code",
   "execution_count": null,
   "id": "bc103ef0",
   "metadata": {},
   "outputs": [],
   "source": [
    "min_time=df2['Día natural'].min()\n",
    "min_time=str(min_time).split(' ')[0]\n",
    "print(min_time)\n",
    "max_time=df2['Día natural'].max()\n",
    "max_time=str(max_time).split(' ')[0]\n",
    "print(max_time)"
   ]
  },
  {
   "cell_type": "code",
   "execution_count": null,
   "id": "497ad696",
   "metadata": {},
   "outputs": [],
   "source": [
    "df2.to_csv('Data'+min_time+' Predicción Por CANAL ' +max_time+ 'Zona, Sucursal.csv', index=False)\n"
   ]
  },
  {
   "cell_type": "markdown",
   "id": "66e6ca42",
   "metadata": {},
   "source": [
    "## Iteración Zona"
   ]
  },
  {
   "cell_type": "code",
   "execution_count": 71,
   "id": "d97347ee",
   "metadata": {},
   "outputs": [
    {
     "name": "stdout",
     "output_type": "stream",
     "text": [
      "Santiago\n"
     ]
    },
    {
     "name": "stderr",
     "output_type": "stream",
     "text": [
      "INFO:fbprophet:Disabling daily seasonality. Run prophet with daily_seasonality=True to override this.\n",
      "INFO:fbprophet:Disabling daily seasonality. Run prophet with daily_seasonality=True to override this.\n"
     ]
    },
    {
     "name": "stdout",
     "output_type": "stream",
     "text": [
      "El producto demoró 3.747529983520508 Santiago VD FoodService\n",
      "tiempo que lleva corriendo 0.0674644907315572 Min\n"
     ]
    },
    {
     "name": "stderr",
     "output_type": "stream",
     "text": [
      "INFO:fbprophet:Disabling daily seasonality. Run prophet with daily_seasonality=True to override this.\n"
     ]
    },
    {
     "name": "stdout",
     "output_type": "stream",
     "text": [
      "El producto demoró 5.843140125274658 Santiago VD FoodService\n",
      "tiempo que lleva corriendo 0.1648584763209025 Min\n"
     ]
    },
    {
     "name": "stderr",
     "output_type": "stream",
     "text": [
      "INFO:fbprophet:Disabling daily seasonality. Run prophet with daily_seasonality=True to override this.\n"
     ]
    },
    {
     "name": "stdout",
     "output_type": "stream",
     "text": [
      "El producto demoró 4.137127876281738 Santiago VD FoodService\n",
      "tiempo que lleva corriendo 0.23381060759226482 Min\n"
     ]
    },
    {
     "name": "stderr",
     "output_type": "stream",
     "text": [
      "INFO:fbprophet:Disabling daily seasonality. Run prophet with daily_seasonality=True to override this.\n"
     ]
    },
    {
     "name": "stdout",
     "output_type": "stream",
     "text": [
      "El producto demoró 3.138895273208618 Santiago VD FoodService\n",
      "tiempo que lleva corriendo 0.28614213864008586 Min\n"
     ]
    },
    {
     "name": "stderr",
     "output_type": "stream",
     "text": [
      "INFO:fbprophet:Disabling daily seasonality. Run prophet with daily_seasonality=True to override this.\n"
     ]
    },
    {
     "name": "stdout",
     "output_type": "stream",
     "text": [
      "El producto demoró 4.56251859664917 Santiago VD FoodService\n",
      "tiempo que lleva corriendo 0.3621841152509054 Min\n"
     ]
    },
    {
     "name": "stderr",
     "output_type": "stream",
     "text": [
      "INFO:fbprophet:Disabling daily seasonality. Run prophet with daily_seasonality=True to override this.\n"
     ]
    },
    {
     "name": "stdout",
     "output_type": "stream",
     "text": [
      "El producto demoró 3.777794599533081 Santiago VD FoodService\n",
      "tiempo que lleva corriendo 0.425164008140564 Min\n"
     ]
    },
    {
     "name": "stderr",
     "output_type": "stream",
     "text": [
      "INFO:fbprophet:Disabling daily seasonality. Run prophet with daily_seasonality=True to override this.\n"
     ]
    },
    {
     "name": "stdout",
     "output_type": "stream",
     "text": [
      "El producto demoró 3.5758514404296875 Santiago VD FoodService\n",
      "tiempo que lleva corriendo 0.4847698489824931 Min\n"
     ]
    },
    {
     "name": "stderr",
     "output_type": "stream",
     "text": [
      "INFO:fbprophet:Disabling daily seasonality. Run prophet with daily_seasonality=True to override this.\n"
     ]
    },
    {
     "name": "stdout",
     "output_type": "stream",
     "text": [
      "El producto demoró 3.4185354709625244 Santiago VD FoodService\n",
      "tiempo que lleva corriendo 0.5417454401652019 Min\n"
     ]
    },
    {
     "name": "stderr",
     "output_type": "stream",
     "text": [
      "INFO:fbprophet:Disabling daily seasonality. Run prophet with daily_seasonality=True to override this.\n"
     ]
    },
    {
     "name": "stdout",
     "output_type": "stream",
     "text": [
      "El producto demoró 3.65041446685791 Santiago VD FoodService\n",
      "tiempo que lleva corriendo 0.6026023149490356 Min\n"
     ]
    },
    {
     "name": "stderr",
     "output_type": "stream",
     "text": [
      "INFO:fbprophet:Disabling daily seasonality. Run prophet with daily_seasonality=True to override this.\n"
     ]
    },
    {
     "name": "stdout",
     "output_type": "stream",
     "text": [
      "El producto demoró 3.660468578338623 Santiago VD FoodService\n",
      "tiempo que lleva corriendo 0.6636101245880127 Min\n"
     ]
    },
    {
     "name": "stderr",
     "output_type": "stream",
     "text": [
      "INFO:fbprophet:Disabling daily seasonality. Run prophet with daily_seasonality=True to override this.\n"
     ]
    },
    {
     "name": "stdout",
     "output_type": "stream",
     "text": [
      "El producto demoró 3.2888882160186768 Santiago VD FoodService\n",
      "tiempo que lleva corriendo 0.7184416731198628 Min\n"
     ]
    },
    {
     "name": "stderr",
     "output_type": "stream",
     "text": [
      "INFO:fbprophet:Disabling daily seasonality. Run prophet with daily_seasonality=True to override this.\n"
     ]
    },
    {
     "name": "stdout",
     "output_type": "stream",
     "text": [
      "El producto demoró 3.4306161403656006 Santiago VD FoodService\n",
      "tiempo que lleva corriendo 0.7756269256273906 Min\n"
     ]
    },
    {
     "name": "stderr",
     "output_type": "stream",
     "text": [
      "INFO:fbprophet:Disabling daily seasonality. Run prophet with daily_seasonality=True to override this.\n"
     ]
    },
    {
     "name": "stdout",
     "output_type": "stream",
     "text": [
      "El producto demoró 4.2004828453063965 Santiago VD FoodService\n",
      "tiempo que lleva corriendo 0.8456349730491638 Min\n"
     ]
    },
    {
     "name": "stderr",
     "output_type": "stream",
     "text": [
      "INFO:fbprophet:Disabling daily seasonality. Run prophet with daily_seasonality=True to override this.\n"
     ]
    },
    {
     "name": "stdout",
     "output_type": "stream",
     "text": [
      "El producto demoró 2.500354051589966 Santiago VD FoodService\n",
      "tiempo que lleva corriendo 0.887748392422994 Min\n"
     ]
    },
    {
     "name": "stderr",
     "output_type": "stream",
     "text": [
      "INFO:fbprophet:Disabling daily seasonality. Run prophet with daily_seasonality=True to override this.\n"
     ]
    },
    {
     "name": "stdout",
     "output_type": "stream",
     "text": [
      "El producto demoró 2.69091534614563 Santiago VD FoodService\n",
      "tiempo que lleva corriendo 0.9326052864392599 Min\n"
     ]
    },
    {
     "name": "stderr",
     "output_type": "stream",
     "text": [
      "INFO:fbprophet:Disabling daily seasonality. Run prophet with daily_seasonality=True to override this.\n"
     ]
    },
    {
     "name": "stdout",
     "output_type": "stream",
     "text": [
      "El producto demoró 3.235985279083252 Santiago VD FoodService\n",
      "tiempo que lleva corriendo 0.9865466912587484 Min\n"
     ]
    },
    {
     "name": "stderr",
     "output_type": "stream",
     "text": [
      "INFO:fbprophet:Disabling daily seasonality. Run prophet with daily_seasonality=True to override this.\n"
     ]
    },
    {
     "name": "stdout",
     "output_type": "stream",
     "text": [
      "El producto demoró 3.5194003582000732 Santiago VD FoodService\n",
      "tiempo que lleva corriendo 1.0452116886774698 Min\n"
     ]
    },
    {
     "name": "stderr",
     "output_type": "stream",
     "text": [
      "INFO:fbprophet:Disabling daily seasonality. Run prophet with daily_seasonality=True to override this.\n"
     ]
    },
    {
     "name": "stdout",
     "output_type": "stream",
     "text": [
      "El producto demoró 3.683154344558716 Santiago VD FoodService\n",
      "tiempo que lleva corriendo 1.1065975944201152 Min\n"
     ]
    },
    {
     "name": "stderr",
     "output_type": "stream",
     "text": [
      "INFO:fbprophet:Disabling daily seasonality. Run prophet with daily_seasonality=True to override this.\n"
     ]
    },
    {
     "name": "stdout",
     "output_type": "stream",
     "text": [
      "El producto demoró 3.0328664779663086 Santiago VD FoodService\n",
      "tiempo que lleva corriendo 1.1571536739667256 Min\n"
     ]
    },
    {
     "name": "stderr",
     "output_type": "stream",
     "text": [
      "INFO:fbprophet:Disabling daily seasonality. Run prophet with daily_seasonality=True to override this.\n"
     ]
    },
    {
     "name": "stdout",
     "output_type": "stream",
     "text": [
      "El producto demoró 3.787956953048706 Santiago VD FoodService\n",
      "tiempo que lleva corriendo 1.2202946464220683 Min\n"
     ]
    },
    {
     "name": "stderr",
     "output_type": "stream",
     "text": [
      "INFO:fbprophet:Disabling daily seasonality. Run prophet with daily_seasonality=True to override this.\n"
     ]
    },
    {
     "name": "stdout",
     "output_type": "stream",
     "text": [
      "El producto demoró 3.7874600887298584 Santiago VD FoodService\n",
      "tiempo que lleva corriendo 1.2834189812342325 Min\n"
     ]
    },
    {
     "name": "stderr",
     "output_type": "stream",
     "text": [
      "INFO:fbprophet:Disabling daily seasonality. Run prophet with daily_seasonality=True to override this.\n"
     ]
    },
    {
     "name": "stdout",
     "output_type": "stream",
     "text": [
      "El producto demoró 4.011399030685425 Santiago VD FoodService\n",
      "tiempo que lleva corriendo 1.3502839485804239 Min\n"
     ]
    },
    {
     "name": "stderr",
     "output_type": "stream",
     "text": [
      "INFO:fbprophet:Disabling daily seasonality. Run prophet with daily_seasonality=True to override this.\n"
     ]
    },
    {
     "name": "stdout",
     "output_type": "stream",
     "text": [
      "El producto demoró 3.4231364727020264 Santiago VD FoodService\n",
      "tiempo que lleva corriendo 1.4073445439338683 Min\n"
     ]
    },
    {
     "name": "stderr",
     "output_type": "stream",
     "text": [
      "INFO:fbprophet:Disabling daily seasonality. Run prophet with daily_seasonality=True to override this.\n"
     ]
    },
    {
     "name": "stdout",
     "output_type": "stream",
     "text": [
      "El producto demoró 2.6490938663482666 Santiago VD FoodService\n",
      "tiempo que lleva corriendo 1.4515117287635804 Min\n"
     ]
    },
    {
     "name": "stderr",
     "output_type": "stream",
     "text": [
      "INFO:fbprophet:Disabling daily seasonality. Run prophet with daily_seasonality=True to override this.\n"
     ]
    },
    {
     "name": "stdout",
     "output_type": "stream",
     "text": [
      "El producto demoró 3.5623838901519775 Santiago VD FoodService\n",
      "tiempo que lleva corriendo 1.5108847935994467 Min\n"
     ]
    },
    {
     "name": "stderr",
     "output_type": "stream",
     "text": [
      "INFO:fbprophet:Disabling daily seasonality. Run prophet with daily_seasonality=True to override this.\n"
     ]
    },
    {
     "name": "stdout",
     "output_type": "stream",
     "text": [
      "El producto demoró 3.338792562484741 Santiago VD FoodService\n",
      "tiempo que lleva corriendo 1.5665479898452759 Min\n"
     ]
    },
    {
     "name": "stderr",
     "output_type": "stream",
     "text": [
      "INFO:fbprophet:Disabling daily seasonality. Run prophet with daily_seasonality=True to override this.\n"
     ]
    },
    {
     "name": "stdout",
     "output_type": "stream",
     "text": [
      "El producto demoró 3.271568536758423 Santiago VD FoodService\n",
      "tiempo que lleva corriendo 1.621481708685557 Min\n"
     ]
    },
    {
     "name": "stderr",
     "output_type": "stream",
     "text": [
      "INFO:fbprophet:Disabling daily seasonality. Run prophet with daily_seasonality=True to override this.\n"
     ]
    },
    {
     "name": "stdout",
     "output_type": "stream",
     "text": [
      "El producto demoró 6.147594451904297 Santiago VD FoodService\n",
      "tiempo que lleva corriendo 1.7239416162172954 Min\n"
     ]
    },
    {
     "name": "stderr",
     "output_type": "stream",
     "text": [
      "INFO:fbprophet:Disabling daily seasonality. Run prophet with daily_seasonality=True to override this.\n"
     ]
    },
    {
     "name": "stdout",
     "output_type": "stream",
     "text": [
      "El producto demoró 2.6106295585632324 Santiago VD FoodService\n",
      "tiempo que lleva corriendo 1.767452108860016 Min\n"
     ]
    },
    {
     "name": "stderr",
     "output_type": "stream",
     "text": [
      "INFO:fbprophet:Disabling daily seasonality. Run prophet with daily_seasonality=True to override this.\n"
     ]
    },
    {
     "name": "stdout",
     "output_type": "stream",
     "text": [
      "El producto demoró 2.751904249191284 Santiago VD FoodService\n",
      "tiempo que lleva corriendo 1.813333809375763 Min\n"
     ]
    },
    {
     "name": "stderr",
     "output_type": "stream",
     "text": [
      "INFO:fbprophet:Disabling daily seasonality. Run prophet with daily_seasonality=True to override this.\n"
     ]
    },
    {
     "name": "stdout",
     "output_type": "stream",
     "text": [
      "El producto demoró 3.3294687271118164 Santiago VD FoodService\n",
      "tiempo que lleva corriendo 1.8688249548276266 Min\n"
     ]
    },
    {
     "name": "stderr",
     "output_type": "stream",
     "text": [
      "INFO:fbprophet:Disabling daily seasonality. Run prophet with daily_seasonality=True to override this.\n"
     ]
    },
    {
     "name": "stdout",
     "output_type": "stream",
     "text": [
      "El producto demoró 3.420140504837036 Santiago VD FoodService\n",
      "tiempo que lleva corriendo 1.9258439501126607 Min\n"
     ]
    },
    {
     "name": "stderr",
     "output_type": "stream",
     "text": [
      "INFO:fbprophet:Disabling daily seasonality. Run prophet with daily_seasonality=True to override this.\n"
     ]
    },
    {
     "name": "stdout",
     "output_type": "stream",
     "text": [
      "El producto demoró 2.520815372467041 Santiago VD FoodService\n",
      "tiempo que lleva corriendo 1.9678658485412597 Min\n"
     ]
    },
    {
     "name": "stderr",
     "output_type": "stream",
     "text": [
      "INFO:fbprophet:Disabling daily seasonality. Run prophet with daily_seasonality=True to override this.\n"
     ]
    },
    {
     "name": "stdout",
     "output_type": "stream",
     "text": [
      "El producto demoró 3.9062414169311523 Santiago VD FoodService\n",
      "tiempo que lleva corriendo 2.032969872156779 Min\n"
     ]
    },
    {
     "name": "stderr",
     "output_type": "stream",
     "text": [
      "INFO:fbprophet:Disabling daily seasonality. Run prophet with daily_seasonality=True to override this.\n"
     ]
    },
    {
     "name": "stdout",
     "output_type": "stream",
     "text": [
      "El producto demoró 4.863956451416016 Santiago VD FoodService\n",
      "tiempo que lleva corriendo 2.1140524625778196 Min\n"
     ]
    },
    {
     "name": "stderr",
     "output_type": "stream",
     "text": [
      "INFO:fbprophet:Disabling daily seasonality. Run prophet with daily_seasonality=True to override this.\n"
     ]
    },
    {
     "name": "stdout",
     "output_type": "stream",
     "text": [
      "El producto demoró 4.124834299087524 Santiago VD FoodService\n",
      "tiempo que lleva corriendo 2.1827997008959454 Min\n"
     ]
    },
    {
     "name": "stderr",
     "output_type": "stream",
     "text": [
      "INFO:fbprophet:Disabling daily seasonality. Run prophet with daily_seasonality=True to override this.\n"
     ]
    },
    {
     "name": "stdout",
     "output_type": "stream",
     "text": [
      "El producto demoró 2.800309896469116 Santiago VD FoodService\n",
      "tiempo que lleva corriendo 2.229471532503764 Min\n"
     ]
    },
    {
     "name": "stderr",
     "output_type": "stream",
     "text": [
      "INFO:fbprophet:Disabling daily seasonality. Run prophet with daily_seasonality=True to override this.\n"
     ]
    },
    {
     "name": "stdout",
     "output_type": "stream",
     "text": [
      "El producto demoró 4.122480392456055 Santiago VD FoodService\n",
      "tiempo que lleva corriendo 2.298187625408173 Min\n"
     ]
    },
    {
     "name": "stderr",
     "output_type": "stream",
     "text": [
      "INFO:fbprophet:Disabling daily seasonality. Run prophet with daily_seasonality=True to override this.\n"
     ]
    },
    {
     "name": "stdout",
     "output_type": "stream",
     "text": [
      "El producto demoró 3.1605288982391357 Santiago VD FoodService\n",
      "tiempo que lleva corriendo 2.3508631070454915 Min\n"
     ]
    },
    {
     "name": "stderr",
     "output_type": "stream",
     "text": [
      "INFO:fbprophet:Disabling daily seasonality. Run prophet with daily_seasonality=True to override this.\n",
      "INFO:fbprophet:n_changepoints greater than number of observations. Using 7.\n"
     ]
    },
    {
     "name": "stdout",
     "output_type": "stream",
     "text": [
      "El producto demoró 4.149289131164551 Santiago VD FoodService\n",
      "tiempo que lleva corriendo 2.4203779220581056 Min\n"
     ]
    },
    {
     "name": "stderr",
     "output_type": "stream",
     "text": [
      "INFO:fbprophet:Disabling daily seasonality. Run prophet with daily_seasonality=True to override this.\n",
      "INFO:fbprophet:n_changepoints greater than number of observations. Using 11.\n"
     ]
    },
    {
     "name": "stdout",
     "output_type": "stream",
     "text": [
      "El producto demoró 27.06111240386963 Santiago VD FoodService\n",
      "tiempo que lleva corriendo 2.871404540538788 Min\n"
     ]
    },
    {
     "name": "stderr",
     "output_type": "stream",
     "text": [
      "INFO:fbprophet:Disabling daily seasonality. Run prophet with daily_seasonality=True to override this.\n"
     ]
    },
    {
     "name": "stdout",
     "output_type": "stream",
     "text": [
      "El producto demoró 65.46125769615173 Santiago VD FoodService\n",
      "tiempo que lleva corriendo 3.9624338229497273 Min\n"
     ]
    },
    {
     "name": "stderr",
     "output_type": "stream",
     "text": [
      "INFO:fbprophet:Disabling daily seasonality. Run prophet with daily_seasonality=True to override this.\n",
      "INFO:fbprophet:n_changepoints greater than number of observations. Using 23.\n"
     ]
    },
    {
     "name": "stdout",
     "output_type": "stream",
     "text": [
      "El producto demoró 5.017593145370483 Santiago VD FoodService\n",
      "tiempo que lleva corriendo 4.046060375372568 Min\n"
     ]
    },
    {
     "name": "stderr",
     "output_type": "stream",
     "text": [
      "INFO:fbprophet:Disabling daily seasonality. Run prophet with daily_seasonality=True to override this.\n",
      "INFO:fbprophet:n_changepoints greater than number of observations. Using 21.\n"
     ]
    },
    {
     "name": "stdout",
     "output_type": "stream",
     "text": [
      "El producto demoró 3.3322908878326416 Santiago VD FoodService\n",
      "tiempo que lleva corriendo 4.101598556836446 Min\n"
     ]
    },
    {
     "name": "stderr",
     "output_type": "stream",
     "text": [
      "INFO:fbprophet:Disabling daily seasonality. Run prophet with daily_seasonality=True to override this.\n"
     ]
    },
    {
     "name": "stdout",
     "output_type": "stream",
     "text": [
      "El producto demoró 2.960613965988159 Santiago VD FoodService\n",
      "tiempo que lleva corriendo 4.150950336456299 Min\n",
      "El producto demoró 2.4549427032470703 Santiago VD FoodService\n",
      "tiempo que lleva corriendo 4.191874094804128 Min\n",
      "Centro Norte\n"
     ]
    },
    {
     "name": "stderr",
     "output_type": "stream",
     "text": [
      "INFO:fbprophet:Disabling daily seasonality. Run prophet with daily_seasonality=True to override this.\n",
      "INFO:fbprophet:Disabling daily seasonality. Run prophet with daily_seasonality=True to override this.\n"
     ]
    },
    {
     "name": "stdout",
     "output_type": "stream",
     "text": [
      "El producto demoró 3.1772735118865967 Centro Norte VD FoodService\n",
      "tiempo que lleva corriendo 4.2501304864883425 Min\n"
     ]
    },
    {
     "name": "stderr",
     "output_type": "stream",
     "text": [
      "INFO:fbprophet:Disabling daily seasonality. Run prophet with daily_seasonality=True to override this.\n"
     ]
    },
    {
     "name": "stdout",
     "output_type": "stream",
     "text": [
      "El producto demoró 3.6866512298583984 Centro Norte VD FoodService\n",
      "tiempo que lleva corriendo 4.311574673652649 Min\n"
     ]
    },
    {
     "name": "stderr",
     "output_type": "stream",
     "text": [
      "INFO:fbprophet:Disabling daily seasonality. Run prophet with daily_seasonality=True to override this.\n"
     ]
    },
    {
     "name": "stdout",
     "output_type": "stream",
     "text": [
      "El producto demoró 3.909731388092041 Centro Norte VD FoodService\n",
      "tiempo que lleva corriendo 4.376736863454183 Min\n"
     ]
    },
    {
     "name": "stderr",
     "output_type": "stream",
     "text": [
      "INFO:fbprophet:Disabling daily seasonality. Run prophet with daily_seasonality=True to override this.\n"
     ]
    },
    {
     "name": "stdout",
     "output_type": "stream",
     "text": [
      "El producto demoró 3.740838050842285 Centro Norte VD FoodService\n",
      "tiempo que lleva corriendo 4.439092477162679 Min\n"
     ]
    },
    {
     "name": "stderr",
     "output_type": "stream",
     "text": [
      "INFO:fbprophet:Disabling daily seasonality. Run prophet with daily_seasonality=True to override this.\n"
     ]
    },
    {
     "name": "stdout",
     "output_type": "stream",
     "text": [
      "El producto demoró 3.520451545715332 Centro Norte VD FoodService\n",
      "tiempo que lleva corriendo 4.497775014241537 Min\n"
     ]
    },
    {
     "name": "stderr",
     "output_type": "stream",
     "text": [
      "INFO:fbprophet:Disabling daily seasonality. Run prophet with daily_seasonality=True to override this.\n"
     ]
    },
    {
     "name": "stdout",
     "output_type": "stream",
     "text": [
      "El producto demoró 3.6308467388153076 Centro Norte VD FoodService\n",
      "tiempo que lleva corriendo 4.55829743941625 Min\n"
     ]
    },
    {
     "name": "stderr",
     "output_type": "stream",
     "text": [
      "INFO:fbprophet:Disabling daily seasonality. Run prophet with daily_seasonality=True to override this.\n"
     ]
    },
    {
     "name": "stdout",
     "output_type": "stream",
     "text": [
      "El producto demoró 3.722583770751953 Centro Norte VD FoodService\n",
      "tiempo que lleva corriendo 4.6203488190968836 Min\n"
     ]
    },
    {
     "name": "stderr",
     "output_type": "stream",
     "text": [
      "INFO:fbprophet:Disabling daily seasonality. Run prophet with daily_seasonality=True to override this.\n"
     ]
    },
    {
     "name": "stdout",
     "output_type": "stream",
     "text": [
      "El producto demoró 3.86082124710083 Centro Norte VD FoodService\n",
      "tiempo que lleva corriendo 4.684704160690307 Min\n"
     ]
    },
    {
     "name": "stderr",
     "output_type": "stream",
     "text": [
      "INFO:fbprophet:Disabling daily seasonality. Run prophet with daily_seasonality=True to override this.\n"
     ]
    },
    {
     "name": "stdout",
     "output_type": "stream",
     "text": [
      "El producto demoró 3.746537923812866 Centro Norte VD FoodService\n",
      "tiempo que lleva corriendo 4.747146459420522 Min\n"
     ]
    },
    {
     "name": "stderr",
     "output_type": "stream",
     "text": [
      "INFO:fbprophet:Disabling daily seasonality. Run prophet with daily_seasonality=True to override this.\n"
     ]
    },
    {
     "name": "stdout",
     "output_type": "stream",
     "text": [
      "El producto demoró 3.441603660583496 Centro Norte VD FoodService\n",
      "tiempo que lleva corriendo 4.804523146152496 Min\n"
     ]
    },
    {
     "name": "stderr",
     "output_type": "stream",
     "text": [
      "INFO:fbprophet:Disabling daily seasonality. Run prophet with daily_seasonality=True to override this.\n"
     ]
    },
    {
     "name": "stdout",
     "output_type": "stream",
     "text": [
      "El producto demoró 3.1281862258911133 Centro Norte VD FoodService\n",
      "tiempo que lleva corriendo 4.856659583250681 Min\n"
     ]
    },
    {
     "name": "stderr",
     "output_type": "stream",
     "text": [
      "INFO:fbprophet:Disabling daily seasonality. Run prophet with daily_seasonality=True to override this.\n"
     ]
    },
    {
     "name": "stdout",
     "output_type": "stream",
     "text": [
      "El producto demoró 4.568600416183472 Centro Norte VD FoodService\n",
      "tiempo que lleva corriendo 4.932819549242655 Min\n"
     ]
    },
    {
     "name": "stderr",
     "output_type": "stream",
     "text": [
      "INFO:fbprophet:Disabling daily seasonality. Run prophet with daily_seasonality=True to override this.\n"
     ]
    },
    {
     "name": "stdout",
     "output_type": "stream",
     "text": [
      "El producto demoró 3.48502516746521 Centro Norte VD FoodService\n",
      "tiempo que lleva corriendo 4.99091161886851 Min\n"
     ]
    },
    {
     "name": "stderr",
     "output_type": "stream",
     "text": [
      "INFO:fbprophet:Disabling daily seasonality. Run prophet with daily_seasonality=True to override this.\n"
     ]
    },
    {
     "name": "stdout",
     "output_type": "stream",
     "text": [
      "El producto demoró 2.687021017074585 Centro Norte VD FoodService\n",
      "tiempo que lleva corriendo 5.036693477630616 Min\n"
     ]
    },
    {
     "name": "stderr",
     "output_type": "stream",
     "text": [
      "INFO:fbprophet:Disabling daily seasonality. Run prophet with daily_seasonality=True to override this.\n"
     ]
    },
    {
     "name": "stdout",
     "output_type": "stream",
     "text": [
      "El producto demoró 3.8142316341400146 Centro Norte VD FoodService\n",
      "tiempo que lleva corriendo 5.100264004866282 Min\n"
     ]
    },
    {
     "name": "stderr",
     "output_type": "stream",
     "text": [
      "INFO:fbprophet:Disabling daily seasonality. Run prophet with daily_seasonality=True to override this.\n"
     ]
    },
    {
     "name": "stdout",
     "output_type": "stream",
     "text": [
      "El producto demoró 3.602803945541382 Centro Norte VD FoodService\n",
      "tiempo que lleva corriendo 5.160327347119649 Min\n"
     ]
    },
    {
     "name": "stderr",
     "output_type": "stream",
     "text": [
      "INFO:fbprophet:Disabling daily seasonality. Run prophet with daily_seasonality=True to override this.\n"
     ]
    },
    {
     "name": "stdout",
     "output_type": "stream",
     "text": [
      "El producto demoró 3.7714905738830566 Centro Norte VD FoodService\n",
      "tiempo que lleva corriendo 5.223193836212158 Min\n"
     ]
    },
    {
     "name": "stderr",
     "output_type": "stream",
     "text": [
      "INFO:fbprophet:Disabling daily seasonality. Run prophet with daily_seasonality=True to override this.\n"
     ]
    },
    {
     "name": "stdout",
     "output_type": "stream",
     "text": [
      "El producto demoró 3.9401776790618896 Centro Norte VD FoodService\n",
      "tiempo que lleva corriendo 5.288863464196523 Min\n"
     ]
    },
    {
     "name": "stderr",
     "output_type": "stream",
     "text": [
      "INFO:fbprophet:Disabling daily seasonality. Run prophet with daily_seasonality=True to override this.\n"
     ]
    },
    {
     "name": "stdout",
     "output_type": "stream",
     "text": [
      "El producto demoró 2.5637357234954834 Centro Norte VD FoodService\n",
      "tiempo que lleva corriendo 5.331600701808929 Min\n"
     ]
    },
    {
     "name": "stderr",
     "output_type": "stream",
     "text": [
      "INFO:fbprophet:Disabling daily seasonality. Run prophet with daily_seasonality=True to override this.\n"
     ]
    },
    {
     "name": "stdout",
     "output_type": "stream",
     "text": [
      "El producto demoró 3.205543279647827 Centro Norte VD FoodService\n",
      "tiempo que lleva corriendo 5.3850347320238745 Min\n"
     ]
    },
    {
     "name": "stderr",
     "output_type": "stream",
     "text": [
      "INFO:fbprophet:Disabling daily seasonality. Run prophet with daily_seasonality=True to override this.\n"
     ]
    },
    {
     "name": "stdout",
     "output_type": "stream",
     "text": [
      "El producto demoró 3.2659480571746826 Centro Norte VD FoodService\n",
      "tiempo que lleva corriendo 5.439467199643453 Min\n"
     ]
    },
    {
     "name": "stderr",
     "output_type": "stream",
     "text": [
      "INFO:fbprophet:Disabling daily seasonality. Run prophet with daily_seasonality=True to override this.\n"
     ]
    },
    {
     "name": "stdout",
     "output_type": "stream",
     "text": [
      "El producto demoró 3.8138930797576904 Centro Norte VD FoodService\n",
      "tiempo que lleva corriendo 5.503040405114492 Min\n"
     ]
    },
    {
     "name": "stderr",
     "output_type": "stream",
     "text": [
      "INFO:fbprophet:Disabling daily seasonality. Run prophet with daily_seasonality=True to override this.\n"
     ]
    },
    {
     "name": "stdout",
     "output_type": "stream",
     "text": [
      "El producto demoró 3.5516550540924072 Centro Norte VD FoodService\n",
      "tiempo que lleva corriendo 5.562242972850799 Min\n"
     ]
    },
    {
     "name": "stderr",
     "output_type": "stream",
     "text": [
      "INFO:fbprophet:Disabling daily seasonality. Run prophet with daily_seasonality=True to override this.\n"
     ]
    },
    {
     "name": "stdout",
     "output_type": "stream",
     "text": [
      "El producto demoró 7.441189765930176 Centro Norte VD FoodService\n",
      "tiempo que lleva corriendo 5.686271123091379 Min\n"
     ]
    },
    {
     "name": "stderr",
     "output_type": "stream",
     "text": [
      "INFO:fbprophet:Disabling daily seasonality. Run prophet with daily_seasonality=True to override this.\n"
     ]
    },
    {
     "name": "stdout",
     "output_type": "stream",
     "text": [
      "El producto demoró 4.125813007354736 Centro Norte VD FoodService\n",
      "tiempo que lleva corriendo 5.755034673213959 Min\n"
     ]
    },
    {
     "name": "stderr",
     "output_type": "stream",
     "text": [
      "INFO:fbprophet:Disabling daily seasonality. Run prophet with daily_seasonality=True to override this.\n"
     ]
    },
    {
     "name": "stdout",
     "output_type": "stream",
     "text": [
      "El producto demoró 4.009366035461426 Centro Norte VD FoodService\n",
      "tiempo que lleva corriendo 5.821874058246612 Min\n"
     ]
    },
    {
     "name": "stderr",
     "output_type": "stream",
     "text": [
      "INFO:fbprophet:Disabling daily seasonality. Run prophet with daily_seasonality=True to override this.\n"
     ]
    },
    {
     "name": "stdout",
     "output_type": "stream",
     "text": [
      "El producto demoró 3.7913899421691895 Centro Norte VD FoodService\n",
      "tiempo que lleva corriendo 5.885704366366069 Min\n"
     ]
    },
    {
     "name": "stderr",
     "output_type": "stream",
     "text": [
      "INFO:fbprophet:Disabling daily seasonality. Run prophet with daily_seasonality=True to override this.\n"
     ]
    },
    {
     "name": "stdout",
     "output_type": "stream",
     "text": [
      "El producto demoró 17.07526969909668 Centro Norte VD FoodService\n",
      "tiempo que lleva corriendo 6.170292194684347 Min\n"
     ]
    },
    {
     "name": "stderr",
     "output_type": "stream",
     "text": [
      "INFO:fbprophet:Disabling daily seasonality. Run prophet with daily_seasonality=True to override this.\n"
     ]
    },
    {
     "name": "stdout",
     "output_type": "stream",
     "text": [
      "El producto demoró 3.6911351680755615 Centro Norte VD FoodService\n",
      "tiempo que lleva corriendo 6.231819434960683 Min\n"
     ]
    },
    {
     "name": "stderr",
     "output_type": "stream",
     "text": [
      "INFO:fbprophet:Disabling daily seasonality. Run prophet with daily_seasonality=True to override this.\n"
     ]
    },
    {
     "name": "stdout",
     "output_type": "stream",
     "text": [
      "El producto demoró 3.7360565662384033 Centro Norte VD FoodService\n",
      "tiempo que lleva corriendo 6.2940870443979895 Min\n"
     ]
    },
    {
     "name": "stderr",
     "output_type": "stream",
     "text": [
      "INFO:fbprophet:Disabling daily seasonality. Run prophet with daily_seasonality=True to override this.\n"
     ]
    },
    {
     "name": "stdout",
     "output_type": "stream",
     "text": [
      "El producto demoró 6.885205030441284 Centro Norte VD FoodService\n",
      "tiempo que lleva corriendo 6.408848778406779 Min\n"
     ]
    },
    {
     "name": "stderr",
     "output_type": "stream",
     "text": [
      "INFO:fbprophet:Disabling daily seasonality. Run prophet with daily_seasonality=True to override this.\n"
     ]
    },
    {
     "name": "stdout",
     "output_type": "stream",
     "text": [
      "El producto demoró 4.794092655181885 Centro Norte VD FoodService\n",
      "tiempo que lleva corriendo 6.4887586315472925 Min\n"
     ]
    },
    {
     "name": "stderr",
     "output_type": "stream",
     "text": [
      "INFO:fbprophet:Disabling daily seasonality. Run prophet with daily_seasonality=True to override this.\n"
     ]
    },
    {
     "name": "stdout",
     "output_type": "stream",
     "text": [
      "El producto demoró 3.4401047229766846 Centro Norte VD FoodService\n",
      "tiempo que lleva corriendo 6.546110343933106 Min\n"
     ]
    },
    {
     "name": "stderr",
     "output_type": "stream",
     "text": [
      "INFO:fbprophet:Disabling daily seasonality. Run prophet with daily_seasonality=True to override this.\n"
     ]
    },
    {
     "name": "stdout",
     "output_type": "stream",
     "text": [
      "El producto demoró 4.280045986175537 Centro Norte VD FoodService\n",
      "tiempo que lleva corriendo 6.617444443702698 Min\n"
     ]
    },
    {
     "name": "stderr",
     "output_type": "stream",
     "text": [
      "INFO:fbprophet:Disabling daily seasonality. Run prophet with daily_seasonality=True to override this.\n"
     ]
    },
    {
     "name": "stdout",
     "output_type": "stream",
     "text": [
      "El producto demoró 3.348775863647461 Centro Norte VD FoodService\n",
      "tiempo que lleva corriendo 6.673265695571899 Min\n"
     ]
    },
    {
     "name": "stderr",
     "output_type": "stream",
     "text": [
      "INFO:fbprophet:Disabling daily seasonality. Run prophet with daily_seasonality=True to override this.\n"
     ]
    },
    {
     "name": "stdout",
     "output_type": "stream",
     "text": [
      "El producto demoró 3.8613221645355225 Centro Norte VD FoodService\n",
      "tiempo que lleva corriendo 6.737629381815593 Min\n"
     ]
    },
    {
     "name": "stderr",
     "output_type": "stream",
     "text": [
      "INFO:fbprophet:Disabling daily seasonality. Run prophet with daily_seasonality=True to override this.\n"
     ]
    },
    {
     "name": "stdout",
     "output_type": "stream",
     "text": [
      "El producto demoró 4.4592125415802 Centro Norte VD FoodService\n",
      "tiempo que lleva corriendo 6.8119579712549845 Min\n"
     ]
    },
    {
     "name": "stderr",
     "output_type": "stream",
     "text": [
      "INFO:fbprophet:Disabling daily seasonality. Run prophet with daily_seasonality=True to override this.\n"
     ]
    },
    {
     "name": "stdout",
     "output_type": "stream",
     "text": [
      "El producto demoró 3.66019344329834 Centro Norte VD FoodService\n",
      "tiempo que lleva corriendo 6.872969520092011 Min\n"
     ]
    },
    {
     "name": "stderr",
     "output_type": "stream",
     "text": [
      "INFO:fbprophet:Disabling daily seasonality. Run prophet with daily_seasonality=True to override this.\n"
     ]
    },
    {
     "name": "stdout",
     "output_type": "stream",
     "text": [
      "El producto demoró 3.59232497215271 Centro Norte VD FoodService\n",
      "tiempo que lleva corriendo 6.932841602961222 Min\n"
     ]
    },
    {
     "name": "stderr",
     "output_type": "stream",
     "text": [
      "INFO:fbprophet:Disabling daily seasonality. Run prophet with daily_seasonality=True to override this.\n"
     ]
    },
    {
     "name": "stdout",
     "output_type": "stream",
     "text": [
      "El producto demoró 6.93261981010437 Centro Norte VD FoodService\n",
      "tiempo que lleva corriendo 7.0489175836245215 Min\n"
     ]
    },
    {
     "name": "stderr",
     "output_type": "stream",
     "text": [
      "INFO:fbprophet:Disabling daily seasonality. Run prophet with daily_seasonality=True to override this.\n",
      "INFO:fbprophet:n_changepoints greater than number of observations. Using 15.\n"
     ]
    },
    {
     "name": "stdout",
     "output_type": "stream",
     "text": [
      "El producto demoró 4.037511825561523 Centro Norte VD FoodService\n",
      "tiempo que lleva corriendo 7.116209447383881 Min\n"
     ]
    },
    {
     "name": "stderr",
     "output_type": "stream",
     "text": [
      "INFO:fbprophet:Disabling daily seasonality. Run prophet with daily_seasonality=True to override this.\n"
     ]
    },
    {
     "name": "stdout",
     "output_type": "stream",
     "text": [
      "El producto demoró 90.61596536636353 Centro Norte VD FoodService\n",
      "tiempo que lleva corriendo 8.626475536823273 Min\n"
     ]
    },
    {
     "name": "stderr",
     "output_type": "stream",
     "text": [
      "INFO:fbprophet:Disabling daily seasonality. Run prophet with daily_seasonality=True to override this.\n"
     ]
    },
    {
     "name": "stdout",
     "output_type": "stream",
     "text": [
      "El producto demoró 2.533311128616333 Centro Norte VD FoodService\n",
      "tiempo que lleva corriendo 8.668713716665904 Min\n"
     ]
    },
    {
     "name": "stderr",
     "output_type": "stream",
     "text": [
      "INFO:fbprophet:Disabling daily seasonality. Run prophet with daily_seasonality=True to override this.\n",
      "INFO:fbprophet:n_changepoints greater than number of observations. Using 23.\n"
     ]
    },
    {
     "name": "stdout",
     "output_type": "stream",
     "text": [
      "El producto demoró 2.4519426822662354 Centro Norte VD FoodService\n",
      "tiempo que lleva corriendo 8.709587486584981 Min\n"
     ]
    },
    {
     "name": "stderr",
     "output_type": "stream",
     "text": [
      "INFO:fbprophet:Disabling daily seasonality. Run prophet with daily_seasonality=True to override this.\n"
     ]
    },
    {
     "name": "stdout",
     "output_type": "stream",
     "text": [
      "El producto demoró 3.5758700370788574 Centro Norte VD FoodService\n",
      "tiempo que lleva corriendo 8.769193375110627 Min\n"
     ]
    },
    {
     "name": "stderr",
     "output_type": "stream",
     "text": [
      "INFO:fbprophet:Disabling daily seasonality. Run prophet with daily_seasonality=True to override this.\n"
     ]
    },
    {
     "name": "stdout",
     "output_type": "stream",
     "text": [
      "El producto demoró 6.392135381698608 Centro Norte VD FoodService\n",
      "tiempo que lleva corriendo 8.875736971696218 Min\n"
     ]
    },
    {
     "name": "stderr",
     "output_type": "stream",
     "text": [
      "INFO:fbprophet:Disabling daily seasonality. Run prophet with daily_seasonality=True to override this.\n"
     ]
    },
    {
     "name": "stdout",
     "output_type": "stream",
     "text": [
      "El producto demoró 2.5363054275512695 Centro Norte VD FoodService\n",
      "tiempo que lleva corriendo 8.918008728822072 Min\n"
     ]
    },
    {
     "name": "stderr",
     "output_type": "stream",
     "text": [
      "INFO:fbprophet:Disabling daily seasonality. Run prophet with daily_seasonality=True to override this.\n"
     ]
    },
    {
     "name": "stdout",
     "output_type": "stream",
     "text": [
      "El producto demoró 3.071450710296631 Centro Norte VD FoodService\n",
      "tiempo que lleva corriendo 8.969215893745423 Min\n"
     ]
    },
    {
     "name": "stderr",
     "output_type": "stream",
     "text": [
      "INFO:fbprophet:Disabling daily seasonality. Run prophet with daily_seasonality=True to override this.\n"
     ]
    },
    {
     "name": "stdout",
     "output_type": "stream",
     "text": [
      "El producto demoró 2.5806071758270264 Centro Norte VD FoodService\n",
      "tiempo que lleva corriendo 9.01222601334254 Min\n"
     ]
    },
    {
     "name": "stderr",
     "output_type": "stream",
     "text": [
      "INFO:fbprophet:Disabling daily seasonality. Run prophet with daily_seasonality=True to override this.\n"
     ]
    },
    {
     "name": "stdout",
     "output_type": "stream",
     "text": [
      "El producto demoró 2.6460819244384766 Centro Norte VD FoodService\n",
      "tiempo que lleva corriendo 9.056327378749847 Min\n",
      "El producto demoró 2.3760838508605957 Centro Norte VD FoodService\n",
      "tiempo que lleva corriendo 9.095928776264191 Min\n",
      "Centro Sur\n"
     ]
    },
    {
     "name": "stderr",
     "output_type": "stream",
     "text": [
      "INFO:fbprophet:Disabling daily seasonality. Run prophet with daily_seasonality=True to override this.\n",
      "INFO:fbprophet:Disabling daily seasonality. Run prophet with daily_seasonality=True to override this.\n"
     ]
    },
    {
     "name": "stdout",
     "output_type": "stream",
     "text": [
      "El producto demoró 3.9720122814178467 Centro Sur VD FoodService\n",
      "tiempo que lleva corriendo 9.167627108097076 Min\n"
     ]
    },
    {
     "name": "stderr",
     "output_type": "stream",
     "text": [
      "INFO:fbprophet:Disabling daily seasonality. Run prophet with daily_seasonality=True to override this.\n"
     ]
    },
    {
     "name": "stdout",
     "output_type": "stream",
     "text": [
      "El producto demoró 3.719586133956909 Centro Sur VD FoodService\n",
      "tiempo que lleva corriendo 9.229620210329692 Min\n"
     ]
    },
    {
     "name": "stderr",
     "output_type": "stream",
     "text": [
      "INFO:fbprophet:Disabling daily seasonality. Run prophet with daily_seasonality=True to override this.\n"
     ]
    },
    {
     "name": "stdout",
     "output_type": "stream",
     "text": [
      "El producto demoró 3.929198980331421 Centro Sur VD FoodService\n",
      "tiempo que lleva corriendo 9.29511517683665 Min\n"
     ]
    },
    {
     "name": "stderr",
     "output_type": "stream",
     "text": [
      "INFO:fbprophet:Disabling daily seasonality. Run prophet with daily_seasonality=True to override this.\n"
     ]
    },
    {
     "name": "stdout",
     "output_type": "stream",
     "text": [
      "El producto demoró 3.323821783065796 Centro Sur VD FoodService\n",
      "tiempo que lleva corriendo 9.350520539283753 Min\n"
     ]
    },
    {
     "name": "stderr",
     "output_type": "stream",
     "text": [
      "INFO:fbprophet:Disabling daily seasonality. Run prophet with daily_seasonality=True to override this.\n"
     ]
    },
    {
     "name": "stdout",
     "output_type": "stream",
     "text": [
      "El producto demoró 4.459211111068726 Centro Sur VD FoodService\n",
      "tiempo que lleva corriendo 9.424849049250286 Min\n"
     ]
    },
    {
     "name": "stderr",
     "output_type": "stream",
     "text": [
      "INFO:fbprophet:Disabling daily seasonality. Run prophet with daily_seasonality=True to override this.\n"
     ]
    },
    {
     "name": "stdout",
     "output_type": "stream",
     "text": [
      "El producto demoró 5.285679340362549 Centro Sur VD FoodService\n",
      "tiempo que lleva corriendo 9.512952013810475 Min\n"
     ]
    },
    {
     "name": "stderr",
     "output_type": "stream",
     "text": [
      "INFO:fbprophet:Disabling daily seasonality. Run prophet with daily_seasonality=True to override this.\n"
     ]
    },
    {
     "name": "stdout",
     "output_type": "stream",
     "text": [
      "El producto demoró 3.751526117324829 Centro Sur VD FoodService\n",
      "tiempo que lleva corriendo 9.575494062900543 Min\n"
     ]
    },
    {
     "name": "stderr",
     "output_type": "stream",
     "text": [
      "INFO:fbprophet:Disabling daily seasonality. Run prophet with daily_seasonality=True to override this.\n"
     ]
    },
    {
     "name": "stdout",
     "output_type": "stream",
     "text": [
      "El producto demoró 4.902888298034668 Centro Sur VD FoodService\n",
      "tiempo que lleva corriendo 9.657217180728912 Min\n"
     ]
    },
    {
     "name": "stderr",
     "output_type": "stream",
     "text": [
      "INFO:fbprophet:Disabling daily seasonality. Run prophet with daily_seasonality=True to override this.\n"
     ]
    },
    {
     "name": "stdout",
     "output_type": "stream",
     "text": [
      "El producto demoró 4.558529376983643 Centro Sur VD FoodService\n",
      "tiempo que lleva corriendo 9.733200991153717 Min\n"
     ]
    },
    {
     "name": "stderr",
     "output_type": "stream",
     "text": [
      "INFO:fbprophet:Disabling daily seasonality. Run prophet with daily_seasonality=True to override this.\n"
     ]
    },
    {
     "name": "stdout",
     "output_type": "stream",
     "text": [
      "El producto demoró 4.245607852935791 Centro Sur VD FoodService\n",
      "tiempo que lleva corriendo 9.80396944284439 Min\n"
     ]
    },
    {
     "name": "stderr",
     "output_type": "stream",
     "text": [
      "INFO:fbprophet:Disabling daily seasonality. Run prophet with daily_seasonality=True to override this.\n"
     ]
    },
    {
     "name": "stdout",
     "output_type": "stream",
     "text": [
      "El producto demoró 3.273916721343994 Centro Sur VD FoodService\n",
      "tiempo que lleva corriendo 9.858534721533458 Min\n"
     ]
    },
    {
     "name": "stderr",
     "output_type": "stream",
     "text": [
      "INFO:fbprophet:Disabling daily seasonality. Run prophet with daily_seasonality=True to override this.\n"
     ]
    },
    {
     "name": "stdout",
     "output_type": "stream",
     "text": [
      "El producto demoró 3.302063226699829 Centro Sur VD FoodService\n",
      "tiempo que lleva corriendo 9.9135857462883 Min\n"
     ]
    },
    {
     "name": "stderr",
     "output_type": "stream",
     "text": [
      "INFO:fbprophet:Disabling daily seasonality. Run prophet with daily_seasonality=True to override this.\n"
     ]
    },
    {
     "name": "stdout",
     "output_type": "stream",
     "text": [
      "El producto demoró 4.365884065628052 Centro Sur VD FoodService\n",
      "tiempo que lleva corriendo 9.986358793576558 Min\n"
     ]
    },
    {
     "name": "stderr",
     "output_type": "stream",
     "text": [
      "INFO:fbprophet:Disabling daily seasonality. Run prophet with daily_seasonality=True to override this.\n"
     ]
    },
    {
     "name": "stdout",
     "output_type": "stream",
     "text": [
      "El producto demoró 2.6735501289367676 Centro Sur VD FoodService\n",
      "tiempo que lleva corriendo 10.031658240159352 Min\n"
     ]
    },
    {
     "name": "stderr",
     "output_type": "stream",
     "text": [
      "INFO:fbprophet:Disabling daily seasonality. Run prophet with daily_seasonality=True to override this.\n"
     ]
    },
    {
     "name": "stdout",
     "output_type": "stream",
     "text": [
      "El producto demoró 3.473156690597534 Centro Sur VD FoodService\n",
      "tiempo que lleva corriendo 10.08955249786377 Min\n"
     ]
    },
    {
     "name": "stderr",
     "output_type": "stream",
     "text": [
      "INFO:fbprophet:Disabling daily seasonality. Run prophet with daily_seasonality=True to override this.\n"
     ]
    },
    {
     "name": "stdout",
     "output_type": "stream",
     "text": [
      "El producto demoró 3.517463207244873 Centro Sur VD FoodService\n",
      "tiempo que lleva corriendo 10.148185205459594 Min\n"
     ]
    },
    {
     "name": "stderr",
     "output_type": "stream",
     "text": [
      "INFO:fbprophet:Disabling daily seasonality. Run prophet with daily_seasonality=True to override this.\n"
     ]
    },
    {
     "name": "stdout",
     "output_type": "stream",
     "text": [
      "El producto demoró 3.466557502746582 Centro Sur VD FoodService\n",
      "tiempo que lleva corriendo 10.20596947669983 Min\n"
     ]
    },
    {
     "name": "stderr",
     "output_type": "stream",
     "text": [
      "INFO:fbprophet:Disabling daily seasonality. Run prophet with daily_seasonality=True to override this.\n"
     ]
    },
    {
     "name": "stdout",
     "output_type": "stream",
     "text": [
      "El producto demoró 4.339935779571533 Centro Sur VD FoodService\n",
      "tiempo que lleva corriendo 10.278310052553813 Min\n"
     ]
    },
    {
     "name": "stderr",
     "output_type": "stream",
     "text": [
      "INFO:fbprophet:Disabling daily seasonality. Run prophet with daily_seasonality=True to override this.\n"
     ]
    },
    {
     "name": "stdout",
     "output_type": "stream",
     "text": [
      "El producto demoró 3.200550079345703 Centro Sur VD FoodService\n",
      "tiempo que lleva corriendo 10.331660870711008 Min\n"
     ]
    },
    {
     "name": "stderr",
     "output_type": "stream",
     "text": [
      "INFO:fbprophet:Disabling daily seasonality. Run prophet with daily_seasonality=True to override this.\n"
     ]
    },
    {
     "name": "stdout",
     "output_type": "stream",
     "text": [
      "El producto demoró 3.3637497425079346 Centro Sur VD FoodService\n",
      "tiempo que lleva corriendo 10.387723366419474 Min\n"
     ]
    },
    {
     "name": "stderr",
     "output_type": "stream",
     "text": [
      "INFO:fbprophet:Disabling daily seasonality. Run prophet with daily_seasonality=True to override this.\n"
     ]
    },
    {
     "name": "stdout",
     "output_type": "stream",
     "text": [
      "El producto demoró 3.548902988433838 Centro Sur VD FoodService\n",
      "tiempo que lleva corriendo 10.446888383229574 Min\n"
     ]
    },
    {
     "name": "stderr",
     "output_type": "stream",
     "text": [
      "INFO:fbprophet:Disabling daily seasonality. Run prophet with daily_seasonality=True to override this.\n"
     ]
    },
    {
     "name": "stdout",
     "output_type": "stream",
     "text": [
      "El producto demoró 3.7350618839263916 Centro Sur VD FoodService\n",
      "tiempo que lleva corriendo 10.509147731463115 Min\n"
     ]
    },
    {
     "name": "stderr",
     "output_type": "stream",
     "text": [
      "INFO:fbprophet:Disabling daily seasonality. Run prophet with daily_seasonality=True to override this.\n"
     ]
    },
    {
     "name": "stdout",
     "output_type": "stream",
     "text": [
      "El producto demoró 3.771488666534424 Centro Sur VD FoodService\n",
      "tiempo que lleva corriendo 10.572014204661052 Min\n"
     ]
    },
    {
     "name": "stderr",
     "output_type": "stream",
     "text": [
      "INFO:fbprophet:Disabling daily seasonality. Run prophet with daily_seasonality=True to override this.\n"
     ]
    },
    {
     "name": "stdout",
     "output_type": "stream",
     "text": [
      "El producto demoró 2.508854389190674 Centro Sur VD FoodService\n",
      "tiempo que lleva corriendo 10.613828444480896 Min\n"
     ]
    },
    {
     "name": "stderr",
     "output_type": "stream",
     "text": [
      "INFO:fbprophet:Disabling daily seasonality. Run prophet with daily_seasonality=True to override this.\n"
     ]
    },
    {
     "name": "stdout",
     "output_type": "stream",
     "text": [
      "El producto demoró 3.9840779304504395 Centro Sur VD FoodService\n",
      "tiempo que lleva corriendo 10.680238052209218 Min\n"
     ]
    },
    {
     "name": "stderr",
     "output_type": "stream",
     "text": [
      "INFO:fbprophet:Disabling daily seasonality. Run prophet with daily_seasonality=True to override this.\n"
     ]
    },
    {
     "name": "stdout",
     "output_type": "stream",
     "text": [
      "El producto demoró 3.515967845916748 Centro Sur VD FoodService\n",
      "tiempo que lleva corriendo 10.738845825195312 Min\n"
     ]
    },
    {
     "name": "stderr",
     "output_type": "stream",
     "text": [
      "INFO:fbprophet:Disabling daily seasonality. Run prophet with daily_seasonality=True to override this.\n"
     ]
    },
    {
     "name": "stdout",
     "output_type": "stream",
     "text": [
      "El producto demoró 3.7480311393737793 Centro Sur VD FoodService\n",
      "tiempo que lleva corriendo 10.802061633268993 Min\n"
     ]
    },
    {
     "name": "stderr",
     "output_type": "stream",
     "text": [
      "INFO:fbprophet:Disabling daily seasonality. Run prophet with daily_seasonality=True to override this.\n"
     ]
    },
    {
     "name": "stdout",
     "output_type": "stream",
     "text": [
      "El producto demoró 2.4674203395843506 Centro Sur VD FoodService\n",
      "tiempo que lleva corriendo 10.843193840980529 Min\n"
     ]
    },
    {
     "name": "stderr",
     "output_type": "stream",
     "text": [
      "INFO:fbprophet:Disabling daily seasonality. Run prophet with daily_seasonality=True to override this.\n"
     ]
    },
    {
     "name": "stdout",
     "output_type": "stream",
     "text": [
      "El producto demoró 3.0994040966033936 Centro Sur VD FoodService\n",
      "tiempo que lleva corriendo 10.89485889673233 Min\n"
     ]
    },
    {
     "name": "stderr",
     "output_type": "stream",
     "text": [
      "INFO:fbprophet:Disabling daily seasonality. Run prophet with daily_seasonality=True to override this.\n"
     ]
    },
    {
     "name": "stdout",
     "output_type": "stream",
     "text": [
      "El producto demoró 3.0198850631713867 Centro Sur VD FoodService\n",
      "tiempo que lleva corriendo 10.945198635260263 Min\n"
     ]
    },
    {
     "name": "stderr",
     "output_type": "stream",
     "text": [
      "INFO:fbprophet:Disabling daily seasonality. Run prophet with daily_seasonality=True to override this.\n"
     ]
    },
    {
     "name": "stdout",
     "output_type": "stream",
     "text": [
      "El producto demoró 4.468195676803589 Centro Sur VD FoodService\n",
      "tiempo que lleva corriendo 11.019676876068115 Min\n"
     ]
    },
    {
     "name": "stderr",
     "output_type": "stream",
     "text": [
      "INFO:fbprophet:Disabling daily seasonality. Run prophet with daily_seasonality=True to override this.\n"
     ]
    },
    {
     "name": "stdout",
     "output_type": "stream",
     "text": [
      "El producto demoró 3.4665582180023193 Centro Sur VD FoodService\n",
      "tiempo que lleva corriendo 11.077461167176564 Min\n"
     ]
    },
    {
     "name": "stderr",
     "output_type": "stream",
     "text": [
      "INFO:fbprophet:Disabling daily seasonality. Run prophet with daily_seasonality=True to override this.\n"
     ]
    },
    {
     "name": "stdout",
     "output_type": "stream",
     "text": [
      "El producto demoró 3.6067962646484375 Centro Sur VD FoodService\n",
      "tiempo que lleva corriendo 11.137582751115163 Min\n"
     ]
    },
    {
     "name": "stderr",
     "output_type": "stream",
     "text": [
      "INFO:fbprophet:Disabling daily seasonality. Run prophet with daily_seasonality=True to override this.\n"
     ]
    },
    {
     "name": "stdout",
     "output_type": "stream",
     "text": [
      "El producto demoró 4.327956199645996 Centro Sur VD FoodService\n",
      "tiempo que lleva corriendo 11.209715354442597 Min\n"
     ]
    },
    {
     "name": "stderr",
     "output_type": "stream",
     "text": [
      "INFO:fbprophet:Disabling daily seasonality. Run prophet with daily_seasonality=True to override this.\n"
     ]
    },
    {
     "name": "stdout",
     "output_type": "stream",
     "text": [
      "El producto demoró 3.468447685241699 Centro Sur VD FoodService\n",
      "tiempo que lleva corriendo 11.267539453506469 Min\n"
     ]
    },
    {
     "name": "stderr",
     "output_type": "stream",
     "text": [
      "INFO:fbprophet:Disabling daily seasonality. Run prophet with daily_seasonality=True to override this.\n"
     ]
    },
    {
     "name": "stdout",
     "output_type": "stream",
     "text": [
      "El producto demoró 4.89490270614624 Centro Sur VD FoodService\n",
      "tiempo que lleva corriendo 11.349129505952199 Min\n"
     ]
    },
    {
     "name": "stderr",
     "output_type": "stream",
     "text": [
      "INFO:fbprophet:Disabling daily seasonality. Run prophet with daily_seasonality=True to override this.\n"
     ]
    },
    {
     "name": "stdout",
     "output_type": "stream",
     "text": [
      "El producto demoró 6.740472316741943 Centro Sur VD FoodService\n",
      "tiempo que lleva corriendo 11.461470711231232 Min\n"
     ]
    },
    {
     "name": "stderr",
     "output_type": "stream",
     "text": [
      "INFO:fbprophet:Disabling daily seasonality. Run prophet with daily_seasonality=True to override this.\n"
     ]
    },
    {
     "name": "stdout",
     "output_type": "stream",
     "text": [
      "El producto demoró 5.0940330028533936 Centro Sur VD FoodService\n",
      "tiempo que lleva corriendo 11.546371261278788 Min\n"
     ]
    },
    {
     "name": "stderr",
     "output_type": "stream",
     "text": [
      "INFO:fbprophet:Disabling daily seasonality. Run prophet with daily_seasonality=True to override this.\n"
     ]
    },
    {
     "name": "stdout",
     "output_type": "stream",
     "text": [
      "El producto demoró 3.78546404838562 Centro Sur VD FoodService\n",
      "tiempo que lleva corriendo 11.609470637639363 Min\n"
     ]
    },
    {
     "name": "stderr",
     "output_type": "stream",
     "text": [
      "INFO:fbprophet:Disabling daily seasonality. Run prophet with daily_seasonality=True to override this.\n"
     ]
    },
    {
     "name": "stdout",
     "output_type": "stream",
     "text": [
      "El producto demoró 2.6680259704589844 Centro Sur VD FoodService\n",
      "tiempo que lleva corriendo 11.654919556776683 Min\n"
     ]
    },
    {
     "name": "stderr",
     "output_type": "stream",
     "text": [
      "INFO:fbprophet:Disabling daily seasonality. Run prophet with daily_seasonality=True to override this.\n"
     ]
    },
    {
     "name": "stdout",
     "output_type": "stream",
     "text": [
      "El producto demoró 3.3422887325286865 Centro Sur VD FoodService\n",
      "tiempo que lleva corriendo 11.710624368985494 Min\n"
     ]
    },
    {
     "name": "stderr",
     "output_type": "stream",
     "text": [
      "INFO:fbprophet:Disabling daily seasonality. Run prophet with daily_seasonality=True to override this.\n"
     ]
    },
    {
     "name": "stdout",
     "output_type": "stream",
     "text": [
      "El producto demoró 2.79280686378479 Centro Sur VD FoodService\n",
      "tiempo que lleva corriendo 11.757179466883342 Min\n"
     ]
    },
    {
     "name": "stderr",
     "output_type": "stream",
     "text": [
      "INFO:fbprophet:Disabling daily seasonality. Run prophet with daily_seasonality=True to override this.\n"
     ]
    },
    {
     "name": "stdout",
     "output_type": "stream",
     "text": [
      "El producto demoró 3.036682367324829 Centro Sur VD FoodService\n",
      "tiempo que lleva corriendo 11.807807167371115 Min\n"
     ]
    },
    {
     "name": "stderr",
     "output_type": "stream",
     "text": [
      "INFO:fbprophet:Disabling daily seasonality. Run prophet with daily_seasonality=True to override this.\n"
     ]
    },
    {
     "name": "stdout",
     "output_type": "stream",
     "text": [
      "El producto demoró 2.7399260997772217 Centro Sur VD FoodService\n",
      "tiempo que lleva corriendo 11.8534726023674 Min\n"
     ]
    },
    {
     "name": "stderr",
     "output_type": "stream",
     "text": [
      "INFO:fbprophet:Disabling daily seasonality. Run prophet with daily_seasonality=True to override this.\n"
     ]
    },
    {
     "name": "stdout",
     "output_type": "stream",
     "text": [
      "El producto demoró 2.897135019302368 Centro Sur VD FoodService\n",
      "tiempo que lleva corriendo 11.901766200860342 Min\n"
     ]
    },
    {
     "name": "stderr",
     "output_type": "stream",
     "text": [
      "INFO:fbprophet:Disabling daily seasonality. Run prophet with daily_seasonality=True to override this.\n"
     ]
    },
    {
     "name": "stdout",
     "output_type": "stream",
     "text": [
      "El producto demoró 2.742129325866699 Centro Sur VD FoodService\n",
      "tiempo que lleva corriendo 11.947468356291454 Min\n"
     ]
    },
    {
     "name": "stderr",
     "output_type": "stream",
     "text": [
      "INFO:fbprophet:Disabling daily seasonality. Run prophet with daily_seasonality=True to override this.\n"
     ]
    },
    {
     "name": "stdout",
     "output_type": "stream",
     "text": [
      "El producto demoró 2.4025352001190186 Centro Sur VD FoodService\n",
      "tiempo que lleva corriendo 11.98751894235611 Min\n"
     ]
    },
    {
     "name": "stderr",
     "output_type": "stream",
     "text": [
      "INFO:fbprophet:Disabling daily seasonality. Run prophet with daily_seasonality=True to override this.\n"
     ]
    },
    {
     "name": "stdout",
     "output_type": "stream",
     "text": [
      "El producto demoró 2.786320447921753 Centro Sur VD FoodService\n",
      "tiempo que lleva corriendo 12.03396593729655 Min\n"
     ]
    },
    {
     "name": "stderr",
     "output_type": "stream",
     "text": [
      "INFO:fbprophet:Disabling daily seasonality. Run prophet with daily_seasonality=True to override this.\n"
     ]
    },
    {
     "name": "stdout",
     "output_type": "stream",
     "text": [
      "El producto demoró 3.401662588119507 Centro Sur VD FoodService\n",
      "tiempo que lleva corriendo 12.090660313765207 Min\n"
     ]
    },
    {
     "name": "stderr",
     "output_type": "stream",
     "text": [
      "INFO:fbprophet:Disabling daily seasonality. Run prophet with daily_seasonality=True to override this.\n"
     ]
    },
    {
     "name": "stdout",
     "output_type": "stream",
     "text": [
      "El producto demoró 2.4649343490600586 Centro Sur VD FoodService\n",
      "tiempo que lleva corriendo 12.13175896803538 Min\n"
     ]
    },
    {
     "name": "stderr",
     "output_type": "stream",
     "text": [
      "INFO:fbprophet:Disabling daily seasonality. Run prophet with daily_seasonality=True to override this.\n"
     ]
    },
    {
     "name": "stdout",
     "output_type": "stream",
     "text": [
      "El producto demoró 2.710475206375122 Centro Sur VD FoodService\n",
      "tiempo que lleva corriendo 12.176933554808299 Min\n",
      "El producto demoró 2.5455780029296875 Centro Sur VD FoodService\n",
      "tiempo que lleva corriendo 12.219367881615957 Min\n",
      "Sur\n"
     ]
    },
    {
     "name": "stderr",
     "output_type": "stream",
     "text": [
      "INFO:fbprophet:Disabling daily seasonality. Run prophet with daily_seasonality=True to override this.\n",
      "INFO:fbprophet:Disabling daily seasonality. Run prophet with daily_seasonality=True to override this.\n"
     ]
    },
    {
     "name": "stdout",
     "output_type": "stream",
     "text": [
      "El producto demoró 3.5947999954223633 Sur VD FoodService\n",
      "tiempo que lleva corriendo 12.28474634885788 Min\n"
     ]
    },
    {
     "name": "stderr",
     "output_type": "stream",
     "text": [
      "INFO:fbprophet:Disabling daily seasonality. Run prophet with daily_seasonality=True to override this.\n"
     ]
    },
    {
     "name": "stdout",
     "output_type": "stream",
     "text": [
      "El producto demoró 3.3772261142730713 Sur VD FoodService\n",
      "tiempo que lleva corriendo 12.341050096352895 Min\n"
     ]
    },
    {
     "name": "stderr",
     "output_type": "stream",
     "text": [
      "INFO:fbprophet:Disabling daily seasonality. Run prophet with daily_seasonality=True to override this.\n"
     ]
    },
    {
     "name": "stdout",
     "output_type": "stream",
     "text": [
      "El producto demoró 3.828423023223877 Sur VD FoodService\n",
      "tiempo que lleva corriendo 12.40485714673996 Min\n"
     ]
    },
    {
     "name": "stderr",
     "output_type": "stream",
     "text": [
      "INFO:fbprophet:Disabling daily seasonality. Run prophet with daily_seasonality=True to override this.\n"
     ]
    },
    {
     "name": "stdout",
     "output_type": "stream",
     "text": [
      "El producto demoró 3.7497482299804688 Sur VD FoodService\n",
      "tiempo que lleva corriendo 12.467361263434093 Min\n"
     ]
    },
    {
     "name": "stderr",
     "output_type": "stream",
     "text": [
      "INFO:fbprophet:Disabling daily seasonality. Run prophet with daily_seasonality=True to override this.\n"
     ]
    },
    {
     "name": "stdout",
     "output_type": "stream",
     "text": [
      "El producto demoró 4.02402400970459 Sur VD FoodService\n",
      "tiempo que lleva corriendo 12.534436651070912 Min\n"
     ]
    },
    {
     "name": "stderr",
     "output_type": "stream",
     "text": [
      "INFO:fbprophet:Disabling daily seasonality. Run prophet with daily_seasonality=True to override this.\n"
     ]
    },
    {
     "name": "stdout",
     "output_type": "stream",
     "text": [
      "El producto demoró 3.5069823265075684 Sur VD FoodService\n",
      "tiempo que lleva corriendo 12.592894673347473 Min\n"
     ]
    },
    {
     "name": "stderr",
     "output_type": "stream",
     "text": [
      "INFO:fbprophet:Disabling daily seasonality. Run prophet with daily_seasonality=True to override this.\n"
     ]
    },
    {
     "name": "stdout",
     "output_type": "stream",
     "text": [
      "El producto demoró 3.633244514465332 Sur VD FoodService\n",
      "tiempo que lleva corriendo 12.653457077344259 Min\n"
     ]
    },
    {
     "name": "stderr",
     "output_type": "stream",
     "text": [
      "INFO:fbprophet:Disabling daily seasonality. Run prophet with daily_seasonality=True to override this.\n"
     ]
    },
    {
     "name": "stdout",
     "output_type": "stream",
     "text": [
      "El producto demoró 3.9032480716705322 Sur VD FoodService\n",
      "tiempo que lleva corriendo 12.718519536654155 Min\n"
     ]
    },
    {
     "name": "stderr",
     "output_type": "stream",
     "text": [
      "INFO:fbprophet:Disabling daily seasonality. Run prophet with daily_seasonality=True to override this.\n"
     ]
    },
    {
     "name": "stdout",
     "output_type": "stream",
     "text": [
      "El producto demoró 3.2654290199279785 Sur VD FoodService\n",
      "tiempo que lleva corriendo 12.772943353652954 Min\n"
     ]
    },
    {
     "name": "stderr",
     "output_type": "stream",
     "text": [
      "INFO:fbprophet:Disabling daily seasonality. Run prophet with daily_seasonality=True to override this.\n"
     ]
    },
    {
     "name": "stdout",
     "output_type": "stream",
     "text": [
      "El producto demoró 3.4580729007720947 Sur VD FoodService\n",
      "tiempo que lleva corriendo 12.830594523747761 Min\n"
     ]
    },
    {
     "name": "stderr",
     "output_type": "stream",
     "text": [
      "INFO:fbprophet:Disabling daily seasonality. Run prophet with daily_seasonality=True to override this.\n"
     ]
    },
    {
     "name": "stdout",
     "output_type": "stream",
     "text": [
      "El producto demoró 3.437612295150757 Sur VD FoodService\n",
      "tiempo que lleva corriendo 12.887896378835043 Min\n"
     ]
    },
    {
     "name": "stderr",
     "output_type": "stream",
     "text": [
      "INFO:fbprophet:Disabling daily seasonality. Run prophet with daily_seasonality=True to override this.\n"
     ]
    },
    {
     "name": "stdout",
     "output_type": "stream",
     "text": [
      "El producto demoró 4.397826671600342 Sur VD FoodService\n",
      "tiempo que lleva corriendo 12.961201802889507 Min\n"
     ]
    },
    {
     "name": "stderr",
     "output_type": "stream",
     "text": [
      "INFO:fbprophet:Disabling daily seasonality. Run prophet with daily_seasonality=True to override this.\n"
     ]
    },
    {
     "name": "stdout",
     "output_type": "stream",
     "text": [
      "El producto demoró 3.2978718280792236 Sur VD FoodService\n",
      "tiempo que lleva corriendo 13.016174642244975 Min\n"
     ]
    },
    {
     "name": "stderr",
     "output_type": "stream",
     "text": [
      "INFO:fbprophet:Disabling daily seasonality. Run prophet with daily_seasonality=True to override this.\n"
     ]
    },
    {
     "name": "stdout",
     "output_type": "stream",
     "text": [
      "El producto demoró 2.7933075428009033 Sur VD FoodService\n",
      "tiempo que lleva corriendo 13.063328655560811 Min\n"
     ]
    },
    {
     "name": "stderr",
     "output_type": "stream",
     "text": [
      "INFO:fbprophet:Disabling daily seasonality. Run prophet with daily_seasonality=True to override this.\n"
     ]
    },
    {
     "name": "stdout",
     "output_type": "stream",
     "text": [
      "El producto demoró 6.138592481613159 Sur VD FoodService\n",
      "tiempo que lleva corriendo 13.165638530254364 Min\n"
     ]
    },
    {
     "name": "stderr",
     "output_type": "stream",
     "text": [
      "INFO:fbprophet:Disabling daily seasonality. Run prophet with daily_seasonality=True to override this.\n"
     ]
    },
    {
     "name": "stdout",
     "output_type": "stream",
     "text": [
      "El producto demoró 3.654710054397583 Sur VD FoodService\n",
      "tiempo que lleva corriendo 13.2265669465065 Min\n"
     ]
    },
    {
     "name": "stderr",
     "output_type": "stream",
     "text": [
      "INFO:fbprophet:Disabling daily seasonality. Run prophet with daily_seasonality=True to override this.\n"
     ]
    },
    {
     "name": "stdout",
     "output_type": "stream",
     "text": [
      "El producto demoró 4.04448390007019 Sur VD FoodService\n",
      "tiempo que lleva corriendo 13.293983320395151 Min\n"
     ]
    },
    {
     "name": "stderr",
     "output_type": "stream",
     "text": [
      "INFO:fbprophet:Disabling daily seasonality. Run prophet with daily_seasonality=True to override this.\n"
     ]
    },
    {
     "name": "stdout",
     "output_type": "stream",
     "text": [
      "El producto demoró 4.018533945083618 Sur VD FoodService\n",
      "tiempo que lleva corriendo 13.360967206954957 Min\n"
     ]
    },
    {
     "name": "stderr",
     "output_type": "stream",
     "text": [
      "INFO:fbprophet:Disabling daily seasonality. Run prophet with daily_seasonality=True to override this.\n"
     ]
    },
    {
     "name": "stdout",
     "output_type": "stream",
     "text": [
      "El producto demoró 3.3023605346679688 Sur VD FoodService\n",
      "tiempo que lleva corriendo 13.416014862060546 Min\n"
     ]
    },
    {
     "name": "stderr",
     "output_type": "stream",
     "text": [
      "INFO:fbprophet:Disabling daily seasonality. Run prophet with daily_seasonality=True to override this.\n"
     ]
    },
    {
     "name": "stdout",
     "output_type": "stream",
     "text": [
      "El producto demoró 3.383856773376465 Sur VD FoodService\n",
      "tiempo que lleva corriendo 13.472420795758564 Min\n"
     ]
    },
    {
     "name": "stderr",
     "output_type": "stream",
     "text": [
      "INFO:fbprophet:Disabling daily seasonality. Run prophet with daily_seasonality=True to override this.\n"
     ]
    },
    {
     "name": "stdout",
     "output_type": "stream",
     "text": [
      "El producto demoró 2.9919581413269043 Sur VD FoodService\n",
      "tiempo que lleva corriendo 13.52228676478068 Min\n"
     ]
    },
    {
     "name": "stderr",
     "output_type": "stream",
     "text": [
      "INFO:fbprophet:Disabling daily seasonality. Run prophet with daily_seasonality=True to override this.\n"
     ]
    },
    {
     "name": "stdout",
     "output_type": "stream",
     "text": [
      "El producto demoró 3.4715473651885986 Sur VD FoodService\n",
      "tiempo que lleva corriendo 13.580170853932698 Min\n"
     ]
    },
    {
     "name": "stderr",
     "output_type": "stream",
     "text": [
      "INFO:fbprophet:Disabling daily seasonality. Run prophet with daily_seasonality=True to override this.\n"
     ]
    },
    {
     "name": "stdout",
     "output_type": "stream",
     "text": [
      "El producto demoró 3.1571130752563477 Sur VD FoodService\n",
      "tiempo que lleva corriendo 13.632789405186971 Min\n"
     ]
    },
    {
     "name": "stderr",
     "output_type": "stream",
     "text": [
      "INFO:fbprophet:Disabling daily seasonality. Run prophet with daily_seasonality=True to override this.\n"
     ]
    },
    {
     "name": "stdout",
     "output_type": "stream",
     "text": [
      "El producto demoró 2.9660065174102783 Sur VD FoodService\n",
      "tiempo que lleva corriendo 13.682231171925862 Min\n"
     ]
    },
    {
     "name": "stderr",
     "output_type": "stream",
     "text": [
      "INFO:fbprophet:Disabling daily seasonality. Run prophet with daily_seasonality=True to override this.\n"
     ]
    },
    {
     "name": "stdout",
     "output_type": "stream",
     "text": [
      "El producto demoró 3.0523104667663574 Sur VD FoodService\n",
      "tiempo que lleva corriendo 13.733111329873402 Min\n"
     ]
    },
    {
     "name": "stderr",
     "output_type": "stream",
     "text": [
      "INFO:fbprophet:Disabling daily seasonality. Run prophet with daily_seasonality=True to override this.\n"
     ]
    },
    {
     "name": "stdout",
     "output_type": "stream",
     "text": [
      "El producto demoró 3.5688836574554443 Sur VD FoodService\n",
      "tiempo que lleva corriendo 13.792592724164328 Min\n"
     ]
    },
    {
     "name": "stderr",
     "output_type": "stream",
     "text": [
      "INFO:fbprophet:Disabling daily seasonality. Run prophet with daily_seasonality=True to override this.\n"
     ]
    },
    {
     "name": "stdout",
     "output_type": "stream",
     "text": [
      "El producto demoró 2.5816993713378906 Sur VD FoodService\n",
      "tiempo que lleva corriendo 13.836153133710225 Min\n"
     ]
    },
    {
     "name": "stderr",
     "output_type": "stream",
     "text": [
      "INFO:fbprophet:Disabling daily seasonality. Run prophet with daily_seasonality=True to override this.\n"
     ]
    },
    {
     "name": "stdout",
     "output_type": "stream",
     "text": [
      "El producto demoró 3.2754127979278564 Sur VD FoodService\n",
      "tiempo que lleva corriendo 13.890760000546774 Min\n"
     ]
    },
    {
     "name": "stderr",
     "output_type": "stream",
     "text": [
      "INFO:fbprophet:Disabling daily seasonality. Run prophet with daily_seasonality=True to override this.\n"
     ]
    },
    {
     "name": "stdout",
     "output_type": "stream",
     "text": [
      "El producto demoró 4.575994253158569 Sur VD FoodService\n",
      "tiempo que lleva corriendo 13.967034876346588 Min\n"
     ]
    },
    {
     "name": "stderr",
     "output_type": "stream",
     "text": [
      "INFO:fbprophet:Disabling daily seasonality. Run prophet with daily_seasonality=True to override this.\n"
     ]
    },
    {
     "name": "stdout",
     "output_type": "stream",
     "text": [
      "El producto demoró 4.7446839809417725 Sur VD FoodService\n",
      "tiempo que lleva corriendo 14.046121271451314 Min\n"
     ]
    },
    {
     "name": "stderr",
     "output_type": "stream",
     "text": [
      "INFO:fbprophet:Disabling daily seasonality. Run prophet with daily_seasonality=True to override this.\n"
     ]
    },
    {
     "name": "stdout",
     "output_type": "stream",
     "text": [
      "El producto demoró 2.7414207458496094 Sur VD FoodService\n",
      "tiempo que lleva corriendo 14.091811617215475 Min\n"
     ]
    },
    {
     "name": "stderr",
     "output_type": "stream",
     "text": [
      "INFO:fbprophet:Disabling daily seasonality. Run prophet with daily_seasonality=True to override this.\n"
     ]
    },
    {
     "name": "stdout",
     "output_type": "stream",
     "text": [
      "El producto demoró 2.727414846420288 Sur VD FoodService\n",
      "tiempo que lleva corriendo 14.13726853132248 Min\n"
     ]
    },
    {
     "name": "stderr",
     "output_type": "stream",
     "text": [
      "INFO:fbprophet:Disabling daily seasonality. Run prophet with daily_seasonality=True to override this.\n"
     ]
    },
    {
     "name": "stdout",
     "output_type": "stream",
     "text": [
      "El producto demoró 3.089275360107422 Sur VD FoodService\n",
      "tiempo que lleva corriendo 14.188764770825705 Min\n"
     ]
    },
    {
     "name": "stderr",
     "output_type": "stream",
     "text": [
      "INFO:fbprophet:Disabling daily seasonality. Run prophet with daily_seasonality=True to override this.\n"
     ]
    },
    {
     "name": "stdout",
     "output_type": "stream",
     "text": [
      "El producto demoró 2.719944477081299 Sur VD FoodService\n",
      "tiempo que lleva corriendo 14.23409717877706 Min\n"
     ]
    },
    {
     "name": "stderr",
     "output_type": "stream",
     "text": [
      "INFO:fbprophet:Disabling daily seasonality. Run prophet with daily_seasonality=True to override this.\n"
     ]
    },
    {
     "name": "stdout",
     "output_type": "stream",
     "text": [
      "El producto demoró 2.638580799102783 Sur VD FoodService\n",
      "tiempo que lleva corriendo 14.278098487854004 Min\n"
     ]
    },
    {
     "name": "stderr",
     "output_type": "stream",
     "text": [
      "INFO:fbprophet:Disabling daily seasonality. Run prophet with daily_seasonality=True to override this.\n",
      "INFO:fbprophet:n_changepoints greater than number of observations. Using 10.\n"
     ]
    },
    {
     "name": "stdout",
     "output_type": "stream",
     "text": [
      "El producto demoró 3.360751152038574 Sur VD FoodService\n",
      "tiempo que lleva corriendo 14.33412762482961 Min\n"
     ]
    },
    {
     "name": "stderr",
     "output_type": "stream",
     "text": [
      "INFO:fbprophet:Disabling daily seasonality. Run prophet with daily_seasonality=True to override this.\n"
     ]
    },
    {
     "name": "stdout",
     "output_type": "stream",
     "text": [
      "El producto demoró 55.72304344177246 Sur VD FoodService\n",
      "tiempo que lleva corriendo 15.262845015525818 Min\n"
     ]
    },
    {
     "name": "stderr",
     "output_type": "stream",
     "text": [
      "INFO:fbprophet:Disabling daily seasonality. Run prophet with daily_seasonality=True to override this.\n"
     ]
    },
    {
     "name": "stdout",
     "output_type": "stream",
     "text": [
      "El producto demoró 3.093750238418579 Sur VD FoodService\n",
      "tiempo que lleva corriendo 15.314407519499461 Min\n"
     ]
    },
    {
     "name": "stderr",
     "output_type": "stream",
     "text": [
      "INFO:fbprophet:Disabling daily seasonality. Run prophet with daily_seasonality=True to override this.\n"
     ]
    },
    {
     "name": "stdout",
     "output_type": "stream",
     "text": [
      "El producto demoró 3.0314972400665283 Sur VD FoodService\n",
      "tiempo que lleva corriendo 15.364948829015097 Min\n"
     ]
    },
    {
     "name": "stderr",
     "output_type": "stream",
     "text": [
      "INFO:fbprophet:Disabling daily seasonality. Run prophet with daily_seasonality=True to override this.\n"
     ]
    },
    {
     "name": "stdout",
     "output_type": "stream",
     "text": [
      "El producto demoró 4.354536056518555 Sur VD FoodService\n",
      "tiempo que lleva corriendo 15.438156878948211 Min\n"
     ]
    },
    {
     "name": "stderr",
     "output_type": "stream",
     "text": [
      "INFO:fbprophet:Disabling daily seasonality. Run prophet with daily_seasonality=True to override this.\n"
     ]
    },
    {
     "name": "stdout",
     "output_type": "stream",
     "text": [
      "El producto demoró 2.7339367866516113 Sur VD FoodService\n",
      "tiempo que lleva corriendo 15.483730578422547 Min\n"
     ]
    },
    {
     "name": "stderr",
     "output_type": "stream",
     "text": [
      "INFO:fbprophet:Disabling daily seasonality. Run prophet with daily_seasonality=True to override this.\n"
     ]
    },
    {
     "name": "stdout",
     "output_type": "stream",
     "text": [
      "El producto demoró 3.145153045654297 Sur VD FoodService\n",
      "tiempo que lleva corriendo 15.536158100763958 Min\n"
     ]
    },
    {
     "name": "stderr",
     "output_type": "stream",
     "text": [
      "INFO:fbprophet:Disabling daily seasonality. Run prophet with daily_seasonality=True to override this.\n"
     ]
    },
    {
     "name": "stdout",
     "output_type": "stream",
     "text": [
      "El producto demoró 3.3842103481292725 Sur VD FoodService\n",
      "tiempo que lleva corriendo 15.592561606566111 Min\n"
     ]
    },
    {
     "name": "stderr",
     "output_type": "stream",
     "text": [
      "INFO:fbprophet:Disabling daily seasonality. Run prophet with daily_seasonality=True to override this.\n"
     ]
    },
    {
     "name": "stdout",
     "output_type": "stream",
     "text": [
      "El producto demoró 4.186219692230225 Sur VD FoodService\n",
      "tiempo que lleva corriendo 15.662340251604716 Min\n"
     ]
    },
    {
     "name": "stderr",
     "output_type": "stream",
     "text": [
      "INFO:fbprophet:Disabling daily seasonality. Run prophet with daily_seasonality=True to override this.\n"
     ]
    },
    {
     "name": "stdout",
     "output_type": "stream",
     "text": [
      "El producto demoró 3.2140450477600098 Sur VD FoodService\n",
      "tiempo que lleva corriendo 15.715915950139363 Min\n"
     ]
    },
    {
     "name": "stderr",
     "output_type": "stream",
     "text": [
      "INFO:fbprophet:Disabling daily seasonality. Run prophet with daily_seasonality=True to override this.\n"
     ]
    },
    {
     "name": "stdout",
     "output_type": "stream",
     "text": [
      "El producto demoró 2.7902963161468506 Sur VD FoodService\n",
      "tiempo que lleva corriendo 15.762437546253205 Min\n"
     ]
    },
    {
     "name": "stderr",
     "output_type": "stream",
     "text": [
      "INFO:fbprophet:Disabling daily seasonality. Run prophet with daily_seasonality=True to override this.\n"
     ]
    },
    {
     "name": "stdout",
     "output_type": "stream",
     "text": [
      "El producto demoró 3.531395435333252 Sur VD FoodService\n",
      "tiempo que lleva corriendo 15.821302437782288 Min\n"
     ]
    },
    {
     "name": "stderr",
     "output_type": "stream",
     "text": [
      "INFO:fbprophet:Disabling daily seasonality. Run prophet with daily_seasonality=True to override this.\n"
     ]
    },
    {
     "name": "stdout",
     "output_type": "stream",
     "text": [
      "El producto demoró 3.5464072227478027 Sur VD FoodService\n",
      "tiempo que lleva corriendo 15.880417537689208 Min\n"
     ]
    },
    {
     "name": "stderr",
     "output_type": "stream",
     "text": [
      "INFO:fbprophet:Disabling daily seasonality. Run prophet with daily_seasonality=True to override this.\n"
     ]
    },
    {
     "name": "stdout",
     "output_type": "stream",
     "text": [
      "El producto demoró 4.355780124664307 Sur VD FoodService\n",
      "tiempo que lleva corriendo 15.953022185961405 Min\n"
     ]
    },
    {
     "name": "stderr",
     "output_type": "stream",
     "text": [
      "INFO:fbprophet:Disabling daily seasonality. Run prophet with daily_seasonality=True to override this.\n"
     ]
    },
    {
     "name": "stdout",
     "output_type": "stream",
     "text": [
      "El producto demoró 3.9490115642547607 Sur VD FoodService\n",
      "tiempo que lleva corriendo 16.018847362200418 Min\n"
     ]
    },
    {
     "name": "stderr",
     "output_type": "stream",
     "text": [
      "INFO:fbprophet:Disabling daily seasonality. Run prophet with daily_seasonality=True to override this.\n"
     ]
    },
    {
     "name": "stdout",
     "output_type": "stream",
     "text": [
      "El producto demoró 3.753528356552124 Sur VD FoodService\n",
      "tiempo que lleva corriendo 16.08141448497772 Min\n",
      "El producto demoró 4.433774709701538 Sur VD FoodService\n",
      "tiempo que lleva corriendo 16.155310730139416 Min\n",
      "Norte\n"
     ]
    },
    {
     "name": "stderr",
     "output_type": "stream",
     "text": [
      "INFO:fbprophet:Disabling daily seasonality. Run prophet with daily_seasonality=True to override this.\n",
      "INFO:fbprophet:Disabling daily seasonality. Run prophet with daily_seasonality=True to override this.\n"
     ]
    },
    {
     "name": "stdout",
     "output_type": "stream",
     "text": [
      "El producto demoró 3.0831568241119385 Norte VD FoodService\n",
      "tiempo que lleva corriendo 16.211495848496757 Min\n"
     ]
    },
    {
     "name": "stderr",
     "output_type": "stream",
     "text": [
      "INFO:fbprophet:Disabling daily seasonality. Run prophet with daily_seasonality=True to override this.\n"
     ]
    },
    {
     "name": "stdout",
     "output_type": "stream",
     "text": [
      "El producto demoró 3.296874523162842 Norte VD FoodService\n",
      "tiempo que lleva corriendo 16.266452074050903 Min\n"
     ]
    },
    {
     "name": "stderr",
     "output_type": "stream",
     "text": [
      "INFO:fbprophet:Disabling daily seasonality. Run prophet with daily_seasonality=True to override this.\n"
     ]
    },
    {
     "name": "stdout",
     "output_type": "stream",
     "text": [
      "El producto demoró 3.5179619789123535 Norte VD FoodService\n",
      "tiempo que lleva corriendo 16.325093082586925 Min\n"
     ]
    },
    {
     "name": "stderr",
     "output_type": "stream",
     "text": [
      "INFO:fbprophet:Disabling daily seasonality. Run prophet with daily_seasonality=True to override this.\n"
     ]
    },
    {
     "name": "stdout",
     "output_type": "stream",
     "text": [
      "El producto demoró 4.277550458908081 Norte VD FoodService\n",
      "tiempo que lleva corriendo 16.39640222390493 Min\n"
     ]
    },
    {
     "name": "stderr",
     "output_type": "stream",
     "text": [
      "INFO:fbprophet:Disabling daily seasonality. Run prophet with daily_seasonality=True to override this.\n"
     ]
    },
    {
     "name": "stdout",
     "output_type": "stream",
     "text": [
      "El producto demoró 3.43162202835083 Norte VD FoodService\n",
      "tiempo que lleva corriendo 16.453604233264922 Min\n"
     ]
    },
    {
     "name": "stderr",
     "output_type": "stream",
     "text": [
      "INFO:fbprophet:Disabling daily seasonality. Run prophet with daily_seasonality=True to override this.\n"
     ]
    },
    {
     "name": "stdout",
     "output_type": "stream",
     "text": [
      "El producto demoró 3.297372817993164 Norte VD FoodService\n",
      "tiempo que lleva corriendo 16.50856876373291 Min\n"
     ]
    },
    {
     "name": "stderr",
     "output_type": "stream",
     "text": [
      "INFO:fbprophet:Disabling daily seasonality. Run prophet with daily_seasonality=True to override this.\n"
     ]
    },
    {
     "name": "stdout",
     "output_type": "stream",
     "text": [
      "El producto demoró 2.8811628818511963 Norte VD FoodService\n",
      "tiempo que lleva corriendo 16.556596465905507 Min\n"
     ]
    },
    {
     "name": "stderr",
     "output_type": "stream",
     "text": [
      "INFO:fbprophet:Disabling daily seasonality. Run prophet with daily_seasonality=True to override this.\n"
     ]
    },
    {
     "name": "stdout",
     "output_type": "stream",
     "text": [
      "El producto demoró 3.344764232635498 Norte VD FoodService\n",
      "tiempo que lleva corriendo 16.6123508532842 Min\n"
     ]
    },
    {
     "name": "stderr",
     "output_type": "stream",
     "text": [
      "INFO:fbprophet:Disabling daily seasonality. Run prophet with daily_seasonality=True to override this.\n"
     ]
    },
    {
     "name": "stdout",
     "output_type": "stream",
     "text": [
      "El producto demoró 4.410803318023682 Norte VD FoodService\n",
      "tiempo que lleva corriendo 16.685872558752695 Min\n"
     ]
    },
    {
     "name": "stderr",
     "output_type": "stream",
     "text": [
      "INFO:fbprophet:Disabling daily seasonality. Run prophet with daily_seasonality=True to override this.\n"
     ]
    },
    {
     "name": "stdout",
     "output_type": "stream",
     "text": [
      "El producto demoró 3.45408034324646 Norte VD FoodService\n",
      "tiempo que lleva corriendo 16.74344056447347 Min\n"
     ]
    },
    {
     "name": "stderr",
     "output_type": "stream",
     "text": [
      "INFO:fbprophet:Disabling daily seasonality. Run prophet with daily_seasonality=True to override this.\n"
     ]
    },
    {
     "name": "stdout",
     "output_type": "stream",
     "text": [
      "El producto demoró 3.566371440887451 Norte VD FoodService\n",
      "tiempo que lleva corriendo 16.802896734078725 Min\n"
     ]
    },
    {
     "name": "stderr",
     "output_type": "stream",
     "text": [
      "INFO:fbprophet:Disabling daily seasonality. Run prophet with daily_seasonality=True to override this.\n"
     ]
    },
    {
     "name": "stdout",
     "output_type": "stream",
     "text": [
      "El producto demoró 4.032505035400391 Norte VD FoodService\n",
      "tiempo que lleva corriendo 16.87011347214381 Min\n"
     ]
    },
    {
     "name": "stderr",
     "output_type": "stream",
     "text": [
      "INFO:fbprophet:Disabling daily seasonality. Run prophet with daily_seasonality=True to override this.\n"
     ]
    },
    {
     "name": "stdout",
     "output_type": "stream",
     "text": [
      "El producto demoró 2.5777103900909424 Norte VD FoodService\n",
      "tiempo que lleva corriendo 16.913751383622486 Min\n"
     ]
    },
    {
     "name": "stderr",
     "output_type": "stream",
     "text": [
      "INFO:fbprophet:Disabling daily seasonality. Run prophet with daily_seasonality=True to override this.\n"
     ]
    },
    {
     "name": "stdout",
     "output_type": "stream",
     "text": [
      "El producto demoró 2.8714773654937744 Norte VD FoodService\n",
      "tiempo que lleva corriendo 16.961628290017448 Min\n"
     ]
    },
    {
     "name": "stderr",
     "output_type": "stream",
     "text": [
      "INFO:fbprophet:Disabling daily seasonality. Run prophet with daily_seasonality=True to override this.\n"
     ]
    },
    {
     "name": "stdout",
     "output_type": "stream",
     "text": [
      "El producto demoró 2.9215071201324463 Norte VD FoodService\n",
      "tiempo que lleva corriendo 17.010328392187755 Min\n"
     ]
    },
    {
     "name": "stderr",
     "output_type": "stream",
     "text": [
      "INFO:fbprophet:Disabling daily seasonality. Run prophet with daily_seasonality=True to override this.\n"
     ]
    },
    {
     "name": "stdout",
     "output_type": "stream",
     "text": [
      "El producto demoró 2.7778379917144775 Norte VD FoodService\n",
      "tiempo que lleva corriendo 17.05662569204966 Min\n"
     ]
    },
    {
     "name": "stderr",
     "output_type": "stream",
     "text": [
      "INFO:fbprophet:Disabling daily seasonality. Run prophet with daily_seasonality=True to override this.\n"
     ]
    },
    {
     "name": "stdout",
     "output_type": "stream",
     "text": [
      "El producto demoró 2.739910364151001 Norte VD FoodService\n",
      "tiempo que lleva corriendo 17.10230745077133 Min\n"
     ]
    },
    {
     "name": "stderr",
     "output_type": "stream",
     "text": [
      "INFO:fbprophet:Disabling daily seasonality. Run prophet with daily_seasonality=True to override this.\n"
     ]
    },
    {
     "name": "stdout",
     "output_type": "stream",
     "text": [
      "El producto demoró 2.607653856277466 Norte VD FoodService\n",
      "tiempo que lleva corriendo 17.145768348375956 Min\n"
     ]
    },
    {
     "name": "stderr",
     "output_type": "stream",
     "text": [
      "INFO:fbprophet:Disabling daily seasonality. Run prophet with daily_seasonality=True to override this.\n"
     ]
    },
    {
     "name": "stdout",
     "output_type": "stream",
     "text": [
      "El producto demoró 2.541794776916504 Norte VD FoodService\n",
      "tiempo que lleva corriendo 17.188131594657897 Min\n"
     ]
    },
    {
     "name": "stderr",
     "output_type": "stream",
     "text": [
      "INFO:fbprophet:Disabling daily seasonality. Run prophet with daily_seasonality=True to override this.\n"
     ]
    },
    {
     "name": "stdout",
     "output_type": "stream",
     "text": [
      "El producto demoró 2.8307383060455322 Norte VD FoodService\n",
      "tiempo que lleva corriendo 17.235318605105082 Min\n"
     ]
    },
    {
     "name": "stderr",
     "output_type": "stream",
     "text": [
      "INFO:fbprophet:Disabling daily seasonality. Run prophet with daily_seasonality=True to override this.\n"
     ]
    },
    {
     "name": "stdout",
     "output_type": "stream",
     "text": [
      "El producto demoró 3.719794750213623 Norte VD FoodService\n",
      "tiempo que lleva corriendo 17.29731518427531 Min\n"
     ]
    },
    {
     "name": "stderr",
     "output_type": "stream",
     "text": [
      "INFO:fbprophet:Disabling daily seasonality. Run prophet with daily_seasonality=True to override this.\n"
     ]
    },
    {
     "name": "stdout",
     "output_type": "stream",
     "text": [
      "El producto demoró 3.6382548809051514 Norte VD FoodService\n",
      "tiempo que lleva corriendo 17.357969399293264 Min\n"
     ]
    },
    {
     "name": "stderr",
     "output_type": "stream",
     "text": [
      "INFO:fbprophet:Disabling daily seasonality. Run prophet with daily_seasonality=True to override this.\n"
     ]
    },
    {
     "name": "stdout",
     "output_type": "stream",
     "text": [
      "El producto demoró 2.880612373352051 Norte VD FoodService\n",
      "tiempo que lleva corriendo 17.4059796055158 Min\n"
     ]
    },
    {
     "name": "stderr",
     "output_type": "stream",
     "text": [
      "INFO:fbprophet:Disabling daily seasonality. Run prophet with daily_seasonality=True to override this.\n"
     ]
    },
    {
     "name": "stdout",
     "output_type": "stream",
     "text": [
      "El producto demoró 3.4511094093322754 Norte VD FoodService\n",
      "tiempo que lleva corriendo 17.463498095671337 Min\n"
     ]
    },
    {
     "name": "stderr",
     "output_type": "stream",
     "text": [
      "INFO:fbprophet:Disabling daily seasonality. Run prophet with daily_seasonality=True to override this.\n"
     ]
    },
    {
     "name": "stdout",
     "output_type": "stream",
     "text": [
      "El producto demoró 3.3622331619262695 Norte VD FoodService\n",
      "tiempo que lleva corriendo 17.51996785402298 Min\n"
     ]
    },
    {
     "name": "stderr",
     "output_type": "stream",
     "text": [
      "INFO:fbprophet:Disabling daily seasonality. Run prophet with daily_seasonality=True to override this.\n"
     ]
    },
    {
     "name": "stdout",
     "output_type": "stream",
     "text": [
      "El producto demoró 2.5168402194976807 Norte VD FoodService\n",
      "tiempo que lleva corriendo 17.56193183263143 Min\n"
     ]
    },
    {
     "name": "stderr",
     "output_type": "stream",
     "text": [
      "INFO:fbprophet:Disabling daily seasonality. Run prophet with daily_seasonality=True to override this.\n"
     ]
    },
    {
     "name": "stdout",
     "output_type": "stream",
     "text": [
      "El producto demoró 2.9764676094055176 Norte VD FoodService\n",
      "tiempo que lleva corriendo 17.61153962612152 Min\n"
     ]
    },
    {
     "name": "stderr",
     "output_type": "stream",
     "text": [
      "INFO:fbprophet:Disabling daily seasonality. Run prophet with daily_seasonality=True to override this.\n"
     ]
    },
    {
     "name": "stdout",
     "output_type": "stream",
     "text": [
      "El producto demoró 3.3068361282348633 Norte VD FoodService\n",
      "tiempo que lleva corriendo 17.666653561592103 Min\n"
     ]
    },
    {
     "name": "stderr",
     "output_type": "stream",
     "text": [
      "INFO:fbprophet:Disabling daily seasonality. Run prophet with daily_seasonality=True to override this.\n"
     ]
    },
    {
     "name": "stdout",
     "output_type": "stream",
     "text": [
      "El producto demoró 3.2948758602142334 Norte VD FoodService\n",
      "tiempo que lleva corriendo 17.72157646814982 Min\n"
     ]
    },
    {
     "name": "stderr",
     "output_type": "stream",
     "text": [
      "INFO:fbprophet:Disabling daily seasonality. Run prophet with daily_seasonality=True to override this.\n"
     ]
    },
    {
     "name": "stdout",
     "output_type": "stream",
     "text": [
      "El producto demoró 2.4599292278289795 Norte VD FoodService\n",
      "tiempo que lleva corriendo 17.76259191830953 Min\n"
     ]
    },
    {
     "name": "stderr",
     "output_type": "stream",
     "text": [
      "INFO:fbprophet:Disabling daily seasonality. Run prophet with daily_seasonality=True to override this.\n"
     ]
    },
    {
     "name": "stdout",
     "output_type": "stream",
     "text": [
      "El producto demoró 3.2080657482147217 Norte VD FoodService\n",
      "tiempo que lleva corriendo 17.81606800953547 Min\n"
     ]
    },
    {
     "name": "stderr",
     "output_type": "stream",
     "text": [
      "INFO:fbprophet:Disabling daily seasonality. Run prophet with daily_seasonality=True to override this.\n"
     ]
    },
    {
     "name": "stdout",
     "output_type": "stream",
     "text": [
      "El producto demoró 3.378702402114868 Norte VD FoodService\n",
      "tiempo que lleva corriendo 17.872396337985993 Min\n"
     ]
    },
    {
     "name": "stderr",
     "output_type": "stream",
     "text": [
      "INFO:fbprophet:Disabling daily seasonality. Run prophet with daily_seasonality=True to override this.\n"
     ]
    },
    {
     "name": "stdout",
     "output_type": "stream",
     "text": [
      "El producto demoró 3.5529277324676514 Norte VD FoodService\n",
      "tiempo que lleva corriendo 17.931620121002197 Min\n"
     ]
    },
    {
     "name": "stderr",
     "output_type": "stream",
     "text": [
      "INFO:fbprophet:Disabling daily seasonality. Run prophet with daily_seasonality=True to override this.\n"
     ]
    },
    {
     "name": "stdout",
     "output_type": "stream",
     "text": [
      "El producto demoró 5.510757923126221 Norte VD FoodService\n",
      "tiempo que lleva corriendo 18.023466086387636 Min\n"
     ]
    },
    {
     "name": "stderr",
     "output_type": "stream",
     "text": [
      "INFO:fbprophet:Disabling daily seasonality. Run prophet with daily_seasonality=True to override this.\n"
     ]
    },
    {
     "name": "stdout",
     "output_type": "stream",
     "text": [
      "El producto demoró 4.617917060852051 Norte VD FoodService\n",
      "tiempo que lleva corriendo 18.100439687569935 Min\n",
      "El producto demoró 3.1551353931427 Norte VD FoodService\n",
      "tiempo que lleva corriendo 18.153025277455647 Min\n",
      "Venta Directa\n"
     ]
    },
    {
     "name": "stderr",
     "output_type": "stream",
     "text": [
      "INFO:fbprophet:Disabling daily seasonality. Run prophet with daily_seasonality=True to override this.\n",
      "INFO:fbprophet:Disabling daily seasonality. Run prophet with daily_seasonality=True to override this.\n"
     ]
    },
    {
     "name": "stdout",
     "output_type": "stream",
     "text": [
      "El producto demoró 3.3497931957244873 Venta Directa VD FoodService\n",
      "tiempo que lleva corriendo 18.213529797395072 Min\n"
     ]
    },
    {
     "name": "stderr",
     "output_type": "stream",
     "text": [
      "INFO:fbprophet:Disabling daily seasonality. Run prophet with daily_seasonality=True to override this.\n"
     ]
    },
    {
     "name": "stdout",
     "output_type": "stream",
     "text": [
      "El producto demoró 2.8818905353546143 Venta Directa VD FoodService\n",
      "tiempo que lleva corriendo 18.26156130631765 Min\n"
     ]
    },
    {
     "name": "stderr",
     "output_type": "stream",
     "text": [
      "INFO:fbprophet:Disabling daily seasonality. Run prophet with daily_seasonality=True to override this.\n"
     ]
    },
    {
     "name": "stdout",
     "output_type": "stream",
     "text": [
      "El producto demoró 5.1933369636535645 Venta Directa VD FoodService\n",
      "tiempo que lleva corriendo 18.34811692237854 Min\n",
      "El producto demoró 2.6999828815460205 Venta Directa VD FoodService\n",
      "tiempo que lleva corriendo 18.393133278687795 Min\n",
      "tiempo bloque completo 18.393141599496207 Min\n"
     ]
    }
   ],
   "source": [
    "df2 = pd.DataFrame(columns=['ds', 'yhat_lower', 'yhat_upper', 'yhat', 'Material','Oficina de Ventas Unifica', 'Zona de ventas.1'])\n",
    "\n",
    "Listado_de_zonas=data['Zona de ventas.1'].unique()\n",
    "\n",
    "start_time = time()\n",
    "\n",
    "\n",
    "\n",
    "for Z in Listado_de_zonas:\n",
    "#Z='Santiago'\n",
    "    print(Z)\n",
    "    dfz=Df_ubic(data,'Zona de ventas.1',Z)\n",
    "\n",
    "    Listado_de_Canales=dfz[dfz['Día natural'] \n",
    "                              >datetime.date(2021, 6, 2)][\n",
    "        'Tipo de cliente'].unique()\n",
    "    \n",
    "    \n",
    "    for c in Listado_de_Canales:\n",
    "        dfc=Df_ubic(dfz,'Tipo de cliente',c)\n",
    "\n",
    "        #Crear un listado de los materiales disponibles en la data\n",
    "        Listado_de_Materiales=dfc[dfc.Año==2021].Material.unique()     \n",
    "\n",
    "\n",
    "        for m in Listado_de_Materiales:\n",
    "            #m=Listado_de_Materiales[0]\n",
    "            material_time=time()\n",
    "            #print(y,m)\n",
    "\n",
    "\n",
    "            dfm=Df_ubic(dfc,\n",
    "                        'Material',m).groupby('Día natural'\n",
    "                                                 ).sum().reset_index()[['Día natural',y_col]]\n",
    "\n",
    "            dfmPred=Predict_sem(dfm,7)[['ds', 'yhat_lower',\n",
    "                                        'yhat_upper', 'yhat']].tail(7)\n",
    "            #Material\n",
    "            dfmPred['Material']=[m for i in range(dfmPred.shape[0])]\n",
    "            #Canal de ventas\n",
    "            dfmPred['Tipo de cliente']=[c for i in range(dfmPred.shape[0])]\n",
    "\n",
    "            #Sucursal\n",
    "            #dfmPred['Oficina de Ventas Unifica']=[y for i in range(dfmPred.shape[0])]\n",
    "            \n",
    "            #Zona\n",
    "            dfmPred['Zona de ventas.1']=[Z for i in range(dfmPred.shape[0])]\n",
    "            \n",
    "            dfmPred=dfmPred.reset_index()\n",
    "            dfmPred.pop('index')\n",
    "            df2=pd.concat([df2, dfmPred])\n",
    "            print('El producto demoró',(time() - material_time),Z,y)\n",
    "            print('tiempo que lleva corriendo',(time() - start_time)/60, 'Min')\n",
    "\n",
    "print('tiempo bloque completo',(time() - start_time)/60, 'Min')\n"
   ]
  },
  {
   "cell_type": "code",
   "execution_count": 72,
   "id": "a6018cc1",
   "metadata": {},
   "outputs": [],
   "source": [
    "df2.rename(columns = {'ds': 'Día natural', 'yhat': 'Predicción central',\n",
    "                                'yhat_upper': 'Predicción Superior',\n",
    "                                'yhat_lower': 'Predicción Inferior'}, inplace = True)"
   ]
  },
  {
   "cell_type": "markdown",
   "id": "7428bb51",
   "metadata": {},
   "source": [
    "### CSV SAVE "
   ]
  },
  {
   "cell_type": "code",
   "execution_count": 73,
   "id": "a909d0d8",
   "metadata": {},
   "outputs": [
    {
     "name": "stdout",
     "output_type": "stream",
     "text": [
      "2021-02-14\n",
      "2021-06-17\n"
     ]
    }
   ],
   "source": [
    "min_time=df2['Día natural'].min()\n",
    "min_time=str(min_time).split(' ')[0]\n",
    "print(min_time)\n",
    "max_time=df2['Día natural'].max()\n",
    "max_time=str(max_time).split(' ')[0]\n",
    "print(max_time)"
   ]
  },
  {
   "cell_type": "code",
   "execution_count": 74,
   "id": "ac64d2be",
   "metadata": {},
   "outputs": [],
   "source": [
    "df2.to_csv('Data'+min_time+' Predicción Por CANAL ' +max_time+ 'Zona.csv', index=False)\n"
   ]
  },
  {
   "cell_type": "markdown",
   "id": "64bfc3a5",
   "metadata": {
    "heading_collapsed": true
   },
   "source": [
    "# DEmanda"
   ]
  },
  {
   "cell_type": "code",
   "execution_count": null,
   "id": "64562f87",
   "metadata": {
    "hidden": true
   },
   "outputs": [],
   "source": []
  },
  {
   "cell_type": "code",
   "execution_count": 4,
   "id": "db4bffdf",
   "metadata": {
    "hidden": true,
    "scrolled": true
   },
   "outputs": [
    {
     "data": {
      "text/html": [
       "<div>\n",
       "<style scoped>\n",
       "    .dataframe tbody tr th:only-of-type {\n",
       "        vertical-align: middle;\n",
       "    }\n",
       "\n",
       "    .dataframe tbody tr th {\n",
       "        vertical-align: top;\n",
       "    }\n",
       "\n",
       "    .dataframe thead th {\n",
       "        text-align: right;\n",
       "    }\n",
       "</style>\n",
       "<table border=\"1\" class=\"dataframe\">\n",
       "  <thead>\n",
       "    <tr style=\"text-align: right;\">\n",
       "      <th></th>\n",
       "      <th>ds</th>\n",
       "      <th>yhat_lower</th>\n",
       "      <th>yhat_upper</th>\n",
       "      <th>yhat</th>\n",
       "      <th>Material</th>\n",
       "      <th>Oficina de Ventas Unifica</th>\n",
       "      <th>Zona de ventas.1</th>\n",
       "    </tr>\n",
       "  </thead>\n",
       "  <tbody>\n",
       "    <tr>\n",
       "      <th>0</th>\n",
       "      <td>2021-06-09</td>\n",
       "      <td>4.923363</td>\n",
       "      <td>1647.259199</td>\n",
       "      <td>827.39374</td>\n",
       "      <td>1020253</td>\n",
       "      <td>Huechuraba</td>\n",
       "      <td>Santiago</td>\n",
       "    </tr>\n",
       "  </tbody>\n",
       "</table>\n",
       "</div>"
      ],
      "text/plain": [
       "           ds  yhat_lower   yhat_upper       yhat  Material  \\\n",
       "0  2021-06-09    4.923363  1647.259199  827.39374   1020253   \n",
       "\n",
       "  Oficina de Ventas Unifica Zona de ventas.1  \n",
       "0                Huechuraba         Santiago  "
      ]
     },
     "execution_count": 4,
     "metadata": {},
     "output_type": "execute_result"
    }
   ],
   "source": [
    "#Nombre del producto\n",
    "Fecha='08_06_21'\n",
    "\n",
    "# =============================================================================\n",
    "# Ajuste de los datos\n",
    "# =============================================================================\n",
    "File_name='Data 08_06_21 Predicción CL 2021-06-14'\n",
    "col_names=pd.read_csv(\"Data/\"+File_name+\".csv\",\n",
    "                    encoding=\"utf-8\",sep=\";\",nrows=0).columns\n",
    "types_dict = {col: str for col in col_names}\n",
    "\n",
    "Data = pd.read_csv(\"Data/\"+File_name+\".csv\",\n",
    "                   encoding=\"utf-8\",sep=\",\",dtype=types_dict)\n",
    "Data.head(1)"
   ]
  },
  {
   "cell_type": "code",
   "execution_count": 7,
   "id": "2e2ce135",
   "metadata": {
    "hidden": true,
    "scrolled": false
   },
   "outputs": [
    {
     "data": {
      "text/html": [
       "<div>\n",
       "<style scoped>\n",
       "    .dataframe tbody tr th:only-of-type {\n",
       "        vertical-align: middle;\n",
       "    }\n",
       "\n",
       "    .dataframe tbody tr th {\n",
       "        vertical-align: top;\n",
       "    }\n",
       "\n",
       "    .dataframe thead th {\n",
       "        text-align: right;\n",
       "    }\n",
       "</style>\n",
       "<table border=\"1\" class=\"dataframe\">\n",
       "  <thead>\n",
       "    <tr style=\"text-align: right;\">\n",
       "      <th></th>\n",
       "      <th>yhat_lower</th>\n",
       "      <th>yhat_upper</th>\n",
       "      <th>yhat</th>\n",
       "    </tr>\n",
       "    <tr>\n",
       "      <th>Material</th>\n",
       "      <th></th>\n",
       "      <th></th>\n",
       "      <th></th>\n",
       "    </tr>\n",
       "  </thead>\n",
       "  <tbody>\n",
       "    <tr>\n",
       "      <th>1010002</th>\n",
       "      <td>1286.570770</td>\n",
       "      <td>2.624787e+05</td>\n",
       "      <td>131303.186859</td>\n",
       "    </tr>\n",
       "    <tr>\n",
       "      <th>1010048</th>\n",
       "      <td>-78326.136813</td>\n",
       "      <td>3.672922e+05</td>\n",
       "      <td>145245.543063</td>\n",
       "    </tr>\n",
       "    <tr>\n",
       "      <th>1010077</th>\n",
       "      <td>-8384.351595</td>\n",
       "      <td>6.733611e+04</td>\n",
       "      <td>29493.556254</td>\n",
       "    </tr>\n",
       "    <tr>\n",
       "      <th>1010078</th>\n",
       "      <td>342321.113595</td>\n",
       "      <td>1.081897e+06</td>\n",
       "      <td>711765.437051</td>\n",
       "    </tr>\n",
       "    <tr>\n",
       "      <th>1010267</th>\n",
       "      <td>52332.718810</td>\n",
       "      <td>3.918371e+05</td>\n",
       "      <td>222623.953260</td>\n",
       "    </tr>\n",
       "    <tr>\n",
       "      <th>1010695</th>\n",
       "      <td>-51992.916624</td>\n",
       "      <td>1.933975e+05</td>\n",
       "      <td>70318.232098</td>\n",
       "    </tr>\n",
       "    <tr>\n",
       "      <th>1020001</th>\n",
       "      <td>3181.036709</td>\n",
       "      <td>1.323868e+05</td>\n",
       "      <td>67862.207606</td>\n",
       "    </tr>\n",
       "    <tr>\n",
       "      <th>1020003</th>\n",
       "      <td>-23544.213921</td>\n",
       "      <td>8.807929e+04</td>\n",
       "      <td>32143.449675</td>\n",
       "    </tr>\n",
       "    <tr>\n",
       "      <th>1020010</th>\n",
       "      <td>27459.067476</td>\n",
       "      <td>2.298029e+05</td>\n",
       "      <td>129243.982193</td>\n",
       "    </tr>\n",
       "    <tr>\n",
       "      <th>1020013</th>\n",
       "      <td>38678.886042</td>\n",
       "      <td>4.519878e+05</td>\n",
       "      <td>244779.180578</td>\n",
       "    </tr>\n",
       "    <tr>\n",
       "      <th>1020027</th>\n",
       "      <td>30049.419779</td>\n",
       "      <td>2.025816e+05</td>\n",
       "      <td>116125.720067</td>\n",
       "    </tr>\n",
       "    <tr>\n",
       "      <th>1020042</th>\n",
       "      <td>-12291.134433</td>\n",
       "      <td>6.326752e+04</td>\n",
       "      <td>25471.911214</td>\n",
       "    </tr>\n",
       "    <tr>\n",
       "      <th>1020253</th>\n",
       "      <td>-33268.663751</td>\n",
       "      <td>1.000653e+05</td>\n",
       "      <td>33387.057737</td>\n",
       "    </tr>\n",
       "  </tbody>\n",
       "</table>\n",
       "</div>"
      ],
      "text/plain": [
       "             yhat_lower    yhat_upper           yhat\n",
       "Material                                            \n",
       "1010002     1286.570770  2.624787e+05  131303.186859\n",
       "1010048   -78326.136813  3.672922e+05  145245.543063\n",
       "1010077    -8384.351595  6.733611e+04   29493.556254\n",
       "1010078   342321.113595  1.081897e+06  711765.437051\n",
       "1010267    52332.718810  3.918371e+05  222623.953260\n",
       "1010695   -51992.916624  1.933975e+05   70318.232098\n",
       "1020001     3181.036709  1.323868e+05   67862.207606\n",
       "1020003   -23544.213921  8.807929e+04   32143.449675\n",
       "1020010    27459.067476  2.298029e+05  129243.982193\n",
       "1020013    38678.886042  4.519878e+05  244779.180578\n",
       "1020027    30049.419779  2.025816e+05  116125.720067\n",
       "1020042   -12291.134433  6.326752e+04   25471.911214\n",
       "1020253   -33268.663751  1.000653e+05   33387.057737"
      ]
     },
     "execution_count": 7,
     "metadata": {},
     "output_type": "execute_result"
    }
   ],
   "source": [
    "Data.groupby('Material').sum()"
   ]
  }
 ],
 "metadata": {
  "kernelspec": {
   "display_name": "Python 3",
   "language": "python",
   "name": "python3"
  },
  "language_info": {
   "codemirror_mode": {
    "name": "ipython",
    "version": 3
   },
   "file_extension": ".py",
   "mimetype": "text/x-python",
   "name": "python",
   "nbconvert_exporter": "python",
   "pygments_lexer": "ipython3",
   "version": "3.8.8"
  },
  "toc": {
   "base_numbering": 1,
   "nav_menu": {
    "height": "246px",
    "width": "191px"
   },
   "number_sections": true,
   "sideBar": true,
   "skip_h1_title": false,
   "title_cell": "Table of Contents",
   "title_sidebar": "Contents",
   "toc_cell": false,
   "toc_position": {
    "height": "720.822px",
    "left": "23.9792px",
    "top": "110.278px",
    "width": "330.984px"
   },
   "toc_section_display": true,
   "toc_window_display": true
  }
 },
 "nbformat": 4,
 "nbformat_minor": 5
}
