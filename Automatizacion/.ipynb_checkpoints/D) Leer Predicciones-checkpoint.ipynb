{
 "cells": [
  {
   "cell_type": "markdown",
   "id": "80590ae6",
   "metadata": {
    "heading_collapsed": true
   },
   "source": [
    "# Información previa\n",
    "\n"
   ]
  },
  {
   "cell_type": "markdown",
   "id": "cb5cc9ef",
   "metadata": {
    "hidden": true
   },
   "source": [
    "## datos\n",
    "faltan en pollo 1010130 y 1010387\n",
    "\n",
    "Link de descarga de BW\n",
    "\n",
    "[08_06_21_Fact_CL_Mater_Canales_10_06_21](https://gestion.agrosuper.cl/irj/servlet/prt/portal/prtroot/pcd!3aportal_content!2fcom.sap.pct!2fplatform_add_ons!2fcom.sap.ip.bi!2fiViews!2fcom.sap.ip.bi.bex?BOOKMARK=4V7XT6V546W73QKC7BVTLKF4Y)\n",
    "\n"
   ]
  },
  {
   "cell_type": "markdown",
   "id": "17ae62ca",
   "metadata": {
    "heading_collapsed": true,
    "hidden": true
   },
   "source": [
    "## Apuntes Cod "
   ]
  },
  {
   "cell_type": "markdown",
   "id": "a2ec96bf",
   "metadata": {
    "hidden": true
   },
   "source": [
    "```{python}\n",
    "Data['Peso neto KG']=Data['Peso neto'].str.split('KG', expand=True)[[0]]\n",
    "Data.pop('Peso neto')\n",
    "Data['Cantidad Unidades CJ']=Data['Cantidad Unidades'].str.split('CJ', expand=True)[[0]]\n",
    "Data.pop('Cantidad Unidades')\n",
    "Data['Precio Unitario CLP / KG']=Data['Precio Unitario'].str.split('CLP / KG', expand=True)[[0]]\n",
    "\n",
    "\n",
    "\n",
    "    if(x[len(x)-3:]=='USD'):\n",
    "        x=x.split(' USD')[1]\n",
    "    elif(x[len(x)-3:]=='CLP'):\n",
    "        x=x.split(' CLP')[1]\n",
    "\n",
    "\n",
    "```"
   ]
  },
  {
   "cell_type": "markdown",
   "id": "1ed6a797",
   "metadata": {
    "heading_collapsed": true,
    "hidden": true
   },
   "source": [
    "## Este es un extracto del paper:\n"
   ]
  },
  {
   "cell_type": "markdown",
   "id": "cd62d767",
   "metadata": {
    "hidden": true
   },
   "source": [
    " \n",
    "\n",
    "\t\n",
    "Ventas pasadas con retraso  k, es decir, ventas diarias para el SKU considerado de los últimos k días (tw k : ventana de tiempo de tamaño k ).\n",
    "\n",
    "\t\n",
    "* Variables binarias para caracterizar días especiales, como:\n",
    "    * Pago , que caracteriza los días al final de cada mes cuando las personas reciben el pago mensual.\n",
    "    * Pago intermedio , que caracteriza los días al final de cada quincena en que las personas reciben dos pagos semanales.\n",
    "    * Antes de las vacaciones , caracterizando los días antes de las vacaciones.\n",
    "    * Vacaciones , que caracterizan las vacaciones.\n",
    "    * Independencia , que caracteriza los días de la independencia de Chile (18 y 19 de septiembre).\n",
    "    * Santa , caracterizando los días de la semana antes del este.\n",
    "    * Vacaciones , caracterizando los días que pertenecen al período de vacaciones de verano (enero y febrero).\n",
    "    * Verano , que caracteriza los días de verano (1 de octubre-31 de marzo).\t\n",
    "    * Año nuevo (1 de enero), que caracteriza el único día de cierre de supermercados en Chile.\n",
    "\t\n",
    "\t\n",
    "* Variables de precio:\n",
    "    * Precio A  =  precio original del SKU considerado en Economax.\n",
    "    * Precio B  =  (Precio A) / (Precio máximo en micro-mercado).\n",
    "    * Precio C  =  (Precio A) / (Precio mínimo en micro-mercado).\n",
    "\n",
    "\t\t\n",
    "Observación : Las variables “Precio máximo en micro-mercado” y “Precio mínimo en micro-mercado” son el precio máximo (mínimo) para un determinado SKU en el micro-mercado relevante y son proporcionados por una empresa de investigación de mercado.\n",
    "\t\t\n",
    "\t\n",
    "\n",
    "\t\n",
    " "
   ]
  },
  {
   "cell_type": "markdown",
   "id": "33f26efe",
   "metadata": {
    "heading_collapsed": true
   },
   "source": [
    "# Package Install & Open Data\n"
   ]
  },
  {
   "cell_type": "markdown",
   "id": "6dc45620",
   "metadata": {
    "hidden": true
   },
   "source": [
    "## Import"
   ]
  },
  {
   "cell_type": "markdown",
   "id": "3daa5668",
   "metadata": {
    "hidden": true
   },
   "source": [
    "### import general "
   ]
  },
  {
   "cell_type": "code",
   "execution_count": 1,
   "id": "82536652",
   "metadata": {
    "hidden": true
   },
   "outputs": [],
   "source": [
    "# =============================================================================\n",
    "# Importar paquetes y abrir Data\n",
    "# =============================================================================\n",
    "\n",
    "#gestion DF\n",
    "import pandas as pd\n",
    "\n",
    "#Funciones mat y matricicales\n",
    "import numpy as np\n",
    "\n",
    "#ploteo simple\n",
    "import matplotlib.pyplot as plt\n",
    "\n",
    "# Graficas bonitas\n",
    "from plotnine import *\n",
    "\n",
    "#para ajustar las fechas\n",
    "import datetime\n",
    "\n",
    "#para calcular el skew de un array() o list()\n",
    "from scipy.stats import skew \n",
    "\n",
    "#mode function\n",
    "import statistics \n",
    "\n",
    "from mizani.breaks import date_breaks\n",
    "from mizani.formatters import date_format"
   ]
  },
  {
   "cell_type": "code",
   "execution_count": 2,
   "id": "774b67f3",
   "metadata": {
    "hidden": true
   },
   "outputs": [],
   "source": [
    "from time import time"
   ]
  },
  {
   "cell_type": "markdown",
   "id": "16235866",
   "metadata": {
    "hidden": true
   },
   "source": [
    "### import and function "
   ]
  },
  {
   "cell_type": "code",
   "execution_count": 3,
   "id": "0bea17cb",
   "metadata": {
    "hidden": true
   },
   "outputs": [
    {
     "name": "stderr",
     "output_type": "stream",
     "text": [
      "Importing plotly failed. Interactive plots will not work.\n"
     ]
    }
   ],
   "source": [
    "\n",
    "import warnings\n",
    "import pandas as pd\n",
    "import matplotlib.pyplot as plt\n",
    "# prophet model \n",
    "from fbprophet import Prophet\n",
    "# prophet preformance\n",
    "from fbprophet.diagnostics import cross_validation\n",
    "from fbprophet.diagnostics import performance_metrics\n",
    "from fbprophet.plot import plot_cross_validation_metric\n",
    "\n",
    "# don't do this \n",
    "warnings.filterwarnings('ignore')\n",
    "# \"high resolution\"\n",
    "%config InlineBackend.figure_format = 'retina'"
   ]
  },
  {
   "cell_type": "markdown",
   "id": "9d9b6e0a",
   "metadata": {
    "hidden": true
   },
   "source": [
    "##  Data Facturación"
   ]
  },
  {
   "cell_type": "markdown",
   "id": "99b31bd0",
   "metadata": {
    "hidden": true
   },
   "source": [
    "Link de descarga de BW\n",
    "\n",
    "[08_06_21_Fact_CL_Mater_Canales_10_06_21](https://gestion.agrosuper.cl/irj/servlet/prt/portal/prtroot/pcd!3aportal_content!2fcom.sap.pct!2fplatform_add_ons!2fcom.sap.ip.bi!2fiViews!2fcom.sap.ip.bi.bex?BOOKMARK=4V7XT6V546W73QKC7BVTLKF4Y)"
   ]
  },
  {
   "cell_type": "markdown",
   "id": "8a6b61e3",
   "metadata": {
    "hidden": true
   },
   "source": [
    "### Selección de la zona de estudio "
   ]
  },
  {
   "cell_type": "code",
   "execution_count": 4,
   "id": "1ad8fa31",
   "metadata": {
    "hidden": true,
    "scrolled": true
   },
   "outputs": [
    {
     "data": {
      "text/html": [
       "<div>\n",
       "<style scoped>\n",
       "    .dataframe tbody tr th:only-of-type {\n",
       "        vertical-align: middle;\n",
       "    }\n",
       "\n",
       "    .dataframe tbody tr th {\n",
       "        vertical-align: top;\n",
       "    }\n",
       "\n",
       "    .dataframe thead th {\n",
       "        text-align: right;\n",
       "    }\n",
       "</style>\n",
       "<table border=\"1\" class=\"dataframe\">\n",
       "  <thead>\n",
       "    <tr style=\"text-align: right;\">\n",
       "      <th></th>\n",
       "      <th>Sector</th>\n",
       "      <th>Material</th>\n",
       "      <th>Tipo de cliente</th>\n",
       "      <th>Zona de ventas</th>\n",
       "      <th>Zona de ventas.1</th>\n",
       "      <th>Oficina de Ventas Unifica</th>\n",
       "      <th>Oficina de Ventas Unifica.1</th>\n",
       "      <th>Mes</th>\n",
       "      <th>Año natural/Semana</th>\n",
       "      <th>Día natural</th>\n",
       "      <th>Día de la semana</th>\n",
       "      <th>Kilos Venta KG</th>\n",
       "      <th>Venta Neta</th>\n",
       "      <th>Precio Promedio</th>\n",
       "    </tr>\n",
       "  </thead>\n",
       "  <tbody>\n",
       "    <tr>\n",
       "      <th>0</th>\n",
       "      <td>Cerdo</td>\n",
       "      <td>1020253</td>\n",
       "      <td>Tradicional</td>\n",
       "      <td>Z001</td>\n",
       "      <td>Santiago</td>\n",
       "      <td>Huechuraba</td>\n",
       "      <td>T101</td>\n",
       "      <td>1</td>\n",
       "      <td>01.2019</td>\n",
       "      <td>02.01.2019</td>\n",
       "      <td>MI</td>\n",
       "      <td>36</td>\n",
       "      <td>81.788 CLP</td>\n",
       "      <td>2.250 CLP</td>\n",
       "    </tr>\n",
       "  </tbody>\n",
       "</table>\n",
       "</div>"
      ],
      "text/plain": [
       "  Sector Material Tipo de cliente Zona de ventas Zona de ventas.1  \\\n",
       "0  Cerdo  1020253     Tradicional           Z001         Santiago   \n",
       "\n",
       "  Oficina de Ventas Unifica Oficina de Ventas Unifica.1 Mes  \\\n",
       "0                Huechuraba                        T101   1   \n",
       "\n",
       "  Año natural/Semana Día natural Día de la semana Kilos Venta KG  Venta Neta  \\\n",
       "0            01.2019  02.01.2019               MI             36  81.788 CLP   \n",
       "\n",
       "  Precio Promedio  \n",
       "0       2.250 CLP  "
      ]
     },
     "execution_count": 4,
     "metadata": {},
     "output_type": "execute_result"
    }
   ],
   "source": [
    "#Nombre del producto\n",
    "Fecha='08_06_21'\n",
    "\n",
    "# =============================================================================\n",
    "# Ajuste de los datos\n",
    "# =============================================================================\n",
    "File_name='Fact_CL_Mater_Canales_'+Fecha\n",
    "col_names=pd.read_csv(\"Data/\"+File_name+\".csv\",\n",
    "                    encoding=\"utf-8\",sep=\";\",nrows=0).columns\n",
    "types_dict = {col: str for col in col_names}\n",
    "\n",
    "Data = pd.read_csv(\"Data/\"+File_name+\".csv\",\n",
    "                   encoding=\"utf-8\",sep=\";\",dtype=types_dict)\n",
    "Data.head(1)"
   ]
  },
  {
   "cell_type": "markdown",
   "id": "28a39a98",
   "metadata": {
    "heading_collapsed": true,
    "hidden": true
   },
   "source": [
    "### Ajuste facturaciones"
   ]
  },
  {
   "cell_type": "code",
   "execution_count": 5,
   "id": "bb6fe285",
   "metadata": {
    "hidden": true
   },
   "outputs": [],
   "source": [
    "# =============================================================================\n",
    "# Ajustar la data\n",
    "# =============================================================================\n",
    "def Ajuste_data(data):\n",
    "    df=data.copy()\n",
    "    # Funciones para eliminar los putos y cambiar las , por .\n",
    "    def categ_uniq(x):\n",
    "        return x[len(x)-3:]\n",
    "\n",
    "    df['Unidad Venta']=df['Venta Neta'].apply(categ_uniq)\n",
    "    df['Unidad Precio']=df['Precio Promedio'].apply(categ_uniq)\n",
    "    \n",
    "    def CLP_Dolar(x):\n",
    "        x=str(x)\n",
    "        x=x.replace('.', '')\n",
    "        x=x.replace(',', '.')\n",
    "        if(x[len(x)-3:]=='USD'):\n",
    "            x=x.split(' USD')[0]\n",
    "            x=float(x)\n",
    "            #x=x*720\n",
    "        elif(x[len(x)-3:]=='CLP'):\n",
    "            x=x.split(' CLP')[0]\n",
    "            x=float(x)\n",
    "        return x\n",
    "    \n",
    "    def change_num_point(x):\n",
    "        x=str(x)\n",
    "        return x.replace('.', '')\n",
    "    def change_num_coma(x):\n",
    "        x=str(x)\n",
    "        return x.replace(',', '.')\n",
    "    def delete_asterisco(x):\n",
    "        x=str(x)\n",
    "        return x.replace('*','0' )\n",
    "    \n",
    "    #proceso iterativo, \n",
    "    for i in ['Kilos Venta KG','Venta Neta','Precio Promedio']:\n",
    "    # se elimina el punto definido para los miles\n",
    "        if(i!='Kilos Venta KG'):\n",
    "            df[i]=df[i].apply(CLP_Dolar)\n",
    "        else:\n",
    "            df[i]=df[i].apply(change_num_point)\n",
    "            # se reemplaza la coma por un punto, para definir los decimales correctamente\n",
    "            df[i]=df[i].apply(change_num_coma)\n",
    "        # se elimina el valor * \n",
    "        df[i]=df[i].apply(delete_asterisco)\n",
    "        df[i]=df[i].astype('float64')\n",
    "        # Se pasa de ser un str a un int\n",
    "        print(i)\n",
    "        #df[i]=df[i].astype('int64')\n",
    "\n",
    "    #Separacion fecha\n",
    "    df['Semana']=df['Año natural/Semana'].str.split('.', expand=True)[[0]]\n",
    "    df['Año']=df['Año natural/Semana'].str.split('.', expand=True)[[1]]\n",
    "\n",
    "    df['Semana']=df['Semana'].astype('int64')\n",
    "    df['Año']=df['Año'].astype('int64')\n",
    "    \n",
    "    #\n",
    "    df[\"Día natural\"] = df[\"Día natural\"].apply(lambda x: \n",
    "                                                datetime.datetime.strptime(x,\n",
    "                                                                           '%d.%m.%Y').date())\n",
    "    df['Año']=df['Año'].astype('int64')\n",
    "    return df"
   ]
  },
  {
   "cell_type": "code",
   "execution_count": 6,
   "id": "e74380c6",
   "metadata": {
    "hidden": true,
    "scrolled": true
   },
   "outputs": [
    {
     "name": "stdout",
     "output_type": "stream",
     "text": [
      "Kilos Venta KG\n",
      "Venta Neta\n",
      "Precio Promedio\n"
     ]
    },
    {
     "data": {
      "text/html": [
       "<div>\n",
       "<style scoped>\n",
       "    .dataframe tbody tr th:only-of-type {\n",
       "        vertical-align: middle;\n",
       "    }\n",
       "\n",
       "    .dataframe tbody tr th {\n",
       "        vertical-align: top;\n",
       "    }\n",
       "\n",
       "    .dataframe thead th {\n",
       "        text-align: right;\n",
       "    }\n",
       "</style>\n",
       "<table border=\"1\" class=\"dataframe\">\n",
       "  <thead>\n",
       "    <tr style=\"text-align: right;\">\n",
       "      <th></th>\n",
       "      <th>Sector</th>\n",
       "      <th>Material</th>\n",
       "      <th>Tipo de cliente</th>\n",
       "      <th>Zona de ventas</th>\n",
       "      <th>Zona de ventas.1</th>\n",
       "      <th>Oficina de Ventas Unifica</th>\n",
       "      <th>Oficina de Ventas Unifica.1</th>\n",
       "      <th>Mes</th>\n",
       "      <th>Año natural/Semana</th>\n",
       "      <th>Día natural</th>\n",
       "      <th>Día de la semana</th>\n",
       "      <th>Kilos Venta KG</th>\n",
       "      <th>Venta Neta</th>\n",
       "      <th>Precio Promedio</th>\n",
       "      <th>Unidad Venta</th>\n",
       "      <th>Unidad Precio</th>\n",
       "      <th>Semana</th>\n",
       "      <th>Año</th>\n",
       "    </tr>\n",
       "  </thead>\n",
       "  <tbody>\n",
       "    <tr>\n",
       "      <th>0</th>\n",
       "      <td>Cerdo</td>\n",
       "      <td>1020253</td>\n",
       "      <td>Tradicional</td>\n",
       "      <td>Z001</td>\n",
       "      <td>Santiago</td>\n",
       "      <td>Huechuraba</td>\n",
       "      <td>T101</td>\n",
       "      <td>1</td>\n",
       "      <td>01.2019</td>\n",
       "      <td>2019-01-02</td>\n",
       "      <td>MI</td>\n",
       "      <td>36.0</td>\n",
       "      <td>81788.0</td>\n",
       "      <td>2250.0</td>\n",
       "      <td>CLP</td>\n",
       "      <td>CLP</td>\n",
       "      <td>1</td>\n",
       "      <td>2019</td>\n",
       "    </tr>\n",
       "    <tr>\n",
       "      <th>1</th>\n",
       "      <td>Cerdo</td>\n",
       "      <td>1020253</td>\n",
       "      <td>Tradicional</td>\n",
       "      <td>Z001</td>\n",
       "      <td>Santiago</td>\n",
       "      <td>Huechuraba</td>\n",
       "      <td>T101</td>\n",
       "      <td>1</td>\n",
       "      <td>01.2019</td>\n",
       "      <td>2019-01-03</td>\n",
       "      <td>JU</td>\n",
       "      <td>333.0</td>\n",
       "      <td>583204.0</td>\n",
       "      <td>1750.0</td>\n",
       "      <td>CLP</td>\n",
       "      <td>CLP</td>\n",
       "      <td>1</td>\n",
       "      <td>2019</td>\n",
       "    </tr>\n",
       "    <tr>\n",
       "      <th>2</th>\n",
       "      <td>Cerdo</td>\n",
       "      <td>1020253</td>\n",
       "      <td>Tradicional</td>\n",
       "      <td>Z001</td>\n",
       "      <td>Santiago</td>\n",
       "      <td>Huechuraba</td>\n",
       "      <td>T101</td>\n",
       "      <td>1</td>\n",
       "      <td>01.2019</td>\n",
       "      <td>2019-01-05</td>\n",
       "      <td>SA</td>\n",
       "      <td>219.0</td>\n",
       "      <td>397031.0</td>\n",
       "      <td>1815.0</td>\n",
       "      <td>CLP</td>\n",
       "      <td>CLP</td>\n",
       "      <td>1</td>\n",
       "      <td>2019</td>\n",
       "    </tr>\n",
       "  </tbody>\n",
       "</table>\n",
       "</div>"
      ],
      "text/plain": [
       "  Sector Material Tipo de cliente Zona de ventas Zona de ventas.1  \\\n",
       "0  Cerdo  1020253     Tradicional           Z001         Santiago   \n",
       "1  Cerdo  1020253     Tradicional           Z001         Santiago   \n",
       "2  Cerdo  1020253     Tradicional           Z001         Santiago   \n",
       "\n",
       "  Oficina de Ventas Unifica Oficina de Ventas Unifica.1 Mes  \\\n",
       "0                Huechuraba                        T101   1   \n",
       "1                Huechuraba                        T101   1   \n",
       "2                Huechuraba                        T101   1   \n",
       "\n",
       "  Año natural/Semana Día natural Día de la semana  Kilos Venta KG  Venta Neta  \\\n",
       "0            01.2019  2019-01-02               MI            36.0     81788.0   \n",
       "1            01.2019  2019-01-03               JU           333.0    583204.0   \n",
       "2            01.2019  2019-01-05               SA           219.0    397031.0   \n",
       "\n",
       "   Precio Promedio Unidad Venta Unidad Precio  Semana   Año  \n",
       "0           2250.0          CLP           CLP       1  2019  \n",
       "1           1750.0          CLP           CLP       1  2019  \n",
       "2           1815.0          CLP           CLP       1  2019  "
      ]
     },
     "execution_count": 6,
     "metadata": {},
     "output_type": "execute_result"
    }
   ],
   "source": [
    "data1=Ajuste_data(Data)\n",
    "data1.head(3)\n",
    "#data=<data[data['Año']>2018]"
   ]
  },
  {
   "cell_type": "markdown",
   "id": "b8170fcb",
   "metadata": {
    "heading_collapsed": true,
    "hidden": true
   },
   "source": [
    "##  Data Facturación Concatena a la anterior\n",
    "Link de descarga de BW\n",
    "[08_06_21_Fact_CL_Mater_Canales_10_06_21](https://gestion.agrosuper.cl/irj/servlet/prt/portal/prtroot/pcd!3aportal_content!2fcom.sap.pct!2fplatform_add_ons!2fcom.sap.ip.bi!2fiViews!2fcom.sap.ip.bi.bex?BOOKMARK=4V7XT6V546W73QKC7BVTLKF4Y)\n",
    "\n",
    "Contiene las facturaciones siguientes de todo chile para el listado de productos y para los canales de venta:\n",
    "Foodservices; Canal Tradicional; Industriales; GRandes Clientes"
   ]
  },
  {
   "cell_type": "markdown",
   "id": "5087ab34",
   "metadata": {
    "heading_collapsed": true,
    "hidden": true
   },
   "source": [
    "### Selección de la zona de estudio "
   ]
  },
  {
   "cell_type": "code",
   "execution_count": 7,
   "id": "60785669",
   "metadata": {
    "hidden": true,
    "scrolled": false
   },
   "outputs": [
    {
     "data": {
      "text/html": [
       "<div>\n",
       "<style scoped>\n",
       "    .dataframe tbody tr th:only-of-type {\n",
       "        vertical-align: middle;\n",
       "    }\n",
       "\n",
       "    .dataframe tbody tr th {\n",
       "        vertical-align: top;\n",
       "    }\n",
       "\n",
       "    .dataframe thead th {\n",
       "        text-align: right;\n",
       "    }\n",
       "</style>\n",
       "<table border=\"1\" class=\"dataframe\">\n",
       "  <thead>\n",
       "    <tr style=\"text-align: right;\">\n",
       "      <th></th>\n",
       "      <th>Sector</th>\n",
       "      <th>Material</th>\n",
       "      <th>Tipo de cliente</th>\n",
       "      <th>Zona de ventas</th>\n",
       "      <th>Zona de ventas.1</th>\n",
       "      <th>Oficina de Ventas Unifica</th>\n",
       "      <th>Oficina de Ventas Unifica.1</th>\n",
       "      <th>Mes</th>\n",
       "      <th>Año natural/Semana</th>\n",
       "      <th>Día natural</th>\n",
       "      <th>Día de la semana</th>\n",
       "      <th>Kilos Venta KG</th>\n",
       "      <th>Venta Neta</th>\n",
       "      <th>Precio Promedio</th>\n",
       "    </tr>\n",
       "  </thead>\n",
       "  <tbody>\n",
       "    <tr>\n",
       "      <th>0</th>\n",
       "      <td>Cerdo</td>\n",
       "      <td>1020253</td>\n",
       "      <td>Tradicional</td>\n",
       "      <td>Z001</td>\n",
       "      <td>Santiago</td>\n",
       "      <td>Huechuraba</td>\n",
       "      <td>T101</td>\n",
       "      <td>6</td>\n",
       "      <td>23.2021</td>\n",
       "      <td>08.06.2021</td>\n",
       "      <td>MA</td>\n",
       "      <td>273</td>\n",
       "      <td>697.541 CLP</td>\n",
       "      <td>2.555 CLP</td>\n",
       "    </tr>\n",
       "  </tbody>\n",
       "</table>\n",
       "</div>"
      ],
      "text/plain": [
       "  Sector Material Tipo de cliente Zona de ventas Zona de ventas.1  \\\n",
       "0  Cerdo  1020253     Tradicional           Z001         Santiago   \n",
       "\n",
       "  Oficina de Ventas Unifica Oficina de Ventas Unifica.1 Mes  \\\n",
       "0                Huechuraba                        T101   6   \n",
       "\n",
       "  Año natural/Semana Día natural Día de la semana Kilos Venta KG   Venta Neta  \\\n",
       "0            23.2021  08.06.2021               MA            273  697.541 CLP   \n",
       "\n",
       "  Precio Promedio  \n",
       "0       2.555 CLP  "
      ]
     },
     "execution_count": 7,
     "metadata": {},
     "output_type": "execute_result"
    }
   ],
   "source": [
    "#Nombre del producto\n",
    "Fecha='08_06_21'\n",
    "Fecha_fin='21_06_21'\n",
    "# =============================================================================\n",
    "# Ajuste de los datos\n",
    "# =============================================================================\n",
    "File_name=Fecha+'_Fact_CL_Mater_Canales_'+Fecha_fin\n",
    "col_names=pd.read_csv(\"Data/\"+File_name+\".csv\",\n",
    "                    encoding=\"utf-8\",sep=\";\",nrows=0).columns\n",
    "types_dict = {col: str for col in col_names}\n",
    "\n",
    "Data2 = pd.read_csv(\"Data/\"+File_name+\".csv\",\n",
    "                   encoding=\"utf-8\",sep=\";\",dtype=types_dict)\n",
    "Data2.head(1)"
   ]
  },
  {
   "cell_type": "code",
   "execution_count": 8,
   "id": "4d8a50f7",
   "metadata": {
    "hidden": true,
    "scrolled": true
   },
   "outputs": [
    {
     "name": "stdout",
     "output_type": "stream",
     "text": [
      "Kilos Venta KG\n",
      "Venta Neta\n",
      "Precio Promedio\n"
     ]
    }
   ],
   "source": [
    "data2=Ajuste_data(Data2)"
   ]
  },
  {
   "cell_type": "markdown",
   "id": "5e267913",
   "metadata": {
    "heading_collapsed": true,
    "hidden": true
   },
   "source": [
    "## Unificar "
   ]
  },
  {
   "cell_type": "markdown",
   "id": "55d890d1",
   "metadata": {
    "hidden": true
   },
   "source": [
    "### Primera y ultima fecha "
   ]
  },
  {
   "cell_type": "code",
   "execution_count": 9,
   "id": "1e2fa2cc",
   "metadata": {
    "hidden": true,
    "scrolled": true
   },
   "outputs": [
    {
     "data": {
      "text/plain": [
       "datetime.date(2021, 6, 19)"
      ]
     },
     "execution_count": 9,
     "metadata": {},
     "output_type": "execute_result"
    }
   ],
   "source": [
    "data2['Día natural'].max()"
   ]
  },
  {
   "cell_type": "code",
   "execution_count": 10,
   "id": "19e8cf3f",
   "metadata": {
    "hidden": true
   },
   "outputs": [
    {
     "data": {
      "text/plain": [
       "datetime.date(2021, 6, 8)"
      ]
     },
     "execution_count": 10,
     "metadata": {},
     "output_type": "execute_result"
    }
   ],
   "source": [
    "data2['Día natural'].min()"
   ]
  },
  {
   "cell_type": "code",
   "execution_count": 11,
   "id": "c4a91bfb",
   "metadata": {
    "hidden": true
   },
   "outputs": [
    {
     "data": {
      "text/plain": [
       "datetime.date(2021, 6, 7)"
      ]
     },
     "execution_count": 11,
     "metadata": {},
     "output_type": "execute_result"
    }
   ],
   "source": [
    "data1['Día natural'].max()"
   ]
  },
  {
   "cell_type": "code",
   "execution_count": 12,
   "id": "a357e839",
   "metadata": {
    "hidden": true
   },
   "outputs": [
    {
     "data": {
      "text/plain": [
       "datetime.date(2019, 1, 2)"
      ]
     },
     "execution_count": 12,
     "metadata": {},
     "output_type": "execute_result"
    }
   ],
   "source": [
    "data1['Día natural'].min()"
   ]
  },
  {
   "cell_type": "markdown",
   "id": "f7f9cb59",
   "metadata": {
    "hidden": true
   },
   "source": [
    "### Concatenar "
   ]
  },
  {
   "cell_type": "code",
   "execution_count": 13,
   "id": "0c35035e",
   "metadata": {
    "hidden": true
   },
   "outputs": [
    {
     "data": {
      "text/html": [
       "<div>\n",
       "<style scoped>\n",
       "    .dataframe tbody tr th:only-of-type {\n",
       "        vertical-align: middle;\n",
       "    }\n",
       "\n",
       "    .dataframe tbody tr th {\n",
       "        vertical-align: top;\n",
       "    }\n",
       "\n",
       "    .dataframe thead th {\n",
       "        text-align: right;\n",
       "    }\n",
       "</style>\n",
       "<table border=\"1\" class=\"dataframe\">\n",
       "  <thead>\n",
       "    <tr style=\"text-align: right;\">\n",
       "      <th></th>\n",
       "      <th>Sector</th>\n",
       "      <th>Material</th>\n",
       "      <th>Tipo de cliente</th>\n",
       "      <th>Zona de ventas</th>\n",
       "      <th>Zona de ventas.1</th>\n",
       "      <th>Oficina de Ventas Unifica</th>\n",
       "      <th>Oficina de Ventas Unifica.1</th>\n",
       "      <th>Mes</th>\n",
       "      <th>Año natural/Semana</th>\n",
       "      <th>Día natural</th>\n",
       "      <th>Día de la semana</th>\n",
       "      <th>Kilos Venta KG</th>\n",
       "      <th>Venta Neta</th>\n",
       "      <th>Precio Promedio</th>\n",
       "      <th>Unidad Venta</th>\n",
       "      <th>Unidad Precio</th>\n",
       "      <th>Semana</th>\n",
       "      <th>Año</th>\n",
       "    </tr>\n",
       "  </thead>\n",
       "  <tbody>\n",
       "    <tr>\n",
       "      <th>count</th>\n",
       "      <td>453813</td>\n",
       "      <td>453813</td>\n",
       "      <td>453813</td>\n",
       "      <td>453813</td>\n",
       "      <td>453813</td>\n",
       "      <td>453813</td>\n",
       "      <td>453813</td>\n",
       "      <td>453813</td>\n",
       "      <td>453813</td>\n",
       "      <td>453813</td>\n",
       "      <td>453813</td>\n",
       "      <td>453813.000000</td>\n",
       "      <td>4.538130e+05</td>\n",
       "      <td>453813.000000</td>\n",
       "      <td>453813</td>\n",
       "      <td>453813</td>\n",
       "      <td>453813.000000</td>\n",
       "      <td>453813.000000</td>\n",
       "    </tr>\n",
       "    <tr>\n",
       "      <th>unique</th>\n",
       "      <td>2</td>\n",
       "      <td>13</td>\n",
       "      <td>4</td>\n",
       "      <td>6</td>\n",
       "      <td>6</td>\n",
       "      <td>34</td>\n",
       "      <td>34</td>\n",
       "      <td>12</td>\n",
       "      <td>129</td>\n",
       "      <td>796</td>\n",
       "      <td>7</td>\n",
       "      <td>NaN</td>\n",
       "      <td>NaN</td>\n",
       "      <td>NaN</td>\n",
       "      <td>3</td>\n",
       "      <td>3</td>\n",
       "      <td>NaN</td>\n",
       "      <td>NaN</td>\n",
       "    </tr>\n",
       "    <tr>\n",
       "      <th>top</th>\n",
       "      <td>Pollo</td>\n",
       "      <td>1010078</td>\n",
       "      <td>Tradicional</td>\n",
       "      <td>Z003</td>\n",
       "      <td>Centro Sur</td>\n",
       "      <td>Concepcion</td>\n",
       "      <td>T104</td>\n",
       "      <td>3</td>\n",
       "      <td>49.2019</td>\n",
       "      <td>2019-04-18</td>\n",
       "      <td>MI</td>\n",
       "      <td>NaN</td>\n",
       "      <td>NaN</td>\n",
       "      <td>NaN</td>\n",
       "      <td>CLP</td>\n",
       "      <td>CLP</td>\n",
       "      <td>NaN</td>\n",
       "      <td>NaN</td>\n",
       "    </tr>\n",
       "    <tr>\n",
       "      <th>freq</th>\n",
       "      <td>241020</td>\n",
       "      <td>52663</td>\n",
       "      <td>212544</td>\n",
       "      <td>125699</td>\n",
       "      <td>125699</td>\n",
       "      <td>23212</td>\n",
       "      <td>23212</td>\n",
       "      <td>49744</td>\n",
       "      <td>4061</td>\n",
       "      <td>731</td>\n",
       "      <td>78619</td>\n",
       "      <td>NaN</td>\n",
       "      <td>NaN</td>\n",
       "      <td>NaN</td>\n",
       "      <td>453379</td>\n",
       "      <td>453379</td>\n",
       "      <td>NaN</td>\n",
       "      <td>NaN</td>\n",
       "    </tr>\n",
       "    <tr>\n",
       "      <th>mean</th>\n",
       "      <td>NaN</td>\n",
       "      <td>NaN</td>\n",
       "      <td>NaN</td>\n",
       "      <td>NaN</td>\n",
       "      <td>NaN</td>\n",
       "      <td>NaN</td>\n",
       "      <td>NaN</td>\n",
       "      <td>NaN</td>\n",
       "      <td>NaN</td>\n",
       "      <td>NaN</td>\n",
       "      <td>NaN</td>\n",
       "      <td>607.706298</td>\n",
       "      <td>9.621685e+05</td>\n",
       "      <td>1852.141276</td>\n",
       "      <td>NaN</td>\n",
       "      <td>NaN</td>\n",
       "      <td>23.719506</td>\n",
       "      <td>2019.774026</td>\n",
       "    </tr>\n",
       "    <tr>\n",
       "      <th>std</th>\n",
       "      <td>NaN</td>\n",
       "      <td>NaN</td>\n",
       "      <td>NaN</td>\n",
       "      <td>NaN</td>\n",
       "      <td>NaN</td>\n",
       "      <td>NaN</td>\n",
       "      <td>NaN</td>\n",
       "      <td>NaN</td>\n",
       "      <td>NaN</td>\n",
       "      <td>NaN</td>\n",
       "      <td>NaN</td>\n",
       "      <td>1245.407968</td>\n",
       "      <td>1.803804e+06</td>\n",
       "      <td>726.489231</td>\n",
       "      <td>NaN</td>\n",
       "      <td>NaN</td>\n",
       "      <td>14.994992</td>\n",
       "      <td>0.739182</td>\n",
       "    </tr>\n",
       "    <tr>\n",
       "      <th>min</th>\n",
       "      <td>NaN</td>\n",
       "      <td>NaN</td>\n",
       "      <td>NaN</td>\n",
       "      <td>NaN</td>\n",
       "      <td>NaN</td>\n",
       "      <td>NaN</td>\n",
       "      <td>NaN</td>\n",
       "      <td>NaN</td>\n",
       "      <td>NaN</td>\n",
       "      <td>NaN</td>\n",
       "      <td>NaN</td>\n",
       "      <td>0.000000</td>\n",
       "      <td>0.000000e+00</td>\n",
       "      <td>0.000000</td>\n",
       "      <td>NaN</td>\n",
       "      <td>NaN</td>\n",
       "      <td>1.000000</td>\n",
       "      <td>2019.000000</td>\n",
       "    </tr>\n",
       "    <tr>\n",
       "      <th>25%</th>\n",
       "      <td>NaN</td>\n",
       "      <td>NaN</td>\n",
       "      <td>NaN</td>\n",
       "      <td>NaN</td>\n",
       "      <td>NaN</td>\n",
       "      <td>NaN</td>\n",
       "      <td>NaN</td>\n",
       "      <td>NaN</td>\n",
       "      <td>NaN</td>\n",
       "      <td>NaN</td>\n",
       "      <td>NaN</td>\n",
       "      <td>67.000000</td>\n",
       "      <td>1.208360e+05</td>\n",
       "      <td>1309.000000</td>\n",
       "      <td>NaN</td>\n",
       "      <td>NaN</td>\n",
       "      <td>11.000000</td>\n",
       "      <td>2019.000000</td>\n",
       "    </tr>\n",
       "    <tr>\n",
       "      <th>50%</th>\n",
       "      <td>NaN</td>\n",
       "      <td>NaN</td>\n",
       "      <td>NaN</td>\n",
       "      <td>NaN</td>\n",
       "      <td>NaN</td>\n",
       "      <td>NaN</td>\n",
       "      <td>NaN</td>\n",
       "      <td>NaN</td>\n",
       "      <td>NaN</td>\n",
       "      <td>NaN</td>\n",
       "      <td>NaN</td>\n",
       "      <td>200.000000</td>\n",
       "      <td>3.476820e+05</td>\n",
       "      <td>1690.000000</td>\n",
       "      <td>NaN</td>\n",
       "      <td>NaN</td>\n",
       "      <td>22.000000</td>\n",
       "      <td>2020.000000</td>\n",
       "    </tr>\n",
       "    <tr>\n",
       "      <th>75%</th>\n",
       "      <td>NaN</td>\n",
       "      <td>NaN</td>\n",
       "      <td>NaN</td>\n",
       "      <td>NaN</td>\n",
       "      <td>NaN</td>\n",
       "      <td>NaN</td>\n",
       "      <td>NaN</td>\n",
       "      <td>NaN</td>\n",
       "      <td>NaN</td>\n",
       "      <td>NaN</td>\n",
       "      <td>NaN</td>\n",
       "      <td>555.000000</td>\n",
       "      <td>9.756900e+05</td>\n",
       "      <td>2283.000000</td>\n",
       "      <td>NaN</td>\n",
       "      <td>NaN</td>\n",
       "      <td>36.000000</td>\n",
       "      <td>2020.000000</td>\n",
       "    </tr>\n",
       "    <tr>\n",
       "      <th>max</th>\n",
       "      <td>NaN</td>\n",
       "      <td>NaN</td>\n",
       "      <td>NaN</td>\n",
       "      <td>NaN</td>\n",
       "      <td>NaN</td>\n",
       "      <td>NaN</td>\n",
       "      <td>NaN</td>\n",
       "      <td>NaN</td>\n",
       "      <td>NaN</td>\n",
       "      <td>NaN</td>\n",
       "      <td>NaN</td>\n",
       "      <td>38890.000000</td>\n",
       "      <td>6.880883e+07</td>\n",
       "      <td>13567.000000</td>\n",
       "      <td>NaN</td>\n",
       "      <td>NaN</td>\n",
       "      <td>53.000000</td>\n",
       "      <td>2021.000000</td>\n",
       "    </tr>\n",
       "  </tbody>\n",
       "</table>\n",
       "</div>"
      ],
      "text/plain": [
       "        Sector Material Tipo de cliente Zona de ventas Zona de ventas.1  \\\n",
       "count   453813   453813          453813         453813           453813   \n",
       "unique       2       13               4              6                6   \n",
       "top      Pollo  1010078     Tradicional           Z003       Centro Sur   \n",
       "freq    241020    52663          212544         125699           125699   \n",
       "mean       NaN      NaN             NaN            NaN              NaN   \n",
       "std        NaN      NaN             NaN            NaN              NaN   \n",
       "min        NaN      NaN             NaN            NaN              NaN   \n",
       "25%        NaN      NaN             NaN            NaN              NaN   \n",
       "50%        NaN      NaN             NaN            NaN              NaN   \n",
       "75%        NaN      NaN             NaN            NaN              NaN   \n",
       "max        NaN      NaN             NaN            NaN              NaN   \n",
       "\n",
       "       Oficina de Ventas Unifica Oficina de Ventas Unifica.1     Mes  \\\n",
       "count                     453813                      453813  453813   \n",
       "unique                        34                          34      12   \n",
       "top                   Concepcion                        T104       3   \n",
       "freq                       23212                       23212   49744   \n",
       "mean                         NaN                         NaN     NaN   \n",
       "std                          NaN                         NaN     NaN   \n",
       "min                          NaN                         NaN     NaN   \n",
       "25%                          NaN                         NaN     NaN   \n",
       "50%                          NaN                         NaN     NaN   \n",
       "75%                          NaN                         NaN     NaN   \n",
       "max                          NaN                         NaN     NaN   \n",
       "\n",
       "       Año natural/Semana Día natural Día de la semana  Kilos Venta KG  \\\n",
       "count              453813      453813           453813   453813.000000   \n",
       "unique                129         796                7             NaN   \n",
       "top               49.2019  2019-04-18               MI             NaN   \n",
       "freq                 4061         731            78619             NaN   \n",
       "mean                  NaN         NaN              NaN      607.706298   \n",
       "std                   NaN         NaN              NaN     1245.407968   \n",
       "min                   NaN         NaN              NaN        0.000000   \n",
       "25%                   NaN         NaN              NaN       67.000000   \n",
       "50%                   NaN         NaN              NaN      200.000000   \n",
       "75%                   NaN         NaN              NaN      555.000000   \n",
       "max                   NaN         NaN              NaN    38890.000000   \n",
       "\n",
       "          Venta Neta  Precio Promedio Unidad Venta Unidad Precio  \\\n",
       "count   4.538130e+05    453813.000000       453813        453813   \n",
       "unique           NaN              NaN            3             3   \n",
       "top              NaN              NaN          CLP           CLP   \n",
       "freq             NaN              NaN       453379        453379   \n",
       "mean    9.621685e+05      1852.141276          NaN           NaN   \n",
       "std     1.803804e+06       726.489231          NaN           NaN   \n",
       "min     0.000000e+00         0.000000          NaN           NaN   \n",
       "25%     1.208360e+05      1309.000000          NaN           NaN   \n",
       "50%     3.476820e+05      1690.000000          NaN           NaN   \n",
       "75%     9.756900e+05      2283.000000          NaN           NaN   \n",
       "max     6.880883e+07     13567.000000          NaN           NaN   \n",
       "\n",
       "               Semana            Año  \n",
       "count   453813.000000  453813.000000  \n",
       "unique            NaN            NaN  \n",
       "top               NaN            NaN  \n",
       "freq              NaN            NaN  \n",
       "mean        23.719506    2019.774026  \n",
       "std         14.994992       0.739182  \n",
       "min          1.000000    2019.000000  \n",
       "25%         11.000000    2019.000000  \n",
       "50%         22.000000    2020.000000  \n",
       "75%         36.000000    2020.000000  \n",
       "max         53.000000    2021.000000  "
      ]
     },
     "execution_count": 13,
     "metadata": {},
     "output_type": "execute_result"
    }
   ],
   "source": [
    "data=pd.concat([data1, data2])\n",
    "data.describe(include='all')"
   ]
  },
  {
   "cell_type": "code",
   "execution_count": 14,
   "id": "22e7cbd9",
   "metadata": {
    "hidden": true
   },
   "outputs": [
    {
     "data": {
      "text/plain": [
       "datetime.date(2019, 1, 2)"
      ]
     },
     "execution_count": 14,
     "metadata": {},
     "output_type": "execute_result"
    }
   ],
   "source": [
    "data['Día natural'].min()"
   ]
  },
  {
   "cell_type": "code",
   "execution_count": 15,
   "id": "53495744",
   "metadata": {
    "hidden": true
   },
   "outputs": [
    {
     "data": {
      "text/plain": [
       "datetime.date(2021, 6, 19)"
      ]
     },
     "execution_count": 15,
     "metadata": {},
     "output_type": "execute_result"
    }
   ],
   "source": [
    "data['Día natural'].max()"
   ]
  },
  {
   "cell_type": "markdown",
   "id": "0372244d",
   "metadata": {},
   "source": [
    "# Predicción  Prophet\n"
   ]
  },
  {
   "cell_type": "code",
   "execution_count": 16,
   "id": "bc444ce2",
   "metadata": {
    "scrolled": false
   },
   "outputs": [],
   "source": [
    "y_col='Kilos Venta KG'\n",
    "y_value='Volumen de ventas en KG'\n",
    "y_title= 'Demanda'+'del canal tradicion'"
   ]
  },
  {
   "cell_type": "markdown",
   "id": "6684566a",
   "metadata": {},
   "source": [
    "## Descripción "
   ]
  },
  {
   "cell_type": "code",
   "execution_count": 17,
   "id": "4aefecf7",
   "metadata": {
    "scrolled": false
   },
   "outputs": [
    {
     "data": {
      "text/html": [
       "<div>\n",
       "<style scoped>\n",
       "    .dataframe tbody tr th:only-of-type {\n",
       "        vertical-align: middle;\n",
       "    }\n",
       "\n",
       "    .dataframe tbody tr th {\n",
       "        vertical-align: top;\n",
       "    }\n",
       "\n",
       "    .dataframe thead th {\n",
       "        text-align: right;\n",
       "    }\n",
       "</style>\n",
       "<table border=\"1\" class=\"dataframe\">\n",
       "  <thead>\n",
       "    <tr style=\"text-align: right;\">\n",
       "      <th></th>\n",
       "      <th>Sector</th>\n",
       "      <th>Material</th>\n",
       "      <th>Tipo de cliente</th>\n",
       "      <th>Zona de ventas</th>\n",
       "      <th>Zona de ventas.1</th>\n",
       "      <th>Oficina de Ventas Unifica</th>\n",
       "      <th>Oficina de Ventas Unifica.1</th>\n",
       "      <th>Mes</th>\n",
       "      <th>Año natural/Semana</th>\n",
       "      <th>Día natural</th>\n",
       "      <th>Día de la semana</th>\n",
       "      <th>Kilos Venta KG</th>\n",
       "      <th>Venta Neta</th>\n",
       "      <th>Precio Promedio</th>\n",
       "      <th>Unidad Venta</th>\n",
       "      <th>Unidad Precio</th>\n",
       "      <th>Semana</th>\n",
       "      <th>Año</th>\n",
       "    </tr>\n",
       "  </thead>\n",
       "  <tbody>\n",
       "    <tr>\n",
       "      <th>0</th>\n",
       "      <td>Cerdo</td>\n",
       "      <td>1020253</td>\n",
       "      <td>Tradicional</td>\n",
       "      <td>Z001</td>\n",
       "      <td>Santiago</td>\n",
       "      <td>Huechuraba</td>\n",
       "      <td>T101</td>\n",
       "      <td>1</td>\n",
       "      <td>01.2019</td>\n",
       "      <td>2019-01-02</td>\n",
       "      <td>MI</td>\n",
       "      <td>36.0</td>\n",
       "      <td>81788.0</td>\n",
       "      <td>2250.0</td>\n",
       "      <td>CLP</td>\n",
       "      <td>CLP</td>\n",
       "      <td>1</td>\n",
       "      <td>2019</td>\n",
       "    </tr>\n",
       "    <tr>\n",
       "      <th>1</th>\n",
       "      <td>Cerdo</td>\n",
       "      <td>1020253</td>\n",
       "      <td>Tradicional</td>\n",
       "      <td>Z001</td>\n",
       "      <td>Santiago</td>\n",
       "      <td>Huechuraba</td>\n",
       "      <td>T101</td>\n",
       "      <td>1</td>\n",
       "      <td>01.2019</td>\n",
       "      <td>2019-01-03</td>\n",
       "      <td>JU</td>\n",
       "      <td>333.0</td>\n",
       "      <td>583204.0</td>\n",
       "      <td>1750.0</td>\n",
       "      <td>CLP</td>\n",
       "      <td>CLP</td>\n",
       "      <td>1</td>\n",
       "      <td>2019</td>\n",
       "    </tr>\n",
       "    <tr>\n",
       "      <th>2</th>\n",
       "      <td>Cerdo</td>\n",
       "      <td>1020253</td>\n",
       "      <td>Tradicional</td>\n",
       "      <td>Z001</td>\n",
       "      <td>Santiago</td>\n",
       "      <td>Huechuraba</td>\n",
       "      <td>T101</td>\n",
       "      <td>1</td>\n",
       "      <td>01.2019</td>\n",
       "      <td>2019-01-05</td>\n",
       "      <td>SA</td>\n",
       "      <td>219.0</td>\n",
       "      <td>397031.0</td>\n",
       "      <td>1815.0</td>\n",
       "      <td>CLP</td>\n",
       "      <td>CLP</td>\n",
       "      <td>1</td>\n",
       "      <td>2019</td>\n",
       "    </tr>\n",
       "    <tr>\n",
       "      <th>3</th>\n",
       "      <td>Cerdo</td>\n",
       "      <td>1020253</td>\n",
       "      <td>Tradicional</td>\n",
       "      <td>Z001</td>\n",
       "      <td>Santiago</td>\n",
       "      <td>Huechuraba</td>\n",
       "      <td>T101</td>\n",
       "      <td>1</td>\n",
       "      <td>02.2019</td>\n",
       "      <td>2019-01-07</td>\n",
       "      <td>LU</td>\n",
       "      <td>128.0</td>\n",
       "      <td>258591.0</td>\n",
       "      <td>2017.0</td>\n",
       "      <td>CLP</td>\n",
       "      <td>CLP</td>\n",
       "      <td>2</td>\n",
       "      <td>2019</td>\n",
       "    </tr>\n",
       "    <tr>\n",
       "      <th>4</th>\n",
       "      <td>Cerdo</td>\n",
       "      <td>1020253</td>\n",
       "      <td>Tradicional</td>\n",
       "      <td>Z001</td>\n",
       "      <td>Santiago</td>\n",
       "      <td>Huechuraba</td>\n",
       "      <td>T101</td>\n",
       "      <td>1</td>\n",
       "      <td>02.2019</td>\n",
       "      <td>2019-01-08</td>\n",
       "      <td>MA</td>\n",
       "      <td>95.0</td>\n",
       "      <td>210790.0</td>\n",
       "      <td>2223.0</td>\n",
       "      <td>CLP</td>\n",
       "      <td>CLP</td>\n",
       "      <td>2</td>\n",
       "      <td>2019</td>\n",
       "    </tr>\n",
       "  </tbody>\n",
       "</table>\n",
       "</div>"
      ],
      "text/plain": [
       "  Sector Material Tipo de cliente Zona de ventas Zona de ventas.1  \\\n",
       "0  Cerdo  1020253     Tradicional           Z001         Santiago   \n",
       "1  Cerdo  1020253     Tradicional           Z001         Santiago   \n",
       "2  Cerdo  1020253     Tradicional           Z001         Santiago   \n",
       "3  Cerdo  1020253     Tradicional           Z001         Santiago   \n",
       "4  Cerdo  1020253     Tradicional           Z001         Santiago   \n",
       "\n",
       "  Oficina de Ventas Unifica Oficina de Ventas Unifica.1 Mes  \\\n",
       "0                Huechuraba                        T101   1   \n",
       "1                Huechuraba                        T101   1   \n",
       "2                Huechuraba                        T101   1   \n",
       "3                Huechuraba                        T101   1   \n",
       "4                Huechuraba                        T101   1   \n",
       "\n",
       "  Año natural/Semana Día natural Día de la semana  Kilos Venta KG  Venta Neta  \\\n",
       "0            01.2019  2019-01-02               MI            36.0     81788.0   \n",
       "1            01.2019  2019-01-03               JU           333.0    583204.0   \n",
       "2            01.2019  2019-01-05               SA           219.0    397031.0   \n",
       "3            02.2019  2019-01-07               LU           128.0    258591.0   \n",
       "4            02.2019  2019-01-08               MA            95.0    210790.0   \n",
       "\n",
       "   Precio Promedio Unidad Venta Unidad Precio  Semana   Año  \n",
       "0           2250.0          CLP           CLP       1  2019  \n",
       "1           1750.0          CLP           CLP       1  2019  \n",
       "2           1815.0          CLP           CLP       1  2019  \n",
       "3           2017.0          CLP           CLP       2  2019  \n",
       "4           2223.0          CLP           CLP       2  2019  "
      ]
     },
     "execution_count": 17,
     "metadata": {},
     "output_type": "execute_result"
    }
   ],
   "source": [
    "data.head()"
   ]
  },
  {
   "cell_type": "code",
   "execution_count": 22,
   "id": "4659c906",
   "metadata": {},
   "outputs": [
    {
     "data": {
      "text/plain": [
       "Index(['Sector', 'Material', 'Tipo de cliente', 'Zona de ventas',\n",
       "       'Zona de ventas.1', 'Oficina de Ventas Unifica',\n",
       "       'Oficina de Ventas Unifica.1', 'Mes', 'Año natural/Semana',\n",
       "       'Día natural', 'Día de la semana', 'Kilos Venta KG', 'Venta Neta',\n",
       "       'Precio Promedio', 'Unidad Venta', 'Unidad Precio', 'Semana', 'Año'],\n",
       "      dtype='object')"
      ]
     },
     "execution_count": 22,
     "metadata": {},
     "output_type": "execute_result"
    }
   ],
   "source": [
    "data.columns"
   ]
  },
  {
   "cell_type": "code",
   "execution_count": 18,
   "id": "3a4c5fee",
   "metadata": {},
   "outputs": [
    {
     "name": "stdout",
     "output_type": "stream",
     "text": [
      "['Tradicional' 'Industriales' 'Grandes Clientes' 'Foodservice']\n",
      "['Santiago' 'Centro Norte' 'Centro Sur' 'Sur' 'Norte' 'Venta Directa']\n",
      "['Huechuraba' 'Lo Espejo' 'Quilin' 'Sucursal Miraflores' 'Coquimbo'\n",
      " 'Hijuelas' 'Ovalle' 'San Antonio' 'San Felipe' 'Viña del Mar' 'Chillan'\n",
      " 'Concepcion' 'Curico' 'Los Angeles' 'Rancagua' 'Talca' 'Castro'\n",
      " 'Coyhaique' 'Osorno' 'Puerto Montt' 'Punta Arenas' 'Temuco' 'Valdivia'\n",
      " 'Antofagasta' 'Arica' 'Calama' 'Copiapo' 'Iquique' 'Vallenar'\n",
      " 'VD FoodService' 'VD Industrial' 'VD Grandes Clientes'\n",
      " 'Sucursal Dieciocho' 'Vendedores San Pablo']\n",
      "['1020253' '1020042' '1020027' '1020013' '1020010' '1020003' '1020001'\n",
      " '1010695' '1010267' '1010078' '1010077' '1010048' '1010002']\n"
     ]
    }
   ],
   "source": [
    "print(data['Tipo de cliente'].unique())\n",
    "print(data['Zona de ventas.1'].unique())\n",
    "print(data['Oficina de Ventas Unifica'].unique())\n",
    "print(data['Material'].unique())"
   ]
  },
  {
   "cell_type": "markdown",
   "id": "db0581c6",
   "metadata": {},
   "source": [
    "## función "
   ]
  },
  {
   "cell_type": "code",
   "execution_count": 19,
   "id": "dee5e647",
   "metadata": {},
   "outputs": [],
   "source": [
    "def Df_ubic(data_X,col,Str):\n",
    "    df=data_X.copy()\n",
    "    df=df[df[col]==Str]\n",
    "    return df"
   ]
  },
  {
   "cell_type": "code",
   "execution_count": 20,
   "id": "e93ac778",
   "metadata": {},
   "outputs": [],
   "source": [
    "def Predict_sem(D_Train,periodos=5):\n",
    "    D_Train.columns = ['ds','y']\n",
    "    \n",
    "    # convert dates from string to datetime\n",
    "    D_Train.ds = pd.to_datetime(D_Train.ds)\n",
    "    #print(D_Train.dtypes)\n",
    "    \n",
    "    # set prophet model \n",
    "    prophet = Prophet(changepoint_prior_scale=0.15, yearly_seasonality=True)\n",
    "    \n",
    "    # fit $wmt data to model\n",
    "    prophet.fit(D_Train)\n",
    "    \n",
    "    \n",
    "    \n",
    "    # build future dataframe for 5 years\n",
    "    build_forecast = prophet.make_future_dataframe(periods= periodos , freq='D')\n",
    "    #prophet.make_future_dataframe(periods= periodos, freq='D')\n",
    "    \n",
    "    # forecast future df w/ model\n",
    "    forecast = prophet.predict(build_forecast)\n",
    "    \n",
    "    return(forecast)"
   ]
  },
  {
   "cell_type": "code",
   "execution_count": 21,
   "id": "99b93686",
   "metadata": {
    "scrolled": true
   },
   "outputs": [],
   "source": [
    "def Limit_fecha(Y,AÑO=2021,MES=6,DIA_INIC=22,DIA_FIN=26):\n",
    "    X=Y.copy()\n",
    "    X[\"Día natural\"] = X[\"Día natural\"].apply(lambda x: \n",
    "                                                    datetime.datetime.strptime(str(x).split(' ')[0],\n",
    "                                                                               '%Y-%m-%d').date())\n",
    "    X=X[X['Día natural'] >= datetime.date(AÑO, MES, DIA_INIC)]\n",
    "    X=X[X['Día natural'] <= datetime.date(AÑO, MES, DIA_FIN)]\n",
    "    return X"
   ]
  },
  {
   "cell_type": "code",
   "execution_count": 22,
   "id": "a063a0f8",
   "metadata": {},
   "outputs": [],
   "source": [
    "AÑO=2021\n",
    "MES=6\n",
    "DIA_INIC=22\n",
    "DIA_FIN=26"
   ]
  },
  {
   "cell_type": "markdown",
   "id": "a3d7b419",
   "metadata": {},
   "source": [
    "## Predicción de todo chile"
   ]
  },
  {
   "cell_type": "code",
   "execution_count": 29,
   "id": "efa3d7dc",
   "metadata": {
    "scrolled": true
   },
   "outputs": [
    {
     "name": "stderr",
     "output_type": "stream",
     "text": [
      "INFO:fbprophet:Disabling daily seasonality. Run prophet with daily_seasonality=True to override this.\n",
      "INFO:fbprophet:Disabling daily seasonality. Run prophet with daily_seasonality=True to override this.\n"
     ]
    },
    {
     "name": "stdout",
     "output_type": "stream",
     "text": [
      "El producto  1020253  demoró 2.2704501152038574\n",
      "tiempo que lleva corriendo 0.03820780515670776 Min\n"
     ]
    },
    {
     "name": "stderr",
     "output_type": "stream",
     "text": [
      "INFO:fbprophet:Disabling daily seasonality. Run prophet with daily_seasonality=True to override this.\n"
     ]
    },
    {
     "name": "stdout",
     "output_type": "stream",
     "text": [
      "El producto  1020042  demoró 1.952176809310913\n",
      "tiempo que lleva corriendo 0.07077744404474894 Min\n"
     ]
    },
    {
     "name": "stderr",
     "output_type": "stream",
     "text": [
      "INFO:fbprophet:Disabling daily seasonality. Run prophet with daily_seasonality=True to override this.\n"
     ]
    },
    {
     "name": "stdout",
     "output_type": "stream",
     "text": [
      "El producto  1020027  demoró 2.2469305992126465\n",
      "tiempo que lleva corriendo 0.10824296474456788 Min\n"
     ]
    },
    {
     "name": "stderr",
     "output_type": "stream",
     "text": [
      "INFO:fbprophet:Disabling daily seasonality. Run prophet with daily_seasonality=True to override this.\n"
     ]
    },
    {
     "name": "stdout",
     "output_type": "stream",
     "text": [
      "El producto  1020013  demoró 2.128828525543213\n",
      "tiempo que lleva corriendo 0.14373178084691365 Min\n"
     ]
    },
    {
     "name": "stderr",
     "output_type": "stream",
     "text": [
      "INFO:fbprophet:Disabling daily seasonality. Run prophet with daily_seasonality=True to override this.\n"
     ]
    },
    {
     "name": "stdout",
     "output_type": "stream",
     "text": [
      "El producto  1020010  demoró 2.3480169773101807\n",
      "tiempo que lleva corriendo 0.18287373781204225 Min\n"
     ]
    },
    {
     "name": "stderr",
     "output_type": "stream",
     "text": [
      "INFO:fbprophet:Disabling daily seasonality. Run prophet with daily_seasonality=True to override this.\n"
     ]
    },
    {
     "name": "stdout",
     "output_type": "stream",
     "text": [
      "El producto  1020003  demoró 3.506512403488159\n",
      "tiempo que lleva corriendo 0.24132394393285114 Min\n"
     ]
    },
    {
     "name": "stderr",
     "output_type": "stream",
     "text": [
      "INFO:fbprophet:Disabling daily seasonality. Run prophet with daily_seasonality=True to override this.\n"
     ]
    },
    {
     "name": "stdout",
     "output_type": "stream",
     "text": [
      "El producto  1020001  demoró 2.134833574295044\n",
      "tiempo que lleva corriendo 0.27690450350443524 Min\n"
     ]
    },
    {
     "name": "stderr",
     "output_type": "stream",
     "text": [
      "INFO:fbprophet:Disabling daily seasonality. Run prophet with daily_seasonality=True to override this.\n"
     ]
    },
    {
     "name": "stdout",
     "output_type": "stream",
     "text": [
      "El producto  1010695  demoró 2.119320869445801\n",
      "tiempo que lleva corriendo 0.3122431993484497 Min\n"
     ]
    },
    {
     "name": "stderr",
     "output_type": "stream",
     "text": [
      "INFO:fbprophet:Disabling daily seasonality. Run prophet with daily_seasonality=True to override this.\n"
     ]
    },
    {
     "name": "stdout",
     "output_type": "stream",
     "text": [
      "El producto  1010267  demoró 2.1583540439605713\n",
      "tiempo que lleva corriendo 0.34824078480402626 Min\n",
      "El producto  1010078  demoró 2.0937986373901367\n",
      "tiempo que lleva corriendo 0.38315410614013673 Min\n"
     ]
    },
    {
     "name": "stderr",
     "output_type": "stream",
     "text": [
      "INFO:fbprophet:Disabling daily seasonality. Run prophet with daily_seasonality=True to override this.\n",
      "INFO:fbprophet:Disabling daily seasonality. Run prophet with daily_seasonality=True to override this.\n"
     ]
    },
    {
     "name": "stdout",
     "output_type": "stream",
     "text": [
      "El producto  1010077  demoró 2.0787861347198486\n",
      "tiempo que lleva corriendo 0.4178339203198751 Min\n"
     ]
    },
    {
     "name": "stderr",
     "output_type": "stream",
     "text": [
      "INFO:fbprophet:Disabling daily seasonality. Run prophet with daily_seasonality=True to override this.\n"
     ]
    },
    {
     "name": "stdout",
     "output_type": "stream",
     "text": [
      "El producto  1010048  demoró 2.989067554473877\n",
      "tiempo que lleva corriendo 0.46767671902974445 Min\n",
      "El producto  1010002  demoró 2.2759552001953125\n",
      "tiempo que lleva corriendo 0.5056259910265605 Min\n"
     ]
    },
    {
     "data": {
      "text/html": [
       "<div>\n",
       "<style scoped>\n",
       "    .dataframe tbody tr th:only-of-type {\n",
       "        vertical-align: middle;\n",
       "    }\n",
       "\n",
       "    .dataframe tbody tr th {\n",
       "        vertical-align: top;\n",
       "    }\n",
       "\n",
       "    .dataframe thead th {\n",
       "        text-align: right;\n",
       "    }\n",
       "</style>\n",
       "<table border=\"1\" class=\"dataframe\">\n",
       "  <thead>\n",
       "    <tr style=\"text-align: right;\">\n",
       "      <th></th>\n",
       "      <th>Día natural</th>\n",
       "      <th>Predicción Inferior</th>\n",
       "      <th>Predicción Superior</th>\n",
       "      <th>Predicción central</th>\n",
       "      <th>Material</th>\n",
       "      <th>Sector</th>\n",
       "    </tr>\n",
       "  </thead>\n",
       "  <tbody>\n",
       "    <tr>\n",
       "      <th>0</th>\n",
       "      <td>2021-06-20</td>\n",
       "      <td>3314.992677</td>\n",
       "      <td>12980.866924</td>\n",
       "      <td>8160.149693</td>\n",
       "      <td>1020253</td>\n",
       "      <td>Cerdo</td>\n",
       "    </tr>\n",
       "    <tr>\n",
       "      <th>1</th>\n",
       "      <td>2021-06-21</td>\n",
       "      <td>7633.138356</td>\n",
       "      <td>16309.580899</td>\n",
       "      <td>12224.873388</td>\n",
       "      <td>1020253</td>\n",
       "      <td>Cerdo</td>\n",
       "    </tr>\n",
       "    <tr>\n",
       "      <th>2</th>\n",
       "      <td>2021-06-22</td>\n",
       "      <td>9516.790383</td>\n",
       "      <td>19117.826392</td>\n",
       "      <td>14364.864922</td>\n",
       "      <td>1020253</td>\n",
       "      <td>Cerdo</td>\n",
       "    </tr>\n",
       "    <tr>\n",
       "      <th>3</th>\n",
       "      <td>2021-06-23</td>\n",
       "      <td>11424.328556</td>\n",
       "      <td>20509.775182</td>\n",
       "      <td>16022.700603</td>\n",
       "      <td>1020253</td>\n",
       "      <td>Cerdo</td>\n",
       "    </tr>\n",
       "    <tr>\n",
       "      <th>4</th>\n",
       "      <td>2021-06-24</td>\n",
       "      <td>12508.209958</td>\n",
       "      <td>21224.503598</td>\n",
       "      <td>17075.995755</td>\n",
       "      <td>1020253</td>\n",
       "      <td>Cerdo</td>\n",
       "    </tr>\n",
       "  </tbody>\n",
       "</table>\n",
       "</div>"
      ],
      "text/plain": [
       "  Día natural  Predicción Inferior  Predicción Superior  Predicción central  \\\n",
       "0  2021-06-20          3314.992677         12980.866924         8160.149693   \n",
       "1  2021-06-21          7633.138356         16309.580899        12224.873388   \n",
       "2  2021-06-22          9516.790383         19117.826392        14364.864922   \n",
       "3  2021-06-23         11424.328556         20509.775182        16022.700603   \n",
       "4  2021-06-24         12508.209958         21224.503598        17075.995755   \n",
       "\n",
       "  Material Sector  \n",
       "0  1020253  Cerdo  \n",
       "1  1020253  Cerdo  \n",
       "2  1020253  Cerdo  \n",
       "3  1020253  Cerdo  \n",
       "4  1020253  Cerdo  "
      ]
     },
     "execution_count": 29,
     "metadata": {},
     "output_type": "execute_result"
    }
   ],
   "source": [
    "start_time = time()\n",
    "\n",
    "#inicializa con un Data Frame vacio\n",
    "df2 = pd.DataFrame(columns=['ds', 'yhat_lower', 'yhat_upper', 'yhat',\n",
    "                            'Material'])\n",
    "\n",
    "df2.rename(columns = {'ds': 'Día natural', 'yhat': 'Predicción central',\n",
    "                                'yhat_upper': 'Predicción Superior',\n",
    "                                'yhat_lower': 'Predicción Inferior'}, inplace = True)\n",
    "\n",
    "\n",
    "\n",
    "#Crear un listado de los materiales disponibles en la data\n",
    "Listado_de_Materiales=data['Material'].unique()\n",
    "\n",
    "for m in Listado_de_Materiales:\n",
    "    material_time=time()\n",
    "    #m=Listado_de_Materiales[0]\n",
    "    dfm=Df_ubic(data,'Material',m).groupby('Día natural').sum().reset_index()[['Día natural',y_col]]\n",
    "    \n",
    "    #Realizar predicción\n",
    "    dfmPred=Predict_sem(dfm,14)[['ds', 'yhat_lower', 'yhat_upper', 'yhat']].tail(14)\n",
    "    dfmPred.rename(columns = {'ds': 'Día natural', 'yhat': 'Predicción central',\n",
    "                                'yhat_upper': 'Predicción Superior',\n",
    "                                'yhat_lower': 'Predicción Inferior'}, inplace = True)\n",
    "    dfmPred['Material']=[m for i in range(dfmPred.shape[0])]\n",
    "    \n",
    "    #Sector del producto(Tipo de carne)\n",
    "    Sec=Df_ubic(data,'Material',m).Sector.unique()[0]\n",
    "    dfmPred['Sector']=[Sec for i in range(dfmPred.shape[0])]\n",
    "    \n",
    "    dfmPred=dfmPred.reset_index()\n",
    "    dfmPred.pop('index')\n",
    "    df2=pd.concat([df2, dfmPred])\n",
    "\n",
    "    print('El producto ',m,' demoró',(time() - material_time))\n",
    "    print('tiempo que lleva corriendo',(time() - start_time)/60, 'Min')\n",
    "\n",
    "df2.head()"
   ]
  },
  {
   "cell_type": "markdown",
   "id": "3a42dae4",
   "metadata": {},
   "source": [
    "### CSV SAVE"
   ]
  },
  {
   "cell_type": "code",
   "execution_count": 45,
   "id": "f5aaa79b",
   "metadata": {},
   "outputs": [
    {
     "name": "stdout",
     "output_type": "stream",
     "text": [
      "2021-06-20\n",
      "2021-07-03\n"
     ]
    }
   ],
   "source": [
    "\n",
    "min_time=df2['Día natural'].min()\n",
    "min_time=str(min_time).split(' ')[0]\n",
    "print(min_time)\n",
    "max_time=df2['Día natural'].max()\n",
    "max_time=str(max_time).split(' ')[0]\n",
    "print(max_time)"
   ]
  },
  {
   "cell_type": "code",
   "execution_count": 46,
   "id": "350dce53",
   "metadata": {
    "scrolled": true
   },
   "outputs": [],
   "source": [
    "#%d.%m.%Y\n",
    "df2[\"Día natural\"] = df2[\"Día natural\"].apply(lambda x: \n",
    "                                                datetime.datetime.strptime(str(x).split(' ')[0],\n",
    "                                                                           '%Y-%m-%d').date())\n",
    "df2=df2[df2['Día natural'] >= datetime.date(2021, 6, 22)]\n",
    "df2=df2[df2['Día natural'] <= datetime.date(2021, 6, 26)]"
   ]
  },
  {
   "cell_type": "code",
   "execution_count": 47,
   "id": "4561f708",
   "metadata": {},
   "outputs": [
    {
     "name": "stdout",
     "output_type": "stream",
     "text": [
      "2021-06-22\n",
      "2021-06-26\n"
     ]
    }
   ],
   "source": [
    "\n",
    "min_time=df2['Día natural'].min()\n",
    "min_time=str(min_time).split(' ')[0]\n",
    "print(min_time)\n",
    "max_time=df2['Día natural'].max()\n",
    "max_time=str(max_time).split(' ')[0]\n",
    "print(max_time)"
   ]
  },
  {
   "cell_type": "code",
   "execution_count": 48,
   "id": "b962b2db",
   "metadata": {},
   "outputs": [],
   "source": [
    "#Error_DF_Sum.to_csv('E_interv_Dem.csv', index=False)\n",
    "df2.to_csv('Predicción Todo Chile del'+min_time+' al '+max_time+'.csv', index=False)"
   ]
  },
  {
   "cell_type": "markdown",
   "id": "462caeae",
   "metadata": {},
   "source": [
    "### Analisis Exploratorio"
   ]
  },
  {
   "cell_type": "markdown",
   "id": "62f577dc",
   "metadata": {},
   "source": [
    "#### Ajuste fecha "
   ]
  },
  {
   "cell_type": "code",
   "execution_count": 38,
   "id": "33a91433",
   "metadata": {},
   "outputs": [],
   "source": [
    "df3=df2.copy()"
   ]
  },
  {
   "cell_type": "code",
   "execution_count": 34,
   "id": "d8ebc85c",
   "metadata": {
    "scrolled": true
   },
   "outputs": [
    {
     "data": {
      "text/plain": [
       "datetime.date(2019, 1, 2)"
      ]
     },
     "execution_count": 34,
     "metadata": {},
     "output_type": "execute_result"
    }
   ],
   "source": [
    "data['Día natural'].min()"
   ]
  },
  {
   "cell_type": "code",
   "execution_count": 40,
   "id": "78bd02e9",
   "metadata": {
    "scrolled": true
   },
   "outputs": [],
   "source": [
    "#%d.%m.%Y\n",
    "df3[\"Día natural\"] = df3[\"Día natural\"].apply(lambda x: \n",
    "                                                datetime.datetime.strptime(str(x).split(' ')[0],\n",
    "                                                                           '%Y-%m-%d').date())\n",
    "df3[df3['Día natural'] >= datetime.date(2021, 6, 22)]\n",
    "df3[df3['Día natural'] <= datetime.date(2021, 6, 26)]"
   ]
  },
  {
   "cell_type": "code",
   "execution_count": 44,
   "id": "d0342c44",
   "metadata": {},
   "outputs": [
    {
     "data": {
      "text/html": [
       "<div>\n",
       "<style scoped>\n",
       "    .dataframe tbody tr th:only-of-type {\n",
       "        vertical-align: middle;\n",
       "    }\n",
       "\n",
       "    .dataframe tbody tr th {\n",
       "        vertical-align: top;\n",
       "    }\n",
       "\n",
       "    .dataframe thead th {\n",
       "        text-align: right;\n",
       "    }\n",
       "</style>\n",
       "<table border=\"1\" class=\"dataframe\">\n",
       "  <thead>\n",
       "    <tr style=\"text-align: right;\">\n",
       "      <th></th>\n",
       "      <th>Día natural</th>\n",
       "      <th>Predicción Inferior</th>\n",
       "      <th>Predicción Superior</th>\n",
       "      <th>Predicción central</th>\n",
       "      <th>Material</th>\n",
       "      <th>Sector</th>\n",
       "    </tr>\n",
       "  </thead>\n",
       "  <tbody>\n",
       "    <tr>\n",
       "      <th>0</th>\n",
       "      <td>2021-06-20</td>\n",
       "      <td>3314.992677</td>\n",
       "      <td>12980.866924</td>\n",
       "      <td>8160.149693</td>\n",
       "      <td>1020253</td>\n",
       "      <td>Cerdo</td>\n",
       "    </tr>\n",
       "    <tr>\n",
       "      <th>1</th>\n",
       "      <td>2021-06-21</td>\n",
       "      <td>7633.138356</td>\n",
       "      <td>16309.580899</td>\n",
       "      <td>12224.873388</td>\n",
       "      <td>1020253</td>\n",
       "      <td>Cerdo</td>\n",
       "    </tr>\n",
       "    <tr>\n",
       "      <th>2</th>\n",
       "      <td>2021-06-22</td>\n",
       "      <td>9516.790383</td>\n",
       "      <td>19117.826392</td>\n",
       "      <td>14364.864922</td>\n",
       "      <td>1020253</td>\n",
       "      <td>Cerdo</td>\n",
       "    </tr>\n",
       "    <tr>\n",
       "      <th>3</th>\n",
       "      <td>2021-06-23</td>\n",
       "      <td>11424.328556</td>\n",
       "      <td>20509.775182</td>\n",
       "      <td>16022.700603</td>\n",
       "      <td>1020253</td>\n",
       "      <td>Cerdo</td>\n",
       "    </tr>\n",
       "    <tr>\n",
       "      <th>4</th>\n",
       "      <td>2021-06-24</td>\n",
       "      <td>12508.209958</td>\n",
       "      <td>21224.503598</td>\n",
       "      <td>17075.995755</td>\n",
       "      <td>1020253</td>\n",
       "      <td>Cerdo</td>\n",
       "    </tr>\n",
       "    <tr>\n",
       "      <th>...</th>\n",
       "      <td>...</td>\n",
       "      <td>...</td>\n",
       "      <td>...</td>\n",
       "      <td>...</td>\n",
       "      <td>...</td>\n",
       "      <td>...</td>\n",
       "    </tr>\n",
       "    <tr>\n",
       "      <th>2</th>\n",
       "      <td>2021-06-22</td>\n",
       "      <td>19916.534656</td>\n",
       "      <td>41183.613741</td>\n",
       "      <td>30900.427997</td>\n",
       "      <td>1010002</td>\n",
       "      <td>Pollo</td>\n",
       "    </tr>\n",
       "    <tr>\n",
       "      <th>3</th>\n",
       "      <td>2021-06-23</td>\n",
       "      <td>23207.144444</td>\n",
       "      <td>46551.943743</td>\n",
       "      <td>34832.350635</td>\n",
       "      <td>1010002</td>\n",
       "      <td>Pollo</td>\n",
       "    </tr>\n",
       "    <tr>\n",
       "      <th>4</th>\n",
       "      <td>2021-06-24</td>\n",
       "      <td>29960.800025</td>\n",
       "      <td>52660.280144</td>\n",
       "      <td>41054.511996</td>\n",
       "      <td>1010002</td>\n",
       "      <td>Pollo</td>\n",
       "    </tr>\n",
       "    <tr>\n",
       "      <th>5</th>\n",
       "      <td>2021-06-25</td>\n",
       "      <td>38109.743033</td>\n",
       "      <td>60318.639678</td>\n",
       "      <td>49711.708432</td>\n",
       "      <td>1010002</td>\n",
       "      <td>Pollo</td>\n",
       "    </tr>\n",
       "    <tr>\n",
       "      <th>6</th>\n",
       "      <td>2021-06-26</td>\n",
       "      <td>27371.547184</td>\n",
       "      <td>48197.564635</td>\n",
       "      <td>37763.361164</td>\n",
       "      <td>1010002</td>\n",
       "      <td>Pollo</td>\n",
       "    </tr>\n",
       "  </tbody>\n",
       "</table>\n",
       "<p>91 rows × 6 columns</p>\n",
       "</div>"
      ],
      "text/plain": [
       "   Día natural  Predicción Inferior  Predicción Superior  Predicción central  \\\n",
       "0   2021-06-20          3314.992677         12980.866924         8160.149693   \n",
       "1   2021-06-21          7633.138356         16309.580899        12224.873388   \n",
       "2   2021-06-22          9516.790383         19117.826392        14364.864922   \n",
       "3   2021-06-23         11424.328556         20509.775182        16022.700603   \n",
       "4   2021-06-24         12508.209958         21224.503598        17075.995755   \n",
       "..         ...                  ...                  ...                 ...   \n",
       "2   2021-06-22         19916.534656         41183.613741        30900.427997   \n",
       "3   2021-06-23         23207.144444         46551.943743        34832.350635   \n",
       "4   2021-06-24         29960.800025         52660.280144        41054.511996   \n",
       "5   2021-06-25         38109.743033         60318.639678        49711.708432   \n",
       "6   2021-06-26         27371.547184         48197.564635        37763.361164   \n",
       "\n",
       "   Material Sector  \n",
       "0   1020253  Cerdo  \n",
       "1   1020253  Cerdo  \n",
       "2   1020253  Cerdo  \n",
       "3   1020253  Cerdo  \n",
       "4   1020253  Cerdo  \n",
       "..      ...    ...  \n",
       "2   1010002  Pollo  \n",
       "3   1010002  Pollo  \n",
       "4   1010002  Pollo  \n",
       "5   1010002  Pollo  \n",
       "6   1010002  Pollo  \n",
       "\n",
       "[91 rows x 6 columns]"
      ]
     },
     "execution_count": 44,
     "metadata": {},
     "output_type": "execute_result"
    }
   ],
   "source": [
    "df3[df3['Día natural'] >= datetime.date(2021, 6, 22)]\n",
    "df3[df3['Día natural'] <= datetime.date(2021, 6, 26)]"
   ]
  },
  {
   "cell_type": "markdown",
   "id": "9dd368d8",
   "metadata": {
    "heading_collapsed": true
   },
   "source": [
    "#### Group by"
   ]
  },
  {
   "cell_type": "code",
   "execution_count": 25,
   "id": "56720ef4",
   "metadata": {
    "hidden": true
   },
   "outputs": [
    {
     "data": {
      "text/html": [
       "<div>\n",
       "<style scoped>\n",
       "    .dataframe tbody tr th:only-of-type {\n",
       "        vertical-align: middle;\n",
       "    }\n",
       "\n",
       "    .dataframe tbody tr th {\n",
       "        vertical-align: top;\n",
       "    }\n",
       "\n",
       "    .dataframe thead th {\n",
       "        text-align: right;\n",
       "    }\n",
       "</style>\n",
       "<table border=\"1\" class=\"dataframe\">\n",
       "  <thead>\n",
       "    <tr style=\"text-align: right;\">\n",
       "      <th></th>\n",
       "      <th></th>\n",
       "      <th>Predicción Inferior</th>\n",
       "      <th>Predicción Superior</th>\n",
       "      <th>Predicción central</th>\n",
       "    </tr>\n",
       "    <tr>\n",
       "      <th>Material</th>\n",
       "      <th>Sector</th>\n",
       "      <th></th>\n",
       "      <th></th>\n",
       "      <th></th>\n",
       "    </tr>\n",
       "  </thead>\n",
       "  <tbody>\n",
       "    <tr>\n",
       "      <th>1010002</th>\n",
       "      <th>Pollo</th>\n",
       "      <td>84818.162271</td>\n",
       "      <td>2.607600e+05</td>\n",
       "      <td>173854.359913</td>\n",
       "    </tr>\n",
       "    <tr>\n",
       "      <th>1010048</th>\n",
       "      <th>Pollo</th>\n",
       "      <td>33290.964800</td>\n",
       "      <td>3.602771e+05</td>\n",
       "      <td>196939.927339</td>\n",
       "    </tr>\n",
       "    <tr>\n",
       "      <th>1010077</th>\n",
       "      <th>Pollo</th>\n",
       "      <td>11650.815669</td>\n",
       "      <td>5.984597e+04</td>\n",
       "      <td>36042.905637</td>\n",
       "    </tr>\n",
       "    <tr>\n",
       "      <th>1010078</th>\n",
       "      <th>Pollo</th>\n",
       "      <td>668575.656901</td>\n",
       "      <td>1.212335e+06</td>\n",
       "      <td>939917.733762</td>\n",
       "    </tr>\n",
       "    <tr>\n",
       "      <th>1010267</th>\n",
       "      <th>Pollo</th>\n",
       "      <td>149571.619144</td>\n",
       "      <td>3.881611e+05</td>\n",
       "      <td>267047.687966</td>\n",
       "    </tr>\n",
       "    <tr>\n",
       "      <th>1010695</th>\n",
       "      <th>Pollo</th>\n",
       "      <td>7389.255280</td>\n",
       "      <td>1.560197e+05</td>\n",
       "      <td>82107.662351</td>\n",
       "    </tr>\n",
       "    <tr>\n",
       "      <th>1020001</th>\n",
       "      <th>Cerdo</th>\n",
       "      <td>57496.199370</td>\n",
       "      <td>1.360212e+05</td>\n",
       "      <td>96515.554877</td>\n",
       "    </tr>\n",
       "    <tr>\n",
       "      <th>1020003</th>\n",
       "      <th>Cerdo</th>\n",
       "      <td>3896.554147</td>\n",
       "      <td>8.699460e+04</td>\n",
       "      <td>44989.481031</td>\n",
       "    </tr>\n",
       "    <tr>\n",
       "      <th>1020010</th>\n",
       "      <th>Cerdo</th>\n",
       "      <td>160097.767415</td>\n",
       "      <td>2.906070e+05</td>\n",
       "      <td>226217.445300</td>\n",
       "    </tr>\n",
       "    <tr>\n",
       "      <th>1020013</th>\n",
       "      <th>Cerdo</th>\n",
       "      <td>202025.647473</td>\n",
       "      <td>4.489770e+05</td>\n",
       "      <td>326306.479471</td>\n",
       "    </tr>\n",
       "    <tr>\n",
       "      <th>1020027</th>\n",
       "      <th>Cerdo</th>\n",
       "      <td>83041.146615</td>\n",
       "      <td>1.801540e+05</td>\n",
       "      <td>131339.651254</td>\n",
       "    </tr>\n",
       "    <tr>\n",
       "      <th>1020042</th>\n",
       "      <th>Cerdo</th>\n",
       "      <td>9986.358323</td>\n",
       "      <td>4.942560e+04</td>\n",
       "      <td>29308.284228</td>\n",
       "    </tr>\n",
       "    <tr>\n",
       "      <th>1020253</th>\n",
       "      <th>Cerdo</th>\n",
       "      <td>67568.428644</td>\n",
       "      <td>1.392741e+05</td>\n",
       "      <td>103941.051548</td>\n",
       "    </tr>\n",
       "  </tbody>\n",
       "</table>\n",
       "</div>"
      ],
      "text/plain": [
       "                 Predicción Inferior  Predicción Superior  Predicción central\n",
       "Material Sector                                                              \n",
       "1010002  Pollo          84818.162271         2.607600e+05       173854.359913\n",
       "1010048  Pollo          33290.964800         3.602771e+05       196939.927339\n",
       "1010077  Pollo          11650.815669         5.984597e+04        36042.905637\n",
       "1010078  Pollo         668575.656901         1.212335e+06       939917.733762\n",
       "1010267  Pollo         149571.619144         3.881611e+05       267047.687966\n",
       "1010695  Pollo           7389.255280         1.560197e+05        82107.662351\n",
       "1020001  Cerdo          57496.199370         1.360212e+05        96515.554877\n",
       "1020003  Cerdo           3896.554147         8.699460e+04        44989.481031\n",
       "1020010  Cerdo         160097.767415         2.906070e+05       226217.445300\n",
       "1020013  Cerdo         202025.647473         4.489770e+05       326306.479471\n",
       "1020027  Cerdo          83041.146615         1.801540e+05       131339.651254\n",
       "1020042  Cerdo           9986.358323         4.942560e+04        29308.284228\n",
       "1020253  Cerdo          67568.428644         1.392741e+05       103941.051548"
      ]
     },
     "execution_count": 25,
     "metadata": {},
     "output_type": "execute_result"
    }
   ],
   "source": [
    "df2.groupby(['Material','Sector']).sum()"
   ]
  },
  {
   "cell_type": "markdown",
   "id": "ed3cc676",
   "metadata": {},
   "source": [
    "## Predicción POR CANAL EN todo chile"
   ]
  },
  {
   "cell_type": "code",
   "execution_count": 50,
   "id": "1110c190",
   "metadata": {
    "scrolled": true
   },
   "outputs": [
    {
     "data": {
      "text/plain": [
       "Index(['Sector', 'Material', 'Tipo de cliente', 'Zona de ventas',\n",
       "       'Zona de ventas.1', 'Oficina de Ventas Unifica',\n",
       "       'Oficina de Ventas Unifica.1', 'Mes', 'Año natural/Semana',\n",
       "       'Día natural', 'Día de la semana', 'Kilos Venta KG', 'Venta Neta',\n",
       "       'Precio Promedio', 'Unidad Venta', 'Unidad Precio', 'Semana', 'Año'],\n",
       "      dtype='object')"
      ]
     },
     "execution_count": 50,
     "metadata": {},
     "output_type": "execute_result"
    }
   ],
   "source": [
    "data.columns"
   ]
  },
  {
   "cell_type": "code",
   "execution_count": 78,
   "id": "c07ab861",
   "metadata": {
    "scrolled": true
   },
   "outputs": [
    {
     "name": "stderr",
     "output_type": "stream",
     "text": [
      "INFO:fbprophet:Disabling daily seasonality. Run prophet with daily_seasonality=True to override this.\n",
      "INFO:fbprophet:Disabling daily seasonality. Run prophet with daily_seasonality=True to override this.\n"
     ]
    },
    {
     "name": "stdout",
     "output_type": "stream",
     "text": [
      "El producto  1020253  demoró 4.204612493515015  en el canal  Tradicional\n",
      "tiempo que lleva corriendo 0.03749889135360718 Min\n"
     ]
    },
    {
     "name": "stderr",
     "output_type": "stream",
     "text": [
      "INFO:fbprophet:Disabling daily seasonality. Run prophet with daily_seasonality=True to override this.\n"
     ]
    },
    {
     "name": "stdout",
     "output_type": "stream",
     "text": [
      "El producto  1020042  demoró 6.1988255977630615  en el canal  Tradicional\n",
      "tiempo que lleva corriendo 0.07074410915374756 Min\n"
     ]
    },
    {
     "name": "stderr",
     "output_type": "stream",
     "text": [
      "INFO:fbprophet:Disabling daily seasonality. Run prophet with daily_seasonality=True to override this.\n"
     ]
    },
    {
     "name": "stdout",
     "output_type": "stream",
     "text": [
      "El producto  1020027  demoró 8.203047037124634  en el canal  Tradicional\n",
      "tiempo que lleva corriendo 0.10415614446004232 Min\n"
     ]
    },
    {
     "name": "stderr",
     "output_type": "stream",
     "text": [
      "INFO:fbprophet:Disabling daily seasonality. Run prophet with daily_seasonality=True to override this.\n"
     ]
    },
    {
     "name": "stdout",
     "output_type": "stream",
     "text": [
      "El producto  1020013  demoró 10.15672516822815  en el canal  Tradicional\n",
      "tiempo que lleva corriendo 0.13670910199483235 Min\n"
     ]
    },
    {
     "name": "stderr",
     "output_type": "stream",
     "text": [
      "INFO:fbprophet:Disabling daily seasonality. Run prophet with daily_seasonality=True to override this.\n"
     ]
    },
    {
     "name": "stdout",
     "output_type": "stream",
     "text": [
      "El producto  1020010  demoró 12.64136004447937  en el canal  Tradicional\n",
      "tiempo que lleva corriendo 0.17810299396514892 Min\n"
     ]
    },
    {
     "name": "stderr",
     "output_type": "stream",
     "text": [
      "INFO:fbprophet:Disabling daily seasonality. Run prophet with daily_seasonality=True to override this.\n"
     ]
    },
    {
     "name": "stdout",
     "output_type": "stream",
     "text": [
      "El producto  1020003  demoró 14.51496934890747  en el canal  Tradicional\n",
      "tiempo que lleva corriendo 0.20934650500615437 Min\n"
     ]
    },
    {
     "name": "stderr",
     "output_type": "stream",
     "text": [
      "INFO:fbprophet:Disabling daily seasonality. Run prophet with daily_seasonality=True to override this.\n"
     ]
    },
    {
     "name": "stdout",
     "output_type": "stream",
     "text": [
      "El producto  1020001  demoró 16.633789539337158  en el canal  Tradicional\n",
      "tiempo que lleva corriendo 0.24466017484664918 Min\n"
     ]
    },
    {
     "name": "stderr",
     "output_type": "stream",
     "text": [
      "INFO:fbprophet:Disabling daily seasonality. Run prophet with daily_seasonality=True to override this.\n"
     ]
    },
    {
     "name": "stdout",
     "output_type": "stream",
     "text": [
      "El producto  1010695  demoró 18.944774627685547  en el canal  Tradicional\n",
      "tiempo que lleva corriendo 0.2831682483355204 Min\n"
     ]
    },
    {
     "name": "stderr",
     "output_type": "stream",
     "text": [
      "INFO:fbprophet:Disabling daily seasonality. Run prophet with daily_seasonality=True to override this.\n"
     ]
    },
    {
     "name": "stdout",
     "output_type": "stream",
     "text": [
      "El producto  1010267  demoró 21.15317177772522  en el canal  Tradicional\n",
      "tiempo que lleva corriendo 0.3199665307998657 Min\n"
     ]
    },
    {
     "name": "stderr",
     "output_type": "stream",
     "text": [
      "INFO:fbprophet:Disabling daily seasonality. Run prophet with daily_seasonality=True to override this.\n"
     ]
    },
    {
     "name": "stdout",
     "output_type": "stream",
     "text": [
      "El producto  1010078  demoró 22.986746788024902  en el canal  Tradicional\n",
      "tiempo que lleva corriendo 0.35053445895512897 Min\n"
     ]
    },
    {
     "name": "stderr",
     "output_type": "stream",
     "text": [
      "INFO:fbprophet:Disabling daily seasonality. Run prophet with daily_seasonality=True to override this.\n"
     ]
    },
    {
     "name": "stdout",
     "output_type": "stream",
     "text": [
      "El producto  1010077  demoró 24.790796279907227  en el canal  Tradicional\n",
      "tiempo que lleva corriendo 0.38061028718948364 Min\n"
     ]
    },
    {
     "name": "stderr",
     "output_type": "stream",
     "text": [
      "INFO:fbprophet:Disabling daily seasonality. Run prophet with daily_seasonality=True to override this.\n"
     ]
    },
    {
     "name": "stdout",
     "output_type": "stream",
     "text": [
      "El producto  1010048  demoró 26.599350929260254  en el canal  Tradicional\n",
      "tiempo que lleva corriendo 0.4107528487841288 Min\n"
     ]
    },
    {
     "name": "stderr",
     "output_type": "stream",
     "text": [
      "INFO:fbprophet:Disabling daily seasonality. Run prophet with daily_seasonality=True to override this.\n"
     ]
    },
    {
     "name": "stdout",
     "output_type": "stream",
     "text": [
      "El producto  1010002  demoró 28.40790343284607  en el canal  Tradicional\n",
      "tiempo que lleva corriendo 0.44088706572850545 Min\n"
     ]
    },
    {
     "name": "stderr",
     "output_type": "stream",
     "text": [
      "INFO:fbprophet:Disabling daily seasonality. Run prophet with daily_seasonality=True to override this.\n"
     ]
    },
    {
     "name": "stdout",
     "output_type": "stream",
     "text": [
      "El producto  1020253  demoró 30.299529314041138  en el canal  Industriales\n",
      "tiempo que lleva corriendo 0.4724224925041199 Min\n"
     ]
    },
    {
     "name": "stderr",
     "output_type": "stream",
     "text": [
      "INFO:fbprophet:Disabling daily seasonality. Run prophet with daily_seasonality=True to override this.\n"
     ]
    },
    {
     "name": "stdout",
     "output_type": "stream",
     "text": [
      "El producto  1020042  demoró 32.01800465583801  en el canal  Industriales\n",
      "tiempo que lleva corriendo 0.5010554114977519 Min\n"
     ]
    },
    {
     "name": "stderr",
     "output_type": "stream",
     "text": [
      "INFO:fbprophet:Disabling daily seasonality. Run prophet with daily_seasonality=True to override this.\n"
     ]
    },
    {
     "name": "stdout",
     "output_type": "stream",
     "text": [
      "El producto  1020027  demoró 33.783020973205566  en el canal  Industriales\n",
      "tiempo que lleva corriendo 0.5304723501205444 Min\n"
     ]
    },
    {
     "name": "stderr",
     "output_type": "stream",
     "text": [
      "INFO:fbprophet:Disabling daily seasonality. Run prophet with daily_seasonality=True to override this.\n"
     ]
    },
    {
     "name": "stdout",
     "output_type": "stream",
     "text": [
      "El producto  1020013  demoró 36.41127920150757  en el canal  Industriales\n",
      "tiempo que lleva corriendo 0.5742683092753093 Min\n"
     ]
    },
    {
     "name": "stderr",
     "output_type": "stream",
     "text": [
      "INFO:fbprophet:Disabling daily seasonality. Run prophet with daily_seasonality=True to override this.\n"
     ]
    },
    {
     "name": "stdout",
     "output_type": "stream",
     "text": [
      "El producto  1020010  demoró 38.242851972579956  en el canal  Industriales\n",
      "tiempo que lleva corriendo 0.6048112233479818 Min\n"
     ]
    },
    {
     "name": "stderr",
     "output_type": "stream",
     "text": [
      "INFO:fbprophet:Disabling daily seasonality. Run prophet with daily_seasonality=True to override this.\n"
     ]
    },
    {
     "name": "stdout",
     "output_type": "stream",
     "text": [
      "El producto  1020003  demoró 40.658427715301514  en el canal  Industriales\n",
      "tiempo que lleva corriendo 0.6450624545415242 Min\n"
     ]
    },
    {
     "name": "stderr",
     "output_type": "stream",
     "text": [
      "INFO:fbprophet:Disabling daily seasonality. Run prophet with daily_seasonality=True to override this.\n"
     ]
    },
    {
     "name": "stdout",
     "output_type": "stream",
     "text": [
      "El producto  1020001  demoró 42.335368156433105  en el canal  Industriales\n",
      "tiempo que lleva corriendo 0.673019802570343 Min\n"
     ]
    },
    {
     "name": "stderr",
     "output_type": "stream",
     "text": [
      "INFO:fbprophet:Disabling daily seasonality. Run prophet with daily_seasonality=True to override this.\n"
     ]
    },
    {
     "name": "stdout",
     "output_type": "stream",
     "text": [
      "El producto  1010695  demoró 43.92022943496704  en el canal  Industriales\n",
      "tiempo que lleva corriendo 0.6994258205095927 Min\n"
     ]
    },
    {
     "name": "stderr",
     "output_type": "stream",
     "text": [
      "INFO:fbprophet:Disabling daily seasonality. Run prophet with daily_seasonality=True to override this.\n"
     ]
    },
    {
     "name": "stdout",
     "output_type": "stream",
     "text": [
      "El producto  1010267  demoró 45.78082728385925  en el canal  Industriales\n",
      "tiempo que lleva corriendo 0.7304358005523681 Min\n"
     ]
    },
    {
     "name": "stderr",
     "output_type": "stream",
     "text": [
      "INFO:fbprophet:Disabling daily seasonality. Run prophet with daily_seasonality=True to override this.\n"
     ]
    },
    {
     "name": "stdout",
     "output_type": "stream",
     "text": [
      "El producto  1010078  demoró 47.64092516899109  en el canal  Industriales\n",
      "tiempo que lleva corriendo 0.7614290873209636 Min\n"
     ]
    },
    {
     "name": "stderr",
     "output_type": "stream",
     "text": [
      "INFO:fbprophet:Disabling daily seasonality. Run prophet with daily_seasonality=True to override this.\n"
     ]
    },
    {
     "name": "stdout",
     "output_type": "stream",
     "text": [
      "El producto  1010077  demoró 49.26782298088074  en el canal  Industriales\n",
      "tiempo que lleva corriendo 0.7885607242584228 Min\n"
     ]
    },
    {
     "name": "stderr",
     "output_type": "stream",
     "text": [
      "INFO:fbprophet:Disabling daily seasonality. Run prophet with daily_seasonality=True to override this.\n"
     ]
    },
    {
     "name": "stdout",
     "output_type": "stream",
     "text": [
      "El producto  1010048  demoró 50.995306730270386  en el canal  Industriales\n",
      "tiempo que lleva corriendo 0.8173437794049581 Min\n",
      "El producto  1010002  demoró 52.72979664802551  en el canal  Industriales\n",
      "tiempo que lleva corriendo 0.8462436199188232 Min\n"
     ]
    },
    {
     "name": "stderr",
     "output_type": "stream",
     "text": [
      "INFO:fbprophet:Disabling daily seasonality. Run prophet with daily_seasonality=True to override this.\n",
      "INFO:fbprophet:Disabling daily seasonality. Run prophet with daily_seasonality=True to override this.\n"
     ]
    },
    {
     "name": "stdout",
     "output_type": "stream",
     "text": [
      "El producto  1020253  demoró 54.54235363006592  en el canal  Grandes Clientes\n",
      "tiempo que lleva corriendo 0.8764612317085266 Min\n"
     ]
    },
    {
     "name": "stderr",
     "output_type": "stream",
     "text": [
      "INFO:fbprophet:Disabling daily seasonality. Run prophet with daily_seasonality=True to override this.\n"
     ]
    },
    {
     "name": "stdout",
     "output_type": "stream",
     "text": [
      "El producto  1020042  demoró 56.422969341278076  en el canal  Grandes Clientes\n",
      "tiempo que lleva corriendo 0.9078048229217529 Min\n"
     ]
    },
    {
     "name": "stderr",
     "output_type": "stream",
     "text": [
      "INFO:fbprophet:Disabling daily seasonality. Run prophet with daily_seasonality=True to override this.\n"
     ]
    },
    {
     "name": "stdout",
     "output_type": "stream",
     "text": [
      "El producto  1020027  demoró 58.469226598739624  en el canal  Grandes Clientes\n",
      "tiempo que lleva corriendo 0.9419007897377014 Min\n"
     ]
    },
    {
     "name": "stderr",
     "output_type": "stream",
     "text": [
      "INFO:fbprophet:Disabling daily seasonality. Run prophet with daily_seasonality=True to override this.\n"
     ]
    },
    {
     "name": "stdout",
     "output_type": "stream",
     "text": [
      "El producto  1020013  demoró 60.34483814239502  en el canal  Grandes Clientes\n",
      "tiempo que lleva corriendo 0.9731693029403686 Min\n"
     ]
    },
    {
     "name": "stderr",
     "output_type": "stream",
     "text": [
      "INFO:fbprophet:Disabling daily seasonality. Run prophet with daily_seasonality=True to override this.\n"
     ]
    },
    {
     "name": "stdout",
     "output_type": "stream",
     "text": [
      "El producto  1020010  demoró 62.41761875152588  en el canal  Grandes Clientes\n",
      "tiempo que lleva corriendo 1.0077239910761515 Min\n"
     ]
    },
    {
     "name": "stderr",
     "output_type": "stream",
     "text": [
      "INFO:fbprophet:Disabling daily seasonality. Run prophet with daily_seasonality=True to override this.\n"
     ]
    },
    {
     "name": "stdout",
     "output_type": "stream",
     "text": [
      "El producto  1020003  demoró 64.38480877876282  en el canal  Grandes Clientes\n",
      "tiempo que lleva corriendo 1.0405104915301004 Min\n"
     ]
    },
    {
     "name": "stderr",
     "output_type": "stream",
     "text": [
      "INFO:fbprophet:Disabling daily seasonality. Run prophet with daily_seasonality=True to override this.\n"
     ]
    },
    {
     "name": "stdout",
     "output_type": "stream",
     "text": [
      "El producto  1020001  demoró 66.32747745513916  en el canal  Grandes Clientes\n",
      "tiempo que lleva corriendo 1.072879962126414 Min\n"
     ]
    },
    {
     "name": "stderr",
     "output_type": "stream",
     "text": [
      "INFO:fbprophet:Disabling daily seasonality. Run prophet with daily_seasonality=True to override this.\n"
     ]
    },
    {
     "name": "stdout",
     "output_type": "stream",
     "text": [
      "El producto  1010695  demoró 71.85522627830505  en el canal  Grandes Clientes\n",
      "tiempo que lleva corriendo 1.1650090972582499 Min\n"
     ]
    },
    {
     "name": "stderr",
     "output_type": "stream",
     "text": [
      "INFO:fbprophet:Disabling daily seasonality. Run prophet with daily_seasonality=True to override this.\n"
     ]
    },
    {
     "name": "stdout",
     "output_type": "stream",
     "text": [
      "El producto  1010267  demoró 73.88496994972229  en el canal  Grandes Clientes\n",
      "tiempo que lleva corriendo 1.1988465070724488 Min\n"
     ]
    },
    {
     "name": "stderr",
     "output_type": "stream",
     "text": [
      "INFO:fbprophet:Disabling daily seasonality. Run prophet with daily_seasonality=True to override this.\n"
     ]
    },
    {
     "name": "stdout",
     "output_type": "stream",
     "text": [
      "El producto  1010078  demoró 75.97576546669006  en el canal  Grandes Clientes\n",
      "tiempo que lleva corriendo 1.2336931029955547 Min\n"
     ]
    },
    {
     "name": "stderr",
     "output_type": "stream",
     "text": [
      "INFO:fbprophet:Disabling daily seasonality. Run prophet with daily_seasonality=True to override this.\n"
     ]
    },
    {
     "name": "stdout",
     "output_type": "stream",
     "text": [
      "El producto  1010077  demoró 77.51558804512024  en el canal  Grandes Clientes\n",
      "tiempo que lleva corriendo 1.259348471959432 Min\n"
     ]
    },
    {
     "name": "stderr",
     "output_type": "stream",
     "text": [
      "INFO:fbprophet:Disabling daily seasonality. Run prophet with daily_seasonality=True to override this.\n"
     ]
    },
    {
     "name": "stdout",
     "output_type": "stream",
     "text": [
      "El producto  1010048  demoró 79.54182887077332  en el canal  Grandes Clientes\n",
      "tiempo que lleva corriendo 1.2931108077367146 Min\n",
      "El producto  1010002  demoró 81.3668966293335  en el canal  Grandes Clientes\n",
      "tiempo que lleva corriendo 1.3235369443893432 Min\n"
     ]
    },
    {
     "name": "stderr",
     "output_type": "stream",
     "text": [
      "INFO:fbprophet:Disabling daily seasonality. Run prophet with daily_seasonality=True to override this.\n",
      "INFO:fbprophet:Disabling daily seasonality. Run prophet with daily_seasonality=True to override this.\n"
     ]
    },
    {
     "name": "stdout",
     "output_type": "stream",
     "text": [
      "El producto  1020253  demoró 83.41265368461609  en el canal  Foodservice\n",
      "tiempo que lleva corriendo 1.3576245784759522 Min\n"
     ]
    },
    {
     "name": "stderr",
     "output_type": "stream",
     "text": [
      "INFO:fbprophet:Disabling daily seasonality. Run prophet with daily_seasonality=True to override this.\n"
     ]
    },
    {
     "name": "stdout",
     "output_type": "stream",
     "text": [
      "El producto  1020042  demoró 85.07608318328857  en el canal  Foodservice\n",
      "tiempo que lleva corriendo 1.3853400468826294 Min\n"
     ]
    },
    {
     "name": "stderr",
     "output_type": "stream",
     "text": [
      "INFO:fbprophet:Disabling daily seasonality. Run prophet with daily_seasonality=True to override this.\n"
     ]
    },
    {
     "name": "stdout",
     "output_type": "stream",
     "text": [
      "El producto  1020027  demoró 86.8971471786499  en el canal  Foodservice\n",
      "tiempo que lleva corriendo 1.4157161355018615 Min\n"
     ]
    },
    {
     "name": "stderr",
     "output_type": "stream",
     "text": [
      "INFO:fbprophet:Disabling daily seasonality. Run prophet with daily_seasonality=True to override this.\n"
     ]
    },
    {
     "name": "stdout",
     "output_type": "stream",
     "text": [
      "El producto  1020013  demoró 88.71871304512024  en el canal  Foodservice\n",
      "tiempo que lleva corriendo 1.446067210038503 Min\n"
     ]
    },
    {
     "name": "stderr",
     "output_type": "stream",
     "text": [
      "INFO:fbprophet:Disabling daily seasonality. Run prophet with daily_seasonality=True to override this.\n"
     ]
    },
    {
     "name": "stdout",
     "output_type": "stream",
     "text": [
      "El producto  1020010  demoró 90.74645400047302  en el canal  Foodservice\n",
      "tiempo que lleva corriendo 1.479862896601359 Min\n"
     ]
    },
    {
     "name": "stderr",
     "output_type": "stream",
     "text": [
      "INFO:fbprophet:Disabling daily seasonality. Run prophet with daily_seasonality=True to override this.\n"
     ]
    },
    {
     "name": "stdout",
     "output_type": "stream",
     "text": [
      "El producto  1020003  demoró 93.53334784507751  en el canal  Foodservice\n",
      "tiempo que lleva corriendo 1.5263027946154277 Min\n"
     ]
    },
    {
     "name": "stderr",
     "output_type": "stream",
     "text": [
      "INFO:fbprophet:Disabling daily seasonality. Run prophet with daily_seasonality=True to override this.\n"
     ]
    },
    {
     "name": "stdout",
     "output_type": "stream",
     "text": [
      "El producto  1020001  demoró 95.3789336681366  en el canal  Foodservice\n",
      "tiempo que lleva corriendo 1.557062550385793 Min\n"
     ]
    },
    {
     "name": "stderr",
     "output_type": "stream",
     "text": [
      "INFO:fbprophet:Disabling daily seasonality. Run prophet with daily_seasonality=True to override this.\n"
     ]
    },
    {
     "name": "stdout",
     "output_type": "stream",
     "text": [
      "El producto  1010695  demoró 97.48324060440063  en el canal  Foodservice\n",
      "tiempo que lleva corriendo 1.5921343406041464 Min\n"
     ]
    },
    {
     "name": "stderr",
     "output_type": "stream",
     "text": [
      "INFO:fbprophet:Disabling daily seasonality. Run prophet with daily_seasonality=True to override this.\n"
     ]
    },
    {
     "name": "stdout",
     "output_type": "stream",
     "text": [
      "El producto  1010267  demoró 99.47144937515259  en el canal  Foodservice\n",
      "tiempo que lleva corriendo 1.6252794822057088 Min\n"
     ]
    },
    {
     "name": "stderr",
     "output_type": "stream",
     "text": [
      "INFO:fbprophet:Disabling daily seasonality. Run prophet with daily_seasonality=True to override this.\n"
     ]
    },
    {
     "name": "stdout",
     "output_type": "stream",
     "text": [
      "El producto  1010078  demoró 101.74289989471436  en el canal  Foodservice\n",
      "tiempo que lleva corriendo 1.6631369988123577 Min\n"
     ]
    },
    {
     "name": "stderr",
     "output_type": "stream",
     "text": [
      "INFO:fbprophet:Disabling daily seasonality. Run prophet with daily_seasonality=True to override this.\n"
     ]
    },
    {
     "name": "stdout",
     "output_type": "stream",
     "text": [
      "El producto  1010077  demoró 103.83920073509216  en el canal  Foodservice\n",
      "tiempo que lleva corriendo 1.6980836868286133 Min\n"
     ]
    },
    {
     "name": "stderr",
     "output_type": "stream",
     "text": [
      "INFO:fbprophet:Disabling daily seasonality. Run prophet with daily_seasonality=True to override this.\n"
     ]
    },
    {
     "name": "stdout",
     "output_type": "stream",
     "text": [
      "El producto  1010048  demoró 105.88545870780945  en el canal  Foodservice\n",
      "tiempo que lleva corriendo 1.7321796536445617 Min\n",
      "El producto  1010002  demoró 108.00077557563782  en el canal  Foodservice\n",
      "tiempo que lleva corriendo 1.7674432794253032 Min\n"
     ]
    },
    {
     "data": {
      "text/html": [
       "<div>\n",
       "<style scoped>\n",
       "    .dataframe tbody tr th:only-of-type {\n",
       "        vertical-align: middle;\n",
       "    }\n",
       "\n",
       "    .dataframe tbody tr th {\n",
       "        vertical-align: top;\n",
       "    }\n",
       "\n",
       "    .dataframe thead th {\n",
       "        text-align: right;\n",
       "    }\n",
       "</style>\n",
       "<table border=\"1\" class=\"dataframe\">\n",
       "  <thead>\n",
       "    <tr style=\"text-align: right;\">\n",
       "      <th></th>\n",
       "      <th>ds</th>\n",
       "      <th>yhat_lower</th>\n",
       "      <th>yhat_upper</th>\n",
       "      <th>yhat</th>\n",
       "      <th>Material</th>\n",
       "      <th>Sector</th>\n",
       "      <th>Tipo de cliente</th>\n",
       "    </tr>\n",
       "  </thead>\n",
       "  <tbody>\n",
       "    <tr>\n",
       "      <th>0</th>\n",
       "      <td>2021-06-20</td>\n",
       "      <td>1572.429253</td>\n",
       "      <td>8681.097716</td>\n",
       "      <td>5060.062213</td>\n",
       "      <td>1020253</td>\n",
       "      <td>Cerdo</td>\n",
       "      <td>Tradicional</td>\n",
       "    </tr>\n",
       "    <tr>\n",
       "      <th>1</th>\n",
       "      <td>2021-06-21</td>\n",
       "      <td>4625.068133</td>\n",
       "      <td>11938.880085</td>\n",
       "      <td>8248.344089</td>\n",
       "      <td>1020253</td>\n",
       "      <td>Cerdo</td>\n",
       "      <td>Tradicional</td>\n",
       "    </tr>\n",
       "    <tr>\n",
       "      <th>2</th>\n",
       "      <td>2021-06-22</td>\n",
       "      <td>5746.537879</td>\n",
       "      <td>13174.138756</td>\n",
       "      <td>9526.953587</td>\n",
       "      <td>1020253</td>\n",
       "      <td>Cerdo</td>\n",
       "      <td>Tradicional</td>\n",
       "    </tr>\n",
       "    <tr>\n",
       "      <th>3</th>\n",
       "      <td>2021-06-23</td>\n",
       "      <td>7224.919738</td>\n",
       "      <td>15009.318313</td>\n",
       "      <td>11208.609111</td>\n",
       "      <td>1020253</td>\n",
       "      <td>Cerdo</td>\n",
       "      <td>Tradicional</td>\n",
       "    </tr>\n",
       "    <tr>\n",
       "      <th>4</th>\n",
       "      <td>2021-06-24</td>\n",
       "      <td>8230.795029</td>\n",
       "      <td>15545.343589</td>\n",
       "      <td>11861.653716</td>\n",
       "      <td>1020253</td>\n",
       "      <td>Cerdo</td>\n",
       "      <td>Tradicional</td>\n",
       "    </tr>\n",
       "  </tbody>\n",
       "</table>\n",
       "</div>"
      ],
      "text/plain": [
       "          ds   yhat_lower    yhat_upper          yhat Material Sector  \\\n",
       "0 2021-06-20  1572.429253   8681.097716   5060.062213  1020253  Cerdo   \n",
       "1 2021-06-21  4625.068133  11938.880085   8248.344089  1020253  Cerdo   \n",
       "2 2021-06-22  5746.537879  13174.138756   9526.953587  1020253  Cerdo   \n",
       "3 2021-06-23  7224.919738  15009.318313  11208.609111  1020253  Cerdo   \n",
       "4 2021-06-24  8230.795029  15545.343589  11861.653716  1020253  Cerdo   \n",
       "\n",
       "  Tipo de cliente  \n",
       "0     Tradicional  \n",
       "1     Tradicional  \n",
       "2     Tradicional  \n",
       "3     Tradicional  \n",
       "4     Tradicional  "
      ]
     },
     "execution_count": 78,
     "metadata": {},
     "output_type": "execute_result"
    }
   ],
   "source": [
    "start_time = time()\n",
    "#inicializa con un Data Frame vacio\n",
    "df3 = pd.DataFrame(columns=['ds', 'yhat_lower', 'yhat_upper', 'yhat',\n",
    "                            'Material'])\n",
    "\n",
    "Listado_de_Canales=data['Tipo de cliente'].unique()\n",
    "\n",
    "for c in Listado_de_Canales:\n",
    "    #m=Listado_de_Materiales[0]\n",
    "    dfc=Df_ubic(data,'Tipo de cliente',c)\n",
    "\n",
    "    #Crear un listado de los materiales disponibles en la data\n",
    "    Listado_de_Materiales=dfc[dfc.Año==2021].Material.unique()     \n",
    "\n",
    "\n",
    "    for m in Listado_de_Materiales:\n",
    "        #m=Listado_de_Materiales[0]\n",
    "        dfm=Df_ubic(dfc,'Material',m).groupby('Día natural').sum().reset_index()[['Día natural',y_col]]\n",
    "\n",
    "        #Realizar predicción\n",
    "        dfmPred=Predict_sem(dfm,14)[['ds', 'yhat_lower', 'yhat_upper', 'yhat']].tail(14)\n",
    "\n",
    "        dfmPred['Material']=[m for i in range(dfmPred.shape[0])]\n",
    "\n",
    "        #Sector del producto(Tipo de carne)\n",
    "        Sec=Df_ubic(data,'Material',m).Sector.unique()[0]\n",
    "        dfmPred['Sector']=[Sec for i in range(dfmPred.shape[0])]\n",
    "        \n",
    "        #Canal de ventas\n",
    "        dfmPred['Tipo de cliente']=[c for i in range(dfmPred.shape[0])]\n",
    "        \n",
    "        dfmPred=dfmPred.reset_index()\n",
    "        dfmPred.pop('index')\n",
    "        df3=pd.concat([df3, dfmPred])\n",
    "        print('El producto ',m,' demoró',(time() - material_time), ' en el canal ',c)\n",
    "        print('tiempo que lleva corriendo',(time() - start_time)/60, 'Min')\n",
    "    \n",
    "df3.head()"
   ]
  },
  {
   "cell_type": "code",
   "execution_count": 79,
   "id": "60272c86",
   "metadata": {},
   "outputs": [],
   "source": [
    "df3.rename(columns = {'ds': 'Día natural', 'yhat': 'Predicción central',\n",
    "                                'yhat_upper': 'Predicción Superior',\n",
    "                                'yhat_lower': 'Predicción Inferior'}, inplace = True)"
   ]
  },
  {
   "cell_type": "code",
   "execution_count": 80,
   "id": "355e171d",
   "metadata": {},
   "outputs": [
    {
     "data": {
      "text/html": [
       "<div>\n",
       "<style scoped>\n",
       "    .dataframe tbody tr th:only-of-type {\n",
       "        vertical-align: middle;\n",
       "    }\n",
       "\n",
       "    .dataframe tbody tr th {\n",
       "        vertical-align: top;\n",
       "    }\n",
       "\n",
       "    .dataframe thead th {\n",
       "        text-align: right;\n",
       "    }\n",
       "</style>\n",
       "<table border=\"1\" class=\"dataframe\">\n",
       "  <thead>\n",
       "    <tr style=\"text-align: right;\">\n",
       "      <th></th>\n",
       "      <th>Día natural</th>\n",
       "      <th>Predicción Inferior</th>\n",
       "      <th>Predicción Superior</th>\n",
       "      <th>Predicción central</th>\n",
       "      <th>Material</th>\n",
       "      <th>Sector</th>\n",
       "      <th>Tipo de cliente</th>\n",
       "    </tr>\n",
       "  </thead>\n",
       "  <tbody>\n",
       "    <tr>\n",
       "      <th>9</th>\n",
       "      <td>2021-06-29</td>\n",
       "      <td>43.452705</td>\n",
       "      <td>2734.170574</td>\n",
       "      <td>1417.913502</td>\n",
       "      <td>1010002</td>\n",
       "      <td>Pollo</td>\n",
       "      <td>Foodservice</td>\n",
       "    </tr>\n",
       "    <tr>\n",
       "      <th>10</th>\n",
       "      <td>2021-06-30</td>\n",
       "      <td>263.757765</td>\n",
       "      <td>3202.486308</td>\n",
       "      <td>1750.689256</td>\n",
       "      <td>1010002</td>\n",
       "      <td>Pollo</td>\n",
       "      <td>Foodservice</td>\n",
       "    </tr>\n",
       "    <tr>\n",
       "      <th>11</th>\n",
       "      <td>2021-07-01</td>\n",
       "      <td>419.734705</td>\n",
       "      <td>3325.666346</td>\n",
       "      <td>1885.689089</td>\n",
       "      <td>1010002</td>\n",
       "      <td>Pollo</td>\n",
       "      <td>Foodservice</td>\n",
       "    </tr>\n",
       "    <tr>\n",
       "      <th>12</th>\n",
       "      <td>2021-07-02</td>\n",
       "      <td>455.832170</td>\n",
       "      <td>3222.746845</td>\n",
       "      <td>1870.276432</td>\n",
       "      <td>1010002</td>\n",
       "      <td>Pollo</td>\n",
       "      <td>Foodservice</td>\n",
       "    </tr>\n",
       "    <tr>\n",
       "      <th>13</th>\n",
       "      <td>2021-07-03</td>\n",
       "      <td>-65.132764</td>\n",
       "      <td>2729.512363</td>\n",
       "      <td>1350.044518</td>\n",
       "      <td>1010002</td>\n",
       "      <td>Pollo</td>\n",
       "      <td>Foodservice</td>\n",
       "    </tr>\n",
       "  </tbody>\n",
       "</table>\n",
       "</div>"
      ],
      "text/plain": [
       "   Día natural  Predicción Inferior  Predicción Superior  Predicción central  \\\n",
       "9   2021-06-29            43.452705          2734.170574         1417.913502   \n",
       "10  2021-06-30           263.757765          3202.486308         1750.689256   \n",
       "11  2021-07-01           419.734705          3325.666346         1885.689089   \n",
       "12  2021-07-02           455.832170          3222.746845         1870.276432   \n",
       "13  2021-07-03           -65.132764          2729.512363         1350.044518   \n",
       "\n",
       "   Material Sector Tipo de cliente  \n",
       "9   1010002  Pollo     Foodservice  \n",
       "10  1010002  Pollo     Foodservice  \n",
       "11  1010002  Pollo     Foodservice  \n",
       "12  1010002  Pollo     Foodservice  \n",
       "13  1010002  Pollo     Foodservice  "
      ]
     },
     "execution_count": 80,
     "metadata": {},
     "output_type": "execute_result"
    }
   ],
   "source": [
    "df3.tail()"
   ]
  },
  {
   "cell_type": "markdown",
   "id": "bf4ccb0f",
   "metadata": {},
   "source": [
    "### CSV SAVE"
   ]
  },
  {
   "cell_type": "code",
   "execution_count": 81,
   "id": "57a92bfb",
   "metadata": {},
   "outputs": [
    {
     "name": "stdout",
     "output_type": "stream",
     "text": [
      "2021-06-19\n",
      "2021-07-03\n"
     ]
    }
   ],
   "source": [
    "min_time=df3['Día natural'].min()\n",
    "min_time=str(min_time).split(' ')[0]\n",
    "print(min_time)\n",
    "max_time=df3['Día natural'].max()\n",
    "max_time=str(max_time).split(' ')[0]\n",
    "print(max_time)"
   ]
  },
  {
   "cell_type": "code",
   "execution_count": 82,
   "id": "64ca4b13",
   "metadata": {
    "scrolled": true
   },
   "outputs": [],
   "source": [
    "df3=Limit_fecha(df3,AÑO,MES,DIA_INIC,DIA_FIN)"
   ]
  },
  {
   "cell_type": "code",
   "execution_count": 83,
   "id": "7e419794",
   "metadata": {},
   "outputs": [
    {
     "name": "stdout",
     "output_type": "stream",
     "text": [
      "2021-06-22\n",
      "2021-06-26\n"
     ]
    }
   ],
   "source": [
    "\n",
    "min_time=df3['Día natural'].min()\n",
    "min_time=str(min_time).split(' ')[0]\n",
    "print(min_time)\n",
    "max_time=df3['Día natural'].max()\n",
    "max_time=str(max_time).split(' ')[0]\n",
    "print(max_time)"
   ]
  },
  {
   "cell_type": "code",
   "execution_count": 84,
   "id": "0b0a823e",
   "metadata": {},
   "outputs": [],
   "source": [
    "#Error_DF_Sum.to_csv('E_interv_Dem.csv', index=False)\n",
    "df3.to_csv('Predicción Todo Chile del '+min_time+' al '+max_time+' Diferenciando por canal.csv', index=False)"
   ]
  },
  {
   "cell_type": "markdown",
   "id": "341314a5",
   "metadata": {
    "heading_collapsed": true
   },
   "source": [
    "### Exploracion "
   ]
  },
  {
   "cell_type": "code",
   "execution_count": 66,
   "id": "71d8f16f",
   "metadata": {
    "hidden": true,
    "scrolled": true
   },
   "outputs": [
    {
     "data": {
      "text/html": [
       "<div>\n",
       "<style scoped>\n",
       "    .dataframe tbody tr th:only-of-type {\n",
       "        vertical-align: middle;\n",
       "    }\n",
       "\n",
       "    .dataframe tbody tr th {\n",
       "        vertical-align: top;\n",
       "    }\n",
       "\n",
       "    .dataframe thead th {\n",
       "        text-align: right;\n",
       "    }\n",
       "</style>\n",
       "<table border=\"1\" class=\"dataframe\">\n",
       "  <thead>\n",
       "    <tr style=\"text-align: right;\">\n",
       "      <th></th>\n",
       "      <th>Sector</th>\n",
       "      <th>Material</th>\n",
       "      <th>Tipo de cliente</th>\n",
       "      <th>Predicción Inferior</th>\n",
       "      <th>Predicción Superior</th>\n",
       "      <th>Predicción central</th>\n",
       "    </tr>\n",
       "  </thead>\n",
       "  <tbody>\n",
       "    <tr>\n",
       "      <th>0</th>\n",
       "      <td>Cerdo</td>\n",
       "      <td>1020001</td>\n",
       "      <td>Foodservice</td>\n",
       "      <td>-384.389437</td>\n",
       "      <td>1505.780203</td>\n",
       "      <td>563.198208</td>\n",
       "    </tr>\n",
       "    <tr>\n",
       "      <th>1</th>\n",
       "      <td>Cerdo</td>\n",
       "      <td>1020001</td>\n",
       "      <td>Grandes Clientes</td>\n",
       "      <td>2890.381397</td>\n",
       "      <td>13984.227577</td>\n",
       "      <td>8399.880932</td>\n",
       "    </tr>\n",
       "    <tr>\n",
       "      <th>2</th>\n",
       "      <td>Cerdo</td>\n",
       "      <td>1020001</td>\n",
       "      <td>Industriales</td>\n",
       "      <td>-1190.824817</td>\n",
       "      <td>3460.296218</td>\n",
       "      <td>1114.044255</td>\n",
       "    </tr>\n",
       "    <tr>\n",
       "      <th>3</th>\n",
       "      <td>Cerdo</td>\n",
       "      <td>1020001</td>\n",
       "      <td>Tradicional</td>\n",
       "      <td>45777.955557</td>\n",
       "      <td>86957.032673</td>\n",
       "      <td>66329.691785</td>\n",
       "    </tr>\n",
       "    <tr>\n",
       "      <th>4</th>\n",
       "      <td>Cerdo</td>\n",
       "      <td>1020003</td>\n",
       "      <td>Foodservice</td>\n",
       "      <td>1546.140432</td>\n",
       "      <td>5217.556588</td>\n",
       "      <td>3394.786550</td>\n",
       "    </tr>\n",
       "    <tr>\n",
       "      <th>5</th>\n",
       "      <td>Cerdo</td>\n",
       "      <td>1020003</td>\n",
       "      <td>Grandes Clientes</td>\n",
       "      <td>-2776.435592</td>\n",
       "      <td>10107.065002</td>\n",
       "      <td>3605.515969</td>\n",
       "    </tr>\n",
       "    <tr>\n",
       "      <th>6</th>\n",
       "      <td>Cerdo</td>\n",
       "      <td>1020003</td>\n",
       "      <td>Industriales</td>\n",
       "      <td>-1287.804945</td>\n",
       "      <td>3059.865966</td>\n",
       "      <td>944.136530</td>\n",
       "    </tr>\n",
       "    <tr>\n",
       "      <th>7</th>\n",
       "      <td>Cerdo</td>\n",
       "      <td>1020003</td>\n",
       "      <td>Tradicional</td>\n",
       "      <td>12039.328550</td>\n",
       "      <td>51275.381431</td>\n",
       "      <td>31805.804263</td>\n",
       "    </tr>\n",
       "    <tr>\n",
       "      <th>8</th>\n",
       "      <td>Cerdo</td>\n",
       "      <td>1020010</td>\n",
       "      <td>Foodservice</td>\n",
       "      <td>7843.578681</td>\n",
       "      <td>24836.285842</td>\n",
       "      <td>16032.804416</td>\n",
       "    </tr>\n",
       "    <tr>\n",
       "      <th>9</th>\n",
       "      <td>Cerdo</td>\n",
       "      <td>1020010</td>\n",
       "      <td>Grandes Clientes</td>\n",
       "      <td>16017.595284</td>\n",
       "      <td>39505.235562</td>\n",
       "      <td>27886.265524</td>\n",
       "    </tr>\n",
       "    <tr>\n",
       "      <th>10</th>\n",
       "      <td>Cerdo</td>\n",
       "      <td>1020010</td>\n",
       "      <td>Industriales</td>\n",
       "      <td>-4088.523991</td>\n",
       "      <td>7684.529065</td>\n",
       "      <td>1659.549152</td>\n",
       "    </tr>\n",
       "    <tr>\n",
       "      <th>11</th>\n",
       "      <td>Cerdo</td>\n",
       "      <td>1020010</td>\n",
       "      <td>Tradicional</td>\n",
       "      <td>104176.675840</td>\n",
       "      <td>162003.591892</td>\n",
       "      <td>133604.057295</td>\n",
       "    </tr>\n",
       "    <tr>\n",
       "      <th>12</th>\n",
       "      <td>Cerdo</td>\n",
       "      <td>1020013</td>\n",
       "      <td>Foodservice</td>\n",
       "      <td>407.669285</td>\n",
       "      <td>5855.125567</td>\n",
       "      <td>3160.944177</td>\n",
       "    </tr>\n",
       "    <tr>\n",
       "      <th>13</th>\n",
       "      <td>Cerdo</td>\n",
       "      <td>1020013</td>\n",
       "      <td>Grandes Clientes</td>\n",
       "      <td>21773.158244</td>\n",
       "      <td>76778.603068</td>\n",
       "      <td>48951.134832</td>\n",
       "    </tr>\n",
       "    <tr>\n",
       "      <th>14</th>\n",
       "      <td>Cerdo</td>\n",
       "      <td>1020013</td>\n",
       "      <td>Industriales</td>\n",
       "      <td>-6304.969727</td>\n",
       "      <td>12946.423604</td>\n",
       "      <td>3325.942568</td>\n",
       "    </tr>\n",
       "    <tr>\n",
       "      <th>15</th>\n",
       "      <td>Cerdo</td>\n",
       "      <td>1020013</td>\n",
       "      <td>Tradicional</td>\n",
       "      <td>142905.833624</td>\n",
       "      <td>255737.766040</td>\n",
       "      <td>199302.457091</td>\n",
       "    </tr>\n",
       "    <tr>\n",
       "      <th>16</th>\n",
       "      <td>Cerdo</td>\n",
       "      <td>1020027</td>\n",
       "      <td>Foodservice</td>\n",
       "      <td>140.015084</td>\n",
       "      <td>3520.527836</td>\n",
       "      <td>1851.147766</td>\n",
       "    </tr>\n",
       "    <tr>\n",
       "      <th>17</th>\n",
       "      <td>Cerdo</td>\n",
       "      <td>1020027</td>\n",
       "      <td>Grandes Clientes</td>\n",
       "      <td>6299.857975</td>\n",
       "      <td>21439.255198</td>\n",
       "      <td>13834.465894</td>\n",
       "    </tr>\n",
       "    <tr>\n",
       "      <th>18</th>\n",
       "      <td>Cerdo</td>\n",
       "      <td>1020027</td>\n",
       "      <td>Industriales</td>\n",
       "      <td>-2019.938590</td>\n",
       "      <td>5511.769150</td>\n",
       "      <td>1685.313195</td>\n",
       "    </tr>\n",
       "    <tr>\n",
       "      <th>19</th>\n",
       "      <td>Cerdo</td>\n",
       "      <td>1020027</td>\n",
       "      <td>Tradicional</td>\n",
       "      <td>49860.877763</td>\n",
       "      <td>98436.605422</td>\n",
       "      <td>73754.388745</td>\n",
       "    </tr>\n",
       "    <tr>\n",
       "      <th>20</th>\n",
       "      <td>Cerdo</td>\n",
       "      <td>1020042</td>\n",
       "      <td>Foodservice</td>\n",
       "      <td>-215.758197</td>\n",
       "      <td>981.418819</td>\n",
       "      <td>385.222900</td>\n",
       "    </tr>\n",
       "    <tr>\n",
       "      <th>21</th>\n",
       "      <td>Cerdo</td>\n",
       "      <td>1020042</td>\n",
       "      <td>Grandes Clientes</td>\n",
       "      <td>532.588822</td>\n",
       "      <td>8919.499207</td>\n",
       "      <td>4630.895932</td>\n",
       "    </tr>\n",
       "    <tr>\n",
       "      <th>22</th>\n",
       "      <td>Cerdo</td>\n",
       "      <td>1020042</td>\n",
       "      <td>Industriales</td>\n",
       "      <td>4106.656364</td>\n",
       "      <td>10986.175896</td>\n",
       "      <td>7486.727243</td>\n",
       "    </tr>\n",
       "    <tr>\n",
       "      <th>23</th>\n",
       "      <td>Cerdo</td>\n",
       "      <td>1020042</td>\n",
       "      <td>Tradicional</td>\n",
       "      <td>8136.478966</td>\n",
       "      <td>25362.778821</td>\n",
       "      <td>16851.594549</td>\n",
       "    </tr>\n",
       "    <tr>\n",
       "      <th>24</th>\n",
       "      <td>Cerdo</td>\n",
       "      <td>1020253</td>\n",
       "      <td>Foodservice</td>\n",
       "      <td>11130.108158</td>\n",
       "      <td>19136.440252</td>\n",
       "      <td>15173.894676</td>\n",
       "    </tr>\n",
       "    <tr>\n",
       "      <th>25</th>\n",
       "      <td>Cerdo</td>\n",
       "      <td>1020253</td>\n",
       "      <td>Grandes Clientes</td>\n",
       "      <td>1471.299143</td>\n",
       "      <td>11508.816841</td>\n",
       "      <td>6541.444997</td>\n",
       "    </tr>\n",
       "    <tr>\n",
       "      <th>26</th>\n",
       "      <td>Cerdo</td>\n",
       "      <td>1020253</td>\n",
       "      <td>Industriales</td>\n",
       "      <td>-365.514777</td>\n",
       "      <td>4531.822967</td>\n",
       "      <td>2096.039804</td>\n",
       "    </tr>\n",
       "    <tr>\n",
       "      <th>27</th>\n",
       "      <td>Cerdo</td>\n",
       "      <td>1020253</td>\n",
       "      <td>Tradicional</td>\n",
       "      <td>39343.762551</td>\n",
       "      <td>75869.412558</td>\n",
       "      <td>57261.387511</td>\n",
       "    </tr>\n",
       "    <tr>\n",
       "      <th>28</th>\n",
       "      <td>Pollo</td>\n",
       "      <td>1010002</td>\n",
       "      <td>Foodservice</td>\n",
       "      <td>-125.800382</td>\n",
       "      <td>14244.111407</td>\n",
       "      <td>7037.029337</td>\n",
       "    </tr>\n",
       "    <tr>\n",
       "      <th>29</th>\n",
       "      <td>Pollo</td>\n",
       "      <td>1010002</td>\n",
       "      <td>Grandes Clientes</td>\n",
       "      <td>17374.417068</td>\n",
       "      <td>47431.384499</td>\n",
       "      <td>32434.675354</td>\n",
       "    </tr>\n",
       "    <tr>\n",
       "      <th>30</th>\n",
       "      <td>Pollo</td>\n",
       "      <td>1010002</td>\n",
       "      <td>Industriales</td>\n",
       "      <td>-200.869934</td>\n",
       "      <td>2418.199381</td>\n",
       "      <td>1093.719850</td>\n",
       "    </tr>\n",
       "    <tr>\n",
       "      <th>31</th>\n",
       "      <td>Pollo</td>\n",
       "      <td>1010002</td>\n",
       "      <td>Tradicional</td>\n",
       "      <td>114153.846452</td>\n",
       "      <td>198092.469532</td>\n",
       "      <td>157093.401163</td>\n",
       "    </tr>\n",
       "    <tr>\n",
       "      <th>32</th>\n",
       "      <td>Pollo</td>\n",
       "      <td>1010048</td>\n",
       "      <td>Foodservice</td>\n",
       "      <td>21389.067184</td>\n",
       "      <td>42688.072704</td>\n",
       "      <td>31940.904928</td>\n",
       "    </tr>\n",
       "    <tr>\n",
       "      <th>33</th>\n",
       "      <td>Pollo</td>\n",
       "      <td>1010048</td>\n",
       "      <td>Grandes Clientes</td>\n",
       "      <td>-14600.886544</td>\n",
       "      <td>55503.406541</td>\n",
       "      <td>19980.326278</td>\n",
       "    </tr>\n",
       "    <tr>\n",
       "      <th>34</th>\n",
       "      <td>Pollo</td>\n",
       "      <td>1010048</td>\n",
       "      <td>Industriales</td>\n",
       "      <td>44.569988</td>\n",
       "      <td>3449.849206</td>\n",
       "      <td>1755.507970</td>\n",
       "    </tr>\n",
       "    <tr>\n",
       "      <th>35</th>\n",
       "      <td>Pollo</td>\n",
       "      <td>1010048</td>\n",
       "      <td>Tradicional</td>\n",
       "      <td>78505.307807</td>\n",
       "      <td>224972.669962</td>\n",
       "      <td>152998.091329</td>\n",
       "    </tr>\n",
       "    <tr>\n",
       "      <th>36</th>\n",
       "      <td>Pollo</td>\n",
       "      <td>1010077</td>\n",
       "      <td>Foodservice</td>\n",
       "      <td>883.807814</td>\n",
       "      <td>3820.322647</td>\n",
       "      <td>2331.304465</td>\n",
       "    </tr>\n",
       "    <tr>\n",
       "      <th>37</th>\n",
       "      <td>Pollo</td>\n",
       "      <td>1010077</td>\n",
       "      <td>Grandes Clientes</td>\n",
       "      <td>-2512.639551</td>\n",
       "      <td>2692.275703</td>\n",
       "      <td>63.913727</td>\n",
       "    </tr>\n",
       "    <tr>\n",
       "      <th>38</th>\n",
       "      <td>Pollo</td>\n",
       "      <td>1010077</td>\n",
       "      <td>Industriales</td>\n",
       "      <td>-657.385296</td>\n",
       "      <td>539.924208</td>\n",
       "      <td>-52.356231</td>\n",
       "    </tr>\n",
       "    <tr>\n",
       "      <th>39</th>\n",
       "      <td>Pollo</td>\n",
       "      <td>1010077</td>\n",
       "      <td>Tradicional</td>\n",
       "      <td>14323.015750</td>\n",
       "      <td>41430.885507</td>\n",
       "      <td>28149.371825</td>\n",
       "    </tr>\n",
       "    <tr>\n",
       "      <th>40</th>\n",
       "      <td>Pollo</td>\n",
       "      <td>1010078</td>\n",
       "      <td>Foodservice</td>\n",
       "      <td>42604.902383</td>\n",
       "      <td>64910.179387</td>\n",
       "      <td>53955.173096</td>\n",
       "    </tr>\n",
       "    <tr>\n",
       "      <th>41</th>\n",
       "      <td>Pollo</td>\n",
       "      <td>1010078</td>\n",
       "      <td>Grandes Clientes</td>\n",
       "      <td>28256.587854</td>\n",
       "      <td>121387.969042</td>\n",
       "      <td>76362.235662</td>\n",
       "    </tr>\n",
       "    <tr>\n",
       "      <th>42</th>\n",
       "      <td>Pollo</td>\n",
       "      <td>1010078</td>\n",
       "      <td>Industriales</td>\n",
       "      <td>2013.644894</td>\n",
       "      <td>13693.936900</td>\n",
       "      <td>7834.771601</td>\n",
       "    </tr>\n",
       "    <tr>\n",
       "      <th>43</th>\n",
       "      <td>Pollo</td>\n",
       "      <td>1010078</td>\n",
       "      <td>Tradicional</td>\n",
       "      <td>466769.179355</td>\n",
       "      <td>734893.396518</td>\n",
       "      <td>600998.005866</td>\n",
       "    </tr>\n",
       "    <tr>\n",
       "      <th>44</th>\n",
       "      <td>Pollo</td>\n",
       "      <td>1010267</td>\n",
       "      <td>Foodservice</td>\n",
       "      <td>85472.932623</td>\n",
       "      <td>152750.405901</td>\n",
       "      <td>118930.596824</td>\n",
       "    </tr>\n",
       "    <tr>\n",
       "      <th>45</th>\n",
       "      <td>Pollo</td>\n",
       "      <td>1010267</td>\n",
       "      <td>Grandes Clientes</td>\n",
       "      <td>-13836.856148</td>\n",
       "      <td>23675.181331</td>\n",
       "      <td>5280.615702</td>\n",
       "    </tr>\n",
       "    <tr>\n",
       "      <th>46</th>\n",
       "      <td>Pollo</td>\n",
       "      <td>1010267</td>\n",
       "      <td>Industriales</td>\n",
       "      <td>-17494.021297</td>\n",
       "      <td>15618.255789</td>\n",
       "      <td>-594.713882</td>\n",
       "    </tr>\n",
       "    <tr>\n",
       "      <th>47</th>\n",
       "      <td>Pollo</td>\n",
       "      <td>1010267</td>\n",
       "      <td>Tradicional</td>\n",
       "      <td>40578.889658</td>\n",
       "      <td>125176.658303</td>\n",
       "      <td>83055.052710</td>\n",
       "    </tr>\n",
       "    <tr>\n",
       "      <th>48</th>\n",
       "      <td>Pollo</td>\n",
       "      <td>1010695</td>\n",
       "      <td>Foodservice</td>\n",
       "      <td>5597.004197</td>\n",
       "      <td>13864.898675</td>\n",
       "      <td>9694.346385</td>\n",
       "    </tr>\n",
       "    <tr>\n",
       "      <th>49</th>\n",
       "      <td>Pollo</td>\n",
       "      <td>1010695</td>\n",
       "      <td>Grandes Clientes</td>\n",
       "      <td>-9355.078172</td>\n",
       "      <td>36904.673045</td>\n",
       "      <td>13931.186046</td>\n",
       "    </tr>\n",
       "    <tr>\n",
       "      <th>50</th>\n",
       "      <td>Pollo</td>\n",
       "      <td>1010695</td>\n",
       "      <td>Industriales</td>\n",
       "      <td>-799.985575</td>\n",
       "      <td>1552.922572</td>\n",
       "      <td>371.941773</td>\n",
       "    </tr>\n",
       "    <tr>\n",
       "      <th>51</th>\n",
       "      <td>Pollo</td>\n",
       "      <td>1010695</td>\n",
       "      <td>Tradicional</td>\n",
       "      <td>6687.109093</td>\n",
       "      <td>64564.806372</td>\n",
       "      <td>35722.211626</td>\n",
       "    </tr>\n",
       "  </tbody>\n",
       "</table>\n",
       "</div>"
      ],
      "text/plain": [
       "   Sector Material   Tipo de cliente  Predicción Inferior  \\\n",
       "0   Cerdo  1020001       Foodservice          -384.389437   \n",
       "1   Cerdo  1020001  Grandes Clientes          2890.381397   \n",
       "2   Cerdo  1020001      Industriales         -1190.824817   \n",
       "3   Cerdo  1020001       Tradicional         45777.955557   \n",
       "4   Cerdo  1020003       Foodservice          1546.140432   \n",
       "5   Cerdo  1020003  Grandes Clientes         -2776.435592   \n",
       "6   Cerdo  1020003      Industriales         -1287.804945   \n",
       "7   Cerdo  1020003       Tradicional         12039.328550   \n",
       "8   Cerdo  1020010       Foodservice          7843.578681   \n",
       "9   Cerdo  1020010  Grandes Clientes         16017.595284   \n",
       "10  Cerdo  1020010      Industriales         -4088.523991   \n",
       "11  Cerdo  1020010       Tradicional        104176.675840   \n",
       "12  Cerdo  1020013       Foodservice           407.669285   \n",
       "13  Cerdo  1020013  Grandes Clientes         21773.158244   \n",
       "14  Cerdo  1020013      Industriales         -6304.969727   \n",
       "15  Cerdo  1020013       Tradicional        142905.833624   \n",
       "16  Cerdo  1020027       Foodservice           140.015084   \n",
       "17  Cerdo  1020027  Grandes Clientes          6299.857975   \n",
       "18  Cerdo  1020027      Industriales         -2019.938590   \n",
       "19  Cerdo  1020027       Tradicional         49860.877763   \n",
       "20  Cerdo  1020042       Foodservice          -215.758197   \n",
       "21  Cerdo  1020042  Grandes Clientes           532.588822   \n",
       "22  Cerdo  1020042      Industriales          4106.656364   \n",
       "23  Cerdo  1020042       Tradicional          8136.478966   \n",
       "24  Cerdo  1020253       Foodservice         11130.108158   \n",
       "25  Cerdo  1020253  Grandes Clientes          1471.299143   \n",
       "26  Cerdo  1020253      Industriales          -365.514777   \n",
       "27  Cerdo  1020253       Tradicional         39343.762551   \n",
       "28  Pollo  1010002       Foodservice          -125.800382   \n",
       "29  Pollo  1010002  Grandes Clientes         17374.417068   \n",
       "30  Pollo  1010002      Industriales          -200.869934   \n",
       "31  Pollo  1010002       Tradicional        114153.846452   \n",
       "32  Pollo  1010048       Foodservice         21389.067184   \n",
       "33  Pollo  1010048  Grandes Clientes        -14600.886544   \n",
       "34  Pollo  1010048      Industriales            44.569988   \n",
       "35  Pollo  1010048       Tradicional         78505.307807   \n",
       "36  Pollo  1010077       Foodservice           883.807814   \n",
       "37  Pollo  1010077  Grandes Clientes         -2512.639551   \n",
       "38  Pollo  1010077      Industriales          -657.385296   \n",
       "39  Pollo  1010077       Tradicional         14323.015750   \n",
       "40  Pollo  1010078       Foodservice         42604.902383   \n",
       "41  Pollo  1010078  Grandes Clientes         28256.587854   \n",
       "42  Pollo  1010078      Industriales          2013.644894   \n",
       "43  Pollo  1010078       Tradicional        466769.179355   \n",
       "44  Pollo  1010267       Foodservice         85472.932623   \n",
       "45  Pollo  1010267  Grandes Clientes        -13836.856148   \n",
       "46  Pollo  1010267      Industriales        -17494.021297   \n",
       "47  Pollo  1010267       Tradicional         40578.889658   \n",
       "48  Pollo  1010695       Foodservice          5597.004197   \n",
       "49  Pollo  1010695  Grandes Clientes         -9355.078172   \n",
       "50  Pollo  1010695      Industriales          -799.985575   \n",
       "51  Pollo  1010695       Tradicional          6687.109093   \n",
       "\n",
       "    Predicción Superior  Predicción central  \n",
       "0           1505.780203          563.198208  \n",
       "1          13984.227577         8399.880932  \n",
       "2           3460.296218         1114.044255  \n",
       "3          86957.032673        66329.691785  \n",
       "4           5217.556588         3394.786550  \n",
       "5          10107.065002         3605.515969  \n",
       "6           3059.865966          944.136530  \n",
       "7          51275.381431        31805.804263  \n",
       "8          24836.285842        16032.804416  \n",
       "9          39505.235562        27886.265524  \n",
       "10          7684.529065         1659.549152  \n",
       "11        162003.591892       133604.057295  \n",
       "12          5855.125567         3160.944177  \n",
       "13         76778.603068        48951.134832  \n",
       "14         12946.423604         3325.942568  \n",
       "15        255737.766040       199302.457091  \n",
       "16          3520.527836         1851.147766  \n",
       "17         21439.255198        13834.465894  \n",
       "18          5511.769150         1685.313195  \n",
       "19         98436.605422        73754.388745  \n",
       "20           981.418819          385.222900  \n",
       "21          8919.499207         4630.895932  \n",
       "22         10986.175896         7486.727243  \n",
       "23         25362.778821        16851.594549  \n",
       "24         19136.440252        15173.894676  \n",
       "25         11508.816841         6541.444997  \n",
       "26          4531.822967         2096.039804  \n",
       "27         75869.412558        57261.387511  \n",
       "28         14244.111407         7037.029337  \n",
       "29         47431.384499        32434.675354  \n",
       "30          2418.199381         1093.719850  \n",
       "31        198092.469532       157093.401163  \n",
       "32         42688.072704        31940.904928  \n",
       "33         55503.406541        19980.326278  \n",
       "34          3449.849206         1755.507970  \n",
       "35        224972.669962       152998.091329  \n",
       "36          3820.322647         2331.304465  \n",
       "37          2692.275703           63.913727  \n",
       "38           539.924208          -52.356231  \n",
       "39         41430.885507        28149.371825  \n",
       "40         64910.179387        53955.173096  \n",
       "41        121387.969042        76362.235662  \n",
       "42         13693.936900         7834.771601  \n",
       "43        734893.396518       600998.005866  \n",
       "44        152750.405901       118930.596824  \n",
       "45         23675.181331         5280.615702  \n",
       "46         15618.255789         -594.713882  \n",
       "47        125176.658303        83055.052710  \n",
       "48         13864.898675         9694.346385  \n",
       "49         36904.673045        13931.186046  \n",
       "50          1552.922572          371.941773  \n",
       "51         64564.806372        35722.211626  "
      ]
     },
     "execution_count": 66,
     "metadata": {},
     "output_type": "execute_result"
    }
   ],
   "source": [
    "D_sem=df3.groupby(['Sector','Material','Tipo de cliente']).sum().reset_index()\n",
    "D_sem"
   ]
  },
  {
   "cell_type": "code",
   "execution_count": 67,
   "id": "a614ed40",
   "metadata": {
    "hidden": true
   },
   "outputs": [
    {
     "data": {
      "text/html": [
       "<div>\n",
       "<style scoped>\n",
       "    .dataframe tbody tr th:only-of-type {\n",
       "        vertical-align: middle;\n",
       "    }\n",
       "\n",
       "    .dataframe tbody tr th {\n",
       "        vertical-align: top;\n",
       "    }\n",
       "\n",
       "    .dataframe thead th {\n",
       "        text-align: right;\n",
       "    }\n",
       "</style>\n",
       "<table border=\"1\" class=\"dataframe\">\n",
       "  <thead>\n",
       "    <tr style=\"text-align: right;\">\n",
       "      <th></th>\n",
       "      <th>Sector</th>\n",
       "      <th>Material</th>\n",
       "      <th>Tipo de cliente</th>\n",
       "      <th>Predicción Inferior</th>\n",
       "      <th>Predicción Superior</th>\n",
       "      <th>Predicción central</th>\n",
       "    </tr>\n",
       "  </thead>\n",
       "  <tbody>\n",
       "  </tbody>\n",
       "</table>\n",
       "</div>"
      ],
      "text/plain": [
       "Empty DataFrame\n",
       "Columns: [Sector, Material, Tipo de cliente, Predicción Inferior, Predicción Superior, Predicción central]\n",
       "Index: []"
      ]
     },
     "execution_count": 67,
     "metadata": {},
     "output_type": "execute_result"
    }
   ],
   "source": [
    "D_sem[D_sem.Material=='1010130']"
   ]
  },
  {
   "cell_type": "code",
   "execution_count": 68,
   "id": "a59162a5",
   "metadata": {
    "hidden": true
   },
   "outputs": [
    {
     "data": {
      "text/html": [
       "<div>\n",
       "<style scoped>\n",
       "    .dataframe tbody tr th:only-of-type {\n",
       "        vertical-align: middle;\n",
       "    }\n",
       "\n",
       "    .dataframe tbody tr th {\n",
       "        vertical-align: top;\n",
       "    }\n",
       "\n",
       "    .dataframe thead th {\n",
       "        text-align: right;\n",
       "    }\n",
       "</style>\n",
       "<table border=\"1\" class=\"dataframe\">\n",
       "  <thead>\n",
       "    <tr style=\"text-align: right;\">\n",
       "      <th></th>\n",
       "      <th></th>\n",
       "      <th></th>\n",
       "      <th>Predicción Inferior</th>\n",
       "      <th>Predicción Superior</th>\n",
       "      <th>Predicción central</th>\n",
       "    </tr>\n",
       "    <tr>\n",
       "      <th>Sector</th>\n",
       "      <th>Material</th>\n",
       "      <th>Tipo de cliente</th>\n",
       "      <th></th>\n",
       "      <th></th>\n",
       "      <th></th>\n",
       "    </tr>\n",
       "  </thead>\n",
       "  <tbody>\n",
       "    <tr>\n",
       "      <th rowspan=\"28\" valign=\"top\">Cerdo</th>\n",
       "      <th rowspan=\"4\" valign=\"top\">1020001</th>\n",
       "      <th>Foodservice</th>\n",
       "      <td>-384.389437</td>\n",
       "      <td>1505.780203</td>\n",
       "      <td>563.198208</td>\n",
       "    </tr>\n",
       "    <tr>\n",
       "      <th>Grandes Clientes</th>\n",
       "      <td>2890.381397</td>\n",
       "      <td>13984.227577</td>\n",
       "      <td>8399.880932</td>\n",
       "    </tr>\n",
       "    <tr>\n",
       "      <th>Industriales</th>\n",
       "      <td>-1190.824817</td>\n",
       "      <td>3460.296218</td>\n",
       "      <td>1114.044255</td>\n",
       "    </tr>\n",
       "    <tr>\n",
       "      <th>Tradicional</th>\n",
       "      <td>45777.955557</td>\n",
       "      <td>86957.032673</td>\n",
       "      <td>66329.691785</td>\n",
       "    </tr>\n",
       "    <tr>\n",
       "      <th rowspan=\"4\" valign=\"top\">1020003</th>\n",
       "      <th>Foodservice</th>\n",
       "      <td>1546.140432</td>\n",
       "      <td>5217.556588</td>\n",
       "      <td>3394.786550</td>\n",
       "    </tr>\n",
       "    <tr>\n",
       "      <th>Grandes Clientes</th>\n",
       "      <td>-2776.435592</td>\n",
       "      <td>10107.065002</td>\n",
       "      <td>3605.515969</td>\n",
       "    </tr>\n",
       "    <tr>\n",
       "      <th>Industriales</th>\n",
       "      <td>-1287.804945</td>\n",
       "      <td>3059.865966</td>\n",
       "      <td>944.136530</td>\n",
       "    </tr>\n",
       "    <tr>\n",
       "      <th>Tradicional</th>\n",
       "      <td>12039.328550</td>\n",
       "      <td>51275.381431</td>\n",
       "      <td>31805.804263</td>\n",
       "    </tr>\n",
       "    <tr>\n",
       "      <th rowspan=\"4\" valign=\"top\">1020010</th>\n",
       "      <th>Foodservice</th>\n",
       "      <td>7843.578681</td>\n",
       "      <td>24836.285842</td>\n",
       "      <td>16032.804416</td>\n",
       "    </tr>\n",
       "    <tr>\n",
       "      <th>Grandes Clientes</th>\n",
       "      <td>16017.595284</td>\n",
       "      <td>39505.235562</td>\n",
       "      <td>27886.265524</td>\n",
       "    </tr>\n",
       "    <tr>\n",
       "      <th>Industriales</th>\n",
       "      <td>-4088.523991</td>\n",
       "      <td>7684.529065</td>\n",
       "      <td>1659.549152</td>\n",
       "    </tr>\n",
       "    <tr>\n",
       "      <th>Tradicional</th>\n",
       "      <td>104176.675840</td>\n",
       "      <td>162003.591892</td>\n",
       "      <td>133604.057295</td>\n",
       "    </tr>\n",
       "    <tr>\n",
       "      <th rowspan=\"4\" valign=\"top\">1020013</th>\n",
       "      <th>Foodservice</th>\n",
       "      <td>407.669285</td>\n",
       "      <td>5855.125567</td>\n",
       "      <td>3160.944177</td>\n",
       "    </tr>\n",
       "    <tr>\n",
       "      <th>Grandes Clientes</th>\n",
       "      <td>21773.158244</td>\n",
       "      <td>76778.603068</td>\n",
       "      <td>48951.134832</td>\n",
       "    </tr>\n",
       "    <tr>\n",
       "      <th>Industriales</th>\n",
       "      <td>-6304.969727</td>\n",
       "      <td>12946.423604</td>\n",
       "      <td>3325.942568</td>\n",
       "    </tr>\n",
       "    <tr>\n",
       "      <th>Tradicional</th>\n",
       "      <td>142905.833624</td>\n",
       "      <td>255737.766040</td>\n",
       "      <td>199302.457091</td>\n",
       "    </tr>\n",
       "    <tr>\n",
       "      <th rowspan=\"4\" valign=\"top\">1020027</th>\n",
       "      <th>Foodservice</th>\n",
       "      <td>140.015084</td>\n",
       "      <td>3520.527836</td>\n",
       "      <td>1851.147766</td>\n",
       "    </tr>\n",
       "    <tr>\n",
       "      <th>Grandes Clientes</th>\n",
       "      <td>6299.857975</td>\n",
       "      <td>21439.255198</td>\n",
       "      <td>13834.465894</td>\n",
       "    </tr>\n",
       "    <tr>\n",
       "      <th>Industriales</th>\n",
       "      <td>-2019.938590</td>\n",
       "      <td>5511.769150</td>\n",
       "      <td>1685.313195</td>\n",
       "    </tr>\n",
       "    <tr>\n",
       "      <th>Tradicional</th>\n",
       "      <td>49860.877763</td>\n",
       "      <td>98436.605422</td>\n",
       "      <td>73754.388745</td>\n",
       "    </tr>\n",
       "    <tr>\n",
       "      <th rowspan=\"4\" valign=\"top\">1020042</th>\n",
       "      <th>Foodservice</th>\n",
       "      <td>-215.758197</td>\n",
       "      <td>981.418819</td>\n",
       "      <td>385.222900</td>\n",
       "    </tr>\n",
       "    <tr>\n",
       "      <th>Grandes Clientes</th>\n",
       "      <td>532.588822</td>\n",
       "      <td>8919.499207</td>\n",
       "      <td>4630.895932</td>\n",
       "    </tr>\n",
       "    <tr>\n",
       "      <th>Industriales</th>\n",
       "      <td>4106.656364</td>\n",
       "      <td>10986.175896</td>\n",
       "      <td>7486.727243</td>\n",
       "    </tr>\n",
       "    <tr>\n",
       "      <th>Tradicional</th>\n",
       "      <td>8136.478966</td>\n",
       "      <td>25362.778821</td>\n",
       "      <td>16851.594549</td>\n",
       "    </tr>\n",
       "    <tr>\n",
       "      <th rowspan=\"4\" valign=\"top\">1020253</th>\n",
       "      <th>Foodservice</th>\n",
       "      <td>11130.108158</td>\n",
       "      <td>19136.440252</td>\n",
       "      <td>15173.894676</td>\n",
       "    </tr>\n",
       "    <tr>\n",
       "      <th>Grandes Clientes</th>\n",
       "      <td>1471.299143</td>\n",
       "      <td>11508.816841</td>\n",
       "      <td>6541.444997</td>\n",
       "    </tr>\n",
       "    <tr>\n",
       "      <th>Industriales</th>\n",
       "      <td>-365.514777</td>\n",
       "      <td>4531.822967</td>\n",
       "      <td>2096.039804</td>\n",
       "    </tr>\n",
       "    <tr>\n",
       "      <th>Tradicional</th>\n",
       "      <td>39343.762551</td>\n",
       "      <td>75869.412558</td>\n",
       "      <td>57261.387511</td>\n",
       "    </tr>\n",
       "    <tr>\n",
       "      <th rowspan=\"24\" valign=\"top\">Pollo</th>\n",
       "      <th rowspan=\"4\" valign=\"top\">1010002</th>\n",
       "      <th>Foodservice</th>\n",
       "      <td>-125.800382</td>\n",
       "      <td>14244.111407</td>\n",
       "      <td>7037.029337</td>\n",
       "    </tr>\n",
       "    <tr>\n",
       "      <th>Grandes Clientes</th>\n",
       "      <td>17374.417068</td>\n",
       "      <td>47431.384499</td>\n",
       "      <td>32434.675354</td>\n",
       "    </tr>\n",
       "    <tr>\n",
       "      <th>Industriales</th>\n",
       "      <td>-200.869934</td>\n",
       "      <td>2418.199381</td>\n",
       "      <td>1093.719850</td>\n",
       "    </tr>\n",
       "    <tr>\n",
       "      <th>Tradicional</th>\n",
       "      <td>114153.846452</td>\n",
       "      <td>198092.469532</td>\n",
       "      <td>157093.401163</td>\n",
       "    </tr>\n",
       "    <tr>\n",
       "      <th rowspan=\"4\" valign=\"top\">1010048</th>\n",
       "      <th>Foodservice</th>\n",
       "      <td>21389.067184</td>\n",
       "      <td>42688.072704</td>\n",
       "      <td>31940.904928</td>\n",
       "    </tr>\n",
       "    <tr>\n",
       "      <th>Grandes Clientes</th>\n",
       "      <td>-14600.886544</td>\n",
       "      <td>55503.406541</td>\n",
       "      <td>19980.326278</td>\n",
       "    </tr>\n",
       "    <tr>\n",
       "      <th>Industriales</th>\n",
       "      <td>44.569988</td>\n",
       "      <td>3449.849206</td>\n",
       "      <td>1755.507970</td>\n",
       "    </tr>\n",
       "    <tr>\n",
       "      <th>Tradicional</th>\n",
       "      <td>78505.307807</td>\n",
       "      <td>224972.669962</td>\n",
       "      <td>152998.091329</td>\n",
       "    </tr>\n",
       "    <tr>\n",
       "      <th rowspan=\"4\" valign=\"top\">1010077</th>\n",
       "      <th>Foodservice</th>\n",
       "      <td>883.807814</td>\n",
       "      <td>3820.322647</td>\n",
       "      <td>2331.304465</td>\n",
       "    </tr>\n",
       "    <tr>\n",
       "      <th>Grandes Clientes</th>\n",
       "      <td>-2512.639551</td>\n",
       "      <td>2692.275703</td>\n",
       "      <td>63.913727</td>\n",
       "    </tr>\n",
       "    <tr>\n",
       "      <th>Industriales</th>\n",
       "      <td>-657.385296</td>\n",
       "      <td>539.924208</td>\n",
       "      <td>-52.356231</td>\n",
       "    </tr>\n",
       "    <tr>\n",
       "      <th>Tradicional</th>\n",
       "      <td>14323.015750</td>\n",
       "      <td>41430.885507</td>\n",
       "      <td>28149.371825</td>\n",
       "    </tr>\n",
       "    <tr>\n",
       "      <th rowspan=\"4\" valign=\"top\">1010078</th>\n",
       "      <th>Foodservice</th>\n",
       "      <td>42604.902383</td>\n",
       "      <td>64910.179387</td>\n",
       "      <td>53955.173096</td>\n",
       "    </tr>\n",
       "    <tr>\n",
       "      <th>Grandes Clientes</th>\n",
       "      <td>28256.587854</td>\n",
       "      <td>121387.969042</td>\n",
       "      <td>76362.235662</td>\n",
       "    </tr>\n",
       "    <tr>\n",
       "      <th>Industriales</th>\n",
       "      <td>2013.644894</td>\n",
       "      <td>13693.936900</td>\n",
       "      <td>7834.771601</td>\n",
       "    </tr>\n",
       "    <tr>\n",
       "      <th>Tradicional</th>\n",
       "      <td>466769.179355</td>\n",
       "      <td>734893.396518</td>\n",
       "      <td>600998.005866</td>\n",
       "    </tr>\n",
       "    <tr>\n",
       "      <th rowspan=\"4\" valign=\"top\">1010267</th>\n",
       "      <th>Foodservice</th>\n",
       "      <td>85472.932623</td>\n",
       "      <td>152750.405901</td>\n",
       "      <td>118930.596824</td>\n",
       "    </tr>\n",
       "    <tr>\n",
       "      <th>Grandes Clientes</th>\n",
       "      <td>-13836.856148</td>\n",
       "      <td>23675.181331</td>\n",
       "      <td>5280.615702</td>\n",
       "    </tr>\n",
       "    <tr>\n",
       "      <th>Industriales</th>\n",
       "      <td>-17494.021297</td>\n",
       "      <td>15618.255789</td>\n",
       "      <td>-594.713882</td>\n",
       "    </tr>\n",
       "    <tr>\n",
       "      <th>Tradicional</th>\n",
       "      <td>40578.889658</td>\n",
       "      <td>125176.658303</td>\n",
       "      <td>83055.052710</td>\n",
       "    </tr>\n",
       "    <tr>\n",
       "      <th rowspan=\"4\" valign=\"top\">1010695</th>\n",
       "      <th>Foodservice</th>\n",
       "      <td>5597.004197</td>\n",
       "      <td>13864.898675</td>\n",
       "      <td>9694.346385</td>\n",
       "    </tr>\n",
       "    <tr>\n",
       "      <th>Grandes Clientes</th>\n",
       "      <td>-9355.078172</td>\n",
       "      <td>36904.673045</td>\n",
       "      <td>13931.186046</td>\n",
       "    </tr>\n",
       "    <tr>\n",
       "      <th>Industriales</th>\n",
       "      <td>-799.985575</td>\n",
       "      <td>1552.922572</td>\n",
       "      <td>371.941773</td>\n",
       "    </tr>\n",
       "    <tr>\n",
       "      <th>Tradicional</th>\n",
       "      <td>6687.109093</td>\n",
       "      <td>64564.806372</td>\n",
       "      <td>35722.211626</td>\n",
       "    </tr>\n",
       "  </tbody>\n",
       "</table>\n",
       "</div>"
      ],
      "text/plain": [
       "                                  Predicción Inferior  Predicción Superior  \\\n",
       "Sector Material Tipo de cliente                                              \n",
       "Cerdo  1020001  Foodservice               -384.389437          1505.780203   \n",
       "                Grandes Clientes          2890.381397         13984.227577   \n",
       "                Industriales             -1190.824817          3460.296218   \n",
       "                Tradicional              45777.955557         86957.032673   \n",
       "       1020003  Foodservice               1546.140432          5217.556588   \n",
       "                Grandes Clientes         -2776.435592         10107.065002   \n",
       "                Industriales             -1287.804945          3059.865966   \n",
       "                Tradicional              12039.328550         51275.381431   \n",
       "       1020010  Foodservice               7843.578681         24836.285842   \n",
       "                Grandes Clientes         16017.595284         39505.235562   \n",
       "                Industriales             -4088.523991          7684.529065   \n",
       "                Tradicional             104176.675840        162003.591892   \n",
       "       1020013  Foodservice                407.669285          5855.125567   \n",
       "                Grandes Clientes         21773.158244         76778.603068   \n",
       "                Industriales             -6304.969727         12946.423604   \n",
       "                Tradicional             142905.833624        255737.766040   \n",
       "       1020027  Foodservice                140.015084          3520.527836   \n",
       "                Grandes Clientes          6299.857975         21439.255198   \n",
       "                Industriales             -2019.938590          5511.769150   \n",
       "                Tradicional              49860.877763         98436.605422   \n",
       "       1020042  Foodservice               -215.758197           981.418819   \n",
       "                Grandes Clientes           532.588822          8919.499207   \n",
       "                Industriales              4106.656364         10986.175896   \n",
       "                Tradicional               8136.478966         25362.778821   \n",
       "       1020253  Foodservice              11130.108158         19136.440252   \n",
       "                Grandes Clientes          1471.299143         11508.816841   \n",
       "                Industriales              -365.514777          4531.822967   \n",
       "                Tradicional              39343.762551         75869.412558   \n",
       "Pollo  1010002  Foodservice               -125.800382         14244.111407   \n",
       "                Grandes Clientes         17374.417068         47431.384499   \n",
       "                Industriales              -200.869934          2418.199381   \n",
       "                Tradicional             114153.846452        198092.469532   \n",
       "       1010048  Foodservice              21389.067184         42688.072704   \n",
       "                Grandes Clientes        -14600.886544         55503.406541   \n",
       "                Industriales                44.569988          3449.849206   \n",
       "                Tradicional              78505.307807        224972.669962   \n",
       "       1010077  Foodservice                883.807814          3820.322647   \n",
       "                Grandes Clientes         -2512.639551          2692.275703   \n",
       "                Industriales              -657.385296           539.924208   \n",
       "                Tradicional              14323.015750         41430.885507   \n",
       "       1010078  Foodservice              42604.902383         64910.179387   \n",
       "                Grandes Clientes         28256.587854        121387.969042   \n",
       "                Industriales              2013.644894         13693.936900   \n",
       "                Tradicional             466769.179355        734893.396518   \n",
       "       1010267  Foodservice              85472.932623        152750.405901   \n",
       "                Grandes Clientes        -13836.856148         23675.181331   \n",
       "                Industriales            -17494.021297         15618.255789   \n",
       "                Tradicional              40578.889658        125176.658303   \n",
       "       1010695  Foodservice               5597.004197         13864.898675   \n",
       "                Grandes Clientes         -9355.078172         36904.673045   \n",
       "                Industriales              -799.985575          1552.922572   \n",
       "                Tradicional               6687.109093         64564.806372   \n",
       "\n",
       "                                  Predicción central  \n",
       "Sector Material Tipo de cliente                       \n",
       "Cerdo  1020001  Foodservice               563.198208  \n",
       "                Grandes Clientes         8399.880932  \n",
       "                Industriales             1114.044255  \n",
       "                Tradicional             66329.691785  \n",
       "       1020003  Foodservice              3394.786550  \n",
       "                Grandes Clientes         3605.515969  \n",
       "                Industriales              944.136530  \n",
       "                Tradicional             31805.804263  \n",
       "       1020010  Foodservice             16032.804416  \n",
       "                Grandes Clientes        27886.265524  \n",
       "                Industriales             1659.549152  \n",
       "                Tradicional            133604.057295  \n",
       "       1020013  Foodservice              3160.944177  \n",
       "                Grandes Clientes        48951.134832  \n",
       "                Industriales             3325.942568  \n",
       "                Tradicional            199302.457091  \n",
       "       1020027  Foodservice              1851.147766  \n",
       "                Grandes Clientes        13834.465894  \n",
       "                Industriales             1685.313195  \n",
       "                Tradicional             73754.388745  \n",
       "       1020042  Foodservice               385.222900  \n",
       "                Grandes Clientes         4630.895932  \n",
       "                Industriales             7486.727243  \n",
       "                Tradicional             16851.594549  \n",
       "       1020253  Foodservice             15173.894676  \n",
       "                Grandes Clientes         6541.444997  \n",
       "                Industriales             2096.039804  \n",
       "                Tradicional             57261.387511  \n",
       "Pollo  1010002  Foodservice              7037.029337  \n",
       "                Grandes Clientes        32434.675354  \n",
       "                Industriales             1093.719850  \n",
       "                Tradicional            157093.401163  \n",
       "       1010048  Foodservice             31940.904928  \n",
       "                Grandes Clientes        19980.326278  \n",
       "                Industriales             1755.507970  \n",
       "                Tradicional            152998.091329  \n",
       "       1010077  Foodservice              2331.304465  \n",
       "                Grandes Clientes           63.913727  \n",
       "                Industriales              -52.356231  \n",
       "                Tradicional             28149.371825  \n",
       "       1010078  Foodservice             53955.173096  \n",
       "                Grandes Clientes        76362.235662  \n",
       "                Industriales             7834.771601  \n",
       "                Tradicional            600998.005866  \n",
       "       1010267  Foodservice            118930.596824  \n",
       "                Grandes Clientes         5280.615702  \n",
       "                Industriales             -594.713882  \n",
       "                Tradicional             83055.052710  \n",
       "       1010695  Foodservice              9694.346385  \n",
       "                Grandes Clientes        13931.186046  \n",
       "                Industriales              371.941773  \n",
       "                Tradicional             35722.211626  "
      ]
     },
     "execution_count": 68,
     "metadata": {},
     "output_type": "execute_result"
    }
   ],
   "source": [
    "df3.groupby(['Sector','Material','Tipo de cliente']).sum()"
   ]
  },
  {
   "cell_type": "code",
   "execution_count": 69,
   "id": "1a01474f",
   "metadata": {
    "hidden": true,
    "scrolled": true
   },
   "outputs": [
    {
     "data": {
      "text/html": [
       "<div>\n",
       "<style scoped>\n",
       "    .dataframe tbody tr th:only-of-type {\n",
       "        vertical-align: middle;\n",
       "    }\n",
       "\n",
       "    .dataframe tbody tr th {\n",
       "        vertical-align: top;\n",
       "    }\n",
       "\n",
       "    .dataframe thead th {\n",
       "        text-align: right;\n",
       "    }\n",
       "</style>\n",
       "<table border=\"1\" class=\"dataframe\">\n",
       "  <thead>\n",
       "    <tr style=\"text-align: right;\">\n",
       "      <th></th>\n",
       "      <th></th>\n",
       "      <th></th>\n",
       "      <th>Predicción Inferior</th>\n",
       "      <th>Predicción Superior</th>\n",
       "      <th>Predicción central</th>\n",
       "    </tr>\n",
       "    <tr>\n",
       "      <th>Sector</th>\n",
       "      <th>Material</th>\n",
       "      <th>Tipo de cliente</th>\n",
       "      <th></th>\n",
       "      <th></th>\n",
       "      <th></th>\n",
       "    </tr>\n",
       "  </thead>\n",
       "  <tbody>\n",
       "    <tr>\n",
       "      <th rowspan=\"28\" valign=\"top\">Cerdo</th>\n",
       "      <th rowspan=\"4\" valign=\"top\">1020001</th>\n",
       "      <th>Foodservice</th>\n",
       "      <td>-384.389437</td>\n",
       "      <td>1505.780203</td>\n",
       "      <td>563.198208</td>\n",
       "    </tr>\n",
       "    <tr>\n",
       "      <th>Grandes Clientes</th>\n",
       "      <td>2890.381397</td>\n",
       "      <td>13984.227577</td>\n",
       "      <td>8399.880932</td>\n",
       "    </tr>\n",
       "    <tr>\n",
       "      <th>Industriales</th>\n",
       "      <td>-1190.824817</td>\n",
       "      <td>3460.296218</td>\n",
       "      <td>1114.044255</td>\n",
       "    </tr>\n",
       "    <tr>\n",
       "      <th>Tradicional</th>\n",
       "      <td>45777.955557</td>\n",
       "      <td>86957.032673</td>\n",
       "      <td>66329.691785</td>\n",
       "    </tr>\n",
       "    <tr>\n",
       "      <th rowspan=\"4\" valign=\"top\">1020003</th>\n",
       "      <th>Foodservice</th>\n",
       "      <td>1546.140432</td>\n",
       "      <td>5217.556588</td>\n",
       "      <td>3394.786550</td>\n",
       "    </tr>\n",
       "    <tr>\n",
       "      <th>Grandes Clientes</th>\n",
       "      <td>-2776.435592</td>\n",
       "      <td>10107.065002</td>\n",
       "      <td>3605.515969</td>\n",
       "    </tr>\n",
       "    <tr>\n",
       "      <th>Industriales</th>\n",
       "      <td>-1287.804945</td>\n",
       "      <td>3059.865966</td>\n",
       "      <td>944.136530</td>\n",
       "    </tr>\n",
       "    <tr>\n",
       "      <th>Tradicional</th>\n",
       "      <td>12039.328550</td>\n",
       "      <td>51275.381431</td>\n",
       "      <td>31805.804263</td>\n",
       "    </tr>\n",
       "    <tr>\n",
       "      <th rowspan=\"4\" valign=\"top\">1020010</th>\n",
       "      <th>Foodservice</th>\n",
       "      <td>7843.578681</td>\n",
       "      <td>24836.285842</td>\n",
       "      <td>16032.804416</td>\n",
       "    </tr>\n",
       "    <tr>\n",
       "      <th>Grandes Clientes</th>\n",
       "      <td>16017.595284</td>\n",
       "      <td>39505.235562</td>\n",
       "      <td>27886.265524</td>\n",
       "    </tr>\n",
       "    <tr>\n",
       "      <th>Industriales</th>\n",
       "      <td>-4088.523991</td>\n",
       "      <td>7684.529065</td>\n",
       "      <td>1659.549152</td>\n",
       "    </tr>\n",
       "    <tr>\n",
       "      <th>Tradicional</th>\n",
       "      <td>104176.675840</td>\n",
       "      <td>162003.591892</td>\n",
       "      <td>133604.057295</td>\n",
       "    </tr>\n",
       "    <tr>\n",
       "      <th rowspan=\"4\" valign=\"top\">1020013</th>\n",
       "      <th>Foodservice</th>\n",
       "      <td>407.669285</td>\n",
       "      <td>5855.125567</td>\n",
       "      <td>3160.944177</td>\n",
       "    </tr>\n",
       "    <tr>\n",
       "      <th>Grandes Clientes</th>\n",
       "      <td>21773.158244</td>\n",
       "      <td>76778.603068</td>\n",
       "      <td>48951.134832</td>\n",
       "    </tr>\n",
       "    <tr>\n",
       "      <th>Industriales</th>\n",
       "      <td>-6304.969727</td>\n",
       "      <td>12946.423604</td>\n",
       "      <td>3325.942568</td>\n",
       "    </tr>\n",
       "    <tr>\n",
       "      <th>Tradicional</th>\n",
       "      <td>142905.833624</td>\n",
       "      <td>255737.766040</td>\n",
       "      <td>199302.457091</td>\n",
       "    </tr>\n",
       "    <tr>\n",
       "      <th rowspan=\"4\" valign=\"top\">1020027</th>\n",
       "      <th>Foodservice</th>\n",
       "      <td>140.015084</td>\n",
       "      <td>3520.527836</td>\n",
       "      <td>1851.147766</td>\n",
       "    </tr>\n",
       "    <tr>\n",
       "      <th>Grandes Clientes</th>\n",
       "      <td>6299.857975</td>\n",
       "      <td>21439.255198</td>\n",
       "      <td>13834.465894</td>\n",
       "    </tr>\n",
       "    <tr>\n",
       "      <th>Industriales</th>\n",
       "      <td>-2019.938590</td>\n",
       "      <td>5511.769150</td>\n",
       "      <td>1685.313195</td>\n",
       "    </tr>\n",
       "    <tr>\n",
       "      <th>Tradicional</th>\n",
       "      <td>49860.877763</td>\n",
       "      <td>98436.605422</td>\n",
       "      <td>73754.388745</td>\n",
       "    </tr>\n",
       "    <tr>\n",
       "      <th rowspan=\"4\" valign=\"top\">1020042</th>\n",
       "      <th>Foodservice</th>\n",
       "      <td>-215.758197</td>\n",
       "      <td>981.418819</td>\n",
       "      <td>385.222900</td>\n",
       "    </tr>\n",
       "    <tr>\n",
       "      <th>Grandes Clientes</th>\n",
       "      <td>532.588822</td>\n",
       "      <td>8919.499207</td>\n",
       "      <td>4630.895932</td>\n",
       "    </tr>\n",
       "    <tr>\n",
       "      <th>Industriales</th>\n",
       "      <td>4106.656364</td>\n",
       "      <td>10986.175896</td>\n",
       "      <td>7486.727243</td>\n",
       "    </tr>\n",
       "    <tr>\n",
       "      <th>Tradicional</th>\n",
       "      <td>8136.478966</td>\n",
       "      <td>25362.778821</td>\n",
       "      <td>16851.594549</td>\n",
       "    </tr>\n",
       "    <tr>\n",
       "      <th rowspan=\"4\" valign=\"top\">1020253</th>\n",
       "      <th>Foodservice</th>\n",
       "      <td>11130.108158</td>\n",
       "      <td>19136.440252</td>\n",
       "      <td>15173.894676</td>\n",
       "    </tr>\n",
       "    <tr>\n",
       "      <th>Grandes Clientes</th>\n",
       "      <td>1471.299143</td>\n",
       "      <td>11508.816841</td>\n",
       "      <td>6541.444997</td>\n",
       "    </tr>\n",
       "    <tr>\n",
       "      <th>Industriales</th>\n",
       "      <td>-365.514777</td>\n",
       "      <td>4531.822967</td>\n",
       "      <td>2096.039804</td>\n",
       "    </tr>\n",
       "    <tr>\n",
       "      <th>Tradicional</th>\n",
       "      <td>39343.762551</td>\n",
       "      <td>75869.412558</td>\n",
       "      <td>57261.387511</td>\n",
       "    </tr>\n",
       "    <tr>\n",
       "      <th rowspan=\"24\" valign=\"top\">Pollo</th>\n",
       "      <th rowspan=\"4\" valign=\"top\">1010002</th>\n",
       "      <th>Foodservice</th>\n",
       "      <td>-125.800382</td>\n",
       "      <td>14244.111407</td>\n",
       "      <td>7037.029337</td>\n",
       "    </tr>\n",
       "    <tr>\n",
       "      <th>Grandes Clientes</th>\n",
       "      <td>17374.417068</td>\n",
       "      <td>47431.384499</td>\n",
       "      <td>32434.675354</td>\n",
       "    </tr>\n",
       "    <tr>\n",
       "      <th>Industriales</th>\n",
       "      <td>-200.869934</td>\n",
       "      <td>2418.199381</td>\n",
       "      <td>1093.719850</td>\n",
       "    </tr>\n",
       "    <tr>\n",
       "      <th>Tradicional</th>\n",
       "      <td>114153.846452</td>\n",
       "      <td>198092.469532</td>\n",
       "      <td>157093.401163</td>\n",
       "    </tr>\n",
       "    <tr>\n",
       "      <th rowspan=\"4\" valign=\"top\">1010048</th>\n",
       "      <th>Foodservice</th>\n",
       "      <td>21389.067184</td>\n",
       "      <td>42688.072704</td>\n",
       "      <td>31940.904928</td>\n",
       "    </tr>\n",
       "    <tr>\n",
       "      <th>Grandes Clientes</th>\n",
       "      <td>-14600.886544</td>\n",
       "      <td>55503.406541</td>\n",
       "      <td>19980.326278</td>\n",
       "    </tr>\n",
       "    <tr>\n",
       "      <th>Industriales</th>\n",
       "      <td>44.569988</td>\n",
       "      <td>3449.849206</td>\n",
       "      <td>1755.507970</td>\n",
       "    </tr>\n",
       "    <tr>\n",
       "      <th>Tradicional</th>\n",
       "      <td>78505.307807</td>\n",
       "      <td>224972.669962</td>\n",
       "      <td>152998.091329</td>\n",
       "    </tr>\n",
       "    <tr>\n",
       "      <th rowspan=\"4\" valign=\"top\">1010077</th>\n",
       "      <th>Foodservice</th>\n",
       "      <td>883.807814</td>\n",
       "      <td>3820.322647</td>\n",
       "      <td>2331.304465</td>\n",
       "    </tr>\n",
       "    <tr>\n",
       "      <th>Grandes Clientes</th>\n",
       "      <td>-2512.639551</td>\n",
       "      <td>2692.275703</td>\n",
       "      <td>63.913727</td>\n",
       "    </tr>\n",
       "    <tr>\n",
       "      <th>Industriales</th>\n",
       "      <td>-657.385296</td>\n",
       "      <td>539.924208</td>\n",
       "      <td>-52.356231</td>\n",
       "    </tr>\n",
       "    <tr>\n",
       "      <th>Tradicional</th>\n",
       "      <td>14323.015750</td>\n",
       "      <td>41430.885507</td>\n",
       "      <td>28149.371825</td>\n",
       "    </tr>\n",
       "    <tr>\n",
       "      <th rowspan=\"4\" valign=\"top\">1010078</th>\n",
       "      <th>Foodservice</th>\n",
       "      <td>42604.902383</td>\n",
       "      <td>64910.179387</td>\n",
       "      <td>53955.173096</td>\n",
       "    </tr>\n",
       "    <tr>\n",
       "      <th>Grandes Clientes</th>\n",
       "      <td>28256.587854</td>\n",
       "      <td>121387.969042</td>\n",
       "      <td>76362.235662</td>\n",
       "    </tr>\n",
       "    <tr>\n",
       "      <th>Industriales</th>\n",
       "      <td>2013.644894</td>\n",
       "      <td>13693.936900</td>\n",
       "      <td>7834.771601</td>\n",
       "    </tr>\n",
       "    <tr>\n",
       "      <th>Tradicional</th>\n",
       "      <td>466769.179355</td>\n",
       "      <td>734893.396518</td>\n",
       "      <td>600998.005866</td>\n",
       "    </tr>\n",
       "    <tr>\n",
       "      <th rowspan=\"4\" valign=\"top\">1010267</th>\n",
       "      <th>Foodservice</th>\n",
       "      <td>85472.932623</td>\n",
       "      <td>152750.405901</td>\n",
       "      <td>118930.596824</td>\n",
       "    </tr>\n",
       "    <tr>\n",
       "      <th>Grandes Clientes</th>\n",
       "      <td>-13836.856148</td>\n",
       "      <td>23675.181331</td>\n",
       "      <td>5280.615702</td>\n",
       "    </tr>\n",
       "    <tr>\n",
       "      <th>Industriales</th>\n",
       "      <td>-17494.021297</td>\n",
       "      <td>15618.255789</td>\n",
       "      <td>-594.713882</td>\n",
       "    </tr>\n",
       "    <tr>\n",
       "      <th>Tradicional</th>\n",
       "      <td>40578.889658</td>\n",
       "      <td>125176.658303</td>\n",
       "      <td>83055.052710</td>\n",
       "    </tr>\n",
       "    <tr>\n",
       "      <th rowspan=\"4\" valign=\"top\">1010695</th>\n",
       "      <th>Foodservice</th>\n",
       "      <td>5597.004197</td>\n",
       "      <td>13864.898675</td>\n",
       "      <td>9694.346385</td>\n",
       "    </tr>\n",
       "    <tr>\n",
       "      <th>Grandes Clientes</th>\n",
       "      <td>-9355.078172</td>\n",
       "      <td>36904.673045</td>\n",
       "      <td>13931.186046</td>\n",
       "    </tr>\n",
       "    <tr>\n",
       "      <th>Industriales</th>\n",
       "      <td>-799.985575</td>\n",
       "      <td>1552.922572</td>\n",
       "      <td>371.941773</td>\n",
       "    </tr>\n",
       "    <tr>\n",
       "      <th>Tradicional</th>\n",
       "      <td>6687.109093</td>\n",
       "      <td>64564.806372</td>\n",
       "      <td>35722.211626</td>\n",
       "    </tr>\n",
       "  </tbody>\n",
       "</table>\n",
       "</div>"
      ],
      "text/plain": [
       "                                  Predicción Inferior  Predicción Superior  \\\n",
       "Sector Material Tipo de cliente                                              \n",
       "Cerdo  1020001  Foodservice               -384.389437          1505.780203   \n",
       "                Grandes Clientes          2890.381397         13984.227577   \n",
       "                Industriales             -1190.824817          3460.296218   \n",
       "                Tradicional              45777.955557         86957.032673   \n",
       "       1020003  Foodservice               1546.140432          5217.556588   \n",
       "                Grandes Clientes         -2776.435592         10107.065002   \n",
       "                Industriales             -1287.804945          3059.865966   \n",
       "                Tradicional              12039.328550         51275.381431   \n",
       "       1020010  Foodservice               7843.578681         24836.285842   \n",
       "                Grandes Clientes         16017.595284         39505.235562   \n",
       "                Industriales             -4088.523991          7684.529065   \n",
       "                Tradicional             104176.675840        162003.591892   \n",
       "       1020013  Foodservice                407.669285          5855.125567   \n",
       "                Grandes Clientes         21773.158244         76778.603068   \n",
       "                Industriales             -6304.969727         12946.423604   \n",
       "                Tradicional             142905.833624        255737.766040   \n",
       "       1020027  Foodservice                140.015084          3520.527836   \n",
       "                Grandes Clientes          6299.857975         21439.255198   \n",
       "                Industriales             -2019.938590          5511.769150   \n",
       "                Tradicional              49860.877763         98436.605422   \n",
       "       1020042  Foodservice               -215.758197           981.418819   \n",
       "                Grandes Clientes           532.588822          8919.499207   \n",
       "                Industriales              4106.656364         10986.175896   \n",
       "                Tradicional               8136.478966         25362.778821   \n",
       "       1020253  Foodservice              11130.108158         19136.440252   \n",
       "                Grandes Clientes          1471.299143         11508.816841   \n",
       "                Industriales              -365.514777          4531.822967   \n",
       "                Tradicional              39343.762551         75869.412558   \n",
       "Pollo  1010002  Foodservice               -125.800382         14244.111407   \n",
       "                Grandes Clientes         17374.417068         47431.384499   \n",
       "                Industriales              -200.869934          2418.199381   \n",
       "                Tradicional             114153.846452        198092.469532   \n",
       "       1010048  Foodservice              21389.067184         42688.072704   \n",
       "                Grandes Clientes        -14600.886544         55503.406541   \n",
       "                Industriales                44.569988          3449.849206   \n",
       "                Tradicional              78505.307807        224972.669962   \n",
       "       1010077  Foodservice                883.807814          3820.322647   \n",
       "                Grandes Clientes         -2512.639551          2692.275703   \n",
       "                Industriales              -657.385296           539.924208   \n",
       "                Tradicional              14323.015750         41430.885507   \n",
       "       1010078  Foodservice              42604.902383         64910.179387   \n",
       "                Grandes Clientes         28256.587854        121387.969042   \n",
       "                Industriales              2013.644894         13693.936900   \n",
       "                Tradicional             466769.179355        734893.396518   \n",
       "       1010267  Foodservice              85472.932623        152750.405901   \n",
       "                Grandes Clientes        -13836.856148         23675.181331   \n",
       "                Industriales            -17494.021297         15618.255789   \n",
       "                Tradicional              40578.889658        125176.658303   \n",
       "       1010695  Foodservice               5597.004197         13864.898675   \n",
       "                Grandes Clientes         -9355.078172         36904.673045   \n",
       "                Industriales              -799.985575          1552.922572   \n",
       "                Tradicional               6687.109093         64564.806372   \n",
       "\n",
       "                                  Predicción central  \n",
       "Sector Material Tipo de cliente                       \n",
       "Cerdo  1020001  Foodservice               563.198208  \n",
       "                Grandes Clientes         8399.880932  \n",
       "                Industriales             1114.044255  \n",
       "                Tradicional             66329.691785  \n",
       "       1020003  Foodservice              3394.786550  \n",
       "                Grandes Clientes         3605.515969  \n",
       "                Industriales              944.136530  \n",
       "                Tradicional             31805.804263  \n",
       "       1020010  Foodservice             16032.804416  \n",
       "                Grandes Clientes        27886.265524  \n",
       "                Industriales             1659.549152  \n",
       "                Tradicional            133604.057295  \n",
       "       1020013  Foodservice              3160.944177  \n",
       "                Grandes Clientes        48951.134832  \n",
       "                Industriales             3325.942568  \n",
       "                Tradicional            199302.457091  \n",
       "       1020027  Foodservice              1851.147766  \n",
       "                Grandes Clientes        13834.465894  \n",
       "                Industriales             1685.313195  \n",
       "                Tradicional             73754.388745  \n",
       "       1020042  Foodservice               385.222900  \n",
       "                Grandes Clientes         4630.895932  \n",
       "                Industriales             7486.727243  \n",
       "                Tradicional             16851.594549  \n",
       "       1020253  Foodservice             15173.894676  \n",
       "                Grandes Clientes         6541.444997  \n",
       "                Industriales             2096.039804  \n",
       "                Tradicional             57261.387511  \n",
       "Pollo  1010002  Foodservice              7037.029337  \n",
       "                Grandes Clientes        32434.675354  \n",
       "                Industriales             1093.719850  \n",
       "                Tradicional            157093.401163  \n",
       "       1010048  Foodservice             31940.904928  \n",
       "                Grandes Clientes        19980.326278  \n",
       "                Industriales             1755.507970  \n",
       "                Tradicional            152998.091329  \n",
       "       1010077  Foodservice              2331.304465  \n",
       "                Grandes Clientes           63.913727  \n",
       "                Industriales              -52.356231  \n",
       "                Tradicional             28149.371825  \n",
       "       1010078  Foodservice             53955.173096  \n",
       "                Grandes Clientes        76362.235662  \n",
       "                Industriales             7834.771601  \n",
       "                Tradicional            600998.005866  \n",
       "       1010267  Foodservice            118930.596824  \n",
       "                Grandes Clientes         5280.615702  \n",
       "                Industriales             -594.713882  \n",
       "                Tradicional             83055.052710  \n",
       "       1010695  Foodservice              9694.346385  \n",
       "                Grandes Clientes        13931.186046  \n",
       "                Industriales              371.941773  \n",
       "                Tradicional             35722.211626  "
      ]
     },
     "execution_count": 69,
     "metadata": {},
     "output_type": "execute_result"
    }
   ],
   "source": [
    "df3.groupby(['Sector','Material','Tipo de cliente']).sum()"
   ]
  },
  {
   "cell_type": "markdown",
   "id": "681e786d",
   "metadata": {
    "heading_collapsed": true
   },
   "source": [
    "## Predicción selecionada "
   ]
  },
  {
   "cell_type": "markdown",
   "id": "8f501737",
   "metadata": {
    "hidden": true
   },
   "source": [
    "### Sucursal "
   ]
  },
  {
   "cell_type": "code",
   "execution_count": 36,
   "id": "e55973b8",
   "metadata": {
    "hidden": true,
    "scrolled": false
   },
   "outputs": [
    {
     "name": "stderr",
     "output_type": "stream",
     "text": [
      "INFO:fbprophet:Disabling daily seasonality. Run prophet with daily_seasonality=True to override this.\n"
     ]
    },
    {
     "data": {
      "text/html": [
       "<div>\n",
       "<style scoped>\n",
       "    .dataframe tbody tr th:only-of-type {\n",
       "        vertical-align: middle;\n",
       "    }\n",
       "\n",
       "    .dataframe tbody tr th {\n",
       "        vertical-align: top;\n",
       "    }\n",
       "\n",
       "    .dataframe thead th {\n",
       "        text-align: right;\n",
       "    }\n",
       "</style>\n",
       "<table border=\"1\" class=\"dataframe\">\n",
       "  <thead>\n",
       "    <tr style=\"text-align: right;\">\n",
       "      <th></th>\n",
       "      <th>ds</th>\n",
       "      <th>yhat_lower</th>\n",
       "      <th>yhat_upper</th>\n",
       "      <th>yhat</th>\n",
       "      <th>Material</th>\n",
       "      <th>Oficina de Ventas Unifica</th>\n",
       "      <th>Zona de ventas.1</th>\n",
       "    </tr>\n",
       "  </thead>\n",
       "  <tbody>\n",
       "    <tr>\n",
       "      <th>0</th>\n",
       "      <td>2021-06-13</td>\n",
       "      <td>-57.465248</td>\n",
       "      <td>135.318944</td>\n",
       "      <td>34.900493</td>\n",
       "      <td>1020253</td>\n",
       "      <td>Arica</td>\n",
       "      <td>Norte</td>\n",
       "    </tr>\n",
       "    <tr>\n",
       "      <th>1</th>\n",
       "      <td>2021-06-14</td>\n",
       "      <td>-48.317796</td>\n",
       "      <td>150.183209</td>\n",
       "      <td>49.715464</td>\n",
       "      <td>1020253</td>\n",
       "      <td>Arica</td>\n",
       "      <td>Norte</td>\n",
       "    </tr>\n",
       "    <tr>\n",
       "      <th>2</th>\n",
       "      <td>2021-06-15</td>\n",
       "      <td>-64.998028</td>\n",
       "      <td>141.065270</td>\n",
       "      <td>38.686661</td>\n",
       "      <td>1020253</td>\n",
       "      <td>Arica</td>\n",
       "      <td>Norte</td>\n",
       "    </tr>\n",
       "    <tr>\n",
       "      <th>3</th>\n",
       "      <td>2021-06-16</td>\n",
       "      <td>-24.261868</td>\n",
       "      <td>179.338739</td>\n",
       "      <td>78.271628</td>\n",
       "      <td>1020253</td>\n",
       "      <td>Arica</td>\n",
       "      <td>Norte</td>\n",
       "    </tr>\n",
       "    <tr>\n",
       "      <th>4</th>\n",
       "      <td>2021-06-17</td>\n",
       "      <td>-45.382790</td>\n",
       "      <td>160.775120</td>\n",
       "      <td>57.973342</td>\n",
       "      <td>1020253</td>\n",
       "      <td>Arica</td>\n",
       "      <td>Norte</td>\n",
       "    </tr>\n",
       "  </tbody>\n",
       "</table>\n",
       "</div>"
      ],
      "text/plain": [
       "          ds  yhat_lower  yhat_upper       yhat Material  \\\n",
       "0 2021-06-13  -57.465248  135.318944  34.900493  1020253   \n",
       "1 2021-06-14  -48.317796  150.183209  49.715464  1020253   \n",
       "2 2021-06-15  -64.998028  141.065270  38.686661  1020253   \n",
       "3 2021-06-16  -24.261868  179.338739  78.271628  1020253   \n",
       "4 2021-06-17  -45.382790  160.775120  57.973342  1020253   \n",
       "\n",
       "  Oficina de Ventas Unifica Zona de ventas.1  \n",
       "0                     Arica            Norte  \n",
       "1                     Arica            Norte  \n",
       "2                     Arica            Norte  \n",
       "3                     Arica            Norte  \n",
       "4                     Arica            Norte  "
      ]
     },
     "execution_count": 36,
     "metadata": {},
     "output_type": "execute_result"
    }
   ],
   "source": [
    "df2 = pd.DataFrame(columns=['ds', 'yhat_lower', 'yhat_upper', 'yhat', 'Material','Oficina de Ventas Unifica', 'Zona de ventas.1'])\n",
    "\n",
    "\n",
    "Listado_de_zonas=data['Zona de ventas.1'].unique()\n",
    "\n",
    "#for z in Listado_de_zonas:\n",
    "Z='Norte'\n",
    "\n",
    "dfz=data#Df_ubic(data,'Zona de ventas.1',Z)\n",
    "\n",
    "Listado_de_Sucursales=dfz['Oficina de Ventas Unifica'].unique()\n",
    "\n",
    "#for y in Listado_de_Sucursales:\n",
    "\n",
    "y='Arica'\n",
    "dfy=Df_ubic(dfz,'Oficina de Ventas Unifica',y)\n",
    "\n",
    "\n",
    "Listado_de_Materiales=dfy['Material'].unique()\n",
    "\n",
    "#for m in Listado_de_Materiales:\n",
    "m=Listado_de_Materiales[0]\n",
    "dfm=Df_ubic(dfy,'Material',m).groupby('Día natural').sum().reset_index()[['Día natural',y_col]]\n",
    "\n",
    "dfmPred=Predict_sem(dfm,7)[['ds', 'yhat_lower', 'yhat_upper', 'yhat']].tail(6)\n",
    "dfmPred['Material']=[m for i in range(dfmPred.shape[0])]\n",
    "dfmPred['Oficina de Ventas Unifica']=[y for i in range(dfmPred.shape[0])]\n",
    "dfmPred['Zona de ventas.1']=[Z for i in range(dfmPred.shape[0])]\n",
    "dfmPred=dfmPred.reset_index()\n",
    "dfmPred.pop('index')\n",
    "df2=pd.concat([df2, dfmPred])\n",
    "df2.head()"
   ]
  },
  {
   "cell_type": "markdown",
   "id": "7a69b935",
   "metadata": {
    "hidden": true
   },
   "source": [
    "### Zona "
   ]
  },
  {
   "cell_type": "code",
   "execution_count": 37,
   "id": "40df35ae",
   "metadata": {
    "hidden": true,
    "scrolled": false
   },
   "outputs": [
    {
     "name": "stderr",
     "output_type": "stream",
     "text": [
      "INFO:fbprophet:Disabling daily seasonality. Run prophet with daily_seasonality=True to override this.\n"
     ]
    },
    {
     "data": {
      "text/html": [
       "<div>\n",
       "<style scoped>\n",
       "    .dataframe tbody tr th:only-of-type {\n",
       "        vertical-align: middle;\n",
       "    }\n",
       "\n",
       "    .dataframe tbody tr th {\n",
       "        vertical-align: top;\n",
       "    }\n",
       "\n",
       "    .dataframe thead th {\n",
       "        text-align: right;\n",
       "    }\n",
       "</style>\n",
       "<table border=\"1\" class=\"dataframe\">\n",
       "  <thead>\n",
       "    <tr style=\"text-align: right;\">\n",
       "      <th></th>\n",
       "      <th>ds</th>\n",
       "      <th>yhat_lower</th>\n",
       "      <th>yhat_upper</th>\n",
       "      <th>yhat</th>\n",
       "      <th>Material</th>\n",
       "      <th>Oficina de Ventas Unifica</th>\n",
       "      <th>Zona de ventas.1</th>\n",
       "    </tr>\n",
       "  </thead>\n",
       "  <tbody>\n",
       "    <tr>\n",
       "      <th>0</th>\n",
       "      <td>2021-06-13</td>\n",
       "      <td>2255.909436</td>\n",
       "      <td>11048.439429</td>\n",
       "      <td>6663.595223</td>\n",
       "      <td>1020253</td>\n",
       "      <td>NaN</td>\n",
       "      <td>Santiago</td>\n",
       "    </tr>\n",
       "    <tr>\n",
       "      <th>1</th>\n",
       "      <td>2021-06-14</td>\n",
       "      <td>6155.265265</td>\n",
       "      <td>14977.040561</td>\n",
       "      <td>10707.495410</td>\n",
       "      <td>1020253</td>\n",
       "      <td>NaN</td>\n",
       "      <td>Santiago</td>\n",
       "    </tr>\n",
       "    <tr>\n",
       "      <th>2</th>\n",
       "      <td>2021-06-15</td>\n",
       "      <td>8321.529271</td>\n",
       "      <td>17012.659354</td>\n",
       "      <td>12744.569866</td>\n",
       "      <td>1020253</td>\n",
       "      <td>NaN</td>\n",
       "      <td>Santiago</td>\n",
       "    </tr>\n",
       "    <tr>\n",
       "      <th>3</th>\n",
       "      <td>2021-06-16</td>\n",
       "      <td>9872.628696</td>\n",
       "      <td>18703.024312</td>\n",
       "      <td>14287.205309</td>\n",
       "      <td>1020253</td>\n",
       "      <td>NaN</td>\n",
       "      <td>Santiago</td>\n",
       "    </tr>\n",
       "    <tr>\n",
       "      <th>4</th>\n",
       "      <td>2021-06-17</td>\n",
       "      <td>10764.097397</td>\n",
       "      <td>19676.243419</td>\n",
       "      <td>15291.635632</td>\n",
       "      <td>1020253</td>\n",
       "      <td>NaN</td>\n",
       "      <td>Santiago</td>\n",
       "    </tr>\n",
       "  </tbody>\n",
       "</table>\n",
       "</div>"
      ],
      "text/plain": [
       "          ds    yhat_lower    yhat_upper          yhat Material  \\\n",
       "0 2021-06-13   2255.909436  11048.439429   6663.595223  1020253   \n",
       "1 2021-06-14   6155.265265  14977.040561  10707.495410  1020253   \n",
       "2 2021-06-15   8321.529271  17012.659354  12744.569866  1020253   \n",
       "3 2021-06-16   9872.628696  18703.024312  14287.205309  1020253   \n",
       "4 2021-06-17  10764.097397  19676.243419  15291.635632  1020253   \n",
       "\n",
       "  Oficina de Ventas Unifica Zona de ventas.1  \n",
       "0                       NaN         Santiago  \n",
       "1                       NaN         Santiago  \n",
       "2                       NaN         Santiago  \n",
       "3                       NaN         Santiago  \n",
       "4                       NaN         Santiago  "
      ]
     },
     "execution_count": 37,
     "metadata": {},
     "output_type": "execute_result"
    }
   ],
   "source": [
    "df2 = pd.DataFrame(columns=['ds', 'yhat_lower', 'yhat_upper', 'yhat', 'Material','Oficina de Ventas Unifica', 'Zona de ventas.1'])\n",
    "\n",
    "\n",
    "Listado_de_zonas=data['Zona de ventas.1'].unique()\n",
    "\n",
    "#for z in Listado_de_zonas:\n",
    "Z='Santiago'\n",
    "\n",
    "dfz=data#Df_ubic(data,'Zona de ventas.1',Z)\n",
    "\n",
    "\n",
    "Listado_de_Materiales=dfz['Material'].unique()\n",
    "\n",
    "#for m in Listado_de_Materiales:\n",
    "m=Listado_de_Materiales[0]\n",
    "dfm=Df_ubic(dfz,'Material',m).groupby('Día natural').sum().reset_index()[['Día natural',y_col]]\n",
    "\n",
    "dfmPred=Predict_sem(dfm,7)[['ds', 'yhat_lower', 'yhat_upper', 'yhat']].tail(6)\n",
    "dfmPred['Material']=[m for i in range(dfmPred.shape[0])]\n",
    "#dfmPred['Oficina de Ventas Unifica']=[y for i in range(dfmPred.shape[0])]\n",
    "dfmPred['Zona de ventas.1']=[Z for i in range(dfmPred.shape[0])]\n",
    "dfmPred=dfmPred.reset_index()\n",
    "dfmPred.pop('index')\n",
    "df2=pd.concat([df2, dfmPred])\n",
    "df2.head()"
   ]
  },
  {
   "cell_type": "markdown",
   "id": "06e1cbd9",
   "metadata": {
    "heading_collapsed": true
   },
   "source": [
    "# Predicción Iterativa  "
   ]
  },
  {
   "cell_type": "markdown",
   "id": "b4f9ee0b",
   "metadata": {
    "hidden": true
   },
   "source": [
    "## Iteración 1 zona"
   ]
  },
  {
   "cell_type": "code",
   "execution_count": 85,
   "id": "4e40c4b8",
   "metadata": {
    "hidden": true,
    "scrolled": true
   },
   "outputs": [
    {
     "name": "stdout",
     "output_type": "stream",
     "text": [
      "Antofagasta"
     ]
    },
    {
     "name": "stderr",
     "output_type": "stream",
     "text": [
      "INFO:fbprophet:Disabling daily seasonality. Run prophet with daily_seasonality=True to override this.\n"
     ]
    },
    {
     "name": "stdout",
     "output_type": "stream",
     "text": [
      " 1020253\n"
     ]
    },
    {
     "name": "stderr",
     "output_type": "stream",
     "text": [
      "INFO:fbprophet:Disabling daily seasonality. Run prophet with daily_seasonality=True to override this.\n"
     ]
    },
    {
     "name": "stdout",
     "output_type": "stream",
     "text": [
      "El producto demoró 1.5248103141784668 Norte Antofagasta\n",
      "tiempo que lleva corriendo 0.02821591297785441 Min\n",
      "Antofagasta 1020027\n"
     ]
    },
    {
     "name": "stderr",
     "output_type": "stream",
     "text": [
      "INFO:fbprophet:Disabling daily seasonality. Run prophet with daily_seasonality=True to override this.\n"
     ]
    },
    {
     "name": "stdout",
     "output_type": "stream",
     "text": [
      "El producto demoró 1.617389440536499 Norte Antofagasta\n",
      "tiempo que lleva corriendo 0.055180736382802326 Min\n",
      "Antofagasta 1020013\n"
     ]
    },
    {
     "name": "stderr",
     "output_type": "stream",
     "text": [
      "INFO:fbprophet:Disabling daily seasonality. Run prophet with daily_seasonality=True to override this.\n"
     ]
    },
    {
     "name": "stdout",
     "output_type": "stream",
     "text": [
      "El producto demoró 1.556837797164917 Norte Antofagasta\n",
      "tiempo que lleva corriendo 0.08113637367884317 Min\n",
      "Antofagasta 1020010\n"
     ]
    },
    {
     "name": "stderr",
     "output_type": "stream",
     "text": [
      "INFO:fbprophet:Disabling daily seasonality. Run prophet with daily_seasonality=True to override this.\n"
     ]
    },
    {
     "name": "stdout",
     "output_type": "stream",
     "text": [
      "El producto demoró 1.8741097450256348 Norte Antofagasta\n",
      "tiempo que lleva corriendo 0.11238822539647421 Min\n",
      "Antofagasta 1020003\n"
     ]
    },
    {
     "name": "stderr",
     "output_type": "stream",
     "text": [
      "INFO:fbprophet:Disabling daily seasonality. Run prophet with daily_seasonality=True to override this.\n"
     ]
    },
    {
     "name": "stdout",
     "output_type": "stream",
     "text": [
      "El producto demoró 1.6644291877746582 Norte Antofagasta\n",
      "tiempo que lleva corriendo 0.14013704856236775 Min\n",
      "Antofagasta 1020001\n"
     ]
    },
    {
     "name": "stderr",
     "output_type": "stream",
     "text": [
      "INFO:fbprophet:Disabling daily seasonality. Run prophet with daily_seasonality=True to override this.\n"
     ]
    },
    {
     "name": "stdout",
     "output_type": "stream",
     "text": [
      "El producto demoró 1.5213077068328857 Norte Antofagasta\n",
      "tiempo que lleva corriendo 0.16549217700958252 Min\n",
      "Antofagasta 1010695\n"
     ]
    },
    {
     "name": "stderr",
     "output_type": "stream",
     "text": [
      "INFO:fbprophet:Disabling daily seasonality. Run prophet with daily_seasonality=True to override this.\n"
     ]
    },
    {
     "name": "stdout",
     "output_type": "stream",
     "text": [
      "El producto demoró 1.4752671718597412 Norte Antofagasta\n",
      "tiempo que lleva corriendo 0.19009663263956705 Min\n",
      "Antofagasta 1010267\n"
     ]
    },
    {
     "name": "stderr",
     "output_type": "stream",
     "text": [
      "INFO:fbprophet:Disabling daily seasonality. Run prophet with daily_seasonality=True to override this.\n"
     ]
    },
    {
     "name": "stdout",
     "output_type": "stream",
     "text": [
      "El producto demoró 1.6324021816253662 Norte Antofagasta\n",
      "tiempo que lleva corriendo 0.21732001701990764 Min\n",
      "Antofagasta 1010078\n"
     ]
    },
    {
     "name": "stderr",
     "output_type": "stream",
     "text": [
      "INFO:fbprophet:Disabling daily seasonality. Run prophet with daily_seasonality=True to override this.\n"
     ]
    },
    {
     "name": "stdout",
     "output_type": "stream",
     "text": [
      "El producto demoró 1.4817719459533691 Norte Antofagasta\n",
      "tiempo que lleva corriendo 0.2420329173405965 Min\n",
      "Antofagasta 1010077\n"
     ]
    },
    {
     "name": "stderr",
     "output_type": "stream",
     "text": [
      "INFO:fbprophet:Disabling daily seasonality. Run prophet with daily_seasonality=True to override this.\n"
     ]
    },
    {
     "name": "stdout",
     "output_type": "stream",
     "text": [
      "El producto demoró 1.601876974105835 Norte Antofagasta\n",
      "tiempo que lleva corriendo 0.26875588099161785 Min\n",
      "Antofagasta 1010048\n"
     ]
    },
    {
     "name": "stderr",
     "output_type": "stream",
     "text": [
      "INFO:fbprophet:Disabling daily seasonality. Run prophet with daily_seasonality=True to override this.\n"
     ]
    },
    {
     "name": "stdout",
     "output_type": "stream",
     "text": [
      "El producto demoró 2.052263021469116 Norte Antofagasta\n",
      "tiempo que lleva corriendo 0.30297693411509197 Min\n",
      "Antofagasta 1010002\n"
     ]
    },
    {
     "name": "stderr",
     "output_type": "stream",
     "text": [
      "INFO:fbprophet:Disabling daily seasonality. Run prophet with daily_seasonality=True to override this.\n"
     ]
    },
    {
     "name": "stdout",
     "output_type": "stream",
     "text": [
      "El producto demoró 2.128328323364258 Norte Antofagasta\n",
      "tiempo que lleva corriendo 0.33845741748809816 Min\n",
      "Arica 1020253\n"
     ]
    },
    {
     "name": "stderr",
     "output_type": "stream",
     "text": [
      "INFO:fbprophet:Disabling daily seasonality. Run prophet with daily_seasonality=True to override this.\n"
     ]
    },
    {
     "name": "stdout",
     "output_type": "stream",
     "text": [
      "El producto demoró 1.483273983001709 Norte Arica\n",
      "tiempo que lleva corriendo 0.3634121855099996 Min\n",
      "Arica 1020027\n"
     ]
    },
    {
     "name": "stderr",
     "output_type": "stream",
     "text": [
      "INFO:fbprophet:Disabling daily seasonality. Run prophet with daily_seasonality=True to override this.\n"
     ]
    },
    {
     "name": "stdout",
     "output_type": "stream",
     "text": [
      "El producto demoró 1.8065521717071533 Norte Arica\n",
      "tiempo que lleva corriendo 0.3935547391573588 Min\n",
      "Arica 1020013\n"
     ]
    },
    {
     "name": "stderr",
     "output_type": "stream",
     "text": [
      "INFO:fbprophet:Disabling daily seasonality. Run prophet with daily_seasonality=True to override this.\n"
     ]
    },
    {
     "name": "stdout",
     "output_type": "stream",
     "text": [
      "El producto demoró 1.547330379486084 Norte Arica\n",
      "tiempo que lleva corriendo 0.419368580977122 Min\n",
      "Arica 1020010\n"
     ]
    },
    {
     "name": "stderr",
     "output_type": "stream",
     "text": [
      "INFO:fbprophet:Disabling daily seasonality. Run prophet with daily_seasonality=True to override this.\n"
     ]
    },
    {
     "name": "stdout",
     "output_type": "stream",
     "text": [
      "El producto demoró 1.6619281768798828 Norte Arica\n",
      "tiempo que lleva corriendo 0.4470840573310852 Min\n",
      "Arica 1020001\n"
     ]
    },
    {
     "name": "stderr",
     "output_type": "stream",
     "text": [
      "INFO:fbprophet:Disabling daily seasonality. Run prophet with daily_seasonality=True to override this.\n"
     ]
    },
    {
     "name": "stdout",
     "output_type": "stream",
     "text": [
      "El producto demoró 1.5092966556549072 Norte Arica\n",
      "tiempo que lleva corriendo 0.472264023621877 Min\n",
      "Arica 1010695\n",
      "El producto demoró 0.006005048751831055 Norte Arica\n",
      "tiempo que lleva corriendo 0.47237244844436643 Min\n",
      "Arica 1010267\n"
     ]
    },
    {
     "name": "stderr",
     "output_type": "stream",
     "text": [
      "INFO:fbprophet:Disabling daily seasonality. Run prophet with daily_seasonality=True to override this.\n"
     ]
    },
    {
     "name": "stdout",
     "output_type": "stream",
     "text": [
      "El producto demoró 1.4932832717895508 Norte Arica\n",
      "tiempo que lleva corriendo 0.49727718432744344 Min\n",
      "Arica 1010078\n"
     ]
    },
    {
     "name": "stderr",
     "output_type": "stream",
     "text": [
      "INFO:fbprophet:Disabling daily seasonality. Run prophet with daily_seasonality=True to override this.\n"
     ]
    },
    {
     "name": "stdout",
     "output_type": "stream",
     "text": [
      "El producto demoró 1.95768141746521 Norte Arica\n",
      "tiempo que lleva corriendo 0.5299135446548462 Min\n",
      "Arica 1010077\n"
     ]
    },
    {
     "name": "stderr",
     "output_type": "stream",
     "text": [
      "INFO:fbprophet:Disabling daily seasonality. Run prophet with daily_seasonality=True to override this.\n"
     ]
    },
    {
     "name": "stdout",
     "output_type": "stream",
     "text": [
      "El producto demoró 1.5318162441253662 Norte Arica\n",
      "tiempo que lleva corriendo 0.5554521560668946 Min\n",
      "Arica 1010048\n"
     ]
    },
    {
     "name": "stderr",
     "output_type": "stream",
     "text": [
      "INFO:fbprophet:Disabling daily seasonality. Run prophet with daily_seasonality=True to override this.\n"
     ]
    },
    {
     "name": "stdout",
     "output_type": "stream",
     "text": [
      "El producto demoró 2.7698795795440674 Norte Arica\n",
      "tiempo que lleva corriendo 0.6016334851582845 Min\n",
      "Arica 1010002\n"
     ]
    },
    {
     "name": "stderr",
     "output_type": "stream",
     "text": [
      "INFO:fbprophet:Disabling daily seasonality. Run prophet with daily_seasonality=True to override this.\n"
     ]
    },
    {
     "name": "stdout",
     "output_type": "stream",
     "text": [
      "El producto demoró 1.933661699295044 Norte Arica\n",
      "tiempo que lleva corriendo 0.6338778495788574 Min\n",
      "Arica 1020042\n",
      "El producto demoró 0.00550532341003418 Norte Arica\n",
      "tiempo que lleva corriendo 0.6339862783749898 Min\n",
      "Arica 1020003\n"
     ]
    },
    {
     "name": "stderr",
     "output_type": "stream",
     "text": [
      "INFO:fbprophet:Disabling daily seasonality. Run prophet with daily_seasonality=True to override this.\n"
     ]
    },
    {
     "name": "stdout",
     "output_type": "stream",
     "text": [
      "El producto demoró 1.5483300685882568 Norte Arica\n",
      "tiempo que lleva corriendo 0.6598084568977356 Min\n",
      "Calama 1020253\n"
     ]
    },
    {
     "name": "stderr",
     "output_type": "stream",
     "text": [
      "INFO:fbprophet:Disabling daily seasonality. Run prophet with daily_seasonality=True to override this.\n"
     ]
    },
    {
     "name": "stdout",
     "output_type": "stream",
     "text": [
      "El producto demoró 1.5438263416290283 Norte Calama\n",
      "tiempo que lleva corriendo 0.685772438844045 Min\n",
      "Calama 1020027\n"
     ]
    },
    {
     "name": "stderr",
     "output_type": "stream",
     "text": [
      "INFO:fbprophet:Disabling daily seasonality. Run prophet with daily_seasonality=True to override this.\n"
     ]
    },
    {
     "name": "stdout",
     "output_type": "stream",
     "text": [
      "El producto demoró 3.512516975402832 Norte Calama\n",
      "tiempo que lleva corriendo 0.7443310697873433 Min\n",
      "Calama 1020013\n"
     ]
    },
    {
     "name": "stderr",
     "output_type": "stream",
     "text": [
      "INFO:fbprophet:Disabling daily seasonality. Run prophet with daily_seasonality=True to override this.\n"
     ]
    },
    {
     "name": "stdout",
     "output_type": "stream",
     "text": [
      "El producto demoró 1.529313564300537 Norte Calama\n",
      "tiempo que lleva corriendo 0.7698279698689778 Min\n",
      "Calama 1020010\n"
     ]
    },
    {
     "name": "stderr",
     "output_type": "stream",
     "text": [
      "INFO:fbprophet:Disabling daily seasonality. Run prophet with daily_seasonality=True to override this.\n"
     ]
    },
    {
     "name": "stdout",
     "output_type": "stream",
     "text": [
      "El producto demoró 1.7379932403564453 Norte Calama\n",
      "tiempo que lleva corriendo 0.7988112012545268 Min\n",
      "Calama 1020003\n"
     ]
    },
    {
     "name": "stderr",
     "output_type": "stream",
     "text": [
      "INFO:fbprophet:Disabling daily seasonality. Run prophet with daily_seasonality=True to override this.\n"
     ]
    },
    {
     "name": "stdout",
     "output_type": "stream",
     "text": [
      "El producto demoró 1.5208070278167725 Norte Calama\n",
      "tiempo que lleva corriendo 0.8241830031077068 Min\n",
      "Calama 1020001\n"
     ]
    },
    {
     "name": "stderr",
     "output_type": "stream",
     "text": [
      "INFO:fbprophet:Disabling daily seasonality. Run prophet with daily_seasonality=True to override this.\n"
     ]
    },
    {
     "name": "stdout",
     "output_type": "stream",
     "text": [
      "El producto demoró 1.5653445720672607 Norte Calama\n",
      "tiempo que lleva corriendo 0.8502970933914185 Min\n",
      "Calama 1010695\n",
      "El producto demoró 0.007005929946899414 Norte Calama\n",
      "tiempo que lleva corriendo 0.850422199567159 Min\n",
      "Calama 1010267\n"
     ]
    },
    {
     "name": "stderr",
     "output_type": "stream",
     "text": [
      "INFO:fbprophet:Disabling daily seasonality. Run prophet with daily_seasonality=True to override this.\n"
     ]
    },
    {
     "name": "stdout",
     "output_type": "stream",
     "text": [
      "El producto demoró 1.6098830699920654 Norte Calama\n",
      "tiempo que lleva corriendo 0.8772619247436524 Min\n",
      "Calama 1010078\n"
     ]
    },
    {
     "name": "stderr",
     "output_type": "stream",
     "text": [
      "INFO:fbprophet:Disabling daily seasonality. Run prophet with daily_seasonality=True to override this.\n"
     ]
    },
    {
     "name": "stdout",
     "output_type": "stream",
     "text": [
      "El producto demoró 1.7239813804626465 Norte Calama\n",
      "tiempo que lleva corriendo 0.9060199618339538 Min\n",
      "Calama 1010077\n"
     ]
    },
    {
     "name": "stderr",
     "output_type": "stream",
     "text": [
      "INFO:fbprophet:Disabling daily seasonality. Run prophet with daily_seasonality=True to override this.\n"
     ]
    },
    {
     "name": "stdout",
     "output_type": "stream",
     "text": [
      "El producto demoró 1.5183029174804688 Norte Calama\n",
      "tiempo que lleva corriendo 0.9313417077064514 Min\n",
      "Calama 1010048\n"
     ]
    },
    {
     "name": "stderr",
     "output_type": "stream",
     "text": [
      "INFO:fbprophet:Disabling daily seasonality. Run prophet with daily_seasonality=True to override this.\n"
     ]
    },
    {
     "name": "stdout",
     "output_type": "stream",
     "text": [
      "El producto demoró 1.4752678871154785 Norte Calama\n",
      "tiempo que lleva corriendo 0.9559461951255799 Min\n",
      "Calama 1010002\n"
     ]
    },
    {
     "name": "stderr",
     "output_type": "stream",
     "text": [
      "INFO:fbprophet:Disabling daily seasonality. Run prophet with daily_seasonality=True to override this.\n"
     ]
    },
    {
     "name": "stdout",
     "output_type": "stream",
     "text": [
      "El producto demoró 1.7980437278747559 Norte Calama\n",
      "tiempo que lleva corriendo 0.9859219272931417 Min\n",
      "Iquique 1020253\n"
     ]
    },
    {
     "name": "stderr",
     "output_type": "stream",
     "text": [
      "INFO:fbprophet:Disabling daily seasonality. Run prophet with daily_seasonality=True to override this.\n"
     ]
    },
    {
     "name": "stdout",
     "output_type": "stream",
     "text": [
      "El producto demoró 1.4117121696472168 Norte Iquique\n",
      "tiempo que lleva corriendo 1.0096840063730876 Min\n",
      "Iquique 1020027\n"
     ]
    },
    {
     "name": "stderr",
     "output_type": "stream",
     "text": [
      "INFO:fbprophet:Disabling daily seasonality. Run prophet with daily_seasonality=True to override this.\n"
     ]
    },
    {
     "name": "stdout",
     "output_type": "stream",
     "text": [
      "El producto demoró 1.7560088634490967 Norte Iquique\n",
      "tiempo que lleva corriendo 1.0389591614405314 Min\n",
      "Iquique 1020013\n"
     ]
    },
    {
     "name": "stderr",
     "output_type": "stream",
     "text": [
      "INFO:fbprophet:Disabling daily seasonality. Run prophet with daily_seasonality=True to override this.\n"
     ]
    },
    {
     "name": "stdout",
     "output_type": "stream",
     "text": [
      "El producto demoró 1.6794428825378418 Norte Iquique\n",
      "tiempo que lleva corriendo 1.066958208878835 Min\n",
      "Iquique 1020010\n"
     ]
    },
    {
     "name": "stderr",
     "output_type": "stream",
     "text": [
      "INFO:fbprophet:Disabling daily seasonality. Run prophet with daily_seasonality=True to override this.\n"
     ]
    },
    {
     "name": "stdout",
     "output_type": "stream",
     "text": [
      "El producto demoró 1.6484160423278809 Norte Iquique\n",
      "tiempo que lleva corriendo 1.0944401582082113 Min\n",
      "Iquique 1020003\n"
     ]
    },
    {
     "name": "stderr",
     "output_type": "stream",
     "text": [
      "INFO:fbprophet:Disabling daily seasonality. Run prophet with daily_seasonality=True to override this.\n"
     ]
    },
    {
     "name": "stdout",
     "output_type": "stream",
     "text": [
      "El producto demoró 1.5168027877807617 Norte Iquique\n",
      "tiempo que lleva corriendo 1.119736878077189 Min\n",
      "Iquique 1020001\n"
     ]
    },
    {
     "name": "stderr",
     "output_type": "stream",
     "text": [
      "INFO:fbprophet:Disabling daily seasonality. Run prophet with daily_seasonality=True to override this.\n"
     ]
    },
    {
     "name": "stdout",
     "output_type": "stream",
     "text": [
      "El producto demoró 1.5338184833526611 Norte Iquique\n",
      "tiempo que lleva corriendo 1.1453088482220968 Min\n",
      "Iquique 1010695\n"
     ]
    },
    {
     "name": "stderr",
     "output_type": "stream",
     "text": [
      "INFO:fbprophet:Disabling daily seasonality. Run prophet with daily_seasonality=True to override this.\n"
     ]
    },
    {
     "name": "stdout",
     "output_type": "stream",
     "text": [
      "El producto demoró 1.5358195304870605 Norte Iquique\n",
      "tiempo que lleva corriendo 1.1709141770998637 Min\n",
      "Iquique 1010267\n"
     ]
    },
    {
     "name": "stderr",
     "output_type": "stream",
     "text": [
      "INFO:fbprophet:Disabling daily seasonality. Run prophet with daily_seasonality=True to override this.\n"
     ]
    },
    {
     "name": "stdout",
     "output_type": "stream",
     "text": [
      "El producto demoró 1.5703492164611816 Norte Iquique\n",
      "tiempo que lleva corriendo 1.197095012664795 Min\n",
      "Iquique 1010078\n"
     ]
    },
    {
     "name": "stderr",
     "output_type": "stream",
     "text": [
      "INFO:fbprophet:Disabling daily seasonality. Run prophet with daily_seasonality=True to override this.\n"
     ]
    },
    {
     "name": "stdout",
     "output_type": "stream",
     "text": [
      "El producto demoró 1.5143017768859863 Norte Iquique\n",
      "tiempo que lleva corriendo 1.2223583658536274 Min\n",
      "Iquique 1010077\n"
     ]
    },
    {
     "name": "stderr",
     "output_type": "stream",
     "text": [
      "INFO:fbprophet:Disabling daily seasonality. Run prophet with daily_seasonality=True to override this.\n"
     ]
    },
    {
     "name": "stdout",
     "output_type": "stream",
     "text": [
      "El producto demoró 1.5778558254241943 Norte Iquique\n",
      "tiempo que lleva corriendo 1.248672644297282 Min\n",
      "Iquique 1010048\n"
     ]
    },
    {
     "name": "stderr",
     "output_type": "stream",
     "text": [
      "INFO:fbprophet:Disabling daily seasonality. Run prophet with daily_seasonality=True to override this.\n"
     ]
    },
    {
     "name": "stdout",
     "output_type": "stream",
     "text": [
      "El producto demoró 3.1502065658569336 Norte Iquique\n",
      "tiempo que lleva corriendo 1.3011927644411723 Min\n",
      "Iquique 1010002\n"
     ]
    },
    {
     "name": "stderr",
     "output_type": "stream",
     "text": [
      "INFO:fbprophet:Disabling daily seasonality. Run prophet with daily_seasonality=True to override this.\n"
     ]
    },
    {
     "name": "stdout",
     "output_type": "stream",
     "text": [
      "El producto demoró 1.5898659229278564 Norte Iquique\n",
      "tiempo que lleva corriendo 1.3277155439058939 Min\n",
      "Copiapo 1020253\n"
     ]
    },
    {
     "name": "stderr",
     "output_type": "stream",
     "text": [
      "INFO:fbprophet:Disabling daily seasonality. Run prophet with daily_seasonality=True to override this.\n"
     ]
    },
    {
     "name": "stdout",
     "output_type": "stream",
     "text": [
      "El producto demoró 1.5358192920684814 Norte Copiapo\n",
      "tiempo que lleva corriendo 1.3535460631052654 Min\n",
      "Copiapo 1020027\n"
     ]
    },
    {
     "name": "stderr",
     "output_type": "stream",
     "text": [
      "INFO:fbprophet:Disabling daily seasonality. Run prophet with daily_seasonality=True to override this.\n"
     ]
    },
    {
     "name": "stdout",
     "output_type": "stream",
     "text": [
      "El producto demoró 1.6679329872131348 Norte Copiapo\n",
      "tiempo que lleva corriendo 1.3813699722290038 Min\n",
      "Copiapo 1020013\n"
     ]
    },
    {
     "name": "stderr",
     "output_type": "stream",
     "text": [
      "INFO:fbprophet:Disabling daily seasonality. Run prophet with daily_seasonality=True to override this.\n"
     ]
    },
    {
     "name": "stdout",
     "output_type": "stream",
     "text": [
      "El producto demoró 1.6178908348083496 Norte Copiapo\n",
      "tiempo que lleva corriendo 1.40835147301356 Min\n",
      "Copiapo 1020010\n"
     ]
    },
    {
     "name": "stderr",
     "output_type": "stream",
     "text": [
      "INFO:fbprophet:Disabling daily seasonality. Run prophet with daily_seasonality=True to override this.\n"
     ]
    },
    {
     "name": "stdout",
     "output_type": "stream",
     "text": [
      "El producto demoró 1.9631872177124023 Norte Copiapo\n",
      "tiempo que lleva corriendo 1.44107958873113 Min\n",
      "Copiapo 1020003\n"
     ]
    },
    {
     "name": "stderr",
     "output_type": "stream",
     "text": [
      "INFO:fbprophet:Disabling daily seasonality. Run prophet with daily_seasonality=True to override this.\n"
     ]
    },
    {
     "name": "stdout",
     "output_type": "stream",
     "text": [
      "El producto demoró 1.507795810699463 Norte Copiapo\n",
      "tiempo que lleva corriendo 1.466217847665151 Min\n",
      "Copiapo 1020001\n"
     ]
    },
    {
     "name": "stderr",
     "output_type": "stream",
     "text": [
      "INFO:fbprophet:Disabling daily seasonality. Run prophet with daily_seasonality=True to override this.\n"
     ]
    },
    {
     "name": "stdout",
     "output_type": "stream",
     "text": [
      "El producto demoró 1.590867519378662 Norte Copiapo\n",
      "tiempo que lleva corriendo 1.4927573204040527 Min\n",
      "Copiapo 1010695\n"
     ]
    },
    {
     "name": "stderr",
     "output_type": "stream",
     "text": [
      "INFO:fbprophet:Disabling daily seasonality. Run prophet with daily_seasonality=True to override this.\n"
     ]
    },
    {
     "name": "stdout",
     "output_type": "stream",
     "text": [
      "El producto demoró 1.5908668041229248 Norte Copiapo\n",
      "tiempo que lleva corriendo 1.5192801038424173 Min\n",
      "Copiapo 1010267\n"
     ]
    },
    {
     "name": "stderr",
     "output_type": "stream",
     "text": [
      "INFO:fbprophet:Disabling daily seasonality. Run prophet with daily_seasonality=True to override this.\n"
     ]
    },
    {
     "name": "stdout",
     "output_type": "stream",
     "text": [
      "El producto demoró 1.622394323348999 Norte Copiapo\n",
      "tiempo que lleva corriendo 1.5463366746902465 Min\n",
      "Copiapo 1010078\n"
     ]
    },
    {
     "name": "stderr",
     "output_type": "stream",
     "text": [
      "INFO:fbprophet:Disabling daily seasonality. Run prophet with daily_seasonality=True to override this.\n"
     ]
    },
    {
     "name": "stdout",
     "output_type": "stream",
     "text": [
      "El producto demoró 1.6749389171600342 Norte Copiapo\n",
      "tiempo que lleva corriendo 1.5742773493131001 Min\n",
      "Copiapo 1010077\n"
     ]
    },
    {
     "name": "stderr",
     "output_type": "stream",
     "text": [
      "INFO:fbprophet:Disabling daily seasonality. Run prophet with daily_seasonality=True to override this.\n"
     ]
    },
    {
     "name": "stdout",
     "output_type": "stream",
     "text": [
      "El producto demoró 1.7159740924835205 Norte Copiapo\n",
      "tiempo que lleva corriendo 1.6029019395510355 Min\n",
      "Copiapo 1010048\n"
     ]
    },
    {
     "name": "stderr",
     "output_type": "stream",
     "text": [
      "INFO:fbprophet:Disabling daily seasonality. Run prophet with daily_seasonality=True to override this.\n"
     ]
    },
    {
     "name": "stdout",
     "output_type": "stream",
     "text": [
      "El producto demoró 2.0197346210479736 Norte Copiapo\n",
      "tiempo que lleva corriendo 1.636572527885437 Min\n",
      "Copiapo 1010002\n",
      "El producto demoró 1.7980444431304932 Norte Copiapo\n",
      "tiempo que lleva corriendo 1.6665566205978393 Min\n",
      "tiempo bloque completo 1.6665649573008219 Min\n"
     ]
    },
    {
     "data": {
      "text/html": [
       "<div>\n",
       "<style scoped>\n",
       "    .dataframe tbody tr th:only-of-type {\n",
       "        vertical-align: middle;\n",
       "    }\n",
       "\n",
       "    .dataframe tbody tr th {\n",
       "        vertical-align: top;\n",
       "    }\n",
       "\n",
       "    .dataframe thead th {\n",
       "        text-align: right;\n",
       "    }\n",
       "</style>\n",
       "<table border=\"1\" class=\"dataframe\">\n",
       "  <thead>\n",
       "    <tr style=\"text-align: right;\">\n",
       "      <th></th>\n",
       "      <th>ds</th>\n",
       "      <th>yhat_lower</th>\n",
       "      <th>yhat_upper</th>\n",
       "      <th>yhat</th>\n",
       "      <th>Material</th>\n",
       "      <th>Oficina de Ventas Unifica</th>\n",
       "      <th>Zona de ventas.1</th>\n",
       "    </tr>\n",
       "  </thead>\n",
       "  <tbody>\n",
       "    <tr>\n",
       "      <th>0</th>\n",
       "      <td>2021-06-20</td>\n",
       "      <td>-223.547105</td>\n",
       "      <td>325.706314</td>\n",
       "      <td>61.315413</td>\n",
       "      <td>1020253</td>\n",
       "      <td>Antofagasta</td>\n",
       "      <td>Norte</td>\n",
       "    </tr>\n",
       "    <tr>\n",
       "      <th>1</th>\n",
       "      <td>2021-06-21</td>\n",
       "      <td>-180.219750</td>\n",
       "      <td>361.457337</td>\n",
       "      <td>84.017201</td>\n",
       "      <td>1020253</td>\n",
       "      <td>Antofagasta</td>\n",
       "      <td>Norte</td>\n",
       "    </tr>\n",
       "    <tr>\n",
       "      <th>2</th>\n",
       "      <td>2021-06-22</td>\n",
       "      <td>-195.564021</td>\n",
       "      <td>341.301836</td>\n",
       "      <td>76.981779</td>\n",
       "      <td>1020253</td>\n",
       "      <td>Antofagasta</td>\n",
       "      <td>Norte</td>\n",
       "    </tr>\n",
       "    <tr>\n",
       "      <th>3</th>\n",
       "      <td>2021-06-23</td>\n",
       "      <td>-155.341500</td>\n",
       "      <td>361.770156</td>\n",
       "      <td>97.557658</td>\n",
       "      <td>1020253</td>\n",
       "      <td>Antofagasta</td>\n",
       "      <td>Norte</td>\n",
       "    </tr>\n",
       "    <tr>\n",
       "      <th>4</th>\n",
       "      <td>2021-06-24</td>\n",
       "      <td>-126.709877</td>\n",
       "      <td>417.640461</td>\n",
       "      <td>139.475801</td>\n",
       "      <td>1020253</td>\n",
       "      <td>Antofagasta</td>\n",
       "      <td>Norte</td>\n",
       "    </tr>\n",
       "  </tbody>\n",
       "</table>\n",
       "</div>"
      ],
      "text/plain": [
       "          ds  yhat_lower  yhat_upper        yhat Material  \\\n",
       "0 2021-06-20 -223.547105  325.706314   61.315413  1020253   \n",
       "1 2021-06-21 -180.219750  361.457337   84.017201  1020253   \n",
       "2 2021-06-22 -195.564021  341.301836   76.981779  1020253   \n",
       "3 2021-06-23 -155.341500  361.770156   97.557658  1020253   \n",
       "4 2021-06-24 -126.709877  417.640461  139.475801  1020253   \n",
       "\n",
       "  Oficina de Ventas Unifica Zona de ventas.1  \n",
       "0               Antofagasta            Norte  \n",
       "1               Antofagasta            Norte  \n",
       "2               Antofagasta            Norte  \n",
       "3               Antofagasta            Norte  \n",
       "4               Antofagasta            Norte  "
      ]
     },
     "execution_count": 85,
     "metadata": {},
     "output_type": "execute_result"
    }
   ],
   "source": [
    "df2 = pd.DataFrame(columns=['ds', 'yhat_lower', 'yhat_upper', 'yhat', 'Material','Oficina de Ventas Unifica', 'Zona de ventas.1'])\n",
    "\n",
    "\n",
    "\n",
    "Listado_de_zonas=data['Zona de ventas.1'].unique\n",
    "\n",
    "start_time = time()\n",
    "\n",
    "\n",
    "\n",
    "#for Z in Listado_de_zonas:\n",
    "Z='Norte'\n",
    "\n",
    "dfz=Df_ubic(data,'Zona de ventas.1',Z)\n",
    "\n",
    "Listado_de_Sucursales=dfz[dfz['Día natural'] >datetime.date(2021, 6, 2)]['Oficina de Ventas Unifica'].unique()\n",
    "\n",
    "for y in Listado_de_Sucursales:\n",
    "    #y='Huechuraba'\n",
    "    dfy=Df_ubic(dfz,'Oficina de Ventas Unifica',y)\n",
    "\n",
    "\n",
    "    Listado_de_Materiales=dfy[dfy['Día natural'] >datetime.date(2021, 6, 2)]['Material'].unique()\n",
    "\n",
    "    for m in Listado_de_Materiales:\n",
    "        #m=Listado_de_Materiales[0]\n",
    "        material_time=time()\n",
    "        print(y,m)\n",
    "        \n",
    "\n",
    "        dfm=Df_ubic(dfy,'Material',m).groupby('Día natural').sum().reset_index()[['Día natural',y_col]]\n",
    "        if(dfm[\n",
    "                    dfm['Día natural']>datetime.date(2021, 1, 2)\n",
    "                        ].shape[0] >20):\n",
    "            \n",
    "            dfmPred=Predict_sem(dfm,14)[['ds', 'yhat_lower', 'yhat_upper', 'yhat']].tail(14)\n",
    "            dfmPred['Material']=[m for i in range(dfmPred.shape[0])]\n",
    "            dfmPred['Oficina de Ventas Unifica']=[y for i in range(dfmPred.shape[0])]\n",
    "            dfmPred['Zona de ventas.1']=[Z for i in range(dfmPred.shape[0])]\n",
    "            dfmPred=dfmPred.reset_index()\n",
    "            dfmPred.pop('index')\n",
    "            df2=pd.concat([df2, dfmPred])\n",
    "\n",
    "        print('El producto demoró',(time() - material_time),Z,y)\n",
    "        print('tiempo que lleva corriendo',(time() - start_time)/60,'Min')\n",
    "    \n",
    "print('tiempo bloque completo',(time() - start_time)/60,'Min')\n",
    "df2.head()"
   ]
  },
  {
   "cell_type": "code",
   "execution_count": 86,
   "id": "f39c7bf6",
   "metadata": {
    "hidden": true
   },
   "outputs": [],
   "source": [
    "df2.rename(columns = {'ds': 'Día natural', 'yhat': 'Predicción central',\n",
    "                                'yhat_upper': 'Predicción Superior',\n",
    "                                'yhat_lower': 'Predicción Inferior'}, inplace = True)"
   ]
  },
  {
   "cell_type": "markdown",
   "id": "41b062d6",
   "metadata": {
    "hidden": true
   },
   "source": [
    "### CSV SAVE "
   ]
  },
  {
   "cell_type": "code",
   "execution_count": 87,
   "id": "ba1ea0c9",
   "metadata": {
    "hidden": true
   },
   "outputs": [
    {
     "name": "stdout",
     "output_type": "stream",
     "text": [
      "2021-06-18\n",
      "2021-07-03\n"
     ]
    }
   ],
   "source": [
    "\n",
    "min_time=df2['Día natural'].min()\n",
    "min_time=str(min_time).split(' ')[0]\n",
    "print(min_time)\n",
    "max_time=df2['Día natural'].max()\n",
    "max_time=str(max_time).split(' ')[0]\n",
    "print(max_time)"
   ]
  },
  {
   "cell_type": "code",
   "execution_count": 88,
   "id": "931def25",
   "metadata": {
    "hidden": true,
    "scrolled": true
   },
   "outputs": [],
   "source": [
    "df3=Limit_fecha(df2,AÑO,MES,DIA_INIC,DIA_FIN)"
   ]
  },
  {
   "cell_type": "code",
   "execution_count": 89,
   "id": "a64baffb",
   "metadata": {
    "hidden": true
   },
   "outputs": [
    {
     "name": "stdout",
     "output_type": "stream",
     "text": [
      "2021-06-22\n",
      "2021-06-26\n"
     ]
    }
   ],
   "source": [
    "\n",
    "min_time=df3['Día natural'].min()\n",
    "min_time=str(min_time).split(' ')[0]\n",
    "print(min_time)\n",
    "max_time=df3['Día natural'].max()\n",
    "max_time=str(max_time).split(' ')[0]\n",
    "print(max_time)"
   ]
  },
  {
   "cell_type": "code",
   "execution_count": 90,
   "id": "bf2e148e",
   "metadata": {
    "hidden": true
   },
   "outputs": [],
   "source": [
    "#Error_DF_Sum.to_csv('E_interv_Dem.csv', index=False)\n",
    "df3.to_csv('Predicción Zona '+Z+max_time+'.csv', index=False)"
   ]
  },
  {
   "cell_type": "markdown",
   "id": "5e7a0d1b",
   "metadata": {
    "hidden": true
   },
   "source": [
    "## Iteración completa Zona, Sucursal"
   ]
  },
  {
   "cell_type": "code",
   "execution_count": 114,
   "id": "6a36ffb5",
   "metadata": {
    "hidden": true,
    "scrolled": true
   },
   "outputs": [
    {
     "name": "stderr",
     "output_type": "stream",
     "text": [
      "INFO:fbprophet:Disabling daily seasonality. Run prophet with daily_seasonality=True to override this.\n"
     ]
    },
    {
     "name": "stdout",
     "output_type": "stream",
     "text": [
      "Santiago\n",
      "Huechuraba\n"
     ]
    },
    {
     "name": "stderr",
     "output_type": "stream",
     "text": [
      "INFO:fbprophet:Disabling daily seasonality. Run prophet with daily_seasonality=True to override this.\n"
     ]
    },
    {
     "name": "stdout",
     "output_type": "stream",
     "text": [
      "El producto demoró 1.6038775444030762 Santiago Huechuraba\n",
      "tiempo que lleva corriendo 0.0293669064839681 Min\n"
     ]
    },
    {
     "name": "stderr",
     "output_type": "stream",
     "text": [
      "INFO:fbprophet:Disabling daily seasonality. Run prophet with daily_seasonality=True to override this.\n"
     ]
    },
    {
     "name": "stdout",
     "output_type": "stream",
     "text": [
      "El producto demoró 1.4897804260253906 Santiago Huechuraba\n",
      "tiempo que lleva corriendo 0.05422157843907674 Min\n"
     ]
    },
    {
     "name": "stderr",
     "output_type": "stream",
     "text": [
      "INFO:fbprophet:Disabling daily seasonality. Run prophet with daily_seasonality=True to override this.\n"
     ]
    },
    {
     "name": "stdout",
     "output_type": "stream",
     "text": [
      "El producto demoró 1.7705214023590088 Santiago Huechuraba\n",
      "tiempo que lleva corriendo 0.08373860120773316 Min\n"
     ]
    },
    {
     "name": "stderr",
     "output_type": "stream",
     "text": [
      "INFO:fbprophet:Disabling daily seasonality. Run prophet with daily_seasonality=True to override this.\n"
     ]
    },
    {
     "name": "stdout",
     "output_type": "stream",
     "text": [
      "El producto demoró 1.5808587074279785 Santiago Huechuraba\n",
      "tiempo que lleva corriendo 0.11010291179021199 Min\n"
     ]
    },
    {
     "name": "stderr",
     "output_type": "stream",
     "text": [
      "INFO:fbprophet:Disabling daily seasonality. Run prophet with daily_seasonality=True to override this.\n"
     ]
    },
    {
     "name": "stdout",
     "output_type": "stream",
     "text": [
      "El producto demoró 1.808903694152832 Santiago Huechuraba\n",
      "tiempo que lleva corriendo 0.14027049938837688 Min\n"
     ]
    },
    {
     "name": "stderr",
     "output_type": "stream",
     "text": [
      "INFO:fbprophet:Disabling daily seasonality. Run prophet with daily_seasonality=True to override this.\n"
     ]
    },
    {
     "name": "stdout",
     "output_type": "stream",
     "text": [
      "El producto demoró 1.6894519329071045 Santiago Huechuraba\n",
      "tiempo que lleva corriendo 0.1684446930885315 Min\n"
     ]
    },
    {
     "name": "stderr",
     "output_type": "stream",
     "text": [
      "INFO:fbprophet:Disabling daily seasonality. Run prophet with daily_seasonality=True to override this.\n"
     ]
    },
    {
     "name": "stdout",
     "output_type": "stream",
     "text": [
      "El producto demoró 1.7740240097045898 Santiago Huechuraba\n",
      "tiempo que lleva corriendo 0.198036793867747 Min\n"
     ]
    },
    {
     "name": "stderr",
     "output_type": "stream",
     "text": [
      "INFO:fbprophet:Disabling daily seasonality. Run prophet with daily_seasonality=True to override this.\n"
     ]
    },
    {
     "name": "stdout",
     "output_type": "stream",
     "text": [
      "El producto demoró 1.701962947845459 Santiago Huechuraba\n",
      "tiempo que lleva corriendo 0.22642783721288046 Min\n"
     ]
    },
    {
     "name": "stderr",
     "output_type": "stream",
     "text": [
      "INFO:fbprophet:Disabling daily seasonality. Run prophet with daily_seasonality=True to override this.\n"
     ]
    },
    {
     "name": "stdout",
     "output_type": "stream",
     "text": [
      "El producto demoró 2.0852911472320557 Santiago Huechuraba\n",
      "tiempo que lleva corriendo 0.2611993710199992 Min\n"
     ]
    },
    {
     "name": "stderr",
     "output_type": "stream",
     "text": [
      "INFO:fbprophet:Disabling daily seasonality. Run prophet with daily_seasonality=True to override this.\n"
     ]
    },
    {
     "name": "stdout",
     "output_type": "stream",
     "text": [
      "El producto demoró 1.741497278213501 Santiago Huechuraba\n",
      "tiempo que lleva corriendo 0.2902326504389445 Min\n"
     ]
    },
    {
     "name": "stderr",
     "output_type": "stream",
     "text": [
      "INFO:fbprophet:Disabling daily seasonality. Run prophet with daily_seasonality=True to override this.\n"
     ]
    },
    {
     "name": "stdout",
     "output_type": "stream",
     "text": [
      "El producto demoró 1.6979589462280273 Santiago Huechuraba\n",
      "tiempo que lleva corriendo 0.31854863961537677 Min\n"
     ]
    },
    {
     "name": "stderr",
     "output_type": "stream",
     "text": [
      "INFO:fbprophet:Disabling daily seasonality. Run prophet with daily_seasonality=True to override this.\n"
     ]
    },
    {
     "name": "stdout",
     "output_type": "stream",
     "text": [
      "El producto demoró 1.7695205211639404 Santiago Huechuraba\n",
      "tiempo que lleva corriendo 0.3480656623840332 Min\n"
     ]
    },
    {
     "name": "stderr",
     "output_type": "stream",
     "text": [
      "INFO:fbprophet:Disabling daily seasonality. Run prophet with daily_seasonality=True to override this.\n"
     ]
    },
    {
     "name": "stdout",
     "output_type": "stream",
     "text": [
      "El producto demoró 1.62839937210083 Santiago Huechuraba\n",
      "tiempo que lleva corriendo 0.3752306660016378 Min\n",
      "Lo Espejo\n"
     ]
    },
    {
     "name": "stderr",
     "output_type": "stream",
     "text": [
      "INFO:fbprophet:Disabling daily seasonality. Run prophet with daily_seasonality=True to override this.\n"
     ]
    },
    {
     "name": "stdout",
     "output_type": "stream",
     "text": [
      "El producto demoró 1.5793571472167969 Santiago Lo Espejo\n",
      "tiempo que lleva corriendo 0.4017784794171651 Min\n"
     ]
    },
    {
     "name": "stderr",
     "output_type": "stream",
     "text": [
      "INFO:fbprophet:Disabling daily seasonality. Run prophet with daily_seasonality=True to override this.\n"
     ]
    },
    {
     "name": "stdout",
     "output_type": "stream",
     "text": [
      "El producto demoró 1.7264823913574219 Santiago Lo Espejo\n",
      "tiempo que lleva corriendo 0.4305615226427714 Min\n"
     ]
    },
    {
     "name": "stderr",
     "output_type": "stream",
     "text": [
      "INFO:fbprophet:Disabling daily seasonality. Run prophet with daily_seasonality=True to override this.\n"
     ]
    },
    {
     "name": "stdout",
     "output_type": "stream",
     "text": [
      "El producto demoró 1.856095552444458 Santiago Lo Espejo\n",
      "tiempo que lleva corriendo 0.4615131139755249 Min\n"
     ]
    },
    {
     "name": "stderr",
     "output_type": "stream",
     "text": [
      "INFO:fbprophet:Disabling daily seasonality. Run prophet with daily_seasonality=True to override this.\n"
     ]
    },
    {
     "name": "stdout",
     "output_type": "stream",
     "text": [
      "El producto demoró 1.6974587440490723 Santiago Lo Espejo\n",
      "tiempo que lleva corriendo 0.48982076247533163 Min\n"
     ]
    },
    {
     "name": "stderr",
     "output_type": "stream",
     "text": [
      "INFO:fbprophet:Disabling daily seasonality. Run prophet with daily_seasonality=True to override this.\n"
     ]
    },
    {
     "name": "stdout",
     "output_type": "stream",
     "text": [
      "El producto demoró 2.113816976547241 Santiago Lo Espejo\n",
      "tiempo que lleva corriendo 0.5250677108764649 Min\n"
     ]
    },
    {
     "name": "stderr",
     "output_type": "stream",
     "text": [
      "INFO:fbprophet:Disabling daily seasonality. Run prophet with daily_seasonality=True to override this.\n"
     ]
    },
    {
     "name": "stdout",
     "output_type": "stream",
     "text": [
      "El producto demoró 1.6904525756835938 Santiago Lo Espejo\n",
      "tiempo que lleva corriendo 0.5532669345537822 Min\n"
     ]
    },
    {
     "name": "stderr",
     "output_type": "stream",
     "text": [
      "INFO:fbprophet:Disabling daily seasonality. Run prophet with daily_seasonality=True to override this.\n"
     ]
    },
    {
     "name": "stdout",
     "output_type": "stream",
     "text": [
      "El producto demoró 1.7294857501983643 Santiago Lo Espejo\n",
      "tiempo que lleva corriendo 0.582116715113322 Min\n"
     ]
    },
    {
     "name": "stderr",
     "output_type": "stream",
     "text": [
      "INFO:fbprophet:Disabling daily seasonality. Run prophet with daily_seasonality=True to override this.\n"
     ]
    },
    {
     "name": "stdout",
     "output_type": "stream",
     "text": [
      "El producto demoró 1.6243956089019775 Santiago Lo Espejo\n",
      "tiempo que lleva corriendo 0.609214993317922 Min\n"
     ]
    },
    {
     "name": "stderr",
     "output_type": "stream",
     "text": [
      "INFO:fbprophet:Disabling daily seasonality. Run prophet with daily_seasonality=True to override this.\n"
     ]
    },
    {
     "name": "stdout",
     "output_type": "stream",
     "text": [
      "El producto demoró 1.6479160785675049 Santiago Lo Espejo\n",
      "tiempo que lleva corriendo 0.6366969426472981 Min\n"
     ]
    },
    {
     "name": "stderr",
     "output_type": "stream",
     "text": [
      "INFO:fbprophet:Disabling daily seasonality. Run prophet with daily_seasonality=True to override this.\n"
     ]
    },
    {
     "name": "stdout",
     "output_type": "stream",
     "text": [
      "El producto demoró 1.8676044940948486 Santiago Lo Espejo\n",
      "tiempo que lleva corriendo 0.6678486982981364 Min\n"
     ]
    },
    {
     "name": "stderr",
     "output_type": "stream",
     "text": [
      "INFO:fbprophet:Disabling daily seasonality. Run prophet with daily_seasonality=True to override this.\n"
     ]
    },
    {
     "name": "stdout",
     "output_type": "stream",
     "text": [
      "El producto demoró 1.5968718528747559 Santiago Lo Espejo\n",
      "tiempo que lleva corriendo 0.6944882432619731 Min\n"
     ]
    },
    {
     "name": "stderr",
     "output_type": "stream",
     "text": [
      "INFO:fbprophet:Disabling daily seasonality. Run prophet with daily_seasonality=True to override this.\n"
     ]
    },
    {
     "name": "stdout",
     "output_type": "stream",
     "text": [
      "El producto demoró 1.8746116161346436 Santiago Lo Espejo\n",
      "tiempo que lleva corriendo 0.7257484316825866 Min\n"
     ]
    },
    {
     "name": "stderr",
     "output_type": "stream",
     "text": [
      "INFO:fbprophet:Disabling daily seasonality. Run prophet with daily_seasonality=True to override this.\n"
     ]
    },
    {
     "name": "stdout",
     "output_type": "stream",
     "text": [
      "El producto demoró 1.6123859882354736 Santiago Lo Espejo\n",
      "tiempo que lleva corriendo 0.7526298602422078 Min\n",
      "Sucursal Miraflores\n"
     ]
    },
    {
     "name": "stderr",
     "output_type": "stream",
     "text": [
      "INFO:fbprophet:Disabling daily seasonality. Run prophet with daily_seasonality=True to override this.\n"
     ]
    },
    {
     "name": "stdout",
     "output_type": "stream",
     "text": [
      "El producto demoró 1.8135592937469482 Santiago Sucursal Miraflores\n",
      "tiempo que lleva corriendo 0.7830810268719991 Min\n"
     ]
    },
    {
     "name": "stderr",
     "output_type": "stream",
     "text": [
      "INFO:fbprophet:Disabling daily seasonality. Run prophet with daily_seasonality=True to override this.\n"
     ]
    },
    {
     "name": "stdout",
     "output_type": "stream",
     "text": [
      "El producto demoró 1.4217209815979004 Santiago Sucursal Miraflores\n",
      "tiempo que lleva corriendo 0.8068013985951742 Min\n"
     ]
    },
    {
     "name": "stderr",
     "output_type": "stream",
     "text": [
      "INFO:fbprophet:Disabling daily seasonality. Run prophet with daily_seasonality=True to override this.\n"
     ]
    },
    {
     "name": "stdout",
     "output_type": "stream",
     "text": [
      "El producto demoró 1.6163890361785889 Santiago Sucursal Miraflores\n",
      "tiempo que lleva corriendo 0.8337578972180685 Min\n"
     ]
    },
    {
     "name": "stderr",
     "output_type": "stream",
     "text": [
      "INFO:fbprophet:Disabling daily seasonality. Run prophet with daily_seasonality=True to override this.\n"
     ]
    },
    {
     "name": "stdout",
     "output_type": "stream",
     "text": [
      "El producto demoró 1.654421329498291 Santiago Sucursal Miraflores\n",
      "tiempo que lleva corriendo 0.8613565961519877 Min\n"
     ]
    },
    {
     "name": "stderr",
     "output_type": "stream",
     "text": [
      "INFO:fbprophet:Disabling daily seasonality. Run prophet with daily_seasonality=True to override this.\n"
     ]
    },
    {
     "name": "stdout",
     "output_type": "stream",
     "text": [
      "El producto demoró 1.820063591003418 Santiago Sucursal Miraflores\n",
      "tiempo que lleva corriendo 0.8917076627413432 Min\n"
     ]
    },
    {
     "name": "stderr",
     "output_type": "stream",
     "text": [
      "INFO:fbprophet:Disabling daily seasonality. Run prophet with daily_seasonality=True to override this.\n"
     ]
    },
    {
     "name": "stdout",
     "output_type": "stream",
     "text": [
      "El producto demoró 1.6138858795166016 Santiago Sucursal Miraflores\n",
      "tiempo que lleva corriendo 0.9186307986577352 Min\n"
     ]
    },
    {
     "name": "stderr",
     "output_type": "stream",
     "text": [
      "INFO:fbprophet:Disabling daily seasonality. Run prophet with daily_seasonality=True to override this.\n"
     ]
    },
    {
     "name": "stdout",
     "output_type": "stream",
     "text": [
      "El producto demoró 1.6013755798339844 Santiago Sucursal Miraflores\n",
      "tiempo que lleva corriendo 0.9453370690345764 Min\n"
     ]
    },
    {
     "name": "stderr",
     "output_type": "stream",
     "text": [
      "INFO:fbprophet:Disabling daily seasonality. Run prophet with daily_seasonality=True to override this.\n"
     ]
    },
    {
     "name": "stdout",
     "output_type": "stream",
     "text": [
      "El producto demoró 1.6914536952972412 Santiago Sucursal Miraflores\n",
      "tiempo que lleva corriendo 0.9735446294148763 Min\n"
     ]
    },
    {
     "name": "stderr",
     "output_type": "stream",
     "text": [
      "INFO:fbprophet:Disabling daily seasonality. Run prophet with daily_seasonality=True to override this.\n"
     ]
    },
    {
     "name": "stdout",
     "output_type": "stream",
     "text": [
      "El producto demoró 1.8996326923370361 Santiago Sucursal Miraflores\n",
      "tiempo que lleva corriendo 1.0052135070164998 Min\n"
     ]
    },
    {
     "name": "stderr",
     "output_type": "stream",
     "text": [
      "INFO:fbprophet:Disabling daily seasonality. Run prophet with daily_seasonality=True to override this.\n"
     ]
    },
    {
     "name": "stdout",
     "output_type": "stream",
     "text": [
      "El producto demoró 1.600874900817871 Santiago Sucursal Miraflores\n",
      "tiempo que lleva corriendo 1.031919773419698 Min\n"
     ]
    },
    {
     "name": "stderr",
     "output_type": "stream",
     "text": [
      "INFO:fbprophet:Disabling daily seasonality. Run prophet with daily_seasonality=True to override this.\n"
     ]
    },
    {
     "name": "stdout",
     "output_type": "stream",
     "text": [
      "El producto demoró 1.5558366775512695 Santiago Sucursal Miraflores\n",
      "tiempo que lleva corriendo 1.0578670620918273 Min\n"
     ]
    },
    {
     "name": "stderr",
     "output_type": "stream",
     "text": [
      "INFO:fbprophet:Disabling daily seasonality. Run prophet with daily_seasonality=True to override this.\n"
     ]
    },
    {
     "name": "stdout",
     "output_type": "stream",
     "text": [
      "El producto demoró 2.0237390995025635 Santiago Sucursal Miraflores\n",
      "tiempo que lleva corriendo 1.0916127244631448 Min\n"
     ]
    },
    {
     "name": "stderr",
     "output_type": "stream",
     "text": [
      "INFO:fbprophet:Disabling daily seasonality. Run prophet with daily_seasonality=True to override this.\n"
     ]
    },
    {
     "name": "stdout",
     "output_type": "stream",
     "text": [
      "El producto demoró 1.7770271301269531 Santiago Sucursal Miraflores\n",
      "tiempo que lleva corriendo 1.121229843298594 Min\n",
      "Centro Norte\n",
      "Coquimbo\n"
     ]
    },
    {
     "name": "stderr",
     "output_type": "stream",
     "text": [
      "INFO:fbprophet:Disabling daily seasonality. Run prophet with daily_seasonality=True to override this.\n"
     ]
    },
    {
     "name": "stdout",
     "output_type": "stream",
     "text": [
      "El producto demoró 1.5768542289733887 Centro Norte Coquimbo\n",
      "tiempo que lleva corriendo 1.1503214915593465 Min\n"
     ]
    },
    {
     "name": "stderr",
     "output_type": "stream",
     "text": [
      "INFO:fbprophet:Disabling daily seasonality. Run prophet with daily_seasonality=True to override this.\n"
     ]
    },
    {
     "name": "stdout",
     "output_type": "stream",
     "text": [
      "El producto demoró 1.4972867965698242 Centro Norte Coquimbo\n",
      "tiempo que lleva corriendo 1.1753012736638386 Min\n"
     ]
    },
    {
     "name": "stderr",
     "output_type": "stream",
     "text": [
      "INFO:fbprophet:Disabling daily seasonality. Run prophet with daily_seasonality=True to override this.\n"
     ]
    },
    {
     "name": "stdout",
     "output_type": "stream",
     "text": [
      "El producto demoró 1.703963279724121 Centro Norte Coquimbo\n",
      "tiempo que lleva corriendo 1.2037173509597778 Min\n"
     ]
    },
    {
     "name": "stderr",
     "output_type": "stream",
     "text": [
      "INFO:fbprophet:Disabling daily seasonality. Run prophet with daily_seasonality=True to override this.\n"
     ]
    },
    {
     "name": "stdout",
     "output_type": "stream",
     "text": [
      "El producto demoró 1.625396490097046 Centro Norte Coquimbo\n",
      "tiempo que lleva corriendo 1.2308239698410035 Min\n"
     ]
    },
    {
     "name": "stderr",
     "output_type": "stream",
     "text": [
      "INFO:fbprophet:Disabling daily seasonality. Run prophet with daily_seasonality=True to override this.\n"
     ]
    },
    {
     "name": "stdout",
     "output_type": "stream",
     "text": [
      "El producto demoró 1.6273982524871826 Centro Norte Coquimbo\n",
      "tiempo que lleva corriendo 1.2579556067784627 Min\n"
     ]
    },
    {
     "name": "stderr",
     "output_type": "stream",
     "text": [
      "INFO:fbprophet:Disabling daily seasonality. Run prophet with daily_seasonality=True to override this.\n"
     ]
    },
    {
     "name": "stdout",
     "output_type": "stream",
     "text": [
      "El producto demoró 1.6048791408538818 Centro Norte Coquimbo\n",
      "tiempo que lleva corriendo 1.2847119291623434 Min\n"
     ]
    },
    {
     "name": "stderr",
     "output_type": "stream",
     "text": [
      "INFO:fbprophet:Disabling daily seasonality. Run prophet with daily_seasonality=True to override this.\n"
     ]
    },
    {
     "name": "stdout",
     "output_type": "stream",
     "text": [
      "El producto demoró 1.8155596256256104 Centro Norte Coquimbo\n",
      "tiempo que lleva corriendo 1.3149796009063721 Min\n"
     ]
    },
    {
     "name": "stderr",
     "output_type": "stream",
     "text": [
      "INFO:fbprophet:Disabling daily seasonality. Run prophet with daily_seasonality=True to override this.\n"
     ]
    },
    {
     "name": "stdout",
     "output_type": "stream",
     "text": [
      "El producto demoró 1.603877305984497 Centro Norte Coquimbo\n",
      "tiempo que lleva corriendo 1.3417192419370016 Min\n"
     ]
    },
    {
     "name": "stderr",
     "output_type": "stream",
     "text": [
      "INFO:fbprophet:Disabling daily seasonality. Run prophet with daily_seasonality=True to override this.\n"
     ]
    },
    {
     "name": "stdout",
     "output_type": "stream",
     "text": [
      "El producto demoró 1.6594252586364746 Centro Norte Coquimbo\n",
      "tiempo que lleva corriendo 1.3693846702575683 Min\n"
     ]
    },
    {
     "name": "stderr",
     "output_type": "stream",
     "text": [
      "INFO:fbprophet:Disabling daily seasonality. Run prophet with daily_seasonality=True to override this.\n"
     ]
    },
    {
     "name": "stdout",
     "output_type": "stream",
     "text": [
      "El producto demoró 1.7785272598266602 Centro Norte Coquimbo\n",
      "tiempo que lleva corriendo 1.3990434726079306 Min\n"
     ]
    },
    {
     "name": "stderr",
     "output_type": "stream",
     "text": [
      "INFO:fbprophet:Disabling daily seasonality. Run prophet with daily_seasonality=True to override this.\n"
     ]
    },
    {
     "name": "stdout",
     "output_type": "stream",
     "text": [
      "El producto demoró 1.6604270935058594 Centro Norte Coquimbo\n",
      "tiempo que lleva corriendo 1.4267422676086425 Min\n"
     ]
    },
    {
     "name": "stderr",
     "output_type": "stream",
     "text": [
      "INFO:fbprophet:Disabling daily seasonality. Run prophet with daily_seasonality=True to override this.\n"
     ]
    },
    {
     "name": "stdout",
     "output_type": "stream",
     "text": [
      "El producto demoró 1.596872329711914 Centro Norte Coquimbo\n",
      "tiempo que lleva corriendo 1.4533734758694967 Min\n"
     ]
    },
    {
     "name": "stderr",
     "output_type": "stream",
     "text": [
      "INFO:fbprophet:Disabling daily seasonality. Run prophet with daily_seasonality=True to override this.\n"
     ]
    },
    {
     "name": "stdout",
     "output_type": "stream",
     "text": [
      "El producto demoró 1.6764402389526367 Centro Norte Coquimbo\n",
      "tiempo que lleva corriendo 1.4813224871953328 Min\n",
      "Hijuelas\n"
     ]
    },
    {
     "name": "stderr",
     "output_type": "stream",
     "text": [
      "INFO:fbprophet:Disabling daily seasonality. Run prophet with daily_seasonality=True to override this.\n"
     ]
    },
    {
     "name": "stdout",
     "output_type": "stream",
     "text": [
      "El producto demoró 1.7444992065429688 Centro Norte Hijuelas\n",
      "tiempo que lleva corriendo 1.5107394218444825 Min\n"
     ]
    },
    {
     "name": "stderr",
     "output_type": "stream",
     "text": [
      "INFO:fbprophet:Disabling daily seasonality. Run prophet with daily_seasonality=True to override this.\n"
     ]
    },
    {
     "name": "stdout",
     "output_type": "stream",
     "text": [
      "El producto demoró 1.5928688049316406 Centro Norte Hijuelas\n",
      "tiempo que lleva corriendo 1.537303908665975 Min\n"
     ]
    },
    {
     "name": "stderr",
     "output_type": "stream",
     "text": [
      "INFO:fbprophet:Disabling daily seasonality. Run prophet with daily_seasonality=True to override this.\n"
     ]
    },
    {
     "name": "stdout",
     "output_type": "stream",
     "text": [
      "El producto demoró 1.619391918182373 Centro Norte Hijuelas\n",
      "tiempo que lleva corriendo 1.564302106698354 Min\n"
     ]
    },
    {
     "name": "stderr",
     "output_type": "stream",
     "text": [
      "INFO:fbprophet:Disabling daily seasonality. Run prophet with daily_seasonality=True to override this.\n"
     ]
    },
    {
     "name": "stdout",
     "output_type": "stream",
     "text": [
      "El producto demoró 1.5338177680969238 Centro Norte Hijuelas\n",
      "tiempo que lleva corriendo 1.5898824095726014 Min\n"
     ]
    },
    {
     "name": "stderr",
     "output_type": "stream",
     "text": [
      "INFO:fbprophet:Disabling daily seasonality. Run prophet with daily_seasonality=True to override this.\n"
     ]
    },
    {
     "name": "stdout",
     "output_type": "stream",
     "text": [
      "El producto demoró 1.579357624053955 Centro Norte Hijuelas\n",
      "tiempo que lleva corriendo 1.616213361422221 Min\n"
     ]
    },
    {
     "name": "stderr",
     "output_type": "stream",
     "text": [
      "INFO:fbprophet:Disabling daily seasonality. Run prophet with daily_seasonality=True to override this.\n"
     ]
    },
    {
     "name": "stdout",
     "output_type": "stream",
     "text": [
      "El producto demoró 1.894627571105957 Centro Norte Hijuelas\n",
      "tiempo que lleva corriendo 1.6478071689605713 Min\n"
     ]
    },
    {
     "name": "stderr",
     "output_type": "stream",
     "text": [
      "INFO:fbprophet:Disabling daily seasonality. Run prophet with daily_seasonality=True to override this.\n"
     ]
    },
    {
     "name": "stdout",
     "output_type": "stream",
     "text": [
      "El producto demoró 1.6419107913970947 Centro Norte Hijuelas\n",
      "tiempo que lleva corriendo 1.675180681546529 Min\n"
     ]
    },
    {
     "name": "stderr",
     "output_type": "stream",
     "text": [
      "INFO:fbprophet:Disabling daily seasonality. Run prophet with daily_seasonality=True to override this.\n"
     ]
    },
    {
     "name": "stdout",
     "output_type": "stream",
     "text": [
      "El producto demoró 1.7675182819366455 Centro Norte Hijuelas\n",
      "tiempo que lleva corriendo 1.7046560009320577 Min\n"
     ]
    },
    {
     "name": "stderr",
     "output_type": "stream",
     "text": [
      "INFO:fbprophet:Disabling daily seasonality. Run prophet with daily_seasonality=True to override this.\n"
     ]
    },
    {
     "name": "stdout",
     "output_type": "stream",
     "text": [
      "El producto demoró 1.6349046230316162 Centro Norte Hijuelas\n",
      "tiempo que lleva corriendo 1.7319127599398294 Min\n"
     ]
    },
    {
     "name": "stderr",
     "output_type": "stream",
     "text": [
      "INFO:fbprophet:Disabling daily seasonality. Run prophet with daily_seasonality=True to override this.\n"
     ]
    },
    {
     "name": "stdout",
     "output_type": "stream",
     "text": [
      "El producto demoró 1.5678467750549316 Centro Norte Hijuelas\n",
      "tiempo que lleva corriendo 1.7580602089564006 Min\n"
     ]
    },
    {
     "name": "stderr",
     "output_type": "stream",
     "text": [
      "INFO:fbprophet:Disabling daily seasonality. Run prophet with daily_seasonality=True to override this.\n"
     ]
    },
    {
     "name": "stdout",
     "output_type": "stream",
     "text": [
      "El producto demoró 1.5903668403625488 Centro Norte Hijuelas\n",
      "tiempo que lleva corriendo 1.7845829963684081 Min\n"
     ]
    },
    {
     "name": "stderr",
     "output_type": "stream",
     "text": [
      "INFO:fbprophet:Disabling daily seasonality. Run prophet with daily_seasonality=True to override this.\n"
     ]
    },
    {
     "name": "stdout",
     "output_type": "stream",
     "text": [
      "El producto demoró 1.7590117454528809 Centro Norte Hijuelas\n",
      "tiempo que lleva corriendo 1.8139248689015706 Min\n"
     ]
    },
    {
     "name": "stderr",
     "output_type": "stream",
     "text": [
      "INFO:fbprophet:Disabling daily seasonality. Run prophet with daily_seasonality=True to override this.\n"
     ]
    },
    {
     "name": "stdout",
     "output_type": "stream",
     "text": [
      "El producto demoró 1.739995002746582 Centro Norte Hijuelas\n",
      "tiempo que lleva corriendo 1.8429497996966044 Min\n",
      "San Antonio\n"
     ]
    },
    {
     "name": "stderr",
     "output_type": "stream",
     "text": [
      "INFO:fbprophet:Disabling daily seasonality. Run prophet with daily_seasonality=True to override this.\n"
     ]
    },
    {
     "name": "stdout",
     "output_type": "stream",
     "text": [
      "El producto demoró 1.5483298301696777 Centro Norte San Antonio\n",
      "tiempo que lleva corriendo 1.8690805792808534 Min\n"
     ]
    },
    {
     "name": "stderr",
     "output_type": "stream",
     "text": [
      "INFO:fbprophet:Disabling daily seasonality. Run prophet with daily_seasonality=True to override this.\n"
     ]
    },
    {
     "name": "stdout",
     "output_type": "stream",
     "text": [
      "El producto demoró 1.7620139122009277 Centro Norte San Antonio\n",
      "tiempo que lleva corriendo 1.8984641512235005 Min\n"
     ]
    },
    {
     "name": "stderr",
     "output_type": "stream",
     "text": [
      "INFO:fbprophet:Disabling daily seasonality. Run prophet with daily_seasonality=True to override this.\n"
     ]
    },
    {
     "name": "stdout",
     "output_type": "stream",
     "text": [
      "El producto demoró 1.7014620304107666 Centro Norte San Antonio\n",
      "tiempo que lleva corriendo 1.9268301963806151 Min\n"
     ]
    },
    {
     "name": "stderr",
     "output_type": "stream",
     "text": [
      "INFO:fbprophet:Disabling daily seasonality. Run prophet with daily_seasonality=True to override this.\n"
     ]
    },
    {
     "name": "stdout",
     "output_type": "stream",
     "text": [
      "El producto demoró 1.5328168869018555 Centro Norte San Antonio\n",
      "tiempo que lleva corriendo 1.952402154604594 Min\n"
     ]
    },
    {
     "name": "stderr",
     "output_type": "stream",
     "text": [
      "INFO:fbprophet:Disabling daily seasonality. Run prophet with daily_seasonality=True to override this.\n"
     ]
    },
    {
     "name": "stdout",
     "output_type": "stream",
     "text": [
      "El producto demoró 1.971193790435791 Centro Norte San Antonio\n",
      "tiempo que lleva corriendo 1.985280406475067 Min\n"
     ]
    },
    {
     "name": "stderr",
     "output_type": "stream",
     "text": [
      "INFO:fbprophet:Disabling daily seasonality. Run prophet with daily_seasonality=True to override this.\n"
     ]
    },
    {
     "name": "stdout",
     "output_type": "stream",
     "text": [
      "El producto demoró 1.7470009326934814 Centro Norte San Antonio\n",
      "tiempo que lleva corriendo 2.0144304394721986 Min\n"
     ]
    },
    {
     "name": "stderr",
     "output_type": "stream",
     "text": [
      "INFO:fbprophet:Disabling daily seasonality. Run prophet with daily_seasonality=True to override this.\n"
     ]
    },
    {
     "name": "stdout",
     "output_type": "stream",
     "text": [
      "El producto demoró 1.6839468479156494 Centro Norte San Antonio\n",
      "tiempo que lleva corriendo 2.042521234353383 Min\n"
     ]
    },
    {
     "name": "stderr",
     "output_type": "stream",
     "text": [
      "INFO:fbprophet:Disabling daily seasonality. Run prophet with daily_seasonality=True to override this.\n"
     ]
    },
    {
     "name": "stdout",
     "output_type": "stream",
     "text": [
      "El producto demoró 1.8190631866455078 Centro Norte San Antonio\n",
      "tiempo que lleva corriendo 2.072863976160685 Min\n"
     ]
    },
    {
     "name": "stderr",
     "output_type": "stream",
     "text": [
      "INFO:fbprophet:Disabling daily seasonality. Run prophet with daily_seasonality=True to override this.\n"
     ]
    },
    {
     "name": "stdout",
     "output_type": "stream",
     "text": [
      "El producto demoró 1.7319872379302979 Centro Norte San Antonio\n",
      "tiempo que lleva corriendo 2.1017471075057985 Min\n"
     ]
    },
    {
     "name": "stderr",
     "output_type": "stream",
     "text": [
      "INFO:fbprophet:Disabling daily seasonality. Run prophet with daily_seasonality=True to override this.\n"
     ]
    },
    {
     "name": "stdout",
     "output_type": "stream",
     "text": [
      "El producto demoró 1.6624276638031006 Centro Norte San Antonio\n",
      "tiempo que lleva corriendo 2.1294792691866555 Min\n"
     ]
    },
    {
     "name": "stderr",
     "output_type": "stream",
     "text": [
      "INFO:fbprophet:Disabling daily seasonality. Run prophet with daily_seasonality=True to override this.\n"
     ]
    },
    {
     "name": "stdout",
     "output_type": "stream",
     "text": [
      "El producto demoró 1.603377103805542 Centro Norte San Antonio\n",
      "tiempo que lleva corriendo 2.1562105735143025 Min\n"
     ]
    },
    {
     "name": "stderr",
     "output_type": "stream",
     "text": [
      "INFO:fbprophet:Disabling daily seasonality. Run prophet with daily_seasonality=True to override this.\n"
     ]
    },
    {
     "name": "stdout",
     "output_type": "stream",
     "text": [
      "El producto demoró 1.6929540634155273 Centro Norte San Antonio\n",
      "tiempo que lleva corriendo 2.1844431440035503 Min\n"
     ]
    },
    {
     "name": "stderr",
     "output_type": "stream",
     "text": [
      "INFO:fbprophet:Disabling daily seasonality. Run prophet with daily_seasonality=True to override this.\n"
     ]
    },
    {
     "name": "stdout",
     "output_type": "stream",
     "text": [
      "El producto demoró 1.7690203189849854 Centro Norte San Antonio\n",
      "tiempo que lleva corriendo 2.213935148715973 Min\n",
      "San Felipe\n"
     ]
    },
    {
     "name": "stderr",
     "output_type": "stream",
     "text": [
      "INFO:fbprophet:Disabling daily seasonality. Run prophet with daily_seasonality=True to override this.\n"
     ]
    },
    {
     "name": "stdout",
     "output_type": "stream",
     "text": [
      "El producto demoró 1.7605133056640625 Centro Norte San Felipe\n",
      "tiempo que lleva corriendo 2.243618985017141 Min\n"
     ]
    },
    {
     "name": "stderr",
     "output_type": "stream",
     "text": [
      "INFO:fbprophet:Disabling daily seasonality. Run prophet with daily_seasonality=True to override this.\n"
     ]
    },
    {
     "name": "stdout",
     "output_type": "stream",
     "text": [
      "El producto demoró 2.005223274230957 Centro Norte San Felipe\n",
      "tiempo que lleva corriendo 2.2770477096239725 Min\n"
     ]
    },
    {
     "name": "stderr",
     "output_type": "stream",
     "text": [
      "INFO:fbprophet:Disabling daily seasonality. Run prophet with daily_seasonality=True to override this.\n"
     ]
    },
    {
     "name": "stdout",
     "output_type": "stream",
     "text": [
      "El producto demoró 1.566345453262329 Centro Norte San Felipe\n",
      "tiempo que lleva corriendo 2.303170156478882 Min\n"
     ]
    },
    {
     "name": "stderr",
     "output_type": "stream",
     "text": [
      "INFO:fbprophet:Disabling daily seasonality. Run prophet with daily_seasonality=True to override this.\n"
     ]
    },
    {
     "name": "stdout",
     "output_type": "stream",
     "text": [
      "El producto demoró 1.5843613147735596 Centro Norte San Felipe\n",
      "tiempo que lleva corriendo 2.3296011885007224 Min\n"
     ]
    },
    {
     "name": "stderr",
     "output_type": "stream",
     "text": [
      "INFO:fbprophet:Disabling daily seasonality. Run prophet with daily_seasonality=True to override this.\n"
     ]
    },
    {
     "name": "stdout",
     "output_type": "stream",
     "text": [
      "El producto demoró 1.5983734130859375 Centro Norte San Felipe\n",
      "tiempo que lleva corriendo 2.3562657475471496 Min\n"
     ]
    },
    {
     "name": "stderr",
     "output_type": "stream",
     "text": [
      "INFO:fbprophet:Disabling daily seasonality. Run prophet with daily_seasonality=True to override this.\n"
     ]
    },
    {
     "name": "stdout",
     "output_type": "stream",
     "text": [
      "El producto demoró 1.4542491436004639 Centro Norte San Felipe\n",
      "tiempo que lleva corriendo 2.380519914627075 Min\n"
     ]
    },
    {
     "name": "stderr",
     "output_type": "stream",
     "text": [
      "INFO:fbprophet:Disabling daily seasonality. Run prophet with daily_seasonality=True to override this.\n"
     ]
    },
    {
     "name": "stdout",
     "output_type": "stream",
     "text": [
      "El producto demoró 1.6469156742095947 Centro Norte San Felipe\n",
      "tiempo que lleva corriendo 2.407968509197235 Min\n"
     ]
    },
    {
     "name": "stderr",
     "output_type": "stream",
     "text": [
      "INFO:fbprophet:Disabling daily seasonality. Run prophet with daily_seasonality=True to override this.\n"
     ]
    },
    {
     "name": "stdout",
     "output_type": "stream",
     "text": [
      "El producto demoró 1.6624276638031006 Centro Norte San Felipe\n",
      "tiempo que lleva corriendo 2.435692318280538 Min\n"
     ]
    },
    {
     "name": "stderr",
     "output_type": "stream",
     "text": [
      "INFO:fbprophet:Disabling daily seasonality. Run prophet with daily_seasonality=True to override this.\n"
     ]
    },
    {
     "name": "stdout",
     "output_type": "stream",
     "text": [
      "El producto demoró 1.80104660987854 Centro Norte San Felipe\n",
      "tiempo que lleva corriendo 2.4657264510790506 Min\n"
     ]
    },
    {
     "name": "stderr",
     "output_type": "stream",
     "text": [
      "INFO:fbprophet:Disabling daily seasonality. Run prophet with daily_seasonality=True to override this.\n"
     ]
    },
    {
     "name": "stdout",
     "output_type": "stream",
     "text": [
      "El producto demoró 1.8250672817230225 Centro Norte San Felipe\n",
      "tiempo que lleva corriendo 2.4961525797843933 Min\n"
     ]
    },
    {
     "name": "stderr",
     "output_type": "stream",
     "text": [
      "INFO:fbprophet:Disabling daily seasonality. Run prophet with daily_seasonality=True to override this.\n"
     ]
    },
    {
     "name": "stdout",
     "output_type": "stream",
     "text": [
      "El producto demoró 1.6584250926971436 Centro Norte San Felipe\n",
      "tiempo que lleva corriendo 2.523818016052246 Min\n"
     ]
    },
    {
     "name": "stderr",
     "output_type": "stream",
     "text": [
      "INFO:fbprophet:Disabling daily seasonality. Run prophet with daily_seasonality=True to override this.\n"
     ]
    },
    {
     "name": "stdout",
     "output_type": "stream",
     "text": [
      "El producto demoró 1.8791143894195557 Centro Norte San Felipe\n",
      "tiempo que lleva corriendo 2.5551616112391153 Min\n"
     ]
    },
    {
     "name": "stderr",
     "output_type": "stream",
     "text": [
      "INFO:fbprophet:Disabling daily seasonality. Run prophet with daily_seasonality=True to override this.\n"
     ]
    },
    {
     "name": "stdout",
     "output_type": "stream",
     "text": [
      "El producto demoró 1.7039639949798584 Centro Norte San Felipe\n",
      "tiempo que lleva corriendo 2.583569347858429 Min\n",
      "Viña del Mar\n"
     ]
    },
    {
     "name": "stderr",
     "output_type": "stream",
     "text": [
      "INFO:fbprophet:Disabling daily seasonality. Run prophet with daily_seasonality=True to override this.\n"
     ]
    },
    {
     "name": "stdout",
     "output_type": "stream",
     "text": [
      "El producto demoró 2.305980920791626 Centro Norte Viña del Mar\n",
      "tiempo que lleva corriendo 2.622352655728658 Min\n"
     ]
    },
    {
     "name": "stderr",
     "output_type": "stream",
     "text": [
      "INFO:fbprophet:Disabling daily seasonality. Run prophet with daily_seasonality=True to override this.\n"
     ]
    },
    {
     "name": "stdout",
     "output_type": "stream",
     "text": [
      "El producto demoró 1.6589250564575195 Centro Norte Viña del Mar\n",
      "tiempo que lleva corriendo 2.650018088022868 Min\n"
     ]
    },
    {
     "name": "stderr",
     "output_type": "stream",
     "text": [
      "INFO:fbprophet:Disabling daily seasonality. Run prophet with daily_seasonality=True to override this.\n"
     ]
    },
    {
     "name": "stdout",
     "output_type": "stream",
     "text": [
      "El producto demoró 1.6359052658081055 Centro Norte Viña del Mar\n",
      "tiempo que lleva corriendo 2.6772998571395874 Min\n"
     ]
    },
    {
     "name": "stderr",
     "output_type": "stream",
     "text": [
      "INFO:fbprophet:Disabling daily seasonality. Run prophet with daily_seasonality=True to override this.\n"
     ]
    },
    {
     "name": "stdout",
     "output_type": "stream",
     "text": [
      "El producto demoró 1.6704356670379639 Centro Norte Viña del Mar\n",
      "tiempo que lleva corriendo 2.7051571210225425 Min\n"
     ]
    },
    {
     "name": "stderr",
     "output_type": "stream",
     "text": [
      "INFO:fbprophet:Disabling daily seasonality. Run prophet with daily_seasonality=True to override this.\n"
     ]
    },
    {
     "name": "stdout",
     "output_type": "stream",
     "text": [
      "El producto demoró 1.8626008033752441 Centro Norte Viña del Mar\n",
      "tiempo que lleva corriendo 2.736225477854411 Min\n"
     ]
    },
    {
     "name": "stderr",
     "output_type": "stream",
     "text": [
      "INFO:fbprophet:Disabling daily seasonality. Run prophet with daily_seasonality=True to override this.\n"
     ]
    },
    {
     "name": "stdout",
     "output_type": "stream",
     "text": [
      "El producto demoró 1.6989598274230957 Centro Norte Viña del Mar\n",
      "tiempo que lleva corriendo 2.764566485087077 Min\n"
     ]
    },
    {
     "name": "stderr",
     "output_type": "stream",
     "text": [
      "INFO:fbprophet:Disabling daily seasonality. Run prophet with daily_seasonality=True to override this.\n"
     ]
    },
    {
     "name": "stdout",
     "output_type": "stream",
     "text": [
      "El producto demoró 1.6594264507293701 Centro Norte Viña del Mar\n",
      "tiempo que lleva corriendo 2.7922402660051984 Min\n"
     ]
    },
    {
     "name": "stderr",
     "output_type": "stream",
     "text": [
      "INFO:fbprophet:Disabling daily seasonality. Run prophet with daily_seasonality=True to override this.\n"
     ]
    },
    {
     "name": "stdout",
     "output_type": "stream",
     "text": [
      "El producto demoró 1.907639503479004 Centro Norte Viña del Mar\n",
      "tiempo que lleva corriendo 2.824059255917867 Min\n"
     ]
    },
    {
     "name": "stderr",
     "output_type": "stream",
     "text": [
      "INFO:fbprophet:Disabling daily seasonality. Run prophet with daily_seasonality=True to override this.\n"
     ]
    },
    {
     "name": "stdout",
     "output_type": "stream",
     "text": [
      "El producto demoró 1.6974589824676514 Centro Norte Viña del Mar\n",
      "tiempo que lleva corriendo 2.8523669203122455 Min\n"
     ]
    },
    {
     "name": "stderr",
     "output_type": "stream",
     "text": [
      "INFO:fbprophet:Disabling daily seasonality. Run prophet with daily_seasonality=True to override this.\n"
     ]
    },
    {
     "name": "stdout",
     "output_type": "stream",
     "text": [
      "El producto demoró 1.7675180435180664 Centro Norte Viña del Mar\n",
      "tiempo que lleva corriendo 2.88182555437088 Min\n"
     ]
    },
    {
     "name": "stderr",
     "output_type": "stream",
     "text": [
      "INFO:fbprophet:Disabling daily seasonality. Run prophet with daily_seasonality=True to override this.\n"
     ]
    },
    {
     "name": "stdout",
     "output_type": "stream",
     "text": [
      "El producto demoró 1.5658447742462158 Centro Norte Viña del Mar\n",
      "tiempo que lleva corriendo 2.907931307951609 Min\n"
     ]
    },
    {
     "name": "stderr",
     "output_type": "stream",
     "text": [
      "INFO:fbprophet:Disabling daily seasonality. Run prophet with daily_seasonality=True to override this.\n"
     ]
    },
    {
     "name": "stdout",
     "output_type": "stream",
     "text": [
      "El producto demoró 1.677440881729126 Centro Norte Viña del Mar\n",
      "tiempo que lleva corriendo 2.9358970085779825 Min\n",
      "El producto demoró 1.7384932041168213 Centro Norte Viña del Mar\n",
      "tiempo que lleva corriendo 2.964888568719228 Min\n",
      "Centro Sur\n",
      "Chillan\n"
     ]
    },
    {
     "name": "stderr",
     "output_type": "stream",
     "text": [
      "INFO:fbprophet:Disabling daily seasonality. Run prophet with daily_seasonality=True to override this.\n",
      "INFO:fbprophet:Disabling daily seasonality. Run prophet with daily_seasonality=True to override this.\n"
     ]
    },
    {
     "name": "stdout",
     "output_type": "stream",
     "text": [
      "El producto demoró 1.8175609111785889 Centro Sur Chillan\n",
      "tiempo que lleva corriendo 2.9982755819956464 Min\n"
     ]
    },
    {
     "name": "stderr",
     "output_type": "stream",
     "text": [
      "INFO:fbprophet:Disabling daily seasonality. Run prophet with daily_seasonality=True to override this.\n"
     ]
    },
    {
     "name": "stdout",
     "output_type": "stream",
     "text": [
      "El producto demoró 1.60487961769104 Centro Sur Chillan\n",
      "tiempo que lleva corriendo 3.0250402410825092 Min\n"
     ]
    },
    {
     "name": "stderr",
     "output_type": "stream",
     "text": [
      "INFO:fbprophet:Disabling daily seasonality. Run prophet with daily_seasonality=True to override this.\n"
     ]
    },
    {
     "name": "stdout",
     "output_type": "stream",
     "text": [
      "El producto demoró 1.665431022644043 Centro Sur Chillan\n",
      "tiempo que lleva corriendo 3.05282244682312 Min\n"
     ]
    },
    {
     "name": "stderr",
     "output_type": "stream",
     "text": [
      "INFO:fbprophet:Disabling daily seasonality. Run prophet with daily_seasonality=True to override this.\n"
     ]
    },
    {
     "name": "stdout",
     "output_type": "stream",
     "text": [
      "El producto demoró 1.8000471591949463 Centro Sur Chillan\n",
      "tiempo que lleva corriendo 3.082831561565399 Min\n"
     ]
    },
    {
     "name": "stderr",
     "output_type": "stream",
     "text": [
      "INFO:fbprophet:Disabling daily seasonality. Run prophet with daily_seasonality=True to override this.\n"
     ]
    },
    {
     "name": "stdout",
     "output_type": "stream",
     "text": [
      "El producto demoró 2.069277048110962 Centro Sur Chillan\n",
      "tiempo que lleva corriendo 3.1173361937204995 Min\n"
     ]
    },
    {
     "name": "stderr",
     "output_type": "stream",
     "text": [
      "INFO:fbprophet:Disabling daily seasonality. Run prophet with daily_seasonality=True to override this.\n"
     ]
    },
    {
     "name": "stdout",
     "output_type": "stream",
     "text": [
      "El producto demoró 1.590867519378662 Centro Sur Chillan\n",
      "tiempo que lleva corriendo 3.14386731783549 Min\n"
     ]
    },
    {
     "name": "stderr",
     "output_type": "stream",
     "text": [
      "INFO:fbprophet:Disabling daily seasonality. Run prophet with daily_seasonality=True to override this.\n"
     ]
    },
    {
     "name": "stdout",
     "output_type": "stream",
     "text": [
      "El producto demoró 1.6158881187438965 Centro Sur Chillan\n",
      "tiempo que lleva corriendo 3.1708071271578473 Min\n"
     ]
    },
    {
     "name": "stderr",
     "output_type": "stream",
     "text": [
      "INFO:fbprophet:Disabling daily seasonality. Run prophet with daily_seasonality=True to override this.\n"
     ]
    },
    {
     "name": "stdout",
     "output_type": "stream",
     "text": [
      "El producto demoró 1.937164306640625 Centro Sur Chillan\n",
      "tiempo que lleva corriendo 3.203109880288442 Min\n"
     ]
    },
    {
     "name": "stderr",
     "output_type": "stream",
     "text": [
      "INFO:fbprophet:Disabling daily seasonality. Run prophet with daily_seasonality=True to override this.\n"
     ]
    },
    {
     "name": "stdout",
     "output_type": "stream",
     "text": [
      "El producto demoró 1.9792006015777588 Centro Sur Chillan\n",
      "tiempo que lleva corriendo 3.2360965569814044 Min\n"
     ]
    },
    {
     "name": "stderr",
     "output_type": "stream",
     "text": [
      "INFO:fbprophet:Disabling daily seasonality. Run prophet with daily_seasonality=True to override this.\n"
     ]
    },
    {
     "name": "stdout",
     "output_type": "stream",
     "text": [
      "El producto demoró 1.7470004558563232 Centro Sur Chillan\n",
      "tiempo que lleva corriendo 3.265229896704356 Min\n"
     ]
    },
    {
     "name": "stderr",
     "output_type": "stream",
     "text": [
      "INFO:fbprophet:Disabling daily seasonality. Run prophet with daily_seasonality=True to override this.\n"
     ]
    },
    {
     "name": "stdout",
     "output_type": "stream",
     "text": [
      "El producto demoró 1.7359912395477295 Centro Sur Chillan\n",
      "tiempo que lleva corriendo 3.294188114007314 Min\n"
     ]
    },
    {
     "name": "stderr",
     "output_type": "stream",
     "text": [
      "INFO:fbprophet:Disabling daily seasonality. Run prophet with daily_seasonality=True to override this.\n"
     ]
    },
    {
     "name": "stdout",
     "output_type": "stream",
     "text": [
      "El producto demoró 1.7725231647491455 Centro Sur Chillan\n",
      "tiempo que lleva corriendo 3.3237551848093667 Min\n"
     ]
    },
    {
     "name": "stderr",
     "output_type": "stream",
     "text": [
      "INFO:fbprophet:Disabling daily seasonality. Run prophet with daily_seasonality=True to override this.\n"
     ]
    },
    {
     "name": "stdout",
     "output_type": "stream",
     "text": [
      "El producto demoró 1.9942128658294678 Centro Sur Chillan\n",
      "tiempo que lleva corriendo 3.3570087432861326 Min\n",
      "Concepcion\n"
     ]
    },
    {
     "name": "stderr",
     "output_type": "stream",
     "text": [
      "INFO:fbprophet:Disabling daily seasonality. Run prophet with daily_seasonality=True to override this.\n"
     ]
    },
    {
     "name": "stdout",
     "output_type": "stream",
     "text": [
      "El producto demoró 1.6799430847167969 Centro Sur Concepcion\n",
      "tiempo que lleva corriendo 3.385408139228821 Min\n"
     ]
    },
    {
     "name": "stderr",
     "output_type": "stream",
     "text": [
      "INFO:fbprophet:Disabling daily seasonality. Run prophet with daily_seasonality=True to override this.\n"
     ]
    },
    {
     "name": "stdout",
     "output_type": "stream",
     "text": [
      "El producto demoró 1.5988736152648926 Centro Sur Concepcion\n",
      "tiempo que lleva corriendo 3.4120810627937317 Min\n"
     ]
    },
    {
     "name": "stderr",
     "output_type": "stream",
     "text": [
      "INFO:fbprophet:Disabling daily seasonality. Run prophet with daily_seasonality=True to override this.\n"
     ]
    },
    {
     "name": "stdout",
     "output_type": "stream",
     "text": [
      "El producto demoró 1.6619272232055664 Centro Sur Concepcion\n",
      "tiempo que lleva corriendo 3.43979651927948 Min\n"
     ]
    },
    {
     "name": "stderr",
     "output_type": "stream",
     "text": [
      "INFO:fbprophet:Disabling daily seasonality. Run prophet with daily_seasonality=True to override this.\n"
     ]
    },
    {
     "name": "stdout",
     "output_type": "stream",
     "text": [
      "El producto demoró 1.5413248538970947 Centro Sur Concepcion\n",
      "tiempo que lleva corriendo 3.465493599573771 Min\n"
     ]
    },
    {
     "name": "stderr",
     "output_type": "stream",
     "text": [
      "INFO:fbprophet:Disabling daily seasonality. Run prophet with daily_seasonality=True to override this.\n"
     ]
    },
    {
     "name": "stdout",
     "output_type": "stream",
     "text": [
      "El producto demoró 1.7815308570861816 Centro Sur Concepcion\n",
      "tiempo que lleva corriendo 3.4952024539311726 Min\n"
     ]
    },
    {
     "name": "stderr",
     "output_type": "stream",
     "text": [
      "INFO:fbprophet:Disabling daily seasonality. Run prophet with daily_seasonality=True to override this.\n"
     ]
    },
    {
     "name": "stdout",
     "output_type": "stream",
     "text": [
      "El producto demoró 2.0612711906433105 Centro Sur Concepcion\n",
      "tiempo que lleva corriendo 3.5295819878578185 Min\n"
     ]
    },
    {
     "name": "stderr",
     "output_type": "stream",
     "text": [
      "INFO:fbprophet:Disabling daily seasonality. Run prophet with daily_seasonality=True to override this.\n"
     ]
    },
    {
     "name": "stdout",
     "output_type": "stream",
     "text": [
      "El producto demoró 1.5653460025787354 Centro Sur Concepcion\n",
      "tiempo que lleva corriendo 3.555704422791799 Min\n"
     ]
    },
    {
     "name": "stderr",
     "output_type": "stream",
     "text": [
      "INFO:fbprophet:Disabling daily seasonality. Run prophet with daily_seasonality=True to override this.\n"
     ]
    },
    {
     "name": "stdout",
     "output_type": "stream",
     "text": [
      "El producto demoró 1.688951015472412 Centro Sur Concepcion\n",
      "tiempo que lleva corriendo 3.5838786363601685 Min\n"
     ]
    },
    {
     "name": "stderr",
     "output_type": "stream",
     "text": [
      "INFO:fbprophet:Disabling daily seasonality. Run prophet with daily_seasonality=True to override this.\n"
     ]
    },
    {
     "name": "stdout",
     "output_type": "stream",
     "text": [
      "El producto demoró 1.9161465167999268 Centro Sur Concepcion\n",
      "tiempo que lleva corriendo 3.6158310770988464 Min\n"
     ]
    },
    {
     "name": "stderr",
     "output_type": "stream",
     "text": [
      "INFO:fbprophet:Disabling daily seasonality. Run prophet with daily_seasonality=True to override this.\n"
     ]
    },
    {
     "name": "stdout",
     "output_type": "stream",
     "text": [
      "El producto demoró 1.6599254608154297 Centro Sur Concepcion\n",
      "tiempo que lleva corriendo 3.643521531422933 Min\n"
     ]
    },
    {
     "name": "stderr",
     "output_type": "stream",
     "text": [
      "INFO:fbprophet:Disabling daily seasonality. Run prophet with daily_seasonality=True to override this.\n"
     ]
    },
    {
     "name": "stdout",
     "output_type": "stream",
     "text": [
      "El producto demoró 1.4972865581512451 Centro Sur Concepcion\n",
      "tiempo que lleva corriendo 3.6684929927190146 Min\n"
     ]
    },
    {
     "name": "stderr",
     "output_type": "stream",
     "text": [
      "INFO:fbprophet:Disabling daily seasonality. Run prophet with daily_seasonality=True to override this.\n"
     ]
    },
    {
     "name": "stdout",
     "output_type": "stream",
     "text": [
      "El producto demoró 1.6344037055969238 Centro Sur Concepcion\n",
      "tiempo que lleva corriendo 3.6957330544789633 Min\n"
     ]
    },
    {
     "name": "stderr",
     "output_type": "stream",
     "text": [
      "INFO:fbprophet:Disabling daily seasonality. Run prophet with daily_seasonality=True to override this.\n"
     ]
    },
    {
     "name": "stdout",
     "output_type": "stream",
     "text": [
      "El producto demoró 1.6534206867218018 Centro Sur Concepcion\n",
      "tiempo que lleva corriendo 3.723306743303935 Min\n",
      "Curico\n"
     ]
    },
    {
     "name": "stderr",
     "output_type": "stream",
     "text": [
      "INFO:fbprophet:Disabling daily seasonality. Run prophet with daily_seasonality=True to override this.\n"
     ]
    },
    {
     "name": "stdout",
     "output_type": "stream",
     "text": [
      "El producto demoró 1.6444127559661865 Centro Sur Curico\n",
      "tiempo que lleva corriendo 3.7511222918828326 Min\n"
     ]
    },
    {
     "name": "stderr",
     "output_type": "stream",
     "text": [
      "INFO:fbprophet:Disabling daily seasonality. Run prophet with daily_seasonality=True to override this.\n"
     ]
    },
    {
     "name": "stdout",
     "output_type": "stream",
     "text": [
      "El producto demoró 1.5473296642303467 Centro Sur Curico\n",
      "tiempo que lleva corriendo 3.776936133702596 Min\n"
     ]
    },
    {
     "name": "stderr",
     "output_type": "stream",
     "text": [
      "INFO:fbprophet:Disabling daily seasonality. Run prophet with daily_seasonality=True to override this.\n"
     ]
    },
    {
     "name": "stdout",
     "output_type": "stream",
     "text": [
      "El producto demoró 1.668433666229248 Centro Sur Curico\n",
      "tiempo que lleva corriendo 3.80476838350296 Min\n"
     ]
    },
    {
     "name": "stderr",
     "output_type": "stream",
     "text": [
      "INFO:fbprophet:Disabling daily seasonality. Run prophet with daily_seasonality=True to override this.\n"
     ]
    },
    {
     "name": "stdout",
     "output_type": "stream",
     "text": [
      "El producto demoró 1.868105411529541 Centro Sur Curico\n",
      "tiempo que lleva corriendo 3.835920151074727 Min\n"
     ]
    },
    {
     "name": "stderr",
     "output_type": "stream",
     "text": [
      "INFO:fbprophet:Disabling daily seasonality. Run prophet with daily_seasonality=True to override this.\n"
     ]
    },
    {
     "name": "stdout",
     "output_type": "stream",
     "text": [
      "El producto demoró 1.792039394378662 Centro Sur Curico\n",
      "tiempo que lleva corriendo 3.865804139773051 Min\n"
     ]
    },
    {
     "name": "stderr",
     "output_type": "stream",
     "text": [
      "INFO:fbprophet:Disabling daily seasonality. Run prophet with daily_seasonality=True to override this.\n"
     ]
    },
    {
     "name": "stdout",
     "output_type": "stream",
     "text": [
      "El producto demoró 2.0102267265319824 Centro Sur Curico\n",
      "tiempo que lleva corriendo 3.8993329405784607 Min\n"
     ]
    },
    {
     "name": "stderr",
     "output_type": "stream",
     "text": [
      "INFO:fbprophet:Disabling daily seasonality. Run prophet with daily_seasonality=True to override this.\n"
     ]
    },
    {
     "name": "stdout",
     "output_type": "stream",
     "text": [
      "El producto demoró 1.9521770477294922 Centro Sur Curico\n",
      "tiempo que lleva corriendo 3.93188591003418 Min\n"
     ]
    },
    {
     "name": "stderr",
     "output_type": "stream",
     "text": [
      "INFO:fbprophet:Disabling daily seasonality. Run prophet with daily_seasonality=True to override this.\n"
     ]
    },
    {
     "name": "stdout",
     "output_type": "stream",
     "text": [
      "El producto demoró 1.5723507404327393 Centro Sur Curico\n",
      "tiempo que lleva corriendo 3.958108433087667 Min\n"
     ]
    },
    {
     "name": "stderr",
     "output_type": "stream",
     "text": [
      "INFO:fbprophet:Disabling daily seasonality. Run prophet with daily_seasonality=True to override this.\n"
     ]
    },
    {
     "name": "stdout",
     "output_type": "stream",
     "text": [
      "El producto demoró 1.632901906967163 Centro Sur Curico\n",
      "tiempo que lleva corriendo 3.9853485067685446 Min\n"
     ]
    },
    {
     "name": "stderr",
     "output_type": "stream",
     "text": [
      "INFO:fbprophet:Disabling daily seasonality. Run prophet with daily_seasonality=True to override this.\n"
     ]
    },
    {
     "name": "stdout",
     "output_type": "stream",
     "text": [
      "El producto demoró 1.6354050636291504 Centro Sur Curico\n",
      "tiempo que lleva corriendo 4.0126219391822815 Min\n"
     ]
    },
    {
     "name": "stderr",
     "output_type": "stream",
     "text": [
      "INFO:fbprophet:Disabling daily seasonality. Run prophet with daily_seasonality=True to override this.\n"
     ]
    },
    {
     "name": "stdout",
     "output_type": "stream",
     "text": [
      "El producto demoró 1.6273982524871826 Centro Sur Curico\n",
      "tiempo que lleva corriendo 4.039761908849081 Min\n"
     ]
    },
    {
     "name": "stderr",
     "output_type": "stream",
     "text": [
      "INFO:fbprophet:Disabling daily seasonality. Run prophet with daily_seasonality=True to override this.\n"
     ]
    },
    {
     "name": "stdout",
     "output_type": "stream",
     "text": [
      "El producto demoró 1.8350775241851807 Centro Sur Curico\n",
      "tiempo que lleva corriendo 4.070363199710846 Min\n"
     ]
    },
    {
     "name": "stderr",
     "output_type": "stream",
     "text": [
      "INFO:fbprophet:Disabling daily seasonality. Run prophet with daily_seasonality=True to override this.\n"
     ]
    },
    {
     "name": "stdout",
     "output_type": "stream",
     "text": [
      "El producto demoró 1.6614267826080322 Centro Sur Curico\n",
      "tiempo que lleva corriendo 4.098070327440897 Min\n",
      "Los Angeles\n"
     ]
    },
    {
     "name": "stderr",
     "output_type": "stream",
     "text": [
      "INFO:fbprophet:Disabling daily seasonality. Run prophet with daily_seasonality=True to override this.\n"
     ]
    },
    {
     "name": "stdout",
     "output_type": "stream",
     "text": [
      "El producto demoró 1.6369059085845947 Centro Sur Los Angeles\n",
      "tiempo que lleva corriendo 4.1257524490356445 Min\n"
     ]
    },
    {
     "name": "stderr",
     "output_type": "stream",
     "text": [
      "INFO:fbprophet:Disabling daily seasonality. Run prophet with daily_seasonality=True to override this.\n"
     ]
    },
    {
     "name": "stdout",
     "output_type": "stream",
     "text": [
      "El producto demoró 1.6469144821166992 Centro Sur Los Angeles\n",
      "tiempo que lleva corriendo 4.153209372361501 Min\n"
     ]
    },
    {
     "name": "stderr",
     "output_type": "stream",
     "text": [
      "INFO:fbprophet:Disabling daily seasonality. Run prophet with daily_seasonality=True to override this.\n"
     ]
    },
    {
     "name": "stdout",
     "output_type": "stream",
     "text": [
      "El producto demoró 1.687448501586914 Centro Sur Los Angeles\n",
      "tiempo que lleva corriendo 4.181358555952708 Min\n"
     ]
    },
    {
     "name": "stderr",
     "output_type": "stream",
     "text": [
      "INFO:fbprophet:Disabling daily seasonality. Run prophet with daily_seasonality=True to override this.\n"
     ]
    },
    {
     "name": "stdout",
     "output_type": "stream",
     "text": [
      "El producto demoró 1.7990458011627197 Centro Sur Los Angeles\n",
      "tiempo que lleva corriendo 4.211367662747701 Min\n"
     ]
    },
    {
     "name": "stderr",
     "output_type": "stream",
     "text": [
      "INFO:fbprophet:Disabling daily seasonality. Run prophet with daily_seasonality=True to override this.\n"
     ]
    },
    {
     "name": "stdout",
     "output_type": "stream",
     "text": [
      "El producto demoró 1.6959571838378906 Centro Sur Los Angeles\n",
      "tiempo que lleva corriendo 4.239658621946971 Min\n"
     ]
    },
    {
     "name": "stderr",
     "output_type": "stream",
     "text": [
      "INFO:fbprophet:Disabling daily seasonality. Run prophet with daily_seasonality=True to override this.\n"
     ]
    },
    {
     "name": "stdout",
     "output_type": "stream",
     "text": [
      "El producto demoró 1.6409106254577637 Centro Sur Los Angeles\n",
      "tiempo que lleva corriendo 4.267032142480215 Min\n"
     ]
    },
    {
     "name": "stderr",
     "output_type": "stream",
     "text": [
      "INFO:fbprophet:Disabling daily seasonality. Run prophet with daily_seasonality=True to override this.\n"
     ]
    },
    {
     "name": "stdout",
     "output_type": "stream",
     "text": [
      "El producto demoró 1.5653448104858398 Centro Sur Los Angeles\n",
      "tiempo que lleva corriendo 4.293137896060943 Min\n"
     ]
    },
    {
     "name": "stderr",
     "output_type": "stream",
     "text": [
      "INFO:fbprophet:Disabling daily seasonality. Run prophet with daily_seasonality=True to override this.\n"
     ]
    },
    {
     "name": "stdout",
     "output_type": "stream",
     "text": [
      "El producto demoró 1.8020484447479248 Centro Sur Los Angeles\n",
      "tiempo que lleva corriendo 4.323188706239065 Min\n"
     ]
    },
    {
     "name": "stderr",
     "output_type": "stream",
     "text": [
      "INFO:fbprophet:Disabling daily seasonality. Run prophet with daily_seasonality=True to override this.\n"
     ]
    },
    {
     "name": "stdout",
     "output_type": "stream",
     "text": [
      "El producto demoró 1.7670183181762695 Centro Sur Los Angeles\n",
      "tiempo que lleva corriendo 4.352664029598236 Min\n"
     ]
    },
    {
     "name": "stderr",
     "output_type": "stream",
     "text": [
      "INFO:fbprophet:Disabling daily seasonality. Run prophet with daily_seasonality=True to override this.\n"
     ]
    },
    {
     "name": "stdout",
     "output_type": "stream",
     "text": [
      "El producto demoró 1.7475016117095947 Centro Sur Los Angeles\n",
      "tiempo que lleva corriendo 4.381814074516297 Min\n"
     ]
    },
    {
     "name": "stderr",
     "output_type": "stream",
     "text": [
      "INFO:fbprophet:Disabling daily seasonality. Run prophet with daily_seasonality=True to override this.\n"
     ]
    },
    {
     "name": "stdout",
     "output_type": "stream",
     "text": [
      "El producto demoró 1.7955427169799805 Centro Sur Los Angeles\n",
      "tiempo que lleva corriendo 4.411739786465962 Min\n"
     ]
    },
    {
     "name": "stderr",
     "output_type": "stream",
     "text": [
      "INFO:fbprophet:Disabling daily seasonality. Run prophet with daily_seasonality=True to override this.\n"
     ]
    },
    {
     "name": "stdout",
     "output_type": "stream",
     "text": [
      "El producto demoró 1.614386796951294 Centro Sur Los Angeles\n",
      "tiempo que lleva corriendo 4.438662918408712 Min\n"
     ]
    },
    {
     "name": "stderr",
     "output_type": "stream",
     "text": [
      "INFO:fbprophet:Disabling daily seasonality. Run prophet with daily_seasonality=True to override this.\n"
     ]
    },
    {
     "name": "stdout",
     "output_type": "stream",
     "text": [
      "El producto demoró 1.7119700908660889 Centro Sur Los Angeles\n",
      "tiempo que lleva corriendo 4.467220783233643 Min\n",
      "Rancagua\n"
     ]
    },
    {
     "name": "stderr",
     "output_type": "stream",
     "text": [
      "INFO:fbprophet:Disabling daily seasonality. Run prophet with daily_seasonality=True to override this.\n"
     ]
    },
    {
     "name": "stdout",
     "output_type": "stream",
     "text": [
      "El producto demoró 1.7394952774047852 Centro Sur Rancagua\n",
      "tiempo que lleva corriendo 4.496629369258881 Min\n"
     ]
    },
    {
     "name": "stderr",
     "output_type": "stream",
     "text": [
      "INFO:fbprophet:Disabling daily seasonality. Run prophet with daily_seasonality=True to override this.\n"
     ]
    },
    {
     "name": "stdout",
     "output_type": "stream",
     "text": [
      "El producto demoró 1.7099692821502686 Centro Sur Rancagua\n",
      "tiempo que lleva corriendo 4.525137201944987 Min\n"
     ]
    },
    {
     "name": "stderr",
     "output_type": "stream",
     "text": [
      "INFO:fbprophet:Disabling daily seasonality. Run prophet with daily_seasonality=True to override this.\n"
     ]
    },
    {
     "name": "stdout",
     "output_type": "stream",
     "text": [
      "El producto demoró 1.7905378341674805 Centro Sur Rancagua\n",
      "tiempo que lleva corriendo 4.554987835884094 Min\n"
     ]
    },
    {
     "name": "stderr",
     "output_type": "stream",
     "text": [
      "INFO:fbprophet:Disabling daily seasonality. Run prophet with daily_seasonality=True to override this.\n"
     ]
    },
    {
     "name": "stdout",
     "output_type": "stream",
     "text": [
      "El producto demoró 1.6529207229614258 Centro Sur Rancagua\n",
      "tiempo que lleva corriendo 4.582544847329458 Min\n"
     ]
    },
    {
     "name": "stderr",
     "output_type": "stream",
     "text": [
      "INFO:fbprophet:Disabling daily seasonality. Run prophet with daily_seasonality=True to override this.\n"
     ]
    },
    {
     "name": "stdout",
     "output_type": "stream",
     "text": [
      "El producto demoró 1.946171522140503 Centro Sur Rancagua\n",
      "tiempo que lleva corriendo 4.615014398097992 Min\n"
     ]
    },
    {
     "name": "stderr",
     "output_type": "stream",
     "text": [
      "INFO:fbprophet:Disabling daily seasonality. Run prophet with daily_seasonality=True to override this.\n"
     ]
    },
    {
     "name": "stdout",
     "output_type": "stream",
     "text": [
      "El producto demoró 1.6809437274932861 Centro Sur Rancagua\n",
      "tiempo que lleva corriendo 4.643038471539815 Min\n"
     ]
    },
    {
     "name": "stderr",
     "output_type": "stream",
     "text": [
      "INFO:fbprophet:Disabling daily seasonality. Run prophet with daily_seasonality=True to override this.\n"
     ]
    },
    {
     "name": "stdout",
     "output_type": "stream",
     "text": [
      "El producto demoró 2.857455015182495 Centro Sur Rancagua\n",
      "tiempo que lleva corriendo 4.690679407119751 Min\n"
     ]
    },
    {
     "name": "stderr",
     "output_type": "stream",
     "text": [
      "INFO:fbprophet:Disabling daily seasonality. Run prophet with daily_seasonality=True to override this.\n"
     ]
    },
    {
     "name": "stdout",
     "output_type": "stream",
     "text": [
      "El producto demoró 1.6654303073883057 Centro Sur Rancagua\n",
      "tiempo que lleva corriendo 4.718453248341878 Min\n"
     ]
    },
    {
     "name": "stderr",
     "output_type": "stream",
     "text": [
      "INFO:fbprophet:Disabling daily seasonality. Run prophet with daily_seasonality=True to override this.\n"
     ]
    },
    {
     "name": "stdout",
     "output_type": "stream",
     "text": [
      "El producto demoró 1.8836183547973633 Centro Sur Rancagua\n",
      "tiempo que lleva corriendo 4.749871905644735 Min\n"
     ]
    },
    {
     "name": "stderr",
     "output_type": "stream",
     "text": [
      "INFO:fbprophet:Disabling daily seasonality. Run prophet with daily_seasonality=True to override this.\n"
     ]
    },
    {
     "name": "stdout",
     "output_type": "stream",
     "text": [
      "El producto demoró 1.8721082210540771 Centro Sur Rancagua\n",
      "tiempo que lleva corriendo 4.781098735332489 Min\n"
     ]
    },
    {
     "name": "stderr",
     "output_type": "stream",
     "text": [
      "INFO:fbprophet:Disabling daily seasonality. Run prophet with daily_seasonality=True to override this.\n"
     ]
    },
    {
     "name": "stdout",
     "output_type": "stream",
     "text": [
      "El producto demoró 1.6053802967071533 Centro Sur Rancagua\n",
      "tiempo que lleva corriendo 4.807880075772603 Min\n"
     ]
    },
    {
     "name": "stderr",
     "output_type": "stream",
     "text": [
      "INFO:fbprophet:Disabling daily seasonality. Run prophet with daily_seasonality=True to override this.\n"
     ]
    },
    {
     "name": "stdout",
     "output_type": "stream",
     "text": [
      "El producto demoró 1.8595974445343018 Centro Sur Rancagua\n",
      "tiempo que lleva corriendo 4.838898384571076 Min\n"
     ]
    },
    {
     "name": "stderr",
     "output_type": "stream",
     "text": [
      "INFO:fbprophet:Disabling daily seasonality. Run prophet with daily_seasonality=True to override this.\n"
     ]
    },
    {
     "name": "stdout",
     "output_type": "stream",
     "text": [
      "El producto demoró 1.6524195671081543 Centro Sur Rancagua\n",
      "tiempo que lleva corriendo 4.866455399990082 Min\n",
      "Talca\n"
     ]
    },
    {
     "name": "stderr",
     "output_type": "stream",
     "text": [
      "INFO:fbprophet:Disabling daily seasonality. Run prophet with daily_seasonality=True to override this.\n"
     ]
    },
    {
     "name": "stdout",
     "output_type": "stream",
     "text": [
      "El producto demoró 1.8045504093170166 Centro Sur Talca\n",
      "tiempo que lleva corriendo 4.896948250134786 Min\n"
     ]
    },
    {
     "name": "stderr",
     "output_type": "stream",
     "text": [
      "INFO:fbprophet:Disabling daily seasonality. Run prophet with daily_seasonality=True to override this.\n"
     ]
    },
    {
     "name": "stdout",
     "output_type": "stream",
     "text": [
      "El producto demoró 1.648416519165039 Centro Sur Talca\n",
      "tiempo que lleva corriendo 4.924438528219858 Min\n"
     ]
    },
    {
     "name": "stderr",
     "output_type": "stream",
     "text": [
      "INFO:fbprophet:Disabling daily seasonality. Run prophet with daily_seasonality=True to override this.\n"
     ]
    },
    {
     "name": "stdout",
     "output_type": "stream",
     "text": [
      "El producto demoró 1.8560943603515625 Centro Sur Talca\n",
      "tiempo que lleva corriendo 4.95538178284963 Min\n"
     ]
    },
    {
     "name": "stderr",
     "output_type": "stream",
     "text": [
      "INFO:fbprophet:Disabling daily seasonality. Run prophet with daily_seasonality=True to override this.\n"
     ]
    },
    {
     "name": "stdout",
     "output_type": "stream",
     "text": [
      "El producto demoró 1.8756113052368164 Centro Sur Talca\n",
      "tiempo que lleva corriendo 4.986650315920512 Min\n"
     ]
    },
    {
     "name": "stderr",
     "output_type": "stream",
     "text": [
      "INFO:fbprophet:Disabling daily seasonality. Run prophet with daily_seasonality=True to override this.\n"
     ]
    },
    {
     "name": "stdout",
     "output_type": "stream",
     "text": [
      "El producto demoró 2.1728665828704834 Centro Sur Talca\n",
      "tiempo que lleva corriendo 5.0228814323743185 Min\n"
     ]
    },
    {
     "name": "stderr",
     "output_type": "stream",
     "text": [
      "INFO:fbprophet:Disabling daily seasonality. Run prophet with daily_seasonality=True to override this.\n"
     ]
    },
    {
     "name": "stdout",
     "output_type": "stream",
     "text": [
      "El producto demoró 1.7540066242218018 Centro Sur Talca\n",
      "tiempo que lleva corriendo 5.052131569385528 Min\n"
     ]
    },
    {
     "name": "stderr",
     "output_type": "stream",
     "text": [
      "INFO:fbprophet:Disabling daily seasonality. Run prophet with daily_seasonality=True to override this.\n"
     ]
    },
    {
     "name": "stdout",
     "output_type": "stream",
     "text": [
      "El producto demoró 1.6078805923461914 Centro Sur Talca\n",
      "tiempo que lleva corriendo 5.078937915960948 Min\n"
     ]
    },
    {
     "name": "stderr",
     "output_type": "stream",
     "text": [
      "INFO:fbprophet:Disabling daily seasonality. Run prophet with daily_seasonality=True to override this.\n"
     ]
    },
    {
     "name": "stdout",
     "output_type": "stream",
     "text": [
      "El producto demoró 2.0192348957061768 Centro Sur Talca\n",
      "tiempo que lleva corriendo 5.112616844971975 Min\n"
     ]
    },
    {
     "name": "stderr",
     "output_type": "stream",
     "text": [
      "INFO:fbprophet:Disabling daily seasonality. Run prophet with daily_seasonality=True to override this.\n"
     ]
    },
    {
     "name": "stdout",
     "output_type": "stream",
     "text": [
      "El producto demoró 1.8355767726898193 Centro Sur Talca\n",
      "tiempo que lleva corriendo 5.143234813213349 Min\n"
     ]
    },
    {
     "name": "stderr",
     "output_type": "stream",
     "text": [
      "INFO:fbprophet:Disabling daily seasonality. Run prophet with daily_seasonality=True to override this.\n"
     ]
    },
    {
     "name": "stdout",
     "output_type": "stream",
     "text": [
      "El producto demoró 2.3079822063446045 Centro Sur Talca\n",
      "tiempo que lleva corriendo 5.181726209322611 Min\n"
     ]
    },
    {
     "name": "stderr",
     "output_type": "stream",
     "text": [
      "INFO:fbprophet:Disabling daily seasonality. Run prophet with daily_seasonality=True to override this.\n"
     ]
    },
    {
     "name": "stdout",
     "output_type": "stream",
     "text": [
      "El producto demoró 1.876112937927246 Centro Sur Talca\n",
      "tiempo que lleva corriendo 5.212994758288065 Min\n"
     ]
    },
    {
     "name": "stderr",
     "output_type": "stream",
     "text": [
      "INFO:fbprophet:Disabling daily seasonality. Run prophet with daily_seasonality=True to override this.\n"
     ]
    },
    {
     "name": "stdout",
     "output_type": "stream",
     "text": [
      "El producto demoró 1.685948133468628 Centro Sur Talca\n",
      "tiempo que lleva corriendo 5.2411272366841635 Min\n"
     ]
    },
    {
     "name": "stderr",
     "output_type": "stream",
     "text": [
      "INFO:fbprophet:Disabling daily seasonality. Run prophet with daily_seasonality=True to override this.\n"
     ]
    },
    {
     "name": "stdout",
     "output_type": "stream",
     "text": [
      "El producto demoró 1.5153014659881592 Centro Sur Talca\n",
      "tiempo que lleva corriendo 5.266407295068105 Min\n",
      "Sur\n",
      "Castro\n"
     ]
    },
    {
     "name": "stderr",
     "output_type": "stream",
     "text": [
      "INFO:fbprophet:Disabling daily seasonality. Run prophet with daily_seasonality=True to override this.\n"
     ]
    },
    {
     "name": "stdout",
     "output_type": "stream",
     "text": [
      "El producto demoró 1.5528340339660645 Sur Castro\n",
      "tiempo que lleva corriendo 5.295207039515177 Min\n"
     ]
    },
    {
     "name": "stderr",
     "output_type": "stream",
     "text": [
      "INFO:fbprophet:Disabling daily seasonality. Run prophet with daily_seasonality=True to override this.\n"
     ]
    },
    {
     "name": "stdout",
     "output_type": "stream",
     "text": [
      "El producto demoró 1.6263976097106934 Sur Castro\n",
      "tiempo que lleva corriendo 5.322330327828725 Min\n"
     ]
    },
    {
     "name": "stderr",
     "output_type": "stream",
     "text": [
      "INFO:fbprophet:Disabling daily seasonality. Run prophet with daily_seasonality=True to override this.\n"
     ]
    },
    {
     "name": "stdout",
     "output_type": "stream",
     "text": [
      "El producto demoró 1.5413239002227783 Sur Castro\n",
      "tiempo que lleva corriendo 5.3480357448259985 Min\n"
     ]
    },
    {
     "name": "stderr",
     "output_type": "stream",
     "text": [
      "INFO:fbprophet:Disabling daily seasonality. Run prophet with daily_seasonality=True to override this.\n"
     ]
    },
    {
     "name": "stdout",
     "output_type": "stream",
     "text": [
      "El producto demoró 1.5508322715759277 Sur Castro\n",
      "tiempo que lleva corriendo 5.373899626731872 Min\n"
     ]
    },
    {
     "name": "stderr",
     "output_type": "stream",
     "text": [
      "INFO:fbprophet:Disabling daily seasonality. Run prophet with daily_seasonality=True to override this.\n"
     ]
    },
    {
     "name": "stdout",
     "output_type": "stream",
     "text": [
      "El producto demoró 2.1048076152801514 Sur Castro\n",
      "tiempo que lleva corriendo 5.409004779656728 Min\n"
     ]
    },
    {
     "name": "stderr",
     "output_type": "stream",
     "text": [
      "INFO:fbprophet:Disabling daily seasonality. Run prophet with daily_seasonality=True to override this.\n"
     ]
    },
    {
     "name": "stdout",
     "output_type": "stream",
     "text": [
      "El producto demoró 1.4852757453918457 Sur Castro\n",
      "tiempo que lleva corriendo 5.433792742093404 Min\n"
     ]
    },
    {
     "name": "stderr",
     "output_type": "stream",
     "text": [
      "INFO:fbprophet:Disabling daily seasonality. Run prophet with daily_seasonality=True to override this.\n"
     ]
    },
    {
     "name": "stdout",
     "output_type": "stream",
     "text": [
      "El producto demoró 1.641911268234253 Sur Castro\n",
      "tiempo que lleva corriendo 5.461182940006256 Min\n"
     ]
    },
    {
     "name": "stderr",
     "output_type": "stream",
     "text": [
      "INFO:fbprophet:Disabling daily seasonality. Run prophet with daily_seasonality=True to override this.\n"
     ]
    },
    {
     "name": "stdout",
     "output_type": "stream",
     "text": [
      "El producto demoró 1.662428379058838 Sur Castro\n",
      "tiempo que lleva corriendo 5.488906768957774 Min\n"
     ]
    },
    {
     "name": "stderr",
     "output_type": "stream",
     "text": [
      "INFO:fbprophet:Disabling daily seasonality. Run prophet with daily_seasonality=True to override this.\n"
     ]
    },
    {
     "name": "stdout",
     "output_type": "stream",
     "text": [
      "El producto demoró 1.680443286895752 Sur Castro\n",
      "tiempo que lleva corriendo 5.516922497749329 Min\n"
     ]
    },
    {
     "name": "stderr",
     "output_type": "stream",
     "text": [
      "INFO:fbprophet:Disabling daily seasonality. Run prophet with daily_seasonality=True to override this.\n"
     ]
    },
    {
     "name": "stdout",
     "output_type": "stream",
     "text": [
      "El producto demoró 1.6614272594451904 Sur Castro\n",
      "tiempo que lleva corriendo 5.544629621505737 Min\n"
     ]
    },
    {
     "name": "stderr",
     "output_type": "stream",
     "text": [
      "INFO:fbprophet:Disabling daily seasonality. Run prophet with daily_seasonality=True to override this.\n"
     ]
    },
    {
     "name": "stdout",
     "output_type": "stream",
     "text": [
      "El producto demoró 1.7049648761749268 Sur Castro\n",
      "tiempo que lleva corriendo 5.573062380154927 Min\n"
     ]
    },
    {
     "name": "stderr",
     "output_type": "stream",
     "text": [
      "INFO:fbprophet:Disabling daily seasonality. Run prophet with daily_seasonality=True to override this.\n"
     ]
    },
    {
     "name": "stdout",
     "output_type": "stream",
     "text": [
      "El producto demoró 1.4842753410339355 Sur Castro\n",
      "tiempo que lleva corriendo 5.5978086471557615 Min\n"
     ]
    },
    {
     "name": "stderr",
     "output_type": "stream",
     "text": [
      "INFO:fbprophet:Disabling daily seasonality. Run prophet with daily_seasonality=True to override this.\n"
     ]
    },
    {
     "name": "stdout",
     "output_type": "stream",
     "text": [
      "El producto demoró 1.8646013736724854 Sur Castro\n",
      "tiempo que lleva corriendo 5.628910366694132 Min\n",
      "Coyhaique\n"
     ]
    },
    {
     "name": "stderr",
     "output_type": "stream",
     "text": [
      "INFO:fbprophet:Disabling daily seasonality. Run prophet with daily_seasonality=True to override this.\n"
     ]
    },
    {
     "name": "stdout",
     "output_type": "stream",
     "text": [
      "El producto demoró 1.417717695236206 Sur Coyhaique\n",
      "tiempo que lleva corriendo 5.652847596009573 Min\n"
     ]
    },
    {
     "name": "stderr",
     "output_type": "stream",
     "text": [
      "INFO:fbprophet:Disabling daily seasonality. Run prophet with daily_seasonality=True to override this.\n"
     ]
    },
    {
     "name": "stdout",
     "output_type": "stream",
     "text": [
      "El producto demoró 1.3066229820251465 Sur Coyhaique\n",
      "tiempo que lleva corriendo 5.674641307195028 Min\n"
     ]
    },
    {
     "name": "stderr",
     "output_type": "stream",
     "text": [
      "INFO:fbprophet:Disabling daily seasonality. Run prophet with daily_seasonality=True to override this.\n"
     ]
    },
    {
     "name": "stdout",
     "output_type": "stream",
     "text": [
      "El producto demoró 1.5022904872894287 Sur Coyhaique\n",
      "tiempo que lleva corriendo 5.699687818686168 Min\n"
     ]
    },
    {
     "name": "stderr",
     "output_type": "stream",
     "text": [
      "INFO:fbprophet:Disabling daily seasonality. Run prophet with daily_seasonality=True to override this.\n"
     ]
    },
    {
     "name": "stdout",
     "output_type": "stream",
     "text": [
      "El producto demoró 1.5263116359710693 Sur Coyhaique\n",
      "tiempo que lleva corriendo 5.725151364008585 Min\n",
      "El producto demoró 0.004503726959228516 Sur Coyhaique\n",
      "tiempo que lleva corriendo 5.725243103504181 Min\n"
     ]
    },
    {
     "name": "stderr",
     "output_type": "stream",
     "text": [
      "INFO:fbprophet:Disabling daily seasonality. Run prophet with daily_seasonality=True to override this.\n"
     ]
    },
    {
     "name": "stdout",
     "output_type": "stream",
     "text": [
      "El producto demoró 1.3556647300720215 Sur Coyhaique\n",
      "tiempo que lleva corriendo 5.747862537701924 Min\n"
     ]
    },
    {
     "name": "stderr",
     "output_type": "stream",
     "text": [
      "INFO:fbprophet:Disabling daily seasonality. Run prophet with daily_seasonality=True to override this.\n"
     ]
    },
    {
     "name": "stdout",
     "output_type": "stream",
     "text": [
      "El producto demoró 1.2981162071228027 Sur Coyhaique\n",
      "tiempo que lleva corriendo 5.769514469305674 Min\n"
     ]
    },
    {
     "name": "stderr",
     "output_type": "stream",
     "text": [
      "INFO:fbprophet:Disabling daily seasonality. Run prophet with daily_seasonality=True to override this.\n"
     ]
    },
    {
     "name": "stdout",
     "output_type": "stream",
     "text": [
      "El producto demoró 1.4737658500671387 Sur Coyhaique\n",
      "tiempo que lleva corriendo 5.794093922773997 Min\n"
     ]
    },
    {
     "name": "stderr",
     "output_type": "stream",
     "text": [
      "INFO:fbprophet:Disabling daily seasonality. Run prophet with daily_seasonality=True to override this.\n"
     ]
    },
    {
     "name": "stdout",
     "output_type": "stream",
     "text": [
      "El producto demoró 1.5308153629302979 Sur Coyhaique\n",
      "tiempo que lleva corriendo 5.819615844885508 Min\n"
     ]
    },
    {
     "name": "stderr",
     "output_type": "stream",
     "text": [
      "INFO:fbprophet:Disabling daily seasonality. Run prophet with daily_seasonality=True to override this.\n"
     ]
    },
    {
     "name": "stdout",
     "output_type": "stream",
     "text": [
      "El producto demoró 1.4777698516845703 Sur Coyhaique\n",
      "tiempo que lleva corriendo 5.844262011845907 Min\n"
     ]
    },
    {
     "name": "stderr",
     "output_type": "stream",
     "text": [
      "INFO:fbprophet:Disabling daily seasonality. Run prophet with daily_seasonality=True to override this.\n"
     ]
    },
    {
     "name": "stdout",
     "output_type": "stream",
     "text": [
      "El producto demoró 1.480271816253662 Sur Coyhaique\n",
      "tiempo que lleva corriendo 5.868958226839701 Min\n",
      "Osorno\n"
     ]
    },
    {
     "name": "stderr",
     "output_type": "stream",
     "text": [
      "INFO:fbprophet:Disabling daily seasonality. Run prophet with daily_seasonality=True to override this.\n"
     ]
    },
    {
     "name": "stdout",
     "output_type": "stream",
     "text": [
      "El producto demoró 1.5893645286560059 Sur Osorno\n",
      "tiempo que lleva corriendo 5.8957812786102295 Min\n"
     ]
    },
    {
     "name": "stderr",
     "output_type": "stream",
     "text": [
      "INFO:fbprophet:Disabling daily seasonality. Run prophet with daily_seasonality=True to override this.\n"
     ]
    },
    {
     "name": "stdout",
     "output_type": "stream",
     "text": [
      "El producto demoró 1.6769404411315918 Sur Osorno\n",
      "tiempo que lleva corriendo 5.923755307992299 Min\n"
     ]
    },
    {
     "name": "stderr",
     "output_type": "stream",
     "text": [
      "INFO:fbprophet:Disabling daily seasonality. Run prophet with daily_seasonality=True to override this.\n"
     ]
    },
    {
     "name": "stdout",
     "output_type": "stream",
     "text": [
      "El producto demoró 2.3765416145324707 Sur Osorno\n",
      "tiempo que lleva corriendo 5.963389345010122 Min\n"
     ]
    },
    {
     "name": "stderr",
     "output_type": "stream",
     "text": [
      "INFO:fbprophet:Disabling daily seasonality. Run prophet with daily_seasonality=True to override this.\n"
     ]
    },
    {
     "name": "stdout",
     "output_type": "stream",
     "text": [
      "El producto demoró 1.8390800952911377 Sur Osorno\n",
      "tiempo que lleva corriendo 5.994065694014231 Min\n"
     ]
    },
    {
     "name": "stderr",
     "output_type": "stream",
     "text": [
      "INFO:fbprophet:Disabling daily seasonality. Run prophet with daily_seasonality=True to override this.\n"
     ]
    },
    {
     "name": "stdout",
     "output_type": "stream",
     "text": [
      "El producto demoró 2.262944221496582 Sur Osorno\n",
      "tiempo que lleva corriendo 6.031798120339712 Min\n"
     ]
    },
    {
     "name": "stderr",
     "output_type": "stream",
     "text": [
      "INFO:fbprophet:Disabling daily seasonality. Run prophet with daily_seasonality=True to override this.\n"
     ]
    },
    {
     "name": "stdout",
     "output_type": "stream",
     "text": [
      "El producto demoró 1.7074670791625977 Sur Osorno\n",
      "tiempo que lleva corriendo 6.060255904992421 Min\n"
     ]
    },
    {
     "name": "stderr",
     "output_type": "stream",
     "text": [
      "INFO:fbprophet:Disabling daily seasonality. Run prophet with daily_seasonality=True to override this.\n"
     ]
    },
    {
     "name": "stdout",
     "output_type": "stream",
     "text": [
      "El producto demoró 1.6223936080932617 Sur Osorno\n",
      "tiempo que lleva corriendo 6.087304119269053 Min\n"
     ]
    },
    {
     "name": "stderr",
     "output_type": "stream",
     "text": [
      "INFO:fbprophet:Disabling daily seasonality. Run prophet with daily_seasonality=True to override this.\n"
     ]
    },
    {
     "name": "stdout",
     "output_type": "stream",
     "text": [
      "El producto demoró 2.2119009494781494 Sur Osorno\n",
      "tiempo que lleva corriendo 6.124194157123566 Min\n"
     ]
    },
    {
     "name": "stderr",
     "output_type": "stream",
     "text": [
      "INFO:fbprophet:Disabling daily seasonality. Run prophet with daily_seasonality=True to override this.\n"
     ]
    },
    {
     "name": "stdout",
     "output_type": "stream",
     "text": [
      "El producto demoró 1.7810304164886475 Sur Osorno\n",
      "tiempo que lleva corriendo 6.153911340236664 Min\n"
     ]
    },
    {
     "name": "stderr",
     "output_type": "stream",
     "text": [
      "INFO:fbprophet:Disabling daily seasonality. Run prophet with daily_seasonality=True to override this.\n"
     ]
    },
    {
     "name": "stdout",
     "output_type": "stream",
     "text": [
      "El producto demoró 1.7119710445404053 Sur Osorno\n",
      "tiempo que lleva corriendo 6.182469216982524 Min\n"
     ]
    },
    {
     "name": "stderr",
     "output_type": "stream",
     "text": [
      "INFO:fbprophet:Disabling daily seasonality. Run prophet with daily_seasonality=True to override this.\n"
     ]
    },
    {
     "name": "stdout",
     "output_type": "stream",
     "text": [
      "El producto demoró 1.5933678150177002 Sur Osorno\n",
      "tiempo que lleva corriendo 6.209050381183625 Min\n"
     ]
    },
    {
     "name": "stderr",
     "output_type": "stream",
     "text": [
      "INFO:fbprophet:Disabling daily seasonality. Run prophet with daily_seasonality=True to override this.\n"
     ]
    },
    {
     "name": "stdout",
     "output_type": "stream",
     "text": [
      "El producto demoró 1.8751113414764404 Sur Osorno\n",
      "tiempo que lleva corriendo 6.240327246983846 Min\n"
     ]
    },
    {
     "name": "stderr",
     "output_type": "stream",
     "text": [
      "INFO:fbprophet:Disabling daily seasonality. Run prophet with daily_seasonality=True to override this.\n"
     ]
    },
    {
     "name": "stdout",
     "output_type": "stream",
     "text": [
      "El producto demoró 1.7454991340637207 Sur Osorno\n",
      "tiempo que lleva corriendo 6.269452257951101 Min\n",
      "Puerto Montt\n"
     ]
    },
    {
     "name": "stderr",
     "output_type": "stream",
     "text": [
      "INFO:fbprophet:Disabling daily seasonality. Run prophet with daily_seasonality=True to override this.\n"
     ]
    },
    {
     "name": "stdout",
     "output_type": "stream",
     "text": [
      "El producto demoró 1.7094686031341553 Sur Puerto Montt\n",
      "tiempo que lleva corriendo 6.2982853611310325 Min\n"
     ]
    },
    {
     "name": "stderr",
     "output_type": "stream",
     "text": [
      "INFO:fbprophet:Disabling daily seasonality. Run prophet with daily_seasonality=True to override this.\n"
     ]
    },
    {
     "name": "stdout",
     "output_type": "stream",
     "text": [
      "El producto demoró 1.6053788661956787 Sur Puerto Montt\n",
      "tiempo que lleva corriendo 6.325058368841807 Min\n"
     ]
    },
    {
     "name": "stderr",
     "output_type": "stream",
     "text": [
      "INFO:fbprophet:Disabling daily seasonality. Run prophet with daily_seasonality=True to override this.\n"
     ]
    },
    {
     "name": "stdout",
     "output_type": "stream",
     "text": [
      "El producto demoró 1.800046682357788 Sur Puerto Montt\n",
      "tiempo que lleva corriendo 6.355075816313426 Min\n"
     ]
    },
    {
     "name": "stderr",
     "output_type": "stream",
     "text": [
      "INFO:fbprophet:Disabling daily seasonality. Run prophet with daily_seasonality=True to override this.\n"
     ]
    },
    {
     "name": "stdout",
     "output_type": "stream",
     "text": [
      "El producto demoró 1.7515044212341309 Sur Puerto Montt\n",
      "tiempo que lleva corriendo 6.384292578697204 Min\n"
     ]
    },
    {
     "name": "stderr",
     "output_type": "stream",
     "text": [
      "INFO:fbprophet:Disabling daily seasonality. Run prophet with daily_seasonality=True to override this.\n"
     ]
    },
    {
     "name": "stdout",
     "output_type": "stream",
     "text": [
      "El producto demoró 1.7640156745910645 Sur Puerto Montt\n",
      "tiempo que lleva corriendo 6.413726194699605 Min\n"
     ]
    },
    {
     "name": "stderr",
     "output_type": "stream",
     "text": [
      "INFO:fbprophet:Disabling daily seasonality. Run prophet with daily_seasonality=True to override this.\n"
     ]
    },
    {
     "name": "stdout",
     "output_type": "stream",
     "text": [
      "El producto demoró 1.6093828678131104 Sur Puerto Montt\n",
      "tiempo que lleva corriendo 6.440574264526367 Min\n"
     ]
    },
    {
     "name": "stderr",
     "output_type": "stream",
     "text": [
      "INFO:fbprophet:Disabling daily seasonality. Run prophet with daily_seasonality=True to override this.\n"
     ]
    },
    {
     "name": "stdout",
     "output_type": "stream",
     "text": [
      "El producto demoró 1.9091393947601318 Sur Puerto Montt\n",
      "tiempo que lleva corriendo 6.4724099437395735 Min\n"
     ]
    },
    {
     "name": "stderr",
     "output_type": "stream",
     "text": [
      "INFO:fbprophet:Disabling daily seasonality. Run prophet with daily_seasonality=True to override this.\n"
     ]
    },
    {
     "name": "stdout",
     "output_type": "stream",
     "text": [
      "El producto demoró 2.197887897491455 Sur Puerto Montt\n",
      "tiempo que lleva corriendo 6.509066438674926 Min\n"
     ]
    },
    {
     "name": "stderr",
     "output_type": "stream",
     "text": [
      "INFO:fbprophet:Disabling daily seasonality. Run prophet with daily_seasonality=True to override this.\n"
     ]
    },
    {
     "name": "stdout",
     "output_type": "stream",
     "text": [
      "El producto demoró 1.7169747352600098 Sur Puerto Montt\n",
      "tiempo que lleva corriendo 6.537699353694916 Min\n"
     ]
    },
    {
     "name": "stderr",
     "output_type": "stream",
     "text": [
      "INFO:fbprophet:Disabling daily seasonality. Run prophet with daily_seasonality=True to override this.\n"
     ]
    },
    {
     "name": "stdout",
     "output_type": "stream",
     "text": [
      "El producto demoró 1.571350336074829 Sur Puerto Montt\n",
      "tiempo que lleva corriendo 6.563905211289724 Min\n"
     ]
    },
    {
     "name": "stderr",
     "output_type": "stream",
     "text": [
      "INFO:fbprophet:Disabling daily seasonality. Run prophet with daily_seasonality=True to override this.\n"
     ]
    },
    {
     "name": "stdout",
     "output_type": "stream",
     "text": [
      "El producto demoró 1.6178908348083496 Sur Puerto Montt\n",
      "tiempo que lleva corriendo 6.590895064671835 Min\n"
     ]
    },
    {
     "name": "stderr",
     "output_type": "stream",
     "text": [
      "INFO:fbprophet:Disabling daily seasonality. Run prophet with daily_seasonality=True to override this.\n"
     ]
    },
    {
     "name": "stdout",
     "output_type": "stream",
     "text": [
      "El producto demoró 1.7720224857330322 Sur Puerto Montt\n",
      "tiempo que lleva corriendo 6.620462127526602 Min\n"
     ]
    },
    {
     "name": "stderr",
     "output_type": "stream",
     "text": [
      "INFO:fbprophet:Disabling daily seasonality. Run prophet with daily_seasonality=True to override this.\n"
     ]
    },
    {
     "name": "stdout",
     "output_type": "stream",
     "text": [
      "El producto demoró 1.5688471794128418 Sur Puerto Montt\n",
      "tiempo que lleva corriendo 6.646626257896424 Min\n",
      "Punta Arenas\n"
     ]
    },
    {
     "name": "stderr",
     "output_type": "stream",
     "text": [
      "INFO:fbprophet:Disabling daily seasonality. Run prophet with daily_seasonality=True to override this.\n"
     ]
    },
    {
     "name": "stdout",
     "output_type": "stream",
     "text": [
      "El producto demoró 1.5833609104156494 Sur Punta Arenas\n",
      "tiempo que lleva corriendo 6.673315854867299 Min\n"
     ]
    },
    {
     "name": "stderr",
     "output_type": "stream",
     "text": [
      "INFO:fbprophet:Disabling daily seasonality. Run prophet with daily_seasonality=True to override this.\n"
     ]
    },
    {
     "name": "stdout",
     "output_type": "stream",
     "text": [
      "El producto demoró 1.4237234592437744 Sur Punta Arenas\n",
      "tiempo que lleva corriendo 6.697052919864655 Min\n"
     ]
    },
    {
     "name": "stderr",
     "output_type": "stream",
     "text": [
      "INFO:fbprophet:Disabling daily seasonality. Run prophet with daily_seasonality=True to override this.\n"
     ]
    },
    {
     "name": "stdout",
     "output_type": "stream",
     "text": [
      "El producto demoró 1.7384932041168213 Sur Punta Arenas\n",
      "tiempo que lleva corriendo 6.72603614727656 Min\n"
     ]
    },
    {
     "name": "stderr",
     "output_type": "stream",
     "text": [
      "INFO:fbprophet:Disabling daily seasonality. Run prophet with daily_seasonality=True to override this.\n"
     ]
    },
    {
     "name": "stdout",
     "output_type": "stream",
     "text": [
      "El producto demoró 1.4797711372375488 Sur Punta Arenas\n",
      "tiempo que lleva corriendo 6.750707340240479 Min\n"
     ]
    },
    {
     "name": "stderr",
     "output_type": "stream",
     "text": [
      "INFO:fbprophet:Disabling daily seasonality. Run prophet with daily_seasonality=True to override this.\n"
     ]
    },
    {
     "name": "stdout",
     "output_type": "stream",
     "text": [
      "El producto demoró 1.3156299591064453 Sur Punta Arenas\n",
      "tiempo que lleva corriendo 6.772642846902212 Min\n",
      "El producto demoró 0.006006002426147461 Sur Punta Arenas\n",
      "tiempo que lleva corriendo 6.772742946942647 Min\n"
     ]
    },
    {
     "name": "stderr",
     "output_type": "stream",
     "text": [
      "INFO:fbprophet:Disabling daily seasonality. Run prophet with daily_seasonality=True to override this.\n"
     ]
    },
    {
     "name": "stdout",
     "output_type": "stream",
     "text": [
      "El producto demoró 1.5047924518585205 Sur Punta Arenas\n",
      "tiempo que lleva corriendo 6.797831161816915 Min\n"
     ]
    },
    {
     "name": "stderr",
     "output_type": "stream",
     "text": [
      "INFO:fbprophet:Disabling daily seasonality. Run prophet with daily_seasonality=True to override this.\n"
     ]
    },
    {
     "name": "stdout",
     "output_type": "stream",
     "text": [
      "El producto demoró 1.5478298664093018 Sur Punta Arenas\n",
      "tiempo que lleva corriendo 6.823644987742106 Min\n"
     ]
    },
    {
     "name": "stderr",
     "output_type": "stream",
     "text": [
      "INFO:fbprophet:Disabling daily seasonality. Run prophet with daily_seasonality=True to override this.\n"
     ]
    },
    {
     "name": "stdout",
     "output_type": "stream",
     "text": [
      "El producto demoró 1.582360029220581 Sur Punta Arenas\n",
      "tiempo que lleva corriendo 6.850042665004731 Min\n"
     ]
    },
    {
     "name": "stderr",
     "output_type": "stream",
     "text": [
      "INFO:fbprophet:Disabling daily seasonality. Run prophet with daily_seasonality=True to override this.\n"
     ]
    },
    {
     "name": "stdout",
     "output_type": "stream",
     "text": [
      "El producto demoró 1.559840440750122 Sur Punta Arenas\n",
      "tiempo que lleva corriendo 6.876048338413239 Min\n",
      "El producto demoró 0.0050051212310791016 Sur Punta Arenas\n",
      "tiempo que lleva corriendo 6.876156767209371 Min\n"
     ]
    },
    {
     "name": "stderr",
     "output_type": "stream",
     "text": [
      "INFO:fbprophet:Disabling daily seasonality. Run prophet with daily_seasonality=True to override this.\n"
     ]
    },
    {
     "name": "stdout",
     "output_type": "stream",
     "text": [
      "El producto demoró 1.4732654094696045 Sur Punta Arenas\n",
      "tiempo que lleva corriendo 6.9007362167040505 Min\n"
     ]
    },
    {
     "name": "stderr",
     "output_type": "stream",
     "text": [
      "INFO:fbprophet:Disabling daily seasonality. Run prophet with daily_seasonality=True to override this.\n"
     ]
    },
    {
     "name": "stdout",
     "output_type": "stream",
     "text": [
      "El producto demoró 1.5293142795562744 Sur Punta Arenas\n",
      "tiempo que lleva corriendo 6.926233124732971 Min\n",
      "Temuco\n"
     ]
    },
    {
     "name": "stderr",
     "output_type": "stream",
     "text": [
      "INFO:fbprophet:Disabling daily seasonality. Run prophet with daily_seasonality=True to override this.\n"
     ]
    },
    {
     "name": "stdout",
     "output_type": "stream",
     "text": [
      "El producto demoró 1.5138001441955566 Sur Temuco\n",
      "tiempo que lleva corriendo 6.951813451449076 Min\n"
     ]
    },
    {
     "name": "stderr",
     "output_type": "stream",
     "text": [
      "INFO:fbprophet:Disabling daily seasonality. Run prophet with daily_seasonality=True to override this.\n"
     ]
    },
    {
     "name": "stdout",
     "output_type": "stream",
     "text": [
      "El producto demoró 1.59737229347229 Sur Temuco\n",
      "tiempo que lleva corriendo 6.978469653924306 Min\n"
     ]
    },
    {
     "name": "stderr",
     "output_type": "stream",
     "text": [
      "INFO:fbprophet:Disabling daily seasonality. Run prophet with daily_seasonality=True to override this.\n"
     ]
    },
    {
     "name": "stdout",
     "output_type": "stream",
     "text": [
      "El producto demoró 1.7890369892120361 Sur Temuco\n",
      "tiempo que lleva corriendo 7.008311955134074 Min\n"
     ]
    },
    {
     "name": "stderr",
     "output_type": "stream",
     "text": [
      "INFO:fbprophet:Disabling daily seasonality. Run prophet with daily_seasonality=True to override this.\n"
     ]
    },
    {
     "name": "stdout",
     "output_type": "stream",
     "text": [
      "El producto demoró 1.9972162246704102 Sur Temuco\n",
      "tiempo que lleva corriendo 7.041615569591523 Min\n"
     ]
    },
    {
     "name": "stderr",
     "output_type": "stream",
     "text": [
      "INFO:fbprophet:Disabling daily seasonality. Run prophet with daily_seasonality=True to override this.\n"
     ]
    },
    {
     "name": "stdout",
     "output_type": "stream",
     "text": [
      "El producto demoró 1.6479156017303467 Sur Temuco\n",
      "tiempo que lleva corriendo 7.06908917427063 Min\n"
     ]
    },
    {
     "name": "stderr",
     "output_type": "stream",
     "text": [
      "INFO:fbprophet:Disabling daily seasonality. Run prophet with daily_seasonality=True to override this.\n"
     ]
    },
    {
     "name": "stdout",
     "output_type": "stream",
     "text": [
      "El producto demoró 1.7675182819366455 Sur Temuco\n",
      "tiempo que lleva corriendo 7.098564485708873 Min\n"
     ]
    },
    {
     "name": "stderr",
     "output_type": "stream",
     "text": [
      "INFO:fbprophet:Disabling daily seasonality. Run prophet with daily_seasonality=True to override this.\n"
     ]
    },
    {
     "name": "stdout",
     "output_type": "stream",
     "text": [
      "El producto demoró 1.542825698852539 Sur Temuco\n",
      "tiempo que lleva corriendo 7.124294924736023 Min\n"
     ]
    },
    {
     "name": "stderr",
     "output_type": "stream",
     "text": [
      "INFO:fbprophet:Disabling daily seasonality. Run prophet with daily_seasonality=True to override this.\n"
     ]
    },
    {
     "name": "stdout",
     "output_type": "stream",
     "text": [
      "El producto demoró 1.5223073959350586 Sur Temuco\n",
      "tiempo que lleva corriendo 7.149691740671794 Min\n"
     ]
    },
    {
     "name": "stderr",
     "output_type": "stream",
     "text": [
      "INFO:fbprophet:Disabling daily seasonality. Run prophet with daily_seasonality=True to override this.\n"
     ]
    },
    {
     "name": "stdout",
     "output_type": "stream",
     "text": [
      "El producto demoró 1.851090669631958 Sur Temuco\n",
      "tiempo que lleva corriendo 7.180551596482595 Min\n"
     ]
    },
    {
     "name": "stderr",
     "output_type": "stream",
     "text": [
      "INFO:fbprophet:Disabling daily seasonality. Run prophet with daily_seasonality=True to override this.\n"
     ]
    },
    {
     "name": "stdout",
     "output_type": "stream",
     "text": [
      "El producto demoró 1.723980188369751 Sur Temuco\n",
      "tiempo que lleva corriendo 7.209292956193289 Min\n"
     ]
    },
    {
     "name": "stderr",
     "output_type": "stream",
     "text": [
      "INFO:fbprophet:Disabling daily seasonality. Run prophet with daily_seasonality=True to override this.\n"
     ]
    },
    {
     "name": "stdout",
     "output_type": "stream",
     "text": [
      "El producto demoró 1.626896858215332 Sur Temuco\n",
      "tiempo que lleva corriendo 7.236424577236176 Min\n"
     ]
    },
    {
     "name": "stderr",
     "output_type": "stream",
     "text": [
      "INFO:fbprophet:Disabling daily seasonality. Run prophet with daily_seasonality=True to override this.\n"
     ]
    },
    {
     "name": "stdout",
     "output_type": "stream",
     "text": [
      "El producto demoró 1.7324891090393066 Sur Temuco\n",
      "tiempo que lleva corriendo 7.265316069126129 Min\n"
     ]
    },
    {
     "name": "stderr",
     "output_type": "stream",
     "text": [
      "INFO:fbprophet:Disabling daily seasonality. Run prophet with daily_seasonality=True to override this.\n"
     ]
    },
    {
     "name": "stdout",
     "output_type": "stream",
     "text": [
      "El producto demoró 1.61738920211792 Sur Temuco\n",
      "tiempo que lleva corriendo 7.292280892531077 Min\n",
      "Valdivia\n"
     ]
    },
    {
     "name": "stderr",
     "output_type": "stream",
     "text": [
      "INFO:fbprophet:Disabling daily seasonality. Run prophet with daily_seasonality=True to override this.\n"
     ]
    },
    {
     "name": "stdout",
     "output_type": "stream",
     "text": [
      "El producto demoró 1.468761920928955 Sur Valdivia\n",
      "tiempo que lleva corriendo 7.317093873023987 Min\n"
     ]
    },
    {
     "name": "stderr",
     "output_type": "stream",
     "text": [
      "INFO:fbprophet:Disabling daily seasonality. Run prophet with daily_seasonality=True to override this.\n"
     ]
    },
    {
     "name": "stdout",
     "output_type": "stream",
     "text": [
      "El producto demoró 1.6814453601837158 Sur Valdivia\n",
      "tiempo que lleva corriendo 7.3451346278190615 Min\n"
     ]
    },
    {
     "name": "stderr",
     "output_type": "stream",
     "text": [
      "INFO:fbprophet:Disabling daily seasonality. Run prophet with daily_seasonality=True to override this.\n"
     ]
    },
    {
     "name": "stdout",
     "output_type": "stream",
     "text": [
      "El producto demoró 1.7354907989501953 Sur Valdivia\n",
      "tiempo que lleva corriendo 7.374076163768768 Min\n"
     ]
    },
    {
     "name": "stderr",
     "output_type": "stream",
     "text": [
      "INFO:fbprophet:Disabling daily seasonality. Run prophet with daily_seasonality=True to override this.\n"
     ]
    },
    {
     "name": "stdout",
     "output_type": "stream",
     "text": [
      "El producto demoró 1.6774413585662842 Sur Valdivia\n",
      "tiempo que lleva corriendo 7.402050181229909 Min\n"
     ]
    },
    {
     "name": "stderr",
     "output_type": "stream",
     "text": [
      "INFO:fbprophet:Disabling daily seasonality. Run prophet with daily_seasonality=True to override this.\n"
     ]
    },
    {
     "name": "stdout",
     "output_type": "stream",
     "text": [
      "El producto demoró 1.7384943962097168 Sur Valdivia\n",
      "tiempo que lleva corriendo 7.43104176123937 Min\n"
     ]
    },
    {
     "name": "stderr",
     "output_type": "stream",
     "text": [
      "INFO:fbprophet:Disabling daily seasonality. Run prophet with daily_seasonality=True to override this.\n"
     ]
    },
    {
     "name": "stdout",
     "output_type": "stream",
     "text": [
      "El producto demoró 1.3466572761535645 Sur Valdivia\n",
      "tiempo que lleva corriendo 7.453494381904602 Min\n"
     ]
    },
    {
     "name": "stderr",
     "output_type": "stream",
     "text": [
      "INFO:fbprophet:Disabling daily seasonality. Run prophet with daily_seasonality=True to override this.\n"
     ]
    },
    {
     "name": "stdout",
     "output_type": "stream",
     "text": [
      "El producto demoró 1.4822733402252197 Sur Valdivia\n",
      "tiempo que lleva corriendo 7.478223955631256 Min\n"
     ]
    },
    {
     "name": "stderr",
     "output_type": "stream",
     "text": [
      "INFO:fbprophet:Disabling daily seasonality. Run prophet with daily_seasonality=True to override this.\n"
     ]
    },
    {
     "name": "stdout",
     "output_type": "stream",
     "text": [
      "El producto demoró 1.6574227809906006 Sur Valdivia\n",
      "tiempo que lleva corriendo 7.505872702598571 Min\n"
     ]
    },
    {
     "name": "stderr",
     "output_type": "stream",
     "text": [
      "INFO:fbprophet:Disabling daily seasonality. Run prophet with daily_seasonality=True to override this.\n"
     ]
    },
    {
     "name": "stdout",
     "output_type": "stream",
     "text": [
      "El producto demoró 1.6118850708007812 Sur Valdivia\n",
      "tiempo que lleva corriendo 7.532754131158193 Min\n"
     ]
    },
    {
     "name": "stderr",
     "output_type": "stream",
     "text": [
      "INFO:fbprophet:Disabling daily seasonality. Run prophet with daily_seasonality=True to override this.\n"
     ]
    },
    {
     "name": "stdout",
     "output_type": "stream",
     "text": [
      "El producto demoró 1.6919538974761963 Sur Valdivia\n",
      "tiempo que lleva corriendo 7.5609700361887615 Min\n"
     ]
    },
    {
     "name": "stderr",
     "output_type": "stream",
     "text": [
      "INFO:fbprophet:Disabling daily seasonality. Run prophet with daily_seasonality=True to override this.\n"
     ]
    },
    {
     "name": "stdout",
     "output_type": "stream",
     "text": [
      "El producto demoró 1.5423247814178467 Sur Valdivia\n",
      "tiempo que lleva corriendo 7.586700483163198 Min\n"
     ]
    },
    {
     "name": "stderr",
     "output_type": "stream",
     "text": [
      "INFO:fbprophet:Disabling daily seasonality. Run prophet with daily_seasonality=True to override this.\n"
     ]
    },
    {
     "name": "stdout",
     "output_type": "stream",
     "text": [
      "El producto demoró 1.6734378337860107 Sur Valdivia\n",
      "tiempo que lleva corriendo 7.614607779184977 Min\n",
      "El producto demoró 1.688450574874878 Sur Valdivia\n",
      "tiempo que lleva corriendo 7.642765299479167 Min\n",
      "Norte\n",
      "Antofagasta\n"
     ]
    },
    {
     "name": "stderr",
     "output_type": "stream",
     "text": [
      "INFO:fbprophet:Disabling daily seasonality. Run prophet with daily_seasonality=True to override this.\n",
      "INFO:fbprophet:Disabling daily seasonality. Run prophet with daily_seasonality=True to override this.\n"
     ]
    },
    {
     "name": "stdout",
     "output_type": "stream",
     "text": [
      "El producto demoró 1.4817736148834229 Norte Antofagasta\n",
      "tiempo que lleva corriendo 7.670230559508005 Min\n"
     ]
    },
    {
     "name": "stderr",
     "output_type": "stream",
     "text": [
      "INFO:fbprophet:Disabling daily seasonality. Run prophet with daily_seasonality=True to override this.\n"
     ]
    },
    {
     "name": "stdout",
     "output_type": "stream",
     "text": [
      "El producto demoró 1.628899335861206 Norte Antofagasta\n",
      "tiempo que lleva corriendo 7.6974038998285925 Min\n"
     ]
    },
    {
     "name": "stderr",
     "output_type": "stream",
     "text": [
      "INFO:fbprophet:Disabling daily seasonality. Run prophet with daily_seasonality=True to override this.\n"
     ]
    },
    {
     "name": "stdout",
     "output_type": "stream",
     "text": [
      "El producto demoró 1.5788555145263672 Norte Antofagasta\n",
      "tiempo que lleva corriendo 7.723743196328481 Min\n"
     ]
    },
    {
     "name": "stderr",
     "output_type": "stream",
     "text": [
      "INFO:fbprophet:Disabling daily seasonality. Run prophet with daily_seasonality=True to override this.\n"
     ]
    },
    {
     "name": "stdout",
     "output_type": "stream",
     "text": [
      "El producto demoró 1.7339897155761719 Norte Antofagasta\n",
      "tiempo que lleva corriendo 7.752659710248311 Min\n"
     ]
    },
    {
     "name": "stderr",
     "output_type": "stream",
     "text": [
      "INFO:fbprophet:Disabling daily seasonality. Run prophet with daily_seasonality=True to override this.\n"
     ]
    },
    {
     "name": "stdout",
     "output_type": "stream",
     "text": [
      "El producto demoró 1.5438263416290283 Norte Antofagasta\n",
      "tiempo que lleva corriendo 7.778406814734141 Min\n"
     ]
    },
    {
     "name": "stderr",
     "output_type": "stream",
     "text": [
      "INFO:fbprophet:Disabling daily seasonality. Run prophet with daily_seasonality=True to override this.\n"
     ]
    },
    {
     "name": "stdout",
     "output_type": "stream",
     "text": [
      "El producto demoró 1.4552507400512695 Norte Antofagasta\n",
      "tiempo que lleva corriendo 7.802686007817586 Min\n"
     ]
    },
    {
     "name": "stderr",
     "output_type": "stream",
     "text": [
      "INFO:fbprophet:Disabling daily seasonality. Run prophet with daily_seasonality=True to override this.\n"
     ]
    },
    {
     "name": "stdout",
     "output_type": "stream",
     "text": [
      "El producto demoró 1.613886833190918 Norte Antofagasta\n",
      "tiempo que lleva corriendo 7.829617480436961 Min\n"
     ]
    },
    {
     "name": "stderr",
     "output_type": "stream",
     "text": [
      "INFO:fbprophet:Disabling daily seasonality. Run prophet with daily_seasonality=True to override this.\n"
     ]
    },
    {
     "name": "stdout",
     "output_type": "stream",
     "text": [
      "El producto demoró 1.6208930015563965 Norte Antofagasta\n",
      "tiempo que lleva corriendo 7.856649029254913 Min\n"
     ]
    },
    {
     "name": "stderr",
     "output_type": "stream",
     "text": [
      "INFO:fbprophet:Disabling daily seasonality. Run prophet with daily_seasonality=True to override this.\n"
     ]
    },
    {
     "name": "stdout",
     "output_type": "stream",
     "text": [
      "El producto demoró 1.4847760200500488 Norte Antofagasta\n",
      "tiempo que lleva corriendo 7.8814203103383385 Min\n"
     ]
    },
    {
     "name": "stderr",
     "output_type": "stream",
     "text": [
      "INFO:fbprophet:Disabling daily seasonality. Run prophet with daily_seasonality=True to override this.\n"
     ]
    },
    {
     "name": "stdout",
     "output_type": "stream",
     "text": [
      "El producto demoró 1.5753529071807861 Norte Antofagasta\n",
      "tiempo que lleva corriendo 7.907701214154561 Min\n"
     ]
    },
    {
     "name": "stderr",
     "output_type": "stream",
     "text": [
      "INFO:fbprophet:Disabling daily seasonality. Run prophet with daily_seasonality=True to override this.\n"
     ]
    },
    {
     "name": "stdout",
     "output_type": "stream",
     "text": [
      "El producto demoró 1.9932124614715576 Norte Antofagasta\n",
      "tiempo que lleva corriendo 7.940938103199005 Min\n"
     ]
    },
    {
     "name": "stderr",
     "output_type": "stream",
     "text": [
      "INFO:fbprophet:Disabling daily seasonality. Run prophet with daily_seasonality=True to override this.\n"
     ]
    },
    {
     "name": "stdout",
     "output_type": "stream",
     "text": [
      "El producto demoró 2.0822887420654297 Norte Antofagasta\n",
      "tiempo que lleva corriendo 7.975667933622996 Min\n",
      "Arica\n"
     ]
    },
    {
     "name": "stderr",
     "output_type": "stream",
     "text": [
      "INFO:fbprophet:Disabling daily seasonality. Run prophet with daily_seasonality=True to override this.\n"
     ]
    },
    {
     "name": "stdout",
     "output_type": "stream",
     "text": [
      "El producto demoró 1.4632563591003418 Norte Arica\n",
      "tiempo que lleva corriendo 8.000272401173909 Min\n"
     ]
    },
    {
     "name": "stderr",
     "output_type": "stream",
     "text": [
      "INFO:fbprophet:Disabling daily seasonality. Run prophet with daily_seasonality=True to override this.\n"
     ]
    },
    {
     "name": "stdout",
     "output_type": "stream",
     "text": [
      "El producto demoró 1.7254831790924072 Norte Arica\n",
      "tiempo que lleva corriendo 8.029055464267731 Min\n"
     ]
    },
    {
     "name": "stderr",
     "output_type": "stream",
     "text": [
      "INFO:fbprophet:Disabling daily seasonality. Run prophet with daily_seasonality=True to override this.\n"
     ]
    },
    {
     "name": "stdout",
     "output_type": "stream",
     "text": [
      "El producto demoró 1.5213072299957275 Norte Arica\n",
      "tiempo que lleva corriendo 8.054435602823894 Min\n"
     ]
    },
    {
     "name": "stderr",
     "output_type": "stream",
     "text": [
      "INFO:fbprophet:Disabling daily seasonality. Run prophet with daily_seasonality=True to override this.\n"
     ]
    },
    {
     "name": "stdout",
     "output_type": "stream",
     "text": [
      "El producto demoró 1.665930986404419 Norte Arica\n",
      "tiempo que lleva corriendo 8.08222614924113 Min\n"
     ]
    },
    {
     "name": "stderr",
     "output_type": "stream",
     "text": [
      "INFO:fbprophet:Disabling daily seasonality. Run prophet with daily_seasonality=True to override this.\n"
     ]
    },
    {
     "name": "stdout",
     "output_type": "stream",
     "text": [
      "El producto demoró 1.5228090286254883 Norte Arica\n",
      "tiempo que lleva corriendo 8.107622973124187 Min\n"
     ]
    },
    {
     "name": "stderr",
     "output_type": "stream",
     "text": [
      "INFO:fbprophet:Disabling daily seasonality. Run prophet with daily_seasonality=True to override this.\n"
     ]
    },
    {
     "name": "stdout",
     "output_type": "stream",
     "text": [
      "El producto demoró 1.500788688659668 Norte Arica\n",
      "tiempo que lleva corriendo 8.132652787367503 Min\n",
      "El producto demoró 0.005004167556762695 Norte Arica\n",
      "tiempo que lleva corriendo 8.132752875487009 Min\n"
     ]
    },
    {
     "name": "stderr",
     "output_type": "stream",
     "text": [
      "INFO:fbprophet:Disabling daily seasonality. Run prophet with daily_seasonality=True to override this.\n"
     ]
    },
    {
     "name": "stdout",
     "output_type": "stream",
     "text": [
      "El producto demoró 1.4977867603302002 Norte Arica\n",
      "tiempo que lleva corriendo 8.157741006215414 Min\n"
     ]
    },
    {
     "name": "stderr",
     "output_type": "stream",
     "text": [
      "INFO:fbprophet:Disabling daily seasonality. Run prophet with daily_seasonality=True to override this.\n"
     ]
    },
    {
     "name": "stdout",
     "output_type": "stream",
     "text": [
      "El producto demoró 1.8615996837615967 Norte Arica\n",
      "tiempo que lleva corriendo 8.188776000340779 Min\n"
     ]
    },
    {
     "name": "stderr",
     "output_type": "stream",
     "text": [
      "INFO:fbprophet:Disabling daily seasonality. Run prophet with daily_seasonality=True to override this.\n"
     ]
    },
    {
     "name": "stdout",
     "output_type": "stream",
     "text": [
      "El producto demoró 1.4887797832489014 Norte Arica\n",
      "tiempo que lleva corriendo 8.213597321510315 Min\n"
     ]
    },
    {
     "name": "stderr",
     "output_type": "stream",
     "text": [
      "INFO:fbprophet:Disabling daily seasonality. Run prophet with daily_seasonality=True to override this.\n"
     ]
    },
    {
     "name": "stdout",
     "output_type": "stream",
     "text": [
      "El producto demoró 1.8275706768035889 Norte Arica\n",
      "tiempo que lleva corriendo 8.244081842899323 Min\n"
     ]
    },
    {
     "name": "stderr",
     "output_type": "stream",
     "text": [
      "INFO:fbprophet:Disabling daily seasonality. Run prophet with daily_seasonality=True to override this.\n"
     ]
    },
    {
     "name": "stdout",
     "output_type": "stream",
     "text": [
      "El producto demoró 1.923151969909668 Norte Arica\n",
      "tiempo que lleva corriendo 8.276159393787385 Min\n",
      "El producto demoró 0.0050046443939208984 Norte Arica\n",
      "tiempo que lleva corriendo 8.276251141230265 Min\n",
      "Calama\n"
     ]
    },
    {
     "name": "stderr",
     "output_type": "stream",
     "text": [
      "INFO:fbprophet:Disabling daily seasonality. Run prophet with daily_seasonality=True to override this.\n"
     ]
    },
    {
     "name": "stdout",
     "output_type": "stream",
     "text": [
      "El producto demoró 1.4992880821228027 Norte Calama\n",
      "tiempo que lleva corriendo 8.30146447022756 Min\n"
     ]
    },
    {
     "name": "stderr",
     "output_type": "stream",
     "text": [
      "INFO:fbprophet:Disabling daily seasonality. Run prophet with daily_seasonality=True to override this.\n"
     ]
    },
    {
     "name": "stdout",
     "output_type": "stream",
     "text": [
      "El producto demoró 1.928156852722168 Norte Calama\n",
      "tiempo que lleva corriendo 8.333608746528625 Min\n"
     ]
    },
    {
     "name": "stderr",
     "output_type": "stream",
     "text": [
      "INFO:fbprophet:Disabling daily seasonality. Run prophet with daily_seasonality=True to override this.\n"
     ]
    },
    {
     "name": "stdout",
     "output_type": "stream",
     "text": [
      "El producto demoró 1.5293142795562744 Norte Calama\n",
      "tiempo que lleva corriendo 8.359113999207814 Min\n"
     ]
    },
    {
     "name": "stderr",
     "output_type": "stream",
     "text": [
      "INFO:fbprophet:Disabling daily seasonality. Run prophet with daily_seasonality=True to override this.\n"
     ]
    },
    {
     "name": "stdout",
     "output_type": "stream",
     "text": [
      "El producto demoró 1.7570087909698486 Norte Calama\n",
      "tiempo que lleva corriendo 8.388405819733938 Min\n"
     ]
    },
    {
     "name": "stderr",
     "output_type": "stream",
     "text": [
      "INFO:fbprophet:Disabling daily seasonality. Run prophet with daily_seasonality=True to override this.\n"
     ]
    },
    {
     "name": "stdout",
     "output_type": "stream",
     "text": [
      "El producto demoró 1.5518324375152588 Norte Calama\n",
      "tiempo que lleva corriendo 8.414303068319956 Min\n"
     ]
    },
    {
     "name": "stderr",
     "output_type": "stream",
     "text": [
      "INFO:fbprophet:Disabling daily seasonality. Run prophet with daily_seasonality=True to override this.\n"
     ]
    },
    {
     "name": "stdout",
     "output_type": "stream",
     "text": [
      "El producto demoró 1.5753536224365234 Norte Calama\n",
      "tiempo que lleva corriendo 8.440583992004395 Min\n",
      "El producto demoró 0.005004167556762695 Norte Calama\n",
      "tiempo que lleva corriendo 8.440684064229329 Min\n"
     ]
    },
    {
     "name": "stderr",
     "output_type": "stream",
     "text": [
      "INFO:fbprophet:Disabling daily seasonality. Run prophet with daily_seasonality=True to override this.\n"
     ]
    },
    {
     "name": "stdout",
     "output_type": "stream",
     "text": [
      "El producto demoró 1.6759397983551025 Norte Calama\n",
      "tiempo que lleva corriendo 8.468641432126363 Min\n"
     ]
    },
    {
     "name": "stderr",
     "output_type": "stream",
     "text": [
      "INFO:fbprophet:Disabling daily seasonality. Run prophet with daily_seasonality=True to override this.\n"
     ]
    },
    {
     "name": "stdout",
     "output_type": "stream",
     "text": [
      "El producto demoró 1.9026336669921875 Norte Calama\n",
      "tiempo que lleva corriendo 8.500360333919526 Min\n"
     ]
    },
    {
     "name": "stderr",
     "output_type": "stream",
     "text": [
      "INFO:fbprophet:Disabling daily seasonality. Run prophet with daily_seasonality=True to override this.\n"
     ]
    },
    {
     "name": "stdout",
     "output_type": "stream",
     "text": [
      "El producto demoró 1.6103832721710205 Norte Calama\n",
      "tiempo que lleva corriendo 8.527233417828878 Min\n"
     ]
    },
    {
     "name": "stderr",
     "output_type": "stream",
     "text": [
      "INFO:fbprophet:Disabling daily seasonality. Run prophet with daily_seasonality=True to override this.\n"
     ]
    },
    {
     "name": "stdout",
     "output_type": "stream",
     "text": [
      "El producto demoró 1.546328067779541 Norte Calama\n",
      "tiempo que lleva corriendo 8.553022229671479 Min\n"
     ]
    },
    {
     "name": "stderr",
     "output_type": "stream",
     "text": [
      "INFO:fbprophet:Disabling daily seasonality. Run prophet with daily_seasonality=True to override this.\n"
     ]
    },
    {
     "name": "stdout",
     "output_type": "stream",
     "text": [
      "El producto demoró 1.8210651874542236 Norte Calama\n",
      "tiempo que lleva corriendo 8.583381648858389 Min\n",
      "Iquique\n"
     ]
    },
    {
     "name": "stderr",
     "output_type": "stream",
     "text": [
      "INFO:fbprophet:Disabling daily seasonality. Run prophet with daily_seasonality=True to override this.\n"
     ]
    },
    {
     "name": "stdout",
     "output_type": "stream",
     "text": [
      "El producto demoró 1.368675947189331 Norte Iquique\n",
      "tiempo que lleva corriendo 8.606418104966481 Min\n"
     ]
    },
    {
     "name": "stderr",
     "output_type": "stream",
     "text": [
      "INFO:fbprophet:Disabling daily seasonality. Run prophet with daily_seasonality=True to override this.\n"
     ]
    },
    {
     "name": "stdout",
     "output_type": "stream",
     "text": [
      "El producto demoró 1.676440954208374 Norte Iquique\n",
      "tiempo que lleva corriendo 8.634383789698283 Min\n"
     ]
    },
    {
     "name": "stderr",
     "output_type": "stream",
     "text": [
      "INFO:fbprophet:Disabling daily seasonality. Run prophet with daily_seasonality=True to override this.\n"
     ]
    },
    {
     "name": "stdout",
     "output_type": "stream",
     "text": [
      "El producto demoró 1.6309008598327637 Norte Iquique\n",
      "tiempo que lleva corriendo 8.661582148075103 Min\n"
     ]
    },
    {
     "name": "stderr",
     "output_type": "stream",
     "text": [
      "INFO:fbprophet:Disabling daily seasonality. Run prophet with daily_seasonality=True to override this.\n"
     ]
    },
    {
     "name": "stdout",
     "output_type": "stream",
     "text": [
      "El producto demoró 1.7685191631317139 Norte Iquique\n",
      "tiempo que lleva corriendo 8.691065812110901 Min\n"
     ]
    },
    {
     "name": "stderr",
     "output_type": "stream",
     "text": [
      "INFO:fbprophet:Disabling daily seasonality. Run prophet with daily_seasonality=True to override this.\n"
     ]
    },
    {
     "name": "stdout",
     "output_type": "stream",
     "text": [
      "El producto demoró 1.5153026580810547 Norte Iquique\n",
      "tiempo que lleva corriendo 8.716329177220663 Min\n"
     ]
    },
    {
     "name": "stderr",
     "output_type": "stream",
     "text": [
      "INFO:fbprophet:Disabling daily seasonality. Run prophet with daily_seasonality=True to override this.\n"
     ]
    },
    {
     "name": "stdout",
     "output_type": "stream",
     "text": [
      "El producto demoró 1.6103835105895996 Norte Iquique\n",
      "tiempo que lleva corriendo 8.743185579776764 Min\n"
     ]
    },
    {
     "name": "stderr",
     "output_type": "stream",
     "text": [
      "INFO:fbprophet:Disabling daily seasonality. Run prophet with daily_seasonality=True to override this.\n"
     ]
    },
    {
     "name": "stdout",
     "output_type": "stream",
     "text": [
      "El producto demoró 1.5288140773773193 Norte Iquique\n",
      "tiempo que lleva corriendo 8.768699169158936 Min\n"
     ]
    },
    {
     "name": "stderr",
     "output_type": "stream",
     "text": [
      "INFO:fbprophet:Disabling daily seasonality. Run prophet with daily_seasonality=True to override this.\n"
     ]
    },
    {
     "name": "stdout",
     "output_type": "stream",
     "text": [
      "El producto demoró 1.6609277725219727 Norte Iquique\n",
      "tiempo que lleva corriendo 8.79639796813329 Min\n"
     ]
    },
    {
     "name": "stderr",
     "output_type": "stream",
     "text": [
      "INFO:fbprophet:Disabling daily seasonality. Run prophet with daily_seasonality=True to override this.\n"
     ]
    },
    {
     "name": "stdout",
     "output_type": "stream",
     "text": [
      "El producto demoró 1.5763540267944336 Norte Iquique\n",
      "tiempo que lleva corriendo 8.822687212626139 Min\n"
     ]
    },
    {
     "name": "stderr",
     "output_type": "stream",
     "text": [
      "INFO:fbprophet:Disabling daily seasonality. Run prophet with daily_seasonality=True to override this.\n"
     ]
    },
    {
     "name": "stdout",
     "output_type": "stream",
     "text": [
      "El producto demoró 1.6183907985687256 Norte Iquique\n",
      "tiempo que lleva corriendo 8.849677062034607 Min\n"
     ]
    },
    {
     "name": "stderr",
     "output_type": "stream",
     "text": [
      "INFO:fbprophet:Disabling daily seasonality. Run prophet with daily_seasonality=True to override this.\n"
     ]
    },
    {
     "name": "stdout",
     "output_type": "stream",
     "text": [
      "El producto demoró 1.8836181163787842 Norte Iquique\n",
      "tiempo que lleva corriendo 8.881087378660839 Min\n"
     ]
    },
    {
     "name": "stderr",
     "output_type": "stream",
     "text": [
      "INFO:fbprophet:Disabling daily seasonality. Run prophet with daily_seasonality=True to override this.\n"
     ]
    },
    {
     "name": "stdout",
     "output_type": "stream",
     "text": [
      "El producto demoró 1.6694343090057373 Norte Iquique\n",
      "tiempo que lleva corriendo 8.908911283810934 Min\n",
      "Copiapo\n"
     ]
    },
    {
     "name": "stderr",
     "output_type": "stream",
     "text": [
      "INFO:fbprophet:Disabling daily seasonality. Run prophet with daily_seasonality=True to override this.\n"
     ]
    },
    {
     "name": "stdout",
     "output_type": "stream",
     "text": [
      "El producto demoró 1.5403239727020264 Norte Copiapo\n",
      "tiempo que lleva corriendo 8.93481687704722 Min\n"
     ]
    },
    {
     "name": "stderr",
     "output_type": "stream",
     "text": [
      "INFO:fbprophet:Disabling daily seasonality. Run prophet with daily_seasonality=True to override this.\n"
     ]
    },
    {
     "name": "stdout",
     "output_type": "stream",
     "text": [
      "El producto demoró 1.7600116729736328 Norte Copiapo\n",
      "tiempo que lleva corriendo 8.964158737659455 Min\n"
     ]
    },
    {
     "name": "stderr",
     "output_type": "stream",
     "text": [
      "INFO:fbprophet:Disabling daily seasonality. Run prophet with daily_seasonality=True to override this.\n"
     ]
    },
    {
     "name": "stdout",
     "output_type": "stream",
     "text": [
      "El producto demoró 1.6389086246490479 Norte Copiapo\n",
      "tiempo que lleva corriendo 8.991482214132946 Min\n"
     ]
    },
    {
     "name": "stderr",
     "output_type": "stream",
     "text": [
      "INFO:fbprophet:Disabling daily seasonality. Run prophet with daily_seasonality=True to override this.\n"
     ]
    },
    {
     "name": "stdout",
     "output_type": "stream",
     "text": [
      "El producto demoró 1.8931267261505127 Norte Copiapo\n",
      "tiempo que lleva corriendo 9.023050991694133 Min\n"
     ]
    },
    {
     "name": "stderr",
     "output_type": "stream",
     "text": [
      "INFO:fbprophet:Disabling daily seasonality. Run prophet with daily_seasonality=True to override this.\n"
     ]
    },
    {
     "name": "stdout",
     "output_type": "stream",
     "text": [
      "El producto demoró 1.576354742050171 Norte Copiapo\n",
      "tiempo que lleva corriendo 9.049348584810893 Min\n"
     ]
    },
    {
     "name": "stderr",
     "output_type": "stream",
     "text": [
      "INFO:fbprophet:Disabling daily seasonality. Run prophet with daily_seasonality=True to override this.\n"
     ]
    },
    {
     "name": "stdout",
     "output_type": "stream",
     "text": [
      "El producto demoró 1.5578384399414062 Norte Copiapo\n",
      "tiempo que lleva corriendo 9.075329236189525 Min\n"
     ]
    },
    {
     "name": "stderr",
     "output_type": "stream",
     "text": [
      "INFO:fbprophet:Disabling daily seasonality. Run prophet with daily_seasonality=True to override this.\n"
     ]
    },
    {
     "name": "stdout",
     "output_type": "stream",
     "text": [
      "El producto demoró 1.517303466796875 Norte Copiapo\n",
      "tiempo que lleva corriendo 9.10062596797943 Min\n"
     ]
    },
    {
     "name": "stderr",
     "output_type": "stream",
     "text": [
      "INFO:fbprophet:Disabling daily seasonality. Run prophet with daily_seasonality=True to override this.\n"
     ]
    },
    {
     "name": "stdout",
     "output_type": "stream",
     "text": [
      "El producto demoró 1.611384630203247 Norte Copiapo\n",
      "tiempo que lleva corriendo 9.12749904791514 Min\n"
     ]
    },
    {
     "name": "stderr",
     "output_type": "stream",
     "text": [
      "INFO:fbprophet:Disabling daily seasonality. Run prophet with daily_seasonality=True to override this.\n"
     ]
    },
    {
     "name": "stdout",
     "output_type": "stream",
     "text": [
      "El producto demoró 1.639909267425537 Norte Copiapo\n",
      "tiempo que lleva corriendo 9.15485588312149 Min\n"
     ]
    },
    {
     "name": "stderr",
     "output_type": "stream",
     "text": [
      "INFO:fbprophet:Disabling daily seasonality. Run prophet with daily_seasonality=True to override this.\n"
     ]
    },
    {
     "name": "stdout",
     "output_type": "stream",
     "text": [
      "El producto demoró 1.717475414276123 Norte Copiapo\n",
      "tiempo que lleva corriendo 9.18349715868632 Min\n"
     ]
    },
    {
     "name": "stderr",
     "output_type": "stream",
     "text": [
      "INFO:fbprophet:Disabling daily seasonality. Run prophet with daily_seasonality=True to override this.\n"
     ]
    },
    {
     "name": "stdout",
     "output_type": "stream",
     "text": [
      "El producto demoró 2.1263267993927 Norte Copiapo\n",
      "tiempo que lleva corriendo 9.218944275379181 Min\n"
     ]
    },
    {
     "name": "stderr",
     "output_type": "stream",
     "text": [
      "INFO:fbprophet:Disabling daily seasonality. Run prophet with daily_seasonality=True to override this.\n"
     ]
    },
    {
     "name": "stdout",
     "output_type": "stream",
     "text": [
      "El producto demoró 1.879615068435669 Norte Copiapo\n",
      "tiempo que lleva corriendo 9.250287858645121 Min\n",
      "Venta Directa\n",
      "VD FoodService\n",
      "El producto demoró 0.0030035972595214844 Venta Directa VD FoodService\n",
      "tiempo que lleva corriendo 9.252723296483358 Min\n"
     ]
    },
    {
     "name": "stderr",
     "output_type": "stream",
     "text": [
      "INFO:fbprophet:Disabling daily seasonality. Run prophet with daily_seasonality=True to override this.\n"
     ]
    },
    {
     "name": "stdout",
     "output_type": "stream",
     "text": [
      "El producto demoró 1.5643441677093506 Venta Directa VD FoodService\n",
      "tiempo que lleva corriendo 9.278820701440175 Min\n",
      "El producto demoró 0.004004240036010742 Venta Directa VD FoodService\n",
      "tiempo que lleva corriendo 9.278904116153717 Min\n",
      "El producto demoró 1.3876922130584717 Venta Directa VD FoodService\n",
      "tiempo que lleva corriendo 9.302057333787282 Min\n",
      "tiempo bloque completo 9.302065674463908 Min\n"
     ]
    }
   ],
   "source": [
    "df2 = pd.DataFrame(columns=['ds', 'yhat_lower', 'yhat_upper', 'yhat', 'Material','Oficina de Ventas Unifica', 'Zona de ventas.1'])\n",
    "\n",
    "Listado_de_zonas=data['Zona de ventas.1'].unique()\n",
    "\n",
    "start_time = time()\n",
    "\n",
    "\n",
    "\n",
    "for Z in Listado_de_zonas:\n",
    "#Z='Santiago'\n",
    "    print(Z)\n",
    "    dfz=Df_ubic(data,'Zona de ventas.1',Z)\n",
    "\n",
    "    Listado_de_Sucursales=dfz[dfz['Día natural'] \n",
    "                              >datetime.date(2021, 6, 2)][\n",
    "        'Oficina de Ventas Unifica'].unique()\n",
    "\n",
    "    for y in Listado_de_Sucursales:\n",
    "        #y='Huechuraba'\n",
    "        print(y)\n",
    "        dfy=Df_ubic(dfz,'Oficina de Ventas Unifica',y)\n",
    "\n",
    "\n",
    "        Listado_de_Materiales=dfy[dfy.Año==2021].Material.unique()\n",
    "\n",
    "        for m in Listado_de_Materiales:\n",
    "            #m=Listado_de_Materiales[0]\n",
    "            material_time=time()\n",
    "            #print(y,m)\n",
    "\n",
    "\n",
    "            dfm=Df_ubic(dfy,\n",
    "                        'Material',m).groupby('Día natural'\n",
    "                                                 ).sum().reset_index()[['Día natural',y_col]]\n",
    "            \n",
    "            if(dfm[\n",
    "                    dfm['Día natural']>datetime.date(2021, 1, 2)\n",
    "                        ].shape[0] >20):\n",
    "                dfmPred=Predict_sem(dfm,14)[['ds', 'yhat_lower',\n",
    "                                            'yhat_upper', 'yhat']].tail(14)\n",
    "\n",
    "                dfmPred['Material']=[m for i in range(dfmPred.shape[0])]\n",
    "                dfmPred['Oficina de Ventas Unifica']=[y for i in range(dfmPred.shape[0])]\n",
    "                dfmPred['Zona de ventas.1']=[Z for i in range(dfmPred.shape[0])]\n",
    "                dfmPred=dfmPred.reset_index()\n",
    "                dfmPred.pop('index')\n",
    "                df2=pd.concat([df2, dfmPred])\n",
    "            print('El producto demoró',(time() - material_time),Z,y)\n",
    "            print('tiempo que lleva corriendo',(time() - start_time)/60, 'Min')\n",
    "    \n",
    "print('tiempo bloque completo',(time() - start_time)/60, 'Min')\n"
   ]
  },
  {
   "cell_type": "code",
   "execution_count": 115,
   "id": "a33f0b26",
   "metadata": {
    "hidden": true
   },
   "outputs": [],
   "source": [
    "df2.rename(columns = {'ds': 'Día natural', 'yhat': 'Predicción central',\n",
    "                                'yhat_upper': 'Predicción Superior',\n",
    "                                'yhat_lower': 'Predicción Inferior'}, inplace = True)"
   ]
  },
  {
   "cell_type": "code",
   "execution_count": 116,
   "id": "36af732c",
   "metadata": {
    "hidden": true
   },
   "outputs": [
    {
     "data": {
      "text/html": [
       "<div>\n",
       "<style scoped>\n",
       "    .dataframe tbody tr th:only-of-type {\n",
       "        vertical-align: middle;\n",
       "    }\n",
       "\n",
       "    .dataframe tbody tr th {\n",
       "        vertical-align: top;\n",
       "    }\n",
       "\n",
       "    .dataframe thead th {\n",
       "        text-align: right;\n",
       "    }\n",
       "</style>\n",
       "<table border=\"1\" class=\"dataframe\">\n",
       "  <thead>\n",
       "    <tr style=\"text-align: right;\">\n",
       "      <th></th>\n",
       "      <th>Día natural</th>\n",
       "      <th>Predicción Inferior</th>\n",
       "      <th>Predicción Superior</th>\n",
       "      <th>Predicción central</th>\n",
       "      <th>Material</th>\n",
       "      <th>Oficina de Ventas Unifica</th>\n",
       "      <th>Zona de ventas.1</th>\n",
       "    </tr>\n",
       "  </thead>\n",
       "  <tbody>\n",
       "    <tr>\n",
       "      <th>0</th>\n",
       "      <td>2021-06-20</td>\n",
       "      <td>-214.623787</td>\n",
       "      <td>1388.769299</td>\n",
       "      <td>607.181094</td>\n",
       "      <td>1020253</td>\n",
       "      <td>Huechuraba</td>\n",
       "      <td>Santiago</td>\n",
       "    </tr>\n",
       "    <tr>\n",
       "      <th>1</th>\n",
       "      <td>2021-06-21</td>\n",
       "      <td>-229.219163</td>\n",
       "      <td>1300.243105</td>\n",
       "      <td>527.373474</td>\n",
       "      <td>1020253</td>\n",
       "      <td>Huechuraba</td>\n",
       "      <td>Santiago</td>\n",
       "    </tr>\n",
       "    <tr>\n",
       "      <th>2</th>\n",
       "      <td>2021-06-22</td>\n",
       "      <td>-104.648440</td>\n",
       "      <td>1512.904728</td>\n",
       "      <td>695.256344</td>\n",
       "      <td>1020253</td>\n",
       "      <td>Huechuraba</td>\n",
       "      <td>Santiago</td>\n",
       "    </tr>\n",
       "    <tr>\n",
       "      <th>3</th>\n",
       "      <td>2021-06-23</td>\n",
       "      <td>90.860460</td>\n",
       "      <td>1581.053143</td>\n",
       "      <td>817.338461</td>\n",
       "      <td>1020253</td>\n",
       "      <td>Huechuraba</td>\n",
       "      <td>Santiago</td>\n",
       "    </tr>\n",
       "    <tr>\n",
       "      <th>4</th>\n",
       "      <td>2021-06-24</td>\n",
       "      <td>224.800195</td>\n",
       "      <td>1795.084977</td>\n",
       "      <td>968.204258</td>\n",
       "      <td>1020253</td>\n",
       "      <td>Huechuraba</td>\n",
       "      <td>Santiago</td>\n",
       "    </tr>\n",
       "  </tbody>\n",
       "</table>\n",
       "</div>"
      ],
      "text/plain": [
       "  Día natural  Predicción Inferior  Predicción Superior  Predicción central  \\\n",
       "0  2021-06-20          -214.623787          1388.769299          607.181094   \n",
       "1  2021-06-21          -229.219163          1300.243105          527.373474   \n",
       "2  2021-06-22          -104.648440          1512.904728          695.256344   \n",
       "3  2021-06-23            90.860460          1581.053143          817.338461   \n",
       "4  2021-06-24           224.800195          1795.084977          968.204258   \n",
       "\n",
       "  Material Oficina de Ventas Unifica Zona de ventas.1  \n",
       "0  1020253                Huechuraba         Santiago  \n",
       "1  1020253                Huechuraba         Santiago  \n",
       "2  1020253                Huechuraba         Santiago  \n",
       "3  1020253                Huechuraba         Santiago  \n",
       "4  1020253                Huechuraba         Santiago  "
      ]
     },
     "execution_count": 116,
     "metadata": {},
     "output_type": "execute_result"
    }
   ],
   "source": [
    "df2.head()"
   ]
  },
  {
   "cell_type": "markdown",
   "id": "0def2a03",
   "metadata": {
    "hidden": true
   },
   "source": [
    "### CSV SAVE "
   ]
  },
  {
   "cell_type": "code",
   "execution_count": 117,
   "id": "1600c92f",
   "metadata": {
    "hidden": true
   },
   "outputs": [
    {
     "name": "stdout",
     "output_type": "stream",
     "text": [
      "2021-06-05\n",
      "2021-07-03\n"
     ]
    }
   ],
   "source": [
    "min_time=df2['Día natural'].min()\n",
    "min_time=str(min_time).split(' ')[0]\n",
    "print(min_time)\n",
    "max_time=df2['Día natural'].max()\n",
    "max_time=str(max_time).split(' ')[0]\n",
    "print(max_time)"
   ]
  },
  {
   "cell_type": "code",
   "execution_count": 118,
   "id": "5bc6db5f",
   "metadata": {
    "hidden": true,
    "scrolled": true
   },
   "outputs": [],
   "source": [
    "df3=Limit_fecha(df2,AÑO,MES,DIA_INIC,DIA_FIN)"
   ]
  },
  {
   "cell_type": "code",
   "execution_count": 119,
   "id": "eaa350ab",
   "metadata": {
    "hidden": true
   },
   "outputs": [
    {
     "name": "stdout",
     "output_type": "stream",
     "text": [
      "2021-06-22\n",
      "2021-06-26\n"
     ]
    }
   ],
   "source": [
    "\n",
    "min_time=df3['Día natural'].min()\n",
    "min_time=str(min_time).split(' ')[0]\n",
    "print(min_time)\n",
    "max_time=df3['Día natural'].max()\n",
    "max_time=str(max_time).split(' ')[0]\n",
    "print(max_time)"
   ]
  },
  {
   "cell_type": "code",
   "execution_count": 120,
   "id": "9123f1dd",
   "metadata": {
    "hidden": true
   },
   "outputs": [],
   "source": [
    "df3.to_csv('Data '+min_time+' Predicción CL ' +max_time+ 'Zona, Sucursal.csv', index=False)\n"
   ]
  },
  {
   "cell_type": "markdown",
   "id": "12766862",
   "metadata": {
    "heading_collapsed": true,
    "hidden": true
   },
   "source": [
    "### Exploracion del error "
   ]
  },
  {
   "cell_type": "code",
   "execution_count": 48,
   "id": "29207a15",
   "metadata": {
    "hidden": true
   },
   "outputs": [
    {
     "data": {
      "text/plain": [
       "'Venta Directa'"
      ]
     },
     "execution_count": 48,
     "metadata": {},
     "output_type": "execute_result"
    }
   ],
   "source": [
    "Z"
   ]
  },
  {
   "cell_type": "code",
   "execution_count": 49,
   "id": "a62c6035",
   "metadata": {
    "hidden": true
   },
   "outputs": [
    {
     "data": {
      "text/plain": [
       "'VD FoodService'"
      ]
     },
     "execution_count": 49,
     "metadata": {},
     "output_type": "execute_result"
    }
   ],
   "source": [
    "y"
   ]
  },
  {
   "cell_type": "code",
   "execution_count": 50,
   "id": "80a62fe8",
   "metadata": {
    "hidden": true
   },
   "outputs": [
    {
     "data": {
      "text/plain": [
       "'1010048'"
      ]
     },
     "execution_count": 50,
     "metadata": {},
     "output_type": "execute_result"
    }
   ],
   "source": [
    "m"
   ]
  },
  {
   "cell_type": "code",
   "execution_count": 51,
   "id": "5b9780bf",
   "metadata": {
    "hidden": true
   },
   "outputs": [
    {
     "data": {
      "text/plain": [
       "array(['1020253', '1010267', '1010078', '1010048'], dtype=object)"
      ]
     },
     "execution_count": 51,
     "metadata": {},
     "output_type": "execute_result"
    }
   ],
   "source": [
    "dfy['Material'].unique()"
   ]
  },
  {
   "cell_type": "code",
   "execution_count": 52,
   "id": "1b040eea",
   "metadata": {
    "hidden": true
   },
   "outputs": [
    {
     "data": {
      "text/plain": [
       "array(['1020253', '1010267', '1010078', '1010048'], dtype=object)"
      ]
     },
     "execution_count": 52,
     "metadata": {},
     "output_type": "execute_result"
    }
   ],
   "source": [
    "dfy[dfy.Año==2021]['Material'].unique()"
   ]
  },
  {
   "cell_type": "code",
   "execution_count": 53,
   "id": "e74807c8",
   "metadata": {
    "hidden": true
   },
   "outputs": [
    {
     "data": {
      "text/html": [
       "<div>\n",
       "<style scoped>\n",
       "    .dataframe tbody tr th:only-of-type {\n",
       "        vertical-align: middle;\n",
       "    }\n",
       "\n",
       "    .dataframe tbody tr th {\n",
       "        vertical-align: top;\n",
       "    }\n",
       "\n",
       "    .dataframe thead th {\n",
       "        text-align: right;\n",
       "    }\n",
       "</style>\n",
       "<table border=\"1\" class=\"dataframe\">\n",
       "  <thead>\n",
       "    <tr style=\"text-align: right;\">\n",
       "      <th></th>\n",
       "      <th>Sector</th>\n",
       "      <th>Tipo de cliente</th>\n",
       "      <th>Zona de ventas</th>\n",
       "      <th>Zona de ventas.1</th>\n",
       "      <th>Oficina de Ventas Unifica</th>\n",
       "      <th>Oficina de Ventas Unifica.1</th>\n",
       "      <th>Mes</th>\n",
       "      <th>Año natural/Semana</th>\n",
       "      <th>Día natural</th>\n",
       "      <th>Día de la semana</th>\n",
       "      <th>Kilos Venta KG</th>\n",
       "      <th>Venta Neta</th>\n",
       "      <th>Precio Promedio</th>\n",
       "      <th>Unidad Venta</th>\n",
       "      <th>Unidad Precio</th>\n",
       "      <th>Semana</th>\n",
       "      <th>Año</th>\n",
       "    </tr>\n",
       "    <tr>\n",
       "      <th>Material</th>\n",
       "      <th></th>\n",
       "      <th></th>\n",
       "      <th></th>\n",
       "      <th></th>\n",
       "      <th></th>\n",
       "      <th></th>\n",
       "      <th></th>\n",
       "      <th></th>\n",
       "      <th></th>\n",
       "      <th></th>\n",
       "      <th></th>\n",
       "      <th></th>\n",
       "      <th></th>\n",
       "      <th></th>\n",
       "      <th></th>\n",
       "      <th></th>\n",
       "      <th></th>\n",
       "    </tr>\n",
       "  </thead>\n",
       "  <tbody>\n",
       "    <tr>\n",
       "      <th>1010048</th>\n",
       "      <td>28</td>\n",
       "      <td>28</td>\n",
       "      <td>28</td>\n",
       "      <td>28</td>\n",
       "      <td>28</td>\n",
       "      <td>28</td>\n",
       "      <td>28</td>\n",
       "      <td>28</td>\n",
       "      <td>28</td>\n",
       "      <td>28</td>\n",
       "      <td>28</td>\n",
       "      <td>28</td>\n",
       "      <td>28</td>\n",
       "      <td>28</td>\n",
       "      <td>28</td>\n",
       "      <td>28</td>\n",
       "      <td>28</td>\n",
       "    </tr>\n",
       "    <tr>\n",
       "      <th>1010078</th>\n",
       "      <td>3</td>\n",
       "      <td>3</td>\n",
       "      <td>3</td>\n",
       "      <td>3</td>\n",
       "      <td>3</td>\n",
       "      <td>3</td>\n",
       "      <td>3</td>\n",
       "      <td>3</td>\n",
       "      <td>3</td>\n",
       "      <td>3</td>\n",
       "      <td>3</td>\n",
       "      <td>3</td>\n",
       "      <td>3</td>\n",
       "      <td>3</td>\n",
       "      <td>3</td>\n",
       "      <td>3</td>\n",
       "      <td>3</td>\n",
       "    </tr>\n",
       "    <tr>\n",
       "      <th>1010267</th>\n",
       "      <td>62</td>\n",
       "      <td>62</td>\n",
       "      <td>62</td>\n",
       "      <td>62</td>\n",
       "      <td>62</td>\n",
       "      <td>62</td>\n",
       "      <td>62</td>\n",
       "      <td>62</td>\n",
       "      <td>62</td>\n",
       "      <td>62</td>\n",
       "      <td>62</td>\n",
       "      <td>62</td>\n",
       "      <td>62</td>\n",
       "      <td>62</td>\n",
       "      <td>62</td>\n",
       "      <td>62</td>\n",
       "      <td>62</td>\n",
       "    </tr>\n",
       "    <tr>\n",
       "      <th>1020253</th>\n",
       "      <td>20</td>\n",
       "      <td>20</td>\n",
       "      <td>20</td>\n",
       "      <td>20</td>\n",
       "      <td>20</td>\n",
       "      <td>20</td>\n",
       "      <td>20</td>\n",
       "      <td>20</td>\n",
       "      <td>20</td>\n",
       "      <td>20</td>\n",
       "      <td>20</td>\n",
       "      <td>20</td>\n",
       "      <td>20</td>\n",
       "      <td>20</td>\n",
       "      <td>20</td>\n",
       "      <td>20</td>\n",
       "      <td>20</td>\n",
       "    </tr>\n",
       "  </tbody>\n",
       "</table>\n",
       "</div>"
      ],
      "text/plain": [
       "          Sector  Tipo de cliente  Zona de ventas  Zona de ventas.1  \\\n",
       "Material                                                              \n",
       "1010048       28               28              28                28   \n",
       "1010078        3                3               3                 3   \n",
       "1010267       62               62              62                62   \n",
       "1020253       20               20              20                20   \n",
       "\n",
       "          Oficina de Ventas Unifica  Oficina de Ventas Unifica.1  Mes  \\\n",
       "Material                                                                \n",
       "1010048                          28                           28   28   \n",
       "1010078                           3                            3    3   \n",
       "1010267                          62                           62   62   \n",
       "1020253                          20                           20   20   \n",
       "\n",
       "          Año natural/Semana  Día natural  Día de la semana  Kilos Venta KG  \\\n",
       "Material                                                                      \n",
       "1010048                   28           28                28              28   \n",
       "1010078                    3            3                 3               3   \n",
       "1010267                   62           62                62              62   \n",
       "1020253                   20           20                20              20   \n",
       "\n",
       "          Venta Neta  Precio Promedio  Unidad Venta  Unidad Precio  Semana  \\\n",
       "Material                                                                     \n",
       "1010048           28               28            28             28      28   \n",
       "1010078            3                3             3              3       3   \n",
       "1010267           62               62            62             62      62   \n",
       "1020253           20               20            20             20      20   \n",
       "\n",
       "          Año  \n",
       "Material       \n",
       "1010048    28  \n",
       "1010078     3  \n",
       "1010267    62  \n",
       "1020253    20  "
      ]
     },
     "execution_count": 53,
     "metadata": {},
     "output_type": "execute_result"
    }
   ],
   "source": [
    "dfy[dfy.Año==2021].groupby('Material').count()"
   ]
  },
  {
   "cell_type": "code",
   "execution_count": 54,
   "id": "e34931ea",
   "metadata": {
    "hidden": true
   },
   "outputs": [
    {
     "data": {
      "text/html": [
       "<div>\n",
       "<style scoped>\n",
       "    .dataframe tbody tr th:only-of-type {\n",
       "        vertical-align: middle;\n",
       "    }\n",
       "\n",
       "    .dataframe tbody tr th {\n",
       "        vertical-align: top;\n",
       "    }\n",
       "\n",
       "    .dataframe thead th {\n",
       "        text-align: right;\n",
       "    }\n",
       "</style>\n",
       "<table border=\"1\" class=\"dataframe\">\n",
       "  <thead>\n",
       "    <tr style=\"text-align: right;\">\n",
       "      <th></th>\n",
       "      <th>Sector</th>\n",
       "      <th>Tipo de cliente</th>\n",
       "      <th>Zona de ventas</th>\n",
       "      <th>Zona de ventas.1</th>\n",
       "      <th>Oficina de Ventas Unifica</th>\n",
       "      <th>Oficina de Ventas Unifica.1</th>\n",
       "      <th>Mes</th>\n",
       "      <th>Año natural/Semana</th>\n",
       "      <th>Día natural</th>\n",
       "      <th>Día de la semana</th>\n",
       "      <th>Kilos Venta KG</th>\n",
       "      <th>Venta Neta</th>\n",
       "      <th>Precio Promedio</th>\n",
       "      <th>Unidad Venta</th>\n",
       "      <th>Unidad Precio</th>\n",
       "      <th>Semana</th>\n",
       "      <th>Año</th>\n",
       "    </tr>\n",
       "    <tr>\n",
       "      <th>Material</th>\n",
       "      <th></th>\n",
       "      <th></th>\n",
       "      <th></th>\n",
       "      <th></th>\n",
       "      <th></th>\n",
       "      <th></th>\n",
       "      <th></th>\n",
       "      <th></th>\n",
       "      <th></th>\n",
       "      <th></th>\n",
       "      <th></th>\n",
       "      <th></th>\n",
       "      <th></th>\n",
       "      <th></th>\n",
       "      <th></th>\n",
       "      <th></th>\n",
       "      <th></th>\n",
       "    </tr>\n",
       "  </thead>\n",
       "  <tbody>\n",
       "    <tr>\n",
       "      <th>1010048</th>\n",
       "      <td>270</td>\n",
       "      <td>270</td>\n",
       "      <td>270</td>\n",
       "      <td>270</td>\n",
       "      <td>270</td>\n",
       "      <td>270</td>\n",
       "      <td>270</td>\n",
       "      <td>270</td>\n",
       "      <td>270</td>\n",
       "      <td>270</td>\n",
       "      <td>270</td>\n",
       "      <td>270</td>\n",
       "      <td>270</td>\n",
       "      <td>270</td>\n",
       "      <td>270</td>\n",
       "      <td>270</td>\n",
       "      <td>270</td>\n",
       "    </tr>\n",
       "    <tr>\n",
       "      <th>1010078</th>\n",
       "      <td>54</td>\n",
       "      <td>54</td>\n",
       "      <td>54</td>\n",
       "      <td>54</td>\n",
       "      <td>54</td>\n",
       "      <td>54</td>\n",
       "      <td>54</td>\n",
       "      <td>54</td>\n",
       "      <td>54</td>\n",
       "      <td>54</td>\n",
       "      <td>54</td>\n",
       "      <td>54</td>\n",
       "      <td>54</td>\n",
       "      <td>54</td>\n",
       "      <td>54</td>\n",
       "      <td>54</td>\n",
       "      <td>54</td>\n",
       "    </tr>\n",
       "    <tr>\n",
       "      <th>1010267</th>\n",
       "      <td>410</td>\n",
       "      <td>410</td>\n",
       "      <td>410</td>\n",
       "      <td>410</td>\n",
       "      <td>410</td>\n",
       "      <td>410</td>\n",
       "      <td>410</td>\n",
       "      <td>410</td>\n",
       "      <td>410</td>\n",
       "      <td>410</td>\n",
       "      <td>410</td>\n",
       "      <td>410</td>\n",
       "      <td>410</td>\n",
       "      <td>410</td>\n",
       "      <td>410</td>\n",
       "      <td>410</td>\n",
       "      <td>410</td>\n",
       "    </tr>\n",
       "    <tr>\n",
       "      <th>1020253</th>\n",
       "      <td>36</td>\n",
       "      <td>36</td>\n",
       "      <td>36</td>\n",
       "      <td>36</td>\n",
       "      <td>36</td>\n",
       "      <td>36</td>\n",
       "      <td>36</td>\n",
       "      <td>36</td>\n",
       "      <td>36</td>\n",
       "      <td>36</td>\n",
       "      <td>36</td>\n",
       "      <td>36</td>\n",
       "      <td>36</td>\n",
       "      <td>36</td>\n",
       "      <td>36</td>\n",
       "      <td>36</td>\n",
       "      <td>36</td>\n",
       "    </tr>\n",
       "  </tbody>\n",
       "</table>\n",
       "</div>"
      ],
      "text/plain": [
       "          Sector  Tipo de cliente  Zona de ventas  Zona de ventas.1  \\\n",
       "Material                                                              \n",
       "1010048      270              270             270               270   \n",
       "1010078       54               54              54                54   \n",
       "1010267      410              410             410               410   \n",
       "1020253       36               36              36                36   \n",
       "\n",
       "          Oficina de Ventas Unifica  Oficina de Ventas Unifica.1  Mes  \\\n",
       "Material                                                                \n",
       "1010048                         270                          270  270   \n",
       "1010078                          54                           54   54   \n",
       "1010267                         410                          410  410   \n",
       "1020253                          36                           36   36   \n",
       "\n",
       "          Año natural/Semana  Día natural  Día de la semana  Kilos Venta KG  \\\n",
       "Material                                                                      \n",
       "1010048                  270          270               270             270   \n",
       "1010078                   54           54                54              54   \n",
       "1010267                  410          410               410             410   \n",
       "1020253                   36           36                36              36   \n",
       "\n",
       "          Venta Neta  Precio Promedio  Unidad Venta  Unidad Precio  Semana  \\\n",
       "Material                                                                     \n",
       "1010048          270              270           270            270     270   \n",
       "1010078           54               54            54             54      54   \n",
       "1010267          410              410           410            410     410   \n",
       "1020253           36               36            36             36      36   \n",
       "\n",
       "          Año  \n",
       "Material       \n",
       "1010048   270  \n",
       "1010078    54  \n",
       "1010267   410  \n",
       "1020253    36  "
      ]
     },
     "execution_count": 54,
     "metadata": {},
     "output_type": "execute_result"
    }
   ],
   "source": [
    "dfy.groupby('Material').count()"
   ]
  },
  {
   "cell_type": "code",
   "execution_count": 55,
   "id": "6ec36613",
   "metadata": {
    "hidden": true
   },
   "outputs": [],
   "source": [
    "dfy_21=dfy[dfy.Año==2021]"
   ]
  },
  {
   "cell_type": "code",
   "execution_count": 56,
   "id": "fc032579",
   "metadata": {
    "hidden": true,
    "scrolled": false
   },
   "outputs": [
    {
     "data": {
      "text/html": [
       "<div>\n",
       "<style scoped>\n",
       "    .dataframe tbody tr th:only-of-type {\n",
       "        vertical-align: middle;\n",
       "    }\n",
       "\n",
       "    .dataframe tbody tr th {\n",
       "        vertical-align: top;\n",
       "    }\n",
       "\n",
       "    .dataframe thead th {\n",
       "        text-align: right;\n",
       "    }\n",
       "</style>\n",
       "<table border=\"1\" class=\"dataframe\">\n",
       "  <thead>\n",
       "    <tr style=\"text-align: right;\">\n",
       "      <th></th>\n",
       "      <th>Sector</th>\n",
       "      <th>Material</th>\n",
       "      <th>Tipo de cliente</th>\n",
       "      <th>Zona de ventas</th>\n",
       "      <th>Zona de ventas.1</th>\n",
       "      <th>Oficina de Ventas Unifica</th>\n",
       "      <th>Oficina de Ventas Unifica.1</th>\n",
       "      <th>Mes</th>\n",
       "      <th>Año natural/Semana</th>\n",
       "      <th>Día natural</th>\n",
       "      <th>Día de la semana</th>\n",
       "      <th>Kilos Venta KG</th>\n",
       "      <th>Venta Neta</th>\n",
       "      <th>Precio Promedio</th>\n",
       "      <th>Unidad Venta</th>\n",
       "      <th>Unidad Precio</th>\n",
       "      <th>Semana</th>\n",
       "      <th>Año</th>\n",
       "    </tr>\n",
       "  </thead>\n",
       "  <tbody>\n",
       "  </tbody>\n",
       "</table>\n",
       "</div>"
      ],
      "text/plain": [
       "Empty DataFrame\n",
       "Columns: [Sector, Material, Tipo de cliente, Zona de ventas, Zona de ventas.1, Oficina de Ventas Unifica, Oficina de Ventas Unifica.1, Mes, Año natural/Semana, Día natural, Día de la semana, Kilos Venta KG, Venta Neta, Precio Promedio, Unidad Venta, Unidad Precio, Semana, Año]\n",
       "Index: []"
      ]
     },
     "execution_count": 56,
     "metadata": {},
     "output_type": "execute_result"
    }
   ],
   "source": [
    "dfy_21[dfy_21.Material=='1010695']"
   ]
  },
  {
   "cell_type": "code",
   "execution_count": 57,
   "id": "35632b89",
   "metadata": {
    "hidden": true,
    "scrolled": true
   },
   "outputs": [
    {
     "data": {
      "text/plain": [
       "297755.666"
      ]
     },
     "execution_count": 57,
     "metadata": {},
     "output_type": "execute_result"
    }
   ],
   "source": [
    "429.91*692.60"
   ]
  },
  {
   "cell_type": "markdown",
   "id": "a22097d8",
   "metadata": {
    "heading_collapsed": true,
    "hidden": true
   },
   "source": [
    "## Iteración Zona"
   ]
  },
  {
   "cell_type": "code",
   "execution_count": 46,
   "id": "70567c70",
   "metadata": {
    "hidden": true,
    "scrolled": true
   },
   "outputs": [
    {
     "name": "stdout",
     "output_type": "stream",
     "text": [
      "Santiago\n"
     ]
    },
    {
     "name": "stderr",
     "output_type": "stream",
     "text": [
      "INFO:fbprophet:Disabling daily seasonality. Run prophet with daily_seasonality=True to override this.\n",
      "INFO:fbprophet:Disabling daily seasonality. Run prophet with daily_seasonality=True to override this.\n"
     ]
    },
    {
     "name": "stdout",
     "output_type": "stream",
     "text": [
      "El producto demoró 4.342912197113037 Santiago\n",
      "tiempo que lleva corriendo 0.07656582991282145 Min\n"
     ]
    },
    {
     "name": "stderr",
     "output_type": "stream",
     "text": [
      "INFO:fbprophet:Disabling daily seasonality. Run prophet with daily_seasonality=True to override this.\n"
     ]
    },
    {
     "name": "stdout",
     "output_type": "stream",
     "text": [
      "El producto demoró 3.6187655925750732 Santiago\n",
      "tiempo que lleva corriendo 0.13688693046569825 Min\n"
     ]
    },
    {
     "name": "stderr",
     "output_type": "stream",
     "text": [
      "INFO:fbprophet:Disabling daily seasonality. Run prophet with daily_seasonality=True to override this.\n"
     ]
    },
    {
     "name": "stdout",
     "output_type": "stream",
     "text": [
      "El producto demoró 4.453211069107056 Santiago\n",
      "tiempo que lleva corriendo 0.21110711495081583 Min\n"
     ]
    },
    {
     "name": "stderr",
     "output_type": "stream",
     "text": [
      "INFO:fbprophet:Disabling daily seasonality. Run prophet with daily_seasonality=True to override this.\n"
     ]
    },
    {
     "name": "stdout",
     "output_type": "stream",
     "text": [
      "El producto demoró 3.3183279037475586 Santiago\n",
      "tiempo que lleva corriendo 0.2664292136828105 Min\n"
     ]
    },
    {
     "name": "stderr",
     "output_type": "stream",
     "text": [
      "INFO:fbprophet:Disabling daily seasonality. Run prophet with daily_seasonality=True to override this.\n"
     ]
    },
    {
     "name": "stdout",
     "output_type": "stream",
     "text": [
      "El producto demoró 4.429755687713623 Santiago\n",
      "tiempo que lleva corriendo 0.3402584751447042 Min\n"
     ]
    },
    {
     "name": "stderr",
     "output_type": "stream",
     "text": [
      "INFO:fbprophet:Disabling daily seasonality. Run prophet with daily_seasonality=True to override this.\n"
     ]
    },
    {
     "name": "stdout",
     "output_type": "stream",
     "text": [
      "El producto demoró 3.4715371131896973 Santiago\n",
      "tiempo que lleva corriendo 0.3981174270311991 Min\n"
     ]
    },
    {
     "name": "stderr",
     "output_type": "stream",
     "text": [
      "INFO:fbprophet:Disabling daily seasonality. Run prophet with daily_seasonality=True to override this.\n"
     ]
    },
    {
     "name": "stdout",
     "output_type": "stream",
     "text": [
      "El producto demoró 3.818894386291504 Santiago\n",
      "tiempo que lleva corriendo 0.4617823084195455 Min\n"
     ]
    },
    {
     "name": "stderr",
     "output_type": "stream",
     "text": [
      "INFO:fbprophet:Disabling daily seasonality. Run prophet with daily_seasonality=True to override this.\n"
     ]
    },
    {
     "name": "stdout",
     "output_type": "stream",
     "text": [
      "El producto demoró 3.865804433822632 Santiago\n",
      "tiempo que lleva corriendo 0.5262206951777141 Min\n"
     ]
    },
    {
     "name": "stderr",
     "output_type": "stream",
     "text": [
      "INFO:fbprophet:Disabling daily seasonality. Run prophet with daily_seasonality=True to override this.\n"
     ]
    },
    {
     "name": "stdout",
     "output_type": "stream",
     "text": [
      "El producto demoró 4.126821279525757 Santiago\n",
      "tiempo que lleva corriendo 0.5950010498364766 Min\n"
     ]
    },
    {
     "name": "stderr",
     "output_type": "stream",
     "text": [
      "INFO:fbprophet:Disabling daily seasonality. Run prophet with daily_seasonality=True to override this.\n"
     ]
    },
    {
     "name": "stdout",
     "output_type": "stream",
     "text": [
      "El producto demoró 4.516094446182251 Santiago\n",
      "tiempo que lleva corriendo 0.6702776153882345 Min\n"
     ]
    },
    {
     "name": "stderr",
     "output_type": "stream",
     "text": [
      "INFO:fbprophet:Disabling daily seasonality. Run prophet with daily_seasonality=True to override this.\n"
     ]
    },
    {
     "name": "stdout",
     "output_type": "stream",
     "text": [
      "El producto demoró 3.696124315261841 Santiago\n",
      "tiempo que lleva corriendo 0.7318880041440328 Min\n"
     ]
    },
    {
     "name": "stderr",
     "output_type": "stream",
     "text": [
      "INFO:fbprophet:Disabling daily seasonality. Run prophet with daily_seasonality=True to override this.\n"
     ]
    },
    {
     "name": "stdout",
     "output_type": "stream",
     "text": [
      "El producto demoró 3.6372365951538086 Santiago\n",
      "tiempo que lleva corriendo 0.7925252636273702 Min\n",
      "El producto demoró 4.175232410430908 Santiago\n",
      "tiempo que lleva corriendo 0.8621124704678853 Min\n",
      "Centro Norte\n"
     ]
    },
    {
     "name": "stderr",
     "output_type": "stream",
     "text": [
      "INFO:fbprophet:Disabling daily seasonality. Run prophet with daily_seasonality=True to override this.\n",
      "INFO:fbprophet:Disabling daily seasonality. Run prophet with daily_seasonality=True to override this.\n"
     ]
    },
    {
     "name": "stdout",
     "output_type": "stream",
     "text": [
      "El producto demoró 3.7764711380004883 Centro Norte\n",
      "tiempo que lleva corriendo 0.9293373743693034 Min\n"
     ]
    },
    {
     "name": "stderr",
     "output_type": "stream",
     "text": [
      "INFO:fbprophet:Disabling daily seasonality. Run prophet with daily_seasonality=True to override this.\n"
     ]
    },
    {
     "name": "stdout",
     "output_type": "stream",
     "text": [
      "El producto demoró 3.6435067653656006 Centro Norte\n",
      "tiempo que lleva corriendo 0.9900624871253967 Min\n"
     ]
    },
    {
     "name": "stderr",
     "output_type": "stream",
     "text": [
      "INFO:fbprophet:Disabling daily seasonality. Run prophet with daily_seasonality=True to override this.\n"
     ]
    },
    {
     "name": "stdout",
     "output_type": "stream",
     "text": [
      "El producto demoró 3.6786985397338867 Centro Norte\n",
      "tiempo que lleva corriendo 1.0513907631238302 Min\n"
     ]
    },
    {
     "name": "stderr",
     "output_type": "stream",
     "text": [
      "INFO:fbprophet:Disabling daily seasonality. Run prophet with daily_seasonality=True to override this.\n"
     ]
    },
    {
     "name": "stdout",
     "output_type": "stream",
     "text": [
      "El producto demoró 3.999558210372925 Centro Norte\n",
      "tiempo que lleva corriendo 1.1180750171343485 Min\n"
     ]
    },
    {
     "name": "stderr",
     "output_type": "stream",
     "text": [
      "INFO:fbprophet:Disabling daily seasonality. Run prophet with daily_seasonality=True to override this.\n"
     ]
    },
    {
     "name": "stdout",
     "output_type": "stream",
     "text": [
      "El producto demoró 4.300997972488403 Centro Norte\n",
      "tiempo que lleva corriendo 1.1897666335105896 Min\n"
     ]
    },
    {
     "name": "stderr",
     "output_type": "stream",
     "text": [
      "INFO:fbprophet:Disabling daily seasonality. Run prophet with daily_seasonality=True to override this.\n"
     ]
    },
    {
     "name": "stdout",
     "output_type": "stream",
     "text": [
      "El producto demoró 6.174330472946167 Centro Norte\n",
      "tiempo que lleva corriendo 1.2926721413930258 Min\n"
     ]
    },
    {
     "name": "stderr",
     "output_type": "stream",
     "text": [
      "INFO:fbprophet:Disabling daily seasonality. Run prophet with daily_seasonality=True to override this.\n"
     ]
    },
    {
     "name": "stdout",
     "output_type": "stream",
     "text": [
      "El producto demoró 3.551891326904297 Centro Norte\n",
      "tiempo que lleva corriendo 1.351870330174764 Min\n"
     ]
    },
    {
     "name": "stderr",
     "output_type": "stream",
     "text": [
      "INFO:fbprophet:Disabling daily seasonality. Run prophet with daily_seasonality=True to override this.\n"
     ]
    },
    {
     "name": "stdout",
     "output_type": "stream",
     "text": [
      "El producto demoró 4.313972234725952 Centro Norte\n",
      "tiempo que lleva corriendo 1.423778196175893 Min\n"
     ]
    },
    {
     "name": "stderr",
     "output_type": "stream",
     "text": [
      "INFO:fbprophet:Disabling daily seasonality. Run prophet with daily_seasonality=True to override this.\n"
     ]
    },
    {
     "name": "stdout",
     "output_type": "stream",
     "text": [
      "El producto demoró 3.873790740966797 Centro Norte\n",
      "tiempo que lleva corriendo 1.4883413751920065 Min\n"
     ]
    },
    {
     "name": "stderr",
     "output_type": "stream",
     "text": [
      "INFO:fbprophet:Disabling daily seasonality. Run prophet with daily_seasonality=True to override this.\n"
     ]
    },
    {
     "name": "stdout",
     "output_type": "stream",
     "text": [
      "El producto demoró 3.947654962539673 Centro Norte\n",
      "tiempo que lleva corriendo 1.5541356245676676 Min\n"
     ]
    },
    {
     "name": "stderr",
     "output_type": "stream",
     "text": [
      "INFO:fbprophet:Disabling daily seasonality. Run prophet with daily_seasonality=True to override this.\n"
     ]
    },
    {
     "name": "stdout",
     "output_type": "stream",
     "text": [
      "El producto demoró 3.345479965209961 Centro Norte\n",
      "tiempo que lleva corriendo 1.6099019487698873 Min\n"
     ]
    },
    {
     "name": "stderr",
     "output_type": "stream",
     "text": [
      "INFO:fbprophet:Disabling daily seasonality. Run prophet with daily_seasonality=True to override this.\n"
     ]
    },
    {
     "name": "stdout",
     "output_type": "stream",
     "text": [
      "El producto demoró 4.296002388000488 Centro Norte\n",
      "tiempo que lleva corriendo 1.6815019885698954 Min\n",
      "El producto demoró 3.6417253017425537 Centro Norte\n",
      "tiempo que lleva corriendo 1.7422057390213013 Min\n",
      "Centro Sur\n"
     ]
    },
    {
     "name": "stderr",
     "output_type": "stream",
     "text": [
      "INFO:fbprophet:Disabling daily seasonality. Run prophet with daily_seasonality=True to override this.\n",
      "INFO:fbprophet:Disabling daily seasonality. Run prophet with daily_seasonality=True to override this.\n"
     ]
    },
    {
     "name": "stdout",
     "output_type": "stream",
     "text": [
      "El producto demoró 3.815380811691284 Centro Sur\n",
      "tiempo que lleva corriendo 1.8102931062380472 Min\n"
     ]
    },
    {
     "name": "stderr",
     "output_type": "stream",
     "text": [
      "INFO:fbprophet:Disabling daily seasonality. Run prophet with daily_seasonality=True to override this.\n"
     ]
    },
    {
     "name": "stdout",
     "output_type": "stream",
     "text": [
      "El producto demoró 3.4296178817749023 Centro Sur\n",
      "tiempo que lleva corriendo 1.8674617171287538 Min\n"
     ]
    },
    {
     "name": "stderr",
     "output_type": "stream",
     "text": [
      "INFO:fbprophet:Disabling daily seasonality. Run prophet with daily_seasonality=True to override this.\n"
     ]
    },
    {
     "name": "stdout",
     "output_type": "stream",
     "text": [
      "El producto demoró 3.589176893234253 Centro Sur\n",
      "tiempo que lleva corriendo 1.9272979696591694 Min\n"
     ]
    },
    {
     "name": "stderr",
     "output_type": "stream",
     "text": [
      "INFO:fbprophet:Disabling daily seasonality. Run prophet with daily_seasonality=True to override this.\n"
     ]
    },
    {
     "name": "stdout",
     "output_type": "stream",
     "text": [
      "El producto demoró 3.6586875915527344 Centro Sur\n",
      "tiempo que lleva corriendo 1.988284416993459 Min\n"
     ]
    },
    {
     "name": "stderr",
     "output_type": "stream",
     "text": [
      "INFO:fbprophet:Disabling daily seasonality. Run prophet with daily_seasonality=True to override this.\n"
     ]
    },
    {
     "name": "stdout",
     "output_type": "stream",
     "text": [
      "El producto demoró 4.08040714263916 Centro Sur\n",
      "tiempo que lleva corriendo 2.0562995155652364 Min\n"
     ]
    },
    {
     "name": "stderr",
     "output_type": "stream",
     "text": [
      "INFO:fbprophet:Disabling daily seasonality. Run prophet with daily_seasonality=True to override this.\n"
     ]
    },
    {
     "name": "stdout",
     "output_type": "stream",
     "text": [
      "El producto demoró 6.848755836486816 Centro Sur\n",
      "tiempo que lleva corriendo 2.1704454461733502 Min\n"
     ]
    },
    {
     "name": "stderr",
     "output_type": "stream",
     "text": [
      "INFO:fbprophet:Disabling daily seasonality. Run prophet with daily_seasonality=True to override this.\n"
     ]
    },
    {
     "name": "stdout",
     "output_type": "stream",
     "text": [
      "El producto demoró 3.631241798400879 Centro Sur\n",
      "tiempo que lleva corriendo 2.230982768535614 Min\n"
     ]
    },
    {
     "name": "stderr",
     "output_type": "stream",
     "text": [
      "INFO:fbprophet:Disabling daily seasonality. Run prophet with daily_seasonality=True to override this.\n"
     ]
    },
    {
     "name": "stdout",
     "output_type": "stream",
     "text": [
      "El producto demoró 3.7610037326812744 Centro Sur\n",
      "tiempo que lleva corriendo 2.2936661640803018 Min\n"
     ]
    },
    {
     "name": "stderr",
     "output_type": "stream",
     "text": [
      "INFO:fbprophet:Disabling daily seasonality. Run prophet with daily_seasonality=True to override this.\n"
     ]
    },
    {
     "name": "stdout",
     "output_type": "stream",
     "text": [
      "El producto demoró 3.796431541442871 Centro Sur\n",
      "tiempo que lleva corriendo 2.356956672668457 Min\n"
     ]
    },
    {
     "name": "stderr",
     "output_type": "stream",
     "text": [
      "INFO:fbprophet:Disabling daily seasonality. Run prophet with daily_seasonality=True to override this.\n"
     ]
    },
    {
     "name": "stdout",
     "output_type": "stream",
     "text": [
      "El producto demoró 3.4400978088378906 Centro Sur\n",
      "tiempo que lleva corriendo 2.4142916361490885 Min\n"
     ]
    },
    {
     "name": "stderr",
     "output_type": "stream",
     "text": [
      "INFO:fbprophet:Disabling daily seasonality. Run prophet with daily_seasonality=True to override this.\n"
     ]
    },
    {
     "name": "stdout",
     "output_type": "stream",
     "text": [
      "El producto demoró 3.4799067974090576 Centro Sur\n",
      "tiempo que lleva corriendo 2.4722984075546264 Min\n"
     ]
    },
    {
     "name": "stderr",
     "output_type": "stream",
     "text": [
      "INFO:fbprophet:Disabling daily seasonality. Run prophet with daily_seasonality=True to override this.\n"
     ]
    },
    {
     "name": "stdout",
     "output_type": "stream",
     "text": [
      "El producto demoró 3.3921873569488525 Centro Sur\n",
      "tiempo que lleva corriendo 2.528843176364899 Min\n",
      "El producto demoró 3.6397297382354736 Centro Sur\n",
      "tiempo que lleva corriendo 2.58951362768809 Min\n",
      "Sur\n"
     ]
    },
    {
     "name": "stderr",
     "output_type": "stream",
     "text": [
      "INFO:fbprophet:Disabling daily seasonality. Run prophet with daily_seasonality=True to override this.\n",
      "INFO:fbprophet:Disabling daily seasonality. Run prophet with daily_seasonality=True to override this.\n"
     ]
    },
    {
     "name": "stdout",
     "output_type": "stream",
     "text": [
      "El producto demoró 3.2723922729492188 Sur\n",
      "tiempo que lleva corriendo 2.6483541250228884 Min\n"
     ]
    },
    {
     "name": "stderr",
     "output_type": "stream",
     "text": [
      "INFO:fbprophet:Disabling daily seasonality. Run prophet with daily_seasonality=True to override this.\n"
     ]
    },
    {
     "name": "stdout",
     "output_type": "stream",
     "text": [
      "El producto demoró 4.175230264663696 Sur\n",
      "tiempo que lleva corriendo 2.717949612935384 Min\n"
     ]
    },
    {
     "name": "stderr",
     "output_type": "stream",
     "text": [
      "INFO:fbprophet:Disabling daily seasonality. Run prophet with daily_seasonality=True to override this.\n"
     ]
    },
    {
     "name": "stdout",
     "output_type": "stream",
     "text": [
      "El producto demoró 3.6137773990631104 Sur\n",
      "tiempo que lleva corriendo 2.7781875570615133 Min\n"
     ]
    },
    {
     "name": "stderr",
     "output_type": "stream",
     "text": [
      "INFO:fbprophet:Disabling daily seasonality. Run prophet with daily_seasonality=True to override this.\n"
     ]
    },
    {
     "name": "stdout",
     "output_type": "stream",
     "text": [
      "El producto demoró 3.337787628173828 Sur\n",
      "tiempo que lleva corriendo 2.8338173508644102 Min\n"
     ]
    },
    {
     "name": "stderr",
     "output_type": "stream",
     "text": [
      "INFO:fbprophet:Disabling daily seasonality. Run prophet with daily_seasonality=True to override this.\n"
     ]
    },
    {
     "name": "stdout",
     "output_type": "stream",
     "text": [
      "El producto demoró 4.369863986968994 Sur\n",
      "tiempo que lleva corriendo 2.90666507879893 Min\n"
     ]
    },
    {
     "name": "stderr",
     "output_type": "stream",
     "text": [
      "INFO:fbprophet:Disabling daily seasonality. Run prophet with daily_seasonality=True to override this.\n"
     ]
    },
    {
     "name": "stdout",
     "output_type": "stream",
     "text": [
      "El producto demoró 3.762497901916504 Sur\n",
      "tiempo que lleva corriendo 2.969373377164205 Min\n"
     ]
    },
    {
     "name": "stderr",
     "output_type": "stream",
     "text": [
      "INFO:fbprophet:Disabling daily seasonality. Run prophet with daily_seasonality=True to override this.\n"
     ]
    },
    {
     "name": "stdout",
     "output_type": "stream",
     "text": [
      "El producto demoró 3.364238977432251 Sur\n",
      "tiempo que lleva corriendo 3.025460660457611 Min\n"
     ]
    },
    {
     "name": "stderr",
     "output_type": "stream",
     "text": [
      "INFO:fbprophet:Disabling daily seasonality. Run prophet with daily_seasonality=True to override this.\n"
     ]
    },
    {
     "name": "stdout",
     "output_type": "stream",
     "text": [
      "El producto demoró 4.4322545528411865 Sur\n",
      "tiempo que lleva corriendo 3.099331569671631 Min\n"
     ]
    },
    {
     "name": "stderr",
     "output_type": "stream",
     "text": [
      "INFO:fbprophet:Disabling daily seasonality. Run prophet with daily_seasonality=True to override this.\n"
     ]
    },
    {
     "name": "stdout",
     "output_type": "stream",
     "text": [
      "El producto demoró 3.6561954021453857 Sur\n",
      "tiempo que lleva corriendo 3.1602848052978514 Min\n"
     ]
    },
    {
     "name": "stderr",
     "output_type": "stream",
     "text": [
      "INFO:fbprophet:Disabling daily seasonality. Run prophet with daily_seasonality=True to override this.\n"
     ]
    },
    {
     "name": "stdout",
     "output_type": "stream",
     "text": [
      "El producto demoró 3.5067298412323 Sur\n",
      "tiempo que lleva corriendo 3.218738607565562 Min\n"
     ]
    },
    {
     "name": "stderr",
     "output_type": "stream",
     "text": [
      "INFO:fbprophet:Disabling daily seasonality. Run prophet with daily_seasonality=True to override this.\n"
     ]
    },
    {
     "name": "stdout",
     "output_type": "stream",
     "text": [
      "El producto demoró 3.458563804626465 Sur\n",
      "tiempo que lleva corriendo 3.2763896663983663 Min\n"
     ]
    },
    {
     "name": "stderr",
     "output_type": "stream",
     "text": [
      "INFO:fbprophet:Disabling daily seasonality. Run prophet with daily_seasonality=True to override this.\n"
     ]
    },
    {
     "name": "stdout",
     "output_type": "stream",
     "text": [
      "El producto demoró 3.6177639961242676 Sur\n",
      "tiempo que lleva corriendo 3.336694057782491 Min\n",
      "El producto demoró 3.3357930183410645 Sur\n",
      "tiempo que lleva corriendo 3.3922906080881754 Min\n",
      "Norte\n"
     ]
    },
    {
     "name": "stderr",
     "output_type": "stream",
     "text": [
      "INFO:fbprophet:Disabling daily seasonality. Run prophet with daily_seasonality=True to override this.\n",
      "INFO:fbprophet:Disabling daily seasonality. Run prophet with daily_seasonality=True to override this.\n"
     ]
    },
    {
     "name": "stdout",
     "output_type": "stream",
     "text": [
      "El producto demoró 3.506456136703491 Norte\n",
      "tiempo que lleva corriendo 3.454824237028758 Min\n"
     ]
    },
    {
     "name": "stderr",
     "output_type": "stream",
     "text": [
      "INFO:fbprophet:Disabling daily seasonality. Run prophet with daily_seasonality=True to override this.\n"
     ]
    },
    {
     "name": "stdout",
     "output_type": "stream",
     "text": [
      "El producto demoró 3.5768446922302246 Norte\n",
      "tiempo que lleva corriendo 3.514454956849416 Min\n"
     ]
    },
    {
     "name": "stderr",
     "output_type": "stream",
     "text": [
      "INFO:fbprophet:Disabling daily seasonality. Run prophet with daily_seasonality=True to override this.\n"
     ]
    },
    {
     "name": "stdout",
     "output_type": "stream",
     "text": [
      "El producto demoró 3.4550676345825195 Norte\n",
      "tiempo que lleva corriendo 3.5720477302869162 Min\n"
     ]
    },
    {
     "name": "stderr",
     "output_type": "stream",
     "text": [
      "INFO:fbprophet:Disabling daily seasonality. Run prophet with daily_seasonality=True to override this.\n"
     ]
    },
    {
     "name": "stdout",
     "output_type": "stream",
     "text": [
      "El producto demoró 3.4301185607910156 Norte\n",
      "tiempo que lleva corriendo 3.6292163729667664 Min\n"
     ]
    },
    {
     "name": "stderr",
     "output_type": "stream",
     "text": [
      "INFO:fbprophet:Disabling daily seasonality. Run prophet with daily_seasonality=True to override this.\n"
     ]
    },
    {
     "name": "stdout",
     "output_type": "stream",
     "text": [
      "El producto demoró 4.213656187057495 Norte\n",
      "tiempo que lleva corriendo 3.699452300866445 Min\n"
     ]
    },
    {
     "name": "stderr",
     "output_type": "stream",
     "text": [
      "INFO:fbprophet:Disabling daily seasonality. Run prophet with daily_seasonality=True to override this.\n"
     ]
    },
    {
     "name": "stdout",
     "output_type": "stream",
     "text": [
      "El producto demoró 3.370730400085449 Norte\n",
      "tiempo que lleva corriendo 3.75563946167628 Min\n"
     ]
    },
    {
     "name": "stderr",
     "output_type": "stream",
     "text": [
      "INFO:fbprophet:Disabling daily seasonality. Run prophet with daily_seasonality=True to override this.\n"
     ]
    },
    {
     "name": "stdout",
     "output_type": "stream",
     "text": [
      "El producto demoró 3.98460054397583 Norte\n",
      "tiempo que lleva corriendo 3.8220661083857217 Min\n"
     ]
    },
    {
     "name": "stderr",
     "output_type": "stream",
     "text": [
      "INFO:fbprophet:Disabling daily seasonality. Run prophet with daily_seasonality=True to override this.\n"
     ]
    },
    {
     "name": "stdout",
     "output_type": "stream",
     "text": [
      "El producto demoró 3.326294422149658 Norte\n",
      "tiempo que lleva corriendo 3.877504348754883 Min\n"
     ]
    },
    {
     "name": "stderr",
     "output_type": "stream",
     "text": [
      "INFO:fbprophet:Disabling daily seasonality. Run prophet with daily_seasonality=True to override this.\n"
     ]
    },
    {
     "name": "stdout",
     "output_type": "stream",
     "text": [
      "El producto demoró 4.384338855743408 Norte\n",
      "tiempo que lleva corriendo 3.950576663017273 Min\n"
     ]
    },
    {
     "name": "stderr",
     "output_type": "stream",
     "text": [
      "INFO:fbprophet:Disabling daily seasonality. Run prophet with daily_seasonality=True to override this.\n"
     ]
    },
    {
     "name": "stdout",
     "output_type": "stream",
     "text": [
      "El producto demoró 3.7270474433898926 Norte\n",
      "tiempo que lleva corriendo 4.012710746129354 Min\n"
     ]
    },
    {
     "name": "stderr",
     "output_type": "stream",
     "text": [
      "INFO:fbprophet:Disabling daily seasonality. Run prophet with daily_seasonality=True to override this.\n"
     ]
    },
    {
     "name": "stdout",
     "output_type": "stream",
     "text": [
      "El producto demoró 3.8413522243499756 Norte\n",
      "tiempo que lleva corriendo 4.076741604010264 Min\n",
      "El producto demoró 3.556589126586914 Norte\n",
      "tiempo que lleva corriendo 4.136018089453379 Min\n",
      "Venta Directa\n"
     ]
    },
    {
     "name": "stderr",
     "output_type": "stream",
     "text": [
      "INFO:fbprophet:Disabling daily seasonality. Run prophet with daily_seasonality=True to override this.\n",
      "INFO:fbprophet:Disabling daily seasonality. Run prophet with daily_seasonality=True to override this.\n"
     ]
    },
    {
     "name": "stdout",
     "output_type": "stream",
     "text": [
      "El producto demoró 3.3914613723754883 Venta Directa\n",
      "tiempo que lleva corriendo 4.196368618806203 Min\n"
     ]
    },
    {
     "name": "stderr",
     "output_type": "stream",
     "text": [
      "INFO:fbprophet:Disabling daily seasonality. Run prophet with daily_seasonality=True to override this.\n"
     ]
    },
    {
     "name": "stdout",
     "output_type": "stream",
     "text": [
      "El producto demoró 2.8641700744628906 Venta Directa\n",
      "tiempo que lleva corriendo 4.244113111495972 Min\n"
     ]
    },
    {
     "name": "stderr",
     "output_type": "stream",
     "text": [
      "INFO:fbprophet:Disabling daily seasonality. Run prophet with daily_seasonality=True to override this.\n"
     ]
    },
    {
     "name": "stdout",
     "output_type": "stream",
     "text": [
      "El producto demoró 3.263408660888672 Venta Directa\n",
      "tiempo que lleva corriendo 4.298519889513652 Min\n",
      "El producto demoró 2.775852680206299 Venta Directa\n",
      "tiempo que lleva corriendo 4.344784100850423 Min\n",
      "tiempo bloque completo 4.344792425632477 Min\n"
     ]
    }
   ],
   "source": [
    "df2 = pd.DataFrame(columns=['ds', 'yhat_lower', 'yhat_upper', 'yhat', 'Material','Oficina de Ventas Unifica', 'Zona de ventas.1'])\n",
    "\n",
    "Listado_de_zonas=data['Zona de ventas.1'].unique()\n",
    "\n",
    "start_time = time()\n",
    "\n",
    "\n",
    "\n",
    "for Z in Listado_de_zonas:\n",
    "#Z='Santiago'\n",
    "    print(Z)\n",
    "    dfz=Df_ubic(data,'Zona de ventas.1',Z)\n",
    "\n",
    "\n",
    "    #Crear un listado de los materiales disponibles en la dat\n",
    "\n",
    "    Listado_de_Materiales=dfz[dfz.Año==2021].Material.unique()     \n",
    "\n",
    "\n",
    "    for m in Listado_de_Materiales:\n",
    "        #m=Listado_de_Materiales[0]\n",
    "        material_time=time()\n",
    "        #print(y,m)\n",
    "\n",
    "\n",
    "        dfm=Df_ubic(dfz,\n",
    "                    'Material',m).groupby('Día natural'\n",
    "                                             ).sum().reset_index()[['Día natural',y_col]]\n",
    "\n",
    "        dfmPred=Predict_sem(dfm,8)[['ds', 'yhat_lower',\n",
    "                                    'yhat_upper', 'yhat']].tail(8)\n",
    "        #Material\n",
    "        dfmPred['Material']=[m for i in range(dfmPred.shape[0])]\n",
    "        \n",
    "        #Sucursal\n",
    "        #dfmPred['Oficina de Ventas Unifica']=[y for i in range(dfmPred.shape[0])]\n",
    "\n",
    "        #Zona\n",
    "        dfmPred['Zona de ventas.1']=[Z for i in range(dfmPred.shape[0])]\n",
    "\n",
    "        dfmPred=dfmPred.reset_index()\n",
    "        dfmPred.pop('index')\n",
    "        df2=pd.concat([df2, dfmPred])\n",
    "        print('El producto demoró',(time() - material_time),Z)\n",
    "        print('tiempo que lleva corriendo',(time() - start_time)/60, 'Min')\n",
    "\n",
    "print('tiempo bloque completo',(time() - start_time)/60, 'Min')\n"
   ]
  },
  {
   "cell_type": "code",
   "execution_count": 47,
   "id": "fb06c0fd",
   "metadata": {
    "hidden": true
   },
   "outputs": [],
   "source": [
    "df2.rename(columns = {'ds': 'Día natural', 'yhat': 'Predicción central',\n",
    "                                'yhat_upper': 'Predicción Superior',\n",
    "                                'yhat_lower': 'Predicción Inferior'}, inplace = True)"
   ]
  },
  {
   "cell_type": "markdown",
   "id": "14a59a14",
   "metadata": {
    "hidden": true
   },
   "source": [
    "### CSV SAVE "
   ]
  },
  {
   "cell_type": "code",
   "execution_count": 48,
   "id": "2a4e3269",
   "metadata": {
    "hidden": true
   },
   "outputs": [
    {
     "name": "stdout",
     "output_type": "stream",
     "text": [
      "2021-06-02\n",
      "2021-06-19\n"
     ]
    }
   ],
   "source": [
    "min_time=df2['Día natural'].min()\n",
    "min_time=str(min_time).split(' ')[0]\n",
    "print(min_time)\n",
    "max_time=df2['Día natural'].max()\n",
    "max_time=str(max_time).split(' ')[0]\n",
    "print(max_time)"
   ]
  },
  {
   "cell_type": "code",
   "execution_count": 49,
   "id": "e966269a",
   "metadata": {
    "hidden": true
   },
   "outputs": [],
   "source": [
    "df2.to_csv('Data'+min_time+' Predicción ' +max_time+ 'Zona.csv', index=False)\n"
   ]
  },
  {
   "cell_type": "markdown",
   "id": "58592ea3",
   "metadata": {
    "heading_collapsed": true
   },
   "source": [
    "# Canal"
   ]
  },
  {
   "cell_type": "markdown",
   "id": "1e1f9328",
   "metadata": {
    "hidden": true
   },
   "source": [
    "## Iteración completa Zona, Sucursal"
   ]
  },
  {
   "cell_type": "code",
   "execution_count": 97,
   "id": "e18cd89c",
   "metadata": {
    "hidden": true
   },
   "outputs": [
    {
     "name": "stdout",
     "output_type": "stream",
     "text": [
      "Santiago\n",
      "Huechuraba\n"
     ]
    },
    {
     "name": "stderr",
     "output_type": "stream",
     "text": [
      "INFO:fbprophet:Disabling daily seasonality. Run prophet with daily_seasonality=True to override this.\n",
      "INFO:fbprophet:Disabling daily seasonality. Run prophet with daily_seasonality=True to override this.\n"
     ]
    },
    {
     "name": "stdout",
     "output_type": "stream",
     "text": [
      "El producto demoró 1.9591832160949707 Santiago Huechuraba\n",
      "tiempo que lleva corriendo 0.03550550937652588 Min\n"
     ]
    },
    {
     "name": "stderr",
     "output_type": "stream",
     "text": [
      "INFO:fbprophet:Disabling daily seasonality. Run prophet with daily_seasonality=True to override this.\n"
     ]
    },
    {
     "name": "stdout",
     "output_type": "stream",
     "text": [
      "El producto demoró 1.5673463344573975 Santiago Huechuraba\n",
      "tiempo que lleva corriendo 0.06163628498713176 Min\n"
     ]
    },
    {
     "name": "stderr",
     "output_type": "stream",
     "text": [
      "INFO:fbprophet:Disabling daily seasonality. Run prophet with daily_seasonality=True to override this.\n"
     ]
    },
    {
     "name": "stdout",
     "output_type": "stream",
     "text": [
      "El producto demoró 1.6744379997253418 Santiago Huechuraba\n",
      "tiempo que lleva corriendo 0.08956861098607381 Min\n"
     ]
    },
    {
     "name": "stderr",
     "output_type": "stream",
     "text": [
      "INFO:fbprophet:Disabling daily seasonality. Run prophet with daily_seasonality=True to override this.\n"
     ]
    },
    {
     "name": "stdout",
     "output_type": "stream",
     "text": [
      "El producto demoró 1.607882022857666 Santiago Huechuraba\n",
      "tiempo que lleva corriendo 0.11638331015904745 Min\n"
     ]
    },
    {
     "name": "stderr",
     "output_type": "stream",
     "text": [
      "INFO:fbprophet:Disabling daily seasonality. Run prophet with daily_seasonality=True to override this.\n"
     ]
    },
    {
     "name": "stdout",
     "output_type": "stream",
     "text": [
      "El producto demoró 1.7129712104797363 Santiago Huechuraba\n",
      "tiempo que lleva corriendo 0.1449578563372294 Min\n"
     ]
    },
    {
     "name": "stderr",
     "output_type": "stream",
     "text": [
      "INFO:fbprophet:Disabling daily seasonality. Run prophet with daily_seasonality=True to override this.\n"
     ]
    },
    {
     "name": "stdout",
     "output_type": "stream",
     "text": [
      "El producto demoró 1.7530066967010498 Santiago Huechuraba\n",
      "tiempo que lleva corriendo 0.17419130007425945 Min\n"
     ]
    },
    {
     "name": "stderr",
     "output_type": "stream",
     "text": [
      "INFO:fbprophet:Disabling daily seasonality. Run prophet with daily_seasonality=True to override this.\n"
     ]
    },
    {
     "name": "stdout",
     "output_type": "stream",
     "text": [
      "El producto demoró 1.7780258655548096 Santiago Huechuraba\n",
      "tiempo que lleva corriendo 0.20384178161621094 Min\n"
     ]
    },
    {
     "name": "stderr",
     "output_type": "stream",
     "text": [
      "INFO:fbprophet:Disabling daily seasonality. Run prophet with daily_seasonality=True to override this.\n"
     ]
    },
    {
     "name": "stdout",
     "output_type": "stream",
     "text": [
      "El producto demoró 1.80605149269104 Santiago Huechuraba\n",
      "tiempo que lleva corriendo 0.23395932118097942 Min\n"
     ]
    },
    {
     "name": "stderr",
     "output_type": "stream",
     "text": [
      "INFO:fbprophet:Disabling daily seasonality. Run prophet with daily_seasonality=True to override this.\n"
     ]
    },
    {
     "name": "stdout",
     "output_type": "stream",
     "text": [
      "El producto demoró 2.3199923038482666 Santiago Huechuraba\n",
      "tiempo que lleva corriendo 0.27264254887898765 Min\n"
     ]
    },
    {
     "name": "stderr",
     "output_type": "stream",
     "text": [
      "INFO:fbprophet:Disabling daily seasonality. Run prophet with daily_seasonality=True to override this.\n"
     ]
    },
    {
     "name": "stdout",
     "output_type": "stream",
     "text": [
      "El producto demoró 1.67193603515625 Santiago Huechuraba\n",
      "tiempo que lleva corriendo 0.30052483479181924 Min\n"
     ]
    },
    {
     "name": "stderr",
     "output_type": "stream",
     "text": [
      "INFO:fbprophet:Disabling daily seasonality. Run prophet with daily_seasonality=True to override this.\n"
     ]
    },
    {
     "name": "stdout",
     "output_type": "stream",
     "text": [
      "El producto demoró 1.5623424053192139 Santiago Huechuraba\n",
      "tiempo que lleva corriendo 0.32659721771876016 Min\n"
     ]
    },
    {
     "name": "stderr",
     "output_type": "stream",
     "text": [
      "INFO:fbprophet:Disabling daily seasonality. Run prophet with daily_seasonality=True to override this.\n"
     ]
    },
    {
     "name": "stdout",
     "output_type": "stream",
     "text": [
      "El producto demoró 1.50929594039917 Santiago Huechuraba\n",
      "tiempo que lleva corriendo 0.35176884730656943 Min\n"
     ]
    },
    {
     "name": "stderr",
     "output_type": "stream",
     "text": [
      "INFO:fbprophet:Disabling daily seasonality. Run prophet with daily_seasonality=True to override this.\n"
     ]
    },
    {
     "name": "stdout",
     "output_type": "stream",
     "text": [
      "El producto demoró 1.7845332622528076 Santiago Huechuraba\n",
      "tiempo que lleva corriendo 0.3815194050470988 Min\n"
     ]
    },
    {
     "name": "stderr",
     "output_type": "stream",
     "text": [
      "INFO:fbprophet:Disabling daily seasonality. Run prophet with daily_seasonality=True to override this.\n"
     ]
    },
    {
     "name": "stdout",
     "output_type": "stream",
     "text": [
      "El producto demoró 1.5623416900634766 Santiago Huechuraba\n",
      "tiempo que lleva corriendo 0.4076668699582418 Min\n"
     ]
    },
    {
     "name": "stderr",
     "output_type": "stream",
     "text": [
      "INFO:fbprophet:Disabling daily seasonality. Run prophet with daily_seasonality=True to override this.\n"
     ]
    },
    {
     "name": "stdout",
     "output_type": "stream",
     "text": [
      "El producto demoró 1.6153879165649414 Santiago Huechuraba\n",
      "tiempo que lleva corriendo 0.434606671333313 Min\n"
     ]
    },
    {
     "name": "stderr",
     "output_type": "stream",
     "text": [
      "INFO:fbprophet:Disabling daily seasonality. Run prophet with daily_seasonality=True to override this.\n"
     ]
    },
    {
     "name": "stdout",
     "output_type": "stream",
     "text": [
      "El producto demoró 1.5678470134735107 Santiago Huechuraba\n",
      "tiempo que lleva corriendo 0.46075414021809896 Min\n"
     ]
    },
    {
     "name": "stderr",
     "output_type": "stream",
     "text": [
      "INFO:fbprophet:Disabling daily seasonality. Run prophet with daily_seasonality=True to override this.\n"
     ]
    },
    {
     "name": "stdout",
     "output_type": "stream",
     "text": [
      "El producto demoró 1.505293607711792 Santiago Huechuraba\n",
      "tiempo que lleva corriendo 0.48586736917495726 Min\n"
     ]
    },
    {
     "name": "stderr",
     "output_type": "stream",
     "text": [
      "INFO:fbprophet:Disabling daily seasonality. Run prophet with daily_seasonality=True to override this.\n"
     ]
    },
    {
     "name": "stdout",
     "output_type": "stream",
     "text": [
      "El producto demoró 1.6754393577575684 Santiago Huechuraba\n",
      "tiempo que lleva corriendo 0.513824733098348 Min\n"
     ]
    },
    {
     "name": "stderr",
     "output_type": "stream",
     "text": [
      "INFO:fbprophet:Disabling daily seasonality. Run prophet with daily_seasonality=True to override this.\n"
     ]
    },
    {
     "name": "stdout",
     "output_type": "stream",
     "text": [
      "El producto demoró 1.6314013004302979 Santiago Huechuraba\n",
      "tiempo que lleva corriendo 0.5410314321517944 Min\n"
     ]
    },
    {
     "name": "stderr",
     "output_type": "stream",
     "text": [
      "INFO:fbprophet:Disabling daily seasonality. Run prophet with daily_seasonality=True to override this.\n"
     ]
    },
    {
     "name": "stdout",
     "output_type": "stream",
     "text": [
      "El producto demoró 1.9486744403839111 Santiago Huechuraba\n",
      "tiempo que lleva corriendo 0.5735260049502054 Min\n"
     ]
    },
    {
     "name": "stderr",
     "output_type": "stream",
     "text": [
      "INFO:fbprophet:Disabling daily seasonality. Run prophet with daily_seasonality=True to override this.\n"
     ]
    },
    {
     "name": "stdout",
     "output_type": "stream",
     "text": [
      "El producto demoró 1.696958065032959 Santiago Huechuraba\n",
      "tiempo que lleva corriendo 0.60181698401769 Min\n"
     ]
    },
    {
     "name": "stderr",
     "output_type": "stream",
     "text": [
      "INFO:fbprophet:Disabling daily seasonality. Run prophet with daily_seasonality=True to override this.\n"
     ]
    },
    {
     "name": "stdout",
     "output_type": "stream",
     "text": [
      "El producto demoró 1.9336609840393066 Santiago Huechuraba\n",
      "tiempo que lleva corriendo 0.634061352411906 Min\n"
     ]
    },
    {
     "name": "stderr",
     "output_type": "stream",
     "text": [
      "INFO:fbprophet:Disabling daily seasonality. Run prophet with daily_seasonality=True to override this.\n"
     ]
    },
    {
     "name": "stdout",
     "output_type": "stream",
     "text": [
      "El producto demoró 2.9009926319122314 Santiago Huechuraba\n",
      "tiempo que lleva corriendo 0.6824278990427654 Min\n"
     ]
    },
    {
     "name": "stderr",
     "output_type": "stream",
     "text": [
      "INFO:fbprophet:Disabling daily seasonality. Run prophet with daily_seasonality=True to override this.\n"
     ]
    },
    {
     "name": "stdout",
     "output_type": "stream",
     "text": [
      "El producto demoró 1.560340404510498 Santiago Huechuraba\n",
      "tiempo que lleva corriendo 0.7084502498308818 Min\n",
      "El producto demoró 0.005003929138183594 Santiago Huechuraba\n",
      "tiempo que lleva corriendo 0.708541997273763 Min\n"
     ]
    },
    {
     "name": "stderr",
     "output_type": "stream",
     "text": [
      "INFO:fbprophet:Disabling daily seasonality. Run prophet with daily_seasonality=True to override this.\n"
     ]
    },
    {
     "name": "stdout",
     "output_type": "stream",
     "text": [
      "El producto demoró 1.4412381649017334 Santiago Huechuraba\n",
      "tiempo que lleva corriendo 0.7326543807983399 Min\n"
     ]
    },
    {
     "name": "stderr",
     "output_type": "stream",
     "text": [
      "INFO:fbprophet:Disabling daily seasonality. Run prophet with daily_seasonality=True to override this.\n"
     ]
    },
    {
     "name": "stdout",
     "output_type": "stream",
     "text": [
      "El producto demoró 3.161715269088745 Santiago Huechuraba\n",
      "tiempo que lleva corriendo 0.7853663166364034 Min\n"
     ]
    },
    {
     "name": "stderr",
     "output_type": "stream",
     "text": [
      "INFO:fbprophet:Disabling daily seasonality. Run prophet with daily_seasonality=True to override this.\n"
     ]
    },
    {
     "name": "stdout",
     "output_type": "stream",
     "text": [
      "El producto demoró 1.3496601581573486 Santiago Huechuraba\n",
      "tiempo que lleva corriendo 0.8078856666882833 Min\n"
     ]
    },
    {
     "name": "stderr",
     "output_type": "stream",
     "text": [
      "INFO:fbprophet:Disabling daily seasonality. Run prophet with daily_seasonality=True to override this.\n"
     ]
    },
    {
     "name": "stdout",
     "output_type": "stream",
     "text": [
      "El producto demoró 1.3686766624450684 Santiago Huechuraba\n",
      "tiempo que lleva corriendo 0.8307136178016663 Min\n"
     ]
    },
    {
     "name": "stderr",
     "output_type": "stream",
     "text": [
      "INFO:fbprophet:Disabling daily seasonality. Run prophet with daily_seasonality=True to override this.\n"
     ]
    },
    {
     "name": "stdout",
     "output_type": "stream",
     "text": [
      "El producto demoró 1.4072082042694092 Santiago Huechuraba\n",
      "tiempo que lleva corriendo 0.8541837612787883 Min\n"
     ]
    },
    {
     "name": "stderr",
     "output_type": "stream",
     "text": [
      "INFO:fbprophet:Disabling daily seasonality. Run prophet with daily_seasonality=True to override this.\n"
     ]
    },
    {
     "name": "stdout",
     "output_type": "stream",
     "text": [
      "El producto demoró 1.7670185565948486 Santiago Huechuraba\n",
      "tiempo que lleva corriendo 0.8836424112319946 Min\n"
     ]
    },
    {
     "name": "stderr",
     "output_type": "stream",
     "text": [
      "INFO:fbprophet:Disabling daily seasonality. Run prophet with daily_seasonality=True to override this.\n"
     ]
    },
    {
     "name": "stdout",
     "output_type": "stream",
     "text": [
      "El producto demoró 1.7855339050292969 Santiago Huechuraba\n",
      "tiempo que lleva corriendo 0.9134346644083658 Min\n"
     ]
    },
    {
     "name": "stderr",
     "output_type": "stream",
     "text": [
      "INFO:fbprophet:Disabling daily seasonality. Run prophet with daily_seasonality=True to override this.\n"
     ]
    },
    {
     "name": "stdout",
     "output_type": "stream",
     "text": [
      "El producto demoró 1.8070533275604248 Santiago Huechuraba\n",
      "tiempo que lleva corriendo 0.9435688813527425 Min\n"
     ]
    },
    {
     "name": "stderr",
     "output_type": "stream",
     "text": [
      "INFO:fbprophet:Disabling daily seasonality. Run prophet with daily_seasonality=True to override this.\n"
     ]
    },
    {
     "name": "stdout",
     "output_type": "stream",
     "text": [
      "El producto demoró 1.3671748638153076 Santiago Huechuraba\n",
      "tiempo que lleva corriendo 0.9663634618123372 Min\n",
      "El producto demoró 0.004503965377807617 Santiago Huechuraba\n",
      "tiempo que lleva corriendo 0.9664385279019674 Min\n"
     ]
    },
    {
     "name": "stderr",
     "output_type": "stream",
     "text": [
      "INFO:fbprophet:Disabling daily seasonality. Run prophet with daily_seasonality=True to override this.\n"
     ]
    },
    {
     "name": "stdout",
     "output_type": "stream",
     "text": [
      "El producto demoró 2.469120979309082 Santiago Huechuraba\n",
      "tiempo que lleva corriendo 1.0076072374979654 Min\n",
      "El producto demoró 0.005004167556762695 Santiago Huechuraba\n",
      "tiempo que lleva corriendo 1.007715650399526 Min\n"
     ]
    },
    {
     "name": "stderr",
     "output_type": "stream",
     "text": [
      "INFO:fbprophet:Disabling daily seasonality. Run prophet with daily_seasonality=True to override this.\n"
     ]
    },
    {
     "name": "stdout",
     "output_type": "stream",
     "text": [
      "El producto demoró 1.3461565971374512 Santiago Huechuraba\n",
      "tiempo que lleva corriendo 1.0301682790120443 Min\n",
      "El producto demoró 0.003503084182739258 Santiago Huechuraba\n",
      "tiempo que lleva corriendo 1.030293381214142 Min\n",
      "Lo Espejo\n"
     ]
    },
    {
     "name": "stderr",
     "output_type": "stream",
     "text": [
      "INFO:fbprophet:Disabling daily seasonality. Run prophet with daily_seasonality=True to override this.\n"
     ]
    },
    {
     "name": "stdout",
     "output_type": "stream",
     "text": [
      "El producto demoró 1.5843603610992432 Santiago Lo Espejo\n",
      "tiempo que lleva corriendo 1.0570080002148947 Min\n"
     ]
    },
    {
     "name": "stderr",
     "output_type": "stream",
     "text": [
      "INFO:fbprophet:Disabling daily seasonality. Run prophet with daily_seasonality=True to override this.\n"
     ]
    },
    {
     "name": "stdout",
     "output_type": "stream",
     "text": [
      "El producto demoró 2.479630947113037 Santiago Lo Espejo\n",
      "tiempo que lleva corriendo 1.0983601848284403 Min\n"
     ]
    },
    {
     "name": "stderr",
     "output_type": "stream",
     "text": [
      "INFO:fbprophet:Disabling daily seasonality. Run prophet with daily_seasonality=True to override this.\n"
     ]
    },
    {
     "name": "stdout",
     "output_type": "stream",
     "text": [
      "El producto demoró 1.7800288200378418 Santiago Lo Espejo\n",
      "tiempo que lleva corriendo 1.1280440171559651 Min\n"
     ]
    },
    {
     "name": "stderr",
     "output_type": "stream",
     "text": [
      "INFO:fbprophet:Disabling daily seasonality. Run prophet with daily_seasonality=True to override this.\n"
     ]
    },
    {
     "name": "stdout",
     "output_type": "stream",
     "text": [
      "El producto demoró 1.651418685913086 Santiago Lo Espejo\n",
      "tiempo que lleva corriendo 1.1555843472480773 Min\n"
     ]
    },
    {
     "name": "stderr",
     "output_type": "stream",
     "text": [
      "INFO:fbprophet:Disabling daily seasonality. Run prophet with daily_seasonality=True to override this.\n"
     ]
    },
    {
     "name": "stdout",
     "output_type": "stream",
     "text": [
      "El producto demoró 1.885620355606079 Santiago Lo Espejo\n",
      "tiempo que lleva corriendo 1.187036355336507 Min\n"
     ]
    },
    {
     "name": "stderr",
     "output_type": "stream",
     "text": [
      "INFO:fbprophet:Disabling daily seasonality. Run prophet with daily_seasonality=True to override this.\n"
     ]
    },
    {
     "name": "stdout",
     "output_type": "stream",
     "text": [
      "El producto demoró 1.6929552555084229 Santiago Lo Espejo\n",
      "tiempo que lleva corriendo 1.2152606089909872 Min\n"
     ]
    },
    {
     "name": "stderr",
     "output_type": "stream",
     "text": [
      "INFO:fbprophet:Disabling daily seasonality. Run prophet with daily_seasonality=True to override this.\n"
     ]
    },
    {
     "name": "stdout",
     "output_type": "stream",
     "text": [
      "El producto demoró 1.6554219722747803 Santiago Lo Espejo\n",
      "tiempo que lleva corriendo 1.2428593118985494 Min\n"
     ]
    },
    {
     "name": "stderr",
     "output_type": "stream",
     "text": [
      "INFO:fbprophet:Disabling daily seasonality. Run prophet with daily_seasonality=True to override this.\n"
     ]
    },
    {
     "name": "stdout",
     "output_type": "stream",
     "text": [
      "El producto demoró 1.5643441677093506 Santiago Lo Espejo\n",
      "tiempo que lleva corriendo 1.2689400593439737 Min\n"
     ]
    },
    {
     "name": "stderr",
     "output_type": "stream",
     "text": [
      "INFO:fbprophet:Disabling daily seasonality. Run prophet with daily_seasonality=True to override this.\n"
     ]
    },
    {
     "name": "stdout",
     "output_type": "stream",
     "text": [
      "El producto demoró 1.9546787738800049 Santiago Lo Espejo\n",
      "tiempo que lleva corriendo 1.301526379585266 Min\n"
     ]
    },
    {
     "name": "stderr",
     "output_type": "stream",
     "text": [
      "INFO:fbprophet:Disabling daily seasonality. Run prophet with daily_seasonality=True to override this.\n"
     ]
    },
    {
     "name": "stdout",
     "output_type": "stream",
     "text": [
      "El producto demoró 1.9386649131774902 Santiago Lo Espejo\n",
      "tiempo que lleva corriendo 1.3338541467984517 Min\n"
     ]
    },
    {
     "name": "stderr",
     "output_type": "stream",
     "text": [
      "INFO:fbprophet:Disabling daily seasonality. Run prophet with daily_seasonality=True to override this.\n"
     ]
    },
    {
     "name": "stdout",
     "output_type": "stream",
     "text": [
      "El producto demoró 1.5643441677093506 Santiago Lo Espejo\n",
      "tiempo que lleva corriendo 1.3599432190259297 Min\n"
     ]
    },
    {
     "name": "stderr",
     "output_type": "stream",
     "text": [
      "INFO:fbprophet:Disabling daily seasonality. Run prophet with daily_seasonality=True to override this.\n"
     ]
    },
    {
     "name": "stdout",
     "output_type": "stream",
     "text": [
      "El producto demoró 1.757009744644165 Santiago Lo Espejo\n",
      "tiempo que lleva corriendo 1.3892433881759643 Min\n"
     ]
    },
    {
     "name": "stderr",
     "output_type": "stream",
     "text": [
      "INFO:fbprophet:Disabling daily seasonality. Run prophet with daily_seasonality=True to override this.\n"
     ]
    },
    {
     "name": "stdout",
     "output_type": "stream",
     "text": [
      "El producto demoró 1.8585968017578125 Santiago Lo Espejo\n",
      "tiempo que lleva corriendo 1.4202366908391317 Min\n"
     ]
    },
    {
     "name": "stderr",
     "output_type": "stream",
     "text": [
      "INFO:fbprophet:Disabling daily seasonality. Run prophet with daily_seasonality=True to override this.\n"
     ]
    },
    {
     "name": "stdout",
     "output_type": "stream",
     "text": [
      "El producto demoró 2.200890302658081 Santiago Lo Espejo\n",
      "tiempo que lleva corriendo 1.4570266207059224 Min\n",
      "El producto demoró 0.0050046443939208984 Santiago Lo Espejo\n",
      "tiempo que lleva corriendo 1.4571267127990724 Min\n"
     ]
    },
    {
     "name": "stderr",
     "output_type": "stream",
     "text": [
      "INFO:fbprophet:Disabling daily seasonality. Run prophet with daily_seasonality=True to override this.\n"
     ]
    },
    {
     "name": "stdout",
     "output_type": "stream",
     "text": [
      "El producto demoró 1.4152159690856934 Santiago Lo Espejo\n",
      "tiempo que lleva corriendo 1.4807386636734008 Min\n"
     ]
    },
    {
     "name": "stderr",
     "output_type": "stream",
     "text": [
      "INFO:fbprophet:Disabling daily seasonality. Run prophet with daily_seasonality=True to override this.\n"
     ]
    },
    {
     "name": "stdout",
     "output_type": "stream",
     "text": [
      "El producto demoró 1.2846035957336426 Santiago Lo Espejo\n",
      "tiempo que lleva corriendo 1.502165400981903 Min\n"
     ]
    },
    {
     "name": "stderr",
     "output_type": "stream",
     "text": [
      "INFO:fbprophet:Disabling daily seasonality. Run prophet with daily_seasonality=True to override this.\n"
     ]
    },
    {
     "name": "stdout",
     "output_type": "stream",
     "text": [
      "El producto demoró 1.8015475273132324 Santiago Lo Espejo\n",
      "tiempo que lleva corriendo 1.532216207186381 Min\n"
     ]
    },
    {
     "name": "stderr",
     "output_type": "stream",
     "text": [
      "INFO:fbprophet:Disabling daily seasonality. Run prophet with daily_seasonality=True to override this.\n"
     ]
    },
    {
     "name": "stdout",
     "output_type": "stream",
     "text": [
      "El producto demoró 1.6659307479858398 Santiago Lo Espejo\n",
      "tiempo que lleva corriendo 1.5599984129269917 Min\n"
     ]
    },
    {
     "name": "stderr",
     "output_type": "stream",
     "text": [
      "INFO:fbprophet:Disabling daily seasonality. Run prophet with daily_seasonality=True to override this.\n"
     ]
    },
    {
     "name": "stdout",
     "output_type": "stream",
     "text": [
      "El producto demoró 1.4292278289794922 Santiago Lo Espejo\n",
      "tiempo que lleva corriendo 1.5838272094726562 Min\n"
     ]
    },
    {
     "name": "stderr",
     "output_type": "stream",
     "text": [
      "INFO:fbprophet:Disabling daily seasonality. Run prophet with daily_seasonality=True to override this.\n"
     ]
    },
    {
     "name": "stdout",
     "output_type": "stream",
     "text": [
      "El producto demoró 1.5858628749847412 Santiago Lo Espejo\n",
      "tiempo que lleva corriendo 1.6102749347686767 Min\n",
      "El producto demoró 0.0040035247802734375 Santiago Lo Espejo\n",
      "tiempo que lleva corriendo 1.6103583415349325 Min\n",
      "El producto demoró 0.004003047943115234 Santiago Lo Espejo\n",
      "tiempo que lleva corriendo 1.6104333957036336 Min\n"
     ]
    },
    {
     "name": "stderr",
     "output_type": "stream",
     "text": [
      "INFO:fbprophet:Disabling daily seasonality. Run prophet with daily_seasonality=True to override this.\n"
     ]
    },
    {
     "name": "stdout",
     "output_type": "stream",
     "text": [
      "El producto demoró 1.3781843185424805 Santiago Lo Espejo\n",
      "tiempo que lleva corriendo 1.6334948738416035 Min\n"
     ]
    },
    {
     "name": "stderr",
     "output_type": "stream",
     "text": [
      "INFO:fbprophet:Disabling daily seasonality. Run prophet with daily_seasonality=True to override this.\n"
     ]
    },
    {
     "name": "stdout",
     "output_type": "stream",
     "text": [
      "El producto demoró 1.5328178405761719 Santiago Lo Espejo\n",
      "tiempo que lleva corriendo 1.6590584993362427 Min\n"
     ]
    },
    {
     "name": "stderr",
     "output_type": "stream",
     "text": [
      "INFO:fbprophet:Disabling daily seasonality. Run prophet with daily_seasonality=True to override this.\n"
     ]
    },
    {
     "name": "stdout",
     "output_type": "stream",
     "text": [
      "El producto demoró 1.370678186416626 Santiago Lo Espejo\n",
      "tiempo que lleva corriendo 1.681919805208842 Min\n"
     ]
    },
    {
     "name": "stderr",
     "output_type": "stream",
     "text": [
      "INFO:fbprophet:Disabling daily seasonality. Run prophet with daily_seasonality=True to override this.\n"
     ]
    },
    {
     "name": "stdout",
     "output_type": "stream",
     "text": [
      "El producto demoró 1.4172186851501465 Santiago Lo Espejo\n",
      "tiempo que lleva corriendo 1.7055567741394042 Min\n"
     ]
    },
    {
     "name": "stderr",
     "output_type": "stream",
     "text": [
      "INFO:fbprophet:Disabling daily seasonality. Run prophet with daily_seasonality=True to override this.\n"
     ]
    },
    {
     "name": "stdout",
     "output_type": "stream",
     "text": [
      "El producto demoró 1.3946986198425293 Santiago Lo Espejo\n",
      "tiempo que lleva corriendo 1.7288267652193705 Min\n",
      "El producto demoró 0.004003763198852539 Santiago Lo Espejo\n",
      "tiempo que lleva corriendo 1.7289185206095377 Min\n"
     ]
    },
    {
     "name": "stderr",
     "output_type": "stream",
     "text": [
      "INFO:fbprophet:Disabling daily seasonality. Run prophet with daily_seasonality=True to override this.\n"
     ]
    },
    {
     "name": "stdout",
     "output_type": "stream",
     "text": [
      "El producto demoró 1.4772696495056152 Santiago Lo Espejo\n",
      "tiempo que lleva corriendo 1.753548002243042 Min\n"
     ]
    },
    {
     "name": "stderr",
     "output_type": "stream",
     "text": [
      "INFO:fbprophet:Disabling daily seasonality. Run prophet with daily_seasonality=True to override this.\n"
     ]
    },
    {
     "name": "stdout",
     "output_type": "stream",
     "text": [
      "El producto demoró 1.6128859519958496 Santiago Lo Espejo\n",
      "tiempo que lleva corriendo 1.7804461161295573 Min\n"
     ]
    },
    {
     "name": "stderr",
     "output_type": "stream",
     "text": [
      "INFO:fbprophet:Disabling daily seasonality. Run prophet with daily_seasonality=True to override this.\n"
     ]
    },
    {
     "name": "stdout",
     "output_type": "stream",
     "text": [
      "El producto demoró 1.6394081115722656 Santiago Lo Espejo\n",
      "tiempo que lleva corriendo 1.8077946027119955 Min\n"
     ]
    },
    {
     "name": "stderr",
     "output_type": "stream",
     "text": [
      "INFO:fbprophet:Disabling daily seasonality. Run prophet with daily_seasonality=True to override this.\n"
     ]
    },
    {
     "name": "stdout",
     "output_type": "stream",
     "text": [
      "El producto demoró 1.525310754776001 Santiago Lo Espejo\n",
      "tiempo que lleva corriendo 1.8332247893015543 Min\n"
     ]
    },
    {
     "name": "stderr",
     "output_type": "stream",
     "text": [
      "INFO:fbprophet:Disabling daily seasonality. Run prophet with daily_seasonality=True to override this.\n"
     ]
    },
    {
     "name": "stdout",
     "output_type": "stream",
     "text": [
      "El producto demoró 1.6043779850006104 Santiago Lo Espejo\n",
      "tiempo que lleva corriendo 1.859981099764506 Min\n",
      "Sucursal Miraflores\n"
     ]
    },
    {
     "name": "stderr",
     "output_type": "stream",
     "text": [
      "INFO:fbprophet:Disabling daily seasonality. Run prophet with daily_seasonality=True to override this.\n"
     ]
    },
    {
     "name": "stdout",
     "output_type": "stream",
     "text": [
      "El producto demoró 1.5783562660217285 Santiago Sucursal Miraflores\n",
      "tiempo que lleva corriendo 1.8865872899691263 Min\n"
     ]
    },
    {
     "name": "stderr",
     "output_type": "stream",
     "text": [
      "INFO:fbprophet:Disabling daily seasonality. Run prophet with daily_seasonality=True to override this.\n"
     ]
    },
    {
     "name": "stdout",
     "output_type": "stream",
     "text": [
      "El producto demoró 1.402705192565918 Santiago Sucursal Miraflores\n",
      "tiempo que lleva corriendo 1.9099823911984761 Min\n"
     ]
    },
    {
     "name": "stderr",
     "output_type": "stream",
     "text": [
      "INFO:fbprophet:Disabling daily seasonality. Run prophet with daily_seasonality=True to override this.\n"
     ]
    },
    {
     "name": "stdout",
     "output_type": "stream",
     "text": [
      "El producto demoró 1.565845012664795 Santiago Sucursal Miraflores\n",
      "tiempo que lleva corriendo 1.9360881447792053 Min\n"
     ]
    },
    {
     "name": "stderr",
     "output_type": "stream",
     "text": [
      "INFO:fbprophet:Disabling daily seasonality. Run prophet with daily_seasonality=True to override this.\n"
     ]
    },
    {
     "name": "stdout",
     "output_type": "stream",
     "text": [
      "El producto demoró 1.7675180435180664 Santiago Sucursal Miraflores\n",
      "tiempo que lleva corriendo 1.9655718048413595 Min\n"
     ]
    },
    {
     "name": "stderr",
     "output_type": "stream",
     "text": [
      "INFO:fbprophet:Disabling daily seasonality. Run prophet with daily_seasonality=True to override this.\n"
     ]
    },
    {
     "name": "stdout",
     "output_type": "stream",
     "text": [
      "El producto demoró 1.4992878437042236 Santiago Sucursal Miraflores\n",
      "tiempo que lleva corriendo 1.9905682722727458 Min\n"
     ]
    },
    {
     "name": "stderr",
     "output_type": "stream",
     "text": [
      "INFO:fbprophet:Disabling daily seasonality. Run prophet with daily_seasonality=True to override this.\n"
     ]
    },
    {
     "name": "stdout",
     "output_type": "stream",
     "text": [
      "El producto demoró 1.548830270767212 Santiago Sucursal Miraflores\n",
      "tiempo que lleva corriendo 2.0164071400960286 Min\n"
     ]
    },
    {
     "name": "stderr",
     "output_type": "stream",
     "text": [
      "INFO:fbprophet:Disabling daily seasonality. Run prophet with daily_seasonality=True to override this.\n"
     ]
    },
    {
     "name": "stdout",
     "output_type": "stream",
     "text": [
      "El producto demoró 1.68194580078125 Santiago Sucursal Miraflores\n",
      "tiempo que lleva corriendo 2.0444645722707113 Min\n"
     ]
    },
    {
     "name": "stderr",
     "output_type": "stream",
     "text": [
      "INFO:fbprophet:Disabling daily seasonality. Run prophet with daily_seasonality=True to override this.\n"
     ]
    },
    {
     "name": "stdout",
     "output_type": "stream",
     "text": [
      "El producto demoró 1.3431541919708252 Santiago Sucursal Miraflores\n",
      "tiempo que lleva corriendo 2.0668588121732077 Min\n"
     ]
    },
    {
     "name": "stderr",
     "output_type": "stream",
     "text": [
      "INFO:fbprophet:Disabling daily seasonality. Run prophet with daily_seasonality=True to override this.\n"
     ]
    },
    {
     "name": "stdout",
     "output_type": "stream",
     "text": [
      "El producto demoró 2.204394578933716 Santiago Sucursal Miraflores\n",
      "tiempo que lleva corriendo 2.1036070545514423 Min\n"
     ]
    },
    {
     "name": "stderr",
     "output_type": "stream",
     "text": [
      "INFO:fbprophet:Disabling daily seasonality. Run prophet with daily_seasonality=True to override this.\n"
     ]
    },
    {
     "name": "stdout",
     "output_type": "stream",
     "text": [
      "El producto demoró 1.6784417629241943 Santiago Sucursal Miraflores\n",
      "tiempo que lleva corriendo 2.1315977692604067 Min\n"
     ]
    },
    {
     "name": "stderr",
     "output_type": "stream",
     "text": [
      "INFO:fbprophet:Disabling daily seasonality. Run prophet with daily_seasonality=True to override this.\n"
     ]
    },
    {
     "name": "stdout",
     "output_type": "stream",
     "text": [
      "El producto demoró 1.580857276916504 Santiago Sucursal Miraflores\n",
      "tiempo que lleva corriendo 2.157962071895599 Min\n"
     ]
    },
    {
     "name": "stderr",
     "output_type": "stream",
     "text": [
      "INFO:fbprophet:Disabling daily seasonality. Run prophet with daily_seasonality=True to override this.\n"
     ]
    },
    {
     "name": "stdout",
     "output_type": "stream",
     "text": [
      "El producto demoró 1.722480058670044 Santiago Sucursal Miraflores\n",
      "tiempo que lleva corriendo 2.1866867462793986 Min\n"
     ]
    },
    {
     "name": "stderr",
     "output_type": "stream",
     "text": [
      "INFO:fbprophet:Disabling daily seasonality. Run prophet with daily_seasonality=True to override this.\n"
     ]
    },
    {
     "name": "stdout",
     "output_type": "stream",
     "text": [
      "El producto demoró 1.8065516948699951 Santiago Sucursal Miraflores\n",
      "tiempo que lleva corriendo 2.2168209751447043 Min\n"
     ]
    },
    {
     "name": "stderr",
     "output_type": "stream",
     "text": [
      "INFO:fbprophet:Disabling daily seasonality. Run prophet with daily_seasonality=True to override this.\n"
     ]
    },
    {
     "name": "stdout",
     "output_type": "stream",
     "text": [
      "El producto demoró 1.9156460762023926 Santiago Sucursal Miraflores\n",
      "tiempo que lleva corriendo 2.2488234599431354 Min\n"
     ]
    },
    {
     "name": "stderr",
     "output_type": "stream",
     "text": [
      "INFO:fbprophet:Disabling daily seasonality. Run prophet with daily_seasonality=True to override this.\n"
     ]
    },
    {
     "name": "stdout",
     "output_type": "stream",
     "text": [
      "El producto demoró 1.242567539215088 Santiago Sucursal Miraflores\n",
      "tiempo que lleva corriendo 2.2695412556330363 Min\n"
     ]
    },
    {
     "name": "stderr",
     "output_type": "stream",
     "text": [
      "INFO:fbprophet:Disabling daily seasonality. Run prophet with daily_seasonality=True to override this.\n"
     ]
    },
    {
     "name": "stdout",
     "output_type": "stream",
     "text": [
      "El producto demoró 1.3606691360473633 Santiago Sucursal Miraflores\n",
      "tiempo que lleva corriendo 2.2922357439994814 Min\n"
     ]
    },
    {
     "name": "stderr",
     "output_type": "stream",
     "text": [
      "INFO:fbprophet:Disabling daily seasonality. Run prophet with daily_seasonality=True to override this.\n"
     ]
    },
    {
     "name": "stdout",
     "output_type": "stream",
     "text": [
      "El producto demoró 1.33664870262146 Santiago Sucursal Miraflores\n",
      "tiempo que lleva corriendo 2.314529899756114 Min\n"
     ]
    },
    {
     "name": "stderr",
     "output_type": "stream",
     "text": [
      "INFO:fbprophet:Disabling daily seasonality. Run prophet with daily_seasonality=True to override this.\n"
     ]
    },
    {
     "name": "stdout",
     "output_type": "stream",
     "text": [
      "El producto demoró 2.4135735034942627 Santiago Sucursal Miraflores\n",
      "tiempo que lleva corriendo 2.354764473438263 Min\n"
     ]
    },
    {
     "name": "stderr",
     "output_type": "stream",
     "text": [
      "INFO:fbprophet:Disabling daily seasonality. Run prophet with daily_seasonality=True to override this.\n"
     ]
    },
    {
     "name": "stdout",
     "output_type": "stream",
     "text": [
      "El producto demoró 1.2270534038543701 Santiago Sucursal Miraflores\n",
      "tiempo que lleva corriendo 2.3752320528030397 Min\n"
     ]
    },
    {
     "name": "stderr",
     "output_type": "stream",
     "text": [
      "INFO:fbprophet:Disabling daily seasonality. Run prophet with daily_seasonality=True to override this.\n"
     ]
    },
    {
     "name": "stdout",
     "output_type": "stream",
     "text": [
      "El producto demoró 1.2896089553833008 Santiago Sucursal Miraflores\n",
      "tiempo que lleva corriendo 2.3967421889305114 Min\n"
     ]
    },
    {
     "name": "stderr",
     "output_type": "stream",
     "text": [
      "INFO:fbprophet:Disabling daily seasonality. Run prophet with daily_seasonality=True to override this.\n"
     ]
    },
    {
     "name": "stdout",
     "output_type": "stream",
     "text": [
      "El producto demoró 1.2410664558410645 Santiago Sucursal Miraflores\n",
      "tiempo que lleva corriendo 2.417443311214447 Min\n"
     ]
    },
    {
     "name": "stderr",
     "output_type": "stream",
     "text": [
      "INFO:fbprophet:Disabling daily seasonality. Run prophet with daily_seasonality=True to override this.\n"
     ]
    },
    {
     "name": "stdout",
     "output_type": "stream",
     "text": [
      "El producto demoró 1.3841886520385742 Santiago Sucursal Miraflores\n",
      "tiempo que lleva corriendo 2.4405131220817564 Min\n"
     ]
    },
    {
     "name": "stderr",
     "output_type": "stream",
     "text": [
      "INFO:fbprophet:Disabling daily seasonality. Run prophet with daily_seasonality=True to override this.\n"
     ]
    },
    {
     "name": "stdout",
     "output_type": "stream",
     "text": [
      "El producto demoró 1.7249822616577148 Santiago Sucursal Miraflores\n",
      "tiempo que lleva corriendo 2.4692795077959695 Min\n"
     ]
    },
    {
     "name": "stderr",
     "output_type": "stream",
     "text": [
      "INFO:fbprophet:Disabling daily seasonality. Run prophet with daily_seasonality=True to override this.\n"
     ]
    },
    {
     "name": "stdout",
     "output_type": "stream",
     "text": [
      "El producto demoró 1.6669316291809082 Santiago Sucursal Miraflores\n",
      "tiempo que lleva corriendo 2.497070038318634 Min\n"
     ]
    },
    {
     "name": "stderr",
     "output_type": "stream",
     "text": [
      "INFO:fbprophet:Disabling daily seasonality. Run prophet with daily_seasonality=True to override this.\n"
     ]
    },
    {
     "name": "stdout",
     "output_type": "stream",
     "text": [
      "El producto demoró 1.491281509399414 Santiago Sucursal Miraflores\n",
      "tiempo que lleva corriendo 2.5219414154688518 Min\n"
     ]
    },
    {
     "name": "stderr",
     "output_type": "stream",
     "text": [
      "INFO:fbprophet:Disabling daily seasonality. Run prophet with daily_seasonality=True to override this.\n"
     ]
    },
    {
     "name": "stdout",
     "output_type": "stream",
     "text": [
      "El producto demoró 1.662428379058838 Santiago Sucursal Miraflores\n",
      "tiempo que lleva corriendo 2.549731945991516 Min\n"
     ]
    },
    {
     "name": "stderr",
     "output_type": "stream",
     "text": [
      "INFO:fbprophet:Disabling daily seasonality. Run prophet with daily_seasonality=True to override this.\n"
     ]
    },
    {
     "name": "stdout",
     "output_type": "stream",
     "text": [
      "El producto demoró 1.3331451416015625 Santiago Sucursal Miraflores\n",
      "tiempo que lleva corriendo 2.571959376335144 Min\n"
     ]
    },
    {
     "name": "stderr",
     "output_type": "stream",
     "text": [
      "INFO:fbprophet:Disabling daily seasonality. Run prophet with daily_seasonality=True to override this.\n"
     ]
    },
    {
     "name": "stdout",
     "output_type": "stream",
     "text": [
      "El producto demoró 1.4517474174499512 Santiago Sucursal Miraflores\n",
      "tiempo que lleva corriendo 2.5961718479792277 Min\n"
     ]
    },
    {
     "name": "stderr",
     "output_type": "stream",
     "text": [
      "INFO:fbprophet:Disabling daily seasonality. Run prophet with daily_seasonality=True to override this.\n"
     ]
    },
    {
     "name": "stdout",
     "output_type": "stream",
     "text": [
      "El producto demoró 1.654921293258667 Santiago Sucursal Miraflores\n",
      "tiempo que lleva corriendo 2.6237622102101645 Min\n"
     ]
    },
    {
     "name": "stderr",
     "output_type": "stream",
     "text": [
      "INFO:fbprophet:Disabling daily seasonality. Run prophet with daily_seasonality=True to override this.\n"
     ]
    },
    {
     "name": "stdout",
     "output_type": "stream",
     "text": [
      "El producto demoró 1.557337760925293 Santiago Sucursal Miraflores\n",
      "tiempo que lleva corriendo 2.6497345129648844 Min\n"
     ]
    },
    {
     "name": "stderr",
     "output_type": "stream",
     "text": [
      "INFO:fbprophet:Disabling daily seasonality. Run prophet with daily_seasonality=True to override this.\n"
     ]
    },
    {
     "name": "stdout",
     "output_type": "stream",
     "text": [
      "El producto demoró 1.6739373207092285 Santiago Sucursal Miraflores\n",
      "tiempo que lleva corriendo 2.6776501615842183 Min\n"
     ]
    },
    {
     "name": "stderr",
     "output_type": "stream",
     "text": [
      "INFO:fbprophet:Disabling daily seasonality. Run prophet with daily_seasonality=True to override this.\n"
     ]
    },
    {
     "name": "stdout",
     "output_type": "stream",
     "text": [
      "El producto demoró 1.7755255699157715 Santiago Sucursal Miraflores\n",
      "tiempo que lleva corriendo 2.707275625069936 Min\n"
     ]
    },
    {
     "name": "stderr",
     "output_type": "stream",
     "text": [
      "INFO:fbprophet:Disabling daily seasonality. Run prophet with daily_seasonality=True to override this.\n"
     ]
    },
    {
     "name": "stdout",
     "output_type": "stream",
     "text": [
      "El producto demoró 1.72548246383667 Santiago Sucursal Miraflores\n",
      "tiempo que lleva corriendo 2.7360586722691855 Min\n"
     ]
    },
    {
     "name": "stderr",
     "output_type": "stream",
     "text": [
      "INFO:fbprophet:Disabling daily seasonality. Run prophet with daily_seasonality=True to override this.\n"
     ]
    },
    {
     "name": "stdout",
     "output_type": "stream",
     "text": [
      "El producto demoró 1.6609265804290771 Santiago Sucursal Miraflores\n",
      "tiempo que lleva corriendo 2.7637407819430035 Min\n"
     ]
    },
    {
     "name": "stderr",
     "output_type": "stream",
     "text": [
      "INFO:fbprophet:Disabling daily seasonality. Run prophet with daily_seasonality=True to override this.\n"
     ]
    },
    {
     "name": "stdout",
     "output_type": "stream",
     "text": [
      "El producto demoró 1.594369888305664 Santiago Sucursal Miraflores\n",
      "tiempo que lleva corriendo 2.7903302868207294 Min\n",
      "El producto demoró 0.00450444221496582 Santiago Sucursal Miraflores\n",
      "tiempo que lleva corriendo 2.790422042210897 Min\n",
      "El producto demoró 1.5027916431427002 Santiago Sucursal Miraflores\n",
      "tiempo que lleva corriendo 2.8154768983523053 Min\n",
      "El producto demoró 0.003503561019897461 Santiago Sucursal Miraflores\n",
      "tiempo que lleva corriendo 2.815610345204671 Min\n",
      "El producto demoró 0.0035028457641601562 Santiago Sucursal Miraflores\n",
      "tiempo que lleva corriendo 2.815668725967407 Min\n",
      "Centro Norte\n",
      "Coquimbo\n"
     ]
    },
    {
     "name": "stderr",
     "output_type": "stream",
     "text": [
      "INFO:fbprophet:Disabling daily seasonality. Run prophet with daily_seasonality=True to override this.\n",
      "INFO:fbprophet:Disabling daily seasonality. Run prophet with daily_seasonality=True to override this.\n"
     ]
    },
    {
     "name": "stdout",
     "output_type": "stream",
     "text": [
      "El producto demoró 1.4022042751312256 Centro Norte Coquimbo\n",
      "tiempo que lleva corriendo 2.8419412930806476 Min\n"
     ]
    },
    {
     "name": "stderr",
     "output_type": "stream",
     "text": [
      "INFO:fbprophet:Disabling daily seasonality. Run prophet with daily_seasonality=True to override this.\n"
     ]
    },
    {
     "name": "stdout",
     "output_type": "stream",
     "text": [
      "El producto demoró 1.4497456550598145 Centro Norte Coquimbo\n",
      "tiempo que lleva corriendo 2.866120394070943 Min\n"
     ]
    },
    {
     "name": "stderr",
     "output_type": "stream",
     "text": [
      "INFO:fbprophet:Disabling daily seasonality. Run prophet with daily_seasonality=True to override this.\n"
     ]
    },
    {
     "name": "stdout",
     "output_type": "stream",
     "text": [
      "El producto demoró 1.5648438930511475 Centro Norte Coquimbo\n",
      "tiempo que lleva corriendo 2.8922094742457074 Min\n"
     ]
    },
    {
     "name": "stderr",
     "output_type": "stream",
     "text": [
      "INFO:fbprophet:Disabling daily seasonality. Run prophet with daily_seasonality=True to override this.\n"
     ]
    },
    {
     "name": "stdout",
     "output_type": "stream",
     "text": [
      "El producto demoró 1.6088824272155762 Centro Norte Coquimbo\n",
      "tiempo que lleva corriendo 2.9190325220425923 Min\n"
     ]
    },
    {
     "name": "stderr",
     "output_type": "stream",
     "text": [
      "INFO:fbprophet:Disabling daily seasonality. Run prophet with daily_seasonality=True to override this.\n"
     ]
    },
    {
     "name": "stdout",
     "output_type": "stream",
     "text": [
      "El producto demoró 1.6669330596923828 Centro Norte Coquimbo\n",
      "tiempo que lleva corriendo 2.946839741865794 Min\n"
     ]
    },
    {
     "name": "stderr",
     "output_type": "stream",
     "text": [
      "INFO:fbprophet:Disabling daily seasonality. Run prophet with daily_seasonality=True to override this.\n"
     ]
    },
    {
     "name": "stdout",
     "output_type": "stream",
     "text": [
      "El producto demoró 1.456752061843872 Centro Norte Coquimbo\n",
      "tiempo que lleva corriendo 2.9711356163024902 Min\n"
     ]
    },
    {
     "name": "stderr",
     "output_type": "stream",
     "text": [
      "INFO:fbprophet:Disabling daily seasonality. Run prophet with daily_seasonality=True to override this.\n"
     ]
    },
    {
     "name": "stdout",
     "output_type": "stream",
     "text": [
      "El producto demoró 1.5027916431427002 Centro Norte Coquimbo\n",
      "tiempo que lleva corriendo 2.9962154905001324 Min\n"
     ]
    },
    {
     "name": "stderr",
     "output_type": "stream",
     "text": [
      "INFO:fbprophet:Disabling daily seasonality. Run prophet with daily_seasonality=True to override this.\n"
     ]
    },
    {
     "name": "stdout",
     "output_type": "stream",
     "text": [
      "El producto demoró 1.688951015472412 Centro Norte Coquimbo\n",
      "tiempo que lleva corriendo 3.0243813514709474 Min\n"
     ]
    },
    {
     "name": "stderr",
     "output_type": "stream",
     "text": [
      "INFO:fbprophet:Disabling daily seasonality. Run prophet with daily_seasonality=True to override this.\n"
     ]
    },
    {
     "name": "stdout",
     "output_type": "stream",
     "text": [
      "El producto demoró 1.9126429557800293 Centro Norte Coquimbo\n",
      "tiempo que lleva corriendo 3.056283748149872 Min\n"
     ]
    },
    {
     "name": "stderr",
     "output_type": "stream",
     "text": [
      "INFO:fbprophet:Disabling daily seasonality. Run prophet with daily_seasonality=True to override this.\n"
     ]
    },
    {
     "name": "stdout",
     "output_type": "stream",
     "text": [
      "El producto demoró 1.659925937652588 Centro Norte Coquimbo\n",
      "tiempo que lleva corriendo 3.0839741985003153 Min\n"
     ]
    },
    {
     "name": "stderr",
     "output_type": "stream",
     "text": [
      "INFO:fbprophet:Disabling daily seasonality. Run prophet with daily_seasonality=True to override this.\n"
     ]
    },
    {
     "name": "stdout",
     "output_type": "stream",
     "text": [
      "El producto demoró 1.6233940124511719 Centro Norte Coquimbo\n",
      "tiempo que lleva corriendo 3.1110474626223246 Min\n"
     ]
    },
    {
     "name": "stderr",
     "output_type": "stream",
     "text": [
      "INFO:fbprophet:Disabling daily seasonality. Run prophet with daily_seasonality=True to override this.\n"
     ]
    },
    {
     "name": "stdout",
     "output_type": "stream",
     "text": [
      "El producto demoró 1.5748536586761475 Centro Norte Coquimbo\n",
      "tiempo que lleva corriendo 3.1373116850852965 Min\n"
     ]
    },
    {
     "name": "stderr",
     "output_type": "stream",
     "text": [
      "INFO:fbprophet:Disabling daily seasonality. Run prophet with daily_seasonality=True to override this.\n"
     ]
    },
    {
     "name": "stdout",
     "output_type": "stream",
     "text": [
      "El producto demoró 1.4647586345672607 Centro Norte Coquimbo\n",
      "tiempo que lleva corriendo 3.161741010348002 Min\n"
     ]
    },
    {
     "name": "stderr",
     "output_type": "stream",
     "text": [
      "INFO:fbprophet:Disabling daily seasonality. Run prophet with daily_seasonality=True to override this.\n"
     ]
    },
    {
     "name": "stdout",
     "output_type": "stream",
     "text": [
      "El producto demoró 1.6494169235229492 Centro Norte Coquimbo\n",
      "tiempo que lleva corriendo 3.1893397212028503 Min\n"
     ]
    },
    {
     "name": "stderr",
     "output_type": "stream",
     "text": [
      "INFO:fbprophet:Disabling daily seasonality. Run prophet with daily_seasonality=True to override this.\n"
     ]
    },
    {
     "name": "stdout",
     "output_type": "stream",
     "text": [
      "El producto demoró 1.3196337223052979 Centro Norte Coquimbo\n",
      "tiempo que lleva corriendo 3.2113669713338218 Min\n"
     ]
    },
    {
     "name": "stderr",
     "output_type": "stream",
     "text": [
      "INFO:fbprophet:Disabling daily seasonality. Run prophet with daily_seasonality=True to override this.\n"
     ]
    },
    {
     "name": "stdout",
     "output_type": "stream",
     "text": [
      "El producto demoró 1.742497205734253 Centro Norte Coquimbo\n",
      "tiempo que lleva corriendo 3.240416928132375 Min\n"
     ]
    },
    {
     "name": "stderr",
     "output_type": "stream",
     "text": [
      "INFO:fbprophet:Disabling daily seasonality. Run prophet with daily_seasonality=True to override this.\n"
     ]
    },
    {
     "name": "stdout",
     "output_type": "stream",
     "text": [
      "El producto demoró 1.4982872009277344 Centro Norte Coquimbo\n",
      "tiempo que lleva corriendo 3.265405050913493 Min\n"
     ]
    },
    {
     "name": "stderr",
     "output_type": "stream",
     "text": [
      "INFO:fbprophet:Disabling daily seasonality. Run prophet with daily_seasonality=True to override this.\n"
     ]
    },
    {
     "name": "stdout",
     "output_type": "stream",
     "text": [
      "El producto demoró 1.5923688411712646 Centro Norte Coquimbo\n",
      "tiempo que lleva corriendo 3.2919612089792887 Min\n"
     ]
    },
    {
     "name": "stderr",
     "output_type": "stream",
     "text": [
      "INFO:fbprophet:Disabling daily seasonality. Run prophet with daily_seasonality=True to override this.\n"
     ]
    },
    {
     "name": "stdout",
     "output_type": "stream",
     "text": [
      "El producto demoró 1.8285717964172363 Centro Norte Coquimbo\n",
      "tiempo que lleva corriendo 3.3224623998006186 Min\n"
     ]
    },
    {
     "name": "stderr",
     "output_type": "stream",
     "text": [
      "INFO:fbprophet:Disabling daily seasonality. Run prophet with daily_seasonality=True to override this.\n"
     ]
    },
    {
     "name": "stdout",
     "output_type": "stream",
     "text": [
      "El producto demoró 1.4482450485229492 Centro Norte Coquimbo\n",
      "tiempo que lleva corriendo 3.3466248234113056 Min\n"
     ]
    },
    {
     "name": "stderr",
     "output_type": "stream",
     "text": [
      "INFO:fbprophet:Disabling daily seasonality. Run prophet with daily_seasonality=True to override this.\n"
     ]
    },
    {
     "name": "stdout",
     "output_type": "stream",
     "text": [
      "El producto demoró 1.8385801315307617 Centro Norte Coquimbo\n",
      "tiempo que lleva corriendo 3.3772845029830934 Min\n"
     ]
    },
    {
     "name": "stderr",
     "output_type": "stream",
     "text": [
      "INFO:fbprophet:Disabling daily seasonality. Run prophet with daily_seasonality=True to override this.\n"
     ]
    },
    {
     "name": "stdout",
     "output_type": "stream",
     "text": [
      "El producto demoró 1.477769374847412 Centro Norte Coquimbo\n",
      "tiempo que lleva corriendo 3.401922333240509 Min\n",
      "El producto demoró 0.005004167556762695 Centro Norte Coquimbo\n",
      "tiempo que lleva corriendo 3.402005736033122 Min\n"
     ]
    },
    {
     "name": "stderr",
     "output_type": "stream",
     "text": [
      "INFO:fbprophet:Disabling daily seasonality. Run prophet with daily_seasonality=True to override this.\n"
     ]
    },
    {
     "name": "stdout",
     "output_type": "stream",
     "text": [
      "El producto demoró 1.3276405334472656 Centro Norte Coquimbo\n",
      "tiempo que lleva corriendo 3.4241414149602254 Min\n"
     ]
    },
    {
     "name": "stderr",
     "output_type": "stream",
     "text": [
      "INFO:fbprophet:Disabling daily seasonality. Run prophet with daily_seasonality=True to override this.\n"
     ]
    },
    {
     "name": "stdout",
     "output_type": "stream",
     "text": [
      "El producto demoró 1.5523335933685303 Centro Norte Coquimbo\n",
      "tiempo que lleva corriendo 3.45002197821935 Min\n"
     ]
    },
    {
     "name": "stderr",
     "output_type": "stream",
     "text": [
      "INFO:fbprophet:Disabling daily seasonality. Run prophet with daily_seasonality=True to override this.\n"
     ]
    },
    {
     "name": "stdout",
     "output_type": "stream",
     "text": [
      "El producto demoró 1.2976152896881104 Centro Norte Coquimbo\n",
      "tiempo que lleva corriendo 3.4716822663942972 Min\n"
     ]
    },
    {
     "name": "stderr",
     "output_type": "stream",
     "text": [
      "INFO:fbprophet:Disabling daily seasonality. Run prophet with daily_seasonality=True to override this.\n"
     ]
    },
    {
     "name": "stdout",
     "output_type": "stream",
     "text": [
      "El producto demoró 1.3906950950622559 Centro Norte Coquimbo\n",
      "tiempo que lleva corriendo 3.4949355602264403 Min\n",
      "El producto demoró 0.004003763198852539 Centro Norte Coquimbo\n",
      "tiempo que lleva corriendo 3.4950106263160707 Min\n"
     ]
    },
    {
     "name": "stderr",
     "output_type": "stream",
     "text": [
      "INFO:fbprophet:Disabling daily seasonality. Run prophet with daily_seasonality=True to override this.\n"
     ]
    },
    {
     "name": "stdout",
     "output_type": "stream",
     "text": [
      "El producto demoró 1.3891932964324951 Centro Norte Coquimbo\n",
      "tiempo que lleva corriendo 3.5181888739267984 Min\n"
     ]
    },
    {
     "name": "stderr",
     "output_type": "stream",
     "text": [
      "INFO:fbprophet:Disabling daily seasonality. Run prophet with daily_seasonality=True to override this.\n"
     ]
    },
    {
     "name": "stdout",
     "output_type": "stream",
     "text": [
      "El producto demoró 1.4047062397003174 Centro Norte Coquimbo\n",
      "tiempo que lleva corriendo 3.54162567059199 Min\n"
     ]
    },
    {
     "name": "stderr",
     "output_type": "stream",
     "text": [
      "INFO:fbprophet:Disabling daily seasonality. Run prophet with daily_seasonality=True to override this.\n"
     ]
    },
    {
     "name": "stdout",
     "output_type": "stream",
     "text": [
      "El producto demoró 1.3091256618499756 Centro Norte Coquimbo\n",
      "tiempo que lleva corriendo 3.563461089134216 Min\n"
     ]
    },
    {
     "name": "stderr",
     "output_type": "stream",
     "text": [
      "INFO:fbprophet:Disabling daily seasonality. Run prophet with daily_seasonality=True to override this.\n"
     ]
    },
    {
     "name": "stdout",
     "output_type": "stream",
     "text": [
      "El producto demoró 1.4352335929870605 Centro Norte Coquimbo\n",
      "tiempo que lleva corriendo 3.5873899817466737 Min\n"
     ]
    },
    {
     "name": "stderr",
     "output_type": "stream",
     "text": [
      "INFO:fbprophet:Disabling daily seasonality. Run prophet with daily_seasonality=True to override this.\n"
     ]
    },
    {
     "name": "stdout",
     "output_type": "stream",
     "text": [
      "El producto demoró 1.3571662902832031 Centro Norte Coquimbo\n",
      "tiempo que lleva corriendo 3.6100261012713113 Min\n",
      "Hijuelas\n"
     ]
    },
    {
     "name": "stderr",
     "output_type": "stream",
     "text": [
      "INFO:fbprophet:Disabling daily seasonality. Run prophet with daily_seasonality=True to override this.\n"
     ]
    },
    {
     "name": "stdout",
     "output_type": "stream",
     "text": [
      "El producto demoró 1.75901198387146 Centro Norte Hijuelas\n",
      "tiempo que lleva corriendo 3.639793328444163 Min\n"
     ]
    },
    {
     "name": "stderr",
     "output_type": "stream",
     "text": [
      "INFO:fbprophet:Disabling daily seasonality. Run prophet with daily_seasonality=True to override this.\n"
     ]
    },
    {
     "name": "stdout",
     "output_type": "stream",
     "text": [
      "El producto demoró 1.6138875484466553 Centro Norte Hijuelas\n",
      "tiempo que lleva corriendo 3.6666997909545898 Min\n"
     ]
    },
    {
     "name": "stderr",
     "output_type": "stream",
     "text": [
      "INFO:fbprophet:Disabling daily seasonality. Run prophet with daily_seasonality=True to override this.\n"
     ]
    },
    {
     "name": "stdout",
     "output_type": "stream",
     "text": [
      "El producto demoró 2.9690496921539307 Centro Norte Hijuelas\n",
      "tiempo que lleva corriendo 3.7162006298700967 Min\n"
     ]
    },
    {
     "name": "stderr",
     "output_type": "stream",
     "text": [
      "INFO:fbprophet:Disabling daily seasonality. Run prophet with daily_seasonality=True to override this.\n"
     ]
    },
    {
     "name": "stdout",
     "output_type": "stream",
     "text": [
      "El producto demoró 1.5843610763549805 Centro Norte Hijuelas\n",
      "tiempo que lleva corriendo 3.7426233251889545 Min\n"
     ]
    },
    {
     "name": "stderr",
     "output_type": "stream",
     "text": [
      "INFO:fbprophet:Disabling daily seasonality. Run prophet with daily_seasonality=True to override this.\n"
     ]
    },
    {
     "name": "stdout",
     "output_type": "stream",
     "text": [
      "El producto demoró 1.6414098739624023 Centro Norte Hijuelas\n",
      "tiempo que lleva corriendo 3.76998850107193 Min\n"
     ]
    },
    {
     "name": "stderr",
     "output_type": "stream",
     "text": [
      "INFO:fbprophet:Disabling daily seasonality. Run prophet with daily_seasonality=True to override this.\n"
     ]
    },
    {
     "name": "stdout",
     "output_type": "stream",
     "text": [
      "El producto demoró 1.5973725318908691 Centro Norte Hijuelas\n",
      "tiempo que lleva corriendo 3.796619713306427 Min\n"
     ]
    },
    {
     "name": "stderr",
     "output_type": "stream",
     "text": [
      "INFO:fbprophet:Disabling daily seasonality. Run prophet with daily_seasonality=True to override this.\n"
     ]
    },
    {
     "name": "stdout",
     "output_type": "stream",
     "text": [
      "El producto demoró 1.8676047325134277 Centro Norte Hijuelas\n",
      "tiempo que lleva corriendo 3.8277631322542827 Min\n"
     ]
    },
    {
     "name": "stderr",
     "output_type": "stream",
     "text": [
      "INFO:fbprophet:Disabling daily seasonality. Run prophet with daily_seasonality=True to override this.\n"
     ]
    },
    {
     "name": "stdout",
     "output_type": "stream",
     "text": [
      "El producto demoró 1.617389440536499 Centro Norte Hijuelas\n",
      "tiempo que lleva corriendo 3.8547529776891074 Min\n"
     ]
    },
    {
     "name": "stderr",
     "output_type": "stream",
     "text": [
      "INFO:fbprophet:Disabling daily seasonality. Run prophet with daily_seasonality=True to override this.\n"
     ]
    },
    {
     "name": "stdout",
     "output_type": "stream",
     "text": [
      "El producto demoró 1.746000051498413 Centro Norte Hijuelas\n",
      "tiempo que lleva corriendo 3.8838613271713256 Min\n"
     ]
    },
    {
     "name": "stderr",
     "output_type": "stream",
     "text": [
      "INFO:fbprophet:Disabling daily seasonality. Run prophet with daily_seasonality=True to override this.\n"
     ]
    },
    {
     "name": "stdout",
     "output_type": "stream",
     "text": [
      "El producto demoró 1.7294859886169434 Centro Norte Hijuelas\n",
      "tiempo que lleva corriendo 3.9127111117045086 Min\n"
     ]
    },
    {
     "name": "stderr",
     "output_type": "stream",
     "text": [
      "INFO:fbprophet:Disabling daily seasonality. Run prophet with daily_seasonality=True to override this.\n"
     ]
    },
    {
     "name": "stdout",
     "output_type": "stream",
     "text": [
      "El producto demoró 1.6939561367034912 Centro Norte Hijuelas\n",
      "tiempo que lleva corriendo 3.940960371494293 Min\n"
     ]
    },
    {
     "name": "stderr",
     "output_type": "stream",
     "text": [
      "INFO:fbprophet:Disabling daily seasonality. Run prophet with daily_seasonality=True to override this.\n"
     ]
    },
    {
     "name": "stdout",
     "output_type": "stream",
     "text": [
      "El producto demoró 1.7815310955047607 Centro Norte Hijuelas\n",
      "tiempo que lleva corriendo 3.9706608851750693 Min\n"
     ]
    },
    {
     "name": "stderr",
     "output_type": "stream",
     "text": [
      "INFO:fbprophet:Disabling daily seasonality. Run prophet with daily_seasonality=True to override this.\n"
     ]
    },
    {
     "name": "stdout",
     "output_type": "stream",
     "text": [
      "El producto demoró 2.0147314071655273 Centro Norte Hijuelas\n",
      "tiempo que lleva corriendo 4.004248078664144 Min\n"
     ]
    },
    {
     "name": "stderr",
     "output_type": "stream",
     "text": [
      "INFO:fbprophet:Disabling daily seasonality. Run prophet with daily_seasonality=True to override this.\n"
     ]
    },
    {
     "name": "stdout",
     "output_type": "stream",
     "text": [
      "El producto demoró 1.3806865215301514 Centro Norte Hijuelas\n",
      "tiempo que lleva corriendo 4.027376270294189 Min\n"
     ]
    },
    {
     "name": "stderr",
     "output_type": "stream",
     "text": [
      "INFO:fbprophet:Disabling daily seasonality. Run prophet with daily_seasonality=True to override this.\n"
     ]
    },
    {
     "name": "stdout",
     "output_type": "stream",
     "text": [
      "El producto demoró 1.5158023834228516 Centro Norte Hijuelas\n",
      "tiempo que lleva corriendo 4.052664661407471 Min\n"
     ]
    },
    {
     "name": "stderr",
     "output_type": "stream",
     "text": [
      "INFO:fbprophet:Disabling daily seasonality. Run prophet with daily_seasonality=True to override this.\n"
     ]
    },
    {
     "name": "stdout",
     "output_type": "stream",
     "text": [
      "El producto demoró 1.5498318672180176 Centro Norte Hijuelas\n",
      "tiempo que lleva corriendo 4.078520210584005 Min\n"
     ]
    },
    {
     "name": "stderr",
     "output_type": "stream",
     "text": [
      "INFO:fbprophet:Disabling daily seasonality. Run prophet with daily_seasonality=True to override this.\n"
     ]
    },
    {
     "name": "stdout",
     "output_type": "stream",
     "text": [
      "El producto demoró 1.657923936843872 Centro Norte Hijuelas\n",
      "tiempo que lleva corriendo 4.106177298227946 Min\n"
     ]
    },
    {
     "name": "stderr",
     "output_type": "stream",
     "text": [
      "INFO:fbprophet:Disabling daily seasonality. Run prophet with daily_seasonality=True to override this.\n"
     ]
    },
    {
     "name": "stdout",
     "output_type": "stream",
     "text": [
      "El producto demoró 1.4817731380462646 Centro Norte Hijuelas\n",
      "tiempo que lleva corriendo 4.130881861845652 Min\n"
     ]
    },
    {
     "name": "stderr",
     "output_type": "stream",
     "text": [
      "INFO:fbprophet:Disabling daily seasonality. Run prophet with daily_seasonality=True to override this.\n"
     ]
    },
    {
     "name": "stdout",
     "output_type": "stream",
     "text": [
      "El producto demoró 1.5052928924560547 Centro Norte Hijuelas\n",
      "tiempo que lleva corriendo 4.155995098749797 Min\n"
     ]
    },
    {
     "name": "stderr",
     "output_type": "stream",
     "text": [
      "INFO:fbprophet:Disabling daily seasonality. Run prophet with daily_seasonality=True to override this.\n"
     ]
    },
    {
     "name": "stdout",
     "output_type": "stream",
     "text": [
      "El producto demoró 1.355163812637329 Centro Norte Hijuelas\n",
      "tiempo que lleva corriendo 4.178589498996734 Min\n"
     ]
    },
    {
     "name": "stderr",
     "output_type": "stream",
     "text": [
      "INFO:fbprophet:Disabling daily seasonality. Run prophet with daily_seasonality=True to override this.\n"
     ]
    },
    {
     "name": "stdout",
     "output_type": "stream",
     "text": [
      "El producto demoró 1.4862775802612305 Centro Norte Hijuelas\n",
      "tiempo que lleva corriendo 4.203369112809499 Min\n"
     ]
    },
    {
     "name": "stderr",
     "output_type": "stream",
     "text": [
      "INFO:fbprophet:Disabling daily seasonality. Run prophet with daily_seasonality=True to override this.\n"
     ]
    },
    {
     "name": "stdout",
     "output_type": "stream",
     "text": [
      "El producto demoró 1.5748536586761475 Centro Norte Hijuelas\n",
      "tiempo que lleva corriendo 4.229633343219757 Min\n"
     ]
    },
    {
     "name": "stderr",
     "output_type": "stream",
     "text": [
      "INFO:fbprophet:Disabling daily seasonality. Run prophet with daily_seasonality=True to override this.\n"
     ]
    },
    {
     "name": "stdout",
     "output_type": "stream",
     "text": [
      "El producto demoró 1.6138863563537598 Centro Norte Hijuelas\n",
      "tiempo que lleva corriendo 4.256548134485881 Min\n"
     ]
    },
    {
     "name": "stderr",
     "output_type": "stream",
     "text": [
      "INFO:fbprophet:Disabling daily seasonality. Run prophet with daily_seasonality=True to override this.\n"
     ]
    },
    {
     "name": "stdout",
     "output_type": "stream",
     "text": [
      "El producto demoró 1.5718505382537842 Centro Norte Hijuelas\n",
      "tiempo que lleva corriendo 4.282762320836385 Min\n"
     ]
    },
    {
     "name": "stderr",
     "output_type": "stream",
     "text": [
      "INFO:fbprophet:Disabling daily seasonality. Run prophet with daily_seasonality=True to override this.\n"
     ]
    },
    {
     "name": "stdout",
     "output_type": "stream",
     "text": [
      "El producto demoró 1.3151299953460693 Centro Norte Hijuelas\n",
      "tiempo que lleva corriendo 4.304697831471761 Min\n"
     ]
    },
    {
     "name": "stderr",
     "output_type": "stream",
     "text": [
      "INFO:fbprophet:Disabling daily seasonality. Run prophet with daily_seasonality=True to override this.\n"
     ]
    },
    {
     "name": "stdout",
     "output_type": "stream",
     "text": [
      "El producto demoró 1.5683479309082031 Centro Norte Hijuelas\n",
      "tiempo que lleva corriendo 4.330928695201874 Min\n"
     ]
    },
    {
     "name": "stderr",
     "output_type": "stream",
     "text": [
      "INFO:fbprophet:Disabling daily seasonality. Run prophet with daily_seasonality=True to override this.\n"
     ]
    },
    {
     "name": "stdout",
     "output_type": "stream",
     "text": [
      "El producto demoró 1.5603411197662354 Centro Norte Hijuelas\n",
      "tiempo que lleva corriendo 4.35695104598999 Min\n"
     ]
    },
    {
     "name": "stderr",
     "output_type": "stream",
     "text": [
      "INFO:fbprophet:Disabling daily seasonality. Run prophet with daily_seasonality=True to override this.\n"
     ]
    },
    {
     "name": "stdout",
     "output_type": "stream",
     "text": [
      "El producto demoró 1.4132139682769775 Centro Norte Hijuelas\n",
      "tiempo que lleva corriendo 4.380521297454834 Min\n"
     ]
    },
    {
     "name": "stderr",
     "output_type": "stream",
     "text": [
      "INFO:fbprophet:Disabling daily seasonality. Run prophet with daily_seasonality=True to override this.\n"
     ]
    },
    {
     "name": "stdout",
     "output_type": "stream",
     "text": [
      "El producto demoró 1.688450574874878 Centro Norte Hijuelas\n",
      "tiempo que lleva corriendo 4.408687170346578 Min\n"
     ]
    },
    {
     "name": "stderr",
     "output_type": "stream",
     "text": [
      "INFO:fbprophet:Disabling daily seasonality. Run prophet with daily_seasonality=True to override this.\n"
     ]
    },
    {
     "name": "stdout",
     "output_type": "stream",
     "text": [
      "El producto demoró 1.6474151611328125 Centro Norte Hijuelas\n",
      "tiempo que lleva corriendo 4.436160755157471 Min\n"
     ]
    },
    {
     "name": "stderr",
     "output_type": "stream",
     "text": [
      "INFO:fbprophet:Disabling daily seasonality. Run prophet with daily_seasonality=True to override this.\n"
     ]
    },
    {
     "name": "stdout",
     "output_type": "stream",
     "text": [
      "El producto demoró 1.5948703289031982 Centro Norte Hijuelas\n",
      "tiempo que lleva corriendo 4.46275026400884 Min\n"
     ]
    },
    {
     "name": "stderr",
     "output_type": "stream",
     "text": [
      "INFO:fbprophet:Disabling daily seasonality. Run prophet with daily_seasonality=True to override this.\n"
     ]
    },
    {
     "name": "stdout",
     "output_type": "stream",
     "text": [
      "El producto demoró 1.4757683277130127 Centro Norte Hijuelas\n",
      "tiempo que lleva corriendo 4.487371416886647 Min\n"
     ]
    },
    {
     "name": "stderr",
     "output_type": "stream",
     "text": [
      "INFO:fbprophet:Disabling daily seasonality. Run prophet with daily_seasonality=True to override this.\n"
     ]
    },
    {
     "name": "stdout",
     "output_type": "stream",
     "text": [
      "El producto demoró 4.193602561950684 Centro Norte Hijuelas\n",
      "tiempo que lleva corriendo 4.55728147427241 Min\n"
     ]
    },
    {
     "name": "stderr",
     "output_type": "stream",
     "text": [
      "INFO:fbprophet:Disabling daily seasonality. Run prophet with daily_seasonality=True to override this.\n"
     ]
    },
    {
     "name": "stdout",
     "output_type": "stream",
     "text": [
      "El producto demoró 1.9061377048492432 Centro Norte Hijuelas\n",
      "tiempo que lleva corriendo 4.589075454076132 Min\n"
     ]
    },
    {
     "name": "stderr",
     "output_type": "stream",
     "text": [
      "INFO:fbprophet:Disabling daily seasonality. Run prophet with daily_seasonality=True to override this.\n"
     ]
    },
    {
     "name": "stdout",
     "output_type": "stream",
     "text": [
      "El producto demoró 1.762514352798462 Centro Norte Hijuelas\n",
      "tiempo que lleva corriendo 4.618475703398387 Min\n"
     ]
    },
    {
     "name": "stderr",
     "output_type": "stream",
     "text": [
      "INFO:fbprophet:Disabling daily seasonality. Run prophet with daily_seasonality=True to override this.\n"
     ]
    },
    {
     "name": "stdout",
     "output_type": "stream",
     "text": [
      "El producto demoró 1.5988743305206299 Centro Norte Hijuelas\n",
      "tiempo que lleva corriendo 4.645148619016012 Min\n",
      "El producto demoró 0.004504203796386719 Centro Norte Hijuelas\n",
      "tiempo que lleva corriendo 4.64524036248525 Min\n",
      "El producto demoró 0.004003047943115234 Centro Norte Hijuelas\n",
      "tiempo que lleva corriendo 4.6453321059544885 Min\n",
      "El producto demoró 0.0035037994384765625 Centro Norte Hijuelas\n",
      "tiempo que lleva corriendo 4.645465556780497 Min\n",
      "El producto demoró 0.0035026073455810547 Centro Norte Hijuelas\n",
      "tiempo que lleva corriendo 4.645548963546753 Min\n",
      "San Antonio\n"
     ]
    },
    {
     "name": "stderr",
     "output_type": "stream",
     "text": [
      "INFO:fbprophet:Disabling daily seasonality. Run prophet with daily_seasonality=True to override this.\n"
     ]
    },
    {
     "name": "stdout",
     "output_type": "stream",
     "text": [
      "El producto demoró 1.523808240890503 Centro Norte San Antonio\n",
      "tiempo que lleva corriendo 4.671354456742605 Min\n"
     ]
    },
    {
     "name": "stderr",
     "output_type": "stream",
     "text": [
      "INFO:fbprophet:Disabling daily seasonality. Run prophet with daily_seasonality=True to override this.\n"
     ]
    },
    {
     "name": "stdout",
     "output_type": "stream",
     "text": [
      "El producto demoró 1.4817736148834229 Centro Norte San Antonio\n",
      "tiempo que lleva corriendo 4.69606735308965 Min\n"
     ]
    },
    {
     "name": "stderr",
     "output_type": "stream",
     "text": [
      "INFO:fbprophet:Disabling daily seasonality. Run prophet with daily_seasonality=True to override this.\n"
     ]
    },
    {
     "name": "stdout",
     "output_type": "stream",
     "text": [
      "El producto demoró 1.641911506652832 Centro Norte San Antonio\n",
      "tiempo que lleva corriendo 4.723457566897074 Min\n"
     ]
    },
    {
     "name": "stderr",
     "output_type": "stream",
     "text": [
      "INFO:fbprophet:Disabling daily seasonality. Run prophet with daily_seasonality=True to override this.\n"
     ]
    },
    {
     "name": "stdout",
     "output_type": "stream",
     "text": [
      "El producto demoró 1.5253105163574219 Centro Norte San Antonio\n",
      "tiempo que lleva corriendo 4.748904418945313 Min\n"
     ]
    },
    {
     "name": "stderr",
     "output_type": "stream",
     "text": [
      "INFO:fbprophet:Disabling daily seasonality. Run prophet with daily_seasonality=True to override this.\n"
     ]
    },
    {
     "name": "stdout",
     "output_type": "stream",
     "text": [
      "El producto demoró 1.9116425514221191 Centro Norte San Antonio\n",
      "tiempo que lleva corriendo 4.780781809488932 Min\n"
     ]
    },
    {
     "name": "stderr",
     "output_type": "stream",
     "text": [
      "INFO:fbprophet:Disabling daily seasonality. Run prophet with daily_seasonality=True to override this.\n"
     ]
    },
    {
     "name": "stdout",
     "output_type": "stream",
     "text": [
      "El producto demoró 1.6659305095672607 Centro Norte San Antonio\n",
      "tiempo que lleva corriendo 4.808563995361328 Min\n"
     ]
    },
    {
     "name": "stderr",
     "output_type": "stream",
     "text": [
      "INFO:fbprophet:Disabling daily seasonality. Run prophet with daily_seasonality=True to override this.\n"
     ]
    },
    {
     "name": "stdout",
     "output_type": "stream",
     "text": [
      "El producto demoró 1.7449989318847656 Centro Norte San Antonio\n",
      "tiempo que lleva corriendo 4.837663996219635 Min\n"
     ]
    },
    {
     "name": "stderr",
     "output_type": "stream",
     "text": [
      "INFO:fbprophet:Disabling daily seasonality. Run prophet with daily_seasonality=True to override this.\n"
     ]
    },
    {
     "name": "stdout",
     "output_type": "stream",
     "text": [
      "El producto demoró 1.605379343032837 Centro Norte San Antonio\n",
      "tiempo que lleva corriendo 4.864436995983124 Min\n"
     ]
    },
    {
     "name": "stderr",
     "output_type": "stream",
     "text": [
      "INFO:fbprophet:Disabling daily seasonality. Run prophet with daily_seasonality=True to override this.\n"
     ]
    },
    {
     "name": "stdout",
     "output_type": "stream",
     "text": [
      "El producto demoró 1.7565093040466309 Centro Norte San Antonio\n",
      "tiempo que lleva corriendo 4.893737169106801 Min\n"
     ]
    },
    {
     "name": "stderr",
     "output_type": "stream",
     "text": [
      "INFO:fbprophet:Disabling daily seasonality. Run prophet with daily_seasonality=True to override this.\n"
     ]
    },
    {
     "name": "stdout",
     "output_type": "stream",
     "text": [
      "El producto demoró 1.748002529144287 Centro Norte San Antonio\n",
      "tiempo que lleva corriendo 4.922895542780558 Min\n"
     ]
    },
    {
     "name": "stderr",
     "output_type": "stream",
     "text": [
      "INFO:fbprophet:Disabling daily seasonality. Run prophet with daily_seasonality=True to override this.\n"
     ]
    },
    {
     "name": "stdout",
     "output_type": "stream",
     "text": [
      "El producto demoró 1.5523335933685303 Centro Norte San Antonio\n",
      "tiempo que lleva corriendo 4.948784454663595 Min\n"
     ]
    },
    {
     "name": "stderr",
     "output_type": "stream",
     "text": [
      "INFO:fbprophet:Disabling daily seasonality. Run prophet with daily_seasonality=True to override this.\n"
     ]
    },
    {
     "name": "stdout",
     "output_type": "stream",
     "text": [
      "El producto demoró 2.6387670040130615 Centro Norte San Antonio\n",
      "tiempo que lleva corriendo 4.992780570189158 Min\n"
     ]
    },
    {
     "name": "stderr",
     "output_type": "stream",
     "text": [
      "INFO:fbprophet:Disabling daily seasonality. Run prophet with daily_seasonality=True to override this.\n"
     ]
    },
    {
     "name": "stdout",
     "output_type": "stream",
     "text": [
      "El producto demoró 1.7530066967010498 Centro Norte San Antonio\n",
      "tiempo que lleva corriendo 5.022022358576456 Min\n",
      "El producto demoró 0.004003763198852539 Centro Norte San Antonio\n",
      "tiempo que lleva corriendo 5.022189168135325 Min\n"
     ]
    },
    {
     "name": "stderr",
     "output_type": "stream",
     "text": [
      "INFO:fbprophet:Disabling daily seasonality. Run prophet with daily_seasonality=True to override this.\n"
     ]
    },
    {
     "name": "stdout",
     "output_type": "stream",
     "text": [
      "El producto demoró 1.7615132331848145 Centro Norte San Antonio\n",
      "tiempo que lleva corriendo 5.051572740077972 Min\n",
      "El producto demoró 0.004004001617431641 Centro Norte San Antonio\n",
      "tiempo que lleva corriendo 5.0516561508178714 Min\n"
     ]
    },
    {
     "name": "stderr",
     "output_type": "stream",
     "text": [
      "INFO:fbprophet:Disabling daily seasonality. Run prophet with daily_seasonality=True to override this.\n"
     ]
    },
    {
     "name": "stdout",
     "output_type": "stream",
     "text": [
      "El producto demoró 1.4717645645141602 Centro Norte San Antonio\n",
      "tiempo que lleva corriendo 5.076210574309031 Min\n"
     ]
    },
    {
     "name": "stderr",
     "output_type": "stream",
     "text": [
      "INFO:fbprophet:Disabling daily seasonality. Run prophet with daily_seasonality=True to override this.\n"
     ]
    },
    {
     "name": "stdout",
     "output_type": "stream",
     "text": [
      "El producto demoró 1.6078822612762451 Centro Norte San Antonio\n",
      "tiempo que lleva corriendo 5.103016940752665 Min\n"
     ]
    },
    {
     "name": "stderr",
     "output_type": "stream",
     "text": [
      "INFO:fbprophet:Disabling daily seasonality. Run prophet with daily_seasonality=True to override this.\n"
     ]
    },
    {
     "name": "stdout",
     "output_type": "stream",
     "text": [
      "El producto demoró 1.591867446899414 Centro Norte San Antonio\n",
      "tiempo que lleva corriendo 5.129573082923889 Min\n"
     ]
    },
    {
     "name": "stderr",
     "output_type": "stream",
     "text": [
      "INFO:fbprophet:Disabling daily seasonality. Run prophet with daily_seasonality=True to override this.\n"
     ]
    },
    {
     "name": "stdout",
     "output_type": "stream",
     "text": [
      "El producto demoró 1.528813362121582 Centro Norte San Antonio\n",
      "tiempo que lleva corriendo 5.155069983005523 Min\n"
     ]
    },
    {
     "name": "stderr",
     "output_type": "stream",
     "text": [
      "INFO:fbprophet:Disabling daily seasonality. Run prophet with daily_seasonality=True to override this.\n"
     ]
    },
    {
     "name": "stdout",
     "output_type": "stream",
     "text": [
      "El producto demoró 1.3486590385437012 Centro Norte San Antonio\n",
      "tiempo que lleva corriendo 5.17757264773051 Min\n"
     ]
    },
    {
     "name": "stderr",
     "output_type": "stream",
     "text": [
      "INFO:fbprophet:Disabling daily seasonality. Run prophet with daily_seasonality=True to override this.\n"
     ]
    },
    {
     "name": "stdout",
     "output_type": "stream",
     "text": [
      "El producto demoró 1.3491592407226562 Centro Norte San Antonio\n",
      "tiempo que lleva corriendo 5.200142033894857 Min\n"
     ]
    },
    {
     "name": "stderr",
     "output_type": "stream",
     "text": [
      "INFO:fbprophet:Disabling daily seasonality. Run prophet with daily_seasonality=True to override this.\n"
     ]
    },
    {
     "name": "stdout",
     "output_type": "stream",
     "text": [
      "El producto demoró 1.60487961769104 Centro Norte San Antonio\n",
      "tiempo que lleva corriendo 5.22690669298172 Min\n"
     ]
    },
    {
     "name": "stderr",
     "output_type": "stream",
     "text": [
      "INFO:fbprophet:Disabling daily seasonality. Run prophet with daily_seasonality=True to override this.\n"
     ]
    },
    {
     "name": "stdout",
     "output_type": "stream",
     "text": [
      "El producto demoró 1.5308153629302979 Centro Norte San Antonio\n",
      "tiempo que lleva corriendo 5.252436971664428 Min\n"
     ]
    },
    {
     "name": "stderr",
     "output_type": "stream",
     "text": [
      "INFO:fbprophet:Disabling daily seasonality. Run prophet with daily_seasonality=True to override this.\n"
     ]
    },
    {
     "name": "stdout",
     "output_type": "stream",
     "text": [
      "El producto demoró 1.5453274250030518 Centro Norte San Antonio\n",
      "tiempo que lleva corriendo 5.27820075750351 Min\n"
     ]
    },
    {
     "name": "stderr",
     "output_type": "stream",
     "text": [
      "INFO:fbprophet:Disabling daily seasonality. Run prophet with daily_seasonality=True to override this.\n"
     ]
    },
    {
     "name": "stdout",
     "output_type": "stream",
     "text": [
      "El producto demoró 1.706465721130371 Centro Norte San Antonio\n",
      "tiempo que lleva corriendo 5.306658534208934 Min\n"
     ]
    },
    {
     "name": "stderr",
     "output_type": "stream",
     "text": [
      "INFO:fbprophet:Disabling daily seasonality. Run prophet with daily_seasonality=True to override this.\n"
     ]
    },
    {
     "name": "stdout",
     "output_type": "stream",
     "text": [
      "El producto demoró 1.8090541362762451 Centro Norte San Antonio\n",
      "tiempo que lleva corriendo 5.336809436480205 Min\n"
     ]
    },
    {
     "name": "stderr",
     "output_type": "stream",
     "text": [
      "INFO:fbprophet:Disabling daily seasonality. Run prophet with daily_seasonality=True to override this.\n"
     ]
    },
    {
     "name": "stdout",
     "output_type": "stream",
     "text": [
      "El producto demoró 1.823065996170044 Centro Norte San Antonio\n",
      "tiempo que lleva corriendo 5.367210555076599 Min\n",
      "El producto demoró 0.004003047943115234 Centro Norte San Antonio\n",
      "tiempo que lleva corriendo 5.367293953895569 Min\n"
     ]
    },
    {
     "name": "stderr",
     "output_type": "stream",
     "text": [
      "INFO:fbprophet:Disabling daily seasonality. Run prophet with daily_seasonality=True to override this.\n"
     ]
    },
    {
     "name": "stdout",
     "output_type": "stream",
     "text": [
      "El producto demoró 1.5693485736846924 Centro Norte San Antonio\n",
      "tiempo que lleva corriendo 5.393466444810231 Min\n"
     ]
    },
    {
     "name": "stderr",
     "output_type": "stream",
     "text": [
      "INFO:fbprophet:Disabling daily seasonality. Run prophet with daily_seasonality=True to override this.\n"
     ]
    },
    {
     "name": "stdout",
     "output_type": "stream",
     "text": [
      "El producto demoró 1.52531099319458 Centro Norte San Antonio\n",
      "tiempo que lleva corriendo 5.418904956181844 Min\n"
     ]
    },
    {
     "name": "stderr",
     "output_type": "stream",
     "text": [
      "INFO:fbprophet:Disabling daily seasonality. Run prophet with daily_seasonality=True to override this.\n"
     ]
    },
    {
     "name": "stdout",
     "output_type": "stream",
     "text": [
      "El producto demoró 1.5738530158996582 Centro Norte San Antonio\n",
      "tiempo que lleva corriendo 5.445160841941833 Min\n",
      "El producto demoró 0.004503726959228516 Centro Norte San Antonio\n",
      "tiempo que lleva corriendo 5.445319310824076 Min\n",
      "San Felipe\n"
     ]
    },
    {
     "name": "stderr",
     "output_type": "stream",
     "text": [
      "INFO:fbprophet:Disabling daily seasonality. Run prophet with daily_seasonality=True to override this.\n"
     ]
    },
    {
     "name": "stdout",
     "output_type": "stream",
     "text": [
      "El producto demoró 1.9336614608764648 Centro Norte San Felipe\n",
      "tiempo que lleva corriendo 5.477980701128642 Min\n"
     ]
    },
    {
     "name": "stderr",
     "output_type": "stream",
     "text": [
      "INFO:fbprophet:Disabling daily seasonality. Run prophet with daily_seasonality=True to override this.\n"
     ]
    },
    {
     "name": "stdout",
     "output_type": "stream",
     "text": [
      "El producto demoró 1.6068806648254395 Centro Norte San Felipe\n",
      "tiempo que lleva corriendo 5.504770398139954 Min\n"
     ]
    },
    {
     "name": "stderr",
     "output_type": "stream",
     "text": [
      "INFO:fbprophet:Disabling daily seasonality. Run prophet with daily_seasonality=True to override this.\n"
     ]
    },
    {
     "name": "stdout",
     "output_type": "stream",
     "text": [
      "El producto demoró 1.5488297939300537 Centro Norte San Felipe\n",
      "tiempo que lleva corriendo 5.530600909392039 Min\n"
     ]
    },
    {
     "name": "stderr",
     "output_type": "stream",
     "text": [
      "INFO:fbprophet:Disabling daily seasonality. Run prophet with daily_seasonality=True to override this.\n"
     ]
    },
    {
     "name": "stdout",
     "output_type": "stream",
     "text": [
      "El producto demoró 1.6243953704833984 Centro Norte San Felipe\n",
      "tiempo que lleva corriendo 5.557699179649353 Min\n"
     ]
    },
    {
     "name": "stderr",
     "output_type": "stream",
     "text": [
      "INFO:fbprophet:Disabling daily seasonality. Run prophet with daily_seasonality=True to override this.\n"
     ]
    },
    {
     "name": "stdout",
     "output_type": "stream",
     "text": [
      "El producto demoró 1.394197702407837 Centro Norte San Felipe\n",
      "tiempo que lleva corriendo 5.580952493349711 Min\n"
     ]
    },
    {
     "name": "stderr",
     "output_type": "stream",
     "text": [
      "INFO:fbprophet:Disabling daily seasonality. Run prophet with daily_seasonality=True to override this.\n"
     ]
    },
    {
     "name": "stdout",
     "output_type": "stream",
     "text": [
      "El producto demoró 1.5443267822265625 Centro Norte San Felipe\n",
      "tiempo que lleva corriendo 5.606699613730113 Min\n"
     ]
    },
    {
     "name": "stderr",
     "output_type": "stream",
     "text": [
      "INFO:fbprophet:Disabling daily seasonality. Run prophet with daily_seasonality=True to override this.\n"
     ]
    },
    {
     "name": "stdout",
     "output_type": "stream",
     "text": [
      "El producto demoró 1.482774019241333 Centro Norte San Felipe\n",
      "tiempo que lleva corriendo 5.631412514050802 Min\n"
     ]
    },
    {
     "name": "stderr",
     "output_type": "stream",
     "text": [
      "INFO:fbprophet:Disabling daily seasonality. Run prophet with daily_seasonality=True to override this.\n"
     ]
    },
    {
     "name": "stdout",
     "output_type": "stream",
     "text": [
      "El producto demoró 1.5583388805389404 Centro Norte San Felipe\n",
      "tiempo que lleva corriendo 5.6574015061060585 Min\n"
     ]
    },
    {
     "name": "stderr",
     "output_type": "stream",
     "text": [
      "INFO:fbprophet:Disabling daily seasonality. Run prophet with daily_seasonality=True to override this.\n"
     ]
    },
    {
     "name": "stdout",
     "output_type": "stream",
     "text": [
      "El producto demoró 1.7224791049957275 Centro Norte San Felipe\n",
      "tiempo que lleva corriendo 5.686134513219198 Min\n"
     ]
    },
    {
     "name": "stderr",
     "output_type": "stream",
     "text": [
      "INFO:fbprophet:Disabling daily seasonality. Run prophet with daily_seasonality=True to override this.\n"
     ]
    },
    {
     "name": "stdout",
     "output_type": "stream",
     "text": [
      "El producto demoró 1.5633432865142822 Centro Norte San Felipe\n",
      "tiempo que lleva corriendo 5.712206912040711 Min\n"
     ]
    },
    {
     "name": "stderr",
     "output_type": "stream",
     "text": [
      "INFO:fbprophet:Disabling daily seasonality. Run prophet with daily_seasonality=True to override this.\n"
     ]
    },
    {
     "name": "stdout",
     "output_type": "stream",
     "text": [
      "El producto demoró 1.6899516582489014 Centro Norte San Felipe\n",
      "tiempo que lleva corriendo 5.7403977910677595 Min\n"
     ]
    },
    {
     "name": "stderr",
     "output_type": "stream",
     "text": [
      "INFO:fbprophet:Disabling daily seasonality. Run prophet with daily_seasonality=True to override this.\n"
     ]
    },
    {
     "name": "stdout",
     "output_type": "stream",
     "text": [
      "El producto demoró 1.8450846672058105 Centro Norte San Felipe\n",
      "tiempo que lleva corriendo 5.77115755478541 Min\n"
     ]
    },
    {
     "name": "stderr",
     "output_type": "stream",
     "text": [
      "INFO:fbprophet:Disabling daily seasonality. Run prophet with daily_seasonality=True to override this.\n"
     ]
    },
    {
     "name": "stdout",
     "output_type": "stream",
     "text": [
      "El producto demoró 1.46075439453125 Centro Norte San Felipe\n",
      "tiempo que lleva corriendo 5.7955118179321286 Min\n"
     ]
    },
    {
     "name": "stderr",
     "output_type": "stream",
     "text": [
      "INFO:fbprophet:Disabling daily seasonality. Run prophet with daily_seasonality=True to override this.\n"
     ]
    },
    {
     "name": "stdout",
     "output_type": "stream",
     "text": [
      "El producto demoró 1.4637577533721924 Centro Norte San Felipe\n",
      "tiempo que lleva corriendo 5.819999504089355 Min\n"
     ]
    },
    {
     "name": "stderr",
     "output_type": "stream",
     "text": [
      "INFO:fbprophet:Disabling daily seasonality. Run prophet with daily_seasonality=True to override this.\n"
     ]
    },
    {
     "name": "stdout",
     "output_type": "stream",
     "text": [
      "El producto demoró 1.6534209251403809 Centro Norte San Felipe\n",
      "tiempo que lleva corriendo 5.847556519508362 Min\n"
     ]
    },
    {
     "name": "stderr",
     "output_type": "stream",
     "text": [
      "INFO:fbprophet:Disabling daily seasonality. Run prophet with daily_seasonality=True to override this.\n"
     ]
    },
    {
     "name": "stdout",
     "output_type": "stream",
     "text": [
      "El producto demoró 2.1728663444519043 Centro Norte San Felipe\n",
      "tiempo que lleva corriendo 5.8837876439094545 Min\n"
     ]
    },
    {
     "name": "stderr",
     "output_type": "stream",
     "text": [
      "INFO:fbprophet:Disabling daily seasonality. Run prophet with daily_seasonality=True to override this.\n"
     ]
    },
    {
     "name": "stdout",
     "output_type": "stream",
     "text": [
      "El producto demoró 1.3901939392089844 Centro Norte San Felipe\n",
      "tiempo que lleva corriendo 5.906965875625611 Min\n"
     ]
    },
    {
     "name": "stderr",
     "output_type": "stream",
     "text": [
      "INFO:fbprophet:Disabling daily seasonality. Run prophet with daily_seasonality=True to override this.\n"
     ]
    },
    {
     "name": "stdout",
     "output_type": "stream",
     "text": [
      "El producto demoró 1.7690200805664062 Centro Norte San Felipe\n",
      "tiempo que lleva corriendo 5.936466221014658 Min\n"
     ]
    },
    {
     "name": "stderr",
     "output_type": "stream",
     "text": [
      "INFO:fbprophet:Disabling daily seasonality. Run prophet with daily_seasonality=True to override this.\n"
     ]
    },
    {
     "name": "stdout",
     "output_type": "stream",
     "text": [
      "El producto demoró 1.6884503364562988 Centro Norte San Felipe\n",
      "tiempo que lleva corriendo 5.964623741308848 Min\n"
     ]
    },
    {
     "name": "stderr",
     "output_type": "stream",
     "text": [
      "INFO:fbprophet:Disabling daily seasonality. Run prophet with daily_seasonality=True to override this.\n"
     ]
    },
    {
     "name": "stdout",
     "output_type": "stream",
     "text": [
      "El producto demoró 3.802767276763916 Centro Norte San Felipe\n",
      "tiempo que lleva corriendo 6.02800319592158 Min\n"
     ]
    },
    {
     "name": "stderr",
     "output_type": "stream",
     "text": [
      "INFO:fbprophet:Disabling daily seasonality. Run prophet with daily_seasonality=True to override this.\n"
     ]
    },
    {
     "name": "stdout",
     "output_type": "stream",
     "text": [
      "El producto demoró 1.3251383304595947 Centro Norte San Felipe\n",
      "tiempo que lleva corriendo 6.050113852818807 Min\n",
      "El producto demoró 0.004503488540649414 Centro Norte San Felipe\n",
      "tiempo que lleva corriendo 6.050197251637777 Min\n",
      "El producto demoró 0.004503965377807617 Centro Norte San Felipe\n",
      "tiempo que lleva corriendo 6.050288999080658 Min\n",
      "El producto demoró 0.004003286361694336 Centro Norte San Felipe\n",
      "tiempo que lleva corriendo 6.050364065170288 Min\n"
     ]
    },
    {
     "name": "stderr",
     "output_type": "stream",
     "text": [
      "INFO:fbprophet:Disabling daily seasonality. Run prophet with daily_seasonality=True to override this.\n"
     ]
    },
    {
     "name": "stdout",
     "output_type": "stream",
     "text": [
      "El producto demoró 1.3831889629364014 Centro Norte San Felipe\n",
      "tiempo que lleva corriendo 6.073442220687866 Min\n"
     ]
    },
    {
     "name": "stderr",
     "output_type": "stream",
     "text": [
      "INFO:fbprophet:Disabling daily seasonality. Run prophet with daily_seasonality=True to override this.\n"
     ]
    },
    {
     "name": "stdout",
     "output_type": "stream",
     "text": [
      "El producto demoró 1.4867773056030273 Centro Norte San Felipe\n",
      "tiempo que lleva corriendo 6.098321934541066 Min\n"
     ]
    },
    {
     "name": "stderr",
     "output_type": "stream",
     "text": [
      "INFO:fbprophet:Disabling daily seasonality. Run prophet with daily_seasonality=True to override this.\n"
     ]
    },
    {
     "name": "stdout",
     "output_type": "stream",
     "text": [
      "El producto demoró 1.7419965267181396 Centro Norte San Felipe\n",
      "tiempo que lleva corriendo 6.127363542715709 Min\n"
     ]
    },
    {
     "name": "stderr",
     "output_type": "stream",
     "text": [
      "INFO:fbprophet:Disabling daily seasonality. Run prophet with daily_seasonality=True to override this.\n"
     ]
    },
    {
     "name": "stdout",
     "output_type": "stream",
     "text": [
      "El producto demoró 1.5278117656707764 Centro Norte San Felipe\n",
      "tiempo que lleva corriendo 6.152835416793823 Min\n"
     ]
    },
    {
     "name": "stderr",
     "output_type": "stream",
     "text": [
      "INFO:fbprophet:Disabling daily seasonality. Run prophet with daily_seasonality=True to override this.\n"
     ]
    },
    {
     "name": "stdout",
     "output_type": "stream",
     "text": [
      "El producto demoró 1.5788567066192627 Centro Norte San Felipe\n",
      "tiempo que lleva corriendo 6.179166372617086 Min\n"
     ]
    },
    {
     "name": "stderr",
     "output_type": "stream",
     "text": [
      "INFO:fbprophet:Disabling daily seasonality. Run prophet with daily_seasonality=True to override this.\n"
     ]
    },
    {
     "name": "stdout",
     "output_type": "stream",
     "text": [
      "El producto demoró 1.556837797164917 Centro Norte San Felipe\n",
      "tiempo que lleva corriendo 6.205130354563395 Min\n"
     ]
    },
    {
     "name": "stderr",
     "output_type": "stream",
     "text": [
      "INFO:fbprophet:Disabling daily seasonality. Run prophet with daily_seasonality=True to override this.\n"
     ]
    },
    {
     "name": "stdout",
     "output_type": "stream",
     "text": [
      "El producto demoró 1.737492322921753 Centro Norte San Felipe\n",
      "tiempo que lleva corriendo 6.234105229377747 Min\n"
     ]
    },
    {
     "name": "stderr",
     "output_type": "stream",
     "text": [
      "INFO:fbprophet:Disabling daily seasonality. Run prophet with daily_seasonality=True to override this.\n"
     ]
    },
    {
     "name": "stdout",
     "output_type": "stream",
     "text": [
      "El producto demoró 1.6208934783935547 Centro Norte San Felipe\n",
      "tiempo que lleva corriendo 6.261128457387288 Min\n",
      "El producto demoró 0.004503488540649414 Centro Norte San Felipe\n",
      "tiempo que lleva corriendo 6.261203515529632 Min\n",
      "El producto demoró 0.005004167556762695 Centro Norte San Felipe\n",
      "tiempo que lleva corriendo 6.261295266946157 Min\n"
     ]
    },
    {
     "name": "stderr",
     "output_type": "stream",
     "text": [
      "INFO:fbprophet:Disabling daily seasonality. Run prophet with daily_seasonality=True to override this.\n"
     ]
    },
    {
     "name": "stdout",
     "output_type": "stream",
     "text": [
      "El producto demoró 1.2806000709533691 Centro Norte San Felipe\n",
      "tiempo que lleva corriendo 6.282655270894368 Min\n",
      "El producto demoró 0.004503965377807617 Centro Norte San Felipe\n",
      "tiempo que lleva corriendo 6.282747022310892 Min\n"
     ]
    },
    {
     "name": "stderr",
     "output_type": "stream",
     "text": [
      "INFO:fbprophet:Disabling daily seasonality. Run prophet with daily_seasonality=True to override this.\n"
     ]
    },
    {
     "name": "stdout",
     "output_type": "stream",
     "text": [
      "El producto demoró 1.53782057762146 Centro Norte San Felipe\n",
      "tiempo que lleva corriendo 6.30840239127477 Min\n",
      "El producto demoró 0.004003286361694336 Centro Norte San Felipe\n",
      "tiempo que lleva corriendo 6.308552511533102 Min\n"
     ]
    },
    {
     "name": "stderr",
     "output_type": "stream",
     "text": [
      "INFO:fbprophet:Disabling daily seasonality. Run prophet with daily_seasonality=True to override this.\n"
     ]
    },
    {
     "name": "stdout",
     "output_type": "stream",
     "text": [
      "El producto demoró 1.5348188877105713 Centro Norte San Felipe\n",
      "tiempo que lleva corriendo 6.334132826328277 Min\n"
     ]
    },
    {
     "name": "stderr",
     "output_type": "stream",
     "text": [
      "INFO:fbprophet:Disabling daily seasonality. Run prophet with daily_seasonality=True to override this.\n"
     ]
    },
    {
     "name": "stdout",
     "output_type": "stream",
     "text": [
      "El producto demoró 1.3326447010040283 Centro Norte San Felipe\n",
      "tiempo que lleva corriendo 6.356351919968923 Min\n"
     ]
    },
    {
     "name": "stderr",
     "output_type": "stream",
     "text": [
      "INFO:fbprophet:Disabling daily seasonality. Run prophet with daily_seasonality=True to override this.\n"
     ]
    },
    {
     "name": "stdout",
     "output_type": "stream",
     "text": [
      "El producto demoró 1.2670881748199463 Centro Norte San Felipe\n",
      "tiempo que lleva corriendo 6.377478404839834 Min\n",
      "El producto demoró 0.004004001617431641 Centro Norte San Felipe\n",
      "tiempo que lleva corriendo 6.377561791737874 Min\n",
      "El producto demoró 0.00450444221496582 Centro Norte San Felipe\n",
      "tiempo que lleva corriendo 6.37763686577479 Min\n",
      "El producto demoró 0.0040035247802734375 Centro Norte San Felipe\n",
      "tiempo que lleva corriendo 6.377703591187795 Min\n",
      "El producto demoró 0.004003286361694336 Centro Norte San Felipe\n",
      "tiempo que lleva corriendo 6.377770312627157 Min\n"
     ]
    },
    {
     "name": "stderr",
     "output_type": "stream",
     "text": [
      "INFO:fbprophet:Disabling daily seasonality. Run prophet with daily_seasonality=True to override this.\n"
     ]
    },
    {
     "name": "stdout",
     "output_type": "stream",
     "text": [
      "El producto demoró 1.3671746253967285 Centro Norte San Felipe\n",
      "tiempo que lleva corriendo 6.400564912954966 Min\n",
      "Viña del Mar\n"
     ]
    },
    {
     "name": "stderr",
     "output_type": "stream",
     "text": [
      "INFO:fbprophet:Disabling daily seasonality. Run prophet with daily_seasonality=True to override this.\n"
     ]
    },
    {
     "name": "stdout",
     "output_type": "stream",
     "text": [
      "El producto demoró 1.6098828315734863 Centro Norte Viña del Mar\n",
      "tiempo que lleva corriendo 6.427846658229828 Min\n"
     ]
    },
    {
     "name": "stderr",
     "output_type": "stream",
     "text": [
      "INFO:fbprophet:Disabling daily seasonality. Run prophet with daily_seasonality=True to override this.\n"
     ]
    },
    {
     "name": "stdout",
     "output_type": "stream",
     "text": [
      "El producto demoró 1.5047929286956787 Centro Norte Viña del Mar\n",
      "tiempo que lleva corriendo 6.452943217754364 Min\n"
     ]
    },
    {
     "name": "stderr",
     "output_type": "stream",
     "text": [
      "INFO:fbprophet:Disabling daily seasonality. Run prophet with daily_seasonality=True to override this.\n"
     ]
    },
    {
     "name": "stdout",
     "output_type": "stream",
     "text": [
      "El producto demoró 1.4707636833190918 Centro Norte Viña del Mar\n",
      "tiempo que lleva corriendo 6.477464286486308 Min\n"
     ]
    },
    {
     "name": "stderr",
     "output_type": "stream",
     "text": [
      "INFO:fbprophet:Disabling daily seasonality. Run prophet with daily_seasonality=True to override this.\n"
     ]
    },
    {
     "name": "stdout",
     "output_type": "stream",
     "text": [
      "El producto demoró 1.655923843383789 Centro Norte Viña del Mar\n",
      "tiempo que lleva corriendo 6.505088011423747 Min\n"
     ]
    },
    {
     "name": "stderr",
     "output_type": "stream",
     "text": [
      "INFO:fbprophet:Disabling daily seasonality. Run prophet with daily_seasonality=True to override this.\n"
     ]
    },
    {
     "name": "stdout",
     "output_type": "stream",
     "text": [
      "El producto demoró 1.6329026222229004 Centro Norte Viña del Mar\n",
      "tiempo que lleva corriendo 6.532328077157339 Min\n"
     ]
    },
    {
     "name": "stderr",
     "output_type": "stream",
     "text": [
      "INFO:fbprophet:Disabling daily seasonality. Run prophet with daily_seasonality=True to override this.\n"
     ]
    },
    {
     "name": "stdout",
     "output_type": "stream",
     "text": [
      "El producto demoró 1.591867208480835 Centro Norte Viña del Mar\n",
      "tiempo que lleva corriendo 6.558884219328562 Min\n"
     ]
    },
    {
     "name": "stderr",
     "output_type": "stream",
     "text": [
      "INFO:fbprophet:Disabling daily seasonality. Run prophet with daily_seasonality=True to override this.\n"
     ]
    },
    {
     "name": "stdout",
     "output_type": "stream",
     "text": [
      "El producto demoró 1.8235669136047363 Centro Norte Viña del Mar\n",
      "tiempo que lleva corriendo 6.5892853418986 Min\n"
     ]
    },
    {
     "name": "stderr",
     "output_type": "stream",
     "text": [
      "INFO:fbprophet:Disabling daily seasonality. Run prophet with daily_seasonality=True to override this.\n"
     ]
    },
    {
     "name": "stdout",
     "output_type": "stream",
     "text": [
      "El producto demoró 1.6324026584625244 Centro Norte Viña del Mar\n",
      "tiempo que lleva corriendo 6.616508730252584 Min\n"
     ]
    },
    {
     "name": "stderr",
     "output_type": "stream",
     "text": [
      "INFO:fbprophet:Disabling daily seasonality. Run prophet with daily_seasonality=True to override this.\n"
     ]
    },
    {
     "name": "stdout",
     "output_type": "stream",
     "text": [
      "El producto demoró 1.8025481700897217 Centro Norte Viña del Mar\n",
      "tiempo que lleva corriendo 6.6465762178103125 Min\n"
     ]
    },
    {
     "name": "stderr",
     "output_type": "stream",
     "text": [
      "INFO:fbprophet:Disabling daily seasonality. Run prophet with daily_seasonality=True to override this.\n"
     ]
    },
    {
     "name": "stdout",
     "output_type": "stream",
     "text": [
      "El producto demoró 1.9096417427062988 Centro Norte Viña del Mar\n",
      "tiempo que lleva corriendo 6.67842024564743 Min\n"
     ]
    },
    {
     "name": "stderr",
     "output_type": "stream",
     "text": [
      "INFO:fbprophet:Disabling daily seasonality. Run prophet with daily_seasonality=True to override this.\n"
     ]
    },
    {
     "name": "stdout",
     "output_type": "stream",
     "text": [
      "El producto demoró 1.6789422035217285 Centro Norte Viña del Mar\n",
      "tiempo que lleva corriendo 6.706427637736002 Min\n"
     ]
    },
    {
     "name": "stderr",
     "output_type": "stream",
     "text": [
      "INFO:fbprophet:Disabling daily seasonality. Run prophet with daily_seasonality=True to override this.\n"
     ]
    },
    {
     "name": "stdout",
     "output_type": "stream",
     "text": [
      "El producto demoró 1.6909527778625488 Centro Norte Viña del Mar\n",
      "tiempo que lleva corriendo 6.73462686141332 Min\n"
     ]
    },
    {
     "name": "stderr",
     "output_type": "stream",
     "text": [
      "INFO:fbprophet:Disabling daily seasonality. Run prophet with daily_seasonality=True to override this.\n"
     ]
    },
    {
     "name": "stdout",
     "output_type": "stream",
     "text": [
      "El producto demoró 1.586362600326538 Centro Norte Viña del Mar\n",
      "tiempo que lleva corriendo 6.761091256141663 Min\n"
     ]
    },
    {
     "name": "stderr",
     "output_type": "stream",
     "text": [
      "INFO:fbprophet:Disabling daily seasonality. Run prophet with daily_seasonality=True to override this.\n"
     ]
    },
    {
     "name": "stdout",
     "output_type": "stream",
     "text": [
      "El producto demoró 1.6263976097106934 Centro Norte Viña del Mar\n",
      "tiempo que lleva corriendo 6.788306327660878 Min\n"
     ]
    },
    {
     "name": "stderr",
     "output_type": "stream",
     "text": [
      "INFO:fbprophet:Disabling daily seasonality. Run prophet with daily_seasonality=True to override this.\n"
     ]
    },
    {
     "name": "stdout",
     "output_type": "stream",
     "text": [
      "El producto demoró 1.3541638851165771 Centro Norte Viña del Mar\n",
      "tiempo que lleva corriendo 6.810900712013245 Min\n"
     ]
    },
    {
     "name": "stderr",
     "output_type": "stream",
     "text": [
      "INFO:fbprophet:Disabling daily seasonality. Run prophet with daily_seasonality=True to override this.\n"
     ]
    },
    {
     "name": "stdout",
     "output_type": "stream",
     "text": [
      "El producto demoró 1.5037925243377686 Centro Norte Viña del Mar\n",
      "tiempo que lleva corriendo 6.835988930861155 Min\n"
     ]
    },
    {
     "name": "stderr",
     "output_type": "stream",
     "text": [
      "INFO:fbprophet:Disabling daily seasonality. Run prophet with daily_seasonality=True to override this.\n"
     ]
    },
    {
     "name": "stdout",
     "output_type": "stream",
     "text": [
      "El producto demoró 3.148705244064331 Centro Norte Viña del Mar\n",
      "tiempo que lleva corriendo 6.888500714302063 Min\n"
     ]
    },
    {
     "name": "stderr",
     "output_type": "stream",
     "text": [
      "INFO:fbprophet:Disabling daily seasonality. Run prophet with daily_seasonality=True to override this.\n"
     ]
    },
    {
     "name": "stdout",
     "output_type": "stream",
     "text": [
      "El producto demoró 1.5012896060943604 Centro Norte Viña del Mar\n",
      "tiempo que lleva corriendo 6.913530540466309 Min\n"
     ]
    },
    {
     "name": "stderr",
     "output_type": "stream",
     "text": [
      "INFO:fbprophet:Disabling daily seasonality. Run prophet with daily_seasonality=True to override this.\n"
     ]
    },
    {
     "name": "stdout",
     "output_type": "stream",
     "text": [
      "El producto demoró 1.5928685665130615 Centro Norte Viña del Mar\n",
      "tiempo que lleva corriendo 6.940095023314158 Min\n"
     ]
    },
    {
     "name": "stderr",
     "output_type": "stream",
     "text": [
      "INFO:fbprophet:Disabling daily seasonality. Run prophet with daily_seasonality=True to override this.\n"
     ]
    },
    {
     "name": "stdout",
     "output_type": "stream",
     "text": [
      "El producto demoró 1.6173901557922363 Centro Norte Viña del Mar\n",
      "tiempo que lleva corriendo 6.96706819931666 Min\n"
     ]
    },
    {
     "name": "stderr",
     "output_type": "stream",
     "text": [
      "INFO:fbprophet:Disabling daily seasonality. Run prophet with daily_seasonality=True to override this.\n"
     ]
    },
    {
     "name": "stdout",
     "output_type": "stream",
     "text": [
      "El producto demoró 1.8385798931121826 Centro Norte Viña del Mar\n",
      "tiempo que lleva corriendo 6.997727870941162 Min\n"
     ]
    },
    {
     "name": "stderr",
     "output_type": "stream",
     "text": [
      "INFO:fbprophet:Disabling daily seasonality. Run prophet with daily_seasonality=True to override this.\n"
     ]
    },
    {
     "name": "stdout",
     "output_type": "stream",
     "text": [
      "El producto demoró 1.4842746257781982 Centro Norte Viña del Mar\n",
      "tiempo que lleva corriendo 7.0224824746449785 Min\n"
     ]
    },
    {
     "name": "stderr",
     "output_type": "stream",
     "text": [
      "INFO:fbprophet:Disabling daily seasonality. Run prophet with daily_seasonality=True to override this.\n"
     ]
    },
    {
     "name": "stdout",
     "output_type": "stream",
     "text": [
      "El producto demoró 1.6809439659118652 Centro Norte Viña del Mar\n",
      "tiempo que lleva corriendo 7.050514888763428 Min\n"
     ]
    },
    {
     "name": "stderr",
     "output_type": "stream",
     "text": [
      "INFO:fbprophet:Disabling daily seasonality. Run prophet with daily_seasonality=True to override this.\n"
     ]
    },
    {
     "name": "stdout",
     "output_type": "stream",
     "text": [
      "El producto demoró 1.3851897716522217 Centro Norte Viña del Mar\n",
      "tiempo que lleva corriendo 7.073626399040222 Min\n"
     ]
    },
    {
     "name": "stderr",
     "output_type": "stream",
     "text": [
      "INFO:fbprophet:Disabling daily seasonality. Run prophet with daily_seasonality=True to override this.\n"
     ]
    },
    {
     "name": "stdout",
     "output_type": "stream",
     "text": [
      "El producto demoró 1.4282276630401611 Centro Norte Viña del Mar\n",
      "tiempo que lleva corriendo 7.09745519955953 Min\n"
     ]
    },
    {
     "name": "stderr",
     "output_type": "stream",
     "text": [
      "INFO:fbprophet:Disabling daily seasonality. Run prophet with daily_seasonality=True to override this.\n"
     ]
    },
    {
     "name": "stdout",
     "output_type": "stream",
     "text": [
      "El producto demoró 1.371178388595581 Centro Norte Viña del Mar\n",
      "tiempo que lleva corriendo 7.120408248901367 Min\n",
      "El producto demoró 0.0035028457641601562 Centro Norte Viña del Mar\n",
      "tiempo que lleva corriendo 7.120491663614909 Min\n"
     ]
    },
    {
     "name": "stderr",
     "output_type": "stream",
     "text": [
      "INFO:fbprophet:Disabling daily seasonality. Run prophet with daily_seasonality=True to override this.\n"
     ]
    },
    {
     "name": "stdout",
     "output_type": "stream",
     "text": [
      "El producto demoró 1.345656156539917 Centro Norte Viña del Mar\n",
      "tiempo que lleva corriendo 7.142944288253784 Min\n"
     ]
    },
    {
     "name": "stderr",
     "output_type": "stream",
     "text": [
      "INFO:fbprophet:Disabling daily seasonality. Run prophet with daily_seasonality=True to override this.\n"
     ]
    },
    {
     "name": "stdout",
     "output_type": "stream",
     "text": [
      "El producto demoró 3.3043386936187744 Centro Norte Viña del Mar\n",
      "tiempo que lleva corriendo 7.198041605949402 Min\n",
      "El producto demoró 0.004503726959228516 Centro Norte Viña del Mar\n",
      "tiempo que lleva corriendo 7.198141702016195 Min\n"
     ]
    },
    {
     "name": "stderr",
     "output_type": "stream",
     "text": [
      "INFO:fbprophet:Disabling daily seasonality. Run prophet with daily_seasonality=True to override this.\n"
     ]
    },
    {
     "name": "stdout",
     "output_type": "stream",
     "text": [
      "El producto demoró 1.530815601348877 Centro Norte Viña del Mar\n",
      "tiempo que lleva corriendo 7.223747022946676 Min\n"
     ]
    },
    {
     "name": "stderr",
     "output_type": "stream",
     "text": [
      "INFO:fbprophet:Disabling daily seasonality. Run prophet with daily_seasonality=True to override this.\n"
     ]
    },
    {
     "name": "stdout",
     "output_type": "stream",
     "text": [
      "El producto demoró 1.4122130870819092 Centro Norte Viña del Mar\n",
      "tiempo que lleva corriendo 7.247308925787608 Min\n"
     ]
    },
    {
     "name": "stderr",
     "output_type": "stream",
     "text": [
      "INFO:fbprophet:Disabling daily seasonality. Run prophet with daily_seasonality=True to override this.\n"
     ]
    },
    {
     "name": "stdout",
     "output_type": "stream",
     "text": [
      "El producto demoró 1.3726789951324463 Centro Norte Viña del Mar\n",
      "tiempo que lleva corriendo 7.270211935043335 Min\n"
     ]
    },
    {
     "name": "stderr",
     "output_type": "stream",
     "text": [
      "INFO:fbprophet:Disabling daily seasonality. Run prophet with daily_seasonality=True to override this.\n"
     ]
    },
    {
     "name": "stdout",
     "output_type": "stream",
     "text": [
      "El producto demoró 1.3406524658203125 Centro Norte Viña del Mar\n",
      "tiempo que lleva corriendo 7.292581148942312 Min\n"
     ]
    },
    {
     "name": "stderr",
     "output_type": "stream",
     "text": [
      "INFO:fbprophet:Disabling daily seasonality. Run prophet with daily_seasonality=True to override this.\n"
     ]
    },
    {
     "name": "stdout",
     "output_type": "stream",
     "text": [
      "El producto demoró 1.531315565109253 Centro Norte Viña del Mar\n",
      "tiempo que lleva corriendo 7.3181197563807165 Min\n"
     ]
    },
    {
     "name": "stderr",
     "output_type": "stream",
     "text": [
      "INFO:fbprophet:Disabling daily seasonality. Run prophet with daily_seasonality=True to override this.\n"
     ]
    },
    {
     "name": "stdout",
     "output_type": "stream",
     "text": [
      "El producto demoró 1.5878643989562988 Centro Norte Viña del Mar\n",
      "tiempo que lleva corriendo 7.344584163029989 Min\n"
     ]
    },
    {
     "name": "stderr",
     "output_type": "stream",
     "text": [
      "INFO:fbprophet:Disabling daily seasonality. Run prophet with daily_seasonality=True to override this.\n"
     ]
    },
    {
     "name": "stdout",
     "output_type": "stream",
     "text": [
      "El producto demoró 1.6193909645080566 Centro Norte Viña del Mar\n",
      "tiempo que lleva corriendo 7.3715823491414385 Min\n",
      "El producto demoró 0.004504203796386719 Centro Norte Viña del Mar\n",
      "tiempo que lleva corriendo 7.371657419204712 Min\n"
     ]
    },
    {
     "name": "stderr",
     "output_type": "stream",
     "text": [
      "INFO:fbprophet:Disabling daily seasonality. Run prophet with daily_seasonality=True to override this.\n"
     ]
    },
    {
     "name": "stdout",
     "output_type": "stream",
     "text": [
      "El producto demoró 1.4017040729522705 Centro Norte Viña del Mar\n",
      "tiempo que lleva corriendo 7.395027486483256 Min\n",
      "El producto demoró 0.006005525588989258 Centro Norte Viña del Mar\n",
      "tiempo que lleva corriendo 7.395144259929657 Min\n",
      "El producto demoró 1.3536627292633057 Centro Norte Viña del Mar\n",
      "tiempo que lleva corriendo 7.417721994717916 Min\n",
      "Centro Sur\n",
      "Chillan\n"
     ]
    },
    {
     "name": "stderr",
     "output_type": "stream",
     "text": [
      "INFO:fbprophet:Disabling daily seasonality. Run prophet with daily_seasonality=True to override this.\n",
      "INFO:fbprophet:Disabling daily seasonality. Run prophet with daily_seasonality=True to override this.\n"
     ]
    },
    {
     "name": "stdout",
     "output_type": "stream",
     "text": [
      "El producto demoró 1.5178041458129883 Centro Sur Chillan\n",
      "tiempo que lleva corriendo 7.446121390660604 Min\n"
     ]
    },
    {
     "name": "stderr",
     "output_type": "stream",
     "text": [
      "INFO:fbprophet:Disabling daily seasonality. Run prophet with daily_seasonality=True to override this.\n"
     ]
    },
    {
     "name": "stdout",
     "output_type": "stream",
     "text": [
      "El producto demoró 1.673438310623169 Centro Sur Chillan\n",
      "tiempo que lleva corriendo 7.474037027359008 Min\n"
     ]
    },
    {
     "name": "stderr",
     "output_type": "stream",
     "text": [
      "INFO:fbprophet:Disabling daily seasonality. Run prophet with daily_seasonality=True to override this.\n"
     ]
    },
    {
     "name": "stdout",
     "output_type": "stream",
     "text": [
      "El producto demoró 1.6714365482330322 Centro Sur Chillan\n",
      "tiempo que lleva corriendo 7.501919309298198 Min\n"
     ]
    },
    {
     "name": "stderr",
     "output_type": "stream",
     "text": [
      "INFO:fbprophet:Disabling daily seasonality. Run prophet with daily_seasonality=True to override this.\n"
     ]
    },
    {
     "name": "stdout",
     "output_type": "stream",
     "text": [
      "El producto demoró 1.7089686393737793 Centro Sur Chillan\n",
      "tiempo que lleva corriendo 7.5304104566574095 Min\n"
     ]
    },
    {
     "name": "stderr",
     "output_type": "stream",
     "text": [
      "INFO:fbprophet:Disabling daily seasonality. Run prophet with daily_seasonality=True to override this.\n"
     ]
    },
    {
     "name": "stdout",
     "output_type": "stream",
     "text": [
      "El producto demoró 2.029743194580078 Centro Sur Chillan\n",
      "tiempo que lleva corriendo 7.564256203174591 Min\n"
     ]
    },
    {
     "name": "stderr",
     "output_type": "stream",
     "text": [
      "INFO:fbprophet:Disabling daily seasonality. Run prophet with daily_seasonality=True to override this.\n"
     ]
    },
    {
     "name": "stdout",
     "output_type": "stream",
     "text": [
      "El producto demoró 1.7174768447875977 Centro Sur Chillan\n",
      "tiempo que lleva corriendo 7.592905807495117 Min\n"
     ]
    },
    {
     "name": "stderr",
     "output_type": "stream",
     "text": [
      "INFO:fbprophet:Disabling daily seasonality. Run prophet with daily_seasonality=True to override this.\n"
     ]
    },
    {
     "name": "stdout",
     "output_type": "stream",
     "text": [
      "El producto demoró 1.703963279724121 Centro Sur Chillan\n",
      "tiempo que lleva corriendo 7.621330221494039 Min\n"
     ]
    },
    {
     "name": "stderr",
     "output_type": "stream",
     "text": [
      "INFO:fbprophet:Disabling daily seasonality. Run prophet with daily_seasonality=True to override this.\n"
     ]
    },
    {
     "name": "stdout",
     "output_type": "stream",
     "text": [
      "El producto demoró 1.7089684009552002 Centro Sur Chillan\n",
      "tiempo que lleva corriendo 7.649829709529877 Min\n"
     ]
    },
    {
     "name": "stderr",
     "output_type": "stream",
     "text": [
      "INFO:fbprophet:Disabling daily seasonality. Run prophet with daily_seasonality=True to override this.\n"
     ]
    },
    {
     "name": "stdout",
     "output_type": "stream",
     "text": [
      "El producto demoró 1.7825310230255127 Centro Sur Chillan\n",
      "tiempo que lleva corriendo 7.679563581943512 Min\n"
     ]
    },
    {
     "name": "stderr",
     "output_type": "stream",
     "text": [
      "INFO:fbprophet:Disabling daily seasonality. Run prophet with daily_seasonality=True to override this.\n"
     ]
    },
    {
     "name": "stdout",
     "output_type": "stream",
     "text": [
      "El producto demoró 1.7780280113220215 Centro Sur Chillan\n",
      "tiempo que lleva corriendo 7.7092223842938745 Min\n"
     ]
    },
    {
     "name": "stderr",
     "output_type": "stream",
     "text": [
      "INFO:fbprophet:Disabling daily seasonality. Run prophet with daily_seasonality=True to override this.\n"
     ]
    },
    {
     "name": "stdout",
     "output_type": "stream",
     "text": [
      "El producto demoró 1.6178903579711914 Centro Sur Chillan\n",
      "tiempo que lleva corriendo 7.736203900973002 Min\n"
     ]
    },
    {
     "name": "stderr",
     "output_type": "stream",
     "text": [
      "INFO:fbprophet:Disabling daily seasonality. Run prophet with daily_seasonality=True to override this.\n"
     ]
    },
    {
     "name": "stdout",
     "output_type": "stream",
     "text": [
      "El producto demoró 1.751004934310913 Centro Sur Chillan\n",
      "tiempo que lleva corriendo 7.76538731654485 Min\n"
     ]
    },
    {
     "name": "stderr",
     "output_type": "stream",
     "text": [
      "INFO:fbprophet:Disabling daily seasonality. Run prophet with daily_seasonality=True to override this.\n"
     ]
    },
    {
     "name": "stdout",
     "output_type": "stream",
     "text": [
      "El producto demoró 1.6654307842254639 Centro Sur Chillan\n",
      "tiempo que lleva corriendo 7.793169510364533 Min\n"
     ]
    },
    {
     "name": "stderr",
     "output_type": "stream",
     "text": [
      "INFO:fbprophet:Disabling daily seasonality. Run prophet with daily_seasonality=True to override this.\n"
     ]
    },
    {
     "name": "stdout",
     "output_type": "stream",
     "text": [
      "El producto demoró 1.7995460033416748 Centro Sur Chillan\n",
      "tiempo que lleva corriendo 7.823262015978496 Min\n"
     ]
    },
    {
     "name": "stderr",
     "output_type": "stream",
     "text": [
      "INFO:fbprophet:Disabling daily seasonality. Run prophet with daily_seasonality=True to override this.\n"
     ]
    },
    {
     "name": "stdout",
     "output_type": "stream",
     "text": [
      "El producto demoró 1.328141450881958 Centro Sur Chillan\n",
      "tiempo que lleva corriendo 7.845414380232493 Min\n"
     ]
    },
    {
     "name": "stderr",
     "output_type": "stream",
     "text": [
      "INFO:fbprophet:Disabling daily seasonality. Run prophet with daily_seasonality=True to override this.\n"
     ]
    },
    {
     "name": "stdout",
     "output_type": "stream",
     "text": [
      "El producto demoró 1.3386502265930176 Centro Sur Chillan\n",
      "tiempo que lleva corriendo 7.867750235398611 Min\n"
     ]
    },
    {
     "name": "stderr",
     "output_type": "stream",
     "text": [
      "INFO:fbprophet:Disabling daily seasonality. Run prophet with daily_seasonality=True to override this.\n"
     ]
    },
    {
     "name": "stdout",
     "output_type": "stream",
     "text": [
      "El producto demoró 1.6409101486206055 Centro Sur Chillan\n",
      "tiempo que lleva corriendo 7.895115407307943 Min\n",
      "El producto demoró 0.004003047943115234 Centro Sur Chillan\n",
      "tiempo que lleva corriendo 7.895215491453807 Min\n"
     ]
    },
    {
     "name": "stderr",
     "output_type": "stream",
     "text": [
      "INFO:fbprophet:Disabling daily seasonality. Run prophet with daily_seasonality=True to override this.\n"
     ]
    },
    {
     "name": "stdout",
     "output_type": "stream",
     "text": [
      "El producto demoró 1.541825294494629 Centro Sur Chillan\n",
      "tiempo que lleva corriendo 7.920929249127706 Min\n"
     ]
    },
    {
     "name": "stderr",
     "output_type": "stream",
     "text": [
      "INFO:fbprophet:Disabling daily seasonality. Run prophet with daily_seasonality=True to override this.\n"
     ]
    },
    {
     "name": "stdout",
     "output_type": "stream",
     "text": [
      "El producto demoró 1.6849477291107178 Centro Sur Chillan\n",
      "tiempo que lleva corriendo 7.949028388659159 Min\n"
     ]
    },
    {
     "name": "stderr",
     "output_type": "stream",
     "text": [
      "INFO:fbprophet:Disabling daily seasonality. Run prophet with daily_seasonality=True to override this.\n"
     ]
    },
    {
     "name": "stdout",
     "output_type": "stream",
     "text": [
      "El producto demoró 1.6409099102020264 Centro Sur Chillan\n",
      "tiempo que lleva corriendo 7.976393560568492 Min\n"
     ]
    },
    {
     "name": "stderr",
     "output_type": "stream",
     "text": [
      "INFO:fbprophet:Disabling daily seasonality. Run prophet with daily_seasonality=True to override this.\n"
     ]
    },
    {
     "name": "stdout",
     "output_type": "stream",
     "text": [
      "El producto demoró 1.5968716144561768 Centro Sur Chillan\n",
      "tiempo que lleva corriendo 8.003016436100006 Min\n"
     ]
    },
    {
     "name": "stderr",
     "output_type": "stream",
     "text": [
      "INFO:fbprophet:Disabling daily seasonality. Run prophet with daily_seasonality=True to override this.\n"
     ]
    },
    {
     "name": "stdout",
     "output_type": "stream",
     "text": [
      "El producto demoró 1.7299861907958984 Centro Sur Chillan\n",
      "tiempo que lleva corriendo 8.031866220633189 Min\n"
     ]
    },
    {
     "name": "stderr",
     "output_type": "stream",
     "text": [
      "INFO:fbprophet:Disabling daily seasonality. Run prophet with daily_seasonality=True to override this.\n"
     ]
    },
    {
     "name": "stdout",
     "output_type": "stream",
     "text": [
      "El producto demoró 2.3525214195251465 Centro Sur Chillan\n",
      "tiempo que lleva corriendo 8.071091576417286 Min\n"
     ]
    },
    {
     "name": "stderr",
     "output_type": "stream",
     "text": [
      "INFO:fbprophet:Disabling daily seasonality. Run prophet with daily_seasonality=True to override this.\n"
     ]
    },
    {
     "name": "stdout",
     "output_type": "stream",
     "text": [
      "El producto demoró 1.371678352355957 Centro Sur Chillan\n",
      "tiempo que lleva corriendo 8.09396956761678 Min\n",
      "El producto demoró 0.005003929138183594 Centro Sur Chillan\n",
      "tiempo que lleva corriendo 8.094061323006947 Min\n"
     ]
    },
    {
     "name": "stderr",
     "output_type": "stream",
     "text": [
      "INFO:fbprophet:Disabling daily seasonality. Run prophet with daily_seasonality=True to override this.\n"
     ]
    },
    {
     "name": "stdout",
     "output_type": "stream",
     "text": [
      "El producto demoró 1.428227186203003 Centro Sur Chillan\n",
      "tiempo que lleva corriendo 8.117965177694957 Min\n"
     ]
    },
    {
     "name": "stderr",
     "output_type": "stream",
     "text": [
      "INFO:fbprophet:Disabling daily seasonality. Run prophet with daily_seasonality=True to override this.\n"
     ]
    },
    {
     "name": "stdout",
     "output_type": "stream",
     "text": [
      "El producto demoró 1.4962852001190186 Centro Sur Chillan\n",
      "tiempo que lleva corriendo 8.142919945716859 Min\n"
     ]
    },
    {
     "name": "stderr",
     "output_type": "stream",
     "text": [
      "INFO:fbprophet:Disabling daily seasonality. Run prophet with daily_seasonality=True to override this.\n"
     ]
    },
    {
     "name": "stdout",
     "output_type": "stream",
     "text": [
      "El producto demoró 1.342653751373291 Centro Sur Chillan\n",
      "tiempo que lleva corriendo 8.165314189592998 Min\n"
     ]
    },
    {
     "name": "stderr",
     "output_type": "stream",
     "text": [
      "INFO:fbprophet:Disabling daily seasonality. Run prophet with daily_seasonality=True to override this.\n"
     ]
    },
    {
     "name": "stdout",
     "output_type": "stream",
     "text": [
      "El producto demoró 1.3686761856079102 Centro Sur Chillan\n",
      "tiempo que lleva corriendo 8.188142124811808 Min\n",
      "El producto demoró 0.0050046443939208984 Centro Sur Chillan\n",
      "tiempo que lleva corriendo 8.188242204984029 Min\n"
     ]
    },
    {
     "name": "stderr",
     "output_type": "stream",
     "text": [
      "INFO:fbprophet:Disabling daily seasonality. Run prophet with daily_seasonality=True to override this.\n"
     ]
    },
    {
     "name": "stdout",
     "output_type": "stream",
     "text": [
      "El producto demoró 1.4227221012115479 Centro Sur Chillan\n",
      "tiempo que lleva corriendo 8.21197927792867 Min\n"
     ]
    },
    {
     "name": "stderr",
     "output_type": "stream",
     "text": [
      "INFO:fbprophet:Disabling daily seasonality. Run prophet with daily_seasonality=True to override this.\n"
     ]
    },
    {
     "name": "stdout",
     "output_type": "stream",
     "text": [
      "El producto demoró 1.5117990970611572 Centro Sur Chillan\n",
      "tiempo que lleva corriendo 8.237209276358287 Min\n"
     ]
    },
    {
     "name": "stderr",
     "output_type": "stream",
     "text": [
      "INFO:fbprophet:Disabling daily seasonality. Run prophet with daily_seasonality=True to override this.\n"
     ]
    },
    {
     "name": "stdout",
     "output_type": "stream",
     "text": [
      "El producto demoró 1.5298151969909668 Centro Sur Chillan\n",
      "tiempo que lleva corriendo 8.262722857793172 Min\n"
     ]
    },
    {
     "name": "stderr",
     "output_type": "stream",
     "text": [
      "INFO:fbprophet:Disabling daily seasonality. Run prophet with daily_seasonality=True to override this.\n"
     ]
    },
    {
     "name": "stdout",
     "output_type": "stream",
     "text": [
      "El producto demoró 1.3611700534820557 Centro Sur Chillan\n",
      "tiempo que lleva corriendo 8.285425694783529 Min\n",
      "El producto demoró 0.004504203796386719 Centro Sur Chillan\n",
      "tiempo que lleva corriendo 8.285509101549785 Min\n"
     ]
    },
    {
     "name": "stderr",
     "output_type": "stream",
     "text": [
      "INFO:fbprophet:Disabling daily seasonality. Run prophet with daily_seasonality=True to override this.\n"
     ]
    },
    {
     "name": "stdout",
     "output_type": "stream",
     "text": [
      "El producto demoró 1.396700382232666 Centro Sur Chillan\n",
      "tiempo que lleva corriendo 8.308804110685985 Min\n",
      "El producto demoró 0.004002809524536133 Centro Sur Chillan\n",
      "tiempo que lleva corriendo 8.308887525399525 Min\n"
     ]
    },
    {
     "name": "stderr",
     "output_type": "stream",
     "text": [
      "INFO:fbprophet:Disabling daily seasonality. Run prophet with daily_seasonality=True to override this.\n"
     ]
    },
    {
     "name": "stdout",
     "output_type": "stream",
     "text": [
      "El producto demoró 1.3806860446929932 Centro Sur Chillan\n",
      "tiempo que lleva corriendo 8.331982358296711 Min\n"
     ]
    },
    {
     "name": "stderr",
     "output_type": "stream",
     "text": [
      "INFO:fbprophet:Disabling daily seasonality. Run prophet with daily_seasonality=True to override this.\n"
     ]
    },
    {
     "name": "stdout",
     "output_type": "stream",
     "text": [
      "El producto demoró 1.417217493057251 Centro Sur Chillan\n",
      "tiempo que lleva corriendo 8.35561098655065 Min\n"
     ]
    },
    {
     "name": "stderr",
     "output_type": "stream",
     "text": [
      "INFO:fbprophet:Disabling daily seasonality. Run prophet with daily_seasonality=True to override this.\n"
     ]
    },
    {
     "name": "stdout",
     "output_type": "stream",
     "text": [
      "El producto demoró 1.3596677780151367 Centro Sur Chillan\n",
      "tiempo que lleva corriendo 8.378280460834503 Min\n"
     ]
    },
    {
     "name": "stderr",
     "output_type": "stream",
     "text": [
      "INFO:fbprophet:Disabling daily seasonality. Run prophet with daily_seasonality=True to override this.\n"
     ]
    },
    {
     "name": "stdout",
     "output_type": "stream",
     "text": [
      "El producto demoró 1.5218076705932617 Centro Sur Chillan\n",
      "tiempo que lleva corriendo 8.403660595417023 Min\n"
     ]
    },
    {
     "name": "stderr",
     "output_type": "stream",
     "text": [
      "INFO:fbprophet:Disabling daily seasonality. Run prophet with daily_seasonality=True to override this.\n"
     ]
    },
    {
     "name": "stdout",
     "output_type": "stream",
     "text": [
      "El producto demoró 1.3506603240966797 Centro Sur Chillan\n",
      "tiempo que lleva corriendo 8.426188274224598 Min\n"
     ]
    },
    {
     "name": "stderr",
     "output_type": "stream",
     "text": [
      "INFO:fbprophet:Disabling daily seasonality. Run prophet with daily_seasonality=True to override this.\n"
     ]
    },
    {
     "name": "stdout",
     "output_type": "stream",
     "text": [
      "El producto demoró 1.502790927886963 Centro Sur Chillan\n",
      "tiempo que lleva corriendo 8.451251475016276 Min\n"
     ]
    },
    {
     "name": "stderr",
     "output_type": "stream",
     "text": [
      "INFO:fbprophet:Disabling daily seasonality. Run prophet with daily_seasonality=True to override this.\n"
     ]
    },
    {
     "name": "stdout",
     "output_type": "stream",
     "text": [
      "El producto demoró 1.4502463340759277 Centro Sur Chillan\n",
      "tiempo que lleva corriendo 8.475430583953857 Min\n",
      "El producto demoró 0.005003690719604492 Centro Sur Chillan\n",
      "tiempo que lleva corriendo 8.475522327423096 Min\n",
      "Concepcion\n"
     ]
    },
    {
     "name": "stderr",
     "output_type": "stream",
     "text": [
      "INFO:fbprophet:Disabling daily seasonality. Run prophet with daily_seasonality=True to override this.\n"
     ]
    },
    {
     "name": "stdout",
     "output_type": "stream",
     "text": [
      "El producto demoró 1.5097970962524414 Centro Sur Concepcion\n",
      "tiempo que lleva corriendo 8.501177700360616 Min\n"
     ]
    },
    {
     "name": "stderr",
     "output_type": "stream",
     "text": [
      "INFO:fbprophet:Disabling daily seasonality. Run prophet with daily_seasonality=True to override this.\n"
     ]
    },
    {
     "name": "stdout",
     "output_type": "stream",
     "text": [
      "El producto demoró 1.7064664363861084 Centro Sur Concepcion\n",
      "tiempo que lleva corriendo 8.529627136389415 Min\n"
     ]
    },
    {
     "name": "stderr",
     "output_type": "stream",
     "text": [
      "INFO:fbprophet:Disabling daily seasonality. Run prophet with daily_seasonality=True to override this.\n"
     ]
    },
    {
     "name": "stdout",
     "output_type": "stream",
     "text": [
      "El producto demoró 1.689450740814209 Centro Sur Concepcion\n",
      "tiempo que lleva corriendo 8.55779299736023 Min\n"
     ]
    },
    {
     "name": "stderr",
     "output_type": "stream",
     "text": [
      "INFO:fbprophet:Disabling daily seasonality. Run prophet with daily_seasonality=True to override this.\n"
     ]
    },
    {
     "name": "stdout",
     "output_type": "stream",
     "text": [
      "El producto demoró 2.2604422569274902 Centro Sur Concepcion\n",
      "tiempo que lleva corriendo 8.595492060979208 Min\n"
     ]
    },
    {
     "name": "stderr",
     "output_type": "stream",
     "text": [
      "INFO:fbprophet:Disabling daily seasonality. Run prophet with daily_seasonality=True to override this.\n"
     ]
    },
    {
     "name": "stdout",
     "output_type": "stream",
     "text": [
      "El producto demoró 2.8069112300872803 Centro Sur Concepcion\n",
      "tiempo que lleva corriendo 8.642298924922944 Min\n"
     ]
    },
    {
     "name": "stderr",
     "output_type": "stream",
     "text": [
      "INFO:fbprophet:Disabling daily seasonality. Run prophet with daily_seasonality=True to override this.\n"
     ]
    },
    {
     "name": "stdout",
     "output_type": "stream",
     "text": [
      "El producto demoró 1.833076000213623 Centro Sur Concepcion\n",
      "tiempo que lleva corriendo 8.672875185807547 Min\n"
     ]
    },
    {
     "name": "stderr",
     "output_type": "stream",
     "text": [
      "INFO:fbprophet:Disabling daily seasonality. Run prophet with daily_seasonality=True to override this.\n"
     ]
    },
    {
     "name": "stdout",
     "output_type": "stream",
     "text": [
      "El producto demoró 1.6669316291809082 Centro Sur Concepcion\n",
      "tiempo que lleva corriendo 8.700682405630747 Min\n"
     ]
    },
    {
     "name": "stderr",
     "output_type": "stream",
     "text": [
      "INFO:fbprophet:Disabling daily seasonality. Run prophet with daily_seasonality=True to override this.\n"
     ]
    },
    {
     "name": "stdout",
     "output_type": "stream",
     "text": [
      "El producto demoró 1.4772698879241943 Centro Sur Concepcion\n",
      "tiempo que lleva corriendo 8.72531191110611 Min\n"
     ]
    },
    {
     "name": "stderr",
     "output_type": "stream",
     "text": [
      "INFO:fbprophet:Disabling daily seasonality. Run prophet with daily_seasonality=True to override this.\n"
     ]
    },
    {
     "name": "stdout",
     "output_type": "stream",
     "text": [
      "El producto demoró 2.103306293487549 Centro Sur Concepcion\n",
      "tiempo que lleva corriendo 8.76038369735082 Min\n"
     ]
    },
    {
     "name": "stderr",
     "output_type": "stream",
     "text": [
      "INFO:fbprophet:Disabling daily seasonality. Run prophet with daily_seasonality=True to override this.\n"
     ]
    },
    {
     "name": "stdout",
     "output_type": "stream",
     "text": [
      "El producto demoró 2.1908819675445557 Centro Sur Concepcion\n",
      "tiempo que lleva corriendo 8.796915074189505 Min\n"
     ]
    },
    {
     "name": "stderr",
     "output_type": "stream",
     "text": [
      "INFO:fbprophet:Disabling daily seasonality. Run prophet with daily_seasonality=True to override this.\n"
     ]
    },
    {
     "name": "stdout",
     "output_type": "stream",
     "text": [
      "El producto demoró 1.8425822257995605 Centro Sur Concepcion\n",
      "tiempo que lleva corriendo 8.82764980395635 Min\n"
     ]
    },
    {
     "name": "stderr",
     "output_type": "stream",
     "text": [
      "INFO:fbprophet:Disabling daily seasonality. Run prophet with daily_seasonality=True to override this.\n"
     ]
    },
    {
     "name": "stdout",
     "output_type": "stream",
     "text": [
      "El producto demoró 1.8105556964874268 Centro Sur Concepcion\n",
      "tiempo que lleva corriendo 8.857842417558034 Min\n"
     ]
    },
    {
     "name": "stderr",
     "output_type": "stream",
     "text": [
      "INFO:fbprophet:Disabling daily seasonality. Run prophet with daily_seasonality=True to override this.\n"
     ]
    },
    {
     "name": "stdout",
     "output_type": "stream",
     "text": [
      "El producto demoró 1.7750251293182373 Centro Sur Concepcion\n",
      "tiempo que lleva corriendo 8.88744283914566 Min\n"
     ]
    },
    {
     "name": "stderr",
     "output_type": "stream",
     "text": [
      "INFO:fbprophet:Disabling daily seasonality. Run prophet with daily_seasonality=True to override this.\n"
     ]
    },
    {
     "name": "stdout",
     "output_type": "stream",
     "text": [
      "El producto demoró 1.41121244430542 Centro Sur Concepcion\n",
      "tiempo que lleva corriendo 8.911063130696615 Min\n"
     ]
    },
    {
     "name": "stderr",
     "output_type": "stream",
     "text": [
      "INFO:fbprophet:Disabling daily seasonality. Run prophet with daily_seasonality=True to override this.\n"
     ]
    },
    {
     "name": "stdout",
     "output_type": "stream",
     "text": [
      "El producto demoró 1.4817731380462646 Centro Sur Concepcion\n",
      "tiempo que lleva corriendo 8.935776023070018 Min\n"
     ]
    },
    {
     "name": "stderr",
     "output_type": "stream",
     "text": [
      "INFO:fbprophet:Disabling daily seasonality. Run prophet with daily_seasonality=True to override this.\n"
     ]
    },
    {
     "name": "stdout",
     "output_type": "stream",
     "text": [
      "El producto demoró 1.5803582668304443 Centro Sur Concepcion\n",
      "tiempo que lleva corriendo 8.962131996949514 Min\n"
     ]
    },
    {
     "name": "stderr",
     "output_type": "stream",
     "text": [
      "INFO:fbprophet:Disabling daily seasonality. Run prophet with daily_seasonality=True to override this.\n"
     ]
    },
    {
     "name": "stdout",
     "output_type": "stream",
     "text": [
      "El producto demoró 1.4937834739685059 Centro Sur Concepcion\n",
      "tiempo que lleva corriendo 8.987036728858948 Min\n"
     ]
    },
    {
     "name": "stderr",
     "output_type": "stream",
     "text": [
      "INFO:fbprophet:Disabling daily seasonality. Run prophet with daily_seasonality=True to override this.\n"
     ]
    },
    {
     "name": "stdout",
     "output_type": "stream",
     "text": [
      "El producto demoró 1.6549220085144043 Centro Sur Concepcion\n",
      "tiempo que lleva corriendo 9.014627106984456 Min\n"
     ]
    },
    {
     "name": "stderr",
     "output_type": "stream",
     "text": [
      "INFO:fbprophet:Disabling daily seasonality. Run prophet with daily_seasonality=True to override this.\n"
     ]
    },
    {
     "name": "stdout",
     "output_type": "stream",
     "text": [
      "El producto demoró 1.5503320693969727 Centro Sur Concepcion\n",
      "tiempo que lleva corriendo 9.040499325593313 Min\n"
     ]
    },
    {
     "name": "stderr",
     "output_type": "stream",
     "text": [
      "INFO:fbprophet:Disabling daily seasonality. Run prophet with daily_seasonality=True to override this.\n"
     ]
    },
    {
     "name": "stdout",
     "output_type": "stream",
     "text": [
      "El producto demoró 1.4792711734771729 Centro Sur Concepcion\n",
      "tiempo que lleva corriendo 9.06517885128657 Min\n"
     ]
    },
    {
     "name": "stderr",
     "output_type": "stream",
     "text": [
      "INFO:fbprophet:Disabling daily seasonality. Run prophet with daily_seasonality=True to override this.\n"
     ]
    },
    {
     "name": "stdout",
     "output_type": "stream",
     "text": [
      "El producto demoró 1.3431541919708252 Centro Sur Concepcion\n",
      "tiempo que lleva corriendo 9.087589768568675 Min\n"
     ]
    },
    {
     "name": "stderr",
     "output_type": "stream",
     "text": [
      "INFO:fbprophet:Disabling daily seasonality. Run prophet with daily_seasonality=True to override this.\n"
     ]
    },
    {
     "name": "stdout",
     "output_type": "stream",
     "text": [
      "El producto demoró 2.5762133598327637 Centro Sur Concepcion\n",
      "tiempo que lleva corriendo 9.130551687876384 Min\n"
     ]
    },
    {
     "name": "stderr",
     "output_type": "stream",
     "text": [
      "INFO:fbprophet:Disabling daily seasonality. Run prophet with daily_seasonality=True to override this.\n"
     ]
    },
    {
     "name": "stdout",
     "output_type": "stream",
     "text": [
      "El producto demoró 1.809553861618042 Centro Sur Concepcion\n",
      "tiempo que lleva corriendo 9.160735936959584 Min\n"
     ]
    },
    {
     "name": "stderr",
     "output_type": "stream",
     "text": [
      "INFO:fbprophet:Disabling daily seasonality. Run prophet with daily_seasonality=True to override this.\n"
     ]
    },
    {
     "name": "stdout",
     "output_type": "stream",
     "text": [
      "El producto demoró 1.7890369892120361 Centro Sur Concepcion\n",
      "tiempo que lleva corriendo 9.190578238169353 Min\n"
     ]
    },
    {
     "name": "stderr",
     "output_type": "stream",
     "text": [
      "INFO:fbprophet:Disabling daily seasonality. Run prophet with daily_seasonality=True to override this.\n"
     ]
    },
    {
     "name": "stdout",
     "output_type": "stream",
     "text": [
      "El producto demoró 1.8545939922332764 Centro Sur Concepcion\n",
      "tiempo que lleva corriendo 9.221504807472229 Min\n"
     ]
    },
    {
     "name": "stderr",
     "output_type": "stream",
     "text": [
      "INFO:fbprophet:Disabling daily seasonality. Run prophet with daily_seasonality=True to override this.\n"
     ]
    },
    {
     "name": "stdout",
     "output_type": "stream",
     "text": [
      "El producto demoró 1.7885370254516602 Centro Sur Concepcion\n",
      "tiempo que lleva corriendo 9.251438852151235 Min\n",
      "El producto demoró 0.00450444221496582 Centro Sur Concepcion\n",
      "tiempo que lleva corriendo 9.251522262891134 Min\n"
     ]
    },
    {
     "name": "stderr",
     "output_type": "stream",
     "text": [
      "INFO:fbprophet:Disabling daily seasonality. Run prophet with daily_seasonality=True to override this.\n"
     ]
    },
    {
     "name": "stdout",
     "output_type": "stream",
     "text": [
      "El producto demoró 2.031745433807373 Centro Sur Concepcion\n",
      "tiempo que lleva corriendo 9.285418041547139 Min\n"
     ]
    },
    {
     "name": "stderr",
     "output_type": "stream",
     "text": [
      "INFO:fbprophet:Disabling daily seasonality. Run prophet with daily_seasonality=True to override this.\n"
     ]
    },
    {
     "name": "stdout",
     "output_type": "stream",
     "text": [
      "El producto demoró 1.3116271495819092 Centro Sur Concepcion\n",
      "tiempo que lleva corriendo 9.307286826769511 Min\n"
     ]
    },
    {
     "name": "stderr",
     "output_type": "stream",
     "text": [
      "INFO:fbprophet:Disabling daily seasonality. Run prophet with daily_seasonality=True to override this.\n"
     ]
    },
    {
     "name": "stdout",
     "output_type": "stream",
     "text": [
      "El producto demoró 1.2700912952423096 Centro Sur Concepcion\n",
      "tiempo que lleva corriendo 9.328471700350443 Min\n"
     ]
    },
    {
     "name": "stderr",
     "output_type": "stream",
     "text": [
      "INFO:fbprophet:Disabling daily seasonality. Run prophet with daily_seasonality=True to override this.\n"
     ]
    },
    {
     "name": "stdout",
     "output_type": "stream",
     "text": [
      "El producto demoró 1.5203056335449219 Centro Sur Concepcion\n",
      "tiempo que lleva corriendo 9.353826812903087 Min\n"
     ]
    },
    {
     "name": "stderr",
     "output_type": "stream",
     "text": [
      "INFO:fbprophet:Disabling daily seasonality. Run prophet with daily_seasonality=True to override this.\n"
     ]
    },
    {
     "name": "stdout",
     "output_type": "stream",
     "text": [
      "El producto demoró 1.703462839126587 Centro Sur Concepcion\n",
      "tiempo que lleva corriendo 9.382234545548757 Min\n"
     ]
    },
    {
     "name": "stderr",
     "output_type": "stream",
     "text": [
      "INFO:fbprophet:Disabling daily seasonality. Run prophet with daily_seasonality=True to override this.\n"
     ]
    },
    {
     "name": "stdout",
     "output_type": "stream",
     "text": [
      "El producto demoró 2.0017199516296387 Centro Sur Concepcion\n",
      "tiempo que lleva corriendo 9.415613214174906 Min\n"
     ]
    },
    {
     "name": "stderr",
     "output_type": "stream",
     "text": [
      "INFO:fbprophet:Disabling daily seasonality. Run prophet with daily_seasonality=True to override this.\n"
     ]
    },
    {
     "name": "stdout",
     "output_type": "stream",
     "text": [
      "El producto demoró 1.703965187072754 Centro Sur Concepcion\n",
      "tiempo que lleva corriendo 9.44402095079422 Min\n"
     ]
    },
    {
     "name": "stderr",
     "output_type": "stream",
     "text": [
      "INFO:fbprophet:Disabling daily seasonality. Run prophet with daily_seasonality=True to override this.\n"
     ]
    },
    {
     "name": "stdout",
     "output_type": "stream",
     "text": [
      "El producto demoró 2.027742385864258 Centro Sur Concepcion\n",
      "tiempo que lleva corriendo 9.477833330631256 Min\n"
     ]
    },
    {
     "name": "stderr",
     "output_type": "stream",
     "text": [
      "INFO:fbprophet:Disabling daily seasonality. Run prophet with daily_seasonality=True to override this.\n"
     ]
    },
    {
     "name": "stdout",
     "output_type": "stream",
     "text": [
      "El producto demoró 1.3136286735534668 Centro Sur Concepcion\n",
      "tiempo que lleva corriendo 9.49974382718404 Min\n"
     ]
    },
    {
     "name": "stderr",
     "output_type": "stream",
     "text": [
      "INFO:fbprophet:Disabling daily seasonality. Run prophet with daily_seasonality=True to override this.\n"
     ]
    },
    {
     "name": "stdout",
     "output_type": "stream",
     "text": [
      "El producto demoró 1.3796851634979248 Centro Sur Concepcion\n",
      "tiempo que lleva corriendo 9.522821986675263 Min\n"
     ]
    },
    {
     "name": "stderr",
     "output_type": "stream",
     "text": [
      "INFO:fbprophet:Disabling daily seasonality. Run prophet with daily_seasonality=True to override this.\n"
     ]
    },
    {
     "name": "stdout",
     "output_type": "stream",
     "text": [
      "El producto demoró 1.4237232208251953 Centro Sur Concepcion\n",
      "tiempo que lleva corriendo 9.546567372481029 Min\n"
     ]
    },
    {
     "name": "stderr",
     "output_type": "stream",
     "text": [
      "INFO:fbprophet:Disabling daily seasonality. Run prophet with daily_seasonality=True to override this.\n"
     ]
    },
    {
     "name": "stdout",
     "output_type": "stream",
     "text": [
      "El producto demoró 1.3977012634277344 Centro Sur Concepcion\n",
      "tiempo que lleva corriendo 9.569862393538157 Min\n",
      "El producto demoró 0.0040035247802734375 Centro Sur Concepcion\n",
      "tiempo que lleva corriendo 9.569929118951162 Min\n"
     ]
    },
    {
     "name": "stderr",
     "output_type": "stream",
     "text": [
      "INFO:fbprophet:Disabling daily seasonality. Run prophet with daily_seasonality=True to override this.\n"
     ]
    },
    {
     "name": "stdout",
     "output_type": "stream",
     "text": [
      "El producto demoró 1.2700908184051514 Centro Sur Concepcion\n",
      "tiempo que lleva corriendo 9.591113976637523 Min\n"
     ]
    },
    {
     "name": "stderr",
     "output_type": "stream",
     "text": [
      "INFO:fbprophet:Disabling daily seasonality. Run prophet with daily_seasonality=True to override this.\n"
     ]
    },
    {
     "name": "stdout",
     "output_type": "stream",
     "text": [
      "El producto demoró 1.3261396884918213 Centro Sur Concepcion\n",
      "tiempo que lleva corriendo 9.613241314888 Min\n"
     ]
    },
    {
     "name": "stderr",
     "output_type": "stream",
     "text": [
      "INFO:fbprophet:Disabling daily seasonality. Run prophet with daily_seasonality=True to override this.\n"
     ]
    },
    {
     "name": "stdout",
     "output_type": "stream",
     "text": [
      "El producto demoró 1.2976148128509521 Centro Sur Concepcion\n",
      "tiempo que lleva corriendo 9.63489325841268 Min\n",
      "El producto demoró 0.0035026073455810547 Centro Sur Concepcion\n",
      "tiempo que lleva corriendo 9.634976649284363 Min\n",
      "El producto demoró 0.003503084182739258 Centro Sur Concepcion\n",
      "tiempo que lleva corriendo 9.635043374697368 Min\n"
     ]
    },
    {
     "name": "stderr",
     "output_type": "stream",
     "text": [
      "INFO:fbprophet:Disabling daily seasonality. Run prophet with daily_seasonality=True to override this.\n"
     ]
    },
    {
     "name": "stdout",
     "output_type": "stream",
     "text": [
      "El producto demoró 1.2560794353485107 Centro Sur Concepcion\n",
      "tiempo que lleva corriendo 9.655994709332784 Min\n",
      "Curico\n"
     ]
    },
    {
     "name": "stderr",
     "output_type": "stream",
     "text": [
      "INFO:fbprophet:Disabling daily seasonality. Run prophet with daily_seasonality=True to override this.\n"
     ]
    },
    {
     "name": "stdout",
     "output_type": "stream",
     "text": [
      "El producto demoró 2.476126194000244 Centro Sur Curico\n",
      "tiempo que lleva corriendo 9.697738897800445 Min\n"
     ]
    },
    {
     "name": "stderr",
     "output_type": "stream",
     "text": [
      "INFO:fbprophet:Disabling daily seasonality. Run prophet with daily_seasonality=True to override this.\n"
     ]
    },
    {
     "name": "stdout",
     "output_type": "stream",
     "text": [
      "El producto demoró 1.3901951313018799 Centro Sur Curico\n",
      "tiempo que lleva corriendo 9.720917145411173 Min\n"
     ]
    },
    {
     "name": "stderr",
     "output_type": "stream",
     "text": [
      "INFO:fbprophet:Disabling daily seasonality. Run prophet with daily_seasonality=True to override this.\n"
     ]
    },
    {
     "name": "stdout",
     "output_type": "stream",
     "text": [
      "El producto demoró 2.40506649017334 Centro Sur Curico\n",
      "tiempo que lleva corriendo 9.761009915669758 Min\n"
     ]
    },
    {
     "name": "stderr",
     "output_type": "stream",
     "text": [
      "INFO:fbprophet:Disabling daily seasonality. Run prophet with daily_seasonality=True to override this.\n"
     ]
    },
    {
     "name": "stdout",
     "output_type": "stream",
     "text": [
      "El producto demoró 1.8140573501586914 Centro Sur Curico\n",
      "tiempo que lleva corriendo 9.791260902086893 Min\n"
     ]
    },
    {
     "name": "stderr",
     "output_type": "stream",
     "text": [
      "INFO:fbprophet:Disabling daily seasonality. Run prophet with daily_seasonality=True to override this.\n"
     ]
    },
    {
     "name": "stdout",
     "output_type": "stream",
     "text": [
      "El producto demoró 1.7204780578613281 Centro Sur Curico\n",
      "tiempo que lleva corriendo 9.819968911012014 Min\n"
     ]
    },
    {
     "name": "stderr",
     "output_type": "stream",
     "text": [
      "INFO:fbprophet:Disabling daily seasonality. Run prophet with daily_seasonality=True to override this.\n"
     ]
    },
    {
     "name": "stdout",
     "output_type": "stream",
     "text": [
      "El producto demoró 1.5728516578674316 Centro Sur Curico\n",
      "tiempo que lleva corriendo 9.846208119392395 Min\n"
     ]
    },
    {
     "name": "stderr",
     "output_type": "stream",
     "text": [
      "INFO:fbprophet:Disabling daily seasonality. Run prophet with daily_seasonality=True to override this.\n"
     ]
    },
    {
     "name": "stdout",
     "output_type": "stream",
     "text": [
      "El producto demoró 1.8475866317749023 Centro Sur Curico\n",
      "tiempo que lleva corriendo 9.877026244004567 Min\n"
     ]
    },
    {
     "name": "stderr",
     "output_type": "stream",
     "text": [
      "INFO:fbprophet:Disabling daily seasonality. Run prophet with daily_seasonality=True to override this.\n"
     ]
    },
    {
     "name": "stdout",
     "output_type": "stream",
     "text": [
      "El producto demoró 1.5022907257080078 Centro Sur Curico\n",
      "tiempo que lleva corriendo 9.902081100145976 Min\n"
     ]
    },
    {
     "name": "stderr",
     "output_type": "stream",
     "text": [
      "INFO:fbprophet:Disabling daily seasonality. Run prophet with daily_seasonality=True to override this.\n"
     ]
    },
    {
     "name": "stdout",
     "output_type": "stream",
     "text": [
      "El producto demoró 1.5853631496429443 Centro Sur Curico\n",
      "tiempo que lleva corriendo 9.928512140115101 Min\n"
     ]
    },
    {
     "name": "stderr",
     "output_type": "stream",
     "text": [
      "INFO:fbprophet:Disabling daily seasonality. Run prophet with daily_seasonality=True to override this.\n"
     ]
    },
    {
     "name": "stdout",
     "output_type": "stream",
     "text": [
      "El producto demoró 1.729987382888794 Centro Sur Curico\n",
      "tiempo que lleva corriendo 9.957370273272197 Min\n"
     ]
    },
    {
     "name": "stderr",
     "output_type": "stream",
     "text": [
      "INFO:fbprophet:Disabling daily seasonality. Run prophet with daily_seasonality=True to override this.\n"
     ]
    },
    {
     "name": "stdout",
     "output_type": "stream",
     "text": [
      "El producto demoró 1.600374698638916 Centro Sur Curico\n",
      "tiempo que lleva corriendo 9.984059858322144 Min\n"
     ]
    },
    {
     "name": "stderr",
     "output_type": "stream",
     "text": [
      "INFO:fbprophet:Disabling daily seasonality. Run prophet with daily_seasonality=True to override this.\n"
     ]
    },
    {
     "name": "stdout",
     "output_type": "stream",
     "text": [
      "El producto demoró 2.0042221546173096 Centro Sur Curico\n",
      "tiempo que lleva corriendo 10.01748023033142 Min\n"
     ]
    },
    {
     "name": "stderr",
     "output_type": "stream",
     "text": [
      "INFO:fbprophet:Disabling daily seasonality. Run prophet with daily_seasonality=True to override this.\n"
     ]
    },
    {
     "name": "stdout",
     "output_type": "stream",
     "text": [
      "El producto demoró 2.563202142715454 Centro Sur Curico\n",
      "tiempo que lleva corriendo 10.060200266043346 Min\n"
     ]
    },
    {
     "name": "stderr",
     "output_type": "stream",
     "text": [
      "INFO:fbprophet:Disabling daily seasonality. Run prophet with daily_seasonality=True to override this.\n"
     ]
    },
    {
     "name": "stdout",
     "output_type": "stream",
     "text": [
      "El producto demoró 1.4292283058166504 Centro Sur Curico\n",
      "tiempo que lleva corriendo 10.084137495358785 Min\n"
     ]
    },
    {
     "name": "stderr",
     "output_type": "stream",
     "text": [
      "INFO:fbprophet:Disabling daily seasonality. Run prophet with daily_seasonality=True to override this.\n"
     ]
    },
    {
     "name": "stdout",
     "output_type": "stream",
     "text": [
      "El producto demoró 1.5473294258117676 Centro Sur Curico\n",
      "tiempo que lleva corriendo 10.109951329231261 Min\n"
     ]
    },
    {
     "name": "stderr",
     "output_type": "stream",
     "text": [
      "INFO:fbprophet:Disabling daily seasonality. Run prophet with daily_seasonality=True to override this.\n"
     ]
    },
    {
     "name": "stdout",
     "output_type": "stream",
     "text": [
      "El producto demoró 1.431230068206787 Centro Sur Curico\n",
      "tiempo que lleva corriendo 10.13383018175761 Min\n"
     ]
    },
    {
     "name": "stderr",
     "output_type": "stream",
     "text": [
      "INFO:fbprophet:Disabling daily seasonality. Run prophet with daily_seasonality=True to override this.\n"
     ]
    },
    {
     "name": "stdout",
     "output_type": "stream",
     "text": [
      "El producto demoró 1.7199785709381104 Centro Sur Curico\n",
      "tiempo que lleva corriendo 10.162513160705567 Min\n"
     ]
    },
    {
     "name": "stderr",
     "output_type": "stream",
     "text": [
      "INFO:fbprophet:Disabling daily seasonality. Run prophet with daily_seasonality=True to override this.\n"
     ]
    },
    {
     "name": "stdout",
     "output_type": "stream",
     "text": [
      "El producto demoró 1.4622557163238525 Centro Sur Curico\n",
      "tiempo que lleva corriendo 10.186909107367198 Min\n"
     ]
    },
    {
     "name": "stderr",
     "output_type": "stream",
     "text": [
      "INFO:fbprophet:Disabling daily seasonality. Run prophet with daily_seasonality=True to override this.\n"
     ]
    },
    {
     "name": "stdout",
     "output_type": "stream",
     "text": [
      "El producto demoró 1.4637577533721924 Centro Sur Curico\n",
      "tiempo que lleva corriendo 10.211330087979634 Min\n"
     ]
    },
    {
     "name": "stderr",
     "output_type": "stream",
     "text": [
      "INFO:fbprophet:Disabling daily seasonality. Run prophet with daily_seasonality=True to override this.\n"
     ]
    },
    {
     "name": "stdout",
     "output_type": "stream",
     "text": [
      "El producto demoró 1.5047929286956787 Centro Sur Curico\n",
      "tiempo que lleva corriendo 10.236434984207154 Min\n"
     ]
    },
    {
     "name": "stderr",
     "output_type": "stream",
     "text": [
      "INFO:fbprophet:Disabling daily seasonality. Run prophet with daily_seasonality=True to override this.\n"
     ]
    },
    {
     "name": "stdout",
     "output_type": "stream",
     "text": [
      "El producto demoró 1.4077093601226807 Centro Sur Curico\n",
      "tiempo que lleva corriendo 10.259921836853028 Min\n"
     ]
    },
    {
     "name": "stderr",
     "output_type": "stream",
     "text": [
      "INFO:fbprophet:Disabling daily seasonality. Run prophet with daily_seasonality=True to override this.\n"
     ]
    },
    {
     "name": "stdout",
     "output_type": "stream",
     "text": [
      "El producto demoró 1.5708489418029785 Centro Sur Curico\n",
      "tiempo que lleva corriendo 10.286127670605977 Min\n"
     ]
    },
    {
     "name": "stderr",
     "output_type": "stream",
     "text": [
      "INFO:fbprophet:Disabling daily seasonality. Run prophet with daily_seasonality=True to override this.\n"
     ]
    },
    {
     "name": "stdout",
     "output_type": "stream",
     "text": [
      "El producto demoró 1.7785284519195557 Centro Sur Curico\n",
      "tiempo que lleva corriendo 10.315778160095215 Min\n"
     ]
    },
    {
     "name": "stderr",
     "output_type": "stream",
     "text": [
      "INFO:fbprophet:Disabling daily seasonality. Run prophet with daily_seasonality=True to override this.\n"
     ]
    },
    {
     "name": "stdout",
     "output_type": "stream",
     "text": [
      "El producto demoró 1.7590105533599854 Centro Sur Curico\n",
      "tiempo que lleva corriendo 10.345120012760162 Min\n"
     ]
    },
    {
     "name": "stderr",
     "output_type": "stream",
     "text": [
      "INFO:fbprophet:Disabling daily seasonality. Run prophet with daily_seasonality=True to override this.\n"
     ]
    },
    {
     "name": "stdout",
     "output_type": "stream",
     "text": [
      "El producto demoró 1.4377353191375732 Centro Sur Curico\n",
      "tiempo que lleva corriendo 10.369107298056285 Min\n",
      "El producto demoró 0.0055043697357177734 Centro Sur Curico\n",
      "tiempo que lleva corriendo 10.369207386175791 Min\n"
     ]
    },
    {
     "name": "stderr",
     "output_type": "stream",
     "text": [
      "INFO:fbprophet:Disabling daily seasonality. Run prophet with daily_seasonality=True to override this.\n"
     ]
    },
    {
     "name": "stdout",
     "output_type": "stream",
     "text": [
      "El producto demoró 1.5037930011749268 Centro Sur Curico\n",
      "tiempo que lleva corriendo 10.394362326463064 Min\n"
     ]
    },
    {
     "name": "stderr",
     "output_type": "stream",
     "text": [
      "INFO:fbprophet:Disabling daily seasonality. Run prophet with daily_seasonality=True to override this.\n"
     ]
    },
    {
     "name": "stdout",
     "output_type": "stream",
     "text": [
      "El producto demoró 1.5968716144561768 Centro Sur Curico\n",
      "tiempo que lleva corriendo 10.42101021607717 Min\n"
     ]
    },
    {
     "name": "stderr",
     "output_type": "stream",
     "text": [
      "INFO:fbprophet:Disabling daily seasonality. Run prophet with daily_seasonality=True to override this.\n"
     ]
    },
    {
     "name": "stdout",
     "output_type": "stream",
     "text": [
      "El producto demoró 1.3891932964324951 Centro Sur Curico\n",
      "tiempo que lleva corriendo 10.444171778361003 Min\n"
     ]
    },
    {
     "name": "stderr",
     "output_type": "stream",
     "text": [
      "INFO:fbprophet:Disabling daily seasonality. Run prophet with daily_seasonality=True to override this.\n"
     ]
    },
    {
     "name": "stdout",
     "output_type": "stream",
     "text": [
      "El producto demoró 1.6434111595153809 Centro Sur Curico\n",
      "tiempo que lleva corriendo 10.471586990356446 Min\n"
     ]
    },
    {
     "name": "stderr",
     "output_type": "stream",
     "text": [
      "INFO:fbprophet:Disabling daily seasonality. Run prophet with daily_seasonality=True to override this.\n"
     ]
    },
    {
     "name": "stdout",
     "output_type": "stream",
     "text": [
      "El producto demoró 1.374180793762207 Centro Sur Curico\n",
      "tiempo que lleva corriendo 10.49451502164205 Min\n"
     ]
    },
    {
     "name": "stderr",
     "output_type": "stream",
     "text": [
      "INFO:fbprophet:Disabling daily seasonality. Run prophet with daily_seasonality=True to override this.\n"
     ]
    },
    {
     "name": "stdout",
     "output_type": "stream",
     "text": [
      "El producto demoró 1.5183055400848389 Centro Sur Curico\n",
      "tiempo que lleva corriendo 10.519845680395763 Min\n"
     ]
    },
    {
     "name": "stderr",
     "output_type": "stream",
     "text": [
      "INFO:fbprophet:Disabling daily seasonality. Run prophet with daily_seasonality=True to override this.\n"
     ]
    },
    {
     "name": "stdout",
     "output_type": "stream",
     "text": [
      "El producto demoró 1.3546640872955322 Centro Sur Curico\n",
      "tiempo que lleva corriendo 10.542439528306325 Min\n"
     ]
    },
    {
     "name": "stderr",
     "output_type": "stream",
     "text": [
      "INFO:fbprophet:Disabling daily seasonality. Run prophet with daily_seasonality=True to override this.\n"
     ]
    },
    {
     "name": "stdout",
     "output_type": "stream",
     "text": [
      "El producto demoró 1.4897794723510742 Centro Sur Curico\n",
      "tiempo que lleva corriendo 10.567285859584809 Min\n",
      "El producto demoró 0.0045032501220703125 Centro Sur Curico\n",
      "tiempo que lleva corriendo 10.567369266351063 Min\n"
     ]
    },
    {
     "name": "stderr",
     "output_type": "stream",
     "text": [
      "INFO:fbprophet:Disabling daily seasonality. Run prophet with daily_seasonality=True to override this.\n"
     ]
    },
    {
     "name": "stdout",
     "output_type": "stream",
     "text": [
      "El producto demoró 1.5843613147735596 Centro Sur Curico\n",
      "tiempo que lleva corriendo 10.593791965643565 Min\n"
     ]
    },
    {
     "name": "stderr",
     "output_type": "stream",
     "text": [
      "INFO:fbprophet:Disabling daily seasonality. Run prophet with daily_seasonality=True to override this.\n"
     ]
    },
    {
     "name": "stdout",
     "output_type": "stream",
     "text": [
      "El producto demoró 1.637906551361084 Centro Sur Curico\n",
      "tiempo que lleva corriendo 10.621115430196125 Min\n",
      "El producto demoró 0.003503561019897461 Centro Sur Curico\n",
      "tiempo que lleva corriendo 10.621248892943065 Min\n"
     ]
    },
    {
     "name": "stderr",
     "output_type": "stream",
     "text": [
      "INFO:fbprophet:Disabling daily seasonality. Run prophet with daily_seasonality=True to override this.\n"
     ]
    },
    {
     "name": "stdout",
     "output_type": "stream",
     "text": [
      "El producto demoró 2.1363346576690674 Centro Sur Curico\n",
      "tiempo que lleva corriendo 10.656871151924133 Min\n",
      "El producto demoró 0.0040035247802734375 Centro Sur Curico\n",
      "tiempo que lleva corriendo 10.656937877337137 Min\n",
      "Los Angeles\n"
     ]
    },
    {
     "name": "stderr",
     "output_type": "stream",
     "text": [
      "INFO:fbprophet:Disabling daily seasonality. Run prophet with daily_seasonality=True to override this.\n"
     ]
    },
    {
     "name": "stdout",
     "output_type": "stream",
     "text": [
      "El producto demoró 1.4782698154449463 Centro Sur Los Angeles\n",
      "tiempo que lleva corriendo 10.682067795594532 Min\n"
     ]
    },
    {
     "name": "stderr",
     "output_type": "stream",
     "text": [
      "INFO:fbprophet:Disabling daily seasonality. Run prophet with daily_seasonality=True to override this.\n"
     ]
    },
    {
     "name": "stdout",
     "output_type": "stream",
     "text": [
      "El producto demoró 1.8220655918121338 Centro Sur Los Angeles\n",
      "tiempo que lleva corriendo 10.712443888187408 Min\n"
     ]
    },
    {
     "name": "stderr",
     "output_type": "stream",
     "text": [
      "INFO:fbprophet:Disabling daily seasonality. Run prophet with daily_seasonality=True to override this.\n"
     ]
    },
    {
     "name": "stdout",
     "output_type": "stream",
     "text": [
      "El producto demoró 1.4962856769561768 Centro Sur Los Angeles\n",
      "tiempo que lleva corriendo 10.737390319506327 Min\n"
     ]
    },
    {
     "name": "stderr",
     "output_type": "stream",
     "text": [
      "INFO:fbprophet:Disabling daily seasonality. Run prophet with daily_seasonality=True to override this.\n"
     ]
    },
    {
     "name": "stdout",
     "output_type": "stream",
     "text": [
      "El producto demoró 1.645413875579834 Centro Sur Los Angeles\n",
      "tiempo que lleva corriendo 10.76483055750529 Min\n"
     ]
    },
    {
     "name": "stderr",
     "output_type": "stream",
     "text": [
      "INFO:fbprophet:Disabling daily seasonality. Run prophet with daily_seasonality=True to override this.\n"
     ]
    },
    {
     "name": "stdout",
     "output_type": "stream",
     "text": [
      "El producto demoró 1.7870357036590576 Centro Sur Los Angeles\n",
      "tiempo que lleva corriendo 10.794622826576234 Min\n"
     ]
    },
    {
     "name": "stderr",
     "output_type": "stream",
     "text": [
      "INFO:fbprophet:Disabling daily seasonality. Run prophet with daily_seasonality=True to override this.\n"
     ]
    },
    {
     "name": "stdout",
     "output_type": "stream",
     "text": [
      "El producto demoró 1.5588388442993164 Centro Sur Los Angeles\n",
      "tiempo que lleva corriendo 10.820628496011098 Min\n"
     ]
    },
    {
     "name": "stderr",
     "output_type": "stream",
     "text": [
      "INFO:fbprophet:Disabling daily seasonality. Run prophet with daily_seasonality=True to override this.\n"
     ]
    },
    {
     "name": "stdout",
     "output_type": "stream",
     "text": [
      "El producto demoró 1.6298999786376953 Centro Sur Los Angeles\n",
      "tiempo que lleva corriendo 10.847801836331685 Min\n"
     ]
    },
    {
     "name": "stderr",
     "output_type": "stream",
     "text": [
      "INFO:fbprophet:Disabling daily seasonality. Run prophet with daily_seasonality=True to override this.\n"
     ]
    },
    {
     "name": "stdout",
     "output_type": "stream",
     "text": [
      "El producto demoró 1.5433259010314941 Centro Sur Los Angeles\n",
      "tiempo que lleva corriendo 10.873540604114533 Min\n"
     ]
    },
    {
     "name": "stderr",
     "output_type": "stream",
     "text": [
      "INFO:fbprophet:Disabling daily seasonality. Run prophet with daily_seasonality=True to override this.\n"
     ]
    },
    {
     "name": "stdout",
     "output_type": "stream",
     "text": [
      "El producto demoró 1.817060947418213 Centro Sur Los Angeles\n",
      "tiempo que lleva corriendo 10.903841638565064 Min\n"
     ]
    },
    {
     "name": "stderr",
     "output_type": "stream",
     "text": [
      "INFO:fbprophet:Disabling daily seasonality. Run prophet with daily_seasonality=True to override this.\n"
     ]
    },
    {
     "name": "stdout",
     "output_type": "stream",
     "text": [
      "El producto demoró 1.6844475269317627 Centro Sur Los Angeles\n",
      "tiempo que lleva corriendo 10.93194077014923 Min\n"
     ]
    },
    {
     "name": "stderr",
     "output_type": "stream",
     "text": [
      "INFO:fbprophet:Disabling daily seasonality. Run prophet with daily_seasonality=True to override this.\n"
     ]
    },
    {
     "name": "stdout",
     "output_type": "stream",
     "text": [
      "El producto demoró 1.6539208889007568 Centro Sur Los Angeles\n",
      "tiempo que lleva corriendo 10.959531160195668 Min\n"
     ]
    },
    {
     "name": "stderr",
     "output_type": "stream",
     "text": [
      "INFO:fbprophet:Disabling daily seasonality. Run prophet with daily_seasonality=True to override this.\n"
     ]
    },
    {
     "name": "stdout",
     "output_type": "stream",
     "text": [
      "El producto demoró 1.8090531826019287 Centro Sur Los Angeles\n",
      "tiempo que lleva corriendo 10.989698723951976 Min\n"
     ]
    },
    {
     "name": "stderr",
     "output_type": "stream",
     "text": [
      "INFO:fbprophet:Disabling daily seasonality. Run prophet with daily_seasonality=True to override this.\n"
     ]
    },
    {
     "name": "stdout",
     "output_type": "stream",
     "text": [
      "El producto demoró 1.6389081478118896 Centro Sur Los Angeles\n",
      "tiempo que lleva corriendo 11.017022204399108 Min\n"
     ]
    },
    {
     "name": "stderr",
     "output_type": "stream",
     "text": [
      "INFO:fbprophet:Disabling daily seasonality. Run prophet with daily_seasonality=True to override this.\n"
     ]
    },
    {
     "name": "stdout",
     "output_type": "stream",
     "text": [
      "El producto demoró 2.6322615146636963 Centro Sur Los Angeles\n",
      "tiempo que lleva corriendo 11.06100998322169 Min\n"
     ]
    },
    {
     "name": "stderr",
     "output_type": "stream",
     "text": [
      "INFO:fbprophet:Disabling daily seasonality. Run prophet with daily_seasonality=True to override this.\n"
     ]
    },
    {
     "name": "stdout",
     "output_type": "stream",
     "text": [
      "El producto demoró 1.3791844844818115 Centro Sur Los Angeles\n",
      "tiempo que lleva corriendo 11.08401307662328 Min\n"
     ]
    },
    {
     "name": "stderr",
     "output_type": "stream",
     "text": [
      "INFO:fbprophet:Disabling daily seasonality. Run prophet with daily_seasonality=True to override this.\n"
     ]
    },
    {
     "name": "stdout",
     "output_type": "stream",
     "text": [
      "El producto demoró 1.3471572399139404 Centro Sur Los Angeles\n",
      "tiempo que lleva corriendo 11.106482378641765 Min\n"
     ]
    },
    {
     "name": "stderr",
     "output_type": "stream",
     "text": [
      "INFO:fbprophet:Disabling daily seasonality. Run prophet with daily_seasonality=True to override this.\n"
     ]
    },
    {
     "name": "stdout",
     "output_type": "stream",
     "text": [
      "El producto demoró 1.3681755065917969 Centro Sur Los Angeles\n",
      "tiempo que lleva corriendo 11.12931032180786 Min\n"
     ]
    },
    {
     "name": "stderr",
     "output_type": "stream",
     "text": [
      "INFO:fbprophet:Disabling daily seasonality. Run prophet with daily_seasonality=True to override this.\n"
     ]
    },
    {
     "name": "stdout",
     "output_type": "stream",
     "text": [
      "El producto demoró 1.3091251850128174 Centro Sur Los Angeles\n",
      "tiempo que lleva corriendo 11.15113742351532 Min\n"
     ]
    },
    {
     "name": "stderr",
     "output_type": "stream",
     "text": [
      "INFO:fbprophet:Disabling daily seasonality. Run prophet with daily_seasonality=True to override this.\n"
     ]
    },
    {
     "name": "stdout",
     "output_type": "stream",
     "text": [
      "El producto demoró 1.3101255893707275 Centro Sur Los Angeles\n",
      "tiempo que lleva corriendo 11.172989507516226 Min\n"
     ]
    },
    {
     "name": "stderr",
     "output_type": "stream",
     "text": [
      "INFO:fbprophet:Disabling daily seasonality. Run prophet with daily_seasonality=True to override this.\n"
     ]
    },
    {
     "name": "stdout",
     "output_type": "stream",
     "text": [
      "El producto demoró 1.448244333267212 Centro Sur Los Angeles\n",
      "tiempo que lleva corriendo 11.197143598397572 Min\n"
     ]
    },
    {
     "name": "stderr",
     "output_type": "stream",
     "text": [
      "INFO:fbprophet:Disabling daily seasonality. Run prophet with daily_seasonality=True to override this.\n"
     ]
    },
    {
     "name": "stdout",
     "output_type": "stream",
     "text": [
      "El producto demoró 1.419719934463501 Centro Sur Los Angeles\n",
      "tiempo que lleva corriendo 11.220822262763978 Min\n"
     ]
    },
    {
     "name": "stderr",
     "output_type": "stream",
     "text": [
      "INFO:fbprophet:Disabling daily seasonality. Run prophet with daily_seasonality=True to override this.\n"
     ]
    },
    {
     "name": "stdout",
     "output_type": "stream",
     "text": [
      "El producto demoró 1.2715930938720703 Centro Sur Los Angeles\n",
      "tiempo que lleva corriendo 11.242023809750874 Min\n"
     ]
    },
    {
     "name": "stderr",
     "output_type": "stream",
     "text": [
      "INFO:fbprophet:Disabling daily seasonality. Run prophet with daily_seasonality=True to override this.\n"
     ]
    },
    {
     "name": "stdout",
     "output_type": "stream",
     "text": [
      "El producto demoró 1.3896939754486084 Centro Sur Los Angeles\n",
      "tiempo que lleva corriendo 11.265277115503947 Min\n"
     ]
    },
    {
     "name": "stderr",
     "output_type": "stream",
     "text": [
      "INFO:fbprophet:Disabling daily seasonality. Run prophet with daily_seasonality=True to override this.\n"
     ]
    },
    {
     "name": "stdout",
     "output_type": "stream",
     "text": [
      "El producto demoró 1.592869758605957 Centro Sur Los Angeles\n",
      "tiempo que lleva corriendo 11.291849946975708 Min\n"
     ]
    },
    {
     "name": "stderr",
     "output_type": "stream",
     "text": [
      "INFO:fbprophet:Disabling daily seasonality. Run prophet with daily_seasonality=True to override this.\n"
     ]
    },
    {
     "name": "stdout",
     "output_type": "stream",
     "text": [
      "El producto demoró 1.4482455253601074 Centro Sur Los Angeles\n",
      "tiempo que lleva corriendo 11.316012370586396 Min\n"
     ]
    },
    {
     "name": "stderr",
     "output_type": "stream",
     "text": [
      "INFO:fbprophet:Disabling daily seasonality. Run prophet with daily_seasonality=True to override this.\n"
     ]
    },
    {
     "name": "stdout",
     "output_type": "stream",
     "text": [
      "El producto demoró 1.485276460647583 Centro Sur Los Angeles\n",
      "tiempo que lleva corriendo 11.340791984399159 Min\n"
     ]
    },
    {
     "name": "stderr",
     "output_type": "stream",
     "text": [
      "INFO:fbprophet:Disabling daily seasonality. Run prophet with daily_seasonality=True to override this.\n"
     ]
    },
    {
     "name": "stdout",
     "output_type": "stream",
     "text": [
      "El producto demoró 1.5498318672180176 Centro Sur Los Angeles\n",
      "tiempo que lleva corriendo 11.366639184951783 Min\n"
     ]
    },
    {
     "name": "stderr",
     "output_type": "stream",
     "text": [
      "INFO:fbprophet:Disabling daily seasonality. Run prophet with daily_seasonality=True to override this.\n"
     ]
    },
    {
     "name": "stdout",
     "output_type": "stream",
     "text": [
      "El producto demoró 1.9241538047790527 Centro Sur Los Angeles\n",
      "tiempo que lleva corriendo 11.398725084463756 Min\n"
     ]
    },
    {
     "name": "stderr",
     "output_type": "stream",
     "text": [
      "INFO:fbprophet:Disabling daily seasonality. Run prophet with daily_seasonality=True to override this.\n"
     ]
    },
    {
     "name": "stdout",
     "output_type": "stream",
     "text": [
      "El producto demoró 2.080787181854248 Centro Sur Los Angeles\n",
      "tiempo que lleva corriendo 11.433429900805155 Min\n"
     ]
    },
    {
     "name": "stderr",
     "output_type": "stream",
     "text": [
      "INFO:fbprophet:Disabling daily seasonality. Run prophet with daily_seasonality=True to override this.\n"
     ]
    },
    {
     "name": "stdout",
     "output_type": "stream",
     "text": [
      "El producto demoró 1.353163242340088 Centro Sur Los Angeles\n",
      "tiempo que lleva corriendo 11.455999302864075 Min\n",
      "El producto demoró 0.0040416717529296875 Centro Sur Los Angeles\n",
      "tiempo que lleva corriendo 11.456091034412385 Min\n"
     ]
    },
    {
     "name": "stderr",
     "output_type": "stream",
     "text": [
      "INFO:fbprophet:Disabling daily seasonality. Run prophet with daily_seasonality=True to override this.\n"
     ]
    },
    {
     "name": "stdout",
     "output_type": "stream",
     "text": [
      "El producto demoró 1.2605831623077393 Centro Sur Los Angeles\n",
      "tiempo que lleva corriendo 11.477117423216502 Min\n"
     ]
    },
    {
     "name": "stderr",
     "output_type": "stream",
     "text": [
      "INFO:fbprophet:Disabling daily seasonality. Run prophet with daily_seasonality=True to override this.\n"
     ]
    },
    {
     "name": "stdout",
     "output_type": "stream",
     "text": [
      "El producto demoró 1.5673472881317139 Centro Sur Los Angeles\n",
      "tiempo que lleva corriendo 11.50325654745102 Min\n"
     ]
    },
    {
     "name": "stderr",
     "output_type": "stream",
     "text": [
      "INFO:fbprophet:Disabling daily seasonality. Run prophet with daily_seasonality=True to override this.\n"
     ]
    },
    {
     "name": "stdout",
     "output_type": "stream",
     "text": [
      "El producto demoró 1.4492452144622803 Centro Sur Los Angeles\n",
      "tiempo que lleva corriendo 11.52749404112498 Min\n"
     ]
    },
    {
     "name": "stderr",
     "output_type": "stream",
     "text": [
      "INFO:fbprophet:Disabling daily seasonality. Run prophet with daily_seasonality=True to override this.\n"
     ]
    },
    {
     "name": "stdout",
     "output_type": "stream",
     "text": [
      "El producto demoró 1.2790982723236084 Centro Sur Los Angeles\n",
      "tiempo que lleva corriendo 11.548837375640868 Min\n",
      "El producto demoró 0.0035033226013183594 Centro Sur Los Angeles\n",
      "tiempo que lleva corriendo 11.54892077445984 Min\n"
     ]
    },
    {
     "name": "stderr",
     "output_type": "stream",
     "text": [
      "INFO:fbprophet:Disabling daily seasonality. Run prophet with daily_seasonality=True to override this.\n"
     ]
    },
    {
     "name": "stdout",
     "output_type": "stream",
     "text": [
      "El producto demoró 1.3321442604064941 Centro Sur Los Angeles\n",
      "tiempo que lleva corriendo 11.571148200829823 Min\n"
     ]
    },
    {
     "name": "stderr",
     "output_type": "stream",
     "text": [
      "INFO:fbprophet:Disabling daily seasonality. Run prophet with daily_seasonality=True to override this.\n"
     ]
    },
    {
     "name": "stdout",
     "output_type": "stream",
     "text": [
      "El producto demoró 1.636906385421753 Centro Sur Los Angeles\n",
      "tiempo que lleva corriendo 11.598454999923707 Min\n"
     ]
    },
    {
     "name": "stderr",
     "output_type": "stream",
     "text": [
      "INFO:fbprophet:Disabling daily seasonality. Run prophet with daily_seasonality=True to override this.\n"
     ]
    },
    {
     "name": "stdout",
     "output_type": "stream",
     "text": [
      "El producto demoró 1.4282267093658447 Centro Sur Los Angeles\n",
      "tiempo que lleva corriendo 11.622275459766389 Min\n",
      "El producto demoró 0.004002809524536133 Centro Sur Los Angeles\n",
      "tiempo que lleva corriendo 11.622358866532643 Min\n"
     ]
    },
    {
     "name": "stderr",
     "output_type": "stream",
     "text": [
      "INFO:fbprophet:Disabling daily seasonality. Run prophet with daily_seasonality=True to override this.\n"
     ]
    },
    {
     "name": "stdout",
     "output_type": "stream",
     "text": [
      "El producto demoró 1.2876067161560059 Centro Sur Los Angeles\n",
      "tiempo que lleva corriendo 11.643835639953613 Min\n",
      "Rancagua\n"
     ]
    },
    {
     "name": "stderr",
     "output_type": "stream",
     "text": [
      "INFO:fbprophet:Disabling daily seasonality. Run prophet with daily_seasonality=True to override this.\n"
     ]
    },
    {
     "name": "stdout",
     "output_type": "stream",
     "text": [
      "El producto demoró 1.840080738067627 Centro Sur Rancagua\n",
      "tiempo que lleva corriendo 11.674987399578095 Min\n"
     ]
    },
    {
     "name": "stderr",
     "output_type": "stream",
     "text": [
      "INFO:fbprophet:Disabling daily seasonality. Run prophet with daily_seasonality=True to override this.\n"
     ]
    },
    {
     "name": "stdout",
     "output_type": "stream",
     "text": [
      "El producto demoró 1.5873637199401855 Centro Sur Rancagua\n",
      "tiempo que lleva corriendo 11.701460138956707 Min\n"
     ]
    },
    {
     "name": "stderr",
     "output_type": "stream",
     "text": [
      "INFO:fbprophet:Disabling daily seasonality. Run prophet with daily_seasonality=True to override this.\n"
     ]
    },
    {
     "name": "stdout",
     "output_type": "stream",
     "text": [
      "El producto demoró 1.639409065246582 Centro Sur Rancagua\n",
      "tiempo que lleva corriendo 11.728816978136699 Min\n"
     ]
    },
    {
     "name": "stderr",
     "output_type": "stream",
     "text": [
      "INFO:fbprophet:Disabling daily seasonality. Run prophet with daily_seasonality=True to override this.\n"
     ]
    },
    {
     "name": "stdout",
     "output_type": "stream",
     "text": [
      "El producto demoró 1.757009506225586 Centro Sur Rancagua\n",
      "tiempo que lleva corriendo 11.75811715523402 Min\n"
     ]
    },
    {
     "name": "stderr",
     "output_type": "stream",
     "text": [
      "INFO:fbprophet:Disabling daily seasonality. Run prophet with daily_seasonality=True to override this.\n"
     ]
    },
    {
     "name": "stdout",
     "output_type": "stream",
     "text": [
      "El producto demoró 1.8065524101257324 Centro Sur Rancagua\n",
      "tiempo que lleva corriendo 11.78825136423111 Min\n"
     ]
    },
    {
     "name": "stderr",
     "output_type": "stream",
     "text": [
      "INFO:fbprophet:Disabling daily seasonality. Run prophet with daily_seasonality=True to override this.\n"
     ]
    },
    {
     "name": "stdout",
     "output_type": "stream",
     "text": [
      "El producto demoró 1.5443270206451416 Centro Sur Rancagua\n",
      "tiempo que lleva corriendo 11.814015165964763 Min\n"
     ]
    },
    {
     "name": "stderr",
     "output_type": "stream",
     "text": [
      "INFO:fbprophet:Disabling daily seasonality. Run prophet with daily_seasonality=True to override this.\n"
     ]
    },
    {
     "name": "stdout",
     "output_type": "stream",
     "text": [
      "El producto demoró 1.806551456451416 Centro Sur Rancagua\n",
      "tiempo que lleva corriendo 11.844141042232513 Min\n"
     ]
    },
    {
     "name": "stderr",
     "output_type": "stream",
     "text": [
      "INFO:fbprophet:Disabling daily seasonality. Run prophet with daily_seasonality=True to override this.\n"
     ]
    },
    {
     "name": "stdout",
     "output_type": "stream",
     "text": [
      "El producto demoró 1.4652588367462158 Centro Sur Rancagua\n",
      "tiempo que lleva corriendo 11.868587044874827 Min\n"
     ]
    },
    {
     "name": "stderr",
     "output_type": "stream",
     "text": [
      "INFO:fbprophet:Disabling daily seasonality. Run prophet with daily_seasonality=True to override this.\n"
     ]
    },
    {
     "name": "stdout",
     "output_type": "stream",
     "text": [
      "El producto demoró 1.6569232940673828 Centro Sur Rancagua\n",
      "tiempo que lleva corriendo 11.896227447191874 Min\n"
     ]
    },
    {
     "name": "stderr",
     "output_type": "stream",
     "text": [
      "INFO:fbprophet:Disabling daily seasonality. Run prophet with daily_seasonality=True to override this.\n"
     ]
    },
    {
     "name": "stdout",
     "output_type": "stream",
     "text": [
      "El producto demoró 1.6989593505859375 Centro Sur Rancagua\n",
      "tiempo que lleva corriendo 11.924560121695201 Min\n"
     ]
    },
    {
     "name": "stderr",
     "output_type": "stream",
     "text": [
      "INFO:fbprophet:Disabling daily seasonality. Run prophet with daily_seasonality=True to override this.\n"
     ]
    },
    {
     "name": "stdout",
     "output_type": "stream",
     "text": [
      "El producto demoró 1.6098835468292236 Centro Sur Rancagua\n",
      "tiempo que lleva corriendo 11.95141652027766 Min\n"
     ]
    },
    {
     "name": "stderr",
     "output_type": "stream",
     "text": [
      "INFO:fbprophet:Disabling daily seasonality. Run prophet with daily_seasonality=True to override this.\n"
     ]
    },
    {
     "name": "stdout",
     "output_type": "stream",
     "text": [
      "El producto demoró 1.4917821884155273 Centro Sur Rancagua\n",
      "tiempo que lleva corriendo 11.976287897427877 Min\n"
     ]
    },
    {
     "name": "stderr",
     "output_type": "stream",
     "text": [
      "INFO:fbprophet:Disabling daily seasonality. Run prophet with daily_seasonality=True to override this.\n"
     ]
    },
    {
     "name": "stdout",
     "output_type": "stream",
     "text": [
      "El producto demoró 1.6839470863342285 Centro Sur Rancagua\n",
      "tiempo que lleva corriendo 12.004378692309063 Min\n"
     ]
    },
    {
     "name": "stderr",
     "output_type": "stream",
     "text": [
      "INFO:fbprophet:Disabling daily seasonality. Run prophet with daily_seasonality=True to override this.\n"
     ]
    },
    {
     "name": "stdout",
     "output_type": "stream",
     "text": [
      "El producto demoró 1.2410657405853271 Centro Sur Rancagua\n",
      "tiempo que lleva corriendo 12.025163213411966 Min\n"
     ]
    },
    {
     "name": "stderr",
     "output_type": "stream",
     "text": [
      "INFO:fbprophet:Disabling daily seasonality. Run prophet with daily_seasonality=True to override this.\n"
     ]
    },
    {
     "name": "stdout",
     "output_type": "stream",
     "text": [
      "El producto demoró 1.5363194942474365 Centro Sur Rancagua\n",
      "tiempo que lleva corriendo 12.050785223642984 Min\n"
     ]
    },
    {
     "name": "stderr",
     "output_type": "stream",
     "text": [
      "INFO:fbprophet:Disabling daily seasonality. Run prophet with daily_seasonality=True to override this.\n"
     ]
    },
    {
     "name": "stdout",
     "output_type": "stream",
     "text": [
      "El producto demoró 1.614886999130249 Centro Sur Rancagua\n",
      "tiempo que lleva corriendo 12.077716688315073 Min\n"
     ]
    },
    {
     "name": "stderr",
     "output_type": "stream",
     "text": [
      "INFO:fbprophet:Disabling daily seasonality. Run prophet with daily_seasonality=True to override this.\n"
     ]
    },
    {
     "name": "stdout",
     "output_type": "stream",
     "text": [
      "El producto demoró 1.4742670059204102 Centro Sur Rancagua\n",
      "tiempo que lleva corriendo 12.10232949256897 Min\n"
     ]
    },
    {
     "name": "stderr",
     "output_type": "stream",
     "text": [
      "INFO:fbprophet:Disabling daily seasonality. Run prophet with daily_seasonality=True to override this.\n"
     ]
    },
    {
     "name": "stdout",
     "output_type": "stream",
     "text": [
      "El producto demoró 1.7089693546295166 Centro Sur Rancagua\n",
      "tiempo que lleva corriendo 12.130828976631165 Min\n"
     ]
    },
    {
     "name": "stderr",
     "output_type": "stream",
     "text": [
      "INFO:fbprophet:Disabling daily seasonality. Run prophet with daily_seasonality=True to override this.\n"
     ]
    },
    {
     "name": "stdout",
     "output_type": "stream",
     "text": [
      "El producto demoró 1.4827735424041748 Centro Sur Rancagua\n",
      "tiempo que lleva corriendo 12.15555856625239 Min\n"
     ]
    },
    {
     "name": "stderr",
     "output_type": "stream",
     "text": [
      "INFO:fbprophet:Disabling daily seasonality. Run prophet with daily_seasonality=True to override this.\n"
     ]
    },
    {
     "name": "stdout",
     "output_type": "stream",
     "text": [
      "El producto demoró 1.5843617916107178 Centro Sur Rancagua\n",
      "tiempo que lleva corriendo 12.181989598274232 Min\n"
     ]
    },
    {
     "name": "stderr",
     "output_type": "stream",
     "text": [
      "INFO:fbprophet:Disabling daily seasonality. Run prophet with daily_seasonality=True to override this.\n"
     ]
    },
    {
     "name": "stdout",
     "output_type": "stream",
     "text": [
      "El producto demoró 1.636906385421753 Centro Sur Rancagua\n",
      "tiempo que lleva corriendo 12.20927971204122 Min\n"
     ]
    },
    {
     "name": "stderr",
     "output_type": "stream",
     "text": [
      "INFO:fbprophet:Disabling daily seasonality. Run prophet with daily_seasonality=True to override this.\n"
     ]
    },
    {
     "name": "stdout",
     "output_type": "stream",
     "text": [
      "El producto demoró 1.6954562664031982 Centro Sur Rancagua\n",
      "tiempo que lleva corriendo 12.237553989887237 Min\n"
     ]
    },
    {
     "name": "stderr",
     "output_type": "stream",
     "text": [
      "INFO:fbprophet:Disabling daily seasonality. Run prophet with daily_seasonality=True to override this.\n"
     ]
    },
    {
     "name": "stdout",
     "output_type": "stream",
     "text": [
      "El producto demoró 1.448744297027588 Centro Sur Rancagua\n",
      "tiempo que lleva corriendo 12.26172475417455 Min\n"
     ]
    },
    {
     "name": "stderr",
     "output_type": "stream",
     "text": [
      "INFO:fbprophet:Disabling daily seasonality. Run prophet with daily_seasonality=True to override this.\n"
     ]
    },
    {
     "name": "stdout",
     "output_type": "stream",
     "text": [
      "El producto demoró 1.5528342723846436 Centro Sur Rancagua\n",
      "tiempo que lleva corriendo 12.287621998786927 Min\n"
     ]
    },
    {
     "name": "stderr",
     "output_type": "stream",
     "text": [
      "INFO:fbprophet:Disabling daily seasonality. Run prophet with daily_seasonality=True to override this.\n"
     ]
    },
    {
     "name": "stdout",
     "output_type": "stream",
     "text": [
      "El producto demoró 1.3086249828338623 Centro Sur Rancagua\n",
      "tiempo que lleva corriendo 12.309440743923187 Min\n"
     ]
    },
    {
     "name": "stderr",
     "output_type": "stream",
     "text": [
      "INFO:fbprophet:Disabling daily seasonality. Run prophet with daily_seasonality=True to override this.\n"
     ]
    },
    {
     "name": "stdout",
     "output_type": "stream",
     "text": [
      "El producto demoró 1.780029296875 Centro Sur Rancagua\n",
      "tiempo que lleva corriendo 12.339216323693593 Min\n",
      "El producto demoró 0.005003690719604492 Centro Sur Rancagua\n",
      "tiempo que lleva corriendo 12.3393164118131 Min\n",
      "El producto demoró 0.005004167556762695 Centro Sur Rancagua\n",
      "tiempo que lleva corriendo 12.339408151308696 Min\n"
     ]
    },
    {
     "name": "stderr",
     "output_type": "stream",
     "text": [
      "INFO:fbprophet:Disabling daily seasonality. Run prophet with daily_seasonality=True to override this.\n"
     ]
    },
    {
     "name": "stdout",
     "output_type": "stream",
     "text": [
      "El producto demoró 1.5888659954071045 Centro Sur Rancagua\n",
      "tiempo que lleva corriendo 12.36591425339381 Min\n"
     ]
    },
    {
     "name": "stderr",
     "output_type": "stream",
     "text": [
      "INFO:fbprophet:Disabling daily seasonality. Run prophet with daily_seasonality=True to override this.\n"
     ]
    },
    {
     "name": "stdout",
     "output_type": "stream",
     "text": [
      "El producto demoró 1.3191337585449219 Centro Sur Rancagua\n",
      "tiempo que lleva corriendo 12.387916493415833 Min\n"
     ]
    },
    {
     "name": "stderr",
     "output_type": "stream",
     "text": [
      "INFO:fbprophet:Disabling daily seasonality. Run prophet with daily_seasonality=True to override this.\n"
     ]
    },
    {
     "name": "stdout",
     "output_type": "stream",
     "text": [
      "El producto demoró 1.5848612785339355 Centro Sur Rancagua\n",
      "tiempo que lleva corriendo 12.414339196681976 Min\n"
     ]
    },
    {
     "name": "stderr",
     "output_type": "stream",
     "text": [
      "INFO:fbprophet:Disabling daily seasonality. Run prophet with daily_seasonality=True to override this.\n"
     ]
    },
    {
     "name": "stdout",
     "output_type": "stream",
     "text": [
      "El producto demoró 1.5658462047576904 Centro Sur Rancagua\n",
      "tiempo que lleva corriendo 12.440469964345295 Min\n"
     ]
    },
    {
     "name": "stderr",
     "output_type": "stream",
     "text": [
      "INFO:fbprophet:Disabling daily seasonality. Run prophet with daily_seasonality=True to override this.\n"
     ]
    },
    {
     "name": "stdout",
     "output_type": "stream",
     "text": [
      "El producto demoró 1.6198925971984863 Centro Sur Rancagua\n",
      "tiempo que lleva corriendo 12.467484839757283 Min\n"
     ]
    },
    {
     "name": "stderr",
     "output_type": "stream",
     "text": [
      "INFO:fbprophet:Disabling daily seasonality. Run prophet with daily_seasonality=True to override this.\n"
     ]
    },
    {
     "name": "stdout",
     "output_type": "stream",
     "text": [
      "El producto demoró 1.9091403484344482 Centro Sur Rancagua\n",
      "tiempo que lleva corriendo 12.499320522944133 Min\n"
     ]
    },
    {
     "name": "stderr",
     "output_type": "stream",
     "text": [
      "INFO:fbprophet:Disabling daily seasonality. Run prophet with daily_seasonality=True to override this.\n"
     ]
    },
    {
     "name": "stdout",
     "output_type": "stream",
     "text": [
      "El producto demoró 1.7615134716033936 Centro Sur Rancagua\n",
      "tiempo que lleva corriendo 12.52870409488678 Min\n"
     ]
    },
    {
     "name": "stderr",
     "output_type": "stream",
     "text": [
      "INFO:fbprophet:Disabling daily seasonality. Run prophet with daily_seasonality=True to override this.\n"
     ]
    },
    {
     "name": "stdout",
     "output_type": "stream",
     "text": [
      "El producto demoró 1.3316447734832764 Centro Sur Rancagua\n",
      "tiempo que lleva corriendo 12.5509148478508 Min\n",
      "El producto demoró 0.005003929138183594 Centro Sur Rancagua\n",
      "tiempo que lleva corriendo 12.550998246669769 Min\n",
      "El producto demoró 0.005004167556762695 Centro Sur Rancagua\n",
      "tiempo que lleva corriendo 12.551089990139008 Min\n",
      "El producto demoró 0.0035033226013183594 Centro Sur Rancagua\n",
      "tiempo que lleva corriendo 12.551231777667999 Min\n"
     ]
    },
    {
     "name": "stderr",
     "output_type": "stream",
     "text": [
      "INFO:fbprophet:Disabling daily seasonality. Run prophet with daily_seasonality=True to override this.\n"
     ]
    },
    {
     "name": "stdout",
     "output_type": "stream",
     "text": [
      "El producto demoró 2.644773006439209 Centro Sur Rancagua\n",
      "tiempo que lleva corriendo 12.595327989260356 Min\n",
      "El producto demoró 0.0035026073455810547 Centro Sur Rancagua\n",
      "tiempo que lleva corriendo 12.595403055349985 Min\n",
      "El producto demoró 0.0030031204223632812 Centro Sur Rancagua\n",
      "tiempo que lleva corriendo 12.595478125413258 Min\n"
     ]
    },
    {
     "name": "stderr",
     "output_type": "stream",
     "text": [
      "INFO:fbprophet:Disabling daily seasonality. Run prophet with daily_seasonality=True to override this.\n"
     ]
    },
    {
     "name": "stdout",
     "output_type": "stream",
     "text": [
      "El producto demoró 2.2834620475769043 Centro Sur Rancagua\n",
      "tiempo que lleva corriendo 12.633544158935546 Min\n",
      "El producto demoró 0.004003286361694336 Centro Sur Rancagua\n",
      "tiempo que lleva corriendo 12.633619217077891 Min\n",
      "Talca\n"
     ]
    },
    {
     "name": "stderr",
     "output_type": "stream",
     "text": [
      "INFO:fbprophet:Disabling daily seasonality. Run prophet with daily_seasonality=True to override this.\n"
     ]
    },
    {
     "name": "stdout",
     "output_type": "stream",
     "text": [
      "El producto demoró 1.5728511810302734 Centro Sur Talca\n",
      "tiempo que lleva corriendo 12.66031715075175 Min\n"
     ]
    },
    {
     "name": "stderr",
     "output_type": "stream",
     "text": [
      "INFO:fbprophet:Disabling daily seasonality. Run prophet with daily_seasonality=True to override this.\n"
     ]
    },
    {
     "name": "stdout",
     "output_type": "stream",
     "text": [
      "El producto demoró 1.679943323135376 Centro Sur Talca\n",
      "tiempo que lleva corriendo 12.688324546813964 Min\n"
     ]
    },
    {
     "name": "stderr",
     "output_type": "stream",
     "text": [
      "INFO:fbprophet:Disabling daily seasonality. Run prophet with daily_seasonality=True to override this.\n"
     ]
    },
    {
     "name": "stdout",
     "output_type": "stream",
     "text": [
      "El producto demoró 1.5588393211364746 Centro Sur Talca\n",
      "tiempo que lleva corriendo 12.71433021624883 Min\n"
     ]
    },
    {
     "name": "stderr",
     "output_type": "stream",
     "text": [
      "INFO:fbprophet:Disabling daily seasonality. Run prophet with daily_seasonality=True to override this.\n"
     ]
    },
    {
     "name": "stdout",
     "output_type": "stream",
     "text": [
      "El producto demoró 1.5448274612426758 Centro Sur Talca\n",
      "tiempo que lleva corriendo 12.740102354685465 Min\n"
     ]
    },
    {
     "name": "stderr",
     "output_type": "stream",
     "text": [
      "INFO:fbprophet:Disabling daily seasonality. Run prophet with daily_seasonality=True to override this.\n"
     ]
    },
    {
     "name": "stdout",
     "output_type": "stream",
     "text": [
      "El producto demoró 1.6929547786712646 Centro Sur Talca\n",
      "tiempo que lleva corriendo 12.768334941069286 Min\n"
     ]
    },
    {
     "name": "stderr",
     "output_type": "stream",
     "text": [
      "INFO:fbprophet:Disabling daily seasonality. Run prophet with daily_seasonality=True to override this.\n"
     ]
    },
    {
     "name": "stdout",
     "output_type": "stream",
     "text": [
      "El producto demoró 1.8005468845367432 Centro Sur Talca\n",
      "tiempo que lleva corriendo 12.79835239648819 Min\n"
     ]
    },
    {
     "name": "stderr",
     "output_type": "stream",
     "text": [
      "INFO:fbprophet:Disabling daily seasonality. Run prophet with daily_seasonality=True to override this.\n"
     ]
    },
    {
     "name": "stdout",
     "output_type": "stream",
     "text": [
      "El producto demoró 1.5278127193450928 Centro Sur Talca\n",
      "tiempo que lleva corriendo 12.82383262316386 Min\n"
     ]
    },
    {
     "name": "stderr",
     "output_type": "stream",
     "text": [
      "INFO:fbprophet:Disabling daily seasonality. Run prophet with daily_seasonality=True to override this.\n"
     ]
    },
    {
     "name": "stdout",
     "output_type": "stream",
     "text": [
      "El producto demoró 1.5873639583587646 Centro Sur Talca\n",
      "tiempo que lleva corriendo 12.85030536254247 Min\n"
     ]
    },
    {
     "name": "stderr",
     "output_type": "stream",
     "text": [
      "INFO:fbprophet:Disabling daily seasonality. Run prophet with daily_seasonality=True to override this.\n"
     ]
    },
    {
     "name": "stdout",
     "output_type": "stream",
     "text": [
      "El producto demoró 1.665431261062622 Centro Sur Talca\n",
      "tiempo que lleva corriendo 12.878095897038778 Min\n"
     ]
    },
    {
     "name": "stderr",
     "output_type": "stream",
     "text": [
      "INFO:fbprophet:Disabling daily seasonality. Run prophet with daily_seasonality=True to override this.\n"
     ]
    },
    {
     "name": "stdout",
     "output_type": "stream",
     "text": [
      "El producto demoró 2.2474310398101807 Centro Sur Talca\n",
      "tiempo que lleva corriendo 12.915569754441579 Min\n"
     ]
    },
    {
     "name": "stderr",
     "output_type": "stream",
     "text": [
      "INFO:fbprophet:Disabling daily seasonality. Run prophet with daily_seasonality=True to override this.\n"
     ]
    },
    {
     "name": "stdout",
     "output_type": "stream",
     "text": [
      "El producto demoró 1.5248098373413086 Centro Sur Talca\n",
      "tiempo que lleva corriendo 12.940999933083852 Min\n"
     ]
    },
    {
     "name": "stderr",
     "output_type": "stream",
     "text": [
      "INFO:fbprophet:Disabling daily seasonality. Run prophet with daily_seasonality=True to override this.\n"
     ]
    },
    {
     "name": "stdout",
     "output_type": "stream",
     "text": [
      "El producto demoró 1.61989164352417 Centro Sur Talca\n",
      "tiempo que lleva corriendo 12.968014800548554 Min\n"
     ]
    },
    {
     "name": "stderr",
     "output_type": "stream",
     "text": [
      "INFO:fbprophet:Disabling daily seasonality. Run prophet with daily_seasonality=True to override this.\n"
     ]
    },
    {
     "name": "stdout",
     "output_type": "stream",
     "text": [
      "El producto demoró 1.5518336296081543 Centro Sur Talca\n",
      "tiempo que lleva corriendo 12.993895367781322 Min\n"
     ]
    },
    {
     "name": "stderr",
     "output_type": "stream",
     "text": [
      "INFO:fbprophet:Disabling daily seasonality. Run prophet with daily_seasonality=True to override this.\n"
     ]
    },
    {
     "name": "stdout",
     "output_type": "stream",
     "text": [
      "El producto demoró 1.347658634185791 Centro Sur Talca\n",
      "tiempo que lleva corriendo 13.01648144721985 Min\n"
     ]
    },
    {
     "name": "stderr",
     "output_type": "stream",
     "text": [
      "INFO:fbprophet:Disabling daily seasonality. Run prophet with daily_seasonality=True to override this.\n"
     ]
    },
    {
     "name": "stdout",
     "output_type": "stream",
     "text": [
      "El producto demoró 1.523308515548706 Centro Sur Talca\n",
      "tiempo que lleva corriendo 13.04189494450887 Min\n"
     ]
    },
    {
     "name": "stderr",
     "output_type": "stream",
     "text": [
      "INFO:fbprophet:Disabling daily seasonality. Run prophet with daily_seasonality=True to override this.\n"
     ]
    },
    {
     "name": "stdout",
     "output_type": "stream",
     "text": [
      "El producto demoró 1.4302289485931396 Centro Sur Talca\n",
      "tiempo que lleva corriendo 13.06575710773468 Min\n"
     ]
    },
    {
     "name": "stderr",
     "output_type": "stream",
     "text": [
      "INFO:fbprophet:Disabling daily seasonality. Run prophet with daily_seasonality=True to override this.\n"
     ]
    },
    {
     "name": "stdout",
     "output_type": "stream",
     "text": [
      "El producto demoró 1.7049648761749268 Centro Sur Talca\n",
      "tiempo que lleva corriendo 13.094198195139567 Min\n"
     ]
    },
    {
     "name": "stderr",
     "output_type": "stream",
     "text": [
      "INFO:fbprophet:Disabling daily seasonality. Run prophet with daily_seasonality=True to override this.\n"
     ]
    },
    {
     "name": "stdout",
     "output_type": "stream",
     "text": [
      "El producto demoró 1.7129721641540527 Centro Sur Talca\n",
      "tiempo que lleva corriendo 13.122764416535695 Min\n"
     ]
    },
    {
     "name": "stderr",
     "output_type": "stream",
     "text": [
      "INFO:fbprophet:Disabling daily seasonality. Run prophet with daily_seasonality=True to override this.\n"
     ]
    },
    {
     "name": "stdout",
     "output_type": "stream",
     "text": [
      "El producto demoró 1.4012045860290527 Centro Sur Talca\n",
      "tiempo que lleva corriendo 13.146142824490864 Min\n"
     ]
    },
    {
     "name": "stderr",
     "output_type": "stream",
     "text": [
      "INFO:fbprophet:Disabling daily seasonality. Run prophet with daily_seasonality=True to override this.\n"
     ]
    },
    {
     "name": "stdout",
     "output_type": "stream",
     "text": [
      "El producto demoró 1.6123840808868408 Centro Sur Talca\n",
      "tiempo que lleva corriendo 13.173040926456451 Min\n"
     ]
    },
    {
     "name": "stderr",
     "output_type": "stream",
     "text": [
      "INFO:fbprophet:Disabling daily seasonality. Run prophet with daily_seasonality=True to override this.\n"
     ]
    },
    {
     "name": "stdout",
     "output_type": "stream",
     "text": [
      "El producto demoró 1.4662599563598633 Centro Sur Talca\n",
      "tiempo que lleva corriendo 13.197495269775391 Min\n"
     ]
    },
    {
     "name": "stderr",
     "output_type": "stream",
     "text": [
      "INFO:fbprophet:Disabling daily seasonality. Run prophet with daily_seasonality=True to override this.\n"
     ]
    },
    {
     "name": "stdout",
     "output_type": "stream",
     "text": [
      "El producto demoró 1.6479156017303467 Centro Sur Talca\n",
      "tiempo que lleva corriendo 13.224977207183837 Min\n"
     ]
    },
    {
     "name": "stderr",
     "output_type": "stream",
     "text": [
      "INFO:fbprophet:Disabling daily seasonality. Run prophet with daily_seasonality=True to override this.\n"
     ]
    },
    {
     "name": "stdout",
     "output_type": "stream",
     "text": [
      "El producto demoró 1.5613420009613037 Centro Sur Talca\n",
      "tiempo que lleva corriendo 13.251024587949116 Min\n"
     ]
    },
    {
     "name": "stderr",
     "output_type": "stream",
     "text": [
      "INFO:fbprophet:Disabling daily seasonality. Run prophet with daily_seasonality=True to override this.\n"
     ]
    },
    {
     "name": "stdout",
     "output_type": "stream",
     "text": [
      "El producto demoró 1.731987714767456 Centro Sur Talca\n",
      "tiempo que lleva corriendo 13.279899394512176 Min\n",
      "El producto demoró 0.0055043697357177734 Centro Sur Talca\n",
      "tiempo que lleva corriendo 13.279999474684397 Min\n"
     ]
    },
    {
     "name": "stderr",
     "output_type": "stream",
     "text": [
      "INFO:fbprophet:Disabling daily seasonality. Run prophet with daily_seasonality=True to override this.\n"
     ]
    },
    {
     "name": "stdout",
     "output_type": "stream",
     "text": [
      "El producto demoró 1.4427404403686523 Centro Sur Talca\n",
      "tiempo que lleva corriendo 13.304145224889119 Min\n",
      "El producto demoró 0.004003047943115234 Centro Sur Talca\n",
      "tiempo que lleva corriendo 13.304228627681733 Min\n"
     ]
    },
    {
     "name": "stderr",
     "output_type": "stream",
     "text": [
      "INFO:fbprophet:Disabling daily seasonality. Run prophet with daily_seasonality=True to override this.\n"
     ]
    },
    {
     "name": "stdout",
     "output_type": "stream",
     "text": [
      "El producto demoró 1.3576667308807373 Centro Sur Talca\n",
      "tiempo que lleva corriendo 13.326873075962066 Min\n"
     ]
    },
    {
     "name": "stderr",
     "output_type": "stream",
     "text": [
      "INFO:fbprophet:Disabling daily seasonality. Run prophet with daily_seasonality=True to override this.\n"
     ]
    },
    {
     "name": "stdout",
     "output_type": "stream",
     "text": [
      "El producto demoró 1.359668254852295 Centro Sur Talca\n",
      "tiempo que lleva corriendo 13.349550886948903 Min\n"
     ]
    },
    {
     "name": "stderr",
     "output_type": "stream",
     "text": [
      "INFO:fbprophet:Disabling daily seasonality. Run prophet with daily_seasonality=True to override this.\n"
     ]
    },
    {
     "name": "stdout",
     "output_type": "stream",
     "text": [
      "El producto demoró 1.6759400367736816 Centro Sur Talca\n",
      "tiempo que lleva corriendo 13.377508234977721 Min\n"
     ]
    },
    {
     "name": "stderr",
     "output_type": "stream",
     "text": [
      "INFO:fbprophet:Disabling daily seasonality. Run prophet with daily_seasonality=True to override this.\n"
     ]
    },
    {
     "name": "stdout",
     "output_type": "stream",
     "text": [
      "El producto demoró 1.3706774711608887 Centro Sur Talca\n",
      "tiempo que lleva corriendo 13.400377877553304 Min\n",
      "El producto demoró 0.00450444221496582 Centro Sur Talca\n",
      "tiempo que lleva corriendo 13.400469624996186 Min\n"
     ]
    },
    {
     "name": "stderr",
     "output_type": "stream",
     "text": [
      "INFO:fbprophet:Disabling daily seasonality. Run prophet with daily_seasonality=True to override this.\n"
     ]
    },
    {
     "name": "stdout",
     "output_type": "stream",
     "text": [
      "El producto demoró 1.379185676574707 Centro Sur Talca\n",
      "tiempo que lleva corriendo 13.423481070995331 Min\n"
     ]
    },
    {
     "name": "stderr",
     "output_type": "stream",
     "text": [
      "INFO:fbprophet:Disabling daily seasonality. Run prophet with daily_seasonality=True to override this.\n"
     ]
    },
    {
     "name": "stdout",
     "output_type": "stream",
     "text": [
      "El producto demoró 1.6003756523132324 Centro Sur Talca\n",
      "tiempo que lleva corriendo 13.450178996721904 Min\n"
     ]
    },
    {
     "name": "stderr",
     "output_type": "stream",
     "text": [
      "INFO:fbprophet:Disabling daily seasonality. Run prophet with daily_seasonality=True to override this.\n"
     ]
    },
    {
     "name": "stdout",
     "output_type": "stream",
     "text": [
      "El producto demoró 1.8075532913208008 Centro Sur Talca\n",
      "tiempo que lleva corriendo 13.480321554342906 Min\n"
     ]
    },
    {
     "name": "stderr",
     "output_type": "stream",
     "text": [
      "INFO:fbprophet:Disabling daily seasonality. Run prophet with daily_seasonality=True to override this.\n"
     ]
    },
    {
     "name": "stdout",
     "output_type": "stream",
     "text": [
      "El producto demoró 1.4832744598388672 Centro Sur Talca\n",
      "tiempo que lleva corriendo 13.50506780942281 Min\n"
     ]
    },
    {
     "name": "stderr",
     "output_type": "stream",
     "text": [
      "INFO:fbprophet:Disabling daily seasonality. Run prophet with daily_seasonality=True to override this.\n"
     ]
    },
    {
     "name": "stdout",
     "output_type": "stream",
     "text": [
      "El producto demoró 1.6319019794464111 Centro Sur Talca\n",
      "tiempo que lleva corriendo 13.532282865047454 Min\n",
      "El producto demoró 1.470764398574829 Centro Sur Talca\n",
      "tiempo que lleva corriendo 13.55681227048238 Min\n",
      "El producto demoró 0.0035028457641601562 Centro Sur Talca\n",
      "tiempo que lleva corriendo 13.556962390740713 Min\n",
      "Sur\n",
      "Castro\n"
     ]
    },
    {
     "name": "stderr",
     "output_type": "stream",
     "text": [
      "INFO:fbprophet:Disabling daily seasonality. Run prophet with daily_seasonality=True to override this.\n",
      "INFO:fbprophet:Disabling daily seasonality. Run prophet with daily_seasonality=True to override this.\n"
     ]
    },
    {
     "name": "stdout",
     "output_type": "stream",
     "text": [
      "El producto demoró 1.3401517868041992 Sur Castro\n",
      "tiempo que lleva corriendo 13.582417587439219 Min\n"
     ]
    },
    {
     "name": "stderr",
     "output_type": "stream",
     "text": [
      "INFO:fbprophet:Disabling daily seasonality. Run prophet with daily_seasonality=True to override this.\n"
     ]
    },
    {
     "name": "stdout",
     "output_type": "stream",
     "text": [
      "El producto demoró 1.5628430843353271 Sur Castro\n",
      "tiempo que lleva corriendo 13.608481641610464 Min\n"
     ]
    },
    {
     "name": "stderr",
     "output_type": "stream",
     "text": [
      "INFO:fbprophet:Disabling daily seasonality. Run prophet with daily_seasonality=True to override this.\n"
     ]
    },
    {
     "name": "stdout",
     "output_type": "stream",
     "text": [
      "El producto demoró 1.5498313903808594 Sur Castro\n",
      "tiempo que lleva corriendo 13.634337190786997 Min\n"
     ]
    },
    {
     "name": "stderr",
     "output_type": "stream",
     "text": [
      "INFO:fbprophet:Disabling daily seasonality. Run prophet with daily_seasonality=True to override this.\n"
     ]
    },
    {
     "name": "stdout",
     "output_type": "stream",
     "text": [
      "El producto demoró 1.5873644351959229 Sur Castro\n",
      "tiempo que lleva corriendo 13.660809934139252 Min\n"
     ]
    },
    {
     "name": "stderr",
     "output_type": "stream",
     "text": [
      "INFO:fbprophet:Disabling daily seasonality. Run prophet with daily_seasonality=True to override this.\n"
     ]
    },
    {
     "name": "stdout",
     "output_type": "stream",
     "text": [
      "El producto demoró 1.4517476558685303 Sur Castro\n",
      "tiempo que lleva corriendo 13.685022397836049 Min\n"
     ]
    },
    {
     "name": "stderr",
     "output_type": "stream",
     "text": [
      "INFO:fbprophet:Disabling daily seasonality. Run prophet with daily_seasonality=True to override this.\n"
     ]
    },
    {
     "name": "stdout",
     "output_type": "stream",
     "text": [
      "El producto demoró 1.4142158031463623 Sur Castro\n",
      "tiempo que lleva corriendo 13.708626008033752 Min\n"
     ]
    },
    {
     "name": "stderr",
     "output_type": "stream",
     "text": [
      "INFO:fbprophet:Disabling daily seasonality. Run prophet with daily_seasonality=True to override this.\n"
     ]
    },
    {
     "name": "stdout",
     "output_type": "stream",
     "text": [
      "El producto demoró 1.5778553485870361 Sur Castro\n",
      "tiempo que lleva corriendo 13.734948619206746 Min\n"
     ]
    },
    {
     "name": "stderr",
     "output_type": "stream",
     "text": [
      "INFO:fbprophet:Disabling daily seasonality. Run prophet with daily_seasonality=True to override this.\n"
     ]
    },
    {
     "name": "stdout",
     "output_type": "stream",
     "text": [
      "El producto demoró 1.542825698852539 Sur Castro\n",
      "tiempo que lleva corriendo 13.76067906220754 Min\n"
     ]
    },
    {
     "name": "stderr",
     "output_type": "stream",
     "text": [
      "INFO:fbprophet:Disabling daily seasonality. Run prophet with daily_seasonality=True to override this.\n"
     ]
    },
    {
     "name": "stdout",
     "output_type": "stream",
     "text": [
      "El producto demoró 1.588864803314209 Sur Castro\n",
      "tiempo que lleva corriendo 13.787176815668742 Min\n"
     ]
    },
    {
     "name": "stderr",
     "output_type": "stream",
     "text": [
      "INFO:fbprophet:Disabling daily seasonality. Run prophet with daily_seasonality=True to override this.\n"
     ]
    },
    {
     "name": "stdout",
     "output_type": "stream",
     "text": [
      "El producto demoró 1.6974585056304932 Sur Castro\n",
      "tiempo que lleva corriendo 13.815467790762584 Min\n"
     ]
    },
    {
     "name": "stderr",
     "output_type": "stream",
     "text": [
      "INFO:fbprophet:Disabling daily seasonality. Run prophet with daily_seasonality=True to override this.\n"
     ]
    },
    {
     "name": "stdout",
     "output_type": "stream",
     "text": [
      "El producto demoró 1.522808313369751 Sur Castro\n",
      "tiempo que lleva corriendo 13.840872951348622 Min\n"
     ]
    },
    {
     "name": "stderr",
     "output_type": "stream",
     "text": [
      "INFO:fbprophet:Disabling daily seasonality. Run prophet with daily_seasonality=True to override this.\n"
     ]
    },
    {
     "name": "stdout",
     "output_type": "stream",
     "text": [
      "El producto demoró 1.4642581939697266 Sur Castro\n",
      "tiempo que lleva corriendo 13.865302272637685 Min\n"
     ]
    },
    {
     "name": "stderr",
     "output_type": "stream",
     "text": [
      "INFO:fbprophet:Disabling daily seasonality. Run prophet with daily_seasonality=True to override this.\n"
     ]
    },
    {
     "name": "stdout",
     "output_type": "stream",
     "text": [
      "El producto demoró 1.6329035758972168 Sur Castro\n",
      "tiempo que lleva corriendo 13.892534001668293 Min\n"
     ]
    },
    {
     "name": "stderr",
     "output_type": "stream",
     "text": [
      "INFO:fbprophet:Disabling daily seasonality. Run prophet with daily_seasonality=True to override this.\n"
     ]
    },
    {
     "name": "stdout",
     "output_type": "stream",
     "text": [
      "El producto demoró 1.4727652072906494 Sur Castro\n",
      "tiempo que lleva corriendo 13.917171827952068 Min\n"
     ]
    },
    {
     "name": "stderr",
     "output_type": "stream",
     "text": [
      "INFO:fbprophet:Disabling daily seasonality. Run prophet with daily_seasonality=True to override this.\n"
     ]
    },
    {
     "name": "stdout",
     "output_type": "stream",
     "text": [
      "El producto demoró 1.4762682914733887 Sur Castro\n",
      "tiempo que lleva corriendo 13.941801313559214 Min\n"
     ]
    },
    {
     "name": "stderr",
     "output_type": "stream",
     "text": [
      "INFO:fbprophet:Disabling daily seasonality. Run prophet with daily_seasonality=True to override this.\n"
     ]
    },
    {
     "name": "stdout",
     "output_type": "stream",
     "text": [
      "El producto demoró 1.388193130493164 Sur Castro\n",
      "tiempo que lleva corriendo 13.964946190516153 Min\n"
     ]
    },
    {
     "name": "stderr",
     "output_type": "stream",
     "text": [
      "INFO:fbprophet:Disabling daily seasonality. Run prophet with daily_seasonality=True to override this.\n"
     ]
    },
    {
     "name": "stdout",
     "output_type": "stream",
     "text": [
      "El producto demoró 1.4572525024414062 Sur Castro\n",
      "tiempo que lleva corriendo 13.989250401655832 Min\n"
     ]
    },
    {
     "name": "stderr",
     "output_type": "stream",
     "text": [
      "INFO:fbprophet:Disabling daily seasonality. Run prophet with daily_seasonality=True to override this.\n"
     ]
    },
    {
     "name": "stdout",
     "output_type": "stream",
     "text": [
      "El producto demoró 1.347658395767212 Sur Castro\n",
      "tiempo que lleva corriendo 14.011736385027568 Min\n",
      "El producto demoró 0.0035033226013183594 Sur Castro\n",
      "tiempo que lleva corriendo 14.01181978782018 Min\n",
      "El producto demoró 0.0035033226013183594 Sur Castro\n",
      "tiempo que lleva corriendo 14.011894861857096 Min\n"
     ]
    },
    {
     "name": "stderr",
     "output_type": "stream",
     "text": [
      "INFO:fbprophet:Disabling daily seasonality. Run prophet with daily_seasonality=True to override this.\n"
     ]
    },
    {
     "name": "stdout",
     "output_type": "stream",
     "text": [
      "El producto demoró 1.291609287261963 Sur Castro\n",
      "tiempo que lleva corriendo 14.033446701367696 Min\n",
      "El producto demoró 0.0040035247802734375 Sur Castro\n",
      "tiempo que lleva corriendo 14.03353010416031 Min\n"
     ]
    },
    {
     "name": "stderr",
     "output_type": "stream",
     "text": [
      "INFO:fbprophet:Disabling daily seasonality. Run prophet with daily_seasonality=True to override this.\n"
     ]
    },
    {
     "name": "stdout",
     "output_type": "stream",
     "text": [
      "El producto demoró 2.2389228343963623 Sur Castro\n",
      "tiempo que lleva corriendo 14.070870510737102 Min\n",
      "El producto demoró 0.004003286361694336 Sur Castro\n",
      "tiempo que lleva corriendo 14.071012302239735 Min\n"
     ]
    },
    {
     "name": "stderr",
     "output_type": "stream",
     "text": [
      "INFO:fbprophet:Disabling daily seasonality. Run prophet with daily_seasonality=True to override this.\n"
     ]
    },
    {
     "name": "stdout",
     "output_type": "stream",
     "text": [
      "El producto demoró 1.3371493816375732 Sur Castro\n",
      "tiempo que lleva corriendo 14.09331480662028 Min\n"
     ]
    },
    {
     "name": "stderr",
     "output_type": "stream",
     "text": [
      "INFO:fbprophet:Disabling daily seasonality. Run prophet with daily_seasonality=True to override this.\n"
     ]
    },
    {
     "name": "stdout",
     "output_type": "stream",
     "text": [
      "El producto demoró 1.5638444423675537 Sur Castro\n",
      "tiempo que lleva corriendo 14.119403878847757 Min\n"
     ]
    },
    {
     "name": "stderr",
     "output_type": "stream",
     "text": [
      "INFO:fbprophet:Disabling daily seasonality. Run prophet with daily_seasonality=True to override this.\n"
     ]
    },
    {
     "name": "stdout",
     "output_type": "stream",
     "text": [
      "El producto demoró 1.365173101425171 Sur Castro\n",
      "tiempo que lleva corriendo 14.142181770006816 Min\n"
     ]
    },
    {
     "name": "stderr",
     "output_type": "stream",
     "text": [
      "INFO:fbprophet:Disabling daily seasonality. Run prophet with daily_seasonality=True to override this.\n"
     ]
    },
    {
     "name": "stdout",
     "output_type": "stream",
     "text": [
      "El producto demoró 1.2320592403411865 Sur Castro\n",
      "tiempo que lleva corriendo 14.16273276011149 Min\n",
      "El producto demoró 0.0040035247802734375 Sur Castro\n",
      "tiempo que lleva corriendo 14.162824511528015 Min\n"
     ]
    },
    {
     "name": "stderr",
     "output_type": "stream",
     "text": [
      "INFO:fbprophet:Disabling daily seasonality. Run prophet with daily_seasonality=True to override this.\n"
     ]
    },
    {
     "name": "stdout",
     "output_type": "stream",
     "text": [
      "El producto demoró 1.4352331161499023 Sur Castro\n",
      "tiempo que lleva corriendo 14.186770073572795 Min\n",
      "El producto demoró 0.0040035247802734375 Sur Castro\n",
      "tiempo que lleva corriendo 14.186853488286337 Min\n"
     ]
    },
    {
     "name": "stderr",
     "output_type": "stream",
     "text": [
      "INFO:fbprophet:Disabling daily seasonality. Run prophet with daily_seasonality=True to override this.\n"
     ]
    },
    {
     "name": "stdout",
     "output_type": "stream",
     "text": [
      "El producto demoró 2.257939338684082 Sur Castro\n",
      "tiempo que lleva corriendo 14.224502487977345 Min\n"
     ]
    },
    {
     "name": "stderr",
     "output_type": "stream",
     "text": [
      "INFO:fbprophet:Disabling daily seasonality. Run prophet with daily_seasonality=True to override this.\n"
     ]
    },
    {
     "name": "stdout",
     "output_type": "stream",
     "text": [
      "El producto demoró 2.0062246322631836 Sur Castro\n",
      "tiempo que lleva corriendo 14.25795624256134 Min\n",
      "El producto demoró 0.004503488540649414 Sur Castro\n",
      "tiempo que lleva corriendo 14.258039633433023 Min\n"
     ]
    },
    {
     "name": "stderr",
     "output_type": "stream",
     "text": [
      "INFO:fbprophet:Disabling daily seasonality. Run prophet with daily_seasonality=True to override this.\n"
     ]
    },
    {
     "name": "stdout",
     "output_type": "stream",
     "text": [
      "El producto demoró 1.437734842300415 Sur Castro\n",
      "tiempo que lleva corriendo 14.28201856215795 Min\n"
     ]
    },
    {
     "name": "stderr",
     "output_type": "stream",
     "text": [
      "INFO:fbprophet:Disabling daily seasonality. Run prophet with daily_seasonality=True to override this.\n"
     ]
    },
    {
     "name": "stdout",
     "output_type": "stream",
     "text": [
      "El producto demoró 1.3866915702819824 Sur Castro\n",
      "tiempo que lleva corriendo 14.305146769682567 Min\n"
     ]
    },
    {
     "name": "stderr",
     "output_type": "stream",
     "text": [
      "INFO:fbprophet:Disabling daily seasonality. Run prophet with daily_seasonality=True to override this.\n"
     ]
    },
    {
     "name": "stdout",
     "output_type": "stream",
     "text": [
      "El producto demoró 1.296614170074463 Sur Castro\n",
      "tiempo que lleva corriendo 14.32685707807541 Min\n"
     ]
    },
    {
     "name": "stderr",
     "output_type": "stream",
     "text": [
      "INFO:fbprophet:Disabling daily seasonality. Run prophet with daily_seasonality=True to override this.\n"
     ]
    },
    {
     "name": "stdout",
     "output_type": "stream",
     "text": [
      "El producto demoró 1.3301424980163574 Sur Castro\n",
      "tiempo que lleva corriendo 14.34905948638916 Min\n"
     ]
    },
    {
     "name": "stderr",
     "output_type": "stream",
     "text": [
      "INFO:fbprophet:Disabling daily seasonality. Run prophet with daily_seasonality=True to override this.\n"
     ]
    },
    {
     "name": "stdout",
     "output_type": "stream",
     "text": [
      "El producto demoró 1.3731801509857178 Sur Castro\n",
      "tiempo que lleva corriendo 14.371970844268798 Min\n"
     ]
    },
    {
     "name": "stderr",
     "output_type": "stream",
     "text": [
      "INFO:fbprophet:Disabling daily seasonality. Run prophet with daily_seasonality=True to override this.\n"
     ]
    },
    {
     "name": "stdout",
     "output_type": "stream",
     "text": [
      "El producto demoró 1.4417378902435303 Sur Castro\n",
      "tiempo que lleva corriendo 14.396033175786336 Min\n"
     ]
    },
    {
     "name": "stderr",
     "output_type": "stream",
     "text": [
      "INFO:fbprophet:Disabling daily seasonality. Run prophet with daily_seasonality=True to override this.\n"
     ]
    },
    {
     "name": "stdout",
     "output_type": "stream",
     "text": [
      "El producto demoró 1.4312303066253662 Sur Castro\n",
      "tiempo que lleva corriendo 14.419912012418111 Min\n"
     ]
    },
    {
     "name": "stderr",
     "output_type": "stream",
     "text": [
      "INFO:fbprophet:Disabling daily seasonality. Run prophet with daily_seasonality=True to override this.\n"
     ]
    },
    {
     "name": "stdout",
     "output_type": "stream",
     "text": [
      "El producto demoró 1.4587531089782715 Sur Castro\n",
      "tiempo que lleva corriendo 14.444249586264293 Min\n"
     ]
    },
    {
     "name": "stderr",
     "output_type": "stream",
     "text": [
      "INFO:fbprophet:Disabling daily seasonality. Run prophet with daily_seasonality=True to override this.\n"
     ]
    },
    {
     "name": "stdout",
     "output_type": "stream",
     "text": [
      "El producto demoró 1.4632577896118164 Sur Castro\n",
      "tiempo que lleva corriendo 14.468662226200104 Min\n"
     ]
    },
    {
     "name": "stderr",
     "output_type": "stream",
     "text": [
      "INFO:fbprophet:Disabling daily seasonality. Run prophet with daily_seasonality=True to override this.\n"
     ]
    },
    {
     "name": "stdout",
     "output_type": "stream",
     "text": [
      "El producto demoró 1.5618419647216797 Sur Castro\n",
      "tiempo que lleva corriendo 14.494709614912669 Min\n"
     ]
    },
    {
     "name": "stderr",
     "output_type": "stream",
     "text": [
      "INFO:fbprophet:Disabling daily seasonality. Run prophet with daily_seasonality=True to override this.\n"
     ]
    },
    {
     "name": "stdout",
     "output_type": "stream",
     "text": [
      "El producto demoró 1.4817731380462646 Sur Castro\n",
      "tiempo que lleva corriendo 14.519430836041769 Min\n"
     ]
    },
    {
     "name": "stderr",
     "output_type": "stream",
     "text": [
      "INFO:fbprophet:Disabling daily seasonality. Run prophet with daily_seasonality=True to override this.\n"
     ]
    },
    {
     "name": "stdout",
     "output_type": "stream",
     "text": [
      "El producto demoró 1.5708489418029785 Sur Castro\n",
      "tiempo que lleva corriendo 14.545628341039022 Min\n"
     ]
    },
    {
     "name": "stderr",
     "output_type": "stream",
     "text": [
      "INFO:fbprophet:Disabling daily seasonality. Run prophet with daily_seasonality=True to override this.\n"
     ]
    },
    {
     "name": "stdout",
     "output_type": "stream",
     "text": [
      "El producto demoró 1.3606691360473633 Sur Castro\n",
      "tiempo que lleva corriendo 14.568322837352753 Min\n",
      "El producto demoró 0.004504203796386719 Sur Castro\n",
      "tiempo que lleva corriendo 14.56841459274292 Min\n",
      "El producto demoró 0.0045032501220703125 Sur Castro\n",
      "tiempo que lleva corriendo 14.568497983614604 Min\n",
      "Coyhaique\n"
     ]
    },
    {
     "name": "stderr",
     "output_type": "stream",
     "text": [
      "INFO:fbprophet:Disabling daily seasonality. Run prophet with daily_seasonality=True to override this.\n"
     ]
    },
    {
     "name": "stdout",
     "output_type": "stream",
     "text": [
      "El producto demoró 1.391695261001587 Sur Coyhaique\n",
      "tiempo que lleva corriendo 14.59202653169632 Min\n",
      "El producto demoró 0.0050046443939208984 Sur Coyhaique\n",
      "tiempo que lleva corriendo 14.592109942436219 Min\n"
     ]
    },
    {
     "name": "stderr",
     "output_type": "stream",
     "text": [
      "INFO:fbprophet:Disabling daily seasonality. Run prophet with daily_seasonality=True to override this.\n"
     ]
    },
    {
     "name": "stdout",
     "output_type": "stream",
     "text": [
      "El producto demoró 1.342653512954712 Sur Coyhaique\n",
      "tiempo que lleva corriendo 14.61449584166209 Min\n"
     ]
    },
    {
     "name": "stderr",
     "output_type": "stream",
     "text": [
      "INFO:fbprophet:Disabling daily seasonality. Run prophet with daily_seasonality=True to override this.\n"
     ]
    },
    {
     "name": "stdout",
     "output_type": "stream",
     "text": [
      "El producto demoró 1.7465002536773682 Sur Coyhaique\n",
      "tiempo que lleva corriendo 14.64361252784729 Min\n"
     ]
    },
    {
     "name": "stderr",
     "output_type": "stream",
     "text": [
      "INFO:fbprophet:Disabling daily seasonality. Run prophet with daily_seasonality=True to override this.\n"
     ]
    },
    {
     "name": "stdout",
     "output_type": "stream",
     "text": [
      "El producto demoró 1.400702714920044 Sur Coyhaique\n",
      "tiempo que lleva corriendo 14.66697424252828 Min\n"
     ]
    },
    {
     "name": "stderr",
     "output_type": "stream",
     "text": [
      "INFO:fbprophet:Disabling daily seasonality. Run prophet with daily_seasonality=True to override this.\n"
     ]
    },
    {
     "name": "stdout",
     "output_type": "stream",
     "text": [
      "El producto demoró 1.364673137664795 Sur Coyhaique\n",
      "tiempo que lleva corriendo 14.689735464255016 Min\n"
     ]
    },
    {
     "name": "stderr",
     "output_type": "stream",
     "text": [
      "INFO:fbprophet:Disabling daily seasonality. Run prophet with daily_seasonality=True to override this.\n"
     ]
    },
    {
     "name": "stdout",
     "output_type": "stream",
     "text": [
      "El producto demoró 1.4722654819488525 Sur Coyhaique\n",
      "tiempo que lleva corriendo 14.714289891719819 Min\n"
     ]
    },
    {
     "name": "stderr",
     "output_type": "stream",
     "text": [
      "INFO:fbprophet:Disabling daily seasonality. Run prophet with daily_seasonality=True to override this.\n"
     ]
    },
    {
     "name": "stdout",
     "output_type": "stream",
     "text": [
      "El producto demoró 1.5378212928771973 Sur Coyhaique\n",
      "tiempo que lleva corriendo 14.73992858727773 Min\n"
     ]
    },
    {
     "name": "stderr",
     "output_type": "stream",
     "text": [
      "INFO:fbprophet:Disabling daily seasonality. Run prophet with daily_seasonality=True to override this.\n"
     ]
    },
    {
     "name": "stdout",
     "output_type": "stream",
     "text": [
      "El producto demoró 1.3751816749572754 Sur Coyhaique\n",
      "tiempo que lleva corriendo 14.762873287995657 Min\n"
     ]
    },
    {
     "name": "stderr",
     "output_type": "stream",
     "text": [
      "INFO:fbprophet:Disabling daily seasonality. Run prophet with daily_seasonality=True to override this.\n"
     ]
    },
    {
     "name": "stdout",
     "output_type": "stream",
     "text": [
      "El producto demoró 1.2710928916931152 Sur Coyhaique\n",
      "tiempo que lleva corriendo 14.784074850877126 Min\n"
     ]
    },
    {
     "name": "stderr",
     "output_type": "stream",
     "text": [
      "INFO:fbprophet:Disabling daily seasonality. Run prophet with daily_seasonality=True to override this.\n"
     ]
    },
    {
     "name": "stdout",
     "output_type": "stream",
     "text": [
      "El producto demoró 1.3396515846252441 Sur Coyhaique\n",
      "tiempo que lleva corriendo 14.806460734208425 Min\n"
     ]
    },
    {
     "name": "stderr",
     "output_type": "stream",
     "text": [
      "INFO:fbprophet:Disabling daily seasonality. Run prophet with daily_seasonality=True to override this.\n"
     ]
    },
    {
     "name": "stdout",
     "output_type": "stream",
     "text": [
      "El producto demoró 1.2645866870880127 Sur Coyhaique\n",
      "tiempo que lleva corriendo 14.82755385239919 Min\n",
      "El producto demoró 0.003503084182739258 Sur Coyhaique\n",
      "tiempo que lleva corriendo 14.827637263139088 Min\n"
     ]
    },
    {
     "name": "stderr",
     "output_type": "stream",
     "text": [
      "INFO:fbprophet:Disabling daily seasonality. Run prophet with daily_seasonality=True to override this.\n"
     ]
    },
    {
     "name": "stdout",
     "output_type": "stream",
     "text": [
      "El producto demoró 1.2170460224151611 Sur Coyhaique\n",
      "tiempo que lleva corriendo 14.847946381568908 Min\n",
      "El producto demoró 0.003002643585205078 Sur Coyhaique\n",
      "tiempo que lleva corriendo 14.848013095060985 Min\n",
      "El producto demoró 0.0035033226013183594 Sur Coyhaique\n",
      "tiempo que lleva corriendo 14.848096505800884 Min\n",
      "El producto demoró 0.003002643585205078 Sur Coyhaique\n",
      "tiempo que lleva corriendo 14.848196597894033 Min\n"
     ]
    },
    {
     "name": "stderr",
     "output_type": "stream",
     "text": [
      "INFO:fbprophet:Disabling daily seasonality. Run prophet with daily_seasonality=True to override this.\n"
     ]
    },
    {
     "name": "stdout",
     "output_type": "stream",
     "text": [
      "El producto demoró 1.3426530361175537 Sur Coyhaique\n",
      "tiempo que lleva corriendo 14.870590821901958 Min\n"
     ]
    },
    {
     "name": "stderr",
     "output_type": "stream",
     "text": [
      "INFO:fbprophet:Disabling daily seasonality. Run prophet with daily_seasonality=True to override this.\n"
     ]
    },
    {
     "name": "stdout",
     "output_type": "stream",
     "text": [
      "El producto demoró 1.2680895328521729 Sur Coyhaique\n",
      "tiempo que lleva corriendo 14.89175066947937 Min\n",
      "El producto demoró 0.0040035247802734375 Sur Coyhaique\n",
      "tiempo que lleva corriendo 14.891825727621715 Min\n",
      "El producto demoró 0.004003047943115234 Sur Coyhaique\n",
      "tiempo que lleva corriendo 14.8919091463089 Min\n"
     ]
    },
    {
     "name": "stderr",
     "output_type": "stream",
     "text": [
      "INFO:fbprophet:Disabling daily seasonality. Run prophet with daily_seasonality=True to override this.\n"
     ]
    },
    {
     "name": "stdout",
     "output_type": "stream",
     "text": [
      "El producto demoró 1.2750954627990723 Sur Coyhaique\n",
      "tiempo que lleva corriendo 14.913169070084889 Min\n",
      "El producto demoró 0.004504203796386719 Sur Coyhaique\n",
      "tiempo que lleva corriendo 14.913244140148162 Min\n",
      "Osorno\n"
     ]
    },
    {
     "name": "stderr",
     "output_type": "stream",
     "text": [
      "INFO:fbprophet:Disabling daily seasonality. Run prophet with daily_seasonality=True to override this.\n"
     ]
    },
    {
     "name": "stdout",
     "output_type": "stream",
     "text": [
      "El producto demoró 1.358666181564331 Sur Osorno\n",
      "tiempo que lleva corriendo 14.936297269662221 Min\n"
     ]
    },
    {
     "name": "stderr",
     "output_type": "stream",
     "text": [
      "INFO:fbprophet:Disabling daily seasonality. Run prophet with daily_seasonality=True to override this.\n"
     ]
    },
    {
     "name": "stdout",
     "output_type": "stream",
     "text": [
      "El producto demoró 1.8415822982788086 Sur Osorno\n",
      "tiempo que lleva corriendo 14.967015322049459 Min\n"
     ]
    },
    {
     "name": "stderr",
     "output_type": "stream",
     "text": [
      "INFO:fbprophet:Disabling daily seasonality. Run prophet with daily_seasonality=True to override this.\n"
     ]
    },
    {
     "name": "stdout",
     "output_type": "stream",
     "text": [
      "El producto demoró 1.6439132690429688 Sur Osorno\n",
      "tiempo que lleva corriendo 14.99443055788676 Min\n"
     ]
    },
    {
     "name": "stderr",
     "output_type": "stream",
     "text": [
      "INFO:fbprophet:Disabling daily seasonality. Run prophet with daily_seasonality=True to override this.\n"
     ]
    },
    {
     "name": "stdout",
     "output_type": "stream",
     "text": [
      "El producto demoró 1.5678462982177734 Sur Osorno\n",
      "tiempo que lleva corriendo 15.020569674173991 Min\n"
     ]
    },
    {
     "name": "stderr",
     "output_type": "stream",
     "text": [
      "INFO:fbprophet:Disabling daily seasonality. Run prophet with daily_seasonality=True to override this.\n"
     ]
    },
    {
     "name": "stdout",
     "output_type": "stream",
     "text": [
      "El producto demoró 1.7384936809539795 Sur Osorno\n",
      "tiempo que lleva corriendo 15.049561246236165 Min\n"
     ]
    },
    {
     "name": "stderr",
     "output_type": "stream",
     "text": [
      "INFO:fbprophet:Disabling daily seasonality. Run prophet with daily_seasonality=True to override this.\n"
     ]
    },
    {
     "name": "stdout",
     "output_type": "stream",
     "text": [
      "El producto demoró 1.7224786281585693 Sur Osorno\n",
      "tiempo que lleva corriendo 15.078277564048767 Min\n"
     ]
    },
    {
     "name": "stderr",
     "output_type": "stream",
     "text": [
      "INFO:fbprophet:Disabling daily seasonality. Run prophet with daily_seasonality=True to override this.\n"
     ]
    },
    {
     "name": "stdout",
     "output_type": "stream",
     "text": [
      "El producto demoró 1.7785279750823975 Sur Osorno\n",
      "tiempo que lleva corriendo 15.107944718996684 Min\n"
     ]
    },
    {
     "name": "stderr",
     "output_type": "stream",
     "text": [
      "INFO:fbprophet:Disabling daily seasonality. Run prophet with daily_seasonality=True to override this.\n"
     ]
    },
    {
     "name": "stdout",
     "output_type": "stream",
     "text": [
      "El producto demoró 1.5133001804351807 Sur Osorno\n",
      "tiempo que lleva corriendo 15.133191402753194 Min\n"
     ]
    },
    {
     "name": "stderr",
     "output_type": "stream",
     "text": [
      "INFO:fbprophet:Disabling daily seasonality. Run prophet with daily_seasonality=True to override this.\n"
     ]
    },
    {
     "name": "stdout",
     "output_type": "stream",
     "text": [
      "El producto demoró 1.5338177680969238 Sur Osorno\n",
      "tiempo que lleva corriendo 15.158780054251354 Min\n"
     ]
    },
    {
     "name": "stderr",
     "output_type": "stream",
     "text": [
      "INFO:fbprophet:Disabling daily seasonality. Run prophet with daily_seasonality=True to override this.\n"
     ]
    },
    {
     "name": "stdout",
     "output_type": "stream",
     "text": [
      "El producto demoró 1.6098828315734863 Sur Osorno\n",
      "tiempo que lleva corriendo 15.185628112157186 Min\n"
     ]
    },
    {
     "name": "stderr",
     "output_type": "stream",
     "text": [
      "INFO:fbprophet:Disabling daily seasonality. Run prophet with daily_seasonality=True to override this.\n"
     ]
    },
    {
     "name": "stdout",
     "output_type": "stream",
     "text": [
      "El producto demoró 1.4757680892944336 Sur Osorno\n",
      "tiempo que lleva corriendo 15.210240932305654 Min\n"
     ]
    },
    {
     "name": "stderr",
     "output_type": "stream",
     "text": [
      "INFO:fbprophet:Disabling daily seasonality. Run prophet with daily_seasonality=True to override this.\n"
     ]
    },
    {
     "name": "stdout",
     "output_type": "stream",
     "text": [
      "El producto demoró 1.6123850345611572 Sur Osorno\n",
      "tiempo que lleva corriendo 15.237139038244884 Min\n"
     ]
    },
    {
     "name": "stderr",
     "output_type": "stream",
     "text": [
      "INFO:fbprophet:Disabling daily seasonality. Run prophet with daily_seasonality=True to override this.\n"
     ]
    },
    {
     "name": "stdout",
     "output_type": "stream",
     "text": [
      "El producto demoró 1.671936273574829 Sur Osorno\n",
      "tiempo que lleva corriendo 15.265012979507446 Min\n",
      "El producto demoró 0.0040035247802734375 Sur Osorno\n",
      "tiempo que lleva corriendo 15.265204811096192 Min\n"
     ]
    },
    {
     "name": "stderr",
     "output_type": "stream",
     "text": [
      "INFO:fbprophet:Disabling daily seasonality. Run prophet with daily_seasonality=True to override this.\n"
     ]
    },
    {
     "name": "stdout",
     "output_type": "stream",
     "text": [
      "El producto demoró 1.5072956085205078 Sur Osorno\n",
      "tiempo que lleva corriendo 15.290351414680481 Min\n"
     ]
    },
    {
     "name": "stderr",
     "output_type": "stream",
     "text": [
      "INFO:fbprophet:Disabling daily seasonality. Run prophet with daily_seasonality=True to override this.\n"
     ]
    },
    {
     "name": "stdout",
     "output_type": "stream",
     "text": [
      "El producto demoró 1.4652585983276367 Sur Osorno\n",
      "tiempo que lleva corriendo 15.314780728022258 Min\n"
     ]
    },
    {
     "name": "stderr",
     "output_type": "stream",
     "text": [
      "INFO:fbprophet:Disabling daily seasonality. Run prophet with daily_seasonality=True to override this.\n"
     ]
    },
    {
     "name": "stdout",
     "output_type": "stream",
     "text": [
      "El producto demoró 1.5353195667266846 Sur Osorno\n",
      "tiempo que lleva corriendo 15.340394405523936 Min\n"
     ]
    },
    {
     "name": "stderr",
     "output_type": "stream",
     "text": [
      "INFO:fbprophet:Disabling daily seasonality. Run prophet with daily_seasonality=True to override this.\n"
     ]
    },
    {
     "name": "stdout",
     "output_type": "stream",
     "text": [
      "El producto demoró 1.3211345672607422 Sur Osorno\n",
      "tiempo que lleva corriendo 15.36242999235789 Min\n"
     ]
    },
    {
     "name": "stderr",
     "output_type": "stream",
     "text": [
      "INFO:fbprophet:Disabling daily seasonality. Run prophet with daily_seasonality=True to override this.\n"
     ]
    },
    {
     "name": "stdout",
     "output_type": "stream",
     "text": [
      "El producto demoró 1.3016185760498047 Sur Osorno\n",
      "tiempo que lleva corriendo 15.384140308698019 Min\n"
     ]
    },
    {
     "name": "stderr",
     "output_type": "stream",
     "text": [
      "INFO:fbprophet:Disabling daily seasonality. Run prophet with daily_seasonality=True to override this.\n"
     ]
    },
    {
     "name": "stdout",
     "output_type": "stream",
     "text": [
      "El producto demoró 1.3466575145721436 Sur Osorno\n",
      "tiempo que lleva corriendo 15.406601281960805 Min\n"
     ]
    },
    {
     "name": "stderr",
     "output_type": "stream",
     "text": [
      "INFO:fbprophet:Disabling daily seasonality. Run prophet with daily_seasonality=True to override this.\n"
     ]
    },
    {
     "name": "stdout",
     "output_type": "stream",
     "text": [
      "El producto demoró 1.3676753044128418 Sur Osorno\n",
      "tiempo que lleva corriendo 15.429429225126903 Min\n"
     ]
    },
    {
     "name": "stderr",
     "output_type": "stream",
     "text": [
      "INFO:fbprophet:Disabling daily seasonality. Run prophet with daily_seasonality=True to override this.\n"
     ]
    },
    {
     "name": "stdout",
     "output_type": "stream",
     "text": [
      "El producto demoró 1.4082105159759521 Sur Osorno\n",
      "tiempo que lleva corriendo 15.452924394607544 Min\n"
     ]
    },
    {
     "name": "stderr",
     "output_type": "stream",
     "text": [
      "INFO:fbprophet:Disabling daily seasonality. Run prophet with daily_seasonality=True to override this.\n"
     ]
    },
    {
     "name": "stdout",
     "output_type": "stream",
     "text": [
      "El producto demoró 1.4152162075042725 Sur Osorno\n",
      "tiempo que lleva corriendo 15.476528004805248 Min\n"
     ]
    },
    {
     "name": "stderr",
     "output_type": "stream",
     "text": [
      "INFO:fbprophet:Disabling daily seasonality. Run prophet with daily_seasonality=True to override this.\n"
     ]
    },
    {
     "name": "stdout",
     "output_type": "stream",
     "text": [
      "El producto demoró 1.3691768646240234 Sur Osorno\n",
      "tiempo que lleva corriendo 15.499372629324595 Min\n"
     ]
    },
    {
     "name": "stderr",
     "output_type": "stream",
     "text": [
      "INFO:fbprophet:Disabling daily seasonality. Run prophet with daily_seasonality=True to override this.\n"
     ]
    },
    {
     "name": "stdout",
     "output_type": "stream",
     "text": [
      "El producto demoró 1.3856909275054932 Sur Osorno\n",
      "tiempo que lleva corriendo 15.522492488225302 Min\n"
     ]
    },
    {
     "name": "stderr",
     "output_type": "stream",
     "text": [
      "INFO:fbprophet:Disabling daily seasonality. Run prophet with daily_seasonality=True to override this.\n"
     ]
    },
    {
     "name": "stdout",
     "output_type": "stream",
     "text": [
      "El producto demoró 3.090655565261841 Sur Osorno\n",
      "tiempo que lleva corriendo 15.57402842839559 Min\n"
     ]
    },
    {
     "name": "stderr",
     "output_type": "stream",
     "text": [
      "INFO:fbprophet:Disabling daily seasonality. Run prophet with daily_seasonality=True to override this.\n"
     ]
    },
    {
     "name": "stdout",
     "output_type": "stream",
     "text": [
      "El producto demoró 1.5468292236328125 Sur Osorno\n",
      "tiempo que lleva corriendo 15.599908991654713 Min\n"
     ]
    },
    {
     "name": "stderr",
     "output_type": "stream",
     "text": [
      "INFO:fbprophet:Disabling daily seasonality. Run prophet with daily_seasonality=True to override this.\n"
     ]
    },
    {
     "name": "stdout",
     "output_type": "stream",
     "text": [
      "El producto demoró 1.3416533470153809 Sur Osorno\n",
      "tiempo que lleva corriendo 15.622286558151245 Min\n"
     ]
    },
    {
     "name": "stderr",
     "output_type": "stream",
     "text": [
      "INFO:fbprophet:Disabling daily seasonality. Run prophet with daily_seasonality=True to override this.\n"
     ]
    },
    {
     "name": "stdout",
     "output_type": "stream",
     "text": [
      "El producto demoró 1.3696768283843994 Sur Osorno\n",
      "tiempo que lleva corriendo 15.645139523347218 Min\n"
     ]
    },
    {
     "name": "stderr",
     "output_type": "stream",
     "text": [
      "INFO:fbprophet:Disabling daily seasonality. Run prophet with daily_seasonality=True to override this.\n"
     ]
    },
    {
     "name": "stdout",
     "output_type": "stream",
     "text": [
      "El producto demoró 1.6098833084106445 Sur Osorno\n",
      "tiempo que lleva corriendo 15.671987585226695 Min\n"
     ]
    },
    {
     "name": "stderr",
     "output_type": "stream",
     "text": [
      "INFO:fbprophet:Disabling daily seasonality. Run prophet with daily_seasonality=True to override this.\n"
     ]
    },
    {
     "name": "stdout",
     "output_type": "stream",
     "text": [
      "El producto demoró 1.3931965827941895 Sur Osorno\n",
      "tiempo que lleva corriendo 15.69522420167923 Min\n"
     ]
    },
    {
     "name": "stderr",
     "output_type": "stream",
     "text": [
      "INFO:fbprophet:Disabling daily seasonality. Run prophet with daily_seasonality=True to override this.\n"
     ]
    },
    {
     "name": "stdout",
     "output_type": "stream",
     "text": [
      "El producto demoró 1.7575101852416992 Sur Osorno\n",
      "tiempo que lleva corriendo 15.724532731374104 Min\n"
     ]
    },
    {
     "name": "stderr",
     "output_type": "stream",
     "text": [
      "INFO:fbprophet:Disabling daily seasonality. Run prophet with daily_seasonality=True to override this.\n"
     ]
    },
    {
     "name": "stdout",
     "output_type": "stream",
     "text": [
      "El producto demoró 1.605879545211792 Sur Osorno\n",
      "tiempo que lleva corriendo 15.75132240454356 Min\n"
     ]
    },
    {
     "name": "stderr",
     "output_type": "stream",
     "text": [
      "INFO:fbprophet:Disabling daily seasonality. Run prophet with daily_seasonality=True to override this.\n"
     ]
    },
    {
     "name": "stdout",
     "output_type": "stream",
     "text": [
      "El producto demoró 1.4962856769561768 Sur Osorno\n",
      "tiempo que lleva corriendo 15.7762855052948 Min\n"
     ]
    },
    {
     "name": "stderr",
     "output_type": "stream",
     "text": [
      "INFO:fbprophet:Disabling daily seasonality. Run prophet with daily_seasonality=True to override this.\n"
     ]
    },
    {
     "name": "stdout",
     "output_type": "stream",
     "text": [
      "El producto demoró 1.518805742263794 Sur Osorno\n",
      "tiempo que lleva corriendo 15.801623940467834 Min\n",
      "El producto demoró 0.004503965377807617 Sur Osorno\n",
      "tiempo que lleva corriendo 15.801699006557465 Min\n"
     ]
    },
    {
     "name": "stderr",
     "output_type": "stream",
     "text": [
      "INFO:fbprophet:Disabling daily seasonality. Run prophet with daily_seasonality=True to override this.\n"
     ]
    },
    {
     "name": "stdout",
     "output_type": "stream",
     "text": [
      "El producto demoró 1.3361482620239258 Sur Osorno\n",
      "tiempo que lleva corriendo 15.823984809716542 Min\n",
      "El producto demoró 0.004503965377807617 Sur Osorno\n",
      "tiempo que lleva corriendo 15.824076553185781 Min\n",
      "Puerto Montt\n"
     ]
    },
    {
     "name": "stderr",
     "output_type": "stream",
     "text": [
      "INFO:fbprophet:Disabling daily seasonality. Run prophet with daily_seasonality=True to override this.\n"
     ]
    },
    {
     "name": "stdout",
     "output_type": "stream",
     "text": [
      "El producto demoró 1.2931110858917236 Sur Puerto Montt\n",
      "tiempo que lleva corriendo 15.84612049261729 Min\n"
     ]
    },
    {
     "name": "stderr",
     "output_type": "stream",
     "text": [
      "INFO:fbprophet:Disabling daily seasonality. Run prophet with daily_seasonality=True to override this.\n"
     ]
    },
    {
     "name": "stdout",
     "output_type": "stream",
     "text": [
      "El producto demoró 1.451747179031372 Sur Puerto Montt\n",
      "tiempo que lleva corriendo 15.870341316858928 Min\n"
     ]
    },
    {
     "name": "stderr",
     "output_type": "stream",
     "text": [
      "INFO:fbprophet:Disabling daily seasonality. Run prophet with daily_seasonality=True to override this.\n"
     ]
    },
    {
     "name": "stdout",
     "output_type": "stream",
     "text": [
      "El producto demoró 1.6649303436279297 Sur Puerto Montt\n",
      "tiempo que lleva corriendo 15.898098480701446 Min\n"
     ]
    },
    {
     "name": "stderr",
     "output_type": "stream",
     "text": [
      "INFO:fbprophet:Disabling daily seasonality. Run prophet with daily_seasonality=True to override this.\n"
     ]
    },
    {
     "name": "stdout",
     "output_type": "stream",
     "text": [
      "El producto demoró 1.54532790184021 Sur Puerto Montt\n",
      "tiempo que lleva corriendo 15.923870619138082 Min\n"
     ]
    },
    {
     "name": "stderr",
     "output_type": "stream",
     "text": [
      "INFO:fbprophet:Disabling daily seasonality. Run prophet with daily_seasonality=True to override this.\n"
     ]
    },
    {
     "name": "stdout",
     "output_type": "stream",
     "text": [
      "El producto demoró 1.65091872215271 Sur Puerto Montt\n",
      "tiempo que lleva corriendo 15.95140259663264 Min\n"
     ]
    },
    {
     "name": "stderr",
     "output_type": "stream",
     "text": [
      "INFO:fbprophet:Disabling daily seasonality. Run prophet with daily_seasonality=True to override this.\n"
     ]
    },
    {
     "name": "stdout",
     "output_type": "stream",
     "text": [
      "El producto demoró 1.5473296642303467 Sur Puerto Montt\n",
      "tiempo que lleva corriendo 15.977208097775778 Min\n"
     ]
    },
    {
     "name": "stderr",
     "output_type": "stream",
     "text": [
      "INFO:fbprophet:Disabling daily seasonality. Run prophet with daily_seasonality=True to override this.\n"
     ]
    },
    {
     "name": "stdout",
     "output_type": "stream",
     "text": [
      "El producto demoró 1.7339887619018555 Sur Puerto Montt\n",
      "tiempo que lleva corriendo 16.006132956345876 Min\n"
     ]
    },
    {
     "name": "stderr",
     "output_type": "stream",
     "text": [
      "INFO:fbprophet:Disabling daily seasonality. Run prophet with daily_seasonality=True to override this.\n"
     ]
    },
    {
     "name": "stdout",
     "output_type": "stream",
     "text": [
      "El producto demoró 1.5998737812042236 Sur Puerto Montt\n",
      "tiempo que lleva corriendo 16.032814200719198 Min\n"
     ]
    },
    {
     "name": "stderr",
     "output_type": "stream",
     "text": [
      "INFO:fbprophet:Disabling daily seasonality. Run prophet with daily_seasonality=True to override this.\n"
     ]
    },
    {
     "name": "stdout",
     "output_type": "stream",
     "text": [
      "El producto demoró 1.7865355014801025 Sur Puerto Montt\n",
      "tiempo que lleva corriendo 16.062598113218943 Min\n"
     ]
    },
    {
     "name": "stderr",
     "output_type": "stream",
     "text": [
      "INFO:fbprophet:Disabling daily seasonality. Run prophet with daily_seasonality=True to override this.\n"
     ]
    },
    {
     "name": "stdout",
     "output_type": "stream",
     "text": [
      "El producto demoró 1.718477487564087 Sur Puerto Montt\n",
      "tiempo que lleva corriendo 16.09124773343404 Min\n"
     ]
    },
    {
     "name": "stderr",
     "output_type": "stream",
     "text": [
      "INFO:fbprophet:Disabling daily seasonality. Run prophet with daily_seasonality=True to override this.\n"
     ]
    },
    {
     "name": "stdout",
     "output_type": "stream",
     "text": [
      "El producto demoró 1.5523335933685303 Sur Puerto Montt\n",
      "tiempo que lleva corriendo 16.11713664531708 Min\n"
     ]
    },
    {
     "name": "stderr",
     "output_type": "stream",
     "text": [
      "INFO:fbprophet:Disabling daily seasonality. Run prophet with daily_seasonality=True to override this.\n"
     ]
    },
    {
     "name": "stdout",
     "output_type": "stream",
     "text": [
      "El producto demoró 1.622894525527954 Sur Puerto Montt\n",
      "tiempo que lleva corriendo 16.14420988957087 Min\n"
     ]
    },
    {
     "name": "stderr",
     "output_type": "stream",
     "text": [
      "INFO:fbprophet:Disabling daily seasonality. Run prophet with daily_seasonality=True to override this.\n"
     ]
    },
    {
     "name": "stdout",
     "output_type": "stream",
     "text": [
      "El producto demoró 1.5027921199798584 Sur Puerto Montt\n",
      "tiempo que lleva corriendo 16.169273086388905 Min\n",
      "El producto demoró 0.003503561019897461 Sur Puerto Montt\n",
      "tiempo que lleva corriendo 16.169423214594524 Min\n"
     ]
    },
    {
     "name": "stderr",
     "output_type": "stream",
     "text": [
      "INFO:fbprophet:Disabling daily seasonality. Run prophet with daily_seasonality=True to override this.\n"
     ]
    },
    {
     "name": "stdout",
     "output_type": "stream",
     "text": [
      "El producto demoró 1.474266767501831 Sur Puerto Montt\n",
      "tiempo que lleva corriendo 16.194011012713116 Min\n"
     ]
    },
    {
     "name": "stderr",
     "output_type": "stream",
     "text": [
      "INFO:fbprophet:Disabling daily seasonality. Run prophet with daily_seasonality=True to override this.\n"
     ]
    },
    {
     "name": "stdout",
     "output_type": "stream",
     "text": [
      "El producto demoró 1.408210039138794 Sur Puerto Montt\n",
      "tiempo que lleva corriendo 16.21750619014104 Min\n"
     ]
    },
    {
     "name": "stderr",
     "output_type": "stream",
     "text": [
      "INFO:fbprophet:Disabling daily seasonality. Run prophet with daily_seasonality=True to override this.\n"
     ]
    },
    {
     "name": "stdout",
     "output_type": "stream",
     "text": [
      "El producto demoró 1.4137146472930908 Sur Puerto Montt\n",
      "tiempo que lleva corriendo 16.241093130906425 Min\n",
      "El producto demoró 0.004003763198852539 Sur Puerto Montt\n",
      "tiempo que lleva corriendo 16.241176521778108 Min\n",
      "El producto demoró 0.004003286361694336 Sur Puerto Montt\n",
      "tiempo que lleva corriendo 16.241259936491648 Min\n"
     ]
    },
    {
     "name": "stderr",
     "output_type": "stream",
     "text": [
      "INFO:fbprophet:Disabling daily seasonality. Run prophet with daily_seasonality=True to override this.\n"
     ]
    },
    {
     "name": "stdout",
     "output_type": "stream",
     "text": [
      "El producto demoró 1.4282276630401611 Sur Puerto Montt\n",
      "tiempo que lleva corriendo 16.265080388387045 Min\n"
     ]
    },
    {
     "name": "stderr",
     "output_type": "stream",
     "text": [
      "INFO:fbprophet:Disabling daily seasonality. Run prophet with daily_seasonality=True to override this.\n"
     ]
    },
    {
     "name": "stdout",
     "output_type": "stream",
     "text": [
      "El producto demoró 1.2906091213226318 Sur Puerto Montt\n",
      "tiempo que lleva corriendo 16.28660722176234 Min\n"
     ]
    },
    {
     "name": "stderr",
     "output_type": "stream",
     "text": [
      "INFO:fbprophet:Disabling daily seasonality. Run prophet with daily_seasonality=True to override this.\n"
     ]
    },
    {
     "name": "stdout",
     "output_type": "stream",
     "text": [
      "El producto demoró 2.348517656326294 Sur Puerto Montt\n",
      "tiempo que lleva corriendo 16.32577419281006 Min\n",
      "El producto demoró 0.004002809524536133 Sur Puerto Montt\n",
      "tiempo que lleva corriendo 16.325857603549956 Min\n"
     ]
    },
    {
     "name": "stderr",
     "output_type": "stream",
     "text": [
      "INFO:fbprophet:Disabling daily seasonality. Run prophet with daily_seasonality=True to override this.\n"
     ]
    },
    {
     "name": "stdout",
     "output_type": "stream",
     "text": [
      "El producto demoró 1.215043544769287 Sur Puerto Montt\n",
      "tiempo que lleva corriendo 16.34613336722056 Min\n",
      "El producto demoró 0.003503561019897461 Sur Puerto Montt\n",
      "tiempo que lleva corriendo 16.346275130907696 Min\n",
      "El producto demoró 0.003503561019897461 Sur Puerto Montt\n",
      "tiempo que lleva corriendo 16.346350196997324 Min\n",
      "El producto demoró 0.0035033226013183594 Sur Puerto Montt\n",
      "tiempo que lleva corriendo 16.346408585707348 Min\n",
      "El producto demoró 0.003002643585205078 Sur Puerto Montt\n",
      "tiempo que lleva corriendo 16.346475307146708 Min\n",
      "El producto demoró 0.003503561019897461 Sur Puerto Montt\n",
      "tiempo que lleva corriendo 16.346542028586068 Min\n",
      "El producto demoró 0.0035033226013183594 Sur Puerto Montt\n",
      "tiempo que lleva corriendo 16.34660041729609 Min\n"
     ]
    },
    {
     "name": "stderr",
     "output_type": "stream",
     "text": [
      "INFO:fbprophet:Disabling daily seasonality. Run prophet with daily_seasonality=True to override this.\n"
     ]
    },
    {
     "name": "stdout",
     "output_type": "stream",
     "text": [
      "El producto demoró 1.7104697227478027 Sur Puerto Montt\n",
      "tiempo que lleva corriendo 16.375216674804687 Min\n"
     ]
    },
    {
     "name": "stderr",
     "output_type": "stream",
     "text": [
      "INFO:fbprophet:Disabling daily seasonality. Run prophet with daily_seasonality=True to override this.\n"
     ]
    },
    {
     "name": "stdout",
     "output_type": "stream",
     "text": [
      "El producto demoró 1.4432404041290283 Sur Puerto Montt\n",
      "tiempo que lleva corriendo 16.39929567972819 Min\n"
     ]
    },
    {
     "name": "stderr",
     "output_type": "stream",
     "text": [
      "INFO:fbprophet:Disabling daily seasonality. Run prophet with daily_seasonality=True to override this.\n"
     ]
    },
    {
     "name": "stdout",
     "output_type": "stream",
     "text": [
      "El producto demoró 1.6989600658416748 Sur Puerto Montt\n",
      "tiempo que lleva corriendo 16.427628354231516 Min\n"
     ]
    },
    {
     "name": "stderr",
     "output_type": "stream",
     "text": [
      "INFO:fbprophet:Disabling daily seasonality. Run prophet with daily_seasonality=True to override this.\n"
     ]
    },
    {
     "name": "stdout",
     "output_type": "stream",
     "text": [
      "El producto demoró 1.514801263809204 Sur Puerto Montt\n",
      "tiempo que lleva corriendo 16.452900063991546 Min\n"
     ]
    },
    {
     "name": "stderr",
     "output_type": "stream",
     "text": [
      "INFO:fbprophet:Disabling daily seasonality. Run prophet with daily_seasonality=True to override this.\n"
     ]
    },
    {
     "name": "stdout",
     "output_type": "stream",
     "text": [
      "El producto demoró 1.5243101119995117 Sur Puerto Montt\n",
      "tiempo que lleva corriendo 16.47832189798355 Min\n"
     ]
    },
    {
     "name": "stderr",
     "output_type": "stream",
     "text": [
      "INFO:fbprophet:Disabling daily seasonality. Run prophet with daily_seasonality=True to override this.\n"
     ]
    },
    {
     "name": "stdout",
     "output_type": "stream",
     "text": [
      "El producto demoró 1.9416677951812744 Sur Puerto Montt\n",
      "tiempo que lleva corriendo 16.510708061854043 Min\n"
     ]
    },
    {
     "name": "stderr",
     "output_type": "stream",
     "text": [
      "INFO:fbprophet:Disabling daily seasonality. Run prophet with daily_seasonality=True to override this.\n"
     ]
    },
    {
     "name": "stdout",
     "output_type": "stream",
     "text": [
      "El producto demoró 1.665930986404419 Sur Puerto Montt\n",
      "tiempo que lleva corriendo 16.53849024772644 Min\n"
     ]
    },
    {
     "name": "stderr",
     "output_type": "stream",
     "text": [
      "INFO:fbprophet:Disabling daily seasonality. Run prophet with daily_seasonality=True to override this.\n"
     ]
    },
    {
     "name": "stdout",
     "output_type": "stream",
     "text": [
      "El producto demoró 1.64341139793396 Sur Puerto Montt\n",
      "tiempo que lleva corriendo 16.565905467669168 Min\n"
     ]
    },
    {
     "name": "stderr",
     "output_type": "stream",
     "text": [
      "INFO:fbprophet:Disabling daily seasonality. Run prophet with daily_seasonality=True to override this.\n"
     ]
    },
    {
     "name": "stdout",
     "output_type": "stream",
     "text": [
      "El producto demoró 1.474266767501831 Sur Puerto Montt\n",
      "tiempo que lleva corriendo 16.59049327770869 Min\n"
     ]
    },
    {
     "name": "stderr",
     "output_type": "stream",
     "text": [
      "INFO:fbprophet:Disabling daily seasonality. Run prophet with daily_seasonality=True to override this.\n"
     ]
    },
    {
     "name": "stdout",
     "output_type": "stream",
     "text": [
      "El producto demoró 1.3982000350952148 Sur Puerto Montt\n",
      "tiempo que lleva corriendo 16.613804948329925 Min\n",
      "El producto demoró 0.004503965377807617 Sur Puerto Montt\n",
      "tiempo que lleva corriendo 16.613896695772805 Min\n",
      "El producto demoró 0.004504203796386719 Sur Puerto Montt\n",
      "tiempo que lleva corriendo 16.613988455136617 Min\n",
      "Punta Arenas\n"
     ]
    },
    {
     "name": "stderr",
     "output_type": "stream",
     "text": [
      "INFO:fbprophet:Disabling daily seasonality. Run prophet with daily_seasonality=True to override this.\n"
     ]
    },
    {
     "name": "stdout",
     "output_type": "stream",
     "text": [
      "El producto demoró 1.6424109935760498 Sur Punta Arenas\n",
      "tiempo que lleva corriendo 16.641720592975616 Min\n"
     ]
    },
    {
     "name": "stderr",
     "output_type": "stream",
     "text": [
      "INFO:fbprophet:Disabling daily seasonality. Run prophet with daily_seasonality=True to override this.\n"
     ]
    },
    {
     "name": "stdout",
     "output_type": "stream",
     "text": [
      "El producto demoró 1.2670881748199463 Sur Punta Arenas\n",
      "tiempo que lleva corriendo 16.66287210782369 Min\n"
     ]
    },
    {
     "name": "stderr",
     "output_type": "stream",
     "text": [
      "INFO:fbprophet:Disabling daily seasonality. Run prophet with daily_seasonality=True to override this.\n"
     ]
    },
    {
     "name": "stdout",
     "output_type": "stream",
     "text": [
      "El producto demoró 1.4897794723510742 Sur Punta Arenas\n",
      "tiempo que lleva corriendo 16.687710110346476 Min\n"
     ]
    },
    {
     "name": "stderr",
     "output_type": "stream",
     "text": [
      "INFO:fbprophet:Disabling daily seasonality. Run prophet with daily_seasonality=True to override this.\n"
     ]
    },
    {
     "name": "stdout",
     "output_type": "stream",
     "text": [
      "El producto demoró 1.5418241024017334 Sur Punta Arenas\n",
      "tiempo que lleva corriendo 16.713432196776072 Min\n"
     ]
    },
    {
     "name": "stderr",
     "output_type": "stream",
     "text": [
      "INFO:fbprophet:Disabling daily seasonality. Run prophet with daily_seasonality=True to override this.\n"
     ]
    },
    {
     "name": "stdout",
     "output_type": "stream",
     "text": [
      "El producto demoró 1.3516616821289062 Sur Punta Arenas\n",
      "tiempo que lleva corriendo 16.735984905560812 Min\n"
     ]
    },
    {
     "name": "stderr",
     "output_type": "stream",
     "text": [
      "INFO:fbprophet:Disabling daily seasonality. Run prophet with daily_seasonality=True to override this.\n"
     ]
    },
    {
     "name": "stdout",
     "output_type": "stream",
     "text": [
      "El producto demoró 1.4612550735473633 Sur Punta Arenas\n",
      "tiempo que lleva corriendo 16.760355846087137 Min\n"
     ]
    },
    {
     "name": "stderr",
     "output_type": "stream",
     "text": [
      "INFO:fbprophet:Disabling daily seasonality. Run prophet with daily_seasonality=True to override this.\n"
     ]
    },
    {
     "name": "stdout",
     "output_type": "stream",
     "text": [
      "El producto demoró 1.4022047519683838 Sur Punta Arenas\n",
      "tiempo que lleva corriendo 16.783750939369202 Min\n"
     ]
    },
    {
     "name": "stderr",
     "output_type": "stream",
     "text": [
      "INFO:fbprophet:Disabling daily seasonality. Run prophet with daily_seasonality=True to override this.\n"
     ]
    },
    {
     "name": "stdout",
     "output_type": "stream",
     "text": [
      "El producto demoró 1.5848617553710938 Sur Punta Arenas\n",
      "tiempo que lleva corriendo 16.81019031604131 Min\n"
     ]
    },
    {
     "name": "stderr",
     "output_type": "stream",
     "text": [
      "INFO:fbprophet:Disabling daily seasonality. Run prophet with daily_seasonality=True to override this.\n"
     ]
    },
    {
     "name": "stdout",
     "output_type": "stream",
     "text": [
      "El producto demoró 1.533318042755127 Sur Punta Arenas\n",
      "tiempo que lleva corriendo 16.83575394153595 Min\n"
     ]
    },
    {
     "name": "stderr",
     "output_type": "stream",
     "text": [
      "INFO:fbprophet:Disabling daily seasonality. Run prophet with daily_seasonality=True to override this.\n"
     ]
    },
    {
     "name": "stdout",
     "output_type": "stream",
     "text": [
      "El producto demoró 1.7790286540985107 Sur Punta Arenas\n",
      "tiempo que lleva corriendo 16.865421108404796 Min\n"
     ]
    },
    {
     "name": "stderr",
     "output_type": "stream",
     "text": [
      "INFO:fbprophet:Disabling daily seasonality. Run prophet with daily_seasonality=True to override this.\n"
     ]
    },
    {
     "name": "stdout",
     "output_type": "stream",
     "text": [
      "El producto demoró 1.4932825565338135 Sur Punta Arenas\n",
      "tiempo que lleva corriendo 16.890325832366944 Min\n"
     ]
    },
    {
     "name": "stderr",
     "output_type": "stream",
     "text": [
      "INFO:fbprophet:Disabling daily seasonality. Run prophet with daily_seasonality=True to override this.\n"
     ]
    },
    {
     "name": "stdout",
     "output_type": "stream",
     "text": [
      "El producto demoró 1.6283988952636719 Sur Punta Arenas\n",
      "tiempo que lleva corriendo 16.917549208799997 Min\n"
     ]
    },
    {
     "name": "stderr",
     "output_type": "stream",
     "text": [
      "INFO:fbprophet:Disabling daily seasonality. Run prophet with daily_seasonality=True to override this.\n"
     ]
    },
    {
     "name": "stdout",
     "output_type": "stream",
     "text": [
      "El producto demoró 1.3886923789978027 Sur Punta Arenas\n",
      "tiempo que lleva corriendo 16.940702426433564 Min\n"
     ]
    },
    {
     "name": "stderr",
     "output_type": "stream",
     "text": [
      "INFO:fbprophet:Disabling daily seasonality. Run prophet with daily_seasonality=True to override this.\n"
     ]
    },
    {
     "name": "stdout",
     "output_type": "stream",
     "text": [
      "El producto demoró 1.2760965824127197 Sur Punta Arenas\n",
      "tiempo que lleva corriendo 16.961987376213074 Min\n",
      "El producto demoró 0.0035026073455810547 Sur Punta Arenas\n",
      "tiempo que lleva corriendo 16.962070798873903 Min\n",
      "El producto demoró 0.0035026073455810547 Sur Punta Arenas\n",
      "tiempo que lleva corriendo 16.962145857016246 Min\n",
      "El producto demoró 0.003002643585205078 Sur Punta Arenas\n",
      "tiempo que lleva corriendo 16.962220919132232 Min\n",
      "El producto demoró 0.003503084182739258 Sur Punta Arenas\n",
      "tiempo que lleva corriendo 16.962287636597953 Min\n",
      "El producto demoró 0.0035028457641601562 Sur Punta Arenas\n",
      "tiempo que lleva corriendo 16.962396069367728 Min\n",
      "El producto demoró 0.004003286361694336 Sur Punta Arenas\n",
      "tiempo que lleva corriendo 16.962462790807088 Min\n"
     ]
    },
    {
     "name": "stderr",
     "output_type": "stream",
     "text": [
      "INFO:fbprophet:Disabling daily seasonality. Run prophet with daily_seasonality=True to override this.\n"
     ]
    },
    {
     "name": "stdout",
     "output_type": "stream",
     "text": [
      "El producto demoró 1.311126470565796 Sur Punta Arenas\n",
      "tiempo que lleva corriendo 16.98432324330012 Min\n",
      "El producto demoró 0.004503488540649414 Sur Punta Arenas\n",
      "tiempo que lleva corriendo 16.984398301442464 Min\n"
     ]
    },
    {
     "name": "stderr",
     "output_type": "stream",
     "text": [
      "INFO:fbprophet:Disabling daily seasonality. Run prophet with daily_seasonality=True to override this.\n"
     ]
    },
    {
     "name": "stdout",
     "output_type": "stream",
     "text": [
      "El producto demoró 1.4072096347808838 Sur Punta Arenas\n",
      "tiempo que lleva corriendo 17.007860124111176 Min\n",
      "El producto demoró 0.004003286361694336 Sur Punta Arenas\n",
      "tiempo que lleva corriendo 17.00793518622716 Min\n"
     ]
    },
    {
     "name": "stderr",
     "output_type": "stream",
     "text": [
      "INFO:fbprophet:Disabling daily seasonality. Run prophet with daily_seasonality=True to override this.\n"
     ]
    },
    {
     "name": "stdout",
     "output_type": "stream",
     "text": [
      "El producto demoró 1.3446552753448486 Sur Punta Arenas\n",
      "tiempo que lleva corriendo 17.030404488245647 Min\n",
      "El producto demoró 0.003503084182739258 Sur Punta Arenas\n",
      "tiempo que lleva corriendo 17.030487898985545 Min\n"
     ]
    },
    {
     "name": "stderr",
     "output_type": "stream",
     "text": [
      "INFO:fbprophet:Disabling daily seasonality. Run prophet with daily_seasonality=True to override this.\n"
     ]
    },
    {
     "name": "stdout",
     "output_type": "stream",
     "text": [
      "El producto demoró 1.48677659034729 Sur Punta Arenas\n",
      "tiempo que lleva corriendo 17.055284186204275 Min\n"
     ]
    },
    {
     "name": "stderr",
     "output_type": "stream",
     "text": [
      "INFO:fbprophet:Disabling daily seasonality. Run prophet with daily_seasonality=True to override this.\n"
     ]
    },
    {
     "name": "stdout",
     "output_type": "stream",
     "text": [
      "El producto demoró 1.405207872390747 Sur Punta Arenas\n",
      "tiempo que lleva corriendo 17.078720998764037 Min\n"
     ]
    },
    {
     "name": "stderr",
     "output_type": "stream",
     "text": [
      "INFO:fbprophet:Disabling daily seasonality. Run prophet with daily_seasonality=True to override this.\n"
     ]
    },
    {
     "name": "stdout",
     "output_type": "stream",
     "text": [
      "El producto demoró 1.3601691722869873 Sur Punta Arenas\n",
      "tiempo que lleva corriendo 17.10141548315684 Min\n",
      "El producto demoró 0.004003763198852539 Sur Punta Arenas\n",
      "tiempo que lleva corriendo 17.101498905817667 Min\n",
      "El producto demoró 0.004002571105957031 Sur Punta Arenas\n",
      "tiempo que lleva corriendo 17.1015656153361 Min\n"
     ]
    },
    {
     "name": "stderr",
     "output_type": "stream",
     "text": [
      "INFO:fbprophet:Disabling daily seasonality. Run prophet with daily_seasonality=True to override this.\n"
     ]
    },
    {
     "name": "stdout",
     "output_type": "stream",
     "text": [
      "El producto demoró 1.4092109203338623 Sur Punta Arenas\n",
      "tiempo que lleva corriendo 17.125069137414297 Min\n",
      "El producto demoró 0.004503488540649414 Sur Punta Arenas\n",
      "tiempo que lleva corriendo 17.125169229507446 Min\n",
      "Temuco\n"
     ]
    },
    {
     "name": "stderr",
     "output_type": "stream",
     "text": [
      "INFO:fbprophet:Disabling daily seasonality. Run prophet with daily_seasonality=True to override this.\n"
     ]
    },
    {
     "name": "stdout",
     "output_type": "stream",
     "text": [
      "El producto demoró 1.4787707328796387 Sur Temuco\n",
      "tiempo que lleva corriendo 17.150240774949392 Min\n"
     ]
    },
    {
     "name": "stderr",
     "output_type": "stream",
     "text": [
      "INFO:fbprophet:Disabling daily seasonality. Run prophet with daily_seasonality=True to override this.\n"
     ]
    },
    {
     "name": "stdout",
     "output_type": "stream",
     "text": [
      "El producto demoró 1.5648438930511475 Sur Temuco\n",
      "tiempo que lleva corriendo 17.176346520582836 Min\n"
     ]
    },
    {
     "name": "stderr",
     "output_type": "stream",
     "text": [
      "INFO:fbprophet:Disabling daily seasonality. Run prophet with daily_seasonality=True to override this.\n"
     ]
    },
    {
     "name": "stdout",
     "output_type": "stream",
     "text": [
      "El producto demoró 1.618889570236206 Sur Temuco\n",
      "tiempo que lleva corriendo 17.20335305929184 Min\n"
     ]
    },
    {
     "name": "stderr",
     "output_type": "stream",
     "text": [
      "INFO:fbprophet:Disabling daily seasonality. Run prophet with daily_seasonality=True to override this.\n"
     ]
    },
    {
     "name": "stdout",
     "output_type": "stream",
     "text": [
      "El producto demoró 1.7049646377563477 Sur Temuco\n",
      "tiempo que lleva corriendo 17.2317941625913 Min\n"
     ]
    },
    {
     "name": "stderr",
     "output_type": "stream",
     "text": [
      "INFO:fbprophet:Disabling daily seasonality. Run prophet with daily_seasonality=True to override this.\n"
     ]
    },
    {
     "name": "stdout",
     "output_type": "stream",
     "text": [
      "El producto demoró 1.9086389541625977 Sur Temuco\n",
      "tiempo que lleva corriendo 17.26361315647761 Min\n"
     ]
    },
    {
     "name": "stderr",
     "output_type": "stream",
     "text": [
      "INFO:fbprophet:Disabling daily seasonality. Run prophet with daily_seasonality=True to override this.\n"
     ]
    },
    {
     "name": "stdout",
     "output_type": "stream",
     "text": [
      "El producto demoró 1.7369916439056396 Sur Temuco\n",
      "tiempo que lleva corriendo 17.292571357885997 Min\n"
     ]
    },
    {
     "name": "stderr",
     "output_type": "stream",
     "text": [
      "INFO:fbprophet:Disabling daily seasonality. Run prophet with daily_seasonality=True to override this.\n"
     ]
    },
    {
     "name": "stdout",
     "output_type": "stream",
     "text": [
      "El producto demoró 1.5373210906982422 Sur Temuco\n",
      "tiempo que lleva corriendo 17.318210049470267 Min\n"
     ]
    },
    {
     "name": "stderr",
     "output_type": "stream",
     "text": [
      "INFO:fbprophet:Disabling daily seasonality. Run prophet with daily_seasonality=True to override this.\n"
     ]
    },
    {
     "name": "stdout",
     "output_type": "stream",
     "text": [
      "El producto demoró 1.536820650100708 Sur Temuco\n",
      "tiempo que lleva corriendo 17.343848737080894 Min\n"
     ]
    },
    {
     "name": "stderr",
     "output_type": "stream",
     "text": [
      "INFO:fbprophet:Disabling daily seasonality. Run prophet with daily_seasonality=True to override this.\n"
     ]
    },
    {
     "name": "stdout",
     "output_type": "stream",
     "text": [
      "El producto demoró 1.6749391555786133 Sur Temuco\n",
      "tiempo que lleva corriendo 17.371781067053476 Min\n"
     ]
    },
    {
     "name": "stderr",
     "output_type": "stream",
     "text": [
      "INFO:fbprophet:Disabling daily seasonality. Run prophet with daily_seasonality=True to override this.\n"
     ]
    },
    {
     "name": "stdout",
     "output_type": "stream",
     "text": [
      "El producto demoró 1.4727659225463867 Sur Temuco\n",
      "tiempo que lleva corriendo 17.396343835194905 Min\n"
     ]
    },
    {
     "name": "stderr",
     "output_type": "stream",
     "text": [
      "INFO:fbprophet:Disabling daily seasonality. Run prophet with daily_seasonality=True to override this.\n"
     ]
    },
    {
     "name": "stdout",
     "output_type": "stream",
     "text": [
      "El producto demoró 1.7294864654541016 Sur Temuco\n",
      "tiempo que lleva corriendo 17.425185279051462 Min\n"
     ]
    },
    {
     "name": "stderr",
     "output_type": "stream",
     "text": [
      "INFO:fbprophet:Disabling daily seasonality. Run prophet with daily_seasonality=True to override this.\n"
     ]
    },
    {
     "name": "stdout",
     "output_type": "stream",
     "text": [
      "El producto demoró 1.6614279747009277 Sur Temuco\n",
      "tiempo que lleva corriendo 17.452892410755158 Min\n"
     ]
    },
    {
     "name": "stderr",
     "output_type": "stream",
     "text": [
      "INFO:fbprophet:Disabling daily seasonality. Run prophet with daily_seasonality=True to override this.\n"
     ]
    },
    {
     "name": "stdout",
     "output_type": "stream",
     "text": [
      "El producto demoró 1.7870357036590576 Sur Temuco\n",
      "tiempo que lleva corriendo 17.482693008581798 Min\n"
     ]
    },
    {
     "name": "stderr",
     "output_type": "stream",
     "text": [
      "INFO:fbprophet:Disabling daily seasonality. Run prophet with daily_seasonality=True to override this.\n"
     ]
    },
    {
     "name": "stdout",
     "output_type": "stream",
     "text": [
      "El producto demoró 1.3556647300720215 Sur Temuco\n",
      "tiempo que lleva corriendo 17.505395845572153 Min\n"
     ]
    },
    {
     "name": "stderr",
     "output_type": "stream",
     "text": [
      "INFO:fbprophet:Disabling daily seasonality. Run prophet with daily_seasonality=True to override this.\n"
     ]
    },
    {
     "name": "stdout",
     "output_type": "stream",
     "text": [
      "El producto demoró 1.533818244934082 Sur Temuco\n",
      "tiempo que lleva corriendo 17.5309845050176 Min\n"
     ]
    },
    {
     "name": "stderr",
     "output_type": "stream",
     "text": [
      "INFO:fbprophet:Disabling daily seasonality. Run prophet with daily_seasonality=True to override this.\n"
     ]
    },
    {
     "name": "stdout",
     "output_type": "stream",
     "text": [
      "El producto demoró 1.3026196956634521 Sur Temuco\n",
      "tiempo que lleva corriendo 17.552719835440318 Min\n"
     ]
    },
    {
     "name": "stderr",
     "output_type": "stream",
     "text": [
      "INFO:fbprophet:Disabling daily seasonality. Run prophet with daily_seasonality=True to override this.\n"
     ]
    },
    {
     "name": "stdout",
     "output_type": "stream",
     "text": [
      "El producto demoró 1.5178039073944092 Sur Temuco\n",
      "tiempo que lleva corriendo 17.57804159720739 Min\n"
     ]
    },
    {
     "name": "stderr",
     "output_type": "stream",
     "text": [
      "INFO:fbprophet:Disabling daily seasonality. Run prophet with daily_seasonality=True to override this.\n"
     ]
    },
    {
     "name": "stdout",
     "output_type": "stream",
     "text": [
      "El producto demoró 1.4882786273956299 Sur Temuco\n",
      "tiempo que lleva corriendo 17.60287124713262 Min\n"
     ]
    },
    {
     "name": "stderr",
     "output_type": "stream",
     "text": [
      "INFO:fbprophet:Disabling daily seasonality. Run prophet with daily_seasonality=True to override this.\n"
     ]
    },
    {
     "name": "stdout",
     "output_type": "stream",
     "text": [
      "El producto demoró 1.2785983085632324 Sur Temuco\n",
      "tiempo que lleva corriendo 17.624206233024598 Min\n"
     ]
    },
    {
     "name": "stderr",
     "output_type": "stream",
     "text": [
      "INFO:fbprophet:Disabling daily seasonality. Run prophet with daily_seasonality=True to override this.\n"
     ]
    },
    {
     "name": "stdout",
     "output_type": "stream",
     "text": [
      "El producto demoró 1.3761827945709229 Sur Temuco\n",
      "tiempo que lleva corriendo 17.647159294287363 Min\n"
     ]
    },
    {
     "name": "stderr",
     "output_type": "stream",
     "text": [
      "INFO:fbprophet:Disabling daily seasonality. Run prophet with daily_seasonality=True to override this.\n"
     ]
    },
    {
     "name": "stdout",
     "output_type": "stream",
     "text": [
      "El producto demoró 1.3151299953460693 Sur Temuco\n",
      "tiempo que lleva corriendo 17.669094800949097 Min\n"
     ]
    },
    {
     "name": "stderr",
     "output_type": "stream",
     "text": [
      "INFO:fbprophet:Disabling daily seasonality. Run prophet with daily_seasonality=True to override this.\n"
     ]
    },
    {
     "name": "stdout",
     "output_type": "stream",
     "text": [
      "El producto demoró 1.562842607498169 Sur Temuco\n",
      "tiempo que lleva corriendo 17.695167207717894 Min\n"
     ]
    },
    {
     "name": "stderr",
     "output_type": "stream",
     "text": [
      "INFO:fbprophet:Disabling daily seasonality. Run prophet with daily_seasonality=True to override this.\n"
     ]
    },
    {
     "name": "stdout",
     "output_type": "stream",
     "text": [
      "El producto demoró 1.5588388442993164 Sur Temuco\n",
      "tiempo que lleva corriendo 17.72116452852885 Min\n"
     ]
    },
    {
     "name": "stderr",
     "output_type": "stream",
     "text": [
      "INFO:fbprophet:Disabling daily seasonality. Run prophet with daily_seasonality=True to override this.\n"
     ]
    },
    {
     "name": "stdout",
     "output_type": "stream",
     "text": [
      "El producto demoró 1.3761825561523438 Sur Temuco\n",
      "tiempo que lleva corriendo 17.744125926494597 Min\n"
     ]
    },
    {
     "name": "stderr",
     "output_type": "stream",
     "text": [
      "INFO:fbprophet:Disabling daily seasonality. Run prophet with daily_seasonality=True to override this.\n"
     ]
    },
    {
     "name": "stdout",
     "output_type": "stream",
     "text": [
      "El producto demoró 1.2435681819915771 Sur Temuco\n",
      "tiempo que lleva corriendo 17.764868740240733 Min\n"
     ]
    },
    {
     "name": "stderr",
     "output_type": "stream",
     "text": [
      "INFO:fbprophet:Disabling daily seasonality. Run prophet with daily_seasonality=True to override this.\n"
     ]
    },
    {
     "name": "stdout",
     "output_type": "stream",
     "text": [
      "El producto demoró 1.4347329139709473 Sur Temuco\n",
      "tiempo que lleva corriendo 17.788881047566733 Min\n",
      "El producto demoró 0.005003452301025391 Sur Temuco\n",
      "tiempo que lleva corriendo 17.788964438438416 Min\n"
     ]
    },
    {
     "name": "stderr",
     "output_type": "stream",
     "text": [
      "INFO:fbprophet:Disabling daily seasonality. Run prophet with daily_seasonality=True to override this.\n"
     ]
    },
    {
     "name": "stdout",
     "output_type": "stream",
     "text": [
      "El producto demoró 1.3266398906707764 Sur Temuco\n",
      "tiempo que lleva corriendo 17.811100121339162 Min\n"
     ]
    },
    {
     "name": "stderr",
     "output_type": "stream",
     "text": [
      "INFO:fbprophet:Disabling daily seasonality. Run prophet with daily_seasonality=True to override this.\n"
     ]
    },
    {
     "name": "stdout",
     "output_type": "stream",
     "text": [
      "El producto demoró 1.3421528339385986 Sur Temuco\n",
      "tiempo que lleva corriendo 17.833494353294373 Min\n"
     ]
    },
    {
     "name": "stderr",
     "output_type": "stream",
     "text": [
      "INFO:fbprophet:Disabling daily seasonality. Run prophet with daily_seasonality=True to override this.\n"
     ]
    },
    {
     "name": "stdout",
     "output_type": "stream",
     "text": [
      "El producto demoró 1.5773556232452393 Sur Temuco\n",
      "tiempo que lleva corriendo 17.859800287087758 Min\n"
     ]
    },
    {
     "name": "stderr",
     "output_type": "stream",
     "text": [
      "INFO:fbprophet:Disabling daily seasonality. Run prophet with daily_seasonality=True to override this.\n"
     ]
    },
    {
     "name": "stdout",
     "output_type": "stream",
     "text": [
      "El producto demoró 1.3461568355560303 Sur Temuco\n",
      "tiempo que lleva corriendo 17.882244578997295 Min\n"
     ]
    },
    {
     "name": "stderr",
     "output_type": "stream",
     "text": [
      "INFO:fbprophet:Disabling daily seasonality. Run prophet with daily_seasonality=True to override this.\n"
     ]
    },
    {
     "name": "stdout",
     "output_type": "stream",
     "text": [
      "El producto demoró 1.3681755065917969 Sur Temuco\n",
      "tiempo que lleva corriendo 17.905072510242462 Min\n"
     ]
    },
    {
     "name": "stderr",
     "output_type": "stream",
     "text": [
      "INFO:fbprophet:Disabling daily seasonality. Run prophet with daily_seasonality=True to override this.\n"
     ]
    },
    {
     "name": "stdout",
     "output_type": "stream",
     "text": [
      "El producto demoró 1.665431022644043 Sur Temuco\n",
      "tiempo que lleva corriendo 17.93284636735916 Min\n"
     ]
    },
    {
     "name": "stderr",
     "output_type": "stream",
     "text": [
      "INFO:fbprophet:Disabling daily seasonality. Run prophet with daily_seasonality=True to override this.\n"
     ]
    },
    {
     "name": "stdout",
     "output_type": "stream",
     "text": [
      "El producto demoró 1.7149736881256104 Sur Temuco\n",
      "tiempo que lleva corriendo 17.96145428419113 Min\n"
     ]
    },
    {
     "name": "stderr",
     "output_type": "stream",
     "text": [
      "INFO:fbprophet:Disabling daily seasonality. Run prophet with daily_seasonality=True to override this.\n"
     ]
    },
    {
     "name": "stdout",
     "output_type": "stream",
     "text": [
      "El producto demoró 1.5558371543884277 Sur Temuco\n",
      "tiempo que lleva corriendo 17.987409917513528 Min\n"
     ]
    },
    {
     "name": "stderr",
     "output_type": "stream",
     "text": [
      "INFO:fbprophet:Disabling daily seasonality. Run prophet with daily_seasonality=True to override this.\n"
     ]
    },
    {
     "name": "stdout",
     "output_type": "stream",
     "text": [
      "El producto demoró 1.839080810546875 Sur Temuco\n",
      "tiempo que lleva corriendo 18.018077913920084 Min\n"
     ]
    },
    {
     "name": "stderr",
     "output_type": "stream",
     "text": [
      "INFO:fbprophet:Disabling daily seasonality. Run prophet with daily_seasonality=True to override this.\n"
     ]
    },
    {
     "name": "stdout",
     "output_type": "stream",
     "text": [
      "El producto demoró 1.6404097080230713 Sur Temuco\n",
      "tiempo que lleva corriendo 18.045434749126436 Min\n"
     ]
    },
    {
     "name": "stderr",
     "output_type": "stream",
     "text": [
      "INFO:fbprophet:Disabling daily seasonality. Run prophet with daily_seasonality=True to override this.\n"
     ]
    },
    {
     "name": "stdout",
     "output_type": "stream",
     "text": [
      "El producto demoró 1.394197702407837 Sur Temuco\n",
      "tiempo que lleva corriendo 18.068696399529774 Min\n"
     ]
    },
    {
     "name": "stderr",
     "output_type": "stream",
     "text": [
      "INFO:fbprophet:Disabling daily seasonality. Run prophet with daily_seasonality=True to override this.\n"
     ]
    },
    {
     "name": "stdout",
     "output_type": "stream",
     "text": [
      "El producto demoró 1.4427399635314941 Sur Temuco\n",
      "tiempo que lleva corriendo 18.092833801110586 Min\n"
     ]
    },
    {
     "name": "stderr",
     "output_type": "stream",
     "text": [
      "INFO:fbprophet:Disabling daily seasonality. Run prophet with daily_seasonality=True to override this.\n"
     ]
    },
    {
     "name": "stdout",
     "output_type": "stream",
     "text": [
      "El producto demoró 1.2170460224151611 Sur Temuco\n",
      "tiempo que lleva corriendo 18.11313457886378 Min\n"
     ]
    },
    {
     "name": "stderr",
     "output_type": "stream",
     "text": [
      "INFO:fbprophet:Disabling daily seasonality. Run prophet with daily_seasonality=True to override this.\n"
     ]
    },
    {
     "name": "stdout",
     "output_type": "stream",
     "text": [
      "El producto demoró 1.3306429386138916 Sur Temuco\n",
      "tiempo que lleva corriendo 18.13532863855362 Min\n"
     ]
    },
    {
     "name": "stderr",
     "output_type": "stream",
     "text": [
      "INFO:fbprophet:Disabling daily seasonality. Run prophet with daily_seasonality=True to override this.\n"
     ]
    },
    {
     "name": "stdout",
     "output_type": "stream",
     "text": [
      "El producto demoró 2.917506217956543 Sur Temuco\n",
      "tiempo que lleva corriendo 18.183962086836498 Min\n",
      "El producto demoró 0.004504203796386719 Sur Temuco\n",
      "tiempo que lleva corriendo 18.18403715689977 Min\n"
     ]
    },
    {
     "name": "stderr",
     "output_type": "stream",
     "text": [
      "INFO:fbprophet:Disabling daily seasonality. Run prophet with daily_seasonality=True to override this.\n"
     ]
    },
    {
     "name": "stdout",
     "output_type": "stream",
     "text": [
      "El producto demoró 2.621250867843628 Sur Temuco\n",
      "tiempo que lleva corriendo 18.227733019987742 Min\n"
     ]
    },
    {
     "name": "stderr",
     "output_type": "stream",
     "text": [
      "INFO:fbprophet:Disabling daily seasonality. Run prophet with daily_seasonality=True to override this.\n"
     ]
    },
    {
     "name": "stdout",
     "output_type": "stream",
     "text": [
      "El producto demoró 1.4067084789276123 Sur Temuco\n",
      "tiempo que lleva corriendo 18.2511781613032 Min\n",
      "El producto demoró 0.004503726959228516 Sur Temuco\n",
      "tiempo que lleva corriendo 18.25125322341919 Min\n",
      "El producto demoró 0.0040035247802734375 Sur Temuco\n",
      "tiempo que lleva corriendo 18.251328301429748 Min\n"
     ]
    },
    {
     "name": "stderr",
     "output_type": "stream",
     "text": [
      "INFO:fbprophet:Disabling daily seasonality. Run prophet with daily_seasonality=True to override this.\n"
     ]
    },
    {
     "name": "stdout",
     "output_type": "stream",
     "text": [
      "El producto demoró 1.2520744800567627 Sur Temuco\n",
      "tiempo que lleva corriendo 18.272204566001893 Min\n",
      "Valdivia\n"
     ]
    },
    {
     "name": "stderr",
     "output_type": "stream",
     "text": [
      "INFO:fbprophet:Disabling daily seasonality. Run prophet with daily_seasonality=True to override this.\n"
     ]
    },
    {
     "name": "stdout",
     "output_type": "stream",
     "text": [
      "El producto demoró 1.4862761497497559 Sur Valdivia\n",
      "tiempo que lleva corriendo 18.297342809041343 Min\n"
     ]
    },
    {
     "name": "stderr",
     "output_type": "stream",
     "text": [
      "INFO:fbprophet:Disabling daily seasonality. Run prophet with daily_seasonality=True to override this.\n"
     ]
    },
    {
     "name": "stdout",
     "output_type": "stream",
     "text": [
      "El producto demoró 1.817561149597168 Sur Valdivia\n",
      "tiempo que lleva corriendo 18.327660528818765 Min\n"
     ]
    },
    {
     "name": "stderr",
     "output_type": "stream",
     "text": [
      "INFO:fbprophet:Disabling daily seasonality. Run prophet with daily_seasonality=True to override this.\n"
     ]
    },
    {
     "name": "stdout",
     "output_type": "stream",
     "text": [
      "El producto demoró 1.5563364028930664 Sur Valdivia\n",
      "tiempo que lleva corriendo 18.35361615419388 Min\n"
     ]
    },
    {
     "name": "stderr",
     "output_type": "stream",
     "text": [
      "INFO:fbprophet:Disabling daily seasonality. Run prophet with daily_seasonality=True to override this.\n"
     ]
    },
    {
     "name": "stdout",
     "output_type": "stream",
     "text": [
      "El producto demoró 1.3501603603363037 Sur Valdivia\n",
      "tiempo que lleva corriendo 18.37613550424576 Min\n"
     ]
    },
    {
     "name": "stderr",
     "output_type": "stream",
     "text": [
      "INFO:fbprophet:Disabling daily seasonality. Run prophet with daily_seasonality=True to override this.\n"
     ]
    },
    {
     "name": "stdout",
     "output_type": "stream",
     "text": [
      "El producto demoró 1.5723512172698975 Sur Valdivia\n",
      "tiempo que lleva corriendo 18.402358035246532 Min\n"
     ]
    },
    {
     "name": "stderr",
     "output_type": "stream",
     "text": [
      "INFO:fbprophet:Disabling daily seasonality. Run prophet with daily_seasonality=True to override this.\n"
     ]
    },
    {
     "name": "stdout",
     "output_type": "stream",
     "text": [
      "El producto demoró 1.6429104804992676 Sur Valdivia\n",
      "tiempo que lleva corriendo 18.429748221238455 Min\n"
     ]
    },
    {
     "name": "stderr",
     "output_type": "stream",
     "text": [
      "INFO:fbprophet:Disabling daily seasonality. Run prophet with daily_seasonality=True to override this.\n"
     ]
    },
    {
     "name": "stdout",
     "output_type": "stream",
     "text": [
      "El producto demoró 1.355163812637329 Sur Valdivia\n",
      "tiempo que lleva corriendo 18.452342641353606 Min\n"
     ]
    },
    {
     "name": "stderr",
     "output_type": "stream",
     "text": [
      "INFO:fbprophet:Disabling daily seasonality. Run prophet with daily_seasonality=True to override this.\n"
     ]
    },
    {
     "name": "stdout",
     "output_type": "stream",
     "text": [
      "El producto demoró 1.5538339614868164 Sur Valdivia\n",
      "tiempo que lleva corriendo 18.478239874045055 Min\n"
     ]
    },
    {
     "name": "stderr",
     "output_type": "stream",
     "text": [
      "INFO:fbprophet:Disabling daily seasonality. Run prophet with daily_seasonality=True to override this.\n"
     ]
    },
    {
     "name": "stdout",
     "output_type": "stream",
     "text": [
      "El producto demoró 2.3550236225128174 Sur Valdivia\n",
      "tiempo que lleva corriendo 18.517506937185924 Min\n",
      "El producto demoró 0.004503965377807617 Sur Valdivia\n",
      "tiempo que lleva corriendo 18.517598680655162 Min\n",
      "El producto demoró 0.004003047943115234 Sur Valdivia\n",
      "tiempo que lleva corriendo 18.517682095368702 Min\n"
     ]
    },
    {
     "name": "stderr",
     "output_type": "stream",
     "text": [
      "INFO:fbprophet:Disabling daily seasonality. Run prophet with daily_seasonality=True to override this.\n"
     ]
    },
    {
     "name": "stdout",
     "output_type": "stream",
     "text": [
      "El producto demoró 1.4152159690856934 Sur Valdivia\n",
      "tiempo que lleva corriendo 18.54136076370875 Min\n"
     ]
    },
    {
     "name": "stderr",
     "output_type": "stream",
     "text": [
      "INFO:fbprophet:Disabling daily seasonality. Run prophet with daily_seasonality=True to override this.\n"
     ]
    },
    {
     "name": "stdout",
     "output_type": "stream",
     "text": [
      "El producto demoró 1.6559226512908936 Sur Valdivia\n",
      "tiempo que lleva corriendo 18.56896782318751 Min\n"
     ]
    },
    {
     "name": "stderr",
     "output_type": "stream",
     "text": [
      "INFO:fbprophet:Disabling daily seasonality. Run prophet with daily_seasonality=True to override this.\n"
     ]
    },
    {
     "name": "stdout",
     "output_type": "stream",
     "text": [
      "El producto demoró 1.555335521697998 Sur Valdivia\n",
      "tiempo que lleva corriendo 18.594915103912353 Min\n"
     ]
    },
    {
     "name": "stderr",
     "output_type": "stream",
     "text": [
      "INFO:fbprophet:Disabling daily seasonality. Run prophet with daily_seasonality=True to override this.\n"
     ]
    },
    {
     "name": "stdout",
     "output_type": "stream",
     "text": [
      "El producto demoró 1.5353193283081055 Sur Valdivia\n",
      "tiempo que lleva corriendo 18.620528773466745 Min\n"
     ]
    },
    {
     "name": "stderr",
     "output_type": "stream",
     "text": [
      "INFO:fbprophet:Disabling daily seasonality. Run prophet with daily_seasonality=True to override this.\n"
     ]
    },
    {
     "name": "stdout",
     "output_type": "stream",
     "text": [
      "El producto demoró 1.3766822814941406 Sur Valdivia\n",
      "tiempo que lleva corriendo 18.643490159511565 Min\n"
     ]
    },
    {
     "name": "stderr",
     "output_type": "stream",
     "text": [
      "INFO:fbprophet:Disabling daily seasonality. Run prophet with daily_seasonality=True to override this.\n"
     ]
    },
    {
     "name": "stdout",
     "output_type": "stream",
     "text": [
      "El producto demoró 1.377183437347412 Sur Valdivia\n",
      "tiempo que lleva corriendo 18.666476583480836 Min\n"
     ]
    },
    {
     "name": "stderr",
     "output_type": "stream",
     "text": [
      "INFO:fbprophet:Disabling daily seasonality. Run prophet with daily_seasonality=True to override this.\n"
     ]
    },
    {
     "name": "stdout",
     "output_type": "stream",
     "text": [
      "El producto demoró 1.4177181720733643 Sur Valdivia\n",
      "tiempo que lleva corriendo 18.690121881167094 Min\n"
     ]
    },
    {
     "name": "stderr",
     "output_type": "stream",
     "text": [
      "INFO:fbprophet:Disabling daily seasonality. Run prophet with daily_seasonality=True to override this.\n"
     ]
    },
    {
     "name": "stdout",
     "output_type": "stream",
     "text": [
      "El producto demoró 1.4502463340759277 Sur Valdivia\n",
      "tiempo que lleva corriendo 18.71430934270223 Min\n"
     ]
    },
    {
     "name": "stderr",
     "output_type": "stream",
     "text": [
      "INFO:fbprophet:Disabling daily seasonality. Run prophet with daily_seasonality=True to override this.\n"
     ]
    },
    {
     "name": "stdout",
     "output_type": "stream",
     "text": [
      "El producto demoró 1.6013753414154053 Sur Valdivia\n",
      "tiempo que lleva corriendo 18.74101561307907 Min\n"
     ]
    },
    {
     "name": "stderr",
     "output_type": "stream",
     "text": [
      "INFO:fbprophet:Disabling daily seasonality. Run prophet with daily_seasonality=True to override this.\n"
     ]
    },
    {
     "name": "stdout",
     "output_type": "stream",
     "text": [
      "El producto demoró 1.5738520622253418 Sur Valdivia\n",
      "tiempo que lleva corriendo 18.767271490891776 Min\n"
     ]
    },
    {
     "name": "stderr",
     "output_type": "stream",
     "text": [
      "INFO:fbprophet:Disabling daily seasonality. Run prophet with daily_seasonality=True to override this.\n"
     ]
    },
    {
     "name": "stdout",
     "output_type": "stream",
     "text": [
      "El producto demoró 1.6354053020477295 Sur Valdivia\n",
      "tiempo que lleva corriendo 18.794553260008495 Min\n"
     ]
    },
    {
     "name": "stderr",
     "output_type": "stream",
     "text": [
      "INFO:fbprophet:Disabling daily seasonality. Run prophet with daily_seasonality=True to override this.\n"
     ]
    },
    {
     "name": "stdout",
     "output_type": "stream",
     "text": [
      "El producto demoró 1.5933690071105957 Sur Valdivia\n",
      "tiempo que lleva corriendo 18.821117754777273 Min\n"
     ]
    },
    {
     "name": "stderr",
     "output_type": "stream",
     "text": [
      "INFO:fbprophet:Disabling daily seasonality. Run prophet with daily_seasonality=True to override this.\n"
     ]
    },
    {
     "name": "stdout",
     "output_type": "stream",
     "text": [
      "El producto demoró 1.2370624542236328 Sur Valdivia\n",
      "tiempo que lleva corriendo 18.84174379905065 Min\n"
     ]
    },
    {
     "name": "stderr",
     "output_type": "stream",
     "text": [
      "INFO:fbprophet:Disabling daily seasonality. Run prophet with daily_seasonality=True to override this.\n"
     ]
    },
    {
     "name": "stdout",
     "output_type": "stream",
     "text": [
      "El producto demoró 1.6263964176177979 Sur Valdivia\n",
      "tiempo que lleva corriendo 18.868933820724486 Min\n"
     ]
    },
    {
     "name": "stderr",
     "output_type": "stream",
     "text": [
      "INFO:fbprophet:Disabling daily seasonality. Run prophet with daily_seasonality=True to override this.\n"
     ]
    },
    {
     "name": "stdout",
     "output_type": "stream",
     "text": [
      "El producto demoró 1.2921104431152344 Sur Valdivia\n",
      "tiempo que lleva corriendo 18.890485672156014 Min\n"
     ]
    },
    {
     "name": "stderr",
     "output_type": "stream",
     "text": [
      "INFO:fbprophet:Disabling daily seasonality. Run prophet with daily_seasonality=True to override this.\n"
     ]
    },
    {
     "name": "stdout",
     "output_type": "stream",
     "text": [
      "El producto demoró 1.284102439880371 Sur Valdivia\n",
      "tiempo que lleva corriendo 18.911904068787894 Min\n",
      "El producto demoró 0.0040035247802734375 Sur Valdivia\n",
      "tiempo que lleva corriendo 18.91198747952779 Min\n"
     ]
    },
    {
     "name": "stderr",
     "output_type": "stream",
     "text": [
      "INFO:fbprophet:Disabling daily seasonality. Run prophet with daily_seasonality=True to override this.\n"
     ]
    },
    {
     "name": "stdout",
     "output_type": "stream",
     "text": [
      "El producto demoró 1.3446550369262695 Sur Valdivia\n",
      "tiempo que lleva corriendo 18.934415066242217 Min\n"
     ]
    },
    {
     "name": "stderr",
     "output_type": "stream",
     "text": [
      "INFO:fbprophet:Disabling daily seasonality. Run prophet with daily_seasonality=True to override this.\n"
     ]
    },
    {
     "name": "stdout",
     "output_type": "stream",
     "text": [
      "El producto demoró 1.303119421005249 Sur Valdivia\n",
      "tiempo que lleva corriendo 18.956158749262492 Min\n"
     ]
    },
    {
     "name": "stderr",
     "output_type": "stream",
     "text": [
      "INFO:fbprophet:Disabling daily seasonality. Run prophet with daily_seasonality=True to override this.\n"
     ]
    },
    {
     "name": "stdout",
     "output_type": "stream",
     "text": [
      "El producto demoró 1.3061225414276123 Sur Valdivia\n",
      "tiempo que lleva corriendo 18.977935791015625 Min\n",
      "El producto demoró 0.004503965377807617 Sur Valdivia\n",
      "tiempo que lleva corriendo 18.97801919778188 Min\n",
      "El producto demoró 0.0040035247802734375 Sur Valdivia\n",
      "tiempo que lleva corriendo 18.978085923194886 Min\n",
      "El producto demoró 0.004003286361694336 Sur Valdivia\n",
      "tiempo que lleva corriendo 18.978152644634246 Min\n",
      "El producto demoró 0.004003286361694336 Sur Valdivia\n",
      "tiempo que lleva corriendo 18.97822770277659 Min\n",
      "El producto demoró 0.004004001617431641 Sur Valdivia\n",
      "tiempo que lleva corriendo 18.97829443613688 Min\n"
     ]
    },
    {
     "name": "stderr",
     "output_type": "stream",
     "text": [
      "INFO:fbprophet:Disabling daily seasonality. Run prophet with daily_seasonality=True to override this.\n"
     ]
    },
    {
     "name": "stdout",
     "output_type": "stream",
     "text": [
      "El producto demoró 1.3851900100708008 Sur Valdivia\n",
      "tiempo que lleva corriendo 19.001455990473428 Min\n"
     ]
    },
    {
     "name": "stderr",
     "output_type": "stream",
     "text": [
      "INFO:fbprophet:Disabling daily seasonality. Run prophet with daily_seasonality=True to override this.\n"
     ]
    },
    {
     "name": "stdout",
     "output_type": "stream",
     "text": [
      "El producto demoró 1.5403239727020264 Sur Valdivia\n",
      "tiempo que lleva corriendo 19.027161407470704 Min\n"
     ]
    },
    {
     "name": "stderr",
     "output_type": "stream",
     "text": [
      "INFO:fbprophet:Disabling daily seasonality. Run prophet with daily_seasonality=True to override this.\n"
     ]
    },
    {
     "name": "stdout",
     "output_type": "stream",
     "text": [
      "El producto demoró 1.2325592041015625 Sur Valdivia\n",
      "tiempo que lleva corriendo 19.04771240154902 Min\n",
      "El producto demoró 0.004503488540649414 Sur Valdivia\n",
      "tiempo que lleva corriendo 19.04779580831528 Min\n",
      "El producto demoró 0.003503084182739258 Sur Valdivia\n",
      "tiempo que lleva corriendo 19.047854193051656 Min\n"
     ]
    },
    {
     "name": "stderr",
     "output_type": "stream",
     "text": [
      "INFO:fbprophet:Disabling daily seasonality. Run prophet with daily_seasonality=True to override this.\n"
     ]
    },
    {
     "name": "stdout",
     "output_type": "stream",
     "text": [
      "El producto demoró 1.3461558818817139 Sur Valdivia\n",
      "tiempo que lleva corriendo 19.070315142472584 Min\n",
      "El producto demoró 0.0035033226013183594 Sur Valdivia\n",
      "tiempo que lleva corriendo 19.070398549238842 Min\n",
      "El producto demoró 1.2515759468078613 Sur Valdivia\n",
      "tiempo que lleva corriendo 19.091283166408537 Min\n",
      "Norte\n",
      "Antofagasta\n"
     ]
    },
    {
     "name": "stderr",
     "output_type": "stream",
     "text": [
      "INFO:fbprophet:Disabling daily seasonality. Run prophet with daily_seasonality=True to override this.\n",
      "INFO:fbprophet:Disabling daily seasonality. Run prophet with daily_seasonality=True to override this.\n"
     ]
    },
    {
     "name": "stdout",
     "output_type": "stream",
     "text": [
      "El producto demoró 1.3791849613189697 Norte Antofagasta\n",
      "tiempo que lleva corriendo 19.11725548108419 Min\n"
     ]
    },
    {
     "name": "stderr",
     "output_type": "stream",
     "text": [
      "INFO:fbprophet:Disabling daily seasonality. Run prophet with daily_seasonality=True to override this.\n"
     ]
    },
    {
     "name": "stdout",
     "output_type": "stream",
     "text": [
      "El producto demoró 1.6449124813079834 Norte Antofagasta\n",
      "tiempo que lleva corriendo 19.144687378406523 Min\n"
     ]
    },
    {
     "name": "stderr",
     "output_type": "stream",
     "text": [
      "INFO:fbprophet:Disabling daily seasonality. Run prophet with daily_seasonality=True to override this.\n"
     ]
    },
    {
     "name": "stdout",
     "output_type": "stream",
     "text": [
      "El producto demoró 1.5488312244415283 Norte Antofagasta\n",
      "tiempo que lleva corriendo 19.170526242256166 Min\n"
     ]
    },
    {
     "name": "stderr",
     "output_type": "stream",
     "text": [
      "INFO:fbprophet:Disabling daily seasonality. Run prophet with daily_seasonality=True to override this.\n"
     ]
    },
    {
     "name": "stdout",
     "output_type": "stream",
     "text": [
      "El producto demoró 1.8290722370147705 Norte Antofagasta\n",
      "tiempo que lleva corriendo 19.20103576978048 Min\n"
     ]
    },
    {
     "name": "stderr",
     "output_type": "stream",
     "text": [
      "INFO:fbprophet:Disabling daily seasonality. Run prophet with daily_seasonality=True to override this.\n"
     ]
    },
    {
     "name": "stdout",
     "output_type": "stream",
     "text": [
      "El producto demoró 1.39119553565979 Norte Antofagasta\n",
      "tiempo que lleva corriendo 19.224247376124065 Min\n"
     ]
    },
    {
     "name": "stderr",
     "output_type": "stream",
     "text": [
      "INFO:fbprophet:Disabling daily seasonality. Run prophet with daily_seasonality=True to override this.\n"
     ]
    },
    {
     "name": "stdout",
     "output_type": "stream",
     "text": [
      "El producto demoró 1.39119553565979 Norte Antofagasta\n",
      "tiempo que lleva corriendo 19.247442297140758 Min\n"
     ]
    },
    {
     "name": "stderr",
     "output_type": "stream",
     "text": [
      "INFO:fbprophet:Disabling daily seasonality. Run prophet with daily_seasonality=True to override this.\n"
     ]
    },
    {
     "name": "stdout",
     "output_type": "stream",
     "text": [
      "El producto demoró 1.6329033374786377 Norte Antofagasta\n",
      "tiempo que lleva corriendo 19.274674022197722 Min\n"
     ]
    },
    {
     "name": "stderr",
     "output_type": "stream",
     "text": [
      "INFO:fbprophet:Disabling daily seasonality. Run prophet with daily_seasonality=True to override this.\n"
     ]
    },
    {
     "name": "stdout",
     "output_type": "stream",
     "text": [
      "El producto demoró 1.5533349514007568 Norte Antofagasta\n",
      "tiempo que lleva corriendo 19.300587952136993 Min\n"
     ]
    },
    {
     "name": "stderr",
     "output_type": "stream",
     "text": [
      "INFO:fbprophet:Disabling daily seasonality. Run prophet with daily_seasonality=True to override this.\n"
     ]
    },
    {
     "name": "stdout",
     "output_type": "stream",
     "text": [
      "El producto demoró 1.6749389171600342 Norte Antofagasta\n",
      "tiempo que lleva corriendo 19.328520286083222 Min\n"
     ]
    },
    {
     "name": "stderr",
     "output_type": "stream",
     "text": [
      "INFO:fbprophet:Disabling daily seasonality. Run prophet with daily_seasonality=True to override this.\n"
     ]
    },
    {
     "name": "stdout",
     "output_type": "stream",
     "text": [
      "El producto demoró 1.5933692455291748 Norte Antofagasta\n",
      "tiempo que lleva corriendo 19.355093109607697 Min\n"
     ]
    },
    {
     "name": "stderr",
     "output_type": "stream",
     "text": [
      "INFO:fbprophet:Disabling daily seasonality. Run prophet with daily_seasonality=True to override this.\n"
     ]
    },
    {
     "name": "stdout",
     "output_type": "stream",
     "text": [
      "El producto demoró 1.8100552558898926 Norte Antofagasta\n",
      "tiempo que lleva corriendo 19.385277366638185 Min\n"
     ]
    },
    {
     "name": "stderr",
     "output_type": "stream",
     "text": [
      "INFO:fbprophet:Disabling daily seasonality. Run prophet with daily_seasonality=True to override this.\n"
     ]
    },
    {
     "name": "stdout",
     "output_type": "stream",
     "text": [
      "El producto demoró 1.2841041088104248 Norte Antofagasta\n",
      "tiempo que lleva corriendo 19.406687446435292 Min\n"
     ]
    },
    {
     "name": "stderr",
     "output_type": "stream",
     "text": [
      "INFO:fbprophet:Disabling daily seasonality. Run prophet with daily_seasonality=True to override this.\n"
     ]
    },
    {
     "name": "stdout",
     "output_type": "stream",
     "text": [
      "El producto demoró 1.3681747913360596 Norte Antofagasta\n",
      "tiempo que lleva corriendo 19.429582115014394 Min\n"
     ]
    },
    {
     "name": "stderr",
     "output_type": "stream",
     "text": [
      "INFO:fbprophet:Disabling daily seasonality. Run prophet with daily_seasonality=True to override this.\n"
     ]
    },
    {
     "name": "stdout",
     "output_type": "stream",
     "text": [
      "El producto demoró 1.6634278297424316 Norte Antofagasta\n",
      "tiempo que lleva corriendo 19.45732260942459 Min\n"
     ]
    },
    {
     "name": "stderr",
     "output_type": "stream",
     "text": [
      "INFO:fbprophet:Disabling daily seasonality. Run prophet with daily_seasonality=True to override this.\n"
     ]
    },
    {
     "name": "stdout",
     "output_type": "stream",
     "text": [
      "El producto demoró 1.5092957019805908 Norte Antofagasta\n",
      "tiempo que lleva corriendo 19.48248587846756 Min\n",
      "El producto demoró 0.004503965377807617 Norte Antofagasta\n",
      "tiempo que lleva corriendo 19.482569285233815 Min\n"
     ]
    },
    {
     "name": "stderr",
     "output_type": "stream",
     "text": [
      "INFO:fbprophet:Disabling daily seasonality. Run prophet with daily_seasonality=True to override this.\n"
     ]
    },
    {
     "name": "stdout",
     "output_type": "stream",
     "text": [
      "El producto demoró 1.2690906524658203 Norte Antofagasta\n",
      "tiempo que lleva corriendo 19.503737465540567 Min\n"
     ]
    },
    {
     "name": "stderr",
     "output_type": "stream",
     "text": [
      "INFO:fbprophet:Disabling daily seasonality. Run prophet with daily_seasonality=True to override this.\n"
     ]
    },
    {
     "name": "stdout",
     "output_type": "stream",
     "text": [
      "El producto demoró 1.641408920288086 Norte Antofagasta\n",
      "tiempo que lleva corriendo 19.531119318803153 Min\n"
     ]
    },
    {
     "name": "stderr",
     "output_type": "stream",
     "text": [
      "INFO:fbprophet:Disabling daily seasonality. Run prophet with daily_seasonality=True to override this.\n"
     ]
    },
    {
     "name": "stdout",
     "output_type": "stream",
     "text": [
      "El producto demoró 1.5117988586425781 Norte Antofagasta\n",
      "tiempo que lleva corriendo 19.556332643826803 Min\n"
     ]
    },
    {
     "name": "stderr",
     "output_type": "stream",
     "text": [
      "INFO:fbprophet:Disabling daily seasonality. Run prophet with daily_seasonality=True to override this.\n"
     ]
    },
    {
     "name": "stdout",
     "output_type": "stream",
     "text": [
      "El producto demoró 1.2720930576324463 Norte Antofagasta\n",
      "tiempo que lleva corriendo 19.577550880114238 Min\n"
     ]
    },
    {
     "name": "stderr",
     "output_type": "stream",
     "text": [
      "INFO:fbprophet:Disabling daily seasonality. Run prophet with daily_seasonality=True to override this.\n"
     ]
    },
    {
     "name": "stdout",
     "output_type": "stream",
     "text": [
      "El producto demoró 1.5628423690795898 Norte Antofagasta\n",
      "tiempo que lleva corriendo 19.60361493031184 Min\n"
     ]
    },
    {
     "name": "stderr",
     "output_type": "stream",
     "text": [
      "INFO:fbprophet:Disabling daily seasonality. Run prophet with daily_seasonality=True to override this.\n"
     ]
    },
    {
     "name": "stdout",
     "output_type": "stream",
     "text": [
      "El producto demoró 1.3616702556610107 Norte Antofagasta\n",
      "tiempo que lleva corriendo 19.62632610797882 Min\n",
      "El producto demoró 0.004003047943115234 Norte Antofagasta\n",
      "tiempo que lleva corriendo 19.626409510771435 Min\n",
      "El producto demoró 0.003503561019897461 Norte Antofagasta\n",
      "tiempo que lleva corriendo 19.626542953650155 Min\n"
     ]
    },
    {
     "name": "stderr",
     "output_type": "stream",
     "text": [
      "INFO:fbprophet:Disabling daily seasonality. Run prophet with daily_seasonality=True to override this.\n"
     ]
    },
    {
     "name": "stdout",
     "output_type": "stream",
     "text": [
      "El producto demoró 1.2440693378448486 Norte Antofagasta\n",
      "tiempo que lleva corriendo 19.647285775343576 Min\n"
     ]
    },
    {
     "name": "stderr",
     "output_type": "stream",
     "text": [
      "INFO:fbprophet:Disabling daily seasonality. Run prophet with daily_seasonality=True to override this.\n"
     ]
    },
    {
     "name": "stdout",
     "output_type": "stream",
     "text": [
      "El producto demoró 2.946031332015991 Norte Antofagasta\n",
      "tiempo que lleva corriendo 19.696402966976166 Min\n"
     ]
    },
    {
     "name": "stderr",
     "output_type": "stream",
     "text": [
      "INFO:fbprophet:Disabling daily seasonality. Run prophet with daily_seasonality=True to override this.\n"
     ]
    },
    {
     "name": "stdout",
     "output_type": "stream",
     "text": [
      "El producto demoró 1.3982014656066895 Norte Antofagasta\n",
      "tiempo que lleva corriendo 19.719714657465616 Min\n"
     ]
    },
    {
     "name": "stderr",
     "output_type": "stream",
     "text": [
      "INFO:fbprophet:Disabling daily seasonality. Run prophet with daily_seasonality=True to override this.\n"
     ]
    },
    {
     "name": "stdout",
     "output_type": "stream",
     "text": [
      "El producto demoró 2.3154892921447754 Norte Antofagasta\n",
      "tiempo que lleva corriendo 19.75832282702128 Min\n"
     ]
    },
    {
     "name": "stderr",
     "output_type": "stream",
     "text": [
      "INFO:fbprophet:Disabling daily seasonality. Run prophet with daily_seasonality=True to override this.\n"
     ]
    },
    {
     "name": "stdout",
     "output_type": "stream",
     "text": [
      "El producto demoró 1.3941981792449951 Norte Antofagasta\n",
      "tiempo que lleva corriendo 19.781567800045014 Min\n",
      "El producto demoró 0.004503488540649414 Norte Antofagasta\n",
      "tiempo que lleva corriendo 19.78165121078491 Min\n",
      "El producto demoró 0.0035026073455810547 Norte Antofagasta\n",
      "tiempo que lleva corriendo 19.781717924276986 Min\n"
     ]
    },
    {
     "name": "stderr",
     "output_type": "stream",
     "text": [
      "INFO:fbprophet:Disabling daily seasonality. Run prophet with daily_seasonality=True to override this.\n"
     ]
    },
    {
     "name": "stdout",
     "output_type": "stream",
     "text": [
      "El producto demoró 1.36016845703125 Norte Antofagasta\n",
      "tiempo que lleva corriendo 19.80440407594045 Min\n"
     ]
    },
    {
     "name": "stderr",
     "output_type": "stream",
     "text": [
      "INFO:fbprophet:Disabling daily seasonality. Run prophet with daily_seasonality=True to override this.\n"
     ]
    },
    {
     "name": "stdout",
     "output_type": "stream",
     "text": [
      "El producto demoró 1.685448408126831 Norte Antofagasta\n",
      "tiempo que lleva corriendo 19.832511552174886 Min\n",
      "Arica\n"
     ]
    },
    {
     "name": "stderr",
     "output_type": "stream",
     "text": [
      "INFO:fbprophet:Disabling daily seasonality. Run prophet with daily_seasonality=True to override this.\n"
     ]
    },
    {
     "name": "stdout",
     "output_type": "stream",
     "text": [
      "El producto demoró 1.3291423320770264 Norte Arica\n",
      "tiempo que lleva corriendo 19.854947491486868 Min\n"
     ]
    },
    {
     "name": "stderr",
     "output_type": "stream",
     "text": [
      "INFO:fbprophet:Disabling daily seasonality. Run prophet with daily_seasonality=True to override this.\n"
     ]
    },
    {
     "name": "stdout",
     "output_type": "stream",
     "text": [
      "El producto demoró 1.7475018501281738 Norte Arica\n",
      "tiempo que lleva corriendo 19.884080855051675 Min\n"
     ]
    },
    {
     "name": "stderr",
     "output_type": "stream",
     "text": [
      "INFO:fbprophet:Disabling daily seasonality. Run prophet with daily_seasonality=True to override this.\n"
     ]
    },
    {
     "name": "stdout",
     "output_type": "stream",
     "text": [
      "El producto demoró 1.5047924518585205 Norte Arica\n",
      "tiempo que lleva corriendo 19.90918575922648 Min\n"
     ]
    },
    {
     "name": "stderr",
     "output_type": "stream",
     "text": [
      "INFO:fbprophet:Disabling daily seasonality. Run prophet with daily_seasonality=True to override this.\n"
     ]
    },
    {
     "name": "stdout",
     "output_type": "stream",
     "text": [
      "El producto demoró 1.4922819137573242 Norte Arica\n",
      "tiempo que lleva corriendo 19.93408215045929 Min\n"
     ]
    },
    {
     "name": "stderr",
     "output_type": "stream",
     "text": [
      "INFO:fbprophet:Disabling daily seasonality. Run prophet with daily_seasonality=True to override this.\n"
     ]
    },
    {
     "name": "stdout",
     "output_type": "stream",
     "text": [
      "El producto demoró 1.448244571685791 Norte Arica\n",
      "tiempo que lleva corriendo 19.958244562149048 Min\n",
      "El producto demoró 0.00450444221496582 Norte Arica\n",
      "tiempo que lleva corriendo 19.958336309591928 Min\n"
     ]
    },
    {
     "name": "stderr",
     "output_type": "stream",
     "text": [
      "INFO:fbprophet:Disabling daily seasonality. Run prophet with daily_seasonality=True to override this.\n"
     ]
    },
    {
     "name": "stdout",
     "output_type": "stream",
     "text": [
      "El producto demoró 1.5928688049316406 Norte Arica\n",
      "tiempo que lleva corriendo 19.984909137090046 Min\n"
     ]
    },
    {
     "name": "stderr",
     "output_type": "stream",
     "text": [
      "INFO:fbprophet:Disabling daily seasonality. Run prophet with daily_seasonality=True to override this.\n"
     ]
    },
    {
     "name": "stdout",
     "output_type": "stream",
     "text": [
      "El producto demoró 1.7039637565612793 Norte Arica\n",
      "tiempo que lleva corriendo 20.013316877683003 Min\n"
     ]
    },
    {
     "name": "stderr",
     "output_type": "stream",
     "text": [
      "INFO:fbprophet:Disabling daily seasonality. Run prophet with daily_seasonality=True to override this.\n"
     ]
    },
    {
     "name": "stdout",
     "output_type": "stream",
     "text": [
      "El producto demoró 1.4892792701721191 Norte Arica\n",
      "tiempo que lleva corriendo 20.03815488020579 Min\n"
     ]
    },
    {
     "name": "stderr",
     "output_type": "stream",
     "text": [
      "INFO:fbprophet:Disabling daily seasonality. Run prophet with daily_seasonality=True to override this.\n"
     ]
    },
    {
     "name": "stdout",
     "output_type": "stream",
     "text": [
      "El producto demoró 1.6969578266143799 Norte Arica\n",
      "tiempo que lleva corriendo 20.066462524731953 Min\n"
     ]
    },
    {
     "name": "stderr",
     "output_type": "stream",
     "text": [
      "INFO:fbprophet:Disabling daily seasonality. Run prophet with daily_seasonality=True to override this.\n"
     ]
    },
    {
     "name": "stdout",
     "output_type": "stream",
     "text": [
      "El producto demoró 1.7174756526947021 Norte Arica\n",
      "tiempo que lleva corriendo 20.09510379632314 Min\n",
      "El producto demoró 0.0050046443939208984 Norte Arica\n",
      "tiempo que lleva corriendo 20.095187207063038 Min\n"
     ]
    },
    {
     "name": "stderr",
     "output_type": "stream",
     "text": [
      "INFO:fbprophet:Disabling daily seasonality. Run prophet with daily_seasonality=True to override this.\n"
     ]
    },
    {
     "name": "stdout",
     "output_type": "stream",
     "text": [
      "El producto demoró 1.4067084789276123 Norte Arica\n",
      "tiempo que lleva corriendo 20.1186323483785 Min\n"
     ]
    },
    {
     "name": "stderr",
     "output_type": "stream",
     "text": [
      "INFO:fbprophet:Disabling daily seasonality. Run prophet with daily_seasonality=True to override this.\n"
     ]
    },
    {
     "name": "stdout",
     "output_type": "stream",
     "text": [
      "El producto demoró 1.3641724586486816 Norte Arica\n",
      "tiempo que lleva corriendo 20.14146028359731 Min\n"
     ]
    },
    {
     "name": "stderr",
     "output_type": "stream",
     "text": [
      "INFO:fbprophet:Disabling daily seasonality. Run prophet with daily_seasonality=True to override this.\n"
     ]
    },
    {
     "name": "stdout",
     "output_type": "stream",
     "text": [
      "El producto demoró 1.3166487216949463 Norte Arica\n",
      "tiempo que lleva corriendo 20.163421114285786 Min\n"
     ]
    },
    {
     "name": "stderr",
     "output_type": "stream",
     "text": [
      "INFO:fbprophet:Disabling daily seasonality. Run prophet with daily_seasonality=True to override this.\n"
     ]
    },
    {
     "name": "stdout",
     "output_type": "stream",
     "text": [
      "El producto demoró 1.322636365890503 Norte Arica\n",
      "tiempo que lleva corriendo 20.185490067799886 Min\n"
     ]
    },
    {
     "name": "stderr",
     "output_type": "stream",
     "text": [
      "INFO:fbprophet:Disabling daily seasonality. Run prophet with daily_seasonality=True to override this.\n"
     ]
    },
    {
     "name": "stdout",
     "output_type": "stream",
     "text": [
      "El producto demoró 1.2635862827301025 Norte Arica\n",
      "tiempo que lleva corriendo 20.2065665046374 Min\n"
     ]
    },
    {
     "name": "stderr",
     "output_type": "stream",
     "text": [
      "INFO:fbprophet:Disabling daily seasonality. Run prophet with daily_seasonality=True to override this.\n"
     ]
    },
    {
     "name": "stdout",
     "output_type": "stream",
     "text": [
      "El producto demoró 1.3836894035339355 Norte Arica\n",
      "tiempo que lleva corriendo 20.22964466412862 Min\n"
     ]
    },
    {
     "name": "stderr",
     "output_type": "stream",
     "text": [
      "INFO:fbprophet:Disabling daily seasonality. Run prophet with daily_seasonality=True to override this.\n"
     ]
    },
    {
     "name": "stdout",
     "output_type": "stream",
     "text": [
      "El producto demoró 1.328141689300537 Norte Arica\n",
      "tiempo que lleva corriendo 20.25179702838262 Min\n"
     ]
    },
    {
     "name": "stderr",
     "output_type": "stream",
     "text": [
      "INFO:fbprophet:Disabling daily seasonality. Run prophet with daily_seasonality=True to override this.\n"
     ]
    },
    {
     "name": "stdout",
     "output_type": "stream",
     "text": [
      "El producto demoró 1.3191328048706055 Norte Arica\n",
      "tiempo que lleva corriendo 20.273799264431 Min\n"
     ]
    },
    {
     "name": "stderr",
     "output_type": "stream",
     "text": [
      "INFO:fbprophet:Disabling daily seasonality. Run prophet with daily_seasonality=True to override this.\n"
     ]
    },
    {
     "name": "stdout",
     "output_type": "stream",
     "text": [
      "El producto demoró 1.2530765533447266 Norte Arica\n",
      "tiempo que lleva corriendo 20.294700558980306 Min\n"
     ]
    },
    {
     "name": "stderr",
     "output_type": "stream",
     "text": [
      "INFO:fbprophet:Disabling daily seasonality. Run prophet with daily_seasonality=True to override this.\n"
     ]
    },
    {
     "name": "stdout",
     "output_type": "stream",
     "text": [
      "El producto demoró 1.385690689086914 Norte Arica\n",
      "tiempo que lleva corriendo 20.31787045796712 Min\n"
     ]
    },
    {
     "name": "stderr",
     "output_type": "stream",
     "text": [
      "INFO:fbprophet:Disabling daily seasonality. Run prophet with daily_seasonality=True to override this.\n"
     ]
    },
    {
     "name": "stdout",
     "output_type": "stream",
     "text": [
      "El producto demoró 1.4022047519683838 Norte Arica\n",
      "tiempo que lleva corriendo 20.341248865922292 Min\n"
     ]
    },
    {
     "name": "stderr",
     "output_type": "stream",
     "text": [
      "INFO:fbprophet:Disabling daily seasonality. Run prophet with daily_seasonality=True to override this.\n"
     ]
    },
    {
     "name": "stdout",
     "output_type": "stream",
     "text": [
      "El producto demoró 1.5072953701019287 Norte Arica\n",
      "tiempo que lleva corriendo 20.366395477453867 Min\n"
     ]
    },
    {
     "name": "stderr",
     "output_type": "stream",
     "text": [
      "INFO:fbprophet:Disabling daily seasonality. Run prophet with daily_seasonality=True to override this.\n"
     ]
    },
    {
     "name": "stdout",
     "output_type": "stream",
     "text": [
      "El producto demoró 1.5127999782562256 Norte Arica\n",
      "tiempo que lleva corriendo 20.39163381656011 Min\n"
     ]
    },
    {
     "name": "stderr",
     "output_type": "stream",
     "text": [
      "INFO:fbprophet:Disabling daily seasonality. Run prophet with daily_seasonality=True to override this.\n"
     ]
    },
    {
     "name": "stdout",
     "output_type": "stream",
     "text": [
      "El producto demoró 1.2801001071929932 Norte Arica\n",
      "tiempo que lleva corriendo 20.412985495726268 Min\n"
     ]
    },
    {
     "name": "stderr",
     "output_type": "stream",
     "text": [
      "INFO:fbprophet:Disabling daily seasonality. Run prophet with daily_seasonality=True to override this.\n"
     ]
    },
    {
     "name": "stdout",
     "output_type": "stream",
     "text": [
      "El producto demoró 1.6969578266143799 Norte Arica\n",
      "tiempo que lleva corriendo 20.44127645889918 Min\n",
      "El producto demoró 0.0050048828125 Norte Arica\n",
      "tiempo que lleva corriendo 20.441376547018688 Min\n",
      "El producto demoró 0.004503965377807617 Norte Arica\n",
      "tiempo que lleva corriendo 20.441459953784943 Min\n",
      "El producto demoró 0.003503084182739258 Norte Arica\n",
      "tiempo que lleva corriendo 20.44153501590093 Min\n",
      "El producto demoró 0.0035028457641601562 Norte Arica\n",
      "tiempo que lleva corriendo 20.441601737340292 Min\n",
      "Calama\n"
     ]
    },
    {
     "name": "stderr",
     "output_type": "stream",
     "text": [
      "INFO:fbprophet:Disabling daily seasonality. Run prophet with daily_seasonality=True to override this.\n"
     ]
    },
    {
     "name": "stdout",
     "output_type": "stream",
     "text": [
      "El producto demoró 1.3641724586486816 Norte Calama\n",
      "tiempo que lleva corriendo 20.464613175392152 Min\n"
     ]
    },
    {
     "name": "stderr",
     "output_type": "stream",
     "text": [
      "INFO:fbprophet:Disabling daily seasonality. Run prophet with daily_seasonality=True to override this.\n"
     ]
    },
    {
     "name": "stdout",
     "output_type": "stream",
     "text": [
      "El producto demoró 1.5178039073944092 Norte Calama\n",
      "tiempo que lleva corriendo 20.489926584561665 Min\n"
     ]
    },
    {
     "name": "stderr",
     "output_type": "stream",
     "text": [
      "INFO:fbprophet:Disabling daily seasonality. Run prophet with daily_seasonality=True to override this.\n"
     ]
    },
    {
     "name": "stdout",
     "output_type": "stream",
     "text": [
      "El producto demoró 1.60487961769104 Norte Calama\n",
      "tiempo que lleva corriendo 20.516682906945547 Min\n"
     ]
    },
    {
     "name": "stderr",
     "output_type": "stream",
     "text": [
      "INFO:fbprophet:Disabling daily seasonality. Run prophet with daily_seasonality=True to override this.\n"
     ]
    },
    {
     "name": "stdout",
     "output_type": "stream",
     "text": [
      "El producto demoró 1.4082105159759521 Norte Calama\n",
      "tiempo que lleva corriendo 20.540169751644136 Min\n"
     ]
    },
    {
     "name": "stderr",
     "output_type": "stream",
     "text": [
      "INFO:fbprophet:Disabling daily seasonality. Run prophet with daily_seasonality=True to override this.\n"
     ]
    },
    {
     "name": "stdout",
     "output_type": "stream",
     "text": [
      "El producto demoró 1.7765262126922607 Norte Calama\n",
      "tiempo que lleva corriendo 20.56980354785919 Min\n",
      "El producto demoró 0.004522085189819336 Norte Calama\n",
      "tiempo que lleva corriendo 20.569903632005055 Min\n"
     ]
    },
    {
     "name": "stderr",
     "output_type": "stream",
     "text": [
      "INFO:fbprophet:Disabling daily seasonality. Run prophet with daily_seasonality=True to override this.\n"
     ]
    },
    {
     "name": "stdout",
     "output_type": "stream",
     "text": [
      "El producto demoró 1.466259479522705 Norte Calama\n",
      "tiempo que lleva corriendo 20.594374640782675 Min\n"
     ]
    },
    {
     "name": "stderr",
     "output_type": "stream",
     "text": [
      "INFO:fbprophet:Disabling daily seasonality. Run prophet with daily_seasonality=True to override this.\n"
     ]
    },
    {
     "name": "stdout",
     "output_type": "stream",
     "text": [
      "El producto demoró 1.5818588733673096 Norte Calama\n",
      "tiempo que lleva corriendo 20.62074729601542 Min\n"
     ]
    },
    {
     "name": "stderr",
     "output_type": "stream",
     "text": [
      "INFO:fbprophet:Disabling daily seasonality. Run prophet with daily_seasonality=True to override this.\n"
     ]
    },
    {
     "name": "stdout",
     "output_type": "stream",
     "text": [
      "El producto demoró 1.6784429550170898 Norte Calama\n",
      "tiempo que lleva corriendo 20.648738006750744 Min\n"
     ]
    },
    {
     "name": "stderr",
     "output_type": "stream",
     "text": [
      "INFO:fbprophet:Disabling daily seasonality. Run prophet with daily_seasonality=True to override this.\n"
     ]
    },
    {
     "name": "stdout",
     "output_type": "stream",
     "text": [
      "El producto demoró 1.5428259372711182 Norte Calama\n",
      "tiempo que lleva corriendo 20.674468449751537 Min\n"
     ]
    },
    {
     "name": "stderr",
     "output_type": "stream",
     "text": [
      "INFO:fbprophet:Disabling daily seasonality. Run prophet with daily_seasonality=True to override this.\n"
     ]
    },
    {
     "name": "stdout",
     "output_type": "stream",
     "text": [
      "El producto demoró 1.687950611114502 Norte Calama\n",
      "tiempo que lleva corriendo 20.70261764129003 Min\n"
     ]
    },
    {
     "name": "stderr",
     "output_type": "stream",
     "text": [
      "INFO:fbprophet:Disabling daily seasonality. Run prophet with daily_seasonality=True to override this.\n"
     ]
    },
    {
     "name": "stdout",
     "output_type": "stream",
     "text": [
      "El producto demoró 1.3476572036743164 Norte Calama\n",
      "tiempo que lleva corriendo 20.725086931387583 Min\n",
      "El producto demoró 0.004003286361694336 Norte Calama\n",
      "tiempo que lleva corriendo 20.72522037823995 Min\n"
     ]
    },
    {
     "name": "stderr",
     "output_type": "stream",
     "text": [
      "INFO:fbprophet:Disabling daily seasonality. Run prophet with daily_seasonality=True to override this.\n"
     ]
    },
    {
     "name": "stdout",
     "output_type": "stream",
     "text": [
      "El producto demoró 1.2730934619903564 Norte Calama\n",
      "tiempo que lleva corriendo 20.74645528793335 Min\n",
      "El producto demoró 0.0040035247802734375 Norte Calama\n",
      "tiempo que lleva corriendo 20.746538694699606 Min\n",
      "El producto demoró 0.0030024051666259766 Norte Calama\n",
      "tiempo que lleva corriendo 20.74661375284195 Min\n"
     ]
    },
    {
     "name": "stderr",
     "output_type": "stream",
     "text": [
      "INFO:fbprophet:Disabling daily seasonality. Run prophet with daily_seasonality=True to override this.\n"
     ]
    },
    {
     "name": "stdout",
     "output_type": "stream",
     "text": [
      "El producto demoró 1.2841038703918457 Norte Calama\n",
      "tiempo que lleva corriendo 20.768015484015148 Min\n",
      "El producto demoró 0.005003452301025391 Norte Calama\n",
      "tiempo que lleva corriendo 20.76809887488683 Min\n"
     ]
    },
    {
     "name": "stderr",
     "output_type": "stream",
     "text": [
      "INFO:fbprophet:Disabling daily seasonality. Run prophet with daily_seasonality=True to override this.\n"
     ]
    },
    {
     "name": "stdout",
     "output_type": "stream",
     "text": [
      "El producto demoró 1.311126708984375 Norte Calama\n",
      "tiempo que lleva corriendo 20.78996767203013 Min\n"
     ]
    },
    {
     "name": "stderr",
     "output_type": "stream",
     "text": [
      "INFO:fbprophet:Disabling daily seasonality. Run prophet with daily_seasonality=True to override this.\n"
     ]
    },
    {
     "name": "stdout",
     "output_type": "stream",
     "text": [
      "El producto demoró 1.446242332458496 Norte Calama\n",
      "tiempo que lleva corriendo 20.81414676507314 Min\n"
     ]
    },
    {
     "name": "stderr",
     "output_type": "stream",
     "text": [
      "INFO:fbprophet:Disabling daily seasonality. Run prophet with daily_seasonality=True to override this.\n"
     ]
    },
    {
     "name": "stdout",
     "output_type": "stream",
     "text": [
      "El producto demoró 1.2370631694793701 Norte Calama\n",
      "tiempo que lleva corriendo 20.834772817293803 Min\n"
     ]
    },
    {
     "name": "stderr",
     "output_type": "stream",
     "text": [
      "INFO:fbprophet:Disabling daily seasonality. Run prophet with daily_seasonality=True to override this.\n"
     ]
    },
    {
     "name": "stdout",
     "output_type": "stream",
     "text": [
      "El producto demoró 1.6138865947723389 Norte Calama\n",
      "tiempo que lleva corriendo 20.861687604586283 Min\n"
     ]
    },
    {
     "name": "stderr",
     "output_type": "stream",
     "text": [
      "INFO:fbprophet:Disabling daily seasonality. Run prophet with daily_seasonality=True to override this.\n"
     ]
    },
    {
     "name": "stdout",
     "output_type": "stream",
     "text": [
      "El producto demoró 1.3591680526733398 Norte Calama\n",
      "tiempo que lleva corriendo 20.884348742167155 Min\n",
      "El producto demoró 0.005004167556762695 Norte Calama\n",
      "tiempo que lleva corriendo 20.884432144959767 Min\n"
     ]
    },
    {
     "name": "stderr",
     "output_type": "stream",
     "text": [
      "INFO:fbprophet:Disabling daily seasonality. Run prophet with daily_seasonality=True to override this.\n"
     ]
    },
    {
     "name": "stdout",
     "output_type": "stream",
     "text": [
      "El producto demoró 1.533818244934082 Norte Calama\n",
      "tiempo que lleva corriendo 20.910012455781303 Min\n"
     ]
    },
    {
     "name": "stderr",
     "output_type": "stream",
     "text": [
      "INFO:fbprophet:Disabling daily seasonality. Run prophet with daily_seasonality=True to override this.\n"
     ]
    },
    {
     "name": "stdout",
     "output_type": "stream",
     "text": [
      "El producto demoró 1.7810299396514893 Norte Calama\n",
      "tiempo que lleva corriendo 20.939704620838164 Min\n"
     ]
    },
    {
     "name": "stderr",
     "output_type": "stream",
     "text": [
      "INFO:fbprophet:Disabling daily seasonality. Run prophet with daily_seasonality=True to override this.\n"
     ]
    },
    {
     "name": "stdout",
     "output_type": "stream",
     "text": [
      "El producto demoró 1.368675947189331 Norte Calama\n",
      "tiempo que lleva corriendo 20.962540924549103 Min\n"
     ]
    },
    {
     "name": "stderr",
     "output_type": "stream",
     "text": [
      "INFO:fbprophet:Disabling daily seasonality. Run prophet with daily_seasonality=True to override this.\n"
     ]
    },
    {
     "name": "stdout",
     "output_type": "stream",
     "text": [
      "El producto demoró 1.5563368797302246 Norte Calama\n",
      "tiempo que lleva corriendo 20.988488193353017 Min\n",
      "El producto demoró 0.005003690719604492 Norte Calama\n",
      "tiempo que lleva corriendo 20.98858828941981 Min\n",
      "El producto demoró 0.0035026073455810547 Norte Calama\n",
      "tiempo que lleva corriendo 20.9886633515358 Min\n",
      "El producto demoró 0.004503488540649414 Norte Calama\n",
      "tiempo que lleva corriendo 20.98873840967814 Min\n",
      "Iquique\n"
     ]
    },
    {
     "name": "stderr",
     "output_type": "stream",
     "text": [
      "INFO:fbprophet:Disabling daily seasonality. Run prophet with daily_seasonality=True to override this.\n"
     ]
    },
    {
     "name": "stdout",
     "output_type": "stream",
     "text": [
      "El producto demoró 1.3636722564697266 Norte Iquique\n",
      "tiempo que lleva corriendo 21.011749851703645 Min\n"
     ]
    },
    {
     "name": "stderr",
     "output_type": "stream",
     "text": [
      "INFO:fbprophet:Disabling daily seasonality. Run prophet with daily_seasonality=True to override this.\n"
     ]
    },
    {
     "name": "stdout",
     "output_type": "stream",
     "text": [
      "El producto demoró 1.4477434158325195 Norte Iquique\n",
      "tiempo que lleva corriendo 21.03590392669042 Min\n"
     ]
    },
    {
     "name": "stderr",
     "output_type": "stream",
     "text": [
      "INFO:fbprophet:Disabling daily seasonality. Run prophet with daily_seasonality=True to override this.\n"
     ]
    },
    {
     "name": "stdout",
     "output_type": "stream",
     "text": [
      "El producto demoró 1.6554224491119385 Norte Iquique\n",
      "tiempo que lleva corriendo 21.063510982195535 Min\n"
     ]
    },
    {
     "name": "stderr",
     "output_type": "stream",
     "text": [
      "INFO:fbprophet:Disabling daily seasonality. Run prophet with daily_seasonality=True to override this.\n"
     ]
    },
    {
     "name": "stdout",
     "output_type": "stream",
     "text": [
      "El producto demoró 1.6268970966339111 Norte Iquique\n",
      "tiempo que lleva corriendo 21.090650951862337 Min\n"
     ]
    },
    {
     "name": "stderr",
     "output_type": "stream",
     "text": [
      "INFO:fbprophet:Disabling daily seasonality. Run prophet with daily_seasonality=True to override this.\n"
     ]
    },
    {
     "name": "stdout",
     "output_type": "stream",
     "text": [
      "El producto demoró 1.4332311153411865 Norte Iquique\n",
      "tiempo que lleva corriendo 21.11456316312154 Min\n"
     ]
    },
    {
     "name": "stderr",
     "output_type": "stream",
     "text": [
      "INFO:fbprophet:Disabling daily seasonality. Run prophet with daily_seasonality=True to override this.\n"
     ]
    },
    {
     "name": "stdout",
     "output_type": "stream",
     "text": [
      "El producto demoró 1.4737663269042969 Norte Iquique\n",
      "tiempo que lleva corriendo 21.13914260864258 Min\n"
     ]
    },
    {
     "name": "stderr",
     "output_type": "stream",
     "text": [
      "INFO:fbprophet:Disabling daily seasonality. Run prophet with daily_seasonality=True to override this.\n"
     ]
    },
    {
     "name": "stdout",
     "output_type": "stream",
     "text": [
      "El producto demoró 1.519805908203125 Norte Iquique\n",
      "tiempo que lleva corriendo 21.164497725168864 Min\n"
     ]
    },
    {
     "name": "stderr",
     "output_type": "stream",
     "text": [
      "INFO:fbprophet:Disabling daily seasonality. Run prophet with daily_seasonality=True to override this.\n"
     ]
    },
    {
     "name": "stdout",
     "output_type": "stream",
     "text": [
      "El producto demoró 1.6148877143859863 Norte Iquique\n",
      "tiempo que lleva corriendo 21.191437542438507 Min\n"
     ]
    },
    {
     "name": "stderr",
     "output_type": "stream",
     "text": [
      "INFO:fbprophet:Disabling daily seasonality. Run prophet with daily_seasonality=True to override this.\n"
     ]
    },
    {
     "name": "stdout",
     "output_type": "stream",
     "text": [
      "El producto demoró 1.4912807941436768 Norte Iquique\n",
      "tiempo que lleva corriendo 21.216300563017526 Min\n"
     ]
    },
    {
     "name": "stderr",
     "output_type": "stream",
     "text": [
      "INFO:fbprophet:Disabling daily seasonality. Run prophet with daily_seasonality=True to override this.\n"
     ]
    },
    {
     "name": "stdout",
     "output_type": "stream",
     "text": [
      "El producto demoró 1.6193912029266357 Norte Iquique\n",
      "tiempo que lleva corriendo 21.24329874912898 Min\n"
     ]
    },
    {
     "name": "stderr",
     "output_type": "stream",
     "text": [
      "INFO:fbprophet:Disabling daily seasonality. Run prophet with daily_seasonality=True to override this.\n"
     ]
    },
    {
     "name": "stdout",
     "output_type": "stream",
     "text": [
      "El producto demoró 1.7174756526947021 Norte Iquique\n",
      "tiempo que lleva corriendo 21.271948361396788 Min\n"
     ]
    },
    {
     "name": "stderr",
     "output_type": "stream",
     "text": [
      "INFO:fbprophet:Disabling daily seasonality. Run prophet with daily_seasonality=True to override this.\n"
     ]
    },
    {
     "name": "stdout",
     "output_type": "stream",
     "text": [
      "El producto demoró 1.3221361637115479 Norte Iquique\n",
      "tiempo que lleva corriendo 21.294000645478565 Min\n"
     ]
    },
    {
     "name": "stderr",
     "output_type": "stream",
     "text": [
      "INFO:fbprophet:Disabling daily seasonality. Run prophet with daily_seasonality=True to override this.\n"
     ]
    },
    {
     "name": "stdout",
     "output_type": "stream",
     "text": [
      "El producto demoró 1.4587533473968506 Norte Iquique\n",
      "tiempo que lleva corriendo 21.318388255437217 Min\n",
      "El producto demoró 0.004503726959228516 Norte Iquique\n",
      "tiempo que lleva corriendo 21.318463317553203 Min\n"
     ]
    },
    {
     "name": "stderr",
     "output_type": "stream",
     "text": [
      "INFO:fbprophet:Disabling daily seasonality. Run prophet with daily_seasonality=True to override this.\n"
     ]
    },
    {
     "name": "stdout",
     "output_type": "stream",
     "text": [
      "El producto demoró 1.3386504650115967 Norte Iquique\n",
      "tiempo que lleva corriendo 21.340790832042693 Min\n"
     ]
    },
    {
     "name": "stderr",
     "output_type": "stream",
     "text": [
      "INFO:fbprophet:Disabling daily seasonality. Run prophet with daily_seasonality=True to override this.\n"
     ]
    },
    {
     "name": "stdout",
     "output_type": "stream",
     "text": [
      "El producto demoró 1.5863630771636963 Norte Iquique\n",
      "tiempo que lleva corriendo 21.36725523471832 Min\n"
     ]
    },
    {
     "name": "stderr",
     "output_type": "stream",
     "text": [
      "INFO:fbprophet:Disabling daily seasonality. Run prophet with daily_seasonality=True to override this.\n"
     ]
    },
    {
     "name": "stdout",
     "output_type": "stream",
     "text": [
      "El producto demoró 3.6841652393341064 Norte Iquique\n",
      "tiempo que lleva corriendo 21.4286830107371 Min\n",
      "El producto demoró 0.0045032501220703125 Norte Iquique\n",
      "tiempo que lleva corriendo 21.428774750232698 Min\n"
     ]
    },
    {
     "name": "stderr",
     "output_type": "stream",
     "text": [
      "INFO:fbprophet:Disabling daily seasonality. Run prophet with daily_seasonality=True to override this.\n"
     ]
    },
    {
     "name": "stdout",
     "output_type": "stream",
     "text": [
      "El producto demoró 1.599374532699585 Norte Iquique\n",
      "tiempo que lleva corriendo 21.455456006526948 Min\n"
     ]
    },
    {
     "name": "stderr",
     "output_type": "stream",
     "text": [
      "INFO:fbprophet:Disabling daily seasonality. Run prophet with daily_seasonality=True to override this.\n"
     ]
    },
    {
     "name": "stdout",
     "output_type": "stream",
     "text": [
      "El producto demoró 1.628899097442627 Norte Iquique\n",
      "tiempo que lleva corriendo 21.48262100617091 Min\n"
     ]
    },
    {
     "name": "stderr",
     "output_type": "stream",
     "text": [
      "INFO:fbprophet:Disabling daily seasonality. Run prophet with daily_seasonality=True to override this.\n"
     ]
    },
    {
     "name": "stdout",
     "output_type": "stream",
     "text": [
      "El producto demoró 1.2836027145385742 Norte Iquique\n",
      "tiempo que lleva corriendo 21.504022725423177 Min\n"
     ]
    },
    {
     "name": "stderr",
     "output_type": "stream",
     "text": [
      "INFO:fbprophet:Disabling daily seasonality. Run prophet with daily_seasonality=True to override this.\n"
     ]
    },
    {
     "name": "stdout",
     "output_type": "stream",
     "text": [
      "El producto demoró 1.9076392650604248 Norte Iquique\n",
      "tiempo que lleva corriendo 21.53583337465922 Min\n",
      "El producto demoró 0.0035033226013183594 Norte Iquique\n",
      "tiempo que lleva corriendo 21.535958488782246 Min\n"
     ]
    },
    {
     "name": "stderr",
     "output_type": "stream",
     "text": [
      "INFO:fbprophet:Disabling daily seasonality. Run prophet with daily_seasonality=True to override this.\n"
     ]
    },
    {
     "name": "stdout",
     "output_type": "stream",
     "text": [
      "El producto demoró 1.291609287261963 Norte Iquique\n",
      "tiempo que lleva corriendo 21.557510328292846 Min\n"
     ]
    },
    {
     "name": "stderr",
     "output_type": "stream",
     "text": [
      "INFO:fbprophet:Disabling daily seasonality. Run prophet with daily_seasonality=True to override this.\n"
     ]
    },
    {
     "name": "stdout",
     "output_type": "stream",
     "text": [
      "El producto demoró 1.225053071975708 Norte Iquique\n",
      "tiempo que lleva corriendo 21.577952889601388 Min\n"
     ]
    },
    {
     "name": "stderr",
     "output_type": "stream",
     "text": [
      "INFO:fbprophet:Disabling daily seasonality. Run prophet with daily_seasonality=True to override this.\n"
     ]
    },
    {
     "name": "stdout",
     "output_type": "stream",
     "text": [
      "El producto demoró 1.4212214946746826 Norte Iquique\n",
      "tiempo que lleva corriendo 21.601656583944955 Min\n"
     ]
    },
    {
     "name": "stderr",
     "output_type": "stream",
     "text": [
      "INFO:fbprophet:Disabling daily seasonality. Run prophet with daily_seasonality=True to override this.\n"
     ]
    },
    {
     "name": "stdout",
     "output_type": "stream",
     "text": [
      "El producto demoró 1.2460706233978271 Norte Iquique\n",
      "tiempo que lleva corriendo 21.622441105047862 Min\n",
      "El producto demoró 0.004002809524536133 Norte Iquique\n",
      "tiempo que lleva corriendo 21.622532852490743 Min\n",
      "El producto demoró 0.003503084182739258 Norte Iquique\n",
      "tiempo que lleva corriendo 21.62259959379832 Min\n",
      "Copiapo\n"
     ]
    },
    {
     "name": "stderr",
     "output_type": "stream",
     "text": [
      "INFO:fbprophet:Disabling daily seasonality. Run prophet with daily_seasonality=True to override this.\n"
     ]
    },
    {
     "name": "stdout",
     "output_type": "stream",
     "text": [
      "El producto demoró 1.382688045501709 Norte Copiapo\n",
      "tiempo que lleva corriendo 21.645936286449434 Min\n"
     ]
    },
    {
     "name": "stderr",
     "output_type": "stream",
     "text": [
      "INFO:fbprophet:Disabling daily seasonality. Run prophet with daily_seasonality=True to override this.\n"
     ]
    },
    {
     "name": "stdout",
     "output_type": "stream",
     "text": [
      "El producto demoró 1.5097973346710205 Norte Copiapo\n",
      "tiempo que lleva corriendo 21.67111627260844 Min\n"
     ]
    },
    {
     "name": "stderr",
     "output_type": "stream",
     "text": [
      "INFO:fbprophet:Disabling daily seasonality. Run prophet with daily_seasonality=True to override this.\n"
     ]
    },
    {
     "name": "stdout",
     "output_type": "stream",
     "text": [
      "El producto demoró 1.2976140975952148 Norte Copiapo\n",
      "tiempo que lleva corriendo 21.692759847640993 Min\n"
     ]
    },
    {
     "name": "stderr",
     "output_type": "stream",
     "text": [
      "INFO:fbprophet:Disabling daily seasonality. Run prophet with daily_seasonality=True to override this.\n"
     ]
    },
    {
     "name": "stdout",
     "output_type": "stream",
     "text": [
      "El producto demoró 1.8265690803527832 Norte Copiapo\n",
      "tiempo que lleva corriendo 21.723227695624033 Min\n"
     ]
    },
    {
     "name": "stderr",
     "output_type": "stream",
     "text": [
      "INFO:fbprophet:Disabling daily seasonality. Run prophet with daily_seasonality=True to override this.\n"
     ]
    },
    {
     "name": "stdout",
     "output_type": "stream",
     "text": [
      "El producto demoró 1.795041799545288 Norte Copiapo\n",
      "tiempo que lleva corriendo 21.753170077006022 Min\n"
     ]
    },
    {
     "name": "stderr",
     "output_type": "stream",
     "text": [
      "INFO:fbprophet:Disabling daily seasonality. Run prophet with daily_seasonality=True to override this.\n"
     ]
    },
    {
     "name": "stdout",
     "output_type": "stream",
     "text": [
      "El producto demoró 1.4082105159759521 Norte Copiapo\n",
      "tiempo que lleva corriendo 21.77666525443395 Min\n"
     ]
    },
    {
     "name": "stderr",
     "output_type": "stream",
     "text": [
      "INFO:fbprophet:Disabling daily seasonality. Run prophet with daily_seasonality=True to override this.\n"
     ]
    },
    {
     "name": "stdout",
     "output_type": "stream",
     "text": [
      "El producto demoró 1.5893657207489014 Norte Copiapo\n",
      "tiempo que lleva corriendo 21.80317135254542 Min\n",
      "El producto demoró 0.0040035247802734375 Norte Copiapo\n",
      "tiempo que lleva corriendo 21.80325477520625 Min\n",
      "El producto demoró 0.004003286361694336 Norte Copiapo\n",
      "tiempo que lleva corriendo 21.803338174025217 Min\n"
     ]
    },
    {
     "name": "stderr",
     "output_type": "stream",
     "text": [
      "INFO:fbprophet:Disabling daily seasonality. Run prophet with daily_seasonality=True to override this.\n"
     ]
    },
    {
     "name": "stdout",
     "output_type": "stream",
     "text": [
      "El producto demoró 1.478271245956421 Norte Copiapo\n",
      "tiempo que lleva corriendo 21.828001018365224 Min\n"
     ]
    },
    {
     "name": "stderr",
     "output_type": "stream",
     "text": [
      "INFO:fbprophet:Disabling daily seasonality. Run prophet with daily_seasonality=True to override this.\n"
     ]
    },
    {
     "name": "stdout",
     "output_type": "stream",
     "text": [
      "El producto demoró 1.4922821521759033 Norte Copiapo\n",
      "tiempo que lleva corriendo 21.85295579036077 Min\n"
     ]
    },
    {
     "name": "stderr",
     "output_type": "stream",
     "text": [
      "INFO:fbprophet:Disabling daily seasonality. Run prophet with daily_seasonality=True to override this.\n"
     ]
    },
    {
     "name": "stdout",
     "output_type": "stream",
     "text": [
      "El producto demoró 1.4762685298919678 Norte Copiapo\n",
      "tiempo que lleva corriendo 21.877585291862488 Min\n"
     ]
    },
    {
     "name": "stderr",
     "output_type": "stream",
     "text": [
      "INFO:fbprophet:Disabling daily seasonality. Run prophet with daily_seasonality=True to override this.\n"
     ]
    },
    {
     "name": "stdout",
     "output_type": "stream",
     "text": [
      "El producto demoró 1.61989164352417 Norte Copiapo\n",
      "tiempo que lleva corriendo 21.904600155353545 Min\n"
     ]
    },
    {
     "name": "stderr",
     "output_type": "stream",
     "text": [
      "INFO:fbprophet:Disabling daily seasonality. Run prophet with daily_seasonality=True to override this.\n"
     ]
    },
    {
     "name": "stdout",
     "output_type": "stream",
     "text": [
      "El producto demoró 1.451246976852417 Norte Copiapo\n",
      "tiempo que lleva corriendo 21.928804290294647 Min\n"
     ]
    },
    {
     "name": "stderr",
     "output_type": "stream",
     "text": [
      "INFO:fbprophet:Disabling daily seasonality. Run prophet with daily_seasonality=True to override this.\n"
     ]
    },
    {
     "name": "stdout",
     "output_type": "stream",
     "text": [
      "El producto demoró 1.3186326026916504 Norte Copiapo\n",
      "tiempo que lleva corriendo 21.95078150033951 Min\n"
     ]
    },
    {
     "name": "stderr",
     "output_type": "stream",
     "text": [
      "INFO:fbprophet:Disabling daily seasonality. Run prophet with daily_seasonality=True to override this.\n"
     ]
    },
    {
     "name": "stdout",
     "output_type": "stream",
     "text": [
      "El producto demoró 1.5963714122772217 Norte Copiapo\n",
      "tiempo que lleva corriendo 21.97740435997645 Min\n"
     ]
    },
    {
     "name": "stderr",
     "output_type": "stream",
     "text": [
      "INFO:fbprophet:Disabling daily seasonality. Run prophet with daily_seasonality=True to override this.\n"
     ]
    },
    {
     "name": "stdout",
     "output_type": "stream",
     "text": [
      "El producto demoró 1.6584250926971436 Norte Copiapo\n",
      "tiempo que lleva corriendo 22.005061463514963 Min\n"
     ]
    },
    {
     "name": "stderr",
     "output_type": "stream",
     "text": [
      "INFO:fbprophet:Disabling daily seasonality. Run prophet with daily_seasonality=True to override this.\n"
     ]
    },
    {
     "name": "stdout",
     "output_type": "stream",
     "text": [
      "El producto demoró 1.4957849979400635 Norte Copiapo\n",
      "tiempo que lleva corriendo 22.030007882912955 Min\n"
     ]
    },
    {
     "name": "stderr",
     "output_type": "stream",
     "text": [
      "INFO:fbprophet:Disabling daily seasonality. Run prophet with daily_seasonality=True to override this.\n"
     ]
    },
    {
     "name": "stdout",
     "output_type": "stream",
     "text": [
      "El producto demoró 1.7059657573699951 Norte Copiapo\n",
      "tiempo que lleva corriendo 22.058457326889037 Min\n"
     ]
    },
    {
     "name": "stderr",
     "output_type": "stream",
     "text": [
      "INFO:fbprophet:Disabling daily seasonality. Run prophet with daily_seasonality=True to override this.\n"
     ]
    },
    {
     "name": "stdout",
     "output_type": "stream",
     "text": [
      "El producto demoró 1.771521806716919 Norte Copiapo\n",
      "tiempo que lleva corriendo 22.087999363740284 Min\n"
     ]
    },
    {
     "name": "stderr",
     "output_type": "stream",
     "text": [
      "INFO:fbprophet:Disabling daily seasonality. Run prophet with daily_seasonality=True to override this.\n"
     ]
    },
    {
     "name": "stdout",
     "output_type": "stream",
     "text": [
      "El producto demoró 1.3221347332000732 Norte Copiapo\n",
      "tiempo que lleva corriendo 22.110051651795704 Min\n"
     ]
    },
    {
     "name": "stderr",
     "output_type": "stream",
     "text": [
      "INFO:fbprophet:Disabling daily seasonality. Run prophet with daily_seasonality=True to override this.\n"
     ]
    },
    {
     "name": "stdout",
     "output_type": "stream",
     "text": [
      "El producto demoró 1.5288136005401611 Norte Copiapo\n",
      "tiempo que lleva corriendo 22.135548543930053 Min\n"
     ]
    },
    {
     "name": "stderr",
     "output_type": "stream",
     "text": [
      "INFO:fbprophet:Disabling daily seasonality. Run prophet with daily_seasonality=True to override this.\n"
     ]
    },
    {
     "name": "stdout",
     "output_type": "stream",
     "text": [
      "El producto demoró 1.2770979404449463 Norte Copiapo\n",
      "tiempo que lleva corriendo 22.15691690047582 Min\n"
     ]
    },
    {
     "name": "stderr",
     "output_type": "stream",
     "text": [
      "INFO:fbprophet:Disabling daily seasonality. Run prophet with daily_seasonality=True to override this.\n"
     ]
    },
    {
     "name": "stdout",
     "output_type": "stream",
     "text": [
      "El producto demoró 1.333646297454834 Norte Copiapo\n",
      "tiempo que lleva corriendo 22.179169348875682 Min\n"
     ]
    },
    {
     "name": "stderr",
     "output_type": "stream",
     "text": [
      "INFO:fbprophet:Disabling daily seasonality. Run prophet with daily_seasonality=True to override this.\n"
     ]
    },
    {
     "name": "stdout",
     "output_type": "stream",
     "text": [
      "El producto demoró 1.2976162433624268 Norte Copiapo\n",
      "tiempo que lleva corriendo 22.200812939802805 Min\n",
      "El producto demoró 0.004504203796386719 Norte Copiapo\n",
      "tiempo que lleva corriendo 22.200904687245686 Min\n"
     ]
    },
    {
     "name": "stderr",
     "output_type": "stream",
     "text": [
      "INFO:fbprophet:Disabling daily seasonality. Run prophet with daily_seasonality=True to override this.\n"
     ]
    },
    {
     "name": "stdout",
     "output_type": "stream",
     "text": [
      "El producto demoró 1.2876057624816895 Norte Copiapo\n",
      "tiempo que lleva corriendo 22.222373123963674 Min\n"
     ]
    },
    {
     "name": "stderr",
     "output_type": "stream",
     "text": [
      "INFO:fbprophet:Disabling daily seasonality. Run prophet with daily_seasonality=True to override this.\n"
     ]
    },
    {
     "name": "stdout",
     "output_type": "stream",
     "text": [
      "El producto demoró 1.3501605987548828 Norte Copiapo\n",
      "tiempo que lleva corriendo 22.244900818665823 Min\n"
     ]
    },
    {
     "name": "stderr",
     "output_type": "stream",
     "text": [
      "INFO:fbprophet:Disabling daily seasonality. Run prophet with daily_seasonality=True to override this.\n"
     ]
    },
    {
     "name": "stdout",
     "output_type": "stream",
     "text": [
      "El producto demoró 1.2886073589324951 Norte Copiapo\n",
      "tiempo que lleva corriendo 22.266402626037596 Min\n",
      "El producto demoró 0.004003286361694336 Norte Copiapo\n",
      "tiempo que lleva corriendo 22.266486020882926 Min\n",
      "El producto demoró 0.004003047943115234 Norte Copiapo\n",
      "tiempo que lleva corriendo 22.266569431622823 Min\n",
      "El producto demoró 0.0035028457641601562 Norte Copiapo\n",
      "tiempo que lleva corriendo 22.266644489765167 Min\n",
      "Venta Directa\n",
      "VD FoodService\n"
     ]
    },
    {
     "name": "stderr",
     "output_type": "stream",
     "text": [
      "INFO:fbprophet:Disabling daily seasonality. Run prophet with daily_seasonality=True to override this.\n"
     ]
    },
    {
     "name": "stdout",
     "output_type": "stream",
     "text": [
      "El producto demoró 1.474266529083252 Venta Directa VD FoodService\n",
      "tiempo que lleva corriendo 22.293500904242197 Min\n",
      "El producto demoró 1.3436543941497803 Venta Directa VD FoodService\n",
      "tiempo que lleva corriendo 22.315903476874034 Min\n",
      "El producto demoró 0.004503965377807617 Venta Directa VD FoodService\n",
      "tiempo que lleva corriendo 22.315978542963663 Min\n",
      "tiempo bloque completo 22.315978542963663 Min\n"
     ]
    }
   ],
   "source": [
    "df2 = pd.DataFrame(columns=['ds', 'yhat_lower', 'yhat_upper', 'yhat', 'Material','Oficina de Ventas Unifica', 'Zona de ventas.1'])\n",
    "\n",
    "Listado_de_zonas=data['Zona de ventas.1'].unique()\n",
    "\n",
    "start_time = time()\n",
    "\n",
    "\n",
    "\n",
    "for Z in Listado_de_zonas:\n",
    "#Z='Santiago'\n",
    "    print(Z)\n",
    "    dfz=Df_ubic(data,'Zona de ventas.1',Z)\n",
    "\n",
    "    Listado_de_Sucursales=dfz[dfz['Día natural'] \n",
    "                              >datetime.date(2021, 6, 2)][\n",
    "        'Oficina de Ventas Unifica'].unique()\n",
    "\n",
    "    for y in Listado_de_Sucursales:\n",
    "        #y='Huechuraba'\n",
    "        print(y)\n",
    "        dfy=Df_ubic(dfz,'Oficina de Ventas Unifica',y)\n",
    "        \n",
    "        \n",
    "        Listado_de_Canales=dfy[dfy['Día natural'] \n",
    "                                  >datetime.date(2021, 6, 2)][\n",
    "            'Tipo de cliente'].unique()\n",
    "        \n",
    "        for c in Listado_de_Canales:\n",
    "            dfc=Df_ubic(dfy,'Tipo de cliente',c)\n",
    "\n",
    "            #Crear un listado de los materiales disponibles en la data\n",
    "\n",
    "\n",
    "            Listado_de_Materiales=dfc[dfc['Día natural'] \n",
    "                                  >datetime.date(2021, 6, 2)].Material.unique()     \n",
    "\n",
    "\n",
    "            for m in Listado_de_Materiales:\n",
    "                #m=Listado_de_Materiales[0]\n",
    "                material_time=time()\n",
    "                #print(y,m)\n",
    "\n",
    "\n",
    "                dfm=Df_ubic(dfc,\n",
    "                            'Material',m).groupby('Día natural'\n",
    "                                                     ).sum().reset_index()[['Día natural',y_col]]\n",
    "                if(dfm[\n",
    "                    dfm['Día natural']>datetime.date(2021, 1, 2)\n",
    "                        ].shape[0] >20):\n",
    "\n",
    "                    dfmPred=Predict_sem(dfm,14)[['ds', 'yhat_lower',\n",
    "                                                'yhat_upper', 'yhat']].tail(14)\n",
    "                    #Material\n",
    "                    dfmPred['Material']=[m for i in range(dfmPred.shape[0])]\n",
    "                    #Canal de ventas\n",
    "                    dfmPred['Tipo de cliente']=[c for i in range(dfmPred.shape[0])]\n",
    "\n",
    "                    #Sucursal\n",
    "                    dfmPred['Oficina de Ventas Unifica']=[y for i in range(dfmPred.shape[0])]\n",
    "\n",
    "                    #Zona\n",
    "                    dfmPred['Zona de ventas.1']=[Z for i in range(dfmPred.shape[0])]\n",
    "                    dfmPred=dfmPred.reset_index()\n",
    "                    dfmPred.pop('index')\n",
    "                    df2=pd.concat([df2, dfmPred])\n",
    "                print('El producto demoró',(time() - material_time),Z,y)\n",
    "                print('tiempo que lleva corriendo',(time() - start_time)/60, 'Min')\n",
    "\n",
    "print('tiempo bloque completo',(time() - start_time)/60, 'Min')\n"
   ]
  },
  {
   "cell_type": "code",
   "execution_count": 98,
   "id": "0d4aafd2",
   "metadata": {
    "hidden": true
   },
   "outputs": [
    {
     "data": {
      "text/plain": [
       "'Venta Directa'"
      ]
     },
     "execution_count": 98,
     "metadata": {},
     "output_type": "execute_result"
    }
   ],
   "source": [
    "Z"
   ]
  },
  {
   "cell_type": "code",
   "execution_count": 99,
   "id": "36bf4d9a",
   "metadata": {
    "hidden": true
   },
   "outputs": [
    {
     "data": {
      "text/plain": [
       "'VD FoodService'"
      ]
     },
     "execution_count": 99,
     "metadata": {},
     "output_type": "execute_result"
    }
   ],
   "source": [
    "y"
   ]
  },
  {
   "cell_type": "code",
   "execution_count": 100,
   "id": "2aa53ce3",
   "metadata": {
    "hidden": true,
    "scrolled": true
   },
   "outputs": [
    {
     "data": {
      "text/plain": [
       "'Foodservice'"
      ]
     },
     "execution_count": 100,
     "metadata": {},
     "output_type": "execute_result"
    }
   ],
   "source": [
    "c"
   ]
  },
  {
   "cell_type": "code",
   "execution_count": 101,
   "id": "8a385ec1",
   "metadata": {
    "hidden": true,
    "scrolled": true
   },
   "outputs": [
    {
     "data": {
      "text/plain": [
       "'1010078'"
      ]
     },
     "execution_count": 101,
     "metadata": {},
     "output_type": "execute_result"
    }
   ],
   "source": [
    "m"
   ]
  },
  {
   "cell_type": "code",
   "execution_count": 102,
   "id": "c123d168",
   "metadata": {
    "collapsed": true,
    "hidden": true
   },
   "outputs": [
    {
     "data": {
      "text/html": [
       "<div>\n",
       "<style scoped>\n",
       "    .dataframe tbody tr th:only-of-type {\n",
       "        vertical-align: middle;\n",
       "    }\n",
       "\n",
       "    .dataframe tbody tr th {\n",
       "        vertical-align: top;\n",
       "    }\n",
       "\n",
       "    .dataframe thead th {\n",
       "        text-align: right;\n",
       "    }\n",
       "</style>\n",
       "<table border=\"1\" class=\"dataframe\">\n",
       "  <thead>\n",
       "    <tr style=\"text-align: right;\">\n",
       "      <th></th>\n",
       "      <th>Día natural</th>\n",
       "      <th>Kilos Venta KG</th>\n",
       "    </tr>\n",
       "  </thead>\n",
       "  <tbody>\n",
       "    <tr>\n",
       "      <th>0</th>\n",
       "      <td>2019-03-04</td>\n",
       "      <td>220.0</td>\n",
       "    </tr>\n",
       "    <tr>\n",
       "      <th>1</th>\n",
       "      <td>2019-03-11</td>\n",
       "      <td>220.0</td>\n",
       "    </tr>\n",
       "    <tr>\n",
       "      <th>2</th>\n",
       "      <td>2019-03-12</td>\n",
       "      <td>221.0</td>\n",
       "    </tr>\n",
       "    <tr>\n",
       "      <th>3</th>\n",
       "      <td>2019-03-18</td>\n",
       "      <td>220.0</td>\n",
       "    </tr>\n",
       "    <tr>\n",
       "      <th>4</th>\n",
       "      <td>2019-03-21</td>\n",
       "      <td>220.0</td>\n",
       "    </tr>\n",
       "    <tr>\n",
       "      <th>5</th>\n",
       "      <td>2019-03-27</td>\n",
       "      <td>221.0</td>\n",
       "    </tr>\n",
       "    <tr>\n",
       "      <th>6</th>\n",
       "      <td>2019-04-01</td>\n",
       "      <td>220.0</td>\n",
       "    </tr>\n",
       "    <tr>\n",
       "      <th>7</th>\n",
       "      <td>2019-04-15</td>\n",
       "      <td>220.0</td>\n",
       "    </tr>\n",
       "    <tr>\n",
       "      <th>8</th>\n",
       "      <td>2019-04-22</td>\n",
       "      <td>220.0</td>\n",
       "    </tr>\n",
       "    <tr>\n",
       "      <th>9</th>\n",
       "      <td>2019-04-29</td>\n",
       "      <td>220.0</td>\n",
       "    </tr>\n",
       "    <tr>\n",
       "      <th>10</th>\n",
       "      <td>2019-05-07</td>\n",
       "      <td>2208.0</td>\n",
       "    </tr>\n",
       "    <tr>\n",
       "      <th>11</th>\n",
       "      <td>2019-05-17</td>\n",
       "      <td>2212.0</td>\n",
       "    </tr>\n",
       "    <tr>\n",
       "      <th>12</th>\n",
       "      <td>2019-06-19</td>\n",
       "      <td>880.0</td>\n",
       "    </tr>\n",
       "    <tr>\n",
       "      <th>13</th>\n",
       "      <td>2019-12-20</td>\n",
       "      <td>1101.0</td>\n",
       "    </tr>\n",
       "    <tr>\n",
       "      <th>14</th>\n",
       "      <td>2020-04-27</td>\n",
       "      <td>550.0</td>\n",
       "    </tr>\n",
       "    <tr>\n",
       "      <th>15</th>\n",
       "      <td>2020-05-04</td>\n",
       "      <td>551.0</td>\n",
       "    </tr>\n",
       "    <tr>\n",
       "      <th>16</th>\n",
       "      <td>2020-05-11</td>\n",
       "      <td>662.0</td>\n",
       "    </tr>\n",
       "    <tr>\n",
       "      <th>17</th>\n",
       "      <td>2020-05-18</td>\n",
       "      <td>661.0</td>\n",
       "    </tr>\n",
       "    <tr>\n",
       "      <th>18</th>\n",
       "      <td>2020-05-25</td>\n",
       "      <td>2201.0</td>\n",
       "    </tr>\n",
       "    <tr>\n",
       "      <th>19</th>\n",
       "      <td>2020-06-01</td>\n",
       "      <td>1101.0</td>\n",
       "    </tr>\n",
       "    <tr>\n",
       "      <th>20</th>\n",
       "      <td>2020-06-08</td>\n",
       "      <td>1102.0</td>\n",
       "    </tr>\n",
       "    <tr>\n",
       "      <th>21</th>\n",
       "      <td>2020-06-10</td>\n",
       "      <td>1101.0</td>\n",
       "    </tr>\n",
       "    <tr>\n",
       "      <th>22</th>\n",
       "      <td>2020-06-22</td>\n",
       "      <td>1103.0</td>\n",
       "    </tr>\n",
       "    <tr>\n",
       "      <th>23</th>\n",
       "      <td>2020-06-30</td>\n",
       "      <td>1107.0</td>\n",
       "    </tr>\n",
       "    <tr>\n",
       "      <th>24</th>\n",
       "      <td>2020-07-07</td>\n",
       "      <td>1102.0</td>\n",
       "    </tr>\n",
       "    <tr>\n",
       "      <th>25</th>\n",
       "      <td>2020-07-13</td>\n",
       "      <td>552.0</td>\n",
       "    </tr>\n",
       "    <tr>\n",
       "      <th>26</th>\n",
       "      <td>2020-07-20</td>\n",
       "      <td>442.0</td>\n",
       "    </tr>\n",
       "    <tr>\n",
       "      <th>27</th>\n",
       "      <td>2020-07-22</td>\n",
       "      <td>553.0</td>\n",
       "    </tr>\n",
       "    <tr>\n",
       "      <th>28</th>\n",
       "      <td>2020-07-27</td>\n",
       "      <td>662.0</td>\n",
       "    </tr>\n",
       "    <tr>\n",
       "      <th>29</th>\n",
       "      <td>2020-08-05</td>\n",
       "      <td>661.0</td>\n",
       "    </tr>\n",
       "    <tr>\n",
       "      <th>30</th>\n",
       "      <td>2020-08-10</td>\n",
       "      <td>1102.0</td>\n",
       "    </tr>\n",
       "    <tr>\n",
       "      <th>31</th>\n",
       "      <td>2020-08-13</td>\n",
       "      <td>443.0</td>\n",
       "    </tr>\n",
       "    <tr>\n",
       "      <th>32</th>\n",
       "      <td>2020-08-17</td>\n",
       "      <td>1106.0</td>\n",
       "    </tr>\n",
       "    <tr>\n",
       "      <th>33</th>\n",
       "      <td>2020-08-18</td>\n",
       "      <td>662.0</td>\n",
       "    </tr>\n",
       "    <tr>\n",
       "      <th>34</th>\n",
       "      <td>2020-08-19</td>\n",
       "      <td>666.0</td>\n",
       "    </tr>\n",
       "    <tr>\n",
       "      <th>35</th>\n",
       "      <td>2020-08-20</td>\n",
       "      <td>1102.0</td>\n",
       "    </tr>\n",
       "    <tr>\n",
       "      <th>36</th>\n",
       "      <td>2020-08-26</td>\n",
       "      <td>663.0</td>\n",
       "    </tr>\n",
       "    <tr>\n",
       "      <th>37</th>\n",
       "      <td>2020-08-31</td>\n",
       "      <td>1107.0</td>\n",
       "    </tr>\n",
       "    <tr>\n",
       "      <th>38</th>\n",
       "      <td>2020-09-10</td>\n",
       "      <td>1105.0</td>\n",
       "    </tr>\n",
       "    <tr>\n",
       "      <th>39</th>\n",
       "      <td>2020-09-14</td>\n",
       "      <td>1101.0</td>\n",
       "    </tr>\n",
       "    <tr>\n",
       "      <th>40</th>\n",
       "      <td>2020-09-16</td>\n",
       "      <td>1106.0</td>\n",
       "    </tr>\n",
       "    <tr>\n",
       "      <th>41</th>\n",
       "      <td>2020-09-17</td>\n",
       "      <td>1107.0</td>\n",
       "    </tr>\n",
       "    <tr>\n",
       "      <th>42</th>\n",
       "      <td>2020-09-23</td>\n",
       "      <td>1104.0</td>\n",
       "    </tr>\n",
       "    <tr>\n",
       "      <th>43</th>\n",
       "      <td>2020-09-29</td>\n",
       "      <td>111.0</td>\n",
       "    </tr>\n",
       "    <tr>\n",
       "      <th>44</th>\n",
       "      <td>2020-10-08</td>\n",
       "      <td>1106.0</td>\n",
       "    </tr>\n",
       "    <tr>\n",
       "      <th>45</th>\n",
       "      <td>2020-10-13</td>\n",
       "      <td>1107.0</td>\n",
       "    </tr>\n",
       "    <tr>\n",
       "      <th>46</th>\n",
       "      <td>2020-10-21</td>\n",
       "      <td>1106.0</td>\n",
       "    </tr>\n",
       "    <tr>\n",
       "      <th>47</th>\n",
       "      <td>2020-11-12</td>\n",
       "      <td>665.0</td>\n",
       "    </tr>\n",
       "    <tr>\n",
       "      <th>48</th>\n",
       "      <td>2020-11-18</td>\n",
       "      <td>1107.0</td>\n",
       "    </tr>\n",
       "    <tr>\n",
       "      <th>49</th>\n",
       "      <td>2020-11-26</td>\n",
       "      <td>1106.0</td>\n",
       "    </tr>\n",
       "    <tr>\n",
       "      <th>50</th>\n",
       "      <td>2020-12-03</td>\n",
       "      <td>1107.0</td>\n",
       "    </tr>\n",
       "    <tr>\n",
       "      <th>51</th>\n",
       "      <td>2021-01-14</td>\n",
       "      <td>1107.0</td>\n",
       "    </tr>\n",
       "    <tr>\n",
       "      <th>52</th>\n",
       "      <td>2021-03-02</td>\n",
       "      <td>664.0</td>\n",
       "    </tr>\n",
       "    <tr>\n",
       "      <th>53</th>\n",
       "      <td>2021-06-08</td>\n",
       "      <td>442.0</td>\n",
       "    </tr>\n",
       "  </tbody>\n",
       "</table>\n",
       "</div>"
      ],
      "text/plain": [
       "   Día natural  Kilos Venta KG\n",
       "0   2019-03-04           220.0\n",
       "1   2019-03-11           220.0\n",
       "2   2019-03-12           221.0\n",
       "3   2019-03-18           220.0\n",
       "4   2019-03-21           220.0\n",
       "5   2019-03-27           221.0\n",
       "6   2019-04-01           220.0\n",
       "7   2019-04-15           220.0\n",
       "8   2019-04-22           220.0\n",
       "9   2019-04-29           220.0\n",
       "10  2019-05-07          2208.0\n",
       "11  2019-05-17          2212.0\n",
       "12  2019-06-19           880.0\n",
       "13  2019-12-20          1101.0\n",
       "14  2020-04-27           550.0\n",
       "15  2020-05-04           551.0\n",
       "16  2020-05-11           662.0\n",
       "17  2020-05-18           661.0\n",
       "18  2020-05-25          2201.0\n",
       "19  2020-06-01          1101.0\n",
       "20  2020-06-08          1102.0\n",
       "21  2020-06-10          1101.0\n",
       "22  2020-06-22          1103.0\n",
       "23  2020-06-30          1107.0\n",
       "24  2020-07-07          1102.0\n",
       "25  2020-07-13           552.0\n",
       "26  2020-07-20           442.0\n",
       "27  2020-07-22           553.0\n",
       "28  2020-07-27           662.0\n",
       "29  2020-08-05           661.0\n",
       "30  2020-08-10          1102.0\n",
       "31  2020-08-13           443.0\n",
       "32  2020-08-17          1106.0\n",
       "33  2020-08-18           662.0\n",
       "34  2020-08-19           666.0\n",
       "35  2020-08-20          1102.0\n",
       "36  2020-08-26           663.0\n",
       "37  2020-08-31          1107.0\n",
       "38  2020-09-10          1105.0\n",
       "39  2020-09-14          1101.0\n",
       "40  2020-09-16          1106.0\n",
       "41  2020-09-17          1107.0\n",
       "42  2020-09-23          1104.0\n",
       "43  2020-09-29           111.0\n",
       "44  2020-10-08          1106.0\n",
       "45  2020-10-13          1107.0\n",
       "46  2020-10-21          1106.0\n",
       "47  2020-11-12           665.0\n",
       "48  2020-11-18          1107.0\n",
       "49  2020-11-26          1106.0\n",
       "50  2020-12-03          1107.0\n",
       "51  2021-01-14          1107.0\n",
       "52  2021-03-02           664.0\n",
       "53  2021-06-08           442.0"
      ]
     },
     "execution_count": 102,
     "metadata": {},
     "output_type": "execute_result"
    }
   ],
   "source": [
    "dfm"
   ]
  },
  {
   "cell_type": "code",
   "execution_count": 103,
   "id": "65821ccd",
   "metadata": {
    "hidden": true
   },
   "outputs": [],
   "source": [
    "df2.rename(columns = {'ds': 'Día natural', 'yhat': 'Predicción central',\n",
    "                                'yhat_upper': 'Predicción Superior',\n",
    "                                'yhat_lower': 'Predicción Inferior'}, inplace = True)"
   ]
  },
  {
   "cell_type": "markdown",
   "id": "3408ffe2",
   "metadata": {
    "hidden": true
   },
   "source": [
    "### CSV SAVE "
   ]
  },
  {
   "cell_type": "code",
   "execution_count": 104,
   "id": "bc103ef0",
   "metadata": {
    "hidden": true,
    "scrolled": true
   },
   "outputs": [
    {
     "name": "stdout",
     "output_type": "stream",
     "text": [
      "2021-06-04\n",
      "2021-07-03\n"
     ]
    }
   ],
   "source": [
    "min_time=df2['Día natural'].min()\n",
    "min_time=str(min_time).split(' ')[0]\n",
    "print(min_time)\n",
    "max_time=df2['Día natural'].max()\n",
    "max_time=str(max_time).split(' ')[0]\n",
    "print(max_time)"
   ]
  },
  {
   "cell_type": "code",
   "execution_count": 105,
   "id": "6f5db766",
   "metadata": {
    "hidden": true,
    "scrolled": true
   },
   "outputs": [],
   "source": [
    "df3=Limit_fecha(df2,AÑO,MES,DIA_INIC,DIA_FIN)"
   ]
  },
  {
   "cell_type": "code",
   "execution_count": 106,
   "id": "39002f27",
   "metadata": {
    "hidden": true
   },
   "outputs": [
    {
     "name": "stdout",
     "output_type": "stream",
     "text": [
      "2021-06-22\n",
      "2021-06-26\n"
     ]
    }
   ],
   "source": [
    "\n",
    "min_time=df3['Día natural'].min()\n",
    "min_time=str(min_time).split(' ')[0]\n",
    "print(min_time)\n",
    "max_time=df3['Día natural'].max()\n",
    "max_time=str(max_time).split(' ')[0]\n",
    "print(max_time)"
   ]
  },
  {
   "cell_type": "code",
   "execution_count": 107,
   "id": "497ad696",
   "metadata": {
    "hidden": true
   },
   "outputs": [],
   "source": [
    "df3.to_csv('Data'+min_time+' Predicción Por CANAL ' +max_time+ 'Zona, Sucursal.csv', index=False)\n"
   ]
  },
  {
   "cell_type": "markdown",
   "id": "66e6ca42",
   "metadata": {
    "hidden": true
   },
   "source": [
    "## Iteración Zona"
   ]
  },
  {
   "cell_type": "code",
   "execution_count": 108,
   "id": "c4f9913e",
   "metadata": {
    "hidden": true
   },
   "outputs": [
    {
     "name": "stdout",
     "output_type": "stream",
     "text": [
      "Santiago\n"
     ]
    },
    {
     "name": "stderr",
     "output_type": "stream",
     "text": [
      "INFO:fbprophet:Disabling daily seasonality. Run prophet with daily_seasonality=True to override this.\n",
      "INFO:fbprophet:Disabling daily seasonality. Run prophet with daily_seasonality=True to override this.\n"
     ]
    },
    {
     "name": "stdout",
     "output_type": "stream",
     "text": [
      "El producto demoró 1.7164742946624756 Santiago VD FoodService\n",
      "tiempo que lleva corriendo 0.03132690985997518 Min\n"
     ]
    },
    {
     "name": "stderr",
     "output_type": "stream",
     "text": [
      "INFO:fbprophet:Disabling daily seasonality. Run prophet with daily_seasonality=True to override this.\n"
     ]
    },
    {
     "name": "stdout",
     "output_type": "stream",
     "text": [
      "El producto demoró 1.659425973892212 Santiago VD FoodService\n",
      "tiempo que lleva corriendo 0.05900067885716756 Min\n"
     ]
    },
    {
     "name": "stderr",
     "output_type": "stream",
     "text": [
      "INFO:fbprophet:Disabling daily seasonality. Run prophet with daily_seasonality=True to override this.\n"
     ]
    },
    {
     "name": "stdout",
     "output_type": "stream",
     "text": [
      "El producto demoró 1.8746109008789062 Santiago VD FoodService\n",
      "tiempo que lleva corriendo 0.09026086727778117 Min\n"
     ]
    },
    {
     "name": "stderr",
     "output_type": "stream",
     "text": [
      "INFO:fbprophet:Disabling daily seasonality. Run prophet with daily_seasonality=True to override this.\n"
     ]
    },
    {
     "name": "stdout",
     "output_type": "stream",
     "text": [
      "El producto demoró 1.6569232940673828 Santiago VD FoodService\n",
      "tiempo que lleva corriendo 0.11789294083913167 Min\n"
     ]
    },
    {
     "name": "stderr",
     "output_type": "stream",
     "text": [
      "INFO:fbprophet:Disabling daily seasonality. Run prophet with daily_seasonality=True to override this.\n"
     ]
    },
    {
     "name": "stdout",
     "output_type": "stream",
     "text": [
      "El producto demoró 1.8155596256256104 Santiago VD FoodService\n",
      "tiempo que lleva corriendo 0.14816060463587444 Min\n"
     ]
    },
    {
     "name": "stderr",
     "output_type": "stream",
     "text": [
      "INFO:fbprophet:Disabling daily seasonality. Run prophet with daily_seasonality=True to override this.\n"
     ]
    },
    {
     "name": "stdout",
     "output_type": "stream",
     "text": [
      "El producto demoró 2.003220796585083 Santiago VD FoodService\n",
      "tiempo que lleva corriendo 0.18157263994216918 Min\n"
     ]
    },
    {
     "name": "stderr",
     "output_type": "stream",
     "text": [
      "INFO:fbprophet:Disabling daily seasonality. Run prophet with daily_seasonality=True to override this.\n"
     ]
    },
    {
     "name": "stdout",
     "output_type": "stream",
     "text": [
      "El producto demoró 1.9301581382751465 Santiago VD FoodService\n",
      "tiempo que lleva corriendo 0.21376696825027466 Min\n"
     ]
    },
    {
     "name": "stderr",
     "output_type": "stream",
     "text": [
      "INFO:fbprophet:Disabling daily seasonality. Run prophet with daily_seasonality=True to override this.\n"
     ]
    },
    {
     "name": "stdout",
     "output_type": "stream",
     "text": [
      "El producto demoró 1.6934552192687988 Santiago VD FoodService\n",
      "tiempo que lleva corriendo 0.24201624393463134 Min\n"
     ]
    },
    {
     "name": "stderr",
     "output_type": "stream",
     "text": [
      "INFO:fbprophet:Disabling daily seasonality. Run prophet with daily_seasonality=True to override this.\n"
     ]
    },
    {
     "name": "stdout",
     "output_type": "stream",
     "text": [
      "El producto demoró 1.9837045669555664 Santiago VD FoodService\n",
      "tiempo que lleva corriendo 0.27509465217590334 Min\n"
     ]
    },
    {
     "name": "stderr",
     "output_type": "stream",
     "text": [
      "INFO:fbprophet:Disabling daily seasonality. Run prophet with daily_seasonality=True to override this.\n"
     ]
    },
    {
     "name": "stdout",
     "output_type": "stream",
     "text": [
      "El producto demoró 1.7540063858032227 Santiago VD FoodService\n",
      "tiempo que lleva corriendo 0.30433642466863 Min\n"
     ]
    },
    {
     "name": "stderr",
     "output_type": "stream",
     "text": [
      "INFO:fbprophet:Disabling daily seasonality. Run prophet with daily_seasonality=True to override this.\n"
     ]
    },
    {
     "name": "stdout",
     "output_type": "stream",
     "text": [
      "El producto demoró 1.679443359375 Santiago VD FoodService\n",
      "tiempo que lleva corriendo 0.33233548402786256 Min\n"
     ]
    },
    {
     "name": "stderr",
     "output_type": "stream",
     "text": [
      "INFO:fbprophet:Disabling daily seasonality. Run prophet with daily_seasonality=True to override this.\n"
     ]
    },
    {
     "name": "stdout",
     "output_type": "stream",
     "text": [
      "El producto demoró 1.721479892730713 Santiago VD FoodService\n",
      "tiempo que lleva corriendo 0.3610518177350362 Min\n"
     ]
    },
    {
     "name": "stderr",
     "output_type": "stream",
     "text": [
      "INFO:fbprophet:Disabling daily seasonality. Run prophet with daily_seasonality=True to override this.\n"
     ]
    },
    {
     "name": "stdout",
     "output_type": "stream",
     "text": [
      "El producto demoró 1.9126431941986084 Santiago VD FoodService\n",
      "tiempo que lleva corriendo 0.39295421838760375 Min\n"
     ]
    },
    {
     "name": "stderr",
     "output_type": "stream",
     "text": [
      "INFO:fbprophet:Disabling daily seasonality. Run prophet with daily_seasonality=True to override this.\n"
     ]
    },
    {
     "name": "stdout",
     "output_type": "stream",
     "text": [
      "El producto demoró 1.2585813999176025 Santiago VD FoodService\n",
      "tiempo que lleva corriendo 0.4141724507013957 Min\n"
     ]
    },
    {
     "name": "stderr",
     "output_type": "stream",
     "text": [
      "INFO:fbprophet:Disabling daily seasonality. Run prophet with daily_seasonality=True to override this.\n"
     ]
    },
    {
     "name": "stdout",
     "output_type": "stream",
     "text": [
      "El producto demoró 1.3846900463104248 Santiago VD FoodService\n",
      "tiempo que lleva corriendo 0.43726728359858197 Min\n"
     ]
    },
    {
     "name": "stderr",
     "output_type": "stream",
     "text": [
      "INFO:fbprophet:Disabling daily seasonality. Run prophet with daily_seasonality=True to override this.\n"
     ]
    },
    {
     "name": "stdout",
     "output_type": "stream",
     "text": [
      "El producto demoró 1.6904523372650146 Santiago VD FoodService\n",
      "tiempo que lleva corriendo 0.46546651124954225 Min\n"
     ]
    },
    {
     "name": "stderr",
     "output_type": "stream",
     "text": [
      "INFO:fbprophet:Disabling daily seasonality. Run prophet with daily_seasonality=True to override this.\n"
     ]
    },
    {
     "name": "stdout",
     "output_type": "stream",
     "text": [
      "El producto demoró 1.6644301414489746 Santiago VD FoodService\n",
      "tiempo que lleva corriendo 0.4932236870129903 Min\n"
     ]
    },
    {
     "name": "stderr",
     "output_type": "stream",
     "text": [
      "INFO:fbprophet:Disabling daily seasonality. Run prophet with daily_seasonality=True to override this.\n"
     ]
    },
    {
     "name": "stdout",
     "output_type": "stream",
     "text": [
      "El producto demoró 1.7414970397949219 Santiago VD FoodService\n",
      "tiempo que lleva corriendo 0.5222736517588298 Min\n"
     ]
    },
    {
     "name": "stderr",
     "output_type": "stream",
     "text": [
      "INFO:fbprophet:Disabling daily seasonality. Run prophet with daily_seasonality=True to override this.\n"
     ]
    },
    {
     "name": "stdout",
     "output_type": "stream",
     "text": [
      "El producto demoró 1.640408992767334 Santiago VD FoodService\n",
      "tiempo que lleva corriendo 0.549638827641805 Min\n"
     ]
    },
    {
     "name": "stderr",
     "output_type": "stream",
     "text": [
      "INFO:fbprophet:Disabling daily seasonality. Run prophet with daily_seasonality=True to override this.\n"
     ]
    },
    {
     "name": "stdout",
     "output_type": "stream",
     "text": [
      "El producto demoró 1.49178147315979 Santiago VD FoodService\n",
      "tiempo que lleva corriendo 0.5745185216267904 Min\n"
     ]
    },
    {
     "name": "stderr",
     "output_type": "stream",
     "text": [
      "INFO:fbprophet:Disabling daily seasonality. Run prophet with daily_seasonality=True to override this.\n"
     ]
    },
    {
     "name": "stdout",
     "output_type": "stream",
     "text": [
      "El producto demoró 1.7314870357513428 Santiago VD FoodService\n",
      "tiempo que lleva corriendo 0.603410009543101 Min\n"
     ]
    },
    {
     "name": "stderr",
     "output_type": "stream",
     "text": [
      "INFO:fbprophet:Disabling daily seasonality. Run prophet with daily_seasonality=True to override this.\n"
     ]
    },
    {
     "name": "stdout",
     "output_type": "stream",
     "text": [
      "El producto demoró 1.974696397781372 Santiago VD FoodService\n",
      "tiempo que lleva corriendo 0.6363466302553813 Min\n"
     ]
    },
    {
     "name": "stderr",
     "output_type": "stream",
     "text": [
      "INFO:fbprophet:Disabling daily seasonality. Run prophet with daily_seasonality=True to override this.\n"
     ]
    },
    {
     "name": "stdout",
     "output_type": "stream",
     "text": [
      "El producto demoró 1.536320447921753 Santiago VD FoodService\n",
      "tiempo que lleva corriendo 0.6619686524073283 Min\n",
      "El producto demoró 0.0070056915283203125 Santiago VD FoodService\n",
      "tiempo que lleva corriendo 0.6620854139328003 Min\n"
     ]
    },
    {
     "name": "stderr",
     "output_type": "stream",
     "text": [
      "INFO:fbprophet:Disabling daily seasonality. Run prophet with daily_seasonality=True to override this.\n"
     ]
    },
    {
     "name": "stdout",
     "output_type": "stream",
     "text": [
      "El producto demoró 1.5353190898895264 Santiago VD FoodService\n",
      "tiempo que lleva corriendo 0.6876907467842102 Min\n"
     ]
    },
    {
     "name": "stderr",
     "output_type": "stream",
     "text": [
      "INFO:fbprophet:Disabling daily seasonality. Run prophet with daily_seasonality=True to override this.\n"
     ]
    },
    {
     "name": "stdout",
     "output_type": "stream",
     "text": [
      "El producto demoró 1.8751106262207031 Santiago VD FoodService\n",
      "tiempo que lleva corriendo 0.7189592719078064 Min\n"
     ]
    },
    {
     "name": "stderr",
     "output_type": "stream",
     "text": [
      "INFO:fbprophet:Disabling daily seasonality. Run prophet with daily_seasonality=True to override this.\n"
     ]
    },
    {
     "name": "stdout",
     "output_type": "stream",
     "text": [
      "El producto demoró 1.6103835105895996 Santiago VD FoodService\n",
      "tiempo que lleva corriendo 0.7460325241088868 Min\n",
      "El producto demoró 0.0055048465728759766 Santiago VD FoodService\n",
      "tiempo que lleva corriendo 0.7461326082547506 Min\n"
     ]
    },
    {
     "name": "stderr",
     "output_type": "stream",
     "text": [
      "INFO:fbprophet:Disabling daily seasonality. Run prophet with daily_seasonality=True to override this.\n"
     ]
    },
    {
     "name": "stdout",
     "output_type": "stream",
     "text": [
      "El producto demoró 1.328641414642334 Santiago VD FoodService\n",
      "tiempo que lleva corriendo 0.768293313185374 Min\n"
     ]
    },
    {
     "name": "stderr",
     "output_type": "stream",
     "text": [
      "INFO:fbprophet:Disabling daily seasonality. Run prophet with daily_seasonality=True to override this.\n"
     ]
    },
    {
     "name": "stdout",
     "output_type": "stream",
     "text": [
      "El producto demoró 1.359668493270874 Santiago VD FoodService\n",
      "tiempo que lleva corriendo 0.7909711321194967 Min\n"
     ]
    },
    {
     "name": "stderr",
     "output_type": "stream",
     "text": [
      "INFO:fbprophet:Disabling daily seasonality. Run prophet with daily_seasonality=True to override this.\n"
     ]
    },
    {
     "name": "stdout",
     "output_type": "stream",
     "text": [
      "El producto demoró 1.5838613510131836 Santiago VD FoodService\n",
      "tiempo que lleva corriendo 0.8173938194910685 Min\n"
     ]
    },
    {
     "name": "stderr",
     "output_type": "stream",
     "text": [
      "INFO:fbprophet:Disabling daily seasonality. Run prophet with daily_seasonality=True to override this.\n"
     ]
    },
    {
     "name": "stdout",
     "output_type": "stream",
     "text": [
      "El producto demoró 1.5948705673217773 Santiago VD FoodService\n",
      "tiempo que lleva corriendo 0.8439916729927063 Min\n"
     ]
    },
    {
     "name": "stderr",
     "output_type": "stream",
     "text": [
      "INFO:fbprophet:Disabling daily seasonality. Run prophet with daily_seasonality=True to override this.\n"
     ]
    },
    {
     "name": "stdout",
     "output_type": "stream",
     "text": [
      "El producto demoró 1.2620844841003418 Santiago VD FoodService\n",
      "tiempo que lleva corriendo 0.8650430878003438 Min\n"
     ]
    },
    {
     "name": "stderr",
     "output_type": "stream",
     "text": [
      "INFO:fbprophet:Disabling daily seasonality. Run prophet with daily_seasonality=True to override this.\n"
     ]
    },
    {
     "name": "stdout",
     "output_type": "stream",
     "text": [
      "El producto demoró 1.6679332256317139 Santiago VD FoodService\n",
      "tiempo que lleva corriendo 0.8928669889767965 Min\n"
     ]
    },
    {
     "name": "stderr",
     "output_type": "stream",
     "text": [
      "INFO:fbprophet:Disabling daily seasonality. Run prophet with daily_seasonality=True to override this.\n"
     ]
    },
    {
     "name": "stdout",
     "output_type": "stream",
     "text": [
      "El producto demoró 1.5578389167785645 Santiago VD FoodService\n",
      "tiempo que lleva corriendo 0.9188476403554281 Min\n"
     ]
    },
    {
     "name": "stderr",
     "output_type": "stream",
     "text": [
      "INFO:fbprophet:Disabling daily seasonality. Run prophet with daily_seasonality=True to override this.\n"
     ]
    },
    {
     "name": "stdout",
     "output_type": "stream",
     "text": [
      "El producto demoró 1.622894287109375 Santiago VD FoodService\n",
      "tiempo que lleva corriendo 0.9459125598271688 Min\n"
     ]
    },
    {
     "name": "stderr",
     "output_type": "stream",
     "text": [
      "INFO:fbprophet:Disabling daily seasonality. Run prophet with daily_seasonality=True to override this.\n"
     ]
    },
    {
     "name": "stdout",
     "output_type": "stream",
     "text": [
      "El producto demoró 1.4192194938659668 Santiago VD FoodService\n",
      "tiempo que lleva corriendo 0.969591232140859 Min\n"
     ]
    },
    {
     "name": "stderr",
     "output_type": "stream",
     "text": [
      "INFO:fbprophet:Disabling daily seasonality. Run prophet with daily_seasonality=True to override this.\n"
     ]
    },
    {
     "name": "stdout",
     "output_type": "stream",
     "text": [
      "El producto demoró 1.6173899173736572 Santiago VD FoodService\n",
      "tiempo que lleva corriendo 0.9965644041697185 Min\n",
      "El producto demoró 1.5298147201538086 Santiago VD FoodService\n",
      "tiempo que lleva corriendo 1.0220863262812296 Min\n",
      "El producto demoró 0.0035037994384765625 Santiago VD FoodService\n",
      "tiempo que lleva corriendo 1.0223281939824422 Min\n",
      "El producto demoró 0.0035026073455810547 Santiago VD FoodService\n",
      "tiempo que lleva corriendo 1.0224032680193582 Min\n",
      "El producto demoró 0.0030028820037841797 Santiago VD FoodService\n",
      "tiempo que lleva corriendo 1.0224783301353455 Min\n",
      "El producto demoró 0.0030031204223632812 Santiago VD FoodService\n",
      "tiempo que lleva corriendo 1.022545059521993 Min\n",
      "El producto demoró 0.003503561019897461 Santiago VD FoodService\n",
      "tiempo que lleva corriendo 1.0226201136906943 Min\n",
      "El producto demoró 0.0030024051666259766 Santiago VD FoodService\n",
      "tiempo que lleva corriendo 1.0226868470509847 Min\n",
      "El producto demoró 0.004003286361694336 Santiago VD FoodService\n",
      "tiempo que lleva corriendo 1.0227619091669717 Min\n",
      "Centro Norte\n"
     ]
    },
    {
     "name": "stderr",
     "output_type": "stream",
     "text": [
      "INFO:fbprophet:Disabling daily seasonality. Run prophet with daily_seasonality=True to override this.\n",
      "INFO:fbprophet:Disabling daily seasonality. Run prophet with daily_seasonality=True to override this.\n"
     ]
    },
    {
     "name": "stdout",
     "output_type": "stream",
     "text": [
      "El producto demoró 1.7009608745574951 Centro Norte VD FoodService\n",
      "tiempo que lleva corriendo 1.0539637128512065 Min\n"
     ]
    },
    {
     "name": "stderr",
     "output_type": "stream",
     "text": [
      "INFO:fbprophet:Disabling daily seasonality. Run prophet with daily_seasonality=True to override this.\n"
     ]
    },
    {
     "name": "stdout",
     "output_type": "stream",
     "text": [
      "El producto demoró 1.5768542289733887 Centro Norte VD FoodService\n",
      "tiempo que lleva corriendo 1.0802612980206807 Min\n"
     ]
    },
    {
     "name": "stderr",
     "output_type": "stream",
     "text": [
      "INFO:fbprophet:Disabling daily seasonality. Run prophet with daily_seasonality=True to override this.\n"
     ]
    },
    {
     "name": "stdout",
     "output_type": "stream",
     "text": [
      "El producto demoró 1.6404094696044922 Centro Norte VD FoodService\n",
      "tiempo que lleva corriendo 1.1076181411743165 Min\n"
     ]
    },
    {
     "name": "stderr",
     "output_type": "stream",
     "text": [
      "INFO:fbprophet:Disabling daily seasonality. Run prophet with daily_seasonality=True to override this.\n"
     ]
    },
    {
     "name": "stdout",
     "output_type": "stream",
     "text": [
      "El producto demoró 1.5663456916809082 Centro Norte VD FoodService\n",
      "tiempo que lleva corriendo 1.1337489088376362 Min\n"
     ]
    },
    {
     "name": "stderr",
     "output_type": "stream",
     "text": [
      "INFO:fbprophet:Disabling daily seasonality. Run prophet with daily_seasonality=True to override this.\n"
     ]
    },
    {
     "name": "stdout",
     "output_type": "stream",
     "text": [
      "El producto demoró 1.8871214389801025 Centro Norte VD FoodService\n",
      "tiempo que lleva corriendo 1.1652176141738892 Min\n"
     ]
    },
    {
     "name": "stderr",
     "output_type": "stream",
     "text": [
      "INFO:fbprophet:Disabling daily seasonality. Run prophet with daily_seasonality=True to override this.\n"
     ]
    },
    {
     "name": "stdout",
     "output_type": "stream",
     "text": [
      "El producto demoró 1.680443286895752 Centro Norte VD FoodService\n",
      "tiempo que lleva corriendo 1.1932500362396241 Min\n"
     ]
    },
    {
     "name": "stderr",
     "output_type": "stream",
     "text": [
      "INFO:fbprophet:Disabling daily seasonality. Run prophet with daily_seasonality=True to override this.\n"
     ]
    },
    {
     "name": "stdout",
     "output_type": "stream",
     "text": [
      "El producto demoró 1.5818583965301514 Centro Norte VD FoodService\n",
      "tiempo que lleva corriendo 1.2196226755777995 Min\n"
     ]
    },
    {
     "name": "stderr",
     "output_type": "stream",
     "text": [
      "INFO:fbprophet:Disabling daily seasonality. Run prophet with daily_seasonality=True to override this.\n"
     ]
    },
    {
     "name": "stdout",
     "output_type": "stream",
     "text": [
      "El producto demoró 1.7580108642578125 Centro Norte VD FoodService\n",
      "tiempo que lleva corriendo 1.2489395300547281 Min\n"
     ]
    },
    {
     "name": "stderr",
     "output_type": "stream",
     "text": [
      "INFO:fbprophet:Disabling daily seasonality. Run prophet with daily_seasonality=True to override this.\n"
     ]
    },
    {
     "name": "stdout",
     "output_type": "stream",
     "text": [
      "El producto demoró 1.5628430843353271 Centro Norte VD FoodService\n",
      "tiempo que lleva corriendo 1.274995255470276 Min\n"
     ]
    },
    {
     "name": "stderr",
     "output_type": "stream",
     "text": [
      "INFO:fbprophet:Disabling daily seasonality. Run prophet with daily_seasonality=True to override this.\n"
     ]
    },
    {
     "name": "stdout",
     "output_type": "stream",
     "text": [
      "El producto demoró 1.9121417999267578 Centro Norte VD FoodService\n",
      "tiempo que lleva corriendo 1.3068809668223063 Min\n"
     ]
    },
    {
     "name": "stderr",
     "output_type": "stream",
     "text": [
      "INFO:fbprophet:Disabling daily seasonality. Run prophet with daily_seasonality=True to override this.\n"
     ]
    },
    {
     "name": "stdout",
     "output_type": "stream",
     "text": [
      "El producto demoró 1.5893666744232178 Centro Norte VD FoodService\n",
      "tiempo que lleva corriendo 1.3333787361780802 Min\n"
     ]
    },
    {
     "name": "stderr",
     "output_type": "stream",
     "text": [
      "INFO:fbprophet:Disabling daily seasonality. Run prophet with daily_seasonality=True to override this.\n"
     ]
    },
    {
     "name": "stdout",
     "output_type": "stream",
     "text": [
      "El producto demoró 1.6819448471069336 Centro Norte VD FoodService\n",
      "tiempo que lleva corriendo 1.3614278276761373 Min\n"
     ]
    },
    {
     "name": "stderr",
     "output_type": "stream",
     "text": [
      "INFO:fbprophet:Disabling daily seasonality. Run prophet with daily_seasonality=True to override this.\n"
     ]
    },
    {
     "name": "stdout",
     "output_type": "stream",
     "text": [
      "El producto demoró 1.6138865947723389 Centro Norte VD FoodService\n",
      "tiempo que lleva corriendo 1.3883426109949748 Min\n"
     ]
    },
    {
     "name": "stderr",
     "output_type": "stream",
     "text": [
      "INFO:fbprophet:Disabling daily seasonality. Run prophet with daily_seasonality=True to override this.\n"
     ]
    },
    {
     "name": "stdout",
     "output_type": "stream",
     "text": [
      "El producto demoró 1.337148904800415 Centro Norte VD FoodService\n",
      "tiempo que lleva corriendo 1.410970389842987 Min\n"
     ]
    },
    {
     "name": "stderr",
     "output_type": "stream",
     "text": [
      "INFO:fbprophet:Disabling daily seasonality. Run prophet with daily_seasonality=True to override this.\n"
     ]
    },
    {
     "name": "stdout",
     "output_type": "stream",
     "text": [
      "El producto demoró 1.6814444065093994 Centro Norte VD FoodService\n",
      "tiempo que lleva corriendo 1.4390111406644186 Min\n"
     ]
    },
    {
     "name": "stderr",
     "output_type": "stream",
     "text": [
      "INFO:fbprophet:Disabling daily seasonality. Run prophet with daily_seasonality=True to override this.\n"
     ]
    },
    {
     "name": "stdout",
     "output_type": "stream",
     "text": [
      "El producto demoró 1.67694091796875 Centro Norte VD FoodService\n",
      "tiempo que lleva corriendo 1.4669768253962199 Min\n"
     ]
    },
    {
     "name": "stderr",
     "output_type": "stream",
     "text": [
      "INFO:fbprophet:Disabling daily seasonality. Run prophet with daily_seasonality=True to override this.\n"
     ]
    },
    {
     "name": "stdout",
     "output_type": "stream",
     "text": [
      "El producto demoró 1.6724374294281006 Centro Norte VD FoodService\n",
      "tiempo que lleva corriendo 1.494867459932963 Min\n"
     ]
    },
    {
     "name": "stderr",
     "output_type": "stream",
     "text": [
      "INFO:fbprophet:Disabling daily seasonality. Run prophet with daily_seasonality=True to override this.\n"
     ]
    },
    {
     "name": "stdout",
     "output_type": "stream",
     "text": [
      "El producto demoró 1.7384936809539795 Centro Norte VD FoodService\n",
      "tiempo que lleva corriendo 1.5238590240478516 Min\n"
     ]
    },
    {
     "name": "stderr",
     "output_type": "stream",
     "text": [
      "INFO:fbprophet:Disabling daily seasonality. Run prophet with daily_seasonality=True to override this.\n"
     ]
    },
    {
     "name": "stdout",
     "output_type": "stream",
     "text": [
      "El producto demoró 1.4627571105957031 Centro Norte VD FoodService\n",
      "tiempo que lleva corriendo 1.5482633193333943 Min\n"
     ]
    },
    {
     "name": "stderr",
     "output_type": "stream",
     "text": [
      "INFO:fbprophet:Disabling daily seasonality. Run prophet with daily_seasonality=True to override this.\n"
     ]
    },
    {
     "name": "stdout",
     "output_type": "stream",
     "text": [
      "El producto demoró 1.5958714485168457 Centro Norte VD FoodService\n",
      "tiempo que lleva corriendo 1.5748778502146403 Min\n"
     ]
    },
    {
     "name": "stderr",
     "output_type": "stream",
     "text": [
      "INFO:fbprophet:Disabling daily seasonality. Run prophet with daily_seasonality=True to override this.\n"
     ]
    },
    {
     "name": "stdout",
     "output_type": "stream",
     "text": [
      "El producto demoró 1.505293607711792 Centro Norte VD FoodService\n",
      "tiempo que lleva corriendo 1.5999910990397135 Min\n"
     ]
    },
    {
     "name": "stderr",
     "output_type": "stream",
     "text": [
      "INFO:fbprophet:Disabling daily seasonality. Run prophet with daily_seasonality=True to override this.\n"
     ]
    },
    {
     "name": "stdout",
     "output_type": "stream",
     "text": [
      "El producto demoró 1.6439118385314941 Centro Norte VD FoodService\n",
      "tiempo que lleva corriendo 1.6274063110351562 Min\n"
     ]
    },
    {
     "name": "stderr",
     "output_type": "stream",
     "text": [
      "INFO:fbprophet:Disabling daily seasonality. Run prophet with daily_seasonality=True to override this.\n"
     ]
    },
    {
     "name": "stdout",
     "output_type": "stream",
     "text": [
      "El producto demoró 2.11681866645813 Centro Norte VD FoodService\n",
      "tiempo que lleva corriendo 1.6627116362253824 Min\n",
      "El producto demoró 0.007005929946899414 Centro Norte VD FoodService\n",
      "tiempo que lleva corriendo 1.66283673842748 Min\n"
     ]
    },
    {
     "name": "stderr",
     "output_type": "stream",
     "text": [
      "INFO:fbprophet:Disabling daily seasonality. Run prophet with daily_seasonality=True to override this.\n"
     ]
    },
    {
     "name": "stdout",
     "output_type": "stream",
     "text": [
      "El producto demoró 1.777026653289795 Centro Norte VD FoodService\n",
      "tiempo que lleva corriendo 1.6924705465634664 Min\n"
     ]
    },
    {
     "name": "stderr",
     "output_type": "stream",
     "text": [
      "INFO:fbprophet:Disabling daily seasonality. Run prophet with daily_seasonality=True to override this.\n"
     ]
    },
    {
     "name": "stdout",
     "output_type": "stream",
     "text": [
      "El producto demoró 1.6974575519561768 Centro Norte VD FoodService\n",
      "tiempo que lleva corriendo 1.720778183142344 Min\n"
     ]
    },
    {
     "name": "stderr",
     "output_type": "stream",
     "text": [
      "INFO:fbprophet:Disabling daily seasonality. Run prophet with daily_seasonality=True to override this.\n"
     ]
    },
    {
     "name": "stdout",
     "output_type": "stream",
     "text": [
      "El producto demoró 1.5948700904846191 Centro Norte VD FoodService\n",
      "tiempo que lleva corriendo 1.7477179924647013 Min\n",
      "El producto demoró 0.008007287979125977 Centro Norte VD FoodService\n",
      "tiempo que lleva corriendo 1.7478681166966756 Min\n"
     ]
    },
    {
     "name": "stderr",
     "output_type": "stream",
     "text": [
      "INFO:fbprophet:Disabling daily seasonality. Run prophet with daily_seasonality=True to override this.\n"
     ]
    },
    {
     "name": "stdout",
     "output_type": "stream",
     "text": [
      "El producto demoró 1.5793571472167969 Centro Norte VD FoodService\n",
      "tiempo que lleva corriendo 1.7742074131965637 Min\n"
     ]
    },
    {
     "name": "stderr",
     "output_type": "stream",
     "text": [
      "INFO:fbprophet:Disabling daily seasonality. Run prophet with daily_seasonality=True to override this.\n"
     ]
    },
    {
     "name": "stdout",
     "output_type": "stream",
     "text": [
      "El producto demoró 1.6329033374786377 Centro Norte VD FoodService\n",
      "tiempo que lleva corriendo 1.801439146200816 Min\n"
     ]
    },
    {
     "name": "stderr",
     "output_type": "stream",
     "text": [
      "INFO:fbprophet:Disabling daily seasonality. Run prophet with daily_seasonality=True to override this.\n"
     ]
    },
    {
     "name": "stdout",
     "output_type": "stream",
     "text": [
      "El producto demoró 1.6949565410614014 Centro Norte VD FoodService\n",
      "tiempo que lleva corriendo 1.8297050952911378 Min\n"
     ]
    },
    {
     "name": "stderr",
     "output_type": "stream",
     "text": [
      "INFO:fbprophet:Disabling daily seasonality. Run prophet with daily_seasonality=True to override this.\n"
     ]
    },
    {
     "name": "stdout",
     "output_type": "stream",
     "text": [
      "El producto demoró 1.5723512172698975 Centro Norte VD FoodService\n",
      "tiempo que lleva corriendo 1.8559443036715189 Min\n"
     ]
    },
    {
     "name": "stderr",
     "output_type": "stream",
     "text": [
      "INFO:fbprophet:Disabling daily seasonality. Run prophet with daily_seasonality=True to override this.\n"
     ]
    },
    {
     "name": "stdout",
     "output_type": "stream",
     "text": [
      "El producto demoró 1.468261480331421 Centro Norte VD FoodService\n",
      "tiempo que lleva corriendo 1.8804319977760315 Min\n"
     ]
    },
    {
     "name": "stderr",
     "output_type": "stream",
     "text": [
      "INFO:fbprophet:Disabling daily seasonality. Run prophet with daily_seasonality=True to override this.\n"
     ]
    },
    {
     "name": "stdout",
     "output_type": "stream",
     "text": [
      "El producto demoró 1.9792006015777588 Centro Norte VD FoodService\n",
      "tiempo que lleva corriendo 1.9134353439013163 Min\n"
     ]
    },
    {
     "name": "stderr",
     "output_type": "stream",
     "text": [
      "INFO:fbprophet:Disabling daily seasonality. Run prophet with daily_seasonality=True to override this.\n"
     ]
    },
    {
     "name": "stdout",
     "output_type": "stream",
     "text": [
      "El producto demoró 1.6954565048217773 Centro Norte VD FoodService\n",
      "tiempo que lleva corriendo 1.9417179743448894 Min\n"
     ]
    },
    {
     "name": "stderr",
     "output_type": "stream",
     "text": [
      "INFO:fbprophet:Disabling daily seasonality. Run prophet with daily_seasonality=True to override this.\n"
     ]
    },
    {
     "name": "stdout",
     "output_type": "stream",
     "text": [
      "El producto demoró 1.9781992435455322 Centro Norte VD FoodService\n",
      "tiempo que lleva corriendo 1.974704647064209 Min\n"
     ]
    },
    {
     "name": "stderr",
     "output_type": "stream",
     "text": [
      "INFO:fbprophet:Disabling daily seasonality. Run prophet with daily_seasonality=True to override this.\n"
     ]
    },
    {
     "name": "stdout",
     "output_type": "stream",
     "text": [
      "El producto demoró 1.553335428237915 Centro Norte VD FoodService\n",
      "tiempo que lleva corriendo 2.000601895650228 Min\n"
     ]
    },
    {
     "name": "stderr",
     "output_type": "stream",
     "text": [
      "INFO:fbprophet:Disabling daily seasonality. Run prophet with daily_seasonality=True to override this.\n"
     ]
    },
    {
     "name": "stdout",
     "output_type": "stream",
     "text": [
      "El producto demoró 1.846585750579834 Centro Norte VD FoodService\n",
      "tiempo que lleva corriendo 2.031403342882792 Min\n"
     ]
    },
    {
     "name": "stderr",
     "output_type": "stream",
     "text": [
      "INFO:fbprophet:Disabling daily seasonality. Run prophet with daily_seasonality=True to override this.\n"
     ]
    },
    {
     "name": "stdout",
     "output_type": "stream",
     "text": [
      "El producto demoró 1.7304859161376953 Centro Norte VD FoodService\n",
      "tiempo que lleva corriendo 2.060269812742869 Min\n",
      "El producto demoró 0.003503084182739258 Centro Norte VD FoodService\n",
      "tiempo que lleva corriendo 2.0606284578641256 Min\n",
      "El producto demoró 0.004003286361694336 Centro Norte VD FoodService\n",
      "tiempo que lleva corriendo 2.0607118646303815 Min\n",
      "El producto demoró 0.003503084182739258 Centro Norte VD FoodService\n",
      "tiempo que lleva corriendo 2.0607869307200115 Min\n"
     ]
    },
    {
     "name": "stderr",
     "output_type": "stream",
     "text": [
      "INFO:fbprophet:Disabling daily seasonality. Run prophet with daily_seasonality=True to override this.\n"
     ]
    },
    {
     "name": "stdout",
     "output_type": "stream",
     "text": [
      "El producto demoró 1.3101248741149902 Centro Norte VD FoodService\n",
      "tiempo que lleva corriendo 2.0826390306154887 Min\n",
      "El producto demoró 0.004003763198852539 Centro Norte VD FoodService\n",
      "tiempo que lleva corriendo 2.082730774084727 Min\n",
      "El producto demoró 0.0035026073455810547 Centro Norte VD FoodService\n",
      "tiempo que lleva corriendo 2.08281417687734 Min\n"
     ]
    },
    {
     "name": "stderr",
     "output_type": "stream",
     "text": [
      "INFO:fbprophet:Disabling daily seasonality. Run prophet with daily_seasonality=True to override this.\n"
     ]
    },
    {
     "name": "stdout",
     "output_type": "stream",
     "text": [
      "El producto demoró 2.416577100753784 Centro Norte VD FoodService\n",
      "tiempo que lleva corriendo 2.1230904618899027 Min\n"
     ]
    },
    {
     "name": "stderr",
     "output_type": "stream",
     "text": [
      "INFO:fbprophet:Disabling daily seasonality. Run prophet with daily_seasonality=True to override this.\n"
     ]
    },
    {
     "name": "stdout",
     "output_type": "stream",
     "text": [
      "El producto demoró 1.3511605262756348 Centro Norte VD FoodService\n",
      "tiempo que lleva corriendo 2.1456264813741046 Min\n"
     ]
    },
    {
     "name": "stderr",
     "output_type": "stream",
     "text": [
      "INFO:fbprophet:Disabling daily seasonality. Run prophet with daily_seasonality=True to override this.\n"
     ]
    },
    {
     "name": "stdout",
     "output_type": "stream",
     "text": [
      "El producto demoró 1.4387359619140625 Centro Norte VD FoodService\n",
      "tiempo que lleva corriendo 2.1696304202079775 Min\n"
     ]
    },
    {
     "name": "stderr",
     "output_type": "stream",
     "text": [
      "INFO:fbprophet:Disabling daily seasonality. Run prophet with daily_seasonality=True to override this.\n"
     ]
    },
    {
     "name": "stdout",
     "output_type": "stream",
     "text": [
      "El producto demoró 1.2710912227630615 Centro Norte VD FoodService\n",
      "tiempo que lleva corriendo 2.1908319711685182 Min\n"
     ]
    },
    {
     "name": "stderr",
     "output_type": "stream",
     "text": [
      "INFO:fbprophet:Disabling daily seasonality. Run prophet with daily_seasonality=True to override this.\n"
     ]
    },
    {
     "name": "stdout",
     "output_type": "stream",
     "text": [
      "El producto demoró 1.3982014656066895 Centro Norte VD FoodService\n",
      "tiempo que lleva corriendo 2.2141520023345946 Min\n",
      "El producto demoró 1.2485730648040771 Centro Norte VD FoodService\n",
      "tiempo que lleva corriendo 2.234978234767914 Min\n",
      "Centro Sur\n"
     ]
    },
    {
     "name": "stderr",
     "output_type": "stream",
     "text": [
      "INFO:fbprophet:Disabling daily seasonality. Run prophet with daily_seasonality=True to override this.\n",
      "INFO:fbprophet:Disabling daily seasonality. Run prophet with daily_seasonality=True to override this.\n"
     ]
    },
    {
     "name": "stdout",
     "output_type": "stream",
     "text": [
      "El producto demoró 1.665931224822998 Centro Sur VD FoodService\n",
      "tiempo que lleva corriendo 2.2657546639442443 Min\n"
     ]
    },
    {
     "name": "stderr",
     "output_type": "stream",
     "text": [
      "INFO:fbprophet:Disabling daily seasonality. Run prophet with daily_seasonality=True to override this.\n"
     ]
    },
    {
     "name": "stdout",
     "output_type": "stream",
     "text": [
      "El producto demoró 1.6454131603240967 Centro Sur VD FoodService\n",
      "tiempo que lleva corriendo 2.2932032426198323 Min\n"
     ]
    },
    {
     "name": "stderr",
     "output_type": "stream",
     "text": [
      "INFO:fbprophet:Disabling daily seasonality. Run prophet with daily_seasonality=True to override this.\n"
     ]
    },
    {
     "name": "stdout",
     "output_type": "stream",
     "text": [
      "El producto demoró 1.5508325099945068 Centro Sur VD FoodService\n",
      "tiempo que lleva corriendo 2.319067140420278 Min\n"
     ]
    },
    {
     "name": "stderr",
     "output_type": "stream",
     "text": [
      "INFO:fbprophet:Disabling daily seasonality. Run prophet with daily_seasonality=True to override this.\n"
     ]
    },
    {
     "name": "stdout",
     "output_type": "stream",
     "text": [
      "El producto demoró 1.8160603046417236 Centro Sur VD FoodService\n",
      "tiempo que lleva corriendo 2.349351473649343 Min\n"
     ]
    },
    {
     "name": "stderr",
     "output_type": "stream",
     "text": [
      "INFO:fbprophet:Disabling daily seasonality. Run prophet with daily_seasonality=True to override this.\n"
     ]
    },
    {
     "name": "stdout",
     "output_type": "stream",
     "text": [
      "El producto demoró 1.8350768089294434 Centro Sur VD FoodService\n",
      "tiempo que lleva corriendo 2.379952784379323 Min\n"
     ]
    },
    {
     "name": "stderr",
     "output_type": "stream",
     "text": [
      "INFO:fbprophet:Disabling daily seasonality. Run prophet with daily_seasonality=True to override this.\n"
     ]
    },
    {
     "name": "stdout",
     "output_type": "stream",
     "text": [
      "El producto demoró 1.7890360355377197 Centro Sur VD FoodService\n",
      "tiempo que lleva corriendo 2.409770051638285 Min\n"
     ]
    },
    {
     "name": "stderr",
     "output_type": "stream",
     "text": [
      "INFO:fbprophet:Disabling daily seasonality. Run prophet with daily_seasonality=True to override this.\n"
     ]
    },
    {
     "name": "stdout",
     "output_type": "stream",
     "text": [
      "El producto demoró 1.7339897155761719 Centro Sur VD FoodService\n",
      "tiempo que lleva corriendo 2.4386865496635437 Min\n"
     ]
    },
    {
     "name": "stderr",
     "output_type": "stream",
     "text": [
      "INFO:fbprophet:Disabling daily seasonality. Run prophet with daily_seasonality=True to override this.\n"
     ]
    },
    {
     "name": "stdout",
     "output_type": "stream",
     "text": [
      "El producto demoró 1.7690203189849854 Centro Sur VD FoodService\n",
      "tiempo que lleva corriendo 2.468186906973521 Min\n"
     ]
    },
    {
     "name": "stderr",
     "output_type": "stream",
     "text": [
      "INFO:fbprophet:Disabling daily seasonality. Run prophet with daily_seasonality=True to override this.\n"
     ]
    },
    {
     "name": "stdout",
     "output_type": "stream",
     "text": [
      "El producto demoró 1.8100547790527344 Centro Sur VD FoodService\n",
      "tiempo que lleva corriendo 2.498371160030365 Min\n"
     ]
    },
    {
     "name": "stderr",
     "output_type": "stream",
     "text": [
      "INFO:fbprophet:Disabling daily seasonality. Run prophet with daily_seasonality=True to override this.\n"
     ]
    },
    {
     "name": "stdout",
     "output_type": "stream",
     "text": [
      "El producto demoró 1.7084670066833496 Centro Sur VD FoodService\n",
      "tiempo que lleva corriendo 2.526862303415934 Min\n"
     ]
    },
    {
     "name": "stderr",
     "output_type": "stream",
     "text": [
      "INFO:fbprophet:Disabling daily seasonality. Run prophet with daily_seasonality=True to override this.\n"
     ]
    },
    {
     "name": "stdout",
     "output_type": "stream",
     "text": [
      "El producto demoró 1.5818583965301514 Centro Sur VD FoodService\n",
      "tiempo que lleva corriendo 2.553234946727753 Min\n"
     ]
    },
    {
     "name": "stderr",
     "output_type": "stream",
     "text": [
      "INFO:fbprophet:Disabling daily seasonality. Run prophet with daily_seasonality=True to override this.\n"
     ]
    },
    {
     "name": "stdout",
     "output_type": "stream",
     "text": [
      "El producto demoró 1.9266550540924072 Centro Sur VD FoodService\n",
      "tiempo que lleva corriendo 2.585354208946228 Min\n"
     ]
    },
    {
     "name": "stderr",
     "output_type": "stream",
     "text": [
      "INFO:fbprophet:Disabling daily seasonality. Run prophet with daily_seasonality=True to override this.\n"
     ]
    },
    {
     "name": "stdout",
     "output_type": "stream",
     "text": [
      "El producto demoró 1.6419105529785156 Centro Sur VD FoodService\n",
      "tiempo que lleva corriendo 2.6127360582351686 Min\n"
     ]
    },
    {
     "name": "stderr",
     "output_type": "stream",
     "text": [
      "INFO:fbprophet:Disabling daily seasonality. Run prophet with daily_seasonality=True to override this.\n"
     ]
    },
    {
     "name": "stdout",
     "output_type": "stream",
     "text": [
      "El producto demoró 1.4222214221954346 Centro Sur VD FoodService\n",
      "tiempo que lleva corriendo 2.636856778462728 Min\n"
     ]
    },
    {
     "name": "stderr",
     "output_type": "stream",
     "text": [
      "INFO:fbprophet:Disabling daily seasonality. Run prophet with daily_seasonality=True to override this.\n"
     ]
    },
    {
     "name": "stdout",
     "output_type": "stream",
     "text": [
      "El producto demoró 1.5588393211364746 Centro Sur VD FoodService\n",
      "tiempo que lleva corriendo 2.662862451871236 Min\n"
     ]
    },
    {
     "name": "stderr",
     "output_type": "stream",
     "text": [
      "INFO:fbprophet:Disabling daily seasonality. Run prophet with daily_seasonality=True to override this.\n"
     ]
    },
    {
     "name": "stdout",
     "output_type": "stream",
     "text": [
      "El producto demoró 1.5533342361450195 Centro Sur VD FoodService\n",
      "tiempo que lleva corriendo 2.6887680490811667 Min\n"
     ]
    },
    {
     "name": "stderr",
     "output_type": "stream",
     "text": [
      "INFO:fbprophet:Disabling daily seasonality. Run prophet with daily_seasonality=True to override this.\n"
     ]
    },
    {
     "name": "stdout",
     "output_type": "stream",
     "text": [
      "El producto demoró 1.7885363101959229 Centro Sur VD FoodService\n",
      "tiempo que lleva corriendo 2.7186020096143086 Min\n"
     ]
    },
    {
     "name": "stderr",
     "output_type": "stream",
     "text": [
      "INFO:fbprophet:Disabling daily seasonality. Run prophet with daily_seasonality=True to override this.\n"
     ]
    },
    {
     "name": "stdout",
     "output_type": "stream",
     "text": [
      "El producto demoró 1.842583179473877 Centro Sur VD FoodService\n",
      "tiempo que lleva corriendo 2.7493284225463865 Min\n"
     ]
    },
    {
     "name": "stderr",
     "output_type": "stream",
     "text": [
      "INFO:fbprophet:Disabling daily seasonality. Run prophet with daily_seasonality=True to override this.\n"
     ]
    },
    {
     "name": "stdout",
     "output_type": "stream",
     "text": [
      "El producto demoró 1.8120555877685547 Centro Sur VD FoodService\n",
      "tiempo que lleva corriendo 2.7795376896858217 Min\n"
     ]
    },
    {
     "name": "stderr",
     "output_type": "stream",
     "text": [
      "INFO:fbprophet:Disabling daily seasonality. Run prophet with daily_seasonality=True to override this.\n"
     ]
    },
    {
     "name": "stdout",
     "output_type": "stream",
     "text": [
      "El producto demoró 1.668933629989624 Centro Sur VD FoodService\n",
      "tiempo que lleva corriendo 2.8073699275652566 Min\n"
     ]
    },
    {
     "name": "stderr",
     "output_type": "stream",
     "text": [
      "INFO:fbprophet:Disabling daily seasonality. Run prophet with daily_seasonality=True to override this.\n"
     ]
    },
    {
     "name": "stdout",
     "output_type": "stream",
     "text": [
      "El producto demoró 1.7765259742736816 Centro Sur VD FoodService\n",
      "tiempo que lleva corriendo 2.8369953711827596 Min\n"
     ]
    },
    {
     "name": "stderr",
     "output_type": "stream",
     "text": [
      "INFO:fbprophet:Disabling daily seasonality. Run prophet with daily_seasonality=True to override this.\n"
     ]
    },
    {
     "name": "stdout",
     "output_type": "stream",
     "text": [
      "El producto demoró 1.8440845012664795 Centro Sur VD FoodService\n",
      "tiempo que lleva corriendo 2.867755130926768 Min\n"
     ]
    },
    {
     "name": "stderr",
     "output_type": "stream",
     "text": [
      "INFO:fbprophet:Disabling daily seasonality. Run prophet with daily_seasonality=True to override this.\n"
     ]
    },
    {
     "name": "stdout",
     "output_type": "stream",
     "text": [
      "El producto demoró 1.602877140045166 Centro Sur VD FoodService\n",
      "tiempo que lleva corriendo 2.894469749927521 Min\n"
     ]
    },
    {
     "name": "stderr",
     "output_type": "stream",
     "text": [
      "INFO:fbprophet:Disabling daily seasonality. Run prophet with daily_seasonality=True to override this.\n"
     ]
    },
    {
     "name": "stdout",
     "output_type": "stream",
     "text": [
      "El producto demoró 1.2906084060668945 Centro Sur VD FoodService\n",
      "tiempo que lleva corriendo 2.915996579329173 Min\n"
     ]
    },
    {
     "name": "stderr",
     "output_type": "stream",
     "text": [
      "INFO:fbprophet:Disabling daily seasonality. Run prophet with daily_seasonality=True to override this.\n"
     ]
    },
    {
     "name": "stdout",
     "output_type": "stream",
     "text": [
      "El producto demoró 1.7134723663330078 Centro Sur VD FoodService\n",
      "tiempo que lleva corriendo 2.9445794542630512 Min\n"
     ]
    },
    {
     "name": "stderr",
     "output_type": "stream",
     "text": [
      "INFO:fbprophet:Disabling daily seasonality. Run prophet with daily_seasonality=True to override this.\n"
     ]
    },
    {
     "name": "stdout",
     "output_type": "stream",
     "text": [
      "El producto demoró 1.848588466644287 Centro Sur VD FoodService\n",
      "tiempo que lleva corriendo 2.975397598743439 Min\n"
     ]
    },
    {
     "name": "stderr",
     "output_type": "stream",
     "text": [
      "INFO:fbprophet:Disabling daily seasonality. Run prophet with daily_seasonality=True to override this.\n"
     ]
    },
    {
     "name": "stdout",
     "output_type": "stream",
     "text": [
      "El producto demoró 1.5708496570587158 Centro Sur VD FoodService\n",
      "tiempo que lleva corriendo 3.0020121335983276 Min\n"
     ]
    },
    {
     "name": "stderr",
     "output_type": "stream",
     "text": [
      "INFO:fbprophet:Disabling daily seasonality. Run prophet with daily_seasonality=True to override this.\n"
     ]
    },
    {
     "name": "stdout",
     "output_type": "stream",
     "text": [
      "El producto demoró 1.244570016860962 Centro Sur VD FoodService\n",
      "tiempo que lleva corriendo 3.022779961427053 Min\n"
     ]
    },
    {
     "name": "stderr",
     "output_type": "stream",
     "text": [
      "INFO:fbprophet:Disabling daily seasonality. Run prophet with daily_seasonality=True to override this.\n"
     ]
    },
    {
     "name": "stdout",
     "output_type": "stream",
     "text": [
      "El producto demoró 1.582360029220581 Centro Sur VD FoodService\n",
      "tiempo que lleva corriendo 3.049160977204641 Min\n"
     ]
    },
    {
     "name": "stderr",
     "output_type": "stream",
     "text": [
      "INFO:fbprophet:Disabling daily seasonality. Run prophet with daily_seasonality=True to override this.\n"
     ]
    },
    {
     "name": "stdout",
     "output_type": "stream",
     "text": [
      "El producto demoró 1.4962847232818604 Centro Sur VD FoodService\n",
      "tiempo que lleva corriendo 3.0741157293319703 Min\n"
     ]
    },
    {
     "name": "stderr",
     "output_type": "stream",
     "text": [
      "INFO:fbprophet:Disabling daily seasonality. Run prophet with daily_seasonality=True to override this.\n"
     ]
    },
    {
     "name": "stdout",
     "output_type": "stream",
     "text": [
      "El producto demoró 1.5388226509094238 Centro Sur VD FoodService\n",
      "tiempo que lleva corriendo 3.099779450893402 Min\n"
     ]
    },
    {
     "name": "stderr",
     "output_type": "stream",
     "text": [
      "INFO:fbprophet:Disabling daily seasonality. Run prophet with daily_seasonality=True to override this.\n"
     ]
    },
    {
     "name": "stdout",
     "output_type": "stream",
     "text": [
      "El producto demoró 1.6289000511169434 Centro Sur VD FoodService\n",
      "tiempo que lleva corriendo 3.1269527832667032 Min\n"
     ]
    },
    {
     "name": "stderr",
     "output_type": "stream",
     "text": [
      "INFO:fbprophet:Disabling daily seasonality. Run prophet with daily_seasonality=True to override this.\n"
     ]
    },
    {
     "name": "stdout",
     "output_type": "stream",
     "text": [
      "El producto demoró 1.5158026218414307 Centro Sur VD FoodService\n",
      "tiempo que lleva corriendo 3.1522244970003763 Min\n"
     ]
    },
    {
     "name": "stderr",
     "output_type": "stream",
     "text": [
      "INFO:fbprophet:Disabling daily seasonality. Run prophet with daily_seasonality=True to override this.\n"
     ]
    },
    {
     "name": "stdout",
     "output_type": "stream",
     "text": [
      "El producto demoró 1.7449989318847656 Centro Sur VD FoodService\n",
      "tiempo que lleva corriendo 3.1813244938850405 Min\n"
     ]
    },
    {
     "name": "stderr",
     "output_type": "stream",
     "text": [
      "INFO:fbprophet:Disabling daily seasonality. Run prophet with daily_seasonality=True to override this.\n"
     ]
    },
    {
     "name": "stdout",
     "output_type": "stream",
     "text": [
      "El producto demoró 1.6824455261230469 Centro Sur VD FoodService\n",
      "tiempo que lleva corriendo 3.2093902667363485 Min\n"
     ]
    },
    {
     "name": "stderr",
     "output_type": "stream",
     "text": [
      "INFO:fbprophet:Disabling daily seasonality. Run prophet with daily_seasonality=True to override this.\n"
     ]
    },
    {
     "name": "stdout",
     "output_type": "stream",
     "text": [
      "El producto demoró 1.7324891090393066 Centro Sur VD FoodService\n",
      "tiempo que lleva corriendo 3.238281762599945 Min\n"
     ]
    },
    {
     "name": "stderr",
     "output_type": "stream",
     "text": [
      "INFO:fbprophet:Disabling daily seasonality. Run prophet with daily_seasonality=True to override this.\n"
     ]
    },
    {
     "name": "stdout",
     "output_type": "stream",
     "text": [
      "El producto demoró 1.8325746059417725 Centro Sur VD FoodService\n",
      "tiempo que lleva corriendo 3.268832997481028 Min\n"
     ]
    },
    {
     "name": "stderr",
     "output_type": "stream",
     "text": [
      "INFO:fbprophet:Disabling daily seasonality. Run prophet with daily_seasonality=True to override this.\n"
     ]
    },
    {
     "name": "stdout",
     "output_type": "stream",
     "text": [
      "El producto demoró 1.9196491241455078 Centro Sur VD FoodService\n",
      "tiempo que lleva corriendo 3.300843826929728 Min\n"
     ]
    },
    {
     "name": "stderr",
     "output_type": "stream",
     "text": [
      "INFO:fbprophet:Disabling daily seasonality. Run prophet with daily_seasonality=True to override this.\n"
     ]
    },
    {
     "name": "stdout",
     "output_type": "stream",
     "text": [
      "El producto demoró 1.6509184837341309 Centro Sur VD FoodService\n",
      "tiempo que lleva corriendo 3.3283758123715717 Min\n"
     ]
    },
    {
     "name": "stderr",
     "output_type": "stream",
     "text": [
      "INFO:fbprophet:Disabling daily seasonality. Run prophet with daily_seasonality=True to override this.\n"
     ]
    },
    {
     "name": "stdout",
     "output_type": "stream",
     "text": [
      "El producto demoró 1.3006172180175781 Centro Sur VD FoodService\n",
      "tiempo que lleva corriendo 3.3504114071528117 Min\n"
     ]
    },
    {
     "name": "stderr",
     "output_type": "stream",
     "text": [
      "INFO:fbprophet:Disabling daily seasonality. Run prophet with daily_seasonality=True to override this.\n"
     ]
    },
    {
     "name": "stdout",
     "output_type": "stream",
     "text": [
      "El producto demoró 1.677440881729126 Centro Sur VD FoodService\n",
      "tiempo que lleva corriendo 3.3783937732378644 Min\n"
     ]
    },
    {
     "name": "stderr",
     "output_type": "stream",
     "text": [
      "INFO:fbprophet:Disabling daily seasonality. Run prophet with daily_seasonality=True to override this.\n"
     ]
    },
    {
     "name": "stdout",
     "output_type": "stream",
     "text": [
      "El producto demoró 1.4512474536895752 Centro Sur VD FoodService\n",
      "tiempo que lleva corriendo 3.4026146014531453 Min\n"
     ]
    },
    {
     "name": "stderr",
     "output_type": "stream",
     "text": [
      "INFO:fbprophet:Disabling daily seasonality. Run prophet with daily_seasonality=True to override this.\n"
     ]
    },
    {
     "name": "stdout",
     "output_type": "stream",
     "text": [
      "El producto demoró 1.7379941940307617 Centro Sur VD FoodService\n",
      "tiempo que lleva corriendo 3.431606157620748 Min\n"
     ]
    },
    {
     "name": "stderr",
     "output_type": "stream",
     "text": [
      "INFO:fbprophet:Disabling daily seasonality. Run prophet with daily_seasonality=True to override this.\n"
     ]
    },
    {
     "name": "stdout",
     "output_type": "stream",
     "text": [
      "El producto demoró 1.4582526683807373 Centro Sur VD FoodService\n",
      "tiempo que lleva corriendo 3.4559187094370523 Min\n"
     ]
    },
    {
     "name": "stderr",
     "output_type": "stream",
     "text": [
      "INFO:fbprophet:Disabling daily seasonality. Run prophet with daily_seasonality=True to override this.\n"
     ]
    },
    {
     "name": "stdout",
     "output_type": "stream",
     "text": [
      "El producto demoró 1.3446555137634277 Centro Sur VD FoodService\n",
      "tiempo que lleva corriendo 3.478346304098765 Min\n"
     ]
    },
    {
     "name": "stderr",
     "output_type": "stream",
     "text": [
      "INFO:fbprophet:Disabling daily seasonality. Run prophet with daily_seasonality=True to override this.\n"
     ]
    },
    {
     "name": "stdout",
     "output_type": "stream",
     "text": [
      "El producto demoró 1.3366477489471436 Centro Sur VD FoodService\n",
      "tiempo que lleva corriendo 3.5006404558817548 Min\n"
     ]
    },
    {
     "name": "stderr",
     "output_type": "stream",
     "text": [
      "INFO:fbprophet:Disabling daily seasonality. Run prophet with daily_seasonality=True to override this.\n"
     ]
    },
    {
     "name": "stdout",
     "output_type": "stream",
     "text": [
      "El producto demoró 1.291109561920166 Centro Sur VD FoodService\n",
      "tiempo que lleva corriendo 3.5221839706103006 Min\n"
     ]
    },
    {
     "name": "stderr",
     "output_type": "stream",
     "text": [
      "INFO:fbprophet:Disabling daily seasonality. Run prophet with daily_seasonality=True to override this.\n"
     ]
    },
    {
     "name": "stdout",
     "output_type": "stream",
     "text": [
      "El producto demoró 1.3977017402648926 Centro Sur VD FoodService\n",
      "tiempo que lleva corriendo 3.5455039898554483 Min\n"
     ]
    },
    {
     "name": "stderr",
     "output_type": "stream",
     "text": [
      "INFO:fbprophet:Disabling daily seasonality. Run prophet with daily_seasonality=True to override this.\n"
     ]
    },
    {
     "name": "stdout",
     "output_type": "stream",
     "text": [
      "El producto demoró 1.5072956085205078 Centro Sur VD FoodService\n",
      "tiempo que lleva corriendo 3.5706422567367553 Min\n"
     ]
    },
    {
     "name": "stderr",
     "output_type": "stream",
     "text": [
      "INFO:fbprophet:Disabling daily seasonality. Run prophet with daily_seasonality=True to override this.\n"
     ]
    },
    {
     "name": "stdout",
     "output_type": "stream",
     "text": [
      "El producto demoró 1.4202208518981934 Centro Sur VD FoodService\n",
      "tiempo que lleva corriendo 3.5943376143773396 Min\n"
     ]
    },
    {
     "name": "stderr",
     "output_type": "stream",
     "text": [
      "INFO:fbprophet:Disabling daily seasonality. Run prophet with daily_seasonality=True to override this.\n"
     ]
    },
    {
     "name": "stdout",
     "output_type": "stream",
     "text": [
      "El producto demoró 1.4292278289794922 Centro Sur VD FoodService\n",
      "tiempo que lleva corriendo 3.618174759546916 Min\n",
      "El producto demoró 1.362170696258545 Centro Sur VD FoodService\n",
      "tiempo que lleva corriendo 3.6409026106198628 Min\n",
      "Sur\n"
     ]
    },
    {
     "name": "stderr",
     "output_type": "stream",
     "text": [
      "INFO:fbprophet:Disabling daily seasonality. Run prophet with daily_seasonality=True to override this.\n",
      "INFO:fbprophet:Disabling daily seasonality. Run prophet with daily_seasonality=True to override this.\n"
     ]
    },
    {
     "name": "stdout",
     "output_type": "stream",
     "text": [
      "El producto demoró 1.5563366413116455 Sur VD FoodService\n",
      "tiempo que lleva corriendo 3.6697774171829223 Min\n"
     ]
    },
    {
     "name": "stderr",
     "output_type": "stream",
     "text": [
      "INFO:fbprophet:Disabling daily seasonality. Run prophet with daily_seasonality=True to override this.\n"
     ]
    },
    {
     "name": "stdout",
     "output_type": "stream",
     "text": [
      "El producto demoró 1.6709349155426025 Sur VD FoodService\n",
      "tiempo que lleva corriendo 3.6976513663927713 Min\n"
     ]
    },
    {
     "name": "stderr",
     "output_type": "stream",
     "text": [
      "INFO:fbprophet:Disabling daily seasonality. Run prophet with daily_seasonality=True to override this.\n"
     ]
    },
    {
     "name": "stdout",
     "output_type": "stream",
     "text": [
      "El producto demoró 1.6534206867218018 Sur VD FoodService\n",
      "tiempo que lleva corriendo 3.7252333879470827 Min\n"
     ]
    },
    {
     "name": "stderr",
     "output_type": "stream",
     "text": [
      "INFO:fbprophet:Disabling daily seasonality. Run prophet with daily_seasonality=True to override this.\n"
     ]
    },
    {
     "name": "stdout",
     "output_type": "stream",
     "text": [
      "El producto demoró 1.619391918182373 Sur VD FoodService\n",
      "tiempo que lleva corriendo 3.7522399266560873 Min\n"
     ]
    },
    {
     "name": "stderr",
     "output_type": "stream",
     "text": [
      "INFO:fbprophet:Disabling daily seasonality. Run prophet with daily_seasonality=True to override this.\n"
     ]
    },
    {
     "name": "stdout",
     "output_type": "stream",
     "text": [
      "El producto demoró 1.9331610202789307 Sur VD FoodService\n",
      "tiempo que lleva corriendo 3.7844759464263915 Min\n"
     ]
    },
    {
     "name": "stderr",
     "output_type": "stream",
     "text": [
      "INFO:fbprophet:Disabling daily seasonality. Run prophet with daily_seasonality=True to override this.\n"
     ]
    },
    {
     "name": "stdout",
     "output_type": "stream",
     "text": [
      "El producto demoró 1.8075532913208008 Sur VD FoodService\n",
      "tiempo que lleva corriendo 3.81461851199468 Min\n"
     ]
    },
    {
     "name": "stderr",
     "output_type": "stream",
     "text": [
      "INFO:fbprophet:Disabling daily seasonality. Run prophet with daily_seasonality=True to override this.\n"
     ]
    },
    {
     "name": "stdout",
     "output_type": "stream",
     "text": [
      "El producto demoró 1.8641014099121094 Sur VD FoodService\n",
      "tiempo que lleva corriendo 3.845695201555888 Min\n"
     ]
    },
    {
     "name": "stderr",
     "output_type": "stream",
     "text": [
      "INFO:fbprophet:Disabling daily seasonality. Run prophet with daily_seasonality=True to override this.\n"
     ]
    },
    {
     "name": "stdout",
     "output_type": "stream",
     "text": [
      "El producto demoró 1.7640159130096436 Sur VD FoodService\n",
      "tiempo que lleva corriendo 3.8751121441523235 Min\n"
     ]
    },
    {
     "name": "stderr",
     "output_type": "stream",
     "text": [
      "INFO:fbprophet:Disabling daily seasonality. Run prophet with daily_seasonality=True to override this.\n"
     ]
    },
    {
     "name": "stdout",
     "output_type": "stream",
     "text": [
      "El producto demoró 1.594369649887085 Sur VD FoodService\n",
      "tiempo que lleva corriendo 3.9017099936803183 Min\n"
     ]
    },
    {
     "name": "stderr",
     "output_type": "stream",
     "text": [
      "INFO:fbprophet:Disabling daily seasonality. Run prophet with daily_seasonality=True to override this.\n"
     ]
    },
    {
     "name": "stdout",
     "output_type": "stream",
     "text": [
      "El producto demoró 2.0472583770751953 Sur VD FoodService\n",
      "tiempo que lleva corriendo 3.93583931128184 Min\n"
     ]
    },
    {
     "name": "stderr",
     "output_type": "stream",
     "text": [
      "INFO:fbprophet:Disabling daily seasonality. Run prophet with daily_seasonality=True to override this.\n"
     ]
    },
    {
     "name": "stdout",
     "output_type": "stream",
     "text": [
      "El producto demoró 1.5928683280944824 Sur VD FoodService\n",
      "tiempo que lleva corriendo 3.9624037981033324 Min\n"
     ]
    },
    {
     "name": "stderr",
     "output_type": "stream",
     "text": [
      "INFO:fbprophet:Disabling daily seasonality. Run prophet with daily_seasonality=True to override this.\n"
     ]
    },
    {
     "name": "stdout",
     "output_type": "stream",
     "text": [
      "El producto demoró 1.6624276638031006 Sur VD FoodService\n",
      "tiempo que lleva corriendo 3.990135951836904 Min\n"
     ]
    },
    {
     "name": "stderr",
     "output_type": "stream",
     "text": [
      "INFO:fbprophet:Disabling daily seasonality. Run prophet with daily_seasonality=True to override this.\n"
     ]
    },
    {
     "name": "stdout",
     "output_type": "stream",
     "text": [
      "El producto demoró 1.553835391998291 Sur VD FoodService\n",
      "tiempo que lleva corriendo 4.016058214505514 Min\n"
     ]
    },
    {
     "name": "stderr",
     "output_type": "stream",
     "text": [
      "INFO:fbprophet:Disabling daily seasonality. Run prophet with daily_seasonality=True to override this.\n"
     ]
    },
    {
     "name": "stdout",
     "output_type": "stream",
     "text": [
      "El producto demoró 1.5413250923156738 Sur VD FoodService\n",
      "tiempo que lleva corriendo 4.042097254594167 Min\n"
     ]
    },
    {
     "name": "stderr",
     "output_type": "stream",
     "text": [
      "INFO:fbprophet:Disabling daily seasonality. Run prophet with daily_seasonality=True to override this.\n"
     ]
    },
    {
     "name": "stdout",
     "output_type": "stream",
     "text": [
      "El producto demoró 1.5723512172698975 Sur VD FoodService\n",
      "tiempo que lleva corriendo 4.068328114350637 Min\n"
     ]
    },
    {
     "name": "stderr",
     "output_type": "stream",
     "text": [
      "INFO:fbprophet:Disabling daily seasonality. Run prophet with daily_seasonality=True to override this.\n"
     ]
    },
    {
     "name": "stdout",
     "output_type": "stream",
     "text": [
      "El producto demoró 1.6419107913970947 Sur VD FoodService\n",
      "tiempo que lleva corriendo 4.095701630910238 Min\n"
     ]
    },
    {
     "name": "stderr",
     "output_type": "stream",
     "text": [
      "INFO:fbprophet:Disabling daily seasonality. Run prophet with daily_seasonality=True to override this.\n"
     ]
    },
    {
     "name": "stdout",
     "output_type": "stream",
     "text": [
      "El producto demoró 1.5698482990264893 Sur VD FoodService\n",
      "tiempo que lleva corriendo 4.121874109903971 Min\n"
     ]
    },
    {
     "name": "stderr",
     "output_type": "stream",
     "text": [
      "INFO:fbprophet:Disabling daily seasonality. Run prophet with daily_seasonality=True to override this.\n"
     ]
    },
    {
     "name": "stdout",
     "output_type": "stream",
     "text": [
      "El producto demoró 1.9186484813690186 Sur VD FoodService\n",
      "tiempo que lleva corriendo 4.15386825799942 Min\n"
     ]
    },
    {
     "name": "stderr",
     "output_type": "stream",
     "text": [
      "INFO:fbprophet:Disabling daily seasonality. Run prophet with daily_seasonality=True to override this.\n"
     ]
    },
    {
     "name": "stdout",
     "output_type": "stream",
     "text": [
      "El producto demoró 1.3791851997375488 Sur VD FoodService\n",
      "tiempo que lleva corriendo 4.176854677995046 Min\n"
     ]
    },
    {
     "name": "stderr",
     "output_type": "stream",
     "text": [
      "INFO:fbprophet:Disabling daily seasonality. Run prophet with daily_seasonality=True to override this.\n"
     ]
    },
    {
     "name": "stdout",
     "output_type": "stream",
     "text": [
      "El producto demoró 1.6043784618377686 Sur VD FoodService\n",
      "tiempo que lleva corriendo 4.203610996405284 Min\n"
     ]
    },
    {
     "name": "stderr",
     "output_type": "stream",
     "text": [
      "INFO:fbprophet:Disabling daily seasonality. Run prophet with daily_seasonality=True to override this.\n"
     ]
    },
    {
     "name": "stdout",
     "output_type": "stream",
     "text": [
      "El producto demoró 1.4337315559387207 Sur VD FoodService\n",
      "tiempo que lleva corriendo 4.227523195743561 Min\n"
     ]
    },
    {
     "name": "stderr",
     "output_type": "stream",
     "text": [
      "INFO:fbprophet:Disabling daily seasonality. Run prophet with daily_seasonality=True to override this.\n"
     ]
    },
    {
     "name": "stdout",
     "output_type": "stream",
     "text": [
      "El producto demoró 1.5233089923858643 Sur VD FoodService\n",
      "tiempo que lleva corriendo 4.252928368250529 Min\n"
     ]
    },
    {
     "name": "stderr",
     "output_type": "stream",
     "text": [
      "INFO:fbprophet:Disabling daily seasonality. Run prophet with daily_seasonality=True to override this.\n"
     ]
    },
    {
     "name": "stdout",
     "output_type": "stream",
     "text": [
      "El producto demoró 1.5928685665130615 Sur VD FoodService\n",
      "tiempo que lleva corriendo 4.279492847124735 Min\n"
     ]
    },
    {
     "name": "stderr",
     "output_type": "stream",
     "text": [
      "INFO:fbprophet:Disabling daily seasonality. Run prophet with daily_seasonality=True to override this.\n"
     ]
    },
    {
     "name": "stdout",
     "output_type": "stream",
     "text": [
      "El producto demoró 1.315629482269287 Sur VD FoodService\n",
      "tiempo que lleva corriendo 4.301436690489451 Min\n"
     ]
    },
    {
     "name": "stderr",
     "output_type": "stream",
     "text": [
      "INFO:fbprophet:Disabling daily seasonality. Run prophet with daily_seasonality=True to override this.\n"
     ]
    },
    {
     "name": "stdout",
     "output_type": "stream",
     "text": [
      "El producto demoró 1.5087964534759521 Sur VD FoodService\n",
      "tiempo que lleva corriendo 4.3266083121299745 Min\n"
     ]
    },
    {
     "name": "stderr",
     "output_type": "stream",
     "text": [
      "INFO:fbprophet:Disabling daily seasonality. Run prophet with daily_seasonality=True to override this.\n"
     ]
    },
    {
     "name": "stdout",
     "output_type": "stream",
     "text": [
      "El producto demoró 1.537320852279663 Sur VD FoodService\n",
      "tiempo que lleva corriendo 4.352255348364512 Min\n"
     ]
    },
    {
     "name": "stderr",
     "output_type": "stream",
     "text": [
      "INFO:fbprophet:Disabling daily seasonality. Run prophet with daily_seasonality=True to override this.\n"
     ]
    },
    {
     "name": "stdout",
     "output_type": "stream",
     "text": [
      "El producto demoró 1.255077838897705 Sur VD FoodService\n",
      "tiempo que lleva corriendo 4.373473580678304 Min\n"
     ]
    },
    {
     "name": "stderr",
     "output_type": "stream",
     "text": [
      "INFO:fbprophet:Disabling daily seasonality. Run prophet with daily_seasonality=True to override this.\n"
     ]
    },
    {
     "name": "stdout",
     "output_type": "stream",
     "text": [
      "El producto demoró 1.4297282695770264 Sur VD FoodService\n",
      "tiempo que lleva corriendo 4.397310713926951 Min\n"
     ]
    },
    {
     "name": "stderr",
     "output_type": "stream",
     "text": [
      "INFO:fbprophet:Disabling daily seasonality. Run prophet with daily_seasonality=True to override this.\n"
     ]
    },
    {
     "name": "stdout",
     "output_type": "stream",
     "text": [
      "El producto demoró 1.5528342723846436 Sur VD FoodService\n",
      "tiempo que lleva corriendo 4.423207970460256 Min\n"
     ]
    },
    {
     "name": "stderr",
     "output_type": "stream",
     "text": [
      "INFO:fbprophet:Disabling daily seasonality. Run prophet with daily_seasonality=True to override this.\n"
     ]
    },
    {
     "name": "stdout",
     "output_type": "stream",
     "text": [
      "El producto demoró 1.5528335571289062 Sur VD FoodService\n",
      "tiempo que lleva corriendo 4.449113547801971 Min\n"
     ]
    },
    {
     "name": "stderr",
     "output_type": "stream",
     "text": [
      "INFO:fbprophet:Disabling daily seasonality. Run prophet with daily_seasonality=True to override this.\n"
     ]
    },
    {
     "name": "stdout",
     "output_type": "stream",
     "text": [
      "El producto demoró 1.5678472518920898 Sur VD FoodService\n",
      "tiempo que lleva corriendo 4.475269349416097 Min\n"
     ]
    },
    {
     "name": "stderr",
     "output_type": "stream",
     "text": [
      "INFO:fbprophet:Disabling daily seasonality. Run prophet with daily_seasonality=True to override this.\n"
     ]
    },
    {
     "name": "stdout",
     "output_type": "stream",
     "text": [
      "El producto demoró 1.325639247894287 Sur VD FoodService\n",
      "tiempo que lleva corriendo 4.497371677557627 Min\n"
     ]
    },
    {
     "name": "stderr",
     "output_type": "stream",
     "text": [
      "INFO:fbprophet:Disabling daily seasonality. Run prophet with daily_seasonality=True to override this.\n"
     ]
    },
    {
     "name": "stdout",
     "output_type": "stream",
     "text": [
      "El producto demoró 1.4617555141448975 Sur VD FoodService\n",
      "tiempo que lleva corriendo 4.52175094683965 Min\n"
     ]
    },
    {
     "name": "stderr",
     "output_type": "stream",
     "text": [
      "INFO:fbprophet:Disabling daily seasonality. Run prophet with daily_seasonality=True to override this.\n"
     ]
    },
    {
     "name": "stdout",
     "output_type": "stream",
     "text": [
      "El producto demoró 1.3386499881744385 Sur VD FoodService\n",
      "tiempo que lleva corriendo 4.544078453381856 Min\n"
     ]
    },
    {
     "name": "stderr",
     "output_type": "stream",
     "text": [
      "INFO:fbprophet:Disabling daily seasonality. Run prophet with daily_seasonality=True to override this.\n"
     ]
    },
    {
     "name": "stdout",
     "output_type": "stream",
     "text": [
      "El producto demoró 1.3791849613189697 Sur VD FoodService\n",
      "tiempo que lleva corriendo 4.567089903354645 Min\n"
     ]
    },
    {
     "name": "stderr",
     "output_type": "stream",
     "text": [
      "INFO:fbprophet:Disabling daily seasonality. Run prophet with daily_seasonality=True to override this.\n"
     ]
    },
    {
     "name": "stdout",
     "output_type": "stream",
     "text": [
      "El producto demoró 1.5408236980438232 Sur VD FoodService\n",
      "tiempo que lleva corriendo 4.592795316378275 Min\n",
      "El producto demoró 0.005003929138183594 Sur VD FoodService\n",
      "tiempo que lleva corriendo 4.592887051900228 Min\n"
     ]
    },
    {
     "name": "stderr",
     "output_type": "stream",
     "text": [
      "INFO:fbprophet:Disabling daily seasonality. Run prophet with daily_seasonality=True to override this.\n"
     ]
    },
    {
     "name": "stdout",
     "output_type": "stream",
     "text": [
      "El producto demoró 1.507795810699463 Sur VD FoodService\n",
      "tiempo que lleva corriendo 4.618042004108429 Min\n"
     ]
    },
    {
     "name": "stderr",
     "output_type": "stream",
     "text": [
      "INFO:fbprophet:Disabling daily seasonality. Run prophet with daily_seasonality=True to override this.\n"
     ]
    },
    {
     "name": "stdout",
     "output_type": "stream",
     "text": [
      "El producto demoró 1.6474153995513916 Sur VD FoodService\n",
      "tiempo que lleva corriendo 4.645507256189982 Min\n"
     ]
    },
    {
     "name": "stderr",
     "output_type": "stream",
     "text": [
      "INFO:fbprophet:Disabling daily seasonality. Run prophet with daily_seasonality=True to override this.\n"
     ]
    },
    {
     "name": "stdout",
     "output_type": "stream",
     "text": [
      "El producto demoró 3.1722252368927 Sur VD FoodService\n",
      "tiempo que lleva corriendo 4.698727973302206 Min\n"
     ]
    },
    {
     "name": "stderr",
     "output_type": "stream",
     "text": [
      "INFO:fbprophet:Disabling daily seasonality. Run prophet with daily_seasonality=True to override this.\n"
     ]
    },
    {
     "name": "stdout",
     "output_type": "stream",
     "text": [
      "El producto demoró 1.3466575145721436 Sur VD FoodService\n",
      "tiempo que lleva corriendo 4.7211972832679745 Min\n"
     ]
    },
    {
     "name": "stderr",
     "output_type": "stream",
     "text": [
      "INFO:fbprophet:Disabling daily seasonality. Run prophet with daily_seasonality=True to override this.\n"
     ]
    },
    {
     "name": "stdout",
     "output_type": "stream",
     "text": [
      "El producto demoró 1.6614277362823486 Sur VD FoodService\n",
      "tiempo que lleva corriendo 4.748912755648295 Min\n"
     ]
    },
    {
     "name": "stderr",
     "output_type": "stream",
     "text": [
      "INFO:fbprophet:Disabling daily seasonality. Run prophet with daily_seasonality=True to override this.\n"
     ]
    },
    {
     "name": "stdout",
     "output_type": "stream",
     "text": [
      "El producto demoró 1.5117995738983154 Sur VD FoodService\n",
      "tiempo que lleva corriendo 4.7741344173749285 Min\n"
     ]
    },
    {
     "name": "stderr",
     "output_type": "stream",
     "text": [
      "INFO:fbprophet:Disabling daily seasonality. Run prophet with daily_seasonality=True to override this.\n"
     ]
    },
    {
     "name": "stdout",
     "output_type": "stream",
     "text": [
      "El producto demoró 1.8916256427764893 Sur VD FoodService\n",
      "tiempo que lleva corriendo 4.805686517556508 Min\n"
     ]
    },
    {
     "name": "stderr",
     "output_type": "stream",
     "text": [
      "INFO:fbprophet:Disabling daily seasonality. Run prophet with daily_seasonality=True to override this.\n"
     ]
    },
    {
     "name": "stdout",
     "output_type": "stream",
     "text": [
      "El producto demoró 1.5648446083068848 Sur VD FoodService\n",
      "tiempo que lleva corriendo 4.831792283058166 Min\n"
     ]
    },
    {
     "name": "stderr",
     "output_type": "stream",
     "text": [
      "INFO:fbprophet:Disabling daily seasonality. Run prophet with daily_seasonality=True to override this.\n"
     ]
    },
    {
     "name": "stdout",
     "output_type": "stream",
     "text": [
      "El producto demoró 1.4642579555511475 Sur VD FoodService\n",
      "tiempo que lleva corriendo 4.856221596399943 Min\n"
     ]
    },
    {
     "name": "stderr",
     "output_type": "stream",
     "text": [
      "INFO:fbprophet:Disabling daily seasonality. Run prophet with daily_seasonality=True to override this.\n"
     ]
    },
    {
     "name": "stdout",
     "output_type": "stream",
     "text": [
      "El producto demoró 1.6123862266540527 Sur VD FoodService\n",
      "tiempo que lleva corriendo 4.883119702339172 Min\n"
     ]
    },
    {
     "name": "stderr",
     "output_type": "stream",
     "text": [
      "INFO:fbprophet:Disabling daily seasonality. Run prophet with daily_seasonality=True to override this.\n"
     ]
    },
    {
     "name": "stdout",
     "output_type": "stream",
     "text": [
      "El producto demoró 1.8666036128997803 Sur VD FoodService\n",
      "tiempo que lleva corriendo 4.914246439933777 Min\n"
     ]
    },
    {
     "name": "stderr",
     "output_type": "stream",
     "text": [
      "INFO:fbprophet:Disabling daily seasonality. Run prophet with daily_seasonality=True to override this.\n"
     ]
    },
    {
     "name": "stdout",
     "output_type": "stream",
     "text": [
      "El producto demoró 1.7014620304107666 Sur VD FoodService\n",
      "tiempo que lleva corriendo 4.942620817820231 Min\n"
     ]
    },
    {
     "name": "stderr",
     "output_type": "stream",
     "text": [
      "INFO:fbprophet:Disabling daily seasonality. Run prophet with daily_seasonality=True to override this.\n"
     ]
    },
    {
     "name": "stdout",
     "output_type": "stream",
     "text": [
      "El producto demoró 1.5468285083770752 Sur VD FoodService\n",
      "tiempo que lleva corriendo 4.9684179743131 Min\n"
     ]
    },
    {
     "name": "stderr",
     "output_type": "stream",
     "text": [
      "INFO:fbprophet:Disabling daily seasonality. Run prophet with daily_seasonality=True to override this.\n"
     ]
    },
    {
     "name": "stdout",
     "output_type": "stream",
     "text": [
      "El producto demoró 1.631401777267456 Sur VD FoodService\n",
      "tiempo que lleva corriendo 4.995624689261119 Min\n"
     ]
    },
    {
     "name": "stderr",
     "output_type": "stream",
     "text": [
      "INFO:fbprophet:Disabling daily seasonality. Run prophet with daily_seasonality=True to override this.\n"
     ]
    },
    {
     "name": "stdout",
     "output_type": "stream",
     "text": [
      "El producto demoró 1.8125576972961426 Sur VD FoodService\n",
      "tiempo que lleva corriendo 5.025858986377716 Min\n",
      "Norte\n"
     ]
    },
    {
     "name": "stderr",
     "output_type": "stream",
     "text": [
      "INFO:fbprophet:Disabling daily seasonality. Run prophet with daily_seasonality=True to override this.\n"
     ]
    },
    {
     "name": "stdout",
     "output_type": "stream",
     "text": [
      "El producto demoró 1.4602539539337158 Norte VD FoodService\n",
      "tiempo que lleva corriendo 5.0528905391693115 Min\n"
     ]
    },
    {
     "name": "stderr",
     "output_type": "stream",
     "text": [
      "INFO:fbprophet:Disabling daily seasonality. Run prophet with daily_seasonality=True to override this.\n"
     ]
    },
    {
     "name": "stdout",
     "output_type": "stream",
     "text": [
      "El producto demoró 1.5783562660217285 Norte VD FoodService\n",
      "tiempo que lleva corriendo 5.079213162263234 Min\n"
     ]
    },
    {
     "name": "stderr",
     "output_type": "stream",
     "text": [
      "INFO:fbprophet:Disabling daily seasonality. Run prophet with daily_seasonality=True to override this.\n"
     ]
    },
    {
     "name": "stdout",
     "output_type": "stream",
     "text": [
      "El producto demoró 2.417576551437378 Norte VD FoodService\n",
      "tiempo que lleva corriendo 5.119522790114085 Min\n"
     ]
    },
    {
     "name": "stderr",
     "output_type": "stream",
     "text": [
      "INFO:fbprophet:Disabling daily seasonality. Run prophet with daily_seasonality=True to override this.\n"
     ]
    },
    {
     "name": "stdout",
     "output_type": "stream",
     "text": [
      "El producto demoró 1.856093406677246 Norte VD FoodService\n",
      "tiempo que lleva corriendo 5.150482718149821 Min\n"
     ]
    },
    {
     "name": "stderr",
     "output_type": "stream",
     "text": [
      "INFO:fbprophet:Disabling daily seasonality. Run prophet with daily_seasonality=True to override this.\n"
     ]
    },
    {
     "name": "stdout",
     "output_type": "stream",
     "text": [
      "El producto demoró 1.5913665294647217 Norte VD FoodService\n",
      "tiempo que lleva corriendo 5.177022182941437 Min\n"
     ]
    },
    {
     "name": "stderr",
     "output_type": "stream",
     "text": [
      "INFO:fbprophet:Disabling daily seasonality. Run prophet with daily_seasonality=True to override this.\n"
     ]
    },
    {
     "name": "stdout",
     "output_type": "stream",
     "text": [
      "El producto demoró 1.6474158763885498 Norte VD FoodService\n",
      "tiempo que lleva corriendo 5.204504120349884 Min\n"
     ]
    },
    {
     "name": "stderr",
     "output_type": "stream",
     "text": [
      "INFO:fbprophet:Disabling daily seasonality. Run prophet with daily_seasonality=True to override this.\n"
     ]
    },
    {
     "name": "stdout",
     "output_type": "stream",
     "text": [
      "El producto demoró 1.4437406063079834 Norte VD FoodService\n",
      "tiempo que lleva corriendo 5.2285831292470295 Min\n"
     ]
    },
    {
     "name": "stderr",
     "output_type": "stream",
     "text": [
      "INFO:fbprophet:Disabling daily seasonality. Run prophet with daily_seasonality=True to override this.\n"
     ]
    },
    {
     "name": "stdout",
     "output_type": "stream",
     "text": [
      "El producto demoró 1.6163887977600098 Norte VD FoodService\n",
      "tiempo que lleva corriendo 5.2555312792460125 Min\n"
     ]
    },
    {
     "name": "stderr",
     "output_type": "stream",
     "text": [
      "INFO:fbprophet:Disabling daily seasonality. Run prophet with daily_seasonality=True to override this.\n"
     ]
    },
    {
     "name": "stdout",
     "output_type": "stream",
     "text": [
      "El producto demoró 1.7500035762786865 Norte VD FoodService\n",
      "tiempo que lleva corriendo 5.284714682896932 Min\n"
     ]
    },
    {
     "name": "stderr",
     "output_type": "stream",
     "text": [
      "INFO:fbprophet:Disabling daily seasonality. Run prophet with daily_seasonality=True to override this.\n"
     ]
    },
    {
     "name": "stdout",
     "output_type": "stream",
     "text": [
      "El producto demoró 1.5153024196624756 Norte VD FoodService\n",
      "tiempo que lleva corriendo 5.309978063901266 Min\n"
     ]
    },
    {
     "name": "stderr",
     "output_type": "stream",
     "text": [
      "INFO:fbprophet:Disabling daily seasonality. Run prophet with daily_seasonality=True to override this.\n"
     ]
    },
    {
     "name": "stdout",
     "output_type": "stream",
     "text": [
      "El producto demoró 1.7159733772277832 Norte VD FoodService\n",
      "tiempo que lleva corriendo 5.338594317436218 Min\n"
     ]
    },
    {
     "name": "stderr",
     "output_type": "stream",
     "text": [
      "INFO:fbprophet:Disabling daily seasonality. Run prophet with daily_seasonality=True to override this.\n"
     ]
    },
    {
     "name": "stdout",
     "output_type": "stream",
     "text": [
      "El producto demoró 1.8430840969085693 Norte VD FoodService\n",
      "tiempo que lleva corriendo 5.369337371985117 Min\n",
      "El producto demoró 0.008007526397705078 Norte VD FoodService\n",
      "tiempo que lleva corriendo 5.369495844841003 Min\n"
     ]
    },
    {
     "name": "stderr",
     "output_type": "stream",
     "text": [
      "INFO:fbprophet:Disabling daily seasonality. Run prophet with daily_seasonality=True to override this.\n"
     ]
    },
    {
     "name": "stdout",
     "output_type": "stream",
     "text": [
      "El producto demoró 1.2695910930633545 Norte VD FoodService\n",
      "tiempo que lleva corriendo 5.390897568066915 Min\n"
     ]
    },
    {
     "name": "stderr",
     "output_type": "stream",
     "text": [
      "INFO:fbprophet:Disabling daily seasonality. Run prophet with daily_seasonality=True to override this.\n"
     ]
    },
    {
     "name": "stdout",
     "output_type": "stream",
     "text": [
      "El producto demoró 1.6829454898834229 Norte VD FoodService\n",
      "tiempo que lleva corriendo 5.418963344891866 Min\n"
     ]
    },
    {
     "name": "stderr",
     "output_type": "stream",
     "text": [
      "INFO:fbprophet:Disabling daily seasonality. Run prophet with daily_seasonality=True to override this.\n"
     ]
    },
    {
     "name": "stdout",
     "output_type": "stream",
     "text": [
      "El producto demoró 1.5728511810302734 Norte VD FoodService\n",
      "tiempo que lleva corriendo 5.445194200674693 Min\n"
     ]
    },
    {
     "name": "stderr",
     "output_type": "stream",
     "text": [
      "INFO:fbprophet:Disabling daily seasonality. Run prophet with daily_seasonality=True to override this.\n"
     ]
    },
    {
     "name": "stdout",
     "output_type": "stream",
     "text": [
      "El producto demoró 1.4297280311584473 Norte VD FoodService\n",
      "tiempo que lleva corriendo 5.469031349817912 Min\n"
     ]
    },
    {
     "name": "stderr",
     "output_type": "stream",
     "text": [
      "INFO:fbprophet:Disabling daily seasonality. Run prophet with daily_seasonality=True to override this.\n"
     ]
    },
    {
     "name": "stdout",
     "output_type": "stream",
     "text": [
      "El producto demoró 1.3331453800201416 Norte VD FoodService\n",
      "tiempo que lleva corriendo 5.491275457541148 Min\n"
     ]
    },
    {
     "name": "stderr",
     "output_type": "stream",
     "text": [
      "INFO:fbprophet:Disabling daily seasonality. Run prophet with daily_seasonality=True to override this.\n"
     ]
    },
    {
     "name": "stdout",
     "output_type": "stream",
     "text": [
      "El producto demoró 1.5668456554412842 Norte VD FoodService\n",
      "tiempo que lleva corriendo 5.517406237125397 Min\n",
      "El producto demoró 0.0055048465728759766 Norte VD FoodService\n",
      "tiempo que lleva corriendo 5.517497984568278 Min\n"
     ]
    },
    {
     "name": "stderr",
     "output_type": "stream",
     "text": [
      "INFO:fbprophet:Disabling daily seasonality. Run prophet with daily_seasonality=True to override this.\n"
     ]
    },
    {
     "name": "stdout",
     "output_type": "stream",
     "text": [
      "El producto demoró 1.374680757522583 Norte VD FoodService\n",
      "tiempo que lleva corriendo 5.5404093305269875 Min\n"
     ]
    },
    {
     "name": "stderr",
     "output_type": "stream",
     "text": [
      "INFO:fbprophet:Disabling daily seasonality. Run prophet with daily_seasonality=True to override this.\n"
     ]
    },
    {
     "name": "stdout",
     "output_type": "stream",
     "text": [
      "El producto demoró 1.6439125537872314 Norte VD FoodService\n",
      "tiempo que lleva corriendo 5.567824546496073 Min\n",
      "El producto demoró 0.005004405975341797 Norte VD FoodService\n",
      "tiempo que lleva corriendo 5.567924638589223 Min\n"
     ]
    },
    {
     "name": "stderr",
     "output_type": "stream",
     "text": [
      "INFO:fbprophet:Disabling daily seasonality. Run prophet with daily_seasonality=True to override this.\n"
     ]
    },
    {
     "name": "stdout",
     "output_type": "stream",
     "text": [
      "El producto demoró 1.585862636566162 Norte VD FoodService\n",
      "tiempo que lleva corriendo 5.59436401128769 Min\n"
     ]
    },
    {
     "name": "stderr",
     "output_type": "stream",
     "text": [
      "INFO:fbprophet:Disabling daily seasonality. Run prophet with daily_seasonality=True to override this.\n"
     ]
    },
    {
     "name": "stdout",
     "output_type": "stream",
     "text": [
      "El producto demoró 1.5163025856018066 Norte VD FoodService\n",
      "tiempo que lleva corriendo 5.619652398427328 Min\n"
     ]
    },
    {
     "name": "stderr",
     "output_type": "stream",
     "text": [
      "INFO:fbprophet:Disabling daily seasonality. Run prophet with daily_seasonality=True to override this.\n"
     ]
    },
    {
     "name": "stdout",
     "output_type": "stream",
     "text": [
      "El producto demoró 1.644913673400879 Norte VD FoodService\n",
      "tiempo que lleva corriendo 5.647317834695181 Min\n"
     ]
    },
    {
     "name": "stderr",
     "output_type": "stream",
     "text": [
      "INFO:fbprophet:Disabling daily seasonality. Run prophet with daily_seasonality=True to override this.\n"
     ]
    },
    {
     "name": "stdout",
     "output_type": "stream",
     "text": [
      "El producto demoró 1.49428391456604 Norte VD FoodService\n",
      "tiempo que lleva corriendo 5.672247576713562 Min\n"
     ]
    },
    {
     "name": "stderr",
     "output_type": "stream",
     "text": [
      "INFO:fbprophet:Disabling daily seasonality. Run prophet with daily_seasonality=True to override this.\n"
     ]
    },
    {
     "name": "stdout",
     "output_type": "stream",
     "text": [
      "El producto demoró 1.7189769744873047 Norte VD FoodService\n",
      "tiempo que lleva corriendo 5.700913874308268 Min\n"
     ]
    },
    {
     "name": "stderr",
     "output_type": "stream",
     "text": [
      "INFO:fbprophet:Disabling daily seasonality. Run prophet with daily_seasonality=True to override this.\n"
     ]
    },
    {
     "name": "stdout",
     "output_type": "stream",
     "text": [
      "El producto demoró 1.5723514556884766 Norte VD FoodService\n",
      "tiempo que lleva corriendo 5.727144738038381 Min\n"
     ]
    },
    {
     "name": "stderr",
     "output_type": "stream",
     "text": [
      "INFO:fbprophet:Disabling daily seasonality. Run prophet with daily_seasonality=True to override this.\n"
     ]
    },
    {
     "name": "stdout",
     "output_type": "stream",
     "text": [
      "El producto demoró 1.7955429553985596 Norte VD FoodService\n",
      "tiempo que lleva corriendo 5.75707878669103 Min\n"
     ]
    },
    {
     "name": "stderr",
     "output_type": "stream",
     "text": [
      "INFO:fbprophet:Disabling daily seasonality. Run prophet with daily_seasonality=True to override this.\n"
     ]
    },
    {
     "name": "stdout",
     "output_type": "stream",
     "text": [
      "El producto demoró 1.2816014289855957 Norte VD FoodService\n",
      "tiempo que lleva corriendo 5.778447143236796 Min\n"
     ]
    },
    {
     "name": "stderr",
     "output_type": "stream",
     "text": [
      "INFO:fbprophet:Disabling daily seasonality. Run prophet with daily_seasonality=True to override this.\n"
     ]
    },
    {
     "name": "stdout",
     "output_type": "stream",
     "text": [
      "El producto demoró 1.5478296279907227 Norte VD FoodService\n",
      "tiempo que lleva corriendo 5.804252640406291 Min\n"
     ]
    },
    {
     "name": "stderr",
     "output_type": "stream",
     "text": [
      "INFO:fbprophet:Disabling daily seasonality. Run prophet with daily_seasonality=True to override this.\n"
     ]
    },
    {
     "name": "stdout",
     "output_type": "stream",
     "text": [
      "El producto demoró 1.7314872741699219 Norte VD FoodService\n",
      "tiempo que lleva corriendo 5.833119106292725 Min\n"
     ]
    },
    {
     "name": "stderr",
     "output_type": "stream",
     "text": [
      "INFO:fbprophet:Disabling daily seasonality. Run prophet with daily_seasonality=True to override this.\n"
     ]
    },
    {
     "name": "stdout",
     "output_type": "stream",
     "text": [
      "El producto demoró 1.8706064224243164 Norte VD FoodService\n",
      "tiempo que lleva corriendo 5.864320909976959 Min\n"
     ]
    },
    {
     "name": "stderr",
     "output_type": "stream",
     "text": [
      "INFO:fbprophet:Disabling daily seasonality. Run prophet with daily_seasonality=True to override this.\n"
     ]
    },
    {
     "name": "stdout",
     "output_type": "stream",
     "text": [
      "El producto demoró 1.6784422397613525 Norte VD FoodService\n",
      "tiempo que lleva corriendo 5.892319969336191 Min\n"
     ]
    },
    {
     "name": "stderr",
     "output_type": "stream",
     "text": [
      "INFO:fbprophet:Disabling daily seasonality. Run prophet with daily_seasonality=True to override this.\n"
     ]
    },
    {
     "name": "stdout",
     "output_type": "stream",
     "text": [
      "El producto demoró 2.053764581680298 Norte VD FoodService\n",
      "tiempo que lleva corriendo 5.926574385166168 Min\n"
     ]
    },
    {
     "name": "stderr",
     "output_type": "stream",
     "text": [
      "INFO:fbprophet:Disabling daily seasonality. Run prophet with daily_seasonality=True to override this.\n"
     ]
    },
    {
     "name": "stdout",
     "output_type": "stream",
     "text": [
      "El producto demoró 1.4752676486968994 Norte VD FoodService\n",
      "tiempo que lleva corriendo 5.951178856690725 Min\n",
      "Venta Directa\n",
      "El producto demoró 0.003503084182739258 Venta Directa VD FoodService\n",
      "tiempo que lleva corriendo 5.953597605228424 Min\n"
     ]
    },
    {
     "name": "stderr",
     "output_type": "stream",
     "text": [
      "INFO:fbprophet:Disabling daily seasonality. Run prophet with daily_seasonality=True to override this.\n"
     ]
    },
    {
     "name": "stdout",
     "output_type": "stream",
     "text": [
      "El producto demoró 1.4302287101745605 Venta Directa VD FoodService\n",
      "tiempo que lleva corriendo 5.977451435724894 Min\n",
      "El producto demoró 0.0035033226013183594 Venta Directa VD FoodService\n",
      "tiempo que lleva corriendo 5.977534826596578 Min\n",
      "El producto demoró 1.3941981792449951 Venta Directa VD FoodService\n",
      "tiempo que lleva corriendo 6.000788136323293 Min\n",
      "tiempo bloque completo 6.000796484947204 Min\n"
     ]
    }
   ],
   "source": [
    "df2 = pd.DataFrame(columns=['ds', 'yhat_lower', 'yhat_upper', 'yhat', 'Material','Oficina de Ventas Unifica', 'Zona de ventas.1'])\n",
    "\n",
    "Listado_de_zonas=data['Zona de ventas.1'].unique()\n",
    "\n",
    "start_time = time()\n",
    "\n",
    "\n",
    "\n",
    "for Z in Listado_de_zonas:\n",
    "#Z='Santiago'\n",
    "    print(Z)\n",
    "    dfz=Df_ubic(data,'Zona de ventas.1',Z)\n",
    "\n",
    "    Listado_de_Canales=dfz[dfz['Día natural'] \n",
    "                              >datetime.date(2021, 6, 2)][\n",
    "        'Tipo de cliente'].unique()\n",
    "    \n",
    "    \n",
    "    for c in Listado_de_Canales:\n",
    "        dfc=Df_ubic(dfz,'Tipo de cliente',c)\n",
    "\n",
    "        #Crear un listado de los materiales disponibles en la data\n",
    "        Listado_de_Materiales=dfc[dfc.Año==2021].Material.unique()     \n",
    "\n",
    "\n",
    "        for m in Listado_de_Materiales:\n",
    "            #m=Listado_de_Materiales[0]\n",
    "            material_time=time()\n",
    "            #print(y,m)\n",
    "\n",
    "\n",
    "            dfm=Df_ubic(dfc,\n",
    "                        'Material',m).groupby('Día natural'\n",
    "                                                 ).sum().reset_index()[['Día natural',y_col]]\n",
    "            if(dfm[\n",
    "                    dfm['Día natural']>datetime.date(2021, 1, 2)\n",
    "                        ].shape[0] >20):\n",
    "                dfmPred=Predict_sem(dfm,8)[['ds', 'yhat_lower',\n",
    "                                            'yhat_upper', 'yhat']].tail(8)\n",
    "                #Material\n",
    "                dfmPred['Material']=[m for i in range(dfmPred.shape[0])]\n",
    "                #Canal de ventas\n",
    "                dfmPred['Tipo de cliente']=[c for i in range(dfmPred.shape[0])]\n",
    "\n",
    "                #Sucursal\n",
    "                #dfmPred['Oficina de Ventas Unifica']=[y for i in range(dfmPred.shape[0])]\n",
    "\n",
    "                #Zona\n",
    "                dfmPred['Zona de ventas.1']=[Z for i in range(dfmPred.shape[0])]\n",
    "\n",
    "                dfmPred=dfmPred.reset_index()\n",
    "                dfmPred.pop('index')\n",
    "                df2=pd.concat([df2, dfmPred])\n",
    "            print('El producto demoró',(time() - material_time),Z,y)\n",
    "            print('tiempo que lleva corriendo',(time() - start_time)/60, 'Min')\n",
    "\n",
    "print('tiempo bloque completo',(time() - start_time)/60, 'Min')\n"
   ]
  },
  {
   "cell_type": "markdown",
   "id": "7428bb51",
   "metadata": {
    "hidden": true
   },
   "source": [
    "### CSV SAVE "
   ]
  },
  {
   "cell_type": "code",
   "execution_count": 109,
   "id": "3e0ca6c8",
   "metadata": {
    "hidden": true
   },
   "outputs": [],
   "source": [
    "df2.rename(columns = {'ds': 'Día natural', 'yhat': 'Predicción central',\n",
    "                                'yhat_upper': 'Predicción Superior',\n",
    "                                'yhat_lower': 'Predicción Inferior'}, inplace = True)"
   ]
  },
  {
   "cell_type": "code",
   "execution_count": 110,
   "id": "a909d0d8",
   "metadata": {
    "hidden": true,
    "scrolled": true
   },
   "outputs": [
    {
     "name": "stdout",
     "output_type": "stream",
     "text": [
      "2021-06-05\n",
      "2021-06-27\n"
     ]
    }
   ],
   "source": [
    "min_time=df2['Día natural'].min()\n",
    "min_time=str(min_time).split(' ')[0]\n",
    "print(min_time)\n",
    "max_time=df2['Día natural'].max()\n",
    "max_time=str(max_time).split(' ')[0]\n",
    "print(max_time)"
   ]
  },
  {
   "cell_type": "code",
   "execution_count": 111,
   "id": "662c1d0c",
   "metadata": {
    "hidden": true,
    "scrolled": true
   },
   "outputs": [],
   "source": [
    "df3=Limit_fecha(df2,AÑO,MES,DIA_INIC,DIA_FIN)"
   ]
  },
  {
   "cell_type": "code",
   "execution_count": 112,
   "id": "b2d6efd7",
   "metadata": {
    "hidden": true
   },
   "outputs": [
    {
     "name": "stdout",
     "output_type": "stream",
     "text": [
      "2021-06-22\n",
      "2021-06-26\n"
     ]
    }
   ],
   "source": [
    "\n",
    "min_time=df3['Día natural'].min()\n",
    "min_time=str(min_time).split(' ')[0]\n",
    "print(min_time)\n",
    "max_time=df3['Día natural'].max()\n",
    "max_time=str(max_time).split(' ')[0]\n",
    "print(max_time)"
   ]
  },
  {
   "cell_type": "code",
   "execution_count": 113,
   "id": "ac64d2be",
   "metadata": {
    "hidden": true
   },
   "outputs": [],
   "source": [
    "df3.to_csv('Data'+min_time+' Predicción Por CANAL ' +max_time+ 'Zona.csv', index=False)\n"
   ]
  },
  {
   "cell_type": "markdown",
   "id": "64bfc3a5",
   "metadata": {},
   "source": [
    "# DEmanda"
   ]
  },
  {
   "cell_type": "markdown",
   "id": "5b623121",
   "metadata": {},
   "source": [
    "## Leer csv de predicciones "
   ]
  },
  {
   "cell_type": "code",
   "execution_count": 41,
   "id": "db4bffdf",
   "metadata": {
    "scrolled": true
   },
   "outputs": [
    {
     "data": {
      "text/html": [
       "<div>\n",
       "<style scoped>\n",
       "    .dataframe tbody tr th:only-of-type {\n",
       "        vertical-align: middle;\n",
       "    }\n",
       "\n",
       "    .dataframe tbody tr th {\n",
       "        vertical-align: top;\n",
       "    }\n",
       "\n",
       "    .dataframe thead th {\n",
       "        text-align: right;\n",
       "    }\n",
       "</style>\n",
       "<table border=\"1\" class=\"dataframe\">\n",
       "  <thead>\n",
       "    <tr style=\"text-align: right;\">\n",
       "      <th></th>\n",
       "      <th>Día natural</th>\n",
       "      <th>Predicción Inferior</th>\n",
       "      <th>Predicción Superior</th>\n",
       "      <th>Predicción central</th>\n",
       "      <th>Material</th>\n",
       "      <th>Oficina de Ventas Unifica</th>\n",
       "      <th>Zona de ventas.1</th>\n",
       "      <th>Tipo de cliente</th>\n",
       "      <th>Semana</th>\n",
       "    </tr>\n",
       "  </thead>\n",
       "  <tbody>\n",
       "    <tr>\n",
       "      <th>0</th>\n",
       "      <td>2021-06-22</td>\n",
       "      <td>1202.023479</td>\n",
       "      <td>4410.220325</td>\n",
       "      <td>2802.76512</td>\n",
       "      <td>1020253</td>\n",
       "      <td>NaN</td>\n",
       "      <td>Santiago</td>\n",
       "      <td>Tradicional</td>\n",
       "      <td>25</td>\n",
       "    </tr>\n",
       "  </tbody>\n",
       "</table>\n",
       "</div>"
      ],
      "text/plain": [
       "  Día natural  Predicción Inferior  Predicción Superior  Predicción central  \\\n",
       "0  2021-06-22          1202.023479          4410.220325          2802.76512   \n",
       "\n",
       "  Material Oficina de Ventas Unifica Zona de ventas.1 Tipo de cliente  Semana  \n",
       "0  1020253                       NaN         Santiago     Tradicional      25  "
      ]
     },
     "execution_count": 41,
     "metadata": {},
     "output_type": "execute_result"
    }
   ],
   "source": [
    "\n",
    "# Data2021-06-22 Predicción Por CANAL 2021-06-26Zona\n",
    "Fecha_in='2021-06-22'\n",
    "Fecha_fin='2021-06-26'\n",
    "# =============================================================================\n",
    "# Ajuste de los datos\n",
    "# =============================================================================\n",
    "File_name='Data'+Fecha_in+' Predicción Por CANAL '+Fecha_fin+'Zona'\n",
    "col_names=pd.read_csv(File_name+\".csv\",\n",
    "                    encoding=\"utf-8\",sep=\",\",nrows=0).columns\n",
    "types_dict = {col: str for col in col_names}\n",
    "\n",
    "Data = pd.read_csv(File_name+\".csv\",\n",
    "                   encoding=\"utf-8\",sep=\",\",dtype=types_dict)\n",
    "\n",
    "Data[\"Día natural\"] = Data[\"Día natural\"].apply(lambda x: \n",
    "                                                datetime.datetime.strptime(x,\n",
    "                                                                           '%Y-%m-%d').date())\n",
    "\n",
    "Data[\"Semana\"] = Data[\"Día natural\"].apply(lambda x: x.isocalendar()[1] )\n",
    "\n",
    "Data[['Predicción Inferior', 'Predicción Superior',\n",
    "       'Predicción central']] = Data[['Predicción Inferior', 'Predicción Superior',\n",
    "       'Predicción central']].astype('float64')\n",
    "\n",
    "Data.head(1)"
   ]
  },
  {
   "cell_type": "markdown",
   "id": "08cfc156",
   "metadata": {},
   "source": [
    "## Guardado CSV"
   ]
  },
  {
   "cell_type": "code",
   "execution_count": 40,
   "id": "82a63d29",
   "metadata": {},
   "outputs": [],
   "source": [
    "#Error_DF_Sum.to_csv('E_interv_Dem.csv', index=False)\n",
    "Data.to_csv(File_name+'.csv', index=False)"
   ]
  },
  {
   "cell_type": "markdown",
   "id": "86a79556",
   "metadata": {},
   "source": [
    "## Exploración "
   ]
  },
  {
   "cell_type": "code",
   "execution_count": 31,
   "id": "2e2ce135",
   "metadata": {
    "collapsed": true
   },
   "outputs": [
    {
     "data": {
      "text/html": [
       "<div>\n",
       "<style scoped>\n",
       "    .dataframe tbody tr th:only-of-type {\n",
       "        vertical-align: middle;\n",
       "    }\n",
       "\n",
       "    .dataframe tbody tr th {\n",
       "        vertical-align: top;\n",
       "    }\n",
       "\n",
       "    .dataframe thead th {\n",
       "        text-align: right;\n",
       "    }\n",
       "</style>\n",
       "<table border=\"1\" class=\"dataframe\">\n",
       "  <thead>\n",
       "    <tr style=\"text-align: right;\">\n",
       "      <th></th>\n",
       "      <th></th>\n",
       "      <th>Predicción Inferior</th>\n",
       "      <th>Predicción Superior</th>\n",
       "      <th>Predicción central</th>\n",
       "    </tr>\n",
       "    <tr>\n",
       "      <th>Material</th>\n",
       "      <th>Zona de ventas.1</th>\n",
       "      <th></th>\n",
       "      <th></th>\n",
       "      <th></th>\n",
       "    </tr>\n",
       "  </thead>\n",
       "  <tbody>\n",
       "    <tr>\n",
       "      <th rowspan=\"5\" valign=\"top\">1010002</th>\n",
       "      <th>Centro Norte</th>\n",
       "      <td>13721.314970</td>\n",
       "      <td>45205.247113</td>\n",
       "      <td>29330.356853</td>\n",
       "    </tr>\n",
       "    <tr>\n",
       "      <th>Centro Sur</th>\n",
       "      <td>10342.548827</td>\n",
       "      <td>43934.718314</td>\n",
       "      <td>27100.763345</td>\n",
       "    </tr>\n",
       "    <tr>\n",
       "      <th>Norte</th>\n",
       "      <td>17656.838345</td>\n",
       "      <td>46002.891621</td>\n",
       "      <td>31678.746056</td>\n",
       "    </tr>\n",
       "    <tr>\n",
       "      <th>Santiago</th>\n",
       "      <td>52477.354033</td>\n",
       "      <td>125286.792637</td>\n",
       "      <td>88992.227492</td>\n",
       "    </tr>\n",
       "    <tr>\n",
       "      <th>Sur</th>\n",
       "      <td>9175.531692</td>\n",
       "      <td>31108.445045</td>\n",
       "      <td>20098.355810</td>\n",
       "    </tr>\n",
       "    <tr>\n",
       "      <th>...</th>\n",
       "      <th>...</th>\n",
       "      <td>...</td>\n",
       "      <td>...</td>\n",
       "      <td>...</td>\n",
       "    </tr>\n",
       "    <tr>\n",
       "      <th rowspan=\"5\" valign=\"top\">1020253</th>\n",
       "      <th>Centro Norte</th>\n",
       "      <td>9289.863752</td>\n",
       "      <td>26120.823132</td>\n",
       "      <td>17672.857753</td>\n",
       "    </tr>\n",
       "    <tr>\n",
       "      <th>Centro Sur</th>\n",
       "      <td>13222.486321</td>\n",
       "      <td>38316.711213</td>\n",
       "      <td>25835.783855</td>\n",
       "    </tr>\n",
       "    <tr>\n",
       "      <th>Norte</th>\n",
       "      <td>-11.561616</td>\n",
       "      <td>4463.980078</td>\n",
       "      <td>2252.192391</td>\n",
       "    </tr>\n",
       "    <tr>\n",
       "      <th>Santiago</th>\n",
       "      <td>4409.440987</td>\n",
       "      <td>34780.894096</td>\n",
       "      <td>19730.883416</td>\n",
       "    </tr>\n",
       "    <tr>\n",
       "      <th>Sur</th>\n",
       "      <td>5258.088594</td>\n",
       "      <td>20286.014656</td>\n",
       "      <td>12808.802746</td>\n",
       "    </tr>\n",
       "  </tbody>\n",
       "</table>\n",
       "<p>65 rows × 3 columns</p>\n",
       "</div>"
      ],
      "text/plain": [
       "                           Predicción Inferior  Predicción Superior  \\\n",
       "Material Zona de ventas.1                                             \n",
       "1010002  Centro Norte             13721.314970         45205.247113   \n",
       "         Centro Sur               10342.548827         43934.718314   \n",
       "         Norte                    17656.838345         46002.891621   \n",
       "         Santiago                 52477.354033        125286.792637   \n",
       "         Sur                       9175.531692         31108.445045   \n",
       "...                                        ...                  ...   \n",
       "1020253  Centro Norte              9289.863752         26120.823132   \n",
       "         Centro Sur               13222.486321         38316.711213   \n",
       "         Norte                      -11.561616          4463.980078   \n",
       "         Santiago                  4409.440987         34780.894096   \n",
       "         Sur                       5258.088594         20286.014656   \n",
       "\n",
       "                           Predicción central  \n",
       "Material Zona de ventas.1                      \n",
       "1010002  Centro Norte            29330.356853  \n",
       "         Centro Sur              27100.763345  \n",
       "         Norte                   31678.746056  \n",
       "         Santiago                88992.227492  \n",
       "         Sur                     20098.355810  \n",
       "...                                       ...  \n",
       "1020253  Centro Norte            17672.857753  \n",
       "         Centro Sur              25835.783855  \n",
       "         Norte                    2252.192391  \n",
       "         Santiago                19730.883416  \n",
       "         Sur                     12808.802746  \n",
       "\n",
       "[65 rows x 3 columns]"
      ]
     },
     "execution_count": 31,
     "metadata": {},
     "output_type": "execute_result"
    }
   ],
   "source": [
    "Data.groupby(['Material','Zona de ventas.1']).sum()"
   ]
  },
  {
   "cell_type": "code",
   "execution_count": 37,
   "id": "a32dc763",
   "metadata": {},
   "outputs": [
    {
     "data": {
      "text/plain": [
       "datetime.date(2021, 6, 22)"
      ]
     },
     "execution_count": 37,
     "metadata": {},
     "output_type": "execute_result"
    }
   ],
   "source": [
    "Data['Día natural'].min()#.isocalendar()[1]"
   ]
  },
  {
   "cell_type": "code",
   "execution_count": 38,
   "id": "95cd468b",
   "metadata": {
    "scrolled": true
   },
   "outputs": [
    {
     "data": {
      "text/plain": [
       "53"
      ]
     },
     "execution_count": 38,
     "metadata": {},
     "output_type": "execute_result"
    }
   ],
   "source": [
    "datetime.date(2021, 1, 1).isocalendar()[1]"
   ]
  },
  {
   "cell_type": "markdown",
   "id": "b018bdff",
   "metadata": {},
   "source": [
    "## Leer csv  "
   ]
  },
  {
   "cell_type": "code",
   "execution_count": 42,
   "id": "50ab6c9c",
   "metadata": {
    "scrolled": true
   },
   "outputs": [
    {
     "ename": "FileNotFoundError",
     "evalue": "[Errno 2] No such file or directory: 'Data2021-06-14 Predicción Por CANAL 2021-06-19Zona.csv'",
     "output_type": "error",
     "traceback": [
      "\u001b[1;31m---------------------------------------------------------------------------\u001b[0m",
      "\u001b[1;31mFileNotFoundError\u001b[0m                         Traceback (most recent call last)",
      "\u001b[1;32m<ipython-input-42-53148e2c6d85>\u001b[0m in \u001b[0;36m<module>\u001b[1;34m\u001b[0m\n\u001b[0;32m      6\u001b[0m \u001b[1;31m# =============================================================================\u001b[0m\u001b[1;33m\u001b[0m\u001b[1;33m\u001b[0m\u001b[1;33m\u001b[0m\u001b[0m\n\u001b[0;32m      7\u001b[0m \u001b[0mFile_name\u001b[0m\u001b[1;33m=\u001b[0m\u001b[1;34m'Data'\u001b[0m\u001b[1;33m+\u001b[0m\u001b[0mFecha_in\u001b[0m\u001b[1;33m+\u001b[0m\u001b[1;34m' Predicción Por CANAL '\u001b[0m\u001b[1;33m+\u001b[0m\u001b[0mFecha_fin\u001b[0m\u001b[1;33m+\u001b[0m\u001b[1;34m'Zona'\u001b[0m\u001b[1;33m\u001b[0m\u001b[1;33m\u001b[0m\u001b[0m\n\u001b[1;32m----> 8\u001b[1;33m col_names=pd.read_csv(File_name+\".csv\",\n\u001b[0m\u001b[0;32m      9\u001b[0m                     encoding=\"utf-8\",sep=\",\",nrows=0).columns\n\u001b[0;32m     10\u001b[0m \u001b[0mtypes_dict\u001b[0m \u001b[1;33m=\u001b[0m \u001b[1;33m{\u001b[0m\u001b[0mcol\u001b[0m\u001b[1;33m:\u001b[0m \u001b[0mstr\u001b[0m \u001b[1;32mfor\u001b[0m \u001b[0mcol\u001b[0m \u001b[1;32min\u001b[0m \u001b[0mcol_names\u001b[0m\u001b[1;33m}\u001b[0m\u001b[1;33m\u001b[0m\u001b[1;33m\u001b[0m\u001b[0m\n",
      "\u001b[1;32m~\\anaconda3\\envs\\Prophet\\lib\\site-packages\\pandas\\io\\parsers.py\u001b[0m in \u001b[0;36mread_csv\u001b[1;34m(filepath_or_buffer, sep, delimiter, header, names, index_col, usecols, squeeze, prefix, mangle_dupe_cols, dtype, engine, converters, true_values, false_values, skipinitialspace, skiprows, skipfooter, nrows, na_values, keep_default_na, na_filter, verbose, skip_blank_lines, parse_dates, infer_datetime_format, keep_date_col, date_parser, dayfirst, cache_dates, iterator, chunksize, compression, thousands, decimal, lineterminator, quotechar, quoting, doublequote, escapechar, comment, encoding, dialect, error_bad_lines, warn_bad_lines, delim_whitespace, low_memory, memory_map, float_precision, storage_options)\u001b[0m\n\u001b[0;32m    608\u001b[0m     \u001b[0mkwds\u001b[0m\u001b[1;33m.\u001b[0m\u001b[0mupdate\u001b[0m\u001b[1;33m(\u001b[0m\u001b[0mkwds_defaults\u001b[0m\u001b[1;33m)\u001b[0m\u001b[1;33m\u001b[0m\u001b[1;33m\u001b[0m\u001b[0m\n\u001b[0;32m    609\u001b[0m \u001b[1;33m\u001b[0m\u001b[0m\n\u001b[1;32m--> 610\u001b[1;33m     \u001b[1;32mreturn\u001b[0m \u001b[0m_read\u001b[0m\u001b[1;33m(\u001b[0m\u001b[0mfilepath_or_buffer\u001b[0m\u001b[1;33m,\u001b[0m \u001b[0mkwds\u001b[0m\u001b[1;33m)\u001b[0m\u001b[1;33m\u001b[0m\u001b[1;33m\u001b[0m\u001b[0m\n\u001b[0m\u001b[0;32m    611\u001b[0m \u001b[1;33m\u001b[0m\u001b[0m\n\u001b[0;32m    612\u001b[0m \u001b[1;33m\u001b[0m\u001b[0m\n",
      "\u001b[1;32m~\\anaconda3\\envs\\Prophet\\lib\\site-packages\\pandas\\io\\parsers.py\u001b[0m in \u001b[0;36m_read\u001b[1;34m(filepath_or_buffer, kwds)\u001b[0m\n\u001b[0;32m    460\u001b[0m \u001b[1;33m\u001b[0m\u001b[0m\n\u001b[0;32m    461\u001b[0m     \u001b[1;31m# Create the parser.\u001b[0m\u001b[1;33m\u001b[0m\u001b[1;33m\u001b[0m\u001b[1;33m\u001b[0m\u001b[0m\n\u001b[1;32m--> 462\u001b[1;33m     \u001b[0mparser\u001b[0m \u001b[1;33m=\u001b[0m \u001b[0mTextFileReader\u001b[0m\u001b[1;33m(\u001b[0m\u001b[0mfilepath_or_buffer\u001b[0m\u001b[1;33m,\u001b[0m \u001b[1;33m**\u001b[0m\u001b[0mkwds\u001b[0m\u001b[1;33m)\u001b[0m\u001b[1;33m\u001b[0m\u001b[1;33m\u001b[0m\u001b[0m\n\u001b[0m\u001b[0;32m    463\u001b[0m \u001b[1;33m\u001b[0m\u001b[0m\n\u001b[0;32m    464\u001b[0m     \u001b[1;32mif\u001b[0m \u001b[0mchunksize\u001b[0m \u001b[1;32mor\u001b[0m \u001b[0miterator\u001b[0m\u001b[1;33m:\u001b[0m\u001b[1;33m\u001b[0m\u001b[1;33m\u001b[0m\u001b[0m\n",
      "\u001b[1;32m~\\anaconda3\\envs\\Prophet\\lib\\site-packages\\pandas\\io\\parsers.py\u001b[0m in \u001b[0;36m__init__\u001b[1;34m(self, f, engine, **kwds)\u001b[0m\n\u001b[0;32m    817\u001b[0m             \u001b[0mself\u001b[0m\u001b[1;33m.\u001b[0m\u001b[0moptions\u001b[0m\u001b[1;33m[\u001b[0m\u001b[1;34m\"has_index_names\"\u001b[0m\u001b[1;33m]\u001b[0m \u001b[1;33m=\u001b[0m \u001b[0mkwds\u001b[0m\u001b[1;33m[\u001b[0m\u001b[1;34m\"has_index_names\"\u001b[0m\u001b[1;33m]\u001b[0m\u001b[1;33m\u001b[0m\u001b[1;33m\u001b[0m\u001b[0m\n\u001b[0;32m    818\u001b[0m \u001b[1;33m\u001b[0m\u001b[0m\n\u001b[1;32m--> 819\u001b[1;33m         \u001b[0mself\u001b[0m\u001b[1;33m.\u001b[0m\u001b[0m_engine\u001b[0m \u001b[1;33m=\u001b[0m \u001b[0mself\u001b[0m\u001b[1;33m.\u001b[0m\u001b[0m_make_engine\u001b[0m\u001b[1;33m(\u001b[0m\u001b[0mself\u001b[0m\u001b[1;33m.\u001b[0m\u001b[0mengine\u001b[0m\u001b[1;33m)\u001b[0m\u001b[1;33m\u001b[0m\u001b[1;33m\u001b[0m\u001b[0m\n\u001b[0m\u001b[0;32m    820\u001b[0m \u001b[1;33m\u001b[0m\u001b[0m\n\u001b[0;32m    821\u001b[0m     \u001b[1;32mdef\u001b[0m \u001b[0mclose\u001b[0m\u001b[1;33m(\u001b[0m\u001b[0mself\u001b[0m\u001b[1;33m)\u001b[0m\u001b[1;33m:\u001b[0m\u001b[1;33m\u001b[0m\u001b[1;33m\u001b[0m\u001b[0m\n",
      "\u001b[1;32m~\\anaconda3\\envs\\Prophet\\lib\\site-packages\\pandas\\io\\parsers.py\u001b[0m in \u001b[0;36m_make_engine\u001b[1;34m(self, engine)\u001b[0m\n\u001b[0;32m   1048\u001b[0m             )\n\u001b[0;32m   1049\u001b[0m         \u001b[1;31m# error: Too many arguments for \"ParserBase\"\u001b[0m\u001b[1;33m\u001b[0m\u001b[1;33m\u001b[0m\u001b[1;33m\u001b[0m\u001b[0m\n\u001b[1;32m-> 1050\u001b[1;33m         \u001b[1;32mreturn\u001b[0m \u001b[0mmapping\u001b[0m\u001b[1;33m[\u001b[0m\u001b[0mengine\u001b[0m\u001b[1;33m]\u001b[0m\u001b[1;33m(\u001b[0m\u001b[0mself\u001b[0m\u001b[1;33m.\u001b[0m\u001b[0mf\u001b[0m\u001b[1;33m,\u001b[0m \u001b[1;33m**\u001b[0m\u001b[0mself\u001b[0m\u001b[1;33m.\u001b[0m\u001b[0moptions\u001b[0m\u001b[1;33m)\u001b[0m  \u001b[1;31m# type: ignore[call-arg]\u001b[0m\u001b[1;33m\u001b[0m\u001b[1;33m\u001b[0m\u001b[0m\n\u001b[0m\u001b[0;32m   1051\u001b[0m \u001b[1;33m\u001b[0m\u001b[0m\n\u001b[0;32m   1052\u001b[0m     \u001b[1;32mdef\u001b[0m \u001b[0m_failover_to_python\u001b[0m\u001b[1;33m(\u001b[0m\u001b[0mself\u001b[0m\u001b[1;33m)\u001b[0m\u001b[1;33m:\u001b[0m\u001b[1;33m\u001b[0m\u001b[1;33m\u001b[0m\u001b[0m\n",
      "\u001b[1;32m~\\anaconda3\\envs\\Prophet\\lib\\site-packages\\pandas\\io\\parsers.py\u001b[0m in \u001b[0;36m__init__\u001b[1;34m(self, src, **kwds)\u001b[0m\n\u001b[0;32m   1865\u001b[0m \u001b[1;33m\u001b[0m\u001b[0m\n\u001b[0;32m   1866\u001b[0m         \u001b[1;31m# open handles\u001b[0m\u001b[1;33m\u001b[0m\u001b[1;33m\u001b[0m\u001b[1;33m\u001b[0m\u001b[0m\n\u001b[1;32m-> 1867\u001b[1;33m         \u001b[0mself\u001b[0m\u001b[1;33m.\u001b[0m\u001b[0m_open_handles\u001b[0m\u001b[1;33m(\u001b[0m\u001b[0msrc\u001b[0m\u001b[1;33m,\u001b[0m \u001b[0mkwds\u001b[0m\u001b[1;33m)\u001b[0m\u001b[1;33m\u001b[0m\u001b[1;33m\u001b[0m\u001b[0m\n\u001b[0m\u001b[0;32m   1868\u001b[0m         \u001b[1;32massert\u001b[0m \u001b[0mself\u001b[0m\u001b[1;33m.\u001b[0m\u001b[0mhandles\u001b[0m \u001b[1;32mis\u001b[0m \u001b[1;32mnot\u001b[0m \u001b[1;32mNone\u001b[0m\u001b[1;33m\u001b[0m\u001b[1;33m\u001b[0m\u001b[0m\n\u001b[0;32m   1869\u001b[0m         \u001b[1;32mfor\u001b[0m \u001b[0mkey\u001b[0m \u001b[1;32min\u001b[0m \u001b[1;33m(\u001b[0m\u001b[1;34m\"storage_options\"\u001b[0m\u001b[1;33m,\u001b[0m \u001b[1;34m\"encoding\"\u001b[0m\u001b[1;33m,\u001b[0m \u001b[1;34m\"memory_map\"\u001b[0m\u001b[1;33m,\u001b[0m \u001b[1;34m\"compression\"\u001b[0m\u001b[1;33m)\u001b[0m\u001b[1;33m:\u001b[0m\u001b[1;33m\u001b[0m\u001b[1;33m\u001b[0m\u001b[0m\n",
      "\u001b[1;32m~\\anaconda3\\envs\\Prophet\\lib\\site-packages\\pandas\\io\\parsers.py\u001b[0m in \u001b[0;36m_open_handles\u001b[1;34m(self, src, kwds)\u001b[0m\n\u001b[0;32m   1360\u001b[0m         \u001b[0mLet\u001b[0m \u001b[0mthe\u001b[0m \u001b[0mreaders\u001b[0m \u001b[0mopen\u001b[0m \u001b[0mIOHanldes\u001b[0m \u001b[0mafter\u001b[0m \u001b[0mthey\u001b[0m \u001b[0mare\u001b[0m \u001b[0mdone\u001b[0m \u001b[1;32mwith\u001b[0m \u001b[0mtheir\u001b[0m \u001b[0mpotential\u001b[0m \u001b[0mraises\u001b[0m\u001b[1;33m.\u001b[0m\u001b[1;33m\u001b[0m\u001b[1;33m\u001b[0m\u001b[0m\n\u001b[0;32m   1361\u001b[0m         \"\"\"\n\u001b[1;32m-> 1362\u001b[1;33m         self.handles = get_handle(\n\u001b[0m\u001b[0;32m   1363\u001b[0m             \u001b[0msrc\u001b[0m\u001b[1;33m,\u001b[0m\u001b[1;33m\u001b[0m\u001b[1;33m\u001b[0m\u001b[0m\n\u001b[0;32m   1364\u001b[0m             \u001b[1;34m\"r\"\u001b[0m\u001b[1;33m,\u001b[0m\u001b[1;33m\u001b[0m\u001b[1;33m\u001b[0m\u001b[0m\n",
      "\u001b[1;32m~\\anaconda3\\envs\\Prophet\\lib\\site-packages\\pandas\\io\\common.py\u001b[0m in \u001b[0;36mget_handle\u001b[1;34m(path_or_buf, mode, encoding, compression, memory_map, is_text, errors, storage_options)\u001b[0m\n\u001b[0;32m    640\u001b[0m                 \u001b[0merrors\u001b[0m \u001b[1;33m=\u001b[0m \u001b[1;34m\"replace\"\u001b[0m\u001b[1;33m\u001b[0m\u001b[1;33m\u001b[0m\u001b[0m\n\u001b[0;32m    641\u001b[0m             \u001b[1;31m# Encoding\u001b[0m\u001b[1;33m\u001b[0m\u001b[1;33m\u001b[0m\u001b[1;33m\u001b[0m\u001b[0m\n\u001b[1;32m--> 642\u001b[1;33m             handle = open(\n\u001b[0m\u001b[0;32m    643\u001b[0m                 \u001b[0mhandle\u001b[0m\u001b[1;33m,\u001b[0m\u001b[1;33m\u001b[0m\u001b[1;33m\u001b[0m\u001b[0m\n\u001b[0;32m    644\u001b[0m                 \u001b[0mioargs\u001b[0m\u001b[1;33m.\u001b[0m\u001b[0mmode\u001b[0m\u001b[1;33m,\u001b[0m\u001b[1;33m\u001b[0m\u001b[1;33m\u001b[0m\u001b[0m\n",
      "\u001b[1;31mFileNotFoundError\u001b[0m: [Errno 2] No such file or directory: 'Data2021-06-14 Predicción Por CANAL 2021-06-19Zona.csv'"
     ]
    }
   ],
   "source": [
    "\n",
    "# Data2021-06-22 Predicción Por CANAL 2021-06-26Zona\n",
    "Fecha_in='2021-06-14'\n",
    "Fecha_fin='2021-06-19'\n",
    "# =============================================================================\n",
    "# Ajuste de los datos\n",
    "# =============================================================================\n",
    "File_name='Data'+Fecha_in+' Predicción Por CANAL '+Fecha_fin+'Zona'\n",
    "col_names=pd.read_csv(File_name+\".csv\",\n",
    "                    encoding=\"utf-8\",sep=\",\",nrows=0).columns\n",
    "types_dict = {col: str for col in col_names}\n",
    "\n",
    "Data = pd.read_csv(File_name+\".csv\",\n",
    "                   encoding=\"utf-8\",sep=\",\",dtype=types_dict)\n",
    "\n",
    "Data[\"Día natural\"] = Data[\"Día natural\"].apply(lambda x: \n",
    "                                                datetime.datetime.strptime(x,\n",
    "                                                                           '%Y-%m-%d').date())\n",
    "\n",
    "Data[\"Semana\"] = Data[\"Día natural\"].apply(lambda x: x.isocalendar()[1] )\n",
    "\n",
    "Data[['Predicción Inferior', 'Predicción Superior',\n",
    "       'Predicción central']] = Data[['Predicción Inferior', 'Predicción Superior',\n",
    "       'Predicción central']].astype('float64')\n",
    "\n",
    "Data.head(1)"
   ]
  },
  {
   "cell_type": "markdown",
   "id": "485ab1e6",
   "metadata": {},
   "source": [
    "## Guardado CSV"
   ]
  },
  {
   "cell_type": "code",
   "execution_count": 40,
   "id": "c0f766d3",
   "metadata": {},
   "outputs": [],
   "source": [
    "#Error_DF_Sum.to_csv('E_interv_Dem.csv', index=False)\n",
    "Data.to_csv(File_name+'.csv', index=False)"
   ]
  }
 ],
 "metadata": {
  "kernelspec": {
   "display_name": "Python 3",
   "language": "python",
   "name": "python3"
  },
  "language_info": {
   "codemirror_mode": {
    "name": "ipython",
    "version": 3
   },
   "file_extension": ".py",
   "mimetype": "text/x-python",
   "name": "python",
   "nbconvert_exporter": "python",
   "pygments_lexer": "ipython3",
   "version": "3.8.8"
  },
  "toc": {
   "base_numbering": 1,
   "nav_menu": {
    "height": "246px",
    "width": "191px"
   },
   "number_sections": true,
   "sideBar": true,
   "skip_h1_title": false,
   "title_cell": "Table of Contents",
   "title_sidebar": "Contents",
   "toc_cell": false,
   "toc_position": {
    "height": "720.822px",
    "left": "23.9792px",
    "top": "110.278px",
    "width": "330.966px"
   },
   "toc_section_display": true,
   "toc_window_display": true
  }
 },
 "nbformat": 4,
 "nbformat_minor": 5
}
