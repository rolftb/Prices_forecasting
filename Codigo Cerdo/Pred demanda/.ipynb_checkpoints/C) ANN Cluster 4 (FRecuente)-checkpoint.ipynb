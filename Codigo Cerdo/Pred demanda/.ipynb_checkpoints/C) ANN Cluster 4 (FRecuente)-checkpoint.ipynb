{
 "cells": [
  {
   "cell_type": "markdown",
   "id": "80590ae6",
   "metadata": {
    "heading_collapsed": true,
    "id": "80590ae6"
   },
   "source": [
    "# Información previa\n",
    "\n",
    "## Diseño y esquema codigo\n",
    "\n",
    "1. Exploracion de los datos\n",
    "    1. Segmentar los datos por los cluster de clientes\n",
    "        - **Estudio de los comportamientos de demanda de cada cluster generico:**\n",
    "        \n",
    "        Plantear curvas de comportamiento de compra de cada cliente para cada cluster de clientes, de esta forma se visualizara si los clientes poseen estacionalidades similares a lo que respecta a las compras.\n",
    "\n",
    "        - curvas etacionales de los precios de compra de cada cliente, para cada cluster de clientes\n",
    "2. Creación de atributos\n",
    "    1. __Stock__\n",
    "        - Ajustar hora y valores \n",
    "    2. __Abastecimiento:__\n",
    "        \n",
    "        - Data demanda general.\n",
    "        - Cruzar con el stock \n",
    "        - tomar en cuenta que los productos se pueden eliminar.\n",
    "        Para el abastecimiento, se utilizarán 2 dias para definirlo\n",
    "    \n",
    "    3. __Demanda__\n",
    "        - Definir valores.\n",
    "        - Ajustar por medio del groupby, para que sea de cada cluster.\n",
    "        - \n",
    "        "
   ]
  },
  {
   "cell_type": "markdown",
   "id": "1564dada",
   "metadata": {
    "heading_collapsed": true,
    "hidden": true,
    "id": "1564dada"
   },
   "source": [
    "## Temas a considerar de los datos\n",
    "\n",
    "### Data Cluster\n",
    "\n",
    "Los segmentos según lo analisado coinciden en las siguientes caracteristicas"
   ]
  },
  {
   "cell_type": "markdown",
   "id": "ed121f65",
   "metadata": {
    "hidden": true,
    "id": "ed121f65"
   },
   "source": [
    "![title](img/Segmento_de_clientes.png)"
   ]
  },
  {
   "cell_type": "markdown",
   "id": "1a93e3f5",
   "metadata": {
    "hidden": true,
    "id": "1a93e3f5"
   },
   "source": [
    "Los segmentos más llamativos a nivel demanda son **el 4 y el 2**\n",
    "\n",
    "* **Segmento 2 MAYORISTA**\n",
    "* **Segmento 4 FRECUENTES**"
   ]
  },
  {
   "cell_type": "markdown",
   "id": "1ed6a797",
   "metadata": {
    "hidden": true,
    "id": "1ed6a797"
   },
   "source": [
    "## Este es un extracto del paper:\n",
    " \n",
    "\n",
    "\t\n",
    "Ventas pasadas con retraso  k, es decir, ventas diarias para el SKU considerado de los últimos k días (tw k : ventana de tiempo de tamaño k ).\n",
    "\n",
    "\t\n",
    "* Variables binarias para caracterizar días especiales, como:\n",
    "    * Pago , que caracteriza los días al final de cada mes cuando las personas reciben el pago mensual.\n",
    "    * Pago intermedio , que caracteriza los días al final de cada quincena en que las personas reciben dos pagos semanales.\n",
    "    * Antes de las vacaciones , caracterizando los días antes de las vacaciones.\n",
    "    * Vacaciones , que caracterizan las vacaciones.\n",
    "    * Independencia , que caracteriza los días de la independencia de Chile (18 y 19 de septiembre).\n",
    "    * Santa , caracterizando los días de la semana antes del este.\n",
    "    * Vacaciones , caracterizando los días que pertenecen al período de vacaciones de verano (enero y febrero).\n",
    "    * Verano , que caracteriza los días de verano (1 de octubre-31 de marzo).\t\n",
    "    * Año nuevo (1 de enero), que caracteriza el único día de cierre de supermercados en Chile.\n",
    "\t\n",
    "\t\n",
    "* Variables de precio:\n",
    "    * Precio A  =  precio original del SKU considerado en Economax.\n",
    "    * Precio B  =  (Precio A) / (Precio máximo en micro-mercado).\n",
    "    * Precio C  =  (Precio A) / (Precio mínimo en micro-mercado).\n",
    "\n",
    "\t\t\n",
    "Observación : Las variables “Precio máximo en micro-mercado” y “Precio mínimo en micro-mercado” son el precio máximo (mínimo) para un determinado SKU en el micro-mercado relevante y son proporcionados por una empresa de investigación de mercado.\n",
    "\t\t\n",
    "\t\n",
    "\n",
    "\t\n",
    " "
   ]
  },
  {
   "cell_type": "markdown",
   "id": "33f26efe",
   "metadata": {
    "id": "33f26efe"
   },
   "source": [
    "# Package Install\n"
   ]
  },
  {
   "cell_type": "markdown",
   "id": "6dc45620",
   "metadata": {
    "id": "6dc45620"
   },
   "source": [
    "## Import"
   ]
  },
  {
   "cell_type": "code",
   "execution_count": 1,
   "id": "82536652",
   "metadata": {
    "executionInfo": {
     "elapsed": 970,
     "status": "ok",
     "timestamp": 1622564191889,
     "user": {
      "displayName": "Emerson Gatica",
      "photoUrl": "https://lh3.googleusercontent.com/a-/AOh14GjKzasbyxCvXm6o33OIAlDM5H4HGLIiyVGh4HAjUfQ=s64",
      "userId": "09201646635679341405"
     },
     "user_tz": 240
    },
    "id": "82536652"
   },
   "outputs": [],
   "source": [
    "# =============================================================================\n",
    "# Importar paquetes y abrir Data\n",
    "# =============================================================================\n",
    "\n",
    "#gestion DF\n",
    "import pandas as pd\n",
    "\n",
    "#Funciones mat y matricicales\n",
    "import numpy as np\n",
    "\n",
    "#ploteo simple\n",
    "import matplotlib.pyplot as plt\n",
    "\n",
    "# Graficas bonitas\n",
    "from plotnine import *\n",
    "\n",
    "#para ajustar las fechas\n",
    "import datetime\n",
    "\n",
    "#para calcular el skew de un array() o list()\n",
    "from scipy.stats import skew \n",
    "\n",
    "#mode function\n",
    "import statistics \n"
   ]
  },
  {
   "cell_type": "markdown",
   "id": "21478626",
   "metadata": {
    "id": "21478626"
   },
   "source": [
    "# Fechas importantes "
   ]
  },
  {
   "cell_type": "markdown",
   "id": "a6c69dbb",
   "metadata": {
    "id": "a6c69dbb"
   },
   "source": [
    "## Feriados\n",
    "Los feriados se pueden tomar en cuenta como:\n",
    "* Menos horas de trabajo a la semana\n",
    "* Día que no se ejecuta demanda(Solucionable, sin ajustar el modelos)\n",
    "* Aumento o disminución de la demanda\n",
    "* Demanda aumenta"
   ]
  },
  {
   "cell_type": "markdown",
   "id": "ba3a3b04",
   "metadata": {
    "id": "ba3a3b04"
   },
   "source": [
    "![title](img/Festivos.png)"
   ]
  },
  {
   "cell_type": "markdown",
   "id": "d587a0df",
   "metadata": {
    "id": "d587a0df"
   },
   "source": [
    "### Datos "
   ]
  },
  {
   "cell_type": "markdown",
   "id": "8cf730e6",
   "metadata": {
    "id": "8cf730e6"
   },
   "source": [
    "#### Numeración "
   ]
  },
  {
   "cell_type": "code",
   "execution_count": 2,
   "id": "c57d5fdd",
   "metadata": {
    "colab": {
     "base_uri": "https://localhost:8080/",
     "height": 0
    },
    "executionInfo": {
     "elapsed": 721,
     "status": "ok",
     "timestamp": 1622564194065,
     "user": {
      "displayName": "Emerson Gatica",
      "photoUrl": "https://lh3.googleusercontent.com/a-/AOh14GjKzasbyxCvXm6o33OIAlDM5H4HGLIiyVGh4HAjUfQ=s64",
      "userId": "09201646635679341405"
     },
     "user_tz": 240
    },
    "id": "c57d5fdd",
    "outputId": "a2ea9b06-66da-46be-9fa8-1e628f205b9d"
   },
   "outputs": [
    {
     "data": {
      "text/plain": [
       "'Día de las Iglesias Evangélicas y Protestantes'"
      ]
     },
     "execution_count": 2,
     "metadata": {},
     "output_type": "execute_result"
    }
   ],
   "source": [
    "Numeración_Festivos=({1:'año nuevo'\n",
    ",2:'Semana santa'\n",
    ",3:'Día Nacional del Trabajo'\n",
    ",4:'Día de las Glorias Navales'\n",
    ",5:'San Pedro y San Pablo'\n",
    ",6:'Día de la Virgen del Carmen'\n",
    ",7:'Asunción de la Virgen'\n",
    ",8:'Fiestas patrias(Viernes)'\n",
    ",9:'Encuentro de Dos Mundos'\n",
    ",10:'Día de las Iglesias Evangélicas y Protestantes'\n",
    ",11:'Día de Todos los Santos'\n",
    ",12:'Inmaculada Concepción'\n",
    ",13:'Navidad'})\n",
    "Numeración_Festivos[10]"
   ]
  },
  {
   "cell_type": "markdown",
   "id": "1e90688e",
   "metadata": {
    "id": "1e90688e"
   },
   "source": [
    "#  Formación Data Predicciones\n",
    "\n",
    "Artificial Neural Network + Prophet Model of Facebook\n",
    "\n",
    "\n",
    "\\begin{equation}\n",
    "Demanda=\n",
    "Prophet+E_p\n",
    "\\end{equation}\n",
    "\n",
    "\\begin{equation}\n",
    "E_p=ANN + E_ANN\n",
    "\\end{equation}\n",
    "\n",
    "\n",
    "* Falta incorporar el precio como variable\n",
    "    * Precio del CT\n",
    "    * Precio de Z001\n",
    "    * Precio dia anterior\n",
    "    * Precio o semana anterior\n",
    "\n",
    "```python\n",
    "\n",
    "#DF_ventas Posee las ventas de los clientes del CT\n",
    "DF_ventas \n",
    "\n",
    "#DF_VS Posee los niveles de Stok Abastecimiento y Demanda de la Z001\n",
    "DF_VS\n",
    "\n",
    "# Dias_Festivos Posee los dias festivos del 2019 al 2020\n",
    "Dias_Festivos\n",
    "```\n",
    "\n",
    "Se juntaran los 3 df para formar 1, para ello se generará en primer lugar un df con\n",
    "\n",
    "```python\n",
    "DF_ventas[DF_ventas['identified_clusters']==4].groupby('Día natural').sum().reset_index()[['Día natural','Kilos Venta KG']]\n",
    "``` \n",
    "\n",
    "\n",
    "De tal forma que se tiene la demanda dia del segmento, Despues se realiza un Merge con cada uno de los otros DF, de tal forma que la demanda dia posee más partes X que le agregan robustes al modelo.\n"
   ]
  },
  {
   "cell_type": "markdown",
   "id": "8ed93b9d",
   "metadata": {
    "id": "8ed93b9d"
   },
   "source": [
    "## Sección Prophet "
   ]
  },
  {
   "cell_type": "markdown",
   "id": "0ec41e43",
   "metadata": {
    "id": "0ec41e43"
   },
   "source": [
    "### Data"
   ]
  },
  {
   "cell_type": "code",
   "execution_count": 3,
   "id": "5b8b3e31",
   "metadata": {
    "colab": {
     "base_uri": "https://localhost:8080/",
     "height": 374
    },
    "executionInfo": {
     "elapsed": 663,
     "status": "error",
     "timestamp": 1622564194668,
     "user": {
      "displayName": "Emerson Gatica",
      "photoUrl": "https://lh3.googleusercontent.com/a-/AOh14GjKzasbyxCvXm6o33OIAlDM5H4HGLIiyVGh4HAjUfQ=s64",
      "userId": "09201646635679341405"
     },
     "user_tz": 240
    },
    "id": "5b8b3e31",
    "outputId": "fa8a203b-217d-46d3-f1ba-98783fdbe3dd",
    "scrolled": true
   },
   "outputs": [
    {
     "name": "stdout",
     "output_type": "stream",
     "text": [
      "(607, 4)\n"
     ]
    },
    {
     "data": {
      "text/html": [
       "<div>\n",
       "<style scoped>\n",
       "    .dataframe tbody tr th:only-of-type {\n",
       "        vertical-align: middle;\n",
       "    }\n",
       "\n",
       "    .dataframe tbody tr th {\n",
       "        vertical-align: top;\n",
       "    }\n",
       "\n",
       "    .dataframe thead th {\n",
       "        text-align: right;\n",
       "    }\n",
       "</style>\n",
       "<table border=\"1\" class=\"dataframe\">\n",
       "  <thead>\n",
       "    <tr style=\"text-align: right;\">\n",
       "      <th></th>\n",
       "      <th>Día natural</th>\n",
       "      <th>y</th>\n",
       "      <th>yhat</th>\n",
       "      <th>Error</th>\n",
       "    </tr>\n",
       "  </thead>\n",
       "  <tbody>\n",
       "    <tr>\n",
       "      <th>0</th>\n",
       "      <td>2019-01-03</td>\n",
       "      <td>41</td>\n",
       "      <td>47.16291202721127</td>\n",
       "      <td>6.16291202721127</td>\n",
       "    </tr>\n",
       "    <tr>\n",
       "      <th>1</th>\n",
       "      <td>2019-01-04</td>\n",
       "      <td>22</td>\n",
       "      <td>123.3959494651005</td>\n",
       "      <td>101.3959494651005</td>\n",
       "    </tr>\n",
       "    <tr>\n",
       "      <th>2</th>\n",
       "      <td>2019-01-05</td>\n",
       "      <td>22</td>\n",
       "      <td>68.88366519807951</td>\n",
       "      <td>46.88366519807951</td>\n",
       "    </tr>\n",
       "    <tr>\n",
       "      <th>3</th>\n",
       "      <td>2019-01-07</td>\n",
       "      <td>20</td>\n",
       "      <td>-39.785590061974624</td>\n",
       "      <td>-59.785590061974624</td>\n",
       "    </tr>\n",
       "    <tr>\n",
       "      <th>4</th>\n",
       "      <td>2019-01-09</td>\n",
       "      <td>502</td>\n",
       "      <td>119.95539707408078</td>\n",
       "      <td>-382.0446029259192</td>\n",
       "    </tr>\n",
       "  </tbody>\n",
       "</table>\n",
       "</div>"
      ],
      "text/plain": [
       "  Día natural    y                 yhat                Error\n",
       "0  2019-01-03   41    47.16291202721127     6.16291202721127\n",
       "1  2019-01-04   22    123.3959494651005    101.3959494651005\n",
       "2  2019-01-05   22    68.88366519807951    46.88366519807951\n",
       "3  2019-01-07   20  -39.785590061974624  -59.785590061974624\n",
       "4  2019-01-09  502   119.95539707408078   -382.0446029259192"
      ]
     },
     "execution_count": 3,
     "metadata": {},
     "output_type": "execute_result"
    }
   ],
   "source": [
    "fillN='Valores_prophet'\n",
    "col_names=pd.read_csv(\"\"+fillN+\".csv\",\n",
    "                    encoding=\"utf-8\",sep=\",\",nrows=0).columns\n",
    "types_dict = {col: str for col in col_names}\n",
    "\n",
    "DF_Predict = pd.read_csv(\"\"+fillN+\".csv\",\n",
    "                   encoding=\"utf-8\",sep=\",\",dtype=types_dict)\n",
    "\n",
    "DF_Predict = DF_Predict.rename(columns={'ds':\"Día natural\"})\n",
    "DF_Predict[\"Día natural\"] = DF_Predict[\"Día natural\"].apply(lambda x: \n",
    "                                                datetime.datetime.strptime(x,\n",
    "                                                                           '%Y-%m-%d').date())\n",
    "print(DF_Predict.shape)\n",
    "\n",
    "DF_Predict.head()"
   ]
  },
  {
   "cell_type": "markdown",
   "id": "3e991093",
   "metadata": {
    "id": "3e991093"
   },
   "source": [
    "### Data Festivos con  Error Prophet"
   ]
  },
  {
   "cell_type": "code",
   "execution_count": 4,
   "id": "8675fa33",
   "metadata": {
    "executionInfo": {
     "elapsed": 607,
     "status": "aborted",
     "timestamp": 1622564194614,
     "user": {
      "displayName": "Emerson Gatica",
      "photoUrl": "https://lh3.googleusercontent.com/a-/AOh14GjKzasbyxCvXm6o33OIAlDM5H4HGLIiyVGh4HAjUfQ=s64",
      "userId": "09201646635679341405"
     },
     "user_tz": 240
    },
    "id": "8675fa33",
    "scrolled": true
   },
   "outputs": [
    {
     "data": {
      "text/html": [
       "<div>\n",
       "<style scoped>\n",
       "    .dataframe tbody tr th:only-of-type {\n",
       "        vertical-align: middle;\n",
       "    }\n",
       "\n",
       "    .dataframe tbody tr th {\n",
       "        vertical-align: top;\n",
       "    }\n",
       "\n",
       "    .dataframe thead th {\n",
       "        text-align: right;\n",
       "    }\n",
       "</style>\n",
       "<table border=\"1\" class=\"dataframe\">\n",
       "  <thead>\n",
       "    <tr style=\"text-align: right;\">\n",
       "      <th></th>\n",
       "      <th>Año</th>\n",
       "      <th>Semana</th>\n",
       "      <th>año nuevo</th>\n",
       "      <th>Semana santa</th>\n",
       "      <th>Día Nacional del Trabajo</th>\n",
       "      <th>Día de las Glorias Navales</th>\n",
       "      <th>San Pedro y San Pablo</th>\n",
       "      <th>Día de la Virgen del Carmen</th>\n",
       "      <th>Asunción de la Virgen</th>\n",
       "      <th>Fiestas patrias(Viernes)</th>\n",
       "      <th>...</th>\n",
       "      <th>Día de Todos los Santos</th>\n",
       "      <th>Inmaculada Concepción</th>\n",
       "      <th>Navidad</th>\n",
       "      <th>Día natural</th>\n",
       "      <th>Kilos Venta KG</th>\n",
       "      <th>Precio Promedio CLP</th>\n",
       "      <th>y</th>\n",
       "      <th>yhat</th>\n",
       "      <th>Error</th>\n",
       "      <th>Mes</th>\n",
       "    </tr>\n",
       "  </thead>\n",
       "  <tbody>\n",
       "    <tr>\n",
       "      <th>0</th>\n",
       "      <td>2019</td>\n",
       "      <td>1</td>\n",
       "      <td>2.0</td>\n",
       "      <td>0.0</td>\n",
       "      <td>0.0</td>\n",
       "      <td>0.0</td>\n",
       "      <td>0.0</td>\n",
       "      <td>0.0</td>\n",
       "      <td>0.0</td>\n",
       "      <td>0.0</td>\n",
       "      <td>...</td>\n",
       "      <td>0.0</td>\n",
       "      <td>0.0</td>\n",
       "      <td>0.0</td>\n",
       "      <td>2019-01-03</td>\n",
       "      <td>41</td>\n",
       "      <td>3516.2195121951218</td>\n",
       "      <td>41</td>\n",
       "      <td>47.16291202721127</td>\n",
       "      <td>6.16291202721127</td>\n",
       "      <td>1</td>\n",
       "    </tr>\n",
       "    <tr>\n",
       "      <th>1</th>\n",
       "      <td>2019</td>\n",
       "      <td>1</td>\n",
       "      <td>2.0</td>\n",
       "      <td>0.0</td>\n",
       "      <td>0.0</td>\n",
       "      <td>0.0</td>\n",
       "      <td>0.0</td>\n",
       "      <td>0.0</td>\n",
       "      <td>0.0</td>\n",
       "      <td>0.0</td>\n",
       "      <td>...</td>\n",
       "      <td>0.0</td>\n",
       "      <td>0.0</td>\n",
       "      <td>0.0</td>\n",
       "      <td>2019-01-04</td>\n",
       "      <td>22</td>\n",
       "      <td>3562.0454545454545</td>\n",
       "      <td>22</td>\n",
       "      <td>123.3959494651005</td>\n",
       "      <td>101.3959494651005</td>\n",
       "      <td>1</td>\n",
       "    </tr>\n",
       "    <tr>\n",
       "      <th>2</th>\n",
       "      <td>2019</td>\n",
       "      <td>1</td>\n",
       "      <td>2.0</td>\n",
       "      <td>0.0</td>\n",
       "      <td>0.0</td>\n",
       "      <td>0.0</td>\n",
       "      <td>0.0</td>\n",
       "      <td>0.0</td>\n",
       "      <td>0.0</td>\n",
       "      <td>0.0</td>\n",
       "      <td>...</td>\n",
       "      <td>0.0</td>\n",
       "      <td>0.0</td>\n",
       "      <td>0.0</td>\n",
       "      <td>2019-01-05</td>\n",
       "      <td>22</td>\n",
       "      <td>3463.409090909091</td>\n",
       "      <td>22</td>\n",
       "      <td>68.88366519807951</td>\n",
       "      <td>46.88366519807951</td>\n",
       "      <td>1</td>\n",
       "    </tr>\n",
       "    <tr>\n",
       "      <th>3</th>\n",
       "      <td>2019</td>\n",
       "      <td>2</td>\n",
       "      <td>3.0</td>\n",
       "      <td>0.0</td>\n",
       "      <td>0.0</td>\n",
       "      <td>0.0</td>\n",
       "      <td>0.0</td>\n",
       "      <td>0.0</td>\n",
       "      <td>0.0</td>\n",
       "      <td>0.0</td>\n",
       "      <td>...</td>\n",
       "      <td>0.0</td>\n",
       "      <td>0.0</td>\n",
       "      <td>0.0</td>\n",
       "      <td>2019-01-07</td>\n",
       "      <td>20</td>\n",
       "      <td>3449.25</td>\n",
       "      <td>20</td>\n",
       "      <td>-39.785590061974624</td>\n",
       "      <td>-59.785590061974624</td>\n",
       "      <td>1</td>\n",
       "    </tr>\n",
       "    <tr>\n",
       "      <th>4</th>\n",
       "      <td>2019</td>\n",
       "      <td>2</td>\n",
       "      <td>3.0</td>\n",
       "      <td>0.0</td>\n",
       "      <td>0.0</td>\n",
       "      <td>0.0</td>\n",
       "      <td>0.0</td>\n",
       "      <td>0.0</td>\n",
       "      <td>0.0</td>\n",
       "      <td>0.0</td>\n",
       "      <td>...</td>\n",
       "      <td>0.0</td>\n",
       "      <td>0.0</td>\n",
       "      <td>0.0</td>\n",
       "      <td>2019-01-09</td>\n",
       "      <td>502</td>\n",
       "      <td>1950.2988047808765</td>\n",
       "      <td>502</td>\n",
       "      <td>119.95539707408078</td>\n",
       "      <td>-382.0446029259192</td>\n",
       "      <td>1</td>\n",
       "    </tr>\n",
       "  </tbody>\n",
       "</table>\n",
       "<p>5 rows × 22 columns</p>\n",
       "</div>"
      ],
      "text/plain": [
       "    Año  Semana año nuevo Semana santa Día Nacional del Trabajo  \\\n",
       "0  2019       1       2.0          0.0                      0.0   \n",
       "1  2019       1       2.0          0.0                      0.0   \n",
       "2  2019       1       2.0          0.0                      0.0   \n",
       "3  2019       2       3.0          0.0                      0.0   \n",
       "4  2019       2       3.0          0.0                      0.0   \n",
       "\n",
       "  Día de las Glorias Navales San Pedro y San Pablo  \\\n",
       "0                        0.0                   0.0   \n",
       "1                        0.0                   0.0   \n",
       "2                        0.0                   0.0   \n",
       "3                        0.0                   0.0   \n",
       "4                        0.0                   0.0   \n",
       "\n",
       "  Día de la Virgen del Carmen Asunción de la Virgen Fiestas patrias(Viernes)  \\\n",
       "0                         0.0                   0.0                      0.0   \n",
       "1                         0.0                   0.0                      0.0   \n",
       "2                         0.0                   0.0                      0.0   \n",
       "3                         0.0                   0.0                      0.0   \n",
       "4                         0.0                   0.0                      0.0   \n",
       "\n",
       "   ... Día de Todos los Santos Inmaculada Concepción Navidad Día natural  \\\n",
       "0  ...                     0.0                   0.0     0.0  2019-01-03   \n",
       "1  ...                     0.0                   0.0     0.0  2019-01-04   \n",
       "2  ...                     0.0                   0.0     0.0  2019-01-05   \n",
       "3  ...                     0.0                   0.0     0.0  2019-01-07   \n",
       "4  ...                     0.0                   0.0     0.0  2019-01-09   \n",
       "\n",
       "  Kilos Venta KG Precio Promedio CLP    y                 yhat  \\\n",
       "0             41  3516.2195121951218   41    47.16291202721127   \n",
       "1             22  3562.0454545454545   22    123.3959494651005   \n",
       "2             22   3463.409090909091   22    68.88366519807951   \n",
       "3             20             3449.25   20  -39.785590061974624   \n",
       "4            502  1950.2988047808765  502   119.95539707408078   \n",
       "\n",
       "                 Error Mes  \n",
       "0     6.16291202721127   1  \n",
       "1    101.3959494651005   1  \n",
       "2    46.88366519807951   1  \n",
       "3  -59.785590061974624   1  \n",
       "4   -382.0446029259192   1  \n",
       "\n",
       "[5 rows x 22 columns]"
      ]
     },
     "execution_count": 4,
     "metadata": {},
     "output_type": "execute_result"
    }
   ],
   "source": [
    "#DF_Fest2.to_csv('prophet_Fest.csv', index=False)\n",
    "fillN='prophet_Fest'\n",
    "col_names=pd.read_csv(\"\"+fillN+\".csv\",\n",
    "                    encoding=\"utf-8\",sep=\",\",nrows=0).columns\n",
    "types_dict = {col: str for col in col_names}\n",
    "\n",
    "prophet_Fest = pd.read_csv(\"\"+fillN+\".csv\",\n",
    "                   encoding=\"utf-8\",sep=\",\",dtype=types_dict)\n",
    "\n",
    "prophet_Fest = prophet_Fest.rename(columns={'ds':\"Día natural\"})\n",
    "prophet_Fest[\"Día natural\"] = prophet_Fest[\"Día natural\"].apply(lambda x: \n",
    "                                                datetime.datetime.strptime(x,\n",
    "                                                                           '%Y-%m-%d').date())\n",
    "prophet_Fest.Año=prophet_Fest['Día natural'].apply(lambda x: x.year)\n",
    "prophet_Fest.Semana=prophet_Fest['Día natural'].apply(lambda x: x.isocalendar()[1])\n",
    "prophet_Fest['Mes']=prophet_Fest['Día natural'].apply(lambda x: x.month)\n",
    "prophet_Fest.head(1)\n",
    "prophet_Fest.head()"
   ]
  },
  {
   "cell_type": "markdown",
   "id": "1d5733fa",
   "metadata": {},
   "source": [
    "### Error prophet "
   ]
  },
  {
   "cell_type": "markdown",
   "id": "4818e81b",
   "metadata": {},
   "source": [
    "#### Construyo data a calcular el error"
   ]
  },
  {
   "cell_type": "code",
   "execution_count": 5,
   "id": "a08d5095",
   "metadata": {},
   "outputs": [
    {
     "data": {
      "text/plain": [
       "-455.83943833918045"
      ]
     },
     "execution_count": 5,
     "metadata": {},
     "output_type": "execute_result"
    }
   ],
   "source": [
    "tempo=prophet_Fest[prophet_Fest.Año==2021].copy()\n",
    "tempo.Semana=tempo.Semana.astype('category')\n",
    "tempo.Mes=tempo.Mes.astype('category')\n",
    "tempo.Error=tempo.Error.astype('float64')#.abs()\n",
    "tempo.Error.sum()#/tempo.shape[0]"
   ]
  },
  {
   "cell_type": "code",
   "execution_count": 6,
   "id": "105b6779",
   "metadata": {
    "scrolled": false
   },
   "outputs": [
    {
     "data": {
      "text/plain": [
       "<AxesSubplot:>"
      ]
     },
     "execution_count": 6,
     "metadata": {},
     "output_type": "execute_result"
    },
    {
     "data": {
      "image/png": "[encoded data removed]",
      "text/plain": [
       "<Figure size 432x288 with 1 Axes>"
      ]
     },
     "metadata": {
      "needs_background": "light"
     },
     "output_type": "display_data"
    }
   ],
   "source": [
    "tmp=tempo.groupby(['Año','Mes','Semana']).sum().reset_index()\n",
    "tmp.Error.hist()"
   ]
  },
  {
   "cell_type": "code",
   "execution_count": 7,
   "id": "1fe746ea",
   "metadata": {},
   "outputs": [
    {
     "data": {
      "text/html": [
       "<div>\n",
       "<style scoped>\n",
       "    .dataframe tbody tr th:only-of-type {\n",
       "        vertical-align: middle;\n",
       "    }\n",
       "\n",
       "    .dataframe tbody tr th {\n",
       "        vertical-align: top;\n",
       "    }\n",
       "\n",
       "    .dataframe thead th {\n",
       "        text-align: right;\n",
       "    }\n",
       "</style>\n",
       "<table border=\"1\" class=\"dataframe\">\n",
       "  <thead>\n",
       "    <tr style=\"text-align: right;\">\n",
       "      <th></th>\n",
       "      <th></th>\n",
       "      <th></th>\n",
       "      <th>Error</th>\n",
       "    </tr>\n",
       "    <tr>\n",
       "      <th>Año</th>\n",
       "      <th>Mes</th>\n",
       "      <th>Semana</th>\n",
       "      <th></th>\n",
       "    </tr>\n",
       "  </thead>\n",
       "  <tbody>\n",
       "    <tr>\n",
       "      <th rowspan=\"11\" valign=\"top\">2021</th>\n",
       "      <th rowspan=\"5\" valign=\"top\">1</th>\n",
       "      <th>1</th>\n",
       "      <td>487.864269</td>\n",
       "    </tr>\n",
       "    <tr>\n",
       "      <th>2</th>\n",
       "      <td>357.467957</td>\n",
       "    </tr>\n",
       "    <tr>\n",
       "      <th>3</th>\n",
       "      <td>126.341897</td>\n",
       "    </tr>\n",
       "    <tr>\n",
       "      <th>4</th>\n",
       "      <td>-708.943414</td>\n",
       "    </tr>\n",
       "    <tr>\n",
       "      <th>5</th>\n",
       "      <td>0.000000</td>\n",
       "    </tr>\n",
       "    <tr>\n",
       "      <th>...</th>\n",
       "      <th>...</th>\n",
       "      <td>...</td>\n",
       "    </tr>\n",
       "    <tr>\n",
       "      <th rowspan=\"5\" valign=\"top\">5</th>\n",
       "      <th>16</th>\n",
       "      <td>0.000000</td>\n",
       "    </tr>\n",
       "    <tr>\n",
       "      <th>17</th>\n",
       "      <td>0.000000</td>\n",
       "    </tr>\n",
       "    <tr>\n",
       "      <th>18</th>\n",
       "      <td>625.708280</td>\n",
       "    </tr>\n",
       "    <tr>\n",
       "      <th>19</th>\n",
       "      <td>-169.490334</td>\n",
       "    </tr>\n",
       "    <tr>\n",
       "      <th>20</th>\n",
       "      <td>-225.168027</td>\n",
       "    </tr>\n",
       "  </tbody>\n",
       "</table>\n",
       "<p>100 rows × 1 columns</p>\n",
       "</div>"
      ],
      "text/plain": [
       "                      Error\n",
       "Año  Mes Semana            \n",
       "2021 1   1       487.864269\n",
       "         2       357.467957\n",
       "         3       126.341897\n",
       "         4      -708.943414\n",
       "         5         0.000000\n",
       "...                     ...\n",
       "     5   16        0.000000\n",
       "         17        0.000000\n",
       "         18      625.708280\n",
       "         19     -169.490334\n",
       "         20     -225.168027\n",
       "\n",
       "[100 rows x 1 columns]"
      ]
     },
     "execution_count": 7,
     "metadata": {},
     "output_type": "execute_result"
    }
   ],
   "source": [
    "tempo.groupby(['Año','Mes','Semana']).sum()"
   ]
  },
  {
   "cell_type": "code",
   "execution_count": 8,
   "id": "f67a1fab",
   "metadata": {},
   "outputs": [
    {
     "name": "stdout",
     "output_type": "stream",
     "text": [
      "103.66439647618022\n"
     ]
    },
    {
     "data": {
      "text/html": [
       "<div>\n",
       "<style scoped>\n",
       "    .dataframe tbody tr th:only-of-type {\n",
       "        vertical-align: middle;\n",
       "    }\n",
       "\n",
       "    .dataframe tbody tr th {\n",
       "        vertical-align: top;\n",
       "    }\n",
       "\n",
       "    .dataframe thead th {\n",
       "        text-align: right;\n",
       "    }\n",
       "</style>\n",
       "<table border=\"1\" class=\"dataframe\">\n",
       "  <thead>\n",
       "    <tr style=\"text-align: right;\">\n",
       "      <th></th>\n",
       "      <th>Año</th>\n",
       "      <th>Mes</th>\n",
       "      <th>Error</th>\n",
       "    </tr>\n",
       "  </thead>\n",
       "  <tbody>\n",
       "    <tr>\n",
       "      <th>0</th>\n",
       "      <td>2021</td>\n",
       "      <td>1</td>\n",
       "      <td>84.030877</td>\n",
       "    </tr>\n",
       "    <tr>\n",
       "      <th>1</th>\n",
       "      <td>2021</td>\n",
       "      <td>2</td>\n",
       "      <td>77.442516</td>\n",
       "    </tr>\n",
       "    <tr>\n",
       "      <th>2</th>\n",
       "      <td>2021</td>\n",
       "      <td>3</td>\n",
       "      <td>175.264420</td>\n",
       "    </tr>\n",
       "    <tr>\n",
       "      <th>3</th>\n",
       "      <td>2021</td>\n",
       "      <td>4</td>\n",
       "      <td>130.565838</td>\n",
       "    </tr>\n",
       "    <tr>\n",
       "      <th>4</th>\n",
       "      <td>2021</td>\n",
       "      <td>5</td>\n",
       "      <td>51.018332</td>\n",
       "    </tr>\n",
       "  </tbody>\n",
       "</table>\n",
       "</div>"
      ],
      "text/plain": [
       "    Año Mes       Error\n",
       "0  2021   1   84.030877\n",
       "1  2021   2   77.442516\n",
       "2  2021   3  175.264420\n",
       "3  2021   4  130.565838\n",
       "4  2021   5   51.018332"
      ]
     },
     "execution_count": 8,
     "metadata": {},
     "output_type": "execute_result"
    }
   ],
   "source": [
    "tmp.Error=tmp.Error.astype('float64').abs()\n",
    "print(tmp.Error.mean())\n",
    "tmp.groupby(['Año','Mes']).mean().reset_index()"
   ]
  },
  {
   "cell_type": "markdown",
   "id": "0c83c80b",
   "metadata": {
    "id": "0c83c80b"
   },
   "source": [
    "# (ANN) Parte Redes neuronales\n",
    "neural networks shape \n",
    "\n",
    "https://colab.research.google.com/drive/1HPcKN6IzB5uuj_MfqHcmBiSDsOjNeUBk#scrollTo=Ojn2s4BzpU4C"
   ]
  },
  {
   "cell_type": "markdown",
   "id": "f4080092",
   "metadata": {
    "id": "f4080092"
   },
   "source": [
    "### Data Train Data Test  "
   ]
  },
  {
   "cell_type": "markdown",
   "id": "3bd40314",
   "metadata": {
    "heading_collapsed": true,
    "id": "3bd40314"
   },
   "source": [
    "#### Exploración de frecuencia "
   ]
  },
  {
   "cell_type": "code",
   "execution_count": 9,
   "id": "208779f9",
   "metadata": {
    "executionInfo": {
     "elapsed": 607,
     "status": "aborted",
     "timestamp": 1622564194615,
     "user": {
      "displayName": "Emerson Gatica",
      "photoUrl": "https://lh3.googleusercontent.com/a-/AOh14GjKzasbyxCvXm6o33OIAlDM5H4HGLIiyVGh4HAjUfQ=s64",
      "userId": "09201646635679341405"
     },
     "user_tz": 240
    },
    "hidden": true,
    "id": "208779f9",
    "scrolled": false
   },
   "outputs": [
    {
     "data": {
      "text/html": [
       "<div>\n",
       "<style scoped>\n",
       "    .dataframe tbody tr th:only-of-type {\n",
       "        vertical-align: middle;\n",
       "    }\n",
       "\n",
       "    .dataframe tbody tr th {\n",
       "        vertical-align: top;\n",
       "    }\n",
       "\n",
       "    .dataframe thead th {\n",
       "        text-align: right;\n",
       "    }\n",
       "</style>\n",
       "<table border=\"1\" class=\"dataframe\">\n",
       "  <thead>\n",
       "    <tr style=\"text-align: right;\">\n",
       "      <th></th>\n",
       "      <th>Año</th>\n",
       "      <th>Semana</th>\n",
       "      <th>año nuevo</th>\n",
       "      <th>Semana santa</th>\n",
       "      <th>Día Nacional del Trabajo</th>\n",
       "      <th>Día de las Glorias Navales</th>\n",
       "      <th>San Pedro y San Pablo</th>\n",
       "      <th>Día de la Virgen del Carmen</th>\n",
       "      <th>Asunción de la Virgen</th>\n",
       "      <th>Fiestas patrias(Viernes)</th>\n",
       "      <th>...</th>\n",
       "      <th>Día de Todos los Santos</th>\n",
       "      <th>Inmaculada Concepción</th>\n",
       "      <th>Navidad</th>\n",
       "      <th>Día natural</th>\n",
       "      <th>Kilos Venta KG</th>\n",
       "      <th>Precio Promedio CLP</th>\n",
       "      <th>y</th>\n",
       "      <th>yhat</th>\n",
       "      <th>Error</th>\n",
       "      <th>Mes</th>\n",
       "    </tr>\n",
       "  </thead>\n",
       "  <tbody>\n",
       "    <tr>\n",
       "      <th>0</th>\n",
       "      <td>2019</td>\n",
       "      <td>1</td>\n",
       "      <td>2.0</td>\n",
       "      <td>0.0</td>\n",
       "      <td>0.0</td>\n",
       "      <td>0.0</td>\n",
       "      <td>0.0</td>\n",
       "      <td>0.0</td>\n",
       "      <td>0.0</td>\n",
       "      <td>0.0</td>\n",
       "      <td>...</td>\n",
       "      <td>0.0</td>\n",
       "      <td>0.0</td>\n",
       "      <td>0.0</td>\n",
       "      <td>2019-01-03</td>\n",
       "      <td>41</td>\n",
       "      <td>3516.2195121951218</td>\n",
       "      <td>41</td>\n",
       "      <td>47.16291202721127</td>\n",
       "      <td>6.16291202721127</td>\n",
       "      <td>1</td>\n",
       "    </tr>\n",
       "  </tbody>\n",
       "</table>\n",
       "<p>1 rows × 22 columns</p>\n",
       "</div>"
      ],
      "text/plain": [
       "    Año  Semana año nuevo Semana santa Día Nacional del Trabajo  \\\n",
       "0  2019       1       2.0          0.0                      0.0   \n",
       "\n",
       "  Día de las Glorias Navales San Pedro y San Pablo  \\\n",
       "0                        0.0                   0.0   \n",
       "\n",
       "  Día de la Virgen del Carmen Asunción de la Virgen Fiestas patrias(Viernes)  \\\n",
       "0                         0.0                   0.0                      0.0   \n",
       "\n",
       "   ... Día de Todos los Santos Inmaculada Concepción Navidad Día natural  \\\n",
       "0  ...                     0.0                   0.0     0.0  2019-01-03   \n",
       "\n",
       "  Kilos Venta KG Precio Promedio CLP   y               yhat             Error  \\\n",
       "0             41  3516.2195121951218  41  47.16291202721127  6.16291202721127   \n",
       "\n",
       "  Mes  \n",
       "0   1  \n",
       "\n",
       "[1 rows x 22 columns]"
      ]
     },
     "execution_count": 9,
     "metadata": {},
     "output_type": "execute_result"
    }
   ],
   "source": [
    "prophet_Fest.head(1)"
   ]
  },
  {
   "cell_type": "code",
   "execution_count": 10,
   "id": "8226eef6",
   "metadata": {
    "executionInfo": {
     "elapsed": 608,
     "status": "aborted",
     "timestamp": 1622564194616,
     "user": {
      "displayName": "Emerson Gatica",
      "photoUrl": "https://lh3.googleusercontent.com/a-/AOh14GjKzasbyxCvXm6o33OIAlDM5H4HGLIiyVGh4HAjUfQ=s64",
      "userId": "09201646635679341405"
     },
     "user_tz": 240
    },
    "hidden": true,
    "id": "8226eef6"
   },
   "outputs": [
    {
     "data": {
      "text/plain": [
       "count            607\n",
       "unique           607\n",
       "top       2019-01-10\n",
       "freq               1\n",
       "Name: Día natural, dtype: object"
      ]
     },
     "execution_count": 10,
     "metadata": {},
     "output_type": "execute_result"
    }
   ],
   "source": [
    "prophet_Fest['Día natural'].describe()"
   ]
  },
  {
   "cell_type": "code",
   "execution_count": 11,
   "id": "cb148942",
   "metadata": {
    "executionInfo": {
     "elapsed": 608,
     "status": "aborted",
     "timestamp": 1622564194616,
     "user": {
      "displayName": "Emerson Gatica",
      "photoUrl": "https://lh3.googleusercontent.com/a-/AOh14GjKzasbyxCvXm6o33OIAlDM5H4HGLIiyVGh4HAjUfQ=s64",
      "userId": "09201646635679341405"
     },
     "user_tz": 240
    },
    "hidden": true,
    "id": "cb148942"
   },
   "outputs": [
    {
     "name": "stdout",
     "output_type": "stream",
     "text": [
      "cantidad de datos repetidos:  (607, 2)\n",
      "cantidad de dias repetidos:  0\n"
     ]
    }
   ],
   "source": [
    "def rep(df,i=0):\n",
    "    temp=df.groupby('Día natural').count()['Semana'].reset_index()\n",
    "    list_temp=temp[temp['Semana']>1]['Día natural'].to_list()\n",
    "    print('cantidad de datos repetidos: ',temp.shape)\n",
    "    print('cantidad de dias repetidos: ',len(list_temp))\n",
    "    #=======================================================\n",
    "    #return(df[df['Día natural']==list_temp[i]])\n",
    "\n",
    "rep(prophet_Fest,1)"
   ]
  },
  {
   "cell_type": "markdown",
   "id": "0fc60d86",
   "metadata": {
    "id": "0fc60d86"
   },
   "source": [
    "#### Separación "
   ]
  },
  {
   "cell_type": "code",
   "execution_count": 12,
   "id": "8cfa87d6",
   "metadata": {
    "executionInfo": {
     "elapsed": 609,
     "status": "aborted",
     "timestamp": 1622564194617,
     "user": {
      "displayName": "Emerson Gatica",
      "photoUrl": "https://lh3.googleusercontent.com/a-/AOh14GjKzasbyxCvXm6o33OIAlDM5H4HGLIiyVGh4HAjUfQ=s64",
      "userId": "09201646635679341405"
     },
     "user_tz": 240
    },
    "id": "8cfa87d6"
   },
   "outputs": [
    {
     "data": {
      "text/plain": [
       "'Kilos Venta KG'"
      ]
     },
     "execution_count": 12,
     "metadata": {},
     "output_type": "execute_result"
    }
   ],
   "source": [
    "prophet_Fest.columns[len(prophet_Fest.columns)-6]"
   ]
  },
  {
   "cell_type": "code",
   "execution_count": 13,
   "id": "7e54c98e",
   "metadata": {
    "executionInfo": {
     "elapsed": 609,
     "status": "aborted",
     "timestamp": 1622564194618,
     "user": {
      "displayName": "Emerson Gatica",
      "photoUrl": "https://lh3.googleusercontent.com/a-/AOh14GjKzasbyxCvXm6o33OIAlDM5H4HGLIiyVGh4HAjUfQ=s64",
      "userId": "09201646635679341405"
     },
     "user_tz": 240
    },
    "id": "7e54c98e"
   },
   "outputs": [],
   "source": [
    "#data.sort_values?"
   ]
  },
  {
   "cell_type": "code",
   "execution_count": 14,
   "id": "052deea3",
   "metadata": {
    "executionInfo": {
     "elapsed": 610,
     "status": "aborted",
     "timestamp": 1622564194619,
     "user": {
      "displayName": "Emerson Gatica",
      "photoUrl": "https://lh3.googleusercontent.com/a-/AOh14GjKzasbyxCvXm6o33OIAlDM5H4HGLIiyVGh4HAjUfQ=s64",
      "userId": "09201646635679341405"
     },
     "user_tz": 240
    },
    "id": "052deea3"
   },
   "outputs": [
    {
     "data": {
      "text/plain": [
       "0    2019-01-03\n",
       "1    2019-01-04\n",
       "2    2019-01-05\n",
       "3    2019-01-07\n",
       "4    2019-01-09\n",
       "Name: Día natural, dtype: object"
      ]
     },
     "execution_count": 14,
     "metadata": {},
     "output_type": "execute_result"
    }
   ],
   "source": [
    "#data.sort_values(\"First Name\", inplace=True)\n",
    "data=prophet_Fest.copy()\n",
    "data.sort_values('Día natural',ascending=True , inplace=True)\n",
    "data['Día natural'].head()"
   ]
  },
  {
   "cell_type": "markdown",
   "id": "2b72541f",
   "metadata": {
    "id": "2b72541f"
   },
   "source": [
    "Elimnando columnas que no son de interes"
   ]
  },
  {
   "cell_type": "code",
   "execution_count": 15,
   "id": "13c66a8d",
   "metadata": {
    "executionInfo": {
     "elapsed": 610,
     "status": "aborted",
     "timestamp": 1622564194619,
     "user": {
      "displayName": "Emerson Gatica",
      "photoUrl": "https://lh3.googleusercontent.com/a-/AOh14GjKzasbyxCvXm6o33OIAlDM5H4HGLIiyVGh4HAjUfQ=s64",
      "userId": "09201646635679341405"
     },
     "user_tz": 240
    },
    "id": "13c66a8d"
   },
   "outputs": [
    {
     "data": {
      "text/plain": [
       "Index(['año nuevo', 'Semana santa', 'Día Nacional del Trabajo',\n",
       "       'Día de las Glorias Navales', 'San Pedro y San Pablo',\n",
       "       'Día de la Virgen del Carmen', 'Asunción de la Virgen',\n",
       "       'Fiestas patrias(Viernes)', 'Encuentro de Dos Mundos',\n",
       "       'Día de Todos los Santos', 'Inmaculada Concepción', 'Navidad',\n",
       "       'Precio Promedio CLP'],\n",
       "      dtype='object')"
      ]
     },
     "execution_count": 15,
     "metadata": {},
     "output_type": "execute_result"
    }
   ],
   "source": [
    "Lista_De_Columns=data.columns[2:]\n",
    "\n",
    "#elimino la demanda\n",
    "Lista_De_Columns=Lista_De_Columns.drop('Kilos Venta KG')\n",
    "#elimino los dias naturales\n",
    "Lista_De_Columns=Lista_De_Columns.drop('Día natural')\n",
    "\n",
    "#elimino el feriado que viene con halloween\n",
    "Lista_De_Columns=Lista_De_Columns.drop('Día de las Iglesias Evangélicas y Protestantes')\n",
    "\n",
    "Lista_De_Columns=Lista_De_Columns.drop(['y', 'yhat','Error','Mes'])\n",
    "\n",
    "Lista_De_Columns"
   ]
  },
  {
   "cell_type": "code",
   "execution_count": 16,
   "id": "9907e942",
   "metadata": {
    "executionInfo": {
     "elapsed": 611,
     "status": "aborted",
     "timestamp": 1622564194620,
     "user": {
      "displayName": "Emerson Gatica",
      "photoUrl": "https://lh3.googleusercontent.com/a-/AOh14GjKzasbyxCvXm6o33OIAlDM5H4HGLIiyVGh4HAjUfQ=s64",
      "userId": "09201646635679341405"
     },
     "user_tz": 240
    },
    "id": "9907e942",
    "scrolled": false
   },
   "outputs": [
    {
     "name": "stdout",
     "output_type": "stream",
     "text": [
      "(607, 22)\n"
     ]
    },
    {
     "data": {
      "text/html": [
       "<div>\n",
       "<style scoped>\n",
       "    .dataframe tbody tr th:only-of-type {\n",
       "        vertical-align: middle;\n",
       "    }\n",
       "\n",
       "    .dataframe tbody tr th {\n",
       "        vertical-align: top;\n",
       "    }\n",
       "\n",
       "    .dataframe thead th {\n",
       "        text-align: right;\n",
       "    }\n",
       "</style>\n",
       "<table border=\"1\" class=\"dataframe\">\n",
       "  <thead>\n",
       "    <tr style=\"text-align: right;\">\n",
       "      <th></th>\n",
       "      <th>Año</th>\n",
       "      <th>Semana</th>\n",
       "      <th>año nuevo</th>\n",
       "      <th>Semana santa</th>\n",
       "      <th>Día Nacional del Trabajo</th>\n",
       "      <th>Día de las Glorias Navales</th>\n",
       "      <th>San Pedro y San Pablo</th>\n",
       "      <th>Día de la Virgen del Carmen</th>\n",
       "      <th>Asunción de la Virgen</th>\n",
       "      <th>Fiestas patrias(Viernes)</th>\n",
       "      <th>...</th>\n",
       "      <th>Día de Todos los Santos</th>\n",
       "      <th>Inmaculada Concepción</th>\n",
       "      <th>Navidad</th>\n",
       "      <th>Día natural</th>\n",
       "      <th>Kilos Venta KG</th>\n",
       "      <th>Precio Promedio CLP</th>\n",
       "      <th>y</th>\n",
       "      <th>yhat</th>\n",
       "      <th>Error</th>\n",
       "      <th>Mes</th>\n",
       "    </tr>\n",
       "  </thead>\n",
       "  <tbody>\n",
       "    <tr>\n",
       "      <th>502</th>\n",
       "      <td>2020</td>\n",
       "      <td>53</td>\n",
       "      <td>2.0</td>\n",
       "      <td>0.0</td>\n",
       "      <td>0.0</td>\n",
       "      <td>0.0</td>\n",
       "      <td>0.0</td>\n",
       "      <td>0.0</td>\n",
       "      <td>0.0</td>\n",
       "      <td>0.0</td>\n",
       "      <td>...</td>\n",
       "      <td>0.0</td>\n",
       "      <td>0.0</td>\n",
       "      <td>3.0</td>\n",
       "      <td>2020-12-31</td>\n",
       "      <td>85</td>\n",
       "      <td>3014.823529411765</td>\n",
       "      <td>85</td>\n",
       "      <td>161.84474001344157</td>\n",
       "      <td>76.84474001344157</td>\n",
       "      <td>12</td>\n",
       "    </tr>\n",
       "    <tr>\n",
       "      <th>503</th>\n",
       "      <td>2021</td>\n",
       "      <td>1</td>\n",
       "      <td>3.0</td>\n",
       "      <td>0.0</td>\n",
       "      <td>0.0</td>\n",
       "      <td>0.0</td>\n",
       "      <td>0.0</td>\n",
       "      <td>0.0</td>\n",
       "      <td>0.0</td>\n",
       "      <td>0.0</td>\n",
       "      <td>...</td>\n",
       "      <td>0.0</td>\n",
       "      <td>0.0</td>\n",
       "      <td>0.0</td>\n",
       "      <td>2021-01-05</td>\n",
       "      <td>84</td>\n",
       "      <td>5522.940476190476</td>\n",
       "      <td>84</td>\n",
       "      <td>109.76710066511573</td>\n",
       "      <td>25.767100665115734</td>\n",
       "      <td>1</td>\n",
       "    </tr>\n",
       "    <tr>\n",
       "      <th>504</th>\n",
       "      <td>2021</td>\n",
       "      <td>1</td>\n",
       "      <td>3.0</td>\n",
       "      <td>0.0</td>\n",
       "      <td>0.0</td>\n",
       "      <td>0.0</td>\n",
       "      <td>0.0</td>\n",
       "      <td>0.0</td>\n",
       "      <td>0.0</td>\n",
       "      <td>0.0</td>\n",
       "      <td>...</td>\n",
       "      <td>0.0</td>\n",
       "      <td>0.0</td>\n",
       "      <td>0.0</td>\n",
       "      <td>2021-01-06</td>\n",
       "      <td>65</td>\n",
       "      <td>4643.523076923077</td>\n",
       "      <td>65</td>\n",
       "      <td>237.98143715853558</td>\n",
       "      <td>172.98143715853558</td>\n",
       "      <td>1</td>\n",
       "    </tr>\n",
       "    <tr>\n",
       "      <th>505</th>\n",
       "      <td>2021</td>\n",
       "      <td>1</td>\n",
       "      <td>3.0</td>\n",
       "      <td>0.0</td>\n",
       "      <td>0.0</td>\n",
       "      <td>0.0</td>\n",
       "      <td>0.0</td>\n",
       "      <td>0.0</td>\n",
       "      <td>0.0</td>\n",
       "      <td>0.0</td>\n",
       "      <td>...</td>\n",
       "      <td>0.0</td>\n",
       "      <td>0.0</td>\n",
       "      <td>0.0</td>\n",
       "      <td>2021-01-07</td>\n",
       "      <td>112</td>\n",
       "      <td>4471.044642857143</td>\n",
       "      <td>112</td>\n",
       "      <td>230.8687097306912</td>\n",
       "      <td>118.8687097306912</td>\n",
       "      <td>1</td>\n",
       "    </tr>\n",
       "    <tr>\n",
       "      <th>506</th>\n",
       "      <td>2021</td>\n",
       "      <td>1</td>\n",
       "      <td>3.0</td>\n",
       "      <td>0.0</td>\n",
       "      <td>0.0</td>\n",
       "      <td>0.0</td>\n",
       "      <td>0.0</td>\n",
       "      <td>0.0</td>\n",
       "      <td>0.0</td>\n",
       "      <td>0.0</td>\n",
       "      <td>...</td>\n",
       "      <td>0.0</td>\n",
       "      <td>0.0</td>\n",
       "      <td>0.0</td>\n",
       "      <td>2021-01-08</td>\n",
       "      <td>160</td>\n",
       "      <td>4527.78125</td>\n",
       "      <td>160</td>\n",
       "      <td>302.851263686609</td>\n",
       "      <td>142.851263686609</td>\n",
       "      <td>1</td>\n",
       "    </tr>\n",
       "  </tbody>\n",
       "</table>\n",
       "<p>5 rows × 22 columns</p>\n",
       "</div>"
      ],
      "text/plain": [
       "      Año  Semana año nuevo Semana santa Día Nacional del Trabajo  \\\n",
       "502  2020      53       2.0          0.0                      0.0   \n",
       "503  2021       1       3.0          0.0                      0.0   \n",
       "504  2021       1       3.0          0.0                      0.0   \n",
       "505  2021       1       3.0          0.0                      0.0   \n",
       "506  2021       1       3.0          0.0                      0.0   \n",
       "\n",
       "    Día de las Glorias Navales San Pedro y San Pablo  \\\n",
       "502                        0.0                   0.0   \n",
       "503                        0.0                   0.0   \n",
       "504                        0.0                   0.0   \n",
       "505                        0.0                   0.0   \n",
       "506                        0.0                   0.0   \n",
       "\n",
       "    Día de la Virgen del Carmen Asunción de la Virgen  \\\n",
       "502                         0.0                   0.0   \n",
       "503                         0.0                   0.0   \n",
       "504                         0.0                   0.0   \n",
       "505                         0.0                   0.0   \n",
       "506                         0.0                   0.0   \n",
       "\n",
       "    Fiestas patrias(Viernes)  ... Día de Todos los Santos  \\\n",
       "502                      0.0  ...                     0.0   \n",
       "503                      0.0  ...                     0.0   \n",
       "504                      0.0  ...                     0.0   \n",
       "505                      0.0  ...                     0.0   \n",
       "506                      0.0  ...                     0.0   \n",
       "\n",
       "    Inmaculada Concepción Navidad Día natural Kilos Venta KG  \\\n",
       "502                   0.0     3.0  2020-12-31             85   \n",
       "503                   0.0     0.0  2021-01-05             84   \n",
       "504                   0.0     0.0  2021-01-06             65   \n",
       "505                   0.0     0.0  2021-01-07            112   \n",
       "506                   0.0     0.0  2021-01-08            160   \n",
       "\n",
       "    Precio Promedio CLP    y                yhat               Error Mes  \n",
       "502   3014.823529411765   85  161.84474001344157   76.84474001344157  12  \n",
       "503   5522.940476190476   84  109.76710066511573  25.767100665115734   1  \n",
       "504   4643.523076923077   65  237.98143715853558  172.98143715853558   1  \n",
       "505   4471.044642857143  112   230.8687097306912   118.8687097306912   1  \n",
       "506          4527.78125  160    302.851263686609    142.851263686609   1  \n",
       "\n",
       "[5 rows x 22 columns]"
      ]
     },
     "execution_count": 16,
     "metadata": {},
     "output_type": "execute_result"
    }
   ],
   "source": [
    "print(data.shape)\n",
    "data[data['Año']>2020].head()\n",
    "\n",
    "data.iloc[502:].head()"
   ]
  },
  {
   "cell_type": "code",
   "execution_count": 17,
   "id": "02aee106",
   "metadata": {},
   "outputs": [
    {
     "data": {
      "text/html": [
       "<div>\n",
       "<style scoped>\n",
       "    .dataframe tbody tr th:only-of-type {\n",
       "        vertical-align: middle;\n",
       "    }\n",
       "\n",
       "    .dataframe tbody tr th {\n",
       "        vertical-align: top;\n",
       "    }\n",
       "\n",
       "    .dataframe thead th {\n",
       "        text-align: right;\n",
       "    }\n",
       "</style>\n",
       "<table border=\"1\" class=\"dataframe\">\n",
       "  <thead>\n",
       "    <tr style=\"text-align: right;\">\n",
       "      <th></th>\n",
       "      <th>Año</th>\n",
       "      <th>Semana</th>\n",
       "      <th>año nuevo</th>\n",
       "      <th>Semana santa</th>\n",
       "      <th>Día Nacional del Trabajo</th>\n",
       "      <th>Día de las Glorias Navales</th>\n",
       "      <th>San Pedro y San Pablo</th>\n",
       "      <th>Día de la Virgen del Carmen</th>\n",
       "      <th>Asunción de la Virgen</th>\n",
       "      <th>Fiestas patrias(Viernes)</th>\n",
       "      <th>...</th>\n",
       "      <th>Día de Todos los Santos</th>\n",
       "      <th>Inmaculada Concepción</th>\n",
       "      <th>Navidad</th>\n",
       "      <th>Día natural</th>\n",
       "      <th>Kilos Venta KG</th>\n",
       "      <th>Precio Promedio CLP</th>\n",
       "      <th>y</th>\n",
       "      <th>yhat</th>\n",
       "      <th>Error</th>\n",
       "      <th>Mes</th>\n",
       "    </tr>\n",
       "  </thead>\n",
       "  <tbody>\n",
       "  </tbody>\n",
       "</table>\n",
       "<p>0 rows × 22 columns</p>\n",
       "</div>"
      ],
      "text/plain": [
       "Empty DataFrame\n",
       "Columns: [Año, Semana, año nuevo, Semana santa, Día Nacional del Trabajo, Día de las Glorias Navales, San Pedro y San Pablo, Día de la Virgen del Carmen, Asunción de la Virgen, Fiestas patrias(Viernes), Encuentro de Dos Mundos, Día de las Iglesias Evangélicas y Protestantes, Día de Todos los Santos, Inmaculada Concepción, Navidad, Día natural, Kilos Venta KG, Precio Promedio CLP, y, yhat, Error, Mes]\n",
       "Index: []\n",
       "\n",
       "[0 rows x 22 columns]"
      ]
     },
     "execution_count": 17,
     "metadata": {},
     "output_type": "execute_result"
    }
   ],
   "source": [
    "data['Error'].isnull().sum()\n",
    "data[data['Precio Promedio CLP'].isnull()== True]"
   ]
  },
  {
   "cell_type": "code",
   "execution_count": 18,
   "id": "e7b30661",
   "metadata": {
    "executionInfo": {
     "elapsed": 611,
     "status": "aborted",
     "timestamp": 1622564194620,
     "user": {
      "displayName": "Emerson Gatica",
      "photoUrl": "https://lh3.googleusercontent.com/a-/AOh14GjKzasbyxCvXm6o33OIAlDM5H4HGLIiyVGh4HAjUfQ=s64",
      "userId": "09201646635679341405"
     },
     "user_tz": 240
    },
    "id": "e7b30661",
    "scrolled": true
   },
   "outputs": [],
   "source": [
    "data['Precio Promedio CLP']=data['Precio Promedio CLP'].astype('float64')\n",
    "data['Error']=data['Error'].astype('float64')\n",
    "\n",
    "data['Precio Promedio CLP']=data['Precio Promedio CLP'].astype('int64')\n",
    "data['Error']=data['Error'].astype('int64')\n",
    "\n",
    "corte=502\n",
    "(train_data, train_targets)=(data[Lista_De_Columns].iloc[:corte].copy(),data['Error'].iloc[:corte].copy().to_numpy())\n",
    "\n",
    "(test_data, test_targets) = (data[Lista_De_Columns].iloc[corte:].copy(),data['Error'].iloc[corte:].copy().to_numpy())"
   ]
  },
  {
   "cell_type": "markdown",
   "id": "2a8432ce",
   "metadata": {
    "id": "2a8432ce"
   },
   "source": [
    "``` python\n",
    "(train_data, train_targets), (test_data, test_targets) =  boston_housing.load_data()\n",
    "prophet_Fest.head()\n",
    "``` "
   ]
  },
  {
   "cell_type": "markdown",
   "id": "f0e00d72",
   "metadata": {
    "id": "f0e00d72"
   },
   "source": [
    "#### Trasnformar categorias en variables dummys "
   ]
  },
  {
   "cell_type": "code",
   "execution_count": 19,
   "id": "0b01761b",
   "metadata": {
    "executionInfo": {
     "elapsed": 611,
     "status": "aborted",
     "timestamp": 1622564194621,
     "user": {
      "displayName": "Emerson Gatica",
      "photoUrl": "https://lh3.googleusercontent.com/a-/AOh14GjKzasbyxCvXm6o33OIAlDM5H4HGLIiyVGh4HAjUfQ=s64",
      "userId": "09201646635679341405"
     },
     "user_tz": 240
    },
    "id": "0b01761b"
   },
   "outputs": [
    {
     "name": "stdout",
     "output_type": "stream",
     "text": [
      "(502, 37) (105, 37)\n"
     ]
    }
   ],
   "source": [
    "#from sklearn.model_selection import train_test_split\n",
    "def dummy_trsf(Train,Test,Cols):\n",
    "    X=Train.copy()\n",
    "    X['Precio Promedio CLP'].astype('int64')\n",
    "    meanP=X['Precio Promedio CLP'].mean()\n",
    "    sdP=X['Precio Promedio CLP'].std()\n",
    "    X['Precio Promedio CLP']=X['Precio Promedio CLP']-meanP\n",
    "    X['Precio Promedio CLP']=X['Precio Promedio CLP']/sdP\n",
    "    for i in Cols:\n",
    "        X[i]=X[i].astype('category')\n",
    "    \n",
    "    \n",
    "    \n",
    "    XT=Test.copy()\n",
    "    XT['Precio Promedio CLP'].astype('int64')\n",
    "    XT['Precio Promedio CLP']=XT['Precio Promedio CLP']-meanP\n",
    "    XT['Precio Promedio CLP']=XT['Precio Promedio CLP']/sdP\n",
    "    \n",
    "    for i in Cols:\n",
    "        XT[i]=XT[i].astype('category')\n",
    "    #X.dtypes\n",
    "    \n",
    "    \n",
    "    X_uni=pd.concat([X, XT], ignore_index=True)\n",
    "    intercept=X.shape[0]\n",
    "    #print(X_uni.dtypes)\n",
    "    #=======================================\n",
    "    X=pd.get_dummies(X_uni, drop_first=True).iloc[:intercept]\n",
    "    \n",
    "    XT=pd.get_dummies(X_uni, drop_first=True).iloc[intercept:]\n",
    "    #=======================================\n",
    "    return(X.to_numpy(),XT.to_numpy())\n",
    "#(train_data,test_data)=\n",
    "#(TR,TE)=dummy_trsf(train_data,test_data,Lista_De_Columns.drop('Precio Promedio CLP'))\n",
    "#print(TR.shape,TE.shape)\n",
    "(train_data,test_data)=dummy_trsf(train_data,test_data,Lista_De_Columns.drop('Precio Promedio CLP'))\n",
    "print(train_data.shape,test_data.shape)"
   ]
  },
  {
   "cell_type": "code",
   "execution_count": 20,
   "id": "33ed1798",
   "metadata": {
    "executionInfo": {
     "elapsed": 611,
     "status": "aborted",
     "timestamp": 1622564194621,
     "user": {
      "displayName": "Emerson Gatica",
      "photoUrl": "https://lh3.googleusercontent.com/a-/AOh14GjKzasbyxCvXm6o33OIAlDM5H4HGLIiyVGh4HAjUfQ=s64",
      "userId": "09201646635679341405"
     },
     "user_tz": 240
    },
    "id": "33ed1798"
   },
   "outputs": [
    {
     "name": "stdout",
     "output_type": "stream",
     "text": [
      "data (105, 37) target (105,)\n"
     ]
    }
   ],
   "source": [
    "print('data',test_data.shape\n",
    ",'target',test_targets.shape)"
   ]
  },
  {
   "cell_type": "code",
   "execution_count": null,
   "id": "0a168845",
   "metadata": {
    "executionInfo": {
     "elapsed": 610,
     "status": "aborted",
     "timestamp": 1622564194621,
     "user": {
      "displayName": "Emerson Gatica",
      "photoUrl": "https://lh3.googleusercontent.com/a-/AOh14GjKzasbyxCvXm6o33OIAlDM5H4HGLIiyVGh4HAjUfQ=s64",
      "userId": "09201646635679341405"
     },
     "user_tz": 240
    },
    "id": "0a168845"
   },
   "outputs": [],
   "source": []
  },
  {
   "cell_type": "markdown",
   "id": "63e8304b",
   "metadata": {
    "id": "63e8304b"
   },
   "source": [
    "### Import "
   ]
  },
  {
   "cell_type": "code",
   "execution_count": 21,
   "id": "bcf40b52",
   "metadata": {
    "executionInfo": {
     "elapsed": 611,
     "status": "aborted",
     "timestamp": 1622564194622,
     "user": {
      "displayName": "Emerson Gatica",
      "photoUrl": "https://lh3.googleusercontent.com/a-/AOh14GjKzasbyxCvXm6o33OIAlDM5H4HGLIiyVGh4HAjUfQ=s64",
      "userId": "09201646635679341405"
     },
     "user_tz": 240
    },
    "id": "bcf40b52"
   },
   "outputs": [
    {
     "ename": "ModuleNotFoundError",
     "evalue": "No module named 'keras'",
     "output_type": "error",
     "traceback": [
      "\u001b[1;31m---------------------------------------------------------------------------\u001b[0m",
      "\u001b[1;31mModuleNotFoundError\u001b[0m                       Traceback (most recent call last)",
      "\u001b[1;32m<ipython-input-21-804e60a884c4>\u001b[0m in \u001b[0;36m<module>\u001b[1;34m\u001b[0m\n\u001b[0;32m      1\u001b[0m \u001b[1;31m# Global imports and settings\u001b[0m\u001b[1;33m\u001b[0m\u001b[1;33m\u001b[0m\u001b[1;33m\u001b[0m\u001b[0m\n\u001b[0;32m      2\u001b[0m \u001b[1;31m#from preamble import *\u001b[0m\u001b[1;33m\u001b[0m\u001b[1;33m\u001b[0m\u001b[1;33m\u001b[0m\u001b[0m\n\u001b[1;32m----> 3\u001b[1;33m \u001b[1;32mimport\u001b[0m \u001b[0mkeras\u001b[0m\u001b[1;33m\u001b[0m\u001b[1;33m\u001b[0m\u001b[0m\n\u001b[0m\u001b[0;32m      4\u001b[0m \u001b[0mprint\u001b[0m\u001b[1;33m(\u001b[0m\u001b[1;34m\"Using Keras\"\u001b[0m\u001b[1;33m,\u001b[0m\u001b[0mkeras\u001b[0m\u001b[1;33m.\u001b[0m\u001b[0m__version__\u001b[0m\u001b[1;33m)\u001b[0m\u001b[1;33m\u001b[0m\u001b[1;33m\u001b[0m\u001b[0m\n\u001b[0;32m      5\u001b[0m \u001b[0mget_ipython\u001b[0m\u001b[1;33m(\u001b[0m\u001b[1;33m)\u001b[0m\u001b[1;33m.\u001b[0m\u001b[0mrun_line_magic\u001b[0m\u001b[1;33m(\u001b[0m\u001b[1;34m'matplotlib'\u001b[0m\u001b[1;33m,\u001b[0m \u001b[1;34m'inline'\u001b[0m\u001b[1;33m)\u001b[0m\u001b[1;33m\u001b[0m\u001b[1;33m\u001b[0m\u001b[0m\n",
      "\u001b[1;31mModuleNotFoundError\u001b[0m: No module named 'keras'"
     ]
    }
   ],
   "source": [
    "# Global imports and settings\n",
    "#from preamble import *\n",
    "import keras\n",
    "print(\"Using Keras\",keras.__version__)\n",
    "%matplotlib inline\n",
    "plt.rcParams['figure.dpi'] = 125 # Use 300 for PDF, 100 for slides\n",
    "# InteractiveShell.ast_node_interactivity = \"all\"\n",
    "#HTML('''<style>html, body{overflow-y: visible !important} .CodeMirror{min-width:105% !important;} .rise-enabled .CodeMirror, .rise-enabled .output_subarea{font-size:140%; line-height:1.2; overflow: visible;} .output_subarea pre{width:110%}</style>''') # For slides"
   ]
  },
  {
   "cell_type": "code",
   "execution_count": null,
   "id": "881620d7",
   "metadata": {
    "executionInfo": {
     "elapsed": 611,
     "status": "aborted",
     "timestamp": 1622564194622,
     "user": {
      "displayName": "Emerson Gatica",
      "photoUrl": "https://lh3.googleusercontent.com/a-/AOh14GjKzasbyxCvXm6o33OIAlDM5H4HGLIiyVGh4HAjUfQ=s64",
      "userId": "09201646635679341405"
     },
     "user_tz": 240
    },
    "id": "881620d7"
   },
   "outputs": [],
   "source": [
    "from keras import models\n",
    "from keras import layers "
   ]
  },
  {
   "cell_type": "markdown",
   "id": "64269e7f",
   "metadata": {
    "id": "64269e7f"
   },
   "source": [
    "Para tener más control, puede crear explícitamente el optimizador, la pérdida y las métricas:\n",
    "\n",
    "``` python\n",
    "from keras import optimizers\n",
    "from keras import losses\n",
    "from keras import metrics\n",
    "model.compile(optimizer=optimizers.RMSprop(lr=0.001),\n",
    "              loss=losses.binary_crossentropy,\n",
    "              metrics=[metrics.binary_accuracy])\n",
    "```"
   ]
  },
  {
   "cell_type": "markdown",
   "id": "33af86b6",
   "metadata": {
    "id": "33af86b6"
   },
   "source": [
    "### Construyendo la red\n",
    "* Este es un conjunto de datos pequeño, muy fácil de sobreajustar\n",
    "    * Usamos 2 capas ocultas de 64 unidades cada una\n",
    "* Utilice lotes más pequeños, más épocas\n",
    "* Como queremos una salida escalar, la capa de salida es una unidad sin activación\n",
    "* Loss function es Mean Squared Error (mayor penalización)\n",
    "* La métrica de evaluación es Mean Absolute Error (más interpretable)\n",
    "* También usaremos cross-validation, así que envolvemos la construcción del modelo en una función, de modo que podamos llamarla varias veces"
   ]
  },
  {
   "cell_type": "markdown",
   "id": "24db6dc6",
   "metadata": {
    "id": "24db6dc6"
   },
   "source": [
    "``` python\n",
    "def build_model():\n",
    "    model = models.Sequential()\n",
    "    model.add(layers.Dense(64, activation='relu',\n",
    "                           input_shape=(train_data.shape[1],)))\n",
    "    model.add(layers.Dense(64, activation='relu'))\n",
    "    model.add(layers.Dense(1))\n",
    "    model.compile(optimizer='rmsprop', loss='mse', metrics=['mae'])\n",
    "    return model\n",
    "```"
   ]
  },
  {
   "cell_type": "code",
   "execution_count": null,
   "id": "fc126ee6",
   "metadata": {
    "executionInfo": {
     "elapsed": 610,
     "status": "aborted",
     "timestamp": 1622564194622,
     "user": {
      "displayName": "Emerson Gatica",
      "photoUrl": "https://lh3.googleusercontent.com/a-/AOh14GjKzasbyxCvXm6o33OIAlDM5H4HGLIiyVGh4HAjUfQ=s64",
      "userId": "09201646635679341405"
     },
     "user_tz": 240
    },
    "id": "fc126ee6"
   },
   "outputs": [],
   "source": [
    "def build_model():\n",
    "    model = models.Sequential()\n",
    "    model.add(layers.Dense(34, activation='relu',\n",
    "                           input_shape=(train_data.shape[1],)))\n",
    "    model.add(layers.Dense(34, activation='relu'))\n",
    "    model.add(layers.Dense(1))\n",
    "    model.compile(optimizer='rmsprop', loss='mse', metrics=['mae'])\n",
    "    return model"
   ]
  },
  {
   "cell_type": "markdown",
   "id": "b8fb9ad9",
   "metadata": {
    "id": "b8fb9ad9"
   },
   "source": [
    "```python\n",
    "# TODO: Check why MAE is different. Should actually use a pipeline\n",
    "from sklearn.model_selection import cross_val_score\n",
    "clf = KerasClassifier(build_model)\n",
    "X = np.concatenate([train_data,test_data],axis=0)\n",
    "y = np.concatenate([train_targets,test_targets],axis=0)\n",
    "score = cross_val_score(clf, train_data, train_targets, scoring='neg_mean_absolute_error', cv=4,\n",
    "                        fit_params={'epochs': 10, 'batch_size':1, 'verbose':0});\n",
    "print(\"MAE: \", -np.mean(score))\n",
    "```"
   ]
  },
  {
   "cell_type": "code",
   "execution_count": null,
   "id": "b04bf4ba",
   "metadata": {
    "executionInfo": {
     "elapsed": 611,
     "status": "aborted",
     "timestamp": 1622564194623,
     "user": {
      "displayName": "Emerson Gatica",
      "photoUrl": "https://lh3.googleusercontent.com/a-/AOh14GjKzasbyxCvXm6o33OIAlDM5H4HGLIiyVGh4HAjUfQ=s64",
      "userId": "09201646635679341405"
     },
     "user_tz": 240
    },
    "id": "b04bf4ba"
   },
   "outputs": [],
   "source": [
    "import numpy as np\n",
    "\n",
    "k = 4\n",
    "num_val_samples = len(train_data) // k\n",
    "num_epochs = 10\n",
    "all_scores = []\n",
    "for i in range(k):\n",
    "    print('processing fold #', i)\n",
    "    # Prepare the validation data: data from partition # k\n",
    "    val_data = train_data[i * num_val_samples: (i + 1) * num_val_samples]\n",
    "    val_targets = train_targets[i * num_val_samples: (i + 1) * num_val_samples]\n",
    "\n",
    "    # Prepare the training data: data from all other partitions\n",
    "    partial_train_data = np.concatenate(\n",
    "        [train_data[:i * num_val_samples],\n",
    "         train_data[(i + 1) * num_val_samples:]],\n",
    "        axis=0)\n",
    "    partial_train_targets = np.concatenate(\n",
    "        [train_targets[:i * num_val_samples],\n",
    "         train_targets[(i + 1) * num_val_samples:]],\n",
    "        axis=0)\n",
    "\n",
    "    # Build the Keras model (already compiled)\n",
    "    model = build_model()\n",
    "    # Train the model (in silent mode, verbose=0)\n",
    "    model.fit(partial_train_data, partial_train_targets,\n",
    "              epochs=num_epochs, batch_size=1, verbose=0)\n",
    "    # Evaluate the model on the validation data\n",
    "    val_mse, val_mae = model.evaluate(val_data, val_targets, verbose=0)\n",
    "    all_scores.append(val_mae)"
   ]
  },
  {
   "cell_type": "code",
   "execution_count": null,
   "id": "1bb1c59f",
   "metadata": {
    "executionInfo": {
     "elapsed": 611,
     "status": "aborted",
     "timestamp": 1622564194623,
     "user": {
      "displayName": "Emerson Gatica",
      "photoUrl": "https://lh3.googleusercontent.com/a-/AOh14GjKzasbyxCvXm6o33OIAlDM5H4HGLIiyVGh4HAjUfQ=s64",
      "userId": "09201646635679341405"
     },
     "user_tz": 240
    },
    "id": "1bb1c59f"
   },
   "outputs": [],
   "source": [
    "print(\"MAE: \", np.mean(all_scores))"
   ]
  },
  {
   "cell_type": "markdown",
   "id": "1ce8c68e",
   "metadata": {
    "id": "1ce8c68e"
   },
   "source": [
    "Entrena durante más tiempo (500 épocas) y realiza un seguimiento de las pérdidas después de cada época\n",
    "(ver código en el notebook)"
   ]
  },
  {
   "cell_type": "code",
   "execution_count": null,
   "id": "19dc1fcb",
   "metadata": {
    "executionInfo": {
     "elapsed": 611,
     "status": "aborted",
     "timestamp": 1622564194623,
     "user": {
      "displayName": "Emerson Gatica",
      "photoUrl": "https://lh3.googleusercontent.com/a-/AOh14GjKzasbyxCvXm6o33OIAlDM5H4HGLIiyVGh4HAjUfQ=s64",
      "userId": "09201646635679341405"
     },
     "user_tz": 240
    },
    "id": "19dc1fcb"
   },
   "outputs": [],
   "source": [
    "from keras import backend as K\n",
    "K.clear_session() # Memory clean-up\n",
    "\n",
    "num_epochs = 500\n",
    "all_mae_histories = []\n",
    "for i in range(k):\n",
    "    print('processing fold #', i)\n",
    "    # Prepare the validation data: data from partition # k\n",
    "    val_data = train_data[i * num_val_samples: (i + 1) * num_val_samples]\n",
    "    val_targets = train_targets[i * num_val_samples: (i + 1) * num_val_samples]\n",
    "\n",
    "    # Prepare the training data: data from all other partitions\n",
    "    partial_train_data = np.concatenate(\n",
    "        [train_data[:i * num_val_samples],\n",
    "         train_data[(i + 1) * num_val_samples:]],\n",
    "        axis=0)\n",
    "    partial_train_targets = np.concatenate(\n",
    "        [train_targets[:i * num_val_samples],\n",
    "         train_targets[(i + 1) * num_val_samples:]],\n",
    "        axis=0)\n",
    "\n",
    "    # Build the Keras model (already compiled)\n",
    "    model = build_model()\n",
    "    # Train the model (in silent mode, verbose=0)\n",
    "    history = model.fit(partial_train_data, partial_train_targets,\n",
    "                        validation_data=(val_data, val_targets),\n",
    "                        epochs=num_epochs, batch_size=1, verbose=0)\n",
    "    mae_history = history.history['val_mae']\n",
    "    all_mae_histories.append(mae_history)"
   ]
  },
  {
   "cell_type": "markdown",
   "id": "7b71345c",
   "metadata": {
    "id": "7b71345c"
   },
   "source": [
    "El modelo comienza a sobreajustarse después de la época 80."
   ]
  },
  {
   "cell_type": "code",
   "execution_count": null,
   "id": "efb0ea76",
   "metadata": {
    "executionInfo": {
     "elapsed": 614,
     "status": "aborted",
     "timestamp": 1622564194626,
     "user": {
      "displayName": "Emerson Gatica",
      "photoUrl": "https://lh3.googleusercontent.com/a-/AOh14GjKzasbyxCvXm6o33OIAlDM5H4HGLIiyVGh4HAjUfQ=s64",
      "userId": "09201646635679341405"
     },
     "user_tz": 240
    },
    "id": "efb0ea76"
   },
   "outputs": [],
   "source": [
    "average_mae_history = [\n",
    "    np.mean([x[i] for x in all_mae_histories]) for i in range(num_epochs)]\n",
    "plt.plot(range(1, len(average_mae_history) + 1), average_mae_history)\n",
    "plt.xlabel('Epochs')\n",
    "plt.ylabel('Validation MAE')\n",
    "plt.show()"
   ]
  },
  {
   "cell_type": "code",
   "execution_count": null,
   "id": "49a4e4c5",
   "metadata": {
    "executionInfo": {
     "elapsed": 614,
     "status": "aborted",
     "timestamp": 1622564194626,
     "user": {
      "displayName": "Emerson Gatica",
      "photoUrl": "https://lh3.googleusercontent.com/a-/AOh14GjKzasbyxCvXm6o33OIAlDM5H4HGLIiyVGh4HAjUfQ=s64",
      "userId": "09201646635679341405"
     },
     "user_tz": 240
    },
    "id": "efb0ea76",
    "scrolled": false
   },
   "outputs": [],
   "source": [
    "average_mae_history = [\n",
    "    np.mean([x[i] for x in all_mae_histories]) for i in range(num_epochs)]\n",
    "plt.plot(range(1, len(average_mae_history[:101]) + 1), average_mae_history[:101])\n",
    "plt.xlabel('Epochs')\n",
    "plt.ylabel('Validation MAE')\n",
    "plt.show()"
   ]
  },
  {
   "cell_type": "code",
   "execution_count": null,
   "id": "92c5489b",
   "metadata": {
    "scrolled": true
   },
   "outputs": [],
   "source": [
    "average_mae_history"
   ]
  },
  {
   "cell_type": "code",
   "execution_count": null,
   "id": "db13b64a",
   "metadata": {
    "executionInfo": {
     "elapsed": 613,
     "status": "aborted",
     "timestamp": 1622564194626,
     "user": {
      "displayName": "Emerson Gatica",
      "photoUrl": "https://lh3.googleusercontent.com/a-/AOh14GjKzasbyxCvXm6o33OIAlDM5H4HGLIiyVGh4HAjUfQ=s64",
      "userId": "09201646635679341405"
     },
     "user_tz": 240
    },
    "id": "db13b64a"
   },
   "outputs": [],
   "source": [
    "#============================================\n",
    "# MAE de prophet(General)\n",
    "#============================================\n",
    "data.Error.abs().sum()/data.shape[0]"
   ]
  },
  {
   "cell_type": "markdown",
   "id": "c4679bb3",
   "metadata": {
    "id": "c4679bb3"
   },
   "source": [
    "MAE=proht y es 2.227\n",
    "\n",
    "MAE ANN Error Proht sobrey es 2.220 \n",
    "\n",
    "esta mejornado o no?\n",
    "\n",
    "\n",
    "\n",
    "ANN()"
   ]
  },
  {
   "cell_type": "markdown",
   "id": "eac8850a",
   "metadata": {
    "id": "eac8850a"
   },
   "source": [
    "Vuelva a entrenar con un número optimizado de épocas\n",
    "\n",
    "``` python\n",
    "model = build_model()\n",
    "model.fit(train_data, train_targets,\n",
    "          epochs=80, batch_size=16, verbose=0)\n",
    "```"
   ]
  },
  {
   "cell_type": "code",
   "execution_count": null,
   "id": "3baf1127",
   "metadata": {
    "executionInfo": {
     "elapsed": 614,
     "status": "aborted",
     "timestamp": 1622564194627,
     "user": {
      "displayName": "Emerson Gatica",
      "photoUrl": "https://lh3.googleusercontent.com/a-/AOh14GjKzasbyxCvXm6o33OIAlDM5H4HGLIiyVGh4HAjUfQ=s64",
      "userId": "09201646635679341405"
     },
     "user_tz": 240
    },
    "id": "3baf1127"
   },
   "outputs": [],
   "source": [
    "model.fit?"
   ]
  },
  {
   "cell_type": "code",
   "execution_count": null,
   "id": "f84c8f18",
   "metadata": {
    "executionInfo": {
     "elapsed": 614,
     "status": "aborted",
     "timestamp": 1622564194627,
     "user": {
      "displayName": "Emerson Gatica",
      "photoUrl": "https://lh3.googleusercontent.com/a-/AOh14GjKzasbyxCvXm6o33OIAlDM5H4HGLIiyVGh4HAjUfQ=s64",
      "userId": "09201646635679341405"
     },
     "user_tz": 240
    },
    "id": "f84c8f18",
    "scrolled": true
   },
   "outputs": [],
   "source": [
    "# Get a fresh, compiled model.\n",
    "model = build_model()\n",
    "# Train it on the entirety of the data.\n",
    "model.fit(train_data, train_targets,\n",
    "          epochs=100,# batch_size=16, \n",
    "          verbose=0)\n",
    "test_mse_score, test_mae_score = model.evaluate(test_data, test_targets)\n",
    "print(\"MAE: \", test_mae_score)"
   ]
  },
  {
   "cell_type": "markdown",
   "id": "934a36c3",
   "metadata": {},
   "source": [
    "\\begin{equation} \n",
    "Prediccion final= Ypred(prophe)+Epredecido(predecido/con/ANN)\n",
    "\\end{equation}\n",
    "\n"
   ]
  },
  {
   "cell_type": "markdown",
   "id": "87f99f1b",
   "metadata": {
    "heading_collapsed": true,
    "id": "87f99f1b"
   },
   "source": [
    "### Cross-validation\n",
    "* Keras no tiene soporte para cross-validation\n",
    "* Afortunadamente, podemos ajustar (o envolver) un modelo de Keras como una estimación de scikit-learn\n",
    "* También podemos implementar cross-validation nosotros mismos (ver notebook)\n",
    "* Generalmente hablando, cross-validation es complicado con las redes neuronales\n",
    "    * Es posible que algunas dobladas no converjan o fluctúen en la inicialización aleatoria.\n",
    "    \n",
    "``` python\n",
    "clf = KerasClassifier(build_model)\n",
    "score = cross_val_score(clf, train_data, train_targets, scoring='neg_mean_absolute_error', cv=4, fit_params={'epochs': 100, 'batch_size':1, 'verbose':0});\n",
    "```"
   ]
  },
  {
   "cell_type": "code",
   "execution_count": null,
   "id": "0e15a08c",
   "metadata": {
    "executionInfo": {
     "elapsed": 615,
     "status": "aborted",
     "timestamp": 1622564194628,
     "user": {
      "displayName": "Emerson Gatica",
      "photoUrl": "https://lh3.googleusercontent.com/a-/AOh14GjKzasbyxCvXm6o33OIAlDM5H4HGLIiyVGh4HAjUfQ=s64",
      "userId": "09201646635679341405"
     },
     "user_tz": 240
    },
    "hidden": true,
    "id": "0e15a08c"
   },
   "outputs": [],
   "source": [
    "from keras.wrappers.scikit_learn import KerasClassifier, KerasRegressor\n",
    "from sklearn.model_selection import GridSearchCV\n",
    "\n",
    "def make_model(optimizer=\"adam\", hidden_size=32):\n",
    "    model = models.Sequential()\n",
    "    model.add(layers.Dense(16, activation='relu', input_shape=(10000,)))\n",
    "    model.add(layers.Dense(16, activation='relu'))\n",
    "    model.add(layers.Dense(1, activation='sigmoid'))\n",
    "\n",
    "    model.compile(optimizer='rmsprop',\n",
    "                  loss='binary_crossentropy',\n",
    "                  metrics=['accuracy'])\n",
    "    return model\n",
    "\n",
    "clf = KerasClassifier(make_model)\n",
    "param_grid = {'epochs': [1, 5, 10],  # epochs is fit parameter, not in make_model!\n",
    "              'hidden_size': [32, 64, 256],\n",
    "              'verbose' : [0]}\n",
    "grid = GridSearchCV(clf, param_grid=param_grid, cv=3)\n",
    "grid.fit(x_train, y_train)"
   ]
  },
  {
   "cell_type": "code",
   "execution_count": null,
   "id": "b629636d",
   "metadata": {
    "executionInfo": {
     "elapsed": 615,
     "status": "aborted",
     "timestamp": 1622564194628,
     "user": {
      "displayName": "Emerson Gatica",
      "photoUrl": "https://lh3.googleusercontent.com/a-/AOh14GjKzasbyxCvXm6o33OIAlDM5H4HGLIiyVGh4HAjUfQ=s64",
      "userId": "09201646635679341405"
     },
     "user_tz": 240
    },
    "hidden": true,
    "id": "b629636d"
   },
   "outputs": [],
   "source": [
    "# TODO: Check why MAE is different. Should actually use a pipeline\n",
    "from sklearn.model_selection import cross_val_score\n",
    "clf = KerasClassifier(build_model)\n",
    "X = np.concatenate([train_data,test_data],axis=0)\n",
    "y = np.concatenate([train_targets,test_targets],axis=0)\n",
    "score = cross_val_score(clf, train_data, train_targets, scoring='neg_mean_absolute_error', cv=4,\n",
    "                        fit_params={'epochs': 100, 'batch_size':1, 'verbose':0});\n",
    "print(\"MAE: \", -np.mean(score))"
   ]
  },
  {
   "cell_type": "code",
   "execution_count": null,
   "id": "16c95cf8",
   "metadata": {
    "executionInfo": {
     "elapsed": 615,
     "status": "aborted",
     "timestamp": 1622564194629,
     "user": {
      "displayName": "Emerson Gatica",
      "photoUrl": "https://lh3.googleusercontent.com/a-/AOh14GjKzasbyxCvXm6o33OIAlDM5H4HGLIiyVGh4HAjUfQ=s64",
      "userId": "09201646635679341405"
     },
     "user_tz": 240
    },
    "hidden": true,
    "id": "16c95cf8"
   },
   "outputs": [],
   "source": [
    "import numpy as np\n",
    "\n",
    "k = 4\n",
    "num_val_samples = len(train_data) // k\n",
    "num_epochs = 100\n",
    "all_scores = []\n",
    "for i in range(k):\n",
    "    print('processing fold #', i)\n",
    "    # Prepare the validation data: data from partition # k\n",
    "    val_data = train_data[i * num_val_samples: (i + 1) * num_val_samples]\n",
    "    val_targets = train_targets[i * num_val_samples: (i + 1) * num_val_samples]\n",
    "\n",
    "    # Prepare the training data: data from all other partitions\n",
    "    partial_train_data = np.concatenate(\n",
    "        [train_data[:i * num_val_samples],\n",
    "         train_data[(i + 1) * num_val_samples:]],\n",
    "        axis=0)\n",
    "    partial_train_targets = np.concatenate(\n",
    "        [train_targets[:i * num_val_samples],\n",
    "         train_targets[(i + 1) * num_val_samples:]],\n",
    "        axis=0)\n",
    "\n",
    "    # Build the Keras model (already compiled)\n",
    "    model = build_model()\n",
    "    # Train the model (in silent mode, verbose=0)\n",
    "    model.fit(partial_train_data, partial_train_targets,\n",
    "              epochs=num_epochs, batch_size=1, verbose=0)\n",
    "    # Evaluate the model on the validation data\n",
    "    val_mse, val_mae = model.evaluate(val_data, val_targets, verbose=0)\n",
    "    all_scores.append(val_mae)"
   ]
  },
  {
   "cell_type": "code",
   "execution_count": null,
   "id": "270b55cc",
   "metadata": {
    "executionInfo": {
     "elapsed": 615,
     "status": "aborted",
     "timestamp": 1622564194629,
     "user": {
      "displayName": "Emerson Gatica",
      "photoUrl": "https://lh3.googleusercontent.com/a-/AOh14GjKzasbyxCvXm6o33OIAlDM5H4HGLIiyVGh4HAjUfQ=s64",
      "userId": "09201646635679341405"
     },
     "user_tz": 240
    },
    "hidden": true,
    "id": "270b55cc"
   },
   "outputs": [],
   "source": [
    "print(\"MAE: \", np.mean(all_scores))"
   ]
  },
  {
   "cell_type": "markdown",
   "id": "66d46179",
   "metadata": {
    "hidden": true,
    "id": "66d46179"
   },
   "source": [
    "Entrena durante más tiempo (500 épocas) y realiza un seguimiento de las pérdidas después de cada época\n",
    "(ver código en el notebook)"
   ]
  },
  {
   "cell_type": "code",
   "execution_count": null,
   "id": "6f714746",
   "metadata": {
    "executionInfo": {
     "elapsed": 615,
     "status": "aborted",
     "timestamp": 1622564194629,
     "user": {
      "displayName": "Emerson Gatica",
      "photoUrl": "https://lh3.googleusercontent.com/a-/AOh14GjKzasbyxCvXm6o33OIAlDM5H4HGLIiyVGh4HAjUfQ=s64",
      "userId": "09201646635679341405"
     },
     "user_tz": 240
    },
    "hidden": true,
    "id": "6f714746"
   },
   "outputs": [],
   "source": [
    "from keras import backend as K\n",
    "K.clear_session() # Memory clean-up\n",
    "\n",
    "num_epochs = 500\n",
    "all_mae_histories = []\n",
    "for i in range(k):\n",
    "    print('processing fold #', i)\n",
    "    # Prepare the validation data: data from partition # k\n",
    "    val_data = train_data[i * num_val_samples: (i + 1) * num_val_samples]\n",
    "    val_targets = train_targets[i * num_val_samples: (i + 1) * num_val_samples]\n",
    "\n",
    "    # Prepare the training data: data from all other partitions\n",
    "    partial_train_data = np.concatenate(\n",
    "        [train_data[:i * num_val_samples],\n",
    "         train_data[(i + 1) * num_val_samples:]],\n",
    "        axis=0)\n",
    "    partial_train_targets = np.concatenate(\n",
    "        [train_targets[:i * num_val_samples],\n",
    "         train_targets[(i + 1) * num_val_samples:]],\n",
    "        axis=0)\n",
    "\n",
    "    # Build the Keras model (already compiled)\n",
    "    model = build_model()\n",
    "    # Train the model (in silent mode, verbose=0)\n",
    "    history = model.fit(partial_train_data, partial_train_targets,\n",
    "                        validation_data=(val_data, val_targets),\n",
    "                        epochs=num_epochs, batch_size=1, verbose=0)\n",
    "    mae_history = history.history['val_mae']\n",
    "    all_mae_histories.append(mae_history)"
   ]
  },
  {
   "cell_type": "markdown",
   "id": "eee42892",
   "metadata": {
    "hidden": true,
    "id": "eee42892"
   },
   "source": [
    "El modelo comienza a sobreajustarse después de la época 80."
   ]
  },
  {
   "cell_type": "code",
   "execution_count": null,
   "id": "9cdc714e",
   "metadata": {
    "executionInfo": {
     "elapsed": 616,
     "status": "aborted",
     "timestamp": 1622564194630,
     "user": {
      "displayName": "Emerson Gatica",
      "photoUrl": "https://lh3.googleusercontent.com/a-/AOh14GjKzasbyxCvXm6o33OIAlDM5H4HGLIiyVGh4HAjUfQ=s64",
      "userId": "09201646635679341405"
     },
     "user_tz": 240
    },
    "hidden": true,
    "id": "9cdc714e"
   },
   "outputs": [],
   "source": [
    "average_mae_history = [\n",
    "    np.mean([x[i] for x in all_mae_histories]) for i in range(num_epochs)]\n",
    "plt.plot(range(1, len(average_mae_history) + 1), average_mae_history)\n",
    "plt.xlabel('Epochs')\n",
    "plt.ylabel('Validation MAE')\n",
    "plt.show()"
   ]
  },
  {
   "cell_type": "markdown",
   "id": "1ce3edac",
   "metadata": {
    "hidden": true,
    "id": "1ce3edac"
   },
   "source": [
    "Vuelva a entrenar con un número optimizado de épocas\n",
    "\n",
    "``` python\n",
    "model = build_model()\n",
    "model.fit(train_data, train_targets,\n",
    "          epochs=80, batch_size=16, verbose=0)\n",
    "```"
   ]
  },
  {
   "cell_type": "code",
   "execution_count": null,
   "id": "0d134aa2",
   "metadata": {
    "executionInfo": {
     "elapsed": 616,
     "status": "aborted",
     "timestamp": 1622564194630,
     "user": {
      "displayName": "Emerson Gatica",
      "photoUrl": "https://lh3.googleusercontent.com/a-/AOh14GjKzasbyxCvXm6o33OIAlDM5H4HGLIiyVGh4HAjUfQ=s64",
      "userId": "09201646635679341405"
     },
     "user_tz": 240
    },
    "hidden": true,
    "id": "0d134aa2"
   },
   "outputs": [],
   "source": [
    "# Get a fresh, compiled model.\n",
    "model = build_model()\n",
    "# Train it on the entirety of the data.\n",
    "model.fit(train_data, train_targets,\n",
    "          epochs=80, batch_size=16, verbose=0)\n",
    "test_mse_score, test_mae_score = model.evaluate(test_data, test_targets)\n",
    "print(\"MAE: \", test_mae_score)"
   ]
  },
  {
   "cell_type": "markdown",
   "id": "ccdeb93d",
   "metadata": {
    "id": "ccdeb93d"
   },
   "source": [
    "# Regresión ANN\n",
    "* Dataset: 506 ejemplos de casas y precios de venta (Boston)\n",
    "    - Incluido en Keras, con una división de entrenamiento-prueba de 1/5\n",
    "* Cada fila es un precio de la casa, descrito por propiedades numéricas de la casa y el vecindario\n",
    "* Conjunto de datos pequeño, características no normalizadas"
   ]
  },
  {
   "cell_type": "code",
   "execution_count": null,
   "id": "4811101d",
   "metadata": {
    "executionInfo": {
     "elapsed": 617,
     "status": "aborted",
     "timestamp": 1622564194631,
     "user": {
      "displayName": "Emerson Gatica",
      "photoUrl": "https://lh3.googleusercontent.com/a-/AOh14GjKzasbyxCvXm6o33OIAlDM5H4HGLIiyVGh4HAjUfQ=s64",
      "userId": "09201646635679341405"
     },
     "user_tz": 240
    },
    "id": "4811101d"
   },
   "outputs": [],
   "source": [
    "from keras.datasets import boston_housing\n",
    "\n",
    "(train_data, train_targets), (test_data, test_targets) =  boston_housing.load_data()"
   ]
  },
  {
   "cell_type": "markdown",
   "id": "5e3cdb78",
   "metadata": {
    "id": "5e3cdb78"
   },
   "source": [
    "### Preprocesamiento\n",
    "* Las redes neuronales funcionan mucho mejor si primero normalizamos las características. \n",
    "* Keras no tiene soporte incorporado, por lo que tenemos que hacer esto manualmente (o con scikit-learn)\n",
    "    - Nuevamente, tenga cuidado de no mirar los datos de prueba durante la normalización\n",
    "    \n",
    "``` python\n",
    "mean, std = train_data.mean(axis=0), train_data.std(axis=0)\n",
    "train_data -= mean\n",
    "train_data /= std\n",
    "test_data -= mean\n",
    "test_data /= std\n",
    "```"
   ]
  },
  {
   "cell_type": "code",
   "execution_count": null,
   "id": "9306b449",
   "metadata": {
    "executionInfo": {
     "elapsed": 616,
     "status": "aborted",
     "timestamp": 1622564194631,
     "user": {
      "displayName": "Emerson Gatica",
      "photoUrl": "https://lh3.googleusercontent.com/a-/AOh14GjKzasbyxCvXm6o33OIAlDM5H4HGLIiyVGh4HAjUfQ=s64",
      "userId": "09201646635679341405"
     },
     "user_tz": 240
    },
    "id": "9306b449"
   },
   "outputs": [],
   "source": [
    "mean, std = train_data.mean(axis=0), train_data.std(axis=0)\n",
    "train_data -= mean\n",
    "train_data /= std\n",
    "test_data -= mean\n",
    "test_data /= std"
   ]
  },
  {
   "cell_type": "markdown",
   "id": "e1c2edee",
   "metadata": {
    "id": "e1c2edee"
   },
   "source": [
    "### Construyendo la red\n",
    "* Este es un conjunto de datos pequeño, muy fácil de sobreajustar\n",
    "    * Usamos 2 capas ocultas de 64 unidades cada una\n",
    "* Utilice lotes más pequeños, más épocas\n",
    "* Como queremos una salida escalar, la capa de salida es una unidad sin activación\n",
    "* Loss function es Mean Squared Error (mayor penalización)\n",
    "* La métrica de evaluación es Mean Absolute Error (más interpretable)\n",
    "* También usaremos cross-validation, así que envolvemos la construcción del modelo en una función, de modo que podamos llamarla varias veces"
   ]
  },
  {
   "cell_type": "markdown",
   "id": "f86c0968",
   "metadata": {
    "id": "f86c0968"
   },
   "source": [
    "``` python\n",
    "def build_model():\n",
    "    model = models.Sequential()\n",
    "    model.add(layers.Dense(64, activation='relu',\n",
    "                           input_shape=(train_data.shape[1],)))\n",
    "    model.add(layers.Dense(64, activation='relu'))\n",
    "    model.add(layers.Dense(1))\n",
    "    model.compile(optimizer='rmsprop', loss='mse', metrics=['mae'])\n",
    "    return model\n",
    "```"
   ]
  },
  {
   "cell_type": "code",
   "execution_count": null,
   "id": "f26c8e34",
   "metadata": {
    "executionInfo": {
     "elapsed": 617,
     "status": "aborted",
     "timestamp": 1622564194632,
     "user": {
      "displayName": "Emerson Gatica",
      "photoUrl": "https://lh3.googleusercontent.com/a-/AOh14GjKzasbyxCvXm6o33OIAlDM5H4HGLIiyVGh4HAjUfQ=s64",
      "userId": "09201646635679341405"
     },
     "user_tz": 240
    },
    "id": "f26c8e34"
   },
   "outputs": [],
   "source": [
    "def build_model():\n",
    "    model = models.Sequential()\n",
    "    model.add(layers.Dense(64, activation='relu',\n",
    "                           input_shape=(train_data.shape[1],)))\n",
    "    model.add(layers.Dense(64, activation='relu'))\n",
    "    model.add(layers.Dense(1))\n",
    "    model.compile(optimizer='rmsprop', loss='mse', metrics=['mae'])\n",
    "    return model"
   ]
  },
  {
   "cell_type": "code",
   "execution_count": null,
   "id": "e418eab2",
   "metadata": {
    "executionInfo": {
     "elapsed": 617,
     "status": "aborted",
     "timestamp": 1622564194632,
     "user": {
      "displayName": "Emerson Gatica",
      "photoUrl": "https://lh3.googleusercontent.com/a-/AOh14GjKzasbyxCvXm6o33OIAlDM5H4HGLIiyVGh4HAjUfQ=s64",
      "userId": "09201646635679341405"
     },
     "user_tz": 240
    },
    "id": "e418eab2"
   },
   "outputs": [],
   "source": [
    "# TODO: Check why MAE is different. Should actually use a pipeline\n",
    "from sklearn.model_selection import cross_val_score\n",
    "clf = KerasClassifier(build_model)\n",
    "X = np.concatenate([train_data,test_data],axis=0)\n",
    "y = np.concatenate([train_targets,test_targets],axis=0)\n",
    "score = cross_val_score(clf, train_data, train_targets, scoring='neg_mean_absolute_error', cv=4,\n",
    "                        fit_params={'epochs': 100, 'batch_size':1, 'verbose':0});\n",
    "print(\"MAE: \", -np.mean(score))"
   ]
  },
  {
   "cell_type": "code",
   "execution_count": null,
   "id": "2ba3e555",
   "metadata": {
    "executionInfo": {
     "elapsed": 617,
     "status": "aborted",
     "timestamp": 1622564194632,
     "user": {
      "displayName": "Emerson Gatica",
      "photoUrl": "https://lh3.googleusercontent.com/a-/AOh14GjKzasbyxCvXm6o33OIAlDM5H4HGLIiyVGh4HAjUfQ=s64",
      "userId": "09201646635679341405"
     },
     "user_tz": 240
    },
    "id": "2ba3e555"
   },
   "outputs": [],
   "source": [
    "import numpy as np\n",
    "\n",
    "k = 4\n",
    "num_val_samples = len(train_data) // k\n",
    "num_epochs = 100\n",
    "all_scores = []\n",
    "for i in range(k):\n",
    "    print('processing fold #', i)\n",
    "    # Prepare the validation data: data from partition # k\n",
    "    val_data = train_data[i * num_val_samples: (i + 1) * num_val_samples]\n",
    "    val_targets = train_targets[i * num_val_samples: (i + 1) * num_val_samples]\n",
    "\n",
    "    # Prepare the training data: data from all other partitions\n",
    "    partial_train_data = np.concatenate(\n",
    "        [train_data[:i * num_val_samples],\n",
    "         train_data[(i + 1) * num_val_samples:]],\n",
    "        axis=0)\n",
    "    partial_train_targets = np.concatenate(\n",
    "        [train_targets[:i * num_val_samples],\n",
    "         train_targets[(i + 1) * num_val_samples:]],\n",
    "        axis=0)\n",
    "\n",
    "    # Build the Keras model (already compiled)\n",
    "    model = build_model()\n",
    "    # Train the model (in silent mode, verbose=0)\n",
    "    model.fit(partial_train_data, partial_train_targets,\n",
    "              epochs=num_epochs, batch_size=1, verbose=0)\n",
    "    # Evaluate the model on the validation data\n",
    "    val_mse, val_mae = model.evaluate(val_data, val_targets, verbose=0)\n",
    "    all_scores.append(val_mae)"
   ]
  },
  {
   "cell_type": "code",
   "execution_count": null,
   "id": "8160a90d",
   "metadata": {
    "executionInfo": {
     "elapsed": 618,
     "status": "aborted",
     "timestamp": 1622564194633,
     "user": {
      "displayName": "Emerson Gatica",
      "photoUrl": "https://lh3.googleusercontent.com/a-/AOh14GjKzasbyxCvXm6o33OIAlDM5H4HGLIiyVGh4HAjUfQ=s64",
      "userId": "09201646635679341405"
     },
     "user_tz": 240
    },
    "id": "8160a90d"
   },
   "outputs": [],
   "source": [
    "print(\"MAE: \", np.mean(all_scores))"
   ]
  },
  {
   "cell_type": "markdown",
   "id": "9ea6b5b3",
   "metadata": {
    "id": "9ea6b5b3"
   },
   "source": [
    "Entrena durante más tiempo (500 épocas) y realiza un seguimiento de las pérdidas después de cada época\n",
    "(ver código en el notebook)"
   ]
  },
  {
   "cell_type": "code",
   "execution_count": null,
   "id": "19aad0ba",
   "metadata": {
    "executionInfo": {
     "elapsed": 618,
     "status": "aborted",
     "timestamp": 1622564194633,
     "user": {
      "displayName": "Emerson Gatica",
      "photoUrl": "https://lh3.googleusercontent.com/a-/AOh14GjKzasbyxCvXm6o33OIAlDM5H4HGLIiyVGh4HAjUfQ=s64",
      "userId": "09201646635679341405"
     },
     "user_tz": 240
    },
    "id": "19aad0ba"
   },
   "outputs": [],
   "source": [
    "from keras import backend as K\n",
    "K.clear_session() # Memory clean-up\n",
    "\n",
    "num_epochs = 500\n",
    "all_mae_histories = []\n",
    "for i in range(k):\n",
    "    print('processing fold #', i)\n",
    "    # Prepare the validation data: data from partition # k\n",
    "    val_data = train_data[i * num_val_samples: (i + 1) * num_val_samples]\n",
    "    val_targets = train_targets[i * num_val_samples: (i + 1) * num_val_samples]\n",
    "\n",
    "    # Prepare the training data: data from all other partitions\n",
    "    partial_train_data = np.concatenate(\n",
    "        [train_data[:i * num_val_samples],\n",
    "         train_data[(i + 1) * num_val_samples:]],\n",
    "        axis=0)\n",
    "    partial_train_targets = np.concatenate(\n",
    "        [train_targets[:i * num_val_samples],\n",
    "         train_targets[(i + 1) * num_val_samples:]],\n",
    "        axis=0)\n",
    "\n",
    "    # Build the Keras model (already compiled)\n",
    "    model = build_model()\n",
    "    # Train the model (in silent mode, verbose=0)\n",
    "    history = model.fit(partial_train_data, partial_train_targets,\n",
    "                        validation_data=(val_data, val_targets),\n",
    "                        epochs=num_epochs, batch_size=1, verbose=0)\n",
    "    mae_history = history.history['val_mae']\n",
    "    all_mae_histories.append(mae_history)"
   ]
  },
  {
   "cell_type": "markdown",
   "id": "1f1ea4e1",
   "metadata": {
    "id": "1f1ea4e1"
   },
   "source": [
    "El modelo comienza a sobreajustarse después de la época 80."
   ]
  },
  {
   "cell_type": "code",
   "execution_count": null,
   "id": "14b098cc",
   "metadata": {
    "executionInfo": {
     "elapsed": 617,
     "status": "aborted",
     "timestamp": 1622564194633,
     "user": {
      "displayName": "Emerson Gatica",
      "photoUrl": "https://lh3.googleusercontent.com/a-/AOh14GjKzasbyxCvXm6o33OIAlDM5H4HGLIiyVGh4HAjUfQ=s64",
      "userId": "09201646635679341405"
     },
     "user_tz": 240
    },
    "id": "14b098cc"
   },
   "outputs": [],
   "source": [
    "average_mae_history = [\n",
    "    np.mean([x[i] for x in all_mae_histories]) for i in range(num_epochs)]\n",
    "plt.plot(range(1, len(average_mae_history) + 1), average_mae_history)\n",
    "plt.xlabel('Epochs')\n",
    "plt.ylabel('Validation MAE')\n",
    "plt.show()"
   ]
  },
  {
   "cell_type": "markdown",
   "id": "68c957a3",
   "metadata": {
    "id": "68c957a3"
   },
   "source": [
    "Vuelva a entrenar con un número optimizado de épocas\n",
    "\n",
    "``` python\n",
    "model = build_model()\n",
    "model.fit(train_data, train_targets,\n",
    "          epochs=80, batch_size=16, verbose=0)\n",
    "```"
   ]
  },
  {
   "cell_type": "code",
   "execution_count": null,
   "id": "c6a39480",
   "metadata": {
    "executionInfo": {
     "elapsed": 618,
     "status": "aborted",
     "timestamp": 1622564194634,
     "user": {
      "displayName": "Emerson Gatica",
      "photoUrl": "https://lh3.googleusercontent.com/a-/AOh14GjKzasbyxCvXm6o33OIAlDM5H4HGLIiyVGh4HAjUfQ=s64",
      "userId": "09201646635679341405"
     },
     "user_tz": 240
    },
    "id": "c6a39480"
   },
   "outputs": [],
   "source": [
    "# Get a fresh, compiled model.\n",
    "model = build_model()\n",
    "# Train it on the entirety of the data.\n",
    "model.fit(train_data, train_targets,\n",
    "          epochs=80, batch_size=16, verbose=0)\n",
    "test_mse_score, test_mae_score = model.evaluate(test_data, test_targets)\n",
    "print(\"MAE: \", test_mae_score)"
   ]
  },
  {
   "cell_type": "markdown",
   "id": "b7c8155c",
   "metadata": {
    "id": "b7c8155c"
   },
   "source": [
    "### Cross-validation\n",
    "* Keras no tiene soporte para cross-validation\n",
    "* Afortunadamente, podemos ajustar (o envolver) un modelo de Keras como una estimación de scikit-learn\n",
    "* También podemos implementar cross-validation nosotros mismos (ver notebook)\n",
    "* Generalmente hablando, cross-validation es complicado con las redes neuronales\n",
    "    * Es posible que algunas dobladas no converjan o fluctúen en la inicialización aleatoria.\n",
    "    \n",
    "``` python\n",
    "clf = KerasClassifier(build_model)\n",
    "score = cross_val_score(clf, train_data, train_targets, scoring='neg_mean_absolute_error', cv=4, fit_params={'epochs': 100, 'batch_size':1, 'verbose':0});\n",
    "```"
   ]
  },
  {
   "cell_type": "code",
   "execution_count": null,
   "id": "0852918c",
   "metadata": {
    "executionInfo": {
     "elapsed": 618,
     "status": "aborted",
     "timestamp": 1622564194634,
     "user": {
      "displayName": "Emerson Gatica",
      "photoUrl": "https://lh3.googleusercontent.com/a-/AOh14GjKzasbyxCvXm6o33OIAlDM5H4HGLIiyVGh4HAjUfQ=s64",
      "userId": "09201646635679341405"
     },
     "user_tz": 240
    },
    "id": "0852918c"
   },
   "outputs": [],
   "source": [
    "from keras.wrappers.scikit_learn import KerasClassifier, KerasRegressor\n",
    "from sklearn.model_selection import GridSearchCV\n",
    "\n",
    "def make_model(optimizer=\"adam\", hidden_size=32):\n",
    "    model = models.Sequential()\n",
    "    model.add(layers.Dense(16, activation='relu', input_shape=(10000,)))\n",
    "    model.add(layers.Dense(16, activation='relu'))\n",
    "    model.add(layers.Dense(1, activation='sigmoid'))\n",
    "\n",
    "    model.compile(optimizer='rmsprop',\n",
    "                  loss='binary_crossentropy',\n",
    "                  metrics=['accuracy'])\n",
    "    return model\n",
    "\n",
    "clf = KerasClassifier(make_model)\n",
    "param_grid = {'epochs': [1, 5, 10],  # epochs is fit parameter, not in make_model!\n",
    "              'hidden_size': [32, 64, 256],\n",
    "              'verbose' : [0]}\n",
    "grid = GridSearchCV(clf, param_grid=param_grid, cv=3)\n",
    "grid.fit(x_train, y_train)"
   ]
  },
  {
   "cell_type": "code",
   "execution_count": null,
   "id": "e5046908",
   "metadata": {
    "executionInfo": {
     "elapsed": 619,
     "status": "aborted",
     "timestamp": 1622564194635,
     "user": {
      "displayName": "Emerson Gatica",
      "photoUrl": "https://lh3.googleusercontent.com/a-/AOh14GjKzasbyxCvXm6o33OIAlDM5H4HGLIiyVGh4HAjUfQ=s64",
      "userId": "09201646635679341405"
     },
     "user_tz": 240
    },
    "id": "e5046908"
   },
   "outputs": [],
   "source": [
    "# TODO: Check why MAE is different. Should actually use a pipeline\n",
    "from sklearn.model_selection import cross_val_score\n",
    "clf = KerasClassifier(build_model)\n",
    "X = np.concatenate([train_data,test_data],axis=0)\n",
    "y = np.concatenate([train_targets,test_targets],axis=0)\n",
    "score = cross_val_score(clf, train_data, train_targets, scoring='neg_mean_absolute_error', cv=4,\n",
    "                        fit_params={'epochs': 100, 'batch_size':1, 'verbose':0});\n",
    "print(\"MAE: \", -np.mean(score))"
   ]
  },
  {
   "cell_type": "code",
   "execution_count": null,
   "id": "9b2d6c08",
   "metadata": {
    "executionInfo": {
     "elapsed": 619,
     "status": "aborted",
     "timestamp": 1622564194635,
     "user": {
      "displayName": "Emerson Gatica",
      "photoUrl": "https://lh3.googleusercontent.com/a-/AOh14GjKzasbyxCvXm6o33OIAlDM5H4HGLIiyVGh4HAjUfQ=s64",
      "userId": "09201646635679341405"
     },
     "user_tz": 240
    },
    "id": "9b2d6c08"
   },
   "outputs": [],
   "source": [
    "import numpy as np\n",
    "\n",
    "k = 4\n",
    "num_val_samples = len(train_data) // k\n",
    "num_epochs = 100\n",
    "all_scores = []\n",
    "for i in range(k):\n",
    "    print('processing fold #', i)\n",
    "    # Prepare the validation data: data from partition # k\n",
    "    val_data = train_data[i * num_val_samples: (i + 1) * num_val_samples]\n",
    "    val_targets = train_targets[i * num_val_samples: (i + 1) * num_val_samples]\n",
    "\n",
    "    # Prepare the training data: data from all other partitions\n",
    "    partial_train_data = np.concatenate(\n",
    "        [train_data[:i * num_val_samples],\n",
    "         train_data[(i + 1) * num_val_samples:]],\n",
    "        axis=0)\n",
    "    partial_train_targets = np.concatenate(\n",
    "        [train_targets[:i * num_val_samples],\n",
    "         train_targets[(i + 1) * num_val_samples:]],\n",
    "        axis=0)\n",
    "\n",
    "    # Build the Keras model (already compiled)\n",
    "    model = build_model()\n",
    "    # Train the model (in silent mode, verbose=0)\n",
    "    model.fit(partial_train_data, partial_train_targets,\n",
    "              epochs=num_epochs, batch_size=1, verbose=0)\n",
    "    # Evaluate the model on the validation data\n",
    "    val_mse, val_mae = model.evaluate(val_data, val_targets, verbose=0)\n",
    "    all_scores.append(val_mae)"
   ]
  },
  {
   "cell_type": "code",
   "execution_count": null,
   "id": "088c8d06",
   "metadata": {
    "executionInfo": {
     "elapsed": 619,
     "status": "aborted",
     "timestamp": 1622564194635,
     "user": {
      "displayName": "Emerson Gatica",
      "photoUrl": "https://lh3.googleusercontent.com/a-/AOh14GjKzasbyxCvXm6o33OIAlDM5H4HGLIiyVGh4HAjUfQ=s64",
      "userId": "09201646635679341405"
     },
     "user_tz": 240
    },
    "id": "088c8d06"
   },
   "outputs": [],
   "source": [
    "print(\"MAE: \", np.mean(all_scores))"
   ]
  },
  {
   "cell_type": "markdown",
   "id": "0d3e5cf9",
   "metadata": {
    "id": "0d3e5cf9"
   },
   "source": [
    "Entrena durante más tiempo (500 épocas) y realiza un seguimiento de las pérdidas después de cada época\n",
    "(ver código en el notebook)"
   ]
  },
  {
   "cell_type": "code",
   "execution_count": null,
   "id": "08b2cfca",
   "metadata": {
    "executionInfo": {
     "elapsed": 619,
     "status": "aborted",
     "timestamp": 1622564194635,
     "user": {
      "displayName": "Emerson Gatica",
      "photoUrl": "https://lh3.googleusercontent.com/a-/AOh14GjKzasbyxCvXm6o33OIAlDM5H4HGLIiyVGh4HAjUfQ=s64",
      "userId": "09201646635679341405"
     },
     "user_tz": 240
    },
    "id": "08b2cfca"
   },
   "outputs": [],
   "source": [
    "from keras import backend as K\n",
    "K.clear_session() # Memory clean-up\n",
    "\n",
    "num_epochs = 500\n",
    "all_mae_histories = []\n",
    "for i in range(k):\n",
    "    print('processing fold #', i)\n",
    "    # Prepare the validation data: data from partition # k\n",
    "    val_data = train_data[i * num_val_samples: (i + 1) * num_val_samples]\n",
    "    val_targets = train_targets[i * num_val_samples: (i + 1) * num_val_samples]\n",
    "\n",
    "    # Prepare the training data: data from all other partitions\n",
    "    partial_train_data = np.concatenate(\n",
    "        [train_data[:i * num_val_samples],\n",
    "         train_data[(i + 1) * num_val_samples:]],\n",
    "        axis=0)\n",
    "    partial_train_targets = np.concatenate(\n",
    "        [train_targets[:i * num_val_samples],\n",
    "         train_targets[(i + 1) * num_val_samples:]],\n",
    "        axis=0)\n",
    "\n",
    "    # Build the Keras model (already compiled)\n",
    "    model = build_model()\n",
    "    # Train the model (in silent mode, verbose=0)\n",
    "    history = model.fit(partial_train_data, partial_train_targets,\n",
    "                        validation_data=(val_data, val_targets),\n",
    "                        epochs=num_epochs, batch_size=1, verbose=0)\n",
    "    mae_history = history.history['val_mae']\n",
    "    all_mae_histories.append(mae_history)"
   ]
  },
  {
   "cell_type": "markdown",
   "id": "a5cf2c4c",
   "metadata": {
    "id": "a5cf2c4c"
   },
   "source": [
    "El modelo comienza a sobreajustarse después de la época 80."
   ]
  },
  {
   "cell_type": "code",
   "execution_count": null,
   "id": "9d84aaad",
   "metadata": {
    "executionInfo": {
     "elapsed": 619,
     "status": "aborted",
     "timestamp": 1622564194636,
     "user": {
      "displayName": "Emerson Gatica",
      "photoUrl": "https://lh3.googleusercontent.com/a-/AOh14GjKzasbyxCvXm6o33OIAlDM5H4HGLIiyVGh4HAjUfQ=s64",
      "userId": "09201646635679341405"
     },
     "user_tz": 240
    },
    "id": "9d84aaad"
   },
   "outputs": [],
   "source": [
    "average_mae_history = [\n",
    "    np.mean([x[i] for x in all_mae_histories]) for i in range(num_epochs)]\n",
    "plt.plot(range(1, len(average_mae_history) + 1), average_mae_history)\n",
    "plt.xlabel('Epochs')\n",
    "plt.ylabel('Validation MAE')\n",
    "plt.show()"
   ]
  },
  {
   "cell_type": "markdown",
   "id": "786df254",
   "metadata": {
    "id": "786df254"
   },
   "source": [
    "Vuelva a entrenar con un número optimizado de épocas\n",
    "\n",
    "``` python\n",
    "model = build_model()\n",
    "model.fit(train_data, train_targets,\n",
    "          epochs=80, batch_size=16, verbose=0)\n",
    "```"
   ]
  },
  {
   "cell_type": "code",
   "execution_count": null,
   "id": "128aa392",
   "metadata": {
    "executionInfo": {
     "elapsed": 619,
     "status": "aborted",
     "timestamp": 1622564194636,
     "user": {
      "displayName": "Emerson Gatica",
      "photoUrl": "https://lh3.googleusercontent.com/a-/AOh14GjKzasbyxCvXm6o33OIAlDM5H4HGLIiyVGh4HAjUfQ=s64",
      "userId": "09201646635679341405"
     },
     "user_tz": 240
    },
    "id": "128aa392"
   },
   "outputs": [],
   "source": [
    "# Get a fresh, compiled model.\n",
    "model = build_model()\n",
    "# Train it on the entirety of the data.\n",
    "model.fit(train_data, train_targets,\n",
    "          epochs=80, batch_size=16, verbose=0)\n",
    "test_mse_score, test_mae_score = model.evaluate(test_data, test_targets)\n",
    "print(\"MAE: \", test_mae_score)"
   ]
  },
  {
   "cell_type": "markdown",
   "id": "89588fd8",
   "metadata": {
    "id": "89588fd8"
   },
   "source": [
    "### Qué cosas recordar de este ejemplo \n",
    "* La regresión generalmente se realiza utilizando la pérdida de MSE y MAE para la evaluación\n",
    "* Los datos de entrada siempre se deben escalar (independientemente del conjunto de prueba)\n",
    "* Pequeños conjuntos de datos:\n",
    "    - Utilizar cross-validation\n",
    "    - Utilizar redes simples (non-deep)\n",
    "    - Lotes más pequeños, más épocas"
   ]
  },
  {
   "cell_type": "markdown",
   "id": "6e0c146e",
   "metadata": {
    "id": "6e0c146e"
   },
   "source": [
    "# ANN con % de volumen"
   ]
  },
  {
   "cell_type": "markdown",
   "id": "6aef650d",
   "metadata": {
    "id": "6aef650d"
   },
   "source": [
    "## Fusión base de datos "
   ]
  },
  {
   "cell_type": "markdown",
   "id": "1bb7d02f",
   "metadata": {
    "id": "1bb7d02f"
   },
   "source": [
    "### Descargar"
   ]
  },
  {
   "cell_type": "code",
   "execution_count": null,
   "id": "3aa133af",
   "metadata": {
    "executionInfo": {
     "elapsed": 620,
     "status": "aborted",
     "timestamp": 1622564194637,
     "user": {
      "displayName": "Emerson Gatica",
      "photoUrl": "https://lh3.googleusercontent.com/a-/AOh14GjKzasbyxCvXm6o33OIAlDM5H4HGLIiyVGh4HAjUfQ=s64",
      "userId": "09201646635679341405"
     },
     "user_tz": 240
    },
    "id": "3aa133af",
    "scrolled": true
   },
   "outputs": [],
   "source": [
    "#DF_Fest2.to_csv('prophet_Fest.csv', index=False)\n",
    "fillN='proporc_Volumen'\n",
    "col_names=pd.read_csv(\"\"+fillN+\".csv\",\n",
    "                    encoding=\"utf-8\",sep=\",\",nrows=0).columns\n",
    "types_dict = {col: str for col in col_names}\n",
    "\n",
    "DF_prop = pd.read_csv(\"\"+fillN+\".csv\",\n",
    "                   encoding=\"utf-8\",sep=\",\",dtype=types_dict)\n",
    "\n",
    "\"\"\"\n",
    "DF_prop = DF_prop.rename(columns={'ds':\"Día natural\"})\n",
    "DF_prop[\"Día natural\"] = DF_prop[\"Día natural\"].apply(lambda x: \n",
    "                                                datetime.datetime.strptime(x,\n",
    "                                                                           '%Y-%m-%d').date())\n",
    "\"\"\"\n",
    "DF_prop.head(1)\n",
    "DF_prop.head()"
   ]
  },
  {
   "cell_type": "markdown",
   "id": "5b21c8d9",
   "metadata": {
    "id": "5b21c8d9"
   },
   "source": [
    "### merge con prophet_Fest"
   ]
  },
  {
   "cell_type": "code",
   "execution_count": null,
   "id": "5d301339",
   "metadata": {
    "executionInfo": {
     "elapsed": 620,
     "status": "aborted",
     "timestamp": 1622564194637,
     "user": {
      "displayName": "Emerson Gatica",
      "photoUrl": "https://lh3.googleusercontent.com/a-/AOh14GjKzasbyxCvXm6o33OIAlDM5H4HGLIiyVGh4HAjUfQ=s64",
      "userId": "09201646635679341405"
     },
     "user_tz": 240
    },
    "id": "5d301339"
   },
   "outputs": [],
   "source": [
    " DF_prop=DF_prop.rename(\n",
    "     columns={'Kilos Venta KG':'Demanda Zona KG'})\n",
    "DF_prop.head()"
   ]
  },
  {
   "cell_type": "code",
   "execution_count": null,
   "id": "6b9ebcfd",
   "metadata": {
    "executionInfo": {
     "elapsed": 620,
     "status": "aborted",
     "timestamp": 1622564194638,
     "user": {
      "displayName": "Emerson Gatica",
      "photoUrl": "https://lh3.googleusercontent.com/a-/AOh14GjKzasbyxCvXm6o33OIAlDM5H4HGLIiyVGh4HAjUfQ=s64",
      "userId": "09201646635679341405"
     },
     "user_tz": 240
    },
    "id": "6b9ebcfd"
   },
   "outputs": [],
   "source": [
    "tempdf=pd.merge(prophet_Fest,DF_prop\n",
    "                 , how='left')\n",
    "\n",
    "tempdf.sort_values(by=['Día natural'], inplace=True)\n",
    "tempdf.head()"
   ]
  },
  {
   "cell_type": "markdown",
   "id": "5163c28b",
   "metadata": {
    "id": "5163c28b"
   },
   "source": [
    "## (ANN) Parte Redes neuronales\n",
    "neural networks shape \n",
    "\n",
    "https://colab.research.google.com/drive/1HPcKN6IzB5uuj_MfqHcmBiSDsOjNeUBk#scrollTo=Ojn2s4BzpU4C"
   ]
  },
  {
   "cell_type": "markdown",
   "id": "b9c26a40",
   "metadata": {
    "id": "b9c26a40"
   },
   "source": [
    "### Data Train Data Test  "
   ]
  },
  {
   "cell_type": "markdown",
   "id": "f7a5e50c",
   "metadata": {
    "id": "f7a5e50c"
   },
   "source": [
    "#### Exploración de frecuencia "
   ]
  },
  {
   "cell_type": "code",
   "execution_count": null,
   "id": "f4615145",
   "metadata": {
    "executionInfo": {
     "elapsed": 620,
     "status": "aborted",
     "timestamp": 1622564194638,
     "user": {
      "displayName": "Emerson Gatica",
      "photoUrl": "https://lh3.googleusercontent.com/a-/AOh14GjKzasbyxCvXm6o33OIAlDM5H4HGLIiyVGh4HAjUfQ=s64",
      "userId": "09201646635679341405"
     },
     "user_tz": 240
    },
    "id": "f4615145",
    "scrolled": true
   },
   "outputs": [],
   "source": [
    "tempdf.head(1)"
   ]
  },
  {
   "cell_type": "code",
   "execution_count": null,
   "id": "8d09ab66",
   "metadata": {
    "executionInfo": {
     "elapsed": 620,
     "status": "aborted",
     "timestamp": 1622564194638,
     "user": {
      "displayName": "Emerson Gatica",
      "photoUrl": "https://lh3.googleusercontent.com/a-/AOh14GjKzasbyxCvXm6o33OIAlDM5H4HGLIiyVGh4HAjUfQ=s64",
      "userId": "09201646635679341405"
     },
     "user_tz": 240
    },
    "id": "8d09ab66"
   },
   "outputs": [],
   "source": [
    "tempdf['Día natural'].describe()"
   ]
  },
  {
   "cell_type": "code",
   "execution_count": null,
   "id": "5b5ebb90",
   "metadata": {
    "executionInfo": {
     "elapsed": 621,
     "status": "aborted",
     "timestamp": 1622564194639,
     "user": {
      "displayName": "Emerson Gatica",
      "photoUrl": "https://lh3.googleusercontent.com/a-/AOh14GjKzasbyxCvXm6o33OIAlDM5H4HGLIiyVGh4HAjUfQ=s64",
      "userId": "09201646635679341405"
     },
     "user_tz": 240
    },
    "id": "5b5ebb90"
   },
   "outputs": [],
   "source": [
    "def rep(df,i=0):\n",
    "    temp=df.groupby('Día natural').count()['Semana'].reset_index()\n",
    "    list_temp=temp[temp['Semana']>1]['Día natural'].to_list()\n",
    "    print('cantidad de datos repetidos: ',temp.shape)\n",
    "    print('cantidad de dias repetidos: ',len(list_temp))\n",
    "    #=======================================================\n",
    "    #return(df[df['Día natural']==list_temp[i]])\n",
    "\n",
    "rep(tempdf,1)"
   ]
  },
  {
   "cell_type": "markdown",
   "id": "30d94caa",
   "metadata": {
    "id": "30d94caa"
   },
   "source": [
    "#### Separación "
   ]
  },
  {
   "cell_type": "code",
   "execution_count": null,
   "id": "2a4faf51",
   "metadata": {
    "executionInfo": {
     "elapsed": 621,
     "status": "aborted",
     "timestamp": 1622564194639,
     "user": {
      "displayName": "Emerson Gatica",
      "photoUrl": "https://lh3.googleusercontent.com/a-/AOh14GjKzasbyxCvXm6o33OIAlDM5H4HGLIiyVGh4HAjUfQ=s64",
      "userId": "09201646635679341405"
     },
     "user_tz": 240
    },
    "id": "2a4faf51"
   },
   "outputs": [],
   "source": [
    "tempdf.columns[len(prophet_Fest.columns)-6]"
   ]
  },
  {
   "cell_type": "code",
   "execution_count": null,
   "id": "dd8a841a",
   "metadata": {
    "executionInfo": {
     "elapsed": 622,
     "status": "aborted",
     "timestamp": 1622564194640,
     "user": {
      "displayName": "Emerson Gatica",
      "photoUrl": "https://lh3.googleusercontent.com/a-/AOh14GjKzasbyxCvXm6o33OIAlDM5H4HGLIiyVGh4HAjUfQ=s64",
      "userId": "09201646635679341405"
     },
     "user_tz": 240
    },
    "id": "dd8a841a"
   },
   "outputs": [],
   "source": [
    "#data.sort_values?"
   ]
  },
  {
   "cell_type": "code",
   "execution_count": null,
   "id": "1531a8f5",
   "metadata": {
    "executionInfo": {
     "elapsed": 622,
     "status": "aborted",
     "timestamp": 1622564194640,
     "user": {
      "displayName": "Emerson Gatica",
      "photoUrl": "https://lh3.googleusercontent.com/a-/AOh14GjKzasbyxCvXm6o33OIAlDM5H4HGLIiyVGh4HAjUfQ=s64",
      "userId": "09201646635679341405"
     },
     "user_tz": 240
    },
    "id": "1531a8f5"
   },
   "outputs": [],
   "source": [
    "#data.sort_values(\"First Name\", inplace=True)\n",
    "data=tempdf.copy()\n",
    "data.sort_values('Día natural',ascending=True , inplace=True)\n",
    "data['Día natural'].head()"
   ]
  },
  {
   "cell_type": "markdown",
   "id": "1cacb5b2",
   "metadata": {
    "id": "1cacb5b2"
   },
   "source": [
    "Elimnando columnas que no son de interes"
   ]
  },
  {
   "cell_type": "code",
   "execution_count": null,
   "id": "200094be",
   "metadata": {
    "executionInfo": {
     "elapsed": 622,
     "status": "aborted",
     "timestamp": 1622564194641,
     "user": {
      "displayName": "Emerson Gatica",
      "photoUrl": "https://lh3.googleusercontent.com/a-/AOh14GjKzasbyxCvXm6o33OIAlDM5H4HGLIiyVGh4HAjUfQ=s64",
      "userId": "09201646635679341405"
     },
     "user_tz": 240
    },
    "id": "200094be"
   },
   "outputs": [],
   "source": [
    "Lista_De_Columns=data.columns[2:]\n",
    "\n",
    "#elimino la demanda\n",
    "Lista_De_Columns=Lista_De_Columns.drop('Kilos Venta KG')\n",
    "#elimino los dias naturales\n",
    "Lista_De_Columns=Lista_De_Columns.drop('Día natural')\n",
    "\n",
    "#elimino el feriado que viene con halloween\n",
    "Lista_De_Columns=Lista_De_Columns.drop('Día de las Iglesias Evangélicas y Protestantes')\n",
    "\n",
    "Lista_De_Columns=Lista_De_Columns.drop(['y', 'yhat','Error'])\n",
    "\n",
    "Lista_De_Columns"
   ]
  },
  {
   "cell_type": "code",
   "execution_count": null,
   "id": "6a327498",
   "metadata": {
    "executionInfo": {
     "elapsed": 622,
     "status": "aborted",
     "timestamp": 1622564194641,
     "user": {
      "displayName": "Emerson Gatica",
      "photoUrl": "https://lh3.googleusercontent.com/a-/AOh14GjKzasbyxCvXm6o33OIAlDM5H4HGLIiyVGh4HAjUfQ=s64",
      "userId": "09201646635679341405"
     },
     "user_tz": 240
    },
    "id": "6a327498",
    "scrolled": true
   },
   "outputs": [],
   "source": [
    "data[['Demanda Zona KG',\n",
    "       '% del volumen a Supermercados', '% del volumen a Tradicional']]=data[['Demanda Zona KG',\n",
    "       '% del volumen a Supermercados', '% del volumen a Tradicional']].astype('float64')#.dtypes"
   ]
  },
  {
   "cell_type": "code",
   "execution_count": null,
   "id": "c522d9e1",
   "metadata": {
    "executionInfo": {
     "elapsed": 622,
     "status": "aborted",
     "timestamp": 1622564194641,
     "user": {
      "displayName": "Emerson Gatica",
      "photoUrl": "https://lh3.googleusercontent.com/a-/AOh14GjKzasbyxCvXm6o33OIAlDM5H4HGLIiyVGh4HAjUfQ=s64",
      "userId": "09201646635679341405"
     },
     "user_tz": 240
    },
    "id": "c522d9e1"
   },
   "outputs": [],
   "source": [
    "data[data['Año']=='2021'].head()\n",
    "data.iloc[607:].head()"
   ]
  },
  {
   "cell_type": "code",
   "execution_count": null,
   "id": "0f4d7fb9",
   "metadata": {
    "executionInfo": {
     "elapsed": 623,
     "status": "aborted",
     "timestamp": 1622564194642,
     "user": {
      "displayName": "Emerson Gatica",
      "photoUrl": "https://lh3.googleusercontent.com/a-/AOh14GjKzasbyxCvXm6o33OIAlDM5H4HGLIiyVGh4HAjUfQ=s64",
      "userId": "09201646635679341405"
     },
     "user_tz": 240
    },
    "id": "0f4d7fb9",
    "scrolled": true
   },
   "outputs": [],
   "source": [
    "data['Precio Promedio CLP']=data['Precio Promedio CLP'].astype('float64')\n",
    "data['Error']=data['Error'].astype('float64')\n",
    "\n",
    "data['Precio Promedio CLP']=data['Precio Promedio CLP'].astype('int64')\n",
    "data['Error']=data['Error'].astype('int64')\n",
    "\n",
    "corte=608\n",
    "(train_data, train_targets)=(data[Lista_De_Columns].iloc[:corte].copy(),data['Error'].iloc[:corte].copy().to_numpy())\n",
    "\n",
    "(test_data, test_targets) = (data[Lista_De_Columns].iloc[corte:].copy(),data['Error'].iloc[corte:].copy().to_numpy())"
   ]
  },
  {
   "cell_type": "markdown",
   "id": "b8d8f1c2",
   "metadata": {
    "id": "b8d8f1c2"
   },
   "source": [
    "``` python\n",
    "(train_data, train_targets), (test_data, test_targets) =  boston_housing.load_data()\n",
    "prophet_Fest.head()\n",
    "``` "
   ]
  },
  {
   "cell_type": "markdown",
   "id": "b03eb0dd",
   "metadata": {
    "id": "b03eb0dd"
   },
   "source": [
    "#### Trasnformar categorias en variables dummys "
   ]
  },
  {
   "cell_type": "code",
   "execution_count": null,
   "id": "361c638e",
   "metadata": {
    "executionInfo": {
     "elapsed": 623,
     "status": "aborted",
     "timestamp": 1622564194642,
     "user": {
      "displayName": "Emerson Gatica",
      "photoUrl": "https://lh3.googleusercontent.com/a-/AOh14GjKzasbyxCvXm6o33OIAlDM5H4HGLIiyVGh4HAjUfQ=s64",
      "userId": "09201646635679341405"
     },
     "user_tz": 240
    },
    "id": "361c638e",
    "scrolled": true
   },
   "outputs": [],
   "source": [
    "#from sklearn.model_selection import train_test_split\n",
    "def norml(X,XT,col):\n",
    "    i=col\n",
    "    \n",
    "    X[i]=X[i].astype('float64')\n",
    "    XT[i]=XT[i].astype('float64')\n",
    "    \n",
    "    X[i]=X[i].astype('int64')\n",
    "    XT[i]=XT[i].astype('int64')\n",
    "    \n",
    "    meanP=X[i].mean()\n",
    "    sdP=X[i].std()\n",
    "    X[i]=X[i]-meanP\n",
    "    X[i]=X[i]/sdP\n",
    "    \n",
    "    XT[i]\n",
    "    XT[i]=XT[i]-meanP\n",
    "    XT[i]=XT[i]/sdP\n",
    "    return(X,XT)\n",
    "\n",
    "def dummy_trsf(Train,Test,Cols):\n",
    "    X=Train.copy()\n",
    "    \n",
    "   \n",
    "    for i in Cols:\n",
    "        X[i]=X[i].astype('category')\n",
    "    \n",
    "    \n",
    "    \n",
    "    XT=Test.copy()\n",
    "    X['Precio Promedio CLP'].astype('int64')\n",
    "    \n",
    "    for col in ['Precio Promedio CLP','Demanda Zona KG',\n",
    "       '% del volumen a Supermercados', '% del volumen a Tradicional']:\n",
    "        (X,XT)=norml(X,XT,col)\n",
    "    \n",
    "    \n",
    "    for i in Cols:\n",
    "        XT[i]=XT[i].astype('category')\n",
    "    #X.dtypes\n",
    "    \n",
    "    \n",
    "    X_uni=pd.concat([X, XT], ignore_index=True)\n",
    "    intercept=X.shape[0]\n",
    "    #print(X_uni.dtypes)\n",
    "    #=======================================\n",
    "    X=pd.get_dummies(X_uni, drop_first=True).iloc[:intercept]\n",
    "    \n",
    "    XT=pd.get_dummies(X_uni, drop_first=True).iloc[intercept:]\n",
    "    #=======================================\n",
    "    return(X.to_numpy(),XT.to_numpy())\n",
    "#(train_data,test_data)=\n",
    "#(TR,TE)=dummy_trsf(train_data,test_data,Lista_De_Columns.drop('Precio Promedio CLP'))\n",
    "#print(TR.shape,TE.shape)\n",
    "(train_data,test_data)=dummy_trsf(train_data,test_data,Lista_De_Columns.drop('Precio Promedio CLP'))\n",
    "print(train_data.shape,test_data.shape)"
   ]
  },
  {
   "cell_type": "code",
   "execution_count": null,
   "id": "d7c091f2",
   "metadata": {
    "executionInfo": {
     "elapsed": 623,
     "status": "aborted",
     "timestamp": 1622564194642,
     "user": {
      "displayName": "Emerson Gatica",
      "photoUrl": "https://lh3.googleusercontent.com/a-/AOh14GjKzasbyxCvXm6o33OIAlDM5H4HGLIiyVGh4HAjUfQ=s64",
      "userId": "09201646635679341405"
     },
     "user_tz": 240
    },
    "id": "d7c091f2"
   },
   "outputs": [],
   "source": [
    "type(train_targets)\n",
    "train_targets.shape\n",
    "train_targets"
   ]
  },
  {
   "cell_type": "code",
   "execution_count": null,
   "id": "317ddb4e",
   "metadata": {
    "executionInfo": {
     "elapsed": 623,
     "status": "aborted",
     "timestamp": 1622564194643,
     "user": {
      "displayName": "Emerson Gatica",
      "photoUrl": "https://lh3.googleusercontent.com/a-/AOh14GjKzasbyxCvXm6o33OIAlDM5H4HGLIiyVGh4HAjUfQ=s64",
      "userId": "09201646635679341405"
     },
     "user_tz": 240
    },
    "id": "317ddb4e"
   },
   "outputs": [],
   "source": [
    "print('data',test_data.shape\n",
    ",'target',test_targets.shape)"
   ]
  },
  {
   "cell_type": "code",
   "execution_count": null,
   "id": "9bc3af19",
   "metadata": {
    "executionInfo": {
     "elapsed": 623,
     "status": "aborted",
     "timestamp": 1622564194643,
     "user": {
      "displayName": "Emerson Gatica",
      "photoUrl": "https://lh3.googleusercontent.com/a-/AOh14GjKzasbyxCvXm6o33OIAlDM5H4HGLIiyVGh4HAjUfQ=s64",
      "userId": "09201646635679341405"
     },
     "user_tz": 240
    },
    "id": "9bc3af19"
   },
   "outputs": [],
   "source": []
  },
  {
   "cell_type": "markdown",
   "id": "3ac5c656",
   "metadata": {
    "id": "3ac5c656"
   },
   "source": [
    "### Import "
   ]
  },
  {
   "cell_type": "code",
   "execution_count": null,
   "id": "327243bc",
   "metadata": {
    "executionInfo": {
     "elapsed": 624,
     "status": "aborted",
     "timestamp": 1622564194644,
     "user": {
      "displayName": "Emerson Gatica",
      "photoUrl": "https://lh3.googleusercontent.com/a-/AOh14GjKzasbyxCvXm6o33OIAlDM5H4HGLIiyVGh4HAjUfQ=s64",
      "userId": "09201646635679341405"
     },
     "user_tz": 240
    },
    "id": "327243bc"
   },
   "outputs": [],
   "source": [
    "# Global imports and settings\n",
    "#from preamble import *\n",
    "import keras\n",
    "print(\"Using Keras\",keras.__version__)\n",
    "%matplotlib inline\n",
    "plt.rcParams['figure.dpi'] = 125 # Use 300 for PDF, 100 for slides\n",
    "# InteractiveShell.ast_node_interactivity = \"all\"\n",
    "#HTML('''<style>html, body{overflow-y: visible !important} .CodeMirror{min-width:105% !important;} .rise-enabled .CodeMirror, .rise-enabled .output_subarea{font-size:140%; line-height:1.2; overflow: visible;} .output_subarea pre{width:110%}</style>''') # For slides"
   ]
  },
  {
   "cell_type": "code",
   "execution_count": null,
   "id": "bdd80325",
   "metadata": {
    "executionInfo": {
     "elapsed": 624,
     "status": "aborted",
     "timestamp": 1622564194644,
     "user": {
      "displayName": "Emerson Gatica",
      "photoUrl": "https://lh3.googleusercontent.com/a-/AOh14GjKzasbyxCvXm6o33OIAlDM5H4HGLIiyVGh4HAjUfQ=s64",
      "userId": "09201646635679341405"
     },
     "user_tz": 240
    },
    "id": "bdd80325"
   },
   "outputs": [],
   "source": [
    "from keras import models\n",
    "from keras import layers "
   ]
  },
  {
   "cell_type": "markdown",
   "id": "7ad8641c",
   "metadata": {
    "id": "7ad8641c"
   },
   "source": [
    "Para tener más control, puede crear explícitamente el optimizador, la pérdida y las métricas:\n",
    "\n",
    "``` python\n",
    "from keras import optimizers\n",
    "from keras import losses\n",
    "from keras import metrics\n",
    "model.compile(optimizer=optimizers.RMSprop(lr=0.001),\n",
    "              loss=losses.binary_crossentropy,\n",
    "              metrics=[metrics.binary_accuracy])\n",
    "```"
   ]
  },
  {
   "cell_type": "markdown",
   "id": "b2d09637",
   "metadata": {
    "id": "b2d09637"
   },
   "source": [
    "### Construyendo la red\n",
    "* Este es un conjunto de datos pequeño, muy fácil de sobreajustar\n",
    "    * Usamos 2 capas ocultas de 64 unidades cada una\n",
    "* Utilice lotes más pequeños, más épocas\n",
    "* Como queremos una salida escalar, la capa de salida es una unidad sin activación\n",
    "* Loss function es Mean Squared Error (mayor penalización)\n",
    "* La métrica de evaluación es Mean Absolute Error (más interpretable)\n",
    "* También usaremos cross-validation, así que envolvemos la construcción del modelo en una función, de modo que podamos llamarla varias veces"
   ]
  },
  {
   "cell_type": "markdown",
   "id": "76d6d6ad",
   "metadata": {
    "id": "76d6d6ad"
   },
   "source": [
    "``` python\n",
    "def build_model():\n",
    "    model = models.Sequential()\n",
    "    model.add(layers.Dense(64, activation='relu',\n",
    "                           input_shape=(train_data.shape[1],)))\n",
    "    model.add(layers.Dense(64, activation='relu'))\n",
    "    model.add(layers.Dense(1))\n",
    "    model.compile(optimizer='rmsprop', loss='mse', metrics=['mae'])\n",
    "    return model\n",
    "```"
   ]
  },
  {
   "cell_type": "code",
   "execution_count": null,
   "id": "dac6eb74",
   "metadata": {
    "executionInfo": {
     "elapsed": 623,
     "status": "aborted",
     "timestamp": 1622564194644,
     "user": {
      "displayName": "Emerson Gatica",
      "photoUrl": "https://lh3.googleusercontent.com/a-/AOh14GjKzasbyxCvXm6o33OIAlDM5H4HGLIiyVGh4HAjUfQ=s64",
      "userId": "09201646635679341405"
     },
     "user_tz": 240
    },
    "id": "dac6eb74"
   },
   "outputs": [],
   "source": [
    "def build_model():\n",
    "    model = models.Sequential()\n",
    "    model.add(layers.Dense(64, activation='relu',\n",
    "                           input_shape=(train_data.shape[1],)))\n",
    "    model.add(layers.Dense(54, activation='relu'))\n",
    "    model.add(layers.Dense(34, activation='relu'))\n",
    "    \n",
    "    model.add(layers.Dense(1))\n",
    "    model.compile(optimizer='rmsprop', loss='mse', metrics=['mae'])\n",
    "    return model"
   ]
  },
  {
   "cell_type": "markdown",
   "id": "af8ff176",
   "metadata": {
    "id": "af8ff176"
   },
   "source": [
    "```python\n",
    "# TODO: Check why MAE is different. Should actually use a pipeline\n",
    "from sklearn.model_selection import cross_val_score\n",
    "clf = KerasClassifier(build_model)\n",
    "X = np.concatenate([train_data,test_data],axis=0)\n",
    "y = np.concatenate([train_targets,test_targets],axis=0)\n",
    "score = cross_val_score(clf, train_data, train_targets, scoring='neg_mean_absolute_error', cv=4,\n",
    "                        fit_params={'epochs': 10, 'batch_size':1, 'verbose':0});\n",
    "print(\"MAE: \", -np.mean(score))\n",
    "```"
   ]
  },
  {
   "cell_type": "code",
   "execution_count": null,
   "id": "ae3927a9",
   "metadata": {
    "executionInfo": {
     "elapsed": 624,
     "status": "aborted",
     "timestamp": 1622564194645,
     "user": {
      "displayName": "Emerson Gatica",
      "photoUrl": "https://lh3.googleusercontent.com/a-/AOh14GjKzasbyxCvXm6o33OIAlDM5H4HGLIiyVGh4HAjUfQ=s64",
      "userId": "09201646635679341405"
     },
     "user_tz": 240
    },
    "id": "ae3927a9"
   },
   "outputs": [],
   "source": [
    "import numpy as np\n",
    "\n",
    "k = 4\n",
    "num_val_samples = len(train_data) // k\n",
    "num_epochs = 30\n",
    "all_scores = []\n",
    "for i in range(k):\n",
    "    print('processing fold #', i)\n",
    "    # Prepare the validation data: data from partition # k\n",
    "    val_data = train_data[i * num_val_samples: (i + 1) * num_val_samples]\n",
    "    val_targets = train_targets[i * num_val_samples: (i + 1) * num_val_samples]\n",
    "\n",
    "    # Prepare the training data: data from all other partitions\n",
    "    partial_train_data = np.concatenate(\n",
    "        [train_data[:i * num_val_samples],\n",
    "         train_data[(i + 1) * num_val_samples:]],\n",
    "        axis=0)\n",
    "    partial_train_targets = np.concatenate(\n",
    "        [train_targets[:i * num_val_samples],\n",
    "         train_targets[(i + 1) * num_val_samples:]],\n",
    "        axis=0)\n",
    "\n",
    "    # Build the Keras model (already compiled)\n",
    "    model = build_model()\n",
    "    # Train the model (in silent mode, verbose=0)\n",
    "    model.fit(partial_train_data, partial_train_targets,\n",
    "              epochs=num_epochs, batch_size=1, verbose=0)\n",
    "    # Evaluate the model on the validation data\n",
    "    val_mse, val_mae = model.evaluate(val_data, val_targets, verbose=0)\n",
    "    all_scores.append(val_mae)"
   ]
  },
  {
   "cell_type": "code",
   "execution_count": null,
   "id": "650ed87a",
   "metadata": {
    "executionInfo": {
     "elapsed": 624,
     "status": "aborted",
     "timestamp": 1622564194645,
     "user": {
      "displayName": "Emerson Gatica",
      "photoUrl": "https://lh3.googleusercontent.com/a-/AOh14GjKzasbyxCvXm6o33OIAlDM5H4HGLIiyVGh4HAjUfQ=s64",
      "userId": "09201646635679341405"
     },
     "user_tz": 240
    },
    "id": "650ed87a"
   },
   "outputs": [],
   "source": [
    "print(\"MAE: \", np.mean(all_scores))"
   ]
  },
  {
   "cell_type": "markdown",
   "id": "e41a672a",
   "metadata": {
    "id": "e41a672a"
   },
   "source": [
    "Entrena durante más tiempo (500 épocas) y realiza un seguimiento de las pérdidas después de cada época\n",
    "(ver código en el notebook)"
   ]
  },
  {
   "cell_type": "code",
   "execution_count": null,
   "id": "ad4eca12",
   "metadata": {
    "executionInfo": {
     "elapsed": 624,
     "status": "aborted",
     "timestamp": 1622564194645,
     "user": {
      "displayName": "Emerson Gatica",
      "photoUrl": "https://lh3.googleusercontent.com/a-/AOh14GjKzasbyxCvXm6o33OIAlDM5H4HGLIiyVGh4HAjUfQ=s64",
      "userId": "09201646635679341405"
     },
     "user_tz": 240
    },
    "id": "ad4eca12"
   },
   "outputs": [],
   "source": [
    "from keras import backend as K\n",
    "K.clear_session() # Memory clean-up\n",
    "\n",
    "num_epochs = 50\n",
    "all_mae_histories = []\n",
    "for i in range(k):\n",
    "    print('processing fold #', i)\n",
    "    # Prepare the validation data: data from partition # k\n",
    "    val_data = train_data[i * num_val_samples: (i + 1) * num_val_samples]\n",
    "    val_targets = train_targets[i * num_val_samples: (i + 1) * num_val_samples]\n",
    "\n",
    "    # Prepare the training data: data from all other partitions\n",
    "    partial_train_data = np.concatenate(\n",
    "        [train_data[:i * num_val_samples],\n",
    "         train_data[(i + 1) * num_val_samples:]],\n",
    "        axis=0)\n",
    "    partial_train_targets = np.concatenate(\n",
    "        [train_targets[:i * num_val_samples],\n",
    "         train_targets[(i + 1) * num_val_samples:]],\n",
    "        axis=0)\n",
    "\n",
    "    # Build the Keras model (already compiled)\n",
    "    model = build_model()\n",
    "    # Train the model (in silent mode, verbose=0)\n",
    "    history = model.fit(partial_train_data, partial_train_targets,\n",
    "                        validation_data=(val_data, val_targets),\n",
    "                        epochs=num_epochs, batch_size=1, verbose=0)\n",
    "    mae_history = history.history['val_mae']\n",
    "    all_mae_histories.append(mae_history)"
   ]
  },
  {
   "cell_type": "markdown",
   "id": "a15dbf30",
   "metadata": {
    "id": "a15dbf30"
   },
   "source": [
    "El modelo comienza a sobreajustarse después de la época 80."
   ]
  },
  {
   "cell_type": "code",
   "execution_count": null,
   "id": "5f67d61c",
   "metadata": {
    "executionInfo": {
     "elapsed": 624,
     "status": "aborted",
     "timestamp": 1622564194646,
     "user": {
      "displayName": "Emerson Gatica",
      "photoUrl": "https://lh3.googleusercontent.com/a-/AOh14GjKzasbyxCvXm6o33OIAlDM5H4HGLIiyVGh4HAjUfQ=s64",
      "userId": "09201646635679341405"
     },
     "user_tz": 240
    },
    "id": "5f67d61c"
   },
   "outputs": [],
   "source": [
    "average_mae_history = [\n",
    "    np.mean([x[i] for x in all_mae_histories]) for i in range(num_epochs)]\n",
    "plt.plot(range(1, len(average_mae_history) + 1), average_mae_history)\n",
    "plt.xlabel('Epochs')\n",
    "plt.ylabel('Validation MAE')\n",
    "plt.show()"
   ]
  },
  {
   "cell_type": "code",
   "execution_count": null,
   "id": "44700a69",
   "metadata": {
    "executionInfo": {
     "elapsed": 624,
     "status": "aborted",
     "timestamp": 1622564194646,
     "user": {
      "displayName": "Emerson Gatica",
      "photoUrl": "https://lh3.googleusercontent.com/a-/AOh14GjKzasbyxCvXm6o33OIAlDM5H4HGLIiyVGh4HAjUfQ=s64",
      "userId": "09201646635679341405"
     },
     "user_tz": 240
    },
    "id": "44700a69"
   },
   "outputs": [],
   "source": [
    "#============================================\n",
    "# MAE de prophet(General)\n",
    "#============================================\n",
    "data.Error.abs().sum()/data.shape[0]"
   ]
  },
  {
   "cell_type": "markdown",
   "id": "16dfebdd",
   "metadata": {
    "id": "16dfebdd"
   },
   "source": [
    "Vuelva a entrenar con un número optimizado de épocas\n",
    "\n",
    "``` python\n",
    "model = build_model()\n",
    "model.fit(train_data, train_targets,\n",
    "          epochs=80, batch_size=16, verbose=0)\n",
    "```"
   ]
  },
  {
   "cell_type": "code",
   "execution_count": null,
   "id": "5155e7ad",
   "metadata": {
    "executionInfo": {
     "elapsed": 624,
     "status": "aborted",
     "timestamp": 1622564194646,
     "user": {
      "displayName": "Emerson Gatica",
      "photoUrl": "https://lh3.googleusercontent.com/a-/AOh14GjKzasbyxCvXm6o33OIAlDM5H4HGLIiyVGh4HAjUfQ=s64",
      "userId": "09201646635679341405"
     },
     "user_tz": 240
    },
    "id": "5155e7ad",
    "scrolled": true
   },
   "outputs": [],
   "source": [
    "# Get a fresh, compiled model.\n",
    "model = build_model()\n",
    "# Train it on the entirety of the data.\n",
    "model.fit(train_data, train_targets,\n",
    "          epochs=9,# batch_size=16, \n",
    "          verbose=0)\n",
    "test_mse_score, test_mae_score = model.evaluate(test_data, test_targets)\n",
    "print(\"MAE: \", test_mae_score)"
   ]
  },
  {
   "cell_type": "markdown",
   "id": "ca666325",
   "metadata": {
    "id": "ca666325"
   },
   "source": [
    "### Cross-validation\n",
    "* Keras no tiene soporte para cross-validation\n",
    "* Afortunadamente, podemos ajustar (o envolver) un modelo de Keras como una estimación de scikit-learn\n",
    "* También podemos implementar cross-validation nosotros mismos (ver notebook)\n",
    "* Generalmente hablando, cross-validation es complicado con las redes neuronales\n",
    "    * Es posible que algunas dobladas no converjan o fluctúen en la inicialización aleatoria.\n",
    "    \n",
    "``` python\n",
    "clf = KerasClassifier(build_model)\n",
    "score = cross_val_score(clf, train_data, train_targets, scoring='neg_mean_absolute_error', cv=4, fit_params={'epochs': 100, 'batch_size':1, 'verbose':0});\n",
    "```"
   ]
  },
  {
   "cell_type": "code",
   "execution_count": null,
   "id": "182e4ac4",
   "metadata": {
    "executionInfo": {
     "elapsed": 625,
     "status": "aborted",
     "timestamp": 1622564194647,
     "user": {
      "displayName": "Emerson Gatica",
      "photoUrl": "https://lh3.googleusercontent.com/a-/AOh14GjKzasbyxCvXm6o33OIAlDM5H4HGLIiyVGh4HAjUfQ=s64",
      "userId": "09201646635679341405"
     },
     "user_tz": 240
    },
    "id": "182e4ac4"
   },
   "outputs": [],
   "source": [
    "from keras.wrappers.scikit_learn import KerasClassifier, KerasRegressor\n",
    "from sklearn.model_selection import GridSearchCV\n",
    "\n",
    "def make_model(optimizer=\"adam\", hidden_size=32):\n",
    "    model = models.Sequential()\n",
    "    model.add(layers.Dense(16, activation='relu', input_shape=(10000,)))\n",
    "    model.add(layers.Dense(16, activation='relu'))\n",
    "    model.add(layers.Dense(1, activation='sigmoid'))\n",
    "\n",
    "    model.compile(optimizer='rmsprop',\n",
    "                  loss='binary_crossentropy',\n",
    "                  metrics=['accuracy'])\n",
    "    return model\n",
    "\n",
    "clf = KerasClassifier(make_model)\n",
    "param_grid = {'epochs': [1, 5, 10],  # epochs is fit parameter, not in make_model!\n",
    "              'hidden_size': [32, 64, 256],\n",
    "              'verbose' : [0]}\n",
    "grid = GridSearchCV(clf, param_grid=param_grid, cv=3)\n",
    "grid.fit(x_train, y_train)"
   ]
  },
  {
   "cell_type": "code",
   "execution_count": null,
   "id": "c99260b8",
   "metadata": {
    "executionInfo": {
     "elapsed": 625,
     "status": "aborted",
     "timestamp": 1622564194647,
     "user": {
      "displayName": "Emerson Gatica",
      "photoUrl": "https://lh3.googleusercontent.com/a-/AOh14GjKzasbyxCvXm6o33OIAlDM5H4HGLIiyVGh4HAjUfQ=s64",
      "userId": "09201646635679341405"
     },
     "user_tz": 240
    },
    "id": "c99260b8"
   },
   "outputs": [],
   "source": [
    "# TODO: Check why MAE is different. Should actually use a pipeline\n",
    "from sklearn.model_selection import cross_val_score\n",
    "clf = KerasClassifier(build_model)\n",
    "X = np.concatenate([train_data,test_data],axis=0)\n",
    "y = np.concatenate([train_targets,test_targets],axis=0)\n",
    "score = cross_val_score(clf, train_data, train_targets, scoring='neg_mean_absolute_error', cv=4,\n",
    "                        fit_params={'epochs': 100, 'batch_size':1, 'verbose':0});\n",
    "print(\"MAE: \", -np.mean(score))"
   ]
  },
  {
   "cell_type": "code",
   "execution_count": null,
   "id": "441e4f57",
   "metadata": {
    "executionInfo": {
     "elapsed": 626,
     "status": "aborted",
     "timestamp": 1622564194648,
     "user": {
      "displayName": "Emerson Gatica",
      "photoUrl": "https://lh3.googleusercontent.com/a-/AOh14GjKzasbyxCvXm6o33OIAlDM5H4HGLIiyVGh4HAjUfQ=s64",
      "userId": "09201646635679341405"
     },
     "user_tz": 240
    },
    "id": "441e4f57"
   },
   "outputs": [],
   "source": [
    "import numpy as np\n",
    "\n",
    "k = 4\n",
    "num_val_samples = len(train_data) // k\n",
    "num_epochs = 100\n",
    "all_scores = []\n",
    "for i in range(k):\n",
    "    print('processing fold #', i)\n",
    "    # Prepare the validation data: data from partition # k\n",
    "    val_data = train_data[i * num_val_samples: (i + 1) * num_val_samples]\n",
    "    val_targets = train_targets[i * num_val_samples: (i + 1) * num_val_samples]\n",
    "\n",
    "    # Prepare the training data: data from all other partitions\n",
    "    partial_train_data = np.concatenate(\n",
    "        [train_data[:i * num_val_samples],\n",
    "         train_data[(i + 1) * num_val_samples:]],\n",
    "        axis=0)\n",
    "    partial_train_targets = np.concatenate(\n",
    "        [train_targets[:i * num_val_samples],\n",
    "         train_targets[(i + 1) * num_val_samples:]],\n",
    "        axis=0)\n",
    "\n",
    "    # Build the Keras model (already compiled)\n",
    "    model = build_model()\n",
    "    # Train the model (in silent mode, verbose=0)\n",
    "    model.fit(partial_train_data, partial_train_targets,\n",
    "              epochs=num_epochs, batch_size=1, verbose=0)\n",
    "    # Evaluate the model on the validation data\n",
    "    val_mse, val_mae = model.evaluate(val_data, val_targets, verbose=0)\n",
    "    all_scores.append(val_mae)"
   ]
  },
  {
   "cell_type": "code",
   "execution_count": null,
   "id": "6439898e",
   "metadata": {
    "executionInfo": {
     "elapsed": 625,
     "status": "aborted",
     "timestamp": 1622564194648,
     "user": {
      "displayName": "Emerson Gatica",
      "photoUrl": "https://lh3.googleusercontent.com/a-/AOh14GjKzasbyxCvXm6o33OIAlDM5H4HGLIiyVGh4HAjUfQ=s64",
      "userId": "09201646635679341405"
     },
     "user_tz": 240
    },
    "id": "6439898e"
   },
   "outputs": [],
   "source": [
    "print(\"MAE: \", np.mean(all_scores))"
   ]
  },
  {
   "cell_type": "markdown",
   "id": "56929daf",
   "metadata": {
    "id": "56929daf"
   },
   "source": [
    "Entrena durante más tiempo (500 épocas) y realiza un seguimiento de las pérdidas después de cada época\n",
    "(ver código en el notebook)"
   ]
  },
  {
   "cell_type": "code",
   "execution_count": null,
   "id": "887e60b1",
   "metadata": {
    "executionInfo": {
     "elapsed": 624,
     "status": "aborted",
     "timestamp": 1622564194648,
     "user": {
      "displayName": "Emerson Gatica",
      "photoUrl": "https://lh3.googleusercontent.com/a-/AOh14GjKzasbyxCvXm6o33OIAlDM5H4HGLIiyVGh4HAjUfQ=s64",
      "userId": "09201646635679341405"
     },
     "user_tz": 240
    },
    "id": "887e60b1"
   },
   "outputs": [],
   "source": [
    "from keras import backend as K\n",
    "K.clear_session() # Memory clean-up\n",
    "\n",
    "num_epochs = 500\n",
    "all_mae_histories = []\n",
    "for i in range(k):\n",
    "    print('processing fold #', i)\n",
    "    # Prepare the validation data: data from partition # k\n",
    "    val_data = train_data[i * num_val_samples: (i + 1) * num_val_samples]\n",
    "    val_targets = train_targets[i * num_val_samples: (i + 1) * num_val_samples]\n",
    "\n",
    "    # Prepare the training data: data from all other partitions\n",
    "    partial_train_data = np.concatenate(\n",
    "        [train_data[:i * num_val_samples],\n",
    "         train_data[(i + 1) * num_val_samples:]],\n",
    "        axis=0)\n",
    "    partial_train_targets = np.concatenate(\n",
    "        [train_targets[:i * num_val_samples],\n",
    "         train_targets[(i + 1) * num_val_samples:]],\n",
    "        axis=0)\n",
    "\n",
    "    # Build the Keras model (already compiled)\n",
    "    model = build_model()\n",
    "    # Train the model (in silent mode, verbose=0)\n",
    "    history = model.fit(partial_train_data, partial_train_targets,\n",
    "                        validation_data=(val_data, val_targets),\n",
    "                        epochs=num_epochs, batch_size=1, verbose=0)\n",
    "    mae_history = history.history['val_mae']\n",
    "    all_mae_histories.append(mae_history)"
   ]
  },
  {
   "cell_type": "markdown",
   "id": "a1290c12",
   "metadata": {
    "id": "a1290c12"
   },
   "source": [
    "El modelo comienza a sobreajustarse después de la época 80."
   ]
  },
  {
   "cell_type": "code",
   "execution_count": null,
   "id": "b9164389",
   "metadata": {
    "executionInfo": {
     "elapsed": 624,
     "status": "aborted",
     "timestamp": 1622564194648,
     "user": {
      "displayName": "Emerson Gatica",
      "photoUrl": "https://lh3.googleusercontent.com/a-/AOh14GjKzasbyxCvXm6o33OIAlDM5H4HGLIiyVGh4HAjUfQ=s64",
      "userId": "09201646635679341405"
     },
     "user_tz": 240
    },
    "id": "b9164389"
   },
   "outputs": [],
   "source": [
    "average_mae_history = [\n",
    "    np.mean([x[i] for x in all_mae_histories]) for i in range(num_epochs)]\n",
    "plt.plot(range(1, len(average_mae_history) + 1), average_mae_history)\n",
    "plt.xlabel('Epochs')\n",
    "plt.ylabel('Validation MAE')\n",
    "plt.show()"
   ]
  },
  {
   "cell_type": "markdown",
   "id": "8910dab1",
   "metadata": {
    "id": "8910dab1"
   },
   "source": [
    "Vuelva a entrenar con un número optimizado de épocas\n",
    "\n",
    "``` python\n",
    "model = build_model()\n",
    "model.fit(train_data, train_targets,\n",
    "          epochs=80, batch_size=16, verbose=0)\n",
    "```"
   ]
  },
  {
   "cell_type": "code",
   "execution_count": null,
   "id": "de57765c",
   "metadata": {
    "executionInfo": {
     "elapsed": 625,
     "status": "aborted",
     "timestamp": 1622564194649,
     "user": {
      "displayName": "Emerson Gatica",
      "photoUrl": "https://lh3.googleusercontent.com/a-/AOh14GjKzasbyxCvXm6o33OIAlDM5H4HGLIiyVGh4HAjUfQ=s64",
      "userId": "09201646635679341405"
     },
     "user_tz": 240
    },
    "id": "de57765c"
   },
   "outputs": [],
   "source": [
    "# Get a fresh, compiled model.\n",
    "model = build_model()\n",
    "# Train it on the entirety of the data.\n",
    "model.fit(train_data, train_targets,\n",
    "          epochs=80, batch_size=16, verbose=0)\n",
    "test_mse_score, test_mae_score = model.evaluate(test_data, test_targets)\n",
    "print(\"MAE: \", test_mae_score)"
   ]
  },
  {
   "cell_type": "markdown",
   "id": "506ddb2b",
   "metadata": {
    "id": "506ddb2b"
   },
   "source": [
    "# ped sin prophet"
   ]
  },
  {
   "cell_type": "code",
   "execution_count": null,
   "id": "e92598b6",
   "metadata": {
    "executionInfo": {
     "elapsed": 625,
     "status": "aborted",
     "timestamp": 1622564194649,
     "user": {
      "displayName": "Emerson Gatica",
      "photoUrl": "https://lh3.googleusercontent.com/a-/AOh14GjKzasbyxCvXm6o33OIAlDM5H4HGLIiyVGh4HAjUfQ=s64",
      "userId": "09201646635679341405"
     },
     "user_tz": 240
    },
    "id": "e92598b6"
   },
   "outputs": [],
   "source": []
  },
  {
   "cell_type": "markdown",
   "id": "9443f252",
   "metadata": {
    "id": "9443f252"
   },
   "source": [
    "## (ANN) Parte Redes neuronales\n",
    "neural networks shape \n",
    "\n",
    "https://colab.research.google.com/drive/1HPcKN6IzB5uuj_MfqHcmBiSDsOjNeUBk#scrollTo=Ojn2s4BzpU4C"
   ]
  },
  {
   "cell_type": "markdown",
   "id": "cb2ef0fa",
   "metadata": {
    "id": "cb2ef0fa"
   },
   "source": [
    "### Data Train Data Test  "
   ]
  },
  {
   "cell_type": "markdown",
   "id": "5c38f3c0",
   "metadata": {
    "id": "5c38f3c0"
   },
   "source": [
    "#### Exploración de frecuencia "
   ]
  },
  {
   "cell_type": "code",
   "execution_count": null,
   "id": "17839db0",
   "metadata": {
    "executionInfo": {
     "elapsed": 625,
     "status": "aborted",
     "timestamp": 1622564194649,
     "user": {
      "displayName": "Emerson Gatica",
      "photoUrl": "https://lh3.googleusercontent.com/a-/AOh14GjKzasbyxCvXm6o33OIAlDM5H4HGLIiyVGh4HAjUfQ=s64",
      "userId": "09201646635679341405"
     },
     "user_tz": 240
    },
    "id": "17839db0"
   },
   "outputs": [],
   "source": [
    "tempo[['y','yhat','Error']].head()"
   ]
  },
  {
   "cell_type": "markdown",
   "id": "6cc6e451",
   "metadata": {
    "id": "6cc6e451"
   },
   "source": [
    "MAE= Mean Abs Err\n",
    "Sum(ABst(Erorr))\n",
    "\n",
    "perid= x*C +- MAE ->\n",
    "\n",
    "PRed=x*C neteo en el error\n",
    "\n",
    "Pred_sem= Sum(Pred semaa)-> Error"
   ]
  },
  {
   "cell_type": "code",
   "execution_count": null,
   "id": "2c27dedf",
   "metadata": {
    "executionInfo": {
     "elapsed": 625,
     "status": "aborted",
     "timestamp": 1622564194650,
     "user": {
      "displayName": "Emerson Gatica",
      "photoUrl": "https://lh3.googleusercontent.com/a-/AOh14GjKzasbyxCvXm6o33OIAlDM5H4HGLIiyVGh4HAjUfQ=s64",
      "userId": "09201646635679341405"
     },
     "user_tz": 240
    },
    "id": "2c27dedf",
    "scrolled": true
   },
   "outputs": [],
   "source": [
    "tempo=tempdf[tempdf.Año=='2021']#.head(4)\n",
    "tempo.Semana=tempo.Semana.astype('float64')\n",
    "tempo.Error=tempo.Error.astype('float64')#.abs()\n",
    "tempo.Error.sum()#/tempo.shape[0]"
   ]
  },
  {
   "cell_type": "code",
   "execution_count": null,
   "id": "0612c9fc",
   "metadata": {
    "executionInfo": {
     "elapsed": 624,
     "status": "aborted",
     "timestamp": 1622564194650,
     "user": {
      "displayName": "Emerson Gatica",
      "photoUrl": "https://lh3.googleusercontent.com/a-/AOh14GjKzasbyxCvXm6o33OIAlDM5H4HGLIiyVGh4HAjUfQ=s64",
      "userId": "09201646635679341405"
     },
     "user_tz": 240
    },
    "id": "0612c9fc"
   },
   "outputs": [],
   "source": [
    "300/31"
   ]
  },
  {
   "cell_type": "code",
   "execution_count": null,
   "id": "cf64dcaa",
   "metadata": {
    "executionInfo": {
     "elapsed": 625,
     "status": "aborted",
     "timestamp": 1622564194651,
     "user": {
      "displayName": "Emerson Gatica",
      "photoUrl": "https://lh3.googleusercontent.com/a-/AOh14GjKzasbyxCvXm6o33OIAlDM5H4HGLIiyVGh4HAjUfQ=s64",
      "userId": "09201646635679341405"
     },
     "user_tz": 240
    },
    "id": "cf64dcaa"
   },
   "outputs": [],
   "source": [
    "tempo=tempdf[tempdf.Año=='2021']#.head(4)\n",
    "tempo=tempo[tempo.Año=='2021']#.head(4)\n",
    "tempo.Semana=tempo.Semana.astype('float64')\n",
    "tempo.y=tempo.y.astype('float64')#.abs()\n",
    "tempo.y.sum()#/tempo.shape[0]"
   ]
  },
  {
   "cell_type": "code",
   "execution_count": null,
   "id": "d2917a4c",
   "metadata": {
    "executionInfo": {
     "elapsed": 625,
     "status": "aborted",
     "timestamp": 1622564194651,
     "user": {
      "displayName": "Emerson Gatica",
      "photoUrl": "https://lh3.googleusercontent.com/a-/AOh14GjKzasbyxCvXm6o33OIAlDM5H4HGLIiyVGh4HAjUfQ=s64",
      "userId": "09201646635679341405"
     },
     "user_tz": 240
    },
    "id": "d2917a4c"
   },
   "outputs": [],
   "source": [
    "tempo=tempdf[tempdf.Año=='2021']#.head(4)\n",
    "tempo.Semana=tempo.Semana.astype('float64')\n",
    "tempo.yhat=tempo.yhat.astype('float64')#.abs()\n",
    "tempo.yhat.sum()#/tempo.shape[0]"
   ]
  },
  {
   "cell_type": "code",
   "execution_count": null,
   "id": "a93a7524",
   "metadata": {
    "executionInfo": {
     "elapsed": 624,
     "status": "aborted",
     "timestamp": 1622564194651,
     "user": {
      "displayName": "Emerson Gatica",
      "photoUrl": "https://lh3.googleusercontent.com/a-/AOh14GjKzasbyxCvXm6o33OIAlDM5H4HGLIiyVGh4HAjUfQ=s64",
      "userId": "09201646635679341405"
     },
     "user_tz": 240
    },
    "id": "a93a7524"
   },
   "outputs": [],
   "source": [
    "tempo.tail()"
   ]
  },
  {
   "cell_type": "code",
   "execution_count": null,
   "id": "e15f3f59",
   "metadata": {
    "executionInfo": {
     "elapsed": 625,
     "status": "aborted",
     "timestamp": 1622564194652,
     "user": {
      "displayName": "Emerson Gatica",
      "photoUrl": "https://lh3.googleusercontent.com/a-/AOh14GjKzasbyxCvXm6o33OIAlDM5H4HGLIiyVGh4HAjUfQ=s64",
      "userId": "09201646635679341405"
     },
     "user_tz": 240
    },
    "id": "e15f3f59"
   },
   "outputs": [],
   "source": [
    "tempdf['Día natural'].describe()"
   ]
  },
  {
   "cell_type": "code",
   "execution_count": null,
   "id": "9b87aeaf",
   "metadata": {
    "executionInfo": {
     "elapsed": 624,
     "status": "aborted",
     "timestamp": 1622564194652,
     "user": {
      "displayName": "Emerson Gatica",
      "photoUrl": "https://lh3.googleusercontent.com/a-/AOh14GjKzasbyxCvXm6o33OIAlDM5H4HGLIiyVGh4HAjUfQ=s64",
      "userId": "09201646635679341405"
     },
     "user_tz": 240
    },
    "id": "9b87aeaf"
   },
   "outputs": [],
   "source": [
    "def rep(df,i=0):\n",
    "    temp=df.groupby('Día natural').count()['Semana'].reset_index()\n",
    "    list_temp=temp[temp['Semana']>1]['Día natural'].to_list()\n",
    "    print('cantidad de datos repetidos: ',temp.shape)\n",
    "    print('cantidad de dias repetidos: ',len(list_temp))\n",
    "    #=======================================================\n",
    "    #return(df[df['Día natural']==list_temp[i]])\n",
    "\n",
    "rep(tempdf,1)"
   ]
  },
  {
   "cell_type": "markdown",
   "id": "99490fc0",
   "metadata": {
    "id": "99490fc0"
   },
   "source": [
    "#### Separación "
   ]
  },
  {
   "cell_type": "code",
   "execution_count": null,
   "id": "a7b185cd",
   "metadata": {
    "executionInfo": {
     "elapsed": 624,
     "status": "aborted",
     "timestamp": 1622564194652,
     "user": {
      "displayName": "Emerson Gatica",
      "photoUrl": "https://lh3.googleusercontent.com/a-/AOh14GjKzasbyxCvXm6o33OIAlDM5H4HGLIiyVGh4HAjUfQ=s64",
      "userId": "09201646635679341405"
     },
     "user_tz": 240
    },
    "id": "a7b185cd"
   },
   "outputs": [],
   "source": [
    "tempdf.columns[len(prophet_Fest.columns)-6]"
   ]
  },
  {
   "cell_type": "code",
   "execution_count": null,
   "id": "1590ce8e",
   "metadata": {
    "executionInfo": {
     "elapsed": 624,
     "status": "aborted",
     "timestamp": 1622564194653,
     "user": {
      "displayName": "Emerson Gatica",
      "photoUrl": "https://lh3.googleusercontent.com/a-/AOh14GjKzasbyxCvXm6o33OIAlDM5H4HGLIiyVGh4HAjUfQ=s64",
      "userId": "09201646635679341405"
     },
     "user_tz": 240
    },
    "id": "1590ce8e"
   },
   "outputs": [],
   "source": [
    "#data.sort_values?"
   ]
  },
  {
   "cell_type": "code",
   "execution_count": null,
   "id": "227b6608",
   "metadata": {
    "executionInfo": {
     "elapsed": 624,
     "status": "aborted",
     "timestamp": 1622564194653,
     "user": {
      "displayName": "Emerson Gatica",
      "photoUrl": "https://lh3.googleusercontent.com/a-/AOh14GjKzasbyxCvXm6o33OIAlDM5H4HGLIiyVGh4HAjUfQ=s64",
      "userId": "09201646635679341405"
     },
     "user_tz": 240
    },
    "id": "227b6608"
   },
   "outputs": [],
   "source": [
    "#data.sort_values(\"First Name\", inplace=True)\n",
    "data=tempdf.copy()\n",
    "data.sort_values('Día natural',ascending=True , inplace=True)\n",
    "data['Día natural'].head()"
   ]
  },
  {
   "cell_type": "markdown",
   "id": "c1f10bbe",
   "metadata": {
    "id": "c1f10bbe"
   },
   "source": [
    "Elimnando columnas que no son de interes"
   ]
  },
  {
   "cell_type": "code",
   "execution_count": null,
   "id": "e56621c9",
   "metadata": {
    "executionInfo": {
     "elapsed": 624,
     "status": "aborted",
     "timestamp": 1622564194653,
     "user": {
      "displayName": "Emerson Gatica",
      "photoUrl": "https://lh3.googleusercontent.com/a-/AOh14GjKzasbyxCvXm6o33OIAlDM5H4HGLIiyVGh4HAjUfQ=s64",
      "userId": "09201646635679341405"
     },
     "user_tz": 240
    },
    "id": "e56621c9"
   },
   "outputs": [],
   "source": [
    "Lista_De_Columns=data.columns[2:]\n",
    "\n",
    "#elimino la demanda\n",
    "Lista_De_Columns=Lista_De_Columns.drop('Kilos Venta KG')\n",
    "#elimino los dias naturales\n",
    "Lista_De_Columns=Lista_De_Columns.drop('Día natural')\n",
    "\n",
    "#elimino el feriado que viene con halloween\n",
    "Lista_De_Columns=Lista_De_Columns.drop('Día de las Iglesias Evangélicas y Protestantes')\n",
    "\n",
    "Lista_De_Columns=Lista_De_Columns.drop(['y', 'yhat','Error'])\n",
    "\n",
    "Lista_De_Columns"
   ]
  },
  {
   "cell_type": "code",
   "execution_count": null,
   "id": "23abd26c",
   "metadata": {
    "executionInfo": {
     "elapsed": 624,
     "status": "aborted",
     "timestamp": 1622564194654,
     "user": {
      "displayName": "Emerson Gatica",
      "photoUrl": "https://lh3.googleusercontent.com/a-/AOh14GjKzasbyxCvXm6o33OIAlDM5H4HGLIiyVGh4HAjUfQ=s64",
      "userId": "09201646635679341405"
     },
     "user_tz": 240
    },
    "id": "23abd26c"
   },
   "outputs": [],
   "source": [
    "data[['Demanda Zona KG',\n",
    "       '% del volumen a Supermercados', '% del volumen a Tradicional']]=data[['Demanda Zona KG',\n",
    "       '% del volumen a Supermercados', '% del volumen a Tradicional']].astype('float64')#.dtypes"
   ]
  },
  {
   "cell_type": "code",
   "execution_count": null,
   "id": "ac5e64cb",
   "metadata": {
    "executionInfo": {
     "elapsed": 624,
     "status": "aborted",
     "timestamp": 1622564194654,
     "user": {
      "displayName": "Emerson Gatica",
      "photoUrl": "https://lh3.googleusercontent.com/a-/AOh14GjKzasbyxCvXm6o33OIAlDM5H4HGLIiyVGh4HAjUfQ=s64",
      "userId": "09201646635679341405"
     },
     "user_tz": 240
    },
    "id": "ac5e64cb",
    "scrolled": true
   },
   "outputs": [],
   "source": [
    "data[data['Año']=='2021'].head()\n",
    "data.iloc[607:].head()"
   ]
  },
  {
   "cell_type": "markdown",
   "id": "8286f8d7",
   "metadata": {
    "id": "8286f8d7"
   },
   "source": [
    "transformar los volumenes a kg, en ves de demanda , definirla como la dispoibilidad, \n",
    "\n",
    "11-2019 ->\n",
    "\n",
    "\n",
    "2019->"
   ]
  },
  {
   "cell_type": "code",
   "execution_count": null,
   "id": "e5d2b894",
   "metadata": {
    "executionInfo": {
     "elapsed": 623,
     "status": "aborted",
     "timestamp": 1622564194654,
     "user": {
      "displayName": "Emerson Gatica",
      "photoUrl": "https://lh3.googleusercontent.com/a-/AOh14GjKzasbyxCvXm6o33OIAlDM5H4HGLIiyVGh4HAjUfQ=s64",
      "userId": "09201646635679341405"
     },
     "user_tz": 240
    },
    "id": "e5d2b894",
    "scrolled": true
   },
   "outputs": [],
   "source": [
    "data['Precio Promedio CLP']=data['Precio Promedio CLP'].astype('float64')\n",
    "data['y']=data['y'].astype('float64')\n",
    "\n",
    "data['Precio Promedio CLP']=data['Precio Promedio CLP'].astype('int64')\n",
    "data['y']=data['y'].astype('int64')\n",
    "\n",
    "corte=608\n",
    "(train_data, train_targets)=(data[Lista_De_Columns].iloc[:corte].copy(),data['y'].iloc[:corte].copy().to_numpy())\n",
    "\n",
    "(test_data, test_targets) = (data[Lista_De_Columns].iloc[corte:].copy(),data['y'].iloc[corte:].copy().to_numpy())"
   ]
  },
  {
   "cell_type": "markdown",
   "id": "9eec6a47",
   "metadata": {
    "id": "9eec6a47"
   },
   "source": [
    "``` python\n",
    "(train_data, train_targets), (test_data, test_targets) =  boston_housing.load_data()\n",
    "prophet_Fest.head()\n",
    "``` "
   ]
  },
  {
   "cell_type": "markdown",
   "id": "8c6f263a",
   "metadata": {
    "id": "8c6f263a"
   },
   "source": [
    "#### Trasnformar categorias en variables dummys "
   ]
  },
  {
   "cell_type": "code",
   "execution_count": null,
   "id": "55824730",
   "metadata": {
    "executionInfo": {
     "elapsed": 624,
     "status": "aborted",
     "timestamp": 1622564194655,
     "user": {
      "displayName": "Emerson Gatica",
      "photoUrl": "https://lh3.googleusercontent.com/a-/AOh14GjKzasbyxCvXm6o33OIAlDM5H4HGLIiyVGh4HAjUfQ=s64",
      "userId": "09201646635679341405"
     },
     "user_tz": 240
    },
    "id": "55824730",
    "scrolled": true
   },
   "outputs": [],
   "source": [
    "#from sklearn.model_selection import train_test_split\n",
    "def norml(X,XT,col):\n",
    "    i=col\n",
    "    \n",
    "    X[i]=X[i].astype('float64')\n",
    "    XT[i]=XT[i].astype('float64')\n",
    "    \n",
    "    X[i]=X[i].astype('int64')\n",
    "    XT[i]=XT[i].astype('int64')\n",
    "    \n",
    "    meanP=X[i].mean()\n",
    "    sdP=X[i].std()\n",
    "    X[i]=X[i]-meanP\n",
    "    X[i]=X[i]/sdP\n",
    "    \n",
    "    XT[i]\n",
    "    XT[i]=XT[i]-meanP\n",
    "    XT[i]=XT[i]/sdP\n",
    "    return(X,XT)\n",
    "\n",
    "def dummy_trsf(Train,Test,Cols):\n",
    "    X=Train.copy()\n",
    "    \n",
    "   \n",
    "    for i in Cols:\n",
    "        X[i]=X[i].astype('category')\n",
    "    \n",
    "    \n",
    "    \n",
    "    XT=Test.copy()\n",
    "    X['Precio Promedio CLP'].astype('int64')\n",
    "    \n",
    "    for col in ['Precio Promedio CLP','Demanda Zona KG',\n",
    "       '% del volumen a Supermercados', '% del volumen a Tradicional']:\n",
    "        (X,XT)=norml(X,XT,col)\n",
    "    \n",
    "    \n",
    "    for i in Cols:\n",
    "        XT[i]=XT[i].astype('category')\n",
    "    #X.dtypes\n",
    "    \n",
    "    \n",
    "    X_uni=pd.concat([X, XT], ignore_index=True)\n",
    "    intercept=X.shape[0]\n",
    "    #print(X_uni.dtypes)\n",
    "    #=======================================\n",
    "    X=pd.get_dummies(X_uni, drop_first=True).iloc[:intercept]\n",
    "    \n",
    "    XT=pd.get_dummies(X_uni, drop_first=True).iloc[intercept:]\n",
    "    #=======================================\n",
    "    return(X.to_numpy(),XT.to_numpy())\n",
    "#(train_data,test_data)=\n",
    "#(TR,TE)=dummy_trsf(train_data,test_data,Lista_De_Columns.drop('Precio Promedio CLP'))\n",
    "#print(TR.shape,TE.shape)\n",
    "(train_data,test_data)=dummy_trsf(train_data,test_data,Lista_De_Columns.drop('Precio Promedio CLP'))\n",
    "print(train_data.shape,test_data.shape)"
   ]
  },
  {
   "cell_type": "code",
   "execution_count": null,
   "id": "fe30431a",
   "metadata": {
    "executionInfo": {
     "elapsed": 624,
     "status": "aborted",
     "timestamp": 1622564194655,
     "user": {
      "displayName": "Emerson Gatica",
      "photoUrl": "https://lh3.googleusercontent.com/a-/AOh14GjKzasbyxCvXm6o33OIAlDM5H4HGLIiyVGh4HAjUfQ=s64",
      "userId": "09201646635679341405"
     },
     "user_tz": 240
    },
    "id": "fe30431a"
   },
   "outputs": [],
   "source": [
    "type(train_targets)\n",
    "train_targets.shape\n",
    "train_targets"
   ]
  },
  {
   "cell_type": "code",
   "execution_count": null,
   "id": "ec0ad3b6",
   "metadata": {
    "executionInfo": {
     "elapsed": 623,
     "status": "aborted",
     "timestamp": 1622564194655,
     "user": {
      "displayName": "Emerson Gatica",
      "photoUrl": "https://lh3.googleusercontent.com/a-/AOh14GjKzasbyxCvXm6o33OIAlDM5H4HGLIiyVGh4HAjUfQ=s64",
      "userId": "09201646635679341405"
     },
     "user_tz": 240
    },
    "id": "ec0ad3b6"
   },
   "outputs": [],
   "source": [
    "print('data',test_data.shape\n",
    ",'target',test_targets.shape)"
   ]
  },
  {
   "cell_type": "code",
   "execution_count": null,
   "id": "fe269b6a",
   "metadata": {
    "executionInfo": {
     "elapsed": 624,
     "status": "aborted",
     "timestamp": 1622564194656,
     "user": {
      "displayName": "Emerson Gatica",
      "photoUrl": "https://lh3.googleusercontent.com/a-/AOh14GjKzasbyxCvXm6o33OIAlDM5H4HGLIiyVGh4HAjUfQ=s64",
      "userId": "09201646635679341405"
     },
     "user_tz": 240
    },
    "id": "fe269b6a"
   },
   "outputs": [],
   "source": []
  },
  {
   "cell_type": "markdown",
   "id": "681b9921",
   "metadata": {
    "id": "681b9921"
   },
   "source": [
    "### Import "
   ]
  },
  {
   "cell_type": "code",
   "execution_count": null,
   "id": "efa4fc33",
   "metadata": {
    "executionInfo": {
     "elapsed": 623,
     "status": "aborted",
     "timestamp": 1622564194656,
     "user": {
      "displayName": "Emerson Gatica",
      "photoUrl": "https://lh3.googleusercontent.com/a-/AOh14GjKzasbyxCvXm6o33OIAlDM5H4HGLIiyVGh4HAjUfQ=s64",
      "userId": "09201646635679341405"
     },
     "user_tz": 240
    },
    "id": "efa4fc33"
   },
   "outputs": [],
   "source": [
    "# Global imports and settings\n",
    "#from preamble import *\n",
    "import keras\n",
    "print(\"Using Keras\",keras.__version__)\n",
    "%matplotlib inline\n",
    "plt.rcParams['figure.dpi'] = 125 # Use 300 for PDF, 100 for slides\n",
    "# InteractiveShell.ast_node_interactivity = \"all\"\n",
    "#HTML('''<style>html, body{overflow-y: visible !important} .CodeMirror{min-width:105% !important;} .rise-enabled .CodeMirror, .rise-enabled .output_subarea{font-size:140%; line-height:1.2; overflow: visible;} .output_subarea pre{width:110%}</style>''') # For slides"
   ]
  },
  {
   "cell_type": "code",
   "execution_count": null,
   "id": "78d151ef",
   "metadata": {
    "executionInfo": {
     "elapsed": 623,
     "status": "aborted",
     "timestamp": 1622564194656,
     "user": {
      "displayName": "Emerson Gatica",
      "photoUrl": "https://lh3.googleusercontent.com/a-/AOh14GjKzasbyxCvXm6o33OIAlDM5H4HGLIiyVGh4HAjUfQ=s64",
      "userId": "09201646635679341405"
     },
     "user_tz": 240
    },
    "id": "78d151ef"
   },
   "outputs": [],
   "source": [
    "from keras import models\n",
    "from keras import layers "
   ]
  },
  {
   "cell_type": "markdown",
   "id": "4698ddbd",
   "metadata": {
    "id": "4698ddbd"
   },
   "source": [
    "Para tener más control, puede crear explícitamente el optimizador, la pérdida y las métricas:\n",
    "\n",
    "``` python\n",
    "from keras import optimizers\n",
    "from keras import losses\n",
    "from keras import metrics\n",
    "model.compile(optimizer=optimizers.RMSprop(lr=0.001),\n",
    "              loss=losses.binary_crossentropy,\n",
    "              metrics=[metrics.binary_accuracy])\n",
    "```"
   ]
  },
  {
   "cell_type": "markdown",
   "id": "f050be1c",
   "metadata": {
    "id": "f050be1c"
   },
   "source": [
    "### Construyendo la red\n",
    "* Este es un conjunto de datos pequeño, muy fácil de sobreajustar\n",
    "    * Usamos 2 capas ocultas de 64 unidades cada una\n",
    "* Utilice lotes más pequeños, más épocas\n",
    "* Como queremos una salida escalar, la capa de salida es una unidad sin activación\n",
    "* Loss function es Mean Squared Error (mayor penalización)\n",
    "* La métrica de evaluación es Mean Absolute Error (más interpretable)\n",
    "* También usaremos cross-validation, así que envolvemos la construcción del modelo en una función, de modo que podamos llamarla varias veces"
   ]
  },
  {
   "cell_type": "markdown",
   "id": "424a9b62",
   "metadata": {
    "id": "424a9b62"
   },
   "source": [
    "``` python\n",
    "def build_model():\n",
    "    model = models.Sequential()\n",
    "    model.add(layers.Dense(64, activation='relu',\n",
    "                           input_shape=(train_data.shape[1],)))\n",
    "    model.add(layers.Dense(64, activation='relu'))\n",
    "    model.add(layers.Dense(1))\n",
    "    model.compile(optimizer='rmsprop', loss='mse', metrics=['mae'])\n",
    "    return model\n",
    "```"
   ]
  },
  {
   "cell_type": "code",
   "execution_count": null,
   "id": "0f0c3e5e",
   "metadata": {
    "executionInfo": {
     "elapsed": 624,
     "status": "aborted",
     "timestamp": 1622564194657,
     "user": {
      "displayName": "Emerson Gatica",
      "photoUrl": "https://lh3.googleusercontent.com/a-/AOh14GjKzasbyxCvXm6o33OIAlDM5H4HGLIiyVGh4HAjUfQ=s64",
      "userId": "09201646635679341405"
     },
     "user_tz": 240
    },
    "id": "0f0c3e5e"
   },
   "outputs": [],
   "source": [
    "def build_model():\n",
    "    model = models.Sequential()\n",
    "    model.add(layers.Dense(64, activation='relu',\n",
    "                           input_shape=(train_data.shape[1],)))\n",
    "    model.add(layers.Dense(54, activation='relu'))\n",
    "    model.add(layers.Dense(34, activation='relu'))\n",
    "    \n",
    "    model.add(layers.Dense(1))\n",
    "    model.compile(optimizer='rmsprop', loss='mse', metrics=['mae'])\n",
    "    return model"
   ]
  },
  {
   "cell_type": "markdown",
   "id": "30153722",
   "metadata": {
    "id": "30153722"
   },
   "source": [
    "```python\n",
    "# TODO: Check why MAE is different. Should actually use a pipeline\n",
    "from sklearn.model_selection import cross_val_score\n",
    "clf = KerasClassifier(build_model)\n",
    "X = np.concatenate([train_data,test_data],axis=0)\n",
    "y = np.concatenate([train_targets,test_targets],axis=0)\n",
    "score = cross_val_score(clf, train_data, train_targets, scoring='neg_mean_absolute_error', cv=4,\n",
    "                        fit_params={'epochs': 10, 'batch_size':1, 'verbose':0});\n",
    "print(\"MAE: \", -np.mean(score))\n",
    "```"
   ]
  },
  {
   "cell_type": "code",
   "execution_count": null,
   "id": "78db86f6",
   "metadata": {
    "executionInfo": {
     "elapsed": 623,
     "status": "aborted",
     "timestamp": 1622564194657,
     "user": {
      "displayName": "Emerson Gatica",
      "photoUrl": "https://lh3.googleusercontent.com/a-/AOh14GjKzasbyxCvXm6o33OIAlDM5H4HGLIiyVGh4HAjUfQ=s64",
      "userId": "09201646635679341405"
     },
     "user_tz": 240
    },
    "id": "78db86f6"
   },
   "outputs": [],
   "source": [
    "import numpy as np\n",
    "\n",
    "k = 4\n",
    "num_val_samples = len(train_data) // k\n",
    "num_epochs = 30\n",
    "all_scores = []\n",
    "for i in range(k):\n",
    "    print('processing fold #', i)\n",
    "    # Prepare the validation data: data from partition # k\n",
    "    val_data = train_data[i * num_val_samples: (i + 1) * num_val_samples]\n",
    "    val_targets = train_targets[i * num_val_samples: (i + 1) * num_val_samples]\n",
    "\n",
    "    # Prepare the training data: data from all other partitions\n",
    "    partial_train_data = np.concatenate(\n",
    "        [train_data[:i * num_val_samples],\n",
    "         train_data[(i + 1) * num_val_samples:]],\n",
    "        axis=0)\n",
    "    partial_train_targets = np.concatenate(\n",
    "        [train_targets[:i * num_val_samples],\n",
    "         train_targets[(i + 1) * num_val_samples:]],\n",
    "        axis=0)\n",
    "\n",
    "    # Build the Keras model (already compiled)\n",
    "    model = build_model()\n",
    "    # Train the model (in silent mode, verbose=0)\n",
    "    model.fit(partial_train_data, partial_train_targets,\n",
    "              epochs=num_epochs, batch_size=1, verbose=0)\n",
    "    # Evaluate the model on the validation data\n",
    "    val_mse, val_mae = model.evaluate(val_data, val_targets, verbose=0)\n",
    "    all_scores.append(val_mae)"
   ]
  },
  {
   "cell_type": "code",
   "execution_count": null,
   "id": "56294194",
   "metadata": {
    "executionInfo": {
     "elapsed": 624,
     "status": "aborted",
     "timestamp": 1622564194658,
     "user": {
      "displayName": "Emerson Gatica",
      "photoUrl": "https://lh3.googleusercontent.com/a-/AOh14GjKzasbyxCvXm6o33OIAlDM5H4HGLIiyVGh4HAjUfQ=s64",
      "userId": "09201646635679341405"
     },
     "user_tz": 240
    },
    "id": "56294194"
   },
   "outputs": [],
   "source": [
    "print(\"MAE: \", np.mean(all_scores))"
   ]
  },
  {
   "cell_type": "markdown",
   "id": "8e5c66d1",
   "metadata": {
    "id": "8e5c66d1"
   },
   "source": [
    "Entrena durante más tiempo (500 épocas) y realiza un seguimiento de las pérdidas después de cada época\n",
    "(ver código en el notebook)"
   ]
  },
  {
   "cell_type": "code",
   "execution_count": null,
   "id": "b24e70ba",
   "metadata": {
    "executionInfo": {
     "elapsed": 623,
     "status": "aborted",
     "timestamp": 1622564194658,
     "user": {
      "displayName": "Emerson Gatica",
      "photoUrl": "https://lh3.googleusercontent.com/a-/AOh14GjKzasbyxCvXm6o33OIAlDM5H4HGLIiyVGh4HAjUfQ=s64",
      "userId": "09201646635679341405"
     },
     "user_tz": 240
    },
    "id": "b24e70ba"
   },
   "outputs": [],
   "source": [
    "from keras import backend as K\n",
    "K.clear_session() # Memory clean-up\n",
    "\n",
    "num_epochs = 50\n",
    "all_mae_histories = []\n",
    "for i in range(k):\n",
    "    print('processing fold #', i)\n",
    "    # Prepare the validation data: data from partition # k\n",
    "    val_data = train_data[i * num_val_samples: (i + 1) * num_val_samples]\n",
    "    val_targets = train_targets[i * num_val_samples: (i + 1) * num_val_samples]\n",
    "\n",
    "    # Prepare the training data: data from all other partitions\n",
    "    partial_train_data = np.concatenate(\n",
    "        [train_data[:i * num_val_samples],\n",
    "         train_data[(i + 1) * num_val_samples:]],\n",
    "        axis=0)\n",
    "    partial_train_targets = np.concatenate(\n",
    "        [train_targets[:i * num_val_samples],\n",
    "         train_targets[(i + 1) * num_val_samples:]],\n",
    "        axis=0)\n",
    "\n",
    "    # Build the Keras model (already compiled)\n",
    "    model = build_model()\n",
    "    # Train the model (in silent mode, verbose=0)\n",
    "    history = model.fit(partial_train_data, partial_train_targets,\n",
    "                        validation_data=(val_data, val_targets),\n",
    "                        epochs=num_epochs, batch_size=1, verbose=0)\n",
    "    mae_history = history.history['val_mae']\n",
    "    all_mae_histories.append(mae_history)"
   ]
  },
  {
   "cell_type": "markdown",
   "id": "3bdcac0c",
   "metadata": {
    "id": "3bdcac0c"
   },
   "source": [
    "El modelo comienza a sobreajustarse después de la época 80."
   ]
  },
  {
   "cell_type": "code",
   "execution_count": null,
   "id": "3895225a",
   "metadata": {
    "executionInfo": {
     "elapsed": 624,
     "status": "aborted",
     "timestamp": 1622564194659,
     "user": {
      "displayName": "Emerson Gatica",
      "photoUrl": "https://lh3.googleusercontent.com/a-/AOh14GjKzasbyxCvXm6o33OIAlDM5H4HGLIiyVGh4HAjUfQ=s64",
      "userId": "09201646635679341405"
     },
     "user_tz": 240
    },
    "id": "3895225a"
   },
   "outputs": [],
   "source": [
    "average_mae_history = [\n",
    "    np.mean([x[i] for x in all_mae_histories]) for i in range(num_epochs)]\n",
    "plt.plot(range(1, len(average_mae_history) + 1), average_mae_history)\n",
    "plt.xlabel('Epochs')\n",
    "plt.ylabel('Validation MAE')\n",
    "plt.show()"
   ]
  },
  {
   "cell_type": "code",
   "execution_count": null,
   "id": "9350a761",
   "metadata": {
    "executionInfo": {
     "elapsed": 624,
     "status": "aborted",
     "timestamp": 1622564194659,
     "user": {
      "displayName": "Emerson Gatica",
      "photoUrl": "https://lh3.googleusercontent.com/a-/AOh14GjKzasbyxCvXm6o33OIAlDM5H4HGLIiyVGh4HAjUfQ=s64",
      "userId": "09201646635679341405"
     },
     "user_tz": 240
    },
    "id": "9350a761"
   },
   "outputs": [],
   "source": [
    "#============================================\n",
    "# MAE de prophet(General)\n",
    "#============================================\n",
    "data.Error.abs().sum()/data.shape[0]"
   ]
  },
  {
   "cell_type": "markdown",
   "id": "ee5f914c",
   "metadata": {
    "id": "ee5f914c"
   },
   "source": [
    "Vuelva a entrenar con un número optimizado de épocas\n",
    "\n",
    "``` python\n",
    "model = build_model()\n",
    "model.fit(train_data, train_targets,\n",
    "          epochs=80, batch_size=16, verbose=0)\n",
    "```"
   ]
  },
  {
   "cell_type": "code",
   "execution_count": null,
   "id": "da826830",
   "metadata": {
    "executionInfo": {
     "elapsed": 624,
     "status": "aborted",
     "timestamp": 1622564194660,
     "user": {
      "displayName": "Emerson Gatica",
      "photoUrl": "https://lh3.googleusercontent.com/a-/AOh14GjKzasbyxCvXm6o33OIAlDM5H4HGLIiyVGh4HAjUfQ=s64",
      "userId": "09201646635679341405"
     },
     "user_tz": 240
    },
    "id": "da826830",
    "scrolled": true
   },
   "outputs": [],
   "source": [
    "# Get a fresh, compiled model.\n",
    "model = build_model()\n",
    "# Train it on the entirety of the data.\n",
    "model.fit(train_data, train_targets,\n",
    "          epochs=9,# batch_size=16, \n",
    "          verbose=0)\n",
    "test_mse_score, test_mae_score = model.evaluate(test_data, test_targets)\n",
    "print(\"MAE: \", test_mae_score)"
   ]
  },
  {
   "cell_type": "markdown",
   "id": "78b01b3a",
   "metadata": {
    "id": "78b01b3a"
   },
   "source": [
    "### Cross-validation\n",
    "* Keras no tiene soporte para cross-validation\n",
    "* Afortunadamente, podemos ajustar (o envolver) un modelo de Keras como una estimación de scikit-learn\n",
    "* También podemos implementar cross-validation nosotros mismos (ver notebook)\n",
    "* Generalmente hablando, cross-validation es complicado con las redes neuronales\n",
    "    * Es posible que algunas dobladas no converjan o fluctúen en la inicialización aleatoria.\n",
    "    \n",
    "``` python\n",
    "clf = KerasClassifier(build_model)\n",
    "score = cross_val_score(clf, train_data, train_targets, scoring='neg_mean_absolute_error', cv=4, fit_params={'epochs': 100, 'batch_size':1, 'verbose':0});\n",
    "```"
   ]
  },
  {
   "cell_type": "code",
   "execution_count": null,
   "id": "efe968a1",
   "metadata": {
    "executionInfo": {
     "elapsed": 625,
     "status": "aborted",
     "timestamp": 1622564194661,
     "user": {
      "displayName": "Emerson Gatica",
      "photoUrl": "https://lh3.googleusercontent.com/a-/AOh14GjKzasbyxCvXm6o33OIAlDM5H4HGLIiyVGh4HAjUfQ=s64",
      "userId": "09201646635679341405"
     },
     "user_tz": 240
    },
    "id": "efe968a1"
   },
   "outputs": [],
   "source": [
    "from keras.wrappers.scikit_learn import KerasClassifier, KerasRegressor\n",
    "from sklearn.model_selection import GridSearchCV\n",
    "\n",
    "def make_model(optimizer=\"adam\", hidden_size=32):\n",
    "    model = models.Sequential()\n",
    "    model.add(layers.Dense(16, activation='relu', input_shape=(10000,)))\n",
    "    model.add(layers.Dense(16, activation='relu'))\n",
    "    model.add(layers.Dense(1, activation='sigmoid'))\n",
    "\n",
    "    model.compile(optimizer='rmsprop',\n",
    "                  loss='binary_crossentropy',\n",
    "                  metrics=['accuracy'])\n",
    "    return model\n",
    "\n",
    "clf = KerasClassifier(make_model)\n",
    "param_grid = {'epochs': [1, 5, 10],  # epochs is fit parameter, not in make_model!\n",
    "              'hidden_size': [32, 64, 256],\n",
    "              'verbose' : [0]}\n",
    "grid = GridSearchCV(clf, param_grid=param_grid, cv=3)\n",
    "grid.fit(x_train, y_train)"
   ]
  },
  {
   "cell_type": "code",
   "execution_count": null,
   "id": "fcf32895",
   "metadata": {
    "executionInfo": {
     "elapsed": 626,
     "status": "aborted",
     "timestamp": 1622564194662,
     "user": {
      "displayName": "Emerson Gatica",
      "photoUrl": "https://lh3.googleusercontent.com/a-/AOh14GjKzasbyxCvXm6o33OIAlDM5H4HGLIiyVGh4HAjUfQ=s64",
      "userId": "09201646635679341405"
     },
     "user_tz": 240
    },
    "id": "fcf32895"
   },
   "outputs": [],
   "source": [
    "# TODO: Check why MAE is different. Should actually use a pipeline\n",
    "from sklearn.model_selection import cross_val_score\n",
    "clf = KerasClassifier(build_model)\n",
    "X = np.concatenate([train_data,test_data],axis=0)\n",
    "y = np.concatenate([train_targets,test_targets],axis=0)\n",
    "score = cross_val_score(clf, train_data, train_targets, scoring='neg_mean_absolute_error', cv=4,\n",
    "                        fit_params={'epochs': 100, 'batch_size':1, 'verbose':0});\n",
    "print(\"MAE: \", -np.mean(score))"
   ]
  },
  {
   "cell_type": "code",
   "execution_count": null,
   "id": "39e6afb5",
   "metadata": {
    "executionInfo": {
     "elapsed": 626,
     "status": "aborted",
     "timestamp": 1622564194662,
     "user": {
      "displayName": "Emerson Gatica",
      "photoUrl": "https://lh3.googleusercontent.com/a-/AOh14GjKzasbyxCvXm6o33OIAlDM5H4HGLIiyVGh4HAjUfQ=s64",
      "userId": "09201646635679341405"
     },
     "user_tz": 240
    },
    "id": "39e6afb5"
   },
   "outputs": [],
   "source": [
    "import numpy as np\n",
    "\n",
    "k = 4\n",
    "num_val_samples = len(train_data) // k\n",
    "num_epochs = 100\n",
    "all_scores = []\n",
    "for i in range(k):\n",
    "    print('processing fold #', i)\n",
    "    # Prepare the validation data: data from partition # k\n",
    "    val_data = train_data[i * num_val_samples: (i + 1) * num_val_samples]\n",
    "    val_targets = train_targets[i * num_val_samples: (i + 1) * num_val_samples]\n",
    "\n",
    "    # Prepare the training data: data from all other partitions\n",
    "    partial_train_data = np.concatenate(\n",
    "        [train_data[:i * num_val_samples],\n",
    "         train_data[(i + 1) * num_val_samples:]],\n",
    "        axis=0)\n",
    "    partial_train_targets = np.concatenate(\n",
    "        [train_targets[:i * num_val_samples],\n",
    "         train_targets[(i + 1) * num_val_samples:]],\n",
    "        axis=0)\n",
    "\n",
    "    # Build the Keras model (already compiled)\n",
    "    model = build_model()\n",
    "    # Train the model (in silent mode, verbose=0)\n",
    "    model.fit(partial_train_data, partial_train_targets,\n",
    "              epochs=num_epochs, batch_size=1, verbose=0)\n",
    "    # Evaluate the model on the validation data\n",
    "    val_mse, val_mae = model.evaluate(val_data, val_targets, verbose=0)\n",
    "    all_scores.append(val_mae)"
   ]
  },
  {
   "cell_type": "code",
   "execution_count": null,
   "id": "5a5de52c",
   "metadata": {
    "executionInfo": {
     "elapsed": 626,
     "status": "aborted",
     "timestamp": 1622564194663,
     "user": {
      "displayName": "Emerson Gatica",
      "photoUrl": "https://lh3.googleusercontent.com/a-/AOh14GjKzasbyxCvXm6o33OIAlDM5H4HGLIiyVGh4HAjUfQ=s64",
      "userId": "09201646635679341405"
     },
     "user_tz": 240
    },
    "id": "5a5de52c"
   },
   "outputs": [],
   "source": [
    "print(\"MAE: \", np.mean(all_scores))"
   ]
  },
  {
   "cell_type": "markdown",
   "id": "77c0209e",
   "metadata": {
    "id": "77c0209e"
   },
   "source": [
    "Entrena durante más tiempo (500 épocas) y realiza un seguimiento de las pérdidas después de cada época\n",
    "(ver código en el notebook)"
   ]
  },
  {
   "cell_type": "code",
   "execution_count": null,
   "id": "efe8f48c",
   "metadata": {
    "executionInfo": {
     "elapsed": 627,
     "status": "aborted",
     "timestamp": 1622564194664,
     "user": {
      "displayName": "Emerson Gatica",
      "photoUrl": "https://lh3.googleusercontent.com/a-/AOh14GjKzasbyxCvXm6o33OIAlDM5H4HGLIiyVGh4HAjUfQ=s64",
      "userId": "09201646635679341405"
     },
     "user_tz": 240
    },
    "id": "efe8f48c"
   },
   "outputs": [],
   "source": [
    "from keras import backend as K\n",
    "K.clear_session() # Memory clean-up\n",
    "\n",
    "num_epochs = 500\n",
    "all_mae_histories = []\n",
    "for i in range(k):\n",
    "    print('processing fold #', i)\n",
    "    # Prepare the validation data: data from partition # k\n",
    "    val_data = train_data[i * num_val_samples: (i + 1) * num_val_samples]\n",
    "    val_targets = train_targets[i * num_val_samples: (i + 1) * num_val_samples]\n",
    "\n",
    "    # Prepare the training data: data from all other partitions\n",
    "    partial_train_data = np.concatenate(\n",
    "        [train_data[:i * num_val_samples],\n",
    "         train_data[(i + 1) * num_val_samples:]],\n",
    "        axis=0)\n",
    "    partial_train_targets = np.concatenate(\n",
    "        [train_targets[:i * num_val_samples],\n",
    "         train_targets[(i + 1) * num_val_samples:]],\n",
    "        axis=0)\n",
    "\n",
    "    # Build the Keras model (already compiled)\n",
    "    model = build_model()\n",
    "    # Train the model (in silent mode, verbose=0)\n",
    "    history = model.fit(partial_train_data, partial_train_targets,\n",
    "                        validation_data=(val_data, val_targets),\n",
    "                        epochs=num_epochs, batch_size=1, verbose=0)\n",
    "    mae_history = history.history['val_mae']\n",
    "    all_mae_histories.append(mae_history)"
   ]
  },
  {
   "cell_type": "markdown",
   "id": "2f9c7f72",
   "metadata": {
    "id": "2f9c7f72"
   },
   "source": [
    "El modelo comienza a sobreajustarse después de la época 80."
   ]
  },
  {
   "cell_type": "code",
   "execution_count": null,
   "id": "d038793d",
   "metadata": {
    "executionInfo": {
     "elapsed": 627,
     "status": "aborted",
     "timestamp": 1622564194664,
     "user": {
      "displayName": "Emerson Gatica",
      "photoUrl": "https://lh3.googleusercontent.com/a-/AOh14GjKzasbyxCvXm6o33OIAlDM5H4HGLIiyVGh4HAjUfQ=s64",
      "userId": "09201646635679341405"
     },
     "user_tz": 240
    },
    "id": "d038793d"
   },
   "outputs": [],
   "source": [
    "average_mae_history = [\n",
    "    np.mean([x[i] for x in all_mae_histories]) for i in range(num_epochs)]\n",
    "plt.plot(range(1, len(average_mae_history) + 1), average_mae_history)\n",
    "plt.xlabel('Epochs')\n",
    "plt.ylabel('Validation MAE')\n",
    "plt.show()"
   ]
  },
  {
   "cell_type": "markdown",
   "id": "a4fd574d",
   "metadata": {
    "id": "a4fd574d"
   },
   "source": [
    "Vuelva a entrenar con un número optimizado de épocas\n",
    "\n",
    "``` python\n",
    "model = build_model()\n",
    "model.fit(train_data, train_targets,\n",
    "          epochs=80, batch_size=16, verbose=0)\n",
    "```"
   ]
  },
  {
   "cell_type": "code",
   "execution_count": null,
   "id": "66349aab",
   "metadata": {
    "executionInfo": {
     "elapsed": 59,
     "status": "aborted",
     "timestamp": 1622564194667,
     "user": {
      "displayName": "Emerson Gatica",
      "photoUrl": "https://lh3.googleusercontent.com/a-/AOh14GjKzasbyxCvXm6o33OIAlDM5H4HGLIiyVGh4HAjUfQ=s64",
      "userId": "09201646635679341405"
     },
     "user_tz": 240
    },
    "id": "66349aab"
   },
   "outputs": [],
   "source": [
    "# Get a fresh, compiled model.\n",
    "model = build_model()\n",
    "# Train it on the entirety of the data.\n",
    "model.fit(train_data, train_targets,\n",
    "          epochs=80, batch_size=16, verbose=0)\n",
    "test_mse_score, test_mae_score = model.evaluate(test_data, test_targets)\n",
    "print(\"MAE: \", test_mae_score)"
   ]
  }
 ],
 "metadata": {
  "colab": {
   "name": "C) ANN Cluster 4 (FRecuente).ipynb",
   "provenance": []
  },
  "kernelspec": {
   "display_name": "Python 3",
   "language": "python",
   "name": "python3"
  },
  "language_info": {
   "codemirror_mode": {
    "name": "ipython",
    "version": 3
   },
   "file_extension": ".py",
   "mimetype": "text/x-python",
   "name": "python",
   "nbconvert_exporter": "python",
   "pygments_lexer": "ipython3",
   "version": "3.8.8"
  },
  "toc": {
   "base_numbering": 1,
   "nav_menu": {},
   "number_sections": true,
   "sideBar": true,
   "skip_h1_title": false,
   "title_cell": "Table of Contents",
   "title_sidebar": "Contents",
   "toc_cell": false,
   "toc_position": {
    "height": "calc(100% - 180px)",
    "left": "10px",
    "top": "150px",
    "width": "262.997px"
   },
   "toc_section_display": true,
   "toc_window_display": true
  }
 },
 "nbformat": 4,
 "nbformat_minor": 5
}
