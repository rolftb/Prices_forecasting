{
 "cells": [
  {
   "cell_type": "markdown",
   "id": "80590ae6",
   "metadata": {},
   "source": [
    "# Información previa\n",
    "\n",
    "## Diseño y esquema codigo\n",
    "\n",
    "1. Exploracion de los datos\n",
    "    1. Segmentar los datos por los cluster de clientes\n",
    "        - **Estudio de los comportamientos de demanda de cada cluster generico:**\n",
    "        \n",
    "        Plantear curvas de comportamiento de compra de cada cliente para cada cluster de clientes, de esta forma se visualizara si los clientes poseen estacionalidades similares a lo que respecta a las compras.\n",
    "\n",
    "        - curvas etacionales de los precios de compra de cada cliente, para cada cluster de clientes\n",
    "2. Creación de atributos\n",
    "    1. __Stock__\n",
    "        - Ajustar hora y valores \n",
    "    2. __Abastecimiento:__\n",
    "        \n",
    "        - Data demanda general.\n",
    "        - Cruzar con el stock \n",
    "        - tomar en cuenta que los productos se pueden eliminar.\n",
    "        Para el abastecimiento, se utilizarán 2 dias para definirlo\n",
    "    \n",
    "    3. __Demanda__\n",
    "        - Definir valores.\n",
    "        - Ajustar por medio del groupby, para que sea de cada cluster.\n",
    "        - \n",
    "        "
   ]
  },
  {
   "cell_type": "markdown",
   "id": "1564dada",
   "metadata": {},
   "source": [
    "## Temas a considerar de los datos\n",
    "\n",
    "### Data Cluster\n",
    "\n",
    "Los segmentos según lo analisado coinciden en las siguientes caracteristicas"
   ]
  },
  {
   "cell_type": "markdown",
   "id": "ed121f65",
   "metadata": {},
   "source": [
    "![title](img/Segmento_de_clientes.png)"
   ]
  },
  {
   "cell_type": "markdown",
   "id": "1a93e3f5",
   "metadata": {},
   "source": [
    "Los segmentos más llamativos a nivel demanda son **el 4 y el 2**\n",
    "\n",
    "* **Segmento 2 MAYORISTA**\n",
    "* **Segmento 4 FRECUENTES**"
   ]
  },
  {
   "cell_type": "markdown",
   "id": "1ed6a797",
   "metadata": {},
   "source": [
    "## Este es un extracto del paper:\n",
    " \n",
    "\n",
    "\t\n",
    "Ventas pasadas con retraso  k, es decir, ventas diarias para el SKU considerado de los últimos k días (tw k : ventana de tiempo de tamaño k ).\n",
    "\n",
    "\t\n",
    "* Variables binarias para caracterizar días especiales, como:\n",
    "    * Pago , que caracteriza los días al final de cada mes cuando las personas reciben el pago mensual.\n",
    "    * Pago intermedio , que caracteriza los días al final de cada quincena en que las personas reciben dos pagos semanales.\n",
    "    * Antes de las vacaciones , caracterizando los días antes de las vacaciones.\n",
    "    * Vacaciones , que caracterizan las vacaciones.\n",
    "    * Independencia , que caracteriza los días de la independencia de Chile (18 y 19 de septiembre).\n",
    "    * Santa , caracterizando los días de la semana antes del este.\n",
    "    * Vacaciones , caracterizando los días que pertenecen al período de vacaciones de verano (enero y febrero).\n",
    "    * Verano , que caracteriza los días de verano (1 de octubre-31 de marzo).\t\n",
    "    * Año nuevo (1 de enero), que caracteriza el único día de cierre de supermercados en Chile.\n",
    "\t\n",
    "\t\n",
    "* Variables de precio:\n",
    "    * Precio A  =  precio original del SKU considerado en Economax.\n",
    "    * Precio B  =  (Precio A) / (Precio máximo en micro-mercado).\n",
    "    * Precio C  =  (Precio A) / (Precio mínimo en micro-mercado).\n",
    "\n",
    "\t\t\n",
    "Observación : Las variables “Precio máximo en micro-mercado” y “Precio mínimo en micro-mercado” son el precio máximo (mínimo) para un determinado SKU en el micro-mercado relevante y son proporcionados por una empresa de investigación de mercado.\n",
    "\t\t\n",
    "\t\n",
    "\n",
    "\t\n",
    " "
   ]
  },
  {
   "cell_type": "markdown",
   "id": "33f26efe",
   "metadata": {},
   "source": [
    "# Package Install & Open Data\n"
   ]
  },
  {
   "cell_type": "markdown",
   "id": "6dc45620",
   "metadata": {},
   "source": [
    "## Import"
   ]
  },
  {
   "cell_type": "code",
   "execution_count": 41,
   "id": "0329dd78",
   "metadata": {},
   "outputs": [],
   "source": [
    "def Df_ubic(data_X,col,Str):\n",
    "    df=data_X.copy()\n",
    "    df=df[df[col]==Str]\n",
    "    return df"
   ]
  },
  {
   "cell_type": "code",
   "execution_count": 42,
   "id": "82536652",
   "metadata": {},
   "outputs": [],
   "source": [
    "# =============================================================================\n",
    "# Importar paquetes y abrir Data\n",
    "# =============================================================================\n",
    "\n",
    "#gestion DF\n",
    "import pandas as pd\n",
    "\n",
    "#Funciones mat y matricicales\n",
    "import numpy as np\n",
    "\n",
    "#ploteo simple\n",
    "import matplotlib.pyplot as plt\n",
    "\n",
    "# Graficas bonitas\n",
    "from plotnine import *\n",
    "\n",
    "#para ajustar las fechas\n",
    "import datetime\n",
    "\n",
    "#para calcular el skew de un array() o list()\n",
    "from scipy.stats import skew \n",
    "\n",
    "#mode function\n",
    "import statistics \n"
   ]
  },
  {
   "cell_type": "markdown",
   "id": "16ac89c7",
   "metadata": {},
   "source": [
    "##  Data Facturación CT\n",
    "Esta data contiene las facturaciones(Ventas a los clientes del canal tradicional)"
   ]
  },
  {
   "cell_type": "code",
   "execution_count": 43,
   "id": "e1159676",
   "metadata": {},
   "outputs": [],
   "source": [
    "# =============================================================================\n",
    "# Ajuste de los datos\n",
    "# =============================================================================\n",
    "\n",
    "col_names=pd.read_csv(\"Data/(column)Facturac_2017_2020.csv\",\n",
    "                    encoding=\"utf-8\",sep=\";\",nrows=0).columns\n",
    "types_dict = {col: str for col in col_names}\n",
    "\n",
    "Data = pd.read_csv(\"Data/(column)Facturac_2017_2020.csv\",\n",
    "                   encoding=\"utf-8\",sep=\";\",dtype=types_dict)"
   ]
  },
  {
   "cell_type": "code",
   "execution_count": 44,
   "id": "14e759cb",
   "metadata": {},
   "outputs": [],
   "source": [
    "col,Str='Oficina de Ventas Unifica','Temuco'\n",
    "Data=Df_ubic(Data,col,Str)"
   ]
  },
  {
   "cell_type": "markdown",
   "id": "28a39a98",
   "metadata": {},
   "source": [
    "### Ajuste facturaciones"
   ]
  },
  {
   "cell_type": "code",
   "execution_count": 45,
   "id": "bb6fe285",
   "metadata": {},
   "outputs": [],
   "source": [
    "# =============================================================================\n",
    "# Ajustar la data\n",
    "# =============================================================================\n",
    "def Ajuste_data(data):\n",
    "    df=data.copy()\n",
    "    # Funciones para eliminar los putos y cambiar las , por .\n",
    "    def change_num_point(x):\n",
    "        x=str(x)\n",
    "        return x.replace('.', '')\n",
    "    def change_num_coma(x):\n",
    "        x=str(x)\n",
    "        return x.replace(',', '.')\n",
    "    \n",
    "    #proceso iterativo, \n",
    "    for i in ['Kilos Venta KG','Venta Neta CLP','Precio Promedio CLP']:\n",
    "    # se elimina el punto definido para los miles\n",
    "        df[i]=df[i].apply(change_num_point)\n",
    "        # se reemplaza la coma por un punto, para definir los decimales correctamente\n",
    "        df[i]=df[i].apply(change_num_coma)\n",
    "        # Se pasa de ser un str a un int\n",
    "        df[i]=df[i].astype('int64')\n",
    "\n",
    "    #Separacion fecha\n",
    "    df['Semana']=df['Año natural/Semana'].str.split('.', expand=True)[[0]]\n",
    "    df['Año']=df['Año natural/Semana'].str.split('.', expand=True)[[1]]\n",
    "\n",
    "    df['Semana']=df['Semana'].astype('int64')\n",
    "    df['Año']=df['Año'].astype('int64')\n",
    "    \n",
    "    #\n",
    "    df[\"Día natural\"] = df[\"Día natural\"].apply(lambda x: \n",
    "                                                datetime.datetime.strptime(x,\n",
    "                                                                           '%d.%m.%Y').date())\n",
    "    return df"
   ]
  },
  {
   "cell_type": "code",
   "execution_count": 46,
   "id": "e74380c6",
   "metadata": {},
   "outputs": [
    {
     "data": {
      "text/html": [
       "<div>\n",
       "<style scoped>\n",
       "    .dataframe tbody tr th:only-of-type {\n",
       "        vertical-align: middle;\n",
       "    }\n",
       "\n",
       "    .dataframe tbody tr th {\n",
       "        vertical-align: top;\n",
       "    }\n",
       "\n",
       "    .dataframe thead th {\n",
       "        text-align: right;\n",
       "    }\n",
       "</style>\n",
       "<table border=\"1\" class=\"dataframe\">\n",
       "  <thead>\n",
       "    <tr style=\"text-align: right;\">\n",
       "      <th></th>\n",
       "      <th>Material</th>\n",
       "      <th>Tipo de cliente</th>\n",
       "      <th>Zona de ventas</th>\n",
       "      <th>Zona de ventas.1</th>\n",
       "      <th>Oficina de Ventas Unifica</th>\n",
       "      <th>Oficina de Ventas Unifica.1</th>\n",
       "      <th>Zona de reparto</th>\n",
       "      <th>Subtipo de cliente</th>\n",
       "      <th>Cluster</th>\n",
       "      <th>Cliente - Local</th>\n",
       "      <th>Cliente - Local.1</th>\n",
       "      <th>Mes</th>\n",
       "      <th>Año natural/Semana</th>\n",
       "      <th>Día natural</th>\n",
       "      <th>Día de la semana</th>\n",
       "      <th>Kilos Venta KG</th>\n",
       "      <th>Venta Neta CLP</th>\n",
       "      <th>Precio Promedio CLP</th>\n",
       "      <th>Semana</th>\n",
       "      <th>Año</th>\n",
       "    </tr>\n",
       "  </thead>\n",
       "  <tbody>\n",
       "    <tr>\n",
       "      <th>75186</th>\n",
       "      <td>1020003</td>\n",
       "      <td>Tradicional</td>\n",
       "      <td>Z004</td>\n",
       "      <td>Sur</td>\n",
       "      <td>Temuco</td>\n",
       "      <td>T105</td>\n",
       "      <td>8000480112</td>\n",
       "      <td>Espec. en Crudos</td>\n",
       "      <td>Sin asignar</td>\n",
       "      <td>Castro Muñoz Jose Isaias</td>\n",
       "      <td>3200104287</td>\n",
       "      <td>4</td>\n",
       "      <td>15.2021</td>\n",
       "      <td>2021-04-12</td>\n",
       "      <td>LU</td>\n",
       "      <td>43</td>\n",
       "      <td>182668</td>\n",
       "      <td>4290</td>\n",
       "      <td>15</td>\n",
       "      <td>2021</td>\n",
       "    </tr>\n",
       "    <tr>\n",
       "      <th>75187</th>\n",
       "      <td>1020003</td>\n",
       "      <td>Tradicional</td>\n",
       "      <td>Z004</td>\n",
       "      <td>Sur</td>\n",
       "      <td>Temuco</td>\n",
       "      <td>T105</td>\n",
       "      <td>8000480112</td>\n",
       "      <td>Espec. en Crudos</td>\n",
       "      <td>Sin asignar</td>\n",
       "      <td>Castro Muñoz Jose Isaias</td>\n",
       "      <td>3200104287</td>\n",
       "      <td>4</td>\n",
       "      <td>16.2021</td>\n",
       "      <td>2021-04-21</td>\n",
       "      <td>MI</td>\n",
       "      <td>43</td>\n",
       "      <td>157268</td>\n",
       "      <td>3690</td>\n",
       "      <td>16</td>\n",
       "      <td>2021</td>\n",
       "    </tr>\n",
       "    <tr>\n",
       "      <th>75188</th>\n",
       "      <td>1020003</td>\n",
       "      <td>Tradicional</td>\n",
       "      <td>Z004</td>\n",
       "      <td>Sur</td>\n",
       "      <td>Temuco</td>\n",
       "      <td>T105</td>\n",
       "      <td>8000480112</td>\n",
       "      <td>Espec. en Crudos</td>\n",
       "      <td>Sin asignar</td>\n",
       "      <td>Castro Muñoz Jose Isaias</td>\n",
       "      <td>3200104287</td>\n",
       "      <td>4</td>\n",
       "      <td>17.2021</td>\n",
       "      <td>2021-04-26</td>\n",
       "      <td>LU</td>\n",
       "      <td>20</td>\n",
       "      <td>69393</td>\n",
       "      <td>3390</td>\n",
       "      <td>17</td>\n",
       "      <td>2021</td>\n",
       "    </tr>\n",
       "  </tbody>\n",
       "</table>\n",
       "</div>"
      ],
      "text/plain": [
       "      Material Tipo de cliente Zona de ventas Zona de ventas.1  \\\n",
       "75186  1020003     Tradicional           Z004              Sur   \n",
       "75187  1020003     Tradicional           Z004              Sur   \n",
       "75188  1020003     Tradicional           Z004              Sur   \n",
       "\n",
       "      Oficina de Ventas Unifica Oficina de Ventas Unifica.1 Zona de reparto  \\\n",
       "75186                    Temuco                        T105      8000480112   \n",
       "75187                    Temuco                        T105      8000480112   \n",
       "75188                    Temuco                        T105      8000480112   \n",
       "\n",
       "      Subtipo de cliente      Cluster           Cliente - Local  \\\n",
       "75186   Espec. en Crudos  Sin asignar  Castro Muñoz Jose Isaias   \n",
       "75187   Espec. en Crudos  Sin asignar  Castro Muñoz Jose Isaias   \n",
       "75188   Espec. en Crudos  Sin asignar  Castro Muñoz Jose Isaias   \n",
       "\n",
       "      Cliente - Local.1 Mes Año natural/Semana Día natural Día de la semana  \\\n",
       "75186        3200104287   4            15.2021  2021-04-12               LU   \n",
       "75187        3200104287   4            16.2021  2021-04-21               MI   \n",
       "75188        3200104287   4            17.2021  2021-04-26               LU   \n",
       "\n",
       "       Kilos Venta KG  Venta Neta CLP  Precio Promedio CLP  Semana   Año  \n",
       "75186              43          182668                 4290      15  2021  \n",
       "75187              43          157268                 3690      16  2021  \n",
       "75188              20           69393                 3390      17  2021  "
      ]
     },
     "execution_count": 46,
     "metadata": {},
     "output_type": "execute_result"
    }
   ],
   "source": [
    "data=Ajuste_data(Data)\n",
    "data.head(3)\n",
    "#data=<data[data['Año']>2018]"
   ]
  },
  {
   "cell_type": "markdown",
   "id": "604af45b",
   "metadata": {},
   "source": [
    "##  Data Clientes\n",
    "Esta data posee las caracteristicas de los clientes del canal tradicional"
   ]
  },
  {
   "cell_type": "code",
   "execution_count": 47,
   "id": "1245f440",
   "metadata": {
    "scrolled": true
   },
   "outputs": [],
   "source": [
    "Cluster = pd.read_csv(\"Data/Cluster_clientes.csv\",\n",
    "                          encoding=\"utf-8\",sep=\";\",dtype={'Cliente - Local.1': 'str'})"
   ]
  },
  {
   "cell_type": "markdown",
   "id": "2c16c33c",
   "metadata": {},
   "source": [
    "### Incluir Columna Cluster(Segmento de cliente)"
   ]
  },
  {
   "cell_type": "code",
   "execution_count": 48,
   "id": "f8a4f1bb",
   "metadata": {},
   "outputs": [],
   "source": [
    "DF_ventas=pd.merge(Cluster[['Cliente - Local.1','identified_clusters']] , data  \n",
    "     , how='right')"
   ]
  },
  {
   "cell_type": "code",
   "execution_count": 49,
   "id": "0580142f",
   "metadata": {},
   "outputs": [
    {
     "data": {
      "text/html": [
       "<div>\n",
       "<style scoped>\n",
       "    .dataframe tbody tr th:only-of-type {\n",
       "        vertical-align: middle;\n",
       "    }\n",
       "\n",
       "    .dataframe tbody tr th {\n",
       "        vertical-align: top;\n",
       "    }\n",
       "\n",
       "    .dataframe thead th {\n",
       "        text-align: right;\n",
       "    }\n",
       "</style>\n",
       "<table border=\"1\" class=\"dataframe\">\n",
       "  <thead>\n",
       "    <tr style=\"text-align: right;\">\n",
       "      <th></th>\n",
       "      <th>Cliente - Local.1</th>\n",
       "      <th>identified_clusters</th>\n",
       "      <th>Material</th>\n",
       "      <th>Tipo de cliente</th>\n",
       "      <th>Zona de ventas</th>\n",
       "      <th>Zona de ventas.1</th>\n",
       "      <th>Oficina de Ventas Unifica</th>\n",
       "      <th>Oficina de Ventas Unifica.1</th>\n",
       "      <th>Zona de reparto</th>\n",
       "      <th>Subtipo de cliente</th>\n",
       "      <th>...</th>\n",
       "      <th>Cliente - Local</th>\n",
       "      <th>Mes</th>\n",
       "      <th>Año natural/Semana</th>\n",
       "      <th>Día natural</th>\n",
       "      <th>Día de la semana</th>\n",
       "      <th>Kilos Venta KG</th>\n",
       "      <th>Venta Neta CLP</th>\n",
       "      <th>Precio Promedio CLP</th>\n",
       "      <th>Semana</th>\n",
       "      <th>Año</th>\n",
       "    </tr>\n",
       "  </thead>\n",
       "  <tbody>\n",
       "    <tr>\n",
       "      <th>3870</th>\n",
       "      <td>3200145770</td>\n",
       "      <td>0.0</td>\n",
       "      <td>1020003</td>\n",
       "      <td>Tradicional</td>\n",
       "      <td>Z004</td>\n",
       "      <td>Sur</td>\n",
       "      <td>Temuco</td>\n",
       "      <td>T105</td>\n",
       "      <td>8000580107</td>\n",
       "      <td>Multiespecialista</td>\n",
       "      <td>...</td>\n",
       "      <td>Hurtado Campos Orlando</td>\n",
       "      <td>10</td>\n",
       "      <td>42.2020</td>\n",
       "      <td>2020-10-13</td>\n",
       "      <td>MA</td>\n",
       "      <td>40</td>\n",
       "      <td>187863</td>\n",
       "      <td>4750</td>\n",
       "      <td>42</td>\n",
       "      <td>2020</td>\n",
       "    </tr>\n",
       "    <tr>\n",
       "      <th>3871</th>\n",
       "      <td>3200145770</td>\n",
       "      <td>0.0</td>\n",
       "      <td>1020003</td>\n",
       "      <td>Tradicional</td>\n",
       "      <td>Z004</td>\n",
       "      <td>Sur</td>\n",
       "      <td>Temuco</td>\n",
       "      <td>T105</td>\n",
       "      <td>8000580107</td>\n",
       "      <td>Multiespecialista</td>\n",
       "      <td>...</td>\n",
       "      <td>Hurtado Campos Orlando</td>\n",
       "      <td>12</td>\n",
       "      <td>50.2019</td>\n",
       "      <td>2019-12-10</td>\n",
       "      <td>MA</td>\n",
       "      <td>37</td>\n",
       "      <td>99308</td>\n",
       "      <td>2692</td>\n",
       "      <td>50</td>\n",
       "      <td>2019</td>\n",
       "    </tr>\n",
       "    <tr>\n",
       "      <th>3872</th>\n",
       "      <td>3200145770</td>\n",
       "      <td>0.0</td>\n",
       "      <td>1020003</td>\n",
       "      <td>Tradicional</td>\n",
       "      <td>Z004</td>\n",
       "      <td>Sur</td>\n",
       "      <td>Temuco</td>\n",
       "      <td>T105</td>\n",
       "      <td>8000580107</td>\n",
       "      <td>Multiespecialista</td>\n",
       "      <td>...</td>\n",
       "      <td>Hurtado Campos Orlando</td>\n",
       "      <td>12</td>\n",
       "      <td>49.2020</td>\n",
       "      <td>2020-12-01</td>\n",
       "      <td>MA</td>\n",
       "      <td>20</td>\n",
       "      <td>87176</td>\n",
       "      <td>4450</td>\n",
       "      <td>49</td>\n",
       "      <td>2020</td>\n",
       "    </tr>\n",
       "  </tbody>\n",
       "</table>\n",
       "<p>3 rows × 21 columns</p>\n",
       "</div>"
      ],
      "text/plain": [
       "     Cliente - Local.1  identified_clusters Material Tipo de cliente  \\\n",
       "3870        3200145770                  0.0  1020003     Tradicional   \n",
       "3871        3200145770                  0.0  1020003     Tradicional   \n",
       "3872        3200145770                  0.0  1020003     Tradicional   \n",
       "\n",
       "     Zona de ventas Zona de ventas.1 Oficina de Ventas Unifica  \\\n",
       "3870           Z004              Sur                    Temuco   \n",
       "3871           Z004              Sur                    Temuco   \n",
       "3872           Z004              Sur                    Temuco   \n",
       "\n",
       "     Oficina de Ventas Unifica.1 Zona de reparto Subtipo de cliente  ...  \\\n",
       "3870                        T105      8000580107  Multiespecialista  ...   \n",
       "3871                        T105      8000580107  Multiespecialista  ...   \n",
       "3872                        T105      8000580107  Multiespecialista  ...   \n",
       "\n",
       "             Cliente - Local Mes Año natural/Semana Día natural  \\\n",
       "3870  Hurtado Campos Orlando  10            42.2020  2020-10-13   \n",
       "3871  Hurtado Campos Orlando  12            50.2019  2019-12-10   \n",
       "3872  Hurtado Campos Orlando  12            49.2020  2020-12-01   \n",
       "\n",
       "     Día de la semana Kilos Venta KG  Venta Neta CLP  Precio Promedio CLP  \\\n",
       "3870               MA             40          187863                 4750   \n",
       "3871               MA             37           99308                 2692   \n",
       "3872               MA             20           87176                 4450   \n",
       "\n",
       "      Semana   Año  \n",
       "3870      42  2020  \n",
       "3871      50  2019  \n",
       "3872      49  2020  \n",
       "\n",
       "[3 rows x 21 columns]"
      ]
     },
     "execution_count": 49,
     "metadata": {},
     "output_type": "execute_result"
    }
   ],
   "source": [
    "DF_ventas.tail(3)"
   ]
  },
  {
   "cell_type": "markdown",
   "id": "38c89cb2",
   "metadata": {},
   "source": [
    "## Data Stock\n",
    "Esta data posee el nivel de stock de las sucursales de la zona de santiago"
   ]
  },
  {
   "cell_type": "code",
   "execution_count": 50,
   "id": "1394bf01",
   "metadata": {
    "scrolled": true
   },
   "outputs": [
    {
     "data": {
      "text/html": [
       "<div>\n",
       "<style scoped>\n",
       "    .dataframe tbody tr th:only-of-type {\n",
       "        vertical-align: middle;\n",
       "    }\n",
       "\n",
       "    .dataframe tbody tr th {\n",
       "        vertical-align: top;\n",
       "    }\n",
       "\n",
       "    .dataframe thead th {\n",
       "        text-align: right;\n",
       "    }\n",
       "</style>\n",
       "<table border=\"1\" class=\"dataframe\">\n",
       "  <thead>\n",
       "    <tr style=\"text-align: right;\">\n",
       "      <th></th>\n",
       "      <th>Sector</th>\n",
       "      <th>Material</th>\n",
       "      <th>Zona de ventas</th>\n",
       "      <th>Oficina de ventas</th>\n",
       "      <th>Oficina de ventas.1</th>\n",
       "      <th>Año natural/Semana</th>\n",
       "      <th>Día natural</th>\n",
       "      <th>Vida Útil Restante</th>\n",
       "      <th>Stock</th>\n",
       "    </tr>\n",
       "  </thead>\n",
       "  <tbody>\n",
       "    <tr>\n",
       "      <th>0</th>\n",
       "      <td>Cerdo</td>\n",
       "      <td>1020003</td>\n",
       "      <td>Sur</td>\n",
       "      <td>T019</td>\n",
       "      <td>Punta Arenas</td>\n",
       "      <td>01.2020</td>\n",
       "      <td>30.12.2019</td>\n",
       "      <td>8</td>\n",
       "      <td>111,8</td>\n",
       "    </tr>\n",
       "    <tr>\n",
       "      <th>1</th>\n",
       "      <td>Cerdo</td>\n",
       "      <td>1020003</td>\n",
       "      <td>Sur</td>\n",
       "      <td>T019</td>\n",
       "      <td>Punta Arenas</td>\n",
       "      <td>01.2020</td>\n",
       "      <td>31.12.2019</td>\n",
       "      <td>7</td>\n",
       "      <td>111,8</td>\n",
       "    </tr>\n",
       "    <tr>\n",
       "      <th>2</th>\n",
       "      <td>Cerdo</td>\n",
       "      <td>1020003</td>\n",
       "      <td>Sur</td>\n",
       "      <td>T019</td>\n",
       "      <td>Punta Arenas</td>\n",
       "      <td>01.2020</td>\n",
       "      <td>02.01.2020</td>\n",
       "      <td>5</td>\n",
       "      <td>111,8</td>\n",
       "    </tr>\n",
       "    <tr>\n",
       "      <th>3</th>\n",
       "      <td>Cerdo</td>\n",
       "      <td>1020003</td>\n",
       "      <td>Sur</td>\n",
       "      <td>T019</td>\n",
       "      <td>Punta Arenas</td>\n",
       "      <td>01.2020</td>\n",
       "      <td>03.01.2020</td>\n",
       "      <td>4</td>\n",
       "      <td>111,8</td>\n",
       "    </tr>\n",
       "    <tr>\n",
       "      <th>4</th>\n",
       "      <td>Cerdo</td>\n",
       "      <td>1020003</td>\n",
       "      <td>Sur</td>\n",
       "      <td>T019</td>\n",
       "      <td>Punta Arenas</td>\n",
       "      <td>01.2020</td>\n",
       "      <td>04.01.2020</td>\n",
       "      <td>3</td>\n",
       "      <td>111,8</td>\n",
       "    </tr>\n",
       "  </tbody>\n",
       "</table>\n",
       "</div>"
      ],
      "text/plain": [
       "  Sector Material Zona de ventas Oficina de ventas Oficina de ventas.1  \\\n",
       "0  Cerdo  1020003            Sur              T019        Punta Arenas   \n",
       "1  Cerdo  1020003            Sur              T019        Punta Arenas   \n",
       "2  Cerdo  1020003            Sur              T019        Punta Arenas   \n",
       "3  Cerdo  1020003            Sur              T019        Punta Arenas   \n",
       "4  Cerdo  1020003            Sur              T019        Punta Arenas   \n",
       "\n",
       "  Año natural/Semana Día natural Vida Útil Restante  Stock  \n",
       "0            01.2020  30.12.2019                  8  111,8  \n",
       "1            01.2020  31.12.2019                  7  111,8  \n",
       "2            01.2020  02.01.2020                  5  111,8  \n",
       "3            01.2020  03.01.2020                  4  111,8  \n",
       "4            01.2020  04.01.2020                  3  111,8  "
      ]
     },
     "execution_count": 50,
     "metadata": {},
     "output_type": "execute_result"
    }
   ],
   "source": [
    "SKU='1020003'\n",
    "fillN='Stock CL '+SKU\n",
    "col_names=pd.read_csv(\"Data/last_down/\"+fillN+\".csv\",\n",
    "                    encoding=\"utf-8\",sep=\";\",nrows=0).columns\n",
    "types_dict = {col: str for col in col_names}\n",
    "\n",
    "Data_stock = pd.read_csv(\"Data/last_down/\"+fillN+\".csv\",\n",
    "                   encoding=\"utf-8\",sep=\";\",dtype=types_dict)\n",
    "Data_stock.head()"
   ]
  },
  {
   "cell_type": "markdown",
   "id": "51cdfd18",
   "metadata": {},
   "source": [
    "#### Zona a estudiar\n"
   ]
  },
  {
   "cell_type": "code",
   "execution_count": 51,
   "id": "9eab63ba",
   "metadata": {},
   "outputs": [],
   "source": [
    "col,Str='Oficina de ventas.1','Temuco'\n",
    "Data_stock=Df_ubic(Data_stock,col,Str)"
   ]
  },
  {
   "cell_type": "markdown",
   "id": "6b9d9509",
   "metadata": {},
   "source": [
    "### Ajuste Func "
   ]
  },
  {
   "cell_type": "code",
   "execution_count": 52,
   "id": "b1eaa13c",
   "metadata": {},
   "outputs": [],
   "source": [
    "# =============================================================================\n",
    "# Ajustar la data\n",
    "# =============================================================================\n",
    "def Ajuste_data(data):\n",
    "    df=data.copy()\n",
    "    # Funciones para eliminar los putos y cambiar las , por .\n",
    "    def change_num_point(x):\n",
    "        x=str(x)\n",
    "        return x.replace('.', '')\n",
    "    def change_num_coma(x):\n",
    "        x=str(x)\n",
    "        return x.replace(',', '.')\n",
    "    \n",
    "    #proceso iterativo, \n",
    "    for i in ['Stock']:\n",
    "    # se elimina el punto definido para los miles\n",
    "        df[i]=df[i].apply(change_num_point)\n",
    "        # se reemplaza la coma por un punto, para definir los decimales correctamente\n",
    "        df[i]=df[i].apply(change_num_coma)\n",
    "        # Se pasa de ser un str a un int\n",
    "        #df[i]=df[i].astype('int64')\n",
    "        df[i]=df[i].astype('float64')\n",
    "\n",
    "    #Separacion fecha\n",
    "    df['Semana']=df['Año natural/Semana'].str.split('.', expand=True)[[0]]\n",
    "    df['Año']=df['Año natural/Semana'].str.split('.', expand=True)[[1]]\n",
    "\n",
    "    df['Semana']=df['Semana'].astype('int64')\n",
    "    df['Año']=df['Año'].astype('int64')\n",
    "    \n",
    "    #\n",
    "    df[\"Día natural\"] = df[\"Día natural\"].apply(lambda x: \n",
    "                                                datetime.datetime.strptime(x,\n",
    "                                                                           '%d.%m.%Y').date())\n",
    "    df['Vida Útil Restante']=df['Vida Útil Restante'].astype('int64')\n",
    "    return df"
   ]
  },
  {
   "cell_type": "code",
   "execution_count": 53,
   "id": "ba3c5f51",
   "metadata": {},
   "outputs": [],
   "source": [
    "Data_stock=Ajuste_data(Data_stock)"
   ]
  },
  {
   "cell_type": "code",
   "execution_count": 54,
   "id": "0c92f2a7",
   "metadata": {},
   "outputs": [
    {
     "data": {
      "text/html": [
       "<div>\n",
       "<style scoped>\n",
       "    .dataframe tbody tr th:only-of-type {\n",
       "        vertical-align: middle;\n",
       "    }\n",
       "\n",
       "    .dataframe tbody tr th {\n",
       "        vertical-align: top;\n",
       "    }\n",
       "\n",
       "    .dataframe thead th {\n",
       "        text-align: right;\n",
       "    }\n",
       "</style>\n",
       "<table border=\"1\" class=\"dataframe\">\n",
       "  <thead>\n",
       "    <tr style=\"text-align: right;\">\n",
       "      <th></th>\n",
       "      <th>Sector</th>\n",
       "      <th>Material</th>\n",
       "      <th>Zona de ventas</th>\n",
       "      <th>Oficina de ventas</th>\n",
       "      <th>Oficina de ventas.1</th>\n",
       "      <th>Año natural/Semana</th>\n",
       "      <th>Día natural</th>\n",
       "      <th>Vida Útil Restante</th>\n",
       "      <th>Stock</th>\n",
       "      <th>Semana</th>\n",
       "      <th>Año</th>\n",
       "    </tr>\n",
       "  </thead>\n",
       "  <tbody>\n",
       "    <tr>\n",
       "      <th>9686</th>\n",
       "      <td>Cerdo</td>\n",
       "      <td>1020003</td>\n",
       "      <td>Sur</td>\n",
       "      <td>T005</td>\n",
       "      <td>Temuco</td>\n",
       "      <td>51.2019</td>\n",
       "      <td>2019-12-17</td>\n",
       "      <td>-138</td>\n",
       "      <td>0.0</td>\n",
       "      <td>51</td>\n",
       "      <td>2019</td>\n",
       "    </tr>\n",
       "    <tr>\n",
       "      <th>9687</th>\n",
       "      <td>Cerdo</td>\n",
       "      <td>1020003</td>\n",
       "      <td>Sur</td>\n",
       "      <td>T005</td>\n",
       "      <td>Temuco</td>\n",
       "      <td>51.2019</td>\n",
       "      <td>2019-12-18</td>\n",
       "      <td>-140</td>\n",
       "      <td>0.0</td>\n",
       "      <td>51</td>\n",
       "      <td>2019</td>\n",
       "    </tr>\n",
       "    <tr>\n",
       "      <th>9688</th>\n",
       "      <td>Cerdo</td>\n",
       "      <td>1020003</td>\n",
       "      <td>Sur</td>\n",
       "      <td>T005</td>\n",
       "      <td>Temuco</td>\n",
       "      <td>51.2019</td>\n",
       "      <td>2019-12-19</td>\n",
       "      <td>-142</td>\n",
       "      <td>0.0</td>\n",
       "      <td>51</td>\n",
       "      <td>2019</td>\n",
       "    </tr>\n",
       "    <tr>\n",
       "      <th>9689</th>\n",
       "      <td>Cerdo</td>\n",
       "      <td>1020003</td>\n",
       "      <td>Sur</td>\n",
       "      <td>T005</td>\n",
       "      <td>Temuco</td>\n",
       "      <td>51.2019</td>\n",
       "      <td>2019-12-20</td>\n",
       "      <td>-144</td>\n",
       "      <td>0.0</td>\n",
       "      <td>51</td>\n",
       "      <td>2019</td>\n",
       "    </tr>\n",
       "    <tr>\n",
       "      <th>9690</th>\n",
       "      <td>Cerdo</td>\n",
       "      <td>1020003</td>\n",
       "      <td>Sur</td>\n",
       "      <td>T005</td>\n",
       "      <td>Temuco</td>\n",
       "      <td>51.2019</td>\n",
       "      <td>2019-12-21</td>\n",
       "      <td>-146</td>\n",
       "      <td>0.0</td>\n",
       "      <td>51</td>\n",
       "      <td>2019</td>\n",
       "    </tr>\n",
       "  </tbody>\n",
       "</table>\n",
       "</div>"
      ],
      "text/plain": [
       "     Sector Material Zona de ventas Oficina de ventas Oficina de ventas.1  \\\n",
       "9686  Cerdo  1020003            Sur              T005              Temuco   \n",
       "9687  Cerdo  1020003            Sur              T005              Temuco   \n",
       "9688  Cerdo  1020003            Sur              T005              Temuco   \n",
       "9689  Cerdo  1020003            Sur              T005              Temuco   \n",
       "9690  Cerdo  1020003            Sur              T005              Temuco   \n",
       "\n",
       "     Año natural/Semana Día natural  Vida Útil Restante  Stock  Semana   Año  \n",
       "9686            51.2019  2019-12-17                -138    0.0      51  2019  \n",
       "9687            51.2019  2019-12-18                -140    0.0      51  2019  \n",
       "9688            51.2019  2019-12-19                -142    0.0      51  2019  \n",
       "9689            51.2019  2019-12-20                -144    0.0      51  2019  \n",
       "9690            51.2019  2019-12-21                -146    0.0      51  2019  "
      ]
     },
     "execution_count": 54,
     "metadata": {},
     "output_type": "execute_result"
    }
   ],
   "source": [
    "Data_stock.tail()"
   ]
  },
  {
   "cell_type": "markdown",
   "id": "7d1c8cbe",
   "metadata": {},
   "source": [
    "## Demanda Z001\n",
    "Data_totales posee el DF de todas las ventas de Z001"
   ]
  },
  {
   "cell_type": "code",
   "execution_count": 55,
   "id": "a0e339d9",
   "metadata": {},
   "outputs": [],
   "source": [
    "fillN='Vetas Totales CL 1020003'\n",
    "col_names=pd.read_csv(\"Data/last_down/\"+fillN+\".csv\",\n",
    "                    encoding=\"utf-8\",sep=\";\",nrows=0).columns\n",
    "types_dict = {col: str for col in col_names}\n",
    "\n",
    "Data_totales = pd.read_csv(\"Data/last_down/\"+fillN+\".csv\",\n",
    "                   encoding=\"utf-8\",sep=\";\",dtype=types_dict)"
   ]
  },
  {
   "cell_type": "code",
   "execution_count": 56,
   "id": "edacbbc0",
   "metadata": {},
   "outputs": [
    {
     "data": {
      "text/html": [
       "<div>\n",
       "<style scoped>\n",
       "    .dataframe tbody tr th:only-of-type {\n",
       "        vertical-align: middle;\n",
       "    }\n",
       "\n",
       "    .dataframe tbody tr th {\n",
       "        vertical-align: top;\n",
       "    }\n",
       "\n",
       "    .dataframe thead th {\n",
       "        text-align: right;\n",
       "    }\n",
       "</style>\n",
       "<table border=\"1\" class=\"dataframe\">\n",
       "  <thead>\n",
       "    <tr style=\"text-align: right;\">\n",
       "      <th></th>\n",
       "      <th>Material</th>\n",
       "      <th>Tipo de cliente</th>\n",
       "      <th>Zona de ventas</th>\n",
       "      <th>Zona de ventas.1</th>\n",
       "      <th>Oficina de Ventas Unifica</th>\n",
       "      <th>Oficina de Ventas Unifica.1</th>\n",
       "      <th>Zona de reparto</th>\n",
       "      <th>Subtipo de cliente</th>\n",
       "      <th>Cluster</th>\n",
       "      <th>Cliente - Local</th>\n",
       "      <th>Cliente - Local.1</th>\n",
       "      <th>Mes</th>\n",
       "      <th>Año natural/Semana</th>\n",
       "      <th>Día natural</th>\n",
       "      <th>Día de la semana</th>\n",
       "      <th>Kilos Venta KG</th>\n",
       "      <th>Venta Neta</th>\n",
       "      <th>Precio Promedio</th>\n",
       "    </tr>\n",
       "  </thead>\n",
       "  <tbody>\n",
       "    <tr>\n",
       "      <th>0</th>\n",
       "      <td>1020003</td>\n",
       "      <td>Tradicional</td>\n",
       "      <td>Z001</td>\n",
       "      <td>Santiago</td>\n",
       "      <td>Huechuraba</td>\n",
       "      <td>T101</td>\n",
       "      <td>113101019</td>\n",
       "      <td>Espec. en Crudos</td>\n",
       "      <td>Clásico</td>\n",
       "      <td>Alarcon Basabe Horacio Jesus</td>\n",
       "      <td>3200138357</td>\n",
       "      <td>9</td>\n",
       "      <td>39.2019</td>\n",
       "      <td>26.09.2019</td>\n",
       "      <td>JU</td>\n",
       "      <td>41</td>\n",
       "      <td>105.664</td>\n",
       "      <td>2.600</td>\n",
       "    </tr>\n",
       "  </tbody>\n",
       "</table>\n",
       "</div>"
      ],
      "text/plain": [
       "  Material Tipo de cliente Zona de ventas Zona de ventas.1  \\\n",
       "0  1020003     Tradicional           Z001         Santiago   \n",
       "\n",
       "  Oficina de Ventas Unifica Oficina de Ventas Unifica.1 Zona de reparto  \\\n",
       "0                Huechuraba                        T101       113101019   \n",
       "\n",
       "  Subtipo de cliente  Cluster               Cliente - Local Cliente - Local.1  \\\n",
       "0   Espec. en Crudos  Clásico  Alarcon Basabe Horacio Jesus        3200138357   \n",
       "\n",
       "  Mes Año natural/Semana Día natural Día de la semana Kilos Venta KG  \\\n",
       "0   9            39.2019  26.09.2019               JU             41   \n",
       "\n",
       "  Venta Neta Precio Promedio  \n",
       "0    105.664           2.600  "
      ]
     },
     "execution_count": 56,
     "metadata": {},
     "output_type": "execute_result"
    }
   ],
   "source": [
    "Data_totales.head(1)"
   ]
  },
  {
   "cell_type": "markdown",
   "id": "8bd3719c",
   "metadata": {},
   "source": [
    "#### Zona a estudiar\n"
   ]
  },
  {
   "cell_type": "code",
   "execution_count": 57,
   "id": "bd6c15e7",
   "metadata": {},
   "outputs": [],
   "source": [
    "col,Str='Oficina de Ventas Unifica','Temuco'\n",
    "Data_totales=Df_ubic(Data_totales,col,Str)"
   ]
  },
  {
   "cell_type": "markdown",
   "id": "e4ceff4a",
   "metadata": {},
   "source": [
    "### Ajuste data "
   ]
  },
  {
   "cell_type": "markdown",
   "id": "fc44f49d",
   "metadata": {},
   "source": [
    "__Se soluciona el problema__"
   ]
  },
  {
   "cell_type": "code",
   "execution_count": 58,
   "id": "b02472f4",
   "metadata": {},
   "outputs": [],
   "source": [
    "# =============================================================================\n",
    "# Ajustar la data\n",
    "# =============================================================================\n",
    "def Ajuste_data(data):\n",
    "    df=data.copy()\n",
    "    # Funciones para eliminar los putos y cambiar las , por .\n",
    "    def change_num_point(x):\n",
    "        x=str(x)\n",
    "        return x.replace('.', '')\n",
    "    def change_num_coma(x):\n",
    "        x=str(x)\n",
    "        return x.replace(',', '.')\n",
    "    def delete_asterisco(x):\n",
    "        x=str(x)\n",
    "        return x.replace('*','0' )\n",
    "    \n",
    "    #proceso iterativo, \n",
    "    for i in ['Kilos Venta KG','Venta Neta','Precio Promedio']:\n",
    "    # se elimina el punto definido para los miles\n",
    "        if(i!='Kilos Venta KG'):\n",
    "            df[i]=df[i].str.split('CLP', expand=True)[[0]]\n",
    "        df[i]=df[i].apply(change_num_point)\n",
    "        # se reemplaza la coma por un punto, para definir los decimales correctamente\n",
    "        df[i]=df[i].apply(change_num_coma)\n",
    "        # se elimina el valor * \n",
    "        df[i]=df[i].apply(delete_asterisco)\n",
    "        \n",
    "        # Se pasa de ser un str a un int\n",
    "        print(i)\n",
    "        df[i]=df[i].astype('int64')\n",
    "\n",
    "    #Separacion fecha\n",
    "    df['Semana']=df['Año natural/Semana'].str.split('.', expand=True)[[0]]\n",
    "    df['Año']=df['Año natural/Semana'].str.split('.', expand=True)[[1]]\n",
    "\n",
    "    df['Semana']=df['Semana'].astype('int64')\n",
    "    df['Año']=df['Año'].astype('int64')\n",
    "    \n",
    "    #\n",
    "    df[\"Día natural\"] = df[\"Día natural\"].apply(lambda x: \n",
    "                                                datetime.datetime.strptime(x,\n",
    "                                                                           '%d.%m.%Y').date())\n",
    "    return df"
   ]
  },
  {
   "cell_type": "code",
   "execution_count": 59,
   "id": "86b01cf5",
   "metadata": {
    "scrolled": true
   },
   "outputs": [
    {
     "name": "stdout",
     "output_type": "stream",
     "text": [
      "Kilos Venta KG\n",
      "Venta Neta\n",
      "Precio Promedio\n"
     ]
    }
   ],
   "source": [
    "Data_totales=Ajuste_data(Data_totales)"
   ]
  },
  {
   "cell_type": "markdown",
   "id": "86bdd630",
   "metadata": {},
   "source": [
    "# Abastecimiento \n",
    "La Data de Demanda representa la demanda del dia anterior, para contrastarlo con el stock"
   ]
  },
  {
   "cell_type": "markdown",
   "id": "06b3da98",
   "metadata": {},
   "source": [
    "## Demanda Dia Z001\n",
    "representa la demanda del dia anterior, para contrastarlo con el stock"
   ]
  },
  {
   "cell_type": "code",
   "execution_count": 60,
   "id": "9e6eb067",
   "metadata": {},
   "outputs": [
    {
     "data": {
      "text/plain": [
       "array(['Tradicional', 'Supermercados', 'Industriales', 'Grandes Clientes',\n",
       "       'Foodservice'], dtype=object)"
      ]
     },
     "execution_count": 60,
     "metadata": {},
     "output_type": "execute_result"
    }
   ],
   "source": [
    "Data_totales['Tipo de cliente'].unique()"
   ]
  },
  {
   "cell_type": "code",
   "execution_count": 61,
   "id": "0fcfca5c",
   "metadata": {},
   "outputs": [
    {
     "data": {
      "text/html": [
       "<div>\n",
       "<style scoped>\n",
       "    .dataframe tbody tr th:only-of-type {\n",
       "        vertical-align: middle;\n",
       "    }\n",
       "\n",
       "    .dataframe tbody tr th {\n",
       "        vertical-align: top;\n",
       "    }\n",
       "\n",
       "    .dataframe thead th {\n",
       "        text-align: right;\n",
       "    }\n",
       "</style>\n",
       "<table border=\"1\" class=\"dataframe\">\n",
       "  <thead>\n",
       "    <tr style=\"text-align: right;\">\n",
       "      <th></th>\n",
       "      <th>Día natural</th>\n",
       "      <th>Kilos Venta KG</th>\n",
       "    </tr>\n",
       "  </thead>\n",
       "  <tbody>\n",
       "    <tr>\n",
       "      <th>0</th>\n",
       "      <td>2017-01-03</td>\n",
       "      <td>53</td>\n",
       "    </tr>\n",
       "    <tr>\n",
       "      <th>1</th>\n",
       "      <td>2017-01-04</td>\n",
       "      <td>276</td>\n",
       "    </tr>\n",
       "    <tr>\n",
       "      <th>2</th>\n",
       "      <td>2017-01-05</td>\n",
       "      <td>195</td>\n",
       "    </tr>\n",
       "    <tr>\n",
       "      <th>3</th>\n",
       "      <td>2017-01-06</td>\n",
       "      <td>357</td>\n",
       "    </tr>\n",
       "    <tr>\n",
       "      <th>4</th>\n",
       "      <td>2017-01-07</td>\n",
       "      <td>138</td>\n",
       "    </tr>\n",
       "  </tbody>\n",
       "</table>\n",
       "</div>"
      ],
      "text/plain": [
       "  Día natural  Kilos Venta KG\n",
       "0  2017-01-03              53\n",
       "1  2017-01-04             276\n",
       "2  2017-01-05             195\n",
       "3  2017-01-06             357\n",
       "4  2017-01-07             138"
      ]
     },
     "execution_count": 61,
     "metadata": {},
     "output_type": "execute_result"
    }
   ],
   "source": [
    "Demanda_dia_Z001=Data_totales.groupby('Día natural').sum().reset_index()[['Día natural', 'Kilos Venta KG']]\n",
    "Demanda_dia_Z001.head()"
   ]
  },
  {
   "cell_type": "markdown",
   "id": "0407f06d",
   "metadata": {},
   "source": [
    "## Stock  Dia Z001"
   ]
  },
  {
   "cell_type": "code",
   "execution_count": 62,
   "id": "c7d77c52",
   "metadata": {
    "scrolled": false
   },
   "outputs": [
    {
     "data": {
      "text/html": [
       "<div>\n",
       "<style scoped>\n",
       "    .dataframe tbody tr th:only-of-type {\n",
       "        vertical-align: middle;\n",
       "    }\n",
       "\n",
       "    .dataframe tbody tr th {\n",
       "        vertical-align: top;\n",
       "    }\n",
       "\n",
       "    .dataframe thead th {\n",
       "        text-align: right;\n",
       "    }\n",
       "</style>\n",
       "<table border=\"1\" class=\"dataframe\">\n",
       "  <thead>\n",
       "    <tr style=\"text-align: right;\">\n",
       "      <th></th>\n",
       "      <th>Sector</th>\n",
       "      <th>Material</th>\n",
       "      <th>Zona de ventas</th>\n",
       "      <th>Oficina de ventas</th>\n",
       "      <th>Oficina de ventas.1</th>\n",
       "      <th>Año natural/Semana</th>\n",
       "      <th>Día natural</th>\n",
       "      <th>Vida Útil Restante</th>\n",
       "      <th>Stock</th>\n",
       "      <th>Semana</th>\n",
       "      <th>Año</th>\n",
       "    </tr>\n",
       "  </thead>\n",
       "  <tbody>\n",
       "    <tr>\n",
       "      <th>9689</th>\n",
       "      <td>Cerdo</td>\n",
       "      <td>1020003</td>\n",
       "      <td>Sur</td>\n",
       "      <td>T005</td>\n",
       "      <td>Temuco</td>\n",
       "      <td>51.2019</td>\n",
       "      <td>2019-12-20</td>\n",
       "      <td>-144</td>\n",
       "      <td>0.0</td>\n",
       "      <td>51</td>\n",
       "      <td>2019</td>\n",
       "    </tr>\n",
       "    <tr>\n",
       "      <th>9690</th>\n",
       "      <td>Cerdo</td>\n",
       "      <td>1020003</td>\n",
       "      <td>Sur</td>\n",
       "      <td>T005</td>\n",
       "      <td>Temuco</td>\n",
       "      <td>51.2019</td>\n",
       "      <td>2019-12-21</td>\n",
       "      <td>-146</td>\n",
       "      <td>0.0</td>\n",
       "      <td>51</td>\n",
       "      <td>2019</td>\n",
       "    </tr>\n",
       "  </tbody>\n",
       "</table>\n",
       "</div>"
      ],
      "text/plain": [
       "     Sector Material Zona de ventas Oficina de ventas Oficina de ventas.1  \\\n",
       "9689  Cerdo  1020003            Sur              T005              Temuco   \n",
       "9690  Cerdo  1020003            Sur              T005              Temuco   \n",
       "\n",
       "     Año natural/Semana Día natural  Vida Útil Restante  Stock  Semana   Año  \n",
       "9689            51.2019  2019-12-20                -144    0.0      51  2019  \n",
       "9690            51.2019  2019-12-21                -146    0.0      51  2019  "
      ]
     },
     "execution_count": 62,
     "metadata": {},
     "output_type": "execute_result"
    }
   ],
   "source": [
    "Data_stock.tail(2)"
   ]
  },
  {
   "cell_type": "markdown",
   "id": "80c8a21e",
   "metadata": {},
   "source": [
    "Primera parte del calculo de la Vida Útil Restante Promedio"
   ]
  },
  {
   "cell_type": "code",
   "execution_count": 63,
   "id": "3e6e0ecb",
   "metadata": {},
   "outputs": [],
   "source": [
    "Data_stock['Vida Útil Restante Promedio']=Data_stock['Vida Útil Restante']*Data_stock['Stock']"
   ]
  },
  {
   "cell_type": "markdown",
   "id": "fd78eef0",
   "metadata": {},
   "source": [
    "### Stock total "
   ]
  },
  {
   "cell_type": "code",
   "execution_count": 64,
   "id": "bf973012",
   "metadata": {},
   "outputs": [],
   "source": [
    "Data_stock_Z001=Data_stock.groupby('Día natural').sum().reset_index()[['Día natural', 'Stock','Vida Útil Restante Promedio']]\n"
   ]
  },
  {
   "cell_type": "markdown",
   "id": "1f7a80da",
   "metadata": {},
   "source": [
    "### Ajuste de fecha "
   ]
  },
  {
   "cell_type": "code",
   "execution_count": 65,
   "id": "25f3f773",
   "metadata": {},
   "outputs": [
    {
     "data": {
      "text/plain": [
       "0      2019-11-28\n",
       "1      2019-11-29\n",
       "2      2019-11-30\n",
       "3      2019-12-01\n",
       "4      2019-12-03\n",
       "          ...    \n",
       "398    2021-05-14\n",
       "399    2021-05-16\n",
       "400    2021-05-18\n",
       "401    2021-05-22\n",
       "402    2021-05-23\n",
       "Name: Día natural, Length: 403, dtype: object"
      ]
     },
     "execution_count": 65,
     "metadata": {},
     "output_type": "execute_result"
    }
   ],
   "source": [
    "Data_stock_Z001['Día natural']=Data_stock_Z001['Día natural']+datetime.timedelta(days=1)\n",
    "Data_stock_Z001['Día natural']"
   ]
  },
  {
   "cell_type": "code",
   "execution_count": 66,
   "id": "c7628240",
   "metadata": {},
   "outputs": [],
   "source": [
    "#weekday_name[datetime.date(2021, 5, 10).weekday()]\n",
    "Data_stock_Z001['Día natural']=Data_stock_Z001['Día natural'].apply(lambda x: \n",
    "                                                                    x+datetime.timedelta(days=1) \n",
    "                                                                    if(x.weekday() >= 6) else x)"
   ]
  },
  {
   "cell_type": "markdown",
   "id": "e2d36482",
   "metadata": {},
   "source": [
    "### Vida util restante"
   ]
  },
  {
   "cell_type": "code",
   "execution_count": 67,
   "id": "c5ac2673",
   "metadata": {
    "scrolled": false
   },
   "outputs": [
    {
     "data": {
      "text/html": [
       "<div>\n",
       "<style scoped>\n",
       "    .dataframe tbody tr th:only-of-type {\n",
       "        vertical-align: middle;\n",
       "    }\n",
       "\n",
       "    .dataframe tbody tr th {\n",
       "        vertical-align: top;\n",
       "    }\n",
       "\n",
       "    .dataframe thead th {\n",
       "        text-align: right;\n",
       "    }\n",
       "</style>\n",
       "<table border=\"1\" class=\"dataframe\">\n",
       "  <thead>\n",
       "    <tr style=\"text-align: right;\">\n",
       "      <th></th>\n",
       "      <th>Día natural</th>\n",
       "      <th>Stock</th>\n",
       "      <th>Vida Útil Restante Promedio</th>\n",
       "    </tr>\n",
       "  </thead>\n",
       "  <tbody>\n",
       "    <tr>\n",
       "      <th>0</th>\n",
       "      <td>2019-11-28</td>\n",
       "      <td>3214.8</td>\n",
       "      <td>-9.0</td>\n",
       "    </tr>\n",
       "    <tr>\n",
       "      <th>1</th>\n",
       "      <td>2019-11-29</td>\n",
       "      <td>143.8</td>\n",
       "      <td>-28.0</td>\n",
       "    </tr>\n",
       "    <tr>\n",
       "      <th>2</th>\n",
       "      <td>2019-11-30</td>\n",
       "      <td>1065.1</td>\n",
       "      <td>-49.0</td>\n",
       "    </tr>\n",
       "    <tr>\n",
       "      <th>3</th>\n",
       "      <td>2019-12-02</td>\n",
       "      <td>1077.0</td>\n",
       "      <td>-20.0</td>\n",
       "    </tr>\n",
       "    <tr>\n",
       "      <th>4</th>\n",
       "      <td>2019-12-03</td>\n",
       "      <td>692.0</td>\n",
       "      <td>-39.0</td>\n",
       "    </tr>\n",
       "  </tbody>\n",
       "</table>\n",
       "</div>"
      ],
      "text/plain": [
       "  Día natural   Stock  Vida Útil Restante Promedio\n",
       "0  2019-11-28  3214.8                         -9.0\n",
       "1  2019-11-29   143.8                        -28.0\n",
       "2  2019-11-30  1065.1                        -49.0\n",
       "3  2019-12-02  1077.0                        -20.0\n",
       "4  2019-12-03   692.0                        -39.0"
      ]
     },
     "execution_count": 67,
     "metadata": {},
     "output_type": "execute_result"
    }
   ],
   "source": [
    "Data_stock_Z001['Vida Útil Restante Promedio']=Data_stock_Z001['Vida Útil Restante Promedio']/Data_stock_Z001['Stock']\n",
    "Data_stock_Z001.head()"
   ]
  },
  {
   "cell_type": "markdown",
   "id": "86078e2d",
   "metadata": {},
   "source": [
    "## Merge de Stock Demanda "
   ]
  },
  {
   "cell_type": "code",
   "execution_count": 68,
   "id": "9d034c7c",
   "metadata": {
    "scrolled": true
   },
   "outputs": [
    {
     "data": {
      "text/html": [
       "<div>\n",
       "<style scoped>\n",
       "    .dataframe tbody tr th:only-of-type {\n",
       "        vertical-align: middle;\n",
       "    }\n",
       "\n",
       "    .dataframe tbody tr th {\n",
       "        vertical-align: top;\n",
       "    }\n",
       "\n",
       "    .dataframe thead th {\n",
       "        text-align: right;\n",
       "    }\n",
       "</style>\n",
       "<table border=\"1\" class=\"dataframe\">\n",
       "  <thead>\n",
       "    <tr style=\"text-align: right;\">\n",
       "      <th></th>\n",
       "      <th>Día natural</th>\n",
       "      <th>Kilos Venta KG</th>\n",
       "      <th>Vida Útil Restante Promedio</th>\n",
       "      <th>Stock</th>\n",
       "    </tr>\n",
       "  </thead>\n",
       "  <tbody>\n",
       "    <tr>\n",
       "      <th>0</th>\n",
       "      <td>2019-11-28</td>\n",
       "      <td>2194.0</td>\n",
       "      <td>-9.0</td>\n",
       "      <td>3214.8</td>\n",
       "    </tr>\n",
       "    <tr>\n",
       "      <th>1</th>\n",
       "      <td>2019-11-29</td>\n",
       "      <td>1843.0</td>\n",
       "      <td>-28.0</td>\n",
       "      <td>143.8</td>\n",
       "    </tr>\n",
       "    <tr>\n",
       "      <th>2</th>\n",
       "      <td>2019-11-30</td>\n",
       "      <td>323.0</td>\n",
       "      <td>-49.0</td>\n",
       "      <td>1065.1</td>\n",
       "    </tr>\n",
       "    <tr>\n",
       "      <th>3</th>\n",
       "      <td>2019-12-02</td>\n",
       "      <td>233.0</td>\n",
       "      <td>-20.0</td>\n",
       "      <td>1077.0</td>\n",
       "    </tr>\n",
       "    <tr>\n",
       "      <th>4</th>\n",
       "      <td>2019-12-03</td>\n",
       "      <td>254.0</td>\n",
       "      <td>-39.0</td>\n",
       "      <td>692.0</td>\n",
       "    </tr>\n",
       "  </tbody>\n",
       "</table>\n",
       "</div>"
      ],
      "text/plain": [
       "  Día natural  Kilos Venta KG  Vida Útil Restante Promedio   Stock\n",
       "0  2019-11-28          2194.0                         -9.0  3214.8\n",
       "1  2019-11-29          1843.0                        -28.0   143.8\n",
       "2  2019-11-30           323.0                        -49.0  1065.1\n",
       "3  2019-12-02           233.0                        -20.0  1077.0\n",
       "4  2019-12-03           254.0                        -39.0   692.0"
      ]
     },
     "execution_count": 68,
     "metadata": {},
     "output_type": "execute_result"
    }
   ],
   "source": [
    "DF_VS=pd.merge(Demanda_dia_Z001[['Día natural', 'Kilos Venta KG']] , Data_stock_Z001[['Día natural','Vida Útil Restante Promedio', 'Stock']]  \n",
    "     , how='right')\n",
    "DF_VS.sort_values(by=['Día natural'], inplace=True)\n",
    "DF_VS.head()"
   ]
  },
  {
   "cell_type": "code",
   "execution_count": 69,
   "id": "5d534333",
   "metadata": {},
   "outputs": [
    {
     "data": {
      "text/html": [
       "<div>\n",
       "<style scoped>\n",
       "    .dataframe tbody tr th:only-of-type {\n",
       "        vertical-align: middle;\n",
       "    }\n",
       "\n",
       "    .dataframe tbody tr th {\n",
       "        vertical-align: top;\n",
       "    }\n",
       "\n",
       "    .dataframe thead th {\n",
       "        text-align: right;\n",
       "    }\n",
       "</style>\n",
       "<table border=\"1\" class=\"dataframe\">\n",
       "  <thead>\n",
       "    <tr style=\"text-align: right;\">\n",
       "      <th></th>\n",
       "      <th>Día natural</th>\n",
       "      <th>Kilos Venta KG</th>\n",
       "      <th>Vida Útil Restante Promedio</th>\n",
       "      <th>Stock</th>\n",
       "    </tr>\n",
       "  </thead>\n",
       "  <tbody>\n",
       "    <tr>\n",
       "      <th>0</th>\n",
       "      <td>2019-11-28</td>\n",
       "      <td>2194.0</td>\n",
       "      <td>-9.0</td>\n",
       "      <td>3214.8</td>\n",
       "    </tr>\n",
       "    <tr>\n",
       "      <th>1</th>\n",
       "      <td>2019-11-29</td>\n",
       "      <td>1843.0</td>\n",
       "      <td>-28.0</td>\n",
       "      <td>143.8</td>\n",
       "    </tr>\n",
       "    <tr>\n",
       "      <th>2</th>\n",
       "      <td>2019-11-30</td>\n",
       "      <td>323.0</td>\n",
       "      <td>-49.0</td>\n",
       "      <td>1065.1</td>\n",
       "    </tr>\n",
       "    <tr>\n",
       "      <th>3</th>\n",
       "      <td>2019-12-02</td>\n",
       "      <td>233.0</td>\n",
       "      <td>-20.0</td>\n",
       "      <td>1077.0</td>\n",
       "    </tr>\n",
       "    <tr>\n",
       "      <th>4</th>\n",
       "      <td>2019-12-03</td>\n",
       "      <td>254.0</td>\n",
       "      <td>-39.0</td>\n",
       "      <td>692.0</td>\n",
       "    </tr>\n",
       "  </tbody>\n",
       "</table>\n",
       "</div>"
      ],
      "text/plain": [
       "  Día natural  Kilos Venta KG  Vida Útil Restante Promedio   Stock\n",
       "0  2019-11-28          2194.0                         -9.0  3214.8\n",
       "1  2019-11-29          1843.0                        -28.0   143.8\n",
       "2  2019-11-30           323.0                        -49.0  1065.1\n",
       "3  2019-12-02           233.0                        -20.0  1077.0\n",
       "4  2019-12-03           254.0                        -39.0   692.0"
      ]
     },
     "execution_count": 69,
     "metadata": {},
     "output_type": "execute_result"
    }
   ],
   "source": [
    "DF_VS['Kilos Venta KG']=DF_VS['Kilos Venta KG'].fillna(0)\n",
    "DF_VS.head()"
   ]
  },
  {
   "cell_type": "code",
   "execution_count": 70,
   "id": "1e78cf2c",
   "metadata": {
    "scrolled": true
   },
   "outputs": [
    {
     "data": {
      "text/html": [
       "<div>\n",
       "<style scoped>\n",
       "    .dataframe tbody tr th:only-of-type {\n",
       "        vertical-align: middle;\n",
       "    }\n",
       "\n",
       "    .dataframe tbody tr th {\n",
       "        vertical-align: top;\n",
       "    }\n",
       "\n",
       "    .dataframe thead th {\n",
       "        text-align: right;\n",
       "    }\n",
       "</style>\n",
       "<table border=\"1\" class=\"dataframe\">\n",
       "  <thead>\n",
       "    <tr style=\"text-align: right;\">\n",
       "      <th></th>\n",
       "      <th>Día natural</th>\n",
       "      <th>Kilos Venta KG</th>\n",
       "      <th>Vida Útil Restante Promedio</th>\n",
       "      <th>Stock</th>\n",
       "    </tr>\n",
       "  </thead>\n",
       "  <tbody>\n",
       "    <tr>\n",
       "      <th>0</th>\n",
       "      <td>2019-11-28</td>\n",
       "      <td>2194.0</td>\n",
       "      <td>-9.0</td>\n",
       "      <td>3214.8</td>\n",
       "    </tr>\n",
       "    <tr>\n",
       "      <th>1</th>\n",
       "      <td>2019-11-29</td>\n",
       "      <td>1843.0</td>\n",
       "      <td>-28.0</td>\n",
       "      <td>143.8</td>\n",
       "    </tr>\n",
       "    <tr>\n",
       "      <th>2</th>\n",
       "      <td>2019-11-30</td>\n",
       "      <td>323.0</td>\n",
       "      <td>-49.0</td>\n",
       "      <td>1065.1</td>\n",
       "    </tr>\n",
       "    <tr>\n",
       "      <th>3</th>\n",
       "      <td>2019-12-02</td>\n",
       "      <td>233.0</td>\n",
       "      <td>-20.0</td>\n",
       "      <td>1077.0</td>\n",
       "    </tr>\n",
       "    <tr>\n",
       "      <th>4</th>\n",
       "      <td>2019-12-03</td>\n",
       "      <td>254.0</td>\n",
       "      <td>-39.0</td>\n",
       "      <td>692.0</td>\n",
       "    </tr>\n",
       "  </tbody>\n",
       "</table>\n",
       "</div>"
      ],
      "text/plain": [
       "  Día natural  Kilos Venta KG  Vida Útil Restante Promedio   Stock\n",
       "0  2019-11-28          2194.0                         -9.0  3214.8\n",
       "1  2019-11-29          1843.0                        -28.0   143.8\n",
       "2  2019-11-30           323.0                        -49.0  1065.1\n",
       "3  2019-12-02           233.0                        -20.0  1077.0\n",
       "4  2019-12-03           254.0                        -39.0   692.0"
      ]
     },
     "execution_count": 70,
     "metadata": {},
     "output_type": "execute_result"
    }
   ],
   "source": [
    "DF_VS['Stock']=DF_VS['Stock'].fillna(0)\n",
    "DF_VS.head()"
   ]
  },
  {
   "cell_type": "markdown",
   "id": "c5cf5971",
   "metadata": {},
   "source": [
    "### Grafica "
   ]
  },
  {
   "cell_type": "code",
   "execution_count": 71,
   "id": "e70e5ff0",
   "metadata": {},
   "outputs": [],
   "source": [
    "from mizani.breaks import date_breaks\n",
    "from mizani.formatters import date_format"
   ]
  },
  {
   "cell_type": "markdown",
   "id": "6d949eb4",
   "metadata": {},
   "source": [
    "Ploteo sin fondo\n",
    "\n",
    "```\n",
    "from plotnine import *\n",
    "theme_set(theme_void())#sin fondo\n",
    "theme_set(theme_classic())\n",
    "theme_set(theme_bw())\n",
    "theme_set(theme_gray())#basico\n",
    "GRafico\n",
    "\n",
    "grafico.save('Prueba.png',dpi=1000)\n",
    "\n",
    "dpi es la densidad de los pixeles\n",
    "```"
   ]
  },
  {
   "cell_type": "code",
   "execution_count": 72,
   "id": "1b421865",
   "metadata": {
    "scrolled": false
   },
   "outputs": [
    {
     "data": {
      "image/png": "[encoded data removed]",
      "text/plain": [
       "<Figure size 2600x1000 with 1 Axes>"
      ]
     },
     "metadata": {},
     "output_type": "display_data"
    },
    {
     "data": {
      "text/plain": [
       "<ggplot: (122064242981)>"
      ]
     },
     "execution_count": 72,
     "metadata": {},
     "output_type": "execute_result"
    }
   ],
   "source": [
    "GRaph_Disp_cluster=(\n",
    "    ggplot(DF_VS, aes(x='Día natural',\n",
    "                               y= 'Stock'))\\\n",
    "                + labs(y='Volumen en KG',x='Día natural',size=14)\\\n",
    "                + geom_point(aes(color='Vida Útil Restante Promedio'\n",
    "                     ))\\\n",
    "                 + geom_point(aes(x='Día natural',\n",
    "                               y= 'Kilos Venta KG'),color='red')\\\n",
    "                +ggtitle(('Peso Promedio de los Clusters de Clientes'+\n",
    "                          ' \\n Para Cada Semana'))\\\n",
    "                +theme(axis_text_x = element_text(angle=90, hjust=1)\n",
    "                       ,figure_size=(26,10))\n",
    "                 #+ scale_x_continuous(breaks=X_brak,labels=X_brak_S)\n",
    "                + scale_x_datetime(breaks=date_breaks('1 month'))  \n",
    "    )\n",
    "GRaph_Disp_cluster"
   ]
  },
  {
   "cell_type": "markdown",
   "id": "5e094976",
   "metadata": {},
   "source": [
    "## Caclualo Abastecimiento\n",
    "\n",
    "\\begin{equation}\n",
    "Abastecimiento_n = Stock_{n+1}+Demanda_n-Stock_n  \n",
    "\\end{equation}\n",
    "\n",
    "\n",
    "\n",
    "\\begin{equation}\n",
    "Stock_{n+1}=Abastecimiento_n +Stock_n -Demanda_n  \n",
    "\\end{equation}"
   ]
  },
  {
   "cell_type": "code",
   "execution_count": 73,
   "id": "30a00c82",
   "metadata": {
    "scrolled": true
   },
   "outputs": [
    {
     "data": {
      "text/html": [
       "<div>\n",
       "<style scoped>\n",
       "    .dataframe tbody tr th:only-of-type {\n",
       "        vertical-align: middle;\n",
       "    }\n",
       "\n",
       "    .dataframe tbody tr th {\n",
       "        vertical-align: top;\n",
       "    }\n",
       "\n",
       "    .dataframe thead th {\n",
       "        text-align: right;\n",
       "    }\n",
       "</style>\n",
       "<table border=\"1\" class=\"dataframe\">\n",
       "  <thead>\n",
       "    <tr style=\"text-align: right;\">\n",
       "      <th></th>\n",
       "      <th>Día natural</th>\n",
       "      <th>Kilos Venta KG</th>\n",
       "      <th>Vida Útil Restante Promedio</th>\n",
       "      <th>Stock</th>\n",
       "    </tr>\n",
       "  </thead>\n",
       "  <tbody>\n",
       "    <tr>\n",
       "      <th>0</th>\n",
       "      <td>2019-11-28</td>\n",
       "      <td>2194.0</td>\n",
       "      <td>-9.0</td>\n",
       "      <td>3214.8</td>\n",
       "    </tr>\n",
       "    <tr>\n",
       "      <th>1</th>\n",
       "      <td>2019-11-29</td>\n",
       "      <td>1843.0</td>\n",
       "      <td>-28.0</td>\n",
       "      <td>143.8</td>\n",
       "    </tr>\n",
       "    <tr>\n",
       "      <th>2</th>\n",
       "      <td>2019-11-30</td>\n",
       "      <td>323.0</td>\n",
       "      <td>-49.0</td>\n",
       "      <td>1065.1</td>\n",
       "    </tr>\n",
       "    <tr>\n",
       "      <th>3</th>\n",
       "      <td>2019-12-02</td>\n",
       "      <td>233.0</td>\n",
       "      <td>-20.0</td>\n",
       "      <td>1077.0</td>\n",
       "    </tr>\n",
       "    <tr>\n",
       "      <th>4</th>\n",
       "      <td>2019-12-03</td>\n",
       "      <td>254.0</td>\n",
       "      <td>-39.0</td>\n",
       "      <td>692.0</td>\n",
       "    </tr>\n",
       "  </tbody>\n",
       "</table>\n",
       "</div>"
      ],
      "text/plain": [
       "  Día natural  Kilos Venta KG  Vida Útil Restante Promedio   Stock\n",
       "0  2019-11-28          2194.0                         -9.0  3214.8\n",
       "1  2019-11-29          1843.0                        -28.0   143.8\n",
       "2  2019-11-30           323.0                        -49.0  1065.1\n",
       "3  2019-12-02           233.0                        -20.0  1077.0\n",
       "4  2019-12-03           254.0                        -39.0   692.0"
      ]
     },
     "execution_count": 73,
     "metadata": {},
     "output_type": "execute_result"
    }
   ],
   "source": [
    "DF_VS.head()"
   ]
  },
  {
   "cell_type": "code",
   "execution_count": 74,
   "id": "d3c4904c",
   "metadata": {},
   "outputs": [
    {
     "data": {
      "text/plain": [
       "[143.8, 1065.1, 1077.0, 692.0]"
      ]
     },
     "execution_count": 74,
     "metadata": {},
     "output_type": "execute_result"
    }
   ],
   "source": [
    "Lista_temp=DF_VS.Stock.to_list()[1:]\n",
    "Lista_temp.append(0)\n",
    "Lista_temp[:4]"
   ]
  },
  {
   "cell_type": "code",
   "execution_count": 75,
   "id": "5d68171b",
   "metadata": {
    "scrolled": true
   },
   "outputs": [
    {
     "data": {
      "text/html": [
       "<div>\n",
       "<style scoped>\n",
       "    .dataframe tbody tr th:only-of-type {\n",
       "        vertical-align: middle;\n",
       "    }\n",
       "\n",
       "    .dataframe tbody tr th {\n",
       "        vertical-align: top;\n",
       "    }\n",
       "\n",
       "    .dataframe thead th {\n",
       "        text-align: right;\n",
       "    }\n",
       "</style>\n",
       "<table border=\"1\" class=\"dataframe\">\n",
       "  <thead>\n",
       "    <tr style=\"text-align: right;\">\n",
       "      <th></th>\n",
       "      <th>Día natural</th>\n",
       "      <th>Kilos Venta KG</th>\n",
       "      <th>Vida Útil Restante Promedio</th>\n",
       "      <th>Stock</th>\n",
       "      <th>Stock+1</th>\n",
       "    </tr>\n",
       "  </thead>\n",
       "  <tbody>\n",
       "    <tr>\n",
       "      <th>398</th>\n",
       "      <td>2021-05-14</td>\n",
       "      <td>218.0</td>\n",
       "      <td>10.0</td>\n",
       "      <td>24.7</td>\n",
       "      <td>247.2</td>\n",
       "    </tr>\n",
       "    <tr>\n",
       "      <th>399</th>\n",
       "      <td>2021-05-17</td>\n",
       "      <td>201.0</td>\n",
       "      <td>10.0</td>\n",
       "      <td>247.2</td>\n",
       "      <td>41.1</td>\n",
       "    </tr>\n",
       "    <tr>\n",
       "      <th>400</th>\n",
       "      <td>2021-05-18</td>\n",
       "      <td>40.0</td>\n",
       "      <td>8.0</td>\n",
       "      <td>41.1</td>\n",
       "      <td>184.0</td>\n",
       "    </tr>\n",
       "    <tr>\n",
       "      <th>401</th>\n",
       "      <td>2021-05-22</td>\n",
       "      <td>103.0</td>\n",
       "      <td>10.0</td>\n",
       "      <td>184.0</td>\n",
       "      <td>55.2</td>\n",
       "    </tr>\n",
       "    <tr>\n",
       "      <th>402</th>\n",
       "      <td>2021-05-24</td>\n",
       "      <td>0.0</td>\n",
       "      <td>9.0</td>\n",
       "      <td>55.2</td>\n",
       "      <td>0.0</td>\n",
       "    </tr>\n",
       "  </tbody>\n",
       "</table>\n",
       "</div>"
      ],
      "text/plain": [
       "    Día natural  Kilos Venta KG  Vida Útil Restante Promedio  Stock  Stock+1\n",
       "398  2021-05-14           218.0                         10.0   24.7    247.2\n",
       "399  2021-05-17           201.0                         10.0  247.2     41.1\n",
       "400  2021-05-18            40.0                          8.0   41.1    184.0\n",
       "401  2021-05-22           103.0                         10.0  184.0     55.2\n",
       "402  2021-05-24             0.0                          9.0   55.2      0.0"
      ]
     },
     "execution_count": 75,
     "metadata": {},
     "output_type": "execute_result"
    }
   ],
   "source": [
    "DF_VS['Stock+1']=Lista_temp\n",
    "DF_VS.tail()"
   ]
  },
  {
   "cell_type": "code",
   "execution_count": 76,
   "id": "973f30c3",
   "metadata": {
    "scrolled": true
   },
   "outputs": [
    {
     "data": {
      "text/html": [
       "<div>\n",
       "<style scoped>\n",
       "    .dataframe tbody tr th:only-of-type {\n",
       "        vertical-align: middle;\n",
       "    }\n",
       "\n",
       "    .dataframe tbody tr th {\n",
       "        vertical-align: top;\n",
       "    }\n",
       "\n",
       "    .dataframe thead th {\n",
       "        text-align: right;\n",
       "    }\n",
       "</style>\n",
       "<table border=\"1\" class=\"dataframe\">\n",
       "  <thead>\n",
       "    <tr style=\"text-align: right;\">\n",
       "      <th></th>\n",
       "      <th>Día natural</th>\n",
       "      <th>Kilos Venta KG</th>\n",
       "      <th>Vida Útil Restante Promedio</th>\n",
       "      <th>Stock</th>\n",
       "      <th>Stock+1</th>\n",
       "      <th>Abastecimiento</th>\n",
       "    </tr>\n",
       "  </thead>\n",
       "  <tbody>\n",
       "    <tr>\n",
       "      <th>398</th>\n",
       "      <td>2021-05-14</td>\n",
       "      <td>218.0</td>\n",
       "      <td>10.0</td>\n",
       "      <td>24.7</td>\n",
       "      <td>247.2</td>\n",
       "      <td>440.5</td>\n",
       "    </tr>\n",
       "    <tr>\n",
       "      <th>399</th>\n",
       "      <td>2021-05-17</td>\n",
       "      <td>201.0</td>\n",
       "      <td>10.0</td>\n",
       "      <td>247.2</td>\n",
       "      <td>41.1</td>\n",
       "      <td>-5.1</td>\n",
       "    </tr>\n",
       "    <tr>\n",
       "      <th>400</th>\n",
       "      <td>2021-05-18</td>\n",
       "      <td>40.0</td>\n",
       "      <td>8.0</td>\n",
       "      <td>41.1</td>\n",
       "      <td>184.0</td>\n",
       "      <td>182.9</td>\n",
       "    </tr>\n",
       "    <tr>\n",
       "      <th>401</th>\n",
       "      <td>2021-05-22</td>\n",
       "      <td>103.0</td>\n",
       "      <td>10.0</td>\n",
       "      <td>184.0</td>\n",
       "      <td>55.2</td>\n",
       "      <td>-25.8</td>\n",
       "    </tr>\n",
       "    <tr>\n",
       "      <th>402</th>\n",
       "      <td>2021-05-24</td>\n",
       "      <td>0.0</td>\n",
       "      <td>9.0</td>\n",
       "      <td>55.2</td>\n",
       "      <td>0.0</td>\n",
       "      <td>-55.2</td>\n",
       "    </tr>\n",
       "  </tbody>\n",
       "</table>\n",
       "</div>"
      ],
      "text/plain": [
       "    Día natural  Kilos Venta KG  Vida Útil Restante Promedio  Stock  Stock+1  \\\n",
       "398  2021-05-14           218.0                         10.0   24.7    247.2   \n",
       "399  2021-05-17           201.0                         10.0  247.2     41.1   \n",
       "400  2021-05-18            40.0                          8.0   41.1    184.0   \n",
       "401  2021-05-22           103.0                         10.0  184.0     55.2   \n",
       "402  2021-05-24             0.0                          9.0   55.2      0.0   \n",
       "\n",
       "     Abastecimiento  \n",
       "398           440.5  \n",
       "399            -5.1  \n",
       "400           182.9  \n",
       "401           -25.8  \n",
       "402           -55.2  "
      ]
     },
     "execution_count": 76,
     "metadata": {},
     "output_type": "execute_result"
    }
   ],
   "source": [
    "DF_VS['Abastecimiento']=DF_VS['Stock+1']+DF_VS['Kilos Venta KG']-DF_VS['Stock']\n",
    "DF_VS.tail()"
   ]
  },
  {
   "cell_type": "markdown",
   "id": "13b97533",
   "metadata": {},
   "source": [
    "### Restando un dia "
   ]
  },
  {
   "cell_type": "markdown",
   "id": "ed326c24",
   "metadata": {
    "collapsed": true
   },
   "source": [
    "```python\n",
    "def caculo_Aba(Abastecimiento,Stock,Volumen):\n",
    "    x['Abastecimiento']=x['Stock']-x['Volumen en KG']\n",
    "    return x\n",
    "\n",
    "def Abastecimiento_df(data):\n",
    "    df=data.copy()\n",
    "    df_futuro=data.copy()\n",
    "    df_futuro['Día natural']=df_futuro['Día natural']-datetime.timedelta(days=1)\n",
    "    df_futuro=df_futuro.rename(columns={'Stock':'Stock+1'})\n",
    "    df=pd.merge(df_futuro[['Día natural','Stock+1']] , df\n",
    "     , how='right')\n",
    "    \n",
    "    a=df.iloc[0:4]\n",
    "    \n",
    "    #a.apply(caculo_Aba,)\n",
    "    return(a)\n",
    "Abastecimiento_df(DF_VS)\n",
    "``` "
   ]
  },
  {
   "cell_type": "markdown",
   "id": "0a5566ec",
   "metadata": {
    "scrolled": true
   },
   "source": [
    "```python\n",
    "def caculo_Aba(Stock,Volumen):\n",
    "    Abastecimiento=Stock+Volumen\n",
    "    return Abastecimiento\n",
    "\n",
    "def Abastecimiento_df(data):\n",
    "    df=data.copy()\n",
    "    a=df.iloc[0:4]\n",
    "    \n",
    "    a['Abastecimiento']=a.apply( lambda x: caculo_Aba(\n",
    "        x['Stock'],x['Kilos Venta KG']),\n",
    "           axis = 1)\n",
    "    return(a)\n",
    "Abastecimiento_df(DF_VS)\n",
    "\n",
    "```"
   ]
  },
  {
   "cell_type": "markdown",
   "id": "3de03f0e",
   "metadata": {},
   "source": [
    "## Comportamiento abastecimiento "
   ]
  },
  {
   "cell_type": "markdown",
   "id": "53bc578b",
   "metadata": {},
   "source": [
    "### Graficos de Abastecimiento "
   ]
  },
  {
   "cell_type": "code",
   "execution_count": 77,
   "id": "c3b258a7",
   "metadata": {},
   "outputs": [],
   "source": [
    "from mizani.breaks import date_breaks\n",
    "from mizani.formatters import date_format"
   ]
  },
  {
   "cell_type": "code",
   "execution_count": 78,
   "id": "ddab81b2",
   "metadata": {},
   "outputs": [
    {
     "data": {
      "text/plain": [
       "0"
      ]
     },
     "execution_count": 78,
     "metadata": {},
     "output_type": "execute_result"
    }
   ],
   "source": [
    "DF_VS['Kilos Venta KG'].isnull().sum()"
   ]
  },
  {
   "cell_type": "code",
   "execution_count": 79,
   "id": "08139e5c",
   "metadata": {
    "scrolled": false
   },
   "outputs": [
    {
     "data": {
      "image/png": "[encoded data removed]",
      "text/plain": [
       "<Figure size 2600x1000 with 1 Axes>"
      ]
     },
     "metadata": {},
     "output_type": "display_data"
    },
    {
     "data": {
      "text/plain": [
       "<ggplot: (122067400876)>"
      ]
     },
     "execution_count": 79,
     "metadata": {},
     "output_type": "execute_result"
    }
   ],
   "source": [
    "Abastec=(\n",
    "    ggplot(DF_VS, aes(x='Día natural',y='Kilos Venta KG'))                 \n",
    "                + geom_col(fill='red',alpha=0.4)\\\n",
    "                + geom_col(aes(x='Día natural',y= 'Stock',fill='Vida Útil Restante Promedio'\n",
    "                     ),alpha=0.4)\\\n",
    "                + geom_point(aes(x='Día natural',y= 'Abastecimiento'),color='black')\\\n",
    "                + labs(y='Volumen en KG',x='Día natural',size=14)\\\n",
    "                +ggtitle(('Demanda Z001'+\n",
    "                          ' \\n Para Cada dia'))\\\n",
    "                +theme(axis_text_x = element_text(angle=90, hjust=1)\n",
    "                       ,figure_size=(26,10))\n",
    "                 #+ scale_x_continuous(breaks=X_brak,labels=X_brak_S)\n",
    "                + scale_x_datetime(breaks=date_breaks('1 month'))  \n",
    "    )\n",
    "Abastec"
   ]
  },
  {
   "cell_type": "code",
   "execution_count": 80,
   "id": "67ad0d9a",
   "metadata": {
    "scrolled": false
   },
   "outputs": [
    {
     "name": "stderr",
     "output_type": "stream",
     "text": [
      "<ipython-input-80-3689d590f42d>:2: UserWarning: Boolean Series key will be reindexed to match DataFrame index.\n"
     ]
    },
    {
     "data": {
      "image/png": "[encoded data removed]",
      "text/plain": [
       "<Figure size 2600x1000 with 1 Axes>"
      ]
     },
     "metadata": {},
     "output_type": "display_data"
    },
    {
     "data": {
      "text/plain": [
       "<ggplot: (122064344143)>"
      ]
     },
     "execution_count": 80,
     "metadata": {},
     "output_type": "execute_result"
    }
   ],
   "source": [
    "Abastec=(\n",
    "    ggplot(DF_VS[DF_VS.Abastecimiento>=0 ][DF_VS['Kilos Venta KG']>0], aes(x='Día natural',y='Kilos Venta KG'))                 \n",
    "                + geom_col(fill='red',alpha=0.4)\\\n",
    "                + geom_col(aes(x='Día natural',y= 'Stock',fill='Vida Útil Restante Promedio'\n",
    "                     ),alpha=0.4)\\\n",
    "                + geom_point(aes(x='Día natural',y= 'Abastecimiento'),color='black')\\\n",
    "                + labs(y='Volumen en KG',x='Día natural',size=14)\\\n",
    "                +ggtitle(('Demanda Z001'+\n",
    "                          ' \\n Para Cada dia'))\\\n",
    "                +theme(axis_text_x = element_text(angle=90, hjust=1)\n",
    "                       ,figure_size=(26,10))\n",
    "                 #+ scale_x_continuous(breaks=X_brak,labels=X_brak_S)\n",
    "                + scale_x_datetime(breaks=date_breaks('1 month'))  \n",
    "    )\n",
    "Abastec"
   ]
  },
  {
   "cell_type": "markdown",
   "id": "a5b7e2fd",
   "metadata": {},
   "source": [
    "### Precio promedio\n",
    "Kilos Venta KG= sum(Kilos Venta KG)\n",
    "\n",
    "Venta Neta CLP\t= la suma de los ingresos\n",
    "\n",
    "\\begin{equation}\n",
    "Precio_{ponderado} [{\\dfrac{CLP}{KG}}]= \\dfrac{Ingresos_{totales}[CLP]}{Volumen de ventas[KG]}\n",
    "\\end{equation}"
   ]
  },
  {
   "cell_type": "code",
   "execution_count": 81,
   "id": "2c83a319",
   "metadata": {},
   "outputs": [
    {
     "data": {
      "text/html": [
       "<div>\n",
       "<style scoped>\n",
       "    .dataframe tbody tr th:only-of-type {\n",
       "        vertical-align: middle;\n",
       "    }\n",
       "\n",
       "    .dataframe tbody tr th {\n",
       "        vertical-align: top;\n",
       "    }\n",
       "\n",
       "    .dataframe thead th {\n",
       "        text-align: right;\n",
       "    }\n",
       "</style>\n",
       "<table border=\"1\" class=\"dataframe\">\n",
       "  <thead>\n",
       "    <tr style=\"text-align: right;\">\n",
       "      <th></th>\n",
       "      <th>Material</th>\n",
       "      <th>Tipo de cliente</th>\n",
       "      <th>Zona de ventas</th>\n",
       "      <th>Zona de ventas.1</th>\n",
       "      <th>Oficina de Ventas Unifica</th>\n",
       "      <th>Oficina de Ventas Unifica.1</th>\n",
       "      <th>Zona de reparto</th>\n",
       "      <th>Subtipo de cliente</th>\n",
       "      <th>Cluster</th>\n",
       "      <th>Cliente - Local</th>\n",
       "      <th>Cliente - Local.1</th>\n",
       "      <th>Mes</th>\n",
       "      <th>Año natural/Semana</th>\n",
       "      <th>Día natural</th>\n",
       "      <th>Día de la semana</th>\n",
       "      <th>Kilos Venta KG</th>\n",
       "      <th>Venta Neta</th>\n",
       "      <th>Precio Promedio</th>\n",
       "      <th>Semana</th>\n",
       "      <th>Año</th>\n",
       "    </tr>\n",
       "  </thead>\n",
       "  <tbody>\n",
       "    <tr>\n",
       "      <th>75186</th>\n",
       "      <td>1020003</td>\n",
       "      <td>Tradicional</td>\n",
       "      <td>Z004</td>\n",
       "      <td>Sur</td>\n",
       "      <td>Temuco</td>\n",
       "      <td>T105</td>\n",
       "      <td>8000480112</td>\n",
       "      <td>Espec. en Crudos</td>\n",
       "      <td>Sin asignar</td>\n",
       "      <td>Castro Muñoz Jose Isaias</td>\n",
       "      <td>3200104287</td>\n",
       "      <td>4</td>\n",
       "      <td>15.2021</td>\n",
       "      <td>2021-04-12</td>\n",
       "      <td>LU</td>\n",
       "      <td>43</td>\n",
       "      <td>182668</td>\n",
       "      <td>4290</td>\n",
       "      <td>15</td>\n",
       "      <td>2021</td>\n",
       "    </tr>\n",
       "    <tr>\n",
       "      <th>75187</th>\n",
       "      <td>1020003</td>\n",
       "      <td>Tradicional</td>\n",
       "      <td>Z004</td>\n",
       "      <td>Sur</td>\n",
       "      <td>Temuco</td>\n",
       "      <td>T105</td>\n",
       "      <td>8000480112</td>\n",
       "      <td>Espec. en Crudos</td>\n",
       "      <td>Sin asignar</td>\n",
       "      <td>Castro Muñoz Jose Isaias</td>\n",
       "      <td>3200104287</td>\n",
       "      <td>4</td>\n",
       "      <td>16.2021</td>\n",
       "      <td>2021-04-21</td>\n",
       "      <td>MI</td>\n",
       "      <td>43</td>\n",
       "      <td>157268</td>\n",
       "      <td>3690</td>\n",
       "      <td>16</td>\n",
       "      <td>2021</td>\n",
       "    </tr>\n",
       "    <tr>\n",
       "      <th>75188</th>\n",
       "      <td>1020003</td>\n",
       "      <td>Tradicional</td>\n",
       "      <td>Z004</td>\n",
       "      <td>Sur</td>\n",
       "      <td>Temuco</td>\n",
       "      <td>T105</td>\n",
       "      <td>8000480112</td>\n",
       "      <td>Espec. en Crudos</td>\n",
       "      <td>Sin asignar</td>\n",
       "      <td>Castro Muñoz Jose Isaias</td>\n",
       "      <td>3200104287</td>\n",
       "      <td>4</td>\n",
       "      <td>17.2021</td>\n",
       "      <td>2021-04-26</td>\n",
       "      <td>LU</td>\n",
       "      <td>20</td>\n",
       "      <td>69393</td>\n",
       "      <td>3390</td>\n",
       "      <td>17</td>\n",
       "      <td>2021</td>\n",
       "    </tr>\n",
       "    <tr>\n",
       "      <th>75189</th>\n",
       "      <td>1020003</td>\n",
       "      <td>Tradicional</td>\n",
       "      <td>Z004</td>\n",
       "      <td>Sur</td>\n",
       "      <td>Temuco</td>\n",
       "      <td>T105</td>\n",
       "      <td>8000480112</td>\n",
       "      <td>Espec. en Crudos</td>\n",
       "      <td>Sin asignar</td>\n",
       "      <td>Castro Muñoz Jose Isaias</td>\n",
       "      <td>3200104287</td>\n",
       "      <td>5</td>\n",
       "      <td>18.2021</td>\n",
       "      <td>2021-05-05</td>\n",
       "      <td>MI</td>\n",
       "      <td>26</td>\n",
       "      <td>94489</td>\n",
       "      <td>3590</td>\n",
       "      <td>18</td>\n",
       "      <td>2021</td>\n",
       "    </tr>\n",
       "    <tr>\n",
       "      <th>75190</th>\n",
       "      <td>1020003</td>\n",
       "      <td>Tradicional</td>\n",
       "      <td>Z004</td>\n",
       "      <td>Sur</td>\n",
       "      <td>Temuco</td>\n",
       "      <td>T105</td>\n",
       "      <td>8000480112</td>\n",
       "      <td>Espec. en Crudos</td>\n",
       "      <td>Sin asignar</td>\n",
       "      <td>Castro Muñoz Jose Isaias</td>\n",
       "      <td>3200104287</td>\n",
       "      <td>5</td>\n",
       "      <td>19.2021</td>\n",
       "      <td>2021-05-10</td>\n",
       "      <td>LU</td>\n",
       "      <td>37</td>\n",
       "      <td>141412</td>\n",
       "      <td>3849</td>\n",
       "      <td>19</td>\n",
       "      <td>2021</td>\n",
       "    </tr>\n",
       "  </tbody>\n",
       "</table>\n",
       "</div>"
      ],
      "text/plain": [
       "      Material Tipo de cliente Zona de ventas Zona de ventas.1  \\\n",
       "75186  1020003     Tradicional           Z004              Sur   \n",
       "75187  1020003     Tradicional           Z004              Sur   \n",
       "75188  1020003     Tradicional           Z004              Sur   \n",
       "75189  1020003     Tradicional           Z004              Sur   \n",
       "75190  1020003     Tradicional           Z004              Sur   \n",
       "\n",
       "      Oficina de Ventas Unifica Oficina de Ventas Unifica.1 Zona de reparto  \\\n",
       "75186                    Temuco                        T105      8000480112   \n",
       "75187                    Temuco                        T105      8000480112   \n",
       "75188                    Temuco                        T105      8000480112   \n",
       "75189                    Temuco                        T105      8000480112   \n",
       "75190                    Temuco                        T105      8000480112   \n",
       "\n",
       "      Subtipo de cliente      Cluster           Cliente - Local  \\\n",
       "75186   Espec. en Crudos  Sin asignar  Castro Muñoz Jose Isaias   \n",
       "75187   Espec. en Crudos  Sin asignar  Castro Muñoz Jose Isaias   \n",
       "75188   Espec. en Crudos  Sin asignar  Castro Muñoz Jose Isaias   \n",
       "75189   Espec. en Crudos  Sin asignar  Castro Muñoz Jose Isaias   \n",
       "75190   Espec. en Crudos  Sin asignar  Castro Muñoz Jose Isaias   \n",
       "\n",
       "      Cliente - Local.1 Mes Año natural/Semana Día natural Día de la semana  \\\n",
       "75186        3200104287   4            15.2021  2021-04-12               LU   \n",
       "75187        3200104287   4            16.2021  2021-04-21               MI   \n",
       "75188        3200104287   4            17.2021  2021-04-26               LU   \n",
       "75189        3200104287   5            18.2021  2021-05-05               MI   \n",
       "75190        3200104287   5            19.2021  2021-05-10               LU   \n",
       "\n",
       "       Kilos Venta KG  Venta Neta  Precio Promedio  Semana   Año  \n",
       "75186              43      182668             4290      15  2021  \n",
       "75187              43      157268             3690      16  2021  \n",
       "75188              20       69393             3390      17  2021  \n",
       "75189              26       94489             3590      18  2021  \n",
       "75190              37      141412             3849      19  2021  "
      ]
     },
     "execution_count": 81,
     "metadata": {},
     "output_type": "execute_result"
    }
   ],
   "source": [
    "Data_totales.head()"
   ]
  },
  {
   "cell_type": "code",
   "execution_count": 82,
   "id": "f0c9a5ea",
   "metadata": {
    "scrolled": true
   },
   "outputs": [
    {
     "data": {
      "text/html": [
       "<div>\n",
       "<style scoped>\n",
       "    .dataframe tbody tr th:only-of-type {\n",
       "        vertical-align: middle;\n",
       "    }\n",
       "\n",
       "    .dataframe tbody tr th {\n",
       "        vertical-align: top;\n",
       "    }\n",
       "\n",
       "    .dataframe thead th {\n",
       "        text-align: right;\n",
       "    }\n",
       "</style>\n",
       "<table border=\"1\" class=\"dataframe\">\n",
       "  <thead>\n",
       "    <tr style=\"text-align: right;\">\n",
       "      <th></th>\n",
       "      <th>Día natural</th>\n",
       "      <th>Kilos Venta KG</th>\n",
       "      <th>Precio Ponderado</th>\n",
       "    </tr>\n",
       "  </thead>\n",
       "  <tbody>\n",
       "    <tr>\n",
       "      <th>1276</th>\n",
       "      <td>2021-05-17</td>\n",
       "      <td>201</td>\n",
       "      <td>5325.671642</td>\n",
       "    </tr>\n",
       "    <tr>\n",
       "      <th>1277</th>\n",
       "      <td>2021-05-18</td>\n",
       "      <td>40</td>\n",
       "      <td>5324.275000</td>\n",
       "    </tr>\n",
       "    <tr>\n",
       "      <th>1278</th>\n",
       "      <td>2021-05-19</td>\n",
       "      <td>397</td>\n",
       "      <td>5142.544081</td>\n",
       "    </tr>\n",
       "    <tr>\n",
       "      <th>1279</th>\n",
       "      <td>2021-05-20</td>\n",
       "      <td>264</td>\n",
       "      <td>4747.507576</td>\n",
       "    </tr>\n",
       "    <tr>\n",
       "      <th>1280</th>\n",
       "      <td>2021-05-22</td>\n",
       "      <td>103</td>\n",
       "      <td>5497.330097</td>\n",
       "    </tr>\n",
       "  </tbody>\n",
       "</table>\n",
       "</div>"
      ],
      "text/plain": [
       "     Día natural  Kilos Venta KG  Precio Ponderado\n",
       "1276  2021-05-17             201       5325.671642\n",
       "1277  2021-05-18              40       5324.275000\n",
       "1278  2021-05-19             397       5142.544081\n",
       "1279  2021-05-20             264       4747.507576\n",
       "1280  2021-05-22             103       5497.330097"
      ]
     },
     "execution_count": 82,
     "metadata": {},
     "output_type": "execute_result"
    }
   ],
   "source": [
    "def P_podn(data):\n",
    "    df=data.groupby('Día natural').sum().reset_index()#[['Día natural', 'Kilos Venta KG']]\n",
    "    df['Precio Ponderado']=df['Venta Neta']/df['Kilos Venta KG']\n",
    "    #df['Día natural']=df['Día natural']-datetime.timedelta(days=1)\n",
    "    return df[['Día natural','Kilos Venta KG','Precio Ponderado']]\n",
    "P_podn(Data_totales).tail()"
   ]
  },
  {
   "cell_type": "code",
   "execution_count": 83,
   "id": "7612b93d",
   "metadata": {
    "scrolled": true
   },
   "outputs": [
    {
     "data": {
      "text/html": [
       "<div>\n",
       "<style scoped>\n",
       "    .dataframe tbody tr th:only-of-type {\n",
       "        vertical-align: middle;\n",
       "    }\n",
       "\n",
       "    .dataframe tbody tr th {\n",
       "        vertical-align: top;\n",
       "    }\n",
       "\n",
       "    .dataframe thead th {\n",
       "        text-align: right;\n",
       "    }\n",
       "</style>\n",
       "<table border=\"1\" class=\"dataframe\">\n",
       "  <thead>\n",
       "    <tr style=\"text-align: right;\">\n",
       "      <th></th>\n",
       "      <th>Día natural</th>\n",
       "      <th>Kilos Venta KG</th>\n",
       "      <th>Precio Ponderado</th>\n",
       "    </tr>\n",
       "  </thead>\n",
       "  <tbody>\n",
       "    <tr>\n",
       "      <th>0</th>\n",
       "      <td>2017-01-03</td>\n",
       "      <td>53</td>\n",
       "      <td>3087.396226</td>\n",
       "    </tr>\n",
       "    <tr>\n",
       "      <th>1</th>\n",
       "      <td>2017-01-04</td>\n",
       "      <td>276</td>\n",
       "      <td>3349.873188</td>\n",
       "    </tr>\n",
       "    <tr>\n",
       "      <th>2</th>\n",
       "      <td>2017-01-05</td>\n",
       "      <td>195</td>\n",
       "      <td>3259.928205</td>\n",
       "    </tr>\n",
       "    <tr>\n",
       "      <th>3</th>\n",
       "      <td>2017-01-06</td>\n",
       "      <td>357</td>\n",
       "      <td>3599.044818</td>\n",
       "    </tr>\n",
       "    <tr>\n",
       "      <th>4</th>\n",
       "      <td>2017-01-07</td>\n",
       "      <td>138</td>\n",
       "      <td>3382.811594</td>\n",
       "    </tr>\n",
       "  </tbody>\n",
       "</table>\n",
       "</div>"
      ],
      "text/plain": [
       "  Día natural  Kilos Venta KG  Precio Ponderado\n",
       "0  2017-01-03              53       3087.396226\n",
       "1  2017-01-04             276       3349.873188\n",
       "2  2017-01-05             195       3259.928205\n",
       "3  2017-01-06             357       3599.044818\n",
       "4  2017-01-07             138       3382.811594"
      ]
     },
     "execution_count": 83,
     "metadata": {},
     "output_type": "execute_result"
    }
   ],
   "source": [
    " P_podn(Data_totales).head()"
   ]
  },
  {
   "cell_type": "code",
   "execution_count": 84,
   "id": "ebd7093a",
   "metadata": {
    "scrolled": true
   },
   "outputs": [
    {
     "data": {
      "text/html": [
       "<div>\n",
       "<style scoped>\n",
       "    .dataframe tbody tr th:only-of-type {\n",
       "        vertical-align: middle;\n",
       "    }\n",
       "\n",
       "    .dataframe tbody tr th {\n",
       "        vertical-align: top;\n",
       "    }\n",
       "\n",
       "    .dataframe thead th {\n",
       "        text-align: right;\n",
       "    }\n",
       "</style>\n",
       "<table border=\"1\" class=\"dataframe\">\n",
       "  <thead>\n",
       "    <tr style=\"text-align: right;\">\n",
       "      <th></th>\n",
       "      <th>Día natural</th>\n",
       "      <th>Kilos Venta KG</th>\n",
       "      <th>Precio Ponderado</th>\n",
       "      <th>Vida Útil Restante Promedio</th>\n",
       "      <th>Stock</th>\n",
       "      <th>Stock+1</th>\n",
       "      <th>Abastecimiento</th>\n",
       "    </tr>\n",
       "  </thead>\n",
       "  <tbody>\n",
       "    <tr>\n",
       "      <th>0</th>\n",
       "      <td>2017-01-03</td>\n",
       "      <td>53</td>\n",
       "      <td>3087.396226</td>\n",
       "      <td>NaN</td>\n",
       "      <td>NaN</td>\n",
       "      <td>NaN</td>\n",
       "      <td>NaN</td>\n",
       "    </tr>\n",
       "    <tr>\n",
       "      <th>1</th>\n",
       "      <td>2017-01-04</td>\n",
       "      <td>276</td>\n",
       "      <td>3349.873188</td>\n",
       "      <td>NaN</td>\n",
       "      <td>NaN</td>\n",
       "      <td>NaN</td>\n",
       "      <td>NaN</td>\n",
       "    </tr>\n",
       "    <tr>\n",
       "      <th>2</th>\n",
       "      <td>2017-01-05</td>\n",
       "      <td>195</td>\n",
       "      <td>3259.928205</td>\n",
       "      <td>NaN</td>\n",
       "      <td>NaN</td>\n",
       "      <td>NaN</td>\n",
       "      <td>NaN</td>\n",
       "    </tr>\n",
       "    <tr>\n",
       "      <th>3</th>\n",
       "      <td>2017-01-06</td>\n",
       "      <td>357</td>\n",
       "      <td>3599.044818</td>\n",
       "      <td>NaN</td>\n",
       "      <td>NaN</td>\n",
       "      <td>NaN</td>\n",
       "      <td>NaN</td>\n",
       "    </tr>\n",
       "    <tr>\n",
       "      <th>4</th>\n",
       "      <td>2017-01-07</td>\n",
       "      <td>138</td>\n",
       "      <td>3382.811594</td>\n",
       "      <td>NaN</td>\n",
       "      <td>NaN</td>\n",
       "      <td>NaN</td>\n",
       "      <td>NaN</td>\n",
       "    </tr>\n",
       "  </tbody>\n",
       "</table>\n",
       "</div>"
      ],
      "text/plain": [
       "  Día natural  Kilos Venta KG  Precio Ponderado  Vida Útil Restante Promedio  \\\n",
       "0  2017-01-03              53       3087.396226                          NaN   \n",
       "1  2017-01-04             276       3349.873188                          NaN   \n",
       "2  2017-01-05             195       3259.928205                          NaN   \n",
       "3  2017-01-06             357       3599.044818                          NaN   \n",
       "4  2017-01-07             138       3382.811594                          NaN   \n",
       "\n",
       "   Stock  Stock+1  Abastecimiento  \n",
       "0    NaN      NaN             NaN  \n",
       "1    NaN      NaN             NaN  \n",
       "2    NaN      NaN             NaN  \n",
       "3    NaN      NaN             NaN  \n",
       "4    NaN      NaN             NaN  "
      ]
     },
     "execution_count": 84,
     "metadata": {},
     "output_type": "execute_result"
    }
   ],
   "source": [
    "#=====================================\n",
    "# Merge\n",
    "#=====================================\n",
    "DF_VS2=pd.merge( P_podn(Data_totales)  ,DF_VS\n",
    "     , how='left')#'right')\n",
    "DF_VS2.head()"
   ]
  },
  {
   "cell_type": "code",
   "execution_count": 85,
   "id": "7d204fd3",
   "metadata": {},
   "outputs": [
    {
     "data": {
      "text/plain": [
       "3304.5548369555163"
      ]
     },
     "execution_count": 85,
     "metadata": {},
     "output_type": "execute_result"
    }
   ],
   "source": [
    "DF_VS2['Precio Ponderado'].mean()"
   ]
  },
  {
   "cell_type": "code",
   "execution_count": 86,
   "id": "cf55217b",
   "metadata": {
    "scrolled": false
   },
   "outputs": [
    {
     "name": "stderr",
     "output_type": "stream",
     "text": [
      "<ipython-input-86-f45e95aede1d>:2: UserWarning: Boolean Series key will be reindexed to match DataFrame index.\n"
     ]
    },
    {
     "data": {
      "image/png": "[encoded data removed]",
      "text/plain": [
       "<Figure size 2600x1000 with 1 Axes>"
      ]
     },
     "metadata": {},
     "output_type": "display_data"
    },
    {
     "data": {
      "text/plain": [
       "<ggplot: (122067402978)>"
      ]
     },
     "execution_count": 86,
     "metadata": {},
     "output_type": "execute_result"
    }
   ],
   "source": [
    "Abastec=(\n",
    "    ggplot(DF_VS2[DF_VS2.Abastecimiento>=0 ][DF_VS2['Kilos Venta KG']>0],\n",
    "           aes(x='Día natural',y='Precio Ponderado'))                 \n",
    "                + geom_point(fill='red',alpha=0.4)\\\n",
    "                + labs(y='Precio promedio ponderadp',x='Día natural',size=14)\\\n",
    "                +ggtitle(('Precio Z001'+\n",
    "                          ' \\n Para Cada dia'))\\\n",
    "                +theme(axis_text_x = element_text(angle=90, hjust=1)\n",
    "                       ,figure_size=(26,10))\n",
    "                 #+ scale_x_continuous(breaks=X_brak,labels=X_brak_S)\n",
    "                + scale_x_datetime(breaks=date_breaks('1 month'))  \n",
    "    )\n",
    "Abastec"
   ]
  },
  {
   "cell_type": "markdown",
   "id": "50f2266a",
   "metadata": {},
   "source": [
    "# Demanda o distribución inventario a Sup o CT "
   ]
  },
  {
   "cell_type": "code",
   "execution_count": 87,
   "id": "238b1fa0",
   "metadata": {},
   "outputs": [
    {
     "data": {
      "text/html": [
       "<div>\n",
       "<style scoped>\n",
       "    .dataframe tbody tr th:only-of-type {\n",
       "        vertical-align: middle;\n",
       "    }\n",
       "\n",
       "    .dataframe tbody tr th {\n",
       "        vertical-align: top;\n",
       "    }\n",
       "\n",
       "    .dataframe thead th {\n",
       "        text-align: right;\n",
       "    }\n",
       "</style>\n",
       "<table border=\"1\" class=\"dataframe\">\n",
       "  <thead>\n",
       "    <tr style=\"text-align: right;\">\n",
       "      <th></th>\n",
       "      <th>Material</th>\n",
       "      <th>Tipo de cliente</th>\n",
       "      <th>Zona de ventas</th>\n",
       "      <th>Zona de ventas.1</th>\n",
       "      <th>Oficina de Ventas Unifica</th>\n",
       "      <th>Oficina de Ventas Unifica.1</th>\n",
       "      <th>Zona de reparto</th>\n",
       "      <th>Subtipo de cliente</th>\n",
       "      <th>Cluster</th>\n",
       "      <th>Cliente - Local</th>\n",
       "      <th>Cliente - Local.1</th>\n",
       "      <th>Mes</th>\n",
       "      <th>Año natural/Semana</th>\n",
       "      <th>Día natural</th>\n",
       "      <th>Día de la semana</th>\n",
       "      <th>Kilos Venta KG</th>\n",
       "      <th>Venta Neta</th>\n",
       "      <th>Precio Promedio</th>\n",
       "      <th>Semana</th>\n",
       "      <th>Año</th>\n",
       "    </tr>\n",
       "  </thead>\n",
       "  <tbody>\n",
       "    <tr>\n",
       "      <th>75186</th>\n",
       "      <td>1020003</td>\n",
       "      <td>Tradicional</td>\n",
       "      <td>Z004</td>\n",
       "      <td>Sur</td>\n",
       "      <td>Temuco</td>\n",
       "      <td>T105</td>\n",
       "      <td>8000480112</td>\n",
       "      <td>Espec. en Crudos</td>\n",
       "      <td>Sin asignar</td>\n",
       "      <td>Castro Muñoz Jose Isaias</td>\n",
       "      <td>3200104287</td>\n",
       "      <td>4</td>\n",
       "      <td>15.2021</td>\n",
       "      <td>2021-04-12</td>\n",
       "      <td>LU</td>\n",
       "      <td>43</td>\n",
       "      <td>182668</td>\n",
       "      <td>4290</td>\n",
       "      <td>15</td>\n",
       "      <td>2021</td>\n",
       "    </tr>\n",
       "    <tr>\n",
       "      <th>75187</th>\n",
       "      <td>1020003</td>\n",
       "      <td>Tradicional</td>\n",
       "      <td>Z004</td>\n",
       "      <td>Sur</td>\n",
       "      <td>Temuco</td>\n",
       "      <td>T105</td>\n",
       "      <td>8000480112</td>\n",
       "      <td>Espec. en Crudos</td>\n",
       "      <td>Sin asignar</td>\n",
       "      <td>Castro Muñoz Jose Isaias</td>\n",
       "      <td>3200104287</td>\n",
       "      <td>4</td>\n",
       "      <td>16.2021</td>\n",
       "      <td>2021-04-21</td>\n",
       "      <td>MI</td>\n",
       "      <td>43</td>\n",
       "      <td>157268</td>\n",
       "      <td>3690</td>\n",
       "      <td>16</td>\n",
       "      <td>2021</td>\n",
       "    </tr>\n",
       "    <tr>\n",
       "      <th>75188</th>\n",
       "      <td>1020003</td>\n",
       "      <td>Tradicional</td>\n",
       "      <td>Z004</td>\n",
       "      <td>Sur</td>\n",
       "      <td>Temuco</td>\n",
       "      <td>T105</td>\n",
       "      <td>8000480112</td>\n",
       "      <td>Espec. en Crudos</td>\n",
       "      <td>Sin asignar</td>\n",
       "      <td>Castro Muñoz Jose Isaias</td>\n",
       "      <td>3200104287</td>\n",
       "      <td>4</td>\n",
       "      <td>17.2021</td>\n",
       "      <td>2021-04-26</td>\n",
       "      <td>LU</td>\n",
       "      <td>20</td>\n",
       "      <td>69393</td>\n",
       "      <td>3390</td>\n",
       "      <td>17</td>\n",
       "      <td>2021</td>\n",
       "    </tr>\n",
       "    <tr>\n",
       "      <th>75189</th>\n",
       "      <td>1020003</td>\n",
       "      <td>Tradicional</td>\n",
       "      <td>Z004</td>\n",
       "      <td>Sur</td>\n",
       "      <td>Temuco</td>\n",
       "      <td>T105</td>\n",
       "      <td>8000480112</td>\n",
       "      <td>Espec. en Crudos</td>\n",
       "      <td>Sin asignar</td>\n",
       "      <td>Castro Muñoz Jose Isaias</td>\n",
       "      <td>3200104287</td>\n",
       "      <td>5</td>\n",
       "      <td>18.2021</td>\n",
       "      <td>2021-05-05</td>\n",
       "      <td>MI</td>\n",
       "      <td>26</td>\n",
       "      <td>94489</td>\n",
       "      <td>3590</td>\n",
       "      <td>18</td>\n",
       "      <td>2021</td>\n",
       "    </tr>\n",
       "    <tr>\n",
       "      <th>75190</th>\n",
       "      <td>1020003</td>\n",
       "      <td>Tradicional</td>\n",
       "      <td>Z004</td>\n",
       "      <td>Sur</td>\n",
       "      <td>Temuco</td>\n",
       "      <td>T105</td>\n",
       "      <td>8000480112</td>\n",
       "      <td>Espec. en Crudos</td>\n",
       "      <td>Sin asignar</td>\n",
       "      <td>Castro Muñoz Jose Isaias</td>\n",
       "      <td>3200104287</td>\n",
       "      <td>5</td>\n",
       "      <td>19.2021</td>\n",
       "      <td>2021-05-10</td>\n",
       "      <td>LU</td>\n",
       "      <td>37</td>\n",
       "      <td>141412</td>\n",
       "      <td>3849</td>\n",
       "      <td>19</td>\n",
       "      <td>2021</td>\n",
       "    </tr>\n",
       "  </tbody>\n",
       "</table>\n",
       "</div>"
      ],
      "text/plain": [
       "      Material Tipo de cliente Zona de ventas Zona de ventas.1  \\\n",
       "75186  1020003     Tradicional           Z004              Sur   \n",
       "75187  1020003     Tradicional           Z004              Sur   \n",
       "75188  1020003     Tradicional           Z004              Sur   \n",
       "75189  1020003     Tradicional           Z004              Sur   \n",
       "75190  1020003     Tradicional           Z004              Sur   \n",
       "\n",
       "      Oficina de Ventas Unifica Oficina de Ventas Unifica.1 Zona de reparto  \\\n",
       "75186                    Temuco                        T105      8000480112   \n",
       "75187                    Temuco                        T105      8000480112   \n",
       "75188                    Temuco                        T105      8000480112   \n",
       "75189                    Temuco                        T105      8000480112   \n",
       "75190                    Temuco                        T105      8000480112   \n",
       "\n",
       "      Subtipo de cliente      Cluster           Cliente - Local  \\\n",
       "75186   Espec. en Crudos  Sin asignar  Castro Muñoz Jose Isaias   \n",
       "75187   Espec. en Crudos  Sin asignar  Castro Muñoz Jose Isaias   \n",
       "75188   Espec. en Crudos  Sin asignar  Castro Muñoz Jose Isaias   \n",
       "75189   Espec. en Crudos  Sin asignar  Castro Muñoz Jose Isaias   \n",
       "75190   Espec. en Crudos  Sin asignar  Castro Muñoz Jose Isaias   \n",
       "\n",
       "      Cliente - Local.1 Mes Año natural/Semana Día natural Día de la semana  \\\n",
       "75186        3200104287   4            15.2021  2021-04-12               LU   \n",
       "75187        3200104287   4            16.2021  2021-04-21               MI   \n",
       "75188        3200104287   4            17.2021  2021-04-26               LU   \n",
       "75189        3200104287   5            18.2021  2021-05-05               MI   \n",
       "75190        3200104287   5            19.2021  2021-05-10               LU   \n",
       "\n",
       "       Kilos Venta KG  Venta Neta  Precio Promedio  Semana   Año  \n",
       "75186              43      182668             4290      15  2021  \n",
       "75187              43      157268             3690      16  2021  \n",
       "75188              20       69393             3390      17  2021  \n",
       "75189              26       94489             3590      18  2021  \n",
       "75190              37      141412             3849      19  2021  "
      ]
     },
     "execution_count": 87,
     "metadata": {},
     "output_type": "execute_result"
    }
   ],
   "source": [
    "Data_totales.head()"
   ]
  },
  {
   "cell_type": "markdown",
   "id": "85b1468f",
   "metadata": {},
   "source": [
    "## Demanda semanal por canal"
   ]
  },
  {
   "cell_type": "code",
   "execution_count": 88,
   "id": "5618ae01",
   "metadata": {
    "scrolled": false
   },
   "outputs": [
    {
     "data": {
      "text/html": [
       "<div>\n",
       "<style scoped>\n",
       "    .dataframe tbody tr th:only-of-type {\n",
       "        vertical-align: middle;\n",
       "    }\n",
       "\n",
       "    .dataframe tbody tr th {\n",
       "        vertical-align: top;\n",
       "    }\n",
       "\n",
       "    .dataframe thead th {\n",
       "        text-align: right;\n",
       "    }\n",
       "</style>\n",
       "<table border=\"1\" class=\"dataframe\">\n",
       "  <thead>\n",
       "    <tr style=\"text-align: right;\">\n",
       "      <th></th>\n",
       "      <th>Año</th>\n",
       "      <th>Semana</th>\n",
       "      <th>Tipo de cliente</th>\n",
       "      <th>Kilos Venta KG</th>\n",
       "    </tr>\n",
       "  </thead>\n",
       "  <tbody>\n",
       "    <tr>\n",
       "      <th>0</th>\n",
       "      <td>2017</td>\n",
       "      <td>1</td>\n",
       "      <td>Foodservice</td>\n",
       "      <td>35</td>\n",
       "    </tr>\n",
       "    <tr>\n",
       "      <th>1</th>\n",
       "      <td>2017</td>\n",
       "      <td>1</td>\n",
       "      <td>Industriales</td>\n",
       "      <td>67</td>\n",
       "    </tr>\n",
       "    <tr>\n",
       "      <th>2</th>\n",
       "      <td>2017</td>\n",
       "      <td>1</td>\n",
       "      <td>Supermercados</td>\n",
       "      <td>734</td>\n",
       "    </tr>\n",
       "    <tr>\n",
       "      <th>3</th>\n",
       "      <td>2017</td>\n",
       "      <td>1</td>\n",
       "      <td>Tradicional</td>\n",
       "      <td>183</td>\n",
       "    </tr>\n",
       "    <tr>\n",
       "      <th>4</th>\n",
       "      <td>2017</td>\n",
       "      <td>2</td>\n",
       "      <td>Foodservice</td>\n",
       "      <td>31</td>\n",
       "    </tr>\n",
       "  </tbody>\n",
       "</table>\n",
       "</div>"
      ],
      "text/plain": [
       "    Año  Semana Tipo de cliente  Kilos Venta KG\n",
       "0  2017       1     Foodservice              35\n",
       "1  2017       1    Industriales              67\n",
       "2  2017       1   Supermercados             734\n",
       "3  2017       1     Tradicional             183\n",
       "4  2017       2     Foodservice              31"
      ]
     },
     "execution_count": 88,
     "metadata": {},
     "output_type": "execute_result"
    }
   ],
   "source": [
    "Demanda_Semana_Z001_canales=Data_totales.groupby(['Año','Semana','Tipo de cliente'\n",
    "                                         ]).sum().reset_index()[[\n",
    "    'Año','Semana', 'Tipo de cliente', 'Kilos Venta KG']]\n",
    "Demanda_Semana_Z001_canales.head()"
   ]
  },
  {
   "cell_type": "code",
   "execution_count": 89,
   "id": "497166d5",
   "metadata": {},
   "outputs": [],
   "source": [
    " Demanda_Semana_Z001_canales=Demanda_Semana_Z001_canales.rename(\n",
    "     columns={'Kilos Venta KG':'Demanda Canal KG'})"
   ]
  },
  {
   "cell_type": "markdown",
   "id": "3a72db96",
   "metadata": {},
   "source": [
    "## Demanda General de la zona por Semana "
   ]
  },
  {
   "cell_type": "code",
   "execution_count": 90,
   "id": "f3231f35",
   "metadata": {},
   "outputs": [
    {
     "data": {
      "text/html": [
       "<div>\n",
       "<style scoped>\n",
       "    .dataframe tbody tr th:only-of-type {\n",
       "        vertical-align: middle;\n",
       "    }\n",
       "\n",
       "    .dataframe tbody tr th {\n",
       "        vertical-align: top;\n",
       "    }\n",
       "\n",
       "    .dataframe thead th {\n",
       "        text-align: right;\n",
       "    }\n",
       "</style>\n",
       "<table border=\"1\" class=\"dataframe\">\n",
       "  <thead>\n",
       "    <tr style=\"text-align: right;\">\n",
       "      <th></th>\n",
       "      <th>Año</th>\n",
       "      <th>Semana</th>\n",
       "      <th>Kilos Venta KG</th>\n",
       "    </tr>\n",
       "  </thead>\n",
       "  <tbody>\n",
       "    <tr>\n",
       "      <th>0</th>\n",
       "      <td>2017</td>\n",
       "      <td>1</td>\n",
       "      <td>1019</td>\n",
       "    </tr>\n",
       "    <tr>\n",
       "      <th>1</th>\n",
       "      <td>2017</td>\n",
       "      <td>2</td>\n",
       "      <td>911</td>\n",
       "    </tr>\n",
       "    <tr>\n",
       "      <th>2</th>\n",
       "      <td>2017</td>\n",
       "      <td>3</td>\n",
       "      <td>1985</td>\n",
       "    </tr>\n",
       "    <tr>\n",
       "      <th>3</th>\n",
       "      <td>2017</td>\n",
       "      <td>4</td>\n",
       "      <td>936</td>\n",
       "    </tr>\n",
       "    <tr>\n",
       "      <th>4</th>\n",
       "      <td>2017</td>\n",
       "      <td>5</td>\n",
       "      <td>1458</td>\n",
       "    </tr>\n",
       "  </tbody>\n",
       "</table>\n",
       "</div>"
      ],
      "text/plain": [
       "    Año  Semana  Kilos Venta KG\n",
       "0  2017       1            1019\n",
       "1  2017       2             911\n",
       "2  2017       3            1985\n",
       "3  2017       4             936\n",
       "4  2017       5            1458"
      ]
     },
     "execution_count": 90,
     "metadata": {},
     "output_type": "execute_result"
    }
   ],
   "source": [
    "Demanda_Semana_Z001=Data_totales.groupby(['Año','Semana'\n",
    "                                         ]).sum().reset_index()[[\n",
    "    'Año','Semana', 'Kilos Venta KG']]\n",
    "Demanda_Semana_Z001.head()"
   ]
  },
  {
   "cell_type": "markdown",
   "id": "1a15cc6c",
   "metadata": {},
   "source": [
    "## Merge de los dos DF "
   ]
  },
  {
   "cell_type": "code",
   "execution_count": 91,
   "id": "e61acf2a",
   "metadata": {
    "scrolled": false
   },
   "outputs": [
    {
     "data": {
      "text/html": [
       "<div>\n",
       "<style scoped>\n",
       "    .dataframe tbody tr th:only-of-type {\n",
       "        vertical-align: middle;\n",
       "    }\n",
       "\n",
       "    .dataframe tbody tr th {\n",
       "        vertical-align: top;\n",
       "    }\n",
       "\n",
       "    .dataframe thead th {\n",
       "        text-align: right;\n",
       "    }\n",
       "</style>\n",
       "<table border=\"1\" class=\"dataframe\">\n",
       "  <thead>\n",
       "    <tr style=\"text-align: right;\">\n",
       "      <th></th>\n",
       "      <th>Año</th>\n",
       "      <th>Semana</th>\n",
       "      <th>Tipo de cliente</th>\n",
       "      <th>Demanda Canal KG</th>\n",
       "      <th>Kilos Venta KG</th>\n",
       "    </tr>\n",
       "  </thead>\n",
       "  <tbody>\n",
       "    <tr>\n",
       "      <th>0</th>\n",
       "      <td>2017</td>\n",
       "      <td>1</td>\n",
       "      <td>Supermercados</td>\n",
       "      <td>734</td>\n",
       "      <td>1019</td>\n",
       "    </tr>\n",
       "    <tr>\n",
       "      <th>1</th>\n",
       "      <td>2017</td>\n",
       "      <td>2</td>\n",
       "      <td>Supermercados</td>\n",
       "      <td>588</td>\n",
       "      <td>911</td>\n",
       "    </tr>\n",
       "    <tr>\n",
       "      <th>2</th>\n",
       "      <td>2017</td>\n",
       "      <td>3</td>\n",
       "      <td>Supermercados</td>\n",
       "      <td>1335</td>\n",
       "      <td>1985</td>\n",
       "    </tr>\n",
       "    <tr>\n",
       "      <th>3</th>\n",
       "      <td>2017</td>\n",
       "      <td>4</td>\n",
       "      <td>Supermercados</td>\n",
       "      <td>757</td>\n",
       "      <td>936</td>\n",
       "    </tr>\n",
       "    <tr>\n",
       "      <th>4</th>\n",
       "      <td>2017</td>\n",
       "      <td>5</td>\n",
       "      <td>Supermercados</td>\n",
       "      <td>1046</td>\n",
       "      <td>1458</td>\n",
       "    </tr>\n",
       "  </tbody>\n",
       "</table>\n",
       "</div>"
      ],
      "text/plain": [
       "    Año  Semana Tipo de cliente  Demanda Canal KG  Kilos Venta KG\n",
       "0  2017       1   Supermercados               734            1019\n",
       "1  2017       2   Supermercados               588             911\n",
       "2  2017       3   Supermercados              1335            1985\n",
       "3  2017       4   Supermercados               757             936\n",
       "4  2017       5   Supermercados              1046            1458"
      ]
     },
     "execution_count": 91,
     "metadata": {},
     "output_type": "execute_result"
    }
   ],
   "source": [
    "DF_Dem=pd.merge(Demanda_Semana_Z001_canales[\n",
    "    Demanda_Semana_Z001_canales['Tipo de cliente']=='Supermercados'] \n",
    "                , Demanda_Semana_Z001, how='right')\n",
    "#DF_Dem.sort_values(by=['Día natural'], inplace=True)\n",
    "DF_Dem.head()"
   ]
  },
  {
   "cell_type": "code",
   "execution_count": 92,
   "id": "80e44b2b",
   "metadata": {
    "scrolled": false
   },
   "outputs": [
    {
     "data": {
      "text/html": [
       "<div>\n",
       "<style scoped>\n",
       "    .dataframe tbody tr th:only-of-type {\n",
       "        vertical-align: middle;\n",
       "    }\n",
       "\n",
       "    .dataframe tbody tr th {\n",
       "        vertical-align: top;\n",
       "    }\n",
       "\n",
       "    .dataframe thead th {\n",
       "        text-align: right;\n",
       "    }\n",
       "</style>\n",
       "<table border=\"1\" class=\"dataframe\">\n",
       "  <thead>\n",
       "    <tr style=\"text-align: right;\">\n",
       "      <th></th>\n",
       "      <th>Año</th>\n",
       "      <th>Semana</th>\n",
       "      <th>Tipo de cliente</th>\n",
       "      <th>Demanda Canal KG</th>\n",
       "      <th>Kilos Venta KG</th>\n",
       "      <th>% del volumen a Supermercados</th>\n",
       "    </tr>\n",
       "  </thead>\n",
       "  <tbody>\n",
       "    <tr>\n",
       "      <th>0</th>\n",
       "      <td>2017</td>\n",
       "      <td>1</td>\n",
       "      <td>Supermercados</td>\n",
       "      <td>734</td>\n",
       "      <td>1019</td>\n",
       "      <td>72.031403</td>\n",
       "    </tr>\n",
       "    <tr>\n",
       "      <th>1</th>\n",
       "      <td>2017</td>\n",
       "      <td>2</td>\n",
       "      <td>Supermercados</td>\n",
       "      <td>588</td>\n",
       "      <td>911</td>\n",
       "      <td>64.544457</td>\n",
       "    </tr>\n",
       "    <tr>\n",
       "      <th>2</th>\n",
       "      <td>2017</td>\n",
       "      <td>3</td>\n",
       "      <td>Supermercados</td>\n",
       "      <td>1335</td>\n",
       "      <td>1985</td>\n",
       "      <td>67.254408</td>\n",
       "    </tr>\n",
       "    <tr>\n",
       "      <th>3</th>\n",
       "      <td>2017</td>\n",
       "      <td>4</td>\n",
       "      <td>Supermercados</td>\n",
       "      <td>757</td>\n",
       "      <td>936</td>\n",
       "      <td>80.876068</td>\n",
       "    </tr>\n",
       "    <tr>\n",
       "      <th>4</th>\n",
       "      <td>2017</td>\n",
       "      <td>5</td>\n",
       "      <td>Supermercados</td>\n",
       "      <td>1046</td>\n",
       "      <td>1458</td>\n",
       "      <td>71.742112</td>\n",
       "    </tr>\n",
       "  </tbody>\n",
       "</table>\n",
       "</div>"
      ],
      "text/plain": [
       "    Año  Semana Tipo de cliente  Demanda Canal KG  Kilos Venta KG  \\\n",
       "0  2017       1   Supermercados               734            1019   \n",
       "1  2017       2   Supermercados               588             911   \n",
       "2  2017       3   Supermercados              1335            1985   \n",
       "3  2017       4   Supermercados               757             936   \n",
       "4  2017       5   Supermercados              1046            1458   \n",
       "\n",
       "   % del volumen a Supermercados  \n",
       "0                      72.031403  \n",
       "1                      64.544457  \n",
       "2                      67.254408  \n",
       "3                      80.876068  \n",
       "4                      71.742112  "
      ]
     },
     "execution_count": 92,
     "metadata": {},
     "output_type": "execute_result"
    }
   ],
   "source": [
    "DF_Dem['% del volumen a Supermercados']=\\\n",
    "DF_Dem['Demanda Canal KG']/DF_Dem['Kilos Venta KG']*100#/.reset_index()\n",
    "DF_Dem.head()"
   ]
  },
  {
   "cell_type": "markdown",
   "id": "81a05df9",
   "metadata": {},
   "source": [
    "## merge con tradicional "
   ]
  },
  {
   "cell_type": "code",
   "execution_count": 93,
   "id": "2e57b2b4",
   "metadata": {
    "scrolled": false
   },
   "outputs": [
    {
     "data": {
      "text/html": [
       "<div>\n",
       "<style scoped>\n",
       "    .dataframe tbody tr th:only-of-type {\n",
       "        vertical-align: middle;\n",
       "    }\n",
       "\n",
       "    .dataframe tbody tr th {\n",
       "        vertical-align: top;\n",
       "    }\n",
       "\n",
       "    .dataframe thead th {\n",
       "        text-align: right;\n",
       "    }\n",
       "</style>\n",
       "<table border=\"1\" class=\"dataframe\">\n",
       "  <thead>\n",
       "    <tr style=\"text-align: right;\">\n",
       "      <th></th>\n",
       "      <th>Año</th>\n",
       "      <th>Semana</th>\n",
       "      <th>Tipo de cliente</th>\n",
       "      <th>Demanda Canal KG</th>\n",
       "      <th>Kilos Venta KG</th>\n",
       "      <th>% del volumen a Supermercados</th>\n",
       "    </tr>\n",
       "  </thead>\n",
       "  <tbody>\n",
       "    <tr>\n",
       "      <th>0</th>\n",
       "      <td>2017</td>\n",
       "      <td>1</td>\n",
       "      <td>Tradicional</td>\n",
       "      <td>183.0</td>\n",
       "      <td>1019</td>\n",
       "      <td>72.031403</td>\n",
       "    </tr>\n",
       "    <tr>\n",
       "      <th>1</th>\n",
       "      <td>2017</td>\n",
       "      <td>2</td>\n",
       "      <td>Tradicional</td>\n",
       "      <td>241.0</td>\n",
       "      <td>911</td>\n",
       "      <td>64.544457</td>\n",
       "    </tr>\n",
       "    <tr>\n",
       "      <th>2</th>\n",
       "      <td>2017</td>\n",
       "      <td>3</td>\n",
       "      <td>Tradicional</td>\n",
       "      <td>407.0</td>\n",
       "      <td>1985</td>\n",
       "      <td>67.254408</td>\n",
       "    </tr>\n",
       "    <tr>\n",
       "      <th>3</th>\n",
       "      <td>2017</td>\n",
       "      <td>4</td>\n",
       "      <td>Tradicional</td>\n",
       "      <td>90.0</td>\n",
       "      <td>936</td>\n",
       "      <td>80.876068</td>\n",
       "    </tr>\n",
       "    <tr>\n",
       "      <th>4</th>\n",
       "      <td>2017</td>\n",
       "      <td>5</td>\n",
       "      <td>Tradicional</td>\n",
       "      <td>312.0</td>\n",
       "      <td>1458</td>\n",
       "      <td>71.742112</td>\n",
       "    </tr>\n",
       "  </tbody>\n",
       "</table>\n",
       "</div>"
      ],
      "text/plain": [
       "    Año  Semana Tipo de cliente  Demanda Canal KG  Kilos Venta KG  \\\n",
       "0  2017       1     Tradicional             183.0            1019   \n",
       "1  2017       2     Tradicional             241.0             911   \n",
       "2  2017       3     Tradicional             407.0            1985   \n",
       "3  2017       4     Tradicional              90.0             936   \n",
       "4  2017       5     Tradicional             312.0            1458   \n",
       "\n",
       "   % del volumen a Supermercados  \n",
       "0                      72.031403  \n",
       "1                      64.544457  \n",
       "2                      67.254408  \n",
       "3                      80.876068  \n",
       "4                      71.742112  "
      ]
     },
     "execution_count": 93,
     "metadata": {},
     "output_type": "execute_result"
    }
   ],
   "source": [
    "DF_Dem2=pd.merge(Demanda_Semana_Z001_canales[\n",
    "    Demanda_Semana_Z001_canales['Tipo de cliente']=='Tradicional'] \n",
    "                , DF_Dem.drop(['Tipo de cliente','Demanda Canal KG'],axis=1), how='right')\n",
    "#DF_Dem.sort_values(by=['Día natural'], inplace=True)\n",
    "DF_Dem2.head()"
   ]
  },
  {
   "cell_type": "code",
   "execution_count": 94,
   "id": "db07a70c",
   "metadata": {
    "scrolled": false
   },
   "outputs": [
    {
     "data": {
      "text/html": [
       "<div>\n",
       "<style scoped>\n",
       "    .dataframe tbody tr th:only-of-type {\n",
       "        vertical-align: middle;\n",
       "    }\n",
       "\n",
       "    .dataframe tbody tr th {\n",
       "        vertical-align: top;\n",
       "    }\n",
       "\n",
       "    .dataframe thead th {\n",
       "        text-align: right;\n",
       "    }\n",
       "</style>\n",
       "<table border=\"1\" class=\"dataframe\">\n",
       "  <thead>\n",
       "    <tr style=\"text-align: right;\">\n",
       "      <th></th>\n",
       "      <th>Año</th>\n",
       "      <th>Semana</th>\n",
       "      <th>Kilos Venta KG</th>\n",
       "      <th>% del volumen a Supermercados</th>\n",
       "      <th>% del volumen a Tradicional</th>\n",
       "    </tr>\n",
       "  </thead>\n",
       "  <tbody>\n",
       "    <tr>\n",
       "      <th>0</th>\n",
       "      <td>2017</td>\n",
       "      <td>1</td>\n",
       "      <td>1019</td>\n",
       "      <td>72.031403</td>\n",
       "      <td>17.958783</td>\n",
       "    </tr>\n",
       "    <tr>\n",
       "      <th>1</th>\n",
       "      <td>2017</td>\n",
       "      <td>2</td>\n",
       "      <td>911</td>\n",
       "      <td>64.544457</td>\n",
       "      <td>26.454446</td>\n",
       "    </tr>\n",
       "    <tr>\n",
       "      <th>2</th>\n",
       "      <td>2017</td>\n",
       "      <td>3</td>\n",
       "      <td>1985</td>\n",
       "      <td>67.254408</td>\n",
       "      <td>20.503778</td>\n",
       "    </tr>\n",
       "    <tr>\n",
       "      <th>3</th>\n",
       "      <td>2017</td>\n",
       "      <td>4</td>\n",
       "      <td>936</td>\n",
       "      <td>80.876068</td>\n",
       "      <td>9.615385</td>\n",
       "    </tr>\n",
       "    <tr>\n",
       "      <th>4</th>\n",
       "      <td>2017</td>\n",
       "      <td>5</td>\n",
       "      <td>1458</td>\n",
       "      <td>71.742112</td>\n",
       "      <td>21.399177</td>\n",
       "    </tr>\n",
       "  </tbody>\n",
       "</table>\n",
       "</div>"
      ],
      "text/plain": [
       "    Año  Semana  Kilos Venta KG  % del volumen a Supermercados  \\\n",
       "0  2017       1            1019                      72.031403   \n",
       "1  2017       2             911                      64.544457   \n",
       "2  2017       3            1985                      67.254408   \n",
       "3  2017       4             936                      80.876068   \n",
       "4  2017       5            1458                      71.742112   \n",
       "\n",
       "   % del volumen a Tradicional  \n",
       "0                    17.958783  \n",
       "1                    26.454446  \n",
       "2                    20.503778  \n",
       "3                     9.615385  \n",
       "4                    21.399177  "
      ]
     },
     "execution_count": 94,
     "metadata": {},
     "output_type": "execute_result"
    }
   ],
   "source": [
    "DF_Dem2['% del volumen a Tradicional']=\\\n",
    "DF_Dem2['Demanda Canal KG']/DF_Dem2['Kilos Venta KG']*100#/.reset_index()\n",
    "DF_Dem2=DF_Dem2.drop(['Tipo de cliente','Demanda Canal KG'],axis=1)\n",
    "DF_Dem2.head()"
   ]
  },
  {
   "cell_type": "code",
   "execution_count": 95,
   "id": "cefe2887",
   "metadata": {
    "scrolled": true
   },
   "outputs": [
    {
     "data": {
      "text/plain": [
       "Año                                int64\n",
       "Semana                             int64\n",
       "Kilos Venta KG                     int64\n",
       "% del volumen a Supermercados    float64\n",
       "% del volumen a Tradicional      float64\n",
       "dtype: object"
      ]
     },
     "execution_count": 95,
     "metadata": {},
     "output_type": "execute_result"
    }
   ],
   "source": [
    "DF_Dem2.dtypes"
   ]
  },
  {
   "cell_type": "code",
   "execution_count": 96,
   "id": "fa5f9783",
   "metadata": {},
   "outputs": [],
   "source": [
    "DF_Dem2.to_csv('proporc_Volumen.csv', index=False)"
   ]
  },
  {
   "cell_type": "markdown",
   "id": "1e90688e",
   "metadata": {
    "heading_collapsed": true
   },
   "source": [
    "#  Formación Data Predicciones\n",
    "\n",
    "Artificial Neural Network + Prophet Model of Facebook\n",
    "\n",
    "\n",
    "\\begin{equation}\n",
    "Demanda=\n",
    "Prophet+E_p\n",
    "\\end{equation}\n",
    "\n",
    "\\begin{equation}\n",
    "E_p=ANN + E_ANN\n",
    "\\end{equation}\n",
    "\n",
    "\n",
    "* Falta incorporar el precio como variable\n",
    "    * Precio del CT\n",
    "    * Precio de Z001\n",
    "    * Precio dia anterior\n",
    "    * Precio o semana anterior\n",
    "\n",
    "```python\n",
    "\n",
    "#DF_ventas Posee las ventas de los clientes del CT\n",
    "DF_ventas \n",
    "\n",
    "#DF_VS Posee los niveles de Stok Abastecimiento y Demanda de la Z001\n",
    "DF_VS\n",
    "\n",
    "# Dias_Festivos Posee los dias festivos del 2019 al 2020\n",
    "Dias_Festivos\n",
    "```\n",
    "\n",
    "Se juntaran los 3 df para formar 1, para ello se generará en primer lugar un df con\n",
    "\n",
    "```python\n",
    "DF_ventas[DF_ventas['identified_clusters']==4].groupby('Día natural').sum().reset_index()[['Día natural','Kilos Venta KG']]\n",
    "``` \n",
    "\n",
    "\n",
    "De tal forma que se tiene la demanda dia del segmento, Despues se realiza un Merge con cada uno de los otros DF, de tal forma que la demanda dia posee más partes X que le agregan robustes al modelo.\n"
   ]
  },
  {
   "cell_type": "markdown",
   "id": "c6a5fc70",
   "metadata": {
    "hidden": true
   },
   "source": [
    "## Cluster 4, Segmento Frecuente "
   ]
  },
  {
   "cell_type": "markdown",
   "id": "9e3cb85e",
   "metadata": {
    "hidden": true
   },
   "source": [
    "### DF create "
   ]
  },
  {
   "cell_type": "code",
   "execution_count": null,
   "id": "f52d3817",
   "metadata": {
    "hidden": true,
    "scrolled": true
   },
   "outputs": [],
   "source": [
    "DF_ventas.head(1)"
   ]
  },
  {
   "cell_type": "code",
   "execution_count": null,
   "id": "009cf0e0",
   "metadata": {
    "hidden": true,
    "scrolled": true
   },
   "outputs": [],
   "source": [
    "DF_Frecuent=DF_ventas[\n",
    "    DF_ventas['identified_clusters']==4\n",
    "                     ].groupby('Día natural').sum().reset_index()[[\n",
    "    'Día natural','Kilos Venta KG',\n",
    "       'Venta Neta CLP', 'Precio Promedio CLP'\n",
    "]]#[['Día natural','Kilos Venta KG']]\n",
    "DF_Frecuent['Precio Promedio CLP']=DF_Frecuent['Venta Neta CLP']/DF_Frecuent['Kilos Venta KG']\n",
    "DF_Frecuent.head()"
   ]
  },
  {
   "cell_type": "markdown",
   "id": "81ef1968",
   "metadata": {
    "hidden": true
   },
   "source": [
    "### Exploracion de los datos "
   ]
  },
  {
   "cell_type": "markdown",
   "id": "5e3efbb9",
   "metadata": {
    "hidden": true
   },
   "source": [
    "#### Grafico de comportamiento del precio "
   ]
  },
  {
   "cell_type": "code",
   "execution_count": null,
   "id": "00b756f9",
   "metadata": {
    "hidden": true,
    "scrolled": false
   },
   "outputs": [],
   "source": [
    "Prec=(\n",
    "    ggplot(DF_Frecuent, aes(x='Día natural',y='Precio Promedio CLP'))                 \n",
    "                + geom_point(color='red',alpha=0.4)\\\n",
    "                #+ labs(y='Volumen en KG',x='Día natural',size=14)\\\n",
    "                +ggtitle(('Demanda Z001'+\n",
    "                          ' \\n Para Cada dia'))\\\n",
    "                +theme(axis_text_x = element_text(angle=90, hjust=1)\n",
    "                       ,figure_size=(26,10))\n",
    "                 #+ scale_x_continuous(breaks=X_brak,labels=X_brak_S)\n",
    "                + scale_x_datetime(breaks=date_breaks('1 month'))  \n",
    "    )\n",
    "Prec"
   ]
  },
  {
   "cell_type": "code",
   "execution_count": null,
   "id": "ba03e614",
   "metadata": {
    "hidden": true,
    "scrolled": false
   },
   "outputs": [],
   "source": [
    "#DF_VS\n",
    "Dem=(\n",
    "    ggplot(DF_Frecuent, aes(x='Día natural',y='Kilos Venta KG'))                 \n",
    "                + geom_col(fill='red',alpha=1)\\\n",
    "                + labs(y='Volumen en KG',x='Día natural',size=14)\\\n",
    "                +ggtitle(('Demanda Z001'+\n",
    "                          ' \\n Para Cada dia'))\\\n",
    "                +theme(axis_text_x = element_text(angle=90, hjust=1)\n",
    "                       ,figure_size=(26,10))\n",
    "                 #+ scale_x_continuous(breaks=X_brak,labels=X_brak_S)\n",
    "                + scale_x_datetime(breaks=date_breaks('1 month'))  \n",
    "    )\n",
    "Dem"
   ]
  },
  {
   "cell_type": "code",
   "execution_count": null,
   "id": "cdf2cd42",
   "metadata": {
    "hidden": true,
    "scrolled": true
   },
   "outputs": [],
   "source": [
    "DF_Frecuent[DF_Frecuent['Día natural']>=\n",
    "datetime.date(2019, 1, 1)].head()"
   ]
  },
  {
   "cell_type": "code",
   "execution_count": null,
   "id": "4528be88",
   "metadata": {
    "hidden": true,
    "scrolled": true
   },
   "outputs": [],
   "source": [
    "DF_Frecuent['Año']=DF_Frecuent['Día natural'].apply( lambda x: x.year)\n",
    "DF_Frecuent['Año'].head()"
   ]
  },
  {
   "cell_type": "code",
   "execution_count": null,
   "id": "d884ce0d",
   "metadata": {
    "hidden": true
   },
   "outputs": [],
   "source": [
    "DF_Frecuent[\"Día natural\"].head()"
   ]
  },
  {
   "cell_type": "code",
   "execution_count": null,
   "id": "ddc634b1",
   "metadata": {
    "hidden": true,
    "scrolled": false
   },
   "outputs": [],
   "source": [
    "#DF_VS\n",
    "\n",
    "Dem=[\n",
    "    ggplot(DF_Frecuent[DF_Frecuent['Año']==i], aes(x='Día natural',y='Kilos Venta KG'))                 \n",
    "                + geom_col(fill='red',alpha=1)\\\n",
    "                +facet_grid('Año~.')\\\n",
    "                + labs(y='Volumen en KG',x='Día natural',size=14)\\\n",
    "                +ggtitle(('Demanda Z001'+\n",
    "                          ' \\n Para Cada dia'))\\\n",
    "                +theme(axis_text_x = element_text(angle=90, hjust=1)\n",
    "                       ,figure_size=(26,10))\n",
    "                 #+ scale_x_continuous(breaks=X_brak,labels=X_brak_S)\n",
    "                + scale_x_datetime(breaks=date_breaks('1 month')) for i in [2019,2020,2021]\n",
    "]\n",
    "Dem"
   ]
  },
  {
   "cell_type": "code",
   "execution_count": null,
   "id": "34943e0d",
   "metadata": {
    "hidden": true
   },
   "outputs": [],
   "source": [
    "DF_Frecuent.head(1)"
   ]
  },
  {
   "cell_type": "code",
   "execution_count": null,
   "id": "fe3e58ac",
   "metadata": {
    "hidden": true,
    "scrolled": false
   },
   "outputs": [],
   "source": [
    "#DF_VS\n",
    "\n",
    "Dem=[\n",
    "    ggplot(DF_Frecuent[DF_Frecuent['Año']==i], aes(x='Día natural',y='Precio Promedio CLP'))                 \n",
    "                + geom_col(fill='red',alpha=1)\\\n",
    "                +facet_grid('Año~.')\\\n",
    "                #+ labs(y='Volumen en KG',x='Día natural',size=14)\\\n",
    "                +ggtitle(('Precio Z001'+\n",
    "                          ' \\n Para Cada dia'))\\\n",
    "                +theme(axis_text_x = element_text(angle=90, hjust=1)\n",
    "                       ,figure_size=(26,10))\n",
    "                 #+ scale_x_continuous(breaks=X_brak,labels=X_brak_S)\n",
    "                + scale_x_datetime(breaks=date_breaks('1 month')) for i in [2019,2020,2021]\n",
    "]\n",
    "Dem"
   ]
  },
  {
   "cell_type": "markdown",
   "id": "da8acbf7",
   "metadata": {
    "heading_collapsed": true,
    "hidden": true
   },
   "source": [
    "#### unificar años en 1 "
   ]
  },
  {
   "cell_type": "code",
   "execution_count": null,
   "id": "0953cc86",
   "metadata": {
    "hidden": true
   },
   "outputs": [],
   "source": [
    "def fecha(x):\n",
    "    s=str(x.month)+'-'+str(x.day)\n",
    "    return(s)\n",
    "\"\"\"\n",
    "DF_Frecuent['Día mes']=DF_Frecuent['Día natural'].apply( lambda x:fecha (x))\n",
    "df[\"Día natural\"].apply(lambda x: \n",
    "                                                datetime.datetime.strptime(x,\n",
    "                                                                           '%d.%m.%Y').date())\n",
    "\"\"\"                                                                           "
   ]
  },
  {
   "cell_type": "markdown",
   "id": "8ed93b9d",
   "metadata": {
    "hidden": true
   },
   "source": [
    "### Sección Prophet "
   ]
  },
  {
   "cell_type": "markdown",
   "id": "0ec41e43",
   "metadata": {
    "hidden": true
   },
   "source": [
    "#### Data"
   ]
  },
  {
   "cell_type": "code",
   "execution_count": null,
   "id": "5b8b3e31",
   "metadata": {
    "hidden": true,
    "scrolled": true
   },
   "outputs": [],
   "source": [
    "fillN='Valores_prophet'\n",
    "col_names=pd.read_csv(\"\"+fillN+\".csv\",\n",
    "                    encoding=\"utf-8\",sep=\",\",nrows=0).columns\n",
    "types_dict = {col: str for col in col_names}\n",
    "\n",
    "DF_Predict = pd.read_csv(\"\"+fillN+\".csv\",\n",
    "                   encoding=\"utf-8\",sep=\",\",dtype=types_dict)\n",
    "\n",
    "DF_Predict = DF_Predict.rename(columns={'ds':\"Día natural\"})\n",
    "DF_Predict[\"Día natural\"] = DF_Predict[\"Día natural\"].apply(lambda x: \n",
    "                                                datetime.datetime.strptime(x,\n",
    "                                                                           '%Y-%m-%d').date())\n",
    "DF_Predict.head(1)\n",
    "DF_Predict.head()"
   ]
  },
  {
   "cell_type": "markdown",
   "id": "c8d168e0",
   "metadata": {
    "hidden": true
   },
   "source": [
    "### Union con Festivos"
   ]
  },
  {
   "cell_type": "code",
   "execution_count": null,
   "id": "6cf41378",
   "metadata": {
    "hidden": true,
    "scrolled": false
   },
   "outputs": [],
   "source": [
    "DF_Fest2=pd.merge(DF_Fest,DF_Predict\n",
    "                 , how='right')\n",
    "\n",
    "#DF_Fest2.sort_values(by=['Día natural'], inplace=True)\n",
    "print(DF_Fest2.shape)\n",
    "DF_Fest2.head()#[DF_Fest.Año==2019].head(20)"
   ]
  },
  {
   "cell_type": "code",
   "execution_count": null,
   "id": "39fe9e58",
   "metadata": {
    "hidden": true,
    "scrolled": false
   },
   "outputs": [],
   "source": [
    "DF_Fest2.dtypes"
   ]
  },
  {
   "cell_type": "code",
   "execution_count": null,
   "id": "508f48bb",
   "metadata": {
    "hidden": true,
    "scrolled": true
   },
   "outputs": [],
   "source": [
    "DF_Fest2.Error=DF_Fest2.Error.astype('float64')\n",
    "DF_Fest2.Error.hist()"
   ]
  },
  {
   "cell_type": "markdown",
   "id": "619a4e71",
   "metadata": {
    "hidden": true
   },
   "source": [
    "### Guardar CSV "
   ]
  },
  {
   "cell_type": "code",
   "execution_count": null,
   "id": "79f87df4",
   "metadata": {
    "hidden": true
   },
   "outputs": [],
   "source": [
    "#DF_Fest2.to_csv('prophet_Fest.csv', index=False)"
   ]
  }
 ],
 "metadata": {
  "kernelspec": {
   "display_name": "Python 3",
   "language": "python",
   "name": "python3"
  },
  "language_info": {
   "codemirror_mode": {
    "name": "ipython",
    "version": 3
   },
   "file_extension": ".py",
   "mimetype": "text/x-python",
   "name": "python",
   "nbconvert_exporter": "python",
   "pygments_lexer": "ipython3",
   "version": "3.8.8"
  },
  "toc": {
   "base_numbering": 1,
   "nav_menu": {},
   "number_sections": true,
   "sideBar": true,
   "skip_h1_title": false,
   "title_cell": "Table of Contents",
   "title_sidebar": "Contents",
   "toc_cell": false,
   "toc_position": {
    "height": "calc(100% - 180px)",
    "left": "10px",
    "top": "150px",
    "width": "263px"
   },
   "toc_section_display": true,
   "toc_window_display": true
  }
 },
 "nbformat": 4,
 "nbformat_minor": 5
}
