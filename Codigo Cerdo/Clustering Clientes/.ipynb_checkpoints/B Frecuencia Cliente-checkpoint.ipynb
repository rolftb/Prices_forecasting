{
 "cells": [
  {
   "cell_type": "markdown",
   "metadata": {},
   "source": [
    "# Intalar paquetes, Abrir data y ajustarla"
   ]
  },
  {
   "cell_type": "code",
   "execution_count": 3,
   "metadata": {
    "scrolled": false
   },
   "outputs": [],
   "source": [
    "# =============================================================================\n",
    "# Importar paquetes y abrir Data\n",
    "# =============================================================================\n",
    "import pandas as pd\n",
    "import numpy as np\n",
    "import matplotlib.pyplot as plt\n",
    "#from geopandas import *\n",
    "from plotnine import *\n",
    "\n",
    "#para ajustar las fechas\n",
    "import datetime\n",
    "\n",
    "#para calcular el skew de un array() o list()\n",
    "from scipy.stats import skew \n",
    "\n",
    "col_names=pd.read_csv(\"Data/(column)Facturac_2017_2020.csv\",\n",
    "                    encoding=\"utf-8\",sep=\";\",nrows=0).columns\n",
    "types_dict = {col: str for col in col_names}\n",
    "\n",
    "Data = pd.read_csv(\"Data/(column)Facturac_2017_2020.csv\",\n",
    "                   encoding=\"utf-8\",sep=\";\",dtype=types_dict)"
   ]
  },
  {
   "cell_type": "code",
   "execution_count": 4,
   "metadata": {},
   "outputs": [
    {
     "data": {
      "text/html": [
       "<div>\n",
       "<style scoped>\n",
       "    .dataframe tbody tr th:only-of-type {\n",
       "        vertical-align: middle;\n",
       "    }\n",
       "\n",
       "    .dataframe tbody tr th {\n",
       "        vertical-align: top;\n",
       "    }\n",
       "\n",
       "    .dataframe thead th {\n",
       "        text-align: right;\n",
       "    }\n",
       "</style>\n",
       "<table border=\"1\" class=\"dataframe\">\n",
       "  <thead>\n",
       "    <tr style=\"text-align: right;\">\n",
       "      <th></th>\n",
       "      <th>Material</th>\n",
       "      <th>Tipo de cliente</th>\n",
       "      <th>Zona de ventas</th>\n",
       "      <th>Zona de ventas.1</th>\n",
       "      <th>Oficina de Ventas Unifica</th>\n",
       "      <th>Oficina de Ventas Unifica.1</th>\n",
       "      <th>Subtipo de cliente</th>\n",
       "      <th>Cluster</th>\n",
       "      <th>Cliente - Local</th>\n",
       "      <th>Cliente - Local.1</th>\n",
       "      <th>Mes</th>\n",
       "      <th>Año natural/Semana</th>\n",
       "      <th>Día natural</th>\n",
       "      <th>Día de la semana</th>\n",
       "      <th>Kilos Venta KG</th>\n",
       "      <th>Venta Neta CLP</th>\n",
       "      <th>Precio Promedio CLP</th>\n",
       "    </tr>\n",
       "  </thead>\n",
       "  <tbody>\n",
       "    <tr>\n",
       "      <th>count</th>\n",
       "      <td>3873</td>\n",
       "      <td>3873</td>\n",
       "      <td>3873</td>\n",
       "      <td>3873</td>\n",
       "      <td>3873</td>\n",
       "      <td>3873</td>\n",
       "      <td>3873</td>\n",
       "      <td>3873</td>\n",
       "      <td>3873</td>\n",
       "      <td>3873</td>\n",
       "      <td>3873</td>\n",
       "      <td>3873</td>\n",
       "      <td>3873</td>\n",
       "      <td>3873</td>\n",
       "      <td>3873</td>\n",
       "      <td>3873</td>\n",
       "      <td>3873</td>\n",
       "    </tr>\n",
       "    <tr>\n",
       "      <th>unique</th>\n",
       "      <td>1</td>\n",
       "      <td>1</td>\n",
       "      <td>1</td>\n",
       "      <td>1</td>\n",
       "      <td>1</td>\n",
       "      <td>87</td>\n",
       "      <td>5</td>\n",
       "      <td>3</td>\n",
       "      <td>324</td>\n",
       "      <td>329</td>\n",
       "      <td>12</td>\n",
       "      <td>227</td>\n",
       "      <td>1092</td>\n",
       "      <td>6</td>\n",
       "      <td>254</td>\n",
       "      <td>3760</td>\n",
       "      <td>542</td>\n",
       "    </tr>\n",
       "    <tr>\n",
       "      <th>top</th>\n",
       "      <td>Tradicional</td>\n",
       "      <td>Z004</td>\n",
       "      <td>Sur</td>\n",
       "      <td>Temuco</td>\n",
       "      <td>T105</td>\n",
       "      <td>8000580048</td>\n",
       "      <td>Espec. en Crudos</td>\n",
       "      <td>Clásico</td>\n",
       "      <td>Los Camperos Temuco</td>\n",
       "      <td>58651</td>\n",
       "      <td>2</td>\n",
       "      <td>16.2021</td>\n",
       "      <td>28.11.2019</td>\n",
       "      <td>VI</td>\n",
       "      <td>20</td>\n",
       "      <td>44.574</td>\n",
       "      <td>2.500</td>\n",
       "    </tr>\n",
       "    <tr>\n",
       "      <th>freq</th>\n",
       "      <td>3873</td>\n",
       "      <td>3873</td>\n",
       "      <td>3873</td>\n",
       "      <td>3873</td>\n",
       "      <td>3873</td>\n",
       "      <td>352</td>\n",
       "      <td>2900</td>\n",
       "      <td>2101</td>\n",
       "      <td>297</td>\n",
       "      <td>297</td>\n",
       "      <td>487</td>\n",
       "      <td>56</td>\n",
       "      <td>19</td>\n",
       "      <td>864</td>\n",
       "      <td>252</td>\n",
       "      <td>3</td>\n",
       "      <td>282</td>\n",
       "    </tr>\n",
       "  </tbody>\n",
       "</table>\n",
       "</div>"
      ],
      "text/plain": [
       "           Material Tipo de cliente Zona de ventas Zona de ventas.1  \\\n",
       "count          3873            3873           3873             3873   \n",
       "unique            1               1              1                1   \n",
       "top     Tradicional            Z004            Sur           Temuco   \n",
       "freq           3873            3873           3873             3873   \n",
       "\n",
       "       Oficina de Ventas Unifica Oficina de Ventas Unifica.1  \\\n",
       "count                       3873                        3873   \n",
       "unique                         1                          87   \n",
       "top                         T105                  8000580048   \n",
       "freq                        3873                         352   \n",
       "\n",
       "       Subtipo de cliente  Cluster      Cliente - Local Cliente - Local.1  \\\n",
       "count                3873     3873                 3873              3873   \n",
       "unique                  5        3                  324               329   \n",
       "top      Espec. en Crudos  Clásico  Los Camperos Temuco             58651   \n",
       "freq                 2900     2101                  297               297   \n",
       "\n",
       "         Mes Año natural/Semana Día natural Día de la semana Kilos Venta KG  \\\n",
       "count   3873               3873        3873             3873           3873   \n",
       "unique    12                227        1092                6            254   \n",
       "top        2            16.2021  28.11.2019               VI             20   \n",
       "freq     487                 56          19              864            252   \n",
       "\n",
       "       Venta Neta CLP Precio Promedio CLP  \n",
       "count            3873                3873  \n",
       "unique           3760                 542  \n",
       "top            44.574               2.500  \n",
       "freq                3                 282  "
      ]
     },
     "execution_count": 4,
     "metadata": {},
     "output_type": "execute_result"
    }
   ],
   "source": [
    "Data=Data[Data['Zona de ventas.1']=='Temuco']\n",
    "Data.describe(include='all')"
   ]
  },
  {
   "cell_type": "code",
   "execution_count": 5,
   "metadata": {},
   "outputs": [],
   "source": [
    "# =============================================================================\n",
    "# Ajustar la data\n",
    "# =============================================================================\n",
    "def Ajuste_data(data):\n",
    "    df=data.copy()\n",
    "    # Funciones para eliminar los putos y cambiar las , por .\n",
    "    def change_num_point(x):\n",
    "        x=str(x)\n",
    "        return x.replace('.', '')\n",
    "    def change_num_coma(x):\n",
    "        x=str(x)\n",
    "        return x.replace(',', '.')\n",
    "    for i in ['Kilos Venta KG','Venta Neta CLP','Precio Promedio CLP']:\n",
    "        df[i]=df[i].apply(change_num_point)\n",
    "        df[i]=df[i].apply(change_num_coma)\n",
    "        df[i]=df[i].astype('int64')\n",
    "\n",
    "        #Separacion fecha\n",
    "    df['Semana']=df['Año natural/Semana'].str.split('.', expand=True)[[0]]\n",
    "    df['Año']=df['Año natural/Semana'].str.split('.', expand=True)[[1]]\n",
    "\n",
    "    df['Semana']=df['Semana'].astype('int64')\n",
    "    df['Año']=df['Año'].astype('int64')\n",
    "    \n",
    "    #\n",
    "    df[\"Día natural\"] = df[\"Día natural\"].apply(lambda x: \n",
    "                                                datetime.datetime.strptime(x,\n",
    "                                                                           '%d.%m.%Y').date())\n",
    "    return df"
   ]
  },
  {
   "cell_type": "code",
   "execution_count": 6,
   "metadata": {
    "scrolled": false
   },
   "outputs": [],
   "source": [
    "data=Ajuste_data(Data)"
   ]
  },
  {
   "cell_type": "code",
   "execution_count": 7,
   "metadata": {
    "scrolled": true
   },
   "outputs": [
    {
     "data": {
      "text/plain": [
       "datetime.date(2021, 4, 26)"
      ]
     },
     "execution_count": 7,
     "metadata": {},
     "output_type": "execute_result"
    }
   ],
   "source": [
    "df=data.copy()\n",
    "df.iloc[2]['Día natural']#-df.iloc[1]['Día natural']"
   ]
  },
  {
   "cell_type": "markdown",
   "metadata": {},
   "source": [
    "# Data Clientes "
   ]
  },
  {
   "cell_type": "code",
   "execution_count": 10,
   "metadata": {
    "scrolled": true
   },
   "outputs": [],
   "source": [
    "col_client='Cliente - Local.1'\n",
    "\n",
    "# Creamos la Data clientes para almacenar las caracteristicas de los clientes\n",
    "D_Clientes=data[col_client].unique()#.to_list()"
   ]
  },
  {
   "cell_type": "markdown",
   "metadata": {},
   "source": [
    "# Frecuencia\n",
    "## Generalización"
   ]
  },
  {
   "cell_type": "code",
   "execution_count": 12,
   "metadata": {},
   "outputs": [],
   "source": [
    "def frec_cliente(D_Clientes,i):\n",
    "    id_client=D_Clientes[i]\n",
    "    \n",
    "    \n",
    "    df_i=data[data[col_client]==id_client].copy()\n",
    "    #-------------------------------------------\n",
    "    #primer año\n",
    "    #int((str(df_i['Día natural'].min()))[:4])\n",
    "    ano_in=df_i['Día natural'].min().year\n",
    "    \n",
    "    #primer mes\n",
    "    #int((str(df_i['Día natural'].min()))[5:7])\n",
    "    mes_in=df_i['Día natural'].min().month\n",
    "    \n",
    "    \n",
    "    #---------------------------------------------------------------------------\n",
    "    # values\n",
    "    date_v=list(df_i.groupby(['Mes','Año'],\n",
    "                             sort=True).count()['Kilos Venta KG'])\n",
    "\n",
    "    #index\n",
    "    date_i=list((df_i.groupby(['Mes','Año'],\n",
    "                              sort=True).count()['Kilos Venta KG']).index)\n",
    "    date_i\n",
    "    \n",
    "    \n",
    "    #------------------------------\n",
    "    #\n",
    "    #------------------------------\n",
    "    fechas=list()\n",
    "    for a in range(ano_in,2022):\n",
    "        if a==ano_in:\n",
    "            for m in range(mes_in,13):\n",
    "                t=tuple((str(m),a))\n",
    "                fechas.append(t)     \n",
    "        elif(a==2021):\n",
    "            for m in range(1,3):\n",
    "                t=tuple((str(m),a))\n",
    "                fechas.append(t)\n",
    "        else:\n",
    "            for m in range(1,13):\n",
    "                t=tuple((str(m),a))\n",
    "                fechas.append(t)\n",
    "\n",
    "    return ((pd.merge(pd.DataFrame({'Date':fechas}),\n",
    "                    pd.DataFrame({'Date':date_i,'Frecuencia':date_v})\n",
    "                 , how='left'))['Frecuencia'].sum()/len(fechas))"
   ]
  },
  {
   "cell_type": "code",
   "execution_count": 13,
   "metadata": {},
   "outputs": [
    {
     "data": {
      "text/plain": [
       "0.8461538461538461"
      ]
     },
     "execution_count": 13,
     "metadata": {},
     "output_type": "execute_result"
    }
   ],
   "source": [
    "frec_cliente(D_Clientes,1)"
   ]
  },
  {
   "cell_type": "code",
   "execution_count": 14,
   "metadata": {
    "scrolled": true
   },
   "outputs": [],
   "source": [
    "Client_frec=list()#[ i for i in range(len(D_Clientes))]\n",
    "for i in range(len(D_Clientes)):\n",
    "    Client_frec.append(frec_cliente(D_Clientes,i))"
   ]
  },
  {
   "cell_type": "code",
   "execution_count": 16,
   "metadata": {},
   "outputs": [
    {
     "data": {
      "text/plain": [
       "[0.6666666666666666,\n",
       " 0.8461538461538461,\n",
       " 0.3888888888888889,\n",
       " 0.08695652173913043,\n",
       " 0.9411764705882353,\n",
       " 0.17391304347826086,\n",
       " 0.09090909090909091,\n",
       " 0.03225806451612903,\n",
       " 0.9183673469387755,\n",
       " 0.023255813953488372,\n",
       " 0.14285714285714285,\n",
       " 0.7755102040816326,\n",
       " 0.022222222222222223,\n",
       " 0.42857142857142855,\n",
       " 0.05263157894736842,\n",
       " 0.07894736842105263,\n",
       " 0.30303030303030304,\n",
       " 0.28,\n",
       " 0.5681818181818182,\n",
       " 0.16666666666666666]"
      ]
     },
     "execution_count": 16,
     "metadata": {},
     "output_type": "execute_result"
    }
   ],
   "source": [
    "Client_frec[:20]"
   ]
  },
  {
   "cell_type": "markdown",
   "metadata": {},
   "source": [
    "## Incorpora la frec a un df "
   ]
  },
  {
   "cell_type": "code",
   "execution_count": 17,
   "metadata": {
    "scrolled": true
   },
   "outputs": [
    {
     "data": {
      "text/plain": [
       "(329, 1)"
      ]
     },
     "execution_count": 17,
     "metadata": {},
     "output_type": "execute_result"
    }
   ],
   "source": [
    "col_client='Cliente - Local.1'\n",
    "\n",
    "# Creamos la Data clientes para almacenar las caracteristicas de los clientes\n",
    "D_Clientes=pd.DataFrame({col_client:data[col_client].unique()\n",
    "                        })\n",
    "D_Clientes[col_client]=D_Clientes[col_client].astype('category')\n",
    "D_Clientes.shape"
   ]
  },
  {
   "cell_type": "code",
   "execution_count": 18,
   "metadata": {},
   "outputs": [
    {
     "data": {
      "text/html": [
       "<div>\n",
       "<style scoped>\n",
       "    .dataframe tbody tr th:only-of-type {\n",
       "        vertical-align: middle;\n",
       "    }\n",
       "\n",
       "    .dataframe tbody tr th {\n",
       "        vertical-align: top;\n",
       "    }\n",
       "\n",
       "    .dataframe thead th {\n",
       "        text-align: right;\n",
       "    }\n",
       "</style>\n",
       "<table border=\"1\" class=\"dataframe\">\n",
       "  <thead>\n",
       "    <tr style=\"text-align: right;\">\n",
       "      <th></th>\n",
       "      <th>Cliente - Local.1</th>\n",
       "      <th>Frecuencia mes promedio</th>\n",
       "    </tr>\n",
       "  </thead>\n",
       "  <tbody>\n",
       "    <tr>\n",
       "      <th>count</th>\n",
       "      <td>329</td>\n",
       "      <td>329.000000</td>\n",
       "    </tr>\n",
       "    <tr>\n",
       "      <th>unique</th>\n",
       "      <td>329</td>\n",
       "      <td>NaN</td>\n",
       "    </tr>\n",
       "    <tr>\n",
       "      <th>top</th>\n",
       "      <td>10343</td>\n",
       "      <td>NaN</td>\n",
       "    </tr>\n",
       "    <tr>\n",
       "      <th>freq</th>\n",
       "      <td>1</td>\n",
       "      <td>NaN</td>\n",
       "    </tr>\n",
       "    <tr>\n",
       "      <th>mean</th>\n",
       "      <td>NaN</td>\n",
       "      <td>0.376589</td>\n",
       "    </tr>\n",
       "    <tr>\n",
       "      <th>std</th>\n",
       "      <td>NaN</td>\n",
       "      <td>0.680929</td>\n",
       "    </tr>\n",
       "    <tr>\n",
       "      <th>min</th>\n",
       "      <td>NaN</td>\n",
       "      <td>0.020000</td>\n",
       "    </tr>\n",
       "    <tr>\n",
       "      <th>25%</th>\n",
       "      <td>NaN</td>\n",
       "      <td>0.071429</td>\n",
       "    </tr>\n",
       "    <tr>\n",
       "      <th>50%</th>\n",
       "      <td>NaN</td>\n",
       "      <td>0.166667</td>\n",
       "    </tr>\n",
       "    <tr>\n",
       "      <th>75%</th>\n",
       "      <td>NaN</td>\n",
       "      <td>0.404762</td>\n",
       "    </tr>\n",
       "    <tr>\n",
       "      <th>max</th>\n",
       "      <td>NaN</td>\n",
       "      <td>5.775510</td>\n",
       "    </tr>\n",
       "  </tbody>\n",
       "</table>\n",
       "</div>"
      ],
      "text/plain": [
       "       Cliente - Local.1  Frecuencia mes promedio\n",
       "count                329               329.000000\n",
       "unique               329                      NaN\n",
       "top                10343                      NaN\n",
       "freq                   1                      NaN\n",
       "mean                 NaN                 0.376589\n",
       "std                  NaN                 0.680929\n",
       "min                  NaN                 0.020000\n",
       "25%                  NaN                 0.071429\n",
       "50%                  NaN                 0.166667\n",
       "75%                  NaN                 0.404762\n",
       "max                  NaN                 5.775510"
      ]
     },
     "execution_count": 18,
     "metadata": {},
     "output_type": "execute_result"
    }
   ],
   "source": [
    "df_clientes=pd.DataFrame({col_client:D_Clientes[col_client],\n",
    "                          'Frecuencia mes promedio':Client_frec})\n",
    "df_clientes.describe(include='all')"
   ]
  },
  {
   "cell_type": "code",
   "execution_count": 19,
   "metadata": {},
   "outputs": [
    {
     "data": {
      "text/plain": [
       "<AxesSubplot:>"
      ]
     },
     "execution_count": 19,
     "metadata": {},
     "output_type": "execute_result"
    },
    {
     "data": {
      "image/png": "[encoded data removed]",
      "text/plain": [
       "<Figure size 432x288 with 1 Axes>"
      ]
     },
     "metadata": {
      "needs_background": "light"
     },
     "output_type": "display_data"
    }
   ],
   "source": [
    "df_clientes['Frecuencia mes promedio'].hist()"
   ]
  },
  {
   "cell_type": "markdown",
   "metadata": {},
   "source": [
    "# Delta pedido"
   ]
  },
  {
   "cell_type": "markdown",
   "metadata": {},
   "source": [
    "## tomo a un cliente"
   ]
  },
  {
   "cell_type": "code",
   "execution_count": 20,
   "metadata": {},
   "outputs": [
    {
     "data": {
      "text/plain": [
       "'3200145770'"
      ]
     },
     "execution_count": 20,
     "metadata": {},
     "output_type": "execute_result"
    }
   ],
   "source": [
    "D_Clientes.iloc[i,0]"
   ]
  },
  {
   "cell_type": "code",
   "execution_count": 21,
   "metadata": {},
   "outputs": [
    {
     "data": {
      "text/html": [
       "<div>\n",
       "<style scoped>\n",
       "    .dataframe tbody tr th:only-of-type {\n",
       "        vertical-align: middle;\n",
       "    }\n",
       "\n",
       "    .dataframe tbody tr th {\n",
       "        vertical-align: top;\n",
       "    }\n",
       "\n",
       "    .dataframe thead th {\n",
       "        text-align: right;\n",
       "    }\n",
       "</style>\n",
       "<table border=\"1\" class=\"dataframe\">\n",
       "  <thead>\n",
       "    <tr style=\"text-align: right;\">\n",
       "      <th></th>\n",
       "      <th>Material</th>\n",
       "      <th>Tipo de cliente</th>\n",
       "      <th>Zona de ventas</th>\n",
       "      <th>Zona de ventas.1</th>\n",
       "      <th>Oficina de Ventas Unifica</th>\n",
       "      <th>Oficina de Ventas Unifica.1</th>\n",
       "      <th>Subtipo de cliente</th>\n",
       "      <th>Cluster</th>\n",
       "      <th>Cliente - Local</th>\n",
       "      <th>Cliente - Local.1</th>\n",
       "      <th>Mes</th>\n",
       "      <th>Año natural/Semana</th>\n",
       "      <th>Día natural</th>\n",
       "      <th>Día de la semana</th>\n",
       "      <th>Kilos Venta KG</th>\n",
       "      <th>Venta Neta CLP</th>\n",
       "      <th>Precio Promedio CLP</th>\n",
       "      <th>Semana</th>\n",
       "      <th>Año</th>\n",
       "    </tr>\n",
       "  </thead>\n",
       "  <tbody>\n",
       "    <tr>\n",
       "      <th>1020003</th>\n",
       "      <td>Tradicional</td>\n",
       "      <td>Z004</td>\n",
       "      <td>Sur</td>\n",
       "      <td>Temuco</td>\n",
       "      <td>T105</td>\n",
       "      <td>8000480112</td>\n",
       "      <td>Espec. en Crudos</td>\n",
       "      <td>Sin asignar</td>\n",
       "      <td>Castro Muñoz Jose Isaias</td>\n",
       "      <td>3200104287</td>\n",
       "      <td>4</td>\n",
       "      <td>15.2021</td>\n",
       "      <td>2021-04-12</td>\n",
       "      <td>LU</td>\n",
       "      <td>43</td>\n",
       "      <td>182668</td>\n",
       "      <td>4290</td>\n",
       "      <td>15</td>\n",
       "      <td>2021</td>\n",
       "    </tr>\n",
       "    <tr>\n",
       "      <th>1020003</th>\n",
       "      <td>Tradicional</td>\n",
       "      <td>Z004</td>\n",
       "      <td>Sur</td>\n",
       "      <td>Temuco</td>\n",
       "      <td>T105</td>\n",
       "      <td>8000480112</td>\n",
       "      <td>Espec. en Crudos</td>\n",
       "      <td>Sin asignar</td>\n",
       "      <td>Castro Muñoz Jose Isaias</td>\n",
       "      <td>3200104287</td>\n",
       "      <td>4</td>\n",
       "      <td>16.2021</td>\n",
       "      <td>2021-04-21</td>\n",
       "      <td>MI</td>\n",
       "      <td>43</td>\n",
       "      <td>157268</td>\n",
       "      <td>3690</td>\n",
       "      <td>16</td>\n",
       "      <td>2021</td>\n",
       "    </tr>\n",
       "  </tbody>\n",
       "</table>\n",
       "</div>"
      ],
      "text/plain": [
       "            Material Tipo de cliente Zona de ventas Zona de ventas.1  \\\n",
       "1020003  Tradicional            Z004            Sur           Temuco   \n",
       "1020003  Tradicional            Z004            Sur           Temuco   \n",
       "\n",
       "        Oficina de Ventas Unifica Oficina de Ventas Unifica.1  \\\n",
       "1020003                      T105                  8000480112   \n",
       "1020003                      T105                  8000480112   \n",
       "\n",
       "        Subtipo de cliente      Cluster           Cliente - Local  \\\n",
       "1020003   Espec. en Crudos  Sin asignar  Castro Muñoz Jose Isaias   \n",
       "1020003   Espec. en Crudos  Sin asignar  Castro Muñoz Jose Isaias   \n",
       "\n",
       "        Cliente - Local.1 Mes Año natural/Semana Día natural Día de la semana  \\\n",
       "1020003        3200104287   4            15.2021  2021-04-12               LU   \n",
       "1020003        3200104287   4            16.2021  2021-04-21               MI   \n",
       "\n",
       "         Kilos Venta KG  Venta Neta CLP  Precio Promedio CLP  Semana   Año  \n",
       "1020003              43          182668                 4290      15  2021  \n",
       "1020003              43          157268                 3690      16  2021  "
      ]
     },
     "execution_count": 21,
     "metadata": {},
     "output_type": "execute_result"
    }
   ],
   "source": [
    "i=0\n",
    "id_client=D_Clientes.iloc[i,0]\n",
    "df_i=data[data[col_client]==id_client].copy()\n",
    "df_i=df_i.sort_values(by=['Día natural'])\n",
    "df_i.head(2)"
   ]
  },
  {
   "cell_type": "code",
   "execution_count": 22,
   "metadata": {
    "scrolled": true
   },
   "outputs": [],
   "source": [
    "lote=list(df_i['Kilos Venta KG'])\n",
    "dias=list(df_i['Día natural'])\n",
    "dias\n",
    "delta=list()\n",
    "delta_mean=0\n",
    "ratio_mean=0\n",
    "if(len(dias)>1):\n",
    "    for i in range(len(dias)-1):\n",
    "        delta.append((dias[i+1] - dias[i]).days)\n",
    "        ratio_mean+=delta[i]/lote[i]\n",
    "        delta_mean+=((dias[i+1] - dias[i]).days)\n",
    "    delta_mean=delta_mean/(len(delta))\n",
    "    ratio_mean=ratio_mean/(len(delta))\n",
    "else:\n",
    "    delta_mean=-1\n",
    "    ratio_mean=-1"
   ]
  },
  {
   "cell_type": "code",
   "execution_count": 23,
   "metadata": {},
   "outputs": [
    {
     "data": {
      "text/plain": [
       "array([[<AxesSubplot:title={'center':'lote'}>]], dtype=object)"
      ]
     },
     "execution_count": 23,
     "metadata": {},
     "output_type": "execute_result"
    },
    {
     "data": {
      "image/png": "[encoded data removed]",
      "text/plain": [
       "<Figure size 432x288 with 1 Axes>"
      ]
     },
     "metadata": {
      "needs_background": "light"
     },
     "output_type": "display_data"
    }
   ],
   "source": [
    "(pd.DataFrame({'lote':lote})).hist()"
   ]
  },
  {
   "cell_type": "code",
   "execution_count": 24,
   "metadata": {},
   "outputs": [
    {
     "data": {
      "text/plain": [
       "lote    0.344704\n",
       "dtype: float64"
      ]
     },
     "execution_count": 24,
     "metadata": {},
     "output_type": "execute_result"
    }
   ],
   "source": [
    "(pd.DataFrame({'lote':lote})).std()/(pd.DataFrame({'lote':lote})).mean()"
   ]
  },
  {
   "cell_type": "code",
   "execution_count": 25,
   "metadata": {},
   "outputs": [
    {
     "data": {
      "text/plain": [
       "31.5"
      ]
     },
     "execution_count": 25,
     "metadata": {},
     "output_type": "execute_result"
    }
   ],
   "source": [
    "sum(lote)/len(lote)"
   ]
  },
  {
   "cell_type": "code",
   "execution_count": 26,
   "metadata": {},
   "outputs": [
    {
     "data": {
      "text/plain": [
       "0.005643738977072311"
      ]
     },
     "execution_count": 26,
     "metadata": {},
     "output_type": "execute_result"
    }
   ],
   "source": [
    "delta_mean/sum(lote)/len(lote)"
   ]
  },
  {
   "cell_type": "code",
   "execution_count": 27,
   "metadata": {},
   "outputs": [
    {
     "data": {
      "text/plain": [
       "0.21519943915292755"
      ]
     },
     "execution_count": 27,
     "metadata": {},
     "output_type": "execute_result"
    }
   ],
   "source": [
    "ratio_mean"
   ]
  },
  {
   "cell_type": "code",
   "execution_count": 28,
   "metadata": {},
   "outputs": [
    {
     "data": {
      "text/plain": [
       "6.4"
      ]
     },
     "execution_count": 28,
     "metadata": {},
     "output_type": "execute_result"
    }
   ],
   "source": [
    "delta_mean"
   ]
  },
  {
   "cell_type": "code",
   "execution_count": 29,
   "metadata": {},
   "outputs": [
    {
     "data": {
      "text/plain": [
       "0.3169627324056571"
      ]
     },
     "execution_count": 29,
     "metadata": {},
     "output_type": "execute_result"
    }
   ],
   "source": [
    "skew(delta)"
   ]
  },
  {
   "cell_type": "code",
   "execution_count": 30,
   "metadata": {},
   "outputs": [
    {
     "data": {
      "text/html": [
       "<div>\n",
       "<style scoped>\n",
       "    .dataframe tbody tr th:only-of-type {\n",
       "        vertical-align: middle;\n",
       "    }\n",
       "\n",
       "    .dataframe tbody tr th {\n",
       "        vertical-align: top;\n",
       "    }\n",
       "\n",
       "    .dataframe thead th {\n",
       "        text-align: right;\n",
       "    }\n",
       "</style>\n",
       "<table border=\"1\" class=\"dataframe\">\n",
       "  <thead>\n",
       "    <tr style=\"text-align: right;\">\n",
       "      <th></th>\n",
       "      <th>Dias</th>\n",
       "      <th>Pedido Kg</th>\n",
       "      <th>delta</th>\n",
       "    </tr>\n",
       "  </thead>\n",
       "  <tbody>\n",
       "    <tr>\n",
       "      <th>0</th>\n",
       "      <td>2021-04-12</td>\n",
       "      <td>43</td>\n",
       "      <td>9</td>\n",
       "    </tr>\n",
       "    <tr>\n",
       "      <th>1</th>\n",
       "      <td>2021-04-21</td>\n",
       "      <td>43</td>\n",
       "      <td>5</td>\n",
       "    </tr>\n",
       "    <tr>\n",
       "      <th>2</th>\n",
       "      <td>2021-04-26</td>\n",
       "      <td>20</td>\n",
       "      <td>9</td>\n",
       "    </tr>\n",
       "    <tr>\n",
       "      <th>3</th>\n",
       "      <td>2021-05-05</td>\n",
       "      <td>26</td>\n",
       "      <td>5</td>\n",
       "    </tr>\n",
       "    <tr>\n",
       "      <th>4</th>\n",
       "      <td>2021-05-10</td>\n",
       "      <td>37</td>\n",
       "      <td>4</td>\n",
       "    </tr>\n",
       "  </tbody>\n",
       "</table>\n",
       "</div>"
      ],
      "text/plain": [
       "         Dias  Pedido Kg  delta\n",
       "0  2021-04-12         43      9\n",
       "1  2021-04-21         43      5\n",
       "2  2021-04-26         20      9\n",
       "3  2021-05-05         26      5\n",
       "4  2021-05-10         37      4"
      ]
     },
     "execution_count": 30,
     "metadata": {},
     "output_type": "execute_result"
    }
   ],
   "source": [
    "Pedidos=pd.DataFrame({'Dias':dias[:len(dias)-1],'Pedido Kg':lote[:len(lote)-1],'delta':delta})\n",
    "Pedidos"
   ]
  },
  {
   "cell_type": "code",
   "execution_count": 31,
   "metadata": {},
   "outputs": [
    {
     "data": {
      "text/plain": [
       "<function __main__.a()>"
      ]
     },
     "execution_count": 31,
     "metadata": {},
     "output_type": "execute_result"
    }
   ],
   "source": [
    "def a():\n",
    "    return(1,2,4)\n",
    "a"
   ]
  },
  {
   "cell_type": "markdown",
   "metadata": {},
   "source": [
    "## Función aplicable para todos los clientes\n",
    "\n",
    "Entrega\n",
    "* delta_mean\n",
    "* skew_delta\n",
    "* Lote_mean\n",
    "* ratio_mean"
   ]
  },
  {
   "cell_type": "code",
   "execution_count": 32,
   "metadata": {},
   "outputs": [],
   "source": [
    "def Atributos_cliente(D_Clientes,i):\n",
    "    id_client=D_Clientes.iloc[i,0]    \n",
    "    df_i=data[data[col_client]==id_client].copy()\n",
    "    \n",
    "    \n",
    "    #se ordenan los dias de forma creciente\n",
    "    #para tener los Delta bien configurados\n",
    "    df_i=df_i.sort_values(by=['Día natural'])\n",
    "    \n",
    "    #########################################\n",
    "    #\n",
    "    #########################################\n",
    "    lote=list(df_i['Kilos Venta KG'])\n",
    "    dias=list(df_i['Día natural'])\n",
    "    \n",
    "    #inicio con valores cero\n",
    "    delta=list()\n",
    "    delta_mean=0\n",
    "    ratio_mean=0\n",
    "    # recorre todos los dias menos el ultimo\n",
    "    #para generar los delta\n",
    "    for i in range(len(dias)-1):\n",
    "        delta.append((dias[i+1] - dias[i]).days)\n",
    "        ratio_mean+=delta[i]/lote[i]\n",
    "        delta_mean+=((dias[i+1] - dias[i]).days)\n",
    "    #delta promedio\n",
    "    if(len(delta)>0):\n",
    "        delta_mean=delta_mean/(len(delta))\n",
    "        ratio_mean=ratio_mean/(len(delta))\n",
    "        skew_delta =skew(delta)\n",
    "    else:\n",
    "        delta_mean=delta_mean\n",
    "        ratio_mean=ratio_mean\n",
    "        skew_delta=0\n",
    "    df_lote=pd.DataFrame({'lote':lote})\n",
    "    \n",
    "    return(delta_mean,skew_delta, sum(lote)/len(lote) ,\n",
    "           (df_lote.std()['lote']/df_lote.mean()['lote']))"
   ]
  },
  {
   "cell_type": "code",
   "execution_count": 33,
   "metadata": {},
   "outputs": [
    {
     "data": {
      "text/plain": [
       "(30.0, 1.9976983396258403, 31.466666666666665, 0.3701958655426317)"
      ]
     },
     "execution_count": 33,
     "metadata": {},
     "output_type": "execute_result"
    }
   ],
   "source": [
    "Atributos_cliente(D_Clientes,1)"
   ]
  },
  {
   "cell_type": "code",
   "execution_count": 34,
   "metadata": {},
   "outputs": [
    {
     "data": {
      "text/html": [
       "<div>\n",
       "<style scoped>\n",
       "    .dataframe tbody tr th:only-of-type {\n",
       "        vertical-align: middle;\n",
       "    }\n",
       "\n",
       "    .dataframe tbody tr th {\n",
       "        vertical-align: top;\n",
       "    }\n",
       "\n",
       "    .dataframe thead th {\n",
       "        text-align: right;\n",
       "    }\n",
       "</style>\n",
       "<table border=\"1\" class=\"dataframe\">\n",
       "  <thead>\n",
       "    <tr style=\"text-align: right;\">\n",
       "      <th></th>\n",
       "      <th>Material</th>\n",
       "      <th>Tipo de cliente</th>\n",
       "      <th>Zona de ventas</th>\n",
       "      <th>Zona de ventas.1</th>\n",
       "      <th>Oficina de Ventas Unifica</th>\n",
       "      <th>Oficina de Ventas Unifica.1</th>\n",
       "      <th>Subtipo de cliente</th>\n",
       "      <th>Cluster</th>\n",
       "      <th>Cliente - Local</th>\n",
       "      <th>Cliente - Local.1</th>\n",
       "      <th>Mes</th>\n",
       "      <th>Año natural/Semana</th>\n",
       "      <th>Día natural</th>\n",
       "      <th>Día de la semana</th>\n",
       "      <th>Kilos Venta KG</th>\n",
       "      <th>Venta Neta CLP</th>\n",
       "      <th>Precio Promedio CLP</th>\n",
       "      <th>Semana</th>\n",
       "      <th>Año</th>\n",
       "    </tr>\n",
       "  </thead>\n",
       "  <tbody>\n",
       "    <tr>\n",
       "      <th>1020003</th>\n",
       "      <td>Tradicional</td>\n",
       "      <td>Z004</td>\n",
       "      <td>Sur</td>\n",
       "      <td>Temuco</td>\n",
       "      <td>T105</td>\n",
       "      <td>8000480112</td>\n",
       "      <td>Espec. en Crudos</td>\n",
       "      <td>Sin asignar</td>\n",
       "      <td>Castro Muñoz Jose Isaias</td>\n",
       "      <td>3200104287</td>\n",
       "      <td>4</td>\n",
       "      <td>15.2021</td>\n",
       "      <td>2021-04-12</td>\n",
       "      <td>LU</td>\n",
       "      <td>43</td>\n",
       "      <td>182668</td>\n",
       "      <td>4290</td>\n",
       "      <td>15</td>\n",
       "      <td>2021</td>\n",
       "    </tr>\n",
       "    <tr>\n",
       "      <th>1020003</th>\n",
       "      <td>Tradicional</td>\n",
       "      <td>Z004</td>\n",
       "      <td>Sur</td>\n",
       "      <td>Temuco</td>\n",
       "      <td>T105</td>\n",
       "      <td>8000480112</td>\n",
       "      <td>Espec. en Crudos</td>\n",
       "      <td>Sin asignar</td>\n",
       "      <td>Castro Muñoz Jose Isaias</td>\n",
       "      <td>3200104287</td>\n",
       "      <td>4</td>\n",
       "      <td>16.2021</td>\n",
       "      <td>2021-04-21</td>\n",
       "      <td>MI</td>\n",
       "      <td>43</td>\n",
       "      <td>157268</td>\n",
       "      <td>3690</td>\n",
       "      <td>16</td>\n",
       "      <td>2021</td>\n",
       "    </tr>\n",
       "    <tr>\n",
       "      <th>1020003</th>\n",
       "      <td>Tradicional</td>\n",
       "      <td>Z004</td>\n",
       "      <td>Sur</td>\n",
       "      <td>Temuco</td>\n",
       "      <td>T105</td>\n",
       "      <td>8000480112</td>\n",
       "      <td>Espec. en Crudos</td>\n",
       "      <td>Sin asignar</td>\n",
       "      <td>Castro Muñoz Jose Isaias</td>\n",
       "      <td>3200104287</td>\n",
       "      <td>4</td>\n",
       "      <td>17.2021</td>\n",
       "      <td>2021-04-26</td>\n",
       "      <td>LU</td>\n",
       "      <td>20</td>\n",
       "      <td>69393</td>\n",
       "      <td>3390</td>\n",
       "      <td>17</td>\n",
       "      <td>2021</td>\n",
       "    </tr>\n",
       "    <tr>\n",
       "      <th>1020003</th>\n",
       "      <td>Tradicional</td>\n",
       "      <td>Z004</td>\n",
       "      <td>Sur</td>\n",
       "      <td>Temuco</td>\n",
       "      <td>T105</td>\n",
       "      <td>8000480112</td>\n",
       "      <td>Espec. en Crudos</td>\n",
       "      <td>Sin asignar</td>\n",
       "      <td>Castro Muñoz Jose Isaias</td>\n",
       "      <td>3200104287</td>\n",
       "      <td>5</td>\n",
       "      <td>18.2021</td>\n",
       "      <td>2021-05-05</td>\n",
       "      <td>MI</td>\n",
       "      <td>26</td>\n",
       "      <td>94489</td>\n",
       "      <td>3590</td>\n",
       "      <td>18</td>\n",
       "      <td>2021</td>\n",
       "    </tr>\n",
       "    <tr>\n",
       "      <th>1020003</th>\n",
       "      <td>Tradicional</td>\n",
       "      <td>Z004</td>\n",
       "      <td>Sur</td>\n",
       "      <td>Temuco</td>\n",
       "      <td>T105</td>\n",
       "      <td>8000480112</td>\n",
       "      <td>Espec. en Crudos</td>\n",
       "      <td>Sin asignar</td>\n",
       "      <td>Castro Muñoz Jose Isaias</td>\n",
       "      <td>3200104287</td>\n",
       "      <td>5</td>\n",
       "      <td>19.2021</td>\n",
       "      <td>2021-05-10</td>\n",
       "      <td>LU</td>\n",
       "      <td>37</td>\n",
       "      <td>141412</td>\n",
       "      <td>3849</td>\n",
       "      <td>19</td>\n",
       "      <td>2021</td>\n",
       "    </tr>\n",
       "    <tr>\n",
       "      <th>1020003</th>\n",
       "      <td>Tradicional</td>\n",
       "      <td>Z004</td>\n",
       "      <td>Sur</td>\n",
       "      <td>Temuco</td>\n",
       "      <td>T105</td>\n",
       "      <td>8000480112</td>\n",
       "      <td>Espec. en Crudos</td>\n",
       "      <td>Sin asignar</td>\n",
       "      <td>Castro Muñoz Jose Isaias</td>\n",
       "      <td>3200104287</td>\n",
       "      <td>5</td>\n",
       "      <td>19.2021</td>\n",
       "      <td>2021-05-14</td>\n",
       "      <td>VI</td>\n",
       "      <td>20</td>\n",
       "      <td>101463</td>\n",
       "      <td>5058</td>\n",
       "      <td>19</td>\n",
       "      <td>2021</td>\n",
       "    </tr>\n",
       "  </tbody>\n",
       "</table>\n",
       "</div>"
      ],
      "text/plain": [
       "            Material Tipo de cliente Zona de ventas Zona de ventas.1  \\\n",
       "1020003  Tradicional            Z004            Sur           Temuco   \n",
       "1020003  Tradicional            Z004            Sur           Temuco   \n",
       "1020003  Tradicional            Z004            Sur           Temuco   \n",
       "1020003  Tradicional            Z004            Sur           Temuco   \n",
       "1020003  Tradicional            Z004            Sur           Temuco   \n",
       "1020003  Tradicional            Z004            Sur           Temuco   \n",
       "\n",
       "        Oficina de Ventas Unifica Oficina de Ventas Unifica.1  \\\n",
       "1020003                      T105                  8000480112   \n",
       "1020003                      T105                  8000480112   \n",
       "1020003                      T105                  8000480112   \n",
       "1020003                      T105                  8000480112   \n",
       "1020003                      T105                  8000480112   \n",
       "1020003                      T105                  8000480112   \n",
       "\n",
       "        Subtipo de cliente      Cluster           Cliente - Local  \\\n",
       "1020003   Espec. en Crudos  Sin asignar  Castro Muñoz Jose Isaias   \n",
       "1020003   Espec. en Crudos  Sin asignar  Castro Muñoz Jose Isaias   \n",
       "1020003   Espec. en Crudos  Sin asignar  Castro Muñoz Jose Isaias   \n",
       "1020003   Espec. en Crudos  Sin asignar  Castro Muñoz Jose Isaias   \n",
       "1020003   Espec. en Crudos  Sin asignar  Castro Muñoz Jose Isaias   \n",
       "1020003   Espec. en Crudos  Sin asignar  Castro Muñoz Jose Isaias   \n",
       "\n",
       "        Cliente - Local.1 Mes Año natural/Semana Día natural Día de la semana  \\\n",
       "1020003        3200104287   4            15.2021  2021-04-12               LU   \n",
       "1020003        3200104287   4            16.2021  2021-04-21               MI   \n",
       "1020003        3200104287   4            17.2021  2021-04-26               LU   \n",
       "1020003        3200104287   5            18.2021  2021-05-05               MI   \n",
       "1020003        3200104287   5            19.2021  2021-05-10               LU   \n",
       "1020003        3200104287   5            19.2021  2021-05-14               VI   \n",
       "\n",
       "         Kilos Venta KG  Venta Neta CLP  Precio Promedio CLP  Semana   Año  \n",
       "1020003              43          182668                 4290      15  2021  \n",
       "1020003              43          157268                 3690      16  2021  \n",
       "1020003              20           69393                 3390      17  2021  \n",
       "1020003              26           94489                 3590      18  2021  \n",
       "1020003              37          141412                 3849      19  2021  \n",
       "1020003              20          101463                 5058      19  2021  "
      ]
     },
     "execution_count": 34,
     "metadata": {},
     "output_type": "execute_result"
    }
   ],
   "source": [
    "data[data[col_client]==D_Clientes.iloc[0,0]]"
   ]
  },
  {
   "cell_type": "code",
   "execution_count": null,
   "metadata": {},
   "outputs": [],
   "source": [
    "for i in range(len(D_Clientes)):\n",
    "    \n",
    "    X_a=Atributos_cliente(D_Clientes,i)"
   ]
  },
  {
   "cell_type": "markdown",
   "metadata": {},
   "source": [
    "## iPArte iter"
   ]
  },
  {
   "cell_type": "code",
   "execution_count": 35,
   "metadata": {
    "scrolled": true
   },
   "outputs": [],
   "source": [
    "delta_mean=list()\n",
    "skew_delta=list()\n",
    "Lote_mean=list()\n",
    "Lote_cov=list()\n",
    "for i in range(len(D_Clientes)):\n",
    "    X_a=Atributos_cliente(D_Clientes,i)\n",
    "    delta_mean.append(X_a[0])\n",
    "    skew_delta.append(X_a[1])\n",
    "    Lote_mean.append(X_a[2])\n",
    "    Lote_cov.append(X_a[3])"
   ]
  },
  {
   "cell_type": "markdown",
   "metadata": {},
   "source": [
    "# Creación del CSV"
   ]
  },
  {
   "cell_type": "code",
   "execution_count": 36,
   "metadata": {},
   "outputs": [
    {
     "data": {
      "text/html": [
       "<div>\n",
       "<style scoped>\n",
       "    .dataframe tbody tr th:only-of-type {\n",
       "        vertical-align: middle;\n",
       "    }\n",
       "\n",
       "    .dataframe tbody tr th {\n",
       "        vertical-align: top;\n",
       "    }\n",
       "\n",
       "    .dataframe thead th {\n",
       "        text-align: right;\n",
       "    }\n",
       "</style>\n",
       "<table border=\"1\" class=\"dataframe\">\n",
       "  <thead>\n",
       "    <tr style=\"text-align: right;\">\n",
       "      <th></th>\n",
       "      <th>Cliente - Local.1</th>\n",
       "      <th>Frecuencia mes promedio</th>\n",
       "      <th>Delta dia promedio</th>\n",
       "      <th>Skew Delta dia</th>\n",
       "      <th>Kilos Venta promedio</th>\n",
       "      <th>Covarianza del lote</th>\n",
       "    </tr>\n",
       "  </thead>\n",
       "  <tbody>\n",
       "    <tr>\n",
       "      <th>count</th>\n",
       "      <td>329</td>\n",
       "      <td>329.000000</td>\n",
       "      <td>329.000000</td>\n",
       "      <td>329.000000</td>\n",
       "      <td>329.000000</td>\n",
       "      <td>217.000000</td>\n",
       "    </tr>\n",
       "    <tr>\n",
       "      <th>unique</th>\n",
       "      <td>329</td>\n",
       "      <td>NaN</td>\n",
       "      <td>NaN</td>\n",
       "      <td>NaN</td>\n",
       "      <td>NaN</td>\n",
       "      <td>NaN</td>\n",
       "    </tr>\n",
       "    <tr>\n",
       "      <th>top</th>\n",
       "      <td>10343</td>\n",
       "      <td>NaN</td>\n",
       "      <td>NaN</td>\n",
       "      <td>NaN</td>\n",
       "      <td>NaN</td>\n",
       "      <td>NaN</td>\n",
       "    </tr>\n",
       "    <tr>\n",
       "      <th>freq</th>\n",
       "      <td>1</td>\n",
       "      <td>NaN</td>\n",
       "      <td>NaN</td>\n",
       "      <td>NaN</td>\n",
       "      <td>NaN</td>\n",
       "      <td>NaN</td>\n",
       "    </tr>\n",
       "    <tr>\n",
       "      <th>mean</th>\n",
       "      <td>NaN</td>\n",
       "      <td>0.376589</td>\n",
       "      <td>70.733936</td>\n",
       "      <td>0.772455</td>\n",
       "      <td>48.197430</td>\n",
       "      <td>0.470691</td>\n",
       "    </tr>\n",
       "    <tr>\n",
       "      <th>std</th>\n",
       "      <td>NaN</td>\n",
       "      <td>0.680929</td>\n",
       "      <td>145.448230</td>\n",
       "      <td>1.232232</td>\n",
       "      <td>83.263268</td>\n",
       "      <td>0.298213</td>\n",
       "    </tr>\n",
       "    <tr>\n",
       "      <th>min</th>\n",
       "      <td>NaN</td>\n",
       "      <td>0.020000</td>\n",
       "      <td>0.000000</td>\n",
       "      <td>-0.707107</td>\n",
       "      <td>13.000000</td>\n",
       "      <td>0.000000</td>\n",
       "    </tr>\n",
       "    <tr>\n",
       "      <th>25%</th>\n",
       "      <td>NaN</td>\n",
       "      <td>0.071429</td>\n",
       "      <td>0.000000</td>\n",
       "      <td>0.000000</td>\n",
       "      <td>21.000000</td>\n",
       "      <td>0.257130</td>\n",
       "    </tr>\n",
       "    <tr>\n",
       "      <th>50%</th>\n",
       "      <td>NaN</td>\n",
       "      <td>0.166667</td>\n",
       "      <td>21.000000</td>\n",
       "      <td>0.000000</td>\n",
       "      <td>26.000000</td>\n",
       "      <td>0.430393</td>\n",
       "    </tr>\n",
       "    <tr>\n",
       "      <th>75%</th>\n",
       "      <td>NaN</td>\n",
       "      <td>0.404762</td>\n",
       "      <td>69.818182</td>\n",
       "      <td>1.448811</td>\n",
       "      <td>42.611111</td>\n",
       "      <td>0.610082</td>\n",
       "    </tr>\n",
       "    <tr>\n",
       "      <th>max</th>\n",
       "      <td>NaN</td>\n",
       "      <td>5.775510</td>\n",
       "      <td>1155.000000</td>\n",
       "      <td>6.205040</td>\n",
       "      <td>981.000000</td>\n",
       "      <td>1.564082</td>\n",
       "    </tr>\n",
       "  </tbody>\n",
       "</table>\n",
       "</div>"
      ],
      "text/plain": [
       "       Cliente - Local.1  Frecuencia mes promedio  Delta dia promedio  \\\n",
       "count                329               329.000000          329.000000   \n",
       "unique               329                      NaN                 NaN   \n",
       "top                10343                      NaN                 NaN   \n",
       "freq                   1                      NaN                 NaN   \n",
       "mean                 NaN                 0.376589           70.733936   \n",
       "std                  NaN                 0.680929          145.448230   \n",
       "min                  NaN                 0.020000            0.000000   \n",
       "25%                  NaN                 0.071429            0.000000   \n",
       "50%                  NaN                 0.166667           21.000000   \n",
       "75%                  NaN                 0.404762           69.818182   \n",
       "max                  NaN                 5.775510         1155.000000   \n",
       "\n",
       "        Skew Delta dia  Kilos Venta promedio  Covarianza del lote  \n",
       "count       329.000000            329.000000           217.000000  \n",
       "unique             NaN                   NaN                  NaN  \n",
       "top                NaN                   NaN                  NaN  \n",
       "freq               NaN                   NaN                  NaN  \n",
       "mean          0.772455             48.197430             0.470691  \n",
       "std           1.232232             83.263268             0.298213  \n",
       "min          -0.707107             13.000000             0.000000  \n",
       "25%           0.000000             21.000000             0.257130  \n",
       "50%           0.000000             26.000000             0.430393  \n",
       "75%           1.448811             42.611111             0.610082  \n",
       "max           6.205040            981.000000             1.564082  "
      ]
     },
     "execution_count": 36,
     "metadata": {},
     "output_type": "execute_result"
    }
   ],
   "source": [
    "df_clientes=pd.DataFrame({col_client:D_Clientes[col_client],\n",
    "                          'Frecuencia mes promedio':Client_frec\n",
    "                          ,'Delta dia promedio':delta_mean\n",
    "                          ,'Skew Delta dia':skew_delta\n",
    "                          ,'Kilos Venta promedio':Lote_mean\n",
    "                          ,'Covarianza del lote':Lote_cov\n",
    "                         })\n",
    "df_clientes.describe(include='all')"
   ]
  },
  {
   "cell_type": "code",
   "execution_count": 37,
   "metadata": {},
   "outputs": [],
   "source": [
    "file_name='Atrib_cleinte_2017_20202.csv'\n",
    "df_clientes.to_csv(file_name, sep=';', encoding='utf-8', index=False)"
   ]
  },
  {
   "cell_type": "code",
   "execution_count": 38,
   "metadata": {},
   "outputs": [],
   "source": [
    "a=(ggplot(Pedidos, aes(x=(Pedidos.index),y='Pedido Kg'\n",
    "                 ))\\\n",
    "+ geom_point(aes(color='delta'),alpha=0.4) +geom_smooth())\n",
    "\n",
    "\n",
    "b=(ggplot(Pedidos, aes(x=('delta'),y='Pedido Kg'\n",
    "                 ))\\\n",
    "+ geom_point(alpha=0.4) +geom_smooth())\n",
    "b\n",
    "\n",
    "dfx=Pedidos.copy()\n",
    "dfx.delta=dfx.delta.astype('category')\n",
    "c=(\n",
    "    ggplot(dfx, aes(x=('delta'),y='Pedido Kg'\n",
    "                 ))\\\n",
    "+ geom_boxplot(alpha=0.4) )"
   ]
  },
  {
   "cell_type": "code",
   "execution_count": 39,
   "metadata": {},
   "outputs": [
    {
     "name": "stderr",
     "output_type": "stream",
     "text": [
      "C:\\Users\\user\\anaconda3\\envs\\Clustering\\lib\\site-packages\\plotnine\\stats\\smoothers.py:310: PlotnineWarning: Confidence intervals are not yet implementedfor lowess smoothings.\n"
     ]
    },
    {
     "data": {
      "image/png": "[encoded data removed]",
      "text/plain": [
       "<Figure size 640x480 with 1 Axes>"
      ]
     },
     "metadata": {},
     "output_type": "display_data"
    },
    {
     "data": {
      "text/plain": [
       "<ggplot: (197636452093)>"
      ]
     },
     "execution_count": 39,
     "metadata": {},
     "output_type": "execute_result"
    }
   ],
   "source": [
    "a"
   ]
  },
  {
   "cell_type": "code",
   "execution_count": 40,
   "metadata": {},
   "outputs": [
    {
     "name": "stderr",
     "output_type": "stream",
     "text": [
      "C:\\Users\\user\\anaconda3\\envs\\Clustering\\lib\\site-packages\\plotnine\\stats\\smoothers.py:310: PlotnineWarning: Confidence intervals are not yet implementedfor lowess smoothings.\n",
      "C:\\Users\\user\\anaconda3\\envs\\Clustering\\lib\\site-packages\\plotnine\\layer.py:401: PlotnineWarning: geom_smooth : Removed 5 rows containing missing values.\n"
     ]
    },
    {
     "data": {
      "image/png": "[encoded data removed]",
      "text/plain": [
       "<Figure size 640x480 with 1 Axes>"
      ]
     },
     "metadata": {},
     "output_type": "display_data"
    },
    {
     "data": {
      "text/plain": [
       "<ggplot: (197636450292)>"
      ]
     },
     "execution_count": 40,
     "metadata": {},
     "output_type": "execute_result"
    }
   ],
   "source": [
    "b"
   ]
  },
  {
   "cell_type": "code",
   "execution_count": 41,
   "metadata": {},
   "outputs": [
    {
     "data": {
      "image/png": "[encoded data removed]",
      "text/plain": [
       "<Figure size 640x480 with 1 Axes>"
      ]
     },
     "metadata": {},
     "output_type": "display_data"
    },
    {
     "data": {
      "text/plain": [
       "<ggplot: (197636461165)>"
      ]
     },
     "execution_count": 41,
     "metadata": {},
     "output_type": "execute_result"
    }
   ],
   "source": [
    "c"
   ]
  }
 ],
 "metadata": {
  "kernelspec": {
   "display_name": "Python 3",
   "language": "python",
   "name": "python3"
  },
  "language_info": {
   "codemirror_mode": {
    "name": "ipython",
    "version": 3
   },
   "file_extension": ".py",
   "mimetype": "text/x-python",
   "name": "python",
   "nbconvert_exporter": "python",
   "pygments_lexer": "ipython3",
   "version": "3.8.10"
  },
  "toc": {
   "base_numbering": 1,
   "nav_menu": {},
   "number_sections": true,
   "sideBar": true,
   "skip_h1_title": false,
   "title_cell": "Table of Contents",
   "title_sidebar": "Contents",
   "toc_cell": false,
   "toc_position": {
    "height": "calc(100% - 180px)",
    "left": "10px",
    "top": "150px",
    "width": "219.276px"
   },
   "toc_section_display": true,
   "toc_window_display": true
  }
 },
 "nbformat": 4,
 "nbformat_minor": 2
}
